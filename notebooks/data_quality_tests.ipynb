{
 "cells": [
  {
   "cell_type": "markdown",
   "metadata": {},
   "source": [
    "## Environment Preparation\n",
    "\n",
    "* Load the SDK code from the local package directory\n",
    "* Load the API key and secret in the .env file"
   ]
  },
  {
   "cell_type": "code",
   "execution_count": 1,
   "metadata": {},
   "outputs": [],
   "source": [
    "# Quick hack to load local SDK code\n",
    "import os\n",
    "\n",
    "os.chdir(os.path.join(os.getcwd(), \"..\"))"
   ]
  },
  {
   "cell_type": "code",
   "execution_count": 2,
   "metadata": {},
   "outputs": [
    {
     "data": {
      "text/plain": [
       "True"
      ]
     },
     "execution_count": 2,
     "metadata": {},
     "output_type": "execute_result"
    }
   ],
   "source": [
    "# Load API key and secret from environment variables\n",
    "from dotenv import load_dotenv\n",
    "load_dotenv()"
   ]
  },
  {
   "cell_type": "markdown",
   "metadata": {},
   "source": [
    "## ValidMind SDK Data Quality Tests"
   ]
  },
  {
   "cell_type": "code",
   "execution_count": 3,
   "metadata": {},
   "outputs": [
    {
     "data": {
      "text/plain": [
       "True"
      ]
     },
     "execution_count": 3,
     "metadata": {},
     "output_type": "execute_result"
    }
   ],
   "source": [
    "import pandas as pd\n",
    "import validmind as vm\n",
    "\n",
    "vm.init(project=\"cl2r3k1ri000009jweny7ba1g\")"
   ]
  },
  {
   "cell_type": "code",
   "execution_count": 4,
   "metadata": {},
   "outputs": [],
   "source": [
    "df = pd.read_csv(\"notebooks/datasets/bank_customer_churn.csv\")"
   ]
  },
  {
   "cell_type": "code",
   "execution_count": 5,
   "metadata": {},
   "outputs": [],
   "source": [
    "results = vm.run_tests(df)"
   ]
  },
  {
   "cell_type": "code",
   "execution_count": 6,
   "metadata": {},
   "outputs": [
    {
     "name": "stdout",
     "output_type": "stream",
     "text": [
      "{\"category\": \"data_quality\", \"test_name\": \"cardinality\", \"params\": {\"num_threshold\": 100, \"percent_threshold\": 0.1, \"threshold_type\": \"percent\"}, \"passed\": false, \"results\": [{\"column\": \"RowNumber\", \"passed\": false, \"values\": {\"n_distinct\": 8000, \"p_distinct\": 1.0}}, {\"column\": \"CustomerId\", \"passed\": false, \"values\": {\"n_distinct\": 8000, \"p_distinct\": 1.0}}, {\"column\": \"Surname\", \"passed\": false, \"values\": {\"n_distinct\": 2616, \"p_distinct\": 0.327}}, {\"column\": \"CreditScore\", \"passed\": true, \"values\": {\"n_distinct\": 452, \"p_distinct\": 0.0565}}, {\"column\": \"Geography\", \"passed\": true, \"values\": {\"n_distinct\": 3, \"p_distinct\": 0.000375}}, {\"column\": \"Gender\", \"passed\": true, \"values\": {\"n_distinct\": 2, \"p_distinct\": 0.00025}}, {\"column\": \"Age\", \"passed\": true, \"values\": {\"n_distinct\": 69, \"p_distinct\": 0.008625}}, {\"column\": \"Tenure\", \"passed\": true, \"values\": {\"n_distinct\": 11, \"p_distinct\": 0.001375}}, {\"column\": \"Balance\", \"passed\": false, \"values\": {\"n_distinct\": 5088, \"p_distinct\": 0.636}}, {\"column\": \"NumOfProducts\", \"passed\": true, \"values\": {\"n_distinct\": 4, \"p_distinct\": 0.0005}}, {\"column\": \"HasCrCard\", \"passed\": true, \"values\": {\"n_distinct\": 2, \"p_distinct\": 0.00025}}, {\"column\": \"IsActiveMember\", \"passed\": true, \"values\": {\"n_distinct\": 2, \"p_distinct\": 0.00025}}, {\"column\": \"EstimatedSalary\", \"passed\": false, \"values\": {\"n_distinct\": 8000, \"p_distinct\": 1.0}}, {\"column\": \"Exited\", \"passed\": true, \"values\": {\"n_distinct\": 2, \"p_distinct\": 0.00025}}]}\n",
      "{\"category\": \"data_quality\", \"test_name\": \"duplicates\", \"params\": {\"min_threshold\": 1}, \"passed\": true, \"results\": [{\"column\": null, \"passed\": null, \"values\": {\"n_duplicates\": 0, \"p_duplicates\": 0.0}}]}\n",
      "{\"category\": \"data_quality\", \"test_name\": \"pearson_correlation\", \"params\": {\"max_threshold\": 0.3}, \"passed\": false, \"results\": [{\"column\": \"Age\", \"passed\": null, \"values\": {\"correlations\": [{\"column\": \"Exited\", \"correlation\": 0.3197682709373692}]}}, {\"column\": \"Balance\", \"passed\": null, \"values\": {\"correlations\": [{\"column\": \"NumOfProducts\", \"correlation\": -0.31599055964433065}]}}]}\n"
     ]
    },
    {
     "data": {
      "text/plain": [
       "[None, None, None]"
      ]
     },
     "execution_count": 6,
     "metadata": {},
     "output_type": "execute_result"
    }
   ],
   "source": [
    "[print(result.json()) for result in results]"
   ]
  }
 ],
 "metadata": {
  "interpreter": {
   "hash": "e673a474f5e5c69884c79b5bbf26bd3f43f29ea8e4fba12a1f063946fe17172c"
  },
  "kernelspec": {
   "display_name": "Python 3.8.6 ('validmind-sdk-Jp3s24zK-py3.8')",
   "language": "python",
   "name": "python3"
  },
  "language_info": {
   "codemirror_mode": {
    "name": "ipython",
    "version": 3
   },
   "file_extension": ".py",
   "mimetype": "text/x-python",
   "name": "python",
   "nbconvert_exporter": "python",
   "pygments_lexer": "ipython3",
   "version": "3.8.6"
  },
  "orig_nbformat": 4
 },
 "nbformat": 4,
 "nbformat_minor": 2
}
