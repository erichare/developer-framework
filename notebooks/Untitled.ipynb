{
 "cells": [
  {
   "cell_type": "code",
   "execution_count": 1,
   "id": "5d92a500",
   "metadata": {},
   "outputs": [
    {
     "name": "stderr",
     "output_type": "stream",
     "text": [
      "2023-05-31 13:35:01,909 - INFO - api_client - Connected to ValidMind. Project: Test Project (cliaf7ag40000e9mzfxrwg0ka)\n"
     ]
    }
   ],
   "source": [
    "%load_ext dotenv\n",
    "%dotenv .env\n",
    "\n",
    "import validmind as vm\n",
    "\n",
    "vm.init(api_host=\"http://localhost:3000/api/v1/tracking\", project=\"cliaf7ag40000e9mzfxrwg0ka\")"
   ]
  },
  {
   "cell_type": "code",
   "execution_count": 8,
   "id": "c7320625",
   "metadata": {},
   "outputs": [],
   "source": [
    "base_template = vm.client_config.client_config.documentation_template[\"base_template\"]"
   ]
  },
  {
   "cell_type": "code",
   "execution_count": 124,
   "id": "600e6a5d",
   "metadata": {
    "scrolled": false
   },
   "outputs": [
    {
     "data": {
      "application/vnd.jupyter.widget-view+json": {
       "model_id": "3e0f2dcdcfe242dc9af5b48718159fe2",
       "version_major": 2,
       "version_minor": 0
      },
      "text/plain": [
       "Accordion(children=(VBox(children=(VBox(children=(HTML(value='ID: model_overview'),)), VBox(children=(HTML(val…"
      ]
     },
     "metadata": {},
     "output_type": "display_data"
    }
   ],
   "source": [
    "import json\n",
    "from ipywidgets import Accordion, HTML, VBox\n",
    "from IPython.display import display\n",
    "\n",
    "\n",
    "def create_content_widget(content):\n",
    "    if content['content_type'] == 'metadata_text':\n",
    "#         return Markdown(content['options']['default_text'])\n",
    "        return HTML(\"<i>metadata</i>\")\n",
    "    elif content['content_type'] == 'dynamic':\n",
    "        return HTML(f\"<em>Dynamic content: {content['content_id']}</em>\")\n",
    "    elif content['content_type'] == 'test':\n",
    "        return HTML(f\"<strong>Test: {content['content_id']}</strong>\")\n",
    "    else:\n",
    "        return HTML(str(content))\n",
    "\n",
    "\n",
    "def create_sub_section_widget(sections):\n",
    "    widgets = []\n",
    "    for section in sections:\n",
    "        section_widgets = [HTML(f\"ID: {section['id']}\")]\n",
    "\n",
    "        if section[\"sections\"]:\n",
    "            section_widgets.append(create_section_widget(section[\"sections\"]))\n",
    "\n",
    "        for content in section.get(\"contents\", []):\n",
    "            section_widgets.append(create_content_widget(content))\n",
    "\n",
    "        widgets.append(VBox(section_widgets))\n",
    "\n",
    "    return VBox(widgets)\n",
    "\n",
    "def create_section_widget(tree):\n",
    "    widget = Accordion()\n",
    "    for i, section in enumerate(tree):\n",
    "        widget.children = (*widget.children, create_sub_section_widget(section[\"sections\"]))\n",
    "        widget.set_title(i, section[\"title\"])\n",
    "    return widget\n",
    "\n",
    "\n",
    "def convert_sections_to_section_tree(sections, parent_id=\"_root_\"):\n",
    "    section_tree = []\n",
    "\n",
    "    for section in sections:\n",
    "        section_parent_id = section.get(\"parent_section\", \"_root_\")\n",
    "        if section_parent_id == parent_id:\n",
    "            child_sections = convert_sections_to_section_tree(sections, section[\"id\"])\n",
    "            section_tree.append({**section, \"sections\": child_sections})\n",
    "\n",
    "    return sorted(section_tree, key=lambda x: x['order'])\n",
    "\n",
    "\n",
    "def display_template_preview(sections):\n",
    "    section_tree = convert_sections_to_section_tree(sections)\n",
    "    template = create_section_widget(section_tree)\n",
    "\n",
    "    display(template)\n",
    "\n",
    "\n",
    "display_template_preview(base_template[\"template\"][\"sections\"])"
   ]
  }
 ],
 "metadata": {
  "kernelspec": {
   "display_name": "Python 3 (ipykernel)",
   "language": "python",
   "name": "python3"
  },
  "language_info": {
   "codemirror_mode": {
    "name": "ipython",
    "version": 3
   },
   "file_extension": ".py",
   "mimetype": "text/x-python",
   "name": "python",
   "nbconvert_exporter": "python",
   "pygments_lexer": "ipython3",
   "version": "3.9.16"
  }
 },
 "nbformat": 4,
 "nbformat_minor": 5
}
