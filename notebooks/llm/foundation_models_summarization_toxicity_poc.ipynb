{
 "cells": [
  {
   "attachments": {},
   "cell_type": "markdown",
   "metadata": {},
   "source": [
    "# Summarization of financial data using a Large Language Model (LLM)\n",
    "\n",
    "This notebook aims to provide an introduction to documenting an LLM using the ValidMind Developer Framework. The use case presented is a summarization of financial news (https://huggingface.co/datasets/cnn_dailymail).\n",
    "\n",
    "- Initializing the ValidMind Developer Framework\n",
    "- Running a test various tests to quickly generate documentation about the data and model\n",
    "\n",
    "## Before you begin\n",
    "\n",
    "To use the ValidMind Developer Framework with a Jupyter notebook, you need to install and initialize the client library first, along with getting your Python environment ready.\n",
    "\n",
    "If you don't already have one, you should also [create a documentation project](https://docs.validmind.ai/guide/create-your-first-documentation-project.html) on the ValidMind platform. You will use this project to upload your documentation and test results.\n",
    "\n",
    "## Install the client library"
   ]
  },
  {
   "cell_type": "code",
   "execution_count": 1,
   "metadata": {},
   "outputs": [
    {
     "name": "stdout",
     "output_type": "stream",
     "text": [
      "Note: you may need to restart the kernel to use updated packages.\n"
     ]
    }
   ],
   "source": [
    "%pip install -q validmind"
   ]
  },
  {
   "attachments": {},
   "cell_type": "markdown",
   "metadata": {},
   "source": [
    "## Initialize the client library\n",
    "\n",
    "In a browser, go to the **Client Integration** page of your documentation project and click **Copy to clipboard** next to the code snippet. This code snippet gives you the API key, API secret, and project identifier to link your notebook to your documentation project.\n",
    "\n",
    "::: {.column-margin}\n",
    "::: {.callout-tip}\n",
    "This step requires a documentation project. [Learn how you can create one](https://docs.validmind.ai/guide/create-your-first-documentation-project.html).\n",
    ":::\n",
    ":::\n",
    "\n",
    "Next, replace this placeholder with your own code snippet:"
   ]
  },
  {
   "cell_type": "code",
   "execution_count": 2,
   "metadata": {},
   "outputs": [
    {
     "name": "stderr",
     "output_type": "stream",
     "text": [
      "2023-10-05 21:29:45,065 - INFO(validmind.api_client): Connected to ValidMind. Project: [12] Credit Risk Scorecard - Initial Validation (clmotr3oa000aesy6c54wqb6g)\n"
     ]
    }
   ],
   "source": [
    "import validmind as vm\n",
    "\n",
    "vm.init(\n",
    "  api_host = \"http://localhost:3000/api/v1/tracking\",\n",
    "  api_key = \"2494c3838f48efe590d531bfe225d90b\",\n",
    "  api_secret = \"4f692f8161f128414fef542cab2a4e74834c75d01b3a8e088a1834f2afcfe838\",\n",
    "  project = \"clmotr3oa000aesy6c54wqb6g\"\n",
    ")"
   ]
  },
  {
   "attachments": {},
   "cell_type": "markdown",
   "metadata": {},
   "source": [
    "## Helper functions\n",
    "\n",
    "Let's define the following functions to help visualize datasets with long text fields."
   ]
  },
  {
   "cell_type": "code",
   "execution_count": 3,
   "metadata": {},
   "outputs": [],
   "source": [
    "import textwrap\n",
    "\n",
    "from IPython.display import display, HTML\n",
    "from tabulate import tabulate\n",
    "\n",
    "def _format_cell_text(text, width=50):  \n",
    "    \"\"\"Private function to format a cell's text.\"\"\"\n",
    "    return '\\n'.join([textwrap.fill(line, width=width) for line in text.split('\\n')])\n",
    "\n",
    "def _format_dataframe_for_tabulate(df):\n",
    "    \"\"\"Private function to format the entire DataFrame for tabulation.\"\"\"\n",
    "    df_out = df.copy()\n",
    "    \n",
    "    # Format all string columns\n",
    "    for column in df_out.columns:\n",
    "        if df_out[column].dtype == object:  # Check if column is of type object (likely strings)\n",
    "            df_out[column] = df_out[column].apply(_format_cell_text)\n",
    "    return df_out\n",
    "\n",
    "def _dataframe_to_html_table(df):\n",
    "    \"\"\"Private function to convert a DataFrame to an HTML table.\"\"\"\n",
    "    headers = df.columns.tolist()\n",
    "    table_data = df.values.tolist()\n",
    "    return tabulate(table_data, headers=headers, tablefmt=\"html\")\n",
    "\n",
    "def display_formatted_dataframe(df, num_rows=None):\n",
    "    \"\"\"Primary function to format and display a DataFrame.\"\"\"\n",
    "    if num_rows is not None:\n",
    "        df = df.head(num_rows)\n",
    "    formatted_df = _format_dataframe_for_tabulate(df)\n",
    "    html_table = _dataframe_to_html_table(formatted_df)\n",
    "    display(HTML(html_table))"
   ]
  },
  {
   "attachments": {},
   "cell_type": "markdown",
   "metadata": {},
   "source": [
    "## Load data"
   ]
  },
  {
   "attachments": {},
   "cell_type": "markdown",
   "metadata": {},
   "source": [
    "### CNN dataset\n",
    "\n",
    "The CNN / DailyMail Dataset is an English-language dataset containing just over 300k unique news articles as written by journalists at CNN and the Daily Mail. The current version supports both extractive and abstractive summarization, though the original version was created for machine reading and comprehension and abstractive question answering."
   ]
  },
  {
   "cell_type": "code",
   "execution_count": 4,
   "metadata": {},
   "outputs": [],
   "source": [
    "from datasets import load_dataset\n",
    "\n",
    "cnn_dataset = load_dataset('cnn_dailymail', '3.0.0')\n",
    "\n",
    "train_df = cnn_dataset.data['train'].to_pandas()\n",
    "test_df = cnn_dataset.data['test'].to_pandas()\n",
    "val_df = cnn_dataset.data['validation'].to_pandas()\n",
    "\n",
    "train_df = train_df[['article','highlights']]\n",
    "test_df = test_df[['article','highlights']]\n",
    "\n",
    "train_df = train_df.head(5)\n",
    "test_df = test_df.head(5)"
   ]
  },
  {
   "cell_type": "code",
   "execution_count": 5,
   "metadata": {},
   "outputs": [
    {
     "data": {
      "text/html": [
       "<table>\n",
       "<thead>\n",
       "<tr><th>article  </th><th>highlights  </th></tr>\n",
       "</thead>\n",
       "<tbody>\n",
       "<tr><td>LONDON, England (Reuters) -- Harry Potter star\n",
       "Daniel Radcliffe gains access to a reported £20\n",
       "million ($41.1 million) fortune as he turns 18 on\n",
       "Monday, but he insists the money won&#x27;t cast a\n",
       "spell on him. Daniel Radcliffe as Harry Potter in\n",
       "&quot;Harry Potter and the Order of the Phoenix&quot; To the\n",
       "disappointment of gossip columnists around the\n",
       "world, the young actor says he has no plans to\n",
       "fritter his cash away on fast cars, drink and\n",
       "celebrity parties. &quot;I don&#x27;t plan to be one of\n",
       "those people who, as soon as they turn 18,\n",
       "suddenly buy themselves a massive sports car\n",
       "collection or something similar,&quot; he told an\n",
       "Australian interviewer earlier this month. &quot;I\n",
       "don&#x27;t think I&#x27;ll be particularly extravagant. &quot;The\n",
       "things I like buying are things that cost about 10\n",
       "pounds -- books and CDs and DVDs.&quot; At 18,\n",
       "Radcliffe will be able to gamble in a casino, buy\n",
       "a drink in a pub or see the horror film &quot;Hostel:\n",
       "Part II,&quot; currently six places below his number\n",
       "one movie on the UK box office chart. Details of\n",
       "how he&#x27;ll mark his landmark birthday are under\n",
       "wraps. His agent and publicist had no comment on\n",
       "his plans. &quot;I&#x27;ll definitely have some sort of\n",
       "party,&quot; he said in an interview. &quot;Hopefully none\n",
       "of you will be reading about it.&quot; Radcliffe&#x27;s\n",
       "earnings from the first five Potter films have\n",
       "been held in a trust fund which he has not been\n",
       "able to touch. Despite his growing fame and\n",
       "riches, the actor says he is keeping his feet\n",
       "firmly on the ground. &quot;People are always looking\n",
       "to say &#x27;kid star goes off the rails,&#x27;&quot; he told\n",
       "reporters last month. &quot;But I try very hard not to\n",
       "go that way because it would be too easy for\n",
       "them.&quot; His latest outing as the boy wizard in\n",
       "&quot;Harry Potter and the Order of the Phoenix&quot; is\n",
       "breaking records on both sides of the Atlantic and\n",
       "he will reprise the role in the last two films.\n",
       "Watch I-Reporter give her review of Potter&#x27;s\n",
       "latest » . There is life beyond Potter, however.\n",
       "The Londoner has filmed a TV movie called &quot;My Boy\n",
       "Jack,&quot; about author Rudyard Kipling and his son,\n",
       "due for release later this year. He will also\n",
       "appear in &quot;December Boys,&quot; an Australian film\n",
       "about four boys who escape an orphanage. Earlier\n",
       "this year, he made his stage debut playing a\n",
       "tortured teenager in Peter Shaffer&#x27;s &quot;Equus.&quot;\n",
       "Meanwhile, he is braced for even closer media\n",
       "scrutiny now that he&#x27;s legally an adult: &quot;I just\n",
       "think I&#x27;m going to be more sort of fair game,&quot; he\n",
       "told Reuters. E-mail to a friend . Copyright 2007\n",
       "Reuters. All rights reserved.This material may not\n",
       "be published, broadcast, rewritten, or\n",
       "redistributed.          </td><td>Harry Potter star Daniel Radcliffe gets £20M\n",
       "fortune as he turns 18 Monday .\n",
       "Young actor says he has no plans to fritter his\n",
       "cash away .\n",
       "Radcliffe&#x27;s earnings from first five Potter films\n",
       "have been held in trust fund .             </td></tr>\n",
       "<tr><td>Editor&#x27;s note: In our Behind the Scenes series,\n",
       "CNN correspondents share their experiences in\n",
       "covering news and analyze the stories behind the\n",
       "events. Here, Soledad O&#x27;Brien takes users inside a\n",
       "jail where many of the inmates are mentally ill.\n",
       "An inmate housed on the &quot;forgotten floor,&quot; where\n",
       "many mentally ill inmates are housed in Miami\n",
       "before trial. MIAMI, Florida (CNN) -- The ninth\n",
       "floor of the Miami-Dade pretrial detention\n",
       "facility is dubbed the &quot;forgotten floor.&quot; Here,\n",
       "inmates with the most severe mental illnesses are\n",
       "incarcerated until they&#x27;re ready to appear in\n",
       "court. Most often, they face drug charges or\n",
       "charges of assaulting an officer --charges that\n",
       "Judge Steven Leifman says are usually &quot;avoidable\n",
       "felonies.&quot; He says the arrests often result from\n",
       "confrontations with police. Mentally ill people\n",
       "often won&#x27;t do what they&#x27;re told when police\n",
       "arrive on the scene -- confrontation seems to\n",
       "exacerbate their illness and they become more\n",
       "paranoid, delusional, and less likely to follow\n",
       "directions, according to Leifman. So, they end up\n",
       "on the ninth floor severely mentally disturbed,\n",
       "but not getting any real help because they&#x27;re in\n",
       "jail. We toured the jail with Leifman. He is well\n",
       "known in Miami as an advocate for justice and the\n",
       "mentally ill. Even though we were not exactly\n",
       "welcomed with open arms by the guards, we were\n",
       "given permission to shoot videotape and tour the\n",
       "floor.  Go inside the &#x27;forgotten floor&#x27; » . At\n",
       "first, it&#x27;s hard to determine where the people\n",
       "are. The prisoners are wearing sleeveless robes.\n",
       "Imagine cutting holes for arms and feet in a heavy\n",
       "wool sleeping bag -- that&#x27;s kind of what they look\n",
       "like. They&#x27;re designed to keep the mentally ill\n",
       "patients from injuring themselves. That&#x27;s also why\n",
       "they have no shoes, laces or mattresses. Leifman\n",
       "says about one-third of all people in Miami-Dade\n",
       "county jails are mentally ill. So, he says, the\n",
       "sheer volume is overwhelming the system, and the\n",
       "result is what we see on the ninth floor. Of\n",
       "course, it is a jail, so it&#x27;s not supposed to be\n",
       "warm and comforting, but the lights glare, the\n",
       "cells are tiny and it&#x27;s loud. We see two,\n",
       "sometimes three men -- sometimes in the robes,\n",
       "sometimes naked, lying or sitting in their cells.\n",
       "&quot;I am the son of the president. You need to get me\n",
       "out of here!&quot; one man shouts at me. He is\n",
       "absolutely serious, convinced that help is on the\n",
       "way -- if only he could reach the White House.\n",
       "Leifman tells me that these prisoner-patients will\n",
       "often circulate through the system, occasionally\n",
       "stabilizing in a mental hospital, only to return\n",
       "to jail to face their charges. It&#x27;s brutally\n",
       "unjust, in his mind, and he has become a strong\n",
       "advocate for changing things in Miami. Over a meal\n",
       "later, we talk about how things got this way for\n",
       "mental patients. Leifman says 200 years ago people\n",
       "were considered &quot;lunatics&quot; and they were locked up\n",
       "in jails even if they had no charges against them.\n",
       "They were just considered unfit to be in society.\n",
       "Over the years, he says, there was some public\n",
       "outcry, and the mentally ill were moved out of\n",
       "jails and into hospitals. But Leifman says many of\n",
       "these mental hospitals were so horrible they were\n",
       "shut down. Where did the patients go? Nowhere. The\n",
       "streets. They became, in many cases, the homeless,\n",
       "he says. They never got treatment. Leifman says in\n",
       "1955 there were more than half a million people in\n",
       "state mental hospitals, and today that number has\n",
       "been reduced 90 percent, and 40,000 to 50,000\n",
       "people are in mental hospitals. The judge says\n",
       "he&#x27;s working to change this. Starting in 2008,\n",
       "many inmates who would otherwise have been brought\n",
       "to the &quot;forgotten floor&quot;  will instead be sent to\n",
       "a new mental health facility -- the first step on\n",
       "a journey toward long-term treatment, not just\n",
       "punishment. Leifman says it&#x27;s not the complete\n",
       "answer, but it&#x27;s a start. Leifman says the best\n",
       "part is that it&#x27;s a win-win solution. The patients\n",
       "win, the families are relieved, and the state\n",
       "saves money by simply not cycling these prisoners\n",
       "through again and again. And, for Leifman, justice\n",
       "is served. E-mail to a friend .          </td><td>Mentally ill inmates in Miami are housed on the\n",
       "&quot;forgotten floor&quot;\n",
       "Judge Steven Leifman says most are there as a\n",
       "result of &quot;avoidable felonies&quot;\n",
       "While CNN tours facility, patient shouts: &quot;I am\n",
       "the son of the president&quot;\n",
       "Leifman says the system is unjust and he&#x27;s\n",
       "fighting for change .             </td></tr>\n",
       "</tbody>\n",
       "</table>"
      ],
      "text/plain": [
       "<IPython.core.display.HTML object>"
      ]
     },
     "metadata": {},
     "output_type": "display_data"
    }
   ],
   "source": [
    "display_formatted_dataframe(train_df, num_rows=2)"
   ]
  },
  {
   "cell_type": "code",
   "execution_count": 6,
   "metadata": {},
   "outputs": [
    {
     "data": {
      "text/html": [
       "<table>\n",
       "<thead>\n",
       "<tr><th>article  </th><th>highlights  </th></tr>\n",
       "</thead>\n",
       "<tbody>\n",
       "<tr><td>(CNN)The Palestinian Authority officially became\n",
       "the 123rd member of the International Criminal\n",
       "Court on Wednesday, a step that gives the court\n",
       "jurisdiction over alleged crimes in Palestinian\n",
       "territories. The formal accession was marked with\n",
       "a ceremony at The Hague, in the Netherlands, where\n",
       "the court is based. The Palestinians signed the\n",
       "ICC&#x27;s founding Rome Statute in January, when they\n",
       "also accepted its jurisdiction over alleged crimes\n",
       "committed &quot;in the occupied Palestinian territory,\n",
       "including East Jerusalem, since June 13, 2014.&quot;\n",
       "Later that month, the ICC opened a preliminary\n",
       "examination into the situation in Palestinian\n",
       "territories, paving the way for possible war\n",
       "crimes investigations against Israelis. As members\n",
       "of the court, Palestinians may be subject to\n",
       "counter-charges as well. Israel and the United\n",
       "States, neither of which is an ICC member, opposed\n",
       "the Palestinians&#x27; efforts to join the body. But\n",
       "Palestinian Foreign Minister Riad al-Malki,\n",
       "speaking at Wednesday&#x27;s ceremony, said it was a\n",
       "move toward greater justice. &quot;As Palestine\n",
       "formally becomes a State Party to the Rome Statute\n",
       "today, the world is also a step closer to ending a\n",
       "long era of impunity and injustice,&quot; he said,\n",
       "according to an ICC news release. &quot;Indeed, today\n",
       "brings us closer to our shared goals of justice\n",
       "and peace.&quot; Judge Kuniko Ozaki, a vice president\n",
       "of the ICC, said acceding to the treaty was just\n",
       "the first step for the Palestinians. &quot;As the Rome\n",
       "Statute today enters into force for the State of\n",
       "Palestine, Palestine acquires all the rights as\n",
       "well as responsibilities that come with being a\n",
       "State Party to the Statute. These are substantive\n",
       "commitments, which cannot be taken lightly,&quot; she\n",
       "said. Rights group Human Rights Watch welcomed the\n",
       "development. &quot;Governments seeking to penalize\n",
       "Palestine for joining the ICC should immediately\n",
       "end their pressure, and countries that support\n",
       "universal acceptance of the court&#x27;s treaty should\n",
       "speak out to welcome its membership,&quot; said Balkees\n",
       "Jarrah, international justice counsel for the\n",
       "group. &quot;What&#x27;s objectionable is the attempts to\n",
       "undermine international justice, not Palestine&#x27;s\n",
       "decision to join a treaty to which over 100\n",
       "countries around the world are members.&quot; In\n",
       "January, when the preliminary ICC examination was\n",
       "opened, Israeli Prime Minister Benjamin Netanyahu\n",
       "described it as an outrage, saying the court was\n",
       "overstepping its boundaries. The United States\n",
       "also said it &quot;strongly&quot; disagreed with the court&#x27;s\n",
       "decision. &quot;As we have said repeatedly, we do not\n",
       "believe that Palestine is a state and therefore we\n",
       "do not believe that it is eligible to join the\n",
       "ICC,&quot; the State Department said in a statement. It\n",
       "urged the warring sides to resolve their\n",
       "differences through direct negotiations. &quot;We will\n",
       "continue to oppose actions against Israel at the\n",
       "ICC as counterproductive to the cause of peace,&quot;\n",
       "it said. But the ICC begs to differ with the\n",
       "definition of a state for its purposes and refers\n",
       "to the territories as &quot;Palestine.&quot; While a\n",
       "preliminary examination is not a formal\n",
       "investigation, it allows the court to review\n",
       "evidence and determine whether to investigate\n",
       "suspects on both sides. Prosecutor Fatou Bensouda\n",
       "said her office would &quot;conduct its analysis in\n",
       "full independence and impartiality.&quot; The war\n",
       "between Israel and Hamas militants in Gaza last\n",
       "summer left more than 2,000 people dead. The\n",
       "inquiry will include alleged war crimes committed\n",
       "since June. The International Criminal Court was\n",
       "set up in 2002 to prosecute genocide, crimes\n",
       "against humanity and war crimes. CNN&#x27;s Vasco\n",
       "Cotovio, Kareem Khadder and Faith Karimi\n",
       "contributed to this report.          </td><td>Membership gives the ICC jurisdiction over alleged\n",
       "crimes committed in Palestinian territories since\n",
       "last June .\n",
       "Israel and the United States opposed the move,\n",
       "which could open the door to war crimes\n",
       "investigations against Israelis .             </td></tr>\n",
       "<tr><td>(CNN)Never mind cats having nine lives. A stray\n",
       "pooch in Washington State has used up at least\n",
       "three of her own after being hit by a car,\n",
       "apparently whacked on the head with a hammer in a\n",
       "misguided mercy killing and then buried in a field\n",
       "-- only to survive. That&#x27;s according to Washington\n",
       "State University, where the dog -- a friendly\n",
       "white-and-black bully breed mix now named Theia --\n",
       "has been receiving care at the Veterinary Teaching\n",
       "Hospital. Four days after her apparent death, the\n",
       "dog managed to stagger to a nearby farm, dirt-\n",
       "covered and emaciated, where she was found by a\n",
       "worker who took her to a vet for help. She was\n",
       "taken in by Moses Lake, Washington, resident Sara\n",
       "Mellado. &quot;Considering everything that she&#x27;s been\n",
       "through, she&#x27;s incredibly gentle and loving,&quot;\n",
       "Mellado said, according to WSU News. &quot;She&#x27;s a true\n",
       "miracle dog and she deserves a good life.&quot; Theia\n",
       "is only one year old but the dog&#x27;s brush with\n",
       "death did not leave her unscathed. She suffered a\n",
       "dislocated jaw, leg injuries and a caved-in sinus\n",
       "cavity -- and still requires surgery to help her\n",
       "breathe. The veterinary hospital&#x27;s Good Samaritan\n",
       "Fund committee awarded some money to help pay for\n",
       "the dog&#x27;s treatment, but Mellado has set up a\n",
       "fundraising page to help meet the remaining cost\n",
       "of the dog&#x27;s care. She&#x27;s also created a Facebook\n",
       "page to keep supporters updated. Donors have\n",
       "already surpassed the $10,000 target, inspired by\n",
       "Theia&#x27;s tale of survival against the odds. On the\n",
       "fundraising page, Mellado writes, &quot;She is in\n",
       "desperate need of extensive medical procedures to\n",
       "fix her nasal damage and reset her jaw. I agreed\n",
       "to foster her until she finally found a loving\n",
       "home.&quot; She is dedicated to making sure Theia gets\n",
       "the medical attention she needs, Mellado adds, and\n",
       "wants to &quot;make sure she gets placed in a family\n",
       "where this will never happen to her again!&quot; Any\n",
       "additional funds raised will be &quot;paid forward&quot; to\n",
       "help other animals. Theia is not the only animal\n",
       "to apparently rise from the grave in recent weeks.\n",
       "A cat in Tampa, Florida, found seemingly dead\n",
       "after he was hit by a car in January, showed up\n",
       "alive in a neighbor&#x27;s yard five days after he was\n",
       "buried by his owner. The cat was in bad shape,\n",
       "with maggots covering open wounds on his body and\n",
       "a ruined left eye, but remarkably survived with\n",
       "the help of treatment from the Humane Society.          </td><td>Theia, a bully breed mix, was apparently hit by a\n",
       "car, whacked with a hammer and buried in a field .\n",
       "&quot;She&#x27;s a true miracle dog and she deserves a good\n",
       "life,&quot; says Sara Mellado, who is looking for a\n",
       "home for Theia .             </td></tr>\n",
       "</tbody>\n",
       "</table>"
      ],
      "text/plain": [
       "<IPython.core.display.HTML object>"
      ]
     },
     "metadata": {},
     "output_type": "display_data"
    }
   ],
   "source": [
    "display_formatted_dataframe(test_df, num_rows=2)"
   ]
  },
  {
   "attachments": {},
   "cell_type": "markdown",
   "metadata": {},
   "source": [
    "## Model selection"
   ]
  },
  {
   "cell_type": "code",
   "execution_count": 7,
   "metadata": {},
   "outputs": [],
   "source": [
    "from validmind.models import FoundationModel, Prompt"
   ]
  },
  {
   "cell_type": "code",
   "execution_count": 8,
   "metadata": {},
   "outputs": [],
   "source": [
    "import os\n",
    "\n",
    "import dotenv\n",
    "dotenv.load_dotenv()\n",
    "\n",
    "if os.getenv(\"OPENAI_API_KEY\") is None:\n",
    "    raise Exception(\"OPENAI_API_KEY not found\")"
   ]
  },
  {
   "cell_type": "code",
   "execution_count": 9,
   "metadata": {},
   "outputs": [],
   "source": [
    "import openai\n",
    "\n",
    "def call_model(prompt):\n",
    "    return openai.ChatCompletion.create(\n",
    "        model=\"gpt-3.5-turbo\",\n",
    "        messages=[\n",
    "            {\"role\": \"user\", \"content\": prompt},\n",
    "        ]\n",
    "    ).choices[0].message[\"content\"]"
   ]
  },
  {
   "attachments": {},
   "cell_type": "markdown",
   "metadata": {},
   "source": [
    "## Prompt engineering"
   ]
  },
  {
   "cell_type": "code",
   "execution_count": 10,
   "metadata": {},
   "outputs": [],
   "source": [
    "prompt_template = \"\"\"\n",
    "You are an AI with expertise in summarizing financial news. \n",
    "Your task is to provide a concise summary of the specific news article provided below.\n",
    "Before proceeding, take a moment to understand the context and nuances of the financial terminology used in the article.\n",
    "\n",
    "Article to Summarize:\n",
    "\n",
    "```\n",
    "{article}\n",
    "```\n",
    "\n",
    "Please respond with a concise summary of the article's main points.\n",
    "Ensure that your summary is based on the content of the article and not on external information or assumptions.\n",
    "\"\"\".strip()\n",
    "\n",
    "prompt_variables = [\"article\"]"
   ]
  },
  {
   "attachments": {},
   "cell_type": "markdown",
   "metadata": {},
   "source": [
    "## Initialize ValidMind datasets and models"
   ]
  },
  {
   "cell_type": "code",
   "execution_count": 11,
   "metadata": {},
   "outputs": [
    {
     "name": "stderr",
     "output_type": "stream",
     "text": [
      "2023-10-05 21:29:47,970 - INFO(validmind.client): Pandas dataset detected. Initializing VM Dataset instance...\n",
      "2023-10-05 21:29:47,980 - INFO(validmind.models.foundation): Running predict() for `test_ds`... This may take a while\n"
     ]
    }
   ],
   "source": [
    "# In this context 'vm_test_ds' is the model evaluation dataset. It is used for predictions\n",
    "vm_test_ds = vm.init_dataset(\n",
    "    dataset=test_df,\n",
    "    text_column=\"article\",\n",
    "    target_column=\"highlights\",\n",
    ")\n",
    "\n",
    "vm_model = FoundationModel(\n",
    "    predict_fn=call_model,\n",
    "    prompt=Prompt(\n",
    "        template=prompt_template,\n",
    "        variables=prompt_variables,\n",
    "    ),\n",
    "    test_ds=vm_test_ds,\n",
    ")"
   ]
  },
  {
   "cell_type": "code",
   "execution_count": 12,
   "metadata": {},
   "outputs": [
    {
     "data": {
      "text/html": [
       "<style type=\"text/css\">\n",
       "#T_aa258 th {\n",
       "  text-align: left;\n",
       "}\n",
       "#T_aa258_row0_col0, #T_aa258_row0_col1, #T_aa258_row0_col2, #T_aa258_row0_col3 {\n",
       "  text-align: left;\n",
       "}\n",
       "</style>\n",
       "<table id=\"T_aa258\">\n",
       "  <thead>\n",
       "    <tr>\n",
       "      <th id=\"T_aa258_level0_col0\" class=\"col_heading level0 col0\" >ID</th>\n",
       "      <th id=\"T_aa258_level0_col1\" class=\"col_heading level0 col1\" >Name</th>\n",
       "      <th id=\"T_aa258_level0_col2\" class=\"col_heading level0 col2\" >Description</th>\n",
       "      <th id=\"T_aa258_level0_col3\" class=\"col_heading level0 col3\" >Tests</th>\n",
       "    </tr>\n",
       "  </thead>\n",
       "  <tbody>\n",
       "    <tr>\n",
       "      <td id=\"T_aa258_row0_col0\" class=\"data row0 col0\" >summarization_metrics</td>\n",
       "      <td id=\"T_aa258_row0_col1\" class=\"data row0 col1\" >SummarizationMetrics</td>\n",
       "      <td id=\"T_aa258_row0_col2\" class=\"data row0 col2\" >Test plan for Summarization metrics</td>\n",
       "      <td id=\"T_aa258_row0_col3\" class=\"data row0 col3\" >RougeMetrics (Metric)<br>TokenDisparity (Metric)<br>BleuScore (Metric)<br>BertScore (Metric)<br>ContextualRecall (Metric)<br>SummarizationPredictions (Metric)</td>\n",
       "    </tr>\n",
       "  </tbody>\n",
       "</table>\n"
      ],
      "text/plain": [
       "<pandas.io.formats.style.Styler at 0x351c09de0>"
      ]
     },
     "execution_count": 12,
     "metadata": {},
     "output_type": "execute_result"
    }
   ],
   "source": [
    "vm.test_plans.describe_plan(\"summarization_metrics\")"
   ]
  },
  {
   "cell_type": "code",
   "execution_count": 13,
   "metadata": {},
   "outputs": [
    {
     "data": {
      "application/vnd.jupyter.widget-view+json": {
       "model_id": "5a6398c0281247bcaf6537bad78d7f46",
       "version_major": 2,
       "version_minor": 0
      },
      "text/plain": [
       "VBox(children=(HTML(value='<p>Detailed description coming soon...!</p>'), HTML(value='<style type=\"text/css\">\\…"
      ]
     },
     "metadata": {},
     "output_type": "display_data"
    }
   ],
   "source": [
    "params = {\n",
    "    \"display_limit\": 1,\n",
    "    \"text_columns\": None\n",
    "}\n",
    "\n",
    "metric = vm.tests.run_test(\"validmind.model_validation.DisplayTextDataset\", \n",
    "                  dataset=vm_test_ds, \n",
    "                  params=params)"
   ]
  },
  {
   "cell_type": "code",
   "execution_count": 14,
   "metadata": {},
   "outputs": [
    {
     "data": {
      "application/vnd.jupyter.widget-view+json": {
       "model_id": "42ee624c61da491ab1d9ce933fa4e365",
       "version_major": 2,
       "version_minor": 0
      },
      "text/plain": [
       "VBox(children=(HTML(value='<p>Detailed description coming soon...!</p>'), HTML(value='<style type=\"text/css\">\\…"
      ]
     },
     "metadata": {},
     "output_type": "display_data"
    }
   ],
   "source": [
    "params = {\n",
    "    \"display_limit\": 1\n",
    "}\n",
    "\n",
    "metric = vm.tests.run_test(\"validmind.model_validation.SummarizationPredictions\", \n",
    "                  model=vm_model, \n",
    "                  params=params)"
   ]
  },
  {
   "cell_type": "code",
   "execution_count": null,
   "metadata": {},
   "outputs": [],
   "source": [
    "#config={\n",
    "#    \"rouge_metric\": {\n",
    "#        \"rouge_metrics\": [\"rouge-1\",\"rouge-2\", \"rouge-l\"],\n",
    "#    },\n",
    "#}\n",
    "#summarization_metrics = vm.run_test_plan(\"summarization_metrics\", \n",
    "#                                             model=vm_model,\n",
    "#                                             config=config)"
   ]
  }
 ],
 "metadata": {
  "kernelspec": {
   "display_name": "Developer Framework (Python 3.10.13)",
   "language": "python",
   "name": "dev-framework"
  },
  "language_info": {
   "codemirror_mode": {
    "name": "ipython",
    "version": 3
   },
   "file_extension": ".py",
   "mimetype": "text/x-python",
   "name": "python",
   "nbconvert_exporter": "python",
   "pygments_lexer": "ipython3",
   "version": "3.10.13"
  }
 },
 "nbformat": 4,
 "nbformat_minor": 2
}
