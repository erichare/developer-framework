{
 "cells": [
  {
   "attachments": {},
   "cell_type": "markdown",
   "metadata": {},
   "source": [
    "# Summarization of financial data using a Large Language Model (LLM)\n",
    "\n",
    "This notebook aims to provide an introduction to documenting an LLM using the ValidMind Developer Framework. The use case presented is a summarization of financial news (https://huggingface.co/datasets/cnn_dailymail).\n",
    "\n",
    "- Initializing the ValidMind Developer Framework\n",
    "- Running a test various tests to quickly generate documentation about the data and model\n",
    "\n",
    "## Before you begin\n",
    "\n",
    "To use the ValidMind Developer Framework with a Jupyter notebook, you need to install and initialize the client library first, along with getting your Python environment ready.\n",
    "\n",
    "If you don't already have one, you should also [create a documentation project](https://docs.validmind.ai/guide/create-your-first-documentation-project.html) on the ValidMind platform. You will use this project to upload your documentation and test results.\n",
    "\n",
    "## Install the client library"
   ]
  },
  {
   "cell_type": "code",
   "execution_count": 1,
   "metadata": {},
   "outputs": [],
   "source": [
    "# %pip install --upgrade validmind"
   ]
  },
  {
   "attachments": {},
   "cell_type": "markdown",
   "metadata": {},
   "source": [
    "## Initialize the client library\n",
    "\n",
    "In a browser, go to the **Client Integration** page of your documentation project and click **Copy to clipboard** next to the code snippet. This code snippet gives you the API key, API secret, and project identifier to link your notebook to your documentation project.\n",
    "\n",
    "::: {.column-margin}\n",
    "::: {.callout-tip}\n",
    "This step requires a documentation project. [Learn how you can create one](https://docs.validmind.ai/guide/create-your-first-documentation-project.html).\n",
    ":::\n",
    ":::\n",
    "\n",
    "Next, replace this placeholder with your own code snippet:"
   ]
  },
  {
   "cell_type": "code",
   "execution_count": 2,
   "metadata": {},
   "outputs": [
    {
     "name": "stderr",
     "output_type": "stream",
     "text": [
      "2023-09-27 14:54:28,170 - INFO(validmind.api_client): Connected to ValidMind. Project: [12] Credit Risk Scorecard - Initial Validation (clmotr3oa000aesy6c54wqb6g)\n"
     ]
    }
   ],
   "source": [
    "import validmind as vm\n",
    "\n",
    "vm.init(\n",
    "  api_host = \"http://localhost:3000/api/v1/tracking\",\n",
    "  api_key = \"2494c3838f48efe590d531bfe225d90b\",\n",
    "  api_secret = \"4f692f8161f128414fef542cab2a4e74834c75d01b3a8e088a1834f2afcfe838\",\n",
    "  project = \"clmotr3oa000aesy6c54wqb6g\"\n",
    ")\n",
    "  "
   ]
  },
  {
   "attachments": {},
   "cell_type": "markdown",
   "metadata": {},
   "source": [
    "## Use case"
   ]
  },
  {
   "attachments": {},
   "cell_type": "markdown",
   "metadata": {},
   "source": [
    "In the realm of financial news, accurate interpretation of information is key. Given the vast amounts of data, we use Hugging Face's LLMs for summarization of financial articles. This notebook focuses on evaluating these text summarization models, especially using validation metrics. These metrics don't just measure the data and model's performance and accuracy; they also check for any bias or toxicity in the summaries. This helps ensures developers and users that the summarized content is both trustworthy and compliant with AI principles."
   ]
  },
  {
   "attachments": {},
   "cell_type": "markdown",
   "metadata": {},
   "source": [
    "## 1. Setup"
   ]
  },
  {
   "attachments": {},
   "cell_type": "markdown",
   "metadata": {},
   "source": [
    "### Import Libraries"
   ]
  },
  {
   "cell_type": "code",
   "execution_count": 3,
   "metadata": {},
   "outputs": [],
   "source": [
    "from transformers import pipeline\n",
    "from transformers import BertTokenizer, BertModel\n",
    "from sklearn.metrics.pairwise import cosine_similarity\n",
    "import textwrap\n",
    "from tabulate import tabulate\n",
    "from IPython.display import display, HTML\n",
    "from rouge import Rouge\n",
    "import plotly.graph_objects as go\n",
    "import nltk\n",
    "from nltk.corpus import stopwords\n",
    "import numpy as np\n",
    "import pandas as pd\n",
    "from pprint import pprint\n",
    "import torch\n",
    "import string\n",
    "import plotly.express as px\n",
    "import plotly.subplots as sp\n",
    "from collections import Counter\n",
    "from itertools import combinations\n",
    "from dataclasses import dataclass"
   ]
  },
  {
   "attachments": {},
   "cell_type": "markdown",
   "metadata": {},
   "source": [
    "### Preprocessing functions"
   ]
  },
  {
   "cell_type": "code",
   "execution_count": 4,
   "metadata": {},
   "outputs": [],
   "source": [
    "def add_id_column(df):\n",
    "    \"\"\"\n",
    "    Adds an 'ID' column to the dataframe.\n",
    "    \n",
    "    Args:\n",
    "    - df (pd.DataFrame): The input dataframe.\n",
    "    \n",
    "    Returns:\n",
    "    - pd.DataFrame: The dataframe with an added 'ID' column.\n",
    "    \"\"\"\n",
    "    df.insert(0, 'ID', range(1, 1 + len(df)))\n",
    "    return df\n",
    "\n",
    "def load_text_data(filepath, num_records=5):\n",
    "    \"\"\"\n",
    "    Load a CSV file, limit the number of records, and add an 'ID' column.\n",
    "    \n",
    "    Args:\n",
    "    - filepath (str): Path to the CSV file.\n",
    "    - num_records (int): Number of records to load.\n",
    "    \n",
    "    Returns:\n",
    "    - pd.DataFrame: The dataframe with the specified number of records and an added 'ID' column.\n",
    "    \"\"\"\n",
    "    df = pd.read_csv(filepath)\n",
    "    df = df.head(num_records)\n",
    "    return add_id_column(df)"
   ]
  },
  {
   "cell_type": "code",
   "execution_count": 5,
   "metadata": {},
   "outputs": [],
   "source": [
    "import json\n",
    "import pandas as pd\n",
    "\n",
    "def load_toxic_prompt_data(file_path, threshold=None):\n",
    "    \"\"\"\n",
    "    Reads a .jsonl file and returns a dataframe with all records.\n",
    "\n",
    "    :param file_path: Path to the .jsonl file.\n",
    "    :param threshold: Optional toxicity threshold. If provided, only records with a toxicity\n",
    "                      score exceeding this threshold will be returned.\n",
    "    :return: DataFrame with all records.\n",
    "    \"\"\"\n",
    "    # Load records\n",
    "    records = []\n",
    "    with open(file_path, \"r\") as file:\n",
    "        for line in file:\n",
    "            data = json.loads(line)\n",
    "            records.append(data)\n",
    "            \n",
    "    # Prepare data for dataframe\n",
    "    data_list = []\n",
    "    for record in records:\n",
    "        prompt_toxicity = record[\"prompt\"].get(\"toxicity\", None)\n",
    "        cont_toxicity = record[\"continuation\"].get(\"toxicity\", None)\n",
    "        \n",
    "        if threshold:\n",
    "            if not prompt_toxicity or not cont_toxicity:\n",
    "                continue  # If we don't have a toxicity value, skip the record\n",
    "            elif prompt_toxicity < threshold and cont_toxicity < threshold:\n",
    "                continue  # If neither toxicity value exceeds the threshold, skip the record\n",
    "\n",
    "        row = {\n",
    "            \"Filename\": record[\"filename\"],\n",
    "            \"Begin\": record[\"begin\"],\n",
    "            \"End\": record[\"end\"],\n",
    "            \"Challenging\": record[\"challenging\"],\n",
    "            \"Prompt Text\": record[\"prompt\"][\"text\"],\n",
    "            \"Prompt Profanity\": record[\"prompt\"].get(\"profanity\", \"N/A\"),\n",
    "            \"Prompt Sexually Explicit\": record[\"prompt\"].get(\"sexually_explicit\", \"N/A\"),\n",
    "            \"Prompt Identity Attack\": record[\"prompt\"].get(\"identity_attack\", \"N/A\"),\n",
    "            \"Prompt Flirtation\": record[\"prompt\"].get(\"flirtation\", \"N/A\"),\n",
    "            \"Prompt Threat\": record[\"prompt\"].get(\"threat\", \"N/A\"),\n",
    "            \"Prompt Insult\": record[\"prompt\"].get(\"insult\", \"N/A\"),\n",
    "            \"Prompt Severe Toxicity\": record[\"prompt\"].get(\"severe_toxicity\", \"N/A\"),\n",
    "            \"Prompt Toxicity\": record[\"prompt\"].get(\"toxicity\", \"N/A\"),\n",
    "            \"Continuation Text\": record[\"continuation\"][\"text\"],\n",
    "            \"Cont. Severe Toxicity\": record[\"continuation\"].get(\"severe_toxicity\", \"N/A\"),\n",
    "            \"Cont. Toxicity\": record[\"continuation\"].get(\"toxicity\", \"N/A\"),\n",
    "            \"Cont. Profanity\": record[\"continuation\"].get(\"profanity\", \"N/A\"),\n",
    "            \"Cont. Sexually Explicit\": record[\"continuation\"].get(\"sexually_explicit\", \"N/A\"),\n",
    "            \"Cont. Identity Attack\": record[\"continuation\"].get(\"identity_attack\", \"N/A\"),\n",
    "            \"Cont. Flirtation\": record[\"continuation\"].get(\"flirtation\", \"N/A\"),\n",
    "            \"Cont. Threat\": record[\"continuation\"].get(\"threat\", \"N/A\"),\n",
    "            \"Cont. Insult\": record[\"continuation\"].get(\"insult\", \"N/A\")\n",
    "        }\n",
    "        data_list.append(row)\n",
    "\n",
    "    # Convert list of dicts to dataframe\n",
    "    df = pd.DataFrame(data_list)\n",
    "    \n",
    "    return df\n"
   ]
  },
  {
   "cell_type": "code",
   "execution_count": 6,
   "metadata": {},
   "outputs": [],
   "source": [
    "def _format_cell_text(text, width=50):  \n",
    "    \"\"\"Private function to format a cell's text.\"\"\"\n",
    "    return '\\n'.join([textwrap.fill(line, width=width) for line in text.split('\\n')])\n",
    "\n",
    "def _format_dataframe_for_tabulate(df):\n",
    "    \"\"\"Private function to format the entire DataFrame for tabulation.\"\"\"\n",
    "    df_out = df.copy()\n",
    "    \n",
    "    # Format all string columns\n",
    "    for column in df_out.columns:\n",
    "        if df_out[column].dtype == object:  # Check if column is of type object (likely strings)\n",
    "            df_out[column] = df_out[column].apply(_format_cell_text)\n",
    "    return df_out\n",
    "\n",
    "def _dataframe_to_html_table(df):\n",
    "    \"\"\"Private function to convert a DataFrame to an HTML table.\"\"\"\n",
    "    headers = df.columns.tolist()\n",
    "    table_data = df.values.tolist()\n",
    "    return tabulate(table_data, headers=headers, tablefmt=\"html\")\n",
    "\n",
    "def display_nice(df, num_rows=None):\n",
    "    \"\"\"Primary function to format and display a DataFrame.\"\"\"\n",
    "    if num_rows is not None:\n",
    "        df = df.head(num_rows)\n",
    "    formatted_df = _format_dataframe_for_tabulate(df)\n",
    "    html_table = _dataframe_to_html_table(formatted_df)\n",
    "    display(HTML(html_table))\n"
   ]
  },
  {
   "cell_type": "code",
   "execution_count": 7,
   "metadata": {},
   "outputs": [],
   "source": [
    "def add_list_to_df(df, column_data, column_name):\n",
    "    \"\"\"\n",
    "    Adds a new column to the dataframe df that contains the given data.\n",
    "\n",
    "    Parameters:\n",
    "    - df (pd.DataFrame): The original pandas DataFrame.\n",
    "    - column_data (list/array): List/array of data to be added as a new column.\n",
    "    - column_name (str): Name of the new column.\n",
    "\n",
    "    Returns:\n",
    "    - pd.DataFrame: DataFrame with an additional column.\n",
    "    \"\"\"\n",
    "    \n",
    "    df = df.copy()  # Make an explicit copy of the DataFrame\n",
    "\n",
    "    # Check if the length of column_data matches the number of rows in the DataFrame\n",
    "    if len(column_data) != len(df):\n",
    "        raise ValueError(f\"The length of column_data ({len(column_data)}) does not match the number of rows in the DataFrame ({len(df)}).\")\n",
    "\n",
    "    # Add the column_data to the DataFrame\n",
    "    df[column_name] = column_data\n",
    "\n",
    "    return df\n"
   ]
  },
  {
   "cell_type": "code",
   "execution_count": 8,
   "metadata": {},
   "outputs": [],
   "source": [
    "def add_summaries_to_df(df, summaries):\n",
    "    \"\"\"\n",
    "    Adds a new column 'summary_X' to the dataframe df that contains the given summaries, where X is an incremental number.\n",
    "\n",
    "    Parameters:\n",
    "    - df: The original pandas DataFrame.\n",
    "    - summaries: List/array of summarized texts.\n",
    "\n",
    "    Returns:\n",
    "    - A new DataFrame with an additional summary column, with 'labels' being the first column followed by the original 'text'.\n",
    "    \"\"\"\n",
    "\n",
    "    df = df.copy()  # Make an explicit copy of the DataFrame\n",
    "\n",
    "    # Check if the length of summaries matches the number of rows in the DataFrame\n",
    "    if len(summaries) != len(df):\n",
    "        raise ValueError(f\"The number of summaries ({len(summaries)}) does not match the number of rows in the DataFrame ({len(df)}).\")\n",
    "\n",
    "    # Determine the name for the new summary column\n",
    "    col_index = 1\n",
    "    col_name = 'summary_1'\n",
    "    while col_name in df.columns:\n",
    "        col_index += 1\n",
    "        col_name = f'summary_{col_index}'\n",
    "\n",
    "    # Add the summaries to the DataFrame\n",
    "    df[col_name] = summaries\n",
    "\n",
    "    # Rearrange the DataFrame columns to have 'topic' first, then the original 'input', followed by summary columns\n",
    "    summary_columns = [col for col in df.columns if col.startswith('summary')]\n",
    "    other_columns = [col for col in df.columns if col not in summary_columns + ['topic', 'input', 'reference_summary']]\n",
    "    \n",
    "    columns_order = ['topic', 'input', 'reference_summary'] + sorted(summary_columns) + other_columns\n",
    "    df = df[columns_order]\n",
    "\n",
    "    return df\n"
   ]
  },
  {
   "attachments": {},
   "cell_type": "markdown",
   "metadata": {},
   "source": [
    "### POC Validation Metrics"
   ]
  },
  {
   "cell_type": "code",
   "execution_count": 9,
   "metadata": {},
   "outputs": [
    {
     "name": "stderr",
     "output_type": "stream",
     "text": [
      "Using default facebook/roberta-hate-speech-dynabench-r4-target checkpoint\n"
     ]
    }
   ],
   "source": [
    "import evaluate \n",
    "toxicity = evaluate.load(\"toxicity\")"
   ]
  },
  {
   "cell_type": "code",
   "execution_count": 10,
   "metadata": {},
   "outputs": [],
   "source": [
    "import plotly.graph_objects as go\n",
    "\n",
    "def hf_toxicity_plot(df, params):\n",
    "    \"\"\"\n",
    "    Compute toxicity scores for texts and then plot line plots for each text column \n",
    "    where the generated text score surpasses the given threshold.\n",
    "\n",
    "    Parameters:\n",
    "    - df (pd.DataFrame): The dataframe containing texts.\n",
    "    - params (dict): Parameters containing toxicity evaluation object, column names, and score threshold.\n",
    "    \"\"\"\n",
    "    \n",
    "    # Extract necessary parameters\n",
    "    toxicity = params[\"hf_toxicity_obj\"]\n",
    "    text_columns = params[\"text_columns\"]\n",
    "    score_threshold = params.get(\"score_threshold\", 0)  # default to 0 if not provided\n",
    "    \n",
    "    # Create figure\n",
    "    fig = go.Figure()\n",
    "    \n",
    "    for col in text_columns:\n",
    "        # Get list of texts from dataframe\n",
    "        texts = df[col].tolist()\n",
    "        \n",
    "        # Compute toxicity for texts\n",
    "        toxicity_scores = toxicity.compute(predictions=texts)['toxicity']\n",
    "\n",
    "        # Filter records where the score is above the threshold\n",
    "        indices = [i for i, score in enumerate(toxicity_scores) if score > score_threshold]\n",
    "        filtered_scores = [score for i, score in enumerate(toxicity_scores) if i in indices]\n",
    "\n",
    "        # Add trace for the scores with modified line width\n",
    "        fig.add_trace(go.Scatter(x=indices, y=filtered_scores, mode='lines+markers', name=col,\n",
    "                                 line=dict(width=1)))  # Set width to 1 for a thinner line\n",
    "\n",
    "    # Add a horizontal line for the threshold\n",
    "    fig.add_shape(\n",
    "        go.layout.Shape(\n",
    "            type=\"line\",\n",
    "            x0=0,\n",
    "            x1=max(indices) if indices else 1,\n",
    "            y0=score_threshold,\n",
    "            y1=score_threshold,\n",
    "            line=dict(color=\"grey\", width=0.8, dash=\"dash\")\n",
    "        )\n",
    "    )\n",
    "\n",
    "    # Update layout\n",
    "    fig.update_layout(title=\"Toxicity Scores for Text Columns with Score above threshold\",\n",
    "                      xaxis_title=\"Index\",\n",
    "                      yaxis_title=\"Toxicity Score\",\n",
    "                      legend_title=\"Text Type\")\n",
    "\n",
    "    # Show figure\n",
    "    fig.show()\n",
    "\n"
   ]
  },
  {
   "cell_type": "code",
   "execution_count": 11,
   "metadata": {},
   "outputs": [],
   "source": [
    "def hf_toxicity_table(df, params):\n",
    "    \"\"\"\n",
    "    Update and return dataframe with toxicity scores for all the text columns provided.\n",
    "    \n",
    "    Parameters:\n",
    "    - df (pd.DataFrame): The dataframe containing texts.\n",
    "    - params (dict): Parameters containing toxicity evaluation object, column names, and the max and min generated toxicity thresholds.\n",
    "    \n",
    "    Returns:\n",
    "    - pd.DataFrame: Updated dataframe with toxicity scores.\n",
    "    \"\"\"\n",
    "    \n",
    "    df = df.copy()  # Create a deep copy of the DataFrame\n",
    "    \n",
    "    # Extract necessary parameters\n",
    "    toxicity = params[\"hf_toxicity_obj\"]\n",
    "    text_columns = params[\"text_columns\"]\n",
    "    max_toxicity_threshold = params.get(\"max_toxicity_threshold\", 1)  # default to 1 if not provided\n",
    "    min_toxicity_threshold = params.get(\"min_toxicity_threshold\", 0)  # default to 0 if not provided\n",
    "    \n",
    "    for col in text_columns:\n",
    "        # Get list of texts from dataframe\n",
    "        texts = df[col].tolist()\n",
    "        \n",
    "        # Compute toxicity for texts\n",
    "        toxicity_scores = toxicity.compute(predictions=texts)['toxicity']\n",
    "        \n",
    "        # Assign the new toxicity scores to the dataframe using .loc to avoid the warning\n",
    "        df.loc[:, f\"{col} Toxicity\"] = toxicity_scores\n",
    "        \n",
    "        # If you want to filter rows for each column separately based on their toxicity\n",
    "        # df = df[(df[f\"{col} Toxicity\"] >= min_toxicity_threshold) & (df[f\"{col} Toxicity\"] <= max_toxicity_threshold)]\n",
    "        \n",
    "    # If you want to filter rows based on the toxicity of a specific column, you can do it here.\n",
    "    # For example, if you want to filter rows based on the toxicity of the first column in text_columns:\n",
    "    # df = df[(df[f\"{text_columns[0]} Toxicity\"] >= min_toxicity_threshold) & (df[f\"{text_columns[0]} Toxicity\"] <= max_toxicity_threshold)]\n",
    "    \n",
    "    # Order the results by \"<Column Name> Toxicity\" in descending order for the first text column\n",
    "    df = df.sort_values(by=f\"{text_columns[0]} Toxicity\", ascending=False)\n",
    "    \n",
    "    return df\n",
    "\n"
   ]
  },
  {
   "cell_type": "code",
   "execution_count": 12,
   "metadata": {},
   "outputs": [],
   "source": [
    "import plotly.graph_objects as go\n",
    "import plotly.subplots as sp\n",
    "\n",
    "def hf_toxicity_histograms(df, params):\n",
    "    \"\"\"\n",
    "    Compute toxicity scores for texts and then plot histograms for specified text columns.\n",
    "\n",
    "    Parameters:\n",
    "    - df (pd.DataFrame): The dataframe containing texts.\n",
    "    - params (dict): Parameters containing toxicity evaluation object and column names.\n",
    "    \"\"\"\n",
    "    \n",
    "    # Extract necessary parameters\n",
    "    toxicity = params[\"hf_toxicity_obj\"]\n",
    "    text_columns = params[\"text_columns\"]\n",
    "    \n",
    "    # Determine the number of rows required based on the number of text columns\n",
    "    num_rows = (len(text_columns) + 1) // 2  # +1 to handle odd number of columns\n",
    "    \n",
    "    # Create a subplot layout\n",
    "    fig = sp.make_subplots(rows=num_rows, cols=2, subplot_titles=text_columns)\n",
    "    \n",
    "    subplot_height = 350  # Height of each subplot\n",
    "    total_height = num_rows * subplot_height + 200  # 200 for padding, titles, etc.\n",
    "    \n",
    "    for idx, col in enumerate(text_columns, start=1):\n",
    "        row = (idx - 1) // 2 + 1\n",
    "        col_idx = (idx - 1) % 2 + 1  # to place subplots in two columns\n",
    "        \n",
    "        # Get list of texts from dataframe\n",
    "        texts = df[col].tolist()\n",
    "        \n",
    "        # Compute toxicity for texts\n",
    "        toxicity_scores = toxicity.compute(predictions=texts)['toxicity']\n",
    "        \n",
    "        # Add traces to the corresponding subplot without legend\n",
    "        fig.add_trace(go.Histogram(x=toxicity_scores, showlegend=False), row=row, col=col_idx)\n",
    "        \n",
    "        # Update xaxes and yaxes titles only for the first subplot\n",
    "        if idx == 1:\n",
    "            fig.update_xaxes(title_text=\"Toxicity Score\", row=row, col=col_idx)\n",
    "            fig.update_yaxes(title_text=\"Frequency\", row=row, col=col_idx)\n",
    "    \n",
    "    # Update layout\n",
    "    fig.update_layout(title_text=\"Histograms of Toxicity Scores\", height=total_height)\n",
    "    \n",
    "    # Show figure\n",
    "    fig.show()\n"
   ]
  },
  {
   "cell_type": "code",
   "execution_count": 13,
   "metadata": {},
   "outputs": [],
   "source": [
    "# Secondary functions\n",
    "def general_text_metrics(df, text_column):\n",
    "    nltk.download('punkt', quiet=True)\n",
    "    \n",
    "    results = []\n",
    "\n",
    "    for text in df[text_column]:\n",
    "        sentences = nltk.sent_tokenize(text)\n",
    "        words = nltk.word_tokenize(text)\n",
    "        paragraphs = text.split(\"\\n\\n\")\n",
    "\n",
    "        total_words = len(words)\n",
    "        total_sentences = len(sentences)\n",
    "        avg_sentence_length = round(sum(len(sentence.split()) for sentence in sentences) / total_sentences if total_sentences else 0, 1)\n",
    "        total_paragraphs = len(paragraphs)\n",
    "\n",
    "        results.append([total_words, total_sentences, avg_sentence_length, total_paragraphs])\n",
    "\n",
    "    return pd.DataFrame(results, columns=[\"Total Words\", \"Total Sentences\", \"Avg Sentence Length\", \"Total Paragraphs\"])\n",
    "\n",
    "def vocabulary_structure_metrics(df, text_column, unwanted_tokens, lang):\n",
    "    stop_words = set(word.lower() for word in stopwords.words(lang))\n",
    "    unwanted_tokens = set(token.lower() for token in unwanted_tokens)\n",
    "\n",
    "    results = []\n",
    "\n",
    "    for text in df[text_column]:\n",
    "        words = nltk.word_tokenize(text)\n",
    "\n",
    "        filtered_words = [word for word in words if word.lower() not in stop_words and word.lower() not in unwanted_tokens and word not in string.punctuation]\n",
    "\n",
    "        total_unique_words = len(set(filtered_words))\n",
    "        total_punctuations = sum(1 for word in words if word in string.punctuation)\n",
    "        lexical_diversity = round(total_unique_words / len(filtered_words) if filtered_words else 0, 1)\n",
    "\n",
    "        results.append([total_unique_words, total_punctuations, lexical_diversity])\n",
    "\n",
    "    return pd.DataFrame(results, columns=[\"Total Unique Words\", \"Total Punctuations\", \"Lexical Diversity\"])\n",
    "\n",
    "# Primary function\n",
    "def text_description_table(df, params):\n",
    "    text_column = params[\"text_column\"]\n",
    "    unwanted_tokens = params[\"unwanted_tokens\"]\n",
    "    lang = params[\"lang\"]\n",
    "    \n",
    "    gen_metrics_df = general_text_metrics(df, text_column)\n",
    "    vocab_metrics_df = vocabulary_structure_metrics(df, text_column, unwanted_tokens, lang)\n",
    "    \n",
    "    combined_df = pd.concat([gen_metrics_df, vocab_metrics_df], axis=1)\n",
    "    \n",
    "    return combined_df\n"
   ]
  },
  {
   "cell_type": "code",
   "execution_count": 14,
   "metadata": {},
   "outputs": [],
   "source": [
    "import plotly.graph_objects as go\n",
    "from plotly.subplots import make_subplots\n",
    "import nltk\n",
    "import pandas as pd\n",
    "from nltk.corpus import stopwords\n",
    "import string\n",
    "\n",
    "# Ensuring NLTK resources are downloaded\n",
    "nltk.download('punkt', quiet=True)\n",
    "nltk.download('stopwords', quiet=True)\n",
    "\n",
    "def text_description_histograms(df, params):\n",
    "    \"\"\"\n",
    "    This function takes a dataframe and plots histograms for the specified metrics.\n",
    "\n",
    "    Parameters:\n",
    "    - df (DataFrame): DataFrame containing the text data.\n",
    "    - params (dict): Dictionary containing parameters like \"text_column\", \"unwanted_tokens\", and \"lang\".\n",
    "    \n",
    "    Returns:\n",
    "    - Plotly figure containing the histograms.\n",
    "    \"\"\"\n",
    "    \n",
    "    text_column = params[\"text_column\"]\n",
    "    \n",
    "    # Combined function to get all metrics\n",
    "    gen_metrics_df = general_text_metrics(df, text_column)\n",
    "    vocab_metrics_df = vocabulary_structure_metrics(df, text_column, params[\"unwanted_tokens\"], params[\"lang\"])\n",
    "    combined_df = pd.concat([gen_metrics_df, vocab_metrics_df], axis=1)\n",
    "    \n",
    "    # Determine number of rows based on number of metrics\n",
    "    num_rows = (combined_df.shape[1] + 1) // 2  # Ceiling division to ensure every metric gets a subplot\n",
    "    \n",
    "    # Create subplots\n",
    "    fig = make_subplots(rows=num_rows, cols=2, subplot_titles=combined_df.columns)\n",
    "\n",
    "    # For each metric, plot a histogram\n",
    "    for index, column in enumerate(combined_df.columns):\n",
    "        row, col = divmod(index, 2)\n",
    "        fig.add_trace(\n",
    "            go.Histogram(x=combined_df[column], name=column),\n",
    "            row=row+1,\n",
    "            col=col+1\n",
    "        )\n",
    "\n",
    "    # Update layout for better appearance and adjust the height\n",
    "    subplot_height = 400  # Define the height of each individual subplot\n",
    "    total_height = num_rows * subplot_height\n",
    "    fig.update_layout(title_text=\"Distribution of Text Metrics\", bargap=0.2, bargroupgap=0.1, height=total_height)\n",
    "    \n",
    "    return fig.show()"
   ]
  },
  {
   "cell_type": "code",
   "execution_count": 15,
   "metadata": {},
   "outputs": [],
   "source": [
    "def text_structure_histograms(df, params):\n",
    "    \n",
    "    text_column = params[\"text_column\"]\n",
    "    num_docs_to_plot = params[\"num_docs_to_plot\"]\n",
    "    \n",
    "    \n",
    "    # Ensure the nltk punkt tokenizer is downloaded\n",
    "    nltk.download('punkt', quiet=True)\n",
    "    \n",
    "    # Decide on the number of documents to plot\n",
    "    if not num_docs_to_plot or num_docs_to_plot > len(df):\n",
    "        num_docs_to_plot = len(df)\n",
    "\n",
    "    # Colors for each subplot\n",
    "    colors = ['blue', 'green', 'red', 'purple']\n",
    "\n",
    "    # Axis titles for clarity\n",
    "    x_titles = [\n",
    "        \"Word Frequencies\",\n",
    "        \"Sentence Position in Document\",\n",
    "        \"Sentence Lengths (Words)\",\n",
    "        \"Word Lengths (Characters)\"\n",
    "    ]\n",
    "    y_titles = [\n",
    "        \"Number of Words\",\n",
    "        \"Sentence Length (Words)\",\n",
    "        \"Number of Sentences\",\n",
    "        \"Number of Words\"\n",
    "    ]\n",
    "\n",
    "    # Iterate over each document in the DataFrame up to the user-specified limit\n",
    "    for index, (idx, row) in enumerate(df.head(num_docs_to_plot).iterrows()):\n",
    "        # Create subplots with a 2x2 grid for each metric\n",
    "        fig = sp.make_subplots(\n",
    "            rows=2, cols=2, \n",
    "            subplot_titles=[\n",
    "                \"Word Frequencies\", \n",
    "                \"Sentence Positions\",\n",
    "                \"Sentence Lengths\", \n",
    "                \"Word Lengths\"\n",
    "            ]\n",
    "        )\n",
    "        \n",
    "        # Tokenize document into sentences and words\n",
    "        sentences = nltk.sent_tokenize(row[text_column])\n",
    "        words = nltk.word_tokenize(row[text_column])\n",
    "        \n",
    "        # Metrics computation\n",
    "        word_freq = Counter(words)\n",
    "        freq_counts = Counter(word_freq.values())\n",
    "        word_frequencies = list(freq_counts.keys())\n",
    "        word_frequency_counts = list(freq_counts.values())\n",
    "        \n",
    "        sentence_positions = list(range(1, len(sentences) + 1))\n",
    "        sentence_lengths = [len(sentence.split()) for sentence in sentences]\n",
    "        word_lengths = [len(word) for word in words]\n",
    "        \n",
    "        # Adding data to subplots\n",
    "        fig.add_trace(go.Bar(x=word_frequencies, y=word_frequency_counts, marker_color=colors[0], showlegend=False), row=1, col=1)\n",
    "        fig.add_trace(go.Bar(x=sentence_positions, y=sentence_lengths, marker_color=colors[1], showlegend=False), row=1, col=2)\n",
    "        fig.add_trace(go.Histogram(x=sentence_lengths, nbinsx=50, opacity=0.75, marker_color=colors[2], showlegend=False), row=2, col=1)\n",
    "        fig.add_trace(go.Histogram(x=word_lengths, nbinsx=50, opacity=0.75, marker_color=colors[3], showlegend=False), row=2, col=2)\n",
    "\n",
    "        # Update x and y axis titles\n",
    "        for i, (x_title, y_title) in enumerate(zip(x_titles, y_titles)):\n",
    "            fig['layout'][f'xaxis{i+1}'].update(title=x_title, titlefont=dict(size=10))\n",
    "            fig['layout'][f'yaxis{i+1}'].update(title=y_title, titlefont=dict(size=10))\n",
    "\n",
    "        # Update layout\n",
    "        fig.update_layout(\n",
    "            title=f\"Text Description for Document {index+1}\",\n",
    "            barmode='overlay',\n",
    "            height=800\n",
    "        )\n",
    "        \n",
    "        fig.show()"
   ]
  },
  {
   "cell_type": "code",
   "execution_count": 16,
   "metadata": {},
   "outputs": [],
   "source": [
    "import plotly.graph_objects as go\n",
    "from plotly.subplots import make_subplots\n",
    "\n",
    "# Assuming the previously defined functions and parameters are present\n",
    "\n",
    "def text_description_scatter(df, params):\n",
    "    \"\"\"\n",
    "    This function takes a dataframe and plots scatter plots for the specified combinations of metrics.\n",
    "\n",
    "    Parameters:\n",
    "    - df (DataFrame): DataFrame containing the text data.\n",
    "    - params (dict): Dictionary containing parameters like \"combinations_to_plot\", \"text_column\", \"unwanted_tokens\", and \"lang\".\n",
    "    \n",
    "    Returns:\n",
    "    - Plotly figure containing the scatter plots.\n",
    "    \"\"\"\n",
    "    \n",
    "    text_column = params[\"text_column\"]\n",
    "    \n",
    "    # Combined function to get all metrics\n",
    "    gen_metrics_df = general_text_metrics(df, text_column)\n",
    "    vocab_metrics_df = vocabulary_structure_metrics(df, text_column, params[\"unwanted_tokens\"], params[\"lang\"])\n",
    "    combined_df = pd.concat([gen_metrics_df, vocab_metrics_df], axis=1)\n",
    "    \n",
    "    combinations_to_plot = params[\"combinations_to_plot\"]\n",
    "    num_combinations = len(combinations_to_plot)\n",
    "    \n",
    "    # Determine number of rows based on number of combinations\n",
    "    num_rows = (num_combinations + 1) // 2  # Ceiling division\n",
    "    \n",
    "    # Create subplots\n",
    "    fig = make_subplots(rows=num_rows, cols=2, subplot_titles=[f\"{x} vs {y}\" for x, y in combinations_to_plot])\n",
    "    \n",
    "    # For each combination, plot a scatter plot\n",
    "    for index, (x_column, y_column) in enumerate(combinations_to_plot):\n",
    "        row, col = divmod(index, 2)\n",
    "        fig.add_trace(\n",
    "            go.Scatter(x=combined_df[x_column], y=combined_df[y_column], mode='markers', showlegend=False),\n",
    "            row=row+1,\n",
    "            col=col+1\n",
    "        )\n",
    "        # Update axis titles\n",
    "        fig.update_xaxes(title_text=x_column, row=row+1, col=col+1)\n",
    "        fig.update_yaxes(title_text=y_column, row=row+1, col=col+1)\n",
    "\n",
    "    # Update layout for better appearance\n",
    "    subplot_height = 400  # Define the height of each individual subplot\n",
    "    total_height = num_rows * subplot_height\n",
    "    fig.update_layout(title_text=\"Scatter Plots of Text Metrics Combinations\", height=total_height)\n",
    "    \n",
    "    return fig.show()\n",
    "\n",
    "# You can call the function with:\n",
    "# text_description_scatter(df, params)\n"
   ]
  },
  {
   "cell_type": "code",
   "execution_count": 17,
   "metadata": {},
   "outputs": [],
   "source": [
    "import pandas as pd\n",
    "import plotly.graph_objects as go\n",
    "from plotly.subplots import make_subplots\n",
    "from transformers import BertTokenizer\n",
    "\n",
    "def token_distribution_histograms(df, params):\n",
    "    \"\"\"\n",
    "    Visualize the token counts distribution of given columns using histograms.\n",
    "\n",
    "    :param df: DataFrame containing the text columns.\n",
    "    :param params: Dictionary with the key [\"text_columns\"].\n",
    "    \"\"\"\n",
    "    \n",
    "    df = df.copy()  # Create a deep copy of the DataFrame\n",
    "    text_columns = params[\"text_columns\"]\n",
    "    \n",
    "    # Define an extended list of colors for the subplots\n",
    "    colors = [\n",
    "        'blue', 'red', 'green', 'purple', 'orange', 'pink', 'yellow', 'brown',\n",
    "        'grey', 'cyan', 'magenta', 'lime', 'navy', 'maroon', 'olive', 'teal',\n",
    "        'aqua', 'fuchsia', 'salmon', 'indigo'\n",
    "    ]\n",
    "    \n",
    "    # Initialize the tokenizer\n",
    "    tokenizer = BertTokenizer.from_pretrained('bert-base-uncased')\n",
    "    \n",
    "    # Determine the number of rows required based on the number of text columns\n",
    "    num_rows = (len(text_columns) + 1) // 2\n",
    "    \n",
    "    # Create subplots\n",
    "    fig = make_subplots(rows=num_rows, cols=2, subplot_titles=text_columns)\n",
    "    \n",
    "    for idx, col in enumerate(text_columns, start=1):\n",
    "        row = (idx - 1) // 2 + 1\n",
    "        col_idx = (idx - 1) % 2 + 1\n",
    "        \n",
    "        # Tokenize the column and get the number of tokens\n",
    "        tokens_col = f'tokens_{idx}'\n",
    "        df[tokens_col] = df[col].apply(lambda x: len(tokenizer.tokenize(x)))\n",
    "        \n",
    "        # Add histogram with color corresponding to the index\n",
    "        fig.add_trace(go.Histogram(x=df[tokens_col], \n",
    "                                   marker_color=colors[(idx - 1) % len(colors)],  # Cycle through the color list\n",
    "                                   showlegend=False),\n",
    "                      row=row, col=col_idx)\n",
    "        \n",
    "        # Only add axis titles to the first subplot\n",
    "        if idx == 1:\n",
    "            fig.update_yaxes(title_text='Number of Documents', row=row, col=col_idx)\n",
    "            fig.update_xaxes(title_text='Number of Tokens', row=row, col=col_idx)\n",
    "        \n",
    "    # Update layout\n",
    "    subplot_height = 300  # Height of each subplot\n",
    "    total_height = num_rows * subplot_height + 200  # 200 for padding, titles, etc.\n",
    "    fig.update_layout(title_text='Token Distributions', bargap=0.1, height=total_height, showlegend=False)\n",
    "    \n",
    "    # Show the plot\n",
    "    fig.show()\n",
    "\n"
   ]
  },
  {
   "cell_type": "code",
   "execution_count": 18,
   "metadata": {},
   "outputs": [],
   "source": [
    "from rouge import Rouge\n",
    "import pandas as pd\n",
    "import plotly.graph_objects as go\n",
    "from itertools import combinations\n",
    "from plotly.subplots import make_subplots\n",
    "\n",
    "def rouge_scores_plot(df, params):\n",
    "    \"\"\"\n",
    "    Compute ROUGE scores for each unique pair of text columns in the DataFrame and visualize them.\n",
    "    \n",
    "    :param df: DataFrame containing the summaries.\n",
    "    :param params: Dictionary with the keys [\"text_columns\", \"metric\"].\n",
    "    \"\"\"\n",
    "    \n",
    "    # Extract parameters\n",
    "    metric = params.get(\"metric\", \"rouge-2\")\n",
    "    text_columns = params[\"text_columns\"]\n",
    "    \n",
    "    if metric not in [\"rouge-1\", \"rouge-2\", \"rouge-l\", \"rouge-s\"]:\n",
    "        raise ValueError(\"Invalid metric. Choose from 'rouge-1', 'rouge-2', 'rouge-l', 'rouge-s'.\")\n",
    "    \n",
    "    rouge = Rouge(metrics=[metric])\n",
    "    \n",
    "    # Determine all unique pairs of text columns\n",
    "    pairs = list(combinations(text_columns, 2))\n",
    "    num_rows = (len(pairs) + 1) // 2\n",
    "    \n",
    "    # Create subplots\n",
    "    fig = make_subplots(rows=num_rows, cols=2, subplot_titles=[f'{ref} vs {gen}' for ref, gen in pairs])\n",
    "    \n",
    "    color_dict = {'p': 'blue', 'r': 'green', 'f': 'red'}\n",
    "    \n",
    "    for idx, (ref_column, gen_column) in enumerate(pairs, start=1):\n",
    "        score_list = []\n",
    "        \n",
    "        for _, row in df.iterrows():\n",
    "            scores = rouge.get_scores(row[gen_column], row[ref_column], avg=True)[metric]\n",
    "            score_list.append(scores)\n",
    "        \n",
    "        df_scores = pd.DataFrame(score_list)\n",
    "        row = (idx - 1) // 2 + 1\n",
    "        col = (idx - 1) % 2 + 1\n",
    "        \n",
    "        # Adding the line plots\n",
    "        for score_type, color in color_dict.items():\n",
    "            fig.add_trace(\n",
    "                go.Scatter(x=df_scores.index, y=df_scores[score_type], mode='lines+markers', \n",
    "                        name=\"Precision\" if score_type == 'p' else \"Recall\" if score_type == 'r' else \"F1\",\n",
    "                        line=dict(color=color),\n",
    "                        showlegend=True if idx == 1 else False),  # Show legend only in the first subplot\n",
    "                row=row, col=col\n",
    "            )\n",
    "        \n",
    "    # Set layout properties\n",
    "    fig.update_layout(\n",
    "        title=f\"ROUGE-{metric.split('-')[-1].upper()} Scores\",\n",
    "        xaxis_title=\"Row Index\",\n",
    "        yaxis_title=\"Score\",\n",
    "        height=num_rows * 300  # You might want to adjust this value based on your actual needs\n",
    "    )\n",
    "    \n",
    "    # Show the plot\n",
    "    fig.show()\n",
    "\n"
   ]
  },
  {
   "attachments": {},
   "cell_type": "markdown",
   "metadata": {},
   "source": [
    "### Hugging Face models wrappers\n",
    "\n",
    "The following code template showcases how to wrap a Hugging Face model for compatibility with the ValidMind Developer Framework. We will load an example model using the transformers API and then run some predictions on our test dataset.\n",
    "\n",
    "The ValidMind developer framework provides support for Hugging Face transformers out of the box, so in the following section we will show how to initialize multiple transformers models with the `init_model` function, removing the need for a custom wrapper. In cases where you need extra pre-processing or post-processing steps, you can use the following code template as a starting point to wrap your model."
   ]
  },
  {
   "cell_type": "code",
   "execution_count": 19,
   "metadata": {},
   "outputs": [],
   "source": [
    "from dataclasses import dataclass\n",
    "import pandas as pd\n",
    "from transformers import pipeline\n",
    "\n",
    "@dataclass\n",
    "class AbstractSummarization_HuggingFace:\n",
    "    \"\"\"\n",
    "    A VM Model instance wrapper for abstract summarization using HuggingFace Transformers.\n",
    "    \"\"\"\n",
    "    model: any\n",
    "    tokenizer: any\n",
    "    predicted_prob_values: list = None\n",
    "\n",
    "    def __init__(self, model_name=None, model=None, tokenizer=None):\n",
    "        pipeline_task = \"summarization\"\n",
    "        self.model_name = model_name\n",
    "        self.pipeline_task = pipeline_task\n",
    "        self.model = pipeline(pipeline_task, model=model, tokenizer=tokenizer)\n",
    "\n",
    "    def predict(self, texts, params={}):\n",
    "        \"\"\"\n",
    "        Generates summaries for the given texts.\n",
    "        \n",
    "        Parameters:\n",
    "        - texts (list): List of texts to be summarized.\n",
    "        - params (dict, optional): Dictionary that may contain \"min_length\" and/or \"max_length\" to control the produced summary's length.\n",
    "        \n",
    "        Returns:\n",
    "        - List of summaries.\n",
    "        \"\"\"\n",
    "        \n",
    "        min_length = params.get(\"min_length\")\n",
    "        max_length = params.get(\"max_length\")\n",
    "        \n",
    "        # If either value is None, don't pass it to the model function\n",
    "        model_args = {}\n",
    "        if min_length is not None:\n",
    "            model_args[\"min_length\"] = min_length\n",
    "        if max_length is not None:\n",
    "            model_args[\"max_length\"] = max_length\n",
    "\n",
    "        summaries = []\n",
    "\n",
    "        for text in texts:\n",
    "            data = [str(text)]\n",
    "            results = self.model(data, **model_args)  # Using ** unpacking to pass arguments conditionally\n",
    "            results_df = pd.DataFrame(results)\n",
    "            summary = results_df[\"summary_text\"].values[0] if \"summary_text\" in results_df.columns else results_df[\"label\"].values[0]\n",
    "            summaries.append(summary)\n",
    "\n",
    "        return summaries\n",
    "\n",
    "    def predict_proba(self):\n",
    "        \"\"\"\n",
    "        Retrieves predicted probabilities after prediction. \n",
    "        Note: Not all models provide predicted probabilities.\n",
    "        \"\"\"\n",
    "        if self.predicted_prob_values is None:\n",
    "            raise ValueError(\"First run predict method to retrieve predicted probabilities\")\n",
    "        return self.predicted_prob_values\n",
    "\n",
    "    def description(self):\n",
    "        \"\"\"\n",
    "        Describes the methods available in the class.\n",
    "        \n",
    "        The class provides methods for abstract summarization using HuggingFace Transformers.\n",
    "        \n",
    "        The predict method:\n",
    "        1. Generates summaries for given texts.\n",
    "        2. Accepts a 'params' dictionary which can contain optional 'min_length' and 'max_length' parameters to control the length of the produced summary.\n",
    "        \n",
    "        The predict_proba method:\n",
    "        Retrieves predicted probabilities after prediction (if available by the model).\n",
    "        \"\"\"\n",
    "        return self.description.__doc__\n"
   ]
  },
  {
   "cell_type": "code",
   "execution_count": 20,
   "metadata": {},
   "outputs": [],
   "source": [
    "from dataclasses import dataclass\n",
    "import torch\n",
    "import numpy as np\n",
    "from sklearn.metrics.pairwise import cosine_similarity\n",
    "\n",
    "@dataclass\n",
    "class ExtractiveSummarization_BERT:\n",
    "    model: any\n",
    "    tokenizer: any\n",
    "\n",
    "    def _get_embedding(self, text):\n",
    "        inputs = self.tokenizer(text, return_tensors=\"pt\", truncation=True, max_length=512, padding='max_length')\n",
    "        with torch.no_grad():\n",
    "            output = self.model(**inputs)\n",
    "        return output['last_hidden_state'].mean(dim=1).squeeze().detach().numpy()\n",
    "\n",
    "    def predict(self, texts, params={}):\n",
    "        summaries = []\n",
    "\n",
    "        # Extract summary_length from params, default to None if not provided\n",
    "        summary_length = params.get(\"summary_length\", None)\n",
    "\n",
    "        for text in texts:\n",
    "            sentences = text.split('. ')\n",
    "            \n",
    "            document_embedding = self._get_embedding(' '.join(sentences))\n",
    "            sentence_embeddings = [self._get_embedding(sentence) for sentence in sentences]\n",
    "            similarities = cosine_similarity(sentence_embeddings, [document_embedding])\n",
    "            sorted_indices = np.argsort(similarities, axis=0)[::-1].squeeze()\n",
    "\n",
    "            # Determine summary length\n",
    "            if summary_length is None:  # If not provided, use 20% of the total sentence count\n",
    "                top_k = int(len(sentences) * 0.2)\n",
    "            else:  # If provided, use the user-defined length\n",
    "                top_k = summary_length\n",
    "\n",
    "            # Extract the top sentences based on the chosen summary length\n",
    "            selected_sentences = [sentences[i] for i in sorted_indices[:top_k]]\n",
    "\n",
    "            summaries.append(' '.join(selected_sentences))\n",
    "        \n",
    "        return summaries\n",
    "\n",
    "    def description(self):\n",
    "        \"\"\" \n",
    "        Provides a description of the methods available for extractive summarization with the current model.\n",
    "        \n",
    "        The model ranks sentences in the input text based on their similarity to the overall document meaning, as determined by BERT embeddings. The top-ranked sentences are selected to form the summary.\n",
    "        \n",
    "        The length of the summary can be controlled in two ways:\n",
    "        1. Automatically: Where the model summarizes to approximately 20% of the original text's sentence count.\n",
    "        2. User-defined: By specifying the 'summary_length' parameter in the 'params' dictionary when calling the 'predict' method.\n",
    "        \n",
    "        \"\"\"\n",
    "        return self.description.__doc__\n",
    "\n"
   ]
  },
  {
   "attachments": {},
   "cell_type": "markdown",
   "metadata": {},
   "source": [
    "## 2. Load Data"
   ]
  },
  {
   "attachments": {},
   "cell_type": "markdown",
   "metadata": {},
   "source": [
    "In this section, we'll load the financial dataset, which will be the foundation for our summarization analysis tasks. \n",
    "\n",
    "The dataset is structured with several columns, namely \"ID\", \"topic\", \"input\", and \"reference_summary\". Each record is identified by a unique \"ID\". The \"topic\" column specifies the category or theme of the news, the \"input\" column contains detailed articles or news content, and the \"reference_summary\" provides a concise summary of the respective article in the \"input\". The dataset sources its content from BBC news."
   ]
  },
  {
   "cell_type": "code",
   "execution_count": 21,
   "metadata": {},
   "outputs": [
    {
     "data": {
      "text/html": [
       "<table>\n",
       "<thead>\n",
       "<tr><th style=\"text-align: right;\">  ID</th><th>topic   </th><th>input  </th><th>reference_summary  </th></tr>\n",
       "</thead>\n",
       "<tbody>\n",
       "<tr><td style=\"text-align: right;\">   1</td><td>business</td><td>Ad sales boost Time Warner profit\n",
       "\n",
       "Quarterly profits at US media giant TimeWarner\n",
       "jumped 76% to $1.13bn (£600m) for the three months\n",
       "to December, from $639m year-earlier.\n",
       "\n",
       "The firm, which is now one of the biggest\n",
       "investors in Google, benefited from sales of high-\n",
       "speed internet connections and higher advert\n",
       "sales. TimeWarner said fourth quarter sales rose\n",
       "2% to $11.1bn from $10.9bn. Its profits were\n",
       "buoyed by one-off gains which offset a profit dip\n",
       "at Warner Bros, and less users for AOL.\n",
       "\n",
       "Time Warner said on Friday that it now owns 8% of\n",
       "search-engine Google. But its own internet\n",
       "business, AOL, had has mixed fortunes. It lost\n",
       "464,000 subscribers in the fourth quarter profits\n",
       "were lower than in the preceding three quarters.\n",
       "However, the company said AOL&#x27;s underlying profit\n",
       "before exceptional items rose 8% on the back of\n",
       "stronger internet advertising revenues. It hopes\n",
       "to increase subscribers by offering the online\n",
       "service free to TimeWarner internet customers and\n",
       "will try to sign up AOL&#x27;s existing customers for\n",
       "high-speed broadband. TimeWarner also has to\n",
       "restate 2000 and 2003 results following a probe by\n",
       "the US Securities Exchange Commission (SEC), which\n",
       "is close to concluding.\n",
       "\n",
       "Time Warner&#x27;s fourth quarter profits were slightly\n",
       "better than analysts&#x27; expectations. But its film\n",
       "division saw profits slump 27% to $284m, helped by\n",
       "box-office flops Alexander and Catwoman, a sharp\n",
       "contrast to year-earlier, when the third and final\n",
       "film in the Lord of the Rings trilogy boosted\n",
       "results. For the full-year, TimeWarner posted a\n",
       "profit of $3.36bn, up 27% from its 2003\n",
       "performance, while revenues grew 6.4% to $42.09bn.\n",
       "&quot;Our financial performance was strong, meeting or\n",
       "exceeding all of our full-year objectives and\n",
       "greatly enhancing our flexibility,&quot; chairman and\n",
       "chief executive Richard Parsons said. For 2005,\n",
       "TimeWarner is projecting operating earnings growth\n",
       "of around 5%, and also expects higher revenue and\n",
       "wider profit margins.\n",
       "\n",
       "TimeWarner is to restate its accounts as part of\n",
       "efforts to resolve an inquiry into AOL by US\n",
       "market regulators. It has already offered to pay\n",
       "$300m to settle charges, in a deal that is under\n",
       "review by the SEC. The company said it was unable\n",
       "to estimate the amount it needed to set aside for\n",
       "legal reserves, which it previously set at $500m.\n",
       "It intends to adjust the way it accounts for a\n",
       "deal with German music publisher Bertelsmann&#x27;s\n",
       "purchase of a stake in AOL Europe, which it had\n",
       "reported as advertising revenue. It will now book\n",
       "the sale of its stake in AOL Europe as a loss on\n",
       "the value of that stake.        </td><td>The firm, which is now one of the biggest\n",
       "investors in Google, benefited from sales of high-\n",
       "speed internet connections and higher advert\n",
       "sales. TimeWarner said fourth quarter sales rose\n",
       "2% to $11.1bn from $10.9bn. Its profits were\n",
       "buoyed by one-off gains which offset a profit dip\n",
       "at Warner Bros, and less users for AOL. Quarterly\n",
       "profits at US media giant TimeWarner jumped 76% to\n",
       "$1.13bn (£600m) for the three months to December,\n",
       "from $639m year-earlier. Ad sales boost Time\n",
       "Warner profit                    </td></tr>\n",
       "<tr><td style=\"text-align: right;\">   2</td><td>business</td><td>Dollar gains on Greenspan speech\n",
       "\n",
       "The dollar has hit its highest level against the\n",
       "euro in almost three months after the Federal\n",
       "Reserve head said the US trade deficit is set to\n",
       "stabilise.\n",
       "\n",
       "And Alan Greenspan highlighted the US government&#x27;s\n",
       "willingness to curb spending and rising household\n",
       "savings as factors which may help to reduce it. In\n",
       "late trading in New York, the dollar reached\n",
       "$1.2871 against the euro, from $1.2974 on\n",
       "Thursday. Market concerns about the deficit has\n",
       "hit the greenback in recent months. On Friday,\n",
       "Federal Reserve chairman Mr Greenspan&#x27;s speech in\n",
       "London ahead of the meeting of G7 finance\n",
       "ministers sent the dollar higher after it had\n",
       "earlier tumbled on the back of worse-than-expected\n",
       "US jobs data. &quot;I think the chairman&#x27;s taking a\n",
       "much more sanguine view on the current account\n",
       "deficit than he&#x27;s taken for some time,&quot; said\n",
       "Robert Sinche, head of currency strategy at Bank\n",
       "of America in New York. &quot;He&#x27;s taking a longer-term\n",
       "view, laying out a set of conditions under which\n",
       "the current account deficit can improve this year\n",
       "and next.&quot;\n",
       "\n",
       "Worries about the deficit concerns about China do,\n",
       "however, remain. China&#x27;s currency remains pegged\n",
       "to the dollar and the US currency&#x27;s sharp falls in\n",
       "recent months have therefore made Chinese export\n",
       "prices highly competitive. But calls for a shift\n",
       "in Beijing&#x27;s policy have fallen on deaf ears,\n",
       "despite recent comments in a major Chinese\n",
       "newspaper that the &quot;time is ripe&quot; for a loosening\n",
       "of the peg. The G7 meeting is thought unlikely to\n",
       "produce any meaningful movement in Chinese policy.\n",
       "In the meantime, the US Federal Reserve&#x27;s decision\n",
       "on 2 February to boost interest rates by a quarter\n",
       "of a point - the sixth such move in as many months\n",
       "- has opened up a differential with European\n",
       "rates. The half-point window, some believe, could\n",
       "be enough to keep US assets looking more\n",
       "attractive, and could help prop up the dollar. The\n",
       "recent falls have partly been the result of big\n",
       "budget deficits, as well as the US&#x27;s yawning\n",
       "current account gap, both of which need to be\n",
       "funded by the buying of US bonds and assets by\n",
       "foreign firms and governments. The White House\n",
       "will announce its budget on Monday, and many\n",
       "commentators believe the deficit will remain at\n",
       "close to half a trillion dollars.        </td><td>The dollar has hit its highest level against the\n",
       "euro in almost three months after the Federal\n",
       "Reserve head said the US trade deficit is set to\n",
       "stabilise. Dollar gains on Greenspan speech                    </td></tr>\n",
       "</tbody>\n",
       "</table>"
      ],
      "text/plain": [
       "<IPython.core.display.HTML object>"
      ]
     },
     "metadata": {},
     "output_type": "display_data"
    }
   ],
   "source": [
    "df_summarization = load_text_data(\n",
    "    filepath='./datasets/bbc_text_cls_reference.csv', \n",
    "    num_records=100\n",
    ")\n",
    "\n",
    "display_nice(df_summarization, num_rows=2)"
   ]
  },
  {
   "attachments": {},
   "cell_type": "markdown",
   "metadata": {},
   "source": [
    "## 3. Extractive Summarization: Hugging Face-BERT Model"
   ]
  },
  {
   "attachments": {},
   "cell_type": "markdown",
   "metadata": {},
   "source": [
    "Extractive summarization is a technique used to produce a summary by selecting and extracting whole sentences or passages from the source document without modifying the original content. Essentially, it identifies and \"extracts\" the most important and relevant information from the larger text to create a condensed version."
   ]
  },
  {
   "cell_type": "code",
   "execution_count": 22,
   "metadata": {},
   "outputs": [],
   "source": [
    "model = BertModel.from_pretrained(\"bert-base-uncased\")  \n",
    "tokenizer = BertTokenizer.from_pretrained(\"bert-base-uncased\")\n",
    "extractive_model = ExtractiveSummarization_BERT(model=model, tokenizer=tokenizer)"
   ]
  },
  {
   "cell_type": "code",
   "execution_count": 23,
   "metadata": {},
   "outputs": [
    {
     "data": {
      "text/html": [
       "<table>\n",
       "<thead>\n",
       "<tr><th style=\"text-align: right;\">  ID</th><th>topic   </th><th>input  </th><th>reference_summary  </th><th>extractive_summary  </th></tr>\n",
       "</thead>\n",
       "<tbody>\n",
       "<tr><td style=\"text-align: right;\">   1</td><td>business</td><td>Ad sales boost Time Warner profit\n",
       "\n",
       "Quarterly profits at US media giant TimeWarner\n",
       "jumped 76% to $1.13bn (£600m) for the three months\n",
       "to December, from $639m year-earlier.\n",
       "\n",
       "The firm, which is now one of the biggest\n",
       "investors in Google, benefited from sales of high-\n",
       "speed internet connections and higher advert\n",
       "sales. TimeWarner said fourth quarter sales rose\n",
       "2% to $11.1bn from $10.9bn. Its profits were\n",
       "buoyed by one-off gains which offset a profit dip\n",
       "at Warner Bros, and less users for AOL.\n",
       "\n",
       "Time Warner said on Friday that it now owns 8% of\n",
       "search-engine Google. But its own internet\n",
       "business, AOL, had has mixed fortunes. It lost\n",
       "464,000 subscribers in the fourth quarter profits\n",
       "were lower than in the preceding three quarters.\n",
       "However, the company said AOL&#x27;s underlying profit\n",
       "before exceptional items rose 8% on the back of\n",
       "stronger internet advertising revenues. It hopes\n",
       "to increase subscribers by offering the online\n",
       "service free to TimeWarner internet customers and\n",
       "will try to sign up AOL&#x27;s existing customers for\n",
       "high-speed broadband. TimeWarner also has to\n",
       "restate 2000 and 2003 results following a probe by\n",
       "the US Securities Exchange Commission (SEC), which\n",
       "is close to concluding.\n",
       "\n",
       "Time Warner&#x27;s fourth quarter profits were slightly\n",
       "better than analysts&#x27; expectations. But its film\n",
       "division saw profits slump 27% to $284m, helped by\n",
       "box-office flops Alexander and Catwoman, a sharp\n",
       "contrast to year-earlier, when the third and final\n",
       "film in the Lord of the Rings trilogy boosted\n",
       "results. For the full-year, TimeWarner posted a\n",
       "profit of $3.36bn, up 27% from its 2003\n",
       "performance, while revenues grew 6.4% to $42.09bn.\n",
       "&quot;Our financial performance was strong, meeting or\n",
       "exceeding all of our full-year objectives and\n",
       "greatly enhancing our flexibility,&quot; chairman and\n",
       "chief executive Richard Parsons said. For 2005,\n",
       "TimeWarner is projecting operating earnings growth\n",
       "of around 5%, and also expects higher revenue and\n",
       "wider profit margins.\n",
       "\n",
       "TimeWarner is to restate its accounts as part of\n",
       "efforts to resolve an inquiry into AOL by US\n",
       "market regulators. It has already offered to pay\n",
       "$300m to settle charges, in a deal that is under\n",
       "review by the SEC. The company said it was unable\n",
       "to estimate the amount it needed to set aside for\n",
       "legal reserves, which it previously set at $500m.\n",
       "It intends to adjust the way it accounts for a\n",
       "deal with German music publisher Bertelsmann&#x27;s\n",
       "purchase of a stake in AOL Europe, which it had\n",
       "reported as advertising revenue. It will now book\n",
       "the sale of its stake in AOL Europe as a loss on\n",
       "the value of that stake.        </td><td>The firm, which is now one of the biggest\n",
       "investors in Google, benefited from sales of high-\n",
       "speed internet connections and higher advert\n",
       "sales. TimeWarner said fourth quarter sales rose\n",
       "2% to $11.1bn from $10.9bn. Its profits were\n",
       "buoyed by one-off gains which offset a profit dip\n",
       "at Warner Bros, and less users for AOL. Quarterly\n",
       "profits at US media giant TimeWarner jumped 76% to\n",
       "$1.13bn (£600m) for the three months to December,\n",
       "from $639m year-earlier. Ad sales boost Time\n",
       "Warner profit                    </td><td>Ad sales boost Time Warner profit\n",
       "\n",
       "Quarterly profits at US media giant TimeWarner\n",
       "jumped 76% to $1.13bn (£600m) for the three months\n",
       "to December, from $639m year-earlier.\n",
       "\n",
       "The firm, which is now one of the biggest\n",
       "investors in Google, benefited from sales of high-\n",
       "speed internet connections and higher advert sales\n",
       "For 2005, TimeWarner is projecting operating\n",
       "earnings growth of around 5%, and also expects\n",
       "higher revenue and wider profit margins.\n",
       "\n",
       "TimeWarner is to restate its accounts as part of\n",
       "efforts to resolve an inquiry into AOL by US\n",
       "market regulators TimeWarner also has to restate\n",
       "2000 and 2003 results following a probe by the US\n",
       "Securities Exchange Commission (SEC), which is\n",
       "close to concluding.\n",
       "\n",
       "Time Warner&#x27;s fourth quarter profits were slightly\n",
       "better than analysts&#x27; expectations                     </td></tr>\n",
       "<tr><td style=\"text-align: right;\">   2</td><td>business</td><td>Dollar gains on Greenspan speech\n",
       "\n",
       "The dollar has hit its highest level against the\n",
       "euro in almost three months after the Federal\n",
       "Reserve head said the US trade deficit is set to\n",
       "stabilise.\n",
       "\n",
       "And Alan Greenspan highlighted the US government&#x27;s\n",
       "willingness to curb spending and rising household\n",
       "savings as factors which may help to reduce it. In\n",
       "late trading in New York, the dollar reached\n",
       "$1.2871 against the euro, from $1.2974 on\n",
       "Thursday. Market concerns about the deficit has\n",
       "hit the greenback in recent months. On Friday,\n",
       "Federal Reserve chairman Mr Greenspan&#x27;s speech in\n",
       "London ahead of the meeting of G7 finance\n",
       "ministers sent the dollar higher after it had\n",
       "earlier tumbled on the back of worse-than-expected\n",
       "US jobs data. &quot;I think the chairman&#x27;s taking a\n",
       "much more sanguine view on the current account\n",
       "deficit than he&#x27;s taken for some time,&quot; said\n",
       "Robert Sinche, head of currency strategy at Bank\n",
       "of America in New York. &quot;He&#x27;s taking a longer-term\n",
       "view, laying out a set of conditions under which\n",
       "the current account deficit can improve this year\n",
       "and next.&quot;\n",
       "\n",
       "Worries about the deficit concerns about China do,\n",
       "however, remain. China&#x27;s currency remains pegged\n",
       "to the dollar and the US currency&#x27;s sharp falls in\n",
       "recent months have therefore made Chinese export\n",
       "prices highly competitive. But calls for a shift\n",
       "in Beijing&#x27;s policy have fallen on deaf ears,\n",
       "despite recent comments in a major Chinese\n",
       "newspaper that the &quot;time is ripe&quot; for a loosening\n",
       "of the peg. The G7 meeting is thought unlikely to\n",
       "produce any meaningful movement in Chinese policy.\n",
       "In the meantime, the US Federal Reserve&#x27;s decision\n",
       "on 2 February to boost interest rates by a quarter\n",
       "of a point - the sixth such move in as many months\n",
       "- has opened up a differential with European\n",
       "rates. The half-point window, some believe, could\n",
       "be enough to keep US assets looking more\n",
       "attractive, and could help prop up the dollar. The\n",
       "recent falls have partly been the result of big\n",
       "budget deficits, as well as the US&#x27;s yawning\n",
       "current account gap, both of which need to be\n",
       "funded by the buying of US bonds and assets by\n",
       "foreign firms and governments. The White House\n",
       "will announce its budget on Monday, and many\n",
       "commentators believe the deficit will remain at\n",
       "close to half a trillion dollars.        </td><td>The dollar has hit its highest level against the\n",
       "euro in almost three months after the Federal\n",
       "Reserve head said the US trade deficit is set to\n",
       "stabilise. Dollar gains on Greenspan speech                    </td><td>Dollar gains on Greenspan speech\n",
       "\n",
       "The dollar has hit its highest level against the\n",
       "euro in almost three months after the Federal\n",
       "Reserve head said the US trade deficit is set to\n",
       "stabilise.\n",
       "\n",
       "And Alan Greenspan highlighted the US government&#x27;s\n",
       "willingness to curb spending and rising household\n",
       "savings as factors which may help to reduce it In\n",
       "the meantime, the US Federal Reserve&#x27;s decision on\n",
       "2 February to boost interest rates by a quarter of\n",
       "a point - the sixth such move in as many months -\n",
       "has opened up a differential with European rates                     </td></tr>\n",
       "</tbody>\n",
       "</table>"
      ],
      "text/plain": [
       "<IPython.core.display.HTML object>"
      ]
     },
     "metadata": {},
     "output_type": "display_data"
    }
   ],
   "source": [
    "data = df_summarization.input.values.tolist()\n",
    "\n",
    "params = {\n",
    "    \"summary_length\": None,\n",
    "}\n",
    "\n",
    "extractive_summary = extractive_model.predict(data, params)\n",
    "\n",
    "df_summarization = add_list_to_df(\n",
    "    df = df_summarization, \n",
    "    column_data = extractive_summary,\n",
    "    column_name = \"extractive_summary\"\n",
    ")\n",
    "\n",
    "display_nice(df_summarization, num_rows=2)"
   ]
  },
  {
   "attachments": {},
   "cell_type": "markdown",
   "metadata": {},
   "source": [
    "## 4. Abstract Summarization: Hugging Face-T5 Model"
   ]
  },
  {
   "attachments": {},
   "cell_type": "markdown",
   "metadata": {},
   "source": [
    "Abstractive summarization is a technique used to produce a summary by understanding the main ideas of a source document and then expressing those ideas in a concise manner using new words and sentences, often not present in the original text. Instead of just extracting and repurposing existing sentences from the document, as is done in extractive summarization, abstractive summarization aims to capture the essence or meaning of the content and convey it in a shorter form."
   ]
  },
  {
   "cell_type": "code",
   "execution_count": 24,
   "metadata": {},
   "outputs": [
    {
     "name": "stderr",
     "output_type": "stream",
     "text": [
      "You are using the default legacy behaviour of the <class 'transformers.models.t5.tokenization_t5.T5Tokenizer'>. If you see this, DO NOT PANIC! This is expected, and simply means that the `legacy` (previous) behavior will be used so nothing changes for you. If you want to use the new behaviour, set `legacy=False`. This should only be set if you understand what it means, and thouroughly read the reason why this was added as explained in https://github.com/huggingface/transformers/pull/24565\n"
     ]
    }
   ],
   "source": [
    "from transformers import T5Tokenizer, T5ForConditionalGeneration\n",
    "\n",
    "tokenizer = T5Tokenizer.from_pretrained(\"t5-small\")\n",
    "model = T5ForConditionalGeneration.from_pretrained(\"t5-small\")\n",
    "abstract_model = AbstractSummarization_HuggingFace(model=model, tokenizer=tokenizer)"
   ]
  },
  {
   "cell_type": "code",
   "execution_count": 25,
   "metadata": {},
   "outputs": [
    {
     "name": "stderr",
     "output_type": "stream",
     "text": [
      "Token indices sequence length is longer than the specified maximum sequence length for this model (596 > 512). Running this sequence through the model will result in indexing errors\n",
      "Your max_length is set to 200, but your input_length is only 182. Since this is a summarization task, where outputs shorter than the input are typically wanted, you might consider decreasing max_length manually, e.g. summarizer('...', max_length=91)\n"
     ]
    },
    {
     "data": {
      "text/html": [
       "<table>\n",
       "<thead>\n",
       "<tr><th style=\"text-align: right;\">  ID</th><th>topic   </th><th>input  </th><th>reference_summary  </th><th>extractive_summary  </th><th>abstract_summary  </th></tr>\n",
       "</thead>\n",
       "<tbody>\n",
       "<tr><td style=\"text-align: right;\">   1</td><td>business</td><td>Ad sales boost Time Warner profit\n",
       "\n",
       "Quarterly profits at US media giant TimeWarner\n",
       "jumped 76% to $1.13bn (£600m) for the three months\n",
       "to December, from $639m year-earlier.\n",
       "\n",
       "The firm, which is now one of the biggest\n",
       "investors in Google, benefited from sales of high-\n",
       "speed internet connections and higher advert\n",
       "sales. TimeWarner said fourth quarter sales rose\n",
       "2% to $11.1bn from $10.9bn. Its profits were\n",
       "buoyed by one-off gains which offset a profit dip\n",
       "at Warner Bros, and less users for AOL.\n",
       "\n",
       "Time Warner said on Friday that it now owns 8% of\n",
       "search-engine Google. But its own internet\n",
       "business, AOL, had has mixed fortunes. It lost\n",
       "464,000 subscribers in the fourth quarter profits\n",
       "were lower than in the preceding three quarters.\n",
       "However, the company said AOL&#x27;s underlying profit\n",
       "before exceptional items rose 8% on the back of\n",
       "stronger internet advertising revenues. It hopes\n",
       "to increase subscribers by offering the online\n",
       "service free to TimeWarner internet customers and\n",
       "will try to sign up AOL&#x27;s existing customers for\n",
       "high-speed broadband. TimeWarner also has to\n",
       "restate 2000 and 2003 results following a probe by\n",
       "the US Securities Exchange Commission (SEC), which\n",
       "is close to concluding.\n",
       "\n",
       "Time Warner&#x27;s fourth quarter profits were slightly\n",
       "better than analysts&#x27; expectations. But its film\n",
       "division saw profits slump 27% to $284m, helped by\n",
       "box-office flops Alexander and Catwoman, a sharp\n",
       "contrast to year-earlier, when the third and final\n",
       "film in the Lord of the Rings trilogy boosted\n",
       "results. For the full-year, TimeWarner posted a\n",
       "profit of $3.36bn, up 27% from its 2003\n",
       "performance, while revenues grew 6.4% to $42.09bn.\n",
       "&quot;Our financial performance was strong, meeting or\n",
       "exceeding all of our full-year objectives and\n",
       "greatly enhancing our flexibility,&quot; chairman and\n",
       "chief executive Richard Parsons said. For 2005,\n",
       "TimeWarner is projecting operating earnings growth\n",
       "of around 5%, and also expects higher revenue and\n",
       "wider profit margins.\n",
       "\n",
       "TimeWarner is to restate its accounts as part of\n",
       "efforts to resolve an inquiry into AOL by US\n",
       "market regulators. It has already offered to pay\n",
       "$300m to settle charges, in a deal that is under\n",
       "review by the SEC. The company said it was unable\n",
       "to estimate the amount it needed to set aside for\n",
       "legal reserves, which it previously set at $500m.\n",
       "It intends to adjust the way it accounts for a\n",
       "deal with German music publisher Bertelsmann&#x27;s\n",
       "purchase of a stake in AOL Europe, which it had\n",
       "reported as advertising revenue. It will now book\n",
       "the sale of its stake in AOL Europe as a loss on\n",
       "the value of that stake.        </td><td>The firm, which is now one of the biggest\n",
       "investors in Google, benefited from sales of high-\n",
       "speed internet connections and higher advert\n",
       "sales. TimeWarner said fourth quarter sales rose\n",
       "2% to $11.1bn from $10.9bn. Its profits were\n",
       "buoyed by one-off gains which offset a profit dip\n",
       "at Warner Bros, and less users for AOL. Quarterly\n",
       "profits at US media giant TimeWarner jumped 76% to\n",
       "$1.13bn (£600m) for the three months to December,\n",
       "from $639m year-earlier. Ad sales boost Time\n",
       "Warner profit                    </td><td>Ad sales boost Time Warner profit\n",
       "\n",
       "Quarterly profits at US media giant TimeWarner\n",
       "jumped 76% to $1.13bn (£600m) for the three months\n",
       "to December, from $639m year-earlier.\n",
       "\n",
       "The firm, which is now one of the biggest\n",
       "investors in Google, benefited from sales of high-\n",
       "speed internet connections and higher advert sales\n",
       "For 2005, TimeWarner is projecting operating\n",
       "earnings growth of around 5%, and also expects\n",
       "higher revenue and wider profit margins.\n",
       "\n",
       "TimeWarner is to restate its accounts as part of\n",
       "efforts to resolve an inquiry into AOL by US\n",
       "market regulators TimeWarner also has to restate\n",
       "2000 and 2003 results following a probe by the US\n",
       "Securities Exchange Commission (SEC), which is\n",
       "close to concluding.\n",
       "\n",
       "Time Warner&#x27;s fourth quarter profits were slightly\n",
       "better than analysts&#x27; expectations                     </td><td>time Warner profits jumped 76% to $1.13bn (£600m)\n",
       "for the three months to December . it said fourth\n",
       "quarter sales rose 2% to $11.1bn from $10.9bn .\n",
       "its profits were buoyed by one-off gains which\n",
       "offset a profit dip .                   </td></tr>\n",
       "<tr><td style=\"text-align: right;\">   2</td><td>business</td><td>Dollar gains on Greenspan speech\n",
       "\n",
       "The dollar has hit its highest level against the\n",
       "euro in almost three months after the Federal\n",
       "Reserve head said the US trade deficit is set to\n",
       "stabilise.\n",
       "\n",
       "And Alan Greenspan highlighted the US government&#x27;s\n",
       "willingness to curb spending and rising household\n",
       "savings as factors which may help to reduce it. In\n",
       "late trading in New York, the dollar reached\n",
       "$1.2871 against the euro, from $1.2974 on\n",
       "Thursday. Market concerns about the deficit has\n",
       "hit the greenback in recent months. On Friday,\n",
       "Federal Reserve chairman Mr Greenspan&#x27;s speech in\n",
       "London ahead of the meeting of G7 finance\n",
       "ministers sent the dollar higher after it had\n",
       "earlier tumbled on the back of worse-than-expected\n",
       "US jobs data. &quot;I think the chairman&#x27;s taking a\n",
       "much more sanguine view on the current account\n",
       "deficit than he&#x27;s taken for some time,&quot; said\n",
       "Robert Sinche, head of currency strategy at Bank\n",
       "of America in New York. &quot;He&#x27;s taking a longer-term\n",
       "view, laying out a set of conditions under which\n",
       "the current account deficit can improve this year\n",
       "and next.&quot;\n",
       "\n",
       "Worries about the deficit concerns about China do,\n",
       "however, remain. China&#x27;s currency remains pegged\n",
       "to the dollar and the US currency&#x27;s sharp falls in\n",
       "recent months have therefore made Chinese export\n",
       "prices highly competitive. But calls for a shift\n",
       "in Beijing&#x27;s policy have fallen on deaf ears,\n",
       "despite recent comments in a major Chinese\n",
       "newspaper that the &quot;time is ripe&quot; for a loosening\n",
       "of the peg. The G7 meeting is thought unlikely to\n",
       "produce any meaningful movement in Chinese policy.\n",
       "In the meantime, the US Federal Reserve&#x27;s decision\n",
       "on 2 February to boost interest rates by a quarter\n",
       "of a point - the sixth such move in as many months\n",
       "- has opened up a differential with European\n",
       "rates. The half-point window, some believe, could\n",
       "be enough to keep US assets looking more\n",
       "attractive, and could help prop up the dollar. The\n",
       "recent falls have partly been the result of big\n",
       "budget deficits, as well as the US&#x27;s yawning\n",
       "current account gap, both of which need to be\n",
       "funded by the buying of US bonds and assets by\n",
       "foreign firms and governments. The White House\n",
       "will announce its budget on Monday, and many\n",
       "commentators believe the deficit will remain at\n",
       "close to half a trillion dollars.        </td><td>The dollar has hit its highest level against the\n",
       "euro in almost three months after the Federal\n",
       "Reserve head said the US trade deficit is set to\n",
       "stabilise. Dollar gains on Greenspan speech                    </td><td>Dollar gains on Greenspan speech\n",
       "\n",
       "The dollar has hit its highest level against the\n",
       "euro in almost three months after the Federal\n",
       "Reserve head said the US trade deficit is set to\n",
       "stabilise.\n",
       "\n",
       "And Alan Greenspan highlighted the US government&#x27;s\n",
       "willingness to curb spending and rising household\n",
       "savings as factors which may help to reduce it In\n",
       "the meantime, the US Federal Reserve&#x27;s decision on\n",
       "2 February to boost interest rates by a quarter of\n",
       "a point - the sixth such move in as many months -\n",
       "has opened up a differential with European rates                     </td><td>in late trading in new york, the dollar reached\n",
       "$1.2871 against the euro, from $1.2974 on Thursday\n",
       ". the u.s. government&#x27;s willingness to curb\n",
       "spending and rising household savings may help to\n",
       "reduce it . concerns about the current account\n",
       "deficit have hit the greenback in recent months .                   </td></tr>\n",
       "</tbody>\n",
       "</table>"
      ],
      "text/plain": [
       "<IPython.core.display.HTML object>"
      ]
     },
     "metadata": {},
     "output_type": "display_data"
    }
   ],
   "source": [
    "data = df_summarization.input.values.tolist()\n",
    "\n",
    "params = {\n",
    "    \"summary_length\": None\n",
    "}\n",
    "\n",
    "abstract_summary = abstract_model.predict(data, params)\n",
    "\n",
    "df_summarization = add_list_to_df(\n",
    "    df = df_summarization, \n",
    "    column_data = abstract_summary,\n",
    "    column_name = \"abstract_summary\"\n",
    ")\n",
    "\n",
    "display_nice(df_summarization, num_rows=2)"
   ]
  },
  {
   "attachments": {},
   "cell_type": "markdown",
   "metadata": {},
   "source": [
    "## 5. Text Poisoning: Hugging Face-GPT2 Model"
   ]
  },
  {
   "attachments": {},
   "cell_type": "markdown",
   "metadata": {},
   "source": []
  },
  {
   "attachments": {},
   "cell_type": "markdown",
   "metadata": {},
   "source": [
    "## 5. Validation of Input Text"
   ]
  },
  {
   "attachments": {},
   "cell_type": "markdown",
   "metadata": {},
   "source": [
    "### Input Text Description"
   ]
  },
  {
   "attachments": {},
   "cell_type": "markdown",
   "metadata": {},
   "source": [
    "##### Text Description Table"
   ]
  },
  {
   "attachments": {},
   "cell_type": "markdown",
   "metadata": {},
   "source": [
    "- Total Words: Assess the length and complexity of the input text. Longer documents might require more sophisticated summarization techniques, while shorter ones may need more concise summaries.\n",
    "\n",
    "- Total Sentences: Understand the structural makeup of the content. Longer texts with numerous sentences might require the model to generate longer summaries to capture essential information.\n",
    "\n",
    "- Avg Sentence Length: Determine the average length of sentences in the text. This can help the model decide on the appropriate length for generated summaries, ensuring they are coherent and readable.\n",
    "\n",
    "- Total Paragraphs: Analyze how the content is organized into paragraphs. The model should be able to maintain the logical structure of the content when producing summaries.\n",
    "\n",
    "- Total Unique Words: Measure the diversity of vocabulary in the text. A higher count of unique words could indicate more complex content, which the model needs to capture accurately.\n",
    "\n",
    "- Most Common Words: Identify frequently occurring words that likely represent key themes. The model should pay special attention to including these words and concepts in its summaries.\n",
    "\n",
    "- Total Punctuations: Evaluate the usage of punctuation marks, which contribute to the tone and structure of the content. The model should be able to maintain appropriate punctuation in summaries.\n",
    "\n",
    "- Lexical Diversity: Calculate the richness of vocabulary in relation to the overall text length. A higher lexical diversity suggests a broader range of ideas and concepts that the model needs to capture in its summaries."
   ]
  },
  {
   "cell_type": "code",
   "execution_count": 26,
   "metadata": {},
   "outputs": [
    {
     "data": {
      "text/html": [
       "<div>\n",
       "<style scoped>\n",
       "    .dataframe tbody tr th:only-of-type {\n",
       "        vertical-align: middle;\n",
       "    }\n",
       "\n",
       "    .dataframe tbody tr th {\n",
       "        vertical-align: top;\n",
       "    }\n",
       "\n",
       "    .dataframe thead th {\n",
       "        text-align: right;\n",
       "    }\n",
       "</style>\n",
       "<table border=\"1\" class=\"dataframe\">\n",
       "  <thead>\n",
       "    <tr style=\"text-align: right;\">\n",
       "      <th></th>\n",
       "      <th>Total Words</th>\n",
       "      <th>Total Sentences</th>\n",
       "      <th>Avg Sentence Length</th>\n",
       "      <th>Total Paragraphs</th>\n",
       "      <th>Total Unique Words</th>\n",
       "      <th>Total Punctuations</th>\n",
       "      <th>Lexical Diversity</th>\n",
       "    </tr>\n",
       "  </thead>\n",
       "  <tbody>\n",
       "    <tr>\n",
       "      <th>0</th>\n",
       "      <td>490</td>\n",
       "      <td>20</td>\n",
       "      <td>21.1</td>\n",
       "      <td>6</td>\n",
       "      <td>187</td>\n",
       "      <td>63</td>\n",
       "      <td>0.7</td>\n",
       "    </tr>\n",
       "    <tr>\n",
       "      <th>1</th>\n",
       "      <td>433</td>\n",
       "      <td>15</td>\n",
       "      <td>25.6</td>\n",
       "      <td>4</td>\n",
       "      <td>163</td>\n",
       "      <td>35</td>\n",
       "      <td>0.8</td>\n",
       "    </tr>\n",
       "    <tr>\n",
       "      <th>2</th>\n",
       "      <td>294</td>\n",
       "      <td>12</td>\n",
       "      <td>22.0</td>\n",
       "      <td>4</td>\n",
       "      <td>116</td>\n",
       "      <td>24</td>\n",
       "      <td>0.7</td>\n",
       "    </tr>\n",
       "    <tr>\n",
       "      <th>3</th>\n",
       "      <td>472</td>\n",
       "      <td>19</td>\n",
       "      <td>21.4</td>\n",
       "      <td>6</td>\n",
       "      <td>203</td>\n",
       "      <td>53</td>\n",
       "      <td>0.8</td>\n",
       "    </tr>\n",
       "    <tr>\n",
       "      <th>4</th>\n",
       "      <td>306</td>\n",
       "      <td>12</td>\n",
       "      <td>22.1</td>\n",
       "      <td>4</td>\n",
       "      <td>132</td>\n",
       "      <td>38</td>\n",
       "      <td>0.8</td>\n",
       "    </tr>\n",
       "    <tr>\n",
       "      <th>...</th>\n",
       "      <td>...</td>\n",
       "      <td>...</td>\n",
       "      <td>...</td>\n",
       "      <td>...</td>\n",
       "      <td>...</td>\n",
       "      <td>...</td>\n",
       "      <td>...</td>\n",
       "    </tr>\n",
       "    <tr>\n",
       "      <th>95</th>\n",
       "      <td>157</td>\n",
       "      <td>7</td>\n",
       "      <td>20.0</td>\n",
       "      <td>3</td>\n",
       "      <td>70</td>\n",
       "      <td>15</td>\n",
       "      <td>0.7</td>\n",
       "    </tr>\n",
       "    <tr>\n",
       "      <th>96</th>\n",
       "      <td>520</td>\n",
       "      <td>23</td>\n",
       "      <td>19.3</td>\n",
       "      <td>5</td>\n",
       "      <td>185</td>\n",
       "      <td>55</td>\n",
       "      <td>0.8</td>\n",
       "    </tr>\n",
       "    <tr>\n",
       "      <th>97</th>\n",
       "      <td>253</td>\n",
       "      <td>10</td>\n",
       "      <td>21.7</td>\n",
       "      <td>5</td>\n",
       "      <td>100</td>\n",
       "      <td>30</td>\n",
       "      <td>0.8</td>\n",
       "    </tr>\n",
       "    <tr>\n",
       "      <th>98</th>\n",
       "      <td>494</td>\n",
       "      <td>17</td>\n",
       "      <td>25.3</td>\n",
       "      <td>6</td>\n",
       "      <td>192</td>\n",
       "      <td>60</td>\n",
       "      <td>0.7</td>\n",
       "    </tr>\n",
       "    <tr>\n",
       "      <th>99</th>\n",
       "      <td>391</td>\n",
       "      <td>16</td>\n",
       "      <td>21.4</td>\n",
       "      <td>5</td>\n",
       "      <td>139</td>\n",
       "      <td>30</td>\n",
       "      <td>0.7</td>\n",
       "    </tr>\n",
       "  </tbody>\n",
       "</table>\n",
       "<p>100 rows × 7 columns</p>\n",
       "</div>"
      ],
      "text/plain": [
       "    Total Words  Total Sentences  Avg Sentence Length  Total Paragraphs  \\\n",
       "0           490               20                 21.1                 6   \n",
       "1           433               15                 25.6                 4   \n",
       "2           294               12                 22.0                 4   \n",
       "3           472               19                 21.4                 6   \n",
       "4           306               12                 22.1                 4   \n",
       "..          ...              ...                  ...               ...   \n",
       "95          157                7                 20.0                 3   \n",
       "96          520               23                 19.3                 5   \n",
       "97          253               10                 21.7                 5   \n",
       "98          494               17                 25.3                 6   \n",
       "99          391               16                 21.4                 5   \n",
       "\n",
       "    Total Unique Words  Total Punctuations  Lexical Diversity  \n",
       "0                  187                  63                0.7  \n",
       "1                  163                  35                0.8  \n",
       "2                  116                  24                0.7  \n",
       "3                  203                  53                0.8  \n",
       "4                  132                  38                0.8  \n",
       "..                 ...                 ...                ...  \n",
       "95                  70                  15                0.7  \n",
       "96                 185                  55                0.8  \n",
       "97                 100                  30                0.8  \n",
       "98                 192                  60                0.7  \n",
       "99                 139                  30                0.7  \n",
       "\n",
       "[100 rows x 7 columns]"
      ]
     },
     "metadata": {},
     "output_type": "display_data"
    }
   ],
   "source": [
    "params = {\n",
    "    \"text_column\": \"input\",\n",
    "    \"unwanted_tokens\": {'s', 's\\'', 'mr', 'ms', 'mrs', 'dr', '\\'s', ' ', \"''\", 'dollar', 'us', '``'},\n",
    "    \"lang\": \"english\"\n",
    "}\n",
    "\n",
    "df_text_description = text_description_table(df_summarization, params)\n",
    "display(df_text_description)"
   ]
  },
  {
   "attachments": {},
   "cell_type": "markdown",
   "metadata": {},
   "source": [
    "##### Text Description Histogram"
   ]
  },
  {
   "cell_type": "code",
   "execution_count": 27,
   "metadata": {},
   "outputs": [
    {
     "data": {
      "application/vnd.plotly.v1+json": {
       "config": {
        "plotlyServerURL": "https://plot.ly"
       },
       "data": [
        {
         "name": "Total Words",
         "type": "histogram",
         "x": [
          490,
          433,
          294,
          472,
          306,
          213,
          322,
          372,
          267,
          254,
          216,
          350,
          336,
          516,
          700,
          278,
          248,
          214,
          310,
          752,
          383,
          353,
          247,
          379,
          505,
          338,
          312,
          237,
          452,
          491,
          351,
          330,
          262,
          349,
          228,
          394,
          466,
          180,
          242,
          258,
          361,
          267,
          219,
          457,
          350,
          341,
          310,
          301,
          699,
          357,
          330,
          558,
          267,
          285,
          425,
          295,
          498,
          228,
          339,
          160,
          305,
          372,
          352,
          325,
          399,
          364,
          332,
          453,
          603,
          210,
          251,
          317,
          284,
          290,
          232,
          322,
          513,
          307,
          288,
          217,
          288,
          235,
          600,
          243,
          255,
          213,
          348,
          229,
          436,
          427,
          365,
          416,
          382,
          245,
          303,
          157,
          520,
          253,
          494,
          391
         ],
         "xaxis": "x",
         "yaxis": "y"
        },
        {
         "name": "Total Sentences",
         "type": "histogram",
         "x": [
          20,
          15,
          12,
          19,
          12,
          9,
          14,
          15,
          12,
          10,
          11,
          14,
          14,
          22,
          28,
          11,
          11,
          9,
          12,
          29,
          15,
          15,
          11,
          14,
          23,
          14,
          14,
          9,
          20,
          17,
          16,
          15,
          10,
          14,
          11,
          14,
          19,
          10,
          11,
          11,
          15,
          13,
          9,
          18,
          13,
          15,
          11,
          12,
          28,
          15,
          16,
          21,
          9,
          12,
          15,
          14,
          21,
          11,
          14,
          8,
          10,
          15,
          15,
          14,
          16,
          15,
          15,
          17,
          25,
          8,
          10,
          15,
          11,
          12,
          10,
          13,
          22,
          12,
          12,
          11,
          13,
          9,
          24,
          11,
          10,
          9,
          18,
          11,
          20,
          18,
          16,
          18,
          14,
          10,
          12,
          7,
          23,
          10,
          17,
          16
         ],
         "xaxis": "x2",
         "yaxis": "y2"
        },
        {
         "name": "Avg Sentence Length",
         "type": "histogram",
         "x": [
          21.1,
          25.6,
          22,
          21.4,
          22.1,
          20.4,
          20.3,
          21.4,
          19.1,
          22.7,
          16.8,
          21.4,
          21.4,
          21.2,
          21.6,
          22.5,
          19.4,
          19.4,
          22.5,
          22.7,
          23.3,
          20.4,
          18.9,
          23.4,
          19.8,
          21.2,
          19.6,
          23.4,
          20.1,
          24.4,
          19,
          18.5,
          22.6,
          22,
          18.1,
          24.9,
          22.1,
          15.3,
          19.1,
          20.8,
          21.9,
          17.5,
          21.4,
          22.4,
          23.9,
          19.5,
          24.9,
          22.1,
          22,
          20.5,
          18.4,
          23,
          26.2,
          21.2,
          24.3,
          18.7,
          21,
          18,
          21,
          17.9,
          26.6,
          21.3,
          19.3,
          20.8,
          22.2,
          21.3,
          19.6,
          22.9,
          21.4,
          23,
          20.6,
          18.5,
          23,
          21.2,
          21.4,
          21.7,
          20.1,
          21.7,
          20.8,
          17.4,
          20.4,
          23,
          22.2,
          19.1,
          22.8,
          21.2,
          16.3,
          17.6,
          18.8,
          20.9,
          19.6,
          20.1,
          22.5,
          21,
          22,
          20,
          19.3,
          21.7,
          25.3,
          21.4
         ],
         "xaxis": "x3",
         "yaxis": "y3"
        },
        {
         "name": "Total Paragraphs",
         "type": "histogram",
         "x": [
          6,
          4,
          4,
          6,
          4,
          4,
          5,
          4,
          5,
          4,
          4,
          4,
          4,
          9,
          9,
          3,
          4,
          4,
          4,
          8,
          4,
          4,
          4,
          5,
          8,
          4,
          6,
          4,
          8,
          5,
          6,
          6,
          4,
          5,
          4,
          4,
          5,
          4,
          4,
          4,
          5,
          4,
          4,
          6,
          4,
          6,
          5,
          5,
          8,
          6,
          5,
          7,
          4,
          4,
          6,
          6,
          6,
          4,
          5,
          4,
          4,
          6,
          6,
          5,
          6,
          5,
          5,
          7,
          8,
          4,
          4,
          3,
          4,
          4,
          4,
          4,
          7,
          4,
          4,
          3,
          4,
          4,
          7,
          4,
          4,
          4,
          5,
          4,
          7,
          6,
          5,
          5,
          3,
          4,
          4,
          3,
          5,
          5,
          6,
          5
         ],
         "xaxis": "x4",
         "yaxis": "y4"
        },
        {
         "name": "Total Unique Words",
         "type": "histogram",
         "x": [
          187,
          163,
          116,
          203,
          132,
          93,
          123,
          135,
          113,
          114,
          89,
          140,
          139,
          208,
          220,
          117,
          112,
          79,
          127,
          259,
          163,
          151,
          107,
          150,
          189,
          148,
          125,
          112,
          176,
          183,
          147,
          120,
          100,
          140,
          107,
          155,
          185,
          85,
          90,
          113,
          153,
          113,
          88,
          172,
          144,
          145,
          104,
          118,
          244,
          160,
          134,
          231,
          116,
          110,
          149,
          113,
          193,
          96,
          136,
          79,
          119,
          146,
          122,
          118,
          146,
          160,
          129,
          179,
          216,
          92,
          114,
          133,
          119,
          118,
          98,
          129,
          183,
          124,
          122,
          87,
          105,
          104,
          200,
          99,
          107,
          96,
          132,
          90,
          160,
          184,
          150,
          167,
          126,
          85,
          122,
          70,
          185,
          100,
          192,
          139
         ],
         "xaxis": "x5",
         "yaxis": "y5"
        },
        {
         "name": "Total Punctuations",
         "type": "histogram",
         "x": [
          63,
          35,
          24,
          53,
          38,
          22,
          29,
          39,
          32,
          27,
          30,
          38,
          34,
          45,
          71,
          30,
          30,
          28,
          31,
          81,
          35,
          36,
          33,
          46,
          41,
          39,
          34,
          24,
          38,
          61,
          36,
          39,
          33,
          29,
          25,
          32,
          34,
          22,
          32,
          28,
          24,
          28,
          17,
          42,
          32,
          39,
          30,
          31,
          73,
          43,
          37,
          57,
          26,
          27,
          51,
          32,
          45,
          23,
          31,
          15,
          36,
          40,
          54,
          26,
          34,
          32,
          36,
          53,
          54,
          23,
          34,
          38,
          28,
          28,
          15,
          40,
          52,
          36,
          36,
          23,
          20,
          24,
          67,
          29,
          23,
          22,
          42,
          29,
          43,
          46,
          35,
          43,
          61,
          32,
          32,
          15,
          55,
          30,
          60,
          30
         ],
         "xaxis": "x6",
         "yaxis": "y6"
        },
        {
         "name": "Lexical Diversity",
         "type": "histogram",
         "x": [
          0.7,
          0.8,
          0.7,
          0.8,
          0.8,
          0.8,
          0.7,
          0.7,
          0.7,
          0.8,
          0.8,
          0.7,
          0.7,
          0.7,
          0.6,
          0.8,
          0.9,
          0.8,
          0.7,
          0.7,
          0.8,
          0.8,
          0.8,
          0.8,
          0.8,
          0.8,
          0.8,
          0.8,
          0.7,
          0.7,
          0.7,
          0.7,
          0.8,
          0.8,
          0.8,
          0.8,
          0.8,
          0.8,
          0.7,
          0.8,
          0.8,
          0.8,
          0.7,
          0.7,
          0.8,
          0.8,
          0.6,
          0.8,
          0.7,
          0.8,
          0.7,
          0.8,
          0.8,
          0.7,
          0.7,
          0.7,
          0.7,
          0.8,
          0.8,
          0.8,
          0.8,
          0.8,
          0.7,
          0.7,
          0.8,
          0.8,
          0.7,
          0.7,
          0.7,
          0.8,
          0.9,
          0.8,
          0.8,
          0.8,
          0.8,
          0.7,
          0.7,
          0.8,
          0.7,
          0.7,
          0.7,
          0.9,
          0.7,
          0.8,
          0.8,
          0.8,
          0.7,
          0.8,
          0.8,
          0.8,
          0.8,
          0.8,
          0.7,
          0.7,
          0.8,
          0.7,
          0.8,
          0.8,
          0.7,
          0.7
         ],
         "xaxis": "x7",
         "yaxis": "y7"
        }
       ],
       "layout": {
        "annotations": [
         {
          "font": {
           "size": 16
          },
          "showarrow": false,
          "text": "Total Words",
          "x": 0.225,
          "xanchor": "center",
          "xref": "paper",
          "y": 1,
          "yanchor": "bottom",
          "yref": "paper"
         },
         {
          "font": {
           "size": 16
          },
          "showarrow": false,
          "text": "Total Sentences",
          "x": 0.775,
          "xanchor": "center",
          "xref": "paper",
          "y": 1,
          "yanchor": "bottom",
          "yref": "paper"
         },
         {
          "font": {
           "size": 16
          },
          "showarrow": false,
          "text": "Avg Sentence Length",
          "x": 0.225,
          "xanchor": "center",
          "xref": "paper",
          "y": 0.71875,
          "yanchor": "bottom",
          "yref": "paper"
         },
         {
          "font": {
           "size": 16
          },
          "showarrow": false,
          "text": "Total Paragraphs",
          "x": 0.775,
          "xanchor": "center",
          "xref": "paper",
          "y": 0.71875,
          "yanchor": "bottom",
          "yref": "paper"
         },
         {
          "font": {
           "size": 16
          },
          "showarrow": false,
          "text": "Total Unique Words",
          "x": 0.225,
          "xanchor": "center",
          "xref": "paper",
          "y": 0.4375,
          "yanchor": "bottom",
          "yref": "paper"
         },
         {
          "font": {
           "size": 16
          },
          "showarrow": false,
          "text": "Total Punctuations",
          "x": 0.775,
          "xanchor": "center",
          "xref": "paper",
          "y": 0.4375,
          "yanchor": "bottom",
          "yref": "paper"
         },
         {
          "font": {
           "size": 16
          },
          "showarrow": false,
          "text": "Lexical Diversity",
          "x": 0.225,
          "xanchor": "center",
          "xref": "paper",
          "y": 0.15625,
          "yanchor": "bottom",
          "yref": "paper"
         }
        ],
        "bargap": 0.2,
        "bargroupgap": 0.1,
        "height": 1600,
        "template": {
         "data": {
          "bar": [
           {
            "error_x": {
             "color": "#2a3f5f"
            },
            "error_y": {
             "color": "#2a3f5f"
            },
            "marker": {
             "line": {
              "color": "#E5ECF6",
              "width": 0.5
             },
             "pattern": {
              "fillmode": "overlay",
              "size": 10,
              "solidity": 0.2
             }
            },
            "type": "bar"
           }
          ],
          "barpolar": [
           {
            "marker": {
             "line": {
              "color": "#E5ECF6",
              "width": 0.5
             },
             "pattern": {
              "fillmode": "overlay",
              "size": 10,
              "solidity": 0.2
             }
            },
            "type": "barpolar"
           }
          ],
          "carpet": [
           {
            "aaxis": {
             "endlinecolor": "#2a3f5f",
             "gridcolor": "white",
             "linecolor": "white",
             "minorgridcolor": "white",
             "startlinecolor": "#2a3f5f"
            },
            "baxis": {
             "endlinecolor": "#2a3f5f",
             "gridcolor": "white",
             "linecolor": "white",
             "minorgridcolor": "white",
             "startlinecolor": "#2a3f5f"
            },
            "type": "carpet"
           }
          ],
          "choropleth": [
           {
            "colorbar": {
             "outlinewidth": 0,
             "ticks": ""
            },
            "type": "choropleth"
           }
          ],
          "contour": [
           {
            "colorbar": {
             "outlinewidth": 0,
             "ticks": ""
            },
            "colorscale": [
             [
              0,
              "#0d0887"
             ],
             [
              0.1111111111111111,
              "#46039f"
             ],
             [
              0.2222222222222222,
              "#7201a8"
             ],
             [
              0.3333333333333333,
              "#9c179e"
             ],
             [
              0.4444444444444444,
              "#bd3786"
             ],
             [
              0.5555555555555556,
              "#d8576b"
             ],
             [
              0.6666666666666666,
              "#ed7953"
             ],
             [
              0.7777777777777778,
              "#fb9f3a"
             ],
             [
              0.8888888888888888,
              "#fdca26"
             ],
             [
              1,
              "#f0f921"
             ]
            ],
            "type": "contour"
           }
          ],
          "contourcarpet": [
           {
            "colorbar": {
             "outlinewidth": 0,
             "ticks": ""
            },
            "type": "contourcarpet"
           }
          ],
          "heatmap": [
           {
            "colorbar": {
             "outlinewidth": 0,
             "ticks": ""
            },
            "colorscale": [
             [
              0,
              "#0d0887"
             ],
             [
              0.1111111111111111,
              "#46039f"
             ],
             [
              0.2222222222222222,
              "#7201a8"
             ],
             [
              0.3333333333333333,
              "#9c179e"
             ],
             [
              0.4444444444444444,
              "#bd3786"
             ],
             [
              0.5555555555555556,
              "#d8576b"
             ],
             [
              0.6666666666666666,
              "#ed7953"
             ],
             [
              0.7777777777777778,
              "#fb9f3a"
             ],
             [
              0.8888888888888888,
              "#fdca26"
             ],
             [
              1,
              "#f0f921"
             ]
            ],
            "type": "heatmap"
           }
          ],
          "heatmapgl": [
           {
            "colorbar": {
             "outlinewidth": 0,
             "ticks": ""
            },
            "colorscale": [
             [
              0,
              "#0d0887"
             ],
             [
              0.1111111111111111,
              "#46039f"
             ],
             [
              0.2222222222222222,
              "#7201a8"
             ],
             [
              0.3333333333333333,
              "#9c179e"
             ],
             [
              0.4444444444444444,
              "#bd3786"
             ],
             [
              0.5555555555555556,
              "#d8576b"
             ],
             [
              0.6666666666666666,
              "#ed7953"
             ],
             [
              0.7777777777777778,
              "#fb9f3a"
             ],
             [
              0.8888888888888888,
              "#fdca26"
             ],
             [
              1,
              "#f0f921"
             ]
            ],
            "type": "heatmapgl"
           }
          ],
          "histogram": [
           {
            "marker": {
             "pattern": {
              "fillmode": "overlay",
              "size": 10,
              "solidity": 0.2
             }
            },
            "type": "histogram"
           }
          ],
          "histogram2d": [
           {
            "colorbar": {
             "outlinewidth": 0,
             "ticks": ""
            },
            "colorscale": [
             [
              0,
              "#0d0887"
             ],
             [
              0.1111111111111111,
              "#46039f"
             ],
             [
              0.2222222222222222,
              "#7201a8"
             ],
             [
              0.3333333333333333,
              "#9c179e"
             ],
             [
              0.4444444444444444,
              "#bd3786"
             ],
             [
              0.5555555555555556,
              "#d8576b"
             ],
             [
              0.6666666666666666,
              "#ed7953"
             ],
             [
              0.7777777777777778,
              "#fb9f3a"
             ],
             [
              0.8888888888888888,
              "#fdca26"
             ],
             [
              1,
              "#f0f921"
             ]
            ],
            "type": "histogram2d"
           }
          ],
          "histogram2dcontour": [
           {
            "colorbar": {
             "outlinewidth": 0,
             "ticks": ""
            },
            "colorscale": [
             [
              0,
              "#0d0887"
             ],
             [
              0.1111111111111111,
              "#46039f"
             ],
             [
              0.2222222222222222,
              "#7201a8"
             ],
             [
              0.3333333333333333,
              "#9c179e"
             ],
             [
              0.4444444444444444,
              "#bd3786"
             ],
             [
              0.5555555555555556,
              "#d8576b"
             ],
             [
              0.6666666666666666,
              "#ed7953"
             ],
             [
              0.7777777777777778,
              "#fb9f3a"
             ],
             [
              0.8888888888888888,
              "#fdca26"
             ],
             [
              1,
              "#f0f921"
             ]
            ],
            "type": "histogram2dcontour"
           }
          ],
          "mesh3d": [
           {
            "colorbar": {
             "outlinewidth": 0,
             "ticks": ""
            },
            "type": "mesh3d"
           }
          ],
          "parcoords": [
           {
            "line": {
             "colorbar": {
              "outlinewidth": 0,
              "ticks": ""
             }
            },
            "type": "parcoords"
           }
          ],
          "pie": [
           {
            "automargin": true,
            "type": "pie"
           }
          ],
          "scatter": [
           {
            "fillpattern": {
             "fillmode": "overlay",
             "size": 10,
             "solidity": 0.2
            },
            "type": "scatter"
           }
          ],
          "scatter3d": [
           {
            "line": {
             "colorbar": {
              "outlinewidth": 0,
              "ticks": ""
             }
            },
            "marker": {
             "colorbar": {
              "outlinewidth": 0,
              "ticks": ""
             }
            },
            "type": "scatter3d"
           }
          ],
          "scattercarpet": [
           {
            "marker": {
             "colorbar": {
              "outlinewidth": 0,
              "ticks": ""
             }
            },
            "type": "scattercarpet"
           }
          ],
          "scattergeo": [
           {
            "marker": {
             "colorbar": {
              "outlinewidth": 0,
              "ticks": ""
             }
            },
            "type": "scattergeo"
           }
          ],
          "scattergl": [
           {
            "marker": {
             "colorbar": {
              "outlinewidth": 0,
              "ticks": ""
             }
            },
            "type": "scattergl"
           }
          ],
          "scattermapbox": [
           {
            "marker": {
             "colorbar": {
              "outlinewidth": 0,
              "ticks": ""
             }
            },
            "type": "scattermapbox"
           }
          ],
          "scatterpolar": [
           {
            "marker": {
             "colorbar": {
              "outlinewidth": 0,
              "ticks": ""
             }
            },
            "type": "scatterpolar"
           }
          ],
          "scatterpolargl": [
           {
            "marker": {
             "colorbar": {
              "outlinewidth": 0,
              "ticks": ""
             }
            },
            "type": "scatterpolargl"
           }
          ],
          "scatterternary": [
           {
            "marker": {
             "colorbar": {
              "outlinewidth": 0,
              "ticks": ""
             }
            },
            "type": "scatterternary"
           }
          ],
          "surface": [
           {
            "colorbar": {
             "outlinewidth": 0,
             "ticks": ""
            },
            "colorscale": [
             [
              0,
              "#0d0887"
             ],
             [
              0.1111111111111111,
              "#46039f"
             ],
             [
              0.2222222222222222,
              "#7201a8"
             ],
             [
              0.3333333333333333,
              "#9c179e"
             ],
             [
              0.4444444444444444,
              "#bd3786"
             ],
             [
              0.5555555555555556,
              "#d8576b"
             ],
             [
              0.6666666666666666,
              "#ed7953"
             ],
             [
              0.7777777777777778,
              "#fb9f3a"
             ],
             [
              0.8888888888888888,
              "#fdca26"
             ],
             [
              1,
              "#f0f921"
             ]
            ],
            "type": "surface"
           }
          ],
          "table": [
           {
            "cells": {
             "fill": {
              "color": "#EBF0F8"
             },
             "line": {
              "color": "white"
             }
            },
            "header": {
             "fill": {
              "color": "#C8D4E3"
             },
             "line": {
              "color": "white"
             }
            },
            "type": "table"
           }
          ]
         },
         "layout": {
          "annotationdefaults": {
           "arrowcolor": "#2a3f5f",
           "arrowhead": 0,
           "arrowwidth": 1
          },
          "autotypenumbers": "strict",
          "coloraxis": {
           "colorbar": {
            "outlinewidth": 0,
            "ticks": ""
           }
          },
          "colorscale": {
           "diverging": [
            [
             0,
             "#8e0152"
            ],
            [
             0.1,
             "#c51b7d"
            ],
            [
             0.2,
             "#de77ae"
            ],
            [
             0.3,
             "#f1b6da"
            ],
            [
             0.4,
             "#fde0ef"
            ],
            [
             0.5,
             "#f7f7f7"
            ],
            [
             0.6,
             "#e6f5d0"
            ],
            [
             0.7,
             "#b8e186"
            ],
            [
             0.8,
             "#7fbc41"
            ],
            [
             0.9,
             "#4d9221"
            ],
            [
             1,
             "#276419"
            ]
           ],
           "sequential": [
            [
             0,
             "#0d0887"
            ],
            [
             0.1111111111111111,
             "#46039f"
            ],
            [
             0.2222222222222222,
             "#7201a8"
            ],
            [
             0.3333333333333333,
             "#9c179e"
            ],
            [
             0.4444444444444444,
             "#bd3786"
            ],
            [
             0.5555555555555556,
             "#d8576b"
            ],
            [
             0.6666666666666666,
             "#ed7953"
            ],
            [
             0.7777777777777778,
             "#fb9f3a"
            ],
            [
             0.8888888888888888,
             "#fdca26"
            ],
            [
             1,
             "#f0f921"
            ]
           ],
           "sequentialminus": [
            [
             0,
             "#0d0887"
            ],
            [
             0.1111111111111111,
             "#46039f"
            ],
            [
             0.2222222222222222,
             "#7201a8"
            ],
            [
             0.3333333333333333,
             "#9c179e"
            ],
            [
             0.4444444444444444,
             "#bd3786"
            ],
            [
             0.5555555555555556,
             "#d8576b"
            ],
            [
             0.6666666666666666,
             "#ed7953"
            ],
            [
             0.7777777777777778,
             "#fb9f3a"
            ],
            [
             0.8888888888888888,
             "#fdca26"
            ],
            [
             1,
             "#f0f921"
            ]
           ]
          },
          "colorway": [
           "#636efa",
           "#EF553B",
           "#00cc96",
           "#ab63fa",
           "#FFA15A",
           "#19d3f3",
           "#FF6692",
           "#B6E880",
           "#FF97FF",
           "#FECB52"
          ],
          "font": {
           "color": "#2a3f5f"
          },
          "geo": {
           "bgcolor": "white",
           "lakecolor": "white",
           "landcolor": "#E5ECF6",
           "showlakes": true,
           "showland": true,
           "subunitcolor": "white"
          },
          "hoverlabel": {
           "align": "left"
          },
          "hovermode": "closest",
          "mapbox": {
           "style": "light"
          },
          "paper_bgcolor": "white",
          "plot_bgcolor": "#E5ECF6",
          "polar": {
           "angularaxis": {
            "gridcolor": "white",
            "linecolor": "white",
            "ticks": ""
           },
           "bgcolor": "#E5ECF6",
           "radialaxis": {
            "gridcolor": "white",
            "linecolor": "white",
            "ticks": ""
           }
          },
          "scene": {
           "xaxis": {
            "backgroundcolor": "#E5ECF6",
            "gridcolor": "white",
            "gridwidth": 2,
            "linecolor": "white",
            "showbackground": true,
            "ticks": "",
            "zerolinecolor": "white"
           },
           "yaxis": {
            "backgroundcolor": "#E5ECF6",
            "gridcolor": "white",
            "gridwidth": 2,
            "linecolor": "white",
            "showbackground": true,
            "ticks": "",
            "zerolinecolor": "white"
           },
           "zaxis": {
            "backgroundcolor": "#E5ECF6",
            "gridcolor": "white",
            "gridwidth": 2,
            "linecolor": "white",
            "showbackground": true,
            "ticks": "",
            "zerolinecolor": "white"
           }
          },
          "shapedefaults": {
           "line": {
            "color": "#2a3f5f"
           }
          },
          "ternary": {
           "aaxis": {
            "gridcolor": "white",
            "linecolor": "white",
            "ticks": ""
           },
           "baxis": {
            "gridcolor": "white",
            "linecolor": "white",
            "ticks": ""
           },
           "bgcolor": "#E5ECF6",
           "caxis": {
            "gridcolor": "white",
            "linecolor": "white",
            "ticks": ""
           }
          },
          "title": {
           "x": 0.05
          },
          "xaxis": {
           "automargin": true,
           "gridcolor": "white",
           "linecolor": "white",
           "ticks": "",
           "title": {
            "standoff": 15
           },
           "zerolinecolor": "white",
           "zerolinewidth": 2
          },
          "yaxis": {
           "automargin": true,
           "gridcolor": "white",
           "linecolor": "white",
           "ticks": "",
           "title": {
            "standoff": 15
           },
           "zerolinecolor": "white",
           "zerolinewidth": 2
          }
         }
        },
        "title": {
         "text": "Distribution of Text Metrics"
        },
        "xaxis": {
         "anchor": "y",
         "domain": [
          0,
          0.45
         ]
        },
        "xaxis2": {
         "anchor": "y2",
         "domain": [
          0.55,
          1
         ]
        },
        "xaxis3": {
         "anchor": "y3",
         "domain": [
          0,
          0.45
         ]
        },
        "xaxis4": {
         "anchor": "y4",
         "domain": [
          0.55,
          1
         ]
        },
        "xaxis5": {
         "anchor": "y5",
         "domain": [
          0,
          0.45
         ]
        },
        "xaxis6": {
         "anchor": "y6",
         "domain": [
          0.55,
          1
         ]
        },
        "xaxis7": {
         "anchor": "y7",
         "domain": [
          0,
          0.45
         ]
        },
        "xaxis8": {
         "anchor": "y8",
         "domain": [
          0.55,
          1
         ]
        },
        "yaxis": {
         "anchor": "x",
         "domain": [
          0.84375,
          1
         ]
        },
        "yaxis2": {
         "anchor": "x2",
         "domain": [
          0.84375,
          1
         ]
        },
        "yaxis3": {
         "anchor": "x3",
         "domain": [
          0.5625,
          0.71875
         ]
        },
        "yaxis4": {
         "anchor": "x4",
         "domain": [
          0.5625,
          0.71875
         ]
        },
        "yaxis5": {
         "anchor": "x5",
         "domain": [
          0.28125,
          0.4375
         ]
        },
        "yaxis6": {
         "anchor": "x6",
         "domain": [
          0.28125,
          0.4375
         ]
        },
        "yaxis7": {
         "anchor": "x7",
         "domain": [
          0,
          0.15625
         ]
        },
        "yaxis8": {
         "anchor": "x8",
         "domain": [
          0,
          0.15625
         ]
        }
       }
      }
     },
     "metadata": {},
     "output_type": "display_data"
    }
   ],
   "source": [
    "params = {\n",
    "    \"text_column\": \"input\",\n",
    "    \"unwanted_tokens\": {'s', 's\\'', 'mr', 'ms', 'mrs', 'dr', '\\'s', ' ', \"''\", 'dollar', 'us', '``'},\n",
    "    \"lang\": \"english\"\n",
    "}\n",
    "\n",
    "text_description_histograms(df_summarization, params)"
   ]
  },
  {
   "attachments": {},
   "cell_type": "markdown",
   "metadata": {},
   "source": [
    "##### Text Description Scatter"
   ]
  },
  {
   "cell_type": "code",
   "execution_count": 28,
   "metadata": {},
   "outputs": [
    {
     "data": {
      "application/vnd.plotly.v1+json": {
       "config": {
        "plotlyServerURL": "https://plot.ly"
       },
       "data": [
        {
         "mode": "markers",
         "showlegend": false,
         "type": "scatter",
         "x": [
          490,
          433,
          294,
          472,
          306,
          213,
          322,
          372,
          267,
          254,
          216,
          350,
          336,
          516,
          700,
          278,
          248,
          214,
          310,
          752,
          383,
          353,
          247,
          379,
          505,
          338,
          312,
          237,
          452,
          491,
          351,
          330,
          262,
          349,
          228,
          394,
          466,
          180,
          242,
          258,
          361,
          267,
          219,
          457,
          350,
          341,
          310,
          301,
          699,
          357,
          330,
          558,
          267,
          285,
          425,
          295,
          498,
          228,
          339,
          160,
          305,
          372,
          352,
          325,
          399,
          364,
          332,
          453,
          603,
          210,
          251,
          317,
          284,
          290,
          232,
          322,
          513,
          307,
          288,
          217,
          288,
          235,
          600,
          243,
          255,
          213,
          348,
          229,
          436,
          427,
          365,
          416,
          382,
          245,
          303,
          157,
          520,
          253,
          494,
          391
         ],
         "xaxis": "x",
         "y": [
          20,
          15,
          12,
          19,
          12,
          9,
          14,
          15,
          12,
          10,
          11,
          14,
          14,
          22,
          28,
          11,
          11,
          9,
          12,
          29,
          15,
          15,
          11,
          14,
          23,
          14,
          14,
          9,
          20,
          17,
          16,
          15,
          10,
          14,
          11,
          14,
          19,
          10,
          11,
          11,
          15,
          13,
          9,
          18,
          13,
          15,
          11,
          12,
          28,
          15,
          16,
          21,
          9,
          12,
          15,
          14,
          21,
          11,
          14,
          8,
          10,
          15,
          15,
          14,
          16,
          15,
          15,
          17,
          25,
          8,
          10,
          15,
          11,
          12,
          10,
          13,
          22,
          12,
          12,
          11,
          13,
          9,
          24,
          11,
          10,
          9,
          18,
          11,
          20,
          18,
          16,
          18,
          14,
          10,
          12,
          7,
          23,
          10,
          17,
          16
         ],
         "yaxis": "y"
        },
        {
         "mode": "markers",
         "showlegend": false,
         "type": "scatter",
         "x": [
          490,
          433,
          294,
          472,
          306,
          213,
          322,
          372,
          267,
          254,
          216,
          350,
          336,
          516,
          700,
          278,
          248,
          214,
          310,
          752,
          383,
          353,
          247,
          379,
          505,
          338,
          312,
          237,
          452,
          491,
          351,
          330,
          262,
          349,
          228,
          394,
          466,
          180,
          242,
          258,
          361,
          267,
          219,
          457,
          350,
          341,
          310,
          301,
          699,
          357,
          330,
          558,
          267,
          285,
          425,
          295,
          498,
          228,
          339,
          160,
          305,
          372,
          352,
          325,
          399,
          364,
          332,
          453,
          603,
          210,
          251,
          317,
          284,
          290,
          232,
          322,
          513,
          307,
          288,
          217,
          288,
          235,
          600,
          243,
          255,
          213,
          348,
          229,
          436,
          427,
          365,
          416,
          382,
          245,
          303,
          157,
          520,
          253,
          494,
          391
         ],
         "xaxis": "x2",
         "y": [
          187,
          163,
          116,
          203,
          132,
          93,
          123,
          135,
          113,
          114,
          89,
          140,
          139,
          208,
          220,
          117,
          112,
          79,
          127,
          259,
          163,
          151,
          107,
          150,
          189,
          148,
          125,
          112,
          176,
          183,
          147,
          120,
          100,
          140,
          107,
          155,
          185,
          85,
          90,
          113,
          153,
          113,
          88,
          172,
          144,
          145,
          104,
          118,
          244,
          160,
          134,
          231,
          116,
          110,
          149,
          113,
          193,
          96,
          136,
          79,
          119,
          146,
          122,
          118,
          146,
          160,
          129,
          179,
          216,
          92,
          114,
          133,
          119,
          118,
          98,
          129,
          183,
          124,
          122,
          87,
          105,
          104,
          200,
          99,
          107,
          96,
          132,
          90,
          160,
          184,
          150,
          167,
          126,
          85,
          122,
          70,
          185,
          100,
          192,
          139
         ],
         "yaxis": "y2"
        },
        {
         "mode": "markers",
         "showlegend": false,
         "type": "scatter",
         "x": [
          20,
          15,
          12,
          19,
          12,
          9,
          14,
          15,
          12,
          10,
          11,
          14,
          14,
          22,
          28,
          11,
          11,
          9,
          12,
          29,
          15,
          15,
          11,
          14,
          23,
          14,
          14,
          9,
          20,
          17,
          16,
          15,
          10,
          14,
          11,
          14,
          19,
          10,
          11,
          11,
          15,
          13,
          9,
          18,
          13,
          15,
          11,
          12,
          28,
          15,
          16,
          21,
          9,
          12,
          15,
          14,
          21,
          11,
          14,
          8,
          10,
          15,
          15,
          14,
          16,
          15,
          15,
          17,
          25,
          8,
          10,
          15,
          11,
          12,
          10,
          13,
          22,
          12,
          12,
          11,
          13,
          9,
          24,
          11,
          10,
          9,
          18,
          11,
          20,
          18,
          16,
          18,
          14,
          10,
          12,
          7,
          23,
          10,
          17,
          16
         ],
         "xaxis": "x3",
         "y": [
          21.1,
          25.6,
          22,
          21.4,
          22.1,
          20.4,
          20.3,
          21.4,
          19.1,
          22.7,
          16.8,
          21.4,
          21.4,
          21.2,
          21.6,
          22.5,
          19.4,
          19.4,
          22.5,
          22.7,
          23.3,
          20.4,
          18.9,
          23.4,
          19.8,
          21.2,
          19.6,
          23.4,
          20.1,
          24.4,
          19,
          18.5,
          22.6,
          22,
          18.1,
          24.9,
          22.1,
          15.3,
          19.1,
          20.8,
          21.9,
          17.5,
          21.4,
          22.4,
          23.9,
          19.5,
          24.9,
          22.1,
          22,
          20.5,
          18.4,
          23,
          26.2,
          21.2,
          24.3,
          18.7,
          21,
          18,
          21,
          17.9,
          26.6,
          21.3,
          19.3,
          20.8,
          22.2,
          21.3,
          19.6,
          22.9,
          21.4,
          23,
          20.6,
          18.5,
          23,
          21.2,
          21.4,
          21.7,
          20.1,
          21.7,
          20.8,
          17.4,
          20.4,
          23,
          22.2,
          19.1,
          22.8,
          21.2,
          16.3,
          17.6,
          18.8,
          20.9,
          19.6,
          20.1,
          22.5,
          21,
          22,
          20,
          19.3,
          21.7,
          25.3,
          21.4
         ],
         "yaxis": "y3"
        },
        {
         "mode": "markers",
         "showlegend": false,
         "type": "scatter",
         "x": [
          187,
          163,
          116,
          203,
          132,
          93,
          123,
          135,
          113,
          114,
          89,
          140,
          139,
          208,
          220,
          117,
          112,
          79,
          127,
          259,
          163,
          151,
          107,
          150,
          189,
          148,
          125,
          112,
          176,
          183,
          147,
          120,
          100,
          140,
          107,
          155,
          185,
          85,
          90,
          113,
          153,
          113,
          88,
          172,
          144,
          145,
          104,
          118,
          244,
          160,
          134,
          231,
          116,
          110,
          149,
          113,
          193,
          96,
          136,
          79,
          119,
          146,
          122,
          118,
          146,
          160,
          129,
          179,
          216,
          92,
          114,
          133,
          119,
          118,
          98,
          129,
          183,
          124,
          122,
          87,
          105,
          104,
          200,
          99,
          107,
          96,
          132,
          90,
          160,
          184,
          150,
          167,
          126,
          85,
          122,
          70,
          185,
          100,
          192,
          139
         ],
         "xaxis": "x4",
         "y": [
          0.7,
          0.8,
          0.7,
          0.8,
          0.8,
          0.8,
          0.7,
          0.7,
          0.7,
          0.8,
          0.8,
          0.7,
          0.7,
          0.7,
          0.6,
          0.8,
          0.9,
          0.8,
          0.7,
          0.7,
          0.8,
          0.8,
          0.8,
          0.8,
          0.8,
          0.8,
          0.8,
          0.8,
          0.7,
          0.7,
          0.7,
          0.7,
          0.8,
          0.8,
          0.8,
          0.8,
          0.8,
          0.8,
          0.7,
          0.8,
          0.8,
          0.8,
          0.7,
          0.7,
          0.8,
          0.8,
          0.6,
          0.8,
          0.7,
          0.8,
          0.7,
          0.8,
          0.8,
          0.7,
          0.7,
          0.7,
          0.7,
          0.8,
          0.8,
          0.8,
          0.8,
          0.8,
          0.7,
          0.7,
          0.8,
          0.8,
          0.7,
          0.7,
          0.7,
          0.8,
          0.9,
          0.8,
          0.8,
          0.8,
          0.8,
          0.7,
          0.7,
          0.8,
          0.7,
          0.7,
          0.7,
          0.9,
          0.7,
          0.8,
          0.8,
          0.8,
          0.7,
          0.8,
          0.8,
          0.8,
          0.8,
          0.8,
          0.7,
          0.7,
          0.8,
          0.7,
          0.8,
          0.8,
          0.7,
          0.7
         ],
         "yaxis": "y4"
        }
       ],
       "layout": {
        "annotations": [
         {
          "font": {
           "size": 16
          },
          "showarrow": false,
          "text": "Total Words vs Total Sentences",
          "x": 0.225,
          "xanchor": "center",
          "xref": "paper",
          "y": 1,
          "yanchor": "bottom",
          "yref": "paper"
         },
         {
          "font": {
           "size": 16
          },
          "showarrow": false,
          "text": "Total Words vs Total Unique Words",
          "x": 0.775,
          "xanchor": "center",
          "xref": "paper",
          "y": 1,
          "yanchor": "bottom",
          "yref": "paper"
         },
         {
          "font": {
           "size": 16
          },
          "showarrow": false,
          "text": "Total Sentences vs Avg Sentence Length",
          "x": 0.225,
          "xanchor": "center",
          "xref": "paper",
          "y": 0.375,
          "yanchor": "bottom",
          "yref": "paper"
         },
         {
          "font": {
           "size": 16
          },
          "showarrow": false,
          "text": "Total Unique Words vs Lexical Diversity",
          "x": 0.775,
          "xanchor": "center",
          "xref": "paper",
          "y": 0.375,
          "yanchor": "bottom",
          "yref": "paper"
         }
        ],
        "height": 800,
        "template": {
         "data": {
          "bar": [
           {
            "error_x": {
             "color": "#2a3f5f"
            },
            "error_y": {
             "color": "#2a3f5f"
            },
            "marker": {
             "line": {
              "color": "#E5ECF6",
              "width": 0.5
             },
             "pattern": {
              "fillmode": "overlay",
              "size": 10,
              "solidity": 0.2
             }
            },
            "type": "bar"
           }
          ],
          "barpolar": [
           {
            "marker": {
             "line": {
              "color": "#E5ECF6",
              "width": 0.5
             },
             "pattern": {
              "fillmode": "overlay",
              "size": 10,
              "solidity": 0.2
             }
            },
            "type": "barpolar"
           }
          ],
          "carpet": [
           {
            "aaxis": {
             "endlinecolor": "#2a3f5f",
             "gridcolor": "white",
             "linecolor": "white",
             "minorgridcolor": "white",
             "startlinecolor": "#2a3f5f"
            },
            "baxis": {
             "endlinecolor": "#2a3f5f",
             "gridcolor": "white",
             "linecolor": "white",
             "minorgridcolor": "white",
             "startlinecolor": "#2a3f5f"
            },
            "type": "carpet"
           }
          ],
          "choropleth": [
           {
            "colorbar": {
             "outlinewidth": 0,
             "ticks": ""
            },
            "type": "choropleth"
           }
          ],
          "contour": [
           {
            "colorbar": {
             "outlinewidth": 0,
             "ticks": ""
            },
            "colorscale": [
             [
              0,
              "#0d0887"
             ],
             [
              0.1111111111111111,
              "#46039f"
             ],
             [
              0.2222222222222222,
              "#7201a8"
             ],
             [
              0.3333333333333333,
              "#9c179e"
             ],
             [
              0.4444444444444444,
              "#bd3786"
             ],
             [
              0.5555555555555556,
              "#d8576b"
             ],
             [
              0.6666666666666666,
              "#ed7953"
             ],
             [
              0.7777777777777778,
              "#fb9f3a"
             ],
             [
              0.8888888888888888,
              "#fdca26"
             ],
             [
              1,
              "#f0f921"
             ]
            ],
            "type": "contour"
           }
          ],
          "contourcarpet": [
           {
            "colorbar": {
             "outlinewidth": 0,
             "ticks": ""
            },
            "type": "contourcarpet"
           }
          ],
          "heatmap": [
           {
            "colorbar": {
             "outlinewidth": 0,
             "ticks": ""
            },
            "colorscale": [
             [
              0,
              "#0d0887"
             ],
             [
              0.1111111111111111,
              "#46039f"
             ],
             [
              0.2222222222222222,
              "#7201a8"
             ],
             [
              0.3333333333333333,
              "#9c179e"
             ],
             [
              0.4444444444444444,
              "#bd3786"
             ],
             [
              0.5555555555555556,
              "#d8576b"
             ],
             [
              0.6666666666666666,
              "#ed7953"
             ],
             [
              0.7777777777777778,
              "#fb9f3a"
             ],
             [
              0.8888888888888888,
              "#fdca26"
             ],
             [
              1,
              "#f0f921"
             ]
            ],
            "type": "heatmap"
           }
          ],
          "heatmapgl": [
           {
            "colorbar": {
             "outlinewidth": 0,
             "ticks": ""
            },
            "colorscale": [
             [
              0,
              "#0d0887"
             ],
             [
              0.1111111111111111,
              "#46039f"
             ],
             [
              0.2222222222222222,
              "#7201a8"
             ],
             [
              0.3333333333333333,
              "#9c179e"
             ],
             [
              0.4444444444444444,
              "#bd3786"
             ],
             [
              0.5555555555555556,
              "#d8576b"
             ],
             [
              0.6666666666666666,
              "#ed7953"
             ],
             [
              0.7777777777777778,
              "#fb9f3a"
             ],
             [
              0.8888888888888888,
              "#fdca26"
             ],
             [
              1,
              "#f0f921"
             ]
            ],
            "type": "heatmapgl"
           }
          ],
          "histogram": [
           {
            "marker": {
             "pattern": {
              "fillmode": "overlay",
              "size": 10,
              "solidity": 0.2
             }
            },
            "type": "histogram"
           }
          ],
          "histogram2d": [
           {
            "colorbar": {
             "outlinewidth": 0,
             "ticks": ""
            },
            "colorscale": [
             [
              0,
              "#0d0887"
             ],
             [
              0.1111111111111111,
              "#46039f"
             ],
             [
              0.2222222222222222,
              "#7201a8"
             ],
             [
              0.3333333333333333,
              "#9c179e"
             ],
             [
              0.4444444444444444,
              "#bd3786"
             ],
             [
              0.5555555555555556,
              "#d8576b"
             ],
             [
              0.6666666666666666,
              "#ed7953"
             ],
             [
              0.7777777777777778,
              "#fb9f3a"
             ],
             [
              0.8888888888888888,
              "#fdca26"
             ],
             [
              1,
              "#f0f921"
             ]
            ],
            "type": "histogram2d"
           }
          ],
          "histogram2dcontour": [
           {
            "colorbar": {
             "outlinewidth": 0,
             "ticks": ""
            },
            "colorscale": [
             [
              0,
              "#0d0887"
             ],
             [
              0.1111111111111111,
              "#46039f"
             ],
             [
              0.2222222222222222,
              "#7201a8"
             ],
             [
              0.3333333333333333,
              "#9c179e"
             ],
             [
              0.4444444444444444,
              "#bd3786"
             ],
             [
              0.5555555555555556,
              "#d8576b"
             ],
             [
              0.6666666666666666,
              "#ed7953"
             ],
             [
              0.7777777777777778,
              "#fb9f3a"
             ],
             [
              0.8888888888888888,
              "#fdca26"
             ],
             [
              1,
              "#f0f921"
             ]
            ],
            "type": "histogram2dcontour"
           }
          ],
          "mesh3d": [
           {
            "colorbar": {
             "outlinewidth": 0,
             "ticks": ""
            },
            "type": "mesh3d"
           }
          ],
          "parcoords": [
           {
            "line": {
             "colorbar": {
              "outlinewidth": 0,
              "ticks": ""
             }
            },
            "type": "parcoords"
           }
          ],
          "pie": [
           {
            "automargin": true,
            "type": "pie"
           }
          ],
          "scatter": [
           {
            "fillpattern": {
             "fillmode": "overlay",
             "size": 10,
             "solidity": 0.2
            },
            "type": "scatter"
           }
          ],
          "scatter3d": [
           {
            "line": {
             "colorbar": {
              "outlinewidth": 0,
              "ticks": ""
             }
            },
            "marker": {
             "colorbar": {
              "outlinewidth": 0,
              "ticks": ""
             }
            },
            "type": "scatter3d"
           }
          ],
          "scattercarpet": [
           {
            "marker": {
             "colorbar": {
              "outlinewidth": 0,
              "ticks": ""
             }
            },
            "type": "scattercarpet"
           }
          ],
          "scattergeo": [
           {
            "marker": {
             "colorbar": {
              "outlinewidth": 0,
              "ticks": ""
             }
            },
            "type": "scattergeo"
           }
          ],
          "scattergl": [
           {
            "marker": {
             "colorbar": {
              "outlinewidth": 0,
              "ticks": ""
             }
            },
            "type": "scattergl"
           }
          ],
          "scattermapbox": [
           {
            "marker": {
             "colorbar": {
              "outlinewidth": 0,
              "ticks": ""
             }
            },
            "type": "scattermapbox"
           }
          ],
          "scatterpolar": [
           {
            "marker": {
             "colorbar": {
              "outlinewidth": 0,
              "ticks": ""
             }
            },
            "type": "scatterpolar"
           }
          ],
          "scatterpolargl": [
           {
            "marker": {
             "colorbar": {
              "outlinewidth": 0,
              "ticks": ""
             }
            },
            "type": "scatterpolargl"
           }
          ],
          "scatterternary": [
           {
            "marker": {
             "colorbar": {
              "outlinewidth": 0,
              "ticks": ""
             }
            },
            "type": "scatterternary"
           }
          ],
          "surface": [
           {
            "colorbar": {
             "outlinewidth": 0,
             "ticks": ""
            },
            "colorscale": [
             [
              0,
              "#0d0887"
             ],
             [
              0.1111111111111111,
              "#46039f"
             ],
             [
              0.2222222222222222,
              "#7201a8"
             ],
             [
              0.3333333333333333,
              "#9c179e"
             ],
             [
              0.4444444444444444,
              "#bd3786"
             ],
             [
              0.5555555555555556,
              "#d8576b"
             ],
             [
              0.6666666666666666,
              "#ed7953"
             ],
             [
              0.7777777777777778,
              "#fb9f3a"
             ],
             [
              0.8888888888888888,
              "#fdca26"
             ],
             [
              1,
              "#f0f921"
             ]
            ],
            "type": "surface"
           }
          ],
          "table": [
           {
            "cells": {
             "fill": {
              "color": "#EBF0F8"
             },
             "line": {
              "color": "white"
             }
            },
            "header": {
             "fill": {
              "color": "#C8D4E3"
             },
             "line": {
              "color": "white"
             }
            },
            "type": "table"
           }
          ]
         },
         "layout": {
          "annotationdefaults": {
           "arrowcolor": "#2a3f5f",
           "arrowhead": 0,
           "arrowwidth": 1
          },
          "autotypenumbers": "strict",
          "coloraxis": {
           "colorbar": {
            "outlinewidth": 0,
            "ticks": ""
           }
          },
          "colorscale": {
           "diverging": [
            [
             0,
             "#8e0152"
            ],
            [
             0.1,
             "#c51b7d"
            ],
            [
             0.2,
             "#de77ae"
            ],
            [
             0.3,
             "#f1b6da"
            ],
            [
             0.4,
             "#fde0ef"
            ],
            [
             0.5,
             "#f7f7f7"
            ],
            [
             0.6,
             "#e6f5d0"
            ],
            [
             0.7,
             "#b8e186"
            ],
            [
             0.8,
             "#7fbc41"
            ],
            [
             0.9,
             "#4d9221"
            ],
            [
             1,
             "#276419"
            ]
           ],
           "sequential": [
            [
             0,
             "#0d0887"
            ],
            [
             0.1111111111111111,
             "#46039f"
            ],
            [
             0.2222222222222222,
             "#7201a8"
            ],
            [
             0.3333333333333333,
             "#9c179e"
            ],
            [
             0.4444444444444444,
             "#bd3786"
            ],
            [
             0.5555555555555556,
             "#d8576b"
            ],
            [
             0.6666666666666666,
             "#ed7953"
            ],
            [
             0.7777777777777778,
             "#fb9f3a"
            ],
            [
             0.8888888888888888,
             "#fdca26"
            ],
            [
             1,
             "#f0f921"
            ]
           ],
           "sequentialminus": [
            [
             0,
             "#0d0887"
            ],
            [
             0.1111111111111111,
             "#46039f"
            ],
            [
             0.2222222222222222,
             "#7201a8"
            ],
            [
             0.3333333333333333,
             "#9c179e"
            ],
            [
             0.4444444444444444,
             "#bd3786"
            ],
            [
             0.5555555555555556,
             "#d8576b"
            ],
            [
             0.6666666666666666,
             "#ed7953"
            ],
            [
             0.7777777777777778,
             "#fb9f3a"
            ],
            [
             0.8888888888888888,
             "#fdca26"
            ],
            [
             1,
             "#f0f921"
            ]
           ]
          },
          "colorway": [
           "#636efa",
           "#EF553B",
           "#00cc96",
           "#ab63fa",
           "#FFA15A",
           "#19d3f3",
           "#FF6692",
           "#B6E880",
           "#FF97FF",
           "#FECB52"
          ],
          "font": {
           "color": "#2a3f5f"
          },
          "geo": {
           "bgcolor": "white",
           "lakecolor": "white",
           "landcolor": "#E5ECF6",
           "showlakes": true,
           "showland": true,
           "subunitcolor": "white"
          },
          "hoverlabel": {
           "align": "left"
          },
          "hovermode": "closest",
          "mapbox": {
           "style": "light"
          },
          "paper_bgcolor": "white",
          "plot_bgcolor": "#E5ECF6",
          "polar": {
           "angularaxis": {
            "gridcolor": "white",
            "linecolor": "white",
            "ticks": ""
           },
           "bgcolor": "#E5ECF6",
           "radialaxis": {
            "gridcolor": "white",
            "linecolor": "white",
            "ticks": ""
           }
          },
          "scene": {
           "xaxis": {
            "backgroundcolor": "#E5ECF6",
            "gridcolor": "white",
            "gridwidth": 2,
            "linecolor": "white",
            "showbackground": true,
            "ticks": "",
            "zerolinecolor": "white"
           },
           "yaxis": {
            "backgroundcolor": "#E5ECF6",
            "gridcolor": "white",
            "gridwidth": 2,
            "linecolor": "white",
            "showbackground": true,
            "ticks": "",
            "zerolinecolor": "white"
           },
           "zaxis": {
            "backgroundcolor": "#E5ECF6",
            "gridcolor": "white",
            "gridwidth": 2,
            "linecolor": "white",
            "showbackground": true,
            "ticks": "",
            "zerolinecolor": "white"
           }
          },
          "shapedefaults": {
           "line": {
            "color": "#2a3f5f"
           }
          },
          "ternary": {
           "aaxis": {
            "gridcolor": "white",
            "linecolor": "white",
            "ticks": ""
           },
           "baxis": {
            "gridcolor": "white",
            "linecolor": "white",
            "ticks": ""
           },
           "bgcolor": "#E5ECF6",
           "caxis": {
            "gridcolor": "white",
            "linecolor": "white",
            "ticks": ""
           }
          },
          "title": {
           "x": 0.05
          },
          "xaxis": {
           "automargin": true,
           "gridcolor": "white",
           "linecolor": "white",
           "ticks": "",
           "title": {
            "standoff": 15
           },
           "zerolinecolor": "white",
           "zerolinewidth": 2
          },
          "yaxis": {
           "automargin": true,
           "gridcolor": "white",
           "linecolor": "white",
           "ticks": "",
           "title": {
            "standoff": 15
           },
           "zerolinecolor": "white",
           "zerolinewidth": 2
          }
         }
        },
        "title": {
         "text": "Scatter Plots of Text Metrics Combinations"
        },
        "xaxis": {
         "anchor": "y",
         "domain": [
          0,
          0.45
         ],
         "title": {
          "text": "Total Words"
         }
        },
        "xaxis2": {
         "anchor": "y2",
         "domain": [
          0.55,
          1
         ],
         "title": {
          "text": "Total Words"
         }
        },
        "xaxis3": {
         "anchor": "y3",
         "domain": [
          0,
          0.45
         ],
         "title": {
          "text": "Total Sentences"
         }
        },
        "xaxis4": {
         "anchor": "y4",
         "domain": [
          0.55,
          1
         ],
         "title": {
          "text": "Total Unique Words"
         }
        },
        "yaxis": {
         "anchor": "x",
         "domain": [
          0.625,
          1
         ],
         "title": {
          "text": "Total Sentences"
         }
        },
        "yaxis2": {
         "anchor": "x2",
         "domain": [
          0.625,
          1
         ],
         "title": {
          "text": "Total Unique Words"
         }
        },
        "yaxis3": {
         "anchor": "x3",
         "domain": [
          0,
          0.375
         ],
         "title": {
          "text": "Avg Sentence Length"
         }
        },
        "yaxis4": {
         "anchor": "x4",
         "domain": [
          0,
          0.375
         ],
         "title": {
          "text": "Lexical Diversity"
         }
        }
       }
      }
     },
     "metadata": {},
     "output_type": "display_data"
    }
   ],
   "source": [
    "# Define the combinations you want to plot\n",
    "combinations_to_plot = [\n",
    "    (\"Total Words\", \"Total Sentences\"),\n",
    "    (\"Total Words\", \"Total Unique Words\"),\n",
    "    (\"Total Sentences\", \"Avg Sentence Length\"),\n",
    "    (\"Total Unique Words\", \"Lexical Diversity\")\n",
    "]\n",
    "\n",
    "params = {\n",
    "    \"combinations_to_plot\": combinations_to_plot,\n",
    "    \"text_column\": \"input\",\n",
    "    \"unwanted_tokens\": {'s', 's\\'', 'mr', 'ms', 'mrs', 'dr', '\\'s', ' ', \"''\", 'dollar', 'us', '``'},\n",
    "    \"lang\": \"english\"\n",
    "}\n",
    "\n",
    "text_description_scatter(df_summarization, params)"
   ]
  },
  {
   "attachments": {},
   "cell_type": "markdown",
   "metadata": {},
   "source": [
    "##### Text Structure Histogram"
   ]
  },
  {
   "attachments": {},
   "cell_type": "markdown",
   "metadata": {},
   "source": [
    "- Word Frequencies: This metric provides a histogram of how often words appear with a given frequency. For example, if a lot of words appear only once in a document, it might be indicative of a text rich in unique words. On the other hand, a small set of words appearing very frequently might indicate repetitive content or a certain theme or pattern in the text.\n",
    "\n",
    "- Sentence Positions vs. Sentence Lengths: This bar chart showcases the length of each sentence (in terms of word count) in their order of appearance in the document. This can give insights into the flow of information in a text, highlighting any long, detailed sections or brief, potentially superficial areas.\n",
    "\n",
    "- Sentence Lengths Distribution: A histogram showing the frequency of sentence lengths across the document. Long sentences might contain a lot of information but could be harder for summarization models to digest and for readers to comprehend. Conversely, many short sentences might indicate fragmented information.\n",
    "\n",
    "- Word Lengths Distribution: A histogram of the lengths of words in the document. Extremely long words might be anomalies, technical terms, or potential errors in the corpus. Conversely, a majority of very short words might denote lack of depth or specificity."
   ]
  },
  {
   "cell_type": "code",
   "execution_count": 29,
   "metadata": {},
   "outputs": [
    {
     "data": {
      "application/vnd.plotly.v1+json": {
       "config": {
        "plotlyServerURL": "https://plot.ly"
       },
       "data": [
        {
         "marker": {
          "color": "blue"
         },
         "showlegend": false,
         "type": "bar",
         "x": [
          1,
          4,
          3,
          5,
          7,
          8,
          18,
          9,
          2,
          17,
          21,
          20,
          12,
          10,
          6
         ],
         "xaxis": "x",
         "y": [
          164,
          5,
          12,
          8,
          3,
          2,
          1,
          1,
          37,
          1,
          1,
          1,
          1,
          1,
          2
         ],
         "yaxis": "y"
        },
        {
         "marker": {
          "color": "green"
         },
         "showlegend": false,
         "type": "bar",
         "x": [
          1,
          2,
          3,
          4,
          5,
          6,
          7,
          8,
          9,
          10,
          11,
          12,
          13,
          14,
          15,
          16,
          17,
          18,
          19,
          20
         ],
         "xaxis": "x2",
         "y": [
          27,
          23,
          11,
          20,
          13,
          10,
          17,
          20,
          27,
          24,
          11,
          37,
          21,
          25,
          20,
          20,
          20,
          24,
          30,
          21
         ],
         "yaxis": "y2"
        },
        {
         "marker": {
          "color": "red"
         },
         "nbinsx": 50,
         "opacity": 0.75,
         "showlegend": false,
         "type": "histogram",
         "x": [
          27,
          23,
          11,
          20,
          13,
          10,
          17,
          20,
          27,
          24,
          11,
          37,
          21,
          25,
          20,
          20,
          20,
          24,
          30,
          21
         ],
         "xaxis": "x3",
         "yaxis": "y3"
        },
        {
         "marker": {
          "color": "purple"
         },
         "nbinsx": 50,
         "opacity": 0.75,
         "showlegend": false,
         "type": "histogram",
         "x": [
          2,
          5,
          5,
          4,
          6,
          6,
          9,
          7,
          2,
          2,
          5,
          5,
          10,
          6,
          2,
          1,
          2,
          1,
          6,
          1,
          5,
          1,
          3,
          3,
          5,
          6,
          2,
          8,
          1,
          4,
          1,
          4,
          12,
          1,
          3,
          4,
          1,
          5,
          2,
          3,
          3,
          2,
          3,
          7,
          9,
          2,
          6,
          1,
          9,
          4,
          5,
          2,
          10,
          8,
          11,
          3,
          6,
          6,
          5,
          1,
          10,
          4,
          6,
          7,
          5,
          4,
          1,
          1,
          2,
          1,
          6,
          4,
          1,
          6,
          1,
          3,
          7,
          4,
          6,
          2,
          7,
          5,
          5,
          6,
          1,
          6,
          3,
          2,
          6,
          4,
          1,
          3,
          4,
          5,
          3,
          3,
          1,
          4,
          6,
          4,
          2,
          6,
          4,
          2,
          3,
          4,
          1,
          1,
          2,
          13,
          6,
          1,
          3,
          3,
          3,
          8,
          8,
          1,
          3,
          1,
          3,
          3,
          5,
          8,
          1,
          2,
          4,
          7,
          11,
          2,
          3,
          6,
          7,
          7,
          4,
          5,
          4,
          2,
          3,
          9,
          5,
          8,
          1,
          7,
          1,
          3,
          7,
          4,
          3,
          2,
          10,
          6,
          6,
          11,
          5,
          4,
          1,
          1,
          2,
          3,
          4,
          2,
          8,
          8,
          11,
          8,
          1,
          2,
          5,
          2,
          8,
          11,
          2,
          8,
          3,
          6,
          7,
          4,
          2,
          10,
          8,
          9,
          3,
          4,
          3,
          2,
          4,
          2,
          3,
          2,
          8,
          9,
          3,
          10,
          9,
          1,
          10,
          4,
          3,
          2,
          7,
          4,
          3,
          4,
          7,
          9,
          1,
          5,
          2,
          3,
          2,
          10,
          8,
          10,
          1,
          3,
          1,
          1,
          5,
          2,
          5,
          2,
          10,
          1,
          4,
          6,
          2,
          6,
          7,
          7,
          4,
          8,
          6,
          4,
          8,
          1,
          12,
          1,
          3,
          3,
          4,
          8,
          3,
          7,
          5,
          2,
          1,
          2,
          1,
          4,
          1,
          6,
          2,
          10,
          5,
          9,
          3,
          8,
          1,
          1,
          5,
          8,
          2,
          12,
          1,
          4,
          3,
          5,
          3,
          5,
          4,
          2,
          3,
          4,
          2,
          3,
          5,
          7,
          7,
          7,
          1,
          3,
          3,
          9,
          1,
          10,
          6,
          1,
          6,
          2,
          1,
          6,
          1,
          2,
          2,
          1,
          4,
          3,
          4,
          11,
          1,
          5,
          8,
          4,
          3,
          1,
          2,
          1,
          7,
          1,
          2,
          3,
          9,
          11,
          3,
          6,
          1,
          7,
          2,
          9,
          3,
          2,
          3,
          9,
          10,
          3,
          7,
          9,
          3,
          11,
          1,
          2,
          8,
          3,
          5,
          9,
          7,
          7,
          4,
          1,
          3,
          4,
          1,
          10,
          2,
          10,
          9,
          8,
          6,
          2,
          6,
          1,
          1,
          1,
          3,
          4,
          7,
          6,
          7,
          3,
          5,
          6,
          7,
          1,
          10,
          2,
          2,
          7,
          3,
          8,
          2,
          4,
          2,
          7,
          2,
          7,
          2,
          7,
          4,
          3,
          2,
          2,
          6,
          10,
          1,
          2,
          3,
          7,
          7,
          2,
          3,
          1,
          4,
          2,
          6,
          7,
          1,
          2,
          1,
          4,
          4,
          2,
          5,
          6,
          2,
          3,
          3,
          1,
          3,
          7,
          4,
          2,
          3,
          6,
          2,
          8,
          3,
          6,
          2,
          6,
          2,
          3,
          5,
          3,
          5,
          8,
          1,
          5,
          2,
          10,
          3,
          2,
          1,
          4,
          1,
          2,
          7,
          2,
          6,
          3,
          3,
          2,
          8,
          3,
          1,
          4,
          4,
          6,
          5,
          9,
          11,
          2,
          8,
          2,
          1,
          5,
          2,
          3,
          6,
          1,
          5,
          2,
          3,
          8,
          2,
          11,
          7,
          1,
          2,
          4,
          3,
          4,
          3,
          4,
          2,
          3,
          5,
          2,
          3,
          6,
          2,
          1,
          4,
          2,
          3,
          5,
          2,
          4,
          5,
          1
         ],
         "xaxis": "x4",
         "yaxis": "y4"
        }
       ],
       "layout": {
        "annotations": [
         {
          "font": {
           "size": 16
          },
          "showarrow": false,
          "text": "Word Frequencies",
          "x": 0.225,
          "xanchor": "center",
          "xref": "paper",
          "y": 1,
          "yanchor": "bottom",
          "yref": "paper"
         },
         {
          "font": {
           "size": 16
          },
          "showarrow": false,
          "text": "Sentence Positions",
          "x": 0.775,
          "xanchor": "center",
          "xref": "paper",
          "y": 1,
          "yanchor": "bottom",
          "yref": "paper"
         },
         {
          "font": {
           "size": 16
          },
          "showarrow": false,
          "text": "Sentence Lengths",
          "x": 0.225,
          "xanchor": "center",
          "xref": "paper",
          "y": 0.375,
          "yanchor": "bottom",
          "yref": "paper"
         },
         {
          "font": {
           "size": 16
          },
          "showarrow": false,
          "text": "Word Lengths",
          "x": 0.775,
          "xanchor": "center",
          "xref": "paper",
          "y": 0.375,
          "yanchor": "bottom",
          "yref": "paper"
         }
        ],
        "barmode": "overlay",
        "height": 800,
        "template": {
         "data": {
          "bar": [
           {
            "error_x": {
             "color": "#2a3f5f"
            },
            "error_y": {
             "color": "#2a3f5f"
            },
            "marker": {
             "line": {
              "color": "#E5ECF6",
              "width": 0.5
             },
             "pattern": {
              "fillmode": "overlay",
              "size": 10,
              "solidity": 0.2
             }
            },
            "type": "bar"
           }
          ],
          "barpolar": [
           {
            "marker": {
             "line": {
              "color": "#E5ECF6",
              "width": 0.5
             },
             "pattern": {
              "fillmode": "overlay",
              "size": 10,
              "solidity": 0.2
             }
            },
            "type": "barpolar"
           }
          ],
          "carpet": [
           {
            "aaxis": {
             "endlinecolor": "#2a3f5f",
             "gridcolor": "white",
             "linecolor": "white",
             "minorgridcolor": "white",
             "startlinecolor": "#2a3f5f"
            },
            "baxis": {
             "endlinecolor": "#2a3f5f",
             "gridcolor": "white",
             "linecolor": "white",
             "minorgridcolor": "white",
             "startlinecolor": "#2a3f5f"
            },
            "type": "carpet"
           }
          ],
          "choropleth": [
           {
            "colorbar": {
             "outlinewidth": 0,
             "ticks": ""
            },
            "type": "choropleth"
           }
          ],
          "contour": [
           {
            "colorbar": {
             "outlinewidth": 0,
             "ticks": ""
            },
            "colorscale": [
             [
              0,
              "#0d0887"
             ],
             [
              0.1111111111111111,
              "#46039f"
             ],
             [
              0.2222222222222222,
              "#7201a8"
             ],
             [
              0.3333333333333333,
              "#9c179e"
             ],
             [
              0.4444444444444444,
              "#bd3786"
             ],
             [
              0.5555555555555556,
              "#d8576b"
             ],
             [
              0.6666666666666666,
              "#ed7953"
             ],
             [
              0.7777777777777778,
              "#fb9f3a"
             ],
             [
              0.8888888888888888,
              "#fdca26"
             ],
             [
              1,
              "#f0f921"
             ]
            ],
            "type": "contour"
           }
          ],
          "contourcarpet": [
           {
            "colorbar": {
             "outlinewidth": 0,
             "ticks": ""
            },
            "type": "contourcarpet"
           }
          ],
          "heatmap": [
           {
            "colorbar": {
             "outlinewidth": 0,
             "ticks": ""
            },
            "colorscale": [
             [
              0,
              "#0d0887"
             ],
             [
              0.1111111111111111,
              "#46039f"
             ],
             [
              0.2222222222222222,
              "#7201a8"
             ],
             [
              0.3333333333333333,
              "#9c179e"
             ],
             [
              0.4444444444444444,
              "#bd3786"
             ],
             [
              0.5555555555555556,
              "#d8576b"
             ],
             [
              0.6666666666666666,
              "#ed7953"
             ],
             [
              0.7777777777777778,
              "#fb9f3a"
             ],
             [
              0.8888888888888888,
              "#fdca26"
             ],
             [
              1,
              "#f0f921"
             ]
            ],
            "type": "heatmap"
           }
          ],
          "heatmapgl": [
           {
            "colorbar": {
             "outlinewidth": 0,
             "ticks": ""
            },
            "colorscale": [
             [
              0,
              "#0d0887"
             ],
             [
              0.1111111111111111,
              "#46039f"
             ],
             [
              0.2222222222222222,
              "#7201a8"
             ],
             [
              0.3333333333333333,
              "#9c179e"
             ],
             [
              0.4444444444444444,
              "#bd3786"
             ],
             [
              0.5555555555555556,
              "#d8576b"
             ],
             [
              0.6666666666666666,
              "#ed7953"
             ],
             [
              0.7777777777777778,
              "#fb9f3a"
             ],
             [
              0.8888888888888888,
              "#fdca26"
             ],
             [
              1,
              "#f0f921"
             ]
            ],
            "type": "heatmapgl"
           }
          ],
          "histogram": [
           {
            "marker": {
             "pattern": {
              "fillmode": "overlay",
              "size": 10,
              "solidity": 0.2
             }
            },
            "type": "histogram"
           }
          ],
          "histogram2d": [
           {
            "colorbar": {
             "outlinewidth": 0,
             "ticks": ""
            },
            "colorscale": [
             [
              0,
              "#0d0887"
             ],
             [
              0.1111111111111111,
              "#46039f"
             ],
             [
              0.2222222222222222,
              "#7201a8"
             ],
             [
              0.3333333333333333,
              "#9c179e"
             ],
             [
              0.4444444444444444,
              "#bd3786"
             ],
             [
              0.5555555555555556,
              "#d8576b"
             ],
             [
              0.6666666666666666,
              "#ed7953"
             ],
             [
              0.7777777777777778,
              "#fb9f3a"
             ],
             [
              0.8888888888888888,
              "#fdca26"
             ],
             [
              1,
              "#f0f921"
             ]
            ],
            "type": "histogram2d"
           }
          ],
          "histogram2dcontour": [
           {
            "colorbar": {
             "outlinewidth": 0,
             "ticks": ""
            },
            "colorscale": [
             [
              0,
              "#0d0887"
             ],
             [
              0.1111111111111111,
              "#46039f"
             ],
             [
              0.2222222222222222,
              "#7201a8"
             ],
             [
              0.3333333333333333,
              "#9c179e"
             ],
             [
              0.4444444444444444,
              "#bd3786"
             ],
             [
              0.5555555555555556,
              "#d8576b"
             ],
             [
              0.6666666666666666,
              "#ed7953"
             ],
             [
              0.7777777777777778,
              "#fb9f3a"
             ],
             [
              0.8888888888888888,
              "#fdca26"
             ],
             [
              1,
              "#f0f921"
             ]
            ],
            "type": "histogram2dcontour"
           }
          ],
          "mesh3d": [
           {
            "colorbar": {
             "outlinewidth": 0,
             "ticks": ""
            },
            "type": "mesh3d"
           }
          ],
          "parcoords": [
           {
            "line": {
             "colorbar": {
              "outlinewidth": 0,
              "ticks": ""
             }
            },
            "type": "parcoords"
           }
          ],
          "pie": [
           {
            "automargin": true,
            "type": "pie"
           }
          ],
          "scatter": [
           {
            "fillpattern": {
             "fillmode": "overlay",
             "size": 10,
             "solidity": 0.2
            },
            "type": "scatter"
           }
          ],
          "scatter3d": [
           {
            "line": {
             "colorbar": {
              "outlinewidth": 0,
              "ticks": ""
             }
            },
            "marker": {
             "colorbar": {
              "outlinewidth": 0,
              "ticks": ""
             }
            },
            "type": "scatter3d"
           }
          ],
          "scattercarpet": [
           {
            "marker": {
             "colorbar": {
              "outlinewidth": 0,
              "ticks": ""
             }
            },
            "type": "scattercarpet"
           }
          ],
          "scattergeo": [
           {
            "marker": {
             "colorbar": {
              "outlinewidth": 0,
              "ticks": ""
             }
            },
            "type": "scattergeo"
           }
          ],
          "scattergl": [
           {
            "marker": {
             "colorbar": {
              "outlinewidth": 0,
              "ticks": ""
             }
            },
            "type": "scattergl"
           }
          ],
          "scattermapbox": [
           {
            "marker": {
             "colorbar": {
              "outlinewidth": 0,
              "ticks": ""
             }
            },
            "type": "scattermapbox"
           }
          ],
          "scatterpolar": [
           {
            "marker": {
             "colorbar": {
              "outlinewidth": 0,
              "ticks": ""
             }
            },
            "type": "scatterpolar"
           }
          ],
          "scatterpolargl": [
           {
            "marker": {
             "colorbar": {
              "outlinewidth": 0,
              "ticks": ""
             }
            },
            "type": "scatterpolargl"
           }
          ],
          "scatterternary": [
           {
            "marker": {
             "colorbar": {
              "outlinewidth": 0,
              "ticks": ""
             }
            },
            "type": "scatterternary"
           }
          ],
          "surface": [
           {
            "colorbar": {
             "outlinewidth": 0,
             "ticks": ""
            },
            "colorscale": [
             [
              0,
              "#0d0887"
             ],
             [
              0.1111111111111111,
              "#46039f"
             ],
             [
              0.2222222222222222,
              "#7201a8"
             ],
             [
              0.3333333333333333,
              "#9c179e"
             ],
             [
              0.4444444444444444,
              "#bd3786"
             ],
             [
              0.5555555555555556,
              "#d8576b"
             ],
             [
              0.6666666666666666,
              "#ed7953"
             ],
             [
              0.7777777777777778,
              "#fb9f3a"
             ],
             [
              0.8888888888888888,
              "#fdca26"
             ],
             [
              1,
              "#f0f921"
             ]
            ],
            "type": "surface"
           }
          ],
          "table": [
           {
            "cells": {
             "fill": {
              "color": "#EBF0F8"
             },
             "line": {
              "color": "white"
             }
            },
            "header": {
             "fill": {
              "color": "#C8D4E3"
             },
             "line": {
              "color": "white"
             }
            },
            "type": "table"
           }
          ]
         },
         "layout": {
          "annotationdefaults": {
           "arrowcolor": "#2a3f5f",
           "arrowhead": 0,
           "arrowwidth": 1
          },
          "autotypenumbers": "strict",
          "coloraxis": {
           "colorbar": {
            "outlinewidth": 0,
            "ticks": ""
           }
          },
          "colorscale": {
           "diverging": [
            [
             0,
             "#8e0152"
            ],
            [
             0.1,
             "#c51b7d"
            ],
            [
             0.2,
             "#de77ae"
            ],
            [
             0.3,
             "#f1b6da"
            ],
            [
             0.4,
             "#fde0ef"
            ],
            [
             0.5,
             "#f7f7f7"
            ],
            [
             0.6,
             "#e6f5d0"
            ],
            [
             0.7,
             "#b8e186"
            ],
            [
             0.8,
             "#7fbc41"
            ],
            [
             0.9,
             "#4d9221"
            ],
            [
             1,
             "#276419"
            ]
           ],
           "sequential": [
            [
             0,
             "#0d0887"
            ],
            [
             0.1111111111111111,
             "#46039f"
            ],
            [
             0.2222222222222222,
             "#7201a8"
            ],
            [
             0.3333333333333333,
             "#9c179e"
            ],
            [
             0.4444444444444444,
             "#bd3786"
            ],
            [
             0.5555555555555556,
             "#d8576b"
            ],
            [
             0.6666666666666666,
             "#ed7953"
            ],
            [
             0.7777777777777778,
             "#fb9f3a"
            ],
            [
             0.8888888888888888,
             "#fdca26"
            ],
            [
             1,
             "#f0f921"
            ]
           ],
           "sequentialminus": [
            [
             0,
             "#0d0887"
            ],
            [
             0.1111111111111111,
             "#46039f"
            ],
            [
             0.2222222222222222,
             "#7201a8"
            ],
            [
             0.3333333333333333,
             "#9c179e"
            ],
            [
             0.4444444444444444,
             "#bd3786"
            ],
            [
             0.5555555555555556,
             "#d8576b"
            ],
            [
             0.6666666666666666,
             "#ed7953"
            ],
            [
             0.7777777777777778,
             "#fb9f3a"
            ],
            [
             0.8888888888888888,
             "#fdca26"
            ],
            [
             1,
             "#f0f921"
            ]
           ]
          },
          "colorway": [
           "#636efa",
           "#EF553B",
           "#00cc96",
           "#ab63fa",
           "#FFA15A",
           "#19d3f3",
           "#FF6692",
           "#B6E880",
           "#FF97FF",
           "#FECB52"
          ],
          "font": {
           "color": "#2a3f5f"
          },
          "geo": {
           "bgcolor": "white",
           "lakecolor": "white",
           "landcolor": "#E5ECF6",
           "showlakes": true,
           "showland": true,
           "subunitcolor": "white"
          },
          "hoverlabel": {
           "align": "left"
          },
          "hovermode": "closest",
          "mapbox": {
           "style": "light"
          },
          "paper_bgcolor": "white",
          "plot_bgcolor": "#E5ECF6",
          "polar": {
           "angularaxis": {
            "gridcolor": "white",
            "linecolor": "white",
            "ticks": ""
           },
           "bgcolor": "#E5ECF6",
           "radialaxis": {
            "gridcolor": "white",
            "linecolor": "white",
            "ticks": ""
           }
          },
          "scene": {
           "xaxis": {
            "backgroundcolor": "#E5ECF6",
            "gridcolor": "white",
            "gridwidth": 2,
            "linecolor": "white",
            "showbackground": true,
            "ticks": "",
            "zerolinecolor": "white"
           },
           "yaxis": {
            "backgroundcolor": "#E5ECF6",
            "gridcolor": "white",
            "gridwidth": 2,
            "linecolor": "white",
            "showbackground": true,
            "ticks": "",
            "zerolinecolor": "white"
           },
           "zaxis": {
            "backgroundcolor": "#E5ECF6",
            "gridcolor": "white",
            "gridwidth": 2,
            "linecolor": "white",
            "showbackground": true,
            "ticks": "",
            "zerolinecolor": "white"
           }
          },
          "shapedefaults": {
           "line": {
            "color": "#2a3f5f"
           }
          },
          "ternary": {
           "aaxis": {
            "gridcolor": "white",
            "linecolor": "white",
            "ticks": ""
           },
           "baxis": {
            "gridcolor": "white",
            "linecolor": "white",
            "ticks": ""
           },
           "bgcolor": "#E5ECF6",
           "caxis": {
            "gridcolor": "white",
            "linecolor": "white",
            "ticks": ""
           }
          },
          "title": {
           "x": 0.05
          },
          "xaxis": {
           "automargin": true,
           "gridcolor": "white",
           "linecolor": "white",
           "ticks": "",
           "title": {
            "standoff": 15
           },
           "zerolinecolor": "white",
           "zerolinewidth": 2
          },
          "yaxis": {
           "automargin": true,
           "gridcolor": "white",
           "linecolor": "white",
           "ticks": "",
           "title": {
            "standoff": 15
           },
           "zerolinecolor": "white",
           "zerolinewidth": 2
          }
         }
        },
        "title": {
         "text": "Text Description for Document 1"
        },
        "xaxis": {
         "anchor": "y",
         "domain": [
          0,
          0.45
         ],
         "title": {
          "font": {
           "size": 10
          },
          "text": "Word Frequencies"
         }
        },
        "xaxis2": {
         "anchor": "y2",
         "domain": [
          0.55,
          1
         ],
         "title": {
          "font": {
           "size": 10
          },
          "text": "Sentence Position in Document"
         }
        },
        "xaxis3": {
         "anchor": "y3",
         "domain": [
          0,
          0.45
         ],
         "title": {
          "font": {
           "size": 10
          },
          "text": "Sentence Lengths (Words)"
         }
        },
        "xaxis4": {
         "anchor": "y4",
         "domain": [
          0.55,
          1
         ],
         "title": {
          "font": {
           "size": 10
          },
          "text": "Word Lengths (Characters)"
         }
        },
        "yaxis": {
         "anchor": "x",
         "domain": [
          0.625,
          1
         ],
         "title": {
          "font": {
           "size": 10
          },
          "text": "Number of Words"
         }
        },
        "yaxis2": {
         "anchor": "x2",
         "domain": [
          0.625,
          1
         ],
         "title": {
          "font": {
           "size": 10
          },
          "text": "Sentence Length (Words)"
         }
        },
        "yaxis3": {
         "anchor": "x3",
         "domain": [
          0,
          0.375
         ],
         "title": {
          "font": {
           "size": 10
          },
          "text": "Number of Sentences"
         }
        },
        "yaxis4": {
         "anchor": "x4",
         "domain": [
          0,
          0.375
         ],
         "title": {
          "font": {
           "size": 10
          },
          "text": "Number of Words"
         }
        }
       }
      }
     },
     "metadata": {},
     "output_type": "display_data"
    },
    {
     "data": {
      "application/vnd.plotly.v1+json": {
       "config": {
        "plotlyServerURL": "https://plot.ly"
       },
       "data": [
        {
         "marker": {
          "color": "blue"
         },
         "showlegend": false,
         "type": "bar",
         "x": [
          1,
          7,
          3,
          2,
          5,
          27,
          10,
          4,
          8,
          6,
          9,
          15,
          16,
          11
         ],
         "xaxis": "x",
         "y": [
          149,
          2,
          16,
          39,
          2,
          1,
          3,
          3,
          1,
          1,
          1,
          1,
          1,
          1
         ],
         "yaxis": "y"
        },
        {
         "marker": {
          "color": "green"
         },
         "showlegend": false,
         "type": "bar",
         "x": [
          1,
          2,
          3,
          4,
          5,
          6,
          7,
          8,
          9,
          10,
          11,
          12,
          13,
          14,
          15
         ],
         "xaxis": "x2",
         "y": [
          33,
          23,
          17,
          12,
          35,
          35,
          23,
          10,
          24,
          32,
          14,
          39,
          22,
          41,
          24
         ],
         "yaxis": "y2"
        },
        {
         "marker": {
          "color": "red"
         },
         "nbinsx": 50,
         "opacity": 0.75,
         "showlegend": false,
         "type": "histogram",
         "x": [
          33,
          23,
          17,
          12,
          35,
          35,
          23,
          10,
          24,
          32,
          14,
          39,
          22,
          41,
          24
         ],
         "xaxis": "x3",
         "yaxis": "y3"
        },
        {
         "marker": {
          "color": "purple"
         },
         "nbinsx": 50,
         "opacity": 0.75,
         "showlegend": false,
         "type": "histogram",
         "x": [
          6,
          5,
          2,
          9,
          6,
          3,
          6,
          3,
          3,
          3,
          7,
          5,
          7,
          3,
          4,
          2,
          6,
          5,
          6,
          5,
          3,
          7,
          7,
          4,
          4,
          3,
          2,
          5,
          7,
          2,
          3,
          2,
          9,
          1,
          3,
          4,
          9,
          11,
          3,
          2,
          10,
          2,
          11,
          2,
          4,
          8,
          3,
          6,
          9,
          7,
          2,
          7,
          5,
          3,
          4,
          2,
          6,
          2,
          1,
          2,
          4,
          7,
          2,
          3,
          4,
          1,
          3,
          6,
          7,
          1,
          6,
          7,
          3,
          4,
          1,
          4,
          1,
          6,
          2,
          8,
          1,
          6,
          8,
          5,
          3,
          7,
          3,
          3,
          3,
          9,
          2,
          6,
          6,
          1,
          2,
          6,
          1,
          7,
          7,
          8,
          2,
          9,
          2,
          6,
          2,
          6,
          5,
          2,
          3,
          7,
          2,
          2,
          7,
          9,
          4,
          3,
          6,
          6,
          5,
          2,
          3,
          7,
          7,
          2,
          3,
          4,
          2,
          19,
          2,
          4,
          4,
          1,
          2,
          1,
          5,
          3,
          8,
          2,
          6,
          1,
          4,
          4,
          8,
          4,
          2,
          3,
          7,
          7,
          7,
          4,
          2,
          2,
          5,
          3,
          4,
          4,
          1,
          2,
          4,
          6,
          6,
          1,
          4,
          2,
          8,
          8,
          2,
          4,
          2,
          7,
          2,
          3,
          4,
          1,
          2,
          2,
          2,
          6,
          1,
          11,
          4,
          1,
          6,
          3,
          1,
          3,
          2,
          10,
          5,
          5,
          3,
          7,
          7,
          7,
          3,
          7,
          4,
          4,
          3,
          4,
          1,
          2,
          7,
          5,
          3,
          7,
          8,
          5,
          5,
          2,
          1,
          7,
          1,
          6,
          1,
          5,
          2,
          8,
          7,
          6,
          2,
          3,
          6,
          3,
          3,
          2,
          8,
          2,
          5,
          5,
          2,
          6,
          6,
          4,
          9,
          4,
          7,
          6,
          6,
          6,
          11,
          1,
          3,
          5,
          3,
          1,
          5,
          2,
          7,
          2,
          6,
          4,
          6,
          2,
          4,
          4,
          1,
          7,
          6,
          8,
          2,
          1,
          5,
          7,
          9,
          4,
          3,
          2,
          4,
          2,
          4,
          2,
          3,
          1,
          9,
          2,
          3,
          3,
          1,
          3,
          2,
          7,
          2,
          7,
          8,
          2,
          7,
          3,
          10,
          8,
          2,
          7,
          6,
          1,
          2,
          3,
          8,
          1,
          3,
          2,
          7,
          7,
          2,
          8,
          2,
          1,
          8,
          2,
          5,
          8,
          5,
          2,
          1,
          7,
          2,
          1,
          5,
          1,
          3,
          5,
          4,
          4,
          2,
          2,
          4,
          6,
          1,
          3,
          6,
          2,
          1,
          12,
          4,
          8,
          5,
          1,
          3,
          10,
          6,
          1,
          4,
          7,
          1,
          5,
          2,
          6,
          2,
          4,
          2,
          6,
          7,
          4,
          10,
          1,
          3,
          5,
          4,
          4,
          2,
          3,
          6,
          1,
          3,
          6,
          5,
          4,
          6,
          4,
          3,
          6,
          2,
          3,
          6,
          8,
          1,
          2,
          4,
          2,
          3,
          2,
          2,
          7,
          7,
          7,
          3,
          1,
          4,
          2,
          5,
          4,
          2,
          2,
          6,
          2,
          3,
          6,
          2,
          2,
          5,
          3,
          6,
          2,
          7,
          5,
          3,
          11,
          1,
          3,
          5,
          5,
          4,
          8,
          3,
          6,
          2,
          6,
          1,
          3,
          4,
          12,
          7,
          3,
          7,
          4,
          6,
          2,
          5,
          2,
          4,
          1,
          8,
          7,
          1
         ],
         "xaxis": "x4",
         "yaxis": "y4"
        }
       ],
       "layout": {
        "annotations": [
         {
          "font": {
           "size": 16
          },
          "showarrow": false,
          "text": "Word Frequencies",
          "x": 0.225,
          "xanchor": "center",
          "xref": "paper",
          "y": 1,
          "yanchor": "bottom",
          "yref": "paper"
         },
         {
          "font": {
           "size": 16
          },
          "showarrow": false,
          "text": "Sentence Positions",
          "x": 0.775,
          "xanchor": "center",
          "xref": "paper",
          "y": 1,
          "yanchor": "bottom",
          "yref": "paper"
         },
         {
          "font": {
           "size": 16
          },
          "showarrow": false,
          "text": "Sentence Lengths",
          "x": 0.225,
          "xanchor": "center",
          "xref": "paper",
          "y": 0.375,
          "yanchor": "bottom",
          "yref": "paper"
         },
         {
          "font": {
           "size": 16
          },
          "showarrow": false,
          "text": "Word Lengths",
          "x": 0.775,
          "xanchor": "center",
          "xref": "paper",
          "y": 0.375,
          "yanchor": "bottom",
          "yref": "paper"
         }
        ],
        "barmode": "overlay",
        "height": 800,
        "template": {
         "data": {
          "bar": [
           {
            "error_x": {
             "color": "#2a3f5f"
            },
            "error_y": {
             "color": "#2a3f5f"
            },
            "marker": {
             "line": {
              "color": "#E5ECF6",
              "width": 0.5
             },
             "pattern": {
              "fillmode": "overlay",
              "size": 10,
              "solidity": 0.2
             }
            },
            "type": "bar"
           }
          ],
          "barpolar": [
           {
            "marker": {
             "line": {
              "color": "#E5ECF6",
              "width": 0.5
             },
             "pattern": {
              "fillmode": "overlay",
              "size": 10,
              "solidity": 0.2
             }
            },
            "type": "barpolar"
           }
          ],
          "carpet": [
           {
            "aaxis": {
             "endlinecolor": "#2a3f5f",
             "gridcolor": "white",
             "linecolor": "white",
             "minorgridcolor": "white",
             "startlinecolor": "#2a3f5f"
            },
            "baxis": {
             "endlinecolor": "#2a3f5f",
             "gridcolor": "white",
             "linecolor": "white",
             "minorgridcolor": "white",
             "startlinecolor": "#2a3f5f"
            },
            "type": "carpet"
           }
          ],
          "choropleth": [
           {
            "colorbar": {
             "outlinewidth": 0,
             "ticks": ""
            },
            "type": "choropleth"
           }
          ],
          "contour": [
           {
            "colorbar": {
             "outlinewidth": 0,
             "ticks": ""
            },
            "colorscale": [
             [
              0,
              "#0d0887"
             ],
             [
              0.1111111111111111,
              "#46039f"
             ],
             [
              0.2222222222222222,
              "#7201a8"
             ],
             [
              0.3333333333333333,
              "#9c179e"
             ],
             [
              0.4444444444444444,
              "#bd3786"
             ],
             [
              0.5555555555555556,
              "#d8576b"
             ],
             [
              0.6666666666666666,
              "#ed7953"
             ],
             [
              0.7777777777777778,
              "#fb9f3a"
             ],
             [
              0.8888888888888888,
              "#fdca26"
             ],
             [
              1,
              "#f0f921"
             ]
            ],
            "type": "contour"
           }
          ],
          "contourcarpet": [
           {
            "colorbar": {
             "outlinewidth": 0,
             "ticks": ""
            },
            "type": "contourcarpet"
           }
          ],
          "heatmap": [
           {
            "colorbar": {
             "outlinewidth": 0,
             "ticks": ""
            },
            "colorscale": [
             [
              0,
              "#0d0887"
             ],
             [
              0.1111111111111111,
              "#46039f"
             ],
             [
              0.2222222222222222,
              "#7201a8"
             ],
             [
              0.3333333333333333,
              "#9c179e"
             ],
             [
              0.4444444444444444,
              "#bd3786"
             ],
             [
              0.5555555555555556,
              "#d8576b"
             ],
             [
              0.6666666666666666,
              "#ed7953"
             ],
             [
              0.7777777777777778,
              "#fb9f3a"
             ],
             [
              0.8888888888888888,
              "#fdca26"
             ],
             [
              1,
              "#f0f921"
             ]
            ],
            "type": "heatmap"
           }
          ],
          "heatmapgl": [
           {
            "colorbar": {
             "outlinewidth": 0,
             "ticks": ""
            },
            "colorscale": [
             [
              0,
              "#0d0887"
             ],
             [
              0.1111111111111111,
              "#46039f"
             ],
             [
              0.2222222222222222,
              "#7201a8"
             ],
             [
              0.3333333333333333,
              "#9c179e"
             ],
             [
              0.4444444444444444,
              "#bd3786"
             ],
             [
              0.5555555555555556,
              "#d8576b"
             ],
             [
              0.6666666666666666,
              "#ed7953"
             ],
             [
              0.7777777777777778,
              "#fb9f3a"
             ],
             [
              0.8888888888888888,
              "#fdca26"
             ],
             [
              1,
              "#f0f921"
             ]
            ],
            "type": "heatmapgl"
           }
          ],
          "histogram": [
           {
            "marker": {
             "pattern": {
              "fillmode": "overlay",
              "size": 10,
              "solidity": 0.2
             }
            },
            "type": "histogram"
           }
          ],
          "histogram2d": [
           {
            "colorbar": {
             "outlinewidth": 0,
             "ticks": ""
            },
            "colorscale": [
             [
              0,
              "#0d0887"
             ],
             [
              0.1111111111111111,
              "#46039f"
             ],
             [
              0.2222222222222222,
              "#7201a8"
             ],
             [
              0.3333333333333333,
              "#9c179e"
             ],
             [
              0.4444444444444444,
              "#bd3786"
             ],
             [
              0.5555555555555556,
              "#d8576b"
             ],
             [
              0.6666666666666666,
              "#ed7953"
             ],
             [
              0.7777777777777778,
              "#fb9f3a"
             ],
             [
              0.8888888888888888,
              "#fdca26"
             ],
             [
              1,
              "#f0f921"
             ]
            ],
            "type": "histogram2d"
           }
          ],
          "histogram2dcontour": [
           {
            "colorbar": {
             "outlinewidth": 0,
             "ticks": ""
            },
            "colorscale": [
             [
              0,
              "#0d0887"
             ],
             [
              0.1111111111111111,
              "#46039f"
             ],
             [
              0.2222222222222222,
              "#7201a8"
             ],
             [
              0.3333333333333333,
              "#9c179e"
             ],
             [
              0.4444444444444444,
              "#bd3786"
             ],
             [
              0.5555555555555556,
              "#d8576b"
             ],
             [
              0.6666666666666666,
              "#ed7953"
             ],
             [
              0.7777777777777778,
              "#fb9f3a"
             ],
             [
              0.8888888888888888,
              "#fdca26"
             ],
             [
              1,
              "#f0f921"
             ]
            ],
            "type": "histogram2dcontour"
           }
          ],
          "mesh3d": [
           {
            "colorbar": {
             "outlinewidth": 0,
             "ticks": ""
            },
            "type": "mesh3d"
           }
          ],
          "parcoords": [
           {
            "line": {
             "colorbar": {
              "outlinewidth": 0,
              "ticks": ""
             }
            },
            "type": "parcoords"
           }
          ],
          "pie": [
           {
            "automargin": true,
            "type": "pie"
           }
          ],
          "scatter": [
           {
            "fillpattern": {
             "fillmode": "overlay",
             "size": 10,
             "solidity": 0.2
            },
            "type": "scatter"
           }
          ],
          "scatter3d": [
           {
            "line": {
             "colorbar": {
              "outlinewidth": 0,
              "ticks": ""
             }
            },
            "marker": {
             "colorbar": {
              "outlinewidth": 0,
              "ticks": ""
             }
            },
            "type": "scatter3d"
           }
          ],
          "scattercarpet": [
           {
            "marker": {
             "colorbar": {
              "outlinewidth": 0,
              "ticks": ""
             }
            },
            "type": "scattercarpet"
           }
          ],
          "scattergeo": [
           {
            "marker": {
             "colorbar": {
              "outlinewidth": 0,
              "ticks": ""
             }
            },
            "type": "scattergeo"
           }
          ],
          "scattergl": [
           {
            "marker": {
             "colorbar": {
              "outlinewidth": 0,
              "ticks": ""
             }
            },
            "type": "scattergl"
           }
          ],
          "scattermapbox": [
           {
            "marker": {
             "colorbar": {
              "outlinewidth": 0,
              "ticks": ""
             }
            },
            "type": "scattermapbox"
           }
          ],
          "scatterpolar": [
           {
            "marker": {
             "colorbar": {
              "outlinewidth": 0,
              "ticks": ""
             }
            },
            "type": "scatterpolar"
           }
          ],
          "scatterpolargl": [
           {
            "marker": {
             "colorbar": {
              "outlinewidth": 0,
              "ticks": ""
             }
            },
            "type": "scatterpolargl"
           }
          ],
          "scatterternary": [
           {
            "marker": {
             "colorbar": {
              "outlinewidth": 0,
              "ticks": ""
             }
            },
            "type": "scatterternary"
           }
          ],
          "surface": [
           {
            "colorbar": {
             "outlinewidth": 0,
             "ticks": ""
            },
            "colorscale": [
             [
              0,
              "#0d0887"
             ],
             [
              0.1111111111111111,
              "#46039f"
             ],
             [
              0.2222222222222222,
              "#7201a8"
             ],
             [
              0.3333333333333333,
              "#9c179e"
             ],
             [
              0.4444444444444444,
              "#bd3786"
             ],
             [
              0.5555555555555556,
              "#d8576b"
             ],
             [
              0.6666666666666666,
              "#ed7953"
             ],
             [
              0.7777777777777778,
              "#fb9f3a"
             ],
             [
              0.8888888888888888,
              "#fdca26"
             ],
             [
              1,
              "#f0f921"
             ]
            ],
            "type": "surface"
           }
          ],
          "table": [
           {
            "cells": {
             "fill": {
              "color": "#EBF0F8"
             },
             "line": {
              "color": "white"
             }
            },
            "header": {
             "fill": {
              "color": "#C8D4E3"
             },
             "line": {
              "color": "white"
             }
            },
            "type": "table"
           }
          ]
         },
         "layout": {
          "annotationdefaults": {
           "arrowcolor": "#2a3f5f",
           "arrowhead": 0,
           "arrowwidth": 1
          },
          "autotypenumbers": "strict",
          "coloraxis": {
           "colorbar": {
            "outlinewidth": 0,
            "ticks": ""
           }
          },
          "colorscale": {
           "diverging": [
            [
             0,
             "#8e0152"
            ],
            [
             0.1,
             "#c51b7d"
            ],
            [
             0.2,
             "#de77ae"
            ],
            [
             0.3,
             "#f1b6da"
            ],
            [
             0.4,
             "#fde0ef"
            ],
            [
             0.5,
             "#f7f7f7"
            ],
            [
             0.6,
             "#e6f5d0"
            ],
            [
             0.7,
             "#b8e186"
            ],
            [
             0.8,
             "#7fbc41"
            ],
            [
             0.9,
             "#4d9221"
            ],
            [
             1,
             "#276419"
            ]
           ],
           "sequential": [
            [
             0,
             "#0d0887"
            ],
            [
             0.1111111111111111,
             "#46039f"
            ],
            [
             0.2222222222222222,
             "#7201a8"
            ],
            [
             0.3333333333333333,
             "#9c179e"
            ],
            [
             0.4444444444444444,
             "#bd3786"
            ],
            [
             0.5555555555555556,
             "#d8576b"
            ],
            [
             0.6666666666666666,
             "#ed7953"
            ],
            [
             0.7777777777777778,
             "#fb9f3a"
            ],
            [
             0.8888888888888888,
             "#fdca26"
            ],
            [
             1,
             "#f0f921"
            ]
           ],
           "sequentialminus": [
            [
             0,
             "#0d0887"
            ],
            [
             0.1111111111111111,
             "#46039f"
            ],
            [
             0.2222222222222222,
             "#7201a8"
            ],
            [
             0.3333333333333333,
             "#9c179e"
            ],
            [
             0.4444444444444444,
             "#bd3786"
            ],
            [
             0.5555555555555556,
             "#d8576b"
            ],
            [
             0.6666666666666666,
             "#ed7953"
            ],
            [
             0.7777777777777778,
             "#fb9f3a"
            ],
            [
             0.8888888888888888,
             "#fdca26"
            ],
            [
             1,
             "#f0f921"
            ]
           ]
          },
          "colorway": [
           "#636efa",
           "#EF553B",
           "#00cc96",
           "#ab63fa",
           "#FFA15A",
           "#19d3f3",
           "#FF6692",
           "#B6E880",
           "#FF97FF",
           "#FECB52"
          ],
          "font": {
           "color": "#2a3f5f"
          },
          "geo": {
           "bgcolor": "white",
           "lakecolor": "white",
           "landcolor": "#E5ECF6",
           "showlakes": true,
           "showland": true,
           "subunitcolor": "white"
          },
          "hoverlabel": {
           "align": "left"
          },
          "hovermode": "closest",
          "mapbox": {
           "style": "light"
          },
          "paper_bgcolor": "white",
          "plot_bgcolor": "#E5ECF6",
          "polar": {
           "angularaxis": {
            "gridcolor": "white",
            "linecolor": "white",
            "ticks": ""
           },
           "bgcolor": "#E5ECF6",
           "radialaxis": {
            "gridcolor": "white",
            "linecolor": "white",
            "ticks": ""
           }
          },
          "scene": {
           "xaxis": {
            "backgroundcolor": "#E5ECF6",
            "gridcolor": "white",
            "gridwidth": 2,
            "linecolor": "white",
            "showbackground": true,
            "ticks": "",
            "zerolinecolor": "white"
           },
           "yaxis": {
            "backgroundcolor": "#E5ECF6",
            "gridcolor": "white",
            "gridwidth": 2,
            "linecolor": "white",
            "showbackground": true,
            "ticks": "",
            "zerolinecolor": "white"
           },
           "zaxis": {
            "backgroundcolor": "#E5ECF6",
            "gridcolor": "white",
            "gridwidth": 2,
            "linecolor": "white",
            "showbackground": true,
            "ticks": "",
            "zerolinecolor": "white"
           }
          },
          "shapedefaults": {
           "line": {
            "color": "#2a3f5f"
           }
          },
          "ternary": {
           "aaxis": {
            "gridcolor": "white",
            "linecolor": "white",
            "ticks": ""
           },
           "baxis": {
            "gridcolor": "white",
            "linecolor": "white",
            "ticks": ""
           },
           "bgcolor": "#E5ECF6",
           "caxis": {
            "gridcolor": "white",
            "linecolor": "white",
            "ticks": ""
           }
          },
          "title": {
           "x": 0.05
          },
          "xaxis": {
           "automargin": true,
           "gridcolor": "white",
           "linecolor": "white",
           "ticks": "",
           "title": {
            "standoff": 15
           },
           "zerolinecolor": "white",
           "zerolinewidth": 2
          },
          "yaxis": {
           "automargin": true,
           "gridcolor": "white",
           "linecolor": "white",
           "ticks": "",
           "title": {
            "standoff": 15
           },
           "zerolinecolor": "white",
           "zerolinewidth": 2
          }
         }
        },
        "title": {
         "text": "Text Description for Document 2"
        },
        "xaxis": {
         "anchor": "y",
         "domain": [
          0,
          0.45
         ],
         "title": {
          "font": {
           "size": 10
          },
          "text": "Word Frequencies"
         }
        },
        "xaxis2": {
         "anchor": "y2",
         "domain": [
          0.55,
          1
         ],
         "title": {
          "font": {
           "size": 10
          },
          "text": "Sentence Position in Document"
         }
        },
        "xaxis3": {
         "anchor": "y3",
         "domain": [
          0,
          0.45
         ],
         "title": {
          "font": {
           "size": 10
          },
          "text": "Sentence Lengths (Words)"
         }
        },
        "xaxis4": {
         "anchor": "y4",
         "domain": [
          0.55,
          1
         ],
         "title": {
          "font": {
           "size": 10
          },
          "text": "Word Lengths (Characters)"
         }
        },
        "yaxis": {
         "anchor": "x",
         "domain": [
          0.625,
          1
         ],
         "title": {
          "font": {
           "size": 10
          },
          "text": "Number of Words"
         }
        },
        "yaxis2": {
         "anchor": "x2",
         "domain": [
          0.625,
          1
         ],
         "title": {
          "font": {
           "size": 10
          },
          "text": "Sentence Length (Words)"
         }
        },
        "yaxis3": {
         "anchor": "x3",
         "domain": [
          0,
          0.375
         ],
         "title": {
          "font": {
           "size": 10
          },
          "text": "Number of Sentences"
         }
        },
        "yaxis4": {
         "anchor": "x4",
         "domain": [
          0,
          0.375
         ],
         "title": {
          "font": {
           "size": 10
          },
          "text": "Number of Words"
         }
        }
       }
      }
     },
     "metadata": {},
     "output_type": "display_data"
    }
   ],
   "source": [
    "params = {\n",
    "    \"text_column\": 'input',\n",
    "    \"num_docs_to_plot\": 2\n",
    "}\n",
    "\n",
    "text_structure_histograms(df_summarization, params)"
   ]
  },
  {
   "attachments": {},
   "cell_type": "markdown",
   "metadata": {},
   "source": [
    "## 6. Validation of Generated Text"
   ]
  },
  {
   "attachments": {},
   "cell_type": "markdown",
   "metadata": {},
   "source": [
    "### Generated Summary Description"
   ]
  },
  {
   "attachments": {},
   "cell_type": "markdown",
   "metadata": {},
   "source": [
    "##### Token Distribution Histograms"
   ]
  },
  {
   "cell_type": "code",
   "execution_count": 30,
   "metadata": {},
   "outputs": [
    {
     "data": {
      "application/vnd.plotly.v1+json": {
       "config": {
        "plotlyServerURL": "https://plot.ly"
       },
       "data": [
        {
         "marker": {
          "color": "blue"
         },
         "showlegend": false,
         "type": "histogram",
         "x": [
          570,
          473,
          365,
          554,
          396,
          234,
          346,
          408,
          297,
          287,
          240,
          402,
          377,
          550,
          756,
          306,
          279,
          249,
          352,
          797,
          425,
          407,
          282,
          436,
          580,
          383,
          362,
          276,
          496,
          575,
          387,
          405,
          284,
          381,
          278,
          431,
          515,
          233,
          292,
          290,
          380,
          292,
          238,
          498,
          372,
          381,
          339,
          350,
          785,
          411,
          374,
          634,
          304,
          310,
          468,
          339,
          530,
          265,
          390,
          184,
          357,
          416,
          389,
          369,
          432,
          399,
          363,
          491,
          685,
          245,
          308,
          351,
          321,
          324,
          244,
          342,
          638,
          352,
          325,
          246,
          312,
          283,
          692,
          288,
          296,
          247,
          398,
          281,
          471,
          485,
          401,
          475,
          431,
          270,
          363,
          172,
          580,
          297,
          540,
          443
         ],
         "xaxis": "x",
         "yaxis": "y"
        },
        {
         "marker": {
          "color": "red"
         },
         "showlegend": false,
         "type": "histogram",
         "x": [
          125,
          37,
          124,
          136,
          116,
          93,
          61,
          98,
          129,
          124,
          125,
          123,
          101,
          114,
          119,
          34,
          133,
          126,
          27,
          120,
          34,
          34,
          117,
          135,
          128,
          133,
          117,
          113,
          114,
          121,
          120,
          155,
          124,
          132,
          129,
          30,
          101,
          141,
          125,
          117,
          95,
          121,
          90,
          122,
          37,
          135,
          103,
          129,
          124,
          113,
          108,
          126,
          137,
          111,
          125,
          132,
          117,
          122,
          122,
          126,
          139,
          140,
          136,
          122,
          120,
          126,
          125,
          126,
          127,
          107,
          93,
          24,
          119,
          111,
          115,
          31,
          134,
          30,
          109,
          32,
          28,
          124,
          122,
          120,
          110,
          112,
          110,
          113,
          124,
          123,
          107,
          119,
          49,
          95,
          125,
          23,
          135,
          137,
          123,
          113
         ],
         "xaxis": "x2",
         "yaxis": "y2"
        },
        {
         "marker": {
          "color": "green"
         },
         "showlegend": false,
         "type": "histogram",
         "x": [
          169,
          105,
          132,
          148,
          129,
          48,
          127,
          109,
          71,
          67,
          55,
          93,
          108,
          136,
          259,
          93,
          66,
          64,
          99,
          267,
          113,
          112,
          66,
          153,
          149,
          128,
          135,
          63,
          155,
          120,
          124,
          139,
          75,
          147,
          72,
          125,
          177,
          73,
          78,
          56,
          114,
          105,
          53,
          116,
          122,
          129,
          99,
          65,
          257,
          127,
          97,
          218,
          65,
          103,
          178,
          125,
          176,
          64,
          109,
          48,
          63,
          179,
          116,
          120,
          130,
          99,
          100,
          133,
          199,
          65,
          55,
          82,
          50,
          104,
          55,
          102,
          206,
          102,
          100,
          76,
          98,
          74,
          184,
          63,
          45,
          63,
          143,
          69,
          103,
          135,
          116,
          155,
          176,
          51,
          135,
          50,
          198,
          69,
          161,
          130
         ],
         "xaxis": "x3",
         "yaxis": "y3"
        },
        {
         "marker": {
          "color": "purple"
         },
         "showlegend": false,
         "type": "histogram",
         "x": [
          63,
          65,
          56,
          45,
          39,
          41,
          53,
          51,
          45,
          44,
          51,
          32,
          35,
          43,
          58,
          52,
          55,
          33,
          56,
          58,
          62,
          58,
          64,
          65,
          50,
          47,
          53,
          54,
          48,
          43,
          64,
          56,
          76,
          65,
          47,
          54,
          56,
          74,
          46,
          49,
          25,
          46,
          39,
          49,
          50,
          50,
          51,
          53,
          45,
          77,
          51,
          52,
          34,
          37,
          61,
          58,
          42,
          48,
          49,
          34,
          64,
          60,
          56,
          41,
          53,
          58,
          55,
          51,
          58,
          57,
          58,
          63,
          47,
          50,
          37,
          66,
          57,
          56,
          37,
          49,
          51,
          70,
          71,
          44,
          55,
          67,
          46,
          60,
          39,
          53,
          42,
          43,
          38,
          49,
          62,
          40,
          52,
          76,
          48,
          52
         ],
         "xaxis": "x4",
         "yaxis": "y4"
        }
       ],
       "layout": {
        "annotations": [
         {
          "font": {
           "size": 16
          },
          "showarrow": false,
          "text": "input",
          "x": 0.225,
          "xanchor": "center",
          "xref": "paper",
          "y": 1,
          "yanchor": "bottom",
          "yref": "paper"
         },
         {
          "font": {
           "size": 16
          },
          "showarrow": false,
          "text": "reference_summary",
          "x": 0.775,
          "xanchor": "center",
          "xref": "paper",
          "y": 1,
          "yanchor": "bottom",
          "yref": "paper"
         },
         {
          "font": {
           "size": 16
          },
          "showarrow": false,
          "text": "extractive_summary",
          "x": 0.225,
          "xanchor": "center",
          "xref": "paper",
          "y": 0.375,
          "yanchor": "bottom",
          "yref": "paper"
         },
         {
          "font": {
           "size": 16
          },
          "showarrow": false,
          "text": "abstract_summary",
          "x": 0.775,
          "xanchor": "center",
          "xref": "paper",
          "y": 0.375,
          "yanchor": "bottom",
          "yref": "paper"
         }
        ],
        "bargap": 0.1,
        "height": 800,
        "showlegend": false,
        "template": {
         "data": {
          "bar": [
           {
            "error_x": {
             "color": "#2a3f5f"
            },
            "error_y": {
             "color": "#2a3f5f"
            },
            "marker": {
             "line": {
              "color": "#E5ECF6",
              "width": 0.5
             },
             "pattern": {
              "fillmode": "overlay",
              "size": 10,
              "solidity": 0.2
             }
            },
            "type": "bar"
           }
          ],
          "barpolar": [
           {
            "marker": {
             "line": {
              "color": "#E5ECF6",
              "width": 0.5
             },
             "pattern": {
              "fillmode": "overlay",
              "size": 10,
              "solidity": 0.2
             }
            },
            "type": "barpolar"
           }
          ],
          "carpet": [
           {
            "aaxis": {
             "endlinecolor": "#2a3f5f",
             "gridcolor": "white",
             "linecolor": "white",
             "minorgridcolor": "white",
             "startlinecolor": "#2a3f5f"
            },
            "baxis": {
             "endlinecolor": "#2a3f5f",
             "gridcolor": "white",
             "linecolor": "white",
             "minorgridcolor": "white",
             "startlinecolor": "#2a3f5f"
            },
            "type": "carpet"
           }
          ],
          "choropleth": [
           {
            "colorbar": {
             "outlinewidth": 0,
             "ticks": ""
            },
            "type": "choropleth"
           }
          ],
          "contour": [
           {
            "colorbar": {
             "outlinewidth": 0,
             "ticks": ""
            },
            "colorscale": [
             [
              0,
              "#0d0887"
             ],
             [
              0.1111111111111111,
              "#46039f"
             ],
             [
              0.2222222222222222,
              "#7201a8"
             ],
             [
              0.3333333333333333,
              "#9c179e"
             ],
             [
              0.4444444444444444,
              "#bd3786"
             ],
             [
              0.5555555555555556,
              "#d8576b"
             ],
             [
              0.6666666666666666,
              "#ed7953"
             ],
             [
              0.7777777777777778,
              "#fb9f3a"
             ],
             [
              0.8888888888888888,
              "#fdca26"
             ],
             [
              1,
              "#f0f921"
             ]
            ],
            "type": "contour"
           }
          ],
          "contourcarpet": [
           {
            "colorbar": {
             "outlinewidth": 0,
             "ticks": ""
            },
            "type": "contourcarpet"
           }
          ],
          "heatmap": [
           {
            "colorbar": {
             "outlinewidth": 0,
             "ticks": ""
            },
            "colorscale": [
             [
              0,
              "#0d0887"
             ],
             [
              0.1111111111111111,
              "#46039f"
             ],
             [
              0.2222222222222222,
              "#7201a8"
             ],
             [
              0.3333333333333333,
              "#9c179e"
             ],
             [
              0.4444444444444444,
              "#bd3786"
             ],
             [
              0.5555555555555556,
              "#d8576b"
             ],
             [
              0.6666666666666666,
              "#ed7953"
             ],
             [
              0.7777777777777778,
              "#fb9f3a"
             ],
             [
              0.8888888888888888,
              "#fdca26"
             ],
             [
              1,
              "#f0f921"
             ]
            ],
            "type": "heatmap"
           }
          ],
          "heatmapgl": [
           {
            "colorbar": {
             "outlinewidth": 0,
             "ticks": ""
            },
            "colorscale": [
             [
              0,
              "#0d0887"
             ],
             [
              0.1111111111111111,
              "#46039f"
             ],
             [
              0.2222222222222222,
              "#7201a8"
             ],
             [
              0.3333333333333333,
              "#9c179e"
             ],
             [
              0.4444444444444444,
              "#bd3786"
             ],
             [
              0.5555555555555556,
              "#d8576b"
             ],
             [
              0.6666666666666666,
              "#ed7953"
             ],
             [
              0.7777777777777778,
              "#fb9f3a"
             ],
             [
              0.8888888888888888,
              "#fdca26"
             ],
             [
              1,
              "#f0f921"
             ]
            ],
            "type": "heatmapgl"
           }
          ],
          "histogram": [
           {
            "marker": {
             "pattern": {
              "fillmode": "overlay",
              "size": 10,
              "solidity": 0.2
             }
            },
            "type": "histogram"
           }
          ],
          "histogram2d": [
           {
            "colorbar": {
             "outlinewidth": 0,
             "ticks": ""
            },
            "colorscale": [
             [
              0,
              "#0d0887"
             ],
             [
              0.1111111111111111,
              "#46039f"
             ],
             [
              0.2222222222222222,
              "#7201a8"
             ],
             [
              0.3333333333333333,
              "#9c179e"
             ],
             [
              0.4444444444444444,
              "#bd3786"
             ],
             [
              0.5555555555555556,
              "#d8576b"
             ],
             [
              0.6666666666666666,
              "#ed7953"
             ],
             [
              0.7777777777777778,
              "#fb9f3a"
             ],
             [
              0.8888888888888888,
              "#fdca26"
             ],
             [
              1,
              "#f0f921"
             ]
            ],
            "type": "histogram2d"
           }
          ],
          "histogram2dcontour": [
           {
            "colorbar": {
             "outlinewidth": 0,
             "ticks": ""
            },
            "colorscale": [
             [
              0,
              "#0d0887"
             ],
             [
              0.1111111111111111,
              "#46039f"
             ],
             [
              0.2222222222222222,
              "#7201a8"
             ],
             [
              0.3333333333333333,
              "#9c179e"
             ],
             [
              0.4444444444444444,
              "#bd3786"
             ],
             [
              0.5555555555555556,
              "#d8576b"
             ],
             [
              0.6666666666666666,
              "#ed7953"
             ],
             [
              0.7777777777777778,
              "#fb9f3a"
             ],
             [
              0.8888888888888888,
              "#fdca26"
             ],
             [
              1,
              "#f0f921"
             ]
            ],
            "type": "histogram2dcontour"
           }
          ],
          "mesh3d": [
           {
            "colorbar": {
             "outlinewidth": 0,
             "ticks": ""
            },
            "type": "mesh3d"
           }
          ],
          "parcoords": [
           {
            "line": {
             "colorbar": {
              "outlinewidth": 0,
              "ticks": ""
             }
            },
            "type": "parcoords"
           }
          ],
          "pie": [
           {
            "automargin": true,
            "type": "pie"
           }
          ],
          "scatter": [
           {
            "fillpattern": {
             "fillmode": "overlay",
             "size": 10,
             "solidity": 0.2
            },
            "type": "scatter"
           }
          ],
          "scatter3d": [
           {
            "line": {
             "colorbar": {
              "outlinewidth": 0,
              "ticks": ""
             }
            },
            "marker": {
             "colorbar": {
              "outlinewidth": 0,
              "ticks": ""
             }
            },
            "type": "scatter3d"
           }
          ],
          "scattercarpet": [
           {
            "marker": {
             "colorbar": {
              "outlinewidth": 0,
              "ticks": ""
             }
            },
            "type": "scattercarpet"
           }
          ],
          "scattergeo": [
           {
            "marker": {
             "colorbar": {
              "outlinewidth": 0,
              "ticks": ""
             }
            },
            "type": "scattergeo"
           }
          ],
          "scattergl": [
           {
            "marker": {
             "colorbar": {
              "outlinewidth": 0,
              "ticks": ""
             }
            },
            "type": "scattergl"
           }
          ],
          "scattermapbox": [
           {
            "marker": {
             "colorbar": {
              "outlinewidth": 0,
              "ticks": ""
             }
            },
            "type": "scattermapbox"
           }
          ],
          "scatterpolar": [
           {
            "marker": {
             "colorbar": {
              "outlinewidth": 0,
              "ticks": ""
             }
            },
            "type": "scatterpolar"
           }
          ],
          "scatterpolargl": [
           {
            "marker": {
             "colorbar": {
              "outlinewidth": 0,
              "ticks": ""
             }
            },
            "type": "scatterpolargl"
           }
          ],
          "scatterternary": [
           {
            "marker": {
             "colorbar": {
              "outlinewidth": 0,
              "ticks": ""
             }
            },
            "type": "scatterternary"
           }
          ],
          "surface": [
           {
            "colorbar": {
             "outlinewidth": 0,
             "ticks": ""
            },
            "colorscale": [
             [
              0,
              "#0d0887"
             ],
             [
              0.1111111111111111,
              "#46039f"
             ],
             [
              0.2222222222222222,
              "#7201a8"
             ],
             [
              0.3333333333333333,
              "#9c179e"
             ],
             [
              0.4444444444444444,
              "#bd3786"
             ],
             [
              0.5555555555555556,
              "#d8576b"
             ],
             [
              0.6666666666666666,
              "#ed7953"
             ],
             [
              0.7777777777777778,
              "#fb9f3a"
             ],
             [
              0.8888888888888888,
              "#fdca26"
             ],
             [
              1,
              "#f0f921"
             ]
            ],
            "type": "surface"
           }
          ],
          "table": [
           {
            "cells": {
             "fill": {
              "color": "#EBF0F8"
             },
             "line": {
              "color": "white"
             }
            },
            "header": {
             "fill": {
              "color": "#C8D4E3"
             },
             "line": {
              "color": "white"
             }
            },
            "type": "table"
           }
          ]
         },
         "layout": {
          "annotationdefaults": {
           "arrowcolor": "#2a3f5f",
           "arrowhead": 0,
           "arrowwidth": 1
          },
          "autotypenumbers": "strict",
          "coloraxis": {
           "colorbar": {
            "outlinewidth": 0,
            "ticks": ""
           }
          },
          "colorscale": {
           "diverging": [
            [
             0,
             "#8e0152"
            ],
            [
             0.1,
             "#c51b7d"
            ],
            [
             0.2,
             "#de77ae"
            ],
            [
             0.3,
             "#f1b6da"
            ],
            [
             0.4,
             "#fde0ef"
            ],
            [
             0.5,
             "#f7f7f7"
            ],
            [
             0.6,
             "#e6f5d0"
            ],
            [
             0.7,
             "#b8e186"
            ],
            [
             0.8,
             "#7fbc41"
            ],
            [
             0.9,
             "#4d9221"
            ],
            [
             1,
             "#276419"
            ]
           ],
           "sequential": [
            [
             0,
             "#0d0887"
            ],
            [
             0.1111111111111111,
             "#46039f"
            ],
            [
             0.2222222222222222,
             "#7201a8"
            ],
            [
             0.3333333333333333,
             "#9c179e"
            ],
            [
             0.4444444444444444,
             "#bd3786"
            ],
            [
             0.5555555555555556,
             "#d8576b"
            ],
            [
             0.6666666666666666,
             "#ed7953"
            ],
            [
             0.7777777777777778,
             "#fb9f3a"
            ],
            [
             0.8888888888888888,
             "#fdca26"
            ],
            [
             1,
             "#f0f921"
            ]
           ],
           "sequentialminus": [
            [
             0,
             "#0d0887"
            ],
            [
             0.1111111111111111,
             "#46039f"
            ],
            [
             0.2222222222222222,
             "#7201a8"
            ],
            [
             0.3333333333333333,
             "#9c179e"
            ],
            [
             0.4444444444444444,
             "#bd3786"
            ],
            [
             0.5555555555555556,
             "#d8576b"
            ],
            [
             0.6666666666666666,
             "#ed7953"
            ],
            [
             0.7777777777777778,
             "#fb9f3a"
            ],
            [
             0.8888888888888888,
             "#fdca26"
            ],
            [
             1,
             "#f0f921"
            ]
           ]
          },
          "colorway": [
           "#636efa",
           "#EF553B",
           "#00cc96",
           "#ab63fa",
           "#FFA15A",
           "#19d3f3",
           "#FF6692",
           "#B6E880",
           "#FF97FF",
           "#FECB52"
          ],
          "font": {
           "color": "#2a3f5f"
          },
          "geo": {
           "bgcolor": "white",
           "lakecolor": "white",
           "landcolor": "#E5ECF6",
           "showlakes": true,
           "showland": true,
           "subunitcolor": "white"
          },
          "hoverlabel": {
           "align": "left"
          },
          "hovermode": "closest",
          "mapbox": {
           "style": "light"
          },
          "paper_bgcolor": "white",
          "plot_bgcolor": "#E5ECF6",
          "polar": {
           "angularaxis": {
            "gridcolor": "white",
            "linecolor": "white",
            "ticks": ""
           },
           "bgcolor": "#E5ECF6",
           "radialaxis": {
            "gridcolor": "white",
            "linecolor": "white",
            "ticks": ""
           }
          },
          "scene": {
           "xaxis": {
            "backgroundcolor": "#E5ECF6",
            "gridcolor": "white",
            "gridwidth": 2,
            "linecolor": "white",
            "showbackground": true,
            "ticks": "",
            "zerolinecolor": "white"
           },
           "yaxis": {
            "backgroundcolor": "#E5ECF6",
            "gridcolor": "white",
            "gridwidth": 2,
            "linecolor": "white",
            "showbackground": true,
            "ticks": "",
            "zerolinecolor": "white"
           },
           "zaxis": {
            "backgroundcolor": "#E5ECF6",
            "gridcolor": "white",
            "gridwidth": 2,
            "linecolor": "white",
            "showbackground": true,
            "ticks": "",
            "zerolinecolor": "white"
           }
          },
          "shapedefaults": {
           "line": {
            "color": "#2a3f5f"
           }
          },
          "ternary": {
           "aaxis": {
            "gridcolor": "white",
            "linecolor": "white",
            "ticks": ""
           },
           "baxis": {
            "gridcolor": "white",
            "linecolor": "white",
            "ticks": ""
           },
           "bgcolor": "#E5ECF6",
           "caxis": {
            "gridcolor": "white",
            "linecolor": "white",
            "ticks": ""
           }
          },
          "title": {
           "x": 0.05
          },
          "xaxis": {
           "automargin": true,
           "gridcolor": "white",
           "linecolor": "white",
           "ticks": "",
           "title": {
            "standoff": 15
           },
           "zerolinecolor": "white",
           "zerolinewidth": 2
          },
          "yaxis": {
           "automargin": true,
           "gridcolor": "white",
           "linecolor": "white",
           "ticks": "",
           "title": {
            "standoff": 15
           },
           "zerolinecolor": "white",
           "zerolinewidth": 2
          }
         }
        },
        "title": {
         "text": "Token Distributions"
        },
        "xaxis": {
         "anchor": "y",
         "domain": [
          0,
          0.45
         ],
         "title": {
          "text": "Number of Tokens"
         }
        },
        "xaxis2": {
         "anchor": "y2",
         "domain": [
          0.55,
          1
         ]
        },
        "xaxis3": {
         "anchor": "y3",
         "domain": [
          0,
          0.45
         ]
        },
        "xaxis4": {
         "anchor": "y4",
         "domain": [
          0.55,
          1
         ]
        },
        "yaxis": {
         "anchor": "x",
         "domain": [
          0.625,
          1
         ],
         "title": {
          "text": "Number of Documents"
         }
        },
        "yaxis2": {
         "anchor": "x2",
         "domain": [
          0.625,
          1
         ]
        },
        "yaxis3": {
         "anchor": "x3",
         "domain": [
          0,
          0.375
         ]
        },
        "yaxis4": {
         "anchor": "x4",
         "domain": [
          0,
          0.375
         ]
        }
       }
      }
     },
     "metadata": {},
     "output_type": "display_data"
    }
   ],
   "source": [
    "text_columns = [\"input\", \"reference_summary\", \"extractive_summary\", \"abstract_summary\"]\n",
    "\n",
    "params = {\n",
    "    \"text_columns\": text_columns,\n",
    "}\n",
    "\n",
    "token_distribution_histograms(df_summarization, params)"
   ]
  },
  {
   "attachments": {},
   "cell_type": "markdown",
   "metadata": {},
   "source": [
    "### Generated Summary Accuracy "
   ]
  },
  {
   "attachments": {},
   "cell_type": "markdown",
   "metadata": {},
   "source": [
    "##### ROUGE-N Score"
   ]
  },
  {
   "attachments": {},
   "cell_type": "markdown",
   "metadata": {},
   "source": [
    "The ROUGE score ((Recall-Oriented Understudy for Gisting Evaluation) is a widely adopted set of metrics used for evaluating automatic summarization and machine translation. It fundamentally measures the overlap between the n-grams in the generated summary and those in the reference summary.\n",
    "\n",
    "- ROUGE-N: This evaluates the overlap of n-grams between the produced summary and reference summary. It calculates precision (the proportion of n-grams in the generated summary that are also present in the reference summary), recall (the proportion of n-grams in the reference summary that are also present in the generated summary), and F1 score (the harmonic mean of precision and recall).\n",
    "\n",
    "- ROUGE-L: This metric is based on the Longest Common Subsequence (LCS) between the generated and reference summaries. LCS measures the longest sequence of tokens in the generated summary that matches the reference, without considering the order. It's beneficial because it can identify and reward longer coherent matching sequences.\n",
    "\n",
    "- ROUGE-S: This measures the skip-bigram overlap, considering the pair of words in order as \"bigrams\" while allowing arbitrary gaps or \"skips\". This can be valuable to capture sentence-level structure similarity."
   ]
  },
  {
   "cell_type": "code",
   "execution_count": 31,
   "metadata": {},
   "outputs": [
    {
     "data": {
      "application/vnd.plotly.v1+json": {
       "config": {
        "plotlyServerURL": "https://plot.ly"
       },
       "data": [
        {
         "line": {
          "color": "blue"
         },
         "mode": "lines+markers",
         "name": "Precision",
         "showlegend": true,
         "type": "scatter",
         "x": [
          0,
          1,
          2,
          3,
          4,
          5,
          6,
          7,
          8,
          9,
          10,
          11,
          12,
          13,
          14,
          15,
          16,
          17,
          18,
          19,
          20,
          21,
          22,
          23,
          24,
          25,
          26,
          27,
          28,
          29,
          30,
          31,
          32,
          33,
          34,
          35,
          36,
          37,
          38,
          39,
          40,
          41,
          42,
          43,
          44,
          45,
          46,
          47,
          48,
          49,
          50,
          51,
          52,
          53,
          54,
          55,
          56,
          57,
          58,
          59,
          60,
          61,
          62,
          63,
          64,
          65,
          66,
          67,
          68,
          69,
          70,
          71,
          72,
          73,
          74,
          75,
          76,
          77,
          78,
          79,
          80,
          81,
          82,
          83,
          84,
          85,
          86,
          87,
          88,
          89,
          90,
          91,
          92,
          93,
          94,
          95,
          96,
          97,
          98,
          99
         ],
         "xaxis": "x",
         "y": [
          0.9759036144578314,
          0.96875,
          1,
          0.979381443298969,
          0.9764705882352941,
          0.971830985915493,
          0.96,
          0.9743589743589743,
          0.9897959183673469,
          0.9888888888888889,
          0.9897959183673469,
          0.978021978021978,
          0.9878048780487805,
          0.9897959183673469,
          1,
          0.9583333333333334,
          0.9895833333333334,
          0.9894736842105263,
          0.95,
          0.9775280898876404,
          0.96,
          0.9629629629629629,
          0.9764705882352941,
          0.98989898989899,
          1,
          0.9891304347826086,
          0.9891304347826086,
          0.975609756097561,
          0.9891304347826086,
          0.9764705882352941,
          0.9888888888888889,
          0.9895833333333334,
          0.9891304347826086,
          0.98989898989899,
          0.9761904761904762,
          0.9629629629629629,
          0.975,
          0.9795918367346939,
          0.975,
          0.9896907216494846,
          0.9743589743589743,
          0.989010989010989,
          0.971830985915493,
          1,
          1,
          0.9795918367346939,
          1,
          1,
          0.9791666666666666,
          0.978494623655914,
          0.9746835443037974,
          0.978021978021978,
          0.9801980198019802,
          0.9883720930232558,
          0.9885057471264368,
          0.989247311827957,
          0.9891304347826086,
          1,
          1,
          0.9787234042553191,
          1,
          1,
          0.9897959183673469,
          1,
          0.989010989010989,
          0.978494623655914,
          0.9894736842105263,
          0.979381443298969,
          0.9886363636363636,
          0.9863013698630136,
          0.9701492537313433,
          0.9523809523809523,
          0.9893617021276596,
          0.9880952380952381,
          0.9896907216494846,
          0.96,
          0.9753086419753086,
          0.9565217391304348,
          0.9759036144578314,
          0.9583333333333334,
          0.9545454545454546,
          0.9770114942528736,
          0.9782608695652174,
          0.9761904761904762,
          0.9746835443037974,
          0.975609756097561,
          0.975,
          0.9746835443037974,
          0.9896907216494846,
          0.9897959183673469,
          0.9875,
          0.9894736842105263,
          0.9696969696969697,
          0.9868421052631579,
          0.9772727272727273,
          0.9473684210526315,
          0.9900990099009901,
          0.9896907216494846,
          0.9897959183673469,
          0.9882352941176471
         ],
         "yaxis": "y"
        },
        {
         "line": {
          "color": "green"
         },
         "mode": "lines+markers",
         "name": "Recall",
         "showlegend": true,
         "type": "scatter",
         "x": [
          0,
          1,
          2,
          3,
          4,
          5,
          6,
          7,
          8,
          9,
          10,
          11,
          12,
          13,
          14,
          15,
          16,
          17,
          18,
          19,
          20,
          21,
          22,
          23,
          24,
          25,
          26,
          27,
          28,
          29,
          30,
          31,
          32,
          33,
          34,
          35,
          36,
          37,
          38,
          39,
          40,
          41,
          42,
          43,
          44,
          45,
          46,
          47,
          48,
          49,
          50,
          51,
          52,
          53,
          54,
          55,
          56,
          57,
          58,
          59,
          60,
          61,
          62,
          63,
          64,
          65,
          66,
          67,
          68,
          69,
          70,
          71,
          72,
          73,
          74,
          75,
          76,
          77,
          78,
          79,
          80,
          81,
          82,
          83,
          84,
          85,
          86,
          87,
          88,
          89,
          90,
          91,
          92,
          93,
          94,
          95,
          96,
          97,
          98,
          99
         ],
         "xaxis": "x",
         "y": [
          0.2,
          0.0856353591160221,
          0.3798449612403101,
          0.24050632911392406,
          0.30970149253731344,
          0.3988439306358382,
          0.1791044776119403,
          0.25418060200668896,
          0.4369369369369369,
          0.4063926940639269,
          0.5388888888888889,
          0.3090277777777778,
          0.2903225806451613,
          0.21896162528216703,
          0.16425992779783394,
          0.09504132231404959,
          0.4567307692307692,
          0.5497076023391813,
          0.07421875,
          0.14332784184514002,
          0.07142857142857142,
          0.08783783783783784,
          0.41089108910891087,
          0.2996941896024465,
          0.21136363636363636,
          0.325,
          0.3473282442748092,
          0.3791469194312796,
          0.24331550802139038,
          0.2075,
          0.30272108843537415,
          0.35315985130111527,
          0.4117647058823529,
          0.33793103448275863,
          0.41414141414141414,
          0.0790273556231003,
          0.1964735516372796,
          0.6193548387096774,
          0.40625,
          0.4304932735426009,
          0.2508250825082508,
          0.4072398190045249,
          0.375,
          0.24731182795698925,
          0.08666666666666667,
          0.3380281690140845,
          0.33079847908745247,
          0.38645418326693226,
          0.16404886561954624,
          0.30033003300330036,
          0.27208480565371024,
          0.19181034482758622,
          0.43231441048034935,
          0.3648068669527897,
          0.25,
          0.3770491803278688,
          0.22469135802469137,
          0.48936170212765956,
          0.34172661870503596,
          0.6524822695035462,
          0.376425855513308,
          0.3311897106109325,
          0.3803921568627451,
          0.35074626865671643,
          0.26627218934911245,
          0.29545454545454547,
          0.3381294964028777,
          0.25675675675675674,
          0.17025440313111545,
          0.4022346368715084,
          0.31862745098039214,
          0.07272727272727272,
          0.3875,
          0.33739837398373984,
          0.4682926829268293,
          0.09056603773584905,
          0.18944844124700239,
          0.08661417322834646,
          0.3389121338912134,
          0.125,
          0.08536585365853659,
          0.4146341463414634,
          0.18108651911468812,
          0.41836734693877553,
          0.35648148148148145,
          0.42328042328042326,
          0.2785714285714286,
          0.39487179487179486,
          0.26666666666666666,
          0.26430517711171664,
          0.2581699346405229,
          0.27089337175792505,
          0.10457516339869281,
          0.39473684210526316,
          0.33858267716535434,
          0.13333333333333333,
          0.2364066193853428,
          0.45714285714285713,
          0.24069478908188585,
          0.2641509433962264
         ],
         "yaxis": "y"
        },
        {
         "line": {
          "color": "red"
         },
         "mode": "lines+markers",
         "name": "F1",
         "showlegend": true,
         "type": "scatter",
         "x": [
          0,
          1,
          2,
          3,
          4,
          5,
          6,
          7,
          8,
          9,
          10,
          11,
          12,
          13,
          14,
          15,
          16,
          17,
          18,
          19,
          20,
          21,
          22,
          23,
          24,
          25,
          26,
          27,
          28,
          29,
          30,
          31,
          32,
          33,
          34,
          35,
          36,
          37,
          38,
          39,
          40,
          41,
          42,
          43,
          44,
          45,
          46,
          47,
          48,
          49,
          50,
          51,
          52,
          53,
          54,
          55,
          56,
          57,
          58,
          59,
          60,
          61,
          62,
          63,
          64,
          65,
          66,
          67,
          68,
          69,
          70,
          71,
          72,
          73,
          74,
          75,
          76,
          77,
          78,
          79,
          80,
          81,
          82,
          83,
          84,
          85,
          86,
          87,
          88,
          89,
          90,
          91,
          92,
          93,
          94,
          95,
          96,
          97,
          98,
          99
         ],
         "xaxis": "x",
         "y": [
          0.3319672102916723,
          0.15736040459893325,
          0.5505617937627826,
          0.38617885862292617,
          0.4702549538508455,
          0.5655737663655604,
          0.30188678980261857,
          0.40318302059087174,
          0.6062499957507813,
          0.5760517758067051,
          0.6978417220537239,
          0.4696569884353353,
          0.4487534590928554,
          0.3585951911183849,
          0.28217054021205457,
          0.1729323291853695,
          0.6249999956786704,
          0.7067669127013964,
          0.13768115807603448,
          0.24999999776956172,
          0.13296398763054304,
          0.16099071054222702,
          0.5783972083745098,
          0.46009389314587057,
          0.3489681021848787,
          0.4892473081049833,
          0.5141242899383959,
          0.5460750812934339,
          0.390557936745197,
          0.3422680383462643,
          0.46354166307779954,
          0.5205479413287297,
          0.5814696444115997,
          0.5038560373365231,
          0.5815602795050552,
          0.14606741432852544,
          0.3270440223655007,
          0.7588932758862036,
          0.5735294076124567,
          0.5999999957751955,
          0.3989501279773493,
          0.5769230727911326,
          0.5411764665700884,
          0.3965517209586802,
          0.15950920098611165,
          0.5026177972325321,
          0.4971428534071837,
          0.5574712603469745,
          0.281016439993297,
          0.45959595600206626,
          0.4254143612287476,
          0.3207207179791251,
          0.5999999957522498,
          0.53291535656332,
          0.3990719225318555,
          0.5459940612857382,
          0.36619718008169744,
          0.6571428527306123,
          0.5093833742196091,
          0.7829787186042555,
          0.5469613219930711,
          0.4975845373249085,
          0.5495750668105834,
          0.5193370127297702,
          0.41958041623790354,
          0.45386533309568977,
          0.504021443924703,
          0.4068522451026874,
          0.2904841377271524,
          0.5714285673132402,
          0.47970479332579896,
          0.13513513381688275,
          0.5568862235003048,
          0.5030302992352618,
          0.6357615850434193,
          0.165517239803805,
          0.31726907358131323,
          0.15884476382019835,
          0.5031055862356777,
          0.22115384411242606,
          0.15671641640343065,
          0.5821917766384407,
          0.30560271383260174,
          0.5857142815142858,
          0.522033894383453,
          0.5904058998385099,
          0.4333333298765433,
          0.5620437915165964,
          0.4201312876844036,
          0.417204297748549,
          0.4093264215844722,
          0.42533936314111104,
          0.18879055871459527,
          0.5639097703544576,
          0.5029239727861564,
          0.23376623160313717,
          0.3816793862010519,
          0.6254071618011863,
          0.3872255457552759,
          0.41687344580288044
         ],
         "yaxis": "y"
        },
        {
         "line": {
          "color": "blue"
         },
         "mode": "lines+markers",
         "name": "Precision",
         "showlegend": false,
         "type": "scatter",
         "x": [
          0,
          1,
          2,
          3,
          4,
          5,
          6,
          7,
          8,
          9,
          10,
          11,
          12,
          13,
          14,
          15,
          16,
          17,
          18,
          19,
          20,
          21,
          22,
          23,
          24,
          25,
          26,
          27,
          28,
          29,
          30,
          31,
          32,
          33,
          34,
          35,
          36,
          37,
          38,
          39,
          40,
          41,
          42,
          43,
          44,
          45,
          46,
          47,
          48,
          49,
          50,
          51,
          52,
          53,
          54,
          55,
          56,
          57,
          58,
          59,
          60,
          61,
          62,
          63,
          64,
          65,
          66,
          67,
          68,
          69,
          70,
          71,
          72,
          73,
          74,
          75,
          76,
          77,
          78,
          79,
          80,
          81,
          82,
          83,
          84,
          85,
          86,
          87,
          88,
          89,
          90,
          91,
          92,
          93,
          94,
          95,
          96,
          97,
          98,
          99
         ],
         "xaxis": "x2",
         "y": [
          0.9836065573770492,
          1,
          0.9893617021276596,
          0.9904761904761905,
          0.9888888888888889,
          1,
          0.9903846153846154,
          0.9871794871794872,
          1,
          1,
          1,
          0.9861111111111112,
          0.9887640449438202,
          0.990909090909091,
          0.9847715736040609,
          0.9863013698630136,
          1,
          1,
          1,
          0.9865470852017937,
          1,
          0.9885057471264368,
          1,
          0.9914529914529915,
          0.9911504424778761,
          0.989010989010989,
          0.9894736842105263,
          1,
          0.9922480620155039,
          1,
          0.9894736842105263,
          0.9883720930232558,
          1,
          0.9914529914529915,
          1,
          0.9904761904761905,
          0.9854014598540146,
          1,
          1,
          1,
          0.989247311827957,
          0.9882352941176471,
          1,
          0.9893617021276596,
          0.9901960784313726,
          0.98989898989899,
          1,
          1,
          0.9858490566037735,
          0.9897959183673469,
          0.9857142857142858,
          0.9937888198757764,
          1,
          0.9873417721518988,
          0.9927007299270073,
          0.9886363636363636,
          0.9864864864864865,
          1,
          0.9879518072289156,
          1,
          1,
          0.9925373134328358,
          0.989247311827957,
          0.98989898989899,
          0.9906542056074766,
          0.9866666666666667,
          1,
          1,
          0.9869281045751634,
          1,
          1,
          0.9850746268656716,
          1,
          1,
          1,
          0.9876543209876543,
          1,
          0.9863013698630136,
          0.9878048780487805,
          0.9824561403508771,
          0.9880952380952381,
          1,
          0.9859154929577465,
          1,
          1,
          1,
          0.9901960784313726,
          1,
          0.9880952380952381,
          0.9902912621359223,
          0.9888888888888889,
          0.9824561403508771,
          0.9920634920634921,
          1,
          0.9888888888888889,
          1,
          0.9806451612903225,
          1,
          0.9926470588235294,
          0.9893617021276596
         ],
         "yaxis": "y2"
        },
        {
         "line": {
          "color": "green"
         },
         "mode": "lines+markers",
         "name": "Recall",
         "showlegend": false,
         "type": "scatter",
         "x": [
          0,
          1,
          2,
          3,
          4,
          5,
          6,
          7,
          8,
          9,
          10,
          11,
          12,
          13,
          14,
          15,
          16,
          17,
          18,
          19,
          20,
          21,
          22,
          23,
          24,
          25,
          26,
          27,
          28,
          29,
          30,
          31,
          32,
          33,
          34,
          35,
          36,
          37,
          38,
          39,
          40,
          41,
          42,
          43,
          44,
          45,
          46,
          47,
          48,
          49,
          50,
          51,
          52,
          53,
          54,
          55,
          56,
          57,
          58,
          59,
          60,
          61,
          62,
          63,
          64,
          65,
          66,
          67,
          68,
          69,
          70,
          71,
          72,
          73,
          74,
          75,
          76,
          77,
          78,
          79,
          80,
          81,
          82,
          83,
          84,
          85,
          86,
          87,
          88,
          89,
          90,
          91,
          92,
          93,
          94,
          95,
          96,
          97,
          98,
          99
         ],
         "xaxis": "x2",
         "y": [
          0.2962962962962963,
          0.2541436464088398,
          0.36046511627906974,
          0.26329113924050634,
          0.332089552238806,
          0.2138728323699422,
          0.3843283582089552,
          0.25752508361204013,
          0.25225225225225223,
          0.2557077625570776,
          0.2222222222222222,
          0.2465277777777778,
          0.3154121863799283,
          0.24604966139954854,
          0.35018050541516244,
          0.2975206611570248,
          0.21634615384615385,
          0.26900584795321636,
          0.2734375,
          0.3624382207578254,
          0.2708333333333333,
          0.2905405405405405,
          0.24752475247524752,
          0.3547400611620795,
          0.2545454545454545,
          0.32142857142857145,
          0.35877862595419846,
          0.2132701421800948,
          0.3422459893048128,
          0.245,
          0.3197278911564626,
          0.3159851301115242,
          0.25339366515837103,
          0.4,
          0.2222222222222222,
          0.3161094224924012,
          0.34005037783375314,
          0.3032258064516129,
          0.23958333333333334,
          0.17488789237668162,
          0.30363036303630364,
          0.38009049773755654,
          0.21195652173913043,
          0.25,
          0.33666666666666667,
          0.34507042253521125,
          0.28517110266159695,
          0.19123505976095617,
          0.3647469458987784,
          0.3201320132013201,
          0.24381625441696114,
          0.3448275862068966,
          0.21397379912663755,
          0.33476394849785407,
          0.3953488372093023,
          0.35655737704918034,
          0.36049382716049383,
          0.2712765957446808,
          0.2949640287769784,
          0.2695035460992908,
          0.18631178707224336,
          0.42765273311897106,
          0.3607843137254902,
          0.3656716417910448,
          0.3136094674556213,
          0.24025974025974026,
          0.3129496402877698,
          0.27297297297297296,
          0.29549902152641877,
          0.25139664804469275,
          0.18627450980392157,
          0.24,
          0.16666666666666666,
          0.3170731707317073,
          0.21951219512195122,
          0.3018867924528302,
          0.3333333333333333,
          0.28346456692913385,
          0.3389121338912134,
          0.30434782608695654,
          0.33739837398373984,
          0.23902439024390243,
          0.28169014084507044,
          0.21428571428571427,
          0.16203703703703703,
          0.2275132275132275,
          0.3607142857142857,
          0.24102564102564103,
          0.23055555555555557,
          0.2779291553133515,
          0.2908496732026144,
          0.3227665706051873,
          0.4084967320261438,
          0.22631578947368422,
          0.35039370078740156,
          0.31851851851851853,
          0.35933806146572106,
          0.24761904761904763,
          0.3349875930521092,
          0.29245283018867924
         ],
         "yaxis": "y2"
        },
        {
         "line": {
          "color": "red"
         },
         "mode": "lines+markers",
         "name": "F1",
         "showlegend": false,
         "type": "scatter",
         "x": [
          0,
          1,
          2,
          3,
          4,
          5,
          6,
          7,
          8,
          9,
          10,
          11,
          12,
          13,
          14,
          15,
          16,
          17,
          18,
          19,
          20,
          21,
          22,
          23,
          24,
          25,
          26,
          27,
          28,
          29,
          30,
          31,
          32,
          33,
          34,
          35,
          36,
          37,
          38,
          39,
          40,
          41,
          42,
          43,
          44,
          45,
          46,
          47,
          48,
          49,
          50,
          51,
          52,
          53,
          54,
          55,
          56,
          57,
          58,
          59,
          60,
          61,
          62,
          63,
          64,
          65,
          66,
          67,
          68,
          69,
          70,
          71,
          72,
          73,
          74,
          75,
          76,
          77,
          78,
          79,
          80,
          81,
          82,
          83,
          84,
          85,
          86,
          87,
          88,
          89,
          90,
          91,
          92,
          93,
          94,
          95,
          96,
          97,
          98,
          99
         ],
         "xaxis": "x2",
         "y": [
          0.4554079660813239,
          0.40528634038075656,
          0.5284090869944473,
          0.41599999668200005,
          0.49720670014668705,
          0.3523809494780046,
          0.5537634368320038,
          0.4084880603786701,
          0.4028776946245018,
          0.4072727240293554,
          0.363636360661157,
          0.39444444124444455,
          0.47826086589806827,
          0.39421337836819725,
          0.5166444701644856,
          0.4571428535820611,
          0.35573122237185406,
          0.42396313029964533,
          0.429447849388385,
          0.5301204779979388,
          0.4262295048427842,
          0.44908615836879384,
          0.3968253936444949,
          0.5225225186410397,
          0.40506328788753765,
          0.48517519845394913,
          0.526610640351827,
          0.351562497102356,
          0.5089463182538171,
          0.3935742940275157,
          0.4832904847403864,
          0.47887323576528473,
          0.404332126738,
          0.5700245659279563,
          0.363636360661157,
          0.47926266914300575,
          0.5056179737134061,
          0.46534653108273705,
          0.3865546187303157,
          0.2977099211301789,
          0.46464646105257124,
          0.5490196038307916,
          0.34977578186732095,
          0.3991416276807456,
          0.5024875584020199,
          0.5117493434250694,
          0.4437869787953853,
          0.32107023141844054,
          0.5324840724905352,
          0.48379051999751244,
          0.390934841013089,
          0.5119999961751553,
          0.35251798270767565,
          0.4999999962181542,
          0.5654885614145859,
          0.5240963816461025,
          0.5280289291721304,
          0.4267782393207402,
          0.4542936252677619,
          0.42458100224212736,
          0.31410256145484067,
          0.5977528047798005,
          0.5287356282674396,
          0.5340599415643447,
          0.47640449072935237,
          0.3864229733517851,
          0.47671232513627326,
          0.428874731238139,
          0.4548192735618831,
          0.401785711075016,
          0.3140495841294994,
          0.38596490913015974,
          0.2857142832653061,
          0.48148147782578876,
          0.35999999704800006,
          0.4624277420787531,
          0.4999999962500001,
          0.4403669690089686,
          0.504672893392339,
          0.4647302868449235,
          0.5030302992352618,
          0.3858267685395871,
          0.43818466007998613,
          0.3529411735640139,
          0.27888445975143256,
          0.3706896521525714,
          0.5287958076039583,
          0.3884297489362066,
          0.3738738708059411,
          0.43404254976903583,
          0.44949494598255285,
          0.4859002131970018,
          0.5787036995717594,
          0.36909870943653417,
          0.5174418566015414,
          0.4831460637514204,
          0.525951553168365,
          0.39694656170386344,
          0.5009276400117032,
          0.4514563071576021
         ],
         "yaxis": "y2"
        },
        {
         "line": {
          "color": "blue"
         },
         "mode": "lines+markers",
         "name": "Precision",
         "showlegend": false,
         "type": "scatter",
         "x": [
          0,
          1,
          2,
          3,
          4,
          5,
          6,
          7,
          8,
          9,
          10,
          11,
          12,
          13,
          14,
          15,
          16,
          17,
          18,
          19,
          20,
          21,
          22,
          23,
          24,
          25,
          26,
          27,
          28,
          29,
          30,
          31,
          32,
          33,
          34,
          35,
          36,
          37,
          38,
          39,
          40,
          41,
          42,
          43,
          44,
          45,
          46,
          47,
          48,
          49,
          50,
          51,
          52,
          53,
          54,
          55,
          56,
          57,
          58,
          59,
          60,
          61,
          62,
          63,
          64,
          65,
          66,
          67,
          68,
          69,
          70,
          71,
          72,
          73,
          74,
          75,
          76,
          77,
          78,
          79,
          80,
          81,
          82,
          83,
          84,
          85,
          86,
          87,
          88,
          89,
          90,
          91,
          92,
          93,
          94,
          95,
          96,
          97,
          98,
          99
         ],
         "xaxis": "x3",
         "y": [
          0.7948717948717948,
          0.75,
          0.9166666666666666,
          0.9259259259259259,
          0.68,
          0.8918918918918919,
          0.8333333333333334,
          0.8333333333333334,
          0.8529411764705882,
          0.9310344827586207,
          0.9032258064516129,
          0.7727272727272727,
          0.7037037037037037,
          0.9428571428571428,
          0.9361702127659575,
          0.8636363636363636,
          0.9375,
          0.88,
          0.88,
          0.8695652173913043,
          0.9166666666666666,
          0.775,
          0.9130434782608695,
          0.875,
          0.875,
          0.9142857142857143,
          0.7631578947368421,
          0.8108108108108109,
          0.75,
          0.8529411764705882,
          0.9038461538461539,
          0.7368421052631579,
          0.7924528301886793,
          0.851063829787234,
          0.8928571428571429,
          0.9,
          0.8666666666666667,
          0.7777777777777778,
          0.8235294117647058,
          0.7058823529411765,
          0.6,
          0.9117647058823529,
          0.71875,
          0.8974358974358975,
          0.7435897435897436,
          0.8947368421052632,
          0.7777777777777778,
          0.875,
          0.7631578947368421,
          0.8387096774193549,
          0.7692307692307693,
          0.8048780487804879,
          0.9583333333333334,
          0.7241379310344828,
          0.7916666666666666,
          0.9,
          0.9142857142857143,
          0.7567567567567568,
          0.7692307692307693,
          0.75,
          0.9090909090909091,
          0.8292682926829268,
          0.8571428571428571,
          0.7586206896551724,
          0.8181818181818182,
          0.7021276595744681,
          0.725,
          0.9047619047619048,
          0.7631578947368421,
          0.7209302325581395,
          0.8717948717948718,
          0.9111111111111111,
          0.7837837837837838,
          0.8780487804878049,
          0.8709677419354839,
          0.8076923076923077,
          0.7297297297297297,
          0.8085106382978723,
          0.9259259259259259,
          0.631578947368421,
          0.8936170212765957,
          0.803921568627451,
          0.8653846153846154,
          0.9032258064516129,
          0.875,
          0.9038461538461539,
          0.6875,
          0.8536585365853658,
          0.7741935483870968,
          0.8297872340425532,
          0.7407407407407407,
          0.8529411764705882,
          0.7586206896551724,
          0.9230769230769231,
          0.875,
          0.8857142857142857,
          0.8,
          0.7547169811320755,
          0.975609756097561,
          0.6944444444444444
         ],
         "yaxis": "y3"
        },
        {
         "line": {
          "color": "green"
         },
         "mode": "lines+markers",
         "name": "Recall",
         "showlegend": false,
         "type": "scatter",
         "x": [
          0,
          1,
          2,
          3,
          4,
          5,
          6,
          7,
          8,
          9,
          10,
          11,
          12,
          13,
          14,
          15,
          16,
          17,
          18,
          19,
          20,
          21,
          22,
          23,
          24,
          25,
          26,
          27,
          28,
          29,
          30,
          31,
          32,
          33,
          34,
          35,
          36,
          37,
          38,
          39,
          40,
          41,
          42,
          43,
          44,
          45,
          46,
          47,
          48,
          49,
          50,
          51,
          52,
          53,
          54,
          55,
          56,
          57,
          58,
          59,
          60,
          61,
          62,
          63,
          64,
          65,
          66,
          67,
          68,
          69,
          70,
          71,
          72,
          73,
          74,
          75,
          76,
          77,
          78,
          79,
          80,
          81,
          82,
          83,
          84,
          85,
          86,
          87,
          88,
          89,
          90,
          91,
          92,
          93,
          94,
          95,
          96,
          97,
          98,
          99
         ],
         "xaxis": "x3",
         "y": [
          0.07654320987654321,
          0.09944751381215469,
          0.12790697674418605,
          0.06329113924050633,
          0.06343283582089553,
          0.1907514450867052,
          0.13059701492537312,
          0.11705685618729098,
          0.13063063063063063,
          0.1232876712328767,
          0.15555555555555556,
          0.059027777777777776,
          0.06810035842293907,
          0.0744920993227991,
          0.07942238267148015,
          0.15702479338842976,
          0.14423076923076922,
          0.1286549707602339,
          0.171875,
          0.06589785831960461,
          0.13095238095238096,
          0.10472972972972973,
          0.2079207920792079,
          0.12844036697247707,
          0.07954545454545454,
          0.11428571428571428,
          0.11068702290076336,
          0.14218009478672985,
          0.07219251336898395,
          0.0725,
          0.1598639455782313,
          0.10408921933085502,
          0.19004524886877827,
          0.13793103448275862,
          0.12626262626262627,
          0.1094224924012158,
          0.0982367758186398,
          0.22580645161290322,
          0.14583333333333334,
          0.10762331838565023,
          0.039603960396039604,
          0.14027149321266968,
          0.125,
          0.09408602150537634,
          0.09666666666666666,
          0.11971830985915492,
          0.10646387832699619,
          0.1394422310756972,
          0.0506108202443281,
          0.1716171617161716,
          0.10600706713780919,
          0.07112068965517242,
          0.10043668122270742,
          0.09012875536480687,
          0.11046511627906977,
          0.14754098360655737,
          0.07901234567901234,
          0.14893617021276595,
          0.1079136690647482,
          0.14893617021276595,
          0.1520912547528517,
          0.10932475884244373,
          0.1411764705882353,
          0.08208955223880597,
          0.10650887573964497,
          0.10714285714285714,
          0.10431654676258993,
          0.10270270270270271,
          0.05675146771037182,
          0.17318435754189945,
          0.16666666666666666,
          0.14909090909090908,
          0.12083333333333333,
          0.14634146341463414,
          0.13170731707317074,
          0.15849056603773584,
          0.06474820143884892,
          0.14960629921259844,
          0.10460251046025104,
          0.13043478260869565,
          0.17073170731707318,
          0.2,
          0.09054325955734406,
          0.14285714285714285,
          0.16203703703703703,
          0.24867724867724866,
          0.07857142857142857,
          0.1794871794871795,
          0.06666666666666667,
          0.10626702997275204,
          0.06535947712418301,
          0.08357348703170028,
          0.0718954248366013,
          0.18947368421052632,
          0.1377952755905512,
          0.22962962962962963,
          0.07565011820330969,
          0.19047619047619047,
          0.09925558312655088,
          0.07861635220125786
         ],
         "yaxis": "y3"
        },
        {
         "line": {
          "color": "red"
         },
         "mode": "lines+markers",
         "name": "F1",
         "showlegend": false,
         "type": "scatter",
         "x": [
          0,
          1,
          2,
          3,
          4,
          5,
          6,
          7,
          8,
          9,
          10,
          11,
          12,
          13,
          14,
          15,
          16,
          17,
          18,
          19,
          20,
          21,
          22,
          23,
          24,
          25,
          26,
          27,
          28,
          29,
          30,
          31,
          32,
          33,
          34,
          35,
          36,
          37,
          38,
          39,
          40,
          41,
          42,
          43,
          44,
          45,
          46,
          47,
          48,
          49,
          50,
          51,
          52,
          53,
          54,
          55,
          56,
          57,
          58,
          59,
          60,
          61,
          62,
          63,
          64,
          65,
          66,
          67,
          68,
          69,
          70,
          71,
          72,
          73,
          74,
          75,
          76,
          77,
          78,
          79,
          80,
          81,
          82,
          83,
          84,
          85,
          86,
          87,
          88,
          89,
          90,
          91,
          92,
          93,
          94,
          95,
          96,
          97,
          98,
          99
         ],
         "xaxis": "x3",
         "y": [
          0.13963963803719262,
          0.17560975403022014,
          0.2244897937692628,
          0.11848341112452551,
          0.11604095407051919,
          0.3142857113827665,
          0.22580644927034338,
          0.20527859021542644,
          0.22656249769653322,
          0.21774193341863946,
          0.26540284109521356,
          0.10967741803621228,
          0.1241830049269512,
          0.13807531245032478,
          0.1464226275100014,
          0.26573426313071546,
          0.24999999768888892,
          0.22448979369273223,
          0.2875816966124141,
          0.12251148414212647,
          0.2291666644791667,
          0.18452380742630387,
          0.3387096743977628,
          0.22399999776768,
          0.14583333180555555,
          0.20317460119929456,
          0.1933333311208889,
          0.24193548133227108,
          0.1317073154712671,
          0.1336405515513177,
          0.2716762980239902,
          0.18241042128362106,
          0.3065693399453887,
          0.23738872163530542,
          0.2212389358822148,
          0.19512194928650645,
          0.17647058640640037,
          0.3499999965125001,
          0.24778760806327826,
          0.186770425719693,
          0.07430340441104584,
          0.2431372525908497,
          0.2129629604389575,
          0.170316299985437,
          0.17109144339154725,
          0.21118012214189272,
          0.18729096778156845,
          0.24054982580744208,
          0.09492634907899639,
          0.2849315040291237,
          0.18633540159773931,
          0.13069306781499856,
          0.18181818010092335,
          0.16030534154274229,
          0.19387754887130365,
          0.2535211243404087,
          0.14545454399018595,
          0.2488888861408395,
          0.1892744457916787,
          0.24852070729456252,
          0.2605863167626182,
          0.19318181612361182,
          0.24242423999591878,
          0.1481481463859697,
          0.18848167335434887,
          0.18591549066042456,
          0.18238993490763816,
          0.18446601758648323,
          0.1056466289482782,
          0.2792792761557504,
          0.2798353882517909,
          0.2562499975830078,
          0.20938627927380785,
          0.25087107769039324,
          0.22881355704000292,
          0.2649842243867488,
          0.11894272978041492,
          0.25249169171686847,
          0.18796992298801518,
          0.21621621337878422,
          0.2866894171016553,
          0.3203124968093873,
          0.16393442451458357,
          0.2466960328840071,
          0.2734374973632813,
          0.3900414903916944,
          0.14102563918474692,
          0.29661016662058326,
          0.12276214687763687,
          0.18840579508868352,
          0.12012011862998136,
          0.15223096950310347,
          0.13134328200062376,
          0.31441047752331197,
          0.23809523574436584,
          0.364705879083045,
          0.13822894010607878,
          0.30418250628749877,
          0.18018017850387552,
          0.14124293602604618
         ],
         "yaxis": "y3"
        },
        {
         "line": {
          "color": "blue"
         },
         "mode": "lines+markers",
         "name": "Precision",
         "showlegend": false,
         "type": "scatter",
         "x": [
          0,
          1,
          2,
          3,
          4,
          5,
          6,
          7,
          8,
          9,
          10,
          11,
          12,
          13,
          14,
          15,
          16,
          17,
          18,
          19,
          20,
          21,
          22,
          23,
          24,
          25,
          26,
          27,
          28,
          29,
          30,
          31,
          32,
          33,
          34,
          35,
          36,
          37,
          38,
          39,
          40,
          41,
          42,
          43,
          44,
          45,
          46,
          47,
          48,
          49,
          50,
          51,
          52,
          53,
          54,
          55,
          56,
          57,
          58,
          59,
          60,
          61,
          62,
          63,
          64,
          65,
          66,
          67,
          68,
          69,
          70,
          71,
          72,
          73,
          74,
          75,
          76,
          77,
          78,
          79,
          80,
          81,
          82,
          83,
          84,
          85,
          86,
          87,
          88,
          89,
          90,
          91,
          92,
          93,
          94,
          95,
          96,
          97,
          98,
          99
         ],
         "xaxis": "x4",
         "y": [
          0.4098360655737705,
          0.33695652173913043,
          0.0851063829787234,
          0.6761904761904762,
          0.6111111111111112,
          0.9459459459459459,
          0.17307692307692307,
          0.23076923076923078,
          0.48214285714285715,
          0.5714285714285714,
          0.125,
          0.2638888888888889,
          0.5056179775280899,
          0.35454545454545455,
          0.19289340101522842,
          0.3150684931506849,
          0.4888888888888889,
          0.5217391304347826,
          0.2714285714285714,
          0.26905829596412556,
          0.26373626373626374,
          0.2988505747126437,
          0.44,
          0.26495726495726496,
          0.2831858407079646,
          0.7252747252747253,
          0.21052631578947367,
          0.4222222222222222,
          0.5426356589147286,
          0.04081632653061224,
          0.3368421052631579,
          0.43023255813953487,
          0.5178571428571429,
          0.5641025641025641,
          0.9545454545454546,
          0.02857142857142857,
          0.3795620437956204,
          0.5106382978723404,
          0.9565217391304348,
          0.6410256410256411,
          0.46236559139784944,
          0.3176470588235294,
          0.23076923076923078,
          0.24468085106382978,
          0.00980392156862745,
          0.47474747474747475,
          0.30666666666666664,
          0.625,
          0.23113207547169812,
          0.5510204081632653,
          0.7142857142857143,
          0.30434782608695654,
          0.46938775510204084,
          0.24050632911392406,
          0.10218978102189781,
          0.25,
          0.33783783783783783,
          0.5294117647058824,
          0.5783132530120482,
          0.5526315789473685,
          0.8775510204081632,
          0.40298507462686567,
          0.2903225806451613,
          0.5858585858585859,
          0.3925233644859813,
          0.52,
          0.3218390804597701,
          0.7524752475247525,
          0.3333333333333333,
          0.24444444444444444,
          0.47368421052631576,
          0.29850746268656714,
          0.5,
          0.20512820512820512,
          0.15555555555555556,
          0.2962962962962963,
          0.45323741007194246,
          0,
          0.5,
          0.40350877192982454,
          0.25,
          0.3469387755102041,
          0.33098591549295775,
          0.5238095238095238,
          0.4857142857142857,
          0.9534883720930233,
          0.4803921568627451,
          0.9574468085106383,
          0.19047619047619047,
          0.27184466019417475,
          0.2,
          0.05263157894736842,
          0.25396825396825395,
          0.9534883720930233,
          0.3333333333333333,
          0.4186046511627907,
          0.3161290322580645,
          0.7115384615384616,
          0.5661764705882353,
          0.26595744680851063
         ],
         "yaxis": "y4"
        },
        {
         "line": {
          "color": "green"
         },
         "mode": "lines+markers",
         "name": "Recall",
         "showlegend": false,
         "type": "scatter",
         "x": [
          0,
          1,
          2,
          3,
          4,
          5,
          6,
          7,
          8,
          9,
          10,
          11,
          12,
          13,
          14,
          15,
          16,
          17,
          18,
          19,
          20,
          21,
          22,
          23,
          24,
          25,
          26,
          27,
          28,
          29,
          30,
          31,
          32,
          33,
          34,
          35,
          36,
          37,
          38,
          39,
          40,
          41,
          42,
          43,
          44,
          45,
          46,
          47,
          48,
          49,
          50,
          51,
          52,
          53,
          54,
          55,
          56,
          57,
          58,
          59,
          60,
          61,
          62,
          63,
          64,
          65,
          66,
          67,
          68,
          69,
          70,
          71,
          72,
          73,
          74,
          75,
          76,
          77,
          78,
          79,
          80,
          81,
          82,
          83,
          84,
          85,
          86,
          87,
          88,
          89,
          90,
          91,
          92,
          93,
          94,
          95,
          96,
          97,
          98,
          99
         ],
         "xaxis": "x4",
         "y": [
          0.6024096385542169,
          0.96875,
          0.08163265306122448,
          0.7319587628865979,
          0.6470588235294118,
          0.49295774647887325,
          0.36,
          0.23076923076923078,
          0.2755102040816326,
          0.35555555555555557,
          0.05102040816326531,
          0.2087912087912088,
          0.5487804878048781,
          0.3979591836734694,
          0.4175824175824176,
          0.9583333333333334,
          0.22916666666666666,
          0.25263157894736843,
          0.95,
          0.6741573033707865,
          0.96,
          0.9629629629629629,
          0.25882352941176473,
          0.31313131313131315,
          0.34408602150537637,
          0.717391304347826,
          0.21739130434782608,
          0.23170731707317074,
          0.7608695652173914,
          0.047058823529411764,
          0.35555555555555557,
          0.3854166666666667,
          0.31521739130434784,
          0.6666666666666666,
          0.5,
          0.1111111111111111,
          0.65,
          0.24489795918367346,
          0.55,
          0.25773195876288657,
          0.5512820512820513,
          0.2967032967032967,
          0.1267605633802817,
          0.25,
          0.038461538461538464,
          0.47959183673469385,
          0.26436781609195403,
          0.30927835051546393,
          0.5104166666666666,
          0.5806451612903226,
          0.6329113924050633,
          0.5384615384615384,
          0.22772277227722773,
          0.22093023255813954,
          0.16091954022988506,
          0.23655913978494625,
          0.5434782608695652,
          0.29347826086956524,
          0.5052631578947369,
          0.22340425531914893,
          0.43434343434343436,
          0.5242718446601942,
          0.2755102040816326,
          0.6170212765957447,
          0.46153846153846156,
          0.41935483870967744,
          0.29473684210526313,
          0.7835051546391752,
          0.5795454545454546,
          0.1506849315068493,
          0.26865671641791045,
          0.9523809523809523,
          0.2127659574468085,
          0.19047619047619047,
          0.07216494845360824,
          0.96,
          0.7777777777777778,
          0,
          0.4939759036144578,
          0.9583333333333334,
          0.9545454545454546,
          0.19540229885057472,
          0.5108695652173914,
          0.2619047619047619,
          0.21518987341772153,
          0.5,
          0.6125,
          0.569620253164557,
          0.16494845360824742,
          0.2857142857142857,
          0.225,
          0.06315789473684211,
          0.9696969696969697,
          0.5394736842105263,
          0.3409090909090909,
          0.9473684210526315,
          0.48514851485148514,
          0.38144329896907214,
          0.7857142857142857,
          0.29411764705882354
         ],
         "yaxis": "y4"
        },
        {
         "line": {
          "color": "red"
         },
         "mode": "lines+markers",
         "name": "F1",
         "showlegend": false,
         "type": "scatter",
         "x": [
          0,
          1,
          2,
          3,
          4,
          5,
          6,
          7,
          8,
          9,
          10,
          11,
          12,
          13,
          14,
          15,
          16,
          17,
          18,
          19,
          20,
          21,
          22,
          23,
          24,
          25,
          26,
          27,
          28,
          29,
          30,
          31,
          32,
          33,
          34,
          35,
          36,
          37,
          38,
          39,
          40,
          41,
          42,
          43,
          44,
          45,
          46,
          47,
          48,
          49,
          50,
          51,
          52,
          53,
          54,
          55,
          56,
          57,
          58,
          59,
          60,
          61,
          62,
          63,
          64,
          65,
          66,
          67,
          68,
          69,
          70,
          71,
          72,
          73,
          74,
          75,
          76,
          77,
          78,
          79,
          80,
          81,
          82,
          83,
          84,
          85,
          86,
          87,
          88,
          89,
          90,
          91,
          92,
          93,
          94,
          95,
          96,
          97,
          98,
          99
         ],
         "xaxis": "x4",
         "y": [
          0.48780487322974425,
          0.4999999961706556,
          0.08333332833550378,
          0.7029702920375455,
          0.6285714235755103,
          0.6481481436436901,
          0.2337662293810087,
          0.2307692257692309,
          0.3506493460212515,
          0.43835615965471947,
          0.07246376399916007,
          0.23312882942376467,
          0.5263157844820628,
          0.37499999501664205,
          0.2638888845662134,
          0.4742268003996174,
          0.31205673324279465,
          0.3404255275187365,
          0.42222221876543214,
          0.3846153805376808,
          0.41379310006688474,
          0.4561403472622346,
          0.3259259212620028,
          0.28703703207175935,
          0.3106796066976153,
          0.7213114704099853,
          0.21390373831679502,
          0.29921259384958776,
          0.6334841580360764,
          0.043715842019768254,
          0.3459459409495983,
          0.40659340160850144,
          0.3918918871877284,
          0.6111111061458334,
          0.6562499954882813,
          0.04545454220041345,
          0.479262668156045,
          0.3310344783771701,
          0.6984126937767701,
          0.36764705473291526,
          0.5029239716466606,
          0.3068181768239928,
          0.16363635905950427,
          0.24731182295756746,
          0.015624996762695983,
          0.4771573554062203,
          0.2839506123113855,
          0.4137930990192628,
          0.31818181389104405,
          0.565445021181437,
          0.671140934615558,
          0.38888888427469137,
          0.3066666622675556,
          0.2303030253120295,
          0.12499999524912327,
          0.24309391765574934,
          0.4166666619388889,
          0.3776223730334002,
          0.5393258377193537,
          0.31818181408172636,
          0.5810810766517531,
          0.455696197617191,
          0.28272250809243177,
          0.6010362644334077,
          0.424242419275074,
          0.46428570934311225,
          0.3076923027019684,
          0.7676767626788084,
          0.42323650988653777,
          0.1864406732476301,
          0.34285713823854874,
          0.4545454509116736,
          0.2985074584985521,
          0.19753085920438967,
          0.09859154496627673,
          0.45283018507475975,
          0.5727272680747935,
          0,
          0.49696969196988067,
          0.5679012303978053,
          0.3962264118049128,
          0.24999999539035472,
          0.40170939693768726,
          0.34920634476190476,
          0.2982456097799323,
          0.6559999954867202,
          0.5384615335345974,
          0.7142857096082138,
          0.17679557513629027,
          0.27860696017722336,
          0.2117647008996541,
          0.05741626298390647,
          0.40251571998101343,
          0.6890756256366075,
          0.3370786466860245,
          0.5806451570395422,
          0.3828124952224731,
          0.4966442907580739,
          0.6581196532515158,
          0.27932960395118756
         ],
         "yaxis": "y4"
        },
        {
         "line": {
          "color": "blue"
         },
         "mode": "lines+markers",
         "name": "Precision",
         "showlegend": false,
         "type": "scatter",
         "x": [
          0,
          1,
          2,
          3,
          4,
          5,
          6,
          7,
          8,
          9,
          10,
          11,
          12,
          13,
          14,
          15,
          16,
          17,
          18,
          19,
          20,
          21,
          22,
          23,
          24,
          25,
          26,
          27,
          28,
          29,
          30,
          31,
          32,
          33,
          34,
          35,
          36,
          37,
          38,
          39,
          40,
          41,
          42,
          43,
          44,
          45,
          46,
          47,
          48,
          49,
          50,
          51,
          52,
          53,
          54,
          55,
          56,
          57,
          58,
          59,
          60,
          61,
          62,
          63,
          64,
          65,
          66,
          67,
          68,
          69,
          70,
          71,
          72,
          73,
          74,
          75,
          76,
          77,
          78,
          79,
          80,
          81,
          82,
          83,
          84,
          85,
          86,
          87,
          88,
          89,
          90,
          91,
          92,
          93,
          94,
          95,
          96,
          97,
          98,
          99
         ],
         "xaxis": "x5",
         "y": [
          0.7948717948717948,
          0.020833333333333332,
          0.05555555555555555,
          0.8518518518518519,
          0.44,
          0.35135135135135137,
          0.3333333333333333,
          0.5952380952380952,
          0.4117647058823529,
          0.9310344827586207,
          0.03225806451612903,
          0.7727272727272727,
          0.7037037037037037,
          0.9428571428571428,
          0.02127659574468085,
          0,
          0.9375,
          0.04,
          0.06,
          0.06521739130434782,
          0,
          0,
          0.6521739130434783,
          0.8541666666666666,
          0.025,
          0.6285714285714286,
          0,
          0.6216216216216216,
          0.05555555555555555,
          0.5294117647058824,
          0,
          0.13157894736842105,
          0.7735849056603774,
          0.5531914893617021,
          0.8928571428571429,
          0.375,
          0.7111111111111111,
          0.13333333333333333,
          0.5588235294117647,
          0.11764705882352941,
          0.05,
          0.029411764705882353,
          0.375,
          0.23076923076923078,
          0,
          0.05263157894736842,
          0.2222222222222222,
          0.875,
          0.5789473684210527,
          0.5,
          0.6410256410256411,
          0.4634146341463415,
          0.9166666666666666,
          0.4827586206896552,
          0.7916666666666666,
          0.075,
          0.02857142857142857,
          0.7567567567567568,
          0.05128205128205128,
          0,
          0.8863636363636364,
          0,
          0.38095238095238093,
          0.20689655172413793,
          0.18181818181818182,
          0.3617021276595745,
          0.475,
          0.38095238095238093,
          0.18421052631578946,
          0.5116279069767442,
          0.02564102564102564,
          0,
          0.08108108108108109,
          0.24390243902439024,
          0.03225806451612903,
          0.28846153846153844,
          0.16216216216216217,
          0.2127659574468085,
          0.9259259259259259,
          0.34210526315789475,
          0.02127659574468085,
          0.39215686274509803,
          0.8653846153846154,
          0.06451612903225806,
          0.525,
          0.9038461538461539,
          0.65625,
          0.6585365853658537,
          0.03225806451612903,
          0.02127659574468085,
          0,
          0.5,
          0.3448275862068966,
          0.23076923076923078,
          0,
          0.2,
          0.75,
          0.7169811320754716,
          0.7804878048780488,
          0.3611111111111111
         ],
         "yaxis": "y5"
        },
        {
         "line": {
          "color": "green"
         },
         "mode": "lines+markers",
         "name": "Recall",
         "showlegend": false,
         "type": "scatter",
         "x": [
          0,
          1,
          2,
          3,
          4,
          5,
          6,
          7,
          8,
          9,
          10,
          11,
          12,
          13,
          14,
          15,
          16,
          17,
          18,
          19,
          20,
          21,
          22,
          23,
          24,
          25,
          26,
          27,
          28,
          29,
          30,
          31,
          32,
          33,
          34,
          35,
          36,
          37,
          38,
          39,
          40,
          41,
          42,
          43,
          44,
          45,
          46,
          47,
          48,
          49,
          50,
          51,
          52,
          53,
          54,
          55,
          56,
          57,
          58,
          59,
          60,
          61,
          62,
          63,
          64,
          65,
          66,
          67,
          68,
          69,
          70,
          71,
          72,
          73,
          74,
          75,
          76,
          77,
          78,
          79,
          80,
          81,
          82,
          83,
          84,
          85,
          86,
          87,
          88,
          89,
          90,
          91,
          92,
          93,
          94,
          95,
          96,
          97,
          98,
          99
         ],
         "xaxis": "x5",
         "y": [
          0.37349397590361444,
          0.03125,
          0.02040816326530612,
          0.23711340206185566,
          0.12941176470588237,
          0.18309859154929578,
          0.28,
          0.32051282051282054,
          0.14285714285714285,
          0.3,
          0.01020408163265306,
          0.18681318681318682,
          0.23170731707317074,
          0.336734693877551,
          0.01098901098901099,
          0,
          0.3125,
          0.010526315789473684,
          0.15,
          0.033707865168539325,
          0,
          0,
          0.35294117647058826,
          0.41414141414141414,
          0.010752688172043012,
          0.2391304347826087,
          0,
          0.2804878048780488,
          0.021739130434782608,
          0.21176470588235294,
          0,
          0.052083333333333336,
          0.44565217391304346,
          0.26262626262626265,
          0.2976190476190476,
          0.5555555555555556,
          0.4,
          0.061224489795918366,
          0.2375,
          0.041237113402061855,
          0.01282051282051282,
          0.01098901098901099,
          0.16901408450704225,
          0.09782608695652174,
          0,
          0.02040816326530612,
          0.09195402298850575,
          0.36082474226804123,
          0.22916666666666666,
          0.3333333333333333,
          0.31645569620253167,
          0.2087912087912088,
          0.21782178217821782,
          0.16279069767441862,
          0.4367816091954023,
          0.03225806451612903,
          0.010869565217391304,
          0.30434782608695654,
          0.021052631578947368,
          0,
          0.3939393939393939,
          0,
          0.16326530612244897,
          0.06382978723404255,
          0.08791208791208792,
          0.1827956989247312,
          0.2,
          0.16494845360824742,
          0.07954545454545454,
          0.3013698630136986,
          0.014925373134328358,
          0,
          0.031914893617021274,
          0.11904761904761904,
          0.010309278350515464,
          0.6,
          0.07407407407407407,
          0.43478260869565216,
          0.30120481927710846,
          0.5416666666666666,
          0.045454545454545456,
          0.22988505747126436,
          0.4891304347826087,
          0.023809523809523808,
          0.26582278481012656,
          0.573170731707317,
          0.2625,
          0.34177215189873417,
          0.010309278350515464,
          0.01020408163265306,
          0,
          0.17894736842105263,
          0.30303030303030304,
          0.11842105263157894,
          0,
          0.3684210526315789,
          0.297029702970297,
          0.3917525773195876,
          0.32653061224489793,
          0.15294117647058825
         ],
         "yaxis": "y5"
        },
        {
         "line": {
          "color": "red"
         },
         "mode": "lines+markers",
         "name": "F1",
         "showlegend": false,
         "type": "scatter",
         "x": [
          0,
          1,
          2,
          3,
          4,
          5,
          6,
          7,
          8,
          9,
          10,
          11,
          12,
          13,
          14,
          15,
          16,
          17,
          18,
          19,
          20,
          21,
          22,
          23,
          24,
          25,
          26,
          27,
          28,
          29,
          30,
          31,
          32,
          33,
          34,
          35,
          36,
          37,
          38,
          39,
          40,
          41,
          42,
          43,
          44,
          45,
          46,
          47,
          48,
          49,
          50,
          51,
          52,
          53,
          54,
          55,
          56,
          57,
          58,
          59,
          60,
          61,
          62,
          63,
          64,
          65,
          66,
          67,
          68,
          69,
          70,
          71,
          72,
          73,
          74,
          75,
          76,
          77,
          78,
          79,
          80,
          81,
          82,
          83,
          84,
          85,
          86,
          87,
          88,
          89,
          90,
          91,
          92,
          93,
          94,
          95,
          96,
          97,
          98,
          99
         ],
         "xaxis": "x5",
         "y": [
          0.5081967169618382,
          0.024999995200000923,
          0.029850742339051533,
          0.3709677385288762,
          0.19999999648760333,
          0.24074073623628267,
          0.3043478211247638,
          0.4166666621166667,
          0.2121212082966024,
          0.45378150891886176,
          0.015503872317770225,
          0.30088495261649306,
          0.34862384948405023,
          0.49624059762564304,
          0.014492749131486375,
          0,
          0.4687499962500001,
          0.01666666336805621,
          0.08571428163265325,
          0.04444443995171513,
          0,
          0,
          0.4580152626187286,
          0.5578231248535332,
          0.015037589778959854,
          0.3464566889205779,
          0,
          0.38655461756373144,
          0.031249995957031776,
          0.3025210043217287,
          0,
          0.07462686160837625,
          0.5655172367410226,
          0.35616437919590926,
          0.44642856767857153,
          0.4477611892180887,
          0.511999995392,
          0.08391607960291479,
          0.33333332914742997,
          0.06106869844647773,
          0.020408160016660244,
          0.01599999603968098,
          0.2330097044547083,
          0.1374045759710974,
          0,
          0.029411760679066295,
          0.13008129667261564,
          0.510948900975012,
          0.32835820489195816,
          0.39999999520000007,
          0.4237288091338696,
          0.28787878359618924,
          0.35199999689728,
          0.24347825709792068,
          0.5629629583802469,
          0.04511277774888388,
          0.015748027503256014,
          0.4341085230406827,
          0.029850742141903003,
          0,
          0.5454545411941905,
          0,
          0.2285714243714286,
          0.09756097200608116,
          0.11851851412455434,
          0.24285713839693887,
          0.2814814773113855,
          0.23021582312095654,
          0.11111110689846324,
          0.37931034016200954,
          0.018867919877181633,
          0,
          0.04580152266418077,
          0.1599999955916801,
          0.015624996329346564,
          0.38961038522516445,
          0.10169491094944,
          0.28571428130204085,
          0.4545454508413224,
          0.4193548339646202,
          0.028985502902752175,
          0.2898550678040328,
          0.6249999953858025,
          0.0347826047576564,
          0.3529411720076266,
          0.7014925325640455,
          0.3749999959183674,
          0.449999995501389,
          0.015624996329346564,
          0.013793099066826598,
          0,
          0.26356588759089,
          0.3225806401821021,
          0.15652173464801528,
          0,
          0.25925925469821676,
          0.42553191082943514,
          0.5066666620968889,
          0.46043165051705404,
          0.214876028877809
         ],
         "yaxis": "y5"
        },
        {
         "line": {
          "color": "blue"
         },
         "mode": "lines+markers",
         "name": "Precision",
         "showlegend": false,
         "type": "scatter",
         "x": [
          0,
          1,
          2,
          3,
          4,
          5,
          6,
          7,
          8,
          9,
          10,
          11,
          12,
          13,
          14,
          15,
          16,
          17,
          18,
          19,
          20,
          21,
          22,
          23,
          24,
          25,
          26,
          27,
          28,
          29,
          30,
          31,
          32,
          33,
          34,
          35,
          36,
          37,
          38,
          39,
          40,
          41,
          42,
          43,
          44,
          45,
          46,
          47,
          48,
          49,
          50,
          51,
          52,
          53,
          54,
          55,
          56,
          57,
          58,
          59,
          60,
          61,
          62,
          63,
          64,
          65,
          66,
          67,
          68,
          69,
          70,
          71,
          72,
          73,
          74,
          75,
          76,
          77,
          78,
          79,
          80,
          81,
          82,
          83,
          84,
          85,
          86,
          87,
          88,
          89,
          90,
          91,
          92,
          93,
          94,
          95,
          96,
          97,
          98,
          99
         ],
         "xaxis": "x6",
         "y": [
          0.3076923076923077,
          0.2708333333333333,
          0.6388888888888888,
          0.9259259259259259,
          0.04,
          0.02702702702702703,
          0.07142857142857142,
          0.2619047619047619,
          0.2647058823529412,
          0,
          0.3870967741935484,
          0.045454545454545456,
          0.4444444444444444,
          0,
          0.3617021276595745,
          0.4090909090909091,
          0.5625,
          0.04,
          0.06,
          0.391304347826087,
          0.375,
          0.65,
          0.34782608695652173,
          0.0625,
          0,
          0.6285714285714286,
          0.4473684210526316,
          0.02702702702702703,
          0.05555555555555555,
          0.35294117647058826,
          0.2692307692307692,
          0.15789473684210525,
          0.3584905660377358,
          0.723404255319149,
          0.35714285714285715,
          0.05,
          0.8222222222222222,
          0.4444444444444444,
          0,
          0.38235294117647056,
          0.25,
          0.7352941176470589,
          0.34375,
          0.6153846153846154,
          0.02564102564102564,
          0.5263157894736842,
          0.027777777777777776,
          0.35,
          0.42105263157894735,
          0.5161290322580645,
          0.358974358974359,
          0.4634146341463415,
          0,
          0.034482758620689655,
          0.1875,
          0.65,
          0.02857142857142857,
          0.3783783783783784,
          0.1794871794871795,
          0,
          0.38636363636363635,
          0.5121951219512195,
          0.14285714285714285,
          0.1724137931034483,
          0.3409090909090909,
          0.2978723404255319,
          0.45,
          0.047619047619047616,
          0.39473684210526316,
          0,
          0.48717948717948717,
          0.2,
          0.08108108108108109,
          0.2926829268292683,
          0.6451612903225806,
          0.28846153846153844,
          0.5675675675675675,
          0.06382978723404255,
          0.48148148148148145,
          0.3684210526315789,
          0.40425531914893614,
          0.35294117647058826,
          0.34615384615384615,
          0.45161290322580644,
          0.525,
          0.40384615384615385,
          0.40625,
          0.6585365853658537,
          0.0967741935483871,
          0.3829787234042553,
          0.037037037037037035,
          0.3235294117647059,
          0.3793103448275862,
          0.23076923076923078,
          0.35,
          0.34285714285714286,
          0.4,
          0.07547169811320754,
          0.975609756097561,
          0.3611111111111111
         ],
         "yaxis": "y6"
        },
        {
         "line": {
          "color": "green"
         },
         "mode": "lines+markers",
         "name": "Recall",
         "showlegend": false,
         "type": "scatter",
         "x": [
          0,
          1,
          2,
          3,
          4,
          5,
          6,
          7,
          8,
          9,
          10,
          11,
          12,
          13,
          14,
          15,
          16,
          17,
          18,
          19,
          20,
          21,
          22,
          23,
          24,
          25,
          26,
          27,
          28,
          29,
          30,
          31,
          32,
          33,
          34,
          35,
          36,
          37,
          38,
          39,
          40,
          41,
          42,
          43,
          44,
          45,
          46,
          47,
          48,
          49,
          50,
          51,
          52,
          53,
          54,
          55,
          56,
          57,
          58,
          59,
          60,
          61,
          62,
          63,
          64,
          65,
          66,
          67,
          68,
          69,
          70,
          71,
          72,
          73,
          74,
          75,
          76,
          77,
          78,
          79,
          80,
          81,
          82,
          83,
          84,
          85,
          86,
          87,
          88,
          89,
          90,
          91,
          92,
          93,
          94,
          95,
          96,
          97,
          98,
          99
         ],
         "xaxis": "x6",
         "y": [
          0.09836065573770492,
          0.14130434782608695,
          0.24468085106382978,
          0.23809523809523808,
          0.011111111111111112,
          0.02702702702702703,
          0.028846153846153848,
          0.14102564102564102,
          0.16071428571428573,
          0,
          0.3,
          0.013888888888888888,
          0.1348314606741573,
          0,
          0.08629441624365482,
          0.2465753424657534,
          0.4,
          0.021739130434782608,
          0.04285714285714286,
          0.08071748878923767,
          0.1978021978021978,
          0.2988505747126437,
          0.32,
          0.02564102564102564,
          0,
          0.24175824175824176,
          0.17894736842105263,
          0.022222222222222223,
          0.015503875968992248,
          0.12244897959183673,
          0.14736842105263157,
          0.06976744186046512,
          0.3392857142857143,
          0.2905982905982906,
          0.22727272727272727,
          0.01904761904761905,
          0.27007299270072993,
          0.425531914893617,
          0,
          0.3333333333333333,
          0.053763440860215055,
          0.29411764705882354,
          0.28205128205128205,
          0.2553191489361702,
          0.00980392156862745,
          0.20202020202020202,
          0.013333333333333334,
          0.2916666666666667,
          0.07547169811320754,
          0.32653061224489793,
          0.2,
          0.11801242236024845,
          0,
          0.012658227848101266,
          0.06569343065693431,
          0.29545454545454547,
          0.006756756756756757,
          0.27450980392156865,
          0.08433734939759036,
          0,
          0.3469387755102041,
          0.15671641791044777,
          0.06451612903225806,
          0.050505050505050504,
          0.14018691588785046,
          0.18666666666666668,
          0.20689655172413793,
          0.019801980198019802,
          0.09803921568627451,
          0,
          0.5,
          0.13432835820895522,
          0.075,
          0.15384615384615385,
          0.4444444444444444,
          0.18518518518518517,
          0.1510791366906475,
          0.0410958904109589,
          0.15853658536585366,
          0.24561403508771928,
          0.2261904761904762,
          0.3673469387755102,
          0.1267605633802817,
          0.3333333333333333,
          0.6,
          0.4883720930232558,
          0.12745098039215685,
          0.574468085106383,
          0.03571428571428571,
          0.17475728155339806,
          0.011111111111111112,
          0.09649122807017543,
          0.0873015873015873,
          0.20930232558139536,
          0.15555555555555556,
          0.27906976744186046,
          0.1032258064516129,
          0.07692307692307693,
          0.29411764705882354,
          0.13829787234042554
         ],
         "yaxis": "y6"
        },
        {
         "line": {
          "color": "red"
         },
         "mode": "lines+markers",
         "name": "F1",
         "showlegend": false,
         "type": "scatter",
         "x": [
          0,
          1,
          2,
          3,
          4,
          5,
          6,
          7,
          8,
          9,
          10,
          11,
          12,
          13,
          14,
          15,
          16,
          17,
          18,
          19,
          20,
          21,
          22,
          23,
          24,
          25,
          26,
          27,
          28,
          29,
          30,
          31,
          32,
          33,
          34,
          35,
          36,
          37,
          38,
          39,
          40,
          41,
          42,
          43,
          44,
          45,
          46,
          47,
          48,
          49,
          50,
          51,
          52,
          53,
          54,
          55,
          56,
          57,
          58,
          59,
          60,
          61,
          62,
          63,
          64,
          65,
          66,
          67,
          68,
          69,
          70,
          71,
          72,
          73,
          74,
          75,
          76,
          77,
          78,
          79,
          80,
          81,
          82,
          83,
          84,
          85,
          86,
          87,
          88,
          89,
          90,
          91,
          92,
          93,
          94,
          95,
          96,
          97,
          98,
          99
         ],
         "xaxis": "x6",
         "y": [
          0.1490683193102119,
          0.18571428120816336,
          0.35384614984142015,
          0.3787878755337466,
          0.01739130094518025,
          0.027027022027027954,
          0.04109588631262942,
          0.18333332878333344,
          0.19999999529876553,
          0,
          0.33802816409442576,
          0.021276592159348722,
          0.20689654815249706,
          0,
          0.13934425918469504,
          0.3076923029994887,
          0.4675324626749874,
          0.028169009521920994,
          0.049999995138889364,
          0.133828993447299,
          0.2589928012338907,
          0.4094488145824292,
          0.3333333283420139,
          0.036363632238017,
          0,
          0.34920634519400356,
          0.2556390936627283,
          0.02439023895003075,
          0.024242420830854476,
          0.1818181779935722,
          0.19047618590402157,
          0.09677418929760684,
          0.34862384821479675,
          0.41463414225237966,
          0.2777777730246914,
          0.02758620290130855,
          0.40659340287103013,
          0.4347826036980152,
          0,
          0.35616437858510047,
          0.08849557230793337,
          0.4201680631452581,
          0.309859149978179,
          0.36090225149414895,
          0.014184393161310921,
          0.2919707989109703,
          0.018018013635257943,
          0.3181818132231406,
          0.12799999742208007,
          0.3999999952531251,
          0.25688072934938144,
          0.18811880864572103,
          0,
          0.018518514590192877,
          0.09729729345449248,
          0.40624999570312503,
          0.01092895865508165,
          0.3181818133083678,
          0.11475409401101873,
          0,
          0.36559139286391495,
          0.2399999964120817,
          0.08888888460246935,
          0.07812499649536149,
          0.1986754925590984,
          0.22950819198468167,
          0.2834645626139253,
          0.027972023823170454,
          0.15706805963981257,
          0,
          0.4935064885073368,
          0.16071428090720677,
          0.07792207292966806,
          0.2016806677522775,
          0.5263157846433518,
          0.22556390501215454,
          0.23863636031572835,
          0.04999999523472268,
          0.23853210636478417,
          0.29473683730526323,
          0.29007633127673216,
          0.3599999950020001,
          0.18556700638537577,
          0.3835616389491462,
          0.5599999950222223,
          0.4421052582027701,
          0.1940298471107151,
          0.6136363586596076,
          0.052173909105482336,
          0.23999999569688893,
          0.017094013543721972,
          0.1486486451095691,
          0.14193548082913637,
          0.21951219013384904,
          0.2153846111242604,
          0.3076923027449047,
          0.16410256084155164,
          0.07619047119093005,
          0.4519773975703023,
          0.19999999599526638
         ],
         "yaxis": "y6"
        }
       ],
       "layout": {
        "annotations": [
         {
          "font": {
           "size": 16
          },
          "showarrow": false,
          "text": "input vs reference_summary",
          "x": 0.225,
          "xanchor": "center",
          "xref": "paper",
          "y": 1,
          "yanchor": "bottom",
          "yref": "paper"
         },
         {
          "font": {
           "size": 16
          },
          "showarrow": false,
          "text": "input vs extractive_summary",
          "x": 0.775,
          "xanchor": "center",
          "xref": "paper",
          "y": 1,
          "yanchor": "bottom",
          "yref": "paper"
         },
         {
          "font": {
           "size": 16
          },
          "showarrow": false,
          "text": "input vs abstract_summary",
          "x": 0.225,
          "xanchor": "center",
          "xref": "paper",
          "y": 0.6111111111111112,
          "yanchor": "bottom",
          "yref": "paper"
         },
         {
          "font": {
           "size": 16
          },
          "showarrow": false,
          "text": "reference_summary vs extractive_summary",
          "x": 0.775,
          "xanchor": "center",
          "xref": "paper",
          "y": 0.6111111111111112,
          "yanchor": "bottom",
          "yref": "paper"
         },
         {
          "font": {
           "size": 16
          },
          "showarrow": false,
          "text": "reference_summary vs abstract_summary",
          "x": 0.225,
          "xanchor": "center",
          "xref": "paper",
          "y": 0.22222222222222224,
          "yanchor": "bottom",
          "yref": "paper"
         },
         {
          "font": {
           "size": 16
          },
          "showarrow": false,
          "text": "extractive_summary vs abstract_summary",
          "x": 0.775,
          "xanchor": "center",
          "xref": "paper",
          "y": 0.22222222222222224,
          "yanchor": "bottom",
          "yref": "paper"
         }
        ],
        "height": 900,
        "template": {
         "data": {
          "bar": [
           {
            "error_x": {
             "color": "#2a3f5f"
            },
            "error_y": {
             "color": "#2a3f5f"
            },
            "marker": {
             "line": {
              "color": "#E5ECF6",
              "width": 0.5
             },
             "pattern": {
              "fillmode": "overlay",
              "size": 10,
              "solidity": 0.2
             }
            },
            "type": "bar"
           }
          ],
          "barpolar": [
           {
            "marker": {
             "line": {
              "color": "#E5ECF6",
              "width": 0.5
             },
             "pattern": {
              "fillmode": "overlay",
              "size": 10,
              "solidity": 0.2
             }
            },
            "type": "barpolar"
           }
          ],
          "carpet": [
           {
            "aaxis": {
             "endlinecolor": "#2a3f5f",
             "gridcolor": "white",
             "linecolor": "white",
             "minorgridcolor": "white",
             "startlinecolor": "#2a3f5f"
            },
            "baxis": {
             "endlinecolor": "#2a3f5f",
             "gridcolor": "white",
             "linecolor": "white",
             "minorgridcolor": "white",
             "startlinecolor": "#2a3f5f"
            },
            "type": "carpet"
           }
          ],
          "choropleth": [
           {
            "colorbar": {
             "outlinewidth": 0,
             "ticks": ""
            },
            "type": "choropleth"
           }
          ],
          "contour": [
           {
            "colorbar": {
             "outlinewidth": 0,
             "ticks": ""
            },
            "colorscale": [
             [
              0,
              "#0d0887"
             ],
             [
              0.1111111111111111,
              "#46039f"
             ],
             [
              0.2222222222222222,
              "#7201a8"
             ],
             [
              0.3333333333333333,
              "#9c179e"
             ],
             [
              0.4444444444444444,
              "#bd3786"
             ],
             [
              0.5555555555555556,
              "#d8576b"
             ],
             [
              0.6666666666666666,
              "#ed7953"
             ],
             [
              0.7777777777777778,
              "#fb9f3a"
             ],
             [
              0.8888888888888888,
              "#fdca26"
             ],
             [
              1,
              "#f0f921"
             ]
            ],
            "type": "contour"
           }
          ],
          "contourcarpet": [
           {
            "colorbar": {
             "outlinewidth": 0,
             "ticks": ""
            },
            "type": "contourcarpet"
           }
          ],
          "heatmap": [
           {
            "colorbar": {
             "outlinewidth": 0,
             "ticks": ""
            },
            "colorscale": [
             [
              0,
              "#0d0887"
             ],
             [
              0.1111111111111111,
              "#46039f"
             ],
             [
              0.2222222222222222,
              "#7201a8"
             ],
             [
              0.3333333333333333,
              "#9c179e"
             ],
             [
              0.4444444444444444,
              "#bd3786"
             ],
             [
              0.5555555555555556,
              "#d8576b"
             ],
             [
              0.6666666666666666,
              "#ed7953"
             ],
             [
              0.7777777777777778,
              "#fb9f3a"
             ],
             [
              0.8888888888888888,
              "#fdca26"
             ],
             [
              1,
              "#f0f921"
             ]
            ],
            "type": "heatmap"
           }
          ],
          "heatmapgl": [
           {
            "colorbar": {
             "outlinewidth": 0,
             "ticks": ""
            },
            "colorscale": [
             [
              0,
              "#0d0887"
             ],
             [
              0.1111111111111111,
              "#46039f"
             ],
             [
              0.2222222222222222,
              "#7201a8"
             ],
             [
              0.3333333333333333,
              "#9c179e"
             ],
             [
              0.4444444444444444,
              "#bd3786"
             ],
             [
              0.5555555555555556,
              "#d8576b"
             ],
             [
              0.6666666666666666,
              "#ed7953"
             ],
             [
              0.7777777777777778,
              "#fb9f3a"
             ],
             [
              0.8888888888888888,
              "#fdca26"
             ],
             [
              1,
              "#f0f921"
             ]
            ],
            "type": "heatmapgl"
           }
          ],
          "histogram": [
           {
            "marker": {
             "pattern": {
              "fillmode": "overlay",
              "size": 10,
              "solidity": 0.2
             }
            },
            "type": "histogram"
           }
          ],
          "histogram2d": [
           {
            "colorbar": {
             "outlinewidth": 0,
             "ticks": ""
            },
            "colorscale": [
             [
              0,
              "#0d0887"
             ],
             [
              0.1111111111111111,
              "#46039f"
             ],
             [
              0.2222222222222222,
              "#7201a8"
             ],
             [
              0.3333333333333333,
              "#9c179e"
             ],
             [
              0.4444444444444444,
              "#bd3786"
             ],
             [
              0.5555555555555556,
              "#d8576b"
             ],
             [
              0.6666666666666666,
              "#ed7953"
             ],
             [
              0.7777777777777778,
              "#fb9f3a"
             ],
             [
              0.8888888888888888,
              "#fdca26"
             ],
             [
              1,
              "#f0f921"
             ]
            ],
            "type": "histogram2d"
           }
          ],
          "histogram2dcontour": [
           {
            "colorbar": {
             "outlinewidth": 0,
             "ticks": ""
            },
            "colorscale": [
             [
              0,
              "#0d0887"
             ],
             [
              0.1111111111111111,
              "#46039f"
             ],
             [
              0.2222222222222222,
              "#7201a8"
             ],
             [
              0.3333333333333333,
              "#9c179e"
             ],
             [
              0.4444444444444444,
              "#bd3786"
             ],
             [
              0.5555555555555556,
              "#d8576b"
             ],
             [
              0.6666666666666666,
              "#ed7953"
             ],
             [
              0.7777777777777778,
              "#fb9f3a"
             ],
             [
              0.8888888888888888,
              "#fdca26"
             ],
             [
              1,
              "#f0f921"
             ]
            ],
            "type": "histogram2dcontour"
           }
          ],
          "mesh3d": [
           {
            "colorbar": {
             "outlinewidth": 0,
             "ticks": ""
            },
            "type": "mesh3d"
           }
          ],
          "parcoords": [
           {
            "line": {
             "colorbar": {
              "outlinewidth": 0,
              "ticks": ""
             }
            },
            "type": "parcoords"
           }
          ],
          "pie": [
           {
            "automargin": true,
            "type": "pie"
           }
          ],
          "scatter": [
           {
            "fillpattern": {
             "fillmode": "overlay",
             "size": 10,
             "solidity": 0.2
            },
            "type": "scatter"
           }
          ],
          "scatter3d": [
           {
            "line": {
             "colorbar": {
              "outlinewidth": 0,
              "ticks": ""
             }
            },
            "marker": {
             "colorbar": {
              "outlinewidth": 0,
              "ticks": ""
             }
            },
            "type": "scatter3d"
           }
          ],
          "scattercarpet": [
           {
            "marker": {
             "colorbar": {
              "outlinewidth": 0,
              "ticks": ""
             }
            },
            "type": "scattercarpet"
           }
          ],
          "scattergeo": [
           {
            "marker": {
             "colorbar": {
              "outlinewidth": 0,
              "ticks": ""
             }
            },
            "type": "scattergeo"
           }
          ],
          "scattergl": [
           {
            "marker": {
             "colorbar": {
              "outlinewidth": 0,
              "ticks": ""
             }
            },
            "type": "scattergl"
           }
          ],
          "scattermapbox": [
           {
            "marker": {
             "colorbar": {
              "outlinewidth": 0,
              "ticks": ""
             }
            },
            "type": "scattermapbox"
           }
          ],
          "scatterpolar": [
           {
            "marker": {
             "colorbar": {
              "outlinewidth": 0,
              "ticks": ""
             }
            },
            "type": "scatterpolar"
           }
          ],
          "scatterpolargl": [
           {
            "marker": {
             "colorbar": {
              "outlinewidth": 0,
              "ticks": ""
             }
            },
            "type": "scatterpolargl"
           }
          ],
          "scatterternary": [
           {
            "marker": {
             "colorbar": {
              "outlinewidth": 0,
              "ticks": ""
             }
            },
            "type": "scatterternary"
           }
          ],
          "surface": [
           {
            "colorbar": {
             "outlinewidth": 0,
             "ticks": ""
            },
            "colorscale": [
             [
              0,
              "#0d0887"
             ],
             [
              0.1111111111111111,
              "#46039f"
             ],
             [
              0.2222222222222222,
              "#7201a8"
             ],
             [
              0.3333333333333333,
              "#9c179e"
             ],
             [
              0.4444444444444444,
              "#bd3786"
             ],
             [
              0.5555555555555556,
              "#d8576b"
             ],
             [
              0.6666666666666666,
              "#ed7953"
             ],
             [
              0.7777777777777778,
              "#fb9f3a"
             ],
             [
              0.8888888888888888,
              "#fdca26"
             ],
             [
              1,
              "#f0f921"
             ]
            ],
            "type": "surface"
           }
          ],
          "table": [
           {
            "cells": {
             "fill": {
              "color": "#EBF0F8"
             },
             "line": {
              "color": "white"
             }
            },
            "header": {
             "fill": {
              "color": "#C8D4E3"
             },
             "line": {
              "color": "white"
             }
            },
            "type": "table"
           }
          ]
         },
         "layout": {
          "annotationdefaults": {
           "arrowcolor": "#2a3f5f",
           "arrowhead": 0,
           "arrowwidth": 1
          },
          "autotypenumbers": "strict",
          "coloraxis": {
           "colorbar": {
            "outlinewidth": 0,
            "ticks": ""
           }
          },
          "colorscale": {
           "diverging": [
            [
             0,
             "#8e0152"
            ],
            [
             0.1,
             "#c51b7d"
            ],
            [
             0.2,
             "#de77ae"
            ],
            [
             0.3,
             "#f1b6da"
            ],
            [
             0.4,
             "#fde0ef"
            ],
            [
             0.5,
             "#f7f7f7"
            ],
            [
             0.6,
             "#e6f5d0"
            ],
            [
             0.7,
             "#b8e186"
            ],
            [
             0.8,
             "#7fbc41"
            ],
            [
             0.9,
             "#4d9221"
            ],
            [
             1,
             "#276419"
            ]
           ],
           "sequential": [
            [
             0,
             "#0d0887"
            ],
            [
             0.1111111111111111,
             "#46039f"
            ],
            [
             0.2222222222222222,
             "#7201a8"
            ],
            [
             0.3333333333333333,
             "#9c179e"
            ],
            [
             0.4444444444444444,
             "#bd3786"
            ],
            [
             0.5555555555555556,
             "#d8576b"
            ],
            [
             0.6666666666666666,
             "#ed7953"
            ],
            [
             0.7777777777777778,
             "#fb9f3a"
            ],
            [
             0.8888888888888888,
             "#fdca26"
            ],
            [
             1,
             "#f0f921"
            ]
           ],
           "sequentialminus": [
            [
             0,
             "#0d0887"
            ],
            [
             0.1111111111111111,
             "#46039f"
            ],
            [
             0.2222222222222222,
             "#7201a8"
            ],
            [
             0.3333333333333333,
             "#9c179e"
            ],
            [
             0.4444444444444444,
             "#bd3786"
            ],
            [
             0.5555555555555556,
             "#d8576b"
            ],
            [
             0.6666666666666666,
             "#ed7953"
            ],
            [
             0.7777777777777778,
             "#fb9f3a"
            ],
            [
             0.8888888888888888,
             "#fdca26"
            ],
            [
             1,
             "#f0f921"
            ]
           ]
          },
          "colorway": [
           "#636efa",
           "#EF553B",
           "#00cc96",
           "#ab63fa",
           "#FFA15A",
           "#19d3f3",
           "#FF6692",
           "#B6E880",
           "#FF97FF",
           "#FECB52"
          ],
          "font": {
           "color": "#2a3f5f"
          },
          "geo": {
           "bgcolor": "white",
           "lakecolor": "white",
           "landcolor": "#E5ECF6",
           "showlakes": true,
           "showland": true,
           "subunitcolor": "white"
          },
          "hoverlabel": {
           "align": "left"
          },
          "hovermode": "closest",
          "mapbox": {
           "style": "light"
          },
          "paper_bgcolor": "white",
          "plot_bgcolor": "#E5ECF6",
          "polar": {
           "angularaxis": {
            "gridcolor": "white",
            "linecolor": "white",
            "ticks": ""
           },
           "bgcolor": "#E5ECF6",
           "radialaxis": {
            "gridcolor": "white",
            "linecolor": "white",
            "ticks": ""
           }
          },
          "scene": {
           "xaxis": {
            "backgroundcolor": "#E5ECF6",
            "gridcolor": "white",
            "gridwidth": 2,
            "linecolor": "white",
            "showbackground": true,
            "ticks": "",
            "zerolinecolor": "white"
           },
           "yaxis": {
            "backgroundcolor": "#E5ECF6",
            "gridcolor": "white",
            "gridwidth": 2,
            "linecolor": "white",
            "showbackground": true,
            "ticks": "",
            "zerolinecolor": "white"
           },
           "zaxis": {
            "backgroundcolor": "#E5ECF6",
            "gridcolor": "white",
            "gridwidth": 2,
            "linecolor": "white",
            "showbackground": true,
            "ticks": "",
            "zerolinecolor": "white"
           }
          },
          "shapedefaults": {
           "line": {
            "color": "#2a3f5f"
           }
          },
          "ternary": {
           "aaxis": {
            "gridcolor": "white",
            "linecolor": "white",
            "ticks": ""
           },
           "baxis": {
            "gridcolor": "white",
            "linecolor": "white",
            "ticks": ""
           },
           "bgcolor": "#E5ECF6",
           "caxis": {
            "gridcolor": "white",
            "linecolor": "white",
            "ticks": ""
           }
          },
          "title": {
           "x": 0.05
          },
          "xaxis": {
           "automargin": true,
           "gridcolor": "white",
           "linecolor": "white",
           "ticks": "",
           "title": {
            "standoff": 15
           },
           "zerolinecolor": "white",
           "zerolinewidth": 2
          },
          "yaxis": {
           "automargin": true,
           "gridcolor": "white",
           "linecolor": "white",
           "ticks": "",
           "title": {
            "standoff": 15
           },
           "zerolinecolor": "white",
           "zerolinewidth": 2
          }
         }
        },
        "title": {
         "text": "ROUGE-2 Scores"
        },
        "xaxis": {
         "anchor": "y",
         "domain": [
          0,
          0.45
         ],
         "title": {
          "text": "Row Index"
         }
        },
        "xaxis2": {
         "anchor": "y2",
         "domain": [
          0.55,
          1
         ]
        },
        "xaxis3": {
         "anchor": "y3",
         "domain": [
          0,
          0.45
         ]
        },
        "xaxis4": {
         "anchor": "y4",
         "domain": [
          0.55,
          1
         ]
        },
        "xaxis5": {
         "anchor": "y5",
         "domain": [
          0,
          0.45
         ]
        },
        "xaxis6": {
         "anchor": "y6",
         "domain": [
          0.55,
          1
         ]
        },
        "yaxis": {
         "anchor": "x",
         "domain": [
          0.7777777777777778,
          1
         ],
         "title": {
          "text": "Score"
         }
        },
        "yaxis2": {
         "anchor": "x2",
         "domain": [
          0.7777777777777778,
          1
         ]
        },
        "yaxis3": {
         "anchor": "x3",
         "domain": [
          0.3888888888888889,
          0.6111111111111112
         ]
        },
        "yaxis4": {
         "anchor": "x4",
         "domain": [
          0.3888888888888889,
          0.6111111111111112
         ]
        },
        "yaxis5": {
         "anchor": "x5",
         "domain": [
          0,
          0.22222222222222224
         ]
        },
        "yaxis6": {
         "anchor": "x6",
         "domain": [
          0,
          0.22222222222222224
         ]
        }
       }
      }
     },
     "metadata": {},
     "output_type": "display_data"
    }
   ],
   "source": [
    "params = {\n",
    "    \"text_columns\": text_columns,\n",
    "    \"metric\": \"rouge-2\",\n",
    "}\n",
    "\n",
    "rouge_scores_plot(df_summarization, params)"
   ]
  },
  {
   "attachments": {},
   "cell_type": "markdown",
   "metadata": {},
   "source": [
    "### Generated Summary Toxicity"
   ]
  },
  {
   "attachments": {},
   "cell_type": "markdown",
   "metadata": {},
   "source": [
    "##### Toxicity Table"
   ]
  },
  {
   "cell_type": "code",
   "execution_count": 32,
   "metadata": {},
   "outputs": [
    {
     "data": {
      "text/html": [
       "<div>\n",
       "<style scoped>\n",
       "    .dataframe tbody tr th:only-of-type {\n",
       "        vertical-align: middle;\n",
       "    }\n",
       "\n",
       "    .dataframe tbody tr th {\n",
       "        vertical-align: top;\n",
       "    }\n",
       "\n",
       "    .dataframe thead th {\n",
       "        text-align: right;\n",
       "    }\n",
       "</style>\n",
       "<table border=\"1\" class=\"dataframe\">\n",
       "  <thead>\n",
       "    <tr style=\"text-align: right;\">\n",
       "      <th></th>\n",
       "      <th>ID</th>\n",
       "      <th>topic</th>\n",
       "      <th>input</th>\n",
       "      <th>reference_summary</th>\n",
       "      <th>extractive_summary</th>\n",
       "      <th>abstract_summary</th>\n",
       "      <th>input Toxicity</th>\n",
       "      <th>reference_summary Toxicity</th>\n",
       "      <th>extractive_summary Toxicity</th>\n",
       "      <th>abstract_summary Toxicity</th>\n",
       "    </tr>\n",
       "  </thead>\n",
       "  <tbody>\n",
       "    <tr>\n",
       "      <th>76</th>\n",
       "      <td>77</td>\n",
       "      <td>business</td>\n",
       "      <td>China had role in Yukos split-up\\n\\nChina lent...</td>\n",
       "      <td>The Kremlin said on Tuesday that the $6bn whic...</td>\n",
       "      <td>China had role in Yukos split-up\\n\\nChina lent...</td>\n",
       "      <td>the deal sees Rosneft receive $6bn in credit f...</td>\n",
       "      <td>0.080863</td>\n",
       "      <td>0.000231</td>\n",
       "      <td>0.000340</td>\n",
       "      <td>0.000907</td>\n",
       "    </tr>\n",
       "    <tr>\n",
       "      <th>98</th>\n",
       "      <td>99</td>\n",
       "      <td>business</td>\n",
       "      <td>GM, Ford cut output as sales fall\\n\\nUS car fi...</td>\n",
       "      <td>US sales at GM sank 12.7% in February compared...</td>\n",
       "      <td>sales across the industry also fell to 1.25 mi...</td>\n",
       "      <td>GM, Ford cut production in the face of falling...</td>\n",
       "      <td>0.013735</td>\n",
       "      <td>0.000174</td>\n",
       "      <td>0.000287</td>\n",
       "      <td>0.000446</td>\n",
       "    </tr>\n",
       "    <tr>\n",
       "      <th>14</th>\n",
       "      <td>15</td>\n",
       "      <td>business</td>\n",
       "      <td>Air passengers win new EU rights\\n\\nAir passen...</td>\n",
       "      <td>The EU decided to increase passenger compensat...</td>\n",
       "      <td>Andy Clarke, ERAA director of air transport, s...</td>\n",
       "      <td>new rules set compensation at between 250 euro...</td>\n",
       "      <td>0.002651</td>\n",
       "      <td>0.000302</td>\n",
       "      <td>0.000252</td>\n",
       "      <td>0.000330</td>\n",
       "    </tr>\n",
       "    <tr>\n",
       "      <th>32</th>\n",
       "      <td>33</td>\n",
       "      <td>business</td>\n",
       "      <td>Rich grab half Colombia poor fund\\n\\nHalf of t...</td>\n",
       "      <td>A total of 24.2 trillion pesos ($10.2bn; £5.5b...</td>\n",
       "      <td>Rich grab half Colombia poor fund\\n\\nHalf of t...</td>\n",
       "      <td>a total of 24.2 trillion pesos ($10.2bn; £5.5b...</td>\n",
       "      <td>0.002110</td>\n",
       "      <td>0.007251</td>\n",
       "      <td>0.003783</td>\n",
       "      <td>0.001118</td>\n",
       "    </tr>\n",
       "    <tr>\n",
       "      <th>88</th>\n",
       "      <td>89</td>\n",
       "      <td>business</td>\n",
       "      <td>Europe blames US over weak dollar\\n\\nEuropean ...</td>\n",
       "      <td>Still, by the standards of diplomacy the Europ...</td>\n",
       "      <td>\"If the imbalances in the US economy are not a...</td>\n",
       "      <td>europe blames the euro over weak dollar . the ...</td>\n",
       "      <td>0.001924</td>\n",
       "      <td>0.000415</td>\n",
       "      <td>0.027028</td>\n",
       "      <td>0.001325</td>\n",
       "    </tr>\n",
       "    <tr>\n",
       "      <th>...</th>\n",
       "      <td>...</td>\n",
       "      <td>...</td>\n",
       "      <td>...</td>\n",
       "      <td>...</td>\n",
       "      <td>...</td>\n",
       "      <td>...</td>\n",
       "      <td>...</td>\n",
       "      <td>...</td>\n",
       "      <td>...</td>\n",
       "      <td>...</td>\n",
       "    </tr>\n",
       "    <tr>\n",
       "      <th>61</th>\n",
       "      <td>62</td>\n",
       "      <td>business</td>\n",
       "      <td>Wembley firm won't make a profit\\n\\nShares in ...</td>\n",
       "      <td>Investors were shaken by the news and the firm...</td>\n",
       "      <td>Increased costs at Wembley and a separate deve...</td>\n",
       "      <td>wembley firm won't make a profit Shares in mul...</td>\n",
       "      <td>0.000180</td>\n",
       "      <td>0.000154</td>\n",
       "      <td>0.000198</td>\n",
       "      <td>0.000377</td>\n",
       "    </tr>\n",
       "    <tr>\n",
       "      <th>94</th>\n",
       "      <td>95</td>\n",
       "      <td>business</td>\n",
       "      <td>Profits slide at India's Dr Reddy\\n\\nProfits a...</td>\n",
       "      <td>Sales in Dr Reddy's generics business fell 8.6...</td>\n",
       "      <td>Patents on a number of well-known products are...</td>\n",
       "      <td>the firm said its profits were 40m rupees ($91...</td>\n",
       "      <td>0.000172</td>\n",
       "      <td>0.000142</td>\n",
       "      <td>0.000169</td>\n",
       "      <td>0.000156</td>\n",
       "    </tr>\n",
       "    <tr>\n",
       "      <th>41</th>\n",
       "      <td>42</td>\n",
       "      <td>business</td>\n",
       "      <td>UK Coal plunges into deeper loss\\n\\nShares in ...</td>\n",
       "      <td>The recent rise in coal prices has failed to b...</td>\n",
       "      <td>UK Coal plunges into deeper loss\\n\\nShares in ...</td>\n",
       "      <td>the mining group reported losses had deepened ...</td>\n",
       "      <td>0.000168</td>\n",
       "      <td>0.000136</td>\n",
       "      <td>0.000143</td>\n",
       "      <td>0.000169</td>\n",
       "    </tr>\n",
       "    <tr>\n",
       "      <th>20</th>\n",
       "      <td>21</td>\n",
       "      <td>business</td>\n",
       "      <td>Rank 'set to sell off film unit'\\n\\nLeisure gr...</td>\n",
       "      <td>Leisure group Rank could unveil plans to demer...</td>\n",
       "      <td>Since Mike Smith's appointment as chief execut...</td>\n",
       "      <td>Rank, formerly famous for the Carry On series,...</td>\n",
       "      <td>0.000167</td>\n",
       "      <td>0.000137</td>\n",
       "      <td>0.000136</td>\n",
       "      <td>0.000134</td>\n",
       "    </tr>\n",
       "    <tr>\n",
       "      <th>49</th>\n",
       "      <td>50</td>\n",
       "      <td>business</td>\n",
       "      <td>Bad weather hits Nestle sales\\n\\nA combination...</td>\n",
       "      <td>Nestle said that the strength of the Swiss fra...</td>\n",
       "      <td>Bad weather hits Nestle sales\\n\\nA combination...</td>\n",
       "      <td>bad weather, rising raw material costs and the...</td>\n",
       "      <td>0.000163</td>\n",
       "      <td>0.000141</td>\n",
       "      <td>0.000145</td>\n",
       "      <td>0.000148</td>\n",
       "    </tr>\n",
       "  </tbody>\n",
       "</table>\n",
       "<p>100 rows × 10 columns</p>\n",
       "</div>"
      ],
      "text/plain": [
       "    ID     topic                                              input  \\\n",
       "76  77  business  China had role in Yukos split-up\\n\\nChina lent...   \n",
       "98  99  business  GM, Ford cut output as sales fall\\n\\nUS car fi...   \n",
       "14  15  business  Air passengers win new EU rights\\n\\nAir passen...   \n",
       "32  33  business  Rich grab half Colombia poor fund\\n\\nHalf of t...   \n",
       "88  89  business  Europe blames US over weak dollar\\n\\nEuropean ...   \n",
       "..  ..       ...                                                ...   \n",
       "61  62  business  Wembley firm won't make a profit\\n\\nShares in ...   \n",
       "94  95  business  Profits slide at India's Dr Reddy\\n\\nProfits a...   \n",
       "41  42  business  UK Coal plunges into deeper loss\\n\\nShares in ...   \n",
       "20  21  business  Rank 'set to sell off film unit'\\n\\nLeisure gr...   \n",
       "49  50  business  Bad weather hits Nestle sales\\n\\nA combination...   \n",
       "\n",
       "                                    reference_summary  \\\n",
       "76  The Kremlin said on Tuesday that the $6bn whic...   \n",
       "98  US sales at GM sank 12.7% in February compared...   \n",
       "14  The EU decided to increase passenger compensat...   \n",
       "32  A total of 24.2 trillion pesos ($10.2bn; £5.5b...   \n",
       "88  Still, by the standards of diplomacy the Europ...   \n",
       "..                                                ...   \n",
       "61  Investors were shaken by the news and the firm...   \n",
       "94  Sales in Dr Reddy's generics business fell 8.6...   \n",
       "41  The recent rise in coal prices has failed to b...   \n",
       "20  Leisure group Rank could unveil plans to demer...   \n",
       "49  Nestle said that the strength of the Swiss fra...   \n",
       "\n",
       "                                   extractive_summary  \\\n",
       "76  China had role in Yukos split-up\\n\\nChina lent...   \n",
       "98  sales across the industry also fell to 1.25 mi...   \n",
       "14  Andy Clarke, ERAA director of air transport, s...   \n",
       "32  Rich grab half Colombia poor fund\\n\\nHalf of t...   \n",
       "88  \"If the imbalances in the US economy are not a...   \n",
       "..                                                ...   \n",
       "61  Increased costs at Wembley and a separate deve...   \n",
       "94  Patents on a number of well-known products are...   \n",
       "41  UK Coal plunges into deeper loss\\n\\nShares in ...   \n",
       "20  Since Mike Smith's appointment as chief execut...   \n",
       "49  Bad weather hits Nestle sales\\n\\nA combination...   \n",
       "\n",
       "                                     abstract_summary  input Toxicity  \\\n",
       "76  the deal sees Rosneft receive $6bn in credit f...        0.080863   \n",
       "98  GM, Ford cut production in the face of falling...        0.013735   \n",
       "14  new rules set compensation at between 250 euro...        0.002651   \n",
       "32  a total of 24.2 trillion pesos ($10.2bn; £5.5b...        0.002110   \n",
       "88  europe blames the euro over weak dollar . the ...        0.001924   \n",
       "..                                                ...             ...   \n",
       "61  wembley firm won't make a profit Shares in mul...        0.000180   \n",
       "94  the firm said its profits were 40m rupees ($91...        0.000172   \n",
       "41  the mining group reported losses had deepened ...        0.000168   \n",
       "20  Rank, formerly famous for the Carry On series,...        0.000167   \n",
       "49  bad weather, rising raw material costs and the...        0.000163   \n",
       "\n",
       "    reference_summary Toxicity  extractive_summary Toxicity  \\\n",
       "76                    0.000231                     0.000340   \n",
       "98                    0.000174                     0.000287   \n",
       "14                    0.000302                     0.000252   \n",
       "32                    0.007251                     0.003783   \n",
       "88                    0.000415                     0.027028   \n",
       "..                         ...                          ...   \n",
       "61                    0.000154                     0.000198   \n",
       "94                    0.000142                     0.000169   \n",
       "41                    0.000136                     0.000143   \n",
       "20                    0.000137                     0.000136   \n",
       "49                    0.000141                     0.000145   \n",
       "\n",
       "    abstract_summary Toxicity  \n",
       "76                   0.000907  \n",
       "98                   0.000446  \n",
       "14                   0.000330  \n",
       "32                   0.001118  \n",
       "88                   0.001325  \n",
       "..                        ...  \n",
       "61                   0.000377  \n",
       "94                   0.000156  \n",
       "41                   0.000169  \n",
       "20                   0.000134  \n",
       "49                   0.000148  \n",
       "\n",
       "[100 rows x 10 columns]"
      ]
     },
     "metadata": {},
     "output_type": "display_data"
    }
   ],
   "source": [
    "params = {\n",
    "    \"hf_toxicity_obj\": toxicity,\n",
    "    \"text_columns\": text_columns,\n",
    "    \"max_toxicity_threshold\": 0.7,\n",
    "    \"min_toxicity_threshold\": 0\n",
    "}\n",
    "\n",
    "df_metric_results = hf_toxicity_table(df_summarization, params)\n",
    "display(df_metric_results)"
   ]
  },
  {
   "attachments": {},
   "cell_type": "markdown",
   "metadata": {},
   "source": [
    "##### Toxicity Histograms"
   ]
  },
  {
   "cell_type": "code",
   "execution_count": 33,
   "metadata": {},
   "outputs": [
    {
     "data": {
      "application/vnd.plotly.v1+json": {
       "config": {
        "plotlyServerURL": "https://plot.ly"
       },
       "data": [
        {
         "showlegend": false,
         "type": "histogram",
         "x": [
          0.0002674142306204885,
          0.0008097320096567273,
          0.0011717650340870023,
          0.000684693455696106,
          0.00023256706481333822,
          0.0002174090186599642,
          0.0004678963450714946,
          0.0011912357294932008,
          0.00019581001834012568,
          0.00031860460876487195,
          0.0002591389638837427,
          0.0002924387517850846,
          0.0002707986277528107,
          0.00023698637960478663,
          0.0026508828159421682,
          0.00044913709280081093,
          0.00024879659758880734,
          0.00039804348489269614,
          0.0011702824849635363,
          0.0006316870567388833,
          0.000167453836183995,
          0.00021685109823010862,
          0.00025306708994321525,
          0.00031141823274083436,
          0.001212035771459341,
          0.00019072895520366728,
          0.000220731963054277,
          0.0002343839587410912,
          0.0004828895616810769,
          0.0003845739411190152,
          0.0003459563013166189,
          0.0003767188754864037,
          0.002110451925545931,
          0.0002480581169947982,
          0.00018649175763130188,
          0.00031627193675376475,
          0.0016209224704653025,
          0.00029925236594863236,
          0.00032577262027189136,
          0.0003219395293854177,
          0.00057619420113042,
          0.00016848172526806593,
          0.0004643143911380321,
          0.00036972336238250136,
          0.0003190201532561332,
          0.00023460443480871618,
          0.00021020551503170282,
          0.00022166711278259754,
          0.00024520812439732254,
          0.00016298067930620164,
          0.00024317002680618316,
          0.0002447633887641132,
          0.00018984427151735872,
          0.0001891839929157868,
          0.0008673104457557201,
          0.0002260282199131325,
          0.00033851826447062194,
          0.0001966223499039188,
          0.0008516467059962451,
          0.000901634048204869,
          0.00017992999346461147,
          0.00017972115892916918,
          0.000254074257100001,
          0.0003263812977820635,
          0.00032336931326426566,
          0.0002098090626532212,
          0.000180626186192967,
          0.0003984830982517451,
          0.0002473326167091727,
          0.00022204215929377824,
          0.0004980523372069001,
          0.0004812252300325781,
          0.00024599890457466245,
          0.0002503318537492305,
          0.00020534259965643287,
          0.0003353547945152968,
          0.08086340874433517,
          0.0004484126402530819,
          0.0016727350885048509,
          0.0004144603153690696,
          0.0003167683316860348,
          0.00022150107542984188,
          0.0007794477860443294,
          0.0009996555745601654,
          0.00021039461717009544,
          0.00021161620679777116,
          0.0005725323571823537,
          0.00021454767556861043,
          0.0019239620305597782,
          0.000258151616435498,
          0.0014129356713965535,
          0.0009190671262331307,
          0.00034941278863698244,
          0.00020370297715999186,
          0.00017201514856424183,
          0.00018615066073834896,
          0.0007630602922290564,
          0.00019565435650292784,
          0.01373540610074997,
          0.00042234922875650227
         ],
         "xaxis": "x",
         "yaxis": "y"
        },
        {
         "showlegend": false,
         "type": "histogram",
         "x": [
          0.00019470599363557994,
          0.0002537195978220552,
          0.0008663631160743535,
          0.00017210503574460745,
          0.00013938252232037485,
          0.00015334362979047,
          0.000155982343130745,
          0.00034702243283391,
          0.0001391380646964535,
          0.0002359141653869301,
          0.00014722287596669048,
          0.00015345845895353705,
          0.000178058777237311,
          0.00014395809557754546,
          0.0003021728771273047,
          0.00016779427824076265,
          0.00016706388851162046,
          0.0003098539309576154,
          0.00036810277379117906,
          0.00016022557974793017,
          0.00013690507330466062,
          0.00014684138295706362,
          0.00014412320160772651,
          0.0001782084145816043,
          0.0005213639233261347,
          0.00016298535047098994,
          0.00014880018716212362,
          0.0001542646496091038,
          0.0003569522814359516,
          0.0002901962725445628,
          0.00018590694526210427,
          0.00022132202866487205,
          0.007250775117427111,
          0.0001406036753905937,
          0.00016184552805498242,
          0.0002427363651804626,
          0.0006603395449928939,
          0.00019157264614477754,
          0.00033648862154223025,
          0.00013938784832134843,
          0.00020185190078336746,
          0.00013645023864228278,
          0.0005676413420587778,
          0.00017759233014658093,
          0.00020779114856850356,
          0.00015670254651922733,
          0.00020284514175727963,
          0.00018461162107996643,
          0.000157742208102718,
          0.00014077083324082196,
          0.00017948963795788586,
          0.00028179457876831293,
          0.00014080936671234667,
          0.00015307514695450664,
          0.00029130702023394406,
          0.0001872813591035083,
          0.00013922339712735265,
          0.00014737035962752998,
          0.00033944190363399684,
          0.0004394898423925042,
          0.00017610169015824795,
          0.00015351100591942668,
          0.00019547405827324837,
          0.0002104216837324202,
          0.0002772014413494617,
          0.00016365059127565473,
          0.00014309179096017033,
          0.00022712953796144575,
          0.00018042582087218761,
          0.00017555062368046492,
          0.00018181813356932253,
          0.0002701907651498914,
          0.00019683207210619003,
          0.0003664144896902144,
          0.00017942495469469577,
          0.0001382167829433456,
          0.00023067972506396472,
          0.000203579111257568,
          0.0025735448580235243,
          0.00016912959108594805,
          0.00015360808174591511,
          0.00016645758296363056,
          0.0005372333689592779,
          0.000248110358370468,
          0.00016565229452680796,
          0.00017553639190737158,
          0.00045124610187485814,
          0.00020900201343465596,
          0.00041509195580147207,
          0.0005110045312903821,
          0.05011659488081932,
          0.003347122808918357,
          0.00020965847943443805,
          0.00016006814257707447,
          0.00014242045290302485,
          0.0001610405888641253,
          0.00030461649294011295,
          0.00015436823014169931,
          0.00017398867930751294,
          0.0002719139156397432
         ],
         "xaxis": "x2",
         "yaxis": "y2"
        },
        {
         "showlegend": false,
         "type": "histogram",
         "x": [
          0.00025868279044516385,
          0.0008015461498871446,
          0.00030518422136083245,
          0.0001924295793287456,
          0.00015564421482849866,
          0.00014790768909733742,
          0.00019622419495135546,
          0.0005620190058834851,
          0.0001516243355581537,
          0.00016125124238897115,
          0.0002091409551212564,
          0.00016239198157563806,
          0.00024608406238257885,
          0.00024834348005242646,
          0.0002519185363780707,
          0.00034460719325579703,
          0.00015586237714160234,
          0.0004020384803880006,
          0.00046803621808066964,
          0.0005187687929719687,
          0.00013594102347269654,
          0.00022856115538161248,
          0.00021951466624159366,
          0.0004209317557979375,
          0.0005281238118186593,
          0.00019251549383625388,
          0.00013830591342411935,
          0.00022466965310741216,
          0.00024504566681571305,
          0.0001778058212948963,
          0.00026405020616948605,
          0.00028999161440879107,
          0.003782903077080846,
          0.00023375173623207957,
          0.00017131833010353148,
          0.0002825211558956653,
          0.0013496605679392815,
          0.0002238436572952196,
          0.00027535809203982353,
          0.00017517490778118372,
          0.0023654962424188852,
          0.00014253972040023655,
          0.0001902661460917443,
          0.00018799700774252415,
          0.00013871533155906945,
          0.0008653595577925444,
          0.0001720674626994878,
          0.0001808253873605281,
          0.00024337692593690008,
          0.0001447252871003002,
          0.0002231706603197381,
          0.00036077454569749534,
          0.0001918920170282945,
          0.0003318393719382584,
          0.00029567506862804294,
          0.00022176413040142506,
          0.00016961005167104304,
          0.00014196813572198153,
          0.0009966627694666386,
          0.0013396063586696982,
          0.00014386999828275293,
          0.00019820670422632247,
          0.00021249512792564929,
          0.0009431069483980536,
          0.00016690707707311958,
          0.00030335807241499424,
          0.00023466572747565806,
          0.0006260232185013592,
          0.00023718074953649193,
          0.00015725292905699462,
          0.00021516738343052566,
          0.0006719304365105927,
          0.00015194635489024222,
          0.0004990627057850361,
          0.00017045147251337767,
          0.000173646752955392,
          0.0003401403082534671,
          0.0006956692086532712,
          0.0005814168835058808,
          0.00023270478413905948,
          0.0003965381474699825,
          0.00013243325520306826,
          0.0006636286270804703,
          0.0006898718420416117,
          0.00014515039219986647,
          0.00013991408923175186,
          0.0006685659755021334,
          0.0001683680311543867,
          0.027027642354369164,
          0.0004364210763014853,
          0.0003607512917369604,
          0.00041021412471309304,
          0.000203307528863661,
          0.00018802082922775298,
          0.000169376828125678,
          0.0002431394241284579,
          0.004157766234129667,
          0.0001505672698840499,
          0.00028652173932641745,
          0.0008118144469335675
         ],
         "xaxis": "x3",
         "yaxis": "y3"
        },
        {
         "showlegend": false,
         "type": "histogram",
         "x": [
          0.0002079482947010547,
          0.00037773692747578025,
          0.001530138193629682,
          0.00018509685469325632,
          0.0007594100316055119,
          0.0020500030368566513,
          0.0028882240876555443,
          0.00285109831020236,
          0.00013416160072665662,
          0.0005244553321972489,
          0.0001823857455747202,
          0.00013350514927878976,
          0.0004248791083227843,
          0.0002829179575201124,
          0.00032993685454130173,
          0.00015185351367108524,
          0.000147718281368725,
          0.00047433015424758196,
          0.0007086050463840365,
          0.002949272748082876,
          0.0001336226996500045,
          0.00014453082985710353,
          0.0003631534636951983,
          0.0004714661918114871,
          0.0030588768422603607,
          0.00016027019592002034,
          0.00013269668852444738,
          0.00014134880620986223,
          0.0007434030994772911,
          0.002195254899561405,
          0.0007666335441172123,
          0.001111465971916914,
          0.00111779582221061,
          0.00013782524911221117,
          0.00019439491734374315,
          0.0070013380609452724,
          0.0018215506570413709,
          0.00020659535948652774,
          0.0012149139074608684,
          0.0001620816474314779,
          0.008125273510813713,
          0.00016921089263632894,
          0.003409282537177205,
          0.00013990209845360368,
          0.0005530484486371279,
          0.0002043034473899752,
          0.0001333465042989701,
          0.0001588641753187403,
          0.00013308227062225342,
          0.0001484832464484498,
          0.0002810832520481199,
          0.0001623710704734549,
          0.0007019235636107624,
          0.000140592543175444,
          0.0008040638058446348,
          0.00018263999663759023,
          0.0001515640615252778,
          0.0001330972445430234,
          0.002271596807986498,
          0.002207841258496046,
          0.0003177964536007494,
          0.00037719393731094897,
          0.00023916478676255792,
          0.000254380633123219,
          0.001021117903292179,
          0.0001868969266070053,
          0.0001736045378493145,
          0.0006122756167314947,
          0.00025909030227921903,
          0.00032828646362759173,
          0.0001851563574746251,
          0.0002884612185880542,
          0.0001483470987295732,
          0.00039873900823295116,
          0.0001406339870300144,
          0.001116639468818903,
          0.0009069199441000819,
          0.0006910430965945125,
          0.0012069408548995852,
          0.0003191415162291378,
          0.00015485755284316838,
          0.00020960730034857988,
          0.0006907112547196448,
          0.0001889370323624462,
          0.00015588155656587332,
          0.00017570838099345565,
          0.0020750032272189856,
          0.0003077084547840059,
          0.0013251794734969735,
          0.0001559008815092966,
          0.007422809023410082,
          0.0001666237076278776,
          0.0024021067656576633,
          0.00015070888912305236,
          0.0001557050709379837,
          0.00029514532070606947,
          0.00014683746849186718,
          0.00033116588019765913,
          0.00044581235852092505,
          0.004061159677803516
         ],
         "xaxis": "x4",
         "yaxis": "y4"
        }
       ],
       "layout": {
        "annotations": [
         {
          "font": {
           "size": 16
          },
          "showarrow": false,
          "text": "input",
          "x": 0.225,
          "xanchor": "center",
          "xref": "paper",
          "y": 1,
          "yanchor": "bottom",
          "yref": "paper"
         },
         {
          "font": {
           "size": 16
          },
          "showarrow": false,
          "text": "reference_summary",
          "x": 0.775,
          "xanchor": "center",
          "xref": "paper",
          "y": 1,
          "yanchor": "bottom",
          "yref": "paper"
         },
         {
          "font": {
           "size": 16
          },
          "showarrow": false,
          "text": "extractive_summary",
          "x": 0.225,
          "xanchor": "center",
          "xref": "paper",
          "y": 0.375,
          "yanchor": "bottom",
          "yref": "paper"
         },
         {
          "font": {
           "size": 16
          },
          "showarrow": false,
          "text": "abstract_summary",
          "x": 0.775,
          "xanchor": "center",
          "xref": "paper",
          "y": 0.375,
          "yanchor": "bottom",
          "yref": "paper"
         }
        ],
        "height": 900,
        "template": {
         "data": {
          "bar": [
           {
            "error_x": {
             "color": "#2a3f5f"
            },
            "error_y": {
             "color": "#2a3f5f"
            },
            "marker": {
             "line": {
              "color": "#E5ECF6",
              "width": 0.5
             },
             "pattern": {
              "fillmode": "overlay",
              "size": 10,
              "solidity": 0.2
             }
            },
            "type": "bar"
           }
          ],
          "barpolar": [
           {
            "marker": {
             "line": {
              "color": "#E5ECF6",
              "width": 0.5
             },
             "pattern": {
              "fillmode": "overlay",
              "size": 10,
              "solidity": 0.2
             }
            },
            "type": "barpolar"
           }
          ],
          "carpet": [
           {
            "aaxis": {
             "endlinecolor": "#2a3f5f",
             "gridcolor": "white",
             "linecolor": "white",
             "minorgridcolor": "white",
             "startlinecolor": "#2a3f5f"
            },
            "baxis": {
             "endlinecolor": "#2a3f5f",
             "gridcolor": "white",
             "linecolor": "white",
             "minorgridcolor": "white",
             "startlinecolor": "#2a3f5f"
            },
            "type": "carpet"
           }
          ],
          "choropleth": [
           {
            "colorbar": {
             "outlinewidth": 0,
             "ticks": ""
            },
            "type": "choropleth"
           }
          ],
          "contour": [
           {
            "colorbar": {
             "outlinewidth": 0,
             "ticks": ""
            },
            "colorscale": [
             [
              0,
              "#0d0887"
             ],
             [
              0.1111111111111111,
              "#46039f"
             ],
             [
              0.2222222222222222,
              "#7201a8"
             ],
             [
              0.3333333333333333,
              "#9c179e"
             ],
             [
              0.4444444444444444,
              "#bd3786"
             ],
             [
              0.5555555555555556,
              "#d8576b"
             ],
             [
              0.6666666666666666,
              "#ed7953"
             ],
             [
              0.7777777777777778,
              "#fb9f3a"
             ],
             [
              0.8888888888888888,
              "#fdca26"
             ],
             [
              1,
              "#f0f921"
             ]
            ],
            "type": "contour"
           }
          ],
          "contourcarpet": [
           {
            "colorbar": {
             "outlinewidth": 0,
             "ticks": ""
            },
            "type": "contourcarpet"
           }
          ],
          "heatmap": [
           {
            "colorbar": {
             "outlinewidth": 0,
             "ticks": ""
            },
            "colorscale": [
             [
              0,
              "#0d0887"
             ],
             [
              0.1111111111111111,
              "#46039f"
             ],
             [
              0.2222222222222222,
              "#7201a8"
             ],
             [
              0.3333333333333333,
              "#9c179e"
             ],
             [
              0.4444444444444444,
              "#bd3786"
             ],
             [
              0.5555555555555556,
              "#d8576b"
             ],
             [
              0.6666666666666666,
              "#ed7953"
             ],
             [
              0.7777777777777778,
              "#fb9f3a"
             ],
             [
              0.8888888888888888,
              "#fdca26"
             ],
             [
              1,
              "#f0f921"
             ]
            ],
            "type": "heatmap"
           }
          ],
          "heatmapgl": [
           {
            "colorbar": {
             "outlinewidth": 0,
             "ticks": ""
            },
            "colorscale": [
             [
              0,
              "#0d0887"
             ],
             [
              0.1111111111111111,
              "#46039f"
             ],
             [
              0.2222222222222222,
              "#7201a8"
             ],
             [
              0.3333333333333333,
              "#9c179e"
             ],
             [
              0.4444444444444444,
              "#bd3786"
             ],
             [
              0.5555555555555556,
              "#d8576b"
             ],
             [
              0.6666666666666666,
              "#ed7953"
             ],
             [
              0.7777777777777778,
              "#fb9f3a"
             ],
             [
              0.8888888888888888,
              "#fdca26"
             ],
             [
              1,
              "#f0f921"
             ]
            ],
            "type": "heatmapgl"
           }
          ],
          "histogram": [
           {
            "marker": {
             "pattern": {
              "fillmode": "overlay",
              "size": 10,
              "solidity": 0.2
             }
            },
            "type": "histogram"
           }
          ],
          "histogram2d": [
           {
            "colorbar": {
             "outlinewidth": 0,
             "ticks": ""
            },
            "colorscale": [
             [
              0,
              "#0d0887"
             ],
             [
              0.1111111111111111,
              "#46039f"
             ],
             [
              0.2222222222222222,
              "#7201a8"
             ],
             [
              0.3333333333333333,
              "#9c179e"
             ],
             [
              0.4444444444444444,
              "#bd3786"
             ],
             [
              0.5555555555555556,
              "#d8576b"
             ],
             [
              0.6666666666666666,
              "#ed7953"
             ],
             [
              0.7777777777777778,
              "#fb9f3a"
             ],
             [
              0.8888888888888888,
              "#fdca26"
             ],
             [
              1,
              "#f0f921"
             ]
            ],
            "type": "histogram2d"
           }
          ],
          "histogram2dcontour": [
           {
            "colorbar": {
             "outlinewidth": 0,
             "ticks": ""
            },
            "colorscale": [
             [
              0,
              "#0d0887"
             ],
             [
              0.1111111111111111,
              "#46039f"
             ],
             [
              0.2222222222222222,
              "#7201a8"
             ],
             [
              0.3333333333333333,
              "#9c179e"
             ],
             [
              0.4444444444444444,
              "#bd3786"
             ],
             [
              0.5555555555555556,
              "#d8576b"
             ],
             [
              0.6666666666666666,
              "#ed7953"
             ],
             [
              0.7777777777777778,
              "#fb9f3a"
             ],
             [
              0.8888888888888888,
              "#fdca26"
             ],
             [
              1,
              "#f0f921"
             ]
            ],
            "type": "histogram2dcontour"
           }
          ],
          "mesh3d": [
           {
            "colorbar": {
             "outlinewidth": 0,
             "ticks": ""
            },
            "type": "mesh3d"
           }
          ],
          "parcoords": [
           {
            "line": {
             "colorbar": {
              "outlinewidth": 0,
              "ticks": ""
             }
            },
            "type": "parcoords"
           }
          ],
          "pie": [
           {
            "automargin": true,
            "type": "pie"
           }
          ],
          "scatter": [
           {
            "fillpattern": {
             "fillmode": "overlay",
             "size": 10,
             "solidity": 0.2
            },
            "type": "scatter"
           }
          ],
          "scatter3d": [
           {
            "line": {
             "colorbar": {
              "outlinewidth": 0,
              "ticks": ""
             }
            },
            "marker": {
             "colorbar": {
              "outlinewidth": 0,
              "ticks": ""
             }
            },
            "type": "scatter3d"
           }
          ],
          "scattercarpet": [
           {
            "marker": {
             "colorbar": {
              "outlinewidth": 0,
              "ticks": ""
             }
            },
            "type": "scattercarpet"
           }
          ],
          "scattergeo": [
           {
            "marker": {
             "colorbar": {
              "outlinewidth": 0,
              "ticks": ""
             }
            },
            "type": "scattergeo"
           }
          ],
          "scattergl": [
           {
            "marker": {
             "colorbar": {
              "outlinewidth": 0,
              "ticks": ""
             }
            },
            "type": "scattergl"
           }
          ],
          "scattermapbox": [
           {
            "marker": {
             "colorbar": {
              "outlinewidth": 0,
              "ticks": ""
             }
            },
            "type": "scattermapbox"
           }
          ],
          "scatterpolar": [
           {
            "marker": {
             "colorbar": {
              "outlinewidth": 0,
              "ticks": ""
             }
            },
            "type": "scatterpolar"
           }
          ],
          "scatterpolargl": [
           {
            "marker": {
             "colorbar": {
              "outlinewidth": 0,
              "ticks": ""
             }
            },
            "type": "scatterpolargl"
           }
          ],
          "scatterternary": [
           {
            "marker": {
             "colorbar": {
              "outlinewidth": 0,
              "ticks": ""
             }
            },
            "type": "scatterternary"
           }
          ],
          "surface": [
           {
            "colorbar": {
             "outlinewidth": 0,
             "ticks": ""
            },
            "colorscale": [
             [
              0,
              "#0d0887"
             ],
             [
              0.1111111111111111,
              "#46039f"
             ],
             [
              0.2222222222222222,
              "#7201a8"
             ],
             [
              0.3333333333333333,
              "#9c179e"
             ],
             [
              0.4444444444444444,
              "#bd3786"
             ],
             [
              0.5555555555555556,
              "#d8576b"
             ],
             [
              0.6666666666666666,
              "#ed7953"
             ],
             [
              0.7777777777777778,
              "#fb9f3a"
             ],
             [
              0.8888888888888888,
              "#fdca26"
             ],
             [
              1,
              "#f0f921"
             ]
            ],
            "type": "surface"
           }
          ],
          "table": [
           {
            "cells": {
             "fill": {
              "color": "#EBF0F8"
             },
             "line": {
              "color": "white"
             }
            },
            "header": {
             "fill": {
              "color": "#C8D4E3"
             },
             "line": {
              "color": "white"
             }
            },
            "type": "table"
           }
          ]
         },
         "layout": {
          "annotationdefaults": {
           "arrowcolor": "#2a3f5f",
           "arrowhead": 0,
           "arrowwidth": 1
          },
          "autotypenumbers": "strict",
          "coloraxis": {
           "colorbar": {
            "outlinewidth": 0,
            "ticks": ""
           }
          },
          "colorscale": {
           "diverging": [
            [
             0,
             "#8e0152"
            ],
            [
             0.1,
             "#c51b7d"
            ],
            [
             0.2,
             "#de77ae"
            ],
            [
             0.3,
             "#f1b6da"
            ],
            [
             0.4,
             "#fde0ef"
            ],
            [
             0.5,
             "#f7f7f7"
            ],
            [
             0.6,
             "#e6f5d0"
            ],
            [
             0.7,
             "#b8e186"
            ],
            [
             0.8,
             "#7fbc41"
            ],
            [
             0.9,
             "#4d9221"
            ],
            [
             1,
             "#276419"
            ]
           ],
           "sequential": [
            [
             0,
             "#0d0887"
            ],
            [
             0.1111111111111111,
             "#46039f"
            ],
            [
             0.2222222222222222,
             "#7201a8"
            ],
            [
             0.3333333333333333,
             "#9c179e"
            ],
            [
             0.4444444444444444,
             "#bd3786"
            ],
            [
             0.5555555555555556,
             "#d8576b"
            ],
            [
             0.6666666666666666,
             "#ed7953"
            ],
            [
             0.7777777777777778,
             "#fb9f3a"
            ],
            [
             0.8888888888888888,
             "#fdca26"
            ],
            [
             1,
             "#f0f921"
            ]
           ],
           "sequentialminus": [
            [
             0,
             "#0d0887"
            ],
            [
             0.1111111111111111,
             "#46039f"
            ],
            [
             0.2222222222222222,
             "#7201a8"
            ],
            [
             0.3333333333333333,
             "#9c179e"
            ],
            [
             0.4444444444444444,
             "#bd3786"
            ],
            [
             0.5555555555555556,
             "#d8576b"
            ],
            [
             0.6666666666666666,
             "#ed7953"
            ],
            [
             0.7777777777777778,
             "#fb9f3a"
            ],
            [
             0.8888888888888888,
             "#fdca26"
            ],
            [
             1,
             "#f0f921"
            ]
           ]
          },
          "colorway": [
           "#636efa",
           "#EF553B",
           "#00cc96",
           "#ab63fa",
           "#FFA15A",
           "#19d3f3",
           "#FF6692",
           "#B6E880",
           "#FF97FF",
           "#FECB52"
          ],
          "font": {
           "color": "#2a3f5f"
          },
          "geo": {
           "bgcolor": "white",
           "lakecolor": "white",
           "landcolor": "#E5ECF6",
           "showlakes": true,
           "showland": true,
           "subunitcolor": "white"
          },
          "hoverlabel": {
           "align": "left"
          },
          "hovermode": "closest",
          "mapbox": {
           "style": "light"
          },
          "paper_bgcolor": "white",
          "plot_bgcolor": "#E5ECF6",
          "polar": {
           "angularaxis": {
            "gridcolor": "white",
            "linecolor": "white",
            "ticks": ""
           },
           "bgcolor": "#E5ECF6",
           "radialaxis": {
            "gridcolor": "white",
            "linecolor": "white",
            "ticks": ""
           }
          },
          "scene": {
           "xaxis": {
            "backgroundcolor": "#E5ECF6",
            "gridcolor": "white",
            "gridwidth": 2,
            "linecolor": "white",
            "showbackground": true,
            "ticks": "",
            "zerolinecolor": "white"
           },
           "yaxis": {
            "backgroundcolor": "#E5ECF6",
            "gridcolor": "white",
            "gridwidth": 2,
            "linecolor": "white",
            "showbackground": true,
            "ticks": "",
            "zerolinecolor": "white"
           },
           "zaxis": {
            "backgroundcolor": "#E5ECF6",
            "gridcolor": "white",
            "gridwidth": 2,
            "linecolor": "white",
            "showbackground": true,
            "ticks": "",
            "zerolinecolor": "white"
           }
          },
          "shapedefaults": {
           "line": {
            "color": "#2a3f5f"
           }
          },
          "ternary": {
           "aaxis": {
            "gridcolor": "white",
            "linecolor": "white",
            "ticks": ""
           },
           "baxis": {
            "gridcolor": "white",
            "linecolor": "white",
            "ticks": ""
           },
           "bgcolor": "#E5ECF6",
           "caxis": {
            "gridcolor": "white",
            "linecolor": "white",
            "ticks": ""
           }
          },
          "title": {
           "x": 0.05
          },
          "xaxis": {
           "automargin": true,
           "gridcolor": "white",
           "linecolor": "white",
           "ticks": "",
           "title": {
            "standoff": 15
           },
           "zerolinecolor": "white",
           "zerolinewidth": 2
          },
          "yaxis": {
           "automargin": true,
           "gridcolor": "white",
           "linecolor": "white",
           "ticks": "",
           "title": {
            "standoff": 15
           },
           "zerolinecolor": "white",
           "zerolinewidth": 2
          }
         }
        },
        "title": {
         "text": "Histograms of Toxicity Scores"
        },
        "xaxis": {
         "anchor": "y",
         "domain": [
          0,
          0.45
         ],
         "title": {
          "text": "Toxicity Score"
         }
        },
        "xaxis2": {
         "anchor": "y2",
         "domain": [
          0.55,
          1
         ]
        },
        "xaxis3": {
         "anchor": "y3",
         "domain": [
          0,
          0.45
         ]
        },
        "xaxis4": {
         "anchor": "y4",
         "domain": [
          0.55,
          1
         ]
        },
        "yaxis": {
         "anchor": "x",
         "domain": [
          0.625,
          1
         ],
         "title": {
          "text": "Frequency"
         }
        },
        "yaxis2": {
         "anchor": "x2",
         "domain": [
          0.625,
          1
         ]
        },
        "yaxis3": {
         "anchor": "x3",
         "domain": [
          0,
          0.375
         ]
        },
        "yaxis4": {
         "anchor": "x4",
         "domain": [
          0,
          0.375
         ]
        }
       }
      }
     },
     "metadata": {},
     "output_type": "display_data"
    }
   ],
   "source": [
    "params = {\n",
    "    \"hf_toxicity_obj\": toxicity,\n",
    "    \"text_columns\": text_columns\n",
    "}\n",
    "\n",
    "hf_toxicity_histograms(df_summarization, params)"
   ]
  },
  {
   "attachments": {},
   "cell_type": "markdown",
   "metadata": {},
   "source": [
    "##### Toxicity Plots"
   ]
  },
  {
   "cell_type": "code",
   "execution_count": 34,
   "metadata": {},
   "outputs": [
    {
     "data": {
      "application/vnd.plotly.v1+json": {
       "config": {
        "plotlyServerURL": "https://plot.ly"
       },
       "data": [
        {
         "line": {
          "width": 1
         },
         "mode": "lines+markers",
         "name": "input",
         "type": "scatter",
         "x": [
          0,
          1,
          2,
          3,
          4,
          5,
          6,
          7,
          8,
          9,
          10,
          11,
          12,
          13,
          14,
          15,
          16,
          17,
          18,
          19,
          20,
          21,
          22,
          23,
          24,
          25,
          26,
          27,
          28,
          29,
          30,
          31,
          32,
          33,
          34,
          35,
          36,
          37,
          38,
          39,
          40,
          41,
          42,
          43,
          44,
          45,
          46,
          47,
          48,
          49,
          50,
          51,
          52,
          53,
          54,
          55,
          56,
          57,
          58,
          59,
          60,
          61,
          62,
          63,
          64,
          65,
          66,
          67,
          68,
          69,
          70,
          71,
          72,
          73,
          74,
          75,
          76,
          77,
          78,
          79,
          80,
          81,
          82,
          83,
          84,
          85,
          86,
          87,
          88,
          89,
          90,
          91,
          92,
          93,
          94,
          95,
          96,
          97,
          98,
          99
         ],
         "y": [
          0.0002674142306204885,
          0.0008097320096567273,
          0.0011717650340870023,
          0.000684693455696106,
          0.00023256706481333822,
          0.0002174090186599642,
          0.0004678963450714946,
          0.0011912357294932008,
          0.00019581001834012568,
          0.00031860460876487195,
          0.0002591389638837427,
          0.0002924387517850846,
          0.0002707986277528107,
          0.00023698637960478663,
          0.0026508828159421682,
          0.00044913709280081093,
          0.00024879659758880734,
          0.00039804348489269614,
          0.0011702824849635363,
          0.0006316870567388833,
          0.000167453836183995,
          0.00021685109823010862,
          0.00025306708994321525,
          0.00031141823274083436,
          0.001212035771459341,
          0.00019072895520366728,
          0.000220731963054277,
          0.0002343839587410912,
          0.0004828895616810769,
          0.0003845739411190152,
          0.0003459563013166189,
          0.0003767188754864037,
          0.002110451925545931,
          0.0002480581169947982,
          0.00018649175763130188,
          0.00031627193675376475,
          0.0016209224704653025,
          0.00029925236594863236,
          0.00032577262027189136,
          0.0003219395293854177,
          0.00057619420113042,
          0.00016848172526806593,
          0.0004643143911380321,
          0.00036972336238250136,
          0.0003190201532561332,
          0.00023460443480871618,
          0.00021020551503170282,
          0.00022166711278259754,
          0.00024520812439732254,
          0.00016298067930620164,
          0.00024317002680618316,
          0.0002447633887641132,
          0.00018984427151735872,
          0.0001891839929157868,
          0.0008673104457557201,
          0.0002260282199131325,
          0.00033851826447062194,
          0.0001966223499039188,
          0.0008516467059962451,
          0.000901634048204869,
          0.00017992999346461147,
          0.00017972115892916918,
          0.000254074257100001,
          0.0003263812977820635,
          0.00032336931326426566,
          0.0002098090626532212,
          0.000180626186192967,
          0.0003984830982517451,
          0.0002473326167091727,
          0.00022204215929377824,
          0.0004980523372069001,
          0.0004812252300325781,
          0.00024599890457466245,
          0.0002503318537492305,
          0.00020534259965643287,
          0.0003353547945152968,
          0.08086340874433517,
          0.0004484126402530819,
          0.0016727350885048509,
          0.0004144603153690696,
          0.0003167683316860348,
          0.00022150107542984188,
          0.0007794477860443294,
          0.0009996555745601654,
          0.00021039461717009544,
          0.00021161620679777116,
          0.0005725323571823537,
          0.00021454767556861043,
          0.0019239620305597782,
          0.000258151616435498,
          0.0014129356713965535,
          0.0009190671262331307,
          0.00034941278863698244,
          0.00020370297715999186,
          0.00017201514856424183,
          0.00018615066073834896,
          0.0007630602922290564,
          0.00019565435650292784,
          0.01373540610074997,
          0.00042234922875650227
         ]
        },
        {
         "line": {
          "width": 1
         },
         "mode": "lines+markers",
         "name": "reference_summary",
         "type": "scatter",
         "x": [
          0,
          1,
          2,
          3,
          4,
          5,
          6,
          7,
          8,
          9,
          10,
          11,
          12,
          13,
          14,
          15,
          16,
          17,
          18,
          19,
          20,
          21,
          22,
          23,
          24,
          25,
          26,
          27,
          28,
          29,
          30,
          31,
          32,
          33,
          34,
          35,
          36,
          37,
          38,
          39,
          40,
          41,
          42,
          43,
          44,
          45,
          46,
          47,
          48,
          49,
          50,
          51,
          52,
          53,
          54,
          55,
          56,
          57,
          58,
          59,
          60,
          61,
          62,
          63,
          64,
          65,
          66,
          67,
          68,
          69,
          70,
          71,
          72,
          73,
          74,
          75,
          76,
          77,
          78,
          79,
          80,
          81,
          82,
          83,
          84,
          85,
          86,
          87,
          88,
          89,
          90,
          91,
          92,
          93,
          94,
          95,
          96,
          97,
          98,
          99
         ],
         "y": [
          0.00019470599363557994,
          0.0002537195978220552,
          0.0008663631160743535,
          0.00017210503574460745,
          0.00013938252232037485,
          0.00015334362979047,
          0.000155982343130745,
          0.00034702243283391,
          0.0001391380646964535,
          0.0002359141653869301,
          0.00014722287596669048,
          0.00015345845895353705,
          0.000178058777237311,
          0.00014395809557754546,
          0.0003021728771273047,
          0.00016779427824076265,
          0.00016706388851162046,
          0.0003098539309576154,
          0.00036810277379117906,
          0.00016022557974793017,
          0.00013690507330466062,
          0.00014684138295706362,
          0.00014412320160772651,
          0.0001782084145816043,
          0.0005213639233261347,
          0.00016298535047098994,
          0.00014880018716212362,
          0.0001542646496091038,
          0.0003569522814359516,
          0.0002901962725445628,
          0.00018590694526210427,
          0.00022132202866487205,
          0.007250775117427111,
          0.0001406036753905937,
          0.00016184552805498242,
          0.0002427363651804626,
          0.0006603395449928939,
          0.00019157264614477754,
          0.00033648862154223025,
          0.00013938784832134843,
          0.00020185190078336746,
          0.00013645023864228278,
          0.0005676413420587778,
          0.00017759233014658093,
          0.00020779114856850356,
          0.00015670254651922733,
          0.00020284514175727963,
          0.00018461162107996643,
          0.000157742208102718,
          0.00014077083324082196,
          0.00017948963795788586,
          0.00028179457876831293,
          0.00014080936671234667,
          0.00015307514695450664,
          0.00029130702023394406,
          0.0001872813591035083,
          0.00013922339712735265,
          0.00014737035962752998,
          0.00033944190363399684,
          0.0004394898423925042,
          0.00017610169015824795,
          0.00015351100591942668,
          0.00019547405827324837,
          0.0002104216837324202,
          0.0002772014413494617,
          0.00016365059127565473,
          0.00014309179096017033,
          0.00022712953796144575,
          0.00018042582087218761,
          0.00017555062368046492,
          0.00018181813356932253,
          0.0002701907651498914,
          0.00019683207210619003,
          0.0003664144896902144,
          0.00017942495469469577,
          0.0001382167829433456,
          0.00023067972506396472,
          0.000203579111257568,
          0.0025735448580235243,
          0.00016912959108594805,
          0.00015360808174591511,
          0.00016645758296363056,
          0.0005372333689592779,
          0.000248110358370468,
          0.00016565229452680796,
          0.00017553639190737158,
          0.00045124610187485814,
          0.00020900201343465596,
          0.00041509195580147207,
          0.0005110045312903821,
          0.05011659488081932,
          0.003347122808918357,
          0.00020965847943443805,
          0.00016006814257707447,
          0.00014242045290302485,
          0.0001610405888641253,
          0.00030461649294011295,
          0.00015436823014169931,
          0.00017398867930751294,
          0.0002719139156397432
         ]
        },
        {
         "line": {
          "width": 1
         },
         "mode": "lines+markers",
         "name": "extractive_summary",
         "type": "scatter",
         "x": [
          0,
          1,
          2,
          3,
          4,
          5,
          6,
          7,
          8,
          9,
          10,
          11,
          12,
          13,
          14,
          15,
          16,
          17,
          18,
          19,
          20,
          21,
          22,
          23,
          24,
          25,
          26,
          27,
          28,
          29,
          30,
          31,
          32,
          33,
          34,
          35,
          36,
          37,
          38,
          39,
          40,
          41,
          42,
          43,
          44,
          45,
          46,
          47,
          48,
          49,
          50,
          51,
          52,
          53,
          54,
          55,
          56,
          57,
          58,
          59,
          60,
          61,
          62,
          63,
          64,
          65,
          66,
          67,
          68,
          69,
          70,
          71,
          72,
          73,
          74,
          75,
          76,
          77,
          78,
          79,
          80,
          81,
          82,
          83,
          84,
          85,
          86,
          87,
          88,
          89,
          90,
          91,
          92,
          93,
          94,
          95,
          96,
          97,
          98,
          99
         ],
         "y": [
          0.00025868279044516385,
          0.0008015461498871446,
          0.00030518422136083245,
          0.0001924295793287456,
          0.00015564421482849866,
          0.00014790768909733742,
          0.00019622419495135546,
          0.0005620190058834851,
          0.0001516243355581537,
          0.00016125124238897115,
          0.0002091409551212564,
          0.00016239198157563806,
          0.00024608406238257885,
          0.00024834348005242646,
          0.0002519185363780707,
          0.00034460719325579703,
          0.00015586237714160234,
          0.0004020384803880006,
          0.00046803621808066964,
          0.0005187687929719687,
          0.00013594102347269654,
          0.00022856115538161248,
          0.00021951466624159366,
          0.0004209317557979375,
          0.0005281238118186593,
          0.00019251549383625388,
          0.00013830591342411935,
          0.00022466965310741216,
          0.00024504566681571305,
          0.0001778058212948963,
          0.00026405020616948605,
          0.00028999161440879107,
          0.003782903077080846,
          0.00023375173623207957,
          0.00017131833010353148,
          0.0002825211558956653,
          0.0013496605679392815,
          0.0002238436572952196,
          0.00027535809203982353,
          0.00017517490778118372,
          0.0023654962424188852,
          0.00014253972040023655,
          0.0001902661460917443,
          0.00018799700774252415,
          0.00013871533155906945,
          0.0008653595577925444,
          0.0001720674626994878,
          0.0001808253873605281,
          0.00024337692593690008,
          0.0001447252871003002,
          0.0002231706603197381,
          0.00036077454569749534,
          0.0001918920170282945,
          0.0003318393719382584,
          0.00029567506862804294,
          0.00022176413040142506,
          0.00016961005167104304,
          0.00014196813572198153,
          0.0009966627694666386,
          0.0013396063586696982,
          0.00014386999828275293,
          0.00019820670422632247,
          0.00021249512792564929,
          0.0009431069483980536,
          0.00016690707707311958,
          0.00030335807241499424,
          0.00023466572747565806,
          0.0006260232185013592,
          0.00023718074953649193,
          0.00015725292905699462,
          0.00021516738343052566,
          0.0006719304365105927,
          0.00015194635489024222,
          0.0004990627057850361,
          0.00017045147251337767,
          0.000173646752955392,
          0.0003401403082534671,
          0.0006956692086532712,
          0.0005814168835058808,
          0.00023270478413905948,
          0.0003965381474699825,
          0.00013243325520306826,
          0.0006636286270804703,
          0.0006898718420416117,
          0.00014515039219986647,
          0.00013991408923175186,
          0.0006685659755021334,
          0.0001683680311543867,
          0.027027642354369164,
          0.0004364210763014853,
          0.0003607512917369604,
          0.00041021412471309304,
          0.000203307528863661,
          0.00018802082922775298,
          0.000169376828125678,
          0.0002431394241284579,
          0.004157766234129667,
          0.0001505672698840499,
          0.00028652173932641745,
          0.0008118144469335675
         ]
        },
        {
         "line": {
          "width": 1
         },
         "mode": "lines+markers",
         "name": "abstract_summary",
         "type": "scatter",
         "x": [
          0,
          1,
          2,
          3,
          4,
          5,
          6,
          7,
          8,
          9,
          10,
          11,
          12,
          13,
          14,
          15,
          16,
          17,
          18,
          19,
          20,
          21,
          22,
          23,
          24,
          25,
          26,
          27,
          28,
          29,
          30,
          31,
          32,
          33,
          34,
          35,
          36,
          37,
          38,
          39,
          40,
          41,
          42,
          43,
          44,
          45,
          46,
          47,
          48,
          49,
          50,
          51,
          52,
          53,
          54,
          55,
          56,
          57,
          58,
          59,
          60,
          61,
          62,
          63,
          64,
          65,
          66,
          67,
          68,
          69,
          70,
          71,
          72,
          73,
          74,
          75,
          76,
          77,
          78,
          79,
          80,
          81,
          82,
          83,
          84,
          85,
          86,
          87,
          88,
          89,
          90,
          91,
          92,
          93,
          94,
          95,
          96,
          97,
          98,
          99
         ],
         "y": [
          0.0002079482947010547,
          0.00037773692747578025,
          0.001530138193629682,
          0.00018509685469325632,
          0.0007594100316055119,
          0.0020500030368566513,
          0.0028882240876555443,
          0.00285109831020236,
          0.00013416160072665662,
          0.0005244553321972489,
          0.0001823857455747202,
          0.00013350514927878976,
          0.0004248791083227843,
          0.0002829179575201124,
          0.00032993685454130173,
          0.00015185351367108524,
          0.000147718281368725,
          0.00047433015424758196,
          0.0007086050463840365,
          0.002949272748082876,
          0.0001336226996500045,
          0.00014453082985710353,
          0.0003631534636951983,
          0.0004714661918114871,
          0.0030588768422603607,
          0.00016027019592002034,
          0.00013269668852444738,
          0.00014134880620986223,
          0.0007434030994772911,
          0.002195254899561405,
          0.0007666335441172123,
          0.001111465971916914,
          0.00111779582221061,
          0.00013782524911221117,
          0.00019439491734374315,
          0.0070013380609452724,
          0.0018215506570413709,
          0.00020659535948652774,
          0.0012149139074608684,
          0.0001620816474314779,
          0.008125273510813713,
          0.00016921089263632894,
          0.003409282537177205,
          0.00013990209845360368,
          0.0005530484486371279,
          0.0002043034473899752,
          0.0001333465042989701,
          0.0001588641753187403,
          0.00013308227062225342,
          0.0001484832464484498,
          0.0002810832520481199,
          0.0001623710704734549,
          0.0007019235636107624,
          0.000140592543175444,
          0.0008040638058446348,
          0.00018263999663759023,
          0.0001515640615252778,
          0.0001330972445430234,
          0.002271596807986498,
          0.002207841258496046,
          0.0003177964536007494,
          0.00037719393731094897,
          0.00023916478676255792,
          0.000254380633123219,
          0.001021117903292179,
          0.0001868969266070053,
          0.0001736045378493145,
          0.0006122756167314947,
          0.00025909030227921903,
          0.00032828646362759173,
          0.0001851563574746251,
          0.0002884612185880542,
          0.0001483470987295732,
          0.00039873900823295116,
          0.0001406339870300144,
          0.001116639468818903,
          0.0009069199441000819,
          0.0006910430965945125,
          0.0012069408548995852,
          0.0003191415162291378,
          0.00015485755284316838,
          0.00020960730034857988,
          0.0006907112547196448,
          0.0001889370323624462,
          0.00015588155656587332,
          0.00017570838099345565,
          0.0020750032272189856,
          0.0003077084547840059,
          0.0013251794734969735,
          0.0001559008815092966,
          0.007422809023410082,
          0.0001666237076278776,
          0.0024021067656576633,
          0.00015070888912305236,
          0.0001557050709379837,
          0.00029514532070606947,
          0.00014683746849186718,
          0.00033116588019765913,
          0.00044581235852092505,
          0.004061159677803516
         ]
        }
       ],
       "layout": {
        "legend": {
         "title": {
          "text": "Text Type"
         }
        },
        "shapes": [
         {
          "line": {
           "color": "grey",
           "dash": "dash",
           "width": 0.8
          },
          "type": "line",
          "x0": 0,
          "x1": 99,
          "y0": 0,
          "y1": 0
         }
        ],
        "template": {
         "data": {
          "bar": [
           {
            "error_x": {
             "color": "#2a3f5f"
            },
            "error_y": {
             "color": "#2a3f5f"
            },
            "marker": {
             "line": {
              "color": "#E5ECF6",
              "width": 0.5
             },
             "pattern": {
              "fillmode": "overlay",
              "size": 10,
              "solidity": 0.2
             }
            },
            "type": "bar"
           }
          ],
          "barpolar": [
           {
            "marker": {
             "line": {
              "color": "#E5ECF6",
              "width": 0.5
             },
             "pattern": {
              "fillmode": "overlay",
              "size": 10,
              "solidity": 0.2
             }
            },
            "type": "barpolar"
           }
          ],
          "carpet": [
           {
            "aaxis": {
             "endlinecolor": "#2a3f5f",
             "gridcolor": "white",
             "linecolor": "white",
             "minorgridcolor": "white",
             "startlinecolor": "#2a3f5f"
            },
            "baxis": {
             "endlinecolor": "#2a3f5f",
             "gridcolor": "white",
             "linecolor": "white",
             "minorgridcolor": "white",
             "startlinecolor": "#2a3f5f"
            },
            "type": "carpet"
           }
          ],
          "choropleth": [
           {
            "colorbar": {
             "outlinewidth": 0,
             "ticks": ""
            },
            "type": "choropleth"
           }
          ],
          "contour": [
           {
            "colorbar": {
             "outlinewidth": 0,
             "ticks": ""
            },
            "colorscale": [
             [
              0,
              "#0d0887"
             ],
             [
              0.1111111111111111,
              "#46039f"
             ],
             [
              0.2222222222222222,
              "#7201a8"
             ],
             [
              0.3333333333333333,
              "#9c179e"
             ],
             [
              0.4444444444444444,
              "#bd3786"
             ],
             [
              0.5555555555555556,
              "#d8576b"
             ],
             [
              0.6666666666666666,
              "#ed7953"
             ],
             [
              0.7777777777777778,
              "#fb9f3a"
             ],
             [
              0.8888888888888888,
              "#fdca26"
             ],
             [
              1,
              "#f0f921"
             ]
            ],
            "type": "contour"
           }
          ],
          "contourcarpet": [
           {
            "colorbar": {
             "outlinewidth": 0,
             "ticks": ""
            },
            "type": "contourcarpet"
           }
          ],
          "heatmap": [
           {
            "colorbar": {
             "outlinewidth": 0,
             "ticks": ""
            },
            "colorscale": [
             [
              0,
              "#0d0887"
             ],
             [
              0.1111111111111111,
              "#46039f"
             ],
             [
              0.2222222222222222,
              "#7201a8"
             ],
             [
              0.3333333333333333,
              "#9c179e"
             ],
             [
              0.4444444444444444,
              "#bd3786"
             ],
             [
              0.5555555555555556,
              "#d8576b"
             ],
             [
              0.6666666666666666,
              "#ed7953"
             ],
             [
              0.7777777777777778,
              "#fb9f3a"
             ],
             [
              0.8888888888888888,
              "#fdca26"
             ],
             [
              1,
              "#f0f921"
             ]
            ],
            "type": "heatmap"
           }
          ],
          "heatmapgl": [
           {
            "colorbar": {
             "outlinewidth": 0,
             "ticks": ""
            },
            "colorscale": [
             [
              0,
              "#0d0887"
             ],
             [
              0.1111111111111111,
              "#46039f"
             ],
             [
              0.2222222222222222,
              "#7201a8"
             ],
             [
              0.3333333333333333,
              "#9c179e"
             ],
             [
              0.4444444444444444,
              "#bd3786"
             ],
             [
              0.5555555555555556,
              "#d8576b"
             ],
             [
              0.6666666666666666,
              "#ed7953"
             ],
             [
              0.7777777777777778,
              "#fb9f3a"
             ],
             [
              0.8888888888888888,
              "#fdca26"
             ],
             [
              1,
              "#f0f921"
             ]
            ],
            "type": "heatmapgl"
           }
          ],
          "histogram": [
           {
            "marker": {
             "pattern": {
              "fillmode": "overlay",
              "size": 10,
              "solidity": 0.2
             }
            },
            "type": "histogram"
           }
          ],
          "histogram2d": [
           {
            "colorbar": {
             "outlinewidth": 0,
             "ticks": ""
            },
            "colorscale": [
             [
              0,
              "#0d0887"
             ],
             [
              0.1111111111111111,
              "#46039f"
             ],
             [
              0.2222222222222222,
              "#7201a8"
             ],
             [
              0.3333333333333333,
              "#9c179e"
             ],
             [
              0.4444444444444444,
              "#bd3786"
             ],
             [
              0.5555555555555556,
              "#d8576b"
             ],
             [
              0.6666666666666666,
              "#ed7953"
             ],
             [
              0.7777777777777778,
              "#fb9f3a"
             ],
             [
              0.8888888888888888,
              "#fdca26"
             ],
             [
              1,
              "#f0f921"
             ]
            ],
            "type": "histogram2d"
           }
          ],
          "histogram2dcontour": [
           {
            "colorbar": {
             "outlinewidth": 0,
             "ticks": ""
            },
            "colorscale": [
             [
              0,
              "#0d0887"
             ],
             [
              0.1111111111111111,
              "#46039f"
             ],
             [
              0.2222222222222222,
              "#7201a8"
             ],
             [
              0.3333333333333333,
              "#9c179e"
             ],
             [
              0.4444444444444444,
              "#bd3786"
             ],
             [
              0.5555555555555556,
              "#d8576b"
             ],
             [
              0.6666666666666666,
              "#ed7953"
             ],
             [
              0.7777777777777778,
              "#fb9f3a"
             ],
             [
              0.8888888888888888,
              "#fdca26"
             ],
             [
              1,
              "#f0f921"
             ]
            ],
            "type": "histogram2dcontour"
           }
          ],
          "mesh3d": [
           {
            "colorbar": {
             "outlinewidth": 0,
             "ticks": ""
            },
            "type": "mesh3d"
           }
          ],
          "parcoords": [
           {
            "line": {
             "colorbar": {
              "outlinewidth": 0,
              "ticks": ""
             }
            },
            "type": "parcoords"
           }
          ],
          "pie": [
           {
            "automargin": true,
            "type": "pie"
           }
          ],
          "scatter": [
           {
            "fillpattern": {
             "fillmode": "overlay",
             "size": 10,
             "solidity": 0.2
            },
            "type": "scatter"
           }
          ],
          "scatter3d": [
           {
            "line": {
             "colorbar": {
              "outlinewidth": 0,
              "ticks": ""
             }
            },
            "marker": {
             "colorbar": {
              "outlinewidth": 0,
              "ticks": ""
             }
            },
            "type": "scatter3d"
           }
          ],
          "scattercarpet": [
           {
            "marker": {
             "colorbar": {
              "outlinewidth": 0,
              "ticks": ""
             }
            },
            "type": "scattercarpet"
           }
          ],
          "scattergeo": [
           {
            "marker": {
             "colorbar": {
              "outlinewidth": 0,
              "ticks": ""
             }
            },
            "type": "scattergeo"
           }
          ],
          "scattergl": [
           {
            "marker": {
             "colorbar": {
              "outlinewidth": 0,
              "ticks": ""
             }
            },
            "type": "scattergl"
           }
          ],
          "scattermapbox": [
           {
            "marker": {
             "colorbar": {
              "outlinewidth": 0,
              "ticks": ""
             }
            },
            "type": "scattermapbox"
           }
          ],
          "scatterpolar": [
           {
            "marker": {
             "colorbar": {
              "outlinewidth": 0,
              "ticks": ""
             }
            },
            "type": "scatterpolar"
           }
          ],
          "scatterpolargl": [
           {
            "marker": {
             "colorbar": {
              "outlinewidth": 0,
              "ticks": ""
             }
            },
            "type": "scatterpolargl"
           }
          ],
          "scatterternary": [
           {
            "marker": {
             "colorbar": {
              "outlinewidth": 0,
              "ticks": ""
             }
            },
            "type": "scatterternary"
           }
          ],
          "surface": [
           {
            "colorbar": {
             "outlinewidth": 0,
             "ticks": ""
            },
            "colorscale": [
             [
              0,
              "#0d0887"
             ],
             [
              0.1111111111111111,
              "#46039f"
             ],
             [
              0.2222222222222222,
              "#7201a8"
             ],
             [
              0.3333333333333333,
              "#9c179e"
             ],
             [
              0.4444444444444444,
              "#bd3786"
             ],
             [
              0.5555555555555556,
              "#d8576b"
             ],
             [
              0.6666666666666666,
              "#ed7953"
             ],
             [
              0.7777777777777778,
              "#fb9f3a"
             ],
             [
              0.8888888888888888,
              "#fdca26"
             ],
             [
              1,
              "#f0f921"
             ]
            ],
            "type": "surface"
           }
          ],
          "table": [
           {
            "cells": {
             "fill": {
              "color": "#EBF0F8"
             },
             "line": {
              "color": "white"
             }
            },
            "header": {
             "fill": {
              "color": "#C8D4E3"
             },
             "line": {
              "color": "white"
             }
            },
            "type": "table"
           }
          ]
         },
         "layout": {
          "annotationdefaults": {
           "arrowcolor": "#2a3f5f",
           "arrowhead": 0,
           "arrowwidth": 1
          },
          "autotypenumbers": "strict",
          "coloraxis": {
           "colorbar": {
            "outlinewidth": 0,
            "ticks": ""
           }
          },
          "colorscale": {
           "diverging": [
            [
             0,
             "#8e0152"
            ],
            [
             0.1,
             "#c51b7d"
            ],
            [
             0.2,
             "#de77ae"
            ],
            [
             0.3,
             "#f1b6da"
            ],
            [
             0.4,
             "#fde0ef"
            ],
            [
             0.5,
             "#f7f7f7"
            ],
            [
             0.6,
             "#e6f5d0"
            ],
            [
             0.7,
             "#b8e186"
            ],
            [
             0.8,
             "#7fbc41"
            ],
            [
             0.9,
             "#4d9221"
            ],
            [
             1,
             "#276419"
            ]
           ],
           "sequential": [
            [
             0,
             "#0d0887"
            ],
            [
             0.1111111111111111,
             "#46039f"
            ],
            [
             0.2222222222222222,
             "#7201a8"
            ],
            [
             0.3333333333333333,
             "#9c179e"
            ],
            [
             0.4444444444444444,
             "#bd3786"
            ],
            [
             0.5555555555555556,
             "#d8576b"
            ],
            [
             0.6666666666666666,
             "#ed7953"
            ],
            [
             0.7777777777777778,
             "#fb9f3a"
            ],
            [
             0.8888888888888888,
             "#fdca26"
            ],
            [
             1,
             "#f0f921"
            ]
           ],
           "sequentialminus": [
            [
             0,
             "#0d0887"
            ],
            [
             0.1111111111111111,
             "#46039f"
            ],
            [
             0.2222222222222222,
             "#7201a8"
            ],
            [
             0.3333333333333333,
             "#9c179e"
            ],
            [
             0.4444444444444444,
             "#bd3786"
            ],
            [
             0.5555555555555556,
             "#d8576b"
            ],
            [
             0.6666666666666666,
             "#ed7953"
            ],
            [
             0.7777777777777778,
             "#fb9f3a"
            ],
            [
             0.8888888888888888,
             "#fdca26"
            ],
            [
             1,
             "#f0f921"
            ]
           ]
          },
          "colorway": [
           "#636efa",
           "#EF553B",
           "#00cc96",
           "#ab63fa",
           "#FFA15A",
           "#19d3f3",
           "#FF6692",
           "#B6E880",
           "#FF97FF",
           "#FECB52"
          ],
          "font": {
           "color": "#2a3f5f"
          },
          "geo": {
           "bgcolor": "white",
           "lakecolor": "white",
           "landcolor": "#E5ECF6",
           "showlakes": true,
           "showland": true,
           "subunitcolor": "white"
          },
          "hoverlabel": {
           "align": "left"
          },
          "hovermode": "closest",
          "mapbox": {
           "style": "light"
          },
          "paper_bgcolor": "white",
          "plot_bgcolor": "#E5ECF6",
          "polar": {
           "angularaxis": {
            "gridcolor": "white",
            "linecolor": "white",
            "ticks": ""
           },
           "bgcolor": "#E5ECF6",
           "radialaxis": {
            "gridcolor": "white",
            "linecolor": "white",
            "ticks": ""
           }
          },
          "scene": {
           "xaxis": {
            "backgroundcolor": "#E5ECF6",
            "gridcolor": "white",
            "gridwidth": 2,
            "linecolor": "white",
            "showbackground": true,
            "ticks": "",
            "zerolinecolor": "white"
           },
           "yaxis": {
            "backgroundcolor": "#E5ECF6",
            "gridcolor": "white",
            "gridwidth": 2,
            "linecolor": "white",
            "showbackground": true,
            "ticks": "",
            "zerolinecolor": "white"
           },
           "zaxis": {
            "backgroundcolor": "#E5ECF6",
            "gridcolor": "white",
            "gridwidth": 2,
            "linecolor": "white",
            "showbackground": true,
            "ticks": "",
            "zerolinecolor": "white"
           }
          },
          "shapedefaults": {
           "line": {
            "color": "#2a3f5f"
           }
          },
          "ternary": {
           "aaxis": {
            "gridcolor": "white",
            "linecolor": "white",
            "ticks": ""
           },
           "baxis": {
            "gridcolor": "white",
            "linecolor": "white",
            "ticks": ""
           },
           "bgcolor": "#E5ECF6",
           "caxis": {
            "gridcolor": "white",
            "linecolor": "white",
            "ticks": ""
           }
          },
          "title": {
           "x": 0.05
          },
          "xaxis": {
           "automargin": true,
           "gridcolor": "white",
           "linecolor": "white",
           "ticks": "",
           "title": {
            "standoff": 15
           },
           "zerolinecolor": "white",
           "zerolinewidth": 2
          },
          "yaxis": {
           "automargin": true,
           "gridcolor": "white",
           "linecolor": "white",
           "ticks": "",
           "title": {
            "standoff": 15
           },
           "zerolinecolor": "white",
           "zerolinewidth": 2
          }
         }
        },
        "title": {
         "text": "Toxicity Scores for Text Columns with Score above threshold"
        },
        "xaxis": {
         "title": {
          "text": "Index"
         }
        },
        "yaxis": {
         "title": {
          "text": "Toxicity Score"
         }
        }
       }
      }
     },
     "metadata": {},
     "output_type": "display_data"
    }
   ],
   "source": [
    "params = {\n",
    "    \"hf_toxicity_obj\": toxicity,\n",
    "    \"text_columns\": text_columns,\n",
    "    \"score_threshold\": 0\n",
    "}\n",
    "hf_toxicity_plot(df_summarization, params)"
   ]
  }
 ],
 "metadata": {
  "kernelspec": {
   "display_name": "dev-framework",
   "language": "python",
   "name": "dev-framework"
  },
  "language_info": {
   "codemirror_mode": {
    "name": "ipython",
    "version": 3
   },
   "file_extension": ".py",
   "mimetype": "text/x-python",
   "name": "python",
   "nbconvert_exporter": "python",
   "pygments_lexer": "ipython3",
   "version": "3.10.13"
  },
  "orig_nbformat": 4
 },
 "nbformat": 4,
 "nbformat_minor": 2
}
