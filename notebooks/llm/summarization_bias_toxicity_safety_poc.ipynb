{
 "cells": [
  {
   "attachments": {},
   "cell_type": "markdown",
   "metadata": {},
   "source": [
    "# Summarization of financial data using Hugging Face LLM models\n",
    "This notebook aims to provide an introduction to documenting an LLM model using the ValidMind Developer Framework. The use case presented is a summarization of financial data (https://huggingface.co/datasets/financial_phrasebank).\n",
    "\n",
    "- Initializing the ValidMind Developer Framework\n",
    "- Running a test various tests to quickly generate document about the data and model\n",
    "\n",
    "## Before you begin\n",
    "\n",
    "To use the ValidMind Developer Framework with a Jupyter notebook, you need to install and initialize the client library first, along with getting your Python environment ready.\n",
    "\n",
    "If you don't already have one, you should also [create a documentation project](https://docs.validmind.ai/guide/create-your-first-documentation-project.html) on the ValidMind platform. You will use this project to upload your documentation and test results.\n",
    "\n",
    "## Install the client library"
   ]
  },
  {
   "cell_type": "code",
   "execution_count": 1,
   "metadata": {},
   "outputs": [],
   "source": [
    "# %pip install --upgrade validmind"
   ]
  },
  {
   "attachments": {},
   "cell_type": "markdown",
   "metadata": {},
   "source": [
    "## Initialize the client library\n",
    "\n",
    "In a browser, go to the **Client Integration** page of your documentation project and click **Copy to clipboard** next to the code snippet. This code snippet gives you the API key, API secret, and project identifier to link your notebook to your documentation project.\n",
    "\n",
    "::: {.column-margin}\n",
    "::: {.callout-tip}\n",
    "This step requires a documentation project. [Learn how you can create one](https://docs.validmind.ai/guide/create-your-first-documentation-project.html).\n",
    ":::\n",
    ":::\n",
    "\n",
    "Next, replace this placeholder with your own code snippet:"
   ]
  },
  {
   "cell_type": "code",
   "execution_count": 2,
   "metadata": {},
   "outputs": [],
   "source": [
    "## Replace the code below with the code snippet from your project ## \n",
    "\n",
    "# import validmind as vm\n",
    "\n",
    "# vm.init(\n",
    "#  api_key = \"2494c3838f48efe590d531bfe225d90b\",\n",
    "#  api_host = \"http://localhost:3000/api/v1/tracking\",\n",
    "#  api_secret = \"4f692f8161f128414fef542cab2a4e74834c75d01b3a8e088a1834f2afcfe838\",\n",
    "#  project = \"cllnq0ckr000273y6ev40pmb5\"\n",
    "#)\n",
    "  "
   ]
  },
  {
   "attachments": {},
   "cell_type": "markdown",
   "metadata": {},
   "source": [
    "## Use case"
   ]
  },
  {
   "attachments": {},
   "cell_type": "markdown",
   "metadata": {},
   "source": [
    "In the realm of financial news, accurate interpretation of information is key. Given the vast amounts of data, we use Hugging Face's LLMs for summarization of financial articles. This notebook focuses on evaluating these text summarization models, especially using validation metrics. These metrics don't just measure the data and model's performance and accuracy; they also check for any bias or toxicity in the summaries. This helps ensures developers and users that the summarized content is both trustworthy and compliant with AI principles."
   ]
  },
  {
   "attachments": {},
   "cell_type": "markdown",
   "metadata": {},
   "source": [
    "## 1. Setup"
   ]
  },
  {
   "attachments": {},
   "cell_type": "markdown",
   "metadata": {},
   "source": [
    "### Import Libraries"
   ]
  },
  {
   "cell_type": "code",
   "execution_count": 3,
   "metadata": {},
   "outputs": [],
   "source": [
    "from transformers import pipeline\n",
    "from transformers import BertTokenizer, BertModel\n",
    "from sklearn.metrics.pairwise import cosine_similarity\n",
    "import textwrap\n",
    "from tabulate import tabulate\n",
    "from IPython.display import display, HTML\n",
    "from rouge import Rouge\n",
    "import plotly.graph_objects as go\n",
    "import nltk\n",
    "from nltk.corpus import stopwords\n",
    "import numpy as np\n",
    "import pandas as pd\n",
    "from pprint import pprint\n",
    "import torch\n",
    "import string\n",
    "import plotly.express as px\n",
    "import plotly.subplots as sp\n",
    "from collections import Counter\n",
    "from itertools import combinations\n",
    "from dataclasses import dataclass"
   ]
  },
  {
   "attachments": {},
   "cell_type": "markdown",
   "metadata": {},
   "source": [
    "### Preprocessing functions"
   ]
  },
  {
   "cell_type": "code",
   "execution_count": 4,
   "metadata": {},
   "outputs": [],
   "source": [
    "def add_id_column(df):\n",
    "    \"\"\"\n",
    "    Adds an 'ID' column to the dataframe.\n",
    "    \n",
    "    Args:\n",
    "    - df (pd.DataFrame): The input dataframe.\n",
    "    \n",
    "    Returns:\n",
    "    - pd.DataFrame: The dataframe with an added 'ID' column.\n",
    "    \"\"\"\n",
    "    df.insert(0, 'ID', range(1, 1 + len(df)))\n",
    "    return df\n",
    "\n",
    "def load_text_data(filepath, num_records=5):\n",
    "    \"\"\"\n",
    "    Load a CSV file, limit the number of records, and add an 'ID' column.\n",
    "    \n",
    "    Args:\n",
    "    - filepath (str): Path to the CSV file.\n",
    "    - num_records (int): Number of records to load.\n",
    "    \n",
    "    Returns:\n",
    "    - pd.DataFrame: The dataframe with the specified number of records and an added 'ID' column.\n",
    "    \"\"\"\n",
    "    df = pd.read_csv(filepath)\n",
    "    df = df.head(num_records)\n",
    "    return add_id_column(df)"
   ]
  },
  {
   "cell_type": "code",
   "execution_count": 5,
   "metadata": {},
   "outputs": [],
   "source": [
    "import json\n",
    "import pandas as pd\n",
    "\n",
    "def load_toxic_prompt_data(file_path, threshold=None):\n",
    "    \"\"\"\n",
    "    Reads a .jsonl file and returns a dataframe with all records.\n",
    "\n",
    "    :param file_path: Path to the .jsonl file.\n",
    "    :param threshold: Optional toxicity threshold. If provided, only records with a toxicity\n",
    "                      score exceeding this threshold will be returned.\n",
    "    :return: DataFrame with all records.\n",
    "    \"\"\"\n",
    "    # Load records\n",
    "    records = []\n",
    "    with open(file_path, \"r\") as file:\n",
    "        for line in file:\n",
    "            data = json.loads(line)\n",
    "            records.append(data)\n",
    "            \n",
    "    # Prepare data for dataframe\n",
    "    data_list = []\n",
    "    for record in records:\n",
    "        prompt_toxicity = record[\"prompt\"].get(\"toxicity\", None)\n",
    "        cont_toxicity = record[\"continuation\"].get(\"toxicity\", None)\n",
    "        \n",
    "        if threshold:\n",
    "            if not prompt_toxicity or not cont_toxicity:\n",
    "                continue  # If we don't have a toxicity value, skip the record\n",
    "            elif prompt_toxicity < threshold and cont_toxicity < threshold:\n",
    "                continue  # If neither toxicity value exceeds the threshold, skip the record\n",
    "\n",
    "        row = {\n",
    "            \"Filename\": record[\"filename\"],\n",
    "            \"Begin\": record[\"begin\"],\n",
    "            \"End\": record[\"end\"],\n",
    "            \"Challenging\": record[\"challenging\"],\n",
    "            \"Prompt Text\": record[\"prompt\"][\"text\"],\n",
    "            \"Prompt Profanity\": record[\"prompt\"].get(\"profanity\", \"N/A\"),\n",
    "            \"Prompt Sexually Explicit\": record[\"prompt\"].get(\"sexually_explicit\", \"N/A\"),\n",
    "            \"Prompt Identity Attack\": record[\"prompt\"].get(\"identity_attack\", \"N/A\"),\n",
    "            \"Prompt Flirtation\": record[\"prompt\"].get(\"flirtation\", \"N/A\"),\n",
    "            \"Prompt Threat\": record[\"prompt\"].get(\"threat\", \"N/A\"),\n",
    "            \"Prompt Insult\": record[\"prompt\"].get(\"insult\", \"N/A\"),\n",
    "            \"Prompt Severe Toxicity\": record[\"prompt\"].get(\"severe_toxicity\", \"N/A\"),\n",
    "            \"Prompt Toxicity\": record[\"prompt\"].get(\"toxicity\", \"N/A\"),\n",
    "            \"Continuation Text\": record[\"continuation\"][\"text\"],\n",
    "            \"Cont. Severe Toxicity\": record[\"continuation\"].get(\"severe_toxicity\", \"N/A\"),\n",
    "            \"Cont. Toxicity\": record[\"continuation\"].get(\"toxicity\", \"N/A\"),\n",
    "            \"Cont. Profanity\": record[\"continuation\"].get(\"profanity\", \"N/A\"),\n",
    "            \"Cont. Sexually Explicit\": record[\"continuation\"].get(\"sexually_explicit\", \"N/A\"),\n",
    "            \"Cont. Identity Attack\": record[\"continuation\"].get(\"identity_attack\", \"N/A\"),\n",
    "            \"Cont. Flirtation\": record[\"continuation\"].get(\"flirtation\", \"N/A\"),\n",
    "            \"Cont. Threat\": record[\"continuation\"].get(\"threat\", \"N/A\"),\n",
    "            \"Cont. Insult\": record[\"continuation\"].get(\"insult\", \"N/A\")\n",
    "        }\n",
    "        data_list.append(row)\n",
    "\n",
    "    # Convert list of dicts to dataframe\n",
    "    df = pd.DataFrame(data_list)\n",
    "    \n",
    "    return df\n"
   ]
  },
  {
   "cell_type": "code",
   "execution_count": 6,
   "metadata": {},
   "outputs": [],
   "source": [
    "def _format_cell_text(text, width=50):  \n",
    "    \"\"\"Private function to format a cell's text.\"\"\"\n",
    "    return '\\n'.join([textwrap.fill(line, width=width) for line in text.split('\\n')])\n",
    "\n",
    "def _format_dataframe_for_tabulate(df):\n",
    "    \"\"\"Private function to format the entire DataFrame for tabulation.\"\"\"\n",
    "    df_out = df.copy()\n",
    "    \n",
    "    # Format all string columns\n",
    "    for column in df_out.columns:\n",
    "        if df_out[column].dtype == object:  # Check if column is of type object (likely strings)\n",
    "            df_out[column] = df_out[column].apply(_format_cell_text)\n",
    "    return df_out\n",
    "\n",
    "def _dataframe_to_html_table(df):\n",
    "    \"\"\"Private function to convert a DataFrame to an HTML table.\"\"\"\n",
    "    headers = df.columns.tolist()\n",
    "    table_data = df.values.tolist()\n",
    "    return tabulate(table_data, headers=headers, tablefmt=\"html\")\n",
    "\n",
    "def display_nice(df, num_rows=None):\n",
    "    \"\"\"Primary function to format and display a DataFrame.\"\"\"\n",
    "    if num_rows is not None:\n",
    "        df = df.head(num_rows)\n",
    "    formatted_df = _format_dataframe_for_tabulate(df)\n",
    "    html_table = _dataframe_to_html_table(formatted_df)\n",
    "    display(HTML(html_table))\n"
   ]
  },
  {
   "cell_type": "code",
   "execution_count": 7,
   "metadata": {},
   "outputs": [],
   "source": [
    "def add_list_to_df(df, column_data, column_name):\n",
    "    \"\"\"\n",
    "    Adds a new column to the dataframe df that contains the given data.\n",
    "\n",
    "    Parameters:\n",
    "    - df (pd.DataFrame): The original pandas DataFrame.\n",
    "    - column_data (list/array): List/array of data to be added as a new column.\n",
    "    - column_name (str): Name of the new column.\n",
    "\n",
    "    Returns:\n",
    "    - pd.DataFrame: DataFrame with an additional column.\n",
    "    \"\"\"\n",
    "    \n",
    "    df = df.copy()  # Make an explicit copy of the DataFrame\n",
    "\n",
    "    # Check if the length of column_data matches the number of rows in the DataFrame\n",
    "    if len(column_data) != len(df):\n",
    "        raise ValueError(f\"The length of column_data ({len(column_data)}) does not match the number of rows in the DataFrame ({len(df)}).\")\n",
    "\n",
    "    # Add the column_data to the DataFrame\n",
    "    df[column_name] = column_data\n",
    "\n",
    "    return df\n"
   ]
  },
  {
   "cell_type": "code",
   "execution_count": 8,
   "metadata": {},
   "outputs": [],
   "source": [
    "def add_summaries_to_df(df, summaries):\n",
    "    \"\"\"\n",
    "    Adds a new column 'summary_X' to the dataframe df that contains the given summaries, where X is an incremental number.\n",
    "\n",
    "    Parameters:\n",
    "    - df: The original pandas DataFrame.\n",
    "    - summaries: List/array of summarized texts.\n",
    "\n",
    "    Returns:\n",
    "    - A new DataFrame with an additional summary column, with 'labels' being the first column followed by the original 'text'.\n",
    "    \"\"\"\n",
    "\n",
    "    df = df.copy()  # Make an explicit copy of the DataFrame\n",
    "\n",
    "    # Check if the length of summaries matches the number of rows in the DataFrame\n",
    "    if len(summaries) != len(df):\n",
    "        raise ValueError(f\"The number of summaries ({len(summaries)}) does not match the number of rows in the DataFrame ({len(df)}).\")\n",
    "\n",
    "    # Determine the name for the new summary column\n",
    "    col_index = 1\n",
    "    col_name = 'summary_1'\n",
    "    while col_name in df.columns:\n",
    "        col_index += 1\n",
    "        col_name = f'summary_{col_index}'\n",
    "\n",
    "    # Add the summaries to the DataFrame\n",
    "    df[col_name] = summaries\n",
    "\n",
    "    # Rearrange the DataFrame columns to have 'topic' first, then the original 'input', followed by summary columns\n",
    "    summary_columns = [col for col in df.columns if col.startswith('summary')]\n",
    "    other_columns = [col for col in df.columns if col not in summary_columns + ['topic', 'input', 'reference_summary']]\n",
    "    \n",
    "    columns_order = ['topic', 'input', 'reference_summary'] + sorted(summary_columns) + other_columns\n",
    "    df = df[columns_order]\n",
    "\n",
    "    return df\n"
   ]
  },
  {
   "attachments": {},
   "cell_type": "markdown",
   "metadata": {},
   "source": [
    "### POC Validation Metrics"
   ]
  },
  {
   "cell_type": "code",
   "execution_count": 9,
   "metadata": {},
   "outputs": [
    {
     "name": "stderr",
     "output_type": "stream",
     "text": [
      "Using default facebook/roberta-hate-speech-dynabench-r4-target checkpoint\n"
     ]
    }
   ],
   "source": [
    "import evaluate \n",
    "toxicity = evaluate.load(\"toxicity\")"
   ]
  },
  {
   "cell_type": "code",
   "execution_count": 10,
   "metadata": {},
   "outputs": [],
   "source": [
    "import plotly.graph_objects as go\n",
    "\n",
    "def hf_toxicity_plot(df, params):\n",
    "    \"\"\"\n",
    "    Compute toxicity scores for texts and then plot line plots for input and generated texts \n",
    "    where the generated text score surpasses the given threshold.\n",
    "\n",
    "    Parameters:\n",
    "    - df (pd.DataFrame): The dataframe containing texts.\n",
    "    - params (dict): Parameters containing toxicity evaluation object, column names, and generated score threshold.\n",
    "    \"\"\"\n",
    "    \n",
    "    # Extract necessary parameters\n",
    "    toxicity = params[\"hf_toxicity_obj\"]\n",
    "    input_text_col = params[\"input_text_col\"]\n",
    "    generated_text_col = params[\"generated_text_col\"]\n",
    "    generated_score_threshold = params.get(\"generated_score_threshold\", 0)  # default to 0 if not provided\n",
    "\n",
    "    # Get list of texts from dataframe\n",
    "    input_texts = df[input_text_col].tolist()\n",
    "    generated_texts = df[generated_text_col].tolist()\n",
    "\n",
    "    # Compute toxicity for input texts and generated texts\n",
    "    input_toxicity_scores = toxicity.compute(predictions=input_texts)['toxicity']\n",
    "    generated_toxicity_scores = toxicity.compute(predictions=generated_texts)['toxicity']\n",
    "\n",
    "    # Filter records where the generated score is above the threshold\n",
    "    indices = [i for i, gen_score in enumerate(generated_toxicity_scores) if gen_score > generated_score_threshold]\n",
    "\n",
    "    input_toxicity_scores = [score for i, score in enumerate(input_toxicity_scores) if i in indices]\n",
    "    generated_toxicity_scores = [score for i, score in enumerate(generated_toxicity_scores) if i in indices]\n",
    "\n",
    "    # Create figure\n",
    "    fig = go.Figure()\n",
    "\n",
    "    # Add traces for the scores with modified line width\n",
    "    fig.add_trace(go.Scatter(x=indices, y=input_toxicity_scores, mode='lines+markers', name='Input Text',\n",
    "                             line=dict(width=1)))  # Set width to 1 for a thinner line\n",
    "    fig.add_trace(go.Scatter(x=indices, y=generated_toxicity_scores, mode='lines+markers', name='Generated Text',\n",
    "                             line=dict(width=1)))  # Set width to 1 for a thinner line\n",
    "\n",
    "    # Add a trace for the threshold to appear in the legend (without actual data)\n",
    "    fig.add_trace(go.Scatter(x=[None], y=[None], mode='lines', name=f'Threshold ({generated_score_threshold})',\n",
    "                             line=dict(color=\"grey\", width=0.5, dash=\"dash\")))\n",
    "\n",
    "    # Add a horizontal line for the threshold\n",
    "    fig.add_shape(\n",
    "        go.layout.Shape(\n",
    "            type=\"line\",\n",
    "            x0=min(indices) if indices else 0,\n",
    "            x1=max(indices) if indices else 1,\n",
    "            y0=generated_score_threshold,\n",
    "            y1=generated_score_threshold,\n",
    "            line=dict(color=\"grey\", width=0.8, dash=\"dash\")\n",
    "        )\n",
    "    )\n",
    "\n",
    "    # Update layout\n",
    "    fig.update_layout(title=\"Toxicity Scores for Input and Generated Texts with Generated Score above threshold\",\n",
    "                      xaxis_title=\"Index\",\n",
    "                      yaxis_title=\"Toxicity Score\",\n",
    "                      legend_title=\"Text Type\")\n",
    "\n",
    "    # Show figure\n",
    "    fig.show()"
   ]
  },
  {
   "cell_type": "code",
   "execution_count": 11,
   "metadata": {},
   "outputs": [],
   "source": [
    "def hf_toxicity_table(df, params):\n",
    "    \"\"\"\n",
    "    Update and return dataframe with toxicity scores for prompt and continuation texts.\n",
    "\n",
    "    Parameters:\n",
    "    - df (pd.DataFrame): The dataframe containing texts.\n",
    "    - params (dict): Parameters containing toxicity evaluation object, column names, and the max and min generated toxicity thresholds.\n",
    "\n",
    "    Returns:\n",
    "    - pd.DataFrame: Updated dataframe with toxicity scores.\n",
    "    \"\"\"\n",
    "    \n",
    "    df = df.copy()  # Create a deep copy of the DataFrame\n",
    "    \n",
    "    # Extract necessary parameters\n",
    "    toxicity = params[\"hf_toxicity_obj\"]\n",
    "    input_text_col = params[\"input_text_col\"]\n",
    "    generated_text_col = params[\"generated_text_col\"]\n",
    "    max_generated_toxicity_threshold = params.get(\"max_generated_toxicity_threshold\", 1)  # default to 1 if not provided\n",
    "    min_generated_toxicity_threshold = params.get(\"min_generated_toxicity_threshold\", 0)  # default to 0 if not provided\n",
    "\n",
    "    # Get list of texts from dataframe\n",
    "    input_texts = df[input_text_col].tolist()\n",
    "    generated_texts = df[generated_text_col].tolist()\n",
    "\n",
    "    # Compute toxicity for input texts and generated texts\n",
    "    input_toxicity_scores = toxicity.compute(predictions=input_texts)['toxicity']\n",
    "    generated_toxicity_scores = toxicity.compute(predictions=generated_texts)['toxicity']\n",
    "\n",
    "    # Assign the new toxicity scores to the dataframe using .loc to avoid the warning\n",
    "    df.loc[:, \"Input Text Toxicity\"] = input_toxicity_scores\n",
    "    df.loc[:, \"Generated Text Toxicity\"] = generated_toxicity_scores\n",
    "\n",
    "    # Filter the dataframe to return only rows where the generated text toxicity score is between the thresholds\n",
    "    df = df[(df[\"Generated Text Toxicity\"] >= min_generated_toxicity_threshold) &\n",
    "            (df[\"Generated Text Toxicity\"] <= max_generated_toxicity_threshold)]\n",
    "\n",
    "    # Order the results by \"Generated Text Toxicity\" in descending order\n",
    "    df = df.sort_values(by=\"Generated Text Toxicity\", ascending=False)\n",
    "\n",
    "    return df\n"
   ]
  },
  {
   "cell_type": "code",
   "execution_count": 12,
   "metadata": {},
   "outputs": [],
   "source": [
    "import plotly.graph_objects as go\n",
    "import plotly.subplots as sp\n",
    "\n",
    "def hf_toxicity_histograms(df, params):\n",
    "    \"\"\"\n",
    "    Compute toxicity scores for texts and then plot histograms for input and generated texts.\n",
    "\n",
    "    Parameters:\n",
    "    - df (pd.DataFrame): The dataframe containing texts.\n",
    "    - params (dict): Parameters containing toxicity evaluation object and column names.\n",
    "    \"\"\"\n",
    "    \n",
    "    # Extract necessary parameters\n",
    "    toxicity = params[\"hf_toxicity_obj\"]\n",
    "    input_text_col = params[\"input_text_col\"]\n",
    "    generated_text_col = params[\"generated_text_col\"]\n",
    "\n",
    "    # Get list of texts from dataframe\n",
    "    input_texts = df[input_text_col].tolist()\n",
    "    generated_texts = df[generated_text_col].tolist()\n",
    "\n",
    "    # Compute toxicity for input texts and generated texts\n",
    "    input_toxicity_scores = toxicity.compute(predictions=input_texts)['toxicity']\n",
    "    generated_toxicity_scores = toxicity.compute(predictions=generated_texts)['toxicity']\n",
    "\n",
    "    # Create a subplot layout\n",
    "    fig = sp.make_subplots(rows=1, cols=2, subplot_titles=(\"Input Text Toxicity\", \"Generated Text Toxicity\"))\n",
    "\n",
    "    # Add traces\n",
    "    fig.add_trace(go.Histogram(x=input_toxicity_scores, name=\"Input Text\"), row=1, col=1)\n",
    "    fig.add_trace(go.Histogram(x=generated_toxicity_scores, name=\"Generated Text\"), row=1, col=2)\n",
    "\n",
    "    # Update layout\n",
    "    fig.update_layout(title_text=\"Histograms of Toxicity Scores\")\n",
    "    fig.update_xaxes(title_text=\"Toxicity Score\", row=1, col=1)\n",
    "    fig.update_xaxes(title_text=\"Toxicity Score\", row=1, col=2)\n",
    "    fig.update_yaxes(title_text=\"Frequency\", row=1, col=1)\n",
    "    fig.update_yaxes(title_text=\"Frequency\", row=1, col=2)\n",
    "\n",
    "    # Show figure\n",
    "    fig.show()"
   ]
  },
  {
   "cell_type": "code",
   "execution_count": 13,
   "metadata": {},
   "outputs": [],
   "source": [
    "# Secondary functions\n",
    "def general_text_metrics(df, text_column):\n",
    "    nltk.download('punkt', quiet=True)\n",
    "    \n",
    "    results = []\n",
    "\n",
    "    for text in df[text_column]:\n",
    "        sentences = nltk.sent_tokenize(text)\n",
    "        words = nltk.word_tokenize(text)\n",
    "        paragraphs = text.split(\"\\n\\n\")\n",
    "\n",
    "        total_words = len(words)\n",
    "        total_sentences = len(sentences)\n",
    "        avg_sentence_length = round(sum(len(sentence.split()) for sentence in sentences) / total_sentences if total_sentences else 0, 1)\n",
    "        total_paragraphs = len(paragraphs)\n",
    "\n",
    "        results.append([total_words, total_sentences, avg_sentence_length, total_paragraphs])\n",
    "\n",
    "    return pd.DataFrame(results, columns=[\"Total Words\", \"Total Sentences\", \"Avg Sentence Length\", \"Total Paragraphs\"])\n",
    "\n",
    "def vocabulary_structure_metrics(df, text_column, unwanted_tokens, lang):\n",
    "    stop_words = set(word.lower() for word in stopwords.words(lang))\n",
    "    unwanted_tokens = set(token.lower() for token in unwanted_tokens)\n",
    "\n",
    "    results = []\n",
    "\n",
    "    for text in df[text_column]:\n",
    "        words = nltk.word_tokenize(text)\n",
    "\n",
    "        filtered_words = [word for word in words if word.lower() not in stop_words and word.lower() not in unwanted_tokens and word not in string.punctuation]\n",
    "\n",
    "        total_unique_words = len(set(filtered_words))\n",
    "        total_punctuations = sum(1 for word in words if word in string.punctuation)\n",
    "        lexical_diversity = round(total_unique_words / len(filtered_words) if filtered_words else 0, 1)\n",
    "\n",
    "        results.append([total_unique_words, total_punctuations, lexical_diversity])\n",
    "\n",
    "    return pd.DataFrame(results, columns=[\"Total Unique Words\", \"Total Punctuations\", \"Lexical Diversity\"])\n",
    "\n",
    "# Primary function\n",
    "def text_description_table(df, params):\n",
    "    text_column = params[\"text_column\"]\n",
    "    unwanted_tokens = params[\"unwanted_tokens\"]\n",
    "    lang = params[\"lang\"]\n",
    "    \n",
    "    gen_metrics_df = general_text_metrics(df, text_column)\n",
    "    vocab_metrics_df = vocabulary_structure_metrics(df, text_column, unwanted_tokens, lang)\n",
    "    \n",
    "    combined_df = pd.concat([gen_metrics_df, vocab_metrics_df], axis=1)\n",
    "    \n",
    "    return combined_df\n"
   ]
  },
  {
   "cell_type": "code",
   "execution_count": null,
   "metadata": {},
   "outputs": [],
   "source": [
    "import plotly.graph_objects as go\n",
    "from plotly.subplots import make_subplots\n",
    "import nltk\n",
    "import pandas as pd\n",
    "from nltk.corpus import stopwords\n",
    "import string\n",
    "\n",
    "# Ensuring NLTK resources are downloaded\n",
    "nltk.download('punkt', quiet=True)\n",
    "nltk.download('stopwords', quiet=True)\n",
    "\n",
    "def text_description_histograms(df, params):\n",
    "    \"\"\"\n",
    "    This function takes a dataframe and plots histograms for the specified metrics.\n",
    "\n",
    "    Parameters:\n",
    "    - df (DataFrame): DataFrame containing the text data.\n",
    "    - params (dict): Dictionary containing parameters like \"text_column\", \"unwanted_tokens\", and \"lang\".\n",
    "    \n",
    "    Returns:\n",
    "    - Plotly figure containing the histograms.\n",
    "    \"\"\"\n",
    "    \n",
    "    text_column = params[\"text_column\"]\n",
    "    \n",
    "    # Combined function to get all metrics\n",
    "    gen_metrics_df = general_text_metrics(df, text_column)\n",
    "    vocab_metrics_df = vocabulary_structure_metrics(df, text_column, params[\"unwanted_tokens\"], params[\"lang\"])\n",
    "    combined_df = pd.concat([gen_metrics_df, vocab_metrics_df], axis=1)\n",
    "    \n",
    "    # Determine number of rows based on number of metrics\n",
    "    num_rows = (combined_df.shape[1] + 1) // 2  # Ceiling division to ensure every metric gets a subplot\n",
    "    \n",
    "    # Create subplots\n",
    "    fig = make_subplots(rows=num_rows, cols=2, subplot_titles=combined_df.columns)\n",
    "\n",
    "    # For each metric, plot a histogram\n",
    "    for index, column in enumerate(combined_df.columns):\n",
    "        row, col = divmod(index, 2)\n",
    "        fig.add_trace(\n",
    "            go.Histogram(x=combined_df[column], name=column),\n",
    "            row=row+1,\n",
    "            col=col+1\n",
    "        )\n",
    "\n",
    "    # Update layout for better appearance and adjust the height\n",
    "    subplot_height = 400  # Define the height of each individual subplot\n",
    "    total_height = num_rows * subplot_height\n",
    "    fig.update_layout(title_text=\"Distribution of Text Metrics\", bargap=0.2, bargroupgap=0.1, height=total_height)\n",
    "    \n",
    "    return fig.show()"
   ]
  },
  {
   "cell_type": "code",
   "execution_count": 14,
   "metadata": {},
   "outputs": [],
   "source": [
    "def text_structure_histograms(df, params):\n",
    "    \n",
    "    text_column = params[\"text_column\"]\n",
    "    num_docs_to_plot = params[\"num_docs_to_plot\"]\n",
    "    \n",
    "    \n",
    "    # Ensure the nltk punkt tokenizer is downloaded\n",
    "    nltk.download('punkt', quiet=True)\n",
    "    \n",
    "    # Decide on the number of documents to plot\n",
    "    if not num_docs_to_plot or num_docs_to_plot > len(df):\n",
    "        num_docs_to_plot = len(df)\n",
    "\n",
    "    # Colors for each subplot\n",
    "    colors = ['blue', 'green', 'red', 'purple']\n",
    "\n",
    "    # Axis titles for clarity\n",
    "    x_titles = [\n",
    "        \"Word Frequencies\",\n",
    "        \"Sentence Position in Document\",\n",
    "        \"Sentence Lengths (Words)\",\n",
    "        \"Word Lengths (Characters)\"\n",
    "    ]\n",
    "    y_titles = [\n",
    "        \"Number of Words\",\n",
    "        \"Sentence Length (Words)\",\n",
    "        \"Number of Sentences\",\n",
    "        \"Number of Words\"\n",
    "    ]\n",
    "\n",
    "    # Iterate over each document in the DataFrame up to the user-specified limit\n",
    "    for index, (idx, row) in enumerate(df.head(num_docs_to_plot).iterrows()):\n",
    "        # Create subplots with a 2x2 grid for each metric\n",
    "        fig = sp.make_subplots(\n",
    "            rows=2, cols=2, \n",
    "            subplot_titles=[\n",
    "                \"Word Frequencies\", \n",
    "                \"Sentence Positions\",\n",
    "                \"Sentence Lengths\", \n",
    "                \"Word Lengths\"\n",
    "            ]\n",
    "        )\n",
    "        \n",
    "        # Tokenize document into sentences and words\n",
    "        sentences = nltk.sent_tokenize(row[text_column])\n",
    "        words = nltk.word_tokenize(row[text_column])\n",
    "        \n",
    "        # Metrics computation\n",
    "        word_freq = Counter(words)\n",
    "        freq_counts = Counter(word_freq.values())\n",
    "        word_frequencies = list(freq_counts.keys())\n",
    "        word_frequency_counts = list(freq_counts.values())\n",
    "        \n",
    "        sentence_positions = list(range(1, len(sentences) + 1))\n",
    "        sentence_lengths = [len(sentence.split()) for sentence in sentences]\n",
    "        word_lengths = [len(word) for word in words]\n",
    "        \n",
    "        # Adding data to subplots\n",
    "        fig.add_trace(go.Bar(x=word_frequencies, y=word_frequency_counts, marker_color=colors[0], showlegend=False), row=1, col=1)\n",
    "        fig.add_trace(go.Bar(x=sentence_positions, y=sentence_lengths, marker_color=colors[1], showlegend=False), row=1, col=2)\n",
    "        fig.add_trace(go.Histogram(x=sentence_lengths, nbinsx=50, opacity=0.75, marker_color=colors[2], showlegend=False), row=2, col=1)\n",
    "        fig.add_trace(go.Histogram(x=word_lengths, nbinsx=50, opacity=0.75, marker_color=colors[3], showlegend=False), row=2, col=2)\n",
    "\n",
    "        # Update x and y axis titles\n",
    "        for i, (x_title, y_title) in enumerate(zip(x_titles, y_titles)):\n",
    "            fig['layout'][f'xaxis{i+1}'].update(title=x_title, titlefont=dict(size=10))\n",
    "            fig['layout'][f'yaxis{i+1}'].update(title=y_title, titlefont=dict(size=10))\n",
    "\n",
    "        # Update layout\n",
    "        fig.update_layout(\n",
    "            title=f\"Text Description for Document {index+1}\",\n",
    "            barmode='overlay',\n",
    "            height=800\n",
    "        )\n",
    "        \n",
    "        fig.show()"
   ]
  },
  {
   "cell_type": "code",
   "execution_count": 34,
   "metadata": {},
   "outputs": [],
   "source": [
    "import plotly.graph_objects as go\n",
    "from plotly.subplots import make_subplots\n",
    "\n",
    "# Assuming the previously defined functions and parameters are present\n",
    "\n",
    "def text_description_scatter(df, params):\n",
    "    \"\"\"\n",
    "    This function takes a dataframe and plots scatter plots for the specified combinations of metrics.\n",
    "\n",
    "    Parameters:\n",
    "    - df (DataFrame): DataFrame containing the text data.\n",
    "    - params (dict): Dictionary containing parameters like \"combinations_to_plot\", \"text_column\", \"unwanted_tokens\", and \"lang\".\n",
    "    \n",
    "    Returns:\n",
    "    - Plotly figure containing the scatter plots.\n",
    "    \"\"\"\n",
    "    \n",
    "    text_column = params[\"text_column\"]\n",
    "    \n",
    "    # Combined function to get all metrics\n",
    "    gen_metrics_df = general_text_metrics(df, text_column)\n",
    "    vocab_metrics_df = vocabulary_structure_metrics(df, text_column, params[\"unwanted_tokens\"], params[\"lang\"])\n",
    "    combined_df = pd.concat([gen_metrics_df, vocab_metrics_df], axis=1)\n",
    "    \n",
    "    combinations_to_plot = params[\"combinations_to_plot\"]\n",
    "    num_combinations = len(combinations_to_plot)\n",
    "    \n",
    "    # Determine number of rows based on number of combinations\n",
    "    num_rows = (num_combinations + 1) // 2  # Ceiling division\n",
    "    \n",
    "    # Create subplots\n",
    "    fig = make_subplots(rows=num_rows, cols=2, subplot_titles=[f\"{x} vs {y}\" for x, y in combinations_to_plot])\n",
    "    \n",
    "    # For each combination, plot a scatter plot\n",
    "    for index, (x_column, y_column) in enumerate(combinations_to_plot):\n",
    "        row, col = divmod(index, 2)\n",
    "        fig.add_trace(\n",
    "            go.Scatter(x=combined_df[x_column], y=combined_df[y_column], mode='markers', showlegend=False),\n",
    "            row=row+1,\n",
    "            col=col+1\n",
    "        )\n",
    "        # Update axis titles\n",
    "        fig.update_xaxes(title_text=x_column, row=row+1, col=col+1)\n",
    "        fig.update_yaxes(title_text=y_column, row=row+1, col=col+1)\n",
    "\n",
    "    # Update layout for better appearance\n",
    "    subplot_height = 400  # Define the height of each individual subplot\n",
    "    total_height = num_rows * subplot_height\n",
    "    fig.update_layout(title_text=\"Scatter Plots of Text Metrics Combinations\", height=total_height)\n",
    "    \n",
    "    return fig.show()\n",
    "\n",
    "# You can call the function with:\n",
    "# text_description_scatter(df, params)\n"
   ]
  },
  {
   "cell_type": "code",
   "execution_count": 16,
   "metadata": {},
   "outputs": [],
   "source": [
    "import pandas as pd\n",
    "import plotly.graph_objects as go\n",
    "from plotly.subplots import make_subplots\n",
    "from transformers import BertTokenizer\n",
    "\n",
    "def token_disparity_histograms(df, params):\n",
    "    \"\"\"\n",
    "    Visualize the token counts distribution of two given columns using histograms.\n",
    "    \n",
    "    :param df: DataFrame containing the text columns.\n",
    "    :param params: Dictionary with the keys [\"reference_column\", \"generated_column\"].\n",
    "    \"\"\"\n",
    "    \n",
    "    reference_column = params[\"reference_column\"]\n",
    "    generated_column = params[\"generated_column\"]\n",
    "    \n",
    "    # Initialize the tokenizer\n",
    "    tokenizer = BertTokenizer.from_pretrained('bert-base-uncased')\n",
    "    \n",
    "    # Tokenize the columns and get the number of tokens\n",
    "    df['tokens_1'] = df[reference_column].apply(lambda x: len(tokenizer.tokenize(x)))\n",
    "    df['tokens_2'] = df[generated_column].apply(lambda x: len(tokenizer.tokenize(x)))\n",
    "    \n",
    "    # Create subplots: 1 row, 2 columns\n",
    "    fig = make_subplots(rows=1, cols=2, subplot_titles=(f'Tokens in {reference_column}', f'Tokens in {generated_column}'))\n",
    "\n",
    "    # Add histograms\n",
    "    fig.add_trace(go.Histogram(x=df['tokens_1'], \n",
    "                               marker_color='blue',\n",
    "                               name=f'Tokens in {reference_column}'),\n",
    "                  row=1, col=1)\n",
    "\n",
    "    fig.add_trace(go.Histogram(x=df['tokens_2'], \n",
    "                               marker_color='red',\n",
    "                               name=f'Tokens in {generated_column}'),\n",
    "                  row=1, col=2)\n",
    "\n",
    "    # Update layout\n",
    "    fig.update_layout(title_text='Token Distributions',\n",
    "                      bargap=0.1)\n",
    "\n",
    "    fig.update_yaxes(title_text='Number of Documents')\n",
    "    fig.update_xaxes(title_text='Number of Tokens', row=1, col=1)\n",
    "    fig.update_xaxes(title_text='Number of Tokens', row=1, col=2)\n",
    "\n",
    "    fig.show()\n",
    "\n"
   ]
  },
  {
   "cell_type": "code",
   "execution_count": 17,
   "metadata": {},
   "outputs": [],
   "source": [
    "from rouge import Rouge\n",
    "import pandas as pd\n",
    "import plotly.graph_objects as go\n",
    "\n",
    "def rouge_scores_plot(df, params):\n",
    "    \"\"\"\n",
    "    Compute ROUGE scores for each row in the DataFrame and visualize them.\n",
    "    \n",
    "    :param df: DataFrame containing the summaries.\n",
    "    :param params: Dictionary with the keys [\"metric\", \"ref_column\", \"gen_column\"].\n",
    "    \"\"\"\n",
    "    \n",
    "    # Extract parameters\n",
    "    metric = params.get(\"metric\", \"rouge-2\")\n",
    "    ref_column = params[\"ref_column\"]\n",
    "    gen_column = params[\"gen_column\"]\n",
    "    \n",
    "    if metric not in [\"rouge-1\", \"rouge-2\", \"rouge-l\", \"rouge-s\"]:\n",
    "        raise ValueError(\"Invalid metric. Choose from 'rouge-1', 'rouge-2', 'rouge-l', 'rouge-s'.\")\n",
    "    \n",
    "    rouge = Rouge(metrics=[metric])\n",
    "    score_list = []\n",
    "    \n",
    "    for _, row in df.iterrows():\n",
    "        scores = rouge.get_scores(row[gen_column], row[ref_column], avg=True)[metric]\n",
    "        score_list.append(scores)\n",
    "    \n",
    "    df_scores = pd.DataFrame(score_list)\n",
    "    \n",
    "    # Visualization part\n",
    "    fig = go.Figure()\n",
    "\n",
    "    # Adding the line plots\n",
    "    fig.add_trace(go.Scatter(x=df_scores.index, y=df_scores['p'], mode='lines+markers', name='Precision'))\n",
    "    fig.add_trace(go.Scatter(x=df_scores.index, y=df_scores['r'], mode='lines+markers', name='Recall'))\n",
    "    fig.add_trace(go.Scatter(x=df_scores.index, y=df_scores['f'], mode='lines+markers', name='F1 Score'))\n",
    "\n",
    "    fig.update_layout(\n",
    "        title=\"ROUGE Scores for Each Row\",\n",
    "        xaxis_title=\"Row Index\",\n",
    "        yaxis_title=\"Score\"\n",
    "    )\n",
    "    fig.show()"
   ]
  },
  {
   "attachments": {},
   "cell_type": "markdown",
   "metadata": {},
   "source": [
    "### Hugging Face models wrappers\n",
    "\n",
    "The following code template showcases how to wrap a Hugging Face model for compatibility with the ValidMind Developer Framework. We will load an example model using the transformers API and then run some predictions on our test dataset.\n",
    "\n",
    "The ValidMind developer framework provides support for Hugging Face transformers out of the box, so in the following section we will show how to initialize multiple transformers models with the `init_model` function, removing the need for a custom wrapper. In cases where you need extra pre-processing or post-processing steps, you can use the following code template as a starting point to wrap your model."
   ]
  },
  {
   "cell_type": "code",
   "execution_count": 18,
   "metadata": {},
   "outputs": [],
   "source": [
    "from dataclasses import dataclass\n",
    "import pandas as pd\n",
    "from transformers import pipeline\n",
    "\n",
    "@dataclass\n",
    "class AbstractSummarization_HuggingFace:\n",
    "    \"\"\"\n",
    "    A VM Model instance wrapper for abstract summarization using HuggingFace Transformers.\n",
    "    \"\"\"\n",
    "    model: any\n",
    "    tokenizer: any\n",
    "    predicted_prob_values: list = None\n",
    "\n",
    "    def __init__(self, model_name=None, model=None, tokenizer=None):\n",
    "        pipeline_task = \"summarization\"\n",
    "        self.model_name = model_name\n",
    "        self.pipeline_task = pipeline_task\n",
    "        self.model = pipeline(pipeline_task, model=model, tokenizer=tokenizer)\n",
    "\n",
    "    def predict(self, texts, params={}):\n",
    "        \"\"\"\n",
    "        Generates summaries for the given texts.\n",
    "        \n",
    "        Parameters:\n",
    "        - texts (list): List of texts to be summarized.\n",
    "        - params (dict, optional): Dictionary that may contain \"min_length\" and/or \"max_length\" to control the produced summary's length.\n",
    "        \n",
    "        Returns:\n",
    "        - List of summaries.\n",
    "        \"\"\"\n",
    "        \n",
    "        min_length = params.get(\"min_length\")\n",
    "        max_length = params.get(\"max_length\")\n",
    "        \n",
    "        # If either value is None, don't pass it to the model function\n",
    "        model_args = {}\n",
    "        if min_length is not None:\n",
    "            model_args[\"min_length\"] = min_length\n",
    "        if max_length is not None:\n",
    "            model_args[\"max_length\"] = max_length\n",
    "\n",
    "        summaries = []\n",
    "\n",
    "        for text in texts:\n",
    "            data = [str(text)]\n",
    "            results = self.model(data, **model_args)  # Using ** unpacking to pass arguments conditionally\n",
    "            results_df = pd.DataFrame(results)\n",
    "            summary = results_df[\"summary_text\"].values[0] if \"summary_text\" in results_df.columns else results_df[\"label\"].values[0]\n",
    "            summaries.append(summary)\n",
    "\n",
    "        return summaries\n",
    "\n",
    "    def predict_proba(self):\n",
    "        \"\"\"\n",
    "        Retrieves predicted probabilities after prediction. \n",
    "        Note: Not all models provide predicted probabilities.\n",
    "        \"\"\"\n",
    "        if self.predicted_prob_values is None:\n",
    "            raise ValueError(\"First run predict method to retrieve predicted probabilities\")\n",
    "        return self.predicted_prob_values\n",
    "\n",
    "    def description(self):\n",
    "        \"\"\"\n",
    "        Describes the methods available in the class.\n",
    "        \n",
    "        The class provides methods for abstract summarization using HuggingFace Transformers.\n",
    "        \n",
    "        The predict method:\n",
    "        1. Generates summaries for given texts.\n",
    "        2. Accepts a 'params' dictionary which can contain optional 'min_length' and 'max_length' parameters to control the length of the produced summary.\n",
    "        \n",
    "        The predict_proba method:\n",
    "        Retrieves predicted probabilities after prediction (if available by the model).\n",
    "        \"\"\"\n",
    "        return self.description.__doc__\n"
   ]
  },
  {
   "cell_type": "code",
   "execution_count": 19,
   "metadata": {},
   "outputs": [],
   "source": [
    "from dataclasses import dataclass\n",
    "import torch\n",
    "import numpy as np\n",
    "from sklearn.metrics.pairwise import cosine_similarity\n",
    "\n",
    "@dataclass\n",
    "class ExtractiveSummarization_BERT:\n",
    "    model: any\n",
    "    tokenizer: any\n",
    "\n",
    "    def _get_embedding(self, text):\n",
    "        inputs = self.tokenizer(text, return_tensors=\"pt\", truncation=True, max_length=512, padding='max_length')\n",
    "        with torch.no_grad():\n",
    "            output = self.model(**inputs)\n",
    "        return output['last_hidden_state'].mean(dim=1).squeeze().detach().numpy()\n",
    "\n",
    "    def predict(self, texts, params={}):\n",
    "        summaries = []\n",
    "\n",
    "        # Extract summary_length from params, default to None if not provided\n",
    "        summary_length = params.get(\"summary_length\", None)\n",
    "\n",
    "        for text in texts:\n",
    "            sentences = text.split('. ')\n",
    "            \n",
    "            document_embedding = self._get_embedding(' '.join(sentences))\n",
    "            sentence_embeddings = [self._get_embedding(sentence) for sentence in sentences]\n",
    "            similarities = cosine_similarity(sentence_embeddings, [document_embedding])\n",
    "            sorted_indices = np.argsort(similarities, axis=0)[::-1].squeeze()\n",
    "\n",
    "            # Determine summary length\n",
    "            if summary_length is None:  # If not provided, use 20% of the total sentence count\n",
    "                top_k = int(len(sentences) * 0.2)\n",
    "            else:  # If provided, use the user-defined length\n",
    "                top_k = summary_length\n",
    "\n",
    "            # Extract the top sentences based on the chosen summary length\n",
    "            selected_sentences = [sentences[i] for i in sorted_indices[:top_k]]\n",
    "\n",
    "            summaries.append(' '.join(selected_sentences))\n",
    "        \n",
    "        return summaries\n",
    "\n",
    "    def description(self):\n",
    "        \"\"\" \n",
    "        Provides a description of the methods available for extractive summarization with the current model.\n",
    "        \n",
    "        The model ranks sentences in the input text based on their similarity to the overall document meaning, as determined by BERT embeddings. The top-ranked sentences are selected to form the summary.\n",
    "        \n",
    "        The length of the summary can be controlled in two ways:\n",
    "        1. Automatically: Where the model summarizes to approximately 20% of the original text's sentence count.\n",
    "        2. User-defined: By specifying the 'summary_length' parameter in the 'params' dictionary when calling the 'predict' method.\n",
    "        \n",
    "        \"\"\"\n",
    "        return self.description.__doc__\n",
    "\n"
   ]
  },
  {
   "attachments": {},
   "cell_type": "markdown",
   "metadata": {},
   "source": [
    "## 2. Load Data"
   ]
  },
  {
   "attachments": {},
   "cell_type": "markdown",
   "metadata": {},
   "source": [
    "In this section, we'll load the financial dataset, which will be the foundation for our summarization analysis tasks. \n",
    "\n",
    "The dataset is structured with several columns, namely \"ID\", \"topic\", \"input\", and \"reference_summary\". Each record is identified by a unique \"ID\". The \"topic\" column specifies the category or theme of the news, the \"input\" column contains detailed articles or news content, and the \"reference_summary\" provides a concise summary of the respective article in the \"input\". The dataset sources its content from BBC news."
   ]
  },
  {
   "cell_type": "code",
   "execution_count": 20,
   "metadata": {},
   "outputs": [
    {
     "data": {
      "text/html": [
       "<table>\n",
       "<thead>\n",
       "<tr><th style=\"text-align: right;\">  ID</th><th>topic   </th><th>input  </th><th>reference_summary  </th></tr>\n",
       "</thead>\n",
       "<tbody>\n",
       "<tr><td style=\"text-align: right;\">   1</td><td>business</td><td>Ad sales boost Time Warner profit\n",
       "\n",
       "Quarterly profits at US media giant TimeWarner\n",
       "jumped 76% to $1.13bn (£600m) for the three months\n",
       "to December, from $639m year-earlier.\n",
       "\n",
       "The firm, which is now one of the biggest\n",
       "investors in Google, benefited from sales of high-\n",
       "speed internet connections and higher advert\n",
       "sales. TimeWarner said fourth quarter sales rose\n",
       "2% to $11.1bn from $10.9bn. Its profits were\n",
       "buoyed by one-off gains which offset a profit dip\n",
       "at Warner Bros, and less users for AOL.\n",
       "\n",
       "Time Warner said on Friday that it now owns 8% of\n",
       "search-engine Google. But its own internet\n",
       "business, AOL, had has mixed fortunes. It lost\n",
       "464,000 subscribers in the fourth quarter profits\n",
       "were lower than in the preceding three quarters.\n",
       "However, the company said AOL&#x27;s underlying profit\n",
       "before exceptional items rose 8% on the back of\n",
       "stronger internet advertising revenues. It hopes\n",
       "to increase subscribers by offering the online\n",
       "service free to TimeWarner internet customers and\n",
       "will try to sign up AOL&#x27;s existing customers for\n",
       "high-speed broadband. TimeWarner also has to\n",
       "restate 2000 and 2003 results following a probe by\n",
       "the US Securities Exchange Commission (SEC), which\n",
       "is close to concluding.\n",
       "\n",
       "Time Warner&#x27;s fourth quarter profits were slightly\n",
       "better than analysts&#x27; expectations. But its film\n",
       "division saw profits slump 27% to $284m, helped by\n",
       "box-office flops Alexander and Catwoman, a sharp\n",
       "contrast to year-earlier, when the third and final\n",
       "film in the Lord of the Rings trilogy boosted\n",
       "results. For the full-year, TimeWarner posted a\n",
       "profit of $3.36bn, up 27% from its 2003\n",
       "performance, while revenues grew 6.4% to $42.09bn.\n",
       "&quot;Our financial performance was strong, meeting or\n",
       "exceeding all of our full-year objectives and\n",
       "greatly enhancing our flexibility,&quot; chairman and\n",
       "chief executive Richard Parsons said. For 2005,\n",
       "TimeWarner is projecting operating earnings growth\n",
       "of around 5%, and also expects higher revenue and\n",
       "wider profit margins.\n",
       "\n",
       "TimeWarner is to restate its accounts as part of\n",
       "efforts to resolve an inquiry into AOL by US\n",
       "market regulators. It has already offered to pay\n",
       "$300m to settle charges, in a deal that is under\n",
       "review by the SEC. The company said it was unable\n",
       "to estimate the amount it needed to set aside for\n",
       "legal reserves, which it previously set at $500m.\n",
       "It intends to adjust the way it accounts for a\n",
       "deal with German music publisher Bertelsmann&#x27;s\n",
       "purchase of a stake in AOL Europe, which it had\n",
       "reported as advertising revenue. It will now book\n",
       "the sale of its stake in AOL Europe as a loss on\n",
       "the value of that stake.        </td><td>The firm, which is now one of the biggest\n",
       "investors in Google, benefited from sales of high-\n",
       "speed internet connections and higher advert\n",
       "sales. TimeWarner said fourth quarter sales rose\n",
       "2% to $11.1bn from $10.9bn. Its profits were\n",
       "buoyed by one-off gains which offset a profit dip\n",
       "at Warner Bros, and less users for AOL. Quarterly\n",
       "profits at US media giant TimeWarner jumped 76% to\n",
       "$1.13bn (£600m) for the three months to December,\n",
       "from $639m year-earlier. Ad sales boost Time\n",
       "Warner profit                    </td></tr>\n",
       "<tr><td style=\"text-align: right;\">   2</td><td>business</td><td>Dollar gains on Greenspan speech\n",
       "\n",
       "The dollar has hit its highest level against the\n",
       "euro in almost three months after the Federal\n",
       "Reserve head said the US trade deficit is set to\n",
       "stabilise.\n",
       "\n",
       "And Alan Greenspan highlighted the US government&#x27;s\n",
       "willingness to curb spending and rising household\n",
       "savings as factors which may help to reduce it. In\n",
       "late trading in New York, the dollar reached\n",
       "$1.2871 against the euro, from $1.2974 on\n",
       "Thursday. Market concerns about the deficit has\n",
       "hit the greenback in recent months. On Friday,\n",
       "Federal Reserve chairman Mr Greenspan&#x27;s speech in\n",
       "London ahead of the meeting of G7 finance\n",
       "ministers sent the dollar higher after it had\n",
       "earlier tumbled on the back of worse-than-expected\n",
       "US jobs data. &quot;I think the chairman&#x27;s taking a\n",
       "much more sanguine view on the current account\n",
       "deficit than he&#x27;s taken for some time,&quot; said\n",
       "Robert Sinche, head of currency strategy at Bank\n",
       "of America in New York. &quot;He&#x27;s taking a longer-term\n",
       "view, laying out a set of conditions under which\n",
       "the current account deficit can improve this year\n",
       "and next.&quot;\n",
       "\n",
       "Worries about the deficit concerns about China do,\n",
       "however, remain. China&#x27;s currency remains pegged\n",
       "to the dollar and the US currency&#x27;s sharp falls in\n",
       "recent months have therefore made Chinese export\n",
       "prices highly competitive. But calls for a shift\n",
       "in Beijing&#x27;s policy have fallen on deaf ears,\n",
       "despite recent comments in a major Chinese\n",
       "newspaper that the &quot;time is ripe&quot; for a loosening\n",
       "of the peg. The G7 meeting is thought unlikely to\n",
       "produce any meaningful movement in Chinese policy.\n",
       "In the meantime, the US Federal Reserve&#x27;s decision\n",
       "on 2 February to boost interest rates by a quarter\n",
       "of a point - the sixth such move in as many months\n",
       "- has opened up a differential with European\n",
       "rates. The half-point window, some believe, could\n",
       "be enough to keep US assets looking more\n",
       "attractive, and could help prop up the dollar. The\n",
       "recent falls have partly been the result of big\n",
       "budget deficits, as well as the US&#x27;s yawning\n",
       "current account gap, both of which need to be\n",
       "funded by the buying of US bonds and assets by\n",
       "foreign firms and governments. The White House\n",
       "will announce its budget on Monday, and many\n",
       "commentators believe the deficit will remain at\n",
       "close to half a trillion dollars.        </td><td>The dollar has hit its highest level against the\n",
       "euro in almost three months after the Federal\n",
       "Reserve head said the US trade deficit is set to\n",
       "stabilise. Dollar gains on Greenspan speech                    </td></tr>\n",
       "</tbody>\n",
       "</table>"
      ],
      "text/plain": [
       "<IPython.core.display.HTML object>"
      ]
     },
     "metadata": {},
     "output_type": "display_data"
    }
   ],
   "source": [
    "df_summarization = load_text_data(\n",
    "    filepath='./datasets/bbc_text_cls_reference.csv', \n",
    "    num_records=5\n",
    ")\n",
    "\n",
    "display_nice(df_summarization, num_rows=2)"
   ]
  },
  {
   "attachments": {},
   "cell_type": "markdown",
   "metadata": {},
   "source": [
    "## 3. Extractive Summarization: Hugging Face-BERT Model"
   ]
  },
  {
   "attachments": {},
   "cell_type": "markdown",
   "metadata": {},
   "source": [
    "Extractive summarization is a technique used to produce a summary by selecting and extracting whole sentences or passages from the source document without modifying the original content. Essentially, it identifies and \"extracts\" the most important and relevant information from the larger text to create a condensed version."
   ]
  },
  {
   "cell_type": "code",
   "execution_count": 21,
   "metadata": {},
   "outputs": [],
   "source": [
    "model = BertModel.from_pretrained(\"bert-base-uncased\")  \n",
    "tokenizer = BertTokenizer.from_pretrained(\"bert-base-uncased\")\n",
    "extractive_model = ExtractiveSummarization_BERT(model=model, tokenizer=tokenizer)"
   ]
  },
  {
   "cell_type": "code",
   "execution_count": 22,
   "metadata": {},
   "outputs": [
    {
     "data": {
      "text/html": [
       "<table>\n",
       "<thead>\n",
       "<tr><th style=\"text-align: right;\">  ID</th><th>topic   </th><th>input  </th><th>reference_summary  </th><th>extractive_summary  </th></tr>\n",
       "</thead>\n",
       "<tbody>\n",
       "<tr><td style=\"text-align: right;\">   1</td><td>business</td><td>Ad sales boost Time Warner profit\n",
       "\n",
       "Quarterly profits at US media giant TimeWarner\n",
       "jumped 76% to $1.13bn (£600m) for the three months\n",
       "to December, from $639m year-earlier.\n",
       "\n",
       "The firm, which is now one of the biggest\n",
       "investors in Google, benefited from sales of high-\n",
       "speed internet connections and higher advert\n",
       "sales. TimeWarner said fourth quarter sales rose\n",
       "2% to $11.1bn from $10.9bn. Its profits were\n",
       "buoyed by one-off gains which offset a profit dip\n",
       "at Warner Bros, and less users for AOL.\n",
       "\n",
       "Time Warner said on Friday that it now owns 8% of\n",
       "search-engine Google. But its own internet\n",
       "business, AOL, had has mixed fortunes. It lost\n",
       "464,000 subscribers in the fourth quarter profits\n",
       "were lower than in the preceding three quarters.\n",
       "However, the company said AOL&#x27;s underlying profit\n",
       "before exceptional items rose 8% on the back of\n",
       "stronger internet advertising revenues. It hopes\n",
       "to increase subscribers by offering the online\n",
       "service free to TimeWarner internet customers and\n",
       "will try to sign up AOL&#x27;s existing customers for\n",
       "high-speed broadband. TimeWarner also has to\n",
       "restate 2000 and 2003 results following a probe by\n",
       "the US Securities Exchange Commission (SEC), which\n",
       "is close to concluding.\n",
       "\n",
       "Time Warner&#x27;s fourth quarter profits were slightly\n",
       "better than analysts&#x27; expectations. But its film\n",
       "division saw profits slump 27% to $284m, helped by\n",
       "box-office flops Alexander and Catwoman, a sharp\n",
       "contrast to year-earlier, when the third and final\n",
       "film in the Lord of the Rings trilogy boosted\n",
       "results. For the full-year, TimeWarner posted a\n",
       "profit of $3.36bn, up 27% from its 2003\n",
       "performance, while revenues grew 6.4% to $42.09bn.\n",
       "&quot;Our financial performance was strong, meeting or\n",
       "exceeding all of our full-year objectives and\n",
       "greatly enhancing our flexibility,&quot; chairman and\n",
       "chief executive Richard Parsons said. For 2005,\n",
       "TimeWarner is projecting operating earnings growth\n",
       "of around 5%, and also expects higher revenue and\n",
       "wider profit margins.\n",
       "\n",
       "TimeWarner is to restate its accounts as part of\n",
       "efforts to resolve an inquiry into AOL by US\n",
       "market regulators. It has already offered to pay\n",
       "$300m to settle charges, in a deal that is under\n",
       "review by the SEC. The company said it was unable\n",
       "to estimate the amount it needed to set aside for\n",
       "legal reserves, which it previously set at $500m.\n",
       "It intends to adjust the way it accounts for a\n",
       "deal with German music publisher Bertelsmann&#x27;s\n",
       "purchase of a stake in AOL Europe, which it had\n",
       "reported as advertising revenue. It will now book\n",
       "the sale of its stake in AOL Europe as a loss on\n",
       "the value of that stake.        </td><td>The firm, which is now one of the biggest\n",
       "investors in Google, benefited from sales of high-\n",
       "speed internet connections and higher advert\n",
       "sales. TimeWarner said fourth quarter sales rose\n",
       "2% to $11.1bn from $10.9bn. Its profits were\n",
       "buoyed by one-off gains which offset a profit dip\n",
       "at Warner Bros, and less users for AOL. Quarterly\n",
       "profits at US media giant TimeWarner jumped 76% to\n",
       "$1.13bn (£600m) for the three months to December,\n",
       "from $639m year-earlier. Ad sales boost Time\n",
       "Warner profit                    </td><td>Ad sales boost Time Warner profit\n",
       "\n",
       "Quarterly profits at US media giant TimeWarner\n",
       "jumped 76% to $1.13bn (£600m) for the three months\n",
       "to December, from $639m year-earlier.\n",
       "\n",
       "The firm, which is now one of the biggest\n",
       "investors in Google, benefited from sales of high-\n",
       "speed internet connections and higher advert sales\n",
       "For 2005, TimeWarner is projecting operating\n",
       "earnings growth of around 5%, and also expects\n",
       "higher revenue and wider profit margins.\n",
       "\n",
       "TimeWarner is to restate its accounts as part of\n",
       "efforts to resolve an inquiry into AOL by US\n",
       "market regulators TimeWarner also has to restate\n",
       "2000 and 2003 results following a probe by the US\n",
       "Securities Exchange Commission (SEC), which is\n",
       "close to concluding.\n",
       "\n",
       "Time Warner&#x27;s fourth quarter profits were slightly\n",
       "better than analysts&#x27; expectations                     </td></tr>\n",
       "<tr><td style=\"text-align: right;\">   2</td><td>business</td><td>Dollar gains on Greenspan speech\n",
       "\n",
       "The dollar has hit its highest level against the\n",
       "euro in almost three months after the Federal\n",
       "Reserve head said the US trade deficit is set to\n",
       "stabilise.\n",
       "\n",
       "And Alan Greenspan highlighted the US government&#x27;s\n",
       "willingness to curb spending and rising household\n",
       "savings as factors which may help to reduce it. In\n",
       "late trading in New York, the dollar reached\n",
       "$1.2871 against the euro, from $1.2974 on\n",
       "Thursday. Market concerns about the deficit has\n",
       "hit the greenback in recent months. On Friday,\n",
       "Federal Reserve chairman Mr Greenspan&#x27;s speech in\n",
       "London ahead of the meeting of G7 finance\n",
       "ministers sent the dollar higher after it had\n",
       "earlier tumbled on the back of worse-than-expected\n",
       "US jobs data. &quot;I think the chairman&#x27;s taking a\n",
       "much more sanguine view on the current account\n",
       "deficit than he&#x27;s taken for some time,&quot; said\n",
       "Robert Sinche, head of currency strategy at Bank\n",
       "of America in New York. &quot;He&#x27;s taking a longer-term\n",
       "view, laying out a set of conditions under which\n",
       "the current account deficit can improve this year\n",
       "and next.&quot;\n",
       "\n",
       "Worries about the deficit concerns about China do,\n",
       "however, remain. China&#x27;s currency remains pegged\n",
       "to the dollar and the US currency&#x27;s sharp falls in\n",
       "recent months have therefore made Chinese export\n",
       "prices highly competitive. But calls for a shift\n",
       "in Beijing&#x27;s policy have fallen on deaf ears,\n",
       "despite recent comments in a major Chinese\n",
       "newspaper that the &quot;time is ripe&quot; for a loosening\n",
       "of the peg. The G7 meeting is thought unlikely to\n",
       "produce any meaningful movement in Chinese policy.\n",
       "In the meantime, the US Federal Reserve&#x27;s decision\n",
       "on 2 February to boost interest rates by a quarter\n",
       "of a point - the sixth such move in as many months\n",
       "- has opened up a differential with European\n",
       "rates. The half-point window, some believe, could\n",
       "be enough to keep US assets looking more\n",
       "attractive, and could help prop up the dollar. The\n",
       "recent falls have partly been the result of big\n",
       "budget deficits, as well as the US&#x27;s yawning\n",
       "current account gap, both of which need to be\n",
       "funded by the buying of US bonds and assets by\n",
       "foreign firms and governments. The White House\n",
       "will announce its budget on Monday, and many\n",
       "commentators believe the deficit will remain at\n",
       "close to half a trillion dollars.        </td><td>The dollar has hit its highest level against the\n",
       "euro in almost three months after the Federal\n",
       "Reserve head said the US trade deficit is set to\n",
       "stabilise. Dollar gains on Greenspan speech                    </td><td>Dollar gains on Greenspan speech\n",
       "\n",
       "The dollar has hit its highest level against the\n",
       "euro in almost three months after the Federal\n",
       "Reserve head said the US trade deficit is set to\n",
       "stabilise.\n",
       "\n",
       "And Alan Greenspan highlighted the US government&#x27;s\n",
       "willingness to curb spending and rising household\n",
       "savings as factors which may help to reduce it In\n",
       "the meantime, the US Federal Reserve&#x27;s decision on\n",
       "2 February to boost interest rates by a quarter of\n",
       "a point - the sixth such move in as many months -\n",
       "has opened up a differential with European rates                     </td></tr>\n",
       "</tbody>\n",
       "</table>"
      ],
      "text/plain": [
       "<IPython.core.display.HTML object>"
      ]
     },
     "metadata": {},
     "output_type": "display_data"
    }
   ],
   "source": [
    "data = df_summarization.input.values.tolist()\n",
    "\n",
    "params = {\n",
    "    \"summary_length\": None,\n",
    "}\n",
    "\n",
    "extractive_summary = extractive_model.predict(data, params)\n",
    "\n",
    "df_summarization = add_list_to_df(\n",
    "    df = df_summarization, \n",
    "    column_data = extractive_summary,\n",
    "    column_name = \"extractive_summary\"\n",
    ")\n",
    "\n",
    "display_nice(df_summarization, num_rows=2)"
   ]
  },
  {
   "attachments": {},
   "cell_type": "markdown",
   "metadata": {},
   "source": [
    "## 4. Abstract Summarization: Hugging Face-T5 Model"
   ]
  },
  {
   "attachments": {},
   "cell_type": "markdown",
   "metadata": {},
   "source": [
    "Abstractive summarization is a technique used to produce a summary by understanding the main ideas of a source document and then expressing those ideas in a concise manner using new words and sentences, often not present in the original text. Instead of just extracting and repurposing existing sentences from the document, as is done in extractive summarization, abstractive summarization aims to capture the essence or meaning of the content and convey it in a shorter form."
   ]
  },
  {
   "cell_type": "code",
   "execution_count": 23,
   "metadata": {},
   "outputs": [
    {
     "name": "stderr",
     "output_type": "stream",
     "text": [
      "You are using the default legacy behaviour of the <class 'transformers.models.t5.tokenization_t5.T5Tokenizer'>. If you see this, DO NOT PANIC! This is expected, and simply means that the `legacy` (previous) behavior will be used so nothing changes for you. If you want to use the new behaviour, set `legacy=True`. This should only be set if you understand what it means, and thouroughly read the reason why this was added as explained in https://github.com/huggingface/transformers/pull/24565\n"
     ]
    }
   ],
   "source": [
    "from transformers import T5Tokenizer, T5ForConditionalGeneration\n",
    "\n",
    "tokenizer = T5Tokenizer.from_pretrained(\"t5-small\")\n",
    "model = T5ForConditionalGeneration.from_pretrained(\"t5-small\")\n",
    "abstract_model = AbstractSummarization_HuggingFace(model=model, tokenizer=tokenizer)"
   ]
  },
  {
   "cell_type": "code",
   "execution_count": 24,
   "metadata": {},
   "outputs": [
    {
     "name": "stderr",
     "output_type": "stream",
     "text": [
      "Token indices sequence length is longer than the specified maximum sequence length for this model (596 > 512). Running this sequence through the model will result in indexing errors\n"
     ]
    },
    {
     "data": {
      "text/html": [
       "<table>\n",
       "<thead>\n",
       "<tr><th style=\"text-align: right;\">  ID</th><th>topic   </th><th>input  </th><th>reference_summary  </th><th>extractive_summary  </th><th>abstract_summary  </th></tr>\n",
       "</thead>\n",
       "<tbody>\n",
       "<tr><td style=\"text-align: right;\">   1</td><td>business</td><td>Ad sales boost Time Warner profit\n",
       "\n",
       "Quarterly profits at US media giant TimeWarner\n",
       "jumped 76% to $1.13bn (£600m) for the three months\n",
       "to December, from $639m year-earlier.\n",
       "\n",
       "The firm, which is now one of the biggest\n",
       "investors in Google, benefited from sales of high-\n",
       "speed internet connections and higher advert\n",
       "sales. TimeWarner said fourth quarter sales rose\n",
       "2% to $11.1bn from $10.9bn. Its profits were\n",
       "buoyed by one-off gains which offset a profit dip\n",
       "at Warner Bros, and less users for AOL.\n",
       "\n",
       "Time Warner said on Friday that it now owns 8% of\n",
       "search-engine Google. But its own internet\n",
       "business, AOL, had has mixed fortunes. It lost\n",
       "464,000 subscribers in the fourth quarter profits\n",
       "were lower than in the preceding three quarters.\n",
       "However, the company said AOL&#x27;s underlying profit\n",
       "before exceptional items rose 8% on the back of\n",
       "stronger internet advertising revenues. It hopes\n",
       "to increase subscribers by offering the online\n",
       "service free to TimeWarner internet customers and\n",
       "will try to sign up AOL&#x27;s existing customers for\n",
       "high-speed broadband. TimeWarner also has to\n",
       "restate 2000 and 2003 results following a probe by\n",
       "the US Securities Exchange Commission (SEC), which\n",
       "is close to concluding.\n",
       "\n",
       "Time Warner&#x27;s fourth quarter profits were slightly\n",
       "better than analysts&#x27; expectations. But its film\n",
       "division saw profits slump 27% to $284m, helped by\n",
       "box-office flops Alexander and Catwoman, a sharp\n",
       "contrast to year-earlier, when the third and final\n",
       "film in the Lord of the Rings trilogy boosted\n",
       "results. For the full-year, TimeWarner posted a\n",
       "profit of $3.36bn, up 27% from its 2003\n",
       "performance, while revenues grew 6.4% to $42.09bn.\n",
       "&quot;Our financial performance was strong, meeting or\n",
       "exceeding all of our full-year objectives and\n",
       "greatly enhancing our flexibility,&quot; chairman and\n",
       "chief executive Richard Parsons said. For 2005,\n",
       "TimeWarner is projecting operating earnings growth\n",
       "of around 5%, and also expects higher revenue and\n",
       "wider profit margins.\n",
       "\n",
       "TimeWarner is to restate its accounts as part of\n",
       "efforts to resolve an inquiry into AOL by US\n",
       "market regulators. It has already offered to pay\n",
       "$300m to settle charges, in a deal that is under\n",
       "review by the SEC. The company said it was unable\n",
       "to estimate the amount it needed to set aside for\n",
       "legal reserves, which it previously set at $500m.\n",
       "It intends to adjust the way it accounts for a\n",
       "deal with German music publisher Bertelsmann&#x27;s\n",
       "purchase of a stake in AOL Europe, which it had\n",
       "reported as advertising revenue. It will now book\n",
       "the sale of its stake in AOL Europe as a loss on\n",
       "the value of that stake.        </td><td>The firm, which is now one of the biggest\n",
       "investors in Google, benefited from sales of high-\n",
       "speed internet connections and higher advert\n",
       "sales. TimeWarner said fourth quarter sales rose\n",
       "2% to $11.1bn from $10.9bn. Its profits were\n",
       "buoyed by one-off gains which offset a profit dip\n",
       "at Warner Bros, and less users for AOL. Quarterly\n",
       "profits at US media giant TimeWarner jumped 76% to\n",
       "$1.13bn (£600m) for the three months to December,\n",
       "from $639m year-earlier. Ad sales boost Time\n",
       "Warner profit                    </td><td>Ad sales boost Time Warner profit\n",
       "\n",
       "Quarterly profits at US media giant TimeWarner\n",
       "jumped 76% to $1.13bn (£600m) for the three months\n",
       "to December, from $639m year-earlier.\n",
       "\n",
       "The firm, which is now one of the biggest\n",
       "investors in Google, benefited from sales of high-\n",
       "speed internet connections and higher advert sales\n",
       "For 2005, TimeWarner is projecting operating\n",
       "earnings growth of around 5%, and also expects\n",
       "higher revenue and wider profit margins.\n",
       "\n",
       "TimeWarner is to restate its accounts as part of\n",
       "efforts to resolve an inquiry into AOL by US\n",
       "market regulators TimeWarner also has to restate\n",
       "2000 and 2003 results following a probe by the US\n",
       "Securities Exchange Commission (SEC), which is\n",
       "close to concluding.\n",
       "\n",
       "Time Warner&#x27;s fourth quarter profits were slightly\n",
       "better than analysts&#x27; expectations                     </td><td>time Warner profits jumped 76% to $1.13bn (£600m)\n",
       "for the three months to December . it said fourth\n",
       "quarter sales rose 2% to $11.1bn from $10.9bn .\n",
       "its profits were buoyed by one-off gains which\n",
       "offset a profit dip .                   </td></tr>\n",
       "<tr><td style=\"text-align: right;\">   2</td><td>business</td><td>Dollar gains on Greenspan speech\n",
       "\n",
       "The dollar has hit its highest level against the\n",
       "euro in almost three months after the Federal\n",
       "Reserve head said the US trade deficit is set to\n",
       "stabilise.\n",
       "\n",
       "And Alan Greenspan highlighted the US government&#x27;s\n",
       "willingness to curb spending and rising household\n",
       "savings as factors which may help to reduce it. In\n",
       "late trading in New York, the dollar reached\n",
       "$1.2871 against the euro, from $1.2974 on\n",
       "Thursday. Market concerns about the deficit has\n",
       "hit the greenback in recent months. On Friday,\n",
       "Federal Reserve chairman Mr Greenspan&#x27;s speech in\n",
       "London ahead of the meeting of G7 finance\n",
       "ministers sent the dollar higher after it had\n",
       "earlier tumbled on the back of worse-than-expected\n",
       "US jobs data. &quot;I think the chairman&#x27;s taking a\n",
       "much more sanguine view on the current account\n",
       "deficit than he&#x27;s taken for some time,&quot; said\n",
       "Robert Sinche, head of currency strategy at Bank\n",
       "of America in New York. &quot;He&#x27;s taking a longer-term\n",
       "view, laying out a set of conditions under which\n",
       "the current account deficit can improve this year\n",
       "and next.&quot;\n",
       "\n",
       "Worries about the deficit concerns about China do,\n",
       "however, remain. China&#x27;s currency remains pegged\n",
       "to the dollar and the US currency&#x27;s sharp falls in\n",
       "recent months have therefore made Chinese export\n",
       "prices highly competitive. But calls for a shift\n",
       "in Beijing&#x27;s policy have fallen on deaf ears,\n",
       "despite recent comments in a major Chinese\n",
       "newspaper that the &quot;time is ripe&quot; for a loosening\n",
       "of the peg. The G7 meeting is thought unlikely to\n",
       "produce any meaningful movement in Chinese policy.\n",
       "In the meantime, the US Federal Reserve&#x27;s decision\n",
       "on 2 February to boost interest rates by a quarter\n",
       "of a point - the sixth such move in as many months\n",
       "- has opened up a differential with European\n",
       "rates. The half-point window, some believe, could\n",
       "be enough to keep US assets looking more\n",
       "attractive, and could help prop up the dollar. The\n",
       "recent falls have partly been the result of big\n",
       "budget deficits, as well as the US&#x27;s yawning\n",
       "current account gap, both of which need to be\n",
       "funded by the buying of US bonds and assets by\n",
       "foreign firms and governments. The White House\n",
       "will announce its budget on Monday, and many\n",
       "commentators believe the deficit will remain at\n",
       "close to half a trillion dollars.        </td><td>The dollar has hit its highest level against the\n",
       "euro in almost three months after the Federal\n",
       "Reserve head said the US trade deficit is set to\n",
       "stabilise. Dollar gains on Greenspan speech                    </td><td>Dollar gains on Greenspan speech\n",
       "\n",
       "The dollar has hit its highest level against the\n",
       "euro in almost three months after the Federal\n",
       "Reserve head said the US trade deficit is set to\n",
       "stabilise.\n",
       "\n",
       "And Alan Greenspan highlighted the US government&#x27;s\n",
       "willingness to curb spending and rising household\n",
       "savings as factors which may help to reduce it In\n",
       "the meantime, the US Federal Reserve&#x27;s decision on\n",
       "2 February to boost interest rates by a quarter of\n",
       "a point - the sixth such move in as many months -\n",
       "has opened up a differential with European rates                     </td><td>in late trading in new york, the dollar reached\n",
       "$1.2871 against the euro, from $1.2974 on Thursday\n",
       ". the u.s. government&#x27;s willingness to curb\n",
       "spending and rising household savings may help to\n",
       "reduce it . concerns about the current account\n",
       "deficit have hit the greenback in recent months .                   </td></tr>\n",
       "</tbody>\n",
       "</table>"
      ],
      "text/plain": [
       "<IPython.core.display.HTML object>"
      ]
     },
     "metadata": {},
     "output_type": "display_data"
    }
   ],
   "source": [
    "data = df_summarization.input.values.tolist()\n",
    "\n",
    "params = {\n",
    "    \"summary_length\": None\n",
    "}\n",
    "\n",
    "abstract_summary = abstract_model.predict(data, params)\n",
    "\n",
    "df_summarization = add_list_to_df(\n",
    "    df = df_summarization, \n",
    "    column_data = abstract_summary,\n",
    "    column_name = \"abstract_summary\"\n",
    ")\n",
    "\n",
    "display_nice(df_summarization, num_rows=2)"
   ]
  },
  {
   "attachments": {},
   "cell_type": "markdown",
   "metadata": {},
   "source": [
    "## 5. Validation"
   ]
  },
  {
   "attachments": {},
   "cell_type": "markdown",
   "metadata": {},
   "source": [
    "### Data Description Metrics"
   ]
  },
  {
   "attachments": {},
   "cell_type": "markdown",
   "metadata": {},
   "source": [
    "##### Text Description Table"
   ]
  },
  {
   "attachments": {},
   "cell_type": "markdown",
   "metadata": {},
   "source": [
    "- Total Words: Assess the length and complexity of the input text. Longer documents might require more sophisticated summarization techniques, while shorter ones may need more concise summaries.\n",
    "\n",
    "- Total Sentences: Understand the structural makeup of the content. Longer texts with numerous sentences might require the model to generate longer summaries to capture essential information.\n",
    "\n",
    "- Avg Sentence Length: Determine the average length of sentences in the text. This can help the model decide on the appropriate length for generated summaries, ensuring they are coherent and readable.\n",
    "\n",
    "- Total Paragraphs: Analyze how the content is organized into paragraphs. The model should be able to maintain the logical structure of the content when producing summaries.\n",
    "\n",
    "- Total Unique Words: Measure the diversity of vocabulary in the text. A higher count of unique words could indicate more complex content, which the model needs to capture accurately.\n",
    "\n",
    "- Most Common Words: Identify frequently occurring words that likely represent key themes. The model should pay special attention to including these words and concepts in its summaries.\n",
    "\n",
    "- Total Punctuations: Evaluate the usage of punctuation marks, which contribute to the tone and structure of the content. The model should be able to maintain appropriate punctuation in summaries.\n",
    "\n",
    "- Lexical Diversity: Calculate the richness of vocabulary in relation to the overall text length. A higher lexical diversity suggests a broader range of ideas and concepts that the model needs to capture in its summaries."
   ]
  },
  {
   "cell_type": "code",
   "execution_count": 25,
   "metadata": {},
   "outputs": [
    {
     "data": {
      "text/html": [
       "<div>\n",
       "<style scoped>\n",
       "    .dataframe tbody tr th:only-of-type {\n",
       "        vertical-align: middle;\n",
       "    }\n",
       "\n",
       "    .dataframe tbody tr th {\n",
       "        vertical-align: top;\n",
       "    }\n",
       "\n",
       "    .dataframe thead th {\n",
       "        text-align: right;\n",
       "    }\n",
       "</style>\n",
       "<table border=\"1\" class=\"dataframe\">\n",
       "  <thead>\n",
       "    <tr style=\"text-align: right;\">\n",
       "      <th></th>\n",
       "      <th>Total Words</th>\n",
       "      <th>Total Sentences</th>\n",
       "      <th>Avg Sentence Length</th>\n",
       "      <th>Total Paragraphs</th>\n",
       "      <th>Total Unique Words</th>\n",
       "      <th>Total Punctuations</th>\n",
       "      <th>Lexical Diversity</th>\n",
       "    </tr>\n",
       "  </thead>\n",
       "  <tbody>\n",
       "    <tr>\n",
       "      <th>0</th>\n",
       "      <td>490</td>\n",
       "      <td>20</td>\n",
       "      <td>21.1</td>\n",
       "      <td>6</td>\n",
       "      <td>187</td>\n",
       "      <td>63</td>\n",
       "      <td>0.7</td>\n",
       "    </tr>\n",
       "    <tr>\n",
       "      <th>1</th>\n",
       "      <td>433</td>\n",
       "      <td>15</td>\n",
       "      <td>25.6</td>\n",
       "      <td>4</td>\n",
       "      <td>163</td>\n",
       "      <td>35</td>\n",
       "      <td>0.8</td>\n",
       "    </tr>\n",
       "    <tr>\n",
       "      <th>2</th>\n",
       "      <td>294</td>\n",
       "      <td>12</td>\n",
       "      <td>22.0</td>\n",
       "      <td>4</td>\n",
       "      <td>116</td>\n",
       "      <td>24</td>\n",
       "      <td>0.7</td>\n",
       "    </tr>\n",
       "    <tr>\n",
       "      <th>3</th>\n",
       "      <td>472</td>\n",
       "      <td>19</td>\n",
       "      <td>21.4</td>\n",
       "      <td>6</td>\n",
       "      <td>203</td>\n",
       "      <td>53</td>\n",
       "      <td>0.8</td>\n",
       "    </tr>\n",
       "    <tr>\n",
       "      <th>4</th>\n",
       "      <td>306</td>\n",
       "      <td>12</td>\n",
       "      <td>22.1</td>\n",
       "      <td>4</td>\n",
       "      <td>132</td>\n",
       "      <td>38</td>\n",
       "      <td>0.8</td>\n",
       "    </tr>\n",
       "  </tbody>\n",
       "</table>\n",
       "</div>"
      ],
      "text/plain": [
       "   Total Words  Total Sentences  Avg Sentence Length  Total Paragraphs  \\\n",
       "0          490               20                 21.1                 6   \n",
       "1          433               15                 25.6                 4   \n",
       "2          294               12                 22.0                 4   \n",
       "3          472               19                 21.4                 6   \n",
       "4          306               12                 22.1                 4   \n",
       "\n",
       "   Total Unique Words  Total Punctuations  Lexical Diversity  \n",
       "0                 187                  63                0.7  \n",
       "1                 163                  35                0.8  \n",
       "2                 116                  24                0.7  \n",
       "3                 203                  53                0.8  \n",
       "4                 132                  38                0.8  "
      ]
     },
     "metadata": {},
     "output_type": "display_data"
    }
   ],
   "source": [
    "params = {\n",
    "    \"text_column\": \"input\",\n",
    "    \"unwanted_tokens\": {'s', 's\\'', 'mr', 'ms', 'mrs', 'dr', '\\'s', ' ', \"''\", 'dollar', 'us', '``'},\n",
    "    \"lang\": \"english\"\n",
    "}\n",
    "\n",
    "df_text_description = text_description_table(df_summarization, params)\n",
    "display(df_text_description)"
   ]
  },
  {
   "attachments": {},
   "cell_type": "markdown",
   "metadata": {},
   "source": [
    "##### Text Description Histogram"
   ]
  },
  {
   "cell_type": "code",
   "execution_count": 31,
   "metadata": {},
   "outputs": [
    {
     "data": {
      "application/vnd.plotly.v1+json": {
       "config": {
        "plotlyServerURL": "https://plot.ly"
       },
       "data": [
        {
         "name": "Total Words",
         "type": "histogram",
         "x": [
          490,
          433,
          294,
          472,
          306
         ],
         "xaxis": "x",
         "yaxis": "y"
        },
        {
         "name": "Total Sentences",
         "type": "histogram",
         "x": [
          20,
          15,
          12,
          19,
          12
         ],
         "xaxis": "x2",
         "yaxis": "y2"
        },
        {
         "name": "Avg Sentence Length",
         "type": "histogram",
         "x": [
          21.1,
          25.6,
          22,
          21.4,
          22.1
         ],
         "xaxis": "x3",
         "yaxis": "y3"
        },
        {
         "name": "Total Paragraphs",
         "type": "histogram",
         "x": [
          6,
          4,
          4,
          6,
          4
         ],
         "xaxis": "x4",
         "yaxis": "y4"
        },
        {
         "name": "Total Unique Words",
         "type": "histogram",
         "x": [
          187,
          163,
          116,
          203,
          132
         ],
         "xaxis": "x5",
         "yaxis": "y5"
        },
        {
         "name": "Total Punctuations",
         "type": "histogram",
         "x": [
          63,
          35,
          24,
          53,
          38
         ],
         "xaxis": "x6",
         "yaxis": "y6"
        },
        {
         "name": "Lexical Diversity",
         "type": "histogram",
         "x": [
          0.7,
          0.8,
          0.7,
          0.8,
          0.8
         ],
         "xaxis": "x7",
         "yaxis": "y7"
        }
       ],
       "layout": {
        "annotations": [
         {
          "font": {
           "size": 16
          },
          "showarrow": false,
          "text": "Total Words",
          "x": 0.225,
          "xanchor": "center",
          "xref": "paper",
          "y": 1,
          "yanchor": "bottom",
          "yref": "paper"
         },
         {
          "font": {
           "size": 16
          },
          "showarrow": false,
          "text": "Total Sentences",
          "x": 0.775,
          "xanchor": "center",
          "xref": "paper",
          "y": 1,
          "yanchor": "bottom",
          "yref": "paper"
         },
         {
          "font": {
           "size": 16
          },
          "showarrow": false,
          "text": "Avg Sentence Length",
          "x": 0.225,
          "xanchor": "center",
          "xref": "paper",
          "y": 0.71875,
          "yanchor": "bottom",
          "yref": "paper"
         },
         {
          "font": {
           "size": 16
          },
          "showarrow": false,
          "text": "Total Paragraphs",
          "x": 0.775,
          "xanchor": "center",
          "xref": "paper",
          "y": 0.71875,
          "yanchor": "bottom",
          "yref": "paper"
         },
         {
          "font": {
           "size": 16
          },
          "showarrow": false,
          "text": "Total Unique Words",
          "x": 0.225,
          "xanchor": "center",
          "xref": "paper",
          "y": 0.4375,
          "yanchor": "bottom",
          "yref": "paper"
         },
         {
          "font": {
           "size": 16
          },
          "showarrow": false,
          "text": "Total Punctuations",
          "x": 0.775,
          "xanchor": "center",
          "xref": "paper",
          "y": 0.4375,
          "yanchor": "bottom",
          "yref": "paper"
         },
         {
          "font": {
           "size": 16
          },
          "showarrow": false,
          "text": "Lexical Diversity",
          "x": 0.225,
          "xanchor": "center",
          "xref": "paper",
          "y": 0.15625,
          "yanchor": "bottom",
          "yref": "paper"
         }
        ],
        "bargap": 0.2,
        "bargroupgap": 0.1,
        "height": 1600,
        "template": {
         "data": {
          "bar": [
           {
            "error_x": {
             "color": "#2a3f5f"
            },
            "error_y": {
             "color": "#2a3f5f"
            },
            "marker": {
             "line": {
              "color": "#E5ECF6",
              "width": 0.5
             },
             "pattern": {
              "fillmode": "overlay",
              "size": 10,
              "solidity": 0.2
             }
            },
            "type": "bar"
           }
          ],
          "barpolar": [
           {
            "marker": {
             "line": {
              "color": "#E5ECF6",
              "width": 0.5
             },
             "pattern": {
              "fillmode": "overlay",
              "size": 10,
              "solidity": 0.2
             }
            },
            "type": "barpolar"
           }
          ],
          "carpet": [
           {
            "aaxis": {
             "endlinecolor": "#2a3f5f",
             "gridcolor": "white",
             "linecolor": "white",
             "minorgridcolor": "white",
             "startlinecolor": "#2a3f5f"
            },
            "baxis": {
             "endlinecolor": "#2a3f5f",
             "gridcolor": "white",
             "linecolor": "white",
             "minorgridcolor": "white",
             "startlinecolor": "#2a3f5f"
            },
            "type": "carpet"
           }
          ],
          "choropleth": [
           {
            "colorbar": {
             "outlinewidth": 0,
             "ticks": ""
            },
            "type": "choropleth"
           }
          ],
          "contour": [
           {
            "colorbar": {
             "outlinewidth": 0,
             "ticks": ""
            },
            "colorscale": [
             [
              0,
              "#0d0887"
             ],
             [
              0.1111111111111111,
              "#46039f"
             ],
             [
              0.2222222222222222,
              "#7201a8"
             ],
             [
              0.3333333333333333,
              "#9c179e"
             ],
             [
              0.4444444444444444,
              "#bd3786"
             ],
             [
              0.5555555555555556,
              "#d8576b"
             ],
             [
              0.6666666666666666,
              "#ed7953"
             ],
             [
              0.7777777777777778,
              "#fb9f3a"
             ],
             [
              0.8888888888888888,
              "#fdca26"
             ],
             [
              1,
              "#f0f921"
             ]
            ],
            "type": "contour"
           }
          ],
          "contourcarpet": [
           {
            "colorbar": {
             "outlinewidth": 0,
             "ticks": ""
            },
            "type": "contourcarpet"
           }
          ],
          "heatmap": [
           {
            "colorbar": {
             "outlinewidth": 0,
             "ticks": ""
            },
            "colorscale": [
             [
              0,
              "#0d0887"
             ],
             [
              0.1111111111111111,
              "#46039f"
             ],
             [
              0.2222222222222222,
              "#7201a8"
             ],
             [
              0.3333333333333333,
              "#9c179e"
             ],
             [
              0.4444444444444444,
              "#bd3786"
             ],
             [
              0.5555555555555556,
              "#d8576b"
             ],
             [
              0.6666666666666666,
              "#ed7953"
             ],
             [
              0.7777777777777778,
              "#fb9f3a"
             ],
             [
              0.8888888888888888,
              "#fdca26"
             ],
             [
              1,
              "#f0f921"
             ]
            ],
            "type": "heatmap"
           }
          ],
          "heatmapgl": [
           {
            "colorbar": {
             "outlinewidth": 0,
             "ticks": ""
            },
            "colorscale": [
             [
              0,
              "#0d0887"
             ],
             [
              0.1111111111111111,
              "#46039f"
             ],
             [
              0.2222222222222222,
              "#7201a8"
             ],
             [
              0.3333333333333333,
              "#9c179e"
             ],
             [
              0.4444444444444444,
              "#bd3786"
             ],
             [
              0.5555555555555556,
              "#d8576b"
             ],
             [
              0.6666666666666666,
              "#ed7953"
             ],
             [
              0.7777777777777778,
              "#fb9f3a"
             ],
             [
              0.8888888888888888,
              "#fdca26"
             ],
             [
              1,
              "#f0f921"
             ]
            ],
            "type": "heatmapgl"
           }
          ],
          "histogram": [
           {
            "marker": {
             "pattern": {
              "fillmode": "overlay",
              "size": 10,
              "solidity": 0.2
             }
            },
            "type": "histogram"
           }
          ],
          "histogram2d": [
           {
            "colorbar": {
             "outlinewidth": 0,
             "ticks": ""
            },
            "colorscale": [
             [
              0,
              "#0d0887"
             ],
             [
              0.1111111111111111,
              "#46039f"
             ],
             [
              0.2222222222222222,
              "#7201a8"
             ],
             [
              0.3333333333333333,
              "#9c179e"
             ],
             [
              0.4444444444444444,
              "#bd3786"
             ],
             [
              0.5555555555555556,
              "#d8576b"
             ],
             [
              0.6666666666666666,
              "#ed7953"
             ],
             [
              0.7777777777777778,
              "#fb9f3a"
             ],
             [
              0.8888888888888888,
              "#fdca26"
             ],
             [
              1,
              "#f0f921"
             ]
            ],
            "type": "histogram2d"
           }
          ],
          "histogram2dcontour": [
           {
            "colorbar": {
             "outlinewidth": 0,
             "ticks": ""
            },
            "colorscale": [
             [
              0,
              "#0d0887"
             ],
             [
              0.1111111111111111,
              "#46039f"
             ],
             [
              0.2222222222222222,
              "#7201a8"
             ],
             [
              0.3333333333333333,
              "#9c179e"
             ],
             [
              0.4444444444444444,
              "#bd3786"
             ],
             [
              0.5555555555555556,
              "#d8576b"
             ],
             [
              0.6666666666666666,
              "#ed7953"
             ],
             [
              0.7777777777777778,
              "#fb9f3a"
             ],
             [
              0.8888888888888888,
              "#fdca26"
             ],
             [
              1,
              "#f0f921"
             ]
            ],
            "type": "histogram2dcontour"
           }
          ],
          "mesh3d": [
           {
            "colorbar": {
             "outlinewidth": 0,
             "ticks": ""
            },
            "type": "mesh3d"
           }
          ],
          "parcoords": [
           {
            "line": {
             "colorbar": {
              "outlinewidth": 0,
              "ticks": ""
             }
            },
            "type": "parcoords"
           }
          ],
          "pie": [
           {
            "automargin": true,
            "type": "pie"
           }
          ],
          "scatter": [
           {
            "fillpattern": {
             "fillmode": "overlay",
             "size": 10,
             "solidity": 0.2
            },
            "type": "scatter"
           }
          ],
          "scatter3d": [
           {
            "line": {
             "colorbar": {
              "outlinewidth": 0,
              "ticks": ""
             }
            },
            "marker": {
             "colorbar": {
              "outlinewidth": 0,
              "ticks": ""
             }
            },
            "type": "scatter3d"
           }
          ],
          "scattercarpet": [
           {
            "marker": {
             "colorbar": {
              "outlinewidth": 0,
              "ticks": ""
             }
            },
            "type": "scattercarpet"
           }
          ],
          "scattergeo": [
           {
            "marker": {
             "colorbar": {
              "outlinewidth": 0,
              "ticks": ""
             }
            },
            "type": "scattergeo"
           }
          ],
          "scattergl": [
           {
            "marker": {
             "colorbar": {
              "outlinewidth": 0,
              "ticks": ""
             }
            },
            "type": "scattergl"
           }
          ],
          "scattermapbox": [
           {
            "marker": {
             "colorbar": {
              "outlinewidth": 0,
              "ticks": ""
             }
            },
            "type": "scattermapbox"
           }
          ],
          "scatterpolar": [
           {
            "marker": {
             "colorbar": {
              "outlinewidth": 0,
              "ticks": ""
             }
            },
            "type": "scatterpolar"
           }
          ],
          "scatterpolargl": [
           {
            "marker": {
             "colorbar": {
              "outlinewidth": 0,
              "ticks": ""
             }
            },
            "type": "scatterpolargl"
           }
          ],
          "scatterternary": [
           {
            "marker": {
             "colorbar": {
              "outlinewidth": 0,
              "ticks": ""
             }
            },
            "type": "scatterternary"
           }
          ],
          "surface": [
           {
            "colorbar": {
             "outlinewidth": 0,
             "ticks": ""
            },
            "colorscale": [
             [
              0,
              "#0d0887"
             ],
             [
              0.1111111111111111,
              "#46039f"
             ],
             [
              0.2222222222222222,
              "#7201a8"
             ],
             [
              0.3333333333333333,
              "#9c179e"
             ],
             [
              0.4444444444444444,
              "#bd3786"
             ],
             [
              0.5555555555555556,
              "#d8576b"
             ],
             [
              0.6666666666666666,
              "#ed7953"
             ],
             [
              0.7777777777777778,
              "#fb9f3a"
             ],
             [
              0.8888888888888888,
              "#fdca26"
             ],
             [
              1,
              "#f0f921"
             ]
            ],
            "type": "surface"
           }
          ],
          "table": [
           {
            "cells": {
             "fill": {
              "color": "#EBF0F8"
             },
             "line": {
              "color": "white"
             }
            },
            "header": {
             "fill": {
              "color": "#C8D4E3"
             },
             "line": {
              "color": "white"
             }
            },
            "type": "table"
           }
          ]
         },
         "layout": {
          "annotationdefaults": {
           "arrowcolor": "#2a3f5f",
           "arrowhead": 0,
           "arrowwidth": 1
          },
          "autotypenumbers": "strict",
          "coloraxis": {
           "colorbar": {
            "outlinewidth": 0,
            "ticks": ""
           }
          },
          "colorscale": {
           "diverging": [
            [
             0,
             "#8e0152"
            ],
            [
             0.1,
             "#c51b7d"
            ],
            [
             0.2,
             "#de77ae"
            ],
            [
             0.3,
             "#f1b6da"
            ],
            [
             0.4,
             "#fde0ef"
            ],
            [
             0.5,
             "#f7f7f7"
            ],
            [
             0.6,
             "#e6f5d0"
            ],
            [
             0.7,
             "#b8e186"
            ],
            [
             0.8,
             "#7fbc41"
            ],
            [
             0.9,
             "#4d9221"
            ],
            [
             1,
             "#276419"
            ]
           ],
           "sequential": [
            [
             0,
             "#0d0887"
            ],
            [
             0.1111111111111111,
             "#46039f"
            ],
            [
             0.2222222222222222,
             "#7201a8"
            ],
            [
             0.3333333333333333,
             "#9c179e"
            ],
            [
             0.4444444444444444,
             "#bd3786"
            ],
            [
             0.5555555555555556,
             "#d8576b"
            ],
            [
             0.6666666666666666,
             "#ed7953"
            ],
            [
             0.7777777777777778,
             "#fb9f3a"
            ],
            [
             0.8888888888888888,
             "#fdca26"
            ],
            [
             1,
             "#f0f921"
            ]
           ],
           "sequentialminus": [
            [
             0,
             "#0d0887"
            ],
            [
             0.1111111111111111,
             "#46039f"
            ],
            [
             0.2222222222222222,
             "#7201a8"
            ],
            [
             0.3333333333333333,
             "#9c179e"
            ],
            [
             0.4444444444444444,
             "#bd3786"
            ],
            [
             0.5555555555555556,
             "#d8576b"
            ],
            [
             0.6666666666666666,
             "#ed7953"
            ],
            [
             0.7777777777777778,
             "#fb9f3a"
            ],
            [
             0.8888888888888888,
             "#fdca26"
            ],
            [
             1,
             "#f0f921"
            ]
           ]
          },
          "colorway": [
           "#636efa",
           "#EF553B",
           "#00cc96",
           "#ab63fa",
           "#FFA15A",
           "#19d3f3",
           "#FF6692",
           "#B6E880",
           "#FF97FF",
           "#FECB52"
          ],
          "font": {
           "color": "#2a3f5f"
          },
          "geo": {
           "bgcolor": "white",
           "lakecolor": "white",
           "landcolor": "#E5ECF6",
           "showlakes": true,
           "showland": true,
           "subunitcolor": "white"
          },
          "hoverlabel": {
           "align": "left"
          },
          "hovermode": "closest",
          "mapbox": {
           "style": "light"
          },
          "paper_bgcolor": "white",
          "plot_bgcolor": "#E5ECF6",
          "polar": {
           "angularaxis": {
            "gridcolor": "white",
            "linecolor": "white",
            "ticks": ""
           },
           "bgcolor": "#E5ECF6",
           "radialaxis": {
            "gridcolor": "white",
            "linecolor": "white",
            "ticks": ""
           }
          },
          "scene": {
           "xaxis": {
            "backgroundcolor": "#E5ECF6",
            "gridcolor": "white",
            "gridwidth": 2,
            "linecolor": "white",
            "showbackground": true,
            "ticks": "",
            "zerolinecolor": "white"
           },
           "yaxis": {
            "backgroundcolor": "#E5ECF6",
            "gridcolor": "white",
            "gridwidth": 2,
            "linecolor": "white",
            "showbackground": true,
            "ticks": "",
            "zerolinecolor": "white"
           },
           "zaxis": {
            "backgroundcolor": "#E5ECF6",
            "gridcolor": "white",
            "gridwidth": 2,
            "linecolor": "white",
            "showbackground": true,
            "ticks": "",
            "zerolinecolor": "white"
           }
          },
          "shapedefaults": {
           "line": {
            "color": "#2a3f5f"
           }
          },
          "ternary": {
           "aaxis": {
            "gridcolor": "white",
            "linecolor": "white",
            "ticks": ""
           },
           "baxis": {
            "gridcolor": "white",
            "linecolor": "white",
            "ticks": ""
           },
           "bgcolor": "#E5ECF6",
           "caxis": {
            "gridcolor": "white",
            "linecolor": "white",
            "ticks": ""
           }
          },
          "title": {
           "x": 0.05
          },
          "xaxis": {
           "automargin": true,
           "gridcolor": "white",
           "linecolor": "white",
           "ticks": "",
           "title": {
            "standoff": 15
           },
           "zerolinecolor": "white",
           "zerolinewidth": 2
          },
          "yaxis": {
           "automargin": true,
           "gridcolor": "white",
           "linecolor": "white",
           "ticks": "",
           "title": {
            "standoff": 15
           },
           "zerolinecolor": "white",
           "zerolinewidth": 2
          }
         }
        },
        "title": {
         "text": "Distribution of Text Metrics"
        },
        "xaxis": {
         "anchor": "y",
         "domain": [
          0,
          0.45
         ]
        },
        "xaxis2": {
         "anchor": "y2",
         "domain": [
          0.55,
          1
         ]
        },
        "xaxis3": {
         "anchor": "y3",
         "domain": [
          0,
          0.45
         ]
        },
        "xaxis4": {
         "anchor": "y4",
         "domain": [
          0.55,
          1
         ]
        },
        "xaxis5": {
         "anchor": "y5",
         "domain": [
          0,
          0.45
         ]
        },
        "xaxis6": {
         "anchor": "y6",
         "domain": [
          0.55,
          1
         ]
        },
        "xaxis7": {
         "anchor": "y7",
         "domain": [
          0,
          0.45
         ]
        },
        "xaxis8": {
         "anchor": "y8",
         "domain": [
          0.55,
          1
         ]
        },
        "yaxis": {
         "anchor": "x",
         "domain": [
          0.84375,
          1
         ]
        },
        "yaxis2": {
         "anchor": "x2",
         "domain": [
          0.84375,
          1
         ]
        },
        "yaxis3": {
         "anchor": "x3",
         "domain": [
          0.5625,
          0.71875
         ]
        },
        "yaxis4": {
         "anchor": "x4",
         "domain": [
          0.5625,
          0.71875
         ]
        },
        "yaxis5": {
         "anchor": "x5",
         "domain": [
          0.28125,
          0.4375
         ]
        },
        "yaxis6": {
         "anchor": "x6",
         "domain": [
          0.28125,
          0.4375
         ]
        },
        "yaxis7": {
         "anchor": "x7",
         "domain": [
          0,
          0.15625
         ]
        },
        "yaxis8": {
         "anchor": "x8",
         "domain": [
          0,
          0.15625
         ]
        }
       }
      }
     },
     "metadata": {},
     "output_type": "display_data"
    }
   ],
   "source": [
    "params = {\n",
    "    \"text_column\": \"input\",\n",
    "    \"unwanted_tokens\": {'s', 's\\'', 'mr', 'ms', 'mrs', 'dr', '\\'s', ' ', \"''\", 'dollar', 'us', '``'},\n",
    "    \"lang\": \"english\"\n",
    "}\n",
    "\n",
    "text_description_histograms(df_summarization, params)"
   ]
  },
  {
   "attachments": {},
   "cell_type": "markdown",
   "metadata": {},
   "source": [
    "##### Text Description Scatter"
   ]
  },
  {
   "cell_type": "code",
   "execution_count": 35,
   "metadata": {},
   "outputs": [
    {
     "data": {
      "application/vnd.plotly.v1+json": {
       "config": {
        "plotlyServerURL": "https://plot.ly"
       },
       "data": [
        {
         "mode": "markers",
         "showlegend": false,
         "type": "scatter",
         "x": [
          490,
          433,
          294,
          472,
          306
         ],
         "xaxis": "x",
         "y": [
          20,
          15,
          12,
          19,
          12
         ],
         "yaxis": "y"
        },
        {
         "mode": "markers",
         "showlegend": false,
         "type": "scatter",
         "x": [
          490,
          433,
          294,
          472,
          306
         ],
         "xaxis": "x2",
         "y": [
          187,
          163,
          116,
          203,
          132
         ],
         "yaxis": "y2"
        },
        {
         "mode": "markers",
         "showlegend": false,
         "type": "scatter",
         "x": [
          20,
          15,
          12,
          19,
          12
         ],
         "xaxis": "x3",
         "y": [
          21.1,
          25.6,
          22,
          21.4,
          22.1
         ],
         "yaxis": "y3"
        },
        {
         "mode": "markers",
         "showlegend": false,
         "type": "scatter",
         "x": [
          187,
          163,
          116,
          203,
          132
         ],
         "xaxis": "x4",
         "y": [
          0.7,
          0.8,
          0.7,
          0.8,
          0.8
         ],
         "yaxis": "y4"
        }
       ],
       "layout": {
        "annotations": [
         {
          "font": {
           "size": 16
          },
          "showarrow": false,
          "text": "Total Words vs Total Sentences",
          "x": 0.225,
          "xanchor": "center",
          "xref": "paper",
          "y": 1,
          "yanchor": "bottom",
          "yref": "paper"
         },
         {
          "font": {
           "size": 16
          },
          "showarrow": false,
          "text": "Total Words vs Total Unique Words",
          "x": 0.775,
          "xanchor": "center",
          "xref": "paper",
          "y": 1,
          "yanchor": "bottom",
          "yref": "paper"
         },
         {
          "font": {
           "size": 16
          },
          "showarrow": false,
          "text": "Total Sentences vs Avg Sentence Length",
          "x": 0.225,
          "xanchor": "center",
          "xref": "paper",
          "y": 0.375,
          "yanchor": "bottom",
          "yref": "paper"
         },
         {
          "font": {
           "size": 16
          },
          "showarrow": false,
          "text": "Total Unique Words vs Lexical Diversity",
          "x": 0.775,
          "xanchor": "center",
          "xref": "paper",
          "y": 0.375,
          "yanchor": "bottom",
          "yref": "paper"
         }
        ],
        "height": 800,
        "template": {
         "data": {
          "bar": [
           {
            "error_x": {
             "color": "#2a3f5f"
            },
            "error_y": {
             "color": "#2a3f5f"
            },
            "marker": {
             "line": {
              "color": "#E5ECF6",
              "width": 0.5
             },
             "pattern": {
              "fillmode": "overlay",
              "size": 10,
              "solidity": 0.2
             }
            },
            "type": "bar"
           }
          ],
          "barpolar": [
           {
            "marker": {
             "line": {
              "color": "#E5ECF6",
              "width": 0.5
             },
             "pattern": {
              "fillmode": "overlay",
              "size": 10,
              "solidity": 0.2
             }
            },
            "type": "barpolar"
           }
          ],
          "carpet": [
           {
            "aaxis": {
             "endlinecolor": "#2a3f5f",
             "gridcolor": "white",
             "linecolor": "white",
             "minorgridcolor": "white",
             "startlinecolor": "#2a3f5f"
            },
            "baxis": {
             "endlinecolor": "#2a3f5f",
             "gridcolor": "white",
             "linecolor": "white",
             "minorgridcolor": "white",
             "startlinecolor": "#2a3f5f"
            },
            "type": "carpet"
           }
          ],
          "choropleth": [
           {
            "colorbar": {
             "outlinewidth": 0,
             "ticks": ""
            },
            "type": "choropleth"
           }
          ],
          "contour": [
           {
            "colorbar": {
             "outlinewidth": 0,
             "ticks": ""
            },
            "colorscale": [
             [
              0,
              "#0d0887"
             ],
             [
              0.1111111111111111,
              "#46039f"
             ],
             [
              0.2222222222222222,
              "#7201a8"
             ],
             [
              0.3333333333333333,
              "#9c179e"
             ],
             [
              0.4444444444444444,
              "#bd3786"
             ],
             [
              0.5555555555555556,
              "#d8576b"
             ],
             [
              0.6666666666666666,
              "#ed7953"
             ],
             [
              0.7777777777777778,
              "#fb9f3a"
             ],
             [
              0.8888888888888888,
              "#fdca26"
             ],
             [
              1,
              "#f0f921"
             ]
            ],
            "type": "contour"
           }
          ],
          "contourcarpet": [
           {
            "colorbar": {
             "outlinewidth": 0,
             "ticks": ""
            },
            "type": "contourcarpet"
           }
          ],
          "heatmap": [
           {
            "colorbar": {
             "outlinewidth": 0,
             "ticks": ""
            },
            "colorscale": [
             [
              0,
              "#0d0887"
             ],
             [
              0.1111111111111111,
              "#46039f"
             ],
             [
              0.2222222222222222,
              "#7201a8"
             ],
             [
              0.3333333333333333,
              "#9c179e"
             ],
             [
              0.4444444444444444,
              "#bd3786"
             ],
             [
              0.5555555555555556,
              "#d8576b"
             ],
             [
              0.6666666666666666,
              "#ed7953"
             ],
             [
              0.7777777777777778,
              "#fb9f3a"
             ],
             [
              0.8888888888888888,
              "#fdca26"
             ],
             [
              1,
              "#f0f921"
             ]
            ],
            "type": "heatmap"
           }
          ],
          "heatmapgl": [
           {
            "colorbar": {
             "outlinewidth": 0,
             "ticks": ""
            },
            "colorscale": [
             [
              0,
              "#0d0887"
             ],
             [
              0.1111111111111111,
              "#46039f"
             ],
             [
              0.2222222222222222,
              "#7201a8"
             ],
             [
              0.3333333333333333,
              "#9c179e"
             ],
             [
              0.4444444444444444,
              "#bd3786"
             ],
             [
              0.5555555555555556,
              "#d8576b"
             ],
             [
              0.6666666666666666,
              "#ed7953"
             ],
             [
              0.7777777777777778,
              "#fb9f3a"
             ],
             [
              0.8888888888888888,
              "#fdca26"
             ],
             [
              1,
              "#f0f921"
             ]
            ],
            "type": "heatmapgl"
           }
          ],
          "histogram": [
           {
            "marker": {
             "pattern": {
              "fillmode": "overlay",
              "size": 10,
              "solidity": 0.2
             }
            },
            "type": "histogram"
           }
          ],
          "histogram2d": [
           {
            "colorbar": {
             "outlinewidth": 0,
             "ticks": ""
            },
            "colorscale": [
             [
              0,
              "#0d0887"
             ],
             [
              0.1111111111111111,
              "#46039f"
             ],
             [
              0.2222222222222222,
              "#7201a8"
             ],
             [
              0.3333333333333333,
              "#9c179e"
             ],
             [
              0.4444444444444444,
              "#bd3786"
             ],
             [
              0.5555555555555556,
              "#d8576b"
             ],
             [
              0.6666666666666666,
              "#ed7953"
             ],
             [
              0.7777777777777778,
              "#fb9f3a"
             ],
             [
              0.8888888888888888,
              "#fdca26"
             ],
             [
              1,
              "#f0f921"
             ]
            ],
            "type": "histogram2d"
           }
          ],
          "histogram2dcontour": [
           {
            "colorbar": {
             "outlinewidth": 0,
             "ticks": ""
            },
            "colorscale": [
             [
              0,
              "#0d0887"
             ],
             [
              0.1111111111111111,
              "#46039f"
             ],
             [
              0.2222222222222222,
              "#7201a8"
             ],
             [
              0.3333333333333333,
              "#9c179e"
             ],
             [
              0.4444444444444444,
              "#bd3786"
             ],
             [
              0.5555555555555556,
              "#d8576b"
             ],
             [
              0.6666666666666666,
              "#ed7953"
             ],
             [
              0.7777777777777778,
              "#fb9f3a"
             ],
             [
              0.8888888888888888,
              "#fdca26"
             ],
             [
              1,
              "#f0f921"
             ]
            ],
            "type": "histogram2dcontour"
           }
          ],
          "mesh3d": [
           {
            "colorbar": {
             "outlinewidth": 0,
             "ticks": ""
            },
            "type": "mesh3d"
           }
          ],
          "parcoords": [
           {
            "line": {
             "colorbar": {
              "outlinewidth": 0,
              "ticks": ""
             }
            },
            "type": "parcoords"
           }
          ],
          "pie": [
           {
            "automargin": true,
            "type": "pie"
           }
          ],
          "scatter": [
           {
            "fillpattern": {
             "fillmode": "overlay",
             "size": 10,
             "solidity": 0.2
            },
            "type": "scatter"
           }
          ],
          "scatter3d": [
           {
            "line": {
             "colorbar": {
              "outlinewidth": 0,
              "ticks": ""
             }
            },
            "marker": {
             "colorbar": {
              "outlinewidth": 0,
              "ticks": ""
             }
            },
            "type": "scatter3d"
           }
          ],
          "scattercarpet": [
           {
            "marker": {
             "colorbar": {
              "outlinewidth": 0,
              "ticks": ""
             }
            },
            "type": "scattercarpet"
           }
          ],
          "scattergeo": [
           {
            "marker": {
             "colorbar": {
              "outlinewidth": 0,
              "ticks": ""
             }
            },
            "type": "scattergeo"
           }
          ],
          "scattergl": [
           {
            "marker": {
             "colorbar": {
              "outlinewidth": 0,
              "ticks": ""
             }
            },
            "type": "scattergl"
           }
          ],
          "scattermapbox": [
           {
            "marker": {
             "colorbar": {
              "outlinewidth": 0,
              "ticks": ""
             }
            },
            "type": "scattermapbox"
           }
          ],
          "scatterpolar": [
           {
            "marker": {
             "colorbar": {
              "outlinewidth": 0,
              "ticks": ""
             }
            },
            "type": "scatterpolar"
           }
          ],
          "scatterpolargl": [
           {
            "marker": {
             "colorbar": {
              "outlinewidth": 0,
              "ticks": ""
             }
            },
            "type": "scatterpolargl"
           }
          ],
          "scatterternary": [
           {
            "marker": {
             "colorbar": {
              "outlinewidth": 0,
              "ticks": ""
             }
            },
            "type": "scatterternary"
           }
          ],
          "surface": [
           {
            "colorbar": {
             "outlinewidth": 0,
             "ticks": ""
            },
            "colorscale": [
             [
              0,
              "#0d0887"
             ],
             [
              0.1111111111111111,
              "#46039f"
             ],
             [
              0.2222222222222222,
              "#7201a8"
             ],
             [
              0.3333333333333333,
              "#9c179e"
             ],
             [
              0.4444444444444444,
              "#bd3786"
             ],
             [
              0.5555555555555556,
              "#d8576b"
             ],
             [
              0.6666666666666666,
              "#ed7953"
             ],
             [
              0.7777777777777778,
              "#fb9f3a"
             ],
             [
              0.8888888888888888,
              "#fdca26"
             ],
             [
              1,
              "#f0f921"
             ]
            ],
            "type": "surface"
           }
          ],
          "table": [
           {
            "cells": {
             "fill": {
              "color": "#EBF0F8"
             },
             "line": {
              "color": "white"
             }
            },
            "header": {
             "fill": {
              "color": "#C8D4E3"
             },
             "line": {
              "color": "white"
             }
            },
            "type": "table"
           }
          ]
         },
         "layout": {
          "annotationdefaults": {
           "arrowcolor": "#2a3f5f",
           "arrowhead": 0,
           "arrowwidth": 1
          },
          "autotypenumbers": "strict",
          "coloraxis": {
           "colorbar": {
            "outlinewidth": 0,
            "ticks": ""
           }
          },
          "colorscale": {
           "diverging": [
            [
             0,
             "#8e0152"
            ],
            [
             0.1,
             "#c51b7d"
            ],
            [
             0.2,
             "#de77ae"
            ],
            [
             0.3,
             "#f1b6da"
            ],
            [
             0.4,
             "#fde0ef"
            ],
            [
             0.5,
             "#f7f7f7"
            ],
            [
             0.6,
             "#e6f5d0"
            ],
            [
             0.7,
             "#b8e186"
            ],
            [
             0.8,
             "#7fbc41"
            ],
            [
             0.9,
             "#4d9221"
            ],
            [
             1,
             "#276419"
            ]
           ],
           "sequential": [
            [
             0,
             "#0d0887"
            ],
            [
             0.1111111111111111,
             "#46039f"
            ],
            [
             0.2222222222222222,
             "#7201a8"
            ],
            [
             0.3333333333333333,
             "#9c179e"
            ],
            [
             0.4444444444444444,
             "#bd3786"
            ],
            [
             0.5555555555555556,
             "#d8576b"
            ],
            [
             0.6666666666666666,
             "#ed7953"
            ],
            [
             0.7777777777777778,
             "#fb9f3a"
            ],
            [
             0.8888888888888888,
             "#fdca26"
            ],
            [
             1,
             "#f0f921"
            ]
           ],
           "sequentialminus": [
            [
             0,
             "#0d0887"
            ],
            [
             0.1111111111111111,
             "#46039f"
            ],
            [
             0.2222222222222222,
             "#7201a8"
            ],
            [
             0.3333333333333333,
             "#9c179e"
            ],
            [
             0.4444444444444444,
             "#bd3786"
            ],
            [
             0.5555555555555556,
             "#d8576b"
            ],
            [
             0.6666666666666666,
             "#ed7953"
            ],
            [
             0.7777777777777778,
             "#fb9f3a"
            ],
            [
             0.8888888888888888,
             "#fdca26"
            ],
            [
             1,
             "#f0f921"
            ]
           ]
          },
          "colorway": [
           "#636efa",
           "#EF553B",
           "#00cc96",
           "#ab63fa",
           "#FFA15A",
           "#19d3f3",
           "#FF6692",
           "#B6E880",
           "#FF97FF",
           "#FECB52"
          ],
          "font": {
           "color": "#2a3f5f"
          },
          "geo": {
           "bgcolor": "white",
           "lakecolor": "white",
           "landcolor": "#E5ECF6",
           "showlakes": true,
           "showland": true,
           "subunitcolor": "white"
          },
          "hoverlabel": {
           "align": "left"
          },
          "hovermode": "closest",
          "mapbox": {
           "style": "light"
          },
          "paper_bgcolor": "white",
          "plot_bgcolor": "#E5ECF6",
          "polar": {
           "angularaxis": {
            "gridcolor": "white",
            "linecolor": "white",
            "ticks": ""
           },
           "bgcolor": "#E5ECF6",
           "radialaxis": {
            "gridcolor": "white",
            "linecolor": "white",
            "ticks": ""
           }
          },
          "scene": {
           "xaxis": {
            "backgroundcolor": "#E5ECF6",
            "gridcolor": "white",
            "gridwidth": 2,
            "linecolor": "white",
            "showbackground": true,
            "ticks": "",
            "zerolinecolor": "white"
           },
           "yaxis": {
            "backgroundcolor": "#E5ECF6",
            "gridcolor": "white",
            "gridwidth": 2,
            "linecolor": "white",
            "showbackground": true,
            "ticks": "",
            "zerolinecolor": "white"
           },
           "zaxis": {
            "backgroundcolor": "#E5ECF6",
            "gridcolor": "white",
            "gridwidth": 2,
            "linecolor": "white",
            "showbackground": true,
            "ticks": "",
            "zerolinecolor": "white"
           }
          },
          "shapedefaults": {
           "line": {
            "color": "#2a3f5f"
           }
          },
          "ternary": {
           "aaxis": {
            "gridcolor": "white",
            "linecolor": "white",
            "ticks": ""
           },
           "baxis": {
            "gridcolor": "white",
            "linecolor": "white",
            "ticks": ""
           },
           "bgcolor": "#E5ECF6",
           "caxis": {
            "gridcolor": "white",
            "linecolor": "white",
            "ticks": ""
           }
          },
          "title": {
           "x": 0.05
          },
          "xaxis": {
           "automargin": true,
           "gridcolor": "white",
           "linecolor": "white",
           "ticks": "",
           "title": {
            "standoff": 15
           },
           "zerolinecolor": "white",
           "zerolinewidth": 2
          },
          "yaxis": {
           "automargin": true,
           "gridcolor": "white",
           "linecolor": "white",
           "ticks": "",
           "title": {
            "standoff": 15
           },
           "zerolinecolor": "white",
           "zerolinewidth": 2
          }
         }
        },
        "title": {
         "text": "Scatter Plots of Text Metrics Combinations"
        },
        "xaxis": {
         "anchor": "y",
         "domain": [
          0,
          0.45
         ],
         "title": {
          "text": "Total Words"
         }
        },
        "xaxis2": {
         "anchor": "y2",
         "domain": [
          0.55,
          1
         ],
         "title": {
          "text": "Total Words"
         }
        },
        "xaxis3": {
         "anchor": "y3",
         "domain": [
          0,
          0.45
         ],
         "title": {
          "text": "Total Sentences"
         }
        },
        "xaxis4": {
         "anchor": "y4",
         "domain": [
          0.55,
          1
         ],
         "title": {
          "text": "Total Unique Words"
         }
        },
        "yaxis": {
         "anchor": "x",
         "domain": [
          0.625,
          1
         ],
         "title": {
          "text": "Total Sentences"
         }
        },
        "yaxis2": {
         "anchor": "x2",
         "domain": [
          0.625,
          1
         ],
         "title": {
          "text": "Total Unique Words"
         }
        },
        "yaxis3": {
         "anchor": "x3",
         "domain": [
          0,
          0.375
         ],
         "title": {
          "text": "Avg Sentence Length"
         }
        },
        "yaxis4": {
         "anchor": "x4",
         "domain": [
          0,
          0.375
         ],
         "title": {
          "text": "Lexical Diversity"
         }
        }
       }
      }
     },
     "metadata": {},
     "output_type": "display_data"
    }
   ],
   "source": [
    "# Define the combinations you want to plot\n",
    "combinations_to_plot = [\n",
    "    (\"Total Words\", \"Total Sentences\"),\n",
    "    (\"Total Words\", \"Total Unique Words\"),\n",
    "    (\"Total Sentences\", \"Avg Sentence Length\"),\n",
    "    (\"Total Unique Words\", \"Lexical Diversity\")\n",
    "]\n",
    "\n",
    "params = {\n",
    "    \"combinations_to_plot\": combinations_to_plot,\n",
    "    \"text_column\": \"input\",\n",
    "    \"unwanted_tokens\": {'s', 's\\'', 'mr', 'ms', 'mrs', 'dr', '\\'s', ' ', \"''\", 'dollar', 'us', '``'},\n",
    "    \"lang\": \"english\"\n",
    "}\n",
    "\n",
    "text_description_scatter(df_summarization, params)"
   ]
  },
  {
   "attachments": {},
   "cell_type": "markdown",
   "metadata": {},
   "source": [
    "##### Text Structure Histogram"
   ]
  },
  {
   "attachments": {},
   "cell_type": "markdown",
   "metadata": {},
   "source": [
    "- Word Frequencies: This metric provides a histogram of how often words appear with a given frequency. For example, if a lot of words appear only once in a document, it might be indicative of a text rich in unique words. On the other hand, a small set of words appearing very frequently might indicate repetitive content or a certain theme or pattern in the text.\n",
    "\n",
    "- Sentence Positions vs. Sentence Lengths: This bar chart showcases the length of each sentence (in terms of word count) in their order of appearance in the document. This can give insights into the flow of information in a text, highlighting any long, detailed sections or brief, potentially superficial areas.\n",
    "\n",
    "- Sentence Lengths Distribution: A histogram showing the frequency of sentence lengths across the document. Long sentences might contain a lot of information but could be harder for summarization models to digest and for readers to comprehend. Conversely, many short sentences might indicate fragmented information.\n",
    "\n",
    "- Word Lengths Distribution: A histogram of the lengths of words in the document. Extremely long words might be anomalies, technical terms, or potential errors in the corpus. Conversely, a majority of very short words might denote lack of depth or specificity."
   ]
  },
  {
   "cell_type": "code",
   "execution_count": 36,
   "metadata": {},
   "outputs": [
    {
     "data": {
      "application/vnd.plotly.v1+json": {
       "config": {
        "plotlyServerURL": "https://plot.ly"
       },
       "data": [
        {
         "marker": {
          "color": "blue"
         },
         "showlegend": false,
         "type": "bar",
         "x": [
          1,
          4,
          3,
          5,
          7,
          8,
          18,
          9,
          2,
          17,
          21,
          20,
          12,
          10,
          6
         ],
         "xaxis": "x",
         "y": [
          164,
          5,
          12,
          8,
          3,
          2,
          1,
          1,
          37,
          1,
          1,
          1,
          1,
          1,
          2
         ],
         "yaxis": "y"
        },
        {
         "marker": {
          "color": "green"
         },
         "showlegend": false,
         "type": "bar",
         "x": [
          1,
          2,
          3,
          4,
          5,
          6,
          7,
          8,
          9,
          10,
          11,
          12,
          13,
          14,
          15,
          16,
          17,
          18,
          19,
          20
         ],
         "xaxis": "x2",
         "y": [
          27,
          23,
          11,
          20,
          13,
          10,
          17,
          20,
          27,
          24,
          11,
          37,
          21,
          25,
          20,
          20,
          20,
          24,
          30,
          21
         ],
         "yaxis": "y2"
        },
        {
         "marker": {
          "color": "red"
         },
         "nbinsx": 50,
         "opacity": 0.75,
         "showlegend": false,
         "type": "histogram",
         "x": [
          27,
          23,
          11,
          20,
          13,
          10,
          17,
          20,
          27,
          24,
          11,
          37,
          21,
          25,
          20,
          20,
          20,
          24,
          30,
          21
         ],
         "xaxis": "x3",
         "yaxis": "y3"
        },
        {
         "marker": {
          "color": "purple"
         },
         "nbinsx": 50,
         "opacity": 0.75,
         "showlegend": false,
         "type": "histogram",
         "x": [
          2,
          5,
          5,
          4,
          6,
          6,
          9,
          7,
          2,
          2,
          5,
          5,
          10,
          6,
          2,
          1,
          2,
          1,
          6,
          1,
          5,
          1,
          3,
          3,
          5,
          6,
          2,
          8,
          1,
          4,
          1,
          4,
          12,
          1,
          3,
          4,
          1,
          5,
          2,
          3,
          3,
          2,
          3,
          7,
          9,
          2,
          6,
          1,
          9,
          4,
          5,
          2,
          10,
          8,
          11,
          3,
          6,
          6,
          5,
          1,
          10,
          4,
          6,
          7,
          5,
          4,
          1,
          1,
          2,
          1,
          6,
          4,
          1,
          6,
          1,
          3,
          7,
          4,
          6,
          2,
          7,
          5,
          5,
          6,
          1,
          6,
          3,
          2,
          6,
          4,
          1,
          3,
          4,
          5,
          3,
          3,
          1,
          4,
          6,
          4,
          2,
          6,
          4,
          2,
          3,
          4,
          1,
          1,
          2,
          13,
          6,
          1,
          3,
          3,
          3,
          8,
          8,
          1,
          3,
          1,
          3,
          3,
          5,
          8,
          1,
          2,
          4,
          7,
          11,
          2,
          3,
          6,
          7,
          7,
          4,
          5,
          4,
          2,
          3,
          9,
          5,
          8,
          1,
          7,
          1,
          3,
          7,
          4,
          3,
          2,
          10,
          6,
          6,
          11,
          5,
          4,
          1,
          1,
          2,
          3,
          4,
          2,
          8,
          8,
          11,
          8,
          1,
          2,
          5,
          2,
          8,
          11,
          2,
          8,
          3,
          6,
          7,
          4,
          2,
          10,
          8,
          9,
          3,
          4,
          3,
          2,
          4,
          2,
          3,
          2,
          8,
          9,
          3,
          10,
          9,
          1,
          10,
          4,
          3,
          2,
          7,
          4,
          3,
          4,
          7,
          9,
          1,
          5,
          2,
          3,
          2,
          10,
          8,
          10,
          1,
          3,
          1,
          1,
          5,
          2,
          5,
          2,
          10,
          1,
          4,
          6,
          2,
          6,
          7,
          7,
          4,
          8,
          6,
          4,
          8,
          1,
          12,
          1,
          3,
          3,
          4,
          8,
          3,
          7,
          5,
          2,
          1,
          2,
          1,
          4,
          1,
          6,
          2,
          10,
          5,
          9,
          3,
          8,
          1,
          1,
          5,
          8,
          2,
          12,
          1,
          4,
          3,
          5,
          3,
          5,
          4,
          2,
          3,
          4,
          2,
          3,
          5,
          7,
          7,
          7,
          1,
          3,
          3,
          9,
          1,
          10,
          6,
          1,
          6,
          2,
          1,
          6,
          1,
          2,
          2,
          1,
          4,
          3,
          4,
          11,
          1,
          5,
          8,
          4,
          3,
          1,
          2,
          1,
          7,
          1,
          2,
          3,
          9,
          11,
          3,
          6,
          1,
          7,
          2,
          9,
          3,
          2,
          3,
          9,
          10,
          3,
          7,
          9,
          3,
          11,
          1,
          2,
          8,
          3,
          5,
          9,
          7,
          7,
          4,
          1,
          3,
          4,
          1,
          10,
          2,
          10,
          9,
          8,
          6,
          2,
          6,
          1,
          1,
          1,
          3,
          4,
          7,
          6,
          7,
          3,
          5,
          6,
          7,
          1,
          10,
          2,
          2,
          7,
          3,
          8,
          2,
          4,
          2,
          7,
          2,
          7,
          2,
          7,
          4,
          3,
          2,
          2,
          6,
          10,
          1,
          2,
          3,
          7,
          7,
          2,
          3,
          1,
          4,
          2,
          6,
          7,
          1,
          2,
          1,
          4,
          4,
          2,
          5,
          6,
          2,
          3,
          3,
          1,
          3,
          7,
          4,
          2,
          3,
          6,
          2,
          8,
          3,
          6,
          2,
          6,
          2,
          3,
          5,
          3,
          5,
          8,
          1,
          5,
          2,
          10,
          3,
          2,
          1,
          4,
          1,
          2,
          7,
          2,
          6,
          3,
          3,
          2,
          8,
          3,
          1,
          4,
          4,
          6,
          5,
          9,
          11,
          2,
          8,
          2,
          1,
          5,
          2,
          3,
          6,
          1,
          5,
          2,
          3,
          8,
          2,
          11,
          7,
          1,
          2,
          4,
          3,
          4,
          3,
          4,
          2,
          3,
          5,
          2,
          3,
          6,
          2,
          1,
          4,
          2,
          3,
          5,
          2,
          4,
          5,
          1
         ],
         "xaxis": "x4",
         "yaxis": "y4"
        }
       ],
       "layout": {
        "annotations": [
         {
          "font": {
           "size": 16
          },
          "showarrow": false,
          "text": "Word Frequencies",
          "x": 0.225,
          "xanchor": "center",
          "xref": "paper",
          "y": 1,
          "yanchor": "bottom",
          "yref": "paper"
         },
         {
          "font": {
           "size": 16
          },
          "showarrow": false,
          "text": "Sentence Positions",
          "x": 0.775,
          "xanchor": "center",
          "xref": "paper",
          "y": 1,
          "yanchor": "bottom",
          "yref": "paper"
         },
         {
          "font": {
           "size": 16
          },
          "showarrow": false,
          "text": "Sentence Lengths",
          "x": 0.225,
          "xanchor": "center",
          "xref": "paper",
          "y": 0.375,
          "yanchor": "bottom",
          "yref": "paper"
         },
         {
          "font": {
           "size": 16
          },
          "showarrow": false,
          "text": "Word Lengths",
          "x": 0.775,
          "xanchor": "center",
          "xref": "paper",
          "y": 0.375,
          "yanchor": "bottom",
          "yref": "paper"
         }
        ],
        "barmode": "overlay",
        "height": 800,
        "template": {
         "data": {
          "bar": [
           {
            "error_x": {
             "color": "#2a3f5f"
            },
            "error_y": {
             "color": "#2a3f5f"
            },
            "marker": {
             "line": {
              "color": "#E5ECF6",
              "width": 0.5
             },
             "pattern": {
              "fillmode": "overlay",
              "size": 10,
              "solidity": 0.2
             }
            },
            "type": "bar"
           }
          ],
          "barpolar": [
           {
            "marker": {
             "line": {
              "color": "#E5ECF6",
              "width": 0.5
             },
             "pattern": {
              "fillmode": "overlay",
              "size": 10,
              "solidity": 0.2
             }
            },
            "type": "barpolar"
           }
          ],
          "carpet": [
           {
            "aaxis": {
             "endlinecolor": "#2a3f5f",
             "gridcolor": "white",
             "linecolor": "white",
             "minorgridcolor": "white",
             "startlinecolor": "#2a3f5f"
            },
            "baxis": {
             "endlinecolor": "#2a3f5f",
             "gridcolor": "white",
             "linecolor": "white",
             "minorgridcolor": "white",
             "startlinecolor": "#2a3f5f"
            },
            "type": "carpet"
           }
          ],
          "choropleth": [
           {
            "colorbar": {
             "outlinewidth": 0,
             "ticks": ""
            },
            "type": "choropleth"
           }
          ],
          "contour": [
           {
            "colorbar": {
             "outlinewidth": 0,
             "ticks": ""
            },
            "colorscale": [
             [
              0,
              "#0d0887"
             ],
             [
              0.1111111111111111,
              "#46039f"
             ],
             [
              0.2222222222222222,
              "#7201a8"
             ],
             [
              0.3333333333333333,
              "#9c179e"
             ],
             [
              0.4444444444444444,
              "#bd3786"
             ],
             [
              0.5555555555555556,
              "#d8576b"
             ],
             [
              0.6666666666666666,
              "#ed7953"
             ],
             [
              0.7777777777777778,
              "#fb9f3a"
             ],
             [
              0.8888888888888888,
              "#fdca26"
             ],
             [
              1,
              "#f0f921"
             ]
            ],
            "type": "contour"
           }
          ],
          "contourcarpet": [
           {
            "colorbar": {
             "outlinewidth": 0,
             "ticks": ""
            },
            "type": "contourcarpet"
           }
          ],
          "heatmap": [
           {
            "colorbar": {
             "outlinewidth": 0,
             "ticks": ""
            },
            "colorscale": [
             [
              0,
              "#0d0887"
             ],
             [
              0.1111111111111111,
              "#46039f"
             ],
             [
              0.2222222222222222,
              "#7201a8"
             ],
             [
              0.3333333333333333,
              "#9c179e"
             ],
             [
              0.4444444444444444,
              "#bd3786"
             ],
             [
              0.5555555555555556,
              "#d8576b"
             ],
             [
              0.6666666666666666,
              "#ed7953"
             ],
             [
              0.7777777777777778,
              "#fb9f3a"
             ],
             [
              0.8888888888888888,
              "#fdca26"
             ],
             [
              1,
              "#f0f921"
             ]
            ],
            "type": "heatmap"
           }
          ],
          "heatmapgl": [
           {
            "colorbar": {
             "outlinewidth": 0,
             "ticks": ""
            },
            "colorscale": [
             [
              0,
              "#0d0887"
             ],
             [
              0.1111111111111111,
              "#46039f"
             ],
             [
              0.2222222222222222,
              "#7201a8"
             ],
             [
              0.3333333333333333,
              "#9c179e"
             ],
             [
              0.4444444444444444,
              "#bd3786"
             ],
             [
              0.5555555555555556,
              "#d8576b"
             ],
             [
              0.6666666666666666,
              "#ed7953"
             ],
             [
              0.7777777777777778,
              "#fb9f3a"
             ],
             [
              0.8888888888888888,
              "#fdca26"
             ],
             [
              1,
              "#f0f921"
             ]
            ],
            "type": "heatmapgl"
           }
          ],
          "histogram": [
           {
            "marker": {
             "pattern": {
              "fillmode": "overlay",
              "size": 10,
              "solidity": 0.2
             }
            },
            "type": "histogram"
           }
          ],
          "histogram2d": [
           {
            "colorbar": {
             "outlinewidth": 0,
             "ticks": ""
            },
            "colorscale": [
             [
              0,
              "#0d0887"
             ],
             [
              0.1111111111111111,
              "#46039f"
             ],
             [
              0.2222222222222222,
              "#7201a8"
             ],
             [
              0.3333333333333333,
              "#9c179e"
             ],
             [
              0.4444444444444444,
              "#bd3786"
             ],
             [
              0.5555555555555556,
              "#d8576b"
             ],
             [
              0.6666666666666666,
              "#ed7953"
             ],
             [
              0.7777777777777778,
              "#fb9f3a"
             ],
             [
              0.8888888888888888,
              "#fdca26"
             ],
             [
              1,
              "#f0f921"
             ]
            ],
            "type": "histogram2d"
           }
          ],
          "histogram2dcontour": [
           {
            "colorbar": {
             "outlinewidth": 0,
             "ticks": ""
            },
            "colorscale": [
             [
              0,
              "#0d0887"
             ],
             [
              0.1111111111111111,
              "#46039f"
             ],
             [
              0.2222222222222222,
              "#7201a8"
             ],
             [
              0.3333333333333333,
              "#9c179e"
             ],
             [
              0.4444444444444444,
              "#bd3786"
             ],
             [
              0.5555555555555556,
              "#d8576b"
             ],
             [
              0.6666666666666666,
              "#ed7953"
             ],
             [
              0.7777777777777778,
              "#fb9f3a"
             ],
             [
              0.8888888888888888,
              "#fdca26"
             ],
             [
              1,
              "#f0f921"
             ]
            ],
            "type": "histogram2dcontour"
           }
          ],
          "mesh3d": [
           {
            "colorbar": {
             "outlinewidth": 0,
             "ticks": ""
            },
            "type": "mesh3d"
           }
          ],
          "parcoords": [
           {
            "line": {
             "colorbar": {
              "outlinewidth": 0,
              "ticks": ""
             }
            },
            "type": "parcoords"
           }
          ],
          "pie": [
           {
            "automargin": true,
            "type": "pie"
           }
          ],
          "scatter": [
           {
            "fillpattern": {
             "fillmode": "overlay",
             "size": 10,
             "solidity": 0.2
            },
            "type": "scatter"
           }
          ],
          "scatter3d": [
           {
            "line": {
             "colorbar": {
              "outlinewidth": 0,
              "ticks": ""
             }
            },
            "marker": {
             "colorbar": {
              "outlinewidth": 0,
              "ticks": ""
             }
            },
            "type": "scatter3d"
           }
          ],
          "scattercarpet": [
           {
            "marker": {
             "colorbar": {
              "outlinewidth": 0,
              "ticks": ""
             }
            },
            "type": "scattercarpet"
           }
          ],
          "scattergeo": [
           {
            "marker": {
             "colorbar": {
              "outlinewidth": 0,
              "ticks": ""
             }
            },
            "type": "scattergeo"
           }
          ],
          "scattergl": [
           {
            "marker": {
             "colorbar": {
              "outlinewidth": 0,
              "ticks": ""
             }
            },
            "type": "scattergl"
           }
          ],
          "scattermapbox": [
           {
            "marker": {
             "colorbar": {
              "outlinewidth": 0,
              "ticks": ""
             }
            },
            "type": "scattermapbox"
           }
          ],
          "scatterpolar": [
           {
            "marker": {
             "colorbar": {
              "outlinewidth": 0,
              "ticks": ""
             }
            },
            "type": "scatterpolar"
           }
          ],
          "scatterpolargl": [
           {
            "marker": {
             "colorbar": {
              "outlinewidth": 0,
              "ticks": ""
             }
            },
            "type": "scatterpolargl"
           }
          ],
          "scatterternary": [
           {
            "marker": {
             "colorbar": {
              "outlinewidth": 0,
              "ticks": ""
             }
            },
            "type": "scatterternary"
           }
          ],
          "surface": [
           {
            "colorbar": {
             "outlinewidth": 0,
             "ticks": ""
            },
            "colorscale": [
             [
              0,
              "#0d0887"
             ],
             [
              0.1111111111111111,
              "#46039f"
             ],
             [
              0.2222222222222222,
              "#7201a8"
             ],
             [
              0.3333333333333333,
              "#9c179e"
             ],
             [
              0.4444444444444444,
              "#bd3786"
             ],
             [
              0.5555555555555556,
              "#d8576b"
             ],
             [
              0.6666666666666666,
              "#ed7953"
             ],
             [
              0.7777777777777778,
              "#fb9f3a"
             ],
             [
              0.8888888888888888,
              "#fdca26"
             ],
             [
              1,
              "#f0f921"
             ]
            ],
            "type": "surface"
           }
          ],
          "table": [
           {
            "cells": {
             "fill": {
              "color": "#EBF0F8"
             },
             "line": {
              "color": "white"
             }
            },
            "header": {
             "fill": {
              "color": "#C8D4E3"
             },
             "line": {
              "color": "white"
             }
            },
            "type": "table"
           }
          ]
         },
         "layout": {
          "annotationdefaults": {
           "arrowcolor": "#2a3f5f",
           "arrowhead": 0,
           "arrowwidth": 1
          },
          "autotypenumbers": "strict",
          "coloraxis": {
           "colorbar": {
            "outlinewidth": 0,
            "ticks": ""
           }
          },
          "colorscale": {
           "diverging": [
            [
             0,
             "#8e0152"
            ],
            [
             0.1,
             "#c51b7d"
            ],
            [
             0.2,
             "#de77ae"
            ],
            [
             0.3,
             "#f1b6da"
            ],
            [
             0.4,
             "#fde0ef"
            ],
            [
             0.5,
             "#f7f7f7"
            ],
            [
             0.6,
             "#e6f5d0"
            ],
            [
             0.7,
             "#b8e186"
            ],
            [
             0.8,
             "#7fbc41"
            ],
            [
             0.9,
             "#4d9221"
            ],
            [
             1,
             "#276419"
            ]
           ],
           "sequential": [
            [
             0,
             "#0d0887"
            ],
            [
             0.1111111111111111,
             "#46039f"
            ],
            [
             0.2222222222222222,
             "#7201a8"
            ],
            [
             0.3333333333333333,
             "#9c179e"
            ],
            [
             0.4444444444444444,
             "#bd3786"
            ],
            [
             0.5555555555555556,
             "#d8576b"
            ],
            [
             0.6666666666666666,
             "#ed7953"
            ],
            [
             0.7777777777777778,
             "#fb9f3a"
            ],
            [
             0.8888888888888888,
             "#fdca26"
            ],
            [
             1,
             "#f0f921"
            ]
           ],
           "sequentialminus": [
            [
             0,
             "#0d0887"
            ],
            [
             0.1111111111111111,
             "#46039f"
            ],
            [
             0.2222222222222222,
             "#7201a8"
            ],
            [
             0.3333333333333333,
             "#9c179e"
            ],
            [
             0.4444444444444444,
             "#bd3786"
            ],
            [
             0.5555555555555556,
             "#d8576b"
            ],
            [
             0.6666666666666666,
             "#ed7953"
            ],
            [
             0.7777777777777778,
             "#fb9f3a"
            ],
            [
             0.8888888888888888,
             "#fdca26"
            ],
            [
             1,
             "#f0f921"
            ]
           ]
          },
          "colorway": [
           "#636efa",
           "#EF553B",
           "#00cc96",
           "#ab63fa",
           "#FFA15A",
           "#19d3f3",
           "#FF6692",
           "#B6E880",
           "#FF97FF",
           "#FECB52"
          ],
          "font": {
           "color": "#2a3f5f"
          },
          "geo": {
           "bgcolor": "white",
           "lakecolor": "white",
           "landcolor": "#E5ECF6",
           "showlakes": true,
           "showland": true,
           "subunitcolor": "white"
          },
          "hoverlabel": {
           "align": "left"
          },
          "hovermode": "closest",
          "mapbox": {
           "style": "light"
          },
          "paper_bgcolor": "white",
          "plot_bgcolor": "#E5ECF6",
          "polar": {
           "angularaxis": {
            "gridcolor": "white",
            "linecolor": "white",
            "ticks": ""
           },
           "bgcolor": "#E5ECF6",
           "radialaxis": {
            "gridcolor": "white",
            "linecolor": "white",
            "ticks": ""
           }
          },
          "scene": {
           "xaxis": {
            "backgroundcolor": "#E5ECF6",
            "gridcolor": "white",
            "gridwidth": 2,
            "linecolor": "white",
            "showbackground": true,
            "ticks": "",
            "zerolinecolor": "white"
           },
           "yaxis": {
            "backgroundcolor": "#E5ECF6",
            "gridcolor": "white",
            "gridwidth": 2,
            "linecolor": "white",
            "showbackground": true,
            "ticks": "",
            "zerolinecolor": "white"
           },
           "zaxis": {
            "backgroundcolor": "#E5ECF6",
            "gridcolor": "white",
            "gridwidth": 2,
            "linecolor": "white",
            "showbackground": true,
            "ticks": "",
            "zerolinecolor": "white"
           }
          },
          "shapedefaults": {
           "line": {
            "color": "#2a3f5f"
           }
          },
          "ternary": {
           "aaxis": {
            "gridcolor": "white",
            "linecolor": "white",
            "ticks": ""
           },
           "baxis": {
            "gridcolor": "white",
            "linecolor": "white",
            "ticks": ""
           },
           "bgcolor": "#E5ECF6",
           "caxis": {
            "gridcolor": "white",
            "linecolor": "white",
            "ticks": ""
           }
          },
          "title": {
           "x": 0.05
          },
          "xaxis": {
           "automargin": true,
           "gridcolor": "white",
           "linecolor": "white",
           "ticks": "",
           "title": {
            "standoff": 15
           },
           "zerolinecolor": "white",
           "zerolinewidth": 2
          },
          "yaxis": {
           "automargin": true,
           "gridcolor": "white",
           "linecolor": "white",
           "ticks": "",
           "title": {
            "standoff": 15
           },
           "zerolinecolor": "white",
           "zerolinewidth": 2
          }
         }
        },
        "title": {
         "text": "Text Description for Document 1"
        },
        "xaxis": {
         "anchor": "y",
         "domain": [
          0,
          0.45
         ],
         "title": {
          "font": {
           "size": 10
          },
          "text": "Word Frequencies"
         }
        },
        "xaxis2": {
         "anchor": "y2",
         "domain": [
          0.55,
          1
         ],
         "title": {
          "font": {
           "size": 10
          },
          "text": "Sentence Position in Document"
         }
        },
        "xaxis3": {
         "anchor": "y3",
         "domain": [
          0,
          0.45
         ],
         "title": {
          "font": {
           "size": 10
          },
          "text": "Sentence Lengths (Words)"
         }
        },
        "xaxis4": {
         "anchor": "y4",
         "domain": [
          0.55,
          1
         ],
         "title": {
          "font": {
           "size": 10
          },
          "text": "Word Lengths (Characters)"
         }
        },
        "yaxis": {
         "anchor": "x",
         "domain": [
          0.625,
          1
         ],
         "title": {
          "font": {
           "size": 10
          },
          "text": "Number of Words"
         }
        },
        "yaxis2": {
         "anchor": "x2",
         "domain": [
          0.625,
          1
         ],
         "title": {
          "font": {
           "size": 10
          },
          "text": "Sentence Length (Words)"
         }
        },
        "yaxis3": {
         "anchor": "x3",
         "domain": [
          0,
          0.375
         ],
         "title": {
          "font": {
           "size": 10
          },
          "text": "Number of Sentences"
         }
        },
        "yaxis4": {
         "anchor": "x4",
         "domain": [
          0,
          0.375
         ],
         "title": {
          "font": {
           "size": 10
          },
          "text": "Number of Words"
         }
        }
       }
      }
     },
     "metadata": {},
     "output_type": "display_data"
    },
    {
     "data": {
      "application/vnd.plotly.v1+json": {
       "config": {
        "plotlyServerURL": "https://plot.ly"
       },
       "data": [
        {
         "marker": {
          "color": "blue"
         },
         "showlegend": false,
         "type": "bar",
         "x": [
          1,
          7,
          3,
          2,
          5,
          27,
          10,
          4,
          8,
          6,
          9,
          15,
          16,
          11
         ],
         "xaxis": "x",
         "y": [
          149,
          2,
          16,
          39,
          2,
          1,
          3,
          3,
          1,
          1,
          1,
          1,
          1,
          1
         ],
         "yaxis": "y"
        },
        {
         "marker": {
          "color": "green"
         },
         "showlegend": false,
         "type": "bar",
         "x": [
          1,
          2,
          3,
          4,
          5,
          6,
          7,
          8,
          9,
          10,
          11,
          12,
          13,
          14,
          15
         ],
         "xaxis": "x2",
         "y": [
          33,
          23,
          17,
          12,
          35,
          35,
          23,
          10,
          24,
          32,
          14,
          39,
          22,
          41,
          24
         ],
         "yaxis": "y2"
        },
        {
         "marker": {
          "color": "red"
         },
         "nbinsx": 50,
         "opacity": 0.75,
         "showlegend": false,
         "type": "histogram",
         "x": [
          33,
          23,
          17,
          12,
          35,
          35,
          23,
          10,
          24,
          32,
          14,
          39,
          22,
          41,
          24
         ],
         "xaxis": "x3",
         "yaxis": "y3"
        },
        {
         "marker": {
          "color": "purple"
         },
         "nbinsx": 50,
         "opacity": 0.75,
         "showlegend": false,
         "type": "histogram",
         "x": [
          6,
          5,
          2,
          9,
          6,
          3,
          6,
          3,
          3,
          3,
          7,
          5,
          7,
          3,
          4,
          2,
          6,
          5,
          6,
          5,
          3,
          7,
          7,
          4,
          4,
          3,
          2,
          5,
          7,
          2,
          3,
          2,
          9,
          1,
          3,
          4,
          9,
          11,
          3,
          2,
          10,
          2,
          11,
          2,
          4,
          8,
          3,
          6,
          9,
          7,
          2,
          7,
          5,
          3,
          4,
          2,
          6,
          2,
          1,
          2,
          4,
          7,
          2,
          3,
          4,
          1,
          3,
          6,
          7,
          1,
          6,
          7,
          3,
          4,
          1,
          4,
          1,
          6,
          2,
          8,
          1,
          6,
          8,
          5,
          3,
          7,
          3,
          3,
          3,
          9,
          2,
          6,
          6,
          1,
          2,
          6,
          1,
          7,
          7,
          8,
          2,
          9,
          2,
          6,
          2,
          6,
          5,
          2,
          3,
          7,
          2,
          2,
          7,
          9,
          4,
          3,
          6,
          6,
          5,
          2,
          3,
          7,
          7,
          2,
          3,
          4,
          2,
          19,
          2,
          4,
          4,
          1,
          2,
          1,
          5,
          3,
          8,
          2,
          6,
          1,
          4,
          4,
          8,
          4,
          2,
          3,
          7,
          7,
          7,
          4,
          2,
          2,
          5,
          3,
          4,
          4,
          1,
          2,
          4,
          6,
          6,
          1,
          4,
          2,
          8,
          8,
          2,
          4,
          2,
          7,
          2,
          3,
          4,
          1,
          2,
          2,
          2,
          6,
          1,
          11,
          4,
          1,
          6,
          3,
          1,
          3,
          2,
          10,
          5,
          5,
          3,
          7,
          7,
          7,
          3,
          7,
          4,
          4,
          3,
          4,
          1,
          2,
          7,
          5,
          3,
          7,
          8,
          5,
          5,
          2,
          1,
          7,
          1,
          6,
          1,
          5,
          2,
          8,
          7,
          6,
          2,
          3,
          6,
          3,
          3,
          2,
          8,
          2,
          5,
          5,
          2,
          6,
          6,
          4,
          9,
          4,
          7,
          6,
          6,
          6,
          11,
          1,
          3,
          5,
          3,
          1,
          5,
          2,
          7,
          2,
          6,
          4,
          6,
          2,
          4,
          4,
          1,
          7,
          6,
          8,
          2,
          1,
          5,
          7,
          9,
          4,
          3,
          2,
          4,
          2,
          4,
          2,
          3,
          1,
          9,
          2,
          3,
          3,
          1,
          3,
          2,
          7,
          2,
          7,
          8,
          2,
          7,
          3,
          10,
          8,
          2,
          7,
          6,
          1,
          2,
          3,
          8,
          1,
          3,
          2,
          7,
          7,
          2,
          8,
          2,
          1,
          8,
          2,
          5,
          8,
          5,
          2,
          1,
          7,
          2,
          1,
          5,
          1,
          3,
          5,
          4,
          4,
          2,
          2,
          4,
          6,
          1,
          3,
          6,
          2,
          1,
          12,
          4,
          8,
          5,
          1,
          3,
          10,
          6,
          1,
          4,
          7,
          1,
          5,
          2,
          6,
          2,
          4,
          2,
          6,
          7,
          4,
          10,
          1,
          3,
          5,
          4,
          4,
          2,
          3,
          6,
          1,
          3,
          6,
          5,
          4,
          6,
          4,
          3,
          6,
          2,
          3,
          6,
          8,
          1,
          2,
          4,
          2,
          3,
          2,
          2,
          7,
          7,
          7,
          3,
          1,
          4,
          2,
          5,
          4,
          2,
          2,
          6,
          2,
          3,
          6,
          2,
          2,
          5,
          3,
          6,
          2,
          7,
          5,
          3,
          11,
          1,
          3,
          5,
          5,
          4,
          8,
          3,
          6,
          2,
          6,
          1,
          3,
          4,
          12,
          7,
          3,
          7,
          4,
          6,
          2,
          5,
          2,
          4,
          1,
          8,
          7,
          1
         ],
         "xaxis": "x4",
         "yaxis": "y4"
        }
       ],
       "layout": {
        "annotations": [
         {
          "font": {
           "size": 16
          },
          "showarrow": false,
          "text": "Word Frequencies",
          "x": 0.225,
          "xanchor": "center",
          "xref": "paper",
          "y": 1,
          "yanchor": "bottom",
          "yref": "paper"
         },
         {
          "font": {
           "size": 16
          },
          "showarrow": false,
          "text": "Sentence Positions",
          "x": 0.775,
          "xanchor": "center",
          "xref": "paper",
          "y": 1,
          "yanchor": "bottom",
          "yref": "paper"
         },
         {
          "font": {
           "size": 16
          },
          "showarrow": false,
          "text": "Sentence Lengths",
          "x": 0.225,
          "xanchor": "center",
          "xref": "paper",
          "y": 0.375,
          "yanchor": "bottom",
          "yref": "paper"
         },
         {
          "font": {
           "size": 16
          },
          "showarrow": false,
          "text": "Word Lengths",
          "x": 0.775,
          "xanchor": "center",
          "xref": "paper",
          "y": 0.375,
          "yanchor": "bottom",
          "yref": "paper"
         }
        ],
        "barmode": "overlay",
        "height": 800,
        "template": {
         "data": {
          "bar": [
           {
            "error_x": {
             "color": "#2a3f5f"
            },
            "error_y": {
             "color": "#2a3f5f"
            },
            "marker": {
             "line": {
              "color": "#E5ECF6",
              "width": 0.5
             },
             "pattern": {
              "fillmode": "overlay",
              "size": 10,
              "solidity": 0.2
             }
            },
            "type": "bar"
           }
          ],
          "barpolar": [
           {
            "marker": {
             "line": {
              "color": "#E5ECF6",
              "width": 0.5
             },
             "pattern": {
              "fillmode": "overlay",
              "size": 10,
              "solidity": 0.2
             }
            },
            "type": "barpolar"
           }
          ],
          "carpet": [
           {
            "aaxis": {
             "endlinecolor": "#2a3f5f",
             "gridcolor": "white",
             "linecolor": "white",
             "minorgridcolor": "white",
             "startlinecolor": "#2a3f5f"
            },
            "baxis": {
             "endlinecolor": "#2a3f5f",
             "gridcolor": "white",
             "linecolor": "white",
             "minorgridcolor": "white",
             "startlinecolor": "#2a3f5f"
            },
            "type": "carpet"
           }
          ],
          "choropleth": [
           {
            "colorbar": {
             "outlinewidth": 0,
             "ticks": ""
            },
            "type": "choropleth"
           }
          ],
          "contour": [
           {
            "colorbar": {
             "outlinewidth": 0,
             "ticks": ""
            },
            "colorscale": [
             [
              0,
              "#0d0887"
             ],
             [
              0.1111111111111111,
              "#46039f"
             ],
             [
              0.2222222222222222,
              "#7201a8"
             ],
             [
              0.3333333333333333,
              "#9c179e"
             ],
             [
              0.4444444444444444,
              "#bd3786"
             ],
             [
              0.5555555555555556,
              "#d8576b"
             ],
             [
              0.6666666666666666,
              "#ed7953"
             ],
             [
              0.7777777777777778,
              "#fb9f3a"
             ],
             [
              0.8888888888888888,
              "#fdca26"
             ],
             [
              1,
              "#f0f921"
             ]
            ],
            "type": "contour"
           }
          ],
          "contourcarpet": [
           {
            "colorbar": {
             "outlinewidth": 0,
             "ticks": ""
            },
            "type": "contourcarpet"
           }
          ],
          "heatmap": [
           {
            "colorbar": {
             "outlinewidth": 0,
             "ticks": ""
            },
            "colorscale": [
             [
              0,
              "#0d0887"
             ],
             [
              0.1111111111111111,
              "#46039f"
             ],
             [
              0.2222222222222222,
              "#7201a8"
             ],
             [
              0.3333333333333333,
              "#9c179e"
             ],
             [
              0.4444444444444444,
              "#bd3786"
             ],
             [
              0.5555555555555556,
              "#d8576b"
             ],
             [
              0.6666666666666666,
              "#ed7953"
             ],
             [
              0.7777777777777778,
              "#fb9f3a"
             ],
             [
              0.8888888888888888,
              "#fdca26"
             ],
             [
              1,
              "#f0f921"
             ]
            ],
            "type": "heatmap"
           }
          ],
          "heatmapgl": [
           {
            "colorbar": {
             "outlinewidth": 0,
             "ticks": ""
            },
            "colorscale": [
             [
              0,
              "#0d0887"
             ],
             [
              0.1111111111111111,
              "#46039f"
             ],
             [
              0.2222222222222222,
              "#7201a8"
             ],
             [
              0.3333333333333333,
              "#9c179e"
             ],
             [
              0.4444444444444444,
              "#bd3786"
             ],
             [
              0.5555555555555556,
              "#d8576b"
             ],
             [
              0.6666666666666666,
              "#ed7953"
             ],
             [
              0.7777777777777778,
              "#fb9f3a"
             ],
             [
              0.8888888888888888,
              "#fdca26"
             ],
             [
              1,
              "#f0f921"
             ]
            ],
            "type": "heatmapgl"
           }
          ],
          "histogram": [
           {
            "marker": {
             "pattern": {
              "fillmode": "overlay",
              "size": 10,
              "solidity": 0.2
             }
            },
            "type": "histogram"
           }
          ],
          "histogram2d": [
           {
            "colorbar": {
             "outlinewidth": 0,
             "ticks": ""
            },
            "colorscale": [
             [
              0,
              "#0d0887"
             ],
             [
              0.1111111111111111,
              "#46039f"
             ],
             [
              0.2222222222222222,
              "#7201a8"
             ],
             [
              0.3333333333333333,
              "#9c179e"
             ],
             [
              0.4444444444444444,
              "#bd3786"
             ],
             [
              0.5555555555555556,
              "#d8576b"
             ],
             [
              0.6666666666666666,
              "#ed7953"
             ],
             [
              0.7777777777777778,
              "#fb9f3a"
             ],
             [
              0.8888888888888888,
              "#fdca26"
             ],
             [
              1,
              "#f0f921"
             ]
            ],
            "type": "histogram2d"
           }
          ],
          "histogram2dcontour": [
           {
            "colorbar": {
             "outlinewidth": 0,
             "ticks": ""
            },
            "colorscale": [
             [
              0,
              "#0d0887"
             ],
             [
              0.1111111111111111,
              "#46039f"
             ],
             [
              0.2222222222222222,
              "#7201a8"
             ],
             [
              0.3333333333333333,
              "#9c179e"
             ],
             [
              0.4444444444444444,
              "#bd3786"
             ],
             [
              0.5555555555555556,
              "#d8576b"
             ],
             [
              0.6666666666666666,
              "#ed7953"
             ],
             [
              0.7777777777777778,
              "#fb9f3a"
             ],
             [
              0.8888888888888888,
              "#fdca26"
             ],
             [
              1,
              "#f0f921"
             ]
            ],
            "type": "histogram2dcontour"
           }
          ],
          "mesh3d": [
           {
            "colorbar": {
             "outlinewidth": 0,
             "ticks": ""
            },
            "type": "mesh3d"
           }
          ],
          "parcoords": [
           {
            "line": {
             "colorbar": {
              "outlinewidth": 0,
              "ticks": ""
             }
            },
            "type": "parcoords"
           }
          ],
          "pie": [
           {
            "automargin": true,
            "type": "pie"
           }
          ],
          "scatter": [
           {
            "fillpattern": {
             "fillmode": "overlay",
             "size": 10,
             "solidity": 0.2
            },
            "type": "scatter"
           }
          ],
          "scatter3d": [
           {
            "line": {
             "colorbar": {
              "outlinewidth": 0,
              "ticks": ""
             }
            },
            "marker": {
             "colorbar": {
              "outlinewidth": 0,
              "ticks": ""
             }
            },
            "type": "scatter3d"
           }
          ],
          "scattercarpet": [
           {
            "marker": {
             "colorbar": {
              "outlinewidth": 0,
              "ticks": ""
             }
            },
            "type": "scattercarpet"
           }
          ],
          "scattergeo": [
           {
            "marker": {
             "colorbar": {
              "outlinewidth": 0,
              "ticks": ""
             }
            },
            "type": "scattergeo"
           }
          ],
          "scattergl": [
           {
            "marker": {
             "colorbar": {
              "outlinewidth": 0,
              "ticks": ""
             }
            },
            "type": "scattergl"
           }
          ],
          "scattermapbox": [
           {
            "marker": {
             "colorbar": {
              "outlinewidth": 0,
              "ticks": ""
             }
            },
            "type": "scattermapbox"
           }
          ],
          "scatterpolar": [
           {
            "marker": {
             "colorbar": {
              "outlinewidth": 0,
              "ticks": ""
             }
            },
            "type": "scatterpolar"
           }
          ],
          "scatterpolargl": [
           {
            "marker": {
             "colorbar": {
              "outlinewidth": 0,
              "ticks": ""
             }
            },
            "type": "scatterpolargl"
           }
          ],
          "scatterternary": [
           {
            "marker": {
             "colorbar": {
              "outlinewidth": 0,
              "ticks": ""
             }
            },
            "type": "scatterternary"
           }
          ],
          "surface": [
           {
            "colorbar": {
             "outlinewidth": 0,
             "ticks": ""
            },
            "colorscale": [
             [
              0,
              "#0d0887"
             ],
             [
              0.1111111111111111,
              "#46039f"
             ],
             [
              0.2222222222222222,
              "#7201a8"
             ],
             [
              0.3333333333333333,
              "#9c179e"
             ],
             [
              0.4444444444444444,
              "#bd3786"
             ],
             [
              0.5555555555555556,
              "#d8576b"
             ],
             [
              0.6666666666666666,
              "#ed7953"
             ],
             [
              0.7777777777777778,
              "#fb9f3a"
             ],
             [
              0.8888888888888888,
              "#fdca26"
             ],
             [
              1,
              "#f0f921"
             ]
            ],
            "type": "surface"
           }
          ],
          "table": [
           {
            "cells": {
             "fill": {
              "color": "#EBF0F8"
             },
             "line": {
              "color": "white"
             }
            },
            "header": {
             "fill": {
              "color": "#C8D4E3"
             },
             "line": {
              "color": "white"
             }
            },
            "type": "table"
           }
          ]
         },
         "layout": {
          "annotationdefaults": {
           "arrowcolor": "#2a3f5f",
           "arrowhead": 0,
           "arrowwidth": 1
          },
          "autotypenumbers": "strict",
          "coloraxis": {
           "colorbar": {
            "outlinewidth": 0,
            "ticks": ""
           }
          },
          "colorscale": {
           "diverging": [
            [
             0,
             "#8e0152"
            ],
            [
             0.1,
             "#c51b7d"
            ],
            [
             0.2,
             "#de77ae"
            ],
            [
             0.3,
             "#f1b6da"
            ],
            [
             0.4,
             "#fde0ef"
            ],
            [
             0.5,
             "#f7f7f7"
            ],
            [
             0.6,
             "#e6f5d0"
            ],
            [
             0.7,
             "#b8e186"
            ],
            [
             0.8,
             "#7fbc41"
            ],
            [
             0.9,
             "#4d9221"
            ],
            [
             1,
             "#276419"
            ]
           ],
           "sequential": [
            [
             0,
             "#0d0887"
            ],
            [
             0.1111111111111111,
             "#46039f"
            ],
            [
             0.2222222222222222,
             "#7201a8"
            ],
            [
             0.3333333333333333,
             "#9c179e"
            ],
            [
             0.4444444444444444,
             "#bd3786"
            ],
            [
             0.5555555555555556,
             "#d8576b"
            ],
            [
             0.6666666666666666,
             "#ed7953"
            ],
            [
             0.7777777777777778,
             "#fb9f3a"
            ],
            [
             0.8888888888888888,
             "#fdca26"
            ],
            [
             1,
             "#f0f921"
            ]
           ],
           "sequentialminus": [
            [
             0,
             "#0d0887"
            ],
            [
             0.1111111111111111,
             "#46039f"
            ],
            [
             0.2222222222222222,
             "#7201a8"
            ],
            [
             0.3333333333333333,
             "#9c179e"
            ],
            [
             0.4444444444444444,
             "#bd3786"
            ],
            [
             0.5555555555555556,
             "#d8576b"
            ],
            [
             0.6666666666666666,
             "#ed7953"
            ],
            [
             0.7777777777777778,
             "#fb9f3a"
            ],
            [
             0.8888888888888888,
             "#fdca26"
            ],
            [
             1,
             "#f0f921"
            ]
           ]
          },
          "colorway": [
           "#636efa",
           "#EF553B",
           "#00cc96",
           "#ab63fa",
           "#FFA15A",
           "#19d3f3",
           "#FF6692",
           "#B6E880",
           "#FF97FF",
           "#FECB52"
          ],
          "font": {
           "color": "#2a3f5f"
          },
          "geo": {
           "bgcolor": "white",
           "lakecolor": "white",
           "landcolor": "#E5ECF6",
           "showlakes": true,
           "showland": true,
           "subunitcolor": "white"
          },
          "hoverlabel": {
           "align": "left"
          },
          "hovermode": "closest",
          "mapbox": {
           "style": "light"
          },
          "paper_bgcolor": "white",
          "plot_bgcolor": "#E5ECF6",
          "polar": {
           "angularaxis": {
            "gridcolor": "white",
            "linecolor": "white",
            "ticks": ""
           },
           "bgcolor": "#E5ECF6",
           "radialaxis": {
            "gridcolor": "white",
            "linecolor": "white",
            "ticks": ""
           }
          },
          "scene": {
           "xaxis": {
            "backgroundcolor": "#E5ECF6",
            "gridcolor": "white",
            "gridwidth": 2,
            "linecolor": "white",
            "showbackground": true,
            "ticks": "",
            "zerolinecolor": "white"
           },
           "yaxis": {
            "backgroundcolor": "#E5ECF6",
            "gridcolor": "white",
            "gridwidth": 2,
            "linecolor": "white",
            "showbackground": true,
            "ticks": "",
            "zerolinecolor": "white"
           },
           "zaxis": {
            "backgroundcolor": "#E5ECF6",
            "gridcolor": "white",
            "gridwidth": 2,
            "linecolor": "white",
            "showbackground": true,
            "ticks": "",
            "zerolinecolor": "white"
           }
          },
          "shapedefaults": {
           "line": {
            "color": "#2a3f5f"
           }
          },
          "ternary": {
           "aaxis": {
            "gridcolor": "white",
            "linecolor": "white",
            "ticks": ""
           },
           "baxis": {
            "gridcolor": "white",
            "linecolor": "white",
            "ticks": ""
           },
           "bgcolor": "#E5ECF6",
           "caxis": {
            "gridcolor": "white",
            "linecolor": "white",
            "ticks": ""
           }
          },
          "title": {
           "x": 0.05
          },
          "xaxis": {
           "automargin": true,
           "gridcolor": "white",
           "linecolor": "white",
           "ticks": "",
           "title": {
            "standoff": 15
           },
           "zerolinecolor": "white",
           "zerolinewidth": 2
          },
          "yaxis": {
           "automargin": true,
           "gridcolor": "white",
           "linecolor": "white",
           "ticks": "",
           "title": {
            "standoff": 15
           },
           "zerolinecolor": "white",
           "zerolinewidth": 2
          }
         }
        },
        "title": {
         "text": "Text Description for Document 2"
        },
        "xaxis": {
         "anchor": "y",
         "domain": [
          0,
          0.45
         ],
         "title": {
          "font": {
           "size": 10
          },
          "text": "Word Frequencies"
         }
        },
        "xaxis2": {
         "anchor": "y2",
         "domain": [
          0.55,
          1
         ],
         "title": {
          "font": {
           "size": 10
          },
          "text": "Sentence Position in Document"
         }
        },
        "xaxis3": {
         "anchor": "y3",
         "domain": [
          0,
          0.45
         ],
         "title": {
          "font": {
           "size": 10
          },
          "text": "Sentence Lengths (Words)"
         }
        },
        "xaxis4": {
         "anchor": "y4",
         "domain": [
          0.55,
          1
         ],
         "title": {
          "font": {
           "size": 10
          },
          "text": "Word Lengths (Characters)"
         }
        },
        "yaxis": {
         "anchor": "x",
         "domain": [
          0.625,
          1
         ],
         "title": {
          "font": {
           "size": 10
          },
          "text": "Number of Words"
         }
        },
        "yaxis2": {
         "anchor": "x2",
         "domain": [
          0.625,
          1
         ],
         "title": {
          "font": {
           "size": 10
          },
          "text": "Sentence Length (Words)"
         }
        },
        "yaxis3": {
         "anchor": "x3",
         "domain": [
          0,
          0.375
         ],
         "title": {
          "font": {
           "size": 10
          },
          "text": "Number of Sentences"
         }
        },
        "yaxis4": {
         "anchor": "x4",
         "domain": [
          0,
          0.375
         ],
         "title": {
          "font": {
           "size": 10
          },
          "text": "Number of Words"
         }
        }
       }
      }
     },
     "metadata": {},
     "output_type": "display_data"
    }
   ],
   "source": [
    "params = {\n",
    "    \"text_column\": 'input',\n",
    "    \"num_docs_to_plot\": 2\n",
    "}\n",
    "\n",
    "text_structure_histograms(df_summarization, params)"
   ]
  },
  {
   "attachments": {},
   "cell_type": "markdown",
   "metadata": {},
   "source": [
    "### Model Performance Metrics"
   ]
  },
  {
   "attachments": {},
   "cell_type": "markdown",
   "metadata": {},
   "source": [
    "##### Token Disparity Histograms"
   ]
  },
  {
   "cell_type": "code",
   "execution_count": null,
   "metadata": {},
   "outputs": [],
   "source": [
    "params = {\n",
    "    \"reference_column\": 'reference_summary',\n",
    "    \"generated_column\": 'summary_2'\n",
    "}\n",
    "\n",
    "token_disparity_histograms(df_summarization, params)"
   ]
  },
  {
   "attachments": {},
   "cell_type": "markdown",
   "metadata": {},
   "source": [
    "##### ROUGE-N Score"
   ]
  },
  {
   "attachments": {},
   "cell_type": "markdown",
   "metadata": {},
   "source": [
    "The ROUGE score ((Recall-Oriented Understudy for Gisting Evaluation) is a widely adopted set of metrics used for evaluating automatic summarization and machine translation. It fundamentally measures the overlap between the n-grams in the generated summary and those in the reference summary.\n",
    "\n",
    "- ROUGE-N: This evaluates the overlap of n-grams between the produced summary and reference summary. It calculates precision (the proportion of n-grams in the generated summary that are also present in the reference summary), recall (the proportion of n-grams in the reference summary that are also present in the generated summary), and F1 score (the harmonic mean of precision and recall).\n",
    "\n",
    "- ROUGE-L: This metric is based on the Longest Common Subsequence (LCS) between the generated and reference summaries. LCS measures the longest sequence of tokens in the generated summary that matches the reference, without considering the order. It's beneficial because it can identify and reward longer coherent matching sequences.\n",
    "\n",
    "- ROUGE-S: This measures the skip-bigram overlap, considering the pair of words in order as \"bigrams\" while allowing arbitrary gaps or \"skips\". This can be valuable to capture sentence-level structure similarity."
   ]
  },
  {
   "cell_type": "code",
   "execution_count": null,
   "metadata": {},
   "outputs": [],
   "source": [
    "params = {\n",
    "    \"metric\": \"rouge-l\",\n",
    "    \"ref_column\": \"reference_summary\",\n",
    "    \"gen_column\": \"summary_2\", \n",
    "}\n",
    "\n",
    "rouge_scores_plot(df_summarization, params)\n"
   ]
  },
  {
   "attachments": {},
   "cell_type": "markdown",
   "metadata": {},
   "source": [
    "### Bias Metrics"
   ]
  },
  {
   "attachments": {},
   "cell_type": "markdown",
   "metadata": {},
   "source": [
    "### Toxicity Metrics"
   ]
  },
  {
   "attachments": {},
   "cell_type": "markdown",
   "metadata": {},
   "source": [
    "##### Toxicity Table"
   ]
  },
  {
   "cell_type": "code",
   "execution_count": null,
   "metadata": {},
   "outputs": [],
   "source": [
    "# Use the function with the parameters\n",
    "params = {\n",
    "    \"hf_toxicity_obj\": toxicity,\n",
    "    \"text_columns\": [\"input\", \"reference_summary\"],\n",
    "    \"max_toxicity_threshold\": 0.7,\n",
    "    \"min_toxicity_threshold\": 0.1\n",
    "}\n",
    "\n",
    "df_metric_results = hf_toxicity_table(df_summarization, params)\n",
    "display_nice(df_metric_results, num_rows=2)"
   ]
  },
  {
   "attachments": {},
   "cell_type": "markdown",
   "metadata": {},
   "source": [
    "##### Toxicity Histograms"
   ]
  },
  {
   "cell_type": "code",
   "execution_count": null,
   "metadata": {},
   "outputs": [],
   "source": [
    "params = {\n",
    "    \"hf_toxicity_obj\": toxicity,\n",
    "    \"input_text_col\": \"input\",\n",
    "    \"generated_text_col\": \"reference_summary\"\n",
    "}\n",
    "\n",
    "hf_toxicity_histograms(df_summarization, params)"
   ]
  },
  {
   "attachments": {},
   "cell_type": "markdown",
   "metadata": {},
   "source": [
    "##### Toxicity Plots"
   ]
  },
  {
   "cell_type": "code",
   "execution_count": null,
   "metadata": {},
   "outputs": [],
   "source": [
    "params = {\n",
    "    \"hf_toxicity_obj\": toxicity,\n",
    "    \"input_text_col\": \"input\",\n",
    "    \"generated_text_col\": \"reference_summary\",\n",
    "    \"generated_score_threshold\": 0\n",
    "}\n",
    "hf_toxicity_plot(df_summarization, params)"
   ]
  },
  {
   "attachments": {},
   "cell_type": "markdown",
   "metadata": {},
   "source": [
    "### Safety Metrics"
   ]
  }
 ],
 "metadata": {
  "kernelspec": {
   "display_name": "dev-framework",
   "language": "python",
   "name": "dev-framework"
  },
  "language_info": {
   "codemirror_mode": {
    "name": "ipython",
    "version": 3
   },
   "file_extension": ".py",
   "mimetype": "text/x-python",
   "name": "python",
   "nbconvert_exporter": "python",
   "pygments_lexer": "ipython3",
   "version": "3.10.13"
  },
  "orig_nbformat": 4
 },
 "nbformat": 4,
 "nbformat_minor": 2
}
