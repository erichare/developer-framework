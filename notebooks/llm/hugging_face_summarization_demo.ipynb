{
 "cells": [
  {
   "attachments": {},
   "cell_type": "markdown",
   "metadata": {},
   "source": [
    "# Summarization of financial data using Hugging Face LLM models\n",
    "This notebook aims to provide an introduction to documenting an LLM model using the ValidMind Developer Framework. The use case presented is a summarization of financial data (https://huggingface.co/datasets/financial_phrasebank).\n",
    "\n",
    "- Initializing the ValidMind Developer Framework\n",
    "- Running a test various tests to quickly generate document about the data and model\n",
    "\n",
    "## Before you begin\n",
    "\n",
    "To use the ValidMind Developer Framework with a Jupyter notebook, you need to install and initialize the client library first, along with getting your Python environment ready.\n",
    "\n",
    "If you don't already have one, you should also [create a documentation project](https://docs.validmind.ai/guide/create-your-first-documentation-project.html) on the ValidMind platform. You will use this project to upload your documentation and test results.\n",
    "\n",
    "## Install the client library"
   ]
  },
  {
   "cell_type": "code",
   "execution_count": 1,
   "metadata": {},
   "outputs": [],
   "source": [
    "# %pip install --upgrade validmind"
   ]
  },
  {
   "attachments": {},
   "cell_type": "markdown",
   "metadata": {},
   "source": [
    "## Initialize the client library\n",
    "\n",
    "In a browser, go to the **Client Integration** page of your documentation project and click **Copy to clipboard** next to the code snippet. This code snippet gives you the API key, API secret, and project identifier to link your notebook to your documentation project.\n",
    "\n",
    "::: {.column-margin}\n",
    "::: {.callout-tip}\n",
    "This step requires a documentation project. [Learn how you can create one](https://docs.validmind.ai/guide/create-your-first-documentation-project.html).\n",
    ":::\n",
    ":::\n",
    "\n",
    "Next, replace this placeholder with your own code snippet:"
   ]
  },
  {
   "cell_type": "code",
   "execution_count": 2,
   "metadata": {},
   "outputs": [
    {
     "name": "stderr",
     "output_type": "stream",
     "text": [
      "2023-08-30 10:25:31,629 - INFO(validmind.api_client): Connected to ValidMind. Project: [11] Credit Risk Scorecard - Initial Validation (cllnq0ckr000273y6ev40pmb5)\n"
     ]
    },
    {
     "name": "stdout",
     "output_type": "stream",
     "text": [
      "/Users/juanvalidmind/Library/Caches/pypoetry/virtualenvs/validmind-X_uvMH0R-py3.10/bin/python\n"
     ]
    }
   ],
   "source": [
    "## Replace the code below with the code snippet from your project ## \n",
    "\n",
    "\n",
    "import validmind as vm\n",
    "\n",
    "vm.init(\n",
    "  api_host = \"http://localhost:3000/api/v1/tracking\",\n",
    "  api_key = \"2494c3838f48efe590d531bfe225d90b\",\n",
    "  api_secret = \"4f692f8161f128414fef542cab2a4e74834c75d01b3a8e088a1834f2afcfe838\",\n",
    "  project = \"cllnq0ckr000273y6ev40pmb5\"\n",
    ")\n",
    "\n",
    "import sys\n",
    "print(sys.executable)"
   ]
  },
  {
   "attachments": {},
   "cell_type": "markdown",
   "metadata": {},
   "source": [
    "### Import Libraries"
   ]
  },
  {
   "cell_type": "code",
   "execution_count": 3,
   "metadata": {},
   "outputs": [],
   "source": [
    "from transformers import pipeline\n",
    "from transformers import BertTokenizer, BertModel\n",
    "from transformers import AutoTokenizer, AutoModelForSeq2SeqLM\n",
    "from transformers import AutoTokenizer\n",
    "from sklearn.metrics.pairwise import cosine_similarity\n",
    "import textwrap\n",
    "import numpy as np\n",
    "import pandas as pd\n",
    "from pprint import pprint\n",
    "import torch\n",
    "\n",
    "from dataclasses import dataclass"
   ]
  },
  {
   "attachments": {},
   "cell_type": "markdown",
   "metadata": {},
   "source": [
    "### Preprocessing functions"
   ]
  },
  {
   "cell_type": "code",
   "execution_count": 4,
   "metadata": {},
   "outputs": [],
   "source": [
    "import pandas as pd\n",
    "import textwrap\n",
    "from tabulate import tabulate\n",
    "from IPython.display import display, HTML\n",
    "\n",
    "def _format_cell_text(text, width=50):  \n",
    "    \"\"\"Private function to format a cell's text.\"\"\"\n",
    "    return '\\n'.join([textwrap.fill(line, width=width) for line in text.split('\\n')])\n",
    "\n",
    "def _format_dataframe_for_tabulate(df):\n",
    "    \"\"\"Private function to format the entire DataFrame for tabulation.\"\"\"\n",
    "    df_out = df.copy()\n",
    "    \n",
    "    # Format all string columns\n",
    "    for column in df_out.columns:\n",
    "        if df_out[column].dtype == object:  # Check if column is of type object (likely strings)\n",
    "            df_out[column] = df_out[column].apply(_format_cell_text)\n",
    "    return df_out\n",
    "\n",
    "def _dataframe_to_html_table(df):\n",
    "    \"\"\"Private function to convert a DataFrame to an HTML table.\"\"\"\n",
    "    headers = df.columns.tolist()\n",
    "    table_data = df.values.tolist()\n",
    "    return tabulate(table_data, headers=headers, tablefmt=\"html\")\n",
    "\n",
    "def display_formatted_dataframe(df, num_rows=None):\n",
    "    \"\"\"Primary function to format and display a DataFrame.\"\"\"\n",
    "    if num_rows is not None:\n",
    "        df = df.head(num_rows)\n",
    "    formatted_df = _format_dataframe_for_tabulate(df)\n",
    "    html_table = _dataframe_to_html_table(formatted_df)\n",
    "    display(HTML(html_table))\n"
   ]
  },
  {
   "cell_type": "code",
   "execution_count": 5,
   "metadata": {},
   "outputs": [],
   "source": [
    "def add_summaries_to_df(df, summaries):\n",
    "    \"\"\"\n",
    "    Adds a new column 'summary_X' to the dataframe df that contains the given summaries, where X is an incremental number.\n",
    "\n",
    "    Parameters:\n",
    "    - df: The original pandas DataFrame.\n",
    "    - summaries: List/array of summarized texts.\n",
    "\n",
    "    Returns:\n",
    "    - A new DataFrame with an additional summary column, with 'labels' being the first column followed by the original 'text'.\n",
    "    \"\"\"\n",
    "\n",
    "    df = df.copy()  # Make an explicit copy of the DataFrame\n",
    "\n",
    "    # Check if the length of summaries matches the number of rows in the DataFrame\n",
    "    if len(summaries) != len(df):\n",
    "        raise ValueError(f\"The number of summaries ({len(summaries)}) does not match the number of rows in the DataFrame ({len(df)}).\")\n",
    "\n",
    "    # Determine the name for the new summary column\n",
    "    col_index = 1\n",
    "    col_name = 'summary_1'\n",
    "    while col_name in df.columns:\n",
    "        col_index += 1\n",
    "        col_name = f'summary_{col_index}'\n",
    "\n",
    "    # Add the summaries to the DataFrame\n",
    "    df[col_name] = summaries\n",
    "\n",
    "    # Rearrange the DataFrame columns to have 'topic' first, then the original 'input', followed by summary columns\n",
    "    summary_columns = [col for col in df.columns if col.startswith('summary')]\n",
    "    other_columns = [col for col in df.columns if col not in summary_columns + ['topic', 'input', 'reference_summary']]\n",
    "    \n",
    "    columns_order = ['topic', 'input', 'reference_summary'] + sorted(summary_columns) + other_columns\n",
    "    df = df[columns_order]\n",
    "\n",
    "    return df\n"
   ]
  },
  {
   "cell_type": "code",
   "execution_count": 6,
   "metadata": {},
   "outputs": [],
   "source": [
    "import pandas as pd\n",
    "from rouge import Rouge\n",
    "import plotly.graph_objects as go\n",
    "\n",
    "def calculate_rouge_scores(df, ref_column, gen_column, metric=\"rouge-2\"):\n",
    "    \"\"\"\n",
    "    Compute ROUGE scores for each row in the DataFrame.\n",
    "\n",
    "    :param df: DataFrame containing the summaries\n",
    "    :param ref_column: Column name for the reference summaries\n",
    "    :param gen_column: Column name for the generated summaries\n",
    "    :param metric: Type of ROUGE metric (\"rouge-1\", \"rouge-2\", \"rouge-l\", \"rouge-s\")\n",
    "    :return: DataFrame with ROUGE scores for each row\n",
    "    \"\"\"\n",
    "    if metric not in [\"rouge-1\", \"rouge-2\", \"rouge-l\", \"rouge-s\"]:\n",
    "        raise ValueError(\"Invalid metric. Choose from 'rouge-1', 'rouge-2', 'rouge-l', 'rouge-s'.\")\n",
    "    \n",
    "    rouge = Rouge(metrics=[metric])\n",
    "    score_list = []\n",
    "    \n",
    "    for _, row in df.iterrows():\n",
    "        scores = rouge.get_scores(row[gen_column], row[ref_column], avg=True)[metric]\n",
    "        score_list.append(scores)\n",
    "    \n",
    "    return pd.DataFrame(score_list)\n",
    "\n",
    "def visualize_rouge_scores(df_scores):\n",
    "    \"\"\"\n",
    "    Visualize ROUGE scores using Plotly line plots for each row.\n",
    "\n",
    "    :param df_scores: DataFrame of ROUGE scores.\n",
    "    \"\"\"\n",
    "    fig = go.Figure()\n",
    "\n",
    "    # Adding the line plots\n",
    "    fig.add_trace(go.Scatter(x=df_scores.index, y=df_scores['p'], mode='lines+markers', name='Precision'))\n",
    "    fig.add_trace(go.Scatter(x=df_scores.index, y=df_scores['r'], mode='lines+markers', name='Recall'))\n",
    "    fig.add_trace(go.Scatter(x=df_scores.index, y=df_scores['f'], mode='lines+markers', name='F1 Score'))\n",
    "\n",
    "    fig.update_layout(\n",
    "        title=\"ROUGE Scores for Each Row\",\n",
    "        xaxis_title=\"Row Index\",\n",
    "        yaxis_title=\"Score\"\n",
    "    )\n",
    "    fig.show()"
   ]
  },
  {
   "attachments": {},
   "cell_type": "markdown",
   "metadata": {},
   "source": [
    "### POC Validation Metrics"
   ]
  },
  {
   "cell_type": "code",
   "execution_count": 7,
   "metadata": {},
   "outputs": [],
   "source": [
    "import pandas as pd\n",
    "import nltk\n",
    "from nltk.corpus import stopwords\n",
    "from collections import Counter\n",
    "import string\n",
    "import plotly.express as px\n",
    "from itertools import combinations\n",
    "\n",
    "# First function\n",
    "def general_text_metrics(df, text_column):\n",
    "    nltk.download('punkt', quiet=True)\n",
    "    \n",
    "    results = []\n",
    "\n",
    "    for text in df[text_column]:\n",
    "        sentences = nltk.sent_tokenize(text)\n",
    "        words = nltk.word_tokenize(text)\n",
    "        paragraphs = text.split(\"\\n\\n\")\n",
    "\n",
    "        total_words = len(words)\n",
    "        total_sentences = len(sentences)\n",
    "        avg_sentence_length = round(sum(len(sentence.split()) for sentence in sentences) / total_sentences if total_sentences else 0, 1)\n",
    "        total_paragraphs = len(paragraphs)\n",
    "\n",
    "        results.append([total_words, total_sentences, avg_sentence_length, total_paragraphs])\n",
    "\n",
    "    return pd.DataFrame(results, columns=[\"Total Words\", \"Total Sentences\", \"Avg Sentence Length\", \"Total Paragraphs\"])\n",
    "\n",
    "# Second function\n",
    "def vocabulary_structure_metrics(df, text_column, unwanted_tokens, num_top_words, lang):\n",
    "    stop_words = set(word.lower() for word in stopwords.words(lang))\n",
    "    unwanted_tokens = set(token.lower() for token in unwanted_tokens)\n",
    "\n",
    "    results = []\n",
    "\n",
    "    for text in df[text_column]:\n",
    "        words = nltk.word_tokenize(text)\n",
    "\n",
    "        filtered_words = [word for word in words if word.lower() not in stop_words and word.lower() not in unwanted_tokens and word not in string.punctuation]\n",
    "\n",
    "        total_unique_words = len(set(filtered_words))\n",
    "        total_punctuations = sum(1 for word in words if word in string.punctuation)\n",
    "        lexical_diversity = round(total_unique_words / len(filtered_words) if filtered_words else 0, 1)\n",
    "\n",
    "        results.append([total_unique_words, total_punctuations, lexical_diversity])\n",
    "\n",
    "    return pd.DataFrame(results, columns=[\"Total Unique Words\", \"Total Punctuations\", \"Lexical Diversity\"])\n",
    "\n",
    "# Wrapper function that combines the outputs\n",
    "def text_metrics_summary_table(df, params):\n",
    "    text_column = params[\"text_column\"]\n",
    "    unwanted_tokens = params[\"unwanted_tokens\"]\n",
    "    num_top_words = params[\"num_top_words\"]\n",
    "    lang = params[\"lang\"]\n",
    "    \n",
    "    gen_metrics_df = general_text_metrics(df, text_column)\n",
    "    vocab_metrics_df = vocabulary_structure_metrics(df, text_column, unwanted_tokens, num_top_words, lang)\n",
    "    \n",
    "    combined_df = pd.concat([gen_metrics_df, vocab_metrics_df], axis=1)\n",
    "    \n",
    "    return combined_df\n",
    "\n",
    "# Function to plot scatter plots for specified combinations using Plotly\n",
    "def plot_specified_scatter(df, combinations_to_plot):\n",
    "    for metric1, metric2 in combinations_to_plot:\n",
    "        fig = px.scatter(df, x=metric1, y=metric2, title=f\"Scatter Plot: {metric1} vs {metric2}\")\n",
    "        fig.show()\n"
   ]
  },
  {
   "cell_type": "code",
   "execution_count": 8,
   "metadata": {},
   "outputs": [],
   "source": [
    "import pandas as pd\n",
    "import plotly.graph_objects as go\n",
    "import plotly.subplots as sp\n",
    "import nltk\n",
    "from collections import Counter\n",
    "\n",
    "def text_metrics_summary_plot(df, text_column, num_docs_to_plot=None):\n",
    "    # Ensure the nltk punkt tokenizer is downloaded\n",
    "    nltk.download('punkt', quiet=True)\n",
    "    \n",
    "    # Decide on the number of documents to plot\n",
    "    if not num_docs_to_plot or num_docs_to_plot > len(df):\n",
    "        num_docs_to_plot = len(df)\n",
    "\n",
    "    # Colors for each subplot\n",
    "    colors = ['blue', 'green', 'red', 'purple']\n",
    "\n",
    "    # Axis titles for clarity\n",
    "    x_titles = [\n",
    "        \"Word Frequencies\",\n",
    "        \"Sentence Position in Document\",\n",
    "        \"Sentence Lengths (Words)\",\n",
    "        \"Word Lengths (Characters)\"\n",
    "    ]\n",
    "    y_titles = [\n",
    "        \"Number of Words\",\n",
    "        \"Sentence Length (Words)\",\n",
    "        \"Number of Sentences\",\n",
    "        \"Number of Words\"\n",
    "    ]\n",
    "\n",
    "    # Iterate over each document in the DataFrame up to the user-specified limit\n",
    "    for index, (idx, row) in enumerate(df.head(num_docs_to_plot).iterrows()):\n",
    "        # Create subplots with a 2x2 grid for each metric\n",
    "        fig = sp.make_subplots(\n",
    "            rows=2, cols=2, \n",
    "            subplot_titles=[\n",
    "                \"Word Frequencies\", \n",
    "                \"Sentence Positions\",\n",
    "                \"Sentence Lengths\", \n",
    "                \"Word Lengths\"\n",
    "            ]\n",
    "        )\n",
    "        \n",
    "        # Tokenize document into sentences and words\n",
    "        sentences = nltk.sent_tokenize(row[text_column])\n",
    "        words = nltk.word_tokenize(row[text_column])\n",
    "        \n",
    "        # Metrics computation\n",
    "        word_freq = Counter(words)\n",
    "        freq_counts = Counter(word_freq.values())\n",
    "        word_frequencies = list(freq_counts.keys())\n",
    "        word_frequency_counts = list(freq_counts.values())\n",
    "        \n",
    "        sentence_positions = list(range(1, len(sentences) + 1))\n",
    "        sentence_lengths = [len(sentence.split()) for sentence in sentences]\n",
    "        word_lengths = [len(word) for word in words]\n",
    "        \n",
    "        # Adding data to subplots\n",
    "        fig.add_trace(go.Bar(x=word_frequencies, y=word_frequency_counts, marker_color=colors[0], showlegend=False), row=1, col=1)\n",
    "        fig.add_trace(go.Bar(x=sentence_positions, y=sentence_lengths, marker_color=colors[1], showlegend=False), row=1, col=2)\n",
    "        fig.add_trace(go.Histogram(x=sentence_lengths, nbinsx=50, opacity=0.75, marker_color=colors[2], showlegend=False), row=2, col=1)\n",
    "        fig.add_trace(go.Histogram(x=word_lengths, nbinsx=50, opacity=0.75, marker_color=colors[3], showlegend=False), row=2, col=2)\n",
    "\n",
    "        # Update x and y axis titles\n",
    "        for i, (x_title, y_title) in enumerate(zip(x_titles, y_titles)):\n",
    "            fig['layout'][f'xaxis{i+1}'].update(title=x_title, titlefont=dict(size=10))\n",
    "            fig['layout'][f'yaxis{i+1}'].update(title=y_title, titlefont=dict(size=10))\n",
    "\n",
    "        # Update layout\n",
    "        fig.update_layout(\n",
    "            title=f\"Summary Metrics for Document {index+1}\",\n",
    "            barmode='overlay',\n",
    "            height=800\n",
    "        )\n",
    "        \n",
    "        fig.show()"
   ]
  },
  {
   "attachments": {},
   "cell_type": "markdown",
   "metadata": {},
   "source": [
    "### Hugging Face summarisation wrappers\n",
    "\n",
    "The following code template showcases how to wrap a Hugging Face model for compatibility with the ValidMind Developer Framework. We will load an example model using the transformers API and then run some predictions on our test dataset.\n",
    "\n",
    "The ValidMind developer framework provides support for Hugging Face transformers out of the box, so in the following section we will show how to initialize multiple transformers models with the `init_model` function, removing the need for a custom wrapper. In cases where you need extra pre-processing or post-processing steps, you can use the following code template as a starting point to wrap your model."
   ]
  },
  {
   "cell_type": "code",
   "execution_count": 9,
   "metadata": {},
   "outputs": [],
   "source": [
    "from transformers import pipeline\n",
    "\n",
    "@dataclass\n",
    "\n",
    "class AbstractSummarization_HuggingFace:\n",
    "    \"\"\"\n",
    "    A VM Model instance wrapper only requires a predict \n",
    "    \"\"\"\n",
    "\n",
    "    predicted_prob_values = None\n",
    "\n",
    "    def __init__(self, pipeline_task, model_name=None, model=None, tokenizer=None):\n",
    "        self.model_name = model_name\n",
    "        self.pipeline_task = pipeline_task\n",
    "        self.model = pipeline(pipeline_task, model=model, tokenizer=tokenizer)\n",
    "\n",
    "    def predict(self, data):\n",
    "        data = [str(datapoint) for datapoint in data]\n",
    "        results = []\n",
    "        results = self.model(data)\n",
    "        results_df = pd.DataFrame(results)\n",
    "        self.predicted_prob_values = results_df.score.values\n",
    "        return results_df.label.values\n",
    "\n",
    "    def predict_proba(self):\n",
    "        if self.predicted_prob_values is None:\n",
    "            raise ValueError(\"First run predict method to retrieve predicted probabilities\")\n",
    "        return self.predicted_prob_values"
   ]
  },
  {
   "cell_type": "code",
   "execution_count": 10,
   "metadata": {},
   "outputs": [],
   "source": [
    "import numpy as np\n",
    "from sklearn.metrics.pairwise import cosine_similarity\n",
    "import torch\n",
    "from dataclasses import dataclass\n",
    "\n",
    "@dataclass\n",
    "class ExtractiveSummarization_BERT:\n",
    "    model: any\n",
    "    tokenizer: any\n",
    "\n",
    "    def _get_embedding(self, text):\n",
    "        inputs = self.tokenizer(text, return_tensors=\"pt\", truncation=True, max_length=512, padding='max_length')\n",
    "        with torch.no_grad():\n",
    "            output = self.model(**inputs)\n",
    "        return output['last_hidden_state'].mean(dim=1).squeeze().detach().numpy()\n",
    "\n",
    "    def predict(self, texts, params):\n",
    "        summaries = []\n",
    "        \n",
    "        for text in texts:\n",
    "            sentences = text.split(\"\\n\\n\") # Breaking at double newline to get individual sentences.\n",
    "            \n",
    "            document_embedding = self._get_embedding(' '.join(sentences))\n",
    "            sentence_embeddings = [self._get_embedding(sentence) for sentence in sentences]\n",
    "            similarities = cosine_similarity(sentence_embeddings, [document_embedding])\n",
    "            sorted_indices = np.argsort(similarities, axis=0)[::-1].squeeze()\n",
    "\n",
    "            if params[\"method\"] == \"percentage\":\n",
    "                top_k = int(len(sentences) * params[\"value\"])\n",
    "                selected_sentences = [sentences[i] for i in sorted_indices[:top_k]]\n",
    "\n",
    "            elif params[\"method\"] == \"fixed_sentences\":\n",
    "                top_k = params[\"value\"]\n",
    "                selected_sentences = [sentences[i] for i in sorted_indices[:top_k]]\n",
    "\n",
    "            elif params[\"method\"] == \"word_count\":\n",
    "                selected_sentences = []\n",
    "                total_words = 0\n",
    "                for index in sorted_indices:\n",
    "                    current_sentence_words = len(sentences[index].split())\n",
    "                    # If adding the current sentence doesn't exceed the word limit, add it.\n",
    "                    if total_words + current_sentence_words <= params[\"value\"]:\n",
    "                        total_words += current_sentence_words\n",
    "                        selected_sentences.append(sentences[index])\n",
    "                    # Once the word limit is reached or exceeded, stop adding more sentences.\n",
    "                    if total_words >= params[\"value\"]:\n",
    "                        break\n",
    "\n",
    "            else:\n",
    "                raise ValueError(\"Invalid method specified.\")\n",
    "            \n",
    "            summaries.append(' '.join(selected_sentences))\n",
    "        \n",
    "        return summaries"
   ]
  },
  {
   "attachments": {},
   "cell_type": "markdown",
   "metadata": {},
   "source": [
    "## 0. Load Data"
   ]
  },
  {
   "attachments": {},
   "cell_type": "markdown",
   "metadata": {},
   "source": [
    "In this section, we'll load the financial dataset, which will be the foundation for our summarization analysis tasks."
   ]
  },
  {
   "cell_type": "code",
   "execution_count": 11,
   "metadata": {},
   "outputs": [],
   "source": [
    "import pandas as pd\n",
    "\n",
    "df = pd.read_csv('./datasets/bbc_text_cls_reference.csv')\n",
    "df = df.head(100)"
   ]
  },
  {
   "attachments": {},
   "cell_type": "markdown",
   "metadata": {},
   "source": [
    "## 1. Extractive Summarization: Hugging Face-BERT Model"
   ]
  },
  {
   "cell_type": "code",
   "execution_count": 12,
   "metadata": {},
   "outputs": [],
   "source": [
    "model = BertModel.from_pretrained(\"bert-base-uncased\")  \n",
    "tokenizer = BertTokenizer.from_pretrained(\"bert-base-uncased\")\n",
    "extractive_model = ExtractiveSummarization_BERT(model=model, tokenizer=tokenizer)"
   ]
  },
  {
   "cell_type": "code",
   "execution_count": 13,
   "metadata": {},
   "outputs": [],
   "source": [
    "df_raw = df.copy()\n",
    "data = df_raw.input.values.tolist()\n",
    "\n",
    "params = {\n",
    "    \"method\": \"word_count\",\n",
    "    \"value\": 200\n",
    "}\n",
    "\n",
    "list_summary_1 = extractive_model.predict(data, params)"
   ]
  },
  {
   "cell_type": "code",
   "execution_count": 14,
   "metadata": {},
   "outputs": [
    {
     "data": {
      "text/html": [
       "<table>\n",
       "<thead>\n",
       "<tr><th>topic   </th><th>input  </th><th>reference_summary  </th><th>summary_1  </th></tr>\n",
       "</thead>\n",
       "<tbody>\n",
       "<tr><td>business</td><td>Ad sales boost Time Warner profit\n",
       "\n",
       "Quarterly profits at US media giant TimeWarner\n",
       "jumped 76% to $1.13bn (£600m) for the three months\n",
       "to December, from $639m year-earlier.\n",
       "\n",
       "The firm, which is now one of the biggest\n",
       "investors in Google, benefited from sales of high-\n",
       "speed internet connections and higher advert\n",
       "sales. TimeWarner said fourth quarter sales rose\n",
       "2% to $11.1bn from $10.9bn. Its profits were\n",
       "buoyed by one-off gains which offset a profit dip\n",
       "at Warner Bros, and less users for AOL.\n",
       "\n",
       "Time Warner said on Friday that it now owns 8% of\n",
       "search-engine Google. But its own internet\n",
       "business, AOL, had has mixed fortunes. It lost\n",
       "464,000 subscribers in the fourth quarter profits\n",
       "were lower than in the preceding three quarters.\n",
       "However, the company said AOL&#x27;s underlying profit\n",
       "before exceptional items rose 8% on the back of\n",
       "stronger internet advertising revenues. It hopes\n",
       "to increase subscribers by offering the online\n",
       "service free to TimeWarner internet customers and\n",
       "will try to sign up AOL&#x27;s existing customers for\n",
       "high-speed broadband. TimeWarner also has to\n",
       "restate 2000 and 2003 results following a probe by\n",
       "the US Securities Exchange Commission (SEC), which\n",
       "is close to concluding.\n",
       "\n",
       "Time Warner&#x27;s fourth quarter profits were slightly\n",
       "better than analysts&#x27; expectations. But its film\n",
       "division saw profits slump 27% to $284m, helped by\n",
       "box-office flops Alexander and Catwoman, a sharp\n",
       "contrast to year-earlier, when the third and final\n",
       "film in the Lord of the Rings trilogy boosted\n",
       "results. For the full-year, TimeWarner posted a\n",
       "profit of $3.36bn, up 27% from its 2003\n",
       "performance, while revenues grew 6.4% to $42.09bn.\n",
       "&quot;Our financial performance was strong, meeting or\n",
       "exceeding all of our full-year objectives and\n",
       "greatly enhancing our flexibility,&quot; chairman and\n",
       "chief executive Richard Parsons said. For 2005,\n",
       "TimeWarner is projecting operating earnings growth\n",
       "of around 5%, and also expects higher revenue and\n",
       "wider profit margins.\n",
       "\n",
       "TimeWarner is to restate its accounts as part of\n",
       "efforts to resolve an inquiry into AOL by US\n",
       "market regulators. It has already offered to pay\n",
       "$300m to settle charges, in a deal that is under\n",
       "review by the SEC. The company said it was unable\n",
       "to estimate the amount it needed to set aside for\n",
       "legal reserves, which it previously set at $500m.\n",
       "It intends to adjust the way it accounts for a\n",
       "deal with German music publisher Bertelsmann&#x27;s\n",
       "purchase of a stake in AOL Europe, which it had\n",
       "reported as advertising revenue. It will now book\n",
       "the sale of its stake in AOL Europe as a loss on\n",
       "the value of that stake.        </td><td>The firm, which is now one of the biggest\n",
       "investors in Google, benefited from sales of high-\n",
       "speed internet connections and higher advert\n",
       "sales. TimeWarner said fourth quarter sales rose\n",
       "2% to $11.1bn from $10.9bn. Its profits were\n",
       "buoyed by one-off gains which offset a profit dip\n",
       "at Warner Bros, and less users for AOL. Quarterly\n",
       "profits at US media giant TimeWarner jumped 76% to\n",
       "$1.13bn (£600m) for the three months to December,\n",
       "from $639m year-earlier. Ad sales boost Time\n",
       "Warner profit                    </td><td>Time Warner&#x27;s fourth quarter profits were slightly\n",
       "better than analysts&#x27; expectations. But its film\n",
       "division saw profits slump 27% to $284m, helped by\n",
       "box-office flops Alexander and Catwoman, a sharp\n",
       "contrast to year-earlier, when the third and final\n",
       "film in the Lord of the Rings trilogy boosted\n",
       "results. For the full-year, TimeWarner posted a\n",
       "profit of $3.36bn, up 27% from its 2003\n",
       "performance, while revenues grew 6.4% to $42.09bn.\n",
       "&quot;Our financial performance was strong, meeting or\n",
       "exceeding all of our full-year objectives and\n",
       "greatly enhancing our flexibility,&quot; chairman and\n",
       "chief executive Richard Parsons said. For 2005,\n",
       "TimeWarner is projecting operating earnings growth\n",
       "of around 5%, and also expects higher revenue and\n",
       "wider profit margins. The firm, which is now one\n",
       "of the biggest investors in Google, benefited from\n",
       "sales of high-speed internet connections and\n",
       "higher advert sales. TimeWarner said fourth\n",
       "quarter sales rose 2% to $11.1bn from $10.9bn. Its\n",
       "profits were buoyed by one-off gains which offset\n",
       "a profit dip at Warner Bros, and less users for\n",
       "AOL. Quarterly profits at US media giant\n",
       "TimeWarner jumped 76% to $1.13bn (£600m) for the\n",
       "three months to December, from $639m year-earlier.\n",
       "Ad sales boost Time Warner profit            </td></tr>\n",
       "<tr><td>business</td><td>Dollar gains on Greenspan speech\n",
       "\n",
       "The dollar has hit its highest level against the\n",
       "euro in almost three months after the Federal\n",
       "Reserve head said the US trade deficit is set to\n",
       "stabilise.\n",
       "\n",
       "And Alan Greenspan highlighted the US government&#x27;s\n",
       "willingness to curb spending and rising household\n",
       "savings as factors which may help to reduce it. In\n",
       "late trading in New York, the dollar reached\n",
       "$1.2871 against the euro, from $1.2974 on\n",
       "Thursday. Market concerns about the deficit has\n",
       "hit the greenback in recent months. On Friday,\n",
       "Federal Reserve chairman Mr Greenspan&#x27;s speech in\n",
       "London ahead of the meeting of G7 finance\n",
       "ministers sent the dollar higher after it had\n",
       "earlier tumbled on the back of worse-than-expected\n",
       "US jobs data. &quot;I think the chairman&#x27;s taking a\n",
       "much more sanguine view on the current account\n",
       "deficit than he&#x27;s taken for some time,&quot; said\n",
       "Robert Sinche, head of currency strategy at Bank\n",
       "of America in New York. &quot;He&#x27;s taking a longer-term\n",
       "view, laying out a set of conditions under which\n",
       "the current account deficit can improve this year\n",
       "and next.&quot;\n",
       "\n",
       "Worries about the deficit concerns about China do,\n",
       "however, remain. China&#x27;s currency remains pegged\n",
       "to the dollar and the US currency&#x27;s sharp falls in\n",
       "recent months have therefore made Chinese export\n",
       "prices highly competitive. But calls for a shift\n",
       "in Beijing&#x27;s policy have fallen on deaf ears,\n",
       "despite recent comments in a major Chinese\n",
       "newspaper that the &quot;time is ripe&quot; for a loosening\n",
       "of the peg. The G7 meeting is thought unlikely to\n",
       "produce any meaningful movement in Chinese policy.\n",
       "In the meantime, the US Federal Reserve&#x27;s decision\n",
       "on 2 February to boost interest rates by a quarter\n",
       "of a point - the sixth such move in as many months\n",
       "- has opened up a differential with European\n",
       "rates. The half-point window, some believe, could\n",
       "be enough to keep US assets looking more\n",
       "attractive, and could help prop up the dollar. The\n",
       "recent falls have partly been the result of big\n",
       "budget deficits, as well as the US&#x27;s yawning\n",
       "current account gap, both of which need to be\n",
       "funded by the buying of US bonds and assets by\n",
       "foreign firms and governments. The White House\n",
       "will announce its budget on Monday, and many\n",
       "commentators believe the deficit will remain at\n",
       "close to half a trillion dollars.        </td><td>The dollar has hit its highest level against the\n",
       "euro in almost three months after the Federal\n",
       "Reserve head said the US trade deficit is set to\n",
       "stabilise. Dollar gains on Greenspan speech                    </td><td>And Alan Greenspan highlighted the US government&#x27;s\n",
       "willingness to curb spending and rising household\n",
       "savings as factors which may help to reduce it. In\n",
       "late trading in New York, the dollar reached\n",
       "$1.2871 against the euro, from $1.2974 on\n",
       "Thursday. Market concerns about the deficit has\n",
       "hit the greenback in recent months. On Friday,\n",
       "Federal Reserve chairman Mr Greenspan&#x27;s speech in\n",
       "London ahead of the meeting of G7 finance\n",
       "ministers sent the dollar higher after it had\n",
       "earlier tumbled on the back of worse-than-expected\n",
       "US jobs data. &quot;I think the chairman&#x27;s taking a\n",
       "much more sanguine view on the current account\n",
       "deficit than he&#x27;s taken for some time,&quot; said\n",
       "Robert Sinche, head of currency strategy at Bank\n",
       "of America in New York. &quot;He&#x27;s taking a longer-term\n",
       "view, laying out a set of conditions under which\n",
       "the current account deficit can improve this year\n",
       "and next.&quot; The dollar has hit its highest level\n",
       "against the euro in almost three months after the\n",
       "Federal Reserve head said the US trade deficit is\n",
       "set to stabilise. Dollar gains on Greenspan speech            </td></tr>\n",
       "</tbody>\n",
       "</table>"
      ],
      "text/plain": [
       "<IPython.core.display.HTML object>"
      ]
     },
     "metadata": {},
     "output_type": "display_data"
    }
   ],
   "source": [
    "df_all_summaries = add_summaries_to_df(df_raw, list_summary_1)\n",
    "display_formatted_dataframe(df_all_summaries, num_rows=2)"
   ]
  },
  {
   "attachments": {},
   "cell_type": "markdown",
   "metadata": {},
   "source": [
    "## 2. Validation"
   ]
  },
  {
   "attachments": {},
   "cell_type": "markdown",
   "metadata": {},
   "source": [
    "### General Text Metrics"
   ]
  },
  {
   "attachments": {},
   "cell_type": "markdown",
   "metadata": {},
   "source": [
    "- **Total Words:** Assess the length and complexity of the input text. Longer documents might require more sophisticated summarization techniques, while shorter ones may need more concise summaries.\n",
    "\n",
    "- **Total Sentences:** Understand the structural makeup of the content. Longer texts with numerous sentences might require the model to generate longer summaries to capture essential information.\n",
    "\n",
    "- **Avg Sentence Length:** Determine the average length of sentences in the text. This can help the model decide on the appropriate length for generated summaries, ensuring they are coherent and readable.\n",
    "\n",
    "- **Total Paragraphs:** Analyze how the content is organized into paragraphs. The model should be able to maintain the logical structure of the content when producing summaries.\n",
    "\n",
    "- **Total Unique Words:** Measure the diversity of vocabulary in the text. A higher count of unique words could indicate more complex content, which the model needs to capture accurately.\n",
    "\n",
    "- **Most Common Words:** Identify frequently occurring words that likely represent key themes. The model should pay special attention to including these words and concepts in its summaries.\n",
    "\n",
    "- **Total Punctuations:** Evaluate the usage of punctuation marks, which contribute to the tone and structure of the content. The model should be able to maintain appropriate punctuation in summaries.\n",
    "\n",
    "- **Lexical Diversity:** Calculate the richness of vocabulary in relation to the overall text length. A higher lexical diversity suggests a broader range of ideas and concepts that the model needs to capture in its summaries."
   ]
  },
  {
   "cell_type": "code",
   "execution_count": 15,
   "metadata": {},
   "outputs": [
    {
     "data": {
      "text/html": [
       "<div>\n",
       "<style scoped>\n",
       "    .dataframe tbody tr th:only-of-type {\n",
       "        vertical-align: middle;\n",
       "    }\n",
       "\n",
       "    .dataframe tbody tr th {\n",
       "        vertical-align: top;\n",
       "    }\n",
       "\n",
       "    .dataframe thead th {\n",
       "        text-align: right;\n",
       "    }\n",
       "</style>\n",
       "<table border=\"1\" class=\"dataframe\">\n",
       "  <thead>\n",
       "    <tr style=\"text-align: right;\">\n",
       "      <th></th>\n",
       "      <th>Total Words</th>\n",
       "      <th>Total Sentences</th>\n",
       "      <th>Avg Sentence Length</th>\n",
       "      <th>Total Paragraphs</th>\n",
       "      <th>Total Unique Words</th>\n",
       "      <th>Total Punctuations</th>\n",
       "      <th>Lexical Diversity</th>\n",
       "    </tr>\n",
       "  </thead>\n",
       "  <tbody>\n",
       "    <tr>\n",
       "      <th>0</th>\n",
       "      <td>490</td>\n",
       "      <td>20</td>\n",
       "      <td>21.1</td>\n",
       "      <td>6</td>\n",
       "      <td>187</td>\n",
       "      <td>63</td>\n",
       "      <td>0.7</td>\n",
       "    </tr>\n",
       "    <tr>\n",
       "      <th>1</th>\n",
       "      <td>433</td>\n",
       "      <td>15</td>\n",
       "      <td>25.6</td>\n",
       "      <td>4</td>\n",
       "      <td>163</td>\n",
       "      <td>35</td>\n",
       "      <td>0.8</td>\n",
       "    </tr>\n",
       "    <tr>\n",
       "      <th>2</th>\n",
       "      <td>294</td>\n",
       "      <td>12</td>\n",
       "      <td>22.0</td>\n",
       "      <td>4</td>\n",
       "      <td>116</td>\n",
       "      <td>24</td>\n",
       "      <td>0.7</td>\n",
       "    </tr>\n",
       "    <tr>\n",
       "      <th>3</th>\n",
       "      <td>472</td>\n",
       "      <td>19</td>\n",
       "      <td>21.4</td>\n",
       "      <td>6</td>\n",
       "      <td>203</td>\n",
       "      <td>53</td>\n",
       "      <td>0.8</td>\n",
       "    </tr>\n",
       "    <tr>\n",
       "      <th>4</th>\n",
       "      <td>306</td>\n",
       "      <td>12</td>\n",
       "      <td>22.1</td>\n",
       "      <td>4</td>\n",
       "      <td>132</td>\n",
       "      <td>38</td>\n",
       "      <td>0.8</td>\n",
       "    </tr>\n",
       "    <tr>\n",
       "      <th>...</th>\n",
       "      <td>...</td>\n",
       "      <td>...</td>\n",
       "      <td>...</td>\n",
       "      <td>...</td>\n",
       "      <td>...</td>\n",
       "      <td>...</td>\n",
       "      <td>...</td>\n",
       "    </tr>\n",
       "    <tr>\n",
       "      <th>95</th>\n",
       "      <td>157</td>\n",
       "      <td>7</td>\n",
       "      <td>20.0</td>\n",
       "      <td>3</td>\n",
       "      <td>70</td>\n",
       "      <td>15</td>\n",
       "      <td>0.7</td>\n",
       "    </tr>\n",
       "    <tr>\n",
       "      <th>96</th>\n",
       "      <td>520</td>\n",
       "      <td>23</td>\n",
       "      <td>19.3</td>\n",
       "      <td>5</td>\n",
       "      <td>185</td>\n",
       "      <td>55</td>\n",
       "      <td>0.8</td>\n",
       "    </tr>\n",
       "    <tr>\n",
       "      <th>97</th>\n",
       "      <td>253</td>\n",
       "      <td>10</td>\n",
       "      <td>21.7</td>\n",
       "      <td>5</td>\n",
       "      <td>100</td>\n",
       "      <td>30</td>\n",
       "      <td>0.8</td>\n",
       "    </tr>\n",
       "    <tr>\n",
       "      <th>98</th>\n",
       "      <td>494</td>\n",
       "      <td>17</td>\n",
       "      <td>25.3</td>\n",
       "      <td>6</td>\n",
       "      <td>192</td>\n",
       "      <td>60</td>\n",
       "      <td>0.7</td>\n",
       "    </tr>\n",
       "    <tr>\n",
       "      <th>99</th>\n",
       "      <td>391</td>\n",
       "      <td>16</td>\n",
       "      <td>21.4</td>\n",
       "      <td>5</td>\n",
       "      <td>139</td>\n",
       "      <td>30</td>\n",
       "      <td>0.7</td>\n",
       "    </tr>\n",
       "  </tbody>\n",
       "</table>\n",
       "<p>100 rows × 7 columns</p>\n",
       "</div>"
      ],
      "text/plain": [
       "    Total Words  Total Sentences  Avg Sentence Length  Total Paragraphs  \\\n",
       "0           490               20                 21.1                 6   \n",
       "1           433               15                 25.6                 4   \n",
       "2           294               12                 22.0                 4   \n",
       "3           472               19                 21.4                 6   \n",
       "4           306               12                 22.1                 4   \n",
       "..          ...              ...                  ...               ...   \n",
       "95          157                7                 20.0                 3   \n",
       "96          520               23                 19.3                 5   \n",
       "97          253               10                 21.7                 5   \n",
       "98          494               17                 25.3                 6   \n",
       "99          391               16                 21.4                 5   \n",
       "\n",
       "    Total Unique Words  Total Punctuations  Lexical Diversity  \n",
       "0                  187                  63                0.7  \n",
       "1                  163                  35                0.8  \n",
       "2                  116                  24                0.7  \n",
       "3                  203                  53                0.8  \n",
       "4                  132                  38                0.8  \n",
       "..                 ...                 ...                ...  \n",
       "95                  70                  15                0.7  \n",
       "96                 185                  55                0.8  \n",
       "97                 100                  30                0.8  \n",
       "98                 192                  60                0.7  \n",
       "99                 139                  30                0.7  \n",
       "\n",
       "[100 rows x 7 columns]"
      ]
     },
     "metadata": {},
     "output_type": "display_data"
    }
   ],
   "source": [
    "params = {\n",
    "    \"text_column\": \"input\",\n",
    "    \"unwanted_tokens\": {'s', 's\\'', 'mr', 'ms', 'mrs', 'dr', '\\'s', ' ', \"''\", 'dollar', 'us', '``'},\n",
    "    \"num_top_words\": 3,\n",
    "    \"lang\": \"english\"\n",
    "}\n",
    "\n",
    "summary_table = text_metrics_summary_table(df_raw, params)\n",
    "display(summary_table)"
   ]
  },
  {
   "cell_type": "code",
   "execution_count": 16,
   "metadata": {},
   "outputs": [
    {
     "data": {
      "application/vnd.plotly.v1+json": {
       "config": {
        "plotlyServerURL": "https://plot.ly"
       },
       "data": [
        {
         "hovertemplate": "Total Words=%{x}<br>Total Sentences=%{y}<extra></extra>",
         "legendgroup": "",
         "marker": {
          "color": "#636efa",
          "symbol": "circle"
         },
         "mode": "markers",
         "name": "",
         "orientation": "v",
         "showlegend": false,
         "type": "scatter",
         "x": [
          490,
          433,
          294,
          472,
          306,
          213,
          322,
          372,
          267,
          254,
          216,
          350,
          336,
          516,
          700,
          278,
          248,
          214,
          310,
          752,
          383,
          353,
          247,
          379,
          505,
          338,
          312,
          237,
          452,
          491,
          351,
          330,
          262,
          349,
          228,
          394,
          466,
          180,
          242,
          258,
          361,
          267,
          219,
          457,
          350,
          341,
          310,
          301,
          699,
          357,
          330,
          558,
          267,
          285,
          425,
          295,
          498,
          228,
          339,
          160,
          305,
          372,
          352,
          325,
          399,
          364,
          332,
          453,
          603,
          210,
          251,
          317,
          284,
          290,
          232,
          322,
          513,
          307,
          288,
          217,
          288,
          235,
          600,
          243,
          255,
          213,
          348,
          229,
          436,
          427,
          365,
          416,
          382,
          245,
          303,
          157,
          520,
          253,
          494,
          391
         ],
         "xaxis": "x",
         "y": [
          20,
          15,
          12,
          19,
          12,
          9,
          14,
          15,
          12,
          10,
          11,
          14,
          14,
          22,
          28,
          11,
          11,
          9,
          12,
          29,
          15,
          15,
          11,
          14,
          23,
          14,
          14,
          9,
          20,
          17,
          16,
          15,
          10,
          14,
          11,
          14,
          19,
          10,
          11,
          11,
          15,
          13,
          9,
          18,
          13,
          15,
          11,
          12,
          28,
          15,
          16,
          21,
          9,
          12,
          15,
          14,
          21,
          11,
          14,
          8,
          10,
          15,
          15,
          14,
          16,
          15,
          15,
          17,
          25,
          8,
          10,
          15,
          11,
          12,
          10,
          13,
          22,
          12,
          12,
          11,
          13,
          9,
          24,
          11,
          10,
          9,
          18,
          11,
          20,
          18,
          16,
          18,
          14,
          10,
          12,
          7,
          23,
          10,
          17,
          16
         ],
         "yaxis": "y"
        }
       ],
       "layout": {
        "legend": {
         "tracegroupgap": 0
        },
        "template": {
         "data": {
          "bar": [
           {
            "error_x": {
             "color": "#2a3f5f"
            },
            "error_y": {
             "color": "#2a3f5f"
            },
            "marker": {
             "line": {
              "color": "#E5ECF6",
              "width": 0.5
             },
             "pattern": {
              "fillmode": "overlay",
              "size": 10,
              "solidity": 0.2
             }
            },
            "type": "bar"
           }
          ],
          "barpolar": [
           {
            "marker": {
             "line": {
              "color": "#E5ECF6",
              "width": 0.5
             },
             "pattern": {
              "fillmode": "overlay",
              "size": 10,
              "solidity": 0.2
             }
            },
            "type": "barpolar"
           }
          ],
          "carpet": [
           {
            "aaxis": {
             "endlinecolor": "#2a3f5f",
             "gridcolor": "white",
             "linecolor": "white",
             "minorgridcolor": "white",
             "startlinecolor": "#2a3f5f"
            },
            "baxis": {
             "endlinecolor": "#2a3f5f",
             "gridcolor": "white",
             "linecolor": "white",
             "minorgridcolor": "white",
             "startlinecolor": "#2a3f5f"
            },
            "type": "carpet"
           }
          ],
          "choropleth": [
           {
            "colorbar": {
             "outlinewidth": 0,
             "ticks": ""
            },
            "type": "choropleth"
           }
          ],
          "contour": [
           {
            "colorbar": {
             "outlinewidth": 0,
             "ticks": ""
            },
            "colorscale": [
             [
              0,
              "#0d0887"
             ],
             [
              0.1111111111111111,
              "#46039f"
             ],
             [
              0.2222222222222222,
              "#7201a8"
             ],
             [
              0.3333333333333333,
              "#9c179e"
             ],
             [
              0.4444444444444444,
              "#bd3786"
             ],
             [
              0.5555555555555556,
              "#d8576b"
             ],
             [
              0.6666666666666666,
              "#ed7953"
             ],
             [
              0.7777777777777778,
              "#fb9f3a"
             ],
             [
              0.8888888888888888,
              "#fdca26"
             ],
             [
              1,
              "#f0f921"
             ]
            ],
            "type": "contour"
           }
          ],
          "contourcarpet": [
           {
            "colorbar": {
             "outlinewidth": 0,
             "ticks": ""
            },
            "type": "contourcarpet"
           }
          ],
          "heatmap": [
           {
            "colorbar": {
             "outlinewidth": 0,
             "ticks": ""
            },
            "colorscale": [
             [
              0,
              "#0d0887"
             ],
             [
              0.1111111111111111,
              "#46039f"
             ],
             [
              0.2222222222222222,
              "#7201a8"
             ],
             [
              0.3333333333333333,
              "#9c179e"
             ],
             [
              0.4444444444444444,
              "#bd3786"
             ],
             [
              0.5555555555555556,
              "#d8576b"
             ],
             [
              0.6666666666666666,
              "#ed7953"
             ],
             [
              0.7777777777777778,
              "#fb9f3a"
             ],
             [
              0.8888888888888888,
              "#fdca26"
             ],
             [
              1,
              "#f0f921"
             ]
            ],
            "type": "heatmap"
           }
          ],
          "heatmapgl": [
           {
            "colorbar": {
             "outlinewidth": 0,
             "ticks": ""
            },
            "colorscale": [
             [
              0,
              "#0d0887"
             ],
             [
              0.1111111111111111,
              "#46039f"
             ],
             [
              0.2222222222222222,
              "#7201a8"
             ],
             [
              0.3333333333333333,
              "#9c179e"
             ],
             [
              0.4444444444444444,
              "#bd3786"
             ],
             [
              0.5555555555555556,
              "#d8576b"
             ],
             [
              0.6666666666666666,
              "#ed7953"
             ],
             [
              0.7777777777777778,
              "#fb9f3a"
             ],
             [
              0.8888888888888888,
              "#fdca26"
             ],
             [
              1,
              "#f0f921"
             ]
            ],
            "type": "heatmapgl"
           }
          ],
          "histogram": [
           {
            "marker": {
             "pattern": {
              "fillmode": "overlay",
              "size": 10,
              "solidity": 0.2
             }
            },
            "type": "histogram"
           }
          ],
          "histogram2d": [
           {
            "colorbar": {
             "outlinewidth": 0,
             "ticks": ""
            },
            "colorscale": [
             [
              0,
              "#0d0887"
             ],
             [
              0.1111111111111111,
              "#46039f"
             ],
             [
              0.2222222222222222,
              "#7201a8"
             ],
             [
              0.3333333333333333,
              "#9c179e"
             ],
             [
              0.4444444444444444,
              "#bd3786"
             ],
             [
              0.5555555555555556,
              "#d8576b"
             ],
             [
              0.6666666666666666,
              "#ed7953"
             ],
             [
              0.7777777777777778,
              "#fb9f3a"
             ],
             [
              0.8888888888888888,
              "#fdca26"
             ],
             [
              1,
              "#f0f921"
             ]
            ],
            "type": "histogram2d"
           }
          ],
          "histogram2dcontour": [
           {
            "colorbar": {
             "outlinewidth": 0,
             "ticks": ""
            },
            "colorscale": [
             [
              0,
              "#0d0887"
             ],
             [
              0.1111111111111111,
              "#46039f"
             ],
             [
              0.2222222222222222,
              "#7201a8"
             ],
             [
              0.3333333333333333,
              "#9c179e"
             ],
             [
              0.4444444444444444,
              "#bd3786"
             ],
             [
              0.5555555555555556,
              "#d8576b"
             ],
             [
              0.6666666666666666,
              "#ed7953"
             ],
             [
              0.7777777777777778,
              "#fb9f3a"
             ],
             [
              0.8888888888888888,
              "#fdca26"
             ],
             [
              1,
              "#f0f921"
             ]
            ],
            "type": "histogram2dcontour"
           }
          ],
          "mesh3d": [
           {
            "colorbar": {
             "outlinewidth": 0,
             "ticks": ""
            },
            "type": "mesh3d"
           }
          ],
          "parcoords": [
           {
            "line": {
             "colorbar": {
              "outlinewidth": 0,
              "ticks": ""
             }
            },
            "type": "parcoords"
           }
          ],
          "pie": [
           {
            "automargin": true,
            "type": "pie"
           }
          ],
          "scatter": [
           {
            "fillpattern": {
             "fillmode": "overlay",
             "size": 10,
             "solidity": 0.2
            },
            "type": "scatter"
           }
          ],
          "scatter3d": [
           {
            "line": {
             "colorbar": {
              "outlinewidth": 0,
              "ticks": ""
             }
            },
            "marker": {
             "colorbar": {
              "outlinewidth": 0,
              "ticks": ""
             }
            },
            "type": "scatter3d"
           }
          ],
          "scattercarpet": [
           {
            "marker": {
             "colorbar": {
              "outlinewidth": 0,
              "ticks": ""
             }
            },
            "type": "scattercarpet"
           }
          ],
          "scattergeo": [
           {
            "marker": {
             "colorbar": {
              "outlinewidth": 0,
              "ticks": ""
             }
            },
            "type": "scattergeo"
           }
          ],
          "scattergl": [
           {
            "marker": {
             "colorbar": {
              "outlinewidth": 0,
              "ticks": ""
             }
            },
            "type": "scattergl"
           }
          ],
          "scattermapbox": [
           {
            "marker": {
             "colorbar": {
              "outlinewidth": 0,
              "ticks": ""
             }
            },
            "type": "scattermapbox"
           }
          ],
          "scatterpolar": [
           {
            "marker": {
             "colorbar": {
              "outlinewidth": 0,
              "ticks": ""
             }
            },
            "type": "scatterpolar"
           }
          ],
          "scatterpolargl": [
           {
            "marker": {
             "colorbar": {
              "outlinewidth": 0,
              "ticks": ""
             }
            },
            "type": "scatterpolargl"
           }
          ],
          "scatterternary": [
           {
            "marker": {
             "colorbar": {
              "outlinewidth": 0,
              "ticks": ""
             }
            },
            "type": "scatterternary"
           }
          ],
          "surface": [
           {
            "colorbar": {
             "outlinewidth": 0,
             "ticks": ""
            },
            "colorscale": [
             [
              0,
              "#0d0887"
             ],
             [
              0.1111111111111111,
              "#46039f"
             ],
             [
              0.2222222222222222,
              "#7201a8"
             ],
             [
              0.3333333333333333,
              "#9c179e"
             ],
             [
              0.4444444444444444,
              "#bd3786"
             ],
             [
              0.5555555555555556,
              "#d8576b"
             ],
             [
              0.6666666666666666,
              "#ed7953"
             ],
             [
              0.7777777777777778,
              "#fb9f3a"
             ],
             [
              0.8888888888888888,
              "#fdca26"
             ],
             [
              1,
              "#f0f921"
             ]
            ],
            "type": "surface"
           }
          ],
          "table": [
           {
            "cells": {
             "fill": {
              "color": "#EBF0F8"
             },
             "line": {
              "color": "white"
             }
            },
            "header": {
             "fill": {
              "color": "#C8D4E3"
             },
             "line": {
              "color": "white"
             }
            },
            "type": "table"
           }
          ]
         },
         "layout": {
          "annotationdefaults": {
           "arrowcolor": "#2a3f5f",
           "arrowhead": 0,
           "arrowwidth": 1
          },
          "autotypenumbers": "strict",
          "coloraxis": {
           "colorbar": {
            "outlinewidth": 0,
            "ticks": ""
           }
          },
          "colorscale": {
           "diverging": [
            [
             0,
             "#8e0152"
            ],
            [
             0.1,
             "#c51b7d"
            ],
            [
             0.2,
             "#de77ae"
            ],
            [
             0.3,
             "#f1b6da"
            ],
            [
             0.4,
             "#fde0ef"
            ],
            [
             0.5,
             "#f7f7f7"
            ],
            [
             0.6,
             "#e6f5d0"
            ],
            [
             0.7,
             "#b8e186"
            ],
            [
             0.8,
             "#7fbc41"
            ],
            [
             0.9,
             "#4d9221"
            ],
            [
             1,
             "#276419"
            ]
           ],
           "sequential": [
            [
             0,
             "#0d0887"
            ],
            [
             0.1111111111111111,
             "#46039f"
            ],
            [
             0.2222222222222222,
             "#7201a8"
            ],
            [
             0.3333333333333333,
             "#9c179e"
            ],
            [
             0.4444444444444444,
             "#bd3786"
            ],
            [
             0.5555555555555556,
             "#d8576b"
            ],
            [
             0.6666666666666666,
             "#ed7953"
            ],
            [
             0.7777777777777778,
             "#fb9f3a"
            ],
            [
             0.8888888888888888,
             "#fdca26"
            ],
            [
             1,
             "#f0f921"
            ]
           ],
           "sequentialminus": [
            [
             0,
             "#0d0887"
            ],
            [
             0.1111111111111111,
             "#46039f"
            ],
            [
             0.2222222222222222,
             "#7201a8"
            ],
            [
             0.3333333333333333,
             "#9c179e"
            ],
            [
             0.4444444444444444,
             "#bd3786"
            ],
            [
             0.5555555555555556,
             "#d8576b"
            ],
            [
             0.6666666666666666,
             "#ed7953"
            ],
            [
             0.7777777777777778,
             "#fb9f3a"
            ],
            [
             0.8888888888888888,
             "#fdca26"
            ],
            [
             1,
             "#f0f921"
            ]
           ]
          },
          "colorway": [
           "#636efa",
           "#EF553B",
           "#00cc96",
           "#ab63fa",
           "#FFA15A",
           "#19d3f3",
           "#FF6692",
           "#B6E880",
           "#FF97FF",
           "#FECB52"
          ],
          "font": {
           "color": "#2a3f5f"
          },
          "geo": {
           "bgcolor": "white",
           "lakecolor": "white",
           "landcolor": "#E5ECF6",
           "showlakes": true,
           "showland": true,
           "subunitcolor": "white"
          },
          "hoverlabel": {
           "align": "left"
          },
          "hovermode": "closest",
          "mapbox": {
           "style": "light"
          },
          "paper_bgcolor": "white",
          "plot_bgcolor": "#E5ECF6",
          "polar": {
           "angularaxis": {
            "gridcolor": "white",
            "linecolor": "white",
            "ticks": ""
           },
           "bgcolor": "#E5ECF6",
           "radialaxis": {
            "gridcolor": "white",
            "linecolor": "white",
            "ticks": ""
           }
          },
          "scene": {
           "xaxis": {
            "backgroundcolor": "#E5ECF6",
            "gridcolor": "white",
            "gridwidth": 2,
            "linecolor": "white",
            "showbackground": true,
            "ticks": "",
            "zerolinecolor": "white"
           },
           "yaxis": {
            "backgroundcolor": "#E5ECF6",
            "gridcolor": "white",
            "gridwidth": 2,
            "linecolor": "white",
            "showbackground": true,
            "ticks": "",
            "zerolinecolor": "white"
           },
           "zaxis": {
            "backgroundcolor": "#E5ECF6",
            "gridcolor": "white",
            "gridwidth": 2,
            "linecolor": "white",
            "showbackground": true,
            "ticks": "",
            "zerolinecolor": "white"
           }
          },
          "shapedefaults": {
           "line": {
            "color": "#2a3f5f"
           }
          },
          "ternary": {
           "aaxis": {
            "gridcolor": "white",
            "linecolor": "white",
            "ticks": ""
           },
           "baxis": {
            "gridcolor": "white",
            "linecolor": "white",
            "ticks": ""
           },
           "bgcolor": "#E5ECF6",
           "caxis": {
            "gridcolor": "white",
            "linecolor": "white",
            "ticks": ""
           }
          },
          "title": {
           "x": 0.05
          },
          "xaxis": {
           "automargin": true,
           "gridcolor": "white",
           "linecolor": "white",
           "ticks": "",
           "title": {
            "standoff": 15
           },
           "zerolinecolor": "white",
           "zerolinewidth": 2
          },
          "yaxis": {
           "automargin": true,
           "gridcolor": "white",
           "linecolor": "white",
           "ticks": "",
           "title": {
            "standoff": 15
           },
           "zerolinecolor": "white",
           "zerolinewidth": 2
          }
         }
        },
        "title": {
         "text": "Scatter Plot: Total Words vs Total Sentences"
        },
        "xaxis": {
         "anchor": "y",
         "domain": [
          0,
          1
         ],
         "title": {
          "text": "Total Words"
         }
        },
        "yaxis": {
         "anchor": "x",
         "domain": [
          0,
          1
         ],
         "title": {
          "text": "Total Sentences"
         }
        }
       }
      }
     },
     "metadata": {},
     "output_type": "display_data"
    },
    {
     "data": {
      "application/vnd.plotly.v1+json": {
       "config": {
        "plotlyServerURL": "https://plot.ly"
       },
       "data": [
        {
         "hovertemplate": "Total Words=%{x}<br>Total Unique Words=%{y}<extra></extra>",
         "legendgroup": "",
         "marker": {
          "color": "#636efa",
          "symbol": "circle"
         },
         "mode": "markers",
         "name": "",
         "orientation": "v",
         "showlegend": false,
         "type": "scatter",
         "x": [
          490,
          433,
          294,
          472,
          306,
          213,
          322,
          372,
          267,
          254,
          216,
          350,
          336,
          516,
          700,
          278,
          248,
          214,
          310,
          752,
          383,
          353,
          247,
          379,
          505,
          338,
          312,
          237,
          452,
          491,
          351,
          330,
          262,
          349,
          228,
          394,
          466,
          180,
          242,
          258,
          361,
          267,
          219,
          457,
          350,
          341,
          310,
          301,
          699,
          357,
          330,
          558,
          267,
          285,
          425,
          295,
          498,
          228,
          339,
          160,
          305,
          372,
          352,
          325,
          399,
          364,
          332,
          453,
          603,
          210,
          251,
          317,
          284,
          290,
          232,
          322,
          513,
          307,
          288,
          217,
          288,
          235,
          600,
          243,
          255,
          213,
          348,
          229,
          436,
          427,
          365,
          416,
          382,
          245,
          303,
          157,
          520,
          253,
          494,
          391
         ],
         "xaxis": "x",
         "y": [
          187,
          163,
          116,
          203,
          132,
          93,
          123,
          135,
          113,
          114,
          89,
          140,
          139,
          208,
          220,
          117,
          112,
          79,
          127,
          259,
          163,
          151,
          107,
          150,
          189,
          148,
          125,
          112,
          176,
          183,
          147,
          120,
          100,
          140,
          107,
          155,
          185,
          85,
          90,
          113,
          153,
          113,
          88,
          172,
          144,
          145,
          104,
          118,
          244,
          160,
          134,
          231,
          116,
          110,
          149,
          113,
          193,
          96,
          136,
          79,
          119,
          146,
          122,
          118,
          146,
          160,
          129,
          179,
          216,
          92,
          114,
          133,
          119,
          118,
          98,
          129,
          183,
          124,
          122,
          87,
          105,
          104,
          200,
          99,
          107,
          96,
          132,
          90,
          160,
          184,
          150,
          167,
          126,
          85,
          122,
          70,
          185,
          100,
          192,
          139
         ],
         "yaxis": "y"
        }
       ],
       "layout": {
        "legend": {
         "tracegroupgap": 0
        },
        "template": {
         "data": {
          "bar": [
           {
            "error_x": {
             "color": "#2a3f5f"
            },
            "error_y": {
             "color": "#2a3f5f"
            },
            "marker": {
             "line": {
              "color": "#E5ECF6",
              "width": 0.5
             },
             "pattern": {
              "fillmode": "overlay",
              "size": 10,
              "solidity": 0.2
             }
            },
            "type": "bar"
           }
          ],
          "barpolar": [
           {
            "marker": {
             "line": {
              "color": "#E5ECF6",
              "width": 0.5
             },
             "pattern": {
              "fillmode": "overlay",
              "size": 10,
              "solidity": 0.2
             }
            },
            "type": "barpolar"
           }
          ],
          "carpet": [
           {
            "aaxis": {
             "endlinecolor": "#2a3f5f",
             "gridcolor": "white",
             "linecolor": "white",
             "minorgridcolor": "white",
             "startlinecolor": "#2a3f5f"
            },
            "baxis": {
             "endlinecolor": "#2a3f5f",
             "gridcolor": "white",
             "linecolor": "white",
             "minorgridcolor": "white",
             "startlinecolor": "#2a3f5f"
            },
            "type": "carpet"
           }
          ],
          "choropleth": [
           {
            "colorbar": {
             "outlinewidth": 0,
             "ticks": ""
            },
            "type": "choropleth"
           }
          ],
          "contour": [
           {
            "colorbar": {
             "outlinewidth": 0,
             "ticks": ""
            },
            "colorscale": [
             [
              0,
              "#0d0887"
             ],
             [
              0.1111111111111111,
              "#46039f"
             ],
             [
              0.2222222222222222,
              "#7201a8"
             ],
             [
              0.3333333333333333,
              "#9c179e"
             ],
             [
              0.4444444444444444,
              "#bd3786"
             ],
             [
              0.5555555555555556,
              "#d8576b"
             ],
             [
              0.6666666666666666,
              "#ed7953"
             ],
             [
              0.7777777777777778,
              "#fb9f3a"
             ],
             [
              0.8888888888888888,
              "#fdca26"
             ],
             [
              1,
              "#f0f921"
             ]
            ],
            "type": "contour"
           }
          ],
          "contourcarpet": [
           {
            "colorbar": {
             "outlinewidth": 0,
             "ticks": ""
            },
            "type": "contourcarpet"
           }
          ],
          "heatmap": [
           {
            "colorbar": {
             "outlinewidth": 0,
             "ticks": ""
            },
            "colorscale": [
             [
              0,
              "#0d0887"
             ],
             [
              0.1111111111111111,
              "#46039f"
             ],
             [
              0.2222222222222222,
              "#7201a8"
             ],
             [
              0.3333333333333333,
              "#9c179e"
             ],
             [
              0.4444444444444444,
              "#bd3786"
             ],
             [
              0.5555555555555556,
              "#d8576b"
             ],
             [
              0.6666666666666666,
              "#ed7953"
             ],
             [
              0.7777777777777778,
              "#fb9f3a"
             ],
             [
              0.8888888888888888,
              "#fdca26"
             ],
             [
              1,
              "#f0f921"
             ]
            ],
            "type": "heatmap"
           }
          ],
          "heatmapgl": [
           {
            "colorbar": {
             "outlinewidth": 0,
             "ticks": ""
            },
            "colorscale": [
             [
              0,
              "#0d0887"
             ],
             [
              0.1111111111111111,
              "#46039f"
             ],
             [
              0.2222222222222222,
              "#7201a8"
             ],
             [
              0.3333333333333333,
              "#9c179e"
             ],
             [
              0.4444444444444444,
              "#bd3786"
             ],
             [
              0.5555555555555556,
              "#d8576b"
             ],
             [
              0.6666666666666666,
              "#ed7953"
             ],
             [
              0.7777777777777778,
              "#fb9f3a"
             ],
             [
              0.8888888888888888,
              "#fdca26"
             ],
             [
              1,
              "#f0f921"
             ]
            ],
            "type": "heatmapgl"
           }
          ],
          "histogram": [
           {
            "marker": {
             "pattern": {
              "fillmode": "overlay",
              "size": 10,
              "solidity": 0.2
             }
            },
            "type": "histogram"
           }
          ],
          "histogram2d": [
           {
            "colorbar": {
             "outlinewidth": 0,
             "ticks": ""
            },
            "colorscale": [
             [
              0,
              "#0d0887"
             ],
             [
              0.1111111111111111,
              "#46039f"
             ],
             [
              0.2222222222222222,
              "#7201a8"
             ],
             [
              0.3333333333333333,
              "#9c179e"
             ],
             [
              0.4444444444444444,
              "#bd3786"
             ],
             [
              0.5555555555555556,
              "#d8576b"
             ],
             [
              0.6666666666666666,
              "#ed7953"
             ],
             [
              0.7777777777777778,
              "#fb9f3a"
             ],
             [
              0.8888888888888888,
              "#fdca26"
             ],
             [
              1,
              "#f0f921"
             ]
            ],
            "type": "histogram2d"
           }
          ],
          "histogram2dcontour": [
           {
            "colorbar": {
             "outlinewidth": 0,
             "ticks": ""
            },
            "colorscale": [
             [
              0,
              "#0d0887"
             ],
             [
              0.1111111111111111,
              "#46039f"
             ],
             [
              0.2222222222222222,
              "#7201a8"
             ],
             [
              0.3333333333333333,
              "#9c179e"
             ],
             [
              0.4444444444444444,
              "#bd3786"
             ],
             [
              0.5555555555555556,
              "#d8576b"
             ],
             [
              0.6666666666666666,
              "#ed7953"
             ],
             [
              0.7777777777777778,
              "#fb9f3a"
             ],
             [
              0.8888888888888888,
              "#fdca26"
             ],
             [
              1,
              "#f0f921"
             ]
            ],
            "type": "histogram2dcontour"
           }
          ],
          "mesh3d": [
           {
            "colorbar": {
             "outlinewidth": 0,
             "ticks": ""
            },
            "type": "mesh3d"
           }
          ],
          "parcoords": [
           {
            "line": {
             "colorbar": {
              "outlinewidth": 0,
              "ticks": ""
             }
            },
            "type": "parcoords"
           }
          ],
          "pie": [
           {
            "automargin": true,
            "type": "pie"
           }
          ],
          "scatter": [
           {
            "fillpattern": {
             "fillmode": "overlay",
             "size": 10,
             "solidity": 0.2
            },
            "type": "scatter"
           }
          ],
          "scatter3d": [
           {
            "line": {
             "colorbar": {
              "outlinewidth": 0,
              "ticks": ""
             }
            },
            "marker": {
             "colorbar": {
              "outlinewidth": 0,
              "ticks": ""
             }
            },
            "type": "scatter3d"
           }
          ],
          "scattercarpet": [
           {
            "marker": {
             "colorbar": {
              "outlinewidth": 0,
              "ticks": ""
             }
            },
            "type": "scattercarpet"
           }
          ],
          "scattergeo": [
           {
            "marker": {
             "colorbar": {
              "outlinewidth": 0,
              "ticks": ""
             }
            },
            "type": "scattergeo"
           }
          ],
          "scattergl": [
           {
            "marker": {
             "colorbar": {
              "outlinewidth": 0,
              "ticks": ""
             }
            },
            "type": "scattergl"
           }
          ],
          "scattermapbox": [
           {
            "marker": {
             "colorbar": {
              "outlinewidth": 0,
              "ticks": ""
             }
            },
            "type": "scattermapbox"
           }
          ],
          "scatterpolar": [
           {
            "marker": {
             "colorbar": {
              "outlinewidth": 0,
              "ticks": ""
             }
            },
            "type": "scatterpolar"
           }
          ],
          "scatterpolargl": [
           {
            "marker": {
             "colorbar": {
              "outlinewidth": 0,
              "ticks": ""
             }
            },
            "type": "scatterpolargl"
           }
          ],
          "scatterternary": [
           {
            "marker": {
             "colorbar": {
              "outlinewidth": 0,
              "ticks": ""
             }
            },
            "type": "scatterternary"
           }
          ],
          "surface": [
           {
            "colorbar": {
             "outlinewidth": 0,
             "ticks": ""
            },
            "colorscale": [
             [
              0,
              "#0d0887"
             ],
             [
              0.1111111111111111,
              "#46039f"
             ],
             [
              0.2222222222222222,
              "#7201a8"
             ],
             [
              0.3333333333333333,
              "#9c179e"
             ],
             [
              0.4444444444444444,
              "#bd3786"
             ],
             [
              0.5555555555555556,
              "#d8576b"
             ],
             [
              0.6666666666666666,
              "#ed7953"
             ],
             [
              0.7777777777777778,
              "#fb9f3a"
             ],
             [
              0.8888888888888888,
              "#fdca26"
             ],
             [
              1,
              "#f0f921"
             ]
            ],
            "type": "surface"
           }
          ],
          "table": [
           {
            "cells": {
             "fill": {
              "color": "#EBF0F8"
             },
             "line": {
              "color": "white"
             }
            },
            "header": {
             "fill": {
              "color": "#C8D4E3"
             },
             "line": {
              "color": "white"
             }
            },
            "type": "table"
           }
          ]
         },
         "layout": {
          "annotationdefaults": {
           "arrowcolor": "#2a3f5f",
           "arrowhead": 0,
           "arrowwidth": 1
          },
          "autotypenumbers": "strict",
          "coloraxis": {
           "colorbar": {
            "outlinewidth": 0,
            "ticks": ""
           }
          },
          "colorscale": {
           "diverging": [
            [
             0,
             "#8e0152"
            ],
            [
             0.1,
             "#c51b7d"
            ],
            [
             0.2,
             "#de77ae"
            ],
            [
             0.3,
             "#f1b6da"
            ],
            [
             0.4,
             "#fde0ef"
            ],
            [
             0.5,
             "#f7f7f7"
            ],
            [
             0.6,
             "#e6f5d0"
            ],
            [
             0.7,
             "#b8e186"
            ],
            [
             0.8,
             "#7fbc41"
            ],
            [
             0.9,
             "#4d9221"
            ],
            [
             1,
             "#276419"
            ]
           ],
           "sequential": [
            [
             0,
             "#0d0887"
            ],
            [
             0.1111111111111111,
             "#46039f"
            ],
            [
             0.2222222222222222,
             "#7201a8"
            ],
            [
             0.3333333333333333,
             "#9c179e"
            ],
            [
             0.4444444444444444,
             "#bd3786"
            ],
            [
             0.5555555555555556,
             "#d8576b"
            ],
            [
             0.6666666666666666,
             "#ed7953"
            ],
            [
             0.7777777777777778,
             "#fb9f3a"
            ],
            [
             0.8888888888888888,
             "#fdca26"
            ],
            [
             1,
             "#f0f921"
            ]
           ],
           "sequentialminus": [
            [
             0,
             "#0d0887"
            ],
            [
             0.1111111111111111,
             "#46039f"
            ],
            [
             0.2222222222222222,
             "#7201a8"
            ],
            [
             0.3333333333333333,
             "#9c179e"
            ],
            [
             0.4444444444444444,
             "#bd3786"
            ],
            [
             0.5555555555555556,
             "#d8576b"
            ],
            [
             0.6666666666666666,
             "#ed7953"
            ],
            [
             0.7777777777777778,
             "#fb9f3a"
            ],
            [
             0.8888888888888888,
             "#fdca26"
            ],
            [
             1,
             "#f0f921"
            ]
           ]
          },
          "colorway": [
           "#636efa",
           "#EF553B",
           "#00cc96",
           "#ab63fa",
           "#FFA15A",
           "#19d3f3",
           "#FF6692",
           "#B6E880",
           "#FF97FF",
           "#FECB52"
          ],
          "font": {
           "color": "#2a3f5f"
          },
          "geo": {
           "bgcolor": "white",
           "lakecolor": "white",
           "landcolor": "#E5ECF6",
           "showlakes": true,
           "showland": true,
           "subunitcolor": "white"
          },
          "hoverlabel": {
           "align": "left"
          },
          "hovermode": "closest",
          "mapbox": {
           "style": "light"
          },
          "paper_bgcolor": "white",
          "plot_bgcolor": "#E5ECF6",
          "polar": {
           "angularaxis": {
            "gridcolor": "white",
            "linecolor": "white",
            "ticks": ""
           },
           "bgcolor": "#E5ECF6",
           "radialaxis": {
            "gridcolor": "white",
            "linecolor": "white",
            "ticks": ""
           }
          },
          "scene": {
           "xaxis": {
            "backgroundcolor": "#E5ECF6",
            "gridcolor": "white",
            "gridwidth": 2,
            "linecolor": "white",
            "showbackground": true,
            "ticks": "",
            "zerolinecolor": "white"
           },
           "yaxis": {
            "backgroundcolor": "#E5ECF6",
            "gridcolor": "white",
            "gridwidth": 2,
            "linecolor": "white",
            "showbackground": true,
            "ticks": "",
            "zerolinecolor": "white"
           },
           "zaxis": {
            "backgroundcolor": "#E5ECF6",
            "gridcolor": "white",
            "gridwidth": 2,
            "linecolor": "white",
            "showbackground": true,
            "ticks": "",
            "zerolinecolor": "white"
           }
          },
          "shapedefaults": {
           "line": {
            "color": "#2a3f5f"
           }
          },
          "ternary": {
           "aaxis": {
            "gridcolor": "white",
            "linecolor": "white",
            "ticks": ""
           },
           "baxis": {
            "gridcolor": "white",
            "linecolor": "white",
            "ticks": ""
           },
           "bgcolor": "#E5ECF6",
           "caxis": {
            "gridcolor": "white",
            "linecolor": "white",
            "ticks": ""
           }
          },
          "title": {
           "x": 0.05
          },
          "xaxis": {
           "automargin": true,
           "gridcolor": "white",
           "linecolor": "white",
           "ticks": "",
           "title": {
            "standoff": 15
           },
           "zerolinecolor": "white",
           "zerolinewidth": 2
          },
          "yaxis": {
           "automargin": true,
           "gridcolor": "white",
           "linecolor": "white",
           "ticks": "",
           "title": {
            "standoff": 15
           },
           "zerolinecolor": "white",
           "zerolinewidth": 2
          }
         }
        },
        "title": {
         "text": "Scatter Plot: Total Words vs Total Unique Words"
        },
        "xaxis": {
         "anchor": "y",
         "domain": [
          0,
          1
         ],
         "title": {
          "text": "Total Words"
         }
        },
        "yaxis": {
         "anchor": "x",
         "domain": [
          0,
          1
         ],
         "title": {
          "text": "Total Unique Words"
         }
        }
       }
      }
     },
     "metadata": {},
     "output_type": "display_data"
    },
    {
     "data": {
      "application/vnd.plotly.v1+json": {
       "config": {
        "plotlyServerURL": "https://plot.ly"
       },
       "data": [
        {
         "hovertemplate": "Total Sentences=%{x}<br>Avg Sentence Length=%{y}<extra></extra>",
         "legendgroup": "",
         "marker": {
          "color": "#636efa",
          "symbol": "circle"
         },
         "mode": "markers",
         "name": "",
         "orientation": "v",
         "showlegend": false,
         "type": "scatter",
         "x": [
          20,
          15,
          12,
          19,
          12,
          9,
          14,
          15,
          12,
          10,
          11,
          14,
          14,
          22,
          28,
          11,
          11,
          9,
          12,
          29,
          15,
          15,
          11,
          14,
          23,
          14,
          14,
          9,
          20,
          17,
          16,
          15,
          10,
          14,
          11,
          14,
          19,
          10,
          11,
          11,
          15,
          13,
          9,
          18,
          13,
          15,
          11,
          12,
          28,
          15,
          16,
          21,
          9,
          12,
          15,
          14,
          21,
          11,
          14,
          8,
          10,
          15,
          15,
          14,
          16,
          15,
          15,
          17,
          25,
          8,
          10,
          15,
          11,
          12,
          10,
          13,
          22,
          12,
          12,
          11,
          13,
          9,
          24,
          11,
          10,
          9,
          18,
          11,
          20,
          18,
          16,
          18,
          14,
          10,
          12,
          7,
          23,
          10,
          17,
          16
         ],
         "xaxis": "x",
         "y": [
          21.1,
          25.6,
          22,
          21.4,
          22.1,
          20.4,
          20.3,
          21.4,
          19.1,
          22.7,
          16.8,
          21.4,
          21.4,
          21.2,
          21.6,
          22.5,
          19.4,
          19.4,
          22.5,
          22.7,
          23.3,
          20.4,
          18.9,
          23.4,
          19.8,
          21.2,
          19.6,
          23.4,
          20.1,
          24.4,
          19,
          18.5,
          22.6,
          22,
          18.1,
          24.9,
          22.1,
          15.3,
          19.1,
          20.8,
          21.9,
          17.5,
          21.4,
          22.4,
          23.9,
          19.5,
          24.9,
          22.1,
          22,
          20.5,
          18.4,
          23,
          26.2,
          21.2,
          24.3,
          18.7,
          21,
          18,
          21,
          17.9,
          26.6,
          21.3,
          19.3,
          20.8,
          22.2,
          21.3,
          19.6,
          22.9,
          21.4,
          23,
          20.6,
          18.5,
          23,
          21.2,
          21.4,
          21.7,
          20.1,
          21.7,
          20.8,
          17.4,
          20.4,
          23,
          22.2,
          19.1,
          22.8,
          21.2,
          16.3,
          17.6,
          18.8,
          20.9,
          19.6,
          20.1,
          22.5,
          21,
          22,
          20,
          19.3,
          21.7,
          25.3,
          21.4
         ],
         "yaxis": "y"
        }
       ],
       "layout": {
        "legend": {
         "tracegroupgap": 0
        },
        "template": {
         "data": {
          "bar": [
           {
            "error_x": {
             "color": "#2a3f5f"
            },
            "error_y": {
             "color": "#2a3f5f"
            },
            "marker": {
             "line": {
              "color": "#E5ECF6",
              "width": 0.5
             },
             "pattern": {
              "fillmode": "overlay",
              "size": 10,
              "solidity": 0.2
             }
            },
            "type": "bar"
           }
          ],
          "barpolar": [
           {
            "marker": {
             "line": {
              "color": "#E5ECF6",
              "width": 0.5
             },
             "pattern": {
              "fillmode": "overlay",
              "size": 10,
              "solidity": 0.2
             }
            },
            "type": "barpolar"
           }
          ],
          "carpet": [
           {
            "aaxis": {
             "endlinecolor": "#2a3f5f",
             "gridcolor": "white",
             "linecolor": "white",
             "minorgridcolor": "white",
             "startlinecolor": "#2a3f5f"
            },
            "baxis": {
             "endlinecolor": "#2a3f5f",
             "gridcolor": "white",
             "linecolor": "white",
             "minorgridcolor": "white",
             "startlinecolor": "#2a3f5f"
            },
            "type": "carpet"
           }
          ],
          "choropleth": [
           {
            "colorbar": {
             "outlinewidth": 0,
             "ticks": ""
            },
            "type": "choropleth"
           }
          ],
          "contour": [
           {
            "colorbar": {
             "outlinewidth": 0,
             "ticks": ""
            },
            "colorscale": [
             [
              0,
              "#0d0887"
             ],
             [
              0.1111111111111111,
              "#46039f"
             ],
             [
              0.2222222222222222,
              "#7201a8"
             ],
             [
              0.3333333333333333,
              "#9c179e"
             ],
             [
              0.4444444444444444,
              "#bd3786"
             ],
             [
              0.5555555555555556,
              "#d8576b"
             ],
             [
              0.6666666666666666,
              "#ed7953"
             ],
             [
              0.7777777777777778,
              "#fb9f3a"
             ],
             [
              0.8888888888888888,
              "#fdca26"
             ],
             [
              1,
              "#f0f921"
             ]
            ],
            "type": "contour"
           }
          ],
          "contourcarpet": [
           {
            "colorbar": {
             "outlinewidth": 0,
             "ticks": ""
            },
            "type": "contourcarpet"
           }
          ],
          "heatmap": [
           {
            "colorbar": {
             "outlinewidth": 0,
             "ticks": ""
            },
            "colorscale": [
             [
              0,
              "#0d0887"
             ],
             [
              0.1111111111111111,
              "#46039f"
             ],
             [
              0.2222222222222222,
              "#7201a8"
             ],
             [
              0.3333333333333333,
              "#9c179e"
             ],
             [
              0.4444444444444444,
              "#bd3786"
             ],
             [
              0.5555555555555556,
              "#d8576b"
             ],
             [
              0.6666666666666666,
              "#ed7953"
             ],
             [
              0.7777777777777778,
              "#fb9f3a"
             ],
             [
              0.8888888888888888,
              "#fdca26"
             ],
             [
              1,
              "#f0f921"
             ]
            ],
            "type": "heatmap"
           }
          ],
          "heatmapgl": [
           {
            "colorbar": {
             "outlinewidth": 0,
             "ticks": ""
            },
            "colorscale": [
             [
              0,
              "#0d0887"
             ],
             [
              0.1111111111111111,
              "#46039f"
             ],
             [
              0.2222222222222222,
              "#7201a8"
             ],
             [
              0.3333333333333333,
              "#9c179e"
             ],
             [
              0.4444444444444444,
              "#bd3786"
             ],
             [
              0.5555555555555556,
              "#d8576b"
             ],
             [
              0.6666666666666666,
              "#ed7953"
             ],
             [
              0.7777777777777778,
              "#fb9f3a"
             ],
             [
              0.8888888888888888,
              "#fdca26"
             ],
             [
              1,
              "#f0f921"
             ]
            ],
            "type": "heatmapgl"
           }
          ],
          "histogram": [
           {
            "marker": {
             "pattern": {
              "fillmode": "overlay",
              "size": 10,
              "solidity": 0.2
             }
            },
            "type": "histogram"
           }
          ],
          "histogram2d": [
           {
            "colorbar": {
             "outlinewidth": 0,
             "ticks": ""
            },
            "colorscale": [
             [
              0,
              "#0d0887"
             ],
             [
              0.1111111111111111,
              "#46039f"
             ],
             [
              0.2222222222222222,
              "#7201a8"
             ],
             [
              0.3333333333333333,
              "#9c179e"
             ],
             [
              0.4444444444444444,
              "#bd3786"
             ],
             [
              0.5555555555555556,
              "#d8576b"
             ],
             [
              0.6666666666666666,
              "#ed7953"
             ],
             [
              0.7777777777777778,
              "#fb9f3a"
             ],
             [
              0.8888888888888888,
              "#fdca26"
             ],
             [
              1,
              "#f0f921"
             ]
            ],
            "type": "histogram2d"
           }
          ],
          "histogram2dcontour": [
           {
            "colorbar": {
             "outlinewidth": 0,
             "ticks": ""
            },
            "colorscale": [
             [
              0,
              "#0d0887"
             ],
             [
              0.1111111111111111,
              "#46039f"
             ],
             [
              0.2222222222222222,
              "#7201a8"
             ],
             [
              0.3333333333333333,
              "#9c179e"
             ],
             [
              0.4444444444444444,
              "#bd3786"
             ],
             [
              0.5555555555555556,
              "#d8576b"
             ],
             [
              0.6666666666666666,
              "#ed7953"
             ],
             [
              0.7777777777777778,
              "#fb9f3a"
             ],
             [
              0.8888888888888888,
              "#fdca26"
             ],
             [
              1,
              "#f0f921"
             ]
            ],
            "type": "histogram2dcontour"
           }
          ],
          "mesh3d": [
           {
            "colorbar": {
             "outlinewidth": 0,
             "ticks": ""
            },
            "type": "mesh3d"
           }
          ],
          "parcoords": [
           {
            "line": {
             "colorbar": {
              "outlinewidth": 0,
              "ticks": ""
             }
            },
            "type": "parcoords"
           }
          ],
          "pie": [
           {
            "automargin": true,
            "type": "pie"
           }
          ],
          "scatter": [
           {
            "fillpattern": {
             "fillmode": "overlay",
             "size": 10,
             "solidity": 0.2
            },
            "type": "scatter"
           }
          ],
          "scatter3d": [
           {
            "line": {
             "colorbar": {
              "outlinewidth": 0,
              "ticks": ""
             }
            },
            "marker": {
             "colorbar": {
              "outlinewidth": 0,
              "ticks": ""
             }
            },
            "type": "scatter3d"
           }
          ],
          "scattercarpet": [
           {
            "marker": {
             "colorbar": {
              "outlinewidth": 0,
              "ticks": ""
             }
            },
            "type": "scattercarpet"
           }
          ],
          "scattergeo": [
           {
            "marker": {
             "colorbar": {
              "outlinewidth": 0,
              "ticks": ""
             }
            },
            "type": "scattergeo"
           }
          ],
          "scattergl": [
           {
            "marker": {
             "colorbar": {
              "outlinewidth": 0,
              "ticks": ""
             }
            },
            "type": "scattergl"
           }
          ],
          "scattermapbox": [
           {
            "marker": {
             "colorbar": {
              "outlinewidth": 0,
              "ticks": ""
             }
            },
            "type": "scattermapbox"
           }
          ],
          "scatterpolar": [
           {
            "marker": {
             "colorbar": {
              "outlinewidth": 0,
              "ticks": ""
             }
            },
            "type": "scatterpolar"
           }
          ],
          "scatterpolargl": [
           {
            "marker": {
             "colorbar": {
              "outlinewidth": 0,
              "ticks": ""
             }
            },
            "type": "scatterpolargl"
           }
          ],
          "scatterternary": [
           {
            "marker": {
             "colorbar": {
              "outlinewidth": 0,
              "ticks": ""
             }
            },
            "type": "scatterternary"
           }
          ],
          "surface": [
           {
            "colorbar": {
             "outlinewidth": 0,
             "ticks": ""
            },
            "colorscale": [
             [
              0,
              "#0d0887"
             ],
             [
              0.1111111111111111,
              "#46039f"
             ],
             [
              0.2222222222222222,
              "#7201a8"
             ],
             [
              0.3333333333333333,
              "#9c179e"
             ],
             [
              0.4444444444444444,
              "#bd3786"
             ],
             [
              0.5555555555555556,
              "#d8576b"
             ],
             [
              0.6666666666666666,
              "#ed7953"
             ],
             [
              0.7777777777777778,
              "#fb9f3a"
             ],
             [
              0.8888888888888888,
              "#fdca26"
             ],
             [
              1,
              "#f0f921"
             ]
            ],
            "type": "surface"
           }
          ],
          "table": [
           {
            "cells": {
             "fill": {
              "color": "#EBF0F8"
             },
             "line": {
              "color": "white"
             }
            },
            "header": {
             "fill": {
              "color": "#C8D4E3"
             },
             "line": {
              "color": "white"
             }
            },
            "type": "table"
           }
          ]
         },
         "layout": {
          "annotationdefaults": {
           "arrowcolor": "#2a3f5f",
           "arrowhead": 0,
           "arrowwidth": 1
          },
          "autotypenumbers": "strict",
          "coloraxis": {
           "colorbar": {
            "outlinewidth": 0,
            "ticks": ""
           }
          },
          "colorscale": {
           "diverging": [
            [
             0,
             "#8e0152"
            ],
            [
             0.1,
             "#c51b7d"
            ],
            [
             0.2,
             "#de77ae"
            ],
            [
             0.3,
             "#f1b6da"
            ],
            [
             0.4,
             "#fde0ef"
            ],
            [
             0.5,
             "#f7f7f7"
            ],
            [
             0.6,
             "#e6f5d0"
            ],
            [
             0.7,
             "#b8e186"
            ],
            [
             0.8,
             "#7fbc41"
            ],
            [
             0.9,
             "#4d9221"
            ],
            [
             1,
             "#276419"
            ]
           ],
           "sequential": [
            [
             0,
             "#0d0887"
            ],
            [
             0.1111111111111111,
             "#46039f"
            ],
            [
             0.2222222222222222,
             "#7201a8"
            ],
            [
             0.3333333333333333,
             "#9c179e"
            ],
            [
             0.4444444444444444,
             "#bd3786"
            ],
            [
             0.5555555555555556,
             "#d8576b"
            ],
            [
             0.6666666666666666,
             "#ed7953"
            ],
            [
             0.7777777777777778,
             "#fb9f3a"
            ],
            [
             0.8888888888888888,
             "#fdca26"
            ],
            [
             1,
             "#f0f921"
            ]
           ],
           "sequentialminus": [
            [
             0,
             "#0d0887"
            ],
            [
             0.1111111111111111,
             "#46039f"
            ],
            [
             0.2222222222222222,
             "#7201a8"
            ],
            [
             0.3333333333333333,
             "#9c179e"
            ],
            [
             0.4444444444444444,
             "#bd3786"
            ],
            [
             0.5555555555555556,
             "#d8576b"
            ],
            [
             0.6666666666666666,
             "#ed7953"
            ],
            [
             0.7777777777777778,
             "#fb9f3a"
            ],
            [
             0.8888888888888888,
             "#fdca26"
            ],
            [
             1,
             "#f0f921"
            ]
           ]
          },
          "colorway": [
           "#636efa",
           "#EF553B",
           "#00cc96",
           "#ab63fa",
           "#FFA15A",
           "#19d3f3",
           "#FF6692",
           "#B6E880",
           "#FF97FF",
           "#FECB52"
          ],
          "font": {
           "color": "#2a3f5f"
          },
          "geo": {
           "bgcolor": "white",
           "lakecolor": "white",
           "landcolor": "#E5ECF6",
           "showlakes": true,
           "showland": true,
           "subunitcolor": "white"
          },
          "hoverlabel": {
           "align": "left"
          },
          "hovermode": "closest",
          "mapbox": {
           "style": "light"
          },
          "paper_bgcolor": "white",
          "plot_bgcolor": "#E5ECF6",
          "polar": {
           "angularaxis": {
            "gridcolor": "white",
            "linecolor": "white",
            "ticks": ""
           },
           "bgcolor": "#E5ECF6",
           "radialaxis": {
            "gridcolor": "white",
            "linecolor": "white",
            "ticks": ""
           }
          },
          "scene": {
           "xaxis": {
            "backgroundcolor": "#E5ECF6",
            "gridcolor": "white",
            "gridwidth": 2,
            "linecolor": "white",
            "showbackground": true,
            "ticks": "",
            "zerolinecolor": "white"
           },
           "yaxis": {
            "backgroundcolor": "#E5ECF6",
            "gridcolor": "white",
            "gridwidth": 2,
            "linecolor": "white",
            "showbackground": true,
            "ticks": "",
            "zerolinecolor": "white"
           },
           "zaxis": {
            "backgroundcolor": "#E5ECF6",
            "gridcolor": "white",
            "gridwidth": 2,
            "linecolor": "white",
            "showbackground": true,
            "ticks": "",
            "zerolinecolor": "white"
           }
          },
          "shapedefaults": {
           "line": {
            "color": "#2a3f5f"
           }
          },
          "ternary": {
           "aaxis": {
            "gridcolor": "white",
            "linecolor": "white",
            "ticks": ""
           },
           "baxis": {
            "gridcolor": "white",
            "linecolor": "white",
            "ticks": ""
           },
           "bgcolor": "#E5ECF6",
           "caxis": {
            "gridcolor": "white",
            "linecolor": "white",
            "ticks": ""
           }
          },
          "title": {
           "x": 0.05
          },
          "xaxis": {
           "automargin": true,
           "gridcolor": "white",
           "linecolor": "white",
           "ticks": "",
           "title": {
            "standoff": 15
           },
           "zerolinecolor": "white",
           "zerolinewidth": 2
          },
          "yaxis": {
           "automargin": true,
           "gridcolor": "white",
           "linecolor": "white",
           "ticks": "",
           "title": {
            "standoff": 15
           },
           "zerolinecolor": "white",
           "zerolinewidth": 2
          }
         }
        },
        "title": {
         "text": "Scatter Plot: Total Sentences vs Avg Sentence Length"
        },
        "xaxis": {
         "anchor": "y",
         "domain": [
          0,
          1
         ],
         "title": {
          "text": "Total Sentences"
         }
        },
        "yaxis": {
         "anchor": "x",
         "domain": [
          0,
          1
         ],
         "title": {
          "text": "Avg Sentence Length"
         }
        }
       }
      }
     },
     "metadata": {},
     "output_type": "display_data"
    },
    {
     "data": {
      "application/vnd.plotly.v1+json": {
       "config": {
        "plotlyServerURL": "https://plot.ly"
       },
       "data": [
        {
         "hovertemplate": "Total Unique Words=%{x}<br>Lexical Diversity=%{y}<extra></extra>",
         "legendgroup": "",
         "marker": {
          "color": "#636efa",
          "symbol": "circle"
         },
         "mode": "markers",
         "name": "",
         "orientation": "v",
         "showlegend": false,
         "type": "scatter",
         "x": [
          187,
          163,
          116,
          203,
          132,
          93,
          123,
          135,
          113,
          114,
          89,
          140,
          139,
          208,
          220,
          117,
          112,
          79,
          127,
          259,
          163,
          151,
          107,
          150,
          189,
          148,
          125,
          112,
          176,
          183,
          147,
          120,
          100,
          140,
          107,
          155,
          185,
          85,
          90,
          113,
          153,
          113,
          88,
          172,
          144,
          145,
          104,
          118,
          244,
          160,
          134,
          231,
          116,
          110,
          149,
          113,
          193,
          96,
          136,
          79,
          119,
          146,
          122,
          118,
          146,
          160,
          129,
          179,
          216,
          92,
          114,
          133,
          119,
          118,
          98,
          129,
          183,
          124,
          122,
          87,
          105,
          104,
          200,
          99,
          107,
          96,
          132,
          90,
          160,
          184,
          150,
          167,
          126,
          85,
          122,
          70,
          185,
          100,
          192,
          139
         ],
         "xaxis": "x",
         "y": [
          0.7,
          0.8,
          0.7,
          0.8,
          0.8,
          0.8,
          0.7,
          0.7,
          0.7,
          0.8,
          0.8,
          0.7,
          0.7,
          0.7,
          0.6,
          0.8,
          0.9,
          0.8,
          0.7,
          0.7,
          0.8,
          0.8,
          0.8,
          0.8,
          0.8,
          0.8,
          0.8,
          0.8,
          0.7,
          0.7,
          0.7,
          0.7,
          0.8,
          0.8,
          0.8,
          0.8,
          0.8,
          0.8,
          0.7,
          0.8,
          0.8,
          0.8,
          0.7,
          0.7,
          0.8,
          0.8,
          0.6,
          0.8,
          0.7,
          0.8,
          0.7,
          0.8,
          0.8,
          0.7,
          0.7,
          0.7,
          0.7,
          0.8,
          0.8,
          0.8,
          0.8,
          0.8,
          0.7,
          0.7,
          0.8,
          0.8,
          0.7,
          0.7,
          0.7,
          0.8,
          0.9,
          0.8,
          0.8,
          0.8,
          0.8,
          0.7,
          0.7,
          0.8,
          0.7,
          0.7,
          0.7,
          0.9,
          0.7,
          0.8,
          0.8,
          0.8,
          0.7,
          0.8,
          0.8,
          0.8,
          0.8,
          0.8,
          0.7,
          0.7,
          0.8,
          0.7,
          0.8,
          0.8,
          0.7,
          0.7
         ],
         "yaxis": "y"
        }
       ],
       "layout": {
        "legend": {
         "tracegroupgap": 0
        },
        "template": {
         "data": {
          "bar": [
           {
            "error_x": {
             "color": "#2a3f5f"
            },
            "error_y": {
             "color": "#2a3f5f"
            },
            "marker": {
             "line": {
              "color": "#E5ECF6",
              "width": 0.5
             },
             "pattern": {
              "fillmode": "overlay",
              "size": 10,
              "solidity": 0.2
             }
            },
            "type": "bar"
           }
          ],
          "barpolar": [
           {
            "marker": {
             "line": {
              "color": "#E5ECF6",
              "width": 0.5
             },
             "pattern": {
              "fillmode": "overlay",
              "size": 10,
              "solidity": 0.2
             }
            },
            "type": "barpolar"
           }
          ],
          "carpet": [
           {
            "aaxis": {
             "endlinecolor": "#2a3f5f",
             "gridcolor": "white",
             "linecolor": "white",
             "minorgridcolor": "white",
             "startlinecolor": "#2a3f5f"
            },
            "baxis": {
             "endlinecolor": "#2a3f5f",
             "gridcolor": "white",
             "linecolor": "white",
             "minorgridcolor": "white",
             "startlinecolor": "#2a3f5f"
            },
            "type": "carpet"
           }
          ],
          "choropleth": [
           {
            "colorbar": {
             "outlinewidth": 0,
             "ticks": ""
            },
            "type": "choropleth"
           }
          ],
          "contour": [
           {
            "colorbar": {
             "outlinewidth": 0,
             "ticks": ""
            },
            "colorscale": [
             [
              0,
              "#0d0887"
             ],
             [
              0.1111111111111111,
              "#46039f"
             ],
             [
              0.2222222222222222,
              "#7201a8"
             ],
             [
              0.3333333333333333,
              "#9c179e"
             ],
             [
              0.4444444444444444,
              "#bd3786"
             ],
             [
              0.5555555555555556,
              "#d8576b"
             ],
             [
              0.6666666666666666,
              "#ed7953"
             ],
             [
              0.7777777777777778,
              "#fb9f3a"
             ],
             [
              0.8888888888888888,
              "#fdca26"
             ],
             [
              1,
              "#f0f921"
             ]
            ],
            "type": "contour"
           }
          ],
          "contourcarpet": [
           {
            "colorbar": {
             "outlinewidth": 0,
             "ticks": ""
            },
            "type": "contourcarpet"
           }
          ],
          "heatmap": [
           {
            "colorbar": {
             "outlinewidth": 0,
             "ticks": ""
            },
            "colorscale": [
             [
              0,
              "#0d0887"
             ],
             [
              0.1111111111111111,
              "#46039f"
             ],
             [
              0.2222222222222222,
              "#7201a8"
             ],
             [
              0.3333333333333333,
              "#9c179e"
             ],
             [
              0.4444444444444444,
              "#bd3786"
             ],
             [
              0.5555555555555556,
              "#d8576b"
             ],
             [
              0.6666666666666666,
              "#ed7953"
             ],
             [
              0.7777777777777778,
              "#fb9f3a"
             ],
             [
              0.8888888888888888,
              "#fdca26"
             ],
             [
              1,
              "#f0f921"
             ]
            ],
            "type": "heatmap"
           }
          ],
          "heatmapgl": [
           {
            "colorbar": {
             "outlinewidth": 0,
             "ticks": ""
            },
            "colorscale": [
             [
              0,
              "#0d0887"
             ],
             [
              0.1111111111111111,
              "#46039f"
             ],
             [
              0.2222222222222222,
              "#7201a8"
             ],
             [
              0.3333333333333333,
              "#9c179e"
             ],
             [
              0.4444444444444444,
              "#bd3786"
             ],
             [
              0.5555555555555556,
              "#d8576b"
             ],
             [
              0.6666666666666666,
              "#ed7953"
             ],
             [
              0.7777777777777778,
              "#fb9f3a"
             ],
             [
              0.8888888888888888,
              "#fdca26"
             ],
             [
              1,
              "#f0f921"
             ]
            ],
            "type": "heatmapgl"
           }
          ],
          "histogram": [
           {
            "marker": {
             "pattern": {
              "fillmode": "overlay",
              "size": 10,
              "solidity": 0.2
             }
            },
            "type": "histogram"
           }
          ],
          "histogram2d": [
           {
            "colorbar": {
             "outlinewidth": 0,
             "ticks": ""
            },
            "colorscale": [
             [
              0,
              "#0d0887"
             ],
             [
              0.1111111111111111,
              "#46039f"
             ],
             [
              0.2222222222222222,
              "#7201a8"
             ],
             [
              0.3333333333333333,
              "#9c179e"
             ],
             [
              0.4444444444444444,
              "#bd3786"
             ],
             [
              0.5555555555555556,
              "#d8576b"
             ],
             [
              0.6666666666666666,
              "#ed7953"
             ],
             [
              0.7777777777777778,
              "#fb9f3a"
             ],
             [
              0.8888888888888888,
              "#fdca26"
             ],
             [
              1,
              "#f0f921"
             ]
            ],
            "type": "histogram2d"
           }
          ],
          "histogram2dcontour": [
           {
            "colorbar": {
             "outlinewidth": 0,
             "ticks": ""
            },
            "colorscale": [
             [
              0,
              "#0d0887"
             ],
             [
              0.1111111111111111,
              "#46039f"
             ],
             [
              0.2222222222222222,
              "#7201a8"
             ],
             [
              0.3333333333333333,
              "#9c179e"
             ],
             [
              0.4444444444444444,
              "#bd3786"
             ],
             [
              0.5555555555555556,
              "#d8576b"
             ],
             [
              0.6666666666666666,
              "#ed7953"
             ],
             [
              0.7777777777777778,
              "#fb9f3a"
             ],
             [
              0.8888888888888888,
              "#fdca26"
             ],
             [
              1,
              "#f0f921"
             ]
            ],
            "type": "histogram2dcontour"
           }
          ],
          "mesh3d": [
           {
            "colorbar": {
             "outlinewidth": 0,
             "ticks": ""
            },
            "type": "mesh3d"
           }
          ],
          "parcoords": [
           {
            "line": {
             "colorbar": {
              "outlinewidth": 0,
              "ticks": ""
             }
            },
            "type": "parcoords"
           }
          ],
          "pie": [
           {
            "automargin": true,
            "type": "pie"
           }
          ],
          "scatter": [
           {
            "fillpattern": {
             "fillmode": "overlay",
             "size": 10,
             "solidity": 0.2
            },
            "type": "scatter"
           }
          ],
          "scatter3d": [
           {
            "line": {
             "colorbar": {
              "outlinewidth": 0,
              "ticks": ""
             }
            },
            "marker": {
             "colorbar": {
              "outlinewidth": 0,
              "ticks": ""
             }
            },
            "type": "scatter3d"
           }
          ],
          "scattercarpet": [
           {
            "marker": {
             "colorbar": {
              "outlinewidth": 0,
              "ticks": ""
             }
            },
            "type": "scattercarpet"
           }
          ],
          "scattergeo": [
           {
            "marker": {
             "colorbar": {
              "outlinewidth": 0,
              "ticks": ""
             }
            },
            "type": "scattergeo"
           }
          ],
          "scattergl": [
           {
            "marker": {
             "colorbar": {
              "outlinewidth": 0,
              "ticks": ""
             }
            },
            "type": "scattergl"
           }
          ],
          "scattermapbox": [
           {
            "marker": {
             "colorbar": {
              "outlinewidth": 0,
              "ticks": ""
             }
            },
            "type": "scattermapbox"
           }
          ],
          "scatterpolar": [
           {
            "marker": {
             "colorbar": {
              "outlinewidth": 0,
              "ticks": ""
             }
            },
            "type": "scatterpolar"
           }
          ],
          "scatterpolargl": [
           {
            "marker": {
             "colorbar": {
              "outlinewidth": 0,
              "ticks": ""
             }
            },
            "type": "scatterpolargl"
           }
          ],
          "scatterternary": [
           {
            "marker": {
             "colorbar": {
              "outlinewidth": 0,
              "ticks": ""
             }
            },
            "type": "scatterternary"
           }
          ],
          "surface": [
           {
            "colorbar": {
             "outlinewidth": 0,
             "ticks": ""
            },
            "colorscale": [
             [
              0,
              "#0d0887"
             ],
             [
              0.1111111111111111,
              "#46039f"
             ],
             [
              0.2222222222222222,
              "#7201a8"
             ],
             [
              0.3333333333333333,
              "#9c179e"
             ],
             [
              0.4444444444444444,
              "#bd3786"
             ],
             [
              0.5555555555555556,
              "#d8576b"
             ],
             [
              0.6666666666666666,
              "#ed7953"
             ],
             [
              0.7777777777777778,
              "#fb9f3a"
             ],
             [
              0.8888888888888888,
              "#fdca26"
             ],
             [
              1,
              "#f0f921"
             ]
            ],
            "type": "surface"
           }
          ],
          "table": [
           {
            "cells": {
             "fill": {
              "color": "#EBF0F8"
             },
             "line": {
              "color": "white"
             }
            },
            "header": {
             "fill": {
              "color": "#C8D4E3"
             },
             "line": {
              "color": "white"
             }
            },
            "type": "table"
           }
          ]
         },
         "layout": {
          "annotationdefaults": {
           "arrowcolor": "#2a3f5f",
           "arrowhead": 0,
           "arrowwidth": 1
          },
          "autotypenumbers": "strict",
          "coloraxis": {
           "colorbar": {
            "outlinewidth": 0,
            "ticks": ""
           }
          },
          "colorscale": {
           "diverging": [
            [
             0,
             "#8e0152"
            ],
            [
             0.1,
             "#c51b7d"
            ],
            [
             0.2,
             "#de77ae"
            ],
            [
             0.3,
             "#f1b6da"
            ],
            [
             0.4,
             "#fde0ef"
            ],
            [
             0.5,
             "#f7f7f7"
            ],
            [
             0.6,
             "#e6f5d0"
            ],
            [
             0.7,
             "#b8e186"
            ],
            [
             0.8,
             "#7fbc41"
            ],
            [
             0.9,
             "#4d9221"
            ],
            [
             1,
             "#276419"
            ]
           ],
           "sequential": [
            [
             0,
             "#0d0887"
            ],
            [
             0.1111111111111111,
             "#46039f"
            ],
            [
             0.2222222222222222,
             "#7201a8"
            ],
            [
             0.3333333333333333,
             "#9c179e"
            ],
            [
             0.4444444444444444,
             "#bd3786"
            ],
            [
             0.5555555555555556,
             "#d8576b"
            ],
            [
             0.6666666666666666,
             "#ed7953"
            ],
            [
             0.7777777777777778,
             "#fb9f3a"
            ],
            [
             0.8888888888888888,
             "#fdca26"
            ],
            [
             1,
             "#f0f921"
            ]
           ],
           "sequentialminus": [
            [
             0,
             "#0d0887"
            ],
            [
             0.1111111111111111,
             "#46039f"
            ],
            [
             0.2222222222222222,
             "#7201a8"
            ],
            [
             0.3333333333333333,
             "#9c179e"
            ],
            [
             0.4444444444444444,
             "#bd3786"
            ],
            [
             0.5555555555555556,
             "#d8576b"
            ],
            [
             0.6666666666666666,
             "#ed7953"
            ],
            [
             0.7777777777777778,
             "#fb9f3a"
            ],
            [
             0.8888888888888888,
             "#fdca26"
            ],
            [
             1,
             "#f0f921"
            ]
           ]
          },
          "colorway": [
           "#636efa",
           "#EF553B",
           "#00cc96",
           "#ab63fa",
           "#FFA15A",
           "#19d3f3",
           "#FF6692",
           "#B6E880",
           "#FF97FF",
           "#FECB52"
          ],
          "font": {
           "color": "#2a3f5f"
          },
          "geo": {
           "bgcolor": "white",
           "lakecolor": "white",
           "landcolor": "#E5ECF6",
           "showlakes": true,
           "showland": true,
           "subunitcolor": "white"
          },
          "hoverlabel": {
           "align": "left"
          },
          "hovermode": "closest",
          "mapbox": {
           "style": "light"
          },
          "paper_bgcolor": "white",
          "plot_bgcolor": "#E5ECF6",
          "polar": {
           "angularaxis": {
            "gridcolor": "white",
            "linecolor": "white",
            "ticks": ""
           },
           "bgcolor": "#E5ECF6",
           "radialaxis": {
            "gridcolor": "white",
            "linecolor": "white",
            "ticks": ""
           }
          },
          "scene": {
           "xaxis": {
            "backgroundcolor": "#E5ECF6",
            "gridcolor": "white",
            "gridwidth": 2,
            "linecolor": "white",
            "showbackground": true,
            "ticks": "",
            "zerolinecolor": "white"
           },
           "yaxis": {
            "backgroundcolor": "#E5ECF6",
            "gridcolor": "white",
            "gridwidth": 2,
            "linecolor": "white",
            "showbackground": true,
            "ticks": "",
            "zerolinecolor": "white"
           },
           "zaxis": {
            "backgroundcolor": "#E5ECF6",
            "gridcolor": "white",
            "gridwidth": 2,
            "linecolor": "white",
            "showbackground": true,
            "ticks": "",
            "zerolinecolor": "white"
           }
          },
          "shapedefaults": {
           "line": {
            "color": "#2a3f5f"
           }
          },
          "ternary": {
           "aaxis": {
            "gridcolor": "white",
            "linecolor": "white",
            "ticks": ""
           },
           "baxis": {
            "gridcolor": "white",
            "linecolor": "white",
            "ticks": ""
           },
           "bgcolor": "#E5ECF6",
           "caxis": {
            "gridcolor": "white",
            "linecolor": "white",
            "ticks": ""
           }
          },
          "title": {
           "x": 0.05
          },
          "xaxis": {
           "automargin": true,
           "gridcolor": "white",
           "linecolor": "white",
           "ticks": "",
           "title": {
            "standoff": 15
           },
           "zerolinecolor": "white",
           "zerolinewidth": 2
          },
          "yaxis": {
           "automargin": true,
           "gridcolor": "white",
           "linecolor": "white",
           "ticks": "",
           "title": {
            "standoff": 15
           },
           "zerolinecolor": "white",
           "zerolinewidth": 2
          }
         }
        },
        "title": {
         "text": "Scatter Plot: Total Unique Words vs Lexical Diversity"
        },
        "xaxis": {
         "anchor": "y",
         "domain": [
          0,
          1
         ],
         "title": {
          "text": "Total Unique Words"
         }
        },
        "yaxis": {
         "anchor": "x",
         "domain": [
          0,
          1
         ],
         "title": {
          "text": "Lexical Diversity"
         }
        }
       }
      }
     },
     "metadata": {},
     "output_type": "display_data"
    }
   ],
   "source": [
    "# Define the combinations you want to plot\n",
    "combinations_to_plot = [\n",
    "    (\"Total Words\", \"Total Sentences\"),\n",
    "    (\"Total Words\", \"Total Unique Words\"),\n",
    "    (\"Total Sentences\", \"Avg Sentence Length\"),\n",
    "    (\"Total Unique Words\", \"Lexical Diversity\")\n",
    "]\n",
    "\n",
    "plot_specified_scatter(summary_table, combinations_to_plot)"
   ]
  },
  {
   "attachments": {},
   "cell_type": "markdown",
   "metadata": {},
   "source": [
    "### Text Metrics Distributions\n",
    "\n",
    "- **Word Frequencies:** This metric provides a histogram of how often words appear with a given frequency. For example, if a lot of words appear only once in a document, it might be indicative of a text rich in unique words. On the other hand, a small set of words appearing very frequently might indicate repetitive content or a certain theme or pattern in the text.\n",
    "\n",
    "- **Sentence Positions vs. Sentence Lengths:** This bar chart showcases the length of each sentence (in terms of word count) in their order of appearance in the document. This can give insights into the flow of information in a text, highlighting any long, detailed sections or brief, potentially superficial areas.\n",
    "\n",
    "- **Sentence Lengths Distribution:** A histogram showing the frequency of sentence lengths across the document. Long sentences might contain a lot of information but could be harder for summarization models to digest and for readers to comprehend. Conversely, many short sentences might indicate fragmented information.\n",
    "\n",
    "- **Word Lengths Distribution:** A histogram of the lengths of words in the document. Extremely long words might be anomalies, technical terms, or potential errors in the corpus. Conversely, a majority of very short words might denote lack of depth or specificity."
   ]
  },
  {
   "cell_type": "code",
   "execution_count": 17,
   "metadata": {},
   "outputs": [
    {
     "data": {
      "application/vnd.plotly.v1+json": {
       "config": {
        "plotlyServerURL": "https://plot.ly"
       },
       "data": [
        {
         "marker": {
          "color": "blue"
         },
         "showlegend": false,
         "type": "bar",
         "x": [
          1,
          4,
          3,
          5,
          7,
          8,
          18,
          9,
          2,
          17,
          21,
          20,
          12,
          10,
          6
         ],
         "xaxis": "x",
         "y": [
          164,
          5,
          12,
          8,
          3,
          2,
          1,
          1,
          37,
          1,
          1,
          1,
          1,
          1,
          2
         ],
         "yaxis": "y"
        },
        {
         "marker": {
          "color": "green"
         },
         "showlegend": false,
         "type": "bar",
         "x": [
          1,
          2,
          3,
          4,
          5,
          6,
          7,
          8,
          9,
          10,
          11,
          12,
          13,
          14,
          15,
          16,
          17,
          18,
          19,
          20
         ],
         "xaxis": "x2",
         "y": [
          27,
          23,
          11,
          20,
          13,
          10,
          17,
          20,
          27,
          24,
          11,
          37,
          21,
          25,
          20,
          20,
          20,
          24,
          30,
          21
         ],
         "yaxis": "y2"
        },
        {
         "marker": {
          "color": "red"
         },
         "nbinsx": 50,
         "opacity": 0.75,
         "showlegend": false,
         "type": "histogram",
         "x": [
          27,
          23,
          11,
          20,
          13,
          10,
          17,
          20,
          27,
          24,
          11,
          37,
          21,
          25,
          20,
          20,
          20,
          24,
          30,
          21
         ],
         "xaxis": "x3",
         "yaxis": "y3"
        },
        {
         "marker": {
          "color": "purple"
         },
         "nbinsx": 50,
         "opacity": 0.75,
         "showlegend": false,
         "type": "histogram",
         "x": [
          2,
          5,
          5,
          4,
          6,
          6,
          9,
          7,
          2,
          2,
          5,
          5,
          10,
          6,
          2,
          1,
          2,
          1,
          6,
          1,
          5,
          1,
          3,
          3,
          5,
          6,
          2,
          8,
          1,
          4,
          1,
          4,
          12,
          1,
          3,
          4,
          1,
          5,
          2,
          3,
          3,
          2,
          3,
          7,
          9,
          2,
          6,
          1,
          9,
          4,
          5,
          2,
          10,
          8,
          11,
          3,
          6,
          6,
          5,
          1,
          10,
          4,
          6,
          7,
          5,
          4,
          1,
          1,
          2,
          1,
          6,
          4,
          1,
          6,
          1,
          3,
          7,
          4,
          6,
          2,
          7,
          5,
          5,
          6,
          1,
          6,
          3,
          2,
          6,
          4,
          1,
          3,
          4,
          5,
          3,
          3,
          1,
          4,
          6,
          4,
          2,
          6,
          4,
          2,
          3,
          4,
          1,
          1,
          2,
          13,
          6,
          1,
          3,
          3,
          3,
          8,
          8,
          1,
          3,
          1,
          3,
          3,
          5,
          8,
          1,
          2,
          4,
          7,
          11,
          2,
          3,
          6,
          7,
          7,
          4,
          5,
          4,
          2,
          3,
          9,
          5,
          8,
          1,
          7,
          1,
          3,
          7,
          4,
          3,
          2,
          10,
          6,
          6,
          11,
          5,
          4,
          1,
          1,
          2,
          3,
          4,
          2,
          8,
          8,
          11,
          8,
          1,
          2,
          5,
          2,
          8,
          11,
          2,
          8,
          3,
          6,
          7,
          4,
          2,
          10,
          8,
          9,
          3,
          4,
          3,
          2,
          4,
          2,
          3,
          2,
          8,
          9,
          3,
          10,
          9,
          1,
          10,
          4,
          3,
          2,
          7,
          4,
          3,
          4,
          7,
          9,
          1,
          5,
          2,
          3,
          2,
          10,
          8,
          10,
          1,
          3,
          1,
          1,
          5,
          2,
          5,
          2,
          10,
          1,
          4,
          6,
          2,
          6,
          7,
          7,
          4,
          8,
          6,
          4,
          8,
          1,
          12,
          1,
          3,
          3,
          4,
          8,
          3,
          7,
          5,
          2,
          1,
          2,
          1,
          4,
          1,
          6,
          2,
          10,
          5,
          9,
          3,
          8,
          1,
          1,
          5,
          8,
          2,
          12,
          1,
          4,
          3,
          5,
          3,
          5,
          4,
          2,
          3,
          4,
          2,
          3,
          5,
          7,
          7,
          7,
          1,
          3,
          3,
          9,
          1,
          10,
          6,
          1,
          6,
          2,
          1,
          6,
          1,
          2,
          2,
          1,
          4,
          3,
          4,
          11,
          1,
          5,
          8,
          4,
          3,
          1,
          2,
          1,
          7,
          1,
          2,
          3,
          9,
          11,
          3,
          6,
          1,
          7,
          2,
          9,
          3,
          2,
          3,
          9,
          10,
          3,
          7,
          9,
          3,
          11,
          1,
          2,
          8,
          3,
          5,
          9,
          7,
          7,
          4,
          1,
          3,
          4,
          1,
          10,
          2,
          10,
          9,
          8,
          6,
          2,
          6,
          1,
          1,
          1,
          3,
          4,
          7,
          6,
          7,
          3,
          5,
          6,
          7,
          1,
          10,
          2,
          2,
          7,
          3,
          8,
          2,
          4,
          2,
          7,
          2,
          7,
          2,
          7,
          4,
          3,
          2,
          2,
          6,
          10,
          1,
          2,
          3,
          7,
          7,
          2,
          3,
          1,
          4,
          2,
          6,
          7,
          1,
          2,
          1,
          4,
          4,
          2,
          5,
          6,
          2,
          3,
          3,
          1,
          3,
          7,
          4,
          2,
          3,
          6,
          2,
          8,
          3,
          6,
          2,
          6,
          2,
          3,
          5,
          3,
          5,
          8,
          1,
          5,
          2,
          10,
          3,
          2,
          1,
          4,
          1,
          2,
          7,
          2,
          6,
          3,
          3,
          2,
          8,
          3,
          1,
          4,
          4,
          6,
          5,
          9,
          11,
          2,
          8,
          2,
          1,
          5,
          2,
          3,
          6,
          1,
          5,
          2,
          3,
          8,
          2,
          11,
          7,
          1,
          2,
          4,
          3,
          4,
          3,
          4,
          2,
          3,
          5,
          2,
          3,
          6,
          2,
          1,
          4,
          2,
          3,
          5,
          2,
          4,
          5,
          1
         ],
         "xaxis": "x4",
         "yaxis": "y4"
        }
       ],
       "layout": {
        "annotations": [
         {
          "font": {
           "size": 16
          },
          "showarrow": false,
          "text": "Word Frequencies",
          "x": 0.225,
          "xanchor": "center",
          "xref": "paper",
          "y": 1,
          "yanchor": "bottom",
          "yref": "paper"
         },
         {
          "font": {
           "size": 16
          },
          "showarrow": false,
          "text": "Sentence Positions",
          "x": 0.775,
          "xanchor": "center",
          "xref": "paper",
          "y": 1,
          "yanchor": "bottom",
          "yref": "paper"
         },
         {
          "font": {
           "size": 16
          },
          "showarrow": false,
          "text": "Sentence Lengths",
          "x": 0.225,
          "xanchor": "center",
          "xref": "paper",
          "y": 0.375,
          "yanchor": "bottom",
          "yref": "paper"
         },
         {
          "font": {
           "size": 16
          },
          "showarrow": false,
          "text": "Word Lengths",
          "x": 0.775,
          "xanchor": "center",
          "xref": "paper",
          "y": 0.375,
          "yanchor": "bottom",
          "yref": "paper"
         }
        ],
        "barmode": "overlay",
        "height": 800,
        "template": {
         "data": {
          "bar": [
           {
            "error_x": {
             "color": "#2a3f5f"
            },
            "error_y": {
             "color": "#2a3f5f"
            },
            "marker": {
             "line": {
              "color": "#E5ECF6",
              "width": 0.5
             },
             "pattern": {
              "fillmode": "overlay",
              "size": 10,
              "solidity": 0.2
             }
            },
            "type": "bar"
           }
          ],
          "barpolar": [
           {
            "marker": {
             "line": {
              "color": "#E5ECF6",
              "width": 0.5
             },
             "pattern": {
              "fillmode": "overlay",
              "size": 10,
              "solidity": 0.2
             }
            },
            "type": "barpolar"
           }
          ],
          "carpet": [
           {
            "aaxis": {
             "endlinecolor": "#2a3f5f",
             "gridcolor": "white",
             "linecolor": "white",
             "minorgridcolor": "white",
             "startlinecolor": "#2a3f5f"
            },
            "baxis": {
             "endlinecolor": "#2a3f5f",
             "gridcolor": "white",
             "linecolor": "white",
             "minorgridcolor": "white",
             "startlinecolor": "#2a3f5f"
            },
            "type": "carpet"
           }
          ],
          "choropleth": [
           {
            "colorbar": {
             "outlinewidth": 0,
             "ticks": ""
            },
            "type": "choropleth"
           }
          ],
          "contour": [
           {
            "colorbar": {
             "outlinewidth": 0,
             "ticks": ""
            },
            "colorscale": [
             [
              0,
              "#0d0887"
             ],
             [
              0.1111111111111111,
              "#46039f"
             ],
             [
              0.2222222222222222,
              "#7201a8"
             ],
             [
              0.3333333333333333,
              "#9c179e"
             ],
             [
              0.4444444444444444,
              "#bd3786"
             ],
             [
              0.5555555555555556,
              "#d8576b"
             ],
             [
              0.6666666666666666,
              "#ed7953"
             ],
             [
              0.7777777777777778,
              "#fb9f3a"
             ],
             [
              0.8888888888888888,
              "#fdca26"
             ],
             [
              1,
              "#f0f921"
             ]
            ],
            "type": "contour"
           }
          ],
          "contourcarpet": [
           {
            "colorbar": {
             "outlinewidth": 0,
             "ticks": ""
            },
            "type": "contourcarpet"
           }
          ],
          "heatmap": [
           {
            "colorbar": {
             "outlinewidth": 0,
             "ticks": ""
            },
            "colorscale": [
             [
              0,
              "#0d0887"
             ],
             [
              0.1111111111111111,
              "#46039f"
             ],
             [
              0.2222222222222222,
              "#7201a8"
             ],
             [
              0.3333333333333333,
              "#9c179e"
             ],
             [
              0.4444444444444444,
              "#bd3786"
             ],
             [
              0.5555555555555556,
              "#d8576b"
             ],
             [
              0.6666666666666666,
              "#ed7953"
             ],
             [
              0.7777777777777778,
              "#fb9f3a"
             ],
             [
              0.8888888888888888,
              "#fdca26"
             ],
             [
              1,
              "#f0f921"
             ]
            ],
            "type": "heatmap"
           }
          ],
          "heatmapgl": [
           {
            "colorbar": {
             "outlinewidth": 0,
             "ticks": ""
            },
            "colorscale": [
             [
              0,
              "#0d0887"
             ],
             [
              0.1111111111111111,
              "#46039f"
             ],
             [
              0.2222222222222222,
              "#7201a8"
             ],
             [
              0.3333333333333333,
              "#9c179e"
             ],
             [
              0.4444444444444444,
              "#bd3786"
             ],
             [
              0.5555555555555556,
              "#d8576b"
             ],
             [
              0.6666666666666666,
              "#ed7953"
             ],
             [
              0.7777777777777778,
              "#fb9f3a"
             ],
             [
              0.8888888888888888,
              "#fdca26"
             ],
             [
              1,
              "#f0f921"
             ]
            ],
            "type": "heatmapgl"
           }
          ],
          "histogram": [
           {
            "marker": {
             "pattern": {
              "fillmode": "overlay",
              "size": 10,
              "solidity": 0.2
             }
            },
            "type": "histogram"
           }
          ],
          "histogram2d": [
           {
            "colorbar": {
             "outlinewidth": 0,
             "ticks": ""
            },
            "colorscale": [
             [
              0,
              "#0d0887"
             ],
             [
              0.1111111111111111,
              "#46039f"
             ],
             [
              0.2222222222222222,
              "#7201a8"
             ],
             [
              0.3333333333333333,
              "#9c179e"
             ],
             [
              0.4444444444444444,
              "#bd3786"
             ],
             [
              0.5555555555555556,
              "#d8576b"
             ],
             [
              0.6666666666666666,
              "#ed7953"
             ],
             [
              0.7777777777777778,
              "#fb9f3a"
             ],
             [
              0.8888888888888888,
              "#fdca26"
             ],
             [
              1,
              "#f0f921"
             ]
            ],
            "type": "histogram2d"
           }
          ],
          "histogram2dcontour": [
           {
            "colorbar": {
             "outlinewidth": 0,
             "ticks": ""
            },
            "colorscale": [
             [
              0,
              "#0d0887"
             ],
             [
              0.1111111111111111,
              "#46039f"
             ],
             [
              0.2222222222222222,
              "#7201a8"
             ],
             [
              0.3333333333333333,
              "#9c179e"
             ],
             [
              0.4444444444444444,
              "#bd3786"
             ],
             [
              0.5555555555555556,
              "#d8576b"
             ],
             [
              0.6666666666666666,
              "#ed7953"
             ],
             [
              0.7777777777777778,
              "#fb9f3a"
             ],
             [
              0.8888888888888888,
              "#fdca26"
             ],
             [
              1,
              "#f0f921"
             ]
            ],
            "type": "histogram2dcontour"
           }
          ],
          "mesh3d": [
           {
            "colorbar": {
             "outlinewidth": 0,
             "ticks": ""
            },
            "type": "mesh3d"
           }
          ],
          "parcoords": [
           {
            "line": {
             "colorbar": {
              "outlinewidth": 0,
              "ticks": ""
             }
            },
            "type": "parcoords"
           }
          ],
          "pie": [
           {
            "automargin": true,
            "type": "pie"
           }
          ],
          "scatter": [
           {
            "fillpattern": {
             "fillmode": "overlay",
             "size": 10,
             "solidity": 0.2
            },
            "type": "scatter"
           }
          ],
          "scatter3d": [
           {
            "line": {
             "colorbar": {
              "outlinewidth": 0,
              "ticks": ""
             }
            },
            "marker": {
             "colorbar": {
              "outlinewidth": 0,
              "ticks": ""
             }
            },
            "type": "scatter3d"
           }
          ],
          "scattercarpet": [
           {
            "marker": {
             "colorbar": {
              "outlinewidth": 0,
              "ticks": ""
             }
            },
            "type": "scattercarpet"
           }
          ],
          "scattergeo": [
           {
            "marker": {
             "colorbar": {
              "outlinewidth": 0,
              "ticks": ""
             }
            },
            "type": "scattergeo"
           }
          ],
          "scattergl": [
           {
            "marker": {
             "colorbar": {
              "outlinewidth": 0,
              "ticks": ""
             }
            },
            "type": "scattergl"
           }
          ],
          "scattermapbox": [
           {
            "marker": {
             "colorbar": {
              "outlinewidth": 0,
              "ticks": ""
             }
            },
            "type": "scattermapbox"
           }
          ],
          "scatterpolar": [
           {
            "marker": {
             "colorbar": {
              "outlinewidth": 0,
              "ticks": ""
             }
            },
            "type": "scatterpolar"
           }
          ],
          "scatterpolargl": [
           {
            "marker": {
             "colorbar": {
              "outlinewidth": 0,
              "ticks": ""
             }
            },
            "type": "scatterpolargl"
           }
          ],
          "scatterternary": [
           {
            "marker": {
             "colorbar": {
              "outlinewidth": 0,
              "ticks": ""
             }
            },
            "type": "scatterternary"
           }
          ],
          "surface": [
           {
            "colorbar": {
             "outlinewidth": 0,
             "ticks": ""
            },
            "colorscale": [
             [
              0,
              "#0d0887"
             ],
             [
              0.1111111111111111,
              "#46039f"
             ],
             [
              0.2222222222222222,
              "#7201a8"
             ],
             [
              0.3333333333333333,
              "#9c179e"
             ],
             [
              0.4444444444444444,
              "#bd3786"
             ],
             [
              0.5555555555555556,
              "#d8576b"
             ],
             [
              0.6666666666666666,
              "#ed7953"
             ],
             [
              0.7777777777777778,
              "#fb9f3a"
             ],
             [
              0.8888888888888888,
              "#fdca26"
             ],
             [
              1,
              "#f0f921"
             ]
            ],
            "type": "surface"
           }
          ],
          "table": [
           {
            "cells": {
             "fill": {
              "color": "#EBF0F8"
             },
             "line": {
              "color": "white"
             }
            },
            "header": {
             "fill": {
              "color": "#C8D4E3"
             },
             "line": {
              "color": "white"
             }
            },
            "type": "table"
           }
          ]
         },
         "layout": {
          "annotationdefaults": {
           "arrowcolor": "#2a3f5f",
           "arrowhead": 0,
           "arrowwidth": 1
          },
          "autotypenumbers": "strict",
          "coloraxis": {
           "colorbar": {
            "outlinewidth": 0,
            "ticks": ""
           }
          },
          "colorscale": {
           "diverging": [
            [
             0,
             "#8e0152"
            ],
            [
             0.1,
             "#c51b7d"
            ],
            [
             0.2,
             "#de77ae"
            ],
            [
             0.3,
             "#f1b6da"
            ],
            [
             0.4,
             "#fde0ef"
            ],
            [
             0.5,
             "#f7f7f7"
            ],
            [
             0.6,
             "#e6f5d0"
            ],
            [
             0.7,
             "#b8e186"
            ],
            [
             0.8,
             "#7fbc41"
            ],
            [
             0.9,
             "#4d9221"
            ],
            [
             1,
             "#276419"
            ]
           ],
           "sequential": [
            [
             0,
             "#0d0887"
            ],
            [
             0.1111111111111111,
             "#46039f"
            ],
            [
             0.2222222222222222,
             "#7201a8"
            ],
            [
             0.3333333333333333,
             "#9c179e"
            ],
            [
             0.4444444444444444,
             "#bd3786"
            ],
            [
             0.5555555555555556,
             "#d8576b"
            ],
            [
             0.6666666666666666,
             "#ed7953"
            ],
            [
             0.7777777777777778,
             "#fb9f3a"
            ],
            [
             0.8888888888888888,
             "#fdca26"
            ],
            [
             1,
             "#f0f921"
            ]
           ],
           "sequentialminus": [
            [
             0,
             "#0d0887"
            ],
            [
             0.1111111111111111,
             "#46039f"
            ],
            [
             0.2222222222222222,
             "#7201a8"
            ],
            [
             0.3333333333333333,
             "#9c179e"
            ],
            [
             0.4444444444444444,
             "#bd3786"
            ],
            [
             0.5555555555555556,
             "#d8576b"
            ],
            [
             0.6666666666666666,
             "#ed7953"
            ],
            [
             0.7777777777777778,
             "#fb9f3a"
            ],
            [
             0.8888888888888888,
             "#fdca26"
            ],
            [
             1,
             "#f0f921"
            ]
           ]
          },
          "colorway": [
           "#636efa",
           "#EF553B",
           "#00cc96",
           "#ab63fa",
           "#FFA15A",
           "#19d3f3",
           "#FF6692",
           "#B6E880",
           "#FF97FF",
           "#FECB52"
          ],
          "font": {
           "color": "#2a3f5f"
          },
          "geo": {
           "bgcolor": "white",
           "lakecolor": "white",
           "landcolor": "#E5ECF6",
           "showlakes": true,
           "showland": true,
           "subunitcolor": "white"
          },
          "hoverlabel": {
           "align": "left"
          },
          "hovermode": "closest",
          "mapbox": {
           "style": "light"
          },
          "paper_bgcolor": "white",
          "plot_bgcolor": "#E5ECF6",
          "polar": {
           "angularaxis": {
            "gridcolor": "white",
            "linecolor": "white",
            "ticks": ""
           },
           "bgcolor": "#E5ECF6",
           "radialaxis": {
            "gridcolor": "white",
            "linecolor": "white",
            "ticks": ""
           }
          },
          "scene": {
           "xaxis": {
            "backgroundcolor": "#E5ECF6",
            "gridcolor": "white",
            "gridwidth": 2,
            "linecolor": "white",
            "showbackground": true,
            "ticks": "",
            "zerolinecolor": "white"
           },
           "yaxis": {
            "backgroundcolor": "#E5ECF6",
            "gridcolor": "white",
            "gridwidth": 2,
            "linecolor": "white",
            "showbackground": true,
            "ticks": "",
            "zerolinecolor": "white"
           },
           "zaxis": {
            "backgroundcolor": "#E5ECF6",
            "gridcolor": "white",
            "gridwidth": 2,
            "linecolor": "white",
            "showbackground": true,
            "ticks": "",
            "zerolinecolor": "white"
           }
          },
          "shapedefaults": {
           "line": {
            "color": "#2a3f5f"
           }
          },
          "ternary": {
           "aaxis": {
            "gridcolor": "white",
            "linecolor": "white",
            "ticks": ""
           },
           "baxis": {
            "gridcolor": "white",
            "linecolor": "white",
            "ticks": ""
           },
           "bgcolor": "#E5ECF6",
           "caxis": {
            "gridcolor": "white",
            "linecolor": "white",
            "ticks": ""
           }
          },
          "title": {
           "x": 0.05
          },
          "xaxis": {
           "automargin": true,
           "gridcolor": "white",
           "linecolor": "white",
           "ticks": "",
           "title": {
            "standoff": 15
           },
           "zerolinecolor": "white",
           "zerolinewidth": 2
          },
          "yaxis": {
           "automargin": true,
           "gridcolor": "white",
           "linecolor": "white",
           "ticks": "",
           "title": {
            "standoff": 15
           },
           "zerolinecolor": "white",
           "zerolinewidth": 2
          }
         }
        },
        "title": {
         "text": "Summary Metrics for Document 1"
        },
        "xaxis": {
         "anchor": "y",
         "domain": [
          0,
          0.45
         ],
         "title": {
          "font": {
           "size": 10
          },
          "text": "Word Frequencies"
         }
        },
        "xaxis2": {
         "anchor": "y2",
         "domain": [
          0.55,
          1
         ],
         "title": {
          "font": {
           "size": 10
          },
          "text": "Sentence Position in Document"
         }
        },
        "xaxis3": {
         "anchor": "y3",
         "domain": [
          0,
          0.45
         ],
         "title": {
          "font": {
           "size": 10
          },
          "text": "Sentence Lengths (Words)"
         }
        },
        "xaxis4": {
         "anchor": "y4",
         "domain": [
          0.55,
          1
         ],
         "title": {
          "font": {
           "size": 10
          },
          "text": "Word Lengths (Characters)"
         }
        },
        "yaxis": {
         "anchor": "x",
         "domain": [
          0.625,
          1
         ],
         "title": {
          "font": {
           "size": 10
          },
          "text": "Number of Words"
         }
        },
        "yaxis2": {
         "anchor": "x2",
         "domain": [
          0.625,
          1
         ],
         "title": {
          "font": {
           "size": 10
          },
          "text": "Sentence Length (Words)"
         }
        },
        "yaxis3": {
         "anchor": "x3",
         "domain": [
          0,
          0.375
         ],
         "title": {
          "font": {
           "size": 10
          },
          "text": "Number of Sentences"
         }
        },
        "yaxis4": {
         "anchor": "x4",
         "domain": [
          0,
          0.375
         ],
         "title": {
          "font": {
           "size": 10
          },
          "text": "Number of Words"
         }
        }
       }
      }
     },
     "metadata": {},
     "output_type": "display_data"
    },
    {
     "data": {
      "application/vnd.plotly.v1+json": {
       "config": {
        "plotlyServerURL": "https://plot.ly"
       },
       "data": [
        {
         "marker": {
          "color": "blue"
         },
         "showlegend": false,
         "type": "bar",
         "x": [
          1,
          7,
          3,
          2,
          5,
          27,
          10,
          4,
          8,
          6,
          9,
          15,
          16,
          11
         ],
         "xaxis": "x",
         "y": [
          149,
          2,
          16,
          39,
          2,
          1,
          3,
          3,
          1,
          1,
          1,
          1,
          1,
          1
         ],
         "yaxis": "y"
        },
        {
         "marker": {
          "color": "green"
         },
         "showlegend": false,
         "type": "bar",
         "x": [
          1,
          2,
          3,
          4,
          5,
          6,
          7,
          8,
          9,
          10,
          11,
          12,
          13,
          14,
          15
         ],
         "xaxis": "x2",
         "y": [
          33,
          23,
          17,
          12,
          35,
          35,
          23,
          10,
          24,
          32,
          14,
          39,
          22,
          41,
          24
         ],
         "yaxis": "y2"
        },
        {
         "marker": {
          "color": "red"
         },
         "nbinsx": 50,
         "opacity": 0.75,
         "showlegend": false,
         "type": "histogram",
         "x": [
          33,
          23,
          17,
          12,
          35,
          35,
          23,
          10,
          24,
          32,
          14,
          39,
          22,
          41,
          24
         ],
         "xaxis": "x3",
         "yaxis": "y3"
        },
        {
         "marker": {
          "color": "purple"
         },
         "nbinsx": 50,
         "opacity": 0.75,
         "showlegend": false,
         "type": "histogram",
         "x": [
          6,
          5,
          2,
          9,
          6,
          3,
          6,
          3,
          3,
          3,
          7,
          5,
          7,
          3,
          4,
          2,
          6,
          5,
          6,
          5,
          3,
          7,
          7,
          4,
          4,
          3,
          2,
          5,
          7,
          2,
          3,
          2,
          9,
          1,
          3,
          4,
          9,
          11,
          3,
          2,
          10,
          2,
          11,
          2,
          4,
          8,
          3,
          6,
          9,
          7,
          2,
          7,
          5,
          3,
          4,
          2,
          6,
          2,
          1,
          2,
          4,
          7,
          2,
          3,
          4,
          1,
          3,
          6,
          7,
          1,
          6,
          7,
          3,
          4,
          1,
          4,
          1,
          6,
          2,
          8,
          1,
          6,
          8,
          5,
          3,
          7,
          3,
          3,
          3,
          9,
          2,
          6,
          6,
          1,
          2,
          6,
          1,
          7,
          7,
          8,
          2,
          9,
          2,
          6,
          2,
          6,
          5,
          2,
          3,
          7,
          2,
          2,
          7,
          9,
          4,
          3,
          6,
          6,
          5,
          2,
          3,
          7,
          7,
          2,
          3,
          4,
          2,
          19,
          2,
          4,
          4,
          1,
          2,
          1,
          5,
          3,
          8,
          2,
          6,
          1,
          4,
          4,
          8,
          4,
          2,
          3,
          7,
          7,
          7,
          4,
          2,
          2,
          5,
          3,
          4,
          4,
          1,
          2,
          4,
          6,
          6,
          1,
          4,
          2,
          8,
          8,
          2,
          4,
          2,
          7,
          2,
          3,
          4,
          1,
          2,
          2,
          2,
          6,
          1,
          11,
          4,
          1,
          6,
          3,
          1,
          3,
          2,
          10,
          5,
          5,
          3,
          7,
          7,
          7,
          3,
          7,
          4,
          4,
          3,
          4,
          1,
          2,
          7,
          5,
          3,
          7,
          8,
          5,
          5,
          2,
          1,
          7,
          1,
          6,
          1,
          5,
          2,
          8,
          7,
          6,
          2,
          3,
          6,
          3,
          3,
          2,
          8,
          2,
          5,
          5,
          2,
          6,
          6,
          4,
          9,
          4,
          7,
          6,
          6,
          6,
          11,
          1,
          3,
          5,
          3,
          1,
          5,
          2,
          7,
          2,
          6,
          4,
          6,
          2,
          4,
          4,
          1,
          7,
          6,
          8,
          2,
          1,
          5,
          7,
          9,
          4,
          3,
          2,
          4,
          2,
          4,
          2,
          3,
          1,
          9,
          2,
          3,
          3,
          1,
          3,
          2,
          7,
          2,
          7,
          8,
          2,
          7,
          3,
          10,
          8,
          2,
          7,
          6,
          1,
          2,
          3,
          8,
          1,
          3,
          2,
          7,
          7,
          2,
          8,
          2,
          1,
          8,
          2,
          5,
          8,
          5,
          2,
          1,
          7,
          2,
          1,
          5,
          1,
          3,
          5,
          4,
          4,
          2,
          2,
          4,
          6,
          1,
          3,
          6,
          2,
          1,
          12,
          4,
          8,
          5,
          1,
          3,
          10,
          6,
          1,
          4,
          7,
          1,
          5,
          2,
          6,
          2,
          4,
          2,
          6,
          7,
          4,
          10,
          1,
          3,
          5,
          4,
          4,
          2,
          3,
          6,
          1,
          3,
          6,
          5,
          4,
          6,
          4,
          3,
          6,
          2,
          3,
          6,
          8,
          1,
          2,
          4,
          2,
          3,
          2,
          2,
          7,
          7,
          7,
          3,
          1,
          4,
          2,
          5,
          4,
          2,
          2,
          6,
          2,
          3,
          6,
          2,
          2,
          5,
          3,
          6,
          2,
          7,
          5,
          3,
          11,
          1,
          3,
          5,
          5,
          4,
          8,
          3,
          6,
          2,
          6,
          1,
          3,
          4,
          12,
          7,
          3,
          7,
          4,
          6,
          2,
          5,
          2,
          4,
          1,
          8,
          7,
          1
         ],
         "xaxis": "x4",
         "yaxis": "y4"
        }
       ],
       "layout": {
        "annotations": [
         {
          "font": {
           "size": 16
          },
          "showarrow": false,
          "text": "Word Frequencies",
          "x": 0.225,
          "xanchor": "center",
          "xref": "paper",
          "y": 1,
          "yanchor": "bottom",
          "yref": "paper"
         },
         {
          "font": {
           "size": 16
          },
          "showarrow": false,
          "text": "Sentence Positions",
          "x": 0.775,
          "xanchor": "center",
          "xref": "paper",
          "y": 1,
          "yanchor": "bottom",
          "yref": "paper"
         },
         {
          "font": {
           "size": 16
          },
          "showarrow": false,
          "text": "Sentence Lengths",
          "x": 0.225,
          "xanchor": "center",
          "xref": "paper",
          "y": 0.375,
          "yanchor": "bottom",
          "yref": "paper"
         },
         {
          "font": {
           "size": 16
          },
          "showarrow": false,
          "text": "Word Lengths",
          "x": 0.775,
          "xanchor": "center",
          "xref": "paper",
          "y": 0.375,
          "yanchor": "bottom",
          "yref": "paper"
         }
        ],
        "barmode": "overlay",
        "height": 800,
        "template": {
         "data": {
          "bar": [
           {
            "error_x": {
             "color": "#2a3f5f"
            },
            "error_y": {
             "color": "#2a3f5f"
            },
            "marker": {
             "line": {
              "color": "#E5ECF6",
              "width": 0.5
             },
             "pattern": {
              "fillmode": "overlay",
              "size": 10,
              "solidity": 0.2
             }
            },
            "type": "bar"
           }
          ],
          "barpolar": [
           {
            "marker": {
             "line": {
              "color": "#E5ECF6",
              "width": 0.5
             },
             "pattern": {
              "fillmode": "overlay",
              "size": 10,
              "solidity": 0.2
             }
            },
            "type": "barpolar"
           }
          ],
          "carpet": [
           {
            "aaxis": {
             "endlinecolor": "#2a3f5f",
             "gridcolor": "white",
             "linecolor": "white",
             "minorgridcolor": "white",
             "startlinecolor": "#2a3f5f"
            },
            "baxis": {
             "endlinecolor": "#2a3f5f",
             "gridcolor": "white",
             "linecolor": "white",
             "minorgridcolor": "white",
             "startlinecolor": "#2a3f5f"
            },
            "type": "carpet"
           }
          ],
          "choropleth": [
           {
            "colorbar": {
             "outlinewidth": 0,
             "ticks": ""
            },
            "type": "choropleth"
           }
          ],
          "contour": [
           {
            "colorbar": {
             "outlinewidth": 0,
             "ticks": ""
            },
            "colorscale": [
             [
              0,
              "#0d0887"
             ],
             [
              0.1111111111111111,
              "#46039f"
             ],
             [
              0.2222222222222222,
              "#7201a8"
             ],
             [
              0.3333333333333333,
              "#9c179e"
             ],
             [
              0.4444444444444444,
              "#bd3786"
             ],
             [
              0.5555555555555556,
              "#d8576b"
             ],
             [
              0.6666666666666666,
              "#ed7953"
             ],
             [
              0.7777777777777778,
              "#fb9f3a"
             ],
             [
              0.8888888888888888,
              "#fdca26"
             ],
             [
              1,
              "#f0f921"
             ]
            ],
            "type": "contour"
           }
          ],
          "contourcarpet": [
           {
            "colorbar": {
             "outlinewidth": 0,
             "ticks": ""
            },
            "type": "contourcarpet"
           }
          ],
          "heatmap": [
           {
            "colorbar": {
             "outlinewidth": 0,
             "ticks": ""
            },
            "colorscale": [
             [
              0,
              "#0d0887"
             ],
             [
              0.1111111111111111,
              "#46039f"
             ],
             [
              0.2222222222222222,
              "#7201a8"
             ],
             [
              0.3333333333333333,
              "#9c179e"
             ],
             [
              0.4444444444444444,
              "#bd3786"
             ],
             [
              0.5555555555555556,
              "#d8576b"
             ],
             [
              0.6666666666666666,
              "#ed7953"
             ],
             [
              0.7777777777777778,
              "#fb9f3a"
             ],
             [
              0.8888888888888888,
              "#fdca26"
             ],
             [
              1,
              "#f0f921"
             ]
            ],
            "type": "heatmap"
           }
          ],
          "heatmapgl": [
           {
            "colorbar": {
             "outlinewidth": 0,
             "ticks": ""
            },
            "colorscale": [
             [
              0,
              "#0d0887"
             ],
             [
              0.1111111111111111,
              "#46039f"
             ],
             [
              0.2222222222222222,
              "#7201a8"
             ],
             [
              0.3333333333333333,
              "#9c179e"
             ],
             [
              0.4444444444444444,
              "#bd3786"
             ],
             [
              0.5555555555555556,
              "#d8576b"
             ],
             [
              0.6666666666666666,
              "#ed7953"
             ],
             [
              0.7777777777777778,
              "#fb9f3a"
             ],
             [
              0.8888888888888888,
              "#fdca26"
             ],
             [
              1,
              "#f0f921"
             ]
            ],
            "type": "heatmapgl"
           }
          ],
          "histogram": [
           {
            "marker": {
             "pattern": {
              "fillmode": "overlay",
              "size": 10,
              "solidity": 0.2
             }
            },
            "type": "histogram"
           }
          ],
          "histogram2d": [
           {
            "colorbar": {
             "outlinewidth": 0,
             "ticks": ""
            },
            "colorscale": [
             [
              0,
              "#0d0887"
             ],
             [
              0.1111111111111111,
              "#46039f"
             ],
             [
              0.2222222222222222,
              "#7201a8"
             ],
             [
              0.3333333333333333,
              "#9c179e"
             ],
             [
              0.4444444444444444,
              "#bd3786"
             ],
             [
              0.5555555555555556,
              "#d8576b"
             ],
             [
              0.6666666666666666,
              "#ed7953"
             ],
             [
              0.7777777777777778,
              "#fb9f3a"
             ],
             [
              0.8888888888888888,
              "#fdca26"
             ],
             [
              1,
              "#f0f921"
             ]
            ],
            "type": "histogram2d"
           }
          ],
          "histogram2dcontour": [
           {
            "colorbar": {
             "outlinewidth": 0,
             "ticks": ""
            },
            "colorscale": [
             [
              0,
              "#0d0887"
             ],
             [
              0.1111111111111111,
              "#46039f"
             ],
             [
              0.2222222222222222,
              "#7201a8"
             ],
             [
              0.3333333333333333,
              "#9c179e"
             ],
             [
              0.4444444444444444,
              "#bd3786"
             ],
             [
              0.5555555555555556,
              "#d8576b"
             ],
             [
              0.6666666666666666,
              "#ed7953"
             ],
             [
              0.7777777777777778,
              "#fb9f3a"
             ],
             [
              0.8888888888888888,
              "#fdca26"
             ],
             [
              1,
              "#f0f921"
             ]
            ],
            "type": "histogram2dcontour"
           }
          ],
          "mesh3d": [
           {
            "colorbar": {
             "outlinewidth": 0,
             "ticks": ""
            },
            "type": "mesh3d"
           }
          ],
          "parcoords": [
           {
            "line": {
             "colorbar": {
              "outlinewidth": 0,
              "ticks": ""
             }
            },
            "type": "parcoords"
           }
          ],
          "pie": [
           {
            "automargin": true,
            "type": "pie"
           }
          ],
          "scatter": [
           {
            "fillpattern": {
             "fillmode": "overlay",
             "size": 10,
             "solidity": 0.2
            },
            "type": "scatter"
           }
          ],
          "scatter3d": [
           {
            "line": {
             "colorbar": {
              "outlinewidth": 0,
              "ticks": ""
             }
            },
            "marker": {
             "colorbar": {
              "outlinewidth": 0,
              "ticks": ""
             }
            },
            "type": "scatter3d"
           }
          ],
          "scattercarpet": [
           {
            "marker": {
             "colorbar": {
              "outlinewidth": 0,
              "ticks": ""
             }
            },
            "type": "scattercarpet"
           }
          ],
          "scattergeo": [
           {
            "marker": {
             "colorbar": {
              "outlinewidth": 0,
              "ticks": ""
             }
            },
            "type": "scattergeo"
           }
          ],
          "scattergl": [
           {
            "marker": {
             "colorbar": {
              "outlinewidth": 0,
              "ticks": ""
             }
            },
            "type": "scattergl"
           }
          ],
          "scattermapbox": [
           {
            "marker": {
             "colorbar": {
              "outlinewidth": 0,
              "ticks": ""
             }
            },
            "type": "scattermapbox"
           }
          ],
          "scatterpolar": [
           {
            "marker": {
             "colorbar": {
              "outlinewidth": 0,
              "ticks": ""
             }
            },
            "type": "scatterpolar"
           }
          ],
          "scatterpolargl": [
           {
            "marker": {
             "colorbar": {
              "outlinewidth": 0,
              "ticks": ""
             }
            },
            "type": "scatterpolargl"
           }
          ],
          "scatterternary": [
           {
            "marker": {
             "colorbar": {
              "outlinewidth": 0,
              "ticks": ""
             }
            },
            "type": "scatterternary"
           }
          ],
          "surface": [
           {
            "colorbar": {
             "outlinewidth": 0,
             "ticks": ""
            },
            "colorscale": [
             [
              0,
              "#0d0887"
             ],
             [
              0.1111111111111111,
              "#46039f"
             ],
             [
              0.2222222222222222,
              "#7201a8"
             ],
             [
              0.3333333333333333,
              "#9c179e"
             ],
             [
              0.4444444444444444,
              "#bd3786"
             ],
             [
              0.5555555555555556,
              "#d8576b"
             ],
             [
              0.6666666666666666,
              "#ed7953"
             ],
             [
              0.7777777777777778,
              "#fb9f3a"
             ],
             [
              0.8888888888888888,
              "#fdca26"
             ],
             [
              1,
              "#f0f921"
             ]
            ],
            "type": "surface"
           }
          ],
          "table": [
           {
            "cells": {
             "fill": {
              "color": "#EBF0F8"
             },
             "line": {
              "color": "white"
             }
            },
            "header": {
             "fill": {
              "color": "#C8D4E3"
             },
             "line": {
              "color": "white"
             }
            },
            "type": "table"
           }
          ]
         },
         "layout": {
          "annotationdefaults": {
           "arrowcolor": "#2a3f5f",
           "arrowhead": 0,
           "arrowwidth": 1
          },
          "autotypenumbers": "strict",
          "coloraxis": {
           "colorbar": {
            "outlinewidth": 0,
            "ticks": ""
           }
          },
          "colorscale": {
           "diverging": [
            [
             0,
             "#8e0152"
            ],
            [
             0.1,
             "#c51b7d"
            ],
            [
             0.2,
             "#de77ae"
            ],
            [
             0.3,
             "#f1b6da"
            ],
            [
             0.4,
             "#fde0ef"
            ],
            [
             0.5,
             "#f7f7f7"
            ],
            [
             0.6,
             "#e6f5d0"
            ],
            [
             0.7,
             "#b8e186"
            ],
            [
             0.8,
             "#7fbc41"
            ],
            [
             0.9,
             "#4d9221"
            ],
            [
             1,
             "#276419"
            ]
           ],
           "sequential": [
            [
             0,
             "#0d0887"
            ],
            [
             0.1111111111111111,
             "#46039f"
            ],
            [
             0.2222222222222222,
             "#7201a8"
            ],
            [
             0.3333333333333333,
             "#9c179e"
            ],
            [
             0.4444444444444444,
             "#bd3786"
            ],
            [
             0.5555555555555556,
             "#d8576b"
            ],
            [
             0.6666666666666666,
             "#ed7953"
            ],
            [
             0.7777777777777778,
             "#fb9f3a"
            ],
            [
             0.8888888888888888,
             "#fdca26"
            ],
            [
             1,
             "#f0f921"
            ]
           ],
           "sequentialminus": [
            [
             0,
             "#0d0887"
            ],
            [
             0.1111111111111111,
             "#46039f"
            ],
            [
             0.2222222222222222,
             "#7201a8"
            ],
            [
             0.3333333333333333,
             "#9c179e"
            ],
            [
             0.4444444444444444,
             "#bd3786"
            ],
            [
             0.5555555555555556,
             "#d8576b"
            ],
            [
             0.6666666666666666,
             "#ed7953"
            ],
            [
             0.7777777777777778,
             "#fb9f3a"
            ],
            [
             0.8888888888888888,
             "#fdca26"
            ],
            [
             1,
             "#f0f921"
            ]
           ]
          },
          "colorway": [
           "#636efa",
           "#EF553B",
           "#00cc96",
           "#ab63fa",
           "#FFA15A",
           "#19d3f3",
           "#FF6692",
           "#B6E880",
           "#FF97FF",
           "#FECB52"
          ],
          "font": {
           "color": "#2a3f5f"
          },
          "geo": {
           "bgcolor": "white",
           "lakecolor": "white",
           "landcolor": "#E5ECF6",
           "showlakes": true,
           "showland": true,
           "subunitcolor": "white"
          },
          "hoverlabel": {
           "align": "left"
          },
          "hovermode": "closest",
          "mapbox": {
           "style": "light"
          },
          "paper_bgcolor": "white",
          "plot_bgcolor": "#E5ECF6",
          "polar": {
           "angularaxis": {
            "gridcolor": "white",
            "linecolor": "white",
            "ticks": ""
           },
           "bgcolor": "#E5ECF6",
           "radialaxis": {
            "gridcolor": "white",
            "linecolor": "white",
            "ticks": ""
           }
          },
          "scene": {
           "xaxis": {
            "backgroundcolor": "#E5ECF6",
            "gridcolor": "white",
            "gridwidth": 2,
            "linecolor": "white",
            "showbackground": true,
            "ticks": "",
            "zerolinecolor": "white"
           },
           "yaxis": {
            "backgroundcolor": "#E5ECF6",
            "gridcolor": "white",
            "gridwidth": 2,
            "linecolor": "white",
            "showbackground": true,
            "ticks": "",
            "zerolinecolor": "white"
           },
           "zaxis": {
            "backgroundcolor": "#E5ECF6",
            "gridcolor": "white",
            "gridwidth": 2,
            "linecolor": "white",
            "showbackground": true,
            "ticks": "",
            "zerolinecolor": "white"
           }
          },
          "shapedefaults": {
           "line": {
            "color": "#2a3f5f"
           }
          },
          "ternary": {
           "aaxis": {
            "gridcolor": "white",
            "linecolor": "white",
            "ticks": ""
           },
           "baxis": {
            "gridcolor": "white",
            "linecolor": "white",
            "ticks": ""
           },
           "bgcolor": "#E5ECF6",
           "caxis": {
            "gridcolor": "white",
            "linecolor": "white",
            "ticks": ""
           }
          },
          "title": {
           "x": 0.05
          },
          "xaxis": {
           "automargin": true,
           "gridcolor": "white",
           "linecolor": "white",
           "ticks": "",
           "title": {
            "standoff": 15
           },
           "zerolinecolor": "white",
           "zerolinewidth": 2
          },
          "yaxis": {
           "automargin": true,
           "gridcolor": "white",
           "linecolor": "white",
           "ticks": "",
           "title": {
            "standoff": 15
           },
           "zerolinecolor": "white",
           "zerolinewidth": 2
          }
         }
        },
        "title": {
         "text": "Summary Metrics for Document 2"
        },
        "xaxis": {
         "anchor": "y",
         "domain": [
          0,
          0.45
         ],
         "title": {
          "font": {
           "size": 10
          },
          "text": "Word Frequencies"
         }
        },
        "xaxis2": {
         "anchor": "y2",
         "domain": [
          0.55,
          1
         ],
         "title": {
          "font": {
           "size": 10
          },
          "text": "Sentence Position in Document"
         }
        },
        "xaxis3": {
         "anchor": "y3",
         "domain": [
          0,
          0.45
         ],
         "title": {
          "font": {
           "size": 10
          },
          "text": "Sentence Lengths (Words)"
         }
        },
        "xaxis4": {
         "anchor": "y4",
         "domain": [
          0.55,
          1
         ],
         "title": {
          "font": {
           "size": 10
          },
          "text": "Word Lengths (Characters)"
         }
        },
        "yaxis": {
         "anchor": "x",
         "domain": [
          0.625,
          1
         ],
         "title": {
          "font": {
           "size": 10
          },
          "text": "Number of Words"
         }
        },
        "yaxis2": {
         "anchor": "x2",
         "domain": [
          0.625,
          1
         ],
         "title": {
          "font": {
           "size": 10
          },
          "text": "Sentence Length (Words)"
         }
        },
        "yaxis3": {
         "anchor": "x3",
         "domain": [
          0,
          0.375
         ],
         "title": {
          "font": {
           "size": 10
          },
          "text": "Number of Sentences"
         }
        },
        "yaxis4": {
         "anchor": "x4",
         "domain": [
          0,
          0.375
         ],
         "title": {
          "font": {
           "size": 10
          },
          "text": "Number of Words"
         }
        }
       }
      }
     },
     "metadata": {},
     "output_type": "display_data"
    }
   ],
   "source": [
    "text_metrics_summary_plot(df_raw, \"input\", 2)"
   ]
  },
  {
   "attachments": {},
   "cell_type": "markdown",
   "metadata": {},
   "source": [
    "**ROUGE Score (Recall-Oriented Understudy for Gisting Evaluation)**\n",
    "\n",
    "The ROUGE score is a widely adopted set of metrics used for evaluating automatic summarization and machine translation. It fundamentally measures the overlap between the n-grams in the generated summary and those in the reference summary.\n",
    "\n",
    "- **ROUGE-N**: This evaluates the overlap of n-grams between the produced summary and reference summary. It calculates precision (the proportion of n-grams in the generated summary that are also present in the reference summary), recall (the proportion of n-grams in the reference summary that are also present in the generated summary), and F1 score (the harmonic mean of precision and recall).\n",
    "\n",
    "- **ROUGE-L**: This metric is based on the Longest Common Subsequence (LCS) between the generated and reference summaries. LCS measures the longest sequence of tokens in the generated summary that matches the reference, without considering the order. It's beneficial because it can identify and reward longer coherent matching sequences.\n",
    "\n",
    "- **ROUGE-S**: This measures the skip-bigram overlap, considering the pair of words in order as \"bigrams\" while allowing arbitrary gaps or \"skips\". This can be valuable to capture sentence-level structure similarity."
   ]
  },
  {
   "cell_type": "code",
   "execution_count": 18,
   "metadata": {},
   "outputs": [
    {
     "data": {
      "application/vnd.plotly.v1+json": {
       "config": {
        "plotlyServerURL": "https://plot.ly"
       },
       "data": [
        {
         "mode": "lines+markers",
         "name": "Precision",
         "type": "scatter",
         "x": [
          0,
          1,
          2,
          3,
          4,
          5,
          6,
          7,
          8,
          9,
          10,
          11,
          12,
          13,
          14,
          15,
          16,
          17,
          18,
          19,
          20,
          21,
          22,
          23,
          24,
          25,
          26,
          27,
          28,
          29,
          30,
          31,
          32,
          33,
          34,
          35,
          36,
          37,
          38,
          39,
          40,
          41,
          42,
          43,
          44,
          45,
          46,
          47,
          48,
          49,
          50,
          51,
          52,
          53,
          54,
          55,
          56,
          57,
          58,
          59,
          60,
          61,
          62,
          63,
          64,
          65,
          66,
          67,
          68,
          69,
          70,
          71,
          72,
          73,
          74,
          75,
          76,
          77,
          78,
          79,
          80,
          81,
          82,
          83,
          84,
          85,
          86,
          87,
          88,
          89,
          90,
          91,
          92,
          93,
          94,
          95,
          96,
          97,
          98,
          99
         ],
         "y": [
          0.42346938775510207,
          0.1893491124260355,
          0.018518518518518517,
          0.1875,
          0.026595744680851064,
          0.41040462427745666,
          0.2994011976047904,
          1,
          0.49473684210526314,
          0.4427083333333333,
          0.5388888888888889,
          1,
          0.057291666666666664,
          0.09183673469387756,
          0.40782122905027934,
          1,
          0.510752688172043,
          0.5497076023391813,
          0.14814814814814814,
          0.17297297297297298,
          0,
          0.15606936416184972,
          0.33519553072625696,
          0.0481283422459893,
          0.03664921465968586,
          1,
          0.48663101604278075,
          0.30851063829787234,
          0.455026455026455,
          0.04145077720207254,
          0.44041450777202074,
          0.4083769633507853,
          0.4717948717948718,
          0.13612565445026178,
          0.42424242424242425,
          0.20300751879699247,
          0.049723756906077346,
          0.6258064516129033,
          0.3687150837988827,
          0.3697916666666667,
          0.3191489361702128,
          0.037037037037037035,
          0.3858695652173913,
          0.02512562814070352,
          0.14054054054054055,
          0.05102040816326531,
          0.03825136612021858,
          0.5105263157894737,
          0.13978494623655913,
          0.4869109947643979,
          0.1686046511627907,
          0.4365482233502538,
          0.1949685534591195,
          0.08074534161490683,
          0.06976744186046512,
          0.48936170212765956,
          0.37967914438502676,
          0.48936170212765956,
          0.031914893617021274,
          0.6595744680851063,
          0.10869565217391304,
          0.35353535353535354,
          0.5271739130434783,
          0.0335195530726257,
          0.040697674418604654,
          0.11538461538461539,
          0.0213903743315508,
          0.3958333333333333,
          0.45789473684210524,
          0.40782122905027934,
          0.28125,
          1,
          0.05844155844155844,
          0.029940119760479042,
          0.5106382978723404,
          0.16025641025641027,
          0.43315508021390375,
          0.1503267973856209,
          0.15217391304347827,
          0.13043478260869565,
          0.1456953642384106,
          0.33146067415730335,
          0.1746031746031746,
          0.3879781420765027,
          0.2789473684210526,
          0.43386243386243384,
          0.4419889502762431,
          0.40512820512820513,
          0.09523809523809523,
          0.035897435897435895,
          0.39378238341968913,
          0.047619047619047616,
          1,
          0.3465909090909091,
          0.12169312169312169,
          0.14074074074074075,
          0.06557377049180328,
          0.3968253968253968,
          0.14361702127659576,
          0.05154639175257732
         ]
        },
        {
         "mode": "lines+markers",
         "name": "Recall",
         "type": "scatter",
         "x": [
          0,
          1,
          2,
          3,
          4,
          5,
          6,
          7,
          8,
          9,
          10,
          11,
          12,
          13,
          14,
          15,
          16,
          17,
          18,
          19,
          20,
          21,
          22,
          23,
          24,
          25,
          26,
          27,
          28,
          29,
          30,
          31,
          32,
          33,
          34,
          35,
          36,
          37,
          38,
          39,
          40,
          41,
          42,
          43,
          44,
          45,
          46,
          47,
          48,
          49,
          50,
          51,
          52,
          53,
          54,
          55,
          56,
          57,
          58,
          59,
          60,
          61,
          62,
          63,
          64,
          65,
          66,
          67,
          68,
          69,
          70,
          71,
          72,
          73,
          74,
          75,
          76,
          77,
          78,
          79,
          80,
          81,
          82,
          83,
          84,
          85,
          86,
          87,
          88,
          89,
          90,
          91,
          92,
          93,
          94,
          95,
          96,
          97,
          98,
          99
         ],
         "y": [
          1,
          1,
          0.030612244897959183,
          0.3711340206185567,
          0.058823529411764705,
          1,
          1,
          1,
          0.9591836734693877,
          0.9444444444444444,
          0.9897959183673469,
          1,
          0.13414634146341464,
          0.1836734693877551,
          0.8021978021978022,
          1,
          0.9895833333333334,
          0.9894736842105263,
          1,
          0.3595505617977528,
          0,
          1,
          0.7058823529411765,
          0.09090909090909091,
          0.07526881720430108,
          1,
          0.9891304347826086,
          0.7073170731707317,
          0.9347826086956522,
          0.09411764705882353,
          0.9444444444444444,
          0.8125,
          1,
          0.26262626262626265,
          1,
          1,
          0.1125,
          0.9897959183673469,
          0.825,
          0.7319587628865979,
          0.7692307692307693,
          0.054945054945054944,
          1,
          0.05434782608695652,
          1,
          0.10204081632653061,
          0.08045977011494253,
          1,
          0.2708333333333333,
          1,
          0.3670886075949367,
          0.945054945054945,
          0.3069306930693069,
          0.1511627906976744,
          0.13793103448275862,
          0.989247311827957,
          0.7717391304347826,
          1,
          0.06315789473684211,
          0.9893617021276596,
          0.20202020202020202,
          0.6796116504854369,
          0.9897959183673469,
          0.06382978723404255,
          0.07692307692307693,
          0.22580645161290322,
          0.042105263157894736,
          0.7835051546391752,
          0.9886363636363636,
          1,
          0.8059701492537313,
          1,
          0.09574468085106383,
          0.05952380952380952,
          0.9896907216494846,
          1,
          1,
          1,
          0.3373493975903614,
          1,
          1,
          0.6781609195402298,
          0.358695652173913,
          0.8452380952380952,
          0.6708860759493671,
          1,
          1,
          1,
          0.18556701030927836,
          0.07142857142857142,
          0.95,
          0.09473684210526316,
          1,
          0.8026315789473685,
          0.26136363636363635,
          1,
          0.1188118811881188,
          0.7731958762886598,
          0.2755102040816326,
          0.11764705882352941
         ]
        },
        {
         "mode": "lines+markers",
         "name": "F1 Score",
         "type": "scatter",
         "x": [
          0,
          1,
          2,
          3,
          4,
          5,
          6,
          7,
          8,
          9,
          10,
          11,
          12,
          13,
          14,
          15,
          16,
          17,
          18,
          19,
          20,
          21,
          22,
          23,
          24,
          25,
          26,
          27,
          28,
          29,
          30,
          31,
          32,
          33,
          34,
          35,
          36,
          37,
          38,
          39,
          40,
          41,
          42,
          43,
          44,
          45,
          46,
          47,
          48,
          49,
          50,
          51,
          52,
          53,
          54,
          55,
          56,
          57,
          58,
          59,
          60,
          61,
          62,
          63,
          64,
          65,
          66,
          67,
          68,
          69,
          70,
          71,
          72,
          73,
          74,
          75,
          76,
          77,
          78,
          79,
          80,
          81,
          82,
          83,
          84,
          85,
          86,
          87,
          88,
          89,
          90,
          91,
          92,
          93,
          94,
          95,
          96,
          97,
          98,
          99
         ],
         "y": [
          0.5949820746732443,
          0.31840795752184353,
          0.02307691837988261,
          0.24913494363716915,
          0.036630032341773505,
          0.5819672089885113,
          0.4608294895410818,
          0.999999995,
          0.6527777732880016,
          0.6028368750867663,
          0.6978417220537239,
          0.999999995,
          0.08029196660877,
          0.12244897514739245,
          0.5407407362718794,
          0.999999995,
          0.6737588607575072,
          0.7067669127013964,
          0.2580645138813736,
          0.23357663794954453,
          0,
          0.2699999976645,
          0.4545454501793504,
          0.06293705841043605,
          0.0492957702432557,
          0.999999995,
          0.65232974468365,
          0.4296296254002744,
          0.6120996397239145,
          0.05755395258915201,
          0.6007067094432444,
          0.5435540025164807,
          0.6411149782223895,
          0.1793103403307968,
          0.5957446766681757,
          0.3374999971945313,
          0.06896551299012078,
          0.7667984142261246,
          0.5096525053830444,
          0.49134947650914146,
          0.45112781540392344,
          0.04424778280014149,
          0.5568627410798924,
          0.03436425684439303,
          0.24644549546955377,
          0.0680272064399096,
          0.05185184748395099,
          0.6759581836783257,
          0.1843971586298477,
          0.6549295730601568,
          0.2310756928975731,
          0.5972222178995468,
          0.2384615337103551,
          0.10526315335573459,
          0.09266408820262093,
          0.6548042660341181,
          0.5089605690564099,
          0.6571428527306123,
          0.04240282239508594,
          0.7914893569021276,
          0.14134275163480642,
          0.4651162745678305,
          0.6879432578763645,
          0.04395603944075507,
          0.05323193463777165,
          0.15272726825097535,
          0.028368789858408232,
          0.525951552633709,
          0.6258992762486414,
          0.5793650752497481,
          0.4169884131530538,
          0.999999995,
          0.07258064045395451,
          0.03984063299693706,
          0.6736842060360728,
          0.2762430915417723,
          0.6044776077224884,
          0.2613636340915548,
          0.20973782343082395,
          0.2307692287278107,
          0.25433525789568645,
          0.4452830144575294,
          0.23487544043565814,
          0.5318352016799227,
          0.3940520404610218,
          0.6051660474399858,
          0.6130268156721129,
          0.576642331662582,
          0.12587412139151075,
          0.04778156551386779,
          0.5567765526332032,
          0.06338027723789953,
          0.999999995,
          0.4841269799143362,
          0.16606497761420075,
          0.24675324459015013,
          0.08450703767035335,
          0.5244755199929093,
          0.18881118430632315,
          0.07168458357677854
         ]
        }
       ],
       "layout": {
        "template": {
         "data": {
          "bar": [
           {
            "error_x": {
             "color": "#2a3f5f"
            },
            "error_y": {
             "color": "#2a3f5f"
            },
            "marker": {
             "line": {
              "color": "#E5ECF6",
              "width": 0.5
             },
             "pattern": {
              "fillmode": "overlay",
              "size": 10,
              "solidity": 0.2
             }
            },
            "type": "bar"
           }
          ],
          "barpolar": [
           {
            "marker": {
             "line": {
              "color": "#E5ECF6",
              "width": 0.5
             },
             "pattern": {
              "fillmode": "overlay",
              "size": 10,
              "solidity": 0.2
             }
            },
            "type": "barpolar"
           }
          ],
          "carpet": [
           {
            "aaxis": {
             "endlinecolor": "#2a3f5f",
             "gridcolor": "white",
             "linecolor": "white",
             "minorgridcolor": "white",
             "startlinecolor": "#2a3f5f"
            },
            "baxis": {
             "endlinecolor": "#2a3f5f",
             "gridcolor": "white",
             "linecolor": "white",
             "minorgridcolor": "white",
             "startlinecolor": "#2a3f5f"
            },
            "type": "carpet"
           }
          ],
          "choropleth": [
           {
            "colorbar": {
             "outlinewidth": 0,
             "ticks": ""
            },
            "type": "choropleth"
           }
          ],
          "contour": [
           {
            "colorbar": {
             "outlinewidth": 0,
             "ticks": ""
            },
            "colorscale": [
             [
              0,
              "#0d0887"
             ],
             [
              0.1111111111111111,
              "#46039f"
             ],
             [
              0.2222222222222222,
              "#7201a8"
             ],
             [
              0.3333333333333333,
              "#9c179e"
             ],
             [
              0.4444444444444444,
              "#bd3786"
             ],
             [
              0.5555555555555556,
              "#d8576b"
             ],
             [
              0.6666666666666666,
              "#ed7953"
             ],
             [
              0.7777777777777778,
              "#fb9f3a"
             ],
             [
              0.8888888888888888,
              "#fdca26"
             ],
             [
              1,
              "#f0f921"
             ]
            ],
            "type": "contour"
           }
          ],
          "contourcarpet": [
           {
            "colorbar": {
             "outlinewidth": 0,
             "ticks": ""
            },
            "type": "contourcarpet"
           }
          ],
          "heatmap": [
           {
            "colorbar": {
             "outlinewidth": 0,
             "ticks": ""
            },
            "colorscale": [
             [
              0,
              "#0d0887"
             ],
             [
              0.1111111111111111,
              "#46039f"
             ],
             [
              0.2222222222222222,
              "#7201a8"
             ],
             [
              0.3333333333333333,
              "#9c179e"
             ],
             [
              0.4444444444444444,
              "#bd3786"
             ],
             [
              0.5555555555555556,
              "#d8576b"
             ],
             [
              0.6666666666666666,
              "#ed7953"
             ],
             [
              0.7777777777777778,
              "#fb9f3a"
             ],
             [
              0.8888888888888888,
              "#fdca26"
             ],
             [
              1,
              "#f0f921"
             ]
            ],
            "type": "heatmap"
           }
          ],
          "heatmapgl": [
           {
            "colorbar": {
             "outlinewidth": 0,
             "ticks": ""
            },
            "colorscale": [
             [
              0,
              "#0d0887"
             ],
             [
              0.1111111111111111,
              "#46039f"
             ],
             [
              0.2222222222222222,
              "#7201a8"
             ],
             [
              0.3333333333333333,
              "#9c179e"
             ],
             [
              0.4444444444444444,
              "#bd3786"
             ],
             [
              0.5555555555555556,
              "#d8576b"
             ],
             [
              0.6666666666666666,
              "#ed7953"
             ],
             [
              0.7777777777777778,
              "#fb9f3a"
             ],
             [
              0.8888888888888888,
              "#fdca26"
             ],
             [
              1,
              "#f0f921"
             ]
            ],
            "type": "heatmapgl"
           }
          ],
          "histogram": [
           {
            "marker": {
             "pattern": {
              "fillmode": "overlay",
              "size": 10,
              "solidity": 0.2
             }
            },
            "type": "histogram"
           }
          ],
          "histogram2d": [
           {
            "colorbar": {
             "outlinewidth": 0,
             "ticks": ""
            },
            "colorscale": [
             [
              0,
              "#0d0887"
             ],
             [
              0.1111111111111111,
              "#46039f"
             ],
             [
              0.2222222222222222,
              "#7201a8"
             ],
             [
              0.3333333333333333,
              "#9c179e"
             ],
             [
              0.4444444444444444,
              "#bd3786"
             ],
             [
              0.5555555555555556,
              "#d8576b"
             ],
             [
              0.6666666666666666,
              "#ed7953"
             ],
             [
              0.7777777777777778,
              "#fb9f3a"
             ],
             [
              0.8888888888888888,
              "#fdca26"
             ],
             [
              1,
              "#f0f921"
             ]
            ],
            "type": "histogram2d"
           }
          ],
          "histogram2dcontour": [
           {
            "colorbar": {
             "outlinewidth": 0,
             "ticks": ""
            },
            "colorscale": [
             [
              0,
              "#0d0887"
             ],
             [
              0.1111111111111111,
              "#46039f"
             ],
             [
              0.2222222222222222,
              "#7201a8"
             ],
             [
              0.3333333333333333,
              "#9c179e"
             ],
             [
              0.4444444444444444,
              "#bd3786"
             ],
             [
              0.5555555555555556,
              "#d8576b"
             ],
             [
              0.6666666666666666,
              "#ed7953"
             ],
             [
              0.7777777777777778,
              "#fb9f3a"
             ],
             [
              0.8888888888888888,
              "#fdca26"
             ],
             [
              1,
              "#f0f921"
             ]
            ],
            "type": "histogram2dcontour"
           }
          ],
          "mesh3d": [
           {
            "colorbar": {
             "outlinewidth": 0,
             "ticks": ""
            },
            "type": "mesh3d"
           }
          ],
          "parcoords": [
           {
            "line": {
             "colorbar": {
              "outlinewidth": 0,
              "ticks": ""
             }
            },
            "type": "parcoords"
           }
          ],
          "pie": [
           {
            "automargin": true,
            "type": "pie"
           }
          ],
          "scatter": [
           {
            "fillpattern": {
             "fillmode": "overlay",
             "size": 10,
             "solidity": 0.2
            },
            "type": "scatter"
           }
          ],
          "scatter3d": [
           {
            "line": {
             "colorbar": {
              "outlinewidth": 0,
              "ticks": ""
             }
            },
            "marker": {
             "colorbar": {
              "outlinewidth": 0,
              "ticks": ""
             }
            },
            "type": "scatter3d"
           }
          ],
          "scattercarpet": [
           {
            "marker": {
             "colorbar": {
              "outlinewidth": 0,
              "ticks": ""
             }
            },
            "type": "scattercarpet"
           }
          ],
          "scattergeo": [
           {
            "marker": {
             "colorbar": {
              "outlinewidth": 0,
              "ticks": ""
             }
            },
            "type": "scattergeo"
           }
          ],
          "scattergl": [
           {
            "marker": {
             "colorbar": {
              "outlinewidth": 0,
              "ticks": ""
             }
            },
            "type": "scattergl"
           }
          ],
          "scattermapbox": [
           {
            "marker": {
             "colorbar": {
              "outlinewidth": 0,
              "ticks": ""
             }
            },
            "type": "scattermapbox"
           }
          ],
          "scatterpolar": [
           {
            "marker": {
             "colorbar": {
              "outlinewidth": 0,
              "ticks": ""
             }
            },
            "type": "scatterpolar"
           }
          ],
          "scatterpolargl": [
           {
            "marker": {
             "colorbar": {
              "outlinewidth": 0,
              "ticks": ""
             }
            },
            "type": "scatterpolargl"
           }
          ],
          "scatterternary": [
           {
            "marker": {
             "colorbar": {
              "outlinewidth": 0,
              "ticks": ""
             }
            },
            "type": "scatterternary"
           }
          ],
          "surface": [
           {
            "colorbar": {
             "outlinewidth": 0,
             "ticks": ""
            },
            "colorscale": [
             [
              0,
              "#0d0887"
             ],
             [
              0.1111111111111111,
              "#46039f"
             ],
             [
              0.2222222222222222,
              "#7201a8"
             ],
             [
              0.3333333333333333,
              "#9c179e"
             ],
             [
              0.4444444444444444,
              "#bd3786"
             ],
             [
              0.5555555555555556,
              "#d8576b"
             ],
             [
              0.6666666666666666,
              "#ed7953"
             ],
             [
              0.7777777777777778,
              "#fb9f3a"
             ],
             [
              0.8888888888888888,
              "#fdca26"
             ],
             [
              1,
              "#f0f921"
             ]
            ],
            "type": "surface"
           }
          ],
          "table": [
           {
            "cells": {
             "fill": {
              "color": "#EBF0F8"
             },
             "line": {
              "color": "white"
             }
            },
            "header": {
             "fill": {
              "color": "#C8D4E3"
             },
             "line": {
              "color": "white"
             }
            },
            "type": "table"
           }
          ]
         },
         "layout": {
          "annotationdefaults": {
           "arrowcolor": "#2a3f5f",
           "arrowhead": 0,
           "arrowwidth": 1
          },
          "autotypenumbers": "strict",
          "coloraxis": {
           "colorbar": {
            "outlinewidth": 0,
            "ticks": ""
           }
          },
          "colorscale": {
           "diverging": [
            [
             0,
             "#8e0152"
            ],
            [
             0.1,
             "#c51b7d"
            ],
            [
             0.2,
             "#de77ae"
            ],
            [
             0.3,
             "#f1b6da"
            ],
            [
             0.4,
             "#fde0ef"
            ],
            [
             0.5,
             "#f7f7f7"
            ],
            [
             0.6,
             "#e6f5d0"
            ],
            [
             0.7,
             "#b8e186"
            ],
            [
             0.8,
             "#7fbc41"
            ],
            [
             0.9,
             "#4d9221"
            ],
            [
             1,
             "#276419"
            ]
           ],
           "sequential": [
            [
             0,
             "#0d0887"
            ],
            [
             0.1111111111111111,
             "#46039f"
            ],
            [
             0.2222222222222222,
             "#7201a8"
            ],
            [
             0.3333333333333333,
             "#9c179e"
            ],
            [
             0.4444444444444444,
             "#bd3786"
            ],
            [
             0.5555555555555556,
             "#d8576b"
            ],
            [
             0.6666666666666666,
             "#ed7953"
            ],
            [
             0.7777777777777778,
             "#fb9f3a"
            ],
            [
             0.8888888888888888,
             "#fdca26"
            ],
            [
             1,
             "#f0f921"
            ]
           ],
           "sequentialminus": [
            [
             0,
             "#0d0887"
            ],
            [
             0.1111111111111111,
             "#46039f"
            ],
            [
             0.2222222222222222,
             "#7201a8"
            ],
            [
             0.3333333333333333,
             "#9c179e"
            ],
            [
             0.4444444444444444,
             "#bd3786"
            ],
            [
             0.5555555555555556,
             "#d8576b"
            ],
            [
             0.6666666666666666,
             "#ed7953"
            ],
            [
             0.7777777777777778,
             "#fb9f3a"
            ],
            [
             0.8888888888888888,
             "#fdca26"
            ],
            [
             1,
             "#f0f921"
            ]
           ]
          },
          "colorway": [
           "#636efa",
           "#EF553B",
           "#00cc96",
           "#ab63fa",
           "#FFA15A",
           "#19d3f3",
           "#FF6692",
           "#B6E880",
           "#FF97FF",
           "#FECB52"
          ],
          "font": {
           "color": "#2a3f5f"
          },
          "geo": {
           "bgcolor": "white",
           "lakecolor": "white",
           "landcolor": "#E5ECF6",
           "showlakes": true,
           "showland": true,
           "subunitcolor": "white"
          },
          "hoverlabel": {
           "align": "left"
          },
          "hovermode": "closest",
          "mapbox": {
           "style": "light"
          },
          "paper_bgcolor": "white",
          "plot_bgcolor": "#E5ECF6",
          "polar": {
           "angularaxis": {
            "gridcolor": "white",
            "linecolor": "white",
            "ticks": ""
           },
           "bgcolor": "#E5ECF6",
           "radialaxis": {
            "gridcolor": "white",
            "linecolor": "white",
            "ticks": ""
           }
          },
          "scene": {
           "xaxis": {
            "backgroundcolor": "#E5ECF6",
            "gridcolor": "white",
            "gridwidth": 2,
            "linecolor": "white",
            "showbackground": true,
            "ticks": "",
            "zerolinecolor": "white"
           },
           "yaxis": {
            "backgroundcolor": "#E5ECF6",
            "gridcolor": "white",
            "gridwidth": 2,
            "linecolor": "white",
            "showbackground": true,
            "ticks": "",
            "zerolinecolor": "white"
           },
           "zaxis": {
            "backgroundcolor": "#E5ECF6",
            "gridcolor": "white",
            "gridwidth": 2,
            "linecolor": "white",
            "showbackground": true,
            "ticks": "",
            "zerolinecolor": "white"
           }
          },
          "shapedefaults": {
           "line": {
            "color": "#2a3f5f"
           }
          },
          "ternary": {
           "aaxis": {
            "gridcolor": "white",
            "linecolor": "white",
            "ticks": ""
           },
           "baxis": {
            "gridcolor": "white",
            "linecolor": "white",
            "ticks": ""
           },
           "bgcolor": "#E5ECF6",
           "caxis": {
            "gridcolor": "white",
            "linecolor": "white",
            "ticks": ""
           }
          },
          "title": {
           "x": 0.05
          },
          "xaxis": {
           "automargin": true,
           "gridcolor": "white",
           "linecolor": "white",
           "ticks": "",
           "title": {
            "standoff": 15
           },
           "zerolinecolor": "white",
           "zerolinewidth": 2
          },
          "yaxis": {
           "automargin": true,
           "gridcolor": "white",
           "linecolor": "white",
           "ticks": "",
           "title": {
            "standoff": 15
           },
           "zerolinecolor": "white",
           "zerolinewidth": 2
          }
         }
        },
        "title": {
         "text": "ROUGE Scores for Each Row"
        },
        "xaxis": {
         "title": {
          "text": "Row Index"
         }
        },
        "yaxis": {
         "title": {
          "text": "Score"
         }
        }
       }
      }
     },
     "metadata": {},
     "output_type": "display_data"
    }
   ],
   "source": [
    "metric = \"rouge-2\"\n",
    "df_scores = calculate_rouge_scores(\n",
    "    df_all_summaries, \n",
    "    ref_column=\"reference_summary\", \n",
    "    gen_column=\"summary_1\", \n",
    "    metric=metric)\n",
    "visualize_rouge_scores(df_scores)"
   ]
  },
  {
   "attachments": {},
   "cell_type": "markdown",
   "metadata": {},
   "source": []
  },
  {
   "attachments": {},
   "cell_type": "markdown",
   "metadata": {},
   "source": []
  },
  {
   "attachments": {},
   "cell_type": "markdown",
   "metadata": {},
   "source": []
  },
  {
   "attachments": {},
   "cell_type": "markdown",
   "metadata": {},
   "source": []
  },
  {
   "attachments": {},
   "cell_type": "markdown",
   "metadata": {},
   "source": [
    "## 2. Abstract Summarization: Hugging Face-T5 Model"
   ]
  },
  {
   "cell_type": "code",
   "execution_count": null,
   "metadata": {},
   "outputs": [],
   "source": [
    "\n"
   ]
  }
 ],
 "metadata": {
  "kernelspec": {
   "display_name": "dev-framework",
   "language": "python",
   "name": "dev-framework"
  },
  "language_info": {
   "codemirror_mode": {
    "name": "ipython",
    "version": 3
   },
   "file_extension": ".py",
   "mimetype": "text/x-python",
   "name": "python",
   "nbconvert_exporter": "python",
   "pygments_lexer": "ipython3",
   "version": "3.10.13"
  },
  "orig_nbformat": 4
 },
 "nbformat": 4,
 "nbformat_minor": 2
}
