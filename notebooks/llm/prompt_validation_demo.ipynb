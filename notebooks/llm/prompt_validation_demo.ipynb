{
 "cells": [
  {
   "cell_type": "markdown",
   "metadata": {},
   "source": [
    "# Native Dev Framework Support for Foundation Models\n",
    "\n",
    "## Before you begin\n",
    "\n",
    "To use the ValidMind Developer Framework with a Jupyter notebook, you need to install and initialize the client library first, along with getting your Python environment ready.\n",
    "\n",
    "If you don't already have one, you should also [create a documentation project](https://docs.validmind.ai/guide/create-your-first-documentation-project.html) on the ValidMind platform. You will use this project to upload your documentation and test results.\n",
    "\n",
    "## Install the client library"
   ]
  },
  {
   "cell_type": "code",
   "execution_count": 3,
   "metadata": {},
   "outputs": [
    {
     "name": "stdout",
     "output_type": "stream",
     "text": [
      "Requirement already satisfied: validmind in /Users/jwalz/Library/Caches/pypoetry/virtualenvs/validmind-mI3jzOkk-py3.9/lib/python3.9/site-packages (1.18.1)\n",
      "Requirement already satisfied: aiohttp[speedups]<4.0.0,>=3.8.4 in /Users/jwalz/Library/Caches/pypoetry/virtualenvs/validmind-mI3jzOkk-py3.9/lib/python3.9/site-packages (from validmind) (3.8.5)\n",
      "Requirement already satisfied: arch<6.0.0,>=5.4.0 in /Users/jwalz/Library/Caches/pypoetry/virtualenvs/validmind-mI3jzOkk-py3.9/lib/python3.9/site-packages (from validmind) (5.6.0)\n",
      "Requirement already satisfied: catboost<2.0,>=1.2 in /Users/jwalz/Library/Caches/pypoetry/virtualenvs/validmind-mI3jzOkk-py3.9/lib/python3.9/site-packages (from validmind) (1.2.1)\n",
      "Requirement already satisfied: click<9.0.0,>=8.0.4 in /Users/jwalz/Library/Caches/pypoetry/virtualenvs/validmind-mI3jzOkk-py3.9/lib/python3.9/site-packages (from validmind) (8.1.7)\n",
      "Requirement already satisfied: dython<0.8.0,>=0.7.1 in /Users/jwalz/Library/Caches/pypoetry/virtualenvs/validmind-mI3jzOkk-py3.9/lib/python3.9/site-packages (from validmind) (0.7.2)\n",
      "Requirement already satisfied: ipython==7.34.0 in /Users/jwalz/Library/Caches/pypoetry/virtualenvs/validmind-mI3jzOkk-py3.9/lib/python3.9/site-packages (from validmind) (7.34.0)\n",
      "Requirement already satisfied: ipywidgets<9.0.0,>=8.0.6 in /Users/jwalz/Library/Caches/pypoetry/virtualenvs/validmind-mI3jzOkk-py3.9/lib/python3.9/site-packages (from validmind) (8.1.0)\n",
      "Requirement already satisfied: langdetect<2.0.0,>=1.0.9 in /Users/jwalz/Library/Caches/pypoetry/virtualenvs/validmind-mI3jzOkk-py3.9/lib/python3.9/site-packages (from validmind) (1.0.9)\n",
      "Requirement already satisfied: markdown<4.0.0,>=3.4.3 in /Users/jwalz/Library/Caches/pypoetry/virtualenvs/validmind-mI3jzOkk-py3.9/lib/python3.9/site-packages (from validmind) (3.4.4)\n",
      "Requirement already satisfied: nltk<4.0.0,>=3.8.1 in /Users/jwalz/Library/Caches/pypoetry/virtualenvs/validmind-mI3jzOkk-py3.9/lib/python3.9/site-packages (from validmind) (3.8.1)\n",
      "Requirement already satisfied: numpy==1.22.3 in /Users/jwalz/Library/Caches/pypoetry/virtualenvs/validmind-mI3jzOkk-py3.9/lib/python3.9/site-packages (from validmind) (1.22.3)\n",
      "Requirement already satisfied: pandas==1.5.3 in /Users/jwalz/Library/Caches/pypoetry/virtualenvs/validmind-mI3jzOkk-py3.9/lib/python3.9/site-packages (from validmind) (1.5.3)\n",
      "Requirement already satisfied: pandas-profiling<4.0.0,>=3.6.6 in /Users/jwalz/Library/Caches/pypoetry/virtualenvs/validmind-mI3jzOkk-py3.9/lib/python3.9/site-packages (from validmind) (3.6.6)\n",
      "Requirement already satisfied: pdoc<14.0.0,>=13.1.1 in /Users/jwalz/Library/Caches/pypoetry/virtualenvs/validmind-mI3jzOkk-py3.9/lib/python3.9/site-packages (from validmind) (13.1.1)\n",
      "Requirement already satisfied: plotly<6.0.0,>=5.14.1 in /Users/jwalz/Library/Caches/pypoetry/virtualenvs/validmind-mI3jzOkk-py3.9/lib/python3.9/site-packages (from validmind) (5.16.1)\n",
      "Requirement already satisfied: plotly-express<0.5.0,>=0.4.1 in /Users/jwalz/Library/Caches/pypoetry/virtualenvs/validmind-mI3jzOkk-py3.9/lib/python3.9/site-packages (from validmind) (0.4.1)\n",
      "Requirement already satisfied: pydantic<2.0.0,>=1.9.1 in /Users/jwalz/Library/Caches/pypoetry/virtualenvs/validmind-mI3jzOkk-py3.9/lib/python3.9/site-packages (from validmind) (1.10.12)\n",
      "Requirement already satisfied: pypmml<0.10.0,>=0.9.17 in /Users/jwalz/Library/Caches/pypoetry/virtualenvs/validmind-mI3jzOkk-py3.9/lib/python3.9/site-packages (from validmind) (0.9.17)\n",
      "Requirement already satisfied: python-dotenv<0.21.0,>=0.20.0 in /Users/jwalz/Library/Caches/pypoetry/virtualenvs/validmind-mI3jzOkk-py3.9/lib/python3.9/site-packages (from validmind) (0.20.0)\n",
      "Requirement already satisfied: requests<3.0.0,>=2.27.1 in /Users/jwalz/Library/Caches/pypoetry/virtualenvs/validmind-mI3jzOkk-py3.9/lib/python3.9/site-packages (from validmind) (2.31.0)\n",
      "Requirement already satisfied: rouge<2.0.0,>=1.0.1 in /Users/jwalz/Library/Caches/pypoetry/virtualenvs/validmind-mI3jzOkk-py3.9/lib/python3.9/site-packages (from validmind) (1.0.1)\n",
      "Requirement already satisfied: scikit-learn<2.0.0,>=1.0.2 in /Users/jwalz/Library/Caches/pypoetry/virtualenvs/validmind-mI3jzOkk-py3.9/lib/python3.9/site-packages (from validmind) (1.3.0)\n",
      "Requirement already satisfied: scorecardpy<0.2.0.0,>=0.1.9.6 in /Users/jwalz/Library/Caches/pypoetry/virtualenvs/validmind-mI3jzOkk-py3.9/lib/python3.9/site-packages (from validmind) (0.1.9.7)\n",
      "Requirement already satisfied: seaborn<0.12.0,>=0.11.2 in /Users/jwalz/Library/Caches/pypoetry/virtualenvs/validmind-mI3jzOkk-py3.9/lib/python3.9/site-packages (from validmind) (0.11.2)\n",
      "Requirement already satisfied: sentencepiece<0.2.0,>=0.1.99 in /Users/jwalz/Library/Caches/pypoetry/virtualenvs/validmind-mI3jzOkk-py3.9/lib/python3.9/site-packages (from validmind) (0.1.99)\n",
      "Requirement already satisfied: sentry-sdk<2.0.0,>=1.24.0 in /Users/jwalz/Library/Caches/pypoetry/virtualenvs/validmind-mI3jzOkk-py3.9/lib/python3.9/site-packages (from validmind) (1.30.0)\n",
      "Requirement already satisfied: shap<0.42.0,>=0.41.0 in /Users/jwalz/Library/Caches/pypoetry/virtualenvs/validmind-mI3jzOkk-py3.9/lib/python3.9/site-packages (from validmind) (0.41.0)\n",
      "Requirement already satisfied: statsmodels<0.14.0,>=0.13.5 in /Users/jwalz/Library/Caches/pypoetry/virtualenvs/validmind-mI3jzOkk-py3.9/lib/python3.9/site-packages (from validmind) (0.13.5)\n",
      "Requirement already satisfied: tabulate<0.9.0,>=0.8.9 in /Users/jwalz/Library/Caches/pypoetry/virtualenvs/validmind-mI3jzOkk-py3.9/lib/python3.9/site-packages (from validmind) (0.8.10)\n",
      "Requirement already satisfied: textstat<0.8.0,>=0.7.3 in /Users/jwalz/Library/Caches/pypoetry/virtualenvs/validmind-mI3jzOkk-py3.9/lib/python3.9/site-packages (from validmind) (0.7.3)\n",
      "Requirement already satisfied: tqdm<5.0.0,>=4.64.0 in /Users/jwalz/Library/Caches/pypoetry/virtualenvs/validmind-mI3jzOkk-py3.9/lib/python3.9/site-packages (from validmind) (4.66.1)\n",
      "Requirement already satisfied: wget<4.0,>=3.2 in /Users/jwalz/Library/Caches/pypoetry/virtualenvs/validmind-mI3jzOkk-py3.9/lib/python3.9/site-packages (from validmind) (3.2)\n",
      "Requirement already satisfied: xgboost<2.0.0,>=1.5.2 in /Users/jwalz/Library/Caches/pypoetry/virtualenvs/validmind-mI3jzOkk-py3.9/lib/python3.9/site-packages (from validmind) (1.7.6)\n",
      "Requirement already satisfied: setuptools>=18.5 in /Users/jwalz/Library/Caches/pypoetry/virtualenvs/validmind-mI3jzOkk-py3.9/lib/python3.9/site-packages (from ipython==7.34.0->validmind) (68.1.2)\n",
      "Requirement already satisfied: jedi>=0.16 in /Users/jwalz/Library/Caches/pypoetry/virtualenvs/validmind-mI3jzOkk-py3.9/lib/python3.9/site-packages (from ipython==7.34.0->validmind) (0.19.0)\n",
      "Requirement already satisfied: decorator in /Users/jwalz/Library/Caches/pypoetry/virtualenvs/validmind-mI3jzOkk-py3.9/lib/python3.9/site-packages (from ipython==7.34.0->validmind) (5.1.1)\n",
      "Requirement already satisfied: pickleshare in /Users/jwalz/Library/Caches/pypoetry/virtualenvs/validmind-mI3jzOkk-py3.9/lib/python3.9/site-packages (from ipython==7.34.0->validmind) (0.7.5)\n",
      "Requirement already satisfied: traitlets>=4.2 in /Users/jwalz/Library/Caches/pypoetry/virtualenvs/validmind-mI3jzOkk-py3.9/lib/python3.9/site-packages (from ipython==7.34.0->validmind) (5.9.0)\n",
      "Requirement already satisfied: prompt-toolkit!=3.0.0,!=3.0.1,<3.1.0,>=2.0.0 in /Users/jwalz/Library/Caches/pypoetry/virtualenvs/validmind-mI3jzOkk-py3.9/lib/python3.9/site-packages (from ipython==7.34.0->validmind) (3.0.39)\n",
      "Requirement already satisfied: pygments in /Users/jwalz/Library/Caches/pypoetry/virtualenvs/validmind-mI3jzOkk-py3.9/lib/python3.9/site-packages (from ipython==7.34.0->validmind) (2.16.1)\n",
      "Requirement already satisfied: backcall in /Users/jwalz/Library/Caches/pypoetry/virtualenvs/validmind-mI3jzOkk-py3.9/lib/python3.9/site-packages (from ipython==7.34.0->validmind) (0.2.0)\n",
      "Requirement already satisfied: matplotlib-inline in /Users/jwalz/Library/Caches/pypoetry/virtualenvs/validmind-mI3jzOkk-py3.9/lib/python3.9/site-packages (from ipython==7.34.0->validmind) (0.1.6)\n",
      "Requirement already satisfied: pexpect>4.3 in /Users/jwalz/Library/Caches/pypoetry/virtualenvs/validmind-mI3jzOkk-py3.9/lib/python3.9/site-packages (from ipython==7.34.0->validmind) (4.8.0)\n",
      "Requirement already satisfied: appnope in /Users/jwalz/Library/Caches/pypoetry/virtualenvs/validmind-mI3jzOkk-py3.9/lib/python3.9/site-packages (from ipython==7.34.0->validmind) (0.1.3)\n",
      "Requirement already satisfied: python-dateutil>=2.8.1 in /Users/jwalz/Library/Caches/pypoetry/virtualenvs/validmind-mI3jzOkk-py3.9/lib/python3.9/site-packages (from pandas==1.5.3->validmind) (2.8.2)\n",
      "Requirement already satisfied: pytz>=2020.1 in /Users/jwalz/Library/Caches/pypoetry/virtualenvs/validmind-mI3jzOkk-py3.9/lib/python3.9/site-packages (from pandas==1.5.3->validmind) (2023.3)\n",
      "Requirement already satisfied: attrs>=17.3.0 in /Users/jwalz/Library/Caches/pypoetry/virtualenvs/validmind-mI3jzOkk-py3.9/lib/python3.9/site-packages (from aiohttp[speedups]<4.0.0,>=3.8.4->validmind) (23.1.0)\n",
      "Requirement already satisfied: charset-normalizer<4.0,>=2.0 in /Users/jwalz/Library/Caches/pypoetry/virtualenvs/validmind-mI3jzOkk-py3.9/lib/python3.9/site-packages (from aiohttp[speedups]<4.0.0,>=3.8.4->validmind) (3.2.0)\n",
      "Requirement already satisfied: multidict<7.0,>=4.5 in /Users/jwalz/Library/Caches/pypoetry/virtualenvs/validmind-mI3jzOkk-py3.9/lib/python3.9/site-packages (from aiohttp[speedups]<4.0.0,>=3.8.4->validmind) (6.0.4)\n",
      "Requirement already satisfied: async-timeout<5.0,>=4.0.0a3 in /Users/jwalz/Library/Caches/pypoetry/virtualenvs/validmind-mI3jzOkk-py3.9/lib/python3.9/site-packages (from aiohttp[speedups]<4.0.0,>=3.8.4->validmind) (4.0.3)\n",
      "Requirement already satisfied: yarl<2.0,>=1.0 in /Users/jwalz/Library/Caches/pypoetry/virtualenvs/validmind-mI3jzOkk-py3.9/lib/python3.9/site-packages (from aiohttp[speedups]<4.0.0,>=3.8.4->validmind) (1.9.2)\n",
      "Requirement already satisfied: frozenlist>=1.1.1 in /Users/jwalz/Library/Caches/pypoetry/virtualenvs/validmind-mI3jzOkk-py3.9/lib/python3.9/site-packages (from aiohttp[speedups]<4.0.0,>=3.8.4->validmind) (1.4.0)\n",
      "Requirement already satisfied: aiosignal>=1.1.2 in /Users/jwalz/Library/Caches/pypoetry/virtualenvs/validmind-mI3jzOkk-py3.9/lib/python3.9/site-packages (from aiohttp[speedups]<4.0.0,>=3.8.4->validmind) (1.3.1)\n",
      "Requirement already satisfied: aiodns in /Users/jwalz/Library/Caches/pypoetry/virtualenvs/validmind-mI3jzOkk-py3.9/lib/python3.9/site-packages (from aiohttp[speedups]<4.0.0,>=3.8.4->validmind) (3.0.0)\n",
      "Requirement already satisfied: Brotli in /Users/jwalz/Library/Caches/pypoetry/virtualenvs/validmind-mI3jzOkk-py3.9/lib/python3.9/site-packages (from aiohttp[speedups]<4.0.0,>=3.8.4->validmind) (1.0.9)\n",
      "Requirement already satisfied: cchardet in /Users/jwalz/Library/Caches/pypoetry/virtualenvs/validmind-mI3jzOkk-py3.9/lib/python3.9/site-packages (from aiohttp[speedups]<4.0.0,>=3.8.4->validmind) (2.1.7)\n",
      "Requirement already satisfied: scipy>=1.3 in /Users/jwalz/Library/Caches/pypoetry/virtualenvs/validmind-mI3jzOkk-py3.9/lib/python3.9/site-packages (from arch<6.0.0,>=5.4.0->validmind) (1.10.1)\n",
      "Requirement already satisfied: property-cached>=1.6.4 in /Users/jwalz/Library/Caches/pypoetry/virtualenvs/validmind-mI3jzOkk-py3.9/lib/python3.9/site-packages (from arch<6.0.0,>=5.4.0->validmind) (1.6.4)\n",
      "Requirement already satisfied: graphviz in /Users/jwalz/Library/Caches/pypoetry/virtualenvs/validmind-mI3jzOkk-py3.9/lib/python3.9/site-packages (from catboost<2.0,>=1.2->validmind) (0.20.1)\n",
      "Requirement already satisfied: matplotlib in /Users/jwalz/Library/Caches/pypoetry/virtualenvs/validmind-mI3jzOkk-py3.9/lib/python3.9/site-packages (from catboost<2.0,>=1.2->validmind) (3.7.2)\n",
      "Requirement already satisfied: six in /Users/jwalz/Library/Caches/pypoetry/virtualenvs/validmind-mI3jzOkk-py3.9/lib/python3.9/site-packages (from catboost<2.0,>=1.2->validmind) (1.16.0)\n",
      "Requirement already satisfied: scikit-plot>=0.3.7 in /Users/jwalz/Library/Caches/pypoetry/virtualenvs/validmind-mI3jzOkk-py3.9/lib/python3.9/site-packages (from dython<0.8.0,>=0.7.1->validmind) (0.3.7)\n",
      "Requirement already satisfied: psutil>=5.9.1 in /Users/jwalz/Library/Caches/pypoetry/virtualenvs/validmind-mI3jzOkk-py3.9/lib/python3.9/site-packages (from dython<0.8.0,>=0.7.1->validmind) (5.9.5)\n",
      "Requirement already satisfied: comm>=0.1.3 in /Users/jwalz/Library/Caches/pypoetry/virtualenvs/validmind-mI3jzOkk-py3.9/lib/python3.9/site-packages (from ipywidgets<9.0.0,>=8.0.6->validmind) (0.1.4)\n",
      "Requirement already satisfied: widgetsnbextension~=4.0.7 in /Users/jwalz/Library/Caches/pypoetry/virtualenvs/validmind-mI3jzOkk-py3.9/lib/python3.9/site-packages (from ipywidgets<9.0.0,>=8.0.6->validmind) (4.0.8)\n",
      "Requirement already satisfied: jupyterlab-widgets~=3.0.7 in /Users/jwalz/Library/Caches/pypoetry/virtualenvs/validmind-mI3jzOkk-py3.9/lib/python3.9/site-packages (from ipywidgets<9.0.0,>=8.0.6->validmind) (3.0.8)\n",
      "Requirement already satisfied: importlib-metadata>=4.4 in /Users/jwalz/Library/Caches/pypoetry/virtualenvs/validmind-mI3jzOkk-py3.9/lib/python3.9/site-packages (from markdown<4.0.0,>=3.4.3->validmind) (6.8.0)\n",
      "Requirement already satisfied: joblib in /Users/jwalz/Library/Caches/pypoetry/virtualenvs/validmind-mI3jzOkk-py3.9/lib/python3.9/site-packages (from nltk<4.0.0,>=3.8.1->validmind) (1.3.2)\n",
      "Requirement already satisfied: regex>=2021.8.3 in /Users/jwalz/Library/Caches/pypoetry/virtualenvs/validmind-mI3jzOkk-py3.9/lib/python3.9/site-packages (from nltk<4.0.0,>=3.8.1->validmind) (2023.8.8)\n",
      "Requirement already satisfied: ydata-profiling in /Users/jwalz/Library/Caches/pypoetry/virtualenvs/validmind-mI3jzOkk-py3.9/lib/python3.9/site-packages (from pandas-profiling<4.0.0,>=3.6.6->validmind) (4.5.1)\n",
      "Requirement already satisfied: Jinja2>=2.11.0 in /Users/jwalz/Library/Caches/pypoetry/virtualenvs/validmind-mI3jzOkk-py3.9/lib/python3.9/site-packages (from pdoc<14.0.0,>=13.1.1->validmind) (3.1.2)\n",
      "Requirement already satisfied: MarkupSafe in /Users/jwalz/Library/Caches/pypoetry/virtualenvs/validmind-mI3jzOkk-py3.9/lib/python3.9/site-packages (from pdoc<14.0.0,>=13.1.1->validmind) (2.1.3)\n",
      "Requirement already satisfied: tenacity>=6.2.0 in /Users/jwalz/Library/Caches/pypoetry/virtualenvs/validmind-mI3jzOkk-py3.9/lib/python3.9/site-packages (from plotly<6.0.0,>=5.14.1->validmind) (8.2.3)\n",
      "Requirement already satisfied: packaging in /Users/jwalz/Library/Caches/pypoetry/virtualenvs/validmind-mI3jzOkk-py3.9/lib/python3.9/site-packages (from plotly<6.0.0,>=5.14.1->validmind) (23.1)\n",
      "Requirement already satisfied: patsy>=0.5 in /Users/jwalz/Library/Caches/pypoetry/virtualenvs/validmind-mI3jzOkk-py3.9/lib/python3.9/site-packages (from plotly-express<0.5.0,>=0.4.1->validmind) (0.5.3)\n",
      "Requirement already satisfied: typing-extensions>=4.2.0 in /Users/jwalz/Library/Caches/pypoetry/virtualenvs/validmind-mI3jzOkk-py3.9/lib/python3.9/site-packages (from pydantic<2.0.0,>=1.9.1->validmind) (4.7.1)\n",
      "Requirement already satisfied: py4j>=0.10.7 in /Users/jwalz/Library/Caches/pypoetry/virtualenvs/validmind-mI3jzOkk-py3.9/lib/python3.9/site-packages (from pypmml<0.10.0,>=0.9.17->validmind) (0.10.9.7)\n",
      "Requirement already satisfied: idna<4,>=2.5 in /Users/jwalz/Library/Caches/pypoetry/virtualenvs/validmind-mI3jzOkk-py3.9/lib/python3.9/site-packages (from requests<3.0.0,>=2.27.1->validmind) (3.4)\n",
      "Requirement already satisfied: urllib3<3,>=1.21.1 in /Users/jwalz/Library/Caches/pypoetry/virtualenvs/validmind-mI3jzOkk-py3.9/lib/python3.9/site-packages (from requests<3.0.0,>=2.27.1->validmind) (2.0.4)\n",
      "Requirement already satisfied: certifi>=2017.4.17 in /Users/jwalz/Library/Caches/pypoetry/virtualenvs/validmind-mI3jzOkk-py3.9/lib/python3.9/site-packages (from requests<3.0.0,>=2.27.1->validmind) (2023.7.22)\n",
      "Requirement already satisfied: threadpoolctl>=2.0.0 in /Users/jwalz/Library/Caches/pypoetry/virtualenvs/validmind-mI3jzOkk-py3.9/lib/python3.9/site-packages (from scikit-learn<2.0.0,>=1.0.2->validmind) (3.2.0)\n",
      "Requirement already satisfied: slicer==0.0.7 in /Users/jwalz/Library/Caches/pypoetry/virtualenvs/validmind-mI3jzOkk-py3.9/lib/python3.9/site-packages (from shap<0.42.0,>=0.41.0->validmind) (0.0.7)\n",
      "Requirement already satisfied: numba in /Users/jwalz/Library/Caches/pypoetry/virtualenvs/validmind-mI3jzOkk-py3.9/lib/python3.9/site-packages (from shap<0.42.0,>=0.41.0->validmind) (0.57.1)\n",
      "Requirement already satisfied: cloudpickle in /Users/jwalz/Library/Caches/pypoetry/virtualenvs/validmind-mI3jzOkk-py3.9/lib/python3.9/site-packages (from shap<0.42.0,>=0.41.0->validmind) (2.2.1)\n",
      "Requirement already satisfied: pyphen in /Users/jwalz/Library/Caches/pypoetry/virtualenvs/validmind-mI3jzOkk-py3.9/lib/python3.9/site-packages (from textstat<0.8.0,>=0.7.3->validmind) (0.14.0)\n",
      "Requirement already satisfied: zipp>=0.5 in /Users/jwalz/Library/Caches/pypoetry/virtualenvs/validmind-mI3jzOkk-py3.9/lib/python3.9/site-packages (from importlib-metadata>=4.4->markdown<4.0.0,>=3.4.3->validmind) (3.16.2)\n",
      "Requirement already satisfied: parso<0.9.0,>=0.8.3 in /Users/jwalz/Library/Caches/pypoetry/virtualenvs/validmind-mI3jzOkk-py3.9/lib/python3.9/site-packages (from jedi>=0.16->ipython==7.34.0->validmind) (0.8.3)\n",
      "Requirement already satisfied: contourpy>=1.0.1 in /Users/jwalz/Library/Caches/pypoetry/virtualenvs/validmind-mI3jzOkk-py3.9/lib/python3.9/site-packages (from matplotlib->catboost<2.0,>=1.2->validmind) (1.1.0)\n",
      "Requirement already satisfied: cycler>=0.10 in /Users/jwalz/Library/Caches/pypoetry/virtualenvs/validmind-mI3jzOkk-py3.9/lib/python3.9/site-packages (from matplotlib->catboost<2.0,>=1.2->validmind) (0.11.0)\n",
      "Requirement already satisfied: fonttools>=4.22.0 in /Users/jwalz/Library/Caches/pypoetry/virtualenvs/validmind-mI3jzOkk-py3.9/lib/python3.9/site-packages (from matplotlib->catboost<2.0,>=1.2->validmind) (4.42.1)\n",
      "Requirement already satisfied: kiwisolver>=1.0.1 in /Users/jwalz/Library/Caches/pypoetry/virtualenvs/validmind-mI3jzOkk-py3.9/lib/python3.9/site-packages (from matplotlib->catboost<2.0,>=1.2->validmind) (1.4.5)\n",
      "Requirement already satisfied: pillow>=6.2.0 in /Users/jwalz/Library/Caches/pypoetry/virtualenvs/validmind-mI3jzOkk-py3.9/lib/python3.9/site-packages (from matplotlib->catboost<2.0,>=1.2->validmind) (10.0.0)\n",
      "Requirement already satisfied: pyparsing<3.1,>=2.3.1 in /Users/jwalz/Library/Caches/pypoetry/virtualenvs/validmind-mI3jzOkk-py3.9/lib/python3.9/site-packages (from matplotlib->catboost<2.0,>=1.2->validmind) (3.0.9)\n",
      "Requirement already satisfied: importlib-resources>=3.2.0 in /Users/jwalz/Library/Caches/pypoetry/virtualenvs/validmind-mI3jzOkk-py3.9/lib/python3.9/site-packages (from matplotlib->catboost<2.0,>=1.2->validmind) (6.0.1)\n",
      "Requirement already satisfied: ptyprocess>=0.5 in /Users/jwalz/Library/Caches/pypoetry/virtualenvs/validmind-mI3jzOkk-py3.9/lib/python3.9/site-packages (from pexpect>4.3->ipython==7.34.0->validmind) (0.7.0)\n",
      "Requirement already satisfied: wcwidth in /Users/jwalz/Library/Caches/pypoetry/virtualenvs/validmind-mI3jzOkk-py3.9/lib/python3.9/site-packages (from prompt-toolkit!=3.0.0,!=3.0.1,<3.1.0,>=2.0.0->ipython==7.34.0->validmind) (0.2.6)\n",
      "Requirement already satisfied: pycares>=4.0.0 in /Users/jwalz/Library/Caches/pypoetry/virtualenvs/validmind-mI3jzOkk-py3.9/lib/python3.9/site-packages (from aiodns->aiohttp[speedups]<4.0.0,>=3.8.4->validmind) (4.3.0)\n",
      "Requirement already satisfied: llvmlite<0.41,>=0.40.0dev0 in /Users/jwalz/Library/Caches/pypoetry/virtualenvs/validmind-mI3jzOkk-py3.9/lib/python3.9/site-packages (from numba->shap<0.42.0,>=0.41.0->validmind) (0.40.1)\n",
      "Requirement already satisfied: PyYAML<6.1,>=5.0.0 in /Users/jwalz/Library/Caches/pypoetry/virtualenvs/validmind-mI3jzOkk-py3.9/lib/python3.9/site-packages (from ydata-profiling->pandas-profiling<4.0.0,>=3.6.6->validmind) (6.0.1)\n",
      "Requirement already satisfied: visions[type_image_path]==0.7.5 in /Users/jwalz/Library/Caches/pypoetry/virtualenvs/validmind-mI3jzOkk-py3.9/lib/python3.9/site-packages (from ydata-profiling->pandas-profiling<4.0.0,>=3.6.6->validmind) (0.7.5)\n",
      "Requirement already satisfied: htmlmin==0.1.12 in /Users/jwalz/Library/Caches/pypoetry/virtualenvs/validmind-mI3jzOkk-py3.9/lib/python3.9/site-packages (from ydata-profiling->pandas-profiling<4.0.0,>=3.6.6->validmind) (0.1.12)\n",
      "Requirement already satisfied: phik<0.13,>=0.11.1 in /Users/jwalz/Library/Caches/pypoetry/virtualenvs/validmind-mI3jzOkk-py3.9/lib/python3.9/site-packages (from ydata-profiling->pandas-profiling<4.0.0,>=3.6.6->validmind) (0.12.3)\n",
      "Requirement already satisfied: multimethod<2,>=1.4 in /Users/jwalz/Library/Caches/pypoetry/virtualenvs/validmind-mI3jzOkk-py3.9/lib/python3.9/site-packages (from ydata-profiling->pandas-profiling<4.0.0,>=3.6.6->validmind) (1.9.1)\n",
      "Requirement already satisfied: typeguard<3,>=2.13.2 in /Users/jwalz/Library/Caches/pypoetry/virtualenvs/validmind-mI3jzOkk-py3.9/lib/python3.9/site-packages (from ydata-profiling->pandas-profiling<4.0.0,>=3.6.6->validmind) (2.13.3)\n",
      "Requirement already satisfied: imagehash==4.3.1 in /Users/jwalz/Library/Caches/pypoetry/virtualenvs/validmind-mI3jzOkk-py3.9/lib/python3.9/site-packages (from ydata-profiling->pandas-profiling<4.0.0,>=3.6.6->validmind) (4.3.1)\n",
      "Requirement already satisfied: wordcloud>=1.9.1 in /Users/jwalz/Library/Caches/pypoetry/virtualenvs/validmind-mI3jzOkk-py3.9/lib/python3.9/site-packages (from ydata-profiling->pandas-profiling<4.0.0,>=3.6.6->validmind) (1.9.2)\n",
      "Requirement already satisfied: dacite>=1.8 in /Users/jwalz/Library/Caches/pypoetry/virtualenvs/validmind-mI3jzOkk-py3.9/lib/python3.9/site-packages (from ydata-profiling->pandas-profiling<4.0.0,>=3.6.6->validmind) (1.8.1)\n",
      "Requirement already satisfied: PyWavelets in /Users/jwalz/Library/Caches/pypoetry/virtualenvs/validmind-mI3jzOkk-py3.9/lib/python3.9/site-packages (from imagehash==4.3.1->ydata-profiling->pandas-profiling<4.0.0,>=3.6.6->validmind) (1.4.1)\n",
      "Requirement already satisfied: networkx>=2.4 in /Users/jwalz/Library/Caches/pypoetry/virtualenvs/validmind-mI3jzOkk-py3.9/lib/python3.9/site-packages (from visions[type_image_path]==0.7.5->ydata-profiling->pandas-profiling<4.0.0,>=3.6.6->validmind) (3.1)\n",
      "Requirement already satisfied: tangled-up-in-unicode>=0.0.4 in /Users/jwalz/Library/Caches/pypoetry/virtualenvs/validmind-mI3jzOkk-py3.9/lib/python3.9/site-packages (from visions[type_image_path]==0.7.5->ydata-profiling->pandas-profiling<4.0.0,>=3.6.6->validmind) (0.2.0)\n",
      "Requirement already satisfied: cffi>=1.5.0 in /Users/jwalz/Library/Caches/pypoetry/virtualenvs/validmind-mI3jzOkk-py3.9/lib/python3.9/site-packages (from pycares>=4.0.0->aiodns->aiohttp[speedups]<4.0.0,>=3.8.4->validmind) (1.15.1)\n",
      "Requirement already satisfied: pycparser in /Users/jwalz/Library/Caches/pypoetry/virtualenvs/validmind-mI3jzOkk-py3.9/lib/python3.9/site-packages (from cffi>=1.5.0->pycares>=4.0.0->aiodns->aiohttp[speedups]<4.0.0,>=3.8.4->validmind) (2.21)\n",
      "\n",
      "\u001b[1m[\u001b[0m\u001b[34;49mnotice\u001b[0m\u001b[1;39;49m]\u001b[0m\u001b[39;49m A new release of pip is available: \u001b[0m\u001b[31;49m23.1.2\u001b[0m\u001b[39;49m -> \u001b[0m\u001b[32;49m23.2.1\u001b[0m\n",
      "\u001b[1m[\u001b[0m\u001b[34;49mnotice\u001b[0m\u001b[1;39;49m]\u001b[0m\u001b[39;49m To update, run: \u001b[0m\u001b[32;49mpip install --upgrade pip\u001b[0m\n",
      "Note: you may need to restart the kernel to use updated packages.\n"
     ]
    }
   ],
   "source": [
    "%pip install validmind"
   ]
  },
  {
   "cell_type": "markdown",
   "metadata": {},
   "source": [
    "## Initialize the client library\n",
    "\n",
    "In a browser, go to the **Client Integration** page of your documentation project and click **Copy to clipboard** next to the code snippet. This code snippet gives you the API key, API secret, and project identifier to link your notebook to your documentation project.\n",
    "\n",
    "::: {.column-margin}\n",
    "::: {.callout-tip}\n",
    "This step requires a documentation project. [Learn how you can create one](https://docs.validmind.ai/guide/create-your-first-documentation-project.html).\n",
    ":::\n",
    ":::\n",
    "\n",
    "Next, replace this placeholder with your own code snippet:"
   ]
  },
  {
   "cell_type": "code",
   "execution_count": 4,
   "metadata": {},
   "outputs": [
    {
     "name": "stderr",
     "output_type": "stream",
     "text": [
      "2023-09-06 11:44:25,748 - INFO(validmind.api_client): Connected to ValidMind. Project: Demo project 2 (clkh0yg4r00cgg9ryfwfy8pqo)\n"
     ]
    }
   ],
   "source": [
    "## Replace the code below with the code snippet from your project ## \n",
    "\n",
    "import validmind as vm\n",
    "\n",
    "vm.init(\n",
    "    api_host=\"http://localhost:3000/api/v1/tracking\",\n",
    "    project=\"clkh0yg4r00cgg9ryfwfy8pqo\",\n",
    ")"
   ]
  },
  {
   "cell_type": "code",
   "execution_count": 5,
   "metadata": {},
   "outputs": [
    {
     "data": {
      "application/vnd.jupyter.widget-view+json": {
       "model_id": "3339e922063b4ab3be8d8cd1b06032e7",
       "version_major": 2,
       "version_minor": 0
      },
      "text/plain": [
       "Accordion(children=(HTML(value='<p>Empty Section</p>'),), titles=(\"1. Model Validation ('model_validation')\",)…"
      ]
     },
     "metadata": {},
     "output_type": "display_data"
    }
   ],
   "source": [
    "vm.preview_template()"
   ]
  },
  {
   "cell_type": "markdown",
   "metadata": {},
   "source": [
    "### Download test dataset\n",
    "https://www.kaggle.com/datasets/ankurzing/sentiment-analysis-for-financial-news\n",
    "Download the dataset in the above link and move it into the current directory."
   ]
  },
  {
   "cell_type": "code",
   "execution_count": 6,
   "metadata": {},
   "outputs": [],
   "source": [
    "from validmind.models import FoundationModel, Prompt"
   ]
  },
  {
   "cell_type": "code",
   "execution_count": 7,
   "metadata": {},
   "outputs": [],
   "source": [
    "import os\n",
    "\n",
    "import dotenv\n",
    "dotenv.load_dotenv()\n",
    "\n",
    "if os.getenv(\"OPENAI_API_KEY\") is None:\n",
    "    raise Exception(\"OPENAI_API_KEY not found\")"
   ]
  },
  {
   "cell_type": "code",
   "execution_count": 8,
   "metadata": {},
   "outputs": [],
   "source": [
    "import openai\n",
    "\n",
    "def call_model(prompt):\n",
    "    return openai.ChatCompletion.create(\n",
    "        model=\"gpt-3.5-turbo\",\n",
    "        messages=[\n",
    "            {\"role\": \"user\", \"content\": prompt},\n",
    "        ]\n",
    "    ).choices[0].message[\"content\"]"
   ]
  },
  {
   "cell_type": "code",
   "execution_count": 9,
   "metadata": {},
   "outputs": [],
   "source": [
    "prompt_template = \"\"\"\n",
    "You are an AI with expertise in sentiment analysis, particularly in the context of financial news.\n",
    "Your task is to analyze the sentiment of a specific sentence provided below.\n",
    "Before proceeding, take a moment to understand the context and nuances of the financial terminology used in the sentence.\n",
    "\n",
    "Sentence to Analyze:\n",
    "```\n",
    "{Sentence}\n",
    "```\n",
    "\n",
    "Please respond with the sentiment of the sentence denoted by one of either 'positive', 'negative', or 'neutral'.\n",
    "Please respond only with the sentiment enum value. Do not include any other text in your response.\n",
    "\n",
    "Note: Ensure that your analysis is based on the content of the sentence and not on external information or assumptions.\n",
    "\"\"\".strip()\n",
    "\n",
    "prompt_variables = [\"Sentence\"]"
   ]
  },
  {
   "cell_type": "code",
   "execution_count": 10,
   "metadata": {},
   "outputs": [
    {
     "data": {
      "text/html": [
       "<div>\n",
       "<style scoped>\n",
       "    .dataframe tbody tr th:only-of-type {\n",
       "        vertical-align: middle;\n",
       "    }\n",
       "\n",
       "    .dataframe tbody tr th {\n",
       "        vertical-align: top;\n",
       "    }\n",
       "\n",
       "    .dataframe thead th {\n",
       "        text-align: right;\n",
       "    }\n",
       "</style>\n",
       "<table border=\"1\" class=\"dataframe\">\n",
       "  <thead>\n",
       "    <tr style=\"text-align: right;\">\n",
       "      <th></th>\n",
       "      <th>Sentiment</th>\n",
       "      <th>Sentence</th>\n",
       "    </tr>\n",
       "  </thead>\n",
       "  <tbody>\n",
       "    <tr>\n",
       "      <th>0</th>\n",
       "      <td>neutral</td>\n",
       "      <td>According to Gran , the company has no plans t...</td>\n",
       "    </tr>\n",
       "    <tr>\n",
       "      <th>1</th>\n",
       "      <td>neutral</td>\n",
       "      <td>Technopolis plans to develop in stages an area...</td>\n",
       "    </tr>\n",
       "    <tr>\n",
       "      <th>2</th>\n",
       "      <td>negative</td>\n",
       "      <td>The international electronic industry company ...</td>\n",
       "    </tr>\n",
       "    <tr>\n",
       "      <th>3</th>\n",
       "      <td>positive</td>\n",
       "      <td>With the new production plant the company woul...</td>\n",
       "    </tr>\n",
       "    <tr>\n",
       "      <th>4</th>\n",
       "      <td>positive</td>\n",
       "      <td>According to the company 's updated strategy f...</td>\n",
       "    </tr>\n",
       "    <tr>\n",
       "      <th>5</th>\n",
       "      <td>positive</td>\n",
       "      <td>FINANCING OF ASPOCOMP 'S GROWTH Aspocomp is ag...</td>\n",
       "    </tr>\n",
       "    <tr>\n",
       "      <th>6</th>\n",
       "      <td>positive</td>\n",
       "      <td>For the last quarter of 2010 , Componenta 's n...</td>\n",
       "    </tr>\n",
       "    <tr>\n",
       "      <th>7</th>\n",
       "      <td>positive</td>\n",
       "      <td>In the third quarter of 2010 , net sales incre...</td>\n",
       "    </tr>\n",
       "    <tr>\n",
       "      <th>8</th>\n",
       "      <td>positive</td>\n",
       "      <td>Operating profit rose to EUR 13.1 mn from EUR ...</td>\n",
       "    </tr>\n",
       "    <tr>\n",
       "      <th>9</th>\n",
       "      <td>positive</td>\n",
       "      <td>Operating profit totalled EUR 21.1 mn , up fro...</td>\n",
       "    </tr>\n",
       "  </tbody>\n",
       "</table>\n",
       "</div>"
      ],
      "text/plain": [
       "  Sentiment                                           Sentence\n",
       "0   neutral  According to Gran , the company has no plans t...\n",
       "1   neutral  Technopolis plans to develop in stages an area...\n",
       "2  negative  The international electronic industry company ...\n",
       "3  positive  With the new production plant the company woul...\n",
       "4  positive  According to the company 's updated strategy f...\n",
       "5  positive  FINANCING OF ASPOCOMP 'S GROWTH Aspocomp is ag...\n",
       "6  positive  For the last quarter of 2010 , Componenta 's n...\n",
       "7  positive  In the third quarter of 2010 , net sales incre...\n",
       "8  positive  Operating profit rose to EUR 13.1 mn from EUR ...\n",
       "9  positive  Operating profit totalled EUR 21.1 mn , up fro..."
      ]
     },
     "execution_count": 10,
     "metadata": {},
     "output_type": "execute_result"
    }
   ],
   "source": [
    "import pandas as pd\n",
    "\n",
    "df = pd.read_csv('./datasets/sentiments.csv')\n",
    "\n",
    "df_test = df[:10].reset_index(drop=True)\n",
    "df_test"
   ]
  },
  {
   "cell_type": "code",
   "execution_count": 11,
   "metadata": {},
   "outputs": [
    {
     "name": "stderr",
     "output_type": "stream",
     "text": [
      "2023-09-06 11:44:25,903 - INFO(validmind.client): Pandas dataset detected. Initializing VM Dataset instance...\n",
      "2023-09-06 11:44:25,921 - INFO(validmind.client): Pandas dataset detected. Initializing VM Dataset instance...\n",
      "2023-09-06 11:44:25,927 - INFO(validmind.models.foundation): Running predict() for `train_ds`... This may take a while\n",
      "2023-09-06 11:44:32,651 - INFO(validmind.models.foundation): Running predict() for `test_ds`... This may take a while\n"
     ]
    }
   ],
   "source": [
    "vm_dataset = vm.init_dataset(\n",
    "    dataset=df,\n",
    "    text_column=\"Sentence\",\n",
    "    target_column=\"Sentiment\",\n",
    ")\n",
    "\n",
    "vm_test_ds = vm.init_dataset(\n",
    "    dataset=df_test,\n",
    "    text_column=\"Sentence\",\n",
    "    target_column=\"Sentiment\",\n",
    ")\n",
    "\n",
    "vm_model = FoundationModel(\n",
    "    predict_fn=call_model,\n",
    "    prompt=Prompt(\n",
    "        template=prompt_template,\n",
    "        variables=prompt_variables,\n",
    "    ),\n",
    "    train_ds=vm_test_ds,\n",
    "    test_ds=vm_test_ds,\n",
    ")"
   ]
  },
  {
   "cell_type": "code",
   "execution_count": 12,
   "metadata": {},
   "outputs": [],
   "source": [
    "from validmind.vm_models import TestContext\n",
    "\n",
    "test_context = TestContext(model=vm_model)"
   ]
  },
  {
   "cell_type": "code",
   "execution_count": 13,
   "metadata": {},
   "outputs": [],
   "source": [
    "from IPython.display import display\n",
    "\n",
    "from validmind.tests import load_test"
   ]
  },
  {
   "cell_type": "code",
   "execution_count": 14,
   "metadata": {},
   "outputs": [
    {
     "data": {
      "application/vnd.jupyter.widget-view+json": {
       "model_id": "cd11dc3200ed45e495b9c88f342113c6",
       "version_major": 2,
       "version_minor": 0
      },
      "text/plain": [
       "VBox(children=(HTML(value='\\n            <h2>Specificity ✅</h2>\\n            <p>Test that the prompt is specif…"
      ]
     },
     "metadata": {},
     "output_type": "display_data"
    },
    {
     "data": {
      "text/plain": [
       "None"
      ]
     },
     "metadata": {},
     "output_type": "display_data"
    },
    {
     "data": {
      "application/vnd.jupyter.widget-view+json": {
       "model_id": "3bfdee8240634f23a939ef5724b0cffc",
       "version_major": 2,
       "version_minor": 0
      },
      "text/plain": [
       "VBox(children=(HTML(value='\\n            <h2>Clarity ✅</h2>\\n            <p>Test that the prompt is clear</p>\\…"
      ]
     },
     "metadata": {},
     "output_type": "display_data"
    },
    {
     "data": {
      "text/plain": [
       "None"
      ]
     },
     "metadata": {},
     "output_type": "display_data"
    },
    {
     "data": {
      "application/vnd.jupyter.widget-view+json": {
       "model_id": "673ccee8843c4f64a067e55763fd451e",
       "version_major": 2,
       "version_minor": 0
      },
      "text/plain": [
       "VBox(children=(HTML(value='\\n            <h2>Conciseness ❌</h2>\\n            <p>Test that the prompt is concis…"
      ]
     },
     "metadata": {},
     "output_type": "display_data"
    },
    {
     "data": {
      "text/plain": [
       "None"
      ]
     },
     "metadata": {},
     "output_type": "display_data"
    },
    {
     "data": {
      "application/vnd.jupyter.widget-view+json": {
       "model_id": "226842d5e3f04c4082a581e3bd5235bc",
       "version_major": 2,
       "version_minor": 0
      },
      "text/plain": [
       "VBox(children=(HTML(value='\\n            <h2>Negative Instruction ✅</h2>\\n            <p>Test that the prompt …"
      ]
     },
     "metadata": {},
     "output_type": "display_data"
    },
    {
     "data": {
      "text/plain": [
       "None"
      ]
     },
     "metadata": {},
     "output_type": "display_data"
    },
    {
     "data": {
      "application/vnd.jupyter.widget-view+json": {
       "model_id": "a47fb04aed4546b3b27e8a41a5da12bc",
       "version_major": 2,
       "version_minor": 0
      },
      "text/plain": [
       "VBox(children=(HTML(value='\\n            <h2>Escape ✅</h2>\\n            <p>Test that the prompt is escaped pro…"
      ]
     },
     "metadata": {},
     "output_type": "display_data"
    },
    {
     "data": {
      "text/plain": [
       "None"
      ]
     },
     "metadata": {},
     "output_type": "display_data"
    },
    {
     "ename": "AttributeError",
     "evalue": "'str' object has no attribute 'iterrows'",
     "output_type": "error",
     "traceback": [
      "\u001b[0;31m---------------------------------------------------------------------------\u001b[0m",
      "\u001b[0;31mAttributeError\u001b[0m                            Traceback (most recent call last)",
      "\u001b[0;32m/var/folders/tf/pd_v63s95ws4qmtkp4wnb__40000gn/T/ipykernel_55047/3537317035.py\u001b[0m in \u001b[0;36m<cell line: 11>\u001b[0;34m()\u001b[0m\n\u001b[1;32m     15\u001b[0m     \u001b[0mtests\u001b[0m\u001b[0;34m.\u001b[0m\u001b[0mappend\u001b[0m\u001b[0;34m(\u001b[0m\u001b[0mtest\u001b[0m\u001b[0;34m)\u001b[0m\u001b[0;34m\u001b[0m\u001b[0;34m\u001b[0m\u001b[0m\n\u001b[1;32m     16\u001b[0m \u001b[0;34m\u001b[0m\u001b[0m\n\u001b[0;32m---> 17\u001b[0;31m     \u001b[0mtest\u001b[0m\u001b[0;34m.\u001b[0m\u001b[0mrun\u001b[0m\u001b[0;34m(\u001b[0m\u001b[0;34m)\u001b[0m\u001b[0;34m\u001b[0m\u001b[0;34m\u001b[0m\u001b[0m\n\u001b[0m\u001b[1;32m     18\u001b[0m \u001b[0;34m\u001b[0m\u001b[0m\n\u001b[1;32m     19\u001b[0m     \u001b[0mdisplay\u001b[0m\u001b[0;34m(\u001b[0m\u001b[0mtest\u001b[0m\u001b[0;34m.\u001b[0m\u001b[0mresult\u001b[0m\u001b[0;34m.\u001b[0m\u001b[0mshow\u001b[0m\u001b[0;34m(\u001b[0m\u001b[0;34m)\u001b[0m\u001b[0;34m)\u001b[0m\u001b[0;34m\u001b[0m\u001b[0;34m\u001b[0m\u001b[0m\n",
      "\u001b[0;32m~/Code/ValidMind/validmind-python/validmind/tests/prompt_validation/Robustness.py\u001b[0m in \u001b[0;36mrun\u001b[0;34m(self)\u001b[0m\n\u001b[1;32m     76\u001b[0m \u001b[0;34m\u001b[0m\u001b[0m\n\u001b[1;32m     77\u001b[0m         \u001b[0;32mfor\u001b[0m \u001b[0mtest_input\u001b[0m \u001b[0;32min\u001b[0m \u001b[0mresponse\u001b[0m\u001b[0;34m.\u001b[0m\u001b[0msplit\u001b[0m\u001b[0;34m(\u001b[0m\u001b[0;34m\"\\n\"\u001b[0m\u001b[0;34m)\u001b[0m\u001b[0;34m:\u001b[0m\u001b[0;34m\u001b[0m\u001b[0;34m\u001b[0m\u001b[0m\n\u001b[0;32m---> 78\u001b[0;31m             \u001b[0mresult\u001b[0m \u001b[0;34m=\u001b[0m \u001b[0mself\u001b[0m\u001b[0;34m.\u001b[0m\u001b[0mmodel\u001b[0m\u001b[0;34m.\u001b[0m\u001b[0mpredict\u001b[0m\u001b[0;34m(\u001b[0m\u001b[0mtest_input\u001b[0m\u001b[0;34m)\u001b[0m\u001b[0;34m\u001b[0m\u001b[0;34m\u001b[0m\u001b[0m\n\u001b[0m\u001b[1;32m     79\u001b[0m \u001b[0;34m\u001b[0m\u001b[0m\n\u001b[1;32m     80\u001b[0m             \u001b[0mfail\u001b[0m \u001b[0;34m=\u001b[0m \u001b[0;32mFalse\u001b[0m\u001b[0;34m\u001b[0m\u001b[0;34m\u001b[0m\u001b[0m\n",
      "\u001b[0;32m~/Code/ValidMind/validmind-python/validmind/models/foundation.py\u001b[0m in \u001b[0;36mpredict\u001b[0;34m(self, X)\u001b[0m\n\u001b[1;32m     83\u001b[0m         \"\"\"\n\u001b[1;32m     84\u001b[0m         return np.array(\n\u001b[0;32m---> 85\u001b[0;31m             \u001b[0;34m[\u001b[0m\u001b[0mself\u001b[0m\u001b[0;34m.\u001b[0m\u001b[0mpredict_fn\u001b[0m\u001b[0;34m(\u001b[0m\u001b[0mself\u001b[0m\u001b[0;34m.\u001b[0m\u001b[0m_build_prompt\u001b[0m\u001b[0;34m(\u001b[0m\u001b[0mx\u001b[0m\u001b[0;34m[\u001b[0m\u001b[0;36m1\u001b[0m\u001b[0;34m]\u001b[0m\u001b[0;34m)\u001b[0m\u001b[0;34m)\u001b[0m \u001b[0;32mfor\u001b[0m \u001b[0mx\u001b[0m \u001b[0;32min\u001b[0m \u001b[0mX\u001b[0m\u001b[0;34m.\u001b[0m\u001b[0miterrows\u001b[0m\u001b[0;34m(\u001b[0m\u001b[0;34m)\u001b[0m\u001b[0;34m]\u001b[0m\u001b[0;34m\u001b[0m\u001b[0;34m\u001b[0m\u001b[0m\n\u001b[0m\u001b[1;32m     86\u001b[0m         )\n\u001b[1;32m     87\u001b[0m \u001b[0;34m\u001b[0m\u001b[0m\n",
      "\u001b[0;31mAttributeError\u001b[0m: 'str' object has no attribute 'iterrows'"
     ]
    }
   ],
   "source": [
    "test_ids = [\n",
    "    \"validmind.prompt_validation.Specificity\",\n",
    "    \"validmind.prompt_validation.Clarity\",\n",
    "    \"validmind.prompt_validation.Conciseness\",\n",
    "    \"validmind.prompt_validation.NegativeInstruction\",\n",
    "    \"validmind.prompt_validation.Escape\",\n",
    "    \"validmind.prompt_validation.Robustness\",\n",
    "]\n",
    "tests = []\n",
    "\n",
    "for test_id in test_ids:\n",
    "    Test = load_test(test_id)\n",
    "\n",
    "    test = Test(test_context, params={})\n",
    "    tests.append(test)\n",
    "\n",
    "    test.run()\n",
    "\n",
    "    display(test.result.show())"
   ]
  },
  {
   "cell_type": "code",
   "execution_count": null,
   "metadata": {},
   "outputs": [
    {
     "name": "stderr",
     "output_type": "stream",
     "text": [
      "2023-09-06 09:47:03,577 - ERROR(validmind.tests): Unable to load test nonexistent_provider.test. No Test Provider found for the namespace: nonexistent_provider.\n",
      "2023-09-06 09:47:03,578 - ERROR(validmind.tests): Unable to load test validmind.nonexistent_test. No module named 'validmind.tests.'\n"
     ]
    },
    {
     "data": {
      "application/vnd.jupyter.widget-view+json": {
       "model_id": "1d52e0bc566c41a2a709aac2a554cf68",
       "version_major": 2,
       "version_minor": 0
      },
      "text/plain": [
       "HBox(children=(Label(value='Running test suite...'), IntProgress(value=0, max=58)))"
      ]
     },
     "metadata": {},
     "output_type": "display_data"
    },
    {
     "name": "stderr",
     "output_type": "stream",
     "text": [
      "2023-09-06 09:47:03,582 - ERROR(validmind.tests): Unable to load test nonexistent_provider.test. No Test Provider found for the namespace: nonexistent_provider.\n",
      "2023-09-06 09:47:03,582 - ERROR(validmind.tests): Unable to load test validmind.nonexistent_test. No module named 'validmind.tests.'\n",
      "2023-09-06 09:47:03,583 - ERROR(validmind.vm_models.test_plan): Failed to run test 'class_imbalance': (MissingRequiredTestContextError) Dataset 'dataset' is a required input and must be passed as a keyword argument to the test plan\n",
      "2023-09-06 09:47:03,584 - ERROR(validmind.vm_models.test_plan): Failed to run test 'duplicates': (MissingRequiredTestContextError) Dataset 'dataset' is a required input and must be passed as a keyword argument to the test plan\n",
      "2023-09-06 09:47:03,584 - ERROR(validmind.vm_models.test_plan): Failed to run test 'cardinality': (MissingRequiredTestContextError) Dataset 'dataset' is a required input and must be passed as a keyword argument to the test plan\n",
      "2023-09-06 09:47:03,584 - ERROR(validmind.vm_models.test_plan): Failed to run test 'missing': (MissingRequiredTestContextError) Dataset 'dataset' is a required input and must be passed as a keyword argument to the test plan\n",
      "2023-09-06 09:47:03,585 - ERROR(validmind.vm_models.test_plan): Failed to run test 'skewness': (MissingRequiredTestContextError) Dataset 'dataset' is a required input and must be passed as a keyword argument to the test plan\n",
      "2023-09-06 09:47:03,585 - ERROR(validmind.vm_models.test_plan): Failed to run test 'unique': (MissingRequiredTestContextError) Dataset 'dataset' is a required input and must be passed as a keyword argument to the test plan\n",
      "2023-09-06 09:47:03,586 - ERROR(validmind.vm_models.test_plan): Failed to run test 'zeros': (MissingRequiredTestContextError) Dataset 'dataset' is a required input and must be passed as a keyword argument to the test plan\n",
      "2023-09-06 09:47:03,586 - ERROR(validmind.vm_models.test_plan): Failed to run test 'descriptive_statistics': (MissingRequiredTestContextError) Dataset 'dataset' is a required input and must be passed as a keyword argument to the test plan\n",
      "2023-09-06 09:47:03,587 - ERROR(validmind.vm_models.test_plan): Failed to run test 'pearson_correlation_matrix': (MissingRequiredTestContextError) Dataset 'dataset' is a required input and must be passed as a keyword argument to the test plan\n",
      "2023-09-06 09:47:03,587 - ERROR(validmind.vm_models.test_plan): Failed to run test 'pearson_correlation': (MissingRequiredTestContextError) Dataset 'dataset' is a required input and must be passed as a keyword argument to the test plan\n",
      "2023-09-06 09:47:03,597 - ERROR(validmind.vm_models.test_plan): Failed to run test 'psi': (AttributeError) 'NoneType' object has no attribute 'copy'\n",
      "2023-09-06 09:47:03,627 - ERROR(validmind.vm_models.test_plan): Failed to run test 'pr_curve': (AttributeError) 'numpy.ndarray' object has no attribute 'iterrows'\n",
      "2023-09-06 09:47:03,627 - ERROR(validmind.vm_models.test_plan): Failed to run test 'roc_curve': (AttributeError) 'numpy.ndarray' object has no attribute 'iterrows'\n",
      "2023-09-06 09:47:03,637 - ERROR(validmind.vm_models.test_plan): Failed to run test 'pfi': (InvalidParameterError) The 'estimator' parameter of permutation_importance must be an object implementing 'fit'. Got None instead.\n",
      "2023-09-06 09:47:03,638 - INFO(validmind.tests.model_validation.sklearn.SHAPGlobalImportance): Skiping SHAP for FoundationModel models\n",
      "2023-09-06 09:47:03,638 - INFO(validmind.tests.model_validation.sklearn.SHAPGlobalImportance): Skiping SHAP for FoundationModel models\n",
      "2023-09-06 09:47:03,639 - ERROR(validmind.vm_models.test_plan): Failed to run test 'weak_spots': (ValueError) Skiping Weakspots Diagnosis test for the dataset with text column\n",
      "2023-09-06 09:47:03,639 - ERROR(validmind.vm_models.test_plan): Failed to run test 'overfit_regions': (ValueError) Skiping Overfit Diagnosis test for the dataset with text column\n",
      "2023-09-06 09:47:03,640 - ERROR(validmind.vm_models.test_plan): Failed to run test 'robustness': (ValueError) Skiping Robustness Diagnosis test for the dataset with text column\n"
     ]
    },
    {
     "data": {
      "application/vnd.jupyter.widget-view+json": {
       "model_id": "2a3cc58e29bc4a96bf4f3aa52a6e1e55",
       "version_major": 2,
       "version_minor": 0
      },
      "text/plain": [
       "VBox(children=(HTML(value='<h2>Test Suite Results: <i style=\"color: #DE257E\">Binary Classification V2</i></h2>…"
      ]
     },
     "metadata": {},
     "output_type": "display_data"
    },
    {
     "data": {
      "text/plain": [
       "BinaryClassificationTestSuite(config=None, _global_config=None, _test_configs=None, test_context=TestContext(dataset=None, model=<validmind.models.foundation.FoundationModel object at 0x16b8933d0>, models=None, context_data=None), fail_fast=False, _tests=None, dataset=None, model=<validmind.models.foundation.FoundationModel object at 0x16b8933d0>, models=None, pbar=IntProgress(value=55, max=58), pbar_description=Label(value='Test suite complete!'), pbar_box=HBox(children=(Label(value='Test suite complete!'), IntProgress(value=55, max=58))), summary=None, _test_plan_classes=[<class 'validmind.template.DataPreparationTestPlan'>, <class 'validmind.template.ModelDevelopmentTestPlan'>], _test_plan_instances=[DataPreparationTestPlan(test_context=TestContext(dataset=None, model=<validmind.models.foundation.FoundationModel object at 0x16b8933d0>, models=None, context_data=None)), ModelDevelopmentTestPlan(test_context=TestContext(dataset=None, model=<validmind.models.foundation.FoundationModel object at 0x16b8933d0>, models=None, context_data=None))], _total_tests=29)"
      ]
     },
     "execution_count": 16,
     "metadata": {},
     "output_type": "execute_result"
    }
   ],
   "source": [
    "vm.run_documentation_tests(model=vm_model)"
   ]
  }
 ],
 "metadata": {
  "kernelspec": {
   "display_name": "Python 3 (ipykernel)",
   "language": "python",
   "name": "python3"
  },
  "language_info": {
   "codemirror_mode": {
    "name": "ipython",
    "version": 3
   },
   "file_extension": ".py",
   "mimetype": "text/x-python",
   "name": "python",
   "nbconvert_exporter": "python",
   "pygments_lexer": "ipython3",
   "version": "3.9.16"
  }
 },
 "nbformat": 4,
 "nbformat_minor": 2
}
