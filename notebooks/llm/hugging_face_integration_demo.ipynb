{
 "cells": [
  {
   "cell_type": "markdown",
   "metadata": {},
   "source": [
    "# Sensitivity analysis of financial data using Hugging face LLM models\n",
    "This notebook aims to provide an introduction to documenting an LLM model using the ValidMind Developer Framework. The use case presented is a sentiment analysis of financial pharse data (https://huggingface.co/datasets/financial_phrasebank).\n",
    "\n",
    "- Initializing the ValidMind Developer Framework\n",
    "- Running a test various tests to quickly generate document about the data and model\n",
    "\n",
    "## Before you begin\n",
    "\n",
    "To use the ValidMind Developer Framework with a Jupyter notebook, you need to install and initialize the client library first, along with getting your Python environment ready.\n",
    "\n",
    "If you don't already have one, you should also [create a documentation project](https://docs.validmind.ai/guide/create-your-first-documentation-project.html) on the ValidMind platform. You will use this project to upload your documentation and test results.\n",
    "\n",
    "## Install the client library\n"
   ]
  },
  {
   "cell_type": "code",
   "execution_count": 1,
   "metadata": {},
   "outputs": [],
   "source": [
    "# %pip install --upgrade validmind"
   ]
  },
  {
   "cell_type": "markdown",
   "metadata": {},
   "source": [
    "## Initialize the client library\n",
    "\n",
    "In a browser, go to the **Client Integration** page of your documentation project and click **Copy to clipboard** next to the code snippet. This code snippet gives you the API key, API secret, and project identifier to link your notebook to your documentation project.\n",
    "\n",
    "::: {.column-margin}\n",
    "::: {.callout-tip}\n",
    "This step requires a documentation project. [Learn how you can create one](https://docs.validmind.ai/guide/create-your-first-documentation-project.html).\n",
    ":::\n",
    ":::\n",
    "\n",
    "Next, replace this placeholder with your own code snippet:"
   ]
  },
  {
   "cell_type": "code",
   "execution_count": 2,
   "metadata": {},
   "outputs": [
    {
     "name": "stderr",
     "output_type": "stream",
     "text": [
      "2023-08-31 22:38:39,645 - INFO(validmind.api_client): Connected to ValidMind. Project: Sentiment Analysis Hugging Face - Initial Validation (cllll3q9k005aue8hqg76ncnn)\n"
     ]
    }
   ],
   "source": [
    "## Replace the code below with the code snippet from your project ## \n",
    "\n",
    "import validmind as vm\n",
    "\n",
    "vm.init(\n",
    "    api_host = \"https://api.prod.validmind.ai/api/v1/tracking\",\n",
    "    api_key = \"...\",\n",
    "    api_secret = \"...\",\n",
    "    project = \"...\"\n",
    ")"
   ]
  },
  {
   "cell_type": "markdown",
   "metadata": {},
   "source": [
    "### Load Dataset\n",
    "\n",
    "In this section, we'll load the financial phrasebank dataset, which will be the foundation for our sentiment analysis tasks."
   ]
  },
  {
   "cell_type": "code",
   "execution_count": 3,
   "metadata": {},
   "outputs": [
    {
     "data": {
      "text/html": [
       "<div>\n",
       "<style scoped>\n",
       "    .dataframe tbody tr th:only-of-type {\n",
       "        vertical-align: middle;\n",
       "    }\n",
       "\n",
       "    .dataframe tbody tr th {\n",
       "        vertical-align: top;\n",
       "    }\n",
       "\n",
       "    .dataframe thead th {\n",
       "        text-align: right;\n",
       "    }\n",
       "</style>\n",
       "<table border=\"1\" class=\"dataframe\">\n",
       "  <thead>\n",
       "    <tr style=\"text-align: right;\">\n",
       "      <th></th>\n",
       "      <th>Sentiment</th>\n",
       "      <th>Sentence</th>\n",
       "    </tr>\n",
       "  </thead>\n",
       "  <tbody>\n",
       "    <tr>\n",
       "      <th>1897</th>\n",
       "      <td>neutral</td>\n",
       "      <td>Enclosed is Affecto 's call for Extraordinary ...</td>\n",
       "    </tr>\n",
       "    <tr>\n",
       "      <th>2259</th>\n",
       "      <td>neutral</td>\n",
       "      <td>- Moody 's said it gave P A1 long-term senior ...</td>\n",
       "    </tr>\n",
       "    <tr>\n",
       "      <th>2015</th>\n",
       "      <td>positive</td>\n",
       "      <td>Full-year net sales are expected to increase b...</td>\n",
       "    </tr>\n",
       "    <tr>\n",
       "      <th>249</th>\n",
       "      <td>positive</td>\n",
       "      <td>Operating profit rose to EUR 3.2 mn from EUR 1...</td>\n",
       "    </tr>\n",
       "    <tr>\n",
       "      <th>4209</th>\n",
       "      <td>negative</td>\n",
       "      <td>Jul. 18 -- Police are looking for a man who th...</td>\n",
       "    </tr>\n",
       "    <tr>\n",
       "      <th>1093</th>\n",
       "      <td>neutral</td>\n",
       "      <td>The guidance has been set at 90 basis points o...</td>\n",
       "    </tr>\n",
       "    <tr>\n",
       "      <th>3205</th>\n",
       "      <td>neutral</td>\n",
       "      <td>The company serves customers in various indust...</td>\n",
       "    </tr>\n",
       "    <tr>\n",
       "      <th>1304</th>\n",
       "      <td>neutral</td>\n",
       "      <td>Other shareholder entitlements became effectiv...</td>\n",
       "    </tr>\n",
       "    <tr>\n",
       "      <th>683</th>\n",
       "      <td>negative</td>\n",
       "      <td>Profit before taxes was EUR 4.0 mn , down from...</td>\n",
       "    </tr>\n",
       "    <tr>\n",
       "      <th>2354</th>\n",
       "      <td>neutral</td>\n",
       "      <td>`` Fixed Mobile Convergence solutions represen...</td>\n",
       "    </tr>\n",
       "  </tbody>\n",
       "</table>\n",
       "</div>"
      ],
      "text/plain": [
       "     Sentiment                                           Sentence\n",
       "1897   neutral  Enclosed is Affecto 's call for Extraordinary ...\n",
       "2259   neutral  - Moody 's said it gave P A1 long-term senior ...\n",
       "2015  positive  Full-year net sales are expected to increase b...\n",
       "249   positive  Operating profit rose to EUR 3.2 mn from EUR 1...\n",
       "4209  negative  Jul. 18 -- Police are looking for a man who th...\n",
       "1093   neutral  The guidance has been set at 90 basis points o...\n",
       "3205   neutral  The company serves customers in various indust...\n",
       "1304   neutral  Other shareholder entitlements became effectiv...\n",
       "683   negative  Profit before taxes was EUR 4.0 mn , down from...\n",
       "2354   neutral  `` Fixed Mobile Convergence solutions represen..."
      ]
     },
     "execution_count": 3,
     "metadata": {},
     "output_type": "execute_result"
    }
   ],
   "source": [
    "import pandas as pd\n",
    "\n",
    "df = pd.read_csv('./datasets/sentiments.csv')\n",
    "sample = df.sample(10)\n",
    "sample"
   ]
  },
  {
   "cell_type": "markdown",
   "metadata": {},
   "source": [
    "## NLP data quality tests\n",
    "\n",
    "Before we proceed with the analysis, it's crucial to ensure the quality of our NLP data. This section runs a data quality test plan to validate the data's integrity and suitability."
   ]
  },
  {
   "cell_type": "code",
   "execution_count": 4,
   "metadata": {},
   "outputs": [
    {
     "name": "stderr",
     "output_type": "stream",
     "text": [
      "2023-08-31 22:38:39,711 - INFO(validmind.client): The 'type' argument to init_dataset() argument is deprecated and no longer required.\n",
      "2023-08-31 22:38:39,712 - INFO(validmind.client): Pandas dataset detected. Initializing VM Dataset instance...\n"
     ]
    },
    {
     "data": {
      "application/vnd.jupyter.widget-view+json": {
       "model_id": "124faafb87d2408a84f804dfabcd7af8",
       "version_major": 2,
       "version_minor": 0
      },
      "text/plain": [
       "HBox(children=(Label(value='Running test plan...'), IntProgress(value=0, max=14)))"
      ]
     },
     "metadata": {},
     "output_type": "display_data"
    },
    {
     "name": "stderr",
     "output_type": "stream",
     "text": [
      "[nltk_data] Downloading package stopwords to\n",
      "[nltk_data]     /Users/andres/nltk_data...\n",
      "[nltk_data]   Package stopwords is already up-to-date!\n",
      "[nltk_data] Downloading package stopwords to\n",
      "[nltk_data]     /Users/andres/nltk_data...\n",
      "[nltk_data]   Package stopwords is already up-to-date!\n"
     ]
    },
    {
     "data": {
      "application/vnd.jupyter.widget-view+json": {
       "model_id": "1872b1eab0bf49d5a1dea4bd498955f6",
       "version_major": 2,
       "version_minor": 0
      },
      "text/plain": [
       "VBox(children=(HTML(value='<h2>Results for <i>Text Data Quality</i> Test Plan:</h2><hr>'), HTML(value='<div cl…"
      ]
     },
     "metadata": {},
     "output_type": "display_data"
    }
   ],
   "source": [
    "vm_ds = vm.init_dataset(dataset=df, type=\"generic\", text_column='Sentence', target_column=\"Sentiment\")\n",
    "text_data_test_plan = vm.run_test_plan(\"text_data_quality\", dataset=vm_ds)"
   ]
  },
  {
   "cell_type": "markdown",
   "metadata": {},
   "source": [
    "## Hugging face transformers"
   ]
  },
  {
   "cell_type": "markdown",
   "metadata": {},
   "source": [
    "### Example model wrapper\n",
    "\n",
    "The following code template showcases how to wrap a Hugging Face model for compatibility with the ValidMind Developer Framework. We will load an example model using the transformers API and then run some predictions on our test dataset.\n",
    "\n",
    "The ValidMind developer framework provides support for Hugging Face transformers out of the box, so in the following section we will show how to initialize multiple transformers models with the `init_model` function, removing the need for a custom wrapper. In cases where you need extra pre-processing or post-processing steps, you can use the following code template as a starting point to wrap your model."
   ]
  },
  {
   "cell_type": "code",
   "execution_count": 5,
   "metadata": {},
   "outputs": [],
   "source": [
    "from transformers import pipeline\n",
    "from dataclasses import dataclass\n",
    "@dataclass\n",
    "\n",
    "class Sentiment_HuggingFace:\n",
    "    \"\"\"\n",
    "    A VM Model instance wrapper only requires a predict and predict_proba method.\n",
    "    \"\"\"\n",
    "\n",
    "    predicted_prob_values = None\n",
    "\n",
    "    def __init__(self, pipeline_task, model_name=None, model=None, tokenizer=None):\n",
    "        self.model_name = model_name\n",
    "        self.pipeline_task = pipeline_task\n",
    "        self.model = pipeline(pipeline_task, model=model, tokenizer=tokenizer)\n",
    "\n",
    "    def predict(self, data):\n",
    "        data = [str(datapoint) for datapoint in data]\n",
    "        results = []\n",
    "        results = self.model(data)\n",
    "        results_df = pd.DataFrame(results)\n",
    "        self.predicted_prob_values = results_df.score.values\n",
    "        return results_df.label.values\n",
    "\n",
    "    def predict_proba(self):\n",
    "        if self.predicted_prob_values is None:\n",
    "            raise ValueError(\"First run predict method to retrieve predicted probabilities\")\n",
    "        return self.predicted_prob_values\n"
   ]
  },
  {
   "cell_type": "code",
   "execution_count": 6,
   "metadata": {},
   "outputs": [
    {
     "data": {
      "text/html": [
       "<div>\n",
       "<style scoped>\n",
       "    .dataframe tbody tr th:only-of-type {\n",
       "        vertical-align: middle;\n",
       "    }\n",
       "\n",
       "    .dataframe tbody tr th {\n",
       "        vertical-align: top;\n",
       "    }\n",
       "\n",
       "    .dataframe thead th {\n",
       "        text-align: right;\n",
       "    }\n",
       "</style>\n",
       "<table border=\"1\" class=\"dataframe\">\n",
       "  <thead>\n",
       "    <tr style=\"text-align: right;\">\n",
       "      <th></th>\n",
       "      <th>Sentiment</th>\n",
       "      <th>Sentence</th>\n",
       "      <th>y_pred</th>\n",
       "      <th>y_pred_prob</th>\n",
       "    </tr>\n",
       "  </thead>\n",
       "  <tbody>\n",
       "    <tr>\n",
       "      <th>0</th>\n",
       "      <td>neutral</td>\n",
       "      <td>According to Gran , the company has no plans t...</td>\n",
       "      <td>neutral</td>\n",
       "      <td>0.988819</td>\n",
       "    </tr>\n",
       "    <tr>\n",
       "      <th>1</th>\n",
       "      <td>neutral</td>\n",
       "      <td>Technopolis plans to develop in stages an area...</td>\n",
       "      <td>neutral</td>\n",
       "      <td>0.999853</td>\n",
       "    </tr>\n",
       "    <tr>\n",
       "      <th>2</th>\n",
       "      <td>negative</td>\n",
       "      <td>The international electronic industry company ...</td>\n",
       "      <td>negative</td>\n",
       "      <td>0.999682</td>\n",
       "    </tr>\n",
       "    <tr>\n",
       "      <th>3</th>\n",
       "      <td>positive</td>\n",
       "      <td>With the new production plant the company woul...</td>\n",
       "      <td>positive</td>\n",
       "      <td>0.999855</td>\n",
       "    </tr>\n",
       "    <tr>\n",
       "      <th>4</th>\n",
       "      <td>positive</td>\n",
       "      <td>According to the company 's updated strategy f...</td>\n",
       "      <td>positive</td>\n",
       "      <td>0.999766</td>\n",
       "    </tr>\n",
       "    <tr>\n",
       "      <th>5</th>\n",
       "      <td>positive</td>\n",
       "      <td>FINANCING OF ASPOCOMP 'S GROWTH Aspocomp is ag...</td>\n",
       "      <td>positive</td>\n",
       "      <td>0.999806</td>\n",
       "    </tr>\n",
       "    <tr>\n",
       "      <th>6</th>\n",
       "      <td>positive</td>\n",
       "      <td>For the last quarter of 2010 , Componenta 's n...</td>\n",
       "      <td>positive</td>\n",
       "      <td>0.999853</td>\n",
       "    </tr>\n",
       "    <tr>\n",
       "      <th>7</th>\n",
       "      <td>positive</td>\n",
       "      <td>In the third quarter of 2010 , net sales incre...</td>\n",
       "      <td>positive</td>\n",
       "      <td>0.999842</td>\n",
       "    </tr>\n",
       "    <tr>\n",
       "      <th>8</th>\n",
       "      <td>positive</td>\n",
       "      <td>Operating profit rose to EUR 13.1 mn from EUR ...</td>\n",
       "      <td>positive</td>\n",
       "      <td>0.999813</td>\n",
       "    </tr>\n",
       "    <tr>\n",
       "      <th>9</th>\n",
       "      <td>positive</td>\n",
       "      <td>Operating profit totalled EUR 21.1 mn , up fro...</td>\n",
       "      <td>positive</td>\n",
       "      <td>0.999816</td>\n",
       "    </tr>\n",
       "  </tbody>\n",
       "</table>\n",
       "</div>"
      ],
      "text/plain": [
       "  Sentiment                                           Sentence    y_pred  \\\n",
       "0   neutral  According to Gran , the company has no plans t...   neutral   \n",
       "1   neutral  Technopolis plans to develop in stages an area...   neutral   \n",
       "2  negative  The international electronic industry company ...  negative   \n",
       "3  positive  With the new production plant the company woul...  positive   \n",
       "4  positive  According to the company 's updated strategy f...  positive   \n",
       "5  positive  FINANCING OF ASPOCOMP 'S GROWTH Aspocomp is ag...  positive   \n",
       "6  positive  For the last quarter of 2010 , Componenta 's n...  positive   \n",
       "7  positive  In the third quarter of 2010 , net sales incre...  positive   \n",
       "8  positive  Operating profit rose to EUR 13.1 mn from EUR ...  positive   \n",
       "9  positive  Operating profit totalled EUR 21.1 mn , up fro...  positive   \n",
       "\n",
       "   y_pred_prob  \n",
       "0     0.988819  \n",
       "1     0.999853  \n",
       "2     0.999682  \n",
       "3     0.999855  \n",
       "4     0.999766  \n",
       "5     0.999806  \n",
       "6     0.999853  \n",
       "7     0.999842  \n",
       "8     0.999813  \n",
       "9     0.999816  "
      ]
     },
     "execution_count": 6,
     "metadata": {},
     "output_type": "execute_result"
    }
   ],
   "source": [
    "from transformers import BertTokenizer, BertForSequenceClassification\n",
    "\n",
    "model = BertForSequenceClassification.from_pretrained(\"ahmedrachid/FinancialBERT-Sentiment-Analysis\",num_labels=3)\n",
    "tokenizer = BertTokenizer.from_pretrained(\"ahmedrachid/FinancialBERT-Sentiment-Analysis\")\n",
    "sentiment_model_hf = Sentiment_HuggingFace(\"sentiment-analysis\", model=model, tokenizer=tokenizer)\n",
    "\n",
    "df_test = df.head(15)\n",
    "\n",
    "y_pred = sentiment_model_hf.predict(df_test.Sentence.values.tolist())\n",
    "y_pred_prob = sentiment_model_hf.predict_proba()\n",
    "df_results = df_test.copy()\n",
    "df_results['y_pred'] = y_pred\n",
    "df_results['y_pred_prob'] = y_pred_prob\n",
    "df_results.head(10)"
   ]
  },
  {
   "cell_type": "markdown",
   "metadata": {},
   "source": [
    "## 1. Hugging Face: FinancialBERT-Sentiment-Analysis\n",
    "\n",
    "https://huggingface.co/ahmedrachid/FinancialBERT-Sentiment-Analysis\n",
    "\n",
    "Let's now explore integrating and testing FinancialBERT, a model designed specifically for sentiment analysis in the financial domain."
   ]
  },
  {
   "cell_type": "code",
   "execution_count": 7,
   "metadata": {},
   "outputs": [],
   "source": [
    "from transformers import BertTokenizer, BertForSequenceClassification\n",
    "from transformers import pipeline\n",
    "\n",
    "model = BertForSequenceClassification.from_pretrained(\"ahmedrachid/FinancialBERT-Sentiment-Analysis\",num_labels=3)\n",
    "tokenizer = BertTokenizer.from_pretrained(\"ahmedrachid/FinancialBERT-Sentiment-Analysis\")\n",
    "hfmodel = pipeline(\"sentiment-analysis\", model=model, tokenizer=tokenizer)\n"
   ]
  },
  {
   "cell_type": "markdown",
   "metadata": {},
   "source": [
    "### Initialize VM dataset"
   ]
  },
  {
   "cell_type": "code",
   "execution_count": 8,
   "metadata": {},
   "outputs": [
    {
     "name": "stderr",
     "output_type": "stream",
     "text": [
      "2023-08-31 22:38:47,814 - INFO(validmind.client): Pandas dataset detected. Initializing VM Dataset instance...\n"
     ]
    }
   ],
   "source": [
    "# Load a test dataset with 100 rows only\n",
    "vm_test_ds = vm.init_dataset(\n",
    "    dataset=df.head(100),\n",
    "    text_column=\"Sentence\",\n",
    "    target_column=\"Sentiment\",\n",
    ")"
   ]
  },
  {
   "cell_type": "markdown",
   "metadata": {},
   "source": [
    "### Initialize VM model\n",
    "\n",
    "When initializing a VM model, we pre-calculate predictions on the test dataset. This operation can take a long time for large datasets."
   ]
  },
  {
   "cell_type": "code",
   "execution_count": 9,
   "metadata": {},
   "outputs": [],
   "source": [
    "vm_model = vm.init_model(\n",
    "    hfmodel,\n",
    "    test_ds=vm_test_ds,\n",
    ")"
   ]
  },
  {
   "cell_type": "code",
   "execution_count": 10,
   "metadata": {},
   "outputs": [
    {
     "data": {
      "application/vnd.jupyter.widget-view+json": {
       "model_id": "1788f5d325f34b119ee8136390649f27",
       "version_major": 2,
       "version_minor": 0
      },
      "text/plain": [
       "HBox(children=(Label(value='Running test suite...'), IntProgress(value=0, max=34)))"
      ]
     },
     "metadata": {},
     "output_type": "display_data"
    },
    {
     "name": "stderr",
     "output_type": "stream",
     "text": [
      "2023-08-31 22:38:52,271 - ERROR(validmind.vm_models.test_plan): Failed to run test 'classifier_in_sample_performance': (MissingRequiredTestContextError) Model Training Dataset 'model.train_ds' is a required input and must be passed as a keyword argument to the test plan\n",
      "2023-08-31 22:38:52,278 - ERROR(validmind.vm_models.test_plan): Failed to run test 'pfi': (MissingRequiredTestContextError) Model Training Dataset 'model.train_ds' is a required input and must be passed as a keyword argument to the test plan\n",
      "2023-08-31 22:38:56,636 - ERROR(validmind.vm_models.test_plan): Failed to run test 'pr_curve': (SkipTestError) Precision Recall Curve is only supported for binary classification models\n",
      "2023-08-31 22:39:00,998 - ERROR(validmind.vm_models.test_plan): Failed to run test 'roc_curve': (SkipTestError) ROC Curve is only supported for binary classification models\n",
      "2023-08-31 22:39:00,999 - ERROR(validmind.vm_models.test_plan): Failed to run test 'psi': (MissingRequiredTestContextError) Model Training Dataset 'model.train_ds' is a required input and must be passed as a keyword argument to the test plan\n",
      "2023-08-31 22:39:00,999 - INFO(validmind.tests.model_validation.sklearn.SHAPGlobalImportance): Skiping SHAP for transformers models\n",
      "2023-08-31 22:39:00,999 - INFO(validmind.tests.model_validation.sklearn.SHAPGlobalImportance): Skiping SHAP for transformers models\n",
      "2023-08-31 22:39:01,960 - ERROR(validmind.vm_models.test_plan): Failed to run test 'training_test_degradation': (MissingRequiredTestContextError) Model Training Dataset 'model.train_ds' is a required input and must be passed as a keyword argument to the test plan\n",
      "2023-08-31 22:39:02,166 - ERROR(validmind.vm_models.test_plan): Failed to run test 'overfit_regions': (MissingRequiredTestContextError) Model Training Dataset 'model.train_ds' is a required input and must be passed as a keyword argument to the test plan\n",
      "2023-08-31 22:39:02,168 - ERROR(validmind.vm_models.test_plan): Failed to run test 'weak_spots': (MissingRequiredTestContextError) Model Training Dataset 'model.train_ds' is a required input and must be passed as a keyword argument to the test plan\n",
      "2023-08-31 22:39:02,168 - ERROR(validmind.vm_models.test_plan): Failed to run test 'robustness': (MissingRequiredTestContextError) Model Training Dataset 'model.train_ds' is a required input and must be passed as a keyword argument to the test plan\n"
     ]
    },
    {
     "data": {
      "application/vnd.jupyter.widget-view+json": {
       "model_id": "6b78bb60fbc34efca64ba37ff5e79b0f",
       "version_major": 2,
       "version_minor": 0
      },
      "text/plain": [
       "VBox(children=(HTML(value='<h2>Test Suite Results: <i style=\"color: #DE257E\">Classifier Model Validation</i></…"
      ]
     },
     "metadata": {},
     "output_type": "display_data"
    }
   ],
   "source": [
    "# Some errors are expected since some binary classifier metrics are not applicable to all models\n",
    "full_suite = vm.run_test_suite(\n",
    "    \"classifier_model_validation\",\n",
    "    model=vm_model,\n",
    ")"
   ]
  },
  {
   "cell_type": "markdown",
   "metadata": {},
   "source": [
    "## 2. Hugging Face: distilroberta-finetuned-financial-news-sentiment-analysis\n",
    "\n",
    "https://huggingface.co/mrm8488/distilroberta-finetuned-financial-news-sentiment-analysis\n",
    "\n",
    "The distilroberta model was fine-tuned on the phrasebank dataset: https://huggingface.co/datasets/financial_phrasebank."
   ]
  },
  {
   "cell_type": "code",
   "execution_count": 11,
   "metadata": {},
   "outputs": [],
   "source": [
    "from transformers import AutoTokenizer, AutoModelForSequenceClassification\n",
    "\n",
    "tokenizer = AutoTokenizer.from_pretrained(\"mrm8488/distilroberta-finetuned-financial-news-sentiment-analysis\")\n",
    "model = AutoModelForSequenceClassification.from_pretrained(\"mrm8488/distilroberta-finetuned-financial-news-sentiment-analysis\")\n",
    "hfmodel = pipeline(\"sentiment-analysis\", model=model, tokenizer=tokenizer)\n"
   ]
  },
  {
   "cell_type": "markdown",
   "metadata": {},
   "source": [
    "### Initialize VM model"
   ]
  },
  {
   "cell_type": "code",
   "execution_count": 12,
   "metadata": {},
   "outputs": [],
   "source": [
    "vm_model = vm.init_model(\n",
    "    hfmodel,\n",
    "    test_ds=vm_test_ds,\n",
    ")"
   ]
  },
  {
   "cell_type": "code",
   "execution_count": 13,
   "metadata": {},
   "outputs": [
    {
     "data": {
      "application/vnd.jupyter.widget-view+json": {
       "model_id": "e26132b0f8ed44b0afb8d0f125fa7f31",
       "version_major": 2,
       "version_minor": 0
      },
      "text/plain": [
       "HBox(children=(Label(value='Running test suite...'), IntProgress(value=0, max=34)))"
      ]
     },
     "metadata": {},
     "output_type": "display_data"
    },
    {
     "name": "stderr",
     "output_type": "stream",
     "text": [
      "2023-08-31 22:39:05,449 - ERROR(validmind.vm_models.test_plan): Failed to run test 'classifier_in_sample_performance': (MissingRequiredTestContextError) Model Training Dataset 'model.train_ds' is a required input and must be passed as a keyword argument to the test plan\n",
      "2023-08-31 22:39:05,456 - ERROR(validmind.vm_models.test_plan): Failed to run test 'pfi': (MissingRequiredTestContextError) Model Training Dataset 'model.train_ds' is a required input and must be passed as a keyword argument to the test plan\n",
      "2023-08-31 22:39:07,622 - ERROR(validmind.vm_models.test_plan): Failed to run test 'pr_curve': (SkipTestError) Precision Recall Curve is only supported for binary classification models\n",
      "2023-08-31 22:39:09,794 - ERROR(validmind.vm_models.test_plan): Failed to run test 'roc_curve': (SkipTestError) ROC Curve is only supported for binary classification models\n",
      "2023-08-31 22:39:09,795 - ERROR(validmind.vm_models.test_plan): Failed to run test 'psi': (MissingRequiredTestContextError) Model Training Dataset 'model.train_ds' is a required input and must be passed as a keyword argument to the test plan\n",
      "2023-08-31 22:39:09,795 - INFO(validmind.tests.model_validation.sklearn.SHAPGlobalImportance): Skiping SHAP for transformers models\n",
      "2023-08-31 22:39:09,795 - INFO(validmind.tests.model_validation.sklearn.SHAPGlobalImportance): Skiping SHAP for transformers models\n",
      "2023-08-31 22:39:10,854 - ERROR(validmind.vm_models.test_plan): Failed to run test 'training_test_degradation': (MissingRequiredTestContextError) Model Training Dataset 'model.train_ds' is a required input and must be passed as a keyword argument to the test plan\n",
      "2023-08-31 22:39:11,109 - ERROR(validmind.vm_models.test_plan): Failed to run test 'overfit_regions': (MissingRequiredTestContextError) Model Training Dataset 'model.train_ds' is a required input and must be passed as a keyword argument to the test plan\n",
      "2023-08-31 22:39:11,111 - ERROR(validmind.vm_models.test_plan): Failed to run test 'weak_spots': (MissingRequiredTestContextError) Model Training Dataset 'model.train_ds' is a required input and must be passed as a keyword argument to the test plan\n",
      "2023-08-31 22:39:11,112 - ERROR(validmind.vm_models.test_plan): Failed to run test 'robustness': (MissingRequiredTestContextError) Model Training Dataset 'model.train_ds' is a required input and must be passed as a keyword argument to the test plan\n"
     ]
    },
    {
     "data": {
      "application/vnd.jupyter.widget-view+json": {
       "model_id": "88260765e01b498389737f2a69cfb4ec",
       "version_major": 2,
       "version_minor": 0
      },
      "text/plain": [
       "VBox(children=(HTML(value='<h2>Test Suite Results: <i style=\"color: #DE257E\">Classifier Model Validation</i></…"
      ]
     },
     "metadata": {},
     "output_type": "display_data"
    }
   ],
   "source": [
    "full_suite = vm.run_test_suite(\n",
    "    \"classifier_model_validation\",\n",
    "    dataset=vm_test_ds,\n",
    "    model=vm_model\n",
    ")"
   ]
  },
  {
   "cell_type": "markdown",
   "metadata": {},
   "source": [
    "## 3. Hugging Face: financial-roberta-large-sentiment\n",
    "\n",
    "https://huggingface.co/soleimanian/financial-roberta-large-sentiment\n",
    "\n",
    "The financial-roberta-large model is another financial sentiment analysis model trained on large amounts of data including:\n",
    "\n",
    "- Financial Statements\n",
    "- Earnings Announcements\n",
    "- Earnings Call Transcripts\n",
    "- Corporate Social Responsibility (CSR) Reports\n",
    "- Environmental, Social, and Governance (ESG) News\n",
    "- Financial News\n",
    "- Etc."
   ]
  },
  {
   "cell_type": "code",
   "execution_count": 14,
   "metadata": {},
   "outputs": [],
   "source": [
    "# Load model directly\n",
    "from transformers import AutoTokenizer, AutoModelForSequenceClassification\n",
    "\n",
    "tokenizer = AutoTokenizer.from_pretrained(\"soleimanian/financial-roberta-large-sentiment\")\n",
    "model = AutoModelForSequenceClassification.from_pretrained(\"soleimanian/financial-roberta-large-sentiment\")\n",
    "hfmodel = pipeline(\"sentiment-analysis\", model=model, tokenizer=tokenizer)\n"
   ]
  },
  {
   "cell_type": "code",
   "execution_count": 15,
   "metadata": {},
   "outputs": [],
   "source": [
    "# This model is larger so predictions will take longer. Feel free to adjust the dataset size to make it faster.\n",
    "vm_model = vm.init_model(\n",
    "    hfmodel,\n",
    "    test_ds=vm_test_ds,\n",
    ")"
   ]
  },
  {
   "cell_type": "code",
   "execution_count": 16,
   "metadata": {},
   "outputs": [
    {
     "data": {
      "application/vnd.jupyter.widget-view+json": {
       "model_id": "a61feb6560a84f9b9e3a23a945949ae3",
       "version_major": 2,
       "version_minor": 0
      },
      "text/plain": [
       "HBox(children=(Label(value='Running test suite...'), IntProgress(value=0, max=34)))"
      ]
     },
     "metadata": {},
     "output_type": "display_data"
    },
    {
     "name": "stderr",
     "output_type": "stream",
     "text": [
      "2023-08-31 22:39:27,665 - ERROR(validmind.vm_models.test_plan): Failed to run test 'classifier_in_sample_performance': (MissingRequiredTestContextError) Model Training Dataset 'model.train_ds' is a required input and must be passed as a keyword argument to the test plan\n",
      "2023-08-31 22:39:27,673 - ERROR(validmind.vm_models.test_plan): Failed to run test 'pfi': (MissingRequiredTestContextError) Model Training Dataset 'model.train_ds' is a required input and must be passed as a keyword argument to the test plan\n",
      "2023-08-31 22:39:40,802 - ERROR(validmind.vm_models.test_plan): Failed to run test 'pr_curve': (SkipTestError) Precision Recall Curve is only supported for binary classification models\n",
      "2023-08-31 22:39:53,904 - ERROR(validmind.vm_models.test_plan): Failed to run test 'roc_curve': (SkipTestError) ROC Curve is only supported for binary classification models\n",
      "2023-08-31 22:39:53,905 - ERROR(validmind.vm_models.test_plan): Failed to run test 'psi': (MissingRequiredTestContextError) Model Training Dataset 'model.train_ds' is a required input and must be passed as a keyword argument to the test plan\n",
      "2023-08-31 22:39:53,905 - INFO(validmind.tests.model_validation.sklearn.SHAPGlobalImportance): Skiping SHAP for transformers models\n",
      "2023-08-31 22:39:53,905 - INFO(validmind.tests.model_validation.sklearn.SHAPGlobalImportance): Skiping SHAP for transformers models\n",
      "2023-08-31 22:39:54,931 - ERROR(validmind.vm_models.test_plan): Failed to run test 'training_test_degradation': (MissingRequiredTestContextError) Model Training Dataset 'model.train_ds' is a required input and must be passed as a keyword argument to the test plan\n",
      "2023-08-31 22:39:55,153 - ERROR(validmind.vm_models.test_plan): Failed to run test 'overfit_regions': (MissingRequiredTestContextError) Model Training Dataset 'model.train_ds' is a required input and must be passed as a keyword argument to the test plan\n",
      "2023-08-31 22:39:55,155 - ERROR(validmind.vm_models.test_plan): Failed to run test 'weak_spots': (MissingRequiredTestContextError) Model Training Dataset 'model.train_ds' is a required input and must be passed as a keyword argument to the test plan\n",
      "2023-08-31 22:39:55,156 - ERROR(validmind.vm_models.test_plan): Failed to run test 'robustness': (MissingRequiredTestContextError) Model Training Dataset 'model.train_ds' is a required input and must be passed as a keyword argument to the test plan\n"
     ]
    },
    {
     "data": {
      "application/vnd.jupyter.widget-view+json": {
       "model_id": "b3da114ba82542ed8a52faf742e6b56c",
       "version_major": 2,
       "version_minor": 0
      },
      "text/plain": [
       "VBox(children=(HTML(value='<h2>Test Suite Results: <i style=\"color: #DE257E\">Classifier Model Validation</i></…"
      ]
     },
     "metadata": {},
     "output_type": "display_data"
    }
   ],
   "source": [
    "full_suite = vm.run_test_suite(\n",
    "    \"classifier_model_validation\",\n",
    "    dataset=vm_test_ds,\n",
    "    model=vm_model\n",
    ")"
   ]
  }
 ],
 "metadata": {
  "kernelspec": {
   "display_name": "Dev Framework 3.9.16",
   "language": "python",
   "name": "dev-framework-3.9"
  },
  "language_info": {
   "codemirror_mode": {
    "name": "ipython",
    "version": 3
   },
   "file_extension": ".py",
   "mimetype": "text/x-python",
   "name": "python",
   "nbconvert_exporter": "python",
   "pygments_lexer": "ipython3",
   "version": "3.9.16"
  },
  "orig_nbformat": 4
 },
 "nbformat": 4,
 "nbformat_minor": 2
}
