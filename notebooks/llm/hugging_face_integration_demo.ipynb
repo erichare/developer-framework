{
 "cells": [
  {
   "cell_type": "markdown",
   "metadata": {},
   "source": [
    "# Sensitivity analysis of financial data using Hugging face LLM models\n",
    "This notebook aims to provide an introduction to documenting an LLM model using the ValidMind Developer Framework. The use case presented is a sentiment analysis of financial pharse data (https://huggingface.co/datasets/financial_phrasebank).\n",
    "\n",
    "- Initializing the ValidMind Developer Framework\n",
    "- Running a test various tests to quickly generate document about the data and model\n",
    "\n",
    "## Before you begin\n",
    "\n",
    "To use the ValidMind Developer Framework with a Jupyter notebook, you need to install and initialize the client library first, along with getting your Python environment ready.\n",
    "\n",
    "If you don't already have one, you should also [create a documentation project](https://docs.validmind.ai/guide/create-your-first-documentation-project.html) on the ValidMind platform. You will use this project to upload your documentation and test results.\n",
    "\n",
    "## Install the client library\n"
   ]
  },
  {
   "cell_type": "code",
   "execution_count": 1,
   "metadata": {},
   "outputs": [],
   "source": [
    "# %pip install --upgrade validmind"
   ]
  },
  {
   "cell_type": "markdown",
   "metadata": {},
   "source": [
    "## Initialize the client library\n",
    "\n",
    "In a browser, go to the **Client Integration** page of your documentation project and click **Copy to clipboard** next to the code snippet. This code snippet gives you the API key, API secret, and project identifier to link your notebook to your documentation project.\n",
    "\n",
    "::: {.column-margin}\n",
    "::: {.callout-tip}\n",
    "This step requires a documentation project. [Learn how you can create one](https://docs.validmind.ai/guide/create-your-first-documentation-project.html).\n",
    ":::\n",
    ":::\n",
    "\n",
    "Next, replace this placeholder with your own code snippet:"
   ]
  },
  {
   "cell_type": "code",
   "execution_count": 2,
   "metadata": {},
   "outputs": [
    {
     "name": "stderr",
     "output_type": "stream",
     "text": [
      "2023-08-21 18:06:04,347 - INFO(validmind.api_client): Connected to ValidMind. Project: Sentiment Analysis Hugging Face - Initial Validation (cllll3q9k005aue8hqg76ncnn)\n"
     ]
    }
   ],
   "source": [
    "## Replace the code below with the code snippet from your project ## \n",
    "\n",
    "import validmind as vm\n",
    "\n",
    "vm.init(\n",
    "    api_host = \"https://api.prod.validmind.ai/api/v1/tracking\",\n",
    "    api_key = \"...\",\n",
    "    api_secret = \"...\",\n",
    "    project = \"...\"\n",
    ")"
   ]
  },
  {
   "cell_type": "markdown",
   "metadata": {},
   "source": [
    "### Load Dataset\n",
    "\n",
    "In this section, we'll load the financial phrasebank dataset, which will be the foundation for our sentiment analysis tasks."
   ]
  },
  {
   "cell_type": "code",
   "execution_count": 3,
   "metadata": {},
   "outputs": [
    {
     "data": {
      "text/html": [
       "<div>\n",
       "<style scoped>\n",
       "    .dataframe tbody tr th:only-of-type {\n",
       "        vertical-align: middle;\n",
       "    }\n",
       "\n",
       "    .dataframe tbody tr th {\n",
       "        vertical-align: top;\n",
       "    }\n",
       "\n",
       "    .dataframe thead th {\n",
       "        text-align: right;\n",
       "    }\n",
       "</style>\n",
       "<table border=\"1\" class=\"dataframe\">\n",
       "  <thead>\n",
       "    <tr style=\"text-align: right;\">\n",
       "      <th></th>\n",
       "      <th>Sentiment</th>\n",
       "      <th>Sentence</th>\n",
       "    </tr>\n",
       "  </thead>\n",
       "  <tbody>\n",
       "    <tr>\n",
       "      <th>2473</th>\n",
       "      <td>neutral</td>\n",
       "      <td>HELSINKI AFX - Cargotec said it has bought a 9...</td>\n",
       "    </tr>\n",
       "    <tr>\n",
       "      <th>2742</th>\n",
       "      <td>neutral</td>\n",
       "      <td>According to preliminary information by the Fi...</td>\n",
       "    </tr>\n",
       "    <tr>\n",
       "      <th>4177</th>\n",
       "      <td>negative</td>\n",
       "      <td>As a result , 12 people will be made redundant...</td>\n",
       "    </tr>\n",
       "    <tr>\n",
       "      <th>652</th>\n",
       "      <td>positive</td>\n",
       "      <td>20 October 2010 - Finnish metal products compa...</td>\n",
       "    </tr>\n",
       "    <tr>\n",
       "      <th>3960</th>\n",
       "      <td>neutral</td>\n",
       "      <td>Tyrv+Æinen is of the opinion that the airline ...</td>\n",
       "    </tr>\n",
       "    <tr>\n",
       "      <th>1665</th>\n",
       "      <td>neutral</td>\n",
       "      <td>The uranium found locally is naturally occurri...</td>\n",
       "    </tr>\n",
       "    <tr>\n",
       "      <th>4519</th>\n",
       "      <td>neutral</td>\n",
       "      <td>We offer challenging and interesting employmen...</td>\n",
       "    </tr>\n",
       "    <tr>\n",
       "      <th>2179</th>\n",
       "      <td>positive</td>\n",
       "      <td>Production will expand to other of Elcoteq 's ...</td>\n",
       "    </tr>\n",
       "    <tr>\n",
       "      <th>298</th>\n",
       "      <td>positive</td>\n",
       "      <td>The increase in capital stock has been registe...</td>\n",
       "    </tr>\n",
       "    <tr>\n",
       "      <th>922</th>\n",
       "      <td>positive</td>\n",
       "      <td>- UPM-Kymmene upgraded to ` in-line ' from ` u...</td>\n",
       "    </tr>\n",
       "  </tbody>\n",
       "</table>\n",
       "</div>"
      ],
      "text/plain": [
       "     Sentiment                                           Sentence\n",
       "2473   neutral  HELSINKI AFX - Cargotec said it has bought a 9...\n",
       "2742   neutral  According to preliminary information by the Fi...\n",
       "4177  negative  As a result , 12 people will be made redundant...\n",
       "652   positive  20 October 2010 - Finnish metal products compa...\n",
       "3960   neutral  Tyrv+Æinen is of the opinion that the airline ...\n",
       "1665   neutral  The uranium found locally is naturally occurri...\n",
       "4519   neutral  We offer challenging and interesting employmen...\n",
       "2179  positive  Production will expand to other of Elcoteq 's ...\n",
       "298   positive  The increase in capital stock has been registe...\n",
       "922   positive  - UPM-Kymmene upgraded to ` in-line ' from ` u..."
      ]
     },
     "execution_count": 3,
     "metadata": {},
     "output_type": "execute_result"
    }
   ],
   "source": [
    "import pandas as pd\n",
    "\n",
    "df = pd.read_csv('./datasets/sentiments.csv')\n",
    "sample = df.sample(10)\n",
    "sample"
   ]
  },
  {
   "cell_type": "markdown",
   "metadata": {},
   "source": [
    "## NLP data quality tests\n",
    "\n",
    "Before we proceed with the analysis, it's crucial to ensure the quality of our NLP data. This section runs a data quality test plan to validate the data's integrity and suitability."
   ]
  },
  {
   "cell_type": "code",
   "execution_count": 4,
   "metadata": {},
   "outputs": [
    {
     "name": "stderr",
     "output_type": "stream",
     "text": [
      "2023-08-21 18:06:04,433 - INFO(validmind.client): The 'type' argument to init_dataset() argument is deprecated and no longer required.\n",
      "2023-08-21 18:06:04,434 - INFO(validmind.client): Pandas dataset detected. Initializing VM Dataset instance...\n"
     ]
    },
    {
     "data": {
      "application/vnd.jupyter.widget-view+json": {
       "model_id": "068cd70664e5474ba938fd27131ac7e8",
       "version_major": 2,
       "version_minor": 0
      },
      "text/plain": [
       "HBox(children=(Label(value='Running test plan...'), IntProgress(value=0, max=14)))"
      ]
     },
     "metadata": {},
     "output_type": "display_data"
    },
    {
     "name": "stderr",
     "output_type": "stream",
     "text": [
      "[nltk_data] Downloading package stopwords to\n",
      "[nltk_data]     /Users/andres/nltk_data...\n",
      "[nltk_data]   Package stopwords is already up-to-date!\n",
      "[nltk_data] Downloading package stopwords to\n",
      "[nltk_data]     /Users/andres/nltk_data...\n",
      "[nltk_data]   Package stopwords is already up-to-date!\n"
     ]
    },
    {
     "data": {
      "application/vnd.jupyter.widget-view+json": {
       "model_id": "10706092c87b468b9d85a9ff11e7df0a",
       "version_major": 2,
       "version_minor": 0
      },
      "text/plain": [
       "VBox(children=(HTML(value='<h2>Results for <i>Text Data Quality</i> Test Plan:</h2><hr>'), HTML(value='<div cl…"
      ]
     },
     "metadata": {},
     "output_type": "display_data"
    }
   ],
   "source": [
    "vm_ds = vm.init_dataset(dataset=df, type=\"generic\", text_column='Sentence', target_column=\"Sentiment\")\n",
    "text_data_test_plan = vm.run_test_plan(\"text_data_quality\",\n",
    "                                       dataset=vm_ds)"
   ]
  },
  {
   "cell_type": "markdown",
   "metadata": {},
   "source": [
    "## Hugging face transformers"
   ]
  },
  {
   "cell_type": "markdown",
   "metadata": {},
   "source": [
    "### Example model wrapper\n",
    "\n",
    "The following code template showcases how to wrap a Hugging Face model for compatibility with the ValidMind Developer Framework. We will load an example model using the transformers API and then run some predictions on our test dataset.\n",
    "\n",
    "The ValidMind developer framework provides support for Hugging Face transformers out of the box, so in the following section we will show how to initialize multiple transformers models with the `init_model` function, removing the need for a custom wrapper. In cases where you need extra pre-processing or post-processing steps, you can use the following code template as a starting point to wrap your model."
   ]
  },
  {
   "cell_type": "code",
   "execution_count": 5,
   "metadata": {},
   "outputs": [],
   "source": [
    "from transformers import pipeline\n",
    "from dataclasses import dataclass\n",
    "@dataclass\n",
    "\n",
    "class Sentiment_HuggingFace:\n",
    "    \"\"\"\n",
    "    A VM Model instance wrapper only requires a predict and predict_proba method.\n",
    "    \"\"\"\n",
    "\n",
    "    predicted_prob_values = None\n",
    "\n",
    "    def __init__(self, pipeline_task, model_name=None, model=None, tokenizer=None):\n",
    "        self.model_name = model_name\n",
    "        self.pipeline_task = pipeline_task\n",
    "        self.model = pipeline(pipeline_task, model=model, tokenizer=tokenizer)\n",
    "\n",
    "    def predict(self, data):\n",
    "        data = [str(datapoint) for datapoint in data]\n",
    "        results = []\n",
    "        results = self.model(data)\n",
    "        results_df = pd.DataFrame(results)\n",
    "        self.predicted_prob_values = results_df.score.values\n",
    "        return results_df.label.values\n",
    "\n",
    "    def predict_proba(self):\n",
    "        if self.predicted_prob_values is None:\n",
    "            raise ValueError(\"First run predict method to retrieve predicted probabilities\")\n",
    "        return self.predicted_prob_values\n"
   ]
  },
  {
   "cell_type": "code",
   "execution_count": 7,
   "metadata": {},
   "outputs": [
    {
     "name": "stderr",
     "output_type": "stream",
     "text": [
      "Xformers is not installed correctly. If you want to use memory_efficient_attention to accelerate training use the following command to install Xformers\n",
      "pip install xformers.\n"
     ]
    },
    {
     "data": {
      "text/html": [
       "<div>\n",
       "<style scoped>\n",
       "    .dataframe tbody tr th:only-of-type {\n",
       "        vertical-align: middle;\n",
       "    }\n",
       "\n",
       "    .dataframe tbody tr th {\n",
       "        vertical-align: top;\n",
       "    }\n",
       "\n",
       "    .dataframe thead th {\n",
       "        text-align: right;\n",
       "    }\n",
       "</style>\n",
       "<table border=\"1\" class=\"dataframe\">\n",
       "  <thead>\n",
       "    <tr style=\"text-align: right;\">\n",
       "      <th></th>\n",
       "      <th>Sentiment</th>\n",
       "      <th>Sentence</th>\n",
       "      <th>y_pred</th>\n",
       "      <th>y_pred_prob</th>\n",
       "    </tr>\n",
       "  </thead>\n",
       "  <tbody>\n",
       "    <tr>\n",
       "      <th>0</th>\n",
       "      <td>neutral</td>\n",
       "      <td>According to Gran , the company has no plans t...</td>\n",
       "      <td>neutral</td>\n",
       "      <td>0.988819</td>\n",
       "    </tr>\n",
       "    <tr>\n",
       "      <th>1</th>\n",
       "      <td>neutral</td>\n",
       "      <td>Technopolis plans to develop in stages an area...</td>\n",
       "      <td>neutral</td>\n",
       "      <td>0.999853</td>\n",
       "    </tr>\n",
       "    <tr>\n",
       "      <th>2</th>\n",
       "      <td>negative</td>\n",
       "      <td>The international electronic industry company ...</td>\n",
       "      <td>negative</td>\n",
       "      <td>0.999682</td>\n",
       "    </tr>\n",
       "    <tr>\n",
       "      <th>3</th>\n",
       "      <td>positive</td>\n",
       "      <td>With the new production plant the company woul...</td>\n",
       "      <td>positive</td>\n",
       "      <td>0.999855</td>\n",
       "    </tr>\n",
       "    <tr>\n",
       "      <th>4</th>\n",
       "      <td>positive</td>\n",
       "      <td>According to the company 's updated strategy f...</td>\n",
       "      <td>positive</td>\n",
       "      <td>0.999766</td>\n",
       "    </tr>\n",
       "    <tr>\n",
       "      <th>5</th>\n",
       "      <td>positive</td>\n",
       "      <td>FINANCING OF ASPOCOMP 'S GROWTH Aspocomp is ag...</td>\n",
       "      <td>positive</td>\n",
       "      <td>0.999806</td>\n",
       "    </tr>\n",
       "    <tr>\n",
       "      <th>6</th>\n",
       "      <td>positive</td>\n",
       "      <td>For the last quarter of 2010 , Componenta 's n...</td>\n",
       "      <td>positive</td>\n",
       "      <td>0.999853</td>\n",
       "    </tr>\n",
       "    <tr>\n",
       "      <th>7</th>\n",
       "      <td>positive</td>\n",
       "      <td>In the third quarter of 2010 , net sales incre...</td>\n",
       "      <td>positive</td>\n",
       "      <td>0.999842</td>\n",
       "    </tr>\n",
       "    <tr>\n",
       "      <th>8</th>\n",
       "      <td>positive</td>\n",
       "      <td>Operating profit rose to EUR 13.1 mn from EUR ...</td>\n",
       "      <td>positive</td>\n",
       "      <td>0.999813</td>\n",
       "    </tr>\n",
       "    <tr>\n",
       "      <th>9</th>\n",
       "      <td>positive</td>\n",
       "      <td>Operating profit totalled EUR 21.1 mn , up fro...</td>\n",
       "      <td>positive</td>\n",
       "      <td>0.999816</td>\n",
       "    </tr>\n",
       "  </tbody>\n",
       "</table>\n",
       "</div>"
      ],
      "text/plain": [
       "  Sentiment                                           Sentence    y_pred  \\\n",
       "0   neutral  According to Gran , the company has no plans t...   neutral   \n",
       "1   neutral  Technopolis plans to develop in stages an area...   neutral   \n",
       "2  negative  The international electronic industry company ...  negative   \n",
       "3  positive  With the new production plant the company woul...  positive   \n",
       "4  positive  According to the company 's updated strategy f...  positive   \n",
       "5  positive  FINANCING OF ASPOCOMP 'S GROWTH Aspocomp is ag...  positive   \n",
       "6  positive  For the last quarter of 2010 , Componenta 's n...  positive   \n",
       "7  positive  In the third quarter of 2010 , net sales incre...  positive   \n",
       "8  positive  Operating profit rose to EUR 13.1 mn from EUR ...  positive   \n",
       "9  positive  Operating profit totalled EUR 21.1 mn , up fro...  positive   \n",
       "\n",
       "   y_pred_prob  \n",
       "0     0.988819  \n",
       "1     0.999853  \n",
       "2     0.999682  \n",
       "3     0.999855  \n",
       "4     0.999766  \n",
       "5     0.999806  \n",
       "6     0.999853  \n",
       "7     0.999842  \n",
       "8     0.999813  \n",
       "9     0.999816  "
      ]
     },
     "execution_count": 7,
     "metadata": {},
     "output_type": "execute_result"
    }
   ],
   "source": [
    "from transformers import BertTokenizer, BertForSequenceClassification\n",
    "\n",
    "model = BertForSequenceClassification.from_pretrained(\"ahmedrachid/FinancialBERT-Sentiment-Analysis\",num_labels=3)\n",
    "tokenizer = BertTokenizer.from_pretrained(\"ahmedrachid/FinancialBERT-Sentiment-Analysis\")\n",
    "sentiment_model_hf = Sentiment_HuggingFace(\"sentiment-analysis\", model=model, tokenizer=tokenizer)\n",
    "\n",
    "df_test = df.head(15)\n",
    "\n",
    "y_pred = sentiment_model_hf.predict(df_test.Sentence.values.tolist())\n",
    "y_pred_prob = sentiment_model_hf.predict_proba()\n",
    "df_results = df_test.copy()\n",
    "df_results['y_pred'] = y_pred\n",
    "df_results['y_pred_prob'] = y_pred_prob\n",
    "df_results.head(10)"
   ]
  },
  {
   "cell_type": "markdown",
   "metadata": {},
   "source": [
    "## 1. Hugging Face: FinancialBERT-Sentiment-Analysis\n",
    "\n",
    "https://huggingface.co/ahmedrachid/FinancialBERT-Sentiment-Analysis\n",
    "\n",
    "Let's now explore integrating and testing FinancialBERT, a model designed specifically for sentiment analysis in the financial domain."
   ]
  },
  {
   "cell_type": "code",
   "execution_count": 8,
   "metadata": {},
   "outputs": [],
   "source": [
    "from transformers import BertTokenizer, BertForSequenceClassification\n",
    "from transformers import pipeline\n",
    "\n",
    "model = BertForSequenceClassification.from_pretrained(\"ahmedrachid/FinancialBERT-Sentiment-Analysis\",num_labels=3)\n",
    "tokenizer = BertTokenizer.from_pretrained(\"ahmedrachid/FinancialBERT-Sentiment-Analysis\")\n",
    "hfmodel = pipeline(\"sentiment-analysis\", model=model, tokenizer=tokenizer)\n"
   ]
  },
  {
   "cell_type": "markdown",
   "metadata": {},
   "source": [
    "### Initialize VM dataset"
   ]
  },
  {
   "cell_type": "code",
   "execution_count": 18,
   "metadata": {},
   "outputs": [
    {
     "name": "stderr",
     "output_type": "stream",
     "text": [
      "2023-08-21 18:15:33,397 - INFO(validmind.client): Pandas dataset detected. Initializing VM Dataset instance...\n"
     ]
    }
   ],
   "source": [
    "# Load a test dataset with 100 rows only\n",
    "vm_test_ds = vm.init_dataset(\n",
    "    dataset=df.head(1000),\n",
    "    text_column=\"Sentence\",\n",
    "    target_column=\"Sentiment\",\n",
    ")"
   ]
  },
  {
   "cell_type": "markdown",
   "metadata": {},
   "source": [
    "### Initialize VM model\n",
    "\n",
    "When initializing a VM model, we pre-calculate predictions on the test dataset. This operation can take a long time for large datasets."
   ]
  },
  {
   "cell_type": "code",
   "execution_count": 19,
   "metadata": {},
   "outputs": [],
   "source": [
    "vm_model = vm.init_model(\n",
    "    hfmodel,\n",
    "    train_ds=vm_test_ds,\n",
    "    test_ds=vm_test_ds,\n",
    ")"
   ]
  },
  {
   "cell_type": "code",
   "execution_count": 20,
   "metadata": {},
   "outputs": [
    {
     "data": {
      "application/vnd.jupyter.widget-view+json": {
       "model_id": "19a6d9dac37d4a958493775f1e58c4d6",
       "version_major": 2,
       "version_minor": 0
      },
      "text/plain": [
       "HBox(children=(Label(value='Running test suite...'), IntProgress(value=0, max=34)))"
      ]
     },
     "metadata": {},
     "output_type": "display_data"
    },
    {
     "name": "stderr",
     "output_type": "stream",
     "text": [
      "2023-08-21 18:16:17,458 - ERROR(validmind.vm_models.test_plan): Failed to run test 'pfi': The 'estimator' parameter of permutation_importance must be an object implementing 'fit'. Got <transformers.pipelines.text_classification.TextClassificationPipeline object at 0x29f07edf0> instead.\n",
      "2023-08-21 18:16:17,469 - ERROR(validmind.vm_models.test_plan): Failed to run test 'pr_curve': Model requires a implemention of predict_proba method with 1 argument that is tensor features matrix\n",
      "2023-08-21 18:16:17,471 - ERROR(validmind.vm_models.test_plan): Failed to run test 'roc_curve': Model requires a implemention of predict_proba method with 1 argument that is tensor features matrix\n",
      "2023-08-21 18:16:17,474 - ERROR(validmind.vm_models.test_plan): Failed to run test 'psi': Model requires a implemention of predict_proba method with 1 argument that is tensor features matrix\n",
      "2023-08-21 18:16:17,479 - ERROR(validmind.vm_models.test_plan): Failed to run test 'shap': Model TextClassificationPipeline not supported for SHAP importance.\n",
      "2023-08-21 18:16:19,191 - ERROR(validmind.vm_models.test_plan): Failed to run test 'overfit_regions': Skiping Overfit Diagnosis test for the dataset with text column\n",
      "2023-08-21 18:16:19,192 - ERROR(validmind.vm_models.test_plan): Failed to run test 'weak_spots': Skiping Weakspots Diagnosis test for the dataset with text column\n",
      "2023-08-21 18:16:19,193 - ERROR(validmind.vm_models.test_plan): Failed to run test 'robustness': Skiping Robustness Diagnosis test for the dataset with text column\n"
     ]
    },
    {
     "data": {
      "application/vnd.jupyter.widget-view+json": {
       "model_id": "53e68d9db0fd42ecb57aa39c8c262f40",
       "version_major": 2,
       "version_minor": 0
      },
      "text/plain": [
       "VBox(children=(HTML(value='<h2>Test Suite Results: <i style=\"color: #DE257E\">Binary Classifier Model Validatio…"
      ]
     },
     "metadata": {},
     "output_type": "display_data"
    }
   ],
   "source": [
    "# Some errors are expected since some binary classifier metrics are not applicable to all models\n",
    "full_suite = vm.run_test_suite(\n",
    "    \"binary_classifier_model_validation\",\n",
    "    dataset=vm_test_ds,\n",
    "    model=vm_model\n",
    ")"
   ]
  },
  {
   "cell_type": "markdown",
   "metadata": {},
   "source": [
    "## 2. Hugging Face: distilroberta-finetuned-financial-news-sentiment-analysis\n",
    "\n",
    "https://huggingface.co/mrm8488/distilroberta-finetuned-financial-news-sentiment-analysis\n",
    "\n",
    "The distilroberta model was fine-tuned on the phrasebank dataset: https://huggingface.co/datasets/financial_phrasebank."
   ]
  },
  {
   "cell_type": "code",
   "execution_count": 21,
   "metadata": {},
   "outputs": [],
   "source": [
    "from transformers import AutoTokenizer, AutoModelForSequenceClassification\n",
    "\n",
    "tokenizer = AutoTokenizer.from_pretrained(\"mrm8488/distilroberta-finetuned-financial-news-sentiment-analysis\")\n",
    "model = AutoModelForSequenceClassification.from_pretrained(\"mrm8488/distilroberta-finetuned-financial-news-sentiment-analysis\")\n",
    "hfmodel = pipeline(\"sentiment-analysis\", model=model, tokenizer=tokenizer)\n"
   ]
  },
  {
   "cell_type": "markdown",
   "metadata": {},
   "source": [
    "### Initialize VM model"
   ]
  },
  {
   "cell_type": "code",
   "execution_count": 22,
   "metadata": {},
   "outputs": [],
   "source": [
    "vm_model = vm.init_model(\n",
    "    hfmodel,\n",
    "    test_ds=vm_test_ds,\n",
    "    train_ds=vm_test_ds,\n",
    ")"
   ]
  },
  {
   "cell_type": "code",
   "execution_count": 23,
   "metadata": {},
   "outputs": [
    {
     "data": {
      "application/vnd.jupyter.widget-view+json": {
       "model_id": "e1ae44e67c794cf38015ddda22ea3231",
       "version_major": 2,
       "version_minor": 0
      },
      "text/plain": [
       "HBox(children=(Label(value='Running test suite...'), IntProgress(value=0, max=34)))"
      ]
     },
     "metadata": {},
     "output_type": "display_data"
    },
    {
     "name": "stderr",
     "output_type": "stream",
     "text": [
      "2023-08-21 18:17:48,947 - ERROR(validmind.vm_models.test_plan): Failed to run test 'pfi': The 'estimator' parameter of permutation_importance must be an object implementing 'fit'. Got <transformers.pipelines.text_classification.TextClassificationPipeline object at 0x2a0150a00> instead.\n",
      "2023-08-21 18:17:48,948 - ERROR(validmind.vm_models.test_plan): Failed to run test 'pr_curve': Model requires a implemention of predict_proba method with 1 argument that is tensor features matrix\n",
      "2023-08-21 18:17:48,948 - ERROR(validmind.vm_models.test_plan): Failed to run test 'roc_curve': Model requires a implemention of predict_proba method with 1 argument that is tensor features matrix\n",
      "2023-08-21 18:17:48,949 - ERROR(validmind.vm_models.test_plan): Failed to run test 'psi': Model requires a implemention of predict_proba method with 1 argument that is tensor features matrix\n",
      "2023-08-21 18:17:48,950 - ERROR(validmind.vm_models.test_plan): Failed to run test 'shap': Model TextClassificationPipeline not supported for SHAP importance.\n",
      "2023-08-21 18:17:50,651 - ERROR(validmind.vm_models.test_plan): Failed to run test 'overfit_regions': Skiping Overfit Diagnosis test for the dataset with text column\n",
      "2023-08-21 18:17:50,653 - ERROR(validmind.vm_models.test_plan): Failed to run test 'weak_spots': Skiping Weakspots Diagnosis test for the dataset with text column\n",
      "2023-08-21 18:17:50,654 - ERROR(validmind.vm_models.test_plan): Failed to run test 'robustness': Skiping Robustness Diagnosis test for the dataset with text column\n"
     ]
    },
    {
     "data": {
      "application/vnd.jupyter.widget-view+json": {
       "model_id": "5900df7d7460438a92d92ecb36758d73",
       "version_major": 2,
       "version_minor": 0
      },
      "text/plain": [
       "VBox(children=(HTML(value='<h2>Test Suite Results: <i style=\"color: #DE257E\">Binary Classifier Model Validatio…"
      ]
     },
     "metadata": {},
     "output_type": "display_data"
    }
   ],
   "source": [
    "full_suite = vm.run_test_suite(\n",
    "    \"binary_classifier_model_validation\",\n",
    "    dataset=vm_test_ds,\n",
    "    model=vm_model\n",
    ")"
   ]
  },
  {
   "cell_type": "markdown",
   "metadata": {},
   "source": [
    "## 3. Hugging Face: financial-roberta-large-sentiment\n",
    "\n",
    "https://huggingface.co/soleimanian/financial-roberta-large-sentiment\n",
    "\n",
    "The financial-roberta-large model is another financial sentiment analysis model trained on large amounts of data including:\n",
    "\n",
    "- Financial Statements\n",
    "- Earnings Announcements\n",
    "- Earnings Call Transcripts\n",
    "- Corporate Social Responsibility (CSR) Reports\n",
    "- Environmental, Social, and Governance (ESG) News\n",
    "- Financial News\n",
    "- Etc."
   ]
  },
  {
   "cell_type": "code",
   "execution_count": 24,
   "metadata": {},
   "outputs": [
    {
     "data": {
      "application/vnd.jupyter.widget-view+json": {
       "model_id": "8f0851da71da401fa1d5495130f346a5",
       "version_major": 2,
       "version_minor": 0
      },
      "text/plain": [
       "Downloading (…)lve/main/config.json:   0%|          | 0.00/936 [00:00<?, ?B/s]"
      ]
     },
     "metadata": {},
     "output_type": "display_data"
    },
    {
     "data": {
      "application/vnd.jupyter.widget-view+json": {
       "model_id": "a8e7d833c0b54673922ad2995bbac3da",
       "version_major": 2,
       "version_minor": 0
      },
      "text/plain": [
       "Downloading (…)olve/main/vocab.json:   0%|          | 0.00/798k [00:00<?, ?B/s]"
      ]
     },
     "metadata": {},
     "output_type": "display_data"
    },
    {
     "data": {
      "application/vnd.jupyter.widget-view+json": {
       "model_id": "15d7a693a68b4a7ba93faeef9b21cf5a",
       "version_major": 2,
       "version_minor": 0
      },
      "text/plain": [
       "Downloading (…)olve/main/merges.txt:   0%|          | 0.00/456k [00:00<?, ?B/s]"
      ]
     },
     "metadata": {},
     "output_type": "display_data"
    },
    {
     "data": {
      "application/vnd.jupyter.widget-view+json": {
       "model_id": "316fb022babc4effa3bd693aec2e125f",
       "version_major": 2,
       "version_minor": 0
      },
      "text/plain": [
       "Downloading (…)/main/tokenizer.json:   0%|          | 0.00/1.36M [00:00<?, ?B/s]"
      ]
     },
     "metadata": {},
     "output_type": "display_data"
    },
    {
     "data": {
      "application/vnd.jupyter.widget-view+json": {
       "model_id": "4e9c27221399476fb7c1df4100f0599a",
       "version_major": 2,
       "version_minor": 0
      },
      "text/plain": [
       "Downloading (…)cial_tokens_map.json:   0%|          | 0.00/239 [00:00<?, ?B/s]"
      ]
     },
     "metadata": {},
     "output_type": "display_data"
    },
    {
     "data": {
      "application/vnd.jupyter.widget-view+json": {
       "model_id": "96df186b370343f8be53c87f307297c5",
       "version_major": 2,
       "version_minor": 0
      },
      "text/plain": [
       "Downloading pytorch_model.bin:   0%|          | 0.00/1.42G [00:00<?, ?B/s]"
      ]
     },
     "metadata": {},
     "output_type": "display_data"
    }
   ],
   "source": [
    "# Load model directly\n",
    "from transformers import AutoTokenizer, AutoModelForSequenceClassification\n",
    "\n",
    "tokenizer = AutoTokenizer.from_pretrained(\"soleimanian/financial-roberta-large-sentiment\")\n",
    "model = AutoModelForSequenceClassification.from_pretrained(\"soleimanian/financial-roberta-large-sentiment\")\n",
    "hfmodel = pipeline(\"sentiment-analysis\", model=model, tokenizer=tokenizer)\n"
   ]
  },
  {
   "cell_type": "code",
   "execution_count": 25,
   "metadata": {},
   "outputs": [],
   "source": [
    "# This model is larger so predictions will take longer. Feel free to adjust the dataset size to make it faster.\n",
    "vm_model = vm.init_model(\n",
    "    hfmodel,\n",
    "    test_ds=vm_test_ds,\n",
    "    train_ds=vm_test_ds,\n",
    ")"
   ]
  },
  {
   "cell_type": "code",
   "execution_count": 26,
   "metadata": {},
   "outputs": [
    {
     "data": {
      "application/vnd.jupyter.widget-view+json": {
       "model_id": "da5e65f29fb245d0b9006db2151e0e94",
       "version_major": 2,
       "version_minor": 0
      },
      "text/plain": [
       "HBox(children=(Label(value='Running test suite...'), IntProgress(value=0, max=34)))"
      ]
     },
     "metadata": {},
     "output_type": "display_data"
    },
    {
     "name": "stderr",
     "output_type": "stream",
     "text": [
      "2023-08-21 18:24:38,975 - ERROR(validmind.vm_models.test_plan): Failed to run test 'pfi': The 'estimator' parameter of permutation_importance must be an object implementing 'fit'. Got <transformers.pipelines.text_classification.TextClassificationPipeline object at 0x2b35c3190> instead.\n",
      "2023-08-21 18:24:38,976 - ERROR(validmind.vm_models.test_plan): Failed to run test 'pr_curve': Model requires a implemention of predict_proba method with 1 argument that is tensor features matrix\n",
      "2023-08-21 18:24:38,977 - ERROR(validmind.vm_models.test_plan): Failed to run test 'roc_curve': Model requires a implemention of predict_proba method with 1 argument that is tensor features matrix\n",
      "2023-08-21 18:24:38,980 - ERROR(validmind.vm_models.test_plan): Failed to run test 'psi': Model requires a implemention of predict_proba method with 1 argument that is tensor features matrix\n",
      "2023-08-21 18:24:38,982 - ERROR(validmind.vm_models.test_plan): Failed to run test 'shap': Model TextClassificationPipeline not supported for SHAP importance.\n",
      "2023-08-21 18:24:40,740 - ERROR(validmind.vm_models.test_plan): Failed to run test 'overfit_regions': Skiping Overfit Diagnosis test for the dataset with text column\n",
      "2023-08-21 18:24:40,742 - ERROR(validmind.vm_models.test_plan): Failed to run test 'weak_spots': Skiping Weakspots Diagnosis test for the dataset with text column\n",
      "2023-08-21 18:24:40,742 - ERROR(validmind.vm_models.test_plan): Failed to run test 'robustness': Skiping Robustness Diagnosis test for the dataset with text column\n"
     ]
    },
    {
     "data": {
      "application/vnd.jupyter.widget-view+json": {
       "model_id": "f5a663e12a744ba78709f2f90034f4f6",
       "version_major": 2,
       "version_minor": 0
      },
      "text/plain": [
       "VBox(children=(HTML(value='<h2>Test Suite Results: <i style=\"color: #DE257E\">Binary Classifier Model Validatio…"
      ]
     },
     "metadata": {},
     "output_type": "display_data"
    }
   ],
   "source": [
    "full_suite = vm.run_test_suite(\n",
    "    \"binary_classifier_model_validation\",\n",
    "    dataset=vm_test_ds,\n",
    "    model=vm_model\n",
    ")"
   ]
  }
 ],
 "metadata": {
  "kernelspec": {
   "display_name": "Dev Framework 3.9.16",
   "language": "python",
   "name": "dev-framework-3.9"
  },
  "language_info": {
   "codemirror_mode": {
    "name": "ipython",
    "version": 3
   },
   "file_extension": ".py",
   "mimetype": "text/x-python",
   "name": "python",
   "nbconvert_exporter": "python",
   "pygments_lexer": "ipython3",
   "version": "3.9.16"
  },
  "orig_nbformat": 4
 },
 "nbformat": 4,
 "nbformat_minor": 2
}
