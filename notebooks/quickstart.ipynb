{
 "cells": [
  {
   "cell_type": "code",
   "execution_count": 1,
   "metadata": {},
   "outputs": [
    {
     "data": {
      "text/plain": [
       "True"
      ]
     },
     "execution_count": 1,
     "metadata": {},
     "output_type": "execute_result"
    }
   ],
   "source": [
    "# Quick hack to load local library code\n",
    "import os\n",
    "\n",
    "os.chdir(os.path.join(os.getcwd(), \"..\"))\n",
    "\n",
    "# Load API key and secret from environment variables\n",
    "from dotenv import load_dotenv\n",
    "load_dotenv()"
   ]
  },
  {
   "cell_type": "code",
   "execution_count": 2,
   "metadata": {},
   "outputs": [],
   "source": [
    "import pandas as pd\n",
    "import statsmodels.api as sm\n",
    "\n",
    "from sklearn.metrics import accuracy_score, precision_recall_curve\n",
    "from sklearn.model_selection import train_test_split\n",
    "\n",
    "%matplotlib inline"
   ]
  },
  {
   "cell_type": "code",
   "execution_count": 3,
   "metadata": {},
   "outputs": [
    {
     "data": {
      "text/plain": [
       "True"
      ]
     },
     "execution_count": 3,
     "metadata": {},
     "output_type": "execute_result"
    }
   ],
   "source": [
    "import validmind as vm\n",
    "\n",
    "# local clb168jzz0000928h07nbs1o9\n",
    "# staging clb5bf15i000b1smvawuoi4u0\n",
    "\n",
    "vm.init(\n",
    "    # api_host=\"https://api.staging.vm.validmind.ai/api/v1/tracking\",\n",
    "    # project=\"clb5bf15i000b1smvawuoi4u0\"\n",
    "    project=\"clb168jzz0000928h07nbs1o9\"\n",
    ")"
   ]
  },
  {
   "cell_type": "code",
   "execution_count": 4,
   "metadata": {},
   "outputs": [
    {
     "name": "stdout",
     "output_type": "stream",
     "text": [
      "Analyzing dataset...\n",
      "Pandas dataset detected.\n",
      "Inferring dataset types...\n",
      "Preparing in-memory dataset copy...\n",
      "Calculating field statistics...\n",
      "Calculating feature correlations...\n",
      "Generating correlation plots...\n",
      "Successfully logged dataset metadata and statistics.\n",
      "Running data quality tests...\n",
      "Running data quality tests for \"training\" dataset...\n",
      "\n",
      "Preparing dataset for tests...\n",
      "Preparing in-memory dataset copy...\n"
     ]
    },
    {
     "name": "stderr",
     "output_type": "stream",
     "text": [
      "  0%|          | 0/6 [00:00<?, ?it/s]"
     ]
    },
    {
     "name": "stdout",
     "output_type": "stream",
     "text": [
      "Skipping class_imbalance test because no target column is defined\n"
     ]
    },
    {
     "name": "stderr",
     "output_type": "stream",
     "text": [
      "100%|██████████| 6/6 [00:02<00:00,  2.60it/s]\n"
     ]
    },
    {
     "name": "stdout",
     "output_type": "stream",
     "text": [
      "\n",
      "Test suite has completed.\n",
      "Sending results to ValidMind...\n",
      "Successfully logged test results for test: duplicates\n",
      "Successfully logged test results for test: cardinality\n",
      "Successfully logged test results for test: missing\n",
      "Successfully logged test results for test: skewness\n",
      "Successfully logged test results for test: zeros\n",
      "\n",
      "Summary of results:\n",
      "\n",
      "Test         Passed      # Passed    # Errors    % Passed\n",
      "-----------  --------  ----------  ----------  ----------\n",
      "duplicates   False              0           1           0\n",
      "cardinality  True               6           0         100\n",
      "missing      True               9           0         100\n",
      "skewness     False              2           1     66.6667\n",
      "zeros        False              0           1           0\n",
      "\n"
     ]
    }
   ],
   "source": [
    "df = pd.read_csv(\"notebooks/insurance_mortality/insurance_dataset.csv\")\n",
    "\n",
    "targets = vm.DatasetTargets(\n",
    "    target_column=\"Number_Of_Deaths\",\n",
    "    description=\"Number of deaths for a group of policyholders\",\n",
    ")\n",
    "\n",
    "analyze_results = vm.analyze_dataset(\n",
    "    dataset=df,\n",
    "    dataset_type=\"training\",\n",
    "    targets=targets,\n",
    ")"
   ]
  },
  {
   "cell_type": "code",
   "execution_count": 5,
   "metadata": {},
   "outputs": [],
   "source": [
    "model = sm.load('notebooks/insurance_mortality/mortality_model.pickle')"
   ]
  },
  {
   "cell_type": "code",
   "execution_count": 6,
   "metadata": {},
   "outputs": [],
   "source": [
    "train_df = pd.read_csv(\"notebooks/insurance_mortality/train_df.csv\")\n",
    "test_df = pd.read_csv(\"notebooks/insurance_mortality/test_df.csv\")"
   ]
  },
  {
   "cell_type": "code",
   "execution_count": 7,
   "metadata": {},
   "outputs": [],
   "source": [
    "x_train = train_df.drop(\"Number_Of_Deaths\", axis=1)\n",
    "y_train = train_df.loc[:, \"Number_Of_Deaths\"].astype(int)\n",
    "\n",
    "x_test = test_df.drop(\"Number_Of_Deaths\", axis=1)\n",
    "y_test = test_df.loc[:, \"Number_Of_Deaths\"].astype(int)"
   ]
  },
  {
   "cell_type": "code",
   "execution_count": 8,
   "metadata": {},
   "outputs": [
    {
     "name": "stdout",
     "output_type": "stream",
     "text": [
      "Logging model metadata and parameters...\n",
      "Extracting training/validation set metrics from trained model...\n"
     ]
    },
    {
     "ename": "UnboundLocalError",
     "evalue": "local variable 'metrics' referenced before assignment",
     "output_type": "error",
     "traceback": [
      "\u001b[0;31m---------------------------------------------------------------------------\u001b[0m",
      "\u001b[0;31mUnboundLocalError\u001b[0m                         Traceback (most recent call last)",
      "\u001b[1;32m/Users/andres/code/validmind-sdk/notebooks/quickstart.ipynb Cell 8\u001b[0m in \u001b[0;36m<cell line: 1>\u001b[0;34m()\u001b[0m\n\u001b[0;32m----> <a href='vscode-notebook-cell:/Users/andres/code/validmind-sdk/notebooks/quickstart.ipynb#W5sZmlsZQ%3D%3D?line=0'>1</a>\u001b[0m eval_results \u001b[39m=\u001b[39m vm\u001b[39m.\u001b[39;49mevaluate_model(\n\u001b[1;32m      <a href='vscode-notebook-cell:/Users/andres/code/validmind-sdk/notebooks/quickstart.ipynb#W5sZmlsZQ%3D%3D?line=1'>2</a>\u001b[0m     model,\n\u001b[1;32m      <a href='vscode-notebook-cell:/Users/andres/code/validmind-sdk/notebooks/quickstart.ipynb#W5sZmlsZQ%3D%3D?line=2'>3</a>\u001b[0m     train_set\u001b[39m=\u001b[39;49m(x_train, y_train),    \n\u001b[1;32m      <a href='vscode-notebook-cell:/Users/andres/code/validmind-sdk/notebooks/quickstart.ipynb#W5sZmlsZQ%3D%3D?line=3'>4</a>\u001b[0m     val_set\u001b[39m=\u001b[39;49m(x_test, y_test),    \n\u001b[1;32m      <a href='vscode-notebook-cell:/Users/andres/code/validmind-sdk/notebooks/quickstart.ipynb#W5sZmlsZQ%3D%3D?line=4'>5</a>\u001b[0m     test_set\u001b[39m=\u001b[39;49m(x_test, y_test),\n\u001b[1;32m      <a href='vscode-notebook-cell:/Users/andres/code/validmind-sdk/notebooks/quickstart.ipynb#W5sZmlsZQ%3D%3D?line=5'>6</a>\u001b[0m )\n",
      "File \u001b[0;32m~/code/validmind-sdk/validmind/__init__.py:91\u001b[0m, in \u001b[0;36mevaluate_model\u001b[0;34m(model, train_set, val_set, test_set, eval_opts, send)\u001b[0m\n\u001b[1;32m     88\u001b[0m x_train, y_train \u001b[39m=\u001b[39m train_set\n\u001b[1;32m     89\u001b[0m x_val, y_val \u001b[39m=\u001b[39m val_set\n\u001b[0;32m---> 91\u001b[0m log_training_metrics(\n\u001b[1;32m     92\u001b[0m     model, x_train\u001b[39m.\u001b[39;49mcopy(), y_train\u001b[39m.\u001b[39;49mcopy(), x_val\u001b[39m.\u001b[39;49mcopy(), y_val\u001b[39m.\u001b[39;49mcopy()\n\u001b[1;32m     93\u001b[0m )\n\u001b[1;32m     95\u001b[0m \u001b[39mprint\u001b[39m(\u001b[39m\"\u001b[39m\u001b[39mRunning model evaluation tests...\u001b[39m\u001b[39m\"\u001b[39m)\n\u001b[1;32m     96\u001b[0m eval_results \u001b[39m=\u001b[39m mod_evaluate_model(\n\u001b[1;32m     97\u001b[0m     model,\n\u001b[1;32m     98\u001b[0m     test_set\u001b[39m=\u001b[39mtest_set,\n\u001b[0;32m   (...)\u001b[0m\n\u001b[1;32m    101\u001b[0m     send\u001b[39m=\u001b[39msend,\n\u001b[1;32m    102\u001b[0m )\n",
      "File \u001b[0;32m~/code/validmind-sdk/validmind/client.py:248\u001b[0m, in \u001b[0;36mlog_training_metrics\u001b[0;34m(model, x_train, y_train, x_val, y_val, run_cuid)\u001b[0m\n\u001b[1;32m    245\u001b[0m \u001b[39mif\u001b[39;00m run_cuid \u001b[39mis\u001b[39;00m \u001b[39mNone\u001b[39;00m:\n\u001b[1;32m    246\u001b[0m     run_cuid \u001b[39m=\u001b[39m start_run()\n\u001b[0;32m--> 248\u001b[0m training_metrics \u001b[39m=\u001b[39m get_training_metrics(model, x_train, y_train, x_val, y_val)\n\u001b[1;32m    250\u001b[0m \u001b[39mreturn\u001b[39;00m log_metrics(training_metrics, run_cuid)\n",
      "File \u001b[0;32m~/code/validmind-sdk/validmind/model_utils.py:462\u001b[0m, in \u001b[0;36mget_training_metrics\u001b[0;34m(model, x_train, y_train, x_val, y_val)\u001b[0m\n\u001b[1;32m    457\u001b[0m \u001b[39melif\u001b[39;00m model_class \u001b[39m==\u001b[39m \u001b[39m\"\u001b[39m\u001b[39mLogisticRegression\u001b[39m\u001b[39m\"\u001b[39m:\n\u001b[1;32m    458\u001b[0m     metrics \u001b[39m=\u001b[39m get_sklearn_classification_metrics(\n\u001b[1;32m    459\u001b[0m         model, x_train, y_train, x_val, y_val\n\u001b[1;32m    460\u001b[0m     )\n\u001b[0;32m--> 462\u001b[0m \u001b[39mreturn\u001b[39;00m metrics\n",
      "\u001b[0;31mUnboundLocalError\u001b[0m: local variable 'metrics' referenced before assignment"
     ]
    }
   ],
   "source": [
    "eval_results = vm.evaluate_model(\n",
    "    model,\n",
    "    train_set=(x_train, y_train),    \n",
    "    val_set=(x_test, y_test),    \n",
    "    test_set=(x_test, y_test),\n",
    ")"
   ]
  },
  {
   "cell_type": "code",
   "execution_count": null,
   "metadata": {},
   "outputs": [],
   "source": [
    "model.family.__class__"
   ]
  },
  {
   "cell_type": "code",
   "execution_count": null,
   "metadata": {},
   "outputs": [],
   "source": [
    "model.family.link.__class__"
   ]
  },
  {
   "cell_type": "code",
   "execution_count": null,
   "metadata": {},
   "outputs": [],
   "source": [
    "dir(model.model)"
   ]
  },
  {
   "cell_type": "code",
   "execution_count": null,
   "metadata": {},
   "outputs": [],
   "source": [
    "# Variables available to the statsmodels model\n",
    "# model.model.endog_names\n",
    "# model.model.exog_names\n",
    "# model.model.family.__class__\n",
    "# model.model.family.link.__class__\n",
    "# model.model.formula\n",
    "# model.method\n",
    "# model.cov_type"
   ]
  }
 ],
 "metadata": {
  "kernelspec": {
   "display_name": "Python 3.8.6 ('validmind-Jp3s24zK-py3.8')",
   "language": "python",
   "name": "python3"
  },
  "language_info": {
   "codemirror_mode": {
    "name": "ipython",
    "version": 3
   },
   "file_extension": ".py",
   "mimetype": "text/x-python",
   "name": "python",
   "nbconvert_exporter": "python",
   "pygments_lexer": "ipython3",
   "version": "3.8.6"
  },
  "orig_nbformat": 4,
  "vscode": {
   "interpreter": {
    "hash": "5507f2e99c1cac96073e07e686bb64d511c5f1c7216ba7fc4306f43af6557f44"
   }
  }
 },
 "nbformat": 4,
 "nbformat_minor": 2
}
