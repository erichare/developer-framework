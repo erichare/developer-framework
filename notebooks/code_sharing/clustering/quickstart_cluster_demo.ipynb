{
    "cells": [
        {
            "attachments": {},
            "cell_type": "markdown",
            "metadata": {
                "id": "ZnZV4XfHSPcw"
            },
            "source": [
                "# Quickstart for clustering Documentation — Full Suite\n",
                "\n",
                "<!-- This interactive notebook guides you through the process of documenting a model with the ValidMind Developer Framework. It uses the [Bank Customer Churn Prediction](https://www.kaggle.com/code/kmalit/bank-customer-churn-prediction/data) sample dataset from Kaggle to train a simple classification model.\n",
                "\n",
                "As part of the notebook, you will learn how to train a sample model while exploring how the documentation process works:\n",
                "\n",
                "- Initializing the ValidMind Developer Framework\n",
                "- Loading a sample dataset provided by the library to train a simple classification model\n",
                "- Running a ValidMind test suite to quickly generate documention about the data and model -->"
            ]
        },
        {
            "attachments": {},
            "cell_type": "markdown",
            "metadata": {},
            "source": [
                "## ValidMind at a glance\n",
                "\n",
                "ValidMind's platform enables organizations to identify, document, and manage model risks for all types of models, including AI/ML models, LLMs, and statistical models. As a model developer, you use the ValidMind Developer Framework to automate documentation and validation tests, and then use the ValidMind AI Risk Platform UI to collaborate on documentation projects. Together, these products simplify model risk management, facilitate compliance with regulations and institutional standards, and enhance collaboration between yourself and model validators.\n",
                "\n",
                "If this is your first time trying out ValidMind, you can make use of the following resources alongside this notebook:\n",
                "\n",
                "- [Get started](https://docs.validmind.ai/guide/get-started.html) — The basics, including key concepts, and how our products work\n",
                "- [Get started with the ValidMind Developer Framework](https://docs.validmind.ai/guide/get-started-developer-framework.html) —  The path for developers, more code samples, and our developer reference"
            ]
        },
        {
            "attachments": {},
            "cell_type": "markdown",
            "metadata": {
                "id": "ZNcbDRubSPc1"
            },
            "source": [
                "## Before you begin\n",
                "\n",
                "To use the ValidMind Developer Framework with a Jupyter notebook, you need to install and initialize the client library first, along with getting your Python environment ready. When running this notebook locally, this includes installing any missing prerequisite modules that you discover with `pip install`. "
            ]
        },
        {
            "attachments": {},
            "cell_type": "markdown",
            "metadata": {},
            "source": [
                "## Install the client library\n",
                "\n",
                "The client library provides Python support for the ValidMind Developer Framework. To install it:"
            ]
        },
        {
            "cell_type": "code",
            "execution_count": 1,
            "metadata": {
                "id": "6G5-kHOZ7YWk"
            },
            "outputs": [],
            "source": [
                "%pip install -q validmind"
            ]
        },
        {
            "attachments": {},
            "cell_type": "markdown",
            "metadata": {
                "id": "_ZqI8W5jSPc1"
            },
            "source": [
                "## Initialize the client library\n",
                "\n",
                "Every documentation project in the Platform UI comes with a _code snippet_ that lets the client library associate your documentation and tests with the right project on the Platform UI when you run this notebook. As you will see later, documentation projects are useful because they act as containers for model documentation and validation reports and they enable you to organize all of your documentation work in one place. \n",
                "\n",
                "For now, get your code snippet by creating a documentation project:\n",
                "\n",
                "1. In a browser, log into the [Platform UI](https://app.prod.validmind.ai).\n",
                "\n",
                "2. Go to Go to **Documentation Projects** and click **Create new project**.\n",
                "\n",
                "3. Select **[Demo] Model for Clustering** and **Initial Validation** for the model name and type, give the project a unique  name to make it yours, and then click **Create project**.\n",
                "\n",
                "4. Go to **Documentation Projects** > **YOUR_UNIQUE_PROJECT_NAME** > **Getting Started** and click **Copy snippet to clipboard**.\n",
                "\n",
                "Next, replace this placeholder with your own code snippet:"
            ]
        },
        {
            "cell_type": "code",
            "execution_count": 2,
            "metadata": {
                "id": "5hqGn9jHSPc2"
            },
            "outputs": [
                {
                    "name": "stderr",
                    "output_type": "stream",
                    "text": [
                        "/Users/anilsorathiya/Library/Caches/pypoetry/virtualenvs/validmind-1QuffXMV-py3.9/lib/python3.9/site-packages/urllib3/__init__.py:34: NotOpenSSLWarning: urllib3 v2.0 only supports OpenSSL 1.1.1+, currently the 'ssl' module is compiled with 'LibreSSL 2.8.3'. See: https://github.com/urllib3/urllib3/issues/3020\n",
                        "  warnings.warn(\n",
                        "2023-10-30 09:25:31,460 - INFO(validmind.api_client): Connected to ValidMind. Project: Newstrack demo - Initial Validation (clobz3bpl00058mrlq4l6zttv)\n"
                    ]
                }
            ],
            "source": [
                "# Replace this placeholder with the code snippet from your own project ##\n",
                "\n",
                "import validmind as vm\n",
                "\n",
                "vm.init(\n",
                "  api_host = \"...\",\n",
                "  api_key = \"...\",\n",
                "  api_secret = \"...\",\n",
                "  project = \"...\",\n",
                ") \n"
            ]
        },
        {
            "attachments": {},
            "cell_type": "markdown",
            "metadata": {},
            "source": [
                "## Initialize the Python environment\n",
                "\n",
                "Next, let's import the necessary libraries and set up your Python environment for data analysis:"
            ]
        },
        {
            "cell_type": "code",
            "execution_count": 3,
            "metadata": {},
            "outputs": [],
            "source": [
                "import numpy as np\n",
                "import pandas as pd\n",
                "from time import time\n",
                "import pyarrow.feather as feather\n",
                "\n",
                "from sklearn import metrics\n",
                "from sklearn.pipeline import make_pipeline\n",
                "from sklearn.preprocessing import StandardScaler\n",
                "from sklearn.datasets import load_digits\n",
                "\n",
                "from sklearn.cluster import KMeans\n"
            ]
        },
        {
            "cell_type": "markdown",
            "metadata": {},
            "source": [
                "### Preview the documentation template\n",
                "\n",
                "A template predefines sections for your documentation project and provides a general outline to follow, making the documentation process much easier.\n",
                "\n",
                "You will upload documentation and test results into this template later on. For now, take a look at the structure that the template provides with the `vm.preview_template()` function from the ValidMind library and note the empty sections:"
            ]
        },
        {
            "cell_type": "code",
            "execution_count": 4,
            "metadata": {},
            "outputs": [
                {
                    "data": {
                        "application/vnd.jupyter.widget-view+json": {
                            "model_id": "48e6f9617f604de3b6ec975da908bd8c",
                            "version_major": 2,
                            "version_minor": 0
                        },
                        "text/plain": [
                            "Accordion(children=(Accordion(children=(HTML(value='<p>Empty Section</p>'), Accordion(children=(HTML(value='<p…"
                        ]
                    },
                    "metadata": {},
                    "output_type": "display_data"
                }
            ],
            "source": [
                "vm.preview_template()"
            ]
        },
        {
            "attachments": {},
            "cell_type": "markdown",
            "metadata": {
                "id": "WT4iDaNPSPc4"
            },
            "source": [
                "## Load the sample dataset\n",
                "\n",
                "The sample dataset used here is provided by the ValidMind library, along with a second, different dataset you can try as well. \n",
                "\n",
                "To be able to use either sample dataset, you need to import the dataset and load it into a pandas [DataFrame](https://pandas.pydata.org/docs/reference/api/pandas.DataFrame.html), a two-dimensional tabular data structure that makes use of rows and columns:"
            ]
        },
        {
            "cell_type": "code",
            "execution_count": 5,
            "metadata": {
                "id": "BlNanClPSPc5"
            },
            "outputs": [],
            "source": [
                "read_df = feather.read_feather('../20231026 SampleData_filtered.f')\n",
                "\n",
                "df = read_df.drop(['language_code', 'title_snippet_processed', 'Prob_LogReg_L2_model', 'distance center'],axis=1)\n",
                "target_column = \"Cluster\"\n",
                "cluster_labels = my_dict = dict(zip(range(len(np.unique(df.Cluster))), np.unique(df.Cluster)))\n"
            ]
        },
        {
            "attachments": {},
            "cell_type": "markdown",
            "metadata": {
                "id": "7iMY_9V3SPc5"
            },
            "source": [
                "### Initialize a ValidMind dataset object\n",
                "\n",
                "Before you can run a test suite, which are just a collection of tests, you must first initialize a ValidMind dataset object using the [`init_dataset`](https://docs.validmind.ai/validmind/validmind.html#init_dataset) function from the ValidMind (`vm`) module. \n",
                "\n",
                "This function takes a number of arguments: \n",
                "\n",
                "- `dataset` — the raw dataset that you want to analyze\n",
                "- `target_column` — the name of the target column in the dataset \n",
                "- `cluster_labels` — the list of class labels used for classification model training"
            ]
        },
        {
            "cell_type": "code",
            "execution_count": 9,
            "metadata": {
                "id": "X64u5AbHSPc6"
            },
            "outputs": [
                {
                    "name": "stderr",
                    "output_type": "stream",
                    "text": [
                        "2023-10-30 09:25:51,214 - INFO(validmind.client): Pandas dataset detected. Initializing VM Dataset instance...\n"
                    ]
                }
            ],
            "source": [
                "vm_dataset = vm.init_dataset(\n",
                "    dataset=df,\n",
                "    target_column=target_column,\n",
                "    class_labels=cluster_labels\n",
                ")"
            ]
        },
        {
            "attachments": {},
            "cell_type": "markdown",
            "metadata": {
                "id": "sP6OZpdGSPc6"
            },
            "source": [
                "## Document the model\n",
                "\n",
                "As part of documenting the model with the ValidMind Developer Framework, you need to preprocess the raw dataset, initialize some training and test datasets, initialize a model object you can use for testing, and then run the full suite of tests. "
            ]
        },
        {
            "attachments": {},
            "cell_type": "markdown",
            "metadata": {
                "id": "XNI6mCy0SPc6"
            },
            "source": [
                "### Prepocess the raw dataset\n",
                "\n",
                "Preprocessing performs a number of operations to get ready for the subsequent steps:\n",
                "\n",
                "- Preprocess the data: Splits the DataFrame (`df`) into multiple datasets (`train_df`, `validation_df`, and `test_df`) using `demo_dataset.preprocess` to simplify preprocessing.\n",
                "- Separate features and targets: Drops the target column to create feature sets (`x_train`, `x_val`) and target sets (`y_train`, `y_val`).\n",
                "- Scale data using `StandardScaler`. \n",
                "- Initialize KMeans clustering algorithm: Creates an `KMeans` object with `k-means++` method.\n",
                "- Fit the model: Trains the model on `x_train` and `y_train`."
            ]
        },
        {
            "cell_type": "code",
            "execution_count": 10,
            "metadata": {
                "id": "PMeDVcpsSPc7"
            },
            "outputs": [],
            "source": [
                " from validmind.datasets.cluster import digits as demo_dataset\n",
                "train_df, validation_df, test_df = demo_dataset.preprocess(df)\n",
                "\n",
                "x_train = train_df.drop(target_column, axis=1)\n",
                "y_train = train_df[target_column]\n",
                "x_val = validation_df.drop(target_column, axis=1)\n",
                "y_val = validation_df[target_column]\n",
                "x_test = test_df.drop(target_column, axis=1)\n",
                "y_test = test_df[target_column]\n",
                "x_train = pd.concat([x_train, x_val], axis=0)\n",
                "y_train = pd.concat([y_train, y_val], axis=0)\n",
                "\n",
                "scale = False\n",
                "if scale:\n",
                "    scaler = StandardScaler()\n",
                "    x_train = scaler.fit_transform(x_train)\n",
                "    x_val = scaler.fit_transform(x_val)\n",
                "    x_test = scaler.fit_transform(x_test)\n",
                "\n",
                "\n",
                "n_clusters = len(list(cluster_labels.values()))\n",
                "model = KMeans(init=\"k-means++\", n_clusters=n_clusters, n_init=4, random_state=0)\n",
                "model = model.fit(x_train)"
            ]
        },
        {
            "attachments": {},
            "cell_type": "markdown",
            "metadata": {
                "id": "DTO0bN4qSPc7"
            },
            "source": [
                "### Initialize the training and test datasets\n",
                "\n",
                "With the datasets ready, you can now initialize the training and test datasets (`train_df` and `test_df`) created earlier into their own dataset objects using [`vm.init_dataset()`](https://docs.validmind.ai/validmind/validmind.html#init_dataset):"
            ]
        },
        {
            "cell_type": "code",
            "execution_count": 11,
            "metadata": {
                "id": "ShiOFS7bSPc7"
            },
            "outputs": [
                {
                    "name": "stderr",
                    "output_type": "stream",
                    "text": [
                        "2023-10-30 09:25:54,512 - INFO(validmind.client): Pandas dataset detected. Initializing VM Dataset instance...\n",
                        "2023-10-30 09:25:54,715 - INFO(validmind.client): Pandas dataset detected. Initializing VM Dataset instance...\n"
                    ]
                }
            ],
            "source": [
                "vm_train_ds = vm.init_dataset(\n",
                "    dataset=train_df,\n",
                "    target_column=target_column\n",
                ")\n",
                "\n",
                "vm_test_ds = vm.init_dataset(\n",
                "    dataset=test_df,\n",
                "    target_column=target_column\n",
                ")"
            ]
        },
        {
            "attachments": {},
            "cell_type": "markdown",
            "metadata": {
                "id": "l6dpArGCSPc7"
            },
            "source": [
                "### Initialize a model object \n",
                "\n",
                "Additionally, you need to initialize a ValidMind model object (`vm_model`) that can be passed to other functions for analysis and tests on the data. You simply intialize this model object with [`vm.init_model()`](https://docs.validmind.ai/validmind/validmind.html#init_model):"
            ]
        },
        {
            "cell_type": "code",
            "execution_count": 12,
            "metadata": {
                "id": "wE0OckXjSPc7"
            },
            "outputs": [
                {
                    "name": "stderr",
                    "output_type": "stream",
                    "text": [
                        "/Users/anilsorathiya/Library/Caches/pypoetry/virtualenvs/validmind-1QuffXMV-py3.9/lib/python3.9/site-packages/sklearn/base.py:465: UserWarning: X does not have valid feature names, but KMeans was fitted with feature names\n",
                        "  warnings.warn(\n",
                        "/Users/anilsorathiya/Library/Caches/pypoetry/virtualenvs/validmind-1QuffXMV-py3.9/lib/python3.9/site-packages/sklearn/base.py:465: UserWarning: X does not have valid feature names, but KMeans was fitted with feature names\n",
                        "  warnings.warn(\n"
                    ]
                }
            ],
            "source": [
                "vm_model = vm.init_model(\n",
                "    model,\n",
                "    train_ds=vm_train_ds,\n",
                "    test_ds=vm_test_ds,\n",
                ")"
            ]
        },
        {
            "attachments": {},
            "cell_type": "markdown",
            "metadata": {
                "id": "8xaBL0_3SPc7"
            },
            "source": [
                "### Run the full suite of tests\n",
                "\n",
                "This is where it all comes together: you are now ready to run the full suite of tests for the model as defined by the documentation template you looked at earlier. \n",
                "\n",
                "The [`vm.run_documentation_tests`](https://docs.validmind.ai/validmind/validmind.html#run_documentation_tests) function finds and runs every test specified in the template and then uploads all the documentation and test artifacts that get generated to the ValidMind AI Risk Platform. \n",
                "\n",
                "The function takes two arguments:\n",
                "\n",
                "- `dataset`: The data to be tested, specified as `vm_dataset`.\n",
                "- `model`: The model to be used for testing, specified as `vm_model`.\n",
                "\n",
                "The variable `full_suite` then holds the result of these tests."
            ]
        },
        {
            "cell_type": "code",
            "execution_count": 13,
            "metadata": {},
            "outputs": [
                {
                    "data": {
                        "application/vnd.jupyter.widget-view+json": {
                            "model_id": "7f89792b476e4cb9acf3697ce4bc9194",
                            "version_major": 2,
                            "version_minor": 0
                        },
                        "text/plain": [
                            "HBox(children=(Label(value='Running test suite...'), IntProgress(value=0, max=24)))"
                        ]
                    },
                    "metadata": {},
                    "output_type": "display_data"
                },
                {
                    "data": {
                        "application/vnd.jupyter.widget-view+json": {
                            "model_id": "76c12ea97eb74e81ba1d466fe4fe4e6c",
                            "version_major": 2,
                            "version_minor": 0
                        },
                        "text/plain": [
                            "VBox(children=(HTML(value='<h2>Test Suite Results: <i style=\"color: #DE257E\">Newstrack Application V1</i></h2>…"
                        ]
                    },
                    "metadata": {},
                    "output_type": "display_data"
                },
                {
                    "data": {
                        "text/plain": [
                            "NewstrackApplicationTestSuite(sections=[TestSuiteSection(tests=[], section_id='__top_level__', description=None), TestSuiteSection(tests=[TestSuiteTest(test_id='validmind.model_validation.ModelMetadata', _test_class=<class 'validmind.tests.model_validation.ModelMetadata.ModelMetadata'>, _test_instance=ModelMetadata(test_context=TestContext(dataset=None, model=<validmind.models.sklearn.SKlearnModel object at 0x2bc8847c0>, models=None, context_data=None), result=TestSuiteMetricResult(result_id=\"validmind.model_validation.ModelMetadata\", metric, figures), params={'validmind.model_validation.sklearn.LocalOutlierFactorPlot': {'n_neighbors': 7, 'contamination': 0.01}}), result=TestSuiteMetricResult(result_id=\"validmind.model_validation.ModelMetadata\", metric, figures)), TestSuiteTest(test_id='validmind.data_validation.DatasetSplit', _test_class=<class 'validmind.tests.data_validation.DatasetSplit.DatasetSplit'>, _test_instance=DatasetSplit(test_context=TestContext(dataset=None, model=<validmind.models.sklearn.SKlearnModel object at 0x2bc8847c0>, models=None, context_data=None), result=TestSuiteMetricResult(result_id=\"validmind.data_validation.DatasetSplit\", metric, figures), params={'validmind.model_validation.sklearn.LocalOutlierFactorPlot': {'n_neighbors': 7, 'contamination': 0.01}}), result=TestSuiteMetricResult(result_id=\"validmind.data_validation.DatasetSplit\", metric, figures)), TestSuiteTest(test_id='validmind.model_validation.sklearn.HomogeneityScore', _test_class=<class 'validmind.tests.model_validation.sklearn.HomogeneityScore.HomogeneityScore'>, _test_instance=HomogeneityScore(test_context=TestContext(dataset=None, model=<validmind.models.sklearn.SKlearnModel object at 0x2bc8847c0>, models=None, context_data=None), result=TestSuiteMetricResult(result_id=\"validmind.model_validation.sklearn.HomogeneityScore\", metric, figures), params={'validmind.model_validation.sklearn.LocalOutlierFactorPlot': {'n_neighbors': 7, 'contamination': 0.01}}), result=TestSuiteMetricResult(result_id=\"validmind.model_validation.sklearn.HomogeneityScore\", metric, figures)), TestSuiteTest(test_id='validmind.model_validation.sklearn.CompletenessScore', _test_class=<class 'validmind.tests.model_validation.sklearn.CompletenessScore.CompletenessScore'>, _test_instance=CompletenessScore(test_context=TestContext(dataset=None, model=<validmind.models.sklearn.SKlearnModel object at 0x2bc8847c0>, models=None, context_data=None), result=TestSuiteMetricResult(result_id=\"validmind.model_validation.sklearn.CompletenessScore\", metric, figures), params={'validmind.model_validation.sklearn.LocalOutlierFactorPlot': {'n_neighbors': 7, 'contamination': 0.01}}), result=TestSuiteMetricResult(result_id=\"validmind.model_validation.sklearn.CompletenessScore\", metric, figures)), TestSuiteTest(test_id='validmind.model_validation.sklearn.VMeasure', _test_class=<class 'validmind.tests.model_validation.sklearn.VMeasure.VMeasure'>, _test_instance=VMeasure(test_context=TestContext(dataset=None, model=<validmind.models.sklearn.SKlearnModel object at 0x2bc8847c0>, models=None, context_data=None), result=TestSuiteMetricResult(result_id=\"validmind.model_validation.sklearn.VMeasure\", metric, figures), params={'validmind.model_validation.sklearn.LocalOutlierFactorPlot': {'n_neighbors': 7, 'contamination': 0.01}}), result=TestSuiteMetricResult(result_id=\"validmind.model_validation.sklearn.VMeasure\", metric, figures)), TestSuiteTest(test_id='validmind.model_validation.sklearn.AdjustedRandIndex', _test_class=<class 'validmind.tests.model_validation.sklearn.AdjustedRandIndex.AdjustedRandIndex'>, _test_instance=AdjustedRandIndex(test_context=TestContext(dataset=None, model=<validmind.models.sklearn.SKlearnModel object at 0x2bc8847c0>, models=None, context_data=None), result=TestSuiteMetricResult(result_id=\"validmind.model_validation.sklearn.AdjustedRandIndex\", metric, figures), params={'validmind.model_validation.sklearn.LocalOutlierFactorPlot': {'n_neighbors': 7, 'contamination': 0.01}}), result=TestSuiteMetricResult(result_id=\"validmind.model_validation.sklearn.AdjustedRandIndex\", metric, figures)), TestSuiteTest(test_id='validmind.model_validation.sklearn.AdjustedMutualInformation', _test_class=<class 'validmind.tests.model_validation.sklearn.AdjustedMutualInformation.AdjustedMutualInformation'>, _test_instance=AdjustedMutualInformation(test_context=TestContext(dataset=None, model=<validmind.models.sklearn.SKlearnModel object at 0x2bc8847c0>, models=None, context_data=None), result=TestSuiteMetricResult(result_id=\"validmind.model_validation.sklearn.AdjustedMutualInformation\", metric, figures), params={'validmind.model_validation.sklearn.LocalOutlierFactorPlot': {'n_neighbors': 7, 'contamination': 0.01}}), result=TestSuiteMetricResult(result_id=\"validmind.model_validation.sklearn.AdjustedMutualInformation\", metric, figures)), TestSuiteTest(test_id='validmind.model_validation.sklearn.FowlkesMallowsScore', _test_class=<class 'validmind.tests.model_validation.sklearn.FowlkesMallowsScore.FowlkesMallowsScore'>, _test_instance=FowlkesMallowsScore(test_context=TestContext(dataset=None, model=<validmind.models.sklearn.SKlearnModel object at 0x2bc8847c0>, models=None, context_data=None), result=TestSuiteMetricResult(result_id=\"validmind.model_validation.sklearn.FowlkesMallowsScore\", metric, figures), params={'validmind.model_validation.sklearn.LocalOutlierFactorPlot': {'n_neighbors': 7, 'contamination': 0.01}}), result=TestSuiteMetricResult(result_id=\"validmind.model_validation.sklearn.FowlkesMallowsScore\", metric, figures)), TestSuiteTest(test_id='validmind.model_validation.sklearn.ClusterCosineSimilarity', _test_class=<class 'validmind.tests.model_validation.sklearn.ClusterCosineSimilarity.ClusterCosineSimilarity'>, _test_instance=ClusterCosineSimilarity(test_context=TestContext(dataset=None, model=<validmind.models.sklearn.SKlearnModel object at 0x2bc8847c0>, models=None, context_data=None), result=TestSuiteMetricResult(result_id=\"validmind.model_validation.sklearn.ClusterCosineSimilarity\", metric, figures), params={'validmind.model_validation.sklearn.LocalOutlierFactorPlot': {'n_neighbors': 7, 'contamination': 0.01}}), result=TestSuiteMetricResult(result_id=\"validmind.model_validation.sklearn.ClusterCosineSimilarity\", metric, figures)), TestSuiteTest(test_id='validmind.model_validation.sklearn.SilhouettePlot', _test_class=<class 'validmind.tests.model_validation.sklearn.SilhouettePlot.SilhouettePlot'>, _test_instance=SilhouettePlot(test_context=TestContext(dataset=None, model=<validmind.models.sklearn.SKlearnModel object at 0x2bc8847c0>, models=None, context_data=None), result=TestSuiteMetricResult(result_id=\"validmind.model_validation.sklearn.SilhouettePlot\", metric, figures), params={'validmind.model_validation.sklearn.LocalOutlierFactorPlot': {'n_neighbors': 7, 'contamination': 0.01}}), result=TestSuiteMetricResult(result_id=\"validmind.model_validation.sklearn.SilhouettePlot\", metric, figures)), TestSuiteTest(test_id='validmind.model_validation.sklearn.HyperParametersTuning', _test_class=<class 'validmind.tests.model_validation.sklearn.HyperParametersTuning.HyperParametersTuning'>, _test_instance=HyperParametersTuning(test_context=TestContext(dataset=None, model=<validmind.models.sklearn.SKlearnModel object at 0x2bc8847c0>, models=None, context_data=None), result=TestSuiteMetricResult(result_id=\"validmind.model_validation.sklearn.HyperParametersTuning\", metric, figures), params={'param_grid': {'n_clusters': range(2, 20)}, 'scoring': None, 'validmind.model_validation.sklearn.LocalOutlierFactorPlot': {'n_neighbors': 7, 'contamination': 0.01}}), result=TestSuiteMetricResult(result_id=\"validmind.model_validation.sklearn.HyperParametersTuning\", metric, figures)), TestSuiteTest(test_id='validmind.model_validation.sklearn.KMeansClustersOptimization', _test_class=<class 'validmind.tests.model_validation.sklearn.KMeansClustersOptimization.KMeansClustersOptimization'>, _test_instance=KMeansClustersOptimization(test_context=TestContext(dataset=None, model=<validmind.models.sklearn.SKlearnModel object at 0x2bc8847c0>, models=None, context_data=None), result=TestSuiteMetricResult(result_id=\"validmind.model_validation.sklearn.KMeansClustersOptimization\", metric, figures), params={'n_clusters': range(2, 20), 'validmind.model_validation.sklearn.LocalOutlierFactorPlot': {'n_neighbors': 7, 'contamination': 0.01}}), result=TestSuiteMetricResult(result_id=\"validmind.model_validation.sklearn.KMeansClustersOptimization\", metric, figures))], section_id='model_development_clustering', description='Model Development for Clustering news articles (Kmeans)')], test_context=None)"
                        ]
                    },
                    "execution_count": 13,
                    "metadata": {},
                    "output_type": "execute_result"
                }
            ],
            "source": [
                "config = {\n",
                "    \"validmind.model_validation.sklearn.HyperParametersTuning\":{\n",
                "        \"param_grid\":{\"n_clusters\":range(40, 60)}\n",
                "    },\n",
                "    \"validmind.model_validation.sklearn.KMeansClustersOptimization\":{\n",
                "        \"n_clusters\":range(40, 60)\n",
                "    }\n",
                "}\n",
                "vm.run_documentation_tests(model=vm_model,section=\"model_development_clustering\", config=config)"
            ]
        },
        {
            "attachments": {},
            "cell_type": "markdown",
            "metadata": {},
            "source": [
                "## Next steps\n",
                "\n",
                "You can look at the results of this test suite right in the notebook where you ran the code, as you would expect. But there is a better way: view the test results as part of your model documentation right in the ValidMind Platform UI: \n",
                "\n",
                "1. Log back into the [Platform UI](https://app.prod.validmind.ai) \n",
                "\n",
                "2. Go to **Documentation Projects** > **YOUR_UNIQUE_PROJECT_NAME** > **Documentation**.\n",
                "\n",
                "3. Expand the following sections and take a look around:\n",
                "   \n",
                "   - **2. Data Preparation**\n",
                "   - **3. Model Development**\n",
                "\n",
                "What you can see now is a much more easily consumable version of the documentation, including the results of the tests you just performed, along with other parts of your documentation project that still need to be completed. There is a wealth of information that gets uploaded when you run the full test suite, so take a closer look around, especially at test results that might need attention (hint: some of the tests in 2.1 Data description look like they need some attention).\n",
                "\n",
                "If you want to learn more about where you are in the model documentation process, take a look at [How do I use the framework?](https://docs.validmind.ai/guide/get-started-developer-framework.html#how-do-i-use-the-framework).\n",
                "\n"
            ]
        }
    ],
    "metadata": {
        "colab": {
            "provenance": []
        },
        "gpuClass": "standard",
        "kernelspec": {
            "display_name": "developer-framework",
            "language": "python",
            "name": "developer-framework"
        },
        "language_info": {
            "codemirror_mode": {
                "name": "ipython",
                "version": 3
            },
            "file_extension": ".py",
            "mimetype": "text/x-python",
            "name": "python",
            "nbconvert_exporter": "python",
            "pygments_lexer": "ipython3",
            "version": "3.9.6"
        }
    },
    "nbformat": 4,
    "nbformat_minor": 0
}
