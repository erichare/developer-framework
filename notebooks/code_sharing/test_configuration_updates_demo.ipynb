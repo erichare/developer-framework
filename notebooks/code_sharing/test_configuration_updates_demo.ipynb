{
  "cells": [
    {
      "cell_type": "code",
      "execution_count": null,
      "metadata": {
        "scrolled": false
      },
      "outputs": [],
      "source": [
        "%load_ext dotenv\n",
        "%dotenv .env\n",
        "\n",
        "import validmind as vm\n",
        "import xgboost as xgb\n",
        "\n",
        "vm.init(\n",
        "    api_host = \"https://api.prod.validmind.ai/api/v1/tracking\",\n",
        "    project = \"clkh0yg4r00cgg9ryfwfy8pqo\"\n",
        ")\n",
        "\n",
        "vm.preview_template()"
      ]
    },
    {
      "cell_type": "code",
      "execution_count": null,
      "metadata": {
        "scrolled": false
      },
      "outputs": [],
      "source": [
        "import json\n",
        "\n",
        "project_test_suite = vm.get_test_suite()\n",
        "\n",
        "required_inputs = project_test_suite.get_required_inputs()\n",
        "print(\"Required Inputs: \", required_inputs)\n",
        "\n",
        "config = project_test_suite.get_default_config()\n",
        "config[\"robustness\"][\"scaling_factor_std_dev_list\"] = [0.0, 0.1, 0.2, 0.3, 0.4, 0.5]\n",
        "print(\"\\nSuite Config: \", json.dumps(config, indent=2))"
      ]
    },
    {
      "cell_type": "code",
      "execution_count": null,
      "metadata": {},
      "outputs": [],
      "source": [
        "project_test_suite.run(\n",
        "    dataset=vm_dataset,\n",
        "    model=vm_model,\n",
        "    config=suite_config,\n",
        "    section=\"model_development\"\n",
        ")"
      ]
    },
    {
      "cell_type": "code",
      "execution_count": null,
      "metadata": {},
      "outputs": [],
      "source": [
        "import validmind as vm\n",
        "vm.tests.list_tests()"
      ]
    },
    {
      "cell_type": "code",
      "execution_count": null,
      "metadata": {},
      "outputs": [],
      "source": [
        "vm.tests.describe_test(\"validmind.model_validation.sklearn.ClassifierOutOfSamplePerformance\")"
      ]
    }
  ],
  "metadata": {
    "kernelspec": {
      "display_name": "Python 3 (ipykernel)",
      "language": "python",
      "name": "python3"
    },
    "language_info": {
      "codemirror_mode": {
        "name": "ipython",
        "version": 3
      },
      "file_extension": ".py",
      "mimetype": "text/x-python",
      "name": "python",
      "nbconvert_exporter": "python",
      "pygments_lexer": "ipython3",
      "version": "3.9.16"
    }
  },
  "nbformat": 4,
  "nbformat_minor": 2
}
