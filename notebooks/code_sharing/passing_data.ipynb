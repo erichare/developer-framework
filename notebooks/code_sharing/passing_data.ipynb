{
  "cells": [
    {
      "attachments": {},
      "cell_type": "markdown",
      "metadata": {},
      "source": [
        "# Passing Data Between Tests\n",
        "\n",
        "In this notebook we will demonstrate how to make use of the test context to pass data between tests. Any object can be passed to the context, but we will use a simple dictionary to demonstrate the concept."
      ]
    },
    {
      "cell_type": "code",
      "execution_count": null,
      "metadata": {},
      "outputs": [],
      "source": [
        "%load_ext dotenv\n",
        "%dotenv dev.env\n",
        "\n",
        "import validmind as vm\n",
        "\n",
        "vm.init(\n",
        "  api_host = \"https://api.prod.validmind.ai/api/v1/tracking\",\n",
        "  # Use your project ID\n",
        "  project = \"...\"\n",
        ")\n"
      ]
    },
    {
      "attachments": {},
      "cell_type": "markdown",
      "metadata": {},
      "source": [
        "## Build Some Sample Metrics\n",
        "\n",
        "We will build two simple metrics to demonstrate the concept. The first metric will create a sample dataframe with mock data, and the second will add one more column to it."
      ]
    },
    {
      "cell_type": "code",
      "execution_count": null,
      "metadata": {},
      "outputs": [],
      "source": [
        "import pandas as pd\n",
        "from dataclasses import dataclass\n",
        "from validmind.vm_models import Metric\n",
        "\n",
        "@dataclass\n",
        "class MyFirstMetric(Metric):\n",
        "    type = \"dataset\"\n",
        "    key = \"my_first_metric\"\n",
        "\n",
        "    def run(self):\n",
        "        df = pd.DataFrame({\"column_a\": [1, 2, 3, 4, 5]})\n",
        "        # Store the dataframe in the test context\n",
        "        self.test_context.set_context_data(\"some_dataset\", df)\n",
        "\n",
        "        return self.cache_results(df.to_dict(\"records\"))"
      ]
    },
    {
      "cell_type": "code",
      "execution_count": null,
      "metadata": {},
      "outputs": [],
      "source": [
        "from dataclasses import dataclass\n",
        "from validmind.vm_models import Metric\n",
        "\n",
        "@dataclass\n",
        "class MySecondMetric(Metric):\n",
        "    type = \"dataset\"\n",
        "    key = \"my_second_metric\"\n",
        "\n",
        "    def run(self):\n",
        "        # Get the dataframe from the test context. We can\n",
        "        # throw an error if it doesn't exist just to be sure\n",
        "        df = self.test_context.get_context_data(\"some_dataset\")\n",
        "        if df is None:\n",
        "            raise ValueError(\"'some_dataset' not found in test context\")\n",
        "\n",
        "        new_df = df.copy()\n",
        "        new_df[\"column_b\"] = [5, 4, 3, 2, 1]\n",
        "\n",
        "        return self.cache_results(new_df.to_dict(\"records\"))"
      ]
    },
    {
      "attachments": {},
      "cell_type": "markdown",
      "metadata": {},
      "source": [
        "Now let's define a test plan that will run the two metrics in sequence. We need to make sure that the first metric is run before the second one."
      ]
    },
    {
      "cell_type": "code",
      "execution_count": null,
      "metadata": {},
      "outputs": [],
      "source": [
        "from validmind.vm_models import TestPlan\n",
        "\n",
        "class MyCustomTestPlan(TestPlan):\n",
        "    \"\"\"\n",
        "    Custom test plan\n",
        "    \"\"\"\n",
        "\n",
        "    name = \"my_custom_test_suite\"\n",
        "    required_inputs = []\n",
        "    tests = [MyFirstMetric, MySecondMetric]\n",
        "\n",
        "my_custom_test_suite = MyCustomTestPlan()\n",
        "my_custom_test_suite.run()"
      ]
    }
  ],
  "metadata": {
    "kernelspec": {
      "display_name": "validmind-Jp3s24zK-py3.8",
      "language": "python",
      "name": "python3"
    },
    "language_info": {
      "codemirror_mode": {
        "name": "ipython",
        "version": 3
      },
      "file_extension": ".py",
      "mimetype": "text/x-python",
      "name": "python",
      "nbconvert_exporter": "python",
      "pygments_lexer": "ipython3",
      "version": "3.8.13"
    },
    "orig_nbformat": 4
  },
  "nbformat": 4,
  "nbformat_minor": 2
}
