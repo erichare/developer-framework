{
 "cells": [
  {
   "attachments": {},
   "cell_type": "markdown",
   "metadata": {},
   "source": [
    "# Time Series Model Validation POC"
   ]
  },
  {
   "attachments": {},
   "cell_type": "markdown",
   "metadata": {},
   "source": [
    "## Import Libraries "
   ]
  },
  {
   "cell_type": "code",
   "execution_count": 12,
   "metadata": {},
   "outputs": [],
   "source": [
    "# System libraries\n",
    "import glob\n",
    "\n",
    "# ML libraries\n",
    "import pickle \n",
    "import pandas as pd\n",
    "import numpy as np\n",
    "from scipy import stats\n",
    "import statsmodels.api as sm\n",
    "from statsmodels.tsa.seasonal import seasonal_decompose\n",
    "from statsmodels.tsa.ar_model import AutoReg\n",
    "from statsmodels.tsa.stattools import adfuller, kpss\n",
    "from statsmodels.tsa.arima.model import ARIMA\n",
    "from statsmodels.tsa.stattools import coint\n",
    "from arch.unitroot import PhillipsPerron, DFGLS\n",
    "import xgboost as xgb\n",
    "from numpy import argmax\n",
    "from sklearn.metrics import accuracy_score, precision_recall_curve\n",
    "from sklearn.model_selection import train_test_split\n",
    "\n",
    "# Plotting libraries \n",
    "import matplotlib.pyplot as plt\n",
    "import seaborn as sns\n",
    "%matplotlib inline"
   ]
  },
  {
   "attachments": {},
   "cell_type": "markdown",
   "metadata": {},
   "source": [
    "## Load Time Series Models"
   ]
  },
  {
   "cell_type": "code",
   "execution_count": 13,
   "metadata": {},
   "outputs": [
    {
     "name": "stdout",
     "output_type": "stream",
     "text": [
      "\n"
     ]
    }
   ],
   "source": [
    "with open('../models/time_series/fred_loan_rates_model_1.pkl', 'rb') as f:\n",
    "    model_1 = pickle.load(f)\n",
    "print(\n",
    "    \n",
    ")"
   ]
  },
  {
   "cell_type": "code",
   "execution_count": null,
   "metadata": {},
   "outputs": [],
   "source": [
    "\n"
   ]
  },
  {
   "cell_type": "code",
   "execution_count": 14,
   "metadata": {},
   "outputs": [
    {
     "name": "stdout",
     "output_type": "stream",
     "text": [
      "                            OLS Regression Results                            \n",
      "==============================================================================\n",
      "Dep. Variable:           MORTGAGE30US   R-squared:                       0.286\n",
      "Model:                            OLS   Adj. R-squared:                  0.284\n",
      "Method:                 Least Squares   F-statistic:                     198.3\n",
      "Date:                Wed, 17 May 2023   Prob (F-statistic):           3.99e-38\n",
      "Time:                        10:43:01   Log-Likelihood:                -57.120\n",
      "No. Observations:                 498   AIC:                             118.2\n",
      "Df Residuals:                     496   BIC:                             126.7\n",
      "Df Model:                           1                                         \n",
      "Covariance Type:            nonrobust                                         \n",
      "==============================================================================\n",
      "                 coef    std err          t      P>|t|      [0.025      0.975]\n",
      "------------------------------------------------------------------------------\n",
      "const         -0.0055      0.012     -0.448      0.654      -0.029       0.018\n",
      "FEDFUNDS       0.2899      0.021     14.082      0.000       0.249       0.330\n",
      "==============================================================================\n",
      "Omnibus:                      138.997   Durbin-Watson:                   1.581\n",
      "Prob(Omnibus):                  0.000   Jarque-Bera (JB):              806.946\n",
      "Skew:                           1.080   Prob(JB):                    5.94e-176\n",
      "Kurtosis:                       8.850   Cond. No.                         1.69\n",
      "==============================================================================\n",
      "\n",
      "Notes:\n",
      "[1] Standard Errors assume that the covariance matrix of the errors is correctly specified.\n"
     ]
    }
   ],
   "source": [
    "with open('../models/time_series/fred_loan_rates_model_2.pkl', 'rb') as f:\n",
    "    model_2 = pickle.load(f)\n",
    "print(model_2.summary())"
   ]
  },
  {
   "cell_type": "code",
   "execution_count": 15,
   "metadata": {},
   "outputs": [
    {
     "name": "stdout",
     "output_type": "stream",
     "text": [
      "                                 OLS Regression Results                                \n",
      "=======================================================================================\n",
      "Dep. Variable:           MORTGAGE30US   R-squared (uncentered):                   0.529\n",
      "Model:                            OLS   Adj. R-squared (uncentered):              0.528\n",
      "Method:                 Least Squares   F-statistic:                              558.1\n",
      "Date:                Wed, 17 May 2023   Prob (F-statistic):                    2.80e-83\n",
      "Time:                        10:43:01   Log-Likelihood:                          46.439\n",
      "No. Observations:                 498   AIC:                                     -90.88\n",
      "Df Residuals:                     497   BIC:                                     -86.67\n",
      "Df Model:                           1                                                  \n",
      "Covariance Type:            nonrobust                                                  \n",
      "==============================================================================\n",
      "                 coef    std err          t      P>|t|      [0.025      0.975]\n",
      "------------------------------------------------------------------------------\n",
      "GS10           0.7428      0.031     23.624      0.000       0.681       0.805\n",
      "==============================================================================\n",
      "Omnibus:                      216.020   Durbin-Watson:                   1.949\n",
      "Prob(Omnibus):                  0.000   Jarque-Bera (JB):            27264.604\n",
      "Skew:                           0.803   Prob(JB):                         0.00\n",
      "Kurtosis:                      39.213   Cond. No.                         1.00\n",
      "==============================================================================\n",
      "\n",
      "Notes:\n",
      "[1] R² is computed without centering (uncentered) since the model does not contain a constant.\n",
      "[2] Standard Errors assume that the covariance matrix of the errors is correctly specified.\n"
     ]
    }
   ],
   "source": [
    "with open('../models/time_series/fred_loan_rates_model_3.pkl', 'rb') as f:\n",
    "    model_3 = pickle.load(f)\n",
    "print(model_3.summary())"
   ]
  },
  {
   "cell_type": "code",
   "execution_count": 16,
   "metadata": {},
   "outputs": [
    {
     "name": "stdout",
     "output_type": "stream",
     "text": [
      "                                 OLS Regression Results                                \n",
      "=======================================================================================\n",
      "Dep. Variable:           MORTGAGE30US   R-squared (uncentered):                   0.621\n",
      "Model:                            OLS   Adj. R-squared (uncentered):              0.620\n",
      "Method:                 Least Squares   F-statistic:                              407.0\n",
      "Date:                Wed, 17 May 2023   Prob (F-statistic):                   2.45e-105\n",
      "Time:                        10:43:01   Log-Likelihood:                          100.84\n",
      "No. Observations:                 498   AIC:                                     -197.7\n",
      "Df Residuals:                     496   BIC:                                     -189.3\n",
      "Df Model:                           2                                                  \n",
      "Covariance Type:            nonrobust                                                  \n",
      "==============================================================================\n",
      "                 coef    std err          t      P>|t|      [0.025      0.975]\n",
      "------------------------------------------------------------------------------\n",
      "GS10           0.6298      0.030     20.970      0.000       0.571       0.689\n",
      "FEDFUNDS       0.1756      0.016     11.005      0.000       0.144       0.207\n",
      "==============================================================================\n",
      "Omnibus:                      252.158   Durbin-Watson:                   1.918\n",
      "Prob(Omnibus):                  0.000   Jarque-Bera (JB):             4954.128\n",
      "Skew:                           1.729   Prob(JB):                         0.00\n",
      "Kurtosis:                      18.060   Cond. No.                         2.09\n",
      "==============================================================================\n",
      "\n",
      "Notes:\n",
      "[1] R² is computed without centering (uncentered) since the model does not contain a constant.\n",
      "[2] Standard Errors assume that the covariance matrix of the errors is correctly specified.\n"
     ]
    }
   ],
   "source": [
    "with open('../models/time_series/fred_loan_rates_model_4.pkl', 'rb') as f:\n",
    "    model_4 = pickle.load(f)\n",
    "print(model_4.summary())"
   ]
  },
  {
   "cell_type": "code",
   "execution_count": 17,
   "metadata": {},
   "outputs": [
    {
     "name": "stdout",
     "output_type": "stream",
     "text": [
      "                                 OLS Regression Results                                \n",
      "=======================================================================================\n",
      "Dep. Variable:           MORTGAGE30US   R-squared (uncentered):                   0.622\n",
      "Model:                            OLS   Adj. R-squared (uncentered):              0.619\n",
      "Method:                 Least Squares   F-statistic:                              271.0\n",
      "Date:                Wed, 17 May 2023   Prob (F-statistic):                   4.91e-104\n",
      "Time:                        10:43:02   Log-Likelihood:                          100.97\n",
      "No. Observations:                 498   AIC:                                     -195.9\n",
      "Df Residuals:                     495   BIC:                                     -183.3\n",
      "Df Model:                           3                                                  \n",
      "Covariance Type:            nonrobust                                                  \n",
      "==============================================================================\n",
      "                 coef    std err          t      P>|t|      [0.025      0.975]\n",
      "------------------------------------------------------------------------------\n",
      "GS10           0.6283      0.030     20.805      0.000       0.569       0.688\n",
      "FEDFUNDS       0.1741      0.016     10.718      0.000       0.142       0.206\n",
      "UNRATE        -0.0258      0.051     -0.508      0.612      -0.126       0.074\n",
      "==============================================================================\n",
      "Omnibus:                      255.442   Durbin-Watson:                   1.911\n",
      "Prob(Omnibus):                  0.000   Jarque-Bera (JB):             5061.282\n",
      "Skew:                           1.758   Prob(JB):                         0.00\n",
      "Kurtosis:                      18.217   Cond. No.                         3.48\n",
      "==============================================================================\n",
      "\n",
      "Notes:\n",
      "[1] R² is computed without centering (uncentered) since the model does not contain a constant.\n",
      "[2] Standard Errors assume that the covariance matrix of the errors is correctly specified.\n"
     ]
    }
   ],
   "source": [
    "with open('../models/time_series/fred_loan_rates_model_5.pkl', 'rb') as f:\n",
    "    model_5 = pickle.load(f)\n",
    "print(model_5.summary())"
   ]
  },
  {
   "cell_type": "code",
   "execution_count": 46,
   "metadata": {},
   "outputs": [],
   "source": [
    "def extract_coef_stats(summary, model_name):\n",
    "    table = summary.tables[1].data\n",
    "    headers = table.pop(0)\n",
    "    headers[0] = 'Feature'\n",
    "    df = pd.DataFrame(table, columns=headers)\n",
    "    df['Model'] = model_name\n",
    "    return df\n",
    "\n",
    "def extract_coefficients_summary(summaries):\n",
    "    coef_stats_df = pd.DataFrame()\n",
    "\n",
    "    for i, summary in enumerate(summaries):\n",
    "        model_name = f'Model {i+1}'\n",
    "        coef_stats_df = pd.concat([coef_stats_df, extract_coef_stats(summary, model_name)])\n",
    "\n",
    "    # Reorder columns to have 'Model' as the first column and reset the index\n",
    "    coef_stats_df = coef_stats_df.reset_index(drop=True)[['Model'] + [col for col in coef_stats_df.columns if col != 'Model']]\n",
    "\n",
    "    return coef_stats_df\n",
    "\n",
    "\n",
    "\n",
    "# Example usage:\n",
    "summaries = [model_1.summary(), model_2.summary(), model_3.summary()]\n",
    "coef_stats_df = extract_coefficients_summary(summaries)\n"
   ]
  },
  {
   "cell_type": "code",
   "execution_count": 47,
   "metadata": {},
   "outputs": [
    {
     "data": {
      "text/html": [
       "<div>\n",
       "<style scoped>\n",
       "    .dataframe tbody tr th:only-of-type {\n",
       "        vertical-align: middle;\n",
       "    }\n",
       "\n",
       "    .dataframe tbody tr th {\n",
       "        vertical-align: top;\n",
       "    }\n",
       "\n",
       "    .dataframe thead th {\n",
       "        text-align: right;\n",
       "    }\n",
       "</style>\n",
       "<table border=\"1\" class=\"dataframe\">\n",
       "  <thead>\n",
       "    <tr style=\"text-align: right;\">\n",
       "      <th></th>\n",
       "      <th>Model</th>\n",
       "      <th>Feature</th>\n",
       "      <th>coef</th>\n",
       "      <th>std err</th>\n",
       "      <th>t</th>\n",
       "      <th>P&gt;|t|</th>\n",
       "      <th>[0.025</th>\n",
       "      <th>0.975]</th>\n",
       "    </tr>\n",
       "  </thead>\n",
       "  <tbody>\n",
       "    <tr>\n",
       "      <th>0</th>\n",
       "      <td>Model 1</td>\n",
       "      <td>FEDFUNDS</td>\n",
       "      <td>0.2901</td>\n",
       "      <td>0.021</td>\n",
       "      <td>14.100</td>\n",
       "      <td>0.000</td>\n",
       "      <td>0.250</td>\n",
       "      <td>0.330</td>\n",
       "    </tr>\n",
       "    <tr>\n",
       "      <th>1</th>\n",
       "      <td>Model 2</td>\n",
       "      <td>const</td>\n",
       "      <td>-0.0055</td>\n",
       "      <td>0.012</td>\n",
       "      <td>-0.448</td>\n",
       "      <td>0.654</td>\n",
       "      <td>-0.029</td>\n",
       "      <td>0.018</td>\n",
       "    </tr>\n",
       "    <tr>\n",
       "      <th>2</th>\n",
       "      <td>Model 2</td>\n",
       "      <td>FEDFUNDS</td>\n",
       "      <td>0.2899</td>\n",
       "      <td>0.021</td>\n",
       "      <td>14.082</td>\n",
       "      <td>0.000</td>\n",
       "      <td>0.249</td>\n",
       "      <td>0.330</td>\n",
       "    </tr>\n",
       "    <tr>\n",
       "      <th>3</th>\n",
       "      <td>Model 3</td>\n",
       "      <td>GS10</td>\n",
       "      <td>0.7428</td>\n",
       "      <td>0.031</td>\n",
       "      <td>23.624</td>\n",
       "      <td>0.000</td>\n",
       "      <td>0.681</td>\n",
       "      <td>0.805</td>\n",
       "    </tr>\n",
       "  </tbody>\n",
       "</table>\n",
       "</div>"
      ],
      "text/plain": [
       "     Model   Feature        coef    std err          t   P>|t|     [0.025  \\\n",
       "0  Model 1  FEDFUNDS      0.2901      0.021     14.100   0.000      0.250   \n",
       "1  Model 2     const     -0.0055      0.012     -0.448   0.654     -0.029   \n",
       "2  Model 2  FEDFUNDS      0.2899      0.021     14.082   0.000      0.249   \n",
       "3  Model 3      GS10      0.7428      0.031     23.624   0.000      0.681   \n",
       "\n",
       "      0.975]  \n",
       "0      0.330  \n",
       "1      0.018  \n",
       "2      0.330  \n",
       "3      0.805  "
      ]
     },
     "execution_count": 47,
     "metadata": {},
     "output_type": "execute_result"
    }
   ],
   "source": [
    "coef_stats_df"
   ]
  },
  {
   "attachments": {},
   "cell_type": "markdown",
   "metadata": {},
   "source": [
    "## Load Training Datasets"
   ]
  },
  {
   "cell_type": "code",
   "execution_count": null,
   "metadata": {},
   "outputs": [],
   "source": [
    "# Extract the endogenous (target) variable from the model fit\n",
    "train_df = pd.Series(model_1.model.endog, index=model_1.model.data.row_labels)\n",
    "train_df = train_df.to_frame()\n",
    "target_var_name = model_1.model.endog_names\n",
    "train_df.columns = [target_var_name]\n",
    "\n",
    "# Extract the exogenous (explanatory) variables from the model fit\n",
    "exog_df = pd.DataFrame(model_1.model.exog, index=model_1.model.data.row_labels, columns=model_1.model.exog_names)\n",
    "\n",
    "# Concatenate the endogenous (target) and exogenous (explanatory) variables\n",
    "train_df = pd.concat([train_df, exog_df], axis=1)\n",
    "train_df.head()"
   ]
  },
  {
   "cell_type": "code",
   "execution_count": null,
   "metadata": {},
   "outputs": [],
   "source": [
    "train_df.tail()"
   ]
  },
  {
   "attachments": {},
   "cell_type": "markdown",
   "metadata": {},
   "source": [
    "## Load Test Datasets"
   ]
  },
  {
   "attachments": {},
   "cell_type": "markdown",
   "metadata": {},
   "source": [
    "Load raw test dataset."
   ]
  },
  {
   "cell_type": "code",
   "execution_count": null,
   "metadata": {},
   "outputs": [],
   "source": [
    "file = '../datasets/time_series/fred_loan_rates_test_1.csv'\n",
    "raw_test_df = pd.read_csv(file, parse_dates=['DATE'], index_col='DATE')\n",
    "display(raw_test_df)"
   ]
  },
  {
   "attachments": {},
   "cell_type": "markdown",
   "metadata": {},
   "source": [
    "Transform raw test dataset using same transformation used in the train dataset. "
   ]
  },
  {
   "cell_type": "code",
   "execution_count": null,
   "metadata": {},
   "outputs": [],
   "source": [
    "transform_func = 'diff'\n",
    "if transform_func == 'diff':\n",
    "    test_df = raw_test_df.diff().dropna()"
   ]
  },
  {
   "attachments": {},
   "cell_type": "markdown",
   "metadata": {},
   "source": [
    "## Load Predictions"
   ]
  },
  {
   "cell_type": "code",
   "execution_count": null,
   "metadata": {},
   "outputs": [],
   "source": [
    "def get_model_prediction(model_fits_dict, df_test):\n",
    "    # Extract the training data from the first model fit\n",
    "    first_model_fit = list(model_fits_dict.values())[0]\n",
    "    train_data = pd.Series(first_model_fit.model.endog, index=first_model_fit.model.data.row_labels)\n",
    "    train_data = train_data.to_frame()\n",
    "    target_var_name = first_model_fit.model.endog_names\n",
    "    train_data.columns = [f'{target_var_name}_train']\n",
    "\n",
    "    # Initialize an empty DataFrame to store the predictions\n",
    "    prediction_df = pd.DataFrame(index=df_test.index)\n",
    "    prediction_df[f'{target_var_name}_test'] = np.nan\n",
    "\n",
    "    # Concatenate the train_data and prediction_df\n",
    "    combined_df = pd.concat([train_data, prediction_df], axis=0)\n",
    "\n",
    "    # Loop through each model fit\n",
    "    for model_name, model_fit in model_fits_dict.items():\n",
    "        # Prepare the test dataset\n",
    "        exog_names = model_fit.model.exog_names\n",
    "        X_test = df_test.copy()\n",
    "\n",
    "        # Add the constant if it's missing\n",
    "        if 'const' in exog_names and 'const' not in X_test.columns:\n",
    "            X_test['const'] = 1.0\n",
    "\n",
    "        # Select the necessary columns\n",
    "        X_test = X_test[exog_names]\n",
    "\n",
    "        # Generate the predictions\n",
    "        predictions = model_fit.predict(X_test)\n",
    "\n",
    "        # Add the predictions to the DataFrame\n",
    "        combined_df[model_name] = np.nan\n",
    "        combined_df[model_name].iloc[len(train_data):] = predictions\n",
    "\n",
    "    # Add the test data to the '<target_variable>_test' column\n",
    "    combined_df[f'{target_var_name}_test'].iloc[len(train_data):] = df_test[target_var_name]\n",
    "\n",
    "    return combined_df\n",
    "\n"
   ]
  },
  {
   "cell_type": "code",
   "execution_count": null,
   "metadata": {},
   "outputs": [],
   "source": [
    "# Replace with your list of model fits\n",
    "model_fits = {\n",
    "    'model_1': model_1,\n",
    "    'model_3': model_3\n",
    "}  \n",
    "prediction_df = get_model_prediction(model_fits, test_df)\n",
    "display(prediction_df)"
   ]
  },
  {
   "cell_type": "code",
   "execution_count": null,
   "metadata": {},
   "outputs": [],
   "source": [
    "def plot_predictions(prediction_df, subplot=True):\n",
    "    n_models = prediction_df.shape[1] - 2\n",
    "    \n",
    "    if subplot:\n",
    "        fig, axes = plt.subplots(n_models, 1, figsize=(12, 6 * n_models), sharex=True)\n",
    "        \n",
    "        for i in range(n_models):\n",
    "            axes[i].plot(prediction_df.index, prediction_df.iloc[:, 0], label=prediction_df.columns[0], color='grey')\n",
    "            axes[i].plot(prediction_df.index, prediction_df.iloc[:, 1], label=prediction_df.columns[1], color='lightgrey')\n",
    "            axes[i].plot(prediction_df.index, prediction_df.iloc[:, i + 2], label=prediction_df.columns[i + 2], linestyle='-')\n",
    "            axes[i].set_ylabel('Target Variable')\n",
    "            axes[i].set_title(f'Test Data vs. {prediction_df.columns[i + 2]}')\n",
    "            axes[i].legend()\n",
    "            axes[i].grid(True)\n",
    "        plt.xlabel('Date')\n",
    "        plt.tight_layout()\n",
    "        plt.show()\n",
    "        \n",
    "    else:\n",
    "        plt.figure(figsize=(12, 6))\n",
    "        plt.plot(prediction_df.index, prediction_df.iloc[:, 0], label=prediction_df.columns[0], color='grey')\n",
    "        plt.plot(prediction_df.index, prediction_df.iloc[:, 1], label=prediction_df.columns[1], color='lightgrey')\n",
    "        \n",
    "        for i in range(2, prediction_df.shape[1]):\n",
    "            plt.plot(prediction_df.index, prediction_df.iloc[:, i], label=prediction_df.columns[i], linestyle='-')\n",
    "        \n",
    "        plt.xlabel('Date')\n",
    "        plt.ylabel('Target Variable')\n",
    "        plt.title('Test Data vs. Model Forecasts')\n",
    "        plt.legend()\n",
    "        plt.grid(True)\n",
    "        plt.show()"
   ]
  },
  {
   "cell_type": "code",
   "execution_count": null,
   "metadata": {},
   "outputs": [],
   "source": [
    "plot_predictions(prediction_df, subplot=True)"
   ]
  }
 ],
 "metadata": {
  "kernelspec": {
   "display_name": "validmind-eEL8LtKG-py3.10",
   "language": "python",
   "name": "python3"
  },
  "language_info": {
   "codemirror_mode": {
    "name": "ipython",
    "version": 3
   },
   "file_extension": ".py",
   "mimetype": "text/x-python",
   "name": "python",
   "nbconvert_exporter": "python",
   "pygments_lexer": "ipython3",
   "version": "3.10.9"
  },
  "orig_nbformat": 4
 },
 "nbformat": 4,
 "nbformat_minor": 2
}
