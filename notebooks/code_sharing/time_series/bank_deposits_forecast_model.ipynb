{
 "cells": [
  {
   "cell_type": "markdown",
   "metadata": {},
   "source": [
    "# Bank Deposits Forecast Model"
   ]
  },
  {
   "cell_type": "code",
   "execution_count": null,
   "metadata": {},
   "outputs": [],
   "source": [
    "%pip install -q pymc3"
   ]
  },
  {
   "cell_type": "code",
   "execution_count": null,
   "metadata": {},
   "outputs": [],
   "source": [
    "import validmind as vm"
   ]
  },
  {
   "cell_type": "code",
   "execution_count": null,
   "metadata": {},
   "outputs": [],
   "source": [
    "from validmind.datasets.regression import fred_deposits as demo_dataset\n",
    "\n",
    "df = demo_dataset.load_data()\n",
    "df.info()"
   ]
  },
  {
   "cell_type": "code",
   "execution_count": null,
   "metadata": {},
   "outputs": [],
   "source": [
    "vm_raw_ds = vm.init_dataset(\n",
    "    input_id=\"raw_ds\",\n",
    "    dataset=df,\n",
    "    __log=False,\n",
    ")"
   ]
  },
  {
   "cell_type": "code",
   "execution_count": null,
   "metadata": {},
   "outputs": [],
   "source": [
    "import plotly.express as px\n",
    "\n",
    "title = \"Deposits, All Commercial Banks (DPSACBW027NBOG)\"\n",
    "y_label = \"Billions of US Dollars\"\n",
    "\n",
    "fig = px.line(df, x=df.index, y='DPSACBW027NBOG', title=title, labels={'DPSACBW027NBOG': y_label})\n",
    "\n",
    "# Show the plot\n",
    "fig.show()"
   ]
  },
  {
   "cell_type": "code",
   "execution_count": null,
   "metadata": {},
   "outputs": [],
   "source": [
    "vm.tests.run_test(\n",
    "    test_id=\"validmind.data_validation.TimeSeriesLinePlot\",\n",
    "    inputs={\n",
    "        \"dataset\": vm_raw_ds\n",
    "    }\n",
    ")"
   ]
  },
  {
   "cell_type": "code",
   "execution_count": null,
   "metadata": {},
   "outputs": [],
   "source": [
    "vm.tests.run_test(\n",
    "    test_id=\"validmind.data_validation.TimeSeriesMissingValues\",\n",
    "    inputs={\n",
    "        \"dataset\": vm_raw_ds\n",
    "    }\n",
    ")"
   ]
  },
  {
   "cell_type": "code",
   "execution_count": null,
   "metadata": {},
   "outputs": [],
   "source": [
    "vm.tests.run_test(\n",
    "    test_id=\"validmind.data_validation.TimeSeriesFrequency\",\n",
    "    inputs={\n",
    "        \"dataset\": vm_raw_ds\n",
    "    }\n",
    ")"
   ]
  },
  {
   "cell_type": "markdown",
   "metadata": {},
   "source": [
    "## Seasonality Analysis"
   ]
  },
  {
   "cell_type": "markdown",
   "metadata": {},
   "source": [
    "The seasonal plot shows the deviation from the trend, so the units represent the magnitude of the seasonal effect in billions of U.S. dollars. \n",
    "\n",
    "The y-axis of the seasonal plot ranges from approximately -20 to +30, which suggests that the seasonal fluctuations in deposit volumes can vary by tens of billions of dollars throughout the year. These fluctuations are significant and should be considered when analyzing the data for predictive modeling or other financial analyses."
   ]
  },
  {
   "cell_type": "code",
   "execution_count": null,
   "metadata": {},
   "outputs": [],
   "source": [
    "from statsmodels.tsa.seasonal import seasonal_decompose\n",
    "\n",
    "# Decompose the time series\n",
    "result = seasonal_decompose(df['DPSACBW027NBOG'], model='additive')\n",
    "\n",
    "# Plot the seasonal component\n",
    "seasonal = result.seasonal\n",
    "fig = px.line(seasonal, title='Seasonal Component of Deposits')\n",
    "fig.show()"
   ]
  },
  {
   "cell_type": "code",
   "execution_count": null,
   "metadata": {},
   "outputs": [],
   "source": [
    "vm.tests.run_test(\n",
    "    test_id=\"validmind.data_validation.SeasonalDecompose\",\n",
    "    inputs={\n",
    "        \"dataset\": vm_raw_ds\n",
    "    }\n",
    ")"
   ]
  },
  {
   "cell_type": "code",
   "execution_count": null,
   "metadata": {},
   "outputs": [],
   "source": [
    "vm.tests.run_test(\n",
    "    test_id=\"validmind.data_validation.AutoSeasonality\",\n",
    "    inputs={\n",
    "        \"dataset\": vm_raw_ds\n",
    "    }\n",
    ")"
   ]
  },
  {
   "cell_type": "markdown",
   "metadata": {},
   "source": [
    "## Fit Bayesian Model"
   ]
  },
  {
   "cell_type": "code",
   "execution_count": null,
   "metadata": {},
   "outputs": [],
   "source": []
  }
 ],
 "metadata": {
  "kernelspec": {
   "display_name": "validmind-eEL8LtKG-py3.10",
   "language": "python",
   "name": "python3"
  },
  "language_info": {
   "codemirror_mode": {
    "name": "ipython",
    "version": 3
   },
   "file_extension": ".py",
   "mimetype": "text/x-python",
   "name": "python",
   "nbconvert_exporter": "python",
   "pygments_lexer": "ipython3",
   "version": "3.10.13"
  }
 },
 "nbformat": 4,
 "nbformat_minor": 2
}
