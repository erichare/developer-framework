{
 "cells": [
  {
   "cell_type": "markdown",
   "metadata": {},
   "source": [
    "# Corporate Deposits Forecast Model Demo"
   ]
  },
  {
   "cell_type": "code",
   "execution_count": null,
   "metadata": {},
   "outputs": [],
   "source": []
  },
  {
   "cell_type": "markdown",
   "metadata": {},
   "source": [
    "<a id='toc2_'></a>\n",
    "\n",
    "## Install the client library\n",
    "\n",
    "The client library provides Python support for the ValidMind Developer Framework. To install it:"
   ]
  },
  {
   "cell_type": "code",
   "execution_count": 1,
   "metadata": {},
   "outputs": [
    {
     "name": "stdout",
     "output_type": "stream",
     "text": [
      "\u001b[33mWARNING: visions 0.7.5 does not provide the extra 'type-image-path'\u001b[0m\u001b[33m\n",
      "\u001b[0mNote: you may need to restart the kernel to use updated packages.\n"
     ]
    }
   ],
   "source": [
    "%pip install -q validmind"
   ]
  },
  {
   "cell_type": "markdown",
   "metadata": {},
   "source": [
    "<a id='toc3_'></a>\n",
    "\n",
    "## Initialize the client library\n",
    "\n",
    "ValidMind generates a unique _code snippet_ for each registered model to connect with your developer environment. You initialize the client library with this code snippet, which ensures that your documentation and tests are uploaded to the correct model when you run the notebook.\n",
    "\n",
    "Get your code snippet:\n",
    "\n",
    "1. In a browser, log into the [Platform UI](https://app.prod.validmind.ai).\n",
    "\n",
    "2. In the left sidebar, navigate to **Model Inventory** and click **+ Register new model**.\n",
    "\n",
    "3. Enter the model details and click **Continue**. ([Need more help?](https://docs.validmind.ai/guide/register-models-in-model-inventory.html))\n",
    "\n",
    "   For example, to register a model for use with this notebook, select:\n",
    "\n",
    "   - Documentation template: `Baseline Template`\n",
    "   - Use case: `Analytics/Analytics`\n",
    "\n",
    "   You can fill in other options according to your preference.\n",
    "\n",
    "4. Go to **Getting Started** and click **Copy snippet to clipboard**.\n",
    "\n",
    "Next, replace this placeholder with your own code snippet:"
   ]
  },
  {
   "cell_type": "code",
   "execution_count": 2,
   "metadata": {},
   "outputs": [
    {
     "name": "stderr",
     "output_type": "stream",
     "text": [
      "2024-05-28 22:05:58,534 - INFO(validmind.api_client): Connected to ValidMind. Project: Corporate Deposits Forecast Model - Initial Validation (clwqql88401i022iknur86lpr)\n"
     ]
    }
   ],
   "source": [
    "import validmind as vm\n",
    "\n",
    "vm.init(\n",
    "  api_host = \"https://api.prod.validmind.ai/api/v1/tracking\",\n",
    "  api_key = \"...\",\n",
    "  api_secret = \"...\",\n",
    "  project = \"...\"\n",
    ")"
   ]
  },
  {
   "cell_type": "markdown",
   "metadata": {},
   "source": [
    "<a id='toc4_'></a>\n",
    "\n",
    "## Initialize the Python environment\n",
    "\n",
    "Next, let's import the necessary libraries and set up your Python environment for data analysis:"
   ]
  },
  {
   "cell_type": "code",
   "execution_count": 3,
   "metadata": {},
   "outputs": [
    {
     "name": "stderr",
     "output_type": "stream",
     "text": [
      "WARNING (pytensor.tensor.blas): Using NumPy C-API based implementation for BLAS functions.\n"
     ]
    }
   ],
   "source": [
    "import arviz as az\n",
    "import numpy as np\n",
    "import pandas as pd\n",
    "import pymc as pm\n",
    "import plotly.express as px\n",
    "import plotly.graph_objects as go"
   ]
  },
  {
   "cell_type": "markdown",
   "metadata": {},
   "source": [
    "<a id='toc4_1_'></a>\n",
    "\n",
    "### Preview the documentation template\n",
    "\n",
    "A template predefines sections for your model documentation and provides a general outline to follow, making the documentation process much easier.\n",
    "\n",
    "You'll upload documentation and test results into this template later on. For now, take a look at the structure that the template provides with the `vm.preview_template()` function from the ValidMind library and note the empty sections:"
   ]
  },
  {
   "cell_type": "code",
   "execution_count": 4,
   "metadata": {},
   "outputs": [
    {
     "data": {
      "application/vnd.jupyter.widget-view+json": {
       "model_id": "913e030e0d3a47338a2279c1f3bf5e02",
       "version_major": 2,
       "version_minor": 0
      },
      "text/plain": [
       "Accordion(children=(Accordion(children=(HTML(value='<p>Empty Section</p>'), Accordion(children=(HTML(value='<p…"
      ]
     },
     "metadata": {},
     "output_type": "display_data"
    },
    {
     "data": {
      "text/html": [
       "\n",
       "<script defer type=\"module\">\n",
       "import hljs from 'https://unpkg.com/@highlightjs/cdn-assets@11.9.0/es/highlight.min.js';\n",
       "import python from 'https://cdnjs.cloudflare.com/ajax/libs/highlight.js/11.9.0/es/languages/python.min.js';\n",
       "\n",
       "hljs.registerLanguage('python', python);\n",
       "hljs.highlightAll();\n",
       "</script>\n"
      ],
      "text/plain": [
       "<IPython.core.display.HTML object>"
      ]
     },
     "metadata": {},
     "output_type": "display_data"
    },
    {
     "data": {
      "text/html": [
       "\n",
       "<script>\n",
       "window.MathJax = {\n",
       "    tex2jax: {\n",
       "        inlineMath: [['$', '$'], ['\\\\(', '\\\\)']],\n",
       "        displayMath: [['$$', '$$'], ['\\[', '\\]']],\n",
       "        processEscapes: true,\n",
       "        skipTags: ['script', 'noscript', 'style', 'textarea', 'pre'],\n",
       "        ignoreClass: \".*\",\n",
       "        processClass: \"math\"\n",
       "    }\n",
       "};\n",
       "setTimeout(function () {\n",
       "    var script = document.createElement('script');\n",
       "    script.type = 'text/javascript';\n",
       "    script.src = 'https://cdnjs.cloudflare.com/ajax/libs/mathjax/2.7.7/MathJax.js?config=TeX-AMS_HTML';\n",
       "    document.head.appendChild(script);\n",
       "}, 300);\n",
       "</script>\n"
      ],
      "text/plain": [
       "<IPython.core.display.HTML object>"
      ]
     },
     "metadata": {},
     "output_type": "display_data"
    }
   ],
   "source": [
    "vm.preview_template()"
   ]
  },
  {
   "cell_type": "markdown",
   "metadata": {},
   "source": [
    "<a id='toc5_'></a>\n",
    "\n",
    "## Load the sample dataset\n",
    "\n",
    "The sample dataset used here is provided by the ValidMind library. To be able to use it, you'll need to import the dataset and load it into a pandas [DataFrame](https://pandas.pydata.org/docs/reference/api/pandas.DataFrame.html), a two-dimensional tabular data structure that makes use of rows and columns:"
   ]
  },
  {
   "cell_type": "code",
   "execution_count": 5,
   "metadata": {},
   "outputs": [],
   "source": [
    "from validmind.datasets.regression import fred_deposits as demo_dataset\n",
    "\n",
    "deposits_df, deposits_seasonality_df, fedfunds_df, tb3ms_df, gs10_df, gs30_df = demo_dataset.load_data()\n",
    "\n",
    "df = deposits_seasonality_df.copy()\n",
    "\n",
    "df[\"Month\"] = df.index\n",
    "df[\"FEDFUNDS\"] = fedfunds_df[\"FEDFUNDS\"]\n",
    "df[\"TB3MS\"] = tb3ms_df[\"TB3MS\"]\n",
    "df[\"GS10\"] = gs10_df[\"GS10\"]\n",
    "df[\"GS30\"] = gs30_df[\"GS30\"]\n",
    "\n",
    "target_column = demo_dataset.target_column"
   ]
  },
  {
   "cell_type": "markdown",
   "metadata": {},
   "source": [
    "<a id='toc6_'></a>\n",
    "\n",
    "## Train the seasonality model"
   ]
  },
  {
   "cell_type": "code",
   "execution_count": 6,
   "metadata": {},
   "outputs": [],
   "source": [
    "t = (df[\"Month\"]- pd.Timestamp(\"1900-01-01\")).dt.days.to_numpy()\n",
    "t_min = np.min(t)\n",
    "t_max = np.max(t)\n",
    "t = (t - t_min) / (t_max - t_min)"
   ]
  },
  {
   "cell_type": "code",
   "execution_count": 7,
   "metadata": {},
   "outputs": [],
   "source": [
    "y = df[target_column].to_numpy()\n",
    "y_max = np.max(y)\n",
    "y = y / y_max"
   ]
  },
  {
   "cell_type": "code",
   "execution_count": 8,
   "metadata": {},
   "outputs": [
    {
     "name": "stderr",
     "output_type": "stream",
     "text": [
      "Sampling: [alpha, beta, likelihood, sigma]\n",
      "Auto-assigning NUTS sampler...\n",
      "Initializing NUTS using jitter+adapt_diag...\n",
      "Multiprocess sampling (4 chains in 4 jobs)\n",
      "NUTS: [alpha, beta, sigma]\n"
     ]
    },
    {
     "data": {
      "application/vnd.jupyter.widget-view+json": {
       "model_id": "27a90a2e4c7243bc90dc24e8fe2c4b60",
       "version_major": 2,
       "version_minor": 0
      },
      "text/plain": [
       "Output()"
      ]
     },
     "metadata": {},
     "output_type": "display_data"
    },
    {
     "data": {
      "text/html": [
       "<pre style=\"white-space:pre;overflow-x:auto;line-height:normal;font-family:Menlo,'DejaVu Sans Mono',consolas,'Courier New',monospace\"></pre>\n"
      ],
      "text/plain": []
     },
     "metadata": {},
     "output_type": "display_data"
    },
    {
     "data": {
      "text/html": [
       "<pre style=\"white-space:pre;overflow-x:auto;line-height:normal;font-family:Menlo,'DejaVu Sans Mono',consolas,'Courier New',monospace\">\n",
       "</pre>\n"
      ],
      "text/plain": [
       "\n"
      ]
     },
     "metadata": {},
     "output_type": "display_data"
    },
    {
     "name": "stderr",
     "output_type": "stream",
     "text": [
      "Sampling 4 chains for 1_000 tune and 1_000 draw iterations (4_000 + 4_000 draws total) took 18 seconds.\n",
      "Sampling: [likelihood]\n"
     ]
    },
    {
     "data": {
      "application/vnd.jupyter.widget-view+json": {
       "model_id": "d8dac7c8c78d4442857adba6e0d7cd92",
       "version_major": 2,
       "version_minor": 0
      },
      "text/plain": [
       "Output()"
      ]
     },
     "metadata": {},
     "output_type": "display_data"
    },
    {
     "data": {
      "text/html": [
       "<pre style=\"white-space:pre;overflow-x:auto;line-height:normal;font-family:Menlo,'DejaVu Sans Mono',consolas,'Courier New',monospace\"></pre>\n"
      ],
      "text/plain": []
     },
     "metadata": {},
     "output_type": "display_data"
    },
    {
     "data": {
      "text/html": [
       "<pre style=\"white-space:pre;overflow-x:auto;line-height:normal;font-family:Menlo,'DejaVu Sans Mono',consolas,'Courier New',monospace\">\n",
       "</pre>\n"
      ],
      "text/plain": [
       "\n"
      ]
     },
     "metadata": {},
     "output_type": "display_data"
    }
   ],
   "source": [
    "with pm.Model(check_bounds=False) as linear:\n",
    "    alpha = pm.Normal(\"alpha\", mu=0, sigma=0.5)\n",
    "    beta = pm.Normal(\"beta\", mu=0, sigma=0.5)\n",
    "    sigma = pm.HalfNormal(\"sigma\", sigma=0.5)\n",
    "    trend = pm.Deterministic(\"trend\", alpha + beta * t)\n",
    "    pm.Normal(\"likelihood\", mu=trend, sigma=sigma, observed=y)\n",
    "\n",
    "    linear_prior = pm.sample_prior_predictive()\n",
    "\n",
    "with linear:\n",
    "    linear_trace = pm.sample(return_inferencedata=True)\n",
    "    linear_prior = pm.sample_posterior_predictive(trace=linear_trace)"
   ]
  },
  {
   "cell_type": "code",
   "execution_count": 9,
   "metadata": {},
   "outputs": [
    {
     "data": {
      "text/html": [
       "<div>\n",
       "<style scoped>\n",
       "    .dataframe tbody tr th:only-of-type {\n",
       "        vertical-align: middle;\n",
       "    }\n",
       "\n",
       "    .dataframe tbody tr th {\n",
       "        vertical-align: top;\n",
       "    }\n",
       "\n",
       "    .dataframe thead th {\n",
       "        text-align: right;\n",
       "    }\n",
       "</style>\n",
       "<table border=\"1\" class=\"dataframe\">\n",
       "  <thead>\n",
       "    <tr style=\"text-align: right;\">\n",
       "      <th></th>\n",
       "      <th>sin_order_1</th>\n",
       "      <th>cos_order_1</th>\n",
       "      <th>sin_order_2</th>\n",
       "      <th>cos_order_2</th>\n",
       "      <th>sin_order_3</th>\n",
       "      <th>cos_order_3</th>\n",
       "      <th>sin_order_4</th>\n",
       "      <th>cos_order_4</th>\n",
       "      <th>sin_order_5</th>\n",
       "      <th>cos_order_5</th>\n",
       "      <th>sin_order_6</th>\n",
       "      <th>cos_order_6</th>\n",
       "      <th>sin_order_7</th>\n",
       "      <th>cos_order_7</th>\n",
       "      <th>sin_order_8</th>\n",
       "      <th>cos_order_8</th>\n",
       "      <th>sin_order_9</th>\n",
       "      <th>cos_order_9</th>\n",
       "      <th>sin_order_10</th>\n",
       "      <th>cos_order_10</th>\n",
       "    </tr>\n",
       "    <tr>\n",
       "      <th>DATE</th>\n",
       "      <th></th>\n",
       "      <th></th>\n",
       "      <th></th>\n",
       "      <th></th>\n",
       "      <th></th>\n",
       "      <th></th>\n",
       "      <th></th>\n",
       "      <th></th>\n",
       "      <th></th>\n",
       "      <th></th>\n",
       "      <th></th>\n",
       "      <th></th>\n",
       "      <th></th>\n",
       "      <th></th>\n",
       "      <th></th>\n",
       "      <th></th>\n",
       "      <th></th>\n",
       "      <th></th>\n",
       "      <th></th>\n",
       "      <th></th>\n",
       "    </tr>\n",
       "  </thead>\n",
       "  <tbody>\n",
       "    <tr>\n",
       "      <th>2010-01-01</th>\n",
       "      <td>-0.008601</td>\n",
       "      <td>0.999963</td>\n",
       "      <td>-0.017202</td>\n",
       "      <td>0.999852</td>\n",
       "      <td>-0.025801</td>\n",
       "      <td>0.999667</td>\n",
       "      <td>-0.034398</td>\n",
       "      <td>0.999408</td>\n",
       "      <td>-0.042993</td>\n",
       "      <td>0.999075</td>\n",
       "      <td>-0.051584</td>\n",
       "      <td>0.998669</td>\n",
       "      <td>-0.060172</td>\n",
       "      <td>0.998188</td>\n",
       "      <td>-0.068755</td>\n",
       "      <td>0.997634</td>\n",
       "      <td>-0.077334</td>\n",
       "      <td>0.997005</td>\n",
       "      <td>-0.085906</td>\n",
       "      <td>0.996303</td>\n",
       "    </tr>\n",
       "    <tr>\n",
       "      <th>2010-02-01</th>\n",
       "      <td>0.500931</td>\n",
       "      <td>0.865487</td>\n",
       "      <td>0.867099</td>\n",
       "      <td>0.498137</td>\n",
       "      <td>0.999995</td>\n",
       "      <td>-0.003225</td>\n",
       "      <td>0.863867</td>\n",
       "      <td>-0.503720</td>\n",
       "      <td>0.495337</td>\n",
       "      <td>-0.868701</td>\n",
       "      <td>-0.006451</td>\n",
       "      <td>-0.999979</td>\n",
       "      <td>-0.506504</td>\n",
       "      <td>-0.862238</td>\n",
       "      <td>-0.870294</td>\n",
       "      <td>-0.492533</td>\n",
       "      <td>-0.999953</td>\n",
       "      <td>0.009676</td>\n",
       "      <td>-0.860600</td>\n",
       "      <td>0.509282</td>\n",
       "    </tr>\n",
       "    <tr>\n",
       "      <th>2010-03-01</th>\n",
       "      <td>0.844881</td>\n",
       "      <td>0.534955</td>\n",
       "      <td>0.903946</td>\n",
       "      <td>-0.427646</td>\n",
       "      <td>0.122261</td>\n",
       "      <td>-0.992498</td>\n",
       "      <td>-0.773138</td>\n",
       "      <td>-0.634237</td>\n",
       "      <td>-0.949449</td>\n",
       "      <td>0.313921</td>\n",
       "      <td>-0.242687</td>\n",
       "      <td>0.970105</td>\n",
       "      <td>0.689796</td>\n",
       "      <td>0.724004</td>\n",
       "      <td>0.980707</td>\n",
       "      <td>-0.195486</td>\n",
       "      <td>0.359472</td>\n",
       "      <td>-0.933156</td>\n",
       "      <td>-0.596104</td>\n",
       "      <td>-0.802907</td>\n",
       "    </tr>\n",
       "    <tr>\n",
       "      <th>2010-04-01</th>\n",
       "      <td>0.999514</td>\n",
       "      <td>0.031174</td>\n",
       "      <td>0.062318</td>\n",
       "      <td>-0.998056</td>\n",
       "      <td>-0.995628</td>\n",
       "      <td>-0.093402</td>\n",
       "      <td>-0.124395</td>\n",
       "      <td>0.992233</td>\n",
       "      <td>0.987873</td>\n",
       "      <td>0.155266</td>\n",
       "      <td>0.185987</td>\n",
       "      <td>-0.982552</td>\n",
       "      <td>-0.976277</td>\n",
       "      <td>-0.216527</td>\n",
       "      <td>-0.246857</td>\n",
       "      <td>0.969052</td>\n",
       "      <td>0.960885</td>\n",
       "      <td>0.276946</td>\n",
       "      <td>0.306767</td>\n",
       "      <td>-0.951785</td>\n",
       "    </tr>\n",
       "    <tr>\n",
       "      <th>2010-05-01</th>\n",
       "      <td>0.884725</td>\n",
       "      <td>-0.466114</td>\n",
       "      <td>-0.824765</td>\n",
       "      <td>-0.565476</td>\n",
       "      <td>-0.115856</td>\n",
       "      <td>0.993266</td>\n",
       "      <td>0.932769</td>\n",
       "      <td>-0.360475</td>\n",
       "      <td>-0.753698</td>\n",
       "      <td>-0.657221</td>\n",
       "      <td>-0.230151</td>\n",
       "      <td>0.973155</td>\n",
       "      <td>0.968251</td>\n",
       "      <td>-0.249981</td>\n",
       "      <td>-0.672480</td>\n",
       "      <td>-0.740116</td>\n",
       "      <td>-0.341347</td>\n",
       "      <td>0.939938</td>\n",
       "      <td>0.990692</td>\n",
       "      <td>-0.136120</td>\n",
       "    </tr>\n",
       "    <tr>\n",
       "      <th>...</th>\n",
       "      <td>...</td>\n",
       "      <td>...</td>\n",
       "      <td>...</td>\n",
       "      <td>...</td>\n",
       "      <td>...</td>\n",
       "      <td>...</td>\n",
       "      <td>...</td>\n",
       "      <td>...</td>\n",
       "      <td>...</td>\n",
       "      <td>...</td>\n",
       "      <td>...</td>\n",
       "      <td>...</td>\n",
       "      <td>...</td>\n",
       "      <td>...</td>\n",
       "      <td>...</td>\n",
       "      <td>...</td>\n",
       "      <td>...</td>\n",
       "      <td>...</td>\n",
       "      <td>...</td>\n",
       "      <td>...</td>\n",
       "    </tr>\n",
       "    <tr>\n",
       "      <th>2022-08-01</th>\n",
       "      <td>-0.476544</td>\n",
       "      <td>-0.879150</td>\n",
       "      <td>0.837909</td>\n",
       "      <td>0.545811</td>\n",
       "      <td>-0.996751</td>\n",
       "      <td>-0.080549</td>\n",
       "      <td>0.914679</td>\n",
       "      <td>-0.404181</td>\n",
       "      <td>-0.611530</td>\n",
       "      <td>0.791221</td>\n",
       "      <td>0.160575</td>\n",
       "      <td>-0.987024</td>\n",
       "      <td>0.329192</td>\n",
       "      <td>0.944263</td>\n",
       "      <td>-0.739392</td>\n",
       "      <td>-0.673275</td>\n",
       "      <td>0.970882</td>\n",
       "      <td>0.239557</td>\n",
       "      <td>-0.967711</td>\n",
       "      <td>0.252062</td>\n",
       "    </tr>\n",
       "    <tr>\n",
       "      <th>2022-09-01</th>\n",
       "      <td>-0.857296</td>\n",
       "      <td>-0.514823</td>\n",
       "      <td>0.882712</td>\n",
       "      <td>-0.469915</td>\n",
       "      <td>-0.051584</td>\n",
       "      <td>0.998669</td>\n",
       "      <td>-0.829598</td>\n",
       "      <td>-0.558361</td>\n",
       "      <td>0.905777</td>\n",
       "      <td>-0.423755</td>\n",
       "      <td>-0.103031</td>\n",
       "      <td>0.994678</td>\n",
       "      <td>-0.799691</td>\n",
       "      <td>-0.600412</td>\n",
       "      <td>0.926430</td>\n",
       "      <td>-0.376467</td>\n",
       "      <td>-0.154204</td>\n",
       "      <td>0.988039</td>\n",
       "      <td>-0.767655</td>\n",
       "      <td>-0.640864</td>\n",
       "    </tr>\n",
       "    <tr>\n",
       "      <th>2022-10-01</th>\n",
       "      <td>-0.999694</td>\n",
       "      <td>-0.024726</td>\n",
       "      <td>0.049437</td>\n",
       "      <td>-0.998777</td>\n",
       "      <td>0.997250</td>\n",
       "      <td>0.074117</td>\n",
       "      <td>-0.098753</td>\n",
       "      <td>0.995112</td>\n",
       "      <td>-0.992366</td>\n",
       "      <td>-0.123328</td>\n",
       "      <td>0.147827</td>\n",
       "      <td>-0.989013</td>\n",
       "      <td>0.985056</td>\n",
       "      <td>0.172236</td>\n",
       "      <td>-0.196540</td>\n",
       "      <td>0.980496</td>\n",
       "      <td>-0.975336</td>\n",
       "      <td>-0.220724</td>\n",
       "      <td>0.244772</td>\n",
       "      <td>-0.969581</td>\n",
       "    </tr>\n",
       "    <tr>\n",
       "      <th>2022-11-01</th>\n",
       "      <td>-0.873453</td>\n",
       "      <td>0.486908</td>\n",
       "      <td>-0.850583</td>\n",
       "      <td>-0.525841</td>\n",
       "      <td>0.045141</td>\n",
       "      <td>-0.998981</td>\n",
       "      <td>0.894542</td>\n",
       "      <td>-0.446983</td>\n",
       "      <td>0.825979</td>\n",
       "      <td>0.563701</td>\n",
       "      <td>-0.090190</td>\n",
       "      <td>0.995925</td>\n",
       "      <td>-0.913808</td>\n",
       "      <td>0.406147</td>\n",
       "      <td>-0.799691</td>\n",
       "      <td>-0.600412</td>\n",
       "      <td>0.135055</td>\n",
       "      <td>-0.990838</td>\n",
       "      <td>0.931210</td>\n",
       "      <td>-0.364483</td>\n",
       "    </tr>\n",
       "    <tr>\n",
       "      <th>2022-12-01</th>\n",
       "      <td>-0.519424</td>\n",
       "      <td>0.854517</td>\n",
       "      <td>-0.887713</td>\n",
       "      <td>0.460397</td>\n",
       "      <td>-0.997707</td>\n",
       "      <td>-0.067683</td>\n",
       "      <td>-0.817401</td>\n",
       "      <td>-0.576069</td>\n",
       "      <td>-0.399258</td>\n",
       "      <td>-0.916838</td>\n",
       "      <td>0.135055</td>\n",
       "      <td>-0.990838</td>\n",
       "      <td>0.630072</td>\n",
       "      <td>-0.776537</td>\n",
       "      <td>0.941759</td>\n",
       "      <td>-0.336289</td>\n",
       "      <td>0.979425</td>\n",
       "      <td>0.201808</td>\n",
       "      <td>0.732111</td>\n",
       "      <td>0.681185</td>\n",
       "    </tr>\n",
       "  </tbody>\n",
       "</table>\n",
       "<p>156 rows × 20 columns</p>\n",
       "</div>"
      ],
      "text/plain": [
       "            sin_order_1  cos_order_1  sin_order_2  cos_order_2  sin_order_3  \\\n",
       "DATE                                                                          \n",
       "2010-01-01    -0.008601     0.999963    -0.017202     0.999852    -0.025801   \n",
       "2010-02-01     0.500931     0.865487     0.867099     0.498137     0.999995   \n",
       "2010-03-01     0.844881     0.534955     0.903946    -0.427646     0.122261   \n",
       "2010-04-01     0.999514     0.031174     0.062318    -0.998056    -0.995628   \n",
       "2010-05-01     0.884725    -0.466114    -0.824765    -0.565476    -0.115856   \n",
       "...                 ...          ...          ...          ...          ...   \n",
       "2022-08-01    -0.476544    -0.879150     0.837909     0.545811    -0.996751   \n",
       "2022-09-01    -0.857296    -0.514823     0.882712    -0.469915    -0.051584   \n",
       "2022-10-01    -0.999694    -0.024726     0.049437    -0.998777     0.997250   \n",
       "2022-11-01    -0.873453     0.486908    -0.850583    -0.525841     0.045141   \n",
       "2022-12-01    -0.519424     0.854517    -0.887713     0.460397    -0.997707   \n",
       "\n",
       "            cos_order_3  sin_order_4  cos_order_4  sin_order_5  cos_order_5  \\\n",
       "DATE                                                                          \n",
       "2010-01-01     0.999667    -0.034398     0.999408    -0.042993     0.999075   \n",
       "2010-02-01    -0.003225     0.863867    -0.503720     0.495337    -0.868701   \n",
       "2010-03-01    -0.992498    -0.773138    -0.634237    -0.949449     0.313921   \n",
       "2010-04-01    -0.093402    -0.124395     0.992233     0.987873     0.155266   \n",
       "2010-05-01     0.993266     0.932769    -0.360475    -0.753698    -0.657221   \n",
       "...                 ...          ...          ...          ...          ...   \n",
       "2022-08-01    -0.080549     0.914679    -0.404181    -0.611530     0.791221   \n",
       "2022-09-01     0.998669    -0.829598    -0.558361     0.905777    -0.423755   \n",
       "2022-10-01     0.074117    -0.098753     0.995112    -0.992366    -0.123328   \n",
       "2022-11-01    -0.998981     0.894542    -0.446983     0.825979     0.563701   \n",
       "2022-12-01    -0.067683    -0.817401    -0.576069    -0.399258    -0.916838   \n",
       "\n",
       "            sin_order_6  cos_order_6  sin_order_7  cos_order_7  sin_order_8  \\\n",
       "DATE                                                                          \n",
       "2010-01-01    -0.051584     0.998669    -0.060172     0.998188    -0.068755   \n",
       "2010-02-01    -0.006451    -0.999979    -0.506504    -0.862238    -0.870294   \n",
       "2010-03-01    -0.242687     0.970105     0.689796     0.724004     0.980707   \n",
       "2010-04-01     0.185987    -0.982552    -0.976277    -0.216527    -0.246857   \n",
       "2010-05-01    -0.230151     0.973155     0.968251    -0.249981    -0.672480   \n",
       "...                 ...          ...          ...          ...          ...   \n",
       "2022-08-01     0.160575    -0.987024     0.329192     0.944263    -0.739392   \n",
       "2022-09-01    -0.103031     0.994678    -0.799691    -0.600412     0.926430   \n",
       "2022-10-01     0.147827    -0.989013     0.985056     0.172236    -0.196540   \n",
       "2022-11-01    -0.090190     0.995925    -0.913808     0.406147    -0.799691   \n",
       "2022-12-01     0.135055    -0.990838     0.630072    -0.776537     0.941759   \n",
       "\n",
       "            cos_order_8  sin_order_9  cos_order_9  sin_order_10  cos_order_10  \n",
       "DATE                                                                           \n",
       "2010-01-01     0.997634    -0.077334     0.997005     -0.085906      0.996303  \n",
       "2010-02-01    -0.492533    -0.999953     0.009676     -0.860600      0.509282  \n",
       "2010-03-01    -0.195486     0.359472    -0.933156     -0.596104     -0.802907  \n",
       "2010-04-01     0.969052     0.960885     0.276946      0.306767     -0.951785  \n",
       "2010-05-01    -0.740116    -0.341347     0.939938      0.990692     -0.136120  \n",
       "...                 ...          ...          ...           ...           ...  \n",
       "2022-08-01    -0.673275     0.970882     0.239557     -0.967711      0.252062  \n",
       "2022-09-01    -0.376467    -0.154204     0.988039     -0.767655     -0.640864  \n",
       "2022-10-01     0.980496    -0.975336    -0.220724      0.244772     -0.969581  \n",
       "2022-11-01    -0.600412     0.135055    -0.990838      0.931210     -0.364483  \n",
       "2022-12-01    -0.336289     0.979425     0.201808      0.732111      0.681185  \n",
       "\n",
       "[156 rows x 20 columns]"
      ]
     },
     "execution_count": 9,
     "metadata": {},
     "output_type": "execute_result"
    }
   ],
   "source": [
    "n_order = 10\n",
    "periods = (df[\"Month\"] - pd.Timestamp(\"1900-01-01\")).dt.days / 365.25\n",
    "\n",
    "fourier_features = pd.DataFrame(\n",
    "    {\n",
    "        f\"{func}_order_{order}\": getattr(np, func)(2 * np.pi * periods * order)\n",
    "        for order in range(1, n_order + 1)\n",
    "        for func in (\"sin\", \"cos\")\n",
    "    }\n",
    ")\n",
    "fourier_features"
   ]
  },
  {
   "cell_type": "code",
   "execution_count": 10,
   "metadata": {},
   "outputs": [
    {
     "name": "stderr",
     "output_type": "stream",
     "text": [
      "Sampling: [alpha, beta, beta_fourier, likelihood, sigma]\n",
      "Auto-assigning NUTS sampler...\n",
      "Initializing NUTS using jitter+adapt_diag...\n",
      "Multiprocess sampling (4 chains in 4 jobs)\n",
      "NUTS: [alpha, beta, sigma, beta_fourier]\n"
     ]
    },
    {
     "data": {
      "application/vnd.jupyter.widget-view+json": {
       "model_id": "cbb0a1a5196040a8928d554c12ed73fb",
       "version_major": 2,
       "version_minor": 0
      },
      "text/plain": [
       "Output()"
      ]
     },
     "metadata": {},
     "output_type": "display_data"
    },
    {
     "data": {
      "text/html": [
       "<pre style=\"white-space:pre;overflow-x:auto;line-height:normal;font-family:Menlo,'DejaVu Sans Mono',consolas,'Courier New',monospace\"></pre>\n"
      ],
      "text/plain": []
     },
     "metadata": {},
     "output_type": "display_data"
    },
    {
     "data": {
      "text/html": [
       "<pre style=\"white-space:pre;overflow-x:auto;line-height:normal;font-family:Menlo,'DejaVu Sans Mono',consolas,'Courier New',monospace\">\n",
       "</pre>\n"
      ],
      "text/plain": [
       "\n"
      ]
     },
     "metadata": {},
     "output_type": "display_data"
    },
    {
     "name": "stderr",
     "output_type": "stream",
     "text": [
      "Sampling 4 chains for 1_000 tune and 1_000 draw iterations (4_000 + 4_000 draws total) took 23 seconds.\n",
      "Sampling: [likelihood]\n"
     ]
    },
    {
     "data": {
      "application/vnd.jupyter.widget-view+json": {
       "model_id": "d054697532ad478abf2db2f7e8c22b6b",
       "version_major": 2,
       "version_minor": 0
      },
      "text/plain": [
       "Output()"
      ]
     },
     "metadata": {},
     "output_type": "display_data"
    },
    {
     "data": {
      "text/html": [
       "<pre style=\"white-space:pre;overflow-x:auto;line-height:normal;font-family:Menlo,'DejaVu Sans Mono',consolas,'Courier New',monospace\"></pre>\n"
      ],
      "text/plain": []
     },
     "metadata": {},
     "output_type": "display_data"
    },
    {
     "data": {
      "text/html": [
       "<pre style=\"white-space:pre;overflow-x:auto;line-height:normal;font-family:Menlo,'DejaVu Sans Mono',consolas,'Courier New',monospace\">\n",
       "</pre>\n"
      ],
      "text/plain": [
       "\n"
      ]
     },
     "metadata": {},
     "output_type": "display_data"
    }
   ],
   "source": [
    "coords = {\"fourier_features\": np.arange(2 * n_order)}\n",
    "with pm.Model(check_bounds=False, coords=coords) as linear_with_seasonality:\n",
    "    alpha = pm.Normal(\"alpha\", mu=0, sigma=0.5)\n",
    "    beta = pm.Normal(\"beta\", mu=0, sigma=0.5)\n",
    "    sigma = pm.HalfNormal(\"sigma\", sigma=0.1)\n",
    "    beta_fourier = pm.Normal(\"beta_fourier\", mu=0, sigma=0.1, dims=\"fourier_features\")\n",
    "    seasonality = pm.Deterministic(\n",
    "        \"seasonality\", pm.math.dot(beta_fourier, fourier_features.to_numpy().T)\n",
    "    )\n",
    "    trend = pm.Deterministic(\"trend\", alpha + beta * t)\n",
    "    mu = trend + seasonality\n",
    "    pm.Normal(\"likelihood\", mu=mu, sigma=sigma, observed=y)\n",
    "\n",
    "    linear_seasonality_prior = pm.sample_prior_predictive()\n",
    "\n",
    "with linear_with_seasonality:\n",
    "    linear_seasonality_trace = pm.sample(return_inferencedata=True)\n",
    "    linear_seasonality_posterior = pm.sample_posterior_predictive(trace=linear_seasonality_trace)"
   ]
  },
  {
   "cell_type": "code",
   "execution_count": 11,
   "metadata": {},
   "outputs": [],
   "source": [
    "likelihood = az.extract(linear_seasonality_posterior, group=\"posterior_predictive\", num_samples=100)[\"likelihood\"] * y_max\n",
    "trend = az.extract(linear_trace, group=\"posterior\", num_samples=100)[\"trend\"] * y_max\n",
    "seasonality = az.extract(linear_seasonality_trace, group=\"posterior\", num_samples=100)[\"seasonality\"] * 10000"
   ]
  },
  {
   "cell_type": "code",
   "execution_count": 14,
   "metadata": {},
   "outputs": [],
   "source": [
    "# Extract the posterior predictive mean for seasonality\n",
    "seasonality_posterior_mean = seasonality.mean(axis=1)"
   ]
  },
  {
   "cell_type": "code",
   "execution_count": 18,
   "metadata": {},
   "outputs": [],
   "source": [
    "vm_seasonality_model = vm.init_model(\n",
    "    input_id=\"seasonality_model\",\n",
    "    attributes={\n",
    "        \"architecture\": \"PyMC\",\n",
    "        \"language\": \"Python\",\n",
    "    }\n",
    ")"
   ]
  },
  {
   "cell_type": "code",
   "execution_count": 15,
   "metadata": {},
   "outputs": [
    {
     "name": "stderr",
     "output_type": "stream",
     "text": [
      "2024-05-28 22:10:12,645 - INFO(validmind.client): Pandas dataset detected. Initializing VM Dataset instance...\n",
      "Treating datetime data as categorical rather than numeric in `.describe` is deprecated and will be removed in a future version of pandas. Specify `datetime_is_numeric=True` to silence this warning and adopt the future behavior now.\n"
     ]
    }
   ],
   "source": [
    "vm_raw_ds = vm.init_dataset(\n",
    "    dataset=df,\n",
    "    input_id=\"raw_ds\"\n",
    ")\n"
   ]
  },
  {
   "cell_type": "code",
   "execution_count": 19,
   "metadata": {},
   "outputs": [
    {
     "name": "stderr",
     "output_type": "stream",
     "text": [
      "2024-05-28 22:14:22,766 - WARNING(validmind.vm_models.dataset.dataset): Model predictions already assigned... Overwriting.\n",
      "2024-05-28 22:14:22,766 - INFO(validmind.vm_models.dataset.dataset): No probabilities computed or provided. Not adding probability column to the dataset.\n"
     ]
    }
   ],
   "source": [
    "vm_raw_ds.assign_predictions(\n",
    "    model=vm_seasonality_model,\n",
    "    prediction_values=seasonality.mean(axis=1)\n",
    ")"
   ]
  },
  {
   "cell_type": "code",
   "execution_count": 20,
   "metadata": {},
   "outputs": [
    {
     "data": {
      "text/html": [
       "<div>\n",
       "<style scoped>\n",
       "    .dataframe tbody tr th:only-of-type {\n",
       "        vertical-align: middle;\n",
       "    }\n",
       "\n",
       "    .dataframe tbody tr th {\n",
       "        vertical-align: top;\n",
       "    }\n",
       "\n",
       "    .dataframe thead th {\n",
       "        text-align: right;\n",
       "    }\n",
       "</style>\n",
       "<table border=\"1\" class=\"dataframe\">\n",
       "  <thead>\n",
       "    <tr style=\"text-align: right;\">\n",
       "      <th></th>\n",
       "      <th>DPSACBW027NBOG</th>\n",
       "      <th>Month</th>\n",
       "      <th>FEDFUNDS</th>\n",
       "      <th>TB3MS</th>\n",
       "      <th>GS10</th>\n",
       "      <th>GS30</th>\n",
       "      <th>seasonality_model_prediction</th>\n",
       "    </tr>\n",
       "    <tr>\n",
       "      <th>DATE</th>\n",
       "      <th></th>\n",
       "      <th></th>\n",
       "      <th></th>\n",
       "      <th></th>\n",
       "      <th></th>\n",
       "      <th></th>\n",
       "      <th></th>\n",
       "    </tr>\n",
       "  </thead>\n",
       "  <tbody>\n",
       "    <tr>\n",
       "      <th>2010-01-01</th>\n",
       "      <td>7692.71550</td>\n",
       "      <td>2010-01-01</td>\n",
       "      <td>0.11</td>\n",
       "      <td>0.06</td>\n",
       "      <td>3.73</td>\n",
       "      <td>4.60</td>\n",
       "      <td>31.229875</td>\n",
       "    </tr>\n",
       "    <tr>\n",
       "      <th>2010-02-01</th>\n",
       "      <td>7737.06000</td>\n",
       "      <td>2010-02-01</td>\n",
       "      <td>0.13</td>\n",
       "      <td>0.11</td>\n",
       "      <td>3.69</td>\n",
       "      <td>4.62</td>\n",
       "      <td>35.660255</td>\n",
       "    </tr>\n",
       "    <tr>\n",
       "      <th>2010-03-01</th>\n",
       "      <td>7798.83494</td>\n",
       "      <td>2010-03-01</td>\n",
       "      <td>0.16</td>\n",
       "      <td>0.15</td>\n",
       "      <td>3.73</td>\n",
       "      <td>4.64</td>\n",
       "      <td>61.238766</td>\n",
       "    </tr>\n",
       "    <tr>\n",
       "      <th>2010-04-01</th>\n",
       "      <td>7811.24200</td>\n",
       "      <td>2010-04-01</td>\n",
       "      <td>0.20</td>\n",
       "      <td>0.16</td>\n",
       "      <td>3.85</td>\n",
       "      <td>4.69</td>\n",
       "      <td>118.964207</td>\n",
       "    </tr>\n",
       "    <tr>\n",
       "      <th>2010-05-01</th>\n",
       "      <td>7743.18854</td>\n",
       "      <td>2010-05-01</td>\n",
       "      <td>0.20</td>\n",
       "      <td>0.16</td>\n",
       "      <td>3.42</td>\n",
       "      <td>4.29</td>\n",
       "      <td>86.079921</td>\n",
       "    </tr>\n",
       "  </tbody>\n",
       "</table>\n",
       "</div>"
      ],
      "text/plain": [
       "            DPSACBW027NBOG      Month  FEDFUNDS  TB3MS  GS10  GS30  \\\n",
       "DATE                                                                 \n",
       "2010-01-01      7692.71550 2010-01-01      0.11   0.06  3.73  4.60   \n",
       "2010-02-01      7737.06000 2010-02-01      0.13   0.11  3.69  4.62   \n",
       "2010-03-01      7798.83494 2010-03-01      0.16   0.15  3.73  4.64   \n",
       "2010-04-01      7811.24200 2010-04-01      0.20   0.16  3.85  4.69   \n",
       "2010-05-01      7743.18854 2010-05-01      0.20   0.16  3.42  4.29   \n",
       "\n",
       "            seasonality_model_prediction  \n",
       "DATE                                      \n",
       "2010-01-01                     31.229875  \n",
       "2010-02-01                     35.660255  \n",
       "2010-03-01                     61.238766  \n",
       "2010-04-01                    118.964207  \n",
       "2010-05-01                     86.079921  "
      ]
     },
     "execution_count": 20,
     "metadata": {},
     "output_type": "execute_result"
    }
   ],
   "source": [
    "vm_raw_ds.df.head()"
   ]
  },
  {
   "cell_type": "code",
   "execution_count": 22,
   "metadata": {},
   "outputs": [
    {
     "ename": "ValueError",
     "evalue": "The truth value of a Series is ambiguous. Use a.empty, a.bool(), a.item(), a.any() or a.all().",
     "output_type": "error",
     "traceback": [
      "\u001b[0;31m---------------------------------------------------------------------------\u001b[0m",
      "\u001b[0;31mValueError\u001b[0m                                Traceback (most recent call last)",
      "\u001b[0;32m/var/folders/tn/rbr74q892k13m82y37y396h40000gn/T/ipykernel_95395/1494953458.py\u001b[0m in \u001b[0;36m?\u001b[0;34m()\u001b[0m\n\u001b[0;32m----> 1\u001b[0;31m vm_raw_ds.add_extra_column(\n\u001b[0m\u001b[1;32m      2\u001b[0m     \u001b[0mcolumn_name\u001b[0m\u001b[0;34m=\u001b[0m\u001b[0;34mf\"{target_column}_seasonal_adjusted\"\u001b[0m\u001b[0;34m,\u001b[0m\u001b[0;34m\u001b[0m\u001b[0;34m\u001b[0m\u001b[0m\n\u001b[1;32m      3\u001b[0m     \u001b[0mcolumn_values\u001b[0m \u001b[0;34m=\u001b[0m \u001b[0mdf\u001b[0m\u001b[0;34m[\u001b[0m\u001b[0mtarget_column\u001b[0m\u001b[0;34m]\u001b[0m \u001b[0;34m-\u001b[0m \u001b[0mseasonality\u001b[0m\u001b[0;34m.\u001b[0m\u001b[0mmean\u001b[0m\u001b[0;34m(\u001b[0m\u001b[0maxis\u001b[0m\u001b[0;34m=\u001b[0m\u001b[0;36m1\u001b[0m\u001b[0;34m)\u001b[0m\u001b[0;34m\u001b[0m\u001b[0;34m\u001b[0m\u001b[0m\n\u001b[1;32m      4\u001b[0m )\n",
      "\u001b[0;32m~/Dev/github/validmind/developer-framework/validmind/vm_models/dataset/dataset.py\u001b[0m in \u001b[0;36m?\u001b[0;34m(self, column_name, column_values)\u001b[0m\n\u001b[1;32m    268\u001b[0m         \u001b[0mArgs\u001b[0m\u001b[0;34m:\u001b[0m\u001b[0;34m\u001b[0m\u001b[0;34m\u001b[0m\u001b[0m\n\u001b[1;32m    269\u001b[0m             \u001b[0mcolumn_name\u001b[0m \u001b[0;34m(\u001b[0m\u001b[0mstr\u001b[0m\u001b[0;34m)\u001b[0m\u001b[0;34m:\u001b[0m \u001b[0mThe\u001b[0m \u001b[0mname\u001b[0m \u001b[0mof\u001b[0m \u001b[0mthe\u001b[0m \u001b[0mextra\u001b[0m \u001b[0mcolumn\u001b[0m\u001b[0;34m.\u001b[0m\u001b[0;34m\u001b[0m\u001b[0;34m\u001b[0m\u001b[0m\n\u001b[1;32m    270\u001b[0m             \u001b[0mcolumn_values\u001b[0m \u001b[0;34m(\u001b[0m\u001b[0mnp\u001b[0m\u001b[0;34m.\u001b[0m\u001b[0mndarray\u001b[0m\u001b[0;34m,\u001b[0m \u001b[0moptional\u001b[0m\u001b[0;34m)\u001b[0m\u001b[0;34m:\u001b[0m \u001b[0mThe\u001b[0m \u001b[0mvalues\u001b[0m \u001b[0mof\u001b[0m \u001b[0mthe\u001b[0m \u001b[0mextra\u001b[0m \u001b[0mcolumn\u001b[0m\u001b[0;34m.\u001b[0m\u001b[0;34m\u001b[0m\u001b[0;34m\u001b[0m\u001b[0m\n\u001b[1;32m    271\u001b[0m         \"\"\"\n\u001b[0;32m--> 272\u001b[0;31m         \u001b[0;32mif\u001b[0m \u001b[0mcolumn_name\u001b[0m \u001b[0;32mnot\u001b[0m \u001b[0;32min\u001b[0m \u001b[0mself\u001b[0m\u001b[0;34m.\u001b[0m\u001b[0mcolumns\u001b[0m \u001b[0;32mand\u001b[0m \u001b[0;32mnot\u001b[0m \u001b[0mcolumn_values\u001b[0m\u001b[0;34m:\u001b[0m\u001b[0;34m\u001b[0m\u001b[0;34m\u001b[0m\u001b[0m\n\u001b[0m\u001b[1;32m    273\u001b[0m             raise ValueError(\n\u001b[1;32m    274\u001b[0m                 \u001b[0;34m\"Column values must be provided when the column doesn't exist in the dataset\"\u001b[0m\u001b[0;34m\u001b[0m\u001b[0;34m\u001b[0m\u001b[0m\n\u001b[1;32m    275\u001b[0m             )\n",
      "\u001b[0;32m~/Library/Caches/pypoetry/virtualenvs/validmind-eEL8LtKG-py3.10/lib/python3.10/site-packages/pandas/core/generic.py\u001b[0m in \u001b[0;36m?\u001b[0;34m(self)\u001b[0m\n\u001b[1;32m   1525\u001b[0m     \u001b[0;34m@\u001b[0m\u001b[0mfinal\u001b[0m\u001b[0;34m\u001b[0m\u001b[0;34m\u001b[0m\u001b[0m\n\u001b[1;32m   1526\u001b[0m     \u001b[0;32mdef\u001b[0m \u001b[0m__nonzero__\u001b[0m\u001b[0;34m(\u001b[0m\u001b[0mself\u001b[0m\u001b[0;34m)\u001b[0m \u001b[0;34m->\u001b[0m \u001b[0mNoReturn\u001b[0m\u001b[0;34m:\u001b[0m\u001b[0;34m\u001b[0m\u001b[0;34m\u001b[0m\u001b[0m\n\u001b[0;32m-> 1527\u001b[0;31m         raise ValueError(\n\u001b[0m\u001b[1;32m   1528\u001b[0m             \u001b[0;34mf\"The truth value of a {type(self).__name__} is ambiguous. \"\u001b[0m\u001b[0;34m\u001b[0m\u001b[0;34m\u001b[0m\u001b[0m\n\u001b[1;32m   1529\u001b[0m             \u001b[0;34m\"Use a.empty, a.bool(), a.item(), a.any() or a.all().\"\u001b[0m\u001b[0;34m\u001b[0m\u001b[0;34m\u001b[0m\u001b[0m\n\u001b[1;32m   1530\u001b[0m         )\n",
      "\u001b[0;31mValueError\u001b[0m: The truth value of a Series is ambiguous. Use a.empty, a.bool(), a.item(), a.any() or a.all()."
     ]
    }
   ],
   "source": [
    "vm_raw_ds.add_extra_column(\n",
    "    column_name=f\"{target_column}_seasonal_adjusted\", \n",
    "    column_values = df[target_column] - seasonality.mean(axis=1)\n",
    ")"
   ]
  }
 ],
 "metadata": {
  "kernelspec": {
   "display_name": "validmind-py3.10",
   "language": "python",
   "name": "validmind-py3.10"
  },
  "language_info": {
   "codemirror_mode": {
    "name": "ipython",
    "version": 3
   },
   "file_extension": ".py",
   "mimetype": "text/x-python",
   "name": "python",
   "nbconvert_exporter": "python",
   "pygments_lexer": "ipython3",
   "version": "3.10.13"
  }
 },
 "nbformat": 4,
 "nbformat_minor": 2
}
