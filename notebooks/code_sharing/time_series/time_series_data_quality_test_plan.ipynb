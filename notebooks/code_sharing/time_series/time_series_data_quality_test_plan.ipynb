{
  "cells": [
    {
      "attachments": {},
      "cell_type": "markdown",
      "metadata": {},
      "source": [
        "## Time Series Data Quality Test Plan Demo"
      ]
    },
    {
      "attachments": {},
      "cell_type": "markdown",
      "metadata": {},
      "source": [
        "### Setup ValidMind environment"
      ]
    },
    {
      "cell_type": "code",
      "execution_count": null,
      "metadata": {},
      "outputs": [],
      "source": [
        "# Load API key and secret from environment variables\n",
        "%load_ext dotenv\n",
        "%dotenv .env\n",
        "import validmind as vm\n",
        "vm.init(  api_host = \"https://api.prod.validmind.ai/api/v1/tracking\",\n",
        "  project = \"clhhzo21s006wl9rl0swhv40h\")"
      ]
    },
    {
      "attachments": {},
      "cell_type": "markdown",
      "metadata": {},
      "source": [
        "### Load libraries"
      ]
    },
    {
      "cell_type": "code",
      "execution_count": null,
      "metadata": {},
      "outputs": [],
      "source": [
        "import glob\n",
        "# ML libraries\n",
        "import pandas as pd\n",
        "# Plotting libraries\n",
        "import matplotlib.pyplot as plt\n",
        "import seaborn as sns\n",
        "%matplotlib inline"
      ]
    },
    {
      "attachments": {},
      "cell_type": "markdown",
      "metadata": {},
      "source": [
        "### Load data"
      ]
    },
    {
      "cell_type": "code",
      "execution_count": null,
      "metadata": {
        "tags": []
      },
      "outputs": [],
      "source": [
        "def merge_fred_csv_files(file_pattern):\n",
        "    # Use glob to find all files matching the specified pattern\n",
        "    file_list = glob.glob(file_pattern)\n",
        "\n",
        "    # Initialize an empty list to store individual DataFrames\n",
        "    dataframes = []\n",
        "\n",
        "    # Iterate through each file in the file list\n",
        "    for file in file_list:\n",
        "        # Read the CSV file into a DataFrame\n",
        "        df = pd.read_csv(file, parse_dates=['DATE'], index_col='DATE')\n",
        "\n",
        "        # Add the DataFrame to the list of DataFrames\n",
        "        dataframes.append(df)\n",
        "\n",
        "    # Merge all the DataFrames in the list into a single DataFrame\n",
        "    merged_df = pd.concat(dataframes, axis=1)\n",
        "\n",
        "    return merged_df\n",
        "\n",
        "\n",
        "file_pattern = './../../notebooks/datasets/time_series/raw/fred/*.csv'\n",
        "df = merge_fred_csv_files(file_pattern)\n",
        "display(df)"
      ]
    },
    {
      "cell_type": "code",
      "execution_count": null,
      "metadata": {
        "tags": []
      },
      "outputs": [],
      "source": [
        "selected_cols = ['MORTGAGE30US', 'UNRATE', 'GS10', 'FEDFUNDS']\n",
        "df = df[selected_cols]"
      ]
    },
    {
      "cell_type": "code",
      "execution_count": null,
      "metadata": {
        "tags": []
      },
      "outputs": [],
      "source": [
        "def plot_time_series(df, cols_to_plot=None, title=''):\n",
        "    \"\"\"\n",
        "    Plot multiple time-series in the same axes using seaborn.\n",
        "\n",
        "    :param df: DataFrame with time-series data\n",
        "    :param cols_to_plot: List of column names to plot. If None, plot all columns in df.\n",
        "    :param title: Title of the plot, default is ''\n",
        "    \"\"\"\n",
        "    if cols_to_plot is None:\n",
        "        cols_to_plot = df.columns.tolist()\n",
        "\n",
        "    # Create a new DataFrame with the columns to plot\n",
        "    plot_df = df[cols_to_plot]\n",
        "\n",
        "    # Set seaborn plot style\n",
        "    sns.set(style=\"darkgrid\")\n",
        "\n",
        "    # Plot the time-series data\n",
        "    plt.figure(figsize=(12, 6))\n",
        "    for col in plot_df.columns:\n",
        "        sns.lineplot(data=plot_df[col], label=col)\n",
        "\n",
        "    plt.xlabel('Date')\n",
        "    plt.ylabel('Value')\n",
        "    plt.title(title)\n",
        "    plt.legend()\n",
        "    plt.show()\n"
      ]
    },
    {
      "cell_type": "code",
      "execution_count": null,
      "metadata": {},
      "outputs": [],
      "source": [
        "plot_time_series(df, title='All Variables')\n",
        "df.info()"
      ]
    },
    {
      "attachments": {},
      "cell_type": "markdown",
      "metadata": {},
      "source": [
        "### Examine data quality using ValidMind framework"
      ]
    },
    {
      "cell_type": "code",
      "execution_count": null,
      "metadata": {
        "tags": []
      },
      "outputs": [],
      "source": [
        "vm_dataset = vm.init_dataset(\n",
        "    dataset=df,\n",
        "    target_column=\"MORTGAGE30US\"\n",
        ")"
      ]
    },
    {
      "cell_type": "code",
      "execution_count": null,
      "metadata": {
        "tags": []
      },
      "outputs": [],
      "source": [
        "vm.test_suites.list_suites()"
      ]
    },
    {
      "cell_type": "code",
      "execution_count": null,
      "metadata": {},
      "outputs": [],
      "source": [
        "df.head()"
      ]
    },
    {
      "cell_type": "code",
      "execution_count": null,
      "metadata": {
        "tags": []
      },
      "outputs": [],
      "source": [
        "config={\n",
        "    \"time_series_outliers\": {\n",
        "        \"zscore_threshold\": 3.5,\n",
        "\n",
        "    },\n",
        "    \"time_series_missing_values\":{\n",
        "        \"min_threshold\": 2,\n",
        "    }\n",
        "}\n",
        "test_suite = vm.run_test_suite(\"time_series_dataset\", dataset=vm_dataset, config=config)"
      ]
    },
    {
      "attachments": {},
      "cell_type": "markdown",
      "metadata": {},
      "source": [
        "### Adjust Frequencies, Remove missing values\n"
      ]
    },
    {
      "cell_type": "code",
      "execution_count": null,
      "metadata": {},
      "outputs": [],
      "source": [
        "df = df.resample('MS').last()\n",
        "df = df.dropna()"
      ]
    },
    {
      "attachments": {},
      "cell_type": "markdown",
      "metadata": {},
      "source": [
        "### Examin data quality again"
      ]
    },
    {
      "cell_type": "code",
      "execution_count": null,
      "metadata": {},
      "outputs": [],
      "source": [
        "\n",
        "vm_dataset = vm.init_dataset(\n",
        "    dataset=df,\n",
        "    target_column=\"MORTGAGE30US\"\n",
        ")\n",
        "test_suite = vm.run_test_suite(\"time_series_dataset\", dataset=vm_dataset, config=config)"
      ]
    }
  ],
  "metadata": {
    "kernelspec": {
      "display_name": "dev-framework",
      "language": "python",
      "name": "dev-framework"
    },
    "language_info": {
      "codemirror_mode": {
        "name": "ipython",
        "version": 3
      },
      "file_extension": ".py",
      "mimetype": "text/x-python",
      "name": "python",
      "nbconvert_exporter": "python",
      "pygments_lexer": "ipython3",
      "version": "3.9.6"
    }
  },
  "nbformat": 4,
  "nbformat_minor": 4
}
