{
 "cells": [
  {
   "cell_type": "markdown",
   "metadata": {},
   "source": [
    "# Corporate Deposits Seasonality Model with PyMC"
   ]
  },
  {
   "cell_type": "code",
   "execution_count": null,
   "metadata": {},
   "outputs": [],
   "source": [
    "import arviz as az\n",
    "import numpy as np\n",
    "import pandas as pd\n",
    "import pymc as pm\n",
    "import plotly.express as px\n",
    "import plotly.graph_objects as go"
   ]
  },
  {
   "cell_type": "code",
   "execution_count": null,
   "metadata": {},
   "outputs": [],
   "source": [
    "from validmind.datasets.regression import fred_deposits as demo_dataset\n",
    "\n",
    "deposits_df, deposits_seasonality_df, fedfunds_df, tb3ms_df, gs10_df, gs30_df = demo_dataset.load_data()\n",
    "\n",
    "df = deposits_seasonality_df.copy()\n",
    "\n",
    "df[\"Month\"] = df.index\n",
    "\n",
    "target_column = demo_dataset.target_column"
   ]
  },
  {
   "cell_type": "code",
   "execution_count": null,
   "metadata": {},
   "outputs": [],
   "source": [
    "fig = px.line(df, x=df[\"Month\"], y=target_column, title='Original Data')\n",
    "fig.update_layout(xaxis_title='Month', yaxis_title=target_column)\n",
    "fig.show()"
   ]
  },
  {
   "cell_type": "code",
   "execution_count": null,
   "metadata": {},
   "outputs": [],
   "source": [
    "t = (df[\"Month\"]- pd.Timestamp(\"1900-01-01\")).dt.days.to_numpy()\n",
    "t_min = np.min(t)\n",
    "t_max = np.max(t)\n",
    "t = (t - t_min) / (t_max - t_min)"
   ]
  },
  {
   "cell_type": "code",
   "execution_count": null,
   "metadata": {},
   "outputs": [],
   "source": [
    "y = df[target_column].to_numpy()\n",
    "y_max = np.max(y)\n",
    "y = y / y_max"
   ]
  },
  {
   "cell_type": "code",
   "execution_count": null,
   "metadata": {},
   "outputs": [],
   "source": [
    "with pm.Model(check_bounds=False) as linear:\n",
    "    alpha = pm.Normal(\"alpha\", mu=0, sigma=5)\n",
    "    beta = pm.Normal(\"beta\", mu=0, sigma=5)\n",
    "    sigma = pm.HalfNormal(\"sigma\", sigma=5)\n",
    "    trend = pm.Deterministic(\"trend\", alpha + beta * t)\n",
    "    pm.Normal(\"likelihood\", mu=trend, sigma=sigma, observed=y)\n",
    "\n",
    "    linear_prior = pm.sample_prior_predictive()"
   ]
  },
  {
   "cell_type": "code",
   "execution_count": null,
   "metadata": {},
   "outputs": [],
   "source": [
    "likelihood = az.extract(linear_prior, group=\"prior_predictive\", num_samples=100)[\"likelihood\"] * y_max\n",
    "trend = az.extract(linear_prior, group=\"prior\", num_samples=100)[\"trend\"] * y_max"
   ]
  },
  {
   "cell_type": "code",
   "execution_count": null,
   "metadata": {},
   "outputs": [],
   "source": [
    "# Plotting the prior likelihood\n",
    "fig = go.Figure()\n",
    "\n",
    "for sample in likelihood.T:\n",
    "    fig.add_trace(go.Scatter(x=df['Month'], y=sample, mode='lines', line=dict(color='blue', width=1), opacity=0.05))\n",
    "\n",
    "fig.add_trace(go.Scatter(x=df['Month'], y=df[target_column], mode='lines+markers', marker=dict(color='black', size=5), name='Data'))\n",
    "\n",
    "fig.update_layout(title=\"Prior Predictive\", xaxis_title=\"Date\", yaxis_title=target_column)\n",
    "\n",
    "fig.show()\n",
    "\n",
    "\n",
    "# Plotting the trend lines\n",
    "fig = go.Figure()\n",
    "\n",
    "for sample in trend.T:\n",
    "    fig.add_trace(go.Scatter(x=df['Month'], y=sample, mode='lines', line=dict(color='blue', width=1), opacity=0.05))\n",
    "\n",
    "fig.add_trace(go.Scatter(x=df['Month'], y=df[target_column], mode='lines+markers', marker=dict(color='black', size=5), name='Data'))\n",
    "\n",
    "fig.update_layout(title=\"Prior Trend Lines\", xaxis_title=\"Date\", yaxis_title=target_column)\n",
    "\n",
    "fig.show()"
   ]
  },
  {
   "cell_type": "code",
   "execution_count": null,
   "metadata": {},
   "outputs": [],
   "source": [
    "with pm.Model(check_bounds=False) as linear:\n",
    "    alpha = pm.Normal(\"alpha\", mu=0, sigma=0.5)\n",
    "    beta = pm.Normal(\"beta\", mu=0, sigma=0.5)\n",
    "    sigma = pm.HalfNormal(\"sigma\", sigma=0.5)\n",
    "    trend = pm.Deterministic(\"trend\", alpha + beta * t)\n",
    "    pm.Normal(\"likelihood\", mu=trend, sigma=sigma, observed=y)\n",
    "\n",
    "    linear_prior = pm.sample_prior_predictive()"
   ]
  },
  {
   "cell_type": "code",
   "execution_count": null,
   "metadata": {},
   "outputs": [],
   "source": [
    "likelihood = az.extract(linear_prior, group=\"prior_predictive\", num_samples=100)[\"likelihood\"] * y_max\n",
    "trend = az.extract(linear_prior, group=\"prior\", num_samples=100)[\"trend\"] * y_max"
   ]
  },
  {
   "cell_type": "code",
   "execution_count": null,
   "metadata": {},
   "outputs": [],
   "source": [
    "# Plotting the prior likelihood\n",
    "fig = go.Figure()\n",
    "\n",
    "for sample in likelihood.T:\n",
    "    fig.add_trace(go.Scatter(x=df['Month'], y=sample, mode='lines', line=dict(color='blue', width=1), opacity=0.05))\n",
    "\n",
    "fig.add_trace(go.Scatter(x=df['Month'], y=df[target_column], mode='lines+markers', marker=dict(color='black', size=5), name='Data'))\n",
    "\n",
    "fig.update_layout(title=\"Prior Predictive\", xaxis_title=\"Date\", yaxis_title=target_column)\n",
    "\n",
    "fig.show()\n",
    "\n",
    "\n",
    "# Plotting the trend lines\n",
    "fig = go.Figure()\n",
    "\n",
    "for sample in trend.T:\n",
    "    fig.add_trace(go.Scatter(x=df['Month'], y=sample, mode='lines', line=dict(color='blue', width=1), opacity=0.05))\n",
    "\n",
    "fig.add_trace(go.Scatter(x=df['Month'], y=df[target_column], mode='lines+markers', marker=dict(color='black', size=5), name='Data'))\n",
    "\n",
    "fig.update_layout(title=\"Prior Trend Lines\", xaxis_title=\"Date\", yaxis_title=target_column)\n",
    "\n",
    "fig.show()"
   ]
  },
  {
   "cell_type": "code",
   "execution_count": null,
   "metadata": {},
   "outputs": [],
   "source": [
    "with linear:\n",
    "    linear_trace = pm.sample(return_inferencedata=True)\n",
    "    linear_prior = pm.sample_posterior_predictive(trace=linear_trace)"
   ]
  },
  {
   "cell_type": "code",
   "execution_count": null,
   "metadata": {},
   "outputs": [],
   "source": [
    "likelihood = az.extract(linear_prior, group=\"posterior_predictive\", num_samples=100)[\"likelihood\"] * y_max\n",
    "trend = az.extract(linear_trace, group=\"posterior\", num_samples=100)[\"trend\"] * y_max"
   ]
  },
  {
   "cell_type": "code",
   "execution_count": null,
   "metadata": {},
   "outputs": [],
   "source": [
    "# Plotting the prior likelihood\n",
    "fig = go.Figure()\n",
    "\n",
    "for sample in likelihood.T:\n",
    "    fig.add_trace(go.Scatter(x=df['Month'], y=sample, mode='lines', line=dict(color='blue', width=1), opacity=0.05))\n",
    "\n",
    "fig.add_trace(go.Scatter(x=df['Month'], y=df[target_column], mode='lines+markers', marker=dict(color='black', size=5), name='Data'))\n",
    "\n",
    "fig.update_layout(title=\"Posterior Predictive\", xaxis_title=\"Date\", yaxis_title=target_column)\n",
    "\n",
    "fig.show()\n",
    "\n",
    "\n",
    "# Plotting the trend lines\n",
    "fig = go.Figure()\n",
    "\n",
    "for sample in trend.T:\n",
    "    fig.add_trace(go.Scatter(x=df['Month'], y=sample, mode='lines', line=dict(color='blue', width=1), opacity=0.05))\n",
    "\n",
    "fig.add_trace(go.Scatter(x=df['Month'], y=df[target_column], mode='lines+markers', marker=dict(color='black', size=5), name='Data'))\n",
    "\n",
    "fig.update_layout(title=\"Posterior Trend Lines\", xaxis_title=\"Date\", yaxis_title=target_column)\n",
    "\n",
    "fig.show()"
   ]
  },
  {
   "cell_type": "code",
   "execution_count": null,
   "metadata": {},
   "outputs": [],
   "source": [
    "n_order = 10\n",
    "periods = (df[\"Month\"] - pd.Timestamp(\"1900-01-01\")).dt.days / 365.25\n",
    "\n",
    "fourier_features = pd.DataFrame(\n",
    "    {\n",
    "        f\"{func}_order_{order}\": getattr(np, func)(2 * np.pi * periods * order)\n",
    "        for order in range(1, n_order + 1)\n",
    "        for func in (\"sin\", \"cos\")\n",
    "    }\n",
    ")\n",
    "fourier_features"
   ]
  },
  {
   "cell_type": "code",
   "execution_count": null,
   "metadata": {},
   "outputs": [],
   "source": [
    "coords = {\"fourier_features\": np.arange(2 * n_order)}\n",
    "with pm.Model(check_bounds=False, coords=coords) as linear_with_seasonality:\n",
    "    alpha = pm.Normal(\"alpha\", mu=0, sigma=0.5)\n",
    "    beta = pm.Normal(\"beta\", mu=0, sigma=0.5)\n",
    "    sigma = pm.HalfNormal(\"sigma\", sigma=0.1)\n",
    "    beta_fourier = pm.Normal(\"beta_fourier\", mu=0, sigma=10, dims=\"fourier_features\")\n",
    "    seasonality = pm.Deterministic(\n",
    "        \"seasonality\", pm.math.dot(beta_fourier, fourier_features.to_numpy().T)\n",
    "    )\n",
    "    trend = pm.Deterministic(\"trend\", alpha + beta * t)\n",
    "    mu = trend + seasonality\n",
    "    pm.Normal(\"likelihood\", mu=mu, sigma=sigma, observed=y)\n",
    "\n",
    "    linear_seasonality_prior = pm.sample_prior_predictive()"
   ]
  },
  {
   "cell_type": "code",
   "execution_count": null,
   "metadata": {},
   "outputs": [],
   "source": [
    "likelihood = az.extract(linear_seasonality_prior, group=\"prior_predictive\", num_samples=100)[\"likelihood\"] * y_max\n",
    "trend = az.extract(linear_seasonality_prior, group=\"prior\", num_samples=100)[\"trend\"] * y_max\n",
    "seasonality = az.extract(linear_seasonality_prior, group=\"prior\", num_samples=100)[\"seasonality\"] * 100"
   ]
  },
  {
   "cell_type": "code",
   "execution_count": null,
   "metadata": {},
   "outputs": [],
   "source": [
    "# Plotting the prior likelihood\n",
    "fig = go.Figure()\n",
    "\n",
    "for sample in likelihood.T:\n",
    "    fig.add_trace(go.Scatter(x=df['Month'], y=sample, mode='lines', line=dict(color='blue', width=1), opacity=0.05))\n",
    "\n",
    "fig.add_trace(go.Scatter(x=df['Month'], y=df[target_column], mode='lines+markers', marker=dict(color='black', size=5), name='Data'))\n",
    "\n",
    "fig.update_layout(title=\"Prior Predictive\", xaxis_title=\"Date\", yaxis_title=target_column)\n",
    "\n",
    "fig.show()\n",
    "\n",
    "\n",
    "# Plotting the trend lines\n",
    "fig = go.Figure()\n",
    "\n",
    "for sample in trend.T:\n",
    "    fig.add_trace(go.Scatter(x=df['Month'], y=sample, mode='lines', line=dict(color='blue', width=1), opacity=0.05))\n",
    "\n",
    "fig.add_trace(go.Scatter(x=df['Month'], y=df[target_column], mode='lines+markers', marker=dict(color='black', size=5), name='Data'))\n",
    "\n",
    "fig.update_layout(title=\"Prior Trend Lines\", xaxis_title=\"Date\", yaxis_title=target_column)\n",
    "\n",
    "fig.show()\n",
    "\n",
    "# Plotting the seasonality lines\n",
    "fig = go.Figure()\n",
    "\n",
    "for sample in seasonality.T:\n",
    "    fig.add_trace(go.Scatter(x=df['Month'], y=sample, mode='lines', line=dict(color='blue', width=1), opacity=0.05))\n",
    "\n",
    "fig.update_layout(title=\"Prior Seasonality Lines\", xaxis_title=\"Date\", yaxis_title=target_column)\n",
    "\n",
    "fig.show()"
   ]
  },
  {
   "cell_type": "code",
   "execution_count": null,
   "metadata": {},
   "outputs": [],
   "source": [
    "coords = {\"fourier_features\": np.arange(2 * n_order)}\n",
    "with pm.Model(check_bounds=False, coords=coords) as linear_with_seasonality:\n",
    "    alpha = pm.Normal(\"alpha\", mu=0, sigma=0.5)\n",
    "    beta = pm.Normal(\"beta\", mu=0, sigma=0.5)\n",
    "    sigma = pm.HalfNormal(\"sigma\", sigma=0.1)\n",
    "    beta_fourier = pm.Normal(\"beta_fourier\", mu=0, sigma=0.1, dims=\"fourier_features\")\n",
    "    seasonality = pm.Deterministic(\n",
    "        \"seasonality\", pm.math.dot(beta_fourier, fourier_features.to_numpy().T)\n",
    "    )\n",
    "    trend = pm.Deterministic(\"trend\", alpha + beta * t)\n",
    "    mu = trend  + seasonality\n",
    "    pm.Normal(\"likelihood\", mu=mu, sigma=sigma, observed=y)\n",
    "\n",
    "    linear_seasonality_prior = pm.sample_prior_predictive()"
   ]
  },
  {
   "cell_type": "code",
   "execution_count": null,
   "metadata": {},
   "outputs": [],
   "source": [
    "likelihood = az.extract(linear_seasonality_prior, group=\"prior_predictive\", num_samples=100)[\"likelihood\"] * y_max\n",
    "trend = az.extract(linear_seasonality_prior, group=\"prior\", num_samples=100)[\"trend\"] * y_max\n",
    "seasonality = az.extract(linear_seasonality_prior, group=\"prior\", num_samples=100)[\"seasonality\"] * 100"
   ]
  },
  {
   "cell_type": "code",
   "execution_count": null,
   "metadata": {},
   "outputs": [],
   "source": [
    "# Plotting the prior likelihood\n",
    "fig = go.Figure()\n",
    "\n",
    "for sample in likelihood.T:\n",
    "    fig.add_trace(go.Scatter(x=df['Month'], y=sample, mode='lines', line=dict(color='blue', width=1), opacity=0.05))\n",
    "\n",
    "fig.add_trace(go.Scatter(x=df['Month'], y=df[target_column], mode='lines+markers', marker=dict(color='black', size=5), name='Data'))\n",
    "\n",
    "fig.update_layout(title=\"Prior Predictive\", xaxis_title=\"Date\", yaxis_title=target_column)\n",
    "\n",
    "fig.show()\n",
    "\n",
    "\n",
    "# Plotting the trend lines\n",
    "fig = go.Figure()\n",
    "\n",
    "for sample in trend.T:\n",
    "    fig.add_trace(go.Scatter(x=df['Month'], y=sample, mode='lines', line=dict(color='blue', width=1), opacity=0.05))\n",
    "\n",
    "fig.add_trace(go.Scatter(x=df['Month'], y=df[target_column], mode='lines+markers', marker=dict(color='black', size=5), name='Data'))\n",
    "\n",
    "fig.update_layout(title=\"Prior Trend Lines\", xaxis_title=\"Date\", yaxis_title=target_column)\n",
    "\n",
    "fig.show()\n",
    "\n",
    "# Plotting the seasonality lines\n",
    "fig = go.Figure()\n",
    "\n",
    "for sample in seasonality.T:\n",
    "    fig.add_trace(go.Scatter(x=df['Month'], y=sample, mode='lines', line=dict(color='blue', width=1), opacity=0.05))\n",
    "\n",
    "fig.update_layout(title=\"Prior Seasonality Lines\", xaxis_title=\"Date\", yaxis_title=target_column)\n",
    "\n",
    "fig.show()"
   ]
  },
  {
   "cell_type": "code",
   "execution_count": null,
   "metadata": {},
   "outputs": [],
   "source": [
    "with linear_with_seasonality:\n",
    "    linear_seasonality_trace = pm.sample(return_inferencedata=True)\n",
    "    linear_seasonality_posterior = pm.sample_posterior_predictive(trace=linear_seasonality_trace)\n"
   ]
  },
  {
   "cell_type": "code",
   "execution_count": null,
   "metadata": {},
   "outputs": [],
   "source": [
    "likelihood = az.extract(linear_seasonality_posterior, group=\"posterior_predictive\", num_samples=100)[\"likelihood\"] * y_max\n",
    "trend = az.extract(linear_trace, group=\"posterior\", num_samples=100)[\"trend\"] * y_max\n",
    "seasonality = az.extract(linear_seasonality_trace, group=\"posterior\", num_samples=100)[\"seasonality\"] * 10000"
   ]
  },
  {
   "cell_type": "code",
   "execution_count": null,
   "metadata": {},
   "outputs": [],
   "source": [
    "# Plotting the posterior predictive\n",
    "fig = go.Figure()\n",
    "\n",
    "for sample in likelihood.T:\n",
    "    fig.add_trace(go.Scatter(x=df['Month'], y=sample, mode='lines', line=dict(color='blue', width=1), opacity=0.05))\n",
    "\n",
    "fig.add_trace(go.Scatter(x=df['Month'], y=df[target_column], mode='lines+markers', marker=dict(color='black', size=5), name='Data'))\n",
    "\n",
    "fig.update_layout(title=\"Posterior Predictive\", xaxis_title=\"Date\", yaxis_title=target_column)\n",
    "\n",
    "fig.show()\n",
    "\n",
    "\n",
    "# Plotting the posterior trend lines\n",
    "fig = go.Figure()\n",
    "\n",
    "for sample in trend.T:\n",
    "    fig.add_trace(go.Scatter(x=df['Month'], y=sample, mode='lines', line=dict(color='blue', width=1), opacity=0.05))\n",
    "\n",
    "fig.add_trace(go.Scatter(x=df['Month'], y=df[target_column], mode='lines+markers', marker=dict(color='black', size=5), name='Data'))\n",
    "\n",
    "fig.update_layout(title=\"Posterior Trend Lines\", xaxis_title=\"Date\", yaxis_title=target_column)\n",
    "\n",
    "fig.show()\n",
    "\n",
    "\n",
    "# Plotting the seasonality lines\n",
    "fig = go.Figure()\n",
    "\n",
    "for sample in seasonality.T:\n",
    "    fig.add_trace(go.Scatter(x=df['Month'], y=sample, mode='lines', line=dict(color='blue', width=1), opacity=0.05))\n",
    "\n",
    "fig.update_layout(title=\"Posterior Seasonality\", xaxis_title=\"Date\", yaxis_title=target_column)\n",
    "\n",
    "fig.show()"
   ]
  }
 ],
 "metadata": {
  "kernelspec": {
   "display_name": "validmind-py3.10",
   "language": "python",
   "name": "validmind-py3.10"
  },
  "language_info": {
   "codemirror_mode": {
    "name": "ipython",
    "version": 3
   },
   "file_extension": ".py",
   "mimetype": "text/x-python",
   "name": "python",
   "nbconvert_exporter": "python",
   "pygments_lexer": "ipython3",
   "version": "3.10.13"
  }
 },
 "nbformat": 4,
 "nbformat_minor": 2
}
