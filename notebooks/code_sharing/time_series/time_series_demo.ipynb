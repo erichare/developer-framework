{
  "cells": [
    {
      "cell_type": "markdown",
      "metadata": {},
      "source": [
        "# Time Series Test Plan Demo"
      ]
    },
    {
      "cell_type": "code",
      "execution_count": null,
      "metadata": {
        "tags": []
      },
      "outputs": [],
      "source": [
        "# This environment variable can be set to silence the summarized output of test results, for testing purposes.\n",
        "#\n",
        "# %env VM_SUMMARIZE_test_suiteS = False\n",
        "\n",
        "import pandas as pd"
      ]
    },
    {
      "cell_type": "code",
      "execution_count": null,
      "metadata": {
        "tags": []
      },
      "outputs": [],
      "source": [
        "import dotenv\n",
        "dotenv.load_dotenv()\n",
        "\n",
        "import validmind as vm\n",
        "\n",
        "vm.init(  api_host = \"https://api.prod.validmind.ai/api/v1/tracking\",\n",
        "  project = \"clhhzo21s006wl9rl0swhv40h\")"
      ]
    },
    {
      "cell_type": "code",
      "execution_count": null,
      "metadata": {
        "tags": []
      },
      "outputs": [],
      "source": [
        "df = pd.read_csv(\"../datasets/lending_club_loan_rates.csv\")"
      ]
    },
    {
      "cell_type": "code",
      "execution_count": null,
      "metadata": {
        "tags": []
      },
      "outputs": [],
      "source": [
        "df.head()"
      ]
    },
    {
      "cell_type": "code",
      "execution_count": null,
      "metadata": {
        "tags": []
      },
      "outputs": [],
      "source": [
        "df = df.rename(columns={'Unnamed: 0': 'DATE'})\n",
        "df = df.set_index(pd.to_datetime(df['DATE']))\n",
        "df.drop([\"DATE\"], axis=1, inplace=True)\n",
        "df"
      ]
    },
    {
      "cell_type": "code",
      "execution_count": null,
      "metadata": {
        "tags": []
      },
      "outputs": [],
      "source": [
        "vm_dataset = vm.init_dataset(\n",
        "    dataset=df\n",
        ")"
      ]
    },
    {
      "cell_type": "code",
      "execution_count": null,
      "metadata": {
        "tags": []
      },
      "outputs": [],
      "source": [
        "vm.test_suites.list_plans()"
      ]
    },
    {
      "cell_type": "code",
      "execution_count": null,
      "metadata": {},
      "outputs": [],
      "source": [
        "vm.test_suites.describe_plan(\"time_series_univariate\")"
      ]
    },
    {
      "cell_type": "code",
      "execution_count": null,
      "metadata": {
        "scrolled": false,
        "tags": []
      },
      "outputs": [],
      "source": [
        "loan_rate_columns = [\"loan_rate_A\", \"loan_rate_B\", \"loan_rate_C\", \"loan_rate_D\"]\n",
        "\n",
        "test_suite_config = {\n",
        "    \"columns\": loan_rate_columns,\n",
        "    \"seasonal_decompose\": {\"seasonal_model\": \"additive\"},\n",
        "    \"auto_seasonality\": {\"min_period\": 1, \"max_period\": 4},\n",
        "    \"auto_stationarity\": {\"max_order\": 5, \"threshold\": 0.05},\n",
        "    \"rolling_stats_plot\": {\"window_size\": 12},\n",
        "    \"auto_ar\": {\"max_ar_order\": 3},\n",
        "    \"auto_ma\": {\"max_ma_order\": 3},\n",
        "}\n",
        "\n",
        "plan = vm.run_test_suite(\"time_series_univariate\", config=test_suite_config, dataset=vm_dataset)"
      ]
    }
  ],
  "metadata": {
    "kernelspec": {
      "display_name": "dev-framework",
      "language": "python",
      "name": "dev-framework"
    },
    "language_info": {
      "codemirror_mode": {
        "name": "ipython",
        "version": 3
      },
      "file_extension": ".py",
      "mimetype": "text/x-python",
      "name": "python",
      "nbconvert_exporter": "python",
      "pygments_lexer": "ipython3",
      "version": "3.9.6"
    }
  },
  "nbformat": 4,
  "nbformat_minor": 4
}
