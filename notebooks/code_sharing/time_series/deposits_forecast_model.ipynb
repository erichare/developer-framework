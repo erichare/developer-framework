{
 "cells": [
  {
   "cell_type": "markdown",
   "metadata": {},
   "source": [
    "# Deposits Forecast Model with Seasonality using PyMC and Random Forest"
   ]
  },
  {
   "cell_type": "code",
   "execution_count": null,
   "metadata": {},
   "outputs": [],
   "source": [
    "import arviz as az\n",
    "import numpy as np\n",
    "import pandas as pd\n",
    "import pymc as pm\n",
    "import plotly.express as px\n",
    "import plotly.graph_objects as go"
   ]
  },
  {
   "cell_type": "markdown",
   "metadata": {},
   "source": [
    "## Load data"
   ]
  },
  {
   "cell_type": "code",
   "execution_count": null,
   "metadata": {},
   "outputs": [],
   "source": [
    "from validmind.datasets.regression import fred_deposits as demo_dataset\n",
    "\n",
    "deposits_df, deposits_seasonality_df, fedfunds_df, tb3ms_df, gs10_df, gs30_df = demo_dataset.load_data()\n",
    "\n",
    "df = deposits_seasonality_df.copy()\n",
    "\n",
    "df[\"Month\"] = df.index\n",
    "df[\"FEDFUNDS\"] = fedfunds_df[\"FEDFUNDS\"]\n",
    "df[\"TB3MS\"] = tb3ms_df[\"TB3MS\"]\n",
    "df[\"GS10\"] = gs10_df[\"GS10\"]\n",
    "df[\"GS30\"] = gs30_df[\"GS30\"]\n",
    "\n",
    "target_column = demo_dataset.target_column"
   ]
  },
  {
   "cell_type": "code",
   "execution_count": null,
   "metadata": {},
   "outputs": [],
   "source": [
    "fig = px.line(df, x=df[\"Month\"], y=target_column, title='Original Data')\n",
    "fig.update_layout(xaxis_title='Month', yaxis_title=target_column)\n",
    "fig.show()"
   ]
  },
  {
   "cell_type": "markdown",
   "metadata": {},
   "source": [
    "## Train seasonaility model"
   ]
  },
  {
   "cell_type": "code",
   "execution_count": null,
   "metadata": {},
   "outputs": [],
   "source": [
    "t = (df[\"Month\"]- pd.Timestamp(\"1900-01-01\")).dt.days.to_numpy()\n",
    "t_min = np.min(t)\n",
    "t_max = np.max(t)\n",
    "t = (t - t_min) / (t_max - t_min)"
   ]
  },
  {
   "cell_type": "code",
   "execution_count": null,
   "metadata": {},
   "outputs": [],
   "source": [
    "y = df[target_column].to_numpy()\n",
    "y_max = np.max(y)\n",
    "y = y / y_max"
   ]
  },
  {
   "cell_type": "code",
   "execution_count": null,
   "metadata": {},
   "outputs": [],
   "source": [
    "with pm.Model(check_bounds=False) as linear:\n",
    "    alpha = pm.Normal(\"alpha\", mu=0, sigma=0.5)\n",
    "    beta = pm.Normal(\"beta\", mu=0, sigma=0.5)\n",
    "    sigma = pm.HalfNormal(\"sigma\", sigma=0.5)\n",
    "    trend = pm.Deterministic(\"trend\", alpha + beta * t)\n",
    "    pm.Normal(\"likelihood\", mu=trend, sigma=sigma, observed=y)\n",
    "\n",
    "    linear_prior = pm.sample_prior_predictive()\n",
    "\n",
    "with linear:\n",
    "    linear_trace = pm.sample(return_inferencedata=True)\n",
    "    linear_prior = pm.sample_posterior_predictive(trace=linear_trace)"
   ]
  },
  {
   "cell_type": "code",
   "execution_count": null,
   "metadata": {},
   "outputs": [],
   "source": [
    "likelihood = az.extract(linear_prior, group=\"posterior_predictive\", num_samples=100)[\"likelihood\"] * y_max\n",
    "trend = az.extract(linear_trace, group=\"posterior\", num_samples=100)[\"trend\"] * y_max"
   ]
  },
  {
   "cell_type": "code",
   "execution_count": null,
   "metadata": {},
   "outputs": [],
   "source": [
    "# Plotting the prior likelihood\n",
    "fig = go.Figure()\n",
    "\n",
    "for sample in likelihood.T:\n",
    "    fig.add_trace(go.Scatter(x=df['Month'], y=sample, mode='lines', line=dict(color='blue', width=1), opacity=0.05))\n",
    "\n",
    "fig.add_trace(go.Scatter(x=df['Month'], y=df[target_column], mode='lines+markers', marker=dict(color='black', size=5), name='Data'))\n",
    "\n",
    "fig.update_layout(title=\"Posterior Predictive\", xaxis_title=\"Date\", yaxis_title=target_column)\n",
    "\n",
    "fig.show()\n",
    "\n",
    "\n",
    "# Plotting the trend lines\n",
    "fig = go.Figure()\n",
    "\n",
    "for sample in trend.T:\n",
    "    fig.add_trace(go.Scatter(x=df['Month'], y=sample, mode='lines', line=dict(color='blue', width=1), opacity=0.05))\n",
    "\n",
    "fig.add_trace(go.Scatter(x=df['Month'], y=df[target_column], mode='lines+markers', marker=dict(color='black', size=5), name='Data'))\n",
    "\n",
    "fig.update_layout(title=\"Posterior Trend Lines\", xaxis_title=\"Date\", yaxis_title=target_column)\n",
    "\n",
    "fig.show()"
   ]
  },
  {
   "cell_type": "code",
   "execution_count": null,
   "metadata": {},
   "outputs": [],
   "source": [
    "n_order = 10\n",
    "periods = (df[\"Month\"] - pd.Timestamp(\"1900-01-01\")).dt.days / 365.25\n",
    "\n",
    "fourier_features = pd.DataFrame(\n",
    "    {\n",
    "        f\"{func}_order_{order}\": getattr(np, func)(2 * np.pi * periods * order)\n",
    "        for order in range(1, n_order + 1)\n",
    "        for func in (\"sin\", \"cos\")\n",
    "    }\n",
    ")\n",
    "fourier_features"
   ]
  },
  {
   "cell_type": "code",
   "execution_count": null,
   "metadata": {},
   "outputs": [],
   "source": [
    "coords = {\"fourier_features\": np.arange(2 * n_order)}\n",
    "with pm.Model(check_bounds=False, coords=coords) as linear_with_seasonality:\n",
    "    alpha = pm.Normal(\"alpha\", mu=0, sigma=0.5)\n",
    "    beta = pm.Normal(\"beta\", mu=0, sigma=0.5)\n",
    "    sigma = pm.HalfNormal(\"sigma\", sigma=0.1)\n",
    "    beta_fourier = pm.Normal(\"beta_fourier\", mu=0, sigma=0.1, dims=\"fourier_features\")\n",
    "    seasonality = pm.Deterministic(\n",
    "        \"seasonality\", pm.math.dot(beta_fourier, fourier_features.to_numpy().T)\n",
    "    )\n",
    "    trend = pm.Deterministic(\"trend\", alpha + beta * t)\n",
    "    mu = trend + seasonality\n",
    "    pm.Normal(\"likelihood\", mu=mu, sigma=sigma, observed=y)\n",
    "\n",
    "    linear_seasonality_prior = pm.sample_prior_predictive()"
   ]
  },
  {
   "cell_type": "code",
   "execution_count": null,
   "metadata": {},
   "outputs": [],
   "source": [
    "likelihood = az.extract(linear_seasonality_prior, group=\"prior_predictive\", num_samples=100)[\"likelihood\"] * y_max\n",
    "trend = az.extract(linear_seasonality_prior, group=\"prior\", num_samples=100)[\"trend\"] * y_max\n",
    "seasonality = az.extract(linear_seasonality_prior, group=\"prior\", num_samples=100)[\"seasonality\"] * 100"
   ]
  },
  {
   "cell_type": "code",
   "execution_count": null,
   "metadata": {},
   "outputs": [],
   "source": [
    "# Plotting the prior likelihood\n",
    "fig = go.Figure()\n",
    "\n",
    "for sample in likelihood.T:\n",
    "    fig.add_trace(go.Scatter(x=df['Month'], y=sample, mode='lines', line=dict(color='blue', width=1), opacity=0.05))\n",
    "\n",
    "fig.add_trace(go.Scatter(x=df['Month'], y=df[target_column], mode='lines+markers', marker=dict(color='black', size=5), name='Data'))\n",
    "\n",
    "fig.update_layout(title=\"Prior Predictive\", xaxis_title=\"Date\", yaxis_title=target_column)\n",
    "\n",
    "fig.show()\n",
    "\n",
    "\n",
    "# Plotting the trend lines\n",
    "fig = go.Figure()\n",
    "\n",
    "for sample in trend.T:\n",
    "    fig.add_trace(go.Scatter(x=df['Month'], y=sample, mode='lines', line=dict(color='blue', width=1), opacity=0.05))\n",
    "\n",
    "fig.add_trace(go.Scatter(x=df['Month'], y=df[target_column], mode='lines+markers', marker=dict(color='black', size=5), name='Data'))\n",
    "\n",
    "fig.update_layout(title=\"Prior Trend Lines\", xaxis_title=\"Date\", yaxis_title=target_column)\n",
    "\n",
    "fig.show()\n",
    "\n",
    "# Plotting the seasonality lines\n",
    "fig = go.Figure()\n",
    "\n",
    "for sample in seasonality.T:\n",
    "    fig.add_trace(go.Scatter(x=df['Month'], y=sample, mode='lines', line=dict(color='blue', width=1), opacity=0.05))\n",
    "\n",
    "fig.update_layout(title=\"Prior Seasonality Lines\", xaxis_title=\"Date\", yaxis_title=target_column)\n",
    "\n",
    "fig.show()"
   ]
  },
  {
   "cell_type": "code",
   "execution_count": null,
   "metadata": {},
   "outputs": [],
   "source": [
    "with linear_with_seasonality:\n",
    "    linear_seasonality_trace = pm.sample(return_inferencedata=True)\n",
    "    linear_seasonality_posterior = pm.sample_posterior_predictive(trace=linear_seasonality_trace)"
   ]
  },
  {
   "cell_type": "code",
   "execution_count": null,
   "metadata": {},
   "outputs": [],
   "source": [
    "likelihood = az.extract(linear_seasonality_posterior, group=\"posterior_predictive\", num_samples=100)[\"likelihood\"] * y_max\n",
    "trend = az.extract(linear_trace, group=\"posterior\", num_samples=100)[\"trend\"] * y_max\n",
    "seasonality = az.extract(linear_seasonality_trace, group=\"posterior\", num_samples=100)[\"seasonality\"] * 10000"
   ]
  },
  {
   "cell_type": "code",
   "execution_count": null,
   "metadata": {},
   "outputs": [],
   "source": [
    "# Plotting the posterior predictive\n",
    "fig = go.Figure()\n",
    "\n",
    "for sample in likelihood.T:\n",
    "    fig.add_trace(go.Scatter(x=df['Month'], y=sample, mode='lines', line=dict(color='blue', width=1), opacity=0.05))\n",
    "\n",
    "fig.add_trace(go.Scatter(x=df['Month'], y=df[target_column], mode='lines+markers', marker=dict(color='black', size=5), name='Data'))\n",
    "\n",
    "fig.update_layout(title=\"Posterior Predictive\", xaxis_title=\"Date\", yaxis_title=target_column)\n",
    "\n",
    "fig.show()\n",
    "\n",
    "\n",
    "# Plotting the posterior trend lines\n",
    "fig = go.Figure()\n",
    "\n",
    "for sample in trend.T:\n",
    "    fig.add_trace(go.Scatter(x=df['Month'], y=sample, mode='lines', line=dict(color='blue', width=1), opacity=0.05))\n",
    "\n",
    "fig.add_trace(go.Scatter(x=df['Month'], y=df[target_column], mode='lines+markers', marker=dict(color='black', size=5), name='Data'))\n",
    "\n",
    "fig.update_layout(title=\"Posterior Trend Lines\", xaxis_title=\"Date\", yaxis_title=target_column)\n",
    "\n",
    "fig.show()\n",
    "\n",
    "\n",
    "# Plotting the seasonality lines\n",
    "fig = go.Figure()\n",
    "\n",
    "for sample in seasonality.T:\n",
    "    fig.add_trace(go.Scatter(x=df['Month'], y=sample, mode='lines', line=dict(color='blue', width=1), opacity=0.05))\n",
    "\n",
    "fig.update_layout(title=\"Posterior Seasonality\", xaxis_title=\"Date\", yaxis_title=target_column)\n",
    "\n",
    "fig.show()"
   ]
  },
  {
   "cell_type": "markdown",
   "metadata": {},
   "source": [
    "## Train Random Forest forecasting model"
   ]
  },
  {
   "cell_type": "code",
   "execution_count": null,
   "metadata": {},
   "outputs": [],
   "source": [
    "# Extract the posterior predictive mean for seasonality\n",
    "seasonality_posterior_mean = seasonality.mean(axis=1)"
   ]
  },
  {
   "cell_type": "code",
   "execution_count": null,
   "metadata": {},
   "outputs": [],
   "source": [
    "# Adjust the target variable by removing the seasonality component\n",
    "df[f\"{target_column}_seasonal_adjusted\"] = df[target_column] - seasonality_posterior_mean\n",
    "df"
   ]
  },
  {
   "cell_type": "code",
   "execution_count": null,
   "metadata": {},
   "outputs": [],
   "source": [
    "import plotly.graph_objects as go\n",
    "\n",
    "# Create the plot\n",
    "fig = go.Figure()\n",
    "\n",
    "# Add original values to the plot\n",
    "fig.add_trace(go.Scatter(x=df.index, y=df[target_column], mode='lines', name='Original'))\n",
    "\n",
    "# Add seasonally adjusted values to the plot\n",
    "fig.add_trace(go.Scatter(x=df.index, y=df[f\"{target_column}_seasonal_adjusted\"], mode='lines', name='Seasonally Adjusted'))\n",
    "\n",
    "# Update the layout\n",
    "fig.update_layout(\n",
    "    title='Original vs Seasonally Adjusted Deposits',\n",
    "    xaxis_title='Date',\n",
    "    yaxis_title='Deposits',\n",
    "    legend_title='Legend'\n",
    ")\n",
    "\n",
    "# Show the plot\n",
    "fig.show()\n"
   ]
  },
  {
   "cell_type": "code",
   "execution_count": null,
   "metadata": {},
   "outputs": [],
   "source": [
    "df"
   ]
  },
  {
   "cell_type": "code",
   "execution_count": null,
   "metadata": {},
   "outputs": [],
   "source": [
    "from sklearn.ensemble import RandomForestRegressor\n",
    "from sklearn.model_selection import train_test_split\n",
    "from sklearn.metrics import mean_squared_error\n",
    "\n",
    "# Define the independent variables and the target variable\n",
    "target_column = 'DPSACBW027NBOG_seasonal_adjusted'\n",
    "\n",
    "independent_vars = df[['FEDFUNDS', 'TB3MS', 'GS10']]\n",
    "target_var = df[target_column]\n",
    "\n",
    "# Compute first differences for the independent variables and the target variable\n",
    "independent_vars_diff = independent_vars.diff().dropna()\n",
    "target_var_diff = target_var.diff().dropna()\n",
    "\n",
    "# Split the data into training and testing sets\n",
    "X_train, X_test, y_train, y_test = train_test_split(independent_vars_diff, target_var_diff, test_size=0.2, random_state=42)\n",
    "\n",
    "# Initialize and train the Random Forest model\n",
    "rf_model = RandomForestRegressor(n_estimators=100, random_state=42)\n",
    "rf_model.fit(X_train, y_train)\n",
    "\n",
    "# Make predictions on the test set\n",
    "y_pred_adjusted = rf_model.predict(X_test)\n",
    "\n",
    "# Evaluate the model\n",
    "mse = mean_squared_error(y_test, y_pred_adjusted)\n",
    "print(f'Mean Squared Error: {mse}')"
   ]
  },
  {
   "cell_type": "code",
   "execution_count": null,
   "metadata": {},
   "outputs": [],
   "source": [
    "import plotly.graph_objects as go\n",
    "import pandas as pd\n",
    "\n",
    "# Aligning the test indices with the original DataFrame\n",
    "test_indices = X_test.index\n",
    "\n",
    "# Create a DataFrame to hold actual and predicted values with the corresponding dates\n",
    "results_df = pd.DataFrame({\n",
    "    'Date': df.loc[test_indices, 'Month'],\n",
    "    'Actual': y_test,\n",
    "    'Predicted': y_pred_adjusted\n",
    "}).set_index('Date')\n",
    "\n",
    "# Sort the DataFrame by date to ensure the time series is ordered correctly\n",
    "results_df = results_df.sort_index()\n"
   ]
  },
  {
   "cell_type": "code",
   "execution_count": null,
   "metadata": {},
   "outputs": [],
   "source": [
    "results_df"
   ]
  },
  {
   "cell_type": "code",
   "execution_count": null,
   "metadata": {},
   "outputs": [],
   "source": [
    "import plotly.graph_objects as go\n",
    "import pandas as pd\n",
    "\n",
    "# Create the plot\n",
    "fig = go.Figure()\n",
    "\n",
    "# Add actual values as a dotted line plot\n",
    "fig.add_trace(go.Scatter(\n",
    "    x=results_df.index, \n",
    "    y=results_df['Actual'], \n",
    "    mode='lines+markers', \n",
    "    name='Actual',\n",
    "    line=dict(dash='dot', color='blue')\n",
    "))\n",
    "\n",
    "# Add predicted values as a solid line plot\n",
    "fig.add_trace(go.Scatter(\n",
    "    x=results_df.index, \n",
    "    y=results_df['Predicted'], \n",
    "    mode='lines+markers', \n",
    "    name='Predicted',\n",
    "    line=dict(color='red')\n",
    "))\n",
    "\n",
    "# Update the layout\n",
    "fig.update_layout(\n",
    "    title='Predicted vs Actual Values',\n",
    "    xaxis_title='Date',\n",
    "    yaxis_title='Values',\n",
    "    legend_title='Legend'\n",
    ")\n",
    "\n",
    "# Show the plot\n",
    "fig.show()\n"
   ]
  },
  {
   "cell_type": "code",
   "execution_count": null,
   "metadata": {},
   "outputs": [],
   "source": [
    "from sklearn.metrics import mean_squared_error, mean_absolute_error, r2_score\n",
    "import numpy as np\n",
    "\n",
    "# Calculate Mean Squared Error (MSE)\n",
    "mse = mean_squared_error(results_df['Actual'], results_df['Predicted'])\n",
    "print(f'Mean Squared Error (MSE): {mse}')\n",
    "\n",
    "# Calculate Root Mean Squared Error (RMSE)\n",
    "rmse = np.sqrt(mse)\n",
    "print(f'Root Mean Squared Error (RMSE): {rmse}')\n",
    "\n",
    "# Calculate Mean Absolute Error (MAE)\n",
    "mae = mean_absolute_error(results_df['Actual'], results_df['Predicted'])\n",
    "print(f'Mean Absolute Error (MAE): {mae}')\n",
    "\n",
    "# Calculate R-squared (R²)\n",
    "r2 = r2_score(results_df['Actual'], results_df['Predicted'])\n",
    "print(f'R-squared (R²): {r2}')\n"
   ]
  }
 ],
 "metadata": {
  "kernelspec": {
   "display_name": "validmind-py3.10",
   "language": "python",
   "name": "validmind-py3.10"
  },
  "language_info": {
   "codemirror_mode": {
    "name": "ipython",
    "version": 3
   },
   "file_extension": ".py",
   "mimetype": "text/x-python",
   "name": "python",
   "nbconvert_exporter": "python",
   "pygments_lexer": "ipython3",
   "version": "3.10.13"
  }
 },
 "nbformat": 4,
 "nbformat_minor": 2
}
