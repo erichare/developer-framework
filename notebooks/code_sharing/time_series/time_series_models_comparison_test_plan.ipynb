{
  "cells": [
    {
      "attachments": {},
      "cell_type": "markdown",
      "metadata": {},
      "source": [
        "# Loan Rates Forecast Models Comparison test plan"
      ]
    },
    {
      "attachments": {},
      "cell_type": "markdown",
      "metadata": {},
      "source": [
        "#### Setup"
      ]
    },
    {
      "cell_type": "code",
      "execution_count": null,
      "metadata": {},
      "outputs": [],
      "source": [
        "%load_ext dotenv\n",
        "%dotenv .env\n",
        "\n",
        "import os\n",
        "os.chdir(os.path.join(os.getcwd(), \"../..\"))"
      ]
    },
    {
      "cell_type": "code",
      "execution_count": null,
      "metadata": {},
      "outputs": [],
      "source": [
        "import validmind as vm\n",
        "vm.init(  api_host = \"https://api.prod.validmind.ai/api/v1/tracking\",\n",
        "  project = \"clhhzo21s006wl9rl0swhv40h\")\n"
      ]
    },
    {
      "cell_type": "code",
      "execution_count": null,
      "metadata": {},
      "outputs": [],
      "source": [
        "# System libraries\n",
        "import glob\n",
        "\n",
        "# ML libraries\n",
        "import pandas as pd\n",
        "import numpy as np\n",
        "from scipy import stats\n",
        "import statsmodels.api as sm\n",
        "from statsmodels.tsa.seasonal import seasonal_decompose\n",
        "from statsmodels.tsa.ar_model import AutoReg\n",
        "from statsmodels.tsa.stattools import adfuller, kpss\n",
        "from statsmodels.tsa.arima.model import ARIMA\n",
        "from arch.unitroot import PhillipsPerron, DFGLS\n",
        "import xgboost as xgb\n",
        "from numpy import argmax\n",
        "from sklearn.metrics import accuracy_score, precision_recall_curve\n",
        "from sklearn.model_selection import train_test_split\n",
        "\n",
        "# Plotting libraries\n",
        "import matplotlib.pyplot as plt\n",
        "import seaborn as sns\n",
        "%matplotlib inline"
      ]
    },
    {
      "attachments": {},
      "cell_type": "markdown",
      "metadata": {},
      "source": [
        "#### Load FRED Data"
      ]
    },
    {
      "cell_type": "code",
      "execution_count": null,
      "metadata": {},
      "outputs": [],
      "source": [
        "def merge_fred_csv_files(file_pattern):\n",
        "    # Use glob to find all files matching the specified pattern\n",
        "    file_list = glob.glob(file_pattern)\n",
        "\n",
        "    # Initialize an empty list to store individual DataFrames\n",
        "    dataframes = []\n",
        "\n",
        "    # Iterate through each file in the file list\n",
        "    for file in file_list:\n",
        "        # Read the CSV file into a DataFrame\n",
        "        df = pd.read_csv(file, parse_dates=['DATE'], index_col='DATE')\n",
        "\n",
        "        # Add the DataFrame to the list of DataFrames\n",
        "        dataframes.append(df)\n",
        "\n",
        "    # Merge all the DataFrames in the list into a single DataFrame\n",
        "    merged_df = pd.concat(dataframes, axis=1)\n",
        "\n",
        "    return merged_df\n"
      ]
    },
    {
      "cell_type": "code",
      "execution_count": null,
      "metadata": {},
      "outputs": [],
      "source": [
        "file_pattern = './notebooks/datasets/time_series/raw/fred/*.csv'\n",
        "df = merge_fred_csv_files(file_pattern)\n",
        "display(df)"
      ]
    },
    {
      "attachments": {},
      "cell_type": "markdown",
      "metadata": {},
      "source": [
        "Preselection of variables."
      ]
    },
    {
      "cell_type": "code",
      "execution_count": null,
      "metadata": {},
      "outputs": [],
      "source": [
        "selected_cols = ['MORTGAGE30US', 'UNRATE', 'GS10', 'FEDFUNDS']\n",
        "df = df[selected_cols]"
      ]
    },
    {
      "attachments": {},
      "cell_type": "markdown",
      "metadata": {},
      "source": [
        "Plot time series."
      ]
    },
    {
      "cell_type": "code",
      "execution_count": null,
      "metadata": {},
      "outputs": [],
      "source": [
        "def plot_time_series(df, cols_to_plot=None, title=''):\n",
        "    \"\"\"\n",
        "    Plot multiple time-series in the same axes using seaborn.\n",
        "\n",
        "    :param df: DataFrame with time-series data\n",
        "    :param cols_to_plot: List of column names to plot. If None, plot all columns in df.\n",
        "    :param title: Title of the plot, default is ''\n",
        "    \"\"\"\n",
        "    if cols_to_plot is None:\n",
        "        cols_to_plot = df.columns.tolist()\n",
        "\n",
        "    # Create a new DataFrame with the columns to plot\n",
        "    plot_df = df[cols_to_plot]\n",
        "\n",
        "    # Set seaborn plot style\n",
        "    sns.set(style=\"darkgrid\")\n",
        "\n",
        "    # Plot the time-series data\n",
        "    plt.figure(figsize=(12, 6))\n",
        "    for col in plot_df.columns:\n",
        "        sns.lineplot(data=plot_df[col], label=col)\n",
        "\n",
        "    plt.xlabel('Date')\n",
        "    plt.ylabel('Value')\n",
        "    plt.title(title)\n",
        "    plt.legend()\n",
        "    plt.show()\n"
      ]
    },
    {
      "cell_type": "code",
      "execution_count": null,
      "metadata": {},
      "outputs": [],
      "source": [
        "plot_time_series(df, title='All Variables')"
      ]
    },
    {
      "attachments": {},
      "cell_type": "markdown",
      "metadata": {},
      "source": [
        "#### Data Description"
      ]
    },
    {
      "cell_type": "code",
      "execution_count": null,
      "metadata": {},
      "outputs": [],
      "source": [
        "df.info()"
      ]
    },
    {
      "attachments": {},
      "cell_type": "markdown",
      "metadata": {},
      "source": [
        "#### Data Quality"
      ]
    },
    {
      "cell_type": "code",
      "execution_count": null,
      "metadata": {},
      "outputs": [],
      "source": [
        "df = df.resample('MS').last()\n",
        "df = df.dropna()"
      ]
    },
    {
      "attachments": {},
      "cell_type": "markdown",
      "metadata": {},
      "source": [
        "### Exploratory Data Analysis"
      ]
    },
    {
      "cell_type": "code",
      "execution_count": null,
      "metadata": {},
      "outputs": [],
      "source": [
        "df_diff = df.diff().dropna()"
      ]
    },
    {
      "attachments": {},
      "cell_type": "markdown",
      "metadata": {},
      "source": [
        "### Training Data"
      ]
    },
    {
      "attachments": {},
      "cell_type": "markdown",
      "metadata": {},
      "source": [
        "#### Sampling "
      ]
    },
    {
      "attachments": {},
      "cell_type": "markdown",
      "metadata": {},
      "source": [
        "**Step 1: Split dataset into Training and Test**"
      ]
    },
    {
      "cell_type": "code",
      "execution_count": null,
      "metadata": {},
      "outputs": [],
      "source": [
        "split_index = int(len(df) * 0.8)   # use 80% of the data for training\n",
        "df_train, df_test = df[:split_index], df[split_index:]"
      ]
    },
    {
      "attachments": {},
      "cell_type": "markdown",
      "metadata": {},
      "source": [
        "**Step 2: Create a Stationary Train and Test Dataset**"
      ]
    },
    {
      "cell_type": "code",
      "execution_count": null,
      "metadata": {},
      "outputs": [],
      "source": [
        "# Apply first difference to both training and test df\n",
        "df_train_diff = df_train.diff().dropna()\n",
        "df_test_diff = df_test.diff().dropna()\n"
      ]
    },
    {
      "attachments": {},
      "cell_type": "markdown",
      "metadata": {},
      "source": [
        "#### Model Training"
      ]
    },
    {
      "attachments": {},
      "cell_type": "markdown",
      "metadata": {},
      "source": [
        "#### Model 1: Loan Rates and FEDFUNDS"
      ]
    },
    {
      "attachments": {},
      "cell_type": "markdown",
      "metadata": {},
      "source": [
        "**Step 1: Fit Model**"
      ]
    },
    {
      "cell_type": "code",
      "execution_count": null,
      "metadata": {},
      "outputs": [],
      "source": [
        "m1_training_dataset = df_train_diff[['FEDFUNDS','MORTGAGE30US']]\n",
        "m1_test_dataset = df_test_diff[['FEDFUNDS','MORTGAGE30US']]\n",
        "\n",
        "# Add the independent variables with no intercept\n",
        "X_1 = df_train_diff['FEDFUNDS']\n",
        "\n",
        "# Define the dependent variable\n",
        "y_1 = df_train_diff['MORTGAGE30US']\n",
        "\n",
        "# Fit the linear regression model\n",
        "model_1 = sm.OLS(y_1, X_1).fit()\n",
        "\n",
        "# Display the model summary\n",
        "print(model_1.summary())"
      ]
    },
    {
      "attachments": {},
      "cell_type": "markdown",
      "metadata": {},
      "source": [
        "## Model Methodology"
      ]
    },
    {
      "attachments": {},
      "cell_type": "markdown",
      "metadata": {},
      "source": [
        "#### Model Training"
      ]
    },
    {
      "attachments": {},
      "cell_type": "markdown",
      "metadata": {},
      "source": [
        "#### Model 1: Loan Rates and FEDFUNDS"
      ]
    },
    {
      "attachments": {},
      "cell_type": "markdown",
      "metadata": {},
      "source": [
        "**Step 1: Fit Model**"
      ]
    },
    {
      "cell_type": "code",
      "execution_count": null,
      "metadata": {},
      "outputs": [],
      "source": [
        "m1_training_dataset = df_train_diff[['FEDFUNDS','MORTGAGE30US']]\n",
        "m1_test_dataset = df_test_diff[['FEDFUNDS','MORTGAGE30US']]\n",
        "\n",
        "# Add the independent variables with no intercept\n",
        "X_1 = df_train_diff['FEDFUNDS']\n",
        "\n",
        "# Define the dependent variable\n",
        "y_1 = df_train_diff['MORTGAGE30US']\n",
        "\n",
        "# Fit the linear regression model\n",
        "model_1 = sm.OLS(y_1, X_1).fit()\n",
        "\n",
        "# Display the model summary\n",
        "print(model_1.summary())"
      ]
    },
    {
      "attachments": {},
      "cell_type": "markdown",
      "metadata": {},
      "source": [
        "### Model 2: Loan Rates, constant and FEDFUNDS"
      ]
    },
    {
      "attachments": {},
      "cell_type": "markdown",
      "metadata": {},
      "source": [
        "**Step 1: Fit Model**"
      ]
    },
    {
      "cell_type": "code",
      "execution_count": null,
      "metadata": {},
      "outputs": [],
      "source": [
        "m2_training_dataset = df_train_diff[['FEDFUNDS','MORTGAGE30US']]\n",
        "m2_training_dataset['const'] = 1.0\n",
        "m2_test_dataset = df_test_diff[['FEDFUNDS','MORTGAGE30US']]\n",
        "m2_test_dataset['const'] = 1.0\n",
        "\n",
        "\n",
        "\n",
        "# Add a constant to the independent variables for the linear regression model\n",
        "X_2 = sm.add_constant(df_train_diff['FEDFUNDS'])\n",
        "\n",
        "# Define the dependent variable\n",
        "y_2 = df_train_diff['MORTGAGE30US']\n",
        "\n",
        "# Fit the linear regression model\n",
        "model_2 = sm.OLS(y_2, X_2).fit()\n",
        "\n",
        "# Display the model summary\n",
        "print(model_2.summary())"
      ]
    },
    {
      "attachments": {},
      "cell_type": "markdown",
      "metadata": {},
      "source": [
        "**Step 2: Reasoning**"
      ]
    },
    {
      "attachments": {},
      "cell_type": "markdown",
      "metadata": {},
      "source": []
    },
    {
      "attachments": {},
      "cell_type": "markdown",
      "metadata": {},
      "source": [
        "### Model 3: Loan Rates and GS10"
      ]
    },
    {
      "cell_type": "code",
      "execution_count": null,
      "metadata": {},
      "outputs": [],
      "source": [
        "m3_training_dataset = df_train_diff[['GS10','MORTGAGE30US']]\n",
        "m3_test_dataset = df_test_diff[['GS10','MORTGAGE30US']]\n",
        "\n",
        "\n",
        "# Add a constant to the independent variables for the linear regression model\n",
        "X_3 = df_train_diff['GS10']\n",
        "\n",
        "# Define the dependent variable\n",
        "y_3 = df_train_diff['MORTGAGE30US']\n",
        "\n",
        "# Fit the linear regression model\n",
        "model_3 = sm.OLS(y_3, X_3).fit()\n",
        "\n",
        "# Display the model summary\n",
        "print(model_3.summary())"
      ]
    },
    {
      "attachments": {},
      "cell_type": "markdown",
      "metadata": {},
      "source": [
        "#### VM model summary test plan"
      ]
    },
    {
      "cell_type": "code",
      "execution_count": null,
      "metadata": {},
      "outputs": [],
      "source": [
        "vm.test_suites.list_plans()"
      ]
    },
    {
      "attachments": {},
      "cell_type": "markdown",
      "metadata": {},
      "source": [
        "#### Model perfomance Test"
      ]
    },
    {
      "cell_type": "code",
      "execution_count": null,
      "metadata": {},
      "outputs": [],
      "source": [
        "vm_train_ds_1 = vm.init_dataset(dataset=m1_training_dataset, type=\"generic\", target_column=\"MORTGAGE30US\")\n",
        "vm_test_ds_1 = vm.init_dataset(dataset=m1_test_dataset, type=\"generic\", target_column=\"MORTGAGE30US\")\n",
        "vm_model_1 = vm.init_model(model_1, train_ds=vm_train_ds_1, test_ds=vm_test_ds_1, validation_ds=vm_test_ds_1)\n",
        "\n",
        "model_performance_test_suite = vm.run_test_suite(\"regression_model_description\",\n",
        "                                             model=vm_model_1\n",
        "                                            )\n",
        "\n",
        "vm_train_ds_2 = vm.init_dataset(dataset=m2_training_dataset, type=\"generic\", target_column=\"MORTGAGE30US\")\n",
        "vm_test_ds_2 = vm.init_dataset(dataset=m2_test_dataset, type=\"generic\", target_column=\"MORTGAGE30US\")\n",
        "vm_model_2 = vm.init_model(model_2, train_ds=vm_train_ds_2, test_ds=vm_test_ds_2, validation_ds=vm_test_ds_2)\n",
        "\n",
        "\n",
        "vm_train_ds_3 = vm.init_dataset(dataset=m3_training_dataset, type=\"generic\", target_column=\"MORTGAGE30US\")\n",
        "vm_test_ds_3 = vm.init_dataset(dataset=m3_test_dataset, type=\"generic\", target_column=\"MORTGAGE30US\")\n",
        "vm_model_3 = vm.init_model(model_3, train_ds=vm_train_ds_3, test_ds=vm_test_ds_3, validation_ds=vm_test_ds_3)\n",
        "\n",
        "\n",
        "model_comparison_test_suite = vm.run_test_suite(\"regression_models_evaluation\",\n",
        "                                             model = vm_model_1,\n",
        "                                             models= [vm_model_2, vm_model_3],\n",
        "                                            )\n",
        "\n"
      ]
    },
    {
      "cell_type": "code",
      "execution_count": null,
      "metadata": {},
      "outputs": [],
      "source": []
    }
  ],
  "metadata": {
    "kernelspec": {
      "display_name": "dev-framework",
      "language": "python",
      "name": "dev-framework"
    },
    "language_info": {
      "codemirror_mode": {
        "name": "ipython",
        "version": 3
      },
      "file_extension": ".py",
      "mimetype": "text/x-python",
      "name": "python",
      "nbconvert_exporter": "python",
      "pygments_lexer": "ipython3",
      "version": "3.9.6"
    },
    "orig_nbformat": 4
  },
  "nbformat": 4,
  "nbformat_minor": 2
}
