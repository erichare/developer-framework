{
 "cells": [
  {
   "cell_type": "markdown",
   "metadata": {},
   "source": [
    "# RAG Pipeline using LlamaIndex"
   ]
  },
  {
   "cell_type": "markdown",
   "metadata": {},
   "source": [
    "## Pre-requisites"
   ]
  },
  {
   "cell_type": "code",
   "execution_count": 1,
   "metadata": {},
   "outputs": [
    {
     "name": "stdout",
     "output_type": "stream",
     "text": [
      "Note: you may need to restart the kernel to use updated packages.\n"
     ]
    }
   ],
   "source": [
    "%pip install llama-index llama-index-embeddings-huggingface llama-index-vector-stores-chroma -q -U"
   ]
  },
  {
   "cell_type": "code",
   "execution_count": 3,
   "metadata": {},
   "outputs": [],
   "source": [
    "# load openai api key\n",
    "import os\n",
    "\n",
    "from dotenv import load_dotenv\n",
    "load_dotenv()\n",
    "\n",
    "if not 'OPENAI_API_KEY' in os.environ:\n",
    "    raise ValueError('OPENAI_API_KEY is not set')"
   ]
  },
  {
   "cell_type": "markdown",
   "metadata": {},
   "source": [
    "## Dataset Loader"
   ]
  },
  {
   "cell_type": "code",
   "execution_count": 2,
   "metadata": {},
   "outputs": [],
   "source": [
    "# Import the sample dataset from the library\n",
    "from validmind.datasets.llm.rag import rfp\n",
    "\n",
    "raw_df = rfp.load_data()\n",
    "train_df, test_df = rfp.preprocess(raw_df)"
   ]
  },
  {
   "cell_type": "code",
   "execution_count": 4,
   "metadata": {},
   "outputs": [
    {
     "data": {
      "text/html": [
       "<div>\n",
       "<style scoped>\n",
       "    .dataframe tbody tr th:only-of-type {\n",
       "        vertical-align: middle;\n",
       "    }\n",
       "\n",
       "    .dataframe tbody tr th {\n",
       "        vertical-align: top;\n",
       "    }\n",
       "\n",
       "    .dataframe thead th {\n",
       "        text-align: right;\n",
       "    }\n",
       "</style>\n",
       "<table border=\"1\" class=\"dataframe\">\n",
       "  <thead>\n",
       "    <tr style=\"text-align: right;\">\n",
       "      <th></th>\n",
       "      <th>Project_Title</th>\n",
       "      <th>question</th>\n",
       "      <th>ground_truth</th>\n",
       "      <th>Area</th>\n",
       "      <th>Requester</th>\n",
       "      <th>Status</th>\n",
       "      <th>id</th>\n",
       "    </tr>\n",
       "  </thead>\n",
       "  <tbody>\n",
       "    <tr>\n",
       "      <th>27</th>\n",
       "      <td>Automated Document Processing System Using AI ...</td>\n",
       "      <td>How is user interface and experience considere...</td>\n",
       "      <td>Our design philosophy centers on simplicity an...</td>\n",
       "      <td>General</td>\n",
       "      <td>Bank D</td>\n",
       "      <td>Awarded</td>\n",
       "      <td>0b7db970-f0d0-4199-afe4-7d1fa99a1720</td>\n",
       "    </tr>\n",
       "    <tr>\n",
       "      <th>1</th>\n",
       "      <td>Generative AI Solutions for Fraud Detection an...</td>\n",
       "      <td>How do you maintain your AI applications with ...</td>\n",
       "      <td>We maintain a dedicated R&amp;D team focused on in...</td>\n",
       "      <td>General</td>\n",
       "      <td>Bank E</td>\n",
       "      <td>Under Review</td>\n",
       "      <td>96515a41-d3d4-4247-afc8-7bfdfd7e2647</td>\n",
       "    </tr>\n",
       "    <tr>\n",
       "      <th>66</th>\n",
       "      <td>Gen AI-Driven Financial Advisory System</td>\n",
       "      <td>Describe how your AI solutions manage and miti...</td>\n",
       "      <td>We implement and maintain robust risk manageme...</td>\n",
       "      <td>AI Regulation</td>\n",
       "      <td>Bank A</td>\n",
       "      <td>Under Review</td>\n",
       "      <td>6cd03a66-ce41-45a5-8d20-67bc4183298f</td>\n",
       "    </tr>\n",
       "    <tr>\n",
       "      <th>78</th>\n",
       "      <td>Implementation of AI Chatbots for Enhanced Cus...</td>\n",
       "      <td>How are your LLMs updated to reflect new data ...</td>\n",
       "      <td>We implement advanced continuous learning mech...</td>\n",
       "      <td>Large Language Models</td>\n",
       "      <td>Bank C</td>\n",
       "      <td>Awarded</td>\n",
       "      <td>45050954-b200-48a6-b6cc-75f658376df2</td>\n",
       "    </tr>\n",
       "    <tr>\n",
       "      <th>112</th>\n",
       "      <td>AI-Powered Risk Assessment Model Development f...</td>\n",
       "      <td>Explain how you manage and mitigate AI risks i...</td>\n",
       "      <td>We implement and maintain robust risk manageme...</td>\n",
       "      <td>AI Regulation</td>\n",
       "      <td>Bank B</td>\n",
       "      <td>Awarded</td>\n",
       "      <td>4ff9c1c7-cf3d-4742-a4cd-c25ec37335c9</td>\n",
       "    </tr>\n",
       "  </tbody>\n",
       "</table>\n",
       "</div>"
      ],
      "text/plain": [
       "                                         Project_Title  \\\n",
       "27   Automated Document Processing System Using AI ...   \n",
       "1    Generative AI Solutions for Fraud Detection an...   \n",
       "66             Gen AI-Driven Financial Advisory System   \n",
       "78   Implementation of AI Chatbots for Enhanced Cus...   \n",
       "112  AI-Powered Risk Assessment Model Development f...   \n",
       "\n",
       "                                              question  \\\n",
       "27   How is user interface and experience considere...   \n",
       "1    How do you maintain your AI applications with ...   \n",
       "66   Describe how your AI solutions manage and miti...   \n",
       "78   How are your LLMs updated to reflect new data ...   \n",
       "112  Explain how you manage and mitigate AI risks i...   \n",
       "\n",
       "                                          ground_truth                   Area  \\\n",
       "27   Our design philosophy centers on simplicity an...                General   \n",
       "1    We maintain a dedicated R&D team focused on in...                General   \n",
       "66   We implement and maintain robust risk manageme...          AI Regulation   \n",
       "78   We implement advanced continuous learning mech...  Large Language Models   \n",
       "112  We implement and maintain robust risk manageme...          AI Regulation   \n",
       "\n",
       "    Requester        Status                                    id  \n",
       "27     Bank D       Awarded  0b7db970-f0d0-4199-afe4-7d1fa99a1720  \n",
       "1      Bank E  Under Review  96515a41-d3d4-4247-afc8-7bfdfd7e2647  \n",
       "66     Bank A  Under Review  6cd03a66-ce41-45a5-8d20-67bc4183298f  \n",
       "78     Bank C       Awarded  45050954-b200-48a6-b6cc-75f658376df2  \n",
       "112    Bank B       Awarded  4ff9c1c7-cf3d-4742-a4cd-c25ec37335c9  "
      ]
     },
     "execution_count": 4,
     "metadata": {},
     "output_type": "execute_result"
    }
   ],
   "source": [
    "train_df.head()"
   ]
  },
  {
   "cell_type": "code",
   "execution_count": 5,
   "metadata": {},
   "outputs": [
    {
     "data": {
      "text/html": [
       "<div>\n",
       "<style scoped>\n",
       "    .dataframe tbody tr th:only-of-type {\n",
       "        vertical-align: middle;\n",
       "    }\n",
       "\n",
       "    .dataframe tbody tr th {\n",
       "        vertical-align: top;\n",
       "    }\n",
       "\n",
       "    .dataframe thead th {\n",
       "        text-align: right;\n",
       "    }\n",
       "</style>\n",
       "<table border=\"1\" class=\"dataframe\">\n",
       "  <thead>\n",
       "    <tr style=\"text-align: right;\">\n",
       "      <th></th>\n",
       "      <th>Project_Title</th>\n",
       "      <th>question</th>\n",
       "      <th>ground_truth</th>\n",
       "      <th>Area</th>\n",
       "      <th>Requester</th>\n",
       "      <th>Status</th>\n",
       "      <th>id</th>\n",
       "    </tr>\n",
       "  </thead>\n",
       "  <tbody>\n",
       "    <tr>\n",
       "      <th>70</th>\n",
       "      <td>Implementation of AI Chatbots for Enhanced Cus...</td>\n",
       "      <td>What strategies do you employ to update your A...</td>\n",
       "      <td>We maintain a dedicated R&amp;D team focused on in...</td>\n",
       "      <td>General</td>\n",
       "      <td>Bank C</td>\n",
       "      <td>Awarded</td>\n",
       "      <td>d4aa5b1f-c3a8-4f7c-8b9d-46cc6dd92f8d</td>\n",
       "    </tr>\n",
       "    <tr>\n",
       "      <th>82</th>\n",
       "      <td>Implementation of AI Chatbots for Enhanced Cus...</td>\n",
       "      <td>What is your strategy for integrating LLMs smo...</td>\n",
       "      <td>Our approach involves conducting a thorough an...</td>\n",
       "      <td>Large Language Models</td>\n",
       "      <td>Bank C</td>\n",
       "      <td>Awarded</td>\n",
       "      <td>65a9775f-a524-4363-a6e3-98eca7ebc897</td>\n",
       "    </tr>\n",
       "    <tr>\n",
       "      <th>110</th>\n",
       "      <td>AI-Powered Risk Assessment Model Development f...</td>\n",
       "      <td>What steps do you implement to ensure AI decis...</td>\n",
       "      <td>We prioritize transparency by incorporating ex...</td>\n",
       "      <td>AI Regulation</td>\n",
       "      <td>Bank B</td>\n",
       "      <td>Awarded</td>\n",
       "      <td>735e9255-ed08-4dbd-a0b4-3bb096690c2c</td>\n",
       "    </tr>\n",
       "    <tr>\n",
       "      <th>79</th>\n",
       "      <td>Implementation of AI Chatbots for Enhanced Cus...</td>\n",
       "      <td>What approaches do you utilize to ensure the d...</td>\n",
       "      <td>We prioritize transparency and explainability ...</td>\n",
       "      <td>Large Language Models</td>\n",
       "      <td>Bank C</td>\n",
       "      <td>Awarded</td>\n",
       "      <td>2562adce-969f-4aac-a617-60de0abdf012</td>\n",
       "    </tr>\n",
       "    <tr>\n",
       "      <th>62</th>\n",
       "      <td>Gen AI-Driven Financial Advisory System</td>\n",
       "      <td>Can you describe the governance structures you...</td>\n",
       "      <td>We have established an AI Risk Council that pl...</td>\n",
       "      <td>AI Regulation</td>\n",
       "      <td>Bank A</td>\n",
       "      <td>Under Review</td>\n",
       "      <td>3766d848-2265-4f5f-bd60-98d161fb8985</td>\n",
       "    </tr>\n",
       "  </tbody>\n",
       "</table>\n",
       "</div>"
      ],
      "text/plain": [
       "                                         Project_Title  \\\n",
       "70   Implementation of AI Chatbots for Enhanced Cus...   \n",
       "82   Implementation of AI Chatbots for Enhanced Cus...   \n",
       "110  AI-Powered Risk Assessment Model Development f...   \n",
       "79   Implementation of AI Chatbots for Enhanced Cus...   \n",
       "62             Gen AI-Driven Financial Advisory System   \n",
       "\n",
       "                                              question  \\\n",
       "70   What strategies do you employ to update your A...   \n",
       "82   What is your strategy for integrating LLMs smo...   \n",
       "110  What steps do you implement to ensure AI decis...   \n",
       "79   What approaches do you utilize to ensure the d...   \n",
       "62   Can you describe the governance structures you...   \n",
       "\n",
       "                                          ground_truth                   Area  \\\n",
       "70   We maintain a dedicated R&D team focused on in...                General   \n",
       "82   Our approach involves conducting a thorough an...  Large Language Models   \n",
       "110  We prioritize transparency by incorporating ex...          AI Regulation   \n",
       "79   We prioritize transparency and explainability ...  Large Language Models   \n",
       "62   We have established an AI Risk Council that pl...          AI Regulation   \n",
       "\n",
       "    Requester        Status                                    id  \n",
       "70     Bank C       Awarded  d4aa5b1f-c3a8-4f7c-8b9d-46cc6dd92f8d  \n",
       "82     Bank C       Awarded  65a9775f-a524-4363-a6e3-98eca7ebc897  \n",
       "110    Bank B       Awarded  735e9255-ed08-4dbd-a0b4-3bb096690c2c  \n",
       "79     Bank C       Awarded  2562adce-969f-4aac-a617-60de0abdf012  \n",
       "62     Bank A  Under Review  3766d848-2265-4f5f-bd60-98d161fb8985  "
      ]
     },
     "execution_count": 5,
     "metadata": {},
     "output_type": "execute_result"
    }
   ],
   "source": [
    "test_df.head()"
   ]
  },
  {
   "cell_type": "markdown",
   "metadata": {},
   "source": [
    "## Embedding Model Selection\n",
    "\n",
    "First, we test both the `sentence-transformers` and `openai` embedding models using their native interfaces. "
   ]
  },
  {
   "cell_type": "code",
   "execution_count": 6,
   "metadata": {},
   "outputs": [
    {
     "data": {
      "application/vnd.jupyter.widget-view+json": {
       "model_id": "8e9662625cc34b32a2d63157d260c3d7",
       "version_major": 2,
       "version_minor": 0
      },
      "text/plain": [
       "modules.json:   0%|          | 0.00/349 [00:00<?, ?B/s]"
      ]
     },
     "metadata": {},
     "output_type": "display_data"
    },
    {
     "data": {
      "application/vnd.jupyter.widget-view+json": {
       "model_id": "e3c6fd59c09d4bdb9b95672b798f0003",
       "version_major": 2,
       "version_minor": 0
      },
      "text/plain": [
       "config_sentence_transformers.json:   0%|          | 0.00/116 [00:00<?, ?B/s]"
      ]
     },
     "metadata": {},
     "output_type": "display_data"
    },
    {
     "data": {
      "application/vnd.jupyter.widget-view+json": {
       "model_id": "dfe9bd4555474dc0a379214373240fdf",
       "version_major": 2,
       "version_minor": 0
      },
      "text/plain": [
       "README.md:   0%|          | 0.00/10.6k [00:00<?, ?B/s]"
      ]
     },
     "metadata": {},
     "output_type": "display_data"
    },
    {
     "data": {
      "application/vnd.jupyter.widget-view+json": {
       "model_id": "8f18883b89244fd69c5ba14e42329401",
       "version_major": 2,
       "version_minor": 0
      },
      "text/plain": [
       "sentence_bert_config.json:   0%|          | 0.00/53.0 [00:00<?, ?B/s]"
      ]
     },
     "metadata": {},
     "output_type": "display_data"
    },
    {
     "data": {
      "application/vnd.jupyter.widget-view+json": {
       "model_id": "c63054cd9fcd4f24b3e213d9b86c4b86",
       "version_major": 2,
       "version_minor": 0
      },
      "text/plain": [
       "config.json:   0%|          | 0.00/571 [00:00<?, ?B/s]"
      ]
     },
     "metadata": {},
     "output_type": "display_data"
    },
    {
     "data": {
      "application/vnd.jupyter.widget-view+json": {
       "model_id": "951309c1448f46fcb3d6fe3cc81b375e",
       "version_major": 2,
       "version_minor": 0
      },
      "text/plain": [
       "model.safetensors:   0%|          | 0.00/438M [00:00<?, ?B/s]"
      ]
     },
     "metadata": {},
     "output_type": "display_data"
    },
    {
     "data": {
      "application/vnd.jupyter.widget-view+json": {
       "model_id": "29bd83b5b847479091565de93efb040c",
       "version_major": 2,
       "version_minor": 0
      },
      "text/plain": [
       "tokenizer_config.json:   0%|          | 0.00/363 [00:00<?, ?B/s]"
      ]
     },
     "metadata": {},
     "output_type": "display_data"
    },
    {
     "data": {
      "application/vnd.jupyter.widget-view+json": {
       "model_id": "d403297efc6248dcb509e79af73c7234",
       "version_major": 2,
       "version_minor": 0
      },
      "text/plain": [
       "vocab.txt:   0%|          | 0.00/232k [00:00<?, ?B/s]"
      ]
     },
     "metadata": {},
     "output_type": "display_data"
    },
    {
     "data": {
      "application/vnd.jupyter.widget-view+json": {
       "model_id": "8e3e77e4504a4934898d62691e9562dc",
       "version_major": 2,
       "version_minor": 0
      },
      "text/plain": [
       "tokenizer.json:   0%|          | 0.00/466k [00:00<?, ?B/s]"
      ]
     },
     "metadata": {},
     "output_type": "display_data"
    },
    {
     "data": {
      "application/vnd.jupyter.widget-view+json": {
       "model_id": "1c81e6b79c8e4ae885392937237871c0",
       "version_major": 2,
       "version_minor": 0
      },
      "text/plain": [
       "special_tokens_map.json:   0%|          | 0.00/239 [00:00<?, ?B/s]"
      ]
     },
     "metadata": {},
     "output_type": "display_data"
    },
    {
     "data": {
      "application/vnd.jupyter.widget-view+json": {
       "model_id": "bbf03e51e5274426a7489dd4c97a906c",
       "version_major": 2,
       "version_minor": 0
      },
      "text/plain": [
       "1_Pooling/config.json:   0%|          | 0.00/190 [00:00<?, ?B/s]"
      ]
     },
     "metadata": {},
     "output_type": "display_data"
    },
    {
     "name": "stdout",
     "output_type": "stream",
     "text": [
      "768\n",
      "[0.01917368918657303, 0.028736494481563568, -0.012354077771306038, 0.015822110697627068, 0.07908996194601059]\n"
     ]
    }
   ],
   "source": [
    "from llama_index.embeddings.huggingface import HuggingFaceEmbedding\n",
    "\n",
    "embed_model = HuggingFaceEmbedding(model_name=\"sentence-transformers/all-mpnet-base-v2\")\n",
    "embeddings = embed_model.get_text_embedding(\"Hello World!\")\n",
    "\n",
    "print(len(embeddings))\n",
    "print(embeddings[:5])"
   ]
  },
  {
   "cell_type": "code",
   "execution_count": 7,
   "metadata": {},
   "outputs": [
    {
     "name": "stderr",
     "output_type": "stream",
     "text": [
      "huggingface/tokenizers: The current process just got forked, after parallelism has already been used. Disabling parallelism to avoid deadlocks...\n",
      "To disable this warning, you can either:\n",
      "\t- Avoid using `tokenizers` before the fork if possible\n",
      "\t- Explicitly set the environment variable TOKENIZERS_PARALLELISM=(true | false)\n"
     ]
    },
    {
     "name": "stdout",
     "output_type": "stream",
     "text": [
      "1536\n",
      "[-0.0030460702255368233, -0.056743934750556946, 0.02944534458220005, 0.04296409338712692, -0.04081733897328377]\n"
     ]
    }
   ],
   "source": [
    "from openai import OpenAI\n",
    "client = OpenAI()\n",
    "\n",
    "embeddings = client.embeddings.create(\n",
    "    input=\"Hello World!\", \n",
    "    model=\"text-embedding-3-small\"\n",
    ").data[0].embedding\n",
    "\n",
    "print(len(embeddings))\n",
    "print(embeddings[:5])"
   ]
  },
  {
   "cell_type": "markdown",
   "metadata": {},
   "source": [
    "Create `validmind` embedding models."
   ]
  },
  {
   "cell_type": "code",
   "execution_count": 10,
   "metadata": {},
   "outputs": [],
   "source": [
    "from validmind.models import FunctionModel\n",
    "\n",
    "def embed(input):\n",
    "    \"\"\"Returns a text embedding for the given text\"\"\"\n",
    "    \n",
    "    embed_model = HuggingFaceEmbedding(model_name=\"sentence-transformers/all-mpnet-base-v2\")\n",
    "    return embed_model.get_text_embedding(input[\"question\"])\n",
    "\n",
    "\n",
    "vm_embedder_st = FunctionModel(input_id=\"embedding_model_st\", predict_fn=embed)"
   ]
  },
  {
   "cell_type": "code",
   "execution_count": 11,
   "metadata": {},
   "outputs": [],
   "source": [
    "def embed(question):\n",
    "    \"\"\"Returns a text embedding for the given text\"\"\"\n",
    "\n",
    "    return (\n",
    "        client.embeddings.create(\n",
    "            input=question,\n",
    "            model=\"text-embedding-3-small\",\n",
    "        )\n",
    "        .data[0]\n",
    "        .embedding\n",
    "    )\n",
    "\n",
    "\n",
    "vm_embedder_openai = FunctionModel(\n",
    "    input_id=\"embedding_model_openai\", \n",
    "    predict_fn=embed\n",
    ")"
   ]
  },
  {
   "cell_type": "markdown",
   "metadata": {},
   "source": [
    "Create `validmind` datasets."
   ]
  },
  {
   "cell_type": "code",
   "execution_count": 17,
   "metadata": {},
   "outputs": [
    {
     "name": "stderr",
     "output_type": "stream",
     "text": [
      "2024-05-07 15:37:23,480 - INFO(validmind.client): Pandas dataset detected. Initializing VM Dataset instance...\n",
      "2024-05-07 15:37:23,482 - INFO(validmind.client): Pandas dataset detected. Initializing VM Dataset instance...\n"
     ]
    }
   ],
   "source": [
    "import validmind as vm\n",
    "\n",
    "vm_train_ds = vm.init_dataset(train_df, text_column=\"question\", __log=False)\n",
    "vm_test_ds = vm.init_dataset(test_df, text_column=\"question\", __log=False)"
   ]
  },
  {
   "cell_type": "markdown",
   "metadata": {},
   "source": [
    "Generate embeddings from the text in the `question` column."
   ]
  },
  {
   "cell_type": "code",
   "execution_count": 19,
   "metadata": {},
   "outputs": [
    {
     "name": "stderr",
     "output_type": "stream",
     "text": [
      "2024-05-07 15:38:15,461 - INFO(validmind.vm_models.dataset.utils): Running predict_proba()... This may take a while\n",
      "2024-05-07 15:38:15,461 - INFO(validmind.vm_models.dataset.utils): Not running predict_proba() for unsupported models.\n",
      "2024-05-07 15:38:15,462 - INFO(validmind.vm_models.dataset.utils): Running predict()... This may take a while\n",
      "2024-05-07 15:38:33,688 - INFO(validmind.vm_models.dataset.utils): Done running predict()\n",
      "2024-05-07 15:38:33,689 - INFO(validmind.vm_models.dataset.utils): Running predict_proba()... This may take a while\n",
      "2024-05-07 15:38:33,690 - INFO(validmind.vm_models.dataset.utils): Not running predict_proba() for unsupported models.\n",
      "2024-05-07 15:38:33,690 - INFO(validmind.vm_models.dataset.utils): Running predict()... This may take a while\n",
      "2024-05-07 15:38:40,568 - INFO(validmind.vm_models.dataset.utils): Done running predict()\n"
     ]
    }
   ],
   "source": [
    "vm_test_ds.assign_predictions(vm_embedder_st)\n",
    "vm_test_ds.assign_predictions(vm_embedder_openai)"
   ]
  },
  {
   "cell_type": "markdown",
   "metadata": {},
   "source": [
    "Run an embedding test for both models to ensure that the embedding models function properly."
   ]
  },
  {
   "cell_type": "code",
   "execution_count": 20,
   "metadata": {},
   "outputs": [
    {
     "data": {
      "application/vnd.jupyter.widget-view+json": {
       "model_id": "b4f99634e77d4bc5a9e56da957684c25",
       "version_major": 2,
       "version_minor": 0
      },
      "text/plain": [
       "VBox(children=(HTML(value='\\n            <h1>Stability Analysis Random Noise HF Embedding Model ✅</h1>\\n      …"
      ]
     },
     "metadata": {},
     "output_type": "display_data"
    }
   ],
   "source": [
    "from validmind.tests import run_test\n",
    "\n",
    "run = True\n",
    "if run:\n",
    "    result = run_test(\n",
    "        \"validmind.model_validation.embeddings.StabilityAnalysisRandomNoise:HFEmbeddingModel\",\n",
    "        inputs={\"model\": vm_embedder_st, \"dataset\": vm_test_ds},\n",
    "        params={\"probability\": 0.3},\n",
    "    )"
   ]
  },
  {
   "cell_type": "code",
   "execution_count": 21,
   "metadata": {},
   "outputs": [
    {
     "data": {
      "application/vnd.jupyter.widget-view+json": {
       "model_id": "13c0d31211bf4262a204f0e6420c31d7",
       "version_major": 2,
       "version_minor": 0
      },
      "text/plain": [
       "VBox(children=(HTML(value='\\n            <h1>Stability Analysis Random Noise Open AI Embedding Model ✅</h1>\\n …"
      ]
     },
     "metadata": {},
     "output_type": "display_data"
    }
   ],
   "source": [
    "run = True\n",
    "if run:\n",
    "    result = run_test(\n",
    "        \"validmind.model_validation.embeddings.StabilityAnalysisRandomNoise:OpenAIEmbeddingModel\",\n",
    "        inputs={\"model\": vm_embedder_openai, \"dataset\": vm_test_ds},\n",
    "        params={\"probability\": 0.3},\n",
    "    )"
   ]
  },
  {
   "cell_type": "markdown",
   "metadata": {},
   "source": [
    "## Setup Vector Store"
   ]
  },
  {
   "cell_type": "markdown",
   "metadata": {},
   "source": [
    "#### Generate embeddings for the questions"
   ]
  },
  {
   "cell_type": "code",
   "execution_count": 23,
   "metadata": {},
   "outputs": [
    {
     "data": {
      "text/html": [
       "<div>\n",
       "<style scoped>\n",
       "    .dataframe tbody tr th:only-of-type {\n",
       "        vertical-align: middle;\n",
       "    }\n",
       "\n",
       "    .dataframe tbody tr th {\n",
       "        vertical-align: top;\n",
       "    }\n",
       "\n",
       "    .dataframe thead th {\n",
       "        text-align: right;\n",
       "    }\n",
       "</style>\n",
       "<table border=\"1\" class=\"dataframe\">\n",
       "  <thead>\n",
       "    <tr style=\"text-align: right;\">\n",
       "      <th></th>\n",
       "      <th>Project_Title</th>\n",
       "      <th>question</th>\n",
       "      <th>ground_truth</th>\n",
       "      <th>Area</th>\n",
       "      <th>Requester</th>\n",
       "      <th>Status</th>\n",
       "      <th>id</th>\n",
       "      <th>embedding</th>\n",
       "    </tr>\n",
       "  </thead>\n",
       "  <tbody>\n",
       "    <tr>\n",
       "      <th>27</th>\n",
       "      <td>Automated Document Processing System Using AI ...</td>\n",
       "      <td>How is user interface and experience considere...</td>\n",
       "      <td>Our design philosophy centers on simplicity an...</td>\n",
       "      <td>General</td>\n",
       "      <td>Bank D</td>\n",
       "      <td>Awarded</td>\n",
       "      <td>0b7db970-f0d0-4199-afe4-7d1fa99a1720</td>\n",
       "      <td>[-0.006611819379031658, -0.00952684972435236, ...</td>\n",
       "    </tr>\n",
       "    <tr>\n",
       "      <th>1</th>\n",
       "      <td>Generative AI Solutions for Fraud Detection an...</td>\n",
       "      <td>How do you maintain your AI applications with ...</td>\n",
       "      <td>We maintain a dedicated R&amp;D team focused on in...</td>\n",
       "      <td>General</td>\n",
       "      <td>Bank E</td>\n",
       "      <td>Under Review</td>\n",
       "      <td>96515a41-d3d4-4247-afc8-7bfdfd7e2647</td>\n",
       "      <td>[0.0026103463023900986, 0.05872994288802147, -...</td>\n",
       "    </tr>\n",
       "    <tr>\n",
       "      <th>66</th>\n",
       "      <td>Gen AI-Driven Financial Advisory System</td>\n",
       "      <td>Describe how your AI solutions manage and miti...</td>\n",
       "      <td>We implement and maintain robust risk manageme...</td>\n",
       "      <td>AI Regulation</td>\n",
       "      <td>Bank A</td>\n",
       "      <td>Under Review</td>\n",
       "      <td>6cd03a66-ce41-45a5-8d20-67bc4183298f</td>\n",
       "      <td>[-0.024822114035487175, -0.0037610677536576986...</td>\n",
       "    </tr>\n",
       "    <tr>\n",
       "      <th>78</th>\n",
       "      <td>Implementation of AI Chatbots for Enhanced Cus...</td>\n",
       "      <td>How are your LLMs updated to reflect new data ...</td>\n",
       "      <td>We implement advanced continuous learning mech...</td>\n",
       "      <td>Large Language Models</td>\n",
       "      <td>Bank C</td>\n",
       "      <td>Awarded</td>\n",
       "      <td>45050954-b200-48a6-b6cc-75f658376df2</td>\n",
       "      <td>[0.023994842544198036, -0.0015319223748520017,...</td>\n",
       "    </tr>\n",
       "    <tr>\n",
       "      <th>112</th>\n",
       "      <td>AI-Powered Risk Assessment Model Development f...</td>\n",
       "      <td>Explain how you manage and mitigate AI risks i...</td>\n",
       "      <td>We implement and maintain robust risk manageme...</td>\n",
       "      <td>AI Regulation</td>\n",
       "      <td>Bank B</td>\n",
       "      <td>Awarded</td>\n",
       "      <td>4ff9c1c7-cf3d-4742-a4cd-c25ec37335c9</td>\n",
       "      <td>[-0.01566511206328869, 0.024723073467612267, -...</td>\n",
       "    </tr>\n",
       "  </tbody>\n",
       "</table>\n",
       "</div>"
      ],
      "text/plain": [
       "                                         Project_Title  \\\n",
       "27   Automated Document Processing System Using AI ...   \n",
       "1    Generative AI Solutions for Fraud Detection an...   \n",
       "66             Gen AI-Driven Financial Advisory System   \n",
       "78   Implementation of AI Chatbots for Enhanced Cus...   \n",
       "112  AI-Powered Risk Assessment Model Development f...   \n",
       "\n",
       "                                              question  \\\n",
       "27   How is user interface and experience considere...   \n",
       "1    How do you maintain your AI applications with ...   \n",
       "66   Describe how your AI solutions manage and miti...   \n",
       "78   How are your LLMs updated to reflect new data ...   \n",
       "112  Explain how you manage and mitigate AI risks i...   \n",
       "\n",
       "                                          ground_truth                   Area  \\\n",
       "27   Our design philosophy centers on simplicity an...                General   \n",
       "1    We maintain a dedicated R&D team focused on in...                General   \n",
       "66   We implement and maintain robust risk manageme...          AI Regulation   \n",
       "78   We implement advanced continuous learning mech...  Large Language Models   \n",
       "112  We implement and maintain robust risk manageme...          AI Regulation   \n",
       "\n",
       "    Requester        Status                                    id  \\\n",
       "27     Bank D       Awarded  0b7db970-f0d0-4199-afe4-7d1fa99a1720   \n",
       "1      Bank E  Under Review  96515a41-d3d4-4247-afc8-7bfdfd7e2647   \n",
       "66     Bank A  Under Review  6cd03a66-ce41-45a5-8d20-67bc4183298f   \n",
       "78     Bank C       Awarded  45050954-b200-48a6-b6cc-75f658376df2   \n",
       "112    Bank B       Awarded  4ff9c1c7-cf3d-4742-a4cd-c25ec37335c9   \n",
       "\n",
       "                                             embedding  \n",
       "27   [-0.006611819379031658, -0.00952684972435236, ...  \n",
       "1    [0.0026103463023900986, 0.05872994288802147, -...  \n",
       "66   [-0.024822114035487175, -0.0037610677536576986...  \n",
       "78   [0.023994842544198036, -0.0015319223748520017,...  \n",
       "112  [-0.01566511206328869, 0.024723073467612267, -...  "
      ]
     },
     "execution_count": 23,
     "metadata": {},
     "output_type": "execute_result"
    }
   ],
   "source": [
    "train_df[\"embedding\"] = vm_embedder_st.predict(train_df)\n",
    "train_df.head()"
   ]
  },
  {
   "cell_type": "markdown",
   "metadata": {},
   "source": [
    "#### Insert embeddings and questions into Vector DB"
   ]
  },
  {
   "cell_type": "code",
   "execution_count": 24,
   "metadata": {},
   "outputs": [],
   "source": [
    "import chromadb\n",
    "import uuid\n",
    "chroma_client = chromadb.Client()\n",
    "\n",
    "collection = chroma_client.get_or_create_collection(name=\"rfp_rag_collection\")\n",
    "\n",
    "# Initialize lists to store data for batch addition\n",
    "all_embeddings = []\n",
    "all_metadatas = []\n",
    "all_documents = []\n",
    "all_ids = []\n",
    "\n",
    "# Loop through the DataFrame rows\n",
    "for index, row in train_df.iterrows():\n",
    "\n",
    "    all_embeddings.append(row[\"embedding\"])\n",
    "    all_metadatas.append({\n",
    "        'ground_truth': row['ground_truth'],\n",
    "        'hnsw:space': 'cosine'\n",
    "    })\n",
    "    all_documents.append(row['question'])\n",
    "    all_ids.append(str(uuid.uuid4()))\n",
    "\n",
    "# Add all data to the collection in a single operation\n",
    "collection.add(\n",
    "    ids=all_ids, \n",
    "    documents=all_documents,\n",
    "    embeddings=all_embeddings,\n",
    "    metadatas=all_metadatas,\n",
    ")"
   ]
  },
  {
   "cell_type": "markdown",
   "metadata": {},
   "source": [
    "We test the retriever by directly querying using the pre-computed embedding corresponding to the question. We expect the vector store to return the top k most similar questions, along with the metadata associated with each of these questions."
   ]
  },
  {
   "cell_type": "code",
   "execution_count": 37,
   "metadata": {},
   "outputs": [],
   "source": [
    "from llama_index.vector_stores.chroma import ChromaVectorStore\n",
    "from llama_index.core.vector_stores.types import VectorStoreQuery\n",
    "\n",
    "chroma_vector_store = ChromaVectorStore(chroma_collection=collection)\n",
    "query = VectorStoreQuery(query_embedding=list(vm_test_ds.y_pred(vm_embedder_st)[0]), similarity_top_k=10)\n",
    "result = chroma_vector_store.query(query)"
   ]
  },
  {
   "cell_type": "code",
   "execution_count": 38,
   "metadata": {},
   "outputs": [
    {
     "name": "stdout",
     "output_type": "stream",
     "text": [
      "Node ID: 175f4048-1ff5-4f92-8667-803cea47a9fb\n",
      "Question: How do you maintain your AI applications with the newest AI technologies and advancements?\n",
      "Answer: We maintain a dedicated R&D team focused on integrating the latest AI advancements into our applications. This includes regular updates and feature enhancements based on cutting-edge technologies such as GPT (Generative Pre-trained Transformer) for natural language understanding, CNNs (Convolutional Neural Networks) for advanced image recognition tasks, and DQN (Deep Q-Networks) for decision-making processes in complex environments. Our commitment to these AI methodologies ensures that our applications remain innovative, with capabilities that adapt to evolving market demands and client needs. This approach has enabled us to enhance the predictive accuracy of our financial forecasting tools by 25% and improve the efficiency of our educational content personalization by 40%\n",
      "Similarity: 0.8464225273161045\n",
      "\n",
      "Node ID: c6021a31-1152-4227-8078-1141ddb34c1a\n",
      "Question: How do you keep your AI applications current with ongoing advancements in artificial intelligence?\n",
      "Answer: We maintain a dedicated R&D team focused on integrating the latest AI advancements into our applications. This includes regular updates and feature enhancements based on cutting-edge technologies such as GPT (Generative Pre-trained Transformer) for natural language understanding, CNNs (Convolutional Neural Networks) for advanced image recognition tasks, and DQN (Deep Q-Networks) for decision-making processes in complex environments. Our commitment to these AI methodologies ensures that our applications remain innovative, with capabilities that adapt to evolving market demands and client needs. This approach has enabled us to enhance the predictive accuracy of our financial forecasting tools by 25% and improve the efficiency of our educational content personalization by 40%\n",
      "Similarity: 0.8334518253492421\n",
      "\n",
      "Node ID: f3147610-3774-4d23-b470-d0505f0d9931\n",
      "Question: How do you ensure your AI-based apps remain up-to-date with the latest AI advancements and technologies?\n",
      "Answer: We maintain a dedicated R&D team focused on integrating the latest AI advancements into our applications. This includes regular updates and feature enhancements based on cutting-edge technologies such as GPT (Generative Pre-trained Transformer) for natural language understanding, CNNs (Convolutional Neural Networks) for advanced image recognition tasks, and DQN (Deep Q-Networks) for decision-making processes in complex environments. Our commitment to these AI methodologies ensures that our applications remain innovative, with capabilities that adapt to evolving market demands and client needs. This approach has enabled us to enhance the predictive accuracy of our financial forecasting tools by 25% and improve the efficiency of our educational content personalization by 40%\n",
      "Similarity: 0.7629415058146708\n",
      "\n",
      "Node ID: 5e4bf3db-261b-4fcf-9c57-7e11db24dabb\n",
      "Question: What support and maintenance do you provide following the deployment of AI applications?\n",
      "Answer: Post-launch, we offer comprehensive support and maintenance services, including regular updates, bug fixes, and performance optimization. Our support team is available 24/7 to assist with any issues or questions. We utilize a ticketing system that ensures swift response times, with an average initial response time of under 2 hours. Additionally, we provide monthly performance reports and hold quarterly reviews with clients to discuss system status and potential improvements. Our proactive approach includes using automated monitoring tools to detect and resolve issues before they impact users, ensuring that our applications perform optimally at all times. This service structure has been instrumental in maintaining a client satisfaction rate above 98%.\n",
      "Similarity: 0.4603257942949295\n",
      "\n",
      "Node ID: d203c722-ee09-448b-9222-2294c8b5ce84\n",
      "Question: What methods do you employ for continuous updating and learning in your LLMs to adapt to new information and user demands?\n",
      "Answer: We implement advanced continuous learning mechanisms that allow our Large Language Models (LLMs) to adapt over time by incorporating new data and feedback loops, ensuring our models remain current and effective. We utilize incremental learning techniques where the model is periodically updated with fresh data without the need for retraining from scratch. This is facilitated by employing online learning algorithms such as Online Gradient Descent, which can quickly adjust model weights in response to new information.\n",
      " To efficiently manage this continuous learning process, we use tools like Apache Spark for handling large-scale data processing in a distributed computing environment. This allows for seamless integration of new data streams into our training datasets. We also implement active learning cycles where the models request human feedback on specific outputs that are uncertain, thus refining model predictions over time based on actual user interactions and feedback.\n",
      " Additionally, we incorporate reinforcement learning techniques where models are rewarded for improvements in performance metrics like accuracy and user engagement. This helps in fine-tuning the models' responses based on what is most effective in real-world scenarios.\n",
      " For monitoring and managing these updates, we use TensorFlow Extended (TFX) for a robust end-to-end platform that ensures our models are consistently validated against performance benchmarks before being deployed. This continuous adaptation framework guarantees that our LLMs are not only keeping pace with evolving user needs and preferences but are also progressively enhancing their relevance and effectiveness.\n",
      "Similarity: 0.4479155920034888\n",
      "\n",
      "Node ID: ce5732ea-476f-4541-ba4d-56058864a2d0\n",
      "Question: What is your experience in developing AI-based applications, and can you provide examples of successful projects?\n",
      "Answer: Our company has 15 years of experience in developing AI-based applications, with a strong portfolio in sectors such as healthcare, finance, and education. For instance, our project MediAI Insight for the healthcare industry demonstrated significant achievements in patient data analysis, resulting in a 30% reduction in diagnostic errors and a 40% improvement in treatment personalization. Our platform has engaged over 200 healthcare facilities, achieving a user satisfaction rate of 95%.\n",
      "Similarity: 0.4445549890003459\n",
      "\n",
      "Node ID: d0ba5f5c-601c-4684-be82-faeeafd4ae14\n",
      "Question: Please share your experience with developing AI-enabled applications and provide examples of notable projects.\n",
      "Answer: Our company has 15 years of experience in developing AI-based applications, with a strong portfolio in sectors such as healthcare, finance, and education. For instance, our project MediAI Insight for the healthcare industry demonstrated significant achievements in patient data analysis, resulting in a 30% reduction in diagnostic errors and a 40% improvement in treatment personalization. Our platform has engaged over 200 healthcare facilities, achieving a user satisfaction rate of 95%.\n",
      "Similarity: 0.43887877416831056\n",
      "\n",
      "Node ID: db0186fe-fb5b-46e6-a25a-be88b7f3bf74\n",
      "Question: How do you design the user interfaces and experiences of your AI applications to ensure they are user-friendly and engaging?\n",
      "Answer: Our design philosophy centers on simplicity and intuitiveness. We conduct extensive user research and testing to inform our UI/UX designs, ensuring that our AI-based apps are accessible and engaging for all users, regardless of their technical expertise. This includes applying principles from human-centered design, utilizing accessibility guidelines such as WCAG 2.1, and conducting iterative testing with diverse user groups. Our commitment to inclusivity and usability leads to higher user adoption rates and satisfaction. For instance, feedback-driven enhancements in our visual design have improved user engagement by over 30% across our applications.\n",
      "Similarity: 0.4293790025816205\n",
      "\n",
      "Node ID: 43537c25-e6b5-47fb-b6a0-0349e162c402\n",
      "Question: Explain the support and maintenance services you offer for AI applications after they go live.\n",
      "Answer: Post-launch, we offer comprehensive support and maintenance services, including regular updates, bug fixes, and performance optimization. Our support team is available 24/7 to assist with any issues or questions. We utilize a ticketing system that ensures swift response times, with an average initial response time of under 2 hours. Additionally, we provide monthly performance reports and hold quarterly reviews with clients to discuss system status and potential improvements. Our proactive approach includes using automated monitoring tools to detect and resolve issues before they impact users, ensuring that our applications perform optimally at all times. This service structure has been instrumental in maintaining a client satisfaction rate above 98%.\n",
      "Similarity: 0.4269950557631529\n",
      "\n",
      "Node ID: 1ff1a02b-6c70-4e5b-ad29-676508beb7ea\n",
      "Question: What considerations do you take into account for user interface and user experience design in your AI applications?\n",
      "Answer: Our design philosophy centers on simplicity and intuitiveness. We conduct extensive user research and testing to inform our UI/UX designs, ensuring that our AI-based apps are accessible and engaging for all users, regardless of their technical expertise. This includes applying principles from human-centered design, utilizing accessibility guidelines such as WCAG 2.1, and conducting iterative testing with diverse user groups. Our commitment to inclusivity and usability leads to higher user adoption rates and satisfaction. For instance, feedback-driven enhancements in our visual design have improved user engagement by over 30% across our applications.\n",
      "Similarity: 0.42285180290523827\n",
      "\n"
     ]
    }
   ],
   "source": [
    "for node, similarity, id_ in zip(result.nodes, result.similarities, result.ids):\n",
    "    print(\"Node ID:\", id_)\n",
    "    print(\"Question:\", node.text)\n",
    "    print(\"Answer:\", node.metadata['ground_truth'])\n",
    "    print(\"Similarity:\", similarity)\n",
    "    print()"
   ]
  },
  {
   "cell_type": "markdown",
   "metadata": {},
   "source": [
    "## Setup Retrieval Model"
   ]
  },
  {
   "cell_type": "code",
   "execution_count": 39,
   "metadata": {},
   "outputs": [],
   "source": [
    "def retrieve(input):\n",
    "\n",
    "    contexts = []\n",
    "    \n",
    "    query = VectorStoreQuery(query_embedding=input[\"embedding_model_st\"], similarity_top_k=10)\n",
    "\n",
    "    result = chroma_vector_store.query(query)\n",
    "\n",
    "    for node, similarity, id_ in zip(result.nodes, result.similarities, result.ids):\n",
    "\n",
    "        context = f\"Node ID: {id_}\\n\"\n",
    "        context = f\"Question: {node.text}\\n\"\n",
    "        context += f\"Answer: {node.metadata['ground_truth']}\\n\"\n",
    "        context += f\"Similarity: {similarity}\\n\"\n",
    "\n",
    "        contexts.append(context)\n",
    "\n",
    "    return contexts\n",
    "\n",
    "vm_retriever = FunctionModel(input_id=\"retrieval_model\", predict_fn=retrieve)"
   ]
  },
  {
   "cell_type": "code",
   "execution_count": 42,
   "metadata": {},
   "outputs": [],
   "source": [
    "from validmind.models import PipelineModel\n",
    "\n",
    "embed_retrieve_pipeline = PipelineModel(vm_embedder_st | vm_retriever, input_id=\"embed_retrieve_pipeline\")"
   ]
  },
  {
   "cell_type": "code",
   "execution_count": 43,
   "metadata": {},
   "outputs": [
    {
     "name": "stderr",
     "output_type": "stream",
     "text": [
      "2024-05-07 15:50:06,897 - INFO(validmind.vm_models.dataset.utils): Running predict_proba()... This may take a while\n",
      "2024-05-07 15:50:06,898 - INFO(validmind.vm_models.dataset.utils): Not running predict_proba() for unsupported models.\n",
      "2024-05-07 15:50:06,898 - INFO(validmind.vm_models.dataset.utils): Running predict()... This may take a while\n",
      "2024-05-07 15:50:24,790 - INFO(validmind.vm_models.dataset.utils): Done running predict()\n"
     ]
    },
    {
     "data": {
      "text/html": [
       "<div>\n",
       "<style scoped>\n",
       "    .dataframe tbody tr th:only-of-type {\n",
       "        vertical-align: middle;\n",
       "    }\n",
       "\n",
       "    .dataframe tbody tr th {\n",
       "        vertical-align: top;\n",
       "    }\n",
       "\n",
       "    .dataframe thead th {\n",
       "        text-align: right;\n",
       "    }\n",
       "</style>\n",
       "<table border=\"1\" class=\"dataframe\">\n",
       "  <thead>\n",
       "    <tr style=\"text-align: right;\">\n",
       "      <th></th>\n",
       "      <th>Project_Title</th>\n",
       "      <th>question</th>\n",
       "      <th>ground_truth</th>\n",
       "      <th>Area</th>\n",
       "      <th>Requester</th>\n",
       "      <th>Status</th>\n",
       "      <th>id</th>\n",
       "      <th>embedding_model_st_prediction</th>\n",
       "      <th>embedding_model_openai_prediction</th>\n",
       "      <th>embed_retrieve_pipeline_prediction</th>\n",
       "    </tr>\n",
       "  </thead>\n",
       "  <tbody>\n",
       "    <tr>\n",
       "      <th>70</th>\n",
       "      <td>Implementation of AI Chatbots for Enhanced Cus...</td>\n",
       "      <td>What strategies do you employ to update your A...</td>\n",
       "      <td>We maintain a dedicated R&amp;D team focused on in...</td>\n",
       "      <td>General</td>\n",
       "      <td>Bank C</td>\n",
       "      <td>Awarded</td>\n",
       "      <td>d4aa5b1f-c3a8-4f7c-8b9d-46cc6dd92f8d</td>\n",
       "      <td>[0.013661187142133713, 0.041973263025283813, -...</td>\n",
       "      <td>[0.012765799649059772, 0.0003663294482976198, ...</td>\n",
       "      <td>[Question: How do you maintain your AI applica...</td>\n",
       "    </tr>\n",
       "    <tr>\n",
       "      <th>82</th>\n",
       "      <td>Implementation of AI Chatbots for Enhanced Cus...</td>\n",
       "      <td>What is your strategy for integrating LLMs smo...</td>\n",
       "      <td>Our approach involves conducting a thorough an...</td>\n",
       "      <td>Large Language Models</td>\n",
       "      <td>Bank C</td>\n",
       "      <td>Awarded</td>\n",
       "      <td>65a9775f-a524-4363-a6e3-98eca7ebc897</td>\n",
       "      <td>[0.0031792251393198967, 0.0010557029163464904,...</td>\n",
       "      <td>[0.012765799649059772, 0.0003663294482976198, ...</td>\n",
       "      <td>[Question: What is your approach to integratin...</td>\n",
       "    </tr>\n",
       "    <tr>\n",
       "      <th>110</th>\n",
       "      <td>AI-Powered Risk Assessment Model Development f...</td>\n",
       "      <td>What steps do you implement to ensure AI decis...</td>\n",
       "      <td>We prioritize transparency by incorporating ex...</td>\n",
       "      <td>AI Regulation</td>\n",
       "      <td>Bank B</td>\n",
       "      <td>Awarded</td>\n",
       "      <td>735e9255-ed08-4dbd-a0b4-3bb096690c2c</td>\n",
       "      <td>[-0.01779736764729023, 0.05280052870512009, -0...</td>\n",
       "      <td>[0.01272196788340807, 0.0003462419263087213, 0...</td>\n",
       "      <td>[Question: What measures do you take to ensure...</td>\n",
       "    </tr>\n",
       "    <tr>\n",
       "      <th>79</th>\n",
       "      <td>Implementation of AI Chatbots for Enhanced Cus...</td>\n",
       "      <td>What approaches do you utilize to ensure the d...</td>\n",
       "      <td>We prioritize transparency and explainability ...</td>\n",
       "      <td>Large Language Models</td>\n",
       "      <td>Bank C</td>\n",
       "      <td>Awarded</td>\n",
       "      <td>2562adce-969f-4aac-a617-60de0abdf012</td>\n",
       "      <td>[0.01752305217087269, -0.017317142337560654, -...</td>\n",
       "      <td>[0.012765799649059772, 0.0003663294482976198, ...</td>\n",
       "      <td>[Question: What actions do you take to make th...</td>\n",
       "    </tr>\n",
       "    <tr>\n",
       "      <th>62</th>\n",
       "      <td>Gen AI-Driven Financial Advisory System</td>\n",
       "      <td>Can you describe the governance structures you...</td>\n",
       "      <td>We have established an AI Risk Council that pl...</td>\n",
       "      <td>AI Regulation</td>\n",
       "      <td>Bank A</td>\n",
       "      <td>Under Review</td>\n",
       "      <td>3766d848-2265-4f5f-bd60-98d161fb8985</td>\n",
       "      <td>[0.017403364181518555, 0.010175510309636593, -...</td>\n",
       "      <td>[0.012765799649059772, 0.0003663294482976198, ...</td>\n",
       "      <td>[Question: Can you discuss your governance fra...</td>\n",
       "    </tr>\n",
       "  </tbody>\n",
       "</table>\n",
       "</div>"
      ],
      "text/plain": [
       "                                         Project_Title  \\\n",
       "70   Implementation of AI Chatbots for Enhanced Cus...   \n",
       "82   Implementation of AI Chatbots for Enhanced Cus...   \n",
       "110  AI-Powered Risk Assessment Model Development f...   \n",
       "79   Implementation of AI Chatbots for Enhanced Cus...   \n",
       "62             Gen AI-Driven Financial Advisory System   \n",
       "\n",
       "                                              question  \\\n",
       "70   What strategies do you employ to update your A...   \n",
       "82   What is your strategy for integrating LLMs smo...   \n",
       "110  What steps do you implement to ensure AI decis...   \n",
       "79   What approaches do you utilize to ensure the d...   \n",
       "62   Can you describe the governance structures you...   \n",
       "\n",
       "                                          ground_truth                   Area  \\\n",
       "70   We maintain a dedicated R&D team focused on in...                General   \n",
       "82   Our approach involves conducting a thorough an...  Large Language Models   \n",
       "110  We prioritize transparency by incorporating ex...          AI Regulation   \n",
       "79   We prioritize transparency and explainability ...  Large Language Models   \n",
       "62   We have established an AI Risk Council that pl...          AI Regulation   \n",
       "\n",
       "    Requester        Status                                    id  \\\n",
       "70     Bank C       Awarded  d4aa5b1f-c3a8-4f7c-8b9d-46cc6dd92f8d   \n",
       "82     Bank C       Awarded  65a9775f-a524-4363-a6e3-98eca7ebc897   \n",
       "110    Bank B       Awarded  735e9255-ed08-4dbd-a0b4-3bb096690c2c   \n",
       "79     Bank C       Awarded  2562adce-969f-4aac-a617-60de0abdf012   \n",
       "62     Bank A  Under Review  3766d848-2265-4f5f-bd60-98d161fb8985   \n",
       "\n",
       "                         embedding_model_st_prediction  \\\n",
       "70   [0.013661187142133713, 0.041973263025283813, -...   \n",
       "82   [0.0031792251393198967, 0.0010557029163464904,...   \n",
       "110  [-0.01779736764729023, 0.05280052870512009, -0...   \n",
       "79   [0.01752305217087269, -0.017317142337560654, -...   \n",
       "62   [0.017403364181518555, 0.010175510309636593, -...   \n",
       "\n",
       "                     embedding_model_openai_prediction  \\\n",
       "70   [0.012765799649059772, 0.0003663294482976198, ...   \n",
       "82   [0.012765799649059772, 0.0003663294482976198, ...   \n",
       "110  [0.01272196788340807, 0.0003462419263087213, 0...   \n",
       "79   [0.012765799649059772, 0.0003663294482976198, ...   \n",
       "62   [0.012765799649059772, 0.0003663294482976198, ...   \n",
       "\n",
       "                    embed_retrieve_pipeline_prediction  \n",
       "70   [Question: How do you maintain your AI applica...  \n",
       "82   [Question: What is your approach to integratin...  \n",
       "110  [Question: What measures do you take to ensure...  \n",
       "79   [Question: What actions do you take to make th...  \n",
       "62   [Question: Can you discuss your governance fra...  "
      ]
     },
     "execution_count": 43,
     "metadata": {},
     "output_type": "execute_result"
    }
   ],
   "source": [
    "vm_test_ds.assign_predictions(embed_retrieve_pipeline)\n",
    "vm_test_ds.df.head()"
   ]
  },
  {
   "cell_type": "markdown",
   "metadata": {},
   "source": [
    "## Setup Generation Model"
   ]
  },
  {
   "cell_type": "code",
   "execution_count": 44,
   "metadata": {},
   "outputs": [],
   "source": [
    "from llama_index.core import Prompt\n",
    "\n",
    "template = \"\"\"\n",
    "Answer the question based only on the following context. \n",
    "If you cannot answer the question with the context, please respond with 'I don't know':\n",
    "\n",
    "### CONTEXT\n",
    "{context}\n",
    "\n",
    "### QUESTION\n",
    "Question: {question}\n",
    "\"\"\"\n",
    "prompt = Prompt(template)"
   ]
  },
  {
   "cell_type": "code",
   "execution_count": 47,
   "metadata": {},
   "outputs": [
    {
     "name": "stdout",
     "output_type": "stream",
     "text": [
      "\n",
      "Answer the question based only on the following context. \n",
      "If you cannot answer the question with the context, please respond with 'I don't know':\n",
      "\n",
      "### CONTEXT\n",
      "Question: How do you maintain your AI applications with the newest AI technologies and advancements?\n",
      "Answer: We maintain a dedicated R&D team focused on integrating the latest AI advancements into our applications. This includes regular updates and feature enhancements based on cutting-edge technologies such as GPT (Generative Pre-trained Transformer) for natural language understanding, CNNs (Convolutional Neural Networks) for advanced image recognition tasks, and DQN (Deep Q-Networks) for decision-making processes in complex environments. Our commitment to these AI methodologies ensures that our applications remain innovative, with capabilities that adapt to evolving market demands and client needs. This approach has enabled us to enhance the predictive accuracy of our financial forecasting tools by 25% and improve the efficiency of our educational content personalization by 40%\n",
      "Similarity: 0.8464225273161045\n",
      "\n",
      "\n",
      "### QUESTION\n",
      "Question: What strategies do you employ to update your AI applications with the most recent developments in AI technology?\n",
      "\n"
     ]
    }
   ],
   "source": [
    "formatted_prompt = prompt.format(\n",
    "    context=vm_test_ds.df.iloc[0]['embed_retrieve_pipeline_prediction'][0], \n",
    "    question=vm_test_ds.df.iloc[0]['question'],\n",
    ")\n",
    "print(formatted_prompt)"
   ]
  },
  {
   "cell_type": "code",
   "execution_count": 52,
   "metadata": {},
   "outputs": [],
   "source": [
    "from openai import OpenAI\n",
    "\n",
    "\n",
    "client = OpenAI()\n",
    "\n",
    "def generate(input):\n",
    "\n",
    "    formatted_prompt = prompt.format(\n",
    "        context=input[vm_retriever.input_id], \n",
    "        question=input[\"question\"],\n",
    "    )\n",
    "    \n",
    "    response = client.chat.completions.create(\n",
    "        model=\"gpt-3.5-turbo\",\n",
    "        messages=[\n",
    "            {\"role\": \"user\", \"content\": formatted_prompt},\n",
    "        ],\n",
    "    )\n",
    "\n",
    "    return response.choices[0].message.content\n",
    "\n",
    "vm_generator = FunctionModel(input_id=\"generation_model\", predict_fn=generate)"
   ]
  },
  {
   "cell_type": "markdown",
   "metadata": {},
   "source": [
    "## Setup a ValidMind RAG Model"
   ]
  },
  {
   "cell_type": "code",
   "execution_count": 53,
   "metadata": {},
   "outputs": [],
   "source": [
    "vm_rag_model = PipelineModel(vm_embedder_st | vm_retriever | vm_generator, input_id=\"rag_model\")"
   ]
  },
  {
   "cell_type": "code",
   "execution_count": 54,
   "metadata": {},
   "outputs": [
    {
     "name": "stderr",
     "output_type": "stream",
     "text": [
      "2024-05-07 15:54:08,599 - INFO(validmind.vm_models.dataset.utils): Running predict_proba()... This may take a while\n",
      "2024-05-07 15:54:08,600 - INFO(validmind.vm_models.dataset.utils): Not running predict_proba() for unsupported models.\n",
      "2024-05-07 15:54:08,600 - INFO(validmind.vm_models.dataset.utils): Running predict()... This may take a while\n",
      "2024-05-07 15:55:19,762 - INFO(validmind.vm_models.dataset.utils): Done running predict()\n"
     ]
    },
    {
     "data": {
      "text/html": [
       "<div>\n",
       "<style scoped>\n",
       "    .dataframe tbody tr th:only-of-type {\n",
       "        vertical-align: middle;\n",
       "    }\n",
       "\n",
       "    .dataframe tbody tr th {\n",
       "        vertical-align: top;\n",
       "    }\n",
       "\n",
       "    .dataframe thead th {\n",
       "        text-align: right;\n",
       "    }\n",
       "</style>\n",
       "<table border=\"1\" class=\"dataframe\">\n",
       "  <thead>\n",
       "    <tr style=\"text-align: right;\">\n",
       "      <th></th>\n",
       "      <th>Project_Title</th>\n",
       "      <th>question</th>\n",
       "      <th>ground_truth</th>\n",
       "      <th>Area</th>\n",
       "      <th>Requester</th>\n",
       "      <th>Status</th>\n",
       "      <th>id</th>\n",
       "      <th>embedding_model_st_prediction</th>\n",
       "      <th>embedding_model_openai_prediction</th>\n",
       "      <th>embed_retrieve_pipeline_prediction</th>\n",
       "      <th>rag_model_prediction</th>\n",
       "    </tr>\n",
       "  </thead>\n",
       "  <tbody>\n",
       "    <tr>\n",
       "      <th>70</th>\n",
       "      <td>Implementation of AI Chatbots for Enhanced Cus...</td>\n",
       "      <td>What strategies do you employ to update your A...</td>\n",
       "      <td>We maintain a dedicated R&amp;D team focused on in...</td>\n",
       "      <td>General</td>\n",
       "      <td>Bank C</td>\n",
       "      <td>Awarded</td>\n",
       "      <td>d4aa5b1f-c3a8-4f7c-8b9d-46cc6dd92f8d</td>\n",
       "      <td>[0.013661187142133713, 0.041973263025283813, -...</td>\n",
       "      <td>[0.012765799649059772, 0.0003663294482976198, ...</td>\n",
       "      <td>[Question: How do you maintain your AI applica...</td>\n",
       "      <td>Answer: We maintain a dedicated R&amp;D team focus...</td>\n",
       "    </tr>\n",
       "    <tr>\n",
       "      <th>82</th>\n",
       "      <td>Implementation of AI Chatbots for Enhanced Cus...</td>\n",
       "      <td>What is your strategy for integrating LLMs smo...</td>\n",
       "      <td>Our approach involves conducting a thorough an...</td>\n",
       "      <td>Large Language Models</td>\n",
       "      <td>Bank C</td>\n",
       "      <td>Awarded</td>\n",
       "      <td>65a9775f-a524-4363-a6e3-98eca7ebc897</td>\n",
       "      <td>[0.0031792251393198967, 0.0010557029163464904,...</td>\n",
       "      <td>[0.012765799649059772, 0.0003663294482976198, ...</td>\n",
       "      <td>[Question: What is your approach to integratin...</td>\n",
       "      <td>I don't know</td>\n",
       "    </tr>\n",
       "    <tr>\n",
       "      <th>110</th>\n",
       "      <td>AI-Powered Risk Assessment Model Development f...</td>\n",
       "      <td>What steps do you implement to ensure AI decis...</td>\n",
       "      <td>We prioritize transparency by incorporating ex...</td>\n",
       "      <td>AI Regulation</td>\n",
       "      <td>Bank B</td>\n",
       "      <td>Awarded</td>\n",
       "      <td>735e9255-ed08-4dbd-a0b4-3bb096690c2c</td>\n",
       "      <td>[-0.01779736764729023, 0.05280052870512009, -0...</td>\n",
       "      <td>[0.01272196788340807, 0.0003462419263087213, 0...</td>\n",
       "      <td>[Question: What measures do you take to ensure...</td>\n",
       "      <td>Answer: The steps implemented to ensure AI dec...</td>\n",
       "    </tr>\n",
       "    <tr>\n",
       "      <th>79</th>\n",
       "      <td>Implementation of AI Chatbots for Enhanced Cus...</td>\n",
       "      <td>What approaches do you utilize to ensure the d...</td>\n",
       "      <td>We prioritize transparency and explainability ...</td>\n",
       "      <td>Large Language Models</td>\n",
       "      <td>Bank C</td>\n",
       "      <td>Awarded</td>\n",
       "      <td>2562adce-969f-4aac-a617-60de0abdf012</td>\n",
       "      <td>[0.01752305217087269, -0.017317142337560654, -...</td>\n",
       "      <td>[0.012765799649059772, 0.0003663294482976198, ...</td>\n",
       "      <td>[Question: What actions do you take to make th...</td>\n",
       "      <td>We prioritize transparency and explainability ...</td>\n",
       "    </tr>\n",
       "    <tr>\n",
       "      <th>62</th>\n",
       "      <td>Gen AI-Driven Financial Advisory System</td>\n",
       "      <td>Can you describe the governance structures you...</td>\n",
       "      <td>We have established an AI Risk Council that pl...</td>\n",
       "      <td>AI Regulation</td>\n",
       "      <td>Bank A</td>\n",
       "      <td>Under Review</td>\n",
       "      <td>3766d848-2265-4f5f-bd60-98d161fb8985</td>\n",
       "      <td>[0.017403364181518555, 0.010175510309636593, -...</td>\n",
       "      <td>[0.012765799649059772, 0.0003663294482976198, ...</td>\n",
       "      <td>[Question: Can you discuss your governance fra...</td>\n",
       "      <td>Answer: We have established an AI Risk Council...</td>\n",
       "    </tr>\n",
       "  </tbody>\n",
       "</table>\n",
       "</div>"
      ],
      "text/plain": [
       "                                         Project_Title  \\\n",
       "70   Implementation of AI Chatbots for Enhanced Cus...   \n",
       "82   Implementation of AI Chatbots for Enhanced Cus...   \n",
       "110  AI-Powered Risk Assessment Model Development f...   \n",
       "79   Implementation of AI Chatbots for Enhanced Cus...   \n",
       "62             Gen AI-Driven Financial Advisory System   \n",
       "\n",
       "                                              question  \\\n",
       "70   What strategies do you employ to update your A...   \n",
       "82   What is your strategy for integrating LLMs smo...   \n",
       "110  What steps do you implement to ensure AI decis...   \n",
       "79   What approaches do you utilize to ensure the d...   \n",
       "62   Can you describe the governance structures you...   \n",
       "\n",
       "                                          ground_truth                   Area  \\\n",
       "70   We maintain a dedicated R&D team focused on in...                General   \n",
       "82   Our approach involves conducting a thorough an...  Large Language Models   \n",
       "110  We prioritize transparency by incorporating ex...          AI Regulation   \n",
       "79   We prioritize transparency and explainability ...  Large Language Models   \n",
       "62   We have established an AI Risk Council that pl...          AI Regulation   \n",
       "\n",
       "    Requester        Status                                    id  \\\n",
       "70     Bank C       Awarded  d4aa5b1f-c3a8-4f7c-8b9d-46cc6dd92f8d   \n",
       "82     Bank C       Awarded  65a9775f-a524-4363-a6e3-98eca7ebc897   \n",
       "110    Bank B       Awarded  735e9255-ed08-4dbd-a0b4-3bb096690c2c   \n",
       "79     Bank C       Awarded  2562adce-969f-4aac-a617-60de0abdf012   \n",
       "62     Bank A  Under Review  3766d848-2265-4f5f-bd60-98d161fb8985   \n",
       "\n",
       "                         embedding_model_st_prediction  \\\n",
       "70   [0.013661187142133713, 0.041973263025283813, -...   \n",
       "82   [0.0031792251393198967, 0.0010557029163464904,...   \n",
       "110  [-0.01779736764729023, 0.05280052870512009, -0...   \n",
       "79   [0.01752305217087269, -0.017317142337560654, -...   \n",
       "62   [0.017403364181518555, 0.010175510309636593, -...   \n",
       "\n",
       "                     embedding_model_openai_prediction  \\\n",
       "70   [0.012765799649059772, 0.0003663294482976198, ...   \n",
       "82   [0.012765799649059772, 0.0003663294482976198, ...   \n",
       "110  [0.01272196788340807, 0.0003462419263087213, 0...   \n",
       "79   [0.012765799649059772, 0.0003663294482976198, ...   \n",
       "62   [0.012765799649059772, 0.0003663294482976198, ...   \n",
       "\n",
       "                    embed_retrieve_pipeline_prediction  \\\n",
       "70   [Question: How do you maintain your AI applica...   \n",
       "82   [Question: What is your approach to integratin...   \n",
       "110  [Question: What measures do you take to ensure...   \n",
       "79   [Question: What actions do you take to make th...   \n",
       "62   [Question: Can you discuss your governance fra...   \n",
       "\n",
       "                                  rag_model_prediction  \n",
       "70   Answer: We maintain a dedicated R&D team focus...  \n",
       "82                                        I don't know  \n",
       "110  Answer: The steps implemented to ensure AI dec...  \n",
       "79   We prioritize transparency and explainability ...  \n",
       "62   Answer: We have established an AI Risk Council...  "
      ]
     },
     "execution_count": 54,
     "metadata": {},
     "output_type": "execute_result"
    }
   ],
   "source": [
    "vm_test_ds.assign_predictions(vm_rag_model)\n",
    "vm_test_ds.df.head()"
   ]
  },
  {
   "cell_type": "code",
   "execution_count": null,
   "metadata": {},
   "outputs": [],
   "source": [
    "# vm_ragas_ds = vm.init_dataset(result_df, __log=False)"
   ]
  },
  {
   "cell_type": "code",
   "execution_count": null,
   "metadata": {},
   "outputs": [],
   "source": [
    "import plotly.express as px\n",
    "\n",
    "def plot_distribution(scores):\n",
    "    # plot distribution of scores (0-1) from ragas metric\n",
    "    # scores is a list of floats\n",
    "    fig = px.histogram(x=scores, nbins=10)\n",
    "    fig.show()"
   ]
  },
  {
   "cell_type": "code",
   "execution_count": null,
   "metadata": {},
   "outputs": [],
   "source": [
    "import warnings\n",
    "\n",
    "warnings.filterwarnings(\"ignore\")"
   ]
  },
  {
   "cell_type": "code",
   "execution_count": null,
   "metadata": {},
   "outputs": [],
   "source": [
    "# result = run_test(\n",
    "#     \"validmind.model_validation.ragas.AnswerSimilarity\",\n",
    "#     inputs={\"dataset\": vm_ragas_ds},\n",
    "#     show=False,\n",
    "# )\n",
    "# plot_distribution(result.metric.summary.results[0].data)"
   ]
  }
 ],
 "metadata": {
  "kernelspec": {
   "display_name": "validmind-mI3jzOkk-py3.11",
   "language": "python",
   "name": "python3"
  },
  "language_info": {
   "codemirror_mode": {
    "name": "ipython",
    "version": 3
   },
   "file_extension": ".py",
   "mimetype": "text/x-python",
   "name": "python",
   "nbconvert_exporter": "python",
   "pygments_lexer": "ipython3",
   "version": "3.11.9"
  }
 },
 "nbformat": 4,
 "nbformat_minor": 2
}
