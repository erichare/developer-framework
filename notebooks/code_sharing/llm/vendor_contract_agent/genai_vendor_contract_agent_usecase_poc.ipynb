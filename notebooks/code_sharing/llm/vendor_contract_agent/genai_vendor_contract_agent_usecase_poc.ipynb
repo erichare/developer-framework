{
 "cells": [
  {
   "cell_type": "markdown",
   "metadata": {},
   "source": [
    "# Vendor Contract QA Agent Documentation POC"
   ]
  },
  {
   "cell_type": "markdown",
   "metadata": {},
   "source": [
    "## Pre-requisites"
   ]
  },
  {
   "cell_type": "code",
   "execution_count": 1,
   "metadata": {},
   "outputs": [
    {
     "name": "stdout",
     "output_type": "stream",
     "text": [
      "Note: you may need to restart the kernel to use updated packages.\n"
     ]
    }
   ],
   "source": [
    "%pip install duckduckgo-search beautifulsoup4 --quiet"
   ]
  },
  {
   "cell_type": "code",
   "execution_count": 2,
   "metadata": {
    "metadata": {}
   },
   "outputs": [],
   "source": [
    "# load openai api key\n",
    "import os\n",
    "\n",
    "from dotenv import load_dotenv\n",
    "load_dotenv()\n",
    "\n",
    "if not 'OPENAI_API_KEY' in os.environ:\n",
    "    raise ValueError('OPENAI_API_KEY is not set')"
   ]
  },
  {
   "cell_type": "code",
   "execution_count": 3,
   "metadata": {},
   "outputs": [],
   "source": [
    "import sys\n",
    "\n",
    "sys.path.append(os.getcwd())\n",
    "\n",
    "from utils import (\n",
    "    client,\n",
    "    init_db,\n",
    "    get_schema_description,\n",
    "    get_tools_spec,\n",
    "    show_json,\n",
    ")"
   ]
  },
  {
   "cell_type": "code",
   "execution_count": 4,
   "metadata": {},
   "outputs": [],
   "source": [
    "init_db()"
   ]
  },
  {
   "cell_type": "markdown",
   "metadata": {},
   "source": [
    "# Create Agent"
   ]
  },
  {
   "cell_type": "markdown",
   "metadata": {},
   "source": [
    "### Load Tools and DB Schema Spec"
   ]
  },
  {
   "cell_type": "code",
   "execution_count": 5,
   "metadata": {},
   "outputs": [
    {
     "name": "stdout",
     "output_type": "stream",
     "text": [
      "Loaded 2 tool definitions\n",
      "[\n",
      "      {\n",
      "            \"type\": \"function\",\n",
      "            \"function\": {\n",
      "                  \"name\": \"query_database\",\n",
      "                  \"description\": \"Query the contract database to retrieve information about contracts with a particular vendor\",\n",
      "                  \"parameters\": {\n",
      "                        \"type\": \"object\",\n",
      "                        \"properties\": {\n",
      "                              \"query\": {\n",
      "                                    \"type\": \"string\",\n",
      "                                    \"description\": \"SQL query to execute against the database\"\n",
      "                              }\n",
      "                        },\n",
      "                        \"required\": [\n",
      "                              \"query\"\n",
      "                        ]\n",
      "                  }\n",
      "            }\n",
      "      },\n",
      "      {\n",
      "            \"type\": \"function\",\n",
      "            \"function\": {\n",
      "                  \"name\": \"search_online\",\n",
      "                  \"description\": \"Search the web for information\",\n",
      "                  \"parameters\": {\n",
      "                        \"type\": \"object\",\n",
      "                        \"properties\": {\n",
      "                              \"search_type\": {\n",
      "                                    \"type\": \"string\",\n",
      "                                    \"description\": \"The type of search to do. `browse` will use a search engine to retrieve the top results for a query. `scrape` will scrape the text for a given URL.\",\n",
      "                                    \"enum\": [\n",
      "                                          \"browse\",\n",
      "                                          \"scrape\"\n",
      "                                    ]\n",
      "                              },\n",
      "                              \"query\": {\n",
      "                                    \"type\": \"string\",\n",
      "                                    \"description\": \"The query to search for. Required if `search_type` is `browse`.\"\n",
      "                              },\n",
      "                              \"url\": {\n",
      "                                    \"type\": \"string\",\n",
      "                                    \"description\": \"The URL to scrape. Required if `search_type` is `scrape`.\"\n",
      "                              }\n",
      "                        },\n",
      "                        \"required\": [\n",
      "                              \"search_type\"\n",
      "                        ]\n",
      "                  }\n",
      "            }\n",
      "      }\n",
      "]\n"
     ]
    }
   ],
   "source": [
    "tools_spec = get_tools_spec()"
   ]
  },
  {
   "cell_type": "code",
   "execution_count": 6,
   "metadata": {},
   "outputs": [
    {
     "name": "stdout",
     "output_type": "stream",
     "text": [
      "Table: vendors\n",
      "  vendor_id: TEXT\n",
      "  vendor_name: TEXT\n",
      "  category: TEXT\n",
      "  total_spend: INTEGER\n",
      "  contracts: TEXT\n",
      "Table: contracts\n",
      "  contract_id: TEXT\n",
      "  vendor_id: TEXT\n",
      "  start_date: TEXT\n",
      "  end_date: TEXT\n",
      "  contract_value: INTEGER\n",
      "  terms_conditions: TEXT\n",
      "  products_description: TEXT\n",
      "\n"
     ]
    }
   ],
   "source": [
    "print(get_schema_description())"
   ]
  },
  {
   "cell_type": "markdown",
   "metadata": {},
   "source": [
    "### Create an Assistant"
   ]
  },
  {
   "cell_type": "code",
   "execution_count": 7,
   "metadata": {},
   "outputs": [],
   "source": [
    "AGENT_SYSTEM_PROMPT = f\"\"\"\n",
    "# Mission:\n",
    "You are an AI Agent that helps employees answer questions they might have about everything related to software vendors.\n",
    "You will be asked questions such as \"Do we have a vendor for cloud storage?\" or \"I need a tool for project management\".\n",
    "You should use the tools available to you as well as semantic search on the documents you have access to to answer these questions.\n",
    "\n",
    "# Guidelines:\n",
    "For \"Do we have a vendor for cloud storage?\", you could use the `query_database` to query the contracts database for cloud storage vendors.\n",
    "Then you could search your document repository for information on the vendors you found.\n",
    "If none are found, then you might search online using the `search_online` tool to discover new vendors.\n",
    "Or, for the question \"I need a tool for project management\", if you cannot find a relevant vendor in the database,\n",
    "  you could use the `search_online` tool to find out if any existing vendors provide project management tools.\n",
    "\n",
    "# Constraints:\n",
    "You should always try and find relevant information from the database.\n",
    "You can search online to find new information or confirm information that you already know.\n",
    "You should only fall back to your existing knowledge of vendors to help you come up with good search queries or when you want to enrich your answers.\n",
    "  - For example, if the user is asking for a certain product and you find a vendor in the db that doesn't mention that product but you know they offer it, you can share that with the user.\n",
    "You should only use your document retrieval system to find extra information related to vendors found in the database or online - essentially to enrich your knowledge before answering.\n",
    "Don't make assumptions about what values to plug into functions. Ask for clarification if a user request is ambiguous.\n",
    "\n",
    "# DB Schema:\n",
    "{get_schema_description()}\n",
    "\"\"\".strip()\n",
    "\n",
    "\n",
    "# Create an agent using the OpenAI Assistants API\n",
    "# agent = client.beta.assistants.create(\n",
    "#     name=\"Vendor Contract Q/A Assistant\",\n",
    "#     instructions=AGENT_SYSTEM_PROMPT,\n",
    "#     model=\"gpt-4-turbo\",\n",
    "#     tools=tools_spec,\n",
    "# )\n",
    "# show_json(agent)\n",
    "# AGENT_ID = agent.id\n",
    "\n",
    "# Or use an existing agent\n",
    "AGENT_ID = \"asst_sAavPqXvzJNzFtoUmtfF0qCj\""
   ]
  },
  {
   "cell_type": "markdown",
   "metadata": {},
   "source": [
    "# Use the Agent"
   ]
  },
  {
   "cell_type": "code",
   "execution_count": 8,
   "metadata": {},
   "outputs": [],
   "source": [
    "from utils import AgentEventHandler\n",
    "\n",
    "os.environ[\"DEBUG\"] = \"0\"\n",
    "\n",
    "thread = client.beta.threads.create()\n",
    "\n",
    "\n",
    "def send_message(input):\n",
    "    client.beta.threads.messages.create(\n",
    "        thread_id=thread.id,\n",
    "        role=\"user\",\n",
    "        content=input[\"question\"],\n",
    "    )\n",
    "\n",
    "    with client.beta.threads.runs.stream(\n",
    "        thread_id=thread.id,\n",
    "        assistant_id=AGENT_ID,\n",
    "        event_handler=AgentEventHandler(input),\n",
    "    ) as stream:\n",
    "        stream.until_done()\n",
    "\n",
    "    return input"
   ]
  },
  {
   "cell_type": "code",
   "execution_count": 9,
   "metadata": {},
   "outputs": [
    {
     "name": "stdout",
     "output_type": "stream",
     "text": [
      "> Querying database with:  {'query': \"SELECT * FROM vendors WHERE vendor_name LIKE '%Microsoft%';\"}\n",
      "> Result:  [[\"V011\", \"Microsoft\", \"Productivity Software\", 400000, \"C014,C015\"]]\n",
      "\n",
      "\n",
      "> Querying database with:  {'query': \"SELECT * FROM contracts WHERE contract_id IN ('C014', 'C015');\"}\n",
      "> Result:  [[\"C014\", \"V011\", \"2022-09-01\", \"2025-08-31\", 210000, \"Annual subscription for office productivity suite.\", \"Microsoft Office 365 suite including Word, Excel, PowerPoint, and Teams.\"], [\"C015\", \"V011\", \"2023-10-01\", \"2026-09-30\", 240000, \"Azure compute and storage services. Pay-as-you-go pricing.\", \"Microsoft Azure services including virtual machines, storage accounts, and networking capabilities.\"]]\n",
      "\n",
      "\n",
      "> Receiving message from agent:\n"
     ]
    },
    {
     "data": {
      "application/vnd.jupyter.widget-view+json": {
       "model_id": "b6522049117440f9be789cea9d3316b9",
       "version_major": 2,
       "version_minor": 0
      },
      "text/plain": [
       "HTML(value='\\n<div id=\"message_container\">\\n\\n</div>\\n<style>\\n#message_container {\\n    padding: 10px;\\n    b…"
      ]
     },
     "metadata": {},
     "output_type": "display_data"
    },
    {
     "data": {
      "text/plain": [
       "{'question': 'Do we have contracts with microsoft?',\n",
       " 'tool_calls': [{'function': 'query_database',\n",
       "   'arguments': {'query': \"SELECT * FROM vendors WHERE vendor_name LIKE '%Microsoft%';\"}},\n",
       "  {'function': 'query_database',\n",
       "   'arguments': {'query': \"SELECT * FROM contracts WHERE contract_id IN ('C014', 'C015');\"}}],\n",
       " 'contexts': ['[[\"V011\", \"Microsoft\", \"Productivity Software\", 400000, \"C014,C015\"]]',\n",
       "  '[[\"C014\", \"V011\", \"2022-09-01\", \"2025-08-31\", 210000, \"Annual subscription for office productivity suite.\", \"Microsoft Office 365 suite including Word, Excel, PowerPoint, and Teams.\"], [\"C015\", \"V011\", \"2023-10-01\", \"2026-09-30\", 240000, \"Azure compute and storage services. Pay-as-you-go pricing.\", \"Microsoft Azure services including virtual machines, storage accounts, and networking capabilities.\"]]'],\n",
       " 'messages': ['Yes, we have contracts with Microsoft. Here are the details of the contracts:\\n\\n1. **Microsoft Office 365 Suite Contract (C014)**\\n   - **Start Date:** 2022-09-01\\n   - **End Date:** 2025-08-31\\n   - **Contract Value:** $210,000\\n   - **Products Description:** Microsoft Office 365 suite including Word, Excel, PowerPoint, and Teams.\\n   - **Terms & Conditions:** Annual subscription for office productivity suite.\\n\\n2. **Microsoft Azure Services Contract (C015)**\\n   - **Start Date:** 2023-10-01\\n   - **End Date:** 2026-09-30\\n   - **Contract Value:** $240,000\\n   - **Products Description:** Microsoft Azure services including virtual machines, storage accounts, and networking capabilities.\\n   - **Terms & Conditions:** Azure compute and storage services with pay-as-you-go pricing.\\n\\nThese contracts cover both software productivity tools and cloud computing and storage services.']}"
      ]
     },
     "execution_count": 9,
     "metadata": {},
     "output_type": "execute_result"
    }
   ],
   "source": [
    "input = {\"question\": \"Do we have contracts with microsoft?\"}\n",
    "send_message(input)\n",
    "input"
   ]
  },
  {
   "cell_type": "code",
   "execution_count": 13,
   "metadata": {},
   "outputs": [
    {
     "name": "stderr",
     "output_type": "stream",
     "text": [
      "2024-05-10 17:38:09,824 - INFO(validmind.api_client): Connected to ValidMind. Project: [Demo] Customer Churn Model - Initial Validation (clnt1f4qc00ap15lfts8ur7lw)\n"
     ]
    },
    {
     "name": "stdout",
     "output_type": "stream",
     "text": [
      "> Querying database with:  {'query': \"SELECT * FROM vendors WHERE vendor_name LIKE '%Microsoft%';\"}\n",
      "> Result:  [[\"V011\", \"Microsoft\", \"Productivity Software\", 400000, \"C014,C015\"]]\n",
      "\n",
      "\n",
      "> Querying database with:  {'query': \"SELECT * FROM contracts WHERE contract_id IN ('C014', 'C015');\"}\n",
      "> Result:  [[\"C014\", \"V011\", \"2022-09-01\", \"2025-08-31\", 210000, \"Annual subscription for office productivity suite.\", \"Microsoft Office 365 suite including Word, Excel, PowerPoint, and Teams.\"], [\"C015\", \"V011\", \"2023-10-01\", \"2026-09-30\", 240000, \"Azure compute and storage services. Pay-as-you-go pricing.\", \"Microsoft Azure services including virtual machines, storage accounts, and networking capabilities.\"]]\n",
      "\n",
      "\n",
      "> Receiving message from agent:\n"
     ]
    },
    {
     "data": {
      "application/vnd.jupyter.widget-view+json": {
       "model_id": "fb27e9aa83334374a95f8942d336dcf4",
       "version_major": 2,
       "version_minor": 0
      },
      "text/plain": [
       "HTML(value='\\n<div id=\"message_container\">\\n\\n</div>\\n<style>\\n#message_container {\\n    padding: 10px;\\n    b…"
      ]
     },
     "metadata": {},
     "output_type": "display_data"
    },
    {
     "data": {
      "text/plain": [
       "[{'question': 'Do we have contracts with microsoft?',\n",
       "  'tool_calls': [{'function': 'query_database',\n",
       "    'arguments': {'query': \"SELECT * FROM vendors WHERE vendor_name LIKE '%Microsoft%';\"}},\n",
       "   {'function': 'query_database',\n",
       "    'arguments': {'query': \"SELECT * FROM contracts WHERE contract_id IN ('C014', 'C015');\"}}],\n",
       "  'contexts': ['[[\"V011\", \"Microsoft\", \"Productivity Software\", 400000, \"C014,C015\"]]',\n",
       "   '[[\"C014\", \"V011\", \"2022-09-01\", \"2025-08-31\", 210000, \"Annual subscription for office productivity suite.\", \"Microsoft Office 365 suite including Word, Excel, PowerPoint, and Teams.\"], [\"C015\", \"V011\", \"2023-10-01\", \"2026-09-30\", 240000, \"Azure compute and storage services. Pay-as-you-go pricing.\", \"Microsoft Azure services including virtual machines, storage accounts, and networking capabilities.\"]]'],\n",
       "  'messages': ['Yes, we have contracts with Microsoft. Here are the details of the contracts:\\n\\n1. **Microsoft Office 365 Suite Contract (C014)**\\n   - **Start Date:** 2022-09-01\\n   - **End Date:** 2025-08-31\\n   - **Contract Value:** $210,000\\n   - **Products Description:** Microsoft Office 365 suite including Word, Excel, PowerPoint, and Teams.\\n   - **Terms & Conditions:** Annual subscription for office productivity suite.\\n\\n2. **Microsoft Azure Services Contract (C015)**\\n   - **Start Date:** 2023-10-01\\n   - **End Date:** 2026-09-30\\n   - **Contract Value:** $240,000\\n   - **Products Description:** Microsoft Azure services including virtual machines, storage accounts, and networking capabilities.\\n   - **Terms & Conditions:** Azure compute and storage services with pay-as-you-go pricing.\\n\\nThese contracts cover both software productivity tools and cloud computing and storage services.']}]"
      ]
     },
     "execution_count": 13,
     "metadata": {},
     "output_type": "execute_result"
    }
   ],
   "source": [
    "import pandas as pd\n",
    "import validmind as vm\n",
    "\n",
    "vm.init()\n",
    "\n",
    "vm_model = vm.init_model(predict_fn=send_message, input_id=\"vendor_qa_agent\")\n",
    "vm_model.predict(pd.DataFrame({\"question\": [\"Do we have contracts with microsoft?\"]}))"
   ]
  },
  {
   "cell_type": "code",
   "execution_count": 27,
   "metadata": {},
   "outputs": [
    {
     "name": "stdout",
     "output_type": "stream",
     "text": [
      "> Querying database with:  {'query': \"SELECT * FROM vendors WHERE vendor_name LIKE '%Microsoft%';\"}\n",
      "> Result:  [[\"V011\", \"Microsoft\", \"Productivity Software\", 400000, \"C014,C015\"]]\n",
      "\n",
      "\n",
      "> Querying database with:  {'query': \"SELECT * FROM contracts WHERE contract_id IN ('C014', 'C015');\"}\n",
      "> Result:  [[\"C014\", \"V011\", \"2022-09-01\", \"2025-08-31\", 210000, \"Annual subscription for office productivity suite.\", \"Microsoft Office 365 suite including Word, Excel, PowerPoint, and Teams.\"], [\"C015\", \"V011\", \"2023-10-01\", \"2026-09-30\", 240000, \"Azure compute and storage services. Pay-as-you-go pricing.\", \"Microsoft Azure services including virtual machines, storage accounts, and networking capabilities.\"]]\n",
      "\n",
      "\n",
      "> Receiving message from agent:\n"
     ]
    },
    {
     "data": {
      "application/vnd.jupyter.widget-view+json": {
       "model_id": "d0b9f9cc3a274c2fbdaa88e661ee61ab",
       "version_major": 2,
       "version_minor": 0
      },
      "text/plain": [
       "HTML(value='\\n<div id=\"message_container\">\\n\\n</div>\\n<style>\\n#message_container {\\n    padding: 10px;\\n    b…"
      ]
     },
     "metadata": {},
     "output_type": "display_data"
    },
    {
     "name": "stdout",
     "output_type": "stream",
     "text": [
      "> Querying database with:  {'query': \"SELECT * FROM vendors WHERE vendor_name LIKE '%Google%';\"}\n",
      "> Result:  []\n",
      "\n",
      "\n",
      "> Receiving message from agent:\n"
     ]
    },
    {
     "data": {
      "application/vnd.jupyter.widget-view+json": {
       "model_id": "b49386e01cbc4868a96090f4b57f7b73",
       "version_major": 2,
       "version_minor": 0
      },
      "text/plain": [
       "HTML(value='\\n<div id=\"message_container\">\\n\\n</div>\\n<style>\\n#message_container {\\n    padding: 10px;\\n    b…"
      ]
     },
     "metadata": {},
     "output_type": "display_data"
    },
    {
     "name": "stdout",
     "output_type": "stream",
     "text": [
      "> Querying database with:  {'query': \"SELECT * FROM vendors WHERE vendor_name LIKE '%Amazon%';\"}\n",
      "> Result:  [[\"V005\", \"Amazon Web Services\", \"Cloud Computing\", 215000, \"C007,C008\"]]\n",
      "\n",
      "\n",
      "> Querying database with:  {'query': \"SELECT * FROM contracts WHERE contract_id IN ('C007', 'C008');\"}\n",
      "> Result:  [[\"C007\", \"V005\", \"2022-08-01\", \"2025-07-31\", 120000, \"Cloud services provisioning - unlimited consulting hours to setup and provision new AWS services for 3 years - renewal option available.\", \"Amazon Web Services (AWS) cloud services provision.\"], [\"C008\", \"V005\", \"2021-09-01\", \"2024-08-31\", 95000, \"Pay-as-you-go AWS cloud services.\", \"Amazon Web Services (AWS) cloud services\"]]\n",
      "\n",
      "\n",
      "> Receiving message from agent:\n"
     ]
    },
    {
     "data": {
      "application/vnd.jupyter.widget-view+json": {
       "model_id": "56bce49025434b25b53895a53b3ed47b",
       "version_major": 2,
       "version_minor": 0
      },
      "text/plain": [
       "HTML(value='\\n<div id=\"message_container\">\\n\\n</div>\\n<style>\\n#message_container {\\n    padding: 10px;\\n    b…"
      ]
     },
     "metadata": {},
     "output_type": "display_data"
    },
    {
     "name": "stdout",
     "output_type": "stream",
     "text": [
      "> Querying database with:  {'query': \"SELECT * FROM vendors WHERE category LIKE '%Cloud%' OR category LIKE '%Storage%';\"}\n",
      "> Result:  [[\"V005\", \"Amazon Web Services\", \"Cloud Computing\", 215000, \"C007,C008\"], [\"V007\", \"VMware\", \"Virtualization and Cloud Infrastructure\", 270000, \"C010\"], [\"V015\", \"Hewlett Packard Enterprise\", \"Servers and Storage\", 240000, \"C020\"]]\n",
      "\n",
      "\n",
      "> Receiving message from agent:\n"
     ]
    },
    {
     "data": {
      "application/vnd.jupyter.widget-view+json": {
       "model_id": "c45bad2f63644b02832606310d4ff7af",
       "version_major": 2,
       "version_minor": 0
      },
      "text/plain": [
       "HTML(value='\\n<div id=\"message_container\">\\n\\n</div>\\n<style>\\n#message_container {\\n    padding: 10px;\\n    b…"
      ]
     },
     "metadata": {},
     "output_type": "display_data"
    },
    {
     "name": "stdout",
     "output_type": "stream",
     "text": [
      "> Querying database with:  {'query': \"SELECT * FROM vendors WHERE category LIKE '%Server%' OR category LIKE '%Hardware%';\"}\n",
      "> Result:  [[\"V001\", \"Cisco Systems\", \"Networking Hardware\", 500000, \"C001,C002\"], [\"V015\", \"Hewlett Packard Enterprise\", \"Servers and Storage\", 240000, \"C020\"]]\n",
      "\n",
      "\n",
      "> Receiving message from agent:\n"
     ]
    },
    {
     "data": {
      "application/vnd.jupyter.widget-view+json": {
       "model_id": "9b081030a158413c9ed3540f77206291",
       "version_major": 2,
       "version_minor": 0
      },
      "text/plain": [
       "HTML(value='\\n<div id=\"message_container\">\\n\\n</div>\\n<style>\\n#message_container {\\n    padding: 10px;\\n    b…"
      ]
     },
     "metadata": {},
     "output_type": "display_data"
    },
    {
     "name": "stdout",
     "output_type": "stream",
     "text": [
      "> Querying database with:  {'query': \"SELECT SUM(total_spend) FROM vendors WHERE category LIKE '%Project Management%';\"}\n",
      "> Result:  [[null]]\n",
      "\n",
      "\n",
      "> Receiving message from agent:\n"
     ]
    },
    {
     "data": {
      "application/vnd.jupyter.widget-view+json": {
       "model_id": "9741d74905cb4564831ae9f60a5f1b6d",
       "version_major": 2,
       "version_minor": 0
      },
      "text/plain": [
       "HTML(value='\\n<div id=\"message_container\">\\n\\n</div>\\n<style>\\n#message_container {\\n    padding: 10px;\\n    b…"
      ]
     },
     "metadata": {},
     "output_type": "display_data"
    },
    {
     "name": "stdout",
     "output_type": "stream",
     "text": [
      "> Querying database with:  {'query': \"SELECT * FROM vendors WHERE category LIKE '%ERP%' OR category LIKE '%Enterprise Resource Planning%';\"}\n",
      "> Result:  [[\"V004\", \"SAP\", \"Enterprise Resource Planning\", 450000, \"C005,C006\"]]\n",
      "\n",
      "\n",
      "> Receiving message from agent:\n"
     ]
    },
    {
     "data": {
      "application/vnd.jupyter.widget-view+json": {
       "model_id": "60a574d1b28c44bda10c37c5ece3f86d",
       "version_major": 2,
       "version_minor": 0
      },
      "text/plain": [
       "HTML(value='\\n<div id=\"message_container\">\\n\\n</div>\\n<style>\\n#message_container {\\n    padding: 10px;\\n    b…"
      ]
     },
     "metadata": {},
     "output_type": "display_data"
    }
   ],
   "source": [
    "test_df = pd.DataFrame({\n",
    "    \"question\": [\n",
    "        \"Do we have contracts with microsoft?\",\n",
    "        \"Do we have contracts with google?\",\n",
    "        \"Do we have contracts with amazon?\",\n",
    "        \"What vendors do we have that offer cloud storage?\",\n",
    "        \"Do we have relationships with server hardware vendors?\",\n",
    "        \"How much is our total spend on project management software?\",\n",
    "        \"I need an ERP system for our company. Can you help me find one?\",\n",
    "    ],\n",
    "    \"ground_truth\": [\n",
    "        \"Yes, we have 2 contracts with Microsoft: C014 and C015.\",\n",
    "        \"No, we do not have contracts with Google.\",\n",
    "        \"Yes, we have 2 contracts with Amazon: C007 and C008.\",\n",
    "        \"We have multiple vendors who have a cloud storage offering: Amazon Web Services (Vendor ID: V005), Microsoft (Vendor ID: V011), IBM (Vendor ID: V012) and Oracle (Vendor ID: V014)\",\n",
    "        \"We have relationships with the following server hardware vendors: Dell (Vendor ID: V013), HP (Vendor ID: V015) and Cisco (Vendor ID: V001).\",\n",
    "        \"We don't have any existing contracts for project management software. So the total spend is $0.\",\n",
    "        \"We have an existing relationship with SAP for ERP software (Vendor ID: V004). The following two contracts are in place: C005 and C006.\",\n",
    "    ],\n",
    "})\n",
    "test_df[\"prediction\"] = vm_model.predict(test_df)"
   ]
  },
  {
   "cell_type": "code",
   "execution_count": 28,
   "metadata": {},
   "outputs": [
    {
     "data": {
      "text/html": [
       "<div>\n",
       "<style scoped>\n",
       "    .dataframe tbody tr th:only-of-type {\n",
       "        vertical-align: middle;\n",
       "    }\n",
       "\n",
       "    .dataframe tbody tr th {\n",
       "        vertical-align: top;\n",
       "    }\n",
       "\n",
       "    .dataframe thead th {\n",
       "        text-align: right;\n",
       "    }\n",
       "</style>\n",
       "<table border=\"1\" class=\"dataframe\">\n",
       "  <thead>\n",
       "    <tr style=\"text-align: right;\">\n",
       "      <th></th>\n",
       "      <th>question</th>\n",
       "      <th>ground_truth</th>\n",
       "      <th>prediction</th>\n",
       "    </tr>\n",
       "  </thead>\n",
       "  <tbody>\n",
       "    <tr>\n",
       "      <th>0</th>\n",
       "      <td>Do we have contracts with microsoft?</td>\n",
       "      <td>Yes, we have 2 contracts with Microsoft: C014 ...</td>\n",
       "      <td>{'question': 'Do we have contracts with micros...</td>\n",
       "    </tr>\n",
       "    <tr>\n",
       "      <th>1</th>\n",
       "      <td>Do we have contracts with google?</td>\n",
       "      <td>No, we do not have contracts with Google.</td>\n",
       "      <td>{'question': 'Do we have contracts with google...</td>\n",
       "    </tr>\n",
       "    <tr>\n",
       "      <th>2</th>\n",
       "      <td>Do we have contracts with amazon?</td>\n",
       "      <td>Yes, we have 2 contracts with Amazon: C007 and...</td>\n",
       "      <td>{'question': 'Do we have contracts with amazon...</td>\n",
       "    </tr>\n",
       "    <tr>\n",
       "      <th>3</th>\n",
       "      <td>What vendors do we have that offer cloud storage?</td>\n",
       "      <td>We have multiple vendors who have a cloud stor...</td>\n",
       "      <td>{'question': 'What vendors do we have that off...</td>\n",
       "    </tr>\n",
       "    <tr>\n",
       "      <th>4</th>\n",
       "      <td>Do we have relationships with server hardware ...</td>\n",
       "      <td>We have relationships with the following serve...</td>\n",
       "      <td>{'question': 'Do we have relationships with se...</td>\n",
       "    </tr>\n",
       "  </tbody>\n",
       "</table>\n",
       "</div>"
      ],
      "text/plain": [
       "                                            question  \\\n",
       "0               Do we have contracts with microsoft?   \n",
       "1                  Do we have contracts with google?   \n",
       "2                  Do we have contracts with amazon?   \n",
       "3  What vendors do we have that offer cloud storage?   \n",
       "4  Do we have relationships with server hardware ...   \n",
       "\n",
       "                                        ground_truth  \\\n",
       "0  Yes, we have 2 contracts with Microsoft: C014 ...   \n",
       "1          No, we do not have contracts with Google.   \n",
       "2  Yes, we have 2 contracts with Amazon: C007 and...   \n",
       "3  We have multiple vendors who have a cloud stor...   \n",
       "4  We have relationships with the following serve...   \n",
       "\n",
       "                                          prediction  \n",
       "0  {'question': 'Do we have contracts with micros...  \n",
       "1  {'question': 'Do we have contracts with google...  \n",
       "2  {'question': 'Do we have contracts with amazon...  \n",
       "3  {'question': 'What vendors do we have that off...  \n",
       "4  {'question': 'Do we have relationships with se...  "
      ]
     },
     "execution_count": 28,
     "metadata": {},
     "output_type": "execute_result"
    }
   ],
   "source": [
    "test_df.head()"
   ]
  },
  {
   "cell_type": "code",
   "execution_count": 29,
   "metadata": {},
   "outputs": [
    {
     "name": "stdout",
     "output_type": "stream",
     "text": [
      "{\n",
      "     \"question\": \"Do we have contracts with microsoft?\",\n",
      "     \"ground_truth\": \"Yes, we have 2 contracts with Microsoft: C014 and C015.\",\n",
      "     \"tool_calls\": [\n",
      "          {\n",
      "               \"function\": \"query_database\",\n",
      "               \"arguments\": {\n",
      "                    \"query\": \"SELECT * FROM vendors WHERE vendor_name LIKE '%Microsoft%';\"\n",
      "               }\n",
      "          },\n",
      "          {\n",
      "               \"function\": \"query_database\",\n",
      "               \"arguments\": {\n",
      "                    \"query\": \"SELECT * FROM contracts WHERE contract_id IN ('C014', 'C015');\"\n",
      "               }\n",
      "          }\n",
      "     ],\n",
      "     \"contexts\": [\n",
      "          \"[[\\\"V011\\\", \\\"Microsoft\\\", \\\"Productivity Software\\\", 400000, \\\"C014,C015\\\"]]\",\n",
      "          \"[[\\\"C014\\\", \\\"V011\\\", \\\"2022-09-01\\\", \\\"2025-08-31\\\", 210000, \\\"Annual subscription for office productivity suite.\\\", \\\"Microsoft Office 365 suite including Word, Excel, PowerPoint, and Teams.\\\"], [\\\"C015\\\", \\\"V011\\\", \\\"2023-10-01\\\", \\\"2026-09-30\\\", 240000, \\\"Azure compute and storage services. Pay-as-you-go pricing.\\\", \\\"Microsoft Azure services including virtual machines, storage accounts, and networking capabilities.\\\"]]\"\n",
      "     ],\n",
      "     \"messages\": [\n",
      "          \"Yes, we have active contracts with Microsoft. Here are the details:\\n\\n1. **Microsoft Office 365 Suite Contract (C014)**\\n   - **Start Date:** 2022-09-01\\n   - **End Date:** 2025-08-31\\n   - **Contract Value:** $210,000\\n   - **Products Description:** Microsoft Office 365 suite including Word, Excel, PowerPoint, and Teams.\\n   - **Terms & Conditions:** Annual subscription for office productivity suite.\\n\\n2. **Microsoft Azure Services Contract (C015)**\\n   - **Start Date:** 2023-10-01\\n   - **End Date:** 2026-09-30\\n   - **Contract Value:** $240,000\\n   - **Products Description:** Microsoft Azure services including virtual machines, storage accounts, and networking capabilities.\\n   - **Terms & Conditions:** Azure compute and storage services with pay-as-you-go pricing.\\n\\nThese contracts cover both software productivity tools and cloud computing and storage services.\"\n",
      "     ]\n",
      "}\n"
     ]
    }
   ],
   "source": [
    "import json\n",
    "\n",
    "print(json.dumps(test_df[\"prediction\"][0], indent=5))"
   ]
  },
  {
   "cell_type": "code",
   "execution_count": 30,
   "metadata": {},
   "outputs": [],
   "source": [
    "test_df[\"answer\"] = test_df[\"prediction\"].apply(lambda x: x[\"messages\"][0])"
   ]
  },
  {
   "cell_type": "code",
   "execution_count": 31,
   "metadata": {},
   "outputs": [],
   "source": [
    "test_df[\"contexts\"] = test_df[\"prediction\"].apply(lambda x: x[\"contexts\"])"
   ]
  },
  {
   "cell_type": "code",
   "execution_count": 37,
   "metadata": {},
   "outputs": [
    {
     "data": {
      "text/html": [
       "<div>\n",
       "<style scoped>\n",
       "    .dataframe tbody tr th:only-of-type {\n",
       "        vertical-align: middle;\n",
       "    }\n",
       "\n",
       "    .dataframe tbody tr th {\n",
       "        vertical-align: top;\n",
       "    }\n",
       "\n",
       "    .dataframe thead th {\n",
       "        text-align: right;\n",
       "    }\n",
       "</style>\n",
       "<table border=\"1\" class=\"dataframe\">\n",
       "  <thead>\n",
       "    <tr style=\"text-align: right;\">\n",
       "      <th></th>\n",
       "      <th>question</th>\n",
       "      <th>ground_truth</th>\n",
       "      <th>prediction</th>\n",
       "      <th>answer</th>\n",
       "      <th>contexts</th>\n",
       "    </tr>\n",
       "  </thead>\n",
       "  <tbody>\n",
       "    <tr>\n",
       "      <th>0</th>\n",
       "      <td>Do we have contracts with microsoft?</td>\n",
       "      <td>Yes, we have 2 contracts with Microsoft: C014 ...</td>\n",
       "      <td>{'question': 'Do we have contracts with micros...</td>\n",
       "      <td>Yes, we have active contracts with Microsoft. ...</td>\n",
       "      <td>[[[\"V011\", \"Microsoft\", \"Productivity Software...</td>\n",
       "    </tr>\n",
       "    <tr>\n",
       "      <th>1</th>\n",
       "      <td>Do we have contracts with google?</td>\n",
       "      <td>No, we do not have contracts with Google.</td>\n",
       "      <td>{'question': 'Do we have contracts with google...</td>\n",
       "      <td>We do not currently have any contracts with Go...</td>\n",
       "      <td>[[]]</td>\n",
       "    </tr>\n",
       "    <tr>\n",
       "      <th>2</th>\n",
       "      <td>Do we have contracts with amazon?</td>\n",
       "      <td>Yes, we have 2 contracts with Amazon: C007 and...</td>\n",
       "      <td>{'question': 'Do we have contracts with amazon...</td>\n",
       "      <td>Yes, we have active contracts with Amazon Web ...</td>\n",
       "      <td>[[[\"V005\", \"Amazon Web Services\", \"Cloud Compu...</td>\n",
       "    </tr>\n",
       "    <tr>\n",
       "      <th>3</th>\n",
       "      <td>What vendors do we have that offer cloud storage?</td>\n",
       "      <td>We have multiple vendors who have a cloud stor...</td>\n",
       "      <td>{'question': 'What vendors do we have that off...</td>\n",
       "      <td>We have contracts with the following vendors t...</td>\n",
       "      <td>[[[\"V005\", \"Amazon Web Services\", \"Cloud Compu...</td>\n",
       "    </tr>\n",
       "    <tr>\n",
       "      <th>4</th>\n",
       "      <td>Do we have relationships with server hardware ...</td>\n",
       "      <td>We have relationships with the following serve...</td>\n",
       "      <td>{'question': 'Do we have relationships with se...</td>\n",
       "      <td>Yes, we have relationships with the following ...</td>\n",
       "      <td>[[[\"V001\", \"Cisco Systems\", \"Networking Hardwa...</td>\n",
       "    </tr>\n",
       "  </tbody>\n",
       "</table>\n",
       "</div>"
      ],
      "text/plain": [
       "                                            question  \\\n",
       "0               Do we have contracts with microsoft?   \n",
       "1                  Do we have contracts with google?   \n",
       "2                  Do we have contracts with amazon?   \n",
       "3  What vendors do we have that offer cloud storage?   \n",
       "4  Do we have relationships with server hardware ...   \n",
       "\n",
       "                                        ground_truth  \\\n",
       "0  Yes, we have 2 contracts with Microsoft: C014 ...   \n",
       "1          No, we do not have contracts with Google.   \n",
       "2  Yes, we have 2 contracts with Amazon: C007 and...   \n",
       "3  We have multiple vendors who have a cloud stor...   \n",
       "4  We have relationships with the following serve...   \n",
       "\n",
       "                                          prediction  \\\n",
       "0  {'question': 'Do we have contracts with micros...   \n",
       "1  {'question': 'Do we have contracts with google...   \n",
       "2  {'question': 'Do we have contracts with amazon...   \n",
       "3  {'question': 'What vendors do we have that off...   \n",
       "4  {'question': 'Do we have relationships with se...   \n",
       "\n",
       "                                              answer  \\\n",
       "0  Yes, we have active contracts with Microsoft. ...   \n",
       "1  We do not currently have any contracts with Go...   \n",
       "2  Yes, we have active contracts with Amazon Web ...   \n",
       "3  We have contracts with the following vendors t...   \n",
       "4  Yes, we have relationships with the following ...   \n",
       "\n",
       "                                            contexts  \n",
       "0  [[[\"V011\", \"Microsoft\", \"Productivity Software...  \n",
       "1                                               [[]]  \n",
       "2  [[[\"V005\", \"Amazon Web Services\", \"Cloud Compu...  \n",
       "3  [[[\"V005\", \"Amazon Web Services\", \"Cloud Compu...  \n",
       "4  [[[\"V001\", \"Cisco Systems\", \"Networking Hardwa...  "
      ]
     },
     "execution_count": 37,
     "metadata": {},
     "output_type": "execute_result"
    }
   ],
   "source": [
    "test_df.head()"
   ]
  },
  {
   "cell_type": "code",
   "execution_count": 38,
   "metadata": {},
   "outputs": [
    {
     "name": "stderr",
     "output_type": "stream",
     "text": [
      "2024-05-10 18:00:49,586 - INFO(validmind.client): Pandas dataset detected. Initializing VM Dataset instance...\n"
     ]
    }
   ],
   "source": [
    "vm_dataset = vm.init_dataset(test_df, input_id=\"agent_test_dataset\")"
   ]
  },
  {
   "cell_type": "code",
   "execution_count": 39,
   "metadata": {},
   "outputs": [
    {
     "data": {
      "text/html": [
       "<style type=\"text/css\">\n",
       "#T_f9b66 th {\n",
       "  text-align: left;\n",
       "}\n",
       "#T_f9b66_row0_col0, #T_f9b66_row0_col1, #T_f9b66_row0_col2, #T_f9b66_row0_col3, #T_f9b66_row1_col0, #T_f9b66_row1_col1, #T_f9b66_row1_col2, #T_f9b66_row1_col3, #T_f9b66_row2_col0, #T_f9b66_row2_col1, #T_f9b66_row2_col2, #T_f9b66_row2_col3, #T_f9b66_row3_col0, #T_f9b66_row3_col1, #T_f9b66_row3_col2, #T_f9b66_row3_col3, #T_f9b66_row4_col0, #T_f9b66_row4_col1, #T_f9b66_row4_col2, #T_f9b66_row4_col3, #T_f9b66_row5_col0, #T_f9b66_row5_col1, #T_f9b66_row5_col2, #T_f9b66_row5_col3, #T_f9b66_row6_col0, #T_f9b66_row6_col1, #T_f9b66_row6_col2, #T_f9b66_row6_col3, #T_f9b66_row7_col0, #T_f9b66_row7_col1, #T_f9b66_row7_col2, #T_f9b66_row7_col3, #T_f9b66_row8_col0, #T_f9b66_row8_col1, #T_f9b66_row8_col2, #T_f9b66_row8_col3 {\n",
       "  text-align: left;\n",
       "}\n",
       "</style>\n",
       "<table id=\"T_f9b66\">\n",
       "  <thead>\n",
       "    <tr>\n",
       "      <th id=\"T_f9b66_level0_col0\" class=\"col_heading level0 col0\" >Test Type</th>\n",
       "      <th id=\"T_f9b66_level0_col1\" class=\"col_heading level0 col1\" >Name</th>\n",
       "      <th id=\"T_f9b66_level0_col2\" class=\"col_heading level0 col2\" >Description</th>\n",
       "      <th id=\"T_f9b66_level0_col3\" class=\"col_heading level0 col3\" >ID</th>\n",
       "    </tr>\n",
       "  </thead>\n",
       "  <tbody>\n",
       "    <tr>\n",
       "      <td id=\"T_f9b66_row0_col0\" class=\"data row0 col0\" >Metric</td>\n",
       "      <td id=\"T_f9b66_row0_col1\" class=\"data row0 col1\" >Answer Correctness</td>\n",
       "      <td id=\"T_f9b66_row0_col2\" class=\"data row0 col2\" >Evaluates the correctness of answers in a dataset with respect to the provided ground truths and...</td>\n",
       "      <td id=\"T_f9b66_row0_col3\" class=\"data row0 col3\" >validmind.model_validation.ragas.AnswerCorrectness</td>\n",
       "    </tr>\n",
       "    <tr>\n",
       "      <td id=\"T_f9b66_row1_col0\" class=\"data row1 col0\" >Metric</td>\n",
       "      <td id=\"T_f9b66_row1_col1\" class=\"data row1 col1\" >Answer Relevance</td>\n",
       "      <td id=\"T_f9b66_row1_col2\" class=\"data row1 col2\" >Evaluates the relevance of answers in a dataset with respect to the provided questions and contexts,...</td>\n",
       "      <td id=\"T_f9b66_row1_col3\" class=\"data row1 col3\" >validmind.model_validation.ragas.AnswerRelevance</td>\n",
       "    </tr>\n",
       "    <tr>\n",
       "      <td id=\"T_f9b66_row2_col0\" class=\"data row2 col0\" >Metric</td>\n",
       "      <td id=\"T_f9b66_row2_col1\" class=\"data row2 col1\" >Context Relevancy</td>\n",
       "      <td id=\"T_f9b66_row2_col2\" class=\"data row2 col2\" >Evaluates the context relevancy metric for entries in a dataset and visualizes the results....</td>\n",
       "      <td id=\"T_f9b66_row2_col3\" class=\"data row2 col3\" >validmind.model_validation.ragas.ContextRelevancy</td>\n",
       "    </tr>\n",
       "    <tr>\n",
       "      <td id=\"T_f9b66_row3_col0\" class=\"data row3 col0\" >Metric</td>\n",
       "      <td id=\"T_f9b66_row3_col1\" class=\"data row3 col1\" >Context Entity Recall</td>\n",
       "      <td id=\"T_f9b66_row3_col2\" class=\"data row3 col2\" >Evaluates the context entity recall metric for dataset entries and visualizes the results....</td>\n",
       "      <td id=\"T_f9b66_row3_col3\" class=\"data row3 col3\" >validmind.model_validation.ragas.ContextEntityRecall</td>\n",
       "    </tr>\n",
       "    <tr>\n",
       "      <td id=\"T_f9b66_row4_col0\" class=\"data row4 col0\" >Metric</td>\n",
       "      <td id=\"T_f9b66_row4_col1\" class=\"data row4 col1\" >Aspect Critique</td>\n",
       "      <td id=\"T_f9b66_row4_col2\" class=\"data row4 col2\" >Evaluates the harmfulness of answers in a dataset and visualizes the results in a histogram....</td>\n",
       "      <td id=\"T_f9b66_row4_col3\" class=\"data row4 col3\" >validmind.model_validation.ragas.AspectCritique</td>\n",
       "    </tr>\n",
       "    <tr>\n",
       "      <td id=\"T_f9b66_row5_col0\" class=\"data row5 col0\" >Metric</td>\n",
       "      <td id=\"T_f9b66_row5_col1\" class=\"data row5 col1\" >Answer Similarity</td>\n",
       "      <td id=\"T_f9b66_row5_col2\" class=\"data row5 col2\" >Calculates the answer similarity metric for dataset entries based on a provided ground truth....</td>\n",
       "      <td id=\"T_f9b66_row5_col3\" class=\"data row5 col3\" >validmind.model_validation.ragas.AnswerSimilarity</td>\n",
       "    </tr>\n",
       "    <tr>\n",
       "      <td id=\"T_f9b66_row6_col0\" class=\"data row6 col0\" >Metric</td>\n",
       "      <td id=\"T_f9b66_row6_col1\" class=\"data row6 col1\" >Context Precision</td>\n",
       "      <td id=\"T_f9b66_row6_col2\" class=\"data row6 col2\" >Evaluates the context precision metric for dataset entries and visualizes the results....</td>\n",
       "      <td id=\"T_f9b66_row6_col3\" class=\"data row6 col3\" >validmind.model_validation.ragas.ContextPrecision</td>\n",
       "    </tr>\n",
       "    <tr>\n",
       "      <td id=\"T_f9b66_row7_col0\" class=\"data row7 col0\" >Metric</td>\n",
       "      <td id=\"T_f9b66_row7_col1\" class=\"data row7 col1\" >Faithfulness</td>\n",
       "      <td id=\"T_f9b66_row7_col2\" class=\"data row7 col2\" >Evaluates the faithfulness metric for generated answers in a dataset and visualizes the results....</td>\n",
       "      <td id=\"T_f9b66_row7_col3\" class=\"data row7 col3\" >validmind.model_validation.ragas.Faithfulness</td>\n",
       "    </tr>\n",
       "    <tr>\n",
       "      <td id=\"T_f9b66_row8_col0\" class=\"data row8 col0\" >Metric</td>\n",
       "      <td id=\"T_f9b66_row8_col1\" class=\"data row8 col1\" >Context Recall</td>\n",
       "      <td id=\"T_f9b66_row8_col2\" class=\"data row8 col2\" >Evaluates the context recall metric for dataset entries and visualizes the results in a histogram....</td>\n",
       "      <td id=\"T_f9b66_row8_col3\" class=\"data row8 col3\" >validmind.model_validation.ragas.ContextRecall</td>\n",
       "    </tr>\n",
       "  </tbody>\n",
       "</table>\n"
      ],
      "text/plain": [
       "<pandas.io.formats.style.Styler at 0x36a0c53d0>"
      ]
     },
     "execution_count": 39,
     "metadata": {},
     "output_type": "execute_result"
    }
   ],
   "source": [
    "vm.tests.list_tests(filter=\"rag\")"
   ]
  },
  {
   "cell_type": "code",
   "execution_count": 41,
   "metadata": {},
   "outputs": [
    {
     "data": {
      "application/vnd.jupyter.widget-view+json": {
       "model_id": "febccf8733a44e69ac61e2c656fd624d",
       "version_major": 2,
       "version_minor": 0
      },
      "text/plain": [
       "Evaluating:   0%|          | 0/7 [00:00<?, ?it/s]"
      ]
     },
     "metadata": {},
     "output_type": "display_data"
    },
    {
     "name": "stderr",
     "output_type": "stream",
     "text": [
      "promote has been superseded by promote_options='default'.\n",
      "promote has been superseded by promote_options='default'.\n"
     ]
    },
    {
     "data": {
      "application/vnd.jupyter.widget-view+json": {
       "model_id": "de053c55ce36401292906c1ccf021767",
       "version_major": 2,
       "version_minor": 0
      },
      "text/plain": [
       "VBox(children=(HTML(value='<h1>Answer Correctness</h1>'), HTML(value=\"<p>Evaluates the correctness of answers …"
      ]
     },
     "metadata": {},
     "output_type": "display_data"
    },
    {
     "data": {
      "application/vnd.jupyter.widget-view+json": {
       "model_id": "f1720c7420c44d51813899dfd7361141",
       "version_major": 2,
       "version_minor": 0
      },
      "text/plain": [
       "Evaluating:   0%|          | 0/7 [00:00<?, ?it/s]"
      ]
     },
     "metadata": {},
     "output_type": "display_data"
    },
    {
     "name": "stderr",
     "output_type": "stream",
     "text": [
      "/Users/jwalz/Library/Caches/pypoetry/virtualenvs/validmind-mI3jzOkk-py3.11/lib/python3.11/site-packages/datasets/table.py:1395: FutureWarning:\n",
      "\n",
      "promote has been superseded by promote_options='default'.\n",
      "\n",
      "/Users/jwalz/Library/Caches/pypoetry/virtualenvs/validmind-mI3jzOkk-py3.11/lib/python3.11/site-packages/datasets/table.py:1421: FutureWarning:\n",
      "\n",
      "promote has been superseded by promote_options='default'.\n",
      "\n"
     ]
    },
    {
     "data": {
      "application/vnd.jupyter.widget-view+json": {
       "model_id": "0479c1820c724409b0af9217b0ce0153",
       "version_major": 2,
       "version_minor": 0
      },
      "text/plain": [
       "VBox(children=(HTML(value='<h1>Answer Relevance</h1>'), HTML(value=\"<p>Evaluates the relevance of answers in a…"
      ]
     },
     "metadata": {},
     "output_type": "display_data"
    },
    {
     "data": {
      "application/vnd.jupyter.widget-view+json": {
       "model_id": "b83fadc0adfb4fc398e7d79308cc7ab8",
       "version_major": 2,
       "version_minor": 0
      },
      "text/plain": [
       "Evaluating:   0%|          | 0/7 [00:00<?, ?it/s]"
      ]
     },
     "metadata": {},
     "output_type": "display_data"
    },
    {
     "name": "stderr",
     "output_type": "stream",
     "text": [
      "/Users/jwalz/Library/Caches/pypoetry/virtualenvs/validmind-mI3jzOkk-py3.11/lib/python3.11/site-packages/datasets/table.py:1395: FutureWarning:\n",
      "\n",
      "promote has been superseded by promote_options='default'.\n",
      "\n",
      "/Users/jwalz/Library/Caches/pypoetry/virtualenvs/validmind-mI3jzOkk-py3.11/lib/python3.11/site-packages/datasets/table.py:1421: FutureWarning:\n",
      "\n",
      "promote has been superseded by promote_options='default'.\n",
      "\n"
     ]
    },
    {
     "data": {
      "application/vnd.jupyter.widget-view+json": {
       "model_id": "875f253e90774267a4f82b8b69252a58",
       "version_major": 2,
       "version_minor": 0
      },
      "text/plain": [
       "VBox(children=(HTML(value='<h1>Context Relevancy</h1>'), HTML(value='<p>Evaluates the context relevancy metric…"
      ]
     },
     "metadata": {},
     "output_type": "display_data"
    },
    {
     "data": {
      "application/vnd.jupyter.widget-view+json": {
       "model_id": "e7cb6c525dfe4a34b6becc273d885232",
       "version_major": 2,
       "version_minor": 0
      },
      "text/plain": [
       "Evaluating:   0%|          | 0/7 [00:00<?, ?it/s]"
      ]
     },
     "metadata": {},
     "output_type": "display_data"
    },
    {
     "name": "stderr",
     "output_type": "stream",
     "text": [
      "/Users/jwalz/Library/Caches/pypoetry/virtualenvs/validmind-mI3jzOkk-py3.11/lib/python3.11/site-packages/datasets/table.py:1395: FutureWarning:\n",
      "\n",
      "promote has been superseded by promote_options='default'.\n",
      "\n",
      "/Users/jwalz/Library/Caches/pypoetry/virtualenvs/validmind-mI3jzOkk-py3.11/lib/python3.11/site-packages/datasets/table.py:1421: FutureWarning:\n",
      "\n",
      "promote has been superseded by promote_options='default'.\n",
      "\n"
     ]
    },
    {
     "data": {
      "application/vnd.jupyter.widget-view+json": {
       "model_id": "b81424cae8c7405c8fd9518d9b7631cc",
       "version_major": 2,
       "version_minor": 0
      },
      "text/plain": [
       "VBox(children=(HTML(value='<h1>Context Entity Recall</h1>'), HTML(value='<p>Evaluates the context entity recal…"
      ]
     },
     "metadata": {},
     "output_type": "display_data"
    },
    {
     "data": {
      "application/vnd.jupyter.widget-view+json": {
       "model_id": "924d52b7a8c24cbb94f5527c8096cf56",
       "version_major": 2,
       "version_minor": 0
      },
      "text/plain": [
       "Evaluating:   0%|          | 0/7 [00:00<?, ?it/s]"
      ]
     },
     "metadata": {},
     "output_type": "display_data"
    },
    {
     "name": "stderr",
     "output_type": "stream",
     "text": [
      "/Users/jwalz/Library/Caches/pypoetry/virtualenvs/validmind-mI3jzOkk-py3.11/lib/python3.11/site-packages/datasets/table.py:1395: FutureWarning:\n",
      "\n",
      "promote has been superseded by promote_options='default'.\n",
      "\n",
      "/Users/jwalz/Library/Caches/pypoetry/virtualenvs/validmind-mI3jzOkk-py3.11/lib/python3.11/site-packages/datasets/table.py:1421: FutureWarning:\n",
      "\n",
      "promote has been superseded by promote_options='default'.\n",
      "\n"
     ]
    },
    {
     "data": {
      "application/vnd.jupyter.widget-view+json": {
       "model_id": "ba8981a0dbdf4ce890b47472aa2a3524",
       "version_major": 2,
       "version_minor": 0
      },
      "text/plain": [
       "VBox(children=(HTML(value='<h1>Aspect Critique</h1>'), HTML(value=\"<p>Evaluates the harmfulness of answers in …"
      ]
     },
     "metadata": {},
     "output_type": "display_data"
    },
    {
     "data": {
      "application/vnd.jupyter.widget-view+json": {
       "model_id": "85885f540ced4c908952639ff75f852f",
       "version_major": 2,
       "version_minor": 0
      },
      "text/plain": [
       "Evaluating:   0%|          | 0/7 [00:00<?, ?it/s]"
      ]
     },
     "metadata": {},
     "output_type": "display_data"
    },
    {
     "name": "stderr",
     "output_type": "stream",
     "text": [
      "/Users/jwalz/Library/Caches/pypoetry/virtualenvs/validmind-mI3jzOkk-py3.11/lib/python3.11/site-packages/datasets/table.py:1395: FutureWarning:\n",
      "\n",
      "promote has been superseded by promote_options='default'.\n",
      "\n",
      "/Users/jwalz/Library/Caches/pypoetry/virtualenvs/validmind-mI3jzOkk-py3.11/lib/python3.11/site-packages/datasets/table.py:1421: FutureWarning:\n",
      "\n",
      "promote has been superseded by promote_options='default'.\n",
      "\n"
     ]
    },
    {
     "data": {
      "application/vnd.jupyter.widget-view+json": {
       "model_id": "2dcde1fccee64939864718ab0e273106",
       "version_major": 2,
       "version_minor": 0
      },
      "text/plain": [
       "VBox(children=(HTML(value='<h1>Answer Similarity</h1>'), HTML(value='<p>Calculates the answer similarity metri…"
      ]
     },
     "metadata": {},
     "output_type": "display_data"
    },
    {
     "data": {
      "application/vnd.jupyter.widget-view+json": {
       "model_id": "f47198d0fb5e45b7b6a8158a42e89e20",
       "version_major": 2,
       "version_minor": 0
      },
      "text/plain": [
       "Evaluating:   0%|          | 0/7 [00:00<?, ?it/s]"
      ]
     },
     "metadata": {},
     "output_type": "display_data"
    },
    {
     "name": "stderr",
     "output_type": "stream",
     "text": [
      "/Users/jwalz/Library/Caches/pypoetry/virtualenvs/validmind-mI3jzOkk-py3.11/lib/python3.11/site-packages/datasets/table.py:1395: FutureWarning:\n",
      "\n",
      "promote has been superseded by promote_options='default'.\n",
      "\n",
      "/Users/jwalz/Library/Caches/pypoetry/virtualenvs/validmind-mI3jzOkk-py3.11/lib/python3.11/site-packages/datasets/table.py:1421: FutureWarning:\n",
      "\n",
      "promote has been superseded by promote_options='default'.\n",
      "\n"
     ]
    },
    {
     "data": {
      "application/vnd.jupyter.widget-view+json": {
       "model_id": "b8ee1107804f43e69939c1a198cc2c99",
       "version_major": 2,
       "version_minor": 0
      },
      "text/plain": [
       "VBox(children=(HTML(value='<h1>Context Precision</h1>'), HTML(value='<p>Evaluates the context precision metric…"
      ]
     },
     "metadata": {},
     "output_type": "display_data"
    },
    {
     "data": {
      "application/vnd.jupyter.widget-view+json": {
       "model_id": "4a8eb1372a7944fda4cf2597c2b15fb0",
       "version_major": 2,
       "version_minor": 0
      },
      "text/plain": [
       "Evaluating:   0%|          | 0/7 [00:00<?, ?it/s]"
      ]
     },
     "metadata": {},
     "output_type": "display_data"
    },
    {
     "name": "stderr",
     "output_type": "stream",
     "text": [
      "/Users/jwalz/Library/Caches/pypoetry/virtualenvs/validmind-mI3jzOkk-py3.11/lib/python3.11/site-packages/datasets/table.py:1395: FutureWarning:\n",
      "\n",
      "promote has been superseded by promote_options='default'.\n",
      "\n",
      "/Users/jwalz/Library/Caches/pypoetry/virtualenvs/validmind-mI3jzOkk-py3.11/lib/python3.11/site-packages/datasets/table.py:1421: FutureWarning:\n",
      "\n",
      "promote has been superseded by promote_options='default'.\n",
      "\n"
     ]
    },
    {
     "data": {
      "application/vnd.jupyter.widget-view+json": {
       "model_id": "2bf92046eba642118e8b0d6e7ee0eea4",
       "version_major": 2,
       "version_minor": 0
      },
      "text/plain": [
       "VBox(children=(HTML(value='<h1>Faithfulness</h1>'), HTML(value=\"<p>Evaluates the faithfulness metric for gener…"
      ]
     },
     "metadata": {},
     "output_type": "display_data"
    },
    {
     "data": {
      "application/vnd.jupyter.widget-view+json": {
       "model_id": "0bd5418d39e2440fbaf4b77b336b9e3e",
       "version_major": 2,
       "version_minor": 0
      },
      "text/plain": [
       "Evaluating:   0%|          | 0/7 [00:00<?, ?it/s]"
      ]
     },
     "metadata": {},
     "output_type": "display_data"
    },
    {
     "name": "stderr",
     "output_type": "stream",
     "text": [
      "/Users/jwalz/Library/Caches/pypoetry/virtualenvs/validmind-mI3jzOkk-py3.11/lib/python3.11/site-packages/datasets/table.py:1395: FutureWarning:\n",
      "\n",
      "promote has been superseded by promote_options='default'.\n",
      "\n",
      "/Users/jwalz/Library/Caches/pypoetry/virtualenvs/validmind-mI3jzOkk-py3.11/lib/python3.11/site-packages/datasets/table.py:1421: FutureWarning:\n",
      "\n",
      "promote has been superseded by promote_options='default'.\n",
      "\n"
     ]
    },
    {
     "data": {
      "application/vnd.jupyter.widget-view+json": {
       "model_id": "dd7ef3f652554620a7a48caacdfbeb1e",
       "version_major": 2,
       "version_minor": 0
      },
      "text/plain": [
       "VBox(children=(HTML(value='<h1>Context Recall</h1>'), HTML(value=\"<p>Evaluates the context recall metric for d…"
      ]
     },
     "metadata": {},
     "output_type": "display_data"
    }
   ],
   "source": [
    "for test_id in vm.tests.list_tests(filter=\"rag\", pretty=False):\n",
    "    vm.tests.run_test(test_id, inputs={\"dataset\": vm_dataset})"
   ]
  }
 ],
 "metadata": {
  "kernelspec": {
   "display_name": "Python 3 (ipykernel)",
   "language": "python",
   "name": "python3"
  },
  "language_info": {
   "codemirror_mode": {
    "name": "ipython",
    "version": 3
   },
   "file_extension": ".py",
   "mimetype": "text/x-python",
   "name": "python",
   "nbconvert_exporter": "python",
   "pygments_lexer": "ipython3",
   "version": "3.11.9"
  }
 },
 "nbformat": 4,
 "nbformat_minor": 4
}
