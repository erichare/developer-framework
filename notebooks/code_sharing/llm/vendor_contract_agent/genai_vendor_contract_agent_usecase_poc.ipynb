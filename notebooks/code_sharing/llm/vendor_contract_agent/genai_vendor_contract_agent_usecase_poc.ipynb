{
 "cells": [
  {
   "cell_type": "markdown",
   "metadata": {},
   "source": [
    "# Vendor Contract QA Agent Documentation POC"
   ]
  },
  {
   "cell_type": "markdown",
   "metadata": {},
   "source": [
    "## Pre-requisites"
   ]
  },
  {
   "cell_type": "code",
   "execution_count": 1,
   "metadata": {},
   "outputs": [
    {
     "name": "stdout",
     "output_type": "stream",
     "text": [
      "Note: you may need to restart the kernel to use updated packages.\n"
     ]
    }
   ],
   "source": [
    "%pip install duckduckgo-search beautifulsoup4 --quiet"
   ]
  },
  {
   "cell_type": "code",
   "execution_count": 2,
   "metadata": {
    "metadata": {}
   },
   "outputs": [],
   "source": [
    "# load openai api key\n",
    "import os\n",
    "\n",
    "from dotenv import load_dotenv\n",
    "load_dotenv()\n",
    "\n",
    "if not 'OPENAI_API_KEY' in os.environ:\n",
    "    raise ValueError('OPENAI_API_KEY is not set')"
   ]
  },
  {
   "cell_type": "code",
   "execution_count": 3,
   "metadata": {},
   "outputs": [],
   "source": [
    "import sys\n",
    "\n",
    "sys.path.append(os.getcwd())\n",
    "\n",
    "from utils import (\n",
    "    client,\n",
    "    init_db,\n",
    "    get_schema_description,\n",
    "    get_tools_spec,\n",
    ")"
   ]
  },
  {
   "cell_type": "code",
   "execution_count": 4,
   "metadata": {},
   "outputs": [],
   "source": [
    "init_db()"
   ]
  },
  {
   "cell_type": "markdown",
   "metadata": {},
   "source": [
    "# Create Agent"
   ]
  },
  {
   "cell_type": "markdown",
   "metadata": {},
   "source": [
    "### Load Tools and DB Schema Spec"
   ]
  },
  {
   "cell_type": "code",
   "execution_count": 5,
   "metadata": {},
   "outputs": [
    {
     "name": "stdout",
     "output_type": "stream",
     "text": [
      "Loaded 2 tool definitions\n",
      "[\n",
      "      {\n",
      "            \"type\": \"function\",\n",
      "            \"function\": {\n",
      "                  \"name\": \"query_database\",\n",
      "                  \"description\": \"Query the contract database to retrieve information about contracts with a particular vendor\",\n",
      "                  \"parameters\": {\n",
      "                        \"type\": \"object\",\n",
      "                        \"properties\": {\n",
      "                              \"query\": {\n",
      "                                    \"type\": \"string\",\n",
      "                                    \"description\": \"SQL query to execute against the database\"\n",
      "                              }\n",
      "                        },\n",
      "                        \"required\": [\n",
      "                              \"query\"\n",
      "                        ]\n",
      "                  }\n",
      "            }\n",
      "      },\n",
      "      {\n",
      "            \"type\": \"function\",\n",
      "            \"function\": {\n",
      "                  \"name\": \"search_online\",\n",
      "                  \"description\": \"Search the web for information\",\n",
      "                  \"parameters\": {\n",
      "                        \"type\": \"object\",\n",
      "                        \"properties\": {\n",
      "                              \"search_type\": {\n",
      "                                    \"type\": \"string\",\n",
      "                                    \"description\": \"The type of search to do. `browse` will use a search engine to retrieve the top results for a query. `scrape` will scrape the text for a given URL.\",\n",
      "                                    \"enum\": [\n",
      "                                          \"browse\",\n",
      "                                          \"scrape\"\n",
      "                                    ]\n",
      "                              },\n",
      "                              \"query\": {\n",
      "                                    \"type\": \"string\",\n",
      "                                    \"description\": \"The query to search for. Required if `search_type` is `browse`.\"\n",
      "                              },\n",
      "                              \"url\": {\n",
      "                                    \"type\": \"string\",\n",
      "                                    \"description\": \"The URL to scrape. Required if `search_type` is `scrape`.\"\n",
      "                              }\n",
      "                        },\n",
      "                        \"required\": [\n",
      "                              \"search_type\"\n",
      "                        ]\n",
      "                  }\n",
      "            }\n",
      "      }\n",
      "]\n"
     ]
    }
   ],
   "source": [
    "tools_spec = get_tools_spec()"
   ]
  },
  {
   "cell_type": "code",
   "execution_count": 6,
   "metadata": {},
   "outputs": [
    {
     "name": "stdout",
     "output_type": "stream",
     "text": [
      "Table: vendors\n",
      "  vendor_id: TEXT\n",
      "  vendor_name: TEXT\n",
      "  category: TEXT\n",
      "  total_spend: INTEGER\n",
      "  contracts: TEXT\n",
      "Table: contracts\n",
      "  contract_id: TEXT\n",
      "  vendor_id: TEXT\n",
      "  start_date: TEXT\n",
      "  end_date: TEXT\n",
      "  contract_value: INTEGER\n",
      "  terms_conditions: TEXT\n",
      "  products_description: TEXT\n",
      "\n"
     ]
    }
   ],
   "source": [
    "print(get_schema_description())"
   ]
  },
  {
   "cell_type": "markdown",
   "metadata": {},
   "source": [
    "### Create an Assistant"
   ]
  },
  {
   "cell_type": "code",
   "execution_count": 7,
   "metadata": {},
   "outputs": [
    {
     "name": "stdout",
     "output_type": "stream",
     "text": [
      "Using existing agent...\n",
      "Assistant ID: asst_bKIFBsFBdhzcJBySqCXaypeN\n"
     ]
    }
   ],
   "source": [
    "AGENT_SYSTEM_PROMPT = f\"\"\"\n",
    "# Mission:\n",
    "You are an AI Agent that helps employees answer questions they might have about everything related to software vendors.\n",
    "You will be asked questions such as \"Do we have a vendor for cloud storage?\" or \"I need a tool for project management\".\n",
    "You should use the tools available to you as well as semantic search on the documents you have access to to answer these questions.\n",
    "\n",
    "# Guidelines:\n",
    "For \"Do we have a vendor for cloud storage?\", you could use the `query_database` to query the contracts database for cloud storage vendors.\n",
    "Then you could search your document repository for information on the vendors you found.\n",
    "If none are found, then you might search online using the `search_online` tool to discover new vendors.\n",
    "Or, for the question \"I need a tool for project management\", if you cannot find a relevant vendor in the database,\n",
    "  you could use the `search_online` tool to find out if any existing vendors provide project management tools.\n",
    "\n",
    "# Constraints:\n",
    "You should always try and find relevant information from the database.\n",
    "You can search online to find new information or confirm information that you already know.\n",
    "You should only fall back to your existing knowledge of vendors to help you come up with good search queries or when you want to enrich your answers.\n",
    "  - For example, if the user is asking for a certain product and you find a vendor in the db that doesn't mention that product but you know they offer it, you can share that with the user.\n",
    "You should only use your document retrieval system to find extra information related to vendors found in the database or online - essentially to enrich your knowledge before answering.\n",
    "Don't make assumptions about what values to plug into functions. Ask for clarification if a user request is ambiguous.\n",
    "\n",
    "# DB Schema:\n",
    "{get_schema_description()}\n",
    "\"\"\".strip()\n",
    "\n",
    "AGENT_NAME = \"Vendor Contract Q/A Assistant\"\n",
    "AGENT_ID = None\n",
    "\n",
    "for assistant in client.beta.assistants.list():\n",
    "    # if we already have an agent with the same name, use that\n",
    "    print(\"Using existing agent...\")\n",
    "    if assistant.name == AGENT_NAME:\n",
    "        AGENT_ID = assistant.id\n",
    "        break\n",
    "\n",
    "if AGENT_ID is None:\n",
    "    # Create an agent using the OpenAI Assistants API\n",
    "    print(\"Creating agent...\")\n",
    "    agent = client.beta.assistants.create(\n",
    "        name=AGENT_NAME,\n",
    "        instructions=AGENT_SYSTEM_PROMPT,\n",
    "        model=\"gpt-4o\",\n",
    "        tools=tools_spec,\n",
    "    )\n",
    "    AGENT_ID = agent.id\n",
    "\n",
    "print(f\"Assistant ID: {AGENT_ID}\")"
   ]
  },
  {
   "cell_type": "markdown",
   "metadata": {},
   "source": [
    "# Use the Agent"
   ]
  },
  {
   "cell_type": "code",
   "execution_count": 8,
   "metadata": {},
   "outputs": [],
   "source": [
    "from utils import AgentEventHandler\n",
    "\n",
    "os.environ[\"DEBUG\"] = \"0\"\n",
    "\n",
    "def single_pass_agent(input):\n",
    "    thread = client.beta.threads.create()\n",
    "\n",
    "    client.beta.threads.messages.create(\n",
    "        thread_id=thread.id,\n",
    "        role=\"user\",\n",
    "        content=input[\"question\"],\n",
    "    )\n",
    "\n",
    "    with client.beta.threads.runs.stream(\n",
    "        thread_id=thread.id,\n",
    "        assistant_id=AGENT_ID,\n",
    "        event_handler=AgentEventHandler(input),\n",
    "    ) as stream:\n",
    "        stream.until_done()\n",
    "\n",
    "    return input"
   ]
  },
  {
   "cell_type": "code",
   "execution_count": 9,
   "metadata": {},
   "outputs": [
    {
     "name": "stdout",
     "output_type": "stream",
     "text": [
      "> Querying database with:  {'query': \"SELECT * FROM contracts WHERE vendor_id IN (SELECT vendor_id FROM vendors WHERE vendor_name = 'Microsoft')\"}\n",
      "> Result:  [[\"C014\", \"V011\", \"2022-09-01\", \"2025-08-31\", 210000, \"Annual subscription for office productivity suite.\", \"Microsoft Office 365 suite including Word, Excel, PowerPoint, and Teams.\"], [\"C015\", \"V011\", \"2023-10-01\", \"2026-09-30\", 240000, \"Azure compute and storage services. Pay-as-you-go pricing.\", \"Microsoft Azure services including virtual machines, storage accounts, and networking capabilities.\"]]\n",
      "\n",
      "\n",
      "> Receiving message from agent:\n"
     ]
    },
    {
     "data": {
      "application/vnd.jupyter.widget-view+json": {
       "model_id": "6711c2a64a4c4bcea8c98764f781c162",
       "version_major": 2,
       "version_minor": 0
      },
      "text/plain": [
       "HTML(value='\\n<div id=\"message_container\">\\n\\n</div>\\n<style>\\n#message_container {\\n    padding: 10px;\\n    b…"
      ]
     },
     "metadata": {},
     "output_type": "display_data"
    },
    {
     "name": "stdout",
     "output_type": "stream",
     "text": [
      "{\n",
      "     \"question\": \"Do we have contracts with microsoft?\",\n",
      "     \"tool_calls\": [\n",
      "          {\n",
      "               \"function\": \"query_database\",\n",
      "               \"arguments\": {\n",
      "                    \"query\": \"SELECT * FROM contracts WHERE vendor_id IN (SELECT vendor_id FROM vendors WHERE vendor_name = 'Microsoft')\"\n",
      "               }\n",
      "          }\n",
      "     ],\n",
      "     \"contexts\": [\n",
      "          \"[[\\\"C014\\\", \\\"V011\\\", \\\"2022-09-01\\\", \\\"2025-08-31\\\", 210000, \\\"Annual subscription for office productivity suite.\\\", \\\"Microsoft Office 365 suite including Word, Excel, PowerPoint, and Teams.\\\"], [\\\"C015\\\", \\\"V011\\\", \\\"2023-10-01\\\", \\\"2026-09-30\\\", 240000, \\\"Azure compute and storage services. Pay-as-you-go pricing.\\\", \\\"Microsoft Azure services including virtual machines, storage accounts, and networking capabilities.\\\"]]\"\n",
      "     ],\n",
      "     \"messages\": [\n",
      "          \"Yes, we have active contracts with Microsoft:\\n\\n1. **Contract ID:** C014\\n   - **Start Date:** 2022-09-01\\n   - **End Date:** 2025-08-31\\n   - **Contract Value:** $210,000\\n   - **Terms & Conditions:** Annual subscription for office productivity suite.\\n   - **Products:** Microsoft Office 365 suite, including Word, Excel, PowerPoint, and Teams.\\n\\n2. **Contract ID:** C015\\n   - **Start Date:** 2023-10-01\\n   - **End Date:** 2026-09-30\\n   - **Contract Value:** $240,000\\n   - **Terms & Conditions:** Azure compute and storage services. Pay-as-you-go pricing.\\n   - **Products:** Microsoft Azure services, including virtual machines, storage accounts, and networking capabilities.\"\n",
      "     ]\n",
      "}\n"
     ]
    }
   ],
   "source": [
    "import json\n",
    "\n",
    "input = {\"question\": \"Do we have contracts with microsoft?\"}\n",
    "\n",
    "single_pass_agent(input)\n",
    "\n",
    "print(json.dumps(input, indent=5))"
   ]
  },
  {
   "cell_type": "markdown",
   "metadata": {},
   "source": [
    "# Use the Agent with ValidMind"
   ]
  },
  {
   "cell_type": "code",
   "execution_count": 10,
   "metadata": {},
   "outputs": [
    {
     "name": "stderr",
     "output_type": "stream",
     "text": [
      "2024-05-13 22:17:59,532 - INFO(validmind.api_client): Connected to ValidMind. Project: RAG Demo - Initial Validation (clw0v92xv0008eyryki8uax3o)\n"
     ]
    },
    {
     "name": "stdout",
     "output_type": "stream",
     "text": [
      "> Querying database with:  {'query': \"SELECT * FROM vendors WHERE vendor_name = 'Microsoft';\"}\n",
      "> Result:  [[\"V011\", \"Microsoft\", \"Productivity Software\", 400000, \"C014,C015\"]]\n",
      "\n",
      "\n",
      "> Querying database with:  {'query': \"SELECT * FROM contracts WHERE vendor_id = 'V011';\"}\n",
      "> Result:  [[\"C014\", \"V011\", \"2022-09-01\", \"2025-08-31\", 210000, \"Annual subscription for office productivity suite.\", \"Microsoft Office 365 suite including Word, Excel, PowerPoint, and Teams.\"], [\"C015\", \"V011\", \"2023-10-01\", \"2026-09-30\", 240000, \"Azure compute and storage services. Pay-as-you-go pricing.\", \"Microsoft Azure services including virtual machines, storage accounts, and networking capabilities.\"]]\n",
      "\n",
      "\n",
      "> Receiving message from agent:\n"
     ]
    },
    {
     "data": {
      "application/vnd.jupyter.widget-view+json": {
       "model_id": "323149d1837e44ed87defdf071b517a6",
       "version_major": 2,
       "version_minor": 0
      },
      "text/plain": [
       "HTML(value='\\n<div id=\"message_container\">\\n\\n</div>\\n<style>\\n#message_container {\\n    padding: 10px;\\n    b…"
      ]
     },
     "metadata": {},
     "output_type": "display_data"
    },
    {
     "data": {
      "text/plain": [
       "[{'question': 'Do we have contracts with microsoft?',\n",
       "  'tool_calls': [{'function': 'query_database',\n",
       "    'arguments': {'query': \"SELECT * FROM vendors WHERE vendor_name = 'Microsoft';\"}},\n",
       "   {'function': 'query_database',\n",
       "    'arguments': {'query': \"SELECT * FROM contracts WHERE vendor_id = 'V011';\"}}],\n",
       "  'contexts': ['[[\"V011\", \"Microsoft\", \"Productivity Software\", 400000, \"C014,C015\"]]',\n",
       "   '[[\"C014\", \"V011\", \"2022-09-01\", \"2025-08-31\", 210000, \"Annual subscription for office productivity suite.\", \"Microsoft Office 365 suite including Word, Excel, PowerPoint, and Teams.\"], [\"C015\", \"V011\", \"2023-10-01\", \"2026-09-30\", 240000, \"Azure compute and storage services. Pay-as-you-go pricing.\", \"Microsoft Azure services including virtual machines, storage accounts, and networking capabilities.\"]]'],\n",
       "  'messages': ['Yes, we have contracts with Microsoft. Here are the details:\\n\\n1. **Contract ID:** C014\\n   - **Start Date:** 2022-09-01\\n   - **End Date:** 2025-08-31\\n   - **Contract Value:** 210,000 USD\\n   - **Terms & Conditions:** Annual subscription for office productivity suite.\\n   - **Products Description:** Microsoft Office 365 suite including Word, Excel, PowerPoint, and Teams.\\n\\n2. **Contract ID:** C015\\n   - **Start Date:** 2023-10-01\\n   - **End Date:** 2026-09-30\\n   - **Contract Value:** 240,000 USD\\n   - **Terms & Conditions:** Azure compute and storage services. Pay-as-you-go pricing.\\n   - **Products Description:** Microsoft Azure services including virtual machines, storage accounts, and networking capabilities.']}]"
      ]
     },
     "execution_count": 10,
     "metadata": {},
     "output_type": "execute_result"
    }
   ],
   "source": [
    "import pandas as pd\n",
    "import validmind as vm\n",
    "\n",
    "vm.init(\n",
    "    api_host = \"http://localhost:3000/api/v1/tracking\",\n",
    "    api_key = \"974b92e85e9cce568a9aad4351119f0e\",\n",
    "    api_secret = \"f96ac8381bb60c386c620f0fb92b0883de3c4cb725173b4845844b8070193e14\",\n",
    "    project = \"clw0v92xv0008eyryki8uax3o\"\n",
    ")\n",
    "\n",
    "vm_model = vm.init_model(predict_fn=single_pass_agent, input_id=\"vendor_qa_agent\")\n",
    "vm_model.predict(pd.DataFrame({\"question\": [\"Do we have contracts with microsoft?\"]}))"
   ]
  },
  {
   "cell_type": "code",
   "execution_count": 11,
   "metadata": {},
   "outputs": [
    {
     "name": "stderr",
     "output_type": "stream",
     "text": [
      "2024-05-13 22:18:07,620 - INFO(validmind.client): Pandas dataset detected. Initializing VM Dataset instance...\n"
     ]
    }
   ],
   "source": [
    "test_df = pd.DataFrame({\n",
    "    \"question\": [\n",
    "        \"Do we have contracts with microsoft?\",\n",
    "        \"Do we have contracts with google?\",\n",
    "        \"Do we have contracts with amazon?\",\n",
    "        \"What vendors do we have that offer cloud storage?\",\n",
    "        \"Do we have relationships with server hardware vendors?\",\n",
    "        \"How much is our total spend on project management software?\",\n",
    "        \"I need an ERP system for our company. Can you help me find one?\",\n",
    "    ],\n",
    "    \"ground_truth\": [\n",
    "        \"Yes, we have 2 contracts with Microsoft: C014 and C015.\",\n",
    "        \"No, we do not have contracts with Google.\",\n",
    "        \"Yes, we have 2 contracts with Amazon: C007 and C008.\",\n",
    "        \"We have multiple vendors who have a cloud storage offering: Amazon Web Services (Vendor ID: V005), Microsoft (Vendor ID: V011), IBM (Vendor ID: V012) and Oracle (Vendor ID: V014)\",\n",
    "        \"We have relationships with the following server hardware vendors: Dell (Vendor ID: V013), HP (Vendor ID: V015) and Cisco (Vendor ID: V001).\",\n",
    "        \"We don't have any existing contracts for project management software. So the total spend is $0.\",\n",
    "        \"We have an existing relationship with SAP for ERP software (Vendor ID: V004). The following two contracts are in place: C005 and C006.\",\n",
    "    ],\n",
    "})\n",
    "\n",
    "vm_test_dataset = vm.init_dataset(test_df, input_id=\"vendor_qa_test_dataset\")"
   ]
  },
  {
   "cell_type": "code",
   "execution_count": 12,
   "metadata": {},
   "outputs": [
    {
     "name": "stderr",
     "output_type": "stream",
     "text": [
      "2024-05-13 22:18:07,701 - INFO(validmind.vm_models.dataset.utils): Running predict_proba()... This may take a while\n",
      "2024-05-13 22:18:07,701 - INFO(validmind.vm_models.dataset.utils): Not running predict_proba() for unsupported models.\n",
      "2024-05-13 22:18:07,702 - INFO(validmind.vm_models.dataset.utils): Running predict()... This may take a while\n"
     ]
    },
    {
     "name": "stdout",
     "output_type": "stream",
     "text": [
      "> Querying database with:  {'query': \"SELECT * FROM vendors WHERE vendor_name = 'Microsoft'\"}\n",
      "> Result:  [[\"V011\", \"Microsoft\", \"Productivity Software\", 400000, \"C014,C015\"]]\n",
      "\n",
      "\n",
      "> Querying database with:  {'query': \"SELECT * FROM contracts WHERE contract_id IN ('C014', 'C015')\"}\n",
      "> Result:  [[\"C014\", \"V011\", \"2022-09-01\", \"2025-08-31\", 210000, \"Annual subscription for office productivity suite.\", \"Microsoft Office 365 suite including Word, Excel, PowerPoint, and Teams.\"], [\"C015\", \"V011\", \"2023-10-01\", \"2026-09-30\", 240000, \"Azure compute and storage services. Pay-as-you-go pricing.\", \"Microsoft Azure services including virtual machines, storage accounts, and networking capabilities.\"]]\n",
      "\n",
      "\n",
      "> Receiving message from agent:\n"
     ]
    },
    {
     "data": {
      "application/vnd.jupyter.widget-view+json": {
       "model_id": "d4243b6445754fcd8438994051e292d7",
       "version_major": 2,
       "version_minor": 0
      },
      "text/plain": [
       "HTML(value='\\n<div id=\"message_container\">\\n\\n</div>\\n<style>\\n#message_container {\\n    padding: 10px;\\n    b…"
      ]
     },
     "metadata": {},
     "output_type": "display_data"
    },
    {
     "name": "stdout",
     "output_type": "stream",
     "text": [
      "> Querying database with:  {'query': \"SELECT * FROM contracts WHERE vendor_id IN (SELECT vendor_id FROM vendors WHERE vendor_name = 'Google')\"}\n",
      "> Result:  []\n",
      "\n",
      "\n",
      "> Receiving message from agent:\n"
     ]
    },
    {
     "data": {
      "application/vnd.jupyter.widget-view+json": {
       "model_id": "a619fb3f350b48b18abf4954da9236e2",
       "version_major": 2,
       "version_minor": 0
      },
      "text/plain": [
       "HTML(value='\\n<div id=\"message_container\">\\n\\n</div>\\n<style>\\n#message_container {\\n    padding: 10px;\\n    b…"
      ]
     },
     "metadata": {},
     "output_type": "display_data"
    },
    {
     "name": "stdout",
     "output_type": "stream",
     "text": [
      "> Querying database with:  {'query': \"SELECT * FROM contracts WHERE vendor_id IN (SELECT vendor_id FROM vendors WHERE vendor_name = 'Amazon')\"}\n",
      "> Result:  []\n",
      "\n",
      "\n",
      "> Receiving message from agent:\n"
     ]
    },
    {
     "data": {
      "application/vnd.jupyter.widget-view+json": {
       "model_id": "7dd54f6ebd7b47889e8174cb03b552ed",
       "version_major": 2,
       "version_minor": 0
      },
      "text/plain": [
       "HTML(value='\\n<div id=\"message_container\">\\n\\n</div>\\n<style>\\n#message_container {\\n    padding: 10px;\\n    b…"
      ]
     },
     "metadata": {},
     "output_type": "display_data"
    },
    {
     "name": "stdout",
     "output_type": "stream",
     "text": [
      "> Querying database with:  {'query': \"SELECT vendor_name, vendor_id FROM vendors WHERE category='cloud storage'\"}\n",
      "> Result:  []\n",
      "\n",
      "\n",
      "> Receiving message from agent:\n"
     ]
    },
    {
     "data": {
      "application/vnd.jupyter.widget-view+json": {
       "model_id": "8e8eade98f314df081bf426acafe0cee",
       "version_major": 2,
       "version_minor": 0
      },
      "text/plain": [
       "HTML(value='\\n<div id=\"message_container\">\\n\\n</div>\\n<style>\\n#message_container {\\n    padding: 10px;\\n    b…"
      ]
     },
     "metadata": {},
     "output_type": "display_data"
    },
    {
     "name": "stdout",
     "output_type": "stream",
     "text": [
      "> Querying database with:  {'query': \"SELECT * FROM vendors WHERE category = 'server hardware'\"}\n",
      "> Result:  []\n",
      "\n",
      "\n",
      "> Receiving message from agent:\n"
     ]
    },
    {
     "data": {
      "application/vnd.jupyter.widget-view+json": {
       "model_id": "472643deda9a42bcb39a544c452dec06",
       "version_major": 2,
       "version_minor": 0
      },
      "text/plain": [
       "HTML(value='\\n<div id=\"message_container\">\\n\\n</div>\\n<style>\\n#message_container {\\n    padding: 10px;\\n    b…"
      ]
     },
     "metadata": {},
     "output_type": "display_data"
    },
    {
     "name": "stdout",
     "output_type": "stream",
     "text": [
      "> Querying database with:  {'query': \"SELECT SUM(total_spend) as total_project_management_spend FROM vendors WHERE category = 'project management'\"}\n",
      "> Result:  [[null]]\n",
      "\n",
      "\n",
      "> Receiving message from agent:\n"
     ]
    },
    {
     "data": {
      "application/vnd.jupyter.widget-view+json": {
       "model_id": "e0d478ea99654529aa1be4541373da78",
       "version_major": 2,
       "version_minor": 0
      },
      "text/plain": [
       "HTML(value='\\n<div id=\"message_container\">\\n\\n</div>\\n<style>\\n#message_container {\\n    padding: 10px;\\n    b…"
      ]
     },
     "metadata": {},
     "output_type": "display_data"
    },
    {
     "name": "stdout",
     "output_type": "stream",
     "text": [
      "> Querying database with:  {'query': \"SELECT vendor_name, category FROM vendors WHERE category='ERP'\"}\n",
      "> Result:  []\n",
      "\n",
      "\n",
      "> Searching online with:  {'search_type': 'browse', 'query': 'ERP system vendors'}\n",
      "> Result:  Error calling tool: search_online: https://links.duckduckgo.com/d.js?q=ERP+system+vendors&kl=wt-wt&l=wt-wt&p=&s=0&df=&vqd=4-245467545902323179755033259344786483365&ex=-1 202 Ratelimit\n",
      "\n",
      "\n",
      "> Searching online with:  {'search_type': 'browse', 'query': 'top ERP system vendors 2023'}\n",
      "> Result:  Error calling tool: search_online: https://links.duckduckgo.com/d.js?q=top+ERP+system+vendors+2023&kl=wt-wt&l=wt-wt&p=&s=0&df=&vqd=4-178284893945079144533161432034867526753&ex=-1 202 Ratelimit\n",
      "\n",
      "\n",
      "> Receiving message from agent:\n"
     ]
    },
    {
     "data": {
      "application/vnd.jupyter.widget-view+json": {
       "model_id": "9941cf06e272405e828ee195a6249c53",
       "version_major": 2,
       "version_minor": 0
      },
      "text/plain": [
       "HTML(value='\\n<div id=\"message_container\">\\n\\n</div>\\n<style>\\n#message_container {\\n    padding: 10px;\\n    b…"
      ]
     },
     "metadata": {},
     "output_type": "display_data"
    },
    {
     "name": "stderr",
     "output_type": "stream",
     "text": [
      "2024-05-13 22:18:44,175 - INFO(validmind.vm_models.dataset.utils): Done running predict()\n"
     ]
    }
   ],
   "source": [
    "vm_test_dataset.assign_predictions(vm_model)"
   ]
  },
  {
   "cell_type": "code",
   "execution_count": 13,
   "metadata": {},
   "outputs": [
    {
     "name": "stdout",
     "output_type": "stream",
     "text": [
      "{\n",
      "     \"question\": \"Do we have contracts with microsoft?\",\n",
      "     \"ground_truth\": \"Yes, we have 2 contracts with Microsoft: C014 and C015.\",\n",
      "     \"tool_calls\": [\n",
      "          {\n",
      "               \"function\": \"query_database\",\n",
      "               \"arguments\": {\n",
      "                    \"query\": \"SELECT * FROM vendors WHERE vendor_name = 'Microsoft'\"\n",
      "               }\n",
      "          },\n",
      "          {\n",
      "               \"function\": \"query_database\",\n",
      "               \"arguments\": {\n",
      "                    \"query\": \"SELECT * FROM contracts WHERE contract_id IN ('C014', 'C015')\"\n",
      "               }\n",
      "          }\n",
      "     ],\n",
      "     \"contexts\": [\n",
      "          \"[[\\\"V011\\\", \\\"Microsoft\\\", \\\"Productivity Software\\\", 400000, \\\"C014,C015\\\"]]\",\n",
      "          \"[[\\\"C014\\\", \\\"V011\\\", \\\"2022-09-01\\\", \\\"2025-08-31\\\", 210000, \\\"Annual subscription for office productivity suite.\\\", \\\"Microsoft Office 365 suite including Word, Excel, PowerPoint, and Teams.\\\"], [\\\"C015\\\", \\\"V011\\\", \\\"2023-10-01\\\", \\\"2026-09-30\\\", 240000, \\\"Azure compute and storage services. Pay-as-you-go pricing.\\\", \\\"Microsoft Azure services including virtual machines, storage accounts, and networking capabilities.\\\"]]\"\n",
      "     ],\n",
      "     \"messages\": [\n",
      "          \"Yes, we have contracts with Microsoft. Here are the details:\\n\\n1. **Contract ID:** C014\\n   - **Start Date:** 2022-09-01\\n   - **End Date:** 2025-08-31\\n   - **Contract Value:** $210,000\\n   - **Terms & Conditions:** Annual subscription for office productivity suite.\\n   - **Products Description:** Microsoft Office 365 suite including Word, Excel, PowerPoint, and Teams.\\n\\n2. **Contract ID:** C015\\n   - **Start Date:** 2023-10-01\\n   - **End Date:** 2026-09-30\\n   - **Contract Value:** $240,000\\n   - **Terms & Conditions:** Azure compute and storage services. Pay-as-you-go pricing.\\n   - **Products Description:** Microsoft Azure services including virtual machines, storage accounts, and networking capabilities.\\n\\nIf you need further details about these contracts or any other information, feel free to ask!\"\n",
      "     ]\n",
      "}\n"
     ]
    }
   ],
   "source": [
    "import json\n",
    "\n",
    "pred_column = vm_test_dataset.prediction_column(vm_model)\n",
    "\n",
    "print(json.dumps(vm_test_dataset.df[pred_column][0], indent=5))"
   ]
  },
  {
   "cell_type": "code",
   "execution_count": 14,
   "metadata": {},
   "outputs": [
    {
     "data": {
      "text/html": [
       "<style type=\"text/css\">\n",
       "#T_e5171 th {\n",
       "  text-align: left;\n",
       "}\n",
       "#T_e5171_row0_col0, #T_e5171_row0_col1, #T_e5171_row0_col2, #T_e5171_row0_col3, #T_e5171_row0_col4, #T_e5171_row0_col5, #T_e5171_row1_col0, #T_e5171_row1_col1, #T_e5171_row1_col2, #T_e5171_row1_col3, #T_e5171_row1_col4, #T_e5171_row1_col5, #T_e5171_row2_col0, #T_e5171_row2_col1, #T_e5171_row2_col2, #T_e5171_row2_col3, #T_e5171_row2_col4, #T_e5171_row2_col5, #T_e5171_row3_col0, #T_e5171_row3_col1, #T_e5171_row3_col2, #T_e5171_row3_col3, #T_e5171_row3_col4, #T_e5171_row3_col5, #T_e5171_row4_col0, #T_e5171_row4_col1, #T_e5171_row4_col2, #T_e5171_row4_col3, #T_e5171_row4_col4, #T_e5171_row4_col5, #T_e5171_row5_col0, #T_e5171_row5_col1, #T_e5171_row5_col2, #T_e5171_row5_col3, #T_e5171_row5_col4, #T_e5171_row5_col5, #T_e5171_row6_col0, #T_e5171_row6_col1, #T_e5171_row6_col2, #T_e5171_row6_col3, #T_e5171_row6_col4, #T_e5171_row6_col5, #T_e5171_row7_col0, #T_e5171_row7_col1, #T_e5171_row7_col2, #T_e5171_row7_col3, #T_e5171_row7_col4, #T_e5171_row7_col5, #T_e5171_row8_col0, #T_e5171_row8_col1, #T_e5171_row8_col2, #T_e5171_row8_col3, #T_e5171_row8_col4, #T_e5171_row8_col5 {\n",
       "  text-align: left;\n",
       "}\n",
       "</style>\n",
       "<table id=\"T_e5171\">\n",
       "  <thead>\n",
       "    <tr>\n",
       "      <th id=\"T_e5171_level0_col0\" class=\"col_heading level0 col0\" >ID</th>\n",
       "      <th id=\"T_e5171_level0_col1\" class=\"col_heading level0 col1\" >Name</th>\n",
       "      <th id=\"T_e5171_level0_col2\" class=\"col_heading level0 col2\" >Test Type</th>\n",
       "      <th id=\"T_e5171_level0_col3\" class=\"col_heading level0 col3\" >Description</th>\n",
       "      <th id=\"T_e5171_level0_col4\" class=\"col_heading level0 col4\" >Required Inputs</th>\n",
       "      <th id=\"T_e5171_level0_col5\" class=\"col_heading level0 col5\" >Params</th>\n",
       "    </tr>\n",
       "  </thead>\n",
       "  <tbody>\n",
       "    <tr>\n",
       "      <td id=\"T_e5171_row0_col0\" class=\"data row0 col0\" >validmind.model_validation.ragas.ContextRecall</td>\n",
       "      <td id=\"T_e5171_row0_col1\" class=\"data row0 col1\" >Context Recall</td>\n",
       "      <td id=\"T_e5171_row0_col2\" class=\"data row0 col2\" >Metric</td>\n",
       "      <td id=\"T_e5171_row0_col3\" class=\"data row0 col3\" >Context recall measures the extent to which the retrieved context aligns with the...</td>\n",
       "      <td id=\"T_e5171_row0_col4\" class=\"data row0 col4\" >['dataset']</td>\n",
       "      <td id=\"T_e5171_row0_col5\" class=\"data row0 col5\" >{'question_column': 'question', 'contexts_column': 'contexts', 'ground_truth_column': 'ground_truth'}</td>\n",
       "    </tr>\n",
       "    <tr>\n",
       "      <td id=\"T_e5171_row1_col0\" class=\"data row1 col0\" >validmind.model_validation.ragas.AspectCritique</td>\n",
       "      <td id=\"T_e5171_row1_col1\" class=\"data row1 col1\" >Aspect Critique</td>\n",
       "      <td id=\"T_e5171_row1_col2\" class=\"data row1 col2\" >Metric</td>\n",
       "      <td id=\"T_e5171_row1_col3\" class=\"data row1 col3\" >Evaluates generations against the following aspects: harmfulness, maliciousness,...</td>\n",
       "      <td id=\"T_e5171_row1_col4\" class=\"data row1 col4\" >['dataset']</td>\n",
       "      <td id=\"T_e5171_row1_col5\" class=\"data row1 col5\" >{'question_column': 'question', 'answer_column': 'answer', 'contexts_column': 'contexts', 'aspects': ['coherence', 'conciseness', 'correctness', 'harmfulness', 'maliciousness'], 'additional_aspects': []}</td>\n",
       "    </tr>\n",
       "    <tr>\n",
       "      <td id=\"T_e5171_row2_col0\" class=\"data row2 col0\" >validmind.model_validation.ragas.ContextPrecision</td>\n",
       "      <td id=\"T_e5171_row2_col1\" class=\"data row2 col1\" >Context Precision</td>\n",
       "      <td id=\"T_e5171_row2_col2\" class=\"data row2 col2\" >Metric</td>\n",
       "      <td id=\"T_e5171_row2_col3\" class=\"data row2 col3\" >Context Precision is a metric that evaluates whether all of the ground-truth...</td>\n",
       "      <td id=\"T_e5171_row2_col4\" class=\"data row2 col4\" >['dataset']</td>\n",
       "      <td id=\"T_e5171_row2_col5\" class=\"data row2 col5\" >{'question_column': 'question', 'contexts_column': 'contexts', 'ground_truth_column': 'ground_truth'}</td>\n",
       "    </tr>\n",
       "    <tr>\n",
       "      <td id=\"T_e5171_row3_col0\" class=\"data row3 col0\" >validmind.model_validation.ragas.AnswerSimilarity</td>\n",
       "      <td id=\"T_e5171_row3_col1\" class=\"data row3 col1\" >Answer Similarity</td>\n",
       "      <td id=\"T_e5171_row3_col2\" class=\"data row3 col2\" >Metric</td>\n",
       "      <td id=\"T_e5171_row3_col3\" class=\"data row3 col3\" >Calculates the semantic similarity between generated answers and ground truths...</td>\n",
       "      <td id=\"T_e5171_row3_col4\" class=\"data row3 col4\" >['dataset']</td>\n",
       "      <td id=\"T_e5171_row3_col5\" class=\"data row3 col5\" >{'answer_column': 'answer', 'ground_truth_column': 'ground_truth'}</td>\n",
       "    </tr>\n",
       "    <tr>\n",
       "      <td id=\"T_e5171_row4_col0\" class=\"data row4 col0\" >validmind.model_validation.ragas.ContextEntityRecall</td>\n",
       "      <td id=\"T_e5171_row4_col1\" class=\"data row4 col1\" >Context Entity Recall</td>\n",
       "      <td id=\"T_e5171_row4_col2\" class=\"data row4 col2\" >Metric</td>\n",
       "      <td id=\"T_e5171_row4_col3\" class=\"data row4 col3\" >Evaluates the context entity recall for dataset entries and visualizes the results....</td>\n",
       "      <td id=\"T_e5171_row4_col4\" class=\"data row4 col4\" >['dataset']</td>\n",
       "      <td id=\"T_e5171_row4_col5\" class=\"data row4 col5\" >{'contexts_column': 'contexts', 'ground_truth_column': 'ground_truth'}</td>\n",
       "    </tr>\n",
       "    <tr>\n",
       "      <td id=\"T_e5171_row5_col0\" class=\"data row5 col0\" >validmind.model_validation.ragas.Faithfulness</td>\n",
       "      <td id=\"T_e5171_row5_col1\" class=\"data row5 col1\" >Faithfulness</td>\n",
       "      <td id=\"T_e5171_row5_col2\" class=\"data row5 col2\" >Metric</td>\n",
       "      <td id=\"T_e5171_row5_col3\" class=\"data row5 col3\" >Evaluates the faithfulness of the generated answers with respect to retrieved contexts....</td>\n",
       "      <td id=\"T_e5171_row5_col4\" class=\"data row5 col4\" >['dataset']</td>\n",
       "      <td id=\"T_e5171_row5_col5\" class=\"data row5 col5\" >{'answer_column': 'answer', 'contexts_column': 'contexts'}</td>\n",
       "    </tr>\n",
       "    <tr>\n",
       "      <td id=\"T_e5171_row6_col0\" class=\"data row6 col0\" >validmind.model_validation.ragas.AnswerRelevance</td>\n",
       "      <td id=\"T_e5171_row6_col1\" class=\"data row6 col1\" >Answer Relevance</td>\n",
       "      <td id=\"T_e5171_row6_col2\" class=\"data row6 col2\" >Metric</td>\n",
       "      <td id=\"T_e5171_row6_col3\" class=\"data row6 col3\" >Assesses how pertinent the generated answer is to the given prompt....</td>\n",
       "      <td id=\"T_e5171_row6_col4\" class=\"data row6 col4\" >['dataset']</td>\n",
       "      <td id=\"T_e5171_row6_col5\" class=\"data row6 col5\" >{'question_column': 'question', 'contexts_column': 'contexts', 'answer_column': 'answer'}</td>\n",
       "    </tr>\n",
       "    <tr>\n",
       "      <td id=\"T_e5171_row7_col0\" class=\"data row7 col0\" >validmind.model_validation.ragas.AnswerCorrectness</td>\n",
       "      <td id=\"T_e5171_row7_col1\" class=\"data row7 col1\" >Answer Correctness</td>\n",
       "      <td id=\"T_e5171_row7_col2\" class=\"data row7 col2\" >Metric</td>\n",
       "      <td id=\"T_e5171_row7_col3\" class=\"data row7 col3\" >Evaluates the correctness of answers in a dataset with respect to the provided ground...</td>\n",
       "      <td id=\"T_e5171_row7_col4\" class=\"data row7 col4\" >['dataset']</td>\n",
       "      <td id=\"T_e5171_row7_col5\" class=\"data row7 col5\" >{'question_column': 'question', 'answer_column': 'answer', 'ground_truth_column': 'ground_truth'}</td>\n",
       "    </tr>\n",
       "    <tr>\n",
       "      <td id=\"T_e5171_row8_col0\" class=\"data row8 col0\" >validmind.model_validation.ragas.ContextRelevancy</td>\n",
       "      <td id=\"T_e5171_row8_col1\" class=\"data row8 col1\" >Context Relevancy</td>\n",
       "      <td id=\"T_e5171_row8_col2\" class=\"data row8 col2\" >Metric</td>\n",
       "      <td id=\"T_e5171_row8_col3\" class=\"data row8 col3\" >Evaluates the context relevancy metric for entries in a dataset and visualizes the...</td>\n",
       "      <td id=\"T_e5171_row8_col4\" class=\"data row8 col4\" >['dataset']</td>\n",
       "      <td id=\"T_e5171_row8_col5\" class=\"data row8 col5\" >{'question_column': 'question', 'contexts_column': 'contexts'}</td>\n",
       "    </tr>\n",
       "  </tbody>\n",
       "</table>\n"
      ],
      "text/plain": [
       "<pandas.io.formats.style.Styler at 0x3674d7850>"
      ]
     },
     "execution_count": 14,
     "metadata": {},
     "output_type": "execute_result"
    }
   ],
   "source": [
    "vm.tests.list_tests(filter=\"rag\")"
   ]
  },
  {
   "cell_type": "code",
   "execution_count": 15,
   "metadata": {},
   "outputs": [
    {
     "data": {
      "application/vnd.jupyter.widget-view+json": {
       "model_id": "1bb0d7fe5d6143228d16e7332d314471",
       "version_major": 2,
       "version_minor": 0
      },
      "text/plain": [
       "HTML(value='\\n<div>\\n  <h2>Answer Correctness</h2>\\n  <p>Evaluates the correctness of answers in a dataset wit…"
      ]
     },
     "metadata": {},
     "output_type": "display_data"
    },
    {
     "data": {
      "text/html": [
       "\n",
       "    <script>\n",
       "    window.MathJax = {\n",
       "        tex2jax: {\n",
       "            inlineMath: [['$', '$'], ['\\\\(', '\\\\)']],\n",
       "            displayMath: [['$$', '$$'], ['\\[', '\\]']],\n",
       "            processEscapes: true,\n",
       "            skipTags: ['script', 'noscript', 'style', 'textarea', 'pre'],\n",
       "            ignoreClass: \".*\",\n",
       "            processClass: \"math\"\n",
       "        }\n",
       "    };\n",
       "\n",
       "    setTimeout(function () {\n",
       "        var script = document.createElement('script');\n",
       "        script.type = 'text/javascript';\n",
       "        script.src = 'https://cdnjs.cloudflare.com/ajax/libs/mathjax/2.7.7/MathJax.js?config=TeX-AMS_HTML';\n",
       "        document.head.appendChild(script);\n",
       "    }, 500);\n",
       "    </script>\n",
       "    "
      ],
      "text/plain": [
       "<IPython.core.display.HTML object>"
      ]
     },
     "metadata": {},
     "output_type": "display_data"
    },
    {
     "data": {
      "application/vnd.jupyter.widget-view+json": {
       "model_id": "dbae781fabfe4f45bd8591d729948230",
       "version_major": 2,
       "version_minor": 0
      },
      "text/plain": [
       "HTML(value='\\n<div>\\n  <h2>Answer Relevance</h2>\\n  <p>Assesses how pertinent the generated answer is to the g…"
      ]
     },
     "metadata": {},
     "output_type": "display_data"
    },
    {
     "data": {
      "text/html": [
       "\n",
       "    <script>\n",
       "    window.MathJax = {\n",
       "        tex2jax: {\n",
       "            inlineMath: [['$', '$'], ['\\\\(', '\\\\)']],\n",
       "            displayMath: [['$$', '$$'], ['\\[', '\\]']],\n",
       "            processEscapes: true,\n",
       "            skipTags: ['script', 'noscript', 'style', 'textarea', 'pre'],\n",
       "            ignoreClass: \".*\",\n",
       "            processClass: \"math\"\n",
       "        }\n",
       "    };\n",
       "\n",
       "    setTimeout(function () {\n",
       "        var script = document.createElement('script');\n",
       "        script.type = 'text/javascript';\n",
       "        script.src = 'https://cdnjs.cloudflare.com/ajax/libs/mathjax/2.7.7/MathJax.js?config=TeX-AMS_HTML';\n",
       "        document.head.appendChild(script);\n",
       "    }, 500);\n",
       "    </script>\n",
       "    "
      ],
      "text/plain": [
       "<IPython.core.display.HTML object>"
      ]
     },
     "metadata": {},
     "output_type": "display_data"
    },
    {
     "data": {
      "application/vnd.jupyter.widget-view+json": {
       "model_id": "fe485d91d91e484aaab8f3f044a3e3ad",
       "version_major": 2,
       "version_minor": 0
      },
      "text/plain": [
       "HTML(value='\\n<div>\\n  <h2>Answer Similarity</h2>\\n  <p>Calculates the semantic similarity between generated a…"
      ]
     },
     "metadata": {},
     "output_type": "display_data"
    },
    {
     "data": {
      "text/html": [
       "\n",
       "    <script>\n",
       "    window.MathJax = {\n",
       "        tex2jax: {\n",
       "            inlineMath: [['$', '$'], ['\\\\(', '\\\\)']],\n",
       "            displayMath: [['$$', '$$'], ['\\[', '\\]']],\n",
       "            processEscapes: true,\n",
       "            skipTags: ['script', 'noscript', 'style', 'textarea', 'pre'],\n",
       "            ignoreClass: \".*\",\n",
       "            processClass: \"math\"\n",
       "        }\n",
       "    };\n",
       "\n",
       "    setTimeout(function () {\n",
       "        var script = document.createElement('script');\n",
       "        script.type = 'text/javascript';\n",
       "        script.src = 'https://cdnjs.cloudflare.com/ajax/libs/mathjax/2.7.7/MathJax.js?config=TeX-AMS_HTML';\n",
       "        document.head.appendChild(script);\n",
       "    }, 500);\n",
       "    </script>\n",
       "    "
      ],
      "text/plain": [
       "<IPython.core.display.HTML object>"
      ]
     },
     "metadata": {},
     "output_type": "display_data"
    },
    {
     "data": {
      "application/vnd.jupyter.widget-view+json": {
       "model_id": "231d927aa1ac43379b0772c7fd85768b",
       "version_major": 2,
       "version_minor": 0
      },
      "text/plain": [
       "HTML(value='\\n<div>\\n  <h2>Aspect Critique</h2>\\n  <p>Evaluates generations against the following aspects: har…"
      ]
     },
     "metadata": {},
     "output_type": "display_data"
    },
    {
     "data": {
      "text/html": [
       "\n",
       "    <script>\n",
       "    window.MathJax = {\n",
       "        tex2jax: {\n",
       "            inlineMath: [['$', '$'], ['\\\\(', '\\\\)']],\n",
       "            displayMath: [['$$', '$$'], ['\\[', '\\]']],\n",
       "            processEscapes: true,\n",
       "            skipTags: ['script', 'noscript', 'style', 'textarea', 'pre'],\n",
       "            ignoreClass: \".*\",\n",
       "            processClass: \"math\"\n",
       "        }\n",
       "    };\n",
       "\n",
       "    setTimeout(function () {\n",
       "        var script = document.createElement('script');\n",
       "        script.type = 'text/javascript';\n",
       "        script.src = 'https://cdnjs.cloudflare.com/ajax/libs/mathjax/2.7.7/MathJax.js?config=TeX-AMS_HTML';\n",
       "        document.head.appendChild(script);\n",
       "    }, 500);\n",
       "    </script>\n",
       "    "
      ],
      "text/plain": [
       "<IPython.core.display.HTML object>"
      ]
     },
     "metadata": {},
     "output_type": "display_data"
    },
    {
     "data": {
      "application/vnd.jupyter.widget-view+json": {
       "model_id": "a19aaecd00ca4198b6d32a4ea2c025ff",
       "version_major": 2,
       "version_minor": 0
      },
      "text/plain": [
       "HTML(value='\\n<div>\\n  <h2>Context Entity Recall</h2>\\n  <p>Evaluates the context entity recall for dataset en…"
      ]
     },
     "metadata": {},
     "output_type": "display_data"
    },
    {
     "data": {
      "text/html": [
       "\n",
       "    <script>\n",
       "    window.MathJax = {\n",
       "        tex2jax: {\n",
       "            inlineMath: [['$', '$'], ['\\\\(', '\\\\)']],\n",
       "            displayMath: [['$$', '$$'], ['\\[', '\\]']],\n",
       "            processEscapes: true,\n",
       "            skipTags: ['script', 'noscript', 'style', 'textarea', 'pre'],\n",
       "            ignoreClass: \".*\",\n",
       "            processClass: \"math\"\n",
       "        }\n",
       "    };\n",
       "\n",
       "    setTimeout(function () {\n",
       "        var script = document.createElement('script');\n",
       "        script.type = 'text/javascript';\n",
       "        script.src = 'https://cdnjs.cloudflare.com/ajax/libs/mathjax/2.7.7/MathJax.js?config=TeX-AMS_HTML';\n",
       "        document.head.appendChild(script);\n",
       "    }, 500);\n",
       "    </script>\n",
       "    "
      ],
      "text/plain": [
       "<IPython.core.display.HTML object>"
      ]
     },
     "metadata": {},
     "output_type": "display_data"
    },
    {
     "data": {
      "application/vnd.jupyter.widget-view+json": {
       "model_id": "e5b05a4463ff4d058ea1ce5aa48f1ba8",
       "version_major": 2,
       "version_minor": 0
      },
      "text/plain": [
       "HTML(value='\\n<div>\\n  <h2>Context Precision</h2>\\n  <p>Context Precision is a metric that evaluates whether a…"
      ]
     },
     "metadata": {},
     "output_type": "display_data"
    },
    {
     "data": {
      "text/html": [
       "\n",
       "    <script>\n",
       "    window.MathJax = {\n",
       "        tex2jax: {\n",
       "            inlineMath: [['$', '$'], ['\\\\(', '\\\\)']],\n",
       "            displayMath: [['$$', '$$'], ['\\[', '\\]']],\n",
       "            processEscapes: true,\n",
       "            skipTags: ['script', 'noscript', 'style', 'textarea', 'pre'],\n",
       "            ignoreClass: \".*\",\n",
       "            processClass: \"math\"\n",
       "        }\n",
       "    };\n",
       "\n",
       "    setTimeout(function () {\n",
       "        var script = document.createElement('script');\n",
       "        script.type = 'text/javascript';\n",
       "        script.src = 'https://cdnjs.cloudflare.com/ajax/libs/mathjax/2.7.7/MathJax.js?config=TeX-AMS_HTML';\n",
       "        document.head.appendChild(script);\n",
       "    }, 500);\n",
       "    </script>\n",
       "    "
      ],
      "text/plain": [
       "<IPython.core.display.HTML object>"
      ]
     },
     "metadata": {},
     "output_type": "display_data"
    },
    {
     "data": {
      "application/vnd.jupyter.widget-view+json": {
       "model_id": "aaf87983933d4fd09a0c4f1058d4a96e",
       "version_major": 2,
       "version_minor": 0
      },
      "text/plain": [
       "HTML(value='\\n<div>\\n  <h2>Context Recall</h2>\\n  <p>Context recall measures the extent to which the retrieved…"
      ]
     },
     "metadata": {},
     "output_type": "display_data"
    },
    {
     "data": {
      "text/html": [
       "\n",
       "    <script>\n",
       "    window.MathJax = {\n",
       "        tex2jax: {\n",
       "            inlineMath: [['$', '$'], ['\\\\(', '\\\\)']],\n",
       "            displayMath: [['$$', '$$'], ['\\[', '\\]']],\n",
       "            processEscapes: true,\n",
       "            skipTags: ['script', 'noscript', 'style', 'textarea', 'pre'],\n",
       "            ignoreClass: \".*\",\n",
       "            processClass: \"math\"\n",
       "        }\n",
       "    };\n",
       "\n",
       "    setTimeout(function () {\n",
       "        var script = document.createElement('script');\n",
       "        script.type = 'text/javascript';\n",
       "        script.src = 'https://cdnjs.cloudflare.com/ajax/libs/mathjax/2.7.7/MathJax.js?config=TeX-AMS_HTML';\n",
       "        document.head.appendChild(script);\n",
       "    }, 500);\n",
       "    </script>\n",
       "    "
      ],
      "text/plain": [
       "<IPython.core.display.HTML object>"
      ]
     },
     "metadata": {},
     "output_type": "display_data"
    },
    {
     "data": {
      "application/vnd.jupyter.widget-view+json": {
       "model_id": "3429e0e6ead6419fb9859b28bfb88456",
       "version_major": 2,
       "version_minor": 0
      },
      "text/plain": [
       "HTML(value='\\n<div>\\n  <h2>Context Relevancy</h2>\\n  <p>Evaluates the context relevancy metric for entries in …"
      ]
     },
     "metadata": {},
     "output_type": "display_data"
    },
    {
     "data": {
      "text/html": [
       "\n",
       "    <script>\n",
       "    window.MathJax = {\n",
       "        tex2jax: {\n",
       "            inlineMath: [['$', '$'], ['\\\\(', '\\\\)']],\n",
       "            displayMath: [['$$', '$$'], ['\\[', '\\]']],\n",
       "            processEscapes: true,\n",
       "            skipTags: ['script', 'noscript', 'style', 'textarea', 'pre'],\n",
       "            ignoreClass: \".*\",\n",
       "            processClass: \"math\"\n",
       "        }\n",
       "    };\n",
       "\n",
       "    setTimeout(function () {\n",
       "        var script = document.createElement('script');\n",
       "        script.type = 'text/javascript';\n",
       "        script.src = 'https://cdnjs.cloudflare.com/ajax/libs/mathjax/2.7.7/MathJax.js?config=TeX-AMS_HTML';\n",
       "        document.head.appendChild(script);\n",
       "    }, 500);\n",
       "    </script>\n",
       "    "
      ],
      "text/plain": [
       "<IPython.core.display.HTML object>"
      ]
     },
     "metadata": {},
     "output_type": "display_data"
    },
    {
     "data": {
      "application/vnd.jupyter.widget-view+json": {
       "model_id": "8d310d4664fe427a94245fd3a026627b",
       "version_major": 2,
       "version_minor": 0
      },
      "text/plain": [
       "HTML(value='\\n<div>\\n  <h2>Faithfulness</h2>\\n  <p>Evaluates the faithfulness of the generated answers with re…"
      ]
     },
     "metadata": {},
     "output_type": "display_data"
    },
    {
     "data": {
      "text/html": [
       "\n",
       "    <script>\n",
       "    window.MathJax = {\n",
       "        tex2jax: {\n",
       "            inlineMath: [['$', '$'], ['\\\\(', '\\\\)']],\n",
       "            displayMath: [['$$', '$$'], ['\\[', '\\]']],\n",
       "            processEscapes: true,\n",
       "            skipTags: ['script', 'noscript', 'style', 'textarea', 'pre'],\n",
       "            ignoreClass: \".*\",\n",
       "            processClass: \"math\"\n",
       "        }\n",
       "    };\n",
       "\n",
       "    setTimeout(function () {\n",
       "        var script = document.createElement('script');\n",
       "        script.type = 'text/javascript';\n",
       "        script.src = 'https://cdnjs.cloudflare.com/ajax/libs/mathjax/2.7.7/MathJax.js?config=TeX-AMS_HTML';\n",
       "        document.head.appendChild(script);\n",
       "    }, 500);\n",
       "    </script>\n",
       "    "
      ],
      "text/plain": [
       "<IPython.core.display.HTML object>"
      ]
     },
     "metadata": {},
     "output_type": "display_data"
    }
   ],
   "source": [
    "for test_id in sorted(vm.tests.list_tests(filter=\"rag\", pretty=False)):\n",
    "    vm.tests.describe_test(test_id)"
   ]
  },
  {
   "cell_type": "code",
   "execution_count": 16,
   "metadata": {},
   "outputs": [],
   "source": [
    "from validmind.tests import run_test\n",
    "\n",
    "rag_tests_inputs = {\"dataset\": vm_test_dataset}\n",
    "\n",
    "# for the tests that need the contexts and generated answer, we can pass a mapping as parameters\n",
    "rag_tests_params = {\n",
    "    \"contexts_column\": f\"{pred_column}.contexts\",\n",
    "    \"answer_column\": lambda row: \"\\n\\n\".join(row[pred_column][\"messages\"]),\n",
    "}"
   ]
  },
  {
   "cell_type": "code",
   "execution_count": 17,
   "metadata": {},
   "outputs": [
    {
     "data": {
      "text/html": [
       "<div>\n",
       "<style scoped>\n",
       "    .dataframe tbody tr th:only-of-type {\n",
       "        vertical-align: middle;\n",
       "    }\n",
       "\n",
       "    .dataframe tbody tr th {\n",
       "        vertical-align: top;\n",
       "    }\n",
       "\n",
       "    .dataframe thead th {\n",
       "        text-align: right;\n",
       "    }\n",
       "</style>\n",
       "<table border=\"1\" class=\"dataframe\">\n",
       "  <thead>\n",
       "    <tr style=\"text-align: right;\">\n",
       "      <th></th>\n",
       "      <th>question</th>\n",
       "      <th>ground_truth</th>\n",
       "      <th>vendor_qa_agent_prediction</th>\n",
       "    </tr>\n",
       "  </thead>\n",
       "  <tbody>\n",
       "    <tr>\n",
       "      <th>0</th>\n",
       "      <td>Do we have contracts with microsoft?</td>\n",
       "      <td>Yes, we have 2 contracts with Microsoft: C014 ...</td>\n",
       "      <td>{'question': 'Do we have contracts with micros...</td>\n",
       "    </tr>\n",
       "    <tr>\n",
       "      <th>1</th>\n",
       "      <td>Do we have contracts with google?</td>\n",
       "      <td>No, we do not have contracts with Google.</td>\n",
       "      <td>{'question': 'Do we have contracts with google...</td>\n",
       "    </tr>\n",
       "    <tr>\n",
       "      <th>2</th>\n",
       "      <td>Do we have contracts with amazon?</td>\n",
       "      <td>Yes, we have 2 contracts with Amazon: C007 and...</td>\n",
       "      <td>{'question': 'Do we have contracts with amazon...</td>\n",
       "    </tr>\n",
       "    <tr>\n",
       "      <th>3</th>\n",
       "      <td>What vendors do we have that offer cloud storage?</td>\n",
       "      <td>We have multiple vendors who have a cloud stor...</td>\n",
       "      <td>{'question': 'What vendors do we have that off...</td>\n",
       "    </tr>\n",
       "    <tr>\n",
       "      <th>4</th>\n",
       "      <td>Do we have relationships with server hardware ...</td>\n",
       "      <td>We have relationships with the following serve...</td>\n",
       "      <td>{'question': 'Do we have relationships with se...</td>\n",
       "    </tr>\n",
       "  </tbody>\n",
       "</table>\n",
       "</div>"
      ],
      "text/plain": [
       "                                            question  \\\n",
       "0               Do we have contracts with microsoft?   \n",
       "1                  Do we have contracts with google?   \n",
       "2                  Do we have contracts with amazon?   \n",
       "3  What vendors do we have that offer cloud storage?   \n",
       "4  Do we have relationships with server hardware ...   \n",
       "\n",
       "                                        ground_truth  \\\n",
       "0  Yes, we have 2 contracts with Microsoft: C014 ...   \n",
       "1          No, we do not have contracts with Google.   \n",
       "2  Yes, we have 2 contracts with Amazon: C007 and...   \n",
       "3  We have multiple vendors who have a cloud stor...   \n",
       "4  We have relationships with the following serve...   \n",
       "\n",
       "                          vendor_qa_agent_prediction  \n",
       "0  {'question': 'Do we have contracts with micros...  \n",
       "1  {'question': 'Do we have contracts with google...  \n",
       "2  {'question': 'Do we have contracts with amazon...  \n",
       "3  {'question': 'What vendors do we have that off...  \n",
       "4  {'question': 'Do we have relationships with se...  "
      ]
     },
     "execution_count": 17,
     "metadata": {},
     "output_type": "execute_result"
    }
   ],
   "source": [
    "vm_test_dataset.df.head()"
   ]
  },
  {
   "cell_type": "code",
   "execution_count": 18,
   "metadata": {},
   "outputs": [
    {
     "data": {
      "application/vnd.jupyter.widget-view+json": {
       "model_id": "1ea80d96383d4e49915024b074c54bfb",
       "version_major": 2,
       "version_minor": 0
      },
      "text/plain": [
       "Evaluating:   0%|          | 0/7 [00:00<?, ?it/s]"
      ]
     },
     "metadata": {},
     "output_type": "display_data"
    },
    {
     "data": {
      "application/vnd.jupyter.widget-view+json": {
       "model_id": "b828cf9a27e4469fbdb13ee8ad3e3388",
       "version_major": 2,
       "version_minor": 0
      },
      "text/plain": [
       "VBox(children=(HTML(value='<h1>Answer Correctness</h1>'), HTML(value='<p>Evaluates the correctness of answers …"
      ]
     },
     "metadata": {},
     "output_type": "display_data"
    },
    {
     "data": {
      "text/html": [
       "\n",
       "    <script>\n",
       "    window.MathJax = {\n",
       "        tex2jax: {\n",
       "            inlineMath: [['$', '$'], ['\\\\(', '\\\\)']],\n",
       "            displayMath: [['$$', '$$'], ['\\[', '\\]']],\n",
       "            processEscapes: true,\n",
       "            skipTags: ['script', 'noscript', 'style', 'textarea', 'pre'],\n",
       "            ignoreClass: \".*\",\n",
       "            processClass: \"math\"\n",
       "        }\n",
       "    };\n",
       "\n",
       "    setTimeout(function () {\n",
       "        var script = document.createElement('script');\n",
       "        script.type = 'text/javascript';\n",
       "        script.src = 'https://cdnjs.cloudflare.com/ajax/libs/mathjax/2.7.7/MathJax.js?config=TeX-AMS_HTML';\n",
       "        document.head.appendChild(script);\n",
       "    }, 500);\n",
       "    </script>\n",
       "    "
      ],
      "text/plain": [
       "<IPython.core.display.HTML object>"
      ]
     },
     "metadata": {},
     "output_type": "display_data"
    }
   ],
   "source": [
    "result = run_test(\n",
    "    \"validmind.model_validation.ragas.AnswerCorrectness\",\n",
    "    inputs=rag_tests_inputs,\n",
    "    params=rag_tests_params,\n",
    ")\n",
    "result.log()"
   ]
  },
  {
   "cell_type": "code",
   "execution_count": 19,
   "metadata": {},
   "outputs": [
    {
     "data": {
      "application/vnd.jupyter.widget-view+json": {
       "model_id": "99ca748890354f1192f5b5cfc6b2174a",
       "version_major": 2,
       "version_minor": 0
      },
      "text/plain": [
       "Evaluating:   0%|          | 0/7 [00:00<?, ?it/s]"
      ]
     },
     "metadata": {},
     "output_type": "display_data"
    },
    {
     "data": {
      "application/vnd.jupyter.widget-view+json": {
       "model_id": "1e936bcb9765438aaaadc744599286cc",
       "version_major": 2,
       "version_minor": 0
      },
      "text/plain": [
       "VBox(children=(HTML(value='<h1>Answer Relevance</h1>'), HTML(value='<p>Assesses how pertinent the generated an…"
      ]
     },
     "metadata": {},
     "output_type": "display_data"
    },
    {
     "data": {
      "text/html": [
       "\n",
       "    <script>\n",
       "    window.MathJax = {\n",
       "        tex2jax: {\n",
       "            inlineMath: [['$', '$'], ['\\\\(', '\\\\)']],\n",
       "            displayMath: [['$$', '$$'], ['\\[', '\\]']],\n",
       "            processEscapes: true,\n",
       "            skipTags: ['script', 'noscript', 'style', 'textarea', 'pre'],\n",
       "            ignoreClass: \".*\",\n",
       "            processClass: \"math\"\n",
       "        }\n",
       "    };\n",
       "\n",
       "    setTimeout(function () {\n",
       "        var script = document.createElement('script');\n",
       "        script.type = 'text/javascript';\n",
       "        script.src = 'https://cdnjs.cloudflare.com/ajax/libs/mathjax/2.7.7/MathJax.js?config=TeX-AMS_HTML';\n",
       "        document.head.appendChild(script);\n",
       "    }, 500);\n",
       "    </script>\n",
       "    "
      ],
      "text/plain": [
       "<IPython.core.display.HTML object>"
      ]
     },
     "metadata": {},
     "output_type": "display_data"
    }
   ],
   "source": [
    "result = run_test(\n",
    "    \"validmind.model_validation.ragas.AnswerRelevance\",\n",
    "    inputs=rag_tests_inputs,\n",
    "    params=rag_tests_params,\n",
    ")\n",
    "result.log()"
   ]
  },
  {
   "cell_type": "code",
   "execution_count": 20,
   "metadata": {},
   "outputs": [
    {
     "data": {
      "application/vnd.jupyter.widget-view+json": {
       "model_id": "f0a1e04ebf4a45919db1ad53a978c717",
       "version_major": 2,
       "version_minor": 0
      },
      "text/plain": [
       "Evaluating:   0%|          | 0/7 [00:00<?, ?it/s]"
      ]
     },
     "metadata": {},
     "output_type": "display_data"
    },
    {
     "data": {
      "application/vnd.jupyter.widget-view+json": {
       "model_id": "e1aca099b69d43758e03abfc842b0fa3",
       "version_major": 2,
       "version_minor": 0
      },
      "text/plain": [
       "VBox(children=(HTML(value='<h1>Answer Similarity</h1>'), HTML(value='<p>Calculates the semantic similarity bet…"
      ]
     },
     "metadata": {},
     "output_type": "display_data"
    },
    {
     "data": {
      "text/html": [
       "\n",
       "    <script>\n",
       "    window.MathJax = {\n",
       "        tex2jax: {\n",
       "            inlineMath: [['$', '$'], ['\\\\(', '\\\\)']],\n",
       "            displayMath: [['$$', '$$'], ['\\[', '\\]']],\n",
       "            processEscapes: true,\n",
       "            skipTags: ['script', 'noscript', 'style', 'textarea', 'pre'],\n",
       "            ignoreClass: \".*\",\n",
       "            processClass: \"math\"\n",
       "        }\n",
       "    };\n",
       "\n",
       "    setTimeout(function () {\n",
       "        var script = document.createElement('script');\n",
       "        script.type = 'text/javascript';\n",
       "        script.src = 'https://cdnjs.cloudflare.com/ajax/libs/mathjax/2.7.7/MathJax.js?config=TeX-AMS_HTML';\n",
       "        document.head.appendChild(script);\n",
       "    }, 500);\n",
       "    </script>\n",
       "    "
      ],
      "text/plain": [
       "<IPython.core.display.HTML object>"
      ]
     },
     "metadata": {},
     "output_type": "display_data"
    }
   ],
   "source": [
    "import warnings\n",
    "# warnings.filterwarnings(\"ignore\", category=FutureWarning, message=\"promote has been superseded by promote_options='default'.\")\n",
    "# warnings.resetwarnings()\n",
    "result = run_test(\n",
    "    \"validmind.model_validation.ragas.AnswerSimilarity\",\n",
    "    inputs=rag_tests_inputs,\n",
    "    params=rag_tests_params,\n",
    ")\n",
    "result.log()"
   ]
  },
  {
   "cell_type": "code",
   "execution_count": 21,
   "metadata": {},
   "outputs": [
    {
     "data": {
      "application/vnd.jupyter.widget-view+json": {
       "model_id": "b8823c5e97ec418d984c2d6dacf59089",
       "version_major": 2,
       "version_minor": 0
      },
      "text/plain": [
       "Evaluating:   0%|          | 0/42 [00:00<?, ?it/s]"
      ]
     },
     "metadata": {},
     "output_type": "display_data"
    },
    {
     "data": {
      "application/vnd.jupyter.widget-view+json": {
       "model_id": "99d22727a48e4925b645d9e278cf3c62",
       "version_major": 2,
       "version_minor": 0
      },
      "text/plain": [
       "VBox(children=(HTML(value='<h1>Aspect Critique</h1>'), HTML(value='<p>Evaluates generations against the follow…"
      ]
     },
     "metadata": {},
     "output_type": "display_data"
    },
    {
     "data": {
      "text/html": [
       "\n",
       "    <script>\n",
       "    window.MathJax = {\n",
       "        tex2jax: {\n",
       "            inlineMath: [['$', '$'], ['\\\\(', '\\\\)']],\n",
       "            displayMath: [['$$', '$$'], ['\\[', '\\]']],\n",
       "            processEscapes: true,\n",
       "            skipTags: ['script', 'noscript', 'style', 'textarea', 'pre'],\n",
       "            ignoreClass: \".*\",\n",
       "            processClass: \"math\"\n",
       "        }\n",
       "    };\n",
       "\n",
       "    setTimeout(function () {\n",
       "        var script = document.createElement('script');\n",
       "        script.type = 'text/javascript';\n",
       "        script.src = 'https://cdnjs.cloudflare.com/ajax/libs/mathjax/2.7.7/MathJax.js?config=TeX-AMS_HTML';\n",
       "        document.head.appendChild(script);\n",
       "    }, 500);\n",
       "    </script>\n",
       "    "
      ],
      "text/plain": [
       "<IPython.core.display.HTML object>"
      ]
     },
     "metadata": {},
     "output_type": "display_data"
    }
   ],
   "source": [
    "result = run_test(\n",
    "    \"validmind.model_validation.ragas.AspectCritique\",\n",
    "    inputs=rag_tests_inputs,\n",
    "    params={\n",
    "        **rag_tests_params,\n",
    "        \"additional_aspects\": [\n",
    "            (\"professionalism\", \"Ensure the response is professional and appropriate for a business setting.\"),\n",
    "        ],\n",
    "    },\n",
    ")\n",
    "result.log()"
   ]
  },
  {
   "cell_type": "code",
   "execution_count": 22,
   "metadata": {},
   "outputs": [
    {
     "data": {
      "application/vnd.jupyter.widget-view+json": {
       "model_id": "2ddfbc812b8b41359fbe0c5adc0d2f2a",
       "version_major": 2,
       "version_minor": 0
      },
      "text/plain": [
       "Evaluating:   0%|          | 0/7 [00:00<?, ?it/s]"
      ]
     },
     "metadata": {},
     "output_type": "display_data"
    },
    {
     "data": {
      "application/vnd.jupyter.widget-view+json": {
       "model_id": "fe20eca04f3c4822a24fb7e95f538fb9",
       "version_major": 2,
       "version_minor": 0
      },
      "text/plain": [
       "VBox(children=(HTML(value='<h1>Context Entity Recall</h1>'), HTML(value='<p>Evaluates the context entity recal…"
      ]
     },
     "metadata": {},
     "output_type": "display_data"
    },
    {
     "data": {
      "text/html": [
       "\n",
       "    <script>\n",
       "    window.MathJax = {\n",
       "        tex2jax: {\n",
       "            inlineMath: [['$', '$'], ['\\\\(', '\\\\)']],\n",
       "            displayMath: [['$$', '$$'], ['\\[', '\\]']],\n",
       "            processEscapes: true,\n",
       "            skipTags: ['script', 'noscript', 'style', 'textarea', 'pre'],\n",
       "            ignoreClass: \".*\",\n",
       "            processClass: \"math\"\n",
       "        }\n",
       "    };\n",
       "\n",
       "    setTimeout(function () {\n",
       "        var script = document.createElement('script');\n",
       "        script.type = 'text/javascript';\n",
       "        script.src = 'https://cdnjs.cloudflare.com/ajax/libs/mathjax/2.7.7/MathJax.js?config=TeX-AMS_HTML';\n",
       "        document.head.appendChild(script);\n",
       "    }, 500);\n",
       "    </script>\n",
       "    "
      ],
      "text/plain": [
       "<IPython.core.display.HTML object>"
      ]
     },
     "metadata": {},
     "output_type": "display_data"
    }
   ],
   "source": [
    "result = run_test(\n",
    "    \"validmind.model_validation.ragas.ContextEntityRecall\",\n",
    "    inputs=rag_tests_inputs,\n",
    "    params=rag_tests_params,\n",
    ")\n",
    "result.log()"
   ]
  },
  {
   "cell_type": "code",
   "execution_count": 23,
   "metadata": {},
   "outputs": [
    {
     "data": {
      "application/vnd.jupyter.widget-view+json": {
       "model_id": "dea883af930e4b3cae26be0e88475b24",
       "version_major": 2,
       "version_minor": 0
      },
      "text/plain": [
       "Evaluating:   0%|          | 0/7 [00:00<?, ?it/s]"
      ]
     },
     "metadata": {},
     "output_type": "display_data"
    },
    {
     "data": {
      "application/vnd.jupyter.widget-view+json": {
       "model_id": "c5abd51271b74b7882dd2b3198d5085b",
       "version_major": 2,
       "version_minor": 0
      },
      "text/plain": [
       "VBox(children=(HTML(value='<h1>Context Precision</h1>'), HTML(value='<p>Context Precision is a metric that eva…"
      ]
     },
     "metadata": {},
     "output_type": "display_data"
    },
    {
     "data": {
      "text/html": [
       "\n",
       "    <script>\n",
       "    window.MathJax = {\n",
       "        tex2jax: {\n",
       "            inlineMath: [['$', '$'], ['\\\\(', '\\\\)']],\n",
       "            displayMath: [['$$', '$$'], ['\\[', '\\]']],\n",
       "            processEscapes: true,\n",
       "            skipTags: ['script', 'noscript', 'style', 'textarea', 'pre'],\n",
       "            ignoreClass: \".*\",\n",
       "            processClass: \"math\"\n",
       "        }\n",
       "    };\n",
       "\n",
       "    setTimeout(function () {\n",
       "        var script = document.createElement('script');\n",
       "        script.type = 'text/javascript';\n",
       "        script.src = 'https://cdnjs.cloudflare.com/ajax/libs/mathjax/2.7.7/MathJax.js?config=TeX-AMS_HTML';\n",
       "        document.head.appendChild(script);\n",
       "    }, 500);\n",
       "    </script>\n",
       "    "
      ],
      "text/plain": [
       "<IPython.core.display.HTML object>"
      ]
     },
     "metadata": {},
     "output_type": "display_data"
    }
   ],
   "source": [
    "result = run_test(\n",
    "    \"validmind.model_validation.ragas.ContextPrecision\",\n",
    "    inputs=rag_tests_inputs,\n",
    "    params=rag_tests_params,\n",
    ")\n",
    "result.log()"
   ]
  },
  {
   "cell_type": "code",
   "execution_count": 24,
   "metadata": {},
   "outputs": [
    {
     "data": {
      "application/vnd.jupyter.widget-view+json": {
       "model_id": "fbdd1609000f45eeb6555e9ddad035f7",
       "version_major": 2,
       "version_minor": 0
      },
      "text/plain": [
       "Evaluating:   0%|          | 0/7 [00:00<?, ?it/s]"
      ]
     },
     "metadata": {},
     "output_type": "display_data"
    },
    {
     "data": {
      "application/vnd.jupyter.widget-view+json": {
       "model_id": "f3850e0089a44a6a87e6ae4d552436ac",
       "version_major": 2,
       "version_minor": 0
      },
      "text/plain": [
       "VBox(children=(HTML(value='<h1>Context Recall</h1>'), HTML(value='<p>Context recall measures the extent to whi…"
      ]
     },
     "metadata": {},
     "output_type": "display_data"
    },
    {
     "data": {
      "text/html": [
       "\n",
       "    <script>\n",
       "    window.MathJax = {\n",
       "        tex2jax: {\n",
       "            inlineMath: [['$', '$'], ['\\\\(', '\\\\)']],\n",
       "            displayMath: [['$$', '$$'], ['\\[', '\\]']],\n",
       "            processEscapes: true,\n",
       "            skipTags: ['script', 'noscript', 'style', 'textarea', 'pre'],\n",
       "            ignoreClass: \".*\",\n",
       "            processClass: \"math\"\n",
       "        }\n",
       "    };\n",
       "\n",
       "    setTimeout(function () {\n",
       "        var script = document.createElement('script');\n",
       "        script.type = 'text/javascript';\n",
       "        script.src = 'https://cdnjs.cloudflare.com/ajax/libs/mathjax/2.7.7/MathJax.js?config=TeX-AMS_HTML';\n",
       "        document.head.appendChild(script);\n",
       "    }, 500);\n",
       "    </script>\n",
       "    "
      ],
      "text/plain": [
       "<IPython.core.display.HTML object>"
      ]
     },
     "metadata": {},
     "output_type": "display_data"
    }
   ],
   "source": [
    "result = run_test(\n",
    "    \"validmind.model_validation.ragas.ContextRecall\",\n",
    "    inputs=rag_tests_inputs,\n",
    "    params=rag_tests_params,\n",
    ")\n",
    "result.log()"
   ]
  },
  {
   "cell_type": "code",
   "execution_count": 25,
   "metadata": {},
   "outputs": [
    {
     "data": {
      "application/vnd.jupyter.widget-view+json": {
       "model_id": "e4e4c76bd9ba4776857797f064175a79",
       "version_major": 2,
       "version_minor": 0
      },
      "text/plain": [
       "Evaluating:   0%|          | 0/7 [00:00<?, ?it/s]"
      ]
     },
     "metadata": {},
     "output_type": "display_data"
    },
    {
     "data": {
      "application/vnd.jupyter.widget-view+json": {
       "model_id": "1b0b68f9c9ed490f8942b44c11fa37bb",
       "version_major": 2,
       "version_minor": 0
      },
      "text/plain": [
       "VBox(children=(HTML(value='<h1>Context Relevancy</h1>'), HTML(value='<p>Evaluates the context relevancy metric…"
      ]
     },
     "metadata": {},
     "output_type": "display_data"
    },
    {
     "data": {
      "text/html": [
       "\n",
       "    <script>\n",
       "    window.MathJax = {\n",
       "        tex2jax: {\n",
       "            inlineMath: [['$', '$'], ['\\\\(', '\\\\)']],\n",
       "            displayMath: [['$$', '$$'], ['\\[', '\\]']],\n",
       "            processEscapes: true,\n",
       "            skipTags: ['script', 'noscript', 'style', 'textarea', 'pre'],\n",
       "            ignoreClass: \".*\",\n",
       "            processClass: \"math\"\n",
       "        }\n",
       "    };\n",
       "\n",
       "    setTimeout(function () {\n",
       "        var script = document.createElement('script');\n",
       "        script.type = 'text/javascript';\n",
       "        script.src = 'https://cdnjs.cloudflare.com/ajax/libs/mathjax/2.7.7/MathJax.js?config=TeX-AMS_HTML';\n",
       "        document.head.appendChild(script);\n",
       "    }, 500);\n",
       "    </script>\n",
       "    "
      ],
      "text/plain": [
       "<IPython.core.display.HTML object>"
      ]
     },
     "metadata": {},
     "output_type": "display_data"
    }
   ],
   "source": [
    "result = run_test(\n",
    "    \"validmind.model_validation.ragas.ContextRelevancy\",\n",
    "    inputs=rag_tests_inputs,\n",
    "    params=rag_tests_params,\n",
    ")\n",
    "result.log()"
   ]
  },
  {
   "cell_type": "code",
   "execution_count": 26,
   "metadata": {},
   "outputs": [
    {
     "data": {
      "application/vnd.jupyter.widget-view+json": {
       "model_id": "8a33c7a47fc04c31b28fbe890046be9d",
       "version_major": 2,
       "version_minor": 0
      },
      "text/plain": [
       "Evaluating:   0%|          | 0/7 [00:00<?, ?it/s]"
      ]
     },
     "metadata": {},
     "output_type": "display_data"
    },
    {
     "name": "stderr",
     "output_type": "stream",
     "text": [
      "No statements were generated from the answer.\n"
     ]
    },
    {
     "data": {
      "application/vnd.jupyter.widget-view+json": {
       "model_id": "641f871cedc44f41862eb433ad26b1e8",
       "version_major": 2,
       "version_minor": 0
      },
      "text/plain": [
       "VBox(children=(HTML(value='<h1>Faithfulness</h1>'), HTML(value='<p>Evaluates the faithfulness of the generated…"
      ]
     },
     "metadata": {},
     "output_type": "display_data"
    },
    {
     "data": {
      "text/html": [
       "\n",
       "    <script>\n",
       "    window.MathJax = {\n",
       "        tex2jax: {\n",
       "            inlineMath: [['$', '$'], ['\\\\(', '\\\\)']],\n",
       "            displayMath: [['$$', '$$'], ['\\[', '\\]']],\n",
       "            processEscapes: true,\n",
       "            skipTags: ['script', 'noscript', 'style', 'textarea', 'pre'],\n",
       "            ignoreClass: \".*\",\n",
       "            processClass: \"math\"\n",
       "        }\n",
       "    };\n",
       "\n",
       "    setTimeout(function () {\n",
       "        var script = document.createElement('script');\n",
       "        script.type = 'text/javascript';\n",
       "        script.src = 'https://cdnjs.cloudflare.com/ajax/libs/mathjax/2.7.7/MathJax.js?config=TeX-AMS_HTML';\n",
       "        document.head.appendChild(script);\n",
       "    }, 500);\n",
       "    </script>\n",
       "    "
      ],
      "text/plain": [
       "<IPython.core.display.HTML object>"
      ]
     },
     "metadata": {},
     "output_type": "display_data"
    }
   ],
   "source": [
    "result = run_test(\n",
    "    \"validmind.model_validation.ragas.Faithfulness\",\n",
    "    inputs=rag_tests_inputs,\n",
    "    params=rag_tests_params,\n",
    ")"
   ]
  }
 ],
 "metadata": {
  "kernelspec": {
   "display_name": "Python 3 (ipykernel)",
   "language": "python",
   "name": "python3"
  },
  "language_info": {
   "codemirror_mode": {
    "name": "ipython",
    "version": 3
   },
   "file_extension": ".py",
   "mimetype": "text/x-python",
   "name": "python",
   "nbconvert_exporter": "python",
   "pygments_lexer": "ipython3",
   "version": "3.11.9"
  }
 },
 "nbformat": 4,
 "nbformat_minor": 4
}
