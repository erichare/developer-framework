{
 "cells": [
  {
   "cell_type": "markdown",
   "metadata": {},
   "source": [
    "# BNY Vendor Contract QA Agent Documentation POC"
   ]
  },
  {
   "cell_type": "markdown",
   "metadata": {},
   "source": [
    "## Pre-requisites"
   ]
  },
  {
   "cell_type": "code",
   "execution_count": 50,
   "metadata": {},
   "outputs": [
    {
     "name": "stdout",
     "output_type": "stream",
     "text": [
      "Note: you may need to restart the kernel to use updated packages.\n"
     ]
    }
   ],
   "source": [
    "%pip install termcolor duckduckgo-search beautifulsoup4 --quiet"
   ]
  },
  {
   "cell_type": "code",
   "execution_count": 45,
   "metadata": {
    "metadata": {}
   },
   "outputs": [],
   "source": [
    "# load openai api key\n",
    "import os\n",
    "\n",
    "from dotenv import load_dotenv\n",
    "load_dotenv()\n",
    "\n",
    "if not 'OPENAI_API_KEY' in os.environ:\n",
    "    raise ValueError('OPENAI_API_KEY is not set')\n",
    "\n",
    "GPT_MODEL = \"gpt-3.5-turbo\"\n",
    "os.environ[\"OPENAI_GPT_MODEL\"] = GPT_MODEL"
   ]
  },
  {
   "cell_type": "code",
   "execution_count": 62,
   "metadata": {},
   "outputs": [],
   "source": [
    "# import utils (with ability to reload changes)\n",
    "import importlib\n",
    "import sys\n",
    "\n",
    "sys.path.append(os.getcwd())\n",
    "\n",
    "import utils\n",
    "\n",
    "importlib.reload(utils)\n",
    "from utils import (\n",
    "    chat_completion_request,\n",
    "    client,\n",
    "    init_db,\n",
    "    get_schema_description,\n",
    "    get_tools_spec,\n",
    "    pretty_print_conversation,\n",
    "    query_db,\n",
    ")"
   ]
  },
  {
   "cell_type": "code",
   "execution_count": 48,
   "metadata": {},
   "outputs": [
    {
     "name": "stdout",
     "output_type": "stream",
     "text": [
      "Loaded 2 tool definitions\n",
      "[\n",
      "      {\n",
      "            \"type\": \"function\",\n",
      "            \"function\": {\n",
      "                  \"name\": \"query_database\",\n",
      "                  \"description\": \"Query the contract database to retrieve information about contracts with a particular vendor\",\n",
      "                  \"parameters\": {\n",
      "                        \"type\": \"object\",\n",
      "                        \"properties\": {\n",
      "                              \"query\": {\n",
      "                                    \"type\": \"string\",\n",
      "                                    \"description\": \"SQL query to execute against the database\"\n",
      "                              }\n",
      "                        },\n",
      "                        \"required\": [\n",
      "                              \"query\"\n",
      "                        ]\n",
      "                  }\n",
      "            }\n",
      "      },\n",
      "      {\n",
      "            \"type\": \"function\",\n",
      "            \"function\": {\n",
      "                  \"name\": \"search_online\",\n",
      "                  \"description\": \"Search the web for information\",\n",
      "                  \"parameters\": {\n",
      "                        \"type\": \"object\",\n",
      "                        \"properties\": {\n",
      "                              \"search_type\": {\n",
      "                                    \"type\": \"string\",\n",
      "                                    \"description\": \"The type of search to do. `browse` will use a search engine to retrieve the top results for a query. `scrape` will scrape the text for a given URL.\",\n",
      "                                    \"enum\": [\n",
      "                                          \"browse\",\n",
      "                                          \"scrape\"\n",
      "                                    ]\n",
      "                              },\n",
      "                              \"query\": {\n",
      "                                    \"type\": \"string\",\n",
      "                                    \"description\": \"The query to search for. Required if `search_type` is `browse`.\"\n",
      "                              },\n",
      "                              \"url\": {\n",
      "                                    \"type\": \"string\",\n",
      "                                    \"description\": \"The URL to scrape. Required if `search_type` is `scrape`.\"\n",
      "                              }\n",
      "                        },\n",
      "                        \"required\": [\n",
      "                              \"search_type\"\n",
      "                        ]\n",
      "                  }\n",
      "            }\n",
      "      }\n",
      "]\n"
     ]
    }
   ],
   "source": [
    "tools_spec = get_tools_spec()"
   ]
  },
  {
   "cell_type": "code",
   "execution_count": 60,
   "metadata": {},
   "outputs": [],
   "source": [
    "import requests\n",
    "\n",
    "from duckduckgo_search import DDGS\n",
    "from bs4 import BeautifulSoup\n",
    "\n",
    "def search_online(search_type, query=None, url=None):\n",
    "    if search_type == \"browse\":\n",
    "        # use duckduckgo to search for the query\n",
    "        results = DDGS().text(query, max_results=5)\n",
    "        return results\n",
    "\n",
    "    if search_type == \"scrape\":\n",
    "        # scrape the text of the url\n",
    "        response = requests.get(url)\n",
    "        soup = BeautifulSoup(response.text, \"html.parser\")\n",
    "        text = soup.get_text()\n",
    "        return text.strip()\n",
    "\n",
    "    raise ValueError(f\"Unknown search type: {search_type}\")"
   ]
  },
  {
   "cell_type": "code",
   "execution_count": 58,
   "metadata": {},
   "outputs": [
    {
     "data": {
      "text/plain": [
       "[{'title': 'Download Python | Python.org',\n",
       "  'href': 'https://www.python.org/downloads/',\n",
       "  'body': 'Find the latest version of Python for your operating system and download it for free. Learn about the release schedule, maintenance status, and release notes of different Python versions.'},\n",
       " {'title': 'Python 3 Installation & Setup Guide - Real Python',\n",
       "  'href': 'https://realpython.com/installing-python/',\n",
       "  'body': 'Learn how to install Python on Windows, macOS, Linux, iOS, Android and online using official Python distributions. Find out how to check your Python version, choose the right options for your needs, and get started with Python programming.'},\n",
       " {'title': 'How to Install Python on Windows - How-To Geek',\n",
       "  'href': 'https://www.howtogeek.com/197947/how-to-install-python-on-windows/',\n",
       "  'body': 'Learn how to download and install the latest version of Python 3 from the official website, and how to add it to your PATH for easy access. Also, find out how to manage multiple Python versions and avoid common issues.'},\n",
       " {'title': \"How To Install Python on Windows 10 and 11 | Tom's Hardware\",\n",
       "  'href': 'https://www.tomshardware.com/how-to/install-python-on-windows-10-and-11',\n",
       "  'body': \"1. Open a browser to the Python website and download the Windows installer. (Image credit: Tom's Hardware) 2. Double click on the downloaded file and install Python for all users, and ensure that ...\"},\n",
       " {'title': 'Install Python: Detailed Instructions for Window, Mac, and Linux',\n",
       "  'href': 'https://python.land/installing-python',\n",
       "  'body': 'Learn how to install Python on different operating systems using various methods. Compare the advantages and disadvantages of each option and get tips on how to use pip and other tools.'}]"
      ]
     },
     "execution_count": 58,
     "metadata": {},
     "output_type": "execute_result"
    }
   ],
   "source": [
    "results = search_online(\"browse\", query=\"how to install python\")\n",
    "results"
   ]
  },
  {
   "cell_type": "code",
   "execution_count": 61,
   "metadata": {},
   "outputs": [
    {
     "data": {
      "text/plain": [
       "'Download Python | Python.org\\n\\n\\n\\n\\n\\n\\n\\n\\n\\n\\n\\n\\n\\n\\n\\n\\n\\n\\n\\n\\nNotice: While JavaScript is not essential for this website, your interaction with the content will be limited. Please turn JavaScript on for the full experience. \\n\\n\\n\\n\\n\\n\\nSkip to content\\n\\n\\n▼ Close\\n                \\n\\n\\nPython\\n\\n\\nPSF\\n\\n\\nDocs\\n\\n\\nPyPI\\n\\n\\nJobs\\n\\n\\nCommunity\\n\\n\\n\\n▲ The Python Network\\n                \\n\\n\\n\\n\\n\\n\\n\\n\\n\\nDonate\\n\\n≡ Menu\\n\\n\\nSearch This Site\\n\\n\\n                                    GO\\n                                \\n\\n\\n\\n\\n\\nA A\\n\\nSmaller\\nLarger\\nReset\\n\\n\\n\\n\\n\\n\\nSocialize\\n\\nLinkedIn\\nMastodon\\nChat on IRC\\nTwitter\\n\\n\\n\\n\\n\\n\\n\\n\\n\\n\\nAbout\\n\\nApplications\\nQuotes\\nGetting Started\\nHelp\\nPython Brochure\\n\\n\\n\\nDownloads\\n\\nAll releases\\nSource code\\nWindows\\nmacOS\\nOther Platforms\\nLicense\\nAlternative Implementations\\n\\n\\n\\nDocumentation\\n\\nDocs\\nAudio/Visual Talks\\nBeginner\\'s Guide\\nDeveloper\\'s Guide\\nFAQ\\nNon-English Docs\\nPEP Index\\nPython Books\\nPython Essays\\n\\n\\n\\nCommunity\\n\\nDiversity\\nMailing Lists\\nIRC\\nForums\\nPSF Annual Impact Report\\nPython Conferences\\nSpecial Interest Groups\\nPython Logo\\nPython Wiki\\nCode of Conduct\\nCommunity Awards\\nGet Involved\\nShared Stories\\n\\n\\n\\nSuccess Stories\\n\\nArts\\nBusiness\\nEducation\\nEngineering\\nGovernment\\nScientific\\nSoftware Development\\n\\n\\n\\nNews\\n\\nPython News\\nPSF Newsletter\\nPSF News\\nPyCon US News\\nNews from the Community\\n\\n\\n\\nEvents\\n\\nPython Events\\nUser Group Events\\nPython Events Archive\\nUser Group Events Archive\\nSubmit an Event\\n\\n\\n\\n\\n \\n\\n\\nDownload the latest source release\\n\\nDownload Python 3.12.3\\n\\n\\n\\nDownload the latest version for Windows\\n\\nDownload Python 3.12.3\\n\\n\\n\\nDownload the latest version for macOS\\n\\nDownload Python 3.12.3\\n\\n\\n\\nDownload the latest version of Python\\n\\nDownload Python 3.12.3\\n\\n\\n\\r\\n  Looking for Python with a different OS? Python for\\r\\n  Windows,\\r\\n  Linux/UNIX,\\r\\n  macOS,\\r\\n  Other\\n\\n\\r\\n  Want to help test development versions of Python 3.13?\\r\\n  Prereleases,\\r\\n  Docker images\\n\\n\\n\\n\\n\\n\\n\\n\\n\\n\\nActive Python Releases\\nFor more information visit the Python Developer\\'s Guide.\\n\\nPython version\\nMaintenance status\\nFirst released\\nEnd of support\\nRelease schedule\\n\\n\\n\\n3.13\\nprerelease\\n2024-10-01 (planned)\\n2029-10\\nPEP 719\\n\\n\\n3.12\\nbugfix\\n2023-10-02\\n2028-10\\nPEP 693\\n\\n\\n3.11\\nbugfix\\n2022-10-24\\n2027-10\\nPEP 664\\n\\n\\n3.10\\nsecurity\\n2021-10-04\\n2026-10\\nPEP 619\\n\\n\\n3.9\\nsecurity\\n2020-10-05\\n2025-10\\nPEP 596\\n\\n\\n3.8\\nsecurity\\n2019-10-14\\n2024-10\\nPEP 569\\n\\n\\n\\n\\n\\nLooking for a specific release?\\nPython releases by version number:\\n\\nRelease version\\nRelease date\\n\\xa0\\nClick for more\\n\\n\\n\\nPython 3.12.3\\nApril 9, 2024\\n Download\\nRelease Notes\\n\\n\\nPython 3.11.9\\nApril 2, 2024\\n Download\\nRelease Notes\\n\\n\\nPython 3.10.14\\nMarch 19, 2024\\n Download\\nRelease Notes\\n\\n\\nPython 3.9.19\\nMarch 19, 2024\\n Download\\nRelease Notes\\n\\n\\nPython 3.8.19\\nMarch 19, 2024\\n Download\\nRelease Notes\\n\\n\\nPython 3.11.8\\nFeb. 6, 2024\\n Download\\nRelease Notes\\n\\n\\nPython 3.12.2\\nFeb. 6, 2024\\n Download\\nRelease Notes\\n\\n\\nPython 3.12.1\\nDec. 8, 2023\\n Download\\nRelease Notes\\n\\n\\nPython 3.11.7\\nDec. 4, 2023\\n Download\\nRelease Notes\\n\\n\\nPython 3.12.0\\nOct. 2, 2023\\n Download\\nRelease Notes\\n\\n\\nPython 3.11.6\\nOct. 2, 2023\\n Download\\nRelease Notes\\n\\n\\nPython 3.11.5\\nAug. 24, 2023\\n Download\\nRelease Notes\\n\\n\\nPython 3.10.13\\nAug. 24, 2023\\n Download\\nRelease Notes\\n\\n\\nPython 3.9.18\\nAug. 24, 2023\\n Download\\nRelease Notes\\n\\n\\nPython 3.8.18\\nAug. 24, 2023\\n Download\\nRelease Notes\\n\\n\\nPython 3.10.12\\nJune 6, 2023\\n Download\\nRelease Notes\\n\\n\\nPython 3.11.4\\nJune 6, 2023\\n Download\\nRelease Notes\\n\\n\\nPython 3.7.17\\nJune 6, 2023\\n Download\\nRelease Notes\\n\\n\\nPython 3.8.17\\nJune 6, 2023\\n Download\\nRelease Notes\\n\\n\\nPython 3.9.17\\nJune 6, 2023\\n Download\\nRelease Notes\\n\\n\\nPython 3.10.11\\nApril 5, 2023\\n Download\\nRelease Notes\\n\\n\\nPython 3.11.3\\nApril 5, 2023\\n Download\\nRelease Notes\\n\\n\\nPython 3.10.10\\nFeb. 8, 2023\\n Download\\nRelease Notes\\n\\n\\nPython 3.11.2\\nFeb. 8, 2023\\n Download\\nRelease Notes\\n\\n\\nPython 3.11.1\\nDec. 6, 2022\\n Download\\nRelease Notes\\n\\n\\nPython 3.10.9\\nDec. 6, 2022\\n Download\\nRelease Notes\\n\\n\\nPython 3.9.16\\nDec. 6, 2022\\n Download\\nRelease Notes\\n\\n\\nPython 3.8.16\\nDec. 6, 2022\\n Download\\nRelease Notes\\n\\n\\nPython 3.7.16\\nDec. 6, 2022\\n Download\\nRelease Notes\\n\\n\\nPython 3.11.0\\nOct. 24, 2022\\n Download\\nRelease Notes\\n\\n\\nPython 3.9.15\\nOct. 11, 2022\\n Download\\nRelease Notes\\n\\n\\nPython 3.8.15\\nOct. 11, 2022\\n Download\\nRelease Notes\\n\\n\\nPython 3.10.8\\nOct. 11, 2022\\n Download\\nRelease Notes\\n\\n\\nPython 3.7.15\\nOct. 11, 2022\\n Download\\nRelease Notes\\n\\n\\nPython 3.7.14\\nSept. 6, 2022\\n Download\\nRelease Notes\\n\\n\\nPython 3.8.14\\nSept. 6, 2022\\n Download\\nRelease Notes\\n\\n\\nPython 3.9.14\\nSept. 6, 2022\\n Download\\nRelease Notes\\n\\n\\nPython 3.10.7\\nSept. 6, 2022\\n Download\\nRelease Notes\\n\\n\\nPython 3.10.6\\nAug. 2, 2022\\n Download\\nRelease Notes\\n\\n\\nPython 3.10.5\\nJune 6, 2022\\n Download\\nRelease Notes\\n\\n\\nPython 3.9.13\\nMay 17, 2022\\n Download\\nRelease Notes\\n\\n\\nPython 3.10.4\\nMarch 24, 2022\\n Download\\nRelease Notes\\n\\n\\nPython 3.9.12\\nMarch 23, 2022\\n Download\\nRelease Notes\\n\\n\\nPython 3.10.3\\nMarch 16, 2022\\n Download\\nRelease Notes\\n\\n\\nPython 3.9.11\\nMarch 16, 2022\\n Download\\nRelease Notes\\n\\n\\nPython 3.8.13\\nMarch 16, 2022\\n Download\\nRelease Notes\\n\\n\\nPython 3.7.13\\nMarch 16, 2022\\n Download\\nRelease Notes\\n\\n\\nPython 3.9.10\\nJan. 14, 2022\\n Download\\nRelease Notes\\n\\n\\nPython 3.10.2\\nJan. 14, 2022\\n Download\\nRelease Notes\\n\\n\\nPython 3.10.1\\nDec. 6, 2021\\n Download\\nRelease Notes\\n\\n\\nPython 3.9.9\\nNov. 15, 2021\\n Download\\nRelease Notes\\n\\n\\nPython 3.9.8\\nNov. 5, 2021\\n Download\\nRelease Notes\\n\\n\\nPython 3.10.0\\nOct. 4, 2021\\n Download\\nRelease Notes\\n\\n\\nPython 3.7.12\\nSept. 4, 2021\\n Download\\nRelease Notes\\n\\n\\nPython 3.6.15\\nSept. 4, 2021\\n Download\\nRelease Notes\\n\\n\\nPython 3.9.7\\nAug. 30, 2021\\n Download\\nRelease Notes\\n\\n\\nPython 3.8.12\\nAug. 30, 2021\\n Download\\nRelease Notes\\n\\n\\nPython 3.9.6\\nJune 28, 2021\\n Download\\nRelease Notes\\n\\n\\nPython 3.8.11\\nJune 28, 2021\\n Download\\nRelease Notes\\n\\n\\nPython 3.7.11\\nJune 28, 2021\\n Download\\nRelease Notes\\n\\n\\nPython 3.6.14\\nJune 28, 2021\\n Download\\nRelease Notes\\n\\n\\nPython 3.9.5\\nMay 3, 2021\\n Download\\nRelease Notes\\n\\n\\nPython 3.8.10\\nMay 3, 2021\\n Download\\nRelease Notes\\n\\n\\nPython 3.9.4\\nApril 4, 2021\\n Download\\nRelease Notes\\n\\n\\nPython 3.8.9\\nApril 2, 2021\\n Download\\nRelease Notes\\n\\n\\nPython 3.9.2\\nFeb. 19, 2021\\n Download\\nRelease Notes\\n\\n\\nPython 3.8.8\\nFeb. 19, 2021\\n Download\\nRelease Notes\\n\\n\\nPython 3.6.13\\nFeb. 15, 2021\\n Download\\nRelease Notes\\n\\n\\nPython 3.7.10\\nFeb. 15, 2021\\n Download\\nRelease Notes\\n\\n\\nPython 3.8.7\\nDec. 21, 2020\\n Download\\nRelease Notes\\n\\n\\nPython 3.9.1\\nDec. 7, 2020\\n Download\\nRelease Notes\\n\\n\\nPython 3.9.0\\nOct. 5, 2020\\n Download\\nRelease Notes\\n\\n\\nPython 3.8.6\\nSept. 24, 2020\\n Download\\nRelease Notes\\n\\n\\nPython 3.5.10\\nSept. 5, 2020\\n Download\\nRelease Notes\\n\\n\\nPython 3.7.9\\nAug. 17, 2020\\n Download\\nRelease Notes\\n\\n\\nPython 3.6.12\\nAug. 17, 2020\\n Download\\nRelease Notes\\n\\n\\nPython 3.8.5\\nJuly 20, 2020\\n Download\\nRelease Notes\\n\\n\\nPython 3.8.4\\nJuly 13, 2020\\n Download\\nRelease Notes\\n\\n\\nPython 3.7.8\\nJune 27, 2020\\n Download\\nRelease Notes\\n\\n\\nPython 3.6.11\\nJune 27, 2020\\n Download\\nRelease Notes\\n\\n\\nPython 3.8.3\\nMay 13, 2020\\n Download\\nRelease Notes\\n\\n\\nPython 2.7.18\\nApril 20, 2020\\n Download\\nRelease Notes\\n\\n\\nPython 3.7.7\\nMarch 10, 2020\\n Download\\nRelease Notes\\n\\n\\nPython 3.8.2\\nFeb. 24, 2020\\n Download\\nRelease Notes\\n\\n\\nPython 3.8.1\\nDec. 18, 2019\\n Download\\nRelease Notes\\n\\n\\nPython 3.7.6\\nDec. 18, 2019\\n Download\\nRelease Notes\\n\\n\\nPython 3.6.10\\nDec. 18, 2019\\n Download\\nRelease Notes\\n\\n\\nPython 3.5.9\\nNov. 2, 2019\\n Download\\nRelease Notes\\n\\n\\nPython 3.5.8\\nOct. 29, 2019\\n Download\\nRelease Notes\\n\\n\\nPython 2.7.17\\nOct. 19, 2019\\n Download\\nRelease Notes\\n\\n\\nPython 3.7.5\\nOct. 15, 2019\\n Download\\nRelease Notes\\n\\n\\nPython 3.8.0\\nOct. 14, 2019\\n Download\\nRelease Notes\\n\\n\\nPython 3.7.4\\nJuly 8, 2019\\n Download\\nRelease Notes\\n\\n\\nPython 3.6.9\\nJuly 2, 2019\\n Download\\nRelease Notes\\n\\n\\nPython 3.7.3\\nMarch 25, 2019\\n Download\\nRelease Notes\\n\\n\\nPython 3.4.10\\nMarch 18, 2019\\n Download\\nRelease Notes\\n\\n\\nPython 3.5.7\\nMarch 18, 2019\\n Download\\nRelease Notes\\n\\n\\nPython 2.7.16\\nMarch 4, 2019\\n Download\\nRelease Notes\\n\\n\\nPython 3.7.2\\nDec. 24, 2018\\n Download\\nRelease Notes\\n\\n\\nPython 3.6.8\\nDec. 24, 2018\\n Download\\nRelease Notes\\n\\n\\nPython 3.7.1\\nOct. 20, 2018\\n Download\\nRelease Notes\\n\\n\\nPython 3.6.7\\nOct. 20, 2018\\n Download\\nRelease Notes\\n\\n\\nPython 3.5.6\\nAug. 2, 2018\\n Download\\nRelease Notes\\n\\n\\nPython 3.4.9\\nAug. 2, 2018\\n Download\\nRelease Notes\\n\\n\\nPython 3.7.0\\nJune 27, 2018\\n Download\\nRelease Notes\\n\\n\\nPython 3.6.6\\nJune 27, 2018\\n Download\\nRelease Notes\\n\\n\\nPython 2.7.15\\nMay 1, 2018\\n Download\\nRelease Notes\\n\\n\\nPython 3.6.5\\nMarch 28, 2018\\n Download\\nRelease Notes\\n\\n\\nPython 3.4.8\\nFeb. 5, 2018\\n Download\\nRelease Notes\\n\\n\\nPython 3.5.5\\nFeb. 5, 2018\\n Download\\nRelease Notes\\n\\n\\nPython 3.6.4\\nDec. 19, 2017\\n Download\\nRelease Notes\\n\\n\\nPython 3.6.3\\nOct. 3, 2017\\n Download\\nRelease Notes\\n\\n\\nPython 3.3.7\\nSept. 19, 2017\\n Download\\nRelease Notes\\n\\n\\nPython 2.7.14\\nSept. 16, 2017\\n Download\\nRelease Notes\\n\\n\\nPython 3.4.7\\nAug. 9, 2017\\n Download\\nRelease Notes\\n\\n\\nPython 3.5.4\\nAug. 8, 2017\\n Download\\nRelease Notes\\n\\n\\nPython 3.6.2\\nJuly 17, 2017\\n Download\\nRelease Notes\\n\\n\\nPython 3.6.1\\nMarch 21, 2017\\n Download\\nRelease Notes\\n\\n\\nPython 3.4.6\\nJan. 17, 2017\\n Download\\nRelease Notes\\n\\n\\nPython 3.5.3\\nJan. 17, 2017\\n Download\\nRelease Notes\\n\\n\\nPython 3.6.0\\nDec. 23, 2016\\n Download\\nRelease Notes\\n\\n\\nPython 2.7.13\\nDec. 17, 2016\\n Download\\nRelease Notes\\n\\n\\nPython 3.4.5\\nJune 27, 2016\\n Download\\nRelease Notes\\n\\n\\nPython 3.5.2\\nJune 27, 2016\\n Download\\nRelease Notes\\n\\n\\nPython 2.7.12\\nJune 25, 2016\\n Download\\nRelease Notes\\n\\n\\nPython 3.4.4\\nDec. 21, 2015\\n Download\\nRelease Notes\\n\\n\\nPython 3.5.1\\nDec. 7, 2015\\n Download\\nRelease Notes\\n\\n\\nPython 2.7.11\\nDec. 5, 2015\\n Download\\nRelease Notes\\n\\n\\nPython 3.5.0\\nSept. 13, 2015\\n Download\\nRelease Notes\\n\\n\\nPython 2.7.10\\nMay 23, 2015\\n Download\\nRelease Notes\\n\\n\\nPython 3.4.3\\nFeb. 25, 2015\\n Download\\nRelease Notes\\n\\n\\nPython 2.7.9\\nDec. 10, 2014\\n Download\\nRelease Notes\\n\\n\\nPython 3.4.2\\nOct. 13, 2014\\n Download\\nRelease Notes\\n\\n\\nPython 3.3.6\\nOct. 12, 2014\\n Download\\nRelease Notes\\n\\n\\nPython 3.2.6\\nOct. 12, 2014\\n Download\\nRelease Notes\\n\\n\\nPython 2.7.8\\nJuly 2, 2014\\n Download\\nRelease Notes\\n\\n\\nPython 2.7.7\\nJune 1, 2014\\n Download\\nRelease Notes\\n\\n\\nPython 3.4.1\\nMay 19, 2014\\n Download\\nRelease Notes\\n\\n\\nPython 3.4.0\\nMarch 17, 2014\\n Download\\nRelease Notes\\n\\n\\nPython 3.3.5\\nMarch 9, 2014\\n Download\\nRelease Notes\\n\\n\\nPython 3.3.4\\nFeb. 9, 2014\\n Download\\nRelease Notes\\n\\n\\nPython 3.3.3\\nNov. 17, 2013\\n Download\\nRelease Notes\\n\\n\\nPython 2.7.6\\nNov. 10, 2013\\n Download\\nRelease Notes\\n\\n\\nPython 2.6.9\\nOct. 29, 2013\\n Download\\nRelease Notes\\n\\n\\nPython 3.2.5\\nMay 15, 2013\\n Download\\nRelease Notes\\n\\n\\nPython 3.3.2\\nMay 15, 2013\\n Download\\nRelease Notes\\n\\n\\nPython 2.7.5\\nMay 12, 2013\\n Download\\nRelease Notes\\n\\n\\nPython 2.7.4\\nApril 6, 2013\\n Download\\nRelease Notes\\n\\n\\nPython 3.3.1\\nApril 6, 2013\\n Download\\nRelease Notes\\n\\n\\nPython 3.2.4\\nApril 6, 2013\\n Download\\nRelease Notes\\n\\n\\nPython 3.3.0\\nSept. 29, 2012\\n Download\\nRelease Notes\\n\\n\\nPython 2.6.8\\nApril 10, 2012\\n Download\\nRelease Notes\\n\\n\\nPython 3.2.3\\nApril 10, 2012\\n Download\\nRelease Notes\\n\\n\\nPython 2.7.3\\nApril 9, 2012\\n Download\\nRelease Notes\\n\\n\\nPython 3.1.5\\nApril 9, 2012\\n Download\\nRelease Notes\\n\\n\\nPython 3.2.2\\nSept. 3, 2011\\n Download\\nRelease Notes\\n\\n\\nPython 3.2.1\\nJuly 9, 2011\\n Download\\nRelease Notes\\n\\n\\nPython 2.7.2\\nJune 11, 2011\\n Download\\nRelease Notes\\n\\n\\nPython 3.1.4\\nJune 11, 2011\\n Download\\nRelease Notes\\n\\n\\nPython 2.6.7\\nJune 3, 2011\\n Download\\nRelease Notes\\n\\n\\nPython 2.5.6\\nMay 26, 2011\\n Download\\nRelease Notes\\n\\n\\nPython 3.2.0\\nFeb. 20, 2011\\n Download\\nRelease Notes\\n\\n\\nPython 3.1.3\\nNov. 27, 2010\\n Download\\nRelease Notes\\n\\n\\nPython 2.7.1\\nNov. 27, 2010\\n Download\\nRelease Notes\\n\\n\\nPython 2.6.6\\nAug. 24, 2010\\n Download\\nRelease Notes\\n\\n\\nPython 2.7.0\\nJuly 3, 2010\\n Download\\nRelease Notes\\n\\n\\nPython 3.1.2\\nMarch 20, 2010\\n Download\\nRelease Notes\\n\\n\\nPython 2.6.5\\nMarch 18, 2010\\n Download\\nRelease Notes\\n\\n\\nPython 2.5.5\\nJan. 31, 2010\\n Download\\nRelease Notes\\n\\n\\nPython 2.6.4\\nOct. 26, 2009\\n Download\\nRelease Notes\\n\\n\\nPython 2.6.3\\nOct. 2, 2009\\n Download\\nRelease Notes\\n\\n\\nPython 3.1.1\\nAug. 17, 2009\\n Download\\nRelease Notes\\n\\n\\nPython 3.1.0\\nJune 26, 2009\\n Download\\nRelease Notes\\n\\n\\nPython 2.6.2\\nApril 14, 2009\\n Download\\nRelease Notes\\n\\n\\nPython 3.0.1\\nFeb. 13, 2009\\n Download\\nRelease Notes\\n\\n\\nPython 2.5.4\\nDec. 23, 2008\\n Download\\nRelease Notes\\n\\n\\nPython 2.4.6\\nDec. 19, 2008\\n Download\\nRelease Notes\\n\\n\\nPython 2.5.3\\nDec. 19, 2008\\n Download\\nRelease Notes\\n\\n\\nPython 2.6.1\\nDec. 4, 2008\\n Download\\nRelease Notes\\n\\n\\nPython 3.0.0\\nDec. 3, 2008\\n Download\\nRelease Notes\\n\\n\\nPython 2.6.0\\nOct. 2, 2008\\n Download\\nRelease Notes\\n\\n\\nPython 2.4.5\\nMarch 11, 2008\\n Download\\nRelease Notes\\n\\n\\nPython 2.3.7\\nMarch 11, 2008\\n Download\\nRelease Notes\\n\\n\\nPython 2.5.2\\nFeb. 21, 2008\\n Download\\nRelease Notes\\n\\n\\nPython 2.5.1\\nApril 19, 2007\\n Download\\nRelease Notes\\n\\n\\nPython 2.3.6\\nNov. 1, 2006\\n Download\\nRelease Notes\\n\\n\\nPython 2.4.4\\nOct. 18, 2006\\n Download\\nRelease Notes\\n\\n\\nPython 2.5.0\\nSept. 19, 2006\\n Download\\nRelease Notes\\n\\n\\nPython 2.4.3\\nApril 15, 2006\\n Download\\nRelease Notes\\n\\n\\nPython 2.4.2\\nSept. 27, 2005\\n Download\\nRelease Notes\\n\\n\\nPython 2.4.1\\nMarch 30, 2005\\n Download\\nRelease Notes\\n\\n\\nPython 2.3.5\\nFeb. 8, 2005\\n Download\\nRelease Notes\\n\\n\\nPython 2.4.0\\nNov. 30, 2004\\n Download\\nRelease Notes\\n\\n\\nPython 2.3.4\\nMay 27, 2004\\n Download\\nRelease Notes\\n\\n\\nPython 2.3.3\\nDec. 19, 2003\\n Download\\nRelease Notes\\n\\n\\nPython 2.3.2\\nOct. 3, 2003\\n Download\\nRelease Notes\\n\\n\\nPython 2.3.1\\nSept. 23, 2003\\n Download\\nRelease Notes\\n\\n\\nPython 2.3.0\\nJuly 29, 2003\\n Download\\nRelease Notes\\n\\n\\nPython 2.2.3\\nMay 30, 2003\\n Download\\nRelease Notes\\n\\n\\nPython 2.2.2\\nOct. 14, 2002\\n Download\\nRelease Notes\\n\\n\\nPython 2.2.1\\nApril 10, 2002\\n Download\\nRelease Notes\\n\\n\\nPython 2.1.3\\nApril 9, 2002\\n Download\\nRelease Notes\\n\\n\\nPython 2.2.0\\nDec. 21, 2001\\n Download\\nRelease Notes\\n\\n\\nPython 2.0.1\\nJune 22, 2001\\n Download\\nRelease Notes\\n\\n\\nView older releases\\n\\n\\n\\nSponsors\\nVisionary sponsors help to host Python downloads.\\n\\n\\n\\n\\n\\n\\n\\n\\n\\nLicenses\\nAll Python releases are Open Source. Historically, most, but not all, Python releases have also been GPL-compatible. The Licenses page details GPL-compatibility and Terms and Conditions. \\nRead more\\n\\n\\nSources\\nFor most Unix systems, you must download and compile the source code. The same source code archive can also be used to build the Windows and Mac versions, and is the starting point for ports to all other platforms.\\nDownload the latest Python 3 source.\\nRead more\\n\\n\\nAlternative Implementations\\nThis site hosts the \"traditional\" implementation of Python (nicknamed CPython). A number of alternative implementations are available as well. \\nRead more\\n\\n\\nHistory\\nPython was created in the early 1990s by Guido van Rossum at Stichting Mathematisch Centrum in the Netherlands as a successor of a language called ABC. Guido remains Python’s principal author, although it includes many contributions from others. \\nRead more\\n\\n\\n\\nRelease Schedules\\n\\nPython 3.13 Release Schedule\\nPython 3.12 Release Schedule\\nPython 3.11 Release Schedule\\nPython 3.10 Release Schedule\\nPython 3.9 Release Schedule\\nPython 3.8 Release Schedule\\n\\n\\nSee Status of Python Versions for all an overview of all versions, including unsupported.\\n\\n\\nInformation about specific ports, and developer info\\n\\nWindows\\nmacOS\\nOther platforms\\nSource\\nPython Developer\\'s Guide\\nPython Issue Tracker\\n\\n\\n\\nOpenPGP Public Keys\\n\\r\\nSource and binary executables are signed by the release manager or binary builder using their\\r\\nOpenPGP key.  Release files for currently supported releases are signed by the following:\\r\\n\\n\\nThomas Wouters (3.12.x and 3.13.x source files and tags) (key id: A821E680E5FA6305)\\nPablo Galindo Salgado (3.10.x and 3.11.x source files and tags) (key id: 64E628F8D684696D)\\nSteve Dower (Windows binaries) (key id: FC62 4643 4870 34E5)\\nŁukasz Langa (3.8.x and 3.9.x source files and tags) (key id: B269 95E3 1025 0568)\\nNed Deily (macOS binaries, 3.7.x / 3.6.x source files and tags) (key ids: 2D34 7EA6 AA65 421D and FB99 2128 6F5E 1540\\nLarry Hastings (3.5.x source files and tags) (key id: 3A5C A953 F73C 700D)\\nBenjamin Peterson (2.7.z source files and tags) (key id: 04C3 67C2 18AD D4FF and A4135B38)\\n\\n\\n\\r\\nRelease files for older releases which have now reached end-of-life may have been signed by one of the following:\\r\\n\\n\\nAnthony Baxter (key id: 0EDD C5F2 6A45 C816)\\nGeorg Brandl (key id: 0A5B 1018 3658 0288)\\nMartin v. Löwis (key id: 6AF0 53F0 7D9D C8D2)\\nRonald Oussoren (key id: C9BE 28DE E6DF 025C)\\nBarry Warsaw (key ids: 126E B563 A74B 06BF, D986 6941 EA5B BD71, and ED9D77D5)\\n\\n\\nYou can import a person\\'s public keys from a public keyserver network server\\r\\nyou trust by running a command like:\\n\\r\\ngpg --recv-keys [key id]\\r\\n\\n\\r\\nor, in many cases, public keys can also be found\\r\\nat keybase.io.\\r\\nOn the version-specific download pages, you should see a link to both the\\r\\ndownloadable file and a detached signature file.  To verify the authenticity\\r\\nof the download, grab both files and then run this command:\\n\\r\\ngpg --verify Python-3.6.2.tgz.asc\\r\\n\\nNote that you must use the name of the signature file, and you should use the\\r\\none that\\'s appropriate to the download you\\'re verifying.\\n\\n(These instructions are geared to\\r\\nGnuPG and Unix command-line users.)\\r\\n\\n\\nmacOS Installer Packages\\n\\r\\nInstaller packages for Python on macOS downloadable from python.org are signed with\\r\\nwith an Apple Developer ID Installer certificate.\\r\\n\\n\\n\\r\\nAs of Python 3.11.4 and 3.12.0b1 (2023-05-23), release installer packages are signed with certificates issued to the Python Software Foundation (Apple Developer ID BMM5U3QVKW)).\\r\\n\\n\\r\\nInstaller packages for previous releases were signed with certificates issued to Ned Deily (DJ3H93M7VJ).\\r\\n\\n\\nOther Useful Items\\n\\nLooking for 3rd party Python modules?  The\\r\\nPackage Index has many of them.\\nYou can view the standard documentation\\r\\nonline, or you can download it\\r\\nin HTML, PostScript, PDF and other formats.  See the main\\r\\nDocumentation page.\\nInformation on tools for unpacking archive files\\r\\nprovided on python.org is available.\\nTip: even if you download a ready-made binary for your\\r\\nplatform, it makes sense to also download the source.\\r\\nThis lets you browse the standard library (the subdirectory Lib)\\r\\nand the standard collections of demos (Demo) and tools\\r\\n(Tools) that come with it.  There\\'s a lot you can learn from the\\r\\nsource!\\nThere is also a collection of Emacs packages\\r\\nthat the Emacsing Pythoneer might find useful.  This includes major\\r\\nmodes for editing Python, C, C++, Java, etc., Python debugger\\r\\ninterfaces and more.  Most packages are compatible with Emacs and\\r\\nXEmacs.\\n\\nWant to contribute?\\nWant to contribute?  See the Python Developer\\'s Guide\\r\\nto learn about how Python development is managed.\\n\\n\\n\\n\\n\\n\\n\\n\\n\\n▲ Back to Top\\n\\n\\nAbout\\n\\nApplications\\nQuotes\\nGetting Started\\nHelp\\nPython Brochure\\n\\n\\n\\nDownloads\\n\\nAll releases\\nSource code\\nWindows\\nmacOS\\nOther Platforms\\nLicense\\nAlternative Implementations\\n\\n\\n\\nDocumentation\\n\\nDocs\\nAudio/Visual Talks\\nBeginner\\'s Guide\\nDeveloper\\'s Guide\\nFAQ\\nNon-English Docs\\nPEP Index\\nPython Books\\nPython Essays\\n\\n\\n\\nCommunity\\n\\nDiversity\\nMailing Lists\\nIRC\\nForums\\nPSF Annual Impact Report\\nPython Conferences\\nSpecial Interest Groups\\nPython Logo\\nPython Wiki\\nCode of Conduct\\nCommunity Awards\\nGet Involved\\nShared Stories\\n\\n\\n\\nSuccess Stories\\n\\nArts\\nBusiness\\nEducation\\nEngineering\\nGovernment\\nScientific\\nSoftware Development\\n\\n\\n\\nNews\\n\\nPython News\\nPSF Newsletter\\nPSF News\\nPyCon US News\\nNews from the Community\\n\\n\\n\\nEvents\\n\\nPython Events\\nUser Group Events\\nPython Events Archive\\nUser Group Events Archive\\nSubmit an Event\\n\\n\\n\\nContributing\\n\\nDeveloper\\'s Guide\\nIssue Tracker\\npython-dev list\\nCore Mentorship\\nReport a Security Issue\\n\\n\\n\\n▲ Back to Top\\n\\n \\n\\n\\n\\nHelp & General Contact\\nDiversity Initiatives\\nSubmit Website Bug\\n\\nStatus \\n\\n\\n\\n\\nCopyright ©2001-2024.\\n                            \\xa0Python Software Foundation\\n                            \\xa0Legal Statements\\n                            \\xa0Privacy Policy'"
      ]
     },
     "execution_count": 61,
     "metadata": {},
     "output_type": "execute_result"
    }
   ],
   "source": [
    "search_online(\"scrape\", url=results[0][\"href\"])"
   ]
  },
  {
   "cell_type": "code",
   "execution_count": null,
   "metadata": {},
   "outputs": [],
   "source": [
    "from typing_extensions import override\n",
    "from openai import AssistantEventHandler\n",
    "\n",
    "\n",
    "class FunctionCallHandler(AssistantEventHandler):\n",
    "    @override\n",
    "    def on_event(self, event):\n",
    "        if event.event == \"thread.run.requires_action\":\n",
    "            run_id = event.data.id\n",
    "            self.handle_requires_action(event.data, run_id)\n",
    "\n",
    "    def handle_requires_action(self, data, run_id):\n",
    "        tool_outputs = []\n",
    "\n",
    "        for tool in data.required_action.submit_tool_outputs.tool_calls:\n",
    "            if tool.function.name == \"query_database\":\n",
    "                tool_outputs.append(\n",
    "                    {\n",
    "                        \"tool_call_id\": tool.id,\n",
    "                        \"output\": query_db(**data.function.arguments),\n",
    "                    }\n",
    "                )\n",
    "            elif tool.function.name == \"search_online\":\n",
    "                tool_outputs.append({\"tool_call_id\": tool.id, \"output\": search_online(**data.function.arguments)})\n",
    "\n",
    "        # Submit all tool_outputs at the same time\n",
    "        self.submit_tool_outputs(tool_outputs, run_id)\n",
    "\n",
    "    def submit_tool_outputs(self, tool_outputs, run_id):\n",
    "        # Use the submit_tool_outputs_stream helper\n",
    "        with client.beta.threads.runs.submit_tool_outputs_stream(\n",
    "            thread_id=self.current_run.thread_id,\n",
    "            run_id=self.current_run.id,\n",
    "            tool_outputs=tool_outputs,\n",
    "            event_handler=FunctionCallHandler(),\n",
    "        ) as stream:\n",
    "            for text in stream.text_deltas:\n",
    "                print(text, end=\"\", flush=True)\n",
    "\n",
    "            print()"
   ]
  },
  {
   "cell_type": "code",
   "execution_count": 23,
   "metadata": {},
   "outputs": [],
   "source": [
    "SYSTEM_PROMPT = \"\"\"\n",
    "# Mission:\n",
    "You are an AI Agent that helps employees answer questions they might have about everything related to software vendors.\n",
    "You will be asked questions such as \"Do we have a vendor for cloud storage?\" or \"I need a tool for project management\".\n",
    "You should use the tools available to you as well as semantic search on the documents you have access to to answer these questions.\n",
    "\n",
    "# Guidelines:\n",
    "For \"Do we have a vendor for cloud storage?\", you could use the `query_database` to query the contracts database for cloud storage vendors.\n",
    "Then you could search your document repository for information on the vendors you found.\n",
    "If none are found, then you might search online using the `search_online` tool to discover new vendors.\n",
    "Or, for the question \"I need a tool for project management\", if you cannot find a relevant vendor in the database,\n",
    "  you could use the `search_online` tool to find out if any existing vendors provide project management tools.\n",
    "\n",
    "# Constraints:\n",
    "You should always try and find relevant information from the database.\n",
    "You should only fall back to your existing knowledge of vendors to help you come up with good search queries, not to answer the questions directly.\n",
    "You should not use the `search_online` tool to answer questions that can be answered using the tools you have access to.\n",
    "You should only use your document retrieval system to find extra information related to vendors found in the database or online - essentially to enrich your knowledge before answering.\n",
    "Don't make assumptions about what values to plug into functions. Ask for clarification if a user request is ambiguous.\n",
    "\"\"\".strip()\n"
   ]
  },
  {
   "cell_type": "code",
   "execution_count": null,
   "metadata": {},
   "outputs": [],
   "source": [
    "messages = [\n",
    "    {\"role\": \"system\", \"content\": \"Don't make assumptions about what values to plug into functions. Ask for clarification if a user request is ambiguous.\"},\n",
    "    {\"role\": \"user\", \"content\": \"Can you find me\"},\n",
    "]"
   ]
  }
 ],
 "metadata": {
  "kernelspec": {
   "display_name": "validmind-mI3jzOkk-py3.11",
   "language": "python",
   "name": "python3"
  },
  "language_info": {
   "codemirror_mode": {
    "name": "ipython",
    "version": 3
   },
   "file_extension": ".py",
   "mimetype": "text/x-python",
   "name": "python",
   "nbconvert_exporter": "python",
   "pygments_lexer": "ipython3",
   "version": "3.11.9"
  }
 },
 "nbformat": 4,
 "nbformat_minor": 2
}
