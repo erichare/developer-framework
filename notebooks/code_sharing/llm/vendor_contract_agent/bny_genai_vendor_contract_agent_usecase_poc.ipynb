{
 "cells": [
  {
   "cell_type": "markdown",
   "metadata": {},
   "source": [
    "# BNY Vendor Contract QA Agent Documentation POC"
   ]
  },
  {
   "cell_type": "markdown",
   "metadata": {},
   "source": [
    "## Pre-requisites"
   ]
  },
  {
   "cell_type": "code",
   "execution_count": 1,
   "metadata": {},
   "outputs": [
    {
     "name": "stdout",
     "output_type": "stream",
     "text": [
      "Note: you may need to restart the kernel to use updated packages.\n"
     ]
    }
   ],
   "source": [
    "%pip install duckduckgo-search beautifulsoup4 --quiet"
   ]
  },
  {
   "cell_type": "code",
   "execution_count": 2,
   "metadata": {
    "metadata": {}
   },
   "outputs": [],
   "source": [
    "# load openai api key\n",
    "import os\n",
    "\n",
    "from dotenv import load_dotenv\n",
    "load_dotenv()\n",
    "\n",
    "if not 'OPENAI_API_KEY' in os.environ:\n",
    "    raise ValueError('OPENAI_API_KEY is not set')\n",
    "\n",
    "GPT_MODEL = \"gpt-3.5-turbo\"\n",
    "os.environ[\"OPENAI_GPT_MODEL\"] = GPT_MODEL"
   ]
  },
  {
   "cell_type": "code",
   "execution_count": 3,
   "metadata": {},
   "outputs": [],
   "source": [
    "import sys\n",
    "\n",
    "sys.path.append(os.getcwd())\n",
    "\n",
    "from utils import (\n",
    "    client,\n",
    "    init_db,\n",
    "    get_schema_description,\n",
    "    get_tools_spec,\n",
    "    show_json,\n",
    ")"
   ]
  },
  {
   "cell_type": "code",
   "execution_count": 4,
   "metadata": {},
   "outputs": [],
   "source": [
    "init_db()"
   ]
  },
  {
   "cell_type": "markdown",
   "metadata": {},
   "source": [
    "# Create Agent"
   ]
  },
  {
   "cell_type": "markdown",
   "metadata": {},
   "source": [
    "### Load Tools and DB Schema Spec"
   ]
  },
  {
   "cell_type": "code",
   "execution_count": 5,
   "metadata": {},
   "outputs": [
    {
     "name": "stdout",
     "output_type": "stream",
     "text": [
      "Loaded 2 tool definitions\n",
      "[\n",
      "      {\n",
      "            \"type\": \"function\",\n",
      "            \"function\": {\n",
      "                  \"name\": \"query_database\",\n",
      "                  \"description\": \"Query the contract database to retrieve information about contracts with a particular vendor\",\n",
      "                  \"parameters\": {\n",
      "                        \"type\": \"object\",\n",
      "                        \"properties\": {\n",
      "                              \"query\": {\n",
      "                                    \"type\": \"string\",\n",
      "                                    \"description\": \"SQL query to execute against the database\"\n",
      "                              }\n",
      "                        },\n",
      "                        \"required\": [\n",
      "                              \"query\"\n",
      "                        ]\n",
      "                  }\n",
      "            }\n",
      "      },\n",
      "      {\n",
      "            \"type\": \"function\",\n",
      "            \"function\": {\n",
      "                  \"name\": \"search_online\",\n",
      "                  \"description\": \"Search the web for information\",\n",
      "                  \"parameters\": {\n",
      "                        \"type\": \"object\",\n",
      "                        \"properties\": {\n",
      "                              \"search_type\": {\n",
      "                                    \"type\": \"string\",\n",
      "                                    \"description\": \"The type of search to do. `browse` will use a search engine to retrieve the top results for a query. `scrape` will scrape the text for a given URL.\",\n",
      "                                    \"enum\": [\n",
      "                                          \"browse\",\n",
      "                                          \"scrape\"\n",
      "                                    ]\n",
      "                              },\n",
      "                              \"query\": {\n",
      "                                    \"type\": \"string\",\n",
      "                                    \"description\": \"The query to search for. Required if `search_type` is `browse`.\"\n",
      "                              },\n",
      "                              \"url\": {\n",
      "                                    \"type\": \"string\",\n",
      "                                    \"description\": \"The URL to scrape. Required if `search_type` is `scrape`.\"\n",
      "                              }\n",
      "                        },\n",
      "                        \"required\": [\n",
      "                              \"search_type\"\n",
      "                        ]\n",
      "                  }\n",
      "            }\n",
      "      }\n",
      "]\n"
     ]
    }
   ],
   "source": [
    "tools_spec = get_tools_spec()"
   ]
  },
  {
   "cell_type": "code",
   "execution_count": 6,
   "metadata": {},
   "outputs": [
    {
     "name": "stdout",
     "output_type": "stream",
     "text": [
      "Table: vendors\n",
      "  vendor_id: TEXT\n",
      "  vendor_name: TEXT\n",
      "  category: TEXT\n",
      "  total_spend: INTEGER\n",
      "  contracts: TEXT\n",
      "Table: contracts\n",
      "  contract_id: TEXT\n",
      "  vendor_id: TEXT\n",
      "  start_date: TEXT\n",
      "  end_date: TEXT\n",
      "  contract_value: INTEGER\n",
      "  terms_conditions: TEXT\n",
      "  products_description: TEXT\n",
      "\n"
     ]
    }
   ],
   "source": [
    "print(get_schema_description())"
   ]
  },
  {
   "cell_type": "markdown",
   "metadata": {},
   "source": [
    "### Create an Assistant"
   ]
  },
  {
   "cell_type": "code",
   "execution_count": 7,
   "metadata": {},
   "outputs": [],
   "source": [
    "AGENT_SYSTEM_PROMPT = f\"\"\"\n",
    "# Mission:\n",
    "You are an AI Agent that helps employees answer questions they might have about everything related to software vendors.\n",
    "You will be asked questions such as \"Do we have a vendor for cloud storage?\" or \"I need a tool for project management\".\n",
    "You should use the tools available to you as well as semantic search on the documents you have access to to answer these questions.\n",
    "\n",
    "# Guidelines:\n",
    "For \"Do we have a vendor for cloud storage?\", you could use the `query_database` to query the contracts database for cloud storage vendors.\n",
    "Then you could search your document repository for information on the vendors you found.\n",
    "If none are found, then you might search online using the `search_online` tool to discover new vendors.\n",
    "Or, for the question \"I need a tool for project management\", if you cannot find a relevant vendor in the database,\n",
    "  you could use the `search_online` tool to find out if any existing vendors provide project management tools.\n",
    "\n",
    "# Constraints:\n",
    "You should always try and find relevant information from the database.\n",
    "You can search online to find new information or confirm information that you already know.\n",
    "You should only fall back to your existing knowledge of vendors to help you come up with good search queries or when you want to enrich your answers.\n",
    "  - For example, if the user is asking for a certain product and you find a vendor in the db that doesn't mention that product but you know they offer it, you can share that with the user.\n",
    "You should only use your document retrieval system to find extra information related to vendors found in the database or online - essentially to enrich your knowledge before answering.\n",
    "Don't make assumptions about what values to plug into functions. Ask for clarification if a user request is ambiguous.\n",
    "\n",
    "# DB Schema:\n",
    "{get_schema_description()}\n",
    "\"\"\".strip()\n",
    "\n",
    "\n",
    "# Create an agent using the OpenAI Assistants API\n",
    "# agent = client.beta.assistants.create(\n",
    "#     name=\"Vendor Contract Q/A Assistant\",\n",
    "#     instructions=AGENT_SYSTEM_PROMPT,\n",
    "#     model=\"gpt-4-turbo\",\n",
    "#     tools=tools_spec,\n",
    "# )\n",
    "# show_json(agent)\n",
    "# AGENT_ID = agent.id\n",
    "\n",
    "# Or use an existing agent\n",
    "AGENT_ID = \"asst_sAavPqXvzJNzFtoUmtfF0qCj\""
   ]
  },
  {
   "cell_type": "markdown",
   "metadata": {},
   "source": [
    "# Use the Agent"
   ]
  },
  {
   "cell_type": "code",
   "execution_count": 8,
   "metadata": {},
   "outputs": [],
   "source": [
    "from utils import AgentEventHandler\n",
    "\n",
    "os.environ[\"DEBUG\"] = \"0\"\n",
    "\n",
    "thread = client.beta.threads.create()\n",
    "\n",
    "\n",
    "def send_message(user_message):\n",
    "    message = client.beta.threads.messages.create(\n",
    "        thread_id=thread.id,\n",
    "        role=\"user\",\n",
    "        content=user_message,\n",
    "    )\n",
    "    \n",
    "    with client.beta.threads.runs.stream(\n",
    "        thread_id=thread.id,\n",
    "        assistant_id=AGENT_ID,\n",
    "        event_handler=AgentEventHandler()\n",
    "    ) as stream:\n",
    "        stream.until_done()"
   ]
  },
  {
   "cell_type": "code",
   "execution_count": 9,
   "metadata": {},
   "outputs": [
    {
     "name": "stdout",
     "output_type": "stream",
     "text": [
      "> Querying database with:  {'query': \"SELECT vendor_name FROM vendors WHERE category = 'Database Services' OR category = 'Cloud Computing'\"}\n",
      "> Result:  [[\"Amazon Web Services\"]]\n",
      "\n",
      "\n",
      "> Searching online with:  {'search_type': 'browse', 'query': 'Amazon Web Services serverless MySQL'}\n",
      "> Result:  Error calling tool: search_online: https://links.duckduckgo.com/d.js?q=Amazon+Web+Services+serverless+MySQL&kl=wt-wt&l=wt-wt&p=&s=0&df=&vqd=4-37991713874655709774203304645897858903&ex=-1 202 Ratelimit\n",
      "\n",
      "\n",
      "> Receiving message from agent:\n"
     ]
    },
    {
     "data": {
      "application/vnd.jupyter.widget-view+json": {
       "model_id": "17af58339d864013bbb7b1d5a292694d",
       "version_major": 2,
       "version_minor": 0
      },
      "text/plain": [
       "HTML(value='\\n<div id=\"message_container\">\\n\\n</div>\\n<style>\\n#message_container {\\n    padding: 10px;\\n    b…"
      ]
     },
     "metadata": {},
     "output_type": "display_data"
    },
    {
     "name": "stdout",
     "output_type": "stream",
     "text": [
      "\n",
      "\n"
     ]
    }
   ],
   "source": [
    "send_message(\"Can you find me a vendor that might offer a serverless mysql db?\")"
   ]
  },
  {
   "cell_type": "code",
   "execution_count": 10,
   "metadata": {},
   "outputs": [
    {
     "name": "stdout",
     "output_type": "stream",
     "text": [
      "> Querying database with:  {'query': \"SELECT vendors.vendor_name, contracts.products_description FROM vendors JOIN contracts ON vendors.vendor_id = contracts.vendor_id WHERE vendors.vendor_name = 'Amazon Web Services' AND (contracts.products_description LIKE '%serverless%' AND contracts.products_description LIKE '%MySQL%')\"}\n",
      "> Result:  []\n",
      "\n",
      "\n",
      "> Receiving message from agent:\n"
     ]
    },
    {
     "data": {
      "application/vnd.jupyter.widget-view+json": {
       "model_id": "0541bc0b681e408d884ace138a6f69ca",
       "version_major": 2,
       "version_minor": 0
      },
      "text/plain": [
       "HTML(value='\\n<div id=\"message_container\">\\n\\n</div>\\n<style>\\n#message_container {\\n    padding: 10px;\\n    b…"
      ]
     },
     "metadata": {},
     "output_type": "display_data"
    },
    {
     "name": "stdout",
     "output_type": "stream",
     "text": [
      "\n"
     ]
    }
   ],
   "source": [
    "send_message(\"Are you sure?\")"
   ]
  },
  {
   "cell_type": "code",
   "execution_count": 11,
   "metadata": {},
   "outputs": [
    {
     "name": "stdout",
     "output_type": "stream",
     "text": [
      "> Querying database with:  {'query': \"SELECT vendor_name, contracts FROM vendors WHERE vendor_name = 'Amazon Web Services'\"}\n",
      "> Result:  [[\"Amazon Web Services\", \"C007,C008\"]]\n",
      "\n",
      "\n",
      "> Receiving message from agent:\n"
     ]
    },
    {
     "data": {
      "application/vnd.jupyter.widget-view+json": {
       "model_id": "c74784993ea5429c8890ef0a1850fba6",
       "version_major": 2,
       "version_minor": 0
      },
      "text/plain": [
       "HTML(value='\\n<div id=\"message_container\">\\n\\n</div>\\n<style>\\n#message_container {\\n    padding: 10px;\\n    b…"
      ]
     },
     "metadata": {},
     "output_type": "display_data"
    },
    {
     "name": "stdout",
     "output_type": "stream",
     "text": [
      "\n"
     ]
    }
   ],
   "source": [
    "send_message(\"Do we have a contract or vendor relationship with AWS?\")"
   ]
  },
  {
   "cell_type": "code",
   "execution_count": 12,
   "metadata": {},
   "outputs": [
    {
     "name": "stdout",
     "output_type": "stream",
     "text": [
      "> Querying database with:  {'query': \"SELECT contracts.contract_id, contracts.vendor_id, contracts.start_date, contracts.end_date, contracts.contract_value, contracts.terms_conditions, contracts.products_description FROM contracts JOIN vendors ON contracts.vendor_id = vendors.vendor_id WHERE vendors.vendor_name = 'Amazon Web Services'\"}\n",
      "> Result:  [[\"C007\", \"V005\", \"2022-08-01\", \"2025-07-31\", 120000, \"Cloud services provisioning - unlimited consulting hours to setup and provision new AWS services for 3 years - renewal option available.\", \"Amazon Web Services (AWS) cloud services provision.\"], [\"C008\", \"V005\", \"2021-09-01\", \"2024-08-31\", 95000, \"Pay-as-you-go AWS cloud services.\", \"Amazon Web Services (AWS) cloud services\"]]\n",
      "\n",
      "\n",
      "> Receiving message from agent:\n"
     ]
    },
    {
     "data": {
      "application/vnd.jupyter.widget-view+json": {
       "model_id": "f1e7fc2aec544afc903ab1184c010bad",
       "version_major": 2,
       "version_minor": 0
      },
      "text/plain": [
       "HTML(value='\\n<div id=\"message_container\">\\n\\n</div>\\n<style>\\n#message_container {\\n    padding: 10px;\\n    b…"
      ]
     },
     "metadata": {},
     "output_type": "display_data"
    },
    {
     "name": "stdout",
     "output_type": "stream",
     "text": [
      "\n"
     ]
    }
   ],
   "source": [
    "send_message(\"Yeah can you give me a full summary of our relationship/contracts with them?\")"
   ]
  }
 ],
 "metadata": {
  "kernelspec": {
   "display_name": "Python 3 (ipykernel)",
   "language": "python",
   "name": "python3"
  },
  "language_info": {
   "codemirror_mode": {
    "name": "ipython",
    "version": 3
   },
   "file_extension": ".py",
   "mimetype": "text/x-python",
   "name": "python",
   "nbconvert_exporter": "python",
   "pygments_lexer": "ipython3",
   "version": "3.11.9"
  }
 },
 "nbformat": 4,
 "nbformat_minor": 4
}
