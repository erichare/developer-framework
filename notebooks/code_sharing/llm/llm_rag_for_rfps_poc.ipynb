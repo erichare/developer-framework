{
 "cells": [
  {
   "cell_type": "markdown",
   "metadata": {},
   "source": [
    "# RAG for Question Similarity in RFPs"
   ]
  },
  {
   "cell_type": "markdown",
   "metadata": {},
   "source": [
    "## Notebook setup"
   ]
  },
  {
   "cell_type": "code",
   "execution_count": 1,
   "metadata": {},
   "outputs": [],
   "source": [
    "import pandas as pd"
   ]
  },
  {
   "cell_type": "code",
   "execution_count": 2,
   "metadata": {},
   "outputs": [
    {
     "name": "stdout",
     "output_type": "stream",
     "text": [
      "\n",
      "\u001b[1m[\u001b[0m\u001b[34;49mnotice\u001b[0m\u001b[1;39;49m]\u001b[0m\u001b[39;49m A new release of pip is available: \u001b[0m\u001b[31;49m23.1.2\u001b[0m\u001b[39;49m -> \u001b[0m\u001b[32;49m24.0\u001b[0m\n",
      "\u001b[1m[\u001b[0m\u001b[34;49mnotice\u001b[0m\u001b[1;39;49m]\u001b[0m\u001b[39;49m To update, run: \u001b[0m\u001b[32;49mpip install --upgrade pip\u001b[0m\n",
      "Note: you may need to restart the kernel to use updated packages.\n"
     ]
    }
   ],
   "source": [
    "%pip install -qU langchain langchain-openai langchain-cohere"
   ]
  },
  {
   "cell_type": "code",
   "execution_count": 3,
   "metadata": {},
   "outputs": [
    {
     "name": "stdout",
     "output_type": "stream",
     "text": [
      "\n",
      "\u001b[1m[\u001b[0m\u001b[34;49mnotice\u001b[0m\u001b[1;39;49m]\u001b[0m\u001b[39;49m A new release of pip is available: \u001b[0m\u001b[31;49m23.1.2\u001b[0m\u001b[39;49m -> \u001b[0m\u001b[32;49m24.0\u001b[0m\n",
      "\u001b[1m[\u001b[0m\u001b[34;49mnotice\u001b[0m\u001b[1;39;49m]\u001b[0m\u001b[39;49m To update, run: \u001b[0m\u001b[32;49mpip install --upgrade pip\u001b[0m\n",
      "Note: you may need to restart the kernel to use updated packages.\n"
     ]
    }
   ],
   "source": [
    "%pip install -qU qdrant-client lark"
   ]
  },
  {
   "cell_type": "code",
   "execution_count": 4,
   "metadata": {},
   "outputs": [],
   "source": [
    "import os\n",
    "\n",
    "import dotenv\n",
    "\n",
    "dotenv.load_dotenv()\n",
    "\n",
    "if os.getenv(\"OPENAI_API_KEY\") is None:\n",
    "    raise Exception(\"OPENAI_API_KEY not found\")"
   ]
  },
  {
   "cell_type": "code",
   "execution_count": 5,
   "metadata": {},
   "outputs": [],
   "source": [
    "import textwrap\n",
    "from IPython.display import HTML, display\n",
    "from tabulate import tabulate\n",
    "\n",
    "\n",
    "def _format_cell_text(text, width=50):\n",
    "    \"\"\"Private function to format a cell's text.\"\"\"\n",
    "    return \"\\n\".join([textwrap.fill(line, width=width) for line in text.split(\"\\n\")])\n",
    "\n",
    "\n",
    "def _format_dataframe_for_tabulate(df):\n",
    "    \"\"\"Private function to format the entire DataFrame for tabulation.\"\"\"\n",
    "    df_out = df.copy()\n",
    "\n",
    "    # Format all string columns\n",
    "    for column in df_out.columns:\n",
    "        # Check if column is of type object (likely strings)\n",
    "        if df_out[column].dtype == object:\n",
    "            df_out[column] = df_out[column].apply(_format_cell_text)\n",
    "    return df_out\n",
    "\n",
    "\n",
    "def _dataframe_to_html_table(df):\n",
    "    \"\"\"Private function to convert a DataFrame to an HTML table.\"\"\"\n",
    "    headers = df.columns.tolist()\n",
    "    table_data = df.values.tolist()\n",
    "    return tabulate(table_data, headers=headers, tablefmt=\"html\")\n",
    "\n",
    "\n",
    "def display_nice(df, num_rows=None):\n",
    "    \"\"\"Primary function to format and display a DataFrame.\"\"\"\n",
    "    if num_rows is not None:\n",
    "        df = df.head(num_rows)\n",
    "    formatted_df = _format_dataframe_for_tabulate(df)\n",
    "    html_table = _dataframe_to_html_table(formatted_df)\n",
    "    display(HTML(html_table))"
   ]
  },
  {
   "cell_type": "code",
   "execution_count": 6,
   "metadata": {},
   "outputs": [],
   "source": [
    "def print_dict_keys(data, indent=0):\n",
    "    for key, value in data.items():\n",
    "        print(' ' * indent + str(key))\n",
    "        if isinstance(value, dict):  # if the value is another dictionary, recurse\n",
    "            print_dict_keys(value, indent + 4)"
   ]
  },
  {
   "cell_type": "markdown",
   "metadata": {},
   "source": [
    "## Data preparation"
   ]
  },
  {
   "cell_type": "markdown",
   "metadata": {},
   "source": [
    "### Load existing RFPs"
   ]
  },
  {
   "cell_type": "code",
   "execution_count": 7,
   "metadata": {},
   "outputs": [],
   "source": [
    "# List of CSV file paths\n",
    "existing_rfp_paths = [\n",
    "    \"datasets/rag/rfp_existing_questions_client_2.csv\",\n",
    "]\n",
    "\n",
    "existing_rfp_df = [pd.read_csv(file_path) for file_path in existing_rfp_paths]\n",
    "\n",
    "# Concatenate all DataFrames into one\n",
    "existing_rfp_df = pd.concat(existing_rfp_df, ignore_index=True)"
   ]
  },
  {
   "cell_type": "code",
   "execution_count": 8,
   "metadata": {},
   "outputs": [
    {
     "data": {
      "text/html": [
       "<div>\n",
       "<style scoped>\n",
       "    .dataframe tbody tr th:only-of-type {\n",
       "        vertical-align: middle;\n",
       "    }\n",
       "\n",
       "    .dataframe tbody tr th {\n",
       "        vertical-align: top;\n",
       "    }\n",
       "\n",
       "    .dataframe thead th {\n",
       "        text-align: right;\n",
       "    }\n",
       "</style>\n",
       "<table border=\"1\" class=\"dataframe\">\n",
       "  <thead>\n",
       "    <tr style=\"text-align: right;\">\n",
       "      <th></th>\n",
       "      <th>Project_Title</th>\n",
       "      <th>RFP_Question_ID</th>\n",
       "      <th>RFP_Question</th>\n",
       "      <th>RFP_Answer</th>\n",
       "      <th>Area</th>\n",
       "      <th>Last_Accessed_At</th>\n",
       "      <th>Requester</th>\n",
       "      <th>Status</th>\n",
       "    </tr>\n",
       "  </thead>\n",
       "  <tbody>\n",
       "    <tr>\n",
       "      <th>0</th>\n",
       "      <td>AI-Powered Risk Assessment Model Development f...</td>\n",
       "      <td>1</td>\n",
       "      <td>Can you discuss your expertise in creating AI-...</td>\n",
       "      <td>Our company has 15 years of experience in deve...</td>\n",
       "      <td>General</td>\n",
       "      <td>18/12/2022</td>\n",
       "      <td>Bank B</td>\n",
       "      <td>Awarded</td>\n",
       "    </tr>\n",
       "    <tr>\n",
       "      <th>1</th>\n",
       "      <td>AI-Powered Risk Assessment Model Development f...</td>\n",
       "      <td>2</td>\n",
       "      <td>How do you keep your AI applications current w...</td>\n",
       "      <td>We maintain a dedicated R&amp;D team focused on in...</td>\n",
       "      <td>General</td>\n",
       "      <td>18/12/2022</td>\n",
       "      <td>Bank B</td>\n",
       "      <td>Awarded</td>\n",
       "    </tr>\n",
       "    <tr>\n",
       "      <th>2</th>\n",
       "      <td>AI-Powered Risk Assessment Model Development f...</td>\n",
       "      <td>3</td>\n",
       "      <td>Are your AI applications adaptable to specific...</td>\n",
       "      <td>Absolutely, customization is a core aspect of ...</td>\n",
       "      <td>General</td>\n",
       "      <td>18/12/2022</td>\n",
       "      <td>Bank B</td>\n",
       "      <td>Awarded</td>\n",
       "    </tr>\n",
       "    <tr>\n",
       "      <th>3</th>\n",
       "      <td>AI-Powered Risk Assessment Model Development f...</td>\n",
       "      <td>4</td>\n",
       "      <td>What steps do you undertake to protect user pr...</td>\n",
       "      <td>User privacy and data security are paramount. ...</td>\n",
       "      <td>General</td>\n",
       "      <td>18/12/2022</td>\n",
       "      <td>Bank B</td>\n",
       "      <td>Awarded</td>\n",
       "    </tr>\n",
       "    <tr>\n",
       "      <th>4</th>\n",
       "      <td>AI-Powered Risk Assessment Model Development f...</td>\n",
       "      <td>5</td>\n",
       "      <td>What strategies do you employ to design user i...</td>\n",
       "      <td>Our design philosophy centers on simplicity an...</td>\n",
       "      <td>General</td>\n",
       "      <td>18/12/2022</td>\n",
       "      <td>Bank B</td>\n",
       "      <td>Awarded</td>\n",
       "    </tr>\n",
       "    <tr>\n",
       "      <th>5</th>\n",
       "      <td>AI-Powered Risk Assessment Model Development f...</td>\n",
       "      <td>6</td>\n",
       "      <td>Explain the support and maintenance services y...</td>\n",
       "      <td>Post-launch, we offer comprehensive support an...</td>\n",
       "      <td>General</td>\n",
       "      <td>18/12/2022</td>\n",
       "      <td>Bank B</td>\n",
       "      <td>Awarded</td>\n",
       "    </tr>\n",
       "    <tr>\n",
       "      <th>6</th>\n",
       "      <td>AI-Powered Risk Assessment Model Development f...</td>\n",
       "      <td>7</td>\n",
       "      <td>How do you evaluate the effectiveness and impa...</td>\n",
       "      <td>Success measurement is tailored to each projec...</td>\n",
       "      <td>General</td>\n",
       "      <td>18/12/2022</td>\n",
       "      <td>Bank B</td>\n",
       "      <td>Awarded</td>\n",
       "    </tr>\n",
       "    <tr>\n",
       "      <th>7</th>\n",
       "      <td>AI-Powered Risk Assessment Model Development f...</td>\n",
       "      <td>8</td>\n",
       "      <td>How do you manage ethical concerns in your LLM...</td>\n",
       "      <td>We adhere to ethical AI practices by implement...</td>\n",
       "      <td>Large Language Models</td>\n",
       "      <td>18/12/2022</td>\n",
       "      <td>Bank B</td>\n",
       "      <td>Awarded</td>\n",
       "    </tr>\n",
       "    <tr>\n",
       "      <th>8</th>\n",
       "      <td>AI-Powered Risk Assessment Model Development f...</td>\n",
       "      <td>9</td>\n",
       "      <td>Could you outline how you train your LLMs, inc...</td>\n",
       "      <td>Our LLM training process begins with the metic...</td>\n",
       "      <td>Large Language Models</td>\n",
       "      <td>18/12/2022</td>\n",
       "      <td>Bank B</td>\n",
       "      <td>Awarded</td>\n",
       "    </tr>\n",
       "    <tr>\n",
       "      <th>9</th>\n",
       "      <td>AI-Powered Risk Assessment Model Development f...</td>\n",
       "      <td>10</td>\n",
       "      <td>How do you ensure your LLMs continuously learn...</td>\n",
       "      <td>We implement advanced continuous learning mech...</td>\n",
       "      <td>Large Language Models</td>\n",
       "      <td>18/12/2022</td>\n",
       "      <td>Bank B</td>\n",
       "      <td>Awarded</td>\n",
       "    </tr>\n",
       "    <tr>\n",
       "      <th>10</th>\n",
       "      <td>AI-Powered Risk Assessment Model Development f...</td>\n",
       "      <td>11</td>\n",
       "      <td>What actions do you take to make the decision-...</td>\n",
       "      <td>We prioritize transparency and explainability ...</td>\n",
       "      <td>Large Language Models</td>\n",
       "      <td>18/12/2022</td>\n",
       "      <td>Bank B</td>\n",
       "      <td>Awarded</td>\n",
       "    </tr>\n",
       "    <tr>\n",
       "      <th>11</th>\n",
       "      <td>AI-Powered Risk Assessment Model Development f...</td>\n",
       "      <td>12</td>\n",
       "      <td>How do you verify and ensure that your LLMs ca...</td>\n",
       "      <td>We conduct extensive performance testing under...</td>\n",
       "      <td>Large Language Models</td>\n",
       "      <td>18/12/2022</td>\n",
       "      <td>Bank B</td>\n",
       "      <td>Awarded</td>\n",
       "    </tr>\n",
       "    <tr>\n",
       "      <th>12</th>\n",
       "      <td>AI-Powered Risk Assessment Model Development f...</td>\n",
       "      <td>13</td>\n",
       "      <td>Can you provide case studies of successful LLM...</td>\n",
       "      <td>We can share case studies of successful LLM-ba...</td>\n",
       "      <td>Large Language Models</td>\n",
       "      <td>18/12/2022</td>\n",
       "      <td>Bank B</td>\n",
       "      <td>Awarded</td>\n",
       "    </tr>\n",
       "    <tr>\n",
       "      <th>13</th>\n",
       "      <td>AI-Powered Risk Assessment Model Development f...</td>\n",
       "      <td>14</td>\n",
       "      <td>Describe how you integrate LLMs into existing ...</td>\n",
       "      <td>Our approach involves conducting a thorough an...</td>\n",
       "      <td>Large Language Models</td>\n",
       "      <td>18/12/2022</td>\n",
       "      <td>Bank B</td>\n",
       "      <td>Awarded</td>\n",
       "    </tr>\n",
       "    <tr>\n",
       "      <th>14</th>\n",
       "      <td>AI-Powered Risk Assessment Model Development f...</td>\n",
       "      <td>15</td>\n",
       "      <td>What are your strategies for supporting and ma...</td>\n",
       "      <td>Our post-deployment support is designed to ens...</td>\n",
       "      <td>Large Language Models</td>\n",
       "      <td>18/12/2022</td>\n",
       "      <td>Bank B</td>\n",
       "      <td>Awarded</td>\n",
       "    </tr>\n",
       "    <tr>\n",
       "      <th>15</th>\n",
       "      <td>AI-Powered Risk Assessment Model Development f...</td>\n",
       "      <td>16</td>\n",
       "      <td>How does your AI solution comply with the guid...</td>\n",
       "      <td>Our AI solution is meticulously designed to al...</td>\n",
       "      <td>AI Regulation</td>\n",
       "      <td>18/12/2022</td>\n",
       "      <td>Bank B</td>\n",
       "      <td>Awarded</td>\n",
       "    </tr>\n",
       "    <tr>\n",
       "      <th>16</th>\n",
       "      <td>AI-Powered Risk Assessment Model Development f...</td>\n",
       "      <td>17</td>\n",
       "      <td>Could you describe the governance frameworks y...</td>\n",
       "      <td>We have established an AI Risk Council that pl...</td>\n",
       "      <td>AI Regulation</td>\n",
       "      <td>18/12/2022</td>\n",
       "      <td>Bank B</td>\n",
       "      <td>Awarded</td>\n",
       "    </tr>\n",
       "    <tr>\n",
       "      <th>17</th>\n",
       "      <td>AI-Powered Risk Assessment Model Development f...</td>\n",
       "      <td>18</td>\n",
       "      <td>How do you identify and evaluate AI risks foll...</td>\n",
       "      <td>We conduct thorough assessments of AI systems ...</td>\n",
       "      <td>AI Regulation</td>\n",
       "      <td>18/12/2022</td>\n",
       "      <td>Bank B</td>\n",
       "      <td>Awarded</td>\n",
       "    </tr>\n",
       "    <tr>\n",
       "      <th>18</th>\n",
       "      <td>AI-Powered Risk Assessment Model Development f...</td>\n",
       "      <td>19</td>\n",
       "      <td>What steps do you implement to ensure AI decis...</td>\n",
       "      <td>We prioritize transparency by incorporating ex...</td>\n",
       "      <td>AI Regulation</td>\n",
       "      <td>18/12/2022</td>\n",
       "      <td>Bank B</td>\n",
       "      <td>Awarded</td>\n",
       "    </tr>\n",
       "    <tr>\n",
       "      <th>19</th>\n",
       "      <td>AI-Powered Risk Assessment Model Development f...</td>\n",
       "      <td>20</td>\n",
       "      <td>How do you monitor and assess AI risk exposure...</td>\n",
       "      <td>We have developed a set of Key Performance Ind...</td>\n",
       "      <td>AI Regulation</td>\n",
       "      <td>18/12/2022</td>\n",
       "      <td>Bank B</td>\n",
       "      <td>Awarded</td>\n",
       "    </tr>\n",
       "    <tr>\n",
       "      <th>20</th>\n",
       "      <td>AI-Powered Risk Assessment Model Development f...</td>\n",
       "      <td>21</td>\n",
       "      <td>Explain how you manage and mitigate AI risks i...</td>\n",
       "      <td>We implement and maintain robust risk manageme...</td>\n",
       "      <td>AI Regulation</td>\n",
       "      <td>18/12/2022</td>\n",
       "      <td>Bank B</td>\n",
       "      <td>Awarded</td>\n",
       "    </tr>\n",
       "    <tr>\n",
       "      <th>21</th>\n",
       "      <td>AI-Powered Risk Assessment Model Development f...</td>\n",
       "      <td>22</td>\n",
       "      <td>How do you ensure compliance with U.S. laws on...</td>\n",
       "      <td>We ensure compliance with U.S. regulations suc...</td>\n",
       "      <td>AI Regulation</td>\n",
       "      <td>18/12/2022</td>\n",
       "      <td>Bank B</td>\n",
       "      <td>Awarded</td>\n",
       "    </tr>\n",
       "    <tr>\n",
       "      <th>22</th>\n",
       "      <td>AI-Powered Risk Assessment Model Development f...</td>\n",
       "      <td>23</td>\n",
       "      <td>In what ways do you participate in advancing A...</td>\n",
       "      <td>We actively participate in industry working gr...</td>\n",
       "      <td>AI Regulation</td>\n",
       "      <td>18/12/2022</td>\n",
       "      <td>Bank B</td>\n",
       "      <td>Awarded</td>\n",
       "    </tr>\n",
       "  </tbody>\n",
       "</table>\n",
       "</div>"
      ],
      "text/plain": [
       "                                        Project_Title  RFP_Question_ID  \\\n",
       "0   AI-Powered Risk Assessment Model Development f...                1   \n",
       "1   AI-Powered Risk Assessment Model Development f...                2   \n",
       "2   AI-Powered Risk Assessment Model Development f...                3   \n",
       "3   AI-Powered Risk Assessment Model Development f...                4   \n",
       "4   AI-Powered Risk Assessment Model Development f...                5   \n",
       "5   AI-Powered Risk Assessment Model Development f...                6   \n",
       "6   AI-Powered Risk Assessment Model Development f...                7   \n",
       "7   AI-Powered Risk Assessment Model Development f...                8   \n",
       "8   AI-Powered Risk Assessment Model Development f...                9   \n",
       "9   AI-Powered Risk Assessment Model Development f...               10   \n",
       "10  AI-Powered Risk Assessment Model Development f...               11   \n",
       "11  AI-Powered Risk Assessment Model Development f...               12   \n",
       "12  AI-Powered Risk Assessment Model Development f...               13   \n",
       "13  AI-Powered Risk Assessment Model Development f...               14   \n",
       "14  AI-Powered Risk Assessment Model Development f...               15   \n",
       "15  AI-Powered Risk Assessment Model Development f...               16   \n",
       "16  AI-Powered Risk Assessment Model Development f...               17   \n",
       "17  AI-Powered Risk Assessment Model Development f...               18   \n",
       "18  AI-Powered Risk Assessment Model Development f...               19   \n",
       "19  AI-Powered Risk Assessment Model Development f...               20   \n",
       "20  AI-Powered Risk Assessment Model Development f...               21   \n",
       "21  AI-Powered Risk Assessment Model Development f...               22   \n",
       "22  AI-Powered Risk Assessment Model Development f...               23   \n",
       "\n",
       "                                         RFP_Question  \\\n",
       "0   Can you discuss your expertise in creating AI-...   \n",
       "1   How do you keep your AI applications current w...   \n",
       "2   Are your AI applications adaptable to specific...   \n",
       "3   What steps do you undertake to protect user pr...   \n",
       "4   What strategies do you employ to design user i...   \n",
       "5   Explain the support and maintenance services y...   \n",
       "6   How do you evaluate the effectiveness and impa...   \n",
       "7   How do you manage ethical concerns in your LLM...   \n",
       "8   Could you outline how you train your LLMs, inc...   \n",
       "9   How do you ensure your LLMs continuously learn...   \n",
       "10  What actions do you take to make the decision-...   \n",
       "11  How do you verify and ensure that your LLMs ca...   \n",
       "12  Can you provide case studies of successful LLM...   \n",
       "13  Describe how you integrate LLMs into existing ...   \n",
       "14  What are your strategies for supporting and ma...   \n",
       "15  How does your AI solution comply with the guid...   \n",
       "16  Could you describe the governance frameworks y...   \n",
       "17  How do you identify and evaluate AI risks foll...   \n",
       "18  What steps do you implement to ensure AI decis...   \n",
       "19  How do you monitor and assess AI risk exposure...   \n",
       "20  Explain how you manage and mitigate AI risks i...   \n",
       "21  How do you ensure compliance with U.S. laws on...   \n",
       "22  In what ways do you participate in advancing A...   \n",
       "\n",
       "                                           RFP_Answer                   Area  \\\n",
       "0   Our company has 15 years of experience in deve...                General   \n",
       "1   We maintain a dedicated R&D team focused on in...                General   \n",
       "2   Absolutely, customization is a core aspect of ...                General   \n",
       "3   User privacy and data security are paramount. ...                General   \n",
       "4   Our design philosophy centers on simplicity an...                General   \n",
       "5   Post-launch, we offer comprehensive support an...                General   \n",
       "6   Success measurement is tailored to each projec...                General   \n",
       "7   We adhere to ethical AI practices by implement...  Large Language Models   \n",
       "8   Our LLM training process begins with the metic...  Large Language Models   \n",
       "9   We implement advanced continuous learning mech...  Large Language Models   \n",
       "10  We prioritize transparency and explainability ...  Large Language Models   \n",
       "11  We conduct extensive performance testing under...  Large Language Models   \n",
       "12  We can share case studies of successful LLM-ba...  Large Language Models   \n",
       "13  Our approach involves conducting a thorough an...  Large Language Models   \n",
       "14  Our post-deployment support is designed to ens...  Large Language Models   \n",
       "15  Our AI solution is meticulously designed to al...          AI Regulation   \n",
       "16  We have established an AI Risk Council that pl...          AI Regulation   \n",
       "17  We conduct thorough assessments of AI systems ...          AI Regulation   \n",
       "18  We prioritize transparency by incorporating ex...          AI Regulation   \n",
       "19  We have developed a set of Key Performance Ind...          AI Regulation   \n",
       "20  We implement and maintain robust risk manageme...          AI Regulation   \n",
       "21  We ensure compliance with U.S. regulations suc...          AI Regulation   \n",
       "22  We actively participate in industry working gr...          AI Regulation   \n",
       "\n",
       "   Last_Accessed_At Requester   Status  \n",
       "0        18/12/2022    Bank B  Awarded  \n",
       "1        18/12/2022    Bank B  Awarded  \n",
       "2        18/12/2022    Bank B  Awarded  \n",
       "3        18/12/2022    Bank B  Awarded  \n",
       "4        18/12/2022    Bank B  Awarded  \n",
       "5        18/12/2022    Bank B  Awarded  \n",
       "6        18/12/2022    Bank B  Awarded  \n",
       "7        18/12/2022    Bank B  Awarded  \n",
       "8        18/12/2022    Bank B  Awarded  \n",
       "9        18/12/2022    Bank B  Awarded  \n",
       "10       18/12/2022    Bank B  Awarded  \n",
       "11       18/12/2022    Bank B  Awarded  \n",
       "12       18/12/2022    Bank B  Awarded  \n",
       "13       18/12/2022    Bank B  Awarded  \n",
       "14       18/12/2022    Bank B  Awarded  \n",
       "15       18/12/2022    Bank B  Awarded  \n",
       "16       18/12/2022    Bank B  Awarded  \n",
       "17       18/12/2022    Bank B  Awarded  \n",
       "18       18/12/2022    Bank B  Awarded  \n",
       "19       18/12/2022    Bank B  Awarded  \n",
       "20       18/12/2022    Bank B  Awarded  \n",
       "21       18/12/2022    Bank B  Awarded  \n",
       "22       18/12/2022    Bank B  Awarded  "
      ]
     },
     "execution_count": 8,
     "metadata": {},
     "output_type": "execute_result"
    }
   ],
   "source": [
    "existing_rfp_df"
   ]
  },
  {
   "cell_type": "code",
   "execution_count": 9,
   "metadata": {},
   "outputs": [],
   "source": [
    "from langchain_community.document_loaders.csv_loader import CSVLoader\n",
    "\n",
    "documents = []\n",
    "\n",
    "# Iterate through each file path in the list\n",
    "for file_path in existing_rfp_paths:\n",
    "    loader = CSVLoader(\n",
    "        file_path=file_path,\n",
    "        metadata_columns=[\"Area\"]\n",
    "    )\n",
    "\n",
    "    # Load a document from the current CSV file\n",
    "    doc = loader.load()\n",
    "    \n",
    "    # Append documents\n",
    "    documents.extend(doc)"
   ]
  },
  {
   "cell_type": "markdown",
   "metadata": {},
   "source": [
    "When using `CSVLoader`, each document represents a single row and includes its respective contents:"
   ]
  },
  {
   "cell_type": "code",
   "execution_count": 10,
   "metadata": {},
   "outputs": [
    {
     "name": "stdout",
     "output_type": "stream",
     "text": [
      "Document 1: page_content='Project_Title: AI-Powered Risk Assessment Model Development for Loan Processing\\nRFP_Question_ID: 1\\nRFP_Question: Can you discuss your expertise in creating AI-driven applications and share examples of your successful implementations?\\nRFP_Answer: Our company has 15 years of experience in developing AI-based applications, with a strong portfolio in sectors such as healthcare, finance, and education. For instance, our project MediAI Insight for the healthcare industry demonstrated significant achievements in patient data analysis, resulting in a 30% reduction in diagnostic errors and a 40% improvement in treatment personalization. Our platform has engaged over 200 healthcare facilities, achieving a user satisfaction rate of 95%.\\nLast_Accessed_At: 18/12/2022\\nRequester: Bank B\\nStatus: Awarded' metadata={'source': 'datasets/rag/rfp_existing_questions_client_2.csv', 'row': 0, 'Area': 'General'}\n",
      "Document 2: page_content='Project_Title: AI-Powered Risk Assessment Model Development for Loan Processing\\nRFP_Question_ID: 2\\nRFP_Question: How do you keep your AI applications current with ongoing advancements in artificial intelligence?\\nRFP_Answer: We maintain a dedicated R&D team focused on integrating the latest AI advancements into our applications. This includes regular updates and feature enhancements based on cutting-edge technologies such as GPT (Generative Pre-trained Transformer) for natural language understanding, CNNs (Convolutional Neural Networks) for advanced image recognition tasks, and DQN (Deep Q-Networks) for decision-making processes in complex environments. Our commitment to these AI methodologies ensures that our applications remain innovative, with capabilities that adapt to evolving market demands and client needs. This approach has enabled us to enhance the predictive accuracy of our financial forecasting tools by 25% and improve the efficiency of our educational content personalization by 40%\\nLast_Accessed_At: 18/12/2022\\nRequester: Bank B\\nStatus: Awarded' metadata={'source': 'datasets/rag/rfp_existing_questions_client_2.csv', 'row': 1, 'Area': 'General'}\n",
      "Document 3: page_content='Project_Title: AI-Powered Risk Assessment Model Development for Loan Processing\\nRFP_Question_ID: 3\\nRFP_Question: Are your AI applications adaptable to specific requirements of users or businesses?\\nRFP_Answer: Absolutely, customization is a core aspect of our offering. We work closely with clients to understand their specific needs and tailor our AI algorithms and app functionalities accordingly, using technologies such as TensorFlow for machine learning models, React for responsive UI/UX designs, and Kubernetes for scalable cloud deployment. This personalized approach allows us to optimize AI functionalities to match unique business processes, enhancing user experience and operational efficiency for each client. For example, for a retail client, we customized our recommendation engine to increase customer retention by 20% through more accurate and personalized product suggestions.\\nLast_Accessed_At: 18/12/2022\\nRequester: Bank B\\nStatus: Awarded' metadata={'source': 'datasets/rag/rfp_existing_questions_client_2.csv', 'row': 2, 'Area': 'General'}\n",
      "Document 4: page_content='Project_Title: AI-Powered Risk Assessment Model Development for Loan Processing\\nRFP_Question_ID: 4\\nRFP_Question: What steps do you undertake to protect user privacy and secure data within your AI applications?\\nRFP_Answer: User privacy and data security are paramount. We implement robust measures such as end-to-end encryption to secure data transmissions, anonymization techniques to protect user identities, and comprehensive compliance with data protection laws like GDPR and CCPA. We also employ regular security audits and vulnerability assessments to ensure our systems are impenetrable. Additionally, our deployment of advanced intrusion detection systems and the use of secure coding practices reinforce our commitment to safeguarding user data at all times\\nLast_Accessed_At: 18/12/2022\\nRequester: Bank B\\nStatus: Awarded' metadata={'source': 'datasets/rag/rfp_existing_questions_client_2.csv', 'row': 3, 'Area': 'General'}\n",
      "Document 5: page_content='Project_Title: AI-Powered Risk Assessment Model Development for Loan Processing\\nRFP_Question_ID: 5\\nRFP_Question: What strategies do you employ to design user interfaces and experiences in AI applications to maximize usability and user engagement?\\nRFP_Answer: Our design philosophy centers on simplicity and intuitiveness. We conduct extensive user research and testing to inform our UI/UX designs, ensuring that our AI-based apps are accessible and engaging for all users, regardless of their technical expertise. This includes applying principles from human-centered design, utilizing accessibility guidelines such as WCAG 2.1, and conducting iterative testing with diverse user groups. Our commitment to inclusivity and usability leads to higher user adoption rates and satisfaction. For instance, feedback-driven enhancements in our visual design have improved user engagement by over 30% across our applications.\\nLast_Accessed_At: 18/12/2022\\nRequester: Bank B\\nStatus: Awarded' metadata={'source': 'datasets/rag/rfp_existing_questions_client_2.csv', 'row': 4, 'Area': 'General'}\n"
     ]
    }
   ],
   "source": [
    "number_of_documents = 5\n",
    "\n",
    "for i, document in enumerate(documents[:number_of_documents]):\n",
    "    print(f\"Document {i + 1}: {document}\")"
   ]
  },
  {
   "cell_type": "markdown",
   "metadata": {},
   "source": [
    "Accessing the page content of each document:"
   ]
  },
  {
   "cell_type": "code",
   "execution_count": 11,
   "metadata": {},
   "outputs": [
    {
     "name": "stdout",
     "output_type": "stream",
     "text": [
      "Page content for document 1:\n",
      "Project_Title: AI-Powered Risk Assessment Model Development for Loan Processing\n",
      "RFP_Question_ID: 1\n",
      "RFP_Question: Can you discuss your expertise in creating AI-driven applications and share examples of your successful implementations?\n",
      "RFP_Answer: Our company has 15 years of experience in developing AI-based applications, with a strong portfolio in sectors such as healthcare, finance, and education. For instance, our project MediAI Insight for the healthcare industry demonstrated significant achievements in patient data analysis, resulting in a 30% reduction in diagnostic errors and a 40% improvement in treatment personalization. Our platform has engaged over 200 healthcare facilities, achieving a user satisfaction rate of 95%.\n",
      "Last_Accessed_At: 18/12/2022\n",
      "Requester: Bank B\n",
      "Status: Awarded\n",
      "\n",
      "Page content for document 2:\n",
      "Project_Title: AI-Powered Risk Assessment Model Development for Loan Processing\n",
      "RFP_Question_ID: 2\n",
      "RFP_Question: How do you keep your AI applications current with ongoing advancements in artificial intelligence?\n",
      "RFP_Answer: We maintain a dedicated R&D team focused on integrating the latest AI advancements into our applications. This includes regular updates and feature enhancements based on cutting-edge technologies such as GPT (Generative Pre-trained Transformer) for natural language understanding, CNNs (Convolutional Neural Networks) for advanced image recognition tasks, and DQN (Deep Q-Networks) for decision-making processes in complex environments. Our commitment to these AI methodologies ensures that our applications remain innovative, with capabilities that adapt to evolving market demands and client needs. This approach has enabled us to enhance the predictive accuracy of our financial forecasting tools by 25% and improve the efficiency of our educational content personalization by 40%\n",
      "Last_Accessed_At: 18/12/2022\n",
      "Requester: Bank B\n",
      "Status: Awarded\n",
      "\n"
     ]
    }
   ],
   "source": [
    "number_of_documents = 2\n",
    "\n",
    "for i, document in enumerate(documents[:number_of_documents]):\n",
    "    print(f\"Page content for document {i + 1}:\")\n",
    "    print(document.page_content)\n",
    "    print()"
   ]
  },
  {
   "cell_type": "markdown",
   "metadata": {},
   "source": [
    "Note that when adding metadata, it is appended to the default metadata, which consists of the row number and the source: "
   ]
  },
  {
   "cell_type": "code",
   "execution_count": 12,
   "metadata": {},
   "outputs": [
    {
     "name": "stdout",
     "output_type": "stream",
     "text": [
      "Metadata for document 1: {'source': 'datasets/rag/rfp_existing_questions_client_2.csv', 'row': 0, 'Area': 'General'}\n",
      "Metadata for document 2: {'source': 'datasets/rag/rfp_existing_questions_client_2.csv', 'row': 1, 'Area': 'General'}\n",
      "Metadata for document 3: {'source': 'datasets/rag/rfp_existing_questions_client_2.csv', 'row': 2, 'Area': 'General'}\n",
      "Metadata for document 4: {'source': 'datasets/rag/rfp_existing_questions_client_2.csv', 'row': 3, 'Area': 'General'}\n",
      "Metadata for document 5: {'source': 'datasets/rag/rfp_existing_questions_client_2.csv', 'row': 4, 'Area': 'General'}\n"
     ]
    }
   ],
   "source": [
    "number_of_documents = 5\n",
    "\n",
    "for i, document in enumerate(documents[:number_of_documents]):\n",
    "    print(f\"Metadata for document {i + 1}: {document.metadata}\")"
   ]
  },
  {
   "cell_type": "markdown",
   "metadata": {},
   "source": [
    "## Split the documents into chunks"
   ]
  },
  {
   "cell_type": "code",
   "execution_count": 13,
   "metadata": {},
   "outputs": [],
   "source": [
    "from langchain.text_splitter import RecursiveCharacterTextSplitter\n",
    "\n",
    "text_splitter = RecursiveCharacterTextSplitter(\n",
    "    chunk_size=500, chunk_overlap=10, add_start_index=True\n",
    ")\n",
    "chunks = text_splitter.split_documents(documents)"
   ]
  },
  {
   "cell_type": "markdown",
   "metadata": {},
   "source": [
    "Get some general information about the chunks:"
   ]
  },
  {
   "cell_type": "code",
   "execution_count": 14,
   "metadata": {},
   "outputs": [
    {
     "name": "stdout",
     "output_type": "stream",
     "text": [
      "Number of chunks: 98\n"
     ]
    }
   ],
   "source": [
    "print(f\"Number of chunks: {len(chunks)}\")"
   ]
  },
  {
   "cell_type": "markdown",
   "metadata": {},
   "source": [
    "See the length of the bigger and smaller chunks:"
   ]
  },
  {
   "cell_type": "code",
   "execution_count": 15,
   "metadata": {},
   "outputs": [
    {
     "name": "stdout",
     "output_type": "stream",
     "text": [
      "Maximum chunk length: 499\n",
      "Minimum chunk length: 12\n",
      "Mean chunk length: 267.6020408163265\n"
     ]
    }
   ],
   "source": [
    "max_chunk_length = max([len(chunk.page_content) for chunk in chunks])\n",
    "min_chunk_length = min([len(chunk.page_content) for chunk in chunks])\n",
    "mean_chunk_length = sum([len(chunk.page_content) for chunk in chunks]) / len(chunks)\n",
    "\n",
    "print(f\"Maximum chunk length: {max_chunk_length}\")\n",
    "print(f\"Minimum chunk length: {min_chunk_length}\")\n",
    "print(f\"Mean chunk length: {mean_chunk_length}\")"
   ]
  },
  {
   "cell_type": "markdown",
   "metadata": {},
   "source": [
    "Plot the distribution of chunks: "
   ]
  },
  {
   "cell_type": "code",
   "execution_count": 16,
   "metadata": {},
   "outputs": [
    {
     "data": {
      "application/vnd.plotly.v1+json": {
       "config": {
        "plotlyServerURL": "https://plot.ly"
       },
       "data": [
        {
         "alignmentgroup": "True",
         "bingroup": "x",
         "hovertemplate": "variable=0<br>value=%{x}<br>count=%{y}<extra></extra>",
         "legendgroup": "0",
         "marker": {
          "color": "#636efa",
          "pattern": {
           "shape": ""
          }
         },
         "name": "0",
         "nbinsx": 50,
         "offsetgroup": "0",
         "orientation": "v",
         "showlegend": true,
         "type": "histogram",
         "x": [
          233,
          496,
          12,
          62,
          211,
          497,
          305,
          62,
          196,
          496,
          199,
          62,
          209,
          491,
          73,
          62,
          246,
          493,
          184,
          62,
          207,
          495,
          280,
          62,
          212,
          499,
          305,
          62,
          239,
          498,
          366,
          62,
          226,
          497,
          499,
          13,
          62,
          229,
          492,
          45,
          463,
          268,
          477,
          221,
          495,
          150,
          62,
          199,
          495,
          296,
          62,
          241,
          498,
          366,
          62,
          197,
          495,
          413,
          62,
          256,
          491,
          379,
          62,
          221,
          497,
          338,
          62,
          221,
          494,
          406,
          62,
          204,
          497,
          347,
          62,
          233,
          491,
          374,
          62,
          249,
          450,
          480,
          62,
          211,
          439,
          498,
          87,
          62,
          209,
          496,
          46,
          491,
          24,
          62,
          233,
          491,
          291,
          62
         ],
         "xaxis": "x",
         "yaxis": "y"
        }
       ],
       "layout": {
        "annotations": [
         {
          "showarrow": false,
          "x": 499,
          "y": 0,
          "yshift": 10
         }
        ],
        "bargap": 0.2,
        "barmode": "relative",
        "legend": {
         "title": {
          "text": "variable"
         },
         "tracegroupgap": 0
        },
        "showlegend": false,
        "template": {
         "data": {
          "bar": [
           {
            "error_x": {
             "color": "#2a3f5f"
            },
            "error_y": {
             "color": "#2a3f5f"
            },
            "marker": {
             "line": {
              "color": "#E5ECF6",
              "width": 0.5
             },
             "pattern": {
              "fillmode": "overlay",
              "size": 10,
              "solidity": 0.2
             }
            },
            "type": "bar"
           }
          ],
          "barpolar": [
           {
            "marker": {
             "line": {
              "color": "#E5ECF6",
              "width": 0.5
             },
             "pattern": {
              "fillmode": "overlay",
              "size": 10,
              "solidity": 0.2
             }
            },
            "type": "barpolar"
           }
          ],
          "carpet": [
           {
            "aaxis": {
             "endlinecolor": "#2a3f5f",
             "gridcolor": "white",
             "linecolor": "white",
             "minorgridcolor": "white",
             "startlinecolor": "#2a3f5f"
            },
            "baxis": {
             "endlinecolor": "#2a3f5f",
             "gridcolor": "white",
             "linecolor": "white",
             "minorgridcolor": "white",
             "startlinecolor": "#2a3f5f"
            },
            "type": "carpet"
           }
          ],
          "choropleth": [
           {
            "colorbar": {
             "outlinewidth": 0,
             "ticks": ""
            },
            "type": "choropleth"
           }
          ],
          "contour": [
           {
            "colorbar": {
             "outlinewidth": 0,
             "ticks": ""
            },
            "colorscale": [
             [
              0,
              "#0d0887"
             ],
             [
              0.1111111111111111,
              "#46039f"
             ],
             [
              0.2222222222222222,
              "#7201a8"
             ],
             [
              0.3333333333333333,
              "#9c179e"
             ],
             [
              0.4444444444444444,
              "#bd3786"
             ],
             [
              0.5555555555555556,
              "#d8576b"
             ],
             [
              0.6666666666666666,
              "#ed7953"
             ],
             [
              0.7777777777777778,
              "#fb9f3a"
             ],
             [
              0.8888888888888888,
              "#fdca26"
             ],
             [
              1,
              "#f0f921"
             ]
            ],
            "type": "contour"
           }
          ],
          "contourcarpet": [
           {
            "colorbar": {
             "outlinewidth": 0,
             "ticks": ""
            },
            "type": "contourcarpet"
           }
          ],
          "heatmap": [
           {
            "colorbar": {
             "outlinewidth": 0,
             "ticks": ""
            },
            "colorscale": [
             [
              0,
              "#0d0887"
             ],
             [
              0.1111111111111111,
              "#46039f"
             ],
             [
              0.2222222222222222,
              "#7201a8"
             ],
             [
              0.3333333333333333,
              "#9c179e"
             ],
             [
              0.4444444444444444,
              "#bd3786"
             ],
             [
              0.5555555555555556,
              "#d8576b"
             ],
             [
              0.6666666666666666,
              "#ed7953"
             ],
             [
              0.7777777777777778,
              "#fb9f3a"
             ],
             [
              0.8888888888888888,
              "#fdca26"
             ],
             [
              1,
              "#f0f921"
             ]
            ],
            "type": "heatmap"
           }
          ],
          "heatmapgl": [
           {
            "colorbar": {
             "outlinewidth": 0,
             "ticks": ""
            },
            "colorscale": [
             [
              0,
              "#0d0887"
             ],
             [
              0.1111111111111111,
              "#46039f"
             ],
             [
              0.2222222222222222,
              "#7201a8"
             ],
             [
              0.3333333333333333,
              "#9c179e"
             ],
             [
              0.4444444444444444,
              "#bd3786"
             ],
             [
              0.5555555555555556,
              "#d8576b"
             ],
             [
              0.6666666666666666,
              "#ed7953"
             ],
             [
              0.7777777777777778,
              "#fb9f3a"
             ],
             [
              0.8888888888888888,
              "#fdca26"
             ],
             [
              1,
              "#f0f921"
             ]
            ],
            "type": "heatmapgl"
           }
          ],
          "histogram": [
           {
            "marker": {
             "pattern": {
              "fillmode": "overlay",
              "size": 10,
              "solidity": 0.2
             }
            },
            "type": "histogram"
           }
          ],
          "histogram2d": [
           {
            "colorbar": {
             "outlinewidth": 0,
             "ticks": ""
            },
            "colorscale": [
             [
              0,
              "#0d0887"
             ],
             [
              0.1111111111111111,
              "#46039f"
             ],
             [
              0.2222222222222222,
              "#7201a8"
             ],
             [
              0.3333333333333333,
              "#9c179e"
             ],
             [
              0.4444444444444444,
              "#bd3786"
             ],
             [
              0.5555555555555556,
              "#d8576b"
             ],
             [
              0.6666666666666666,
              "#ed7953"
             ],
             [
              0.7777777777777778,
              "#fb9f3a"
             ],
             [
              0.8888888888888888,
              "#fdca26"
             ],
             [
              1,
              "#f0f921"
             ]
            ],
            "type": "histogram2d"
           }
          ],
          "histogram2dcontour": [
           {
            "colorbar": {
             "outlinewidth": 0,
             "ticks": ""
            },
            "colorscale": [
             [
              0,
              "#0d0887"
             ],
             [
              0.1111111111111111,
              "#46039f"
             ],
             [
              0.2222222222222222,
              "#7201a8"
             ],
             [
              0.3333333333333333,
              "#9c179e"
             ],
             [
              0.4444444444444444,
              "#bd3786"
             ],
             [
              0.5555555555555556,
              "#d8576b"
             ],
             [
              0.6666666666666666,
              "#ed7953"
             ],
             [
              0.7777777777777778,
              "#fb9f3a"
             ],
             [
              0.8888888888888888,
              "#fdca26"
             ],
             [
              1,
              "#f0f921"
             ]
            ],
            "type": "histogram2dcontour"
           }
          ],
          "mesh3d": [
           {
            "colorbar": {
             "outlinewidth": 0,
             "ticks": ""
            },
            "type": "mesh3d"
           }
          ],
          "parcoords": [
           {
            "line": {
             "colorbar": {
              "outlinewidth": 0,
              "ticks": ""
             }
            },
            "type": "parcoords"
           }
          ],
          "pie": [
           {
            "automargin": true,
            "type": "pie"
           }
          ],
          "scatter": [
           {
            "fillpattern": {
             "fillmode": "overlay",
             "size": 10,
             "solidity": 0.2
            },
            "type": "scatter"
           }
          ],
          "scatter3d": [
           {
            "line": {
             "colorbar": {
              "outlinewidth": 0,
              "ticks": ""
             }
            },
            "marker": {
             "colorbar": {
              "outlinewidth": 0,
              "ticks": ""
             }
            },
            "type": "scatter3d"
           }
          ],
          "scattercarpet": [
           {
            "marker": {
             "colorbar": {
              "outlinewidth": 0,
              "ticks": ""
             }
            },
            "type": "scattercarpet"
           }
          ],
          "scattergeo": [
           {
            "marker": {
             "colorbar": {
              "outlinewidth": 0,
              "ticks": ""
             }
            },
            "type": "scattergeo"
           }
          ],
          "scattergl": [
           {
            "marker": {
             "colorbar": {
              "outlinewidth": 0,
              "ticks": ""
             }
            },
            "type": "scattergl"
           }
          ],
          "scattermapbox": [
           {
            "marker": {
             "colorbar": {
              "outlinewidth": 0,
              "ticks": ""
             }
            },
            "type": "scattermapbox"
           }
          ],
          "scatterpolar": [
           {
            "marker": {
             "colorbar": {
              "outlinewidth": 0,
              "ticks": ""
             }
            },
            "type": "scatterpolar"
           }
          ],
          "scatterpolargl": [
           {
            "marker": {
             "colorbar": {
              "outlinewidth": 0,
              "ticks": ""
             }
            },
            "type": "scatterpolargl"
           }
          ],
          "scatterternary": [
           {
            "marker": {
             "colorbar": {
              "outlinewidth": 0,
              "ticks": ""
             }
            },
            "type": "scatterternary"
           }
          ],
          "surface": [
           {
            "colorbar": {
             "outlinewidth": 0,
             "ticks": ""
            },
            "colorscale": [
             [
              0,
              "#0d0887"
             ],
             [
              0.1111111111111111,
              "#46039f"
             ],
             [
              0.2222222222222222,
              "#7201a8"
             ],
             [
              0.3333333333333333,
              "#9c179e"
             ],
             [
              0.4444444444444444,
              "#bd3786"
             ],
             [
              0.5555555555555556,
              "#d8576b"
             ],
             [
              0.6666666666666666,
              "#ed7953"
             ],
             [
              0.7777777777777778,
              "#fb9f3a"
             ],
             [
              0.8888888888888888,
              "#fdca26"
             ],
             [
              1,
              "#f0f921"
             ]
            ],
            "type": "surface"
           }
          ],
          "table": [
           {
            "cells": {
             "fill": {
              "color": "#EBF0F8"
             },
             "line": {
              "color": "white"
             }
            },
            "header": {
             "fill": {
              "color": "#C8D4E3"
             },
             "line": {
              "color": "white"
             }
            },
            "type": "table"
           }
          ]
         },
         "layout": {
          "annotationdefaults": {
           "arrowcolor": "#2a3f5f",
           "arrowhead": 0,
           "arrowwidth": 1
          },
          "autotypenumbers": "strict",
          "coloraxis": {
           "colorbar": {
            "outlinewidth": 0,
            "ticks": ""
           }
          },
          "colorscale": {
           "diverging": [
            [
             0,
             "#8e0152"
            ],
            [
             0.1,
             "#c51b7d"
            ],
            [
             0.2,
             "#de77ae"
            ],
            [
             0.3,
             "#f1b6da"
            ],
            [
             0.4,
             "#fde0ef"
            ],
            [
             0.5,
             "#f7f7f7"
            ],
            [
             0.6,
             "#e6f5d0"
            ],
            [
             0.7,
             "#b8e186"
            ],
            [
             0.8,
             "#7fbc41"
            ],
            [
             0.9,
             "#4d9221"
            ],
            [
             1,
             "#276419"
            ]
           ],
           "sequential": [
            [
             0,
             "#0d0887"
            ],
            [
             0.1111111111111111,
             "#46039f"
            ],
            [
             0.2222222222222222,
             "#7201a8"
            ],
            [
             0.3333333333333333,
             "#9c179e"
            ],
            [
             0.4444444444444444,
             "#bd3786"
            ],
            [
             0.5555555555555556,
             "#d8576b"
            ],
            [
             0.6666666666666666,
             "#ed7953"
            ],
            [
             0.7777777777777778,
             "#fb9f3a"
            ],
            [
             0.8888888888888888,
             "#fdca26"
            ],
            [
             1,
             "#f0f921"
            ]
           ],
           "sequentialminus": [
            [
             0,
             "#0d0887"
            ],
            [
             0.1111111111111111,
             "#46039f"
            ],
            [
             0.2222222222222222,
             "#7201a8"
            ],
            [
             0.3333333333333333,
             "#9c179e"
            ],
            [
             0.4444444444444444,
             "#bd3786"
            ],
            [
             0.5555555555555556,
             "#d8576b"
            ],
            [
             0.6666666666666666,
             "#ed7953"
            ],
            [
             0.7777777777777778,
             "#fb9f3a"
            ],
            [
             0.8888888888888888,
             "#fdca26"
            ],
            [
             1,
             "#f0f921"
            ]
           ]
          },
          "colorway": [
           "#636efa",
           "#EF553B",
           "#00cc96",
           "#ab63fa",
           "#FFA15A",
           "#19d3f3",
           "#FF6692",
           "#B6E880",
           "#FF97FF",
           "#FECB52"
          ],
          "font": {
           "color": "#2a3f5f"
          },
          "geo": {
           "bgcolor": "white",
           "lakecolor": "white",
           "landcolor": "#E5ECF6",
           "showlakes": true,
           "showland": true,
           "subunitcolor": "white"
          },
          "hoverlabel": {
           "align": "left"
          },
          "hovermode": "closest",
          "mapbox": {
           "style": "light"
          },
          "paper_bgcolor": "white",
          "plot_bgcolor": "#E5ECF6",
          "polar": {
           "angularaxis": {
            "gridcolor": "white",
            "linecolor": "white",
            "ticks": ""
           },
           "bgcolor": "#E5ECF6",
           "radialaxis": {
            "gridcolor": "white",
            "linecolor": "white",
            "ticks": ""
           }
          },
          "scene": {
           "xaxis": {
            "backgroundcolor": "#E5ECF6",
            "gridcolor": "white",
            "gridwidth": 2,
            "linecolor": "white",
            "showbackground": true,
            "ticks": "",
            "zerolinecolor": "white"
           },
           "yaxis": {
            "backgroundcolor": "#E5ECF6",
            "gridcolor": "white",
            "gridwidth": 2,
            "linecolor": "white",
            "showbackground": true,
            "ticks": "",
            "zerolinecolor": "white"
           },
           "zaxis": {
            "backgroundcolor": "#E5ECF6",
            "gridcolor": "white",
            "gridwidth": 2,
            "linecolor": "white",
            "showbackground": true,
            "ticks": "",
            "zerolinecolor": "white"
           }
          },
          "shapedefaults": {
           "line": {
            "color": "#2a3f5f"
           }
          },
          "ternary": {
           "aaxis": {
            "gridcolor": "white",
            "linecolor": "white",
            "ticks": ""
           },
           "baxis": {
            "gridcolor": "white",
            "linecolor": "white",
            "ticks": ""
           },
           "bgcolor": "#E5ECF6",
           "caxis": {
            "gridcolor": "white",
            "linecolor": "white",
            "ticks": ""
           }
          },
          "title": {
           "x": 0.05
          },
          "xaxis": {
           "automargin": true,
           "gridcolor": "white",
           "linecolor": "white",
           "ticks": "",
           "title": {
            "standoff": 15
           },
           "zerolinecolor": "white",
           "zerolinewidth": 2
          },
          "yaxis": {
           "automargin": true,
           "gridcolor": "white",
           "linecolor": "white",
           "ticks": "",
           "title": {
            "standoff": 15
           },
           "zerolinecolor": "white",
           "zerolinewidth": 2
          }
         }
        },
        "title": {
         "text": "Distribution of Chunk Lengths"
        },
        "xaxis": {
         "anchor": "y",
         "domain": [
          0,
          1
         ],
         "title": {
          "text": "Chunk Length"
         }
        },
        "yaxis": {
         "anchor": "x",
         "domain": [
          0,
          1
         ],
         "title": {
          "text": "Count"
         }
        }
       }
      }
     },
     "metadata": {},
     "output_type": "display_data"
    }
   ],
   "source": [
    "import plotly.express as px\n",
    "\n",
    "# Calculate lengths of each chunk's page_content\n",
    "chunk_lengths = [len(chunk.page_content) for chunk in chunks]\n",
    "\n",
    "# Creating a histogram of chunk lengths\n",
    "fig = px.histogram(chunk_lengths, nbins=50, title=\"Distribution of Chunk Lengths\")\n",
    "fig.update_layout(\n",
    "    xaxis_title=\"Chunk Length\",\n",
    "    yaxis_title=\"Count\",\n",
    "    bargap=0.2,\n",
    "    showlegend=False\n",
    ")\n",
    "\n",
    "# Add summary statistics as text on the plot\n",
    "fig.add_annotation(\n",
    "    x=max(chunk_lengths),\n",
    "    y=0,\n",
    "    showarrow=False,\n",
    "    yshift=10\n",
    ")\n",
    "\n",
    "# Show the plot\n",
    "fig.show()"
   ]
  },
  {
   "cell_type": "markdown",
   "metadata": {},
   "source": [
    "Inspect the chunks: "
   ]
  },
  {
   "cell_type": "code",
   "execution_count": 17,
   "metadata": {},
   "outputs": [
    {
     "name": "stdout",
     "output_type": "stream",
     "text": [
      "Chunk 1: page_content='Project_Title: AI-Powered Risk Assessment Model Development for Loan Processing\\nRFP_Question_ID: 1\\nRFP_Question: Can you discuss your expertise in creating AI-driven applications and share examples of your successful implementations?' metadata={'source': 'datasets/rag/rfp_existing_questions_client_2.csv', 'row': 0, 'Area': 'General', 'start_index': 0}\n",
      "Chunk 2: page_content='RFP_Answer: Our company has 15 years of experience in developing AI-based applications, with a strong portfolio in sectors such as healthcare, finance, and education. For instance, our project MediAI Insight for the healthcare industry demonstrated significant achievements in patient data analysis, resulting in a 30% reduction in diagnostic errors and a 40% improvement in treatment personalization. Our platform has engaged over 200 healthcare facilities, achieving a user satisfaction rate of' metadata={'source': 'datasets/rag/rfp_existing_questions_client_2.csv', 'row': 0, 'Area': 'General', 'start_index': 234}\n",
      "Chunk 3: page_content='rate of 95%.' metadata={'source': 'datasets/rag/rfp_existing_questions_client_2.csv', 'row': 0, 'Area': 'General', 'start_index': 723}\n",
      "Chunk 4: page_content='Last_Accessed_At: 18/12/2022\\nRequester: Bank B\\nStatus: Awarded' metadata={'source': 'datasets/rag/rfp_existing_questions_client_2.csv', 'row': 0, 'Area': 'General', 'start_index': 736}\n"
     ]
    }
   ],
   "source": [
    "number_of_chunks = 5  \n",
    "\n",
    "for index, chunk in enumerate(chunks[:i]):\n",
    "    print(f\"Chunk {index + 1}: {chunk}\")  "
   ]
  },
  {
   "cell_type": "markdown",
   "metadata": {},
   "source": [
    "See the page content of each chunk:"
   ]
  },
  {
   "cell_type": "code",
   "execution_count": 18,
   "metadata": {},
   "outputs": [
    {
     "name": "stdout",
     "output_type": "stream",
     "text": [
      "Page content for chunk 1:\n",
      "Project_Title: AI-Powered Risk Assessment Model Development for Loan Processing\n",
      "RFP_Question_ID: 1\n",
      "RFP_Question: Can you discuss your expertise in creating AI-driven applications and share examples of your successful implementations?\n",
      "\n",
      "Page content for chunk 2:\n",
      "RFP_Answer: Our company has 15 years of experience in developing AI-based applications, with a strong portfolio in sectors such as healthcare, finance, and education. For instance, our project MediAI Insight for the healthcare industry demonstrated significant achievements in patient data analysis, resulting in a 30% reduction in diagnostic errors and a 40% improvement in treatment personalization. Our platform has engaged over 200 healthcare facilities, achieving a user satisfaction rate of\n",
      "\n",
      "Page content for chunk 3:\n",
      "rate of 95%.\n",
      "\n",
      "Page content for chunk 4:\n",
      "Last_Accessed_At: 18/12/2022\n",
      "Requester: Bank B\n",
      "Status: Awarded\n",
      "\n",
      "Page content for chunk 5:\n",
      "Project_Title: AI-Powered Risk Assessment Model Development for Loan Processing\n",
      "RFP_Question_ID: 2\n",
      "RFP_Question: How do you keep your AI applications current with ongoing advancements in artificial intelligence?\n",
      "\n"
     ]
    }
   ],
   "source": [
    "number_of_chunks = 5\n",
    "\n",
    "for i, document in enumerate(chunks[:number_of_chunks]):\n",
    "    print(f\"Page content for chunk {i + 1}:\")\n",
    "    print(document.page_content)\n",
    "    print()"
   ]
  },
  {
   "cell_type": "markdown",
   "metadata": {},
   "source": [
    "See the metadata for individual chunks:"
   ]
  },
  {
   "cell_type": "code",
   "execution_count": 19,
   "metadata": {},
   "outputs": [
    {
     "name": "stdout",
     "output_type": "stream",
     "text": [
      "Metadata for chunk 1: {'source': 'datasets/rag/rfp_existing_questions_client_2.csv', 'row': 0, 'Area': 'General', 'start_index': 0}\n",
      "Metadata for chunk 2: {'source': 'datasets/rag/rfp_existing_questions_client_2.csv', 'row': 0, 'Area': 'General', 'start_index': 234}\n",
      "Metadata for chunk 3: {'source': 'datasets/rag/rfp_existing_questions_client_2.csv', 'row': 0, 'Area': 'General', 'start_index': 723}\n",
      "Metadata for chunk 4: {'source': 'datasets/rag/rfp_existing_questions_client_2.csv', 'row': 0, 'Area': 'General', 'start_index': 736}\n",
      "Metadata for chunk 5: {'source': 'datasets/rag/rfp_existing_questions_client_2.csv', 'row': 1, 'Area': 'General', 'start_index': 0}\n"
     ]
    }
   ],
   "source": [
    "number_of_chunks = 5  \n",
    "\n",
    "for i, chunk in enumerate(chunks[:number_of_chunks]):\n",
    "    print(f\"Metadata for chunk {i + 1}: {chunk.metadata}\")\n",
    "\n"
   ]
  },
  {
   "cell_type": "markdown",
   "metadata": {},
   "source": [
    "Access the source of each chunk:"
   ]
  },
  {
   "cell_type": "code",
   "execution_count": 20,
   "metadata": {},
   "outputs": [
    {
     "name": "stdout",
     "output_type": "stream",
     "text": [
      "Source for chunk 1: datasets/rag/rfp_existing_questions_client_2.csv\n",
      "Source for chunk 2: datasets/rag/rfp_existing_questions_client_2.csv\n",
      "Source for chunk 3: datasets/rag/rfp_existing_questions_client_2.csv\n",
      "Source for chunk 4: datasets/rag/rfp_existing_questions_client_2.csv\n",
      "Source for chunk 5: datasets/rag/rfp_existing_questions_client_2.csv\n"
     ]
    }
   ],
   "source": [
    "number_of_chunks = 5  \n",
    "\n",
    "for i, chunk in enumerate(chunks[:number_of_chunks]):\n",
    "    print(f\"Source for chunk {i + 1}: {chunk.metadata['source']}\")"
   ]
  },
  {
   "cell_type": "markdown",
   "metadata": {},
   "source": [
    "## Store chunks into a vectorstore"
   ]
  },
  {
   "cell_type": "code",
   "execution_count": 21,
   "metadata": {},
   "outputs": [],
   "source": [
    "from langchain.vectorstores.chroma import Chroma\n",
    "from langchain_openai import OpenAIEmbeddings\n",
    "\n",
    "embeddings_model = OpenAIEmbeddings(model=\"text-embedding-3-small\")\n",
    "\n",
    "vectorstore = Chroma.from_documents(\n",
    "    documents=chunks,\n",
    "    embedding=embeddings_model,\n",
    ")"
   ]
  },
  {
   "cell_type": "markdown",
   "metadata": {},
   "source": [
    "## Create evaluation dataset"
   ]
  },
  {
   "cell_type": "code",
   "execution_count": 22,
   "metadata": {},
   "outputs": [
    {
     "name": "stdout",
     "output_type": "stream",
     "text": [
      "Number of New RFP Questions: 23\n"
     ]
    }
   ],
   "source": [
    "# Load all RFPs into a single pandas DataFrame\n",
    "\n",
    "rag_evaluation_df = pd.read_csv(\"datasets/rag/rag_evaluation_dataset_v1.csv\")\n",
    "\n",
    "# Set the constant variable to the number of rows in the DataFrame\n",
    "NUM_OF_NEW_RFP_QUESTIONS = len(rag_evaluation_df)\n",
    "\n",
    "print(\"Number of New RFP Questions:\", NUM_OF_NEW_RFP_QUESTIONS)"
   ]
  },
  {
   "cell_type": "code",
   "execution_count": 23,
   "metadata": {},
   "outputs": [
    {
     "name": "stdout",
     "output_type": "stream",
     "text": [
      "<class 'pandas.core.frame.DataFrame'>\n",
      "RangeIndex: 23 entries, 0 to 22\n",
      "Data columns (total 7 columns):\n",
      " #   Column           Non-Null Count  Dtype \n",
      "---  ------           --------------  ----- \n",
      " 0   id               23 non-null     int64 \n",
      " 1   new_rfp          23 non-null     object\n",
      " 2   new_question     23 non-null     object\n",
      " 3   question_to_llm  23 non-null     object\n",
      " 4   answer           23 non-null     object\n",
      " 5   ground_truth     23 non-null     object\n",
      " 6   existing_rfp     23 non-null     object\n",
      "dtypes: int64(1), object(6)\n",
      "memory usage: 1.4+ KB\n"
     ]
    },
    {
     "data": {
      "text/html": [
       "<div>\n",
       "<style scoped>\n",
       "    .dataframe tbody tr th:only-of-type {\n",
       "        vertical-align: middle;\n",
       "    }\n",
       "\n",
       "    .dataframe tbody tr th {\n",
       "        vertical-align: top;\n",
       "    }\n",
       "\n",
       "    .dataframe thead th {\n",
       "        text-align: right;\n",
       "    }\n",
       "</style>\n",
       "<table border=\"1\" class=\"dataframe\">\n",
       "  <thead>\n",
       "    <tr style=\"text-align: right;\">\n",
       "      <th></th>\n",
       "      <th>id</th>\n",
       "      <th>new_rfp</th>\n",
       "      <th>new_question</th>\n",
       "      <th>question_to_llm</th>\n",
       "      <th>answer</th>\n",
       "      <th>ground_truth</th>\n",
       "      <th>existing_rfp</th>\n",
       "    </tr>\n",
       "  </thead>\n",
       "  <tbody>\n",
       "    <tr>\n",
       "      <th>0</th>\n",
       "      <td>1</td>\n",
       "      <td>rfp_new_questions_client_100.csv</td>\n",
       "      <td>What is your experience in developing AI-based...</td>\n",
       "      <td>What is the most similar question to: \"What is...</td>\n",
       "      <td>None</td>\n",
       "      <td>Can you discuss your expertise in creating AI-...</td>\n",
       "      <td>rfp_exisiting_questions_client_2.csv</td>\n",
       "    </tr>\n",
       "    <tr>\n",
       "      <th>1</th>\n",
       "      <td>2</td>\n",
       "      <td>rfp_new_questions_client_100.csv</td>\n",
       "      <td>How do you ensure your AI-based apps remain up...</td>\n",
       "      <td>What is the most similar question to: \"How do ...</td>\n",
       "      <td>None</td>\n",
       "      <td>How do you keep your AI applications current w...</td>\n",
       "      <td>rfp_exisiting_questions_client_2.csv</td>\n",
       "    </tr>\n",
       "    <tr>\n",
       "      <th>2</th>\n",
       "      <td>3</td>\n",
       "      <td>rfp_new_questions_client_100.csv</td>\n",
       "      <td>Can your AI-based applications be customized t...</td>\n",
       "      <td>What is the most similar question to: \"Can you...</td>\n",
       "      <td>None</td>\n",
       "      <td>Are your AI applications adaptable to specific...</td>\n",
       "      <td>rfp_exisiting_questions_client_2.csv</td>\n",
       "    </tr>\n",
       "    <tr>\n",
       "      <th>3</th>\n",
       "      <td>4</td>\n",
       "      <td>rfp_new_questions_client_100.csv</td>\n",
       "      <td>What measures do you take to ensure user priva...</td>\n",
       "      <td>What is the most similar question to: \"What me...</td>\n",
       "      <td>None</td>\n",
       "      <td>What steps do you undertake to protect user pr...</td>\n",
       "      <td>rfp_exisiting_questions_client_2.csv</td>\n",
       "    </tr>\n",
       "    <tr>\n",
       "      <th>4</th>\n",
       "      <td>5</td>\n",
       "      <td>rfp_new_questions_client_100.csv</td>\n",
       "      <td>How do you approach user interface and experie...</td>\n",
       "      <td>What is the most similar question to: \"How do ...</td>\n",
       "      <td>None</td>\n",
       "      <td>What strategies do you employ to design user i...</td>\n",
       "      <td>rfp_exisiting_questions_client_2.csv</td>\n",
       "    </tr>\n",
       "  </tbody>\n",
       "</table>\n",
       "</div>"
      ],
      "text/plain": [
       "   id                           new_rfp  \\\n",
       "0   1  rfp_new_questions_client_100.csv   \n",
       "1   2  rfp_new_questions_client_100.csv   \n",
       "2   3  rfp_new_questions_client_100.csv   \n",
       "3   4  rfp_new_questions_client_100.csv   \n",
       "4   5  rfp_new_questions_client_100.csv   \n",
       "\n",
       "                                        new_question  \\\n",
       "0  What is your experience in developing AI-based...   \n",
       "1  How do you ensure your AI-based apps remain up...   \n",
       "2  Can your AI-based applications be customized t...   \n",
       "3  What measures do you take to ensure user priva...   \n",
       "4  How do you approach user interface and experie...   \n",
       "\n",
       "                                     question_to_llm answer  \\\n",
       "0  What is the most similar question to: \"What is...   None   \n",
       "1  What is the most similar question to: \"How do ...   None   \n",
       "2  What is the most similar question to: \"Can you...   None   \n",
       "3  What is the most similar question to: \"What me...   None   \n",
       "4  What is the most similar question to: \"How do ...   None   \n",
       "\n",
       "                                        ground_truth  \\\n",
       "0  Can you discuss your expertise in creating AI-...   \n",
       "1  How do you keep your AI applications current w...   \n",
       "2  Are your AI applications adaptable to specific...   \n",
       "3  What steps do you undertake to protect user pr...   \n",
       "4  What strategies do you employ to design user i...   \n",
       "\n",
       "                           existing_rfp  \n",
       "0  rfp_exisiting_questions_client_2.csv  \n",
       "1  rfp_exisiting_questions_client_2.csv  \n",
       "2  rfp_exisiting_questions_client_2.csv  \n",
       "3  rfp_exisiting_questions_client_2.csv  \n",
       "4  rfp_exisiting_questions_client_2.csv  "
      ]
     },
     "execution_count": 23,
     "metadata": {},
     "output_type": "execute_result"
    }
   ],
   "source": [
    "rag_evaluation_df.info()\n",
    "rag_evaluation_df.head()"
   ]
  },
  {
   "cell_type": "code",
   "execution_count": 24,
   "metadata": {},
   "outputs": [],
   "source": [
    "from langchain_openai import ChatOpenAI\n",
    "\n",
    "llm = ChatOpenAI(model=\"gpt-4-turbo\", temperature=0.0)\n",
    "retriever = vectorstore.as_retriever(search_kwargs={\"k\": 5})"
   ]
  },
  {
   "cell_type": "code",
   "execution_count": 25,
   "metadata": {},
   "outputs": [],
   "source": [
    "from langchain.prompts import ChatPromptTemplate\n",
    "\n",
    "template = \"\"\"Answer the question based only on the following context. \n",
    "If you cannot answer the question with the context, please respond with 'I don't know':\n",
    "\n",
    "### CONTEXT\n",
    "{context}\n",
    "\n",
    "### QUESTION\n",
    "Question: {question}\n",
    "\"\"\"\n",
    "\n",
    "prompt = ChatPromptTemplate.from_template(template)"
   ]
  },
  {
   "cell_type": "code",
   "execution_count": 26,
   "metadata": {},
   "outputs": [],
   "source": [
    "from operator import itemgetter\n",
    "\n",
    "from langchain_openai import ChatOpenAI\n",
    "from langchain.schema.output_parser import StrOutputParser\n",
    "from langchain.schema.runnable import RunnableLambda, RunnablePassthrough\n",
    "\n",
    "# Step 1: \"question\": Retrieved from the \"question\" key.\n",
    "# Step 2: \"context\": Retrieved from the \"question\" key and fed into the retriever.\n",
    "# Step 3: \"context\": Assigned to a RunnablePassthrough object using the \"context\" key from the previous step.\n",
    "# Step 4: \"answer\": \"context\" and \"question\" are combined to format the prompt, then sent to the LLM and stored under the \"answer\" key.\n",
    "# Step 5: \"context\": Repopulated using the \"context\" key from the previous step.\n",
    "\n",
    "llm = ChatOpenAI(model_name=\"gpt-4-turbo\", temperature=0)\n",
    "\n",
    "rag_chain = (\n",
    "    \n",
    "    {\"context\": itemgetter(\"question\") | retriever, \"question\": itemgetter(\"question\")}\n",
    "    | RunnablePassthrough.assign(context=itemgetter(\"context\"))\n",
    "    | {\"answer\": prompt | llm, \"context\": itemgetter(\"context\")}\n",
    "\n",
    ")"
   ]
  },
  {
   "cell_type": "markdown",
   "metadata": {},
   "source": [
    "Ask a question to test the chain:"
   ]
  },
  {
   "cell_type": "code",
   "execution_count": 27,
   "metadata": {},
   "outputs": [
    {
     "name": "stdout",
     "output_type": "stream",
     "text": [
      "{'answer': AIMessage(content='RFP_Question_ID: 1\\nRFP_Question: Can you discuss your expertise in creating AI-driven applications and share examples of your successful implementations?', response_metadata={'token_usage': {'completion_tokens': 32, 'prompt_tokens': 589, 'total_tokens': 621}, 'model_name': 'gpt-4-turbo', 'system_fingerprint': 'fp_76f018034d', 'finish_reason': 'stop', 'logprobs': None}, id='run-bc067503-662c-4efd-b3a5-a9be2309ad69-0'), 'context': [Document(page_content='Project_Title: AI-Powered Risk Assessment Model Development for Loan Processing\\nRFP_Question_ID: 1\\nRFP_Question: Can you discuss your expertise in creating AI-driven applications and share examples of your successful implementations?', metadata={'Area': 'General', 'row': 0, 'source': 'datasets/rag/rfp_existing_questions_client_2.csv', 'start_index': 0}), Document(page_content='Project_Title: AI-Powered Risk Assessment Model Development for Loan Processing\\nRFP_Question_ID: 2\\nRFP_Question: How do you keep your AI applications current with ongoing advancements in artificial intelligence?', metadata={'Area': 'General', 'row': 1, 'source': 'datasets/rag/rfp_existing_questions_client_2.csv', 'start_index': 0}), Document(page_content='RFP_Answer: Our company has 15 years of experience in developing AI-based applications, with a strong portfolio in sectors such as healthcare, finance, and education. For instance, our project MediAI Insight for the healthcare industry demonstrated significant achievements in patient data analysis, resulting in a 30% reduction in diagnostic errors and a 40% improvement in treatment personalization. Our platform has engaged over 200 healthcare facilities, achieving a user satisfaction rate of', metadata={'Area': 'General', 'row': 0, 'source': 'datasets/rag/rfp_existing_questions_client_2.csv', 'start_index': 234}), Document(page_content='RFP_Answer: We maintain a dedicated R&D team focused on integrating the latest AI advancements into our applications. This includes regular updates and feature enhancements based on cutting-edge technologies such as GPT (Generative Pre-trained Transformer) for natural language understanding, CNNs (Convolutional Neural Networks) for advanced image recognition tasks, and DQN (Deep Q-Networks) for decision-making processes in complex environments. Our commitment to these AI methodologies ensures', metadata={'Area': 'General', 'row': 1, 'source': 'datasets/rag/rfp_existing_questions_client_2.csv', 'start_index': 212}), Document(page_content='Project_Title: AI-Powered Risk Assessment Model Development for Loan Processing\\nRFP_Question_ID: 5\\nRFP_Question: What strategies do you employ to design user interfaces and experiences in AI applications to maximize usability and user engagement?', metadata={'Area': 'General', 'row': 4, 'source': 'datasets/rag/rfp_existing_questions_client_2.csv', 'start_index': 0})]}\n"
     ]
    }
   ],
   "source": [
    "question = \"Find a similar question as this one: 'What is your experience in developing AI-based applications?'\"\n",
    "response = rag_chain.invoke({\"question\" : question})\n",
    "print(response)"
   ]
  },
  {
   "cell_type": "markdown",
   "metadata": {},
   "source": [
    "As defined in the earlier chat prompt, the RAG response includes two fields: `answer` and `context`:"
   ]
  },
  {
   "cell_type": "code",
   "execution_count": 28,
   "metadata": {},
   "outputs": [
    {
     "name": "stdout",
     "output_type": "stream",
     "text": [
      "answer\n",
      "context\n"
     ]
    }
   ],
   "source": [
    "print_dict_keys(response)"
   ]
  },
  {
   "cell_type": "markdown",
   "metadata": {},
   "source": [
    "Inspecting the answer, we see that the `rag_chain` is functioning correctly and identifies the most similar question in the `vectorstore`:"
   ]
  },
  {
   "cell_type": "code",
   "execution_count": 29,
   "metadata": {},
   "outputs": [
    {
     "name": "stdout",
     "output_type": "stream",
     "text": [
      "Question:\n",
      "Find a similar question as this one: 'What is your experience in developing AI-based applications?'\n",
      "\n",
      "Answer:\n",
      "RFP_Question_ID: 1\n",
      "RFP_Question: Can you discuss your expertise in creating AI-driven applications and share examples of your successful implementations?\n"
     ]
    }
   ],
   "source": [
    "print(f\"Question:\")\n",
    "print(question)\n",
    "print()\n",
    "print(f\"Answer:\")\n",
    "print(response[\"answer\"].content)"
   ]
  },
  {
   "cell_type": "markdown",
   "metadata": {},
   "source": [
    "Next, we inspect the content of the `answer` and the `context` retrieved based on the `question`. The context should contain `k` chunks, the most relevant based on the question. Remember that we set`k` in the `retriever` earlier. These `k` chunks are pasted into the prompt as text, informing the LLM to generate an answer that is closer in the embedding space to the question."
   ]
  },
  {
   "cell_type": "code",
   "execution_count": 30,
   "metadata": {},
   "outputs": [
    {
     "name": "stdout",
     "output_type": "stream",
     "text": [
      "Content for chunk 1:\n",
      "Project_Title: AI-Powered Risk Assessment Model Development for Loan Processing\n",
      "RFP_Question_ID: 1\n",
      "RFP_Question: Can you discuss your expertise in creating AI-driven applications and share examples of your successful implementations?\n",
      "\n",
      "Content for chunk 2:\n",
      "Project_Title: AI-Powered Risk Assessment Model Development for Loan Processing\n",
      "RFP_Question_ID: 2\n",
      "RFP_Question: How do you keep your AI applications current with ongoing advancements in artificial intelligence?\n",
      "\n",
      "Content for chunk 3:\n",
      "RFP_Answer: Our company has 15 years of experience in developing AI-based applications, with a strong portfolio in sectors such as healthcare, finance, and education. For instance, our project MediAI Insight for the healthcare industry demonstrated significant achievements in patient data analysis, resulting in a 30% reduction in diagnostic errors and a 40% improvement in treatment personalization. Our platform has engaged over 200 healthcare facilities, achieving a user satisfaction rate of\n",
      "\n",
      "Content for chunk 4:\n",
      "RFP_Answer: We maintain a dedicated R&D team focused on integrating the latest AI advancements into our applications. This includes regular updates and feature enhancements based on cutting-edge technologies such as GPT (Generative Pre-trained Transformer) for natural language understanding, CNNs (Convolutional Neural Networks) for advanced image recognition tasks, and DQN (Deep Q-Networks) for decision-making processes in complex environments. Our commitment to these AI methodologies ensures\n",
      "\n",
      "Content for chunk 5:\n",
      "Project_Title: AI-Powered Risk Assessment Model Development for Loan Processing\n",
      "RFP_Question_ID: 5\n",
      "RFP_Question: What strategies do you employ to design user interfaces and experiences in AI applications to maximize usability and user engagement?\n",
      "\n"
     ]
    }
   ],
   "source": [
    "number_of_chunks = 5  \n",
    "\n",
    "for i, chunk in enumerate(response[\"context\"][:number_of_chunks]):\n",
    "    print(f\"Content for chunk {i + 1}:\")  # i + 1 to start counting from 1 instead of 0\n",
    "    print(chunk.page_content)\n",
    "    print()"
   ]
  },
  {
   "cell_type": "markdown",
   "metadata": {},
   "source": [
    "We now inspect the `response_metadata` object to understand its contents and identify what could be useful to incorporate in our RAG evaluation dataset:"
   ]
  },
  {
   "cell_type": "code",
   "execution_count": 31,
   "metadata": {},
   "outputs": [
    {
     "name": "stdout",
     "output_type": "stream",
     "text": [
      "{'token_usage': {'completion_tokens': 32, 'prompt_tokens': 589, 'total_tokens': 621}, 'model_name': 'gpt-4-turbo', 'system_fingerprint': 'fp_76f018034d', 'finish_reason': 'stop', 'logprobs': None}\n"
     ]
    }
   ],
   "source": [
    "print(response[\"answer\"].response_metadata)"
   ]
  },
  {
   "cell_type": "code",
   "execution_count": 32,
   "metadata": {},
   "outputs": [
    {
     "name": "stdout",
     "output_type": "stream",
     "text": [
      "token_usage\n",
      "    completion_tokens\n",
      "    prompt_tokens\n",
      "    total_tokens\n",
      "model_name\n",
      "system_fingerprint\n",
      "finish_reason\n",
      "logprobs\n"
     ]
    }
   ],
   "source": [
    "print_dict_keys(response[\"answer\"].response_metadata)"
   ]
  },
  {
   "cell_type": "markdown",
   "metadata": {},
   "source": [
    "Extracting the LLM used:"
   ]
  },
  {
   "cell_type": "code",
   "execution_count": 33,
   "metadata": {},
   "outputs": [
    {
     "name": "stdout",
     "output_type": "stream",
     "text": [
      "Model: gpt-4-turbo\n"
     ]
    }
   ],
   "source": [
    "print(f\"Model: {response['answer'].response_metadata['model_name']}\")"
   ]
  },
  {
   "cell_type": "markdown",
   "metadata": {},
   "source": [
    "As we showed earlier, we can also extract some token usage statistics that can help us understand and optimize our interactions with the language model for cost-effectiveness and efficiency.\n",
    "\n",
    "- **Prompt tokens**: tokens that form the input text sent to the language model. This includes all the text provided to the LLM to generate a response.\n",
    "- **Completion tokens**: number of tokens in the generated text or output from the model.\n",
    "- **Total tokens**: total number of tokens processed by the model. It is the sum of both `prompt_tokens` and `completion_tokens`. "
   ]
  },
  {
   "cell_type": "code",
   "execution_count": 34,
   "metadata": {},
   "outputs": [
    {
     "name": "stdout",
     "output_type": "stream",
     "text": [
      "Completion tokens: 32\n",
      "Prompt tokens: 589\n",
      "Total tokens: 621\n"
     ]
    }
   ],
   "source": [
    "print(f\"Completion tokens: {response['answer'].response_metadata['token_usage']['completion_tokens']}\")\n",
    "print(f\"Prompt tokens: {response['answer'].response_metadata['token_usage']['prompt_tokens']}\")\n",
    "print(f\"Total tokens: {response['answer'].response_metadata['token_usage']['total_tokens']}\")"
   ]
  },
  {
   "cell_type": "markdown",
   "metadata": {},
   "source": [
    "We will now expand our evaluation dataset to capture some metadata generated by the LLM, which will be used later when validating our RAG pipeline. We will add the following additional columns to our dataframe: `context`, `model_name`, `completion_tokens`, prompt_tokens, and `total_tokens`."
   ]
  },
  {
   "cell_type": "code",
   "execution_count": 35,
   "metadata": {},
   "outputs": [],
   "source": [
    "rag_evaluation_df['context'] = ''\n",
    "\n",
    "rag_evaluation_df['question_embeddings'] = ''\n",
    "rag_evaluation_df['answer_embeddings'] = ''\n",
    "rag_evaluation_df['context_embeddings'] = ''\n",
    "\n",
    "rag_evaluation_df['similarity_score_question_vs_context'] = ''\n",
    "rag_evaluation_df['similarity_score_question_vs_answer'] = ''\n",
    "rag_evaluation_df['similarity_score_context_vs_answer'] = ''\n",
    "\n",
    "rag_evaluation_df['model'] = ''\n",
    "\n",
    "rag_evaluation_df['completion_tokens'] = ''\n",
    "rag_evaluation_df['prompt_tokens'] = ''\n",
    "rag_evaluation_df['total_tokens'] = ''\n",
    "\n",
    "rag_evaluation_df['response_time'] = ''"
   ]
  },
  {
   "cell_type": "markdown",
   "metadata": {},
   "source": [
    "We would like to also compute few similarity metrics between embeddings such as cosine similaruty or euclidean distance: "
   ]
  },
  {
   "cell_type": "code",
   "execution_count": 36,
   "metadata": {},
   "outputs": [],
   "source": [
    "import numpy as np\n",
    "from sklearn.metrics.pairwise import cosine_similarity\n",
    "\n",
    "def cosine_similarity_score(embedding1, embedding2):\n",
    "    \"\"\"\n",
    "    Computes the cosine similarity between two embeddings.\n",
    "\n",
    "    Parameters:\n",
    "    - embedding1 (array-like): Embedding of the first entity.\n",
    "    - embedding2 (array-like): Embedding of the second entity.\n",
    "\n",
    "    Returns:\n",
    "    - float: Cosine similarity score between the two embeddings.\n",
    "\n",
    "    Note: The order of the embeddings does not affect the result as cosine similarity is symmetric.\n",
    "    \"\"\"\n",
    "    # Ensure the embeddings are reshaped to 2D arrays for sklearn's cosine_similarity\n",
    "    embedding1 = np.array(embedding1).reshape(1, -1)\n",
    "    embedding2 = np.array(embedding2).reshape(1, -1)\n",
    "\n",
    "    # Calculate and return the cosine similarity\n",
    "    return cosine_similarity(embedding1, embedding2)[0][0]"
   ]
  },
  {
   "cell_type": "code",
   "execution_count": 37,
   "metadata": {},
   "outputs": [],
   "source": [
    "import numpy as np\n",
    "\n",
    "def euclidean_distance(embedding1, embedding2):\n",
    "    \"\"\"\n",
    "    Computes the Euclidean distance between two embeddings.\n",
    "\n",
    "    Parameters:\n",
    "    - embedding1 (array-like): First embedding vector.\n",
    "    - embedding2 (array-like): Second embedding vector.\n",
    "\n",
    "    Returns:\n",
    "    - float: Euclidean distance between the two embeddings.\n",
    "    \"\"\"\n",
    "    # Convert inputs to NumPy arrays if they aren't already\n",
    "    embedding1 = np.array(embedding1)\n",
    "    embedding2 = np.array(embedding2)\n",
    "    \n",
    "    # Calculate and return the Euclidean distance\n",
    "    return np.linalg.norm(embedding1 - embedding2)"
   ]
  },
  {
   "cell_type": "code",
   "execution_count": 38,
   "metadata": {},
   "outputs": [
    {
     "name": "stdout",
     "output_type": "stream",
     "text": [
      "Processing row 0...\n",
      "Answer is 'None' for question ID 0. Invoking RAG model...\n",
      "Question ID 0 answer updated with the response from the RAG model.\n",
      "Computing embeddings for the question...\n",
      "Computing embeddings for the context...\n",
      "Computing embeddings for the answer...\n",
      "Computing cosine similarity between question and context...\n",
      "Computing cosine similarity between question and answer...\n",
      "Computing cosine similarity between context and answer...\n",
      "Processing row 1...\n",
      "Answer is 'None' for question ID 1. Invoking RAG model...\n",
      "Question ID 1 answer updated with the response from the RAG model.\n",
      "Computing embeddings for the question...\n",
      "Computing embeddings for the context...\n",
      "Computing embeddings for the answer...\n",
      "Computing cosine similarity between question and context...\n",
      "Computing cosine similarity between question and answer...\n",
      "Computing cosine similarity between context and answer...\n",
      "Processing row 2...\n",
      "Answer is 'None' for question ID 2. Invoking RAG model...\n",
      "Question ID 2 answer updated with the response from the RAG model.\n",
      "Computing embeddings for the question...\n",
      "Computing embeddings for the context...\n",
      "Computing embeddings for the answer...\n",
      "Computing cosine similarity between question and context...\n",
      "Computing cosine similarity between question and answer...\n",
      "Computing cosine similarity between context and answer...\n",
      "Processing row 3...\n",
      "Answer is 'None' for question ID 3. Invoking RAG model...\n",
      "Question ID 3 answer updated with the response from the RAG model.\n",
      "Computing embeddings for the question...\n",
      "Computing embeddings for the context...\n",
      "Computing embeddings for the answer...\n",
      "Computing cosine similarity between question and context...\n",
      "Computing cosine similarity between question and answer...\n",
      "Computing cosine similarity between context and answer...\n",
      "Processing row 4...\n",
      "Answer is 'None' for question ID 4. Invoking RAG model...\n",
      "Question ID 4 answer updated with the response from the RAG model.\n",
      "Computing embeddings for the question...\n",
      "Computing embeddings for the context...\n",
      "Computing embeddings for the answer...\n",
      "Computing cosine similarity between question and context...\n",
      "Computing cosine similarity between question and answer...\n",
      "Computing cosine similarity between context and answer...\n",
      "Processing row 5...\n",
      "Answer is 'None' for question ID 5. Invoking RAG model...\n",
      "Question ID 5 answer updated with the response from the RAG model.\n",
      "Computing embeddings for the question...\n",
      "Computing embeddings for the context...\n",
      "Computing embeddings for the answer...\n",
      "Computing cosine similarity between question and context...\n",
      "Computing cosine similarity between question and answer...\n",
      "Computing cosine similarity between context and answer...\n",
      "Processing row 6...\n",
      "Answer is 'None' for question ID 6. Invoking RAG model...\n",
      "Question ID 6 answer updated with the response from the RAG model.\n",
      "Computing embeddings for the question...\n",
      "Computing embeddings for the context...\n",
      "Computing embeddings for the answer...\n",
      "Computing cosine similarity between question and context...\n",
      "Computing cosine similarity between question and answer...\n",
      "Computing cosine similarity between context and answer...\n",
      "Processing row 7...\n",
      "Answer is 'None' for question ID 7. Invoking RAG model...\n",
      "Question ID 7 answer updated with the response from the RAG model.\n",
      "Computing embeddings for the question...\n",
      "Computing embeddings for the context...\n",
      "Computing embeddings for the answer...\n",
      "Computing cosine similarity between question and context...\n",
      "Computing cosine similarity between question and answer...\n",
      "Computing cosine similarity between context and answer...\n",
      "Processing row 8...\n",
      "Answer is 'None' for question ID 8. Invoking RAG model...\n",
      "Question ID 8 answer updated with the response from the RAG model.\n",
      "Computing embeddings for the question...\n",
      "Computing embeddings for the context...\n",
      "Computing embeddings for the answer...\n",
      "Computing cosine similarity between question and context...\n",
      "Computing cosine similarity between question and answer...\n",
      "Computing cosine similarity between context and answer...\n",
      "Processing row 9...\n",
      "Answer is 'None' for question ID 9. Invoking RAG model...\n",
      "Question ID 9 answer updated with the response from the RAG model.\n",
      "Computing embeddings for the question...\n",
      "Computing embeddings for the context...\n",
      "Computing embeddings for the answer...\n",
      "Computing cosine similarity between question and context...\n",
      "Computing cosine similarity between question and answer...\n",
      "Computing cosine similarity between context and answer...\n",
      "Processing row 10...\n",
      "Answer is 'None' for question ID 10. Invoking RAG model...\n",
      "Question ID 10 answer updated with the response from the RAG model.\n",
      "Computing embeddings for the question...\n",
      "Computing embeddings for the context...\n",
      "Computing embeddings for the answer...\n",
      "Computing cosine similarity between question and context...\n",
      "Computing cosine similarity between question and answer...\n",
      "Computing cosine similarity between context and answer...\n",
      "Processing row 11...\n",
      "Answer is 'None' for question ID 11. Invoking RAG model...\n",
      "Question ID 11 answer updated with the response from the RAG model.\n",
      "Computing embeddings for the question...\n",
      "Computing embeddings for the context...\n",
      "Computing embeddings for the answer...\n",
      "Computing cosine similarity between question and context...\n",
      "Computing cosine similarity between question and answer...\n",
      "Computing cosine similarity between context and answer...\n",
      "Processing row 12...\n",
      "Answer is 'None' for question ID 12. Invoking RAG model...\n",
      "Question ID 12 answer updated with the response from the RAG model.\n",
      "Computing embeddings for the question...\n",
      "Computing embeddings for the context...\n",
      "Computing embeddings for the answer...\n",
      "Computing cosine similarity between question and context...\n",
      "Computing cosine similarity between question and answer...\n",
      "Computing cosine similarity between context and answer...\n",
      "Processing row 13...\n",
      "Answer is 'None' for question ID 13. Invoking RAG model...\n",
      "Question ID 13 answer updated with the response from the RAG model.\n",
      "Computing embeddings for the question...\n",
      "Computing embeddings for the context...\n",
      "Computing embeddings for the answer...\n",
      "Computing cosine similarity between question and context...\n",
      "Computing cosine similarity between question and answer...\n",
      "Computing cosine similarity between context and answer...\n",
      "Processing row 14...\n",
      "Answer is 'None' for question ID 14. Invoking RAG model...\n",
      "Question ID 14 answer updated with the response from the RAG model.\n",
      "Computing embeddings for the question...\n",
      "Computing embeddings for the context...\n",
      "Computing embeddings for the answer...\n",
      "Computing cosine similarity between question and context...\n",
      "Computing cosine similarity between question and answer...\n",
      "Computing cosine similarity between context and answer...\n",
      "Processing row 15...\n",
      "Answer is 'None' for question ID 15. Invoking RAG model...\n",
      "Question ID 15 answer updated with the response from the RAG model.\n",
      "Computing embeddings for the question...\n",
      "Computing embeddings for the context...\n",
      "Computing embeddings for the answer...\n",
      "Computing cosine similarity between question and context...\n",
      "Computing cosine similarity between question and answer...\n",
      "Computing cosine similarity between context and answer...\n",
      "Processing row 16...\n",
      "Answer is 'None' for question ID 16. Invoking RAG model...\n",
      "Question ID 16 answer updated with the response from the RAG model.\n",
      "Computing embeddings for the question...\n",
      "Computing embeddings for the context...\n",
      "Computing embeddings for the answer...\n",
      "Computing cosine similarity between question and context...\n",
      "Computing cosine similarity between question and answer...\n",
      "Computing cosine similarity between context and answer...\n",
      "Processing row 17...\n",
      "Answer is 'None' for question ID 17. Invoking RAG model...\n",
      "Question ID 17 answer updated with the response from the RAG model.\n",
      "Computing embeddings for the question...\n",
      "Computing embeddings for the context...\n",
      "Computing embeddings for the answer...\n",
      "Computing cosine similarity between question and context...\n",
      "Computing cosine similarity between question and answer...\n",
      "Computing cosine similarity between context and answer...\n",
      "Processing row 18...\n",
      "Answer is 'None' for question ID 18. Invoking RAG model...\n",
      "Question ID 18 answer updated with the response from the RAG model.\n",
      "Computing embeddings for the question...\n",
      "Computing embeddings for the context...\n",
      "Computing embeddings for the answer...\n",
      "Computing cosine similarity between question and context...\n",
      "Computing cosine similarity between question and answer...\n",
      "Computing cosine similarity between context and answer...\n",
      "Processing row 19...\n",
      "Answer is 'None' for question ID 19. Invoking RAG model...\n",
      "Question ID 19 answer updated with the response from the RAG model.\n",
      "Computing embeddings for the question...\n",
      "Computing embeddings for the context...\n",
      "Computing embeddings for the answer...\n",
      "Computing cosine similarity between question and context...\n",
      "Computing cosine similarity between question and answer...\n",
      "Computing cosine similarity between context and answer...\n",
      "Processing row 20...\n",
      "Answer is 'None' for question ID 20. Invoking RAG model...\n",
      "Question ID 20 answer updated with the response from the RAG model.\n",
      "Computing embeddings for the question...\n",
      "Computing embeddings for the context...\n",
      "Computing embeddings for the answer...\n",
      "Computing cosine similarity between question and context...\n",
      "Computing cosine similarity between question and answer...\n",
      "Computing cosine similarity between context and answer...\n",
      "Processing row 21...\n",
      "Answer is 'None' for question ID 21. Invoking RAG model...\n",
      "Question ID 21 answer updated with the response from the RAG model.\n",
      "Computing embeddings for the question...\n",
      "Computing embeddings for the context...\n",
      "Computing embeddings for the answer...\n",
      "Computing cosine similarity between question and context...\n",
      "Computing cosine similarity between question and answer...\n",
      "Computing cosine similarity between context and answer...\n",
      "Processing row 22...\n",
      "Answer is 'None' for question ID 22. Invoking RAG model...\n",
      "Question ID 22 answer updated with the response from the RAG model.\n",
      "Computing embeddings for the question...\n",
      "Computing embeddings for the context...\n",
      "Computing embeddings for the answer...\n",
      "Computing cosine similarity between question and context...\n",
      "Computing cosine similarity between question and answer...\n",
      "Computing cosine similarity between context and answer...\n",
      "Processing complete.\n"
     ]
    }
   ],
   "source": [
    "import time\n",
    "\n",
    "# Number of questions to process by the RAG model\n",
    "number_of_rows_to_process = NUM_OF_NEW_RFP_QUESTIONS\n",
    "\n",
    "for i, (index, row) in enumerate(rag_evaluation_df.iloc[:number_of_rows_to_process].iterrows()):\n",
    "    print(f\"Processing row {i}...\")\n",
    "\n",
    "    # Check if the 'answer' field is 'None' (as a string) for the current row\n",
    "    if row[\"answer\"] == \"None\":\n",
    "        print(f\"Answer is 'None' for question ID {index}. Invoking RAG model...\")\n",
    "\n",
    "        start_time = time.time()  # Start timing\n",
    "        \n",
    "        # Invoke the RAG model with the question from the current row\n",
    "        response = rag_chain.invoke({\"question\": row[\"question_to_llm\"]})\n",
    "\n",
    "        end_time = time.time()  # End timing\n",
    "\n",
    "        # Calculate the response time and store it\n",
    "        rag_evaluation_df.at[index, 'response_time'] = round(end_time - start_time, 1)\n",
    "\n",
    "        # Store whatever response comes from the LLM\n",
    "        rag_evaluation_df.at[index, \"answer\"] = response[\"answer\"].content\n",
    "        print(f\"Question ID {index} answer updated with the response from the RAG model.\")\n",
    "    \n",
    "        # Store the context included in the prompt\n",
    "        context = \"\\n\\n\".join(chunk.page_content for chunk in response[\"context\"])\n",
    "        rag_evaluation_df.at[index, \"context\"] = context\n",
    "        \n",
    "        # Compute and store embeddings for the question, context and answer\n",
    "        print(\"Computing embeddings for the question...\")\n",
    "        question_embeddings = np.array(embeddings_model.embed_query(row[\"question_to_llm\"]))\n",
    "        rag_evaluation_df.at[index, 'question_embeddings'] = question_embeddings\n",
    "        \n",
    "        print(\"Computing embeddings for the context...\")\n",
    "        context_embeddings = np.array(embeddings_model.embed_query(context))\n",
    "        rag_evaluation_df.at[index, 'context_embeddings'] = context_embeddings\n",
    "        \n",
    "        print(\"Computing embeddings for the answer...\")\n",
    "        answer_embeddings = np.array(embeddings_model.embed_query(response[\"answer\"].content))\n",
    "        rag_evaluation_df.at[index, 'answer_embeddings'] = answer_embeddings\n",
    "        \n",
    "        # Compute similarity measures between embeddings \n",
    "        print(\"Computing cosine similarity between question and context...\")\n",
    "        rag_evaluation_df.at[index, 'similarity_score_question_vs_context'] = cosine_similarity_score(question_embeddings, context_embeddings)\n",
    "        \n",
    "        print(\"Computing cosine similarity between question and answer...\")\n",
    "        rag_evaluation_df.at[index, 'similarity_score_question_vs_answer'] = cosine_similarity_score(question_embeddings, answer_embeddings)\n",
    "\n",
    "        print(\"Computing cosine similarity between context and answer...\")\n",
    "        rag_evaluation_df.at[index, 'similarity_score_context_vs_answer'] = cosine_similarity_score(context_embeddings, answer_embeddings)\n",
    "        \n",
    "        # Store some metadata such as model name and tokens statistics\n",
    "        rag_evaluation_df.at[index, \"model\"] = response[\"answer\"].response_metadata[\"model_name\"]\n",
    "        rag_evaluation_df.at[index, \"completion_tokens\"] = response['answer'].response_metadata['token_usage']['completion_tokens']\n",
    "        rag_evaluation_df.at[index, \"prompt_tokens\"] = response['answer'].response_metadata['token_usage']['prompt_tokens']\n",
    "        rag_evaluation_df.at[index, \"total_tokens\"] = response['answer'].response_metadata['token_usage']['total_tokens']\n",
    "\n",
    "print(\"Processing complete.\")"
   ]
  },
  {
   "cell_type": "markdown",
   "metadata": {},
   "source": [
    "First, check if all responses have been generated by the RAG pipeline or if there are any `None` values in the answers column. If there are any rows with `None` answers, remove these before they are passed to the RAGAS metrics."
   ]
  },
  {
   "cell_type": "code",
   "execution_count": 39,
   "metadata": {},
   "outputs": [
    {
     "data": {
      "text/html": [
       "<div>\n",
       "<style scoped>\n",
       "    .dataframe tbody tr th:only-of-type {\n",
       "        vertical-align: middle;\n",
       "    }\n",
       "\n",
       "    .dataframe tbody tr th {\n",
       "        vertical-align: top;\n",
       "    }\n",
       "\n",
       "    .dataframe thead th {\n",
       "        text-align: right;\n",
       "    }\n",
       "</style>\n",
       "<table border=\"1\" class=\"dataframe\">\n",
       "  <thead>\n",
       "    <tr style=\"text-align: right;\">\n",
       "      <th></th>\n",
       "      <th>id</th>\n",
       "      <th>new_rfp</th>\n",
       "      <th>new_question</th>\n",
       "      <th>question_to_llm</th>\n",
       "      <th>answer</th>\n",
       "      <th>ground_truth</th>\n",
       "      <th>existing_rfp</th>\n",
       "      <th>context</th>\n",
       "      <th>question_embeddings</th>\n",
       "      <th>answer_embeddings</th>\n",
       "      <th>context_embeddings</th>\n",
       "      <th>similarity_score_question_vs_context</th>\n",
       "      <th>similarity_score_question_vs_answer</th>\n",
       "      <th>similarity_score_context_vs_answer</th>\n",
       "      <th>model</th>\n",
       "      <th>completion_tokens</th>\n",
       "      <th>prompt_tokens</th>\n",
       "      <th>total_tokens</th>\n",
       "      <th>response_time</th>\n",
       "    </tr>\n",
       "  </thead>\n",
       "  <tbody>\n",
       "    <tr>\n",
       "      <th>0</th>\n",
       "      <td>1</td>\n",
       "      <td>rfp_new_questions_client_100.csv</td>\n",
       "      <td>What is your experience in developing AI-based...</td>\n",
       "      <td>What is the most similar question to: \"What is...</td>\n",
       "      <td>RFP_Question: Can you discuss your expertise i...</td>\n",
       "      <td>Can you discuss your expertise in creating AI-...</td>\n",
       "      <td>rfp_exisiting_questions_client_2.csv</td>\n",
       "      <td>Project_Title: AI-Powered Risk Assessment Mode...</td>\n",
       "      <td>[-0.012242779808196847, -0.02875495641236209, ...</td>\n",
       "      <td>[0.028609594368424196, -0.024913389269028082, ...</td>\n",
       "      <td>[0.0096687535303967, -0.009518850642010203, 0....</td>\n",
       "      <td>0.627775</td>\n",
       "      <td>0.733246</td>\n",
       "      <td>0.770459</td>\n",
       "      <td>gpt-4-turbo</td>\n",
       "      <td>23</td>\n",
       "      <td>550</td>\n",
       "      <td>573</td>\n",
       "      <td>1.9</td>\n",
       "    </tr>\n",
       "    <tr>\n",
       "      <th>1</th>\n",
       "      <td>2</td>\n",
       "      <td>rfp_new_questions_client_100.csv</td>\n",
       "      <td>How do you ensure your AI-based apps remain up...</td>\n",
       "      <td>What is the most similar question to: \"How do ...</td>\n",
       "      <td>RFP_Question: How do you keep your AI applicat...</td>\n",
       "      <td>How do you keep your AI applications current w...</td>\n",
       "      <td>rfp_exisiting_questions_client_2.csv</td>\n",
       "      <td>Project_Title: AI-Powered Risk Assessment Mode...</td>\n",
       "      <td>[-0.021238304961058666, -0.002903160656478289,...</td>\n",
       "      <td>[0.009174146107929795, 0.004682353866566277, 0...</td>\n",
       "      <td>[-0.00010336780165633408, 0.017887354504405963...</td>\n",
       "      <td>0.575001</td>\n",
       "      <td>0.783792</td>\n",
       "      <td>0.692069</td>\n",
       "      <td>gpt-4-turbo</td>\n",
       "      <td>20</td>\n",
       "      <td>541</td>\n",
       "      <td>561</td>\n",
       "      <td>3.1</td>\n",
       "    </tr>\n",
       "    <tr>\n",
       "      <th>2</th>\n",
       "      <td>3</td>\n",
       "      <td>rfp_new_questions_client_100.csv</td>\n",
       "      <td>Can your AI-based applications be customized t...</td>\n",
       "      <td>What is the most similar question to: \"Can you...</td>\n",
       "      <td>The most similar question to \"Can your AI-base...</td>\n",
       "      <td>Are your AI applications adaptable to specific...</td>\n",
       "      <td>rfp_exisiting_questions_client_2.csv</td>\n",
       "      <td>RFP_Answer: Absolutely, customization is a cor...</td>\n",
       "      <td>[-0.024933725810230647, -0.00398689651570446, ...</td>\n",
       "      <td>[-0.018114261370701053, -0.003040488117825552,...</td>\n",
       "      <td>[-0.0010771675571721216, -0.009237417812190684...</td>\n",
       "      <td>0.642971</td>\n",
       "      <td>0.933371</td>\n",
       "      <td>0.650528</td>\n",
       "      <td>gpt-4-turbo</td>\n",
       "      <td>42</td>\n",
       "      <td>532</td>\n",
       "      <td>574</td>\n",
       "      <td>3.2</td>\n",
       "    </tr>\n",
       "    <tr>\n",
       "      <th>3</th>\n",
       "      <td>4</td>\n",
       "      <td>rfp_new_questions_client_100.csv</td>\n",
       "      <td>What measures do you take to ensure user priva...</td>\n",
       "      <td>What is the most similar question to: \"What me...</td>\n",
       "      <td>The most similar question to \"What measures do...</td>\n",
       "      <td>What steps do you undertake to protect user pr...</td>\n",
       "      <td>rfp_exisiting_questions_client_2.csv</td>\n",
       "      <td>Project_Title: AI-Powered Risk Assessment Mode...</td>\n",
       "      <td>[-0.011542554119771953, -0.012979928523676116,...</td>\n",
       "      <td>[-0.017716543891049378, -0.021140465682403832,...</td>\n",
       "      <td>[0.018035042880599816, 0.013365664407925769, 0...</td>\n",
       "      <td>0.643153</td>\n",
       "      <td>0.932541</td>\n",
       "      <td>0.645517</td>\n",
       "      <td>gpt-4-turbo</td>\n",
       "      <td>49</td>\n",
       "      <td>608</td>\n",
       "      <td>657</td>\n",
       "      <td>2.7</td>\n",
       "    </tr>\n",
       "    <tr>\n",
       "      <th>4</th>\n",
       "      <td>5</td>\n",
       "      <td>rfp_new_questions_client_100.csv</td>\n",
       "      <td>How do you approach user interface and experie...</td>\n",
       "      <td>What is the most similar question to: \"How do ...</td>\n",
       "      <td>RFP_Question: What strategies do you employ to...</td>\n",
       "      <td>What strategies do you employ to design user i...</td>\n",
       "      <td>rfp_exisiting_questions_client_2.csv</td>\n",
       "      <td>RFP_Answer: Our design philosophy centers on s...</td>\n",
       "      <td>[-0.022403337192397944, -0.003745948452053383,...</td>\n",
       "      <td>[0.012766196768228667, 0.02172657166295028, 0....</td>\n",
       "      <td>[0.00669202890762761, 0.01376124531146158, 0.0...</td>\n",
       "      <td>0.580555</td>\n",
       "      <td>0.790653</td>\n",
       "      <td>0.724465</td>\n",
       "      <td>gpt-4-turbo</td>\n",
       "      <td>26</td>\n",
       "      <td>594</td>\n",
       "      <td>620</td>\n",
       "      <td>4.3</td>\n",
       "    </tr>\n",
       "    <tr>\n",
       "      <th>5</th>\n",
       "      <td>6</td>\n",
       "      <td>rfp_new_questions_client_100.csv</td>\n",
       "      <td>Describe your support and maintenance services...</td>\n",
       "      <td>What is the most similar question to: \"Describ...</td>\n",
       "      <td>The most similar question to \"Describe your su...</td>\n",
       "      <td>Explain the support and maintenance services y...</td>\n",
       "      <td>rfp_exisiting_questions_client_2.csv</td>\n",
       "      <td>Project_Title: AI-Powered Risk Assessment Mode...</td>\n",
       "      <td>[-0.02594255529391264, 0.026052017363914444, 0...</td>\n",
       "      <td>[-0.018622273370422313, 0.016507519223956362, ...</td>\n",
       "      <td>[-0.0008700734038692212, 0.026400598223398738,...</td>\n",
       "      <td>0.653195</td>\n",
       "      <td>0.924453</td>\n",
       "      <td>0.674123</td>\n",
       "      <td>gpt-4-turbo</td>\n",
       "      <td>44</td>\n",
       "      <td>587</td>\n",
       "      <td>631</td>\n",
       "      <td>2.9</td>\n",
       "    </tr>\n",
       "    <tr>\n",
       "      <th>6</th>\n",
       "      <td>7</td>\n",
       "      <td>rfp_new_questions_client_100.csv</td>\n",
       "      <td>How do you measure the success and impact of y...</td>\n",
       "      <td>What is the most similar question to: \"How do ...</td>\n",
       "      <td>RFP_Question: How do you evaluate the effectiv...</td>\n",
       "      <td>How do you evaluate the effectiveness and impa...</td>\n",
       "      <td>rfp_exisiting_questions_client_2.csv</td>\n",
       "      <td>Project_Title: AI-Powered Risk Assessment Mode...</td>\n",
       "      <td>[-0.005094874094156965, -0.0018191395470256865...</td>\n",
       "      <td>[0.01474235542817176, 0.004943857159210323, 0....</td>\n",
       "      <td>[0.0021657988083164455, 0.00496627439696867, 0...</td>\n",
       "      <td>0.629255</td>\n",
       "      <td>0.785387</td>\n",
       "      <td>0.75012</td>\n",
       "      <td>gpt-4-turbo</td>\n",
       "      <td>22</td>\n",
       "      <td>537</td>\n",
       "      <td>559</td>\n",
       "      <td>2.1</td>\n",
       "    </tr>\n",
       "    <tr>\n",
       "      <th>7</th>\n",
       "      <td>8</td>\n",
       "      <td>rfp_new_questions_client_100.csv</td>\n",
       "      <td>How do you ensure the ethical use of LLMs in y...</td>\n",
       "      <td>What is the most similar question to: \"How do ...</td>\n",
       "      <td>RFP_Question: How do you manage ethical concer...</td>\n",
       "      <td>How do you manage ethical concerns in your LLM...</td>\n",
       "      <td>rfp_exisiting_questions_client_2.csv</td>\n",
       "      <td>Project_Title: AI-Powered Risk Assessment Mode...</td>\n",
       "      <td>[0.021543276731008216, 0.01490634165937239, 0....</td>\n",
       "      <td>[0.02458965545433629, 0.017371860934522247, 0....</td>\n",
       "      <td>[0.011270932737455297, 0.019519289755009234, 0...</td>\n",
       "      <td>0.694476</td>\n",
       "      <td>0.835385</td>\n",
       "      <td>0.741921</td>\n",
       "      <td>gpt-4-turbo</td>\n",
       "      <td>28</td>\n",
       "      <td>607</td>\n",
       "      <td>635</td>\n",
       "      <td>2.6</td>\n",
       "    </tr>\n",
       "    <tr>\n",
       "      <th>8</th>\n",
       "      <td>9</td>\n",
       "      <td>rfp_new_questions_client_100.csv</td>\n",
       "      <td>Can you describe the process of training your ...</td>\n",
       "      <td>What is the most similar question to: \"Can you...</td>\n",
       "      <td>The most similar question to \"Can you describe...</td>\n",
       "      <td>Could you outline how you train your LLMs, inc...</td>\n",
       "      <td>rfp_exisiting_questions_client_2.csv</td>\n",
       "      <td>Project_Title: AI-Powered Risk Assessment Mode...</td>\n",
       "      <td>[-0.02396939689706394, 0.018455669672488594, 0...</td>\n",
       "      <td>[-0.018115209323870087, 0.023699326320744635, ...</td>\n",
       "      <td>[0.002109897776288197, 0.01695080650381053, 0....</td>\n",
       "      <td>0.628883</td>\n",
       "      <td>0.946127</td>\n",
       "      <td>0.656781</td>\n",
       "      <td>gpt-4-turbo</td>\n",
       "      <td>61</td>\n",
       "      <td>605</td>\n",
       "      <td>666</td>\n",
       "      <td>2.9</td>\n",
       "    </tr>\n",
       "    <tr>\n",
       "      <th>9</th>\n",
       "      <td>10</td>\n",
       "      <td>rfp_new_questions_client_100.csv</td>\n",
       "      <td>How do you handle the continuous learning and ...</td>\n",
       "      <td>What is the most similar question to: \"How do ...</td>\n",
       "      <td>RFP_Question: How do you ensure your LLMs cont...</td>\n",
       "      <td>How do you ensure your LLMs continuously learn...</td>\n",
       "      <td>rfp_exisiting_questions_client_2.csv</td>\n",
       "      <td>Project_Title: AI-Powered Risk Assessment Mode...</td>\n",
       "      <td>[-0.00825047894972602, 0.021084556591604547, 0...</td>\n",
       "      <td>[-0.013420040554404636, 0.028803989073751236, ...</td>\n",
       "      <td>[0.009807711474561132, 0.015744742017965888, 0...</td>\n",
       "      <td>0.622149</td>\n",
       "      <td>0.766513</td>\n",
       "      <td>0.633393</td>\n",
       "      <td>gpt-4-turbo</td>\n",
       "      <td>26</td>\n",
       "      <td>633</td>\n",
       "      <td>659</td>\n",
       "      <td>1.8</td>\n",
       "    </tr>\n",
       "    <tr>\n",
       "      <th>10</th>\n",
       "      <td>11</td>\n",
       "      <td>rfp_new_questions_client_100.csv</td>\n",
       "      <td>What measures do you take to ensure the transp...</td>\n",
       "      <td>What is the most similar question to: \"What me...</td>\n",
       "      <td>RFP_Question: What actions do you take to make...</td>\n",
       "      <td>What actions do you take to make the decision-...</td>\n",
       "      <td>rfp_exisiting_questions_client_2.csv</td>\n",
       "      <td>Project_Title: AI-Powered Risk Assessment Mode...</td>\n",
       "      <td>[-0.013587386723794776, 0.00556639885149576, 0...</td>\n",
       "      <td>[-0.014100776926247227, 0.028742851604862004, ...</td>\n",
       "      <td>[0.01223977348736098, 0.024329289256498063, 0....</td>\n",
       "      <td>0.626972</td>\n",
       "      <td>0.790901</td>\n",
       "      <td>0.627809</td>\n",
       "      <td>gpt-4-turbo</td>\n",
       "      <td>25</td>\n",
       "      <td>613</td>\n",
       "      <td>638</td>\n",
       "      <td>5.6</td>\n",
       "    </tr>\n",
       "    <tr>\n",
       "      <th>11</th>\n",
       "      <td>12</td>\n",
       "      <td>rfp_new_questions_client_100.csv</td>\n",
       "      <td>How do you assess and ensure the performance a...</td>\n",
       "      <td>What is the most similar question to: \"How do ...</td>\n",
       "      <td>The most similar question to \"How do you asses...</td>\n",
       "      <td>How do you verify and ensure that your LLMs ca...</td>\n",
       "      <td>rfp_exisiting_questions_client_2.csv</td>\n",
       "      <td>RFP_Answer: We conduct extensive performance t...</td>\n",
       "      <td>[-0.011384415804847862, 0.01486040978785559, 0...</td>\n",
       "      <td>[-0.005259337413416406, 0.02654257811492115, 0...</td>\n",
       "      <td>[0.004348112907404425, 0.003585843126778883, 0...</td>\n",
       "      <td>0.621762</td>\n",
       "      <td>0.939242</td>\n",
       "      <td>0.623973</td>\n",
       "      <td>gpt-4-turbo</td>\n",
       "      <td>51</td>\n",
       "      <td>600</td>\n",
       "      <td>651</td>\n",
       "      <td>2.9</td>\n",
       "    </tr>\n",
       "    <tr>\n",
       "      <th>12</th>\n",
       "      <td>13</td>\n",
       "      <td>rfp_new_questions_client_100.csv</td>\n",
       "      <td>Can you provide examples of successful deploym...</td>\n",
       "      <td>What is the most similar question to: \"Can you...</td>\n",
       "      <td>RFP_Question: Can you provide case studies of ...</td>\n",
       "      <td>Can you provide case studies of successful LLM...</td>\n",
       "      <td>rfp_exisiting_questions_client_2.csv</td>\n",
       "      <td>RFP_Answer: We can share case studies of succe...</td>\n",
       "      <td>[0.0053169715833493916, -0.006949637731748671,...</td>\n",
       "      <td>[0.001873011469712584, 0.01035180717654377, 0....</td>\n",
       "      <td>[0.01185650873219835, 0.03212967593829917, 0.0...</td>\n",
       "      <td>0.689292</td>\n",
       "      <td>0.797667</td>\n",
       "      <td>0.788115</td>\n",
       "      <td>gpt-4-turbo</td>\n",
       "      <td>24</td>\n",
       "      <td>639</td>\n",
       "      <td>663</td>\n",
       "      <td>1.9</td>\n",
       "    </tr>\n",
       "    <tr>\n",
       "      <th>13</th>\n",
       "      <td>14</td>\n",
       "      <td>rfp_new_questions_client_100.csv</td>\n",
       "      <td>What is your approach to integrating LLMs with...</td>\n",
       "      <td>What is the most similar question to: \"What is...</td>\n",
       "      <td>The most similar question to: \"What is your ap...</td>\n",
       "      <td>Describe how you integrate LLMs into existing ...</td>\n",
       "      <td>rfp_exisiting_questions_client_2.csv</td>\n",
       "      <td>RFP_Answer: Our approach involves conducting a...</td>\n",
       "      <td>[-0.0201516011890611, -0.00046924103714193516,...</td>\n",
       "      <td>[-0.01783359161236873, 0.011818785021282417, 0...</td>\n",
       "      <td>[-0.006584366838265855, 0.01965333723977496, 0...</td>\n",
       "      <td>0.63241</td>\n",
       "      <td>0.944658</td>\n",
       "      <td>0.650983</td>\n",
       "      <td>gpt-4-turbo</td>\n",
       "      <td>42</td>\n",
       "      <td>585</td>\n",
       "      <td>627</td>\n",
       "      <td>3.8</td>\n",
       "    </tr>\n",
       "    <tr>\n",
       "      <th>14</th>\n",
       "      <td>15</td>\n",
       "      <td>rfp_new_questions_client_100.csv</td>\n",
       "      <td>How do you plan to support and maintain LLM-ba...</td>\n",
       "      <td>What is the most similar question to: \"How do ...</td>\n",
       "      <td>The most similar question to: \"How do you plan...</td>\n",
       "      <td>What are your strategies for supporting and ma...</td>\n",
       "      <td>rfp_exisiting_questions_client_2.csv</td>\n",
       "      <td>RFP_Answer: Our post-deployment support is des...</td>\n",
       "      <td>[-0.007420965991490901, 0.04956698082175351, 0...</td>\n",
       "      <td>[-0.006079617565615648, 0.040417758469104136, ...</td>\n",
       "      <td>[0.0012430349220585173, 0.030328811157500926, ...</td>\n",
       "      <td>0.686716</td>\n",
       "      <td>0.962415</td>\n",
       "      <td>0.719686</td>\n",
       "      <td>gpt-4-turbo</td>\n",
       "      <td>60</td>\n",
       "      <td>604</td>\n",
       "      <td>664</td>\n",
       "      <td>2.9</td>\n",
       "    </tr>\n",
       "    <tr>\n",
       "      <th>15</th>\n",
       "      <td>16</td>\n",
       "      <td>rfp_new_questions_client_100.csv</td>\n",
       "      <td>How does your AI solution align with the NIST ...</td>\n",
       "      <td>What is the most similar question to: \"How doe...</td>\n",
       "      <td>RFP_Question: How does your AI solution comply...</td>\n",
       "      <td>How does your AI solution comply with the guid...</td>\n",
       "      <td>rfp_exisiting_questions_client_2.csv</td>\n",
       "      <td>RFP_Answer: Our AI solution is meticulously de...</td>\n",
       "      <td>[-0.024076844192504537, 0.004061743862669836, ...</td>\n",
       "      <td>[0.0034582621035253716, 0.018990318172255122, ...</td>\n",
       "      <td>[-0.006367550069948558, 0.004278739340069659, ...</td>\n",
       "      <td>0.699998</td>\n",
       "      <td>0.843948</td>\n",
       "      <td>0.790677</td>\n",
       "      <td>gpt-4-turbo</td>\n",
       "      <td>27</td>\n",
       "      <td>572</td>\n",
       "      <td>599</td>\n",
       "      <td>2.5</td>\n",
       "    </tr>\n",
       "    <tr>\n",
       "      <th>16</th>\n",
       "      <td>17</td>\n",
       "      <td>rfp_new_questions_client_100.csv</td>\n",
       "      <td>Can you describe the governance structures you...</td>\n",
       "      <td>What is the most similar question to: \"Can you...</td>\n",
       "      <td>RFP_Question: Could you describe the governanc...</td>\n",
       "      <td>Could you describe the governance frameworks y...</td>\n",
       "      <td>rfp_exisiting_questions_client_2.csv</td>\n",
       "      <td>Project_Title: AI-Powered Risk Assessment Mode...</td>\n",
       "      <td>[-0.008052477280807952, 0.033308541890396996, ...</td>\n",
       "      <td>[0.010880765892755773, 0.017463688797322234, 0...</td>\n",
       "      <td>[0.003093119210697822, 0.008415618817996408, 0...</td>\n",
       "      <td>0.733268</td>\n",
       "      <td>0.83664</td>\n",
       "      <td>0.825045</td>\n",
       "      <td>gpt-4-turbo</td>\n",
       "      <td>27</td>\n",
       "      <td>573</td>\n",
       "      <td>600</td>\n",
       "      <td>1.9</td>\n",
       "    </tr>\n",
       "    <tr>\n",
       "      <th>17</th>\n",
       "      <td>18</td>\n",
       "      <td>rfp_new_questions_client_100.csv</td>\n",
       "      <td>How do you identify and assess AI risks in lin...</td>\n",
       "      <td>What is the most similar question to: \"How do ...</td>\n",
       "      <td>RFP_Question: How do you identify and evaluate...</td>\n",
       "      <td>How do you identify and evaluate AI risks foll...</td>\n",
       "      <td>rfp_exisiting_questions_client_2.csv</td>\n",
       "      <td>Project_Title: AI-Powered Risk Assessment Mode...</td>\n",
       "      <td>[-0.02460394761122877, 0.022054107706891476, 0...</td>\n",
       "      <td>[-0.0023425760092822775, 0.04206372570559589, ...</td>\n",
       "      <td>[-0.00022819645008146977, 0.003138441986589835...</td>\n",
       "      <td>0.690564</td>\n",
       "      <td>0.887466</td>\n",
       "      <td>0.748979</td>\n",
       "      <td>gpt-4-turbo</td>\n",
       "      <td>27</td>\n",
       "      <td>546</td>\n",
       "      <td>573</td>\n",
       "      <td>2.0</td>\n",
       "    </tr>\n",
       "    <tr>\n",
       "      <th>18</th>\n",
       "      <td>19</td>\n",
       "      <td>rfp_new_questions_client_100.csv</td>\n",
       "      <td>What measures do you take to ensure transparen...</td>\n",
       "      <td>What is the most similar question to: \"What me...</td>\n",
       "      <td>RFP_Question: What steps do you implement to e...</td>\n",
       "      <td>What steps do you implement to ensure AI decis...</td>\n",
       "      <td>rfp_exisiting_questions_client_2.csv</td>\n",
       "      <td>Project_Title: AI-Powered Risk Assessment Mode...</td>\n",
       "      <td>[-0.01298543116888274, 0.012363928901313223, 0...</td>\n",
       "      <td>[-0.007185383545431859, 0.026770268922978437, ...</td>\n",
       "      <td>[-0.004408883943596353, 0.015326801039127277, ...</td>\n",
       "      <td>0.67539</td>\n",
       "      <td>0.82312</td>\n",
       "      <td>0.752853</td>\n",
       "      <td>gpt-4-turbo</td>\n",
       "      <td>30</td>\n",
       "      <td>615</td>\n",
       "      <td>645</td>\n",
       "      <td>1.7</td>\n",
       "    </tr>\n",
       "    <tr>\n",
       "      <th>19</th>\n",
       "      <td>20</td>\n",
       "      <td>rfp_new_questions_client_100.csv</td>\n",
       "      <td>How do you track and measure exposure to AI ri...</td>\n",
       "      <td>What is the most similar question to: \"How do ...</td>\n",
       "      <td>RFP_Question: How do you monitor and assess AI...</td>\n",
       "      <td>How do you monitor and assess AI risk exposure...</td>\n",
       "      <td>rfp_exisiting_questions_client_2.csv</td>\n",
       "      <td>Project_Title: AI-Powered Risk Assessment Mode...</td>\n",
       "      <td>[-0.017157074761071756, 0.009715372967814098, ...</td>\n",
       "      <td>[0.007095605286568667, 0.030860055734765315, 0...</td>\n",
       "      <td>[-0.004060741477815014, 0.010746609323907955, ...</td>\n",
       "      <td>0.661879</td>\n",
       "      <td>0.840875</td>\n",
       "      <td>0.794759</td>\n",
       "      <td>gpt-4-turbo</td>\n",
       "      <td>36</td>\n",
       "      <td>590</td>\n",
       "      <td>626</td>\n",
       "      <td>2.4</td>\n",
       "    </tr>\n",
       "    <tr>\n",
       "      <th>20</th>\n",
       "      <td>21</td>\n",
       "      <td>rfp_new_questions_client_100.csv</td>\n",
       "      <td>Describe how your AI solutions manage and miti...</td>\n",
       "      <td>What is the most similar question to: \"Describ...</td>\n",
       "      <td>RFP_Question_ID: 21\\nRFP_Question: Explain how...</td>\n",
       "      <td>Explain how you manage and mitigate AI risks i...</td>\n",
       "      <td>rfp_exisiting_questions_client_2.csv</td>\n",
       "      <td>Project_Title: AI-Powered Risk Assessment Mode...</td>\n",
       "      <td>[-0.025189838097553253, 0.040055336375701724, ...</td>\n",
       "      <td>[0.01807079358525926, 0.04915548573583894, 0.0...</td>\n",
       "      <td>[-0.0020690783108577152, 0.009963093154298207,...</td>\n",
       "      <td>0.700233</td>\n",
       "      <td>0.811194</td>\n",
       "      <td>0.784703</td>\n",
       "      <td>gpt-4-turbo</td>\n",
       "      <td>37</td>\n",
       "      <td>583</td>\n",
       "      <td>620</td>\n",
       "      <td>2.1</td>\n",
       "    </tr>\n",
       "    <tr>\n",
       "      <th>21</th>\n",
       "      <td>22</td>\n",
       "      <td>rfp_new_questions_client_100.csv</td>\n",
       "      <td>How do you ensure that your AI solutions are c...</td>\n",
       "      <td>What is the most similar question to: \"How do ...</td>\n",
       "      <td>RFP_Question: How do you ensure compliance wit...</td>\n",
       "      <td>How do you ensure compliance with U.S. laws on...</td>\n",
       "      <td>rfp_exisiting_questions_client_2.csv</td>\n",
       "      <td>Project_Title: AI-Powered Risk Assessment Mode...</td>\n",
       "      <td>[-0.000199194390609713, 0.004925684748433598, ...</td>\n",
       "      <td>[0.02645043235034284, 0.011134508792335953, 0....</td>\n",
       "      <td>[0.02153220911890625, 0.018167078097490803, 0....</td>\n",
       "      <td>0.663725</td>\n",
       "      <td>0.798078</td>\n",
       "      <td>0.770475</td>\n",
       "      <td>gpt-4-turbo</td>\n",
       "      <td>25</td>\n",
       "      <td>603</td>\n",
       "      <td>628</td>\n",
       "      <td>2.1</td>\n",
       "    </tr>\n",
       "    <tr>\n",
       "      <th>22</th>\n",
       "      <td>23</td>\n",
       "      <td>rfp_new_questions_client_100.csv</td>\n",
       "      <td>In what ways do you contribute to the continua...</td>\n",
       "      <td>What is the most similar question to: \"In what...</td>\n",
       "      <td>The most similar question to: \"In what ways do...</td>\n",
       "      <td>In what ways do you participate in advancing A...</td>\n",
       "      <td>rfp_exisiting_questions_client_2.csv</td>\n",
       "      <td>Project_Title: AI-Powered Risk Assessment Mode...</td>\n",
       "      <td>[-0.012498520688869403, -0.0037221299667366658...</td>\n",
       "      <td>[-0.024560942174418843, -0.009475785612827593,...</td>\n",
       "      <td>[-0.004559503478704579, -0.003615743308174976,...</td>\n",
       "      <td>0.66771</td>\n",
       "      <td>0.946951</td>\n",
       "      <td>0.67407</td>\n",
       "      <td>gpt-4-turbo</td>\n",
       "      <td>64</td>\n",
       "      <td>549</td>\n",
       "      <td>613</td>\n",
       "      <td>3.4</td>\n",
       "    </tr>\n",
       "  </tbody>\n",
       "</table>\n",
       "</div>"
      ],
      "text/plain": [
       "    id                           new_rfp  \\\n",
       "0    1  rfp_new_questions_client_100.csv   \n",
       "1    2  rfp_new_questions_client_100.csv   \n",
       "2    3  rfp_new_questions_client_100.csv   \n",
       "3    4  rfp_new_questions_client_100.csv   \n",
       "4    5  rfp_new_questions_client_100.csv   \n",
       "5    6  rfp_new_questions_client_100.csv   \n",
       "6    7  rfp_new_questions_client_100.csv   \n",
       "7    8  rfp_new_questions_client_100.csv   \n",
       "8    9  rfp_new_questions_client_100.csv   \n",
       "9   10  rfp_new_questions_client_100.csv   \n",
       "10  11  rfp_new_questions_client_100.csv   \n",
       "11  12  rfp_new_questions_client_100.csv   \n",
       "12  13  rfp_new_questions_client_100.csv   \n",
       "13  14  rfp_new_questions_client_100.csv   \n",
       "14  15  rfp_new_questions_client_100.csv   \n",
       "15  16  rfp_new_questions_client_100.csv   \n",
       "16  17  rfp_new_questions_client_100.csv   \n",
       "17  18  rfp_new_questions_client_100.csv   \n",
       "18  19  rfp_new_questions_client_100.csv   \n",
       "19  20  rfp_new_questions_client_100.csv   \n",
       "20  21  rfp_new_questions_client_100.csv   \n",
       "21  22  rfp_new_questions_client_100.csv   \n",
       "22  23  rfp_new_questions_client_100.csv   \n",
       "\n",
       "                                         new_question  \\\n",
       "0   What is your experience in developing AI-based...   \n",
       "1   How do you ensure your AI-based apps remain up...   \n",
       "2   Can your AI-based applications be customized t...   \n",
       "3   What measures do you take to ensure user priva...   \n",
       "4   How do you approach user interface and experie...   \n",
       "5   Describe your support and maintenance services...   \n",
       "6   How do you measure the success and impact of y...   \n",
       "7   How do you ensure the ethical use of LLMs in y...   \n",
       "8   Can you describe the process of training your ...   \n",
       "9   How do you handle the continuous learning and ...   \n",
       "10  What measures do you take to ensure the transp...   \n",
       "11  How do you assess and ensure the performance a...   \n",
       "12  Can you provide examples of successful deploym...   \n",
       "13  What is your approach to integrating LLMs with...   \n",
       "14  How do you plan to support and maintain LLM-ba...   \n",
       "15  How does your AI solution align with the NIST ...   \n",
       "16  Can you describe the governance structures you...   \n",
       "17  How do you identify and assess AI risks in lin...   \n",
       "18  What measures do you take to ensure transparen...   \n",
       "19  How do you track and measure exposure to AI ri...   \n",
       "20  Describe how your AI solutions manage and miti...   \n",
       "21  How do you ensure that your AI solutions are c...   \n",
       "22  In what ways do you contribute to the continua...   \n",
       "\n",
       "                                      question_to_llm  \\\n",
       "0   What is the most similar question to: \"What is...   \n",
       "1   What is the most similar question to: \"How do ...   \n",
       "2   What is the most similar question to: \"Can you...   \n",
       "3   What is the most similar question to: \"What me...   \n",
       "4   What is the most similar question to: \"How do ...   \n",
       "5   What is the most similar question to: \"Describ...   \n",
       "6   What is the most similar question to: \"How do ...   \n",
       "7   What is the most similar question to: \"How do ...   \n",
       "8   What is the most similar question to: \"Can you...   \n",
       "9   What is the most similar question to: \"How do ...   \n",
       "10  What is the most similar question to: \"What me...   \n",
       "11  What is the most similar question to: \"How do ...   \n",
       "12  What is the most similar question to: \"Can you...   \n",
       "13  What is the most similar question to: \"What is...   \n",
       "14  What is the most similar question to: \"How do ...   \n",
       "15  What is the most similar question to: \"How doe...   \n",
       "16  What is the most similar question to: \"Can you...   \n",
       "17  What is the most similar question to: \"How do ...   \n",
       "18  What is the most similar question to: \"What me...   \n",
       "19  What is the most similar question to: \"How do ...   \n",
       "20  What is the most similar question to: \"Describ...   \n",
       "21  What is the most similar question to: \"How do ...   \n",
       "22  What is the most similar question to: \"In what...   \n",
       "\n",
       "                                               answer  \\\n",
       "0   RFP_Question: Can you discuss your expertise i...   \n",
       "1   RFP_Question: How do you keep your AI applicat...   \n",
       "2   The most similar question to \"Can your AI-base...   \n",
       "3   The most similar question to \"What measures do...   \n",
       "4   RFP_Question: What strategies do you employ to...   \n",
       "5   The most similar question to \"Describe your su...   \n",
       "6   RFP_Question: How do you evaluate the effectiv...   \n",
       "7   RFP_Question: How do you manage ethical concer...   \n",
       "8   The most similar question to \"Can you describe...   \n",
       "9   RFP_Question: How do you ensure your LLMs cont...   \n",
       "10  RFP_Question: What actions do you take to make...   \n",
       "11  The most similar question to \"How do you asses...   \n",
       "12  RFP_Question: Can you provide case studies of ...   \n",
       "13  The most similar question to: \"What is your ap...   \n",
       "14  The most similar question to: \"How do you plan...   \n",
       "15  RFP_Question: How does your AI solution comply...   \n",
       "16  RFP_Question: Could you describe the governanc...   \n",
       "17  RFP_Question: How do you identify and evaluate...   \n",
       "18  RFP_Question: What steps do you implement to e...   \n",
       "19  RFP_Question: How do you monitor and assess AI...   \n",
       "20  RFP_Question_ID: 21\\nRFP_Question: Explain how...   \n",
       "21  RFP_Question: How do you ensure compliance wit...   \n",
       "22  The most similar question to: \"In what ways do...   \n",
       "\n",
       "                                         ground_truth  \\\n",
       "0   Can you discuss your expertise in creating AI-...   \n",
       "1   How do you keep your AI applications current w...   \n",
       "2   Are your AI applications adaptable to specific...   \n",
       "3   What steps do you undertake to protect user pr...   \n",
       "4   What strategies do you employ to design user i...   \n",
       "5   Explain the support and maintenance services y...   \n",
       "6   How do you evaluate the effectiveness and impa...   \n",
       "7   How do you manage ethical concerns in your LLM...   \n",
       "8   Could you outline how you train your LLMs, inc...   \n",
       "9   How do you ensure your LLMs continuously learn...   \n",
       "10  What actions do you take to make the decision-...   \n",
       "11  How do you verify and ensure that your LLMs ca...   \n",
       "12  Can you provide case studies of successful LLM...   \n",
       "13  Describe how you integrate LLMs into existing ...   \n",
       "14  What are your strategies for supporting and ma...   \n",
       "15  How does your AI solution comply with the guid...   \n",
       "16  Could you describe the governance frameworks y...   \n",
       "17  How do you identify and evaluate AI risks foll...   \n",
       "18  What steps do you implement to ensure AI decis...   \n",
       "19  How do you monitor and assess AI risk exposure...   \n",
       "20  Explain how you manage and mitigate AI risks i...   \n",
       "21  How do you ensure compliance with U.S. laws on...   \n",
       "22  In what ways do you participate in advancing A...   \n",
       "\n",
       "                            existing_rfp  \\\n",
       "0   rfp_exisiting_questions_client_2.csv   \n",
       "1   rfp_exisiting_questions_client_2.csv   \n",
       "2   rfp_exisiting_questions_client_2.csv   \n",
       "3   rfp_exisiting_questions_client_2.csv   \n",
       "4   rfp_exisiting_questions_client_2.csv   \n",
       "5   rfp_exisiting_questions_client_2.csv   \n",
       "6   rfp_exisiting_questions_client_2.csv   \n",
       "7   rfp_exisiting_questions_client_2.csv   \n",
       "8   rfp_exisiting_questions_client_2.csv   \n",
       "9   rfp_exisiting_questions_client_2.csv   \n",
       "10  rfp_exisiting_questions_client_2.csv   \n",
       "11  rfp_exisiting_questions_client_2.csv   \n",
       "12  rfp_exisiting_questions_client_2.csv   \n",
       "13  rfp_exisiting_questions_client_2.csv   \n",
       "14  rfp_exisiting_questions_client_2.csv   \n",
       "15  rfp_exisiting_questions_client_2.csv   \n",
       "16  rfp_exisiting_questions_client_2.csv   \n",
       "17  rfp_exisiting_questions_client_2.csv   \n",
       "18  rfp_exisiting_questions_client_2.csv   \n",
       "19  rfp_exisiting_questions_client_2.csv   \n",
       "20  rfp_exisiting_questions_client_2.csv   \n",
       "21  rfp_exisiting_questions_client_2.csv   \n",
       "22  rfp_exisiting_questions_client_2.csv   \n",
       "\n",
       "                                              context  \\\n",
       "0   Project_Title: AI-Powered Risk Assessment Mode...   \n",
       "1   Project_Title: AI-Powered Risk Assessment Mode...   \n",
       "2   RFP_Answer: Absolutely, customization is a cor...   \n",
       "3   Project_Title: AI-Powered Risk Assessment Mode...   \n",
       "4   RFP_Answer: Our design philosophy centers on s...   \n",
       "5   Project_Title: AI-Powered Risk Assessment Mode...   \n",
       "6   Project_Title: AI-Powered Risk Assessment Mode...   \n",
       "7   Project_Title: AI-Powered Risk Assessment Mode...   \n",
       "8   Project_Title: AI-Powered Risk Assessment Mode...   \n",
       "9   Project_Title: AI-Powered Risk Assessment Mode...   \n",
       "10  Project_Title: AI-Powered Risk Assessment Mode...   \n",
       "11  RFP_Answer: We conduct extensive performance t...   \n",
       "12  RFP_Answer: We can share case studies of succe...   \n",
       "13  RFP_Answer: Our approach involves conducting a...   \n",
       "14  RFP_Answer: Our post-deployment support is des...   \n",
       "15  RFP_Answer: Our AI solution is meticulously de...   \n",
       "16  Project_Title: AI-Powered Risk Assessment Mode...   \n",
       "17  Project_Title: AI-Powered Risk Assessment Mode...   \n",
       "18  Project_Title: AI-Powered Risk Assessment Mode...   \n",
       "19  Project_Title: AI-Powered Risk Assessment Mode...   \n",
       "20  Project_Title: AI-Powered Risk Assessment Mode...   \n",
       "21  Project_Title: AI-Powered Risk Assessment Mode...   \n",
       "22  Project_Title: AI-Powered Risk Assessment Mode...   \n",
       "\n",
       "                                  question_embeddings  \\\n",
       "0   [-0.012242779808196847, -0.02875495641236209, ...   \n",
       "1   [-0.021238304961058666, -0.002903160656478289,...   \n",
       "2   [-0.024933725810230647, -0.00398689651570446, ...   \n",
       "3   [-0.011542554119771953, -0.012979928523676116,...   \n",
       "4   [-0.022403337192397944, -0.003745948452053383,...   \n",
       "5   [-0.02594255529391264, 0.026052017363914444, 0...   \n",
       "6   [-0.005094874094156965, -0.0018191395470256865...   \n",
       "7   [0.021543276731008216, 0.01490634165937239, 0....   \n",
       "8   [-0.02396939689706394, 0.018455669672488594, 0...   \n",
       "9   [-0.00825047894972602, 0.021084556591604547, 0...   \n",
       "10  [-0.013587386723794776, 0.00556639885149576, 0...   \n",
       "11  [-0.011384415804847862, 0.01486040978785559, 0...   \n",
       "12  [0.0053169715833493916, -0.006949637731748671,...   \n",
       "13  [-0.0201516011890611, -0.00046924103714193516,...   \n",
       "14  [-0.007420965991490901, 0.04956698082175351, 0...   \n",
       "15  [-0.024076844192504537, 0.004061743862669836, ...   \n",
       "16  [-0.008052477280807952, 0.033308541890396996, ...   \n",
       "17  [-0.02460394761122877, 0.022054107706891476, 0...   \n",
       "18  [-0.01298543116888274, 0.012363928901313223, 0...   \n",
       "19  [-0.017157074761071756, 0.009715372967814098, ...   \n",
       "20  [-0.025189838097553253, 0.040055336375701724, ...   \n",
       "21  [-0.000199194390609713, 0.004925684748433598, ...   \n",
       "22  [-0.012498520688869403, -0.0037221299667366658...   \n",
       "\n",
       "                                    answer_embeddings  \\\n",
       "0   [0.028609594368424196, -0.024913389269028082, ...   \n",
       "1   [0.009174146107929795, 0.004682353866566277, 0...   \n",
       "2   [-0.018114261370701053, -0.003040488117825552,...   \n",
       "3   [-0.017716543891049378, -0.021140465682403832,...   \n",
       "4   [0.012766196768228667, 0.02172657166295028, 0....   \n",
       "5   [-0.018622273370422313, 0.016507519223956362, ...   \n",
       "6   [0.01474235542817176, 0.004943857159210323, 0....   \n",
       "7   [0.02458965545433629, 0.017371860934522247, 0....   \n",
       "8   [-0.018115209323870087, 0.023699326320744635, ...   \n",
       "9   [-0.013420040554404636, 0.028803989073751236, ...   \n",
       "10  [-0.014100776926247227, 0.028742851604862004, ...   \n",
       "11  [-0.005259337413416406, 0.02654257811492115, 0...   \n",
       "12  [0.001873011469712584, 0.01035180717654377, 0....   \n",
       "13  [-0.01783359161236873, 0.011818785021282417, 0...   \n",
       "14  [-0.006079617565615648, 0.040417758469104136, ...   \n",
       "15  [0.0034582621035253716, 0.018990318172255122, ...   \n",
       "16  [0.010880765892755773, 0.017463688797322234, 0...   \n",
       "17  [-0.0023425760092822775, 0.04206372570559589, ...   \n",
       "18  [-0.007185383545431859, 0.026770268922978437, ...   \n",
       "19  [0.007095605286568667, 0.030860055734765315, 0...   \n",
       "20  [0.01807079358525926, 0.04915548573583894, 0.0...   \n",
       "21  [0.02645043235034284, 0.011134508792335953, 0....   \n",
       "22  [-0.024560942174418843, -0.009475785612827593,...   \n",
       "\n",
       "                                   context_embeddings  \\\n",
       "0   [0.0096687535303967, -0.009518850642010203, 0....   \n",
       "1   [-0.00010336780165633408, 0.017887354504405963...   \n",
       "2   [-0.0010771675571721216, -0.009237417812190684...   \n",
       "3   [0.018035042880599816, 0.013365664407925769, 0...   \n",
       "4   [0.00669202890762761, 0.01376124531146158, 0.0...   \n",
       "5   [-0.0008700734038692212, 0.026400598223398738,...   \n",
       "6   [0.0021657988083164455, 0.00496627439696867, 0...   \n",
       "7   [0.011270932737455297, 0.019519289755009234, 0...   \n",
       "8   [0.002109897776288197, 0.01695080650381053, 0....   \n",
       "9   [0.009807711474561132, 0.015744742017965888, 0...   \n",
       "10  [0.01223977348736098, 0.024329289256498063, 0....   \n",
       "11  [0.004348112907404425, 0.003585843126778883, 0...   \n",
       "12  [0.01185650873219835, 0.03212967593829917, 0.0...   \n",
       "13  [-0.006584366838265855, 0.01965333723977496, 0...   \n",
       "14  [0.0012430349220585173, 0.030328811157500926, ...   \n",
       "15  [-0.006367550069948558, 0.004278739340069659, ...   \n",
       "16  [0.003093119210697822, 0.008415618817996408, 0...   \n",
       "17  [-0.00022819645008146977, 0.003138441986589835...   \n",
       "18  [-0.004408883943596353, 0.015326801039127277, ...   \n",
       "19  [-0.004060741477815014, 0.010746609323907955, ...   \n",
       "20  [-0.0020690783108577152, 0.009963093154298207,...   \n",
       "21  [0.02153220911890625, 0.018167078097490803, 0....   \n",
       "22  [-0.004559503478704579, -0.003615743308174976,...   \n",
       "\n",
       "   similarity_score_question_vs_context similarity_score_question_vs_answer  \\\n",
       "0                              0.627775                            0.733246   \n",
       "1                              0.575001                            0.783792   \n",
       "2                              0.642971                            0.933371   \n",
       "3                              0.643153                            0.932541   \n",
       "4                              0.580555                            0.790653   \n",
       "5                              0.653195                            0.924453   \n",
       "6                              0.629255                            0.785387   \n",
       "7                              0.694476                            0.835385   \n",
       "8                              0.628883                            0.946127   \n",
       "9                              0.622149                            0.766513   \n",
       "10                             0.626972                            0.790901   \n",
       "11                             0.621762                            0.939242   \n",
       "12                             0.689292                            0.797667   \n",
       "13                              0.63241                            0.944658   \n",
       "14                             0.686716                            0.962415   \n",
       "15                             0.699998                            0.843948   \n",
       "16                             0.733268                             0.83664   \n",
       "17                             0.690564                            0.887466   \n",
       "18                              0.67539                             0.82312   \n",
       "19                             0.661879                            0.840875   \n",
       "20                             0.700233                            0.811194   \n",
       "21                             0.663725                            0.798078   \n",
       "22                              0.66771                            0.946951   \n",
       "\n",
       "   similarity_score_context_vs_answer        model completion_tokens  \\\n",
       "0                            0.770459  gpt-4-turbo                23   \n",
       "1                            0.692069  gpt-4-turbo                20   \n",
       "2                            0.650528  gpt-4-turbo                42   \n",
       "3                            0.645517  gpt-4-turbo                49   \n",
       "4                            0.724465  gpt-4-turbo                26   \n",
       "5                            0.674123  gpt-4-turbo                44   \n",
       "6                             0.75012  gpt-4-turbo                22   \n",
       "7                            0.741921  gpt-4-turbo                28   \n",
       "8                            0.656781  gpt-4-turbo                61   \n",
       "9                            0.633393  gpt-4-turbo                26   \n",
       "10                           0.627809  gpt-4-turbo                25   \n",
       "11                           0.623973  gpt-4-turbo                51   \n",
       "12                           0.788115  gpt-4-turbo                24   \n",
       "13                           0.650983  gpt-4-turbo                42   \n",
       "14                           0.719686  gpt-4-turbo                60   \n",
       "15                           0.790677  gpt-4-turbo                27   \n",
       "16                           0.825045  gpt-4-turbo                27   \n",
       "17                           0.748979  gpt-4-turbo                27   \n",
       "18                           0.752853  gpt-4-turbo                30   \n",
       "19                           0.794759  gpt-4-turbo                36   \n",
       "20                           0.784703  gpt-4-turbo                37   \n",
       "21                           0.770475  gpt-4-turbo                25   \n",
       "22                            0.67407  gpt-4-turbo                64   \n",
       "\n",
       "   prompt_tokens total_tokens response_time  \n",
       "0            550          573           1.9  \n",
       "1            541          561           3.1  \n",
       "2            532          574           3.2  \n",
       "3            608          657           2.7  \n",
       "4            594          620           4.3  \n",
       "5            587          631           2.9  \n",
       "6            537          559           2.1  \n",
       "7            607          635           2.6  \n",
       "8            605          666           2.9  \n",
       "9            633          659           1.8  \n",
       "10           613          638           5.6  \n",
       "11           600          651           2.9  \n",
       "12           639          663           1.9  \n",
       "13           585          627           3.8  \n",
       "14           604          664           2.9  \n",
       "15           572          599           2.5  \n",
       "16           573          600           1.9  \n",
       "17           546          573           2.0  \n",
       "18           615          645           1.7  \n",
       "19           590          626           2.4  \n",
       "20           583          620           2.1  \n",
       "21           603          628           2.1  \n",
       "22           549          613           3.4  "
      ]
     },
     "execution_count": 39,
     "metadata": {},
     "output_type": "execute_result"
    }
   ],
   "source": [
    "rag_evaluation_df = rag_evaluation_df[rag_evaluation_df['answer'] != 'None']\n",
    "rag_evaluation_df"
   ]
  },
  {
   "cell_type": "markdown",
   "metadata": {},
   "source": [
    "We save the results in a CSV file for convenience to avoid having to execute the entire RAG pipeline every time we want to test our RAG evaluation metrics:"
   ]
  },
  {
   "cell_type": "code",
   "execution_count": 40,
   "metadata": {},
   "outputs": [],
   "source": [
    "# Save to CSV\n",
    "rag_evaluation_df.to_csv('rag_evaluation.csv', index=False)"
   ]
  },
  {
   "cell_type": "markdown",
   "metadata": {},
   "source": [
    "We now proceed to evaluate our RAG pipeline using RAGAS metrics from the `ragas` package. The `evaluate()` function expects a Dataset with specific column names: `question`, `contexts`, `ground_truth`, and `answer`. We will now rename these columns to conform to the expected column names in RAGAS."
   ]
  },
  {
   "cell_type": "code",
   "execution_count": 41,
   "metadata": {},
   "outputs": [
    {
     "name": "stdout",
     "output_type": "stream",
     "text": [
      "<class 'pandas.core.frame.DataFrame'>\n",
      "Int64Index: 23 entries, 0 to 22\n",
      "Data columns (total 19 columns):\n",
      " #   Column                                Non-Null Count  Dtype \n",
      "---  ------                                --------------  ----- \n",
      " 0   id                                    23 non-null     int64 \n",
      " 1   new_rfp                               23 non-null     object\n",
      " 2   new_question                          23 non-null     object\n",
      " 3   question                              23 non-null     object\n",
      " 4   answer                                23 non-null     object\n",
      " 5   ground_truth                          23 non-null     object\n",
      " 6   existing_rfp                          23 non-null     object\n",
      " 7   contexts                              23 non-null     object\n",
      " 8   question_embeddings                   23 non-null     object\n",
      " 9   answer_embeddings                     23 non-null     object\n",
      " 10  context_embeddings                    23 non-null     object\n",
      " 11  similarity_score_question_vs_context  23 non-null     object\n",
      " 12  similarity_score_question_vs_answer   23 non-null     object\n",
      " 13  similarity_score_context_vs_answer    23 non-null     object\n",
      " 14  model                                 23 non-null     object\n",
      " 15  completion_tokens                     23 non-null     object\n",
      " 16  prompt_tokens                         23 non-null     object\n",
      " 17  total_tokens                          23 non-null     object\n",
      " 18  response_time                         23 non-null     object\n",
      "dtypes: int64(1), object(18)\n",
      "memory usage: 3.6+ KB\n"
     ]
    }
   ],
   "source": [
    "# prepare the dataframe for RAGAS evaluation\n",
    "ragas_results_df = rag_evaluation_df.copy()\n",
    "\n",
    "# Rename the columns to match ragas convention\n",
    "ragas_results_df.rename(\n",
    "    columns={\n",
    "        \"question_to_llm\": \"question\",\n",
    "        \"context\": \"contexts\"}, \n",
    "    inplace=True\n",
    ")\n",
    "\n",
    "\n",
    "# Convert the 'contexts' column from a string to a list of strings for each row\n",
    "ragas_results_df['contexts'] = ragas_results_df['contexts'].apply(lambda x: [x])\n",
    "\n",
    "ragas_results_df.info()"
   ]
  },
  {
   "cell_type": "code",
   "execution_count": 42,
   "metadata": {},
   "outputs": [],
   "source": [
    "from ragas.metrics import (\n",
    "    answer_relevancy,\n",
    "    faithfulness,\n",
    "    context_recall,\n",
    "    context_precision,\n",
    "    context_relevancy,\n",
    "    answer_correctness,\n",
    "    answer_similarity\n",
    ")\n",
    "\n",
    "from ragas import evaluate\n",
    "\n",
    "def evaluate_ragas_dataset(ragas_dataset):\n",
    "  result = evaluate(\n",
    "    ragas_dataset,\n",
    "    metrics=[\n",
    "        context_precision,\n",
    "        faithfulness,\n",
    "        answer_relevancy,\n",
    "        context_recall,\n",
    "        context_relevancy,\n",
    "        answer_correctness,\n",
    "        answer_similarity\n",
    "    ],\n",
    "  )\n",
    "  return result"
   ]
  },
  {
   "cell_type": "markdown",
   "metadata": {},
   "source": [
    "Now, we apply the RAGAS evaluation metrics row by row, adding the results to corresponding columns for each metric in our evaluation dataset. We first initialize the columns where the evaluation metrics will be stored:"
   ]
  },
  {
   "cell_type": "code",
   "execution_count": 43,
   "metadata": {},
   "outputs": [],
   "source": [
    "ragas_results_df['context_precision'] = ''\n",
    "ragas_results_df['faithfulness'] = ''\n",
    "ragas_results_df['answer_relevancy'] = ''\n",
    "ragas_results_df['context_recall'] = ''\n",
    "ragas_results_df['context_relevancy'] = ''\n",
    "ragas_results_df['answer_correctness'] = ''\n",
    "ragas_results_df['answer_similarity'] = ''\n"
   ]
  },
  {
   "cell_type": "code",
   "execution_count": 44,
   "metadata": {},
   "outputs": [],
   "source": [
    "from datasets import Dataset\n",
    "\n",
    "required_fields = [\"question\", \"answer\", \"contexts\", \"ground_truth\"]\n",
    "metrics = [\"context_precision\", \"faithfulness\", \"answer_relevancy\", \"context_recall\", \"context_relevancy\", \"answer_correctness\", \"answer_similarity\"]\n",
    "\n",
    "# Set the variable to the number of rows, limited to a maximum of NUM_OF_NEW_RFP_QUESTIONS\n",
    "number_of_rows_to_process = min(len(ragas_results_df), NUM_OF_NEW_RFP_QUESTIONS)\n",
    "\n",
    "# Mapping of metric names to their respective functions, assuming these functions are predefined\n",
    "metrics_functions = {\n",
    "    \"context_precision\": context_precision,\n",
    "    \"faithfulness\": faithfulness,\n",
    "    \"answer_relevancy\": answer_relevancy,\n",
    "    \"context_recall\": context_recall,\n",
    "    \"context_relevancy\": context_relevancy,\n",
    "    \"answer_correctness\": answer_correctness,\n",
    "    \"answer_similarity\": answer_similarity\n",
    "}"
   ]
  },
  {
   "cell_type": "code",
   "execution_count": 45,
   "metadata": {},
   "outputs": [
    {
     "name": "stdout",
     "output_type": "stream",
     "text": [
      "Processing RFP question 1...\n"
     ]
    },
    {
     "data": {
      "application/vnd.jupyter.widget-view+json": {
       "model_id": "bf00f18de4cf4dab82fd6809bc342dac",
       "version_major": 2,
       "version_minor": 0
      },
      "text/plain": [
       "Evaluating:   0%|          | 0/7 [00:00<?, ?it/s]"
      ]
     },
     "metadata": {},
     "output_type": "display_data"
    },
    {
     "name": "stdout",
     "output_type": "stream",
     "text": [
      "Evaluation completed.\n",
      "context_precision: 0.9999999999\n",
      "faithfulness: 1.0\n",
      "answer_relevancy: 0.8990139835745649\n",
      "context_recall: 1.0\n",
      "context_relevancy: 0.0\n",
      "answer_correctness: 0.9888756135739206\n",
      "answer_similarity: 0.9557178312698792\n",
      "Processing RFP question 2...\n"
     ]
    },
    {
     "data": {
      "application/vnd.jupyter.widget-view+json": {
       "model_id": "771a128518e34632b46c9e3da9109ff9",
       "version_major": 2,
       "version_minor": 0
      },
      "text/plain": [
       "Evaluating:   0%|          | 0/7 [00:00<?, ?it/s]"
      ]
     },
     "metadata": {},
     "output_type": "display_data"
    },
    {
     "name": "stdout",
     "output_type": "stream",
     "text": [
      "Evaluation completed.\n",
      "context_precision: 0.9999999999\n",
      "faithfulness: 1.0\n",
      "answer_relevancy: 0.8945532209190032\n",
      "context_recall: 1.0\n",
      "context_relevancy: 0.0\n",
      "answer_correctness: 0.9876390580059653\n",
      "answer_similarity: 0.9505562320238611\n",
      "Processing RFP question 3...\n"
     ]
    },
    {
     "data": {
      "application/vnd.jupyter.widget-view+json": {
       "model_id": "f61739f8093e4d149ebb19ec8d3c8c72",
       "version_major": 2,
       "version_minor": 0
      },
      "text/plain": [
       "Evaluating:   0%|          | 0/7 [00:00<?, ?it/s]"
      ]
     },
     "metadata": {},
     "output_type": "display_data"
    },
    {
     "name": "stdout",
     "output_type": "stream",
     "text": [
      "Evaluation completed.\n",
      "context_precision: 0.9999999999\n",
      "faithfulness: 1.0\n",
      "answer_relevancy: 0.9001553151297851\n",
      "context_recall: 1.0\n",
      "context_relevancy: 0.0\n",
      "answer_correctness: 0.9797074043800069\n",
      "answer_similarity: 0.9188296175200277\n",
      "Processing RFP question 4...\n"
     ]
    },
    {
     "data": {
      "application/vnd.jupyter.widget-view+json": {
       "model_id": "48e22943b74b4d91addb3b97abb0f584",
       "version_major": 2,
       "version_minor": 0
      },
      "text/plain": [
       "Evaluating:   0%|          | 0/7 [00:00<?, ?it/s]"
      ]
     },
     "metadata": {},
     "output_type": "display_data"
    },
    {
     "name": "stdout",
     "output_type": "stream",
     "text": [
      "Evaluation completed.\n",
      "context_precision: 0.9999999999\n",
      "faithfulness: 1.0\n",
      "answer_relevancy: 0.9258427866932077\n",
      "context_recall: 0.45454545454545453\n",
      "context_relevancy: 0.5882352941176471\n",
      "answer_correctness: 0.9801575821857698\n",
      "answer_similarity: 0.9206303287430789\n",
      "Processing RFP question 5...\n"
     ]
    },
    {
     "data": {
      "application/vnd.jupyter.widget-view+json": {
       "model_id": "15e2734e116c4b6b87be062a1000e4ab",
       "version_major": 2,
       "version_minor": 0
      },
      "text/plain": [
       "Evaluating:   0%|          | 0/7 [00:00<?, ?it/s]"
      ]
     },
     "metadata": {},
     "output_type": "display_data"
    },
    {
     "name": "stdout",
     "output_type": "stream",
     "text": [
      "Evaluation completed.\n",
      "context_precision: 0.9999999999\n",
      "faithfulness: 1.0\n",
      "answer_relevancy: 0.8977863192635689\n",
      "context_recall: 0.0\n",
      "context_relevancy: 0.5333333333333333\n",
      "answer_correctness: 0.9896201612910706\n",
      "answer_similarity: 0.9584806451642822\n",
      "Processing RFP question 6...\n"
     ]
    },
    {
     "data": {
      "application/vnd.jupyter.widget-view+json": {
       "model_id": "d34259e17d4c4f8b805fcaf57bb011cf",
       "version_major": 2,
       "version_minor": 0
      },
      "text/plain": [
       "Evaluating:   0%|          | 0/7 [00:00<?, ?it/s]"
      ]
     },
     "metadata": {},
     "output_type": "display_data"
    },
    {
     "name": "stdout",
     "output_type": "stream",
     "text": [
      "Evaluation completed.\n",
      "context_precision: 0.9999999999\n",
      "faithfulness: 1.0\n",
      "answer_relevancy: 0.8928452027275666\n",
      "context_recall: 0.5\n",
      "context_relevancy: 0.4444444444444444\n",
      "answer_correctness: 0.9778436048212342\n",
      "answer_similarity: 0.9113744192849368\n",
      "Processing RFP question 7...\n"
     ]
    },
    {
     "data": {
      "application/vnd.jupyter.widget-view+json": {
       "model_id": "c495d233b3a04b4dae925bc8857accf8",
       "version_major": 2,
       "version_minor": 0
      },
      "text/plain": [
       "Evaluating:   0%|          | 0/7 [00:00<?, ?it/s]"
      ]
     },
     "metadata": {},
     "output_type": "display_data"
    },
    {
     "name": "stdout",
     "output_type": "stream",
     "text": [
      "Evaluation completed.\n",
      "context_precision: 0.9999999999\n",
      "faithfulness: 1.0\n",
      "answer_relevancy: 0.9062997671753094\n",
      "context_recall: 1.0\n",
      "context_relevancy: 0.0\n",
      "answer_correctness: 0.7390270956049935\n",
      "answer_similarity: 0.9561083824199739\n",
      "Processing RFP question 8...\n"
     ]
    },
    {
     "data": {
      "application/vnd.jupyter.widget-view+json": {
       "model_id": "2da4fb0bf2a645a391bbde6232f90fa9",
       "version_major": 2,
       "version_minor": 0
      },
      "text/plain": [
       "Evaluating:   0%|          | 0/7 [00:00<?, ?it/s]"
      ]
     },
     "metadata": {},
     "output_type": "display_data"
    },
    {
     "name": "stdout",
     "output_type": "stream",
     "text": [
      "Evaluation completed.\n",
      "context_precision: 0.9999999999\n",
      "faithfulness: 1.0\n",
      "answer_relevancy: 0.921053957702389\n",
      "context_recall: 1.0\n",
      "context_relevancy: 0.0\n",
      "answer_correctness: 0.991748924081385\n",
      "answer_similarity: 0.96699569632554\n",
      "Processing RFP question 9...\n"
     ]
    },
    {
     "data": {
      "application/vnd.jupyter.widget-view+json": {
       "model_id": "63f86ad6da84409d862f9825a211675e",
       "version_major": 2,
       "version_minor": 0
      },
      "text/plain": [
       "Evaluating:   0%|          | 0/7 [00:00<?, ?it/s]"
      ]
     },
     "metadata": {},
     "output_type": "display_data"
    },
    {
     "name": "stdout",
     "output_type": "stream",
     "text": [
      "Evaluation completed.\n",
      "context_precision: 0.9999999999\n",
      "faithfulness: 1.0\n",
      "answer_relevancy: 0.8989112186112126\n",
      "context_recall: 0.25\n",
      "context_relevancy: 0.0\n",
      "answer_correctness: 0.9788167699919101\n",
      "answer_similarity: 0.9152670799676406\n",
      "Processing RFP question 10...\n"
     ]
    },
    {
     "data": {
      "application/vnd.jupyter.widget-view+json": {
       "model_id": "d93c5ef980474f7a9892f86afb4d2b0e",
       "version_major": 2,
       "version_minor": 0
      },
      "text/plain": [
       "Evaluating:   0%|          | 0/7 [00:00<?, ?it/s]"
      ]
     },
     "metadata": {},
     "output_type": "display_data"
    },
    {
     "name": "stdout",
     "output_type": "stream",
     "text": [
      "Evaluation completed.\n",
      "context_precision: 0.9999999999\n",
      "faithfulness: 1.0\n",
      "answer_relevancy: 0.9047461201964038\n",
      "context_recall: 0.2\n",
      "context_relevancy: 0.4375\n",
      "answer_correctness: 0.9901505791987055\n",
      "answer_similarity: 0.9606023167948219\n",
      "Processing RFP question 11...\n"
     ]
    },
    {
     "data": {
      "application/vnd.jupyter.widget-view+json": {
       "model_id": "edd06a3800c04b99b65296225a9eb9f4",
       "version_major": 2,
       "version_minor": 0
      },
      "text/plain": [
       "Evaluating:   0%|          | 0/7 [00:00<?, ?it/s]"
      ]
     },
     "metadata": {},
     "output_type": "display_data"
    },
    {
     "name": "stdout",
     "output_type": "stream",
     "text": [
      "Evaluation completed.\n",
      "context_precision: 0.9999999999\n",
      "faithfulness: 1.0\n",
      "answer_relevancy: 0.9009129737018281\n",
      "context_recall: 0.5\n",
      "context_relevancy: 0.0\n",
      "answer_correctness: 0.990606535163346\n",
      "answer_similarity: 0.9624261406533836\n",
      "Processing RFP question 12...\n"
     ]
    },
    {
     "data": {
      "application/vnd.jupyter.widget-view+json": {
       "model_id": "fef5b53d43de4f35ab0b67b28c50675a",
       "version_major": 2,
       "version_minor": 0
      },
      "text/plain": [
       "Evaluating:   0%|          | 0/7 [00:00<?, ?it/s]"
      ]
     },
     "metadata": {},
     "output_type": "display_data"
    },
    {
     "name": "stdout",
     "output_type": "stream",
     "text": [
      "Evaluation completed.\n",
      "context_precision: 0.9999999999\n",
      "faithfulness: 1.0\n",
      "answer_relevancy: 0.8703311117110536\n",
      "context_recall: 0.3333333333333333\n",
      "context_relevancy: 0.0\n",
      "answer_correctness: 0.9772987894564352\n",
      "answer_similarity: 0.9091951578257409\n",
      "Processing RFP question 13...\n"
     ]
    },
    {
     "data": {
      "application/vnd.jupyter.widget-view+json": {
       "model_id": "dbcc908db103411eb85c251b99ee88e8",
       "version_major": 2,
       "version_minor": 0
      },
      "text/plain": [
       "Evaluating:   0%|          | 0/7 [00:00<?, ?it/s]"
      ]
     },
     "metadata": {},
     "output_type": "display_data"
    },
    {
     "name": "stdout",
     "output_type": "stream",
     "text": [
      "Evaluation completed.\n",
      "context_precision: 0.9999999999\n",
      "faithfulness: 1.0\n",
      "answer_relevancy: 0.9195716533335515\n",
      "context_recall: 1.0\n",
      "context_relevancy: 0.0\n",
      "answer_correctness: 0.7418784707014128\n",
      "answer_similarity: 0.9675138828056512\n",
      "Processing RFP question 14...\n"
     ]
    },
    {
     "data": {
      "application/vnd.jupyter.widget-view+json": {
       "model_id": "d00fce6f72214f23acc1f3d1af7b5afa",
       "version_major": 2,
       "version_minor": 0
      },
      "text/plain": [
       "Evaluating:   0%|          | 0/7 [00:00<?, ?it/s]"
      ]
     },
     "metadata": {},
     "output_type": "display_data"
    },
    {
     "name": "stdout",
     "output_type": "stream",
     "text": [
      "Evaluation completed.\n",
      "context_precision: 0.9999999999\n",
      "faithfulness: 1.0\n",
      "answer_relevancy: 0.9592136009612591\n",
      "context_recall: 0.0\n",
      "context_relevancy: 0.0\n",
      "answer_correctness: 0.9769491898867654\n",
      "answer_similarity: 0.9077967595470615\n",
      "Processing RFP question 15...\n"
     ]
    },
    {
     "data": {
      "application/vnd.jupyter.widget-view+json": {
       "model_id": "7cf188061fea4a349496df506260665d",
       "version_major": 2,
       "version_minor": 0
      },
      "text/plain": [
       "Evaluating:   0%|          | 0/7 [00:00<?, ?it/s]"
      ]
     },
     "metadata": {},
     "output_type": "display_data"
    },
    {
     "name": "stdout",
     "output_type": "stream",
     "text": [
      "Evaluation completed.\n",
      "context_precision: 0.9999999999\n",
      "faithfulness: 1.0\n",
      "answer_relevancy: 0.9237728594260185\n",
      "context_recall: 0.75\n",
      "context_relevancy: 0.25\n",
      "answer_correctness: 0.9823503920069366\n",
      "answer_similarity: 0.9294015680277465\n",
      "Processing RFP question 16...\n"
     ]
    },
    {
     "data": {
      "application/vnd.jupyter.widget-view+json": {
       "model_id": "db095840d13047a88e2da2b938f1802e",
       "version_major": 2,
       "version_minor": 0
      },
      "text/plain": [
       "Evaluating:   0%|          | 0/7 [00:00<?, ?it/s]"
      ]
     },
     "metadata": {},
     "output_type": "display_data"
    },
    {
     "name": "stdout",
     "output_type": "stream",
     "text": [
      "Evaluation completed.\n",
      "context_precision: 0.9999999999\n",
      "faithfulness: 1.0\n",
      "answer_relevancy: 0.9201136245714331\n",
      "context_recall: 1.0\n",
      "context_relevancy: 0.1875\n",
      "answer_correctness: 0.7431887857974869\n",
      "answer_similarity: 0.9727551431899477\n",
      "Processing RFP question 17...\n"
     ]
    },
    {
     "data": {
      "application/vnd.jupyter.widget-view+json": {
       "model_id": "3037429df3ad43c0bbb517474973bf78",
       "version_major": 2,
       "version_minor": 0
      },
      "text/plain": [
       "Evaluating:   0%|          | 0/7 [00:00<?, ?it/s]"
      ]
     },
     "metadata": {},
     "output_type": "display_data"
    },
    {
     "name": "stdout",
     "output_type": "stream",
     "text": [
      "Evaluation completed.\n",
      "context_precision: 0.9999999999\n",
      "faithfulness: 1.0\n",
      "answer_relevancy: 0.9197367877165871\n",
      "context_recall: 0.0\n",
      "context_relevancy: 0.0\n",
      "answer_correctness: 0.744119942847126\n",
      "answer_similarity: 0.976497045376926\n",
      "Processing RFP question 18...\n"
     ]
    },
    {
     "data": {
      "application/vnd.jupyter.widget-view+json": {
       "model_id": "55f44b646bb64846ba9a0da22ebf672c",
       "version_major": 2,
       "version_minor": 0
      },
      "text/plain": [
       "Evaluating:   0%|          | 0/7 [00:00<?, ?it/s]"
      ]
     },
     "metadata": {},
     "output_type": "display_data"
    },
    {
     "name": "stderr",
     "output_type": "stream",
     "text": [
      "Failed to parse output. Returning None.\n",
      "/Users/juanvalidmind/Library/Caches/pypoetry/virtualenvs/validmind-eEL8LtKG-py3.10/lib/python3.10/site-packages/ragas/evaluation.py:276: RuntimeWarning:\n",
      "\n",
      "Mean of empty slice\n",
      "\n"
     ]
    },
    {
     "name": "stdout",
     "output_type": "stream",
     "text": [
      "Evaluation completed.\n",
      "context_precision: 0.9999999999\n",
      "faithfulness: 1.0\n",
      "answer_relevancy: nan\n",
      "context_recall: 1.0\n",
      "context_relevancy: 0.0\n",
      "answer_correctness: 0.9945006543187214\n",
      "answer_similarity: 0.978154318501003\n",
      "Processing RFP question 19...\n"
     ]
    },
    {
     "data": {
      "application/vnd.jupyter.widget-view+json": {
       "model_id": "fd9ae974f2904120829773a6cbe85c1f",
       "version_major": 2,
       "version_minor": 0
      },
      "text/plain": [
       "Evaluating:   0%|          | 0/7 [00:00<?, ?it/s]"
      ]
     },
     "metadata": {},
     "output_type": "display_data"
    },
    {
     "name": "stdout",
     "output_type": "stream",
     "text": [
      "Evaluation completed.\n",
      "context_precision: 0.9999999999\n",
      "faithfulness: 1.0\n",
      "answer_relevancy: 0.9157755867815385\n",
      "context_recall: 0.6666666666666666\n",
      "context_relevancy: 0.125\n",
      "answer_correctness: 0.992488980449869\n",
      "answer_similarity: 0.9699434582967869\n",
      "Processing RFP question 20...\n"
     ]
    },
    {
     "data": {
      "application/vnd.jupyter.widget-view+json": {
       "model_id": "705d4ad45b3f4f0a95d7e7d096ece1b8",
       "version_major": 2,
       "version_minor": 0
      },
      "text/plain": [
       "Evaluating:   0%|          | 0/7 [00:00<?, ?it/s]"
      ]
     },
     "metadata": {},
     "output_type": "display_data"
    },
    {
     "name": "stdout",
     "output_type": "stream",
     "text": [
      "Evaluation completed.\n",
      "context_precision: 0.9999999999\n",
      "faithfulness: 1.0\n",
      "answer_relevancy: 0.9346616923950372\n",
      "context_recall: 1.0\n",
      "context_relevancy: 0.0\n",
      "answer_correctness: 0.9947663539759243\n",
      "answer_similarity: 0.9790654159036972\n",
      "Processing RFP question 21...\n"
     ]
    },
    {
     "data": {
      "application/vnd.jupyter.widget-view+json": {
       "model_id": "8489fa57a2024413b4e545b5500b8741",
       "version_major": 2,
       "version_minor": 0
      },
      "text/plain": [
       "Evaluating:   0%|          | 0/7 [00:00<?, ?it/s]"
      ]
     },
     "metadata": {},
     "output_type": "display_data"
    },
    {
     "name": "stdout",
     "output_type": "stream",
     "text": [
      "Evaluation completed.\n",
      "context_precision: 0.9999999999\n",
      "faithfulness: 1.0\n",
      "answer_relevancy: 0.9209448658921863\n",
      "context_recall: 0.0\n",
      "context_relevancy: 0.25\n",
      "answer_correctness: 0.9937525132219007\n",
      "answer_similarity: 0.9750100528876029\n",
      "Processing RFP question 22...\n"
     ]
    },
    {
     "data": {
      "application/vnd.jupyter.widget-view+json": {
       "model_id": "5b60250b93c242be826ea29be80c382f",
       "version_major": 2,
       "version_minor": 0
      },
      "text/plain": [
       "Evaluating:   0%|          | 0/7 [00:00<?, ?it/s]"
      ]
     },
     "metadata": {},
     "output_type": "display_data"
    },
    {
     "name": "stdout",
     "output_type": "stream",
     "text": [
      "Evaluation completed.\n",
      "context_precision: 0.9999999999\n",
      "faithfulness: 1.0\n",
      "answer_relevancy: 0.9223195752001881\n",
      "context_recall: 0.0\n",
      "context_relevancy: 0.16666666666666666\n",
      "answer_correctness: 0.9893490835768213\n",
      "answer_similarity: 0.9573963343072849\n",
      "Processing RFP question 23...\n"
     ]
    },
    {
     "data": {
      "application/vnd.jupyter.widget-view+json": {
       "model_id": "ef81b5a621f34081894b65305b4c7af1",
       "version_major": 2,
       "version_minor": 0
      },
      "text/plain": [
       "Evaluating:   0%|          | 0/7 [00:00<?, ?it/s]"
      ]
     },
     "metadata": {},
     "output_type": "display_data"
    },
    {
     "name": "stdout",
     "output_type": "stream",
     "text": [
      "Evaluation completed.\n",
      "context_precision: 0.9999999999\n",
      "faithfulness: 1.0\n",
      "answer_relevancy: 0.9188091539259172\n",
      "context_recall: 1.0\n",
      "context_relevancy: 0.3333333333333333\n",
      "answer_correctness: 0.9802832802750678\n",
      "answer_similarity: 0.9211666299826714\n",
      "All RFP questions processed.\n"
     ]
    }
   ],
   "source": [
    "\n",
    "# This loop processes each row up to a predefined number of rows, evaluating them with specified metrics and storing the results\n",
    "for i, (index, row) in enumerate(rag_evaluation_df.iloc[:number_of_rows_to_process].iterrows()):\n",
    "    print(f\"Processing RFP question {i+1}...\")\n",
    "\n",
    "    # Create a temporary Dataset for the current row\n",
    "    ragas_dataset = Dataset.from_pandas(ragas_results_df.iloc[i: i + 1][required_fields])\n",
    "\n",
    "    # Evaluate using RAGAS metrics\n",
    "    evaluation_result = evaluate(\n",
    "        ragas_dataset, \n",
    "        [metrics_functions[metric] for metric in metrics if metric in metrics_functions])\n",
    "    print(\"Evaluation completed.\")\n",
    "\n",
    "    # Store evaluation results back into the DataFrame\n",
    "    for metric in metrics:\n",
    "        if metric in evaluation_result:\n",
    "            ragas_results_df.at[i, metric] = evaluation_result[metric]\n",
    "            print(f\"{metric}: {evaluation_result[metric]}\")\n",
    "\n",
    "print(\"All RFP questions processed.\")\n"
   ]
  },
  {
   "cell_type": "code",
   "execution_count": 46,
   "metadata": {},
   "outputs": [
    {
     "name": "stdout",
     "output_type": "stream",
     "text": [
      "<class 'pandas.core.frame.DataFrame'>\n",
      "Int64Index: 23 entries, 0 to 22\n",
      "Data columns (total 26 columns):\n",
      " #   Column                                Non-Null Count  Dtype \n",
      "---  ------                                --------------  ----- \n",
      " 0   id                                    23 non-null     int64 \n",
      " 1   new_rfp                               23 non-null     object\n",
      " 2   new_question                          23 non-null     object\n",
      " 3   question                              23 non-null     object\n",
      " 4   answer                                23 non-null     object\n",
      " 5   ground_truth                          23 non-null     object\n",
      " 6   existing_rfp                          23 non-null     object\n",
      " 7   contexts                              23 non-null     object\n",
      " 8   question_embeddings                   23 non-null     object\n",
      " 9   answer_embeddings                     23 non-null     object\n",
      " 10  context_embeddings                    23 non-null     object\n",
      " 11  similarity_score_question_vs_context  23 non-null     object\n",
      " 12  similarity_score_question_vs_answer   23 non-null     object\n",
      " 13  similarity_score_context_vs_answer    23 non-null     object\n",
      " 14  model                                 23 non-null     object\n",
      " 15  completion_tokens                     23 non-null     object\n",
      " 16  prompt_tokens                         23 non-null     object\n",
      " 17  total_tokens                          23 non-null     object\n",
      " 18  response_time                         23 non-null     object\n",
      " 19  context_precision                     23 non-null     object\n",
      " 20  faithfulness                          23 non-null     object\n",
      " 21  answer_relevancy                      22 non-null     object\n",
      " 22  context_recall                        23 non-null     object\n",
      " 23  context_relevancy                     23 non-null     object\n",
      " 24  answer_correctness                    23 non-null     object\n",
      " 25  answer_similarity                     23 non-null     object\n",
      "dtypes: int64(1), object(25)\n",
      "memory usage: 5.4+ KB\n"
     ]
    }
   ],
   "source": [
    "ragas_results_df.info()"
   ]
  },
  {
   "cell_type": "code",
   "execution_count": 48,
   "metadata": {},
   "outputs": [
    {
     "data": {
      "text/html": [
       "<div>\n",
       "<style scoped>\n",
       "    .dataframe tbody tr th:only-of-type {\n",
       "        vertical-align: middle;\n",
       "    }\n",
       "\n",
       "    .dataframe tbody tr th {\n",
       "        vertical-align: top;\n",
       "    }\n",
       "\n",
       "    .dataframe thead th {\n",
       "        text-align: right;\n",
       "    }\n",
       "</style>\n",
       "<table border=\"1\" class=\"dataframe\">\n",
       "  <thead>\n",
       "    <tr style=\"text-align: right;\">\n",
       "      <th></th>\n",
       "      <th>id</th>\n",
       "      <th>new_rfp</th>\n",
       "      <th>new_question</th>\n",
       "      <th>question</th>\n",
       "      <th>answer</th>\n",
       "      <th>ground_truth</th>\n",
       "      <th>existing_rfp</th>\n",
       "      <th>contexts</th>\n",
       "      <th>question_embeddings</th>\n",
       "      <th>answer_embeddings</th>\n",
       "      <th>...</th>\n",
       "      <th>prompt_tokens</th>\n",
       "      <th>total_tokens</th>\n",
       "      <th>response_time</th>\n",
       "      <th>context_precision</th>\n",
       "      <th>faithfulness</th>\n",
       "      <th>answer_relevancy</th>\n",
       "      <th>context_recall</th>\n",
       "      <th>context_relevancy</th>\n",
       "      <th>answer_correctness</th>\n",
       "      <th>answer_similarity</th>\n",
       "    </tr>\n",
       "  </thead>\n",
       "  <tbody>\n",
       "    <tr>\n",
       "      <th>0</th>\n",
       "      <td>1</td>\n",
       "      <td>rfp_new_questions_client_100.csv</td>\n",
       "      <td>What is your experience in developing AI-based...</td>\n",
       "      <td>What is the most similar question to: \"What is...</td>\n",
       "      <td>RFP_Question: Can you discuss your expertise i...</td>\n",
       "      <td>Can you discuss your expertise in creating AI-...</td>\n",
       "      <td>rfp_exisiting_questions_client_2.csv</td>\n",
       "      <td>[Project_Title: AI-Powered Risk Assessment Mod...</td>\n",
       "      <td>[-0.012242779808196847, -0.02875495641236209, ...</td>\n",
       "      <td>[0.028609594368424196, -0.024913389269028082, ...</td>\n",
       "      <td>...</td>\n",
       "      <td>550</td>\n",
       "      <td>573</td>\n",
       "      <td>1.9</td>\n",
       "      <td>1.0</td>\n",
       "      <td>1.0</td>\n",
       "      <td>0.899014</td>\n",
       "      <td>1.0</td>\n",
       "      <td>0.0</td>\n",
       "      <td>0.988876</td>\n",
       "      <td>0.955718</td>\n",
       "    </tr>\n",
       "    <tr>\n",
       "      <th>1</th>\n",
       "      <td>2</td>\n",
       "      <td>rfp_new_questions_client_100.csv</td>\n",
       "      <td>How do you ensure your AI-based apps remain up...</td>\n",
       "      <td>What is the most similar question to: \"How do ...</td>\n",
       "      <td>RFP_Question: How do you keep your AI applicat...</td>\n",
       "      <td>How do you keep your AI applications current w...</td>\n",
       "      <td>rfp_exisiting_questions_client_2.csv</td>\n",
       "      <td>[Project_Title: AI-Powered Risk Assessment Mod...</td>\n",
       "      <td>[-0.021238304961058666, -0.002903160656478289,...</td>\n",
       "      <td>[0.009174146107929795, 0.004682353866566277, 0...</td>\n",
       "      <td>...</td>\n",
       "      <td>541</td>\n",
       "      <td>561</td>\n",
       "      <td>3.1</td>\n",
       "      <td>1.0</td>\n",
       "      <td>1.0</td>\n",
       "      <td>0.894553</td>\n",
       "      <td>1.0</td>\n",
       "      <td>0.0</td>\n",
       "      <td>0.987639</td>\n",
       "      <td>0.950556</td>\n",
       "    </tr>\n",
       "    <tr>\n",
       "      <th>2</th>\n",
       "      <td>3</td>\n",
       "      <td>rfp_new_questions_client_100.csv</td>\n",
       "      <td>Can your AI-based applications be customized t...</td>\n",
       "      <td>What is the most similar question to: \"Can you...</td>\n",
       "      <td>The most similar question to \"Can your AI-base...</td>\n",
       "      <td>Are your AI applications adaptable to specific...</td>\n",
       "      <td>rfp_exisiting_questions_client_2.csv</td>\n",
       "      <td>[RFP_Answer: Absolutely, customization is a co...</td>\n",
       "      <td>[-0.024933725810230647, -0.00398689651570446, ...</td>\n",
       "      <td>[-0.018114261370701053, -0.003040488117825552,...</td>\n",
       "      <td>...</td>\n",
       "      <td>532</td>\n",
       "      <td>574</td>\n",
       "      <td>3.2</td>\n",
       "      <td>1.0</td>\n",
       "      <td>1.0</td>\n",
       "      <td>0.900155</td>\n",
       "      <td>1.0</td>\n",
       "      <td>0.0</td>\n",
       "      <td>0.979707</td>\n",
       "      <td>0.91883</td>\n",
       "    </tr>\n",
       "    <tr>\n",
       "      <th>3</th>\n",
       "      <td>4</td>\n",
       "      <td>rfp_new_questions_client_100.csv</td>\n",
       "      <td>What measures do you take to ensure user priva...</td>\n",
       "      <td>What is the most similar question to: \"What me...</td>\n",
       "      <td>The most similar question to \"What measures do...</td>\n",
       "      <td>What steps do you undertake to protect user pr...</td>\n",
       "      <td>rfp_exisiting_questions_client_2.csv</td>\n",
       "      <td>[Project_Title: AI-Powered Risk Assessment Mod...</td>\n",
       "      <td>[-0.011542554119771953, -0.012979928523676116,...</td>\n",
       "      <td>[-0.017716543891049378, -0.021140465682403832,...</td>\n",
       "      <td>...</td>\n",
       "      <td>608</td>\n",
       "      <td>657</td>\n",
       "      <td>2.7</td>\n",
       "      <td>1.0</td>\n",
       "      <td>1.0</td>\n",
       "      <td>0.925843</td>\n",
       "      <td>0.454545</td>\n",
       "      <td>0.588235</td>\n",
       "      <td>0.980158</td>\n",
       "      <td>0.92063</td>\n",
       "    </tr>\n",
       "    <tr>\n",
       "      <th>4</th>\n",
       "      <td>5</td>\n",
       "      <td>rfp_new_questions_client_100.csv</td>\n",
       "      <td>How do you approach user interface and experie...</td>\n",
       "      <td>What is the most similar question to: \"How do ...</td>\n",
       "      <td>RFP_Question: What strategies do you employ to...</td>\n",
       "      <td>What strategies do you employ to design user i...</td>\n",
       "      <td>rfp_exisiting_questions_client_2.csv</td>\n",
       "      <td>[RFP_Answer: Our design philosophy centers on ...</td>\n",
       "      <td>[-0.022403337192397944, -0.003745948452053383,...</td>\n",
       "      <td>[0.012766196768228667, 0.02172657166295028, 0....</td>\n",
       "      <td>...</td>\n",
       "      <td>594</td>\n",
       "      <td>620</td>\n",
       "      <td>4.3</td>\n",
       "      <td>1.0</td>\n",
       "      <td>1.0</td>\n",
       "      <td>0.897786</td>\n",
       "      <td>0.0</td>\n",
       "      <td>0.533333</td>\n",
       "      <td>0.98962</td>\n",
       "      <td>0.958481</td>\n",
       "    </tr>\n",
       "    <tr>\n",
       "      <th>5</th>\n",
       "      <td>6</td>\n",
       "      <td>rfp_new_questions_client_100.csv</td>\n",
       "      <td>Describe your support and maintenance services...</td>\n",
       "      <td>What is the most similar question to: \"Describ...</td>\n",
       "      <td>The most similar question to \"Describe your su...</td>\n",
       "      <td>Explain the support and maintenance services y...</td>\n",
       "      <td>rfp_exisiting_questions_client_2.csv</td>\n",
       "      <td>[Project_Title: AI-Powered Risk Assessment Mod...</td>\n",
       "      <td>[-0.02594255529391264, 0.026052017363914444, 0...</td>\n",
       "      <td>[-0.018622273370422313, 0.016507519223956362, ...</td>\n",
       "      <td>...</td>\n",
       "      <td>587</td>\n",
       "      <td>631</td>\n",
       "      <td>2.9</td>\n",
       "      <td>1.0</td>\n",
       "      <td>1.0</td>\n",
       "      <td>0.892845</td>\n",
       "      <td>0.5</td>\n",
       "      <td>0.444444</td>\n",
       "      <td>0.977844</td>\n",
       "      <td>0.911374</td>\n",
       "    </tr>\n",
       "    <tr>\n",
       "      <th>6</th>\n",
       "      <td>7</td>\n",
       "      <td>rfp_new_questions_client_100.csv</td>\n",
       "      <td>How do you measure the success and impact of y...</td>\n",
       "      <td>What is the most similar question to: \"How do ...</td>\n",
       "      <td>RFP_Question: How do you evaluate the effectiv...</td>\n",
       "      <td>How do you evaluate the effectiveness and impa...</td>\n",
       "      <td>rfp_exisiting_questions_client_2.csv</td>\n",
       "      <td>[Project_Title: AI-Powered Risk Assessment Mod...</td>\n",
       "      <td>[-0.005094874094156965, -0.0018191395470256865...</td>\n",
       "      <td>[0.01474235542817176, 0.004943857159210323, 0....</td>\n",
       "      <td>...</td>\n",
       "      <td>537</td>\n",
       "      <td>559</td>\n",
       "      <td>2.1</td>\n",
       "      <td>1.0</td>\n",
       "      <td>1.0</td>\n",
       "      <td>0.9063</td>\n",
       "      <td>1.0</td>\n",
       "      <td>0.0</td>\n",
       "      <td>0.739027</td>\n",
       "      <td>0.956108</td>\n",
       "    </tr>\n",
       "    <tr>\n",
       "      <th>7</th>\n",
       "      <td>8</td>\n",
       "      <td>rfp_new_questions_client_100.csv</td>\n",
       "      <td>How do you ensure the ethical use of LLMs in y...</td>\n",
       "      <td>What is the most similar question to: \"How do ...</td>\n",
       "      <td>RFP_Question: How do you manage ethical concer...</td>\n",
       "      <td>How do you manage ethical concerns in your LLM...</td>\n",
       "      <td>rfp_exisiting_questions_client_2.csv</td>\n",
       "      <td>[Project_Title: AI-Powered Risk Assessment Mod...</td>\n",
       "      <td>[0.021543276731008216, 0.01490634165937239, 0....</td>\n",
       "      <td>[0.02458965545433629, 0.017371860934522247, 0....</td>\n",
       "      <td>...</td>\n",
       "      <td>607</td>\n",
       "      <td>635</td>\n",
       "      <td>2.6</td>\n",
       "      <td>1.0</td>\n",
       "      <td>1.0</td>\n",
       "      <td>0.921054</td>\n",
       "      <td>1.0</td>\n",
       "      <td>0.0</td>\n",
       "      <td>0.991749</td>\n",
       "      <td>0.966996</td>\n",
       "    </tr>\n",
       "    <tr>\n",
       "      <th>8</th>\n",
       "      <td>9</td>\n",
       "      <td>rfp_new_questions_client_100.csv</td>\n",
       "      <td>Can you describe the process of training your ...</td>\n",
       "      <td>What is the most similar question to: \"Can you...</td>\n",
       "      <td>The most similar question to \"Can you describe...</td>\n",
       "      <td>Could you outline how you train your LLMs, inc...</td>\n",
       "      <td>rfp_exisiting_questions_client_2.csv</td>\n",
       "      <td>[Project_Title: AI-Powered Risk Assessment Mod...</td>\n",
       "      <td>[-0.02396939689706394, 0.018455669672488594, 0...</td>\n",
       "      <td>[-0.018115209323870087, 0.023699326320744635, ...</td>\n",
       "      <td>...</td>\n",
       "      <td>605</td>\n",
       "      <td>666</td>\n",
       "      <td>2.9</td>\n",
       "      <td>1.0</td>\n",
       "      <td>1.0</td>\n",
       "      <td>0.898911</td>\n",
       "      <td>0.25</td>\n",
       "      <td>0.0</td>\n",
       "      <td>0.978817</td>\n",
       "      <td>0.915267</td>\n",
       "    </tr>\n",
       "    <tr>\n",
       "      <th>9</th>\n",
       "      <td>10</td>\n",
       "      <td>rfp_new_questions_client_100.csv</td>\n",
       "      <td>How do you handle the continuous learning and ...</td>\n",
       "      <td>What is the most similar question to: \"How do ...</td>\n",
       "      <td>RFP_Question: How do you ensure your LLMs cont...</td>\n",
       "      <td>How do you ensure your LLMs continuously learn...</td>\n",
       "      <td>rfp_exisiting_questions_client_2.csv</td>\n",
       "      <td>[Project_Title: AI-Powered Risk Assessment Mod...</td>\n",
       "      <td>[-0.00825047894972602, 0.021084556591604547, 0...</td>\n",
       "      <td>[-0.013420040554404636, 0.028803989073751236, ...</td>\n",
       "      <td>...</td>\n",
       "      <td>633</td>\n",
       "      <td>659</td>\n",
       "      <td>1.8</td>\n",
       "      <td>1.0</td>\n",
       "      <td>1.0</td>\n",
       "      <td>0.904746</td>\n",
       "      <td>0.2</td>\n",
       "      <td>0.4375</td>\n",
       "      <td>0.990151</td>\n",
       "      <td>0.960602</td>\n",
       "    </tr>\n",
       "    <tr>\n",
       "      <th>10</th>\n",
       "      <td>11</td>\n",
       "      <td>rfp_new_questions_client_100.csv</td>\n",
       "      <td>What measures do you take to ensure the transp...</td>\n",
       "      <td>What is the most similar question to: \"What me...</td>\n",
       "      <td>RFP_Question: What actions do you take to make...</td>\n",
       "      <td>What actions do you take to make the decision-...</td>\n",
       "      <td>rfp_exisiting_questions_client_2.csv</td>\n",
       "      <td>[Project_Title: AI-Powered Risk Assessment Mod...</td>\n",
       "      <td>[-0.013587386723794776, 0.00556639885149576, 0...</td>\n",
       "      <td>[-0.014100776926247227, 0.028742851604862004, ...</td>\n",
       "      <td>...</td>\n",
       "      <td>613</td>\n",
       "      <td>638</td>\n",
       "      <td>5.6</td>\n",
       "      <td>1.0</td>\n",
       "      <td>1.0</td>\n",
       "      <td>0.900913</td>\n",
       "      <td>0.5</td>\n",
       "      <td>0.0</td>\n",
       "      <td>0.990607</td>\n",
       "      <td>0.962426</td>\n",
       "    </tr>\n",
       "    <tr>\n",
       "      <th>11</th>\n",
       "      <td>12</td>\n",
       "      <td>rfp_new_questions_client_100.csv</td>\n",
       "      <td>How do you assess and ensure the performance a...</td>\n",
       "      <td>What is the most similar question to: \"How do ...</td>\n",
       "      <td>The most similar question to \"How do you asses...</td>\n",
       "      <td>How do you verify and ensure that your LLMs ca...</td>\n",
       "      <td>rfp_exisiting_questions_client_2.csv</td>\n",
       "      <td>[RFP_Answer: We conduct extensive performance ...</td>\n",
       "      <td>[-0.011384415804847862, 0.01486040978785559, 0...</td>\n",
       "      <td>[-0.005259337413416406, 0.02654257811492115, 0...</td>\n",
       "      <td>...</td>\n",
       "      <td>600</td>\n",
       "      <td>651</td>\n",
       "      <td>2.9</td>\n",
       "      <td>1.0</td>\n",
       "      <td>1.0</td>\n",
       "      <td>0.870331</td>\n",
       "      <td>0.333333</td>\n",
       "      <td>0.0</td>\n",
       "      <td>0.977299</td>\n",
       "      <td>0.909195</td>\n",
       "    </tr>\n",
       "    <tr>\n",
       "      <th>12</th>\n",
       "      <td>13</td>\n",
       "      <td>rfp_new_questions_client_100.csv</td>\n",
       "      <td>Can you provide examples of successful deploym...</td>\n",
       "      <td>What is the most similar question to: \"Can you...</td>\n",
       "      <td>RFP_Question: Can you provide case studies of ...</td>\n",
       "      <td>Can you provide case studies of successful LLM...</td>\n",
       "      <td>rfp_exisiting_questions_client_2.csv</td>\n",
       "      <td>[RFP_Answer: We can share case studies of succ...</td>\n",
       "      <td>[0.0053169715833493916, -0.006949637731748671,...</td>\n",
       "      <td>[0.001873011469712584, 0.01035180717654377, 0....</td>\n",
       "      <td>...</td>\n",
       "      <td>639</td>\n",
       "      <td>663</td>\n",
       "      <td>1.9</td>\n",
       "      <td>1.0</td>\n",
       "      <td>1.0</td>\n",
       "      <td>0.919572</td>\n",
       "      <td>1.0</td>\n",
       "      <td>0.0</td>\n",
       "      <td>0.741878</td>\n",
       "      <td>0.967514</td>\n",
       "    </tr>\n",
       "    <tr>\n",
       "      <th>13</th>\n",
       "      <td>14</td>\n",
       "      <td>rfp_new_questions_client_100.csv</td>\n",
       "      <td>What is your approach to integrating LLMs with...</td>\n",
       "      <td>What is the most similar question to: \"What is...</td>\n",
       "      <td>The most similar question to: \"What is your ap...</td>\n",
       "      <td>Describe how you integrate LLMs into existing ...</td>\n",
       "      <td>rfp_exisiting_questions_client_2.csv</td>\n",
       "      <td>[RFP_Answer: Our approach involves conducting ...</td>\n",
       "      <td>[-0.0201516011890611, -0.00046924103714193516,...</td>\n",
       "      <td>[-0.01783359161236873, 0.011818785021282417, 0...</td>\n",
       "      <td>...</td>\n",
       "      <td>585</td>\n",
       "      <td>627</td>\n",
       "      <td>3.8</td>\n",
       "      <td>1.0</td>\n",
       "      <td>1.0</td>\n",
       "      <td>0.959214</td>\n",
       "      <td>0.0</td>\n",
       "      <td>0.0</td>\n",
       "      <td>0.976949</td>\n",
       "      <td>0.907797</td>\n",
       "    </tr>\n",
       "    <tr>\n",
       "      <th>14</th>\n",
       "      <td>15</td>\n",
       "      <td>rfp_new_questions_client_100.csv</td>\n",
       "      <td>How do you plan to support and maintain LLM-ba...</td>\n",
       "      <td>What is the most similar question to: \"How do ...</td>\n",
       "      <td>The most similar question to: \"How do you plan...</td>\n",
       "      <td>What are your strategies for supporting and ma...</td>\n",
       "      <td>rfp_exisiting_questions_client_2.csv</td>\n",
       "      <td>[RFP_Answer: Our post-deployment support is de...</td>\n",
       "      <td>[-0.007420965991490901, 0.04956698082175351, 0...</td>\n",
       "      <td>[-0.006079617565615648, 0.040417758469104136, ...</td>\n",
       "      <td>...</td>\n",
       "      <td>604</td>\n",
       "      <td>664</td>\n",
       "      <td>2.9</td>\n",
       "      <td>1.0</td>\n",
       "      <td>1.0</td>\n",
       "      <td>0.923773</td>\n",
       "      <td>0.75</td>\n",
       "      <td>0.25</td>\n",
       "      <td>0.98235</td>\n",
       "      <td>0.929402</td>\n",
       "    </tr>\n",
       "    <tr>\n",
       "      <th>15</th>\n",
       "      <td>16</td>\n",
       "      <td>rfp_new_questions_client_100.csv</td>\n",
       "      <td>How does your AI solution align with the NIST ...</td>\n",
       "      <td>What is the most similar question to: \"How doe...</td>\n",
       "      <td>RFP_Question: How does your AI solution comply...</td>\n",
       "      <td>How does your AI solution comply with the guid...</td>\n",
       "      <td>rfp_exisiting_questions_client_2.csv</td>\n",
       "      <td>[RFP_Answer: Our AI solution is meticulously d...</td>\n",
       "      <td>[-0.024076844192504537, 0.004061743862669836, ...</td>\n",
       "      <td>[0.0034582621035253716, 0.018990318172255122, ...</td>\n",
       "      <td>...</td>\n",
       "      <td>572</td>\n",
       "      <td>599</td>\n",
       "      <td>2.5</td>\n",
       "      <td>1.0</td>\n",
       "      <td>1.0</td>\n",
       "      <td>0.920114</td>\n",
       "      <td>1.0</td>\n",
       "      <td>0.1875</td>\n",
       "      <td>0.743189</td>\n",
       "      <td>0.972755</td>\n",
       "    </tr>\n",
       "    <tr>\n",
       "      <th>16</th>\n",
       "      <td>17</td>\n",
       "      <td>rfp_new_questions_client_100.csv</td>\n",
       "      <td>Can you describe the governance structures you...</td>\n",
       "      <td>What is the most similar question to: \"Can you...</td>\n",
       "      <td>RFP_Question: Could you describe the governanc...</td>\n",
       "      <td>Could you describe the governance frameworks y...</td>\n",
       "      <td>rfp_exisiting_questions_client_2.csv</td>\n",
       "      <td>[Project_Title: AI-Powered Risk Assessment Mod...</td>\n",
       "      <td>[-0.008052477280807952, 0.033308541890396996, ...</td>\n",
       "      <td>[0.010880765892755773, 0.017463688797322234, 0...</td>\n",
       "      <td>...</td>\n",
       "      <td>573</td>\n",
       "      <td>600</td>\n",
       "      <td>1.9</td>\n",
       "      <td>1.0</td>\n",
       "      <td>1.0</td>\n",
       "      <td>0.919737</td>\n",
       "      <td>0.0</td>\n",
       "      <td>0.0</td>\n",
       "      <td>0.74412</td>\n",
       "      <td>0.976497</td>\n",
       "    </tr>\n",
       "    <tr>\n",
       "      <th>17</th>\n",
       "      <td>18</td>\n",
       "      <td>rfp_new_questions_client_100.csv</td>\n",
       "      <td>How do you identify and assess AI risks in lin...</td>\n",
       "      <td>What is the most similar question to: \"How do ...</td>\n",
       "      <td>RFP_Question: How do you identify and evaluate...</td>\n",
       "      <td>How do you identify and evaluate AI risks foll...</td>\n",
       "      <td>rfp_exisiting_questions_client_2.csv</td>\n",
       "      <td>[Project_Title: AI-Powered Risk Assessment Mod...</td>\n",
       "      <td>[-0.02460394761122877, 0.022054107706891476, 0...</td>\n",
       "      <td>[-0.0023425760092822775, 0.04206372570559589, ...</td>\n",
       "      <td>...</td>\n",
       "      <td>546</td>\n",
       "      <td>573</td>\n",
       "      <td>2.0</td>\n",
       "      <td>1.0</td>\n",
       "      <td>1.0</td>\n",
       "      <td>NaN</td>\n",
       "      <td>1.0</td>\n",
       "      <td>0.0</td>\n",
       "      <td>0.994501</td>\n",
       "      <td>0.978154</td>\n",
       "    </tr>\n",
       "    <tr>\n",
       "      <th>18</th>\n",
       "      <td>19</td>\n",
       "      <td>rfp_new_questions_client_100.csv</td>\n",
       "      <td>What measures do you take to ensure transparen...</td>\n",
       "      <td>What is the most similar question to: \"What me...</td>\n",
       "      <td>RFP_Question: What steps do you implement to e...</td>\n",
       "      <td>What steps do you implement to ensure AI decis...</td>\n",
       "      <td>rfp_exisiting_questions_client_2.csv</td>\n",
       "      <td>[Project_Title: AI-Powered Risk Assessment Mod...</td>\n",
       "      <td>[-0.01298543116888274, 0.012363928901313223, 0...</td>\n",
       "      <td>[-0.007185383545431859, 0.026770268922978437, ...</td>\n",
       "      <td>...</td>\n",
       "      <td>615</td>\n",
       "      <td>645</td>\n",
       "      <td>1.7</td>\n",
       "      <td>1.0</td>\n",
       "      <td>1.0</td>\n",
       "      <td>0.915776</td>\n",
       "      <td>0.666667</td>\n",
       "      <td>0.125</td>\n",
       "      <td>0.992489</td>\n",
       "      <td>0.969943</td>\n",
       "    </tr>\n",
       "    <tr>\n",
       "      <th>19</th>\n",
       "      <td>20</td>\n",
       "      <td>rfp_new_questions_client_100.csv</td>\n",
       "      <td>How do you track and measure exposure to AI ri...</td>\n",
       "      <td>What is the most similar question to: \"How do ...</td>\n",
       "      <td>RFP_Question: How do you monitor and assess AI...</td>\n",
       "      <td>How do you monitor and assess AI risk exposure...</td>\n",
       "      <td>rfp_exisiting_questions_client_2.csv</td>\n",
       "      <td>[Project_Title: AI-Powered Risk Assessment Mod...</td>\n",
       "      <td>[-0.017157074761071756, 0.009715372967814098, ...</td>\n",
       "      <td>[0.007095605286568667, 0.030860055734765315, 0...</td>\n",
       "      <td>...</td>\n",
       "      <td>590</td>\n",
       "      <td>626</td>\n",
       "      <td>2.4</td>\n",
       "      <td>1.0</td>\n",
       "      <td>1.0</td>\n",
       "      <td>0.934662</td>\n",
       "      <td>1.0</td>\n",
       "      <td>0.0</td>\n",
       "      <td>0.994766</td>\n",
       "      <td>0.979065</td>\n",
       "    </tr>\n",
       "    <tr>\n",
       "      <th>20</th>\n",
       "      <td>21</td>\n",
       "      <td>rfp_new_questions_client_100.csv</td>\n",
       "      <td>Describe how your AI solutions manage and miti...</td>\n",
       "      <td>What is the most similar question to: \"Describ...</td>\n",
       "      <td>RFP_Question_ID: 21\\nRFP_Question: Explain how...</td>\n",
       "      <td>Explain how you manage and mitigate AI risks i...</td>\n",
       "      <td>rfp_exisiting_questions_client_2.csv</td>\n",
       "      <td>[Project_Title: AI-Powered Risk Assessment Mod...</td>\n",
       "      <td>[-0.025189838097553253, 0.040055336375701724, ...</td>\n",
       "      <td>[0.01807079358525926, 0.04915548573583894, 0.0...</td>\n",
       "      <td>...</td>\n",
       "      <td>583</td>\n",
       "      <td>620</td>\n",
       "      <td>2.1</td>\n",
       "      <td>1.0</td>\n",
       "      <td>1.0</td>\n",
       "      <td>0.920945</td>\n",
       "      <td>0.0</td>\n",
       "      <td>0.25</td>\n",
       "      <td>0.993753</td>\n",
       "      <td>0.97501</td>\n",
       "    </tr>\n",
       "    <tr>\n",
       "      <th>21</th>\n",
       "      <td>22</td>\n",
       "      <td>rfp_new_questions_client_100.csv</td>\n",
       "      <td>How do you ensure that your AI solutions are c...</td>\n",
       "      <td>What is the most similar question to: \"How do ...</td>\n",
       "      <td>RFP_Question: How do you ensure compliance wit...</td>\n",
       "      <td>How do you ensure compliance with U.S. laws on...</td>\n",
       "      <td>rfp_exisiting_questions_client_2.csv</td>\n",
       "      <td>[Project_Title: AI-Powered Risk Assessment Mod...</td>\n",
       "      <td>[-0.000199194390609713, 0.004925684748433598, ...</td>\n",
       "      <td>[0.02645043235034284, 0.011134508792335953, 0....</td>\n",
       "      <td>...</td>\n",
       "      <td>603</td>\n",
       "      <td>628</td>\n",
       "      <td>2.1</td>\n",
       "      <td>1.0</td>\n",
       "      <td>1.0</td>\n",
       "      <td>0.92232</td>\n",
       "      <td>0.0</td>\n",
       "      <td>0.166667</td>\n",
       "      <td>0.989349</td>\n",
       "      <td>0.957396</td>\n",
       "    </tr>\n",
       "    <tr>\n",
       "      <th>22</th>\n",
       "      <td>23</td>\n",
       "      <td>rfp_new_questions_client_100.csv</td>\n",
       "      <td>In what ways do you contribute to the continua...</td>\n",
       "      <td>What is the most similar question to: \"In what...</td>\n",
       "      <td>The most similar question to: \"In what ways do...</td>\n",
       "      <td>In what ways do you participate in advancing A...</td>\n",
       "      <td>rfp_exisiting_questions_client_2.csv</td>\n",
       "      <td>[Project_Title: AI-Powered Risk Assessment Mod...</td>\n",
       "      <td>[-0.012498520688869403, -0.0037221299667366658...</td>\n",
       "      <td>[-0.024560942174418843, -0.009475785612827593,...</td>\n",
       "      <td>...</td>\n",
       "      <td>549</td>\n",
       "      <td>613</td>\n",
       "      <td>3.4</td>\n",
       "      <td>1.0</td>\n",
       "      <td>1.0</td>\n",
       "      <td>0.918809</td>\n",
       "      <td>1.0</td>\n",
       "      <td>0.333333</td>\n",
       "      <td>0.980283</td>\n",
       "      <td>0.921167</td>\n",
       "    </tr>\n",
       "  </tbody>\n",
       "</table>\n",
       "<p>23 rows × 26 columns</p>\n",
       "</div>"
      ],
      "text/plain": [
       "    id                           new_rfp  \\\n",
       "0    1  rfp_new_questions_client_100.csv   \n",
       "1    2  rfp_new_questions_client_100.csv   \n",
       "2    3  rfp_new_questions_client_100.csv   \n",
       "3    4  rfp_new_questions_client_100.csv   \n",
       "4    5  rfp_new_questions_client_100.csv   \n",
       "5    6  rfp_new_questions_client_100.csv   \n",
       "6    7  rfp_new_questions_client_100.csv   \n",
       "7    8  rfp_new_questions_client_100.csv   \n",
       "8    9  rfp_new_questions_client_100.csv   \n",
       "9   10  rfp_new_questions_client_100.csv   \n",
       "10  11  rfp_new_questions_client_100.csv   \n",
       "11  12  rfp_new_questions_client_100.csv   \n",
       "12  13  rfp_new_questions_client_100.csv   \n",
       "13  14  rfp_new_questions_client_100.csv   \n",
       "14  15  rfp_new_questions_client_100.csv   \n",
       "15  16  rfp_new_questions_client_100.csv   \n",
       "16  17  rfp_new_questions_client_100.csv   \n",
       "17  18  rfp_new_questions_client_100.csv   \n",
       "18  19  rfp_new_questions_client_100.csv   \n",
       "19  20  rfp_new_questions_client_100.csv   \n",
       "20  21  rfp_new_questions_client_100.csv   \n",
       "21  22  rfp_new_questions_client_100.csv   \n",
       "22  23  rfp_new_questions_client_100.csv   \n",
       "\n",
       "                                         new_question  \\\n",
       "0   What is your experience in developing AI-based...   \n",
       "1   How do you ensure your AI-based apps remain up...   \n",
       "2   Can your AI-based applications be customized t...   \n",
       "3   What measures do you take to ensure user priva...   \n",
       "4   How do you approach user interface and experie...   \n",
       "5   Describe your support and maintenance services...   \n",
       "6   How do you measure the success and impact of y...   \n",
       "7   How do you ensure the ethical use of LLMs in y...   \n",
       "8   Can you describe the process of training your ...   \n",
       "9   How do you handle the continuous learning and ...   \n",
       "10  What measures do you take to ensure the transp...   \n",
       "11  How do you assess and ensure the performance a...   \n",
       "12  Can you provide examples of successful deploym...   \n",
       "13  What is your approach to integrating LLMs with...   \n",
       "14  How do you plan to support and maintain LLM-ba...   \n",
       "15  How does your AI solution align with the NIST ...   \n",
       "16  Can you describe the governance structures you...   \n",
       "17  How do you identify and assess AI risks in lin...   \n",
       "18  What measures do you take to ensure transparen...   \n",
       "19  How do you track and measure exposure to AI ri...   \n",
       "20  Describe how your AI solutions manage and miti...   \n",
       "21  How do you ensure that your AI solutions are c...   \n",
       "22  In what ways do you contribute to the continua...   \n",
       "\n",
       "                                             question  \\\n",
       "0   What is the most similar question to: \"What is...   \n",
       "1   What is the most similar question to: \"How do ...   \n",
       "2   What is the most similar question to: \"Can you...   \n",
       "3   What is the most similar question to: \"What me...   \n",
       "4   What is the most similar question to: \"How do ...   \n",
       "5   What is the most similar question to: \"Describ...   \n",
       "6   What is the most similar question to: \"How do ...   \n",
       "7   What is the most similar question to: \"How do ...   \n",
       "8   What is the most similar question to: \"Can you...   \n",
       "9   What is the most similar question to: \"How do ...   \n",
       "10  What is the most similar question to: \"What me...   \n",
       "11  What is the most similar question to: \"How do ...   \n",
       "12  What is the most similar question to: \"Can you...   \n",
       "13  What is the most similar question to: \"What is...   \n",
       "14  What is the most similar question to: \"How do ...   \n",
       "15  What is the most similar question to: \"How doe...   \n",
       "16  What is the most similar question to: \"Can you...   \n",
       "17  What is the most similar question to: \"How do ...   \n",
       "18  What is the most similar question to: \"What me...   \n",
       "19  What is the most similar question to: \"How do ...   \n",
       "20  What is the most similar question to: \"Describ...   \n",
       "21  What is the most similar question to: \"How do ...   \n",
       "22  What is the most similar question to: \"In what...   \n",
       "\n",
       "                                               answer  \\\n",
       "0   RFP_Question: Can you discuss your expertise i...   \n",
       "1   RFP_Question: How do you keep your AI applicat...   \n",
       "2   The most similar question to \"Can your AI-base...   \n",
       "3   The most similar question to \"What measures do...   \n",
       "4   RFP_Question: What strategies do you employ to...   \n",
       "5   The most similar question to \"Describe your su...   \n",
       "6   RFP_Question: How do you evaluate the effectiv...   \n",
       "7   RFP_Question: How do you manage ethical concer...   \n",
       "8   The most similar question to \"Can you describe...   \n",
       "9   RFP_Question: How do you ensure your LLMs cont...   \n",
       "10  RFP_Question: What actions do you take to make...   \n",
       "11  The most similar question to \"How do you asses...   \n",
       "12  RFP_Question: Can you provide case studies of ...   \n",
       "13  The most similar question to: \"What is your ap...   \n",
       "14  The most similar question to: \"How do you plan...   \n",
       "15  RFP_Question: How does your AI solution comply...   \n",
       "16  RFP_Question: Could you describe the governanc...   \n",
       "17  RFP_Question: How do you identify and evaluate...   \n",
       "18  RFP_Question: What steps do you implement to e...   \n",
       "19  RFP_Question: How do you monitor and assess AI...   \n",
       "20  RFP_Question_ID: 21\\nRFP_Question: Explain how...   \n",
       "21  RFP_Question: How do you ensure compliance wit...   \n",
       "22  The most similar question to: \"In what ways do...   \n",
       "\n",
       "                                         ground_truth  \\\n",
       "0   Can you discuss your expertise in creating AI-...   \n",
       "1   How do you keep your AI applications current w...   \n",
       "2   Are your AI applications adaptable to specific...   \n",
       "3   What steps do you undertake to protect user pr...   \n",
       "4   What strategies do you employ to design user i...   \n",
       "5   Explain the support and maintenance services y...   \n",
       "6   How do you evaluate the effectiveness and impa...   \n",
       "7   How do you manage ethical concerns in your LLM...   \n",
       "8   Could you outline how you train your LLMs, inc...   \n",
       "9   How do you ensure your LLMs continuously learn...   \n",
       "10  What actions do you take to make the decision-...   \n",
       "11  How do you verify and ensure that your LLMs ca...   \n",
       "12  Can you provide case studies of successful LLM...   \n",
       "13  Describe how you integrate LLMs into existing ...   \n",
       "14  What are your strategies for supporting and ma...   \n",
       "15  How does your AI solution comply with the guid...   \n",
       "16  Could you describe the governance frameworks y...   \n",
       "17  How do you identify and evaluate AI risks foll...   \n",
       "18  What steps do you implement to ensure AI decis...   \n",
       "19  How do you monitor and assess AI risk exposure...   \n",
       "20  Explain how you manage and mitigate AI risks i...   \n",
       "21  How do you ensure compliance with U.S. laws on...   \n",
       "22  In what ways do you participate in advancing A...   \n",
       "\n",
       "                            existing_rfp  \\\n",
       "0   rfp_exisiting_questions_client_2.csv   \n",
       "1   rfp_exisiting_questions_client_2.csv   \n",
       "2   rfp_exisiting_questions_client_2.csv   \n",
       "3   rfp_exisiting_questions_client_2.csv   \n",
       "4   rfp_exisiting_questions_client_2.csv   \n",
       "5   rfp_exisiting_questions_client_2.csv   \n",
       "6   rfp_exisiting_questions_client_2.csv   \n",
       "7   rfp_exisiting_questions_client_2.csv   \n",
       "8   rfp_exisiting_questions_client_2.csv   \n",
       "9   rfp_exisiting_questions_client_2.csv   \n",
       "10  rfp_exisiting_questions_client_2.csv   \n",
       "11  rfp_exisiting_questions_client_2.csv   \n",
       "12  rfp_exisiting_questions_client_2.csv   \n",
       "13  rfp_exisiting_questions_client_2.csv   \n",
       "14  rfp_exisiting_questions_client_2.csv   \n",
       "15  rfp_exisiting_questions_client_2.csv   \n",
       "16  rfp_exisiting_questions_client_2.csv   \n",
       "17  rfp_exisiting_questions_client_2.csv   \n",
       "18  rfp_exisiting_questions_client_2.csv   \n",
       "19  rfp_exisiting_questions_client_2.csv   \n",
       "20  rfp_exisiting_questions_client_2.csv   \n",
       "21  rfp_exisiting_questions_client_2.csv   \n",
       "22  rfp_exisiting_questions_client_2.csv   \n",
       "\n",
       "                                             contexts  \\\n",
       "0   [Project_Title: AI-Powered Risk Assessment Mod...   \n",
       "1   [Project_Title: AI-Powered Risk Assessment Mod...   \n",
       "2   [RFP_Answer: Absolutely, customization is a co...   \n",
       "3   [Project_Title: AI-Powered Risk Assessment Mod...   \n",
       "4   [RFP_Answer: Our design philosophy centers on ...   \n",
       "5   [Project_Title: AI-Powered Risk Assessment Mod...   \n",
       "6   [Project_Title: AI-Powered Risk Assessment Mod...   \n",
       "7   [Project_Title: AI-Powered Risk Assessment Mod...   \n",
       "8   [Project_Title: AI-Powered Risk Assessment Mod...   \n",
       "9   [Project_Title: AI-Powered Risk Assessment Mod...   \n",
       "10  [Project_Title: AI-Powered Risk Assessment Mod...   \n",
       "11  [RFP_Answer: We conduct extensive performance ...   \n",
       "12  [RFP_Answer: We can share case studies of succ...   \n",
       "13  [RFP_Answer: Our approach involves conducting ...   \n",
       "14  [RFP_Answer: Our post-deployment support is de...   \n",
       "15  [RFP_Answer: Our AI solution is meticulously d...   \n",
       "16  [Project_Title: AI-Powered Risk Assessment Mod...   \n",
       "17  [Project_Title: AI-Powered Risk Assessment Mod...   \n",
       "18  [Project_Title: AI-Powered Risk Assessment Mod...   \n",
       "19  [Project_Title: AI-Powered Risk Assessment Mod...   \n",
       "20  [Project_Title: AI-Powered Risk Assessment Mod...   \n",
       "21  [Project_Title: AI-Powered Risk Assessment Mod...   \n",
       "22  [Project_Title: AI-Powered Risk Assessment Mod...   \n",
       "\n",
       "                                  question_embeddings  \\\n",
       "0   [-0.012242779808196847, -0.02875495641236209, ...   \n",
       "1   [-0.021238304961058666, -0.002903160656478289,...   \n",
       "2   [-0.024933725810230647, -0.00398689651570446, ...   \n",
       "3   [-0.011542554119771953, -0.012979928523676116,...   \n",
       "4   [-0.022403337192397944, -0.003745948452053383,...   \n",
       "5   [-0.02594255529391264, 0.026052017363914444, 0...   \n",
       "6   [-0.005094874094156965, -0.0018191395470256865...   \n",
       "7   [0.021543276731008216, 0.01490634165937239, 0....   \n",
       "8   [-0.02396939689706394, 0.018455669672488594, 0...   \n",
       "9   [-0.00825047894972602, 0.021084556591604547, 0...   \n",
       "10  [-0.013587386723794776, 0.00556639885149576, 0...   \n",
       "11  [-0.011384415804847862, 0.01486040978785559, 0...   \n",
       "12  [0.0053169715833493916, -0.006949637731748671,...   \n",
       "13  [-0.0201516011890611, -0.00046924103714193516,...   \n",
       "14  [-0.007420965991490901, 0.04956698082175351, 0...   \n",
       "15  [-0.024076844192504537, 0.004061743862669836, ...   \n",
       "16  [-0.008052477280807952, 0.033308541890396996, ...   \n",
       "17  [-0.02460394761122877, 0.022054107706891476, 0...   \n",
       "18  [-0.01298543116888274, 0.012363928901313223, 0...   \n",
       "19  [-0.017157074761071756, 0.009715372967814098, ...   \n",
       "20  [-0.025189838097553253, 0.040055336375701724, ...   \n",
       "21  [-0.000199194390609713, 0.004925684748433598, ...   \n",
       "22  [-0.012498520688869403, -0.0037221299667366658...   \n",
       "\n",
       "                                    answer_embeddings  ... prompt_tokens  \\\n",
       "0   [0.028609594368424196, -0.024913389269028082, ...  ...           550   \n",
       "1   [0.009174146107929795, 0.004682353866566277, 0...  ...           541   \n",
       "2   [-0.018114261370701053, -0.003040488117825552,...  ...           532   \n",
       "3   [-0.017716543891049378, -0.021140465682403832,...  ...           608   \n",
       "4   [0.012766196768228667, 0.02172657166295028, 0....  ...           594   \n",
       "5   [-0.018622273370422313, 0.016507519223956362, ...  ...           587   \n",
       "6   [0.01474235542817176, 0.004943857159210323, 0....  ...           537   \n",
       "7   [0.02458965545433629, 0.017371860934522247, 0....  ...           607   \n",
       "8   [-0.018115209323870087, 0.023699326320744635, ...  ...           605   \n",
       "9   [-0.013420040554404636, 0.028803989073751236, ...  ...           633   \n",
       "10  [-0.014100776926247227, 0.028742851604862004, ...  ...           613   \n",
       "11  [-0.005259337413416406, 0.02654257811492115, 0...  ...           600   \n",
       "12  [0.001873011469712584, 0.01035180717654377, 0....  ...           639   \n",
       "13  [-0.01783359161236873, 0.011818785021282417, 0...  ...           585   \n",
       "14  [-0.006079617565615648, 0.040417758469104136, ...  ...           604   \n",
       "15  [0.0034582621035253716, 0.018990318172255122, ...  ...           572   \n",
       "16  [0.010880765892755773, 0.017463688797322234, 0...  ...           573   \n",
       "17  [-0.0023425760092822775, 0.04206372570559589, ...  ...           546   \n",
       "18  [-0.007185383545431859, 0.026770268922978437, ...  ...           615   \n",
       "19  [0.007095605286568667, 0.030860055734765315, 0...  ...           590   \n",
       "20  [0.01807079358525926, 0.04915548573583894, 0.0...  ...           583   \n",
       "21  [0.02645043235034284, 0.011134508792335953, 0....  ...           603   \n",
       "22  [-0.024560942174418843, -0.009475785612827593,...  ...           549   \n",
       "\n",
       "   total_tokens response_time context_precision faithfulness answer_relevancy  \\\n",
       "0           573           1.9               1.0          1.0         0.899014   \n",
       "1           561           3.1               1.0          1.0         0.894553   \n",
       "2           574           3.2               1.0          1.0         0.900155   \n",
       "3           657           2.7               1.0          1.0         0.925843   \n",
       "4           620           4.3               1.0          1.0         0.897786   \n",
       "5           631           2.9               1.0          1.0         0.892845   \n",
       "6           559           2.1               1.0          1.0           0.9063   \n",
       "7           635           2.6               1.0          1.0         0.921054   \n",
       "8           666           2.9               1.0          1.0         0.898911   \n",
       "9           659           1.8               1.0          1.0         0.904746   \n",
       "10          638           5.6               1.0          1.0         0.900913   \n",
       "11          651           2.9               1.0          1.0         0.870331   \n",
       "12          663           1.9               1.0          1.0         0.919572   \n",
       "13          627           3.8               1.0          1.0         0.959214   \n",
       "14          664           2.9               1.0          1.0         0.923773   \n",
       "15          599           2.5               1.0          1.0         0.920114   \n",
       "16          600           1.9               1.0          1.0         0.919737   \n",
       "17          573           2.0               1.0          1.0              NaN   \n",
       "18          645           1.7               1.0          1.0         0.915776   \n",
       "19          626           2.4               1.0          1.0         0.934662   \n",
       "20          620           2.1               1.0          1.0         0.920945   \n",
       "21          628           2.1               1.0          1.0          0.92232   \n",
       "22          613           3.4               1.0          1.0         0.918809   \n",
       "\n",
       "   context_recall context_relevancy answer_correctness answer_similarity  \n",
       "0             1.0               0.0           0.988876          0.955718  \n",
       "1             1.0               0.0           0.987639          0.950556  \n",
       "2             1.0               0.0           0.979707           0.91883  \n",
       "3        0.454545          0.588235           0.980158           0.92063  \n",
       "4             0.0          0.533333            0.98962          0.958481  \n",
       "5             0.5          0.444444           0.977844          0.911374  \n",
       "6             1.0               0.0           0.739027          0.956108  \n",
       "7             1.0               0.0           0.991749          0.966996  \n",
       "8            0.25               0.0           0.978817          0.915267  \n",
       "9             0.2            0.4375           0.990151          0.960602  \n",
       "10            0.5               0.0           0.990607          0.962426  \n",
       "11       0.333333               0.0           0.977299          0.909195  \n",
       "12            1.0               0.0           0.741878          0.967514  \n",
       "13            0.0               0.0           0.976949          0.907797  \n",
       "14           0.75              0.25            0.98235          0.929402  \n",
       "15            1.0            0.1875           0.743189          0.972755  \n",
       "16            0.0               0.0            0.74412          0.976497  \n",
       "17            1.0               0.0           0.994501          0.978154  \n",
       "18       0.666667             0.125           0.992489          0.969943  \n",
       "19            1.0               0.0           0.994766          0.979065  \n",
       "20            0.0              0.25           0.993753           0.97501  \n",
       "21            0.0          0.166667           0.989349          0.957396  \n",
       "22            1.0          0.333333           0.980283          0.921167  \n",
       "\n",
       "[23 rows x 26 columns]"
      ]
     },
     "execution_count": 48,
     "metadata": {},
     "output_type": "execute_result"
    }
   ],
   "source": [
    "ragas_results_df"
   ]
  },
  {
   "cell_type": "code",
   "execution_count": null,
   "metadata": {},
   "outputs": [],
   "source": [
    "# Save to CSV\n",
    "ragas_results_df.to_csv('rag_evaluation_results.csv', index=False)"
   ]
  }
 ],
 "metadata": {
  "kernelspec": {
   "display_name": "validmind-py3.10",
   "language": "python",
   "name": "validmind-py3.10"
  },
  "language_info": {
   "codemirror_mode": {
    "name": "ipython",
    "version": 3
   },
   "file_extension": ".py",
   "mimetype": "text/x-python",
   "name": "python",
   "nbconvert_exporter": "python",
   "pygments_lexer": "ipython3",
   "version": "3.10.13"
  }
 },
 "nbformat": 4,
 "nbformat_minor": 2
}
