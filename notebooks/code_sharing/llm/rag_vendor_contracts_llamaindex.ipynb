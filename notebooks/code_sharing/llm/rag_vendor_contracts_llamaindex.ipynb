{
 "cells": [
  {
   "cell_type": "markdown",
   "metadata": {},
   "source": [
    "# WIP: RAG Pipeline using LlamaIndex"
   ]
  },
  {
   "cell_type": "markdown",
   "metadata": {},
   "source": [
    "## Pre-requisites"
   ]
  },
  {
   "cell_type": "code",
   "execution_count": null,
   "metadata": {},
   "outputs": [],
   "source": [
    "%pip install llama-index llama-index-embeddings-huggingface llama-index-vector-stores-chroma -q -U"
   ]
  },
  {
   "cell_type": "code",
   "execution_count": null,
   "metadata": {},
   "outputs": [],
   "source": [
    "# load openai api key\n",
    "import os\n",
    "\n",
    "from dotenv import load_dotenv\n",
    "load_dotenv()\n",
    "\n",
    "if not 'OPENAI_API_KEY' in os.environ:\n",
    "    raise ValueError('OPENAI_API_KEY is not set')"
   ]
  },
  {
   "cell_type": "code",
   "execution_count": null,
   "metadata": {},
   "outputs": [],
   "source": [
    "os.environ['TOKENIZERS_PARALLELISM'] = \"false\""
   ]
  },
  {
   "cell_type": "markdown",
   "metadata": {},
   "source": [
    "## Load data"
   ]
  },
  {
   "cell_type": "markdown",
   "metadata": {},
   "source": [
    "### Explore contracts datasets"
   ]
  },
  {
   "cell_type": "markdown",
   "metadata": {},
   "source": [
    "Explore the contracts by first loading them as pandas. "
   ]
  },
  {
   "cell_type": "code",
   "execution_count": null,
   "metadata": {},
   "outputs": [],
   "source": [
    "import pandas as pd\n",
    "\n",
    "CONTRACT_FILES = [\n",
    "    \"datasets/rag/vendor_contracts_001_020.csv\",\n",
    "    \"datasets/rag/vendor_contracts_021_040.csv\",\n",
    "    \"datasets/rag/vendor_contracts_041_060.csv\",\n",
    "]\n",
    "\n",
    "# Concatenate all DataFrames into a single DataFrame\n",
    "contracts_df = pd.concat(\n",
    "    [pd.read_csv(file) for file in CONTRACT_FILES], \n",
    "    ignore_index=True\n",
    ")\n",
    "\n",
    "contracts_df.head()"
   ]
  },
  {
   "cell_type": "markdown",
   "metadata": {},
   "source": [
    "### Explore questions and answers datasets"
   ]
  },
  {
   "cell_type": "markdown",
   "metadata": {},
   "source": [
    "Now we explore the questions and answers dataset. "
   ]
  },
  {
   "cell_type": "code",
   "execution_count": null,
   "metadata": {},
   "outputs": [],
   "source": [
    "QUESTION_FILES = [\n",
    "    \"datasets/rag/vendor_contracts_questions.csv\",\n",
    "]\n",
    "\n",
    "# Concatenate all DataFrames into a single DataFrame\n",
    "questions_df = pd.concat(\n",
    "    [pd.read_csv(file) for file in QUESTION_FILES], \n",
    "    ignore_index=True\n",
    ")\n",
    "\n",
    "questions_df.head()"
   ]
  },
  {
   "cell_type": "markdown",
   "metadata": {},
   "source": [
    "The `train_questions_df`, which contains questions and answers, will be stored in the vector store. This will simulate questions that have already been answered and are stored in the database. The `test_questions_df`, on the other hand, will act as a set of new questions posed by the user. The answers in this dataset will be used as ground truth for evaluation."
   ]
  },
  {
   "cell_type": "code",
   "execution_count": null,
   "metadata": {},
   "outputs": [],
   "source": [
    "import pandas as pd\n",
    "from sklearn.model_selection import train_test_split\n",
    "\n",
    "questions_df = pd.read_csv(\"datasets/rag/vendor_contracts_questions.csv\")\n",
    "train_questions_df, test_questions_df = train_test_split(questions_df, test_size=0.20)\n",
    "\n",
    "# Rename columns \n",
    "train_questions_df = train_questions_df.rename(columns={\n",
    "    'Question #': 'question_id',\n",
    "    'Question': 'question', \n",
    "    'Answer': 'answer'})\n",
    "test_questions_df = test_questions_df.rename(columns={\n",
    "    'Question #': 'question_id',\n",
    "    'Question': 'question', \n",
    "    'Answer': 'ground_truth'})"
   ]
  },
  {
   "cell_type": "code",
   "execution_count": null,
   "metadata": {},
   "outputs": [],
   "source": [
    "train_questions_df.head()"
   ]
  },
  {
   "cell_type": "code",
   "execution_count": null,
   "metadata": {},
   "outputs": [],
   "source": [
    "test_questions_df.head()"
   ]
  },
  {
   "cell_type": "markdown",
   "metadata": {},
   "source": [
    "## Document loaders"
   ]
  },
  {
   "cell_type": "markdown",
   "metadata": {},
   "source": [
    "### Explore different document loaders for contracts"
   ]
  },
  {
   "cell_type": "markdown",
   "metadata": {},
   "source": [
    "We will test the `CSVReader` from `llama_index` and review the properties of the documents it loads."
   ]
  },
  {
   "cell_type": "code",
   "execution_count": null,
   "metadata": {},
   "outputs": [],
   "source": [
    "from llama_index.readers.file import CSVReader\n",
    "from pathlib import Path\n",
    "\n",
    "reader = CSVReader(concat_rows=False)\n",
    "llama_documents = []\n",
    "\n",
    "# Iterate over each file path in the FILES list\n",
    "for file_path in CONTRACT_FILES:\n",
    "    # Convert string file path to Path object\n",
    "    path_obj = Path(file_path)\n",
    "    \n",
    "    # Load data from each file and append to contract_docs list\n",
    "    llama_documents.extend(reader.load_data(path_obj))"
   ]
  },
  {
   "cell_type": "code",
   "execution_count": null,
   "metadata": {},
   "outputs": [],
   "source": [
    "number_to_print = 5\n",
    "\n",
    "for i, doc in enumerate(llama_documents[:number_to_print]):\n",
    "    print(\"Document ID:\", doc.id_)\n",
    "    print(\"File Name:\", doc.metadata['filename']) \n",
    "    print(\"Text Content:\\n\", doc.text)\n",
    "    print()"
   ]
  },
  {
   "cell_type": "markdown",
   "metadata": {},
   "source": [
    "Now we will try the `CSVLoader` from `langchain` and check the properties of the documents it loads."
   ]
  },
  {
   "cell_type": "code",
   "execution_count": null,
   "metadata": {},
   "outputs": [],
   "source": [
    "from langchain_community.document_loaders.csv_loader import CSVLoader\n",
    "\n",
    "lc_documents = [] \n",
    "\n",
    "# Iterate through each file path in the list\n",
    "for file_path in CONTRACT_FILES:\n",
    "    loader = CSVLoader(\n",
    "        file_path=file_path,\n",
    "    )\n",
    "\n",
    "    # Load a document from the current CSV file\n",
    "    doc = loader.load()\n",
    "    \n",
    "    # Append documents\n",
    "    lc_documents.extend(doc)"
   ]
  },
  {
   "cell_type": "code",
   "execution_count": null,
   "metadata": {},
   "outputs": [],
   "source": [
    "number_to_print = 2\n",
    "\n",
    "for index, doc in enumerate(lc_documents[:number_to_print]):\n",
    "    print(f\"Document {index + 1}:\")\n",
    "    print(\"Page Content:\")\n",
    "    print(doc.page_content)\n",
    "    print(\"Metadata:\")\n",
    "    for key, value in doc.metadata.items():\n",
    "        print(f\"{key}: {value}\")\n",
    "    print()"
   ]
  },
  {
   "cell_type": "markdown",
   "metadata": {},
   "source": [
    "Controlling what is stored as metadata and what is stored as page content, which will be converted into embeddings."
   ]
  },
  {
   "cell_type": "code",
   "execution_count": null,
   "metadata": {},
   "outputs": [],
   "source": [
    "lc_documents = [] \n",
    "\n",
    "# Iterate through each file path in the list\n",
    "for file_path in CONTRACT_FILES:\n",
    "    loader = CSVLoader(\n",
    "        file_path=file_path,\n",
    "        metadata_columns=[\"Contract ID\",\"Supported BSLs\", \"Engagement Terms\"]\n",
    "    )\n",
    "\n",
    "    # Load a document from the current CSV file\n",
    "    doc = loader.load()\n",
    "    \n",
    "    # Append documents\n",
    "    lc_documents.extend(doc)"
   ]
  },
  {
   "cell_type": "code",
   "execution_count": null,
   "metadata": {},
   "outputs": [],
   "source": [
    "number_to_print = 2\n",
    "\n",
    "for index, doc in enumerate(lc_documents[:number_to_print]):\n",
    "    print(f\"Document {index + 1}:\")\n",
    "    print(\"Page Content:\")\n",
    "    print(doc.page_content)\n",
    "    print(\"Metadata:\")\n",
    "    for key, value in doc.metadata.items():\n",
    "        print(f\"{key}: {value}\")\n",
    "    print()"
   ]
  },
  {
   "cell_type": "markdown",
   "metadata": {},
   "source": [
    "## Insert contract documents into vectorstore"
   ]
  },
  {
   "cell_type": "markdown",
   "metadata": {},
   "source": [
    "### Split documents into chunks"
   ]
  },
  {
   "cell_type": "code",
   "execution_count": null,
   "metadata": {},
   "outputs": [],
   "source": [
    "from llama_index.core.node_parser import SentenceSplitter\n",
    "\n",
    "splitter = SentenceSplitter(\n",
    "    chunk_size=1024,\n",
    "    chunk_overlap=20,\n",
    ")\n",
    "nodes = splitter.get_nodes_from_documents(llama_documents)\n",
    "nodes[:5]"
   ]
  },
  {
   "cell_type": "code",
   "execution_count": null,
   "metadata": {},
   "outputs": [],
   "source": [
    "num_to_print = 2\n",
    "\n",
    "for index, node in enumerate(nodes[:num_to_print]):\n",
    "    print(f\"Node {index + 1}:\")\n",
    "    print(\"Metadata:\")\n",
    "    for key, value in node.metadata.items():\n",
    "        print(f\"{key}: {value}\")\n",
    "    print(\"Text Content:\")\n",
    "    print(node.text)\n",
    "    print(f\"Embeddings: {node.embedding}\")\n",
    "    print() "
   ]
  },
  {
   "cell_type": "markdown",
   "metadata": {},
   "source": [
    "Convert nodes into dataframe."
   ]
  },
  {
   "cell_type": "code",
   "execution_count": null,
   "metadata": {},
   "outputs": [],
   "source": [
    "data = []\n",
    "for index, node in enumerate(nodes):\n",
    "    data.append({\n",
    "        \"Node ID\": index + 1,\n",
    "        \"Text Content\": node.text,\n",
    "    })\n",
    "contracts_nodes_df = pd.DataFrame(data)"
   ]
  },
  {
   "cell_type": "code",
   "execution_count": null,
   "metadata": {},
   "outputs": [],
   "source": [
    "import validmind as vm\n",
    "\n",
    "vm_contracts_ds = vm.init_dataset(\n",
    "    input_id=\"contracts_nodes\",\n",
    "    dataset=contracts_nodes_df,\n",
    "    text_column=\"Text Content\", \n",
    "    __log=False,\n",
    ")\n",
    "\n",
    "vm_contracts_ds.df.head()"
   ]
  },
  {
   "cell_type": "markdown",
   "metadata": {},
   "source": [
    "### Compute embeddings for each node"
   ]
  },
  {
   "cell_type": "code",
   "execution_count": null,
   "metadata": {},
   "outputs": [],
   "source": [
    "from llama_index.embeddings.openai import OpenAIEmbedding\n",
    "from validmind.models import FunctionModel\n",
    "\n",
    "client = OpenAIEmbedding()\n",
    "\n",
    "def embed(input):\n",
    "    model = OpenAIEmbedding(model_name=\"text-embedding-3-small\")\n",
    "    return model.get_text_embedding(input[\"Text Content\"])\n",
    "\n",
    "vm_embedder = FunctionModel(input_id=\"text-embedding-3-small\", predict_fn=embed)"
   ]
  },
  {
   "cell_type": "code",
   "execution_count": null,
   "metadata": {},
   "outputs": [],
   "source": [
    "vm_contracts_ds.assign_predictions(vm_embedder)"
   ]
  },
  {
   "cell_type": "code",
   "execution_count": null,
   "metadata": {},
   "outputs": [],
   "source": [
    "vm_contracts_ds.df.head()"
   ]
  },
  {
   "cell_type": "code",
   "execution_count": null,
   "metadata": {},
   "outputs": [],
   "source": [
    "from validmind.tests import run_test\n",
    "\n",
    "test= run_test(\n",
    "    \"validmind.model_validation.embeddings.CosineSimilarityHeatmap\",\n",
    "    inputs = {\n",
    "        \"dataset\": vm_contracts_ds,\n",
    "        \"model\": vm_embedder,\n",
    "    }\n",
    ")"
   ]
  },
  {
   "cell_type": "code",
   "execution_count": null,
   "metadata": {},
   "outputs": [],
   "source": [
    "test= run_test(\n",
    "    \"validmind.model_validation.embeddings.EuclideanDistanceHeatmap\",\n",
    "    inputs = {\n",
    "        \"dataset\": vm_contracts_ds,\n",
    "        \"model\": vm_embedder,\n",
    "    },\n",
    ")"
   ]
  },
  {
   "cell_type": "code",
   "execution_count": null,
   "metadata": {},
   "outputs": [],
   "source": [
    "test= run_test(\n",
    "    \"validmind.model_validation.embeddings.PCAComponentsPairwisePlots\",\n",
    "    inputs = {\n",
    "        \"dataset\": vm_contracts_ds,\n",
    "        \"model\": vm_embedder,\n",
    "    },\n",
    "    params = {\n",
    "        \"n_components\": 3\n",
    "    }\n",
    ")"
   ]
  },
  {
   "cell_type": "code",
   "execution_count": null,
   "metadata": {},
   "outputs": [],
   "source": [
    "test= run_test(\n",
    "    \"validmind.model_validation.embeddings.TSNEComponentsPairwisePlots\",\n",
    "    inputs = {\n",
    "        \"dataset\": vm_contracts_ds,\n",
    "        \"model\": vm_embedder,\n",
    "    },\n",
    "    params = {\n",
    "        \"n_components\": 3\n",
    "    }\n",
    ")"
   ]
  },
  {
   "cell_type": "markdown",
   "metadata": {},
   "source": [
    "The `train_questions_df`, which contains questions and answers, will be stored in the vector store. This will simulate questions that have already been answered and are stored in the database. The `test_questions_df`, on the other hand, will act as a set of new questions posed by the user. The answers in this dataset will be used as ground truth for evaluation."
   ]
  },
  {
   "cell_type": "code",
   "execution_count": null,
   "metadata": {},
   "outputs": [],
   "source": [
    "import pandas as pd\n",
    "from sklearn.model_selection import train_test_split\n",
    "\n",
    "questions_df = pd.read_csv(\"datasets/rag/vendor_contracts_questions.csv\")\n",
    "train_questions_df, test_questions_df = train_test_split(questions_df, test_size=0.20)\n",
    "\n",
    "# Rename columns \n",
    "train_questions_df = train_questions_df.rename(columns={\n",
    "    'Question #': 'question_id',\n",
    "    'Question': 'question', \n",
    "    'Answer': 'answer'})\n",
    "test_questions_df = test_questions_df.rename(columns={\n",
    "    'Question #': 'question_id',\n",
    "    'Question': 'question', \n",
    "    'Answer': 'ground_truth'})"
   ]
  },
  {
   "cell_type": "code",
   "execution_count": null,
   "metadata": {},
   "outputs": [],
   "source": [
    "train_questions_df.head()"
   ]
  },
  {
   "cell_type": "code",
   "execution_count": null,
   "metadata": {},
   "outputs": [],
   "source": [
    "test_questions_df.head()"
   ]
  }
 ],
 "metadata": {
  "kernelspec": {
   "display_name": "validmind-py3.10",
   "language": "python",
   "name": "validmind-py3.10"
  },
  "language_info": {
   "codemirror_mode": {
    "name": "ipython",
    "version": 3
   },
   "file_extension": ".py",
   "mimetype": "text/x-python",
   "name": "python",
   "nbconvert_exporter": "python",
   "pygments_lexer": "ipython3",
   "version": "3.10.13"
  }
 },
 "nbformat": 4,
 "nbformat_minor": 2
}
