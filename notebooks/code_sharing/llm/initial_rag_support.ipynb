{
 "cells": [
  {
   "cell_type": "markdown",
   "metadata": {},
   "source": [
    "# Initial Framework RAG Model Support"
   ]
  },
  {
   "cell_type": "markdown",
   "metadata": {},
   "source": [
    "## Pre-requisites"
   ]
  },
  {
   "cell_type": "code",
   "execution_count": 1,
   "metadata": {},
   "outputs": [
    {
     "name": "stdout",
     "output_type": "stream",
     "text": [
      "Note: you may need to restart the kernel to use updated packages.\n"
     ]
    }
   ],
   "source": [
    "%pip install -q qdrant-client"
   ]
  },
  {
   "cell_type": "code",
   "execution_count": 2,
   "metadata": {},
   "outputs": [],
   "source": [
    "# load openai api key\n",
    "import os\n",
    "\n",
    "from dotenv import load_dotenv\n",
    "load_dotenv()\n",
    "\n",
    "if not 'OPENAI_API_KEY' in os.environ:\n",
    "    raise ValueError('OPENAI_API_KEY is not set')"
   ]
  },
  {
   "cell_type": "markdown",
   "metadata": {},
   "source": [
    "## Dataset Loader"
   ]
  },
  {
   "cell_type": "code",
   "execution_count": 3,
   "metadata": {},
   "outputs": [],
   "source": [
    "# load documents\n",
    "import os\n",
    "from csv import DictReader\n",
    "from uuid import uuid4\n",
    "\n",
    "import pandas as pd\n",
    "\n",
    "\n",
    "column_map = {\"RFP_Question\": \"question\", \"RFP_Answer\": \"ground_truth\"}\n",
    "\n",
    "\n",
    "def load_documents(prefix):\n",
    "    documents = []\n",
    "    root_dir = \"datasets/rag/\"\n",
    "    for file in os.listdir(root_dir):\n",
    "        if file.startswith(prefix) and file.endswith(\".csv\"):\n",
    "            # use csv dict reader to load the csv file\n",
    "            with open(os.path.join(root_dir, file)) as f:\n",
    "                reader = DictReader(f)\n",
    "                for row in reader:\n",
    "                    # add a unique id to the row\n",
    "                    row[\"id\"] = str(uuid4())\n",
    "                    documents.append(row)\n",
    "\n",
    "    df = pd.DataFrame(documents)\n",
    "    df = df[[\"id\", \"RFP_Question\", \"RFP_Answer\"]]\n",
    "    df.rename(columns=column_map, inplace=True)\n",
    "\n",
    "    return df\n",
    "\n",
    "def load_dataset_split():\n",
    "    df = load_documents(\"rfp_existing_questions\")\n",
    "\n",
    "    # split the dataset into a \"train\" - which gets inserted into the vector store\n",
    "    # and a \"test\" - which is used to evaluate the search results\n",
    "    train_df = df.sample(frac=0.8)\n",
    "    test_df = df.drop(train_df.index)\n",
    "\n",
    "    return train_df, test_df"
   ]
  },
  {
   "cell_type": "markdown",
   "metadata": {},
   "source": [
    "## Embedding Model Selection\n",
    "\n",
    "First let's setup our embedding model and run some tests to make sure its working well."
   ]
  },
  {
   "cell_type": "code",
   "execution_count": 4,
   "metadata": {},
   "outputs": [],
   "source": [
    "from openai import OpenAI\n",
    "\n",
    "from validmind.models import EmbeddingModel\n",
    "\n",
    "client = OpenAI()\n",
    "\n",
    "\n",
    "def embed(question):\n",
    "    \"\"\"Returns a text embedding for the given text\"\"\"\n",
    "    return (\n",
    "        client.embeddings.create(\n",
    "            input=question,\n",
    "            model=\"text-embedding-3-small\",\n",
    "        )\n",
    "        .data[0]\n",
    "        .embedding\n",
    "    )\n",
    "\n",
    "\n",
    "vm_embedder = EmbeddingModel(input_id=\"embedding_model\", predict_fn=embed)"
   ]
  },
  {
   "cell_type": "code",
   "execution_count": 5,
   "metadata": {},
   "outputs": [
    {
     "name": "stderr",
     "output_type": "stream",
     "text": [
      "2024-05-01 00:08:00,513 - INFO(validmind.client): Pandas dataset detected. Initializing VM Dataset instance...\n"
     ]
    },
    {
     "data": {
      "text/html": [
       "<div>\n",
       "<style scoped>\n",
       "    .dataframe tbody tr th:only-of-type {\n",
       "        vertical-align: middle;\n",
       "    }\n",
       "\n",
       "    .dataframe tbody tr th {\n",
       "        vertical-align: top;\n",
       "    }\n",
       "\n",
       "    .dataframe thead th {\n",
       "        text-align: right;\n",
       "    }\n",
       "</style>\n",
       "<table border=\"1\" class=\"dataframe\">\n",
       "  <thead>\n",
       "    <tr style=\"text-align: right;\">\n",
       "      <th></th>\n",
       "      <th>id</th>\n",
       "      <th>question</th>\n",
       "      <th>ground_truth</th>\n",
       "    </tr>\n",
       "  </thead>\n",
       "  <tbody>\n",
       "    <tr>\n",
       "      <th>0</th>\n",
       "      <td>e1d0102e-241c-435a-b126-fcbffd84f357</td>\n",
       "      <td>Please share your experience with developing A...</td>\n",
       "      <td>Our company has 15 years of experience in deve...</td>\n",
       "    </tr>\n",
       "    <tr>\n",
       "      <th>1</th>\n",
       "      <td>26034283-0644-48b8-b788-3694f716c934</td>\n",
       "      <td>How do you maintain your AI applications with ...</td>\n",
       "      <td>We maintain a dedicated R&amp;D team focused on in...</td>\n",
       "    </tr>\n",
       "    <tr>\n",
       "      <th>6</th>\n",
       "      <td>71601973-e95d-479e-908f-634706f5fb6f</td>\n",
       "      <td>How do you evaluate the success of your AI app...</td>\n",
       "      <td>Success measurement is tailored to each projec...</td>\n",
       "    </tr>\n",
       "    <tr>\n",
       "      <th>9</th>\n",
       "      <td>2bd586ef-b46b-469d-91f6-395381253f1d</td>\n",
       "      <td>How do your LLMs continuously learn and update...</td>\n",
       "      <td>We implement advanced continuous learning mech...</td>\n",
       "    </tr>\n",
       "    <tr>\n",
       "      <th>15</th>\n",
       "      <td>f77af7fa-5bf3-4ec7-87f5-d9fc8280e78f</td>\n",
       "      <td>How does your AI strategy align with the NIST ...</td>\n",
       "      <td>Our AI solution is meticulously designed to al...</td>\n",
       "    </tr>\n",
       "  </tbody>\n",
       "</table>\n",
       "</div>"
      ],
      "text/plain": [
       "                                      id  \\\n",
       "0   e1d0102e-241c-435a-b126-fcbffd84f357   \n",
       "1   26034283-0644-48b8-b788-3694f716c934   \n",
       "6   71601973-e95d-479e-908f-634706f5fb6f   \n",
       "9   2bd586ef-b46b-469d-91f6-395381253f1d   \n",
       "15  f77af7fa-5bf3-4ec7-87f5-d9fc8280e78f   \n",
       "\n",
       "                                             question  \\\n",
       "0   Please share your experience with developing A...   \n",
       "1   How do you maintain your AI applications with ...   \n",
       "6   How do you evaluate the success of your AI app...   \n",
       "9   How do your LLMs continuously learn and update...   \n",
       "15  How does your AI strategy align with the NIST ...   \n",
       "\n",
       "                                         ground_truth  \n",
       "0   Our company has 15 years of experience in deve...  \n",
       "1   We maintain a dedicated R&D team focused on in...  \n",
       "6   Success measurement is tailored to each projec...  \n",
       "9   We implement advanced continuous learning mech...  \n",
       "15  Our AI solution is meticulously designed to al...  "
      ]
     },
     "execution_count": 5,
     "metadata": {},
     "output_type": "execute_result"
    }
   ],
   "source": [
    "import validmind as vm\n",
    "\n",
    "train_df, test_df = load_dataset_split()\n",
    "\n",
    "vm_test_ds = vm.init_dataset(test_df, text_column=\"question\", __log=False)\n",
    "\n",
    "test_df.head()"
   ]
  },
  {
   "cell_type": "code",
   "execution_count": 6,
   "metadata": {},
   "outputs": [
    {
     "data": {
      "text/html": [
       "<div>\n",
       "<style scoped>\n",
       "    .dataframe tbody tr th:only-of-type {\n",
       "        vertical-align: middle;\n",
       "    }\n",
       "\n",
       "    .dataframe tbody tr th {\n",
       "        vertical-align: top;\n",
       "    }\n",
       "\n",
       "    .dataframe thead th {\n",
       "        text-align: right;\n",
       "    }\n",
       "</style>\n",
       "<table border=\"1\" class=\"dataframe\">\n",
       "  <thead>\n",
       "    <tr style=\"text-align: right;\">\n",
       "      <th></th>\n",
       "      <th>id</th>\n",
       "      <th>question</th>\n",
       "      <th>ground_truth</th>\n",
       "      <th>embedding</th>\n",
       "    </tr>\n",
       "  </thead>\n",
       "  <tbody>\n",
       "    <tr>\n",
       "      <th>0</th>\n",
       "      <td>e1d0102e-241c-435a-b126-fcbffd84f357</td>\n",
       "      <td>Please share your experience with developing A...</td>\n",
       "      <td>Our company has 15 years of experience in deve...</td>\n",
       "      <td>[0.006856707856059074, -0.04714655876159668, 0...</td>\n",
       "    </tr>\n",
       "    <tr>\n",
       "      <th>1</th>\n",
       "      <td>26034283-0644-48b8-b788-3694f716c934</td>\n",
       "      <td>How do you maintain your AI applications with ...</td>\n",
       "      <td>We maintain a dedicated R&amp;D team focused on in...</td>\n",
       "      <td>[0.011783392168581486, 0.010354681871831417, 0...</td>\n",
       "    </tr>\n",
       "    <tr>\n",
       "      <th>6</th>\n",
       "      <td>71601973-e95d-479e-908f-634706f5fb6f</td>\n",
       "      <td>How do you evaluate the success of your AI app...</td>\n",
       "      <td>Success measurement is tailored to each projec...</td>\n",
       "      <td>[0.014263585209846497, 0.022252684459090233, 0...</td>\n",
       "    </tr>\n",
       "    <tr>\n",
       "      <th>9</th>\n",
       "      <td>2bd586ef-b46b-469d-91f6-395381253f1d</td>\n",
       "      <td>How do your LLMs continuously learn and update...</td>\n",
       "      <td>We implement advanced continuous learning mech...</td>\n",
       "      <td>[-0.010829819366335869, 0.029368551447987556, ...</td>\n",
       "    </tr>\n",
       "    <tr>\n",
       "      <th>15</th>\n",
       "      <td>f77af7fa-5bf3-4ec7-87f5-d9fc8280e78f</td>\n",
       "      <td>How does your AI strategy align with the NIST ...</td>\n",
       "      <td>Our AI solution is meticulously designed to al...</td>\n",
       "      <td>[-0.0057174162939190865, 0.022510522976517677,...</td>\n",
       "    </tr>\n",
       "  </tbody>\n",
       "</table>\n",
       "</div>"
      ],
      "text/plain": [
       "                                      id  \\\n",
       "0   e1d0102e-241c-435a-b126-fcbffd84f357   \n",
       "1   26034283-0644-48b8-b788-3694f716c934   \n",
       "6   71601973-e95d-479e-908f-634706f5fb6f   \n",
       "9   2bd586ef-b46b-469d-91f6-395381253f1d   \n",
       "15  f77af7fa-5bf3-4ec7-87f5-d9fc8280e78f   \n",
       "\n",
       "                                             question  \\\n",
       "0   Please share your experience with developing A...   \n",
       "1   How do you maintain your AI applications with ...   \n",
       "6   How do you evaluate the success of your AI app...   \n",
       "9   How do your LLMs continuously learn and update...   \n",
       "15  How does your AI strategy align with the NIST ...   \n",
       "\n",
       "                                         ground_truth  \\\n",
       "0   Our company has 15 years of experience in deve...   \n",
       "1   We maintain a dedicated R&D team focused on in...   \n",
       "6   Success measurement is tailored to each projec...   \n",
       "9   We implement advanced continuous learning mech...   \n",
       "15  Our AI solution is meticulously designed to al...   \n",
       "\n",
       "                                            embedding  \n",
       "0   [0.006856707856059074, -0.04714655876159668, 0...  \n",
       "1   [0.011783392168581486, 0.010354681871831417, 0...  \n",
       "6   [0.014263585209846497, 0.022252684459090233, 0...  \n",
       "9   [-0.010829819366335869, 0.029368551447987556, ...  \n",
       "15  [-0.0057174162939190865, 0.022510522976517677,...  "
      ]
     },
     "execution_count": 6,
     "metadata": {},
     "output_type": "execute_result"
    }
   ],
   "source": [
    "test_df[vm_embedder.output_column] = vm_embedder.predict(test_df)\n",
    "test_df.head()"
   ]
  },
  {
   "cell_type": "code",
   "execution_count": 7,
   "metadata": {},
   "outputs": [
    {
     "data": {
      "application/vnd.jupyter.widget-view+json": {
       "model_id": "d57240413bff40a8b1d51e354f876de3",
       "version_major": 2,
       "version_minor": 0
      },
      "text/plain": [
       "VBox(children=(HTML(value='\\n            <h1>Stability Analysis Random Noise ✅</h1>\\n            <p>Evaluate r…"
      ]
     },
     "metadata": {},
     "output_type": "display_data"
    }
   ],
   "source": [
    "from validmind.tests import run_test\n",
    "\n",
    "result = run_test(\n",
    "    \"validmind.model_validation.embeddings.StabilityAnalysisRandomNoise\",\n",
    "    inputs={\"model\": vm_embedder, \"dataset\": vm_test_ds},\n",
    "    params={\"probability\": 0.3},\n",
    ")"
   ]
  },
  {
   "cell_type": "markdown",
   "metadata": {},
   "source": [
    "## Setup Vector Store"
   ]
  },
  {
   "cell_type": "markdown",
   "metadata": {},
   "source": [
    "#### Generate embeddings for the questions"
   ]
  },
  {
   "cell_type": "code",
   "execution_count": 8,
   "metadata": {},
   "outputs": [
    {
     "data": {
      "text/html": [
       "<div>\n",
       "<style scoped>\n",
       "    .dataframe tbody tr th:only-of-type {\n",
       "        vertical-align: middle;\n",
       "    }\n",
       "\n",
       "    .dataframe tbody tr th {\n",
       "        vertical-align: top;\n",
       "    }\n",
       "\n",
       "    .dataframe thead th {\n",
       "        text-align: right;\n",
       "    }\n",
       "</style>\n",
       "<table border=\"1\" class=\"dataframe\">\n",
       "  <thead>\n",
       "    <tr style=\"text-align: right;\">\n",
       "      <th></th>\n",
       "      <th>id</th>\n",
       "      <th>question</th>\n",
       "      <th>ground_truth</th>\n",
       "      <th>embedding</th>\n",
       "    </tr>\n",
       "  </thead>\n",
       "  <tbody>\n",
       "    <tr>\n",
       "      <th>63</th>\n",
       "      <td>d09906ca-5d8b-49f3-a6df-5ba1109df76d</td>\n",
       "      <td>How do you identify and assess AI risks in lin...</td>\n",
       "      <td>We conduct thorough assessments of AI systems ...</td>\n",
       "      <td>[-0.018808960914611816, 0.042478520423173904, ...</td>\n",
       "    </tr>\n",
       "    <tr>\n",
       "      <th>19</th>\n",
       "      <td>4d77c706-46b6-48c8-bf29-eb82b529d68e</td>\n",
       "      <td>How do you monitor and assess AI risk exposure...</td>\n",
       "      <td>We have developed a set of Key Performance Ind...</td>\n",
       "      <td>[0.005055764224380255, 0.03331145644187927, 0....</td>\n",
       "    </tr>\n",
       "    <tr>\n",
       "      <th>43</th>\n",
       "      <td>ed28ec11-d857-45a6-be3e-a5f5fcda5eb4</td>\n",
       "      <td>Explain how you manage and mitigate identified...</td>\n",
       "      <td>We implement and maintain robust risk manageme...</td>\n",
       "      <td>[0.007622845005244017, 0.0593453086912632, 0.0...</td>\n",
       "    </tr>\n",
       "    <tr>\n",
       "      <th>52</th>\n",
       "      <td>8cd9475f-b2e4-4446-b7e4-1d873e0b67e8</td>\n",
       "      <td>How do you measure the success and impact of y...</td>\n",
       "      <td>Success measurement is tailored to each projec...</td>\n",
       "      <td>[0.008592551574110985, 0.01133714523166418, 0....</td>\n",
       "    </tr>\n",
       "    <tr>\n",
       "      <th>82</th>\n",
       "      <td>e8dc7566-f59a-4367-b4bf-9d4a3c2fa86b</td>\n",
       "      <td>What is your strategy for integrating LLMs smo...</td>\n",
       "      <td>Our approach involves conducting a thorough an...</td>\n",
       "      <td>[0.010894115082919598, 0.01403286773711443, 0....</td>\n",
       "    </tr>\n",
       "  </tbody>\n",
       "</table>\n",
       "</div>"
      ],
      "text/plain": [
       "                                      id  \\\n",
       "63  d09906ca-5d8b-49f3-a6df-5ba1109df76d   \n",
       "19  4d77c706-46b6-48c8-bf29-eb82b529d68e   \n",
       "43  ed28ec11-d857-45a6-be3e-a5f5fcda5eb4   \n",
       "52  8cd9475f-b2e4-4446-b7e4-1d873e0b67e8   \n",
       "82  e8dc7566-f59a-4367-b4bf-9d4a3c2fa86b   \n",
       "\n",
       "                                             question  \\\n",
       "63  How do you identify and assess AI risks in lin...   \n",
       "19  How do you monitor and assess AI risk exposure...   \n",
       "43  Explain how you manage and mitigate identified...   \n",
       "52  How do you measure the success and impact of y...   \n",
       "82  What is your strategy for integrating LLMs smo...   \n",
       "\n",
       "                                         ground_truth  \\\n",
       "63  We conduct thorough assessments of AI systems ...   \n",
       "19  We have developed a set of Key Performance Ind...   \n",
       "43  We implement and maintain robust risk manageme...   \n",
       "52  Success measurement is tailored to each projec...   \n",
       "82  Our approach involves conducting a thorough an...   \n",
       "\n",
       "                                            embedding  \n",
       "63  [-0.018808960914611816, 0.042478520423173904, ...  \n",
       "19  [0.005055764224380255, 0.03331145644187927, 0....  \n",
       "43  [0.007622845005244017, 0.0593453086912632, 0.0...  \n",
       "52  [0.008592551574110985, 0.01133714523166418, 0....  \n",
       "82  [0.010894115082919598, 0.01403286773711443, 0....  "
      ]
     },
     "execution_count": 8,
     "metadata": {},
     "output_type": "execute_result"
    }
   ],
   "source": [
    "train_df[vm_embedder.output_column] = vm_embedder.predict(train_df)\n",
    "train_df.head()"
   ]
  },
  {
   "cell_type": "markdown",
   "metadata": {},
   "source": [
    "#### Insert embeddings and questions into Vector DB"
   ]
  },
  {
   "cell_type": "code",
   "execution_count": 9,
   "metadata": {},
   "outputs": [
    {
     "data": {
      "text/plain": [
       "UpdateResult(operation_id=0, status=<UpdateStatus.COMPLETED: 'completed'>)"
      ]
     },
     "execution_count": 9,
     "metadata": {},
     "output_type": "execute_result"
    }
   ],
   "source": [
    "from qdrant_client import QdrantClient\n",
    "from qdrant_client.models import Distance, PointStruct, VectorParams\n",
    "\n",
    "qdrant = QdrantClient(\":memory:\")\n",
    "qdrant.recreate_collection(\n",
    "    \"rfp_rag_collection\",\n",
    "    vectors_config=VectorParams(size=1536, distance=Distance.COSINE),\n",
    ")\n",
    "qdrant.upsert(\n",
    "    \"rfp_rag_collection\",\n",
    "    points=[\n",
    "        PointStruct(\n",
    "            id=row[\"id\"],\n",
    "            vector=row[vm_embedder.output_column],\n",
    "            payload={\"question\": row[\"question\"], \"ground_truth\": row[\"ground_truth\"]},\n",
    "        )\n",
    "        for _, row in train_df.iterrows()\n",
    "    ],\n",
    ")"
   ]
  },
  {
   "cell_type": "markdown",
   "metadata": {},
   "source": [
    "## Setup Retrieval Model"
   ]
  },
  {
   "cell_type": "code",
   "execution_count": 10,
   "metadata": {},
   "outputs": [],
   "source": [
    "from validmind.models import RetrievalModel\n",
    "\n",
    "def retrieve(embedding):\n",
    "    contexts = []\n",
    "\n",
    "    for result in qdrant.search(\n",
    "        \"rfp_rag_collection\",\n",
    "        query_vector=embedding,\n",
    "        limit=10,\n",
    "    ):\n",
    "        context = f\"Q: {result.payload['question']}\\n\"\n",
    "        context += f\"A: {result.payload['ground_truth']}\\n\"\n",
    "\n",
    "        contexts.append(context)\n",
    "\n",
    "    return contexts\n",
    "\n",
    "vm_retriever = RetrievalModel(input_id=\"retrieval_model\", predict_fn=retrieve)"
   ]
  },
  {
   "cell_type": "code",
   "execution_count": 11,
   "metadata": {},
   "outputs": [
    {
     "data": {
      "text/html": [
       "<div>\n",
       "<style scoped>\n",
       "    .dataframe tbody tr th:only-of-type {\n",
       "        vertical-align: middle;\n",
       "    }\n",
       "\n",
       "    .dataframe tbody tr th {\n",
       "        vertical-align: top;\n",
       "    }\n",
       "\n",
       "    .dataframe thead th {\n",
       "        text-align: right;\n",
       "    }\n",
       "</style>\n",
       "<table border=\"1\" class=\"dataframe\">\n",
       "  <thead>\n",
       "    <tr style=\"text-align: right;\">\n",
       "      <th></th>\n",
       "      <th>id</th>\n",
       "      <th>question</th>\n",
       "      <th>ground_truth</th>\n",
       "      <th>embedding</th>\n",
       "      <th>contexts</th>\n",
       "    </tr>\n",
       "  </thead>\n",
       "  <tbody>\n",
       "    <tr>\n",
       "      <th>0</th>\n",
       "      <td>e1d0102e-241c-435a-b126-fcbffd84f357</td>\n",
       "      <td>Please share your experience with developing A...</td>\n",
       "      <td>Our company has 15 years of experience in deve...</td>\n",
       "      <td>[0.006856707856059074, -0.04714655876159668, 0...</td>\n",
       "      <td>[Q: What is your experience in developing AI-b...</td>\n",
       "    </tr>\n",
       "    <tr>\n",
       "      <th>1</th>\n",
       "      <td>26034283-0644-48b8-b788-3694f716c934</td>\n",
       "      <td>How do you maintain your AI applications with ...</td>\n",
       "      <td>We maintain a dedicated R&amp;D team focused on in...</td>\n",
       "      <td>[0.011783392168581486, 0.010354681871831417, 0...</td>\n",
       "      <td>[Q: How do you keep your AI applications curre...</td>\n",
       "    </tr>\n",
       "    <tr>\n",
       "      <th>6</th>\n",
       "      <td>71601973-e95d-479e-908f-634706f5fb6f</td>\n",
       "      <td>How do you evaluate the success of your AI app...</td>\n",
       "      <td>Success measurement is tailored to each projec...</td>\n",
       "      <td>[0.014263585209846497, 0.022252684459090233, 0...</td>\n",
       "      <td>[Q: How do you assess the effectiveness and su...</td>\n",
       "    </tr>\n",
       "    <tr>\n",
       "      <th>9</th>\n",
       "      <td>2bd586ef-b46b-469d-91f6-395381253f1d</td>\n",
       "      <td>How do your LLMs continuously learn and update...</td>\n",
       "      <td>We implement advanced continuous learning mech...</td>\n",
       "      <td>[-0.010829819366335869, 0.029368551447987556, ...</td>\n",
       "      <td>[Q: How do you ensure your LLMs continuously l...</td>\n",
       "    </tr>\n",
       "    <tr>\n",
       "      <th>15</th>\n",
       "      <td>f77af7fa-5bf3-4ec7-87f5-d9fc8280e78f</td>\n",
       "      <td>How does your AI strategy align with the NIST ...</td>\n",
       "      <td>Our AI solution is meticulously designed to al...</td>\n",
       "      <td>[-0.0057174162939190865, 0.022510522976517677,...</td>\n",
       "      <td>[Q: How does your AI solution comply with the ...</td>\n",
       "    </tr>\n",
       "  </tbody>\n",
       "</table>\n",
       "</div>"
      ],
      "text/plain": [
       "                                      id  \\\n",
       "0   e1d0102e-241c-435a-b126-fcbffd84f357   \n",
       "1   26034283-0644-48b8-b788-3694f716c934   \n",
       "6   71601973-e95d-479e-908f-634706f5fb6f   \n",
       "9   2bd586ef-b46b-469d-91f6-395381253f1d   \n",
       "15  f77af7fa-5bf3-4ec7-87f5-d9fc8280e78f   \n",
       "\n",
       "                                             question  \\\n",
       "0   Please share your experience with developing A...   \n",
       "1   How do you maintain your AI applications with ...   \n",
       "6   How do you evaluate the success of your AI app...   \n",
       "9   How do your LLMs continuously learn and update...   \n",
       "15  How does your AI strategy align with the NIST ...   \n",
       "\n",
       "                                         ground_truth  \\\n",
       "0   Our company has 15 years of experience in deve...   \n",
       "1   We maintain a dedicated R&D team focused on in...   \n",
       "6   Success measurement is tailored to each projec...   \n",
       "9   We implement advanced continuous learning mech...   \n",
       "15  Our AI solution is meticulously designed to al...   \n",
       "\n",
       "                                            embedding  \\\n",
       "0   [0.006856707856059074, -0.04714655876159668, 0...   \n",
       "1   [0.011783392168581486, 0.010354681871831417, 0...   \n",
       "6   [0.014263585209846497, 0.022252684459090233, 0...   \n",
       "9   [-0.010829819366335869, 0.029368551447987556, ...   \n",
       "15  [-0.0057174162939190865, 0.022510522976517677,...   \n",
       "\n",
       "                                             contexts  \n",
       "0   [Q: What is your experience in developing AI-b...  \n",
       "1   [Q: How do you keep your AI applications curre...  \n",
       "6   [Q: How do you assess the effectiveness and su...  \n",
       "9   [Q: How do you ensure your LLMs continuously l...  \n",
       "15  [Q: How does your AI solution comply with the ...  "
      ]
     },
     "execution_count": 11,
     "metadata": {},
     "output_type": "execute_result"
    }
   ],
   "source": [
    "test_df[vm_retriever.output_column] = vm_retriever.predict(test_df)\n",
    "test_df.head()"
   ]
  },
  {
   "cell_type": "markdown",
   "metadata": {},
   "source": [
    "## Setup Generation Model"
   ]
  },
  {
   "cell_type": "code",
   "execution_count": 12,
   "metadata": {},
   "outputs": [],
   "source": [
    "from validmind.models import GenerationModel\n",
    "\n",
    "system_prompt = \"\"\"\n",
    "You are an expert RFP AI assistant.\n",
    "You are tasked with answering new RFP questions based on existing RFP questions and answers.\n",
    "You will be provided with the existing RFP questions and answer pairs that are the most relevant to the new RFP question.\n",
    "After that you will be provided with a new RFP question.\n",
    "You will generate an answer and respond only with the answer.\n",
    "Ignore your pre-existing knowledge and answer the question based on the provided context.\n",
    "\"\"\".strip()\n",
    "\n",
    "\n",
    "def generate(question, contexts):\n",
    "    response = client.chat.completions.create(\n",
    "        model=\"gpt-3.5-turbo\",\n",
    "        messages=[\n",
    "            {\"role\": \"system\", \"content\": system_prompt},\n",
    "            {\"role\": \"user\", \"content\": \"\\n\\n\".join(contexts)},\n",
    "            {\"role\": \"user\", \"content\": question},\n",
    "        ],\n",
    "    )\n",
    "\n",
    "    return response.choices[0].message.content\n",
    "\n",
    "vm_generator = GenerationModel(input_id=\"generation_model\", predict_fn=generate)"
   ]
  },
  {
   "cell_type": "code",
   "execution_count": 13,
   "metadata": {},
   "outputs": [
    {
     "data": {
      "text/html": [
       "<div>\n",
       "<style scoped>\n",
       "    .dataframe tbody tr th:only-of-type {\n",
       "        vertical-align: middle;\n",
       "    }\n",
       "\n",
       "    .dataframe tbody tr th {\n",
       "        vertical-align: top;\n",
       "    }\n",
       "\n",
       "    .dataframe thead th {\n",
       "        text-align: right;\n",
       "    }\n",
       "</style>\n",
       "<table border=\"1\" class=\"dataframe\">\n",
       "  <thead>\n",
       "    <tr style=\"text-align: right;\">\n",
       "      <th></th>\n",
       "      <th>id</th>\n",
       "      <th>question</th>\n",
       "      <th>ground_truth</th>\n",
       "      <th>embedding</th>\n",
       "      <th>contexts</th>\n",
       "      <th>answer</th>\n",
       "    </tr>\n",
       "  </thead>\n",
       "  <tbody>\n",
       "    <tr>\n",
       "      <th>0</th>\n",
       "      <td>e1d0102e-241c-435a-b126-fcbffd84f357</td>\n",
       "      <td>Please share your experience with developing A...</td>\n",
       "      <td>Our company has 15 years of experience in deve...</td>\n",
       "      <td>[0.006856707856059074, -0.04714655876159668, 0...</td>\n",
       "      <td>[Q: What is your experience in developing AI-b...</td>\n",
       "      <td>Our company has 15 years of experience develop...</td>\n",
       "    </tr>\n",
       "    <tr>\n",
       "      <th>1</th>\n",
       "      <td>26034283-0644-48b8-b788-3694f716c934</td>\n",
       "      <td>How do you maintain your AI applications with ...</td>\n",
       "      <td>We maintain a dedicated R&amp;D team focused on in...</td>\n",
       "      <td>[0.011783392168581486, 0.010354681871831417, 0...</td>\n",
       "      <td>[Q: How do you keep your AI applications curre...</td>\n",
       "      <td>We maintain our AI applications by having a de...</td>\n",
       "    </tr>\n",
       "    <tr>\n",
       "      <th>6</th>\n",
       "      <td>71601973-e95d-479e-908f-634706f5fb6f</td>\n",
       "      <td>How do you evaluate the success of your AI app...</td>\n",
       "      <td>Success measurement is tailored to each projec...</td>\n",
       "      <td>[0.014263585209846497, 0.022252684459090233, 0...</td>\n",
       "      <td>[Q: How do you assess the effectiveness and su...</td>\n",
       "      <td>Success measurement is tailored to each projec...</td>\n",
       "    </tr>\n",
       "    <tr>\n",
       "      <th>9</th>\n",
       "      <td>2bd586ef-b46b-469d-91f6-395381253f1d</td>\n",
       "      <td>How do your LLMs continuously learn and update...</td>\n",
       "      <td>We implement advanced continuous learning mech...</td>\n",
       "      <td>[-0.010829819366335869, 0.029368551447987556, ...</td>\n",
       "      <td>[Q: How do you ensure your LLMs continuously l...</td>\n",
       "      <td>We implement advanced continuous learning mech...</td>\n",
       "    </tr>\n",
       "    <tr>\n",
       "      <th>15</th>\n",
       "      <td>f77af7fa-5bf3-4ec7-87f5-d9fc8280e78f</td>\n",
       "      <td>How does your AI strategy align with the NIST ...</td>\n",
       "      <td>Our AI solution is meticulously designed to al...</td>\n",
       "      <td>[-0.0057174162939190865, 0.022510522976517677,...</td>\n",
       "      <td>[Q: How does your AI solution comply with the ...</td>\n",
       "      <td>Our AI strategy is meticulously crafted to ali...</td>\n",
       "    </tr>\n",
       "  </tbody>\n",
       "</table>\n",
       "</div>"
      ],
      "text/plain": [
       "                                      id  \\\n",
       "0   e1d0102e-241c-435a-b126-fcbffd84f357   \n",
       "1   26034283-0644-48b8-b788-3694f716c934   \n",
       "6   71601973-e95d-479e-908f-634706f5fb6f   \n",
       "9   2bd586ef-b46b-469d-91f6-395381253f1d   \n",
       "15  f77af7fa-5bf3-4ec7-87f5-d9fc8280e78f   \n",
       "\n",
       "                                             question  \\\n",
       "0   Please share your experience with developing A...   \n",
       "1   How do you maintain your AI applications with ...   \n",
       "6   How do you evaluate the success of your AI app...   \n",
       "9   How do your LLMs continuously learn and update...   \n",
       "15  How does your AI strategy align with the NIST ...   \n",
       "\n",
       "                                         ground_truth  \\\n",
       "0   Our company has 15 years of experience in deve...   \n",
       "1   We maintain a dedicated R&D team focused on in...   \n",
       "6   Success measurement is tailored to each projec...   \n",
       "9   We implement advanced continuous learning mech...   \n",
       "15  Our AI solution is meticulously designed to al...   \n",
       "\n",
       "                                            embedding  \\\n",
       "0   [0.006856707856059074, -0.04714655876159668, 0...   \n",
       "1   [0.011783392168581486, 0.010354681871831417, 0...   \n",
       "6   [0.014263585209846497, 0.022252684459090233, 0...   \n",
       "9   [-0.010829819366335869, 0.029368551447987556, ...   \n",
       "15  [-0.0057174162939190865, 0.022510522976517677,...   \n",
       "\n",
       "                                             contexts  \\\n",
       "0   [Q: What is your experience in developing AI-b...   \n",
       "1   [Q: How do you keep your AI applications curre...   \n",
       "6   [Q: How do you assess the effectiveness and su...   \n",
       "9   [Q: How do you ensure your LLMs continuously l...   \n",
       "15  [Q: How does your AI solution comply with the ...   \n",
       "\n",
       "                                               answer  \n",
       "0   Our company has 15 years of experience develop...  \n",
       "1   We maintain our AI applications by having a de...  \n",
       "6   Success measurement is tailored to each projec...  \n",
       "9   We implement advanced continuous learning mech...  \n",
       "15  Our AI strategy is meticulously crafted to ali...  "
      ]
     },
     "execution_count": 13,
     "metadata": {},
     "output_type": "execute_result"
    }
   ],
   "source": [
    "test_df[vm_generator.output_column] = vm_generator.predict(test_df)\n",
    "test_df.head()"
   ]
  },
  {
   "cell_type": "markdown",
   "metadata": {},
   "source": [
    "## Setup RAG Model (Pipeline of \"Component\" Models)"
   ]
  },
  {
   "cell_type": "code",
   "execution_count": 14,
   "metadata": {},
   "outputs": [],
   "source": [
    "from validmind.models import RAGModel\n",
    "\n",
    "vm_rag_model = RAGModel(\n",
    "    embedder=vm_embedder,\n",
    "    retriever=vm_retriever,\n",
    "    generator=vm_generator,\n",
    "    input_id=\"rag_pipeline\",\n",
    ")"
   ]
  },
  {
   "cell_type": "code",
   "execution_count": 15,
   "metadata": {},
   "outputs": [
    {
     "data": {
      "text/html": [
       "<div>\n",
       "<style scoped>\n",
       "    .dataframe tbody tr th:only-of-type {\n",
       "        vertical-align: middle;\n",
       "    }\n",
       "\n",
       "    .dataframe tbody tr th {\n",
       "        vertical-align: top;\n",
       "    }\n",
       "\n",
       "    .dataframe thead th {\n",
       "        text-align: right;\n",
       "    }\n",
       "</style>\n",
       "<table border=\"1\" class=\"dataframe\">\n",
       "  <thead>\n",
       "    <tr style=\"text-align: right;\">\n",
       "      <th></th>\n",
       "      <th>id</th>\n",
       "      <th>question</th>\n",
       "      <th>ground_truth</th>\n",
       "      <th>embedding</th>\n",
       "      <th>contexts</th>\n",
       "      <th>answer</th>\n",
       "    </tr>\n",
       "  </thead>\n",
       "  <tbody>\n",
       "    <tr>\n",
       "      <th>0</th>\n",
       "      <td>e1d0102e-241c-435a-b126-fcbffd84f357</td>\n",
       "      <td>Please share your experience with developing A...</td>\n",
       "      <td>Our company has 15 years of experience in deve...</td>\n",
       "      <td>[0.006856707856059074, -0.04714655876159668, 0...</td>\n",
       "      <td>[Q: What is your experience in developing AI-b...</td>\n",
       "      <td>Our company has 15 years of experience in deve...</td>\n",
       "    </tr>\n",
       "    <tr>\n",
       "      <th>1</th>\n",
       "      <td>26034283-0644-48b8-b788-3694f716c934</td>\n",
       "      <td>How do you maintain your AI applications with ...</td>\n",
       "      <td>We maintain a dedicated R&amp;D team focused on in...</td>\n",
       "      <td>[0.011901024729013443, 0.010153321549296379, 0...</td>\n",
       "      <td>[Q: How do you keep your AI applications curre...</td>\n",
       "      <td>We maintain our AI applications with the lates...</td>\n",
       "    </tr>\n",
       "    <tr>\n",
       "      <th>6</th>\n",
       "      <td>71601973-e95d-479e-908f-634706f5fb6f</td>\n",
       "      <td>How do you evaluate the success of your AI app...</td>\n",
       "      <td>Success measurement is tailored to each projec...</td>\n",
       "      <td>[0.014263585209846497, 0.022252684459090233, 0...</td>\n",
       "      <td>[Q: How do you assess the effectiveness and su...</td>\n",
       "      <td>Success measurement is tailored to each projec...</td>\n",
       "    </tr>\n",
       "    <tr>\n",
       "      <th>9</th>\n",
       "      <td>2bd586ef-b46b-469d-91f6-395381253f1d</td>\n",
       "      <td>How do your LLMs continuously learn and update...</td>\n",
       "      <td>We implement advanced continuous learning mech...</td>\n",
       "      <td>[-0.010829819366335869, 0.029368551447987556, ...</td>\n",
       "      <td>[Q: How do you ensure your LLMs continuously l...</td>\n",
       "      <td>We implement advanced continuous learning mech...</td>\n",
       "    </tr>\n",
       "    <tr>\n",
       "      <th>15</th>\n",
       "      <td>f77af7fa-5bf3-4ec7-87f5-d9fc8280e78f</td>\n",
       "      <td>How does your AI strategy align with the NIST ...</td>\n",
       "      <td>Our AI solution is meticulously designed to al...</td>\n",
       "      <td>[-0.0057174162939190865, 0.022510522976517677,...</td>\n",
       "      <td>[Q: How does your AI solution comply with the ...</td>\n",
       "      <td>Our AI strategy is crafted to closely align wi...</td>\n",
       "    </tr>\n",
       "  </tbody>\n",
       "</table>\n",
       "</div>"
      ],
      "text/plain": [
       "                                      id  \\\n",
       "0   e1d0102e-241c-435a-b126-fcbffd84f357   \n",
       "1   26034283-0644-48b8-b788-3694f716c934   \n",
       "6   71601973-e95d-479e-908f-634706f5fb6f   \n",
       "9   2bd586ef-b46b-469d-91f6-395381253f1d   \n",
       "15  f77af7fa-5bf3-4ec7-87f5-d9fc8280e78f   \n",
       "\n",
       "                                             question  \\\n",
       "0   Please share your experience with developing A...   \n",
       "1   How do you maintain your AI applications with ...   \n",
       "6   How do you evaluate the success of your AI app...   \n",
       "9   How do your LLMs continuously learn and update...   \n",
       "15  How does your AI strategy align with the NIST ...   \n",
       "\n",
       "                                         ground_truth  \\\n",
       "0   Our company has 15 years of experience in deve...   \n",
       "1   We maintain a dedicated R&D team focused on in...   \n",
       "6   Success measurement is tailored to each projec...   \n",
       "9   We implement advanced continuous learning mech...   \n",
       "15  Our AI solution is meticulously designed to al...   \n",
       "\n",
       "                                            embedding  \\\n",
       "0   [0.006856707856059074, -0.04714655876159668, 0...   \n",
       "1   [0.011901024729013443, 0.010153321549296379, 0...   \n",
       "6   [0.014263585209846497, 0.022252684459090233, 0...   \n",
       "9   [-0.010829819366335869, 0.029368551447987556, ...   \n",
       "15  [-0.0057174162939190865, 0.022510522976517677,...   \n",
       "\n",
       "                                             contexts  \\\n",
       "0   [Q: What is your experience in developing AI-b...   \n",
       "1   [Q: How do you keep your AI applications curre...   \n",
       "6   [Q: How do you assess the effectiveness and su...   \n",
       "9   [Q: How do you ensure your LLMs continuously l...   \n",
       "15  [Q: How does your AI solution comply with the ...   \n",
       "\n",
       "                                               answer  \n",
       "0   Our company has 15 years of experience in deve...  \n",
       "1   We maintain our AI applications with the lates...  \n",
       "6   Success measurement is tailored to each projec...  \n",
       "9   We implement advanced continuous learning mech...  \n",
       "15  Our AI strategy is crafted to closely align wi...  "
      ]
     },
     "execution_count": 15,
     "metadata": {},
     "output_type": "execute_result"
    }
   ],
   "source": [
    "result_df = vm_rag_model.predict(test_df)\n",
    "result_df.head()"
   ]
  },
  {
   "cell_type": "code",
   "execution_count": 16,
   "metadata": {},
   "outputs": [
    {
     "name": "stderr",
     "output_type": "stream",
     "text": [
      "2024-05-01 00:10:33,192 - INFO(validmind.client): Pandas dataset detected. Initializing VM Dataset instance...\n"
     ]
    }
   ],
   "source": [
    "vm_ragas_ds = vm.init_dataset(result_df, __log=False)"
   ]
  },
  {
   "cell_type": "code",
   "execution_count": 17,
   "metadata": {},
   "outputs": [],
   "source": [
    "import plotly.express as px\n",
    "\n",
    "def plot_distribution(scores):\n",
    "    # plot distribution of scores (0-1) from ragas metric\n",
    "    # scores is a list of floats\n",
    "    fig = px.histogram(x=scores, nbins=10)\n",
    "    fig.show()"
   ]
  },
  {
   "cell_type": "code",
   "execution_count": 18,
   "metadata": {},
   "outputs": [],
   "source": [
    "import warnings\n",
    "\n",
    "warnings.filterwarnings(\"ignore\")"
   ]
  },
  {
   "cell_type": "code",
   "execution_count": 19,
   "metadata": {},
   "outputs": [
    {
     "data": {
      "application/vnd.jupyter.widget-view+json": {
       "model_id": "69fdcd3b63b0488baf672ffc4db2edf9",
       "version_major": 2,
       "version_minor": 0
      },
      "text/plain": [
       "Evaluating:   0%|          | 0/23 [00:00<?, ?it/s]"
      ]
     },
     "metadata": {},
     "output_type": "display_data"
    },
    {
     "data": {
      "application/vnd.plotly.v1+json": {
       "config": {
        "plotlyServerURL": "https://plot.ly"
       },
       "data": [
        {
         "alignmentgroup": "True",
         "bingroup": "x",
         "hovertemplate": "x=%{x}<br>count=%{y}<extra></extra>",
         "legendgroup": "",
         "marker": {
          "color": "#636efa",
          "pattern": {
           "shape": ""
          }
         },
         "name": "",
         "nbinsx": 10,
         "offsetgroup": "",
         "orientation": "v",
         "showlegend": false,
         "type": "histogram",
         "x": [
          0.9999999999999998,
          0.9792433118632953,
          1,
          0.9746305240312936,
          0.9701592358326284,
          0.9900402619193007,
          0.9460097954014257,
          1,
          0.9999996285283969,
          0.9989007968548516,
          0.9654314642021063,
          1,
          1,
          1.0000000000000002,
          0.9976293499041752,
          0.9890198346114238,
          1.0000000000000004,
          0.9854002691948693,
          0.9999999999999998,
          0.9983083959933021,
          0.9999999999999998,
          0.9776795822434751,
          0.9982980980560068
         ],
         "xaxis": "x",
         "yaxis": "y"
        }
       ],
       "layout": {
        "barmode": "relative",
        "legend": {
         "tracegroupgap": 0
        },
        "margin": {
         "t": 60
        },
        "template": {
         "data": {
          "bar": [
           {
            "error_x": {
             "color": "#2a3f5f"
            },
            "error_y": {
             "color": "#2a3f5f"
            },
            "marker": {
             "line": {
              "color": "#E5ECF6",
              "width": 0.5
             },
             "pattern": {
              "fillmode": "overlay",
              "size": 10,
              "solidity": 0.2
             }
            },
            "type": "bar"
           }
          ],
          "barpolar": [
           {
            "marker": {
             "line": {
              "color": "#E5ECF6",
              "width": 0.5
             },
             "pattern": {
              "fillmode": "overlay",
              "size": 10,
              "solidity": 0.2
             }
            },
            "type": "barpolar"
           }
          ],
          "carpet": [
           {
            "aaxis": {
             "endlinecolor": "#2a3f5f",
             "gridcolor": "white",
             "linecolor": "white",
             "minorgridcolor": "white",
             "startlinecolor": "#2a3f5f"
            },
            "baxis": {
             "endlinecolor": "#2a3f5f",
             "gridcolor": "white",
             "linecolor": "white",
             "minorgridcolor": "white",
             "startlinecolor": "#2a3f5f"
            },
            "type": "carpet"
           }
          ],
          "choropleth": [
           {
            "colorbar": {
             "outlinewidth": 0,
             "ticks": ""
            },
            "type": "choropleth"
           }
          ],
          "contour": [
           {
            "colorbar": {
             "outlinewidth": 0,
             "ticks": ""
            },
            "colorscale": [
             [
              0,
              "#0d0887"
             ],
             [
              0.1111111111111111,
              "#46039f"
             ],
             [
              0.2222222222222222,
              "#7201a8"
             ],
             [
              0.3333333333333333,
              "#9c179e"
             ],
             [
              0.4444444444444444,
              "#bd3786"
             ],
             [
              0.5555555555555556,
              "#d8576b"
             ],
             [
              0.6666666666666666,
              "#ed7953"
             ],
             [
              0.7777777777777778,
              "#fb9f3a"
             ],
             [
              0.8888888888888888,
              "#fdca26"
             ],
             [
              1,
              "#f0f921"
             ]
            ],
            "type": "contour"
           }
          ],
          "contourcarpet": [
           {
            "colorbar": {
             "outlinewidth": 0,
             "ticks": ""
            },
            "type": "contourcarpet"
           }
          ],
          "heatmap": [
           {
            "colorbar": {
             "outlinewidth": 0,
             "ticks": ""
            },
            "colorscale": [
             [
              0,
              "#0d0887"
             ],
             [
              0.1111111111111111,
              "#46039f"
             ],
             [
              0.2222222222222222,
              "#7201a8"
             ],
             [
              0.3333333333333333,
              "#9c179e"
             ],
             [
              0.4444444444444444,
              "#bd3786"
             ],
             [
              0.5555555555555556,
              "#d8576b"
             ],
             [
              0.6666666666666666,
              "#ed7953"
             ],
             [
              0.7777777777777778,
              "#fb9f3a"
             ],
             [
              0.8888888888888888,
              "#fdca26"
             ],
             [
              1,
              "#f0f921"
             ]
            ],
            "type": "heatmap"
           }
          ],
          "heatmapgl": [
           {
            "colorbar": {
             "outlinewidth": 0,
             "ticks": ""
            },
            "colorscale": [
             [
              0,
              "#0d0887"
             ],
             [
              0.1111111111111111,
              "#46039f"
             ],
             [
              0.2222222222222222,
              "#7201a8"
             ],
             [
              0.3333333333333333,
              "#9c179e"
             ],
             [
              0.4444444444444444,
              "#bd3786"
             ],
             [
              0.5555555555555556,
              "#d8576b"
             ],
             [
              0.6666666666666666,
              "#ed7953"
             ],
             [
              0.7777777777777778,
              "#fb9f3a"
             ],
             [
              0.8888888888888888,
              "#fdca26"
             ],
             [
              1,
              "#f0f921"
             ]
            ],
            "type": "heatmapgl"
           }
          ],
          "histogram": [
           {
            "marker": {
             "pattern": {
              "fillmode": "overlay",
              "size": 10,
              "solidity": 0.2
             }
            },
            "type": "histogram"
           }
          ],
          "histogram2d": [
           {
            "colorbar": {
             "outlinewidth": 0,
             "ticks": ""
            },
            "colorscale": [
             [
              0,
              "#0d0887"
             ],
             [
              0.1111111111111111,
              "#46039f"
             ],
             [
              0.2222222222222222,
              "#7201a8"
             ],
             [
              0.3333333333333333,
              "#9c179e"
             ],
             [
              0.4444444444444444,
              "#bd3786"
             ],
             [
              0.5555555555555556,
              "#d8576b"
             ],
             [
              0.6666666666666666,
              "#ed7953"
             ],
             [
              0.7777777777777778,
              "#fb9f3a"
             ],
             [
              0.8888888888888888,
              "#fdca26"
             ],
             [
              1,
              "#f0f921"
             ]
            ],
            "type": "histogram2d"
           }
          ],
          "histogram2dcontour": [
           {
            "colorbar": {
             "outlinewidth": 0,
             "ticks": ""
            },
            "colorscale": [
             [
              0,
              "#0d0887"
             ],
             [
              0.1111111111111111,
              "#46039f"
             ],
             [
              0.2222222222222222,
              "#7201a8"
             ],
             [
              0.3333333333333333,
              "#9c179e"
             ],
             [
              0.4444444444444444,
              "#bd3786"
             ],
             [
              0.5555555555555556,
              "#d8576b"
             ],
             [
              0.6666666666666666,
              "#ed7953"
             ],
             [
              0.7777777777777778,
              "#fb9f3a"
             ],
             [
              0.8888888888888888,
              "#fdca26"
             ],
             [
              1,
              "#f0f921"
             ]
            ],
            "type": "histogram2dcontour"
           }
          ],
          "mesh3d": [
           {
            "colorbar": {
             "outlinewidth": 0,
             "ticks": ""
            },
            "type": "mesh3d"
           }
          ],
          "parcoords": [
           {
            "line": {
             "colorbar": {
              "outlinewidth": 0,
              "ticks": ""
             }
            },
            "type": "parcoords"
           }
          ],
          "pie": [
           {
            "automargin": true,
            "type": "pie"
           }
          ],
          "scatter": [
           {
            "fillpattern": {
             "fillmode": "overlay",
             "size": 10,
             "solidity": 0.2
            },
            "type": "scatter"
           }
          ],
          "scatter3d": [
           {
            "line": {
             "colorbar": {
              "outlinewidth": 0,
              "ticks": ""
             }
            },
            "marker": {
             "colorbar": {
              "outlinewidth": 0,
              "ticks": ""
             }
            },
            "type": "scatter3d"
           }
          ],
          "scattercarpet": [
           {
            "marker": {
             "colorbar": {
              "outlinewidth": 0,
              "ticks": ""
             }
            },
            "type": "scattercarpet"
           }
          ],
          "scattergeo": [
           {
            "marker": {
             "colorbar": {
              "outlinewidth": 0,
              "ticks": ""
             }
            },
            "type": "scattergeo"
           }
          ],
          "scattergl": [
           {
            "marker": {
             "colorbar": {
              "outlinewidth": 0,
              "ticks": ""
             }
            },
            "type": "scattergl"
           }
          ],
          "scattermapbox": [
           {
            "marker": {
             "colorbar": {
              "outlinewidth": 0,
              "ticks": ""
             }
            },
            "type": "scattermapbox"
           }
          ],
          "scatterpolar": [
           {
            "marker": {
             "colorbar": {
              "outlinewidth": 0,
              "ticks": ""
             }
            },
            "type": "scatterpolar"
           }
          ],
          "scatterpolargl": [
           {
            "marker": {
             "colorbar": {
              "outlinewidth": 0,
              "ticks": ""
             }
            },
            "type": "scatterpolargl"
           }
          ],
          "scatterternary": [
           {
            "marker": {
             "colorbar": {
              "outlinewidth": 0,
              "ticks": ""
             }
            },
            "type": "scatterternary"
           }
          ],
          "surface": [
           {
            "colorbar": {
             "outlinewidth": 0,
             "ticks": ""
            },
            "colorscale": [
             [
              0,
              "#0d0887"
             ],
             [
              0.1111111111111111,
              "#46039f"
             ],
             [
              0.2222222222222222,
              "#7201a8"
             ],
             [
              0.3333333333333333,
              "#9c179e"
             ],
             [
              0.4444444444444444,
              "#bd3786"
             ],
             [
              0.5555555555555556,
              "#d8576b"
             ],
             [
              0.6666666666666666,
              "#ed7953"
             ],
             [
              0.7777777777777778,
              "#fb9f3a"
             ],
             [
              0.8888888888888888,
              "#fdca26"
             ],
             [
              1,
              "#f0f921"
             ]
            ],
            "type": "surface"
           }
          ],
          "table": [
           {
            "cells": {
             "fill": {
              "color": "#EBF0F8"
             },
             "line": {
              "color": "white"
             }
            },
            "header": {
             "fill": {
              "color": "#C8D4E3"
             },
             "line": {
              "color": "white"
             }
            },
            "type": "table"
           }
          ]
         },
         "layout": {
          "annotationdefaults": {
           "arrowcolor": "#2a3f5f",
           "arrowhead": 0,
           "arrowwidth": 1
          },
          "autotypenumbers": "strict",
          "coloraxis": {
           "colorbar": {
            "outlinewidth": 0,
            "ticks": ""
           }
          },
          "colorscale": {
           "diverging": [
            [
             0,
             "#8e0152"
            ],
            [
             0.1,
             "#c51b7d"
            ],
            [
             0.2,
             "#de77ae"
            ],
            [
             0.3,
             "#f1b6da"
            ],
            [
             0.4,
             "#fde0ef"
            ],
            [
             0.5,
             "#f7f7f7"
            ],
            [
             0.6,
             "#e6f5d0"
            ],
            [
             0.7,
             "#b8e186"
            ],
            [
             0.8,
             "#7fbc41"
            ],
            [
             0.9,
             "#4d9221"
            ],
            [
             1,
             "#276419"
            ]
           ],
           "sequential": [
            [
             0,
             "#0d0887"
            ],
            [
             0.1111111111111111,
             "#46039f"
            ],
            [
             0.2222222222222222,
             "#7201a8"
            ],
            [
             0.3333333333333333,
             "#9c179e"
            ],
            [
             0.4444444444444444,
             "#bd3786"
            ],
            [
             0.5555555555555556,
             "#d8576b"
            ],
            [
             0.6666666666666666,
             "#ed7953"
            ],
            [
             0.7777777777777778,
             "#fb9f3a"
            ],
            [
             0.8888888888888888,
             "#fdca26"
            ],
            [
             1,
             "#f0f921"
            ]
           ],
           "sequentialminus": [
            [
             0,
             "#0d0887"
            ],
            [
             0.1111111111111111,
             "#46039f"
            ],
            [
             0.2222222222222222,
             "#7201a8"
            ],
            [
             0.3333333333333333,
             "#9c179e"
            ],
            [
             0.4444444444444444,
             "#bd3786"
            ],
            [
             0.5555555555555556,
             "#d8576b"
            ],
            [
             0.6666666666666666,
             "#ed7953"
            ],
            [
             0.7777777777777778,
             "#fb9f3a"
            ],
            [
             0.8888888888888888,
             "#fdca26"
            ],
            [
             1,
             "#f0f921"
            ]
           ]
          },
          "colorway": [
           "#636efa",
           "#EF553B",
           "#00cc96",
           "#ab63fa",
           "#FFA15A",
           "#19d3f3",
           "#FF6692",
           "#B6E880",
           "#FF97FF",
           "#FECB52"
          ],
          "font": {
           "color": "#2a3f5f"
          },
          "geo": {
           "bgcolor": "white",
           "lakecolor": "white",
           "landcolor": "#E5ECF6",
           "showlakes": true,
           "showland": true,
           "subunitcolor": "white"
          },
          "hoverlabel": {
           "align": "left"
          },
          "hovermode": "closest",
          "mapbox": {
           "style": "light"
          },
          "paper_bgcolor": "white",
          "plot_bgcolor": "#E5ECF6",
          "polar": {
           "angularaxis": {
            "gridcolor": "white",
            "linecolor": "white",
            "ticks": ""
           },
           "bgcolor": "#E5ECF6",
           "radialaxis": {
            "gridcolor": "white",
            "linecolor": "white",
            "ticks": ""
           }
          },
          "scene": {
           "xaxis": {
            "backgroundcolor": "#E5ECF6",
            "gridcolor": "white",
            "gridwidth": 2,
            "linecolor": "white",
            "showbackground": true,
            "ticks": "",
            "zerolinecolor": "white"
           },
           "yaxis": {
            "backgroundcolor": "#E5ECF6",
            "gridcolor": "white",
            "gridwidth": 2,
            "linecolor": "white",
            "showbackground": true,
            "ticks": "",
            "zerolinecolor": "white"
           },
           "zaxis": {
            "backgroundcolor": "#E5ECF6",
            "gridcolor": "white",
            "gridwidth": 2,
            "linecolor": "white",
            "showbackground": true,
            "ticks": "",
            "zerolinecolor": "white"
           }
          },
          "shapedefaults": {
           "line": {
            "color": "#2a3f5f"
           }
          },
          "ternary": {
           "aaxis": {
            "gridcolor": "white",
            "linecolor": "white",
            "ticks": ""
           },
           "baxis": {
            "gridcolor": "white",
            "linecolor": "white",
            "ticks": ""
           },
           "bgcolor": "#E5ECF6",
           "caxis": {
            "gridcolor": "white",
            "linecolor": "white",
            "ticks": ""
           }
          },
          "title": {
           "x": 0.05
          },
          "xaxis": {
           "automargin": true,
           "gridcolor": "white",
           "linecolor": "white",
           "ticks": "",
           "title": {
            "standoff": 15
           },
           "zerolinecolor": "white",
           "zerolinewidth": 2
          },
          "yaxis": {
           "automargin": true,
           "gridcolor": "white",
           "linecolor": "white",
           "ticks": "",
           "title": {
            "standoff": 15
           },
           "zerolinecolor": "white",
           "zerolinewidth": 2
          }
         }
        },
        "xaxis": {
         "anchor": "y",
         "domain": [
          0,
          1
         ],
         "title": {
          "text": "x"
         }
        },
        "yaxis": {
         "anchor": "x",
         "domain": [
          0,
          1
         ],
         "title": {
          "text": "count"
         }
        }
       }
      }
     },
     "metadata": {},
     "output_type": "display_data"
    }
   ],
   "source": [
    "result = run_test(\n",
    "    \"validmind.model_validation.ragas.AnswerSimilarity\",\n",
    "    inputs={\"dataset\": vm_ragas_ds},\n",
    "    show=False,\n",
    ")\n",
    "plot_distribution(result.metric.summary.results[0].data)"
   ]
  },
  {
   "cell_type": "code",
   "execution_count": null,
   "metadata": {},
   "outputs": [],
   "source": [
    "result = run_test(\n",
    "    \"validmind.model_validation.ragas.ContextEntityRecall\",\n",
    "    inputs={\"dataset\": vm_ragas_ds},\n",
    "    show=False,\n",
    ")\n",
    "plot_distribution(result.metric.summary.results[0].data)"
   ]
  },
  {
   "cell_type": "code",
   "execution_count": null,
   "metadata": {},
   "outputs": [],
   "source": [
    "result = run_test(\n",
    "    \"validmind.model_validation.ragas.ContextPrecision\",\n",
    "    inputs={\"dataset\": vm_ragas_ds},\n",
    "    show=False,\n",
    ")\n",
    "plot_distribution(result.metric.summary.results[0].data)"
   ]
  },
  {
   "cell_type": "code",
   "execution_count": null,
   "metadata": {},
   "outputs": [],
   "source": [
    "result = run_test(\n",
    "    \"validmind.model_validation.ragas.ContextRelevancy\",\n",
    "    inputs={\"dataset\": vm_ragas_ds},\n",
    "    show=False,\n",
    ")\n",
    "plot_distribution(result.metric.summary.results[0].data)"
   ]
  }
 ],
 "metadata": {
  "kernelspec": {
   "display_name": "validmind-mI3jzOkk-py3.11",
   "language": "python",
   "name": "python3"
  },
  "language_info": {
   "codemirror_mode": {
    "name": "ipython",
    "version": 3
   },
   "file_extension": ".py",
   "mimetype": "text/x-python",
   "name": "python",
   "nbconvert_exporter": "python",
   "pygments_lexer": "ipython3",
   "version": "3.11.9"
  }
 },
 "nbformat": 4,
 "nbformat_minor": 2
}
