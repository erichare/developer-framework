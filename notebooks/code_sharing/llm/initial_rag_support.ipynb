{
 "cells": [
  {
   "cell_type": "markdown",
   "metadata": {},
   "source": [
    "# RFP RAG w/o LangChain Demo"
   ]
  },
  {
   "cell_type": "markdown",
   "metadata": {},
   "source": [
    "#### Pre-requisites"
   ]
  },
  {
   "cell_type": "code",
   "execution_count": 1,
   "metadata": {},
   "outputs": [
    {
     "name": "stdout",
     "output_type": "stream",
     "text": [
      "Note: you may need to restart the kernel to use updated packages.\n"
     ]
    }
   ],
   "source": [
    "%pip install -q qdrant-client"
   ]
  },
  {
   "cell_type": "markdown",
   "metadata": {},
   "source": [
    "#### Load the existing questions"
   ]
  },
  {
   "cell_type": "code",
   "execution_count": 2,
   "metadata": {},
   "outputs": [
    {
     "name": "stdout",
     "output_type": "stream",
     "text": [
      "115\n"
     ]
    }
   ],
   "source": [
    "# load documents\n",
    "import os\n",
    "from csv import DictReader\n",
    "from uuid import uuid4\n",
    "\n",
    "## grab all csv files with the name  \"rfp_existing_questions_<client_name>.csv\"\n",
    "documents = []\n",
    "root_dir = \"datasets/rag/\"\n",
    "for file in os.listdir(root_dir):\n",
    "    if file.startswith(\"rfp_existing_questions_\") and file.endswith(\".csv\"):\n",
    "        # use csv dict reader to load the csv file\n",
    "        with open(os.path.join(root_dir, file)) as f:\n",
    "            reader = DictReader(f)\n",
    "            for row in reader:\n",
    "                # add a unique id to the row\n",
    "                row[\"id\"] = str(uuid4())\n",
    "                documents.append(row)\n",
    "print(len(documents))"
   ]
  },
  {
   "cell_type": "markdown",
   "metadata": {},
   "source": [
    "#### Generate embeddings for the questions"
   ]
  },
  {
   "cell_type": "code",
   "execution_count": 3,
   "metadata": {},
   "outputs": [],
   "source": [
    "# load openai api key\n",
    "from dotenv import load_dotenv\n",
    "\n",
    "load_dotenv()\n",
    "\n",
    "# now we can import and use the openai client\n",
    "from openai import OpenAI\n",
    "\n",
    "client = OpenAI()\n",
    "\n",
    "\n",
    "def get_embedding(text):\n",
    "    \"\"\"Returns a text embedding for the given text\"\"\"\n",
    "    return client.embeddings.create(\n",
    "        input=text,\n",
    "        model=\"text-embedding-3-small\",\n",
    "    ).data[0].embedding"
   ]
  },
  {
   "cell_type": "code",
   "execution_count": 4,
   "metadata": {},
   "outputs": [
    {
     "name": "stderr",
     "output_type": "stream",
     "text": [
      "100%|██████████| 115/115 [00:41<00:00,  2.76it/s]\n"
     ]
    }
   ],
   "source": [
    "from tqdm import tqdm\n",
    "\n",
    "for doc in tqdm(documents):\n",
    "    doc[\"embedding_question\"] = get_embedding(doc[\"RFP_Question\"])\n",
    "    doc[\"embedding_answer\"] = get_embedding(doc[\"RFP_Answer\"])"
   ]
  },
  {
   "cell_type": "markdown",
   "metadata": {},
   "source": [
    "#### Setup Vector DB"
   ]
  },
  {
   "cell_type": "code",
   "execution_count": 5,
   "metadata": {},
   "outputs": [],
   "source": [
    "from qdrant_client import QdrantClient\n",
    "\n",
    "qdrant = QdrantClient(\":memory:\")"
   ]
  },
  {
   "cell_type": "markdown",
   "metadata": {},
   "source": [
    "#### Insert embeddings and questions into Vector DB"
   ]
  },
  {
   "cell_type": "code",
   "execution_count": 6,
   "metadata": {},
   "outputs": [
    {
     "data": {
      "text/plain": [
       "UpdateResult(operation_id=0, status=<UpdateStatus.COMPLETED: 'completed'>)"
      ]
     },
     "execution_count": 6,
     "metadata": {},
     "output_type": "execute_result"
    }
   ],
   "source": [
    "from qdrant_client.models import Distance, PointStruct, VectorParams\n",
    "\n",
    "qdrant.recreate_collection(\n",
    "    \"my_rag_collection\",\n",
    "    vectors_config=VectorParams(size=1536, distance=Distance.COSINE),\n",
    ")\n",
    "\n",
    "qdrant.upsert(\n",
    "    \"my_rag_collection\",\n",
    "    points=[\n",
    "        PointStruct(\n",
    "            id=doc[\"id\"],\n",
    "            vector=doc[\"embedding_question\"],\n",
    "            payload={\n",
    "                k: v\n",
    "                for k, v in doc.items()\n",
    "                if k not in [\"embedding_question\", \"embedding_answer\"]\n",
    "            },\n",
    "        )\n",
    "        for doc in documents\n",
    "    ],\n",
    ")"
   ]
  },
  {
   "cell_type": "markdown",
   "metadata": {},
   "source": [
    "#### Load the new questions"
   ]
  },
  {
   "cell_type": "code",
   "execution_count": 7,
   "metadata": {},
   "outputs": [],
   "source": [
    "# load new questions from `rfp_new_questions_client_100.csv`\n",
    "new_questions = []\n",
    "root_dir = \"datasets/rag/\"\n",
    "for file in os.listdir(root_dir):\n",
    "    if file.startswith(\"rfp_new_questions_\") and file.endswith(\".csv\"):\n",
    "        # use csv dict reader to load the csv file\n",
    "        with open(os.path.join(root_dir, file)) as f:\n",
    "            reader = DictReader(f)\n",
    "            for row in reader:\n",
    "                # add a unique id to the row\n",
    "                row[\"id\"] = str(uuid4())\n",
    "                new_questions.append(row)"
   ]
  },
  {
   "cell_type": "markdown",
   "metadata": {},
   "source": [
    "#### Create `query` function for Vector DB"
   ]
  },
  {
   "cell_type": "code",
   "execution_count": 8,
   "metadata": {},
   "outputs": [],
   "source": [
    "def query(question, limit=10, _print=True):\n",
    "    \"\"\"Returns the top 10 results for the given question. If _print is True, it will print the results.\"\"\"\n",
    "    response = qdrant.search(\n",
    "        \"my_rag_collection\",\n",
    "        query_vector=get_embedding(question),\n",
    "        limit=limit,\n",
    "    )\n",
    "\n",
    "    if _print:\n",
    "        print(f\"For the question:\\n\\\"{new_questions[0]['RFP_Question']}\\\"\\n\")\n",
    "        print(f\"Top 10 results are:\\n\")\n",
    "        for result in response:\n",
    "            print(f\"Score: {result.score} (higher is better)\")\n",
    "            print(f\"Question: {result.payload['RFP_Question']}\")\n",
    "            print(f\"Answer: {result.payload['RFP_Answer']}\\n\")\n",
    "\n",
    "    return response"
   ]
  },
  {
   "cell_type": "markdown",
   "metadata": {},
   "source": [
    "#### Test the `query` function"
   ]
  },
  {
   "cell_type": "code",
   "execution_count": 9,
   "metadata": {},
   "outputs": [
    {
     "name": "stdout",
     "output_type": "stream",
     "text": [
      "For the question:\n",
      "\"What is your experience in developing AI-based applications, and can you provide examples of successful projects?\"\n",
      "\n",
      "Top 10 results are:\n",
      "\n",
      "Score: 1.0000000746149829 (higher is better)\n",
      "Question: What is your experience in developing AI-based applications, and can you provide examples of successful projects?\n",
      "Answer: Our company has 15 years of experience in developing AI-based applications, with a strong portfolio in sectors such as healthcare, finance, and education. For instance, our project MediAI Insight for the healthcare industry demonstrated significant achievements in patient data analysis, resulting in a 30% reduction in diagnostic errors and a 40% improvement in treatment personalization. Our platform has engaged over 200 healthcare facilities, achieving a user satisfaction rate of 95%.\n",
      "\n",
      "Score: 0.8830255102278877 (higher is better)\n",
      "Question: Please share your experience with developing AI-enabled applications and provide examples of notable projects.\n",
      "Answer: Our company has 15 years of experience in developing AI-based applications, with a strong portfolio in sectors such as healthcare, finance, and education. For instance, our project MediAI Insight for the healthcare industry demonstrated significant achievements in patient data analysis, resulting in a 30% reduction in diagnostic errors and a 40% improvement in treatment personalization. Our platform has engaged over 200 healthcare facilities, achieving a user satisfaction rate of 95%.\n",
      "\n",
      "Score: 0.8679160221815734 (higher is better)\n",
      "Question: Can you discuss your expertise in creating AI-driven applications and share examples of your successful implementations?\n",
      "Answer: Our company has 15 years of experience in developing AI-based applications, with a strong portfolio in sectors such as healthcare, finance, and education. For instance, our project MediAI Insight for the healthcare industry demonstrated significant achievements in patient data analysis, resulting in a 30% reduction in diagnostic errors and a 40% improvement in treatment personalization. Our platform has engaged over 200 healthcare facilities, achieving a user satisfaction rate of 95%.\n",
      "\n",
      "Score: 0.8535269747732491 (higher is better)\n",
      "Question: What is your track record in developing AI-powered applications, and could you cite some examples of your achievements in this area?\n",
      "Answer: Our company has 15 years of experience in developing AI-based applications, with a strong portfolio in sectors such as healthcare, finance, and education. For instance, our project MediAI Insight for the healthcare industry demonstrated significant achievements in patient data analysis, resulting in a 30% reduction in diagnostic errors and a 40% improvement in treatment personalization. Our platform has engaged over 200 healthcare facilities, achieving a user satisfaction rate of 95%.\n",
      "\n",
      "Score: 0.8205979957053866 (higher is better)\n",
      "Question: What expertise do you have in creating applications based on artificial intelligence, and can you list some key projects?\n",
      "Answer: Our company has 15 years of experience in developing AI-based applications, with a strong portfolio in sectors such as healthcare, finance, and education. For instance, our project MediAI Insight for the healthcare industry demonstrated significant achievements in patient data analysis, resulting in a 30% reduction in diagnostic errors and a 40% improvement in treatment personalization. Our platform has engaged over 200 healthcare facilities, achieving a user satisfaction rate of 95%.\n",
      "\n",
      "Score: 0.633924207274328 (higher is better)\n",
      "Question: What strategies do you employ to update your AI applications with the most recent developments in AI technology?\n",
      "Answer: We maintain a dedicated R&D team focused on integrating the latest AI advancements into our applications. This includes regular updates and feature enhancements based on cutting-edge technologies such as GPT (Generative Pre-trained Transformer) for natural language understanding, CNNs (Convolutional Neural Networks) for advanced image recognition tasks, and DQN (Deep Q-Networks) for decision-making processes in complex environments. Our commitment to these AI methodologies ensures that our applications remain innovative, with capabilities that adapt to evolving market demands and client needs. This approach has enabled us to enhance the predictive accuracy of our financial forecasting tools by 25% and improve the efficiency of our educational content personalization by 40%\n",
      "\n",
      "Score: 0.6302679296569704 (higher is better)\n",
      "Question: How do you maintain your AI applications with the newest AI technologies and advancements?\n",
      "Answer: We maintain a dedicated R&D team focused on integrating the latest AI advancements into our applications. This includes regular updates and feature enhancements based on cutting-edge technologies such as GPT (Generative Pre-trained Transformer) for natural language understanding, CNNs (Convolutional Neural Networks) for advanced image recognition tasks, and DQN (Deep Q-Networks) for decision-making processes in complex environments. Our commitment to these AI methodologies ensures that our applications remain innovative, with capabilities that adapt to evolving market demands and client needs. This approach has enabled us to enhance the predictive accuracy of our financial forecasting tools by 25% and improve the efficiency of our educational content personalization by 40%\n",
      "\n",
      "Score: 0.6242303658305479 (higher is better)\n",
      "Question: How do you evaluate the success of your AI applications in fulfilling client goals?\n",
      "Answer: Success measurement is tailored to each project's objectives. We establish key performance indicators (KPIs) in collaboration with our clients, such as user engagement rates, efficiency improvements, or return on investment (ROI). We then regularly review these metrics using advanced analytics platforms and business intelligence tools to assess the app’s impact. Our approach includes monthly performance analysis meetings where we provide detailed reports and insights on metrics like session duration, user retention rates, and cost savings achieved through automation. We also implement A/B testing to continuously refine and optimize the application based on real-world usage data, ensuring that we make data-driven improvements that align closely with our clients' strategic goals.\n",
      "\n",
      "Score: 0.6186012745612031 (higher is better)\n",
      "Question: How do you assess the effectiveness and success of your AI applications in meeting client goals?\n",
      "Answer: Success measurement is tailored to each project's objectives. We establish key performance indicators (KPIs) in collaboration with our clients, such as user engagement rates, efficiency improvements, or return on investment (ROI). We then regularly review these metrics using advanced analytics platforms and business intelligence tools to assess the app’s impact. Our approach includes monthly performance analysis meetings where we provide detailed reports and insights on metrics like session duration, user retention rates, and cost savings achieved through automation. We also implement A/B testing to continuously refine and optimize the application based on real-world usage data, ensuring that we make data-driven improvements that align closely with our clients' strategic goals.\n",
      "\n",
      "Score: 0.6184131629085756 (higher is better)\n",
      "Question: How do you keep your AI applications current with ongoing advancements in artificial intelligence?\n",
      "Answer: We maintain a dedicated R&D team focused on integrating the latest AI advancements into our applications. This includes regular updates and feature enhancements based on cutting-edge technologies such as GPT (Generative Pre-trained Transformer) for natural language understanding, CNNs (Convolutional Neural Networks) for advanced image recognition tasks, and DQN (Deep Q-Networks) for decision-making processes in complex environments. Our commitment to these AI methodologies ensures that our applications remain innovative, with capabilities that adapt to evolving market demands and client needs. This approach has enabled us to enhance the predictive accuracy of our financial forecasting tools by 25% and improve the efficiency of our educational content personalization by 40%\n",
      "\n"
     ]
    }
   ],
   "source": [
    "response = query(new_questions[0][\"RFP_Question\"])"
   ]
  },
  {
   "cell_type": "code",
   "execution_count": null,
   "metadata": {},
   "outputs": [
    {
     "name": "stdout",
     "output_type": "stream",
     "text": [
      "For the question:\n",
      "\"What is your experience in developing AI-based applications, and can you provide examples of successful projects?\"\n",
      "\n",
      "Top 10 results are:\n",
      "\n",
      "Score: 1.0000000746149829 (higher is better)\n",
      "Question: What is your experience in developing AI-based applications, and can you provide examples of successful projects?\n",
      "Answer: Our company has 15 years of experience in developing AI-based applications, with a strong portfolio in sectors such as healthcare, finance, and education. For instance, our project MediAI Insight for the healthcare industry demonstrated significant achievements in patient data analysis, resulting in a 30% reduction in diagnostic errors and a 40% improvement in treatment personalization. Our platform has engaged over 200 healthcare facilities, achieving a user satisfaction rate of 95%.\n",
      "\n",
      "Score: 0.8830255102278877 (higher is better)\n",
      "Question: Please share your experience with developing AI-enabled applications and provide examples of notable projects.\n",
      "Answer: Our company has 15 years of experience in developing AI-based applications, with a strong portfolio in sectors such as healthcare, finance, and education. For instance, our project MediAI Insight for the healthcare industry demonstrated significant achievements in patient data analysis, resulting in a 30% reduction in diagnostic errors and a 40% improvement in treatment personalization. Our platform has engaged over 200 healthcare facilities, achieving a user satisfaction rate of 95%.\n",
      "\n",
      "Score: 0.8679160221815734 (higher is better)\n",
      "Question: Can you discuss your expertise in creating AI-driven applications and share examples of your successful implementations?\n",
      "Answer: Our company has 15 years of experience in developing AI-based applications, with a strong portfolio in sectors such as healthcare, finance, and education. For instance, our project MediAI Insight for the healthcare industry demonstrated significant achievements in patient data analysis, resulting in a 30% reduction in diagnostic errors and a 40% improvement in treatment personalization. Our platform has engaged over 200 healthcare facilities, achieving a user satisfaction rate of 95%.\n",
      "\n",
      "Score: 0.8535269747732491 (higher is better)\n",
      "Question: What is your track record in developing AI-powered applications, and could you cite some examples of your achievements in this area?\n",
      "Answer: Our company has 15 years of experience in developing AI-based applications, with a strong portfolio in sectors such as healthcare, finance, and education. For instance, our project MediAI Insight for the healthcare industry demonstrated significant achievements in patient data analysis, resulting in a 30% reduction in diagnostic errors and a 40% improvement in treatment personalization. Our platform has engaged over 200 healthcare facilities, achieving a user satisfaction rate of 95%.\n",
      "\n",
      "Score: 0.8205979957053866 (higher is better)\n",
      "Question: What expertise do you have in creating applications based on artificial intelligence, and can you list some key projects?\n",
      "Answer: Our company has 15 years of experience in developing AI-based applications, with a strong portfolio in sectors such as healthcare, finance, and education. For instance, our project MediAI Insight for the healthcare industry demonstrated significant achievements in patient data analysis, resulting in a 30% reduction in diagnostic errors and a 40% improvement in treatment personalization. Our platform has engaged over 200 healthcare facilities, achieving a user satisfaction rate of 95%.\n",
      "\n",
      "Score: 0.633924207274328 (higher is better)\n",
      "Question: What strategies do you employ to update your AI applications with the most recent developments in AI technology?\n",
      "Answer: We maintain a dedicated R&D team focused on integrating the latest AI advancements into our applications. This includes regular updates and feature enhancements based on cutting-edge technologies such as GPT (Generative Pre-trained Transformer) for natural language understanding, CNNs (Convolutional Neural Networks) for advanced image recognition tasks, and DQN (Deep Q-Networks) for decision-making processes in complex environments. Our commitment to these AI methodologies ensures that our applications remain innovative, with capabilities that adapt to evolving market demands and client needs. This approach has enabled us to enhance the predictive accuracy of our financial forecasting tools by 25% and improve the efficiency of our educational content personalization by 40%\n",
      "\n",
      "Score: 0.6302679296569704 (higher is better)\n",
      "Question: How do you maintain your AI applications with the newest AI technologies and advancements?\n",
      "Answer: We maintain a dedicated R&D team focused on integrating the latest AI advancements into our applications. This includes regular updates and feature enhancements based on cutting-edge technologies such as GPT (Generative Pre-trained Transformer) for natural language understanding, CNNs (Convolutional Neural Networks) for advanced image recognition tasks, and DQN (Deep Q-Networks) for decision-making processes in complex environments. Our commitment to these AI methodologies ensures that our applications remain innovative, with capabilities that adapt to evolving market demands and client needs. This approach has enabled us to enhance the predictive accuracy of our financial forecasting tools by 25% and improve the efficiency of our educational content personalization by 40%\n",
      "\n",
      "Score: 0.6242303658305479 (higher is better)\n",
      "Question: How do you evaluate the success of your AI applications in fulfilling client goals?\n",
      "Answer: Success measurement is tailored to each project's objectives. We establish key performance indicators (KPIs) in collaboration with our clients, such as user engagement rates, efficiency improvements, or return on investment (ROI). We then regularly review these metrics using advanced analytics platforms and business intelligence tools to assess the app’s impact. Our approach includes monthly performance analysis meetings where we provide detailed reports and insights on metrics like session duration, user retention rates, and cost savings achieved through automation. We also implement A/B testing to continuously refine and optimize the application based on real-world usage data, ensuring that we make data-driven improvements that align closely with our clients' strategic goals.\n",
      "\n",
      "Score: 0.6186012745612031 (higher is better)\n",
      "Question: How do you assess the effectiveness and success of your AI applications in meeting client goals?\n",
      "Answer: Success measurement is tailored to each project's objectives. We establish key performance indicators (KPIs) in collaboration with our clients, such as user engagement rates, efficiency improvements, or return on investment (ROI). We then regularly review these metrics using advanced analytics platforms and business intelligence tools to assess the app’s impact. Our approach includes monthly performance analysis meetings where we provide detailed reports and insights on metrics like session duration, user retention rates, and cost savings achieved through automation. We also implement A/B testing to continuously refine and optimize the application based on real-world usage data, ensuring that we make data-driven improvements that align closely with our clients' strategic goals.\n",
      "\n",
      "Score: 0.6184131629085756 (higher is better)\n",
      "Question: How do you keep your AI applications current with ongoing advancements in artificial intelligence?\n",
      "Answer: We maintain a dedicated R&D team focused on integrating the latest AI advancements into our applications. This includes regular updates and feature enhancements based on cutting-edge technologies such as GPT (Generative Pre-trained Transformer) for natural language understanding, CNNs (Convolutional Neural Networks) for advanced image recognition tasks, and DQN (Deep Q-Networks) for decision-making processes in complex environments. Our commitment to these AI methodologies ensures that our applications remain innovative, with capabilities that adapt to evolving market demands and client needs. This approach has enabled us to enhance the predictive accuracy of our financial forecasting tools by 25% and improve the efficiency of our educational content personalization by 40%\n",
      "\n"
     ]
    }
   ],
   "source": [
    "response = query(new_questions[0][\"RFP_Question\"])"
   ]
  },
  {
   "cell_type": "markdown",
   "metadata": {},
   "source": [
    "#### Setup Pipeline that takes question, queries Vector DB and generates an answer with LLM"
   ]
  },
  {
   "cell_type": "code",
   "execution_count": 10,
   "metadata": {},
   "outputs": [],
   "source": [
    "system_prompt = \"\"\"\n",
    "You are an expert RFP AI assistant.\n",
    "You are tasked with answering new RFP questions based on existing RFP questions and answers.\n",
    "You will be provided with the existing RFP questions and answer pairs that are the most relevant to the new RFP question.\n",
    "After that you will be provided with a new RFP question.\n",
    "You will generate an answer and respond only with the answer.\n",
    "\"\"\".strip()\n",
    "\n",
    "\n",
    "def generate_answer(question):\n",
    "    \"\"\"Generates an answer for the given question using RAG and an LLM.\"\"\"\n",
    "    context = \"\"\n",
    "    results = query(new_questions[0][\"RFP_Question\"], _print=False)\n",
    "    for result in results:\n",
    "        context += f\"Q: {result.payload['RFP_Question']}\\nA: {result.payload['RFP_Answer']}\"\n",
    "        context += f\"Project: {result.payload['Project_Title']}\\n\\n\"\n",
    "\n",
    "    print(f\"For Question: \\\"{question}\\\"\\n\")\n",
    "    print(f\"Context:\\n```\\n{context}```\\n\")\n",
    "\n",
    "    response = client.chat.completions.create(\n",
    "        model=\"gpt-3.5-turbo\",\n",
    "        messages=[\n",
    "            {\"role\": \"system\", \"content\": system_prompt},\n",
    "            {\"role\": \"user\", \"content\": context},\n",
    "            {\"role\": \"user\", \"content\": question},\n",
    "        ],\n",
    "    )\n",
    "\n",
    "    answer = response.choices[0].message.content\n",
    "\n",
    "    print(f\"Answer:\\n{answer}\")\n",
    "\n",
    "    return answer"
   ]
  },
  {
   "cell_type": "markdown",
   "metadata": {},
   "source": [
    "#### Test Pipeline"
   ]
  },
  {
   "cell_type": "code",
   "execution_count": 11,
   "metadata": {},
   "outputs": [
    {
     "name": "stdout",
     "output_type": "stream",
     "text": [
      "For Question: \"What is your experience in developing AI-based applications, and can you provide examples of successful projects?\"\n",
      "\n",
      "Context:\n",
      "```\n",
      "Q: What is your experience in developing AI-based applications, and can you provide examples of successful projects?\n",
      "A: Our company has 15 years of experience in developing AI-based applications, with a strong portfolio in sectors such as healthcare, finance, and education. For instance, our project MediAI Insight for the healthcare industry demonstrated significant achievements in patient data analysis, resulting in a 30% reduction in diagnostic errors and a 40% improvement in treatment personalization. Our platform has engaged over 200 healthcare facilities, achieving a user satisfaction rate of 95%.Project: Gen AI-Driven Financial Advisory System\n",
      "\n",
      "Q: Please share your experience with developing AI-enabled applications and provide examples of notable projects.\n",
      "A: Our company has 15 years of experience in developing AI-based applications, with a strong portfolio in sectors such as healthcare, finance, and education. For instance, our project MediAI Insight for the healthcare industry demonstrated significant achievements in patient data analysis, resulting in a 30% reduction in diagnostic errors and a 40% improvement in treatment personalization. Our platform has engaged over 200 healthcare facilities, achieving a user satisfaction rate of 95%.Project: Generative AI Solutions for Fraud Detection and Financial Security\n",
      "\n",
      "\n",
      "Q: Can you discuss your expertise in creating AI-driven applications and share examples of your successful implementations?\n",
      "A: Our company has 15 years of experience in developing AI-based applications, with a strong portfolio in sectors such as healthcare, finance, and education. For instance, our project MediAI Insight for the healthcare industry demonstrated significant achievements in patient data analysis, resulting in a 30% reduction in diagnostic errors and a 40% improvement in treatment personalization. Our platform has engaged over 200 healthcare facilities, achieving a user satisfaction rate of 95%.Project: AI-Powered Risk Assessment Model Development for Loan Processing\n",
      "\n",
      "Q: What is your track record in developing AI-powered applications, and could you cite some examples of your achievements in this area?\n",
      "A: Our company has 15 years of experience in developing AI-based applications, with a strong portfolio in sectors such as healthcare, finance, and education. For instance, our project MediAI Insight for the healthcare industry demonstrated significant achievements in patient data analysis, resulting in a 30% reduction in diagnostic errors and a 40% improvement in treatment personalization. Our platform has engaged over 200 healthcare facilities, achieving a user satisfaction rate of 95%.Project: Implementation of AI Chatbots for Enhanced Customer Service\n",
      "\n",
      "\n",
      "Q: What expertise do you have in creating applications based on artificial intelligence, and can you list some key projects?\n",
      "A: Our company has 15 years of experience in developing AI-based applications, with a strong portfolio in sectors such as healthcare, finance, and education. For instance, our project MediAI Insight for the healthcare industry demonstrated significant achievements in patient data analysis, resulting in a 30% reduction in diagnostic errors and a 40% improvement in treatment personalization. Our platform has engaged over 200 healthcare facilities, achieving a user satisfaction rate of 95%.Project: Automated Document Processing System Using AI for Compliance and Reporting\n",
      "\n",
      "\n",
      "Q: What strategies do you employ to update your AI applications with the most recent developments in AI technology?\n",
      "A: We maintain a dedicated R&D team focused on integrating the latest AI advancements into our applications. This includes regular updates and feature enhancements based on cutting-edge technologies such as GPT (Generative Pre-trained Transformer) for natural language understanding, CNNs (Convolutional Neural Networks) for advanced image recognition tasks, and DQN (Deep Q-Networks) for decision-making processes in complex environments. Our commitment to these AI methodologies ensures that our applications remain innovative, with capabilities that adapt to evolving market demands and client needs. This approach has enabled us to enhance the predictive accuracy of our financial forecasting tools by 25% and improve the efficiency of our educational content personalization by 40%Project: Implementation of AI Chatbots for Enhanced Customer Service\n",
      "\n",
      "\n",
      "Q: How do you maintain your AI applications with the newest AI technologies and advancements?\n",
      "A: We maintain a dedicated R&D team focused on integrating the latest AI advancements into our applications. This includes regular updates and feature enhancements based on cutting-edge technologies such as GPT (Generative Pre-trained Transformer) for natural language understanding, CNNs (Convolutional Neural Networks) for advanced image recognition tasks, and DQN (Deep Q-Networks) for decision-making processes in complex environments. Our commitment to these AI methodologies ensures that our applications remain innovative, with capabilities that adapt to evolving market demands and client needs. This approach has enabled us to enhance the predictive accuracy of our financial forecasting tools by 25% and improve the efficiency of our educational content personalization by 40%Project: Generative AI Solutions for Fraud Detection and Financial Security\n",
      "\n",
      "\n",
      "Q: How do you evaluate the success of your AI applications in fulfilling client goals?\n",
      "A: Success measurement is tailored to each project's objectives. We establish key performance indicators (KPIs) in collaboration with our clients, such as user engagement rates, efficiency improvements, or return on investment (ROI). We then regularly review these metrics using advanced analytics platforms and business intelligence tools to assess the app’s impact. Our approach includes monthly performance analysis meetings where we provide detailed reports and insights on metrics like session duration, user retention rates, and cost savings achieved through automation. We also implement A/B testing to continuously refine and optimize the application based on real-world usage data, ensuring that we make data-driven improvements that align closely with our clients' strategic goals.Project: Generative AI Solutions for Fraud Detection and Financial Security\n",
      "\n",
      "\n",
      "Q: How do you assess the effectiveness and success of your AI applications in meeting client goals?\n",
      "A: Success measurement is tailored to each project's objectives. We establish key performance indicators (KPIs) in collaboration with our clients, such as user engagement rates, efficiency improvements, or return on investment (ROI). We then regularly review these metrics using advanced analytics platforms and business intelligence tools to assess the app’s impact. Our approach includes monthly performance analysis meetings where we provide detailed reports and insights on metrics like session duration, user retention rates, and cost savings achieved through automation. We also implement A/B testing to continuously refine and optimize the application based on real-world usage data, ensuring that we make data-driven improvements that align closely with our clients' strategic goals.Project: Implementation of AI Chatbots for Enhanced Customer Service\n",
      "\n",
      "\n",
      "Q: How do you keep your AI applications current with ongoing advancements in artificial intelligence?\n",
      "A: We maintain a dedicated R&D team focused on integrating the latest AI advancements into our applications. This includes regular updates and feature enhancements based on cutting-edge technologies such as GPT (Generative Pre-trained Transformer) for natural language understanding, CNNs (Convolutional Neural Networks) for advanced image recognition tasks, and DQN (Deep Q-Networks) for decision-making processes in complex environments. Our commitment to these AI methodologies ensures that our applications remain innovative, with capabilities that adapt to evolving market demands and client needs. This approach has enabled us to enhance the predictive accuracy of our financial forecasting tools by 25% and improve the efficiency of our educational content personalization by 40%Project: AI-Powered Risk Assessment Model Development for Loan Processing\n",
      "\n",
      "```\n",
      "\n",
      "Answer:\n",
      "Our company has 15 years of experience in developing AI-based applications, with a strong portfolio in sectors such as healthcare, finance, and education. For instance, our project MediAI Insight for the healthcare industry demonstrated significant achievements in patient data analysis, resulting in a 30% reduction in diagnostic errors and a 40% improvement in treatment personalization. Our platform has engaged over 200 healthcare facilities, achieving a user satisfaction rate of 95%. Project: Gen AI-Driven Financial Advisory System\n"
     ]
    }
   ],
   "source": [
    "answer = generate_answer(new_questions[0][\"RFP_Question\"])"
   ]
  }
 ],
 "metadata": {
  "kernelspec": {
   "display_name": "validmind-mI3jzOkk-py3.11",
   "language": "python",
   "name": "python3"
  },
  "language_info": {
   "codemirror_mode": {
    "name": "ipython",
    "version": 3
   },
   "file_extension": ".py",
   "mimetype": "text/x-python",
   "name": "python",
   "nbconvert_exporter": "python",
   "pygments_lexer": "ipython3",
   "version": "3.11.9"
  }
 },
 "nbformat": 4,
 "nbformat_minor": 2
}
