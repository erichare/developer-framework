{
 "cells": [
  {
   "cell_type": "markdown",
   "metadata": {},
   "source": [
    "# RAG for RFP Q&A Demo"
   ]
  },
  {
   "cell_type": "markdown",
   "metadata": {},
   "source": [
    "## Notebook setup"
   ]
  },
  {
   "cell_type": "code",
   "execution_count": 1,
   "metadata": {},
   "outputs": [
    {
     "name": "stdout",
     "output_type": "stream",
     "text": [
      "\n",
      "\u001b[1m[\u001b[0m\u001b[34;49mnotice\u001b[0m\u001b[1;39;49m]\u001b[0m\u001b[39;49m A new release of pip is available: \u001b[0m\u001b[31;49m23.1.2\u001b[0m\u001b[39;49m -> \u001b[0m\u001b[32;49m24.0\u001b[0m\n",
      "\u001b[1m[\u001b[0m\u001b[34;49mnotice\u001b[0m\u001b[1;39;49m]\u001b[0m\u001b[39;49m To update, run: \u001b[0m\u001b[32;49mpip install --upgrade pip\u001b[0m\n",
      "Note: you may need to restart the kernel to use updated packages.\n"
     ]
    }
   ],
   "source": [
    "%pip install -qU langchain langchain-openai langchain-cohere"
   ]
  },
  {
   "cell_type": "code",
   "execution_count": 2,
   "metadata": {},
   "outputs": [
    {
     "name": "stdout",
     "output_type": "stream",
     "text": [
      "\n",
      "\u001b[1m[\u001b[0m\u001b[34;49mnotice\u001b[0m\u001b[1;39;49m]\u001b[0m\u001b[39;49m A new release of pip is available: \u001b[0m\u001b[31;49m23.1.2\u001b[0m\u001b[39;49m -> \u001b[0m\u001b[32;49m24.0\u001b[0m\n",
      "\u001b[1m[\u001b[0m\u001b[34;49mnotice\u001b[0m\u001b[1;39;49m]\u001b[0m\u001b[39;49m To update, run: \u001b[0m\u001b[32;49mpip install --upgrade pip\u001b[0m\n",
      "Note: you may need to restart the kernel to use updated packages.\n"
     ]
    }
   ],
   "source": [
    "%pip install -qU qdrant-client lark"
   ]
  },
  {
   "cell_type": "code",
   "execution_count": 3,
   "metadata": {},
   "outputs": [],
   "source": [
    "import os\n",
    "\n",
    "import dotenv\n",
    "\n",
    "dotenv.load_dotenv()\n",
    "\n",
    "if os.getenv(\"OPENAI_API_KEY\") is None:\n",
    "    raise Exception(\"OPENAI_API_KEY not found\")"
   ]
  },
  {
   "cell_type": "markdown",
   "metadata": {},
   "source": [
    "## Data preparation"
   ]
  },
  {
   "cell_type": "markdown",
   "metadata": {},
   "source": [
    "### Load documents "
   ]
  },
  {
   "cell_type": "code",
   "execution_count": 4,
   "metadata": {},
   "outputs": [],
   "source": [
    "from langchain_community.document_loaders.csv_loader import CSVLoader\n",
    "\n",
    "# List of CSV file paths\n",
    "rfp_file_paths = [\n",
    "    \"datasets/rfp_genai_app_vendor_ID1.csv\",\n",
    "    \"datasets/rfp_genai_app_vendor_ID2.csv\",\n",
    "    \"datasets/rfp_genai_app_vendor_ID3.csv\",\n",
    "    \"datasets/rfp_genai_app_vendor_ID4.csv\",\n",
    "    \"datasets/rfp_genai_app_vendor_ID5.csv\"\n",
    "]\n",
    "\n",
    "documents = []\n",
    "\n",
    "# Iterate through each file path in the list\n",
    "for file_path in rfp_file_paths:\n",
    "    loader = CSVLoader(\n",
    "        file_path=file_path,\n",
    "        metadata_columns=[\"Area\", \"Project_Title\", \"Last_Accessed_At\", \"Requester\", \"Status\"]\n",
    "    )\n",
    "\n",
    "    # Load a document from the current CSV file\n",
    "    doc = loader.load()\n",
    "    \n",
    "    # Append documents\n",
    "    documents.extend(doc)"
   ]
  },
  {
   "cell_type": "markdown",
   "metadata": {},
   "source": [
    "See the documents loaded: "
   ]
  },
  {
   "cell_type": "code",
   "execution_count": 5,
   "metadata": {},
   "outputs": [
    {
     "data": {
      "text/plain": [
       "[Document(page_content='Question: What is your experience in developing AI-based applications, and can you provide examples of successful projects?\\nAnswer: Our company has 15 years of experience in developing AI-based applications, with a strong portfolio in sectors such as healthcare, finance, and education. For instance, our project MediAI Insight for the healthcare industry demonstrated significant achievements in patient data analysis, resulting in a 30% reduction in diagnostic errors and a 40% improvement in treatment personalization. Our platform has engaged over 200 healthcare facilities, achieving a user satisfaction rate of 95%.', metadata={'source': 'datasets/rfp_genai_app_vendor_ID1.csv', 'row': 0, 'Area': 'General', 'Project_Title': 'Gen AI-Driven Financial Advisory System', 'Last_Accessed_At': '18/12/2023', 'Requester': 'Bank A', 'Status': 'Under Review'}),\n",
       " Document(page_content='Question: How do you ensure your AI-based apps remain up-to-date with the latest AI advancements and technologies?\\nAnswer: We maintain a dedicated R&D team focused on integrating the latest AI advancements into our applications. This includes regular updates and feature enhancements based on cutting-edge technologies such as GPT (Generative Pre-trained Transformer) for natural language understanding, CNNs (Convolutional Neural Networks) for advanced image recognition tasks, and DQN (Deep Q-Networks) for decision-making processes in complex environments. Our commitment to these AI methodologies ensures that our applications remain innovative, with capabilities that adapt to evolving market demands and client needs. This approach has enabled us to enhance the predictive accuracy of our financial forecasting tools by 25% and improve the efficiency of our educational content personalization by 40%', metadata={'source': 'datasets/rfp_genai_app_vendor_ID1.csv', 'row': 1, 'Area': 'General', 'Project_Title': 'Gen AI-Driven Financial Advisory System', 'Last_Accessed_At': '18/12/2023', 'Requester': 'Bank A', 'Status': 'Under Review'}),\n",
       " Document(page_content='Question: Can your AI-based applications be customized to meet specific user or business needs?\\nAnswer: Absolutely, customization is a core aspect of our offering. We work closely with clients to understand their specific needs and tailor our AI algorithms and app functionalities accordingly, using technologies such as TensorFlow for machine learning models, React for responsive UI/UX designs, and Kubernetes for scalable cloud deployment. This personalized approach allows us to optimize AI functionalities to match unique business processes, enhancing user experience and operational efficiency for each client. For example, for a retail client, we customized our recommendation engine to increase customer retention by 20% through more accurate and personalized product suggestions.', metadata={'source': 'datasets/rfp_genai_app_vendor_ID1.csv', 'row': 2, 'Area': 'General', 'Project_Title': 'Gen AI-Driven Financial Advisory System', 'Last_Accessed_At': '18/12/2023', 'Requester': 'Bank A', 'Status': 'Under Review'}),\n",
       " Document(page_content='Question: What measures do you take to ensure user privacy and data security in your AI-based apps?\\nAnswer: User privacy and data security are paramount. We implement robust measures such as end-to-end encryption to secure data transmissions, anonymization techniques to protect user identities, and comprehensive compliance with data protection laws like GDPR and CCPA. We also employ regular security audits and vulnerability assessments to ensure our systems are impenetrable. Additionally, our deployment of advanced intrusion detection systems and the use of secure coding practices reinforce our commitment to safeguarding user data at all times', metadata={'source': 'datasets/rfp_genai_app_vendor_ID1.csv', 'row': 3, 'Area': 'General', 'Project_Title': 'Gen AI-Driven Financial Advisory System', 'Last_Accessed_At': '18/12/2023', 'Requester': 'Bank A', 'Status': 'Under Review'}),\n",
       " Document(page_content='Question: How do you approach user interface and experience design in AI-based apps to ensure ease of use and engagement?\\nAnswer: Our design philosophy centers on simplicity and intuitiveness. We conduct extensive user research and testing to inform our UI/UX designs, ensuring that our AI-based apps are accessible and engaging for all users, regardless of their technical expertise. This includes applying principles from human-centered design, utilizing accessibility guidelines such as WCAG 2.1, and conducting iterative testing with diverse user groups. Our commitment to inclusivity and usability leads to higher user adoption rates and satisfaction. For instance, feedback-driven enhancements in our visual design have improved user engagement by over 30% across our applications.', metadata={'source': 'datasets/rfp_genai_app_vendor_ID1.csv', 'row': 4, 'Area': 'General', 'Project_Title': 'Gen AI-Driven Financial Advisory System', 'Last_Accessed_At': '18/12/2023', 'Requester': 'Bank A', 'Status': 'Under Review'})]"
      ]
     },
     "execution_count": 5,
     "metadata": {},
     "output_type": "execute_result"
    }
   ],
   "source": [
    "documents[:5]"
   ]
  },
  {
   "cell_type": "markdown",
   "metadata": {},
   "source": [
    "Access the metadata:"
   ]
  },
  {
   "cell_type": "code",
   "execution_count": 6,
   "metadata": {},
   "outputs": [
    {
     "data": {
      "text/plain": [
       "{'source': 'datasets/rfp_genai_app_vendor_ID1.csv',\n",
       " 'row': 0,\n",
       " 'Area': 'General',\n",
       " 'Project_Title': 'Gen AI-Driven Financial Advisory System',\n",
       " 'Last_Accessed_At': '18/12/2023',\n",
       " 'Requester': 'Bank A',\n",
       " 'Status': 'Under Review'}"
      ]
     },
     "execution_count": 6,
     "metadata": {},
     "output_type": "execute_result"
    }
   ],
   "source": [
    "documents[0].metadata"
   ]
  },
  {
   "cell_type": "markdown",
   "metadata": {},
   "source": [
    "## Split the documents into chunks"
   ]
  },
  {
   "cell_type": "code",
   "execution_count": 7,
   "metadata": {},
   "outputs": [],
   "source": [
    "from langchain.text_splitter import RecursiveCharacterTextSplitter\n",
    "text_splitter = RecursiveCharacterTextSplitter(\n",
    "    chunk_size=500, chunk_overlap=10, add_start_index=True\n",
    ")\n",
    "splits = text_splitter.split_documents(documents)"
   ]
  },
  {
   "cell_type": "code",
   "execution_count": 15,
   "metadata": {},
   "outputs": [
    {
     "data": {
      "text/plain": [
       "[Document(page_content='Question: What is your experience in developing AI-based applications, and can you provide examples of successful projects?', metadata={'source': 'datasets/rfp_genai_app_vendor_ID1.csv', 'row': 0, 'Area': 'General', 'Project_Title': 'Gen AI-Driven Financial Advisory System', 'Last_Accessed_At': '18/12/2023', 'Requester': 'Bank A', 'Status': 'Under Review', 'start_index': 0}),\n",
       " Document(page_content='Answer: Our company has 15 years of experience in developing AI-based applications, with a strong portfolio in sectors such as healthcare, finance, and education. For instance, our project MediAI Insight for the healthcare industry demonstrated significant achievements in patient data analysis, resulting in a 30% reduction in diagnostic errors and a 40% improvement in treatment personalization. Our platform has engaged over 200 healthcare facilities, achieving a user satisfaction rate of 95%.', metadata={'source': 'datasets/rfp_genai_app_vendor_ID1.csv', 'row': 0, 'Area': 'General', 'Project_Title': 'Gen AI-Driven Financial Advisory System', 'Last_Accessed_At': '18/12/2023', 'Requester': 'Bank A', 'Status': 'Under Review', 'start_index': 124}),\n",
       " Document(page_content='Question: How do you ensure your AI-based apps remain up-to-date with the latest AI advancements and technologies?', metadata={'source': 'datasets/rfp_genai_app_vendor_ID1.csv', 'row': 1, 'Area': 'General', 'Project_Title': 'Gen AI-Driven Financial Advisory System', 'Last_Accessed_At': '18/12/2023', 'Requester': 'Bank A', 'Status': 'Under Review', 'start_index': 0}),\n",
       " Document(page_content='Answer: We maintain a dedicated R&D team focused on integrating the latest AI advancements into our applications. This includes regular updates and feature enhancements based on cutting-edge technologies such as GPT (Generative Pre-trained Transformer) for natural language understanding, CNNs (Convolutional Neural Networks) for advanced image recognition tasks, and DQN (Deep Q-Networks) for decision-making processes in complex environments. Our commitment to these AI methodologies ensures that', metadata={'source': 'datasets/rfp_genai_app_vendor_ID1.csv', 'row': 1, 'Area': 'General', 'Project_Title': 'Gen AI-Driven Financial Advisory System', 'Last_Accessed_At': '18/12/2023', 'Requester': 'Bank A', 'Status': 'Under Review', 'start_index': 115}),\n",
       " Document(page_content='that our applications remain innovative, with capabilities that adapt to evolving market demands and client needs. This approach has enabled us to enhance the predictive accuracy of our financial forecasting tools by 25% and improve the efficiency of our educational content personalization by 40%', metadata={'source': 'datasets/rfp_genai_app_vendor_ID1.csv', 'row': 1, 'Area': 'General', 'Project_Title': 'Gen AI-Driven Financial Advisory System', 'Last_Accessed_At': '18/12/2023', 'Requester': 'Bank A', 'Status': 'Under Review', 'start_index': 609}),\n",
       " Document(page_content='Question: Can your AI-based applications be customized to meet specific user or business needs?', metadata={'source': 'datasets/rfp_genai_app_vendor_ID1.csv', 'row': 2, 'Area': 'General', 'Project_Title': 'Gen AI-Driven Financial Advisory System', 'Last_Accessed_At': '18/12/2023', 'Requester': 'Bank A', 'Status': 'Under Review', 'start_index': 0}),\n",
       " Document(page_content='Answer: Absolutely, customization is a core aspect of our offering. We work closely with clients to understand their specific needs and tailor our AI algorithms and app functionalities accordingly, using technologies such as TensorFlow for machine learning models, React for responsive UI/UX designs, and Kubernetes for scalable cloud deployment. This personalized approach allows us to optimize AI functionalities to match unique business processes, enhancing user experience and operational', metadata={'source': 'datasets/rfp_genai_app_vendor_ID1.csv', 'row': 2, 'Area': 'General', 'Project_Title': 'Gen AI-Driven Financial Advisory System', 'Last_Accessed_At': '18/12/2023', 'Requester': 'Bank A', 'Status': 'Under Review', 'start_index': 96}),\n",
       " Document(page_content='efficiency for each client. For example, for a retail client, we customized our recommendation engine to increase customer retention by 20% through more accurate and personalized product suggestions.', metadata={'source': 'datasets/rfp_genai_app_vendor_ID1.csv', 'row': 2, 'Area': 'General', 'Project_Title': 'Gen AI-Driven Financial Advisory System', 'Last_Accessed_At': '18/12/2023', 'Requester': 'Bank A', 'Status': 'Under Review', 'start_index': 589}),\n",
       " Document(page_content='Question: What measures do you take to ensure user privacy and data security in your AI-based apps?', metadata={'source': 'datasets/rfp_genai_app_vendor_ID1.csv', 'row': 3, 'Area': 'General', 'Project_Title': 'Gen AI-Driven Financial Advisory System', 'Last_Accessed_At': '18/12/2023', 'Requester': 'Bank A', 'Status': 'Under Review', 'start_index': 0}),\n",
       " Document(page_content='Answer: User privacy and data security are paramount. We implement robust measures such as end-to-end encryption to secure data transmissions, anonymization techniques to protect user identities, and comprehensive compliance with data protection laws like GDPR and CCPA. We also employ regular security audits and vulnerability assessments to ensure our systems are impenetrable. Additionally, our deployment of advanced intrusion detection systems and the use of secure coding practices reinforce', metadata={'source': 'datasets/rfp_genai_app_vendor_ID1.csv', 'row': 3, 'Area': 'General', 'Project_Title': 'Gen AI-Driven Financial Advisory System', 'Last_Accessed_At': '18/12/2023', 'Requester': 'Bank A', 'Status': 'Under Review', 'start_index': 100})]"
      ]
     },
     "execution_count": 15,
     "metadata": {},
     "output_type": "execute_result"
    }
   ],
   "source": [
    "splits[:10]"
   ]
  },
  {
   "cell_type": "markdown",
   "metadata": {},
   "source": [
    "## Store chunks into a vectorstore"
   ]
  },
  {
   "cell_type": "code",
   "execution_count": null,
   "metadata": {},
   "outputs": [],
   "source": [
    "from langchain.vectorstores.chroma import Chroma\n",
    "from langchain_openai import OpenAIEmbeddings\n",
    "\n",
    "embeddings_model = OpenAIEmbeddings(model=\"text-embedding-3-small\")\n",
    "\n",
    "vectorstore = Chroma(\n",
    "    collection_name=\"docs_store\",\n",
    "    embedding_function=embeddings_model,\n",
    "    persist_directory=\"docs-db\",\n",
    ")"
   ]
  },
  {
   "cell_type": "markdown",
   "metadata": {},
   "source": [
    "## Create new chunk IDs based on chunk metadata\n",
    "\n",
    "Expand the existing index to include the metadata fields. For this will define a hash function to create unique identifiers from existing split ids and metadata."
   ]
  },
  {
   "cell_type": "code",
   "execution_count": null,
   "metadata": {},
   "outputs": [],
   "source": [
    "splits[0].metadata"
   ]
  },
  {
   "cell_type": "code",
   "execution_count": null,
   "metadata": {},
   "outputs": [],
   "source": [
    "import hashlib\n",
    "import json\n",
    "from langchain_core.documents import Document\n",
    "\n",
    "def stable_hash_meta(doc: Document) -> str:\n",
    "    \"\"\"\n",
    "    Stable hash document based on its metadata. Assumes 'metadata' is always present.\n",
    "    \"\"\"\n",
    "    try:\n",
    "        metadata_json = json.dumps(doc.metadata, sort_keys=True)\n",
    "    except AttributeError:\n",
    "        raise ValueError(\"Document does not have metadata.\")\n",
    "    return hashlib.sha1(metadata_json.encode()).hexdigest()"
   ]
  },
  {
   "cell_type": "code",
   "execution_count": null,
   "metadata": {},
   "outputs": [],
   "source": [
    "splits_ids = [{\"doc\": split, \"id\": stable_hash_meta(split)} for split in splits]\n",
    "\n",
    "existing_ids = vectorstore.get()[\"ids\"]\n",
    "\n",
    "new_splits_ids = [split for split in splits_ids if split[\"id\"] not in existing_ids]\n"
   ]
  },
  {
   "cell_type": "markdown",
   "metadata": {},
   "source": [
    "\n",
    "vectorstore.add_documents(\n",
    "    documents=[split[\"doc\"] for split in new_splits_ids],\n",
    "    ids=[split[\"id\"] for split in new_splits_ids],\n",
    ")\n",
    "vectorstore.persist()"
   ]
  },
  {
   "cell_type": "markdown",
   "metadata": {},
   "source": [
    "## Create evaluation dataset"
   ]
  },
  {
   "cell_type": "code",
   "execution_count": null,
   "metadata": {},
   "outputs": [],
   "source": []
  },
  {
   "cell_type": "markdown",
   "metadata": {},
   "source": []
  },
  {
   "cell_type": "markdown",
   "metadata": {},
   "source": []
  },
  {
   "cell_type": "markdown",
   "metadata": {},
   "source": []
  },
  {
   "cell_type": "code",
   "execution_count": null,
   "metadata": {},
   "outputs": [],
   "source": [
    "naive_retriever = vectorstore.as_retriever(search_kwargs={\"k\" : 10})"
   ]
  },
  {
   "cell_type": "code",
   "execution_count": null,
   "metadata": {},
   "outputs": [],
   "source": [
    "from langchain_core.prompts import ChatPromptTemplate\n",
    "\n",
    "RAG_TEMPLATE = \"\"\"\\\n",
    "You are a helpful and kind assistant. Use the context provided below to answer the question.\n",
    "\n",
    "If you do not know the answer, or are unsure, say you don't know.\n",
    "\n",
    "Query:\n",
    "{question}\n",
    "\n",
    "Context:\n",
    "{context}\n",
    "\"\"\"\n",
    "\n",
    "rag_prompt = ChatPromptTemplate.from_template(RAG_TEMPLATE)"
   ]
  },
  {
   "cell_type": "code",
   "execution_count": null,
   "metadata": {},
   "outputs": [],
   "source": [
    "from langchain_openai import ChatOpenAI\n",
    "\n",
    "chat_model = ChatOpenAI()"
   ]
  },
  {
   "cell_type": "code",
   "execution_count": null,
   "metadata": {},
   "outputs": [],
   "source": [
    "from langchain_core.runnables import RunnablePassthrough\n",
    "from operator import itemgetter\n",
    "from langchain_core.output_parsers import StrOutputParser\n",
    "\n",
    "naive_retrieval_chain = (\n",
    "    # INVOKE CHAIN WITH: {\"question\" : \"<<SOME USER QUESTION>>\"}\n",
    "    # \"question\" : populated by getting the value of the \"question\" key\n",
    "    # \"context\"  : populated by getting the value of the \"question\" key and chaining it into the base_retriever\n",
    "    {\"context\": itemgetter(\"question\") | naive_retriever, \"question\": itemgetter(\"question\")}\n",
    "    # \"context\"  : is assigned to a RunnablePassthrough object (will not be called or considered in the next step)\n",
    "    #              by getting the value of the \"context\" key from the previous step\n",
    "    | RunnablePassthrough.assign(context=itemgetter(\"context\"))\n",
    "    # \"response\" : the \"context\" and \"question\" values are used to format our prompt object and then piped\n",
    "    #              into the LLM and stored in a key called \"response\"\n",
    "    # \"context\"  : populated by getting the value of the \"context\" key from the previous step\n",
    "    | {\"response\": rag_prompt | chat_model, \"context\": itemgetter(\"context\")}\n",
    ")"
   ]
  },
  {
   "cell_type": "code",
   "execution_count": null,
   "metadata": {},
   "outputs": [],
   "source": [
    "naive_retrieval_chain.invoke({\"question\" : \"List the questions related to NIST?\"})[\"response\"].content"
   ]
  }
 ],
 "metadata": {
  "kernelspec": {
   "display_name": "validmind-py3.10",
   "language": "python",
   "name": "validmind-py3.10"
  },
  "language_info": {
   "codemirror_mode": {
    "name": "ipython",
    "version": 3
   },
   "file_extension": ".py",
   "mimetype": "text/x-python",
   "name": "python",
   "nbconvert_exporter": "python",
   "pygments_lexer": "ipython3",
   "version": "3.10.13"
  }
 },
 "nbformat": 4,
 "nbformat_minor": 2
}
