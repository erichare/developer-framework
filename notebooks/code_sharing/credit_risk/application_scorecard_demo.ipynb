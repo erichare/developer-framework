{
 "cells": [
  {
   "cell_type": "markdown",
   "metadata": {},
   "source": [
    "# Application Scorecard Demo"
   ]
  },
  {
   "cell_type": "markdown",
   "metadata": {},
   "source": [
    "## Introduction\n",
    "\n",
    "TBC."
   ]
  },
  {
   "cell_type": "markdown",
   "metadata": {},
   "source": [
    "## Notebook Setup"
   ]
  },
  {
   "cell_type": "code",
   "execution_count": null,
   "metadata": {},
   "outputs": [],
   "source": [
    "import pandas as pd"
   ]
  },
  {
   "cell_type": "markdown",
   "metadata": {},
   "source": [
    "## Initialize the client library\n",
    "\n",
    "Every documentation project in the Platform UI comes with a _code snippet_ that lets the client library associate your documentation and tests with the right project on the Platform UI when you run this notebook. As you will see later, documentation projects are useful because they act as containers for model documentation and validation reports and they enable you to organize all of your documentation work in one place. \n",
    "\n",
    "Get your code snippet by creating a documentation project:\n",
    "\n",
    "1. In a browser, log into the [Platform UI](https://app.prod.validmind.ai).\n",
    "\n",
    "2. Go to **Documentation Projects** and click **Create new project**.\n",
    "\n",
    "3. Select **`[Demo] Customer Churn Model`** and **`Initial Validation`** for the model name and type, give the project a unique  name to make it yours, and then click **Create project**.\n",
    "\n",
    "4. Go to **Documentation Projects** > **YOUR_UNIQUE_PROJECT_NAME** > **Getting Started** and click **Copy snippet to clipboard**.\n",
    "\n",
    "Next, replace this placeholder with your own code snippet:"
   ]
  },
  {
   "cell_type": "code",
   "execution_count": null,
   "metadata": {},
   "outputs": [],
   "source": [
    "#import validmind as vm\n",
    "\n",
    "#vm.init(\n",
    "#  api_host = \"https://api.dev.vm.validmind.ai/api/v1/tracking\",\n",
    "#  api_key = \"...\",\n",
    "#  api_secret = \"...\",\n",
    "#  project = \"...\"\n",
    "#)"
   ]
  },
  {
   "cell_type": "markdown",
   "metadata": {},
   "source": [
    "## Data Collection"
   ]
  },
  {
   "cell_type": "code",
   "execution_count": null,
   "metadata": {},
   "outputs": [],
   "source": [
    "# Define the URL to the Lending Club loan data set (2007-2014) hosted on AWS S3 for easy access.\n",
    "source = \"https://vmai.s3.us-west-1.amazonaws.com/datasets/lending_club_loan_data_2007_2014.csv\"\n",
    "\n",
    "# Load CSV with pandas, setting column 21 (index 20) to string data type to prevent DtypeWarning due to mixed types.\n",
    "df = pd.read_csv(source, dtype={20: str})"
   ]
  },
  {
   "cell_type": "markdown",
   "metadata": {},
   "source": [
    "## Data Preparation"
   ]
  },
  {
   "cell_type": "code",
   "execution_count": null,
   "metadata": {},
   "outputs": [],
   "source": [
    "# Drop non relevant columns for building an application scorecard model\n",
    "COLS_TO_DROP = [\n",
    "    \"Unnamed: 0\",\n",
    "    \"id\", \"member_id\", \"funded_amnt\", \"emp_title\", \"url\", \"desc\", \"application_type\",\n",
    "    \"title\", \"zip_code\", \"delinq_2yrs\", \"mths_since_last_delinq\", \"mths_since_last_record\",\n",
    "    \"revol_bal\", \"total_rec_prncp\", \"total_rec_late_fee\", \"recoveries\", \"out_prncp_inv\", \"out_prncp\",\n",
    "    \"collection_recovery_fee\", \"next_pymnt_d\", \"initial_list_status\", \"pub_rec\",\n",
    "    \"collections_12_mths_ex_med\", \"policy_code\", \"acc_now_delinq\", \"pymnt_plan\",\n",
    "    \"tot_coll_amt\", \"tot_cur_bal\", \"total_rev_hi_lim\", \"last_pymnt_d\", \"last_credit_pull_d\",\n",
    "    'earliest_cr_line', 'issue_d'\n",
    "]\n",
    "\n",
    "df.drop(columns=COLS_TO_DROP, axis=1, inplace=True)"
   ]
  },
  {
   "cell_type": "code",
   "execution_count": null,
   "metadata": {},
   "outputs": [],
   "source": [
    "# Calculate the fraction of missing values for each feature in the dataset.\n",
    "missing_fractions = df.isnull().mean()\n",
    "\n",
    "# Set a threshold for the minimum fraction of missing values to consider dropping a feature.\n",
    "min_missing_fraction = 0.8\n",
    "\n",
    "# Identify features where the missing value fraction exceeds the threshold.\n",
    "to_drop = missing_fractions[missing_fractions > min_missing_fraction].index.tolist()\n",
    "\n",
    "# Remove identified features with too many missing values from the dataset.\n",
    "df.drop(columns=to_drop, inplace=True)\n",
    "\n",
    "# Define the target variable for the model, representing loan default status.\n",
    "# Map 'loan_status' to a binary variable where 'Fully Paid' loans are 0 (no default)\n",
    "# and 'Charged Off' loans are 1 (default). Other statuses are treated as missing (NaN) and then removed.\n",
    "target_column = \"default\"\n",
    "df[target_column] = df[\"loan_status\"].apply(\n",
    "    lambda x: 0 if x == \"Fully Paid\" else 1 if x == \"Charged Off\" else np.nan\n",
    ")\n",
    "\n",
    "# Remove rows with missing target variable values to ensure model integrity.\n",
    "df.dropna(subset=[target_column], inplace=True)\n",
    "\n",
    "# Convert the target variable to integer type for modeling.\n",
    "df[target_column] = df[target_column].astype(int)\n",
    "\n",
    "# Drop the original 'loan_status' column as it's now redundant with 'default'.\n",
    "df.drop(columns=[\"loan_status\"], inplace=True)"
   ]
  }
 ],
 "metadata": {
  "kernelspec": {
   "display_name": "validmind-py3.10",
   "language": "python",
   "name": "validmind-py3.10"
  },
  "language_info": {
   "codemirror_mode": {
    "name": "ipython",
    "version": 3
   },
   "file_extension": ".py",
   "mimetype": "text/x-python",
   "name": "python",
   "nbconvert_exporter": "python",
   "pygments_lexer": "ipython3",
   "version": "3.10.13"
  },
  "orig_nbformat": 4
 },
 "nbformat": 4,
 "nbformat_minor": 2
}
