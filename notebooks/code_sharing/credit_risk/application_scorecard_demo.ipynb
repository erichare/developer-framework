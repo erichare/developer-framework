{
 "cells": [
  {
   "cell_type": "markdown",
   "metadata": {},
   "source": [
    "# Demo for Application Scorecard Model Documentation\n",
    "\n",
    "This interactive notebook guides model developers through the process of documenting a model with the ValidMind Developer Framework. It uses the [Lending Club](https://www.kaggle.com/code/kmalit/bank-customer-churn-prediction/data) sample dataset from ... to build a simple application scorecard.\n",
    "\n",
    "As part of the notebook, you will learn how to train a sample model while exploring how the documentation process works:\n",
    "\n",
    "- Initializing the ValidMind Developer Framework\n",
    "- Loading a sample dataset provided by the library to train an application scorecard model\n",
    "- Running a ValidMind test suite to quickly generate documention about the data and model"
   ]
  },
  {
   "cell_type": "markdown",
   "metadata": {},
   "source": [
    "## ValidMind at a glance\n",
    "\n",
    "ValidMind's platform enables organizations to identify, document, and manage model risks for all types of models, including AI/ML models, LLMs, and statistical models. As a model developer, you use the ValidMind Developer Framework to automate documentation and validation tests, and then use the ValidMind AI Risk Platform UI to collaborate on model documentation. Together, these products simplify model risk management, facilitate compliance with regulations and institutional standards, and enhance collaboration between yourself and model validators.\n",
    "\n",
    "If this is your first time trying out ValidMind, you can make use of the following resources alongside this notebook:\n",
    "\n",
    "- [Get started](https://docs.validmind.ai/guide/get-started.html) — The basics, including key concepts, and how our products work\n",
    "- [Get started with the ValidMind Developer Framework](https://docs.validmind.ai/guide/get-started-developer-framework.html) — The path for developers, more code samples, and our developer reference\n"
   ]
  },
  {
   "cell_type": "markdown",
   "metadata": {},
   "source": [
    "## Before you begin\n",
    "\n",
    "::: {.callout-tip}\n",
    "\n",
    "### New to ValidMind?\n",
    "\n",
    "For access to all features available in this notebook, create a free ValidMind account.\n",
    "\n",
    "Signing up is FREE — [**Sign up now**](https://app.prod.validmind.ai)\n",
    ":::\n",
    "\n",
    "If you encounter errors due to missing modules in your Python environment, install the modules with `pip install`, and then re-run the notebook. For more help, refer to [Installing Python Modules](https://docs.python.org/3/installing/index.html)."
   ]
  },
  {
   "cell_type": "markdown",
   "metadata": {},
   "source": [
    "## Install the client library\n",
    "\n",
    "The client library provides Python support for the ValidMind Developer Framework. To install it:\n"
   ]
  },
  {
   "cell_type": "code",
   "execution_count": 1,
   "metadata": {},
   "outputs": [
    {
     "name": "stdout",
     "output_type": "stream",
     "text": [
      "\n",
      "\u001b[1m[\u001b[0m\u001b[34;49mnotice\u001b[0m\u001b[1;39;49m]\u001b[0m\u001b[39;49m A new release of pip is available: \u001b[0m\u001b[31;49m23.1.2\u001b[0m\u001b[39;49m -> \u001b[0m\u001b[32;49m24.0\u001b[0m\n",
      "\u001b[1m[\u001b[0m\u001b[34;49mnotice\u001b[0m\u001b[1;39;49m]\u001b[0m\u001b[39;49m To update, run: \u001b[0m\u001b[32;49mpip install --upgrade pip\u001b[0m\n",
      "Note: you may need to restart the kernel to use updated packages.\n"
     ]
    }
   ],
   "source": [
    "%pip install -q validmind"
   ]
  },
  {
   "cell_type": "markdown",
   "metadata": {},
   "source": [
    "## Initialize the client library\n",
    "\n",
    "ValidMind generates a unique _code snippet_ for each registered model to connect with your developer environment. You initialize the client library with this code snippet, which ensures that your documentation and tests are uploaded to the correct model when you run the notebook.\n",
    "\n",
    "Get your code snippet:\n",
    "\n",
    "1. In a browser, log into the [Platform UI](https://app.prod.validmind.ai).\n",
    "\n",
    "2. In the left sidebar, navigate to **Model Inventory** and click **+ Register new model**.\n",
    "\n",
    "3. Enter the model details and click **Continue**. ([Need more help?](https://docs.validmind.ai/guide/register-models-in-model-inventory.html))\n",
    "\n",
    "   For example, to register a model for use with this notebook, select:\n",
    "\n",
    "   - Documentation template: `Binary classification`\n",
    "   - Use case: `Marketing/Sales - Attrition/Churn Management`\n",
    "\n",
    "   You can fill in other options according to your preference.\n",
    "\n",
    "4. Go to **Getting Started** and click **Copy snippet to clipboard**.\n",
    "\n",
    "Next, replace this placeholder with your own code snippet:"
   ]
  },
  {
   "cell_type": "code",
   "execution_count": 2,
   "metadata": {},
   "outputs": [
    {
     "name": "stderr",
     "output_type": "stream",
     "text": [
      "2024-04-10 11:32:25,967 - INFO(validmind.api_client): Connected to ValidMind. Project: Credit Risk Model - Initial Validation (clrkpbur5003o19jwmhzbegab)\n"
     ]
    }
   ],
   "source": [
    "import validmind as vm\n",
    "\n",
    "vm.init(\n",
    "  api_host = \"https://api.prod.validmind.ai/api/v1/tracking\",\n",
    "  api_key = \"9c21ffcabd69730a1c95025af98e79d3\",\n",
    "  api_secret = \"7c81ae7002f20acd5192770d0ff4538c7e7206c38a39ddcef1aa862af5be8537\",\n",
    "  project = \"clrkpbur5003o19jwmhzbegab\"\n",
    ")"
   ]
  },
  {
   "cell_type": "markdown",
   "metadata": {},
   "source": [
    "## Initialize the Python environment\n",
    "\n",
    "Next, let's import the necessary libraries and set up your Python environment for data analysis:"
   ]
  },
  {
   "cell_type": "code",
   "execution_count": 3,
   "metadata": {},
   "outputs": [],
   "source": [
    "import statsmodels.api as sm\n",
    "\n",
    "%matplotlib inline"
   ]
  },
  {
   "cell_type": "markdown",
   "metadata": {},
   "source": [
    "### Preview the documentation template\n",
    "\n",
    "A template predefines sections for your model documentation and provides a general outline to follow, making the documentation process much easier.\n",
    "\n",
    "You will upload documentation and test results into this template later on. For now, take a look at the structure that the template provides with the `vm.preview_template()` function from the ValidMind library and note the empty sections:"
   ]
  },
  {
   "cell_type": "code",
   "execution_count": 4,
   "metadata": {},
   "outputs": [
    {
     "data": {
      "application/vnd.jupyter.widget-view+json": {
       "model_id": "0e8cc10e0361422999592ec052c21666",
       "version_major": 2,
       "version_minor": 0
      },
      "text/plain": [
       "Accordion(children=(Accordion(children=(HTML(value='<p>Empty Section</p>'), HTML(value='<p>Empty Section</p>')…"
      ]
     },
     "metadata": {},
     "output_type": "display_data"
    }
   ],
   "source": [
    "vm.preview_template()"
   ]
  },
  {
   "cell_type": "markdown",
   "metadata": {},
   "source": [
    "## Load the sample dataset\n",
    "\n",
    "The sample dataset used here is provided by the ValidMind library. To be able to use it, you need to import the dataset and load it into a pandas [DataFrame](https://pandas.pydata.org/docs/reference/api/pandas.DataFrame.html), a two-dimensional tabular data structure that makes use of rows and columns:"
   ]
  },
  {
   "cell_type": "code",
   "execution_count": 5,
   "metadata": {},
   "outputs": [
    {
     "name": "stdout",
     "output_type": "stream",
     "text": [
      "Loading data from an offline .gz file: /Users/juanvalidmind/Dev/github/validmind/developer-framework/validmind/datasets/credit_risk/datasets/lending_club_loan_data_2007_2014_clean.csv.gz\n",
      "Attempting to read from .gz file: /Users/juanvalidmind/Dev/github/validmind/developer-framework/validmind/datasets/credit_risk/datasets/lending_club_loan_data_2007_2014_clean.csv.gz\n",
      "Data loaded successfully.\n",
      "Rows: 227214, Columns: 23, Missing values: 8859\n"
     ]
    },
    {
     "data": {
      "text/html": [
       "<div>\n",
       "<style scoped>\n",
       "    .dataframe tbody tr th:only-of-type {\n",
       "        vertical-align: middle;\n",
       "    }\n",
       "\n",
       "    .dataframe tbody tr th {\n",
       "        vertical-align: top;\n",
       "    }\n",
       "\n",
       "    .dataframe thead th {\n",
       "        text-align: right;\n",
       "    }\n",
       "</style>\n",
       "<table border=\"1\" class=\"dataframe\">\n",
       "  <thead>\n",
       "    <tr style=\"text-align: right;\">\n",
       "      <th></th>\n",
       "      <th>loan_amnt</th>\n",
       "      <th>funded_amnt_inv</th>\n",
       "      <th>term</th>\n",
       "      <th>int_rate</th>\n",
       "      <th>installment</th>\n",
       "      <th>grade</th>\n",
       "      <th>sub_grade</th>\n",
       "      <th>emp_length</th>\n",
       "      <th>home_ownership</th>\n",
       "      <th>annual_inc</th>\n",
       "      <th>...</th>\n",
       "      <th>addr_state</th>\n",
       "      <th>dti</th>\n",
       "      <th>inq_last_6mths</th>\n",
       "      <th>open_acc</th>\n",
       "      <th>revol_util</th>\n",
       "      <th>total_acc</th>\n",
       "      <th>total_pymnt</th>\n",
       "      <th>total_pymnt_inv</th>\n",
       "      <th>total_rec_int</th>\n",
       "      <th>last_pymnt_amnt</th>\n",
       "    </tr>\n",
       "  </thead>\n",
       "  <tbody>\n",
       "    <tr>\n",
       "      <th>0</th>\n",
       "      <td>5000</td>\n",
       "      <td>4975.0</td>\n",
       "      <td>36 months</td>\n",
       "      <td>10.65</td>\n",
       "      <td>162.87</td>\n",
       "      <td>B</td>\n",
       "      <td>B2</td>\n",
       "      <td>10+ years</td>\n",
       "      <td>RENT</td>\n",
       "      <td>24000.0</td>\n",
       "      <td>...</td>\n",
       "      <td>AZ</td>\n",
       "      <td>27.65</td>\n",
       "      <td>1.0</td>\n",
       "      <td>3.0</td>\n",
       "      <td>83.7</td>\n",
       "      <td>9.0</td>\n",
       "      <td>5861.071414</td>\n",
       "      <td>5831.78</td>\n",
       "      <td>861.07</td>\n",
       "      <td>171.62</td>\n",
       "    </tr>\n",
       "    <tr>\n",
       "      <th>1</th>\n",
       "      <td>2500</td>\n",
       "      <td>2500.0</td>\n",
       "      <td>60 months</td>\n",
       "      <td>15.27</td>\n",
       "      <td>59.83</td>\n",
       "      <td>C</td>\n",
       "      <td>C4</td>\n",
       "      <td>&lt; 1 year</td>\n",
       "      <td>RENT</td>\n",
       "      <td>30000.0</td>\n",
       "      <td>...</td>\n",
       "      <td>GA</td>\n",
       "      <td>1.00</td>\n",
       "      <td>5.0</td>\n",
       "      <td>3.0</td>\n",
       "      <td>9.4</td>\n",
       "      <td>4.0</td>\n",
       "      <td>1008.710000</td>\n",
       "      <td>1008.71</td>\n",
       "      <td>435.17</td>\n",
       "      <td>119.66</td>\n",
       "    </tr>\n",
       "    <tr>\n",
       "      <th>2</th>\n",
       "      <td>2400</td>\n",
       "      <td>2400.0</td>\n",
       "      <td>36 months</td>\n",
       "      <td>15.96</td>\n",
       "      <td>84.33</td>\n",
       "      <td>C</td>\n",
       "      <td>C5</td>\n",
       "      <td>10+ years</td>\n",
       "      <td>RENT</td>\n",
       "      <td>12252.0</td>\n",
       "      <td>...</td>\n",
       "      <td>IL</td>\n",
       "      <td>8.72</td>\n",
       "      <td>2.0</td>\n",
       "      <td>2.0</td>\n",
       "      <td>98.5</td>\n",
       "      <td>10.0</td>\n",
       "      <td>3003.653644</td>\n",
       "      <td>3003.65</td>\n",
       "      <td>603.65</td>\n",
       "      <td>649.91</td>\n",
       "    </tr>\n",
       "    <tr>\n",
       "      <th>3</th>\n",
       "      <td>10000</td>\n",
       "      <td>10000.0</td>\n",
       "      <td>36 months</td>\n",
       "      <td>13.49</td>\n",
       "      <td>339.31</td>\n",
       "      <td>C</td>\n",
       "      <td>C1</td>\n",
       "      <td>10+ years</td>\n",
       "      <td>RENT</td>\n",
       "      <td>49200.0</td>\n",
       "      <td>...</td>\n",
       "      <td>CA</td>\n",
       "      <td>20.00</td>\n",
       "      <td>1.0</td>\n",
       "      <td>10.0</td>\n",
       "      <td>21.0</td>\n",
       "      <td>37.0</td>\n",
       "      <td>12226.302210</td>\n",
       "      <td>12226.30</td>\n",
       "      <td>2209.33</td>\n",
       "      <td>357.48</td>\n",
       "    </tr>\n",
       "    <tr>\n",
       "      <th>4</th>\n",
       "      <td>5000</td>\n",
       "      <td>5000.0</td>\n",
       "      <td>36 months</td>\n",
       "      <td>7.90</td>\n",
       "      <td>156.46</td>\n",
       "      <td>A</td>\n",
       "      <td>A4</td>\n",
       "      <td>3 years</td>\n",
       "      <td>RENT</td>\n",
       "      <td>36000.0</td>\n",
       "      <td>...</td>\n",
       "      <td>AZ</td>\n",
       "      <td>11.20</td>\n",
       "      <td>3.0</td>\n",
       "      <td>9.0</td>\n",
       "      <td>28.3</td>\n",
       "      <td>12.0</td>\n",
       "      <td>5631.377753</td>\n",
       "      <td>5631.38</td>\n",
       "      <td>631.38</td>\n",
       "      <td>161.03</td>\n",
       "    </tr>\n",
       "  </tbody>\n",
       "</table>\n",
       "<p>5 rows × 23 columns</p>\n",
       "</div>"
      ],
      "text/plain": [
       "   loan_amnt  funded_amnt_inv        term  int_rate  installment grade  \\\n",
       "0       5000           4975.0   36 months     10.65       162.87     B   \n",
       "1       2500           2500.0   60 months     15.27        59.83     C   \n",
       "2       2400           2400.0   36 months     15.96        84.33     C   \n",
       "3      10000          10000.0   36 months     13.49       339.31     C   \n",
       "4       5000           5000.0   36 months      7.90       156.46     A   \n",
       "\n",
       "  sub_grade emp_length home_ownership  annual_inc  ... addr_state    dti  \\\n",
       "0        B2  10+ years           RENT     24000.0  ...         AZ  27.65   \n",
       "1        C4   < 1 year           RENT     30000.0  ...         GA   1.00   \n",
       "2        C5  10+ years           RENT     12252.0  ...         IL   8.72   \n",
       "3        C1  10+ years           RENT     49200.0  ...         CA  20.00   \n",
       "4        A4    3 years           RENT     36000.0  ...         AZ  11.20   \n",
       "\n",
       "  inq_last_6mths open_acc  revol_util  total_acc   total_pymnt  \\\n",
       "0            1.0      3.0        83.7        9.0   5861.071414   \n",
       "1            5.0      3.0         9.4        4.0   1008.710000   \n",
       "2            2.0      2.0        98.5       10.0   3003.653644   \n",
       "3            1.0     10.0        21.0       37.0  12226.302210   \n",
       "4            3.0      9.0        28.3       12.0   5631.377753   \n",
       "\n",
       "   total_pymnt_inv  total_rec_int  last_pymnt_amnt  \n",
       "0          5831.78         861.07           171.62  \n",
       "1          1008.71         435.17           119.66  \n",
       "2          3003.65         603.65           649.91  \n",
       "3         12226.30        2209.33           357.48  \n",
       "4          5631.38         631.38           161.03  \n",
       "\n",
       "[5 rows x 23 columns]"
      ]
     },
     "execution_count": 5,
     "metadata": {},
     "output_type": "execute_result"
    }
   ],
   "source": [
    "# Import the sample dataset from the library\n",
    "\n",
    "from validmind.datasets.credit_risk import lending_club\n",
    "\n",
    "df = lending_club.load_data(source=\"offline\")\n",
    "\n",
    "df.head()"
   ]
  },
  {
   "cell_type": "markdown",
   "metadata": {},
   "source": [
    "### Prepocess the dataset\n",
    "\n",
    "Preprocessing performs a number of operations to get ready for the subsequent steps:\n",
    "\n",
    "- Preprocess the data: Splits the DataFrame (`df`) into multiple datasets (`train_df`, `validation_df`, and `test_df`) using `lending_club.preprocess` to simplify preprocessing."
   ]
  },
  {
   "cell_type": "code",
   "execution_count": 6,
   "metadata": {},
   "outputs": [
    {
     "name": "stdout",
     "output_type": "stream",
     "text": [
      "Filtering 'purpose' to 'debt_consolidation' and 'credit_card':\n",
      "Rows: 177825\n",
      "Columns: 23\n",
      "Missing values: 6590\n",
      "\n",
      "Filtering out 'grade' F and G:\n",
      "Rows: 172165\n",
      "Columns: 23\n",
      "Missing values: 6427\n",
      "\n",
      "Filtering out 'sub_grade' F and G:\n",
      "Rows: 172165\n",
      "Columns: 23\n",
      "Missing values: 6427\n",
      "\n",
      "Filtering out 'home_ownership' OTHER, NONE, ANY:\n",
      "Rows: 172045\n",
      "Columns: 23\n",
      "Missing values: 6425\n",
      "\n",
      "Dropping specified features:\n",
      "Rows: 172045\n",
      "Columns: 13\n",
      "Missing values: 6350\n",
      "\n",
      "Dropping rows with any missing values:\n",
      "Rows: 165695\n",
      "Columns: 13\n",
      "Missing values: 0\n",
      "\n"
     ]
    },
    {
     "data": {
      "text/html": [
       "<div>\n",
       "<style scoped>\n",
       "    .dataframe tbody tr th:only-of-type {\n",
       "        vertical-align: middle;\n",
       "    }\n",
       "\n",
       "    .dataframe tbody tr th {\n",
       "        vertical-align: top;\n",
       "    }\n",
       "\n",
       "    .dataframe thead th {\n",
       "        text-align: right;\n",
       "    }\n",
       "</style>\n",
       "<table border=\"1\" class=\"dataframe\">\n",
       "  <thead>\n",
       "    <tr style=\"text-align: right;\">\n",
       "      <th></th>\n",
       "      <th>term</th>\n",
       "      <th>int_rate</th>\n",
       "      <th>installment</th>\n",
       "      <th>grade</th>\n",
       "      <th>sub_grade</th>\n",
       "      <th>emp_length</th>\n",
       "      <th>home_ownership</th>\n",
       "      <th>annual_inc</th>\n",
       "      <th>verification_status</th>\n",
       "      <th>loan_status</th>\n",
       "      <th>purpose</th>\n",
       "      <th>open_acc</th>\n",
       "      <th>total_acc</th>\n",
       "    </tr>\n",
       "  </thead>\n",
       "  <tbody>\n",
       "    <tr>\n",
       "      <th>0</th>\n",
       "      <td>36</td>\n",
       "      <td>10.65</td>\n",
       "      <td>162.87</td>\n",
       "      <td>B</td>\n",
       "      <td>B2</td>\n",
       "      <td>10</td>\n",
       "      <td>RENT</td>\n",
       "      <td>24000.0</td>\n",
       "      <td>Verified</td>\n",
       "      <td>0</td>\n",
       "      <td>credit_card</td>\n",
       "      <td>3.0</td>\n",
       "      <td>9.0</td>\n",
       "    </tr>\n",
       "    <tr>\n",
       "      <th>8</th>\n",
       "      <td>60</td>\n",
       "      <td>14.65</td>\n",
       "      <td>153.45</td>\n",
       "      <td>C</td>\n",
       "      <td>C3</td>\n",
       "      <td>5</td>\n",
       "      <td>OWN</td>\n",
       "      <td>72000.0</td>\n",
       "      <td>Not Verified</td>\n",
       "      <td>0</td>\n",
       "      <td>debt_consolidation</td>\n",
       "      <td>14.0</td>\n",
       "      <td>23.0</td>\n",
       "    </tr>\n",
       "    <tr>\n",
       "      <th>9</th>\n",
       "      <td>36</td>\n",
       "      <td>12.69</td>\n",
       "      <td>402.54</td>\n",
       "      <td>B</td>\n",
       "      <td>B5</td>\n",
       "      <td>10</td>\n",
       "      <td>OWN</td>\n",
       "      <td>75000.0</td>\n",
       "      <td>Source Verified</td>\n",
       "      <td>0</td>\n",
       "      <td>debt_consolidation</td>\n",
       "      <td>12.0</td>\n",
       "      <td>34.0</td>\n",
       "    </tr>\n",
       "    <tr>\n",
       "      <th>10</th>\n",
       "      <td>36</td>\n",
       "      <td>13.49</td>\n",
       "      <td>305.38</td>\n",
       "      <td>C</td>\n",
       "      <td>C1</td>\n",
       "      <td>0</td>\n",
       "      <td>RENT</td>\n",
       "      <td>30000.0</td>\n",
       "      <td>Source Verified</td>\n",
       "      <td>1</td>\n",
       "      <td>debt_consolidation</td>\n",
       "      <td>4.0</td>\n",
       "      <td>9.0</td>\n",
       "    </tr>\n",
       "    <tr>\n",
       "      <th>11</th>\n",
       "      <td>36</td>\n",
       "      <td>9.91</td>\n",
       "      <td>96.68</td>\n",
       "      <td>B</td>\n",
       "      <td>B1</td>\n",
       "      <td>3</td>\n",
       "      <td>RENT</td>\n",
       "      <td>15000.0</td>\n",
       "      <td>Source Verified</td>\n",
       "      <td>0</td>\n",
       "      <td>credit_card</td>\n",
       "      <td>11.0</td>\n",
       "      <td>11.0</td>\n",
       "    </tr>\n",
       "  </tbody>\n",
       "</table>\n",
       "</div>"
      ],
      "text/plain": [
       "   term  int_rate  installment grade sub_grade emp_length home_ownership  \\\n",
       "0    36     10.65       162.87     B        B2         10           RENT   \n",
       "8    60     14.65       153.45     C        C3          5            OWN   \n",
       "9    36     12.69       402.54     B        B5         10            OWN   \n",
       "10   36     13.49       305.38     C        C1          0           RENT   \n",
       "11   36      9.91        96.68     B        B1          3           RENT   \n",
       "\n",
       "    annual_inc verification_status  loan_status             purpose  open_acc  \\\n",
       "0      24000.0            Verified            0         credit_card       3.0   \n",
       "8      72000.0        Not Verified            0  debt_consolidation      14.0   \n",
       "9      75000.0     Source Verified            0  debt_consolidation      12.0   \n",
       "10     30000.0     Source Verified            1  debt_consolidation       4.0   \n",
       "11     15000.0     Source Verified            0         credit_card      11.0   \n",
       "\n",
       "    total_acc  \n",
       "0         9.0  \n",
       "8        23.0  \n",
       "9        34.0  \n",
       "10        9.0  \n",
       "11       11.0  "
      ]
     },
     "execution_count": 6,
     "metadata": {},
     "output_type": "execute_result"
    }
   ],
   "source": [
    "preprocess_df = lending_club.preprocess(df)\n",
    "preprocess_df.head()"
   ]
  },
  {
   "cell_type": "markdown",
   "metadata": {},
   "source": [
    "### Feature engineering\n",
    "\n",
    "TBC."
   ]
  },
  {
   "cell_type": "code",
   "execution_count": 7,
   "metadata": {},
   "outputs": [
    {
     "name": "stdout",
     "output_type": "stream",
     "text": [
      "Performing binning with breaks_adj: {'loan_amnt': [5000, 10000, 15000, 20000, 25000], 'int_rate': [10, 15, 20], 'annual_inc': [50000, 100000, 150000]}\n",
      "[INFO] creating woe binning ...\n",
      "[INFO] converting into woe values ...\n",
      "Successfully converted features to WoE values.\n",
      "Rows: 165695\n",
      "Columns: 13\n",
      "Missing values: 0\n",
      "\n"
     ]
    },
    {
     "data": {
      "text/html": [
       "<div>\n",
       "<style scoped>\n",
       "    .dataframe tbody tr th:only-of-type {\n",
       "        vertical-align: middle;\n",
       "    }\n",
       "\n",
       "    .dataframe tbody tr th {\n",
       "        vertical-align: top;\n",
       "    }\n",
       "\n",
       "    .dataframe thead th {\n",
       "        text-align: right;\n",
       "    }\n",
       "</style>\n",
       "<table border=\"1\" class=\"dataframe\">\n",
       "  <thead>\n",
       "    <tr style=\"text-align: right;\">\n",
       "      <th></th>\n",
       "      <th>loan_status</th>\n",
       "      <th>annual_inc_woe</th>\n",
       "      <th>total_acc_woe</th>\n",
       "      <th>purpose_woe</th>\n",
       "      <th>term_woe</th>\n",
       "      <th>verification_status_woe</th>\n",
       "      <th>open_acc_woe</th>\n",
       "      <th>emp_length_woe</th>\n",
       "      <th>int_rate_woe</th>\n",
       "      <th>installment_woe</th>\n",
       "      <th>home_ownership_woe</th>\n",
       "      <th>sub_grade_woe</th>\n",
       "      <th>grade_woe</th>\n",
       "    </tr>\n",
       "  </thead>\n",
       "  <tbody>\n",
       "    <tr>\n",
       "      <th>0</th>\n",
       "      <td>0</td>\n",
       "      <td>0.272855</td>\n",
       "      <td>0.085175</td>\n",
       "      <td>-0.157770</td>\n",
       "      <td>-0.215312</td>\n",
       "      <td>0.144895</td>\n",
       "      <td>-0.135784</td>\n",
       "      <td>-0.016348</td>\n",
       "      <td>-0.202397</td>\n",
       "      <td>-0.191738</td>\n",
       "      <td>0.114461</td>\n",
       "      <td>-0.336648</td>\n",
       "      <td>-0.396915</td>\n",
       "    </tr>\n",
       "    <tr>\n",
       "      <th>8</th>\n",
       "      <td>0</td>\n",
       "      <td>-0.054231</td>\n",
       "      <td>0.032958</td>\n",
       "      <td>0.051351</td>\n",
       "      <td>0.654502</td>\n",
       "      <td>-0.243789</td>\n",
       "      <td>0.023460</td>\n",
       "      <td>-0.016348</td>\n",
       "      <td>-0.202397</td>\n",
       "      <td>-0.191738</td>\n",
       "      <td>0.053303</td>\n",
       "      <td>0.337916</td>\n",
       "      <td>0.186188</td>\n",
       "    </tr>\n",
       "    <tr>\n",
       "      <th>9</th>\n",
       "      <td>0</td>\n",
       "      <td>-0.054231</td>\n",
       "      <td>-0.101325</td>\n",
       "      <td>0.051351</td>\n",
       "      <td>-0.215312</td>\n",
       "      <td>0.089350</td>\n",
       "      <td>0.023460</td>\n",
       "      <td>-0.016348</td>\n",
       "      <td>-0.202397</td>\n",
       "      <td>0.128420</td>\n",
       "      <td>0.053303</td>\n",
       "      <td>-0.336648</td>\n",
       "      <td>-0.396915</td>\n",
       "    </tr>\n",
       "    <tr>\n",
       "      <th>10</th>\n",
       "      <td>1</td>\n",
       "      <td>0.272855</td>\n",
       "      <td>0.085175</td>\n",
       "      <td>0.051351</td>\n",
       "      <td>-0.215312</td>\n",
       "      <td>0.089350</td>\n",
       "      <td>-0.135784</td>\n",
       "      <td>0.053758</td>\n",
       "      <td>-0.202397</td>\n",
       "      <td>-0.013370</td>\n",
       "      <td>0.114461</td>\n",
       "      <td>-0.336648</td>\n",
       "      <td>0.186188</td>\n",
       "    </tr>\n",
       "    <tr>\n",
       "      <th>11</th>\n",
       "      <td>0</td>\n",
       "      <td>0.272855</td>\n",
       "      <td>0.085175</td>\n",
       "      <td>-0.157770</td>\n",
       "      <td>-0.215312</td>\n",
       "      <td>0.089350</td>\n",
       "      <td>0.023460</td>\n",
       "      <td>-0.016348</td>\n",
       "      <td>-1.067745</td>\n",
       "      <td>-0.191738</td>\n",
       "      <td>0.114461</td>\n",
       "      <td>-0.336648</td>\n",
       "      <td>-0.396915</td>\n",
       "    </tr>\n",
       "  </tbody>\n",
       "</table>\n",
       "</div>"
      ],
      "text/plain": [
       "    loan_status  annual_inc_woe  total_acc_woe  purpose_woe  term_woe  \\\n",
       "0             0        0.272855       0.085175    -0.157770 -0.215312   \n",
       "8             0       -0.054231       0.032958     0.051351  0.654502   \n",
       "9             0       -0.054231      -0.101325     0.051351 -0.215312   \n",
       "10            1        0.272855       0.085175     0.051351 -0.215312   \n",
       "11            0        0.272855       0.085175    -0.157770 -0.215312   \n",
       "\n",
       "    verification_status_woe  open_acc_woe  emp_length_woe  int_rate_woe  \\\n",
       "0                  0.144895     -0.135784       -0.016348     -0.202397   \n",
       "8                 -0.243789      0.023460       -0.016348     -0.202397   \n",
       "9                  0.089350      0.023460       -0.016348     -0.202397   \n",
       "10                 0.089350     -0.135784        0.053758     -0.202397   \n",
       "11                 0.089350      0.023460       -0.016348     -1.067745   \n",
       "\n",
       "    installment_woe  home_ownership_woe  sub_grade_woe  grade_woe  \n",
       "0         -0.191738            0.114461      -0.336648  -0.396915  \n",
       "8         -0.191738            0.053303       0.337916   0.186188  \n",
       "9          0.128420            0.053303      -0.336648  -0.396915  \n",
       "10        -0.013370            0.114461      -0.336648   0.186188  \n",
       "11        -0.191738            0.114461      -0.336648  -0.396915  "
      ]
     },
     "execution_count": 7,
     "metadata": {},
     "output_type": "execute_result"
    }
   ],
   "source": [
    "fe_df = lending_club.feature_engineering(preprocess_df)\n",
    "fe_df.head()"
   ]
  },
  {
   "cell_type": "markdown",
   "metadata": {},
   "source": [
    "## Train the model\n",
    "\n",
    "In this section, we focus on constructing and refining our predictive model. Initially, we divide our data, which is based on Weight of Evidence (WoE) features, into training and testing sets (`train_df`, `test_df`). With `lending_club.split`, we employ a simple random split, randomly allocating data points to each set to ensure a mix of examples in both. Additionally, by setting `add_constant=True`, we include an intercept term in our model.\n",
    "\n"
   ]
  },
  {
   "cell_type": "code",
   "execution_count": 8,
   "metadata": {},
   "outputs": [
    {
     "name": "stdout",
     "output_type": "stream",
     "text": [
      "After splitting the dataset into training and test sets:\n",
      "Training Dataset:\n",
      "Rows: 132556\n",
      "Columns: 14\n",
      "Missing values: 0\n",
      "\n",
      "Test Dataset:\n",
      "Rows: 33139\n",
      "Columns: 14\n",
      "Missing values: 0\n",
      "\n"
     ]
    },
    {
     "data": {
      "text/html": [
       "<table class=\"simpletable\">\n",
       "<caption>Generalized Linear Model Regression Results</caption>\n",
       "<tr>\n",
       "  <th>Dep. Variable:</th>      <td>loan_status</td>   <th>  No. Observations:  </th>   <td>132556</td>  \n",
       "</tr>\n",
       "<tr>\n",
       "  <th>Model:</th>                  <td>GLM</td>       <th>  Df Residuals:      </th>   <td>132543</td>  \n",
       "</tr>\n",
       "<tr>\n",
       "  <th>Model Family:</th>        <td>Binomial</td>     <th>  Df Model:          </th>   <td>    12</td>  \n",
       "</tr>\n",
       "<tr>\n",
       "  <th>Link Function:</th>         <td>Logit</td>      <th>  Scale:             </th>  <td>  1.0000</td> \n",
       "</tr>\n",
       "<tr>\n",
       "  <th>Method:</th>                <td>IRLS</td>       <th>  Log-Likelihood:    </th>  <td> -57370.</td> \n",
       "</tr>\n",
       "<tr>\n",
       "  <th>Date:</th>            <td>Wed, 10 Apr 2024</td> <th>  Deviance:          </th> <td>1.1474e+05</td>\n",
       "</tr>\n",
       "<tr>\n",
       "  <th>Time:</th>                <td>11:32:36</td>     <th>  Pearson chi2:      </th>  <td>1.33e+05</td> \n",
       "</tr>\n",
       "<tr>\n",
       "  <th>No. Iterations:</th>          <td>5</td>        <th>  Pseudo R-squ. (CS):</th>   <td>0.06263</td> \n",
       "</tr>\n",
       "<tr>\n",
       "  <th>Covariance Type:</th>     <td>nonrobust</td>    <th>                     </th>      <td> </td>    \n",
       "</tr>\n",
       "</table>\n",
       "<table class=\"simpletable\">\n",
       "<tr>\n",
       "             <td></td>                <th>coef</th>     <th>std err</th>      <th>z</th>      <th>P>|z|</th>  <th>[0.025</th>    <th>0.975]</th>  \n",
       "</tr>\n",
       "<tr>\n",
       "  <th>const</th>                   <td>   -1.5464</td> <td>    0.008</td> <td> -202.301</td> <td> 0.000</td> <td>   -1.561</td> <td>   -1.531</td>\n",
       "</tr>\n",
       "<tr>\n",
       "  <th>annual_inc_woe</th>          <td>    1.1569</td> <td>    0.037</td> <td>   31.143</td> <td> 0.000</td> <td>    1.084</td> <td>    1.230</td>\n",
       "</tr>\n",
       "<tr>\n",
       "  <th>total_acc_woe</th>           <td>    1.0408</td> <td>    0.137</td> <td>    7.592</td> <td> 0.000</td> <td>    0.772</td> <td>    1.309</td>\n",
       "</tr>\n",
       "<tr>\n",
       "  <th>purpose_woe</th>             <td>    0.2658</td> <td>    0.085</td> <td>    3.128</td> <td> 0.002</td> <td>    0.099</td> <td>    0.432</td>\n",
       "</tr>\n",
       "<tr>\n",
       "  <th>term_woe</th>                <td>    0.4662</td> <td>    0.022</td> <td>   21.074</td> <td> 0.000</td> <td>    0.423</td> <td>    0.510</td>\n",
       "</tr>\n",
       "<tr>\n",
       "  <th>verification_status_woe</th> <td>    0.3223</td> <td>    0.047</td> <td>    6.787</td> <td> 0.000</td> <td>    0.229</td> <td>    0.415</td>\n",
       "</tr>\n",
       "<tr>\n",
       "  <th>open_acc_woe</th>            <td>    2.1157</td> <td>    0.171</td> <td>   12.376</td> <td> 0.000</td> <td>    1.781</td> <td>    2.451</td>\n",
       "</tr>\n",
       "<tr>\n",
       "  <th>emp_length_woe</th>          <td>    0.8141</td> <td>    0.202</td> <td>    4.035</td> <td> 0.000</td> <td>    0.419</td> <td>    1.210</td>\n",
       "</tr>\n",
       "<tr>\n",
       "  <th>int_rate_woe</th>            <td>    0.2947</td> <td>    0.030</td> <td>    9.847</td> <td> 0.000</td> <td>    0.236</td> <td>    0.353</td>\n",
       "</tr>\n",
       "<tr>\n",
       "  <th>installment_woe</th>         <td>    0.7049</td> <td>    0.071</td> <td>    9.925</td> <td> 0.000</td> <td>    0.566</td> <td>    0.844</td>\n",
       "</tr>\n",
       "<tr>\n",
       "  <th>home_ownership_woe</th>      <td>    0.6466</td> <td>    0.070</td> <td>    9.189</td> <td> 0.000</td> <td>    0.509</td> <td>    0.784</td>\n",
       "</tr>\n",
       "<tr>\n",
       "  <th>sub_grade_woe</th>           <td>    0.2070</td> <td>    0.041</td> <td>    5.054</td> <td> 0.000</td> <td>    0.127</td> <td>    0.287</td>\n",
       "</tr>\n",
       "<tr>\n",
       "  <th>grade_woe</th>               <td>    0.3786</td> <td>    0.041</td> <td>    9.344</td> <td> 0.000</td> <td>    0.299</td> <td>    0.458</td>\n",
       "</tr>\n",
       "</table>"
      ],
      "text/plain": [
       "<class 'statsmodels.iolib.summary.Summary'>\n",
       "\"\"\"\n",
       "                 Generalized Linear Model Regression Results                  \n",
       "==============================================================================\n",
       "Dep. Variable:            loan_status   No. Observations:               132556\n",
       "Model:                            GLM   Df Residuals:                   132543\n",
       "Model Family:                Binomial   Df Model:                           12\n",
       "Link Function:                  Logit   Scale:                          1.0000\n",
       "Method:                          IRLS   Log-Likelihood:                -57370.\n",
       "Date:                Wed, 10 Apr 2024   Deviance:                   1.1474e+05\n",
       "Time:                        11:32:36   Pearson chi2:                 1.33e+05\n",
       "No. Iterations:                     5   Pseudo R-squ. (CS):            0.06263\n",
       "Covariance Type:            nonrobust                                         \n",
       "===========================================================================================\n",
       "                              coef    std err          z      P>|z|      [0.025      0.975]\n",
       "-------------------------------------------------------------------------------------------\n",
       "const                      -1.5464      0.008   -202.301      0.000      -1.561      -1.531\n",
       "annual_inc_woe              1.1569      0.037     31.143      0.000       1.084       1.230\n",
       "total_acc_woe               1.0408      0.137      7.592      0.000       0.772       1.309\n",
       "purpose_woe                 0.2658      0.085      3.128      0.002       0.099       0.432\n",
       "term_woe                    0.4662      0.022     21.074      0.000       0.423       0.510\n",
       "verification_status_woe     0.3223      0.047      6.787      0.000       0.229       0.415\n",
       "open_acc_woe                2.1157      0.171     12.376      0.000       1.781       2.451\n",
       "emp_length_woe              0.8141      0.202      4.035      0.000       0.419       1.210\n",
       "int_rate_woe                0.2947      0.030      9.847      0.000       0.236       0.353\n",
       "installment_woe             0.7049      0.071      9.925      0.000       0.566       0.844\n",
       "home_ownership_woe          0.6466      0.070      9.189      0.000       0.509       0.784\n",
       "sub_grade_woe               0.2070      0.041      5.054      0.000       0.127       0.287\n",
       "grade_woe                   0.3786      0.041      9.344      0.000       0.299       0.458\n",
       "===========================================================================================\n",
       "\"\"\""
      ]
     },
     "execution_count": 8,
     "metadata": {},
     "output_type": "execute_result"
    }
   ],
   "source": [
    "train_df, test_df = lending_club.split(fe_df, add_constant=True)\n",
    "\n",
    "x_train = train_df.drop(lending_club.target_column, axis=1)\n",
    "y_train = train_df[lending_club.target_column]\n",
    "x_test = test_df.drop(lending_club.target_column, axis=1)\n",
    "y_test = test_df[lending_club.target_column]\n",
    "\n",
    "# Define the model\n",
    "model = sm.GLM(\n",
    "    y_train, \n",
    "    x_train, \n",
    "    family=sm.families.Binomial())\n",
    "\n",
    "# Fit the model\n",
    "model = model.fit()\n",
    "model.summary()"
   ]
  },
  {
   "cell_type": "markdown",
   "metadata": {},
   "source": [
    "### Compute Scores\n",
    "\n",
    "In this phase, we translate model predictions into actionable scores using probability estimates generated by our trained model. "
   ]
  },
  {
   "cell_type": "code",
   "execution_count": 9,
   "metadata": {},
   "outputs": [],
   "source": [
    "# Compute probabilities from the model\n",
    "train_probabilities = model.predict(x_train)\n",
    "test_probabilities = model.predict(x_test)\n",
    "\n",
    "# Compute scores from the predictions\n",
    "train_scores = lending_club.compute_scores(train_probabilities)\n",
    "test_scores = lending_club.compute_scores(test_probabilities)"
   ]
  },
  {
   "cell_type": "markdown",
   "metadata": {},
   "source": [
    "## Document the model\n",
    "\n",
    "As part of documenting the model with the ValidMind Developer Framework, you need to preprocess the raw dataset, initialize some training and test datasets, initialize a model object you can use for testing, and then run the full suite of tests."
   ]
  },
  {
   "cell_type": "markdown",
   "metadata": {},
   "source": [
    "### Initialize the ValidMind datasets\n",
    "\n",
    "Before you can run tests, you must first initialize a ValidMind dataset object using the [`init_dataset`](https://docs.validmind.ai/validmind/validmind.html#init_dataset) function from the ValidMind (`vm`) module.\n",
    "\n",
    "This function takes a number of arguments:\n",
    "\n",
    "- `dataset` — the dataset that you want to provide as input to tests\n",
    "- `input_id` - a unique identifier that allows tracking what inputs are used when running each individual test\n",
    "- `target_column` — a required argument if tests require access to true values. This is the name of the target column in the dataset\n",
    "\n",
    "With all datasets ready, you can now initialize the raw, processed, training and test datasets (`raw_df`, `clean_df`, `preprocessed_df`, `fe_df`,  `train_df` and `test_df`) created earlier into their own dataset objects using [`vm.init_dataset()`](https://docs.validmind.ai/validmind/validmind.html#init_dataset):"
   ]
  },
  {
   "cell_type": "code",
   "execution_count": 10,
   "metadata": {},
   "outputs": [
    {
     "name": "stderr",
     "output_type": "stream",
     "text": [
      "2024-04-10 11:32:37,151 - INFO(validmind.client): Pandas dataset detected. Initializing VM Dataset instance...\n",
      "2024-04-10 11:32:38,520 - INFO(validmind.client): Pandas dataset detected. Initializing VM Dataset instance...\n",
      "2024-04-10 11:32:38,878 - INFO(validmind.client): Pandas dataset detected. Initializing VM Dataset instance...\n",
      "2024-04-10 11:32:39,137 - INFO(validmind.client): Pandas dataset detected. Initializing VM Dataset instance...\n",
      "2024-04-10 11:32:39,384 - INFO(validmind.client): Pandas dataset detected. Initializing VM Dataset instance...\n"
     ]
    }
   ],
   "source": [
    "vm_raw_dataset = vm.init_dataset(\n",
    "    dataset=df,\n",
    "    input_id=\"raw_dataset\",\n",
    "    target_column=lending_club.target_column,\n",
    ")\n",
    "\n",
    "vm_preprocess_dataset = vm.init_dataset(\n",
    "    dataset=preprocess_df,\n",
    "    input_id=\"preprocess_dataset\",\n",
    "    target_column=lending_club.target_column,\n",
    ")\n",
    "\n",
    "vm_fe_dataset = vm.init_dataset(\n",
    "    dataset=fe_df,\n",
    "    input_id=\"fe_dataset\",\n",
    "    target_column=lending_club.target_column,\n",
    ")\n",
    "\n",
    "vm_train_ds = vm.init_dataset(\n",
    "    dataset=train_df,\n",
    "    input_id=\"train_dataset\",\n",
    "    target_column=lending_club.target_column,\n",
    ")\n",
    "\n",
    "vm_test_ds = vm.init_dataset(\n",
    "    dataset=test_df, \n",
    "    input_id=\"test_dataset\", \n",
    "    target_column=lending_club.target_column\n",
    ")"
   ]
  },
  {
   "cell_type": "markdown",
   "metadata": {},
   "source": [
    "TBC."
   ]
  },
  {
   "cell_type": "code",
   "execution_count": 11,
   "metadata": {},
   "outputs": [
    {
     "name": "stdout",
     "output_type": "stream",
     "text": [
      "=================\n",
      "VMDataset object: \n",
      "=================\n",
      "Input ID: raw_dataset\n",
      "Target Column: loan_status\n",
      "Feature Columns: ['loan_amnt', 'funded_amnt_inv', 'term', 'int_rate', 'installment', 'grade', 'sub_grade', 'emp_length', 'home_ownership', 'annual_inc', 'verification_status', 'purpose', 'addr_state', 'dti', 'inq_last_6mths', 'open_acc', 'revol_util', 'total_acc', 'total_pymnt', 'total_pymnt_inv', 'total_rec_int', 'last_pymnt_amnt']\n",
      "Text Column: None\n",
      "Extra Columns: {'prediction_columns': {}, 'group_by_column': None}\n",
      "Type: generic\n",
      "Target Class Labels: None\n",
      "Columns: ['loan_amnt', 'funded_amnt_inv', 'term', 'int_rate', 'installment', 'grade', 'sub_grade', 'emp_length', 'home_ownership', 'annual_inc', 'verification_status', 'loan_status', 'purpose', 'addr_state', 'dti', 'inq_last_6mths', 'open_acc', 'revol_util', 'total_acc', 'total_pymnt', 'total_pymnt_inv', 'total_rec_int', 'last_pymnt_amnt']\n",
      "Index Name: None\n",
      "Index: [     0      1      2 ... 227211 227212 227213]\n",
      "=================\n",
      "\n",
      "=================\n",
      "VMDataset object: \n",
      "=================\n",
      "Input ID: preprocess_dataset\n",
      "Target Column: loan_status\n",
      "Feature Columns: ['term', 'int_rate', 'installment', 'grade', 'sub_grade', 'emp_length', 'home_ownership', 'annual_inc', 'verification_status', 'purpose', 'open_acc', 'total_acc']\n",
      "Text Column: None\n",
      "Extra Columns: {'prediction_columns': {}, 'group_by_column': None}\n",
      "Type: generic\n",
      "Target Class Labels: None\n",
      "Columns: ['term', 'int_rate', 'installment', 'grade', 'sub_grade', 'emp_length', 'home_ownership', 'annual_inc', 'verification_status', 'loan_status', 'purpose', 'open_acc', 'total_acc']\n",
      "Index Name: None\n",
      "Index: [     0      8      9 ... 227210 227212 227213]\n",
      "=================\n",
      "\n",
      "=================\n",
      "VMDataset object: \n",
      "=================\n",
      "Input ID: fe_dataset\n",
      "Target Column: loan_status\n",
      "Feature Columns: ['annual_inc_woe', 'total_acc_woe', 'purpose_woe', 'term_woe', 'verification_status_woe', 'open_acc_woe', 'emp_length_woe', 'int_rate_woe', 'installment_woe', 'home_ownership_woe', 'sub_grade_woe', 'grade_woe']\n",
      "Text Column: None\n",
      "Extra Columns: {'prediction_columns': {}, 'group_by_column': None}\n",
      "Type: generic\n",
      "Target Class Labels: None\n",
      "Columns: ['loan_status', 'annual_inc_woe', 'total_acc_woe', 'purpose_woe', 'term_woe', 'verification_status_woe', 'open_acc_woe', 'emp_length_woe', 'int_rate_woe', 'installment_woe', 'home_ownership_woe', 'sub_grade_woe', 'grade_woe']\n",
      "Index Name: None\n",
      "Index: [     0      8      9 ... 227210 227212 227213]\n",
      "=================\n",
      "\n",
      "=================\n",
      "VMDataset object: \n",
      "=================\n",
      "Input ID: train_dataset\n",
      "Target Column: loan_status\n",
      "Feature Columns: ['const', 'annual_inc_woe', 'total_acc_woe', 'purpose_woe', 'term_woe', 'verification_status_woe', 'open_acc_woe', 'emp_length_woe', 'int_rate_woe', 'installment_woe', 'home_ownership_woe', 'sub_grade_woe', 'grade_woe']\n",
      "Text Column: None\n",
      "Extra Columns: {'prediction_columns': {}, 'group_by_column': None}\n",
      "Type: generic\n",
      "Target Class Labels: None\n",
      "Columns: ['const', 'loan_status', 'annual_inc_woe', 'total_acc_woe', 'purpose_woe', 'term_woe', 'verification_status_woe', 'open_acc_woe', 'emp_length_woe', 'int_rate_woe', 'installment_woe', 'home_ownership_woe', 'sub_grade_woe', 'grade_woe']\n",
      "Index Name: None\n",
      "Index: [ 75509  72930  59945 ... 183863 203212 170623]\n",
      "=================\n",
      "\n",
      "=================\n",
      "VMDataset object: \n",
      "=================\n",
      "Input ID: test_dataset\n",
      "Target Column: loan_status\n",
      "Feature Columns: ['const', 'annual_inc_woe', 'total_acc_woe', 'purpose_woe', 'term_woe', 'verification_status_woe', 'open_acc_woe', 'emp_length_woe', 'int_rate_woe', 'installment_woe', 'home_ownership_woe', 'sub_grade_woe', 'grade_woe']\n",
      "Text Column: None\n",
      "Extra Columns: {'prediction_columns': {}, 'group_by_column': None}\n",
      "Type: generic\n",
      "Target Class Labels: None\n",
      "Columns: ['const', 'loan_status', 'annual_inc_woe', 'total_acc_woe', 'purpose_woe', 'term_woe', 'verification_status_woe', 'open_acc_woe', 'emp_length_woe', 'int_rate_woe', 'installment_woe', 'home_ownership_woe', 'sub_grade_woe', 'grade_woe']\n",
      "Index Name: None\n",
      "Index: [179078 226200 158922 ... 214258 159993 112468]\n",
      "=================\n",
      "\n"
     ]
    }
   ],
   "source": [
    "print(vm_raw_dataset)\n",
    "print(vm_preprocess_dataset)\n",
    "print(vm_fe_dataset)\n",
    "print(vm_train_ds)\n",
    "print(vm_test_ds)"
   ]
  },
  {
   "cell_type": "markdown",
   "metadata": {},
   "source": [
    "### Initialize a model object\n",
    "\n",
    "Additionally, you need to initialize a ValidMind model object (`vm_model`) that can be passed to other functions for analysis and tests on the data. You simply intialize this model object with [`vm.init_model()`](https://docs.validmind.ai/validmind/validmind.html#init_model):"
   ]
  },
  {
   "cell_type": "code",
   "execution_count": 12,
   "metadata": {},
   "outputs": [],
   "source": [
    "vm_model = vm.init_model(\n",
    "    model,\n",
    "    input_id=\"glm_model\",\n",
    ")"
   ]
  },
  {
   "cell_type": "markdown",
   "metadata": {},
   "source": [
    "### Assign predictions to the datasets\n",
    "\n",
    "With our model now trained, the next step involves assigning its predictions to our datasets. This is achieved through the use of the `assign_predictions()` method associated with the VM `dataset` object. This method facilitates the linkage of the model's prediction outcomes to the corresponding datasets. It is designed to accept explicitly provided prediction values; however, in their absence, it will automatically compute the predictions."
   ]
  },
  {
   "cell_type": "code",
   "execution_count": 13,
   "metadata": {},
   "outputs": [],
   "source": [
    "vm_train_ds.assign_predictions(\n",
    "    model=vm_model,\n",
    "    prediction_values=train_probabilities,\n",
    ")\n",
    "\n",
    "vm_test_ds.assign_predictions(\n",
    "    model=vm_model,\n",
    "    prediction_values=test_probabilities,\n",
    ")"
   ]
  },
  {
   "cell_type": "markdown",
   "metadata": {},
   "source": [
    "### Assign scores to the datasets\n",
    "\n",
    "In the context of credit scorecards, we are interested in computing scores from model predictions, as scorecards fundamentally revolve around these scores rather than raw predictions. To facilitate this process and ensure scores are properly integrated with our datasets, we use the `add_extra_column()` method from the VM `dataset` object. This approach allows us to append scores directly to our data, maintaining a streamlined and coherent dataset ready for analysis."
   ]
  },
  {
   "cell_type": "code",
   "execution_count": 14,
   "metadata": {},
   "outputs": [
    {
     "name": "stderr",
     "output_type": "stream",
     "text": [
      "2024-04-10 11:32:40,678 - INFO(validmind.vm_models.dataset): Column glm_scores added as an extra column\n",
      "2024-04-10 11:32:40,684 - INFO(validmind.vm_models.dataset): Column glm_scores added as an extra column\n"
     ]
    },
    {
     "name": "stdout",
     "output_type": "stream",
     "text": [
      "=================\n",
      "VMDataset object: \n",
      "=================\n",
      "Input ID: train_dataset\n",
      "Target Column: loan_status\n",
      "Feature Columns: ['const', 'annual_inc_woe', 'total_acc_woe', 'purpose_woe', 'term_woe', 'verification_status_woe', 'open_acc_woe', 'emp_length_woe', 'int_rate_woe', 'installment_woe', 'home_ownership_woe', 'sub_grade_woe', 'grade_woe']\n",
      "Text Column: None\n",
      "Extra Columns: {'prediction_columns': {'glm_model': 'glm_model_prediction'}, 'group_by_column': None, 'glm_scores': 'glm_scores'}\n",
      "Type: generic\n",
      "Target Class Labels: None\n",
      "Columns: ['const', 'loan_status', 'annual_inc_woe', 'total_acc_woe', 'purpose_woe', 'term_woe', 'verification_status_woe', 'open_acc_woe', 'emp_length_woe', 'int_rate_woe', 'installment_woe', 'home_ownership_woe', 'sub_grade_woe', 'grade_woe', 'glm_model_prediction', 'glm_scores']\n",
      "Index Name: None\n",
      "Index: [ 75509  72930  59945 ... 183863 203212 170623]\n",
      "=================\n",
      "\n",
      "=================\n",
      "VMDataset object: \n",
      "=================\n",
      "Input ID: test_dataset\n",
      "Target Column: loan_status\n",
      "Feature Columns: ['const', 'annual_inc_woe', 'total_acc_woe', 'purpose_woe', 'term_woe', 'verification_status_woe', 'open_acc_woe', 'emp_length_woe', 'int_rate_woe', 'installment_woe', 'home_ownership_woe', 'sub_grade_woe', 'grade_woe']\n",
      "Text Column: None\n",
      "Extra Columns: {'prediction_columns': {'glm_model': 'glm_model_prediction'}, 'group_by_column': None, 'glm_scores': 'glm_scores'}\n",
      "Type: generic\n",
      "Target Class Labels: None\n",
      "Columns: ['const', 'loan_status', 'annual_inc_woe', 'total_acc_woe', 'purpose_woe', 'term_woe', 'verification_status_woe', 'open_acc_woe', 'emp_length_woe', 'int_rate_woe', 'installment_woe', 'home_ownership_woe', 'sub_grade_woe', 'grade_woe', 'glm_model_prediction', 'glm_scores']\n",
      "Index Name: None\n",
      "Index: [179078 226200 158922 ... 214258 159993 112468]\n",
      "=================\n",
      "\n"
     ]
    }
   ],
   "source": [
    "vm_train_ds.add_extra_column(\"glm_scores\", train_scores)\n",
    "vm_test_ds.add_extra_column(\"glm_scores\", test_scores)\n",
    "\n",
    "print(vm_train_ds)\n",
    "print(vm_test_ds)"
   ]
  },
  {
   "cell_type": "markdown",
   "metadata": {},
   "source": [
    "### Data validation\n",
    "\n",
    "Data validation is our quality checkpoint before diving into the depths of analysis. Here, we make sure that the data we're working with is accurate, consistent, and ready for rigorous testing. We're looking for anything out of the ordinary that might skew our models or results."
   ]
  },
  {
   "cell_type": "markdown",
   "metadata": {},
   "source": [
    "#### Run tests for raw data tests\n",
    "\n",
    "Initial scrutiny is applied to the unprocessed data to detect any anomalies. This involves:\n",
    "\n",
    "- *Tabular Description Tables*: Offer a statistical summary for each variable.\n",
    "- *Missing Values Bar Plot*: Chart out the presence of any missing data."
   ]
  },
  {
   "cell_type": "code",
   "execution_count": 15,
   "metadata": {},
   "outputs": [
    {
     "data": {
      "application/vnd.jupyter.widget-view+json": {
       "model_id": "8774f6e1be684f519aa760a89833c265",
       "version_major": 2,
       "version_minor": 0
      },
      "text/plain": [
       "VBox(children=(HTML(value='<h1>Tabular Description Tables</h1>'), HTML(value='<p>Summarizes key descriptive st…"
      ]
     },
     "metadata": {},
     "output_type": "display_data"
    }
   ],
   "source": [
    "\n",
    "test= vm.tests.run_test(\n",
    "    \"validmind.data_validation.TabularDescriptionTables\",\n",
    "    inputs = {\n",
    "        \"dataset\": vm_raw_dataset\n",
    "    }\n",
    ")\n",
    "test.log()"
   ]
  },
  {
   "cell_type": "code",
   "execution_count": 16,
   "metadata": {},
   "outputs": [
    {
     "data": {
      "application/vnd.jupyter.widget-view+json": {
       "model_id": "3582ee664e4440e8adb78ac20cde2797",
       "version_major": 2,
       "version_minor": 0
      },
      "text/plain": [
       "VBox(children=(HTML(value='<h1>Missing Values Bar Plot</h1>'), HTML(value=\"<p>Creates a bar plot showcasing th…"
      ]
     },
     "metadata": {},
     "output_type": "display_data"
    }
   ],
   "source": [
    "\n",
    "test= vm.tests.run_test(\n",
    "    \"validmind.data_validation.MissingValuesBarPlot\",\n",
    "    inputs = {\n",
    "        \"dataset\": vm_raw_dataset\n",
    "    }\n",
    ")\n",
    "test.log()"
   ]
  },
  {
   "cell_type": "markdown",
   "metadata": {},
   "source": [
    "#### Run tests for preprocessed data\n",
    "\n",
    "Prior to modeling, the data undergoes a final review to affirm its preparedness. We conduct:\n",
    "\n",
    "- *Tabular Description Tables*: Checking structural integrity after preprocessing.\n",
    "- *IQR Outliers Table*: Searching for statistical anomalies that may impact results.\n",
    "- *Class Imbalance*: Investigating the proportionality of outcome classes.\n",
    "- *Tabular Numerical Histograms*: Visualizing distributions for numerical variables.\n",
    "- *Tabular Categorical Bar Plots*: Analyzing frequencies of categorical variables.\n",
    "- *Target Rate Bar Plots*: Examining the distribution of the target variable across categories.\n",
    "- *Pearson Correlation Matrix*: Identifying linear relationships between variables.\n"
   ]
  },
  {
   "cell_type": "code",
   "execution_count": 17,
   "metadata": {},
   "outputs": [
    {
     "data": {
      "application/vnd.jupyter.widget-view+json": {
       "model_id": "8e2e82a3a7254f48a193d346e5012307",
       "version_major": 2,
       "version_minor": 0
      },
      "text/plain": [
       "VBox(children=(HTML(value='<h1>Tabular Description Tables</h1>'), HTML(value='<p>Summarizes key descriptive st…"
      ]
     },
     "metadata": {},
     "output_type": "display_data"
    }
   ],
   "source": [
    "\n",
    "test= vm.tests.run_test(\n",
    "    \"validmind.data_validation.TabularDescriptionTables\",\n",
    "    inputs = {\n",
    "        \"dataset\": vm_preprocess_dataset\n",
    "    }\n",
    ")\n",
    "test.log()"
   ]
  },
  {
   "cell_type": "code",
   "execution_count": 18,
   "metadata": {},
   "outputs": [
    {
     "data": {
      "application/vnd.jupyter.widget-view+json": {
       "model_id": "984028ee279445c089ce40b343626a93",
       "version_major": 2,
       "version_minor": 0
      },
      "text/plain": [
       "VBox(children=(HTML(value='<h1>IQR Outliers Table</h1>'), HTML(value='<p>Determines and summarizes outliers in…"
      ]
     },
     "metadata": {},
     "output_type": "display_data"
    }
   ],
   "source": [
    "\n",
    "test= vm.tests.run_test(\n",
    "    \"validmind.data_validation.IQROutliersTable\",\n",
    "    inputs = {\n",
    "        \"dataset\": vm_preprocess_dataset\n",
    "    }\n",
    ")\n",
    "test.log()"
   ]
  },
  {
   "cell_type": "code",
   "execution_count": 19,
   "metadata": {},
   "outputs": [
    {
     "data": {
      "application/vnd.jupyter.widget-view+json": {
       "model_id": "da35238eaf9a4333a9782752c2519a8b",
       "version_major": 2,
       "version_minor": 0
      },
      "text/plain": [
       "VBox(children=(HTML(value='\\n            <h1>Class Imbalance ✅</h1>\\n            <p>Evaluates and quantifies c…"
      ]
     },
     "metadata": {},
     "output_type": "display_data"
    }
   ],
   "source": [
    "\n",
    "test= vm.tests.run_test(\n",
    "    \"validmind.data_validation.ClassImbalance\",\n",
    "    inputs = {\n",
    "        \"dataset\": vm_preprocess_dataset\n",
    "    }\n",
    ")\n",
    "test.log()"
   ]
  },
  {
   "cell_type": "code",
   "execution_count": 20,
   "metadata": {},
   "outputs": [
    {
     "data": {
      "application/vnd.jupyter.widget-view+json": {
       "model_id": "0f571f45fdb148d989891a827db596f4",
       "version_major": 2,
       "version_minor": 0
      },
      "text/plain": [
       "VBox(children=(HTML(value='<h1>Tabular Numerical Histograms</h1>'), HTML(value=\"<p>Generates histograms for ea…"
      ]
     },
     "metadata": {},
     "output_type": "display_data"
    }
   ],
   "source": [
    "\n",
    "test= vm.tests.run_test(\n",
    "    \"validmind.data_validation.TabularNumericalHistograms\",\n",
    "    inputs = {\n",
    "        \"dataset\": vm_preprocess_dataset\n",
    "    }\n",
    ")\n",
    "test.log()"
   ]
  },
  {
   "cell_type": "code",
   "execution_count": 21,
   "metadata": {},
   "outputs": [
    {
     "data": {
      "application/vnd.jupyter.widget-view+json": {
       "model_id": "541a5cd68bb0430b98c68b199ae7bf06",
       "version_major": 2,
       "version_minor": 0
      },
      "text/plain": [
       "VBox(children=(HTML(value='<h1>Tabular Categorical Bar Plots</h1>'), HTML(value=\"<p>Generates and visualizes b…"
      ]
     },
     "metadata": {},
     "output_type": "display_data"
    }
   ],
   "source": [
    "\n",
    "test= vm.tests.run_test(\n",
    "    \"validmind.data_validation.TabularCategoricalBarPlots\",\n",
    "    inputs = {\n",
    "        \"dataset\": vm_preprocess_dataset\n",
    "    }\n",
    ")\n",
    "test.log()"
   ]
  },
  {
   "cell_type": "code",
   "execution_count": 22,
   "metadata": {},
   "outputs": [
    {
     "name": "stdout",
     "output_type": "stream",
     "text": [
      "The column loan_status is correct and contains only 1 and 0.\n"
     ]
    },
    {
     "data": {
      "application/vnd.jupyter.widget-view+json": {
       "model_id": "47960fea5c8646038a4bf8c350c60614",
       "version_major": 2,
       "version_minor": 0
      },
      "text/plain": [
       "VBox(children=(HTML(value='<h1>Target Rate Bar Plots</h1>'), HTML(value='<p>Generates bar plots visualizing th…"
      ]
     },
     "metadata": {},
     "output_type": "display_data"
    }
   ],
   "source": [
    "\n",
    "test= vm.tests.run_test(\n",
    "    \"validmind.data_validation.TargetRateBarPlots\",\n",
    "    inputs = {\n",
    "        \"dataset\": vm_preprocess_dataset\n",
    "    },\n",
    "    params = {\n",
    "        \"default_column\": lending_club.target_column,\n",
    "        \"columns\": None\n",
    "    }\n",
    ")\n",
    "test.log()"
   ]
  },
  {
   "cell_type": "code",
   "execution_count": 23,
   "metadata": {},
   "outputs": [
    {
     "data": {
      "application/vnd.jupyter.widget-view+json": {
       "model_id": "cc35e559e53e4feda4303b968ba82f3e",
       "version_major": 2,
       "version_minor": 0
      },
      "text/plain": [
       "VBox(children=(HTML(value='<h1>Pearson Correlation Matrix</h1>'), HTML(value=\"<p>Evaluates linear dependency b…"
      ]
     },
     "metadata": {},
     "output_type": "display_data"
    }
   ],
   "source": [
    "\n",
    "test= vm.tests.run_test(\n",
    "    \"validmind.data_validation.PearsonCorrelationMatrix\",\n",
    "    inputs = {\n",
    "        \"dataset\": vm_preprocess_dataset\n",
    "    }\n",
    ")\n",
    "test.log()"
   ]
  },
  {
   "cell_type": "markdown",
   "metadata": {},
   "source": [
    "#### Run tests for WoE analysis\n",
    "\n",
    "Ensuring data segmentation aligns with predictive value. We look into:\n",
    "\n",
    "- *WOE Bin Table*: Checking the bins and their corresponding Weight of Evidence values.\n",
    "- *WOE Bin Plots*: Displaying the distribution of WoE across the data spectrum."
   ]
  },
  {
   "cell_type": "code",
   "execution_count": 24,
   "metadata": {},
   "outputs": [
    {
     "name": "stdout",
     "output_type": "stream",
     "text": [
      "Running with breaks_adj: {'loan_amnt': [5000, 10000, 15000, 20000, 25000], 'int_rate': [10, 15, 20], 'annual_inc': [50000, 100000, 150000]}\n",
      "Performing binning with breaks_adj: {'loan_amnt': [5000, 10000, 15000, 20000, 25000], 'int_rate': [10, 15, 20], 'annual_inc': [50000, 100000, 150000]}\n",
      "[INFO] creating woe binning ...\n"
     ]
    },
    {
     "data": {
      "application/vnd.jupyter.widget-view+json": {
       "model_id": "fa1c4b472d6d4db0ac80a004adf6fe10",
       "version_major": 2,
       "version_minor": 0
      },
      "text/plain": [
       "VBox(children=(HTML(value='<h1>WOE Bin Table</h1>'), HTML(value=\"<p>Calculates and assesses the Weight of Evid…"
      ]
     },
     "metadata": {},
     "output_type": "display_data"
    }
   ],
   "source": [
    "\n",
    "test= vm.tests.run_test(\n",
    "    \"validmind.data_validation.WOEBinTable\",\n",
    "    inputs = {\n",
    "        \"dataset\": vm_preprocess_dataset\n",
    "    },\n",
    "    params = {\n",
    "        \"breaks_adj\": lending_club.breaks_adj\n",
    "    }\n",
    ")\n",
    "test.log()"
   ]
  },
  {
   "cell_type": "code",
   "execution_count": 25,
   "metadata": {},
   "outputs": [
    {
     "name": "stdout",
     "output_type": "stream",
     "text": [
      "[INFO] creating woe binning ...\n"
     ]
    },
    {
     "data": {
      "application/vnd.jupyter.widget-view+json": {
       "model_id": "17284f90b40b4516a89f22c7cc09bb3b",
       "version_major": 2,
       "version_minor": 0
      },
      "text/plain": [
       "VBox(children=(HTML(value='<h1>WOE Bin Plots</h1>'), HTML(value=\"<p>Generates visualizations of Weight of Evid…"
      ]
     },
     "metadata": {},
     "output_type": "display_data"
    }
   ],
   "source": [
    "\n",
    "test= vm.tests.run_test(\n",
    "    \"validmind.data_validation.WOEBinPlots\",\n",
    "    inputs = {\n",
    "        \"dataset\": vm_preprocess_dataset\n",
    "    },\n",
    "    params = {\n",
    "        \"breaks_adj\": lending_club.breaks_adj\n",
    "    }\n",
    ")\n",
    "test.log()"
   ]
  },
  {
   "cell_type": "markdown",
   "metadata": {},
   "source": [
    "### Model validation\n",
    "\n",
    "This phase verifies the model's predictive power and generalizability. Tests are applied to both training and evaluation stages to ensure robustness and accuracy."
   ]
  },
  {
   "cell_type": "markdown",
   "metadata": {},
   "source": [
    "#### Run tests for model training\n",
    "\n",
    "This step assesses the model's learning process for stability and significance. This involves:\n",
    "\n",
    "- *Regression Coeffs Plot*: Visual inspection of the model's coefficients.\n",
    "- *Regression Models Coeffs*: Detailed evaluation of the regression coefficients' values."
   ]
  },
  {
   "cell_type": "code",
   "execution_count": 26,
   "metadata": {},
   "outputs": [
    {
     "data": {
      "application/vnd.jupyter.widget-view+json": {
       "model_id": "9f71f413039440bd9d7114d62e57d100",
       "version_major": 2,
       "version_minor": 0
      },
      "text/plain": [
       "VBox(children=(HTML(value='<h1>Regression Coeffs Plot</h1>'), HTML(value=\"<p>Visualizes regression coefficient…"
      ]
     },
     "metadata": {},
     "output_type": "display_data"
    }
   ],
   "source": [
    "\n",
    "test= vm.tests.run_test(\n",
    "    \"validmind.model_validation.statsmodels.RegressionCoeffsPlot\",\n",
    "    inputs = {\n",
    "        \"models\": [vm_model]\n",
    "    }\n",
    ")\n",
    "test.log()"
   ]
  },
  {
   "cell_type": "code",
   "execution_count": 27,
   "metadata": {},
   "outputs": [
    {
     "data": {
      "application/vnd.jupyter.widget-view+json": {
       "model_id": "809f0d24705f433b921cb829f5d37f45",
       "version_major": 2,
       "version_minor": 0
      },
      "text/plain": [
       "VBox(children=(HTML(value='<h1>Regression Models Coeffs</h1>'), HTML(value=\"<p>Compares feature importance by …"
      ]
     },
     "metadata": {},
     "output_type": "display_data"
    }
   ],
   "source": [
    "\n",
    "test= vm.tests.run_test(\n",
    "    \"validmind.model_validation.statsmodels.RegressionModelsCoeffs\",\n",
    "    inputs = {\n",
    "        \"models\": [vm_model]\n",
    "    }\n",
    ")\n",
    "test.log()"
   ]
  },
  {
   "cell_type": "markdown",
   "metadata": {},
   "source": [
    "#### Run tests for model evaluation\n",
    "\n",
    "We measure the model's performance on unseen data to validate its predictive power. We conduct:\n",
    "\n",
    "- *Log Reg Performance Table*: Summarizing logistic regression metrics.\n",
    "- *GINI Table*: Assessing the discriminatory power of the model.\n",
    "- *Log Reg Confusion Matrix*: Understanding classification accuracy.\n",
    "- *Log Reg ROC Curve*: Plotting the trade-off between sensitivity and specificity.\n",
    "- *Log Reg Prediction Histogram*: Distributing predictions to visualize outcomes.\n",
    "- *Log Reg Cumulative Prob*: Cumulative probability analysis for predictions.\n",
    "- *Scorecard Histogram*: Evaluating the distribution of scorecard points."
   ]
  },
  {
   "cell_type": "code",
   "execution_count": 28,
   "metadata": {},
   "outputs": [
    {
     "data": {
      "application/vnd.jupyter.widget-view+json": {
       "model_id": "9467a0d0a420451c83f9dd7e3581d487",
       "version_major": 2,
       "version_minor": 0
      },
      "text/plain": [
       "VBox(children=(HTML(value='<h1>Log Reg Performance Table</h1>'), HTML(value='<p>Evaluates logistic regression …"
      ]
     },
     "metadata": {},
     "output_type": "display_data"
    }
   ],
   "source": [
    "\n",
    "test = vm.tests.run_test(\n",
    "    \"validmind.model_validation.statsmodels.LogRegPerformanceTable\",\n",
    "    inputs={\n",
    "        \"datasets\": [vm_train_ds, vm_test_ds],\n",
    "        \"model\": vm_model,\n",
    "    },\n",
    "    params = {\n",
    "        \"cut_off_threshold\": 0.5\n",
    "    }\n",
    ")\n",
    "test.log()"
   ]
  },
  {
   "cell_type": "code",
   "execution_count": 29,
   "metadata": {},
   "outputs": [
    {
     "name": "stdout",
     "output_type": "stream",
     "text": [
      "Computing metrics for Train dataset...\n",
      "Computing metrics for Test dataset...\n"
     ]
    },
    {
     "data": {
      "application/vnd.jupyter.widget-view+json": {
       "model_id": "a17527b4a81e43c294695a33aae887eb",
       "version_major": 2,
       "version_minor": 0
      },
      "text/plain": [
       "VBox(children=(HTML(value='<h1>GINI Table</h1>'), HTML(value=\"<p>Evaluates classification model performance us…"
      ]
     },
     "metadata": {},
     "output_type": "display_data"
    }
   ],
   "source": [
    "\n",
    "test= vm.tests.run_test(\n",
    "    \"validmind.model_validation.statsmodels.GINITable\",\n",
    "    inputs = {\n",
    "        \"model\": vm_model,\n",
    "        \"datasets\": [vm_train_ds, vm_test_ds]\n",
    "    }\n",
    ")\n",
    "test.log()"
   ]
  },
  {
   "cell_type": "code",
   "execution_count": 30,
   "metadata": {},
   "outputs": [
    {
     "data": {
      "application/vnd.jupyter.widget-view+json": {
       "model_id": "f72d8be296a24e55b1524a8628dc6da1",
       "version_major": 2,
       "version_minor": 0
      },
      "text/plain": [
       "VBox(children=(HTML(value='<h1>Log Reg Confusion Matrix</h1>'), HTML(value=\"<p>Generates a confusion matrix fo…"
      ]
     },
     "metadata": {},
     "output_type": "display_data"
    }
   ],
   "source": [
    "\n",
    "test= vm.tests.run_test(\n",
    "    \"validmind.model_validation.statsmodels.LogRegConfusionMatrix\",\n",
    "    inputs = {\n",
    "        \"dataset\": vm_test_ds,\n",
    "        \"model\": vm_model\n",
    "    },\n",
    "    params = {\n",
    "        \"cut_off_threshold\": 0.5\n",
    "    }\n",
    ")\n",
    "test.log()"
   ]
  },
  {
   "cell_type": "code",
   "execution_count": 31,
   "metadata": {},
   "outputs": [
    {
     "data": {
      "application/vnd.jupyter.widget-view+json": {
       "model_id": "4ac2bcb581ae49d0b04a31eb196c31d2",
       "version_major": 2,
       "version_minor": 0
      },
      "text/plain": [
       "VBox(children=(HTML(value='<h1>Log Reg ROC Curve</h1>'), HTML(value=\"<p>Evaluates binary classification model …"
      ]
     },
     "metadata": {},
     "output_type": "display_data"
    }
   ],
   "source": [
    "\n",
    "test= vm.tests.run_test(\n",
    "    \"validmind.model_validation.statsmodels.LogRegROCCurve\",\n",
    "    inputs = {\n",
    "        \"model\": vm_model,\n",
    "        \"dataset\": vm_test_ds\n",
    "    }\n",
    ")\n",
    "test.log()"
   ]
  },
  {
   "cell_type": "code",
   "execution_count": 32,
   "metadata": {},
   "outputs": [
    {
     "data": {
      "application/vnd.jupyter.widget-view+json": {
       "model_id": "3874b2084d92446995f43340a11f1ee1",
       "version_major": 2,
       "version_minor": 0
      },
      "text/plain": [
       "VBox(children=(HTML(value='<h1>Log Reg Prediction Histogram</h1>'), HTML(value=\"<p>Generates and visualizes hi…"
      ]
     },
     "metadata": {},
     "output_type": "display_data"
    }
   ],
   "source": [
    "\n",
    "test= vm.tests.run_test(\n",
    "    \"validmind.model_validation.statsmodels.LogRegPredictionHistogram\",\n",
    "    inputs = {\n",
    "        \"model\": vm_model,\n",
    "        \"datasets\": [vm_train_ds, vm_test_ds]\n",
    "    }\n",
    ")\n",
    "test.log()"
   ]
  },
  {
   "cell_type": "code",
   "execution_count": 33,
   "metadata": {},
   "outputs": [
    {
     "data": {
      "application/vnd.jupyter.widget-view+json": {
       "model_id": "1ee99409c2e5475191e674c5671c04f9",
       "version_major": 2,
       "version_minor": 0
      },
      "text/plain": [
       "VBox(children=(HTML(value='<h1>Log Reg Cumulative Prob</h1>'), HTML(value=\"<p>Visualizes cumulative probabilit…"
      ]
     },
     "metadata": {},
     "output_type": "display_data"
    }
   ],
   "source": [
    "\n",
    "test= vm.tests.run_test(\n",
    "    \"validmind.model_validation.statsmodels.LogRegCumulativeProb\",\n",
    "    inputs = {\n",
    "        \"model\": vm_model,\n",
    "        \"datasets\": [vm_train_ds, vm_test_ds]\n",
    "    }\n",
    ")\n",
    "test.log()"
   ]
  },
  {
   "cell_type": "code",
   "execution_count": 34,
   "metadata": {},
   "outputs": [
    {
     "data": {
      "application/vnd.jupyter.widget-view+json": {
       "model_id": "14fb2cfea83c49758631aab4aa5877df",
       "version_major": 2,
       "version_minor": 0
      },
      "text/plain": [
       "VBox(children=(HTML(value='<h1>Scorecard Histogram</h1>'), HTML(value=\"<p>Creates histograms of credit scores,…"
      ]
     },
     "metadata": {},
     "output_type": "display_data"
    }
   ],
   "source": [
    "\n",
    "test= vm.tests.run_test(\n",
    "    \"validmind.model_validation.statsmodels.ScorecardHistogram\",\n",
    "    inputs = {\n",
    "        \"model\": vm_model,\n",
    "        \"datasets\": [vm_train_ds, vm_test_ds]\n",
    "    },\n",
    "    params = {\n",
    "        \"score_column\": \"glm_scores\"\n",
    "    }\n",
    ")\n",
    "test.log()"
   ]
  },
  {
   "cell_type": "markdown",
   "metadata": {},
   "source": [
    "## Next steps\n",
    "\n",
    "You can look at the results of this test suite right in the notebook where you ran the code, as you would expect. But there is a better way: view the test results as part of your model documentation right in the ValidMind Platform UI: \n",
    "\n",
    "1. In the [Platform UI](https://app.prod.validmind.ai), go to the **Documentation** page for the model you registered earlier.\n",
    "\n",
    "2. TBC\n",
    "\n",
    "What you can see now is a more easily consumable version of the tests you just executed, along with other parts of your model documentation that still need to be completed. \n",
    "\n",
    "If you want to learn more about where you are in the model documentation process, take a look at [How do I use the framework?](https://docs.validmind.ai/guide/get-started-developer-framework.html#how-do-i-use-the-framework)."
   ]
  }
 ],
 "metadata": {
  "kernelspec": {
   "display_name": "validmind-py3.10",
   "language": "python",
   "name": "validmind-py3.10"
  },
  "language_info": {
   "codemirror_mode": {
    "name": "ipython",
    "version": 3
   },
   "file_extension": ".py",
   "mimetype": "text/x-python",
   "name": "python",
   "nbconvert_exporter": "python",
   "pygments_lexer": "ipython3",
   "version": "3.10.13"
  },
  "orig_nbformat": 4
 },
 "nbformat": 4,
 "nbformat_minor": 2
}
