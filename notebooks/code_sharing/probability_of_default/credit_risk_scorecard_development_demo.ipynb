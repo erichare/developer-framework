{
 "cells": [
  {
   "attachments": {},
   "cell_type": "markdown",
   "metadata": {},
   "source": [
    "# Credit Risk Scorecard Model Development"
   ]
  },
  {
   "attachments": {},
   "cell_type": "markdown",
   "metadata": {},
   "source": [
    "## Introduction"
   ]
  },
  {
   "attachments": {},
   "cell_type": "markdown",
   "metadata": {},
   "source": [
    "The **Credit risk Scorecard** model created from the Lending Club dataset is instrumental in computing the Probability of Default (PD), a key factor in ECL calculations. This scorecard assesses several credit characteristics of potential borrowers, like their credit history, income, outstanding debts, and more, each of which is assigned a specific score. By combining these scores, we derive a total score for each borrower, which translates into an estimated Point-in-Time (PiT) PD. The PiT PD reflects the borrower's likelihood of default at a specific point in time, accounting for both current and foreseeable future conditions.\n",
    "\n",
    "Additionally, for a holistic view of credit risk, it's essential to estimate the Lifetime PD. The Lifetime PD, as the name suggests, predicts the borrower's likelihood of default throughout the life of the exposure, taking into account potential future changes in the economic and financial conditions."
   ]
  },
  {
   "attachments": {},
   "cell_type": "markdown",
   "metadata": {},
   "source": [
    "## Setup"
   ]
  },
  {
   "attachments": {},
   "cell_type": "markdown",
   "metadata": {},
   "source": [
    "### Import Libraries"
   ]
  },
  {
   "cell_type": "code",
   "execution_count": null,
   "metadata": {},
   "outputs": [],
   "source": [
    "from notebooks.probability_of_default.helpers.Developer import Developer\n",
    "from notebooks.probability_of_default.helpers.scorecard_model import *\n",
    "from notebooks.probability_of_default.helpers.model_development import *\n",
    "\n",
    "from IPython.display import HTML\n"
   ]
  },
  {
   "attachments": {},
   "cell_type": "markdown",
   "metadata": {},
   "source": [
    "### Input Parameters"
   ]
  },
  {
   "cell_type": "code",
   "execution_count": null,
   "metadata": {},
   "outputs": [],
   "source": [
    "default_column = \"default\"\n",
    "\n",
    "lending_club_url = \"https://vmai.s3.us-west-1.amazonaws.com/datasets/lending_club_loan_data_2007_2014.csv\"\n",
    "\n",
    "preliminary_features_to_drop = [\n",
    "    \"Unnamed: 0\",\n",
    "    \"id\", \"member_id\", \"funded_amnt\", \"emp_title\", \"url\", \"desc\", \"application_type\",\n",
    "    \"title\", \"zip_code\", \"delinq_2yrs\", \"mths_since_last_delinq\", \"mths_since_last_record\",\n",
    "    \"revol_bal\", \"total_rec_prncp\", \"total_rec_late_fee\", \"recoveries\", \"out_prncp_inv\", \"out_prncp\",\n",
    "    \"collection_recovery_fee\", \"next_pymnt_d\", \"initial_list_status\", \"pub_rec\",\n",
    "    \"collections_12_mths_ex_med\", \"policy_code\", \"acc_now_delinq\", \"pymnt_plan\",\n",
    "    \"tot_coll_amt\", \"tot_cur_bal\", \"total_rev_hi_lim\", \"last_pymnt_d\", \"last_credit_pull_d\",\n",
    "    'earliest_cr_line', 'issue_d']\n",
    "\n",
    "final_features_to_drop = ['addr_state', 'total_rec_int', 'loan_amnt',\n",
    "                    'funded_amnt_inv', 'dti', 'revol_util', 'total_pymnt',\n",
    "                    'total_pymnt_inv', 'last_pymnt_amnt', \"inq_last_6mths\"]\n",
    "\n",
    "min_missing_percentage = 0.8\n",
    "\n",
    "iqr_threshold = 1.5\n",
    "\n",
    "test_size = 0.2\n",
    "\n",
    "woe_breaks_adj = {\"int_rate\": [5,10,15]}\n",
    "\n",
    "# Import Data\n",
    "id_params = {\"source\": lending_club_url}\n",
    "\n",
    "# Data Preparation\n",
    "dp_params = {\n",
    "    \"features_to_drop\": preliminary_features_to_drop,\n",
    "    \"default_column\": default_column,\n",
    "    \"min_missing_percentage\": min_missing_percentage,\n",
    "    \"iqr_threshold\": iqr_threshold,\n",
    "}\n",
    "\n",
    "# Data Split\n",
    "ds_params = {\n",
    "    \"target_column\": default_column,\n",
    "    \"test_size\": test_size\n",
    "}\n",
    "\n",
    "# Feature Selection\n",
    "fs_params = {\n",
    "    \"features_to_drop\": final_features_to_drop\n",
    "}\n",
    "\n",
    "# Feature Engineering\n",
    "fe_params = {\n",
    "    \"target_column\": default_column,\n",
    "    \"woe_breaks_adj\": woe_breaks_adj\n",
    "}\n",
    "\n",
    "# Model Training\n",
    "mt_params = {\n",
    "    \"target_column\": default_column,\n",
    "    \"add_constant\": False\n",
    "}"
   ]
  },
  {
   "attachments": {},
   "cell_type": "markdown",
   "metadata": {},
   "source": [
    "## Model Development"
   ]
  },
  {
   "cell_type": "code",
   "execution_count": null,
   "metadata": {},
   "outputs": [],
   "source": [
    "df_raw = import_data(id_params)"
   ]
  },
  {
   "cell_type": "code",
   "execution_count": null,
   "metadata": {},
   "outputs": [],
   "source": [
    "df_prepared = data_preparation(df_raw, dp_params)"
   ]
  },
  {
   "cell_type": "code",
   "execution_count": null,
   "metadata": {},
   "outputs": [],
   "source": [
    "df_train, df_test = data_split(df_prepared, ds_params)"
   ]
  },
  {
   "cell_type": "code",
   "execution_count": null,
   "metadata": {},
   "outputs": [],
   "source": [
    "df_train_feature_selection = feature_selection(df_train, fs_params)\n",
    "df_test_feature_selection = feature_selection(df_test, fs_params)"
   ]
  },
  {
   "cell_type": "code",
   "execution_count": null,
   "metadata": {},
   "outputs": [],
   "source": [
    "df_train_feature_eng = feature_engineering(df_train_feature_selection, fe_params)\n",
    "df_test_feature_eng = feature_engineering(df_test_feature_selection, fe_params)"
   ]
  },
  {
   "cell_type": "code",
   "execution_count": null,
   "metadata": {},
   "outputs": [],
   "source": [
    "df_train_feature_eng = add_constant(df_train_feature_eng)\n",
    "df_test_feature_eng = add_constant(df_test_feature_eng)\n",
    "\n",
    "model_fit_candidate = model_training(df_train_feature_eng, mt_params)"
   ]
  },
  {
   "cell_type": "code",
   "execution_count": null,
   "metadata": {},
   "outputs": [],
   "source": [
    "print(model_fit_candidate.summary())"
   ]
  },
  {
   "attachments": {},
   "cell_type": "markdown",
   "metadata": {},
   "source": [
    "## Save Data and Models"
   ]
  },
  {
   "cell_type": "code",
   "execution_count": null,
   "metadata": {},
   "outputs": [],
   "source": [
    "developer = Developer()\n",
    "\n",
    "objects_to_store = {\n",
    "    \"df_raw\": df_raw,\n",
    "    \"df_prepared\": df_prepared,\n",
    "    \"df_train\": df_train,\n",
    "    \"df_train_feature_selection\": df_train_feature_selection,\n",
    "    \"df_train_feature_eng\": df_train_feature_eng,\n",
    "    \"df_test_feature_eng\": df_test_feature_eng,\n",
    "    \"model_fit_final\": model_fit_candidate,\n",
    "}\n",
    "\n",
    "developer.save_objects_to_pickle(\n",
    "    filename=\"datasets/scorecard_data_and_models.pkl\",\n",
    "    objects_to_save=objects_to_store)"
   ]
  }
 ],
 "metadata": {
  "kernelspec": {
   "display_name": "dev-framework",
   "language": "python",
   "name": "dev-framework"
  },
  "language_info": {
   "codemirror_mode": {
    "name": "ipython",
    "version": 3
   },
   "file_extension": ".py",
   "mimetype": "text/x-python",
   "name": "python",
   "nbconvert_exporter": "python",
   "pygments_lexer": "ipython3",
   "version": "3.10.13"
  },
  "orig_nbformat": 4
 },
 "nbformat": 4,
 "nbformat_minor": 2
}
