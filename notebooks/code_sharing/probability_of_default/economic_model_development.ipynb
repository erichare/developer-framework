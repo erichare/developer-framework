{
 "cells": [
  {
   "attachments": {},
   "cell_type": "markdown",
   "metadata": {},
   "source": [
    "# Macroeconomic Model Development"
   ]
  },
  {
   "attachments": {},
   "cell_type": "markdown",
   "metadata": {},
   "source": [
    "## Introduction"
   ]
  },
  {
   "attachments": {},
   "cell_type": "markdown",
   "metadata": {},
   "source": []
  },
  {
   "attachments": {},
   "cell_type": "markdown",
   "metadata": {},
   "source": [
    "## Setup"
   ]
  },
  {
   "attachments": {},
   "cell_type": "markdown",
   "metadata": {},
   "source": [
    "### Import Libraries"
   ]
  },
  {
   "cell_type": "code",
   "execution_count": null,
   "metadata": {},
   "outputs": [],
   "source": [
    "from notebooks.probability_of_default.helpers.Developer import Developer\n",
    "from notebooks.probability_of_default.helpers.macroeconomic_tasks import *\n",
    "\n",
    "from IPython.display import HTML"
   ]
  },
  {
   "attachments": {},
   "cell_type": "markdown",
   "metadata": {},
   "source": [
    "### Input Parameters"
   ]
  },
  {
   "cell_type": "code",
   "execution_count": null,
   "metadata": {},
   "outputs": [],
   "source": [
    "target_column = ['DRSFRMACBS']\n",
    "\n",
    "candidate_features = ['GS10', 'GDPC1', 'UNRATE', 'CPIAUCSL', 'FEDFUNDS', 'CSUSHPISA']\n",
    "final_features = ['UNRATE', 'CPIAUCSL', 'FEDFUNDS', 'CSUSHPISA']\n",
    "\n",
    "# Data preparation\n",
    "dp_params = {\n",
    "    \"end_date\": '2019-12-31',\n",
    "    \"resample_freq\": 'MS'}\n",
    "\n",
    "# Data split\n",
    "ds_params = {\n",
    "    \"test_pct\": 0.3\n",
    "}\n",
    "\n",
    "# Feature selection\n",
    "fs_params = {\n",
    "    \"features\": candidate_features,\n",
    "    \"target_column\": target_column\n",
    "}\n",
    "\n",
    "# Model training\n",
    "mt_params = {\n",
    "    \"target_column\": target_column\n",
    "}\n",
    "\n",
    "# Final feature selection\n",
    "ffs_params = {\n",
    "    \"features\": final_features,\n",
    "    \"target_column\": target_column\n",
    "}"
   ]
  },
  {
   "attachments": {},
   "cell_type": "markdown",
   "metadata": {},
   "source": [
    "## Model Development"
   ]
  },
  {
   "cell_type": "code",
   "execution_count": null,
   "metadata": {},
   "outputs": [],
   "source": [
    "df_raw = import_data()\n",
    "df_prepared = data_preparation(df_raw, dp_params)\n",
    "df_candidate_features = feature_selection(df_prepared, fs_params)\n",
    "df_train, df_test = data_split(df_candidate_features, ds_params)"
   ]
  },
  {
   "cell_type": "code",
   "execution_count": null,
   "metadata": {},
   "outputs": [],
   "source": [
    "model_fit = model_training(df_train, mt_params)\n",
    "print(model_fit.summary())"
   ]
  },
  {
   "cell_type": "code",
   "execution_count": null,
   "metadata": {},
   "outputs": [],
   "source": [
    "df_train_final = feature_selection(df_train, ffs_params)\n",
    "df_test_final = feature_selection(df_test, ffs_params)"
   ]
  },
  {
   "cell_type": "code",
   "execution_count": null,
   "metadata": {},
   "outputs": [],
   "source": [
    "model_fit_final = model_training(df_train_final, mt_params)\n",
    "print(model_fit_final.summary())"
   ]
  },
  {
   "attachments": {},
   "cell_type": "markdown",
   "metadata": {},
   "source": [
    "## Validation Plan"
   ]
  },
  {
   "cell_type": "code",
   "execution_count": null,
   "metadata": {},
   "outputs": [],
   "source": [
    "developer = Developer()\n",
    "\n",
    "# df_validation = developer.show_validation_plan()\n",
    "#display(HTML(df_validation.to_html(escape=False)))"
   ]
  },
  {
   "attachments": {},
   "cell_type": "markdown",
   "metadata": {},
   "source": [
    "## Save Data and Model "
   ]
  },
  {
   "cell_type": "code",
   "execution_count": null,
   "metadata": {},
   "outputs": [],
   "source": [
    "objects_to_store = {\n",
    "    \"df_raw\": df_raw,\n",
    "    \"df_prepared\": df_prepared,\n",
    "    \"df_train\": df_train,\n",
    "    \"df_test\": df_test,\n",
    "    \"model_fit\": model_fit,\n",
    "    \"df_train_final\": df_train_final,\n",
    "    \"df_test_final\": df_test_final,\n",
    "    \"model_fit_final\": model_fit_final,\n",
    "    # \"df_validation\": df_validation,\n",
    "}\n",
    "\n",
    "developer.save_objects_to_pickle(\n",
    "    filename=\"datasets/macroeconomic_data_and_models.pkl\", \n",
    "    objects_to_save=objects_to_store)"
   ]
  }
 ],
 "metadata": {
  "kernelspec": {
   "display_name": "dev-framework",
   "language": "python",
   "name": "dev-framework"
  },
  "language_info": {
   "codemirror_mode": {
    "name": "ipython",
    "version": 3
   },
   "file_extension": ".py",
   "mimetype": "text/x-python",
   "name": "python",
   "nbconvert_exporter": "python",
   "pygments_lexer": "ipython3",
   "version": "3.10.11"
  },
  "orig_nbformat": 4
 },
 "nbformat": 4,
 "nbformat_minor": 2
}
