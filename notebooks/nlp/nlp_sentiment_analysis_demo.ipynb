{
 "cells": [
  {
   "attachments": {},
   "cell_type": "markdown",
   "metadata": {},
   "source": [
    "# Sensitivity Analysis\n",
    "## Natural Language Processing Analysis & Binary Classification using pytorch\n",
    "This notebook aims to present NLP data analysis and binary classification using the PyTorch library on COVID-19 tweets. The emphasis is on the in-depth analysis and preprocessing of the text data (tweets). In the first section, the notebook introduces the manually tagged COVID-19 tweets, which range from Highly Negative to Highly Positive, representing five distinct classes. In this Exploratory Data Analysis (EDA), these five classes will be simplified to two classes: Positive and Negative."
   ]
  },
  {
   "attachments": {},
   "cell_type": "markdown",
   "metadata": {},
   "source": [
    "## Before you begin\n",
    "\n",
    "To use the ValidMind Developer Framework with a Jupyter notebook, you need to install and initialize the client library first, along with getting your Python environment ready.\n",
    "\n",
    "If you don't already have one, you should also [create a documentation project](https://docs.validmind.ai/guide/create-your-first-documentation-project.html) on the ValidMind platform. You will use this project to upload your documentation and test results."
   ]
  },
  {
   "attachments": {},
   "cell_type": "markdown",
   "metadata": {},
   "source": [
    "## Install the client library"
   ]
  },
  {
   "cell_type": "code",
   "execution_count": 1,
   "metadata": {},
   "outputs": [
    {
     "name": "stdout",
     "output_type": "stream",
     "text": [
      "Requirement already satisfied: validmind in /Library/Frameworks/Python.framework/Versions/3.10/lib/python3.10/site-packages (1.15.5)\n",
      "Requirement already satisfied: aiohttp[speedups]<4.0.0,>=3.8.4 in /Library/Frameworks/Python.framework/Versions/3.10/lib/python3.10/site-packages (from validmind) (3.8.4)\n",
      "Requirement already satisfied: arch<6.0.0,>=5.4.0 in /Library/Frameworks/Python.framework/Versions/3.10/lib/python3.10/site-packages (from validmind) (5.6.0)\n",
      "Requirement already satisfied: catboost<2.0,>=1.2 in /Library/Frameworks/Python.framework/Versions/3.10/lib/python3.10/site-packages (from validmind) (1.2)\n",
      "Requirement already satisfied: click<9.0.0,>=8.0.4 in /Library/Frameworks/Python.framework/Versions/3.10/lib/python3.10/site-packages (from validmind) (8.1.4)\n",
      "Requirement already satisfied: dython<0.8.0,>=0.7.1 in /Library/Frameworks/Python.framework/Versions/3.10/lib/python3.10/site-packages (from validmind) (0.7.2)\n",
      "Requirement already satisfied: ipython==7.34.0 in /Library/Frameworks/Python.framework/Versions/3.10/lib/python3.10/site-packages (from validmind) (7.34.0)\n",
      "Requirement already satisfied: ipywidgets<9.0.0,>=8.0.6 in /Library/Frameworks/Python.framework/Versions/3.10/lib/python3.10/site-packages (from validmind) (8.0.7)\n",
      "Requirement already satisfied: kaleido==0.2.1 in /Library/Frameworks/Python.framework/Versions/3.10/lib/python3.10/site-packages (from validmind) (0.2.1)\n",
      "Requirement already satisfied: markdown<4.0.0,>=3.4.3 in /Library/Frameworks/Python.framework/Versions/3.10/lib/python3.10/site-packages (from validmind) (3.4.3)\n",
      "Requirement already satisfied: myst-parser<2.0.0,>=1.0.0 in /Library/Frameworks/Python.framework/Versions/3.10/lib/python3.10/site-packages (from validmind) (1.0.0)\n",
      "Requirement already satisfied: nltk<4.0.0,>=3.8.1 in /Library/Frameworks/Python.framework/Versions/3.10/lib/python3.10/site-packages (from validmind) (3.8.1)\n",
      "Requirement already satisfied: numpy==1.22.3 in /Library/Frameworks/Python.framework/Versions/3.10/lib/python3.10/site-packages (from validmind) (1.22.3)\n",
      "Requirement already satisfied: pandas==1.5.3 in /Library/Frameworks/Python.framework/Versions/3.10/lib/python3.10/site-packages (from validmind) (1.5.3)\n",
      "Requirement already satisfied: pandas-profiling<4.0.0,>=3.6.6 in /Library/Frameworks/Python.framework/Versions/3.10/lib/python3.10/site-packages (from validmind) (3.6.6)\n",
      "Requirement already satisfied: pdoc<14.0.0,>=13.1.1 in /Library/Frameworks/Python.framework/Versions/3.10/lib/python3.10/site-packages (from validmind) (13.1.1)\n",
      "Requirement already satisfied: plotly<6.0.0,>=5.14.1 in /Library/Frameworks/Python.framework/Versions/3.10/lib/python3.10/site-packages (from validmind) (5.15.0)\n",
      "Requirement already satisfied: pydantic<2.0.0,>=1.9.1 in /Library/Frameworks/Python.framework/Versions/3.10/lib/python3.10/site-packages (from validmind) (1.10.11)\n",
      "Requirement already satisfied: pypmml<0.10.0,>=0.9.17 in /Library/Frameworks/Python.framework/Versions/3.10/lib/python3.10/site-packages (from validmind) (0.9.17)\n",
      "Requirement already satisfied: python-dotenv<0.21.0,>=0.20.0 in /Library/Frameworks/Python.framework/Versions/3.10/lib/python3.10/site-packages (from validmind) (0.20.0)\n",
      "Requirement already satisfied: requests<3.0.0,>=2.27.1 in /Library/Frameworks/Python.framework/Versions/3.10/lib/python3.10/site-packages (from validmind) (2.31.0)\n",
      "Requirement already satisfied: scikit-learn<2.0.0,>=1.0.2 in /Library/Frameworks/Python.framework/Versions/3.10/lib/python3.10/site-packages (from validmind) (1.3.0)\n",
      "Requirement already satisfied: seaborn<0.12.0,>=0.11.2 in /Library/Frameworks/Python.framework/Versions/3.10/lib/python3.10/site-packages (from validmind) (0.11.2)\n",
      "Requirement already satisfied: sentry-sdk<2.0.0,>=1.24.0 in /Library/Frameworks/Python.framework/Versions/3.10/lib/python3.10/site-packages (from validmind) (1.28.0)\n",
      "Requirement already satisfied: shap<0.42.0,>=0.41.0 in /Library/Frameworks/Python.framework/Versions/3.10/lib/python3.10/site-packages (from validmind) (0.41.0)\n",
      "Requirement already satisfied: sphinx<7.0.0,>=6.1.3 in /Library/Frameworks/Python.framework/Versions/3.10/lib/python3.10/site-packages (from validmind) (6.2.1)\n",
      "Requirement already satisfied: sphinx-markdown-builder<0.6.0,>=0.5.5 in /Library/Frameworks/Python.framework/Versions/3.10/lib/python3.10/site-packages (from validmind) (0.5.5)\n",
      "Requirement already satisfied: sphinx-rtd-theme<2.0.0,>=1.2.0 in /Library/Frameworks/Python.framework/Versions/3.10/lib/python3.10/site-packages (from validmind) (1.2.2)\n",
      "Requirement already satisfied: statsmodels<0.14.0,>=0.13.5 in /Library/Frameworks/Python.framework/Versions/3.10/lib/python3.10/site-packages (from validmind) (0.13.5)\n",
      "Requirement already satisfied: tabulate<0.9.0,>=0.8.9 in /Library/Frameworks/Python.framework/Versions/3.10/lib/python3.10/site-packages (from validmind) (0.8.10)\n",
      "Requirement already satisfied: tqdm<5.0.0,>=4.64.0 in /Library/Frameworks/Python.framework/Versions/3.10/lib/python3.10/site-packages (from validmind) (4.65.0)\n",
      "Requirement already satisfied: xgboost<2.0.0,>=1.5.2 in /Library/Frameworks/Python.framework/Versions/3.10/lib/python3.10/site-packages (from validmind) (1.7.6)\n",
      "Requirement already satisfied: setuptools>=18.5 in /Library/Frameworks/Python.framework/Versions/3.10/lib/python3.10/site-packages (from ipython==7.34.0->validmind) (58.1.0)\n",
      "Requirement already satisfied: jedi>=0.16 in /Users/sydneysugar/Library/Python/3.10/lib/python/site-packages (from ipython==7.34.0->validmind) (0.18.2)\n",
      "Requirement already satisfied: decorator in /Users/sydneysugar/Library/Python/3.10/lib/python/site-packages (from ipython==7.34.0->validmind) (5.1.1)\n",
      "Requirement already satisfied: pickleshare in /Users/sydneysugar/Library/Python/3.10/lib/python/site-packages (from ipython==7.34.0->validmind) (0.7.5)\n",
      "Requirement already satisfied: traitlets>=4.2 in /Users/sydneysugar/Library/Python/3.10/lib/python/site-packages (from ipython==7.34.0->validmind) (5.9.0)\n",
      "Requirement already satisfied: prompt-toolkit!=3.0.0,!=3.0.1,<3.1.0,>=2.0.0 in /Users/sydneysugar/Library/Python/3.10/lib/python/site-packages (from ipython==7.34.0->validmind) (3.0.38)\n",
      "Requirement already satisfied: pygments in /Users/sydneysugar/Library/Python/3.10/lib/python/site-packages (from ipython==7.34.0->validmind) (2.15.1)\n",
      "Requirement already satisfied: backcall in /Users/sydneysugar/Library/Python/3.10/lib/python/site-packages (from ipython==7.34.0->validmind) (0.2.0)\n",
      "Requirement already satisfied: matplotlib-inline in /Users/sydneysugar/Library/Python/3.10/lib/python/site-packages (from ipython==7.34.0->validmind) (0.1.6)\n",
      "Requirement already satisfied: pexpect>4.3 in /Users/sydneysugar/Library/Python/3.10/lib/python/site-packages (from ipython==7.34.0->validmind) (4.8.0)\n",
      "Requirement already satisfied: appnope in /Users/sydneysugar/Library/Python/3.10/lib/python/site-packages (from ipython==7.34.0->validmind) (0.1.3)\n",
      "Requirement already satisfied: python-dateutil>=2.8.1 in /Users/sydneysugar/Library/Python/3.10/lib/python/site-packages (from pandas==1.5.3->validmind) (2.8.2)\n",
      "Requirement already satisfied: pytz>=2020.1 in /Library/Frameworks/Python.framework/Versions/3.10/lib/python3.10/site-packages (from pandas==1.5.3->validmind) (2023.3)\n",
      "Requirement already satisfied: attrs>=17.3.0 in /Library/Frameworks/Python.framework/Versions/3.10/lib/python3.10/site-packages (from aiohttp[speedups]<4.0.0,>=3.8.4->validmind) (23.1.0)\n",
      "Requirement already satisfied: charset-normalizer<4.0,>=2.0 in /Library/Frameworks/Python.framework/Versions/3.10/lib/python3.10/site-packages (from aiohttp[speedups]<4.0.0,>=3.8.4->validmind) (3.2.0)\n",
      "Requirement already satisfied: multidict<7.0,>=4.5 in /Library/Frameworks/Python.framework/Versions/3.10/lib/python3.10/site-packages (from aiohttp[speedups]<4.0.0,>=3.8.4->validmind) (6.0.4)\n",
      "Requirement already satisfied: async-timeout<5.0,>=4.0.0a3 in /Library/Frameworks/Python.framework/Versions/3.10/lib/python3.10/site-packages (from aiohttp[speedups]<4.0.0,>=3.8.4->validmind) (4.0.2)\n",
      "Requirement already satisfied: yarl<2.0,>=1.0 in /Library/Frameworks/Python.framework/Versions/3.10/lib/python3.10/site-packages (from aiohttp[speedups]<4.0.0,>=3.8.4->validmind) (1.9.2)\n",
      "Requirement already satisfied: frozenlist>=1.1.1 in /Library/Frameworks/Python.framework/Versions/3.10/lib/python3.10/site-packages (from aiohttp[speedups]<4.0.0,>=3.8.4->validmind) (1.3.3)\n",
      "Requirement already satisfied: aiosignal>=1.1.2 in /Library/Frameworks/Python.framework/Versions/3.10/lib/python3.10/site-packages (from aiohttp[speedups]<4.0.0,>=3.8.4->validmind) (1.3.1)\n",
      "Requirement already satisfied: aiodns in /Library/Frameworks/Python.framework/Versions/3.10/lib/python3.10/site-packages (from aiohttp[speedups]<4.0.0,>=3.8.4->validmind) (3.0.0)\n",
      "Requirement already satisfied: Brotli in /Library/Frameworks/Python.framework/Versions/3.10/lib/python3.10/site-packages (from aiohttp[speedups]<4.0.0,>=3.8.4->validmind) (1.0.9)\n",
      "Requirement already satisfied: scipy>=1.3 in /Library/Frameworks/Python.framework/Versions/3.10/lib/python3.10/site-packages (from arch<6.0.0,>=5.4.0->validmind) (1.10.1)\n",
      "Requirement already satisfied: property-cached>=1.6.4 in /Library/Frameworks/Python.framework/Versions/3.10/lib/python3.10/site-packages (from arch<6.0.0,>=5.4.0->validmind) (1.6.4)\n",
      "Requirement already satisfied: graphviz in /Library/Frameworks/Python.framework/Versions/3.10/lib/python3.10/site-packages (from catboost<2.0,>=1.2->validmind) (0.20.1)\n",
      "Requirement already satisfied: matplotlib in /Library/Frameworks/Python.framework/Versions/3.10/lib/python3.10/site-packages (from catboost<2.0,>=1.2->validmind) (3.7.2)\n",
      "Requirement already satisfied: six in /Users/sydneysugar/Library/Python/3.10/lib/python/site-packages (from catboost<2.0,>=1.2->validmind) (1.16.0)\n",
      "Requirement already satisfied: scikit-plot>=0.3.7 in /Library/Frameworks/Python.framework/Versions/3.10/lib/python3.10/site-packages (from dython<0.8.0,>=0.7.1->validmind) (0.3.7)\n",
      "Requirement already satisfied: psutil>=5.9.1 in /Users/sydneysugar/Library/Python/3.10/lib/python/site-packages (from dython<0.8.0,>=0.7.1->validmind) (5.9.5)\n",
      "Requirement already satisfied: ipykernel>=4.5.1 in /Users/sydneysugar/Library/Python/3.10/lib/python/site-packages (from ipywidgets<9.0.0,>=8.0.6->validmind) (6.23.1)\n",
      "Requirement already satisfied: widgetsnbextension~=4.0.7 in /Library/Frameworks/Python.framework/Versions/3.10/lib/python3.10/site-packages (from ipywidgets<9.0.0,>=8.0.6->validmind) (4.0.8)\n",
      "Requirement already satisfied: jupyterlab-widgets~=3.0.7 in /Library/Frameworks/Python.framework/Versions/3.10/lib/python3.10/site-packages (from ipywidgets<9.0.0,>=8.0.6->validmind) (3.0.8)\n",
      "Requirement already satisfied: docutils<0.20,>=0.15 in /Library/Frameworks/Python.framework/Versions/3.10/lib/python3.10/site-packages (from myst-parser<2.0.0,>=1.0.0->validmind) (0.18.1)\n",
      "Requirement already satisfied: jinja2 in /Library/Frameworks/Python.framework/Versions/3.10/lib/python3.10/site-packages (from myst-parser<2.0.0,>=1.0.0->validmind) (3.1.2)\n",
      "Requirement already satisfied: markdown-it-py<3.0.0,>=1.0.0 in /Library/Frameworks/Python.framework/Versions/3.10/lib/python3.10/site-packages (from myst-parser<2.0.0,>=1.0.0->validmind) (2.2.0)\n",
      "Requirement already satisfied: mdit-py-plugins~=0.3.4 in /Library/Frameworks/Python.framework/Versions/3.10/lib/python3.10/site-packages (from myst-parser<2.0.0,>=1.0.0->validmind) (0.3.5)\n",
      "Requirement already satisfied: pyyaml in /Library/Frameworks/Python.framework/Versions/3.10/lib/python3.10/site-packages (from myst-parser<2.0.0,>=1.0.0->validmind) (6.0)\n",
      "Requirement already satisfied: joblib in /Library/Frameworks/Python.framework/Versions/3.10/lib/python3.10/site-packages (from nltk<4.0.0,>=3.8.1->validmind) (1.3.1)\n",
      "Requirement already satisfied: regex>=2021.8.3 in /Library/Frameworks/Python.framework/Versions/3.10/lib/python3.10/site-packages (from nltk<4.0.0,>=3.8.1->validmind) (2023.6.3)\n",
      "Requirement already satisfied: ydata-profiling in /Library/Frameworks/Python.framework/Versions/3.10/lib/python3.10/site-packages (from pandas-profiling<4.0.0,>=3.6.6->validmind) (4.3.1)\n",
      "Requirement already satisfied: MarkupSafe in /Library/Frameworks/Python.framework/Versions/3.10/lib/python3.10/site-packages (from pdoc<14.0.0,>=13.1.1->validmind) (2.1.3)\n",
      "Requirement already satisfied: tenacity>=6.2.0 in /Library/Frameworks/Python.framework/Versions/3.10/lib/python3.10/site-packages (from plotly<6.0.0,>=5.14.1->validmind) (8.2.2)\n",
      "Requirement already satisfied: packaging in /Users/sydneysugar/Library/Python/3.10/lib/python/site-packages (from plotly<6.0.0,>=5.14.1->validmind) (23.1)\n",
      "Requirement already satisfied: typing-extensions>=4.2.0 in /Library/Frameworks/Python.framework/Versions/3.10/lib/python3.10/site-packages (from pydantic<2.0.0,>=1.9.1->validmind) (4.7.1)\n",
      "Requirement already satisfied: py4j>=0.10.7 in /Library/Frameworks/Python.framework/Versions/3.10/lib/python3.10/site-packages (from pypmml<0.10.0,>=0.9.17->validmind) (0.10.9.7)\n",
      "Requirement already satisfied: idna<4,>=2.5 in /Library/Frameworks/Python.framework/Versions/3.10/lib/python3.10/site-packages (from requests<3.0.0,>=2.27.1->validmind) (3.4)\n",
      "Requirement already satisfied: urllib3<3,>=1.21.1 in /Library/Frameworks/Python.framework/Versions/3.10/lib/python3.10/site-packages (from requests<3.0.0,>=2.27.1->validmind) (2.0.3)\n",
      "Requirement already satisfied: certifi>=2017.4.17 in /Library/Frameworks/Python.framework/Versions/3.10/lib/python3.10/site-packages (from requests<3.0.0,>=2.27.1->validmind) (2023.5.7)\n",
      "Requirement already satisfied: threadpoolctl>=2.0.0 in /Library/Frameworks/Python.framework/Versions/3.10/lib/python3.10/site-packages (from scikit-learn<2.0.0,>=1.0.2->validmind) (3.1.0)\n",
      "Requirement already satisfied: slicer==0.0.7 in /Library/Frameworks/Python.framework/Versions/3.10/lib/python3.10/site-packages (from shap<0.42.0,>=0.41.0->validmind) (0.0.7)\n",
      "Requirement already satisfied: numba in /Library/Frameworks/Python.framework/Versions/3.10/lib/python3.10/site-packages (from shap<0.42.0,>=0.41.0->validmind) (0.57.1)\n",
      "Requirement already satisfied: cloudpickle in /Library/Frameworks/Python.framework/Versions/3.10/lib/python3.10/site-packages (from shap<0.42.0,>=0.41.0->validmind) (2.2.1)\n",
      "Requirement already satisfied: sphinxcontrib-applehelp in /Library/Frameworks/Python.framework/Versions/3.10/lib/python3.10/site-packages (from sphinx<7.0.0,>=6.1.3->validmind) (1.0.4)\n",
      "Requirement already satisfied: sphinxcontrib-devhelp in /Library/Frameworks/Python.framework/Versions/3.10/lib/python3.10/site-packages (from sphinx<7.0.0,>=6.1.3->validmind) (1.0.2)\n",
      "Requirement already satisfied: sphinxcontrib-jsmath in /Library/Frameworks/Python.framework/Versions/3.10/lib/python3.10/site-packages (from sphinx<7.0.0,>=6.1.3->validmind) (1.0.1)\n",
      "Requirement already satisfied: sphinxcontrib-htmlhelp>=2.0.0 in /Library/Frameworks/Python.framework/Versions/3.10/lib/python3.10/site-packages (from sphinx<7.0.0,>=6.1.3->validmind) (2.0.1)\n",
      "Requirement already satisfied: sphinxcontrib-serializinghtml>=1.1.5 in /Library/Frameworks/Python.framework/Versions/3.10/lib/python3.10/site-packages (from sphinx<7.0.0,>=6.1.3->validmind) (1.1.5)\n",
      "Requirement already satisfied: sphinxcontrib-qthelp in /Library/Frameworks/Python.framework/Versions/3.10/lib/python3.10/site-packages (from sphinx<7.0.0,>=6.1.3->validmind) (1.0.3)\n",
      "Requirement already satisfied: snowballstemmer>=2.0 in /Library/Frameworks/Python.framework/Versions/3.10/lib/python3.10/site-packages (from sphinx<7.0.0,>=6.1.3->validmind) (2.2.0)\n",
      "Requirement already satisfied: babel>=2.9 in /Library/Frameworks/Python.framework/Versions/3.10/lib/python3.10/site-packages (from sphinx<7.0.0,>=6.1.3->validmind) (2.12.1)\n",
      "Requirement already satisfied: alabaster<0.8,>=0.7 in /Library/Frameworks/Python.framework/Versions/3.10/lib/python3.10/site-packages (from sphinx<7.0.0,>=6.1.3->validmind) (0.7.13)\n",
      "Requirement already satisfied: imagesize>=1.3 in /Library/Frameworks/Python.framework/Versions/3.10/lib/python3.10/site-packages (from sphinx<7.0.0,>=6.1.3->validmind) (1.4.1)\n",
      "Requirement already satisfied: html2text in /Library/Frameworks/Python.framework/Versions/3.10/lib/python3.10/site-packages (from sphinx-markdown-builder<0.6.0,>=0.5.5->validmind) (2020.1.16)\n",
      "Requirement already satisfied: pydash in /Library/Frameworks/Python.framework/Versions/3.10/lib/python3.10/site-packages (from sphinx-markdown-builder<0.6.0,>=0.5.5->validmind) (7.0.5)\n",
      "Requirement already satisfied: unify in /Library/Frameworks/Python.framework/Versions/3.10/lib/python3.10/site-packages (from sphinx-markdown-builder<0.6.0,>=0.5.5->validmind) (0.5)\n",
      "Requirement already satisfied: yapf in /Library/Frameworks/Python.framework/Versions/3.10/lib/python3.10/site-packages (from sphinx-markdown-builder<0.6.0,>=0.5.5->validmind) (0.40.1)\n",
      "Requirement already satisfied: sphinxcontrib-jquery<5,>=4 in /Library/Frameworks/Python.framework/Versions/3.10/lib/python3.10/site-packages (from sphinx-rtd-theme<2.0.0,>=1.2.0->validmind) (4.1)\n",
      "Requirement already satisfied: patsy>=0.5.2 in /Library/Frameworks/Python.framework/Versions/3.10/lib/python3.10/site-packages (from statsmodels<0.14.0,>=0.13.5->validmind) (0.5.3)\n",
      "Requirement already satisfied: comm>=0.1.1 in /Users/sydneysugar/Library/Python/3.10/lib/python/site-packages (from ipykernel>=4.5.1->ipywidgets<9.0.0,>=8.0.6->validmind) (0.1.3)\n",
      "Requirement already satisfied: debugpy>=1.6.5 in /Users/sydneysugar/Library/Python/3.10/lib/python/site-packages (from ipykernel>=4.5.1->ipywidgets<9.0.0,>=8.0.6->validmind) (1.6.7)\n",
      "Requirement already satisfied: jupyter-client>=6.1.12 in /Users/sydneysugar/Library/Python/3.10/lib/python/site-packages (from ipykernel>=4.5.1->ipywidgets<9.0.0,>=8.0.6->validmind) (8.2.0)\n",
      "Requirement already satisfied: jupyter-core!=5.0.*,>=4.12 in /Users/sydneysugar/Library/Python/3.10/lib/python/site-packages (from ipykernel>=4.5.1->ipywidgets<9.0.0,>=8.0.6->validmind) (5.3.0)\n",
      "Requirement already satisfied: nest-asyncio in /Users/sydneysugar/Library/Python/3.10/lib/python/site-packages (from ipykernel>=4.5.1->ipywidgets<9.0.0,>=8.0.6->validmind) (1.5.6)\n",
      "Requirement already satisfied: pyzmq>=20 in /Users/sydneysugar/Library/Python/3.10/lib/python/site-packages (from ipykernel>=4.5.1->ipywidgets<9.0.0,>=8.0.6->validmind) (25.1.0)\n",
      "Requirement already satisfied: tornado>=6.1 in /Users/sydneysugar/Library/Python/3.10/lib/python/site-packages (from ipykernel>=4.5.1->ipywidgets<9.0.0,>=8.0.6->validmind) (6.3.2)\n",
      "Requirement already satisfied: parso<0.9.0,>=0.8.0 in /Users/sydneysugar/Library/Python/3.10/lib/python/site-packages (from jedi>=0.16->ipython==7.34.0->validmind) (0.8.3)\n",
      "Requirement already satisfied: mdurl~=0.1 in /Library/Frameworks/Python.framework/Versions/3.10/lib/python3.10/site-packages (from markdown-it-py<3.0.0,>=1.0.0->myst-parser<2.0.0,>=1.0.0->validmind) (0.1.2)\n",
      "Requirement already satisfied: contourpy>=1.0.1 in /Library/Frameworks/Python.framework/Versions/3.10/lib/python3.10/site-packages (from matplotlib->catboost<2.0,>=1.2->validmind) (1.1.0)\n",
      "Requirement already satisfied: cycler>=0.10 in /Library/Frameworks/Python.framework/Versions/3.10/lib/python3.10/site-packages (from matplotlib->catboost<2.0,>=1.2->validmind) (0.11.0)\n",
      "Requirement already satisfied: fonttools>=4.22.0 in /Library/Frameworks/Python.framework/Versions/3.10/lib/python3.10/site-packages (from matplotlib->catboost<2.0,>=1.2->validmind) (4.40.0)\n",
      "Requirement already satisfied: kiwisolver>=1.0.1 in /Library/Frameworks/Python.framework/Versions/3.10/lib/python3.10/site-packages (from matplotlib->catboost<2.0,>=1.2->validmind) (1.4.4)\n",
      "Requirement already satisfied: pillow>=6.2.0 in /Library/Frameworks/Python.framework/Versions/3.10/lib/python3.10/site-packages (from matplotlib->catboost<2.0,>=1.2->validmind) (10.0.0)\n",
      "Requirement already satisfied: pyparsing<3.1,>=2.3.1 in /Library/Frameworks/Python.framework/Versions/3.10/lib/python3.10/site-packages (from matplotlib->catboost<2.0,>=1.2->validmind) (3.0.9)\n",
      "Requirement already satisfied: ptyprocess>=0.5 in /Users/sydneysugar/Library/Python/3.10/lib/python/site-packages (from pexpect>4.3->ipython==7.34.0->validmind) (0.7.0)\n",
      "Requirement already satisfied: wcwidth in /Users/sydneysugar/Library/Python/3.10/lib/python/site-packages (from prompt-toolkit!=3.0.0,!=3.0.1,<3.1.0,>=2.0.0->ipython==7.34.0->validmind) (0.2.6)\n",
      "Requirement already satisfied: pycares>=4.0.0 in /Library/Frameworks/Python.framework/Versions/3.10/lib/python3.10/site-packages (from aiodns->aiohttp[speedups]<4.0.0,>=3.8.4->validmind) (4.3.0)\n",
      "Requirement already satisfied: llvmlite<0.41,>=0.40.0dev0 in /Library/Frameworks/Python.framework/Versions/3.10/lib/python3.10/site-packages (from numba->shap<0.42.0,>=0.41.0->validmind) (0.40.1)\n",
      "Requirement already satisfied: untokenize in /Library/Frameworks/Python.framework/Versions/3.10/lib/python3.10/site-packages (from unify->sphinx-markdown-builder<0.6.0,>=0.5.5->validmind) (0.1.1)\n",
      "Requirement already satisfied: importlib-metadata>=6.6.0 in /Library/Frameworks/Python.framework/Versions/3.10/lib/python3.10/site-packages (from yapf->sphinx-markdown-builder<0.6.0,>=0.5.5->validmind) (6.8.0)\n",
      "Requirement already satisfied: platformdirs>=3.5.1 in /Users/sydneysugar/Library/Python/3.10/lib/python/site-packages (from yapf->sphinx-markdown-builder<0.6.0,>=0.5.5->validmind) (3.5.1)\n",
      "Requirement already satisfied: tomli>=2.0.1 in /Library/Frameworks/Python.framework/Versions/3.10/lib/python3.10/site-packages (from yapf->sphinx-markdown-builder<0.6.0,>=0.5.5->validmind) (2.0.1)\n",
      "Requirement already satisfied: visions[type_image_path]==0.7.5 in /Library/Frameworks/Python.framework/Versions/3.10/lib/python3.10/site-packages (from ydata-profiling->pandas-profiling<4.0.0,>=3.6.6->validmind) (0.7.5)\n",
      "Requirement already satisfied: htmlmin==0.1.12 in /Library/Frameworks/Python.framework/Versions/3.10/lib/python3.10/site-packages (from ydata-profiling->pandas-profiling<4.0.0,>=3.6.6->validmind) (0.1.12)\n",
      "Requirement already satisfied: phik<0.13,>=0.11.1 in /Library/Frameworks/Python.framework/Versions/3.10/lib/python3.10/site-packages (from ydata-profiling->pandas-profiling<4.0.0,>=3.6.6->validmind) (0.12.3)\n",
      "Requirement already satisfied: multimethod<2,>=1.4 in /Library/Frameworks/Python.framework/Versions/3.10/lib/python3.10/site-packages (from ydata-profiling->pandas-profiling<4.0.0,>=3.6.6->validmind) (1.9.1)\n",
      "Requirement already satisfied: typeguard<3,>=2.13.2 in /Library/Frameworks/Python.framework/Versions/3.10/lib/python3.10/site-packages (from ydata-profiling->pandas-profiling<4.0.0,>=3.6.6->validmind) (2.13.3)\n",
      "Requirement already satisfied: imagehash==4.3.1 in /Library/Frameworks/Python.framework/Versions/3.10/lib/python3.10/site-packages (from ydata-profiling->pandas-profiling<4.0.0,>=3.6.6->validmind) (4.3.1)\n",
      "Requirement already satisfied: wordcloud>=1.9.1 in /Library/Frameworks/Python.framework/Versions/3.10/lib/python3.10/site-packages (from ydata-profiling->pandas-profiling<4.0.0,>=3.6.6->validmind) (1.9.2)\n",
      "Requirement already satisfied: dacite>=1.8 in /Library/Frameworks/Python.framework/Versions/3.10/lib/python3.10/site-packages (from ydata-profiling->pandas-profiling<4.0.0,>=3.6.6->validmind) (1.8.1)\n",
      "Requirement already satisfied: PyWavelets in /Library/Frameworks/Python.framework/Versions/3.10/lib/python3.10/site-packages (from imagehash==4.3.1->ydata-profiling->pandas-profiling<4.0.0,>=3.6.6->validmind) (1.4.1)\n",
      "Requirement already satisfied: networkx>=2.4 in /Library/Frameworks/Python.framework/Versions/3.10/lib/python3.10/site-packages (from visions[type_image_path]==0.7.5->ydata-profiling->pandas-profiling<4.0.0,>=3.6.6->validmind) (3.1)\n",
      "Requirement already satisfied: tangled-up-in-unicode>=0.0.4 in /Library/Frameworks/Python.framework/Versions/3.10/lib/python3.10/site-packages (from visions[type_image_path]==0.7.5->ydata-profiling->pandas-profiling<4.0.0,>=3.6.6->validmind) (0.2.0)\n",
      "Requirement already satisfied: zipp>=0.5 in /Library/Frameworks/Python.framework/Versions/3.10/lib/python3.10/site-packages (from importlib-metadata>=6.6.0->yapf->sphinx-markdown-builder<0.6.0,>=0.5.5->validmind) (3.15.0)\n",
      "Requirement already satisfied: cffi>=1.5.0 in /Library/Frameworks/Python.framework/Versions/3.10/lib/python3.10/site-packages (from pycares>=4.0.0->aiodns->aiohttp[speedups]<4.0.0,>=3.8.4->validmind) (1.15.1)\n",
      "Requirement already satisfied: pycparser in /Library/Frameworks/Python.framework/Versions/3.10/lib/python3.10/site-packages (from cffi>=1.5.0->pycares>=4.0.0->aiodns->aiohttp[speedups]<4.0.0,>=3.8.4->validmind) (2.21)\n",
      "Note: you may need to restart the kernel to use updated packages.\n"
     ]
    }
   ],
   "source": [
    "%pip install --upgrade validmind"
   ]
  },
  {
   "attachments": {},
   "cell_type": "markdown",
   "metadata": {},
   "source": [
    "## Initialize the client library\n",
    "\n",
    "In a browser, go to the **Client Integration** page of your documentation project and click **Copy to clipboard** next to the code snippet. This code snippet gives you the API key, API secret, and project identifier to link your notebook to your documentation project.\n",
    "\n",
    "::: {.column-margin}\n",
    "::: {.callout-tip}\n",
    "This step requires a documentation project. [Learn how you can create one](https://docs.validmind.ai/guide/create-your-first-documentation-project.html).\n",
    ":::\n",
    ":::\n",
    "\n",
    "Next, replace this placeholder with your own code snippet:"
   ]
  },
  {
   "cell_type": "code",
   "execution_count": 2,
   "metadata": {},
   "outputs": [
    {
     "name": "stderr",
     "output_type": "stream",
     "text": [
      "2023-07-10 14:59:57,709 - INFO - api_client - Connected to ValidMind. Project: Customer Churn Model - Test for Notebooks, Sydney (cljxccag7000016mkriy2l77l)\n"
     ]
    }
   ],
   "source": [
    "## Replace with code snippet from your documentation project ##\n",
    "\n",
    "import validmind as vm\n",
    "\n",
    "vm.init(\n",
    "    api_host=\"https://api.prod.validmind.ai/api/v1/tracking\",\n",
    "    api_key=\"xxxxxxxxxxxxxxxxxxxxxxxxxxxxxxxx\",\n",
    "    api_secret=\"API_SECRET\",\n",
    "    project=\"xxxxxxxxxxxxxxxxxxxxxxxxx\"\n",
    ")"
   ]
  },
  {
   "attachments": {},
   "cell_type": "markdown",
   "metadata": {},
   "source": [
    "## 1. Exploratory Data Analysis of Covid tweets data"
   ]
  },
  {
   "attachments": {},
   "cell_type": "markdown",
   "metadata": {},
   "source": [
    "### Load library"
   ]
  },
  {
   "cell_type": "code",
   "execution_count": 3,
   "metadata": {},
   "outputs": [
    {
     "name": "stdout",
     "output_type": "stream",
     "text": [
      "env: PYTORCH_MPS_HIGH_WATERMARK_RATIO=0.8\n"
     ]
    },
    {
     "ename": "ModuleNotFoundError",
     "evalue": "No module named 'torch'",
     "output_type": "error",
     "traceback": [
      "\u001b[0;31m---------------------------------------------------------------------------\u001b[0m",
      "\u001b[0;31mModuleNotFoundError\u001b[0m                       Traceback (most recent call last)",
      "\u001b[0;32m/var/folders/h2/grm7gnwd0x76qjzdwxxwchfc0000gn/T/ipykernel_14014/742905396.py\u001b[0m in \u001b[0;36m<cell line: 11>\u001b[0;34m()\u001b[0m\n\u001b[1;32m      9\u001b[0m \u001b[0mwarnings\u001b[0m\u001b[0;34m.\u001b[0m\u001b[0mfilterwarnings\u001b[0m\u001b[0;34m(\u001b[0m\u001b[0;34m'ignore'\u001b[0m\u001b[0;34m)\u001b[0m\u001b[0;34m\u001b[0m\u001b[0;34m\u001b[0m\u001b[0m\n\u001b[1;32m     10\u001b[0m \u001b[0;34m\u001b[0m\u001b[0m\n\u001b[0;32m---> 11\u001b[0;31m \u001b[0;32mimport\u001b[0m \u001b[0mtorch\u001b[0m\u001b[0;34m\u001b[0m\u001b[0;34m\u001b[0m\u001b[0m\n\u001b[0m\u001b[1;32m     12\u001b[0m \u001b[0;32mif\u001b[0m \u001b[0mtorch\u001b[0m\u001b[0;34m.\u001b[0m\u001b[0mbackends\u001b[0m\u001b[0;34m.\u001b[0m\u001b[0mmps\u001b[0m\u001b[0;34m.\u001b[0m\u001b[0mis_available\u001b[0m\u001b[0;34m(\u001b[0m\u001b[0;34m)\u001b[0m\u001b[0;34m:\u001b[0m\u001b[0;34m\u001b[0m\u001b[0;34m\u001b[0m\u001b[0m\n\u001b[1;32m     13\u001b[0m     \u001b[0mdevice\u001b[0m \u001b[0;34m=\u001b[0m \u001b[0mtorch\u001b[0m\u001b[0;34m.\u001b[0m\u001b[0mdevice\u001b[0m\u001b[0;34m(\u001b[0m\u001b[0;34m\"mps\"\u001b[0m\u001b[0;34m)\u001b[0m\u001b[0;34m\u001b[0m\u001b[0;34m\u001b[0m\u001b[0m\n",
      "\u001b[0;31mModuleNotFoundError\u001b[0m: No module named 'torch'"
     ]
    }
   ],
   "source": [
    "%set_env PYTORCH_MPS_HIGH_WATERMARK_RATIO 0.8\n",
    "\n",
    "import pandas as pd\n",
    "import numpy as np\n",
    "import os\n",
    "%matplotlib inline\n",
    "\n",
    "import warnings\n",
    "warnings.filterwarnings('ignore')\n",
    "\n",
    "import torch\n",
    "if torch.backends.mps.is_available():\n",
    "    device = torch.device(\"mps\")\n",
    "elif torch.cuda.is_available():\n",
    "    device = torch.device(\"cuda\")\n",
    "else:\n",
    "    device = torch.device(\"cpu\")\n",
    "\n",
    "device = \"cpu\"\n",
    "\n",
    "train_model = True"
   ]
  },
  {
   "attachments": {},
   "cell_type": "markdown",
   "metadata": {},
   "source": [
    "###  Load covid-19 tweets data"
   ]
  },
  {
   "cell_type": "code",
   "execution_count": 4,
   "metadata": {},
   "outputs": [
    {
     "data": {
      "text/html": [
       "<div>\n",
       "<style scoped>\n",
       "    .dataframe tbody tr th:only-of-type {\n",
       "        vertical-align: middle;\n",
       "    }\n",
       "\n",
       "    .dataframe tbody tr th {\n",
       "        vertical-align: top;\n",
       "    }\n",
       "\n",
       "    .dataframe thead th {\n",
       "        text-align: right;\n",
       "    }\n",
       "</style>\n",
       "<table border=\"1\" class=\"dataframe\">\n",
       "  <thead>\n",
       "    <tr style=\"text-align: right;\">\n",
       "      <th></th>\n",
       "      <th>OriginalTweet</th>\n",
       "      <th>Sentiment</th>\n",
       "    </tr>\n",
       "  </thead>\n",
       "  <tbody>\n",
       "    <tr>\n",
       "      <th>0</th>\n",
       "      <td>@MeNyrbie @Phil_Gahan @Chrisitv https://t.co/i...</td>\n",
       "      <td>Neutral</td>\n",
       "    </tr>\n",
       "    <tr>\n",
       "      <th>1</th>\n",
       "      <td>advice Talk to your neighbours family to excha...</td>\n",
       "      <td>Positive</td>\n",
       "    </tr>\n",
       "    <tr>\n",
       "      <th>2</th>\n",
       "      <td>Coronavirus Australia: Woolworths to give elde...</td>\n",
       "      <td>Positive</td>\n",
       "    </tr>\n",
       "    <tr>\n",
       "      <th>3</th>\n",
       "      <td>My food stock is not the only one which is emp...</td>\n",
       "      <td>Positive</td>\n",
       "    </tr>\n",
       "    <tr>\n",
       "      <th>4</th>\n",
       "      <td>Me, ready to go at supermarket during the #COV...</td>\n",
       "      <td>Extremely Negative</td>\n",
       "    </tr>\n",
       "    <tr>\n",
       "      <th>5</th>\n",
       "      <td>As news of the regions first confirmed COVID-...</td>\n",
       "      <td>Positive</td>\n",
       "    </tr>\n",
       "    <tr>\n",
       "      <th>6</th>\n",
       "      <td>Cashier at grocery store was sharing his insig...</td>\n",
       "      <td>Positive</td>\n",
       "    </tr>\n",
       "    <tr>\n",
       "      <th>7</th>\n",
       "      <td>Was at the supermarket today. Didn't buy toile...</td>\n",
       "      <td>Neutral</td>\n",
       "    </tr>\n",
       "    <tr>\n",
       "      <th>8</th>\n",
       "      <td>Due to COVID-19 our retail store and classroom...</td>\n",
       "      <td>Positive</td>\n",
       "    </tr>\n",
       "    <tr>\n",
       "      <th>9</th>\n",
       "      <td>For corona prevention,we should stop to buy th...</td>\n",
       "      <td>Negative</td>\n",
       "    </tr>\n",
       "  </tbody>\n",
       "</table>\n",
       "</div>"
      ],
      "text/plain": [
       "                                       OriginalTweet           Sentiment\n",
       "0  @MeNyrbie @Phil_Gahan @Chrisitv https://t.co/i...             Neutral\n",
       "1  advice Talk to your neighbours family to excha...            Positive\n",
       "2  Coronavirus Australia: Woolworths to give elde...            Positive\n",
       "3  My food stock is not the only one which is emp...            Positive\n",
       "4  Me, ready to go at supermarket during the #COV...  Extremely Negative\n",
       "5  As news of the regions first confirmed COVID-...            Positive\n",
       "6  Cashier at grocery store was sharing his insig...            Positive\n",
       "7  Was at the supermarket today. Didn't buy toile...             Neutral\n",
       "8  Due to COVID-19 our retail store and classroom...            Positive\n",
       "9  For corona prevention,we should stop to buy th...            Negative"
      ]
     },
     "execution_count": 4,
     "metadata": {},
     "output_type": "execute_result"
    }
   ],
   "source": [
    "from validmind.datasets.nlp import twitter_covid_19 as demo_data\n",
    "df = demo_data.load_data()\n",
    "df.head(10)"
   ]
  },
  {
   "attachments": {},
   "cell_type": "markdown",
   "metadata": {},
   "source": [
    "### Run text data quality test plan"
   ]
  },
  {
   "cell_type": "code",
   "execution_count": 5,
   "metadata": {},
   "outputs": [
    {
     "name": "stderr",
     "output_type": "stream",
     "text": [
      "2023-07-10 15:01:52,089 - INFO - client - Pandas dataset detected. Initializing VM Dataset instance...\n",
      "2023-07-10 15:01:52,147 - INFO - dataset - Inferring dataset types...\n"
     ]
    }
   ],
   "source": [
    "vm_ds = vm.init_dataset(dataset=df, type=\"generic\", text_column='OriginalTweet', target_column=\"Sentiment\")"
   ]
  },
  {
   "cell_type": "code",
   "execution_count": 6,
   "metadata": {},
   "outputs": [
    {
     "data": {
      "application/vnd.jupyter.widget-view+json": {
       "model_id": "6a3423215ce141f5b1dcf822d8b03e81",
       "version_major": 2,
       "version_minor": 0
      },
      "text/plain": [
       "HBox(children=(Label(value='Running test plan...'), IntProgress(value=0, max=14)))"
      ]
     },
     "metadata": {},
     "output_type": "display_data"
    },
    {
     "name": "stderr",
     "output_type": "stream",
     "text": [
      "[nltk_data] Error loading stopwords: <urlopen error [SSL:\n",
      "[nltk_data]     CERTIFICATE_VERIFY_FAILED] certificate verify failed:\n",
      "[nltk_data]     unable to get local issuer certificate (_ssl.c:997)>\n"
     ]
    },
    {
     "ename": "LookupError",
     "evalue": "\n**********************************************************************\n  Resource \u001b[93mstopwords\u001b[0m not found.\n  Please use the NLTK Downloader to obtain the resource:\n\n  \u001b[31m>>> import nltk\n  >>> nltk.download('stopwords')\n  \u001b[0m\n  For more information see: https://www.nltk.org/data.html\n\n  Attempted to load \u001b[93mcorpora/stopwords\u001b[0m\n\n  Searched in:\n    - '/Users/sydneysugar/nltk_data'\n    - '/Library/Frameworks/Python.framework/Versions/3.10/nltk_data'\n    - '/Library/Frameworks/Python.framework/Versions/3.10/share/nltk_data'\n    - '/Library/Frameworks/Python.framework/Versions/3.10/lib/nltk_data'\n    - '/usr/share/nltk_data'\n    - '/usr/local/share/nltk_data'\n    - '/usr/lib/nltk_data'\n    - '/usr/local/lib/nltk_data'\n**********************************************************************\n",
     "output_type": "error",
     "traceback": [
      "\u001b[0;31m---------------------------------------------------------------------------\u001b[0m",
      "\u001b[0;31mLookupError\u001b[0m                               Traceback (most recent call last)",
      "\u001b[0;32m/Library/Frameworks/Python.framework/Versions/3.10/lib/python3.10/site-packages/nltk/corpus/util.py\u001b[0m in \u001b[0;36m__load\u001b[0;34m(self)\u001b[0m\n\u001b[1;32m     83\u001b[0m                 \u001b[0;32mtry\u001b[0m\u001b[0;34m:\u001b[0m\u001b[0;34m\u001b[0m\u001b[0;34m\u001b[0m\u001b[0m\n\u001b[0;32m---> 84\u001b[0;31m                     \u001b[0mroot\u001b[0m \u001b[0;34m=\u001b[0m \u001b[0mnltk\u001b[0m\u001b[0;34m.\u001b[0m\u001b[0mdata\u001b[0m\u001b[0;34m.\u001b[0m\u001b[0mfind\u001b[0m\u001b[0;34m(\u001b[0m\u001b[0;34mf\"{self.subdir}/{zip_name}\"\u001b[0m\u001b[0;34m)\u001b[0m\u001b[0;34m\u001b[0m\u001b[0;34m\u001b[0m\u001b[0m\n\u001b[0m\u001b[1;32m     85\u001b[0m                 \u001b[0;32mexcept\u001b[0m \u001b[0mLookupError\u001b[0m\u001b[0;34m:\u001b[0m\u001b[0;34m\u001b[0m\u001b[0;34m\u001b[0m\u001b[0m\n",
      "\u001b[0;32m/Library/Frameworks/Python.framework/Versions/3.10/lib/python3.10/site-packages/nltk/data.py\u001b[0m in \u001b[0;36mfind\u001b[0;34m(resource_name, paths)\u001b[0m\n\u001b[1;32m    582\u001b[0m     \u001b[0mresource_not_found\u001b[0m \u001b[0;34m=\u001b[0m \u001b[0;34mf\"\\n{sep}\\n{msg}\\n{sep}\\n\"\u001b[0m\u001b[0;34m\u001b[0m\u001b[0;34m\u001b[0m\u001b[0m\n\u001b[0;32m--> 583\u001b[0;31m     \u001b[0;32mraise\u001b[0m \u001b[0mLookupError\u001b[0m\u001b[0;34m(\u001b[0m\u001b[0mresource_not_found\u001b[0m\u001b[0;34m)\u001b[0m\u001b[0;34m\u001b[0m\u001b[0;34m\u001b[0m\u001b[0m\n\u001b[0m\u001b[1;32m    584\u001b[0m \u001b[0;34m\u001b[0m\u001b[0m\n",
      "\u001b[0;31mLookupError\u001b[0m: \n**********************************************************************\n  Resource \u001b[93mstopwords\u001b[0m not found.\n  Please use the NLTK Downloader to obtain the resource:\n\n  \u001b[31m>>> import nltk\n  >>> nltk.download('stopwords')\n  \u001b[0m\n  For more information see: https://www.nltk.org/data.html\n\n  Attempted to load \u001b[93mcorpora/stopwords.zip/stopwords/\u001b[0m\n\n  Searched in:\n    - '/Users/sydneysugar/nltk_data'\n    - '/Library/Frameworks/Python.framework/Versions/3.10/nltk_data'\n    - '/Library/Frameworks/Python.framework/Versions/3.10/share/nltk_data'\n    - '/Library/Frameworks/Python.framework/Versions/3.10/lib/nltk_data'\n    - '/usr/share/nltk_data'\n    - '/usr/local/share/nltk_data'\n    - '/usr/lib/nltk_data'\n    - '/usr/local/lib/nltk_data'\n**********************************************************************\n",
      "\nDuring handling of the above exception, another exception occurred:\n",
      "\u001b[0;31mLookupError\u001b[0m                               Traceback (most recent call last)",
      "\u001b[0;32m/var/folders/h2/grm7gnwd0x76qjzdwxxwchfc0000gn/T/ipykernel_14014/3629149893.py\u001b[0m in \u001b[0;36m<cell line: 4>\u001b[0;34m()\u001b[0m\n\u001b[1;32m      2\u001b[0m     \u001b[0;34m\"class_imbalance\"\u001b[0m\u001b[0;34m:\u001b[0m\u001b[0;34m{\u001b[0m\u001b[0;34m\"min_percent_threshold\"\u001b[0m\u001b[0;34m:\u001b[0m \u001b[0;36m3\u001b[0m\u001b[0;34m}\u001b[0m\u001b[0;34m\u001b[0m\u001b[0;34m\u001b[0m\u001b[0m\n\u001b[1;32m      3\u001b[0m }\n\u001b[0;32m----> 4\u001b[0;31m text_data_test_plan = vm.run_test_plan(\"text_data_quality\",\n\u001b[0m\u001b[1;32m      5\u001b[0m                                        \u001b[0mdataset\u001b[0m\u001b[0;34m=\u001b[0m\u001b[0mvm_ds\u001b[0m\u001b[0;34m,\u001b[0m\u001b[0;34m\u001b[0m\u001b[0;34m\u001b[0m\u001b[0m\n\u001b[1;32m      6\u001b[0m                                        config=config)\n",
      "\u001b[0;32m/Library/Frameworks/Python.framework/Versions/3.10/lib/python3.10/site-packages/validmind/client.py\u001b[0m in \u001b[0;36mrun_test_plan\u001b[0;34m(test_plan_name, send, **kwargs)\u001b[0m\n\u001b[1;32m    227\u001b[0m         )\n\u001b[1;32m    228\u001b[0m \u001b[0;34m\u001b[0m\u001b[0m\n\u001b[0;32m--> 229\u001b[0;31m     \u001b[0mplan\u001b[0m\u001b[0;34m.\u001b[0m\u001b[0mrun\u001b[0m\u001b[0;34m(\u001b[0m\u001b[0msend\u001b[0m\u001b[0;34m=\u001b[0m\u001b[0msend\u001b[0m\u001b[0;34m)\u001b[0m\u001b[0;34m\u001b[0m\u001b[0;34m\u001b[0m\u001b[0m\n\u001b[0m\u001b[1;32m    230\u001b[0m \u001b[0;34m\u001b[0m\u001b[0m\n\u001b[1;32m    231\u001b[0m     \u001b[0;32mreturn\u001b[0m \u001b[0mplan\u001b[0m\u001b[0;34m\u001b[0m\u001b[0;34m\u001b[0m\u001b[0m\n",
      "\u001b[0;32m/Library/Frameworks/Python.framework/Versions/3.10/lib/python3.10/site-packages/validmind/vm_models/test_plan.py\u001b[0m in \u001b[0;36mrun\u001b[0;34m(self, render_summary, send)\u001b[0m\n\u001b[1;32m    206\u001b[0m \u001b[0;34m\u001b[0m\u001b[0m\n\u001b[1;32m    207\u001b[0m             \u001b[0;31m# run the test and log the performance if LOG_LEVEL is set to DEBUG\u001b[0m\u001b[0;34m\u001b[0m\u001b[0;34m\u001b[0m\u001b[0m\n\u001b[0;32m--> 208\u001b[0;31m             log_performance(\n\u001b[0m\u001b[1;32m    209\u001b[0m                 \u001b[0mtest_instance\u001b[0m\u001b[0;34m.\u001b[0m\u001b[0mrun\u001b[0m\u001b[0;34m,\u001b[0m\u001b[0;34m\u001b[0m\u001b[0;34m\u001b[0m\u001b[0m\n\u001b[1;32m    210\u001b[0m                 \u001b[0mtest_instance\u001b[0m\u001b[0;34m.\u001b[0m\u001b[0mname\u001b[0m\u001b[0;34m,\u001b[0m\u001b[0;34m\u001b[0m\u001b[0;34m\u001b[0m\u001b[0m\n",
      "\u001b[0;32m/Library/Frameworks/Python.framework/Versions/3.10/lib/python3.10/site-packages/validmind/tests/data_validation/nlp/StopWords.py\u001b[0m in \u001b[0;36mrun\u001b[0;34m(self)\u001b[0m\n\u001b[1;32m     72\u001b[0m \u001b[0;34m\u001b[0m\u001b[0m\n\u001b[1;32m     73\u001b[0m         \u001b[0mnltk\u001b[0m\u001b[0;34m.\u001b[0m\u001b[0mdownload\u001b[0m\u001b[0;34m(\u001b[0m\u001b[0;34m\"stopwords\"\u001b[0m\u001b[0;34m)\u001b[0m\u001b[0;34m\u001b[0m\u001b[0;34m\u001b[0m\u001b[0m\n\u001b[0;32m---> 74\u001b[0;31m         \u001b[0mstop\u001b[0m \u001b[0;34m=\u001b[0m \u001b[0mset\u001b[0m\u001b[0;34m(\u001b[0m\u001b[0mstopwords\u001b[0m\u001b[0;34m.\u001b[0m\u001b[0mwords\u001b[0m\u001b[0;34m(\u001b[0m\u001b[0;34m\"english\"\u001b[0m\u001b[0;34m)\u001b[0m\u001b[0;34m)\u001b[0m\u001b[0;34m\u001b[0m\u001b[0;34m\u001b[0m\u001b[0m\n\u001b[0m\u001b[1;32m     75\u001b[0m         \u001b[0mdic\u001b[0m \u001b[0;34m=\u001b[0m \u001b[0mdefaultdict\u001b[0m\u001b[0;34m(\u001b[0m\u001b[0mint\u001b[0m\u001b[0;34m)\u001b[0m\u001b[0;34m\u001b[0m\u001b[0;34m\u001b[0m\u001b[0m\n\u001b[1;32m     76\u001b[0m         \u001b[0;32mfor\u001b[0m \u001b[0mword\u001b[0m \u001b[0;32min\u001b[0m \u001b[0mcorpus\u001b[0m\u001b[0;34m:\u001b[0m\u001b[0;34m\u001b[0m\u001b[0;34m\u001b[0m\u001b[0m\n",
      "\u001b[0;32m/Library/Frameworks/Python.framework/Versions/3.10/lib/python3.10/site-packages/nltk/corpus/util.py\u001b[0m in \u001b[0;36m__getattr__\u001b[0;34m(self, attr)\u001b[0m\n\u001b[1;32m    119\u001b[0m             \u001b[0;32mraise\u001b[0m \u001b[0mAttributeError\u001b[0m\u001b[0;34m(\u001b[0m\u001b[0;34m\"LazyCorpusLoader object has no attribute '__bases__'\"\u001b[0m\u001b[0;34m)\u001b[0m\u001b[0;34m\u001b[0m\u001b[0;34m\u001b[0m\u001b[0m\n\u001b[1;32m    120\u001b[0m \u001b[0;34m\u001b[0m\u001b[0m\n\u001b[0;32m--> 121\u001b[0;31m         \u001b[0mself\u001b[0m\u001b[0;34m.\u001b[0m\u001b[0m__load\u001b[0m\u001b[0;34m(\u001b[0m\u001b[0;34m)\u001b[0m\u001b[0;34m\u001b[0m\u001b[0;34m\u001b[0m\u001b[0m\n\u001b[0m\u001b[1;32m    122\u001b[0m         \u001b[0;31m# This looks circular, but its not, since __load() changes our\u001b[0m\u001b[0;34m\u001b[0m\u001b[0;34m\u001b[0m\u001b[0m\n\u001b[1;32m    123\u001b[0m         \u001b[0;31m# __class__ to something new:\u001b[0m\u001b[0;34m\u001b[0m\u001b[0;34m\u001b[0m\u001b[0m\n",
      "\u001b[0;32m/Library/Frameworks/Python.framework/Versions/3.10/lib/python3.10/site-packages/nltk/corpus/util.py\u001b[0m in \u001b[0;36m__load\u001b[0;34m(self)\u001b[0m\n\u001b[1;32m     84\u001b[0m                     \u001b[0mroot\u001b[0m \u001b[0;34m=\u001b[0m \u001b[0mnltk\u001b[0m\u001b[0;34m.\u001b[0m\u001b[0mdata\u001b[0m\u001b[0;34m.\u001b[0m\u001b[0mfind\u001b[0m\u001b[0;34m(\u001b[0m\u001b[0;34mf\"{self.subdir}/{zip_name}\"\u001b[0m\u001b[0;34m)\u001b[0m\u001b[0;34m\u001b[0m\u001b[0;34m\u001b[0m\u001b[0m\n\u001b[1;32m     85\u001b[0m                 \u001b[0;32mexcept\u001b[0m \u001b[0mLookupError\u001b[0m\u001b[0;34m:\u001b[0m\u001b[0;34m\u001b[0m\u001b[0;34m\u001b[0m\u001b[0m\n\u001b[0;32m---> 86\u001b[0;31m                     \u001b[0;32mraise\u001b[0m \u001b[0me\u001b[0m\u001b[0;34m\u001b[0m\u001b[0;34m\u001b[0m\u001b[0m\n\u001b[0m\u001b[1;32m     87\u001b[0m \u001b[0;34m\u001b[0m\u001b[0m\n\u001b[1;32m     88\u001b[0m         \u001b[0;31m# Load the corpus.\u001b[0m\u001b[0;34m\u001b[0m\u001b[0;34m\u001b[0m\u001b[0m\n",
      "\u001b[0;32m/Library/Frameworks/Python.framework/Versions/3.10/lib/python3.10/site-packages/nltk/corpus/util.py\u001b[0m in \u001b[0;36m__load\u001b[0;34m(self)\u001b[0m\n\u001b[1;32m     79\u001b[0m         \u001b[0;32melse\u001b[0m\u001b[0;34m:\u001b[0m\u001b[0;34m\u001b[0m\u001b[0;34m\u001b[0m\u001b[0m\n\u001b[1;32m     80\u001b[0m             \u001b[0;32mtry\u001b[0m\u001b[0;34m:\u001b[0m\u001b[0;34m\u001b[0m\u001b[0;34m\u001b[0m\u001b[0m\n\u001b[0;32m---> 81\u001b[0;31m                 \u001b[0mroot\u001b[0m \u001b[0;34m=\u001b[0m \u001b[0mnltk\u001b[0m\u001b[0;34m.\u001b[0m\u001b[0mdata\u001b[0m\u001b[0;34m.\u001b[0m\u001b[0mfind\u001b[0m\u001b[0;34m(\u001b[0m\u001b[0;34mf\"{self.subdir}/{self.__name}\"\u001b[0m\u001b[0;34m)\u001b[0m\u001b[0;34m\u001b[0m\u001b[0;34m\u001b[0m\u001b[0m\n\u001b[0m\u001b[1;32m     82\u001b[0m             \u001b[0;32mexcept\u001b[0m \u001b[0mLookupError\u001b[0m \u001b[0;32mas\u001b[0m \u001b[0me\u001b[0m\u001b[0;34m:\u001b[0m\u001b[0;34m\u001b[0m\u001b[0;34m\u001b[0m\u001b[0m\n\u001b[1;32m     83\u001b[0m                 \u001b[0;32mtry\u001b[0m\u001b[0;34m:\u001b[0m\u001b[0;34m\u001b[0m\u001b[0;34m\u001b[0m\u001b[0m\n",
      "\u001b[0;32m/Library/Frameworks/Python.framework/Versions/3.10/lib/python3.10/site-packages/nltk/data.py\u001b[0m in \u001b[0;36mfind\u001b[0;34m(resource_name, paths)\u001b[0m\n\u001b[1;32m    581\u001b[0m     \u001b[0msep\u001b[0m \u001b[0;34m=\u001b[0m \u001b[0;34m\"*\"\u001b[0m \u001b[0;34m*\u001b[0m \u001b[0;36m70\u001b[0m\u001b[0;34m\u001b[0m\u001b[0;34m\u001b[0m\u001b[0m\n\u001b[1;32m    582\u001b[0m     \u001b[0mresource_not_found\u001b[0m \u001b[0;34m=\u001b[0m \u001b[0;34mf\"\\n{sep}\\n{msg}\\n{sep}\\n\"\u001b[0m\u001b[0;34m\u001b[0m\u001b[0;34m\u001b[0m\u001b[0m\n\u001b[0;32m--> 583\u001b[0;31m     \u001b[0;32mraise\u001b[0m \u001b[0mLookupError\u001b[0m\u001b[0;34m(\u001b[0m\u001b[0mresource_not_found\u001b[0m\u001b[0;34m)\u001b[0m\u001b[0;34m\u001b[0m\u001b[0;34m\u001b[0m\u001b[0m\n\u001b[0m\u001b[1;32m    584\u001b[0m \u001b[0;34m\u001b[0m\u001b[0m\n\u001b[1;32m    585\u001b[0m \u001b[0;34m\u001b[0m\u001b[0m\n",
      "\u001b[0;31mLookupError\u001b[0m: \n**********************************************************************\n  Resource \u001b[93mstopwords\u001b[0m not found.\n  Please use the NLTK Downloader to obtain the resource:\n\n  \u001b[31m>>> import nltk\n  >>> nltk.download('stopwords')\n  \u001b[0m\n  For more information see: https://www.nltk.org/data.html\n\n  Attempted to load \u001b[93mcorpora/stopwords\u001b[0m\n\n  Searched in:\n    - '/Users/sydneysugar/nltk_data'\n    - '/Library/Frameworks/Python.framework/Versions/3.10/nltk_data'\n    - '/Library/Frameworks/Python.framework/Versions/3.10/share/nltk_data'\n    - '/Library/Frameworks/Python.framework/Versions/3.10/lib/nltk_data'\n    - '/usr/share/nltk_data'\n    - '/usr/local/share/nltk_data'\n    - '/usr/lib/nltk_data'\n    - '/usr/local/lib/nltk_data'\n**********************************************************************\n"
     ]
    }
   ],
   "source": [
    "config = {\n",
    "    \"class_imbalance\":{\"min_percent_threshold\": 3}\n",
    "}\n",
    "text_data_test_plan = vm.run_test_plan(\"text_data_quality\",\n",
    "                                       dataset=vm_ds,\n",
    "                                       config=config)"
   ]
  },
  {
   "attachments": {},
   "cell_type": "markdown",
   "metadata": {},
   "source": [
    "## 2. Preprocess data"
   ]
  },
  {
   "attachments": {},
   "cell_type": "markdown",
   "metadata": {},
   "source": [
    "### Handle class bias \n",
    "One way to handle class bias is to merge a specific class data with related class. \n",
    "Here, we will copy the text and class lables in separate columns so that the original text is also there for comparison."
   ]
  },
  {
   "cell_type": "code",
   "execution_count": null,
   "metadata": {},
   "outputs": [],
   "source": [
    "print(\"Original Classes:\", df.Sentiment.unique())\n",
    "\n",
    "df['text'] = df.OriginalTweet\n",
    "df[\"text\"] = df[\"text\"].astype(str)\n",
    "\n",
    "def classes_def(x):\n",
    "    if x ==  \"Extremely Positive\":\n",
    "        return \"positive\"\n",
    "    elif x == \"Extremely Negative\":\n",
    "        return \"negative\"\n",
    "    elif x == \"Negative\":\n",
    "        return \"negative\"\n",
    "    elif x ==  \"Positive\":\n",
    "        return \"positive\"\n",
    "    else:\n",
    "        return \"neutral\"\n",
    "    \n",
    "df['sentiment']=df['Sentiment'].apply(lambda x:classes_def(x))\n",
    "target=df['sentiment']\n",
    "\n",
    "print(df.sentiment.value_counts(normalize= True))\n",
    "print(\"Modified Classes:\", df.sentiment.unique())"
   ]
  },
  {
   "attachments": {},
   "cell_type": "markdown",
   "metadata": {},
   "source": [
    "### Remove neutral class"
   ]
  },
  {
   "cell_type": "code",
   "execution_count": null,
   "metadata": {},
   "outputs": [],
   "source": [
    "df = df[df[\"sentiment\"] != \"neutral\"]\n",
    "print(df.sentiment.unique())\n",
    "print(df.sentiment.value_counts(normalize= True))\n",
    "print(df.shape)"
   ]
  },
  {
   "cell_type": "code",
   "execution_count": null,
   "metadata": {},
   "outputs": [],
   "source": [
    "df"
   ]
  },
  {
   "attachments": {},
   "cell_type": "markdown",
   "metadata": {},
   "source": [
    "### Remove urls and html links"
   ]
  },
  {
   "cell_type": "code",
   "execution_count": null,
   "metadata": {},
   "outputs": [],
   "source": [
    "#Remove Urls and HTML links\n",
    "import re\n",
    "\n",
    "def remove_urls(text):\n",
    "    url_remove = re.compile(r'https?://\\S+|www\\.\\S+')\n",
    "    return url_remove.sub(r'', text)\n",
    "\n",
    "df['text']=df['text'].apply(lambda x:remove_urls(x))\n",
    "\n",
    "def remove_html(text):\n",
    "    html=re.compile(r'<.*?>')\n",
    "    return html.sub(r'',text)\n",
    "\n",
    "df['text']=df['text'].apply(lambda x:remove_html(x))"
   ]
  },
  {
   "attachments": {},
   "cell_type": "markdown",
   "metadata": {},
   "source": [
    "### Convert text to lower case \n"
   ]
  },
  {
   "cell_type": "code",
   "execution_count": null,
   "metadata": {},
   "outputs": [],
   "source": [
    "# Lower casing\n",
    "def lower(text):\n",
    "    low_text= text.lower()\n",
    "    return low_text\n",
    "df['text']=df['text'].apply(lambda x:lower(x))\n"
   ]
  },
  {
   "attachments": {},
   "cell_type": "markdown",
   "metadata": {},
   "source": [
    "### Remove numbers "
   ]
  },
  {
   "cell_type": "code",
   "execution_count": null,
   "metadata": {},
   "outputs": [],
   "source": [
    "# Number removal\n",
    "def remove_num(text):\n",
    "    remove= re.sub(r'\\d+', '', text)\n",
    "    return remove\n",
    "df['text']=df['text'].apply(lambda x:remove_num(x))\n"
   ]
  },
  {
   "attachments": {},
   "cell_type": "markdown",
   "metadata": {},
   "source": [
    "### Remove stopwords "
   ]
  },
  {
   "cell_type": "code",
   "execution_count": null,
   "metadata": {},
   "outputs": [],
   "source": [
    "#Remove stopwords\n",
    "from nltk.corpus import stopwords\n",
    "\", \".join(stopwords.words('english'))\n",
    "STOPWORDS = set(stopwords.words('english'))\n",
    "\n",
    "def remove_stopwords(text):\n",
    "    \"\"\"custom function to remove the stopwords\"\"\"\n",
    "    return \" \".join([word for word in str(text).split() if word not in STOPWORDS])\n",
    "df['text']=df['text'].apply(lambda x:remove_stopwords(x))"
   ]
  },
  {
   "attachments": {},
   "cell_type": "markdown",
   "metadata": {},
   "source": [
    "### Remove Punctuations "
   ]
  },
  {
   "cell_type": "code",
   "execution_count": null,
   "metadata": {},
   "outputs": [],
   "source": [
    "#Remove Punctuations\n",
    "\n",
    "def punct_remove(text):\n",
    "    punct = re.sub(r\"[^\\w\\s\\d]\",\"\", text)\n",
    "    return punct\n",
    "df['text']=df['text'].apply(lambda x:punct_remove(x))\n"
   ]
  },
  {
   "attachments": {},
   "cell_type": "markdown",
   "metadata": {},
   "source": [
    "### Remove mentions "
   ]
  },
  {
   "cell_type": "code",
   "execution_count": null,
   "metadata": {},
   "outputs": [],
   "source": [
    "#Remove mentions \n",
    "def remove_mention(x):\n",
    "    text=re.sub(r'@\\w+','',x)\n",
    "    return text\n",
    "df['text']=df['text'].apply(lambda x:remove_mention(x))\n"
   ]
  },
  {
   "attachments": {},
   "cell_type": "markdown",
   "metadata": {},
   "source": [
    "### Remove hashtags "
   ]
  },
  {
   "cell_type": "code",
   "execution_count": null,
   "metadata": {},
   "outputs": [],
   "source": [
    "#Remove hashtags \n",
    "\n",
    "def remove_hash(x):\n",
    "    text=re.sub(r'#\\w+','',x)\n",
    "    return text\n",
    "df['text']=df['text'].apply(lambda x:remove_hash(x))"
   ]
  },
  {
   "attachments": {},
   "cell_type": "markdown",
   "metadata": {},
   "source": [
    "### Remove extra white space left while removing stuff"
   ]
  },
  {
   "cell_type": "code",
   "execution_count": null,
   "metadata": {},
   "outputs": [],
   "source": [
    "#Remove extra white space left while removing stuff\n",
    "def remove_space(text):\n",
    "    space_remove = re.sub(r\"\\s+\",\" \",text).strip()\n",
    "    return space_remove\n",
    "df['text']=df['text'].apply(lambda x:remove_space(x))"
   ]
  },
  {
   "cell_type": "code",
   "execution_count": null,
   "metadata": {},
   "outputs": [],
   "source": [
    "df"
   ]
  },
  {
   "attachments": {},
   "cell_type": "markdown",
   "metadata": {},
   "source": [
    "### Run text data quality tests again"
   ]
  },
  {
   "cell_type": "code",
   "execution_count": null,
   "metadata": {},
   "outputs": [],
   "source": [
    "vm_ds = vm.init_dataset(dataset=df, type=\"generic\", text_column='text', target_column=\"sentiment\")\n",
    "\n",
    "config = {\n",
    "    \"class_imbalance\":{\"min_percent_threshold\": 3}\n",
    "}\n",
    "text_data_test_plan = vm.run_test_plan(\"text_data_quality\",\n",
    "                                       dataset=vm_ds,\n",
    "                                       config=config)"
   ]
  },
  {
   "attachments": {},
   "cell_type": "markdown",
   "metadata": {},
   "source": [
    "## 3. Feature Engineering "
   ]
  },
  {
   "attachments": {},
   "cell_type": "markdown",
   "metadata": {},
   "source": [
    "### Encoding the words\n",
    "\n",
    "The embedding lookup requires that we pass in integers to our network. The easiest way to do this is to create dictionaries that map the words in the vocabulary to integers. Then we can convert each of our tweets into integers so they can be passed into the network.\n",
    "\n",
    "Now you're going to encode the words with integers. Build a dictionary that maps words to integers. Later we're going to pad our input vectors with zeros, so make sure the integers **start at 1, not 0**.\n",
    "Also, convert the tweets to integers and store the tweets in a new list called `tweets_ints`. "
   ]
  },
  {
   "attachments": {},
   "cell_type": "markdown",
   "metadata": {},
   "source": [
    "#### Text to words"
   ]
  },
  {
   "cell_type": "code",
   "execution_count": null,
   "metadata": {},
   "outputs": [],
   "source": [
    "all_text = ' '.join(df.text)\n",
    "# create a list of words\n",
    "words = all_text.split()"
   ]
  },
  {
   "attachments": {},
   "cell_type": "markdown",
   "metadata": {},
   "source": [
    "#### Build dictionary and map words to integers"
   ]
  },
  {
   "cell_type": "code",
   "execution_count": null,
   "metadata": {},
   "outputs": [],
   "source": [
    "# feel free to use this import \n",
    "from collections import Counter\n",
    "\n",
    "## Build a dictionary that maps words to integers\n",
    "counts = Counter(words)\n",
    "vocab = sorted(counts, key=counts.get, reverse=True)\n",
    "vocab_to_int = {word: ii for ii, word in enumerate(vocab,1)} \n",
    "vocab[1:10]"
   ]
  },
  {
   "attachments": {},
   "cell_type": "markdown",
   "metadata": {},
   "source": [
    "#### Tokenize each tweet "
   ]
  },
  {
   "cell_type": "code",
   "execution_count": null,
   "metadata": {},
   "outputs": [],
   "source": [
    "## use the dict to tokenize each tweet in tweets_split\n",
    "## store the tokenized tweets in tweets_ints\n",
    "tweets_ints = []\n",
    "for tweet in df.text:\n",
    "  tweets_ints.append([vocab_to_int[word] for word in tweet.split()])"
   ]
  },
  {
   "cell_type": "code",
   "execution_count": null,
   "metadata": {},
   "outputs": [],
   "source": [
    "# stats about vocabulary\n",
    "print('Unique words: ', len((vocab_to_int)))  # should ~ 74000+\n",
    "print()\n",
    "\n",
    "# print tokens in first tweet\n",
    "print('Tokenized tweet: \\n', tweets_ints[:1])\n",
    "print(len(tweets_ints))"
   ]
  },
  {
   "attachments": {},
   "cell_type": "markdown",
   "metadata": {},
   "source": [
    "### Encoding the labels\n",
    "\n",
    "Our labels are \"positive\" or \"negative\". To use these labels in our network, we need to convert them to 0 and 1.\n",
    "\n",
    "Convert labels from `positive` and `negative` to 1 and 0, respectively, and place those in a new list, `encoded_labels`."
   ]
  },
  {
   "cell_type": "code",
   "execution_count": null,
   "metadata": {},
   "outputs": [],
   "source": [
    "# 1=positive, 0=negative label conversion\n",
    "import numpy as np\n",
    "\n",
    "labels_split = df.sentiment.values\n",
    "encoded_labels = np.array([1 if label == 'positive' else 0 for label in labels_split])\n",
    "print(len(encoded_labels))"
   ]
  },
  {
   "attachments": {},
   "cell_type": "markdown",
   "metadata": {},
   "source": [
    "#### Padding sequences\n",
    "\n",
    "To deal with both short and very long tweets, we'll pad or truncate all our tweets to a specific length. For tweets shorter than some `seq_length`, we'll pad with 0s. For tweets longer than `seq_length`, we can truncate them to the first `seq_length` words. A good `seq_length`, in this case, is 200.\n",
    "\n",
    "Define a function that returns an array `features` that contains the padded data, of a standard size, that we'll pass to the network. \n",
    "* The data should come from `tweet_ints`, since we want to feed integers to the network. \n",
    "* Each row should be `seq_length` elements long. \n",
    "* For tweets longer than `seq_length`, use only the first `seq_length` words as the feature vector.\n",
    "\n",
    "As a small example, if the `seq_length=10` and an input tweet is: \n",
    "```\n",
    "[117, 18, 128]\n",
    "```\n",
    "The resultant, padded sequence should be: \n",
    "\n",
    "```\n",
    "[0, 0, 0, 0, 0, 0, 0, 117, 18, 128]\n",
    "```\n",
    "\n",
    "**Your final `features` array should be a 2D array, with as many rows as there are tweets, and as many columns as the specified `seq_length`.**\n",
    "\n",
    "This isn't trivial and there are a bunch of ways to do this. But, if you're going to be building your own deep learning networks, you're going to have to get used to preparing your data."
   ]
  },
  {
   "cell_type": "code",
   "execution_count": null,
   "metadata": {},
   "outputs": [],
   "source": [
    "def pad_features(tweets_ints, seq_length):\n",
    "    ''' Return features of tweet_ints, where each tweet is padded with 0's \n",
    "        or truncated to the input seq_length.\n",
    "    '''\n",
    "    ## getting the correct rows x cols shape\n",
    "    features = np.zeros((len(tweets_ints), seq_length), dtype=int)\n",
    "    \n",
    "    ## for each tweet, I grab that tweet\n",
    "    for i, row in enumerate(tweets_ints):\n",
    "      features[i, -len(row):] = np.array(row)[:seq_length]\n",
    "    \n",
    "    return features"
   ]
  },
  {
   "cell_type": "code",
   "execution_count": null,
   "metadata": {},
   "outputs": [],
   "source": [
    "# Test your implementation!\n",
    "\n",
    "seq_length = 100\n",
    "\n",
    "features = pad_features(tweets_ints, seq_length=seq_length)\n",
    "\n",
    "## test statements - do not change - ##\n",
    "assert len(features)==len(tweets_ints), \"Your features should have as many rows as tweets.\"\n",
    "assert len(features[0])==seq_length, \"Each feature row should contain seq_length values.\"\n",
    "\n",
    "# print first 10 values of the first 30 batches \n",
    "print(features[:10,-25:])\n",
    "features = features[0:len(features)-23]\n",
    "encoded_labels = encoded_labels[0:len(encoded_labels)-23] \n",
    "print(len(features),len(encoded_labels))"
   ]
  },
  {
   "attachments": {},
   "cell_type": "markdown",
   "metadata": {},
   "source": [
    "## 4. Modeling "
   ]
  },
  {
   "attachments": {},
   "cell_type": "markdown",
   "metadata": {},
   "source": [
    "### Training, validation, test\n",
    "\n",
    "With our data in nice shape, we'll split it into training, validation, and test sets.\n",
    "\n",
    "Create the training, validation, and test sets. \n",
    "* You'll need to create sets for the features and the labels, `train_x` and `train_y`, for example. \n",
    "* Define a split fraction, `split_frac` as the fraction of data to **keep** in the training set. Usually this is set to 0.8 or 0.9. \n",
    "* Whatever data is left will be split in half to create the validation and *testing* data."
   ]
  },
  {
   "cell_type": "code",
   "execution_count": null,
   "metadata": {},
   "outputs": [],
   "source": [
    "split_frac = 0.8\n",
    "\n",
    "## split data into training, validation, and test data (features and labels, x and y)\n",
    "split_idx = 25000\n",
    "train_x, remaining_x = features[:split_idx], features[split_idx:]\n",
    "train_y, remaining_y = encoded_labels[:split_idx], encoded_labels[split_idx:]\n",
    "\n",
    "test_idx = int(len(remaining_x)* 0.53449)\n",
    "val_x, test_x = remaining_x[:test_idx], remaining_x[test_idx:]\n",
    "val_y, test_y = remaining_y[:test_idx], remaining_y[test_idx:]\n",
    "\n",
    "## print out the shapes of your resultant feature data\n",
    "print(\"\\t\\t\\tFeatures Shapes:\")\n",
    "print(\"Train set: \\t\\t{}\".format(train_x.shape),\n",
    "      \"\\nValidation set: \\t{}\".format(val_x.shape),\n",
    "      \"\\nTest set: \\t\\t{}\".format(test_x.shape))\n",
    "\n"
   ]
  },
  {
   "attachments": {},
   "cell_type": "markdown",
   "metadata": {},
   "source": [
    "\n",
    "### Dataloaders and batching\n",
    "\n",
    "After creating training, test, and validation data, we can create DataLoaders for this data by following two steps:\n",
    "1. Create a known format for accessing our data, using [TensorDataset](https://pytorch.org/docs/stable/data.html#) which takes in an input set of data and a target set of data with the same first dimension, and creates a dataset.\n",
    "2. Create DataLoaders and batch our training, validation, and test Tensor datasets.\n",
    "\n",
    "```\n",
    "train_data = TensorDataset(torch.from_numpy(train_x), torch.from_numpy(train_y))\n",
    "train_loader = DataLoader(train_data, batch_size=batch_size)\n",
    "```\n",
    "\n",
    "This is an alternative to creating a generator function for batching our data into full batches."
   ]
  },
  {
   "cell_type": "code",
   "execution_count": null,
   "metadata": {},
   "outputs": [],
   "source": [
    "import torch\n",
    "from torch.utils.data import TensorDataset, DataLoader\n",
    "\n",
    "# create Tensor datasets\n",
    "train_data = TensorDataset(torch.from_numpy(train_x).to(device), torch.from_numpy(train_y).to(device))\n",
    "valid_data = TensorDataset(torch.from_numpy(val_x).to(device), torch.from_numpy(val_y).to(device))\n",
    "test_data = TensorDataset(torch.from_numpy(test_x).to(device), torch.from_numpy(test_y).to(device))\n",
    "\n",
    "# dataloaders\n",
    "batch_size = 50\n",
    "\n",
    "# make sure to SHUFFLE your data\n",
    "train_loader = DataLoader(train_data, shuffle=True, batch_size=batch_size)\n",
    "valid_loader = DataLoader(valid_data, shuffle=True, batch_size=batch_size)\n",
    "test_loader = DataLoader(test_data, shuffle=True, batch_size=batch_size)\n"
   ]
  },
  {
   "cell_type": "code",
   "execution_count": null,
   "metadata": {},
   "outputs": [],
   "source": [
    "# obtain one batch of training data\n",
    "dataiter = iter(train_loader)\n",
    "sample_x, sample_y = next(dataiter)\n",
    "\n",
    "print('Sample input size: ', sample_x.size()) # batch_size, seq_length\n",
    "print('Sample input: \\n', sample_x)\n",
    "print()\n",
    "print('Sample label size: ', sample_y.size()) # batch_size\n",
    "print('Sample label: \\n', sample_y)"
   ]
  },
  {
   "attachments": {},
   "cell_type": "markdown",
   "metadata": {},
   "source": [
    "### Sentiment network with PyTorch\n",
    "\n",
    "Below is where you'll define the network.\n",
    "### Network architecture\n",
    "\n",
    "The architecture for this network is shown below.\n",
    "\n",
    "```mermaid\n",
    "    Input (Word Tokens)\" --> \"Embedding Layer\" --> \"LSTM Layer\" --> \"Fully-Connected Layer\" --> \"Sigmoid Activation\" --> \"Output (Last Sigmoid)\";\n",
    "```\n",
    "\n",
    "First, we'll pass in words to an embedding layer. We need an embedding layer because we have tens of thousands of words, so we'll need a more efficient representation for our input data than one-hot encoded vectors. You should have seen this before from the Word2Vec lesson. You can actually train an embedding with the Skip-gram Word2Vec model and use those embeddings as input, here. However, it's good enough to just have an embedding layer and let the network learn a different embedding table on its own. \n",
    "\n",
    "After input words are passed to an embedding layer, the new embeddings will be passed to LSTM cells. The LSTM cells will add *recurrent* connections to the network and give us the ability to include information about the *sequence* of words in the covid twitter data. \n",
    "\n",
    "Finally, the LSTM outputs will go to a sigmoid output layer. We're using a sigmoid function because positive and negative = 1 and 0, respectively, and a sigmoid will output predicted, sentiment values between 0-1. \n",
    "\n",
    "We don't care about the sigmoid outputs except for the **very last one**; we can ignore the rest. We'll calculate the loss by comparing the output at the last time step and the training label (pos or neg).\n",
    "\n",
    "\n",
    "The layers are as follows:\n",
    "1. An [embedding layer](https://pytorch.org/docs/stable/nn.html#embedding) that converts our word tokens (integers) into embeddings of a specific size.\n",
    "2. An [lstm layer](https://pytorch.org/docs/stable/nn.html#lstm) defined by a hidden_state size and number of layers\n",
    "3. A fully-connected output layer that maps the LSTM layer outputs to a desired output_size\n",
    "4. A sigmoid activation layer which turns all outputs into a value 0-1; return **only the last sigmoid output** as the output of this network.\n",
    "\n",
    "### The embedding layer\n",
    "\n",
    "We need to add an [embedding layer](https://pytorch.org/docs/stable/nn.html#embedding) because there are 53000+ words in our vocabulary. It is massively inefficient to one-hot encode that many classes. So, instead of one-hot encoding, we can have an embedding layer and use that layer as a lookup table. You could train an embedding layer using Word2Vec, then load it here. But, it's fine to just make a new layer, using it for only dimensionality reduction, and let the network learn the weights.\n",
    "\n",
    "\n",
    "### The LSTM layer(s)\n",
    "\n",
    "We'll create an [LSTM](https://pytorch.org/docs/stable/nn.html#lstm) to use in our recurrent network, which takes in an input_size, a hidden_dim, a number of layers, a dropout probability (for dropout between multiple layers), and a batch_first parameter.\n",
    "\n",
    "Most of the time, you're network will have better performance with more layers; between 2-3. Adding more layers allows the network to learn really complex relationships. \n",
    "\n",
    "Complete the `__init__`, `forward`, and `init_hidden` functions for the SentimentRNN model class.\n",
    "\n",
    "Note: `init_hidden` should initialize the hidden and cell state of an lstm layer to all zeros, and move those state to GPU, if available."
   ]
  },
  {
   "cell_type": "code",
   "execution_count": null,
   "metadata": {},
   "outputs": [],
   "source": [
    "if(lower(device) == \"gpu\"):\n",
    "    print('Training on GPU.')\n",
    "elif (lower(device) == \"mps\"):\n",
    "    print('Training on mps.')\n",
    "else:\n",
    "    print('No GPU available, training on CPU.')\n"
   ]
  },
  {
   "cell_type": "code",
   "execution_count": null,
   "metadata": {},
   "outputs": [],
   "source": [
    "import torch.nn as nn\n",
    "\n",
    "class SentimentRNN(nn.Module):\n",
    "    \"\"\"\n",
    "    The RNN model that will be used to perform Sentiment analysis.\n",
    "    \"\"\"\n",
    "\n",
    "    def __init__(self, vocab_size, output_size, embedding_dim, hidden_dim, n_layers, drop_prob=0.5):\n",
    "        \"\"\"\n",
    "        Initialize the model by setting up the layers.\n",
    "        \"\"\"\n",
    "        super(SentimentRNN, self).__init__()\n",
    "\n",
    "        self.output_size = output_size\n",
    "        self.n_layers = n_layers\n",
    "        self.hidden_dim = hidden_dim\n",
    "        \n",
    "        # embedding and LSTM layers\n",
    "        self.embedding = nn.Embedding(vocab_size, embedding_dim)\n",
    "        self.lstm = nn.LSTM(embedding_dim, hidden_dim, n_layers,\n",
    "                            dropout=drop_prob, batch_first=True)\n",
    "        \n",
    "        # dropout layer\n",
    "        self.dropout = nn.Dropout(0.5)\n",
    "        \n",
    "        # linear and sigmoid layer\n",
    "        self.fc = nn.Linear(hidden_dim, output_size)\n",
    "        self.sig = nn.Sigmoid()\n",
    "\n",
    "    def forward(self, x, hidden):\n",
    "        \"\"\"\n",
    "        Perform a forward pass of our model on some input and hidden state.\n",
    "        \"\"\"\n",
    "        batch_size = x.size(0)\n",
    "        \n",
    "        # embeddings and lstm_out\n",
    "        embeds = self.embedding(x)\n",
    "        lstm_out, hidden = self.lstm(embeds, hidden)\n",
    "        \n",
    "        # stack up lstm outputs\n",
    "        lstm_out = lstm_out.contiguous().view(-1, self.hidden_dim)\n",
    "        \n",
    "        # dropout and fully connected layer\n",
    "        out = self.dropout(lstm_out)\n",
    "        out = self.fc(out)\n",
    "        \n",
    "        # sigmoid function\n",
    "        sig_out = self.sig(out)\n",
    "        \n",
    "        # reshape to be batch_size first\n",
    "        sig_out = sig_out.view(batch_size, -1)\n",
    "        sig_out = sig_out[:, -1] # get last batch of labels\n",
    "        \n",
    "        # return last sigmoid output and hidden state\n",
    "        return sig_out, hidden\n",
    "    \n",
    "    \n",
    "    def init_hidden(self, batch_size):\n",
    "        ''' Initializes hidden state '''\n",
    "        # Create two new tensors with sizes n_layers x batch_size x hidden_dim,\n",
    "        # initialized to zero, for hidden state and cell state of LSTM\n",
    "        weight = next(self.parameters()).data\n",
    "        \n",
    "        if(lower(device) == \"gpu\"):\n",
    "          hidden = (weight.new(self.n_layers, batch_size, self.hidden_dim).zero_().cuda(),\n",
    "                   weight.new(self.n_layers, batch_size, self.hidden_dim).zero_().cuda())\n",
    "        elif(lower(device) == \"mps\"):\n",
    "           hidden = (weight.new(self.n_layers, batch_size, self.hidden_dim).zero_().to(device),\n",
    "                   weight.new(self.n_layers, batch_size, self.hidden_dim).zero_().to(device))\n",
    "        else:\n",
    "          hidden = (weight.new(self.n_layers, batch_size, self.hidden_dim).zero_(),\n",
    "                   weight.new(self.n_layers, batch_size, self.hidden_dim).zero_())\n",
    "        \n",
    "        return hidden\n",
    "    \n",
    "    def predict(self, x_data):\n",
    "\n",
    "        test_loader = DataLoader(x_data, shuffle=False, batch_size=batch_size)\n",
    "\n",
    "        # init hidden state\n",
    "        h = self.init_hidden(batch_size)\n",
    "\n",
    "        self.eval()\n",
    "        predictions = torch.empty((0), dtype=torch.float32)\n",
    "\n",
    "        # iterate over test data\n",
    "        for inputs in test_loader:\n",
    "\n",
    "            # Creating new variables for the hidden state, otherwise\n",
    "            # we'd backprop through the entire training history\n",
    "            h = tuple([each.data for each in h])\n",
    "\n",
    "            if(lower(device) == \"gpu\"):\n",
    "                inputs = inputs.cuda()\n",
    "            if(lower(device) == \"mps\"):\n",
    "                inputs = inputs.to(device)\n",
    "            # get predicted outputs\n",
    "            output, h = self(inputs, h)\n",
    "            \n",
    "            # convert output probabilities to predicted class (0 or 1)\n",
    "            pred = torch.round(output.squeeze())  # rounds to the nearest integer\n",
    "            \n",
    "            # compare predictions to true label\n",
    "            # correct_tensor = pred.eq(labels.float().view_as(pred))\n",
    "            if(lower(device) == \"mps\"):\n",
    "                pred = pred.cpu()\n",
    "            elif lower(device) == \"gpu\":\n",
    "                pred = pred\n",
    "            else:\n",
    "                pred = pred.cpu()\n",
    "            predictions = torch.cat((predictions, pred), 0)\n",
    "\n",
    "        return predictions.detach().numpy()\n"
   ]
  },
  {
   "attachments": {},
   "cell_type": "markdown",
   "metadata": {},
   "source": [
    "#### Weights and hyper parameters"
   ]
  },
  {
   "cell_type": "code",
   "execution_count": null,
   "metadata": {},
   "outputs": [],
   "source": [
    "# Instantiate the model w/ hyperparams\n",
    "vocab_size = len(vocab_to_int) + 1 # +1 for zero padding + our word tokens\n",
    "output_size = 1\n",
    "embedding_dim = 400 \n",
    "hidden_dim = 256\n",
    "n_layers = 4\n",
    "\n",
    "net = SentimentRNN(vocab_size, output_size, embedding_dim, hidden_dim, n_layers)\n",
    "print(net)\n"
   ]
  },
  {
   "attachments": {},
   "cell_type": "markdown",
   "metadata": {},
   "source": [
    "#### Loss and optimization functions"
   ]
  },
  {
   "cell_type": "code",
   "execution_count": null,
   "metadata": {},
   "outputs": [],
   "source": [
    "# loss and optimization functions\n",
    "lr=0.001\n",
    "\n",
    "criterion = nn.BCELoss()\n",
    "optimizer = torch.optim.Adam(net.parameters(), lr=lr)"
   ]
  },
  {
   "cell_type": "code",
   "execution_count": null,
   "metadata": {},
   "outputs": [],
   "source": [
    "if train_model:\n",
    "    # training params\n",
    "\n",
    "    epochs = 4 # 3-4 is approx where I noticed the validation loss stop decreasing\n",
    "\n",
    "    counter = 0\n",
    "    print_every = 100\n",
    "    clip=5 # gradient clipping\n",
    "\n",
    "    # move model to GPU, if available\n",
    "    if(lower(device) == \"gpu\"):\n",
    "        net.cuda()\n",
    "    if(lower(device) == \"mps\"):\n",
    "        net = net.to(device)\n",
    "\n",
    "    net.train()\n",
    "    # train for some number of epochs\n",
    "    for e in range(epochs):\n",
    "        # initialize hidden state\n",
    "        h = net.init_hidden(batch_size)\n",
    "\n",
    "        # batch loop\n",
    "        for inputs, labels in train_loader:\n",
    "            counter += 1\n",
    "\n",
    "            if(lower(device) == \"gpu\"):\n",
    "                inputs, labels = inputs.cuda(), labels.cuda()\n",
    "            if(lower(device) == \"mps\"):\n",
    "                inputs, labels = inputs.to(device), labels.to(device)\n",
    "\n",
    "            # Creating new variables for the hidden state, otherwise\n",
    "            # we'd backprop through the entire training history\n",
    "            h = tuple([each.data for each in h])\n",
    "\n",
    "            # zero accumulated gradients\n",
    "            net.zero_grad()\n",
    "\n",
    "            # get the output from the model\n",
    "            output, h = net(inputs, h)\n",
    "\n",
    "            # calculate the loss and perform backprop\n",
    "            loss = criterion(output.squeeze(), labels.float())\n",
    "            loss.backward()\n",
    "            # `clip_grad_norm` helps prevent the exploding gradient problem in RNNs / LSTMs.\n",
    "            nn.utils.clip_grad_norm_(net.parameters(), clip)\n",
    "            optimizer.step()\n",
    "\n",
    "            # loss stats\n",
    "            if counter % print_every == 0:\n",
    "                # Get validation loss\n",
    "                val_h = net.init_hidden(batch_size)\n",
    "                val_losses = []\n",
    "                net.eval()\n",
    "                for inputs, labels in valid_loader:\n",
    "\n",
    "                    # Creating new variables for the hidden state, otherwise\n",
    "                    # we'd backprop through the entire training history\n",
    "                    val_h = tuple([each.data for each in val_h])\n",
    "\n",
    "                    if(lower(device) == \"gpu\"):\n",
    "                        inputs, labels = inputs.cuda(), labels.cuda()\n",
    "                    if(lower(device) == \"mps\"):\n",
    "                        inputs, labels = inputs.to(device), labels.to(device)\n",
    "\n",
    "                    output, val_h = net(inputs, val_h)\n",
    "                    val_loss = criterion(output.squeeze(), labels.float())\n",
    "\n",
    "                    val_losses.append(val_loss.item())\n",
    "\n",
    "                net.train()\n",
    "                print(\"Epoch: {}/{}...\".format(e+1, epochs),\n",
    "                    \"Step: {}...\".format(counter),\n",
    "                    \"Loss: {:.6f}...\".format(loss.item()),\n",
    "                    \"Val Loss: {:.6f}\".format(np.mean(val_losses)))\n",
    "\n",
    "    torch.save(net, os.path.join('./model/', 'model.pt'))"
   ]
  },
  {
   "cell_type": "code",
   "execution_count": null,
   "metadata": {},
   "outputs": [],
   "source": [
    "net = torch.load(os.path.join('./model/', 'model.pt'))\n",
    "net = net.to(device)\n",
    "net.eval()"
   ]
  },
  {
   "attachments": {},
   "cell_type": "markdown",
   "metadata": {},
   "source": [
    "#### Traning accuracy"
   ]
  },
  {
   "cell_type": "code",
   "execution_count": null,
   "metadata": {},
   "outputs": [],
   "source": [
    "def compute_accuracy(net, data_loader, batch_size, device, criterion):\n",
    "    # Get test data loss and accuracy\n",
    "\n",
    "    test_losses = [] # track loss\n",
    "    num_correct = 0\n",
    "\n",
    "    # init hidden state\n",
    "    h = net.init_hidden(batch_size)\n",
    "\n",
    "    net.eval()\n",
    "    # iterate over test data\n",
    "    for inputs, labels in data_loader:\n",
    "\n",
    "        # Creating new variables for the hidden state, otherwise\n",
    "        # we'd backprop through the entire training history\n",
    "        h = tuple([each.data for each in h])\n",
    "\n",
    "        if(lower(device) == \"gpu\"):\n",
    "            inputs, labels = inputs.cuda(), labels.cuda()\n",
    "        if(lower(device) == \"mps\"):\n",
    "            inputs, labels = inputs.to(device), labels.to(device)\n",
    "        # get predicted outputs\n",
    "        output, h = net(inputs, h)\n",
    "        \n",
    "        # calculate loss\n",
    "        test_loss = criterion(output.squeeze(), labels.float())\n",
    "        test_losses.append(test_loss.item())\n",
    "        \n",
    "        # convert output probabilities to predicted class (0 or 1)\n",
    "        pred = torch.round(output.squeeze())  # rounds to the nearest integer\n",
    "        \n",
    "        # compare predictions to true label\n",
    "        correct_tensor = pred.eq(labels.float().view_as(pred))\n",
    "        if(lower(device) == \"mps\"):\n",
    "            correct = np.squeeze(correct_tensor.cpu().numpy())\n",
    "        elif lower(device) == \"gpu\":\n",
    "            correct = np.squeeze(correct_tensor.numpy())\n",
    "        else:\n",
    "            correct = np.squeeze(correct_tensor.cpu().numpy())\n",
    "\n",
    "        num_correct += np.sum(correct)\n",
    "\n",
    "\n",
    "    # -- stats! -- ##\n",
    "    # avg test loss\n",
    "    avg_loss = np.mean(test_losses)\n",
    "    test_acc = num_correct/len(data_loader.dataset) * 100\n",
    "    return test_acc, avg_loss"
   ]
  },
  {
   "cell_type": "code",
   "execution_count": null,
   "metadata": {},
   "outputs": [],
   "source": [
    "train_model = True\n",
    "if train_model:\n",
    "    training_accuracy, avg_loss  = compute_accuracy(net, train_loader, batch_size, device, criterion)\n",
    "    print(f\"Training loss: {avg_loss}\")\n",
    "    print(f\"Training accuracy: {training_accuracy}\")"
   ]
  },
  {
   "attachments": {},
   "cell_type": "markdown",
   "metadata": {},
   "source": [
    "#### Test accuracy"
   ]
  },
  {
   "cell_type": "code",
   "execution_count": null,
   "metadata": {},
   "outputs": [],
   "source": [
    "if train_model:\n",
    "    test_accuracy, avg_loss  = compute_accuracy(net, test_loader, batch_size, device, criterion)\n",
    "    print(f\"Test loss: {avg_loss}\")\n",
    "    print(f\"Test accuracy: {test_accuracy}\")\n"
   ]
  },
  {
   "attachments": {},
   "cell_type": "markdown",
   "metadata": {},
   "source": [
    "### Initialize validmind objects"
   ]
  },
  {
   "cell_type": "code",
   "execution_count": null,
   "metadata": {},
   "outputs": [],
   "source": [
    "train_data = TensorDataset(torch.from_numpy(train_x[:15000]).to(device), torch.from_numpy(train_y[:15000]).to(device))\n",
    "\n",
    "vm_train_ds = vm.init_dataset(dataset=train_data, type=\"generic\")"
   ]
  },
  {
   "cell_type": "code",
   "execution_count": null,
   "metadata": {},
   "outputs": [],
   "source": [
    "vm_test_ds = vm.init_dataset(dataset=test_data, type=\"generic\")"
   ]
  },
  {
   "cell_type": "code",
   "execution_count": null,
   "metadata": {},
   "outputs": [],
   "source": [
    "\n",
    "vm_model = vm.init_model(net, train_ds=vm_train_ds, test_ds=vm_test_ds)"
   ]
  },
  {
   "attachments": {},
   "cell_type": "markdown",
   "metadata": {},
   "source": [
    "#### Run model metrics test plan"
   ]
  },
  {
   "cell_type": "code",
   "execution_count": null,
   "metadata": {},
   "outputs": [],
   "source": [
    "model_metrics_test_plan = vm.run_test_plan(\"binary_classifier_metrics\", \n",
    "                                             model=vm_model\n",
    "                                            )\n"
   ]
  },
  {
   "attachments": {},
   "cell_type": "markdown",
   "metadata": {},
   "source": [
    "#### Run model validation test plan"
   ]
  },
  {
   "cell_type": "code",
   "execution_count": null,
   "metadata": {},
   "outputs": [],
   "source": [
    "\n",
    "model_validation_test_plan = vm.run_test_plan(\"binary_classifier_validation\", \n",
    "                                             model=vm_model\n",
    "                                            )"
   ]
  },
  {
   "cell_type": "code",
   "execution_count": null,
   "metadata": {},
   "outputs": [],
   "source": []
  }
 ],
 "metadata": {
  "kernelspec": {
   "display_name": "Python 3",
   "language": "python",
   "name": "python3"
  },
  "language_info": {
   "codemirror_mode": {
    "name": "ipython",
    "version": 3
   },
   "file_extension": ".py",
   "mimetype": "text/x-python",
   "name": "python",
   "nbconvert_exporter": "python",
   "pygments_lexer": "ipython3",
   "version": "3.10.5"
  },
  "orig_nbformat": 4
 },
 "nbformat": 4,
 "nbformat_minor": 2
}
