{
       "cells": [
              {
                     "attachments": {},
                     "cell_type": "markdown",
                     "metadata": {},
                     "source": [
                            "# Time Series Forecasting Model Tutorial"
                     ]
              },
              {
                     "attachments": {},
                     "cell_type": "markdown",
                     "metadata": {},
                     "source": [
                            "## Introduction"
                     ]
              },
              {
                     "attachments": {},
                     "cell_type": "markdown",
                     "metadata": {},
                     "source": [
                            "This tutorial shows **Model Developers** on how to use and configure the **Developer Framework** and the **MRM ValidMind Platform**. The following steps will guide you to **automatically** document and test Time Series Forecasting models: \n",
                            "\n",
                            "- Step 1: Connect Notebook to ValidMind Project \n",
                            "- Step 2: Import Raw Data\n",
                            "- Step 3: Run Data Validation Test Suite on Raw Data\n",
                            "- Step 4: Preprocess Data\n",
                            "- Step 5: Run Data Validation Test Suite on Processed Data\n",
                            "- Step 6: Load Pre-Trained Models\n",
                            "- Step 7: Run Model Validation Test Suite on Models\n",
                            "\n"
                     ]
              },
              {
                     "attachments": {},
                     "cell_type": "markdown",
                     "metadata": {},
                     "source": [
                            "## Step 1: Connect Notebook to ValidMind Project\n",
                            "Prepare the environment for our analysis. First, **import** all necessary libraries and modules required for our analysis. Next, **connect** to the ValidMind MRM platform, which provides a comprehensive suite of tools and services for model validation.\n",
                            "\n",
                            "Finally, define and **configure** the specific use case we are working on by setting up any required parameters, data sources, or other settings that will be used throughout the analysis."
                     ]
              },
              {
                     "attachments": {},
                     "cell_type": "markdown",
                     "metadata": {},
                     "source": [
                            "#### Import Libraries"
                     ]
              },
              {
                     "cell_type": "code",
                     "execution_count": 1,
                     "metadata": {},
                     "outputs": [],
                     "source": [
                            "# Load API key and secret from environment variables\n",
                            "%load_ext dotenv\n",
                            "%dotenv .env"
                     ]
              },
              {
                     "attachments": {},
                     "cell_type": "markdown",
                     "metadata": {},
                     "source": [
                            "#### Connect Notebook to ValidMind Project"
                     ]
              },
              {
                     "cell_type": "code",
                     "execution_count": 2,
                     "metadata": {},
                     "outputs": [
                            {
                                   "name": "stdout",
                                   "output_type": "stream",
                                   "text": [
                                          "Connected to ValidMind. Project: [3] FRED Loan Rates Model - Periodic Review (cli4fylps0000s5y6oi5z06xy)\n"
                                   ]
                            }
                     ],
                     "source": [
                            "\n",
                            "import validmind as vm\n",
                            "\n",
                            "vm.init(\n",
                            "  api_host = \"http://localhost:3000/api/v1/tracking\",\n",
                            "  api_key = \"2494c3838f48efe590d531bfe225d90b\",\n",
                            "  api_secret = \"4f692f8161f128414fef542cab2a4e74834c75d01b3a8e088a1834f2afcfe838\",\n",
                            "  project = \"cli4fylps0000s5y6oi5z06xy\"\n",
                            ")"
                     ]
              },
              {
                     "attachments": {},
                     "cell_type": "markdown",
                     "metadata": {},
                     "source": [
                            "#### Explore Test Suites, Test Plans and Tests"
                     ]
              },
              {
                     "cell_type": "code",
                     "execution_count": 3,
                     "metadata": {},
                     "outputs": [
                            {
                                   "data": {
                                          "text/html": [
                                                 "<style type=\"text/css\">\n",
                                                 "#T_6efe9 th {\n",
                                                 "  text-align: left;\n",
                                                 "}\n",
                                                 "#T_6efe9_row0_col0, #T_6efe9_row0_col1, #T_6efe9_row0_col2, #T_6efe9_row0_col3, #T_6efe9_row1_col0, #T_6efe9_row1_col1, #T_6efe9_row1_col2, #T_6efe9_row1_col3, #T_6efe9_row2_col0, #T_6efe9_row2_col1, #T_6efe9_row2_col2, #T_6efe9_row2_col3, #T_6efe9_row3_col0, #T_6efe9_row3_col1, #T_6efe9_row3_col2, #T_6efe9_row3_col3, #T_6efe9_row4_col0, #T_6efe9_row4_col1, #T_6efe9_row4_col2, #T_6efe9_row4_col3 {\n",
                                                 "  text-align: left;\n",
                                                 "}\n",
                                                 "</style>\n",
                                                 "<table id=\"T_6efe9\">\n",
                                                 "  <thead>\n",
                                                 "    <tr>\n",
                                                 "      <th id=\"T_6efe9_level0_col0\" class=\"col_heading level0 col0\" >ID</th>\n",
                                                 "      <th id=\"T_6efe9_level0_col1\" class=\"col_heading level0 col1\" >Name</th>\n",
                                                 "      <th id=\"T_6efe9_level0_col2\" class=\"col_heading level0 col2\" >Description</th>\n",
                                                 "      <th id=\"T_6efe9_level0_col3\" class=\"col_heading level0 col3\" >Test Plans</th>\n",
                                                 "    </tr>\n",
                                                 "  </thead>\n",
                                                 "  <tbody>\n",
                                                 "    <tr>\n",
                                                 "      <td id=\"T_6efe9_row0_col0\" class=\"data row0 col0\" >binary_classifier_full_suite</td>\n",
                                                 "      <td id=\"T_6efe9_row0_col1\" class=\"data row0 col1\" >BinaryClassifierFullSuite</td>\n",
                                                 "      <td id=\"T_6efe9_row0_col2\" class=\"data row0 col2\" >Full test suite for binary classification models.</td>\n",
                                                 "      <td id=\"T_6efe9_row0_col3\" class=\"data row0 col3\" >tabular_dataset_description, tabular_data_quality, binary_classifier_metrics, binary_classifier_validation, binary_classifier_model_diagnosis</td>\n",
                                                 "    </tr>\n",
                                                 "    <tr>\n",
                                                 "      <td id=\"T_6efe9_row1_col0\" class=\"data row1 col0\" >binary_classifier_model_validation</td>\n",
                                                 "      <td id=\"T_6efe9_row1_col1\" class=\"data row1 col1\" >BinaryClassifierModelValidation</td>\n",
                                                 "      <td id=\"T_6efe9_row1_col2\" class=\"data row1 col2\" >Test suite for binary classification models.</td>\n",
                                                 "      <td id=\"T_6efe9_row1_col3\" class=\"data row1 col3\" >binary_classifier_metrics, binary_classifier_validation, binary_classifier_model_diagnosis</td>\n",
                                                 "    </tr>\n",
                                                 "    <tr>\n",
                                                 "      <td id=\"T_6efe9_row2_col0\" class=\"data row2 col0\" >tabular_dataset</td>\n",
                                                 "      <td id=\"T_6efe9_row2_col1\" class=\"data row2 col1\" >TabularDataset</td>\n",
                                                 "      <td id=\"T_6efe9_row2_col2\" class=\"data row2 col2\" >Test suite for tabular datasets.</td>\n",
                                                 "      <td id=\"T_6efe9_row2_col3\" class=\"data row2 col3\" >tabular_dataset_description, tabular_data_quality</td>\n",
                                                 "    </tr>\n",
                                                 "    <tr>\n",
                                                 "      <td id=\"T_6efe9_row3_col0\" class=\"data row3 col0\" >time_series_dataset</td>\n",
                                                 "      <td id=\"T_6efe9_row3_col1\" class=\"data row3 col1\" >TimeSeriesDataset</td>\n",
                                                 "      <td id=\"T_6efe9_row3_col2\" class=\"data row3 col2\" >Test suite for time series datasets.</td>\n",
                                                 "      <td id=\"T_6efe9_row3_col3\" class=\"data row3 col3\" >time_series_data_quality, time_series_univariate, time_series_multivariate</td>\n",
                                                 "    </tr>\n",
                                                 "    <tr>\n",
                                                 "      <td id=\"T_6efe9_row4_col0\" class=\"data row4 col0\" >time_series_model_validation</td>\n",
                                                 "      <td id=\"T_6efe9_row4_col1\" class=\"data row4 col1\" >TimeSeriesModelValidation</td>\n",
                                                 "      <td id=\"T_6efe9_row4_col2\" class=\"data row4 col2\" >Test suite for time series model validation.</td>\n",
                                                 "      <td id=\"T_6efe9_row4_col3\" class=\"data row4 col3\" >regression_model_description, regression_models_evaluation, time_series_forecast, time_series_sensitivity</td>\n",
                                                 "    </tr>\n",
                                                 "  </tbody>\n",
                                                 "</table>\n"
                                          ],
                                          "text/plain": [
                                                 "<pandas.io.formats.style.Styler at 0x1060cbd60>"
                                          ]
                                   },
                                   "execution_count": 3,
                                   "metadata": {},
                                   "output_type": "execute_result"
                            }
                     ],
                     "source": [
                            "vm.test_suites.list_suites()"
                     ]
              },
              {
                     "cell_type": "code",
                     "execution_count": 4,
                     "metadata": {},
                     "outputs": [
                            {
                                   "data": {
                                          "text/html": [
                                                 "<style type=\"text/css\">\n",
                                                 "</style>\n",
                                                 "<table id=\"T_096ec\">\n",
                                                 "  <thead>\n",
                                                 "    <tr>\n",
                                                 "      <th id=\"T_096ec_level0_col0\" class=\"col_heading level0 col0\" >ID</th>\n",
                                                 "      <th id=\"T_096ec_level0_col1\" class=\"col_heading level0 col1\" >Name</th>\n",
                                                 "      <th id=\"T_096ec_level0_col2\" class=\"col_heading level0 col2\" >Description</th>\n",
                                                 "    </tr>\n",
                                                 "  </thead>\n",
                                                 "  <tbody>\n",
                                                 "    <tr>\n",
                                                 "      <td id=\"T_096ec_row0_col0\" class=\"data row0 col0\" >binary_classifier_metrics</td>\n",
                                                 "      <td id=\"T_096ec_row0_col1\" class=\"data row0 col1\" >BinaryClassifierMetrics</td>\n",
                                                 "      <td id=\"T_096ec_row0_col2\" class=\"data row0 col2\" >Test plan for sklearn classifier metrics</td>\n",
                                                 "    </tr>\n",
                                                 "    <tr>\n",
                                                 "      <td id=\"T_096ec_row1_col0\" class=\"data row1 col0\" >binary_classifier_validation</td>\n",
                                                 "      <td id=\"T_096ec_row1_col1\" class=\"data row1 col1\" >BinaryClassifierPerformance</td>\n",
                                                 "      <td id=\"T_096ec_row1_col2\" class=\"data row1 col2\" >Test plan for sklearn classifier models</td>\n",
                                                 "    </tr>\n",
                                                 "    <tr>\n",
                                                 "      <td id=\"T_096ec_row2_col0\" class=\"data row2 col0\" >binary_classifier_model_diagnosis</td>\n",
                                                 "      <td id=\"T_096ec_row2_col1\" class=\"data row2 col1\" >BinaryClassifierDiagnosis</td>\n",
                                                 "      <td id=\"T_096ec_row2_col2\" class=\"data row2 col2\" >Test plan for sklearn classifier model diagnosis tests</td>\n",
                                                 "    </tr>\n",
                                                 "    <tr>\n",
                                                 "      <td id=\"T_096ec_row3_col0\" class=\"data row3 col0\" >tabular_dataset_description</td>\n",
                                                 "      <td id=\"T_096ec_row3_col1\" class=\"data row3 col1\" >TabularDatasetDescription</td>\n",
                                                 "      <td id=\"T_096ec_row3_col2\" class=\"data row3 col2\" >Test plan to extract metadata and descriptive\n",
                                                 "    statistics from a tabular dataset</td>\n",
                                                 "    </tr>\n",
                                                 "    <tr>\n",
                                                 "      <td id=\"T_096ec_row4_col0\" class=\"data row4 col0\" >tabular_data_quality</td>\n",
                                                 "      <td id=\"T_096ec_row4_col1\" class=\"data row4 col1\" >TabularDataQuality</td>\n",
                                                 "      <td id=\"T_096ec_row4_col2\" class=\"data row4 col2\" >Test plan for data quality on tabular datasets</td>\n",
                                                 "    </tr>\n",
                                                 "    <tr>\n",
                                                 "      <td id=\"T_096ec_row5_col0\" class=\"data row5 col0\" >time_series_data_quality</td>\n",
                                                 "      <td id=\"T_096ec_row5_col1\" class=\"data row5 col1\" >TimeSeriesDataQuality</td>\n",
                                                 "      <td id=\"T_096ec_row5_col2\" class=\"data row5 col2\" >Test plan for data quality on time series datasets</td>\n",
                                                 "    </tr>\n",
                                                 "    <tr>\n",
                                                 "      <td id=\"T_096ec_row6_col0\" class=\"data row6 col0\" >time_series_univariate</td>\n",
                                                 "      <td id=\"T_096ec_row6_col1\" class=\"data row6 col1\" >TimeSeriesUnivariate</td>\n",
                                                 "      <td id=\"T_096ec_row6_col2\" class=\"data row6 col2\" >Test plan to perform time series univariate analysis.</td>\n",
                                                 "    </tr>\n",
                                                 "    <tr>\n",
                                                 "      <td id=\"T_096ec_row7_col0\" class=\"data row7 col0\" >time_series_multivariate</td>\n",
                                                 "      <td id=\"T_096ec_row7_col1\" class=\"data row7 col1\" >TimeSeriesMultivariate</td>\n",
                                                 "      <td id=\"T_096ec_row7_col2\" class=\"data row7 col2\" >Test plan to perform time series multivariate analysis.</td>\n",
                                                 "    </tr>\n",
                                                 "    <tr>\n",
                                                 "      <td id=\"T_096ec_row8_col0\" class=\"data row8 col0\" >time_series_forecast</td>\n",
                                                 "      <td id=\"T_096ec_row8_col1\" class=\"data row8 col1\" >TimeSeriesForecast</td>\n",
                                                 "      <td id=\"T_096ec_row8_col2\" class=\"data row8 col2\" >Test plan to perform time series forecast tests.</td>\n",
                                                 "    </tr>\n",
                                                 "    <tr>\n",
                                                 "      <td id=\"T_096ec_row9_col0\" class=\"data row9 col0\" >time_series_sensitivity</td>\n",
                                                 "      <td id=\"T_096ec_row9_col1\" class=\"data row9 col1\" >TimeSeriesSensitivity</td>\n",
                                                 "      <td id=\"T_096ec_row9_col2\" class=\"data row9 col2\" >Test plan to perform time series forecast tests.</td>\n",
                                                 "    </tr>\n",
                                                 "    <tr>\n",
                                                 "      <td id=\"T_096ec_row10_col0\" class=\"data row10 col0\" >regression_model_description</td>\n",
                                                 "      <td id=\"T_096ec_row10_col1\" class=\"data row10 col1\" >RegressionModelDescription</td>\n",
                                                 "      <td id=\"T_096ec_row10_col2\" class=\"data row10 col2\" >Test plan for performance metric of regression model of statsmodels library</td>\n",
                                                 "    </tr>\n",
                                                 "    <tr>\n",
                                                 "      <td id=\"T_096ec_row11_col0\" class=\"data row11 col0\" >regression_models_evaluation</td>\n",
                                                 "      <td id=\"T_096ec_row11_col1\" class=\"data row11 col1\" >RegressionModelsEvaluation</td>\n",
                                                 "      <td id=\"T_096ec_row11_col2\" class=\"data row11 col2\" >Test plan for metrics comparison of regression model of statsmodels library</td>\n",
                                                 "    </tr>\n",
                                                 "  </tbody>\n",
                                                 "</table>\n"
                                          ],
                                          "text/plain": [
                                                 "<pandas.io.formats.style.Styler at 0x28d38b940>"
                                          ]
                                   },
                                   "execution_count": 4,
                                   "metadata": {},
                                   "output_type": "execute_result"
                            }
                     ],
                     "source": [
                            "vm.test_plans.list_plans()"
                     ]
              },
              {
                     "cell_type": "code",
                     "execution_count": 5,
                     "metadata": {},
                     "outputs": [
                            {
                                   "data": {
                                          "text/html": [
                                                 "<style type=\"text/css\">\n",
                                                 "</style>\n",
                                                 "<table id=\"T_ba113\">\n",
                                                 "  <thead>\n",
                                                 "    <tr>\n",
                                                 "      <th id=\"T_ba113_level0_col0\" class=\"col_heading level0 col0\" >Test Type</th>\n",
                                                 "      <th id=\"T_ba113_level0_col1\" class=\"col_heading level0 col1\" >ID</th>\n",
                                                 "      <th id=\"T_ba113_level0_col2\" class=\"col_heading level0 col2\" >Name</th>\n",
                                                 "      <th id=\"T_ba113_level0_col3\" class=\"col_heading level0 col3\" >Description</th>\n",
                                                 "    </tr>\n",
                                                 "  </thead>\n",
                                                 "  <tbody>\n",
                                                 "    <tr>\n",
                                                 "      <td id=\"T_ba113_row0_col0\" class=\"data row0 col0\" >Metric</td>\n",
                                                 "      <td id=\"T_ba113_row0_col1\" class=\"data row0 col1\" >acf_pacf_plot</td>\n",
                                                 "      <td id=\"T_ba113_row0_col2\" class=\"data row0 col2\" >ACFandPACFPlot</td>\n",
                                                 "      <td id=\"T_ba113_row0_col3\" class=\"data row0 col3\" >Plots ACF and PACF for a given time series dataset.</td>\n",
                                                 "    </tr>\n",
                                                 "    <tr>\n",
                                                 "      <td id=\"T_ba113_row1_col0\" class=\"data row1 col0\" >Metric</td>\n",
                                                 "      <td id=\"T_ba113_row1_col1\" class=\"data row1 col1\" >auto_ar</td>\n",
                                                 "      <td id=\"T_ba113_row1_col2\" class=\"data row1 col2\" >AutoAR</td>\n",
                                                 "      <td id=\"T_ba113_row1_col3\" class=\"data row1 col3\" >Automatically detects the AR order of a time series using both BIC and AIC.</td>\n",
                                                 "    </tr>\n",
                                                 "    <tr>\n",
                                                 "      <td id=\"T_ba113_row2_col0\" class=\"data row2 col0\" >Metric</td>\n",
                                                 "      <td id=\"T_ba113_row2_col1\" class=\"data row2 col1\" >auto_ma</td>\n",
                                                 "      <td id=\"T_ba113_row2_col2\" class=\"data row2 col2\" >AutoMA</td>\n",
                                                 "      <td id=\"T_ba113_row2_col3\" class=\"data row2 col3\" >Automatically detects the MA order of a time series using both BIC and AIC.</td>\n",
                                                 "    </tr>\n",
                                                 "    <tr>\n",
                                                 "      <td id=\"T_ba113_row3_col0\" class=\"data row3 col0\" >Metric</td>\n",
                                                 "      <td id=\"T_ba113_row3_col1\" class=\"data row3 col1\" >auto_seasonality</td>\n",
                                                 "      <td id=\"T_ba113_row3_col2\" class=\"data row3 col2\" >AutoSeasonality</td>\n",
                                                 "      <td id=\"T_ba113_row3_col3\" class=\"data row3 col3\" >Automatically detects the optimal seasonal order for a time series dataset\n",
                                                 "    using the seasonal_decompose method.</td>\n",
                                                 "    </tr>\n",
                                                 "    <tr>\n",
                                                 "      <td id=\"T_ba113_row4_col0\" class=\"data row4 col0\" >Metric</td>\n",
                                                 "      <td id=\"T_ba113_row4_col1\" class=\"data row4 col1\" >auto_stationarity</td>\n",
                                                 "      <td id=\"T_ba113_row4_col2\" class=\"data row4 col2\" >AutoStationarity</td>\n",
                                                 "      <td id=\"T_ba113_row4_col3\" class=\"data row4 col3\" >Automatically detects stationarity for each time series in a DataFrame\n",
                                                 "    using the Augmented Dickey-Fuller (ADF) test.</td>\n",
                                                 "    </tr>\n",
                                                 "    <tr>\n",
                                                 "      <td id=\"T_ba113_row5_col0\" class=\"data row5 col0\" >Metric</td>\n",
                                                 "      <td id=\"T_ba113_row5_col1\" class=\"data row5 col1\" >classifier_in_sample_performance</td>\n",
                                                 "      <td id=\"T_ba113_row5_col2\" class=\"data row5 col2\" >ClassifierInSamplePerformance</td>\n",
                                                 "      <td id=\"T_ba113_row5_col3\" class=\"data row5 col3\" >Test that outputs the performance of the model on the training data.</td>\n",
                                                 "    </tr>\n",
                                                 "    <tr>\n",
                                                 "      <td id=\"T_ba113_row6_col0\" class=\"data row6 col0\" >Metric</td>\n",
                                                 "      <td id=\"T_ba113_row6_col1\" class=\"data row6 col1\" >classifier_out_of_sample_performance</td>\n",
                                                 "      <td id=\"T_ba113_row6_col2\" class=\"data row6 col2\" >ClassifierOutOfSamplePerformance</td>\n",
                                                 "      <td id=\"T_ba113_row6_col3\" class=\"data row6 col3\" >Test that outputs the performance of the model on the test data.</td>\n",
                                                 "    </tr>\n",
                                                 "    <tr>\n",
                                                 "      <td id=\"T_ba113_row7_col0\" class=\"data row7 col0\" >Metric</td>\n",
                                                 "      <td id=\"T_ba113_row7_col1\" class=\"data row7 col1\" >confusion_matrix</td>\n",
                                                 "      <td id=\"T_ba113_row7_col2\" class=\"data row7 col2\" >ConfusionMatrix</td>\n",
                                                 "      <td id=\"T_ba113_row7_col3\" class=\"data row7 col3\" >Confusion Matrix</td>\n",
                                                 "    </tr>\n",
                                                 "    <tr>\n",
                                                 "      <td id=\"T_ba113_row8_col0\" class=\"data row8 col0\" >Metric</td>\n",
                                                 "      <td id=\"T_ba113_row8_col1\" class=\"data row8 col1\" >dataset_correlations</td>\n",
                                                 "      <td id=\"T_ba113_row8_col2\" class=\"data row8 col2\" >DatasetCorrelations</td>\n",
                                                 "      <td id=\"T_ba113_row8_col3\" class=\"data row8 col3\" >Extracts the correlation matrix for a dataset. The following coefficients\n",
                                                 "    are calculated:\n",
                                                 "\n",
                                                 "    - Pearson's R for numerical variables\n",
                                                 "    - Cramer's V for categorical variables\n",
                                                 "    - Correlation ratios for categorical-numerical variables</td>\n",
                                                 "    </tr>\n",
                                                 "    <tr>\n",
                                                 "      <td id=\"T_ba113_row9_col0\" class=\"data row9 col0\" >Metric</td>\n",
                                                 "      <td id=\"T_ba113_row9_col1\" class=\"data row9 col1\" >dataset_description</td>\n",
                                                 "      <td id=\"T_ba113_row9_col2\" class=\"data row9 col2\" >DatasetDescription</td>\n",
                                                 "      <td id=\"T_ba113_row9_col3\" class=\"data row9 col3\" >Collects a set of descriptive statistics for a dataset</td>\n",
                                                 "    </tr>\n",
                                                 "    <tr>\n",
                                                 "      <td id=\"T_ba113_row10_col0\" class=\"data row10 col0\" >Metric</td>\n",
                                                 "      <td id=\"T_ba113_row10_col1\" class=\"data row10 col1\" >dataset_split</td>\n",
                                                 "      <td id=\"T_ba113_row10_col2\" class=\"data row10 col2\" >DatasetSplit</td>\n",
                                                 "      <td id=\"T_ba113_row10_col3\" class=\"data row10 col3\" >Attempts to extract information about the dataset split from the\n",
                                                 "    provided training, test and validation datasets.</td>\n",
                                                 "    </tr>\n",
                                                 "    <tr>\n",
                                                 "      <td id=\"T_ba113_row11_col0\" class=\"data row11 col0\" >Metric</td>\n",
                                                 "      <td id=\"T_ba113_row11_col1\" class=\"data row11 col1\" >descriptive_statistics</td>\n",
                                                 "      <td id=\"T_ba113_row11_col2\" class=\"data row11 col2\" >DescriptiveStatistics</td>\n",
                                                 "      <td id=\"T_ba113_row11_col3\" class=\"data row11 col3\" >Collects a set of descriptive statistics for a dataset, both for\n",
                                                 "    numerical and categorical variables</td>\n",
                                                 "    </tr>\n",
                                                 "    <tr>\n",
                                                 "      <td id=\"T_ba113_row12_col0\" class=\"data row12 col0\" >Metric</td>\n",
                                                 "      <td id=\"T_ba113_row12_col1\" class=\"data row12 col1\" >engle_granger_coint</td>\n",
                                                 "      <td id=\"T_ba113_row12_col2\" class=\"data row12 col2\" >EngleGrangerCoint</td>\n",
                                                 "      <td id=\"T_ba113_row12_col3\" class=\"data row12 col3\" >Test for cointegration between pairs of time series variables in a given dataset using the Engle-Granger test.</td>\n",
                                                 "    </tr>\n",
                                                 "    <tr>\n",
                                                 "      <td id=\"T_ba113_row13_col0\" class=\"data row13 col0\" >Metric</td>\n",
                                                 "      <td id=\"T_ba113_row13_col1\" class=\"data row13 col1\" >lagged_correlation_heatmap</td>\n",
                                                 "      <td id=\"T_ba113_row13_col2\" class=\"data row13 col2\" >LaggedCorrelationHeatmap</td>\n",
                                                 "      <td id=\"T_ba113_row13_col3\" class=\"data row13 col3\" >Generates a heatmap of correlations between the target variable and the lags of independent variables in the dataset.</td>\n",
                                                 "    </tr>\n",
                                                 "    <tr>\n",
                                                 "      <td id=\"T_ba113_row14_col0\" class=\"data row14 col0\" >Metric</td>\n",
                                                 "      <td id=\"T_ba113_row14_col1\" class=\"data row14 col1\" >model_metadata</td>\n",
                                                 "      <td id=\"T_ba113_row14_col2\" class=\"data row14 col2\" >ModelMetadata</td>\n",
                                                 "      <td id=\"T_ba113_row14_col3\" class=\"data row14 col3\" >Custom class to collect the following metadata for a model:\n",
                                                 "    - Model architecture\n",
                                                 "    - Model hyperparameters\n",
                                                 "    - Model task type</td>\n",
                                                 "    </tr>\n",
                                                 "    <tr>\n",
                                                 "      <td id=\"T_ba113_row15_col0\" class=\"data row15 col0\" >Metric</td>\n",
                                                 "      <td id=\"T_ba113_row15_col1\" class=\"data row15 col1\" >pearson_correlation_matrix</td>\n",
                                                 "      <td id=\"T_ba113_row15_col2\" class=\"data row15 col2\" >PearsonCorrelationMatrix</td>\n",
                                                 "      <td id=\"T_ba113_row15_col3\" class=\"data row15 col3\" >Extracts the Pearson correlation coefficient for all pairs of numerical variables\n",
                                                 "    in the dataset. This metric is useful to identify highly correlated variables\n",
                                                 "    that can be removed from the dataset to reduce dimensionality.</td>\n",
                                                 "    </tr>\n",
                                                 "    <tr>\n",
                                                 "      <td id=\"T_ba113_row16_col0\" class=\"data row16 col0\" >Metric</td>\n",
                                                 "      <td id=\"T_ba113_row16_col1\" class=\"data row16 col1\" >pfi</td>\n",
                                                 "      <td id=\"T_ba113_row16_col2\" class=\"data row16 col2\" >PermutationFeatureImportance</td>\n",
                                                 "      <td id=\"T_ba113_row16_col3\" class=\"data row16 col3\" >Permutation Feature Importance</td>\n",
                                                 "    </tr>\n",
                                                 "    <tr>\n",
                                                 "      <td id=\"T_ba113_row17_col0\" class=\"data row17 col0\" >Metric</td>\n",
                                                 "      <td id=\"T_ba113_row17_col1\" class=\"data row17 col1\" >psi</td>\n",
                                                 "      <td id=\"T_ba113_row17_col2\" class=\"data row17 col2\" >PopulationStabilityIndex</td>\n",
                                                 "      <td id=\"T_ba113_row17_col3\" class=\"data row17 col3\" >Population Stability Index between two datasets</td>\n",
                                                 "    </tr>\n",
                                                 "    <tr>\n",
                                                 "      <td id=\"T_ba113_row18_col0\" class=\"data row18 col0\" >Metric</td>\n",
                                                 "      <td id=\"T_ba113_row18_col1\" class=\"data row18 col1\" >pr_curve</td>\n",
                                                 "      <td id=\"T_ba113_row18_col2\" class=\"data row18 col2\" >PrecisionRecallCurve</td>\n",
                                                 "      <td id=\"T_ba113_row18_col3\" class=\"data row18 col3\" >Precision Recall Curve</td>\n",
                                                 "    </tr>\n",
                                                 "    <tr>\n",
                                                 "      <td id=\"T_ba113_row19_col0\" class=\"data row19 col0\" >Metric</td>\n",
                                                 "      <td id=\"T_ba113_row19_col1\" class=\"data row19 col1\" >roc_curve</td>\n",
                                                 "      <td id=\"T_ba113_row19_col2\" class=\"data row19 col2\" >ROCCurve</td>\n",
                                                 "      <td id=\"T_ba113_row19_col3\" class=\"data row19 col3\" >ROC Curve</td>\n",
                                                 "    </tr>\n",
                                                 "    <tr>\n",
                                                 "      <td id=\"T_ba113_row20_col0\" class=\"data row20 col0\" >Metric</td>\n",
                                                 "      <td id=\"T_ba113_row20_col1\" class=\"data row20 col1\" >regression_forecast_plot_levels</td>\n",
                                                 "      <td id=\"T_ba113_row20_col2\" class=\"data row20 col2\" >RegressionModelForecastPlotLevels</td>\n",
                                                 "      <td id=\"T_ba113_row20_col3\" class=\"data row20 col3\" >This metric creates a plot of forecast vs observed for each model in the list.</td>\n",
                                                 "    </tr>\n",
                                                 "    <tr>\n",
                                                 "      <td id=\"T_ba113_row21_col0\" class=\"data row21 col0\" >Metric</td>\n",
                                                 "      <td id=\"T_ba113_row21_col1\" class=\"data row21 col1\" >regression_sensitivity_plot</td>\n",
                                                 "      <td id=\"T_ba113_row21_col2\" class=\"data row21 col2\" >RegressionModelSensitivityPlot</td>\n",
                                                 "      <td id=\"T_ba113_row21_col3\" class=\"data row21 col3\" >This metric performs sensitivity analysis applying shocks to one variable at a time.</td>\n",
                                                 "    </tr>\n",
                                                 "    <tr>\n",
                                                 "      <td id=\"T_ba113_row22_col0\" class=\"data row22 col0\" >Metric</td>\n",
                                                 "      <td id=\"T_ba113_row22_col1\" class=\"data row22 col1\" >regression_models_coefficients</td>\n",
                                                 "      <td id=\"T_ba113_row22_col2\" class=\"data row22 col2\" >RegressionModelsCoeffs</td>\n",
                                                 "      <td id=\"T_ba113_row22_col3\" class=\"data row22 col3\" >Test that outputs the coefficients of stats library regression models.</td>\n",
                                                 "    </tr>\n",
                                                 "    <tr>\n",
                                                 "      <td id=\"T_ba113_row23_col0\" class=\"data row23 col0\" >Metric</td>\n",
                                                 "      <td id=\"T_ba113_row23_col1\" class=\"data row23 col1\" >regression_models_performance</td>\n",
                                                 "      <td id=\"T_ba113_row23_col2\" class=\"data row23 col2\" >RegressionModelsPerformance</td>\n",
                                                 "      <td id=\"T_ba113_row23_col3\" class=\"data row23 col3\" >Test that outputs the comparison of stats library regression models.</td>\n",
                                                 "    </tr>\n",
                                                 "    <tr>\n",
                                                 "      <td id=\"T_ba113_row24_col0\" class=\"data row24 col0\" >Metric</td>\n",
                                                 "      <td id=\"T_ba113_row24_col1\" class=\"data row24 col1\" >rolling_stats_plot</td>\n",
                                                 "      <td id=\"T_ba113_row24_col2\" class=\"data row24 col2\" >RollingStatsPlot</td>\n",
                                                 "      <td id=\"T_ba113_row24_col3\" class=\"data row24 col3\" >This class provides a metric to visualize the stationarity of a given time series dataset by plotting the rolling mean and rolling standard deviation. The rolling mean represents the average of the time series data over a fixed-size sliding window, which helps in identifying trends in the data. The rolling standard deviation measures the variability of the data within the sliding window, showing any changes in volatility over time. By analyzing these plots, users can gain insights into the stationarity of the time series data and determine if any transformations or differencing operations are required before applying time series models.</td>\n",
                                                 "    </tr>\n",
                                                 "    <tr>\n",
                                                 "      <td id=\"T_ba113_row25_col0\" class=\"data row25 col0\" >Metric</td>\n",
                                                 "      <td id=\"T_ba113_row25_col1\" class=\"data row25 col1\" >shap</td>\n",
                                                 "      <td id=\"T_ba113_row25_col2\" class=\"data row25 col2\" >SHAPGlobalImportance</td>\n",
                                                 "      <td id=\"T_ba113_row25_col3\" class=\"data row25 col3\" >SHAP Global Importance</td>\n",
                                                 "    </tr>\n",
                                                 "    <tr>\n",
                                                 "      <td id=\"T_ba113_row26_col0\" class=\"data row26 col0\" >Metric</td>\n",
                                                 "      <td id=\"T_ba113_row26_col1\" class=\"data row26 col1\" >scatter_plot</td>\n",
                                                 "      <td id=\"T_ba113_row26_col2\" class=\"data row26 col2\" >ScatterPlot</td>\n",
                                                 "      <td id=\"T_ba113_row26_col3\" class=\"data row26 col3\" >Generates a visual analysis of data by plotting a scatter plot matrix for all columns\n",
                                                 "    in the dataset. The input dataset can have multiple columns (features) if necessary.</td>\n",
                                                 "    </tr>\n",
                                                 "    <tr>\n",
                                                 "      <td id=\"T_ba113_row27_col0\" class=\"data row27 col0\" >Metric</td>\n",
                                                 "      <td id=\"T_ba113_row27_col1\" class=\"data row27 col1\" >seasonal_decompose</td>\n",
                                                 "      <td id=\"T_ba113_row27_col2\" class=\"data row27 col2\" >SeasonalDecompose</td>\n",
                                                 "      <td id=\"T_ba113_row27_col3\" class=\"data row27 col3\" >Calculates seasonal_decompose metric for each of the dataset features</td>\n",
                                                 "    </tr>\n",
                                                 "    <tr>\n",
                                                 "      <td id=\"T_ba113_row28_col0\" class=\"data row28 col0\" >Metric</td>\n",
                                                 "      <td id=\"T_ba113_row28_col1\" class=\"data row28 col1\" >spread_plot</td>\n",
                                                 "      <td id=\"T_ba113_row28_col2\" class=\"data row28 col2\" >SpreadPlot</td>\n",
                                                 "      <td id=\"T_ba113_row28_col3\" class=\"data row28 col3\" >This class provides a metric to visualize the spread between pairs of time series variables in a given dataset. By plotting the spread of each pair of variables in separate figures, users can assess the relationship between the variables and determine if any cointegration or other time series relationships exist between them.</td>\n",
                                                 "    </tr>\n",
                                                 "    <tr>\n",
                                                 "      <td id=\"T_ba113_row29_col0\" class=\"data row29 col0\" >Metric</td>\n",
                                                 "      <td id=\"T_ba113_row29_col1\" class=\"data row29 col1\" >time_series_histogram</td>\n",
                                                 "      <td id=\"T_ba113_row29_col2\" class=\"data row29 col2\" >TimeSeriesHistogram</td>\n",
                                                 "      <td id=\"T_ba113_row29_col3\" class=\"data row29 col3\" >Generates a visual analysis of time series data by plotting the\n",
                                                 "    histogram. The input dataset can have multiple time series if\n",
                                                 "    necessary. In this case we produce a separate plot for each time series.</td>\n",
                                                 "    </tr>\n",
                                                 "    <tr>\n",
                                                 "      <td id=\"T_ba113_row30_col0\" class=\"data row30 col0\" >Metric</td>\n",
                                                 "      <td id=\"T_ba113_row30_col1\" class=\"data row30 col1\" >time_series_line_plot</td>\n",
                                                 "      <td id=\"T_ba113_row30_col2\" class=\"data row30 col2\" >TimeSeriesLinePlot</td>\n",
                                                 "      <td id=\"T_ba113_row30_col3\" class=\"data row30 col3\" >Generates a visual analysis of time series data by plotting the\n",
                                                 "    raw time series. The input dataset can have multiple time series\n",
                                                 "    if necessary. In this case we produce a separate plot for each time series.</td>\n",
                                                 "    </tr>\n",
                                                 "    <tr>\n",
                                                 "      <td id=\"T_ba113_row31_col0\" class=\"data row31 col0\" >None</td>\n",
                                                 "      <td id=\"T_ba113_row31_col1\" class=\"data row31 col1\" >dataset_metadata</td>\n",
                                                 "      <td id=\"T_ba113_row31_col2\" class=\"data row31 col2\" >DatasetMetadata</td>\n",
                                                 "      <td id=\"T_ba113_row31_col3\" class=\"data row31 col3\" >Custom class to collect a set of descriptive statistics for a dataset.\n",
                                                 "    This class will log dataset metadata via `log_dataset` instead of a metric.\n",
                                                 "    Dataset metadata is necessary to initialize dataset object that can be related\n",
                                                 "    to different metrics and test results</td>\n",
                                                 "    </tr>\n",
                                                 "    <tr>\n",
                                                 "      <td id=\"T_ba113_row32_col0\" class=\"data row32 col0\" >ThresholdTest</td>\n",
                                                 "      <td id=\"T_ba113_row32_col1\" class=\"data row32 col1\" >class_imbalance</td>\n",
                                                 "      <td id=\"T_ba113_row32_col2\" class=\"data row32 col2\" >ClassImbalance</td>\n",
                                                 "      <td id=\"T_ba113_row32_col3\" class=\"data row32 col3\" >The class imbalance test measures the disparity between the majority\n",
                                                 "    class and the minority class in the target column.</td>\n",
                                                 "    </tr>\n",
                                                 "    <tr>\n",
                                                 "      <td id=\"T_ba113_row33_col0\" class=\"data row33 col0\" >ThresholdTest</td>\n",
                                                 "      <td id=\"T_ba113_row33_col1\" class=\"data row33 col1\" >duplicates</td>\n",
                                                 "      <td id=\"T_ba113_row33_col2\" class=\"data row33 col2\" >Duplicates</td>\n",
                                                 "      <td id=\"T_ba113_row33_col3\" class=\"data row33 col3\" >The duplicates test measures the number of duplicate rows found in\n",
                                                 "    the dataset. If a primary key column is specified, the dataset is\n",
                                                 "    checked for duplicate primary keys as well.</td>\n",
                                                 "    </tr>\n",
                                                 "    <tr>\n",
                                                 "      <td id=\"T_ba113_row34_col0\" class=\"data row34 col0\" >ThresholdTest</td>\n",
                                                 "      <td id=\"T_ba113_row34_col1\" class=\"data row34 col1\" >cardinality</td>\n",
                                                 "      <td id=\"T_ba113_row34_col2\" class=\"data row34 col2\" >HighCardinality</td>\n",
                                                 "      <td id=\"T_ba113_row34_col3\" class=\"data row34 col3\" >The high cardinality test measures the number of unique\n",
                                                 "    values found in categorical columns.</td>\n",
                                                 "    </tr>\n",
                                                 "    <tr>\n",
                                                 "      <td id=\"T_ba113_row35_col0\" class=\"data row35 col0\" >ThresholdTest</td>\n",
                                                 "      <td id=\"T_ba113_row35_col1\" class=\"data row35 col1\" >pearson_correlation</td>\n",
                                                 "      <td id=\"T_ba113_row35_col2\" class=\"data row35 col2\" >HighPearsonCorrelation</td>\n",
                                                 "      <td id=\"T_ba113_row35_col3\" class=\"data row35 col3\" >Test that the pairwise Pearson correlation coefficients between the\n",
                                                 "    features in the dataset do not exceed a specified threshold.</td>\n",
                                                 "    </tr>\n",
                                                 "    <tr>\n",
                                                 "      <td id=\"T_ba113_row36_col0\" class=\"data row36 col0\" >ThresholdTest</td>\n",
                                                 "      <td id=\"T_ba113_row36_col1\" class=\"data row36 col1\" >accuracy_score</td>\n",
                                                 "      <td id=\"T_ba113_row36_col2\" class=\"data row36 col2\" >MinimumAccuracy</td>\n",
                                                 "      <td id=\"T_ba113_row36_col3\" class=\"data row36 col3\" >Test that the model's prediction accuracy on a dataset meets or\n",
                                                 "    exceeds a predefined threshold.</td>\n",
                                                 "    </tr>\n",
                                                 "    <tr>\n",
                                                 "      <td id=\"T_ba113_row37_col0\" class=\"data row37 col0\" >ThresholdTest</td>\n",
                                                 "      <td id=\"T_ba113_row37_col1\" class=\"data row37 col1\" >f1_score</td>\n",
                                                 "      <td id=\"T_ba113_row37_col2\" class=\"data row37 col2\" >MinimumF1Score</td>\n",
                                                 "      <td id=\"T_ba113_row37_col3\" class=\"data row37 col3\" >Test that the model's F1 score on the validation dataset meets or\n",
                                                 "    exceeds a predefined threshold.</td>\n",
                                                 "    </tr>\n",
                                                 "    <tr>\n",
                                                 "      <td id=\"T_ba113_row38_col0\" class=\"data row38 col0\" >ThresholdTest</td>\n",
                                                 "      <td id=\"T_ba113_row38_col1\" class=\"data row38 col1\" >roc_auc_score</td>\n",
                                                 "      <td id=\"T_ba113_row38_col2\" class=\"data row38 col2\" >MinimumROCAUCScore</td>\n",
                                                 "      <td id=\"T_ba113_row38_col3\" class=\"data row38 col3\" >Test that the model's ROC AUC score on the validation dataset meets or\n",
                                                 "    exceeds a predefined threshold.</td>\n",
                                                 "    </tr>\n",
                                                 "    <tr>\n",
                                                 "      <td id=\"T_ba113_row39_col0\" class=\"data row39 col0\" >ThresholdTest</td>\n",
                                                 "      <td id=\"T_ba113_row39_col1\" class=\"data row39 col1\" >missing</td>\n",
                                                 "      <td id=\"T_ba113_row39_col2\" class=\"data row39 col2\" >MissingValues</td>\n",
                                                 "      <td id=\"T_ba113_row39_col3\" class=\"data row39 col3\" >Test that the number of missing values in the dataset across all features\n",
                                                 "    is less than a threshold</td>\n",
                                                 "    </tr>\n",
                                                 "    <tr>\n",
                                                 "      <td id=\"T_ba113_row40_col0\" class=\"data row40 col0\" >ThresholdTest</td>\n",
                                                 "      <td id=\"T_ba113_row40_col1\" class=\"data row40 col1\" >overfit_regions</td>\n",
                                                 "      <td id=\"T_ba113_row40_col2\" class=\"data row40 col2\" >OverfitDiagnosis</td>\n",
                                                 "      <td id=\"T_ba113_row40_col3\" class=\"data row40 col3\" >Test that identify overfit regions with high residuals by histogram slicing techniques.</td>\n",
                                                 "    </tr>\n",
                                                 "    <tr>\n",
                                                 "      <td id=\"T_ba113_row41_col0\" class=\"data row41 col0\" >ThresholdTest</td>\n",
                                                 "      <td id=\"T_ba113_row41_col1\" class=\"data row41 col1\" >robustness</td>\n",
                                                 "      <td id=\"T_ba113_row41_col2\" class=\"data row41 col2\" >RobustnessDiagnosis</td>\n",
                                                 "      <td id=\"T_ba113_row41_col3\" class=\"data row41 col3\" >Test robustness of model by perturbing the features column values by adding noise within scale\n",
                                                 "    stardard deviation.</td>\n",
                                                 "    </tr>\n",
                                                 "    <tr>\n",
                                                 "      <td id=\"T_ba113_row42_col0\" class=\"data row42 col0\" >ThresholdTest</td>\n",
                                                 "      <td id=\"T_ba113_row42_col1\" class=\"data row42 col1\" >skewness</td>\n",
                                                 "      <td id=\"T_ba113_row42_col2\" class=\"data row42 col2\" >Skewness</td>\n",
                                                 "      <td id=\"T_ba113_row42_col3\" class=\"data row42 col3\" >The skewness test measures the extent to which a distribution of\n",
                                                 "    values differs from a normal distribution. A positive skew describes\n",
                                                 "    a longer tail of values in the right and a negative skew describes a\n",
                                                 "    longer tail of values in the left.</td>\n",
                                                 "    </tr>\n",
                                                 "    <tr>\n",
                                                 "      <td id=\"T_ba113_row43_col0\" class=\"data row43 col0\" >ThresholdTest</td>\n",
                                                 "      <td id=\"T_ba113_row43_col1\" class=\"data row43 col1\" >time_series_frequency</td>\n",
                                                 "      <td id=\"T_ba113_row43_col2\" class=\"data row43 col2\" >TimeSeriesFrequency</td>\n",
                                                 "      <td id=\"T_ba113_row43_col3\" class=\"data row43 col3\" >Test that detect frequencies in the data</td>\n",
                                                 "    </tr>\n",
                                                 "    <tr>\n",
                                                 "      <td id=\"T_ba113_row44_col0\" class=\"data row44 col0\" >ThresholdTest</td>\n",
                                                 "      <td id=\"T_ba113_row44_col1\" class=\"data row44 col1\" >time_series_missing_values</td>\n",
                                                 "      <td id=\"T_ba113_row44_col2\" class=\"data row44 col2\" >TimeSeriesMissingValues</td>\n",
                                                 "      <td id=\"T_ba113_row44_col3\" class=\"data row44 col3\" >Test that the number of missing values is less than a threshold</td>\n",
                                                 "    </tr>\n",
                                                 "    <tr>\n",
                                                 "      <td id=\"T_ba113_row45_col0\" class=\"data row45 col0\" >ThresholdTest</td>\n",
                                                 "      <td id=\"T_ba113_row45_col1\" class=\"data row45 col1\" >time_series_outliers</td>\n",
                                                 "      <td id=\"T_ba113_row45_col2\" class=\"data row45 col2\" >TimeSeriesOutliers</td>\n",
                                                 "      <td id=\"T_ba113_row45_col3\" class=\"data row45 col3\" >Test that find outliers for time series data using the z-score method</td>\n",
                                                 "    </tr>\n",
                                                 "    <tr>\n",
                                                 "      <td id=\"T_ba113_row46_col0\" class=\"data row46 col0\" >ThresholdTest</td>\n",
                                                 "      <td id=\"T_ba113_row46_col1\" class=\"data row46 col1\" >zeros</td>\n",
                                                 "      <td id=\"T_ba113_row46_col2\" class=\"data row46 col2\" >TooManyZeroValues</td>\n",
                                                 "      <td id=\"T_ba113_row46_col3\" class=\"data row46 col3\" >The zeros test finds columns that have too many zero values.</td>\n",
                                                 "    </tr>\n",
                                                 "    <tr>\n",
                                                 "      <td id=\"T_ba113_row47_col0\" class=\"data row47 col0\" >ThresholdTest</td>\n",
                                                 "      <td id=\"T_ba113_row47_col1\" class=\"data row47 col1\" >training_test_degradation</td>\n",
                                                 "      <td id=\"T_ba113_row47_col2\" class=\"data row47 col2\" >TrainingTestDegradation</td>\n",
                                                 "      <td id=\"T_ba113_row47_col3\" class=\"data row47 col3\" >Test that the degradation in performance between the training and test datasets\n",
                                                 "    does not exceed a predefined threshold.</td>\n",
                                                 "    </tr>\n",
                                                 "    <tr>\n",
                                                 "      <td id=\"T_ba113_row48_col0\" class=\"data row48 col0\" >ThresholdTest</td>\n",
                                                 "      <td id=\"T_ba113_row48_col1\" class=\"data row48 col1\" >unique</td>\n",
                                                 "      <td id=\"T_ba113_row48_col2\" class=\"data row48 col2\" >UniqueRows</td>\n",
                                                 "      <td id=\"T_ba113_row48_col3\" class=\"data row48 col3\" >Test that the number of unique rows is greater than a threshold</td>\n",
                                                 "    </tr>\n",
                                                 "    <tr>\n",
                                                 "      <td id=\"T_ba113_row49_col0\" class=\"data row49 col0\" >ThresholdTest</td>\n",
                                                 "      <td id=\"T_ba113_row49_col1\" class=\"data row49 col1\" >weak_spots</td>\n",
                                                 "      <td id=\"T_ba113_row49_col2\" class=\"data row49 col2\" >WeakspotsDiagnosis</td>\n",
                                                 "      <td id=\"T_ba113_row49_col3\" class=\"data row49 col3\" >Test that identify weak regions with high residuals by histogram slicing techniques.</td>\n",
                                                 "    </tr>\n",
                                                 "  </tbody>\n",
                                                 "</table>\n"
                                          ],
                                          "text/plain": [
                                                 "<pandas.io.formats.style.Styler at 0x28d38ace0>"
                                          ]
                                   },
                                   "execution_count": 5,
                                   "metadata": {},
                                   "output_type": "execute_result"
                            }
                     ],
                     "source": [
                            "vm.test_plans.list_tests()"
                     ]
              },
              {
                     "attachments": {},
                     "cell_type": "markdown",
                     "metadata": {},
                     "source": [
                            "## Step 2: Import Raw Data"
                     ]
              },
              {
                     "attachments": {},
                     "cell_type": "markdown",
                     "metadata": {},
                     "source": [
                            "#### Import FRED Dataset"
                     ]
              },
              {
                     "cell_type": "code",
                     "execution_count": 6,
                     "metadata": {},
                     "outputs": [
                            {
                                   "data": {
                                          "text/html": [
                                                 "<div>\n",
                                                 "<style scoped>\n",
                                                 "    .dataframe tbody tr th:only-of-type {\n",
                                                 "        vertical-align: middle;\n",
                                                 "    }\n",
                                                 "\n",
                                                 "    .dataframe tbody tr th {\n",
                                                 "        vertical-align: top;\n",
                                                 "    }\n",
                                                 "\n",
                                                 "    .dataframe thead th {\n",
                                                 "        text-align: right;\n",
                                                 "    }\n",
                                                 "</style>\n",
                                                 "<table border=\"1\" class=\"dataframe\">\n",
                                                 "  <thead>\n",
                                                 "    <tr style=\"text-align: right;\">\n",
                                                 "      <th></th>\n",
                                                 "      <th>MORTGAGE30US</th>\n",
                                                 "      <th>FEDFUNDS</th>\n",
                                                 "      <th>GS10</th>\n",
                                                 "      <th>UNRATE</th>\n",
                                                 "    </tr>\n",
                                                 "    <tr>\n",
                                                 "      <th>DATE</th>\n",
                                                 "      <th></th>\n",
                                                 "      <th></th>\n",
                                                 "      <th></th>\n",
                                                 "      <th></th>\n",
                                                 "    </tr>\n",
                                                 "  </thead>\n",
                                                 "  <tbody>\n",
                                                 "    <tr>\n",
                                                 "      <th>2023-03-02</th>\n",
                                                 "      <td>6.65</td>\n",
                                                 "      <td>NaN</td>\n",
                                                 "      <td>NaN</td>\n",
                                                 "      <td>NaN</td>\n",
                                                 "    </tr>\n",
                                                 "    <tr>\n",
                                                 "      <th>2023-03-09</th>\n",
                                                 "      <td>6.73</td>\n",
                                                 "      <td>NaN</td>\n",
                                                 "      <td>NaN</td>\n",
                                                 "      <td>NaN</td>\n",
                                                 "    </tr>\n",
                                                 "    <tr>\n",
                                                 "      <th>2023-03-16</th>\n",
                                                 "      <td>6.60</td>\n",
                                                 "      <td>NaN</td>\n",
                                                 "      <td>NaN</td>\n",
                                                 "      <td>NaN</td>\n",
                                                 "    </tr>\n",
                                                 "    <tr>\n",
                                                 "      <th>2023-03-23</th>\n",
                                                 "      <td>6.42</td>\n",
                                                 "      <td>NaN</td>\n",
                                                 "      <td>NaN</td>\n",
                                                 "      <td>NaN</td>\n",
                                                 "    </tr>\n",
                                                 "    <tr>\n",
                                                 "      <th>2023-03-30</th>\n",
                                                 "      <td>6.32</td>\n",
                                                 "      <td>NaN</td>\n",
                                                 "      <td>NaN</td>\n",
                                                 "      <td>NaN</td>\n",
                                                 "    </tr>\n",
                                                 "    <tr>\n",
                                                 "      <th>2023-04-01</th>\n",
                                                 "      <td>NaN</td>\n",
                                                 "      <td>NaN</td>\n",
                                                 "      <td>3.46</td>\n",
                                                 "      <td>NaN</td>\n",
                                                 "    </tr>\n",
                                                 "    <tr>\n",
                                                 "      <th>2023-04-06</th>\n",
                                                 "      <td>6.28</td>\n",
                                                 "      <td>NaN</td>\n",
                                                 "      <td>NaN</td>\n",
                                                 "      <td>NaN</td>\n",
                                                 "    </tr>\n",
                                                 "    <tr>\n",
                                                 "      <th>2023-04-13</th>\n",
                                                 "      <td>6.27</td>\n",
                                                 "      <td>NaN</td>\n",
                                                 "      <td>NaN</td>\n",
                                                 "      <td>NaN</td>\n",
                                                 "    </tr>\n",
                                                 "    <tr>\n",
                                                 "      <th>2023-04-20</th>\n",
                                                 "      <td>6.39</td>\n",
                                                 "      <td>NaN</td>\n",
                                                 "      <td>NaN</td>\n",
                                                 "      <td>NaN</td>\n",
                                                 "    </tr>\n",
                                                 "    <tr>\n",
                                                 "      <th>2023-04-27</th>\n",
                                                 "      <td>6.43</td>\n",
                                                 "      <td>NaN</td>\n",
                                                 "      <td>NaN</td>\n",
                                                 "      <td>NaN</td>\n",
                                                 "    </tr>\n",
                                                 "  </tbody>\n",
                                                 "</table>\n",
                                                 "</div>"
                                          ],
                                          "text/plain": [
                                                 "            MORTGAGE30US  FEDFUNDS  GS10  UNRATE\n",
                                                 "DATE                                            \n",
                                                 "2023-03-02          6.65       NaN   NaN     NaN\n",
                                                 "2023-03-09          6.73       NaN   NaN     NaN\n",
                                                 "2023-03-16          6.60       NaN   NaN     NaN\n",
                                                 "2023-03-23          6.42       NaN   NaN     NaN\n",
                                                 "2023-03-30          6.32       NaN   NaN     NaN\n",
                                                 "2023-04-01           NaN       NaN  3.46     NaN\n",
                                                 "2023-04-06          6.28       NaN   NaN     NaN\n",
                                                 "2023-04-13          6.27       NaN   NaN     NaN\n",
                                                 "2023-04-20          6.39       NaN   NaN     NaN\n",
                                                 "2023-04-27          6.43       NaN   NaN     NaN"
                                          ]
                                   },
                                   "execution_count": 6,
                                   "metadata": {},
                                   "output_type": "execute_result"
                            }
                     ],
                     "source": [
                            "from validmind.datasets.regression import fred as demo_dataset\n",
                            "\n",
                            "target_column = demo_dataset.target_column\n",
                            "feature_columns = demo_dataset.feature_columns\n",
                            "\n",
                            "df = demo_dataset.load_data()\n",
                            "df.tail(10)"
                     ]
              },
              {
                     "attachments": {},
                     "cell_type": "markdown",
                     "metadata": {},
                     "source": [
                            "## Step 3: Run Data Validation Test Suite on Raw Data"
                     ]
              },
              {
                     "attachments": {},
                     "cell_type": "markdown",
                     "metadata": {},
                     "source": [
                            "#### Explore the Time Series Dataset Test Suite"
                     ]
              },
              {
                     "cell_type": "code",
                     "execution_count": 7,
                     "metadata": {},
                     "outputs": [
                            {
                                   "data": {
                                          "text/html": [
                                                 "<style type=\"text/css\">\n",
                                                 "#T_e1e29 th {\n",
                                                 "  text-align: left;\n",
                                                 "}\n",
                                                 "#T_e1e29_row0_col0, #T_e1e29_row0_col1, #T_e1e29_row0_col2, #T_e1e29_row0_col3 {\n",
                                                 "  text-align: left;\n",
                                                 "}\n",
                                                 "</style>\n",
                                                 "<table id=\"T_e1e29\">\n",
                                                 "  <thead>\n",
                                                 "    <tr>\n",
                                                 "      <th id=\"T_e1e29_level0_col0\" class=\"col_heading level0 col0\" >ID</th>\n",
                                                 "      <th id=\"T_e1e29_level0_col1\" class=\"col_heading level0 col1\" >Name</th>\n",
                                                 "      <th id=\"T_e1e29_level0_col2\" class=\"col_heading level0 col2\" >Description</th>\n",
                                                 "      <th id=\"T_e1e29_level0_col3\" class=\"col_heading level0 col3\" >Test Plans</th>\n",
                                                 "    </tr>\n",
                                                 "  </thead>\n",
                                                 "  <tbody>\n",
                                                 "    <tr>\n",
                                                 "      <td id=\"T_e1e29_row0_col0\" class=\"data row0 col0\" >time_series_dataset</td>\n",
                                                 "      <td id=\"T_e1e29_row0_col1\" class=\"data row0 col1\" >TimeSeriesDataset</td>\n",
                                                 "      <td id=\"T_e1e29_row0_col2\" class=\"data row0 col2\" >Test suite for time series datasets.</td>\n",
                                                 "      <td id=\"T_e1e29_row0_col3\" class=\"data row0 col3\" >time_series_data_quality, time_series_univariate, time_series_multivariate</td>\n",
                                                 "    </tr>\n",
                                                 "  </tbody>\n",
                                                 "</table>\n"
                                          ],
                                          "text/plain": [
                                                 "<pandas.io.formats.style.Styler at 0x28d38b250>"
                                          ]
                                   },
                                   "execution_count": 7,
                                   "metadata": {},
                                   "output_type": "execute_result"
                            }
                     ],
                     "source": [
                            "vm.test_suites.describe_test_suite(\"time_series_dataset\")"
                     ]
              },
              {
                     "attachments": {},
                     "cell_type": "markdown",
                     "metadata": {},
                     "source": [
                            "#### Explore Test Plans"
                     ]
              },
              {
                     "cell_type": "code",
                     "execution_count": 8,
                     "metadata": {},
                     "outputs": [
                            {
                                   "data": {
                                          "text/html": [
                                                 "<style type=\"text/css\">\n",
                                                 "</style>\n",
                                                 "<table id=\"T_28cc0\">\n",
                                                 "  <thead>\n",
                                                 "    <tr>\n",
                                                 "      <th id=\"T_28cc0_level0_col0\" class=\"col_heading level0 col0\" >ID</th>\n",
                                                 "      <th id=\"T_28cc0_level0_col1\" class=\"col_heading level0 col1\" >Name</th>\n",
                                                 "      <th id=\"T_28cc0_level0_col2\" class=\"col_heading level0 col2\" >Description</th>\n",
                                                 "      <th id=\"T_28cc0_level0_col3\" class=\"col_heading level0 col3\" >Required Context</th>\n",
                                                 "      <th id=\"T_28cc0_level0_col4\" class=\"col_heading level0 col4\" >Tests</th>\n",
                                                 "    </tr>\n",
                                                 "  </thead>\n",
                                                 "  <tbody>\n",
                                                 "    <tr>\n",
                                                 "      <td id=\"T_28cc0_row0_col0\" class=\"data row0 col0\" >time_series_data_quality</td>\n",
                                                 "      <td id=\"T_28cc0_row0_col1\" class=\"data row0 col1\" >TimeSeriesDataQuality</td>\n",
                                                 "      <td id=\"T_28cc0_row0_col2\" class=\"data row0 col2\" >Test plan for data quality on time series datasets</td>\n",
                                                 "      <td id=\"T_28cc0_row0_col3\" class=\"data row0 col3\" >dataset</td>\n",
                                                 "      <td id=\"T_28cc0_row0_col4\" class=\"data row0 col4\" >TimeSeriesOutliers (ThresholdTest), TimeSeriesMissingValues (ThresholdTest), TimeSeriesFrequency (ThresholdTest)</td>\n",
                                                 "    </tr>\n",
                                                 "  </tbody>\n",
                                                 "</table>\n"
                                          ],
                                          "text/plain": [
                                                 "<pandas.io.formats.style.Styler at 0x28d389780>"
                                          ]
                                   },
                                   "execution_count": 8,
                                   "metadata": {},
                                   "output_type": "execute_result"
                            }
                     ],
                     "source": [
                            "vm.test_plans.describe_plan(\"time_series_data_quality\")"
                     ]
              },
              {
                     "cell_type": "code",
                     "execution_count": 9,
                     "metadata": {},
                     "outputs": [
                            {
                                   "data": {
                                          "text/html": [
                                                 "<style type=\"text/css\">\n",
                                                 "</style>\n",
                                                 "<table id=\"T_2191b\">\n",
                                                 "  <thead>\n",
                                                 "    <tr>\n",
                                                 "      <th id=\"T_2191b_level0_col0\" class=\"col_heading level0 col0\" >ID</th>\n",
                                                 "      <th id=\"T_2191b_level0_col1\" class=\"col_heading level0 col1\" >Name</th>\n",
                                                 "      <th id=\"T_2191b_level0_col2\" class=\"col_heading level0 col2\" >Description</th>\n",
                                                 "      <th id=\"T_2191b_level0_col3\" class=\"col_heading level0 col3\" >Required Context</th>\n",
                                                 "      <th id=\"T_2191b_level0_col4\" class=\"col_heading level0 col4\" >Tests</th>\n",
                                                 "    </tr>\n",
                                                 "  </thead>\n",
                                                 "  <tbody>\n",
                                                 "    <tr>\n",
                                                 "      <td id=\"T_2191b_row0_col0\" class=\"data row0 col0\" >time_series_univariate</td>\n",
                                                 "      <td id=\"T_2191b_row0_col1\" class=\"data row0 col1\" >TimeSeriesUnivariate</td>\n",
                                                 "      <td id=\"T_2191b_row0_col2\" class=\"data row0 col2\" >Test plan to perform time series univariate analysis.</td>\n",
                                                 "      <td id=\"T_2191b_row0_col3\" class=\"data row0 col3\" >dataset</td>\n",
                                                 "      <td id=\"T_2191b_row0_col4\" class=\"data row0 col4\" >TimeSeriesLinePlot (Metric), TimeSeriesHistogram (Metric), ACFandPACFPlot (Metric), SeasonalDecompose (Metric), AutoSeasonality (Metric), AutoStationarity (Metric), RollingStatsPlot (Metric), AutoAR (Metric), AutoMA (Metric)</td>\n",
                                                 "    </tr>\n",
                                                 "  </tbody>\n",
                                                 "</table>\n"
                                          ],
                                          "text/plain": [
                                                 "<pandas.io.formats.style.Styler at 0x28d388220>"
                                          ]
                                   },
                                   "execution_count": 9,
                                   "metadata": {},
                                   "output_type": "execute_result"
                            }
                     ],
                     "source": [
                            "vm.test_plans.describe_plan(\"time_series_univariate\")"
                     ]
              },
              {
                     "attachments": {},
                     "cell_type": "markdown",
                     "metadata": {},
                     "source": [
                            "##### Connect Raw Dataset to ValidMind Platform"
                     ]
              },
              {
                     "cell_type": "code",
                     "execution_count": 10,
                     "metadata": {},
                     "outputs": [
                            {
                                   "name": "stdout",
                                   "output_type": "stream",
                                   "text": [
                                          "Pandas dataset detected. Initializing VM Dataset instance...\n",
                                          "Inferring dataset types...\n"
                                   ]
                            }
                     ],
                     "source": [
                            "vm_dataset = vm.init_dataset(\n",
                            "    dataset=df,\n",
                            "    target_column=demo_dataset.target_column,\n",
                            ")"
                     ]
              },
              {
                     "attachments": {},
                     "cell_type": "markdown",
                     "metadata": {},
                     "source": [
                            "##### Run Time Series Dataset Test Suite on Raw Dataset"
                     ]
              },
              {
                     "cell_type": "code",
                     "execution_count": 11,
                     "metadata": {},
                     "outputs": [
                            {
                                   "data": {
                                          "application/vnd.jupyter.widget-view+json": {
                                                 "model_id": "3072e9659d664cf49cd996302da36aa6",
                                                 "version_major": 2,
                                                 "version_minor": 0
                                          },
                                          "text/plain": [
                                                 "HBox(children=(Label(value='Running test suite...'), IntProgress(value=0, max=32)))"
                                          ]
                                   },
                                   "metadata": {},
                                   "output_type": "display_data"
                            },
                            {
                                   "name": "stderr",
                                   "output_type": "stream",
                                   "text": [
                                          "No artists with labels found to put in legend.  Note that artists whose label start with an underscore are ignored when legend() is called with no argument.\n",
                                          "No artists with labels found to put in legend.  Note that artists whose label start with an underscore are ignored when legend() is called with no argument.\n"
                                   ]
                            },
                            {
                                   "name": "stdout",
                                   "output_type": "stream",
                                   "text": [
                                          "            MORTGAGE30US  FEDFUNDS      GS10  UNRATE\n",
                                          "DATE                                                \n",
                                          "1947-01-01           NaN       NaN       NaN     NaN\n",
                                          "1947-02-01           NaN       NaN       NaN     NaN\n",
                                          "1947-03-01           NaN       NaN       NaN     NaN\n",
                                          "1947-04-01           NaN       NaN       NaN     NaN\n",
                                          "1947-05-01           NaN       NaN       NaN     NaN\n",
                                          "...                  ...       ...       ...     ...\n",
                                          "2023-04-01           NaN       NaN -0.727268     NaN\n",
                                          "2023-04-06     -0.448592       NaN       NaN     NaN\n",
                                          "2023-04-13     -0.451651       NaN       NaN     NaN\n",
                                          "2023-04-20     -0.414943       NaN       NaN     NaN\n",
                                          "2023-04-27     -0.402706       NaN       NaN     NaN\n",
                                          "\n",
                                          "[3551 rows x 4 columns]\n",
                                          "        Variable   z-score  Threshold       Date\n",
                                          "0       FEDFUNDS  3.487484          3 1980-03-01\n",
                                          "1       FEDFUNDS  3.603782          3 1980-04-01\n",
                                          "2       FEDFUNDS  3.116440          3 1980-11-01\n",
                                          "3       FEDFUNDS  3.960982          3 1980-12-01\n",
                                          "4       FEDFUNDS  4.010824          3 1981-01-01\n",
                                          "5       FEDFUNDS  3.138592          3 1981-02-01\n",
                                          "6       FEDFUNDS  3.080443          3 1981-04-01\n",
                                          "7       FEDFUNDS  3.855760          3 1981-05-01\n",
                                          "8       FEDFUNDS  4.016362          3 1981-06-01\n",
                                          "9       FEDFUNDS  3.999748          3 1981-07-01\n",
                                          "10      FEDFUNDS  3.661931          3 1981-08-01\n",
                                          "11          GS10  3.205443          3 1981-08-01\n",
                                          "12      FEDFUNDS  3.121978          3 1981-09-01\n",
                                          "13          GS10  3.335620          3 1981-09-01\n",
                                          "14  MORTGAGE30US  3.072366          3 1981-09-04\n",
                                          "15  MORTGAGE30US  3.203905          3 1981-09-11\n",
                                          "16  MORTGAGE30US  3.219200          3 1981-09-18\n",
                                          "17  MORTGAGE30US  3.246731          3 1981-09-25\n",
                                          "18          GS10  3.277383          3 1981-10-01\n",
                                          "19  MORTGAGE30US  3.222259          3 1981-10-02\n",
                                          "20  MORTGAGE30US  3.329326          3 1981-10-09\n",
                                          "21  MORTGAGE30US  3.298735          3 1981-10-16\n",
                                          "22  MORTGAGE30US  3.255909          3 1981-10-21\n",
                                          "23  MORTGAGE30US  3.271204          3 1981-10-30\n",
                                          "24  MORTGAGE30US  3.249790          3 1981-11-06\n",
                                          "25  MORTGAGE30US  3.142724          3 1981-11-13\n",
                                          "26  MORTGAGE30US  3.044835          3 1981-11-20\n",
                                          "27          GS10  3.085543          3 1982-01-01\n",
                                          "28  MORTGAGE30US  3.017303          3 1982-01-22\n",
                                          "29  MORTGAGE30US  3.011185          3 1982-01-29\n",
                                          "30          GS10  3.030732          3 1982-02-01\n",
                                          "31  MORTGAGE30US  3.002008          3 1982-02-05\n",
                                          "32  MORTGAGE30US  3.029539          3 1982-02-12\n",
                                          "33  MORTGAGE30US  3.032598          3 1982-02-19\n",
                                          "34        UNRATE  5.262753          3 2020-04-01\n",
                                          "35        UNRATE  4.383138          3 2020-05-01\n",
                                          "36        UNRATE  3.093036          3 2020-06-01\n"
                                   ]
                            },
                            {
                                   "name": "stderr",
                                   "output_type": "stream",
                                   "text": [
                                          "No artists with labels found to put in legend.  Note that artists whose label start with an underscore are ignored when legend() is called with no argument.\n",
                                          "The default method 'yw' can produce PACF values outside of the [-1,1] interval. After 0.13, the default will change tounadjusted Yule-Walker ('ywm'). You can use this method now by setting method='ywm'.\n",
                                          "No frequency could be inferred for variable 'MORTGAGE30US'. Skipping seasonal decomposition and plots for this variable.\n"
                                   ]
                            },
                            {
                                   "name": "stdout",
                                   "output_type": "stream",
                                   "text": [
                                          "Frequency of FEDFUNDS: MS\n",
                                          "Frequency of GS10: MS\n",
                                          "Frequency of UNRATE: MS\n"
                                   ]
                            },
                            {
                                   "name": "stderr",
                                   "output_type": "stream",
                                   "text": [
                                          "No artists with labels found to put in legend.  Note that artists whose label start with an underscore are ignored when legend() is called with no argument.\n",
                                          "No artists with labels found to put in legend.  Note that artists whose label start with an underscore are ignored when legend() is called with no argument.\n",
                                          "No artists with labels found to put in legend.  Note that artists whose label start with an underscore are ignored when legend() is called with no argument.\n",
                                          "No artists with labels found to put in legend.  Note that artists whose label start with an underscore are ignored when legend() is called with no argument.\n",
                                          "A date index has been provided, but it has no associated frequency information and so will be ignored when e.g. forecasting.\n",
                                          "A date index has been provided, but it has no associated frequency information and so will be ignored when e.g. forecasting.\n",
                                          "A date index has been provided, but it has no associated frequency information and so will be ignored when e.g. forecasting.\n",
                                          "No frequency information was provided, so inferred frequency MS will be used.\n",
                                          "No frequency information was provided, so inferred frequency MS will be used.\n",
                                          "No frequency information was provided, so inferred frequency MS will be used.\n",
                                          "No frequency information was provided, so inferred frequency MS will be used.\n",
                                          "No frequency information was provided, so inferred frequency MS will be used.\n",
                                          "No frequency information was provided, so inferred frequency MS will be used.\n",
                                          "No frequency information was provided, so inferred frequency MS will be used.\n",
                                          "No frequency information was provided, so inferred frequency MS will be used.\n",
                                          "No frequency information was provided, so inferred frequency MS will be used.\n"
                                   ]
                            },
                            {
                                   "name": "stdout",
                                   "output_type": "stream",
                                   "text": [
                                          "Warning: MORTGAGE30US is not stationary. Results may be inaccurate.\n",
                                          "Warning: GS10 is not stationary. Results may be inaccurate.\n"
                                   ]
                            },
                            {
                                   "name": "stderr",
                                   "output_type": "stream",
                                   "text": [
                                          "A date index has been provided, but it has no associated frequency information and so will be ignored when e.g. forecasting.\n",
                                          "A date index has been provided, but it has no associated frequency information and so will be ignored when e.g. forecasting.\n",
                                          "A date index has been provided, but it has no associated frequency information and so will be ignored when e.g. forecasting.\n"
                                   ]
                            },
                            {
                                   "name": "stdout",
                                   "output_type": "stream",
                                   "text": [
                                          "Warning: MORTGAGE30US is not stationary. Results may be inaccurate.\n"
                                   ]
                            },
                            {
                                   "name": "stderr",
                                   "output_type": "stream",
                                   "text": [
                                          "A date index has been provided, but it has no associated frequency information and so will be ignored when e.g. forecasting.\n",
                                          "A date index has been provided, but it has no associated frequency information and so will be ignored when e.g. forecasting.\n",
                                          "A date index has been provided, but it has no associated frequency information and so will be ignored when e.g. forecasting.\n",
                                          "Non-invertible starting MA parameters found. Using zeros as starting parameters.\n",
                                          "A date index has been provided, but it has no associated frequency information and so will be ignored when e.g. forecasting.\n",
                                          "A date index has been provided, but it has no associated frequency information and so will be ignored when e.g. forecasting.\n",
                                          "A date index has been provided, but it has no associated frequency information and so will be ignored when e.g. forecasting.\n",
                                          "Non-invertible starting MA parameters found. Using zeros as starting parameters.\n",
                                          "No frequency information was provided, so inferred frequency MS will be used.\n",
                                          "No frequency information was provided, so inferred frequency MS will be used.\n",
                                          "No frequency information was provided, so inferred frequency MS will be used.\n",
                                          "No frequency information was provided, so inferred frequency MS will be used.\n",
                                          "No frequency information was provided, so inferred frequency MS will be used.\n",
                                          "No frequency information was provided, so inferred frequency MS will be used.\n",
                                          "Non-invertible starting MA parameters found. Using zeros as starting parameters.\n",
                                          "No frequency information was provided, so inferred frequency MS will be used.\n",
                                          "No frequency information was provided, so inferred frequency MS will be used.\n",
                                          "No frequency information was provided, so inferred frequency MS will be used.\n",
                                          "Non-invertible starting MA parameters found. Using zeros as starting parameters.\n"
                                   ]
                            },
                            {
                                   "name": "stdout",
                                   "output_type": "stream",
                                   "text": [
                                          "Warning: GS10 is not stationary. Results may be inaccurate.\n"
                                   ]
                            },
                            {
                                   "name": "stderr",
                                   "output_type": "stream",
                                   "text": [
                                          "No frequency information was provided, so inferred frequency MS will be used.\n",
                                          "No frequency information was provided, so inferred frequency MS will be used.\n",
                                          "No frequency information was provided, so inferred frequency MS will be used.\n",
                                          "No frequency information was provided, so inferred frequency MS will be used.\n",
                                          "No frequency information was provided, so inferred frequency MS will be used.\n",
                                          "No frequency information was provided, so inferred frequency MS will be used.\n",
                                          "Non-invertible starting MA parameters found. Using zeros as starting parameters.\n",
                                          "No frequency information was provided, so inferred frequency MS will be used.\n",
                                          "No frequency information was provided, so inferred frequency MS will be used.\n",
                                          "No frequency information was provided, so inferred frequency MS will be used.\n",
                                          "Non-invertible starting MA parameters found. Using zeros as starting parameters.\n",
                                          "No frequency information was provided, so inferred frequency MS will be used.\n",
                                          "No frequency information was provided, so inferred frequency MS will be used.\n",
                                          "No frequency information was provided, so inferred frequency MS will be used.\n",
                                          "No frequency information was provided, so inferred frequency MS will be used.\n",
                                          "No frequency information was provided, so inferred frequency MS will be used.\n",
                                          "No frequency information was provided, so inferred frequency MS will be used.\n",
                                          "Non-invertible starting MA parameters found. Using zeros as starting parameters.\n",
                                          "No frequency information was provided, so inferred frequency MS will be used.\n",
                                          "No frequency information was provided, so inferred frequency MS will be used.\n",
                                          "No frequency information was provided, so inferred frequency MS will be used.\n"
                                   ]
                            },
                            {
                                   "data": {
                                          "application/vnd.jupyter.widget-view+json": {
                                                 "model_id": "393c0f85cdb24a5584edfd29836a1f95",
                                                 "version_major": 2,
                                                 "version_minor": 0
                                          },
                                          "text/plain": [
                                                 "VBox(children=(HTML(value='<h2>Test Suite Results: <i style=\"color: #DE257E\">Time Series Dataset</i></h2><hr>'…"
                                          ]
                                   },
                                   "metadata": {},
                                   "output_type": "display_data"
                            }
                     ],
                     "source": [
                            "config={\n",
                            "    \n",
                            "    # TIME SERIES DATA QUALITY PARAMS\n",
                            "    \"time_series_outliers\": {\n",
                            "        \"zscore_threshold\": 3,\n",
                            "    },\n",
                            "    \"time_series_missing_values\":{\n",
                            "        \"min_threshold\": 2,\n",
                            "    },\n",
                            "    \n",
                            "    # TIME SERIES UNIVARIATE PARAMS \n",
                            "    \"rolling_stats_plot\": {\n",
                            "        \"window_size\": 12    \n",
                            "    },\n",
                            "     \"seasonal_decompose\": {\n",
                            "        \"seasonal_model\": 'additive'\n",
                            "    },\n",
                            "     \"auto_seasonality\": {\n",
                            "        \"min_period\": 1,\n",
                            "        \"max_period\": 3\n",
                            "    },\n",
                            "      \"auto_stationarity\": {\n",
                            "        \"max_order\": 3,\n",
                            "        \"threshold\": 0.05\n",
                            "    },\n",
                            "    \"auto_ar\": {\n",
                            "        \"max_ar_order\": 2\n",
                            "    },\n",
                            "    \"auto_ma\": {\n",
                            "        \"max_ma_order\": 2\n",
                            "    },\n",
                            "\n",
                            "    # TIME SERIES MULTIVARIATE PARAMS \n",
                            "    \"lagged_correlation_heatmap\": {\n",
                            "        \"target_col\": demo_dataset.target_column,\n",
                            "        \"independent_vars\": demo_dataset.feature_columns\n",
                            "    },\n",
                            "    \"engle_granger_coint\": {\n",
                            "        \"threshold\": 0.05\n",
                            "    },\n",
                            "}\n",
                            "\n",
                            "full_suite = vm.run_test_suite(\n",
                            "    \"time_series_dataset\",\n",
                            "    dataset=vm_dataset,\n",
                            "    config = config,\n",
                            ")"
                     ]
              },
              {
                     "attachments": {},
                     "cell_type": "markdown",
                     "metadata": {},
                     "source": [
                            "## Step 4: Preprocess Data"
                     ]
              },
              {
                     "attachments": {},
                     "cell_type": "markdown",
                     "metadata": {},
                     "source": [
                            "##### Handle Frequencies, Missing Values and Stationairty"
                     ]
              },
              {
                     "cell_type": "code",
                     "execution_count": 12,
                     "metadata": {},
                     "outputs": [],
                     "source": [
                            "# Sample frequencies to Monthly\n",
                            "resampled_df = df.resample(\"MS\").last()\n",
                            "\n",
                            "# Remove all missing values\n",
                            "nona_df = resampled_df.dropna()\n",
                            "\n",
                            "# Take the first different across all variables\n",
                            "preprocessed_df = nona_df.diff().dropna()"
                     ]
              },
              {
                     "attachments": {},
                     "cell_type": "markdown",
                     "metadata": {},
                     "source": [
                            "## Step 5: Run Data Validation Test Suite on Processed Data"
                     ]
              },
              {
                     "cell_type": "code",
                     "execution_count": 13,
                     "metadata": {},
                     "outputs": [
                            {
                                   "name": "stdout",
                                   "output_type": "stream",
                                   "text": [
                                          "Pandas dataset detected. Initializing VM Dataset instance...\n",
                                          "Inferring dataset types...\n"
                                   ]
                            },
                            {
                                   "data": {
                                          "application/vnd.jupyter.widget-view+json": {
                                                 "model_id": "290c4b89f4af42388b461af7d4f98124",
                                                 "version_major": 2,
                                                 "version_minor": 0
                                          },
                                          "text/plain": [
                                                 "HBox(children=(Label(value='Running test suite...'), IntProgress(value=0, max=32)))"
                                          ]
                                   },
                                   "metadata": {},
                                   "output_type": "display_data"
                            },
                            {
                                   "name": "stderr",
                                   "output_type": "stream",
                                   "text": [
                                          "No artists with labels found to put in legend.  Note that artists whose label start with an underscore are ignored when legend() is called with no argument.\n",
                                          "No artists with labels found to put in legend.  Note that artists whose label start with an underscore are ignored when legend() is called with no argument.\n",
                                          "No artists with labels found to put in legend.  Note that artists whose label start with an underscore are ignored when legend() is called with no argument.\n"
                                   ]
                            },
                            {
                                   "name": "stdout",
                                   "output_type": "stream",
                                   "text": [
                                          "            MORTGAGE30US  FEDFUNDS      GS10    UNRATE\n",
                                          "DATE                                                  \n",
                                          "1971-05-01      0.562601  0.876408  1.919794  0.008165\n",
                                          "1971-06-01      0.267457  0.521521  0.454779  0.008165\n",
                                          "1971-07-01      0.497014  0.745660  0.727340  0.220106\n",
                                          "1971-08-01      0.005106  0.484165 -0.499185  0.220106\n",
                                          "1971-09-01     -0.060482 -0.038826 -1.487219 -0.203777\n",
                                          "...                  ...       ...       ...       ...\n",
                                          "2022-11-01     -1.634586  1.306007 -0.294764 -0.203777\n",
                                          "2022-12-01     -0.519596  0.596234 -0.908026 -0.203777\n",
                                          "2023-01-01     -0.945916  0.428130 -0.294764 -0.203777\n",
                                          "2023-02-01      1.218478  0.446808  0.761410  0.432048\n",
                                          "2023-03-01     -0.585183  0.147957 -0.294764 -0.203777\n",
                                          "\n",
                                          "[623 rows x 4 columns]\n",
                                          "        Variable    z-score  Threshold       Date\n",
                                          "0       FEDFUNDS   3.566073          3 1973-07-01\n",
                                          "1       FEDFUNDS   4.369237          3 1979-10-01\n",
                                          "2           GS10   3.316670          3 1979-10-01\n",
                                          "3           GS10   5.497158          3 1980-02-01\n",
                                          "4   MORTGAGE30US   8.006804          3 1980-03-01\n",
                                          "5       FEDFUNDS   5.714069          3 1980-03-01\n",
                                          "6           GS10  -4.349110          3 1980-04-01\n",
                                          "7   MORTGAGE30US  -9.997017          3 1980-05-01\n",
                                          "8       FEDFUNDS -12.385135          3 1980-05-01\n",
                                          "9           GS10  -4.383180          3 1980-05-01\n",
                                          "10      FEDFUNDS   3.622107          3 1980-10-01\n",
                                          "11      FEDFUNDS   5.676713          3 1980-11-01\n",
                                          "12          GS10   3.180389          3 1980-11-01\n",
                                          "13      FEDFUNDS   5.695391          3 1980-12-01\n",
                                          "14      FEDFUNDS  -5.885111          3 1981-02-01\n",
                                          "15  MORTGAGE30US   3.382872          3 1981-05-01\n",
                                          "16      FEDFUNDS   5.228435          3 1981-05-01\n",
                                          "17      FEDFUNDS  -3.643724          3 1981-09-01\n",
                                          "18  MORTGAGE30US  -4.028537          3 1981-11-01\n",
                                          "19      FEDFUNDS  -3.307516          3 1981-11-01\n",
                                          "20          GS10  -5.984476          3 1981-11-01\n",
                                          "21      FEDFUNDS  -4.614992          3 1982-08-01\n",
                                          "22          GS10  -3.020375          3 1982-08-01\n",
                                          "23  MORTGAGE30US  -3.405454          3 1982-10-01\n",
                                          "24          GS10  -4.860162          3 1982-10-01\n",
                                          "25          GS10  -3.122585          3 1986-03-01\n",
                                          "26  MORTGAGE30US   4.399481          3 1987-04-01\n",
                                          "27          GS10  -3.769917          3 2008-12-01\n",
                                          "28        UNRATE  21.838147          3 2020-04-01\n",
                                          "29        UNRATE  -3.170959          3 2020-05-01\n",
                                          "30        UNRATE  -4.654550          3 2020-06-01\n",
                                          "31        UNRATE  -3.806784          3 2020-08-01\n",
                                          "32  MORTGAGE30US   3.776398          3 2022-09-01\n"
                                   ]
                            },
                            {
                                   "name": "stderr",
                                   "output_type": "stream",
                                   "text": [
                                          "The default method 'yw' can produce PACF values outside of the [-1,1] interval. After 0.13, the default will change tounadjusted Yule-Walker ('ywm'). You can use this method now by setting method='ywm'.\n"
                                   ]
                            },
                            {
                                   "name": "stdout",
                                   "output_type": "stream",
                                   "text": [
                                          "Frequency of MORTGAGE30US: MS\n",
                                          "Frequency of FEDFUNDS: MS\n",
                                          "Frequency of GS10: MS\n",
                                          "Frequency of UNRATE: MS\n"
                                   ]
                            },
                            {
                                   "name": "stderr",
                                   "output_type": "stream",
                                   "text": [
                                          "No artists with labels found to put in legend.  Note that artists whose label start with an underscore are ignored when legend() is called with no argument.\n",
                                          "No artists with labels found to put in legend.  Note that artists whose label start with an underscore are ignored when legend() is called with no argument.\n",
                                          "No artists with labels found to put in legend.  Note that artists whose label start with an underscore are ignored when legend() is called with no argument.\n",
                                          "No artists with labels found to put in legend.  Note that artists whose label start with an underscore are ignored when legend() is called with no argument.\n"
                                   ]
                            },
                            {
                                   "data": {
                                          "application/vnd.jupyter.widget-view+json": {
                                                 "model_id": "3e3276b467b842a49f7197f0adfffcc6",
                                                 "version_major": 2,
                                                 "version_minor": 0
                                          },
                                          "text/plain": [
                                                 "VBox(children=(HTML(value='<h2>Test Suite Results: <i style=\"color: #DE257E\">Time Series Dataset</i></h2><hr>'…"
                                          ]
                                   },
                                   "metadata": {},
                                   "output_type": "display_data"
                            }
                     ],
                     "source": [
                            "vm_dataset = vm.init_dataset(\n",
                            "    dataset=preprocessed_df,\n",
                            "    target_column=demo_dataset.target_column,\n",
                            ")\n",
                            "\n",
                            "full_suite = vm.run_test_suite(\n",
                            "    \"time_series_dataset\",\n",
                            "    dataset=vm_dataset,\n",
                            "    config = config,\n",
                            ")"
                     ]
              },
              {
                     "attachments": {},
                     "cell_type": "markdown",
                     "metadata": {},
                     "source": [
                            "## Step 6: Load Pre-Trained Models"
                     ]
              },
              {
                     "attachments": {},
                     "cell_type": "markdown",
                     "metadata": {},
                     "source": [
                            "#### Load Pre-Trained Models"
                     ]
              },
              {
                     "cell_type": "code",
                     "execution_count": 14,
                     "metadata": {},
                     "outputs": [],
                     "source": [
                            "from validmind.datasets.regression import fred as demo_dataset\n",
                            "model_A, train_df_A, test_df_A = demo_dataset.load_model('fred_loan_rates_model_3')\n",
                            "model_B, train_df_B, test_df_B = demo_dataset.load_model('fred_loan_rates_model_4')"
                     ]
              },
              {
                     "attachments": {},
                     "cell_type": "markdown",
                     "metadata": {},
                     "source": [
                            "##### Connect a List of Models To the ValidMind Platform"
                     ]
              },
              {
                     "cell_type": "code",
                     "execution_count": 15,
                     "metadata": {},
                     "outputs": [
                            {
                                   "name": "stdout",
                                   "output_type": "stream",
                                   "text": [
                                          "Pandas dataset detected. Initializing VM Dataset instance...\n",
                                          "Inferring dataset types...\n",
                                          "Pandas dataset detected. Initializing VM Dataset instance...\n",
                                          "Inferring dataset types...\n",
                                          "Pandas dataset detected. Initializing VM Dataset instance...\n",
                                          "Inferring dataset types...\n",
                                          "Pandas dataset detected. Initializing VM Dataset instance...\n",
                                          "Inferring dataset types...\n"
                                   ]
                            }
                     ],
                     "source": [
                            "# Initialize training and testing datasets for model A\n",
                            "vm_train_ds_A = vm.init_dataset(dataset=train_df_A, type=\"generic\", target_column=demo_dataset.target_column)\n",
                            "vm_test_ds_A = vm.init_dataset(dataset=test_df_A, type=\"generic\", target_column=demo_dataset.target_column)\n",
                            "\n",
                            "# Initialize training and testing datasets for model B\n",
                            "vm_train_ds_B = vm.init_dataset(dataset=train_df_B, type=\"generic\", target_column=demo_dataset.target_column)\n",
                            "vm_test_ds_B = vm.init_dataset(dataset=test_df_B, type=\"generic\", target_column=demo_dataset.target_column)\n",
                            "\n",
                            "# Initialize model A\n",
                            "vm_model_A = vm.init_model(\n",
                            "    model = model_A, \n",
                            "    train_ds=vm_train_ds_A, \n",
                            "    test_ds=vm_test_ds_A)\n",
                            "\n",
                            "# Initialize model B\n",
                            "vm_model_B = vm.init_model(\n",
                            "    model = model_B,\n",
                            "    train_ds=vm_train_ds_B,\n",
                            "    test_ds=vm_test_ds_B)\n",
                            "\n",
                            "\n",
                            "list_of_models = [vm_model_A, vm_model_B]"
                     ]
              },
              {
                     "attachments": {},
                     "cell_type": "markdown",
                     "metadata": {},
                     "source": [
                            "## Step 7: Run Model Validation Test Suite on Models"
                     ]
              },
              {
                     "attachments": {},
                     "cell_type": "markdown",
                     "metadata": {},
                     "source": [
                            "#### Explore the Time Series Model Validation Test Suite"
                     ]
              },
              {
                     "cell_type": "code",
                     "execution_count": 16,
                     "metadata": {},
                     "outputs": [
                            {
                                   "data": {
                                          "text/html": [
                                                 "<style type=\"text/css\">\n",
                                                 "#T_b7657 th {\n",
                                                 "  text-align: left;\n",
                                                 "}\n",
                                                 "#T_b7657_row0_col0, #T_b7657_row0_col1, #T_b7657_row0_col2, #T_b7657_row0_col3 {\n",
                                                 "  text-align: left;\n",
                                                 "}\n",
                                                 "</style>\n",
                                                 "<table id=\"T_b7657\">\n",
                                                 "  <thead>\n",
                                                 "    <tr>\n",
                                                 "      <th id=\"T_b7657_level0_col0\" class=\"col_heading level0 col0\" >ID</th>\n",
                                                 "      <th id=\"T_b7657_level0_col1\" class=\"col_heading level0 col1\" >Name</th>\n",
                                                 "      <th id=\"T_b7657_level0_col2\" class=\"col_heading level0 col2\" >Description</th>\n",
                                                 "      <th id=\"T_b7657_level0_col3\" class=\"col_heading level0 col3\" >Test Plans</th>\n",
                                                 "    </tr>\n",
                                                 "  </thead>\n",
                                                 "  <tbody>\n",
                                                 "    <tr>\n",
                                                 "      <td id=\"T_b7657_row0_col0\" class=\"data row0 col0\" >time_series_model_validation</td>\n",
                                                 "      <td id=\"T_b7657_row0_col1\" class=\"data row0 col1\" >TimeSeriesModelValidation</td>\n",
                                                 "      <td id=\"T_b7657_row0_col2\" class=\"data row0 col2\" >Test suite for time series model validation.</td>\n",
                                                 "      <td id=\"T_b7657_row0_col3\" class=\"data row0 col3\" >regression_model_description, regression_models_evaluation, time_series_forecast, time_series_sensitivity</td>\n",
                                                 "    </tr>\n",
                                                 "  </tbody>\n",
                                                 "</table>\n"
                                          ],
                                          "text/plain": [
                                                 "<pandas.io.formats.style.Styler at 0x2a1463f40>"
                                          ]
                                   },
                                   "execution_count": 16,
                                   "metadata": {},
                                   "output_type": "execute_result"
                            }
                     ],
                     "source": [
                            "vm.test_suites.describe_test_suite(\"time_series_model_validation\")"
                     ]
              },
              {
                     "attachments": {},
                     "cell_type": "markdown",
                     "metadata": {},
                     "source": [
                            "#### Explore Test Plans"
                     ]
              },
              {
                     "cell_type": "code",
                     "execution_count": 17,
                     "metadata": {},
                     "outputs": [
                            {
                                   "data": {
                                          "text/html": [
                                                 "<style type=\"text/css\">\n",
                                                 "</style>\n",
                                                 "<table id=\"T_5d3fd\">\n",
                                                 "  <thead>\n",
                                                 "    <tr>\n",
                                                 "      <th id=\"T_5d3fd_level0_col0\" class=\"col_heading level0 col0\" >ID</th>\n",
                                                 "      <th id=\"T_5d3fd_level0_col1\" class=\"col_heading level0 col1\" >Name</th>\n",
                                                 "      <th id=\"T_5d3fd_level0_col2\" class=\"col_heading level0 col2\" >Description</th>\n",
                                                 "      <th id=\"T_5d3fd_level0_col3\" class=\"col_heading level0 col3\" >Required Context</th>\n",
                                                 "      <th id=\"T_5d3fd_level0_col4\" class=\"col_heading level0 col4\" >Tests</th>\n",
                                                 "    </tr>\n",
                                                 "  </thead>\n",
                                                 "  <tbody>\n",
                                                 "    <tr>\n",
                                                 "      <td id=\"T_5d3fd_row0_col0\" class=\"data row0 col0\" >regression_model_description</td>\n",
                                                 "      <td id=\"T_5d3fd_row0_col1\" class=\"data row0 col1\" >RegressionModelDescription</td>\n",
                                                 "      <td id=\"T_5d3fd_row0_col2\" class=\"data row0 col2\" >Test plan for performance metric of regression model of statsmodels library</td>\n",
                                                 "      <td id=\"T_5d3fd_row0_col3\" class=\"data row0 col3\" >model</td>\n",
                                                 "      <td id=\"T_5d3fd_row0_col4\" class=\"data row0 col4\" >DatasetSplit (Metric), ModelMetadata (Metric)</td>\n",
                                                 "    </tr>\n",
                                                 "  </tbody>\n",
                                                 "</table>\n"
                                          ],
                                          "text/plain": [
                                                 "<pandas.io.formats.style.Styler at 0x2a1463df0>"
                                          ]
                                   },
                                   "execution_count": 17,
                                   "metadata": {},
                                   "output_type": "execute_result"
                            }
                     ],
                     "source": [
                            "vm.test_plans.describe_plan(\"regression_model_description\")"
                     ]
              },
              {
                     "cell_type": "code",
                     "execution_count": 18,
                     "metadata": {},
                     "outputs": [
                            {
                                   "data": {
                                          "text/html": [
                                                 "<style type=\"text/css\">\n",
                                                 "</style>\n",
                                                 "<table id=\"T_4354d\">\n",
                                                 "  <thead>\n",
                                                 "    <tr>\n",
                                                 "      <th id=\"T_4354d_level0_col0\" class=\"col_heading level0 col0\" >ID</th>\n",
                                                 "      <th id=\"T_4354d_level0_col1\" class=\"col_heading level0 col1\" >Name</th>\n",
                                                 "      <th id=\"T_4354d_level0_col2\" class=\"col_heading level0 col2\" >Description</th>\n",
                                                 "      <th id=\"T_4354d_level0_col3\" class=\"col_heading level0 col3\" >Required Context</th>\n",
                                                 "      <th id=\"T_4354d_level0_col4\" class=\"col_heading level0 col4\" >Tests</th>\n",
                                                 "    </tr>\n",
                                                 "  </thead>\n",
                                                 "  <tbody>\n",
                                                 "    <tr>\n",
                                                 "      <td id=\"T_4354d_row0_col0\" class=\"data row0 col0\" >regression_models_evaluation</td>\n",
                                                 "      <td id=\"T_4354d_row0_col1\" class=\"data row0 col1\" >RegressionModelsEvaluation</td>\n",
                                                 "      <td id=\"T_4354d_row0_col2\" class=\"data row0 col2\" >Test plan for metrics comparison of regression model of statsmodels library</td>\n",
                                                 "      <td id=\"T_4354d_row0_col3\" class=\"data row0 col3\" >models</td>\n",
                                                 "      <td id=\"T_4354d_row0_col4\" class=\"data row0 col4\" >RegressionModelsCoeffs (Metric), RegressionModelsPerformance (Metric)</td>\n",
                                                 "    </tr>\n",
                                                 "    <tr>\n",
                                                 "      <td id=\"T_4354d_row1_col0\" class=\"data row1 col0\" >regression_models_evaluation</td>\n",
                                                 "      <td id=\"T_4354d_row1_col1\" class=\"data row1 col1\" >RegressionModelsEvaluation</td>\n",
                                                 "      <td id=\"T_4354d_row1_col2\" class=\"data row1 col2\" >Test plan for metrics comparison of regression model of statsmodels library</td>\n",
                                                 "      <td id=\"T_4354d_row1_col3\" class=\"data row1 col3\" >model</td>\n",
                                                 "      <td id=\"T_4354d_row1_col4\" class=\"data row1 col4\" >RegressionModelsCoeffs (Metric), RegressionModelsPerformance (Metric)</td>\n",
                                                 "    </tr>\n",
                                                 "  </tbody>\n",
                                                 "</table>\n"
                                          ],
                                          "text/plain": [
                                                 "<pandas.io.formats.style.Styler at 0x28e4bf280>"
                                          ]
                                   },
                                   "execution_count": 18,
                                   "metadata": {},
                                   "output_type": "execute_result"
                            }
                     ],
                     "source": [
                            "vm.test_plans.describe_plan(\"regression_models_evaluation\")"
                     ]
              },
              {
                     "cell_type": "code",
                     "execution_count": 19,
                     "metadata": {},
                     "outputs": [
                            {
                                   "data": {
                                          "text/html": [
                                                 "<style type=\"text/css\">\n",
                                                 "</style>\n",
                                                 "<table id=\"T_421fa\">\n",
                                                 "  <thead>\n",
                                                 "    <tr>\n",
                                                 "      <th id=\"T_421fa_level0_col0\" class=\"col_heading level0 col0\" >ID</th>\n",
                                                 "      <th id=\"T_421fa_level0_col1\" class=\"col_heading level0 col1\" >Name</th>\n",
                                                 "      <th id=\"T_421fa_level0_col2\" class=\"col_heading level0 col2\" >Description</th>\n",
                                                 "      <th id=\"T_421fa_level0_col3\" class=\"col_heading level0 col3\" >Required Context</th>\n",
                                                 "      <th id=\"T_421fa_level0_col4\" class=\"col_heading level0 col4\" >Tests</th>\n",
                                                 "    </tr>\n",
                                                 "  </thead>\n",
                                                 "  <tbody>\n",
                                                 "    <tr>\n",
                                                 "      <td id=\"T_421fa_row0_col0\" class=\"data row0 col0\" >time_series_forecast</td>\n",
                                                 "      <td id=\"T_421fa_row0_col1\" class=\"data row0 col1\" >TimeSeriesForecast</td>\n",
                                                 "      <td id=\"T_421fa_row0_col2\" class=\"data row0 col2\" >Test plan to perform time series forecast tests.</td>\n",
                                                 "      <td id=\"T_421fa_row0_col3\" class=\"data row0 col3\" >models</td>\n",
                                                 "      <td id=\"T_421fa_row0_col4\" class=\"data row0 col4\" >RegressionModelForecastPlotLevels (Metric)</td>\n",
                                                 "    </tr>\n",
                                                 "  </tbody>\n",
                                                 "</table>\n"
                                          ],
                                          "text/plain": [
                                                 "<pandas.io.formats.style.Styler at 0x2a1463a00>"
                                          ]
                                   },
                                   "execution_count": 19,
                                   "metadata": {},
                                   "output_type": "execute_result"
                            }
                     ],
                     "source": [
                            "vm.test_plans.describe_plan(\"time_series_forecast\")"
                     ]
              },
              {
                     "cell_type": "code",
                     "execution_count": 20,
                     "metadata": {},
                     "outputs": [
                            {
                                   "data": {
                                          "text/html": [
                                                 "<style type=\"text/css\">\n",
                                                 "</style>\n",
                                                 "<table id=\"T_aba31\">\n",
                                                 "  <thead>\n",
                                                 "    <tr>\n",
                                                 "      <th id=\"T_aba31_level0_col0\" class=\"col_heading level0 col0\" >ID</th>\n",
                                                 "      <th id=\"T_aba31_level0_col1\" class=\"col_heading level0 col1\" >Name</th>\n",
                                                 "      <th id=\"T_aba31_level0_col2\" class=\"col_heading level0 col2\" >Description</th>\n",
                                                 "      <th id=\"T_aba31_level0_col3\" class=\"col_heading level0 col3\" >Required Context</th>\n",
                                                 "      <th id=\"T_aba31_level0_col4\" class=\"col_heading level0 col4\" >Tests</th>\n",
                                                 "    </tr>\n",
                                                 "  </thead>\n",
                                                 "  <tbody>\n",
                                                 "    <tr>\n",
                                                 "      <td id=\"T_aba31_row0_col0\" class=\"data row0 col0\" >time_series_sensitivity</td>\n",
                                                 "      <td id=\"T_aba31_row0_col1\" class=\"data row0 col1\" >TimeSeriesSensitivity</td>\n",
                                                 "      <td id=\"T_aba31_row0_col2\" class=\"data row0 col2\" >Test plan to perform time series forecast tests.</td>\n",
                                                 "      <td id=\"T_aba31_row0_col3\" class=\"data row0 col3\" >models</td>\n",
                                                 "      <td id=\"T_aba31_row0_col4\" class=\"data row0 col4\" >RegressionModelSensitivityPlot (Metric)</td>\n",
                                                 "    </tr>\n",
                                                 "  </tbody>\n",
                                                 "</table>\n"
                                          ],
                                          "text/plain": [
                                                 "<pandas.io.formats.style.Styler at 0x2a148d630>"
                                          ]
                                   },
                                   "execution_count": 20,
                                   "metadata": {},
                                   "output_type": "execute_result"
                            }
                     ],
                     "source": [
                            "vm.test_plans.describe_plan(\"time_series_sensitivity\")"
                     ]
              },
              {
                     "cell_type": "markdown",
                     "metadata": {},
                     "source": [
                            "#### Run Model Validation Test Suite on a List of Models"
                     ]
              },
              {
                     "cell_type": "code",
                     "execution_count": 21,
                     "metadata": {},
                     "outputs": [
                            {
                                   "data": {
                                          "application/vnd.jupyter.widget-view+json": {
                                                 "model_id": "b7d9f3203a484c82b37640b26e5e106d",
                                                 "version_major": 2,
                                                 "version_minor": 0
                                          },
                                          "text/plain": [
                                                 "HBox(children=(Label(value='Running test suite...'), IntProgress(value=0, max=12)))"
                                          ]
                                   },
                                   "metadata": {},
                                   "output_type": "display_data"
                            },
                            {
                                   "name": "stdout",
                                   "output_type": "stream",
                                   "text": [
                                          "{'regression_forecast_plot_levels': {'transformation': 'integrate'}, 'transformation': 'integrate', 'shocks': [0.3]}\n",
                                          "regression_sensitivity_plot:0\n",
                                          "regression_sensitivity_plot:1\n"
                                   ]
                            },
                            {
                                   "data": {
                                          "application/vnd.jupyter.widget-view+json": {
                                                 "model_id": "f70cb8174b1442ca8e730739be511dfa",
                                                 "version_major": 2,
                                                 "version_minor": 0
                                          },
                                          "text/plain": [
                                                 "VBox(children=(HTML(value='<h2>Test Suite Results: <i style=\"color: #DE257E\">Time Series Model Validation</i><…"
                                          ]
                                   },
                                   "metadata": {},
                                   "output_type": "display_data"
                            }
                     ],
                     "source": [
                            "config= {\n",
                            "    \"regression_forecast_plot_levels\": {\n",
                            "        \"transformation\": \"integrate\",\n",
                            "    },\n",
                            "    \"regression_sensitivity_plot\": {\n",
                            "        \"transformation\": \"integrate\",\n",
                            "        \"shocks\": [0.3],\n",
                            "    }\n",
                            "}\n",
                            "\n",
                            "full_suite = vm.run_test_suite(\n",
                            "    \"time_series_model_validation\",\n",
                            "    model = vm_model_B,\n",
                            "    models = list_of_models,\n",
                            "    config = config,\n",
                            ")"
                     ]
              }
       ],
       "metadata": {
              "kernelspec": {
                     "display_name": "validmind-eEL8LtKG-py3.10",
                     "language": "python",
                     "name": "python3"
              },
              "language_info": {
                     "codemirror_mode": {
                            "name": "ipython",
                            "version": 3
                     },
                     "file_extension": ".py",
                     "mimetype": "text/x-python",
                     "name": "python",
                     "nbconvert_exporter": "python",
                     "pygments_lexer": "ipython3",
                     "version": "3.10.9"
              },
              "orig_nbformat": 4
       },
       "nbformat": 4,
       "nbformat_minor": 2
}
