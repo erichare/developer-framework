{
       "cells": [
              {
                     "attachments": {},
                     "cell_type": "markdown",
                     "metadata": {},
                     "source": [
                            "# Time Series Model Development Tutorial "
                     ]
              },
              {
                     "attachments": {},
                     "cell_type": "markdown",
                     "metadata": {},
                     "source": [
                            "## Setup ValidMind Platform\n",
                            "Prepare the environment for our analysis. First, **import** all necessary libraries and modules required for our analysis. Next, **connect** to the ValidMind MRM platform, which provides a comprehensive suite of tools and services for model validation.\n",
                            "\n",
                            "Finally, define and **configure** the specific use case we are working on by setting up any required parameters, data sources, or other settings that will be used throughout the analysis."
                     ]
              },
              {
                     "attachments": {},
                     "cell_type": "markdown",
                     "metadata": {},
                     "source": [
                            "### ValidMind Project Information\n",
                            "**Model**: FRED Loan Rates  \n",
                            "**Project Type**: Initial Validation   \n",
                            "**Project ID**: `clhuctiea0000j3y6fkeyk73f`  \n",
                            "**Template**: `time_series_forecasting_v3.yaml` "
                     ]
              },
              {
                     "attachments": {},
                     "cell_type": "markdown",
                     "metadata": {},
                     "source": [
                            "### Import Libraries"
                     ]
              },
              {
                     "cell_type": "code",
                     "execution_count": 1,
                     "metadata": {},
                     "outputs": [],
                     "source": [
                            "# Load API key and secret from environment variables\n",
                            "%load_ext dotenv\n",
                            "%dotenv .env\n",
                            "\n",
                            "# Load ValidMind utils  \n",
                            "from validmind.datasets.regression import (\n",
                            "    identify_frequencies, \n",
                            "    resample_to_common_frequency\n",
                            ")"
                     ]
              },
              {
                     "attachments": {},
                     "cell_type": "markdown",
                     "metadata": {},
                     "source": [
                            "### Connect to ValidMind Project"
                     ]
              },
              {
                     "cell_type": "code",
                     "execution_count": 2,
                     "metadata": {},
                     "outputs": [
                            {
                                   "name": "stdout",
                                   "output_type": "stream",
                                   "text": [
                                          "Connected to ValidMind. Project: [2] FRED Loan Rates Model - Initial Validation (clhuctiea0000j3y6fkeyk73f)\n"
                                   ]
                            }
                     ],
                     "source": [
                            "import validmind as vm\n",
                            "\n",
                            "vm.init(\n",
                            "  api_host = \"http://localhost:3000/api/v1/tracking\",\n",
                            "  api_key = \"...\",\n",
                            "  api_secret = \"...\",\n",
                            "  project = \"...\"\n",
                            ") "
                     ]
              },
              {
                     "attachments": {},
                     "cell_type": "markdown",
                     "metadata": {},
                     "source": [
                            "### Test Plans Availables"
                     ]
              },
              {
                     "cell_type": "code",
                     "execution_count": 3,
                     "metadata": {},
                     "outputs": [
                            {
                                   "data": {
                                          "text/html": [
                                                 "<style type=\"text/css\">\n",
                                                 "</style>\n",
                                                 "<table id=\"T_933bd\">\n",
                                                 "  <thead>\n",
                                                 "    <tr>\n",
                                                 "      <th id=\"T_933bd_level0_col0\" class=\"col_heading level0 col0\" >ID</th>\n",
                                                 "      <th id=\"T_933bd_level0_col1\" class=\"col_heading level0 col1\" >Name</th>\n",
                                                 "      <th id=\"T_933bd_level0_col2\" class=\"col_heading level0 col2\" >Description</th>\n",
                                                 "    </tr>\n",
                                                 "  </thead>\n",
                                                 "  <tbody>\n",
                                                 "    <tr>\n",
                                                 "      <td id=\"T_933bd_row0_col0\" class=\"data row0 col0\" >binary_classifier_metrics</td>\n",
                                                 "      <td id=\"T_933bd_row0_col1\" class=\"data row0 col1\" >BinaryClassifierMetrics</td>\n",
                                                 "      <td id=\"T_933bd_row0_col2\" class=\"data row0 col2\" >Test plan for sklearn classifier metrics</td>\n",
                                                 "    </tr>\n",
                                                 "    <tr>\n",
                                                 "      <td id=\"T_933bd_row1_col0\" class=\"data row1 col0\" >binary_classifier_validation</td>\n",
                                                 "      <td id=\"T_933bd_row1_col1\" class=\"data row1 col1\" >BinaryClassifierPerformance</td>\n",
                                                 "      <td id=\"T_933bd_row1_col2\" class=\"data row1 col2\" >Test plan for sklearn classifier models</td>\n",
                                                 "    </tr>\n",
                                                 "    <tr>\n",
                                                 "      <td id=\"T_933bd_row2_col0\" class=\"data row2 col0\" >binary_classifier_model_diagnosis</td>\n",
                                                 "      <td id=\"T_933bd_row2_col1\" class=\"data row2 col1\" >BinaryClassifierDiagnosis</td>\n",
                                                 "      <td id=\"T_933bd_row2_col2\" class=\"data row2 col2\" >Test plan for sklearn classifier model diagnosis tests</td>\n",
                                                 "    </tr>\n",
                                                 "    <tr>\n",
                                                 "      <td id=\"T_933bd_row3_col0\" class=\"data row3 col0\" >tabular_dataset_description</td>\n",
                                                 "      <td id=\"T_933bd_row3_col1\" class=\"data row3 col1\" >TabularDatasetDescription</td>\n",
                                                 "      <td id=\"T_933bd_row3_col2\" class=\"data row3 col2\" >Test plan to extract metadata and descriptive\n",
                                                 "    statistics from a tabular dataset</td>\n",
                                                 "    </tr>\n",
                                                 "    <tr>\n",
                                                 "      <td id=\"T_933bd_row4_col0\" class=\"data row4 col0\" >tabular_data_quality</td>\n",
                                                 "      <td id=\"T_933bd_row4_col1\" class=\"data row4 col1\" >TabularDataQuality</td>\n",
                                                 "      <td id=\"T_933bd_row4_col2\" class=\"data row4 col2\" >Test plan for data quality on tabular datasets</td>\n",
                                                 "    </tr>\n",
                                                 "    <tr>\n",
                                                 "      <td id=\"T_933bd_row5_col0\" class=\"data row5 col0\" >time_series_data_quality</td>\n",
                                                 "      <td id=\"T_933bd_row5_col1\" class=\"data row5 col1\" >TimeSeriesDataQuality</td>\n",
                                                 "      <td id=\"T_933bd_row5_col2\" class=\"data row5 col2\" >Test plan for data quality on time series datasets</td>\n",
                                                 "    </tr>\n",
                                                 "    <tr>\n",
                                                 "      <td id=\"T_933bd_row6_col0\" class=\"data row6 col0\" >time_series_univariate</td>\n",
                                                 "      <td id=\"T_933bd_row6_col1\" class=\"data row6 col1\" >TimeSeriesUnivariate</td>\n",
                                                 "      <td id=\"T_933bd_row6_col2\" class=\"data row6 col2\" >Test plan to perform time series univariate analysis.</td>\n",
                                                 "    </tr>\n",
                                                 "    <tr>\n",
                                                 "      <td id=\"T_933bd_row7_col0\" class=\"data row7 col0\" >time_series_multivariate</td>\n",
                                                 "      <td id=\"T_933bd_row7_col1\" class=\"data row7 col1\" >TimeSeriesMultivariate</td>\n",
                                                 "      <td id=\"T_933bd_row7_col2\" class=\"data row7 col2\" >Test plan to perform time series multivariate analysis.</td>\n",
                                                 "    </tr>\n",
                                                 "    <tr>\n",
                                                 "      <td id=\"T_933bd_row8_col0\" class=\"data row8 col0\" >time_series_forecast</td>\n",
                                                 "      <td id=\"T_933bd_row8_col1\" class=\"data row8 col1\" >TimeSeriesForecast</td>\n",
                                                 "      <td id=\"T_933bd_row8_col2\" class=\"data row8 col2\" >Test plan to perform time series forecast tests.</td>\n",
                                                 "    </tr>\n",
                                                 "    <tr>\n",
                                                 "      <td id=\"T_933bd_row9_col0\" class=\"data row9 col0\" >time_series_sensitivity</td>\n",
                                                 "      <td id=\"T_933bd_row9_col1\" class=\"data row9 col1\" >TimeSeriesSensitivity</td>\n",
                                                 "      <td id=\"T_933bd_row9_col2\" class=\"data row9 col2\" >Test plan to perform time series forecast tests.</td>\n",
                                                 "    </tr>\n",
                                                 "    <tr>\n",
                                                 "      <td id=\"T_933bd_row10_col0\" class=\"data row10 col0\" >regression_model_description</td>\n",
                                                 "      <td id=\"T_933bd_row10_col1\" class=\"data row10 col1\" >RegressionModelDescription</td>\n",
                                                 "      <td id=\"T_933bd_row10_col2\" class=\"data row10 col2\" >Test plan for performance metric of regression model of statsmodels library</td>\n",
                                                 "    </tr>\n",
                                                 "    <tr>\n",
                                                 "      <td id=\"T_933bd_row11_col0\" class=\"data row11 col0\" >regression_models_evaluation</td>\n",
                                                 "      <td id=\"T_933bd_row11_col1\" class=\"data row11 col1\" >RegressionModelsEvaluation</td>\n",
                                                 "      <td id=\"T_933bd_row11_col2\" class=\"data row11 col2\" >Test plan for metrics comparison of regression model of statsmodels library</td>\n",
                                                 "    </tr>\n",
                                                 "  </tbody>\n",
                                                 "</table>\n"
                                          ],
                                          "text/plain": [
                                                 "<pandas.io.formats.style.Styler at 0x1077c9bd0>"
                                          ]
                                   },
                                   "execution_count": 3,
                                   "metadata": {},
                                   "output_type": "execute_result"
                            }
                     ],
                     "source": [
                            "vm.test_plans.list_plans()"
                     ]
              },
              {
                     "attachments": {},
                     "cell_type": "markdown",
                     "metadata": {},
                     "source": [
                            "## Data Engineering "
                     ]
              },
              {
                     "attachments": {},
                     "cell_type": "markdown",
                     "metadata": {},
                     "source": [
                            "### Data Collection"
                     ]
              },
              {
                     "cell_type": "code",
                     "execution_count": 4,
                     "metadata": {},
                     "outputs": [],
                     "source": [
                            "from validmind.datasets.regression import fred as demo_dataset\n",
                            "\n",
                            "target_column = demo_dataset.target_column\n",
                            "feature_columns = demo_dataset.feature_columns\n",
                            "\n",
                            "# Split the dataset into test and training \n",
                            "df = demo_dataset.load_data()"
                     ]
              },
              {
                     "attachments": {},
                     "cell_type": "markdown",
                     "metadata": {},
                     "source": [
                            "### Connect Datasets to ValidMind Platform"
                     ]
              },
              {
                     "cell_type": "code",
                     "execution_count": 5,
                     "metadata": {},
                     "outputs": [
                            {
                                   "name": "stdout",
                                   "output_type": "stream",
                                   "text": [
                                          "Pandas dataset detected. Initializing VM Dataset instance...\n",
                                          "Inferring dataset types...\n"
                                   ]
                            }
                     ],
                     "source": [
                            "vm_dataset = vm.init_dataset(\n",
                            "    dataset=df,\n",
                            "    target_column=demo_dataset.target_column,\n",
                            ")"
                     ]
              },
              {
                     "attachments": {},
                     "cell_type": "markdown",
                     "metadata": {},
                     "source": [
                            "### Data Description"
                     ]
              },
              {
                     "attachments": {},
                     "cell_type": "markdown",
                     "metadata": {},
                     "source": [
                            "### Data Quality"
                     ]
              },
              {
                     "attachments": {},
                     "cell_type": "markdown",
                     "metadata": {},
                     "source": [
                            "**Run the Time Series Data Quality Test Plan**"
                     ]
              },
              {
                     "cell_type": "code",
                     "execution_count": 6,
                     "metadata": {},
                     "outputs": [
                            {
                                   "data": {
                                          "application/vnd.jupyter.widget-view+json": {
                                                 "model_id": "66bcc36411b9419e831c40be940db7c7",
                                                 "version_major": 2,
                                                 "version_minor": 0
                                          },
                                          "text/plain": [
                                                 "HBox(children=(Label(value='Running test plan...'), IntProgress(value=0, max=6)))"
                                          ]
                                   },
                                   "metadata": {},
                                   "output_type": "display_data"
                            },
                            {
                                   "name": "stderr",
                                   "output_type": "stream",
                                   "text": [
                                          "No artists with labels found to put in legend.  Note that artists whose label start with an underscore are ignored when legend() is called with no argument.\n",
                                          "No artists with labels found to put in legend.  Note that artists whose label start with an underscore are ignored when legend() is called with no argument.\n",
                                          "No artists with labels found to put in legend.  Note that artists whose label start with an underscore are ignored when legend() is called with no argument.\n"
                                   ]
                            },
                            {
                                   "data": {
                                          "application/vnd.jupyter.widget-view+json": {
                                                 "model_id": "75803d3d62034571808b3c6b9a84d1c5",
                                                 "version_major": 2,
                                                 "version_minor": 0
                                          },
                                          "text/plain": [
                                                 "VBox(children=(HTML(value='<h2>Results for <i>Time Series Data Quality</i> Test Plan:</h2><hr>'), HTML(value='…"
                                          ]
                                   },
                                   "metadata": {},
                                   "output_type": "display_data"
                            },
                            {
                                   "data": {
                                          "text/plain": [
                                                 "TimeSeriesDataQuality(test_context=TestContext(dataset=Dataset(raw_dataset=            MORTGAGE30US  FEDFUNDS  GS10  UNRATE\n",
                                                 "DATE                                            \n",
                                                 "1947-01-01           NaN       NaN   NaN     NaN\n",
                                                 "1947-02-01           NaN       NaN   NaN     NaN\n",
                                                 "1947-03-01           NaN       NaN   NaN     NaN\n",
                                                 "1947-04-01           NaN       NaN   NaN     NaN\n",
                                                 "1947-05-01           NaN       NaN   NaN     NaN\n",
                                                 "...                  ...       ...   ...     ...\n",
                                                 "2023-04-01           NaN       NaN  3.46     NaN\n",
                                                 "2023-04-06          6.28       NaN   NaN     NaN\n",
                                                 "2023-04-13          6.27       NaN   NaN     NaN\n",
                                                 "2023-04-20          6.39       NaN   NaN     NaN\n",
                                                 "2023-04-27          6.43       NaN   NaN     NaN\n",
                                                 "\n",
                                                 "[3551 rows x 4 columns], fields=[{'id': 'MORTGAGE30US', 'type': 'Numeric'}, {'id': 'FEDFUNDS', 'type': 'Numeric'}, {'id': 'GS10', 'type': 'Numeric'}, {'id': 'UNRATE', 'type': 'Numeric'}], sample=[{'id': 'head', 'data': [{'MORTGAGE30US': nan, 'FEDFUNDS': nan, 'GS10': nan, 'UNRATE': nan}, {'MORTGAGE30US': nan, 'FEDFUNDS': nan, 'GS10': nan, 'UNRATE': nan}, {'MORTGAGE30US': nan, 'FEDFUNDS': nan, 'GS10': nan, 'UNRATE': nan}, {'MORTGAGE30US': nan, 'FEDFUNDS': nan, 'GS10': nan, 'UNRATE': nan}, {'MORTGAGE30US': nan, 'FEDFUNDS': nan, 'GS10': nan, 'UNRATE': nan}]}, {'id': 'tail', 'data': [{'MORTGAGE30US': nan, 'FEDFUNDS': nan, 'GS10': 3.46, 'UNRATE': nan}, {'MORTGAGE30US': 6.28, 'FEDFUNDS': nan, 'GS10': nan, 'UNRATE': nan}, {'MORTGAGE30US': 6.27, 'FEDFUNDS': nan, 'GS10': nan, 'UNRATE': nan}, {'MORTGAGE30US': 6.39, 'FEDFUNDS': nan, 'GS10': nan, 'UNRATE': nan}, {'MORTGAGE30US': 6.43, 'FEDFUNDS': nan, 'GS10': nan, 'UNRATE': nan}]}], shape={'rows': 3551, 'columns': 4}, correlation_matrix=None, correlations=None, type='training', options=None, statistics=None, targets=None, target_column='MORTGAGE30US', class_labels=None, _feature_lookup={}, _transformed_df=None), model=None, models=None, context_data=None), config={...})"
                                          ]
                                   },
                                   "execution_count": 6,
                                   "metadata": {},
                                   "output_type": "execute_result"
                            }
                     ],
                     "source": [
                            "# TIME SERIES DATA QUALITY PARAMS\n",
                            "config={\n",
                            "    \n",
                            "    \"time_series_outliers\": {\n",
                            "        \"zscore_threshold\": 3,\n",
                            "    },\n",
                            "    \"time_series_missing_values\":{\n",
                            "        \"min_threshold\": 2,\n",
                            "    }\n",
                            "}\n",
                            "\n",
                            "vm.run_test_plan(\"time_series_data_quality\",\n",
                            "                 config=config, \n",
                            "                 dataset=vm_dataset)"
                     ]
              },
              {
                     "attachments": {},
                     "cell_type": "markdown",
                     "metadata": {},
                     "source": [
                            "## Exploratory Data Analysis"
                     ]
              },
              {
                     "attachments": {},
                     "cell_type": "markdown",
                     "metadata": {},
                     "source": [
                            "### Univariate Analysis"
                     ]
              },
              {
                     "attachments": {},
                     "cell_type": "markdown",
                     "metadata": {},
                     "source": [
                            "**Run the Time Series Univariate Test Plan**"
                     ]
              },
              {
                     "cell_type": "code",
                     "execution_count": 7,
                     "metadata": {},
                     "outputs": [
                            {
                                   "data": {
                                          "application/vnd.jupyter.widget-view+json": {
                                                 "model_id": "7b75cf5853774b0bab56db1b9f5f6c8d",
                                                 "version_major": 2,
                                                 "version_minor": 0
                                          },
                                          "text/plain": [
                                                 "HBox(children=(Label(value='Running test plan...'), IntProgress(value=0, max=18)))"
                                          ]
                                   },
                                   "metadata": {},
                                   "output_type": "display_data"
                            },
                            {
                                   "name": "stderr",
                                   "output_type": "stream",
                                   "text": [
                                          "The default method 'yw' can produce PACF values outside of the [-1,1] interval. After 0.13, the default will change tounadjusted Yule-Walker ('ywm'). You can use this method now by setting method='ywm'.\n",
                                          "No frequency could be inferred for variable 'MORTGAGE30US'. Skipping seasonal decomposition and plots for this variable.\n"
                                   ]
                            },
                            {
                                   "name": "stdout",
                                   "output_type": "stream",
                                   "text": [
                                          "Frequency of FEDFUNDS: MS\n",
                                          "Frequency of GS10: MS\n",
                                          "Frequency of UNRATE: MS\n"
                                   ]
                            },
                            {
                                   "name": "stderr",
                                   "output_type": "stream",
                                   "text": [
                                          "No artists with labels found to put in legend.  Note that artists whose label start with an underscore are ignored when legend() is called with no argument.\n",
                                          "No artists with labels found to put in legend.  Note that artists whose label start with an underscore are ignored when legend() is called with no argument.\n",
                                          "No artists with labels found to put in legend.  Note that artists whose label start with an underscore are ignored when legend() is called with no argument.\n",
                                          "No artists with labels found to put in legend.  Note that artists whose label start with an underscore are ignored when legend() is called with no argument.\n",
                                          "A date index has been provided, but it has no associated frequency information and so will be ignored when e.g. forecasting.\n",
                                          "A date index has been provided, but it has no associated frequency information and so will be ignored when e.g. forecasting.\n",
                                          "A date index has been provided, but it has no associated frequency information and so will be ignored when e.g. forecasting.\n",
                                          "A date index has been provided, but it has no associated frequency information and so will be ignored when e.g. forecasting.\n",
                                          "A date index has been provided, but it has no associated frequency information and so will be ignored when e.g. forecasting.\n",
                                          "No frequency information was provided, so inferred frequency MS will be used.\n",
                                          "No frequency information was provided, so inferred frequency MS will be used.\n",
                                          "No frequency information was provided, so inferred frequency MS will be used.\n",
                                          "No frequency information was provided, so inferred frequency MS will be used.\n",
                                          "No frequency information was provided, so inferred frequency MS will be used.\n",
                                          "No frequency information was provided, so inferred frequency MS will be used.\n",
                                          "No frequency information was provided, so inferred frequency MS will be used.\n",
                                          "No frequency information was provided, so inferred frequency MS will be used.\n",
                                          "No frequency information was provided, so inferred frequency MS will be used.\n",
                                          "No frequency information was provided, so inferred frequency MS will be used.\n"
                                   ]
                            },
                            {
                                   "name": "stdout",
                                   "output_type": "stream",
                                   "text": [
                                          "Warning: MORTGAGE30US is not stationary. Results may be inaccurate.\n",
                                          "Warning: GS10 is not stationary. Results may be inaccurate.\n"
                                   ]
                            },
                            {
                                   "name": "stderr",
                                   "output_type": "stream",
                                   "text": [
                                          "No frequency information was provided, so inferred frequency MS will be used.\n",
                                          "No frequency information was provided, so inferred frequency MS will be used.\n",
                                          "No frequency information was provided, so inferred frequency MS will be used.\n",
                                          "No frequency information was provided, so inferred frequency MS will be used.\n",
                                          "No frequency information was provided, so inferred frequency MS will be used.\n",
                                          "A date index has been provided, but it has no associated frequency information and so will be ignored when e.g. forecasting.\n",
                                          "A date index has been provided, but it has no associated frequency information and so will be ignored when e.g. forecasting.\n",
                                          "A date index has been provided, but it has no associated frequency information and so will be ignored when e.g. forecasting.\n"
                                   ]
                            },
                            {
                                   "name": "stdout",
                                   "output_type": "stream",
                                   "text": [
                                          "Warning: MORTGAGE30US is not stationary. Results may be inaccurate.\n"
                                   ]
                            },
                            {
                                   "name": "stderr",
                                   "output_type": "stream",
                                   "text": [
                                          "A date index has been provided, but it has no associated frequency information and so will be ignored when e.g. forecasting.\n",
                                          "A date index has been provided, but it has no associated frequency information and so will be ignored when e.g. forecasting.\n",
                                          "A date index has been provided, but it has no associated frequency information and so will be ignored when e.g. forecasting.\n",
                                          "Non-invertible starting MA parameters found. Using zeros as starting parameters.\n",
                                          "A date index has been provided, but it has no associated frequency information and so will be ignored when e.g. forecasting.\n",
                                          "A date index has been provided, but it has no associated frequency information and so will be ignored when e.g. forecasting.\n",
                                          "A date index has been provided, but it has no associated frequency information and so will be ignored when e.g. forecasting.\n",
                                          "Non-invertible starting MA parameters found. Using zeros as starting parameters.\n",
                                          "A date index has been provided, but it has no associated frequency information and so will be ignored when e.g. forecasting.\n",
                                          "A date index has been provided, but it has no associated frequency information and so will be ignored when e.g. forecasting.\n",
                                          "A date index has been provided, but it has no associated frequency information and so will be ignored when e.g. forecasting.\n",
                                          "Non-invertible starting MA parameters found. Using zeros as starting parameters.\n",
                                          "No frequency information was provided, so inferred frequency MS will be used.\n",
                                          "No frequency information was provided, so inferred frequency MS will be used.\n",
                                          "No frequency information was provided, so inferred frequency MS will be used.\n",
                                          "No frequency information was provided, so inferred frequency MS will be used.\n",
                                          "No frequency information was provided, so inferred frequency MS will be used.\n",
                                          "No frequency information was provided, so inferred frequency MS will be used.\n",
                                          "Non-invertible starting MA parameters found. Using zeros as starting parameters.\n",
                                          "No frequency information was provided, so inferred frequency MS will be used.\n",
                                          "No frequency information was provided, so inferred frequency MS will be used.\n",
                                          "No frequency information was provided, so inferred frequency MS will be used.\n",
                                          "Non-invertible starting MA parameters found. Using zeros as starting parameters.\n",
                                          "No frequency information was provided, so inferred frequency MS will be used.\n",
                                          "No frequency information was provided, so inferred frequency MS will be used.\n",
                                          "No frequency information was provided, so inferred frequency MS will be used.\n",
                                          "Non-invertible starting MA parameters found. Using zeros as starting parameters.\n"
                                   ]
                            },
                            {
                                   "name": "stdout",
                                   "output_type": "stream",
                                   "text": [
                                          "Warning: GS10 is not stationary. Results may be inaccurate.\n"
                                   ]
                            },
                            {
                                   "name": "stderr",
                                   "output_type": "stream",
                                   "text": [
                                          "No frequency information was provided, so inferred frequency MS will be used.\n",
                                          "No frequency information was provided, so inferred frequency MS will be used.\n",
                                          "No frequency information was provided, so inferred frequency MS will be used.\n",
                                          "No frequency information was provided, so inferred frequency MS will be used.\n",
                                          "No frequency information was provided, so inferred frequency MS will be used.\n",
                                          "No frequency information was provided, so inferred frequency MS will be used.\n",
                                          "Non-invertible starting MA parameters found. Using zeros as starting parameters.\n",
                                          "No frequency information was provided, so inferred frequency MS will be used.\n",
                                          "No frequency information was provided, so inferred frequency MS will be used.\n",
                                          "No frequency information was provided, so inferred frequency MS will be used.\n",
                                          "Non-invertible starting MA parameters found. Using zeros as starting parameters.\n",
                                          "No frequency information was provided, so inferred frequency MS will be used.\n",
                                          "No frequency information was provided, so inferred frequency MS will be used.\n",
                                          "No frequency information was provided, so inferred frequency MS will be used.\n",
                                          "Non-invertible starting MA parameters found. Using zeros as starting parameters.\n",
                                          "No frequency information was provided, so inferred frequency MS will be used.\n",
                                          "No frequency information was provided, so inferred frequency MS will be used.\n",
                                          "No frequency information was provided, so inferred frequency MS will be used.\n",
                                          "No frequency information was provided, so inferred frequency MS will be used.\n",
                                          "No frequency information was provided, so inferred frequency MS will be used.\n",
                                          "No frequency information was provided, so inferred frequency MS will be used.\n",
                                          "Non-invertible starting MA parameters found. Using zeros as starting parameters.\n",
                                          "No frequency information was provided, so inferred frequency MS will be used.\n",
                                          "No frequency information was provided, so inferred frequency MS will be used.\n",
                                          "No frequency information was provided, so inferred frequency MS will be used.\n",
                                          "No frequency information was provided, so inferred frequency MS will be used.\n",
                                          "No frequency information was provided, so inferred frequency MS will be used.\n",
                                          "No frequency information was provided, so inferred frequency MS will be used.\n",
                                          "Non-invertible starting MA parameters found. Using zeros as starting parameters.\n"
                                   ]
                            },
                            {
                                   "data": {
                                          "application/vnd.jupyter.widget-view+json": {
                                                 "model_id": "72862007c0e4441faa68e493f8740582",
                                                 "version_major": 2,
                                                 "version_minor": 0
                                          },
                                          "text/plain": [
                                                 "VBox(children=(HTML(value='<h2>Results for <i>Time Series Univariate</i> Test Plan:</h2><hr>'), HTML(value='<d…"
                                          ]
                                   },
                                   "metadata": {},
                                   "output_type": "display_data"
                            },
                            {
                                   "data": {
                                          "text/plain": [
                                                 "TimeSeriesUnivariate(test_context=TestContext(dataset=Dataset(raw_dataset=            MORTGAGE30US  FEDFUNDS  GS10  UNRATE\n",
                                                 "DATE                                            \n",
                                                 "1947-01-01           NaN       NaN   NaN     NaN\n",
                                                 "1947-02-01           NaN       NaN   NaN     NaN\n",
                                                 "1947-03-01           NaN       NaN   NaN     NaN\n",
                                                 "1947-04-01           NaN       NaN   NaN     NaN\n",
                                                 "1947-05-01           NaN       NaN   NaN     NaN\n",
                                                 "...                  ...       ...   ...     ...\n",
                                                 "2023-04-01           NaN       NaN  3.46     NaN\n",
                                                 "2023-04-06          6.28       NaN   NaN     NaN\n",
                                                 "2023-04-13          6.27       NaN   NaN     NaN\n",
                                                 "2023-04-20          6.39       NaN   NaN     NaN\n",
                                                 "2023-04-27          6.43       NaN   NaN     NaN\n",
                                                 "\n",
                                                 "[3551 rows x 4 columns], fields=[{'id': 'MORTGAGE30US', 'type': 'Numeric'}, {'id': 'FEDFUNDS', 'type': 'Numeric'}, {'id': 'GS10', 'type': 'Numeric'}, {'id': 'UNRATE', 'type': 'Numeric'}], sample=[{'id': 'head', 'data': [{'MORTGAGE30US': nan, 'FEDFUNDS': nan, 'GS10': nan, 'UNRATE': nan}, {'MORTGAGE30US': nan, 'FEDFUNDS': nan, 'GS10': nan, 'UNRATE': nan}, {'MORTGAGE30US': nan, 'FEDFUNDS': nan, 'GS10': nan, 'UNRATE': nan}, {'MORTGAGE30US': nan, 'FEDFUNDS': nan, 'GS10': nan, 'UNRATE': nan}, {'MORTGAGE30US': nan, 'FEDFUNDS': nan, 'GS10': nan, 'UNRATE': nan}]}, {'id': 'tail', 'data': [{'MORTGAGE30US': nan, 'FEDFUNDS': nan, 'GS10': 3.46, 'UNRATE': nan}, {'MORTGAGE30US': 6.28, 'FEDFUNDS': nan, 'GS10': nan, 'UNRATE': nan}, {'MORTGAGE30US': 6.27, 'FEDFUNDS': nan, 'GS10': nan, 'UNRATE': nan}, {'MORTGAGE30US': 6.39, 'FEDFUNDS': nan, 'GS10': nan, 'UNRATE': nan}, {'MORTGAGE30US': 6.43, 'FEDFUNDS': nan, 'GS10': nan, 'UNRATE': nan}]}], shape={'rows': 3551, 'columns': 4}, correlation_matrix=None, correlations=None, type='training', options=None, statistics=None, targets=None, target_column='MORTGAGE30US', class_labels=None, _feature_lookup={}, _transformed_df=None), model=None, models=None, context_data={'seasonal_decompose': {'FEDFUNDS': <statsmodels.tsa.seasonal.DecomposeResult object at 0x28ca84eb0>, 'GS10': <statsmodels.tsa.seasonal.DecomposeResult object at 0x28cdb86d0>, 'UNRATE': <statsmodels.tsa.seasonal.DecomposeResult object at 0x28d1ee920>}}), config={...})"
                                          ]
                                   },
                                   "execution_count": 7,
                                   "metadata": {},
                                   "output_type": "execute_result"
                            }
                     ],
                     "source": [
                            "# TIME SERIES UNIVARIATE PARAMS \n",
                            "config={\n",
                            "       \n",
                            "    \"rolling_stats_plot\": {\n",
                            "        \"window_size\": 12    \n",
                            "    },\n",
                            "     \"seasonal_decompose\": {\n",
                            "        \"seasonal_model\": 'additive'\n",
                            "    },\n",
                            "     \"auto_seasonality\": {\n",
                            "        \"min_period\": 1,\n",
                            "        \"max_period\": 3\n",
                            "    },\n",
                            "      \"auto_stationarity\": {\n",
                            "        \"max_order\": 3,\n",
                            "        \"threshold\": 0.05\n",
                            "    },\n",
                            "    \"auto_ar\": {\n",
                            "        \"max_ar_order\": 4\n",
                            "    },\n",
                            "    \"auto_ma\": {\n",
                            "        \"max_ma_order\": 3\n",
                            "    }\n",
                            "}\n",
                            "\n",
                            "vm.run_test_plan(\"time_series_univariate\",\n",
                            "                config=config, \n",
                            "                 dataset=vm_dataset)"
                     ]
              },
              {
                     "attachments": {},
                     "cell_type": "markdown",
                     "metadata": {},
                     "source": [
                            "### Multivariate Analysis"
                     ]
              },
              {
                     "attachments": {},
                     "cell_type": "markdown",
                     "metadata": {},
                     "source": [
                            "**Run the Time Series Univariate Test Plan**"
                     ]
              },
              {
                     "cell_type": "code",
                     "execution_count": 8,
                     "metadata": {},
                     "outputs": [
                            {
                                   "data": {
                                          "application/vnd.jupyter.widget-view+json": {
                                                 "model_id": "ea3b7012b4a440c4b444a1732252769b",
                                                 "version_major": 2,
                                                 "version_minor": 0
                                          },
                                          "text/plain": [
                                                 "HBox(children=(Label(value='Running test plan...'), IntProgress(value=0, max=8)))"
                                          ]
                                   },
                                   "metadata": {},
                                   "output_type": "display_data"
                            },
                            {
                                   "data": {
                                          "application/vnd.jupyter.widget-view+json": {
                                                 "model_id": "a92aa8ea8dab4f29ae9515f5edd7af92",
                                                 "version_major": 2,
                                                 "version_minor": 0
                                          },
                                          "text/plain": [
                                                 "VBox(children=(HTML(value='<h2>Results for <i>Time Series Multivariate</i> Test Plan:</h2><hr>'), HTML(value='…"
                                          ]
                                   },
                                   "metadata": {},
                                   "output_type": "display_data"
                            },
                            {
                                   "data": {
                                          "text/plain": [
                                                 "TimeSeriesMultivariate(test_context=TestContext(dataset=Dataset(raw_dataset=            MORTGAGE30US  FEDFUNDS  GS10  UNRATE\n",
                                                 "DATE                                            \n",
                                                 "1947-01-01           NaN       NaN   NaN     NaN\n",
                                                 "1947-02-01           NaN       NaN   NaN     NaN\n",
                                                 "1947-03-01           NaN       NaN   NaN     NaN\n",
                                                 "1947-04-01           NaN       NaN   NaN     NaN\n",
                                                 "1947-05-01           NaN       NaN   NaN     NaN\n",
                                                 "...                  ...       ...   ...     ...\n",
                                                 "2023-04-01           NaN       NaN  3.46     NaN\n",
                                                 "2023-04-06          6.28       NaN   NaN     NaN\n",
                                                 "2023-04-13          6.27       NaN   NaN     NaN\n",
                                                 "2023-04-20          6.39       NaN   NaN     NaN\n",
                                                 "2023-04-27          6.43       NaN   NaN     NaN\n",
                                                 "\n",
                                                 "[3551 rows x 4 columns], fields=[{'id': 'MORTGAGE30US', 'type': 'Numeric'}, {'id': 'FEDFUNDS', 'type': 'Numeric'}, {'id': 'GS10', 'type': 'Numeric'}, {'id': 'UNRATE', 'type': 'Numeric'}], sample=[{'id': 'head', 'data': [{'MORTGAGE30US': nan, 'FEDFUNDS': nan, 'GS10': nan, 'UNRATE': nan}, {'MORTGAGE30US': nan, 'FEDFUNDS': nan, 'GS10': nan, 'UNRATE': nan}, {'MORTGAGE30US': nan, 'FEDFUNDS': nan, 'GS10': nan, 'UNRATE': nan}, {'MORTGAGE30US': nan, 'FEDFUNDS': nan, 'GS10': nan, 'UNRATE': nan}, {'MORTGAGE30US': nan, 'FEDFUNDS': nan, 'GS10': nan, 'UNRATE': nan}]}, {'id': 'tail', 'data': [{'MORTGAGE30US': nan, 'FEDFUNDS': nan, 'GS10': 3.46, 'UNRATE': nan}, {'MORTGAGE30US': 6.28, 'FEDFUNDS': nan, 'GS10': nan, 'UNRATE': nan}, {'MORTGAGE30US': 6.27, 'FEDFUNDS': nan, 'GS10': nan, 'UNRATE': nan}, {'MORTGAGE30US': 6.39, 'FEDFUNDS': nan, 'GS10': nan, 'UNRATE': nan}, {'MORTGAGE30US': 6.43, 'FEDFUNDS': nan, 'GS10': nan, 'UNRATE': nan}]}], shape={'rows': 3551, 'columns': 4}, correlation_matrix=None, correlations=None, type='training', options=None, statistics=None, targets=None, target_column='MORTGAGE30US', class_labels=None, _feature_lookup={}, _transformed_df=None), model=None, models=None, context_data=None), config={...})"
                                          ]
                                   },
                                   "execution_count": 8,
                                   "metadata": {},
                                   "output_type": "execute_result"
                            }
                     ],
                     "source": [
                            "# TIME SERIES MULTIVARIATE PARAMS \n",
                            "config={\n",
                            "\n",
                            "    \"lagged_correlation_heatmap\": {\n",
                            "        \"target_col\": demo_dataset.target_column,\n",
                            "        \"independent_vars\": demo_dataset.feature_columns\n",
                            "    },\n",
                            "    \"engle_granger_coint\": {\n",
                            "        \"threshold\": 0.05\n",
                            "    },\n",
                            "}\n",
                            "\n",
                            "vm.run_test_plan(\"time_series_multivariate\",\n",
                            "                 config=config, \n",
                            "                 dataset=vm_dataset)"
                     ]
              },
              {
                     "attachments": {},
                     "cell_type": "markdown",
                     "metadata": {},
                     "source": [
                            "## Feature Engineering"
                     ]
              },
              {
                     "attachments": {},
                     "cell_type": "markdown",
                     "metadata": {},
                     "source": [
                            "### Treatment of Frequencies\n",
                            "Show the frequencies of each variable in the raw dataset."
                     ]
              },
              {
                     "cell_type": "code",
                     "execution_count": 9,
                     "metadata": {},
                     "outputs": [
                            {
                                   "data": {
                                          "text/html": [
                                                 "<div>\n",
                                                 "<style scoped>\n",
                                                 "    .dataframe tbody tr th:only-of-type {\n",
                                                 "        vertical-align: middle;\n",
                                                 "    }\n",
                                                 "\n",
                                                 "    .dataframe tbody tr th {\n",
                                                 "        vertical-align: top;\n",
                                                 "    }\n",
                                                 "\n",
                                                 "    .dataframe thead th {\n",
                                                 "        text-align: right;\n",
                                                 "    }\n",
                                                 "</style>\n",
                                                 "<table border=\"1\" class=\"dataframe\">\n",
                                                 "  <thead>\n",
                                                 "    <tr style=\"text-align: right;\">\n",
                                                 "      <th></th>\n",
                                                 "      <th>Variable</th>\n",
                                                 "      <th>Frequency</th>\n",
                                                 "    </tr>\n",
                                                 "  </thead>\n",
                                                 "  <tbody>\n",
                                                 "    <tr>\n",
                                                 "      <th>0</th>\n",
                                                 "      <td>MORTGAGE30US</td>\n",
                                                 "      <td>None</td>\n",
                                                 "    </tr>\n",
                                                 "    <tr>\n",
                                                 "      <th>1</th>\n",
                                                 "      <td>FEDFUNDS</td>\n",
                                                 "      <td>MS</td>\n",
                                                 "    </tr>\n",
                                                 "    <tr>\n",
                                                 "      <th>2</th>\n",
                                                 "      <td>GS10</td>\n",
                                                 "      <td>MS</td>\n",
                                                 "    </tr>\n",
                                                 "    <tr>\n",
                                                 "      <th>3</th>\n",
                                                 "      <td>UNRATE</td>\n",
                                                 "      <td>MS</td>\n",
                                                 "    </tr>\n",
                                                 "  </tbody>\n",
                                                 "</table>\n",
                                                 "</div>"
                                          ],
                                          "text/plain": [
                                                 "       Variable Frequency\n",
                                                 "0  MORTGAGE30US      None\n",
                                                 "1      FEDFUNDS        MS\n",
                                                 "2          GS10        MS\n",
                                                 "3        UNRATE        MS"
                                          ]
                                   },
                                   "metadata": {},
                                   "output_type": "display_data"
                            }
                     ],
                     "source": [
                            "frequencies = identify_frequencies(df)\n",
                            "display(frequencies)"
                     ]
              },
              {
                     "attachments": {},
                     "cell_type": "markdown",
                     "metadata": {},
                     "source": [
                            "Handle frequencies by resampling all variables to a common frequency."
                     ]
              },
              {
                     "cell_type": "code",
                     "execution_count": 10,
                     "metadata": {},
                     "outputs": [
                            {
                                   "data": {
                                          "text/html": [
                                                 "<div>\n",
                                                 "<style scoped>\n",
                                                 "    .dataframe tbody tr th:only-of-type {\n",
                                                 "        vertical-align: middle;\n",
                                                 "    }\n",
                                                 "\n",
                                                 "    .dataframe tbody tr th {\n",
                                                 "        vertical-align: top;\n",
                                                 "    }\n",
                                                 "\n",
                                                 "    .dataframe thead th {\n",
                                                 "        text-align: right;\n",
                                                 "    }\n",
                                                 "</style>\n",
                                                 "<table border=\"1\" class=\"dataframe\">\n",
                                                 "  <thead>\n",
                                                 "    <tr style=\"text-align: right;\">\n",
                                                 "      <th></th>\n",
                                                 "      <th>Variable</th>\n",
                                                 "      <th>Frequency</th>\n",
                                                 "    </tr>\n",
                                                 "  </thead>\n",
                                                 "  <tbody>\n",
                                                 "    <tr>\n",
                                                 "      <th>0</th>\n",
                                                 "      <td>MORTGAGE30US</td>\n",
                                                 "      <td>MS</td>\n",
                                                 "    </tr>\n",
                                                 "    <tr>\n",
                                                 "      <th>1</th>\n",
                                                 "      <td>FEDFUNDS</td>\n",
                                                 "      <td>MS</td>\n",
                                                 "    </tr>\n",
                                                 "    <tr>\n",
                                                 "      <th>2</th>\n",
                                                 "      <td>GS10</td>\n",
                                                 "      <td>MS</td>\n",
                                                 "    </tr>\n",
                                                 "    <tr>\n",
                                                 "      <th>3</th>\n",
                                                 "      <td>UNRATE</td>\n",
                                                 "      <td>MS</td>\n",
                                                 "    </tr>\n",
                                                 "  </tbody>\n",
                                                 "</table>\n",
                                                 "</div>"
                                          ],
                                          "text/plain": [
                                                 "       Variable Frequency\n",
                                                 "0  MORTGAGE30US        MS\n",
                                                 "1      FEDFUNDS        MS\n",
                                                 "2          GS10        MS\n",
                                                 "3        UNRATE        MS"
                                          ]
                                   },
                                   "metadata": {},
                                   "output_type": "display_data"
                            }
                     ],
                     "source": [
                            "preprocessed_df = resample_to_common_frequency(df, common_frequency=demo_dataset.frequency)\n",
                            "frequencies = identify_frequencies(preprocessed_df)\n",
                            "display(frequencies)"
                     ]
              },
              {
                     "attachments": {},
                     "cell_type": "markdown",
                     "metadata": {},
                     "source": [
                            "**Run the Time Series Dataset Test Suite**\n",
                            "\n",
                            "Run the same suite again after handling frequencies. "
                     ]
              },
              {
                     "cell_type": "code",
                     "execution_count": 11,
                     "metadata": {},
                     "outputs": [
                            {
                                   "name": "stdout",
                                   "output_type": "stream",
                                   "text": [
                                          "Pandas dataset detected. Initializing VM Dataset instance...\n",
                                          "Inferring dataset types...\n"
                                   ]
                            },
                            {
                                   "data": {
                                          "application/vnd.jupyter.widget-view+json": {
                                                 "model_id": "ebe2f2f3c91c48ec9a7e345151c1272b",
                                                 "version_major": 2,
                                                 "version_minor": 0
                                          },
                                          "text/plain": [
                                                 "HBox(children=(Label(value='Running test suite...'), IntProgress(value=0, max=32)))"
                                          ]
                                   },
                                   "metadata": {},
                                   "output_type": "display_data"
                            },
                            {
                                   "name": "stderr",
                                   "output_type": "stream",
                                   "text": [
                                          "No artists with labels found to put in legend.  Note that artists whose label start with an underscore are ignored when legend() is called with no argument.\n",
                                          "No artists with labels found to put in legend.  Note that artists whose label start with an underscore are ignored when legend() is called with no argument.\n",
                                          "No artists with labels found to put in legend.  Note that artists whose label start with an underscore are ignored when legend() is called with no argument.\n",
                                          "The default method 'yw' can produce PACF values outside of the [-1,1] interval. After 0.13, the default will change tounadjusted Yule-Walker ('ywm'). You can use this method now by setting method='ywm'.\n"
                                   ]
                            },
                            {
                                   "name": "stdout",
                                   "output_type": "stream",
                                   "text": [
                                          "Frequency of MORTGAGE30US: MS\n",
                                          "Frequency of FEDFUNDS: MS\n",
                                          "Frequency of GS10: MS\n",
                                          "Frequency of UNRATE: MS\n"
                                   ]
                            },
                            {
                                   "name": "stderr",
                                   "output_type": "stream",
                                   "text": [
                                          "No artists with labels found to put in legend.  Note that artists whose label start with an underscore are ignored when legend() is called with no argument.\n",
                                          "No artists with labels found to put in legend.  Note that artists whose label start with an underscore are ignored when legend() is called with no argument.\n",
                                          "No artists with labels found to put in legend.  Note that artists whose label start with an underscore are ignored when legend() is called with no argument.\n",
                                          "No artists with labels found to put in legend.  Note that artists whose label start with an underscore are ignored when legend() is called with no argument.\n",
                                          "Non-invertible starting MA parameters found. Using zeros as starting parameters.\n"
                                   ]
                            },
                            {
                                   "name": "stdout",
                                   "output_type": "stream",
                                   "text": [
                                          "Warning: MORTGAGE30US is not stationary. Results may be inaccurate.\n",
                                          "Warning: GS10 is not stationary. Results may be inaccurate.\n",
                                          "Warning: MORTGAGE30US is not stationary. Results may be inaccurate.\n"
                                   ]
                            },
                            {
                                   "name": "stderr",
                                   "output_type": "stream",
                                   "text": [
                                          "Non-invertible starting MA parameters found. Using zeros as starting parameters.\n",
                                          "Non-invertible starting MA parameters found. Using zeros as starting parameters.\n",
                                          "Non-invertible starting MA parameters found. Using zeros as starting parameters.\n",
                                          "Non-invertible starting MA parameters found. Using zeros as starting parameters.\n",
                                          "Non-invertible starting MA parameters found. Using zeros as starting parameters.\n"
                                   ]
                            },
                            {
                                   "name": "stdout",
                                   "output_type": "stream",
                                   "text": [
                                          "Warning: GS10 is not stationary. Results may be inaccurate.\n"
                                   ]
                            },
                            {
                                   "name": "stderr",
                                   "output_type": "stream",
                                   "text": [
                                          "Non-invertible starting MA parameters found. Using zeros as starting parameters.\n",
                                          "Non-invertible starting MA parameters found. Using zeros as starting parameters.\n",
                                          "Non-invertible starting MA parameters found. Using zeros as starting parameters.\n",
                                          "Non-invertible starting MA parameters found. Using zeros as starting parameters.\n",
                                          "Non-invertible starting MA parameters found. Using zeros as starting parameters.\n"
                                   ]
                            },
                            {
                                   "data": {
                                          "application/vnd.jupyter.widget-view+json": {
                                                 "model_id": "81f59396e6dc4cedb3c4621e5ffe4cb2",
                                                 "version_major": 2,
                                                 "version_minor": 0
                                          },
                                          "text/plain": [
                                                 "VBox(children=(HTML(value='<h2>Test Suite Results: <i style=\"color: #DE257E\">Time Series Dataset</i></h2><hr>'…"
                                          ]
                                   },
                                   "metadata": {},
                                   "output_type": "display_data"
                            }
                     ],
                     "source": [
                            "vm_dataset = vm.init_dataset(\n",
                            "    dataset=preprocessed_df,\n",
                            "    target_column=demo_dataset.target_column,\n",
                            ")\n",
                            "\n",
                            "full_suite = vm.run_test_suite(\n",
                            "    \"time_series_dataset\",\n",
                            "    dataset=vm_dataset,\n",
                            ")"
                     ]
              },
              {
                     "attachments": {},
                     "cell_type": "markdown",
                     "metadata": {},
                     "source": [
                            "### Treatment of Missing Values\n",
                            "Handle the missing values by droping all the `nan` values."
                     ]
              },
              {
                     "cell_type": "code",
                     "execution_count": 12,
                     "metadata": {},
                     "outputs": [],
                     "source": [
                            "preprocessed_df = preprocessed_df.dropna()"
                     ]
              },
              {
                     "attachments": {},
                     "cell_type": "markdown",
                     "metadata": {},
                     "source": [
                            "**Run the Time Series Dataset Test Suite**\n",
                            "\n",
                            "Run the same test suite to check there are no missing values and frequencies of all variables are the same."
                     ]
              },
              {
                     "cell_type": "code",
                     "execution_count": 13,
                     "metadata": {},
                     "outputs": [
                            {
                                   "name": "stdout",
                                   "output_type": "stream",
                                   "text": [
                                          "Pandas dataset detected. Initializing VM Dataset instance...\n",
                                          "Inferring dataset types...\n"
                                   ]
                            },
                            {
                                   "data": {
                                          "application/vnd.jupyter.widget-view+json": {
                                                 "model_id": "fe1ee3bb18df4d2d966fb4ca74e606e5",
                                                 "version_major": 2,
                                                 "version_minor": 0
                                          },
                                          "text/plain": [
                                                 "HBox(children=(Label(value='Running test suite...'), IntProgress(value=0, max=32)))"
                                          ]
                                   },
                                   "metadata": {},
                                   "output_type": "display_data"
                            },
                            {
                                   "name": "stderr",
                                   "output_type": "stream",
                                   "text": [
                                          "No artists with labels found to put in legend.  Note that artists whose label start with an underscore are ignored when legend() is called with no argument.\n",
                                          "No artists with labels found to put in legend.  Note that artists whose label start with an underscore are ignored when legend() is called with no argument.\n",
                                          "No artists with labels found to put in legend.  Note that artists whose label start with an underscore are ignored when legend() is called with no argument.\n",
                                          "The default method 'yw' can produce PACF values outside of the [-1,1] interval. After 0.13, the default will change tounadjusted Yule-Walker ('ywm'). You can use this method now by setting method='ywm'.\n"
                                   ]
                            },
                            {
                                   "name": "stdout",
                                   "output_type": "stream",
                                   "text": [
                                          "Frequency of MORTGAGE30US: MS\n",
                                          "Frequency of FEDFUNDS: MS\n",
                                          "Frequency of GS10: MS\n",
                                          "Frequency of UNRATE: MS\n"
                                   ]
                            },
                            {
                                   "name": "stderr",
                                   "output_type": "stream",
                                   "text": [
                                          "No artists with labels found to put in legend.  Note that artists whose label start with an underscore are ignored when legend() is called with no argument.\n",
                                          "No artists with labels found to put in legend.  Note that artists whose label start with an underscore are ignored when legend() is called with no argument.\n",
                                          "No artists with labels found to put in legend.  Note that artists whose label start with an underscore are ignored when legend() is called with no argument.\n",
                                          "No artists with labels found to put in legend.  Note that artists whose label start with an underscore are ignored when legend() is called with no argument.\n",
                                          "Non-invertible starting MA parameters found. Using zeros as starting parameters.\n"
                                   ]
                            },
                            {
                                   "name": "stdout",
                                   "output_type": "stream",
                                   "text": [
                                          "Warning: MORTGAGE30US is not stationary. Results may be inaccurate.\n",
                                          "Warning: FEDFUNDS is not stationary. Results may be inaccurate.\n",
                                          "Warning: GS10 is not stationary. Results may be inaccurate.\n",
                                          "Warning: MORTGAGE30US is not stationary. Results may be inaccurate.\n"
                                   ]
                            },
                            {
                                   "name": "stderr",
                                   "output_type": "stream",
                                   "text": [
                                          "Non-invertible starting MA parameters found. Using zeros as starting parameters.\n",
                                          "Non-invertible starting MA parameters found. Using zeros as starting parameters.\n"
                                   ]
                            },
                            {
                                   "name": "stdout",
                                   "output_type": "stream",
                                   "text": [
                                          "Warning: FEDFUNDS is not stationary. Results may be inaccurate.\n"
                                   ]
                            },
                            {
                                   "name": "stderr",
                                   "output_type": "stream",
                                   "text": [
                                          "Non-invertible starting MA parameters found. Using zeros as starting parameters.\n",
                                          "Non-invertible starting MA parameters found. Using zeros as starting parameters.\n",
                                          "Non-invertible starting MA parameters found. Using zeros as starting parameters.\n"
                                   ]
                            },
                            {
                                   "name": "stdout",
                                   "output_type": "stream",
                                   "text": [
                                          "Warning: GS10 is not stationary. Results may be inaccurate.\n"
                                   ]
                            },
                            {
                                   "name": "stderr",
                                   "output_type": "stream",
                                   "text": [
                                          "Non-invertible starting MA parameters found. Using zeros as starting parameters.\n",
                                          "Non-invertible starting MA parameters found. Using zeros as starting parameters.\n",
                                          "Non-invertible starting MA parameters found. Using zeros as starting parameters.\n",
                                          "Non-invertible starting MA parameters found. Using zeros as starting parameters.\n",
                                          "Non-invertible starting MA parameters found. Using zeros as starting parameters.\n"
                                   ]
                            },
                            {
                                   "data": {
                                          "application/vnd.jupyter.widget-view+json": {
                                                 "model_id": "5b0abb001390450480c8723f18cf3339",
                                                 "version_major": 2,
                                                 "version_minor": 0
                                          },
                                          "text/plain": [
                                                 "VBox(children=(HTML(value='<h2>Test Suite Results: <i style=\"color: #DE257E\">Time Series Dataset</i></h2><hr>'…"
                                          ]
                                   },
                                   "metadata": {},
                                   "output_type": "display_data"
                            }
                     ],
                     "source": [
                            "vm_dataset = vm.init_dataset(\n",
                            "    dataset=preprocessed_df,\n",
                            "    target_column=demo_dataset.target_column,\n",
                            ")\n",
                            "\n",
                            "full_suite = vm.run_test_suite(\n",
                            "    \"time_series_dataset\",\n",
                            "    dataset=vm_dataset,\n",
                            ")"
                     ]
              },
              {
                     "attachments": {},
                     "cell_type": "markdown",
                     "metadata": {},
                     "source": [
                            "## Model Training"
                     ]
              },
              {
                     "attachments": {},
                     "cell_type": "markdown",
                     "metadata": {},
                     "source": [
                            "### Load Train Data, Test Data and Models"
                     ]
              },
              {
                     "cell_type": "code",
                     "execution_count": 14,
                     "metadata": {},
                     "outputs": [],
                     "source": [
                            "# Currently only fred pre-trained models are available\n",
                            "from validmind.datasets.regression import fred as demo_dataset\n",
                            "model_A, train_df_A, test_df_A = demo_dataset.load_model('fred_loan_rates_model_3')\n",
                            "model_B, train_df_B, test_df_B = demo_dataset.load_model('fred_loan_rates_model_4')"
                     ]
              },
              {
                     "attachments": {},
                     "cell_type": "markdown",
                     "metadata": {},
                     "source": [
                            "### Create ValidMind Datasets"
                     ]
              },
              {
                     "cell_type": "code",
                     "execution_count": 15,
                     "metadata": {},
                     "outputs": [
                            {
                                   "name": "stdout",
                                   "output_type": "stream",
                                   "text": [
                                          "Pandas dataset detected. Initializing VM Dataset instance...\n",
                                          "Inferring dataset types...\n",
                                          "Pandas dataset detected. Initializing VM Dataset instance...\n",
                                          "Inferring dataset types...\n",
                                          "Pandas dataset detected. Initializing VM Dataset instance...\n",
                                          "Inferring dataset types...\n",
                                          "Pandas dataset detected. Initializing VM Dataset instance...\n",
                                          "Inferring dataset types...\n"
                                   ]
                            }
                     ],
                     "source": [
                            "# Initialize training and testing datasets for model A\n",
                            "vm_train_ds_A = vm.init_dataset(dataset=train_df_A, type=\"generic\", target_column=demo_dataset.target_column)\n",
                            "vm_test_ds_A = vm.init_dataset(dataset=test_df_A, type=\"generic\", target_column=demo_dataset.target_column)\n",
                            "\n",
                            "# Initialize training and testing datasets for model B\n",
                            "vm_train_ds_B = vm.init_dataset(dataset=train_df_B, type=\"generic\", target_column=demo_dataset.target_column)\n",
                            "vm_test_ds_B = vm.init_dataset(dataset=test_df_B, type=\"generic\", target_column=demo_dataset.target_column)"
                     ]
              },
              {
                     "attachments": {},
                     "cell_type": "markdown",
                     "metadata": {},
                     "source": [
                            "### Create ValidMind Models"
                     ]
              },
              {
                     "cell_type": "code",
                     "execution_count": 16,
                     "metadata": {},
                     "outputs": [],
                     "source": [
                            "# Initialize model A\n",
                            "vm_model_A = vm.init_model(\n",
                            "    model = model_A, \n",
                            "    train_ds=vm_train_ds_A, \n",
                            "    test_ds=vm_test_ds_A)\n",
                            "\n",
                            "# Initialize model B\n",
                            "vm_model_B = vm.init_model(\n",
                            "    model = model_B,\n",
                            "    train_ds=vm_train_ds_B,\n",
                            "    test_ds=vm_test_ds_B)\n",
                            "\n",
                            "\n",
                            "list_of_models = [vm_model_A, vm_model_B]"
                     ]
              },
              {
                     "attachments": {},
                     "cell_type": "markdown",
                     "metadata": {},
                     "source": [
                            "### Data Split Description"
                     ]
              },
              {
                     "attachments": {},
                     "cell_type": "markdown",
                     "metadata": {},
                     "source": [
                            "**Run the Regression Model Description Test Plan**"
                     ]
              },
              {
                     "cell_type": "code",
                     "execution_count": 17,
                     "metadata": {},
                     "outputs": [
                            {
                                   "data": {
                                          "application/vnd.jupyter.widget-view+json": {
                                                 "model_id": "cca77cb86bb94e23957e11e5e07a8e65",
                                                 "version_major": 2,
                                                 "version_minor": 0
                                          },
                                          "text/plain": [
                                                 "HBox(children=(Label(value='Running test plan...'), IntProgress(value=0, max=4)))"
                                          ]
                                   },
                                   "metadata": {},
                                   "output_type": "display_data"
                            },
                            {
                                   "data": {
                                          "application/vnd.jupyter.widget-view+json": {
                                                 "model_id": "892aae9f7d5a4fd89ecb710c8ac0b5bb",
                                                 "version_major": 2,
                                                 "version_minor": 0
                                          },
                                          "text/plain": [
                                                 "VBox(children=(HTML(value='<h2>Results for <i>Regression Model Description</i> Test Plan:</h2><hr>'), HTML(val…"
                                          ]
                                   },
                                   "metadata": {},
                                   "output_type": "display_data"
                            }
                     ],
                     "source": [
                            "test_plan = vm.run_test_plan(\n",
                            "    \"regression_model_description\",\n",
                            "    model = vm_model_B,\n",
                            "    models = list_of_models\n",
                            ")"
                     ]
              },
              {
                     "attachments": {},
                     "cell_type": "markdown",
                     "metadata": {},
                     "source": [
                            "### Train and Test Data Validation"
                     ]
              },
              {
                     "attachments": {},
                     "cell_type": "markdown",
                     "metadata": {},
                     "source": [
                            "**Run the Time Series Dataset Test Suite**"
                     ]
              },
              {
                     "cell_type": "code",
                     "execution_count": 18,
                     "metadata": {},
                     "outputs": [
                            {
                                   "name": "stdout",
                                   "output_type": "stream",
                                   "text": [
                                          "Pandas dataset detected. Initializing VM Dataset instance...\n",
                                          "Inferring dataset types...\n"
                                   ]
                            },
                            {
                                   "data": {
                                          "application/vnd.jupyter.widget-view+json": {
                                                 "model_id": "4d2ee4039707458c8aa33ea3f4c8e534",
                                                 "version_major": 2,
                                                 "version_minor": 0
                                          },
                                          "text/plain": [
                                                 "HBox(children=(Label(value='Running test suite...'), IntProgress(value=0, max=32)))"
                                          ]
                                   },
                                   "metadata": {},
                                   "output_type": "display_data"
                            },
                            {
                                   "name": "stderr",
                                   "output_type": "stream",
                                   "text": [
                                          "No artists with labels found to put in legend.  Note that artists whose label start with an underscore are ignored when legend() is called with no argument.\n",
                                          "No artists with labels found to put in legend.  Note that artists whose label start with an underscore are ignored when legend() is called with no argument.\n",
                                          "The default method 'yw' can produce PACF values outside of the [-1,1] interval. After 0.13, the default will change tounadjusted Yule-Walker ('ywm'). You can use this method now by setting method='ywm'.\n"
                                   ]
                            },
                            {
                                   "name": "stdout",
                                   "output_type": "stream",
                                   "text": [
                                          "Frequency of MORTGAGE30US: MS\n",
                                          "Frequency of GS10: MS\n",
                                          "Frequency of FEDFUNDS: MS\n"
                                   ]
                            },
                            {
                                   "name": "stderr",
                                   "output_type": "stream",
                                   "text": [
                                          "No artists with labels found to put in legend.  Note that artists whose label start with an underscore are ignored when legend() is called with no argument.\n",
                                          "No artists with labels found to put in legend.  Note that artists whose label start with an underscore are ignored when legend() is called with no argument.\n",
                                          "No artists with labels found to put in legend.  Note that artists whose label start with an underscore are ignored when legend() is called with no argument.\n",
                                          "No frequency information was provided, so inferred frequency MS will be used.\n",
                                          "No frequency information was provided, so inferred frequency MS will be used.\n",
                                          "No frequency information was provided, so inferred frequency MS will be used.\n",
                                          "No frequency information was provided, so inferred frequency MS will be used.\n",
                                          "No frequency information was provided, so inferred frequency MS will be used.\n",
                                          "No frequency information was provided, so inferred frequency MS will be used.\n",
                                          "No frequency information was provided, so inferred frequency MS will be used.\n",
                                          "No frequency information was provided, so inferred frequency MS will be used.\n",
                                          "No frequency information was provided, so inferred frequency MS will be used.\n",
                                          "No frequency information was provided, so inferred frequency MS will be used.\n",
                                          "No frequency information was provided, so inferred frequency MS will be used.\n",
                                          "No frequency information was provided, so inferred frequency MS will be used.\n",
                                          "No frequency information was provided, so inferred frequency MS will be used.\n",
                                          "No frequency information was provided, so inferred frequency MS will be used.\n",
                                          "No frequency information was provided, so inferred frequency MS will be used.\n",
                                          "No frequency information was provided, so inferred frequency MS will be used.\n",
                                          "No frequency information was provided, so inferred frequency MS will be used.\n",
                                          "No frequency information was provided, so inferred frequency MS will be used.\n",
                                          "No frequency information was provided, so inferred frequency MS will be used.\n",
                                          "No frequency information was provided, so inferred frequency MS will be used.\n",
                                          "No frequency information was provided, so inferred frequency MS will be used.\n",
                                          "No frequency information was provided, so inferred frequency MS will be used.\n",
                                          "No frequency information was provided, so inferred frequency MS will be used.\n",
                                          "No frequency information was provided, so inferred frequency MS will be used.\n",
                                          "No frequency information was provided, so inferred frequency MS will be used.\n",
                                          "No frequency information was provided, so inferred frequency MS will be used.\n",
                                          "No frequency information was provided, so inferred frequency MS will be used.\n",
                                          "No frequency information was provided, so inferred frequency MS will be used.\n",
                                          "No frequency information was provided, so inferred frequency MS will be used.\n",
                                          "No frequency information was provided, so inferred frequency MS will be used.\n",
                                          "No frequency information was provided, so inferred frequency MS will be used.\n",
                                          "No frequency information was provided, so inferred frequency MS will be used.\n",
                                          "No frequency information was provided, so inferred frequency MS will be used.\n",
                                          "No frequency information was provided, so inferred frequency MS will be used.\n",
                                          "No frequency information was provided, so inferred frequency MS will be used.\n",
                                          "No frequency information was provided, so inferred frequency MS will be used.\n",
                                          "No frequency information was provided, so inferred frequency MS will be used.\n",
                                          "No frequency information was provided, so inferred frequency MS will be used.\n",
                                          "No frequency information was provided, so inferred frequency MS will be used.\n",
                                          "No frequency information was provided, so inferred frequency MS will be used.\n",
                                          "No frequency information was provided, so inferred frequency MS will be used.\n",
                                          "No frequency information was provided, so inferred frequency MS will be used.\n",
                                          "No frequency information was provided, so inferred frequency MS will be used.\n",
                                          "No frequency information was provided, so inferred frequency MS will be used.\n",
                                          "No frequency information was provided, so inferred frequency MS will be used.\n",
                                          "No frequency information was provided, so inferred frequency MS will be used.\n",
                                          "No frequency information was provided, so inferred frequency MS will be used.\n",
                                          "No frequency information was provided, so inferred frequency MS will be used.\n",
                                          "Maximum Likelihood optimization failed to converge. Check mle_retvals\n"
                                   ]
                            },
                            {
                                   "data": {
                                          "application/vnd.jupyter.widget-view+json": {
                                                 "model_id": "abeb87c6f9c34999b4966e666fb673db",
                                                 "version_major": 2,
                                                 "version_minor": 0
                                          },
                                          "text/plain": [
                                                 "VBox(children=(HTML(value='<h2>Test Suite Results: <i style=\"color: #DE257E\">Time Series Dataset</i></h2><hr>'…"
                                          ]
                                   },
                                   "metadata": {},
                                   "output_type": "display_data"
                            }
                     ],
                     "source": [
                            "vm_dataset = vm.init_dataset(\n",
                            "    dataset=test_df_B,\n",
                            "    target_column=demo_dataset.target_column,\n",
                            ")\n",
                            "\n",
                            "full_suite = vm.run_test_suite(\n",
                            "    \"time_series_dataset\",\n",
                            "    dataset=vm_dataset,\n",
                            ")"
                     ]
              },
              {
                     "attachments": {},
                     "cell_type": "markdown",
                     "metadata": {},
                     "source": [
                            "## Model Testing"
                     ]
              },
              {
                     "attachments": {},
                     "cell_type": "markdown",
                     "metadata": {},
                     "source": [
                            "### Performance"
                     ]
              },
              {
                     "attachments": {},
                     "cell_type": "markdown",
                     "metadata": {},
                     "source": [
                            "**Run the Regression Model Evaluation Test Plan**"
                     ]
              },
              {
                     "cell_type": "code",
                     "execution_count": 19,
                     "metadata": {},
                     "outputs": [
                            {
                                   "data": {
                                          "application/vnd.jupyter.widget-view+json": {
                                                 "model_id": "d6f2beab1a3948958a6a386b6f48c428",
                                                 "version_major": 2,
                                                 "version_minor": 0
                                          },
                                          "text/plain": [
                                                 "HBox(children=(Label(value='Running test plan...'), IntProgress(value=0, max=4)))"
                                          ]
                                   },
                                   "metadata": {},
                                   "output_type": "display_data"
                            },
                            {
                                   "data": {
                                          "application/vnd.jupyter.widget-view+json": {
                                                 "model_id": "8ef5d4bf5b5346ad8f58bfb8d1b054c2",
                                                 "version_major": 2,
                                                 "version_minor": 0
                                          },
                                          "text/plain": [
                                                 "VBox(children=(HTML(value='<h2>Results for <i>Regression Models Evaluation</i> Test Plan:</h2><hr>'), HTML(val…"
                                          ]
                                   },
                                   "metadata": {},
                                   "output_type": "display_data"
                            }
                     ],
                     "source": [
                            "test_plan = vm.run_test_plan(\n",
                            "    \"regression_models_evaluation\",\n",
                            "    model = model_B,\n",
                            "    models = list_of_models\n",
                            ")"
                     ]
              },
              {
                     "attachments": {},
                     "cell_type": "markdown",
                     "metadata": {},
                     "source": [
                            "### Forecasting"
                     ]
              },
              {
                     "attachments": {},
                     "cell_type": "markdown",
                     "metadata": {},
                     "source": [
                            "**Run the Time Series Forecast Test Plan**"
                     ]
              },
              {
                     "cell_type": "code",
                     "execution_count": 20,
                     "metadata": {},
                     "outputs": [
                            {
                                   "data": {
                                          "application/vnd.jupyter.widget-view+json": {
                                                 "model_id": "554dafd8880e42d596cf8ae0302f43f6",
                                                 "version_major": 2,
                                                 "version_minor": 0
                                          },
                                          "text/plain": [
                                                 "HBox(children=(Label(value='Running test plan...'), IntProgress(value=0, max=2)))"
                                          ]
                                   },
                                   "metadata": {},
                                   "output_type": "display_data"
                            },
                            {
                                   "data": {
                                          "application/vnd.jupyter.widget-view+json": {
                                                 "model_id": "fa2598f5a76846cc96fae9b2d7005729",
                                                 "version_major": 2,
                                                 "version_minor": 0
                                          },
                                          "text/plain": [
                                                 "VBox(children=(HTML(value='<h2>Results for <i>Time Series Forecast</i> Test Plan:</h2><hr>'), HTML(value='<div…"
                                          ]
                                   },
                                   "metadata": {},
                                   "output_type": "display_data"
                            }
                     ],
                     "source": [
                            "config= {\n",
                            "    \"regression_forecast_plot_levels\": {\n",
                            "        \"transformation\": \"integrate\",\n",
                            "    }\n",
                            "}\n",
                            "\n",
                            "test_plan = vm.run_test_plan(\n",
                            "    \"time_series_forecast\",\n",
                            "    models = list_of_models,\n",
                            "    config = config\n",
                            ")"
                     ]
              },
              {
                     "attachments": {},
                     "cell_type": "markdown",
                     "metadata": {},
                     "source": [
                            "### Sensitivity Analysis "
                     ]
              },
              {
                     "cell_type": "code",
                     "execution_count": 21,
                     "metadata": {},
                     "outputs": [
                            {
                                   "data": {
                                          "application/vnd.jupyter.widget-view+json": {
                                                 "model_id": "a3bea8caeeae4c20b4663075c7a9c7aa",
                                                 "version_major": 2,
                                                 "version_minor": 0
                                          },
                                          "text/plain": [
                                                 "HBox(children=(Label(value='Running test plan...'), IntProgress(value=0, max=2)))"
                                          ]
                                   },
                                   "metadata": {},
                                   "output_type": "display_data"
                            },
                            {
                                   "name": "stdout",
                                   "output_type": "stream",
                                   "text": [
                                          "{'transformation': 'integrate', 'shocks': [0.1, 0.2]}\n",
                                          "regression_sensitivity_plot:0\n",
                                          "regression_sensitivity_plot:1\n"
                                   ]
                            },
                            {
                                   "data": {
                                          "application/vnd.jupyter.widget-view+json": {
                                                 "model_id": "de6bd09646534d189bf632dff3f7bec9",
                                                 "version_major": 2,
                                                 "version_minor": 0
                                          },
                                          "text/plain": [
                                                 "VBox(children=(HTML(value='<h2>Results for <i>Time Series Sensitivity</i> Test Plan:</h2><hr>'), HTML(value='<…"
                                          ]
                                   },
                                   "metadata": {},
                                   "output_type": "display_data"
                            }
                     ],
                     "source": [
                            "config= {\n",
                            "    \"regression_sensitivity_plot\": {\n",
                            "        \"transformation\": \"integrate\",\n",
                            "        \"shocks\": [0.1, 0.2],\n",
                            "    }\n",
                            "}\n",
                            "\n",
                            "test_plan = vm.run_test_plan(\n",
                            "    \"time_series_sensitivity\",\n",
                            "    models = list_of_models,\n",
                            "    config = config\n",
                            ")"
                     ]
              }
       ],
       "metadata": {
              "kernelspec": {
                     "display_name": "validmind-eEL8LtKG-py3.10",
                     "language": "python",
                     "name": "python3"
              },
              "language_info": {
                     "codemirror_mode": {
                            "name": "ipython",
                            "version": 3
                     },
                     "file_extension": ".py",
                     "mimetype": "text/x-python",
                     "name": "python",
                     "nbconvert_exporter": "python",
                     "pygments_lexer": "ipython3",
                     "version": "3.10.9"
              },
              "orig_nbformat": 4
       },
       "nbformat": 4,
       "nbformat_minor": 2
}
