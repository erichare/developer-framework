{
 "cells": [
  {
   "attachments": {},
   "cell_type": "markdown",
   "metadata": {},
   "source": [
    "# Time Series Model Validation Demo"
   ]
  },
  {
   "attachments": {},
   "cell_type": "markdown",
   "metadata": {},
   "source": [
    "## Import Libraries "
   ]
  },
  {
   "cell_type": "code",
   "execution_count": 1,
   "metadata": {},
   "outputs": [],
   "source": [
    "# Load API key and secret from environment variables\n",
    "from dotenv import load_dotenv\n",
    "load_dotenv()\n",
    "\n",
    "# System libraries\n",
    "import glob\n",
    "import os\n",
    "import pickle\n",
    "\n",
    "# ML libraries\n",
    "import pandas as pd\n",
    "\n",
    "# ValidMind libraries \n",
    "import validmind as vm"
   ]
  },
  {
   "attachments": {},
   "cell_type": "markdown",
   "metadata": {},
   "source": [
    "## Load Time Series Models"
   ]
  },
  {
   "cell_type": "code",
   "execution_count": 2,
   "metadata": {},
   "outputs": [],
   "source": [
    "models_folder = '../models/time_series/'\n",
    "model_files = os.listdir(models_folder)\n",
    "\n",
    "models = {}\n",
    "\n",
    "for model_file in model_files:\n",
    "    if model_file.endswith('.pkl'):\n",
    "        model_name = os.path.splitext(model_file)[0]\n",
    "        with open(os.path.join(models_folder, model_file), 'rb') as f:\n",
    "            models[model_name] = pickle.load(f)"
   ]
  },
  {
   "attachments": {},
   "cell_type": "markdown",
   "metadata": {},
   "source": [
    "## Load Training Datasets"
   ]
  },
  {
   "attachments": {},
   "cell_type": "markdown",
   "metadata": {},
   "source": [
    "Get the training dataset from one of the models."
   ]
  },
  {
   "cell_type": "code",
   "execution_count": 3,
   "metadata": {},
   "outputs": [],
   "source": [
    "model_fit = models['fred_loan_rates_model_1']"
   ]
  },
  {
   "cell_type": "code",
   "execution_count": 4,
   "metadata": {},
   "outputs": [
    {
     "data": {
      "text/html": [
       "<div>\n",
       "<style scoped>\n",
       "    .dataframe tbody tr th:only-of-type {\n",
       "        vertical-align: middle;\n",
       "    }\n",
       "\n",
       "    .dataframe tbody tr th {\n",
       "        vertical-align: top;\n",
       "    }\n",
       "\n",
       "    .dataframe thead th {\n",
       "        text-align: right;\n",
       "    }\n",
       "</style>\n",
       "<table border=\"1\" class=\"dataframe\">\n",
       "  <thead>\n",
       "    <tr style=\"text-align: right;\">\n",
       "      <th></th>\n",
       "      <th>MORTGAGE30US</th>\n",
       "      <th>FEDFUNDS</th>\n",
       "    </tr>\n",
       "    <tr>\n",
       "      <th>DATE</th>\n",
       "      <th></th>\n",
       "      <th></th>\n",
       "    </tr>\n",
       "  </thead>\n",
       "  <tbody>\n",
       "    <tr>\n",
       "      <th>1971-05-01</th>\n",
       "      <td>0.17</td>\n",
       "      <td>0.47</td>\n",
       "    </tr>\n",
       "    <tr>\n",
       "      <th>1971-06-01</th>\n",
       "      <td>0.08</td>\n",
       "      <td>0.28</td>\n",
       "    </tr>\n",
       "    <tr>\n",
       "      <th>1971-07-01</th>\n",
       "      <td>0.15</td>\n",
       "      <td>0.40</td>\n",
       "    </tr>\n",
       "    <tr>\n",
       "      <th>1971-08-01</th>\n",
       "      <td>0.00</td>\n",
       "      <td>0.26</td>\n",
       "    </tr>\n",
       "    <tr>\n",
       "      <th>1971-09-01</th>\n",
       "      <td>-0.02</td>\n",
       "      <td>-0.02</td>\n",
       "    </tr>\n",
       "  </tbody>\n",
       "</table>\n",
       "</div>"
      ],
      "text/plain": [
       "            MORTGAGE30US  FEDFUNDS\n",
       "DATE                              \n",
       "1971-05-01          0.17      0.47\n",
       "1971-06-01          0.08      0.28\n",
       "1971-07-01          0.15      0.40\n",
       "1971-08-01          0.00      0.26\n",
       "1971-09-01         -0.02     -0.02"
      ]
     },
     "execution_count": 4,
     "metadata": {},
     "output_type": "execute_result"
    }
   ],
   "source": [
    "# Extract the endogenous (target) variable from the model fit\n",
    "train_df = pd.Series(model_fit.model.endog, index=model_fit.model.data.row_labels)\n",
    "train_df = train_df.to_frame()\n",
    "target_var_name = model_fit.model.endog_names\n",
    "train_df.columns = [target_var_name]\n",
    "\n",
    "# Extract the exogenous (explanatory) variables from the model fit\n",
    "exog_df = pd.DataFrame(model_fit.model.exog, index=model_fit.model.data.row_labels, columns=model_fit.model.exog_names)\n",
    "\n",
    "# Concatenate the endogenous (target) and exogenous (explanatory) variables\n",
    "train_df = pd.concat([train_df, exog_df], axis=1)\n",
    "train_df.head()"
   ]
  },
  {
   "cell_type": "code",
   "execution_count": 5,
   "metadata": {},
   "outputs": [
    {
     "data": {
      "text/html": [
       "<div>\n",
       "<style scoped>\n",
       "    .dataframe tbody tr th:only-of-type {\n",
       "        vertical-align: middle;\n",
       "    }\n",
       "\n",
       "    .dataframe tbody tr th {\n",
       "        vertical-align: top;\n",
       "    }\n",
       "\n",
       "    .dataframe thead th {\n",
       "        text-align: right;\n",
       "    }\n",
       "</style>\n",
       "<table border=\"1\" class=\"dataframe\">\n",
       "  <thead>\n",
       "    <tr style=\"text-align: right;\">\n",
       "      <th></th>\n",
       "      <th>MORTGAGE30US</th>\n",
       "      <th>FEDFUNDS</th>\n",
       "    </tr>\n",
       "    <tr>\n",
       "      <th>DATE</th>\n",
       "      <th></th>\n",
       "      <th></th>\n",
       "    </tr>\n",
       "  </thead>\n",
       "  <tbody>\n",
       "    <tr>\n",
       "      <th>2012-06-01</th>\n",
       "      <td>-0.09</td>\n",
       "      <td>0.00</td>\n",
       "    </tr>\n",
       "    <tr>\n",
       "      <th>2012-07-01</th>\n",
       "      <td>-0.17</td>\n",
       "      <td>0.00</td>\n",
       "    </tr>\n",
       "    <tr>\n",
       "      <th>2012-08-01</th>\n",
       "      <td>0.10</td>\n",
       "      <td>-0.03</td>\n",
       "    </tr>\n",
       "    <tr>\n",
       "      <th>2012-09-01</th>\n",
       "      <td>-0.19</td>\n",
       "      <td>0.01</td>\n",
       "    </tr>\n",
       "    <tr>\n",
       "      <th>2012-10-01</th>\n",
       "      <td>0.01</td>\n",
       "      <td>0.02</td>\n",
       "    </tr>\n",
       "  </tbody>\n",
       "</table>\n",
       "</div>"
      ],
      "text/plain": [
       "            MORTGAGE30US  FEDFUNDS\n",
       "DATE                              \n",
       "2012-06-01         -0.09      0.00\n",
       "2012-07-01         -0.17      0.00\n",
       "2012-08-01          0.10     -0.03\n",
       "2012-09-01         -0.19      0.01\n",
       "2012-10-01          0.01      0.02"
      ]
     },
     "execution_count": 5,
     "metadata": {},
     "output_type": "execute_result"
    }
   ],
   "source": [
    "train_df.tail()"
   ]
  },
  {
   "attachments": {},
   "cell_type": "markdown",
   "metadata": {},
   "source": [
    "## Load Test Datasets"
   ]
  },
  {
   "attachments": {},
   "cell_type": "markdown",
   "metadata": {},
   "source": [
    "Load raw test dataset."
   ]
  },
  {
   "cell_type": "code",
   "execution_count": 6,
   "metadata": {},
   "outputs": [
    {
     "data": {
      "text/html": [
       "<div>\n",
       "<style scoped>\n",
       "    .dataframe tbody tr th:only-of-type {\n",
       "        vertical-align: middle;\n",
       "    }\n",
       "\n",
       "    .dataframe tbody tr th {\n",
       "        vertical-align: top;\n",
       "    }\n",
       "\n",
       "    .dataframe thead th {\n",
       "        text-align: right;\n",
       "    }\n",
       "</style>\n",
       "<table border=\"1\" class=\"dataframe\">\n",
       "  <thead>\n",
       "    <tr style=\"text-align: right;\">\n",
       "      <th></th>\n",
       "      <th>MORTGAGE30US</th>\n",
       "      <th>UNRATE</th>\n",
       "      <th>GS10</th>\n",
       "      <th>FEDFUNDS</th>\n",
       "    </tr>\n",
       "    <tr>\n",
       "      <th>DATE</th>\n",
       "      <th></th>\n",
       "      <th></th>\n",
       "      <th></th>\n",
       "      <th></th>\n",
       "    </tr>\n",
       "  </thead>\n",
       "  <tbody>\n",
       "    <tr>\n",
       "      <th>2012-11-01</th>\n",
       "      <td>3.32</td>\n",
       "      <td>7.7</td>\n",
       "      <td>1.65</td>\n",
       "      <td>0.16</td>\n",
       "    </tr>\n",
       "    <tr>\n",
       "      <th>2012-12-01</th>\n",
       "      <td>3.35</td>\n",
       "      <td>7.9</td>\n",
       "      <td>1.72</td>\n",
       "      <td>0.16</td>\n",
       "    </tr>\n",
       "    <tr>\n",
       "      <th>2013-01-01</th>\n",
       "      <td>3.53</td>\n",
       "      <td>8.0</td>\n",
       "      <td>1.91</td>\n",
       "      <td>0.14</td>\n",
       "    </tr>\n",
       "    <tr>\n",
       "      <th>2013-02-01</th>\n",
       "      <td>3.51</td>\n",
       "      <td>7.7</td>\n",
       "      <td>1.98</td>\n",
       "      <td>0.15</td>\n",
       "    </tr>\n",
       "    <tr>\n",
       "      <th>2013-03-01</th>\n",
       "      <td>3.57</td>\n",
       "      <td>7.5</td>\n",
       "      <td>1.96</td>\n",
       "      <td>0.14</td>\n",
       "    </tr>\n",
       "    <tr>\n",
       "      <th>...</th>\n",
       "      <td>...</td>\n",
       "      <td>...</td>\n",
       "      <td>...</td>\n",
       "      <td>...</td>\n",
       "    </tr>\n",
       "    <tr>\n",
       "      <th>2022-11-01</th>\n",
       "      <td>6.58</td>\n",
       "      <td>3.6</td>\n",
       "      <td>3.89</td>\n",
       "      <td>3.78</td>\n",
       "    </tr>\n",
       "    <tr>\n",
       "      <th>2022-12-01</th>\n",
       "      <td>6.42</td>\n",
       "      <td>3.5</td>\n",
       "      <td>3.62</td>\n",
       "      <td>4.10</td>\n",
       "    </tr>\n",
       "    <tr>\n",
       "      <th>2023-01-01</th>\n",
       "      <td>6.13</td>\n",
       "      <td>3.4</td>\n",
       "      <td>3.53</td>\n",
       "      <td>4.33</td>\n",
       "    </tr>\n",
       "    <tr>\n",
       "      <th>2023-02-01</th>\n",
       "      <td>6.50</td>\n",
       "      <td>3.6</td>\n",
       "      <td>3.75</td>\n",
       "      <td>4.57</td>\n",
       "    </tr>\n",
       "    <tr>\n",
       "      <th>2023-03-01</th>\n",
       "      <td>6.32</td>\n",
       "      <td>3.5</td>\n",
       "      <td>3.66</td>\n",
       "      <td>4.65</td>\n",
       "    </tr>\n",
       "  </tbody>\n",
       "</table>\n",
       "<p>125 rows × 4 columns</p>\n",
       "</div>"
      ],
      "text/plain": [
       "            MORTGAGE30US  UNRATE  GS10  FEDFUNDS\n",
       "DATE                                            \n",
       "2012-11-01          3.32     7.7  1.65      0.16\n",
       "2012-12-01          3.35     7.9  1.72      0.16\n",
       "2013-01-01          3.53     8.0  1.91      0.14\n",
       "2013-02-01          3.51     7.7  1.98      0.15\n",
       "2013-03-01          3.57     7.5  1.96      0.14\n",
       "...                  ...     ...   ...       ...\n",
       "2022-11-01          6.58     3.6  3.89      3.78\n",
       "2022-12-01          6.42     3.5  3.62      4.10\n",
       "2023-01-01          6.13     3.4  3.53      4.33\n",
       "2023-02-01          6.50     3.6  3.75      4.57\n",
       "2023-03-01          6.32     3.5  3.66      4.65\n",
       "\n",
       "[125 rows x 4 columns]"
      ]
     },
     "metadata": {},
     "output_type": "display_data"
    }
   ],
   "source": [
    "file = '../datasets/time_series/fred_loan_rates_test_1.csv'\n",
    "raw_test_df = pd.read_csv(file, parse_dates=['DATE'], index_col='DATE')\n",
    "display(raw_test_df)"
   ]
  },
  {
   "attachments": {},
   "cell_type": "markdown",
   "metadata": {},
   "source": [
    "Transform raw test dataset using same transformation used in the train dataset. "
   ]
  },
  {
   "cell_type": "code",
   "execution_count": 7,
   "metadata": {},
   "outputs": [],
   "source": [
    "transform_func = 'diff'\n",
    "if transform_func == 'diff':\n",
    "    test_df = raw_test_df.diff().dropna()"
   ]
  },
  {
   "attachments": {},
   "cell_type": "markdown",
   "metadata": {},
   "source": [
    "## ValidMind Setup"
   ]
  },
  {
   "cell_type": "code",
   "execution_count": 8,
   "metadata": {},
   "outputs": [
    {
     "data": {
      "text/plain": [
       "True"
      ]
     },
     "execution_count": 8,
     "metadata": {},
     "output_type": "execute_result"
    }
   ],
   "source": [
    "vm.init(\n",
    "  api_host = \"http://localhost:3000/api/v1/tracking\",\n",
    "  api_key = \"e22b89a6b9c2a27da47cb0a09febc001\",\n",
    "  api_secret = \"a61be901b5596e3c528d94231e4a3c504ef0bb803d16815f8dfd6857fac03e57\",\n",
    "  project = \"clgo0g0rt0000fjy6ozl9pb69\"\n",
    ")"
   ]
  },
  {
   "cell_type": "code",
   "execution_count": 9,
   "metadata": {},
   "outputs": [
    {
     "name": "stdout",
     "output_type": "stream",
     "text": [
      "Pandas dataset detected. Initializing VM Dataset instance...\n",
      "Inferring dataset types...\n",
      "Pandas dataset detected. Initializing VM Dataset instance...\n",
      "Inferring dataset types...\n"
     ]
    }
   ],
   "source": [
    "vm_train_ds = vm.init_dataset(dataset=train_df, type=\"generic\")\n",
    "vm_test_ds = vm.init_dataset(dataset=test_df, type=\"generic\")"
   ]
  },
  {
   "attachments": {},
   "cell_type": "markdown",
   "metadata": {},
   "source": [
    "## Run Time Series Forecast Test Plan"
   ]
  },
  {
   "attachments": {},
   "cell_type": "markdown",
   "metadata": {},
   "source": [
    "Describe test plan."
   ]
  },
  {
   "cell_type": "code",
   "execution_count": 10,
   "metadata": {},
   "outputs": [
    {
     "data": {
      "text/html": [
       "<table>\n",
       "<thead>\n",
       "<tr><th>Attribute       </th><th>Value                                           </th></tr>\n",
       "</thead>\n",
       "<tbody>\n",
       "<tr><td>ID              </td><td>time_series_forecast                            </td></tr>\n",
       "<tr><td>Name            </td><td>TimeSeriesForecast                              </td></tr>\n",
       "<tr><td>Description     </td><td>Test plan to perform time series forecast tests.</td></tr>\n",
       "<tr><td>Required Context</td><td>[&#x27;models&#x27;, &#x27;train_ds&#x27;, &#x27;test_ds&#x27;]               </td></tr>\n",
       "<tr><td>Tests           </td><td>ModelPredictionOLS (Metric)                     </td></tr>\n",
       "<tr><td>Test Plans      </td><td>[]                                              </td></tr>\n",
       "</tbody>\n",
       "</table>"
      ],
      "text/plain": [
       "'<table>\\n<thead>\\n<tr><th>Attribute       </th><th>Value                                           </th></tr>\\n</thead>\\n<tbody>\\n<tr><td>ID              </td><td>time_series_forecast                            </td></tr>\\n<tr><td>Name            </td><td>TimeSeriesForecast                              </td></tr>\\n<tr><td>Description     </td><td>Test plan to perform time series forecast tests.</td></tr>\\n<tr><td>Required Context</td><td>[&#x27;models&#x27;, &#x27;train_ds&#x27;, &#x27;test_ds&#x27;]               </td></tr>\\n<tr><td>Tests           </td><td>ModelPredictionOLS (Metric)                     </td></tr>\\n<tr><td>Test Plans      </td><td>[]                                              </td></tr>\\n</tbody>\\n</table>'"
      ]
     },
     "execution_count": 10,
     "metadata": {},
     "output_type": "execute_result"
    }
   ],
   "source": [
    "vm.test_plans.describe_plan(\"time_series_forecast\")"
   ]
  },
  {
   "cell_type": "code",
   "execution_count": 11,
   "metadata": {},
   "outputs": [],
   "source": [
    "config= {\n",
    "    \"model_prediction_ols\": {\n",
    "        \"model_fits_dict\": models\n",
    "    }\n",
    "}"
   ]
  },
  {
   "attachments": {},
   "cell_type": "markdown",
   "metadata": {},
   "source": [
    "Create vm models. "
   ]
  },
  {
   "cell_type": "code",
   "execution_count": 12,
   "metadata": {},
   "outputs": [
    {
     "name": "stdout",
     "output_type": "stream",
     "text": [
      "                                 OLS Regression Results                                \n",
      "=======================================================================================\n",
      "Dep. Variable:           MORTGAGE30US   R-squared (uncentered):                   0.286\n",
      "Model:                            OLS   Adj. R-squared (uncentered):              0.284\n",
      "Method:                 Least Squares   F-statistic:                              198.8\n",
      "Date:                Tue, 09 May 2023   Prob (F-statistic):                    3.22e-38\n",
      "Time:                        19:40:34   Log-Likelihood:                         -57.220\n",
      "No. Observations:                 498   AIC:                                      116.4\n",
      "Df Residuals:                     497   BIC:                                      120.7\n",
      "Df Model:                           1                                                  \n",
      "Covariance Type:            nonrobust                                                  \n",
      "==============================================================================\n",
      "                 coef    std err          t      P>|t|      [0.025      0.975]\n",
      "------------------------------------------------------------------------------\n",
      "FEDFUNDS       0.2901      0.021     14.100      0.000       0.250       0.330\n",
      "==============================================================================\n",
      "Omnibus:                      139.024   Durbin-Watson:                   1.581\n",
      "Prob(Omnibus):                  0.000   Jarque-Bera (JB):              806.633\n",
      "Skew:                           1.080   Prob(JB):                    6.95e-176\n",
      "Kurtosis:                       8.849   Cond. No.                         1.00\n",
      "==============================================================================\n",
      "\n",
      "Notes:\n",
      "[1] R² is computed without centering (uncentered) since the model does not contain a constant.\n",
      "[2] Standard Errors assume that the covariance matrix of the errors is correctly specified.\n"
     ]
    }
   ],
   "source": [
    "model_1 = models['fred_loan_rates_model_1']\n",
    "print(model_1.summary())"
   ]
  },
  {
   "cell_type": "code",
   "execution_count": 13,
   "metadata": {},
   "outputs": [],
   "source": [
    "vm_model_1 = vm.init_model(models['fred_loan_rates_model_1'])\n",
    "vm_model_3 = vm.init_model(models['fred_loan_rates_model_3'])\n",
    "list_of_models = [vm_model_1, vm_model_3]"
   ]
  },
  {
   "cell_type": "code",
   "execution_count": 14,
   "metadata": {},
   "outputs": [
    {
     "name": "stderr",
     "output_type": "stream",
     "text": [
      "Running Metric: model_prediction_ols:   0%|          | 0/1 [00:00<?, ?it/s]     "
     ]
    },
    {
     "ename": "AttributeError",
     "evalue": "'list' object has no attribute 'values'",
     "output_type": "error",
     "traceback": [
      "\u001b[0;31m---------------------------------------------------------------------------\u001b[0m",
      "\u001b[0;31mAttributeError\u001b[0m                            Traceback (most recent call last)",
      "Cell \u001b[0;32mIn[14], line 1\u001b[0m\n\u001b[0;32m----> 1\u001b[0m vm\u001b[39m.\u001b[39;49mrun_test_plan(\u001b[39m\"\u001b[39;49m\u001b[39mtime_series_forecast\u001b[39;49m\u001b[39m\"\u001b[39;49m,\n\u001b[1;32m      2\u001b[0m                                         models\u001b[39m=\u001b[39;49mlist_of_models,\n\u001b[1;32m      3\u001b[0m                                         train_ds\u001b[39m=\u001b[39;49mvm_train_ds,\n\u001b[1;32m      4\u001b[0m                                         test_ds\u001b[39m=\u001b[39;49mvm_test_ds,\n\u001b[1;32m      5\u001b[0m                                         config\u001b[39m=\u001b[39;49mconfig)\n",
      "File \u001b[0;32m~/Dev/github/validmind/validmind-python/validmind/client.py:204\u001b[0m, in \u001b[0;36mrun_test_plan\u001b[0;34m(test_plan_name, send, **kwargs)\u001b[0m\n\u001b[1;32m    199\u001b[0m \u001b[39mexcept\u001b[39;00m \u001b[39mValueError\u001b[39;00m \u001b[39mas\u001b[39;00m exc:\n\u001b[1;32m    200\u001b[0m     \u001b[39mraise\u001b[39;00m \u001b[39mValueError\u001b[39;00m(\n\u001b[1;32m    201\u001b[0m         \u001b[39m\"\u001b[39m\u001b[39mError initializing test plan \u001b[39m\u001b[39m{}\u001b[39;00m\u001b[39m. \u001b[39m\u001b[39m{}\u001b[39;00m\u001b[39m\"\u001b[39m\u001b[39m.\u001b[39mformat(test_plan_name, \u001b[39mstr\u001b[39m(exc))\n\u001b[1;32m    202\u001b[0m     )\n\u001b[0;32m--> 204\u001b[0m plan\u001b[39m.\u001b[39;49mrun(send\u001b[39m=\u001b[39;49msend)\n\u001b[1;32m    206\u001b[0m \u001b[39mreturn\u001b[39;00m plan\n",
      "File \u001b[0;32m~/Dev/github/validmind/validmind-python/validmind/vm_models/test_plan.py:164\u001b[0m, in \u001b[0;36mTestPlan.run\u001b[0;34m(self, send)\u001b[0m\n\u001b[1;32m    160\u001b[0m test_instance \u001b[39m=\u001b[39m test(\u001b[39mself\u001b[39m\u001b[39m.\u001b[39mtest_context, params\u001b[39m=\u001b[39mtest_params)\n\u001b[1;32m    162\u001b[0m \u001b[39mself\u001b[39m\u001b[39m.\u001b[39mpbar\u001b[39m.\u001b[39mset_description(\u001b[39mf\u001b[39m\u001b[39m\"\u001b[39m\u001b[39mRunning \u001b[39m\u001b[39m{\u001b[39;00mtest\u001b[39m.\u001b[39mtest_type\u001b[39m}\u001b[39;00m\u001b[39m: \u001b[39m\u001b[39m{\u001b[39;00mtest_instance\u001b[39m.\u001b[39mname\u001b[39m}\u001b[39;00m\u001b[39m\"\u001b[39m)\n\u001b[0;32m--> 164\u001b[0m result \u001b[39m=\u001b[39m test_instance\u001b[39m.\u001b[39;49mrun()\n\u001b[1;32m    166\u001b[0m \u001b[39mif\u001b[39;00m result \u001b[39mis\u001b[39;00m \u001b[39mNone\u001b[39;00m:\n\u001b[1;32m    167\u001b[0m     \u001b[39mself\u001b[39m\u001b[39m.\u001b[39mpbar\u001b[39m.\u001b[39mset_description(\u001b[39m\"\u001b[39m\u001b[39mTest returned None, skipping...\u001b[39m\u001b[39m\"\u001b[39m)\n",
      "File \u001b[0;32m~/Dev/github/validmind/validmind-python/validmind/model_validation/statsmodels/metrics.py:674\u001b[0m, in \u001b[0;36mModelPredictionOLS.run\u001b[0;34m(self)\u001b[0m\n\u001b[1;32m    671\u001b[0m model_fits_dict \u001b[39m=\u001b[39m \u001b[39mself\u001b[39m\u001b[39m.\u001b[39mmodels\n\u001b[1;32m    672\u001b[0m df_test \u001b[39m=\u001b[39m \u001b[39mself\u001b[39m\u001b[39m.\u001b[39mtest_ds\u001b[39m.\u001b[39mdf\n\u001b[0;32m--> 674\u001b[0m prediction_df \u001b[39m=\u001b[39m \u001b[39mself\u001b[39;49m\u001b[39m.\u001b[39;49mget_model_prediction(model_fits_dict, df_test)\n\u001b[1;32m    675\u001b[0m results \u001b[39m=\u001b[39m \u001b[39mself\u001b[39m\u001b[39m.\u001b[39mserialize_time_series_df(prediction_df)\n\u001b[1;32m    677\u001b[0m figures \u001b[39m=\u001b[39m []\n",
      "File \u001b[0;32m~/Dev/github/validmind/validmind-python/validmind/model_validation/statsmodels/metrics.py:598\u001b[0m, in \u001b[0;36mModelPredictionOLS.get_model_prediction\u001b[0;34m(self, model_fits_dict, df_test)\u001b[0m\n\u001b[1;32m    596\u001b[0m \u001b[39mdef\u001b[39;00m \u001b[39mget_model_prediction\u001b[39m(\u001b[39mself\u001b[39m, model_fits_dict, df_test):\n\u001b[1;32m    597\u001b[0m     \u001b[39m# Extract the training data from the first model fit\u001b[39;00m\n\u001b[0;32m--> 598\u001b[0m     first_model_fit \u001b[39m=\u001b[39m \u001b[39mlist\u001b[39m(model_fits_dict\u001b[39m.\u001b[39;49mvalues())[\u001b[39m0\u001b[39m]\n\u001b[1;32m    599\u001b[0m     train_data \u001b[39m=\u001b[39m pd\u001b[39m.\u001b[39mSeries(\n\u001b[1;32m    600\u001b[0m         first_model_fit\u001b[39m.\u001b[39mmodel\u001b[39m.\u001b[39mendog, index\u001b[39m=\u001b[39mfirst_model_fit\u001b[39m.\u001b[39mmodel\u001b[39m.\u001b[39mdata\u001b[39m.\u001b[39mrow_labels\n\u001b[1;32m    601\u001b[0m     )\n\u001b[1;32m    602\u001b[0m     train_data \u001b[39m=\u001b[39m train_data\u001b[39m.\u001b[39mto_frame()\n",
      "\u001b[0;31mAttributeError\u001b[0m: 'list' object has no attribute 'values'"
     ]
    }
   ],
   "source": [
    "vm.run_test_plan(\"time_series_forecast\",\n",
    "                                        models=list_of_models,\n",
    "                                        test_ds=vm_test_ds,\n",
    "                                        config=config)"
   ]
  }
 ],
 "metadata": {
  "language_info": {
   "name": "python"
  },
  "orig_nbformat": 4
 },
 "nbformat": 4,
 "nbformat_minor": 2
}
