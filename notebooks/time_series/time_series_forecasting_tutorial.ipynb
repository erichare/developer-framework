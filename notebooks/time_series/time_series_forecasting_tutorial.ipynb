{
       "cells": [
              {
                     "attachments": {},
                     "cell_type": "markdown",
                     "metadata": {},
                     "source": [
                            "# Time Series Model Development Tutorial "
                     ]
              },
              {
                     "attachments": {},
                     "cell_type": "markdown",
                     "metadata": {},
                     "source": [
                            "## Setup ValidMind Platform\n",
                            "Prepare the environment for our analysis. First, **import** all necessary libraries and modules required for our analysis. Next, **connect** to the ValidMind MRM platform, which provides a comprehensive suite of tools and services for model validation.\n",
                            "\n",
                            "Finally, define and **configure** the specific use case we are working on by setting up any required parameters, data sources, or other settings that will be used throughout the analysis."
                     ]
              },
              {
                     "attachments": {},
                     "cell_type": "markdown",
                     "metadata": {},
                     "source": [
                            "### ValidMind Project Information\n",
                            "**Model**: FRED Loan Rates  \n",
                            "**Project Type**: Initial Validation   \n",
                            "**Project ID**: `clhuctiea0000j3y6fkeyk73f`  \n",
                            "**Template**: `time_series_forecasting_v3.yaml` "
                     ]
              },
              {
                     "attachments": {},
                     "cell_type": "markdown",
                     "metadata": {},
                     "source": [
                            "### Import Libraries"
                     ]
              },
              {
                     "cell_type": "code",
                     "execution_count": null,
                     "metadata": {},
                     "outputs": [],
                     "source": [
                            "# Load API key and secret from environment variables\n",
                            "%load_ext dotenv\n",
                            "%dotenv .env\n",
                            "\n",
                            "# Load ValidMind utils  \n",
                            "from validmind.datasets.regression import (\n",
                            "    identify_frequencies, \n",
                            "    resample_to_common_frequency\n",
                            ")"
                     ]
              },
              {
                     "attachments": {},
                     "cell_type": "markdown",
                     "metadata": {},
                     "source": [
                            "### Connect to ValidMind Project"
                     ]
              },
              {
                     "cell_type": "code",
                     "execution_count": null,
                     "metadata": {},
                     "outputs": [],
                     "source": [
                            "import validmind as vm\n",
                            "\n",
                            "vm.init(\n",
                            "  api_host = \"http://localhost:3000/api/v1/tracking\",\n",
                            "  api_key = \"2494c3838f48efe590d531bfe225d90b\",\n",
                            "  api_secret = \"4f692f8161f128414fef542cab2a4e74834c75d01b3a8e088a1834f2afcfe838\",\n",
                            "  project = \"clhuctiea0000j3y6fkeyk73f\"\n",
                            ") "
                     ]
              },
              {
                     "attachments": {},
                     "cell_type": "markdown",
                     "metadata": {},
                     "source": [
                            "### Test Plans Availables"
                     ]
              },
              {
                     "cell_type": "code",
                     "execution_count": null,
                     "metadata": {},
                     "outputs": [],
                     "source": [
                            "vm.test_plans.list_plans()"
                     ]
              },
              {
                     "attachments": {},
                     "cell_type": "markdown",
                     "metadata": {},
                     "source": [
                            "## Data Engineering "
                     ]
              },
              {
                     "attachments": {},
                     "cell_type": "markdown",
                     "metadata": {},
                     "source": [
                            "### Data Collection"
                     ]
              },
              {
                     "cell_type": "code",
                     "execution_count": null,
                     "metadata": {},
                     "outputs": [],
                     "source": [
                            "from validmind.datasets.regression import fred as demo_dataset\n",
                            "\n",
                            "target_column = demo_dataset.target_column\n",
                            "feature_columns = demo_dataset.feature_columns\n",
                            "\n",
                            "# Split the dataset into test and training \n",
                            "df = demo_dataset.load_data()"
                     ]
              },
              {
                     "attachments": {},
                     "cell_type": "markdown",
                     "metadata": {},
                     "source": [
                            "### Connect Datasets to ValidMind Platform"
                     ]
              },
              {
                     "cell_type": "code",
                     "execution_count": null,
                     "metadata": {},
                     "outputs": [],
                     "source": [
                            "vm_dataset = vm.init_dataset(\n",
                            "    dataset=df,\n",
                            "    target_column=demo_dataset.target_column,\n",
                            ")"
                     ]
              },
              {
                     "attachments": {},
                     "cell_type": "markdown",
                     "metadata": {},
                     "source": [
                            "### Data Description"
                     ]
              },
              {
                     "attachments": {},
                     "cell_type": "markdown",
                     "metadata": {},
                     "source": [
                            "### Data Quality"
                     ]
              },
              {
                     "attachments": {},
                     "cell_type": "markdown",
                     "metadata": {},
                     "source": [
                            "**Run the Time Series Data Quality Test Plan**"
                     ]
              },
              {
                     "cell_type": "code",
                     "execution_count": null,
                     "metadata": {},
                     "outputs": [],
                     "source": [
                            "# TIME SERIES DATA QUALITY PARAMS\n",
                            "config={\n",
                            "    \n",
                            "    \"time_series_outliers\": {\n",
                            "        \"zscore_threshold\": 3,\n",
                            "    },\n",
                            "    \"time_series_missing_values\":{\n",
                            "        \"min_threshold\": 2,\n",
                            "    }\n",
                            "}\n",
                            "\n",
                            "vm.run_test_plan(\"time_series_data_quality\",\n",
                            "                 config=config, \n",
                            "                 dataset=vm_dataset)"
                     ]
              },
              {
                     "attachments": {},
                     "cell_type": "markdown",
                     "metadata": {},
                     "source": [
                            "## Exploratory Data Analysis"
                     ]
              },
              {
                     "attachments": {},
                     "cell_type": "markdown",
                     "metadata": {},
                     "source": [
                            "### Univariate Analysis"
                     ]
              },
              {
                     "attachments": {},
                     "cell_type": "markdown",
                     "metadata": {},
                     "source": [
                            "**Run the Time Series Univariate Test Plan**"
                     ]
              },
              {
                     "cell_type": "code",
                     "execution_count": null,
                     "metadata": {},
                     "outputs": [],
                     "source": [
                            "# TIME SERIES UNIVARIATE PARAMS \n",
                            "config={\n",
                            "       \n",
                            "    \"rolling_stats_plot\": {\n",
                            "        \"window_size\": 12    \n",
                            "    },\n",
                            "     \"seasonal_decompose\": {\n",
                            "        \"seasonal_model\": 'additive'\n",
                            "    },\n",
                            "     \"auto_seasonality\": {\n",
                            "        \"min_period\": 1,\n",
                            "        \"max_period\": 3\n",
                            "    },\n",
                            "      \"auto_stationarity\": {\n",
                            "        \"max_order\": 3,\n",
                            "        \"threshold\": 0.05\n",
                            "    },\n",
                            "    \"auto_ar\": {\n",
                            "        \"max_ar_order\": 4\n",
                            "    },\n",
                            "    \"auto_ma\": {\n",
                            "        \"max_ma_order\": 3\n",
                            "    }\n",
                            "}\n",
                            "\n",
                            "vm.run_test_plan(\"time_series_univariate\",\n",
                            "                config=config, \n",
                            "                 dataset=vm_dataset)"
                     ]
              },
              {
                     "attachments": {},
                     "cell_type": "markdown",
                     "metadata": {},
                     "source": [
                            "### Multivariate Analysis"
                     ]
              },
              {
                     "attachments": {},
                     "cell_type": "markdown",
                     "metadata": {},
                     "source": [
                            "**Run the Time Series Univariate Test Plan**"
                     ]
              },
              {
                     "cell_type": "code",
                     "execution_count": null,
                     "metadata": {},
                     "outputs": [],
                     "source": [
                            "# TIME SERIES MULTIVARIATE PARAMS \n",
                            "config={\n",
                            "\n",
                            "    \"lagged_correlation_heatmap\": {\n",
                            "        \"target_col\": demo_dataset.target_column,\n",
                            "        \"independent_vars\": demo_dataset.feature_columns\n",
                            "    },\n",
                            "    \"engle_granger_coint\": {\n",
                            "        \"threshold\": 0.05\n",
                            "    },\n",
                            "}\n",
                            "\n",
                            "vm.run_test_plan(\"time_series_multivariate\",\n",
                            "                 config=config, \n",
                            "                 dataset=vm_dataset)"
                     ]
              },
              {
                     "attachments": {},
                     "cell_type": "markdown",
                     "metadata": {},
                     "source": [
                            "## Feature Engineering"
                     ]
              },
              {
                     "attachments": {},
                     "cell_type": "markdown",
                     "metadata": {},
                     "source": [
                            "### Treatment of Frequencies\n",
                            "Show the frequencies of each variable in the raw dataset."
                     ]
              },
              {
                     "cell_type": "code",
                     "execution_count": null,
                     "metadata": {},
                     "outputs": [],
                     "source": [
                            "frequencies = identify_frequencies(df)\n",
                            "display(frequencies)"
                     ]
              },
              {
                     "attachments": {},
                     "cell_type": "markdown",
                     "metadata": {},
                     "source": [
                            "Handle frequencies by resampling all variables to a common frequency."
                     ]
              },
              {
                     "cell_type": "code",
                     "execution_count": null,
                     "metadata": {},
                     "outputs": [],
                     "source": [
                            "preprocessed_df = resample_to_common_frequency(df, common_frequency=demo_dataset.frequency)\n",
                            "frequencies = identify_frequencies(preprocessed_df)\n",
                            "display(frequencies)"
                     ]
              },
              {
                     "attachments": {},
                     "cell_type": "markdown",
                     "metadata": {},
                     "source": [
                            "**Run the Time Series Dataset Test Suite**\n",
                            "\n",
                            "Run the same suite again after handling frequencies. "
                     ]
              },
              {
                     "cell_type": "code",
                     "execution_count": null,
                     "metadata": {},
                     "outputs": [],
                     "source": [
                            "vm_dataset = vm.init_dataset(\n",
                            "    dataset=preprocessed_df,\n",
                            "    target_column=demo_dataset.target_column,\n",
                            ")\n",
                            "\n",
                            "full_suite = vm.run_test_suite(\n",
                            "    \"time_series_dataset\",\n",
                            "    dataset=vm_dataset,\n",
                            ")"
                     ]
              },
              {
                     "attachments": {},
                     "cell_type": "markdown",
                     "metadata": {},
                     "source": [
                            "### Treatment of Missing Values\n",
                            "Handle the missing values by droping all the `nan` values."
                     ]
              },
              {
                     "cell_type": "code",
                     "execution_count": null,
                     "metadata": {},
                     "outputs": [],
                     "source": [
                            "preprocessed_df = preprocessed_df.dropna()"
                     ]
              },
              {
                     "attachments": {},
                     "cell_type": "markdown",
                     "metadata": {},
                     "source": [
                            "**Run the Time Series Dataset Test Suite**\n",
                            "\n",
                            "Run the same test suite to check there are no missing values and frequencies of all variables are the same."
                     ]
              },
              {
                     "cell_type": "code",
                     "execution_count": null,
                     "metadata": {},
                     "outputs": [],
                     "source": [
                            "vm_dataset = vm.init_dataset(\n",
                            "    dataset=preprocessed_df,\n",
                            "    target_column=demo_dataset.target_column,\n",
                            ")\n",
                            "\n",
                            "full_suite = vm.run_test_suite(\n",
                            "    \"time_series_dataset\",\n",
                            "    dataset=vm_dataset,\n",
                            ")"
                     ]
              },
              {
                     "attachments": {},
                     "cell_type": "markdown",
                     "metadata": {},
                     "source": [
                            "## Model Training"
                     ]
              },
              {
                     "attachments": {},
                     "cell_type": "markdown",
                     "metadata": {},
                     "source": [
                            "### Load Train Data, Test Data and Models"
                     ]
              },
              {
                     "cell_type": "code",
                     "execution_count": null,
                     "metadata": {},
                     "outputs": [],
                     "source": [
                            "# Currently only fred pre-trained models are available\n",
                            "from validmind.datasets.regression import fred as demo_dataset\n",
                            "model_A, train_df_A, test_df_A = demo_dataset.load_model('fred_loan_rates_model_3')\n",
                            "model_B, train_df_B, test_df_B = demo_dataset.load_model('fred_loan_rates_model_4')"
                     ]
              },
              {
                     "attachments": {},
                     "cell_type": "markdown",
                     "metadata": {},
                     "source": [
                            "### Create ValidMind Datasets"
                     ]
              },
              {
                     "cell_type": "code",
                     "execution_count": null,
                     "metadata": {},
                     "outputs": [],
                     "source": [
                            "# Initialize training and testing datasets for model A\n",
                            "vm_train_ds_A = vm.init_dataset(dataset=train_df_A, type=\"generic\", target_column=demo_dataset.target_column)\n",
                            "vm_test_ds_A = vm.init_dataset(dataset=test_df_A, type=\"generic\", target_column=demo_dataset.target_column)\n",
                            "\n",
                            "# Initialize training and testing datasets for model B\n",
                            "vm_train_ds_B = vm.init_dataset(dataset=train_df_B, type=\"generic\", target_column=demo_dataset.target_column)\n",
                            "vm_test_ds_B = vm.init_dataset(dataset=test_df_B, type=\"generic\", target_column=demo_dataset.target_column)"
                     ]
              },
              {
                     "attachments": {},
                     "cell_type": "markdown",
                     "metadata": {},
                     "source": [
                            "### Create ValidMind Models"
                     ]
              },
              {
                     "cell_type": "code",
                     "execution_count": null,
                     "metadata": {},
                     "outputs": [],
                     "source": [
                            "# Initialize model A\n",
                            "vm_model_A = vm.init_model(\n",
                            "    model = model_A, \n",
                            "    train_ds=vm_train_ds_A, \n",
                            "    test_ds=vm_test_ds_A)\n",
                            "\n",
                            "# Initialize model B\n",
                            "vm_model_B = vm.init_model(\n",
                            "    model = model_B,\n",
                            "    train_ds=vm_train_ds_B,\n",
                            "    test_ds=vm_test_ds_B)\n",
                            "\n",
                            "\n",
                            "list_of_models = [vm_model_A, vm_model_B]"
                     ]
              },
              {
                     "attachments": {},
                     "cell_type": "markdown",
                     "metadata": {},
                     "source": [
                            "### Data Split Description"
                     ]
              },
              {
                     "attachments": {},
                     "cell_type": "markdown",
                     "metadata": {},
                     "source": [
                            "**Run the Regression Model Description Test Plan**"
                     ]
              },
              {
                     "cell_type": "code",
                     "execution_count": null,
                     "metadata": {},
                     "outputs": [],
                     "source": [
                            "test_plan = vm.run_test_plan(\n",
                            "    \"regression_model_description\",\n",
                            "    model = vm_model_B,\n",
                            "    models = list_of_models\n",
                            ")"
                     ]
              },
              {
                     "attachments": {},
                     "cell_type": "markdown",
                     "metadata": {},
                     "source": [
                            "### Train and Test Data Validation"
                     ]
              },
              {
                     "attachments": {},
                     "cell_type": "markdown",
                     "metadata": {},
                     "source": [
                            "**Run the Time Series Dataset Test Suite**"
                     ]
              },
              {
                     "cell_type": "code",
                     "execution_count": null,
                     "metadata": {},
                     "outputs": [],
                     "source": [
                            "vm_dataset = vm.init_dataset(\n",
                            "    dataset=test_df_B,\n",
                            "    target_column=demo_dataset.target_column,\n",
                            ")\n",
                            "\n",
                            "full_suite = vm.run_test_suite(\n",
                            "    \"time_series_dataset\",\n",
                            "    dataset=vm_dataset,\n",
                            ")"
                     ]
              },
              {
                     "attachments": {},
                     "cell_type": "markdown",
                     "metadata": {},
                     "source": [
                            "## Model Testing"
                     ]
              },
              {
                     "attachments": {},
                     "cell_type": "markdown",
                     "metadata": {},
                     "source": [
                            "### Performance"
                     ]
              },
              {
                     "attachments": {},
                     "cell_type": "markdown",
                     "metadata": {},
                     "source": [
                            "**Run the Regression Model Evaluation Test Plan**"
                     ]
              },
              {
                     "cell_type": "code",
                     "execution_count": null,
                     "metadata": {},
                     "outputs": [],
                     "source": [
                            "test_plan = vm.run_test_plan(\n",
                            "    \"regression_models_evaluation\",\n",
                            "    model = model_B,\n",
                            "    models = list_of_models\n",
                            ")"
                     ]
              },
              {
                     "attachments": {},
                     "cell_type": "markdown",
                     "metadata": {},
                     "source": [
                            "### Forecasting"
                     ]
              },
              {
                     "attachments": {},
                     "cell_type": "markdown",
                     "metadata": {},
                     "source": [
                            "**Run the Time Series Forecast Test Plan**"
                     ]
              },
              {
                     "cell_type": "code",
                     "execution_count": null,
                     "metadata": {},
                     "outputs": [],
                     "source": [
                            "config= {\n",
                            "    \"regression_forecast_plot_levels\": {\n",
                            "        \"transformation\": \"integrate\",\n",
                            "    }\n",
                            "}\n",
                            "\n",
                            "test_plan = vm.run_test_plan(\n",
                            "    \"time_series_forecast\",\n",
                            "    models = list_of_models,\n",
                            "    config = config\n",
                            ")"
                     ]
              },
              {
                     "attachments": {},
                     "cell_type": "markdown",
                     "metadata": {},
                     "source": [
                            "### Sensitivity Analysis "
                     ]
              },
              {
                     "cell_type": "code",
                     "execution_count": null,
                     "metadata": {},
                     "outputs": [],
                     "source": [
                            "config= {\n",
                            "    \"regression_sensitivity_plot\": {\n",
                            "        \"transformation\": \"integrate\",\n",
                            "        \"shocks\": [0.1, 0.2],\n",
                            "    }\n",
                            "}\n",
                            "\n",
                            "test_plan = vm.run_test_plan(\n",
                            "    \"time_series_sensitivity\",\n",
                            "    models = list_of_models,\n",
                            "    config = config\n",
                            ")"
                     ]
              }
       ],
       "metadata": {
              "kernelspec": {
                     "display_name": "dev-framework",
                     "language": "python",
                     "name": "dev-framework"
              },
              "language_info": {
                     "codemirror_mode": {
                            "name": "ipython",
                            "version": 3
                     },
                     "file_extension": ".py",
                     "mimetype": "text/x-python",
                     "name": "python",
                     "nbconvert_exporter": "python",
                     "pygments_lexer": "ipython3",
                     "version": "3.8.13"
              },
              "orig_nbformat": 4
       },
       "nbformat": 4,
       "nbformat_minor": 2
}
