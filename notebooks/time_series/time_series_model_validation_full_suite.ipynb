{
  "cells": [
    {
      "attachments": {},
      "cell_type": "markdown",
      "metadata": {},
      "source": [
        "# Time Series Model Validation Full Suite"
      ]
    },
    {
      "attachments": {},
      "cell_type": "markdown",
      "metadata": {},
      "source": [
        "## 1. Introduction"
      ]
    },
    {
      "attachments": {},
      "cell_type": "markdown",
      "metadata": {},
      "source": [
        "The Time Series Data Validation Full Suite notebook aims to demonstrate the application of various data validation tests using the **ValidMind MRM Platform** and **Developer Framework**. \n",
        "\n",
        "In this demo, we will use the `time_series_model_validation` **test suite** to run multiple model validation metrics on several pre-trained time series models.  \n",
        "\n"
      ]
    },
    {
      "attachments": {},
      "cell_type": "markdown",
      "metadata": {},
      "source": [
        "## 2. Setup \n",
        "\n",
        "Prepare the environment for our analysis. First, **import** all necessary libraries and modules required for our analysis. Next, **connect** to the ValidMind MRM platform, which provides a comprehensive suite of tools and services for model validation.\n",
        "\n",
        "Finally, define and **configure** the specific use case we are working on by setting up any required parameters, data sources, or other settings that will be used throughout the analysis. "
      ]
    },
    {
      "attachments": {},
      "cell_type": "markdown",
      "metadata": {},
      "source": [
        "### Import Libraries"
      ]
    },
    {
      "cell_type": "code",
      "execution_count": 1,
      "metadata": {},
      "outputs": [
        {
          "name": "stderr",
          "output_type": "stream",
          "text": [
            "/Users/anilsorathiya/Library/Caches/pypoetry/virtualenvs/validmind-pPj8dHa5-py3.9/lib/python3.9/site-packages/urllib3/__init__.py:34: NotOpenSSLWarning: urllib3 v2.0 only supports OpenSSL 1.1.1+, currently the 'ssl' module is compiled with 'LibreSSL 2.8.3'. See: https://github.com/urllib3/urllib3/issues/3020\n",
            "  warnings.warn(\n"
          ]
        }
      ],
      "source": [
        "# Load API key and secret from environment variables\n",
        "%load_ext dotenv\n",
        "%dotenv .env\n",
        "\n",
        "# ValidMind libraries \n",
        "import validmind as vm"
      ]
    },
    {
      "attachments": {},
      "cell_type": "markdown",
      "metadata": {},
      "source": [
        "### Connect to the ValidMind Library"
      ]
    },
    {
      "cell_type": "code",
      "execution_count": 2,
      "metadata": {},
      "outputs": [
        {
          "name": "stderr",
          "output_type": "stream",
          "text": [
            "2023-07-21 17:38:33,108 - INFO(validmind.api_client): Connected to ValidMind. Project: Stock Price Prediction Model - Initial Validation (clhhzo21s006wl9rl0swhv40h)\n"
          ]
        }
      ],
      "source": [
        "\n",
        "import validmind as vm\n",
        "\n",
        "vm.init(  api_host = \"http://localhost:3000/api/v1/tracking\",\n",
        "  project = \"clhhzo21s006wl9rl0swhv40h\")\n",
        "   "
      ]
    },
    {
      "attachments": {},
      "cell_type": "markdown",
      "metadata": {},
      "source": [
        "### Find All Test Suites and Plans Available in the Developer Framework"
      ]
    },
    {
      "attachments": {},
      "cell_type": "markdown",
      "metadata": {},
      "source": [
        "We can find all the **test suites** and **test plans** available in the developer framework by calling the following functions:\n",
        "\n",
        "- All test suites: `vm.test_suites.list_suites()`\n",
        "- All test plans: `vm.test_plans.list_plans()`\n",
        "- Describe a test plan: `vm.test_plans.describe_plan(\"time_series_data_quality\")`\n",
        "- List all available tests: `vm.tests.list_tests()`"
      ]
    },
    {
      "cell_type": "code",
      "execution_count": 3,
      "metadata": {},
      "outputs": [
        {
          "data": {
            "text/html": [
              "<style type=\"text/css\">\n",
              "#T_819b5 th {\n",
              "  text-align: left;\n",
              "}\n",
              "#T_819b5_row0_col0, #T_819b5_row0_col1, #T_819b5_row0_col2, #T_819b5_row0_col3, #T_819b5_row1_col0, #T_819b5_row1_col1, #T_819b5_row1_col2, #T_819b5_row1_col3, #T_819b5_row2_col0, #T_819b5_row2_col1, #T_819b5_row2_col2, #T_819b5_row2_col3, #T_819b5_row3_col0, #T_819b5_row3_col1, #T_819b5_row3_col2, #T_819b5_row3_col3, #T_819b5_row4_col0, #T_819b5_row4_col1, #T_819b5_row4_col2, #T_819b5_row4_col3 {\n",
              "  text-align: left;\n",
              "}\n",
              "</style>\n",
              "<table id=\"T_819b5\">\n",
              "  <thead>\n",
              "    <tr>\n",
              "      <th id=\"T_819b5_level0_col0\" class=\"col_heading level0 col0\" >ID</th>\n",
              "      <th id=\"T_819b5_level0_col1\" class=\"col_heading level0 col1\" >Name</th>\n",
              "      <th id=\"T_819b5_level0_col2\" class=\"col_heading level0 col2\" >Description</th>\n",
              "      <th id=\"T_819b5_level0_col3\" class=\"col_heading level0 col3\" >Test Plans</th>\n",
              "    </tr>\n",
              "  </thead>\n",
              "  <tbody>\n",
              "    <tr>\n",
              "      <td id=\"T_819b5_row0_col0\" class=\"data row0 col0\" >binary_classifier_full_suite</td>\n",
              "      <td id=\"T_819b5_row0_col1\" class=\"data row0 col1\" >BinaryClassifierFullSuite</td>\n",
              "      <td id=\"T_819b5_row0_col2\" class=\"data row0 col2\" >Full test suite for binary classification models.</td>\n",
              "      <td id=\"T_819b5_row0_col3\" class=\"data row0 col3\" >tabular_dataset_description, tabular_data_quality, binary_classifier_metrics, binary_classifier_validation, binary_classifier_model_diagnosis</td>\n",
              "    </tr>\n",
              "    <tr>\n",
              "      <td id=\"T_819b5_row1_col0\" class=\"data row1 col0\" >binary_classifier_model_validation</td>\n",
              "      <td id=\"T_819b5_row1_col1\" class=\"data row1 col1\" >BinaryClassifierModelValidation</td>\n",
              "      <td id=\"T_819b5_row1_col2\" class=\"data row1 col2\" >Test suite for binary classification models.</td>\n",
              "      <td id=\"T_819b5_row1_col3\" class=\"data row1 col3\" >binary_classifier_metrics, binary_classifier_validation, binary_classifier_model_diagnosis</td>\n",
              "    </tr>\n",
              "    <tr>\n",
              "      <td id=\"T_819b5_row2_col0\" class=\"data row2 col0\" >tabular_dataset</td>\n",
              "      <td id=\"T_819b5_row2_col1\" class=\"data row2 col1\" >TabularDataset</td>\n",
              "      <td id=\"T_819b5_row2_col2\" class=\"data row2 col2\" >Test suite for tabular datasets.</td>\n",
              "      <td id=\"T_819b5_row2_col3\" class=\"data row2 col3\" >tabular_dataset_description, tabular_data_quality</td>\n",
              "    </tr>\n",
              "    <tr>\n",
              "      <td id=\"T_819b5_row3_col0\" class=\"data row3 col0\" >time_series_dataset</td>\n",
              "      <td id=\"T_819b5_row3_col1\" class=\"data row3 col1\" >TimeSeriesDataset</td>\n",
              "      <td id=\"T_819b5_row3_col2\" class=\"data row3 col2\" >Test suite for time series datasets.</td>\n",
              "      <td id=\"T_819b5_row3_col3\" class=\"data row3 col3\" >time_series_data_quality, time_series_univariate, time_series_multivariate</td>\n",
              "    </tr>\n",
              "    <tr>\n",
              "      <td id=\"T_819b5_row4_col0\" class=\"data row4 col0\" >time_series_model_validation</td>\n",
              "      <td id=\"T_819b5_row4_col1\" class=\"data row4 col1\" >TimeSeriesModelValidation</td>\n",
              "      <td id=\"T_819b5_row4_col2\" class=\"data row4 col2\" >Test suite for time series model validation.</td>\n",
              "      <td id=\"T_819b5_row4_col3\" class=\"data row4 col3\" >regression_model_description, regression_models_evaluation, time_series_forecast, time_series_sensitivity</td>\n",
              "    </tr>\n",
              "  </tbody>\n",
              "</table>\n"
            ],
            "text/plain": [
              "<pandas.io.formats.style.Styler at 0x10a925cd0>"
            ]
          },
          "execution_count": 3,
          "metadata": {},
          "output_type": "execute_result"
        }
      ],
      "source": [
        "vm.test_suites.list_suites()"
      ]
    },
    {
      "cell_type": "code",
      "execution_count": 4,
      "metadata": {},
      "outputs": [
        {
          "data": {
            "text/html": [
              "<style type=\"text/css\">\n",
              "#T_f9ccc th {\n",
              "  text-align: left;\n",
              "}\n",
              "#T_f9ccc_row0_col0, #T_f9ccc_row0_col1, #T_f9ccc_row0_col2, #T_f9ccc_row1_col0, #T_f9ccc_row1_col1, #T_f9ccc_row1_col2, #T_f9ccc_row2_col0, #T_f9ccc_row2_col1, #T_f9ccc_row2_col2, #T_f9ccc_row3_col0, #T_f9ccc_row3_col1, #T_f9ccc_row3_col2, #T_f9ccc_row4_col0, #T_f9ccc_row4_col1, #T_f9ccc_row4_col2, #T_f9ccc_row5_col0, #T_f9ccc_row5_col1, #T_f9ccc_row5_col2, #T_f9ccc_row6_col0, #T_f9ccc_row6_col1, #T_f9ccc_row6_col2, #T_f9ccc_row7_col0, #T_f9ccc_row7_col1, #T_f9ccc_row7_col2, #T_f9ccc_row8_col0, #T_f9ccc_row8_col1, #T_f9ccc_row8_col2, #T_f9ccc_row9_col0, #T_f9ccc_row9_col1, #T_f9ccc_row9_col2, #T_f9ccc_row10_col0, #T_f9ccc_row10_col1, #T_f9ccc_row10_col2, #T_f9ccc_row11_col0, #T_f9ccc_row11_col1, #T_f9ccc_row11_col2, #T_f9ccc_row12_col0, #T_f9ccc_row12_col1, #T_f9ccc_row12_col2 {\n",
              "  text-align: left;\n",
              "}\n",
              "</style>\n",
              "<table id=\"T_f9ccc\">\n",
              "  <thead>\n",
              "    <tr>\n",
              "      <th id=\"T_f9ccc_level0_col0\" class=\"col_heading level0 col0\" >ID</th>\n",
              "      <th id=\"T_f9ccc_level0_col1\" class=\"col_heading level0 col1\" >Name</th>\n",
              "      <th id=\"T_f9ccc_level0_col2\" class=\"col_heading level0 col2\" >Description</th>\n",
              "    </tr>\n",
              "  </thead>\n",
              "  <tbody>\n",
              "    <tr>\n",
              "      <td id=\"T_f9ccc_row0_col0\" class=\"data row0 col0\" >binary_classifier_metrics</td>\n",
              "      <td id=\"T_f9ccc_row0_col1\" class=\"data row0 col1\" >BinaryClassifierMetrics</td>\n",
              "      <td id=\"T_f9ccc_row0_col2\" class=\"data row0 col2\" >Test plan for sklearn classifier metrics</td>\n",
              "    </tr>\n",
              "    <tr>\n",
              "      <td id=\"T_f9ccc_row1_col0\" class=\"data row1 col0\" >binary_classifier_validation</td>\n",
              "      <td id=\"T_f9ccc_row1_col1\" class=\"data row1 col1\" >BinaryClassifierPerformance</td>\n",
              "      <td id=\"T_f9ccc_row1_col2\" class=\"data row1 col2\" >Test plan for sklearn classifier models</td>\n",
              "    </tr>\n",
              "    <tr>\n",
              "      <td id=\"T_f9ccc_row2_col0\" class=\"data row2 col0\" >binary_classifier_model_diagnosis</td>\n",
              "      <td id=\"T_f9ccc_row2_col1\" class=\"data row2 col1\" >BinaryClassifierDiagnosis</td>\n",
              "      <td id=\"T_f9ccc_row2_col2\" class=\"data row2 col2\" >Test plan for sklearn classifier model diagnosis tests</td>\n",
              "    </tr>\n",
              "    <tr>\n",
              "      <td id=\"T_f9ccc_row3_col0\" class=\"data row3 col0\" >tabular_dataset_description</td>\n",
              "      <td id=\"T_f9ccc_row3_col1\" class=\"data row3 col1\" >TabularDatasetDescription</td>\n",
              "      <td id=\"T_f9ccc_row3_col2\" class=\"data row3 col2\" >Test plan to extract metadata and descriptive\n",
              "    statistics from a tabular dataset</td>\n",
              "    </tr>\n",
              "    <tr>\n",
              "      <td id=\"T_f9ccc_row4_col0\" class=\"data row4 col0\" >tabular_data_quality</td>\n",
              "      <td id=\"T_f9ccc_row4_col1\" class=\"data row4 col1\" >TabularDataQuality</td>\n",
              "      <td id=\"T_f9ccc_row4_col2\" class=\"data row4 col2\" >Test plan for data quality on tabular datasets</td>\n",
              "    </tr>\n",
              "    <tr>\n",
              "      <td id=\"T_f9ccc_row5_col0\" class=\"data row5 col0\" >time_series_data_quality</td>\n",
              "      <td id=\"T_f9ccc_row5_col1\" class=\"data row5 col1\" >TimeSeriesDataQuality</td>\n",
              "      <td id=\"T_f9ccc_row5_col2\" class=\"data row5 col2\" >Test plan for data quality on time series datasets</td>\n",
              "    </tr>\n",
              "    <tr>\n",
              "      <td id=\"T_f9ccc_row6_col0\" class=\"data row6 col0\" >time_series_univariate</td>\n",
              "      <td id=\"T_f9ccc_row6_col1\" class=\"data row6 col1\" >TimeSeriesUnivariate</td>\n",
              "      <td id=\"T_f9ccc_row6_col2\" class=\"data row6 col2\" >Test plan to perform time series univariate analysis.</td>\n",
              "    </tr>\n",
              "    <tr>\n",
              "      <td id=\"T_f9ccc_row7_col0\" class=\"data row7 col0\" >time_series_multivariate</td>\n",
              "      <td id=\"T_f9ccc_row7_col1\" class=\"data row7 col1\" >TimeSeriesMultivariate</td>\n",
              "      <td id=\"T_f9ccc_row7_col2\" class=\"data row7 col2\" >Test plan to perform time series multivariate analysis.</td>\n",
              "    </tr>\n",
              "    <tr>\n",
              "      <td id=\"T_f9ccc_row8_col0\" class=\"data row8 col0\" >time_series_forecast</td>\n",
              "      <td id=\"T_f9ccc_row8_col1\" class=\"data row8 col1\" >TimeSeriesForecast</td>\n",
              "      <td id=\"T_f9ccc_row8_col2\" class=\"data row8 col2\" >Test plan to perform time series forecast tests.</td>\n",
              "    </tr>\n",
              "    <tr>\n",
              "      <td id=\"T_f9ccc_row9_col0\" class=\"data row9 col0\" >time_series_sensitivity</td>\n",
              "      <td id=\"T_f9ccc_row9_col1\" class=\"data row9 col1\" >TimeSeriesSensitivity</td>\n",
              "      <td id=\"T_f9ccc_row9_col2\" class=\"data row9 col2\" >Test plan to perform time series forecast tests.</td>\n",
              "    </tr>\n",
              "    <tr>\n",
              "      <td id=\"T_f9ccc_row10_col0\" class=\"data row10 col0\" >regression_model_description</td>\n",
              "      <td id=\"T_f9ccc_row10_col1\" class=\"data row10 col1\" >RegressionModelDescription</td>\n",
              "      <td id=\"T_f9ccc_row10_col2\" class=\"data row10 col2\" >Test plan for performance metric of regression model of statsmodels library</td>\n",
              "    </tr>\n",
              "    <tr>\n",
              "      <td id=\"T_f9ccc_row11_col0\" class=\"data row11 col0\" >regression_models_evaluation</td>\n",
              "      <td id=\"T_f9ccc_row11_col1\" class=\"data row11 col1\" >RegressionModelsEvaluation</td>\n",
              "      <td id=\"T_f9ccc_row11_col2\" class=\"data row11 col2\" >Test plan for metrics comparison of regression model of statsmodels library</td>\n",
              "    </tr>\n",
              "    <tr>\n",
              "      <td id=\"T_f9ccc_row12_col0\" class=\"data row12 col0\" >text_data_quality</td>\n",
              "      <td id=\"T_f9ccc_row12_col1\" class=\"data row12 col1\" >TextDataQuality</td>\n",
              "      <td id=\"T_f9ccc_row12_col2\" class=\"data row12 col2\" >Test plan for data quality on text data</td>\n",
              "    </tr>\n",
              "  </tbody>\n",
              "</table>\n"
            ],
            "text/plain": [
              "<pandas.io.formats.style.Styler at 0x2ad50f040>"
            ]
          },
          "execution_count": 4,
          "metadata": {},
          "output_type": "execute_result"
        }
      ],
      "source": [
        "vm.test_plans.list_plans()"
      ]
    },
    {
      "attachments": {},
      "cell_type": "markdown",
      "metadata": {},
      "source": [
        "## 3. Load Models"
      ]
    },
    {
      "attachments": {},
      "cell_type": "markdown",
      "metadata": {},
      "source": [
        "#### Load Pre-Trained Time Series Models"
      ]
    },
    {
      "cell_type": "code",
      "execution_count": 5,
      "metadata": {},
      "outputs": [],
      "source": [
        "# Currently only fred pre-trained models are available\n",
        "from validmind.datasets.regression import fred as demo_dataset\n",
        "model_A, train_df_A, test_df_A = demo_dataset.load_model('fred_loan_rates_model_3')\n",
        "model_B, train_df_B, test_df_B = demo_dataset.load_model('fred_loan_rates_model_4')"
      ]
    },
    {
      "attachments": {},
      "cell_type": "markdown",
      "metadata": {},
      "source": [
        "#### Create ValidMind Datasets"
      ]
    },
    {
      "cell_type": "code",
      "execution_count": 6,
      "metadata": {},
      "outputs": [
        {
          "name": "stderr",
          "output_type": "stream",
          "text": [
            "2023-07-21 17:38:33,182 - INFO(validmind.client): Pandas dataset detected. Initializing VM Dataset instance...\n",
            "2023-07-21 17:38:33,187 - INFO(validmind.client): Pandas dataset detected. Initializing VM Dataset instance...\n",
            "2023-07-21 17:38:33,190 - INFO(validmind.client): Pandas dataset detected. Initializing VM Dataset instance...\n",
            "2023-07-21 17:38:33,195 - INFO(validmind.client): Pandas dataset detected. Initializing VM Dataset instance...\n"
          ]
        }
      ],
      "source": [
        "# Initialize training and testing datasets for model A\n",
        "vm_train_ds_A = vm.init_dataset(dataset=train_df_A, type=\"generic\", target_column=demo_dataset.target_column)\n",
        "vm_test_ds_A = vm.init_dataset(dataset=test_df_A, type=\"generic\", target_column=demo_dataset.target_column)\n",
        "\n",
        "# Initialize training and testing datasets for model B\n",
        "vm_train_ds_B = vm.init_dataset(dataset=train_df_B, type=\"generic\", target_column=demo_dataset.target_column)\n",
        "vm_test_ds_B = vm.init_dataset(dataset=test_df_B, type=\"generic\", target_column=demo_dataset.target_column)"
      ]
    },
    {
      "attachments": {},
      "cell_type": "markdown",
      "metadata": {},
      "source": [
        "#### Create ValidMind Models"
      ]
    },
    {
      "cell_type": "code",
      "execution_count": 7,
      "metadata": {},
      "outputs": [],
      "source": [
        "# Initialize model A\n",
        "vm_model_A = vm.init_model(\n",
        "    model = model_A, \n",
        "    train_ds=vm_train_ds_A, \n",
        "    test_ds=vm_test_ds_A)\n",
        "\n",
        "# Initialize model B\n",
        "vm_model_B = vm.init_model(\n",
        "    model = model_B,\n",
        "    train_ds=vm_train_ds_B,\n",
        "    test_ds=vm_test_ds_B)\n",
        "\n",
        "\n",
        "list_of_models = [vm_model_A, vm_model_B]"
      ]
    },
    {
      "attachments": {},
      "cell_type": "markdown",
      "metadata": {},
      "source": [
        "## 4. Model Validation"
      ]
    },
    {
      "attachments": {},
      "cell_type": "markdown",
      "metadata": {},
      "source": [
        "### User Configuration of Test Suite "
      ]
    },
    {
      "attachments": {},
      "cell_type": "markdown",
      "metadata": {},
      "source": [
        "Users can input the configuration to a test suite using **`config`**, allowing fine-tuning the suite according to their specific data requirements. \n",
        "\n",
        "**Time Series Forecast params**\n",
        "- `transformation` specify the desired plotting settings for regression forecast evaluation. In this particular configuration, the chosen transformation is \"integrate.\"\n"
      ]
    },
    {
      "cell_type": "code",
      "execution_count": 8,
      "metadata": {},
      "outputs": [],
      "source": [
        "config= {\n",
        "    \"regression_forecast_plot_levels\": {\n",
        "        \"transformation\": \"integrate\",\n",
        "    },\n",
        "    \"regression_sensitivity_plot\": {\n",
        "        \"transformation\": \"integrate\",\n",
        "        \"shocks\": [0.1, 0.2],\n",
        "    }\n",
        "}"
      ]
    },
    {
      "cell_type": "code",
      "execution_count": 9,
      "metadata": {},
      "outputs": [
        {
          "data": {
            "application/vnd.jupyter.widget-view+json": {
              "model_id": "3c77287556d14a8184146dde20fa2ec4",
              "version_major": 2,
              "version_minor": 0
            },
            "text/plain": [
              "HBox(children=(Label(value='Running test suite...'), IntProgress(value=0, max=12)))"
            ]
          },
          "metadata": {},
          "output_type": "display_data"
        },
        {
          "name": "stderr",
          "output_type": "stream",
          "text": [
            "2023-07-21 17:38:38,142 - INFO(validmind.tests.model_validation.statsmodels.RegressionModelSensitivityPlot): {'transformation': 'integrate', 'shocks': [0.1, 0.2], 'regression_forecast_plot_levels': {'transformation': 'integrate'}}\n",
            "2023-07-21 17:38:38,142 - INFO(validmind.tests.model_validation.statsmodels.RegressionModelSensitivityPlot): {'transformation': 'integrate', 'shocks': [0.1, 0.2], 'regression_forecast_plot_levels': {'transformation': 'integrate'}}\n"
          ]
        },
        {
          "data": {
            "application/vnd.jupyter.widget-view+json": {
              "model_id": "1785185c67ee406197bbfc7ba5feb877",
              "version_major": 2,
              "version_minor": 0
            },
            "text/plain": [
              "VBox(children=(HTML(value='<h2>Test Suite Results: <i style=\"color: #DE257E\">Time Series Model Validation</i><…"
            ]
          },
          "metadata": {},
          "output_type": "display_data"
        }
      ],
      "source": [
        "\n",
        "full_suite = vm.run_test_suite(\n",
        "    \"time_series_model_validation\",\n",
        "    model = vm_model_B,\n",
        "    models = list_of_models,\n",
        "    config = config,\n",
        ")"
      ]
    }
  ],
  "metadata": {
    "kernelspec": {
      "display_name": "dev-framework",
      "language": "python",
      "name": "dev-framework"
    },
    "language_info": {
      "codemirror_mode": {
        "name": "ipython",
        "version": 3
      },
      "file_extension": ".py",
      "mimetype": "text/x-python",
      "name": "python",
      "nbconvert_exporter": "python",
      "pygments_lexer": "ipython3",
      "version": "3.9.6"
    },
    "orig_nbformat": 4
  },
  "nbformat": 4,
  "nbformat_minor": 2
}
