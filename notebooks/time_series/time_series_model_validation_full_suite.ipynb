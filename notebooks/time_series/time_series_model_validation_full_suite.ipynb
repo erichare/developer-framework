{
  "cells": [
    {
      "attachments": {},
      "cell_type": "markdown",
      "metadata": {},
      "source": [
        "# Time Series Model Validation Full Suite"
      ]
    },
    {
      "attachments": {},
      "cell_type": "markdown",
      "metadata": {},
      "source": [
        "## 1. Introduction"
      ]
    },
    {
      "attachments": {},
      "cell_type": "markdown",
      "metadata": {},
      "source": [
        "The Time Series Data Validation Full Suite notebook aims to demonstrate the application of various data validation tests using the **ValidMind MRM Platform** and **Developer Framework**. \n",
        "\n",
        "In this demo, we will use the `time_series_model_validation` **test suite** to run multiple model validation metrics on several pre-trained time series models.  \n",
        "\n"
      ]
    },
    {
      "attachments": {},
      "cell_type": "markdown",
      "metadata": {},
      "source": [
        "## 2. Setup \n",
        "\n",
        "Prepare the environment for our analysis. First, **import** all necessary libraries and modules required for our analysis. Next, **connect** to the ValidMind MRM platform, which provides a comprehensive suite of tools and services for model validation.\n",
        "\n",
        "Finally, define and **configure** the specific use case we are working on by setting up any required parameters, data sources, or other settings that will be used throughout the analysis. "
      ]
    },
    {
      "attachments": {},
      "cell_type": "markdown",
      "metadata": {},
      "source": [
        "### Import Libraries"
      ]
    },
    {
      "cell_type": "code",
      "execution_count": 1,
      "metadata": {},
      "outputs": [],
      "source": [
        "# Load API key and secret from environment variables\n",
        "%load_ext dotenv\n",
        "%dotenv .env\n",
        "\n",
        "# ValidMind libraries \n",
        "import validmind as vm"
      ]
    },
    {
      "attachments": {},
      "cell_type": "markdown",
      "metadata": {},
      "source": [
        "### Connect to the ValidMind Library"
      ]
    },
    {
      "cell_type": "code",
      "execution_count": 2,
      "metadata": {},
      "outputs": [
        {
          "name": "stderr",
          "output_type": "stream",
          "text": [
            "2023-06-09 15:13:15,782 - INFO - api_client - Connected to ValidMind. Project: Test Project (clini39or0000pimzpbf0tqai)\n"
          ]
        }
      ],
      "source": [
        "\n",
        "import validmind as vm\n",
        "\n",
        "vm.init(\n",
        "    api_host = \"http://localhost:3000/api/v1/tracking\",\n",
        "    project = \"clini39or0000pimzpbf0tqai\"\n",
        ")\n",
        "   "
      ]
    },
    {
      "attachments": {},
      "cell_type": "markdown",
      "metadata": {},
      "source": [
        "### Find All Test Suites and Plans Available in the Developer Framework"
      ]
    },
    {
      "attachments": {},
      "cell_type": "markdown",
      "metadata": {},
      "source": [
        "We can find all the **test suites** and **test plans** available in the developer framework by calling the following functions:\n",
        "\n",
        "- All test suites: `vm.test_suites.list_suites()`\n",
        "- All test plans: `vm.test_plans.list_plans()`\n",
        "- Describe a test plan: `vm.test_plans.describe_plan(\"time_series_data_quality\")`\n",
        "- List all available tests: `vm.tests.list_tests()`"
      ]
    },
    {
      "cell_type": "code",
      "execution_count": 3,
      "metadata": {},
      "outputs": [
        {
          "data": {
            "text/html": [
              "<style type=\"text/css\">\n",
              "#T_18273 th {\n",
              "  text-align: left;\n",
              "}\n",
              "#T_18273_row0_col0, #T_18273_row0_col1, #T_18273_row0_col2, #T_18273_row0_col3, #T_18273_row1_col0, #T_18273_row1_col1, #T_18273_row1_col2, #T_18273_row1_col3, #T_18273_row2_col0, #T_18273_row2_col1, #T_18273_row2_col2, #T_18273_row2_col3, #T_18273_row3_col0, #T_18273_row3_col1, #T_18273_row3_col2, #T_18273_row3_col3, #T_18273_row4_col0, #T_18273_row4_col1, #T_18273_row4_col2, #T_18273_row4_col3 {\n",
              "  text-align: left;\n",
              "}\n",
              "</style>\n",
              "<table id=\"T_18273\">\n",
              "  <thead>\n",
              "    <tr>\n",
              "      <th id=\"T_18273_level0_col0\" class=\"col_heading level0 col0\" >ID</th>\n",
              "      <th id=\"T_18273_level0_col1\" class=\"col_heading level0 col1\" >Name</th>\n",
              "      <th id=\"T_18273_level0_col2\" class=\"col_heading level0 col2\" >Description</th>\n",
              "      <th id=\"T_18273_level0_col3\" class=\"col_heading level0 col3\" >Test Plans</th>\n",
              "    </tr>\n",
              "  </thead>\n",
              "  <tbody>\n",
              "    <tr>\n",
              "      <td id=\"T_18273_row0_col0\" class=\"data row0 col0\" >binary_classifier_full_suite</td>\n",
              "      <td id=\"T_18273_row0_col1\" class=\"data row0 col1\" >BinaryClassifierFullSuite</td>\n",
              "      <td id=\"T_18273_row0_col2\" class=\"data row0 col2\" >Full test suite for binary classification models.</td>\n",
              "      <td id=\"T_18273_row0_col3\" class=\"data row0 col3\" >tabular_dataset_description, tabular_data_quality, binary_classifier_metrics, binary_classifier_validation, binary_classifier_model_diagnosis</td>\n",
              "    </tr>\n",
              "    <tr>\n",
              "      <td id=\"T_18273_row1_col0\" class=\"data row1 col0\" >binary_classifier_model_validation</td>\n",
              "      <td id=\"T_18273_row1_col1\" class=\"data row1 col1\" >BinaryClassifierModelValidation</td>\n",
              "      <td id=\"T_18273_row1_col2\" class=\"data row1 col2\" >Test suite for binary classification models.</td>\n",
              "      <td id=\"T_18273_row1_col3\" class=\"data row1 col3\" >binary_classifier_metrics, binary_classifier_validation, binary_classifier_model_diagnosis</td>\n",
              "    </tr>\n",
              "    <tr>\n",
              "      <td id=\"T_18273_row2_col0\" class=\"data row2 col0\" >tabular_dataset</td>\n",
              "      <td id=\"T_18273_row2_col1\" class=\"data row2 col1\" >TabularDataset</td>\n",
              "      <td id=\"T_18273_row2_col2\" class=\"data row2 col2\" >Test suite for tabular datasets.</td>\n",
              "      <td id=\"T_18273_row2_col3\" class=\"data row2 col3\" >tabular_dataset_description, tabular_data_quality</td>\n",
              "    </tr>\n",
              "    <tr>\n",
              "      <td id=\"T_18273_row3_col0\" class=\"data row3 col0\" >time_series_dataset</td>\n",
              "      <td id=\"T_18273_row3_col1\" class=\"data row3 col1\" >TimeSeriesDataset</td>\n",
              "      <td id=\"T_18273_row3_col2\" class=\"data row3 col2\" >Test suite for time series datasets.</td>\n",
              "      <td id=\"T_18273_row3_col3\" class=\"data row3 col3\" >time_series_data_quality, time_series_univariate, time_series_multivariate</td>\n",
              "    </tr>\n",
              "    <tr>\n",
              "      <td id=\"T_18273_row4_col0\" class=\"data row4 col0\" >time_series_model_validation</td>\n",
              "      <td id=\"T_18273_row4_col1\" class=\"data row4 col1\" >TimeSeriesModelValidation</td>\n",
              "      <td id=\"T_18273_row4_col2\" class=\"data row4 col2\" >Test suite for time series model validation.</td>\n",
              "      <td id=\"T_18273_row4_col3\" class=\"data row4 col3\" >regression_model_description, regression_models_evaluation, time_series_forecast, time_series_sensitivity</td>\n",
              "    </tr>\n",
              "  </tbody>\n",
              "</table>\n"
            ],
            "text/plain": [
              "<pandas.io.formats.style.Styler at 0x10321aee0>"
            ]
          },
          "execution_count": 3,
          "metadata": {},
          "output_type": "execute_result"
        }
      ],
      "source": [
        "vm.test_suites.list_suites()"
      ]
    },
    {
      "cell_type": "code",
      "execution_count": 4,
      "metadata": {},
      "outputs": [
        {
          "data": {
            "text/html": [
              "<style type=\"text/css\">\n",
              "#T_9aa83 th {\n",
              "  text-align: left;\n",
              "}\n",
              "#T_9aa83_row0_col0, #T_9aa83_row0_col1, #T_9aa83_row0_col2, #T_9aa83_row1_col0, #T_9aa83_row1_col1, #T_9aa83_row1_col2, #T_9aa83_row2_col0, #T_9aa83_row2_col1, #T_9aa83_row2_col2, #T_9aa83_row3_col0, #T_9aa83_row3_col1, #T_9aa83_row3_col2, #T_9aa83_row4_col0, #T_9aa83_row4_col1, #T_9aa83_row4_col2, #T_9aa83_row5_col0, #T_9aa83_row5_col1, #T_9aa83_row5_col2, #T_9aa83_row6_col0, #T_9aa83_row6_col1, #T_9aa83_row6_col2, #T_9aa83_row7_col0, #T_9aa83_row7_col1, #T_9aa83_row7_col2, #T_9aa83_row8_col0, #T_9aa83_row8_col1, #T_9aa83_row8_col2, #T_9aa83_row9_col0, #T_9aa83_row9_col1, #T_9aa83_row9_col2, #T_9aa83_row10_col0, #T_9aa83_row10_col1, #T_9aa83_row10_col2, #T_9aa83_row11_col0, #T_9aa83_row11_col1, #T_9aa83_row11_col2 {\n",
              "  text-align: left;\n",
              "}\n",
              "</style>\n",
              "<table id=\"T_9aa83\">\n",
              "  <thead>\n",
              "    <tr>\n",
              "      <th id=\"T_9aa83_level0_col0\" class=\"col_heading level0 col0\" >ID</th>\n",
              "      <th id=\"T_9aa83_level0_col1\" class=\"col_heading level0 col1\" >Name</th>\n",
              "      <th id=\"T_9aa83_level0_col2\" class=\"col_heading level0 col2\" >Description</th>\n",
              "    </tr>\n",
              "  </thead>\n",
              "  <tbody>\n",
              "    <tr>\n",
              "      <td id=\"T_9aa83_row0_col0\" class=\"data row0 col0\" >binary_classifier_metrics</td>\n",
              "      <td id=\"T_9aa83_row0_col1\" class=\"data row0 col1\" >BinaryClassifierMetrics</td>\n",
              "      <td id=\"T_9aa83_row0_col2\" class=\"data row0 col2\" >Test plan for sklearn classifier metrics</td>\n",
              "    </tr>\n",
              "    <tr>\n",
              "      <td id=\"T_9aa83_row1_col0\" class=\"data row1 col0\" >binary_classifier_validation</td>\n",
              "      <td id=\"T_9aa83_row1_col1\" class=\"data row1 col1\" >BinaryClassifierPerformance</td>\n",
              "      <td id=\"T_9aa83_row1_col2\" class=\"data row1 col2\" >Test plan for sklearn classifier models</td>\n",
              "    </tr>\n",
              "    <tr>\n",
              "      <td id=\"T_9aa83_row2_col0\" class=\"data row2 col0\" >binary_classifier_model_diagnosis</td>\n",
              "      <td id=\"T_9aa83_row2_col1\" class=\"data row2 col1\" >BinaryClassifierDiagnosis</td>\n",
              "      <td id=\"T_9aa83_row2_col2\" class=\"data row2 col2\" >Test plan for sklearn classifier model diagnosis tests</td>\n",
              "    </tr>\n",
              "    <tr>\n",
              "      <td id=\"T_9aa83_row3_col0\" class=\"data row3 col0\" >tabular_dataset_description</td>\n",
              "      <td id=\"T_9aa83_row3_col1\" class=\"data row3 col1\" >TabularDatasetDescription</td>\n",
              "      <td id=\"T_9aa83_row3_col2\" class=\"data row3 col2\" >Test plan to extract metadata and descriptive\n",
              "    statistics from a tabular dataset</td>\n",
              "    </tr>\n",
              "    <tr>\n",
              "      <td id=\"T_9aa83_row4_col0\" class=\"data row4 col0\" >tabular_data_quality</td>\n",
              "      <td id=\"T_9aa83_row4_col1\" class=\"data row4 col1\" >TabularDataQuality</td>\n",
              "      <td id=\"T_9aa83_row4_col2\" class=\"data row4 col2\" >Test plan for data quality on tabular datasets</td>\n",
              "    </tr>\n",
              "    <tr>\n",
              "      <td id=\"T_9aa83_row5_col0\" class=\"data row5 col0\" >time_series_data_quality</td>\n",
              "      <td id=\"T_9aa83_row5_col1\" class=\"data row5 col1\" >TimeSeriesDataQuality</td>\n",
              "      <td id=\"T_9aa83_row5_col2\" class=\"data row5 col2\" >Test plan for data quality on time series datasets</td>\n",
              "    </tr>\n",
              "    <tr>\n",
              "      <td id=\"T_9aa83_row6_col0\" class=\"data row6 col0\" >time_series_univariate</td>\n",
              "      <td id=\"T_9aa83_row6_col1\" class=\"data row6 col1\" >TimeSeriesUnivariate</td>\n",
              "      <td id=\"T_9aa83_row6_col2\" class=\"data row6 col2\" >Test plan to perform time series univariate analysis.</td>\n",
              "    </tr>\n",
              "    <tr>\n",
              "      <td id=\"T_9aa83_row7_col0\" class=\"data row7 col0\" >time_series_multivariate</td>\n",
              "      <td id=\"T_9aa83_row7_col1\" class=\"data row7 col1\" >TimeSeriesMultivariate</td>\n",
              "      <td id=\"T_9aa83_row7_col2\" class=\"data row7 col2\" >Test plan to perform time series multivariate analysis.</td>\n",
              "    </tr>\n",
              "    <tr>\n",
              "      <td id=\"T_9aa83_row8_col0\" class=\"data row8 col0\" >time_series_forecast</td>\n",
              "      <td id=\"T_9aa83_row8_col1\" class=\"data row8 col1\" >TimeSeriesForecast</td>\n",
              "      <td id=\"T_9aa83_row8_col2\" class=\"data row8 col2\" >Test plan to perform time series forecast tests.</td>\n",
              "    </tr>\n",
              "    <tr>\n",
              "      <td id=\"T_9aa83_row9_col0\" class=\"data row9 col0\" >time_series_sensitivity</td>\n",
              "      <td id=\"T_9aa83_row9_col1\" class=\"data row9 col1\" >TimeSeriesSensitivity</td>\n",
              "      <td id=\"T_9aa83_row9_col2\" class=\"data row9 col2\" >Test plan to perform time series forecast tests.</td>\n",
              "    </tr>\n",
              "    <tr>\n",
              "      <td id=\"T_9aa83_row10_col0\" class=\"data row10 col0\" >regression_model_description</td>\n",
              "      <td id=\"T_9aa83_row10_col1\" class=\"data row10 col1\" >RegressionModelDescription</td>\n",
              "      <td id=\"T_9aa83_row10_col2\" class=\"data row10 col2\" >Test plan for performance metric of regression model of statsmodels library</td>\n",
              "    </tr>\n",
              "    <tr>\n",
              "      <td id=\"T_9aa83_row11_col0\" class=\"data row11 col0\" >regression_models_evaluation</td>\n",
              "      <td id=\"T_9aa83_row11_col1\" class=\"data row11 col1\" >RegressionModelsEvaluation</td>\n",
              "      <td id=\"T_9aa83_row11_col2\" class=\"data row11 col2\" >Test plan for metrics comparison of regression model of statsmodels library</td>\n",
              "    </tr>\n",
              "  </tbody>\n",
              "</table>\n"
            ],
            "text/plain": [
              "<pandas.io.formats.style.Styler at 0x1773830d0>"
            ]
          },
          "execution_count": 4,
          "metadata": {},
          "output_type": "execute_result"
        }
      ],
      "source": [
        "vm.test_plans.list_plans()"
      ]
    },
    {
      "attachments": {},
      "cell_type": "markdown",
      "metadata": {},
      "source": [
        "## 3. Load Models"
      ]
    },
    {
      "attachments": {},
      "cell_type": "markdown",
      "metadata": {},
      "source": [
        "#### Load Pre-Trained Time Series Models"
      ]
    },
    {
      "cell_type": "code",
      "execution_count": 5,
      "metadata": {},
      "outputs": [],
      "source": [
        "# Currently only fred pre-trained models are available\n",
        "from validmind.datasets.regression import fred as demo_dataset\n",
        "model_A, train_df_A, test_df_A = demo_dataset.load_model('fred_loan_rates_model_3')\n",
        "model_B, train_df_B, test_df_B = demo_dataset.load_model('fred_loan_rates_model_4')"
      ]
    },
    {
      "attachments": {},
      "cell_type": "markdown",
      "metadata": {},
      "source": [
        "#### Create ValidMind Datasets"
      ]
    },
    {
      "cell_type": "code",
      "execution_count": 6,
      "metadata": {},
      "outputs": [
        {
          "name": "stderr",
          "output_type": "stream",
          "text": [
            "2023-06-09 15:13:15,889 - INFO - client - Pandas dataset detected. Initializing VM Dataset instance...\n",
            "2023-06-09 15:13:15,890 - INFO - dataset - Inferring dataset types...\n",
            "2023-06-09 15:13:15,895 - INFO - client - Pandas dataset detected. Initializing VM Dataset instance...\n",
            "2023-06-09 15:13:15,896 - INFO - dataset - Inferring dataset types...\n",
            "2023-06-09 15:13:15,900 - INFO - client - Pandas dataset detected. Initializing VM Dataset instance...\n",
            "2023-06-09 15:13:15,901 - INFO - dataset - Inferring dataset types...\n",
            "2023-06-09 15:13:15,906 - INFO - client - Pandas dataset detected. Initializing VM Dataset instance...\n",
            "2023-06-09 15:13:15,908 - INFO - dataset - Inferring dataset types...\n"
          ]
        }
      ],
      "source": [
        "# Initialize training and testing datasets for model A\n",
        "vm_train_ds_A = vm.init_dataset(dataset=train_df_A, type=\"generic\", target_column=demo_dataset.target_column)\n",
        "vm_test_ds_A = vm.init_dataset(dataset=test_df_A, type=\"generic\", target_column=demo_dataset.target_column)\n",
        "\n",
        "# Initialize training and testing datasets for model B\n",
        "vm_train_ds_B = vm.init_dataset(dataset=train_df_B, type=\"generic\", target_column=demo_dataset.target_column)\n",
        "vm_test_ds_B = vm.init_dataset(dataset=test_df_B, type=\"generic\", target_column=demo_dataset.target_column)"
      ]
    },
    {
      "attachments": {},
      "cell_type": "markdown",
      "metadata": {},
      "source": [
        "#### Create ValidMind Models"
      ]
    },
    {
      "cell_type": "code",
      "execution_count": 7,
      "metadata": {},
      "outputs": [],
      "source": [
        "# Initialize model A\n",
        "vm_model_A = vm.init_model(\n",
        "    model = model_A, \n",
        "    train_ds=vm_train_ds_A, \n",
        "    test_ds=vm_test_ds_A)\n",
        "\n",
        "# Initialize model B\n",
        "vm_model_B = vm.init_model(\n",
        "    model = model_B,\n",
        "    train_ds=vm_train_ds_B,\n",
        "    test_ds=vm_test_ds_B)\n",
        "\n",
        "\n",
        "list_of_models = [vm_model_A, vm_model_B]"
      ]
    },
    {
      "attachments": {},
      "cell_type": "markdown",
      "metadata": {},
      "source": [
        "## 4. Model Validation"
      ]
    },
    {
      "attachments": {},
      "cell_type": "markdown",
      "metadata": {},
      "source": [
        "### User Configuration of Test Suite "
      ]
    },
    {
      "attachments": {},
      "cell_type": "markdown",
      "metadata": {},
      "source": [
        "Users can input the configuration to a test suite using **`config`**, allowing fine-tuning the suite according to their specific data requirements. \n",
        "\n",
        "**Time Series Forecast params**\n",
        "- `transformation` specify the desired plotting settings for regression forecast evaluation. In this particular configuration, the chosen transformation is \"integrate.\"\n"
      ]
    },
    {
      "cell_type": "code",
      "execution_count": 8,
      "metadata": {},
      "outputs": [],
      "source": [
        "config= {\n",
        "    \"regression_forecast_plot_levels\": {\n",
        "        \"transformation\": \"integrate\",\n",
        "    },\n",
        "    \"regression_sensitivity_plot\": {\n",
        "        \"transformation\": \"integrate\",\n",
        "        \"shocks\": [0.1, 0.2],\n",
        "    }\n",
        "}"
      ]
    },
    {
      "cell_type": "code",
      "execution_count": 9,
      "metadata": {},
      "outputs": [
        {
          "data": {
            "application/vnd.jupyter.widget-view+json": {
              "model_id": "550ebe3d479843d0ac67cd8fda101c4a",
              "version_major": 2,
              "version_minor": 0
            },
            "text/plain": [
              "HBox(children=(Label(value='Running test suite...'), IntProgress(value=0, max=12)))"
            ]
          },
          "metadata": {},
          "output_type": "display_data"
        },
        {
          "name": "stdout",
          "output_type": "stream",
          "text": [
            "dataset_split\n",
            "{}\n",
            "model_metadata\n",
            "{}\n",
            "regression_models_coefficients\n",
            "{}\n",
            "regression_models_performance\n",
            "{}\n",
            "regression_forecast_plot_levels\n",
            "{}\n"
          ]
        },
        {
          "ename": "ValueError",
          "evalue": "wtf",
          "output_type": "error",
          "traceback": [
            "\u001b[0;31m---------------------------------------------------------------------------\u001b[0m",
            "\u001b[0;31mValueError\u001b[0m                                Traceback (most recent call last)",
            "\u001b[0;32m/var/folders/_f/2x5khtk93r11vk44bzpgkvhr0000gp/T/ipykernel_2564/2947534422.py\u001b[0m in \u001b[0;36m<cell line: 1>\u001b[0;34m()\u001b[0m\n\u001b[0;32m----> 1\u001b[0;31m full_suite = vm.run_test_suite(\n\u001b[0m\u001b[1;32m      2\u001b[0m     \u001b[0;34m\"time_series_model_validation\"\u001b[0m\u001b[0;34m,\u001b[0m\u001b[0;34m\u001b[0m\u001b[0;34m\u001b[0m\u001b[0m\n\u001b[1;32m      3\u001b[0m     \u001b[0mmodel\u001b[0m \u001b[0;34m=\u001b[0m \u001b[0mvm_model_B\u001b[0m\u001b[0;34m,\u001b[0m\u001b[0;34m\u001b[0m\u001b[0;34m\u001b[0m\u001b[0m\n\u001b[1;32m      4\u001b[0m     \u001b[0mmodels\u001b[0m \u001b[0;34m=\u001b[0m \u001b[0mlist_of_models\u001b[0m\u001b[0;34m,\u001b[0m\u001b[0;34m\u001b[0m\u001b[0;34m\u001b[0m\u001b[0m\n\u001b[1;32m      5\u001b[0m     \u001b[0mconfig\u001b[0m \u001b[0;34m=\u001b[0m \u001b[0mconfig\u001b[0m\u001b[0;34m,\u001b[0m\u001b[0;34m\u001b[0m\u001b[0;34m\u001b[0m\u001b[0m\n",
            "\u001b[0;32m~/Code/ValidMind/validmind-python/validmind/client.py\u001b[0m in \u001b[0;36mrun_test_suite\u001b[0;34m(test_suite_name, send, **kwargs)\u001b[0m\n\u001b[1;32m    258\u001b[0m         )\n\u001b[1;32m    259\u001b[0m \u001b[0;34m\u001b[0m\u001b[0m\n\u001b[0;32m--> 260\u001b[0;31m     \u001b[0msuite\u001b[0m\u001b[0;34m.\u001b[0m\u001b[0mrun\u001b[0m\u001b[0;34m(\u001b[0m\u001b[0msend\u001b[0m\u001b[0;34m=\u001b[0m\u001b[0msend\u001b[0m\u001b[0;34m)\u001b[0m\u001b[0;34m\u001b[0m\u001b[0;34m\u001b[0m\u001b[0m\n\u001b[0m\u001b[1;32m    261\u001b[0m \u001b[0;34m\u001b[0m\u001b[0m\n\u001b[1;32m    262\u001b[0m     \u001b[0;32mreturn\u001b[0m \u001b[0msuite\u001b[0m\u001b[0;34m\u001b[0m\u001b[0;34m\u001b[0m\u001b[0m\n",
            "\u001b[0;32m~/Code/ValidMind/validmind-python/validmind/vm_models/test_suite.py\u001b[0m in \u001b[0;36mrun\u001b[0;34m(self, send)\u001b[0m\n\u001b[1;32m     93\u001b[0m \u001b[0;34m\u001b[0m\u001b[0m\n\u001b[1;32m     94\u001b[0m         \u001b[0;32mfor\u001b[0m \u001b[0mtest_plan\u001b[0m \u001b[0;32min\u001b[0m \u001b[0mself\u001b[0m\u001b[0;34m.\u001b[0m\u001b[0m_test_plan_instances\u001b[0m\u001b[0;34m:\u001b[0m\u001b[0;34m\u001b[0m\u001b[0;34m\u001b[0m\u001b[0m\n\u001b[0;32m---> 95\u001b[0;31m             \u001b[0mtest_plan\u001b[0m\u001b[0;34m.\u001b[0m\u001b[0mrun\u001b[0m\u001b[0;34m(\u001b[0m\u001b[0mrender_summary\u001b[0m\u001b[0;34m=\u001b[0m\u001b[0;32mFalse\u001b[0m\u001b[0;34m,\u001b[0m \u001b[0msend\u001b[0m\u001b[0;34m=\u001b[0m\u001b[0msend\u001b[0m\u001b[0;34m)\u001b[0m\u001b[0;34m\u001b[0m\u001b[0;34m\u001b[0m\u001b[0m\n\u001b[0m\u001b[1;32m     96\u001b[0m \u001b[0;34m\u001b[0m\u001b[0m\n\u001b[1;32m     97\u001b[0m         \u001b[0mself\u001b[0m\u001b[0;34m.\u001b[0m\u001b[0msummarize\u001b[0m\u001b[0;34m(\u001b[0m\u001b[0;34m)\u001b[0m\u001b[0;34m\u001b[0m\u001b[0;34m\u001b[0m\u001b[0m\n",
            "\u001b[0;32m~/Code/ValidMind/validmind-python/validmind/vm_models/test_plan.py\u001b[0m in \u001b[0;36mrun\u001b[0;34m(self, render_summary, send)\u001b[0m\n\u001b[1;32m    207\u001b[0m \u001b[0;34m\u001b[0m\u001b[0m\n\u001b[1;32m    208\u001b[0m             \u001b[0;31m# run the test and log the performance if LOG_LEVEL is set to DEBUG\u001b[0m\u001b[0;34m\u001b[0m\u001b[0;34m\u001b[0m\u001b[0;34m\u001b[0m\u001b[0m\n\u001b[0;32m--> 209\u001b[0;31m             log_performance(\n\u001b[0m\u001b[1;32m    210\u001b[0m                 \u001b[0mtest_instance\u001b[0m\u001b[0;34m.\u001b[0m\u001b[0mrun\u001b[0m\u001b[0;34m,\u001b[0m\u001b[0;34m\u001b[0m\u001b[0;34m\u001b[0m\u001b[0m\n\u001b[1;32m    211\u001b[0m                 \u001b[0mtest_instance\u001b[0m\u001b[0;34m.\u001b[0m\u001b[0mname\u001b[0m\u001b[0;34m,\u001b[0m\u001b[0;34m\u001b[0m\u001b[0;34m\u001b[0m\u001b[0m\n",
            "\u001b[0;32m~/Code/ValidMind/validmind-python/validmind/tests/model_validation/statsmodels/metrics/RegressionModelForecastPlotLevels.py\u001b[0m in \u001b[0;36mrun\u001b[0;34m(self)\u001b[0m\n\u001b[1;32m     26\u001b[0m     \u001b[0;32mdef\u001b[0m \u001b[0mrun\u001b[0m\u001b[0;34m(\u001b[0m\u001b[0mself\u001b[0m\u001b[0;34m)\u001b[0m\u001b[0;34m:\u001b[0m\u001b[0;34m\u001b[0m\u001b[0;34m\u001b[0m\u001b[0m\n\u001b[1;32m     27\u001b[0m         \u001b[0;32mif\u001b[0m \u001b[0mself\u001b[0m\u001b[0;34m.\u001b[0m\u001b[0mparams\u001b[0m\u001b[0;34m[\u001b[0m\u001b[0;34m\"transformation\"\u001b[0m\u001b[0;34m]\u001b[0m \u001b[0;32mis\u001b[0m \u001b[0;32mNone\u001b[0m\u001b[0;34m:\u001b[0m\u001b[0;34m\u001b[0m\u001b[0;34m\u001b[0m\u001b[0m\n\u001b[0;32m---> 28\u001b[0;31m             \u001b[0;32mraise\u001b[0m \u001b[0mValueError\u001b[0m\u001b[0;34m(\u001b[0m\u001b[0;34m\"wtf\"\u001b[0m\u001b[0;34m)\u001b[0m\u001b[0;34m\u001b[0m\u001b[0;34m\u001b[0m\u001b[0m\n\u001b[0m\u001b[1;32m     29\u001b[0m \u001b[0;34m\u001b[0m\u001b[0m\n\u001b[1;32m     30\u001b[0m         \u001b[0mtransformation\u001b[0m \u001b[0;34m=\u001b[0m \u001b[0mself\u001b[0m\u001b[0;34m.\u001b[0m\u001b[0mparams\u001b[0m\u001b[0;34m[\u001b[0m\u001b[0;34m\"transformation\"\u001b[0m\u001b[0;34m]\u001b[0m\u001b[0;34m\u001b[0m\u001b[0;34m\u001b[0m\u001b[0m\n",
            "\u001b[0;31mValueError\u001b[0m: wtf"
          ]
        }
      ],
      "source": [
        "\n",
        "full_suite = vm.run_test_suite(\n",
        "    \"time_series_model_validation\",\n",
        "    model = vm_model_B,\n",
        "    models = list_of_models,\n",
        "    config = config,\n",
        ")"
      ]
    }
  ],
  "metadata": {
    "kernelspec": {
      "display_name": "validmind-eEL8LtKG-py3.10",
      "language": "python",
      "name": "python3"
    },
    "language_info": {
      "codemirror_mode": {
        "name": "ipython",
        "version": 3
      },
      "file_extension": ".py",
      "mimetype": "text/x-python",
      "name": "python",
      "nbconvert_exporter": "python",
      "pygments_lexer": "ipython3",
      "version": "3.9.6"
    },
    "orig_nbformat": 4
  },
  "nbformat": 4,
  "nbformat_minor": 2
}
