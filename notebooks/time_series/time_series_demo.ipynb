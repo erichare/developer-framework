{
 "cells": [
  {
   "cell_type": "markdown",
   "metadata": {},
   "source": [
    "# Time Series Test Plan Demo"
   ]
  },
  {
   "cell_type": "code",
   "execution_count": 1,
   "metadata": {
    "tags": []
   },
   "outputs": [],
   "source": [
    "# This environment variable can be set to silence the summarized output of test results, for testing purposes.\n",
    "#\n",
    "# %env VM_SUMMARIZE_TEST_PLANS = False\n",
    "\n",
    "import pandas as pd"
   ]
  },
  {
   "cell_type": "code",
   "execution_count": 2,
   "metadata": {
    "tags": []
   },
   "outputs": [
    {
     "name": "stdout",
     "output_type": "stream",
     "text": [
      "Connected to ValidMind. Project: Customer Churn Model - Initial Validation (clhqxa93500vh0i8hxz2gfzzo)\n"
     ]
    }
   ],
   "source": [
    "import dotenv\n",
    "dotenv.load_dotenv()\n",
    "\n",
    "import validmind as vm\n",
    "\n",
    "vm.init(\n",
    "    api_host=\"http://localhost:5000/api/v1/tracking\",\n",
    "    api_key=\"e22b89a6b9c2a27da47cb0a09febc001\",\n",
    "    api_secret=\"a61be901b5596e3c528d94231e4a3c504ef0bb803d16815f8dfd6857fac03e57\",\n",
    "    project=\"clhqxa93500vh0i8hxz2gfzzo\",\n",
    ")"
   ]
  },
  {
   "cell_type": "code",
   "execution_count": 3,
   "metadata": {
    "tags": []
   },
   "outputs": [],
   "source": [
    "df = pd.read_csv(\"../datasets/lending_club_loan_rates.csv\")"
   ]
  },
  {
   "cell_type": "code",
   "execution_count": 4,
   "metadata": {
    "tags": []
   },
   "outputs": [
    {
     "data": {
      "text/html": [
       "<div>\n",
       "<style scoped>\n",
       "    .dataframe tbody tr th:only-of-type {\n",
       "        vertical-align: middle;\n",
       "    }\n",
       "\n",
       "    .dataframe tbody tr th {\n",
       "        vertical-align: top;\n",
       "    }\n",
       "\n",
       "    .dataframe thead th {\n",
       "        text-align: right;\n",
       "    }\n",
       "</style>\n",
       "<table border=\"1\" class=\"dataframe\">\n",
       "  <thead>\n",
       "    <tr style=\"text-align: right;\">\n",
       "      <th></th>\n",
       "      <th>DATE</th>\n",
       "      <th>loan_rate_A</th>\n",
       "      <th>loan_rate_B</th>\n",
       "      <th>loan_rate_C</th>\n",
       "      <th>loan_rate_D</th>\n",
       "    </tr>\n",
       "  </thead>\n",
       "  <tbody>\n",
       "    <tr>\n",
       "      <th>0</th>\n",
       "      <td>2007-08-01</td>\n",
       "      <td>7.766667</td>\n",
       "      <td>9.497692</td>\n",
       "      <td>10.947500</td>\n",
       "      <td>12.267000</td>\n",
       "    </tr>\n",
       "    <tr>\n",
       "      <th>1</th>\n",
       "      <td>2007-09-01</td>\n",
       "      <td>7.841429</td>\n",
       "      <td>9.276667</td>\n",
       "      <td>10.829167</td>\n",
       "      <td>12.436667</td>\n",
       "    </tr>\n",
       "    <tr>\n",
       "      <th>2</th>\n",
       "      <td>2007-10-01</td>\n",
       "      <td>7.830000</td>\n",
       "      <td>9.433333</td>\n",
       "      <td>10.825926</td>\n",
       "      <td>12.737368</td>\n",
       "    </tr>\n",
       "    <tr>\n",
       "      <th>3</th>\n",
       "      <td>2007-11-01</td>\n",
       "      <td>7.779091</td>\n",
       "      <td>9.467778</td>\n",
       "      <td>10.967037</td>\n",
       "      <td>12.609444</td>\n",
       "    </tr>\n",
       "    <tr>\n",
       "      <th>4</th>\n",
       "      <td>2007-12-01</td>\n",
       "      <td>7.695833</td>\n",
       "      <td>9.387500</td>\n",
       "      <td>10.805000</td>\n",
       "      <td>12.478889</td>\n",
       "    </tr>\n",
       "  </tbody>\n",
       "</table>\n",
       "</div>"
      ],
      "text/plain": [
       "         DATE  loan_rate_A  loan_rate_B  loan_rate_C  loan_rate_D\n",
       "0  2007-08-01     7.766667     9.497692    10.947500    12.267000\n",
       "1  2007-09-01     7.841429     9.276667    10.829167    12.436667\n",
       "2  2007-10-01     7.830000     9.433333    10.825926    12.737368\n",
       "3  2007-11-01     7.779091     9.467778    10.967037    12.609444\n",
       "4  2007-12-01     7.695833     9.387500    10.805000    12.478889"
      ]
     },
     "execution_count": 4,
     "metadata": {},
     "output_type": "execute_result"
    }
   ],
   "source": [
    "df.head()"
   ]
  },
  {
   "cell_type": "code",
   "execution_count": 5,
   "metadata": {
    "tags": []
   },
   "outputs": [
    {
     "data": {
      "text/html": [
       "<div>\n",
       "<style scoped>\n",
       "    .dataframe tbody tr th:only-of-type {\n",
       "        vertical-align: middle;\n",
       "    }\n",
       "\n",
       "    .dataframe tbody tr th {\n",
       "        vertical-align: top;\n",
       "    }\n",
       "\n",
       "    .dataframe thead th {\n",
       "        text-align: right;\n",
       "    }\n",
       "</style>\n",
       "<table border=\"1\" class=\"dataframe\">\n",
       "  <thead>\n",
       "    <tr style=\"text-align: right;\">\n",
       "      <th></th>\n",
       "      <th>loan_rate_A</th>\n",
       "      <th>loan_rate_B</th>\n",
       "      <th>loan_rate_C</th>\n",
       "      <th>loan_rate_D</th>\n",
       "    </tr>\n",
       "    <tr>\n",
       "      <th>DATE</th>\n",
       "      <th></th>\n",
       "      <th></th>\n",
       "      <th></th>\n",
       "      <th></th>\n",
       "    </tr>\n",
       "  </thead>\n",
       "  <tbody>\n",
       "    <tr>\n",
       "      <th>2007-08-01</th>\n",
       "      <td>7.766667</td>\n",
       "      <td>9.497692</td>\n",
       "      <td>10.947500</td>\n",
       "      <td>12.267000</td>\n",
       "    </tr>\n",
       "    <tr>\n",
       "      <th>2007-09-01</th>\n",
       "      <td>7.841429</td>\n",
       "      <td>9.276667</td>\n",
       "      <td>10.829167</td>\n",
       "      <td>12.436667</td>\n",
       "    </tr>\n",
       "    <tr>\n",
       "      <th>2007-10-01</th>\n",
       "      <td>7.830000</td>\n",
       "      <td>9.433333</td>\n",
       "      <td>10.825926</td>\n",
       "      <td>12.737368</td>\n",
       "    </tr>\n",
       "    <tr>\n",
       "      <th>2007-11-01</th>\n",
       "      <td>7.779091</td>\n",
       "      <td>9.467778</td>\n",
       "      <td>10.967037</td>\n",
       "      <td>12.609444</td>\n",
       "    </tr>\n",
       "    <tr>\n",
       "      <th>2007-12-01</th>\n",
       "      <td>7.695833</td>\n",
       "      <td>9.387500</td>\n",
       "      <td>10.805000</td>\n",
       "      <td>12.478889</td>\n",
       "    </tr>\n",
       "    <tr>\n",
       "      <th>...</th>\n",
       "      <td>...</td>\n",
       "      <td>...</td>\n",
       "      <td>...</td>\n",
       "      <td>...</td>\n",
       "    </tr>\n",
       "    <tr>\n",
       "      <th>2018-08-01</th>\n",
       "      <td>7.218997</td>\n",
       "      <td>11.161286</td>\n",
       "      <td>15.142618</td>\n",
       "      <td>19.857603</td>\n",
       "    </tr>\n",
       "    <tr>\n",
       "      <th>2018-09-01</th>\n",
       "      <td>7.201281</td>\n",
       "      <td>11.191918</td>\n",
       "      <td>15.139769</td>\n",
       "      <td>19.748459</td>\n",
       "    </tr>\n",
       "    <tr>\n",
       "      <th>2018-10-01</th>\n",
       "      <td>7.228498</td>\n",
       "      <td>11.208418</td>\n",
       "      <td>15.129105</td>\n",
       "      <td>19.792163</td>\n",
       "    </tr>\n",
       "    <tr>\n",
       "      <th>2018-11-01</th>\n",
       "      <td>7.536897</td>\n",
       "      <td>11.390483</td>\n",
       "      <td>15.126869</td>\n",
       "      <td>19.632697</td>\n",
       "    </tr>\n",
       "    <tr>\n",
       "      <th>2018-12-01</th>\n",
       "      <td>7.715209</td>\n",
       "      <td>11.459631</td>\n",
       "      <td>15.107476</td>\n",
       "      <td>19.558346</td>\n",
       "    </tr>\n",
       "  </tbody>\n",
       "</table>\n",
       "<p>137 rows × 4 columns</p>\n",
       "</div>"
      ],
      "text/plain": [
       "            loan_rate_A  loan_rate_B  loan_rate_C  loan_rate_D\n",
       "DATE                                                          \n",
       "2007-08-01     7.766667     9.497692    10.947500    12.267000\n",
       "2007-09-01     7.841429     9.276667    10.829167    12.436667\n",
       "2007-10-01     7.830000     9.433333    10.825926    12.737368\n",
       "2007-11-01     7.779091     9.467778    10.967037    12.609444\n",
       "2007-12-01     7.695833     9.387500    10.805000    12.478889\n",
       "...                 ...          ...          ...          ...\n",
       "2018-08-01     7.218997    11.161286    15.142618    19.857603\n",
       "2018-09-01     7.201281    11.191918    15.139769    19.748459\n",
       "2018-10-01     7.228498    11.208418    15.129105    19.792163\n",
       "2018-11-01     7.536897    11.390483    15.126869    19.632697\n",
       "2018-12-01     7.715209    11.459631    15.107476    19.558346\n",
       "\n",
       "[137 rows x 4 columns]"
      ]
     },
     "execution_count": 5,
     "metadata": {},
     "output_type": "execute_result"
    }
   ],
   "source": [
    "df = df.rename(columns={'Unnamed: 0': 'DATE'})\n",
    "df = df.set_index(pd.to_datetime(df['DATE']))\n",
    "df.drop([\"DATE\"], axis=1, inplace=True)\n",
    "df"
   ]
  },
  {
   "cell_type": "code",
   "execution_count": 6,
   "metadata": {
    "tags": []
   },
   "outputs": [
    {
     "name": "stdout",
     "output_type": "stream",
     "text": [
      "Pandas dataset detected. Initializing VM Dataset instance...\n",
      "Inferring dataset types...\n"
     ]
    }
   ],
   "source": [
    "vm_dataset = vm.init_dataset(\n",
    "    dataset=df\n",
    ")"
   ]
  },
  {
   "cell_type": "code",
   "execution_count": 7,
   "metadata": {
    "tags": []
   },
   "outputs": [
    {
     "data": {
      "text/html": [
       "<style type=\"text/css\">\n",
       "</style>\n",
       "<table id=\"T_4b158\">\n",
       "  <thead>\n",
       "    <tr>\n",
       "      <th id=\"T_4b158_level0_col0\" class=\"col_heading level0 col0\" >ID</th>\n",
       "      <th id=\"T_4b158_level0_col1\" class=\"col_heading level0 col1\" >Name</th>\n",
       "      <th id=\"T_4b158_level0_col2\" class=\"col_heading level0 col2\" >Description</th>\n",
       "    </tr>\n",
       "  </thead>\n",
       "  <tbody>\n",
       "    <tr>\n",
       "      <td id=\"T_4b158_row0_col0\" class=\"data row0 col0\" >binary_classifier_metrics</td>\n",
       "      <td id=\"T_4b158_row0_col1\" class=\"data row0 col1\" >BinaryClassifierMetrics</td>\n",
       "      <td id=\"T_4b158_row0_col2\" class=\"data row0 col2\" >Test plan for sklearn classifier metrics</td>\n",
       "    </tr>\n",
       "    <tr>\n",
       "      <td id=\"T_4b158_row1_col0\" class=\"data row1 col0\" >binary_classifier_validation</td>\n",
       "      <td id=\"T_4b158_row1_col1\" class=\"data row1 col1\" >BinaryClassifierPerformance</td>\n",
       "      <td id=\"T_4b158_row1_col2\" class=\"data row1 col2\" >Test plan for sklearn classifier models</td>\n",
       "    </tr>\n",
       "    <tr>\n",
       "      <td id=\"T_4b158_row2_col0\" class=\"data row2 col0\" >binary_classifier_model_diagnosis</td>\n",
       "      <td id=\"T_4b158_row2_col1\" class=\"data row2 col1\" >BinaryClassifierDiagnosis</td>\n",
       "      <td id=\"T_4b158_row2_col2\" class=\"data row2 col2\" >Test plan for sklearn classifier model diagnosis tests</td>\n",
       "    </tr>\n",
       "    <tr>\n",
       "      <td id=\"T_4b158_row3_col0\" class=\"data row3 col0\" >tabular_dataset_description</td>\n",
       "      <td id=\"T_4b158_row3_col1\" class=\"data row3 col1\" >TabularDatasetDescription</td>\n",
       "      <td id=\"T_4b158_row3_col2\" class=\"data row3 col2\" >Test plan to extract metadata and descriptive\n",
       "    statistics from a tabular dataset</td>\n",
       "    </tr>\n",
       "    <tr>\n",
       "      <td id=\"T_4b158_row4_col0\" class=\"data row4 col0\" >tabular_data_quality</td>\n",
       "      <td id=\"T_4b158_row4_col1\" class=\"data row4 col1\" >TabularDataQuality</td>\n",
       "      <td id=\"T_4b158_row4_col2\" class=\"data row4 col2\" >Test plan for data quality on tabular datasets</td>\n",
       "    </tr>\n",
       "    <tr>\n",
       "      <td id=\"T_4b158_row5_col0\" class=\"data row5 col0\" >time_series_data_quality</td>\n",
       "      <td id=\"T_4b158_row5_col1\" class=\"data row5 col1\" >TimeSeriesDataQuality</td>\n",
       "      <td id=\"T_4b158_row5_col2\" class=\"data row5 col2\" >Test plan for data quality on time series datasets</td>\n",
       "    </tr>\n",
       "    <tr>\n",
       "      <td id=\"T_4b158_row6_col0\" class=\"data row6 col0\" >time_series_univariate</td>\n",
       "      <td id=\"T_4b158_row6_col1\" class=\"data row6 col1\" >TimeSeriesUnivariate</td>\n",
       "      <td id=\"T_4b158_row6_col2\" class=\"data row6 col2\" >Test plan to perform time series univariate analysis.</td>\n",
       "    </tr>\n",
       "    <tr>\n",
       "      <td id=\"T_4b158_row7_col0\" class=\"data row7 col0\" >time_series_multivariate</td>\n",
       "      <td id=\"T_4b158_row7_col1\" class=\"data row7 col1\" >TimeSeriesMultivariate</td>\n",
       "      <td id=\"T_4b158_row7_col2\" class=\"data row7 col2\" >Test plan to perform time series multivariate analysis.</td>\n",
       "    </tr>\n",
       "    <tr>\n",
       "      <td id=\"T_4b158_row8_col0\" class=\"data row8 col0\" >time_series_forecast</td>\n",
       "      <td id=\"T_4b158_row8_col1\" class=\"data row8 col1\" >TimeSeriesForecast</td>\n",
       "      <td id=\"T_4b158_row8_col2\" class=\"data row8 col2\" >Test plan to perform time series forecast tests.</td>\n",
       "    </tr>\n",
       "    <tr>\n",
       "      <td id=\"T_4b158_row9_col0\" class=\"data row9 col0\" >regression_model_description</td>\n",
       "      <td id=\"T_4b158_row9_col1\" class=\"data row9 col1\" >RegressionModelDescription</td>\n",
       "      <td id=\"T_4b158_row9_col2\" class=\"data row9 col2\" >Test plan for performance metric of regression model of statsmodels library</td>\n",
       "    </tr>\n",
       "    <tr>\n",
       "      <td id=\"T_4b158_row10_col0\" class=\"data row10 col0\" >regression_models_evaluation</td>\n",
       "      <td id=\"T_4b158_row10_col1\" class=\"data row10 col1\" >RegressionModelsEvaluation</td>\n",
       "      <td id=\"T_4b158_row10_col2\" class=\"data row10 col2\" >Test plan for metrics comparison of regression model of statsmodels library</td>\n",
       "    </tr>\n",
       "  </tbody>\n",
       "</table>\n"
      ],
      "text/plain": [
       "<pandas.io.formats.style.Styler at 0x28f952640>"
      ]
     },
     "execution_count": 7,
     "metadata": {},
     "output_type": "execute_result"
    }
   ],
   "source": [
    "vm.test_plans.list_plans()"
   ]
  },
  {
   "cell_type": "code",
   "execution_count": 8,
   "metadata": {},
   "outputs": [
    {
     "data": {
      "text/html": [
       "<style type=\"text/css\">\n",
       "</style>\n",
       "<table id=\"T_991b6\">\n",
       "  <thead>\n",
       "    <tr>\n",
       "      <th id=\"T_991b6_level0_col0\" class=\"col_heading level0 col0\" >ID</th>\n",
       "      <th id=\"T_991b6_level0_col1\" class=\"col_heading level0 col1\" >Name</th>\n",
       "      <th id=\"T_991b6_level0_col2\" class=\"col_heading level0 col2\" >Description</th>\n",
       "      <th id=\"T_991b6_level0_col3\" class=\"col_heading level0 col3\" >Required Context</th>\n",
       "      <th id=\"T_991b6_level0_col4\" class=\"col_heading level0 col4\" >Tests</th>\n",
       "    </tr>\n",
       "  </thead>\n",
       "  <tbody>\n",
       "    <tr>\n",
       "      <td id=\"T_991b6_row0_col0\" class=\"data row0 col0\" >time_series_univariate</td>\n",
       "      <td id=\"T_991b6_row0_col1\" class=\"data row0 col1\" >TimeSeriesUnivariate</td>\n",
       "      <td id=\"T_991b6_row0_col2\" class=\"data row0 col2\" >Test plan to perform time series univariate analysis.</td>\n",
       "      <td id=\"T_991b6_row0_col3\" class=\"data row0 col3\" >dataset</td>\n",
       "      <td id=\"T_991b6_row0_col4\" class=\"data row0 col4\" >TimeSeriesLinePlot (Metric), TimeSeriesHistogram (Metric), ACFandPACFPlot (Metric), SeasonalDecompose (Metric), AutoSeasonality (Metric), AutoStationarity (Metric), RollingStatsPlot (Metric), AutoAR (Metric), AutoMA (Metric)</td>\n",
       "    </tr>\n",
       "  </tbody>\n",
       "</table>\n"
      ],
      "text/plain": [
       "<pandas.io.formats.style.Styler at 0x28fbc2eb0>"
      ]
     },
     "execution_count": 8,
     "metadata": {},
     "output_type": "execute_result"
    }
   ],
   "source": [
    "vm.test_plans.describe_plan(\"time_series_univariate\")"
   ]
  },
  {
   "cell_type": "code",
   "execution_count": 9,
   "metadata": {
    "scrolled": false,
    "tags": []
   },
   "outputs": [
    {
     "data": {
      "application/vnd.jupyter.widget-view+json": {
       "model_id": "f59a8bbd77cb457da4b6c5c3e7886a3f",
       "version_major": 2,
       "version_minor": 0
      },
      "text/plain": [
       "HBox(children=(Label(value='Running test plan...'), IntProgress(value=0, max=18)))"
      ]
     },
     "metadata": {},
     "output_type": "display_data"
    },
    {
     "name": "stderr",
     "output_type": "stream",
     "text": [
      "The default method 'yw' can produce PACF values outside of the [-1,1] interval. After 0.13, the default will change tounadjusted Yule-Walker ('ywm'). You can use this method now by setting method='ywm'.\n"
     ]
    },
    {
     "name": "stdout",
     "output_type": "stream",
     "text": [
      "Frequency of loan_rate_A: MS\n",
      "Frequency of loan_rate_B: MS\n",
      "Frequency of loan_rate_C: MS\n",
      "Frequency of loan_rate_D: MS\n",
      "Warning: loan_rate_A is not stationary. Results may be inaccurate.\n",
      "Warning: loan_rate_C is not stationary. Results may be inaccurate.\n",
      "Warning: loan_rate_D is not stationary. Results may be inaccurate.\n",
      "Warning: loan_rate_A is not stationary. Results may be inaccurate.\n"
     ]
    },
    {
     "name": "stderr",
     "output_type": "stream",
     "text": [
      "No frequency information was provided, so inferred frequency MS will be used.\n",
      "No frequency information was provided, so inferred frequency MS will be used.\n",
      "No frequency information was provided, so inferred frequency MS will be used.\n",
      "No frequency information was provided, so inferred frequency MS will be used.\n",
      "No frequency information was provided, so inferred frequency MS will be used.\n",
      "No frequency information was provided, so inferred frequency MS will be used.\n",
      "No frequency information was provided, so inferred frequency MS will be used.\n",
      "No frequency information was provided, so inferred frequency MS will be used.\n",
      "No frequency information was provided, so inferred frequency MS will be used.\n",
      "No frequency information was provided, so inferred frequency MS will be used.\n",
      "No frequency information was provided, so inferred frequency MS will be used.\n",
      "No frequency information was provided, so inferred frequency MS will be used.\n",
      "No frequency information was provided, so inferred frequency MS will be used.\n",
      "No frequency information was provided, so inferred frequency MS will be used.\n",
      "No frequency information was provided, so inferred frequency MS will be used.\n",
      "No frequency information was provided, so inferred frequency MS will be used.\n",
      "No frequency information was provided, so inferred frequency MS will be used.\n",
      "No frequency information was provided, so inferred frequency MS will be used.\n",
      "No frequency information was provided, so inferred frequency MS will be used.\n",
      "No frequency information was provided, so inferred frequency MS will be used.\n",
      "No frequency information was provided, so inferred frequency MS will be used.\n",
      "No frequency information was provided, so inferred frequency MS will be used.\n",
      "Non-invertible starting MA parameters found. Using zeros as starting parameters.\n",
      "No frequency information was provided, so inferred frequency MS will be used.\n",
      "No frequency information was provided, so inferred frequency MS will be used.\n",
      "No frequency information was provided, so inferred frequency MS will be used.\n",
      "Non-invertible starting MA parameters found. Using zeros as starting parameters.\n",
      "No frequency information was provided, so inferred frequency MS will be used.\n",
      "No frequency information was provided, so inferred frequency MS will be used.\n",
      "No frequency information was provided, so inferred frequency MS will be used.\n",
      "Non-invertible starting MA parameters found. Using zeros as starting parameters.\n",
      "No frequency information was provided, so inferred frequency MS will be used.\n",
      "No frequency information was provided, so inferred frequency MS will be used.\n",
      "No frequency information was provided, so inferred frequency MS will be used.\n",
      "No frequency information was provided, so inferred frequency MS will be used.\n",
      "No frequency information was provided, so inferred frequency MS will be used.\n",
      "No frequency information was provided, so inferred frequency MS will be used.\n",
      "Non-invertible starting MA parameters found. Using zeros as starting parameters.\n",
      "No frequency information was provided, so inferred frequency MS will be used.\n",
      "No frequency information was provided, so inferred frequency MS will be used.\n",
      "No frequency information was provided, so inferred frequency MS will be used.\n",
      "Non-invertible starting MA parameters found. Using zeros as starting parameters.\n",
      "No frequency information was provided, so inferred frequency MS will be used.\n",
      "No frequency information was provided, so inferred frequency MS will be used.\n",
      "No frequency information was provided, so inferred frequency MS will be used.\n",
      "Non-invertible starting MA parameters found. Using zeros as starting parameters.\n",
      "No frequency information was provided, so inferred frequency MS will be used.\n",
      "No frequency information was provided, so inferred frequency MS will be used.\n",
      "No frequency information was provided, so inferred frequency MS will be used.\n",
      "No frequency information was provided, so inferred frequency MS will be used.\n",
      "No frequency information was provided, so inferred frequency MS will be used.\n",
      "No frequency information was provided, so inferred frequency MS will be used.\n",
      "Non-invertible starting MA parameters found. Using zeros as starting parameters.\n",
      "No frequency information was provided, so inferred frequency MS will be used.\n",
      "No frequency information was provided, so inferred frequency MS will be used.\n",
      "No frequency information was provided, so inferred frequency MS will be used.\n",
      "Non-invertible starting MA parameters found. Using zeros as starting parameters.\n",
      "No frequency information was provided, so inferred frequency MS will be used.\n",
      "No frequency information was provided, so inferred frequency MS will be used.\n",
      "No frequency information was provided, so inferred frequency MS will be used.\n",
      "Non-invertible starting MA parameters found. Using zeros as starting parameters.\n",
      "No frequency information was provided, so inferred frequency MS will be used.\n",
      "No frequency information was provided, so inferred frequency MS will be used.\n",
      "No frequency information was provided, so inferred frequency MS will be used.\n",
      "No frequency information was provided, so inferred frequency MS will be used.\n",
      "No frequency information was provided, so inferred frequency MS will be used.\n",
      "No frequency information was provided, so inferred frequency MS will be used.\n",
      "Non-invertible starting MA parameters found. Using zeros as starting parameters.\n"
     ]
    },
    {
     "name": "stdout",
     "output_type": "stream",
     "text": [
      "Warning: loan_rate_C is not stationary. Results may be inaccurate.\n",
      "Warning: loan_rate_D is not stationary. Results may be inaccurate.\n"
     ]
    },
    {
     "name": "stderr",
     "output_type": "stream",
     "text": [
      "No frequency information was provided, so inferred frequency MS will be used.\n",
      "No frequency information was provided, so inferred frequency MS will be used.\n",
      "No frequency information was provided, so inferred frequency MS will be used.\n",
      "Non-invertible starting MA parameters found. Using zeros as starting parameters.\n",
      "No frequency information was provided, so inferred frequency MS will be used.\n",
      "No frequency information was provided, so inferred frequency MS will be used.\n",
      "No frequency information was provided, so inferred frequency MS will be used.\n",
      "Non-invertible starting MA parameters found. Using zeros as starting parameters.\n",
      "Maximum Likelihood optimization failed to converge. Check mle_retvals\n"
     ]
    },
    {
     "data": {
      "application/vnd.jupyter.widget-view+json": {
       "model_id": "c4fd653ae6db4a4896d783ba13e2435c",
       "version_major": 2,
       "version_minor": 0
      },
      "text/plain": [
       "VBox(children=(HTML(value='<h2>Results for <i>Time Series Univariate</i> Test Plan:</h2><hr>'), HTML(value='<d…"
      ]
     },
     "metadata": {},
     "output_type": "display_data"
    }
   ],
   "source": [
    "loan_rate_columns = [\"loan_rate_A\", \"loan_rate_B\", \"loan_rate_C\", \"loan_rate_D\"]\n",
    "\n",
    "test_plan_config = {\n",
    "    \"columns\": loan_rate_columns,\n",
    "    \"seasonal_decompose\": {\"seasonal_model\": \"additive\"},\n",
    "    \"auto_seasonality\": {\"min_period\": 1, \"max_period\": 4},\n",
    "    \"auto_stationarity\": {\"max_order\": 5, \"threshold\": 0.05},\n",
    "    \"rolling_stats_plot\": {\"window_size\": 12},\n",
    "    \"auto_ar\": {\"max_ar_order\": 3},\n",
    "    \"auto_ma\": {\"max_ma_order\": 3},\n",
    "}\n",
    "\n",
    "plan = vm.run_test_plan(\"time_series_univariate\", config=test_plan_config, dataset=vm_dataset)"
   ]
  }
 ],
 "metadata": {
  "kernelspec": {
   "display_name": "Python 3 (ipykernel)",
   "language": "python",
   "name": "python3"
  },
  "language_info": {
   "codemirror_mode": {
    "name": "ipython",
    "version": 3
   },
   "file_extension": ".py",
   "mimetype": "text/x-python",
   "name": "python",
   "nbconvert_exporter": "python",
   "pygments_lexer": "ipython3",
   "version": "3.9.6"
  }
 },
 "nbformat": 4,
 "nbformat_minor": 4
}
