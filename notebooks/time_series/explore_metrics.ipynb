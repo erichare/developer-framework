{
 "cells": [
  {
   "cell_type": "code",
   "execution_count": 10,
   "metadata": {},
   "outputs": [],
   "source": [
    "import pandas as pd\n",
    "from statsmodels.tsa.stattools import adfuller\n",
    "from statsmodels.tsa.stattools import kpss\n",
    "from arch.unitroot import PhillipsPerron\n",
    "from arch.unitroot import ZivotAndrews\n",
    "from arch.unitroot import DFGLS\n",
    "from statsmodels.tsa.seasonal import seasonal_decompose\n",
    "import matplotlib.pyplot as plt\n"
   ]
  },
  {
   "attachments": {},
   "cell_type": "markdown",
   "metadata": {},
   "source": [
    "**Load Data**"
   ]
  },
  {
   "cell_type": "code",
   "execution_count": 6,
   "metadata": {},
   "outputs": [
    {
     "data": {
      "text/html": [
       "<div>\n",
       "<style scoped>\n",
       "    .dataframe tbody tr th:only-of-type {\n",
       "        vertical-align: middle;\n",
       "    }\n",
       "\n",
       "    .dataframe tbody tr th {\n",
       "        vertical-align: top;\n",
       "    }\n",
       "\n",
       "    .dataframe thead th {\n",
       "        text-align: right;\n",
       "    }\n",
       "</style>\n",
       "<table border=\"1\" class=\"dataframe\">\n",
       "  <thead>\n",
       "    <tr style=\"text-align: right;\">\n",
       "      <th></th>\n",
       "      <th>loan_rate_A</th>\n",
       "      <th>loan_rate_B</th>\n",
       "      <th>loan_rate_C</th>\n",
       "      <th>loan_rate_D</th>\n",
       "      <th>FEDFUNDS</th>\n",
       "      <th>diff1_loan_rate_A</th>\n",
       "      <th>diff1_loan_rate_B</th>\n",
       "      <th>diff1_loan_rate_C</th>\n",
       "      <th>diff1_loan_rate_D</th>\n",
       "      <th>diff1_FEDFUNDS</th>\n",
       "      <th>diff2_FEDFUNDS</th>\n",
       "    </tr>\n",
       "    <tr>\n",
       "      <th>Date</th>\n",
       "      <th></th>\n",
       "      <th></th>\n",
       "      <th></th>\n",
       "      <th></th>\n",
       "      <th></th>\n",
       "      <th></th>\n",
       "      <th></th>\n",
       "      <th></th>\n",
       "      <th></th>\n",
       "      <th></th>\n",
       "      <th></th>\n",
       "    </tr>\n",
       "  </thead>\n",
       "  <tbody>\n",
       "    <tr>\n",
       "      <th>2007-08-01</th>\n",
       "      <td>7.766667</td>\n",
       "      <td>9.497692</td>\n",
       "      <td>10.947500</td>\n",
       "      <td>12.267000</td>\n",
       "      <td>5.02</td>\n",
       "      <td>0.060000</td>\n",
       "      <td>0.134359</td>\n",
       "      <td>0.207500</td>\n",
       "      <td>-0.467444</td>\n",
       "      <td>-0.24</td>\n",
       "      <td>-0.25</td>\n",
       "    </tr>\n",
       "    <tr>\n",
       "      <th>2007-09-01</th>\n",
       "      <td>7.841429</td>\n",
       "      <td>9.276667</td>\n",
       "      <td>10.829167</td>\n",
       "      <td>12.436667</td>\n",
       "      <td>4.94</td>\n",
       "      <td>0.074762</td>\n",
       "      <td>-0.221026</td>\n",
       "      <td>-0.118333</td>\n",
       "      <td>0.169667</td>\n",
       "      <td>-0.08</td>\n",
       "      <td>0.16</td>\n",
       "    </tr>\n",
       "    <tr>\n",
       "      <th>2007-10-01</th>\n",
       "      <td>7.830000</td>\n",
       "      <td>9.433333</td>\n",
       "      <td>10.825926</td>\n",
       "      <td>12.737368</td>\n",
       "      <td>4.76</td>\n",
       "      <td>-0.011429</td>\n",
       "      <td>0.156667</td>\n",
       "      <td>-0.003241</td>\n",
       "      <td>0.300702</td>\n",
       "      <td>-0.18</td>\n",
       "      <td>-0.10</td>\n",
       "    </tr>\n",
       "    <tr>\n",
       "      <th>2007-11-01</th>\n",
       "      <td>7.779091</td>\n",
       "      <td>9.467778</td>\n",
       "      <td>10.967037</td>\n",
       "      <td>12.609444</td>\n",
       "      <td>4.49</td>\n",
       "      <td>-0.050909</td>\n",
       "      <td>0.034444</td>\n",
       "      <td>0.141111</td>\n",
       "      <td>-0.127924</td>\n",
       "      <td>-0.27</td>\n",
       "      <td>-0.09</td>\n",
       "    </tr>\n",
       "    <tr>\n",
       "      <th>2007-12-01</th>\n",
       "      <td>7.695833</td>\n",
       "      <td>9.387500</td>\n",
       "      <td>10.805000</td>\n",
       "      <td>12.478889</td>\n",
       "      <td>4.24</td>\n",
       "      <td>-0.083258</td>\n",
       "      <td>-0.080278</td>\n",
       "      <td>-0.162037</td>\n",
       "      <td>-0.130556</td>\n",
       "      <td>-0.25</td>\n",
       "      <td>0.02</td>\n",
       "    </tr>\n",
       "    <tr>\n",
       "      <th>...</th>\n",
       "      <td>...</td>\n",
       "      <td>...</td>\n",
       "      <td>...</td>\n",
       "      <td>...</td>\n",
       "      <td>...</td>\n",
       "      <td>...</td>\n",
       "      <td>...</td>\n",
       "      <td>...</td>\n",
       "      <td>...</td>\n",
       "      <td>...</td>\n",
       "      <td>...</td>\n",
       "    </tr>\n",
       "    <tr>\n",
       "      <th>2018-08-01</th>\n",
       "      <td>7.218997</td>\n",
       "      <td>11.161286</td>\n",
       "      <td>15.142618</td>\n",
       "      <td>19.857603</td>\n",
       "      <td>1.91</td>\n",
       "      <td>0.052118</td>\n",
       "      <td>0.045181</td>\n",
       "      <td>0.056796</td>\n",
       "      <td>0.088167</td>\n",
       "      <td>0.00</td>\n",
       "      <td>-0.09</td>\n",
       "    </tr>\n",
       "    <tr>\n",
       "      <th>2018-09-01</th>\n",
       "      <td>7.201281</td>\n",
       "      <td>11.191918</td>\n",
       "      <td>15.139769</td>\n",
       "      <td>19.748459</td>\n",
       "      <td>1.95</td>\n",
       "      <td>-0.017716</td>\n",
       "      <td>0.030632</td>\n",
       "      <td>-0.002849</td>\n",
       "      <td>-0.109144</td>\n",
       "      <td>0.04</td>\n",
       "      <td>0.04</td>\n",
       "    </tr>\n",
       "    <tr>\n",
       "      <th>2018-10-01</th>\n",
       "      <td>7.228498</td>\n",
       "      <td>11.208418</td>\n",
       "      <td>15.129105</td>\n",
       "      <td>19.792163</td>\n",
       "      <td>2.19</td>\n",
       "      <td>0.027218</td>\n",
       "      <td>0.016500</td>\n",
       "      <td>-0.010665</td>\n",
       "      <td>0.043704</td>\n",
       "      <td>0.24</td>\n",
       "      <td>0.20</td>\n",
       "    </tr>\n",
       "    <tr>\n",
       "      <th>2018-11-01</th>\n",
       "      <td>7.536897</td>\n",
       "      <td>11.390483</td>\n",
       "      <td>15.126869</td>\n",
       "      <td>19.632697</td>\n",
       "      <td>2.20</td>\n",
       "      <td>0.308399</td>\n",
       "      <td>0.182066</td>\n",
       "      <td>-0.002235</td>\n",
       "      <td>-0.159466</td>\n",
       "      <td>0.01</td>\n",
       "      <td>-0.23</td>\n",
       "    </tr>\n",
       "    <tr>\n",
       "      <th>2018-12-01</th>\n",
       "      <td>7.715209</td>\n",
       "      <td>11.459631</td>\n",
       "      <td>15.107476</td>\n",
       "      <td>19.558346</td>\n",
       "      <td>2.27</td>\n",
       "      <td>0.178312</td>\n",
       "      <td>0.069148</td>\n",
       "      <td>-0.019393</td>\n",
       "      <td>-0.074350</td>\n",
       "      <td>0.07</td>\n",
       "      <td>0.06</td>\n",
       "    </tr>\n",
       "  </tbody>\n",
       "</table>\n",
       "<p>137 rows × 11 columns</p>\n",
       "</div>"
      ],
      "text/plain": [
       "            loan_rate_A  loan_rate_B  loan_rate_C  loan_rate_D  FEDFUNDS  \\\n",
       "Date                                                                       \n",
       "2007-08-01     7.766667     9.497692    10.947500    12.267000      5.02   \n",
       "2007-09-01     7.841429     9.276667    10.829167    12.436667      4.94   \n",
       "2007-10-01     7.830000     9.433333    10.825926    12.737368      4.76   \n",
       "2007-11-01     7.779091     9.467778    10.967037    12.609444      4.49   \n",
       "2007-12-01     7.695833     9.387500    10.805000    12.478889      4.24   \n",
       "...                 ...          ...          ...          ...       ...   \n",
       "2018-08-01     7.218997    11.161286    15.142618    19.857603      1.91   \n",
       "2018-09-01     7.201281    11.191918    15.139769    19.748459      1.95   \n",
       "2018-10-01     7.228498    11.208418    15.129105    19.792163      2.19   \n",
       "2018-11-01     7.536897    11.390483    15.126869    19.632697      2.20   \n",
       "2018-12-01     7.715209    11.459631    15.107476    19.558346      2.27   \n",
       "\n",
       "            diff1_loan_rate_A  diff1_loan_rate_B  diff1_loan_rate_C  \\\n",
       "Date                                                                  \n",
       "2007-08-01           0.060000           0.134359           0.207500   \n",
       "2007-09-01           0.074762          -0.221026          -0.118333   \n",
       "2007-10-01          -0.011429           0.156667          -0.003241   \n",
       "2007-11-01          -0.050909           0.034444           0.141111   \n",
       "2007-12-01          -0.083258          -0.080278          -0.162037   \n",
       "...                       ...                ...                ...   \n",
       "2018-08-01           0.052118           0.045181           0.056796   \n",
       "2018-09-01          -0.017716           0.030632          -0.002849   \n",
       "2018-10-01           0.027218           0.016500          -0.010665   \n",
       "2018-11-01           0.308399           0.182066          -0.002235   \n",
       "2018-12-01           0.178312           0.069148          -0.019393   \n",
       "\n",
       "            diff1_loan_rate_D  diff1_FEDFUNDS  diff2_FEDFUNDS  \n",
       "Date                                                           \n",
       "2007-08-01          -0.467444           -0.24           -0.25  \n",
       "2007-09-01           0.169667           -0.08            0.16  \n",
       "2007-10-01           0.300702           -0.18           -0.10  \n",
       "2007-11-01          -0.127924           -0.27           -0.09  \n",
       "2007-12-01          -0.130556           -0.25            0.02  \n",
       "...                       ...             ...             ...  \n",
       "2018-08-01           0.088167            0.00           -0.09  \n",
       "2018-09-01          -0.109144            0.04            0.04  \n",
       "2018-10-01           0.043704            0.24            0.20  \n",
       "2018-11-01          -0.159466            0.01           -0.23  \n",
       "2018-12-01          -0.074350            0.07            0.06  \n",
       "\n",
       "[137 rows x 11 columns]"
      ]
     },
     "execution_count": 6,
     "metadata": {},
     "output_type": "execute_result"
    }
   ],
   "source": [
    "df = pd.read_csv(\"/Users/juanvalidmind/Dev/github/validmind/validmind-python/notebooks/datasets/lending_club_loan_rates.csv\", sep='\\t')\n",
    "df = df.rename(columns={'Unnamed: 0': 'Date'})\n",
    "df = df.set_index(pd.to_datetime(df['Date']))\n",
    "df.drop([\"Date\"], axis=1, inplace=True)\n",
    "df"
   ]
  },
  {
   "cell_type": "code",
   "execution_count": null,
   "metadata": {},
   "outputs": [],
   "source": []
  },
  {
   "attachments": {},
   "cell_type": "markdown",
   "metadata": {},
   "source": [
    "**ADF Metric**"
   ]
  },
  {
   "cell_type": "code",
   "execution_count": 12,
   "metadata": {},
   "outputs": [
    {
     "data": {
      "text/plain": [
       "(-1.917289312690944,\n",
       " 0.32397189281015515,\n",
       " 1,\n",
       " 135,\n",
       " {'1%': -3.479742586699182,\n",
       "  '5%': -2.88319822181578,\n",
       "  '10%': -2.578319684499314},\n",
       " -71.08908853191068)"
      ]
     },
     "execution_count": 12,
     "metadata": {},
     "output_type": "execute_result"
    }
   ],
   "source": [
    "adftest = adfuller(df['loan_rate_A'])\n",
    "adftest"
   ]
  },
  {
   "attachments": {},
   "cell_type": "markdown",
   "metadata": {},
   "source": [
    "**KPSS Metric**"
   ]
  },
  {
   "cell_type": "code",
   "execution_count": 14,
   "metadata": {},
   "outputs": [
    {
     "name": "stderr",
     "output_type": "stream",
     "text": [
      "/Users/juanvalidmind/Library/Caches/pypoetry/virtualenvs/validmind-eEL8LtKG-py3.10/lib/python3.10/site-packages/statsmodels/tsa/stattools.py:2018: InterpolationWarning: The test statistic is outside of the range of p-values available in the\n",
      "look-up table. The actual p-value is smaller than the p-value returned.\n",
      "\n",
      "  warnings.warn(\n"
     ]
    },
    {
     "data": {
      "text/plain": [
       "(1.012356679488042,\n",
       " 0.01,\n",
       " 6,\n",
       " {'10%': 0.347, '5%': 0.463, '2.5%': 0.574, '1%': 0.739})"
      ]
     },
     "execution_count": 14,
     "metadata": {},
     "output_type": "execute_result"
    }
   ],
   "source": [
    "kpsstest = kpss(df['loan_rate_A'])\n",
    "kpsstest"
   ]
  },
  {
   "attachments": {},
   "cell_type": "markdown",
   "metadata": {},
   "source": [
    "**Phillips-Perron (PP) Test**"
   ]
  },
  {
   "cell_type": "code",
   "execution_count": 16,
   "metadata": {},
   "outputs": [
    {
     "data": {
      "text/html": [
       "<table class=\"simpletable\">\n",
       "<caption>Phillips-Perron Test (Z-tau)</caption>\n",
       "<tr>\n",
       "  <td>Test Statistic</td>    <td>-2.027</td>\n",
       "</tr>\n",
       "<tr>\n",
       "  <td>P-value</td>            <td>0.275</td>\n",
       "</tr>\n",
       "<tr>\n",
       "  <td>Lags</td>                  <td>13</td>\n",
       "</tr>\n",
       "</table><br/><br/>Trend: Constant<br/>Critical Values: -3.48 (1%), -2.88 (5%), -2.58 (10%)<br/>Null Hypothesis: The process contains a unit root.<br/>Alternative Hypothesis: The process is weakly stationary."
      ],
      "text/plain": [
       "<class 'arch.unitroot.unitroot.PhillipsPerron'>\n",
       "\"\"\"\n",
       "     Phillips-Perron Test (Z-tau)    \n",
       "=====================================\n",
       "Test Statistic                 -2.027\n",
       "P-value                         0.275\n",
       "Lags                               13\n",
       "-------------------------------------\n",
       "\n",
       "Trend: Constant\n",
       "Critical Values: -3.48 (1%), -2.88 (5%), -2.58 (10%)\n",
       "Null Hypothesis: The process contains a unit root.\n",
       "Alternative Hypothesis: The process is weakly stationary.\n",
       "\"\"\""
      ]
     },
     "execution_count": 16,
     "metadata": {},
     "output_type": "execute_result"
    }
   ],
   "source": [
    "pp = PhillipsPerron(df['loan_rate_A'])\n",
    "pp"
   ]
  },
  {
   "cell_type": "code",
   "execution_count": 23,
   "metadata": {},
   "outputs": [
    {
     "data": {
      "text/plain": [
       "136"
      ]
     },
     "execution_count": 23,
     "metadata": {},
     "output_type": "execute_result"
    }
   ],
   "source": [
    "pp.nobs"
   ]
  },
  {
   "attachments": {},
   "cell_type": "markdown",
   "metadata": {},
   "source": [
    "**Zivot-Andrews Test**"
   ]
  },
  {
   "cell_type": "code",
   "execution_count": 21,
   "metadata": {},
   "outputs": [
    {
     "data": {
      "text/html": [
       "<table class=\"simpletable\">\n",
       "<caption>Zivot-Andrews Results</caption>\n",
       "<tr>\n",
       "  <td>Test Statistic</td>    <td>-3.499</td>\n",
       "</tr>\n",
       "<tr>\n",
       "  <td>P-value</td>            <td>0.680</td>\n",
       "</tr>\n",
       "<tr>\n",
       "  <td>Lags</td>                   <td>1</td>\n",
       "</tr>\n",
       "</table><br/><br/>Trend: Constant<br/>Critical Values: -5.28 (1%), -4.81 (5%), -4.57 (10%)<br/>Null Hypothesis: The process contains a unit root with a single structural break.<br/>Alternative Hypothesis: The process is trend and break stationary."
      ],
      "text/plain": [
       "<class 'arch.unitroot.unitroot.ZivotAndrews'>\n",
       "\"\"\"\n",
       "        Zivot-Andrews Results        \n",
       "=====================================\n",
       "Test Statistic                 -3.499\n",
       "P-value                         0.680\n",
       "Lags                                1\n",
       "-------------------------------------\n",
       "\n",
       "Trend: Constant\n",
       "Critical Values: -5.28 (1%), -4.81 (5%), -4.57 (10%)\n",
       "Null Hypothesis: The process contains a unit root with a single structural break.\n",
       "Alternative Hypothesis: The process is trend and break stationary.\n",
       "\"\"\""
      ]
     },
     "execution_count": 21,
     "metadata": {},
     "output_type": "execute_result"
    }
   ],
   "source": [
    "za = ZivotAndrews(df['loan_rate_A'])\n",
    "za"
   ]
  },
  {
   "cell_type": "code",
   "execution_count": 22,
   "metadata": {},
   "outputs": [
    {
     "data": {
      "text/plain": [
       "137"
      ]
     },
     "execution_count": 22,
     "metadata": {},
     "output_type": "execute_result"
    }
   ],
   "source": [
    "za.nobs"
   ]
  },
  {
   "attachments": {},
   "cell_type": "markdown",
   "metadata": {},
   "source": [
    "**Dickey-Fuller GLS Test**"
   ]
  },
  {
   "cell_type": "code",
   "execution_count": 26,
   "metadata": {},
   "outputs": [
    {
     "data": {
      "text/html": [
       "<table class=\"simpletable\">\n",
       "<caption>Dickey-Fuller GLS Results</caption>\n",
       "<tr>\n",
       "  <td>Test Statistic</td>    <td>-1.798</td>\n",
       "</tr>\n",
       "<tr>\n",
       "  <td>P-value</td>            <td>0.071</td>\n",
       "</tr>\n",
       "<tr>\n",
       "  <td>Lags</td>                   <td>1</td>\n",
       "</tr>\n",
       "</table><br/><br/>Trend: Constant<br/>Critical Values: -2.71 (1%), -2.09 (5%), -1.78 (10%)<br/>Null Hypothesis: The process contains a unit root.<br/>Alternative Hypothesis: The process is weakly stationary."
      ],
      "text/plain": [
       "<class 'arch.unitroot.unitroot.DFGLS'>\n",
       "\"\"\"\n",
       "      Dickey-Fuller GLS Results      \n",
       "=====================================\n",
       "Test Statistic                 -1.798\n",
       "P-value                         0.071\n",
       "Lags                                1\n",
       "-------------------------------------\n",
       "\n",
       "Trend: Constant\n",
       "Critical Values: -2.71 (1%), -2.09 (5%), -1.78 (10%)\n",
       "Null Hypothesis: The process contains a unit root.\n",
       "Alternative Hypothesis: The process is weakly stationary.\n",
       "\"\"\""
      ]
     },
     "execution_count": 26,
     "metadata": {},
     "output_type": "execute_result"
    }
   ],
   "source": [
    "dfgls = DFGLS(df['loan_rate_A'])\n",
    "dfgls\n"
   ]
  },
  {
   "cell_type": "code",
   "execution_count": 27,
   "metadata": {},
   "outputs": [
    {
     "data": {
      "text/plain": [
       "135"
      ]
     },
     "execution_count": 27,
     "metadata": {},
     "output_type": "execute_result"
    }
   ],
   "source": [
    "dfgls.nobs"
   ]
  },
  {
   "attachments": {},
   "cell_type": "markdown",
   "metadata": {},
   "source": [
    "**Seasonal Decomposition** "
   ]
  },
  {
   "cell_type": "code",
   "execution_count": 7,
   "metadata": {},
   "outputs": [
    {
     "data": {
      "text/plain": [
       "<statsmodels.tsa.seasonal.DecomposeResult at 0x17a22ff40>"
      ]
     },
     "execution_count": 7,
     "metadata": {},
     "output_type": "execute_result"
    }
   ],
   "source": [
    "sd = seasonal_decompose(df['loan_rate_A'])\n",
    "sd"
   ]
  },
  {
   "cell_type": "code",
   "execution_count": 13,
   "metadata": {},
   "outputs": [
    {
     "data": {
      "image/png": "[encoded data removed]",
      "text/plain": [
       "<Figure size 640x480 with 1 Axes>"
      ]
     },
     "metadata": {},
     "output_type": "display_data"
    }
   ],
   "source": [
    "fig, ax = plt.subplots()"
   ]
  }
 ],
 "metadata": {
  "kernelspec": {
   "display_name": "validmind-eEL8LtKG-py3.10",
   "language": "python",
   "name": "python3"
  },
  "language_info": {
   "codemirror_mode": {
    "name": "ipython",
    "version": 3
   },
   "file_extension": ".py",
   "mimetype": "text/x-python",
   "name": "python",
   "nbconvert_exporter": "python",
   "pygments_lexer": "ipython3",
   "version": "3.10.9"
  },
  "orig_nbformat": 4,
  "vscode": {
   "interpreter": {
    "hash": "b21d98ca54f89dacaee445b821fe8b10423ba857394a14ffa7d2e783d0348465"
   }
  }
 },
 "nbformat": 4,
 "nbformat_minor": 2
}
