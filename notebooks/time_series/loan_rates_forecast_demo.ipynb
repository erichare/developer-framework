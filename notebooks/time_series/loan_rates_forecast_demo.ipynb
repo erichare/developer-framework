{
 "cells": [
  {
   "attachments": {},
   "cell_type": "markdown",
   "metadata": {},
   "source": [
    "# Mortgage Loan Rates Forecast Model"
   ]
  },
  {
   "attachments": {},
   "cell_type": "markdown",
   "metadata": {},
   "source": [
    "# Data Engineering "
   ]
  },
  {
   "attachments": {},
   "cell_type": "markdown",
   "metadata": {},
   "source": [
    "## Import Libraries"
   ]
  },
  {
   "cell_type": "code",
   "execution_count": 1,
   "metadata": {},
   "outputs": [],
   "source": [
    "# Load API key and secret from environment variables\n",
    "from dotenv import load_dotenv\n",
    "load_dotenv()\n",
    "\n",
    "# System libraries\n",
    "import glob\n",
    "\n",
    "# ML libraries\n",
    "import pandas as pd\n",
    "\n",
    "# ValidMind libraries \n",
    "import validmind as vm\n",
    "\n",
    "# Plotting libraries "
   ]
  },
  {
   "attachments": {},
   "cell_type": "markdown",
   "metadata": {},
   "source": [
    "## Data Collection"
   ]
  },
  {
   "attachments": {},
   "cell_type": "markdown",
   "metadata": {},
   "source": [
    "#### Load FRED Data"
   ]
  },
  {
   "cell_type": "code",
   "execution_count": 2,
   "metadata": {},
   "outputs": [],
   "source": [
    "def merge_fred_csv_files(file_pattern):\n",
    "    # Use glob to find all files matching the specified pattern\n",
    "    file_list = glob.glob(file_pattern)\n",
    "\n",
    "    # Initialize an empty list to store individual DataFrames\n",
    "    dataframes = []\n",
    "\n",
    "    # Iterate through each file in the file list\n",
    "    for file in file_list:\n",
    "        # Read the CSV file into a DataFrame\n",
    "        df = pd.read_csv(file, parse_dates=['DATE'], index_col='DATE')\n",
    "\n",
    "        # Add the DataFrame to the list of DataFrames\n",
    "        dataframes.append(df)\n",
    "\n",
    "    # Merge all the DataFrames in the list into a single DataFrame\n",
    "    merged_df = pd.concat(dataframes, axis=1)\n",
    "\n",
    "    return merged_df"
   ]
  },
  {
   "cell_type": "code",
   "execution_count": 3,
   "metadata": {},
   "outputs": [
    {
     "data": {
      "text/html": [
       "<div>\n",
       "<style scoped>\n",
       "    .dataframe tbody tr th:only-of-type {\n",
       "        vertical-align: middle;\n",
       "    }\n",
       "\n",
       "    .dataframe tbody tr th {\n",
       "        vertical-align: top;\n",
       "    }\n",
       "\n",
       "    .dataframe thead th {\n",
       "        text-align: right;\n",
       "    }\n",
       "</style>\n",
       "<table border=\"1\" class=\"dataframe\">\n",
       "  <thead>\n",
       "    <tr style=\"text-align: right;\">\n",
       "      <th></th>\n",
       "      <th>GDPC1</th>\n",
       "      <th>GS5</th>\n",
       "      <th>GS10</th>\n",
       "      <th>GS3</th>\n",
       "      <th>MORTGAGE30US</th>\n",
       "      <th>UNRATE</th>\n",
       "      <th>CPIAUCSL</th>\n",
       "      <th>FEDFUNDS</th>\n",
       "      <th>GDP</th>\n",
       "    </tr>\n",
       "    <tr>\n",
       "      <th>DATE</th>\n",
       "      <th></th>\n",
       "      <th></th>\n",
       "      <th></th>\n",
       "      <th></th>\n",
       "      <th></th>\n",
       "      <th></th>\n",
       "      <th></th>\n",
       "      <th></th>\n",
       "      <th></th>\n",
       "    </tr>\n",
       "  </thead>\n",
       "  <tbody>\n",
       "    <tr>\n",
       "      <th>1947-01-01</th>\n",
       "      <td>2034.450</td>\n",
       "      <td>NaN</td>\n",
       "      <td>NaN</td>\n",
       "      <td>NaN</td>\n",
       "      <td>NaN</td>\n",
       "      <td>NaN</td>\n",
       "      <td>21.48</td>\n",
       "      <td>NaN</td>\n",
       "      <td>243.164</td>\n",
       "    </tr>\n",
       "    <tr>\n",
       "      <th>1947-02-01</th>\n",
       "      <td>NaN</td>\n",
       "      <td>NaN</td>\n",
       "      <td>NaN</td>\n",
       "      <td>NaN</td>\n",
       "      <td>NaN</td>\n",
       "      <td>NaN</td>\n",
       "      <td>21.62</td>\n",
       "      <td>NaN</td>\n",
       "      <td>NaN</td>\n",
       "    </tr>\n",
       "    <tr>\n",
       "      <th>1947-03-01</th>\n",
       "      <td>NaN</td>\n",
       "      <td>NaN</td>\n",
       "      <td>NaN</td>\n",
       "      <td>NaN</td>\n",
       "      <td>NaN</td>\n",
       "      <td>NaN</td>\n",
       "      <td>22.00</td>\n",
       "      <td>NaN</td>\n",
       "      <td>NaN</td>\n",
       "    </tr>\n",
       "    <tr>\n",
       "      <th>1947-04-01</th>\n",
       "      <td>2029.024</td>\n",
       "      <td>NaN</td>\n",
       "      <td>NaN</td>\n",
       "      <td>NaN</td>\n",
       "      <td>NaN</td>\n",
       "      <td>NaN</td>\n",
       "      <td>22.00</td>\n",
       "      <td>NaN</td>\n",
       "      <td>245.968</td>\n",
       "    </tr>\n",
       "    <tr>\n",
       "      <th>1947-05-01</th>\n",
       "      <td>NaN</td>\n",
       "      <td>NaN</td>\n",
       "      <td>NaN</td>\n",
       "      <td>NaN</td>\n",
       "      <td>NaN</td>\n",
       "      <td>NaN</td>\n",
       "      <td>21.95</td>\n",
       "      <td>NaN</td>\n",
       "      <td>NaN</td>\n",
       "    </tr>\n",
       "    <tr>\n",
       "      <th>...</th>\n",
       "      <td>...</td>\n",
       "      <td>...</td>\n",
       "      <td>...</td>\n",
       "      <td>...</td>\n",
       "      <td>...</td>\n",
       "      <td>...</td>\n",
       "      <td>...</td>\n",
       "      <td>...</td>\n",
       "      <td>...</td>\n",
       "    </tr>\n",
       "    <tr>\n",
       "      <th>2023-04-01</th>\n",
       "      <td>NaN</td>\n",
       "      <td>NaN</td>\n",
       "      <td>3.46</td>\n",
       "      <td>NaN</td>\n",
       "      <td>NaN</td>\n",
       "      <td>NaN</td>\n",
       "      <td>NaN</td>\n",
       "      <td>NaN</td>\n",
       "      <td>NaN</td>\n",
       "    </tr>\n",
       "    <tr>\n",
       "      <th>2023-04-06</th>\n",
       "      <td>NaN</td>\n",
       "      <td>NaN</td>\n",
       "      <td>NaN</td>\n",
       "      <td>NaN</td>\n",
       "      <td>6.28</td>\n",
       "      <td>NaN</td>\n",
       "      <td>NaN</td>\n",
       "      <td>NaN</td>\n",
       "      <td>NaN</td>\n",
       "    </tr>\n",
       "    <tr>\n",
       "      <th>2023-04-13</th>\n",
       "      <td>NaN</td>\n",
       "      <td>NaN</td>\n",
       "      <td>NaN</td>\n",
       "      <td>NaN</td>\n",
       "      <td>6.27</td>\n",
       "      <td>NaN</td>\n",
       "      <td>NaN</td>\n",
       "      <td>NaN</td>\n",
       "      <td>NaN</td>\n",
       "    </tr>\n",
       "    <tr>\n",
       "      <th>2023-04-20</th>\n",
       "      <td>NaN</td>\n",
       "      <td>NaN</td>\n",
       "      <td>NaN</td>\n",
       "      <td>NaN</td>\n",
       "      <td>6.39</td>\n",
       "      <td>NaN</td>\n",
       "      <td>NaN</td>\n",
       "      <td>NaN</td>\n",
       "      <td>NaN</td>\n",
       "    </tr>\n",
       "    <tr>\n",
       "      <th>2023-04-27</th>\n",
       "      <td>NaN</td>\n",
       "      <td>NaN</td>\n",
       "      <td>NaN</td>\n",
       "      <td>NaN</td>\n",
       "      <td>6.43</td>\n",
       "      <td>NaN</td>\n",
       "      <td>NaN</td>\n",
       "      <td>NaN</td>\n",
       "      <td>NaN</td>\n",
       "    </tr>\n",
       "  </tbody>\n",
       "</table>\n",
       "<p>3551 rows × 9 columns</p>\n",
       "</div>"
      ],
      "text/plain": [
       "               GDPC1  GS5  GS10  GS3  MORTGAGE30US  UNRATE  CPIAUCSL  \\\n",
       "DATE                                                                   \n",
       "1947-01-01  2034.450  NaN   NaN  NaN           NaN     NaN     21.48   \n",
       "1947-02-01       NaN  NaN   NaN  NaN           NaN     NaN     21.62   \n",
       "1947-03-01       NaN  NaN   NaN  NaN           NaN     NaN     22.00   \n",
       "1947-04-01  2029.024  NaN   NaN  NaN           NaN     NaN     22.00   \n",
       "1947-05-01       NaN  NaN   NaN  NaN           NaN     NaN     21.95   \n",
       "...              ...  ...   ...  ...           ...     ...       ...   \n",
       "2023-04-01       NaN  NaN  3.46  NaN           NaN     NaN       NaN   \n",
       "2023-04-06       NaN  NaN   NaN  NaN          6.28     NaN       NaN   \n",
       "2023-04-13       NaN  NaN   NaN  NaN          6.27     NaN       NaN   \n",
       "2023-04-20       NaN  NaN   NaN  NaN          6.39     NaN       NaN   \n",
       "2023-04-27       NaN  NaN   NaN  NaN          6.43     NaN       NaN   \n",
       "\n",
       "            FEDFUNDS      GDP  \n",
       "DATE                           \n",
       "1947-01-01       NaN  243.164  \n",
       "1947-02-01       NaN      NaN  \n",
       "1947-03-01       NaN      NaN  \n",
       "1947-04-01       NaN  245.968  \n",
       "1947-05-01       NaN      NaN  \n",
       "...              ...      ...  \n",
       "2023-04-01       NaN      NaN  \n",
       "2023-04-06       NaN      NaN  \n",
       "2023-04-13       NaN      NaN  \n",
       "2023-04-20       NaN      NaN  \n",
       "2023-04-27       NaN      NaN  \n",
       "\n",
       "[3551 rows x 9 columns]"
      ]
     },
     "metadata": {},
     "output_type": "display_data"
    }
   ],
   "source": [
    "file_path = '../datasets/fred/*.csv'\n",
    "fred_df = merge_fred_csv_files(file_path)\n",
    "display(fred_df)"
   ]
  },
  {
   "attachments": {},
   "cell_type": "markdown",
   "metadata": {},
   "source": [
    "### Preselection of Variables"
   ]
  },
  {
   "cell_type": "code",
   "execution_count": 4,
   "metadata": {},
   "outputs": [
    {
     "data": {
      "text/html": [
       "<div>\n",
       "<style scoped>\n",
       "    .dataframe tbody tr th:only-of-type {\n",
       "        vertical-align: middle;\n",
       "    }\n",
       "\n",
       "    .dataframe tbody tr th {\n",
       "        vertical-align: top;\n",
       "    }\n",
       "\n",
       "    .dataframe thead th {\n",
       "        text-align: right;\n",
       "    }\n",
       "</style>\n",
       "<table border=\"1\" class=\"dataframe\">\n",
       "  <thead>\n",
       "    <tr style=\"text-align: right;\">\n",
       "      <th></th>\n",
       "      <th>MORTGAGE30US</th>\n",
       "      <th>UNRATE</th>\n",
       "      <th>GS10</th>\n",
       "      <th>FEDFUNDS</th>\n",
       "    </tr>\n",
       "    <tr>\n",
       "      <th>DATE</th>\n",
       "      <th></th>\n",
       "      <th></th>\n",
       "      <th></th>\n",
       "      <th></th>\n",
       "    </tr>\n",
       "  </thead>\n",
       "  <tbody>\n",
       "    <tr>\n",
       "      <th>1947-01-01</th>\n",
       "      <td>NaN</td>\n",
       "      <td>NaN</td>\n",
       "      <td>NaN</td>\n",
       "      <td>NaN</td>\n",
       "    </tr>\n",
       "    <tr>\n",
       "      <th>1947-02-01</th>\n",
       "      <td>NaN</td>\n",
       "      <td>NaN</td>\n",
       "      <td>NaN</td>\n",
       "      <td>NaN</td>\n",
       "    </tr>\n",
       "    <tr>\n",
       "      <th>1947-03-01</th>\n",
       "      <td>NaN</td>\n",
       "      <td>NaN</td>\n",
       "      <td>NaN</td>\n",
       "      <td>NaN</td>\n",
       "    </tr>\n",
       "    <tr>\n",
       "      <th>1947-04-01</th>\n",
       "      <td>NaN</td>\n",
       "      <td>NaN</td>\n",
       "      <td>NaN</td>\n",
       "      <td>NaN</td>\n",
       "    </tr>\n",
       "    <tr>\n",
       "      <th>1947-05-01</th>\n",
       "      <td>NaN</td>\n",
       "      <td>NaN</td>\n",
       "      <td>NaN</td>\n",
       "      <td>NaN</td>\n",
       "    </tr>\n",
       "    <tr>\n",
       "      <th>...</th>\n",
       "      <td>...</td>\n",
       "      <td>...</td>\n",
       "      <td>...</td>\n",
       "      <td>...</td>\n",
       "    </tr>\n",
       "    <tr>\n",
       "      <th>2023-04-01</th>\n",
       "      <td>NaN</td>\n",
       "      <td>NaN</td>\n",
       "      <td>3.46</td>\n",
       "      <td>NaN</td>\n",
       "    </tr>\n",
       "    <tr>\n",
       "      <th>2023-04-06</th>\n",
       "      <td>6.28</td>\n",
       "      <td>NaN</td>\n",
       "      <td>NaN</td>\n",
       "      <td>NaN</td>\n",
       "    </tr>\n",
       "    <tr>\n",
       "      <th>2023-04-13</th>\n",
       "      <td>6.27</td>\n",
       "      <td>NaN</td>\n",
       "      <td>NaN</td>\n",
       "      <td>NaN</td>\n",
       "    </tr>\n",
       "    <tr>\n",
       "      <th>2023-04-20</th>\n",
       "      <td>6.39</td>\n",
       "      <td>NaN</td>\n",
       "      <td>NaN</td>\n",
       "      <td>NaN</td>\n",
       "    </tr>\n",
       "    <tr>\n",
       "      <th>2023-04-27</th>\n",
       "      <td>6.43</td>\n",
       "      <td>NaN</td>\n",
       "      <td>NaN</td>\n",
       "      <td>NaN</td>\n",
       "    </tr>\n",
       "  </tbody>\n",
       "</table>\n",
       "<p>3551 rows × 4 columns</p>\n",
       "</div>"
      ],
      "text/plain": [
       "            MORTGAGE30US  UNRATE  GS10  FEDFUNDS\n",
       "DATE                                            \n",
       "1947-01-01           NaN     NaN   NaN       NaN\n",
       "1947-02-01           NaN     NaN   NaN       NaN\n",
       "1947-03-01           NaN     NaN   NaN       NaN\n",
       "1947-04-01           NaN     NaN   NaN       NaN\n",
       "1947-05-01           NaN     NaN   NaN       NaN\n",
       "...                  ...     ...   ...       ...\n",
       "2023-04-01           NaN     NaN  3.46       NaN\n",
       "2023-04-06          6.28     NaN   NaN       NaN\n",
       "2023-04-13          6.27     NaN   NaN       NaN\n",
       "2023-04-20          6.39     NaN   NaN       NaN\n",
       "2023-04-27          6.43     NaN   NaN       NaN\n",
       "\n",
       "[3551 rows x 4 columns]"
      ]
     },
     "metadata": {},
     "output_type": "display_data"
    }
   ],
   "source": [
    "target_column = ['MORTGAGE30US']\n",
    "feature_columns = ['UNRATE', 'GS10', 'FEDFUNDS']\n",
    "fred_df = fred_df[target_column + feature_columns]\n",
    "display(fred_df)"
   ]
  },
  {
   "attachments": {},
   "cell_type": "markdown",
   "metadata": {},
   "source": [
    "## ValidMind Setup"
   ]
  },
  {
   "cell_type": "code",
   "execution_count": 5,
   "metadata": {},
   "outputs": [
    {
     "data": {
      "text/plain": [
       "True"
      ]
     },
     "execution_count": 5,
     "metadata": {},
     "output_type": "execute_result"
    }
   ],
   "source": [
    "vm.init(\n",
    "  api_host = \"http://localhost:3000/api/v1/tracking\",\n",
    "  api_key = \"e22b89a6b9c2a27da47cb0a09febc001\",\n",
    "  api_secret = \"a61be901b5596e3c528d94231e4a3c504ef0bb803d16815f8dfd6857fac03e57\",\n",
    "  project = \"clgo0g0rt0000fjy6ozl9pb69\"\n",
    ")\n",
    "  "
   ]
  },
  {
   "cell_type": "code",
   "execution_count": 6,
   "metadata": {},
   "outputs": [
    {
     "name": "stdout",
     "output_type": "stream",
     "text": [
      "Pandas dataset detected. Initializing VM Dataset instance...\n",
      "Inferring dataset types...\n"
     ]
    }
   ],
   "source": [
    "df = fred_df\n",
    "vm_dataset = vm.init_dataset(dataset=df)"
   ]
  },
  {
   "attachments": {},
   "cell_type": "markdown",
   "metadata": {},
   "source": [
    "## Data Description"
   ]
  },
  {
   "attachments": {},
   "cell_type": "markdown",
   "metadata": {},
   "source": [
    "## Data Quality"
   ]
  },
  {
   "attachments": {},
   "cell_type": "markdown",
   "metadata": {},
   "source": [
    "### Frequency of the Series"
   ]
  },
  {
   "attachments": {},
   "cell_type": "markdown",
   "metadata": {},
   "source": [
    "**Handling Frequencies**"
   ]
  },
  {
   "cell_type": "code",
   "execution_count": 7,
   "metadata": {},
   "outputs": [
    {
     "name": "stdout",
     "output_type": "stream",
     "text": [
      "Pandas dataset detected. Initializing VM Dataset instance...\n",
      "Inferring dataset types...\n"
     ]
    }
   ],
   "source": [
    "df = df.resample('MS').last()\n",
    "vm_dataset = vm.init_dataset(dataset=df)"
   ]
  },
  {
   "attachments": {},
   "cell_type": "markdown",
   "metadata": {},
   "source": [
    "# Exploratory Data Analysis"
   ]
  },
  {
   "attachments": {},
   "cell_type": "markdown",
   "metadata": {},
   "source": [
    "## Univariate Analysis"
   ]
  },
  {
   "cell_type": "code",
   "execution_count": 8,
   "metadata": {},
   "outputs": [
    {
     "data": {
      "text/html": [
       "<table>\n",
       "<thead>\n",
       "<tr><th>Attribute       </th><th>Value                                            </th></tr>\n",
       "</thead>\n",
       "<tbody>\n",
       "<tr><td>ID              </td><td>time_series_univariate_inspection                </td></tr>\n",
       "<tr><td>Name            </td><td>TimeSeriesUnivariateInspection                   </td></tr>\n",
       "<tr><td>Description     </td><td>Test plan to perform univariate inspection tests.</td></tr>\n",
       "<tr><td>Required Context</td><td>[&#x27;dataset&#x27;]                                      </td></tr>\n",
       "<tr><td>Tests           </td><td>AutoAR (Metric), AutoMA (Metric)                 </td></tr>\n",
       "<tr><td>Test Plans      </td><td>[]                                               </td></tr>\n",
       "</tbody>\n",
       "</table>"
      ],
      "text/plain": [
       "'<table>\\n<thead>\\n<tr><th>Attribute       </th><th>Value                                            </th></tr>\\n</thead>\\n<tbody>\\n<tr><td>ID              </td><td>time_series_univariate_inspection                </td></tr>\\n<tr><td>Name            </td><td>TimeSeriesUnivariateInspection                   </td></tr>\\n<tr><td>Description     </td><td>Test plan to perform univariate inspection tests.</td></tr>\\n<tr><td>Required Context</td><td>[&#x27;dataset&#x27;]                                      </td></tr>\\n<tr><td>Tests           </td><td>AutoAR (Metric), AutoMA (Metric)                 </td></tr>\\n<tr><td>Test Plans      </td><td>[]                                               </td></tr>\\n</tbody>\\n</table>'"
      ]
     },
     "execution_count": 8,
     "metadata": {},
     "output_type": "execute_result"
    }
   ],
   "source": [
    "vm.test_plans.describe_plan(\"time_series_univariate_inspection\")"
   ]
  },
  {
   "cell_type": "code",
   "execution_count": 9,
   "metadata": {},
   "outputs": [],
   "source": [
    "test_plan_config = {\n",
    "    \"time_series_univariate_inspection_raw\": {\n",
    "        \"columns\": target_column + feature_columns\n",
    "    },\n",
    "    \"time_series_univariate_inspection_histogram\": {\n",
    "        \"columns\": target_column + feature_columns\n",
    "    },\n",
    "    \"auto_ar\": {\n",
    "        \"max_ar_order\": 3\n",
    "    },\n",
    "     \"auto_ma\": {\n",
    "        \"max_ma_order\": 3\n",
    "    },\n",
    "}"
   ]
  },
  {
   "cell_type": "code",
   "execution_count": 10,
   "metadata": {},
   "outputs": [
    {
     "name": "stderr",
     "output_type": "stream",
     "text": [
      "Running Metric: auto_ma:  50%|█████     | 1/2 [00:00<00:00,  4.88it/s]                       "
     ]
    },
    {
     "name": "stdout",
     "output_type": "stream",
     "text": [
      "Warning: MORTGAGE30US is not stationary. Results may be inaccurate.\n",
      "Warning: GS10 is not stationary. Results may be inaccurate.\n",
      "Warning: MORTGAGE30US is not stationary. Results may be inaccurate.\n"
     ]
    },
    {
     "name": "stderr",
     "output_type": "stream",
     "text": [
      "Non-invertible starting MA parameters found. Using zeros as starting parameters.\n",
      "Non-invertible starting MA parameters found. Using zeros as starting parameters.\n"
     ]
    },
    {
     "name": "stdout",
     "output_type": "stream",
     "text": [
      "Warning: GS10 is not stationary. Results may be inaccurate.\n"
     ]
    },
    {
     "name": "stderr",
     "output_type": "stream",
     "text": [
      "Non-invertible starting MA parameters found. Using zeros as starting parameters.\n",
      "Non-invertible starting MA parameters found. Using zeros as starting parameters.\n",
      "                                                                                                                                 \r"
     ]
    },
    {
     "data": {
      "text/html": [
       "<h2>Results for <i>TimeSeriesUnivariateInspection</i> Test Plan:</h2><hr><div class=\"result\">\n",
       "        This section provides a preliminary understanding of the target variable(s)\n",
       "        used in the time series dataset. It visualizations that present the raw time\n",
       "        series data and a histogram of the target variable(s).\n",
       "\n",
       "        The raw time series data provides a visual inspection of the target variable's\n",
       "        behavior over time. This helps to identify any patterns or trends in the data,\n",
       "        as well as any potential outliers or anomalies. The histogram of the target\n",
       "        variable displays the distribution of values, providing insight into the range\n",
       "        and frequency of values observed in the data.\n",
       "        </div><div class=\"result\">\n",
       "            <h4>Logged the following dataset metric to the ValidMind platform:</h4>\n",
       "            \n",
       "            <div class=\"metric-result\">\n",
       "                <div class=\"metric-result-body\">\n",
       "                    <div class=\"metric-body-column\">\n",
       "                        <div class=\"metric-body-column-title\">Metric Name</div>\n",
       "                        <div class=\"metric-body-column-value\">auto_ar</div>\n",
       "                    </div>\n",
       "                    <div class=\"metric-body-column\">\n",
       "                        <div class=\"metric-body-column-title\">Metric Type</div>\n",
       "                        <div class=\"metric-body-column-value\">dataset</div>\n",
       "                    </div>\n",
       "                    <div class=\"metric-body-column\">\n",
       "                        <div class=\"metric-body-column-title\">Metric Scope</div>\n",
       "                        <div class=\"metric-body-column-value\"></div>\n",
       "                    </div>\n",
       "                </div>\n",
       "                <div class=\"metric-value\">\n",
       "                    <div class=\"metric-value-title\">Metric Value</div>\n",
       "                    <div class=\"metric-value-value\">\n",
       "                        <pre>[{'Variable': 'MORTGAGE30US', 'AR orders': [0, 1, 2, 3], 'BIC': [3265.668035138847, 304.79491696472724, 263.77701070543054, 246.044177168987], 'AIC': [3256.792531839374, 291.48646585961893, 246.03882463028074, 223.8794767052911]}, {'Variable': 'UNRATE', 'AR orders': [0, 1, 2, 3], 'BIC': [3539.1415392364793, 994.0162401519799, 997.2110677147793, 1003.5533561307045], 'AIC': [3529.5300941296455, 979.6023965917921, 977.997046684346, 979.541382314083]}, {'Variable': 'GS10', 'AR orders': [0, 1, 2, 3], 'BIC': [4201.0117145646345, 165.51199536334443, 87.41879025069926, 59.33207701504988], 'AIC': [4191.542531244689, 151.31178968783234, 68.48994742483043, 35.676986512639466]}, {'Variable': 'FEDFUNDS', 'AR orders': [0, 1, 2, 3], 'BIC': [4472.44765881503, 1177.7641357199707, 1045.0699658674368, 1033.6967271958817], 'AIC': [4463.01689204236, 1163.6216241302423, 1026.2181410647286, 1010.1380252206008]}]</pre>\n",
       "                    </div>\n",
       "                </div>\n",
       "            \n",
       "        </div>\n",
       "        <style>\n",
       "            .metric-result {\n",
       "                background-color: #F5F5F5;\n",
       "                border: 1px solid #e0e0e0;\n",
       "                border-radius: 4px;\n",
       "                padding: 10px;\n",
       "                margin: 10px 0;\n",
       "            }\n",
       "            .metric-result-body {\n",
       "                display: flex;\n",
       "                flex-direction: column;\n",
       "                justify-content: space-between;\n",
       "                gap: 10px;\n",
       "            }\n",
       "            .metric-body-column {\n",
       "                display: flex;\n",
       "                flex-direction: column;\n",
       "                justify-content: space-between;\n",
       "                width: 33%;\n",
       "            }\n",
       "            .metric-body-column-title {\n",
       "                font-size: 16px;\n",
       "                font-weight: 600;\n",
       "            }\n",
       "            .metric-value {\n",
       "                display: flex;\n",
       "                flex-direction: column;\n",
       "                justify-content: space-between;\n",
       "                margin-top: 15px;\n",
       "            }\n",
       "            .metric-value-title {\n",
       "                font-size: 16px;\n",
       "                font-weight: 600;\n",
       "            }\n",
       "            .metric-value-value {\n",
       "                font-size: 14px;\n",
       "                font-weight: 500;\n",
       "                margin-top: 10px;\n",
       "            }\n",
       "            .metric-plot img {\n",
       "                margin-left: auto !important;\n",
       "                margin-right: auto !important;\n",
       "                max-height: 500px !important;\n",
       "                height: 100%;\n",
       "                width: auto;\n",
       "                max-width: 800px;\n",
       "            }\n",
       "        </style>\n",
       "        </div><div class=\"result\">\n",
       "            <h4>Logged the following dataset metric to the ValidMind platform:</h4>\n",
       "            \n",
       "            <div class=\"metric-result\">\n",
       "                <div class=\"metric-result-body\">\n",
       "                    <div class=\"metric-body-column\">\n",
       "                        <div class=\"metric-body-column-title\">Metric Name</div>\n",
       "                        <div class=\"metric-body-column-value\">auto_ma</div>\n",
       "                    </div>\n",
       "                    <div class=\"metric-body-column\">\n",
       "                        <div class=\"metric-body-column-title\">Metric Type</div>\n",
       "                        <div class=\"metric-body-column-value\">dataset</div>\n",
       "                    </div>\n",
       "                    <div class=\"metric-body-column\">\n",
       "                        <div class=\"metric-body-column-title\">Metric Scope</div>\n",
       "                        <div class=\"metric-body-column-value\"></div>\n",
       "                    </div>\n",
       "                </div>\n",
       "                <div class=\"metric-value\">\n",
       "                    <div class=\"metric-value-title\">Metric Value</div>\n",
       "                    <div class=\"metric-value-value\">\n",
       "                        <pre>[{'Variable': 'MORTGAGE30US', 'MA orders': [0, 1, 2, 3], 'BIC': [3265.6680351445043, 2460.523444192, 1832.5431349176386, 1397.450804157016], 'AIC': [3256.7925318450316, 2447.210189242791, 1814.792128318693, 1375.262045908334]}, {'Variable': 'UNRATE', 'MA orders': [0, 1, 2, 3], 'BIC': [3539.1415392765507, 2552.802126524599, 2043.3637002930723, 1682.571708624607], 'AIC': [3529.530094169717, 2538.384958864348, 2024.1408100794042, 1658.543095857522]}, {'Variable': 'GS10', 'MA orders': [0, 1, 2, 3], 'BIC': [4201.01171483049, 3104.303501753798, 2232.893221459788, 1672.0767163659268], 'AIC': [4191.542531510544, 3090.0997267738794, 2213.9548548198964, 1648.403758066062]}, {'Variable': 'FEDFUNDS', 'MA orders': [0, 1, 2, 3], 'BIC': [4472.447659014668, 3430.589791464587, 2623.1348841329664, 2207.2495561109813], 'AIC': [4463.016892241998, 3416.443641305583, 2604.2733505876276, 2183.6726391793077]}]</pre>\n",
       "                    </div>\n",
       "                </div>\n",
       "            \n",
       "        </div>\n",
       "        <style>\n",
       "            .metric-result {\n",
       "                background-color: #F5F5F5;\n",
       "                border: 1px solid #e0e0e0;\n",
       "                border-radius: 4px;\n",
       "                padding: 10px;\n",
       "                margin: 10px 0;\n",
       "            }\n",
       "            .metric-result-body {\n",
       "                display: flex;\n",
       "                flex-direction: column;\n",
       "                justify-content: space-between;\n",
       "                gap: 10px;\n",
       "            }\n",
       "            .metric-body-column {\n",
       "                display: flex;\n",
       "                flex-direction: column;\n",
       "                justify-content: space-between;\n",
       "                width: 33%;\n",
       "            }\n",
       "            .metric-body-column-title {\n",
       "                font-size: 16px;\n",
       "                font-weight: 600;\n",
       "            }\n",
       "            .metric-value {\n",
       "                display: flex;\n",
       "                flex-direction: column;\n",
       "                justify-content: space-between;\n",
       "                margin-top: 15px;\n",
       "            }\n",
       "            .metric-value-title {\n",
       "                font-size: 16px;\n",
       "                font-weight: 600;\n",
       "            }\n",
       "            .metric-value-value {\n",
       "                font-size: 14px;\n",
       "                font-weight: 500;\n",
       "                margin-top: 10px;\n",
       "            }\n",
       "            .metric-plot img {\n",
       "                margin-left: auto !important;\n",
       "                margin-right: auto !important;\n",
       "                max-height: 500px !important;\n",
       "                height: 100%;\n",
       "                width: auto;\n",
       "                max-width: 800px;\n",
       "            }\n",
       "        </style>\n",
       "        </div>\n",
       "        <style>\n",
       "            .result {\n",
       "                margin: 10px 0;\n",
       "                padding: 10px;\n",
       "                background-color: #f1f1f1;\n",
       "                border: 1px solid #ccc;\n",
       "                border-radius: 5px;\n",
       "            }\n",
       "        </style>\n",
       "        "
      ],
      "text/plain": [
       "<IPython.core.display.HTML object>"
      ]
     },
     "metadata": {},
     "output_type": "display_data"
    },
    {
     "data": {
      "text/plain": [
       "TimeSeriesUnivariateInspection(test_context=TestContext(dataset=Dataset(raw_dataset=            MORTGAGE30US  UNRATE  GS10  FEDFUNDS\n",
       "DATE                                            \n",
       "1947-01-01           NaN     NaN   NaN       NaN\n",
       "1947-02-01           NaN     NaN   NaN       NaN\n",
       "1947-03-01           NaN     NaN   NaN       NaN\n",
       "1947-04-01           NaN     NaN   NaN       NaN\n",
       "1947-05-01           NaN     NaN   NaN       NaN\n",
       "...                  ...     ...   ...       ...\n",
       "2022-12-01          6.42     3.5  3.62      4.10\n",
       "2023-01-01          6.13     3.4  3.53      4.33\n",
       "2023-02-01          6.50     3.6  3.75      4.57\n",
       "2023-03-01          6.32     3.5  3.66      4.65\n",
       "2023-04-01          6.43     NaN  3.46       NaN\n",
       "\n",
       "[916 rows x 4 columns], fields=[{'id': 'MORTGAGE30US', 'type': 'Numeric'}, {'id': 'UNRATE', 'type': 'Numeric'}, {'id': 'GS10', 'type': 'Numeric'}, {'id': 'FEDFUNDS', 'type': 'Numeric'}], sample=[{'id': 'head', 'data': [{'MORTGAGE30US': nan, 'UNRATE': nan, 'GS10': nan, 'FEDFUNDS': nan}, {'MORTGAGE30US': nan, 'UNRATE': nan, 'GS10': nan, 'FEDFUNDS': nan}, {'MORTGAGE30US': nan, 'UNRATE': nan, 'GS10': nan, 'FEDFUNDS': nan}, {'MORTGAGE30US': nan, 'UNRATE': nan, 'GS10': nan, 'FEDFUNDS': nan}, {'MORTGAGE30US': nan, 'UNRATE': nan, 'GS10': nan, 'FEDFUNDS': nan}]}, {'id': 'tail', 'data': [{'MORTGAGE30US': 6.42, 'UNRATE': 3.5, 'GS10': 3.62, 'FEDFUNDS': 4.1}, {'MORTGAGE30US': 6.13, 'UNRATE': 3.4, 'GS10': 3.53, 'FEDFUNDS': 4.33}, {'MORTGAGE30US': 6.5, 'UNRATE': 3.6, 'GS10': 3.75, 'FEDFUNDS': 4.57}, {'MORTGAGE30US': 6.32, 'UNRATE': 3.5, 'GS10': 3.66, 'FEDFUNDS': 4.65}, {'MORTGAGE30US': 6.43, 'UNRATE': nan, 'GS10': 3.46, 'FEDFUNDS': nan}]}], shape={'rows': 916, 'columns': 4}, correlation_matrix=None, correlations=None, type='training', options=None, statistics=None, targets=None, target_column=None, class_labels=None, _Dataset__feature_lookup={}, _Dataset__transformed_df=None), model=None, train_ds=None, test_ds=None, y_train_predict=None, y_test_predict=None, context_data=None), config={...})"
      ]
     },
     "execution_count": 10,
     "metadata": {},
     "output_type": "execute_result"
    }
   ],
   "source": [
    "vm.run_test_plan(\"time_series_univariate_inspection\", config=test_plan_config, dataset=vm_dataset)"
   ]
  },
  {
   "attachments": {},
   "cell_type": "markdown",
   "metadata": {},
   "source": [
    "## Multivariate Analysis"
   ]
  },
  {
   "cell_type": "code",
   "execution_count": 7,
   "metadata": {},
   "outputs": [
    {
     "data": {
      "text/html": [
       "<table>\n",
       "<thead>\n",
       "<tr><th>Attribute       </th><th>Value                                                  </th></tr>\n",
       "</thead>\n",
       "<tbody>\n",
       "<tr><td>ID              </td><td>time_series_multivariate                               </td></tr>\n",
       "<tr><td>Name            </td><td>TimeSeriesMultivariate                                 </td></tr>\n",
       "<tr><td>Description     </td><td>Test plan to perform univariate inspection tests.      </td></tr>\n",
       "<tr><td>Required Context</td><td>[&#x27;dataset&#x27;]                                            </td></tr>\n",
       "<tr><td>Tests           </td><td>ScatterPlot (Metric), LaggedCorrelationHeatmap (Metric)</td></tr>\n",
       "<tr><td>Test Plans      </td><td>[]                                                     </td></tr>\n",
       "</tbody>\n",
       "</table>"
      ],
      "text/plain": [
       "'<table>\\n<thead>\\n<tr><th>Attribute       </th><th>Value                                                  </th></tr>\\n</thead>\\n<tbody>\\n<tr><td>ID              </td><td>time_series_multivariate                               </td></tr>\\n<tr><td>Name            </td><td>TimeSeriesMultivariate                                 </td></tr>\\n<tr><td>Description     </td><td>Test plan to perform univariate inspection tests.      </td></tr>\\n<tr><td>Required Context</td><td>[&#x27;dataset&#x27;]                                            </td></tr>\\n<tr><td>Tests           </td><td>ScatterPlot (Metric), LaggedCorrelationHeatmap (Metric)</td></tr>\\n<tr><td>Test Plans      </td><td>[]                                                     </td></tr>\\n</tbody>\\n</table>'"
      ]
     },
     "execution_count": 7,
     "metadata": {},
     "output_type": "execute_result"
    }
   ],
   "source": [
    "vm.test_plans.describe_plan(\"time_series_multivariate\")"
   ]
  },
  {
   "cell_type": "code",
   "execution_count": 8,
   "metadata": {},
   "outputs": [],
   "source": [
    "test_plan_config = {\n",
    "    \"scatter_plot\": {\n",
    "        \"columns\": target_column + feature_columns\n",
    "    },\n",
    "    \"lagged_correlation_heatmap\": {\n",
    "        \"target_col\": target_column,\n",
    "        \"independent_vars\": feature_columns\n",
    "    },\n",
    "}"
   ]
  },
  {
   "cell_type": "code",
   "execution_count": 9,
   "metadata": {},
   "outputs": [
    {
     "name": "stderr",
     "output_type": "stream",
     "text": [
      "Failed to log result: TestPlanMetricResult(result_id=scatter_plot, figures) for test plan result 'TestPlanMetricResult(result_id=scatter_plot, figures)':   0%|          | 0/2 [00:00<?, ?it/s]"
     ]
    },
    {
     "name": "stdout",
     "output_type": "stream",
     "text": [
      "Could not log figure to ValidMind API\n",
      "{\"code\":\"IntenalError\",\"message\":\"Internal server error\"}\n",
      "\n"
     ]
    },
    {
     "ename": "Exception",
     "evalue": "{\"code\":\"IntenalError\",\"message\":\"Internal server error\"}\n",
     "output_type": "error",
     "traceback": [
      "\u001b[0;31m---------------------------------------------------------------------------\u001b[0m",
      "\u001b[0;31mException\u001b[0m                                 Traceback (most recent call last)",
      "Cell \u001b[0;32mIn[9], line 1\u001b[0m\n\u001b[0;32m----> 1\u001b[0m vm\u001b[39m.\u001b[39;49mrun_test_plan(\u001b[39m\"\u001b[39;49m\u001b[39mtime_series_multivariate\u001b[39;49m\u001b[39m\"\u001b[39;49m, config\u001b[39m=\u001b[39;49mtest_plan_config, dataset\u001b[39m=\u001b[39;49mvm_dataset)\n",
      "File \u001b[0;32m~/Dev/github/validmind/validmind-python/validmind/client.py:204\u001b[0m, in \u001b[0;36mrun_test_plan\u001b[0;34m(test_plan_name, send, **kwargs)\u001b[0m\n\u001b[1;32m    199\u001b[0m \u001b[39mexcept\u001b[39;00m \u001b[39mValueError\u001b[39;00m \u001b[39mas\u001b[39;00m exc:\n\u001b[1;32m    200\u001b[0m     \u001b[39mraise\u001b[39;00m \u001b[39mValueError\u001b[39;00m(\n\u001b[1;32m    201\u001b[0m         \u001b[39m\"\u001b[39m\u001b[39mError initializing test plan \u001b[39m\u001b[39m{}\u001b[39;00m\u001b[39m. \u001b[39m\u001b[39m{}\u001b[39;00m\u001b[39m\"\u001b[39m\u001b[39m.\u001b[39mformat(test_plan_name, \u001b[39mstr\u001b[39m(exc))\n\u001b[1;32m    202\u001b[0m     )\n\u001b[0;32m--> 204\u001b[0m plan\u001b[39m.\u001b[39;49mrun(send\u001b[39m=\u001b[39;49msend)\n\u001b[1;32m    206\u001b[0m \u001b[39mreturn\u001b[39;00m plan\n",
      "File \u001b[0;32m~/Dev/github/validmind/validmind-python/validmind/vm_models/test_plan.py:162\u001b[0m, in \u001b[0;36mTestPlan.run\u001b[0;34m(self, send)\u001b[0m\n\u001b[1;32m    159\u001b[0m \u001b[39mself\u001b[39m\u001b[39m.\u001b[39mpbar\u001b[39m.\u001b[39mupdate(\u001b[39mself\u001b[39m\u001b[39m.\u001b[39mpbar\u001b[39m.\u001b[39mtotal \u001b[39m-\u001b[39m \u001b[39mself\u001b[39m\u001b[39m.\u001b[39mpbar\u001b[39m.\u001b[39mn)\n\u001b[1;32m    161\u001b[0m \u001b[39mif\u001b[39;00m send:\n\u001b[0;32m--> 162\u001b[0m     \u001b[39mself\u001b[39;49m\u001b[39m.\u001b[39;49mlog_results()\n\u001b[1;32m    164\u001b[0m \u001b[39mfor\u001b[39;00m test_plan \u001b[39min\u001b[39;00m \u001b[39mself\u001b[39m\u001b[39m.\u001b[39mtest_plans:\n\u001b[1;32m    165\u001b[0m     test_plan_instance \u001b[39m=\u001b[39m test_plan(\n\u001b[1;32m    166\u001b[0m         config\u001b[39m=\u001b[39m\u001b[39mself\u001b[39m\u001b[39m.\u001b[39mconfig,\n\u001b[1;32m    167\u001b[0m         test_context\u001b[39m=\u001b[39m\u001b[39mself\u001b[39m\u001b[39m.\u001b[39mtest_context,\n\u001b[1;32m    168\u001b[0m         pbar\u001b[39m=\u001b[39m\u001b[39mself\u001b[39m\u001b[39m.\u001b[39mpbar,\n\u001b[1;32m    169\u001b[0m     )\n",
      "File \u001b[0;32m~/Dev/github/validmind/validmind-python/validmind/vm_models/test_plan.py:204\u001b[0m, in \u001b[0;36mTestPlan.log_results\u001b[0;34m(self)\u001b[0m\n\u001b[1;32m    200\u001b[0m     \u001b[39mself\u001b[39m\u001b[39m.\u001b[39mpbar\u001b[39m.\u001b[39mset_description(\n\u001b[1;32m    201\u001b[0m         \u001b[39mf\u001b[39m\u001b[39m\"\u001b[39m\u001b[39mFailed to log result: \u001b[39m\u001b[39m{\u001b[39;00mresult\u001b[39m}\u001b[39;00m\u001b[39m for test plan result \u001b[39m\u001b[39m'\u001b[39m\u001b[39m{\u001b[39;00m\u001b[39mstr\u001b[39m(result)\u001b[39m}\u001b[39;00m\u001b[39m'\u001b[39m\u001b[39m\"\u001b[39m\n\u001b[1;32m    202\u001b[0m     )\n\u001b[1;32m    203\u001b[0m     \u001b[39mprint\u001b[39m(e)\n\u001b[0;32m--> 204\u001b[0m     \u001b[39mraise\u001b[39;00m e\n\u001b[1;32m    206\u001b[0m \u001b[39mself\u001b[39m\u001b[39m.\u001b[39mpbar\u001b[39m.\u001b[39mupdate(\u001b[39m1\u001b[39m)\n",
      "File \u001b[0;32m~/Dev/github/validmind/validmind-python/validmind/vm_models/test_plan.py:198\u001b[0m, in \u001b[0;36mTestPlan.log_results\u001b[0;34m(self)\u001b[0m\n\u001b[1;32m    195\u001b[0m \u001b[39mself\u001b[39m\u001b[39m.\u001b[39mpbar\u001b[39m.\u001b[39mset_description(\u001b[39mf\u001b[39m\u001b[39m\"\u001b[39m\u001b[39mLogging result: \u001b[39m\u001b[39m{\u001b[39;00mresult\u001b[39m}\u001b[39;00m\u001b[39m\"\u001b[39m)\n\u001b[1;32m    197\u001b[0m \u001b[39mtry\u001b[39;00m:\n\u001b[0;32m--> 198\u001b[0m     result\u001b[39m.\u001b[39;49mlog()\n\u001b[1;32m    199\u001b[0m \u001b[39mexcept\u001b[39;00m \u001b[39mException\u001b[39;00m \u001b[39mas\u001b[39;00m e:\n\u001b[1;32m    200\u001b[0m     \u001b[39mself\u001b[39m\u001b[39m.\u001b[39mpbar\u001b[39m.\u001b[39mset_description(\n\u001b[1;32m    201\u001b[0m         \u001b[39mf\u001b[39m\u001b[39m\"\u001b[39m\u001b[39mFailed to log result: \u001b[39m\u001b[39m{\u001b[39;00mresult\u001b[39m}\u001b[39;00m\u001b[39m for test plan result \u001b[39m\u001b[39m'\u001b[39m\u001b[39m{\u001b[39;00m\u001b[39mstr\u001b[39m(result)\u001b[39m}\u001b[39;00m\u001b[39m'\u001b[39m\u001b[39m\"\u001b[39m\n\u001b[1;32m    202\u001b[0m     )\n",
      "File \u001b[0;32m~/Dev/github/validmind/validmind-python/validmind/vm_models/test_plan_result.py:279\u001b[0m, in \u001b[0;36mTestPlanMetricResult.log\u001b[0;34m(self)\u001b[0m\n\u001b[1;32m    277\u001b[0m \u001b[39mif\u001b[39;00m \u001b[39mself\u001b[39m\u001b[39m.\u001b[39mfigures:\n\u001b[1;32m    278\u001b[0m     \u001b[39mfor\u001b[39;00m fig \u001b[39min\u001b[39;00m \u001b[39mself\u001b[39m\u001b[39m.\u001b[39mfigures:\n\u001b[0;32m--> 279\u001b[0m         log_figure(fig\u001b[39m.\u001b[39;49mfigure, fig\u001b[39m.\u001b[39;49mkey, fig\u001b[39m.\u001b[39;49mmetadata)\n",
      "File \u001b[0;32m~/Dev/github/validmind/validmind-python/validmind/api_client.py:348\u001b[0m, in \u001b[0;36mlog_figure\u001b[0;34m(data_or_path, key, metadata, run_cuid)\u001b[0m\n\u001b[1;32m    346\u001b[0m \u001b[39mif\u001b[39;00m res\u001b[39m.\u001b[39mstatus_code \u001b[39m!=\u001b[39m \u001b[39m200\u001b[39m:\n\u001b[1;32m    347\u001b[0m     \u001b[39mprint\u001b[39m(\u001b[39m\"\u001b[39m\u001b[39mCould not log figure to ValidMind API\u001b[39m\u001b[39m\"\u001b[39m)\n\u001b[0;32m--> 348\u001b[0m     \u001b[39mraise\u001b[39;00m \u001b[39mException\u001b[39;00m(res\u001b[39m.\u001b[39mtext)\n\u001b[1;32m    350\u001b[0m \u001b[39mreturn\u001b[39;00m res\u001b[39m.\u001b[39mjson()\n",
      "\u001b[0;31mException\u001b[0m: {\"code\":\"IntenalError\",\"message\":\"Internal server error\"}\n"
     ]
    }
   ],
   "source": [
    "vm.run_test_plan(\"time_series_multivariate\", config=test_plan_config, dataset=vm_dataset)"
   ]
  }
 ],
 "metadata": {
  "kernelspec": {
   "display_name": "validmind-eEL8LtKG-py3.10",
   "language": "python",
   "name": "python3"
  },
  "language_info": {
   "codemirror_mode": {
    "name": "ipython",
    "version": 3
   },
   "file_extension": ".py",
   "mimetype": "text/x-python",
   "name": "python",
   "nbconvert_exporter": "python",
   "pygments_lexer": "ipython3",
   "version": "3.10.9"
  },
  "orig_nbformat": 4
 },
 "nbformat": 4,
 "nbformat_minor": 2
}
