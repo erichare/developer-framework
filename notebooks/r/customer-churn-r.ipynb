{
 "cells": [
  {
   "cell_type": "code",
   "execution_count": 1,
   "id": "988a9444-5d95-43ed-b799-4444f2fb147e",
   "metadata": {},
   "outputs": [],
   "source": [
    "# 1. Load necessary libraries\n",
    "# install.packages(\"dplyr\") # For data manipulation\n",
    "# install.packages(\"caTools\") # For splitting the data into train and test sets\n",
    "# install.packages(\"glmnet\") # For logistic regression\n",
    "# install.packages(\"reticulate\") # For interacting with Python`"
   ]
  },
  {
   "cell_type": "code",
   "execution_count": 2,
   "id": "f03475b0-1e85-4615-a546-a19f1016146d",
   "metadata": {},
   "outputs": [
    {
     "name": "stderr",
     "output_type": "stream",
     "text": [
      "\n",
      "Attaching package: ‘dplyr’\n",
      "\n",
      "\n",
      "The following objects are masked from ‘package:stats’:\n",
      "\n",
      "    filter, lag\n",
      "\n",
      "\n",
      "The following objects are masked from ‘package:base’:\n",
      "\n",
      "    intersect, setdiff, setequal, union\n",
      "\n",
      "\n",
      "Loading required package: Matrix\n",
      "\n",
      "Loaded glmnet 4.1-7\n",
      "\n"
     ]
    }
   ],
   "source": [
    "library(dplyr)\n",
    "library(caTools)\n",
    "library(glmnet)"
   ]
  },
  {
   "cell_type": "code",
   "execution_count": 3,
   "id": "172ffdd4-d075-4a00-a782-6fbed0a35bfe",
   "metadata": {},
   "outputs": [
    {
     "data": {
      "text/plain": [
       "python:         /home/jovyan/.cache/pypoetry/virtualenvs/validmind-WFljCIXp-py3.10/bin/python\n",
       "libpython:      /opt/conda/lib/libpython3.10.so\n",
       "pythonhome:     /home/jovyan/.cache/pypoetry/virtualenvs/validmind-WFljCIXp-py3.10:/home/jovyan/.cache/pypoetry/virtualenvs/validmind-WFljCIXp-py3.10\n",
       "virtualenv:     /home/jovyan/.cache/pypoetry/virtualenvs/validmind-WFljCIXp-py3.10/bin/activate_this.py\n",
       "version:        3.10.11 | packaged by conda-forge | (main, May 10 2023, 18:47:07) [GCC 11.3.0]\n",
       "numpy:          /home/jovyan/.cache/pypoetry/virtualenvs/validmind-WFljCIXp-py3.10/lib/python3.10/site-packages/numpy\n",
       "numpy_version:  1.22.3\n",
       "\n",
       "NOTE: Python version was forced by use_python() function"
      ]
     },
     "metadata": {},
     "output_type": "display_data"
    }
   ],
   "source": [
    "library(reticulate)\n",
    "use_python(\"/home/jovyan/.cache/pypoetry/virtualenvs/validmind-WFljCIXp-py3.10/bin/python\")\n",
    "reticulate::py_config()"
   ]
  },
  {
   "cell_type": "code",
   "execution_count": 4,
   "id": "6a56250c-4f30-4fb7-bc93-a2c2da242e4a",
   "metadata": {},
   "outputs": [],
   "source": [
    "# 2. Read the dataset\n",
    "data <- read.csv('../datasets/bank_customer_churn.csv')"
   ]
  },
  {
   "cell_type": "code",
   "execution_count": 5,
   "id": "eabed7d7-99ce-4904-a3b0-ccd563cdda8d",
   "metadata": {},
   "outputs": [],
   "source": [
    "# 3. Handle categorical variables using one-hot encoding and remove unnecessary columns\n",
    "data <- data %>% select(-RowNumber, -CustomerId, -Surname)\n",
    "geo_dummies <- model.matrix(~Geography - 1, data=data)\n",
    "gender_dummies <- model.matrix(~Gender - 1, data=data)\n",
    "data <- data %>% select(-Geography, -Gender)\n",
    "data <- cbind(data, geo_dummies, gender_dummies)"
   ]
  },
  {
   "cell_type": "code",
   "execution_count": 6,
   "id": "3f226d4a-3b1d-4691-865b-40caa2ed0e5c",
   "metadata": {},
   "outputs": [],
   "source": [
    "# 4. Split the dataset into training and testing sets\n",
    "set.seed(123) # Setting seed for reproducibility\n",
    "split <- sample.split(data$Exited, SplitRatio = 0.7)\n",
    "train_data <- subset(data, split == TRUE)\n",
    "test_data <- subset(data, split == FALSE)"
   ]
  },
  {
   "cell_type": "code",
   "execution_count": 7,
   "id": "8bc4bd52-7318-40f2-9537-23820a7b47cc",
   "metadata": {},
   "outputs": [],
   "source": [
    "# 5. Run a logistic regression model\n",
    "model <- glm(Exited ~ ., family = binomial(link = 'logit'), data = train_data)"
   ]
  },
  {
   "cell_type": "code",
   "execution_count": 8,
   "id": "832e6a68-de25-456b-9e57-664f8685e9eb",
   "metadata": {},
   "outputs": [
    {
     "name": "stderr",
     "output_type": "stream",
     "text": [
      "Warning message in predict.lm(object, newdata, se.fit, scale = 1, type = if (type == :\n",
      "“prediction from a rank-deficient fit may be misleading”\n"
     ]
    }
   ],
   "source": [
    "# 6. Evaluate the model\n",
    "pred_probs <- predict(model, newdata = test_data, type = \"response\")\n",
    "pred_classes <- ifelse(pred_probs > 0.5, 1, 0)"
   ]
  },
  {
   "cell_type": "code",
   "execution_count": 9,
   "id": "7c7f4efc-144d-41d9-b2d7-4ca82d8374ae",
   "metadata": {},
   "outputs": [
    {
     "data": {
      "text/plain": [
       "   pred_classes\n",
       "       0    1\n",
       "  0 1860   55\n",
       "  1  397   88"
      ]
     },
     "metadata": {},
     "output_type": "display_data"
    }
   ],
   "source": [
    "# Confusion Matrix\n",
    "table(test_data$Exited, pred_classes)"
   ]
  },
  {
   "cell_type": "markdown",
   "id": "f71b2d4b-ff73-43ae-935a-91639827651f",
   "metadata": {},
   "source": [
    "## Running documentation tests\n",
    "\n",
    "Ensure you have run `pip install validmind` before the following steps."
   ]
  },
  {
   "cell_type": "code",
   "execution_count": 10,
   "id": "3bb385f8-f2f3-4f7c-8412-b09bba69cf7d",
   "metadata": {},
   "outputs": [],
   "source": [
    "vm <- import(\"validmind\")"
   ]
  },
  {
   "cell_type": "code",
   "execution_count": 11,
   "id": "08d757fc-570b-4d37-b813-f36398f3bdd1",
   "metadata": {},
   "outputs": [],
   "source": [
    "vm$init(\n",
    "  api_host=\"http://192.168.1.76:3000/api/v1/tracking\",\n",
    "  api_key=\"e7841dd9cffc67f268addd3ee9cc58f2\",\n",
    "  api_secret=\"7a8ab498d183d7a4907e82fac21827f30082d7acbff3dcdfcbb25d6728784e61\",\n",
    "  project=\"clkvhtg6g0005q08h5h9uhtjl\"\n",
    ")"
   ]
  },
  {
   "cell_type": "code",
   "execution_count": 12,
   "id": "7d04c431-3f7a-4903-b60a-54ca494d7750",
   "metadata": {},
   "outputs": [],
   "source": [
    "class_labels <- list(\"0\" = \"Did not exit\", \"1\" = \"Exited\")\n",
    "\n",
    "vm_dataset = vm$init_dataset(\n",
    "    dataset=data,\n",
    "    target_column=\"Exited\",\n",
    "    class_labels=class_labels\n",
    ")"
   ]
  },
  {
   "cell_type": "code",
   "execution_count": 13,
   "id": "a3137285-d520-4243-8a32-3a24a6939a81",
   "metadata": {},
   "outputs": [],
   "source": [
    "# data_validation_results = vm$run_test_suite(\"tabular_dataset\", dataset=vm_dataset)"
   ]
  },
  {
   "cell_type": "code",
   "execution_count": 14,
   "id": "f168078a-041e-4553-b194-14ab33d2cb00",
   "metadata": {},
   "outputs": [],
   "source": [
    "vm_train_ds = vm$init_dataset(\n",
    "    dataset=train_data,\n",
    "    target_column=\"Exited\"\n",
    ")\n",
    "\n",
    "vm_test_ds = vm$init_dataset(\n",
    "    dataset=test_data,\n",
    "    target_column=\"Exited\"\n",
    ")\n",
    "\n",
    "vm_model = vm$init_r_model(\n",
    "    model,\n",
    "    train_ds=vm_train_ds,\n",
    "    test_ds=vm_test_ds,\n",
    ")"
   ]
  },
  {
   "cell_type": "code",
   "execution_count": 15,
   "id": "18a2b673-7e48-4e46-9dd8-cb618106f2de",
   "metadata": {},
   "outputs": [],
   "source": [
    "# ['coefficients', 'residuals', 'fitted.values', 'effects', 'R', 'rank', 'qr', 'family', 'linear.predictors', 'deviance', 'aic', 'null.deviance', 'iter', 'weights', 'prior.weights', 'df.residual', 'df.null', 'y', 'converged', 'boundary', 'model', 'call', 'formula', 'terms', 'data', 'offset', 'control', 'method', 'contrasts', 'xlevels']"
   ]
  },
  {
   "cell_type": "code",
   "execution_count": 16,
   "id": "a226ed82-143c-4374-a015-1a32d120c080",
   "metadata": {},
   "outputs": [
    {
     "data": {
      "text/plain": [
       "NULL"
      ]
     },
     "metadata": {},
     "output_type": "display_data"
    }
   ],
   "source": [
    "py_last_error()"
   ]
  },
  {
   "cell_type": "code",
   "execution_count": 17,
   "id": "631872b4-eec2-436f-b7eb-c998b2dbda84",
   "metadata": {},
   "outputs": [
    {
     "data": {
      "text/plain": [
       "\n",
       "Call:  glm(formula = Exited ~ ., family = binomial(link = \"logit\"), \n",
       "    data = train_data)\n",
       "\n",
       "Coefficients:\n",
       "     (Intercept)       CreditScore               Age            Tenure  \n",
       "      -3.628e+00        -8.556e-04         7.173e-02        -1.675e-02  \n",
       "         Balance     NumOfProducts         HasCrCard    IsActiveMember  \n",
       "       1.712e-06        -1.089e-01        -4.091e-02        -1.052e+00  \n",
       " EstimatedSalary   GeographyFrance  GeographyGermany    GeographySpain  \n",
       "       4.536e-07        -5.413e-02         7.317e-01                NA  \n",
       "    GenderFemale        GenderMale  \n",
       "       4.824e-01                NA  \n",
       "\n",
       "Degrees of Freedom: 5599 Total (i.e. Null);  5588 Residual\n",
       "Null Deviance:\t    5635 \n",
       "Residual Deviance: 4806 \tAIC: 4830"
      ]
     },
     "metadata": {},
     "output_type": "display_data"
    }
   ],
   "source": [
    "model"
   ]
  },
  {
   "cell_type": "code",
   "execution_count": 18,
   "id": "0115161b-0213-40ab-a818-f1130dd91cbc",
   "metadata": {},
   "outputs": [
    {
     "data": {
      "text/html": [
       "<style>\n",
       ".dl-inline {width: auto; margin:0; padding: 0}\n",
       ".dl-inline>dt, .dl-inline>dd {float: none; width: auto; display: inline-block}\n",
       ".dl-inline>dt::after {content: \":\\0020\"; padding-right: .5ex}\n",
       ".dl-inline>dt:not(:first-of-type) {padding-left: .5ex}\n",
       "</style><dl class=dl-inline><dt>(Intercept)</dt><dd>-3.62797961244211</dd><dt>CreditScore</dt><dd>-0.00085562281231674</dd><dt>Age</dt><dd>0.0717280964846728</dd><dt>Tenure</dt><dd>-0.0167515128694071</dd><dt>Balance</dt><dd>1.71232846982071e-06</dd><dt>NumOfProducts</dt><dd>-0.108945464282564</dd><dt>HasCrCard</dt><dd>-0.0409089019277474</dd><dt>IsActiveMember</dt><dd>-1.05217947255373</dd><dt>EstimatedSalary</dt><dd>4.53556170211387e-07</dd><dt>GeographyFrance</dt><dd>-0.0541292899205122</dd><dt>GeographyGermany</dt><dd>0.731666228637547</dd><dt>GeographySpain</dt><dd>&lt;NA&gt;</dd><dt>GenderFemale</dt><dd>0.482438806586405</dd><dt>GenderMale</dt><dd>&lt;NA&gt;</dd></dl>\n"
      ],
      "text/latex": [
       "\\begin{description*}\n",
       "\\item[(Intercept)] -3.62797961244211\n",
       "\\item[CreditScore] -0.00085562281231674\n",
       "\\item[Age] 0.0717280964846728\n",
       "\\item[Tenure] -0.0167515128694071\n",
       "\\item[Balance] 1.71232846982071e-06\n",
       "\\item[NumOfProducts] -0.108945464282564\n",
       "\\item[HasCrCard] -0.0409089019277474\n",
       "\\item[IsActiveMember] -1.05217947255373\n",
       "\\item[EstimatedSalary] 4.53556170211387e-07\n",
       "\\item[GeographyFrance] -0.0541292899205122\n",
       "\\item[GeographyGermany] 0.731666228637547\n",
       "\\item[GeographySpain] <NA>\n",
       "\\item[GenderFemale] 0.482438806586405\n",
       "\\item[GenderMale] <NA>\n",
       "\\end{description*}\n"
      ],
      "text/markdown": [
       "(Intercept)\n",
       ":   -3.62797961244211CreditScore\n",
       ":   -0.00085562281231674Age\n",
       ":   0.0717280964846728Tenure\n",
       ":   -0.0167515128694071Balance\n",
       ":   1.71232846982071e-06NumOfProducts\n",
       ":   -0.108945464282564HasCrCard\n",
       ":   -0.0409089019277474IsActiveMember\n",
       ":   -1.05217947255373EstimatedSalary\n",
       ":   4.53556170211387e-07GeographyFrance\n",
       ":   -0.0541292899205122GeographyGermany\n",
       ":   0.731666228637547GeographySpain\n",
       ":   &lt;NA&gt;GenderFemale\n",
       ":   0.482438806586405GenderMale\n",
       ":   &lt;NA&gt;\n",
       "\n"
      ],
      "text/plain": [
       "     (Intercept)      CreditScore              Age           Tenure \n",
       "   -3.627980e+00    -8.556228e-04     7.172810e-02    -1.675151e-02 \n",
       "         Balance    NumOfProducts        HasCrCard   IsActiveMember \n",
       "    1.712328e-06    -1.089455e-01    -4.090890e-02    -1.052179e+00 \n",
       " EstimatedSalary  GeographyFrance GeographyGermany   GeographySpain \n",
       "    4.535562e-07    -5.412929e-02     7.316662e-01               NA \n",
       "    GenderFemale       GenderMale \n",
       "    4.824388e-01               NA "
      ]
     },
     "metadata": {},
     "output_type": "display_data"
    }
   ],
   "source": [
    "model$coefficients"
   ]
  },
  {
   "cell_type": "code",
   "execution_count": 19,
   "id": "9ebb6bda-99f7-42e6-922e-5160f64392b7",
   "metadata": {},
   "outputs": [
    {
     "data": {
      "text/html": [
       "'glm.fit'"
      ],
      "text/latex": [
       "'glm.fit'"
      ],
      "text/markdown": [
       "'glm.fit'"
      ],
      "text/plain": [
       "[1] \"glm.fit\""
      ]
     },
     "metadata": {},
     "output_type": "display_data"
    }
   ],
   "source": [
    "model$method"
   ]
  },
  {
   "cell_type": "code",
   "execution_count": 20,
   "id": "5e532475-685c-4f89-84a0-f1c2d9953023",
   "metadata": {},
   "outputs": [
    {
     "data": {
      "text/plain": [
       "\n",
       "Family: binomial \n",
       "Link function: logit \n"
      ]
     },
     "metadata": {},
     "output_type": "display_data"
    }
   ],
   "source": [
    "model$family"
   ]
  },
  {
   "cell_type": "code",
   "execution_count": 21,
   "id": "88fe82c5-cfd9-44be-a3af-d5dcba9a587a",
   "metadata": {},
   "outputs": [
    {
     "data": {
      "text/plain": [
       "Exited ~ ."
      ]
     },
     "metadata": {},
     "output_type": "display_data"
    }
   ],
   "source": [
    "model$formula"
   ]
  },
  {
   "cell_type": "code",
   "execution_count": 22,
   "id": "dcdc3fbd-9315-492b-9669-ba70b8324ff7",
   "metadata": {},
   "outputs": [],
   "source": [
    "model_validation_results = vm$run_test_suite(\"binary_classifier_model_validation\", model=vm_model)"
   ]
  },
  {
   "cell_type": "code",
   "execution_count": 24,
   "id": "abdc68cb-2856-4282-a5e2-2a4fb21102bd",
   "metadata": {},
   "outputs": [
    {
     "data": {
      "text/plain": [
       "[[1]]\n",
       "[[1]][[1]]\n",
       "TestPlanMetricResult(result_id=\"model_metadata\", metric, figures)\n",
       "\n",
       "[[1]][[2]]\n",
       "TestPlanMetricResult(result_id=\"dataset_split\", metric, figures)\n",
       "\n",
       "[[1]][[3]]\n",
       "TestPlanFailedResult(result_id=\"confusion_matrix\")\n",
       "\n",
       "[[1]][[4]]\n",
       "TestPlanFailedResult(result_id=\"classifier_in_sample_performance\")\n",
       "\n",
       "[[1]][[5]]\n",
       "TestPlanFailedResult(result_id=\"classifier_out_of_sample_performance\")\n",
       "\n",
       "[[1]][[6]]\n",
       "TestPlanFailedResult(result_id=\"pr_curve\")\n",
       "\n",
       "[[1]][[7]]\n",
       "TestPlanFailedResult(result_id=\"roc_curve\")\n",
       "\n",
       "\n",
       "[[2]]\n",
       "[[2]][[1]]\n",
       "TestPlanFailedResult(result_id=\"accuracy_score\")\n",
       "\n",
       "[[2]][[2]]\n",
       "TestPlanFailedResult(result_id=\"f1_score\")\n",
       "\n",
       "[[2]][[3]]\n",
       "TestPlanFailedResult(result_id=\"roc_auc_score\")\n",
       "\n",
       "[[2]][[4]]\n",
       "TestPlanFailedResult(result_id=\"training_test_degradation\")\n",
       "\n",
       "\n",
       "[[3]]\n",
       "[[3]][[1]]\n",
       "TestPlanFailedResult(result_id=\"overfit_regions\")\n",
       "\n",
       "[[3]][[2]]\n",
       "TestPlanFailedResult(result_id=\"weak_spots\")\n",
       "\n",
       "[[3]][[3]]\n",
       "TestPlanFailedResult(result_id=\"robustness\")\n",
       "\n"
      ]
     },
     "metadata": {},
     "output_type": "display_data"
    }
   ],
   "source": [
    "model_validation_results$results"
   ]
  }
 ],
 "metadata": {
  "kernelspec": {
   "display_name": "R",
   "language": "R",
   "name": "ir"
  },
  "language_info": {
   "codemirror_mode": "r",
   "file_extension": ".r",
   "mimetype": "text/x-r-source",
   "name": "R",
   "pygments_lexer": "r",
   "version": "4.2.3"
  }
 },
 "nbformat": 4,
 "nbformat_minor": 5
}
