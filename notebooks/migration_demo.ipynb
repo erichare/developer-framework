{
 "cells": [
  {
   "cell_type": "code",
   "execution_count": 1,
   "metadata": {},
   "outputs": [],
   "source": [
    "# Quick hack to load local library code\n",
    "import os\n",
    "\n",
    "os.chdir(os.path.join(os.getcwd(), \"..\"))\n",
    "\n",
    "# Load API key and secret from environment variables\n",
    "from dotenv import load_dotenv\n",
    "load_dotenv()\n",
    "\n",
    "import pandas as pd\n",
    "import xgboost as xgb\n",
    "\n",
    "from numpy import argmax\n",
    "from sklearn.metrics import accuracy_score, precision_recall_curve\n",
    "from sklearn.model_selection import train_test_split\n",
    "\n",
    "%matplotlib inline"
   ]
  },
  {
   "cell_type": "code",
   "execution_count": 2,
   "metadata": {},
   "outputs": [
    {
     "data": {
      "text/plain": [
       "True"
      ]
     },
     "execution_count": 2,
     "metadata": {},
     "output_type": "execute_result"
    }
   ],
   "source": [
    "import validmind as vm\n",
    "\n",
    "# For test environment use api_host=\"https://api.dev.vm.validmind.ai/api/v1/tracking\"\n",
    "vm.init(\n",
    "    # project=\"cl2r3k1ri000009jweny7ba1g\"\n",
    "    project=\"cl1jyv16o000809lg98gi9tie\"\n",
    ")"
   ]
  },
  {
   "cell_type": "code",
   "execution_count": 3,
   "metadata": {},
   "outputs": [
    {
     "name": "stdout",
     "output_type": "stream",
     "text": [
      "Pandas dataset detected. Initializing VM Dataset instance...\n",
      "Inferring dataset types...\n"
     ]
    }
   ],
   "source": [
    "df = pd.read_csv(\"notebooks/datasets/bank_customer_churn.csv\")\n",
    "\n",
    "vm_dataset = vm.init_dataset(\n",
    "    dataset=df,\n",
    "    type=\"training\",\n",
    "    target_column=\"Exited\",\n",
    "    class_labels={\n",
    "        \"0\": \"Did not exit\",\n",
    "        \"1\": \"Exited\",\n",
    "    }\n",
    ")"
   ]
  },
  {
   "cell_type": "code",
   "execution_count": 4,
   "metadata": {},
   "outputs": [
    {
     "name": "stdout",
     "output_type": "stream",
     "text": [
      "validate_context\n",
      "element dataset\n",
      "self.element Dataset(raw_dataset=      RowNumber  CustomerId    Surname  CreditScore Geography  Gender  Age  \\\n",
      "0             1    15634602   Hargrave          619    France  Female   42   \n",
      "1             2    15647311       Hill          608     Spain  Female   41   \n",
      "2             3    15619304       Onio          502    France  Female   42   \n",
      "3             4    15701354       Boni          699    France  Female   39   \n",
      "4             5    15737888   Mitchell          850     Spain  Female   43   \n",
      "...         ...         ...        ...          ...       ...     ...  ...   \n",
      "7995       9995    15719294       Wood          800    France  Female   29   \n",
      "7996       9996    15606229   Obijiaku          771    France    Male   39   \n",
      "7997       9997    15569892  Johnstone          516    France    Male   35   \n",
      "7998       9998    15584532        Liu          709    France  Female   36   \n",
      "7999      10000    15628319     Walker          792    France  Female   28   \n",
      "\n",
      "      Tenure    Balance  NumOfProducts  HasCrCard  IsActiveMember  \\\n",
      "0          2       0.00              1          1               1   \n",
      "1          1   83807.86              1          0               1   \n",
      "2          8  159660.80              3          1               0   \n",
      "3          1       0.00              2          0               0   \n",
      "4          2  125510.82              1          1               1   \n",
      "...      ...        ...            ...        ...             ...   \n",
      "7995       2       0.00              2          0               0   \n",
      "7996       5       0.00              2          1               0   \n",
      "7997      10   57369.61              1          1               1   \n",
      "7998       7       0.00              1          0               1   \n",
      "7999       4  130142.79              1          1               0   \n",
      "\n",
      "      EstimatedSalary  Exited  \n",
      "0           101348.88       1  \n",
      "1           112542.58       0  \n",
      "2           113931.57       1  \n",
      "3            93826.63       0  \n",
      "4            79084.10       0  \n",
      "...               ...     ...  \n",
      "7995        167773.55       0  \n",
      "7996         96270.64       0  \n",
      "7997        101699.77       0  \n",
      "7998         42085.58       1  \n",
      "7999         38190.78       0  \n",
      "\n",
      "[8000 rows x 14 columns], fields=[{'id': 'RowNumber', 'type': 'Numeric'}, {'id': 'CustomerId', 'type': 'Numeric'}, {'id': 'Surname', 'type': 'Categorical'}, {'id': 'CreditScore', 'type': 'Numeric'}, {'id': 'Geography', 'type': 'Categorical'}, {'id': 'Gender', 'type': 'Categorical'}, {'id': 'Age', 'type': 'Numeric'}, {'id': 'Tenure', 'type': 'Numeric'}, {'id': 'Balance', 'type': 'Numeric'}, {'id': 'NumOfProducts', 'type': 'Categorical'}, {'id': 'HasCrCard', 'type': 'Categorical'}, {'id': 'IsActiveMember', 'type': 'Categorical'}, {'id': 'EstimatedSalary', 'type': 'Numeric'}, {'id': 'Exited', 'type': 'Categorical'}], variables=[{'id': 'RowNumber', 'type': 'Numeric'}, {'id': 'CustomerId', 'type': 'Numeric'}, {'id': 'Surname', 'type': 'Categorical'}, {'id': 'CreditScore', 'type': 'Numeric'}, {'id': 'Geography', 'type': 'Categorical'}, {'id': 'Gender', 'type': 'Categorical'}, {'id': 'Age', 'type': 'Numeric'}, {'id': 'Tenure', 'type': 'Numeric'}, {'id': 'Balance', 'type': 'Numeric'}, {'id': 'NumOfProducts', 'type': 'Categorical'}, {'id': 'HasCrCard', 'type': 'Categorical'}, {'id': 'IsActiveMember', 'type': 'Categorical'}, {'id': 'EstimatedSalary', 'type': 'Numeric'}, {'id': 'Exited', 'type': 'Categorical'}], sample=[{'id': 'head', 'data': [{'RowNumber': 1, 'CustomerId': 15634602, 'Surname': 'Hargrave', 'CreditScore': 619, 'Geography': 'France', 'Gender': 'Female', 'Age': 42, 'Tenure': 2, 'Balance': 0.0, 'NumOfProducts': 1, 'HasCrCard': 1, 'IsActiveMember': 1, 'EstimatedSalary': 101348.88, 'Exited': 1}, {'RowNumber': 2, 'CustomerId': 15647311, 'Surname': 'Hill', 'CreditScore': 608, 'Geography': 'Spain', 'Gender': 'Female', 'Age': 41, 'Tenure': 1, 'Balance': 83807.86, 'NumOfProducts': 1, 'HasCrCard': 0, 'IsActiveMember': 1, 'EstimatedSalary': 112542.58, 'Exited': 0}, {'RowNumber': 3, 'CustomerId': 15619304, 'Surname': 'Onio', 'CreditScore': 502, 'Geography': 'France', 'Gender': 'Female', 'Age': 42, 'Tenure': 8, 'Balance': 159660.8, 'NumOfProducts': 3, 'HasCrCard': 1, 'IsActiveMember': 0, 'EstimatedSalary': 113931.57, 'Exited': 1}, {'RowNumber': 4, 'CustomerId': 15701354, 'Surname': 'Boni', 'CreditScore': 699, 'Geography': 'France', 'Gender': 'Female', 'Age': 39, 'Tenure': 1, 'Balance': 0.0, 'NumOfProducts': 2, 'HasCrCard': 0, 'IsActiveMember': 0, 'EstimatedSalary': 93826.63, 'Exited': 0}, {'RowNumber': 5, 'CustomerId': 15737888, 'Surname': 'Mitchell', 'CreditScore': 850, 'Geography': 'Spain', 'Gender': 'Female', 'Age': 43, 'Tenure': 2, 'Balance': 125510.82, 'NumOfProducts': 1, 'HasCrCard': 1, 'IsActiveMember': 1, 'EstimatedSalary': 79084.1, 'Exited': 0}]}, {'id': 'tail', 'data': [{'RowNumber': 9995, 'CustomerId': 15719294, 'Surname': 'Wood', 'CreditScore': 800, 'Geography': 'France', 'Gender': 'Female', 'Age': 29, 'Tenure': 2, 'Balance': 0.0, 'NumOfProducts': 2, 'HasCrCard': 0, 'IsActiveMember': 0, 'EstimatedSalary': 167773.55, 'Exited': 0}, {'RowNumber': 9996, 'CustomerId': 15606229, 'Surname': 'Obijiaku', 'CreditScore': 771, 'Geography': 'France', 'Gender': 'Male', 'Age': 39, 'Tenure': 5, 'Balance': 0.0, 'NumOfProducts': 2, 'HasCrCard': 1, 'IsActiveMember': 0, 'EstimatedSalary': 96270.64, 'Exited': 0}, {'RowNumber': 9997, 'CustomerId': 15569892, 'Surname': 'Johnstone', 'CreditScore': 516, 'Geography': 'France', 'Gender': 'Male', 'Age': 35, 'Tenure': 10, 'Balance': 57369.61, 'NumOfProducts': 1, 'HasCrCard': 1, 'IsActiveMember': 1, 'EstimatedSalary': 101699.77, 'Exited': 0}, {'RowNumber': 9998, 'CustomerId': 15584532, 'Surname': 'Liu', 'CreditScore': 709, 'Geography': 'France', 'Gender': 'Female', 'Age': 36, 'Tenure': 7, 'Balance': 0.0, 'NumOfProducts': 1, 'HasCrCard': 0, 'IsActiveMember': 1, 'EstimatedSalary': 42085.58, 'Exited': 1}, {'RowNumber': 10000, 'CustomerId': 15628319, 'Surname': 'Walker', 'CreditScore': 792, 'Geography': 'France', 'Gender': 'Female', 'Age': 28, 'Tenure': 4, 'Balance': 130142.79, 'NumOfProducts': 1, 'HasCrCard': 1, 'IsActiveMember': 0, 'EstimatedSalary': 38190.78, 'Exited': 0}]}], shape={'rows': 8000, 'columns': 14}, correlation_matrix=None, correlations=None, type='training', options=None, statistics=None, targets=None, target_column='Exited', class_labels={'0': 'Did not exit', '1': 'Exited'}, _Dataset__feature_lookup={}, _Dataset__transformed_df=None)\n",
      "Running test plan 'generic_tabular_dataset'...\n"
     ]
    },
    {
     "name": "stderr",
     "output_type": "stream",
     "text": [
      "100%|██████████| 8/8 [00:00<00:00, 59.37it/s]"
     ]
    },
    {
     "name": "stdout",
     "output_type": "stream",
     "text": [
      "Sending results of test plan execution 'generic_tabular_dataset' to ValidMind...\n"
     ]
    },
    {
     "name": "stderr",
     "output_type": "stream",
     "text": [
      "\n"
     ]
    },
    {
     "name": "stdout",
     "output_type": "stream",
     "text": [
      "Successfully logged test results for test: class_imbalance\n",
      "Successfully logged test results for test: duplicates\n",
      "Successfully logged test results for test: cardinality\n",
      "Successfully logged test results for test: pearson_correlation\n",
      "Successfully logged test results for test: missing\n",
      "Successfully logged test results for test: skewness\n",
      "Successfully logged test results for test: unique\n",
      "Successfully logged test results for test: zeros\n"
     ]
    }
   ],
   "source": [
    "dataset_tests = vm.test_plans.GenericTabularDatasetTestPlan(\n",
    "    dataset=vm_dataset,\n",
    ")\n",
    "\n",
    "dataset_tests.run()"
   ]
  },
  {
   "cell_type": "code",
   "execution_count": 5,
   "metadata": {},
   "outputs": [],
   "source": [
    "df.drop([\"RowNumber\", \"CustomerId\", \"Surname\", \"CreditScore\"], axis=1, inplace=True)\n",
    "\n",
    "genders = {\"Male\": 0, \"Female\": 1}\n",
    "df.replace({\"Gender\": genders}, inplace=True)\n",
    "\n",
    "df = pd.concat([df, pd.get_dummies(df[\"Geography\"], prefix=\"Geography\")], axis=1)\n",
    "df.drop(\"Geography\", axis=1, inplace=True)\n",
    "\n",
    "train_df, test_df = train_test_split(df, test_size=0.20)\n",
    "\n",
    "# This guarantees a 60/20/20 split\n",
    "train_ds, val_ds = train_test_split(train_df, test_size=0.25)\n",
    "\n",
    "# For training\n",
    "x_train = train_ds.drop(\"Exited\", axis=1)\n",
    "y_train = train_ds.loc[:, \"Exited\"].astype(int)\n",
    "x_val = val_ds.drop(\"Exited\", axis=1)\n",
    "y_val = val_ds.loc[:, \"Exited\"].astype(int)\n",
    "\n",
    "# For testing\n",
    "x_test = test_df.drop(\"Exited\", axis=1)\n",
    "y_test = test_df.loc[:, \"Exited\"].astype(int)"
   ]
  },
  {
   "cell_type": "code",
   "execution_count": 6,
   "metadata": {},
   "outputs": [
    {
     "data": {
      "text/plain": [
       "XGBClassifier(base_score=0.5, booster='gbtree', callbacks=None,\n",
       "              colsample_bylevel=1, colsample_bynode=1, colsample_bytree=1,\n",
       "              early_stopping_rounds=10, enable_categorical=False,\n",
       "              eval_metric=['error', 'logloss', 'auc'], gamma=0, gpu_id=-1,\n",
       "              grow_policy='depthwise', importance_type=None,\n",
       "              interaction_constraints='', learning_rate=0.300000012,\n",
       "              max_bin=256, max_cat_to_onehot=4, max_delta_step=0, max_depth=6,\n",
       "              max_leaves=0, min_child_weight=1, missing=nan,\n",
       "              monotone_constraints='()', n_estimators=100, n_jobs=0,\n",
       "              num_parallel_tree=1, predictor='auto', random_state=0,\n",
       "              reg_alpha=0, reg_lambda=1, ...)"
      ]
     },
     "execution_count": 6,
     "metadata": {},
     "output_type": "execute_result"
    }
   ],
   "source": [
    "model = xgb.XGBClassifier(early_stopping_rounds=10)\n",
    "model.set_params(\n",
    "    eval_metric=[\"error\", \"logloss\", \"auc\"],\n",
    ")\n",
    "model.fit(\n",
    "    x_train,\n",
    "    y_train,\n",
    "    eval_set=[(x_train, y_train), (x_val, y_val)],\n",
    "    verbose=False,\n",
    ")"
   ]
  },
  {
   "cell_type": "code",
   "execution_count": 7,
   "metadata": {},
   "outputs": [
    {
     "name": "stdout",
     "output_type": "stream",
     "text": [
      "validate_context\n",
      "element model\n",
      "self.element None\n"
     ]
    },
    {
     "ename": "ValueError",
     "evalue": "Test plan 'sklearn_classifier_metrics' requires 'model' to be present in the test context",
     "output_type": "error",
     "traceback": [
      "\u001b[0;31m---------------------------------------------------------------------------\u001b[0m",
      "\u001b[0;31mValueError\u001b[0m                                Traceback (most recent call last)",
      "\u001b[1;32m/Users/andres/code/validmind-sdk/notebooks/migration_demo.ipynb Cell 7\u001b[0m in \u001b[0;36m<cell line: 1>\u001b[0;34m()\u001b[0m\n\u001b[0;32m----> <a href='vscode-notebook-cell:/Users/andres/code/validmind-sdk/notebooks/migration_demo.ipynb#W6sZmlsZQ%3D%3D?line=0'>1</a>\u001b[0m model_metrics \u001b[39m=\u001b[39m vm\u001b[39m.\u001b[39;49mtest_plans\u001b[39m.\u001b[39;49mSKLearnClassifierMetricsTestPlan(\n\u001b[1;32m      <a href='vscode-notebook-cell:/Users/andres/code/validmind-sdk/notebooks/migration_demo.ipynb#W6sZmlsZQ%3D%3D?line=1'>2</a>\u001b[0m     dataset\u001b[39m=\u001b[39;49mvm_dataset,\n\u001b[1;32m      <a href='vscode-notebook-cell:/Users/andres/code/validmind-sdk/notebooks/migration_demo.ipynb#W6sZmlsZQ%3D%3D?line=2'>3</a>\u001b[0m )\n\u001b[1;32m      <a href='vscode-notebook-cell:/Users/andres/code/validmind-sdk/notebooks/migration_demo.ipynb#W6sZmlsZQ%3D%3D?line=4'>5</a>\u001b[0m model_metrics\u001b[39m.\u001b[39mrun()\n",
      "File \u001b[0;32m<string>:8\u001b[0m, in \u001b[0;36m__init__\u001b[0;34m(self, config, dataset, model, train_ds, test_ds)\u001b[0m\n",
      "File \u001b[0;32m~/code/validmind-sdk/validmind/test_plans/test_plan.py:61\u001b[0m, in \u001b[0;36mTestPlan.__post_init__\u001b[0;34m(self)\u001b[0m\n\u001b[1;32m     46\u001b[0m \u001b[39m# self.config = config\u001b[39;00m\n\u001b[1;32m     47\u001b[0m \u001b[39m# self.name = name\u001b[39;00m\n\u001b[1;32m     48\u001b[0m \u001b[39m# self.tests = tests\u001b[39;00m\n\u001b[0;32m   (...)\u001b[0m\n\u001b[1;32m     58\u001b[0m \u001b[39m# self.test_plans = test_plans\u001b[39;00m\n\u001b[1;32m     59\u001b[0m \u001b[39m# self.results = results\u001b[39;00m\n\u001b[1;32m     60\u001b[0m \u001b[39mprint\u001b[39m(\u001b[39m\"\u001b[39m\u001b[39mvalidate_context\u001b[39m\u001b[39m\"\u001b[39m)\n\u001b[0;32m---> 61\u001b[0m \u001b[39mself\u001b[39;49m\u001b[39m.\u001b[39;49mvalidate_context()\n",
      "File \u001b[0;32m~/code/validmind-sdk/validmind/test_plans/test_plan.py:76\u001b[0m, in \u001b[0;36mTestPlan.validate_context\u001b[0;34m(self)\u001b[0m\n\u001b[1;32m     72\u001b[0m     \u001b[39mraise\u001b[39;00m \u001b[39mValueError\u001b[39;00m(\n\u001b[1;32m     73\u001b[0m         \u001b[39mf\u001b[39m\u001b[39m\"\u001b[39m\u001b[39mTest plan \u001b[39m\u001b[39m'\u001b[39m\u001b[39m{\u001b[39;00m\u001b[39mself\u001b[39m\u001b[39m.\u001b[39mname\u001b[39m}\u001b[39;00m\u001b[39m'\u001b[39m\u001b[39m requires \u001b[39m\u001b[39m'\u001b[39m\u001b[39m{\u001b[39;00melement\u001b[39m}\u001b[39;00m\u001b[39m'\u001b[39m\u001b[39m to be present in the test context\u001b[39m\u001b[39m\"\u001b[39m\n\u001b[1;32m     74\u001b[0m     )\n\u001b[1;32m     75\u001b[0m \u001b[39melif\u001b[39;00m \u001b[39mgetattr\u001b[39m(\u001b[39mself\u001b[39m, element) \u001b[39mis\u001b[39;00m \u001b[39mNone\u001b[39;00m:\n\u001b[0;32m---> 76\u001b[0m     \u001b[39mraise\u001b[39;00m \u001b[39mValueError\u001b[39;00m(\n\u001b[1;32m     77\u001b[0m         \u001b[39mf\u001b[39m\u001b[39m\"\u001b[39m\u001b[39mTest plan \u001b[39m\u001b[39m'\u001b[39m\u001b[39m{\u001b[39;00m\u001b[39mself\u001b[39m\u001b[39m.\u001b[39mname\u001b[39m}\u001b[39;00m\u001b[39m'\u001b[39m\u001b[39m requires \u001b[39m\u001b[39m'\u001b[39m\u001b[39m{\u001b[39;00melement\u001b[39m}\u001b[39;00m\u001b[39m'\u001b[39m\u001b[39m to be present in the test context\u001b[39m\u001b[39m\"\u001b[39m\n\u001b[1;32m     78\u001b[0m     )\n",
      "\u001b[0;31mValueError\u001b[0m: Test plan 'sklearn_classifier_metrics' requires 'model' to be present in the test context"
     ]
    }
   ],
   "source": [
    "model_metrics = vm.test_plans.SKLearnClassifierMetricsTestPlan(\n",
    "    dataset=vm_dataset,\n",
    ")\n",
    "\n",
    "model_metrics.run()"
   ]
  }
 ],
 "metadata": {
  "kernelspec": {
   "display_name": "validmind-Jp3s24zK-py3.8",
   "language": "python",
   "name": "python3"
  },
  "language_info": {
   "codemirror_mode": {
    "name": "ipython",
    "version": 3
   },
   "file_extension": ".py",
   "mimetype": "text/x-python",
   "name": "python",
   "nbconvert_exporter": "python",
   "pygments_lexer": "ipython3",
   "version": "3.8.6"
  },
  "orig_nbformat": 4,
  "vscode": {
   "interpreter": {
    "hash": "5507f2e99c1cac96073e07e686bb64d511c5f1c7216ba7fc4306f43af6557f44"
   }
  }
 },
 "nbformat": 4,
 "nbformat_minor": 2
}
