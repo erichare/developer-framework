{
 "cells": [
  {
   "attachments": {},
   "cell_type": "markdown",
   "metadata": {},
   "source": [
    "# Support Sandbox"
   ]
  },
  {
   "attachments": {},
   "cell_type": "markdown",
   "metadata": {},
   "source": [
    "## Debugging connectivity issues"
   ]
  },
  {
   "cell_type": "code",
   "execution_count": 1,
   "metadata": {},
   "outputs": [
    {
     "name": "stderr",
     "output_type": "stream",
     "text": [
      "DEBUG:matplotlib:matplotlib data path: /Users/juanvalidmind/Library/Caches/pypoetry/virtualenvs/validmind-eEL8LtKG-py3.10/lib/python3.10/site-packages/matplotlib/mpl-data\n",
      "DEBUG:matplotlib:CONFIGDIR=/Users/juanvalidmind/.matplotlib\n",
      "DEBUG:matplotlib:interactive is False\n",
      "DEBUG:matplotlib:platform is darwin\n",
      "DEBUG:matplotlib:CACHEDIR=/Users/juanvalidmind/.matplotlib\n",
      "DEBUG:matplotlib.font_manager:Using fontManager instance from /Users/juanvalidmind/.matplotlib/fontlist-v330.json\n",
      "INFO:visions.backends:Pandas backend loaded 1.5.3\n",
      "INFO:visions.backends:Numpy backend loaded 1.22.3\n",
      "INFO:visions.backends:Pyspark backend NOT loaded\n",
      "INFO:visions.backends:Python backend loaded\n",
      "DEBUG:numba.core.byteflow:bytecode dump:\n",
      ">          0\tNOP(arg=None, lineno=25)\n",
      "           2\tLOAD_FAST(arg=0, lineno=26)\n",
      "           4\tLOAD_FAST(arg=1, lineno=26)\n",
      "           6\tBINARY_ADD(arg=None, lineno=26)\n",
      "           8\tRETURN_VALUE(arg=None, lineno=26)\n",
      "DEBUG:numba.core.byteflow:pending: deque([State(pc_initial=0 nstack_initial=0)])\n",
      "DEBUG:numba.core.byteflow:stack: []\n",
      "DEBUG:numba.core.byteflow:state.pc_initial: State(pc_initial=0 nstack_initial=0)\n",
      "DEBUG:numba.core.byteflow:dispatch pc=0, inst=NOP(arg=None, lineno=25)\n",
      "DEBUG:numba.core.byteflow:stack []\n",
      "DEBUG:numba.core.byteflow:dispatch pc=2, inst=LOAD_FAST(arg=0, lineno=26)\n",
      "DEBUG:numba.core.byteflow:stack []\n",
      "DEBUG:numba.core.byteflow:dispatch pc=4, inst=LOAD_FAST(arg=1, lineno=26)\n",
      "DEBUG:numba.core.byteflow:stack ['$x2.0']\n",
      "DEBUG:numba.core.byteflow:dispatch pc=6, inst=BINARY_ADD(arg=None, lineno=26)\n",
      "DEBUG:numba.core.byteflow:stack ['$x2.0', '$y4.1']\n",
      "DEBUG:numba.core.byteflow:dispatch pc=8, inst=RETURN_VALUE(arg=None, lineno=26)\n",
      "DEBUG:numba.core.byteflow:stack ['$6binary_add.2']\n",
      "DEBUG:numba.core.byteflow:end state. edges=[]\n",
      "DEBUG:numba.core.byteflow:-------------------------Prune PHIs-------------------------\n",
      "DEBUG:numba.core.byteflow:Used_phis: defaultdict(<class 'set'>, {State(pc_initial=0 nstack_initial=0): set()})\n",
      "DEBUG:numba.core.byteflow:defmap: {}\n",
      "DEBUG:numba.core.byteflow:phismap: defaultdict(<class 'set'>, {})\n",
      "DEBUG:numba.core.byteflow:changing phismap: defaultdict(<class 'set'>, {})\n",
      "DEBUG:numba.core.byteflow:keep phismap: {}\n",
      "DEBUG:numba.core.byteflow:new_out: defaultdict(<class 'dict'>, {})\n",
      "DEBUG:numba.core.byteflow:----------------------DONE Prune PHIs-----------------------\n",
      "DEBUG:numba.core.byteflow:block_infos State(pc_initial=0 nstack_initial=0):\n",
      "AdaptBlockInfo(insts=((0, {}), (2, {'res': '$x2.0'}), (4, {'res': '$y4.1'}), (6, {'lhs': '$x2.0', 'rhs': '$y4.1', 'res': '$6binary_add.2'}), (8, {'retval': '$6binary_add.2', 'castval': '$8return_value.3'})), outgoing_phis={}, blockstack=(), active_try_block=None, outgoing_edgepushed={})\n",
      "DEBUG:numba.core.interpreter:label 0:\n",
      "    x = arg(0, name=x)                       ['x']\n",
      "    y = arg(1, name=y)                       ['y']\n",
      "    $6binary_add.2 = x + y                   ['$6binary_add.2', 'x', 'y']\n",
      "    $8return_value.3 = cast(value=$6binary_add.2) ['$6binary_add.2', '$8return_value.3']\n",
      "    return $8return_value.3                  ['$8return_value.3']\n",
      "\n",
      "DEBUG:numba.core.ssa:==== SSA block analysis pass on 0\n",
      "DEBUG:numba.core.ssa:Running <numba.core.ssa._GatherDefsHandler object at 0x2903574f0>\n",
      "DEBUG:numba.core.ssa:on stmt: x = arg(0, name=x)\n",
      "DEBUG:numba.core.ssa:on stmt: y = arg(1, name=y)\n",
      "DEBUG:numba.core.ssa:on stmt: $6binary_add.2 = x + y\n",
      "DEBUG:numba.core.ssa:on stmt: $8return_value.3 = cast(value=$6binary_add.2)\n",
      "DEBUG:numba.core.ssa:on stmt: return $8return_value.3\n",
      "DEBUG:numba.core.ssa:defs defaultdict(<class 'list'>,\n",
      "            {'$6binary_add.2': [<numba.core.ir.Assign object at 0x290355ed0>],\n",
      "             '$8return_value.3': [<numba.core.ir.Assign object at 0x2903558d0>],\n",
      "             'x': [<numba.core.ir.Assign object at 0x290356680>],\n",
      "             'y': [<numba.core.ir.Assign object at 0x2903554e0>]})\n",
      "DEBUG:numba.core.ssa:SSA violators set()\n",
      "DEBUG:urllib3.connectionpool:Starting new HTTPS connection (1): api.prod.validmind.ai:443\n",
      "DEBUG:urllib3.connectionpool:https://api.prod.validmind.ai:443 \"GET /api/v1/tracking/ping HTTP/1.1\" 401 73\n"
     ]
    },
    {
     "name": "stdout",
     "output_type": "stream",
     "text": [
      "Unsuccessful ping to ValidMind API\n"
     ]
    },
    {
     "ename": "Exception",
     "evalue": "{\"code\": \"invalid_credentials\", \"description\": \"Invalid API credentials\"}",
     "output_type": "error",
     "traceback": [
      "\u001b[0;31m---------------------------------------------------------------------------\u001b[0m",
      "\u001b[0;31mException\u001b[0m                                 Traceback (most recent call last)",
      "\u001b[0;32m/var/folders/tn/rbr74q892k13m82y37y396h40000gn/T/ipykernel_92938/4276173262.py\u001b[0m in \u001b[0;36m<cell line: 11>\u001b[0;34m()\u001b[0m\n\u001b[1;32m      9\u001b[0m \u001b[0;32mimport\u001b[0m \u001b[0mvalidmind\u001b[0m \u001b[0;32mas\u001b[0m \u001b[0mvm\u001b[0m\u001b[0;34m\u001b[0m\u001b[0;34m\u001b[0m\u001b[0m\n\u001b[1;32m     10\u001b[0m \u001b[0;34m\u001b[0m\u001b[0m\n\u001b[0;32m---> 11\u001b[0;31m vm.init(\n\u001b[0m\u001b[1;32m     12\u001b[0m   \u001b[0mapi_host\u001b[0m \u001b[0;34m=\u001b[0m \u001b[0;34m\"https://api.prod.validmind.ai/api/v1/tracking\"\u001b[0m\u001b[0;34m,\u001b[0m\u001b[0;34m\u001b[0m\u001b[0;34m\u001b[0m\u001b[0m\n\u001b[1;32m     13\u001b[0m   \u001b[0mapi_key\u001b[0m \u001b[0;34m=\u001b[0m \u001b[0;34m\"2494c3838f48efe590d531bfe225d90b\"\u001b[0m\u001b[0;34m,\u001b[0m\u001b[0;34m\u001b[0m\u001b[0;34m\u001b[0m\u001b[0m\n",
      "\u001b[0;32m~/Dev/github/validmind/validmind-python/validmind/api_client.py\u001b[0m in \u001b[0;36minit\u001b[0;34m(project, api_key, api_secret, api_host)\u001b[0m\n\u001b[1;32m    108\u001b[0m     \u001b[0m_run_cuid\u001b[0m \u001b[0;34m=\u001b[0m \u001b[0mos\u001b[0m\u001b[0;34m.\u001b[0m\u001b[0menviron\u001b[0m\u001b[0;34m.\u001b[0m\u001b[0mget\u001b[0m\u001b[0;34m(\u001b[0m\u001b[0;34m\"VM_RUN_CUID\"\u001b[0m\u001b[0;34m,\u001b[0m \u001b[0;32mNone\u001b[0m\u001b[0;34m)\u001b[0m\u001b[0;34m\u001b[0m\u001b[0;34m\u001b[0m\u001b[0m\n\u001b[1;32m    109\u001b[0m \u001b[0;34m\u001b[0m\u001b[0m\n\u001b[0;32m--> 110\u001b[0;31m     \u001b[0m__ping\u001b[0m\u001b[0;34m(\u001b[0m\u001b[0;34m)\u001b[0m\u001b[0;34m\u001b[0m\u001b[0;34m\u001b[0m\u001b[0m\n\u001b[0m\u001b[1;32m    111\u001b[0m \u001b[0;34m\u001b[0m\u001b[0m\n\u001b[1;32m    112\u001b[0m \u001b[0;34m\u001b[0m\u001b[0m\n",
      "\u001b[0;32m~/Dev/github/validmind/validmind-python/validmind/api_client.py\u001b[0m in \u001b[0;36m__ping\u001b[0;34m()\u001b[0m\n\u001b[1;32m    140\u001b[0m     \u001b[0;32mif\u001b[0m \u001b[0mr\u001b[0m\u001b[0;34m.\u001b[0m\u001b[0mstatus_code\u001b[0m \u001b[0;34m!=\u001b[0m \u001b[0;36m200\u001b[0m\u001b[0;34m:\u001b[0m\u001b[0;34m\u001b[0m\u001b[0;34m\u001b[0m\u001b[0m\n\u001b[1;32m    141\u001b[0m         \u001b[0mprint\u001b[0m\u001b[0;34m(\u001b[0m\u001b[0;34m\"Unsuccessful ping to ValidMind API\"\u001b[0m\u001b[0;34m)\u001b[0m\u001b[0;34m\u001b[0m\u001b[0;34m\u001b[0m\u001b[0m\n\u001b[0;32m--> 142\u001b[0;31m         \u001b[0;32mraise\u001b[0m \u001b[0mException\u001b[0m\u001b[0;34m(\u001b[0m\u001b[0mr\u001b[0m\u001b[0;34m.\u001b[0m\u001b[0mtext\u001b[0m\u001b[0;34m)\u001b[0m\u001b[0;34m\u001b[0m\u001b[0;34m\u001b[0m\u001b[0m\n\u001b[0m\u001b[1;32m    143\u001b[0m \u001b[0;34m\u001b[0m\u001b[0m\n\u001b[1;32m    144\u001b[0m     \u001b[0mclient_info\u001b[0m \u001b[0;34m=\u001b[0m \u001b[0mr\u001b[0m\u001b[0;34m.\u001b[0m\u001b[0mjson\u001b[0m\u001b[0;34m(\u001b[0m\u001b[0;34m)\u001b[0m\u001b[0;34m\u001b[0m\u001b[0;34m\u001b[0m\u001b[0m\n",
      "\u001b[0;31mException\u001b[0m: {\"code\": \"invalid_credentials\", \"description\": \"Invalid API credentials\"}"
     ]
    }
   ],
   "source": [
    "import os\n",
    "import logging\n",
    "\n",
    "os.environ['PYTHONHTTPSVERIFY'] = '0'\n",
    "\n",
    "# Enable debug mode\n",
    "logging.basicConfig(level=logging.DEBUG)\n",
    "\n",
    "import validmind as vm\n",
    "\n",
    "vm.init(\n",
    "  api_host = \"https://api.prod.validmind.ai/api/v1/tracking\",\n",
    "  api_key = \"2494c3838f48efe590d531bfe225d90b\",\n",
    "  api_secret = \"4f692f8161f128414fef542cab2a4e74834c75d01b3a8e088a1834f2afcfe838\",\n",
    "  project = \"clhuctiea0000j3y6fkeyk73f\"\n",
    ")\n",
    "  "
   ]
  },
  {
   "cell_type": "code",
   "execution_count": null,
   "metadata": {},
   "outputs": [],
   "source": [
    "import os\n",
    "import requests\n",
    "import logging\n",
    "import ssl\n",
    "\n",
    "os.environ['PYTHONHTTPSVERIFY'] = '0'\n",
    "\n",
    "# Enable debug mode\n",
    "logging.basicConfig(level=logging.DEBUG)\n",
    "\n",
    "# Make the API request\n",
    "response = requests.get('https://api.prod.validmind.ai/api/v1/tracking/ping')\n",
    "\n",
    "\n",
    "\n",
    "# Retrieve the SSL certificate\n",
    "cert = ssl.get_server_certificate(('api.prod.validmind.ai', 443))\n",
    "\n",
    "# Print the certificate details\n",
    "print(cert)\n"
   ]
  }
 ],
 "metadata": {
  "kernelspec": {
   "display_name": "validmind-eEL8LtKG-py3.10",
   "language": "python",
   "name": "python3"
  },
  "language_info": {
   "codemirror_mode": {
    "name": "ipython",
    "version": 3
   },
   "file_extension": ".py",
   "mimetype": "text/x-python",
   "name": "python",
   "nbconvert_exporter": "python",
   "pygments_lexer": "ipython3",
   "version": "3.10.9"
  },
  "orig_nbformat": 4
 },
 "nbformat": 4,
 "nbformat_minor": 2
}
