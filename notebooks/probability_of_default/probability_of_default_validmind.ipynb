{
 "cells": [
  {
   "cell_type": "markdown",
   "metadata": {},
   "source": [
    "# Probability of Default Model using ValidMind"
   ]
  },
  {
   "attachments": {},
   "cell_type": "markdown",
   "metadata": {},
   "source": [
    "## Step 1: Connect Notebook to ValidMind Project"
   ]
  },
  {
   "attachments": {},
   "cell_type": "markdown",
   "metadata": {},
   "source": [
    "#### Import Libraries"
   ]
  },
  {
   "cell_type": "code",
   "execution_count": 1,
   "metadata": {},
   "outputs": [],
   "source": [
    "# Load API key and secret from environment variables\n",
    "%load_ext dotenv\n",
    "%dotenv .env\n",
    "\n",
    "import zipfile\n",
    "import pandas as pd\n",
    "import numpy as np\n",
    "import seaborn as sns\n",
    "import matplotlib.pyplot as plt\n",
    "import matplotlib as mpl\n",
    "from sklearn.model_selection import train_test_split, RepeatedStratifiedKFold, cross_val_score\n",
    "from sklearn.linear_model import LogisticRegression\n",
    "from sklearn.metrics import roc_curve, roc_auc_score, confusion_matrix, precision_recall_curve, auc\n",
    "from sklearn.feature_selection import f_classif\n",
    "from sklearn.pipeline import Pipeline\n",
    "from sklearn.base import BaseEstimator, TransformerMixin\n",
    "from scipy.stats import chi2_contingency\n",
    "%matplotlib inline"
   ]
  },
  {
   "attachments": {},
   "cell_type": "markdown",
   "metadata": {},
   "source": [
    "#### Connect Notebook to ValidMind Project"
   ]
  },
  {
   "cell_type": "code",
   "execution_count": 2,
   "metadata": {},
   "outputs": [
    {
     "name": "stderr",
     "output_type": "stream",
     "text": [
      "2023-06-08 15:24:11,250 - INFO - api_client - Connected to ValidMind. Project: PD Model - Initial Validation (clibjj9cl00056qy6tz2hkc6l)\n"
     ]
    }
   ],
   "source": [
    "\n",
    "import validmind as vm\n",
    "\n",
    "vm.init(\n",
    "  api_host = \"http://localhost:3000/api/v1/tracking\",\n",
    "  api_key = \"2494c3838f48efe590d531bfe225d90b\",\n",
    "  api_secret = \"4f692f8161f128414fef542cab2a4e74834c75d01b3a8e088a1834f2afcfe838\",\n",
    "  project = \"clibjj9cl00056qy6tz2hkc6l\"\n",
    ")\n",
    "  "
   ]
  },
  {
   "attachments": {},
   "cell_type": "markdown",
   "metadata": {},
   "source": [
    "## Step 2: Import Raw Data"
   ]
  },
  {
   "attachments": {},
   "cell_type": "markdown",
   "metadata": {},
   "source": [
    "#### Import Lending Club Dataset"
   ]
  },
  {
   "cell_type": "code",
   "execution_count": 3,
   "metadata": {},
   "outputs": [
    {
     "name": "stderr",
     "output_type": "stream",
     "text": [
      "Columns (19) have mixed types. Specify dtype option on import or set low_memory=False.\n"
     ]
    },
    {
     "name": "stdout",
     "output_type": "stream",
     "text": [
      "        id  member_id  loan_amnt  funded_amnt  funded_amnt_inv        term  \\\n",
      "0  1077501    1296599       5000         5000           4975.0   36 months   \n",
      "1  1077430    1314167       2500         2500           2500.0   60 months   \n",
      "2  1077175    1313524       2400         2400           2400.0   36 months   \n",
      "3  1076863    1277178      10000        10000          10000.0   36 months   \n",
      "4  1075358    1311748       3000         3000           3000.0   60 months   \n",
      "\n",
      "   int_rate  installment grade sub_grade  ... total_bal_il il_util  \\\n",
      "0     10.65       162.87     B        B2  ...          NaN     NaN   \n",
      "1     15.27        59.83     C        C4  ...          NaN     NaN   \n",
      "2     15.96        84.33     C        C5  ...          NaN     NaN   \n",
      "3     13.49       339.31     C        C1  ...          NaN     NaN   \n",
      "4     12.69        67.79     B        B5  ...          NaN     NaN   \n",
      "\n",
      "  open_rv_12m  open_rv_24m max_bal_bc all_util total_rev_hi_lim inq_fi  \\\n",
      "0         NaN          NaN        NaN      NaN              NaN    NaN   \n",
      "1         NaN          NaN        NaN      NaN              NaN    NaN   \n",
      "2         NaN          NaN        NaN      NaN              NaN    NaN   \n",
      "3         NaN          NaN        NaN      NaN              NaN    NaN   \n",
      "4         NaN          NaN        NaN      NaN              NaN    NaN   \n",
      "\n",
      "  total_cu_tl inq_last_12m  \n",
      "0         NaN          NaN  \n",
      "1         NaN          NaN  \n",
      "2         NaN          NaN  \n",
      "3         NaN          NaN  \n",
      "4         NaN          NaN  \n",
      "\n",
      "[5 rows x 74 columns]\n"
     ]
    }
   ],
   "source": [
    "# Specify the path to the zip file\n",
    "filepath = '/Users/juanvalidmind/Dev/datasets/lending club/data_2007_2014/loan_data_2007_2014.csv'\n",
    "df = pd.read_csv(filepath)\n",
    "\n",
    "# Perform operations on the DataFrame as needed\n",
    "print(df.head())"
   ]
  },
  {
   "attachments": {},
   "cell_type": "markdown",
   "metadata": {},
   "source": [
    "## Step 3: Describe Raw Data"
   ]
  },
  {
   "cell_type": "code",
   "execution_count": 4,
   "metadata": {},
   "outputs": [
    {
     "name": "stdout",
     "output_type": "stream",
     "text": [
      "Pandas dataset detected. Initializing VM Dataset instance...\n",
      "Inferring dataset types...\n"
     ]
    },
    {
     "data": {
      "application/vnd.jupyter.widget-view+json": {
       "model_id": "313dcc36987f4ac185811610cb2f6619",
       "version_major": 2,
       "version_minor": 0
      },
      "text/plain": [
       "VBox(children=(HTML(value='<p>This section provides descriptive statistics for numerical, categorical and date…"
      ]
     },
     "metadata": {},
     "output_type": "display_data"
    }
   ],
   "source": [
    "from validmind.vm_models.test_context import TestContext\n",
    "from validmind.data_validation.metrics import TabularDescriptionTables\n",
    "\n",
    "vm_df = vm.init_dataset(dataset=df)\n",
    "test_context = TestContext(dataset=vm_df)\n",
    "metric = TabularDescriptionTables(test_context)\n",
    "metric.run()\n",
    "metric.result.show()"
   ]
  },
  {
   "attachments": {},
   "cell_type": "markdown",
   "metadata": {},
   "source": [
    "## Step 4: Data Preparation"
   ]
  },
  {
   "attachments": {},
   "cell_type": "markdown",
   "metadata": {},
   "source": [
    "#### Remove Unused Variables\n",
    "\n",
    "Remove all the **Demographic** and **Customer Behavioural** features which is of no use for default analysis for credit approval."
   ]
  },
  {
   "cell_type": "code",
   "execution_count": 5,
   "metadata": {},
   "outputs": [
    {
     "name": "stdout",
     "output_type": "stream",
     "text": [
      "Features we are left with ['loan_amnt', 'funded_amnt_inv', 'term', 'int_rate', 'installment', 'grade', 'sub_grade', 'emp_length', 'home_ownership', 'annual_inc', 'verification_status', 'issue_d', 'loan_status', 'purpose', 'dti', 'earliest_cr_line', 'inq_last_6mths', 'open_acc', 'pub_rec', 'revol_util', 'total_acc', 'mths_since_last_major_derog', 'annual_inc_joint', 'dti_joint', 'verification_status_joint', 'tot_coll_amt', 'tot_cur_bal', 'open_acc_6m', 'open_il_6m', 'open_il_12m', 'open_il_24m', 'mths_since_rcnt_il', 'total_bal_il', 'il_util', 'open_rv_12m', 'open_rv_24m', 'max_bal_bc', 'all_util', 'total_rev_hi_lim', 'inq_fi', 'total_cu_tl', 'inq_last_12m']\n"
     ]
    }
   ],
   "source": [
    "# remove non-required columns\n",
    "# id - not required\n",
    "# member_id - not required\n",
    "# acc_now_delinq - empty\n",
    "# funded_amnt - not useful, funded_amnt_inv is useful which is funded to person\n",
    "# emp_title - brand names not useful\n",
    "# pymnt_plan - fixed value as n for all\n",
    "# url - not useful\n",
    "# desc - can be applied some NLP but not for EDA\n",
    "# title - too many distinct values not useful\n",
    "# zip_code - complete zip is not available\n",
    "# delinq_2yrs - post approval feature\n",
    "# mths_since_last_delinq - only half values are there, not much information\n",
    "# mths_since_last_record - only 10% values are there\n",
    "# revol_bal - post/behavioural feature\n",
    "# initial_list_status - fixed value as f for all\n",
    "# out_prncp - post approval feature\n",
    "# out_prncp_inv - not useful as its for investors\n",
    "# total_pymnt - post approval feature\n",
    "# total_pymnt_inv - not useful as it is for investors\n",
    "# total_rec_prncp - post approval feature\n",
    "# total_rec_int - post approval feature\n",
    "# total_rec_late_fee - post approval feature\n",
    "# recoveries - post approval feature\n",
    "# collection_recovery_fee - post approval feature\n",
    "# last_pymnt_d - post approval feature\n",
    "# last_credit_pull_d - irrelevant for approval\n",
    "# last_pymnt_amnt - post feature\n",
    "# next_pymnt_d - post feature\n",
    "# collections_12_mths_ex_med - only 1 value \n",
    "# policy_code - only 1 value\n",
    "# acc_now_delinq - single valued\n",
    "# application_type - single\n",
    "# pub_rec_bankruptcies - single valued for more than 99%\n",
    "# addr_state - may not depend on location as its in financial domain\n",
    "\n",
    "unused_variables = [\"id\", \"member_id\", \"funded_amnt\", \"emp_title\", \"pymnt_plan\", \"url\", \"desc\",\n",
    "                    \"title\", \"zip_code\", \"delinq_2yrs\", \"mths_since_last_delinq\", \"mths_since_last_record\",\n",
    "                    \"revol_bal\", \"initial_list_status\", \"out_prncp\", \"out_prncp_inv\", \"total_pymnt\",\n",
    "                    \"total_pymnt_inv\", \"total_rec_prncp\", \"total_rec_int\", \"total_rec_late_fee\", \"recoveries\",\n",
    "                    \"collection_recovery_fee\", \"last_pymnt_d\", \"last_pymnt_amnt\", \"next_pymnt_d\", \"last_credit_pull_d\",\n",
    "                    \"collections_12_mths_ex_med\", \"policy_code\", \"acc_now_delinq\", \"application_type\", \"addr_state\"]\n",
    "df_selected_vars = df.drop(columns=unused_variables)\n",
    "print(\"Features we are left with\",list(df_selected_vars.columns))"
   ]
  },
  {
   "cell_type": "code",
   "execution_count": 6,
   "metadata": {},
   "outputs": [
    {
     "name": "stdout",
     "output_type": "stream",
     "text": [
      "<class 'pandas.core.frame.DataFrame'>\n",
      "RangeIndex: 466285 entries, 0 to 466284\n",
      "Data columns (total 42 columns):\n",
      " #   Column                       Non-Null Count   Dtype  \n",
      "---  ------                       --------------   -----  \n",
      " 0   loan_amnt                    466285 non-null  int64  \n",
      " 1   funded_amnt_inv              466285 non-null  float64\n",
      " 2   term                         466285 non-null  object \n",
      " 3   int_rate                     466285 non-null  float64\n",
      " 4   installment                  466285 non-null  float64\n",
      " 5   grade                        466285 non-null  object \n",
      " 6   sub_grade                    466285 non-null  object \n",
      " 7   emp_length                   445277 non-null  object \n",
      " 8   home_ownership               466285 non-null  object \n",
      " 9   annual_inc                   466281 non-null  float64\n",
      " 10  verification_status          466285 non-null  object \n",
      " 11  issue_d                      466285 non-null  object \n",
      " 12  loan_status                  466285 non-null  object \n",
      " 13  purpose                      466285 non-null  object \n",
      " 14  dti                          466285 non-null  float64\n",
      " 15  earliest_cr_line             466256 non-null  object \n",
      " 16  inq_last_6mths               466256 non-null  float64\n",
      " 17  open_acc                     466256 non-null  float64\n",
      " 18  pub_rec                      466256 non-null  float64\n",
      " 19  revol_util                   465945 non-null  float64\n",
      " 20  total_acc                    466256 non-null  float64\n",
      " 21  mths_since_last_major_derog  98974 non-null   float64\n",
      " 22  annual_inc_joint             0 non-null       float64\n",
      " 23  dti_joint                    0 non-null       float64\n",
      " 24  verification_status_joint    0 non-null       float64\n",
      " 25  tot_coll_amt                 396009 non-null  float64\n",
      " 26  tot_cur_bal                  396009 non-null  float64\n",
      " 27  open_acc_6m                  0 non-null       float64\n",
      " 28  open_il_6m                   0 non-null       float64\n",
      " 29  open_il_12m                  0 non-null       float64\n",
      " 30  open_il_24m                  0 non-null       float64\n",
      " 31  mths_since_rcnt_il           0 non-null       float64\n",
      " 32  total_bal_il                 0 non-null       float64\n",
      " 33  il_util                      0 non-null       float64\n",
      " 34  open_rv_12m                  0 non-null       float64\n",
      " 35  open_rv_24m                  0 non-null       float64\n",
      " 36  max_bal_bc                   0 non-null       float64\n",
      " 37  all_util                     0 non-null       float64\n",
      " 38  total_rev_hi_lim             396009 non-null  float64\n",
      " 39  inq_fi                       0 non-null       float64\n",
      " 40  total_cu_tl                  0 non-null       float64\n",
      " 41  inq_last_12m                 0 non-null       float64\n",
      "dtypes: float64(31), int64(1), object(10)\n",
      "memory usage: 149.4+ MB\n"
     ]
    }
   ],
   "source": [
    "df_selected_vars.info()"
   ]
  },
  {
   "attachments": {},
   "cell_type": "markdown",
   "metadata": {},
   "source": [
    "#### Process `emp_length`"
   ]
  },
  {
   "cell_type": "code",
   "execution_count": 7,
   "metadata": {},
   "outputs": [],
   "source": [
    "def process_emp_length(df, column='emp_length'):\n",
    "    # Define a mapping from original string values to numeric values\n",
    "    mapping = {'10+ years': 10, '< 1 year': 0, '1 year': 1, '2 years': 2, \n",
    "               '3 years': 3, '4 years': 4, '5 years': 5, '6 years': 6, \n",
    "               '7 years': 7, '8 years': 8, '9 years': 9, np.nan: np.nan}\n",
    "    \n",
    "    # Apply the mapping to the specified column\n",
    "    df[column] = df[column].map(mapping)\n",
    "    return df"
   ]
  },
  {
   "cell_type": "code",
   "execution_count": 8,
   "metadata": {},
   "outputs": [],
   "source": [
    "df_selected_vars = process_emp_length(df_selected_vars, 'emp_length')"
   ]
  },
  {
   "attachments": {},
   "cell_type": "markdown",
   "metadata": {},
   "source": [
    "#### Format Dates"
   ]
  },
  {
   "cell_type": "code",
   "execution_count": 9,
   "metadata": {},
   "outputs": [],
   "source": [
    "def convert_to_datetime(df, columns):\n",
    "    # Specify the date format\n",
    "    date_format = \"%b-%y\"\n",
    "\n",
    "    # Iterate over the specified columns and convert to datetime\n",
    "    for column in columns:\n",
    "        df[column] = pd.to_datetime(df[column], format=date_format)\n",
    "\n",
    "    return df"
   ]
  },
  {
   "cell_type": "code",
   "execution_count": 10,
   "metadata": {},
   "outputs": [],
   "source": [
    "# Convert the specified columns to datetime\n",
    "columns_to_convert = ['issue_d']\n",
    "df_dates_fixed = convert_to_datetime(df_selected_vars, columns_to_convert)"
   ]
  },
  {
   "attachments": {},
   "cell_type": "markdown",
   "metadata": {},
   "source": [
    "#### Remove Variables with Large Number of Missing Values"
   ]
  },
  {
   "cell_type": "code",
   "execution_count": 11,
   "metadata": {},
   "outputs": [],
   "source": [
    "def variables_with_min_missing(df, min_missing_percentage):\n",
    "    # Calculate the percentage of missing values in each column\n",
    "    missing_percentages = df.isnull().mean() * 100\n",
    "\n",
    "    # Get the variables where the percentage of missing values is greater than the specified minimum\n",
    "    variables_to_drop = missing_percentages[missing_percentages > min_missing_percentage].index.tolist()\n",
    "\n",
    "    return variables_to_drop\n"
   ]
  },
  {
   "cell_type": "code",
   "execution_count": 12,
   "metadata": {},
   "outputs": [],
   "source": [
    "min_missing_count = 80\n",
    "variables_to_drop = variables_with_min_missing(df_dates_fixed, min_missing_count)\n",
    "df_no_missing = df_dates_fixed.drop(columns=variables_to_drop)"
   ]
  },
  {
   "attachments": {},
   "cell_type": "markdown",
   "metadata": {},
   "source": [
    "#### Remove Missing Values"
   ]
  },
  {
   "cell_type": "code",
   "execution_count": 13,
   "metadata": {},
   "outputs": [],
   "source": [
    "df_no_missing.dropna(axis=0, subset=[\"emp_length\"], inplace=True)\n",
    "df_no_missing.dropna(axis=0, subset=[\"revol_util\"], inplace=True)"
   ]
  },
  {
   "attachments": {},
   "cell_type": "markdown",
   "metadata": {},
   "source": [
    "#### Remove Rows with Loan Status `Current` \n",
    "\n",
    "Removing records with loan status as **`Current`**, as the loan is currently running and we can’t infer any information regarding default from such loans."
   ]
  },
  {
   "cell_type": "code",
   "execution_count": 14,
   "metadata": {},
   "outputs": [],
   "source": [
    "# Remove the rows with loan_status as \"Current\"\n",
    "df_no_current = df_no_missing[df_no_missing[\"loan_status\"].apply(lambda x: False if x == \"Current\" else True)]\n",
    "\n",
    "# Update loan_status as Fully Paid to 0 and Charged Off to 1\n",
    "df_no_current[\"loan_status\"] = df_no_current[\"loan_status\"].apply(lambda x: 0 if x == \"Fully Paid\" else 1)\n",
    "\n",
    "# Convert 'emp_length' to string type\n",
    "df_no_current[\"emp_length\"] = df_no_current[\"emp_length\"].astype(str)\n",
    "\n",
    "# Update emp_length feature with continuous values as int\n",
    "# where (< 1 year) is assumed as 0 and 10+ years is assumed as 10 and rest are stored as their magnitude\n",
    "df_no_current[\"emp_length\"] = pd.to_numeric(df_no_current[\"emp_length\"].apply(lambda x: 0 if \"<\" in x else (x.split('+')[0] if \"+\" in x else x.split()[0])))\n",
    "\n",
    "# Look through the purpose value counts\n",
    "loan_purpose_values = df_no_current[\"purpose\"].value_counts() * 100 / df_no_current.shape[0]\n",
    "\n",
    "# Remove rows with less than 1% of value counts in particular purpose \n",
    "loan_purpose_delete = loan_purpose_values[loan_purpose_values < 1].index.values\n",
    "df_processed = df_no_current[[False if p in loan_purpose_delete else True for p in df_no_current[\"purpose\"]]]\n"
   ]
  },
  {
   "attachments": {},
   "cell_type": "markdown",
   "metadata": {},
   "source": [
    "#### Add New Variables"
   ]
  },
  {
   "cell_type": "code",
   "execution_count": 15,
   "metadata": {},
   "outputs": [],
   "source": [
    "# Extracting month and year from issue_date\n",
    "df_processed['month'] = df_processed['issue_d'].apply(lambda x: x.month)\n",
    "df_processed['year'] = df_processed['issue_d'].apply(lambda x: x.year)\n",
    "\n",
    "# Get year from issue_d and replace the same\n",
    "df_processed[\"earliest_cr_line\"] = pd.to_numeric(df_processed[\"earliest_cr_line\"].apply(lambda x:x.split('-')[1]))"
   ]
  },
  {
   "attachments": {},
   "cell_type": "markdown",
   "metadata": {},
   "source": [
    "#### Binning Continuous Variables"
   ]
  },
  {
   "cell_type": "code",
   "execution_count": 16,
   "metadata": {},
   "outputs": [],
   "source": [
    "# Create bins for loan_amnt range\n",
    "bins = [0, 5000, 10000, 15000, 20000, 25000, 36000]\n",
    "bucket_l = ['0-5000', '5000-10000', '10000-15000', '15000-20000', '20000-25000','25000+']\n",
    "df_processed['loan_amnt_range'] = pd.cut(df_processed['loan_amnt'], bins, labels=bucket_l)\n",
    "\n",
    "# Create bins for int_rate range\n",
    "bins = [0, 7.5, 10, 12.5, 15, 100]\n",
    "bucket_l = ['0-7.5', '7.5-10', '10-12.5', '12.5-15', '15+']\n",
    "df_processed['int_rate_range'] = pd.cut(df_processed['int_rate'], bins, labels=bucket_l)\n",
    "\n",
    "# Create bins for annual_inc range\n",
    "bins = [0, 25000, 50000, 75000, 100000, 1000000]\n",
    "bucket_l = ['0-25000', '25000-50000', '50000-75000', '75000-100000', '100000+']\n",
    "df_processed['annual_inc_range'] = pd.cut(df_processed['annual_inc'], bins, labels=bucket_l)\n",
    "\n",
    "# Convert NaN to 'Unknown'\n",
    "df_processed['annual_inc_range'] = df_processed['annual_inc_range'].cat.add_categories('Unknown')\n",
    "df_processed['annual_inc_range'].fillna('Unknown', inplace=True)\n",
    "\n",
    "# Create bins for installment range\n",
    "def installment(n):\n",
    "    if n <= 200:\n",
    "        return 'low'\n",
    "    elif n > 200 and n <=500:\n",
    "        return 'medium'\n",
    "    elif n > 500 and n <=800:\n",
    "        return 'high'\n",
    "    else:\n",
    "        return 'very high'\n",
    "\n",
    "df_processed['installment'] = df_processed['installment'].apply(lambda x: installment(x))\n",
    "\n",
    "# Create bins for dti range\n",
    "bins = [-1, 5.00, 10.00, 15.00, 20.00, 25.00, 50.00]\n",
    "bucket_l = ['0-5%', '5-10%', '10-15%', '15-20%', '20-25%', '25%+']\n",
    "df_processed['dti_range'] = pd.cut(df_processed['dti'], bins, labels=bucket_l)"
   ]
  },
  {
   "attachments": {},
   "cell_type": "markdown",
   "metadata": {},
   "source": [
    "Run metric again. "
   ]
  },
  {
   "cell_type": "code",
   "execution_count": 17,
   "metadata": {},
   "outputs": [
    {
     "name": "stdout",
     "output_type": "stream",
     "text": [
      "Pandas dataset detected. Initializing VM Dataset instance...\n",
      "Inferring dataset types...\n"
     ]
    },
    {
     "data": {
      "application/vnd.jupyter.widget-view+json": {
       "model_id": "8654637a337746f5ace95c3ac1fec66b",
       "version_major": 2,
       "version_minor": 0
      },
      "text/plain": [
       "VBox(children=(HTML(value='<p>This section provides descriptive statistics for numerical, categorical and date…"
      ]
     },
     "metadata": {},
     "output_type": "display_data"
    }
   ],
   "source": [
    "vm_df = vm.init_dataset(dataset=df_processed)\n",
    "test_context = TestContext(dataset=vm_df)\n",
    "metric = TabularDescriptionTables(test_context)\n",
    "metric.run()\n",
    "metric.result.show()"
   ]
  },
  {
   "attachments": {},
   "cell_type": "markdown",
   "metadata": {},
   "source": [
    "## Step 5: Univariate Analysis"
   ]
  },
  {
   "attachments": {},
   "cell_type": "markdown",
   "metadata": {},
   "source": [
    "### Target Variable"
   ]
  },
  {
   "cell_type": "code",
   "execution_count": 18,
   "metadata": {},
   "outputs": [
    {
     "data": {
      "image/png": "[encoded data removed]",
      "text/plain": [
       "<Figure size 2000x1000 with 1 Axes>"
      ]
     },
     "metadata": {},
     "output_type": "display_data"
    }
   ],
   "source": [
    "# Check for amount of defaults in the data using countplot\n",
    "plt.figure()\n",
    "sns.countplot(y=\"loan_status\", data=df_processed)\n",
    "plt.show()"
   ]
  },
  {
   "attachments": {},
   "cell_type": "markdown",
   "metadata": {},
   "source": [
    "### Numerical Features"
   ]
  },
  {
   "cell_type": "code",
   "execution_count": 19,
   "metadata": {},
   "outputs": [
    {
     "name": "stderr",
     "output_type": "stream",
     "text": [
      "More than 20 figures have been opened. Figures created through the pyplot interface (`matplotlib.pyplot.figure`) are retained until explicitly closed and may consume too much memory. (To control this warning, see the rcParam `figure.max_open_warning`). Consider using `matplotlib.pyplot.close()`.\n"
     ]
    },
    {
     "data": {
      "application/vnd.jupyter.widget-view+json": {
       "model_id": "192d2b96e6b64c4188b49e595a7a524f",
       "version_major": 2,
       "version_minor": 0
      },
      "text/plain": [
       "VBox(children=(HTML(value='<p>Generates a visual analysis of numerical data by plotting the histogram. The inp…"
      ]
     },
     "metadata": {},
     "output_type": "display_data"
    }
   ],
   "source": [
    "from validmind.data_validation.metrics import TabularNumericalHistograms\n",
    "metric = TabularNumericalHistograms(test_context)\n",
    "metric.run()\n",
    "metric.result.show()"
   ]
  },
  {
   "attachments": {},
   "cell_type": "markdown",
   "metadata": {},
   "source": [
    "### Categorical Features"
   ]
  },
  {
   "cell_type": "code",
   "execution_count": 20,
   "metadata": {},
   "outputs": [
    {
     "name": "stderr",
     "output_type": "stream",
     "text": [
      "More than 20 figures have been opened. Figures created through the pyplot interface (`matplotlib.pyplot.figure`) are retained until explicitly closed and may consume too much memory. (To control this warning, see the rcParam `figure.max_open_warning`). Consider using `matplotlib.pyplot.close()`.\n"
     ]
    },
    {
     "data": {
      "application/vnd.jupyter.widget-view+json": {
       "model_id": "c79bbc8807474014a4b02fa657524a13",
       "version_major": 2,
       "version_minor": 0
      },
      "text/plain": [
       "VBox(children=(HTML(value='<p>Generates a visual analysis of categorical data by plotting bar plots. The input…"
      ]
     },
     "metadata": {},
     "output_type": "display_data"
    }
   ],
   "source": [
    "from validmind.data_validation.metrics import TabularCategoricalBarPlots\n",
    "metric = TabularCategoricalBarPlots(test_context)\n",
    "metric.run()\n",
    "metric.result.show()"
   ]
  },
  {
   "attachments": {},
   "cell_type": "markdown",
   "metadata": {},
   "source": [
    "### Datetime Features"
   ]
  },
  {
   "cell_type": "code",
   "execution_count": 21,
   "metadata": {},
   "outputs": [
    {
     "data": {
      "application/vnd.jupyter.widget-view+json": {
       "model_id": "b57c60611fee4178b3e57f9783c11298",
       "version_major": 2,
       "version_minor": 0
      },
      "text/plain": [
       "VBox(children=(HTML(value='<p>Generates a visual analysis of datetime data by plotting histograms of differenc…"
      ]
     },
     "metadata": {},
     "output_type": "display_data"
    }
   ],
   "source": [
    "from validmind.data_validation.metrics import TabularDateTimeHistograms\n",
    "metric = TabularDateTimeHistograms(test_context)\n",
    "metric.run()\n",
    "metric.result.show()"
   ]
  },
  {
   "attachments": {},
   "cell_type": "markdown",
   "metadata": {},
   "source": [
    "### Loan Defaults Ratio by Feature"
   ]
  },
  {
   "cell_type": "code",
   "execution_count": 22,
   "metadata": {},
   "outputs": [
    {
     "name": "stdout",
     "output_type": "stream",
     "text": [
      "The column loan_status is binary.\n"
     ]
    },
    {
     "data": {
      "application/vnd.jupyter.widget-view+json": {
       "model_id": "871a167dd84941d1988dcbbe1b7c043c",
       "version_major": 2,
       "version_minor": 0
      },
      "text/plain": [
       "VBox(children=(HTML(value='<p>Generates a visual analysis of loan default ratios by plotting bar plots. The in…"
      ]
     },
     "metadata": {},
     "output_type": "display_data"
    }
   ],
   "source": [
    "from validmind.data_validation.metrics import LoanDefaultRatio\n",
    "\n",
    "# Select numerical and categorical features \n",
    "numerical_features = ['emp_length', 'month', 'year', 'earliest_cr_line', 'inq_last_6mths', 'revol_util', 'total_acc',\n",
    "                       'loan_amnt_range', 'int_rate_range', 'dti_range', 'installment', 'annual_inc_range']\n",
    "categorical_features = ['term', 'grade', 'sub_grade', 'home_ownership', 'verification_status', 'purpose', 'open_acc', 'pub_rec']\n",
    "\n",
    "# Configure the metric\n",
    "params = {\n",
    "    \"loan_status_col\": \"loan_status\",\n",
    "    \"columns\": numerical_features + categorical_features\n",
    "}\n",
    "\n",
    "test_context = TestContext(dataset=vm_df)\n",
    "metric = LoanDefaultRatio(test_context, params=params)\n",
    "metric.run()\n",
    "metric.result.show()"
   ]
  },
  {
   "attachments": {},
   "cell_type": "markdown",
   "metadata": {},
   "source": [
    "### Loan Defaults by Categorical Variable"
   ]
  },
  {
   "cell_type": "code",
   "execution_count": null,
   "metadata": {},
   "outputs": [],
   "source": [
    "import matplotlib.pyplot as plt\n",
    "import seaborn as sns\n",
    "\n",
    "def plot_loan_default_ratio(data, loan_status_col, columns=None, rsorted=True):\n",
    "    # Use all features if columns is not specified, else use selected columns\n",
    "    features = data.columns if columns is None else columns\n",
    "\n",
    "    for feature in features:\n",
    "        fig, axs = plt.subplots(1, 2)\n",
    "        \n",
    "        # Create sorted unique list of feature values for both plots\n",
    "        feature_dimension = sorted(data[feature].unique()) if rsorted else data[feature].unique()\n",
    "        \n",
    "        # First subplot for univariate count\n",
    "        count_values = [data[data[feature]==fd][loan_status_col].count() for fd in feature_dimension]\n",
    "        axs[0].bar(feature_dimension, count_values, color='#6699cc')\n",
    "        axs[0].set_title(f\"{feature}\", fontsize=18)\n",
    "        axs[0].set_ylabel(\"Count\", fontsize=18)\n",
    "        \n",
    "        # Second subplot for univariate ratio\n",
    "        # We don't use 'barplot' since it automatically sorts the categories on the x-axis \n",
    "        # in order of appearance in the data\n",
    "        ratio_values = [data[data[feature]==fd][loan_status_col].mean() for fd in feature_dimension]\n",
    "        axs[1].bar(feature_dimension, ratio_values, color='orange')\n",
    "        axs[1].set_title(f\"{feature}\", fontsize=18)\n",
    "        axs[1].set_ylabel(\"Loan Defaults Ratio\", fontsize=18)\n",
    "        \n",
    "        plt.tight_layout()\n",
    "        plt.show()\n"
   ]
  },
  {
   "cell_type": "code",
   "execution_count": null,
   "metadata": {},
   "outputs": [],
   "source": [
    "categorical_variables = ['term', 'grade', 'sub_grade', 'home_ownership', 'verification_status', 'purpose', 'open_acc', 'pub_rec']\n",
    "plot_loan_default_ratio(df_processed, loan_status_col='loan_status', columns=categorical_variables)"
   ]
  },
  {
   "attachments": {},
   "cell_type": "markdown",
   "metadata": {},
   "source": [
    "### Loan Defaults by Numerical Variable"
   ]
  },
  {
   "cell_type": "code",
   "execution_count": null,
   "metadata": {},
   "outputs": [],
   "source": [
    "numerical_variables = ['emp_length', 'month', 'year', 'earliest_cr_line', 'inq_last_6mths',\n",
    "                         'revol_util', 'total_acc', 'loan_amnt_range', 'int_rate_range',\n",
    "                         'dti_range', 'installment', 'annual_inc_range']\n",
    "plot_loan_default_ratio(df_processed, loan_status_col='loan_status', columns=numerical_variables)"
   ]
  },
  {
   "cell_type": "markdown",
   "metadata": {},
   "source": []
  },
  {
   "cell_type": "markdown",
   "metadata": {},
   "source": []
  },
  {
   "cell_type": "markdown",
   "metadata": {},
   "source": []
  },
  {
   "cell_type": "markdown",
   "metadata": {},
   "source": []
  },
  {
   "cell_type": "markdown",
   "metadata": {},
   "source": []
  },
  {
   "attachments": {},
   "cell_type": "markdown",
   "metadata": {},
   "source": [
    "Select rows with `loan_status` **`Charged Off`**, **`Current`** and **`Fully Paid`**."
   ]
  },
  {
   "cell_type": "code",
   "execution_count": null,
   "metadata": {},
   "outputs": [],
   "source": [
    "#selected_statuses = ['Charged Off', 'Current', 'Fully Paid']\n",
    "#df = df[df['loan_status'].isin(selected_statuses)]\n",
    "#plot_loan_status(df)"
   ]
  },
  {
   "attachments": {},
   "cell_type": "markdown",
   "metadata": {},
   "source": [
    "### Loan Purpose Overview"
   ]
  },
  {
   "cell_type": "code",
   "execution_count": null,
   "metadata": {},
   "outputs": [],
   "source": [
    "#loans_purpose = df.groupby(['purpose'])['funded_amnt_inv'].sum().reset_index()\n",
    "#plt.figure(figsize=(14, 10))\n",
    "#plt.pie(loans_purpose[\"funded_amnt_inv\"],labels=loans_purpose[\"purpose\"],autopct='%1.1f%%')\n",
    "#plt.title('Loan Purpose Aggregate Information')\n",
    "#plt.axis('equal')\n",
    "#plt.legend(loans_purpose['purpose'],title=\"Loan purpose\",loc=\"center left\",bbox_to_anchor=(1, 0, 0.5, 1))\n",
    "#plt.show()\n"
   ]
  }
 ],
 "metadata": {
  "kernelspec": {
   "display_name": "validmind-eEL8LtKG-py3.10",
   "language": "python",
   "name": "python3"
  },
  "language_info": {
   "codemirror_mode": {
    "name": "ipython",
    "version": 3
   },
   "file_extension": ".py",
   "mimetype": "text/x-python",
   "name": "python",
   "nbconvert_exporter": "python",
   "pygments_lexer": "ipython3",
   "version": "3.10.11"
  },
  "orig_nbformat": 4
 },
 "nbformat": 4,
 "nbformat_minor": 2
}
