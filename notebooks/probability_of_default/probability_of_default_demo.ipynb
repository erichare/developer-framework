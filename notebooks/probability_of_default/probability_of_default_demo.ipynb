{
 "cells": [
  {
   "attachments": {},
   "cell_type": "markdown",
   "metadata": {},
   "source": [
    "# Probability of Default Demo"
   ]
  },
  {
   "attachments": {},
   "cell_type": "markdown",
   "metadata": {},
   "source": [
    "## Introduction"
   ]
  },
  {
   "attachments": {},
   "cell_type": "markdown",
   "metadata": {},
   "source": [
    "#### Use Case"
   ]
  },
  {
   "attachments": {},
   "cell_type": "markdown",
   "metadata": {},
   "source": []
  },
  {
   "attachments": {},
   "cell_type": "markdown",
   "metadata": {},
   "source": [
    "#### Import Libraries"
   ]
  },
  {
   "cell_type": "code",
   "execution_count": 1,
   "metadata": {},
   "outputs": [],
   "source": [
    "# Load API key and secret from environment variables\n",
    "%load_ext dotenv\n",
    "%dotenv .env\n",
    "\n",
    "import statsmodels.api as sm\n",
    "import pickle\n",
    "import os\n",
    "from typing import List\n",
    "from datetime import datetime\n",
    "import re\n",
    "import zipfile\n",
    "import pandas as pd\n",
    "import numpy as np\n",
    "import seaborn as sns\n",
    "import matplotlib.pyplot as plt\n",
    "import matplotlib as mpl\n",
    "from sklearn.model_selection import train_test_split, RepeatedStratifiedKFold, cross_val_score\n",
    "from sklearn.linear_model import LogisticRegression\n",
    "from sklearn.metrics import roc_curve, roc_auc_score, confusion_matrix, precision_recall_curve, auc\n",
    "from sklearn.feature_selection import f_classif\n",
    "from sklearn.pipeline import Pipeline\n",
    "from sklearn.base import BaseEstimator, TransformerMixin\n",
    "from scipy.stats import chi2_contingency\n",
    "%matplotlib inline"
   ]
  },
  {
   "attachments": {},
   "cell_type": "markdown",
   "metadata": {},
   "source": [
    "#### Connect to ValidMind Project"
   ]
  },
  {
   "cell_type": "code",
   "execution_count": 2,
   "metadata": {},
   "outputs": [
    {
     "name": "stderr",
     "output_type": "stream",
     "text": [
      "2023-07-26 17:17:07,322 - INFO(validmind.api_client): Connected to ValidMind. Project: [6] Credit Risk Scorecard - Initial Validation (clk00h0u800x9qjy67gduf5om)\n"
     ]
    }
   ],
   "source": [
    "\n",
    "import validmind as vm\n",
    "\n",
    "vm.init(\n",
    "  api_host = \"http://localhost:3000/api/v1/tracking\",\n",
    "  api_key = \"...\",\n",
    "  api_secret = \"...\",\n",
    "  project = \"...\"\n",
    ")"
   ]
  },
  {
   "attachments": {},
   "cell_type": "markdown",
   "metadata": {},
   "source": [
    "#### Processing Functions"
   ]
  },
  {
   "cell_type": "code",
   "execution_count": 3,
   "metadata": {},
   "outputs": [],
   "source": [
    "import datetime\n",
    "\n",
    "def apply_default_probabilities(model_fit, df_scores, point_in_time=None):\n",
    "    \n",
    "    # If point-in-time None set to today's date \n",
    "    if point_in_time is None:\n",
    "        point_in_time = datetime.date.today().strftime(\"%Y-%m-%d\")\n",
    "        \n",
    "    df_scores['point_in_time'] = point_in_time\n",
    "\n",
    "    # Remove 'const' column if it exists in the dataframe\n",
    "    if 'const' in df_scores.columns:\n",
    "        df_scores = df_scores.drop(columns=['const'])\n",
    "\n",
    "    # Prepare the feature matrix\n",
    "    X = sm.add_constant(df_scores['score'])\n",
    "\n",
    "    # Compute the probabilities\n",
    "    probabilities = model_fit.predict(X)\n",
    "\n",
    "    # Add the probabilities to the dataframe\n",
    "    df_scores['predicted_default_probability'] = probabilities\n",
    "\n",
    "    # Compute predicted default based on the probability\n",
    "    df_scores['predicted_default'] = (df_scores['predicted_default_probability'] >= 0.5).astype(int)\n",
    "\n",
    "    return df_scores\n",
    "\n",
    "\n",
    "def apply_credit_scores(model, X, target_score, target_odds, pdo):\n",
    "    X_copy = X.copy()\n",
    "    beta = model.params.values\n",
    "    alpha = model.params[0]\n",
    "    factor = pdo / np.log(2)\n",
    "    offset = target_score - (factor * np.log(target_odds))\n",
    "\n",
    "    for _, row in X_copy.iterrows():\n",
    "        score_i = 0\n",
    "        for i in range(1, len(beta)):\n",
    "            WoE_i = row[i]\n",
    "            score_i += (beta[i] * WoE_i) * factor\n",
    "\n",
    "        score_i += alpha * factor\n",
    "        score_i += offset\n",
    "        X_copy.loc[row.name, \"score\"] = score_i\n",
    "\n",
    "    return X_copy\n",
    "\n",
    "\n",
    "def get_risk_band(pd_value, pd_risk_bands):\n",
    "    for band, (low, high) in pd_risk_bands.items():\n",
    "        if low <= pd_value < high:\n",
    "            return band\n",
    "    return None\n",
    "\n",
    "def apply_risk_bands(df, default_probabilities_column, pd_risk_bands):\n",
    "    df['risk_band'] = df[default_probabilities_column].apply(lambda x: get_risk_band(x, pd_risk_bands))\n",
    "    return df\n",
    "\n",
    "\n",
    "def compute_point_in_time_pd(model, df, threshold=0.5, point_in_time_date='2023-01-01'):\n",
    "    \"\"\"\n",
    "    Compute point-in-time default probabilities and predicted default values,\n",
    "    and add them as new columns in df.\n",
    "\n",
    "    The 'point_in_time' column is also added to df, with the given date.\n",
    "    \"\"\"\n",
    "    # Copy df to avoid changing the original DataFrame\n",
    "    df_copy = df.copy()\n",
    "\n",
    "    # Store 'default' and 'const' columns and exclude them from df_copy\n",
    "    default_column = None\n",
    "\n",
    "    if 'default' in df_copy.columns:\n",
    "        default_column = df_copy['default']\n",
    "        df_copy.drop('default', axis=1, inplace=True)\n",
    "\n",
    "    # Calculate probabilities\n",
    "    probabilities = model.predict(df_copy)\n",
    "    df_copy[\"default_probabilities\"] = probabilities\n",
    "\n",
    "    # Drop 'const' column \n",
    "    if 'const' in df_copy.columns:\n",
    "        df_copy.drop('const', axis=1, inplace=True)\n",
    "\n",
    "    # Add 'default' column back into df_copy\n",
    "    if default_column is not None:\n",
    "        df_copy['default'] = default_column\n",
    "\n",
    "    # Compute predicted default\n",
    "    df_copy['predicted_default'] = df_copy['default_probabilities'].apply(lambda x: 1 if x >= threshold else 0)\n",
    "\n",
    "    # Add 'point_in_time' column\n",
    "    df_copy['point_in_time'] = pd.to_datetime(point_in_time_date)\n",
    "\n",
    "    return df_copy\n",
    "\n",
    "\n",
    "\n",
    "def load_model_and_df(file_name):\n",
    "    \"\"\"Load a model and a DataFrame from a pickle file in the current directory\"\"\"\n",
    "    # Get the current working directory\n",
    "    current_path = os.getcwd()\n",
    "\n",
    "    # Construct the full file path\n",
    "    full_file_path = os.path.join(current_path, file_name)\n",
    "\n",
    "    print(f\"The full file path is: {full_file_path}\")\n",
    "\n",
    "    # Load the model and DataFrame\n",
    "    with open(full_file_path, 'rb') as file:\n",
    "        model, df = pickle.load(file)\n",
    "    \n",
    "    print(f\"Model and DataFrame loaded from {full_file_path}\")\n",
    "    \n",
    "    return model, df"
   ]
  },
  {
   "attachments": {},
   "cell_type": "markdown",
   "metadata": {},
   "source": [
    "## Data Description"
   ]
  },
  {
   "attachments": {},
   "cell_type": "markdown",
   "metadata": {},
   "source": [
    "#### Load Credit Risk Scorecard"
   ]
  },
  {
   "cell_type": "code",
   "execution_count": 4,
   "metadata": {},
   "outputs": [
    {
     "name": "stdout",
     "output_type": "stream",
     "text": [
      "The full file path is: /Users/juanvalidmind/Dev/github/validmind-python/notebooks/probability_of_default/model_fit_glm_scorecard_20230725_104439.pkl\n",
      "Model and DataFrame loaded from /Users/juanvalidmind/Dev/github/validmind-python/notebooks/probability_of_default/model_fit_glm_scorecard_20230725_104439.pkl\n",
      "                 Generalized Linear Model Regression Results                  \n",
      "==============================================================================\n",
      "Dep. Variable:                default   No. Observations:               137441\n",
      "Model:                            GLM   Df Residuals:                   137439\n",
      "Model Family:                Binomial   Df Model:                            1\n",
      "Link Function:                  Logit   Scale:                          1.0000\n",
      "Method:                          IRLS   Log-Likelihood:                -59837.\n",
      "Date:                Wed, 26 Jul 2023   Deviance:                   1.1967e+05\n",
      "Time:                        17:17:13   Pearson chi2:                 1.38e+05\n",
      "No. Iterations:                     5   Pseudo R-squ. (CS):            0.07993\n",
      "Covariance Type:            nonrobust                                         \n",
      "==============================================================================\n",
      "                 coef    std err          z      P>|z|      [0.025      0.975]\n",
      "------------------------------------------------------------------------------\n",
      "const        -13.4167      0.121   -111.171      0.000     -13.653     -13.180\n",
      "score          0.0347      0.000    100.269      0.000       0.034       0.035\n",
      "==============================================================================\n"
     ]
    }
   ],
   "source": [
    "# Load GLM Credit Risk Scorecard Model\n",
    "file_name = 'model_fit_glm_scorecard_20230725_104439.pkl'\n",
    "model_fit_glm, df = load_model_and_df(file_name)\n",
    "\n",
    "# Compute credit scores \n",
    "target_score = 500  # The score that you want to assign to the target odds\n",
    "target_odds = 50  # The target odds (e.g., odds of being good vs bad)\n",
    "pdo = 20  # Points to double the odds\n",
    "\n",
    "# Compute risk scores from model's coefficients\n",
    "df_scores = apply_credit_scores(model_fit_glm, df, target_score, target_odds, pdo)\n",
    "\n",
    "# Define the scores and default columns\n",
    "scores_column = 'score'\n",
    "default_column = 'default'\n",
    "\n",
    "# Extract the relevant columns from the dataframe\n",
    "X = df_scores[scores_column]\n",
    "y = df_scores[default_column]\n",
    "\n",
    "# Add constant to the features (Statsmodels requires this step)\n",
    "X = sm.add_constant(X)\n",
    "\n",
    "# Fit the GLM model (using the binomial family to get logistic regression)\n",
    "model_fit_pit_pd = sm.GLM(y, X, family=sm.families.Binomial()).fit()\n",
    "\n",
    "# Print the model summary\n",
    "print(model_fit_pit_pd.summary())\n",
    "\n"
   ]
  },
  {
   "cell_type": "code",
   "execution_count": 5,
   "metadata": {},
   "outputs": [
    {
     "data": {
      "text/html": [
       "<div>\n",
       "<style scoped>\n",
       "    .dataframe tbody tr th:only-of-type {\n",
       "        vertical-align: middle;\n",
       "    }\n",
       "\n",
       "    .dataframe tbody tr th {\n",
       "        vertical-align: top;\n",
       "    }\n",
       "\n",
       "    .dataframe thead th {\n",
       "        text-align: right;\n",
       "    }\n",
       "</style>\n",
       "<table border=\"1\" class=\"dataframe\">\n",
       "  <thead>\n",
       "    <tr style=\"text-align: right;\">\n",
       "      <th></th>\n",
       "      <th>term</th>\n",
       "      <th>grade</th>\n",
       "      <th>sub_grade</th>\n",
       "      <th>verification_status</th>\n",
       "      <th>purpose</th>\n",
       "      <th>inq_last_6mths_bucket</th>\n",
       "      <th>annual_inc_bucket</th>\n",
       "      <th>int_rate_bucket</th>\n",
       "      <th>installment_bucket</th>\n",
       "      <th>default</th>\n",
       "      <th>score</th>\n",
       "      <th>point_in_time</th>\n",
       "      <th>predicted_default_probability</th>\n",
       "      <th>predicted_default</th>\n",
       "    </tr>\n",
       "  </thead>\n",
       "  <tbody>\n",
       "    <tr>\n",
       "      <th>101002</th>\n",
       "      <td>0.218406</td>\n",
       "      <td>1.169365</td>\n",
       "      <td>1.499598</td>\n",
       "      <td>0.272578</td>\n",
       "      <td>-0.069164</td>\n",
       "      <td>-0.052312</td>\n",
       "      <td>-0.059885</td>\n",
       "      <td>1.066373</td>\n",
       "      <td>0.211363</td>\n",
       "      <td>0</td>\n",
       "      <td>304.097084</td>\n",
       "      <td>2023-07-26</td>\n",
       "      <td>0.053279</td>\n",
       "      <td>0</td>\n",
       "    </tr>\n",
       "    <tr>\n",
       "      <th>88098</th>\n",
       "      <td>0.218406</td>\n",
       "      <td>0.381494</td>\n",
       "      <td>0.145509</td>\n",
       "      <td>-0.135550</td>\n",
       "      <td>-0.069164</td>\n",
       "      <td>0.138128</td>\n",
       "      <td>-0.059885</td>\n",
       "      <td>-0.209659</td>\n",
       "      <td>0.083400</td>\n",
       "      <td>0</td>\n",
       "      <td>333.363479</td>\n",
       "      <td>2023-07-26</td>\n",
       "      <td>0.134335</td>\n",
       "      <td>0</td>\n",
       "    </tr>\n",
       "    <tr>\n",
       "      <th>73813</th>\n",
       "      <td>0.218406</td>\n",
       "      <td>1.169365</td>\n",
       "      <td>1.926638</td>\n",
       "      <td>-0.135550</td>\n",
       "      <td>-0.069164</td>\n",
       "      <td>0.138128</td>\n",
       "      <td>0.473117</td>\n",
       "      <td>1.066373</td>\n",
       "      <td>0.083400</td>\n",
       "      <td>0</td>\n",
       "      <td>288.396515</td>\n",
       "      <td>2023-07-26</td>\n",
       "      <td>0.031627</td>\n",
       "      <td>0</td>\n",
       "    </tr>\n",
       "    <tr>\n",
       "      <th>220498</th>\n",
       "      <td>0.218406</td>\n",
       "      <td>1.169365</td>\n",
       "      <td>1.023514</td>\n",
       "      <td>0.272578</td>\n",
       "      <td>0.373554</td>\n",
       "      <td>0.138128</td>\n",
       "      <td>0.280815</td>\n",
       "      <td>1.066373</td>\n",
       "      <td>-0.176309</td>\n",
       "      <td>0</td>\n",
       "      <td>300.961895</td>\n",
       "      <td>2023-07-26</td>\n",
       "      <td>0.048057</td>\n",
       "      <td>0</td>\n",
       "    </tr>\n",
       "    <tr>\n",
       "      <th>445198</th>\n",
       "      <td>-0.928453</td>\n",
       "      <td>-0.202676</td>\n",
       "      <td>-0.188013</td>\n",
       "      <td>-0.135550</td>\n",
       "      <td>0.211516</td>\n",
       "      <td>-0.187672</td>\n",
       "      <td>-0.059885</td>\n",
       "      <td>-0.209659</td>\n",
       "      <td>0.083400</td>\n",
       "      <td>0</td>\n",
       "      <td>364.192513</td>\n",
       "      <td>2023-07-26</td>\n",
       "      <td>0.311159</td>\n",
       "      <td>0</td>\n",
       "    </tr>\n",
       "    <tr>\n",
       "      <th>...</th>\n",
       "      <td>...</td>\n",
       "      <td>...</td>\n",
       "      <td>...</td>\n",
       "      <td>...</td>\n",
       "      <td>...</td>\n",
       "      <td>...</td>\n",
       "      <td>...</td>\n",
       "      <td>...</td>\n",
       "      <td>...</td>\n",
       "      <td>...</td>\n",
       "      <td>...</td>\n",
       "      <td>...</td>\n",
       "      <td>...</td>\n",
       "      <td>...</td>\n",
       "    </tr>\n",
       "    <tr>\n",
       "      <th>128106</th>\n",
       "      <td>0.218406</td>\n",
       "      <td>0.381494</td>\n",
       "      <td>0.145509</td>\n",
       "      <td>-0.135550</td>\n",
       "      <td>0.179411</td>\n",
       "      <td>-0.187672</td>\n",
       "      <td>0.473117</td>\n",
       "      <td>-0.209659</td>\n",
       "      <td>-0.176309</td>\n",
       "      <td>0</td>\n",
       "      <td>325.103884</td>\n",
       "      <td>2023-07-26</td>\n",
       "      <td>0.104386</td>\n",
       "      <td>0</td>\n",
       "    </tr>\n",
       "    <tr>\n",
       "      <th>173887</th>\n",
       "      <td>0.218406</td>\n",
       "      <td>0.381494</td>\n",
       "      <td>0.145509</td>\n",
       "      <td>0.272578</td>\n",
       "      <td>-0.069164</td>\n",
       "      <td>0.138128</td>\n",
       "      <td>-0.059885</td>\n",
       "      <td>-0.209659</td>\n",
       "      <td>-0.176309</td>\n",
       "      <td>0</td>\n",
       "      <td>340.525961</td>\n",
       "      <td>2023-07-26</td>\n",
       "      <td>0.165906</td>\n",
       "      <td>0</td>\n",
       "    </tr>\n",
       "    <tr>\n",
       "      <th>85721</th>\n",
       "      <td>0.218406</td>\n",
       "      <td>0.381494</td>\n",
       "      <td>0.145509</td>\n",
       "      <td>-0.135550</td>\n",
       "      <td>0.179411</td>\n",
       "      <td>0.138128</td>\n",
       "      <td>-0.059885</td>\n",
       "      <td>-0.209659</td>\n",
       "      <td>0.083400</td>\n",
       "      <td>1</td>\n",
       "      <td>329.821172</td>\n",
       "      <td>2023-07-26</td>\n",
       "      <td>0.120689</td>\n",
       "      <td>0</td>\n",
       "    </tr>\n",
       "    <tr>\n",
       "      <th>462837</th>\n",
       "      <td>0.218406</td>\n",
       "      <td>1.169365</td>\n",
       "      <td>0.873213</td>\n",
       "      <td>0.272578</td>\n",
       "      <td>-0.069164</td>\n",
       "      <td>0.138128</td>\n",
       "      <td>-0.059885</td>\n",
       "      <td>1.066373</td>\n",
       "      <td>0.083400</td>\n",
       "      <td>0</td>\n",
       "      <td>310.101809</td>\n",
       "      <td>2023-07-26</td>\n",
       "      <td>0.064807</td>\n",
       "      <td>0</td>\n",
       "    </tr>\n",
       "    <tr>\n",
       "      <th>354944</th>\n",
       "      <td>0.218406</td>\n",
       "      <td>-1.088851</td>\n",
       "      <td>-0.743701</td>\n",
       "      <td>0.272578</td>\n",
       "      <td>-0.069164</td>\n",
       "      <td>0.138128</td>\n",
       "      <td>-0.242169</td>\n",
       "      <td>-0.209659</td>\n",
       "      <td>0.083400</td>\n",
       "      <td>0</td>\n",
       "      <td>364.847022</td>\n",
       "      <td>2023-07-26</td>\n",
       "      <td>0.316042</td>\n",
       "      <td>0</td>\n",
       "    </tr>\n",
       "  </tbody>\n",
       "</table>\n",
       "<p>137441 rows × 14 columns</p>\n",
       "</div>"
      ],
      "text/plain": [
       "            term     grade  sub_grade  verification_status   purpose  \\\n",
       "101002  0.218406  1.169365   1.499598             0.272578 -0.069164   \n",
       "88098   0.218406  0.381494   0.145509            -0.135550 -0.069164   \n",
       "73813   0.218406  1.169365   1.926638            -0.135550 -0.069164   \n",
       "220498  0.218406  1.169365   1.023514             0.272578  0.373554   \n",
       "445198 -0.928453 -0.202676  -0.188013            -0.135550  0.211516   \n",
       "...          ...       ...        ...                  ...       ...   \n",
       "128106  0.218406  0.381494   0.145509            -0.135550  0.179411   \n",
       "173887  0.218406  0.381494   0.145509             0.272578 -0.069164   \n",
       "85721   0.218406  0.381494   0.145509            -0.135550  0.179411   \n",
       "462837  0.218406  1.169365   0.873213             0.272578 -0.069164   \n",
       "354944  0.218406 -1.088851  -0.743701             0.272578 -0.069164   \n",
       "\n",
       "        inq_last_6mths_bucket  annual_inc_bucket  int_rate_bucket  \\\n",
       "101002              -0.052312          -0.059885         1.066373   \n",
       "88098                0.138128          -0.059885        -0.209659   \n",
       "73813                0.138128           0.473117         1.066373   \n",
       "220498               0.138128           0.280815         1.066373   \n",
       "445198              -0.187672          -0.059885        -0.209659   \n",
       "...                       ...                ...              ...   \n",
       "128106              -0.187672           0.473117        -0.209659   \n",
       "173887               0.138128          -0.059885        -0.209659   \n",
       "85721                0.138128          -0.059885        -0.209659   \n",
       "462837               0.138128          -0.059885         1.066373   \n",
       "354944               0.138128          -0.242169        -0.209659   \n",
       "\n",
       "        installment_bucket  default       score point_in_time  \\\n",
       "101002            0.211363        0  304.097084    2023-07-26   \n",
       "88098             0.083400        0  333.363479    2023-07-26   \n",
       "73813             0.083400        0  288.396515    2023-07-26   \n",
       "220498           -0.176309        0  300.961895    2023-07-26   \n",
       "445198            0.083400        0  364.192513    2023-07-26   \n",
       "...                    ...      ...         ...           ...   \n",
       "128106           -0.176309        0  325.103884    2023-07-26   \n",
       "173887           -0.176309        0  340.525961    2023-07-26   \n",
       "85721             0.083400        1  329.821172    2023-07-26   \n",
       "462837            0.083400        0  310.101809    2023-07-26   \n",
       "354944            0.083400        0  364.847022    2023-07-26   \n",
       "\n",
       "        predicted_default_probability  predicted_default  \n",
       "101002                       0.053279                  0  \n",
       "88098                        0.134335                  0  \n",
       "73813                        0.031627                  0  \n",
       "220498                       0.048057                  0  \n",
       "445198                       0.311159                  0  \n",
       "...                               ...                ...  \n",
       "128106                       0.104386                  0  \n",
       "173887                       0.165906                  0  \n",
       "85721                        0.120689                  0  \n",
       "462837                       0.064807                  0  \n",
       "354944                       0.316042                  0  \n",
       "\n",
       "[137441 rows x 14 columns]"
      ]
     },
     "execution_count": 5,
     "metadata": {},
     "output_type": "execute_result"
    }
   ],
   "source": [
    "df_pit_pd = apply_default_probabilities(model_fit_pit_pd, df_scores)\n",
    "df_pit_pd"
   ]
  },
  {
   "attachments": {},
   "cell_type": "markdown",
   "metadata": {},
   "source": [
    "#### Validate PiT-PD Data"
   ]
  },
  {
   "attachments": {},
   "cell_type": "markdown",
   "metadata": {},
   "source": [
    "**Validate Point-in-Time PD Dataset**"
   ]
  },
  {
   "cell_type": "code",
   "execution_count": 6,
   "metadata": {},
   "outputs": [
    {
     "data": {
      "application/vnd.jupyter.widget-view+json": {
       "model_id": "438ae888c262497485b48acea55db90f",
       "version_major": 2,
       "version_minor": 0
      },
      "text/plain": [
       "VBox(children=(HTML(value='<p>This metric calculates the probability of default (PD) for each instance in the …"
      ]
     },
     "metadata": {},
     "output_type": "display_data"
    }
   ],
   "source": [
    "from validmind.vm_models.test_context import TestContext\n",
    "from validmind.tests.data_validation.PiTPDHistogram import PiTPDHistogram\n",
    "\n",
    "# Define text context \n",
    "test_context_pit_pd = TestContext(dataset=df_pit_pd)\n",
    "\n",
    "# Configure test parameters\n",
    "params = {\n",
    "    \"default_column\": 'default',\n",
    "    \"predicted_default_column\": 'predicted_default',\n",
    "    \"default_probabilities_column\": 'predicted_default_probability',\n",
    "    \"point_in_time_column\": 'point_in_time',\n",
    "    \"title\": \"Histogram of Probability of Default\",\n",
    "}\n",
    "\n",
    "metric = PiTPDHistogram(test_context_pit_pd, params)\n",
    "metric.run()\n",
    "await metric.result.log()\n",
    "metric.result.show()"
   ]
  },
  {
   "cell_type": "code",
   "execution_count": 7,
   "metadata": {},
   "outputs": [
    {
     "data": {
      "application/vnd.jupyter.widget-view+json": {
       "model_id": "8bb4fb89b1854bad9086fe4ffca5f28f",
       "version_major": 2,
       "version_minor": 0
      },
      "text/plain": [
       "VBox(children=(HTML(value='<p>This metric calculates the scores for each instance in the training and test dat…"
      ]
     },
     "metadata": {},
     "output_type": "display_data"
    }
   ],
   "source": [
    "from validmind.tests.data_validation.PiTCreditScoresHistogram import PiTCreditScoresHistogram\n",
    "\n",
    "# Define text context \n",
    "test_context_pit_pd = TestContext(dataset=df_pit_pd)\n",
    "\n",
    "# Configure test parameters\n",
    "params = {\n",
    "    \"default_column\": 'default',\n",
    "    \"predicted_default_column\": 'predicted_default',\n",
    "    \"scores_column\": 'score',\n",
    "    \"point_in_time_column\": 'point_in_time',\n",
    "    \"title\": \"Histogram of Credit Scores\",\n",
    "}\n",
    "\n",
    "metric = PiTCreditScoresHistogram(test_context_pit_pd, params)\n",
    "metric.run()\n",
    "await metric.result.log()\n",
    "metric.result.show()"
   ]
  },
  {
   "attachments": {},
   "cell_type": "markdown",
   "metadata": {},
   "source": [
    "## Data Preparation"
   ]
  },
  {
   "attachments": {},
   "cell_type": "markdown",
   "metadata": {},
   "source": [
    "#### Assing Risk Bands to PDs"
   ]
  },
  {
   "cell_type": "code",
   "execution_count": 8,
   "metadata": {},
   "outputs": [],
   "source": [
    "pd_risk_bands = { \n",
    "    \"A\": [0, 0.1],\n",
    "    \"B\": [0.1, 0.4],\n",
    "    \"C\": [0.4, 0.6],\n",
    "    \"D\": [0.6, 1],\n",
    "}\n",
    "\n",
    "\n",
    "df_risk_bands = apply_risk_bands(df=df_pit_pd, \n",
    "                                  default_probabilities_column='predicted_default_probability', \n",
    "                                  pd_risk_bands=pd_risk_bands)"
   ]
  },
  {
   "attachments": {},
   "cell_type": "markdown",
   "metadata": {},
   "source": [
    "#### Testing"
   ]
  },
  {
   "cell_type": "code",
   "execution_count": 9,
   "metadata": {},
   "outputs": [
    {
     "ename": "ImportError",
     "evalue": "cannot import name 'DefaultRatesByRiskBandPlot' from 'validmind.tests.data_validation.DefaultRatesbyRiskBandPlot' (/Users/juanvalidmind/Dev/github/validmind-python/validmind/tests/data_validation/DefaultRatesbyRiskBandPlot.py)",
     "output_type": "error",
     "traceback": [
      "\u001b[0;31m---------------------------------------------------------------------------\u001b[0m",
      "\u001b[0;31mImportError\u001b[0m                               Traceback (most recent call last)",
      "\u001b[0;32m/var/folders/tn/rbr74q892k13m82y37y396h40000gn/T/ipykernel_35605/1820396453.py\u001b[0m in \u001b[0;36m<cell line: 1>\u001b[0;34m()\u001b[0m\n\u001b[0;32m----> 1\u001b[0;31m \u001b[0;32mfrom\u001b[0m \u001b[0mvalidmind\u001b[0m\u001b[0;34m.\u001b[0m\u001b[0mtests\u001b[0m\u001b[0;34m.\u001b[0m\u001b[0mdata_validation\u001b[0m\u001b[0;34m.\u001b[0m\u001b[0mDefaultRatesbyRiskBandPlot\u001b[0m \u001b[0;32mimport\u001b[0m \u001b[0mDefaultRatesByRiskBandPlot\u001b[0m\u001b[0;34m\u001b[0m\u001b[0;34m\u001b[0m\u001b[0m\n\u001b[0m\u001b[1;32m      2\u001b[0m \u001b[0;34m\u001b[0m\u001b[0m\n\u001b[1;32m      3\u001b[0m \u001b[0;31m# Define text context\u001b[0m\u001b[0;34m\u001b[0m\u001b[0;34m\u001b[0m\u001b[0m\n\u001b[1;32m      4\u001b[0m \u001b[0mtest_context_risk_grade\u001b[0m \u001b[0;34m=\u001b[0m \u001b[0mTestContext\u001b[0m\u001b[0;34m(\u001b[0m\u001b[0mdataset\u001b[0m\u001b[0;34m=\u001b[0m\u001b[0mdf_risk_bands\u001b[0m\u001b[0;34m)\u001b[0m\u001b[0;34m\u001b[0m\u001b[0;34m\u001b[0m\u001b[0m\n\u001b[1;32m      5\u001b[0m \u001b[0;34m\u001b[0m\u001b[0m\n",
      "\u001b[0;31mImportError\u001b[0m: cannot import name 'DefaultRatesByRiskBandPlot' from 'validmind.tests.data_validation.DefaultRatesbyRiskBandPlot' (/Users/juanvalidmind/Dev/github/validmind-python/validmind/tests/data_validation/DefaultRatesbyRiskBandPlot.py)"
     ]
    }
   ],
   "source": [
    "from validmind.tests.data_validation.DefaultRatesbyRiskBandPlot import DefaultRatesByRiskBandPlot\n",
    "\n",
    "# Define text context \n",
    "test_context_risk_grade = TestContext(dataset=df_risk_bands)\n",
    "\n",
    "# Configure test parameters\n",
    "params = {\n",
    "    \"default_column\": 'default',\n",
    "    \"risk_band_column\": 'risk_band',\n",
    "    \"title\": \"Bar Plot of Default Rates per Risk Grade\",\n",
    "}\n",
    "\n",
    "metric = DefaultRatesbyRiskBandPlot(test_context_risk_grade, params)\n",
    "metric.run()\n",
    "await metric.result.log()\n",
    "metric.result.show()"
   ]
  },
  {
   "cell_type": "code",
   "execution_count": 11,
   "metadata": {},
   "outputs": [
    {
     "data": {
      "application/vnd.plotly.v1+json": {
       "config": {
        "plotlyServerURL": "https://plot.ly"
       },
       "data": [
        {
         "marker": {
          "color": [
           "#2E91E5",
           "#E15F99",
           "#1CA71C",
           "#FB0D0D",
           "#DA16FF",
           "#222A2A",
           "#B68100",
           "#750D86",
           "#EB663B",
           "#511CFB",
           "#00A08B",
           "#FB00D1",
           "#FC0080",
           "#B2828D",
           "#6C7C32",
           "#778AAE",
           "#862A16",
           "#A777F1",
           "#620042",
           "#1616A7",
           "#DA60CA",
           "#6C4516",
           "#0D2A63",
           "#AF0038"
          ]
         },
         "type": "bar",
         "x": [
          "A",
          "B",
          "C",
          "D"
         ],
         "y": [
          24.686956585007387,
          69.42542618287119,
          5.363028499501604,
          0.5245887326198151
         ]
        }
       ],
       "layout": {
        "template": {
         "data": {
          "bar": [
           {
            "error_x": {
             "color": "#2a3f5f"
            },
            "error_y": {
             "color": "#2a3f5f"
            },
            "marker": {
             "line": {
              "color": "#E5ECF6",
              "width": 0.5
             },
             "pattern": {
              "fillmode": "overlay",
              "size": 10,
              "solidity": 0.2
             }
            },
            "type": "bar"
           }
          ],
          "barpolar": [
           {
            "marker": {
             "line": {
              "color": "#E5ECF6",
              "width": 0.5
             },
             "pattern": {
              "fillmode": "overlay",
              "size": 10,
              "solidity": 0.2
             }
            },
            "type": "barpolar"
           }
          ],
          "carpet": [
           {
            "aaxis": {
             "endlinecolor": "#2a3f5f",
             "gridcolor": "white",
             "linecolor": "white",
             "minorgridcolor": "white",
             "startlinecolor": "#2a3f5f"
            },
            "baxis": {
             "endlinecolor": "#2a3f5f",
             "gridcolor": "white",
             "linecolor": "white",
             "minorgridcolor": "white",
             "startlinecolor": "#2a3f5f"
            },
            "type": "carpet"
           }
          ],
          "choropleth": [
           {
            "colorbar": {
             "outlinewidth": 0,
             "ticks": ""
            },
            "type": "choropleth"
           }
          ],
          "contour": [
           {
            "colorbar": {
             "outlinewidth": 0,
             "ticks": ""
            },
            "colorscale": [
             [
              0,
              "#0d0887"
             ],
             [
              0.1111111111111111,
              "#46039f"
             ],
             [
              0.2222222222222222,
              "#7201a8"
             ],
             [
              0.3333333333333333,
              "#9c179e"
             ],
             [
              0.4444444444444444,
              "#bd3786"
             ],
             [
              0.5555555555555556,
              "#d8576b"
             ],
             [
              0.6666666666666666,
              "#ed7953"
             ],
             [
              0.7777777777777778,
              "#fb9f3a"
             ],
             [
              0.8888888888888888,
              "#fdca26"
             ],
             [
              1,
              "#f0f921"
             ]
            ],
            "type": "contour"
           }
          ],
          "contourcarpet": [
           {
            "colorbar": {
             "outlinewidth": 0,
             "ticks": ""
            },
            "type": "contourcarpet"
           }
          ],
          "heatmap": [
           {
            "colorbar": {
             "outlinewidth": 0,
             "ticks": ""
            },
            "colorscale": [
             [
              0,
              "#0d0887"
             ],
             [
              0.1111111111111111,
              "#46039f"
             ],
             [
              0.2222222222222222,
              "#7201a8"
             ],
             [
              0.3333333333333333,
              "#9c179e"
             ],
             [
              0.4444444444444444,
              "#bd3786"
             ],
             [
              0.5555555555555556,
              "#d8576b"
             ],
             [
              0.6666666666666666,
              "#ed7953"
             ],
             [
              0.7777777777777778,
              "#fb9f3a"
             ],
             [
              0.8888888888888888,
              "#fdca26"
             ],
             [
              1,
              "#f0f921"
             ]
            ],
            "type": "heatmap"
           }
          ],
          "heatmapgl": [
           {
            "colorbar": {
             "outlinewidth": 0,
             "ticks": ""
            },
            "colorscale": [
             [
              0,
              "#0d0887"
             ],
             [
              0.1111111111111111,
              "#46039f"
             ],
             [
              0.2222222222222222,
              "#7201a8"
             ],
             [
              0.3333333333333333,
              "#9c179e"
             ],
             [
              0.4444444444444444,
              "#bd3786"
             ],
             [
              0.5555555555555556,
              "#d8576b"
             ],
             [
              0.6666666666666666,
              "#ed7953"
             ],
             [
              0.7777777777777778,
              "#fb9f3a"
             ],
             [
              0.8888888888888888,
              "#fdca26"
             ],
             [
              1,
              "#f0f921"
             ]
            ],
            "type": "heatmapgl"
           }
          ],
          "histogram": [
           {
            "marker": {
             "pattern": {
              "fillmode": "overlay",
              "size": 10,
              "solidity": 0.2
             }
            },
            "type": "histogram"
           }
          ],
          "histogram2d": [
           {
            "colorbar": {
             "outlinewidth": 0,
             "ticks": ""
            },
            "colorscale": [
             [
              0,
              "#0d0887"
             ],
             [
              0.1111111111111111,
              "#46039f"
             ],
             [
              0.2222222222222222,
              "#7201a8"
             ],
             [
              0.3333333333333333,
              "#9c179e"
             ],
             [
              0.4444444444444444,
              "#bd3786"
             ],
             [
              0.5555555555555556,
              "#d8576b"
             ],
             [
              0.6666666666666666,
              "#ed7953"
             ],
             [
              0.7777777777777778,
              "#fb9f3a"
             ],
             [
              0.8888888888888888,
              "#fdca26"
             ],
             [
              1,
              "#f0f921"
             ]
            ],
            "type": "histogram2d"
           }
          ],
          "histogram2dcontour": [
           {
            "colorbar": {
             "outlinewidth": 0,
             "ticks": ""
            },
            "colorscale": [
             [
              0,
              "#0d0887"
             ],
             [
              0.1111111111111111,
              "#46039f"
             ],
             [
              0.2222222222222222,
              "#7201a8"
             ],
             [
              0.3333333333333333,
              "#9c179e"
             ],
             [
              0.4444444444444444,
              "#bd3786"
             ],
             [
              0.5555555555555556,
              "#d8576b"
             ],
             [
              0.6666666666666666,
              "#ed7953"
             ],
             [
              0.7777777777777778,
              "#fb9f3a"
             ],
             [
              0.8888888888888888,
              "#fdca26"
             ],
             [
              1,
              "#f0f921"
             ]
            ],
            "type": "histogram2dcontour"
           }
          ],
          "mesh3d": [
           {
            "colorbar": {
             "outlinewidth": 0,
             "ticks": ""
            },
            "type": "mesh3d"
           }
          ],
          "parcoords": [
           {
            "line": {
             "colorbar": {
              "outlinewidth": 0,
              "ticks": ""
             }
            },
            "type": "parcoords"
           }
          ],
          "pie": [
           {
            "automargin": true,
            "type": "pie"
           }
          ],
          "scatter": [
           {
            "fillpattern": {
             "fillmode": "overlay",
             "size": 10,
             "solidity": 0.2
            },
            "type": "scatter"
           }
          ],
          "scatter3d": [
           {
            "line": {
             "colorbar": {
              "outlinewidth": 0,
              "ticks": ""
             }
            },
            "marker": {
             "colorbar": {
              "outlinewidth": 0,
              "ticks": ""
             }
            },
            "type": "scatter3d"
           }
          ],
          "scattercarpet": [
           {
            "marker": {
             "colorbar": {
              "outlinewidth": 0,
              "ticks": ""
             }
            },
            "type": "scattercarpet"
           }
          ],
          "scattergeo": [
           {
            "marker": {
             "colorbar": {
              "outlinewidth": 0,
              "ticks": ""
             }
            },
            "type": "scattergeo"
           }
          ],
          "scattergl": [
           {
            "marker": {
             "colorbar": {
              "outlinewidth": 0,
              "ticks": ""
             }
            },
            "type": "scattergl"
           }
          ],
          "scattermapbox": [
           {
            "marker": {
             "colorbar": {
              "outlinewidth": 0,
              "ticks": ""
             }
            },
            "type": "scattermapbox"
           }
          ],
          "scatterpolar": [
           {
            "marker": {
             "colorbar": {
              "outlinewidth": 0,
              "ticks": ""
             }
            },
            "type": "scatterpolar"
           }
          ],
          "scatterpolargl": [
           {
            "marker": {
             "colorbar": {
              "outlinewidth": 0,
              "ticks": ""
             }
            },
            "type": "scatterpolargl"
           }
          ],
          "scatterternary": [
           {
            "marker": {
             "colorbar": {
              "outlinewidth": 0,
              "ticks": ""
             }
            },
            "type": "scatterternary"
           }
          ],
          "surface": [
           {
            "colorbar": {
             "outlinewidth": 0,
             "ticks": ""
            },
            "colorscale": [
             [
              0,
              "#0d0887"
             ],
             [
              0.1111111111111111,
              "#46039f"
             ],
             [
              0.2222222222222222,
              "#7201a8"
             ],
             [
              0.3333333333333333,
              "#9c179e"
             ],
             [
              0.4444444444444444,
              "#bd3786"
             ],
             [
              0.5555555555555556,
              "#d8576b"
             ],
             [
              0.6666666666666666,
              "#ed7953"
             ],
             [
              0.7777777777777778,
              "#fb9f3a"
             ],
             [
              0.8888888888888888,
              "#fdca26"
             ],
             [
              1,
              "#f0f921"
             ]
            ],
            "type": "surface"
           }
          ],
          "table": [
           {
            "cells": {
             "fill": {
              "color": "#EBF0F8"
             },
             "line": {
              "color": "white"
             }
            },
            "header": {
             "fill": {
              "color": "#C8D4E3"
             },
             "line": {
              "color": "white"
             }
            },
            "type": "table"
           }
          ]
         },
         "layout": {
          "annotationdefaults": {
           "arrowcolor": "#2a3f5f",
           "arrowhead": 0,
           "arrowwidth": 1
          },
          "autotypenumbers": "strict",
          "coloraxis": {
           "colorbar": {
            "outlinewidth": 0,
            "ticks": ""
           }
          },
          "colorscale": {
           "diverging": [
            [
             0,
             "#8e0152"
            ],
            [
             0.1,
             "#c51b7d"
            ],
            [
             0.2,
             "#de77ae"
            ],
            [
             0.3,
             "#f1b6da"
            ],
            [
             0.4,
             "#fde0ef"
            ],
            [
             0.5,
             "#f7f7f7"
            ],
            [
             0.6,
             "#e6f5d0"
            ],
            [
             0.7,
             "#b8e186"
            ],
            [
             0.8,
             "#7fbc41"
            ],
            [
             0.9,
             "#4d9221"
            ],
            [
             1,
             "#276419"
            ]
           ],
           "sequential": [
            [
             0,
             "#0d0887"
            ],
            [
             0.1111111111111111,
             "#46039f"
            ],
            [
             0.2222222222222222,
             "#7201a8"
            ],
            [
             0.3333333333333333,
             "#9c179e"
            ],
            [
             0.4444444444444444,
             "#bd3786"
            ],
            [
             0.5555555555555556,
             "#d8576b"
            ],
            [
             0.6666666666666666,
             "#ed7953"
            ],
            [
             0.7777777777777778,
             "#fb9f3a"
            ],
            [
             0.8888888888888888,
             "#fdca26"
            ],
            [
             1,
             "#f0f921"
            ]
           ],
           "sequentialminus": [
            [
             0,
             "#0d0887"
            ],
            [
             0.1111111111111111,
             "#46039f"
            ],
            [
             0.2222222222222222,
             "#7201a8"
            ],
            [
             0.3333333333333333,
             "#9c179e"
            ],
            [
             0.4444444444444444,
             "#bd3786"
            ],
            [
             0.5555555555555556,
             "#d8576b"
            ],
            [
             0.6666666666666666,
             "#ed7953"
            ],
            [
             0.7777777777777778,
             "#fb9f3a"
            ],
            [
             0.8888888888888888,
             "#fdca26"
            ],
            [
             1,
             "#f0f921"
            ]
           ]
          },
          "colorway": [
           "#636efa",
           "#EF553B",
           "#00cc96",
           "#ab63fa",
           "#FFA15A",
           "#19d3f3",
           "#FF6692",
           "#B6E880",
           "#FF97FF",
           "#FECB52"
          ],
          "font": {
           "color": "#2a3f5f"
          },
          "geo": {
           "bgcolor": "white",
           "lakecolor": "white",
           "landcolor": "#E5ECF6",
           "showlakes": true,
           "showland": true,
           "subunitcolor": "white"
          },
          "hoverlabel": {
           "align": "left"
          },
          "hovermode": "closest",
          "mapbox": {
           "style": "light"
          },
          "paper_bgcolor": "white",
          "plot_bgcolor": "#E5ECF6",
          "polar": {
           "angularaxis": {
            "gridcolor": "white",
            "linecolor": "white",
            "ticks": ""
           },
           "bgcolor": "#E5ECF6",
           "radialaxis": {
            "gridcolor": "white",
            "linecolor": "white",
            "ticks": ""
           }
          },
          "scene": {
           "xaxis": {
            "backgroundcolor": "#E5ECF6",
            "gridcolor": "white",
            "gridwidth": 2,
            "linecolor": "white",
            "showbackground": true,
            "ticks": "",
            "zerolinecolor": "white"
           },
           "yaxis": {
            "backgroundcolor": "#E5ECF6",
            "gridcolor": "white",
            "gridwidth": 2,
            "linecolor": "white",
            "showbackground": true,
            "ticks": "",
            "zerolinecolor": "white"
           },
           "zaxis": {
            "backgroundcolor": "#E5ECF6",
            "gridcolor": "white",
            "gridwidth": 2,
            "linecolor": "white",
            "showbackground": true,
            "ticks": "",
            "zerolinecolor": "white"
           }
          },
          "shapedefaults": {
           "line": {
            "color": "#2a3f5f"
           }
          },
          "ternary": {
           "aaxis": {
            "gridcolor": "white",
            "linecolor": "white",
            "ticks": ""
           },
           "baxis": {
            "gridcolor": "white",
            "linecolor": "white",
            "ticks": ""
           },
           "bgcolor": "#E5ECF6",
           "caxis": {
            "gridcolor": "white",
            "linecolor": "white",
            "ticks": ""
           }
          },
          "title": {
           "x": 0.05
          },
          "xaxis": {
           "automargin": true,
           "gridcolor": "white",
           "linecolor": "white",
           "ticks": "",
           "title": {
            "standoff": 15
           },
           "zerolinecolor": "white",
           "zerolinewidth": 2
          },
          "yaxis": {
           "automargin": true,
           "gridcolor": "white",
           "linecolor": "white",
           "ticks": "",
           "title": {
            "standoff": 15
           },
           "zerolinecolor": "white",
           "zerolinewidth": 2
          }
         }
        },
        "title": {
         "text": "Percentage of Total Accounts by Risk Band"
        },
        "xaxis": {
         "title": {
          "text": "Risk Band"
         }
        },
        "yaxis": {
         "title": {
          "text": "Percentage of Total Accounts"
         }
        }
       }
      }
     },
     "metadata": {},
     "output_type": "display_data"
    }
   ],
   "source": [
    "import plotly.graph_objects as go\n",
    "import plotly.express as px\n",
    "\n",
    "def plot_total_counts_by_risk_band(df, risk_band_column):\n",
    "    # Calculate the count of accounts in each risk band\n",
    "    risk_band_counts = df[risk_band_column].value_counts().sort_index()\n",
    "\n",
    "    # Convert to percentage\n",
    "    total_accounts = len(df)\n",
    "    risk_band_percentages = (risk_band_counts / total_accounts) * 100\n",
    "\n",
    "    # Use 'Dark24' color sequence for more distinguishable colors\n",
    "    colors = px.colors.qualitative.Dark24\n",
    "\n",
    "    # Create the bar plot\n",
    "    fig = go.Figure(data=[go.Bar(x=risk_band_percentages.index, \n",
    "                                 y=risk_band_percentages.values, \n",
    "                                 marker_color=colors)])\n",
    "\n",
    "    # Customize the plot\n",
    "    fig.update_layout(\n",
    "        title_text='Percentage of Total Accounts by Risk Band',\n",
    "        xaxis_title='Risk Band',\n",
    "        yaxis_title='Percentage of Total Accounts'\n",
    "    )\n",
    "\n",
    "    fig.show()\n",
    "\n",
    "plot_total_counts_by_risk_band(df_risk_bands, risk_band_column='risk_band')\n"
   ]
  },
  {
   "cell_type": "code",
   "execution_count": 12,
   "metadata": {},
   "outputs": [
    {
     "data": {
      "application/vnd.plotly.v1+json": {
       "config": {
        "plotlyServerURL": "https://plot.ly"
       },
       "data": [
        {
         "marker": {
          "color": [
           "#2E91E5",
           "#E15F99",
           "#1CA71C",
           "#FB0D0D",
           "#DA16FF",
           "#222A2A",
           "#B68100",
           "#750D86",
           "#EB663B",
           "#511CFB",
           "#00A08B",
           "#FB00D1",
           "#FC0080",
           "#B2828D",
           "#6C7C32",
           "#778AAE",
           "#862A16",
           "#A777F1",
           "#620042",
           "#1616A7",
           "#DA60CA",
           "#6C4516",
           "#0D2A63",
           "#AF0038"
          ]
         },
         "type": "bar",
         "x": [
          "A",
          "B",
          "C",
          "D"
         ],
         "y": [
          0.07055702917771883,
          0.1970467097747828,
          0.4843304843304843,
          0.6754507628294036
         ]
        }
       ],
       "layout": {
        "template": {
         "data": {
          "bar": [
           {
            "error_x": {
             "color": "#2a3f5f"
            },
            "error_y": {
             "color": "#2a3f5f"
            },
            "marker": {
             "line": {
              "color": "#E5ECF6",
              "width": 0.5
             },
             "pattern": {
              "fillmode": "overlay",
              "size": 10,
              "solidity": 0.2
             }
            },
            "type": "bar"
           }
          ],
          "barpolar": [
           {
            "marker": {
             "line": {
              "color": "#E5ECF6",
              "width": 0.5
             },
             "pattern": {
              "fillmode": "overlay",
              "size": 10,
              "solidity": 0.2
             }
            },
            "type": "barpolar"
           }
          ],
          "carpet": [
           {
            "aaxis": {
             "endlinecolor": "#2a3f5f",
             "gridcolor": "white",
             "linecolor": "white",
             "minorgridcolor": "white",
             "startlinecolor": "#2a3f5f"
            },
            "baxis": {
             "endlinecolor": "#2a3f5f",
             "gridcolor": "white",
             "linecolor": "white",
             "minorgridcolor": "white",
             "startlinecolor": "#2a3f5f"
            },
            "type": "carpet"
           }
          ],
          "choropleth": [
           {
            "colorbar": {
             "outlinewidth": 0,
             "ticks": ""
            },
            "type": "choropleth"
           }
          ],
          "contour": [
           {
            "colorbar": {
             "outlinewidth": 0,
             "ticks": ""
            },
            "colorscale": [
             [
              0,
              "#0d0887"
             ],
             [
              0.1111111111111111,
              "#46039f"
             ],
             [
              0.2222222222222222,
              "#7201a8"
             ],
             [
              0.3333333333333333,
              "#9c179e"
             ],
             [
              0.4444444444444444,
              "#bd3786"
             ],
             [
              0.5555555555555556,
              "#d8576b"
             ],
             [
              0.6666666666666666,
              "#ed7953"
             ],
             [
              0.7777777777777778,
              "#fb9f3a"
             ],
             [
              0.8888888888888888,
              "#fdca26"
             ],
             [
              1,
              "#f0f921"
             ]
            ],
            "type": "contour"
           }
          ],
          "contourcarpet": [
           {
            "colorbar": {
             "outlinewidth": 0,
             "ticks": ""
            },
            "type": "contourcarpet"
           }
          ],
          "heatmap": [
           {
            "colorbar": {
             "outlinewidth": 0,
             "ticks": ""
            },
            "colorscale": [
             [
              0,
              "#0d0887"
             ],
             [
              0.1111111111111111,
              "#46039f"
             ],
             [
              0.2222222222222222,
              "#7201a8"
             ],
             [
              0.3333333333333333,
              "#9c179e"
             ],
             [
              0.4444444444444444,
              "#bd3786"
             ],
             [
              0.5555555555555556,
              "#d8576b"
             ],
             [
              0.6666666666666666,
              "#ed7953"
             ],
             [
              0.7777777777777778,
              "#fb9f3a"
             ],
             [
              0.8888888888888888,
              "#fdca26"
             ],
             [
              1,
              "#f0f921"
             ]
            ],
            "type": "heatmap"
           }
          ],
          "heatmapgl": [
           {
            "colorbar": {
             "outlinewidth": 0,
             "ticks": ""
            },
            "colorscale": [
             [
              0,
              "#0d0887"
             ],
             [
              0.1111111111111111,
              "#46039f"
             ],
             [
              0.2222222222222222,
              "#7201a8"
             ],
             [
              0.3333333333333333,
              "#9c179e"
             ],
             [
              0.4444444444444444,
              "#bd3786"
             ],
             [
              0.5555555555555556,
              "#d8576b"
             ],
             [
              0.6666666666666666,
              "#ed7953"
             ],
             [
              0.7777777777777778,
              "#fb9f3a"
             ],
             [
              0.8888888888888888,
              "#fdca26"
             ],
             [
              1,
              "#f0f921"
             ]
            ],
            "type": "heatmapgl"
           }
          ],
          "histogram": [
           {
            "marker": {
             "pattern": {
              "fillmode": "overlay",
              "size": 10,
              "solidity": 0.2
             }
            },
            "type": "histogram"
           }
          ],
          "histogram2d": [
           {
            "colorbar": {
             "outlinewidth": 0,
             "ticks": ""
            },
            "colorscale": [
             [
              0,
              "#0d0887"
             ],
             [
              0.1111111111111111,
              "#46039f"
             ],
             [
              0.2222222222222222,
              "#7201a8"
             ],
             [
              0.3333333333333333,
              "#9c179e"
             ],
             [
              0.4444444444444444,
              "#bd3786"
             ],
             [
              0.5555555555555556,
              "#d8576b"
             ],
             [
              0.6666666666666666,
              "#ed7953"
             ],
             [
              0.7777777777777778,
              "#fb9f3a"
             ],
             [
              0.8888888888888888,
              "#fdca26"
             ],
             [
              1,
              "#f0f921"
             ]
            ],
            "type": "histogram2d"
           }
          ],
          "histogram2dcontour": [
           {
            "colorbar": {
             "outlinewidth": 0,
             "ticks": ""
            },
            "colorscale": [
             [
              0,
              "#0d0887"
             ],
             [
              0.1111111111111111,
              "#46039f"
             ],
             [
              0.2222222222222222,
              "#7201a8"
             ],
             [
              0.3333333333333333,
              "#9c179e"
             ],
             [
              0.4444444444444444,
              "#bd3786"
             ],
             [
              0.5555555555555556,
              "#d8576b"
             ],
             [
              0.6666666666666666,
              "#ed7953"
             ],
             [
              0.7777777777777778,
              "#fb9f3a"
             ],
             [
              0.8888888888888888,
              "#fdca26"
             ],
             [
              1,
              "#f0f921"
             ]
            ],
            "type": "histogram2dcontour"
           }
          ],
          "mesh3d": [
           {
            "colorbar": {
             "outlinewidth": 0,
             "ticks": ""
            },
            "type": "mesh3d"
           }
          ],
          "parcoords": [
           {
            "line": {
             "colorbar": {
              "outlinewidth": 0,
              "ticks": ""
             }
            },
            "type": "parcoords"
           }
          ],
          "pie": [
           {
            "automargin": true,
            "type": "pie"
           }
          ],
          "scatter": [
           {
            "fillpattern": {
             "fillmode": "overlay",
             "size": 10,
             "solidity": 0.2
            },
            "type": "scatter"
           }
          ],
          "scatter3d": [
           {
            "line": {
             "colorbar": {
              "outlinewidth": 0,
              "ticks": ""
             }
            },
            "marker": {
             "colorbar": {
              "outlinewidth": 0,
              "ticks": ""
             }
            },
            "type": "scatter3d"
           }
          ],
          "scattercarpet": [
           {
            "marker": {
             "colorbar": {
              "outlinewidth": 0,
              "ticks": ""
             }
            },
            "type": "scattercarpet"
           }
          ],
          "scattergeo": [
           {
            "marker": {
             "colorbar": {
              "outlinewidth": 0,
              "ticks": ""
             }
            },
            "type": "scattergeo"
           }
          ],
          "scattergl": [
           {
            "marker": {
             "colorbar": {
              "outlinewidth": 0,
              "ticks": ""
             }
            },
            "type": "scattergl"
           }
          ],
          "scattermapbox": [
           {
            "marker": {
             "colorbar": {
              "outlinewidth": 0,
              "ticks": ""
             }
            },
            "type": "scattermapbox"
           }
          ],
          "scatterpolar": [
           {
            "marker": {
             "colorbar": {
              "outlinewidth": 0,
              "ticks": ""
             }
            },
            "type": "scatterpolar"
           }
          ],
          "scatterpolargl": [
           {
            "marker": {
             "colorbar": {
              "outlinewidth": 0,
              "ticks": ""
             }
            },
            "type": "scatterpolargl"
           }
          ],
          "scatterternary": [
           {
            "marker": {
             "colorbar": {
              "outlinewidth": 0,
              "ticks": ""
             }
            },
            "type": "scatterternary"
           }
          ],
          "surface": [
           {
            "colorbar": {
             "outlinewidth": 0,
             "ticks": ""
            },
            "colorscale": [
             [
              0,
              "#0d0887"
             ],
             [
              0.1111111111111111,
              "#46039f"
             ],
             [
              0.2222222222222222,
              "#7201a8"
             ],
             [
              0.3333333333333333,
              "#9c179e"
             ],
             [
              0.4444444444444444,
              "#bd3786"
             ],
             [
              0.5555555555555556,
              "#d8576b"
             ],
             [
              0.6666666666666666,
              "#ed7953"
             ],
             [
              0.7777777777777778,
              "#fb9f3a"
             ],
             [
              0.8888888888888888,
              "#fdca26"
             ],
             [
              1,
              "#f0f921"
             ]
            ],
            "type": "surface"
           }
          ],
          "table": [
           {
            "cells": {
             "fill": {
              "color": "#EBF0F8"
             },
             "line": {
              "color": "white"
             }
            },
            "header": {
             "fill": {
              "color": "#C8D4E3"
             },
             "line": {
              "color": "white"
             }
            },
            "type": "table"
           }
          ]
         },
         "layout": {
          "annotationdefaults": {
           "arrowcolor": "#2a3f5f",
           "arrowhead": 0,
           "arrowwidth": 1
          },
          "autotypenumbers": "strict",
          "coloraxis": {
           "colorbar": {
            "outlinewidth": 0,
            "ticks": ""
           }
          },
          "colorscale": {
           "diverging": [
            [
             0,
             "#8e0152"
            ],
            [
             0.1,
             "#c51b7d"
            ],
            [
             0.2,
             "#de77ae"
            ],
            [
             0.3,
             "#f1b6da"
            ],
            [
             0.4,
             "#fde0ef"
            ],
            [
             0.5,
             "#f7f7f7"
            ],
            [
             0.6,
             "#e6f5d0"
            ],
            [
             0.7,
             "#b8e186"
            ],
            [
             0.8,
             "#7fbc41"
            ],
            [
             0.9,
             "#4d9221"
            ],
            [
             1,
             "#276419"
            ]
           ],
           "sequential": [
            [
             0,
             "#0d0887"
            ],
            [
             0.1111111111111111,
             "#46039f"
            ],
            [
             0.2222222222222222,
             "#7201a8"
            ],
            [
             0.3333333333333333,
             "#9c179e"
            ],
            [
             0.4444444444444444,
             "#bd3786"
            ],
            [
             0.5555555555555556,
             "#d8576b"
            ],
            [
             0.6666666666666666,
             "#ed7953"
            ],
            [
             0.7777777777777778,
             "#fb9f3a"
            ],
            [
             0.8888888888888888,
             "#fdca26"
            ],
            [
             1,
             "#f0f921"
            ]
           ],
           "sequentialminus": [
            [
             0,
             "#0d0887"
            ],
            [
             0.1111111111111111,
             "#46039f"
            ],
            [
             0.2222222222222222,
             "#7201a8"
            ],
            [
             0.3333333333333333,
             "#9c179e"
            ],
            [
             0.4444444444444444,
             "#bd3786"
            ],
            [
             0.5555555555555556,
             "#d8576b"
            ],
            [
             0.6666666666666666,
             "#ed7953"
            ],
            [
             0.7777777777777778,
             "#fb9f3a"
            ],
            [
             0.8888888888888888,
             "#fdca26"
            ],
            [
             1,
             "#f0f921"
            ]
           ]
          },
          "colorway": [
           "#636efa",
           "#EF553B",
           "#00cc96",
           "#ab63fa",
           "#FFA15A",
           "#19d3f3",
           "#FF6692",
           "#B6E880",
           "#FF97FF",
           "#FECB52"
          ],
          "font": {
           "color": "#2a3f5f"
          },
          "geo": {
           "bgcolor": "white",
           "lakecolor": "white",
           "landcolor": "#E5ECF6",
           "showlakes": true,
           "showland": true,
           "subunitcolor": "white"
          },
          "hoverlabel": {
           "align": "left"
          },
          "hovermode": "closest",
          "mapbox": {
           "style": "light"
          },
          "paper_bgcolor": "white",
          "plot_bgcolor": "#E5ECF6",
          "polar": {
           "angularaxis": {
            "gridcolor": "white",
            "linecolor": "white",
            "ticks": ""
           },
           "bgcolor": "#E5ECF6",
           "radialaxis": {
            "gridcolor": "white",
            "linecolor": "white",
            "ticks": ""
           }
          },
          "scene": {
           "xaxis": {
            "backgroundcolor": "#E5ECF6",
            "gridcolor": "white",
            "gridwidth": 2,
            "linecolor": "white",
            "showbackground": true,
            "ticks": "",
            "zerolinecolor": "white"
           },
           "yaxis": {
            "backgroundcolor": "#E5ECF6",
            "gridcolor": "white",
            "gridwidth": 2,
            "linecolor": "white",
            "showbackground": true,
            "ticks": "",
            "zerolinecolor": "white"
           },
           "zaxis": {
            "backgroundcolor": "#E5ECF6",
            "gridcolor": "white",
            "gridwidth": 2,
            "linecolor": "white",
            "showbackground": true,
            "ticks": "",
            "zerolinecolor": "white"
           }
          },
          "shapedefaults": {
           "line": {
            "color": "#2a3f5f"
           }
          },
          "ternary": {
           "aaxis": {
            "gridcolor": "white",
            "linecolor": "white",
            "ticks": ""
           },
           "baxis": {
            "gridcolor": "white",
            "linecolor": "white",
            "ticks": ""
           },
           "bgcolor": "#E5ECF6",
           "caxis": {
            "gridcolor": "white",
            "linecolor": "white",
            "ticks": ""
           }
          },
          "title": {
           "x": 0.05
          },
          "xaxis": {
           "automargin": true,
           "gridcolor": "white",
           "linecolor": "white",
           "ticks": "",
           "title": {
            "standoff": 15
           },
           "zerolinecolor": "white",
           "zerolinewidth": 2
          },
          "yaxis": {
           "automargin": true,
           "gridcolor": "white",
           "linecolor": "white",
           "ticks": "",
           "title": {
            "standoff": 15
           },
           "zerolinecolor": "white",
           "zerolinewidth": 2
          }
         }
        },
        "title": {
         "text": "Default Rates by Risk Band"
        },
        "xaxis": {
         "title": {
          "text": "Risk Band"
         }
        },
        "yaxis": {
         "title": {
          "text": "Default Rate"
         }
        }
       }
      }
     },
     "metadata": {},
     "output_type": "display_data"
    }
   ],
   "source": [
    "import plotly.graph_objects as go\n",
    "import plotly.express as px\n",
    "\n",
    "def plot_default_rates_by_risk_band(df, risk_band_column, default_column):\n",
    "    # Calculate the default rate in each risk band\n",
    "    risk_bands = sorted(df[risk_band_column].unique())\n",
    "    default_rates = []\n",
    "\n",
    "    for band in risk_bands:\n",
    "        band_data = df[df[risk_band_column] == band]\n",
    "        default_rate = band_data[default_column].mean()\n",
    "        default_rates.append(default_rate)\n",
    "\n",
    "    # Use 'Dark24' color sequence for more distinguishable colors\n",
    "    colors = px.colors.qualitative.Dark24\n",
    "\n",
    "    # Create the bar plot\n",
    "    fig = go.Figure(data=[go.Bar(x=risk_bands, y=default_rates, marker_color=colors)])\n",
    "\n",
    "    # Customize the plot\n",
    "    fig.update_layout(\n",
    "        title_text='Default Rates by Risk Band',\n",
    "        xaxis_title='Risk Band',\n",
    "        yaxis_title='Default Rate'\n",
    "    )\n",
    "\n",
    "    fig.show()\n",
    "\n",
    "plot_default_rates_by_risk_band(df_risk_bands, risk_band_column='risk_band', default_column='default')\n"
   ]
  },
  {
   "attachments": {},
   "cell_type": "markdown",
   "metadata": {},
   "source": [
    "#### Validate PiT-PD Risk Grades Data "
   ]
  },
  {
   "cell_type": "code",
   "execution_count": 10,
   "metadata": {},
   "outputs": [
    {
     "ename": "ModuleNotFoundError",
     "evalue": "No module named 'validmind.tests.data_validation.RiskGradeDefaultRatesBarPlot'",
     "output_type": "error",
     "traceback": [
      "\u001b[0;31m---------------------------------------------------------------------------\u001b[0m",
      "\u001b[0;31mModuleNotFoundError\u001b[0m                       Traceback (most recent call last)",
      "\u001b[0;32m/var/folders/tn/rbr74q892k13m82y37y396h40000gn/T/ipykernel_35605/1219386987.py\u001b[0m in \u001b[0;36m<cell line: 1>\u001b[0;34m()\u001b[0m\n\u001b[0;32m----> 1\u001b[0;31m \u001b[0;32mfrom\u001b[0m \u001b[0mvalidmind\u001b[0m\u001b[0;34m.\u001b[0m\u001b[0mtests\u001b[0m\u001b[0;34m.\u001b[0m\u001b[0mdata_validation\u001b[0m\u001b[0;34m.\u001b[0m\u001b[0mRiskGradeDefaultRatesBarPlot\u001b[0m \u001b[0;32mimport\u001b[0m \u001b[0mRiskGradeDefaultRatesBarPlot\u001b[0m\u001b[0;34m\u001b[0m\u001b[0;34m\u001b[0m\u001b[0m\n\u001b[0m\u001b[1;32m      2\u001b[0m \u001b[0;34m\u001b[0m\u001b[0m\n\u001b[1;32m      3\u001b[0m \u001b[0;31m# Define text context\u001b[0m\u001b[0;34m\u001b[0m\u001b[0;34m\u001b[0m\u001b[0m\n\u001b[1;32m      4\u001b[0m \u001b[0mtest_context_risk_grade\u001b[0m \u001b[0;34m=\u001b[0m \u001b[0mTestContext\u001b[0m\u001b[0;34m(\u001b[0m\u001b[0mdataset\u001b[0m\u001b[0;34m=\u001b[0m\u001b[0mdf_risk_grade\u001b[0m\u001b[0;34m)\u001b[0m\u001b[0;34m\u001b[0m\u001b[0;34m\u001b[0m\u001b[0m\n\u001b[1;32m      5\u001b[0m \u001b[0;34m\u001b[0m\u001b[0m\n",
      "\u001b[0;31mModuleNotFoundError\u001b[0m: No module named 'validmind.tests.data_validation.RiskGradeDefaultRatesBarPlot'"
     ]
    }
   ],
   "source": [
    "from validmind.tests.data_validation.RiskGradeDefaultRatesBarPlot import RiskGradeDefaultRatesBarPlot\n",
    "\n",
    "# Define text context \n",
    "test_context_risk_grade = TestContext(dataset=df_risk_grade)\n",
    "\n",
    "# Configure test parameters\n",
    "params = {\n",
    "    \"default_column\": 'default',\n",
    "    \"predicted_default_column\": 'predicted_default',\n",
    "    \"risk_band_column\": 'risk_band',\n",
    "    \"point_in_time_column\": 'point_in_time',\n",
    "    \"title\": \"Bar Plot of Default Rates per Risk Grade\",\n",
    "}\n",
    "\n",
    "metric = RiskGradeDefaultRatesBarPlot(test_context_risk_grade, params)\n",
    "metric.run()\n",
    "await metric.result.log()\n",
    "metric.result.show()"
   ]
  },
  {
   "attachments": {},
   "cell_type": "markdown",
   "metadata": {},
   "source": [
    "#### Validate Prepared Data"
   ]
  },
  {
   "attachments": {},
   "cell_type": "markdown",
   "metadata": {},
   "source": [
    "## Data Sampling"
   ]
  },
  {
   "attachments": {},
   "cell_type": "markdown",
   "metadata": {},
   "source": [
    "#### Sampling Method"
   ]
  },
  {
   "attachments": {},
   "cell_type": "markdown",
   "metadata": {},
   "source": []
  },
  {
   "attachments": {},
   "cell_type": "markdown",
   "metadata": {},
   "source": [
    "#### Data Split"
   ]
  },
  {
   "cell_type": "code",
   "execution_count": null,
   "metadata": {},
   "outputs": [],
   "source": []
  },
  {
   "attachments": {},
   "cell_type": "markdown",
   "metadata": {},
   "source": [
    "## Exploratory Data Analysis "
   ]
  }
 ],
 "metadata": {
  "kernelspec": {
   "display_name": "dev-framework",
   "language": "python",
   "name": "dev-framework"
  },
  "language_info": {
   "codemirror_mode": {
    "name": "ipython",
    "version": 3
   },
   "file_extension": ".py",
   "mimetype": "text/x-python",
   "name": "python",
   "nbconvert_exporter": "python",
   "pygments_lexer": "ipython3",
   "version": "3.10.11"
  },
  "orig_nbformat": 4
 },
 "nbformat": 4,
 "nbformat_minor": 2
}
