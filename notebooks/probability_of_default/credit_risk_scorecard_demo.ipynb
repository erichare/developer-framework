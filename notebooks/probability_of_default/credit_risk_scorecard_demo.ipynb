{
 "cells": [
  {
   "attachments": {},
   "cell_type": "markdown",
   "metadata": {},
   "source": [
    "# Credit Risk Scorecard Demo"
   ]
  },
  {
   "attachments": {},
   "cell_type": "markdown",
   "metadata": {},
   "source": [
    "## Introduction"
   ]
  },
  {
   "attachments": {},
   "cell_type": "markdown",
   "metadata": {},
   "source": [
    "#### Use Case"
   ]
  },
  {
   "attachments": {},
   "cell_type": "markdown",
   "metadata": {},
   "source": [
    "The **Credit risk Scorecard** model created from the Lending Club dataset is instrumental in computing the Probability of Default (PD), a key factor in ECL calculations. This scorecard assesses several credit characteristics of potential borrowers, like their credit history, income, outstanding debts, and more, each of which is assigned a specific score. By combining these scores, we derive a total score for each borrower, which translates into an estimated Point-in-Time (PiT) PD. The PiT PD reflects the borrower's likelihood of default at a specific point in time, accounting for both current and foreseeable future conditions.\n",
    "\n",
    "Additionally, for a holistic view of credit risk, it's essential to estimate the Lifetime PD. The Lifetime PD, as the name suggests, predicts the borrower's likelihood of default throughout the life of the exposure, taking into account potential future changes in the economic and financial conditions."
   ]
  },
  {
   "attachments": {},
   "cell_type": "markdown",
   "metadata": {},
   "source": [
    "#### Import Libraries"
   ]
  },
  {
   "cell_type": "code",
   "execution_count": 1,
   "metadata": {},
   "outputs": [],
   "source": [
    "# Load API key and secret from environment variables\n",
    "%load_ext dotenv\n",
    "%dotenv .env\n",
    "\n",
    "from typing import List\n",
    "from datetime import datetime\n",
    "import re\n",
    "import zipfile\n",
    "import pandas as pd\n",
    "import numpy as np\n",
    "import seaborn as sns\n",
    "import matplotlib.pyplot as plt\n",
    "import matplotlib as mpl\n",
    "from sklearn.model_selection import train_test_split, RepeatedStratifiedKFold, cross_val_score\n",
    "from sklearn.linear_model import LogisticRegression\n",
    "from sklearn.metrics import roc_curve, roc_auc_score, confusion_matrix, precision_recall_curve, auc\n",
    "from sklearn.feature_selection import f_classif\n",
    "from sklearn.pipeline import Pipeline\n",
    "from sklearn.base import BaseEstimator, TransformerMixin\n",
    "from scipy.stats import chi2_contingency\n",
    "%matplotlib inline"
   ]
  },
  {
   "attachments": {},
   "cell_type": "markdown",
   "metadata": {},
   "source": [
    "#### Connect to ValidMind Project"
   ]
  },
  {
   "cell_type": "code",
   "execution_count": 2,
   "metadata": {},
   "outputs": [
    {
     "name": "stderr",
     "output_type": "stream",
     "text": [
      "2023-07-25 09:58:08,089 - INFO(validmind.api_client): Connected to ValidMind. Project: [6] Credit Risk Scorecard - Initial Validation (clk00h0u800x9qjy67gduf5om)\n"
     ]
    }
   ],
   "source": [
    "\n",
    "import validmind as vm\n",
    "\n",
    "vm.init(\n",
    "  api_host = \"http://localhost:3000/api/v1/tracking\",\n",
    "  api_key = \"2494c3838f48efe590d531bfe225d90b\",\n",
    "  api_secret = \"4f692f8161f128414fef542cab2a4e74834c75d01b3a8e088a1834f2afcfe838\",\n",
    "  project = \"clk00h0u800x9qjy67gduf5om\"\n",
    ")\n",
    "  \n",
    "  "
   ]
  },
  {
   "attachments": {},
   "cell_type": "markdown",
   "metadata": {},
   "source": [
    "#### Processing Functions"
   ]
  },
  {
   "cell_type": "code",
   "execution_count": 3,
   "metadata": {},
   "outputs": [],
   "source": [
    "def get_numerical_columns(df):\n",
    "        numerical_columns = df.select_dtypes(\n",
    "            include=[\"int\", \"float\", \"uint\"]\n",
    "        ).columns.tolist()\n",
    "        return numerical_columns\n",
    "\n",
    "def get_categorical_columns(df):\n",
    "        categorical_columns = df.select_dtypes(\n",
    "            include=[\"object\", \"category\"]\n",
    "        ).columns.tolist()\n",
    "        return categorical_columns"
   ]
  },
  {
   "cell_type": "code",
   "execution_count": 4,
   "metadata": {},
   "outputs": [],
   "source": [
    "def add_target_column(df, target_column):\n",
    "    # Assuming the column name is 'loan_status'\n",
    "    df[target_column] = df['loan_status'].apply(lambda x: 0 if x == \"Fully Paid\" else 1 if x == \"Charged Off\" else np.nan)\n",
    "    # Remove rows where the target column is NaN\n",
    "    df = df.dropna(subset=[target_column])\n",
    "    # Convert target column to integer\n",
    "    df[target_column] = df[target_column].astype(int)\n",
    "    return df"
   ]
  },
  {
   "cell_type": "code",
   "execution_count": 5,
   "metadata": {},
   "outputs": [],
   "source": [
    "unused_variables = [\"id\", \"member_id\", \"funded_amnt\", \"emp_title\", \"url\", \"desc\", \"application_type\",\n",
    "                    \"title\", \"zip_code\", \"delinq_2yrs\", \"mths_since_last_delinq\", \"mths_since_last_record\",\n",
    "                    \"revol_bal\", \"total_rec_prncp\", \"total_rec_late_fee\", \"recoveries\", \"out_prncp_inv\", \"out_prncp\", \n",
    "                    \"collection_recovery_fee\", \"next_pymnt_d\", \"initial_list_status\", \"pub_rec\",\n",
    "                    \"collections_12_mths_ex_med\", \"policy_code\", \"acc_now_delinq\", \"pymnt_plan\",\n",
    "                    \"tot_coll_amt\", \"tot_cur_bal\", \"total_rev_hi_lim\", \"last_pymnt_d\", \"last_credit_pull_d\",\n",
    "                    'earliest_cr_line', 'issue_d']"
   ]
  },
  {
   "cell_type": "code",
   "execution_count": 6,
   "metadata": {},
   "outputs": [],
   "source": [
    "def variables_with_min_missing(df, min_missing_percentage):\n",
    "    # Calculate the percentage of missing values in each column\n",
    "    missing_percentages = df.isnull().mean() * 100\n",
    "\n",
    "    # Get the variables where the percentage of missing values is greater than the specified minimum\n",
    "    variables_to_drop = missing_percentages[missing_percentages > min_missing_percentage].index.tolist()\n",
    "\n",
    "    # Also add any columns where all values are missing\n",
    "    variables_to_drop.extend(df.columns[df.isnull().all()].tolist())\n",
    "\n",
    "    # Remove duplicates (if any)\n",
    "    variables_to_drop = list(set(variables_to_drop))\n",
    "\n",
    "    return variables_to_drop"
   ]
  },
  {
   "cell_type": "code",
   "execution_count": 7,
   "metadata": {},
   "outputs": [],
   "source": [
    "def clean_term_column(df, column):\n",
    "    \"\"\"\n",
    "    Function to remove 'months' string from the 'term' column and convert it to categorical\n",
    "    \"\"\"\n",
    "    # Ensure the column exists in the dataframe\n",
    "    if column not in df.columns:\n",
    "        raise ValueError(f\"The column '{column}' does not exist in the dataframe.\")\n",
    "    \n",
    "    df[column] = df[column].str.replace(' months', '')\n",
    "    \n",
    "    # Convert to categorical\n",
    "    df[column] = df[column].astype('object')\n",
    "\n",
    "def clean_emp_length_column(df, column):\n",
    "    \"\"\"\n",
    "    Function to clean 'emp_length' column and convert it to categorical.\n",
    "    \"\"\"\n",
    "    # Ensure the column exists in the dataframe\n",
    "    if column not in df.columns:\n",
    "        raise ValueError(f\"The column '{column}' does not exist in the dataframe.\")\n",
    "    \n",
    "    df[column] = df[column].replace('n/a', np.nan)\n",
    "    df[column] = df[column].str.replace('< 1 year', str(0))\n",
    "    df[column] = df[column].apply(lambda x: re.sub('\\D', '', str(x)))\n",
    "    df[column].fillna(value = 0, inplace=True)\n",
    "\n",
    "    # Convert to categorical\n",
    "    df[column] = df[column].astype('object')\n",
    "\n",
    "def clean_inq_last_6mths(df, column):\n",
    "    \"\"\"\n",
    "    Function to convert 'inq_last_6mths' column into categorical.\n",
    "    \"\"\"\n",
    "    # Ensure the column exists in the dataframe\n",
    "    if column not in df.columns:\n",
    "        raise ValueError(f\"The column '{column}' does not exist in the dataframe.\")\n",
    "\n",
    "    # Convert to categorical\n",
    "    df[column] = df[column].astype('category')"
   ]
  },
  {
   "cell_type": "code",
   "execution_count": 8,
   "metadata": {},
   "outputs": [],
   "source": [
    "def compute_outliers(series, threshold=1.5):\n",
    "    Q1 = series.quantile(0.25)\n",
    "    Q3 = series.quantile(0.75)\n",
    "    IQR = Q3 - Q1\n",
    "    lower_bound = Q1 - threshold * IQR\n",
    "    upper_bound = Q3 + threshold * IQR\n",
    "    return series[(series < lower_bound) | (series > upper_bound)]\n",
    "\n",
    "def remove_iqr_outliers(df, target_column, threshold=1.5):\n",
    "    num_cols = df.select_dtypes(include=[np.number]).columns.tolist()\n",
    "    num_cols.remove(target_column)  # Exclude target_column from numerical columns\n",
    "    for col in num_cols:\n",
    "        outliers = compute_outliers(df[col], threshold)\n",
    "        df = df[~df[col].isin(outliers)]\n",
    "    return df"
   ]
  },
  {
   "cell_type": "code",
   "execution_count": 9,
   "metadata": {},
   "outputs": [],
   "source": [
    "drop_categorical_features = ['addr_state']\n",
    "drop_numerical_features = ['total_rec_int', 'loan_amnt',\n",
    "                           'funded_amnt_inv', 'dti', 'revol_util', 'total_pymnt', \n",
    "                           'total_pymnt_inv', 'last_pymnt_amnt']"
   ]
  },
  {
   "cell_type": "code",
   "execution_count": 10,
   "metadata": {},
   "outputs": [],
   "source": [
    "def encode_numerical_features(df):\n",
    "    \n",
    "    # term\n",
    "    df['term'] = df['term'].replace({' 36': '36M', ' 60': '60M'})\n",
    "\n",
    "    # emp_length_int\n",
    "    df['emp_length'] = df['emp_length'].replace('10+', '10')  # Replace '10+' with '10'\n",
    "    df['emp_length'] = pd.to_numeric(df['emp_length'], errors='coerce')  # Convert to numeric\n",
    "    df['emp_length'].fillna(-1, inplace=True)\n",
    "    bins = [0,1,2,3,5,8,10,999]\n",
    "    df['emp_length_bucket'] = pd.cut(df['emp_length'], bins=bins, right=False, include_lowest=True)\n",
    "    df.drop(columns='emp_length', inplace=True)\n",
    "\n",
    "    # inq_last_6mths\n",
    "    df['inq_last_6mths'].fillna(-1, inplace=True)\n",
    "    bins = [-1, 0, 1, 2, 3, 4, 5, 10, 25, 50]\n",
    "    df['inq_last_6mths_bucket'] = pd.cut(df['inq_last_6mths'], bins=bins, right=False, include_lowest=True)\n",
    "    df.drop(columns='inq_last_6mths', inplace=True)\n",
    "    \n",
    "    # total_acc\n",
    "    df['total_acc'].fillna(-1, inplace=True)\n",
    "    bins = [-1, 0, 5, 10, 15, 20, 25, 30, 35, 40, 45, 50, 999]\n",
    "    df['total_acc_bucket'] = pd.cut(df['total_acc'], bins=bins, right=False, include_lowest=True)\n",
    "    df.drop(columns='total_acc', inplace=True)\n",
    "\n",
    "    # annual_inc\n",
    "    df['annual_inc'].fillna(-1, inplace=True)\n",
    "    df['annual_inc_1000'] = df['annual_inc']/1000\n",
    "    bins = [-1, 0, 10, 20, 30, 40, 50, 75, 100, 150, 250, 1000, 10000]\n",
    "    df['annual_inc_bucket'] = pd.cut(df['annual_inc_1000'], bins=bins, right=False, include_lowest=True)\n",
    "    df.drop(columns='annual_inc', inplace=True)\n",
    "    df.drop(columns='annual_inc_1000', inplace=True)\n",
    "    \n",
    "    # int_rate\n",
    "    df['int_rate'].fillna(-1, inplace=True)\n",
    "    bins = [-1, 0, 1, 2, 3, 4, 5, 10, 25, 50]\n",
    "    df['int_rate_bucket'] = pd.cut(df['int_rate'], bins=bins, right=False, include_lowest=True)\n",
    "    df.drop(columns='int_rate', inplace=True)\n",
    "\n",
    "    # installment\n",
    "    df['installment'].fillna(-1, inplace=True)\n",
    "    bins = [-1, 0, 100, 200, 300, 400, 500, 750, 1000, 1500]\n",
    "    df['installment_bucket'] = pd.cut(df['installment'], bins=bins, right=False, include_lowest=True)\n",
    "    df.drop(columns='installment', inplace=True)\n",
    "\n",
    "    # open_acc\n",
    "    df['open_acc'].replace(\"N/A\", 1, inplace=True)\n",
    "    df['open_acc'].fillna(-1, inplace=True)\n",
    "    bins = [-1, 0, 1, 2, 3, 4, 5, 8, 10, 100]\n",
    "    df['open_acc_bucket'] = pd.cut(df['open_acc'], bins=bins, right=False, include_lowest=True)\n",
    "    df.drop(columns='open_acc', inplace=True)\n",
    "\n",
    "def find_categorical_features(df):\n",
    "    # Get the column names of features with the data type \"category\"\n",
    "    categorical_features = df.select_dtypes(include='category').columns.tolist()\n",
    "\n",
    "    return categorical_features\n",
    "\n",
    "\n",
    "def convert_categorical_to_object(df):\n",
    "    # Find the categorical features\n",
    "    categorical_features = find_categorical_features(df)\n",
    "\n",
    "    # Convert the categorical features to object type\n",
    "    df[categorical_features] = df[categorical_features].astype(str)"
   ]
  },
  {
   "cell_type": "code",
   "execution_count": 11,
   "metadata": {},
   "outputs": [],
   "source": [
    "def coarse_classing(df, mappings):\n",
    "    # Create a copy of the DataFrame to avoid modifying the original\n",
    "    df_new = df.copy()\n",
    "\n",
    "    # Loop through each feature and merge set\n",
    "    for feature, merge_sets in mappings.items():\n",
    "        for merge_set in merge_sets:\n",
    "            # Merge the specified categories into a new category\n",
    "            df_new[feature] = df_new[feature].apply(lambda x: f\"[{','.join(merge_set)}]\" if x in merge_set else x)\n",
    "\n",
    "    return df_new\n",
    "\n",
    "def shorten_category_names(df, max_length=20, suffix=\"...\"):\n",
    "    # Create a copy of the DataFrame to avoid modifying the original\n",
    "    df_new = df.copy()\n",
    "    \n",
    "    # Iterate over each column in the DataFrame\n",
    "    for feature in df_new.columns:\n",
    "        # Check if the column has the \"object\" data type\n",
    "        if df_new[feature].dtype.name == 'object':\n",
    "            # Shorten long category names\n",
    "            df_new[feature] = df_new[feature].apply(lambda x: x[:max_length] + suffix if len(x) > max_length else x)\n",
    "    \n",
    "    return df_new\n",
    "\n",
    "# Create a dictionary of features and the sets to merge\n",
    "mappings = {\n",
    "    'sub_grade': [['B2','B3','B4','B5','C3','D1'], ['C1','C2','C4','C5'], ['D3','D4','D5','E3','G4'], ['E1','E2','E4','E5','F1','F2','F3','F4','G1','G2','G3','G5','F5']],\n",
    "    'grade': [['F','G']],\n",
    "    'purpose': [['wedding','major_purchase'], ['credit_card','car'], ['debt_consolidation','other','vacation'], ['medical','moving','house','educational'], ['renewable_energy','small_business']],\n",
    "    'home_ownership': [['MORTGAGE','OWN','RENT']],\n",
    "    'annual_inc_bucket': [['[250, 1000)','[100, 150)','[150, 250)','[1000, 10000)'], ['[50, 75)','[40, 50)'], ['[10, 20)','[0, 10)']],\n",
    "    'emp_length_bucket': [['[2, 3)','[40, 50)','[3, 5)','[1, 2)','[0, 1)','[5, 8)','[8, 10)']],\n",
    "    'inq_last_6mths_bucket': [['[4, 5)','[1, 2)'], ['[5, 10)','[3, 4)']],\n",
    "    'installment_bucket': [['[300, 400)','[200, 300)','[0, 100)'], ['[400, 500)', '[500, 750)']],\n",
    "    'total_acc_bucket': [['[20, 25)','[30, 35)','[15, 20)','[45, 50)','[40, 45)','[35, 40)','[10, 15)','[5, 10)']],\n",
    "    'open_acc_bucket': [['[5, 8)','[8, 10)','[10, 100)','[4, 5)'], ['[1, 2)','[2, 3)']]\n",
    "}"
   ]
  },
  {
   "cell_type": "code",
   "execution_count": 12,
   "metadata": {},
   "outputs": [],
   "source": [
    "def check_categories(woe_df, original_df):\n",
    "    for feature in woe_df['Feature'].unique():\n",
    "        woe_categories = woe_df[woe_df['Feature'] == feature]['Category'].unique()\n",
    "        original_categories = original_df[feature].unique()\n",
    "        \n",
    "        # Check categories in WoE table that are not in original DataFrame\n",
    "        for category in woe_categories:\n",
    "            if category not in original_categories:\n",
    "                print(f\"Category '{category}' not found in feature '{feature}' in original DataFrame.\")\n",
    "                \n",
    "        # Check categories in original DataFrame that are not in WoE table\n",
    "        for category in original_categories:\n",
    "            if category not in woe_categories:\n",
    "                print(f\"Category '{category}' in feature '{feature}' not found in WoE table.\")"
   ]
  },
  {
   "cell_type": "code",
   "execution_count": 13,
   "metadata": {},
   "outputs": [],
   "source": [
    "def woe_encoder(woe_df, original_df, target):\n",
    "    # Create a new DataFrame with the same columns as original_df\n",
    "    woe_encoded_df = pd.DataFrame(columns=original_df.columns, index=original_df.index)\n",
    "\n",
    "    # Loop through each feature-category and assign the corresponding WoE value as float\n",
    "    for feature in woe_df['Feature'].unique():\n",
    "        # Check that the feature exists in the original DataFrame\n",
    "        if feature not in original_df.columns:\n",
    "            print(f\"Feature {feature} not found in original DataFrame. Skipping...\")\n",
    "            continue\n",
    "\n",
    "        feature_woe = woe_df[woe_df['Feature'] == feature]\n",
    "        woe_dict = dict(zip(feature_woe['Category'], feature_woe['WoE']))\n",
    "\n",
    "        # Check that the categories exist in the original DataFrame\n",
    "        # Converting both to strings to avoid datatype issues\n",
    "        original_categories = original_df[feature].astype(str).unique()\n",
    "        woe_categories = feature_woe['Category'].astype(str).unique()\n",
    "        \n",
    "        # Two-way check:\n",
    "        # 1. For each category in the original DataFrame, check if it exists in the WoE DataFrame\n",
    "        missing_from_woe = [category for category in original_categories if category not in woe_categories]\n",
    "        if missing_from_woe:\n",
    "            print(f\"Categories {missing_from_woe} from original DataFrame not found in WoE DataFrame for feature {feature}.\")\n",
    "            \n",
    "        # 2. For each category in the WoE DataFrame, check if it exists in the original DataFrame\n",
    "        missing_from_original = [category for category in woe_categories if category not in original_categories]\n",
    "        if missing_from_original:\n",
    "            print(f\"Categories {missing_from_original} from WoE DataFrame not found in original DataFrame for feature {feature}.\")\n",
    "        \n",
    "        # Also converting original dataframe feature to string before replacement\n",
    "        woe_encoded_df[feature] = original_df[feature].astype(str).replace(woe_dict).astype(float)\n",
    "\n",
    "    # Check that the target exists in the original DataFrame\n",
    "    if target not in original_df.columns:\n",
    "        print(f\"Target {target} not found in original DataFrame. Returning None...\")\n",
    "        return None\n",
    "\n",
    "    # Add the target column to the new DataFrame\n",
    "    woe_encoded_df[target] = original_df[target]\n",
    "\n",
    "    return woe_encoded_df"
   ]
  },
  {
   "attachments": {},
   "cell_type": "markdown",
   "metadata": {},
   "source": [
    "## Data Description"
   ]
  },
  {
   "attachments": {},
   "cell_type": "markdown",
   "metadata": {},
   "source": [
    "#### Import Raw Data"
   ]
  },
  {
   "cell_type": "code",
   "execution_count": 14,
   "metadata": {},
   "outputs": [
    {
     "name": "stderr",
     "output_type": "stream",
     "text": [
      "/var/folders/tn/rbr74q892k13m82y37y396h40000gn/T/ipykernel_20572/403622063.py:2: DtypeWarning: Columns (19) have mixed types. Specify dtype option on import or set low_memory=False.\n",
      "  df_raw = pd.read_csv(filepath)\n"
     ]
    }
   ],
   "source": [
    "filepath = '/Users/juanvalidmind/Dev/datasets/lending club/data_2007_2014/loan_data_2007_2014.csv'\n",
    "df_raw = pd.read_csv(filepath)"
   ]
  },
  {
   "attachments": {},
   "cell_type": "markdown",
   "metadata": {},
   "source": [
    "#### Validate Raw Data"
   ]
  },
  {
   "cell_type": "code",
   "execution_count": 15,
   "metadata": {},
   "outputs": [
    {
     "name": "stderr",
     "output_type": "stream",
     "text": [
      "2023-07-25 09:58:10,779 - INFO(validmind.client): Pandas dataset detected. Initializing VM Dataset instance...\n",
      "2023-07-25 09:58:10,780 - INFO(validmind.vm_models.dataset): Inferring dataset types...\n"
     ]
    },
    {
     "data": {
      "application/vnd.jupyter.widget-view+json": {
       "model_id": "3a0de250a72241029f3e640b9e3f2723",
       "version_major": 2,
       "version_minor": 0
      },
      "text/plain": [
       "VBox(children=(HTML(value='<p>This section provides descriptive statistics for numerical and categorical varia…"
      ]
     },
     "metadata": {},
     "output_type": "display_data"
    }
   ],
   "source": [
    "from validmind.vm_models.test_context import TestContext\n",
    "from validmind.tests.data_validation.DescriptiveStatistics import DescriptiveStatistics\n",
    "\n",
    "vm_df_raw = vm.init_dataset(dataset=df_raw)\n",
    "test_context_raw = TestContext(dataset=vm_df_raw)\n",
    "\n",
    "metric = DescriptiveStatistics(test_context_raw)\n",
    "metric.run()\n",
    "await metric.result.log()\n",
    "metric.result.show()"
   ]
  },
  {
   "cell_type": "code",
   "execution_count": 16,
   "metadata": {},
   "outputs": [
    {
     "data": {
      "application/vnd.jupyter.widget-view+json": {
       "model_id": "7f8383700f6d4d0fb1625d86919afd5b",
       "version_major": 2,
       "version_minor": 0
      },
      "text/plain": [
       "VBox(children=(HTML(value='<p>Generates a visual analysis of missing values by plotting horizontal bar plots w…"
      ]
     },
     "metadata": {},
     "output_type": "display_data"
    }
   ],
   "source": [
    "from validmind.tests.data_validation.MissingValuesBarPlot import MissingValuesBarPlot\n",
    "\n",
    "params = {\"threshold\": 70,\n",
    "          \"fig_height\": 1100}\n",
    "\n",
    "metric = MissingValuesBarPlot(test_context_raw, params)\n",
    "metric.run()\n",
    "# await metric.result.log()\n",
    "metric.result.show()"
   ]
  },
  {
   "attachments": {},
   "cell_type": "markdown",
   "metadata": {},
   "source": [
    "## Data Preparation"
   ]
  },
  {
   "attachments": {},
   "cell_type": "markdown",
   "metadata": {},
   "source": [
    "#### Process Raw Data"
   ]
  },
  {
   "cell_type": "code",
   "execution_count": 17,
   "metadata": {},
   "outputs": [
    {
     "name": "stderr",
     "output_type": "stream",
     "text": [
      "/var/folders/tn/rbr74q892k13m82y37y396h40000gn/T/ipykernel_20572/668951511.py:7: SettingWithCopyWarning:\n",
      "\n",
      "\n",
      "A value is trying to be set on a copy of a slice from a DataFrame.\n",
      "Try using .loc[row_indexer,col_indexer] = value instead\n",
      "\n",
      "See the caveats in the documentation: https://pandas.pydata.org/pandas-docs/stable/user_guide/indexing.html#returning-a-view-versus-a-copy\n",
      "\n",
      "/var/folders/tn/rbr74q892k13m82y37y396h40000gn/T/ipykernel_20572/2621629285.py:6: SettingWithCopyWarning:\n",
      "\n",
      "\n",
      "A value is trying to be set on a copy of a slice from a DataFrame\n",
      "\n",
      "See the caveats in the documentation: https://pandas.pydata.org/pandas-docs/stable/user_guide/indexing.html#returning-a-view-versus-a-copy\n",
      "\n"
     ]
    }
   ],
   "source": [
    "# Definition of default\n",
    "target_column = 'default'\n",
    "df_prep_1 = add_target_column(df_raw, target_column)\n",
    "\n",
    "# Drop 'loan_status' variable \n",
    "df_prep_1.drop(columns='loan_status', axis=1, inplace=True)\n",
    "\n",
    "# Remove unused variables\n",
    "df_prep_1 = df_prep_1.drop(columns=unused_variables)\n",
    "\n",
    "# Remove missing values\n",
    "min_missing_count = 80\n",
    "variables_to_drop = variables_with_min_missing(df_prep_1, min_missing_count)\n",
    "df_prep_1.drop(columns=variables_to_drop, axis=1, inplace=True)\n",
    "df_prep_1.dropna(axis=0, subset=[\"emp_length\"], inplace=True)\n",
    "df_prep_1.dropna(axis=0, subset=[\"revol_util\"], inplace=True)\n",
    "\n",
    "# Format variable types\n",
    "clean_emp_length_column(df_prep_1, 'emp_length')\n",
    "clean_term_column(df_prep_1, 'term')\n",
    "clean_inq_last_6mths(df_prep_1, 'inq_last_6mths')\n",
    "\n",
    "# Remove outliers\n",
    "df_prep_1 = remove_iqr_outliers(df_prep_1, target_column, threshold=1.5)"
   ]
  },
  {
   "attachments": {},
   "cell_type": "markdown",
   "metadata": {},
   "source": [
    "#### Validate Prepared Data"
   ]
  },
  {
   "cell_type": "code",
   "execution_count": 18,
   "metadata": {},
   "outputs": [
    {
     "name": "stderr",
     "output_type": "stream",
     "text": [
      "2023-07-25 09:58:19,528 - INFO(validmind.client): Pandas dataset detected. Initializing VM Dataset instance...\n",
      "2023-07-25 09:58:19,528 - INFO(validmind.vm_models.dataset): Inferring dataset types...\n"
     ]
    },
    {
     "data": {
      "application/vnd.jupyter.widget-view+json": {
       "model_id": "340d57601fcb4cc396484b0dddc0047c",
       "version_major": 2,
       "version_minor": 0
      },
      "text/plain": [
       "VBox(children=(HTML(value='\\n            <h2>Class Imbalance ❌</h2>\\n            <p>The class imbalance test m…"
      ]
     },
     "metadata": {},
     "output_type": "display_data"
    }
   ],
   "source": [
    "from validmind.tests.data_validation.ClassImbalance import ClassImbalance\n",
    "\n",
    "vm_df_prep_1 = vm.init_dataset(dataset=df_prep_1,\n",
    "                        target_column=target_column)\n",
    "test_context_prep_1 = TestContext(dataset=vm_df_prep_1)\n",
    "\n",
    "metric = ClassImbalance(test_context_prep_1)\n",
    "metric.run()\n",
    "await metric.result.log()\n",
    "metric.result.show()"
   ]
  },
  {
   "cell_type": "code",
   "execution_count": 19,
   "metadata": {},
   "outputs": [
    {
     "data": {
      "application/vnd.jupyter.widget-view+json": {
       "model_id": "7269007b6355414d9196046428ec43b4",
       "version_major": 2,
       "version_minor": 0
      },
      "text/plain": [
       "VBox(children=(HTML(value='<p>Generates a visual analysis of the outliers for numeric variables. The input dat…"
      ]
     },
     "metadata": {},
     "output_type": "display_data"
    }
   ],
   "source": [
    "from validmind.tests.data_validation.IQROutliersPlots import IQROutliersPlots\n",
    "\n",
    "num_features = get_numerical_columns(df_prep_1)\n",
    "params = {\"num_features\": num_features,\n",
    "          \"threshold\": 1.5,\n",
    "          \"fig_width\": 500}\n",
    "\n",
    "metric = IQROutliersPlots(test_context_prep_1, params)\n",
    "metric.run()\n",
    "# await metric.result.log()\n",
    "metric.result.show()"
   ]
  },
  {
   "attachments": {},
   "cell_type": "markdown",
   "metadata": {},
   "source": [
    "## Data Sampling"
   ]
  },
  {
   "attachments": {},
   "cell_type": "markdown",
   "metadata": {},
   "source": [
    "#### Sampling Method"
   ]
  },
  {
   "attachments": {},
   "cell_type": "markdown",
   "metadata": {},
   "source": [
    "We employ stratified sampling to create our training and testing sets. Stratified sampling is particularly important in this context. When the `stratify = y` parameter is set, it ensures that the distribution of the target variable (`y`) in the test set is the same as that in the original dataset. \n",
    "\n",
    "This is crucial for maintaining a consistent representation of the target variable classes, especially important in scenarios where the classes are imbalanced, which is often the case in credit risk scorecards."
   ]
  },
  {
   "attachments": {},
   "cell_type": "markdown",
   "metadata": {},
   "source": [
    "#### Data Split"
   ]
  },
  {
   "cell_type": "code",
   "execution_count": 20,
   "metadata": {},
   "outputs": [],
   "source": [
    "# Split data into train and test \n",
    "X = df_prep_1.drop(target_column, axis = 1)\n",
    "y = df_prep_1[target_column]\n",
    "X_train, X_test, y_train, y_test = train_test_split(X, y, test_size = 0.2, \n",
    "                                                    random_state = 42, stratify = y)\n",
    "\n",
    "# Concatenate X_train with y_train to form df_train\n",
    "df_train_1 = pd.concat([X_train, y_train], axis=1)\n",
    "\n",
    "# Concatenate X_test with y_test to form df_test\n",
    "df_test_1 = pd.concat([X_test, y_test], axis=1)"
   ]
  },
  {
   "attachments": {},
   "cell_type": "markdown",
   "metadata": {},
   "source": [
    "## Exploratory Data Analysis "
   ]
  },
  {
   "attachments": {},
   "cell_type": "markdown",
   "metadata": {},
   "source": [
    "#### Validate Train Data 1"
   ]
  },
  {
   "cell_type": "code",
   "execution_count": 21,
   "metadata": {},
   "outputs": [
    {
     "name": "stderr",
     "output_type": "stream",
     "text": [
      "2023-07-25 09:58:38,508 - INFO(validmind.client): Pandas dataset detected. Initializing VM Dataset instance...\n",
      "2023-07-25 09:58:38,508 - INFO(validmind.vm_models.dataset): Inferring dataset types...\n"
     ]
    },
    {
     "data": {
      "application/vnd.jupyter.widget-view+json": {
       "model_id": "f015beb4dbdf4e5281cf5da58006ad1e",
       "version_major": 2,
       "version_minor": 0
      },
      "text/plain": [
       "VBox(children=(HTML(value='<p>Generates a visual analysis of numerical data by plotting the histogram. The inp…"
      ]
     },
     "metadata": {},
     "output_type": "display_data"
    }
   ],
   "source": [
    "from validmind.tests.data_validation.TabularNumericalHistograms import TabularNumericalHistograms\n",
    "\n",
    "vm_df_train_1 = vm.init_dataset(dataset=df_train_1,\n",
    "                                target_column=target_column)\n",
    "test_context_train_1 = TestContext(dataset=vm_df_train_1)\n",
    "\n",
    "metric = TabularNumericalHistograms(test_context_train_1)\n",
    "metric.run()\n",
    "await metric.result.log()\n",
    "metric.result.show()"
   ]
  },
  {
   "cell_type": "code",
   "execution_count": 22,
   "metadata": {},
   "outputs": [
    {
     "data": {
      "application/vnd.jupyter.widget-view+json": {
       "model_id": "3384e302442b4ccf8db1d1d4da098206",
       "version_major": 2,
       "version_minor": 0
      },
      "text/plain": [
       "VBox(children=(HTML(value='\\n            <h2>Cardinality ✅</h2>\\n            <p>The high cardinality test meas…"
      ]
     },
     "metadata": {},
     "output_type": "display_data"
    }
   ],
   "source": [
    "from validmind.tests.data_validation.HighCardinality import HighCardinality\n",
    "metric = HighCardinality(test_context_train_1)\n",
    "metric.run()\n",
    "await metric.result.log()\n",
    "metric.result.show()"
   ]
  },
  {
   "cell_type": "code",
   "execution_count": 23,
   "metadata": {},
   "outputs": [
    {
     "data": {
      "application/vnd.jupyter.widget-view+json": {
       "model_id": "060037f3c176429dabfb9b278e913af8",
       "version_major": 2,
       "version_minor": 0
      },
      "text/plain": [
       "VBox(children=(HTML(value='<p>Generates a visual analysis of categorical data by plotting bar plots. The input…"
      ]
     },
     "metadata": {},
     "output_type": "display_data"
    }
   ],
   "source": [
    "from validmind.tests.data_validation.TabularCategoricalBarPlots import TabularCategoricalBarPlots\n",
    "metric = TabularCategoricalBarPlots(test_context_train_1)\n",
    "metric.run()\n",
    "await metric.result.log()\n",
    "metric.result.show()"
   ]
  },
  {
   "cell_type": "code",
   "execution_count": 24,
   "metadata": {},
   "outputs": [
    {
     "name": "stdout",
     "output_type": "stream",
     "text": [
      "The column default is correct and contains only 1 and 0.\n"
     ]
    },
    {
     "data": {
      "application/vnd.jupyter.widget-view+json": {
       "model_id": "b1a96ef4cf1147d29e4507da8af96d98",
       "version_major": 2,
       "version_minor": 0
      },
      "text/plain": [
       "VBox(children=(HTML(value='<p>Generates a visual analysis of target ratios by plotting bar plots. The input da…"
      ]
     },
     "metadata": {},
     "output_type": "display_data"
    }
   ],
   "source": [
    "from validmind.tests.data_validation.TargetRateBarPlots import TargetRateBarPlots\n",
    "\n",
    "# Configure the metric\n",
    "params = {\n",
    "    \"default_column\": target_column,\n",
    "    \"columns\": None\n",
    "}\n",
    "\n",
    "metric = TargetRateBarPlots(test_context_train_1, params=params)\n",
    "metric.run()\n",
    "await metric.result.log()\n",
    "metric.result.show()"
   ]
  },
  {
   "cell_type": "code",
   "execution_count": 25,
   "metadata": {},
   "outputs": [
    {
     "data": {
      "application/vnd.jupyter.widget-view+json": {
       "model_id": "16800ba735f5440fbdd29b92060f0271",
       "version_major": 2,
       "version_minor": 0
      },
      "text/plain": [
       "VBox(children=(HTML(value='<p>Perform a Chi-Squared test of independence for each categorical variable with th…"
      ]
     },
     "metadata": {},
     "output_type": "display_data"
    }
   ],
   "source": [
    "from validmind.tests.data_validation.ChiSquaredFeaturesTable import ChiSquaredFeaturesTable\n",
    "\n",
    "cat_features = get_categorical_columns(df_train_1)\n",
    "params = {\"cat_features\": cat_features,\n",
    "          \"p_threshold\": 0.05}\n",
    "\n",
    "metric = ChiSquaredFeaturesTable(test_context_train_1, params)\n",
    "metric.run()\n",
    "await metric.result.log() \n",
    "metric.result.show()"
   ]
  },
  {
   "cell_type": "code",
   "execution_count": 26,
   "metadata": {},
   "outputs": [
    {
     "data": {
      "application/vnd.jupyter.widget-view+json": {
       "model_id": "a2ace12676fb4f0ab406c670c49c3115",
       "version_major": 2,
       "version_minor": 0
      },
      "text/plain": [
       "VBox(children=(HTML(value='<p>Perform an ANOVA F-test for each numerical variable with the target. The input d…"
      ]
     },
     "metadata": {},
     "output_type": "display_data"
    }
   ],
   "source": [
    "from validmind.tests.data_validation.ANOVAOneWayTable import ANOVAOneWayTable\n",
    "\n",
    "num_features = get_numerical_columns(df_train_1)\n",
    "params = {\"num_features\": num_features,\n",
    "          \"p_threshold\": 0.05}\n",
    "\n",
    "metric = ANOVAOneWayTable(test_context_train_1, params)\n",
    "metric.run()\n",
    "# await metric.result.log()\n",
    "metric.result.show()"
   ]
  },
  {
   "cell_type": "code",
   "execution_count": 27,
   "metadata": {},
   "outputs": [
    {
     "data": {
      "application/vnd.jupyter.widget-view+json": {
       "model_id": "8330cabb5d67476a897239e2588b7695",
       "version_major": 2,
       "version_minor": 0
      },
      "text/plain": [
       "VBox(children=(HTML(value='<p>Extracts the Pearson correlation coefficient for all pairs of numerical variable…"
      ]
     },
     "metadata": {},
     "output_type": "display_data"
    }
   ],
   "source": [
    "from validmind.tests.data_validation.PearsonCorrelationMatrix import PearsonCorrelationMatrix\n",
    "\n",
    "params = {\"declutter\": False,\n",
    "          \"features\": None,\n",
    "          \"fontsize\": 13}\n",
    "\n",
    "metric = PearsonCorrelationMatrix(test_context_train_1, params)\n",
    "metric.run()\n",
    "# await metric.result.log()\n",
    "metric.result.show()"
   ]
  },
  {
   "cell_type": "code",
   "execution_count": 28,
   "metadata": {},
   "outputs": [
    {
     "data": {
      "application/vnd.jupyter.widget-view+json": {
       "model_id": "55d6696ab6bb4d0d8dac6b34e6f9819b",
       "version_major": 2,
       "version_minor": 0
      },
      "text/plain": [
       "VBox(children=(HTML(value='<p>Generates a visual analysis of correlations between features and target by plott…"
      ]
     },
     "metadata": {},
     "output_type": "display_data"
    }
   ],
   "source": [
    "from validmind.tests.data_validation.FeatureTargetCorrelationPlot import FeatureTargetCorrelationPlot\n",
    "\n",
    "params = {\"features\": None,\n",
    "          \"fig_height\": 600}\n",
    "\n",
    "metric = FeatureTargetCorrelationPlot(test_context_train_1, params)\n",
    "metric.run()\n",
    "# await metric.result.log()\n",
    "metric.result.show()"
   ]
  },
  {
   "attachments": {},
   "cell_type": "markdown",
   "metadata": {},
   "source": [
    "## Feature Engineering"
   ]
  },
  {
   "attachments": {},
   "cell_type": "markdown",
   "metadata": {},
   "source": [
    "#### Process Train Data 1"
   ]
  },
  {
   "cell_type": "code",
   "execution_count": 29,
   "metadata": {},
   "outputs": [],
   "source": [
    "# Drop variables from next analysis\n",
    "df_train_2 = df_train_1.drop(columns = drop_categorical_features + drop_numerical_features, axis=1)\n",
    "\n",
    "# Update df_test \n",
    "df_test_2 = df_test_1.drop(columns = drop_categorical_features + drop_numerical_features, axis=1)\n",
    "\n",
    "# Class Binning \n",
    "encode_numerical_features(df_train_2)\n",
    "convert_categorical_to_object(df_train_2)\n",
    "\n",
    "# Update df_test\n",
    "encode_numerical_features(df_test_2)\n",
    "convert_categorical_to_object(df_test_2)"
   ]
  },
  {
   "attachments": {},
   "cell_type": "markdown",
   "metadata": {},
   "source": [
    "#### Validate Train Data 2"
   ]
  },
  {
   "cell_type": "code",
   "execution_count": 30,
   "metadata": {},
   "outputs": [
    {
     "name": "stderr",
     "output_type": "stream",
     "text": [
      "2023-07-25 09:59:40,940 - INFO(validmind.client): Pandas dataset detected. Initializing VM Dataset instance...\n",
      "2023-07-25 09:59:40,940 - INFO(validmind.vm_models.dataset): Inferring dataset types...\n"
     ]
    },
    {
     "data": {
      "application/vnd.jupyter.widget-view+json": {
       "model_id": "b2f44be6c4cb4aefab0f62ef52b735eb",
       "version_major": 2,
       "version_minor": 0
      },
      "text/plain": [
       "VBox(children=(HTML(value='<p>Calculate the Weight of Evidence (WoE) and Information Value (IV) of categorical…"
      ]
     },
     "metadata": {},
     "output_type": "display_data"
    }
   ],
   "source": [
    "from validmind.tests.data_validation.WOEIVTable import WOEIVTable\n",
    "\n",
    "# Update vm dataset and test context\n",
    "vm_df_train_2 = vm.init_dataset(dataset=df_train_2, \n",
    "                              target_column=target_column)\n",
    "test_context_train_2 = TestContext(dataset=vm_df_train_2)\n",
    "\n",
    "# Configure test parameters\n",
    "\n",
    "params = {\n",
    "    \"features\": None,\n",
    "    \"order_by\": [\"Feature\", \"WoE\"]\n",
    "}\n",
    "\n",
    "# Run test\n",
    "metric = WOEIVTable(test_context_train_2, params=params)\n",
    "metric.run()\n",
    "# await metric.result.log()\n",
    "woe_iv_df = metric.result.metric.value['woe_iv']\n",
    "metric.result.show()"
   ]
  },
  {
   "attachments": {},
   "cell_type": "markdown",
   "metadata": {},
   "source": [
    "#### Process Train Data 2"
   ]
  },
  {
   "cell_type": "code",
   "execution_count": 31,
   "metadata": {},
   "outputs": [],
   "source": [
    "# Class Coarsing\n",
    "df_train_3 = coarse_classing(df_train_2, mappings)\n",
    "df_train_3 = df_train_3[~df_train_3['home_ownership'].isin(['OTHER', 'NONE'])]\n",
    "df_train_3.drop(columns=\"home_ownership\", inplace=True)\n",
    "df_train_3 = shorten_category_names(df_train_3, max_length=15, suffix=\"...\")\n",
    "\n",
    "# Update df_test\n",
    "df_test_3 = coarse_classing(df_test_2, mappings)\n",
    "df_test_3 = df_test_3[~df_test_3['home_ownership'].isin(['OTHER', 'NONE'])]\n",
    "df_test_3.drop(columns=\"home_ownership\", inplace=True)\n",
    "df_test_3 = shorten_category_names(df_test_3, max_length=15, suffix=\"...\")"
   ]
  },
  {
   "attachments": {},
   "cell_type": "markdown",
   "metadata": {},
   "source": [
    "#### Validate Train Data 3"
   ]
  },
  {
   "cell_type": "code",
   "execution_count": 32,
   "metadata": {},
   "outputs": [
    {
     "name": "stderr",
     "output_type": "stream",
     "text": [
      "2023-07-25 09:59:48,310 - INFO(validmind.client): Pandas dataset detected. Initializing VM Dataset instance...\n",
      "2023-07-25 09:59:48,312 - INFO(validmind.vm_models.dataset): Inferring dataset types...\n"
     ]
    },
    {
     "data": {
      "application/vnd.jupyter.widget-view+json": {
       "model_id": "8a8a5ea82234492ba3eeb55203b3e4d4",
       "version_major": 2,
       "version_minor": 0
      },
      "text/plain": [
       "VBox(children=(HTML(value='<p>Generates a visual analysis of the WoE and IV values distribution for categorica…"
      ]
     },
     "metadata": {},
     "output_type": "display_data"
    }
   ],
   "source": [
    "from validmind.tests.data_validation.WOEIVPlots import WOEIVPlots\n",
    "\n",
    "# Update vm dataset and test context\n",
    "vm_df_train_3 = vm.init_dataset(dataset=df_train_3, \n",
    "                              target_column=target_column)\n",
    "test_context_train_3 = TestContext(dataset=vm_df_train_3)\n",
    "\n",
    "params = {\n",
    "    \"features\": None,\n",
    "    \"fig_height\": 500,\n",
    "    \"fig_height\": 500,\n",
    "}\n",
    "\n",
    "# Run test\n",
    "metric = WOEIVPlots(test_context_train_3, params=params)\n",
    "metric.run()\n",
    "await metric.result.log()\n",
    "metric.result.show()"
   ]
  },
  {
   "attachments": {},
   "cell_type": "markdown",
   "metadata": {},
   "source": [
    "## Model Training"
   ]
  },
  {
   "attachments": {},
   "cell_type": "markdown",
   "metadata": {},
   "source": [
    "#### Process Train Data 3"
   ]
  },
  {
   "cell_type": "code",
   "execution_count": 35,
   "metadata": {},
   "outputs": [
    {
     "data": {
      "text/html": [
       "<div>\n",
       "<style scoped>\n",
       "    .dataframe tbody tr th:only-of-type {\n",
       "        vertical-align: middle;\n",
       "    }\n",
       "\n",
       "    .dataframe tbody tr th {\n",
       "        vertical-align: top;\n",
       "    }\n",
       "\n",
       "    .dataframe thead th {\n",
       "        text-align: right;\n",
       "    }\n",
       "</style>\n",
       "<table border=\"1\" class=\"dataframe\">\n",
       "  <thead>\n",
       "    <tr style=\"text-align: right;\">\n",
       "      <th></th>\n",
       "      <th>Feature</th>\n",
       "      <th>Category</th>\n",
       "      <th>All</th>\n",
       "      <th>Good</th>\n",
       "      <th>Bad</th>\n",
       "      <th>Distr_Good</th>\n",
       "      <th>Distr_Bad</th>\n",
       "      <th>WoE</th>\n",
       "      <th>IV</th>\n",
       "    </tr>\n",
       "  </thead>\n",
       "  <tbody>\n",
       "    <tr>\n",
       "      <th>0</th>\n",
       "      <td>verification_status</td>\n",
       "      <td>Not Verified</td>\n",
       "      <td>58436</td>\n",
       "      <td>49886</td>\n",
       "      <td>8550</td>\n",
       "      <td>0.444664</td>\n",
       "      <td>0.338574</td>\n",
       "      <td>0.272578</td>\n",
       "      <td>2.891799e-02</td>\n",
       "    </tr>\n",
       "    <tr>\n",
       "      <th>1</th>\n",
       "      <td>verification_status</td>\n",
       "      <td>Source Verified</td>\n",
       "      <td>38235</td>\n",
       "      <td>30399</td>\n",
       "      <td>7836</td>\n",
       "      <td>0.270965</td>\n",
       "      <td>0.310300</td>\n",
       "      <td>-0.135550</td>\n",
       "      <td>5.331848e-03</td>\n",
       "    </tr>\n",
       "    <tr>\n",
       "      <th>2</th>\n",
       "      <td>verification_status</td>\n",
       "      <td>Verified</td>\n",
       "      <td>40770</td>\n",
       "      <td>31903</td>\n",
       "      <td>8867</td>\n",
       "      <td>0.284371</td>\n",
       "      <td>0.351127</td>\n",
       "      <td>-0.210868</td>\n",
       "      <td>1.407662e-02</td>\n",
       "    </tr>\n",
       "    <tr>\n",
       "      <th>3</th>\n",
       "      <td>total_acc_bucket</td>\n",
       "      <td>[50, 999)</td>\n",
       "      <td>753</td>\n",
       "      <td>639</td>\n",
       "      <td>114</td>\n",
       "      <td>0.005696</td>\n",
       "      <td>0.004514</td>\n",
       "      <td>0.232475</td>\n",
       "      <td>2.746648e-04</td>\n",
       "    </tr>\n",
       "    <tr>\n",
       "      <th>4</th>\n",
       "      <td>total_acc_bucket</td>\n",
       "      <td>[25, 30)</td>\n",
       "      <td>20878</td>\n",
       "      <td>17146</td>\n",
       "      <td>3732</td>\n",
       "      <td>0.152833</td>\n",
       "      <td>0.147784</td>\n",
       "      <td>0.033590</td>\n",
       "      <td>1.695709e-04</td>\n",
       "    </tr>\n",
       "    <tr>\n",
       "      <th>5</th>\n",
       "      <td>total_acc_bucket</td>\n",
       "      <td>[[20, 25),[30, ...</td>\n",
       "      <td>114925</td>\n",
       "      <td>93722</td>\n",
       "      <td>21203</td>\n",
       "      <td>0.835401</td>\n",
       "      <td>0.839623</td>\n",
       "      <td>-0.005041</td>\n",
       "      <td>2.128088e-05</td>\n",
       "    </tr>\n",
       "    <tr>\n",
       "      <th>6</th>\n",
       "      <td>total_acc_bucket</td>\n",
       "      <td>[0, 5)</td>\n",
       "      <td>885</td>\n",
       "      <td>681</td>\n",
       "      <td>204</td>\n",
       "      <td>0.006070</td>\n",
       "      <td>0.008078</td>\n",
       "      <td>-0.285789</td>\n",
       "      <td>5.738868e-04</td>\n",
       "    </tr>\n",
       "    <tr>\n",
       "      <th>7</th>\n",
       "      <td>term</td>\n",
       "      <td>36M</td>\n",
       "      <td>117433</td>\n",
       "      <td>99441</td>\n",
       "      <td>17992</td>\n",
       "      <td>0.886378</td>\n",
       "      <td>0.712470</td>\n",
       "      <td>0.218406</td>\n",
       "      <td>3.798268e-02</td>\n",
       "    </tr>\n",
       "    <tr>\n",
       "      <th>8</th>\n",
       "      <td>term</td>\n",
       "      <td>60M</td>\n",
       "      <td>20008</td>\n",
       "      <td>12747</td>\n",
       "      <td>7261</td>\n",
       "      <td>0.113622</td>\n",
       "      <td>0.287530</td>\n",
       "      <td>-0.928453</td>\n",
       "      <td>1.614657e-01</td>\n",
       "    </tr>\n",
       "    <tr>\n",
       "      <th>9</th>\n",
       "      <td>sub_grade</td>\n",
       "      <td>A1</td>\n",
       "      <td>3623</td>\n",
       "      <td>3508</td>\n",
       "      <td>115</td>\n",
       "      <td>0.031269</td>\n",
       "      <td>0.004554</td>\n",
       "      <td>1.926638</td>\n",
       "      <td>5.147019e-02</td>\n",
       "    </tr>\n",
       "    <tr>\n",
       "      <th>10</th>\n",
       "      <td>sub_grade</td>\n",
       "      <td>A2</td>\n",
       "      <td>3846</td>\n",
       "      <td>3662</td>\n",
       "      <td>184</td>\n",
       "      <td>0.032642</td>\n",
       "      <td>0.007286</td>\n",
       "      <td>1.499598</td>\n",
       "      <td>3.802287e-02</td>\n",
       "    </tr>\n",
       "    <tr>\n",
       "      <th>11</th>\n",
       "      <td>sub_grade</td>\n",
       "      <td>A3</td>\n",
       "      <td>4488</td>\n",
       "      <td>4220</td>\n",
       "      <td>268</td>\n",
       "      <td>0.037615</td>\n",
       "      <td>0.010613</td>\n",
       "      <td>1.265372</td>\n",
       "      <td>3.416864e-02</td>\n",
       "    </tr>\n",
       "    <tr>\n",
       "      <th>12</th>\n",
       "      <td>sub_grade</td>\n",
       "      <td>A4</td>\n",
       "      <td>6949</td>\n",
       "      <td>6429</td>\n",
       "      <td>520</td>\n",
       "      <td>0.057306</td>\n",
       "      <td>0.020592</td>\n",
       "      <td>1.023514</td>\n",
       "      <td>3.757729e-02</td>\n",
       "    </tr>\n",
       "    <tr>\n",
       "      <th>13</th>\n",
       "      <td>sub_grade</td>\n",
       "      <td>A5</td>\n",
       "      <td>7204</td>\n",
       "      <td>6585</td>\n",
       "      <td>619</td>\n",
       "      <td>0.058696</td>\n",
       "      <td>0.024512</td>\n",
       "      <td>0.873213</td>\n",
       "      <td>2.985008e-02</td>\n",
       "    </tr>\n",
       "    <tr>\n",
       "      <th>14</th>\n",
       "      <td>sub_grade</td>\n",
       "      <td>B1</td>\n",
       "      <td>7526</td>\n",
       "      <td>6725</td>\n",
       "      <td>801</td>\n",
       "      <td>0.059944</td>\n",
       "      <td>0.031719</td>\n",
       "      <td>0.636495</td>\n",
       "      <td>1.796509e-02</td>\n",
       "    </tr>\n",
       "    <tr>\n",
       "      <th>15</th>\n",
       "      <td>sub_grade</td>\n",
       "      <td>[B2,B3,B4,B5,C3...</td>\n",
       "      <td>51452</td>\n",
       "      <td>43070</td>\n",
       "      <td>8382</td>\n",
       "      <td>0.383909</td>\n",
       "      <td>0.331921</td>\n",
       "      <td>0.145509</td>\n",
       "      <td>7.564754e-03</td>\n",
       "    </tr>\n",
       "    <tr>\n",
       "      <th>16</th>\n",
       "      <td>sub_grade</td>\n",
       "      <td>[C1,C2,C4,C5]</td>\n",
       "      <td>28494</td>\n",
       "      <td>22407</td>\n",
       "      <td>6087</td>\n",
       "      <td>0.199727</td>\n",
       "      <td>0.241041</td>\n",
       "      <td>-0.188013</td>\n",
       "      <td>7.767462e-03</td>\n",
       "    </tr>\n",
       "    <tr>\n",
       "      <th>17</th>\n",
       "      <td>sub_grade</td>\n",
       "      <td>D2</td>\n",
       "      <td>4788</td>\n",
       "      <td>3431</td>\n",
       "      <td>1357</td>\n",
       "      <td>0.030583</td>\n",
       "      <td>0.053736</td>\n",
       "      <td>-0.563656</td>\n",
       "      <td>1.305066e-02</td>\n",
       "    </tr>\n",
       "    <tr>\n",
       "      <th>18</th>\n",
       "      <td>sub_grade</td>\n",
       "      <td>[D3,D4,D5,E3,G4...</td>\n",
       "      <td>11414</td>\n",
       "      <td>7746</td>\n",
       "      <td>3668</td>\n",
       "      <td>0.069045</td>\n",
       "      <td>0.145250</td>\n",
       "      <td>-0.743701</td>\n",
       "      <td>5.667393e-02</td>\n",
       "    </tr>\n",
       "    <tr>\n",
       "      <th>19</th>\n",
       "      <td>sub_grade</td>\n",
       "      <td>[E1,E2,E4,E5,F1...</td>\n",
       "      <td>7657</td>\n",
       "      <td>4405</td>\n",
       "      <td>3252</td>\n",
       "      <td>0.039264</td>\n",
       "      <td>0.128777</td>\n",
       "      <td>-1.187761</td>\n",
       "      <td>1.063193e-01</td>\n",
       "    </tr>\n",
       "    <tr>\n",
       "      <th>20</th>\n",
       "      <td>purpose</td>\n",
       "      <td>[wedding,major_...</td>\n",
       "      <td>5084</td>\n",
       "      <td>4402</td>\n",
       "      <td>682</td>\n",
       "      <td>0.039238</td>\n",
       "      <td>0.027007</td>\n",
       "      <td>0.373554</td>\n",
       "      <td>4.568939e-03</td>\n",
       "    </tr>\n",
       "    <tr>\n",
       "      <th>21</th>\n",
       "      <td>purpose</td>\n",
       "      <td>home_improvemen...</td>\n",
       "      <td>7378</td>\n",
       "      <td>6241</td>\n",
       "      <td>1137</td>\n",
       "      <td>0.055630</td>\n",
       "      <td>0.045024</td>\n",
       "      <td>0.211516</td>\n",
       "      <td>2.243231e-03</td>\n",
       "    </tr>\n",
       "    <tr>\n",
       "      <th>22</th>\n",
       "      <td>purpose</td>\n",
       "      <td>[credit_card,ca...</td>\n",
       "      <td>30359</td>\n",
       "      <td>25552</td>\n",
       "      <td>4807</td>\n",
       "      <td>0.227761</td>\n",
       "      <td>0.190354</td>\n",
       "      <td>0.179411</td>\n",
       "      <td>6.711226e-03</td>\n",
       "    </tr>\n",
       "    <tr>\n",
       "      <th>23</th>\n",
       "      <td>purpose</td>\n",
       "      <td>[debt_consolida...</td>\n",
       "      <td>88233</td>\n",
       "      <td>71086</td>\n",
       "      <td>17147</td>\n",
       "      <td>0.633633</td>\n",
       "      <td>0.679008</td>\n",
       "      <td>-0.069164</td>\n",
       "      <td>3.138353e-03</td>\n",
       "    </tr>\n",
       "    <tr>\n",
       "      <th>24</th>\n",
       "      <td>purpose</td>\n",
       "      <td>[medical,moving...</td>\n",
       "      <td>3825</td>\n",
       "      <td>3067</td>\n",
       "      <td>758</td>\n",
       "      <td>0.027338</td>\n",
       "      <td>0.030016</td>\n",
       "      <td>-0.093459</td>\n",
       "      <td>2.503023e-04</td>\n",
       "    </tr>\n",
       "    <tr>\n",
       "      <th>25</th>\n",
       "      <td>purpose</td>\n",
       "      <td>[renewable_ener...</td>\n",
       "      <td>2562</td>\n",
       "      <td>1840</td>\n",
       "      <td>722</td>\n",
       "      <td>0.016401</td>\n",
       "      <td>0.028591</td>\n",
       "      <td>-0.555735</td>\n",
       "      <td>6.774204e-03</td>\n",
       "    </tr>\n",
       "    <tr>\n",
       "      <th>26</th>\n",
       "      <td>open_acc_bucket</td>\n",
       "      <td>[3, 4)</td>\n",
       "      <td>2264</td>\n",
       "      <td>1860</td>\n",
       "      <td>404</td>\n",
       "      <td>0.016579</td>\n",
       "      <td>0.015998</td>\n",
       "      <td>0.035686</td>\n",
       "      <td>2.074110e-05</td>\n",
       "    </tr>\n",
       "    <tr>\n",
       "      <th>27</th>\n",
       "      <td>open_acc_bucket</td>\n",
       "      <td>[[5, 8),[8, 10)...</td>\n",
       "      <td>134377</td>\n",
       "      <td>109688</td>\n",
       "      <td>24689</td>\n",
       "      <td>0.977716</td>\n",
       "      <td>0.977666</td>\n",
       "      <td>0.000051</td>\n",
       "      <td>2.552636e-09</td>\n",
       "    </tr>\n",
       "    <tr>\n",
       "      <th>28</th>\n",
       "      <td>open_acc_bucket</td>\n",
       "      <td>[[1, 2),[2, 3)]</td>\n",
       "      <td>800</td>\n",
       "      <td>640</td>\n",
       "      <td>160</td>\n",
       "      <td>0.005705</td>\n",
       "      <td>0.006336</td>\n",
       "      <td>-0.104937</td>\n",
       "      <td>6.623300e-05</td>\n",
       "    </tr>\n",
       "    <tr>\n",
       "      <th>29</th>\n",
       "      <td>int_rate_bucket</td>\n",
       "      <td>[5, 10)</td>\n",
       "      <td>31717</td>\n",
       "      <td>29436</td>\n",
       "      <td>2281</td>\n",
       "      <td>0.262381</td>\n",
       "      <td>0.090326</td>\n",
       "      <td>1.066373</td>\n",
       "      <td>1.834750e-01</td>\n",
       "    </tr>\n",
       "    <tr>\n",
       "      <th>30</th>\n",
       "      <td>int_rate_bucket</td>\n",
       "      <td>[10, 25)</td>\n",
       "      <td>105724</td>\n",
       "      <td>82752</td>\n",
       "      <td>22972</td>\n",
       "      <td>0.737619</td>\n",
       "      <td>0.909674</td>\n",
       "      <td>-0.209659</td>\n",
       "      <td>3.607290e-02</td>\n",
       "    </tr>\n",
       "    <tr>\n",
       "      <th>31</th>\n",
       "      <td>installment_bucket</td>\n",
       "      <td>[100, 200)</td>\n",
       "      <td>22754</td>\n",
       "      <td>19247</td>\n",
       "      <td>3507</td>\n",
       "      <td>0.171560</td>\n",
       "      <td>0.138875</td>\n",
       "      <td>0.211363</td>\n",
       "      <td>6.908542e-03</td>\n",
       "    </tr>\n",
       "    <tr>\n",
       "      <th>32</th>\n",
       "      <td>installment_bucket</td>\n",
       "      <td>[[300, 400),[20...</td>\n",
       "      <td>68228</td>\n",
       "      <td>56523</td>\n",
       "      <td>11705</td>\n",
       "      <td>0.503824</td>\n",
       "      <td>0.463509</td>\n",
       "      <td>0.083400</td>\n",
       "      <td>3.362261e-03</td>\n",
       "    </tr>\n",
       "    <tr>\n",
       "      <th>33</th>\n",
       "      <td>installment_bucket</td>\n",
       "      <td>[[400, 500),[50...</td>\n",
       "      <td>42780</td>\n",
       "      <td>33725</td>\n",
       "      <td>9055</td>\n",
       "      <td>0.300611</td>\n",
       "      <td>0.358571</td>\n",
       "      <td>-0.176309</td>\n",
       "      <td>1.021882e-02</td>\n",
       "    </tr>\n",
       "    <tr>\n",
       "      <th>34</th>\n",
       "      <td>installment_bucket</td>\n",
       "      <td>[750, 1000)</td>\n",
       "      <td>3679</td>\n",
       "      <td>2693</td>\n",
       "      <td>986</td>\n",
       "      <td>0.024004</td>\n",
       "      <td>0.039045</td>\n",
       "      <td>-0.486476</td>\n",
       "      <td>7.316855e-03</td>\n",
       "    </tr>\n",
       "    <tr>\n",
       "      <th>35</th>\n",
       "      <td>inq_last_6mths_bucket</td>\n",
       "      <td>[0, 1)</td>\n",
       "      <td>68522</td>\n",
       "      <td>57290</td>\n",
       "      <td>11232</td>\n",
       "      <td>0.510661</td>\n",
       "      <td>0.444779</td>\n",
       "      <td>0.138128</td>\n",
       "      <td>9.100138e-03</td>\n",
       "    </tr>\n",
       "    <tr>\n",
       "      <th>36</th>\n",
       "      <td>inq_last_6mths_bucket</td>\n",
       "      <td>[[4, 5),[1, 2)]</td>\n",
       "      <td>41051</td>\n",
       "      <td>33181</td>\n",
       "      <td>7870</td>\n",
       "      <td>0.295762</td>\n",
       "      <td>0.311646</td>\n",
       "      <td>-0.052312</td>\n",
       "      <td>8.309021e-04</td>\n",
       "    </tr>\n",
       "    <tr>\n",
       "      <th>37</th>\n",
       "      <td>inq_last_6mths_bucket</td>\n",
       "      <td>[2, 3)</td>\n",
       "      <td>18575</td>\n",
       "      <td>14608</td>\n",
       "      <td>3967</td>\n",
       "      <td>0.130210</td>\n",
       "      <td>0.157090</td>\n",
       "      <td>-0.187672</td>\n",
       "      <td>5.044666e-03</td>\n",
       "    </tr>\n",
       "    <tr>\n",
       "      <th>38</th>\n",
       "      <td>inq_last_6mths_bucket</td>\n",
       "      <td>[[5, 10),[3, 4)...</td>\n",
       "      <td>9293</td>\n",
       "      <td>7109</td>\n",
       "      <td>2184</td>\n",
       "      <td>0.063367</td>\n",
       "      <td>0.086485</td>\n",
       "      <td>-0.311028</td>\n",
       "      <td>7.190312e-03</td>\n",
       "    </tr>\n",
       "    <tr>\n",
       "      <th>39</th>\n",
       "      <td>grade</td>\n",
       "      <td>A</td>\n",
       "      <td>26110</td>\n",
       "      <td>24404</td>\n",
       "      <td>1706</td>\n",
       "      <td>0.217528</td>\n",
       "      <td>0.067556</td>\n",
       "      <td>1.169365</td>\n",
       "      <td>1.753712e-01</td>\n",
       "    </tr>\n",
       "    <tr>\n",
       "      <th>40</th>\n",
       "      <td>grade</td>\n",
       "      <td>B</td>\n",
       "      <td>46890</td>\n",
       "      <td>40643</td>\n",
       "      <td>6247</td>\n",
       "      <td>0.362276</td>\n",
       "      <td>0.247377</td>\n",
       "      <td>0.381494</td>\n",
       "      <td>4.383341e-02</td>\n",
       "    </tr>\n",
       "    <tr>\n",
       "      <th>41</th>\n",
       "      <td>grade</td>\n",
       "      <td>C</td>\n",
       "      <td>35285</td>\n",
       "      <td>27660</td>\n",
       "      <td>7625</td>\n",
       "      <td>0.246550</td>\n",
       "      <td>0.301944</td>\n",
       "      <td>-0.202676</td>\n",
       "      <td>1.122702e-02</td>\n",
       "    </tr>\n",
       "    <tr>\n",
       "      <th>42</th>\n",
       "      <td>grade</td>\n",
       "      <td>D</td>\n",
       "      <td>20119</td>\n",
       "      <td>14244</td>\n",
       "      <td>5875</td>\n",
       "      <td>0.126965</td>\n",
       "      <td>0.232646</td>\n",
       "      <td>-0.605601</td>\n",
       "      <td>6.400006e-02</td>\n",
       "    </tr>\n",
       "    <tr>\n",
       "      <th>43</th>\n",
       "      <td>grade</td>\n",
       "      <td>E</td>\n",
       "      <td>7022</td>\n",
       "      <td>4208</td>\n",
       "      <td>2814</td>\n",
       "      <td>0.037508</td>\n",
       "      <td>0.111432</td>\n",
       "      <td>-1.088851</td>\n",
       "      <td>8.049201e-02</td>\n",
       "    </tr>\n",
       "    <tr>\n",
       "      <th>44</th>\n",
       "      <td>grade</td>\n",
       "      <td>[F,G]</td>\n",
       "      <td>2015</td>\n",
       "      <td>1029</td>\n",
       "      <td>986</td>\n",
       "      <td>0.009172</td>\n",
       "      <td>0.039045</td>\n",
       "      <td>-1.448545</td>\n",
       "      <td>4.327203e-02</td>\n",
       "    </tr>\n",
       "    <tr>\n",
       "      <th>45</th>\n",
       "      <td>emp_length_bucket</td>\n",
       "      <td>[[2, 3),[40, 50...</td>\n",
       "      <td>97051</td>\n",
       "      <td>79245</td>\n",
       "      <td>17806</td>\n",
       "      <td>0.706359</td>\n",
       "      <td>0.705104</td>\n",
       "      <td>0.001778</td>\n",
       "      <td>2.230428e-06</td>\n",
       "    </tr>\n",
       "    <tr>\n",
       "      <th>46</th>\n",
       "      <td>emp_length_bucket</td>\n",
       "      <td>[10, 999)</td>\n",
       "      <td>40390</td>\n",
       "      <td>32943</td>\n",
       "      <td>7447</td>\n",
       "      <td>0.293641</td>\n",
       "      <td>0.294896</td>\n",
       "      <td>-0.004264</td>\n",
       "      <td>5.349151e-06</td>\n",
       "    </tr>\n",
       "    <tr>\n",
       "      <th>47</th>\n",
       "      <td>annual_inc_bucket</td>\n",
       "      <td>[[250, 1000),[1...</td>\n",
       "      <td>14480</td>\n",
       "      <td>12699</td>\n",
       "      <td>1781</td>\n",
       "      <td>0.113194</td>\n",
       "      <td>0.070526</td>\n",
       "      <td>0.473117</td>\n",
       "      <td>2.018680e-02</td>\n",
       "    </tr>\n",
       "    <tr>\n",
       "      <th>48</th>\n",
       "      <td>annual_inc_bucket</td>\n",
       "      <td>[75, 100)</td>\n",
       "      <td>24799</td>\n",
       "      <td>21196</td>\n",
       "      <td>3603</td>\n",
       "      <td>0.188933</td>\n",
       "      <td>0.142676</td>\n",
       "      <td>0.280815</td>\n",
       "      <td>1.298957e-02</td>\n",
       "    </tr>\n",
       "    <tr>\n",
       "      <th>49</th>\n",
       "      <td>annual_inc_bucket</td>\n",
       "      <td>[[50, 75),[40, ...</td>\n",
       "      <td>71046</td>\n",
       "      <td>57342</td>\n",
       "      <td>13704</td>\n",
       "      <td>0.511124</td>\n",
       "      <td>0.542668</td>\n",
       "      <td>-0.059885</td>\n",
       "      <td>1.889029e-03</td>\n",
       "    </tr>\n",
       "    <tr>\n",
       "      <th>50</th>\n",
       "      <td>annual_inc_bucket</td>\n",
       "      <td>[30, 40)</td>\n",
       "      <td>17872</td>\n",
       "      <td>13889</td>\n",
       "      <td>3983</td>\n",
       "      <td>0.123801</td>\n",
       "      <td>0.157724</td>\n",
       "      <td>-0.242169</td>\n",
       "      <td>8.215037e-03</td>\n",
       "    </tr>\n",
       "    <tr>\n",
       "      <th>51</th>\n",
       "      <td>annual_inc_bucket</td>\n",
       "      <td>[[10, 20),[0, 1...</td>\n",
       "      <td>1594</td>\n",
       "      <td>1234</td>\n",
       "      <td>360</td>\n",
       "      <td>0.010999</td>\n",
       "      <td>0.014256</td>\n",
       "      <td>-0.259319</td>\n",
       "      <td>8.444300e-04</td>\n",
       "    </tr>\n",
       "    <tr>\n",
       "      <th>52</th>\n",
       "      <td>annual_inc_bucket</td>\n",
       "      <td>[20, 30)</td>\n",
       "      <td>7650</td>\n",
       "      <td>5828</td>\n",
       "      <td>1822</td>\n",
       "      <td>0.051949</td>\n",
       "      <td>0.072150</td>\n",
       "      <td>-0.328492</td>\n",
       "      <td>6.635975e-03</td>\n",
       "    </tr>\n",
       "  </tbody>\n",
       "</table>\n",
       "</div>"
      ],
      "text/plain": [
       "                  Feature            Category     All    Good    Bad  \\\n",
       "0     verification_status        Not Verified   58436   49886   8550   \n",
       "1     verification_status     Source Verified   38235   30399   7836   \n",
       "2     verification_status            Verified   40770   31903   8867   \n",
       "3        total_acc_bucket           [50, 999)     753     639    114   \n",
       "4        total_acc_bucket            [25, 30)   20878   17146   3732   \n",
       "5        total_acc_bucket  [[20, 25),[30, ...  114925   93722  21203   \n",
       "6        total_acc_bucket              [0, 5)     885     681    204   \n",
       "7                    term                 36M  117433   99441  17992   \n",
       "8                    term                 60M   20008   12747   7261   \n",
       "9               sub_grade                  A1    3623    3508    115   \n",
       "10              sub_grade                  A2    3846    3662    184   \n",
       "11              sub_grade                  A3    4488    4220    268   \n",
       "12              sub_grade                  A4    6949    6429    520   \n",
       "13              sub_grade                  A5    7204    6585    619   \n",
       "14              sub_grade                  B1    7526    6725    801   \n",
       "15              sub_grade  [B2,B3,B4,B5,C3...   51452   43070   8382   \n",
       "16              sub_grade       [C1,C2,C4,C5]   28494   22407   6087   \n",
       "17              sub_grade                  D2    4788    3431   1357   \n",
       "18              sub_grade  [D3,D4,D5,E3,G4...   11414    7746   3668   \n",
       "19              sub_grade  [E1,E2,E4,E5,F1...    7657    4405   3252   \n",
       "20                purpose  [wedding,major_...    5084    4402    682   \n",
       "21                purpose  home_improvemen...    7378    6241   1137   \n",
       "22                purpose  [credit_card,ca...   30359   25552   4807   \n",
       "23                purpose  [debt_consolida...   88233   71086  17147   \n",
       "24                purpose  [medical,moving...    3825    3067    758   \n",
       "25                purpose  [renewable_ener...    2562    1840    722   \n",
       "26        open_acc_bucket              [3, 4)    2264    1860    404   \n",
       "27        open_acc_bucket  [[5, 8),[8, 10)...  134377  109688  24689   \n",
       "28        open_acc_bucket     [[1, 2),[2, 3)]     800     640    160   \n",
       "29        int_rate_bucket             [5, 10)   31717   29436   2281   \n",
       "30        int_rate_bucket            [10, 25)  105724   82752  22972   \n",
       "31     installment_bucket          [100, 200)   22754   19247   3507   \n",
       "32     installment_bucket  [[300, 400),[20...   68228   56523  11705   \n",
       "33     installment_bucket  [[400, 500),[50...   42780   33725   9055   \n",
       "34     installment_bucket         [750, 1000)    3679    2693    986   \n",
       "35  inq_last_6mths_bucket              [0, 1)   68522   57290  11232   \n",
       "36  inq_last_6mths_bucket     [[4, 5),[1, 2)]   41051   33181   7870   \n",
       "37  inq_last_6mths_bucket              [2, 3)   18575   14608   3967   \n",
       "38  inq_last_6mths_bucket  [[5, 10),[3, 4)...    9293    7109   2184   \n",
       "39                  grade                   A   26110   24404   1706   \n",
       "40                  grade                   B   46890   40643   6247   \n",
       "41                  grade                   C   35285   27660   7625   \n",
       "42                  grade                   D   20119   14244   5875   \n",
       "43                  grade                   E    7022    4208   2814   \n",
       "44                  grade               [F,G]    2015    1029    986   \n",
       "45      emp_length_bucket  [[2, 3),[40, 50...   97051   79245  17806   \n",
       "46      emp_length_bucket           [10, 999)   40390   32943   7447   \n",
       "47      annual_inc_bucket  [[250, 1000),[1...   14480   12699   1781   \n",
       "48      annual_inc_bucket           [75, 100)   24799   21196   3603   \n",
       "49      annual_inc_bucket  [[50, 75),[40, ...   71046   57342  13704   \n",
       "50      annual_inc_bucket            [30, 40)   17872   13889   3983   \n",
       "51      annual_inc_bucket  [[10, 20),[0, 1...    1594    1234    360   \n",
       "52      annual_inc_bucket            [20, 30)    7650    5828   1822   \n",
       "\n",
       "    Distr_Good  Distr_Bad       WoE            IV  \n",
       "0     0.444664   0.338574  0.272578  2.891799e-02  \n",
       "1     0.270965   0.310300 -0.135550  5.331848e-03  \n",
       "2     0.284371   0.351127 -0.210868  1.407662e-02  \n",
       "3     0.005696   0.004514  0.232475  2.746648e-04  \n",
       "4     0.152833   0.147784  0.033590  1.695709e-04  \n",
       "5     0.835401   0.839623 -0.005041  2.128088e-05  \n",
       "6     0.006070   0.008078 -0.285789  5.738868e-04  \n",
       "7     0.886378   0.712470  0.218406  3.798268e-02  \n",
       "8     0.113622   0.287530 -0.928453  1.614657e-01  \n",
       "9     0.031269   0.004554  1.926638  5.147019e-02  \n",
       "10    0.032642   0.007286  1.499598  3.802287e-02  \n",
       "11    0.037615   0.010613  1.265372  3.416864e-02  \n",
       "12    0.057306   0.020592  1.023514  3.757729e-02  \n",
       "13    0.058696   0.024512  0.873213  2.985008e-02  \n",
       "14    0.059944   0.031719  0.636495  1.796509e-02  \n",
       "15    0.383909   0.331921  0.145509  7.564754e-03  \n",
       "16    0.199727   0.241041 -0.188013  7.767462e-03  \n",
       "17    0.030583   0.053736 -0.563656  1.305066e-02  \n",
       "18    0.069045   0.145250 -0.743701  5.667393e-02  \n",
       "19    0.039264   0.128777 -1.187761  1.063193e-01  \n",
       "20    0.039238   0.027007  0.373554  4.568939e-03  \n",
       "21    0.055630   0.045024  0.211516  2.243231e-03  \n",
       "22    0.227761   0.190354  0.179411  6.711226e-03  \n",
       "23    0.633633   0.679008 -0.069164  3.138353e-03  \n",
       "24    0.027338   0.030016 -0.093459  2.503023e-04  \n",
       "25    0.016401   0.028591 -0.555735  6.774204e-03  \n",
       "26    0.016579   0.015998  0.035686  2.074110e-05  \n",
       "27    0.977716   0.977666  0.000051  2.552636e-09  \n",
       "28    0.005705   0.006336 -0.104937  6.623300e-05  \n",
       "29    0.262381   0.090326  1.066373  1.834750e-01  \n",
       "30    0.737619   0.909674 -0.209659  3.607290e-02  \n",
       "31    0.171560   0.138875  0.211363  6.908542e-03  \n",
       "32    0.503824   0.463509  0.083400  3.362261e-03  \n",
       "33    0.300611   0.358571 -0.176309  1.021882e-02  \n",
       "34    0.024004   0.039045 -0.486476  7.316855e-03  \n",
       "35    0.510661   0.444779  0.138128  9.100138e-03  \n",
       "36    0.295762   0.311646 -0.052312  8.309021e-04  \n",
       "37    0.130210   0.157090 -0.187672  5.044666e-03  \n",
       "38    0.063367   0.086485 -0.311028  7.190312e-03  \n",
       "39    0.217528   0.067556  1.169365  1.753712e-01  \n",
       "40    0.362276   0.247377  0.381494  4.383341e-02  \n",
       "41    0.246550   0.301944 -0.202676  1.122702e-02  \n",
       "42    0.126965   0.232646 -0.605601  6.400006e-02  \n",
       "43    0.037508   0.111432 -1.088851  8.049201e-02  \n",
       "44    0.009172   0.039045 -1.448545  4.327203e-02  \n",
       "45    0.706359   0.705104  0.001778  2.230428e-06  \n",
       "46    0.293641   0.294896 -0.004264  5.349151e-06  \n",
       "47    0.113194   0.070526  0.473117  2.018680e-02  \n",
       "48    0.188933   0.142676  0.280815  1.298957e-02  \n",
       "49    0.511124   0.542668 -0.059885  1.889029e-03  \n",
       "50    0.123801   0.157724 -0.242169  8.215037e-03  \n",
       "51    0.010999   0.014256 -0.259319  8.444300e-04  \n",
       "52    0.051949   0.072150 -0.328492  6.635975e-03  "
      ]
     },
     "execution_count": 35,
     "metadata": {},
     "output_type": "execute_result"
    }
   ],
   "source": [
    "woe_iv_df = pd.DataFrame(woe_iv_df)\n"
   ]
  },
  {
   "cell_type": "code",
   "execution_count": 36,
   "metadata": {},
   "outputs": [],
   "source": [
    "import statsmodels.api as sm\n",
    "\n",
    "# Compute WoE and IV \n",
    "metric = WOEIVTable(test_context_train_3, params=params)\n",
    "metric.run()\n",
    "woe_iv_dic = metric.result.metric.value['woe_iv']\n",
    "woe_iv_df = pd.DataFrame(woe_iv_dic)\n",
    "check_categories(woe_iv_df, df_train_3)\n",
    "\n",
    "# Encode features with WoE\n",
    "df_train_4 = woe_encoder(woe_iv_df, df_train_3, target='default')\n",
    "\n",
    "# Update df_test\n",
    "df_test_4 = woe_encoder(woe_iv_df, df_test_3, target='default')\n",
    "\n",
    "# Add constant to X_train for intercept term\n",
    "y_train = df_train_4[target_column]\n",
    "X_train = df_train_4.drop(target_column, axis=1)\n",
    "X_train = sm.add_constant(X_train)\n",
    "df_train_4 = pd.concat([X_train, y_train], axis=1)\n",
    "\n",
    "# Update df_test\n",
    "y_test = df_test_4[target_column]\n",
    "X_test = df_test_4.drop(target_column, axis=1)\n",
    "X_test = sm.add_constant(X_test)\n",
    "df_test_4 = pd.concat([X_test, y_test], axis=1)"
   ]
  },
  {
   "attachments": {},
   "cell_type": "markdown",
   "metadata": {},
   "source": [
    "#### Fit Model 1"
   ]
  },
  {
   "cell_type": "code",
   "execution_count": 37,
   "metadata": {},
   "outputs": [
    {
     "name": "stdout",
     "output_type": "stream",
     "text": [
      "                 Generalized Linear Model Regression Results                  \n",
      "==============================================================================\n",
      "Dep. Variable:                default   No. Observations:               137441\n",
      "Model:                            GLM   Df Residuals:                   137428\n",
      "Model Family:                Binomial   Df Model:                           12\n",
      "Link Function:                  Logit   Scale:                          1.0000\n",
      "Method:                          IRLS   Log-Likelihood:                -59834.\n",
      "Date:                Tue, 25 Jul 2023   Deviance:                   1.1967e+05\n",
      "Time:                        10:02:27   Pearson chi2:                 1.38e+05\n",
      "No. Iterations:                     6   Pseudo R-squ. (CS):            0.07997\n",
      "Covariance Type:            nonrobust                                         \n",
      "=========================================================================================\n",
      "                            coef    std err          z      P>|z|      [0.025      0.975]\n",
      "-----------------------------------------------------------------------------------------\n",
      "const                    -1.4910      0.007   -199.474      0.000      -1.506      -1.476\n",
      "term                     -0.6012      0.017    -35.602      0.000      -0.634      -0.568\n",
      "grade                    -0.5400      0.029    -18.866      0.000      -0.596      -0.484\n",
      "sub_grade                -0.1907      0.031     -6.200      0.000      -0.251      -0.130\n",
      "verification_status      -0.2329      0.036     -6.557      0.000      -0.302      -0.163\n",
      "purpose                  -0.4942      0.049    -10.150      0.000      -0.590      -0.399\n",
      "emp_length_bucket        -2.0902      2.683     -0.779      0.436      -7.349       3.169\n",
      "inq_last_6mths_bucket    -0.4292      0.050     -8.595      0.000      -0.527      -0.331\n",
      "total_acc_bucket         -0.3940      0.222     -1.777      0.076      -0.829       0.040\n",
      "annual_inc_bucket        -1.2091      0.037    -33.107      0.000      -1.281      -1.138\n",
      "int_rate_bucket          -0.1150      0.024     -4.721      0.000      -0.163      -0.067\n",
      "installment_bucket       -1.3242      0.047    -28.064      0.000      -1.417      -1.232\n",
      "open_acc_bucket          -0.9450      0.736     -1.285      0.199      -2.387       0.497\n",
      "=========================================================================================\n"
     ]
    }
   ],
   "source": [
    "# Define the model\n",
    "model = sm.GLM(y_train, X_train, family=sm.families.Binomial())\n",
    "\n",
    "# Fit the model\n",
    "model_fit_glm = model.fit()\n",
    "\n",
    "# Print out the statistics\n",
    "print(model_fit_glm.summary())"
   ]
  },
  {
   "attachments": {},
   "cell_type": "markdown",
   "metadata": {},
   "source": [
    "#### Process Train Data 4"
   ]
  },
  {
   "cell_type": "code",
   "execution_count": 38,
   "metadata": {},
   "outputs": [],
   "source": [
    "features_to_drop = ['emp_length_bucket', 'total_acc_bucket', 'open_acc_bucket']\n",
    "df_train_5 = df_train_4.drop(columns = features_to_drop, axis=1)\n",
    "\n",
    "# Update df_test \n",
    "df_test_5 = df_test_4.drop(columns = features_to_drop, axis=1)"
   ]
  },
  {
   "attachments": {},
   "cell_type": "markdown",
   "metadata": {},
   "source": [
    "#### Fit Model 2 "
   ]
  },
  {
   "cell_type": "code",
   "execution_count": 39,
   "metadata": {},
   "outputs": [
    {
     "name": "stdout",
     "output_type": "stream",
     "text": [
      "                 Generalized Linear Model Regression Results                  \n",
      "==============================================================================\n",
      "Dep. Variable:                default   No. Observations:               137441\n",
      "Model:                            GLM   Df Residuals:                   137431\n",
      "Model Family:                Binomial   Df Model:                            9\n",
      "Link Function:                  Logit   Scale:                          1.0000\n",
      "Method:                          IRLS   Log-Likelihood:                -59837.\n",
      "Date:                Tue, 25 Jul 2023   Deviance:                   1.1967e+05\n",
      "Time:                        10:02:28   Pearson chi2:                 1.38e+05\n",
      "No. Iterations:                     6   Pseudo R-squ. (CS):            0.07993\n",
      "Covariance Type:            nonrobust                                         \n",
      "=========================================================================================\n",
      "                            coef    std err          z      P>|z|      [0.025      0.975]\n",
      "-----------------------------------------------------------------------------------------\n",
      "const                    -1.4910      0.007   -199.480      0.000      -1.506      -1.476\n",
      "term                     -0.6005      0.017    -35.614      0.000      -0.634      -0.567\n",
      "grade                    -0.5406      0.029    -18.888      0.000      -0.597      -0.485\n",
      "sub_grade                -0.1917      0.031     -6.234      0.000      -0.252      -0.131\n",
      "verification_status      -0.2325      0.035     -6.551      0.000      -0.302      -0.163\n",
      "purpose                  -0.4939      0.049    -10.142      0.000      -0.589      -0.398\n",
      "inq_last_6mths_bucket    -0.4254      0.050     -8.525      0.000      -0.523      -0.328\n",
      "annual_inc_bucket        -1.2106      0.036    -33.387      0.000      -1.282      -1.139\n",
      "int_rate_bucket          -0.1143      0.024     -4.693      0.000      -0.162      -0.067\n",
      "installment_bucket       -1.3212      0.047    -28.045      0.000      -1.414      -1.229\n",
      "=========================================================================================\n"
     ]
    }
   ],
   "source": [
    "# Create X_train and y_train\n",
    "y_train = df_train_5[target_column]\n",
    "X_train = df_train_5.drop(target_column, axis=1)\n",
    "\n",
    "# Update df_test\n",
    "y_test = df_test_5[target_column]\n",
    "X_test = df_test_5.drop(target_column, axis=1)\n",
    "\n",
    "# Define the model\n",
    "model = sm.GLM(y_train, X_train, family=sm.families.Binomial())\n",
    "\n",
    "# Fit the model\n",
    "model_fit_glm = model.fit()\n",
    "\n",
    "# Print out the statistics\n",
    "print(model_fit_glm.summary())"
   ]
  },
  {
   "attachments": {},
   "cell_type": "markdown",
   "metadata": {},
   "source": [
    "## Model Evaluation"
   ]
  },
  {
   "attachments": {},
   "cell_type": "markdown",
   "metadata": {},
   "source": [
    "#### Validate Model Fit 2"
   ]
  },
  {
   "cell_type": "code",
   "execution_count": 40,
   "metadata": {},
   "outputs": [
    {
     "name": "stderr",
     "output_type": "stream",
     "text": [
      "2023-07-25 10:02:28,153 - INFO(validmind.client): Pandas dataset detected. Initializing VM Dataset instance...\n",
      "2023-07-25 10:02:28,155 - INFO(validmind.vm_models.dataset): Inferring dataset types...\n",
      "2023-07-25 10:02:28,937 - INFO(validmind.client): Pandas dataset detected. Initializing VM Dataset instance...\n",
      "2023-07-25 10:02:28,938 - INFO(validmind.vm_models.dataset): Inferring dataset types...\n"
     ]
    }
   ],
   "source": [
    "# Create VM dataset\n",
    "vm_ds_train_5 = vm.init_dataset(dataset=df_train_5,\n",
    "                        target_column=target_column)\n",
    "vm_ds_test_5 = vm.init_dataset(dataset=df_test_5,\n",
    "                        target_column=target_column)\n",
    "\n",
    "# Create VM model\n",
    "vm_model_glm = vm.init_model(\n",
    "    model = model_fit_glm, \n",
    "    train_ds=vm_ds_train_5, \n",
    "    test_ds=vm_ds_test_5)"
   ]
  },
  {
   "cell_type": "code",
   "execution_count": 41,
   "metadata": {},
   "outputs": [
    {
     "data": {
      "application/vnd.jupyter.widget-view+json": {
       "model_id": "3a153ccefd0443ecad074e683a31579b",
       "version_major": 2,
       "version_minor": 0
      },
      "text/plain": [
       "VBox(children=(HTML(value=\"<p>Regression Coefficients with Confidence Intervals Plot</p>\\n<p>This class is use…"
      ]
     },
     "metadata": {},
     "output_type": "display_data"
    }
   ],
   "source": [
    "from validmind.tests.model_validation.statsmodels.RegressionCoeffsPlot import RegressionCoeffsPlot\n",
    "\n",
    "test_context_model = TestContext(models = [vm_model_glm])\n",
    "\n",
    "metric = RegressionCoeffsPlot(test_context_model)\n",
    "metric.run()\n",
    "await metric.result.log()\n",
    "metric.result.show()"
   ]
  },
  {
   "cell_type": "code",
   "execution_count": 42,
   "metadata": {},
   "outputs": [
    {
     "data": {
      "application/vnd.jupyter.widget-view+json": {
       "model_id": "62ebb6f34a7546f68258b9bd258097bc",
       "version_major": 2,
       "version_minor": 0
      },
      "text/plain": [
       "VBox(children=(HTML(value='<p>This section shows the coefficients of different regression models that were tra…"
      ]
     },
     "metadata": {},
     "output_type": "display_data"
    }
   ],
   "source": [
    "from validmind.tests.model_validation.statsmodels.RegressionModelsCoeffs import RegressionModelsCoeffs\n",
    "\n",
    "metric = RegressionModelsCoeffs(test_context_model)\n",
    "metric.run()\n",
    "# await metric.result.log()\n",
    "metric.result.show()"
   ]
  },
  {
   "cell_type": "code",
   "execution_count": 43,
   "metadata": {},
   "outputs": [
    {
     "data": {
      "application/vnd.jupyter.widget-view+json": {
       "model_id": "28e241312f8643bb8b294720d77988f6",
       "version_major": 2,
       "version_minor": 0
      },
      "text/plain": [
       "VBox(children=(HTML(value='<p>A confusion matrix is a table that is used to describe the performance of a clas…"
      ]
     },
     "metadata": {},
     "output_type": "display_data"
    }
   ],
   "source": [
    "from validmind.tests.model_validation.statsmodels.LogRegressionConfusionMatrix import LogRegressionConfusionMatrix\n",
    "\n",
    "test_context_model = TestContext(model= vm_model_glm)\n",
    "\n",
    "# Configure test parameters\n",
    "params = {\n",
    "    \"cut_off_threshold\": 0.5,\n",
    "}\n",
    "\n",
    "metric = LogRegressionConfusionMatrix(test_context_model, params)\n",
    "metric.run()\n",
    "await metric.result.log()\n",
    "metric.result.show()"
   ]
  },
  {
   "cell_type": "code",
   "execution_count": 44,
   "metadata": {},
   "outputs": [
    {
     "data": {
      "application/vnd.jupyter.widget-view+json": {
       "model_id": "35b69186ca4f4f079b194c6c679e0099",
       "version_major": 2,
       "version_minor": 0
      },
      "text/plain": [
       "VBox(children=(HTML(value='<p>A receiver operating characteristic (ROC), or simply ROC curve, is a graphical p…"
      ]
     },
     "metadata": {},
     "output_type": "display_data"
    }
   ],
   "source": [
    "from validmind.tests.model_validation.statsmodels.RegressionROCCurve import RegressionROCCurve\n",
    "\n",
    "metric = RegressionROCCurve(test_context_model)\n",
    "metric.run()\n",
    "await metric.result.log()\n",
    "metric.result.show()"
   ]
  },
  {
   "cell_type": "code",
   "execution_count": 45,
   "metadata": {},
   "outputs": [
    {
     "data": {
      "application/vnd.jupyter.widget-view+json": {
       "model_id": "eae881697eeb488985ee8a0bd82ce0bd",
       "version_major": 2,
       "version_minor": 0
      },
      "text/plain": [
       "VBox(children=(HTML(value='<p>Compute and display the AUC, GINI, and KS for train and test sets.</p>'), HTML(v…"
      ]
     },
     "metadata": {},
     "output_type": "display_data"
    }
   ],
   "source": [
    "from validmind.tests.model_validation.statsmodels.GINITable import GINITable\n",
    "\n",
    "metric = GINITable(test_context_model)\n",
    "metric.run()\n",
    "await metric.result.log() \n",
    "metric.result.show()"
   ]
  },
  {
   "cell_type": "code",
   "execution_count": 46,
   "metadata": {},
   "outputs": [
    {
     "data": {
      "application/vnd.jupyter.widget-view+json": {
       "model_id": "f1983fa0e81b4281843910b9cd285e56",
       "version_major": 2,
       "version_minor": 0
      },
      "text/plain": [
       "VBox(children=(HTML(value='<p>This metric calculates the probability of default (PD) for each instance in the …"
      ]
     },
     "metadata": {},
     "output_type": "display_data"
    }
   ],
   "source": [
    "from validmind.tests.model_validation.statsmodels.LogisticRegPredictionHistogram import LogisticRegPredictionHistogram\n",
    "\n",
    "# Configure test parameters\n",
    "params = {\n",
    "    \"title\": \"Histogram of Probability of Default\",\n",
    "}\n",
    "\n",
    "metric = LogisticRegPredictionHistogram(test_context_model, params)\n",
    "metric.run()\n",
    "await metric.result.log()\n",
    "metric.result.show()"
   ]
  },
  {
   "cell_type": "code",
   "execution_count": 47,
   "metadata": {},
   "outputs": [
    {
     "data": {
      "application/vnd.jupyter.widget-view+json": {
       "model_id": "37fbfba9e1f54a678f40c5b2edd1453c",
       "version_major": 2,
       "version_minor": 0
      },
      "text/plain": [
       "VBox(children=(HTML(value='<p>This metric calculates the cumulative probabilities for each instance in the tra…"
      ]
     },
     "metadata": {},
     "output_type": "display_data"
    }
   ],
   "source": [
    "from validmind.tests.model_validation.statsmodels.LogisticRegCumulativeProb import LogisticRegCumulativeProb\n",
    "\n",
    "# Configure test parameters\n",
    "params = {\n",
    "    \"title\": \"Cumulative Probability of Default\",\n",
    "}\n",
    "\n",
    "metric = LogisticRegCumulativeProb(test_context_model, params)\n",
    "metric.run()\n",
    "await metric.result.log()\n",
    "metric.result.show()"
   ]
  },
  {
   "cell_type": "code",
   "execution_count": 48,
   "metadata": {},
   "outputs": [
    {
     "data": {
      "application/vnd.jupyter.widget-view+json": {
       "model_id": "3dbb53f45e864a2a89ebf19905c49983",
       "version_major": 2,
       "version_minor": 0
      },
      "text/plain": [
       "VBox(children=(HTML(value='<p>This metric calculates the credit score for each instance in the training and te…"
      ]
     },
     "metadata": {},
     "output_type": "display_data"
    }
   ],
   "source": [
    "from validmind.tests.model_validation.statsmodels.ScorecardHistogram import ScorecardHistogram\n",
    "\n",
    "# Configure test parameters\n",
    "params = {\n",
    "    \"target_score\": 600,\n",
    "    \"target_odds\": 50,\n",
    "    \"pdo\": 20,\n",
    "    \"title\": \"Histogram of Credit Scores\",\n",
    "}\n",
    "\n",
    "metric = ScorecardHistogram(test_context_model, params)\n",
    "metric.run()\n",
    "await metric.result.log()\n",
    "metric.result.show()"
   ]
  }
 ],
 "metadata": {
  "kernelspec": {
   "display_name": "dev-framework",
   "language": "python",
   "name": "dev-framework"
  },
  "language_info": {
   "codemirror_mode": {
    "name": "ipython",
    "version": 3
   },
   "file_extension": ".py",
   "mimetype": "text/x-python",
   "name": "python",
   "nbconvert_exporter": "python",
   "pygments_lexer": "ipython3",
   "version": "3.10.11"
  },
  "orig_nbformat": 4
 },
 "nbformat": 4,
 "nbformat_minor": 2
}
