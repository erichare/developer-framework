{
 "cells": [
  {
   "attachments": {},
   "cell_type": "markdown",
   "metadata": {},
   "source": [
    "# Probability of Default Data Validation "
   ]
  },
  {
   "attachments": {},
   "cell_type": "markdown",
   "metadata": {},
   "source": [
    "## 1. Introduction"
   ]
  },
  {
   "attachments": {},
   "cell_type": "markdown",
   "metadata": {},
   "source": [
    "TBC"
   ]
  },
  {
   "attachments": {},
   "cell_type": "markdown",
   "metadata": {},
   "source": [
    "## 2. Setup"
   ]
  },
  {
   "attachments": {},
   "cell_type": "markdown",
   "metadata": {},
   "source": [
    "### Import Libraries"
   ]
  },
  {
   "cell_type": "code",
   "execution_count": 14,
   "metadata": {},
   "outputs": [],
   "source": [
    "import pandas as pd\n",
    "import numpy as np\n",
    "import seaborn as sns\n",
    "import matplotlib.pyplot as plt\n",
    "from sklearn.model_selection import train_test_split, RepeatedStratifiedKFold, cross_val_score\n",
    "from sklearn.linear_model import LogisticRegression\n",
    "from sklearn.metrics import roc_curve, roc_auc_score, confusion_matrix, precision_recall_curve, auc\n",
    "from sklearn.feature_selection import f_classif\n",
    "from sklearn.pipeline import Pipeline\n",
    "from sklearn.base import BaseEstimator, TransformerMixin\n",
    "from scipy.stats import chi2_contingency\n",
    "%matplotlib inline"
   ]
  },
  {
   "attachments": {},
   "cell_type": "markdown",
   "metadata": {},
   "source": [
    "## 3. Data Collection"
   ]
  },
  {
   "cell_type": "code",
   "execution_count": 11,
   "metadata": {},
   "outputs": [],
   "source": [
    "import pandas as pd\n",
    "import gzip\n",
    "\n",
    "# Read the CSV file using pandas\n",
    "filepath = '/Users/juanvalidmind/Dev/github/validmind/validmind-python/notebooks/datasets/probability_of_default/loan_data_2007_2014.csv'\n",
    "df = pd.read_csv(filepath)\n",
    "\n",
    "# Compress the DataFrame and save it as a gzip file\n",
    "# df.to_csv('compressed_loan_data_2007_2014.csv.gz', compression='gzip', index=False)\n"
   ]
  },
  {
   "attachments": {},
   "cell_type": "markdown",
   "metadata": {},
   "source": [
    "## 4. Data Description"
   ]
  },
  {
   "cell_type": "code",
   "execution_count": 12,
   "metadata": {},
   "outputs": [
    {
     "name": "stdout",
     "output_type": "stream",
     "text": [
      "<class 'pandas.core.frame.DataFrame'>\n",
      "RangeIndex: 466285 entries, 0 to 466284\n",
      "Data columns (total 70 columns):\n",
      " #   Column                       Non-Null Count   Dtype  \n",
      "---  ------                       --------------   -----  \n",
      " 0   id                           466285 non-null  int64  \n",
      " 1   member_id                    466285 non-null  int64  \n",
      " 2   loan_amnt                    466285 non-null  int64  \n",
      " 3   funded_amnt                  466285 non-null  int64  \n",
      " 4   funded_amnt_inv              466285 non-null  float64\n",
      " 5   term                         466285 non-null  object \n",
      " 6   int_rate                     466285 non-null  float64\n",
      " 7   installment                  466285 non-null  float64\n",
      " 8   grade                        466285 non-null  object \n",
      " 9   sub_grade                    466285 non-null  object \n",
      " 10  emp_length                   445277 non-null  object \n",
      " 11  home_ownership               466285 non-null  object \n",
      " 12  annual_inc                   466281 non-null  float64\n",
      " 13  verification_status          466285 non-null  object \n",
      " 14  issue_d                      466285 non-null  object \n",
      " 15  loan_status                  466285 non-null  object \n",
      " 16  pymnt_plan                   466285 non-null  object \n",
      " 17  purpose                      466285 non-null  object \n",
      " 18  zip_code                     466285 non-null  object \n",
      " 19  addr_state                   466285 non-null  object \n",
      " 20  dti                          466285 non-null  float64\n",
      " 21  delinq_2yrs                  466256 non-null  float64\n",
      " 22  earliest_cr_line             466256 non-null  object \n",
      " 23  inq_last_6mths               466256 non-null  float64\n",
      " 24  mths_since_last_delinq       215934 non-null  float64\n",
      " 25  mths_since_last_record       62638 non-null   float64\n",
      " 26  open_acc                     466256 non-null  float64\n",
      " 27  pub_rec                      466256 non-null  float64\n",
      " 28  revol_bal                    466285 non-null  int64  \n",
      " 29  revol_util                   465945 non-null  float64\n",
      " 30  total_acc                    466256 non-null  float64\n",
      " 31  initial_list_status          466285 non-null  object \n",
      " 32  out_prncp                    466285 non-null  float64\n",
      " 33  out_prncp_inv                466285 non-null  float64\n",
      " 34  total_pymnt                  466285 non-null  float64\n",
      " 35  total_pymnt_inv              466285 non-null  float64\n",
      " 36  total_rec_prncp              466285 non-null  float64\n",
      " 37  total_rec_int                466285 non-null  float64\n",
      " 38  total_rec_late_fee           466285 non-null  float64\n",
      " 39  recoveries                   466285 non-null  float64\n",
      " 40  collection_recovery_fee      466285 non-null  float64\n",
      " 41  last_pymnt_d                 465909 non-null  object \n",
      " 42  last_pymnt_amnt              466285 non-null  float64\n",
      " 43  next_pymnt_d                 239071 non-null  object \n",
      " 44  last_credit_pull_d           466243 non-null  object \n",
      " 45  collections_12_mths_ex_med   466140 non-null  float64\n",
      " 46  mths_since_last_major_derog  98974 non-null   float64\n",
      " 47  policy_code                  466285 non-null  int64  \n",
      " 48  application_type             466285 non-null  object \n",
      " 49  annual_inc_joint             0 non-null       float64\n",
      " 50  dti_joint                    0 non-null       float64\n",
      " 51  verification_status_joint    0 non-null       float64\n",
      " 52  acc_now_delinq               466256 non-null  float64\n",
      " 53  tot_coll_amt                 396009 non-null  float64\n",
      " 54  tot_cur_bal                  396009 non-null  float64\n",
      " 55  open_acc_6m                  0 non-null       float64\n",
      " 56  open_il_6m                   0 non-null       float64\n",
      " 57  open_il_12m                  0 non-null       float64\n",
      " 58  open_il_24m                  0 non-null       float64\n",
      " 59  mths_since_rcnt_il           0 non-null       float64\n",
      " 60  total_bal_il                 0 non-null       float64\n",
      " 61  il_util                      0 non-null       float64\n",
      " 62  open_rv_12m                  0 non-null       float64\n",
      " 63  open_rv_24m                  0 non-null       float64\n",
      " 64  max_bal_bc                   0 non-null       float64\n",
      " 65  all_util                     0 non-null       float64\n",
      " 66  total_rev_hi_lim             396009 non-null  float64\n",
      " 67  inq_fi                       0 non-null       float64\n",
      " 68  total_cu_tl                  0 non-null       float64\n",
      " 69  inq_last_12m                 0 non-null       float64\n",
      "dtypes: float64(46), int64(6), object(18)\n",
      "memory usage: 249.0+ MB\n"
     ]
    }
   ],
   "source": [
    "df.info()"
   ]
  },
  {
   "attachments": {},
   "cell_type": "markdown",
   "metadata": {},
   "source": [
    "### 4.2.3. Data Preparation"
   ]
  },
  {
   "attachments": {},
   "cell_type": "markdown",
   "metadata": {},
   "source": [
    "#### Format Dates"
   ]
  },
  {
   "attachments": {},
   "cell_type": "markdown",
   "metadata": {},
   "source": [
    "For all columns with dates convert them to datetime format, create a new column as a difference between model development date and the respective date feature and then drop the original feature."
   ]
  },
  {
   "cell_type": "code",
   "execution_count": 15,
   "metadata": {},
   "outputs": [],
   "source": [
    "'''\n",
    "function to convert date columns to datetime format and\n",
    "create a new column as a difference between today and the respective date\n",
    "'''\n",
    "def date_columns(df, column):\n",
    "    # store current month\n",
    "    today_date = pd.to_datetime('2020-08-01')\n",
    "    # convert to datetime format\n",
    "    df[column] = pd.to_datetime(df[column], format = \"%b-%y\")\n",
    "    # calculate the difference in months and add to a new column\n",
    "    df['mths_since_' + column] = round(pd.to_numeric((today_date - df[column]) / \n",
    "\t\t\t\t\t\t\tnp.timedelta64(1, 'M')))\n",
    "    # make any resulting -ve values to be equal to the max date\n",
    "    df['mths_since_' + column] = df['mths_since_' + column].apply(\n",
    "\t\tlambda x: df['mths_since_' + column].max() if x < 0 else x)\n",
    "    # drop the original date column\n",
    "    df.drop(columns = [column], inplace = True)\n",
    "\n",
    "# function to remove 'months' string from the 'term' column and convert it to numeric\n",
    "def loan_term_converter(df, column):\n",
    "    df[column] = pd.to_numeric(df[column].str.replace(' months', ''))\n",
    "\n",
    "date_columns(df, 'earliest_cr_line')\n",
    "date_columns(df, 'issue_d')\n",
    "date_columns(df, 'last_pymnt_d')\n",
    "date_columns(df, 'last_credit_pull_d')"
   ]
  },
  {
   "attachments": {},
   "cell_type": "markdown",
   "metadata": {},
   "source": [
    "#### Format Variables"
   ]
  },
  {
   "attachments": {},
   "cell_type": "markdown",
   "metadata": {},
   "source": [
    "Remove text from the `emp_length` column (e.g., years) and convert it to numeric."
   ]
  },
  {
   "cell_type": "code",
   "execution_count": 7,
   "metadata": {},
   "outputs": [
    {
     "name": "stderr",
     "output_type": "stream",
     "text": [
      "/var/folders/tn/rbr74q892k13m82y37y396h40000gn/T/ipykernel_78524/1609628665.py:3: FutureWarning: The default value of regex will change from True to False in a future version.\n",
      "  df[column] = df[column].str.replace('\\+ years', '')\n"
     ]
    }
   ],
   "source": [
    "# function to clean up the emp_length column, assign 0 to NANs, and convert to numeric\n",
    "def emp_length_converter(df, column):\n",
    "    df[column] = df[column].str.replace('\\+ years', '')\n",
    "    df[column] = df[column].str.replace('< 1 year', str(0))\n",
    "    df[column] = df[column].str.replace(' years', '')\n",
    "    df[column] = df[column].str.replace(' year', '')\n",
    "    df[column] = pd.to_numeric(df[column])\n",
    "    df[column].fillna(value = 0, inplace = True)\n",
    "\n",
    "emp_length_converter(df, 'emp_length')"
   ]
  },
  {
   "attachments": {},
   "cell_type": "markdown",
   "metadata": {},
   "source": [
    "Remove text from the `term` column and convert it to numeric."
   ]
  },
  {
   "cell_type": "code",
   "execution_count": 16,
   "metadata": {},
   "outputs": [],
   "source": [
    "# function to remove 'months' string from the 'term' column and convert it to numeric\n",
    "def loan_term_converter(df, column):\n",
    "    df[column] = pd.to_numeric(df[column].str.replace(' months', ''))\n",
    "\n",
    "loan_term_converter(df, 'term')"
   ]
  },
  {
   "attachments": {},
   "cell_type": "markdown",
   "metadata": {},
   "source": [
    "#### Missing Values"
   ]
  },
  {
   "cell_type": "code",
   "execution_count": 17,
   "metadata": {},
   "outputs": [],
   "source": [
    "# drop columns with more than 80% null values\n",
    "df.dropna(thresh = df.shape[0]*0.2, axis = 1, inplace = True)\n"
   ]
  },
  {
   "cell_type": "code",
   "execution_count": 19,
   "metadata": {},
   "outputs": [
    {
     "name": "stdout",
     "output_type": "stream",
     "text": [
      "<class 'pandas.core.frame.DataFrame'>\n",
      "RangeIndex: 466285 entries, 0 to 466284\n",
      "Data columns (total 52 columns):\n",
      " #   Column                         Non-Null Count   Dtype  \n",
      "---  ------                         --------------   -----  \n",
      " 0   id                             466285 non-null  int64  \n",
      " 1   member_id                      466285 non-null  int64  \n",
      " 2   loan_amnt                      466285 non-null  int64  \n",
      " 3   funded_amnt                    466285 non-null  int64  \n",
      " 4   funded_amnt_inv                466285 non-null  float64\n",
      " 5   term                           466285 non-null  int64  \n",
      " 6   int_rate                       466285 non-null  float64\n",
      " 7   installment                    466285 non-null  float64\n",
      " 8   grade                          466285 non-null  object \n",
      " 9   sub_grade                      466285 non-null  object \n",
      " 10  emp_length                     445277 non-null  object \n",
      " 11  home_ownership                 466285 non-null  object \n",
      " 12  annual_inc                     466281 non-null  float64\n",
      " 13  verification_status            466285 non-null  object \n",
      " 14  loan_status                    466285 non-null  object \n",
      " 15  pymnt_plan                     466285 non-null  object \n",
      " 16  purpose                        466285 non-null  object \n",
      " 17  zip_code                       466285 non-null  object \n",
      " 18  addr_state                     466285 non-null  object \n",
      " 19  dti                            466285 non-null  float64\n",
      " 20  delinq_2yrs                    466256 non-null  float64\n",
      " 21  inq_last_6mths                 466256 non-null  float64\n",
      " 22  mths_since_last_delinq         215934 non-null  float64\n",
      " 23  open_acc                       466256 non-null  float64\n",
      " 24  pub_rec                        466256 non-null  float64\n",
      " 25  revol_bal                      466285 non-null  int64  \n",
      " 26  revol_util                     465945 non-null  float64\n",
      " 27  total_acc                      466256 non-null  float64\n",
      " 28  initial_list_status            466285 non-null  object \n",
      " 29  out_prncp                      466285 non-null  float64\n",
      " 30  out_prncp_inv                  466285 non-null  float64\n",
      " 31  total_pymnt                    466285 non-null  float64\n",
      " 32  total_pymnt_inv                466285 non-null  float64\n",
      " 33  total_rec_prncp                466285 non-null  float64\n",
      " 34  total_rec_int                  466285 non-null  float64\n",
      " 35  total_rec_late_fee             466285 non-null  float64\n",
      " 36  recoveries                     466285 non-null  float64\n",
      " 37  collection_recovery_fee        466285 non-null  float64\n",
      " 38  last_pymnt_amnt                466285 non-null  float64\n",
      " 39  next_pymnt_d                   239071 non-null  object \n",
      " 40  collections_12_mths_ex_med     466140 non-null  float64\n",
      " 41  mths_since_last_major_derog    98974 non-null   float64\n",
      " 42  policy_code                    466285 non-null  int64  \n",
      " 43  application_type               466285 non-null  object \n",
      " 44  acc_now_delinq                 466256 non-null  float64\n",
      " 45  tot_coll_amt                   396009 non-null  float64\n",
      " 46  tot_cur_bal                    396009 non-null  float64\n",
      " 47  total_rev_hi_lim               396009 non-null  float64\n",
      " 48  mths_since_earliest_cr_line    466256 non-null  float64\n",
      " 49  mths_since_issue_d             466285 non-null  float64\n",
      " 50  mths_since_last_pymnt_d        465909 non-null  float64\n",
      " 51  mths_since_last_credit_pull_d  466243 non-null  float64\n",
      "dtypes: float64(32), int64(7), object(13)\n",
      "memory usage: 185.0+ MB\n"
     ]
    }
   ],
   "source": [
    "df.info()"
   ]
  },
  {
   "attachments": {},
   "cell_type": "markdown",
   "metadata": {},
   "source": [
    "#### Target Variable"
   ]
  },
  {
   "attachments": {},
   "cell_type": "markdown",
   "metadata": {},
   "source": [
    "Definition of Bad."
   ]
  },
  {
   "attachments": {},
   "cell_type": "markdown",
   "metadata": {},
   "source": [
    "#### Outliers"
   ]
  },
  {
   "attachments": {},
   "cell_type": "markdown",
   "metadata": {},
   "source": [
    "*Methodology*\n",
    "\n",
    "*Model Framework*"
   ]
  },
  {
   "attachments": {},
   "cell_type": "markdown",
   "metadata": {},
   "source": [
    "## 4.5. Training Data"
   ]
  },
  {
   "attachments": {},
   "cell_type": "markdown",
   "metadata": {},
   "source": [
    "### 4.5.1. Sampling"
   ]
  },
  {
   "attachments": {},
   "cell_type": "markdown",
   "metadata": {},
   "source": [
    "Splitting our data before any feature engineering prevents any data leakage from the test set to the training set and results in more accurate model evaluation."
   ]
  },
  {
   "attachments": {},
   "cell_type": "markdown",
   "metadata": {},
   "source": [
    "#### Sampling Method"
   ]
  },
  {
   "attachments": {},
   "cell_type": "markdown",
   "metadata": {},
   "source": [
    "Split data into 80/20 while keeping the distribution of bad loans in test set same as that in the pre-split dataset."
   ]
  },
  {
   "cell_type": "code",
   "execution_count": 20,
   "metadata": {},
   "outputs": [],
   "source": [
    "X = loan_data.drop('good_bad', axis = 1)\n",
    "y = loan_data['good_bad']\n",
    "X_train, X_test, y_train, y_test = train_test_split(X, y, test_size = 0.2, \n",
    "                                                    random_state = 42, stratify = y)"
   ]
  },
  {
   "attachments": {},
   "cell_type": "markdown",
   "metadata": {},
   "source": [
    "## 4.6. Feature Engineering"
   ]
  },
  {
   "cell_type": "code",
   "execution_count": 59,
   "metadata": {},
   "outputs": [
    {
     "data": {
      "text/html": [
       "<div>\n",
       "<style scoped>\n",
       "    .dataframe tbody tr th:only-of-type {\n",
       "        vertical-align: middle;\n",
       "    }\n",
       "\n",
       "    .dataframe tbody tr th {\n",
       "        vertical-align: top;\n",
       "    }\n",
       "\n",
       "    .dataframe thead th {\n",
       "        text-align: right;\n",
       "    }\n",
       "</style>\n",
       "<table border=\"1\" class=\"dataframe\">\n",
       "  <thead>\n",
       "    <tr style=\"text-align: right;\">\n",
       "      <th></th>\n",
       "      <th>loan_amnt</th>\n",
       "      <th>funded_amnt</th>\n",
       "      <th>funded_amnt_inv</th>\n",
       "      <th>int_rate</th>\n",
       "      <th>installment</th>\n",
       "      <th>annual_inc</th>\n",
       "      <th>dti</th>\n",
       "      <th>inq_last_6mths</th>\n",
       "      <th>pub_rec</th>\n",
       "      <th>revol_bal</th>\n",
       "      <th>revol_util</th>\n",
       "      <th>total_acc</th>\n",
       "      <th>out_prncp</th>\n",
       "      <th>total_pymnt</th>\n",
       "      <th>total_rec_int</th>\n",
       "      <th>last_pymnt_amnt</th>\n",
       "      <th>tot_cur_bal</th>\n",
       "      <th>total_rev_hi_lim</th>\n",
       "    </tr>\n",
       "  </thead>\n",
       "  <tbody>\n",
       "    <tr>\n",
       "      <th>456615</th>\n",
       "      <td>15000</td>\n",
       "      <td>15000</td>\n",
       "      <td>15000.0</td>\n",
       "      <td>8.90</td>\n",
       "      <td>476.30</td>\n",
       "      <td>80000.0</td>\n",
       "      <td>17.01</td>\n",
       "      <td>0.0</td>\n",
       "      <td>0.0</td>\n",
       "      <td>20699</td>\n",
       "      <td>59.0</td>\n",
       "      <td>32.0</td>\n",
       "      <td>0.00</td>\n",
       "      <td>16561.02000</td>\n",
       "      <td>1561.02</td>\n",
       "      <td>8940.22</td>\n",
       "      <td>143586.0</td>\n",
       "      <td>35100.0</td>\n",
       "    </tr>\n",
       "    <tr>\n",
       "      <th>451541</th>\n",
       "      <td>8000</td>\n",
       "      <td>8000</td>\n",
       "      <td>8000.0</td>\n",
       "      <td>18.25</td>\n",
       "      <td>204.24</td>\n",
       "      <td>44000.0</td>\n",
       "      <td>23.46</td>\n",
       "      <td>1.0</td>\n",
       "      <td>0.0</td>\n",
       "      <td>13245</td>\n",
       "      <td>32.1</td>\n",
       "      <td>25.0</td>\n",
       "      <td>5746.54</td>\n",
       "      <td>4697.52000</td>\n",
       "      <td>2444.06</td>\n",
       "      <td>204.24</td>\n",
       "      <td>180443.0</td>\n",
       "      <td>41300.0</td>\n",
       "    </tr>\n",
       "    <tr>\n",
       "      <th>394474</th>\n",
       "      <td>12150</td>\n",
       "      <td>12150</td>\n",
       "      <td>12100.0</td>\n",
       "      <td>18.92</td>\n",
       "      <td>314.65</td>\n",
       "      <td>27000.0</td>\n",
       "      <td>31.07</td>\n",
       "      <td>0.0</td>\n",
       "      <td>0.0</td>\n",
       "      <td>7172</td>\n",
       "      <td>73.2</td>\n",
       "      <td>22.0</td>\n",
       "      <td>9282.24</td>\n",
       "      <td>6293.00000</td>\n",
       "      <td>3425.24</td>\n",
       "      <td>314.65</td>\n",
       "      <td>34197.0</td>\n",
       "      <td>9800.0</td>\n",
       "    </tr>\n",
       "    <tr>\n",
       "      <th>110294</th>\n",
       "      <td>10000</td>\n",
       "      <td>10000</td>\n",
       "      <td>10000.0</td>\n",
       "      <td>6.03</td>\n",
       "      <td>304.36</td>\n",
       "      <td>33000.0</td>\n",
       "      <td>9.16</td>\n",
       "      <td>0.0</td>\n",
       "      <td>0.0</td>\n",
       "      <td>2138</td>\n",
       "      <td>21.2</td>\n",
       "      <td>17.0</td>\n",
       "      <td>0.00</td>\n",
       "      <td>10858.01000</td>\n",
       "      <td>858.01</td>\n",
       "      <td>3553.37</td>\n",
       "      <td>77959.0</td>\n",
       "      <td>10100.0</td>\n",
       "    </tr>\n",
       "    <tr>\n",
       "      <th>139343</th>\n",
       "      <td>15825</td>\n",
       "      <td>15825</td>\n",
       "      <td>15825.0</td>\n",
       "      <td>12.12</td>\n",
       "      <td>526.53</td>\n",
       "      <td>59000.0</td>\n",
       "      <td>17.94</td>\n",
       "      <td>0.0</td>\n",
       "      <td>0.0</td>\n",
       "      <td>30326</td>\n",
       "      <td>93.6</td>\n",
       "      <td>31.0</td>\n",
       "      <td>0.00</td>\n",
       "      <td>4736.52000</td>\n",
       "      <td>1301.35</td>\n",
       "      <td>526.53</td>\n",
       "      <td>187370.0</td>\n",
       "      <td>32400.0</td>\n",
       "    </tr>\n",
       "    <tr>\n",
       "      <th>...</th>\n",
       "      <td>...</td>\n",
       "      <td>...</td>\n",
       "      <td>...</td>\n",
       "      <td>...</td>\n",
       "      <td>...</td>\n",
       "      <td>...</td>\n",
       "      <td>...</td>\n",
       "      <td>...</td>\n",
       "      <td>...</td>\n",
       "      <td>...</td>\n",
       "      <td>...</td>\n",
       "      <td>...</td>\n",
       "      <td>...</td>\n",
       "      <td>...</td>\n",
       "      <td>...</td>\n",
       "      <td>...</td>\n",
       "      <td>...</td>\n",
       "      <td>...</td>\n",
       "    </tr>\n",
       "    <tr>\n",
       "      <th>163633</th>\n",
       "      <td>22800</td>\n",
       "      <td>22800</td>\n",
       "      <td>22800.0</td>\n",
       "      <td>16.29</td>\n",
       "      <td>557.98</td>\n",
       "      <td>85000.0</td>\n",
       "      <td>15.12</td>\n",
       "      <td>0.0</td>\n",
       "      <td>0.0</td>\n",
       "      <td>18556</td>\n",
       "      <td>67.5</td>\n",
       "      <td>22.0</td>\n",
       "      <td>12158.37</td>\n",
       "      <td>18968.20000</td>\n",
       "      <td>8326.57</td>\n",
       "      <td>557.98</td>\n",
       "      <td>29071.0</td>\n",
       "      <td>27500.0</td>\n",
       "    </tr>\n",
       "    <tr>\n",
       "      <th>399306</th>\n",
       "      <td>20275</td>\n",
       "      <td>20275</td>\n",
       "      <td>20175.0</td>\n",
       "      <td>12.49</td>\n",
       "      <td>678.18</td>\n",
       "      <td>48000.0</td>\n",
       "      <td>22.70</td>\n",
       "      <td>0.0</td>\n",
       "      <td>0.0</td>\n",
       "      <td>33997</td>\n",
       "      <td>75.0</td>\n",
       "      <td>20.0</td>\n",
       "      <td>9947.82</td>\n",
       "      <td>13563.60000</td>\n",
       "      <td>3236.42</td>\n",
       "      <td>678.18</td>\n",
       "      <td>186530.0</td>\n",
       "      <td>45300.0</td>\n",
       "    </tr>\n",
       "    <tr>\n",
       "      <th>57787</th>\n",
       "      <td>25000</td>\n",
       "      <td>25000</td>\n",
       "      <td>24975.0</td>\n",
       "      <td>14.30</td>\n",
       "      <td>585.61</td>\n",
       "      <td>65530.0</td>\n",
       "      <td>22.91</td>\n",
       "      <td>0.0</td>\n",
       "      <td>0.0</td>\n",
       "      <td>11848</td>\n",
       "      <td>68.1</td>\n",
       "      <td>24.0</td>\n",
       "      <td>0.00</td>\n",
       "      <td>30285.29598</td>\n",
       "      <td>5285.30</td>\n",
       "      <td>19162.85</td>\n",
       "      <td>290599.0</td>\n",
       "      <td>17400.0</td>\n",
       "    </tr>\n",
       "    <tr>\n",
       "      <th>81641</th>\n",
       "      <td>10000</td>\n",
       "      <td>10000</td>\n",
       "      <td>10000.0</td>\n",
       "      <td>15.10</td>\n",
       "      <td>347.15</td>\n",
       "      <td>50000.0</td>\n",
       "      <td>14.24</td>\n",
       "      <td>1.0</td>\n",
       "      <td>0.0</td>\n",
       "      <td>9693</td>\n",
       "      <td>65.1</td>\n",
       "      <td>9.0</td>\n",
       "      <td>2936.24</td>\n",
       "      <td>9373.05000</td>\n",
       "      <td>2309.29</td>\n",
       "      <td>347.15</td>\n",
       "      <td>27715.0</td>\n",
       "      <td>14900.0</td>\n",
       "    </tr>\n",
       "    <tr>\n",
       "      <th>38736</th>\n",
       "      <td>7500</td>\n",
       "      <td>7500</td>\n",
       "      <td>0.0</td>\n",
       "      <td>10.08</td>\n",
       "      <td>242.29</td>\n",
       "      <td>50000.0</td>\n",
       "      <td>2.93</td>\n",
       "      <td>3.0</td>\n",
       "      <td>0.0</td>\n",
       "      <td>8453</td>\n",
       "      <td>77.6</td>\n",
       "      <td>17.0</td>\n",
       "      <td>0.00</td>\n",
       "      <td>4848.62000</td>\n",
       "      <td>999.22</td>\n",
       "      <td>200.02</td>\n",
       "      <td>NaN</td>\n",
       "      <td>NaN</td>\n",
       "    </tr>\n",
       "  </tbody>\n",
       "</table>\n",
       "<p>373028 rows × 18 columns</p>\n",
       "</div>"
      ],
      "text/plain": [
       "        loan_amnt  funded_amnt  funded_amnt_inv  int_rate  installment  \\\n",
       "456615      15000        15000          15000.0      8.90       476.30   \n",
       "451541       8000         8000           8000.0     18.25       204.24   \n",
       "394474      12150        12150          12100.0     18.92       314.65   \n",
       "110294      10000        10000          10000.0      6.03       304.36   \n",
       "139343      15825        15825          15825.0     12.12       526.53   \n",
       "...           ...          ...              ...       ...          ...   \n",
       "163633      22800        22800          22800.0     16.29       557.98   \n",
       "399306      20275        20275          20175.0     12.49       678.18   \n",
       "57787       25000        25000          24975.0     14.30       585.61   \n",
       "81641       10000        10000          10000.0     15.10       347.15   \n",
       "38736        7500         7500              0.0     10.08       242.29   \n",
       "\n",
       "        annual_inc    dti  inq_last_6mths  pub_rec  revol_bal  revol_util  \\\n",
       "456615     80000.0  17.01             0.0      0.0      20699        59.0   \n",
       "451541     44000.0  23.46             1.0      0.0      13245        32.1   \n",
       "394474     27000.0  31.07             0.0      0.0       7172        73.2   \n",
       "110294     33000.0   9.16             0.0      0.0       2138        21.2   \n",
       "139343     59000.0  17.94             0.0      0.0      30326        93.6   \n",
       "...            ...    ...             ...      ...        ...         ...   \n",
       "163633     85000.0  15.12             0.0      0.0      18556        67.5   \n",
       "399306     48000.0  22.70             0.0      0.0      33997        75.0   \n",
       "57787      65530.0  22.91             0.0      0.0      11848        68.1   \n",
       "81641      50000.0  14.24             1.0      0.0       9693        65.1   \n",
       "38736      50000.0   2.93             3.0      0.0       8453        77.6   \n",
       "\n",
       "        total_acc  out_prncp  total_pymnt  total_rec_int  last_pymnt_amnt  \\\n",
       "456615       32.0       0.00  16561.02000        1561.02          8940.22   \n",
       "451541       25.0    5746.54   4697.52000        2444.06           204.24   \n",
       "394474       22.0    9282.24   6293.00000        3425.24           314.65   \n",
       "110294       17.0       0.00  10858.01000         858.01          3553.37   \n",
       "139343       31.0       0.00   4736.52000        1301.35           526.53   \n",
       "...           ...        ...          ...            ...              ...   \n",
       "163633       22.0   12158.37  18968.20000        8326.57           557.98   \n",
       "399306       20.0    9947.82  13563.60000        3236.42           678.18   \n",
       "57787        24.0       0.00  30285.29598        5285.30         19162.85   \n",
       "81641         9.0    2936.24   9373.05000        2309.29           347.15   \n",
       "38736        17.0       0.00   4848.62000         999.22           200.02   \n",
       "\n",
       "        tot_cur_bal  total_rev_hi_lim  \n",
       "456615     143586.0           35100.0  \n",
       "451541     180443.0           41300.0  \n",
       "394474      34197.0            9800.0  \n",
       "110294      77959.0           10100.0  \n",
       "139343     187370.0           32400.0  \n",
       "...             ...               ...  \n",
       "163633      29071.0           27500.0  \n",
       "399306     186530.0           45300.0  \n",
       "57787      290599.0           17400.0  \n",
       "81641       27715.0           14900.0  \n",
       "38736           NaN               NaN  \n",
       "\n",
       "[373028 rows x 18 columns]"
      ]
     },
     "execution_count": 59,
     "metadata": {},
     "output_type": "execute_result"
    }
   ],
   "source": [
    "# first divide training data into categorical and numerical subsets\n",
    "X_train_cat = X_train.select_dtypes(include = 'object').copy()\n",
    "X_train_num = X_train.select_dtypes(include = 'number').copy()\n"
   ]
  },
  {
   "attachments": {},
   "cell_type": "markdown",
   "metadata": {},
   "source": [
    "### 4.5.1. Missing Values"
   ]
  },
  {
   "cell_type": "code",
   "execution_count": 51,
   "metadata": {},
   "outputs": [],
   "source": [
    "# since f_class_if does not accept missing values, we will do a very crude imputation of missing values\n",
    "X_train_num.fillna(X_train_num.mean(), inplace = True)"
   ]
  },
  {
   "attachments": {},
   "cell_type": "markdown",
   "metadata": {},
   "source": [
    "### 4.5.2. Feature Selection"
   ]
  },
  {
   "attachments": {},
   "cell_type": "markdown",
   "metadata": {},
   "source": [
    "We will perform feature selection to identify the most suitable features for our binary classification problem using the Chi-squared test for categorical features and ANOVA F-statistic for numerical features."
   ]
  },
  {
   "cell_type": "code",
   "execution_count": 58,
   "metadata": {},
   "outputs": [
    {
     "data": {
      "text/plain": [
       "[]"
      ]
     },
     "execution_count": 58,
     "metadata": {},
     "output_type": "execute_result"
    },
    {
     "data": {
      "image/png": "[encoded data removed]",
      "text/plain": [
       "<Figure size 1000x1000 with 2 Axes>"
      ]
     },
     "metadata": {},
     "output_type": "display_data"
    }
   ],
   "source": [
    "# define an empty dictionary to store chi-squared test results\n",
    "chi2_check = {}\n",
    "\n",
    "# loop over each column in the training set to calculate chi-statistic with the target variable\n",
    "for column in X_train_cat:\n",
    "    chi, p, dof, ex = chi2_contingency(pd.crosstab(y_train, X_train_cat[column]))\n",
    "    chi2_check.setdefault('Feature',[]).append(column)\n",
    "    chi2_check.setdefault('p-value',[]).append(round(p, 10))\n",
    "\n",
    "# convert the dictionary to a DF\n",
    "chi2_result = pd.DataFrame(data = chi2_check)\n",
    "chi2_result.sort_values(by = ['p-value'], ascending = True, ignore_index = True, inplace = True)\n",
    "\n",
    "# Calculate F Statistic and corresponding p values\n",
    "F_statistic, p_values = f_classif(X_train_num, y_train)\n",
    "\n",
    "# convert to a DF\n",
    "ANOVA_F_table = pd.DataFrame(data = {'Numerical_Feature': X_train_num.columns.values,\n",
    "\t\t\t\t\t'F-Score': F_statistic, 'p values': p_values.round(decimals=10)})\n",
    "ANOVA_F_table.sort_values(by = ['F-Score'], ascending = False, ignore_index = True, inplace = True)\n",
    "\n",
    "# save the top 20 numerical features in a list\n",
    "top_num_features = ANOVA_F_table.iloc[:20,0].to_list()\n",
    "\n",
    "# calculate pair-wise correlations between them\n",
    "corrmat = X_train_num[top_num_features].corr()\n",
    "plt.figure(figsize=(10,10))\n",
    "sns.heatmap(corrmat)\n",
    "\n",
    "# save the names of columns to be dropped in a list\n",
    "drop_columns_list = ANOVA_F_table.iloc[20:, 0].to_list()\n",
    "drop_columns_list.extend(chi2_result.iloc[4:, 0].to_list())\n",
    "drop_columns_list\n"
   ]
  },
  {
   "cell_type": "code",
   "execution_count": null,
   "metadata": {},
   "outputs": [],
   "source": [
    "# function to drop these columns\n",
    "def col_to_drop(df, columns_list):\n",
    "    df.drop(columns = columns_list, inplace = True)\n",
    "\n",
    "# apply to X_train\n",
    "col_to_drop(X_train, drop_columns_list)"
   ]
  },
  {
   "attachments": {},
   "cell_type": "markdown",
   "metadata": {},
   "source": [
    "### 4.5.3. Encoding of Categorical Variables"
   ]
  },
  {
   "cell_type": "code",
   "execution_count": 56,
   "metadata": {},
   "outputs": [
    {
     "name": "stdout",
     "output_type": "stream",
     "text": [
      "<class 'pandas.core.frame.DataFrame'>\n",
      "Int64Index: 373028 entries, 456615 to 38736\n",
      "Data columns (total 22 columns):\n",
      " #   Column            Non-Null Count   Dtype  \n",
      "---  ------            --------------   -----  \n",
      " 0   loan_amnt         373028 non-null  int64  \n",
      " 1   funded_amnt       373028 non-null  int64  \n",
      " 2   funded_amnt_inv   373028 non-null  float64\n",
      " 3   term              373028 non-null  object \n",
      " 4   int_rate          373028 non-null  float64\n",
      " 5   installment       373028 non-null  float64\n",
      " 6   grade             373028 non-null  object \n",
      " 7   emp_length        356235 non-null  object \n",
      " 8   home_ownership    373028 non-null  object \n",
      " 9   annual_inc        373024 non-null  float64\n",
      " 10  dti               373028 non-null  float64\n",
      " 11  inq_last_6mths    373003 non-null  float64\n",
      " 12  pub_rec           373003 non-null  float64\n",
      " 13  revol_bal         373028 non-null  int64  \n",
      " 14  revol_util        372764 non-null  float64\n",
      " 15  total_acc         373003 non-null  float64\n",
      " 16  out_prncp         373028 non-null  float64\n",
      " 17  total_pymnt       373028 non-null  float64\n",
      " 18  total_rec_int     373028 non-null  float64\n",
      " 19  last_pymnt_amnt   373028 non-null  float64\n",
      " 20  tot_cur_bal       316872 non-null  float64\n",
      " 21  total_rev_hi_lim  316872 non-null  float64\n",
      "dtypes: float64(15), int64(3), object(4)\n",
      "memory usage: 65.5+ MB\n"
     ]
    }
   ],
   "source": [
    "# function to create dummy variables\n",
    "def dummy_creation(df, columns_list):\n",
    "    df_dummies = []\n",
    "    for col in columns_list:\n",
    "        df_dummies.append(pd.get_dummies(df[col], prefix = col, prefix_sep = ':'))\n",
    "    df_dummies = pd.concat(df_dummies, axis = 1)\n",
    "    df = pd.concat([df, df_dummies], axis = 1)\n",
    "    return df\n",
    "\n",
    "# apply to our final four categorical variables\n",
    "X_train.info()\n",
    "# X_train = dummy_creation(X_train, ['grade', 'home_ownership', 'verification_status', 'purpose'])\n"
   ]
  },
  {
   "attachments": {},
   "cell_type": "markdown",
   "metadata": {},
   "source": [
    "## 4.6. Model Selection"
   ]
  },
  {
   "attachments": {},
   "cell_type": "markdown",
   "metadata": {},
   "source": [
    "### 4.6.1. Model Selection Criteria"
   ]
  },
  {
   "attachments": {},
   "cell_type": "markdown",
   "metadata": {},
   "source": [
    "### 4.6.2. Model Analysis"
   ]
  },
  {
   "attachments": {},
   "cell_type": "markdown",
   "metadata": {},
   "source": [
    "## 4.7. Model Testing"
   ]
  },
  {
   "attachments": {},
   "cell_type": "markdown",
   "metadata": {},
   "source": [
    "TBC"
   ]
  },
  {
   "attachments": {},
   "cell_type": "markdown",
   "metadata": {},
   "source": [
    "## 4.8. Model Adjustments"
   ]
  },
  {
   "attachments": {},
   "cell_type": "markdown",
   "metadata": {},
   "source": [
    "TBC"
   ]
  },
  {
   "attachments": {},
   "cell_type": "markdown",
   "metadata": {},
   "source": [
    "# 5. Model Implementation"
   ]
  },
  {
   "attachments": {},
   "cell_type": "markdown",
   "metadata": {},
   "source": [
    "- Packages and dependencies\n",
    "- Setup of model development\n",
    "- Deployment to production infrastructure \n",
    "- Model execution and reporting "
   ]
  },
  {
   "attachments": {},
   "cell_type": "markdown",
   "metadata": {},
   "source": [
    "# 6. Model Use"
   ]
  },
  {
   "attachments": {},
   "cell_type": "markdown",
   "metadata": {},
   "source": [
    "TBC"
   ]
  },
  {
   "attachments": {},
   "cell_type": "markdown",
   "metadata": {},
   "source": [
    "# 7. Ongoing Monitoring"
   ]
  },
  {
   "attachments": {},
   "cell_type": "markdown",
   "metadata": {},
   "source": [
    "TBC"
   ]
  },
  {
   "attachments": {},
   "cell_type": "markdown",
   "metadata": {},
   "source": [
    "# 8. Model Governance"
   ]
  },
  {
   "attachments": {},
   "cell_type": "markdown",
   "metadata": {},
   "source": [
    "TBC"
   ]
  },
  {
   "attachments": {},
   "cell_type": "markdown",
   "metadata": {},
   "source": [
    "##"
   ]
  }
 ],
 "metadata": {
  "kernelspec": {
   "display_name": "Python 3",
   "language": "python",
   "name": "python3"
  },
  "language_info": {
   "codemirror_mode": {
    "name": "ipython",
    "version": 3
   },
   "file_extension": ".py",
   "mimetype": "text/x-python",
   "name": "python",
   "nbconvert_exporter": "python",
   "pygments_lexer": "ipython3",
   "version": "3.10.9"
  },
  "orig_nbformat": 4,
  "vscode": {
   "interpreter": {
    "hash": "5d4979ee764d0ba63be90c81062c91aadd08b842dfc00f4126183b4d88468334"
   }
  }
 },
 "nbformat": 4,
 "nbformat_minor": 2
}
