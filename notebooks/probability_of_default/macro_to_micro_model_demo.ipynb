{
 "cells": [
  {
   "attachments": {},
   "cell_type": "markdown",
   "metadata": {},
   "source": [
    "# Macro to Micro Model Demo"
   ]
  },
  {
   "attachments": {},
   "cell_type": "markdown",
   "metadata": {},
   "source": [
    "## Introduction"
   ]
  },
  {
   "attachments": {},
   "cell_type": "markdown",
   "metadata": {},
   "source": [
    "#### Connect to ValidMind Project"
   ]
  },
  {
   "cell_type": "code",
   "execution_count": 1,
   "metadata": {},
   "outputs": [],
   "source": [
    "# Load API key and secret from environment variables\n",
    "%load_ext dotenv\n",
    "%dotenv .env\n",
    "\n",
    "import pandas as pd\n",
    "\n",
    "%matplotlib inline"
   ]
  },
  {
   "attachments": {},
   "cell_type": "markdown",
   "metadata": {},
   "source": [
    "**Connect to ValidMind Project**"
   ]
  },
  {
   "cell_type": "code",
   "execution_count": 3,
   "metadata": {},
   "outputs": [
    {
     "name": "stderr",
     "output_type": "stream",
     "text": [
      "2023-07-14 18:08:33,500 - INFO(validmind.api_client): Connected to ValidMind. Project: Macro-to-Micro Model - Initial Validation (clk2jf1yy0005o5y6u8a30v6l)\n"
     ]
    }
   ],
   "source": [
    "\n",
    "import validmind as vm\n",
    "\n",
    "vm.init(\n",
    "  api_host = \"http://localhost:3000/api/v1/tracking\",\n",
    "  api_key = \"2494c3838f48efe590d531bfe225d90b\",\n",
    "  api_secret = \"4f692f8161f128414fef542cab2a4e74834c75d01b3a8e088a1834f2afcfe838\",\n",
    "  project = \"clk2jf1yy0005o5y6u8a30v6l\"\n",
    ")"
   ]
  },
  {
   "attachments": {},
   "cell_type": "markdown",
   "metadata": {},
   "source": [
    "**Check Available Tests**"
   ]
  },
  {
   "cell_type": "code",
   "execution_count": 4,
   "metadata": {},
   "outputs": [
    {
     "data": {
      "text/html": [
       "<style type=\"text/css\">\n",
       "#T_99803 th {\n",
       "  text-align: left;\n",
       "}\n",
       "#T_99803_row0_col0, #T_99803_row0_col1, #T_99803_row0_col2, #T_99803_row0_col3, #T_99803_row0_col4 {\n",
       "  text-align: left;\n",
       "}\n",
       "</style>\n",
       "<table id=\"T_99803\">\n",
       "  <thead>\n",
       "    <tr>\n",
       "      <th id=\"T_99803_level0_col0\" class=\"col_heading level0 col0\" >ID</th>\n",
       "      <th id=\"T_99803_level0_col1\" class=\"col_heading level0 col1\" >Name</th>\n",
       "      <th id=\"T_99803_level0_col2\" class=\"col_heading level0 col2\" >Description</th>\n",
       "      <th id=\"T_99803_level0_col3\" class=\"col_heading level0 col3\" >Required Context</th>\n",
       "      <th id=\"T_99803_level0_col4\" class=\"col_heading level0 col4\" >Tests</th>\n",
       "    </tr>\n",
       "  </thead>\n",
       "  <tbody>\n",
       "    <tr>\n",
       "      <td id=\"T_99803_row0_col0\" class=\"data row0 col0\" >time_series_data_quality</td>\n",
       "      <td id=\"T_99803_row0_col1\" class=\"data row0 col1\" >TimeSeriesDataQuality</td>\n",
       "      <td id=\"T_99803_row0_col2\" class=\"data row0 col2\" >Test plan for data quality on time series datasets</td>\n",
       "      <td id=\"T_99803_row0_col3\" class=\"data row0 col3\" >['dataset']</td>\n",
       "      <td id=\"T_99803_row0_col4\" class=\"data row0 col4\" >TimeSeriesOutliers (ThresholdTest)<br>TimeSeriesMissingValues (ThresholdTest)<br>TimeSeriesFrequency (ThresholdTest)</td>\n",
       "    </tr>\n",
       "  </tbody>\n",
       "</table>\n"
      ],
      "text/plain": [
       "<pandas.io.formats.style.Styler at 0x1068ceb30>"
      ]
     },
     "execution_count": 4,
     "metadata": {},
     "output_type": "execute_result"
    }
   ],
   "source": [
    "vm.test_plans.describe_plan(\"time_series_data_quality\")"
   ]
  },
  {
   "attachments": {},
   "cell_type": "markdown",
   "metadata": {},
   "source": [
    "## Data Description"
   ]
  },
  {
   "attachments": {},
   "cell_type": "markdown",
   "metadata": {},
   "source": [
    "#### Import Dataset"
   ]
  },
  {
   "cell_type": "code",
   "execution_count": 5,
   "metadata": {},
   "outputs": [
    {
     "data": {
      "text/html": [
       "<div>\n",
       "<style scoped>\n",
       "    .dataframe tbody tr th:only-of-type {\n",
       "        vertical-align: middle;\n",
       "    }\n",
       "\n",
       "    .dataframe tbody tr th {\n",
       "        vertical-align: top;\n",
       "    }\n",
       "\n",
       "    .dataframe thead th {\n",
       "        text-align: right;\n",
       "    }\n",
       "</style>\n",
       "<table border=\"1\" class=\"dataframe\">\n",
       "  <thead>\n",
       "    <tr style=\"text-align: right;\">\n",
       "      <th></th>\n",
       "      <th>DRSFRMACBS</th>\n",
       "      <th>GDPC1</th>\n",
       "      <th>CSUSHPISA</th>\n",
       "      <th>UNRATE</th>\n",
       "      <th>CPIAUCSL</th>\n",
       "      <th>FEDFUNDS</th>\n",
       "    </tr>\n",
       "    <tr>\n",
       "      <th>DATE</th>\n",
       "      <th></th>\n",
       "      <th></th>\n",
       "      <th></th>\n",
       "      <th></th>\n",
       "      <th></th>\n",
       "      <th></th>\n",
       "    </tr>\n",
       "  </thead>\n",
       "  <tbody>\n",
       "    <tr>\n",
       "      <th>2023-03-02</th>\n",
       "      <td>NaN</td>\n",
       "      <td>NaN</td>\n",
       "      <td>NaN</td>\n",
       "      <td>NaN</td>\n",
       "      <td>NaN</td>\n",
       "      <td>NaN</td>\n",
       "    </tr>\n",
       "    <tr>\n",
       "      <th>2023-03-09</th>\n",
       "      <td>NaN</td>\n",
       "      <td>NaN</td>\n",
       "      <td>NaN</td>\n",
       "      <td>NaN</td>\n",
       "      <td>NaN</td>\n",
       "      <td>NaN</td>\n",
       "    </tr>\n",
       "    <tr>\n",
       "      <th>2023-03-16</th>\n",
       "      <td>NaN</td>\n",
       "      <td>NaN</td>\n",
       "      <td>NaN</td>\n",
       "      <td>NaN</td>\n",
       "      <td>NaN</td>\n",
       "      <td>NaN</td>\n",
       "    </tr>\n",
       "    <tr>\n",
       "      <th>2023-03-23</th>\n",
       "      <td>NaN</td>\n",
       "      <td>NaN</td>\n",
       "      <td>NaN</td>\n",
       "      <td>NaN</td>\n",
       "      <td>NaN</td>\n",
       "      <td>NaN</td>\n",
       "    </tr>\n",
       "    <tr>\n",
       "      <th>2023-03-30</th>\n",
       "      <td>NaN</td>\n",
       "      <td>NaN</td>\n",
       "      <td>NaN</td>\n",
       "      <td>NaN</td>\n",
       "      <td>NaN</td>\n",
       "      <td>NaN</td>\n",
       "    </tr>\n",
       "    <tr>\n",
       "      <th>2023-04-01</th>\n",
       "      <td>NaN</td>\n",
       "      <td>NaN</td>\n",
       "      <td>299.715</td>\n",
       "      <td>NaN</td>\n",
       "      <td>NaN</td>\n",
       "      <td>NaN</td>\n",
       "    </tr>\n",
       "    <tr>\n",
       "      <th>2023-04-06</th>\n",
       "      <td>NaN</td>\n",
       "      <td>NaN</td>\n",
       "      <td>NaN</td>\n",
       "      <td>NaN</td>\n",
       "      <td>NaN</td>\n",
       "      <td>NaN</td>\n",
       "    </tr>\n",
       "    <tr>\n",
       "      <th>2023-04-13</th>\n",
       "      <td>NaN</td>\n",
       "      <td>NaN</td>\n",
       "      <td>NaN</td>\n",
       "      <td>NaN</td>\n",
       "      <td>NaN</td>\n",
       "      <td>NaN</td>\n",
       "    </tr>\n",
       "    <tr>\n",
       "      <th>2023-04-20</th>\n",
       "      <td>NaN</td>\n",
       "      <td>NaN</td>\n",
       "      <td>NaN</td>\n",
       "      <td>NaN</td>\n",
       "      <td>NaN</td>\n",
       "      <td>NaN</td>\n",
       "    </tr>\n",
       "    <tr>\n",
       "      <th>2023-04-27</th>\n",
       "      <td>NaN</td>\n",
       "      <td>NaN</td>\n",
       "      <td>NaN</td>\n",
       "      <td>NaN</td>\n",
       "      <td>NaN</td>\n",
       "      <td>NaN</td>\n",
       "    </tr>\n",
       "  </tbody>\n",
       "</table>\n",
       "</div>"
      ],
      "text/plain": [
       "            DRSFRMACBS  GDPC1  CSUSHPISA  UNRATE  CPIAUCSL  FEDFUNDS\n",
       "DATE                                                                \n",
       "2023-03-02         NaN    NaN        NaN     NaN       NaN       NaN\n",
       "2023-03-09         NaN    NaN        NaN     NaN       NaN       NaN\n",
       "2023-03-16         NaN    NaN        NaN     NaN       NaN       NaN\n",
       "2023-03-23         NaN    NaN        NaN     NaN       NaN       NaN\n",
       "2023-03-30         NaN    NaN        NaN     NaN       NaN       NaN\n",
       "2023-04-01         NaN    NaN    299.715     NaN       NaN       NaN\n",
       "2023-04-06         NaN    NaN        NaN     NaN       NaN       NaN\n",
       "2023-04-13         NaN    NaN        NaN     NaN       NaN       NaN\n",
       "2023-04-20         NaN    NaN        NaN     NaN       NaN       NaN\n",
       "2023-04-27         NaN    NaN        NaN     NaN       NaN       NaN"
      ]
     },
     "execution_count": 5,
     "metadata": {},
     "output_type": "execute_result"
    }
   ],
   "source": [
    "from validmind.datasets.regression import fred as fred\n",
    "\n",
    "# Define target and feature columns\n",
    "target_column = 'DRSFRMACBS'\n",
    "feature_columns = ['GDPC1', 'CSUSHPISA', 'UNRATE', 'CPIAUCSL', 'FEDFUNDS']\n",
    "\n",
    "# Load FRED data\n",
    "df = fred.load_all_data()\n",
    "\n",
    "# Select columns for analysis\n",
    "df = df[[target_column] + feature_columns]\n",
    "\n",
    "df.tail(10)"
   ]
  },
  {
   "attachments": {},
   "cell_type": "markdown",
   "metadata": {},
   "source": [
    "#### Missing Values"
   ]
  },
  {
   "cell_type": "code",
   "execution_count": 6,
   "metadata": {},
   "outputs": [
    {
     "name": "stderr",
     "output_type": "stream",
     "text": [
      "2023-07-14 18:08:42,142 - INFO(validmind.client): Pandas dataset detected. Initializing VM Dataset instance...\n",
      "2023-07-14 18:08:42,144 - INFO(validmind.vm_models.dataset): Inferring dataset types...\n",
      "2023-07-14 18:08:42,413 - ERROR(validmind.api_client): Error logging test results to ValidMind API\n"
     ]
    },
    {
     "ename": "APIRequestError",
     "evalue": "<!doctype html>\n<html lang=en>\n  <head>\n    <title>TypeError: 'ref_id' is an invalid keyword argument for TestResult\n // Werkzeug Debugger</title>\n    <link rel=\"stylesheet\" href=\"?__debugger__=yes&amp;cmd=resource&amp;f=style.css\">\n    <link rel=\"shortcut icon\"\n        href=\"?__debugger__=yes&amp;cmd=resource&amp;f=console.png\">\n    <script src=\"?__debugger__=yes&amp;cmd=resource&amp;f=debugger.js\"></script>\n    <script>\n      var CONSOLE_MODE = false,\n          EVALEX = true,\n          EVALEX_TRUSTED = false,\n          SECRET = \"2rbQ3Smx2q6ibuA3GI3S\";\n    </script>\n  </head>\n  <body style=\"background-color: #fff\">\n    <div class=\"debugger\">\n<h1>TypeError</h1>\n<div class=\"detail\">\n  <p class=\"errormsg\">TypeError: &#39;ref_id&#39; is an invalid keyword argument for TestResult\n</p>\n</div>\n<h2 class=\"traceback\">Traceback <em>(most recent call last)</em></h2>\n<div class=\"traceback\">\n  <h3></h3>\n  <ul><li><div class=\"frame\" id=\"frame-4953022288\">\n  <h4>File <cite class=\"filename\">\"/Users/juanvalidmind/Library/Caches/pypoetry/virtualenvs/validmind-backend-YQMxUQcm-py3.10/lib/python3.10/site-packages/flask/app.py\"</cite>,\n      line <em class=\"line\">2213</em>,\n      in <code class=\"function\">__call__</code></h4>\n  <div class=\"source library\"><pre class=\"line before\"><span class=\"ws\">    </span>def __call__(self, environ: dict, start_response: t.Callable) -&gt; t.Any:</pre>\n<pre class=\"line before\"><span class=\"ws\">        </span>&#34;&#34;&#34;The WSGI server calls the Flask application object as the</pre>\n<pre class=\"line before\"><span class=\"ws\">        </span>WSGI application. This calls :meth:`wsgi_app`, which can be</pre>\n<pre class=\"line before\"><span class=\"ws\">        </span>wrapped to apply middleware.</pre>\n<pre class=\"line before\"><span class=\"ws\">        </span>&#34;&#34;&#34;</pre>\n<pre class=\"line current\"><span class=\"ws\">        </span>return self.wsgi_app(environ, start_response)</pre></div>\n</div>\n\n<li><div class=\"frame\" id=\"frame-4953022960\">\n  <h4>File <cite class=\"filename\">\"/Users/juanvalidmind/Library/Caches/pypoetry/virtualenvs/validmind-backend-YQMxUQcm-py3.10/lib/python3.10/site-packages/flask/app.py\"</cite>,\n      line <em class=\"line\">2193</em>,\n      in <code class=\"function\">wsgi_app</code></h4>\n  <div class=\"source library\"><pre class=\"line before\"><span class=\"ws\">            </span>try:</pre>\n<pre class=\"line before\"><span class=\"ws\">                </span>ctx.push()</pre>\n<pre class=\"line before\"><span class=\"ws\">                </span>response = self.full_dispatch_request()</pre>\n<pre class=\"line before\"><span class=\"ws\">            </span>except Exception as e:</pre>\n<pre class=\"line before\"><span class=\"ws\">                </span>error = e</pre>\n<pre class=\"line current\"><span class=\"ws\">                </span>response = self.handle_exception(e)</pre>\n<pre class=\"line after\"><span class=\"ws\">            </span>except:  # noqa: B001</pre>\n<pre class=\"line after\"><span class=\"ws\">                </span>error = sys.exc_info()[1]</pre>\n<pre class=\"line after\"><span class=\"ws\">                </span>raise</pre>\n<pre class=\"line after\"><span class=\"ws\">            </span>return response(environ, start_response)</pre>\n<pre class=\"line after\"><span class=\"ws\">        </span>finally:</pre></div>\n</div>\n\n<li><div class=\"frame\" id=\"frame-4953023072\">\n  <h4>File <cite class=\"filename\">\"/Users/juanvalidmind/Library/Caches/pypoetry/virtualenvs/validmind-backend-YQMxUQcm-py3.10/lib/python3.10/site-packages/flask_cors/extension.py\"</cite>,\n      line <em class=\"line\">165</em>,\n      in <code class=\"function\">wrapped_function</code></h4>\n  <div class=\"source library\"><pre class=\"line before\"><span class=\"ws\">        </span># Wrap exception handlers with cross_origin</pre>\n<pre class=\"line before\"><span class=\"ws\">        </span># These error handlers will still respect the behavior of the route</pre>\n<pre class=\"line before\"><span class=\"ws\">        </span>if options.get(&#39;intercept_exceptions&#39;, True):</pre>\n<pre class=\"line before\"><span class=\"ws\">            </span>def _after_request_decorator(f):</pre>\n<pre class=\"line before\"><span class=\"ws\">                </span>def wrapped_function(*args, **kwargs):</pre>\n<pre class=\"line current\"><span class=\"ws\">                    </span>return cors_after_request(app.make_response(f(*args, **kwargs)))</pre>\n<pre class=\"line after\"><span class=\"ws\">                </span>return wrapped_function</pre>\n<pre class=\"line after\"><span class=\"ws\"></span> </pre>\n<pre class=\"line after\"><span class=\"ws\">            </span>if hasattr(app, &#39;handle_exception&#39;):</pre>\n<pre class=\"line after\"><span class=\"ws\">                </span>app.handle_exception = _after_request_decorator(</pre>\n<pre class=\"line after\"><span class=\"ws\">                    </span>app.handle_exception)</pre></div>\n</div>\n\n<li><div class=\"frame\" id=\"frame-4953023184\">\n  <h4>File <cite class=\"filename\">\"/Users/juanvalidmind/Library/Caches/pypoetry/virtualenvs/validmind-backend-YQMxUQcm-py3.10/lib/python3.10/site-packages/flask/app.py\"</cite>,\n      line <em class=\"line\">2190</em>,\n      in <code class=\"function\">wsgi_app</code></h4>\n  <div class=\"source library\"><pre class=\"line before\"><span class=\"ws\">        </span>ctx = self.request_context(environ)</pre>\n<pre class=\"line before\"><span class=\"ws\">        </span>error: BaseException | None = None</pre>\n<pre class=\"line before\"><span class=\"ws\">        </span>try:</pre>\n<pre class=\"line before\"><span class=\"ws\">            </span>try:</pre>\n<pre class=\"line before\"><span class=\"ws\">                </span>ctx.push()</pre>\n<pre class=\"line current\"><span class=\"ws\">                </span>response = self.full_dispatch_request()</pre>\n<pre class=\"line after\"><span class=\"ws\">            </span>except Exception as e:</pre>\n<pre class=\"line after\"><span class=\"ws\">                </span>error = e</pre>\n<pre class=\"line after\"><span class=\"ws\">                </span>response = self.handle_exception(e)</pre>\n<pre class=\"line after\"><span class=\"ws\">            </span>except:  # noqa: B001</pre>\n<pre class=\"line after\"><span class=\"ws\">                </span>error = sys.exc_info()[1]</pre></div>\n</div>\n\n<li><div class=\"frame\" id=\"frame-4953023296\">\n  <h4>File <cite class=\"filename\">\"/Users/juanvalidmind/Library/Caches/pypoetry/virtualenvs/validmind-backend-YQMxUQcm-py3.10/lib/python3.10/site-packages/flask/app.py\"</cite>,\n      line <em class=\"line\">1486</em>,\n      in <code class=\"function\">full_dispatch_request</code></h4>\n  <div class=\"source library\"><pre class=\"line before\"><span class=\"ws\">            </span>request_started.send(self, _async_wrapper=self.ensure_sync)</pre>\n<pre class=\"line before\"><span class=\"ws\">            </span>rv = self.preprocess_request()</pre>\n<pre class=\"line before\"><span class=\"ws\">            </span>if rv is None:</pre>\n<pre class=\"line before\"><span class=\"ws\">                </span>rv = self.dispatch_request()</pre>\n<pre class=\"line before\"><span class=\"ws\">        </span>except Exception as e:</pre>\n<pre class=\"line current\"><span class=\"ws\">            </span>rv = self.handle_user_exception(e)</pre>\n<pre class=\"line after\"><span class=\"ws\">        </span>return self.finalize_request(rv)</pre>\n<pre class=\"line after\"><span class=\"ws\"></span> </pre>\n<pre class=\"line after\"><span class=\"ws\">    </span>def finalize_request(</pre>\n<pre class=\"line after\"><span class=\"ws\">        </span>self,</pre>\n<pre class=\"line after\"><span class=\"ws\">        </span>rv: ft.ResponseReturnValue | HTTPException,</pre></div>\n</div>\n\n<li><div class=\"frame\" id=\"frame-4953023408\">\n  <h4>File <cite class=\"filename\">\"/Users/juanvalidmind/Library/Caches/pypoetry/virtualenvs/validmind-backend-YQMxUQcm-py3.10/lib/python3.10/site-packages/flask_cors/extension.py\"</cite>,\n      line <em class=\"line\">165</em>,\n      in <code class=\"function\">wrapped_function</code></h4>\n  <div class=\"source library\"><pre class=\"line before\"><span class=\"ws\">        </span># Wrap exception handlers with cross_origin</pre>\n<pre class=\"line before\"><span class=\"ws\">        </span># These error handlers will still respect the behavior of the route</pre>\n<pre class=\"line before\"><span class=\"ws\">        </span>if options.get(&#39;intercept_exceptions&#39;, True):</pre>\n<pre class=\"line before\"><span class=\"ws\">            </span>def _after_request_decorator(f):</pre>\n<pre class=\"line before\"><span class=\"ws\">                </span>def wrapped_function(*args, **kwargs):</pre>\n<pre class=\"line current\"><span class=\"ws\">                    </span>return cors_after_request(app.make_response(f(*args, **kwargs)))</pre>\n<pre class=\"line after\"><span class=\"ws\">                </span>return wrapped_function</pre>\n<pre class=\"line after\"><span class=\"ws\"></span> </pre>\n<pre class=\"line after\"><span class=\"ws\">            </span>if hasattr(app, &#39;handle_exception&#39;):</pre>\n<pre class=\"line after\"><span class=\"ws\">                </span>app.handle_exception = _after_request_decorator(</pre>\n<pre class=\"line after\"><span class=\"ws\">                    </span>app.handle_exception)</pre></div>\n</div>\n\n<li><div class=\"frame\" id=\"frame-4953023520\">\n  <h4>File <cite class=\"filename\">\"/Users/juanvalidmind/Library/Caches/pypoetry/virtualenvs/validmind-backend-YQMxUQcm-py3.10/lib/python3.10/site-packages/flask/app.py\"</cite>,\n      line <em class=\"line\">1484</em>,\n      in <code class=\"function\">full_dispatch_request</code></h4>\n  <div class=\"source library\"><pre class=\"line before\"><span class=\"ws\"></span> </pre>\n<pre class=\"line before\"><span class=\"ws\">        </span>try:</pre>\n<pre class=\"line before\"><span class=\"ws\">            </span>request_started.send(self, _async_wrapper=self.ensure_sync)</pre>\n<pre class=\"line before\"><span class=\"ws\">            </span>rv = self.preprocess_request()</pre>\n<pre class=\"line before\"><span class=\"ws\">            </span>if rv is None:</pre>\n<pre class=\"line current\"><span class=\"ws\">                </span>rv = self.dispatch_request()</pre>\n<pre class=\"line after\"><span class=\"ws\">        </span>except Exception as e:</pre>\n<pre class=\"line after\"><span class=\"ws\">            </span>rv = self.handle_user_exception(e)</pre>\n<pre class=\"line after\"><span class=\"ws\">        </span>return self.finalize_request(rv)</pre>\n<pre class=\"line after\"><span class=\"ws\"></span> </pre>\n<pre class=\"line after\"><span class=\"ws\">    </span>def finalize_request(</pre></div>\n</div>\n\n<li><div class=\"frame\" id=\"frame-4953023632\">\n  <h4>File <cite class=\"filename\">\"/Users/juanvalidmind/Library/Caches/pypoetry/virtualenvs/validmind-backend-YQMxUQcm-py3.10/lib/python3.10/site-packages/flask/app.py\"</cite>,\n      line <em class=\"line\">1469</em>,\n      in <code class=\"function\">dispatch_request</code></h4>\n  <div class=\"source library\"><pre class=\"line before\"><span class=\"ws\">            </span>and req.method == &#34;OPTIONS&#34;</pre>\n<pre class=\"line before\"><span class=\"ws\">        </span>):</pre>\n<pre class=\"line before\"><span class=\"ws\">            </span>return self.make_default_options_response()</pre>\n<pre class=\"line before\"><span class=\"ws\">        </span># otherwise dispatch to the handler for that endpoint</pre>\n<pre class=\"line before\"><span class=\"ws\">        </span>view_args: dict[str, t.Any] = req.view_args  # type: ignore[assignment]</pre>\n<pre class=\"line current\"><span class=\"ws\">        </span>return self.ensure_sync(self.view_functions[rule.endpoint])(**view_args)</pre>\n<pre class=\"line after\"><span class=\"ws\"></span> </pre>\n<pre class=\"line after\"><span class=\"ws\">    </span>def full_dispatch_request(self) -&gt; Response:</pre>\n<pre class=\"line after\"><span class=\"ws\">        </span>&#34;&#34;&#34;Dispatches the request and on top of that performs request</pre>\n<pre class=\"line after\"><span class=\"ws\">        </span>pre and postprocessing as well as HTTP exception catching and</pre>\n<pre class=\"line after\"><span class=\"ws\">        </span>error handling.</pre></div>\n</div>\n\n<li><div class=\"frame\" id=\"frame-4953023744\">\n  <h4>File <cite class=\"filename\">\"/Users/juanvalidmind/Dev/github/validmind/backend/src/backend/auth.py\"</cite>,\n      line <em class=\"line\">419</em>,\n      in <code class=\"function\">decorated</code></h4>\n  <div class=\"source \"><pre class=\"line before\"><span class=\"ws\">                </span>},</pre>\n<pre class=\"line before\"><span class=\"ws\">                </span>401,</pre>\n<pre class=\"line before\"><span class=\"ws\">            </span>)</pre>\n<pre class=\"line before\"><span class=\"ws\"></span> </pre>\n<pre class=\"line before\"><span class=\"ws\">        </span>g.client = client</pre>\n<pre class=\"line current\"><span class=\"ws\">        </span>return f(*args, **kwargs)</pre>\n<pre class=\"line after\"><span class=\"ws\"></span> </pre>\n<pre class=\"line after\"><span class=\"ws\">    </span>return decorated</pre>\n<pre class=\"line after\"><span class=\"ws\"></span> </pre>\n<pre class=\"line after\"><span class=\"ws\"></span> </pre>\n<pre class=\"line after\"><span class=\"ws\"></span>def requires_api_project(f):</pre></div>\n</div>\n\n<li><div class=\"frame\" id=\"frame-4953023856\">\n  <h4>File <cite class=\"filename\">\"/Users/juanvalidmind/Dev/github/validmind/backend/src/backend/auth.py\"</cite>,\n      line <em class=\"line\">466</em>,\n      in <code class=\"function\">decorated</code></h4>\n  <div class=\"source \"><pre class=\"line before\"><span class=\"ws\">                </span>},</pre>\n<pre class=\"line before\"><span class=\"ws\">                </span>401,</pre>\n<pre class=\"line before\"><span class=\"ws\">            </span>)</pre>\n<pre class=\"line before\"><span class=\"ws\"></span> </pre>\n<pre class=\"line before\"><span class=\"ws\">        </span>g.project = project</pre>\n<pre class=\"line current\"><span class=\"ws\">        </span>return f(*args, **kwargs)</pre>\n<pre class=\"line after\"><span class=\"ws\"></span> </pre>\n<pre class=\"line after\"><span class=\"ws\">    </span>return decorated</pre>\n<pre class=\"line after\"><span class=\"ws\"></span> </pre>\n<pre class=\"line after\"><span class=\"ws\"></span> </pre>\n<pre class=\"line after\"><span class=\"ws\"></span>def requires_test_run(f):</pre></div>\n</div>\n\n<li><div class=\"frame\" id=\"frame-4953023968\">\n  <h4>File <cite class=\"filename\">\"/Users/juanvalidmind/Dev/github/validmind/backend/src/backend/routes/tracking.py\"</cite>,\n      line <em class=\"line\">249</em>,\n      in <code class=\"function\">log_test_results</code></h4>\n  <div class=\"source \"><pre class=\"line before\"><span class=\"ws\"></span> </pre>\n<pre class=\"line before\"><span class=\"ws\">    </span>if run_cuid is None:</pre>\n<pre class=\"line before\"><span class=\"ws\">        </span>return bad_request(&#34;run_cuid query parameter is required&#34;)</pre>\n<pre class=\"line before\"><span class=\"ws\"></span> </pre>\n<pre class=\"line before\"><span class=\"ws\">    </span>try:</pre>\n<pre class=\"line current\"><span class=\"ws\">        </span>result = TestResult.log_from_json(g.project, run_cuid, result_json)</pre>\n<pre class=\"line after\"><span class=\"ws\">        </span>Event.send_tracking_logged_test_result(g.project, result, g.client)</pre>\n<pre class=\"line after\"><span class=\"ws\">    </span>except (sqlalchemy.exc.SQLAlchemyError, ValueError) as e:</pre>\n<pre class=\"line after\"><span class=\"ws\">        </span>logger.exception(e)</pre>\n<pre class=\"line after\"><span class=\"ws\">        </span>return bad_request(e)</pre>\n<pre class=\"line after\"><span class=\"ws\"></span> </pre></div>\n</div>\n\n<li><div class=\"frame\" id=\"frame-4953028784\">\n  <h4>File <cite class=\"filename\">\"/Users/juanvalidmind/Dev/github/validmind/backend/src/backend/db/test_result.py\"</cite>,\n      line <em class=\"line\">133</em>,\n      in <code class=\"function\">log_from_json</code></h4>\n  <div class=\"source \"><pre class=\"line before\"><span class=\"ws\">        </span>test_run = project.test_runs.filter_by(cuid=run_cuid).first()</pre>\n<pre class=\"line before\"><span class=\"ws\"></span> </pre>\n<pre class=\"line before\"><span class=\"ws\">        </span>if test_run is None:</pre>\n<pre class=\"line before\"><span class=\"ws\">            </span>return ValueError(f&#34;TestRun with CUID=&#39;{run_cuid}&#39; not found&#34;)</pre>\n<pre class=\"line before\"><span class=\"ws\"></span> </pre>\n<pre class=\"line current\"><span class=\"ws\">        </span>result = cls(**result_json)</pre>\n<pre class=\"line after\"><span class=\"ws\">        </span>result.test_run = test_run</pre>\n<pre class=\"line after\"><span class=\"ws\">        </span>result.project_id = project.id</pre>\n<pre class=\"line after\"><span class=\"ws\"></span> </pre>\n<pre class=\"line after\"><span class=\"ws\">        </span>db.session.add(result)</pre>\n<pre class=\"line after\"><span class=\"ws\">        </span>db.session.commit()</pre></div>\n</div>\n\n<li><div class=\"frame\" id=\"frame-4954637472\">\n  <h4>File <cite class=\"filename\">\"&lt;string&gt;\"</cite>,\n      line <em class=\"line\">4</em>,\n      in <code class=\"function\">__init__</code></h4>\n  <div class=\"source \"></div>\n</div>\n\n<li><div class=\"frame\" id=\"frame-4954637584\">\n  <h4>File <cite class=\"filename\">\"/Users/juanvalidmind/Library/Caches/pypoetry/virtualenvs/validmind-backend-YQMxUQcm-py3.10/lib/python3.10/site-packages/sqlalchemy/orm/state.py\"</cite>,\n      line <em class=\"line\">481</em>,\n      in <code class=\"function\">_initialize_instance</code></h4>\n  <div class=\"source library\"><pre class=\"line before\"><span class=\"ws\">        </span>manager.dispatch.init(self, args, kwargs)</pre>\n<pre class=\"line before\"><span class=\"ws\"></span> </pre>\n<pre class=\"line before\"><span class=\"ws\">        </span>try:</pre>\n<pre class=\"line before\"><span class=\"ws\">            </span>return manager.original_init(*mixed[1:], **kwargs)</pre>\n<pre class=\"line before\"><span class=\"ws\">        </span>except:</pre>\n<pre class=\"line current\"><span class=\"ws\">            </span>with util.safe_reraise():</pre>\n<pre class=\"line after\"><span class=\"ws\">                </span>manager.dispatch.init_failure(self, args, kwargs)</pre>\n<pre class=\"line after\"><span class=\"ws\"></span> </pre>\n<pre class=\"line after\"><span class=\"ws\">    </span>def get_history(self, key, passive):</pre>\n<pre class=\"line after\"><span class=\"ws\">        </span>return self.manager[key].impl.get_history(self, self.dict, passive)</pre>\n<pre class=\"line after\"><span class=\"ws\"></span> </pre></div>\n</div>\n\n<li><div class=\"frame\" id=\"frame-4954706368\">\n  <h4>File <cite class=\"filename\">\"/Users/juanvalidmind/Library/Caches/pypoetry/virtualenvs/validmind-backend-YQMxUQcm-py3.10/lib/python3.10/site-packages/sqlalchemy/util/langhelpers.py\"</cite>,\n      line <em class=\"line\">70</em>,\n      in <code class=\"function\">__exit__</code></h4>\n  <div class=\"source library\"><pre class=\"line before\"><span class=\"ws\">        </span># see #2703 for notes</pre>\n<pre class=\"line before\"><span class=\"ws\">        </span>if type_ is None:</pre>\n<pre class=\"line before\"><span class=\"ws\">            </span>exc_type, exc_value, exc_tb = self._exc_info</pre>\n<pre class=\"line before\"><span class=\"ws\">            </span>self._exc_info = None  # remove potential circular references</pre>\n<pre class=\"line before\"><span class=\"ws\">            </span>if not self.warn_only:</pre>\n<pre class=\"line current\"><span class=\"ws\">                </span>compat.raise_(</pre>\n<pre class=\"line after\"><span class=\"ws\">                    </span>exc_value,</pre>\n<pre class=\"line after\"><span class=\"ws\">                    </span>with_traceback=exc_tb,</pre>\n<pre class=\"line after\"><span class=\"ws\">                </span>)</pre>\n<pre class=\"line after\"><span class=\"ws\">        </span>else:</pre>\n<pre class=\"line after\"><span class=\"ws\">            </span>if not compat.py3k and self._exc_info and self._exc_info[1]:</pre></div>\n</div>\n\n<li><div class=\"frame\" id=\"frame-4954778400\">\n  <h4>File <cite class=\"filename\">\"/Users/juanvalidmind/Library/Caches/pypoetry/virtualenvs/validmind-backend-YQMxUQcm-py3.10/lib/python3.10/site-packages/sqlalchemy/util/compat.py\"</cite>,\n      line <em class=\"line\">211</em>,\n      in <code class=\"function\">raise_</code></h4>\n  <div class=\"source library\"><pre class=\"line before\"><span class=\"ws\">            </span># intermediary exception does not change, but we can&#39;t figure</pre>\n<pre class=\"line before\"><span class=\"ws\">            </span># that out.</pre>\n<pre class=\"line before\"><span class=\"ws\">            </span>exception.__cause__ = replace_context</pre>\n<pre class=\"line before\"><span class=\"ws\"></span> </pre>\n<pre class=\"line before\"><span class=\"ws\">        </span>try:</pre>\n<pre class=\"line current\"><span class=\"ws\">            </span>raise exception</pre>\n<pre class=\"line after\"><span class=\"ws\">        </span>finally:</pre>\n<pre class=\"line after\"><span class=\"ws\">            </span># credit to</pre>\n<pre class=\"line after\"><span class=\"ws\">            </span># https://cosmicpercolator.com/2016/01/13/exception-leaks-in-python-2-and-3/</pre>\n<pre class=\"line after\"><span class=\"ws\">            </span># as the __traceback__ object creates a cycle</pre>\n<pre class=\"line after\"><span class=\"ws\">            </span>del exception, replace_context, from_, with_traceback</pre></div>\n</div>\n\n<li><div class=\"frame\" id=\"frame-4954917120\">\n  <h4>File <cite class=\"filename\">\"/Users/juanvalidmind/Library/Caches/pypoetry/virtualenvs/validmind-backend-YQMxUQcm-py3.10/lib/python3.10/site-packages/sqlalchemy/orm/state.py\"</cite>,\n      line <em class=\"line\">479</em>,\n      in <code class=\"function\">_initialize_instance</code></h4>\n  <div class=\"source library\"><pre class=\"line before\"><span class=\"ws\">        </span>manager = self.manager</pre>\n<pre class=\"line before\"><span class=\"ws\"></span> </pre>\n<pre class=\"line before\"><span class=\"ws\">        </span>manager.dispatch.init(self, args, kwargs)</pre>\n<pre class=\"line before\"><span class=\"ws\"></span> </pre>\n<pre class=\"line before\"><span class=\"ws\">        </span>try:</pre>\n<pre class=\"line current\"><span class=\"ws\">            </span>return manager.original_init(*mixed[1:], **kwargs)</pre>\n<pre class=\"line after\"><span class=\"ws\">        </span>except:</pre>\n<pre class=\"line after\"><span class=\"ws\">            </span>with util.safe_reraise():</pre>\n<pre class=\"line after\"><span class=\"ws\">                </span>manager.dispatch.init_failure(self, args, kwargs)</pre>\n<pre class=\"line after\"><span class=\"ws\"></span> </pre>\n<pre class=\"line after\"><span class=\"ws\">    </span>def get_history(self, key, passive):</pre></div>\n</div>\n\n<li><div class=\"frame\" id=\"frame-4954917232\">\n  <h4>File <cite class=\"filename\">\"/Users/juanvalidmind/Library/Caches/pypoetry/virtualenvs/validmind-backend-YQMxUQcm-py3.10/lib/python3.10/site-packages/sqlalchemy/orm/decl_base.py\"</cite>,\n      line <em class=\"line\">1197</em>,\n      in <code class=\"function\">_declarative_constructor</code></h4>\n  <div class=\"source library\"><pre class=\"line before\"><span class=\"ws\">    </span>for example, any mapped columns or relationships.</pre>\n<pre class=\"line before\"><span class=\"ws\">    </span>&#34;&#34;&#34;</pre>\n<pre class=\"line before\"><span class=\"ws\">    </span>cls_ = type(self)</pre>\n<pre class=\"line before\"><span class=\"ws\">    </span>for k in kwargs:</pre>\n<pre class=\"line before\"><span class=\"ws\">        </span>if not hasattr(cls_, k):</pre>\n<pre class=\"line current\"><span class=\"ws\">            </span>raise TypeError(</pre>\n<pre class=\"line after\"><span class=\"ws\">                </span>&#34;%r is an invalid keyword argument for %s&#34; % (k, cls_.__name__)</pre>\n<pre class=\"line after\"><span class=\"ws\">            </span>)</pre>\n<pre class=\"line after\"><span class=\"ws\">        </span>setattr(self, k, kwargs[k])</pre>\n<pre class=\"line after\"><span class=\"ws\"></span> </pre>\n<pre class=\"line after\"><span class=\"ws\"></span> </pre></div>\n</div>\n</ul>\n  <blockquote>TypeError: &#39;ref_id&#39; is an invalid keyword argument for TestResult\n</blockquote>\n</div>\n\n<div class=\"plain\">\n    <p>\n      This is the Copy/Paste friendly version of the traceback.\n    </p>\n    <textarea cols=\"50\" rows=\"10\" name=\"code\" readonly>Traceback (most recent call last):\n  File &#34;/Users/juanvalidmind/Library/Caches/pypoetry/virtualenvs/validmind-backend-YQMxUQcm-py3.10/lib/python3.10/site-packages/flask/app.py&#34;, line 2213, in __call__\n    return self.wsgi_app(environ, start_response)\n  File &#34;/Users/juanvalidmind/Library/Caches/pypoetry/virtualenvs/validmind-backend-YQMxUQcm-py3.10/lib/python3.10/site-packages/flask/app.py&#34;, line 2193, in wsgi_app\n    response = self.handle_exception(e)\n  File &#34;/Users/juanvalidmind/Library/Caches/pypoetry/virtualenvs/validmind-backend-YQMxUQcm-py3.10/lib/python3.10/site-packages/flask_cors/extension.py&#34;, line 165, in wrapped_function\n    return cors_after_request(app.make_response(f(*args, **kwargs)))\n  File &#34;/Users/juanvalidmind/Library/Caches/pypoetry/virtualenvs/validmind-backend-YQMxUQcm-py3.10/lib/python3.10/site-packages/flask/app.py&#34;, line 2190, in wsgi_app\n    response = self.full_dispatch_request()\n  File &#34;/Users/juanvalidmind/Library/Caches/pypoetry/virtualenvs/validmind-backend-YQMxUQcm-py3.10/lib/python3.10/site-packages/flask/app.py&#34;, line 1486, in full_dispatch_request\n    rv = self.handle_user_exception(e)\n  File &#34;/Users/juanvalidmind/Library/Caches/pypoetry/virtualenvs/validmind-backend-YQMxUQcm-py3.10/lib/python3.10/site-packages/flask_cors/extension.py&#34;, line 165, in wrapped_function\n    return cors_after_request(app.make_response(f(*args, **kwargs)))\n  File &#34;/Users/juanvalidmind/Library/Caches/pypoetry/virtualenvs/validmind-backend-YQMxUQcm-py3.10/lib/python3.10/site-packages/flask/app.py&#34;, line 1484, in full_dispatch_request\n    rv = self.dispatch_request()\n  File &#34;/Users/juanvalidmind/Library/Caches/pypoetry/virtualenvs/validmind-backend-YQMxUQcm-py3.10/lib/python3.10/site-packages/flask/app.py&#34;, line 1469, in dispatch_request\n    return self.ensure_sync(self.view_functions[rule.endpoint])(**view_args)\n  File &#34;/Users/juanvalidmind/Dev/github/validmind/backend/src/backend/auth.py&#34;, line 419, in decorated\n    return f(*args, **kwargs)\n  File &#34;/Users/juanvalidmind/Dev/github/validmind/backend/src/backend/auth.py&#34;, line 466, in decorated\n    return f(*args, **kwargs)\n  File &#34;/Users/juanvalidmind/Dev/github/validmind/backend/src/backend/routes/tracking.py&#34;, line 249, in log_test_results\n    result = TestResult.log_from_json(g.project, run_cuid, result_json)\n  File &#34;/Users/juanvalidmind/Dev/github/validmind/backend/src/backend/db/test_result.py&#34;, line 133, in log_from_json\n    result = cls(**result_json)\n  File &#34;&lt;string&gt;&#34;, line 4, in __init__\n  File &#34;/Users/juanvalidmind/Library/Caches/pypoetry/virtualenvs/validmind-backend-YQMxUQcm-py3.10/lib/python3.10/site-packages/sqlalchemy/orm/state.py&#34;, line 481, in _initialize_instance\n    with util.safe_reraise():\n  File &#34;/Users/juanvalidmind/Library/Caches/pypoetry/virtualenvs/validmind-backend-YQMxUQcm-py3.10/lib/python3.10/site-packages/sqlalchemy/util/langhelpers.py&#34;, line 70, in __exit__\n    compat.raise_(\n  File &#34;/Users/juanvalidmind/Library/Caches/pypoetry/virtualenvs/validmind-backend-YQMxUQcm-py3.10/lib/python3.10/site-packages/sqlalchemy/util/compat.py&#34;, line 211, in raise_\n    raise exception\n  File &#34;/Users/juanvalidmind/Library/Caches/pypoetry/virtualenvs/validmind-backend-YQMxUQcm-py3.10/lib/python3.10/site-packages/sqlalchemy/orm/state.py&#34;, line 479, in _initialize_instance\n    return manager.original_init(*mixed[1:], **kwargs)\n  File &#34;/Users/juanvalidmind/Library/Caches/pypoetry/virtualenvs/validmind-backend-YQMxUQcm-py3.10/lib/python3.10/site-packages/sqlalchemy/orm/decl_base.py&#34;, line 1197, in _declarative_constructor\n    raise TypeError(\nTypeError: &#39;ref_id&#39; is an invalid keyword argument for TestResult\n</textarea>\n</div>\n<div class=\"explanation\">\n  The debugger caught an exception in your WSGI application.  You can now\n  look at the traceback which led to the error.  <span class=\"nojavascript\">\n  If you enable JavaScript you can also use additional features such as code\n  execution (if the evalex feature is enabled), automatic pasting of the\n  exceptions and much more.</span>\n</div>\n      <div class=\"footer\">\n        Brought to you by <strong class=\"arthur\">DON'T PANIC</strong>, your\n        friendly Werkzeug powered traceback interpreter.\n      </div>\n    </div>\n\n    <div class=\"pin-prompt\">\n      <div class=\"inner\">\n        <h3>Console Locked</h3>\n        <p>\n          The console is locked and needs to be unlocked by entering the PIN.\n          You can find the PIN printed out on the standard output of your\n          shell that runs the server.\n        <form>\n          <p>PIN:\n            <input type=text name=pin size=14>\n            <input type=submit name=btn value=\"Confirm Pin\">\n        </form>\n      </div>\n    </div>\n  </body>\n</html>\n\n<!--\n\nTraceback (most recent call last):\n  File \"/Users/juanvalidmind/Library/Caches/pypoetry/virtualenvs/validmind-backend-YQMxUQcm-py3.10/lib/python3.10/site-packages/flask/app.py\", line 2213, in __call__\n    return self.wsgi_app(environ, start_response)\n  File \"/Users/juanvalidmind/Library/Caches/pypoetry/virtualenvs/validmind-backend-YQMxUQcm-py3.10/lib/python3.10/site-packages/flask/app.py\", line 2193, in wsgi_app\n    response = self.handle_exception(e)\n  File \"/Users/juanvalidmind/Library/Caches/pypoetry/virtualenvs/validmind-backend-YQMxUQcm-py3.10/lib/python3.10/site-packages/flask_cors/extension.py\", line 165, in wrapped_function\n    return cors_after_request(app.make_response(f(*args, **kwargs)))\n  File \"/Users/juanvalidmind/Library/Caches/pypoetry/virtualenvs/validmind-backend-YQMxUQcm-py3.10/lib/python3.10/site-packages/flask/app.py\", line 2190, in wsgi_app\n    response = self.full_dispatch_request()\n  File \"/Users/juanvalidmind/Library/Caches/pypoetry/virtualenvs/validmind-backend-YQMxUQcm-py3.10/lib/python3.10/site-packages/flask/app.py\", line 1486, in full_dispatch_request\n    rv = self.handle_user_exception(e)\n  File \"/Users/juanvalidmind/Library/Caches/pypoetry/virtualenvs/validmind-backend-YQMxUQcm-py3.10/lib/python3.10/site-packages/flask_cors/extension.py\", line 165, in wrapped_function\n    return cors_after_request(app.make_response(f(*args, **kwargs)))\n  File \"/Users/juanvalidmind/Library/Caches/pypoetry/virtualenvs/validmind-backend-YQMxUQcm-py3.10/lib/python3.10/site-packages/flask/app.py\", line 1484, in full_dispatch_request\n    rv = self.dispatch_request()\n  File \"/Users/juanvalidmind/Library/Caches/pypoetry/virtualenvs/validmind-backend-YQMxUQcm-py3.10/lib/python3.10/site-packages/flask/app.py\", line 1469, in dispatch_request\n    return self.ensure_sync(self.view_functions[rule.endpoint])(**view_args)\n  File \"/Users/juanvalidmind/Dev/github/validmind/backend/src/backend/auth.py\", line 419, in decorated\n    return f(*args, **kwargs)\n  File \"/Users/juanvalidmind/Dev/github/validmind/backend/src/backend/auth.py\", line 466, in decorated\n    return f(*args, **kwargs)\n  File \"/Users/juanvalidmind/Dev/github/validmind/backend/src/backend/routes/tracking.py\", line 249, in log_test_results\n    result = TestResult.log_from_json(g.project, run_cuid, result_json)\n  File \"/Users/juanvalidmind/Dev/github/validmind/backend/src/backend/db/test_result.py\", line 133, in log_from_json\n    result = cls(**result_json)\n  File \"<string>\", line 4, in __init__\n  File \"/Users/juanvalidmind/Library/Caches/pypoetry/virtualenvs/validmind-backend-YQMxUQcm-py3.10/lib/python3.10/site-packages/sqlalchemy/orm/state.py\", line 481, in _initialize_instance\n    with util.safe_reraise():\n  File \"/Users/juanvalidmind/Library/Caches/pypoetry/virtualenvs/validmind-backend-YQMxUQcm-py3.10/lib/python3.10/site-packages/sqlalchemy/util/langhelpers.py\", line 70, in __exit__\n    compat.raise_(\n  File \"/Users/juanvalidmind/Library/Caches/pypoetry/virtualenvs/validmind-backend-YQMxUQcm-py3.10/lib/python3.10/site-packages/sqlalchemy/util/compat.py\", line 211, in raise_\n    raise exception\n  File \"/Users/juanvalidmind/Library/Caches/pypoetry/virtualenvs/validmind-backend-YQMxUQcm-py3.10/lib/python3.10/site-packages/sqlalchemy/orm/state.py\", line 479, in _initialize_instance\n    return manager.original_init(*mixed[1:], **kwargs)\n  File \"/Users/juanvalidmind/Library/Caches/pypoetry/virtualenvs/validmind-backend-YQMxUQcm-py3.10/lib/python3.10/site-packages/sqlalchemy/orm/decl_base.py\", line 1197, in _declarative_constructor\n    raise TypeError(\nTypeError: 'ref_id' is an invalid keyword argument for TestResult\n\n\n-->\n",
     "output_type": "error",
     "traceback": [
      "\u001b[0;31m---------------------------------------------------------------------------\u001b[0m",
      "\u001b[0;31mAPIRequestError\u001b[0m                           Traceback (most recent call last)",
      "\u001b[0;32m/var/folders/tn/rbr74q892k13m82y37y396h40000gn/T/ipykernel_79543/4278425698.py\u001b[0m in \u001b[0;36m<cell line: 11>\u001b[0;34m()\u001b[0m\n\u001b[1;32m      9\u001b[0m \u001b[0mmetric\u001b[0m \u001b[0;34m=\u001b[0m \u001b[0mTimeSeriesMissingValues\u001b[0m\u001b[0;34m(\u001b[0m\u001b[0mtest_context\u001b[0m\u001b[0;34m,\u001b[0m \u001b[0mparams\u001b[0m\u001b[0;34m)\u001b[0m\u001b[0;34m\u001b[0m\u001b[0;34m\u001b[0m\u001b[0m\n\u001b[1;32m     10\u001b[0m \u001b[0mmetric\u001b[0m\u001b[0;34m.\u001b[0m\u001b[0mrun\u001b[0m\u001b[0;34m(\u001b[0m\u001b[0;34m)\u001b[0m\u001b[0;34m\u001b[0m\u001b[0;34m\u001b[0m\u001b[0m\n\u001b[0;32m---> 11\u001b[0;31m \u001b[0;32mawait\u001b[0m \u001b[0mmetric\u001b[0m\u001b[0;34m.\u001b[0m\u001b[0mresult\u001b[0m\u001b[0;34m.\u001b[0m\u001b[0mlog\u001b[0m\u001b[0;34m(\u001b[0m\u001b[0;34m)\u001b[0m\u001b[0;34m\u001b[0m\u001b[0;34m\u001b[0m\u001b[0m\n\u001b[0m\u001b[1;32m     12\u001b[0m \u001b[0mmetric\u001b[0m\u001b[0;34m.\u001b[0m\u001b[0mresult\u001b[0m\u001b[0;34m.\u001b[0m\u001b[0mshow\u001b[0m\u001b[0;34m(\u001b[0m\u001b[0;34m)\u001b[0m\u001b[0;34m\u001b[0m\u001b[0;34m\u001b[0m\u001b[0m\n",
      "\u001b[0;32m~/Dev/github/validmind-python/validmind/vm_models/test_plan_result.py\u001b[0m in \u001b[0;36mlog\u001b[0;34m(self)\u001b[0m\n\u001b[1;32m    342\u001b[0m                 \u001b[0mtasks\u001b[0m\u001b[0;34m.\u001b[0m\u001b[0mappend\u001b[0m\u001b[0;34m(\u001b[0m\u001b[0mupdate_metadata\u001b[0m\u001b[0;34m(\u001b[0m\u001b[0mmetadata\u001b[0m\u001b[0;34m[\u001b[0m\u001b[0;34m\"content_id\"\u001b[0m\u001b[0;34m]\u001b[0m\u001b[0;34m,\u001b[0m \u001b[0mmetadata\u001b[0m\u001b[0;34m[\u001b[0m\u001b[0;34m\"text\"\u001b[0m\u001b[0;34m]\u001b[0m\u001b[0;34m)\u001b[0m\u001b[0;34m)\u001b[0m\u001b[0;34m\u001b[0m\u001b[0;34m\u001b[0m\u001b[0m\n\u001b[1;32m    343\u001b[0m \u001b[0;34m\u001b[0m\u001b[0m\n\u001b[0;32m--> 344\u001b[0;31m         \u001b[0;32mawait\u001b[0m \u001b[0masyncio\u001b[0m\u001b[0;34m.\u001b[0m\u001b[0mgather\u001b[0m\u001b[0;34m(\u001b[0m\u001b[0;34m*\u001b[0m\u001b[0mtasks\u001b[0m\u001b[0;34m)\u001b[0m\u001b[0;34m\u001b[0m\u001b[0;34m\u001b[0m\u001b[0m\n\u001b[0m",
      "\u001b[0;32m/opt/homebrew/Cellar/python@3.10/3.10.11/Frameworks/Python.framework/Versions/3.10/lib/python3.10/asyncio/tasks.py\u001b[0m in \u001b[0;36m__wakeup\u001b[0;34m(self, future)\u001b[0m\n\u001b[1;32m    302\u001b[0m     \u001b[0;32mdef\u001b[0m \u001b[0m__wakeup\u001b[0m\u001b[0;34m(\u001b[0m\u001b[0mself\u001b[0m\u001b[0;34m,\u001b[0m \u001b[0mfuture\u001b[0m\u001b[0;34m)\u001b[0m\u001b[0;34m:\u001b[0m\u001b[0;34m\u001b[0m\u001b[0;34m\u001b[0m\u001b[0m\n\u001b[1;32m    303\u001b[0m         \u001b[0;32mtry\u001b[0m\u001b[0;34m:\u001b[0m\u001b[0;34m\u001b[0m\u001b[0;34m\u001b[0m\u001b[0m\n\u001b[0;32m--> 304\u001b[0;31m             \u001b[0mfuture\u001b[0m\u001b[0;34m.\u001b[0m\u001b[0mresult\u001b[0m\u001b[0;34m(\u001b[0m\u001b[0;34m)\u001b[0m\u001b[0;34m\u001b[0m\u001b[0;34m\u001b[0m\u001b[0m\n\u001b[0m\u001b[1;32m    305\u001b[0m         \u001b[0;32mexcept\u001b[0m \u001b[0mBaseException\u001b[0m \u001b[0;32mas\u001b[0m \u001b[0mexc\u001b[0m\u001b[0;34m:\u001b[0m\u001b[0;34m\u001b[0m\u001b[0;34m\u001b[0m\u001b[0m\n\u001b[1;32m    306\u001b[0m             \u001b[0;31m# This may also be a cancellation.\u001b[0m\u001b[0;34m\u001b[0m\u001b[0;34m\u001b[0m\u001b[0m\n",
      "\u001b[0;32m/opt/homebrew/Cellar/python@3.10/3.10.11/Frameworks/Python.framework/Versions/3.10/lib/python3.10/asyncio/tasks.py\u001b[0m in \u001b[0;36m__step\u001b[0;34m(***failed resolving arguments***)\u001b[0m\n\u001b[1;32m    230\u001b[0m                 \u001b[0;31m# We use the `send` method directly, because coroutines\u001b[0m\u001b[0;34m\u001b[0m\u001b[0;34m\u001b[0m\u001b[0m\n\u001b[1;32m    231\u001b[0m                 \u001b[0;31m# don't have `__iter__` and `__next__` methods.\u001b[0m\u001b[0;34m\u001b[0m\u001b[0;34m\u001b[0m\u001b[0m\n\u001b[0;32m--> 232\u001b[0;31m                 \u001b[0mresult\u001b[0m \u001b[0;34m=\u001b[0m \u001b[0mcoro\u001b[0m\u001b[0;34m.\u001b[0m\u001b[0msend\u001b[0m\u001b[0;34m(\u001b[0m\u001b[0;32mNone\u001b[0m\u001b[0;34m)\u001b[0m\u001b[0;34m\u001b[0m\u001b[0;34m\u001b[0m\u001b[0m\n\u001b[0m\u001b[1;32m    233\u001b[0m             \u001b[0;32melse\u001b[0m\u001b[0;34m:\u001b[0m\u001b[0;34m\u001b[0m\u001b[0;34m\u001b[0m\u001b[0m\n\u001b[1;32m    234\u001b[0m                 \u001b[0mresult\u001b[0m \u001b[0;34m=\u001b[0m \u001b[0mcoro\u001b[0m\u001b[0;34m.\u001b[0m\u001b[0mthrow\u001b[0m\u001b[0;34m(\u001b[0m\u001b[0mexc\u001b[0m\u001b[0;34m)\u001b[0m\u001b[0;34m\u001b[0m\u001b[0;34m\u001b[0m\u001b[0m\n",
      "\u001b[0;32m~/Dev/github/validmind-python/validmind/api_client.py\u001b[0m in \u001b[0;36mlog_test_result\u001b[0;34m(result, dataset_type)\u001b[0m\n\u001b[1;32m    406\u001b[0m     \u001b[0;32mexcept\u001b[0m \u001b[0mException\u001b[0m \u001b[0;32mas\u001b[0m \u001b[0me\u001b[0m\u001b[0;34m:\u001b[0m\u001b[0;34m\u001b[0m\u001b[0;34m\u001b[0m\u001b[0m\n\u001b[1;32m    407\u001b[0m         \u001b[0mlogger\u001b[0m\u001b[0;34m.\u001b[0m\u001b[0merror\u001b[0m\u001b[0;34m(\u001b[0m\u001b[0;34m\"Error logging test results to ValidMind API\"\u001b[0m\u001b[0;34m)\u001b[0m\u001b[0;34m\u001b[0m\u001b[0;34m\u001b[0m\u001b[0m\n\u001b[0;32m--> 408\u001b[0;31m         \u001b[0;32mraise\u001b[0m \u001b[0me\u001b[0m\u001b[0;34m\u001b[0m\u001b[0;34m\u001b[0m\u001b[0m\n\u001b[0m\u001b[1;32m    409\u001b[0m \u001b[0;34m\u001b[0m\u001b[0m\n\u001b[1;32m    410\u001b[0m \u001b[0;34m\u001b[0m\u001b[0m\n",
      "\u001b[0;32m~/Dev/github/validmind-python/validmind/api_client.py\u001b[0m in \u001b[0;36mlog_test_result\u001b[0;34m(result, dataset_type)\u001b[0m\n\u001b[1;32m    399\u001b[0m     \"\"\"\n\u001b[1;32m    400\u001b[0m     \u001b[0;32mtry\u001b[0m\u001b[0;34m:\u001b[0m\u001b[0;34m\u001b[0m\u001b[0;34m\u001b[0m\u001b[0m\n\u001b[0;32m--> 401\u001b[0;31m         return await _post(\n\u001b[0m\u001b[1;32m    402\u001b[0m             \u001b[0;34m\"log_test_results\"\u001b[0m\u001b[0;34m,\u001b[0m\u001b[0;34m\u001b[0m\u001b[0;34m\u001b[0m\u001b[0m\n\u001b[1;32m    403\u001b[0m             \u001b[0mparams\u001b[0m\u001b[0;34m=\u001b[0m\u001b[0;34m{\u001b[0m\u001b[0;34m\"dataset_type\"\u001b[0m\u001b[0;34m:\u001b[0m \u001b[0mdataset_type\u001b[0m\u001b[0;34m}\u001b[0m\u001b[0;34m,\u001b[0m\u001b[0;34m\u001b[0m\u001b[0;34m\u001b[0m\u001b[0m\n",
      "\u001b[0;32m~/Dev/github/validmind-python/validmind/api_client.py\u001b[0m in \u001b[0;36m_post\u001b[0;34m(endpoint, params, data, files)\u001b[0m\n\u001b[1;32m    218\u001b[0m     \u001b[0;32masync\u001b[0m \u001b[0;32mwith\u001b[0m \u001b[0msession\u001b[0m\u001b[0;34m.\u001b[0m\u001b[0mpost\u001b[0m\u001b[0;34m(\u001b[0m\u001b[0murl\u001b[0m\u001b[0;34m,\u001b[0m \u001b[0mdata\u001b[0m\u001b[0;34m=\u001b[0m\u001b[0m_data\u001b[0m\u001b[0;34m)\u001b[0m \u001b[0;32mas\u001b[0m \u001b[0mr\u001b[0m\u001b[0;34m:\u001b[0m\u001b[0;34m\u001b[0m\u001b[0;34m\u001b[0m\u001b[0m\n\u001b[1;32m    219\u001b[0m         \u001b[0;32mif\u001b[0m \u001b[0mr\u001b[0m\u001b[0;34m.\u001b[0m\u001b[0mstatus\u001b[0m \u001b[0;34m!=\u001b[0m \u001b[0;36m200\u001b[0m\u001b[0;34m:\u001b[0m\u001b[0;34m\u001b[0m\u001b[0;34m\u001b[0m\u001b[0m\n\u001b[0;32m--> 220\u001b[0;31m             \u001b[0mraise_api_error\u001b[0m\u001b[0;34m(\u001b[0m\u001b[0;32mawait\u001b[0m \u001b[0mr\u001b[0m\u001b[0;34m.\u001b[0m\u001b[0mtext\u001b[0m\u001b[0;34m(\u001b[0m\u001b[0;34m)\u001b[0m\u001b[0;34m)\u001b[0m\u001b[0;34m\u001b[0m\u001b[0;34m\u001b[0m\u001b[0m\n\u001b[0m\u001b[1;32m    221\u001b[0m \u001b[0;34m\u001b[0m\u001b[0m\n\u001b[1;32m    222\u001b[0m         \u001b[0;32mreturn\u001b[0m \u001b[0;32mawait\u001b[0m \u001b[0mr\u001b[0m\u001b[0;34m.\u001b[0m\u001b[0mjson\u001b[0m\u001b[0;34m(\u001b[0m\u001b[0;34m)\u001b[0m\u001b[0;34m\u001b[0m\u001b[0;34m\u001b[0m\u001b[0m\n",
      "\u001b[0;32m~/Dev/github/validmind-python/validmind/errors.py\u001b[0m in \u001b[0;36mraise_api_error\u001b[0;34m(error_string)\u001b[0m\n\u001b[1;32m    341\u001b[0m \u001b[0;34m\u001b[0m\u001b[0m\n\u001b[1;32m    342\u001b[0m     \u001b[0merror_class\u001b[0m \u001b[0;34m=\u001b[0m \u001b[0merror_map\u001b[0m\u001b[0;34m.\u001b[0m\u001b[0mget\u001b[0m\u001b[0;34m(\u001b[0m\u001b[0mapi_code\u001b[0m\u001b[0;34m,\u001b[0m \u001b[0mAPIRequestError\u001b[0m\u001b[0;34m)\u001b[0m\u001b[0;34m\u001b[0m\u001b[0;34m\u001b[0m\u001b[0m\n\u001b[0;32m--> 343\u001b[0;31m     \u001b[0;32mraise\u001b[0m \u001b[0merror_class\u001b[0m\u001b[0;34m(\u001b[0m\u001b[0mapi_description\u001b[0m\u001b[0;34m)\u001b[0m\u001b[0;34m\u001b[0m\u001b[0;34m\u001b[0m\u001b[0m\n\u001b[0m",
      "\u001b[0;31mAPIRequestError\u001b[0m: <!doctype html>\n<html lang=en>\n  <head>\n    <title>TypeError: 'ref_id' is an invalid keyword argument for TestResult\n // Werkzeug Debugger</title>\n    <link rel=\"stylesheet\" href=\"?__debugger__=yes&amp;cmd=resource&amp;f=style.css\">\n    <link rel=\"shortcut icon\"\n        href=\"?__debugger__=yes&amp;cmd=resource&amp;f=console.png\">\n    <script src=\"?__debugger__=yes&amp;cmd=resource&amp;f=debugger.js\"></script>\n    <script>\n      var CONSOLE_MODE = false,\n          EVALEX = true,\n          EVALEX_TRUSTED = false,\n          SECRET = \"2rbQ3Smx2q6ibuA3GI3S\";\n    </script>\n  </head>\n  <body style=\"background-color: #fff\">\n    <div class=\"debugger\">\n<h1>TypeError</h1>\n<div class=\"detail\">\n  <p class=\"errormsg\">TypeError: &#39;ref_id&#39; is an invalid keyword argument for TestResult\n</p>\n</div>\n<h2 class=\"traceback\">Traceback <em>(most recent call last)</em></h2>\n<div class=\"traceback\">\n  <h3></h3>\n  <ul><li><div class=\"frame\" id=\"frame-4953022288\">\n  <h4>File <cite class=\"filename\">\"/Users/juanvalidmind/Library/Caches/pypoetry/virtualenvs/validmind-backend-YQMxUQcm-py3.10/lib/python3.10/site-packages/flask/app.py\"</cite>,\n      line <em class=\"line\">2213</em>,\n      in <code class=\"function\">__call__</code></h4>\n  <div class=\"source library\"><pre class=\"line before\"><span class=\"ws\">    </span>def __call__(self, environ: dict, start_response: t.Callable) -&gt; t.Any:</pre>\n<pre class=\"line before\"><span class=\"ws\">        </span>&#34;&#34;&#34;The WSGI server calls the Flask application object as the</pre>\n<pre class=\"line before\"><span class=\"ws\">        </span>WSGI application. This calls :meth:`wsgi_app`, which can be</pre>\n<pre class=\"line before\"><span class=\"ws\">        </span>wrapped to apply middleware.</pre>\n<pre class=\"line before\"><span class=\"ws\">        </span>&#34;&#34;&#34;</pre>\n<pre class=\"line current\"><span class=\"ws\">        </span>return self.wsgi_app(environ, start_response)</pre></div>\n</div>\n\n<li><div class=\"frame\" id=\"frame-4953022960\">\n  <h4>File <cite class=\"filename\">\"/Users/juanvalidmind/Library/Caches/pypoetry/virtualenvs/validmind-backend-YQMxUQcm-py3.10/lib/python3.10/site-packages/flask/app.py\"</cite>,\n      line <em class=\"line\">2193</em>,\n      in <code class=\"function\">wsgi_app</code></h4>\n  <div class=\"source library\"><pre class=\"line before\"><span class=\"ws\">            </span>try:</pre>\n<pre class=\"line before\"><span class=\"ws\">                </span>ctx.push()</pre>\n<pre class=\"line before\"><span class=\"ws\">                </span>response = self.full_dispatch_request()</pre>\n<pre class=\"line before\"><span class=\"ws\">            </span>except Exception as e:</pre>\n<pre class=\"line before\"><span class=\"ws\">                </span>error = e</pre>\n<pre class=\"line current\"><span class=\"ws\">                </span>response = self.handle_exception(e)</pre>\n<pre class=\"line after\"><span class=\"ws\">            </span>except:  # noqa: B001</pre>\n<pre class=\"line after\"><span class=\"ws\">                </span>error = sys.exc_info()[1]</pre>\n<pre class=\"line after\"><span class=\"ws\">                </span>raise</pre>\n<pre class=\"line after\"><span class=\"ws\">            </span>return response(environ, start_response)</pre>\n<pre class=\"line after\"><span class=\"ws\">        </span>finally:</pre></div>\n</div>\n\n<li><div class=\"frame\" id=\"frame-4953023072\">\n  <h4>File <cite class=\"filename\">\"/Users/juanvalidmind/Library/Caches/pypoetry/virtualenvs/validmind-backend-YQMxUQcm-py3.10/lib/python3.10/site-packages/flask_cors/extension.py\"</cite>,\n      line <em class=\"line\">165</em>,\n      in <code class=\"function\">wrapped_function</code></h4>\n  <div class=\"source library\"><pre class=\"line before\"><span class=\"ws\">        </span># Wrap exception handlers with cross_origin</pre>\n<pre class=\"line before\"><span class=\"ws\">        </span># These error handlers will still respect the behavior of the route</pre>\n<pre class=\"line before\"><span class=\"ws\">        </span>if options.get(&#39;intercept_exceptions&#39;, True):</pre>\n<pre class=\"line before\"><span class=\"ws\">            </span>def _after_request_decorator(f):</pre>\n<pre class=\"line before\"><span class=\"ws\">                </span>def wrapped_function(*args, **kwargs):</pre>\n<pre class=\"line current\"><span class=\"ws\">                    </span>return cors_after_request(app.make_response(f(*args, **kwargs)))</pre>\n<pre class=\"line after\"><span class=\"ws\">                </span>return wrapped_function</pre>\n<pre class=\"line after\"><span class=\"ws\"></span> </pre>\n<pre class=\"line after\"><span class=\"ws\">            </span>if hasattr(app, &#39;handle_exception&#39;):</pre>\n<pre class=\"line after\"><span class=\"ws\">                </span>app.handle_exception = _after_request_decorator(</pre>\n<pre class=\"line after\"><span class=\"ws\">                    </span>app.handle_exception)</pre></div>\n</div>\n\n<li><div class=\"frame\" id=\"frame-4953023184\">\n  <h4>File <cite class=\"filename\">\"/Users/juanvalidmind/Library/Caches/pypoetry/virtualenvs/validmind-backend-YQMxUQcm-py3.10/lib/python3.10/site-packages/flask/app.py\"</cite>,\n      line <em class=\"line\">2190</em>,\n      in <code class=\"function\">wsgi_app</code></h4>\n  <div class=\"source library\"><pre class=\"line before\"><span class=\"ws\">        </span>ctx = self.request_context(environ)</pre>\n<pre class=\"line before\"><span class=\"ws\">        </span>error: BaseException | None = None</pre>\n<pre class=\"line before\"><span class=\"ws\">        </span>try:</pre>\n<pre class=\"line before\"><span class=\"ws\">            </span>try:</pre>\n<pre class=\"line before\"><span class=\"ws\">                </span>ctx.push()</pre>\n<pre class=\"line current\"><span class=\"ws\">                </span>response = self.full_dispatch_request()</pre>\n<pre class=\"line after\"><span class=\"ws\">            </span>except Exception as e:</pre>\n<pre class=\"line after\"><span class=\"ws\">                </span>error = e</pre>\n<pre class=\"line after\"><span class=\"ws\">                </span>response = self.handle_exception(e)</pre>\n<pre class=\"line after\"><span class=\"ws\">            </span>except:  # noqa: B001</pre>\n<pre class=\"line after\"><span class=\"ws\">                </span>error = sys.exc_info()[1]</pre></div>\n</div>\n\n<li><div class=\"frame\" id=\"frame-4953023296\">\n  <h4>File <cite class=\"filename\">\"/Users/juanvalidmind/Library/Caches/pypoetry/virtualenvs/validmind-backend-YQMxUQcm-py3.10/lib/python3.10/site-packages/flask/app.py\"</cite>,\n      line <em class=\"line\">1486</em>,\n      in <code class=\"function\">full_dispatch_request</code></h4>\n  <div class=\"source library\"><pre class=\"line before\"><span class=\"ws\">            </span>request_started.send(self, _async_wrapper=self.ensure_sync)</pre>\n<pre class=\"line before\"><span class=\"ws\">            </span>rv = self.preprocess_request()</pre>\n<pre class=\"line before\"><span class=\"ws\">            </span>if rv is None:</pre>\n<pre class=\"line before\"><span class=\"ws\">                </span>rv = self.dispatch_request()</pre>\n<pre class=\"line before\"><span class=\"ws\">        </span>except Exception as e:</pre>\n<pre class=\"line current\"><span class=\"ws\">            </span>rv = self.handle_user_exception(e)</pre>\n<pre class=\"line after\"><span class=\"ws\">        </span>return self.finalize_request(rv)</pre>\n<pre class=\"line after\"><span class=\"ws\"></span> </pre>\n<pre class=\"line after\"><span class=\"ws\">    </span>def finalize_request(</pre>\n<pre class=\"line after\"><span class=\"ws\">        </span>self,</pre>\n<pre class=\"line after\"><span class=\"ws\">        </span>rv: ft.ResponseReturnValue | HTTPException,</pre></div>\n</div>\n\n<li><div class=\"frame\" id=\"frame-4953023408\">\n  <h4>File <cite class=\"filename\">\"/Users/juanvalidmind/Library/Caches/pypoetry/virtualenvs/validmind-backend-YQMxUQcm-py3.10/lib/python3.10/site-packages/flask_cors/extension.py\"</cite>,\n      line <em class=\"line\">165</em>,\n      in <code class=\"function\">wrapped_function</code></h4>\n  <div class=\"source library\"><pre class=\"line before\"><span class=\"ws\">        </span># Wrap exception handlers with cross_origin</pre>\n<pre class=\"line before\"><span class=\"ws\">        </span># These error handlers will still respect the behavior of the route</pre>\n<pre class=\"line before\"><span class=\"ws\">        </span>if options.get(&#39;intercept_exceptions&#39;, True):</pre>\n<pre class=\"line before\"><span class=\"ws\">            </span>def _after_request_decorator(f):</pre>\n<pre class=\"line before\"><span class=\"ws\">                </span>def wrapped_function(*args, **kwargs):</pre>\n<pre class=\"line current\"><span class=\"ws\">                    </span>return cors_after_request(app.make_response(f(*args, **kwargs)))</pre>\n<pre class=\"line after\"><span class=\"ws\">                </span>return wrapped_function</pre>\n<pre class=\"line after\"><span class=\"ws\"></span> </pre>\n<pre class=\"line after\"><span class=\"ws\">            </span>if hasattr(app, &#39;handle_exception&#39;):</pre>\n<pre class=\"line after\"><span class=\"ws\">                </span>app.handle_exception = _after_request_decorator(</pre>\n<pre class=\"line after\"><span class=\"ws\">                    </span>app.handle_exception)</pre></div>\n</div>\n\n<li><div class=\"frame\" id=\"frame-4953023520\">\n  <h4>File <cite class=\"filename\">\"/Users/juanvalidmind/Library/Caches/pypoetry/virtualenvs/validmind-backend-YQMxUQcm-py3.10/lib/python3.10/site-packages/flask/app.py\"</cite>,\n      line <em class=\"line\">1484</em>,\n      in <code class=\"function\">full_dispatch_request</code></h4>\n  <div class=\"source library\"><pre class=\"line before\"><span class=\"ws\"></span> </pre>\n<pre class=\"line before\"><span class=\"ws\">        </span>try:</pre>\n<pre class=\"line before\"><span class=\"ws\">            </span>request_started.send(self, _async_wrapper=self.ensure_sync)</pre>\n<pre class=\"line before\"><span class=\"ws\">            </span>rv = self.preprocess_request()</pre>\n<pre class=\"line before\"><span class=\"ws\">            </span>if rv is None:</pre>\n<pre class=\"line current\"><span class=\"ws\">                </span>rv = self.dispatch_request()</pre>\n<pre class=\"line after\"><span class=\"ws\">        </span>except Exception as e:</pre>\n<pre class=\"line after\"><span class=\"ws\">            </span>rv = self.handle_user_exception(e)</pre>\n<pre class=\"line after\"><span class=\"ws\">        </span>return self.finalize_request(rv)</pre>\n<pre class=\"line after\"><span class=\"ws\"></span> </pre>\n<pre class=\"line after\"><span class=\"ws\">    </span>def finalize_request(</pre></div>\n</div>\n\n<li><div class=\"frame\" id=\"frame-4953023632\">\n  <h4>File <cite class=\"filename\">\"/Users/juanvalidmind/Library/Caches/pypoetry/virtualenvs/validmind-backend-YQMxUQcm-py3.10/lib/python3.10/site-packages/flask/app.py\"</cite>,\n      line <em class=\"line\">1469</em>,\n      in <code class=\"function\">dispatch_request</code></h4>\n  <div class=\"source library\"><pre class=\"line before\"><span class=\"ws\">            </span>and req.method == &#34;OPTIONS&#34;</pre>\n<pre class=\"line before\"><span class=\"ws\">        </span>):</pre>\n<pre class=\"line before\"><span class=\"ws\">            </span>return self.make_default_options_response()</pre>\n<pre class=\"line before\"><span class=\"ws\">        </span># otherwise dispatch to the handler for that endpoint</pre>\n<pre class=\"line before\"><span class=\"ws\">        </span>view_args: dict[str, t.Any] = req.view_args  # type: ignore[assignment]</pre>\n<pre class=\"line current\"><span class=\"ws\">        </span>return self.ensure_sync(self.view_functions[rule.endpoint])(**view_args)</pre>\n<pre class=\"line after\"><span class=\"ws\"></span> </pre>\n<pre class=\"line after\"><span class=\"ws\">    </span>def full_dispatch_request(self) -&gt; Response:</pre>\n<pre class=\"line after\"><span class=\"ws\">        </span>&#34;&#34;&#34;Dispatches the request and on top of that performs request</pre>\n<pre class=\"line after\"><span class=\"ws\">        </span>pre and postprocessing as well as HTTP exception catching and</pre>\n<pre class=\"line after\"><span class=\"ws\">        </span>error handling.</pre></div>\n</div>\n\n<li><div class=\"frame\" id=\"frame-4953023744\">\n  <h4>File <cite class=\"filename\">\"/Users/juanvalidmind/Dev/github/validmind/backend/src/backend/auth.py\"</cite>,\n      line <em class=\"line\">419</em>,\n      in <code class=\"function\">decorated</code></h4>\n  <div class=\"source \"><pre class=\"line before\"><span class=\"ws\">                </span>},</pre>\n<pre class=\"line before\"><span class=\"ws\">                </span>401,</pre>\n<pre class=\"line before\"><span class=\"ws\">            </span>)</pre>\n<pre class=\"line before\"><span class=\"ws\"></span> </pre>\n<pre class=\"line before\"><span class=\"ws\">        </span>g.client = client</pre>\n<pre class=\"line current\"><span class=\"ws\">        </span>return f(*args, **kwargs)</pre>\n<pre class=\"line after\"><span class=\"ws\"></span> </pre>\n<pre class=\"line after\"><span class=\"ws\">    </span>return decorated</pre>\n<pre class=\"line after\"><span class=\"ws\"></span> </pre>\n<pre class=\"line after\"><span class=\"ws\"></span> </pre>\n<pre class=\"line after\"><span class=\"ws\"></span>def requires_api_project(f):</pre></div>\n</div>\n\n<li><div class=\"frame\" id=\"frame-4953023856\">\n  <h4>File <cite class=\"filename\">\"/Users/juanvalidmind/Dev/github/validmind/backend/src/backend/auth.py\"</cite>,\n      line <em class=\"line\">466</em>,\n      in <code class=\"function\">decorated</code></h4>\n  <div class=\"source \"><pre class=\"line before\"><span class=\"ws\">                </span>},</pre>\n<pre class=\"line before\"><span class=\"ws\">                </span>401,</pre>\n<pre class=\"line before\"><span class=\"ws\">            </span>)</pre>\n<pre class=\"line before\"><span class=\"ws\"></span> </pre>\n<pre class=\"line before\"><span class=\"ws\">        </span>g.project = project</pre>\n<pre class=\"line current\"><span class=\"ws\">        </span>return f(*args, **kwargs)</pre>\n<pre class=\"line after\"><span class=\"ws\"></span> </pre>\n<pre class=\"line after\"><span class=\"ws\">    </span>return decorated</pre>\n<pre class=\"line after\"><span class=\"ws\"></span> </pre>\n<pre class=\"line after\"><span class=\"ws\"></span> </pre>\n<pre class=\"line after\"><span class=\"ws\"></span>def requires_test_run(f):</pre></div>\n</div>\n\n<li><div class=\"frame\" id=\"frame-4953023968\">\n  <h4>File <cite class=\"filename\">\"/Users/juanvalidmind/Dev/github/validmind/backend/src/backend/routes/tracking.py\"</cite>,\n      line <em class=\"line\">249</em>,\n      in <code class=\"function\">log_test_results</code></h4>\n  <div class=\"source \"><pre class=\"line before\"><span class=\"ws\"></span> </pre>\n<pre class=\"line before\"><span class=\"ws\">    </span>if run_cuid is None:</pre>\n<pre class=\"line before\"><span class=\"ws\">        </span>return bad_request(&#34;run_cuid query parameter is required&#34;)</pre>\n<pre class=\"line before\"><span class=\"ws\"></span> </pre>\n<pre class=\"line before\"><span class=\"ws\">    </span>try:</pre>\n<pre class=\"line current\"><span class=\"ws\">        </span>result = TestResult.log_from_json(g.project, run_cuid, result_json)</pre>\n<pre class=\"line after\"><span class=\"ws\">        </span>Event.send_tracking_logged_test_result(g.project, result, g.client)</pre>\n<pre class=\"line after\"><span class=\"ws\">    </span>except (sqlalchemy.exc.SQLAlchemyError, ValueError) as e:</pre>\n<pre class=\"line after\"><span class=\"ws\">        </span>logger.exception(e)</pre>\n<pre class=\"line after\"><span class=\"ws\">        </span>return bad_request(e)</pre>\n<pre class=\"line after\"><span class=\"ws\"></span> </pre></div>\n</div>\n\n<li><div class=\"frame\" id=\"frame-4953028784\">\n  <h4>File <cite class=\"filename\">\"/Users/juanvalidmind/Dev/github/validmind/backend/src/backend/db/test_result.py\"</cite>,\n      line <em class=\"line\">133</em>,\n      in <code class=\"function\">log_from_json</code></h4>\n  <div class=\"source \"><pre class=\"line before\"><span class=\"ws\">        </span>test_run = project.test_runs.filter_by(cuid=run_cuid).first()</pre>\n<pre class=\"line before\"><span class=\"ws\"></span> </pre>\n<pre class=\"line before\"><span class=\"ws\">        </span>if test_run is None:</pre>\n<pre class=\"line before\"><span class=\"ws\">            </span>return ValueError(f&#34;TestRun with CUID=&#39;{run_cuid}&#39; not found&#34;)</pre>\n<pre class=\"line before\"><span class=\"ws\"></span> </pre>\n<pre class=\"line current\"><span class=\"ws\">        </span>result = cls(**result_json)</pre>\n<pre class=\"line after\"><span class=\"ws\">        </span>result.test_run = test_run</pre>\n<pre class=\"line after\"><span class=\"ws\">        </span>result.project_id = project.id</pre>\n<pre class=\"line after\"><span class=\"ws\"></span> </pre>\n<pre class=\"line after\"><span class=\"ws\">        </span>db.session.add(result)</pre>\n<pre class=\"line after\"><span class=\"ws\">        </span>db.session.commit()</pre></div>\n</div>\n\n<li><div class=\"frame\" id=\"frame-4954637472\">\n  <h4>File <cite class=\"filename\">\"&lt;string&gt;\"</cite>,\n      line <em class=\"line\">4</em>,\n      in <code class=\"function\">__init__</code></h4>\n  <div class=\"source \"></div>\n</div>\n\n<li><div class=\"frame\" id=\"frame-4954637584\">\n  <h4>File <cite class=\"filename\">\"/Users/juanvalidmind/Library/Caches/pypoetry/virtualenvs/validmind-backend-YQMxUQcm-py3.10/lib/python3.10/site-packages/sqlalchemy/orm/state.py\"</cite>,\n      line <em class=\"line\">481</em>,\n      in <code class=\"function\">_initialize_instance</code></h4>\n  <div class=\"source library\"><pre class=\"line before\"><span class=\"ws\">        </span>manager.dispatch.init(self, args, kwargs)</pre>\n<pre class=\"line before\"><span class=\"ws\"></span> </pre>\n<pre class=\"line before\"><span class=\"ws\">        </span>try:</pre>\n<pre class=\"line before\"><span class=\"ws\">            </span>return manager.original_init(*mixed[1:], **kwargs)</pre>\n<pre class=\"line before\"><span class=\"ws\">        </span>except:</pre>\n<pre class=\"line current\"><span class=\"ws\">            </span>with util.safe_reraise():</pre>\n<pre class=\"line after\"><span class=\"ws\">                </span>manager.dispatch.init_failure(self, args, kwargs)</pre>\n<pre class=\"line after\"><span class=\"ws\"></span> </pre>\n<pre class=\"line after\"><span class=\"ws\">    </span>def get_history(self, key, passive):</pre>\n<pre class=\"line after\"><span class=\"ws\">        </span>return self.manager[key].impl.get_history(self, self.dict, passive)</pre>\n<pre class=\"line after\"><span class=\"ws\"></span> </pre></div>\n</div>\n\n<li><div class=\"frame\" id=\"frame-4954706368\">\n  <h4>File <cite class=\"filename\">\"/Users/juanvalidmind/Library/Caches/pypoetry/virtualenvs/validmind-backend-YQMxUQcm-py3.10/lib/python3.10/site-packages/sqlalchemy/util/langhelpers.py\"</cite>,\n      line <em class=\"line\">70</em>,\n      in <code class=\"function\">__exit__</code></h4>\n  <div class=\"source library\"><pre class=\"line before\"><span class=\"ws\">        </span># see #2703 for notes</pre>\n<pre class=\"line before\"><span class=\"ws\">        </span>if type_ is None:</pre>\n<pre class=\"line before\"><span class=\"ws\">            </span>exc_type, exc_value, exc_tb = self._exc_info</pre>\n<pre class=\"line before\"><span class=\"ws\">            </span>self._exc_info = None  # remove potential circular references</pre>\n<pre class=\"line before\"><span class=\"ws\">            </span>if not self.warn_only:</pre>\n<pre class=\"line current\"><span class=\"ws\">                </span>compat.raise_(</pre>\n<pre class=\"line after\"><span class=\"ws\">                    </span>exc_value,</pre>\n<pre class=\"line after\"><span class=\"ws\">                    </span>with_traceback=exc_tb,</pre>\n<pre class=\"line after\"><span class=\"ws\">                </span>)</pre>\n<pre class=\"line after\"><span class=\"ws\">        </span>else:</pre>\n<pre class=\"line after\"><span class=\"ws\">            </span>if not compat.py3k and self._exc_info and self._exc_info[1]:</pre></div>\n</div>\n\n<li><div class=\"frame\" id=\"frame-4954778400\">\n  <h4>File <cite class=\"filename\">\"/Users/juanvalidmind/Library/Caches/pypoetry/virtualenvs/validmind-backend-YQMxUQcm-py3.10/lib/python3.10/site-packages/sqlalchemy/util/compat.py\"</cite>,\n      line <em class=\"line\">211</em>,\n      in <code class=\"function\">raise_</code></h4>\n  <div class=\"source library\"><pre class=\"line before\"><span class=\"ws\">            </span># intermediary exception does not change, but we can&#39;t figure</pre>\n<pre class=\"line before\"><span class=\"ws\">            </span># that out.</pre>\n<pre class=\"line before\"><span class=\"ws\">            </span>exception.__cause__ = replace_context</pre>\n<pre class=\"line before\"><span class=\"ws\"></span> </pre>\n<pre class=\"line before\"><span class=\"ws\">        </span>try:</pre>\n<pre class=\"line current\"><span class=\"ws\">            </span>raise exception</pre>\n<pre class=\"line after\"><span class=\"ws\">        </span>finally:</pre>\n<pre class=\"line after\"><span class=\"ws\">            </span># credit to</pre>\n<pre class=\"line after\"><span class=\"ws\">            </span># https://cosmicpercolator.com/2016/01/13/exception-leaks-in-python-2-and-3/</pre>\n<pre class=\"line after\"><span class=\"ws\">            </span># as the __traceback__ object creates a cycle</pre>\n<pre class=\"line after\"><span class=\"ws\">            </span>del exception, replace_context, from_, with_traceback</pre></div>\n</div>\n\n<li><div class=\"frame\" id=\"frame-4954917120\">\n  <h4>File <cite class=\"filename\">\"/Users/juanvalidmind/Library/Caches/pypoetry/virtualenvs/validmind-backend-YQMxUQcm-py3.10/lib/python3.10/site-packages/sqlalchemy/orm/state.py\"</cite>,\n      line <em class=\"line\">479</em>,\n      in <code class=\"function\">_initialize_instance</code></h4>\n  <div class=\"source library\"><pre class=\"line before\"><span class=\"ws\">        </span>manager = self.manager</pre>\n<pre class=\"line before\"><span class=\"ws\"></span> </pre>\n<pre class=\"line before\"><span class=\"ws\">        </span>manager.dispatch.init(self, args, kwargs)</pre>\n<pre class=\"line before\"><span class=\"ws\"></span> </pre>\n<pre class=\"line before\"><span class=\"ws\">        </span>try:</pre>\n<pre class=\"line current\"><span class=\"ws\">            </span>return manager.original_init(*mixed[1:], **kwargs)</pre>\n<pre class=\"line after\"><span class=\"ws\">        </span>except:</pre>\n<pre class=\"line after\"><span class=\"ws\">            </span>with util.safe_reraise():</pre>\n<pre class=\"line after\"><span class=\"ws\">                </span>manager.dispatch.init_failure(self, args, kwargs)</pre>\n<pre class=\"line after\"><span class=\"ws\"></span> </pre>\n<pre class=\"line after\"><span class=\"ws\">    </span>def get_history(self, key, passive):</pre></div>\n</div>\n\n<li><div class=\"frame\" id=\"frame-4954917232\">\n  <h4>File <cite class=\"filename\">\"/Users/juanvalidmind/Library/Caches/pypoetry/virtualenvs/validmind-backend-YQMxUQcm-py3.10/lib/python3.10/site-packages/sqlalchemy/orm/decl_base.py\"</cite>,\n      line <em class=\"line\">1197</em>,\n      in <code class=\"function\">_declarative_constructor</code></h4>\n  <div class=\"source library\"><pre class=\"line before\"><span class=\"ws\">    </span>for example, any mapped columns or relationships.</pre>\n<pre class=\"line before\"><span class=\"ws\">    </span>&#34;&#34;&#34;</pre>\n<pre class=\"line before\"><span class=\"ws\">    </span>cls_ = type(self)</pre>\n<pre class=\"line before\"><span class=\"ws\">    </span>for k in kwargs:</pre>\n<pre class=\"line before\"><span class=\"ws\">        </span>if not hasattr(cls_, k):</pre>\n<pre class=\"line current\"><span class=\"ws\">            </span>raise TypeError(</pre>\n<pre class=\"line after\"><span class=\"ws\">                </span>&#34;%r is an invalid keyword argument for %s&#34; % (k, cls_.__name__)</pre>\n<pre class=\"line after\"><span class=\"ws\">            </span>)</pre>\n<pre class=\"line after\"><span class=\"ws\">        </span>setattr(self, k, kwargs[k])</pre>\n<pre class=\"line after\"><span class=\"ws\"></span> </pre>\n<pre class=\"line after\"><span class=\"ws\"></span> </pre></div>\n</div>\n</ul>\n  <blockquote>TypeError: &#39;ref_id&#39; is an invalid keyword argument for TestResult\n</blockquote>\n</div>\n\n<div class=\"plain\">\n    <p>\n      This is the Copy/Paste friendly version of the traceback.\n    </p>\n    <textarea cols=\"50\" rows=\"10\" name=\"code\" readonly>Traceback (most recent call last):\n  File &#34;/Users/juanvalidmind/Library/Caches/pypoetry/virtualenvs/validmind-backend-YQMxUQcm-py3.10/lib/python3.10/site-packages/flask/app.py&#34;, line 2213, in __call__\n    return self.wsgi_app(environ, start_response)\n  File &#34;/Users/juanvalidmind/Library/Caches/pypoetry/virtualenvs/validmind-backend-YQMxUQcm-py3.10/lib/python3.10/site-packages/flask/app.py&#34;, line 2193, in wsgi_app\n    response = self.handle_exception(e)\n  File &#34;/Users/juanvalidmind/Library/Caches/pypoetry/virtualenvs/validmind-backend-YQMxUQcm-py3.10/lib/python3.10/site-packages/flask_cors/extension.py&#34;, line 165, in wrapped_function\n    return cors_after_request(app.make_response(f(*args, **kwargs)))\n  File &#34;/Users/juanvalidmind/Library/Caches/pypoetry/virtualenvs/validmind-backend-YQMxUQcm-py3.10/lib/python3.10/site-packages/flask/app.py&#34;, line 2190, in wsgi_app\n    response = self.full_dispatch_request()\n  File &#34;/Users/juanvalidmind/Library/Caches/pypoetry/virtualenvs/validmind-backend-YQMxUQcm-py3.10/lib/python3.10/site-packages/flask/app.py&#34;, line 1486, in full_dispatch_request\n    rv = self.handle_user_exception(e)\n  File &#34;/Users/juanvalidmind/Library/Caches/pypoetry/virtualenvs/validmind-backend-YQMxUQcm-py3.10/lib/python3.10/site-packages/flask_cors/extension.py&#34;, line 165, in wrapped_function\n    return cors_after_request(app.make_response(f(*args, **kwargs)))\n  File &#34;/Users/juanvalidmind/Library/Caches/pypoetry/virtualenvs/validmind-backend-YQMxUQcm-py3.10/lib/python3.10/site-packages/flask/app.py&#34;, line 1484, in full_dispatch_request\n    rv = self.dispatch_request()\n  File &#34;/Users/juanvalidmind/Library/Caches/pypoetry/virtualenvs/validmind-backend-YQMxUQcm-py3.10/lib/python3.10/site-packages/flask/app.py&#34;, line 1469, in dispatch_request\n    return self.ensure_sync(self.view_functions[rule.endpoint])(**view_args)\n  File &#34;/Users/juanvalidmind/Dev/github/validmind/backend/src/backend/auth.py&#34;, line 419, in decorated\n    return f(*args, **kwargs)\n  File &#34;/Users/juanvalidmind/Dev/github/validmind/backend/src/backend/auth.py&#34;, line 466, in decorated\n    return f(*args, **kwargs)\n  File &#34;/Users/juanvalidmind/Dev/github/validmind/backend/src/backend/routes/tracking.py&#34;, line 249, in log_test_results\n    result = TestResult.log_from_json(g.project, run_cuid, result_json)\n  File &#34;/Users/juanvalidmind/Dev/github/validmind/backend/src/backend/db/test_result.py&#34;, line 133, in log_from_json\n    result = cls(**result_json)\n  File &#34;&lt;string&gt;&#34;, line 4, in __init__\n  File &#34;/Users/juanvalidmind/Library/Caches/pypoetry/virtualenvs/validmind-backend-YQMxUQcm-py3.10/lib/python3.10/site-packages/sqlalchemy/orm/state.py&#34;, line 481, in _initialize_instance\n    with util.safe_reraise():\n  File &#34;/Users/juanvalidmind/Library/Caches/pypoetry/virtualenvs/validmind-backend-YQMxUQcm-py3.10/lib/python3.10/site-packages/sqlalchemy/util/langhelpers.py&#34;, line 70, in __exit__\n    compat.raise_(\n  File &#34;/Users/juanvalidmind/Library/Caches/pypoetry/virtualenvs/validmind-backend-YQMxUQcm-py3.10/lib/python3.10/site-packages/sqlalchemy/util/compat.py&#34;, line 211, in raise_\n    raise exception\n  File &#34;/Users/juanvalidmind/Library/Caches/pypoetry/virtualenvs/validmind-backend-YQMxUQcm-py3.10/lib/python3.10/site-packages/sqlalchemy/orm/state.py&#34;, line 479, in _initialize_instance\n    return manager.original_init(*mixed[1:], **kwargs)\n  File &#34;/Users/juanvalidmind/Library/Caches/pypoetry/virtualenvs/validmind-backend-YQMxUQcm-py3.10/lib/python3.10/site-packages/sqlalchemy/orm/decl_base.py&#34;, line 1197, in _declarative_constructor\n    raise TypeError(\nTypeError: &#39;ref_id&#39; is an invalid keyword argument for TestResult\n</textarea>\n</div>\n<div class=\"explanation\">\n  The debugger caught an exception in your WSGI application.  You can now\n  look at the traceback which led to the error.  <span class=\"nojavascript\">\n  If you enable JavaScript you can also use additional features such as code\n  execution (if the evalex feature is enabled), automatic pasting of the\n  exceptions and much more.</span>\n</div>\n      <div class=\"footer\">\n        Brought to you by <strong class=\"arthur\">DON'T PANIC</strong>, your\n        friendly Werkzeug powered traceback interpreter.\n      </div>\n    </div>\n\n    <div class=\"pin-prompt\">\n      <div class=\"inner\">\n        <h3>Console Locked</h3>\n        <p>\n          The console is locked and needs to be unlocked by entering the PIN.\n          You can find the PIN printed out on the standard output of your\n          shell that runs the server.\n        <form>\n          <p>PIN:\n            <input type=text name=pin size=14>\n            <input type=submit name=btn value=\"Confirm Pin\">\n        </form>\n      </div>\n    </div>\n  </body>\n</html>\n\n<!--\n\nTraceback (most recent call last):\n  File \"/Users/juanvalidmind/Library/Caches/pypoetry/virtualenvs/validmind-backend-YQMxUQcm-py3.10/lib/python3.10/site-packages/flask/app.py\", line 2213, in __call__\n    return self.wsgi_app(environ, start_response)\n  File \"/Users/juanvalidmind/Library/Caches/pypoetry/virtualenvs/validmind-backend-YQMxUQcm-py3.10/lib/python3.10/site-packages/flask/app.py\", line 2193, in wsgi_app\n    response = self.handle_exception(e)\n  File \"/Users/juanvalidmind/Library/Caches/pypoetry/virtualenvs/validmind-backend-YQMxUQcm-py3.10/lib/python3.10/site-packages/flask_cors/extension.py\", line 165, in wrapped_function\n    return cors_after_request(app.make_response(f(*args, **kwargs)))\n  File \"/Users/juanvalidmind/Library/Caches/pypoetry/virtualenvs/validmind-backend-YQMxUQcm-py3.10/lib/python3.10/site-packages/flask/app.py\", line 2190, in wsgi_app\n    response = self.full_dispatch_request()\n  File \"/Users/juanvalidmind/Library/Caches/pypoetry/virtualenvs/validmind-backend-YQMxUQcm-py3.10/lib/python3.10/site-packages/flask/app.py\", line 1486, in full_dispatch_request\n    rv = self.handle_user_exception(e)\n  File \"/Users/juanvalidmind/Library/Caches/pypoetry/virtualenvs/validmind-backend-YQMxUQcm-py3.10/lib/python3.10/site-packages/flask_cors/extension.py\", line 165, in wrapped_function\n    return cors_after_request(app.make_response(f(*args, **kwargs)))\n  File \"/Users/juanvalidmind/Library/Caches/pypoetry/virtualenvs/validmind-backend-YQMxUQcm-py3.10/lib/python3.10/site-packages/flask/app.py\", line 1484, in full_dispatch_request\n    rv = self.dispatch_request()\n  File \"/Users/juanvalidmind/Library/Caches/pypoetry/virtualenvs/validmind-backend-YQMxUQcm-py3.10/lib/python3.10/site-packages/flask/app.py\", line 1469, in dispatch_request\n    return self.ensure_sync(self.view_functions[rule.endpoint])(**view_args)\n  File \"/Users/juanvalidmind/Dev/github/validmind/backend/src/backend/auth.py\", line 419, in decorated\n    return f(*args, **kwargs)\n  File \"/Users/juanvalidmind/Dev/github/validmind/backend/src/backend/auth.py\", line 466, in decorated\n    return f(*args, **kwargs)\n  File \"/Users/juanvalidmind/Dev/github/validmind/backend/src/backend/routes/tracking.py\", line 249, in log_test_results\n    result = TestResult.log_from_json(g.project, run_cuid, result_json)\n  File \"/Users/juanvalidmind/Dev/github/validmind/backend/src/backend/db/test_result.py\", line 133, in log_from_json\n    result = cls(**result_json)\n  File \"<string>\", line 4, in __init__\n  File \"/Users/juanvalidmind/Library/Caches/pypoetry/virtualenvs/validmind-backend-YQMxUQcm-py3.10/lib/python3.10/site-packages/sqlalchemy/orm/state.py\", line 481, in _initialize_instance\n    with util.safe_reraise():\n  File \"/Users/juanvalidmind/Library/Caches/pypoetry/virtualenvs/validmind-backend-YQMxUQcm-py3.10/lib/python3.10/site-packages/sqlalchemy/util/langhelpers.py\", line 70, in __exit__\n    compat.raise_(\n  File \"/Users/juanvalidmind/Library/Caches/pypoetry/virtualenvs/validmind-backend-YQMxUQcm-py3.10/lib/python3.10/site-packages/sqlalchemy/util/compat.py\", line 211, in raise_\n    raise exception\n  File \"/Users/juanvalidmind/Library/Caches/pypoetry/virtualenvs/validmind-backend-YQMxUQcm-py3.10/lib/python3.10/site-packages/sqlalchemy/orm/state.py\", line 479, in _initialize_instance\n    return manager.original_init(*mixed[1:], **kwargs)\n  File \"/Users/juanvalidmind/Library/Caches/pypoetry/virtualenvs/validmind-backend-YQMxUQcm-py3.10/lib/python3.10/site-packages/sqlalchemy/orm/decl_base.py\", line 1197, in _declarative_constructor\n    raise TypeError(\nTypeError: 'ref_id' is an invalid keyword argument for TestResult\n\n\n-->\n"
     ]
    }
   ],
   "source": [
    "from validmind.vm_models.test_context import TestContext\n",
    "from validmind.tests.data_validation.TimeSeriesMissingValues import TimeSeriesMissingValues\n",
    "\n",
    "vm_df = vm.init_dataset(dataset=df)\n",
    "test_context = TestContext(dataset=vm_df)\n",
    "\n",
    "params = {\"min_threshold\": 2}\n",
    "\n",
    "metric = TimeSeriesMissingValues(test_context, params)\n",
    "metric.run()\n",
    "await metric.result.log()\n",
    "metric.result.show()"
   ]
  },
  {
   "attachments": {},
   "cell_type": "markdown",
   "metadata": {},
   "source": [
    "#### Outliers "
   ]
  },
  {
   "cell_type": "code",
   "execution_count": null,
   "metadata": {},
   "outputs": [],
   "source": [
    "from validmind.tests.data_validation.TimeSeriesOutliers import TimeSeriesOutliers\n",
    "\n",
    "params = {\"zscore_threshold\": 3}\n",
    "\n",
    "metric = TimeSeriesOutliers(test_context, params)\n",
    "metric.run()\n",
    "# await metric.result.log()\n",
    "metric.result.show()"
   ]
  },
  {
   "attachments": {},
   "cell_type": "markdown",
   "metadata": {},
   "source": [
    "#### Frequency"
   ]
  },
  {
   "cell_type": "code",
   "execution_count": null,
   "metadata": {},
   "outputs": [],
   "source": [
    "from validmind.tests.data_validation.TimeSeriesFrequency import TimeSeriesFrequency\n",
    "\n",
    "metric = TimeSeriesFrequency(test_context)\n",
    "metric.run()\n",
    "# await metric.result.log()\n",
    "metric.result.show()"
   ]
  },
  {
   "attachments": {},
   "cell_type": "markdown",
   "metadata": {},
   "source": [
    "## Data Preparation"
   ]
  },
  {
   "cell_type": "code",
   "execution_count": null,
   "metadata": {},
   "outputs": [],
   "source": [
    "# Resample to quarterly data (end of October)\n",
    "df = df.resample('QS-OCT').mean()\n",
    "\n",
    "# Remove all missing values\n",
    "df = df.dropna()\n",
    "\n",
    "# Take the first difference across all variables\n",
    "df = df.diff().dropna()\n",
    "\n",
    "# Remove data from 2020 onwards\n",
    "df = df[df.index.year < 2020]"
   ]
  },
  {
   "cell_type": "code",
   "execution_count": null,
   "metadata": {},
   "outputs": [],
   "source": [
    "from validmind.vm_models.test_context import TestContext\n",
    "from validmind.tests.data_validation.TimeSeriesMissingValues import TimeSeriesMissingValues\n",
    "\n",
    "vm_df = vm.init_dataset(dataset=df)\n",
    "test_context = TestContext(dataset=vm_df)\n",
    "\n",
    "params = {\"min_threshold\": 2}\n",
    "\n",
    "metric = TimeSeriesMissingValues(test_context, params)\n",
    "metric.run()\n",
    "# await metric.result.log()\n",
    "metric.result.show()"
   ]
  },
  {
   "cell_type": "code",
   "execution_count": null,
   "metadata": {},
   "outputs": [],
   "source": [
    "from validmind.tests.data_validation.TimeSeriesOutliers import TimeSeriesOutliers\n",
    "\n",
    "params = {\"zscore_threshold\": 3}\n",
    "\n",
    "metric = TimeSeriesOutliers(test_context, params)\n",
    "metric.run()\n",
    "# await metric.result.log()\n",
    "metric.result.show()"
   ]
  },
  {
   "cell_type": "code",
   "execution_count": null,
   "metadata": {},
   "outputs": [],
   "source": [
    "from validmind.tests.data_validation.TimeSeriesFrequency import TimeSeriesFrequency\n",
    "\n",
    "metric = TimeSeriesFrequency(test_context)\n",
    "metric.run()\n",
    "# await metric.result.log()\n",
    "metric.result.show()"
   ]
  },
  {
   "attachments": {},
   "cell_type": "markdown",
   "metadata": {},
   "source": [
    "## Data Sampling"
   ]
  },
  {
   "attachments": {},
   "cell_type": "markdown",
   "metadata": {},
   "source": [
    "#### Sampling Method\n",
    "\n",
    "We use time series sampling to create our training and testing sets, a crucial step in our macro-to-micro model. This method maintains the temporal order of the data, preserving the inherent dependencies in our time series of macroeconomic indicators and default rates."
   ]
  },
  {
   "cell_type": "code",
   "execution_count": null,
   "metadata": {},
   "outputs": [],
   "source": [
    "# Define the split date\n",
    "split_date = '2018-01-01'\n",
    "\n",
    "# Split data into train and test \n",
    "df_train = df.loc[df.index < split_date]\n",
    "df_test = df.loc[df.index >= split_date]\n",
    "\n",
    "# Split the train and test sets into X and y\n",
    "X_train = df_train.drop(target_column, axis=1)\n",
    "y_train = df_train[target_column]\n",
    "X_test = df_test.drop(target_column, axis=1)\n",
    "y_test = df_test[target_column]\n",
    "\n",
    "# Concatenate X_train with y_train to form df_train\n",
    "df_train = pd.concat([X_train, y_train], axis=1)\n",
    "\n",
    "# Concatenate X_test with y_test to form df_test\n",
    "df_test = pd.concat([X_test, y_test], axis=1)"
   ]
  },
  {
   "attachments": {},
   "cell_type": "markdown",
   "metadata": {},
   "source": [
    "## Univariate Analysis"
   ]
  },
  {
   "cell_type": "code",
   "execution_count": null,
   "metadata": {},
   "outputs": [],
   "source": [
    "vm.test_plans.describe_plan(\"time_series_univariate\")"
   ]
  },
  {
   "cell_type": "code",
   "execution_count": null,
   "metadata": {},
   "outputs": [],
   "source": [
    "from validmind.tests.data_validation.TimeSeriesLinePlot import TimeSeriesLinePlot\n",
    "\n",
    "vm_df_train = vm.init_dataset(dataset=df_train)\n",
    "test_context = TestContext(dataset=vm_df_train)\n",
    "\n",
    "metric = TimeSeriesLinePlot(test_context)\n",
    "metric.run()\n",
    "# await metric.result.log()\n",
    "metric.result.show()"
   ]
  },
  {
   "cell_type": "code",
   "execution_count": null,
   "metadata": {},
   "outputs": [],
   "source": [
    "from validmind.tests.data_validation.TimeSeriesHistogram import TimeSeriesHistogram\n",
    "\n",
    "metric = TimeSeriesHistogram(test_context)\n",
    "metric.run()\n",
    "# await metric.result.log()\n",
    "metric.result.show()"
   ]
  },
  {
   "cell_type": "code",
   "execution_count": null,
   "metadata": {},
   "outputs": [],
   "source": [
    "from validmind.tests.data_validation.ACFandPACFPlot import ACFandPACFPlot\n",
    "\n",
    "metric = ACFandPACFPlot(test_context)\n",
    "metric.run()\n",
    "# await metric.result.log()\n",
    "metric.result.show()"
   ]
  },
  {
   "cell_type": "code",
   "execution_count": null,
   "metadata": {},
   "outputs": [],
   "source": [
    "from validmind.tests.data_validation.SeasonalDecompose import SeasonalDecompose\n",
    "\n",
    "params = {\"seasonal_model\": 'additive'}\n",
    "\n",
    "metric = SeasonalDecompose(test_context, params)\n",
    "metric.run()\n",
    "# await metric.result.log()\n",
    "metric.result.show()"
   ]
  },
  {
   "cell_type": "code",
   "execution_count": null,
   "metadata": {},
   "outputs": [],
   "source": [
    "from validmind.tests.data_validation.AutoSeasonality import AutoSeasonality\n",
    "\n",
    "params = {\"min_period\": 1,\n",
    "          \"min_period\": 3}\n",
    "\n",
    "metric = AutoSeasonality(test_context, params)\n",
    "metric.run()\n",
    "# await metric.result.log()\n",
    "metric.result.show()"
   ]
  },
  {
   "cell_type": "code",
   "execution_count": null,
   "metadata": {},
   "outputs": [],
   "source": [
    "from validmind.tests.data_validation.AutoStationarity import AutoStationarity\n",
    "\n",
    "params = {\"max_order\": 3,\n",
    "          \"threshold\": 0.05}\n",
    "\n",
    "metric = AutoStationarity(test_context, params)\n",
    "metric.run()\n",
    "# await metric.result.log()\n",
    "metric.result.show()"
   ]
  },
  {
   "cell_type": "code",
   "execution_count": null,
   "metadata": {},
   "outputs": [],
   "source": [
    "from validmind.tests.data_validation.RollingStatsPlot import RollingStatsPlot\n",
    "\n",
    "params = {\"window_size\": 4}\n",
    "\n",
    "metric = RollingStatsPlot(test_context, params)\n",
    "metric.run()\n",
    "# await metric.result.log()\n",
    "metric.result.show()\n"
   ]
  },
  {
   "cell_type": "code",
   "execution_count": null,
   "metadata": {},
   "outputs": [],
   "source": [
    "from validmind.tests.data_validation.AutoAR import AutoAR\n",
    "\n",
    "params = {\"max_ar_order\": 2}\n",
    "\n",
    "metric = AutoAR(test_context, params)\n",
    "metric.run()\n",
    "# await metric.result.log()\n",
    "metric.result.show()"
   ]
  },
  {
   "cell_type": "code",
   "execution_count": null,
   "metadata": {},
   "outputs": [],
   "source": [
    "from validmind.tests.data_validation.AutoMA import AutoMA\n",
    "\n",
    "params = {\"max_ar_order\": 2}\n",
    "\n",
    "metric = AutoMA(test_context, params)\n",
    "metric.run()\n",
    "# await metric.result.log()\n",
    "metric.result.show()"
   ]
  },
  {
   "attachments": {},
   "cell_type": "markdown",
   "metadata": {},
   "source": [
    "## Multivariate Analysis"
   ]
  },
  {
   "cell_type": "code",
   "execution_count": null,
   "metadata": {},
   "outputs": [],
   "source": [
    "vm.test_plans.describe_plan(\"time_series_multivariate\")"
   ]
  },
  {
   "cell_type": "code",
   "execution_count": null,
   "metadata": {},
   "outputs": [],
   "source": [
    "from validmind.tests.data_validation.ScatterPlot import ScatterPlot\n",
    "\n",
    "metric = ScatterPlot(test_context)\n",
    "metric.run()\n",
    "# await metric.result.log()\n",
    "metric.result.show()"
   ]
  },
  {
   "cell_type": "code",
   "execution_count": null,
   "metadata": {},
   "outputs": [],
   "source": [
    "from validmind.tests.data_validation.LaggedCorrelationHeatmap import LaggedCorrelationHeatmap\n",
    "\n",
    "params = {\"target_col\": target_column,\n",
    "          \"independent_vars\": feature_columns}\n",
    "\n",
    "metric = LaggedCorrelationHeatmap(test_context, params)\n",
    "#metric.run()\n",
    "# await metric.result.log()\n",
    "#metric.result.show()"
   ]
  },
  {
   "cell_type": "code",
   "execution_count": null,
   "metadata": {},
   "outputs": [],
   "source": [
    "from validmind.tests.data_validation.EngleGrangerCoint import EngleGrangerCoint\n",
    "\n",
    "params = {\"threshold\": 0.05}\n",
    "\n",
    "metric = EngleGrangerCoint(test_context, params)\n",
    "metric.run()\n",
    "# await metric.result.log()\n",
    "metric.result.show()"
   ]
  },
  {
   "cell_type": "code",
   "execution_count": null,
   "metadata": {},
   "outputs": [],
   "source": [
    "from validmind.tests.data_validation.SpreadPlot import SpreadPlot\n",
    "\n",
    "metric = SpreadPlot(test_context)\n",
    "metric.run()\n",
    "# await metric.result.log()\n",
    "metric.result.show()"
   ]
  },
  {
   "attachments": {},
   "cell_type": "markdown",
   "metadata": {},
   "source": [
    "## Feature Selection"
   ]
  },
  {
   "attachments": {},
   "cell_type": "markdown",
   "metadata": {},
   "source": [
    "## Feature Engineering"
   ]
  },
  {
   "attachments": {},
   "cell_type": "markdown",
   "metadata": {},
   "source": [
    "## Model Training"
   ]
  },
  {
   "attachments": {},
   "cell_type": "markdown",
   "metadata": {},
   "source": [
    "#### Fit Linear Regression Model"
   ]
  },
  {
   "cell_type": "code",
   "execution_count": null,
   "metadata": {},
   "outputs": [],
   "source": [
    "import statsmodels.api as sm\n",
    "\n",
    "# Create X_train, y_train \n",
    "y_train = df_train[target_column]\n",
    "X_train = df_train.drop(target_column, axis=1)\n",
    "\n",
    "# Add constant to X_train for intercept term\n",
    "X_train = sm.add_constant(X_train)\n",
    "df_train = pd.concat([X_train, y_train], axis=1)\n",
    "\n",
    "# Update df_test\n",
    "y_test = df_test[target_column]\n",
    "X_test = df_test.drop(target_column, axis=1)\n",
    "X_test = sm.add_constant(X_test)\n",
    "df_test = pd.concat([X_train, y_train], axis=1)\n",
    "\n",
    "# Define the model\n",
    "model = sm.OLS(y_train, X_train)\n",
    "\n",
    "# Fit the model\n",
    "model_fit = model.fit()\n",
    "\n",
    "# Print out the statistics\n",
    "print(model_fit.summary())\n"
   ]
  },
  {
   "attachments": {},
   "cell_type": "markdown",
   "metadata": {},
   "source": [
    "#### Remove Non-Significant Features"
   ]
  },
  {
   "cell_type": "code",
   "execution_count": null,
   "metadata": {},
   "outputs": [],
   "source": [
    "features_to_drop = ['GDPC1', 'CPIAUCSL']\n",
    "df_train.drop(columns = features_to_drop, inplace=True)\n",
    "\n",
    "# Update df_test \n",
    "df_test.drop(columns = features_to_drop, inplace=True)"
   ]
  },
  {
   "attachments": {},
   "cell_type": "markdown",
   "metadata": {},
   "source": [
    "#### Update Model Fit "
   ]
  },
  {
   "cell_type": "code",
   "execution_count": null,
   "metadata": {},
   "outputs": [],
   "source": [
    "# Create X_train and y_train, X_test and y_test\n",
    "y_train = df_train[target_column]\n",
    "X_train = df_train.drop(target_column, axis=1)\n",
    "\n",
    "# Define the model\n",
    "model = sm.OLS(y_train, X_train)\n",
    "\n",
    "# Fit the model\n",
    "model_fit = model.fit()\n",
    "\n",
    "# Print out the statistics\n",
    "print(model_fit.summary())"
   ]
  },
  {
   "attachments": {},
   "cell_type": "markdown",
   "metadata": {},
   "source": [
    "##### Create ValidMind Models"
   ]
  },
  {
   "cell_type": "code",
   "execution_count": null,
   "metadata": {},
   "outputs": [],
   "source": [
    "# Update VM datasets\n",
    "vm_train_ds = vm.init_dataset(dataset=df_train, type=\"generic\", target_column=target_column)\n",
    "vm_test_ds = vm.init_dataset(dataset=df_test, type=\"generic\", target_column=target_column)\n",
    "\n",
    "# Create VM model\n",
    "vm_model = vm.init_model(\n",
    "    model = model_fit, \n",
    "    train_ds=vm_train_ds, \n",
    "    test_ds=vm_test_ds)"
   ]
  },
  {
   "cell_type": "code",
   "execution_count": null,
   "metadata": {},
   "outputs": [],
   "source": [
    "vm.test_plans.describe_plan(\"regression_model_description\")"
   ]
  },
  {
   "cell_type": "code",
   "execution_count": null,
   "metadata": {},
   "outputs": [],
   "source": [
    "from validmind.tests.data_validation.DatasetSplit import DatasetSplit\n",
    "\n",
    "test_context = TestContext(model=vm_model)\n",
    "\n",
    "metric = DatasetSplit(test_context)\n",
    "metric.run()\n",
    "# await metric.result.log()\n",
    "metric.result.show()"
   ]
  },
  {
   "cell_type": "code",
   "execution_count": null,
   "metadata": {},
   "outputs": [],
   "source": [
    "from validmind.tests.model_validation.ModelMetadata import ModelMetadata\n",
    "\n",
    "\n",
    "metric = ModelMetadata(test_context)\n",
    "metric.run()\n",
    "# await metric.result.log()\n",
    "metric.result.show()"
   ]
  },
  {
   "cell_type": "code",
   "execution_count": null,
   "metadata": {},
   "outputs": [],
   "source": [
    "vm.test_plans.describe_plan(\"regression_models_evaluation\")"
   ]
  },
  {
   "cell_type": "code",
   "execution_count": null,
   "metadata": {},
   "outputs": [],
   "source": [
    "from validmind.tests.model_validation.statsmodels.RegressionModelsCoeffs import RegressionModelsCoeffs\n",
    "\n",
    "test_context = TestContext(models=[vm_model])\n",
    "metric = RegressionModelsCoeffs(test_context)\n",
    "metric.run()\n",
    "# await metric.result.log()\n",
    "metric.result.show()"
   ]
  },
  {
   "cell_type": "code",
   "execution_count": null,
   "metadata": {},
   "outputs": [],
   "source": [
    "from validmind.tests.model_validation.statsmodels.RegressionModelsPerformance import RegressionModelsPerformance\n",
    "\n",
    "test_context = TestContext(models=[vm_model])\n",
    "metric = RegressionModelsPerformance(test_context)\n",
    "metric.run()\n",
    "# await metric.result.log()\n",
    "metric.result.show()"
   ]
  },
  {
   "attachments": {},
   "cell_type": "markdown",
   "metadata": {},
   "source": [
    "## Model Evaluation"
   ]
  },
  {
   "cell_type": "code",
   "execution_count": null,
   "metadata": {},
   "outputs": [],
   "source": [
    "vm.test_plans.describe_plan(\"time_series_forecast\")"
   ]
  },
  {
   "cell_type": "code",
   "execution_count": null,
   "metadata": {},
   "outputs": [],
   "source": [
    "from validmind.tests.model_validation.statsmodels.RegressionModelForecastPlotLevels import RegressionModelForecastPlotLevels\n",
    "\n",
    "test_context = TestContext(models=[vm_model])\n",
    "\n",
    "params = {\"transformation\": \"integrate\"}\n",
    "\n",
    "metric = RegressionModelForecastPlotLevels(test_context)\n",
    "metric.run()\n",
    "# await metric.result.log()\n",
    "metric.result.show()"
   ]
  }
 ],
 "metadata": {
  "kernelspec": {
   "display_name": "dev-framework",
   "language": "python",
   "name": "dev-framework"
  },
  "language_info": {
   "codemirror_mode": {
    "name": "ipython",
    "version": 3
   },
   "file_extension": ".py",
   "mimetype": "text/x-python",
   "name": "python",
   "nbconvert_exporter": "python",
   "pygments_lexer": "ipython3",
   "version": "3.10.11"
  },
  "orig_nbformat": 4
 },
 "nbformat": 4,
 "nbformat_minor": 2
}
