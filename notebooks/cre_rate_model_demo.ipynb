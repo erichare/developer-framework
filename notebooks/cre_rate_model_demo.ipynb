{
 "cells": [
  {
   "cell_type": "code",
   "execution_count": 1,
   "metadata": {},
   "outputs": [
    {
     "data": {
      "text/plain": [
       "True"
      ]
     },
     "execution_count": 1,
     "metadata": {},
     "output_type": "execute_result"
    }
   ],
   "source": [
    "# Quick hack to load local library code\n",
    "import os\n",
    "\n",
    "os.chdir(os.path.join(os.getcwd(), \"..\"))\n",
    "\n",
    "# Load API key and secret from environment variables\n",
    "from dotenv import load_dotenv\n",
    "load_dotenv()"
   ]
  },
  {
   "cell_type": "code",
   "execution_count": 2,
   "metadata": {},
   "outputs": [],
   "source": [
    "import pandas as pd\n",
    "import xgboost as xgb\n",
    "\n",
    "from numpy import argmax\n",
    "from sklearn.metrics import accuracy_score, precision_recall_curve\n",
    "from sklearn.model_selection import train_test_split\n",
    "\n",
    "%matplotlib inline"
   ]
  },
  {
   "cell_type": "code",
   "execution_count": 3,
   "metadata": {},
   "outputs": [
    {
     "data": {
      "text/plain": [
       "True"
      ]
     },
     "execution_count": 3,
     "metadata": {},
     "output_type": "execute_result"
    }
   ],
   "source": [
    "\n",
    "import validmind as vm\n",
    "\n",
    "vm.init(\n",
    "  api_host = \"http://localhost:3000/api/v1/tracking\",\n",
    "  api_key = \"e22b89a6b9c2a27da47cb0a09febc001\",\n",
    "  api_secret = \"a61be901b5596e3c528d94231e4a3c504ef0bb803d16815f8dfd6857fac03e57\",\n",
    "  project = \"cler0k3rp00010ky6yaoyopmx\"\n",
    ")\n",
    "  "
   ]
  },
  {
   "cell_type": "code",
   "execution_count": 4,
   "metadata": {},
   "outputs": [],
   "source": [
    "df = pd.read_csv(\"notebooks/datasets/lending_club_loan_rates.csv\", sep='\\t')"
   ]
  },
  {
   "cell_type": "code",
   "execution_count": 5,
   "metadata": {},
   "outputs": [
    {
     "data": {
      "text/html": [
       "<div>\n",
       "<style scoped>\n",
       "    .dataframe tbody tr th:only-of-type {\n",
       "        vertical-align: middle;\n",
       "    }\n",
       "\n",
       "    .dataframe tbody tr th {\n",
       "        vertical-align: top;\n",
       "    }\n",
       "\n",
       "    .dataframe thead th {\n",
       "        text-align: right;\n",
       "    }\n",
       "</style>\n",
       "<table border=\"1\" class=\"dataframe\">\n",
       "  <thead>\n",
       "    <tr style=\"text-align: right;\">\n",
       "      <th></th>\n",
       "      <th>Unnamed: 0</th>\n",
       "      <th>loan_rate_A</th>\n",
       "      <th>loan_rate_B</th>\n",
       "      <th>loan_rate_C</th>\n",
       "      <th>loan_rate_D</th>\n",
       "      <th>FEDFUNDS</th>\n",
       "      <th>diff1_loan_rate_A</th>\n",
       "      <th>diff1_loan_rate_B</th>\n",
       "      <th>diff1_loan_rate_C</th>\n",
       "      <th>diff1_loan_rate_D</th>\n",
       "      <th>diff1_FEDFUNDS</th>\n",
       "      <th>diff2_FEDFUNDS</th>\n",
       "    </tr>\n",
       "  </thead>\n",
       "  <tbody>\n",
       "    <tr>\n",
       "      <th>0</th>\n",
       "      <td>2007-08-01</td>\n",
       "      <td>7.766667</td>\n",
       "      <td>9.497692</td>\n",
       "      <td>10.947500</td>\n",
       "      <td>12.267000</td>\n",
       "      <td>5.02</td>\n",
       "      <td>0.060000</td>\n",
       "      <td>0.134359</td>\n",
       "      <td>0.207500</td>\n",
       "      <td>-0.467444</td>\n",
       "      <td>-0.24</td>\n",
       "      <td>-0.25</td>\n",
       "    </tr>\n",
       "    <tr>\n",
       "      <th>1</th>\n",
       "      <td>2007-09-01</td>\n",
       "      <td>7.841429</td>\n",
       "      <td>9.276667</td>\n",
       "      <td>10.829167</td>\n",
       "      <td>12.436667</td>\n",
       "      <td>4.94</td>\n",
       "      <td>0.074762</td>\n",
       "      <td>-0.221026</td>\n",
       "      <td>-0.118333</td>\n",
       "      <td>0.169667</td>\n",
       "      <td>-0.08</td>\n",
       "      <td>0.16</td>\n",
       "    </tr>\n",
       "    <tr>\n",
       "      <th>2</th>\n",
       "      <td>2007-10-01</td>\n",
       "      <td>7.830000</td>\n",
       "      <td>9.433333</td>\n",
       "      <td>10.825926</td>\n",
       "      <td>12.737368</td>\n",
       "      <td>4.76</td>\n",
       "      <td>-0.011429</td>\n",
       "      <td>0.156667</td>\n",
       "      <td>-0.003241</td>\n",
       "      <td>0.300702</td>\n",
       "      <td>-0.18</td>\n",
       "      <td>-0.10</td>\n",
       "    </tr>\n",
       "    <tr>\n",
       "      <th>3</th>\n",
       "      <td>2007-11-01</td>\n",
       "      <td>7.779091</td>\n",
       "      <td>9.467778</td>\n",
       "      <td>10.967037</td>\n",
       "      <td>12.609444</td>\n",
       "      <td>4.49</td>\n",
       "      <td>-0.050909</td>\n",
       "      <td>0.034444</td>\n",
       "      <td>0.141111</td>\n",
       "      <td>-0.127924</td>\n",
       "      <td>-0.27</td>\n",
       "      <td>-0.09</td>\n",
       "    </tr>\n",
       "    <tr>\n",
       "      <th>4</th>\n",
       "      <td>2007-12-01</td>\n",
       "      <td>7.695833</td>\n",
       "      <td>9.387500</td>\n",
       "      <td>10.805000</td>\n",
       "      <td>12.478889</td>\n",
       "      <td>4.24</td>\n",
       "      <td>-0.083258</td>\n",
       "      <td>-0.080278</td>\n",
       "      <td>-0.162037</td>\n",
       "      <td>-0.130556</td>\n",
       "      <td>-0.25</td>\n",
       "      <td>0.02</td>\n",
       "    </tr>\n",
       "  </tbody>\n",
       "</table>\n",
       "</div>"
      ],
      "text/plain": [
       "   Unnamed: 0  loan_rate_A  loan_rate_B  loan_rate_C  loan_rate_D  FEDFUNDS  \\\n",
       "0  2007-08-01     7.766667     9.497692    10.947500    12.267000      5.02   \n",
       "1  2007-09-01     7.841429     9.276667    10.829167    12.436667      4.94   \n",
       "2  2007-10-01     7.830000     9.433333    10.825926    12.737368      4.76   \n",
       "3  2007-11-01     7.779091     9.467778    10.967037    12.609444      4.49   \n",
       "4  2007-12-01     7.695833     9.387500    10.805000    12.478889      4.24   \n",
       "\n",
       "   diff1_loan_rate_A  diff1_loan_rate_B  diff1_loan_rate_C  diff1_loan_rate_D  \\\n",
       "0           0.060000           0.134359           0.207500          -0.467444   \n",
       "1           0.074762          -0.221026          -0.118333           0.169667   \n",
       "2          -0.011429           0.156667          -0.003241           0.300702   \n",
       "3          -0.050909           0.034444           0.141111          -0.127924   \n",
       "4          -0.083258          -0.080278          -0.162037          -0.130556   \n",
       "\n",
       "   diff1_FEDFUNDS  diff2_FEDFUNDS  \n",
       "0           -0.24           -0.25  \n",
       "1           -0.08            0.16  \n",
       "2           -0.18           -0.10  \n",
       "3           -0.27           -0.09  \n",
       "4           -0.25            0.02  "
      ]
     },
     "execution_count": 5,
     "metadata": {},
     "output_type": "execute_result"
    }
   ],
   "source": [
    "df.head()"
   ]
  },
  {
   "cell_type": "code",
   "execution_count": 6,
   "metadata": {},
   "outputs": [
    {
     "name": "stdout",
     "output_type": "stream",
     "text": [
      "<class 'pandas.core.frame.DataFrame'>\n",
      "RangeIndex: 137 entries, 0 to 136\n",
      "Data columns (total 12 columns):\n",
      " #   Column             Non-Null Count  Dtype  \n",
      "---  ------             --------------  -----  \n",
      " 0   Unnamed: 0         137 non-null    object \n",
      " 1   loan_rate_A        137 non-null    float64\n",
      " 2   loan_rate_B        137 non-null    float64\n",
      " 3   loan_rate_C        137 non-null    float64\n",
      " 4   loan_rate_D        137 non-null    float64\n",
      " 5   FEDFUNDS           137 non-null    float64\n",
      " 6   diff1_loan_rate_A  137 non-null    float64\n",
      " 7   diff1_loan_rate_B  137 non-null    float64\n",
      " 8   diff1_loan_rate_C  137 non-null    float64\n",
      " 9   diff1_loan_rate_D  137 non-null    float64\n",
      " 10  diff1_FEDFUNDS     137 non-null    float64\n",
      " 11  diff2_FEDFUNDS     137 non-null    float64\n",
      "dtypes: float64(11), object(1)\n",
      "memory usage: 13.0+ KB\n"
     ]
    }
   ],
   "source": [
    "df.info()"
   ]
  },
  {
   "cell_type": "code",
   "execution_count": 7,
   "metadata": {},
   "outputs": [
    {
     "data": {
      "text/plain": [
       "RangeIndex(start=0, stop=137, step=1)"
      ]
     },
     "execution_count": 7,
     "metadata": {},
     "output_type": "execute_result"
    }
   ],
   "source": [
    "df.index"
   ]
  },
  {
   "cell_type": "code",
   "execution_count": 8,
   "metadata": {},
   "outputs": [
    {
     "data": {
      "text/plain": [
       "Index(['Unnamed: 0', 'loan_rate_A', 'loan_rate_B', 'loan_rate_C',\n",
       "       'loan_rate_D', 'FEDFUNDS', 'diff1_loan_rate_A', 'diff1_loan_rate_B',\n",
       "       'diff1_loan_rate_C', 'diff1_loan_rate_D', 'diff1_FEDFUNDS',\n",
       "       'diff2_FEDFUNDS'],\n",
       "      dtype='object')"
      ]
     },
     "execution_count": 8,
     "metadata": {},
     "output_type": "execute_result"
    }
   ],
   "source": [
    "df.columns"
   ]
  },
  {
   "cell_type": "code",
   "execution_count": 9,
   "metadata": {},
   "outputs": [
    {
     "data": {
      "text/plain": [
       "Index(['Date', 'loan_rate_A', 'loan_rate_B', 'loan_rate_C', 'loan_rate_D',\n",
       "       'FEDFUNDS', 'diff1_loan_rate_A', 'diff1_loan_rate_B',\n",
       "       'diff1_loan_rate_C', 'diff1_loan_rate_D', 'diff1_FEDFUNDS',\n",
       "       'diff2_FEDFUNDS'],\n",
       "      dtype='object')"
      ]
     },
     "execution_count": 9,
     "metadata": {},
     "output_type": "execute_result"
    }
   ],
   "source": [
    "df = df.rename(columns={'Unnamed: 0': 'Date'})\n",
    "df.columns"
   ]
  },
  {
   "cell_type": "code",
   "execution_count": 10,
   "metadata": {},
   "outputs": [
    {
     "data": {
      "text/html": [
       "<div>\n",
       "<style scoped>\n",
       "    .dataframe tbody tr th:only-of-type {\n",
       "        vertical-align: middle;\n",
       "    }\n",
       "\n",
       "    .dataframe tbody tr th {\n",
       "        vertical-align: top;\n",
       "    }\n",
       "\n",
       "    .dataframe thead th {\n",
       "        text-align: right;\n",
       "    }\n",
       "</style>\n",
       "<table border=\"1\" class=\"dataframe\">\n",
       "  <thead>\n",
       "    <tr style=\"text-align: right;\">\n",
       "      <th></th>\n",
       "      <th>Date</th>\n",
       "      <th>loan_rate_A</th>\n",
       "      <th>loan_rate_B</th>\n",
       "      <th>loan_rate_C</th>\n",
       "      <th>loan_rate_D</th>\n",
       "      <th>FEDFUNDS</th>\n",
       "      <th>diff1_loan_rate_A</th>\n",
       "      <th>diff1_loan_rate_B</th>\n",
       "      <th>diff1_loan_rate_C</th>\n",
       "      <th>diff1_loan_rate_D</th>\n",
       "      <th>diff1_FEDFUNDS</th>\n",
       "      <th>diff2_FEDFUNDS</th>\n",
       "    </tr>\n",
       "  </thead>\n",
       "  <tbody>\n",
       "    <tr>\n",
       "      <th>0</th>\n",
       "      <td>2007-08-01</td>\n",
       "      <td>7.766667</td>\n",
       "      <td>9.497692</td>\n",
       "      <td>10.947500</td>\n",
       "      <td>12.267000</td>\n",
       "      <td>5.02</td>\n",
       "      <td>0.060000</td>\n",
       "      <td>0.134359</td>\n",
       "      <td>0.207500</td>\n",
       "      <td>-0.467444</td>\n",
       "      <td>-0.24</td>\n",
       "      <td>-0.25</td>\n",
       "    </tr>\n",
       "    <tr>\n",
       "      <th>1</th>\n",
       "      <td>2007-09-01</td>\n",
       "      <td>7.841429</td>\n",
       "      <td>9.276667</td>\n",
       "      <td>10.829167</td>\n",
       "      <td>12.436667</td>\n",
       "      <td>4.94</td>\n",
       "      <td>0.074762</td>\n",
       "      <td>-0.221026</td>\n",
       "      <td>-0.118333</td>\n",
       "      <td>0.169667</td>\n",
       "      <td>-0.08</td>\n",
       "      <td>0.16</td>\n",
       "    </tr>\n",
       "    <tr>\n",
       "      <th>2</th>\n",
       "      <td>2007-10-01</td>\n",
       "      <td>7.830000</td>\n",
       "      <td>9.433333</td>\n",
       "      <td>10.825926</td>\n",
       "      <td>12.737368</td>\n",
       "      <td>4.76</td>\n",
       "      <td>-0.011429</td>\n",
       "      <td>0.156667</td>\n",
       "      <td>-0.003241</td>\n",
       "      <td>0.300702</td>\n",
       "      <td>-0.18</td>\n",
       "      <td>-0.10</td>\n",
       "    </tr>\n",
       "    <tr>\n",
       "      <th>3</th>\n",
       "      <td>2007-11-01</td>\n",
       "      <td>7.779091</td>\n",
       "      <td>9.467778</td>\n",
       "      <td>10.967037</td>\n",
       "      <td>12.609444</td>\n",
       "      <td>4.49</td>\n",
       "      <td>-0.050909</td>\n",
       "      <td>0.034444</td>\n",
       "      <td>0.141111</td>\n",
       "      <td>-0.127924</td>\n",
       "      <td>-0.27</td>\n",
       "      <td>-0.09</td>\n",
       "    </tr>\n",
       "    <tr>\n",
       "      <th>4</th>\n",
       "      <td>2007-12-01</td>\n",
       "      <td>7.695833</td>\n",
       "      <td>9.387500</td>\n",
       "      <td>10.805000</td>\n",
       "      <td>12.478889</td>\n",
       "      <td>4.24</td>\n",
       "      <td>-0.083258</td>\n",
       "      <td>-0.080278</td>\n",
       "      <td>-0.162037</td>\n",
       "      <td>-0.130556</td>\n",
       "      <td>-0.25</td>\n",
       "      <td>0.02</td>\n",
       "    </tr>\n",
       "  </tbody>\n",
       "</table>\n",
       "</div>"
      ],
      "text/plain": [
       "         Date  loan_rate_A  loan_rate_B  loan_rate_C  loan_rate_D  FEDFUNDS  \\\n",
       "0  2007-08-01     7.766667     9.497692    10.947500    12.267000      5.02   \n",
       "1  2007-09-01     7.841429     9.276667    10.829167    12.436667      4.94   \n",
       "2  2007-10-01     7.830000     9.433333    10.825926    12.737368      4.76   \n",
       "3  2007-11-01     7.779091     9.467778    10.967037    12.609444      4.49   \n",
       "4  2007-12-01     7.695833     9.387500    10.805000    12.478889      4.24   \n",
       "\n",
       "   diff1_loan_rate_A  diff1_loan_rate_B  diff1_loan_rate_C  diff1_loan_rate_D  \\\n",
       "0           0.060000           0.134359           0.207500          -0.467444   \n",
       "1           0.074762          -0.221026          -0.118333           0.169667   \n",
       "2          -0.011429           0.156667          -0.003241           0.300702   \n",
       "3          -0.050909           0.034444           0.141111          -0.127924   \n",
       "4          -0.083258          -0.080278          -0.162037          -0.130556   \n",
       "\n",
       "   diff1_FEDFUNDS  diff2_FEDFUNDS  \n",
       "0           -0.24           -0.25  \n",
       "1           -0.08            0.16  \n",
       "2           -0.18           -0.10  \n",
       "3           -0.27           -0.09  \n",
       "4           -0.25            0.02  "
      ]
     },
     "execution_count": 10,
     "metadata": {},
     "output_type": "execute_result"
    }
   ],
   "source": [
    "df.head()"
   ]
  },
  {
   "cell_type": "code",
   "execution_count": 11,
   "metadata": {},
   "outputs": [
    {
     "data": {
      "text/plain": [
       "DatetimeIndex(['2007-08-01', '2007-09-01', '2007-10-01', '2007-11-01',\n",
       "               '2007-12-01', '2008-01-01', '2008-02-01', '2008-03-01',\n",
       "               '2008-04-01', '2008-05-01',\n",
       "               ...\n",
       "               '2018-03-01', '2018-04-01', '2018-05-01', '2018-06-01',\n",
       "               '2018-07-01', '2018-08-01', '2018-09-01', '2018-10-01',\n",
       "               '2018-11-01', '2018-12-01'],\n",
       "              dtype='datetime64[ns]', name='Date', length=137, freq=None)"
      ]
     },
     "execution_count": 11,
     "metadata": {},
     "output_type": "execute_result"
    }
   ],
   "source": [
    "df = df.set_index(pd.to_datetime(df['Date']))\n",
    "df.index"
   ]
  },
  {
   "cell_type": "code",
   "execution_count": 12,
   "metadata": {},
   "outputs": [
    {
     "data": {
      "text/html": [
       "<div>\n",
       "<style scoped>\n",
       "    .dataframe tbody tr th:only-of-type {\n",
       "        vertical-align: middle;\n",
       "    }\n",
       "\n",
       "    .dataframe tbody tr th {\n",
       "        vertical-align: top;\n",
       "    }\n",
       "\n",
       "    .dataframe thead th {\n",
       "        text-align: right;\n",
       "    }\n",
       "</style>\n",
       "<table border=\"1\" class=\"dataframe\">\n",
       "  <thead>\n",
       "    <tr style=\"text-align: right;\">\n",
       "      <th></th>\n",
       "      <th>Date</th>\n",
       "      <th>loan_rate_A</th>\n",
       "      <th>loan_rate_B</th>\n",
       "      <th>loan_rate_C</th>\n",
       "      <th>loan_rate_D</th>\n",
       "      <th>FEDFUNDS</th>\n",
       "      <th>diff1_loan_rate_A</th>\n",
       "      <th>diff1_loan_rate_B</th>\n",
       "      <th>diff1_loan_rate_C</th>\n",
       "      <th>diff1_loan_rate_D</th>\n",
       "      <th>diff1_FEDFUNDS</th>\n",
       "      <th>diff2_FEDFUNDS</th>\n",
       "    </tr>\n",
       "    <tr>\n",
       "      <th>Date</th>\n",
       "      <th></th>\n",
       "      <th></th>\n",
       "      <th></th>\n",
       "      <th></th>\n",
       "      <th></th>\n",
       "      <th></th>\n",
       "      <th></th>\n",
       "      <th></th>\n",
       "      <th></th>\n",
       "      <th></th>\n",
       "      <th></th>\n",
       "      <th></th>\n",
       "    </tr>\n",
       "  </thead>\n",
       "  <tbody>\n",
       "    <tr>\n",
       "      <th>2007-08-01</th>\n",
       "      <td>2007-08-01</td>\n",
       "      <td>7.766667</td>\n",
       "      <td>9.497692</td>\n",
       "      <td>10.947500</td>\n",
       "      <td>12.267000</td>\n",
       "      <td>5.02</td>\n",
       "      <td>0.060000</td>\n",
       "      <td>0.134359</td>\n",
       "      <td>0.207500</td>\n",
       "      <td>-0.467444</td>\n",
       "      <td>-0.24</td>\n",
       "      <td>-0.25</td>\n",
       "    </tr>\n",
       "    <tr>\n",
       "      <th>2007-09-01</th>\n",
       "      <td>2007-09-01</td>\n",
       "      <td>7.841429</td>\n",
       "      <td>9.276667</td>\n",
       "      <td>10.829167</td>\n",
       "      <td>12.436667</td>\n",
       "      <td>4.94</td>\n",
       "      <td>0.074762</td>\n",
       "      <td>-0.221026</td>\n",
       "      <td>-0.118333</td>\n",
       "      <td>0.169667</td>\n",
       "      <td>-0.08</td>\n",
       "      <td>0.16</td>\n",
       "    </tr>\n",
       "    <tr>\n",
       "      <th>2007-10-01</th>\n",
       "      <td>2007-10-01</td>\n",
       "      <td>7.830000</td>\n",
       "      <td>9.433333</td>\n",
       "      <td>10.825926</td>\n",
       "      <td>12.737368</td>\n",
       "      <td>4.76</td>\n",
       "      <td>-0.011429</td>\n",
       "      <td>0.156667</td>\n",
       "      <td>-0.003241</td>\n",
       "      <td>0.300702</td>\n",
       "      <td>-0.18</td>\n",
       "      <td>-0.10</td>\n",
       "    </tr>\n",
       "    <tr>\n",
       "      <th>2007-11-01</th>\n",
       "      <td>2007-11-01</td>\n",
       "      <td>7.779091</td>\n",
       "      <td>9.467778</td>\n",
       "      <td>10.967037</td>\n",
       "      <td>12.609444</td>\n",
       "      <td>4.49</td>\n",
       "      <td>-0.050909</td>\n",
       "      <td>0.034444</td>\n",
       "      <td>0.141111</td>\n",
       "      <td>-0.127924</td>\n",
       "      <td>-0.27</td>\n",
       "      <td>-0.09</td>\n",
       "    </tr>\n",
       "    <tr>\n",
       "      <th>2007-12-01</th>\n",
       "      <td>2007-12-01</td>\n",
       "      <td>7.695833</td>\n",
       "      <td>9.387500</td>\n",
       "      <td>10.805000</td>\n",
       "      <td>12.478889</td>\n",
       "      <td>4.24</td>\n",
       "      <td>-0.083258</td>\n",
       "      <td>-0.080278</td>\n",
       "      <td>-0.162037</td>\n",
       "      <td>-0.130556</td>\n",
       "      <td>-0.25</td>\n",
       "      <td>0.02</td>\n",
       "    </tr>\n",
       "  </tbody>\n",
       "</table>\n",
       "</div>"
      ],
      "text/plain": [
       "                  Date  loan_rate_A  loan_rate_B  loan_rate_C  loan_rate_D  \\\n",
       "Date                                                                         \n",
       "2007-08-01  2007-08-01     7.766667     9.497692    10.947500    12.267000   \n",
       "2007-09-01  2007-09-01     7.841429     9.276667    10.829167    12.436667   \n",
       "2007-10-01  2007-10-01     7.830000     9.433333    10.825926    12.737368   \n",
       "2007-11-01  2007-11-01     7.779091     9.467778    10.967037    12.609444   \n",
       "2007-12-01  2007-12-01     7.695833     9.387500    10.805000    12.478889   \n",
       "\n",
       "            FEDFUNDS  diff1_loan_rate_A  diff1_loan_rate_B  diff1_loan_rate_C  \\\n",
       "Date                                                                            \n",
       "2007-08-01      5.02           0.060000           0.134359           0.207500   \n",
       "2007-09-01      4.94           0.074762          -0.221026          -0.118333   \n",
       "2007-10-01      4.76          -0.011429           0.156667          -0.003241   \n",
       "2007-11-01      4.49          -0.050909           0.034444           0.141111   \n",
       "2007-12-01      4.24          -0.083258          -0.080278          -0.162037   \n",
       "\n",
       "            diff1_loan_rate_D  diff1_FEDFUNDS  diff2_FEDFUNDS  \n",
       "Date                                                           \n",
       "2007-08-01          -0.467444           -0.24           -0.25  \n",
       "2007-09-01           0.169667           -0.08            0.16  \n",
       "2007-10-01           0.300702           -0.18           -0.10  \n",
       "2007-11-01          -0.127924           -0.27           -0.09  \n",
       "2007-12-01          -0.130556           -0.25            0.02  "
      ]
     },
     "execution_count": 12,
     "metadata": {},
     "output_type": "execute_result"
    }
   ],
   "source": [
    "df.head()"
   ]
  },
  {
   "cell_type": "code",
   "execution_count": 13,
   "metadata": {},
   "outputs": [],
   "source": [
    "df.drop([\"Date\"], axis=1, inplace=True)"
   ]
  },
  {
   "cell_type": "code",
   "execution_count": 14,
   "metadata": {},
   "outputs": [
    {
     "data": {
      "text/html": [
       "<div>\n",
       "<style scoped>\n",
       "    .dataframe tbody tr th:only-of-type {\n",
       "        vertical-align: middle;\n",
       "    }\n",
       "\n",
       "    .dataframe tbody tr th {\n",
       "        vertical-align: top;\n",
       "    }\n",
       "\n",
       "    .dataframe thead th {\n",
       "        text-align: right;\n",
       "    }\n",
       "</style>\n",
       "<table border=\"1\" class=\"dataframe\">\n",
       "  <thead>\n",
       "    <tr style=\"text-align: right;\">\n",
       "      <th></th>\n",
       "      <th>loan_rate_A</th>\n",
       "      <th>loan_rate_B</th>\n",
       "      <th>loan_rate_C</th>\n",
       "      <th>loan_rate_D</th>\n",
       "      <th>FEDFUNDS</th>\n",
       "      <th>diff1_loan_rate_A</th>\n",
       "      <th>diff1_loan_rate_B</th>\n",
       "      <th>diff1_loan_rate_C</th>\n",
       "      <th>diff1_loan_rate_D</th>\n",
       "      <th>diff1_FEDFUNDS</th>\n",
       "      <th>diff2_FEDFUNDS</th>\n",
       "    </tr>\n",
       "    <tr>\n",
       "      <th>Date</th>\n",
       "      <th></th>\n",
       "      <th></th>\n",
       "      <th></th>\n",
       "      <th></th>\n",
       "      <th></th>\n",
       "      <th></th>\n",
       "      <th></th>\n",
       "      <th></th>\n",
       "      <th></th>\n",
       "      <th></th>\n",
       "      <th></th>\n",
       "    </tr>\n",
       "  </thead>\n",
       "  <tbody>\n",
       "    <tr>\n",
       "      <th>2007-08-01</th>\n",
       "      <td>7.766667</td>\n",
       "      <td>9.497692</td>\n",
       "      <td>10.947500</td>\n",
       "      <td>12.267000</td>\n",
       "      <td>5.02</td>\n",
       "      <td>0.060000</td>\n",
       "      <td>0.134359</td>\n",
       "      <td>0.207500</td>\n",
       "      <td>-0.467444</td>\n",
       "      <td>-0.24</td>\n",
       "      <td>-0.25</td>\n",
       "    </tr>\n",
       "    <tr>\n",
       "      <th>2007-09-01</th>\n",
       "      <td>7.841429</td>\n",
       "      <td>9.276667</td>\n",
       "      <td>10.829167</td>\n",
       "      <td>12.436667</td>\n",
       "      <td>4.94</td>\n",
       "      <td>0.074762</td>\n",
       "      <td>-0.221026</td>\n",
       "      <td>-0.118333</td>\n",
       "      <td>0.169667</td>\n",
       "      <td>-0.08</td>\n",
       "      <td>0.16</td>\n",
       "    </tr>\n",
       "    <tr>\n",
       "      <th>2007-10-01</th>\n",
       "      <td>7.830000</td>\n",
       "      <td>9.433333</td>\n",
       "      <td>10.825926</td>\n",
       "      <td>12.737368</td>\n",
       "      <td>4.76</td>\n",
       "      <td>-0.011429</td>\n",
       "      <td>0.156667</td>\n",
       "      <td>-0.003241</td>\n",
       "      <td>0.300702</td>\n",
       "      <td>-0.18</td>\n",
       "      <td>-0.10</td>\n",
       "    </tr>\n",
       "    <tr>\n",
       "      <th>2007-11-01</th>\n",
       "      <td>7.779091</td>\n",
       "      <td>9.467778</td>\n",
       "      <td>10.967037</td>\n",
       "      <td>12.609444</td>\n",
       "      <td>4.49</td>\n",
       "      <td>-0.050909</td>\n",
       "      <td>0.034444</td>\n",
       "      <td>0.141111</td>\n",
       "      <td>-0.127924</td>\n",
       "      <td>-0.27</td>\n",
       "      <td>-0.09</td>\n",
       "    </tr>\n",
       "    <tr>\n",
       "      <th>2007-12-01</th>\n",
       "      <td>7.695833</td>\n",
       "      <td>9.387500</td>\n",
       "      <td>10.805000</td>\n",
       "      <td>12.478889</td>\n",
       "      <td>4.24</td>\n",
       "      <td>-0.083258</td>\n",
       "      <td>-0.080278</td>\n",
       "      <td>-0.162037</td>\n",
       "      <td>-0.130556</td>\n",
       "      <td>-0.25</td>\n",
       "      <td>0.02</td>\n",
       "    </tr>\n",
       "  </tbody>\n",
       "</table>\n",
       "</div>"
      ],
      "text/plain": [
       "            loan_rate_A  loan_rate_B  loan_rate_C  loan_rate_D  FEDFUNDS  \\\n",
       "Date                                                                       \n",
       "2007-08-01     7.766667     9.497692    10.947500    12.267000      5.02   \n",
       "2007-09-01     7.841429     9.276667    10.829167    12.436667      4.94   \n",
       "2007-10-01     7.830000     9.433333    10.825926    12.737368      4.76   \n",
       "2007-11-01     7.779091     9.467778    10.967037    12.609444      4.49   \n",
       "2007-12-01     7.695833     9.387500    10.805000    12.478889      4.24   \n",
       "\n",
       "            diff1_loan_rate_A  diff1_loan_rate_B  diff1_loan_rate_C  \\\n",
       "Date                                                                  \n",
       "2007-08-01           0.060000           0.134359           0.207500   \n",
       "2007-09-01           0.074762          -0.221026          -0.118333   \n",
       "2007-10-01          -0.011429           0.156667          -0.003241   \n",
       "2007-11-01          -0.050909           0.034444           0.141111   \n",
       "2007-12-01          -0.083258          -0.080278          -0.162037   \n",
       "\n",
       "            diff1_loan_rate_D  diff1_FEDFUNDS  diff2_FEDFUNDS  \n",
       "Date                                                           \n",
       "2007-08-01          -0.467444           -0.24           -0.25  \n",
       "2007-09-01           0.169667           -0.08            0.16  \n",
       "2007-10-01           0.300702           -0.18           -0.10  \n",
       "2007-11-01          -0.127924           -0.27           -0.09  \n",
       "2007-12-01          -0.130556           -0.25            0.02  "
      ]
     },
     "execution_count": 14,
     "metadata": {},
     "output_type": "execute_result"
    }
   ],
   "source": [
    "df.head()"
   ]
  },
  {
   "cell_type": "code",
   "execution_count": 15,
   "metadata": {},
   "outputs": [
    {
     "name": "stdout",
     "output_type": "stream",
     "text": [
      "<class 'pandas.core.frame.DataFrame'>\n",
      "DatetimeIndex: 137 entries, 2007-08-01 to 2018-12-01\n",
      "Data columns (total 11 columns):\n",
      " #   Column             Non-Null Count  Dtype  \n",
      "---  ------             --------------  -----  \n",
      " 0   loan_rate_A        137 non-null    float64\n",
      " 1   loan_rate_B        137 non-null    float64\n",
      " 2   loan_rate_C        137 non-null    float64\n",
      " 3   loan_rate_D        137 non-null    float64\n",
      " 4   FEDFUNDS           137 non-null    float64\n",
      " 5   diff1_loan_rate_A  137 non-null    float64\n",
      " 6   diff1_loan_rate_B  137 non-null    float64\n",
      " 7   diff1_loan_rate_C  137 non-null    float64\n",
      " 8   diff1_loan_rate_D  137 non-null    float64\n",
      " 9   diff1_FEDFUNDS     137 non-null    float64\n",
      " 10  diff2_FEDFUNDS     137 non-null    float64\n",
      "dtypes: float64(11)\n",
      "memory usage: 12.8 KB\n"
     ]
    }
   ],
   "source": [
    "df.info()"
   ]
  },
  {
   "cell_type": "code",
   "execution_count": 16,
   "metadata": {},
   "outputs": [
    {
     "name": "stdout",
     "output_type": "stream",
     "text": [
      "Pandas dataset detected. Initializing VM Dataset instance...\n",
      "Inferring dataset types...\n"
     ]
    }
   ],
   "source": [
    "vm_dataset = vm.init_dataset(\n",
    "    dataset=df,\n",
    "    target_column=\"loan_rate_A\",    \n",
    ")"
   ]
  },
  {
   "cell_type": "code",
   "execution_count": 17,
   "metadata": {},
   "outputs": [],
   "source": [
    "test_size = 30\n",
    "train_ds = df[:-test_size]\n",
    "test_ds = df[-test_size:]"
   ]
  },
  {
   "cell_type": "code",
   "execution_count": 18,
   "metadata": {},
   "outputs": [
    {
     "data": {
      "text/html": [
       "<div>\n",
       "<style scoped>\n",
       "    .dataframe tbody tr th:only-of-type {\n",
       "        vertical-align: middle;\n",
       "    }\n",
       "\n",
       "    .dataframe tbody tr th {\n",
       "        vertical-align: top;\n",
       "    }\n",
       "\n",
       "    .dataframe thead th {\n",
       "        text-align: right;\n",
       "    }\n",
       "</style>\n",
       "<table border=\"1\" class=\"dataframe\">\n",
       "  <thead>\n",
       "    <tr style=\"text-align: right;\">\n",
       "      <th></th>\n",
       "      <th>loan_rate_A</th>\n",
       "      <th>loan_rate_B</th>\n",
       "      <th>loan_rate_C</th>\n",
       "      <th>loan_rate_D</th>\n",
       "      <th>FEDFUNDS</th>\n",
       "      <th>diff1_loan_rate_A</th>\n",
       "      <th>diff1_loan_rate_B</th>\n",
       "      <th>diff1_loan_rate_C</th>\n",
       "      <th>diff1_loan_rate_D</th>\n",
       "      <th>diff1_FEDFUNDS</th>\n",
       "      <th>diff2_FEDFUNDS</th>\n",
       "    </tr>\n",
       "    <tr>\n",
       "      <th>Date</th>\n",
       "      <th></th>\n",
       "      <th></th>\n",
       "      <th></th>\n",
       "      <th></th>\n",
       "      <th></th>\n",
       "      <th></th>\n",
       "      <th></th>\n",
       "      <th></th>\n",
       "      <th></th>\n",
       "      <th></th>\n",
       "      <th></th>\n",
       "    </tr>\n",
       "  </thead>\n",
       "  <tbody>\n",
       "    <tr>\n",
       "      <th>2007-08-01</th>\n",
       "      <td>7.766667</td>\n",
       "      <td>9.497692</td>\n",
       "      <td>10.947500</td>\n",
       "      <td>12.267000</td>\n",
       "      <td>5.02</td>\n",
       "      <td>0.060000</td>\n",
       "      <td>0.134359</td>\n",
       "      <td>0.207500</td>\n",
       "      <td>-0.467444</td>\n",
       "      <td>-0.24</td>\n",
       "      <td>-0.25</td>\n",
       "    </tr>\n",
       "    <tr>\n",
       "      <th>2007-09-01</th>\n",
       "      <td>7.841429</td>\n",
       "      <td>9.276667</td>\n",
       "      <td>10.829167</td>\n",
       "      <td>12.436667</td>\n",
       "      <td>4.94</td>\n",
       "      <td>0.074762</td>\n",
       "      <td>-0.221026</td>\n",
       "      <td>-0.118333</td>\n",
       "      <td>0.169667</td>\n",
       "      <td>-0.08</td>\n",
       "      <td>0.16</td>\n",
       "    </tr>\n",
       "    <tr>\n",
       "      <th>2007-10-01</th>\n",
       "      <td>7.830000</td>\n",
       "      <td>9.433333</td>\n",
       "      <td>10.825926</td>\n",
       "      <td>12.737368</td>\n",
       "      <td>4.76</td>\n",
       "      <td>-0.011429</td>\n",
       "      <td>0.156667</td>\n",
       "      <td>-0.003241</td>\n",
       "      <td>0.300702</td>\n",
       "      <td>-0.18</td>\n",
       "      <td>-0.10</td>\n",
       "    </tr>\n",
       "    <tr>\n",
       "      <th>2007-11-01</th>\n",
       "      <td>7.779091</td>\n",
       "      <td>9.467778</td>\n",
       "      <td>10.967037</td>\n",
       "      <td>12.609444</td>\n",
       "      <td>4.49</td>\n",
       "      <td>-0.050909</td>\n",
       "      <td>0.034444</td>\n",
       "      <td>0.141111</td>\n",
       "      <td>-0.127924</td>\n",
       "      <td>-0.27</td>\n",
       "      <td>-0.09</td>\n",
       "    </tr>\n",
       "    <tr>\n",
       "      <th>2007-12-01</th>\n",
       "      <td>7.695833</td>\n",
       "      <td>9.387500</td>\n",
       "      <td>10.805000</td>\n",
       "      <td>12.478889</td>\n",
       "      <td>4.24</td>\n",
       "      <td>-0.083258</td>\n",
       "      <td>-0.080278</td>\n",
       "      <td>-0.162037</td>\n",
       "      <td>-0.130556</td>\n",
       "      <td>-0.25</td>\n",
       "      <td>0.02</td>\n",
       "    </tr>\n",
       "  </tbody>\n",
       "</table>\n",
       "</div>"
      ],
      "text/plain": [
       "            loan_rate_A  loan_rate_B  loan_rate_C  loan_rate_D  FEDFUNDS  \\\n",
       "Date                                                                       \n",
       "2007-08-01     7.766667     9.497692    10.947500    12.267000      5.02   \n",
       "2007-09-01     7.841429     9.276667    10.829167    12.436667      4.94   \n",
       "2007-10-01     7.830000     9.433333    10.825926    12.737368      4.76   \n",
       "2007-11-01     7.779091     9.467778    10.967037    12.609444      4.49   \n",
       "2007-12-01     7.695833     9.387500    10.805000    12.478889      4.24   \n",
       "\n",
       "            diff1_loan_rate_A  diff1_loan_rate_B  diff1_loan_rate_C  \\\n",
       "Date                                                                  \n",
       "2007-08-01           0.060000           0.134359           0.207500   \n",
       "2007-09-01           0.074762          -0.221026          -0.118333   \n",
       "2007-10-01          -0.011429           0.156667          -0.003241   \n",
       "2007-11-01          -0.050909           0.034444           0.141111   \n",
       "2007-12-01          -0.083258          -0.080278          -0.162037   \n",
       "\n",
       "            diff1_loan_rate_D  diff1_FEDFUNDS  diff2_FEDFUNDS  \n",
       "Date                                                           \n",
       "2007-08-01          -0.467444           -0.24           -0.25  \n",
       "2007-09-01           0.169667           -0.08            0.16  \n",
       "2007-10-01           0.300702           -0.18           -0.10  \n",
       "2007-11-01          -0.127924           -0.27           -0.09  \n",
       "2007-12-01          -0.130556           -0.25            0.02  "
      ]
     },
     "execution_count": 18,
     "metadata": {},
     "output_type": "execute_result"
    }
   ],
   "source": [
    "train_ds.head()"
   ]
  },
  {
   "cell_type": "code",
   "execution_count": 19,
   "metadata": {},
   "outputs": [
    {
     "data": {
      "text/html": [
       "<div>\n",
       "<style scoped>\n",
       "    .dataframe tbody tr th:only-of-type {\n",
       "        vertical-align: middle;\n",
       "    }\n",
       "\n",
       "    .dataframe tbody tr th {\n",
       "        vertical-align: top;\n",
       "    }\n",
       "\n",
       "    .dataframe thead th {\n",
       "        text-align: right;\n",
       "    }\n",
       "</style>\n",
       "<table border=\"1\" class=\"dataframe\">\n",
       "  <thead>\n",
       "    <tr style=\"text-align: right;\">\n",
       "      <th></th>\n",
       "      <th>loan_rate_A</th>\n",
       "      <th>loan_rate_B</th>\n",
       "      <th>loan_rate_C</th>\n",
       "      <th>loan_rate_D</th>\n",
       "      <th>FEDFUNDS</th>\n",
       "      <th>diff1_loan_rate_A</th>\n",
       "      <th>diff1_loan_rate_B</th>\n",
       "      <th>diff1_loan_rate_C</th>\n",
       "      <th>diff1_loan_rate_D</th>\n",
       "      <th>diff1_FEDFUNDS</th>\n",
       "      <th>diff2_FEDFUNDS</th>\n",
       "    </tr>\n",
       "    <tr>\n",
       "      <th>Date</th>\n",
       "      <th></th>\n",
       "      <th></th>\n",
       "      <th></th>\n",
       "      <th></th>\n",
       "      <th></th>\n",
       "      <th></th>\n",
       "      <th></th>\n",
       "      <th></th>\n",
       "      <th></th>\n",
       "      <th></th>\n",
       "      <th></th>\n",
       "    </tr>\n",
       "  </thead>\n",
       "  <tbody>\n",
       "    <tr>\n",
       "      <th>2016-07-01</th>\n",
       "      <td>7.409694</td>\n",
       "      <td>10.481218</td>\n",
       "      <td>14.012341</td>\n",
       "      <td>18.673089</td>\n",
       "      <td>0.39</td>\n",
       "      <td>0.287472</td>\n",
       "      <td>0.307986</td>\n",
       "      <td>0.231464</td>\n",
       "      <td>0.388211</td>\n",
       "      <td>0.01</td>\n",
       "      <td>0.00</td>\n",
       "    </tr>\n",
       "    <tr>\n",
       "      <th>2016-08-01</th>\n",
       "      <td>7.415676</td>\n",
       "      <td>10.430687</td>\n",
       "      <td>14.018968</td>\n",
       "      <td>18.725052</td>\n",
       "      <td>0.40</td>\n",
       "      <td>0.005982</td>\n",
       "      <td>-0.050531</td>\n",
       "      <td>0.006627</td>\n",
       "      <td>0.051963</td>\n",
       "      <td>0.01</td>\n",
       "      <td>0.00</td>\n",
       "    </tr>\n",
       "    <tr>\n",
       "      <th>2016-09-01</th>\n",
       "      <td>7.309269</td>\n",
       "      <td>10.420683</td>\n",
       "      <td>13.995526</td>\n",
       "      <td>18.801644</td>\n",
       "      <td>0.40</td>\n",
       "      <td>-0.106407</td>\n",
       "      <td>-0.010004</td>\n",
       "      <td>-0.023442</td>\n",
       "      <td>0.076592</td>\n",
       "      <td>0.00</td>\n",
       "      <td>-0.01</td>\n",
       "    </tr>\n",
       "    <tr>\n",
       "      <th>2016-10-01</th>\n",
       "      <td>7.155385</td>\n",
       "      <td>10.461157</td>\n",
       "      <td>14.069014</td>\n",
       "      <td>18.808550</td>\n",
       "      <td>0.40</td>\n",
       "      <td>-0.153885</td>\n",
       "      <td>0.040474</td>\n",
       "      <td>0.073488</td>\n",
       "      <td>0.006906</td>\n",
       "      <td>0.00</td>\n",
       "      <td>0.00</td>\n",
       "    </tr>\n",
       "    <tr>\n",
       "      <th>2016-11-01</th>\n",
       "      <td>7.026322</td>\n",
       "      <td>10.626165</td>\n",
       "      <td>14.117571</td>\n",
       "      <td>18.773467</td>\n",
       "      <td>0.41</td>\n",
       "      <td>-0.129063</td>\n",
       "      <td>0.165008</td>\n",
       "      <td>0.048557</td>\n",
       "      <td>-0.035083</td>\n",
       "      <td>0.01</td>\n",
       "      <td>0.01</td>\n",
       "    </tr>\n",
       "  </tbody>\n",
       "</table>\n",
       "</div>"
      ],
      "text/plain": [
       "            loan_rate_A  loan_rate_B  loan_rate_C  loan_rate_D  FEDFUNDS  \\\n",
       "Date                                                                       \n",
       "2016-07-01     7.409694    10.481218    14.012341    18.673089      0.39   \n",
       "2016-08-01     7.415676    10.430687    14.018968    18.725052      0.40   \n",
       "2016-09-01     7.309269    10.420683    13.995526    18.801644      0.40   \n",
       "2016-10-01     7.155385    10.461157    14.069014    18.808550      0.40   \n",
       "2016-11-01     7.026322    10.626165    14.117571    18.773467      0.41   \n",
       "\n",
       "            diff1_loan_rate_A  diff1_loan_rate_B  diff1_loan_rate_C  \\\n",
       "Date                                                                  \n",
       "2016-07-01           0.287472           0.307986           0.231464   \n",
       "2016-08-01           0.005982          -0.050531           0.006627   \n",
       "2016-09-01          -0.106407          -0.010004          -0.023442   \n",
       "2016-10-01          -0.153885           0.040474           0.073488   \n",
       "2016-11-01          -0.129063           0.165008           0.048557   \n",
       "\n",
       "            diff1_loan_rate_D  diff1_FEDFUNDS  diff2_FEDFUNDS  \n",
       "Date                                                           \n",
       "2016-07-01           0.388211            0.01            0.00  \n",
       "2016-08-01           0.051963            0.01            0.00  \n",
       "2016-09-01           0.076592            0.00           -0.01  \n",
       "2016-10-01           0.006906            0.00            0.00  \n",
       "2016-11-01          -0.035083            0.01            0.01  "
      ]
     },
     "execution_count": 19,
     "metadata": {},
     "output_type": "execute_result"
    }
   ],
   "source": [
    "test_ds.head()"
   ]
  },
  {
   "cell_type": "code",
   "execution_count": 20,
   "metadata": {},
   "outputs": [
    {
     "name": "stdout",
     "output_type": "stream",
     "text": [
      "Pandas dataset detected. Initializing VM Dataset instance...\n",
      "Inferring dataset types...\n",
      "Pandas dataset detected. Initializing VM Dataset instance...\n",
      "Inferring dataset types...\n"
     ]
    }
   ],
   "source": [
    "vm_train_ds = vm.init_dataset(dataset=train_ds, type=\"generic\", target_column=\"loan_rate_A\")\n",
    "vm_test_ds = vm.init_dataset(dataset=test_ds, type=\"generic\", target_column=\"loan_rate_A\")"
   ]
  },
  {
   "cell_type": "code",
   "execution_count": 22,
   "metadata": {},
   "outputs": [
    {
     "name": "stdout",
     "output_type": "stream",
     "text": [
      "Running test plan 'seasonality_test_plan'...\n"
     ]
    },
    {
     "data": {
      "application/vnd.jupyter.widget-view+json": {
       "model_id": "14cf02656c674eff9779adaa8901ee9c",
       "version_major": 2,
       "version_minor": 0
      },
      "text/plain": [
       "  0%|          | 0/1 [00:00<?, ?it/s]"
      ]
     },
     "metadata": {},
     "output_type": "display_data"
    },
    {
     "name": "stdout",
     "output_type": "stream",
     "text": [
      "Running Metric: durbin_watson\n",
      "Sending results of test plan execution 'seasonality_test_plan' to ValidMind...\n",
      "Successfully logged metrics\n"
     ]
    }
   ],
   "source": [
    "vm.run_test_plan(\"seasonality_test_plan\", train_ds=vm_train_ds, test_ds=vm_test_ds)"
   ]
  },
  {
   "cell_type": "code",
   "execution_count": 23,
   "metadata": {},
   "outputs": [
    {
     "name": "stdout",
     "output_type": "stream",
     "text": [
      "Running test plan 'stationarity_test_plan'...\n"
     ]
    },
    {
     "data": {
      "application/vnd.jupyter.widget-view+json": {
       "model_id": "1e1784594eb44486abbfef2aed035e75",
       "version_major": 2,
       "version_minor": 0
      },
      "text/plain": [
       "  0%|          | 0/1 [00:00<?, ?it/s]"
      ]
     },
     "metadata": {},
     "output_type": "display_data"
    },
    {
     "name": "stdout",
     "output_type": "stream",
     "text": [
      "Running Metric: adf\n",
      "Sending results of test plan execution 'stationarity_test_plan' to ValidMind...\n"
     ]
    },
    {
     "ename": "TypeError",
     "evalue": "bad operand type for abs(): 'tuple'",
     "output_type": "error",
     "traceback": [
      "\u001b[0;31m---------------------------------------------------------------------------\u001b[0m",
      "\u001b[0;31mTypeError\u001b[0m                                 Traceback (most recent call last)",
      "Cell \u001b[0;32mIn[23], line 1\u001b[0m\n\u001b[0;32m----> 1\u001b[0m vm\u001b[39m.\u001b[39;49mrun_test_plan(\u001b[39m\"\u001b[39;49m\u001b[39mstationarity_test_plan\u001b[39;49m\u001b[39m\"\u001b[39;49m, train_ds\u001b[39m=\u001b[39;49mvm_train_ds, test_ds\u001b[39m=\u001b[39;49mvm_test_ds)\n",
      "File \u001b[0;32m~/Dev/github/validmind/validmind-python/validmind/client.py:97\u001b[0m, in \u001b[0;36mrun_test_plan\u001b[0;34m(test_plan_name, send, **kwargs)\u001b[0m\n\u001b[1;32m     92\u001b[0m \u001b[39mexcept\u001b[39;00m \u001b[39mValueError\u001b[39;00m \u001b[39mas\u001b[39;00m exc:\n\u001b[1;32m     93\u001b[0m     \u001b[39mraise\u001b[39;00m \u001b[39mValueError\u001b[39;00m(\n\u001b[1;32m     94\u001b[0m         \u001b[39m\"\u001b[39m\u001b[39mError initializing test plan \u001b[39m\u001b[39m{}\u001b[39;00m\u001b[39m. \u001b[39m\u001b[39m{}\u001b[39;00m\u001b[39m\"\u001b[39m\u001b[39m.\u001b[39mformat(test_plan_name, \u001b[39mstr\u001b[39m(exc))\n\u001b[1;32m     95\u001b[0m     )\n\u001b[0;32m---> 97\u001b[0m plan\u001b[39m.\u001b[39;49mrun(send\u001b[39m=\u001b[39;49msend)\n",
      "File \u001b[0;32m~/Dev/github/validmind/validmind-python/validmind/vm_models/test_plan.py:108\u001b[0m, in \u001b[0;36mTestPlan.run\u001b[0;34m(self, send)\u001b[0m\n\u001b[1;32m    105\u001b[0m     \u001b[39mself\u001b[39m\u001b[39m.\u001b[39mresults\u001b[39m.\u001b[39mappend(result)\n\u001b[1;32m    107\u001b[0m \u001b[39mif\u001b[39;00m send:\n\u001b[0;32m--> 108\u001b[0m     \u001b[39mself\u001b[39;49m\u001b[39m.\u001b[39;49mlog_results()\n\u001b[1;32m    110\u001b[0m \u001b[39mfor\u001b[39;00m test_plan \u001b[39min\u001b[39;00m \u001b[39mself\u001b[39m\u001b[39m.\u001b[39mtest_plans:\n\u001b[1;32m    111\u001b[0m     \u001b[39mprint\u001b[39m(\u001b[39mf\u001b[39m\u001b[39m\"\u001b[39m\u001b[39m|-- Running sub test plan - \u001b[39m\u001b[39m{\u001b[39;00mtest_plan\u001b[39m.\u001b[39mname\u001b[39m}\u001b[39;00m\u001b[39m\"\u001b[39m)\n",
      "File \u001b[0;32m~/Dev/github/validmind/validmind-python/validmind/vm_models/test_plan.py:138\u001b[0m, in \u001b[0;36mTestPlan.log_results\u001b[0;34m(self)\u001b[0m\n\u001b[1;32m    134\u001b[0m             log_figure(figure[\u001b[39m\"\u001b[39m\u001b[39mfigure\u001b[39m\u001b[39m\"\u001b[39m], figure[\u001b[39m\"\u001b[39m\u001b[39mkey\u001b[39m\u001b[39m\"\u001b[39m], figure[\u001b[39m\"\u001b[39m\u001b[39mmetadata\u001b[39m\u001b[39m\"\u001b[39m])\n\u001b[1;32m    136\u001b[0m \u001b[39mif\u001b[39;00m \u001b[39mlen\u001b[39m(metrics) \u001b[39m>\u001b[39m \u001b[39m0\u001b[39m:\n\u001b[1;32m    137\u001b[0m     \u001b[39m# API accepts metrics as a list, we need to do the same for test results\u001b[39;00m\n\u001b[0;32m--> 138\u001b[0m     log_metrics(metrics)\n",
      "File \u001b[0;32m~/Dev/github/validmind/validmind-python/validmind/api_client.py:189\u001b[0m, in \u001b[0;36mlog_metrics\u001b[0;34m(metrics, run_cuid)\u001b[0m\n\u001b[1;32m    186\u001b[0m \u001b[39mif\u001b[39;00m run_cuid \u001b[39mis\u001b[39;00m \u001b[39mNone\u001b[39;00m:\n\u001b[1;32m    187\u001b[0m     run_cuid \u001b[39m=\u001b[39m start_run()\n\u001b[0;32m--> 189\u001b[0m serialized_metrics \u001b[39m=\u001b[39m [m\u001b[39m.\u001b[39mserialize() \u001b[39mfor\u001b[39;00m m \u001b[39min\u001b[39;00m metrics]\n\u001b[1;32m    191\u001b[0m r \u001b[39m=\u001b[39m api_session\u001b[39m.\u001b[39mpost(\n\u001b[1;32m    192\u001b[0m     \u001b[39mf\u001b[39m\u001b[39m\"\u001b[39m\u001b[39m{\u001b[39;00mAPI_HOST\u001b[39m}\u001b[39;00m\u001b[39m/log_metrics?run_cuid=\u001b[39m\u001b[39m{\u001b[39;00mrun_cuid\u001b[39m}\u001b[39;00m\u001b[39m\"\u001b[39m,\n\u001b[1;32m    193\u001b[0m     data\u001b[39m=\u001b[39mjson\u001b[39m.\u001b[39mdumps(serialized_metrics, \u001b[39mcls\u001b[39m\u001b[39m=\u001b[39mNumpyEncoder),\n\u001b[1;32m    194\u001b[0m     headers\u001b[39m=\u001b[39m{\u001b[39m\"\u001b[39m\u001b[39mContent-Type\u001b[39m\u001b[39m\"\u001b[39m: \u001b[39m\"\u001b[39m\u001b[39mapplication/json\u001b[39m\u001b[39m\"\u001b[39m},\n\u001b[1;32m    195\u001b[0m )\n\u001b[1;32m    197\u001b[0m \u001b[39mif\u001b[39;00m r\u001b[39m.\u001b[39mstatus_code \u001b[39m!=\u001b[39m \u001b[39m200\u001b[39m:\n",
      "File \u001b[0;32m~/Dev/github/validmind/validmind-python/validmind/api_client.py:189\u001b[0m, in \u001b[0;36m<listcomp>\u001b[0;34m(.0)\u001b[0m\n\u001b[1;32m    186\u001b[0m \u001b[39mif\u001b[39;00m run_cuid \u001b[39mis\u001b[39;00m \u001b[39mNone\u001b[39;00m:\n\u001b[1;32m    187\u001b[0m     run_cuid \u001b[39m=\u001b[39m start_run()\n\u001b[0;32m--> 189\u001b[0m serialized_metrics \u001b[39m=\u001b[39m [m\u001b[39m.\u001b[39;49mserialize() \u001b[39mfor\u001b[39;00m m \u001b[39min\u001b[39;00m metrics]\n\u001b[1;32m    191\u001b[0m r \u001b[39m=\u001b[39m api_session\u001b[39m.\u001b[39mpost(\n\u001b[1;32m    192\u001b[0m     \u001b[39mf\u001b[39m\u001b[39m\"\u001b[39m\u001b[39m{\u001b[39;00mAPI_HOST\u001b[39m}\u001b[39;00m\u001b[39m/log_metrics?run_cuid=\u001b[39m\u001b[39m{\u001b[39;00mrun_cuid\u001b[39m}\u001b[39;00m\u001b[39m\"\u001b[39m,\n\u001b[1;32m    193\u001b[0m     data\u001b[39m=\u001b[39mjson\u001b[39m.\u001b[39mdumps(serialized_metrics, \u001b[39mcls\u001b[39m\u001b[39m=\u001b[39mNumpyEncoder),\n\u001b[1;32m    194\u001b[0m     headers\u001b[39m=\u001b[39m{\u001b[39m\"\u001b[39m\u001b[39mContent-Type\u001b[39m\u001b[39m\"\u001b[39m: \u001b[39m\"\u001b[39m\u001b[39mapplication/json\u001b[39m\u001b[39m\"\u001b[39m},\n\u001b[1;32m    195\u001b[0m )\n\u001b[1;32m    197\u001b[0m \u001b[39mif\u001b[39;00m r\u001b[39m.\u001b[39mstatus_code \u001b[39m!=\u001b[39m \u001b[39m200\u001b[39m:\n",
      "File \u001b[0;32m~/Dev/github/validmind/validmind-python/validmind/vm_models/metric_result.py:35\u001b[0m, in \u001b[0;36mMetricResult.serialize\u001b[0;34m(self)\u001b[0m\n\u001b[1;32m     33\u001b[0m     value \u001b[39m=\u001b[39m format_records(\u001b[39mself\u001b[39m\u001b[39m.\u001b[39mvalue)\n\u001b[1;32m     34\u001b[0m \u001b[39melif\u001b[39;00m \u001b[39mself\u001b[39m\u001b[39m.\u001b[39mvalue_formatter \u001b[39m==\u001b[39m \u001b[39m\"\u001b[39m\u001b[39mkey_values\u001b[39m\u001b[39m\"\u001b[39m:\n\u001b[0;32m---> 35\u001b[0m     value \u001b[39m=\u001b[39m format_key_values(\u001b[39mself\u001b[39;49m\u001b[39m.\u001b[39;49mvalue)\n\u001b[1;32m     36\u001b[0m \u001b[39melif\u001b[39;00m \u001b[39mself\u001b[39m\u001b[39m.\u001b[39mvalue_formatter \u001b[39mis\u001b[39;00m \u001b[39mnot\u001b[39;00m \u001b[39mNone\u001b[39;00m:\n\u001b[1;32m     37\u001b[0m     \u001b[39mraise\u001b[39;00m \u001b[39mValueError\u001b[39;00m(\n\u001b[1;32m     38\u001b[0m         \u001b[39mf\u001b[39m\u001b[39m\"\u001b[39m\u001b[39mInvalid value_formatter: \u001b[39m\u001b[39m{\u001b[39;00m\u001b[39mself\u001b[39m\u001b[39m.\u001b[39mvalue_formatter\u001b[39m}\u001b[39;00m\u001b[39m. \u001b[39m\u001b[39m\"\u001b[39m\n\u001b[1;32m     39\u001b[0m         \u001b[39m\"\u001b[39m\u001b[39mMust be one of \u001b[39m\u001b[39m'\u001b[39m\u001b[39mrecords\u001b[39m\u001b[39m'\u001b[39m\u001b[39m or \u001b[39m\u001b[39m'\u001b[39m\u001b[39mkey_values\u001b[39m\u001b[39m'\u001b[39m\u001b[39m\"\u001b[39m\n\u001b[1;32m     40\u001b[0m     )\n",
      "File \u001b[0;32m~/Dev/github/validmind/validmind-python/validmind/utils.py:142\u001b[0m, in \u001b[0;36mformat_key_values\u001b[0;34m(key_values)\u001b[0m\n\u001b[1;32m    130\u001b[0m \u001b[39m\u001b[39m\u001b[39m\"\"\"\u001b[39;00m\n\u001b[1;32m    131\u001b[0m \u001b[39mRound the values on each dict's value to a given number of decimal places.\u001b[39;00m\n\u001b[1;32m    132\u001b[0m \n\u001b[0;32m   (...)\u001b[0m\n\u001b[1;32m    139\u001b[0m \u001b[39m- If the column's smallest number has less decimals than 6, use 6 decimal places\u001b[39;00m\n\u001b[1;32m    140\u001b[0m \u001b[39m\"\"\"\u001b[39;00m\n\u001b[1;32m    141\u001b[0m min_number \u001b[39m=\u001b[39m \u001b[39mmin\u001b[39m([v \u001b[39mfor\u001b[39;00m v \u001b[39min\u001b[39;00m key_values\u001b[39m.\u001b[39mvalues() \u001b[39mif\u001b[39;00m v \u001b[39m!=\u001b[39m \u001b[39m0\u001b[39m])\n\u001b[0;32m--> 142\u001b[0m _, min_scale \u001b[39m=\u001b[39m precision_and_scale(min_number)\n\u001b[1;32m    144\u001b[0m \u001b[39mfor\u001b[39;00m key, value \u001b[39min\u001b[39;00m key_values\u001b[39m.\u001b[39mitems():\n\u001b[1;32m    145\u001b[0m     \u001b[39m# Some key values could be a single item ndarray, assert this\u001b[39;00m\n\u001b[1;32m    146\u001b[0m     \u001b[39mif\u001b[39;00m \u001b[39misinstance\u001b[39m(value, ndarray):\n",
      "File \u001b[0;32m~/Dev/github/validmind/validmind-python/validmind/utils.py:89\u001b[0m, in \u001b[0;36mprecision_and_scale\u001b[0;34m(x)\u001b[0m\n\u001b[1;32m     83\u001b[0m \u001b[39m\u001b[39m\u001b[39m\"\"\"\u001b[39;00m\n\u001b[1;32m     84\u001b[0m \u001b[39mhttps://stackoverflow.com/questions/3018758/determine-precision-and-scale-of-particular-number-in-python\u001b[39;00m\n\u001b[1;32m     85\u001b[0m \n\u001b[1;32m     86\u001b[0m \u001b[39mReturns a (precision, scale) tuple for a given number.\u001b[39;00m\n\u001b[1;32m     87\u001b[0m \u001b[39m\"\"\"\u001b[39;00m\n\u001b[1;32m     88\u001b[0m max_digits \u001b[39m=\u001b[39m \u001b[39m14\u001b[39m\n\u001b[0;32m---> 89\u001b[0m int_part \u001b[39m=\u001b[39m \u001b[39mint\u001b[39m(\u001b[39mabs\u001b[39;49m(x))\n\u001b[1;32m     90\u001b[0m magnitude \u001b[39m=\u001b[39m \u001b[39m1\u001b[39m \u001b[39mif\u001b[39;00m int_part \u001b[39m==\u001b[39m \u001b[39m0\u001b[39m \u001b[39melse\u001b[39;00m \u001b[39mint\u001b[39m(math\u001b[39m.\u001b[39mlog10(int_part)) \u001b[39m+\u001b[39m \u001b[39m1\u001b[39m\n\u001b[1;32m     91\u001b[0m \u001b[39mif\u001b[39;00m magnitude \u001b[39m>\u001b[39m\u001b[39m=\u001b[39m max_digits:\n",
      "\u001b[0;31mTypeError\u001b[0m: bad operand type for abs(): 'tuple'"
     ]
    }
   ],
   "source": [
    "vm.run_test_plan(\"stationarity_test_plan\", train_ds=vm_train_ds, test_ds=vm_test_ds)"
   ]
  },
  {
   "cell_type": "code",
   "execution_count": null,
   "metadata": {},
   "outputs": [],
   "source": []
  },
  {
   "cell_type": "code",
   "execution_count": 7,
   "metadata": {},
   "outputs": [
    {
     "data": {
      "text/html": [
       "<table>\n",
       "<thead>\n",
       "<tr><th>ID                           </th><th>Name                        </th><th>Description                                   </th></tr>\n",
       "</thead>\n",
       "<tbody>\n",
       "<tr><td>sklearn_classifier_metrics   </td><td>SKLearnClassifierMetrics    </td><td>Test plan for sklearn classifier metrics      </td></tr>\n",
       "<tr><td>sklearn_classifier_validation</td><td>SKLearnClassifierPerformance</td><td>Test plan for sklearn classifier models       </td></tr>\n",
       "<tr><td>sklearn_classifier           </td><td>SKLearnClassifier           </td><td>Test plan for sklearn classifier models that includes\n",
       "    both metrics and validation tests                                               </td></tr>\n",
       "<tr><td>tabular_dataset              </td><td>TabularDataset              </td><td>Test plan for generic tabular datasets        </td></tr>\n",
       "<tr><td>tabular_dataset_description  </td><td>TabularDatasetDescription   </td><td>Test plan to extract metadata and descriptive\n",
       "    statistics from a tabular dataset                                               </td></tr>\n",
       "<tr><td>tabular_data_quality         </td><td>TabularDataQuality          </td><td>Test plan for data quality on tabular datasets</td></tr>\n",
       "<tr><td>seasonality_test_plan        </td><td>SesonalityTestPlan          </td><td>Test plan to perform seasonality tests.       </td></tr>\n",
       "<tr><td>stationarity_test_plan       </td><td>StationarityTestPlan        </td><td>Test plan to perform stationarity tests.      </td></tr>\n",
       "<tr><td>timeseries_test_plan         </td><td>TimeSeriesTestPlan          </td><td>Test plan for time series statsmodels that includes\n",
       "    both metrics and validation tests                                               </td></tr>\n",
       "</tbody>\n",
       "</table>"
      ],
      "text/plain": [
       "'<table>\\n<thead>\\n<tr><th>ID                           </th><th>Name                        </th><th>Description                                   </th></tr>\\n</thead>\\n<tbody>\\n<tr><td>sklearn_classifier_metrics   </td><td>SKLearnClassifierMetrics    </td><td>Test plan for sklearn classifier metrics      </td></tr>\\n<tr><td>sklearn_classifier_validation</td><td>SKLearnClassifierPerformance</td><td>Test plan for sklearn classifier models       </td></tr>\\n<tr><td>sklearn_classifier           </td><td>SKLearnClassifier           </td><td>Test plan for sklearn classifier models that includes\\n    both metrics and validation tests                                               </td></tr>\\n<tr><td>tabular_dataset              </td><td>TabularDataset              </td><td>Test plan for generic tabular datasets        </td></tr>\\n<tr><td>tabular_dataset_description  </td><td>TabularDatasetDescription   </td><td>Test plan to extract metadata and descriptive\\n    statistics from a tabular dataset                                               </td></tr>\\n<tr><td>tabular_data_quality         </td><td>TabularDataQuality          </td><td>Test plan for data quality on tabular datasets</td></tr>\\n<tr><td>seasonality_test_plan        </td><td>SesonalityTestPlan          </td><td>Test plan to perform seasonality tests.       </td></tr>\\n<tr><td>stationarity_test_plan       </td><td>StationarityTestPlan        </td><td>Test plan to perform stationarity tests.      </td></tr>\\n<tr><td>timeseries_test_plan         </td><td>TimeSeriesTestPlan          </td><td>Test plan for time series statsmodels that includes\\n    both metrics and validation tests                                               </td></tr>\\n</tbody>\\n</table>'"
      ]
     },
     "execution_count": 7,
     "metadata": {},
     "output_type": "execute_result"
    }
   ],
   "source": [
    "vm.test_plans.list_plans()"
   ]
  },
  {
   "cell_type": "code",
   "execution_count": 9,
   "metadata": {},
   "outputs": [
    {
     "data": {
      "text/html": [
       "<table>\n",
       "<thead>\n",
       "<tr><th>Test Type    </th><th>ID                       </th><th>Name                        </th><th>Description                                                               </th></tr>\n",
       "</thead>\n",
       "<tbody>\n",
       "<tr><td>Metric       </td><td>dataset_correlations     </td><td>DatasetCorrelations         </td><td>Extracts the correlation matrix for a dataset. The following coefficients\n",
       "    are calculated:\n",
       "    - Pearson&#x27;s R for numerical variables\n",
       "    - Cramer&#x27;s V for categorical variables\n",
       "    - Correlation ratios for categorical-numerical variables                                                                           </td></tr>\n",
       "<tr><td>Metric       </td><td>dataset_description      </td><td>DatasetDescription          </td><td>Collects a set of descriptive statistics for a dataset                    </td></tr>\n",
       "<tr><td>Custom Test  </td><td>dataset_metadata         </td><td>DatasetMetadata             </td><td>Custom class to collect a set of descriptive statistics for a dataset.\n",
       "    This class will log dataset metadata via `log_dataset` instead of a metric.\n",
       "    Dataset metadat is necessary to initialize dataset object that can be related\n",
       "    to different metrics and test results                                                                           </td></tr>\n",
       "<tr><td>ThresholdTest</td><td>class_imbalance          </td><td>ClassImbalanceTest          </td><td>Test that the minority class does not represent more than a threshold\n",
       "    of the total number of examples                                                                           </td></tr>\n",
       "<tr><td>ThresholdTest</td><td>duplicates               </td><td>DuplicatesTest              </td><td>Test that the number of duplicates is less than a threshold               </td></tr>\n",
       "<tr><td>ThresholdTest</td><td>cardinality              </td><td>HighCardinalityTest         </td><td>Test that the number of unique values in a column is less than a threshold</td></tr>\n",
       "<tr><td>ThresholdTest</td><td>pearson_correlation      </td><td>HighPearsonCorrelationTest  </td><td>Test that the Pearson correlation between two columns is less than a threshold\n",
       "\n",
       "    Inspired by: https://github.com/ydataai/pandas-profiling/blob/f8bad5dde27e3f87f11ac74fb8966c034bc22db8/src/pandas_profiling/model/correlations.py                                                                           </td></tr>\n",
       "<tr><td>ThresholdTest</td><td>missing                  </td><td>MissingValuesTest           </td><td>Test that the number of missing values is less than a threshold           </td></tr>\n",
       "<tr><td>ThresholdTest</td><td>skewness                 </td><td>SkewnessTest                </td><td>Test that the skewness of a column is less than a threshold               </td></tr>\n",
       "<tr><td>ThresholdTest</td><td>unique                   </td><td>UniqueRowsTest              </td><td>Test that the number of unique rows is greater than a threshold           </td></tr>\n",
       "<tr><td>ThresholdTest</td><td>zeros                    </td><td>ZerosTest                   </td><td>Test that the number of zeros is less than a threshold                    </td></tr>\n",
       "<tr><td>Metric       </td><td>accuracy                 </td><td>AccuracyScore               </td><td>Accuracy Score                                                            </td></tr>\n",
       "<tr><td>Metric       </td><td>csi                      </td><td>CharacteristicStabilityIndex</td><td>Characteristic Stability Index between two datasets                       </td></tr>\n",
       "<tr><td>Metric       </td><td>confusion_matrix         </td><td>ConfusionMatrix             </td><td>Confusion Matrix                                                          </td></tr>\n",
       "<tr><td>Metric       </td><td>f1_score                 </td><td>F1Score                     </td><td>F1 Score                                                                  </td></tr>\n",
       "<tr><td>Metric       </td><td>pfi                      </td><td>PermutationFeatureImportance</td><td>Permutation Feature Importance                                            </td></tr>\n",
       "<tr><td>Metric       </td><td>psi                      </td><td>PopulationStabilityIndex    </td><td>Population Stability Index between two datasets                           </td></tr>\n",
       "<tr><td>Metric       </td><td>pr_curve                 </td><td>PrecisionRecallCurve        </td><td>Precision Recall Curve                                                    </td></tr>\n",
       "<tr><td>Metric       </td><td>precision                </td><td>PrecisionScore              </td><td>Precision Score                                                           </td></tr>\n",
       "<tr><td>Metric       </td><td>roc_auc                  </td><td>ROCAUCScore                 </td><td>ROC AUC Score                                                             </td></tr>\n",
       "<tr><td>Metric       </td><td>roc_curve                </td><td>ROCCurve                    </td><td>ROC Curve                                                                 </td></tr>\n",
       "<tr><td>Metric       </td><td>recall                   </td><td>RecallScore                 </td><td>Recall Score                                                              </td></tr>\n",
       "<tr><td>Custom Test  </td><td>shap                     </td><td>SHAPGlobalImportance        </td><td>SHAP Global Importance. Custom metric                                     </td></tr>\n",
       "<tr><td>ThresholdTest</td><td>accuracy_score           </td><td>AccuracyTest                </td><td>Test that the accuracy score is above a threshold.                        </td></tr>\n",
       "<tr><td>ThresholdTest</td><td>f1_score                 </td><td>F1ScoreTest                 </td><td>Test that the F1 score is above a threshold.                              </td></tr>\n",
       "<tr><td>ThresholdTest</td><td>roc_auc_score            </td><td>ROCAUCScoreTest             </td><td>Test that the ROC AUC score is above a threshold.                         </td></tr>\n",
       "<tr><td>ThresholdTest</td><td>training_test_degradation</td><td>TrainingTestDegradationTest </td><td>Test that the training set metrics are better than the test set metrics.  </td></tr>\n",
       "</tbody>\n",
       "</table>"
      ],
      "text/plain": [
       "'<table>\\n<thead>\\n<tr><th>Test Type    </th><th>ID                       </th><th>Name                        </th><th>Description                                                               </th></tr>\\n</thead>\\n<tbody>\\n<tr><td>Metric       </td><td>dataset_correlations     </td><td>DatasetCorrelations         </td><td>Extracts the correlation matrix for a dataset. The following coefficients\\n    are calculated:\\n    - Pearson&#x27;s R for numerical variables\\n    - Cramer&#x27;s V for categorical variables\\n    - Correlation ratios for categorical-numerical variables                                                                           </td></tr>\\n<tr><td>Metric       </td><td>dataset_description      </td><td>DatasetDescription          </td><td>Collects a set of descriptive statistics for a dataset                    </td></tr>\\n<tr><td>Custom Test  </td><td>dataset_metadata         </td><td>DatasetMetadata             </td><td>Custom class to collect a set of descriptive statistics for a dataset.\\n    This class will log dataset metadata via `log_dataset` instead of a metric.\\n    Dataset metadat is necessary to initialize dataset object that can be related\\n    to different metrics and test results                                                                           </td></tr>\\n<tr><td>ThresholdTest</td><td>class_imbalance          </td><td>ClassImbalanceTest          </td><td>Test that the minority class does not represent more than a threshold\\n    of the total number of examples                                                                           </td></tr>\\n<tr><td>ThresholdTest</td><td>duplicates               </td><td>DuplicatesTest              </td><td>Test that the number of duplicates is less than a threshold               </td></tr>\\n<tr><td>ThresholdTest</td><td>cardinality              </td><td>HighCardinalityTest         </td><td>Test that the number of unique values in a column is less than a threshold</td></tr>\\n<tr><td>ThresholdTest</td><td>pearson_correlation      </td><td>HighPearsonCorrelationTest  </td><td>Test that the Pearson correlation between two columns is less than a threshold\\n\\n    Inspired by: https://github.com/ydataai/pandas-profiling/blob/f8bad5dde27e3f87f11ac74fb8966c034bc22db8/src/pandas_profiling/model/correlations.py                                                                           </td></tr>\\n<tr><td>ThresholdTest</td><td>missing                  </td><td>MissingValuesTest           </td><td>Test that the number of missing values is less than a threshold           </td></tr>\\n<tr><td>ThresholdTest</td><td>skewness                 </td><td>SkewnessTest                </td><td>Test that the skewness of a column is less than a threshold               </td></tr>\\n<tr><td>ThresholdTest</td><td>unique                   </td><td>UniqueRowsTest              </td><td>Test that the number of unique rows is greater than a threshold           </td></tr>\\n<tr><td>ThresholdTest</td><td>zeros                    </td><td>ZerosTest                   </td><td>Test that the number of zeros is less than a threshold                    </td></tr>\\n<tr><td>Metric       </td><td>accuracy                 </td><td>AccuracyScore               </td><td>Accuracy Score                                                            </td></tr>\\n<tr><td>Metric       </td><td>csi                      </td><td>CharacteristicStabilityIndex</td><td>Characteristic Stability Index between two datasets                       </td></tr>\\n<tr><td>Metric       </td><td>confusion_matrix         </td><td>ConfusionMatrix             </td><td>Confusion Matrix                                                          </td></tr>\\n<tr><td>Metric       </td><td>f1_score                 </td><td>F1Score                     </td><td>F1 Score                                                                  </td></tr>\\n<tr><td>Metric       </td><td>pfi                      </td><td>PermutationFeatureImportance</td><td>Permutation Feature Importance                                            </td></tr>\\n<tr><td>Metric       </td><td>psi                      </td><td>PopulationStabilityIndex    </td><td>Population Stability Index between two datasets                           </td></tr>\\n<tr><td>Metric       </td><td>pr_curve                 </td><td>PrecisionRecallCurve        </td><td>Precision Recall Curve                                                    </td></tr>\\n<tr><td>Metric       </td><td>precision                </td><td>PrecisionScore              </td><td>Precision Score                                                           </td></tr>\\n<tr><td>Metric       </td><td>roc_auc                  </td><td>ROCAUCScore                 </td><td>ROC AUC Score                                                             </td></tr>\\n<tr><td>Metric       </td><td>roc_curve                </td><td>ROCCurve                    </td><td>ROC Curve                                                                 </td></tr>\\n<tr><td>Metric       </td><td>recall                   </td><td>RecallScore                 </td><td>Recall Score                                                              </td></tr>\\n<tr><td>Custom Test  </td><td>shap                     </td><td>SHAPGlobalImportance        </td><td>SHAP Global Importance. Custom metric                                     </td></tr>\\n<tr><td>ThresholdTest</td><td>accuracy_score           </td><td>AccuracyTest                </td><td>Test that the accuracy score is above a threshold.                        </td></tr>\\n<tr><td>ThresholdTest</td><td>f1_score                 </td><td>F1ScoreTest                 </td><td>Test that the F1 score is above a threshold.                              </td></tr>\\n<tr><td>ThresholdTest</td><td>roc_auc_score            </td><td>ROCAUCScoreTest             </td><td>Test that the ROC AUC score is above a threshold.                         </td></tr>\\n<tr><td>ThresholdTest</td><td>training_test_degradation</td><td>TrainingTestDegradationTest </td><td>Test that the training set metrics are better than the test set metrics.  </td></tr>\\n</tbody>\\n</table>'"
      ]
     },
     "execution_count": 9,
     "metadata": {},
     "output_type": "execute_result"
    }
   ],
   "source": [
    "vm.test_plans.list_tests()"
   ]
  },
  {
   "cell_type": "code",
   "execution_count": 8,
   "metadata": {},
   "outputs": [
    {
     "ename": "ValueError",
     "evalue": "Error initializing test plan timeseries_test_plan. Test plan 'timeseries_test_plan' requires 'train_ds' to be present in the test context",
     "output_type": "error",
     "traceback": [
      "\u001b[0;31m---------------------------------------------------------------------------\u001b[0m",
      "\u001b[0;31mValueError\u001b[0m                                Traceback (most recent call last)",
      "File \u001b[0;32m~/Dev/github/validmind/validmind-python/validmind/client.py:91\u001b[0m, in \u001b[0;36mrun_test_plan\u001b[0;34m(test_plan_name, send, **kwargs)\u001b[0m\n\u001b[1;32m     90\u001b[0m \u001b[39mtry\u001b[39;00m:\n\u001b[0;32m---> 91\u001b[0m     plan \u001b[39m=\u001b[39m Plan(\u001b[39m*\u001b[39;49m\u001b[39m*\u001b[39;49mkwargs)\n\u001b[1;32m     92\u001b[0m \u001b[39mexcept\u001b[39;00m \u001b[39mValueError\u001b[39;00m \u001b[39mas\u001b[39;00m exc:\n",
      "File \u001b[0;32m<string>:9\u001b[0m, in \u001b[0;36m__init__\u001b[0;34m(self, config, test_context, dataset, model, train_ds, test_ds)\u001b[0m\n",
      "File \u001b[0;32m~/Dev/github/validmind/validmind-python/validmind/vm_models/test_plan.py:59\u001b[0m, in \u001b[0;36mTestPlan.__post_init__\u001b[0;34m(self)\u001b[0m\n\u001b[1;32m     57\u001b[0m     \u001b[39mself\u001b[39m\u001b[39m.\u001b[39mtest_ds \u001b[39m=\u001b[39m \u001b[39mself\u001b[39m\u001b[39m.\u001b[39mtest_context\u001b[39m.\u001b[39mtest_ds\n\u001b[0;32m---> 59\u001b[0m \u001b[39mself\u001b[39;49m\u001b[39m.\u001b[39;49mvalidate_context()\n",
      "File \u001b[0;32m~/Dev/github/validmind/validmind-python/validmind/vm_models/test_plan.py:72\u001b[0m, in \u001b[0;36mTestPlan.validate_context\u001b[0;34m(self)\u001b[0m\n\u001b[1;32m     71\u001b[0m \u001b[39melif\u001b[39;00m \u001b[39mgetattr\u001b[39m(\u001b[39mself\u001b[39m, element) \u001b[39mis\u001b[39;00m \u001b[39mNone\u001b[39;00m:\n\u001b[0;32m---> 72\u001b[0m     \u001b[39mraise\u001b[39;00m \u001b[39mValueError\u001b[39;00m(\n\u001b[1;32m     73\u001b[0m         \u001b[39mf\u001b[39m\u001b[39m\"\u001b[39m\u001b[39mTest plan \u001b[39m\u001b[39m'\u001b[39m\u001b[39m{\u001b[39;00m\u001b[39mself\u001b[39m\u001b[39m.\u001b[39mname\u001b[39m}\u001b[39;00m\u001b[39m'\u001b[39m\u001b[39m requires \u001b[39m\u001b[39m'\u001b[39m\u001b[39m{\u001b[39;00melement\u001b[39m}\u001b[39;00m\u001b[39m'\u001b[39m\u001b[39m to be present in the test context\u001b[39m\u001b[39m\"\u001b[39m\n\u001b[1;32m     74\u001b[0m     )\n",
      "\u001b[0;31mValueError\u001b[0m: Test plan 'timeseries_test_plan' requires 'train_ds' to be present in the test context",
      "\nDuring handling of the above exception, another exception occurred:\n",
      "\u001b[0;31mValueError\u001b[0m                                Traceback (most recent call last)",
      "Cell \u001b[0;32mIn[8], line 1\u001b[0m\n\u001b[0;32m----> 1\u001b[0m vm\u001b[39m.\u001b[39;49mrun_test_plan(\u001b[39m\"\u001b[39;49m\u001b[39mtimeseries_test_plan\u001b[39;49m\u001b[39m\"\u001b[39;49m, dataset\u001b[39m=\u001b[39;49mvm_dataset)\n",
      "File \u001b[0;32m~/Dev/github/validmind/validmind-python/validmind/client.py:93\u001b[0m, in \u001b[0;36mrun_test_plan\u001b[0;34m(test_plan_name, send, **kwargs)\u001b[0m\n\u001b[1;32m     91\u001b[0m     plan \u001b[39m=\u001b[39m Plan(\u001b[39m*\u001b[39m\u001b[39m*\u001b[39mkwargs)\n\u001b[1;32m     92\u001b[0m \u001b[39mexcept\u001b[39;00m \u001b[39mValueError\u001b[39;00m \u001b[39mas\u001b[39;00m exc:\n\u001b[0;32m---> 93\u001b[0m     \u001b[39mraise\u001b[39;00m \u001b[39mValueError\u001b[39;00m(\n\u001b[1;32m     94\u001b[0m         \u001b[39m\"\u001b[39m\u001b[39mError initializing test plan \u001b[39m\u001b[39m{}\u001b[39;00m\u001b[39m. \u001b[39m\u001b[39m{}\u001b[39;00m\u001b[39m\"\u001b[39m\u001b[39m.\u001b[39mformat(test_plan_name, \u001b[39mstr\u001b[39m(exc))\n\u001b[1;32m     95\u001b[0m     )\n\u001b[1;32m     97\u001b[0m plan\u001b[39m.\u001b[39mrun(send\u001b[39m=\u001b[39msend)\n",
      "\u001b[0;31mValueError\u001b[0m: Error initializing test plan timeseries_test_plan. Test plan 'timeseries_test_plan' requires 'train_ds' to be present in the test context"
     ]
    }
   ],
   "source": [
    "vm.run_test_plan(\"timeseries_test_plan\", dataset=vm_dataset)"
   ]
  }
 ],
 "metadata": {
  "kernelspec": {
   "display_name": "validmind-eEL8LtKG-py3.10",
   "language": "python",
   "name": "python3"
  },
  "language_info": {
   "codemirror_mode": {
    "name": "ipython",
    "version": 3
   },
   "file_extension": ".py",
   "mimetype": "text/x-python",
   "name": "python",
   "nbconvert_exporter": "python",
   "pygments_lexer": "ipython3",
   "version": "3.10.9"
  },
  "orig_nbformat": 4,
  "vscode": {
   "interpreter": {
    "hash": "b21d98ca54f89dacaee445b821fe8b10423ba857394a14ffa7d2e783d0348465"
   }
  }
 },
 "nbformat": 4,
 "nbformat_minor": 2
}
