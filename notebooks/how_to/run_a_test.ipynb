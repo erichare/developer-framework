{
 "cells": [
  {
   "attachments": {},
   "cell_type": "markdown",
   "metadata": {},
   "source": [
    "# Running an Individual Test\n",
    "This notebook shows how to run individual metrics or thresholds tests."
   ]
  },
  {
   "attachments": {},
   "cell_type": "markdown",
   "metadata": {},
   "source": [
    "## Before you begin\n",
    "\n",
    "To use the ValidMind Developer Framework with a Jupyter notebook, you need to install and initialize the client library first, along with getting your Python environment ready.\n",
    "\n",
    "If you don't already have one, you should also [create a documentation project](https://docs.validmind.ai/guide/create-your-first-documentation-project.html) on the ValidMind platform. You will use this project to upload your documentation and test results."
   ]
  },
  {
   "attachments": {},
   "cell_type": "markdown",
   "metadata": {},
   "source": [
    "## Install the client library"
   ]
  },
  {
   "cell_type": "code",
   "execution_count": 1,
   "metadata": {},
   "outputs": [
    {
     "name": "stdout",
     "output_type": "stream",
     "text": [
      "Requirement already satisfied: validmind in /Library/Frameworks/Python.framework/Versions/3.10/lib/python3.10/site-packages (1.15.5)\n",
      "Requirement already satisfied: aiohttp[speedups]<4.0.0,>=3.8.4 in /Library/Frameworks/Python.framework/Versions/3.10/lib/python3.10/site-packages (from validmind) (3.8.4)\n",
      "Requirement already satisfied: arch<6.0.0,>=5.4.0 in /Library/Frameworks/Python.framework/Versions/3.10/lib/python3.10/site-packages (from validmind) (5.6.0)\n",
      "Requirement already satisfied: catboost<2.0,>=1.2 in /Library/Frameworks/Python.framework/Versions/3.10/lib/python3.10/site-packages (from validmind) (1.2)\n",
      "Requirement already satisfied: click<9.0.0,>=8.0.4 in /Library/Frameworks/Python.framework/Versions/3.10/lib/python3.10/site-packages (from validmind) (8.1.4)\n",
      "Requirement already satisfied: dython<0.8.0,>=0.7.1 in /Library/Frameworks/Python.framework/Versions/3.10/lib/python3.10/site-packages (from validmind) (0.7.2)\n",
      "Requirement already satisfied: ipython==7.34.0 in /Library/Frameworks/Python.framework/Versions/3.10/lib/python3.10/site-packages (from validmind) (7.34.0)\n",
      "Requirement already satisfied: ipywidgets<9.0.0,>=8.0.6 in /Library/Frameworks/Python.framework/Versions/3.10/lib/python3.10/site-packages (from validmind) (8.0.7)\n",
      "Requirement already satisfied: kaleido==0.2.1 in /Library/Frameworks/Python.framework/Versions/3.10/lib/python3.10/site-packages (from validmind) (0.2.1)\n",
      "Requirement already satisfied: markdown<4.0.0,>=3.4.3 in /Library/Frameworks/Python.framework/Versions/3.10/lib/python3.10/site-packages (from validmind) (3.4.3)\n",
      "Requirement already satisfied: myst-parser<2.0.0,>=1.0.0 in /Library/Frameworks/Python.framework/Versions/3.10/lib/python3.10/site-packages (from validmind) (1.0.0)\n",
      "Requirement already satisfied: nltk<4.0.0,>=3.8.1 in /Library/Frameworks/Python.framework/Versions/3.10/lib/python3.10/site-packages (from validmind) (3.8.1)\n",
      "Requirement already satisfied: numpy==1.22.3 in /Library/Frameworks/Python.framework/Versions/3.10/lib/python3.10/site-packages (from validmind) (1.22.3)\n",
      "Requirement already satisfied: pandas==1.5.3 in /Library/Frameworks/Python.framework/Versions/3.10/lib/python3.10/site-packages (from validmind) (1.5.3)\n",
      "Requirement already satisfied: pandas-profiling<4.0.0,>=3.6.6 in /Library/Frameworks/Python.framework/Versions/3.10/lib/python3.10/site-packages (from validmind) (3.6.6)\n",
      "Requirement already satisfied: pdoc<14.0.0,>=13.1.1 in /Library/Frameworks/Python.framework/Versions/3.10/lib/python3.10/site-packages (from validmind) (13.1.1)\n",
      "Requirement already satisfied: plotly<6.0.0,>=5.14.1 in /Library/Frameworks/Python.framework/Versions/3.10/lib/python3.10/site-packages (from validmind) (5.15.0)\n",
      "Requirement already satisfied: pydantic<2.0.0,>=1.9.1 in /Library/Frameworks/Python.framework/Versions/3.10/lib/python3.10/site-packages (from validmind) (1.10.11)\n",
      "Requirement already satisfied: pypmml<0.10.0,>=0.9.17 in /Library/Frameworks/Python.framework/Versions/3.10/lib/python3.10/site-packages (from validmind) (0.9.17)\n",
      "Requirement already satisfied: python-dotenv<0.21.0,>=0.20.0 in /Library/Frameworks/Python.framework/Versions/3.10/lib/python3.10/site-packages (from validmind) (0.20.0)\n",
      "Requirement already satisfied: requests<3.0.0,>=2.27.1 in /Library/Frameworks/Python.framework/Versions/3.10/lib/python3.10/site-packages (from validmind) (2.31.0)\n",
      "Requirement already satisfied: scikit-learn<2.0.0,>=1.0.2 in /Library/Frameworks/Python.framework/Versions/3.10/lib/python3.10/site-packages (from validmind) (1.3.0)\n",
      "Requirement already satisfied: seaborn<0.12.0,>=0.11.2 in /Library/Frameworks/Python.framework/Versions/3.10/lib/python3.10/site-packages (from validmind) (0.11.2)\n",
      "Requirement already satisfied: sentry-sdk<2.0.0,>=1.24.0 in /Library/Frameworks/Python.framework/Versions/3.10/lib/python3.10/site-packages (from validmind) (1.28.0)\n",
      "Requirement already satisfied: shap<0.42.0,>=0.41.0 in /Library/Frameworks/Python.framework/Versions/3.10/lib/python3.10/site-packages (from validmind) (0.41.0)\n",
      "Requirement already satisfied: sphinx<7.0.0,>=6.1.3 in /Library/Frameworks/Python.framework/Versions/3.10/lib/python3.10/site-packages (from validmind) (6.2.1)\n",
      "Requirement already satisfied: sphinx-markdown-builder<0.6.0,>=0.5.5 in /Library/Frameworks/Python.framework/Versions/3.10/lib/python3.10/site-packages (from validmind) (0.5.5)\n",
      "Requirement already satisfied: sphinx-rtd-theme<2.0.0,>=1.2.0 in /Library/Frameworks/Python.framework/Versions/3.10/lib/python3.10/site-packages (from validmind) (1.2.2)\n",
      "Requirement already satisfied: statsmodels<0.14.0,>=0.13.5 in /Library/Frameworks/Python.framework/Versions/3.10/lib/python3.10/site-packages (from validmind) (0.13.5)\n",
      "Requirement already satisfied: tabulate<0.9.0,>=0.8.9 in /Library/Frameworks/Python.framework/Versions/3.10/lib/python3.10/site-packages (from validmind) (0.8.10)\n",
      "Requirement already satisfied: tqdm<5.0.0,>=4.64.0 in /Library/Frameworks/Python.framework/Versions/3.10/lib/python3.10/site-packages (from validmind) (4.65.0)\n",
      "Requirement already satisfied: xgboost<2.0.0,>=1.5.2 in /Library/Frameworks/Python.framework/Versions/3.10/lib/python3.10/site-packages (from validmind) (1.7.6)\n",
      "Requirement already satisfied: setuptools>=18.5 in /Library/Frameworks/Python.framework/Versions/3.10/lib/python3.10/site-packages (from ipython==7.34.0->validmind) (58.1.0)\n",
      "Requirement already satisfied: jedi>=0.16 in /Users/sydneysugar/Library/Python/3.10/lib/python/site-packages (from ipython==7.34.0->validmind) (0.18.2)\n",
      "Requirement already satisfied: decorator in /Users/sydneysugar/Library/Python/3.10/lib/python/site-packages (from ipython==7.34.0->validmind) (5.1.1)\n",
      "Requirement already satisfied: pickleshare in /Users/sydneysugar/Library/Python/3.10/lib/python/site-packages (from ipython==7.34.0->validmind) (0.7.5)\n",
      "Requirement already satisfied: traitlets>=4.2 in /Users/sydneysugar/Library/Python/3.10/lib/python/site-packages (from ipython==7.34.0->validmind) (5.9.0)\n",
      "Requirement already satisfied: prompt-toolkit!=3.0.0,!=3.0.1,<3.1.0,>=2.0.0 in /Users/sydneysugar/Library/Python/3.10/lib/python/site-packages (from ipython==7.34.0->validmind) (3.0.38)\n",
      "Requirement already satisfied: pygments in /Users/sydneysugar/Library/Python/3.10/lib/python/site-packages (from ipython==7.34.0->validmind) (2.15.1)\n",
      "Requirement already satisfied: backcall in /Users/sydneysugar/Library/Python/3.10/lib/python/site-packages (from ipython==7.34.0->validmind) (0.2.0)\n",
      "Requirement already satisfied: matplotlib-inline in /Users/sydneysugar/Library/Python/3.10/lib/python/site-packages (from ipython==7.34.0->validmind) (0.1.6)\n",
      "Requirement already satisfied: pexpect>4.3 in /Users/sydneysugar/Library/Python/3.10/lib/python/site-packages (from ipython==7.34.0->validmind) (4.8.0)\n",
      "Requirement already satisfied: appnope in /Users/sydneysugar/Library/Python/3.10/lib/python/site-packages (from ipython==7.34.0->validmind) (0.1.3)\n",
      "Requirement already satisfied: python-dateutil>=2.8.1 in /Users/sydneysugar/Library/Python/3.10/lib/python/site-packages (from pandas==1.5.3->validmind) (2.8.2)\n",
      "Requirement already satisfied: pytz>=2020.1 in /Library/Frameworks/Python.framework/Versions/3.10/lib/python3.10/site-packages (from pandas==1.5.3->validmind) (2023.3)\n",
      "Requirement already satisfied: attrs>=17.3.0 in /Library/Frameworks/Python.framework/Versions/3.10/lib/python3.10/site-packages (from aiohttp[speedups]<4.0.0,>=3.8.4->validmind) (23.1.0)\n",
      "Requirement already satisfied: charset-normalizer<4.0,>=2.0 in /Library/Frameworks/Python.framework/Versions/3.10/lib/python3.10/site-packages (from aiohttp[speedups]<4.0.0,>=3.8.4->validmind) (3.2.0)\n",
      "Requirement already satisfied: multidict<7.0,>=4.5 in /Library/Frameworks/Python.framework/Versions/3.10/lib/python3.10/site-packages (from aiohttp[speedups]<4.0.0,>=3.8.4->validmind) (6.0.4)\n",
      "Requirement already satisfied: async-timeout<5.0,>=4.0.0a3 in /Library/Frameworks/Python.framework/Versions/3.10/lib/python3.10/site-packages (from aiohttp[speedups]<4.0.0,>=3.8.4->validmind) (4.0.2)\n",
      "Requirement already satisfied: yarl<2.0,>=1.0 in /Library/Frameworks/Python.framework/Versions/3.10/lib/python3.10/site-packages (from aiohttp[speedups]<4.0.0,>=3.8.4->validmind) (1.9.2)\n",
      "Requirement already satisfied: frozenlist>=1.1.1 in /Library/Frameworks/Python.framework/Versions/3.10/lib/python3.10/site-packages (from aiohttp[speedups]<4.0.0,>=3.8.4->validmind) (1.3.3)\n",
      "Requirement already satisfied: aiosignal>=1.1.2 in /Library/Frameworks/Python.framework/Versions/3.10/lib/python3.10/site-packages (from aiohttp[speedups]<4.0.0,>=3.8.4->validmind) (1.3.1)\n",
      "Requirement already satisfied: aiodns in /Library/Frameworks/Python.framework/Versions/3.10/lib/python3.10/site-packages (from aiohttp[speedups]<4.0.0,>=3.8.4->validmind) (3.0.0)\n",
      "Requirement already satisfied: Brotli in /Library/Frameworks/Python.framework/Versions/3.10/lib/python3.10/site-packages (from aiohttp[speedups]<4.0.0,>=3.8.4->validmind) (1.0.9)\n",
      "Requirement already satisfied: scipy>=1.3 in /Library/Frameworks/Python.framework/Versions/3.10/lib/python3.10/site-packages (from arch<6.0.0,>=5.4.0->validmind) (1.10.1)\n",
      "Requirement already satisfied: property-cached>=1.6.4 in /Library/Frameworks/Python.framework/Versions/3.10/lib/python3.10/site-packages (from arch<6.0.0,>=5.4.0->validmind) (1.6.4)\n",
      "Requirement already satisfied: graphviz in /Library/Frameworks/Python.framework/Versions/3.10/lib/python3.10/site-packages (from catboost<2.0,>=1.2->validmind) (0.20.1)\n",
      "Requirement already satisfied: matplotlib in /Library/Frameworks/Python.framework/Versions/3.10/lib/python3.10/site-packages (from catboost<2.0,>=1.2->validmind) (3.7.2)\n",
      "Requirement already satisfied: six in /Users/sydneysugar/Library/Python/3.10/lib/python/site-packages (from catboost<2.0,>=1.2->validmind) (1.16.0)\n",
      "Requirement already satisfied: scikit-plot>=0.3.7 in /Library/Frameworks/Python.framework/Versions/3.10/lib/python3.10/site-packages (from dython<0.8.0,>=0.7.1->validmind) (0.3.7)\n",
      "Requirement already satisfied: psutil>=5.9.1 in /Users/sydneysugar/Library/Python/3.10/lib/python/site-packages (from dython<0.8.0,>=0.7.1->validmind) (5.9.5)\n",
      "Requirement already satisfied: ipykernel>=4.5.1 in /Users/sydneysugar/Library/Python/3.10/lib/python/site-packages (from ipywidgets<9.0.0,>=8.0.6->validmind) (6.23.1)\n",
      "Requirement already satisfied: widgetsnbextension~=4.0.7 in /Library/Frameworks/Python.framework/Versions/3.10/lib/python3.10/site-packages (from ipywidgets<9.0.0,>=8.0.6->validmind) (4.0.8)\n",
      "Requirement already satisfied: jupyterlab-widgets~=3.0.7 in /Library/Frameworks/Python.framework/Versions/3.10/lib/python3.10/site-packages (from ipywidgets<9.0.0,>=8.0.6->validmind) (3.0.8)\n",
      "Requirement already satisfied: docutils<0.20,>=0.15 in /Library/Frameworks/Python.framework/Versions/3.10/lib/python3.10/site-packages (from myst-parser<2.0.0,>=1.0.0->validmind) (0.18.1)\n",
      "Requirement already satisfied: jinja2 in /Library/Frameworks/Python.framework/Versions/3.10/lib/python3.10/site-packages (from myst-parser<2.0.0,>=1.0.0->validmind) (3.1.2)\n",
      "Requirement already satisfied: markdown-it-py<3.0.0,>=1.0.0 in /Library/Frameworks/Python.framework/Versions/3.10/lib/python3.10/site-packages (from myst-parser<2.0.0,>=1.0.0->validmind) (2.2.0)\n",
      "Requirement already satisfied: mdit-py-plugins~=0.3.4 in /Library/Frameworks/Python.framework/Versions/3.10/lib/python3.10/site-packages (from myst-parser<2.0.0,>=1.0.0->validmind) (0.3.5)\n",
      "Requirement already satisfied: pyyaml in /Library/Frameworks/Python.framework/Versions/3.10/lib/python3.10/site-packages (from myst-parser<2.0.0,>=1.0.0->validmind) (6.0)\n",
      "Requirement already satisfied: joblib in /Library/Frameworks/Python.framework/Versions/3.10/lib/python3.10/site-packages (from nltk<4.0.0,>=3.8.1->validmind) (1.3.1)\n",
      "Requirement already satisfied: regex>=2021.8.3 in /Library/Frameworks/Python.framework/Versions/3.10/lib/python3.10/site-packages (from nltk<4.0.0,>=3.8.1->validmind) (2023.6.3)\n",
      "Requirement already satisfied: ydata-profiling in /Library/Frameworks/Python.framework/Versions/3.10/lib/python3.10/site-packages (from pandas-profiling<4.0.0,>=3.6.6->validmind) (4.3.1)\n",
      "Requirement already satisfied: MarkupSafe in /Library/Frameworks/Python.framework/Versions/3.10/lib/python3.10/site-packages (from pdoc<14.0.0,>=13.1.1->validmind) (2.1.3)\n",
      "Requirement already satisfied: tenacity>=6.2.0 in /Library/Frameworks/Python.framework/Versions/3.10/lib/python3.10/site-packages (from plotly<6.0.0,>=5.14.1->validmind) (8.2.2)\n",
      "Requirement already satisfied: packaging in /Users/sydneysugar/Library/Python/3.10/lib/python/site-packages (from plotly<6.0.0,>=5.14.1->validmind) (23.1)\n",
      "Requirement already satisfied: typing-extensions>=4.2.0 in /Library/Frameworks/Python.framework/Versions/3.10/lib/python3.10/site-packages (from pydantic<2.0.0,>=1.9.1->validmind) (4.7.1)\n",
      "Requirement already satisfied: py4j>=0.10.7 in /Library/Frameworks/Python.framework/Versions/3.10/lib/python3.10/site-packages (from pypmml<0.10.0,>=0.9.17->validmind) (0.10.9.7)\n",
      "Requirement already satisfied: idna<4,>=2.5 in /Library/Frameworks/Python.framework/Versions/3.10/lib/python3.10/site-packages (from requests<3.0.0,>=2.27.1->validmind) (3.4)\n",
      "Requirement already satisfied: urllib3<3,>=1.21.1 in /Library/Frameworks/Python.framework/Versions/3.10/lib/python3.10/site-packages (from requests<3.0.0,>=2.27.1->validmind) (2.0.3)\n",
      "Requirement already satisfied: certifi>=2017.4.17 in /Library/Frameworks/Python.framework/Versions/3.10/lib/python3.10/site-packages (from requests<3.0.0,>=2.27.1->validmind) (2023.5.7)\n",
      "Requirement already satisfied: threadpoolctl>=2.0.0 in /Library/Frameworks/Python.framework/Versions/3.10/lib/python3.10/site-packages (from scikit-learn<2.0.0,>=1.0.2->validmind) (3.1.0)\n",
      "Requirement already satisfied: slicer==0.0.7 in /Library/Frameworks/Python.framework/Versions/3.10/lib/python3.10/site-packages (from shap<0.42.0,>=0.41.0->validmind) (0.0.7)\n",
      "Requirement already satisfied: numba in /Library/Frameworks/Python.framework/Versions/3.10/lib/python3.10/site-packages (from shap<0.42.0,>=0.41.0->validmind) (0.57.1)\n",
      "Requirement already satisfied: cloudpickle in /Library/Frameworks/Python.framework/Versions/3.10/lib/python3.10/site-packages (from shap<0.42.0,>=0.41.0->validmind) (2.2.1)\n",
      "Requirement already satisfied: sphinxcontrib-applehelp in /Library/Frameworks/Python.framework/Versions/3.10/lib/python3.10/site-packages (from sphinx<7.0.0,>=6.1.3->validmind) (1.0.4)\n",
      "Requirement already satisfied: sphinxcontrib-devhelp in /Library/Frameworks/Python.framework/Versions/3.10/lib/python3.10/site-packages (from sphinx<7.0.0,>=6.1.3->validmind) (1.0.2)\n",
      "Requirement already satisfied: sphinxcontrib-jsmath in /Library/Frameworks/Python.framework/Versions/3.10/lib/python3.10/site-packages (from sphinx<7.0.0,>=6.1.3->validmind) (1.0.1)\n",
      "Requirement already satisfied: sphinxcontrib-htmlhelp>=2.0.0 in /Library/Frameworks/Python.framework/Versions/3.10/lib/python3.10/site-packages (from sphinx<7.0.0,>=6.1.3->validmind) (2.0.1)\n",
      "Requirement already satisfied: sphinxcontrib-serializinghtml>=1.1.5 in /Library/Frameworks/Python.framework/Versions/3.10/lib/python3.10/site-packages (from sphinx<7.0.0,>=6.1.3->validmind) (1.1.5)\n",
      "Requirement already satisfied: sphinxcontrib-qthelp in /Library/Frameworks/Python.framework/Versions/3.10/lib/python3.10/site-packages (from sphinx<7.0.0,>=6.1.3->validmind) (1.0.3)\n",
      "Requirement already satisfied: snowballstemmer>=2.0 in /Library/Frameworks/Python.framework/Versions/3.10/lib/python3.10/site-packages (from sphinx<7.0.0,>=6.1.3->validmind) (2.2.0)\n",
      "Requirement already satisfied: babel>=2.9 in /Library/Frameworks/Python.framework/Versions/3.10/lib/python3.10/site-packages (from sphinx<7.0.0,>=6.1.3->validmind) (2.12.1)\n",
      "Requirement already satisfied: alabaster<0.8,>=0.7 in /Library/Frameworks/Python.framework/Versions/3.10/lib/python3.10/site-packages (from sphinx<7.0.0,>=6.1.3->validmind) (0.7.13)\n",
      "Requirement already satisfied: imagesize>=1.3 in /Library/Frameworks/Python.framework/Versions/3.10/lib/python3.10/site-packages (from sphinx<7.0.0,>=6.1.3->validmind) (1.4.1)\n",
      "Requirement already satisfied: html2text in /Library/Frameworks/Python.framework/Versions/3.10/lib/python3.10/site-packages (from sphinx-markdown-builder<0.6.0,>=0.5.5->validmind) (2020.1.16)\n",
      "Requirement already satisfied: pydash in /Library/Frameworks/Python.framework/Versions/3.10/lib/python3.10/site-packages (from sphinx-markdown-builder<0.6.0,>=0.5.5->validmind) (7.0.5)\n",
      "Requirement already satisfied: unify in /Library/Frameworks/Python.framework/Versions/3.10/lib/python3.10/site-packages (from sphinx-markdown-builder<0.6.0,>=0.5.5->validmind) (0.5)\n",
      "Requirement already satisfied: yapf in /Library/Frameworks/Python.framework/Versions/3.10/lib/python3.10/site-packages (from sphinx-markdown-builder<0.6.0,>=0.5.5->validmind) (0.40.1)\n",
      "Requirement already satisfied: sphinxcontrib-jquery<5,>=4 in /Library/Frameworks/Python.framework/Versions/3.10/lib/python3.10/site-packages (from sphinx-rtd-theme<2.0.0,>=1.2.0->validmind) (4.1)\n",
      "Requirement already satisfied: patsy>=0.5.2 in /Library/Frameworks/Python.framework/Versions/3.10/lib/python3.10/site-packages (from statsmodels<0.14.0,>=0.13.5->validmind) (0.5.3)\n",
      "Requirement already satisfied: comm>=0.1.1 in /Users/sydneysugar/Library/Python/3.10/lib/python/site-packages (from ipykernel>=4.5.1->ipywidgets<9.0.0,>=8.0.6->validmind) (0.1.3)\n",
      "Requirement already satisfied: debugpy>=1.6.5 in /Users/sydneysugar/Library/Python/3.10/lib/python/site-packages (from ipykernel>=4.5.1->ipywidgets<9.0.0,>=8.0.6->validmind) (1.6.7)\n",
      "Requirement already satisfied: jupyter-client>=6.1.12 in /Users/sydneysugar/Library/Python/3.10/lib/python/site-packages (from ipykernel>=4.5.1->ipywidgets<9.0.0,>=8.0.6->validmind) (8.2.0)\n",
      "Requirement already satisfied: jupyter-core!=5.0.*,>=4.12 in /Users/sydneysugar/Library/Python/3.10/lib/python/site-packages (from ipykernel>=4.5.1->ipywidgets<9.0.0,>=8.0.6->validmind) (5.3.0)\n",
      "Requirement already satisfied: nest-asyncio in /Users/sydneysugar/Library/Python/3.10/lib/python/site-packages (from ipykernel>=4.5.1->ipywidgets<9.0.0,>=8.0.6->validmind) (1.5.6)\n",
      "Requirement already satisfied: pyzmq>=20 in /Users/sydneysugar/Library/Python/3.10/lib/python/site-packages (from ipykernel>=4.5.1->ipywidgets<9.0.0,>=8.0.6->validmind) (25.1.0)\n",
      "Requirement already satisfied: tornado>=6.1 in /Users/sydneysugar/Library/Python/3.10/lib/python/site-packages (from ipykernel>=4.5.1->ipywidgets<9.0.0,>=8.0.6->validmind) (6.3.2)\n",
      "Requirement already satisfied: parso<0.9.0,>=0.8.0 in /Users/sydneysugar/Library/Python/3.10/lib/python/site-packages (from jedi>=0.16->ipython==7.34.0->validmind) (0.8.3)\n",
      "Requirement already satisfied: mdurl~=0.1 in /Library/Frameworks/Python.framework/Versions/3.10/lib/python3.10/site-packages (from markdown-it-py<3.0.0,>=1.0.0->myst-parser<2.0.0,>=1.0.0->validmind) (0.1.2)\n",
      "Requirement already satisfied: contourpy>=1.0.1 in /Library/Frameworks/Python.framework/Versions/3.10/lib/python3.10/site-packages (from matplotlib->catboost<2.0,>=1.2->validmind) (1.1.0)\n",
      "Requirement already satisfied: cycler>=0.10 in /Library/Frameworks/Python.framework/Versions/3.10/lib/python3.10/site-packages (from matplotlib->catboost<2.0,>=1.2->validmind) (0.11.0)\n",
      "Requirement already satisfied: fonttools>=4.22.0 in /Library/Frameworks/Python.framework/Versions/3.10/lib/python3.10/site-packages (from matplotlib->catboost<2.0,>=1.2->validmind) (4.40.0)\n",
      "Requirement already satisfied: kiwisolver>=1.0.1 in /Library/Frameworks/Python.framework/Versions/3.10/lib/python3.10/site-packages (from matplotlib->catboost<2.0,>=1.2->validmind) (1.4.4)\n",
      "Requirement already satisfied: pillow>=6.2.0 in /Library/Frameworks/Python.framework/Versions/3.10/lib/python3.10/site-packages (from matplotlib->catboost<2.0,>=1.2->validmind) (10.0.0)\n",
      "Requirement already satisfied: pyparsing<3.1,>=2.3.1 in /Library/Frameworks/Python.framework/Versions/3.10/lib/python3.10/site-packages (from matplotlib->catboost<2.0,>=1.2->validmind) (3.0.9)\n",
      "Requirement already satisfied: ptyprocess>=0.5 in /Users/sydneysugar/Library/Python/3.10/lib/python/site-packages (from pexpect>4.3->ipython==7.34.0->validmind) (0.7.0)\n",
      "Requirement already satisfied: wcwidth in /Users/sydneysugar/Library/Python/3.10/lib/python/site-packages (from prompt-toolkit!=3.0.0,!=3.0.1,<3.1.0,>=2.0.0->ipython==7.34.0->validmind) (0.2.6)\n",
      "Requirement already satisfied: pycares>=4.0.0 in /Library/Frameworks/Python.framework/Versions/3.10/lib/python3.10/site-packages (from aiodns->aiohttp[speedups]<4.0.0,>=3.8.4->validmind) (4.3.0)\n",
      "Requirement already satisfied: llvmlite<0.41,>=0.40.0dev0 in /Library/Frameworks/Python.framework/Versions/3.10/lib/python3.10/site-packages (from numba->shap<0.42.0,>=0.41.0->validmind) (0.40.1)\n",
      "Requirement already satisfied: untokenize in /Library/Frameworks/Python.framework/Versions/3.10/lib/python3.10/site-packages (from unify->sphinx-markdown-builder<0.6.0,>=0.5.5->validmind) (0.1.1)\n",
      "Requirement already satisfied: importlib-metadata>=6.6.0 in /Library/Frameworks/Python.framework/Versions/3.10/lib/python3.10/site-packages (from yapf->sphinx-markdown-builder<0.6.0,>=0.5.5->validmind) (6.8.0)\n",
      "Requirement already satisfied: platformdirs>=3.5.1 in /Users/sydneysugar/Library/Python/3.10/lib/python/site-packages (from yapf->sphinx-markdown-builder<0.6.0,>=0.5.5->validmind) (3.5.1)\n",
      "Requirement already satisfied: tomli>=2.0.1 in /Library/Frameworks/Python.framework/Versions/3.10/lib/python3.10/site-packages (from yapf->sphinx-markdown-builder<0.6.0,>=0.5.5->validmind) (2.0.1)\n",
      "Requirement already satisfied: visions[type_image_path]==0.7.5 in /Library/Frameworks/Python.framework/Versions/3.10/lib/python3.10/site-packages (from ydata-profiling->pandas-profiling<4.0.0,>=3.6.6->validmind) (0.7.5)\n",
      "Requirement already satisfied: htmlmin==0.1.12 in /Library/Frameworks/Python.framework/Versions/3.10/lib/python3.10/site-packages (from ydata-profiling->pandas-profiling<4.0.0,>=3.6.6->validmind) (0.1.12)\n",
      "Requirement already satisfied: phik<0.13,>=0.11.1 in /Library/Frameworks/Python.framework/Versions/3.10/lib/python3.10/site-packages (from ydata-profiling->pandas-profiling<4.0.0,>=3.6.6->validmind) (0.12.3)\n",
      "Requirement already satisfied: multimethod<2,>=1.4 in /Library/Frameworks/Python.framework/Versions/3.10/lib/python3.10/site-packages (from ydata-profiling->pandas-profiling<4.0.0,>=3.6.6->validmind) (1.9.1)\n",
      "Requirement already satisfied: typeguard<3,>=2.13.2 in /Library/Frameworks/Python.framework/Versions/3.10/lib/python3.10/site-packages (from ydata-profiling->pandas-profiling<4.0.0,>=3.6.6->validmind) (2.13.3)\n",
      "Requirement already satisfied: imagehash==4.3.1 in /Library/Frameworks/Python.framework/Versions/3.10/lib/python3.10/site-packages (from ydata-profiling->pandas-profiling<4.0.0,>=3.6.6->validmind) (4.3.1)\n",
      "Requirement already satisfied: wordcloud>=1.9.1 in /Library/Frameworks/Python.framework/Versions/3.10/lib/python3.10/site-packages (from ydata-profiling->pandas-profiling<4.0.0,>=3.6.6->validmind) (1.9.2)\n",
      "Requirement already satisfied: dacite>=1.8 in /Library/Frameworks/Python.framework/Versions/3.10/lib/python3.10/site-packages (from ydata-profiling->pandas-profiling<4.0.0,>=3.6.6->validmind) (1.8.1)\n",
      "Requirement already satisfied: PyWavelets in /Library/Frameworks/Python.framework/Versions/3.10/lib/python3.10/site-packages (from imagehash==4.3.1->ydata-profiling->pandas-profiling<4.0.0,>=3.6.6->validmind) (1.4.1)\n",
      "Requirement already satisfied: networkx>=2.4 in /Library/Frameworks/Python.framework/Versions/3.10/lib/python3.10/site-packages (from visions[type_image_path]==0.7.5->ydata-profiling->pandas-profiling<4.0.0,>=3.6.6->validmind) (3.1)\n",
      "Requirement already satisfied: tangled-up-in-unicode>=0.0.4 in /Library/Frameworks/Python.framework/Versions/3.10/lib/python3.10/site-packages (from visions[type_image_path]==0.7.5->ydata-profiling->pandas-profiling<4.0.0,>=3.6.6->validmind) (0.2.0)\n",
      "Requirement already satisfied: zipp>=0.5 in /Library/Frameworks/Python.framework/Versions/3.10/lib/python3.10/site-packages (from importlib-metadata>=6.6.0->yapf->sphinx-markdown-builder<0.6.0,>=0.5.5->validmind) (3.15.0)\n",
      "Requirement already satisfied: cffi>=1.5.0 in /Library/Frameworks/Python.framework/Versions/3.10/lib/python3.10/site-packages (from pycares>=4.0.0->aiodns->aiohttp[speedups]<4.0.0,>=3.8.4->validmind) (1.15.1)\n",
      "Requirement already satisfied: pycparser in /Library/Frameworks/Python.framework/Versions/3.10/lib/python3.10/site-packages (from cffi>=1.5.0->pycares>=4.0.0->aiodns->aiohttp[speedups]<4.0.0,>=3.8.4->validmind) (2.21)\n",
      "Note: you may need to restart the kernel to use updated packages.\n"
     ]
    }
   ],
   "source": [
    "%pip install --upgrade validmind"
   ]
  },
  {
   "attachments": {},
   "cell_type": "markdown",
   "metadata": {},
   "source": [
    "## Initialize the client library\n",
    "\n",
    "In a browser, go to the **Client Integration** page of your documentation project and click **Copy to clipboard** next to the code snippet. This code snippet gives you the API key, API secret, and project identifier to link your notebook to your documentation project.\n",
    "\n",
    "::: {.column-margin}\n",
    "::: {.callout-tip}\n",
    "This step requires a documentation project. [Learn how you can create one](https://docs.validmind.ai/guide/create-your-first-documentation-project.html).\n",
    ":::\n",
    ":::\n",
    "\n",
    "Next, replace this placeholder with your own code snippet:"
   ]
  },
  {
   "cell_type": "code",
   "execution_count": 2,
   "metadata": {},
   "outputs": [
    {
     "name": "stderr",
     "output_type": "stream",
     "text": [
      "2023-07-10 14:39:00,555 - INFO - api_client - Connected to ValidMind. Project: Customer Churn Model - Test for Notebooks, Sydney (cljxccag7000016mkriy2l77l)\n"
     ]
    }
   ],
   "source": [
    "## Replace with code snippet from your documentation project ##\n",
    "\n",
    "import validmind as vm\n",
    "\n",
    "vm.init(\n",
    "  api_host = \"https://api.prod.validmind.ai/api/v1/tracking\",\n",
    "  api_key = \"xxxxxxxxxxxxxxxxxxxxxxxxxxxxxxxx\",\n",
    "  api_secret = \"API_SECRET\",\n",
    "  project = \"xxxxxxxxxxxxxxxxxxxxxxxxx\"\n",
    ")"
   ]
  },
  {
   "cell_type": "code",
   "execution_count": 3,
   "metadata": {},
   "outputs": [],
   "source": [
    "import pandas as pd\n",
    "import xgboost as xgb\n",
    "\n",
    "from sklearn.metrics import accuracy_score\n",
    "from sklearn.model_selection import train_test_split\n",
    "\n",
    "%matplotlib inline"
   ]
  },
  {
   "attachments": {},
   "cell_type": "markdown",
   "metadata": {},
   "source": [
    "## Load the Demo Dataset"
   ]
  },
  {
   "cell_type": "code",
   "execution_count": 4,
   "metadata": {},
   "outputs": [],
   "source": [
    "# You can also import customer_churn like this:\n",
    "from validmind.datasets.classification import customer_churn as demo_dataset\n",
    "# from validmind.datasets.classification import taiwan_credit as demo_dataset\n",
    "\n",
    "df = demo_dataset.load_data()"
   ]
  },
  {
   "attachments": {},
   "cell_type": "markdown",
   "metadata": {},
   "source": [
    "### Prepocess the Raw Dataset"
   ]
  },
  {
   "cell_type": "code",
   "execution_count": 5,
   "metadata": {},
   "outputs": [],
   "source": [
    "train_df, validation_df, test_df = demo_dataset.preprocess(df)"
   ]
  },
  {
   "attachments": {},
   "cell_type": "markdown",
   "metadata": {},
   "source": [
    "## Train a Model for Testing\n",
    "\n",
    "We train a simple customer churn model for our test."
   ]
  },
  {
   "cell_type": "code",
   "execution_count": 6,
   "metadata": {},
   "outputs": [
    {
     "data": {
      "text/html": [
       "<style>#sk-container-id-1 {color: black;}#sk-container-id-1 pre{padding: 0;}#sk-container-id-1 div.sk-toggleable {background-color: white;}#sk-container-id-1 label.sk-toggleable__label {cursor: pointer;display: block;width: 100%;margin-bottom: 0;padding: 0.3em;box-sizing: border-box;text-align: center;}#sk-container-id-1 label.sk-toggleable__label-arrow:before {content: \"▸\";float: left;margin-right: 0.25em;color: #696969;}#sk-container-id-1 label.sk-toggleable__label-arrow:hover:before {color: black;}#sk-container-id-1 div.sk-estimator:hover label.sk-toggleable__label-arrow:before {color: black;}#sk-container-id-1 div.sk-toggleable__content {max-height: 0;max-width: 0;overflow: hidden;text-align: left;background-color: #f0f8ff;}#sk-container-id-1 div.sk-toggleable__content pre {margin: 0.2em;color: black;border-radius: 0.25em;background-color: #f0f8ff;}#sk-container-id-1 input.sk-toggleable__control:checked~div.sk-toggleable__content {max-height: 200px;max-width: 100%;overflow: auto;}#sk-container-id-1 input.sk-toggleable__control:checked~label.sk-toggleable__label-arrow:before {content: \"▾\";}#sk-container-id-1 div.sk-estimator input.sk-toggleable__control:checked~label.sk-toggleable__label {background-color: #d4ebff;}#sk-container-id-1 div.sk-label input.sk-toggleable__control:checked~label.sk-toggleable__label {background-color: #d4ebff;}#sk-container-id-1 input.sk-hidden--visually {border: 0;clip: rect(1px 1px 1px 1px);clip: rect(1px, 1px, 1px, 1px);height: 1px;margin: -1px;overflow: hidden;padding: 0;position: absolute;width: 1px;}#sk-container-id-1 div.sk-estimator {font-family: monospace;background-color: #f0f8ff;border: 1px dotted black;border-radius: 0.25em;box-sizing: border-box;margin-bottom: 0.5em;}#sk-container-id-1 div.sk-estimator:hover {background-color: #d4ebff;}#sk-container-id-1 div.sk-parallel-item::after {content: \"\";width: 100%;border-bottom: 1px solid gray;flex-grow: 1;}#sk-container-id-1 div.sk-label:hover label.sk-toggleable__label {background-color: #d4ebff;}#sk-container-id-1 div.sk-serial::before {content: \"\";position: absolute;border-left: 1px solid gray;box-sizing: border-box;top: 0;bottom: 0;left: 50%;z-index: 0;}#sk-container-id-1 div.sk-serial {display: flex;flex-direction: column;align-items: center;background-color: white;padding-right: 0.2em;padding-left: 0.2em;position: relative;}#sk-container-id-1 div.sk-item {position: relative;z-index: 1;}#sk-container-id-1 div.sk-parallel {display: flex;align-items: stretch;justify-content: center;background-color: white;position: relative;}#sk-container-id-1 div.sk-item::before, #sk-container-id-1 div.sk-parallel-item::before {content: \"\";position: absolute;border-left: 1px solid gray;box-sizing: border-box;top: 0;bottom: 0;left: 50%;z-index: -1;}#sk-container-id-1 div.sk-parallel-item {display: flex;flex-direction: column;z-index: 1;position: relative;background-color: white;}#sk-container-id-1 div.sk-parallel-item:first-child::after {align-self: flex-end;width: 50%;}#sk-container-id-1 div.sk-parallel-item:last-child::after {align-self: flex-start;width: 50%;}#sk-container-id-1 div.sk-parallel-item:only-child::after {width: 0;}#sk-container-id-1 div.sk-dashed-wrapped {border: 1px dashed gray;margin: 0 0.4em 0.5em 0.4em;box-sizing: border-box;padding-bottom: 0.4em;background-color: white;}#sk-container-id-1 div.sk-label label {font-family: monospace;font-weight: bold;display: inline-block;line-height: 1.2em;}#sk-container-id-1 div.sk-label-container {text-align: center;}#sk-container-id-1 div.sk-container {/* jupyter's `normalize.less` sets `[hidden] { display: none; }` but bootstrap.min.css set `[hidden] { display: none !important; }` so we also need the `!important` here to be able to override the default hidden behavior on the sphinx rendered scikit-learn.org. See: https://github.com/scikit-learn/scikit-learn/issues/21755 */display: inline-block !important;position: relative;}#sk-container-id-1 div.sk-text-repr-fallback {display: none;}</style><div id=\"sk-container-id-1\" class=\"sk-top-container\"><div class=\"sk-text-repr-fallback\"><pre>XGBClassifier(base_score=None, booster=None, callbacks=None,\n",
       "              colsample_bylevel=None, colsample_bynode=None,\n",
       "              colsample_bytree=None, early_stopping_rounds=10,\n",
       "              enable_categorical=False, eval_metric=[&#x27;error&#x27;, &#x27;logloss&#x27;, &#x27;auc&#x27;],\n",
       "              feature_types=None, gamma=None, gpu_id=None, grow_policy=None,\n",
       "              importance_type=None, interaction_constraints=None,\n",
       "              learning_rate=None, max_bin=None, max_cat_threshold=None,\n",
       "              max_cat_to_onehot=None, max_delta_step=None, max_depth=None,\n",
       "              max_leaves=None, min_child_weight=None, missing=nan,\n",
       "              monotone_constraints=None, n_estimators=100, n_jobs=None,\n",
       "              num_parallel_tree=None, predictor=None, random_state=None, ...)</pre><b>In a Jupyter environment, please rerun this cell to show the HTML representation or trust the notebook. <br />On GitHub, the HTML representation is unable to render, please try loading this page with nbviewer.org.</b></div><div class=\"sk-container\" hidden><div class=\"sk-item\"><div class=\"sk-estimator sk-toggleable\"><input class=\"sk-toggleable__control sk-hidden--visually\" id=\"sk-estimator-id-1\" type=\"checkbox\" checked><label for=\"sk-estimator-id-1\" class=\"sk-toggleable__label sk-toggleable__label-arrow\">XGBClassifier</label><div class=\"sk-toggleable__content\"><pre>XGBClassifier(base_score=None, booster=None, callbacks=None,\n",
       "              colsample_bylevel=None, colsample_bynode=None,\n",
       "              colsample_bytree=None, early_stopping_rounds=10,\n",
       "              enable_categorical=False, eval_metric=[&#x27;error&#x27;, &#x27;logloss&#x27;, &#x27;auc&#x27;],\n",
       "              feature_types=None, gamma=None, gpu_id=None, grow_policy=None,\n",
       "              importance_type=None, interaction_constraints=None,\n",
       "              learning_rate=None, max_bin=None, max_cat_threshold=None,\n",
       "              max_cat_to_onehot=None, max_delta_step=None, max_depth=None,\n",
       "              max_leaves=None, min_child_weight=None, missing=nan,\n",
       "              monotone_constraints=None, n_estimators=100, n_jobs=None,\n",
       "              num_parallel_tree=None, predictor=None, random_state=None, ...)</pre></div></div></div></div></div>"
      ],
      "text/plain": [
       "XGBClassifier(base_score=None, booster=None, callbacks=None,\n",
       "              colsample_bylevel=None, colsample_bynode=None,\n",
       "              colsample_bytree=None, early_stopping_rounds=10,\n",
       "              enable_categorical=False, eval_metric=['error', 'logloss', 'auc'],\n",
       "              feature_types=None, gamma=None, gpu_id=None, grow_policy=None,\n",
       "              importance_type=None, interaction_constraints=None,\n",
       "              learning_rate=None, max_bin=None, max_cat_threshold=None,\n",
       "              max_cat_to_onehot=None, max_delta_step=None, max_depth=None,\n",
       "              max_leaves=None, min_child_weight=None, missing=nan,\n",
       "              monotone_constraints=None, n_estimators=100, n_jobs=None,\n",
       "              num_parallel_tree=None, predictor=None, random_state=None, ...)"
      ]
     },
     "execution_count": 6,
     "metadata": {},
     "output_type": "execute_result"
    }
   ],
   "source": [
    "x_train = train_df.drop(demo_dataset.target_column, axis=1)\n",
    "y_train = train_df[demo_dataset.target_column]\n",
    "x_val = validation_df.drop(demo_dataset.target_column, axis=1)\n",
    "y_val = validation_df[demo_dataset.target_column]\n",
    "\n",
    "model = xgb.XGBClassifier(early_stopping_rounds=10)\n",
    "model.set_params(\n",
    "    eval_metric=[\"error\", \"logloss\", \"auc\"],\n",
    ")\n",
    "model.fit(\n",
    "    x_train,\n",
    "    y_train,\n",
    "    eval_set=[(x_val, y_val)],\n",
    "    verbose=False,\n",
    ")"
   ]
  },
  {
   "attachments": {},
   "cell_type": "markdown",
   "metadata": {},
   "source": [
    "## Import and Run the Individual Test\n",
    "\n",
    "### Initialize ValidMind objects"
   ]
  },
  {
   "cell_type": "code",
   "execution_count": 7,
   "metadata": {},
   "outputs": [
    {
     "name": "stderr",
     "output_type": "stream",
     "text": [
      "2023-07-10 14:39:27,337 - INFO - client - Pandas dataset detected. Initializing VM Dataset instance...\n",
      "2023-07-10 14:39:27,348 - INFO - dataset - Inferring dataset types...\n",
      "2023-07-10 14:39:27,579 - INFO - client - Pandas dataset detected. Initializing VM Dataset instance...\n",
      "2023-07-10 14:39:27,581 - INFO - dataset - Inferring dataset types...\n"
     ]
    }
   ],
   "source": [
    "vm_train_ds = vm.init_dataset(\n",
    "    dataset=train_df,\n",
    "    type=\"generic\",\n",
    "    target_column=demo_dataset.target_column\n",
    ")\n",
    "\n",
    "vm_test_ds = vm.init_dataset(\n",
    "    dataset=test_df,\n",
    "    type=\"generic\",\n",
    "    target_column=demo_dataset.target_column\n",
    ")\n",
    "\n",
    "vm_model = vm.init_model(\n",
    "    model,\n",
    "    train_ds=vm_train_ds,\n",
    "    test_ds=vm_test_ds,\n",
    ")"
   ]
  },
  {
   "attachments": {},
   "cell_type": "markdown",
   "metadata": {},
   "source": [
    "\n",
    "### Import the individual test"
   ]
  },
  {
   "cell_type": "code",
   "execution_count": 8,
   "metadata": {},
   "outputs": [],
   "source": [
    "from validmind.vm_models.test_context import TestContext\n",
    "from validmind.tests.model_validation.sklearn.TrainingTestDegradation import TrainingTestDegradation\n"
   ]
  },
  {
   "attachments": {},
   "cell_type": "markdown",
   "metadata": {},
   "source": [
    "### Pass the required context and config parameters"
   ]
  },
  {
   "cell_type": "code",
   "execution_count": 9,
   "metadata": {},
   "outputs": [],
   "source": [
    "test_context = TestContext(model=vm_model)\n",
    "ws_diagnostic = TrainingTestDegradation(test_context)"
   ]
  },
  {
   "attachments": {},
   "cell_type": "markdown",
   "metadata": {},
   "source": [
    "### Run the test"
   ]
  },
  {
   "cell_type": "code",
   "execution_count": 10,
   "metadata": {},
   "outputs": [
    {
     "data": {
      "text/plain": [
       "TestPlanTestResult(result_id=\"training_test_degradation\", test_results)"
      ]
     },
     "execution_count": 10,
     "metadata": {},
     "output_type": "execute_result"
    }
   ],
   "source": [
    "ws_diagnostic.run()"
   ]
  },
  {
   "attachments": {},
   "cell_type": "markdown",
   "metadata": {},
   "source": [
    "### Display results"
   ]
  },
  {
   "cell_type": "code",
   "execution_count": 11,
   "metadata": {},
   "outputs": [
    {
     "data": {
      "application/vnd.jupyter.widget-view+json": {
       "model_id": "9dcd9c2b3eb04269b5643b0aec235947",
       "version_major": 2,
       "version_minor": 0
      },
      "text/plain": [
       "VBox(children=(HTML(value='\\n            <h2>Training Test Degradation ❌</h2>\\n            <p>Test that the de…"
      ]
     },
     "metadata": {},
     "output_type": "display_data"
    }
   ],
   "source": [
    "ws_diagnostic.result.show()"
   ]
  }
 ],
 "metadata": {
  "kernelspec": {
   "display_name": "Python 3",
   "language": "python",
   "name": "python3"
  },
  "language_info": {
   "codemirror_mode": {
    "name": "ipython",
    "version": 3
   },
   "file_extension": ".py",
   "mimetype": "text/x-python",
   "name": "python",
   "nbconvert_exporter": "python",
   "pygments_lexer": "ipython3",
   "version": "3.10.5"
  },
  "orig_nbformat": 4
 },
 "nbformat": 4,
 "nbformat_minor": 2
}
