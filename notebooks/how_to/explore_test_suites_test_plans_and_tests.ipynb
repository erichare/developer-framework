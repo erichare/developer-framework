{
 "cells": [
  {
   "attachments": {},
   "cell_type": "markdown",
   "metadata": {},
   "source": [
    "# Viewing all available Test suites, Test plans and tests\n",
    "This notebook aim to demostrate the list of interfaces available to get details of test suites, test plans and tests\n"
   ]
  },
  {
   "attachments": {},
   "cell_type": "markdown",
   "metadata": {},
   "source": [
    "## Initialize ValidMind"
   ]
  },
  {
   "cell_type": "code",
   "execution_count": 1,
   "metadata": {},
   "outputs": [
    {
     "name": "stderr",
     "output_type": "stream",
     "text": [
      "2023-06-08 21:27:59,296 - INFO - api_client - Connected to ValidMind. Project: Test Project (clini39or0000pimzpbf0tqai)\n"
     ]
    }
   ],
   "source": [
    "%load_ext dotenv\n",
    "%dotenv .env\n",
    "\n",
    "import validmind as vm\n",
    "\n",
    "vm.init(\n",
    "    api_host = \"http://localhost:3000/api/v1/tracking\",\n",
    "    project = \"clini39or0000pimzpbf0tqai\"\n",
    ")"
   ]
  },
  {
   "attachments": {},
   "cell_type": "markdown",
   "metadata": {},
   "source": [
    "## Available test suites\n",
    "The interface will provide the list of test suites available in the ValidMind framework"
   ]
  },
  {
   "cell_type": "code",
   "execution_count": 2,
   "metadata": {},
   "outputs": [
    {
     "data": {
      "text/html": [
       "<style type=\"text/css\">\n",
       "#T_cbf7b th {\n",
       "  text-align: left;\n",
       "}\n",
       "#T_cbf7b_row0_col0, #T_cbf7b_row0_col1, #T_cbf7b_row0_col2, #T_cbf7b_row0_col3, #T_cbf7b_row1_col0, #T_cbf7b_row1_col1, #T_cbf7b_row1_col2, #T_cbf7b_row1_col3, #T_cbf7b_row2_col0, #T_cbf7b_row2_col1, #T_cbf7b_row2_col2, #T_cbf7b_row2_col3, #T_cbf7b_row3_col0, #T_cbf7b_row3_col1, #T_cbf7b_row3_col2, #T_cbf7b_row3_col3, #T_cbf7b_row4_col0, #T_cbf7b_row4_col1, #T_cbf7b_row4_col2, #T_cbf7b_row4_col3 {\n",
       "  text-align: left;\n",
       "}\n",
       "</style>\n",
       "<table id=\"T_cbf7b\">\n",
       "  <thead>\n",
       "    <tr>\n",
       "      <th id=\"T_cbf7b_level0_col0\" class=\"col_heading level0 col0\" >ID</th>\n",
       "      <th id=\"T_cbf7b_level0_col1\" class=\"col_heading level0 col1\" >Name</th>\n",
       "      <th id=\"T_cbf7b_level0_col2\" class=\"col_heading level0 col2\" >Description</th>\n",
       "      <th id=\"T_cbf7b_level0_col3\" class=\"col_heading level0 col3\" >Test Plans</th>\n",
       "    </tr>\n",
       "  </thead>\n",
       "  <tbody>\n",
       "    <tr>\n",
       "      <td id=\"T_cbf7b_row0_col0\" class=\"data row0 col0\" >binary_classifier_full_suite</td>\n",
       "      <td id=\"T_cbf7b_row0_col1\" class=\"data row0 col1\" >BinaryClassifierFullSuite</td>\n",
       "      <td id=\"T_cbf7b_row0_col2\" class=\"data row0 col2\" >Full test suite for binary classification models.</td>\n",
       "      <td id=\"T_cbf7b_row0_col3\" class=\"data row0 col3\" >tabular_dataset_description, tabular_data_quality, binary_classifier_metrics, binary_classifier_validation, binary_classifier_model_diagnosis</td>\n",
       "    </tr>\n",
       "    <tr>\n",
       "      <td id=\"T_cbf7b_row1_col0\" class=\"data row1 col0\" >binary_classifier_model_validation</td>\n",
       "      <td id=\"T_cbf7b_row1_col1\" class=\"data row1 col1\" >BinaryClassifierModelValidation</td>\n",
       "      <td id=\"T_cbf7b_row1_col2\" class=\"data row1 col2\" >Test suite for binary classification models.</td>\n",
       "      <td id=\"T_cbf7b_row1_col3\" class=\"data row1 col3\" >binary_classifier_metrics, binary_classifier_validation, binary_classifier_model_diagnosis</td>\n",
       "    </tr>\n",
       "    <tr>\n",
       "      <td id=\"T_cbf7b_row2_col0\" class=\"data row2 col0\" >tabular_dataset</td>\n",
       "      <td id=\"T_cbf7b_row2_col1\" class=\"data row2 col1\" >TabularDataset</td>\n",
       "      <td id=\"T_cbf7b_row2_col2\" class=\"data row2 col2\" >Test suite for tabular datasets.</td>\n",
       "      <td id=\"T_cbf7b_row2_col3\" class=\"data row2 col3\" >tabular_dataset_description, tabular_data_quality</td>\n",
       "    </tr>\n",
       "    <tr>\n",
       "      <td id=\"T_cbf7b_row3_col0\" class=\"data row3 col0\" >time_series_dataset</td>\n",
       "      <td id=\"T_cbf7b_row3_col1\" class=\"data row3 col1\" >TimeSeriesDataset</td>\n",
       "      <td id=\"T_cbf7b_row3_col2\" class=\"data row3 col2\" >Test suite for time series datasets.</td>\n",
       "      <td id=\"T_cbf7b_row3_col3\" class=\"data row3 col3\" >time_series_data_quality, time_series_univariate, time_series_multivariate</td>\n",
       "    </tr>\n",
       "    <tr>\n",
       "      <td id=\"T_cbf7b_row4_col0\" class=\"data row4 col0\" >time_series_model_validation</td>\n",
       "      <td id=\"T_cbf7b_row4_col1\" class=\"data row4 col1\" >TimeSeriesModelValidation</td>\n",
       "      <td id=\"T_cbf7b_row4_col2\" class=\"data row4 col2\" >Test suite for time series model validation.</td>\n",
       "      <td id=\"T_cbf7b_row4_col3\" class=\"data row4 col3\" >regression_model_description, regression_models_evaluation, time_series_forecast, time_series_sensitivity</td>\n",
       "    </tr>\n",
       "  </tbody>\n",
       "</table>\n"
      ],
      "text/plain": [
       "<pandas.io.formats.style.Styler at 0x110880d90>"
      ]
     },
     "execution_count": 2,
     "metadata": {},
     "output_type": "execute_result"
    }
   ],
   "source": [
    "vm.test_suites.list_suites()"
   ]
  },
  {
   "attachments": {},
   "cell_type": "markdown",
   "metadata": {},
   "source": [
    "## Test plans\n",
    "The list of test plans available in a given test suite"
   ]
  },
  {
   "cell_type": "code",
   "execution_count": 3,
   "metadata": {},
   "outputs": [
    {
     "data": {
      "text/html": [
       "<style type=\"text/css\">\n",
       "#T_91388 th {\n",
       "  text-align: left;\n",
       "}\n",
       "#T_91388_row0_col0, #T_91388_row0_col1, #T_91388_row0_col2, #T_91388_row0_col3 {\n",
       "  text-align: left;\n",
       "}\n",
       "</style>\n",
       "<table id=\"T_91388\">\n",
       "  <thead>\n",
       "    <tr>\n",
       "      <th id=\"T_91388_level0_col0\" class=\"col_heading level0 col0\" >ID</th>\n",
       "      <th id=\"T_91388_level0_col1\" class=\"col_heading level0 col1\" >Name</th>\n",
       "      <th id=\"T_91388_level0_col2\" class=\"col_heading level0 col2\" >Description</th>\n",
       "      <th id=\"T_91388_level0_col3\" class=\"col_heading level0 col3\" >Test Plans</th>\n",
       "    </tr>\n",
       "  </thead>\n",
       "  <tbody>\n",
       "    <tr>\n",
       "      <td id=\"T_91388_row0_col0\" class=\"data row0 col0\" >binary_classifier_full_suite</td>\n",
       "      <td id=\"T_91388_row0_col1\" class=\"data row0 col1\" >BinaryClassifierFullSuite</td>\n",
       "      <td id=\"T_91388_row0_col2\" class=\"data row0 col2\" >Full test suite for binary classification models.</td>\n",
       "      <td id=\"T_91388_row0_col3\" class=\"data row0 col3\" >tabular_dataset_description, tabular_data_quality, binary_classifier_metrics, binary_classifier_validation, binary_classifier_model_diagnosis</td>\n",
       "    </tr>\n",
       "  </tbody>\n",
       "</table>\n"
      ],
      "text/plain": [
       "<pandas.io.formats.style.Styler at 0x295e76a90>"
      ]
     },
     "execution_count": 3,
     "metadata": {},
     "output_type": "execute_result"
    }
   ],
   "source": [
    "vm.test_suites.describe_test_suite(\"binary_classifier_full_suite\")"
   ]
  },
  {
   "attachments": {},
   "cell_type": "markdown",
   "metadata": {},
   "source": [
    "### Test plan description and list of tests\n",
    "The list of tests avaiable in a specific test plan"
   ]
  },
  {
   "cell_type": "code",
   "execution_count": 4,
   "metadata": {},
   "outputs": [
    {
     "data": {
      "text/html": [
       "<style type=\"text/css\">\n",
       "</style>\n",
       "<table id=\"T_4e98c\">\n",
       "  <thead>\n",
       "    <tr>\n",
       "      <th id=\"T_4e98c_level0_col0\" class=\"col_heading level0 col0\" >ID</th>\n",
       "      <th id=\"T_4e98c_level0_col1\" class=\"col_heading level0 col1\" >Name</th>\n",
       "      <th id=\"T_4e98c_level0_col2\" class=\"col_heading level0 col2\" >Description</th>\n",
       "      <th id=\"T_4e98c_level0_col3\" class=\"col_heading level0 col3\" >Required Context</th>\n",
       "      <th id=\"T_4e98c_level0_col4\" class=\"col_heading level0 col4\" >Tests</th>\n",
       "    </tr>\n",
       "  </thead>\n",
       "  <tbody>\n",
       "    <tr>\n",
       "      <td id=\"T_4e98c_row0_col0\" class=\"data row0 col0\" >tabular_dataset_description</td>\n",
       "      <td id=\"T_4e98c_row0_col1\" class=\"data row0 col1\" >TabularDatasetDescription</td>\n",
       "      <td id=\"T_4e98c_row0_col2\" class=\"data row0 col2\" >Test plan to extract metadata and descriptive\n",
       "    statistics from a tabular dataset</td>\n",
       "      <td id=\"T_4e98c_row0_col3\" class=\"data row0 col3\" >dataset</td>\n",
       "      <td id=\"T_4e98c_row0_col4\" class=\"data row0 col4\" >DatasetMetadata (DatasetMetadata)<br>DatasetDescription (Metric)<br>DescriptiveStatistics (Metric)<br>PearsonCorrelationMatrix (Metric)<br>DatasetCorrelations (Metric)</td>\n",
       "    </tr>\n",
       "  </tbody>\n",
       "</table>\n"
      ],
      "text/plain": [
       "<pandas.io.formats.style.Styler at 0x295e76850>"
      ]
     },
     "execution_count": 4,
     "metadata": {},
     "output_type": "execute_result"
    }
   ],
   "source": [
    "vm.test_plans.describe_plan(\"tabular_dataset_description\")"
   ]
  },
  {
   "attachments": {},
   "cell_type": "markdown",
   "metadata": {},
   "source": [
    "### Test detail"
   ]
  },
  {
   "cell_type": "code",
   "execution_count": 6,
   "metadata": {},
   "outputs": [
    {
     "ename": "KeyError",
     "evalue": "'DescriptiveStatistics'",
     "output_type": "error",
     "traceback": [
      "\u001b[0;31m---------------------------------------------------------------------------\u001b[0m",
      "\u001b[0;31mKeyError\u001b[0m                                  Traceback (most recent call last)",
      "\u001b[0;32m/var/folders/_f/2x5khtk93r11vk44bzpgkvhr0000gp/T/ipykernel_28391/2365119411.py\u001b[0m in \u001b[0;36m<cell line: 1>\u001b[0;34m()\u001b[0m\n\u001b[0;32m----> 1\u001b[0;31m \u001b[0mvm\u001b[0m\u001b[0;34m.\u001b[0m\u001b[0mtests\u001b[0m\u001b[0;34m.\u001b[0m\u001b[0mdescribe_test\u001b[0m\u001b[0;34m(\u001b[0m\u001b[0;34m'DescriptiveStatistics'\u001b[0m\u001b[0;34m)\u001b[0m\u001b[0;34m\u001b[0m\u001b[0;34m\u001b[0m\u001b[0m\n\u001b[0m",
      "\u001b[0;32m~/Code/ValidMind/validmind-python/validmind/tests/__init__.py\u001b[0m in \u001b[0;36mdescribe_test\u001b[0;34m(test_id)\u001b[0m\n\u001b[1;32m    109\u001b[0m     \u001b[0;34m\"\"\"Returns the test by test ID\"\"\"\u001b[0m\u001b[0;34m\u001b[0m\u001b[0;34m\u001b[0m\u001b[0m\n\u001b[1;32m    110\u001b[0m     \u001b[0;32mif\u001b[0m \u001b[0m__test_classes\u001b[0m \u001b[0;32mis\u001b[0m \u001b[0;32mNone\u001b[0m\u001b[0;34m:\u001b[0m\u001b[0;34m\u001b[0m\u001b[0;34m\u001b[0m\u001b[0m\n\u001b[0;32m--> 111\u001b[0;31m         \u001b[0mtest\u001b[0m \u001b[0;34m=\u001b[0m \u001b[0mload_test\u001b[0m\u001b[0;34m(\u001b[0m\u001b[0mtest_id\u001b[0m\u001b[0;34m)\u001b[0m\u001b[0;34m\u001b[0m\u001b[0;34m\u001b[0m\u001b[0m\n\u001b[0m\u001b[1;32m    112\u001b[0m     \u001b[0;32melse\u001b[0m\u001b[0;34m:\u001b[0m\u001b[0;34m\u001b[0m\u001b[0;34m\u001b[0m\u001b[0m\n\u001b[1;32m    113\u001b[0m         \u001b[0mtest\u001b[0m \u001b[0;34m=\u001b[0m \u001b[0m__test_classes\u001b[0m\u001b[0;34m[\u001b[0m\u001b[0mtest_id\u001b[0m\u001b[0;34m]\u001b[0m\u001b[0;34m\u001b[0m\u001b[0;34m\u001b[0m\u001b[0m\n",
      "\u001b[0;32m~/Code/ValidMind/validmind-python/validmind/tests/__init__.py\u001b[0m in \u001b[0;36mload_test\u001b[0;34m(test_id)\u001b[0m\n\u001b[1;32m     89\u001b[0m     \u001b[0;31m# (e.g. \"ModelMetadata\" instead of \"validmind.model_validation.ModelMetadata\")\u001b[0m\u001b[0;34m\u001b[0m\u001b[0;34m\u001b[0m\u001b[0;34m\u001b[0m\u001b[0m\n\u001b[1;32m     90\u001b[0m     \u001b[0;32mif\u001b[0m \u001b[0mlen\u001b[0m\u001b[0;34m(\u001b[0m\u001b[0mparts\u001b[0m\u001b[0;34m)\u001b[0m \u001b[0;34m==\u001b[0m \u001b[0;36m1\u001b[0m\u001b[0;34m:\u001b[0m\u001b[0;34m\u001b[0m\u001b[0;34m\u001b[0m\u001b[0m\n\u001b[0;32m---> 91\u001b[0;31m         \u001b[0;32mreturn\u001b[0m \u001b[0mload_test\u001b[0m\u001b[0;34m(\u001b[0m\u001b[0m_get_legacy_test\u001b[0m\u001b[0;34m(\u001b[0m\u001b[0mtest_id\u001b[0m\u001b[0;34m)\u001b[0m\u001b[0;34m)\u001b[0m\u001b[0;34m\u001b[0m\u001b[0;34m\u001b[0m\u001b[0m\n\u001b[0m\u001b[1;32m     92\u001b[0m \u001b[0;34m\u001b[0m\u001b[0m\n\u001b[1;32m     93\u001b[0m     \u001b[0mtest_org\u001b[0m \u001b[0;34m=\u001b[0m \u001b[0mparts\u001b[0m\u001b[0;34m[\u001b[0m\u001b[0;36m0\u001b[0m\u001b[0;34m]\u001b[0m\u001b[0;34m\u001b[0m\u001b[0;34m\u001b[0m\u001b[0m\n",
      "\u001b[0;32m~/Code/ValidMind/validmind-python/validmind/tests/__init__.py\u001b[0m in \u001b[0;36m_get_legacy_test\u001b[0;34m(content_id)\u001b[0m\n\u001b[1;32m     23\u001b[0m             \u001b[0m__legacy_mapping\u001b[0m\u001b[0;34m[\u001b[0m\u001b[0mtest\u001b[0m\u001b[0;34m.\u001b[0m\u001b[0mname\u001b[0m\u001b[0;34m]\u001b[0m \u001b[0;34m=\u001b[0m \u001b[0mtest_id\u001b[0m\u001b[0;34m\u001b[0m\u001b[0;34m\u001b[0m\u001b[0m\n\u001b[1;32m     24\u001b[0m \u001b[0;34m\u001b[0m\u001b[0m\n\u001b[0;32m---> 25\u001b[0;31m     \u001b[0;32mreturn\u001b[0m \u001b[0m__legacy_mapping\u001b[0m\u001b[0;34m[\u001b[0m\u001b[0mcontent_id\u001b[0m\u001b[0;34m]\u001b[0m\u001b[0;34m\u001b[0m\u001b[0;34m\u001b[0m\u001b[0m\n\u001b[0m\u001b[1;32m     26\u001b[0m \u001b[0;34m\u001b[0m\u001b[0m\n\u001b[1;32m     27\u001b[0m \u001b[0;34m\u001b[0m\u001b[0m\n",
      "\u001b[0;31mKeyError\u001b[0m: 'DescriptiveStatistics'"
     ]
    }
   ],
   "source": [
    "vm.tests.describe_test('DescriptiveStatistics')"
   ]
  },
  {
   "attachments": {},
   "cell_type": "markdown",
   "metadata": {},
   "source": [
    "### Details of test suites, test plans and tests\n",
    "This interface provide comprehensive details of test suites, test plans and tests"
   ]
  },
  {
   "cell_type": "code",
   "execution_count": 7,
   "metadata": {},
   "outputs": [
    {
     "ename": "AttributeError",
     "evalue": "module 'validmind.test_plans' has no attribute 'describe_test'",
     "output_type": "error",
     "traceback": [
      "\u001b[0;31m---------------------------------------------------------------------------\u001b[0m",
      "\u001b[0;31mAttributeError\u001b[0m                            Traceback (most recent call last)",
      "\u001b[0;32m/var/folders/_f/2x5khtk93r11vk44bzpgkvhr0000gp/T/ipykernel_28391/2945427763.py\u001b[0m in \u001b[0;36m<cell line: 1>\u001b[0;34m()\u001b[0m\n\u001b[0;32m----> 1\u001b[0;31m \u001b[0mvm\u001b[0m\u001b[0;34m.\u001b[0m\u001b[0mtest_suites\u001b[0m\u001b[0;34m.\u001b[0m\u001b[0mdescribe_test_suites_plans_tests\u001b[0m\u001b[0;34m(\u001b[0m\u001b[0;34m)\u001b[0m\u001b[0;34m\u001b[0m\u001b[0;34m\u001b[0m\u001b[0m\n\u001b[0m",
      "\u001b[0;32m~/Code/ValidMind/validmind-python/validmind/test_suites/__init__.py\u001b[0m in \u001b[0;36mdescribe_test_suites_plans_tests\u001b[0;34m()\u001b[0m\n\u001b[1;32m    125\u001b[0m                     \u001b[0mtest\u001b[0m \u001b[0;34m=\u001b[0m \u001b[0mlist\u001b[0m\u001b[0;34m(\u001b[0m\u001b[0mfilter\u001b[0m\u001b[0;34m(\u001b[0m\u001b[0;32mNone\u001b[0m\u001b[0;34m,\u001b[0m \u001b[0mtest\u001b[0m\u001b[0;34m.\u001b[0m\u001b[0msplit\u001b[0m\u001b[0;34m(\u001b[0m\u001b[0;34m\" \"\u001b[0m\u001b[0;34m)\u001b[0m\u001b[0;34m)\u001b[0m\u001b[0;34m)\u001b[0m\u001b[0;34m\u001b[0m\u001b[0;34m\u001b[0m\u001b[0m\n\u001b[1;32m    126\u001b[0m                     test_dict = (\n\u001b[0;32m--> 127\u001b[0;31m                         \u001b[0mtest_plans\u001b[0m\u001b[0;34m.\u001b[0m\u001b[0mdescribe_test\u001b[0m\u001b[0;34m(\u001b[0m\u001b[0mtest\u001b[0m\u001b[0;34m[\u001b[0m\u001b[0;36m0\u001b[0m\u001b[0;34m]\u001b[0m\u001b[0;34m)\u001b[0m\u001b[0;34m\u001b[0m\u001b[0;34m\u001b[0m\u001b[0m\n\u001b[0m\u001b[1;32m    128\u001b[0m                         \u001b[0;34m.\u001b[0m\u001b[0mdata\u001b[0m\u001b[0;34m.\u001b[0m\u001b[0mreset_index\u001b[0m\u001b[0;34m(\u001b[0m\u001b[0mdrop\u001b[0m\u001b[0;34m=\u001b[0m\u001b[0;32mTrue\u001b[0m\u001b[0;34m)\u001b[0m\u001b[0;34m\u001b[0m\u001b[0;34m\u001b[0m\u001b[0m\n\u001b[1;32m    129\u001b[0m                         \u001b[0;34m.\u001b[0m\u001b[0mto_dict\u001b[0m\u001b[0;34m(\u001b[0m\u001b[0;34m\"records\"\u001b[0m\u001b[0;34m)\u001b[0m\u001b[0;34m[\u001b[0m\u001b[0;36m0\u001b[0m\u001b[0;34m]\u001b[0m\u001b[0;34m\u001b[0m\u001b[0;34m\u001b[0m\u001b[0m\n",
      "\u001b[0;31mAttributeError\u001b[0m: module 'validmind.test_plans' has no attribute 'describe_test'"
     ]
    }
   ],
   "source": [
    "vm.test_suites.describe_test_suites_plans_tests()"
   ]
  },
  {
   "attachments": {},
   "cell_type": "markdown",
   "metadata": {},
   "source": [
    "## Available test suites"
   ]
  },
  {
   "cell_type": "code",
   "execution_count": 10,
   "metadata": {},
   "outputs": [
    {
     "data": {
      "text/plain": [
       "['validmind.model_validation.ModelMetadata',\n",
       " 'validmind.model_validation.sklearn.ClassifierOutOfSamplePerformance',\n",
       " 'validmind.model_validation.sklearn.SHAPGlobalImportance',\n",
       " 'validmind.model_validation.sklearn.ConfusionMatrix',\n",
       " 'validmind.model_validation.sklearn.ClassifierInSamplePerformance',\n",
       " 'validmind.model_validation.sklearn.PermutationFeatureImportance',\n",
       " 'validmind.model_validation.sklearn.PrecisionRecallCurve',\n",
       " 'validmind.model_validation.sklearn.ClassifierPerformance',\n",
       " 'validmind.model_validation.sklearn.ROCCurve',\n",
       " 'validmind.model_validation.sklearn.PopulationStabilityIndex',\n",
       " 'validmind.model_validation.sklearn.RobustnessDiagnosis',\n",
       " 'validmind.model_validation.sklearn.OverfitDiagnosis',\n",
       " 'validmind.model_validation.sklearn.MinimumROCAUCScore',\n",
       " 'validmind.model_validation.sklearn.MinimumF1Score',\n",
       " 'validmind.model_validation.sklearn.TrainingTestDegradation',\n",
       " 'validmind.model_validation.sklearn.WeakspotsDiagnosis',\n",
       " 'validmind.model_validation.sklearn.MinimumAccuracy',\n",
       " 'validmind.model_validation.statsmodels.RegressionModelsCoeffs',\n",
       " 'validmind.model_validation.statsmodels.BoxPierce',\n",
       " 'validmind.model_validation.statsmodels.RegressionModelSensitivityPlot',\n",
       " 'validmind.model_validation.statsmodels.RegressionModelsPerformance',\n",
       " 'validmind.model_validation.statsmodels.ZivotAndrewsArch',\n",
       " 'validmind.model_validation.statsmodels.RegressionModelOutsampleComparison',\n",
       " 'validmind.model_validation.statsmodels.RegressionModelForecastPlotLevels',\n",
       " 'validmind.model_validation.statsmodels.LJungBox',\n",
       " 'validmind.model_validation.statsmodels.JarqueBera',\n",
       " 'validmind.model_validation.statsmodels.PhillipsPerronArch',\n",
       " 'validmind.model_validation.statsmodels.KolmogorovSmirnov',\n",
       " 'validmind.model_validation.statsmodels.ResidualsVisualInspection',\n",
       " 'validmind.model_validation.statsmodels.ShapiroWilk',\n",
       " 'validmind.model_validation.statsmodels.RegressionModelInsampleComparison',\n",
       " 'validmind.model_validation.statsmodels.RegressionModelSummary',\n",
       " 'validmind.model_validation.statsmodels.KPSS',\n",
       " 'validmind.model_validation.statsmodels.Lilliefors',\n",
       " 'validmind.model_validation.statsmodels.RunsTest',\n",
       " 'validmind.model_validation.statsmodels.DFGLSArch',\n",
       " 'validmind.model_validation.statsmodels.AutoARIMA',\n",
       " 'validmind.model_validation.statsmodels.RegressionModelForecastPlot',\n",
       " 'validmind.model_validation.statsmodels.ADF',\n",
       " 'validmind.model_validation.statsmodels.DurbinWatsonTest',\n",
       " 'validmind.model_validation.statsmodels.ADFTest',\n",
       " 'validmind.data_validation.DatasetDescription',\n",
       " 'validmind.data_validation.ScatterPlot',\n",
       " 'validmind.data_validation.AutoStationarity',\n",
       " 'validmind.data_validation.DescriptiveStatistics',\n",
       " 'validmind.data_validation.PearsonCorrelationMatrix',\n",
       " 'validmind.data_validation.RollingStatsPlot',\n",
       " 'validmind.data_validation.DatasetCorrelations',\n",
       " 'validmind.data_validation.TabularDescriptionTables',\n",
       " 'validmind.data_validation.AutoMA',\n",
       " 'validmind.data_validation.ACFandPACFPlot',\n",
       " 'validmind.data_validation.DatasetSplit',\n",
       " 'validmind.data_validation.SpreadPlot',\n",
       " 'validmind.data_validation.TimeSeriesLinePlot',\n",
       " 'validmind.data_validation.AutoSeasonality',\n",
       " 'validmind.data_validation.EngleGrangerCoint',\n",
       " 'validmind.data_validation.DatasetMetadata',\n",
       " 'validmind.data_validation.TimeSeriesHistogram',\n",
       " 'validmind.data_validation.LaggedCorrelationHeatmap',\n",
       " 'validmind.data_validation.SeasonalDecompose',\n",
       " 'validmind.data_validation.AutoAR',\n",
       " 'validmind.data_validation.Skewness',\n",
       " 'validmind.data_validation.Duplicates',\n",
       " 'validmind.data_validation.TimeSeriesOutliers',\n",
       " 'validmind.data_validation.HighCardinality',\n",
       " 'validmind.data_validation.MissingValues',\n",
       " 'validmind.data_validation.UniqueRows',\n",
       " 'validmind.data_validation.TooManyZeroValues',\n",
       " 'validmind.data_validation.HighPearsonCorrelation',\n",
       " 'validmind.data_validation.TimeSeriesFrequency',\n",
       " 'validmind.data_validation.TimeSeriesMissingValues',\n",
       " 'validmind.data_validation.ClassImbalance']"
      ]
     },
     "execution_count": 10,
     "metadata": {},
     "output_type": "execute_result"
    }
   ],
   "source": [
    "vm.tests.list_tests()"
   ]
  },
  {
   "cell_type": "code",
   "execution_count": null,
   "metadata": {},
   "outputs": [],
   "source": []
  }
 ],
 "metadata": {
  "kernelspec": {
   "display_name": "validmind-LmBC4yNo-py3.9",
   "language": "python",
   "name": "python3"
  },
  "language_info": {
   "codemirror_mode": {
    "name": "ipython",
    "version": 3
   },
   "file_extension": ".py",
   "mimetype": "text/x-python",
   "name": "python",
   "nbconvert_exporter": "python",
   "pygments_lexer": "ipython3",
   "version": "3.9.6"
  },
  "orig_nbformat": 4
 },
 "nbformat": 4,
 "nbformat_minor": 2
}
