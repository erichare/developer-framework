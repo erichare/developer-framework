{
 "cells": [
  {
   "attachments": {},
   "cell_type": "markdown",
   "metadata": {},
   "source": [
    "# Viewing all available Test suites, Test plans and tests\n",
    "This notebook aim to demostrate the list of interfaces available to get details of test suites, test plans and tests\n"
   ]
  },
  {
   "attachments": {},
   "cell_type": "markdown",
   "metadata": {},
   "source": [
    "## Initialize ValidMind"
   ]
  },
  {
   "cell_type": "code",
   "execution_count": 1,
   "metadata": {},
   "outputs": [
    {
     "name": "stderr",
     "output_type": "stream",
     "text": [
      "2023-06-08 22:16:18,732 - INFO - api_client - Connected to ValidMind. Project: Test Project (clini39or0000pimzpbf0tqai)\n"
     ]
    }
   ],
   "source": [
    "%load_ext dotenv\n",
    "%dotenv .env\n",
    "\n",
    "import validmind as vm\n",
    "\n",
    "vm.init(\n",
    "    api_host = \"http://localhost:3000/api/v1/tracking\",\n",
    "    project = \"clini39or0000pimzpbf0tqai\"\n",
    ")"
   ]
  },
  {
   "attachments": {},
   "cell_type": "markdown",
   "metadata": {},
   "source": [
    "## Available test suites\n",
    "The interface will provide the list of test suites available in the ValidMind framework"
   ]
  },
  {
   "cell_type": "code",
   "execution_count": 2,
   "metadata": {},
   "outputs": [
    {
     "data": {
      "text/html": [
       "<style type=\"text/css\">\n",
       "#T_564dc th {\n",
       "  text-align: left;\n",
       "}\n",
       "#T_564dc_row0_col0, #T_564dc_row0_col1, #T_564dc_row0_col2, #T_564dc_row0_col3, #T_564dc_row1_col0, #T_564dc_row1_col1, #T_564dc_row1_col2, #T_564dc_row1_col3, #T_564dc_row2_col0, #T_564dc_row2_col1, #T_564dc_row2_col2, #T_564dc_row2_col3, #T_564dc_row3_col0, #T_564dc_row3_col1, #T_564dc_row3_col2, #T_564dc_row3_col3, #T_564dc_row4_col0, #T_564dc_row4_col1, #T_564dc_row4_col2, #T_564dc_row4_col3 {\n",
       "  text-align: left;\n",
       "}\n",
       "</style>\n",
       "<table id=\"T_564dc\">\n",
       "  <thead>\n",
       "    <tr>\n",
       "      <th id=\"T_564dc_level0_col0\" class=\"col_heading level0 col0\" >ID</th>\n",
       "      <th id=\"T_564dc_level0_col1\" class=\"col_heading level0 col1\" >Name</th>\n",
       "      <th id=\"T_564dc_level0_col2\" class=\"col_heading level0 col2\" >Description</th>\n",
       "      <th id=\"T_564dc_level0_col3\" class=\"col_heading level0 col3\" >Test Plans</th>\n",
       "    </tr>\n",
       "  </thead>\n",
       "  <tbody>\n",
       "    <tr>\n",
       "      <td id=\"T_564dc_row0_col0\" class=\"data row0 col0\" >binary_classifier_full_suite</td>\n",
       "      <td id=\"T_564dc_row0_col1\" class=\"data row0 col1\" >BinaryClassifierFullSuite</td>\n",
       "      <td id=\"T_564dc_row0_col2\" class=\"data row0 col2\" >Full test suite for binary classification models.</td>\n",
       "      <td id=\"T_564dc_row0_col3\" class=\"data row0 col3\" >tabular_dataset_description, tabular_data_quality, binary_classifier_metrics, binary_classifier_validation, binary_classifier_model_diagnosis</td>\n",
       "    </tr>\n",
       "    <tr>\n",
       "      <td id=\"T_564dc_row1_col0\" class=\"data row1 col0\" >binary_classifier_model_validation</td>\n",
       "      <td id=\"T_564dc_row1_col1\" class=\"data row1 col1\" >BinaryClassifierModelValidation</td>\n",
       "      <td id=\"T_564dc_row1_col2\" class=\"data row1 col2\" >Test suite for binary classification models.</td>\n",
       "      <td id=\"T_564dc_row1_col3\" class=\"data row1 col3\" >binary_classifier_metrics, binary_classifier_validation, binary_classifier_model_diagnosis</td>\n",
       "    </tr>\n",
       "    <tr>\n",
       "      <td id=\"T_564dc_row2_col0\" class=\"data row2 col0\" >tabular_dataset</td>\n",
       "      <td id=\"T_564dc_row2_col1\" class=\"data row2 col1\" >TabularDataset</td>\n",
       "      <td id=\"T_564dc_row2_col2\" class=\"data row2 col2\" >Test suite for tabular datasets.</td>\n",
       "      <td id=\"T_564dc_row2_col3\" class=\"data row2 col3\" >tabular_dataset_description, tabular_data_quality</td>\n",
       "    </tr>\n",
       "    <tr>\n",
       "      <td id=\"T_564dc_row3_col0\" class=\"data row3 col0\" >time_series_dataset</td>\n",
       "      <td id=\"T_564dc_row3_col1\" class=\"data row3 col1\" >TimeSeriesDataset</td>\n",
       "      <td id=\"T_564dc_row3_col2\" class=\"data row3 col2\" >Test suite for time series datasets.</td>\n",
       "      <td id=\"T_564dc_row3_col3\" class=\"data row3 col3\" >time_series_data_quality, time_series_univariate, time_series_multivariate</td>\n",
       "    </tr>\n",
       "    <tr>\n",
       "      <td id=\"T_564dc_row4_col0\" class=\"data row4 col0\" >time_series_model_validation</td>\n",
       "      <td id=\"T_564dc_row4_col1\" class=\"data row4 col1\" >TimeSeriesModelValidation</td>\n",
       "      <td id=\"T_564dc_row4_col2\" class=\"data row4 col2\" >Test suite for time series model validation.</td>\n",
       "      <td id=\"T_564dc_row4_col3\" class=\"data row4 col3\" >regression_model_description, regression_models_evaluation, time_series_forecast, time_series_sensitivity</td>\n",
       "    </tr>\n",
       "  </tbody>\n",
       "</table>\n"
      ],
      "text/plain": [
       "<pandas.io.formats.style.Styler at 0x1037a2c70>"
      ]
     },
     "execution_count": 2,
     "metadata": {},
     "output_type": "execute_result"
    }
   ],
   "source": [
    "vm.test_suites.list_suites()"
   ]
  },
  {
   "attachments": {},
   "cell_type": "markdown",
   "metadata": {},
   "source": [
    "## Test plans\n",
    "The list of test plans available in a given test suite"
   ]
  },
  {
   "cell_type": "code",
   "execution_count": 3,
   "metadata": {},
   "outputs": [
    {
     "data": {
      "text/html": [
       "<style type=\"text/css\">\n",
       "#T_fff67 th {\n",
       "  text-align: left;\n",
       "}\n",
       "#T_fff67_row0_col0, #T_fff67_row0_col1, #T_fff67_row0_col2, #T_fff67_row0_col3 {\n",
       "  text-align: left;\n",
       "}\n",
       "</style>\n",
       "<table id=\"T_fff67\">\n",
       "  <thead>\n",
       "    <tr>\n",
       "      <th id=\"T_fff67_level0_col0\" class=\"col_heading level0 col0\" >ID</th>\n",
       "      <th id=\"T_fff67_level0_col1\" class=\"col_heading level0 col1\" >Name</th>\n",
       "      <th id=\"T_fff67_level0_col2\" class=\"col_heading level0 col2\" >Description</th>\n",
       "      <th id=\"T_fff67_level0_col3\" class=\"col_heading level0 col3\" >Test Plans</th>\n",
       "    </tr>\n",
       "  </thead>\n",
       "  <tbody>\n",
       "    <tr>\n",
       "      <td id=\"T_fff67_row0_col0\" class=\"data row0 col0\" >binary_classifier_full_suite</td>\n",
       "      <td id=\"T_fff67_row0_col1\" class=\"data row0 col1\" >BinaryClassifierFullSuite</td>\n",
       "      <td id=\"T_fff67_row0_col2\" class=\"data row0 col2\" >Full test suite for binary classification models.</td>\n",
       "      <td id=\"T_fff67_row0_col3\" class=\"data row0 col3\" >tabular_dataset_description, tabular_data_quality, binary_classifier_metrics, binary_classifier_validation, binary_classifier_model_diagnosis</td>\n",
       "    </tr>\n",
       "  </tbody>\n",
       "</table>\n"
      ],
      "text/plain": [
       "<pandas.io.formats.style.Styler at 0x299e85a90>"
      ]
     },
     "execution_count": 3,
     "metadata": {},
     "output_type": "execute_result"
    }
   ],
   "source": [
    "vm.test_suites.describe_suite(\"binary_classifier_full_suite\")"
   ]
  },
  {
   "attachments": {},
   "cell_type": "markdown",
   "metadata": {},
   "source": [
    "### Test plan description and list of tests\n",
    "The list of tests avaiable in a specific test plan"
   ]
  },
  {
   "cell_type": "code",
   "execution_count": 8,
   "metadata": {},
   "outputs": [
    {
     "data": {
      "text/html": [
       "<style type=\"text/css\">\n",
       "#T_fef0b th {\n",
       "  text-align: left;\n",
       "}\n",
       "#T_fef0b_row0_col0, #T_fef0b_row0_col1, #T_fef0b_row0_col2, #T_fef0b_row0_col3, #T_fef0b_row0_col4 {\n",
       "  text-align: left;\n",
       "}\n",
       "</style>\n",
       "<table id=\"T_fef0b\">\n",
       "  <thead>\n",
       "    <tr>\n",
       "      <th id=\"T_fef0b_level0_col0\" class=\"col_heading level0 col0\" >ID</th>\n",
       "      <th id=\"T_fef0b_level0_col1\" class=\"col_heading level0 col1\" >Name</th>\n",
       "      <th id=\"T_fef0b_level0_col2\" class=\"col_heading level0 col2\" >Description</th>\n",
       "      <th id=\"T_fef0b_level0_col3\" class=\"col_heading level0 col3\" >Required Context</th>\n",
       "      <th id=\"T_fef0b_level0_col4\" class=\"col_heading level0 col4\" >Tests</th>\n",
       "    </tr>\n",
       "  </thead>\n",
       "  <tbody>\n",
       "    <tr>\n",
       "      <td id=\"T_fef0b_row0_col0\" class=\"data row0 col0\" >tabular_data_quality</td>\n",
       "      <td id=\"T_fef0b_row0_col1\" class=\"data row0 col1\" >TabularDataQuality</td>\n",
       "      <td id=\"T_fef0b_row0_col2\" class=\"data row0 col2\" >Test plan for data quality on tabular datasets</td>\n",
       "      <td id=\"T_fef0b_row0_col3\" class=\"data row0 col3\" >['dataset']</td>\n",
       "      <td id=\"T_fef0b_row0_col4\" class=\"data row0 col4\" >ClassImbalance (ThresholdTest)<br>Duplicates (ThresholdTest)<br>HighCardinality (ThresholdTest)<br>HighPearsonCorrelation (ThresholdTest)<br>MissingValues (ThresholdTest)<br>Skewness (ThresholdTest)<br>UniqueRows (ThresholdTest)<br>TooManyZeroValues (ThresholdTest)</td>\n",
       "    </tr>\n",
       "  </tbody>\n",
       "</table>\n"
      ],
      "text/plain": [
       "<pandas.io.formats.style.Styler at 0x29e86a880>"
      ]
     },
     "execution_count": 8,
     "metadata": {},
     "output_type": "execute_result"
    }
   ],
   "source": [
    "vm.test_plans.describe_plan(\"tabular_dataset_description\")"
   ]
  },
  {
   "attachments": {},
   "cell_type": "markdown",
   "metadata": {},
   "source": [
    "### Test detail"
   ]
  },
  {
   "cell_type": "code",
   "execution_count": 5,
   "metadata": {},
   "outputs": [
    {
     "data": {
      "text/html": [
       "<style type=\"text/css\">\n",
       "#T_b25f2 th {\n",
       "  text-align: left;\n",
       "}\n",
       "#T_b25f2_row0_col0, #T_b25f2_row0_col1, #T_b25f2_row0_col2, #T_b25f2_row0_col3 {\n",
       "  text-align: left;\n",
       "}\n",
       "</style>\n",
       "<table id=\"T_b25f2\">\n",
       "  <thead>\n",
       "    <tr>\n",
       "      <th id=\"T_b25f2_level0_col0\" class=\"col_heading level0 col0\" >ID</th>\n",
       "      <th id=\"T_b25f2_level0_col1\" class=\"col_heading level0 col1\" >Test Type</th>\n",
       "      <th id=\"T_b25f2_level0_col2\" class=\"col_heading level0 col2\" >Name</th>\n",
       "      <th id=\"T_b25f2_level0_col3\" class=\"col_heading level0 col3\" >Description</th>\n",
       "    </tr>\n",
       "  </thead>\n",
       "  <tbody>\n",
       "    <tr>\n",
       "      <td id=\"T_b25f2_row0_col0\" class=\"data row0 col0\" >validmind.data_validation.DescriptiveStatistics</td>\n",
       "      <td id=\"T_b25f2_row0_col1\" class=\"data row0 col1\" >Metric</td>\n",
       "      <td id=\"T_b25f2_row0_col2\" class=\"data row0 col2\" >DescriptiveStatistics</td>\n",
       "      <td id=\"T_b25f2_row0_col3\" class=\"data row0 col3\" >Collects a set of descriptive statistics for a dataset, both for\n",
       "    numerical and categorical variables</td>\n",
       "    </tr>\n",
       "  </tbody>\n",
       "</table>\n"
      ],
      "text/plain": [
       "<pandas.io.formats.style.Styler at 0x299c9ba90>"
      ]
     },
     "execution_count": 5,
     "metadata": {},
     "output_type": "execute_result"
    }
   ],
   "source": [
    "vm.tests.describe_test('DescriptiveStatistics')"
   ]
  },
  {
   "attachments": {},
   "cell_type": "markdown",
   "metadata": {},
   "source": [
    "### Details of test suites, test plans and tests\n",
    "This interface provide comprehensive details of test suites, test plans and tests"
   ]
  },
  {
   "cell_type": "code",
   "execution_count": 6,
   "metadata": {},
   "outputs": [
    {
     "data": {
      "text/html": [
       "<style type=\"text/css\">\n",
       "#T_3714f th {\n",
       "  text-align: left;\n",
       "}\n",
       "#T_3714f_row0_col0, #T_3714f_row0_col1, #T_3714f_row0_col2, #T_3714f_row0_col3 {\n",
       "  text-align: left;\n",
       "}\n",
       "</style>\n",
       "<table id=\"T_3714f\">\n",
       "  <thead>\n",
       "    <tr>\n",
       "      <th id=\"T_3714f_level0_col0\" class=\"col_heading level0 col0\" >ID</th>\n",
       "      <th id=\"T_3714f_level0_col1\" class=\"col_heading level0 col1\" >Name</th>\n",
       "      <th id=\"T_3714f_level0_col2\" class=\"col_heading level0 col2\" >Description</th>\n",
       "      <th id=\"T_3714f_level0_col3\" class=\"col_heading level0 col3\" >Test Plans</th>\n",
       "    </tr>\n",
       "  </thead>\n",
       "  <tbody>\n",
       "    <tr>\n",
       "      <td id=\"T_3714f_row0_col0\" class=\"data row0 col0\" >binary_classifier_full_suite</td>\n",
       "      <td id=\"T_3714f_row0_col1\" class=\"data row0 col1\" >BinaryClassifierFullSuite</td>\n",
       "      <td id=\"T_3714f_row0_col2\" class=\"data row0 col2\" >Full test suite for binary classification models.</td>\n",
       "      <td id=\"T_3714f_row0_col3\" class=\"data row0 col3\" >tabular_dataset_description, tabular_data_quality, binary_classifier_metrics, binary_classifier_validation, binary_classifier_model_diagnosis</td>\n",
       "    </tr>\n",
       "  </tbody>\n",
       "</table>\n"
      ],
      "text/plain": [
       "<pandas.io.formats.style.Styler at 0x29e856a00>"
      ]
     },
     "execution_count": 6,
     "metadata": {},
     "output_type": "execute_result"
    }
   ],
   "source": [
    "vm.test_suites.describe_suite(\"binary_classifier_full_suite\", verbose=True)"
   ]
  },
  {
   "attachments": {},
   "cell_type": "markdown",
   "metadata": {},
   "source": [
    "## Available test suites"
   ]
  },
  {
   "cell_type": "code",
   "execution_count": 7,
   "metadata": {},
   "outputs": [
    {
     "data": {
      "text/plain": [
       "['validmind.model_validation.ModelMetadata',\n",
       " 'validmind.model_validation.sklearn.ClassifierOutOfSamplePerformance',\n",
       " 'validmind.model_validation.sklearn.SHAPGlobalImportance',\n",
       " 'validmind.model_validation.sklearn.ConfusionMatrix',\n",
       " 'validmind.model_validation.sklearn.ClassifierInSamplePerformance',\n",
       " 'validmind.model_validation.sklearn.PermutationFeatureImportance',\n",
       " 'validmind.model_validation.sklearn.PrecisionRecallCurve',\n",
       " 'validmind.model_validation.sklearn.ClassifierPerformance',\n",
       " 'validmind.model_validation.sklearn.ROCCurve',\n",
       " 'validmind.model_validation.sklearn.PopulationStabilityIndex',\n",
       " 'validmind.model_validation.sklearn.RobustnessDiagnosis',\n",
       " 'validmind.model_validation.sklearn.OverfitDiagnosis',\n",
       " 'validmind.model_validation.sklearn.MinimumROCAUCScore',\n",
       " 'validmind.model_validation.sklearn.MinimumF1Score',\n",
       " 'validmind.model_validation.sklearn.TrainingTestDegradation',\n",
       " 'validmind.model_validation.sklearn.WeakspotsDiagnosis',\n",
       " 'validmind.model_validation.sklearn.MinimumAccuracy',\n",
       " 'validmind.model_validation.statsmodels.RegressionModelsCoeffs',\n",
       " 'validmind.model_validation.statsmodels.BoxPierce',\n",
       " 'validmind.model_validation.statsmodels.RegressionModelSensitivityPlot',\n",
       " 'validmind.model_validation.statsmodels.RegressionModelsPerformance',\n",
       " 'validmind.model_validation.statsmodels.ZivotAndrewsArch',\n",
       " 'validmind.model_validation.statsmodels.RegressionModelOutsampleComparison',\n",
       " 'validmind.model_validation.statsmodels.RegressionModelForecastPlotLevels',\n",
       " 'validmind.model_validation.statsmodels.LJungBox',\n",
       " 'validmind.model_validation.statsmodels.JarqueBera',\n",
       " 'validmind.model_validation.statsmodels.PhillipsPerronArch',\n",
       " 'validmind.model_validation.statsmodels.KolmogorovSmirnov',\n",
       " 'validmind.model_validation.statsmodels.ResidualsVisualInspection',\n",
       " 'validmind.model_validation.statsmodels.ShapiroWilk',\n",
       " 'validmind.model_validation.statsmodels.RegressionModelInsampleComparison',\n",
       " 'validmind.model_validation.statsmodels.RegressionModelSummary',\n",
       " 'validmind.model_validation.statsmodels.KPSS',\n",
       " 'validmind.model_validation.statsmodels.Lilliefors',\n",
       " 'validmind.model_validation.statsmodels.RunsTest',\n",
       " 'validmind.model_validation.statsmodels.DFGLSArch',\n",
       " 'validmind.model_validation.statsmodels.AutoARIMA',\n",
       " 'validmind.model_validation.statsmodels.RegressionModelForecastPlot',\n",
       " 'validmind.model_validation.statsmodels.ADF',\n",
       " 'validmind.model_validation.statsmodels.DurbinWatsonTest',\n",
       " 'validmind.model_validation.statsmodels.ADFTest',\n",
       " 'validmind.data_validation.DatasetDescription',\n",
       " 'validmind.data_validation.ScatterPlot',\n",
       " 'validmind.data_validation.AutoStationarity',\n",
       " 'validmind.data_validation.DescriptiveStatistics',\n",
       " 'validmind.data_validation.PearsonCorrelationMatrix',\n",
       " 'validmind.data_validation.RollingStatsPlot',\n",
       " 'validmind.data_validation.DatasetCorrelations',\n",
       " 'validmind.data_validation.TabularDescriptionTables',\n",
       " 'validmind.data_validation.AutoMA',\n",
       " 'validmind.data_validation.ACFandPACFPlot',\n",
       " 'validmind.data_validation.DatasetSplit',\n",
       " 'validmind.data_validation.SpreadPlot',\n",
       " 'validmind.data_validation.TimeSeriesLinePlot',\n",
       " 'validmind.data_validation.AutoSeasonality',\n",
       " 'validmind.data_validation.EngleGrangerCoint',\n",
       " 'validmind.data_validation.DatasetMetadata',\n",
       " 'validmind.data_validation.TimeSeriesHistogram',\n",
       " 'validmind.data_validation.LaggedCorrelationHeatmap',\n",
       " 'validmind.data_validation.SeasonalDecompose',\n",
       " 'validmind.data_validation.AutoAR',\n",
       " 'validmind.data_validation.Skewness',\n",
       " 'validmind.data_validation.Duplicates',\n",
       " 'validmind.data_validation.TimeSeriesOutliers',\n",
       " 'validmind.data_validation.HighCardinality',\n",
       " 'validmind.data_validation.MissingValues',\n",
       " 'validmind.data_validation.UniqueRows',\n",
       " 'validmind.data_validation.TooManyZeroValues',\n",
       " 'validmind.data_validation.HighPearsonCorrelation',\n",
       " 'validmind.data_validation.TimeSeriesFrequency',\n",
       " 'validmind.data_validation.TimeSeriesMissingValues',\n",
       " 'validmind.data_validation.ClassImbalance']"
      ]
     },
     "execution_count": 7,
     "metadata": {},
     "output_type": "execute_result"
    }
   ],
   "source": [
    "vm.tests.list_tests()"
   ]
  },
  {
   "cell_type": "code",
   "execution_count": null,
   "metadata": {},
   "outputs": [],
   "source": []
  }
 ],
 "metadata": {
  "kernelspec": {
   "display_name": "validmind-LmBC4yNo-py3.9",
   "language": "python",
   "name": "python3"
  },
  "language_info": {
   "codemirror_mode": {
    "name": "ipython",
    "version": 3
   },
   "file_extension": ".py",
   "mimetype": "text/x-python",
   "name": "python",
   "nbconvert_exporter": "python",
   "pygments_lexer": "ipython3",
   "version": "3.9.6"
  },
  "orig_nbformat": 4
 },
 "nbformat": 4,
 "nbformat_minor": 2
}
