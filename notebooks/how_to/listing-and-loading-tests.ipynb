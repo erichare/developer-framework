{
 "cells": [
  {
   "cell_type": "code",
   "execution_count": 1,
   "metadata": {},
   "outputs": [],
   "source": [
    "from validmind.tests import list_tests, load_test, describe_test\n",
    "\n",
    "# list_tests(pretty=False)"
   ]
  },
  {
   "cell_type": "code",
   "execution_count": 2,
   "metadata": {},
   "outputs": [
    {
     "name": "stderr",
     "output_type": "stream",
     "text": [
      "2023-08-03 19:25:58,575 - ERROR(validmind.tests): Unable to load test validmind.model_validation.sklearn.ClassifierInSamplePerformance. No module named 'xyz'\n"
     ]
    },
    {
     "ename": "ImportError",
     "evalue": "cannot import name 'Test' from 'validmind.vm_models' (/Users/jwalz/Code/ValidMind/validmind-python/validmind/vm_models/__init__.py)",
     "output_type": "error",
     "traceback": [
      "\u001b[0;31m---------------------------------------------------------------------------\u001b[0m",
      "\u001b[0;31mImportError\u001b[0m                               Traceback (most recent call last)",
      "\u001b[0;32m/var/folders/tf/pd_v63s95ws4qmtkp4wnb__40000gn/T/ipykernel_80509/3892701878.py\u001b[0m in \u001b[0;36m<cell line: 1>\u001b[0;34m()\u001b[0m\n\u001b[0;32m----> 1\u001b[0;31m \u001b[0mload_test\u001b[0m\u001b[0;34m(\u001b[0m\u001b[0;34m\"classifier_performance\"\u001b[0m\u001b[0;34m)\u001b[0m\u001b[0;34m\u001b[0m\u001b[0;34m\u001b[0m\u001b[0m\n\u001b[0m",
      "\u001b[0;32m~/Code/ValidMind/validmind-python/validmind/tests/__init__.py\u001b[0m in \u001b[0;36mload_test\u001b[0;34m(test_id, legacy)\u001b[0m\n\u001b[1;32m    161\u001b[0m     \u001b[0;31m# (e.g. \"ModelMetadata\" instead of \"validmind.model_validation.ModelMetadata\")\u001b[0m\u001b[0;34m\u001b[0m\u001b[0;34m\u001b[0m\u001b[0m\n\u001b[1;32m    162\u001b[0m     \u001b[0;32mif\u001b[0m \u001b[0mlen\u001b[0m\u001b[0;34m(\u001b[0m\u001b[0mparts\u001b[0m\u001b[0;34m)\u001b[0m \u001b[0;34m==\u001b[0m \u001b[0;36m1\u001b[0m\u001b[0;34m:\u001b[0m\u001b[0;34m\u001b[0m\u001b[0;34m\u001b[0m\u001b[0m\n\u001b[0;32m--> 163\u001b[0;31m         \u001b[0;32mreturn\u001b[0m \u001b[0mload_test\u001b[0m\u001b[0;34m(\u001b[0m\u001b[0m_get_legacy_test\u001b[0m\u001b[0;34m(\u001b[0m\u001b[0mtest_id\u001b[0m\u001b[0;34m)\u001b[0m\u001b[0;34m,\u001b[0m \u001b[0mlegacy\u001b[0m\u001b[0;34m=\u001b[0m\u001b[0;32mTrue\u001b[0m\u001b[0;34m)\u001b[0m\u001b[0;34m\u001b[0m\u001b[0;34m\u001b[0m\u001b[0m\n\u001b[0m\u001b[1;32m    164\u001b[0m \u001b[0;34m\u001b[0m\u001b[0m\n\u001b[1;32m    165\u001b[0m     \u001b[0merror\u001b[0m \u001b[0;34m=\u001b[0m \u001b[0;32mNone\u001b[0m\u001b[0;34m\u001b[0m\u001b[0;34m\u001b[0m\u001b[0m\n",
      "\u001b[0;32m~/Code/ValidMind/validmind-python/validmind/tests/__init__.py\u001b[0m in \u001b[0;36m_get_legacy_test\u001b[0;34m(content_id)\u001b[0m\n\u001b[1;32m     60\u001b[0m         \u001b[0;32mfor\u001b[0m \u001b[0mtest_id\u001b[0m \u001b[0;32min\u001b[0m \u001b[0mlist_tests\u001b[0m\u001b[0;34m(\u001b[0m\u001b[0mpretty\u001b[0m\u001b[0;34m=\u001b[0m\u001b[0;32mFalse\u001b[0m\u001b[0;34m)\u001b[0m\u001b[0;34m:\u001b[0m\u001b[0;34m\u001b[0m\u001b[0;34m\u001b[0m\u001b[0m\n\u001b[1;32m     61\u001b[0m             \u001b[0;32mtry\u001b[0m\u001b[0;34m:\u001b[0m\u001b[0;34m\u001b[0m\u001b[0;34m\u001b[0m\u001b[0m\n\u001b[0;32m---> 62\u001b[0;31m                 \u001b[0mtest\u001b[0m \u001b[0;34m=\u001b[0m \u001b[0mload_test\u001b[0m\u001b[0;34m(\u001b[0m\u001b[0mtest_id\u001b[0m\u001b[0;34m,\u001b[0m \u001b[0mlegacy\u001b[0m\u001b[0;34m=\u001b[0m\u001b[0;32mTrue\u001b[0m\u001b[0;34m)\u001b[0m\u001b[0;34m\u001b[0m\u001b[0;34m\u001b[0m\u001b[0m\n\u001b[0m\u001b[1;32m     63\u001b[0m             \u001b[0;32mexcept\u001b[0m \u001b[0mLoadTestError\u001b[0m\u001b[0;34m:\u001b[0m\u001b[0;34m\u001b[0m\u001b[0;34m\u001b[0m\u001b[0m\n\u001b[1;32m     64\u001b[0m                 \u001b[0;32mcontinue\u001b[0m\u001b[0;34m\u001b[0m\u001b[0;34m\u001b[0m\u001b[0m\n",
      "\u001b[0;32m~/Code/ValidMind/validmind-python/validmind/tests/__init__.py\u001b[0m in \u001b[0;36mload_test\u001b[0;34m(test_id, legacy)\u001b[0m\n\u001b[1;32m    177\u001b[0m \u001b[0;34m\u001b[0m\u001b[0m\n\u001b[1;32m    178\u001b[0m         \u001b[0;32mtry\u001b[0m\u001b[0;34m:\u001b[0m\u001b[0;34m\u001b[0m\u001b[0;34m\u001b[0m\u001b[0m\n\u001b[0;32m--> 179\u001b[0;31m             module = importlib.import_module(\n\u001b[0m\u001b[1;32m    180\u001b[0m                 \u001b[0;34mf\"validmind.tests.{test_module}.{test_class}\"\u001b[0m\u001b[0;34m\u001b[0m\u001b[0;34m\u001b[0m\u001b[0m\n\u001b[1;32m    181\u001b[0m             )\n",
      "\u001b[0;32m/opt/homebrew/Cellar/python@3.9/3.9.16/Frameworks/Python.framework/Versions/3.9/lib/python3.9/importlib/__init__.py\u001b[0m in \u001b[0;36mimport_module\u001b[0;34m(name, package)\u001b[0m\n\u001b[1;32m    125\u001b[0m                 \u001b[0;32mbreak\u001b[0m\u001b[0;34m\u001b[0m\u001b[0;34m\u001b[0m\u001b[0m\n\u001b[1;32m    126\u001b[0m             \u001b[0mlevel\u001b[0m \u001b[0;34m+=\u001b[0m \u001b[0;36m1\u001b[0m\u001b[0;34m\u001b[0m\u001b[0;34m\u001b[0m\u001b[0m\n\u001b[0;32m--> 127\u001b[0;31m     \u001b[0;32mreturn\u001b[0m \u001b[0m_bootstrap\u001b[0m\u001b[0;34m.\u001b[0m\u001b[0m_gcd_import\u001b[0m\u001b[0;34m(\u001b[0m\u001b[0mname\u001b[0m\u001b[0;34m[\u001b[0m\u001b[0mlevel\u001b[0m\u001b[0;34m:\u001b[0m\u001b[0;34m]\u001b[0m\u001b[0;34m,\u001b[0m \u001b[0mpackage\u001b[0m\u001b[0;34m,\u001b[0m \u001b[0mlevel\u001b[0m\u001b[0;34m)\u001b[0m\u001b[0;34m\u001b[0m\u001b[0;34m\u001b[0m\u001b[0m\n\u001b[0m\u001b[1;32m    128\u001b[0m \u001b[0;34m\u001b[0m\u001b[0m\n\u001b[1;32m    129\u001b[0m \u001b[0;34m\u001b[0m\u001b[0m\n",
      "\u001b[0;32m/opt/homebrew/Cellar/python@3.9/3.9.16/Frameworks/Python.framework/Versions/3.9/lib/python3.9/importlib/_bootstrap.py\u001b[0m in \u001b[0;36m_gcd_import\u001b[0;34m(name, package, level)\u001b[0m\n",
      "\u001b[0;32m/opt/homebrew/Cellar/python@3.9/3.9.16/Frameworks/Python.framework/Versions/3.9/lib/python3.9/importlib/_bootstrap.py\u001b[0m in \u001b[0;36m_find_and_load\u001b[0;34m(name, import_)\u001b[0m\n",
      "\u001b[0;32m/opt/homebrew/Cellar/python@3.9/3.9.16/Frameworks/Python.framework/Versions/3.9/lib/python3.9/importlib/_bootstrap.py\u001b[0m in \u001b[0;36m_find_and_load_unlocked\u001b[0;34m(name, import_)\u001b[0m\n",
      "\u001b[0;32m/opt/homebrew/Cellar/python@3.9/3.9.16/Frameworks/Python.framework/Versions/3.9/lib/python3.9/importlib/_bootstrap.py\u001b[0m in \u001b[0;36m_load_unlocked\u001b[0;34m(spec)\u001b[0m\n",
      "\u001b[0;32m/opt/homebrew/Cellar/python@3.9/3.9.16/Frameworks/Python.framework/Versions/3.9/lib/python3.9/importlib/_bootstrap_external.py\u001b[0m in \u001b[0;36mexec_module\u001b[0;34m(self, module)\u001b[0m\n",
      "\u001b[0;32m/opt/homebrew/Cellar/python@3.9/3.9.16/Frameworks/Python.framework/Versions/3.9/lib/python3.9/importlib/_bootstrap.py\u001b[0m in \u001b[0;36m_call_with_frames_removed\u001b[0;34m(f, *args, **kwds)\u001b[0m\n",
      "\u001b[0;32m~/Code/ValidMind/validmind-python/validmind/tests/data_validation/DatasetMetadata.py\u001b[0m in \u001b[0;36m<module>\u001b[0;34m\u001b[0m\n\u001b[1;32m      4\u001b[0m \u001b[0;32mfrom\u001b[0m \u001b[0mtyping\u001b[0m \u001b[0;32mimport\u001b[0m \u001b[0mClassVar\u001b[0m\u001b[0;34m\u001b[0m\u001b[0;34m\u001b[0m\u001b[0m\n\u001b[1;32m      5\u001b[0m \u001b[0;34m\u001b[0m\u001b[0m\n\u001b[0;32m----> 6\u001b[0;31m \u001b[0;32mfrom\u001b[0m \u001b[0mvalidmind\u001b[0m\u001b[0;34m.\u001b[0m\u001b[0mvm_models\u001b[0m \u001b[0;32mimport\u001b[0m \u001b[0mTest\u001b[0m\u001b[0;34m,\u001b[0m \u001b[0mTestPlanDatasetResult\u001b[0m\u001b[0;34m\u001b[0m\u001b[0;34m\u001b[0m\u001b[0m\n\u001b[0m\u001b[1;32m      7\u001b[0m \u001b[0;34m\u001b[0m\u001b[0m\n\u001b[1;32m      8\u001b[0m \u001b[0;34m\u001b[0m\u001b[0m\n",
      "\u001b[0;31mImportError\u001b[0m: cannot import name 'Test' from 'validmind.vm_models' (/Users/jwalz/Code/ValidMind/validmind-python/validmind/vm_models/__init__.py)"
     ]
    }
   ],
   "source": [
    "load_test(\"classifier_performance\")"
   ]
  },
  {
   "cell_type": "code",
   "execution_count": 2,
   "metadata": {},
   "outputs": [
    {
     "ename": "AttributeError",
     "evalue": "type object 'ModelMetadata' has no attribute 'metadata'",
     "output_type": "error",
     "traceback": [
      "\u001b[0;31m---------------------------------------------------------------------------\u001b[0m",
      "\u001b[0;31mAttributeError\u001b[0m                            Traceback (most recent call last)",
      "\u001b[0;32m/var/folders/tf/pd_v63s95ws4qmtkp4wnb__40000gn/T/ipykernel_79064/271071906.py\u001b[0m in \u001b[0;36m<cell line: 1>\u001b[0;34m()\u001b[0m\n\u001b[0;32m----> 1\u001b[0;31m \u001b[0mlist_tests\u001b[0m\u001b[0;34m(\u001b[0m\u001b[0mtask\u001b[0m\u001b[0;34m=\u001b[0m\u001b[0;34m\"nlp\"\u001b[0m\u001b[0;34m)\u001b[0m\u001b[0;34m\u001b[0m\u001b[0;34m\u001b[0m\u001b[0m\n\u001b[0m",
      "\u001b[0;32m~/Code/ValidMind/validmind-python/validmind/tests/__init__.py\u001b[0m in \u001b[0;36mlist_tests\u001b[0;34m(filter, task, pretty)\u001b[0m\n\u001b[1;32m    130\u001b[0m     \u001b[0;32mif\u001b[0m \u001b[0mtask\u001b[0m \u001b[0;32mis\u001b[0m \u001b[0;32mnot\u001b[0m \u001b[0;32mNone\u001b[0m\u001b[0;34m:\u001b[0m\u001b[0;34m\u001b[0m\u001b[0;34m\u001b[0m\u001b[0m\n\u001b[1;32m    131\u001b[0m         \u001b[0m_load_tests\u001b[0m\u001b[0;34m(\u001b[0m\u001b[0mtests\u001b[0m\u001b[0;34m)\u001b[0m\u001b[0;34m\u001b[0m\u001b[0;34m\u001b[0m\u001b[0m\n\u001b[0;32m--> 132\u001b[0;31m         tests = [\n\u001b[0m\u001b[1;32m    133\u001b[0m             \u001b[0mtest_id\u001b[0m\u001b[0;34m\u001b[0m\u001b[0;34m\u001b[0m\u001b[0m\n\u001b[1;32m    134\u001b[0m             \u001b[0;32mfor\u001b[0m \u001b[0mtest_id\u001b[0m \u001b[0;32min\u001b[0m \u001b[0mtests\u001b[0m\u001b[0;34m\u001b[0m\u001b[0;34m\u001b[0m\u001b[0m\n",
      "\u001b[0;32m~/Code/ValidMind/validmind-python/validmind/tests/__init__.py\u001b[0m in \u001b[0;36m<listcomp>\u001b[0;34m(.0)\u001b[0m\n\u001b[1;32m    133\u001b[0m             \u001b[0mtest_id\u001b[0m\u001b[0;34m\u001b[0m\u001b[0;34m\u001b[0m\u001b[0m\n\u001b[1;32m    134\u001b[0m             \u001b[0;32mfor\u001b[0m \u001b[0mtest_id\u001b[0m \u001b[0;32min\u001b[0m \u001b[0mtests\u001b[0m\u001b[0;34m\u001b[0m\u001b[0;34m\u001b[0m\u001b[0m\n\u001b[0;32m--> 135\u001b[0;31m             \u001b[0;32mif\u001b[0m \u001b[0m__test_classes\u001b[0m\u001b[0;34m[\u001b[0m\u001b[0mtest_id\u001b[0m\u001b[0;34m]\u001b[0m\u001b[0;34m.\u001b[0m\u001b[0mmetadata\u001b[0m\u001b[0;34m[\u001b[0m\u001b[0;34m\"task_type\"\u001b[0m\u001b[0;34m]\u001b[0m \u001b[0;34m==\u001b[0m \u001b[0mtask\u001b[0m\u001b[0;34m\u001b[0m\u001b[0;34m\u001b[0m\u001b[0m\n\u001b[0m\u001b[1;32m    136\u001b[0m         ]\n\u001b[1;32m    137\u001b[0m \u001b[0;34m\u001b[0m\u001b[0m\n",
      "\u001b[0;31mAttributeError\u001b[0m: type object 'ModelMetadata' has no attribute 'metadata'"
     ]
    }
   ],
   "source": [
    "list_tests(task=\"nlp\")"
   ]
  },
  {
   "cell_type": "code",
   "execution_count": 2,
   "metadata": {},
   "outputs": [
    {
     "data": {
      "text/html": [
       "<style type=\"text/css\">\n",
       "#T_11058 th {\n",
       "  text-align: left;\n",
       "}\n",
       "#T_11058_row0_col0, #T_11058_row0_col1, #T_11058_row0_col2, #T_11058_row0_col3, #T_11058_row1_col0, #T_11058_row1_col1, #T_11058_row1_col2, #T_11058_row1_col3, #T_11058_row2_col0, #T_11058_row2_col1, #T_11058_row2_col2, #T_11058_row2_col3, #T_11058_row3_col0, #T_11058_row3_col1, #T_11058_row3_col2, #T_11058_row3_col3, #T_11058_row4_col0, #T_11058_row4_col1, #T_11058_row4_col2, #T_11058_row4_col3, #T_11058_row5_col0, #T_11058_row5_col1, #T_11058_row5_col2, #T_11058_row5_col3, #T_11058_row6_col0, #T_11058_row6_col1, #T_11058_row6_col2, #T_11058_row6_col3, #T_11058_row7_col0, #T_11058_row7_col1, #T_11058_row7_col2, #T_11058_row7_col3, #T_11058_row8_col0, #T_11058_row8_col1, #T_11058_row8_col2, #T_11058_row8_col3, #T_11058_row9_col0, #T_11058_row9_col1, #T_11058_row9_col2, #T_11058_row9_col3, #T_11058_row10_col0, #T_11058_row10_col1, #T_11058_row10_col2, #T_11058_row10_col3, #T_11058_row11_col0, #T_11058_row11_col1, #T_11058_row11_col2, #T_11058_row11_col3, #T_11058_row12_col0, #T_11058_row12_col1, #T_11058_row12_col2, #T_11058_row12_col3, #T_11058_row13_col0, #T_11058_row13_col1, #T_11058_row13_col2, #T_11058_row13_col3, #T_11058_row14_col0, #T_11058_row14_col1, #T_11058_row14_col2, #T_11058_row14_col3, #T_11058_row15_col0, #T_11058_row15_col1, #T_11058_row15_col2, #T_11058_row15_col3 {\n",
       "  text-align: left;\n",
       "}\n",
       "</style>\n",
       "<table id=\"T_11058\">\n",
       "  <thead>\n",
       "    <tr>\n",
       "      <th id=\"T_11058_level0_col0\" class=\"col_heading level0 col0\" >Test Type</th>\n",
       "      <th id=\"T_11058_level0_col1\" class=\"col_heading level0 col1\" >Name</th>\n",
       "      <th id=\"T_11058_level0_col2\" class=\"col_heading level0 col2\" >Description</th>\n",
       "      <th id=\"T_11058_level0_col3\" class=\"col_heading level0 col3\" >ID</th>\n",
       "    </tr>\n",
       "  </thead>\n",
       "  <tbody>\n",
       "    <tr>\n",
       "      <td id=\"T_11058_row0_col0\" class=\"data row0 col0\" >Metric</td>\n",
       "      <td id=\"T_11058_row0_col1\" class=\"data row0 col1\" >ClassifierOutOfSamplePerformance</td>\n",
       "      <td id=\"T_11058_row0_col2\" class=\"data row0 col2\" >Test that outputs the performance of the model on the test data.</td>\n",
       "      <td id=\"T_11058_row0_col3\" class=\"data row0 col3\" >validmind.model_validation.sklearn.ClassifierOutOfSamplePerformance</td>\n",
       "    </tr>\n",
       "    <tr>\n",
       "      <td id=\"T_11058_row1_col0\" class=\"data row1 col0\" >ThresholdTest</td>\n",
       "      <td id=\"T_11058_row1_col1\" class=\"data row1 col1\" >RobustnessDiagnosis</td>\n",
       "      <td id=\"T_11058_row1_col2\" class=\"data row1 col2\" >Test robustness of model by perturbing the features column values by adding noise within scale\n",
       "    stardard deviation.</td>\n",
       "      <td id=\"T_11058_row1_col3\" class=\"data row1 col3\" >validmind.model_validation.sklearn.RobustnessDiagnosis</td>\n",
       "    </tr>\n",
       "    <tr>\n",
       "      <td id=\"T_11058_row2_col0\" class=\"data row2 col0\" >Metric</td>\n",
       "      <td id=\"T_11058_row2_col1\" class=\"data row2 col1\" >SHAPGlobalImportance</td>\n",
       "      <td id=\"T_11058_row2_col2\" class=\"data row2 col2\" >SHAP Global Importance</td>\n",
       "      <td id=\"T_11058_row2_col3\" class=\"data row2 col3\" >validmind.model_validation.sklearn.SHAPGlobalImportance</td>\n",
       "    </tr>\n",
       "    <tr>\n",
       "      <td id=\"T_11058_row3_col0\" class=\"data row3 col0\" >Metric</td>\n",
       "      <td id=\"T_11058_row3_col1\" class=\"data row3 col1\" >ConfusionMatrix</td>\n",
       "      <td id=\"T_11058_row3_col2\" class=\"data row3 col2\" >Confusion Matrix</td>\n",
       "      <td id=\"T_11058_row3_col3\" class=\"data row3 col3\" >validmind.model_validation.sklearn.ConfusionMatrix</td>\n",
       "    </tr>\n",
       "    <tr>\n",
       "      <td id=\"T_11058_row4_col0\" class=\"data row4 col0\" >Metric</td>\n",
       "      <td id=\"T_11058_row4_col1\" class=\"data row4 col1\" >ClassifierInSamplePerformance</td>\n",
       "      <td id=\"T_11058_row4_col2\" class=\"data row4 col2\" >Test that outputs the performance of the model on the training data.</td>\n",
       "      <td id=\"T_11058_row4_col3\" class=\"data row4 col3\" >validmind.model_validation.sklearn.ClassifierInSamplePerformance</td>\n",
       "    </tr>\n",
       "    <tr>\n",
       "      <td id=\"T_11058_row5_col0\" class=\"data row5 col0\" >ThresholdTest</td>\n",
       "      <td id=\"T_11058_row5_col1\" class=\"data row5 col1\" >OverfitDiagnosis</td>\n",
       "      <td id=\"T_11058_row5_col2\" class=\"data row5 col2\" >Test that identify overfit regions with high residuals by histogram slicing techniques.</td>\n",
       "      <td id=\"T_11058_row5_col3\" class=\"data row5 col3\" >validmind.model_validation.sklearn.OverfitDiagnosis</td>\n",
       "    </tr>\n",
       "    <tr>\n",
       "      <td id=\"T_11058_row6_col0\" class=\"data row6 col0\" >Metric</td>\n",
       "      <td id=\"T_11058_row6_col1\" class=\"data row6 col1\" >PermutationFeatureImportance</td>\n",
       "      <td id=\"T_11058_row6_col2\" class=\"data row6 col2\" >Permutation Feature Importance</td>\n",
       "      <td id=\"T_11058_row6_col3\" class=\"data row6 col3\" >validmind.model_validation.sklearn.PermutationFeatureImportance</td>\n",
       "    </tr>\n",
       "    <tr>\n",
       "      <td id=\"T_11058_row7_col0\" class=\"data row7 col0\" >ThresholdTest</td>\n",
       "      <td id=\"T_11058_row7_col1\" class=\"data row7 col1\" >MinimumROCAUCScore</td>\n",
       "      <td id=\"T_11058_row7_col2\" class=\"data row7 col2\" >Test that the model's ROC AUC score on the validation dataset meets or\n",
       "    exceeds a predefined threshold.</td>\n",
       "      <td id=\"T_11058_row7_col3\" class=\"data row7 col3\" >validmind.model_validation.sklearn.MinimumROCAUCScore</td>\n",
       "    </tr>\n",
       "    <tr>\n",
       "      <td id=\"T_11058_row8_col0\" class=\"data row8 col0\" >Metric</td>\n",
       "      <td id=\"T_11058_row8_col1\" class=\"data row8 col1\" >PrecisionRecallCurve</td>\n",
       "      <td id=\"T_11058_row8_col2\" class=\"data row8 col2\" >Precision Recall Curve</td>\n",
       "      <td id=\"T_11058_row8_col3\" class=\"data row8 col3\" >validmind.model_validation.sklearn.PrecisionRecallCurve</td>\n",
       "    </tr>\n",
       "    <tr>\n",
       "      <td id=\"T_11058_row9_col0\" class=\"data row9 col0\" >Metric</td>\n",
       "      <td id=\"T_11058_row9_col1\" class=\"data row9 col1\" >ClassifierPerformance</td>\n",
       "      <td id=\"T_11058_row9_col2\" class=\"data row9 col2\" >Test that outputs the performance of the model on the training or test data.</td>\n",
       "      <td id=\"T_11058_row9_col3\" class=\"data row9 col3\" >validmind.model_validation.sklearn.ClassifierPerformance</td>\n",
       "    </tr>\n",
       "    <tr>\n",
       "      <td id=\"T_11058_row10_col0\" class=\"data row10 col0\" >ThresholdTest</td>\n",
       "      <td id=\"T_11058_row10_col1\" class=\"data row10 col1\" >MinimumF1Score</td>\n",
       "      <td id=\"T_11058_row10_col2\" class=\"data row10 col2\" >Test that the model's F1 score on the validation dataset meets or\n",
       "    exceeds a predefined threshold.</td>\n",
       "      <td id=\"T_11058_row10_col3\" class=\"data row10 col3\" >validmind.model_validation.sklearn.MinimumF1Score</td>\n",
       "    </tr>\n",
       "    <tr>\n",
       "      <td id=\"T_11058_row11_col0\" class=\"data row11 col0\" >Metric</td>\n",
       "      <td id=\"T_11058_row11_col1\" class=\"data row11 col1\" >ROCCurve</td>\n",
       "      <td id=\"T_11058_row11_col2\" class=\"data row11 col2\" >ROC Curve</td>\n",
       "      <td id=\"T_11058_row11_col3\" class=\"data row11 col3\" >validmind.model_validation.sklearn.ROCCurve</td>\n",
       "    </tr>\n",
       "    <tr>\n",
       "      <td id=\"T_11058_row12_col0\" class=\"data row12 col0\" >ThresholdTest</td>\n",
       "      <td id=\"T_11058_row12_col1\" class=\"data row12 col1\" >TrainingTestDegradation</td>\n",
       "      <td id=\"T_11058_row12_col2\" class=\"data row12 col2\" >Test that the degradation in performance between the training and test datasets\n",
       "    does not exceed a predefined threshold.</td>\n",
       "      <td id=\"T_11058_row12_col3\" class=\"data row12 col3\" >validmind.model_validation.sklearn.TrainingTestDegradation</td>\n",
       "    </tr>\n",
       "    <tr>\n",
       "      <td id=\"T_11058_row13_col0\" class=\"data row13 col0\" >ThresholdTest</td>\n",
       "      <td id=\"T_11058_row13_col1\" class=\"data row13 col1\" >WeakspotsDiagnosis</td>\n",
       "      <td id=\"T_11058_row13_col2\" class=\"data row13 col2\" >Test that identify weak regions with high residuals by histogram slicing techniques.</td>\n",
       "      <td id=\"T_11058_row13_col3\" class=\"data row13 col3\" >validmind.model_validation.sklearn.WeakspotsDiagnosis</td>\n",
       "    </tr>\n",
       "    <tr>\n",
       "      <td id=\"T_11058_row14_col0\" class=\"data row14 col0\" >Metric</td>\n",
       "      <td id=\"T_11058_row14_col1\" class=\"data row14 col1\" >PopulationStabilityIndex</td>\n",
       "      <td id=\"T_11058_row14_col2\" class=\"data row14 col2\" >Population Stability Index between two datasets</td>\n",
       "      <td id=\"T_11058_row14_col3\" class=\"data row14 col3\" >validmind.model_validation.sklearn.PopulationStabilityIndex</td>\n",
       "    </tr>\n",
       "    <tr>\n",
       "      <td id=\"T_11058_row15_col0\" class=\"data row15 col0\" >ThresholdTest</td>\n",
       "      <td id=\"T_11058_row15_col1\" class=\"data row15 col1\" >MinimumAccuracy</td>\n",
       "      <td id=\"T_11058_row15_col2\" class=\"data row15 col2\" >Test that the model's prediction accuracy on a dataset meets or\n",
       "    exceeds a predefined threshold.</td>\n",
       "      <td id=\"T_11058_row15_col3\" class=\"data row15 col3\" >validmind.model_validation.sklearn.MinimumAccuracy</td>\n",
       "    </tr>\n",
       "  </tbody>\n",
       "</table>\n"
      ],
      "text/plain": [
       "<pandas.io.formats.style.Styler at 0x2bb4b98e0>"
      ]
     },
     "execution_count": 2,
     "metadata": {},
     "output_type": "execute_result"
    }
   ],
   "source": [
    "list_tests(filter=\"model_validation.sklearn\")"
   ]
  },
  {
   "cell_type": "code",
   "execution_count": 3,
   "metadata": {},
   "outputs": [
    {
     "data": {
      "text/plain": [
       "['validmind.model_validation.ModelMetadata',\n",
       " 'validmind.model_validation.sklearn.ClassifierOutOfSamplePerformance',\n",
       " 'validmind.model_validation.sklearn.RobustnessDiagnosis',\n",
       " 'validmind.model_validation.sklearn.SHAPGlobalImportance',\n",
       " 'validmind.model_validation.sklearn.ConfusionMatrix',\n",
       " 'validmind.model_validation.sklearn.ClassifierInSamplePerformance',\n",
       " 'validmind.model_validation.sklearn.OverfitDiagnosis',\n",
       " 'validmind.model_validation.sklearn.PermutationFeatureImportance',\n",
       " 'validmind.model_validation.sklearn.MinimumROCAUCScore',\n",
       " 'validmind.model_validation.sklearn.PrecisionRecallCurve',\n",
       " 'validmind.model_validation.sklearn.ClassifierPerformance',\n",
       " 'validmind.model_validation.sklearn.MinimumF1Score',\n",
       " 'validmind.model_validation.sklearn.ROCCurve',\n",
       " 'validmind.model_validation.sklearn.TrainingTestDegradation',\n",
       " 'validmind.model_validation.sklearn.WeakspotsDiagnosis',\n",
       " 'validmind.model_validation.sklearn.PopulationStabilityIndex',\n",
       " 'validmind.model_validation.sklearn.MinimumAccuracy',\n",
       " 'validmind.model_validation.statsmodels.RegressionModelsCoeffs',\n",
       " 'validmind.model_validation.statsmodels.BoxPierce',\n",
       " 'validmind.model_validation.statsmodels.RegressionModelSensitivityPlot',\n",
       " 'validmind.model_validation.statsmodels.RegressionModelsPerformance',\n",
       " 'validmind.model_validation.statsmodels.ZivotAndrewsArch',\n",
       " 'validmind.model_validation.statsmodels.RegressionModelOutsampleComparison',\n",
       " 'validmind.model_validation.statsmodels.RegressionModelForecastPlotLevels',\n",
       " 'validmind.model_validation.statsmodels.LJungBox',\n",
       " 'validmind.model_validation.statsmodels.JarqueBera',\n",
       " 'validmind.model_validation.statsmodels.PhillipsPerronArch',\n",
       " 'validmind.model_validation.statsmodels.KolmogorovSmirnov',\n",
       " 'validmind.model_validation.statsmodels.ResidualsVisualInspection',\n",
       " 'validmind.model_validation.statsmodels.ShapiroWilk',\n",
       " 'validmind.model_validation.statsmodels.RegressionModelInsampleComparison',\n",
       " 'validmind.model_validation.statsmodels.RegressionModelSummary',\n",
       " 'validmind.model_validation.statsmodels.KPSS',\n",
       " 'validmind.model_validation.statsmodels.Lilliefors',\n",
       " 'validmind.model_validation.statsmodels.RunsTest',\n",
       " 'validmind.model_validation.statsmodels.DFGLSArch',\n",
       " 'validmind.model_validation.statsmodels.AutoARIMA',\n",
       " 'validmind.model_validation.statsmodels.ADFTest',\n",
       " 'validmind.model_validation.statsmodels.RegressionModelForecastPlot',\n",
       " 'validmind.model_validation.statsmodels.ADF',\n",
       " 'validmind.model_validation.statsmodels.DurbinWatsonTest',\n",
       " 'validmind.data_validation.Skewness',\n",
       " 'validmind.data_validation.Duplicates',\n",
       " 'validmind.data_validation.DatasetDescription',\n",
       " 'validmind.data_validation.ScatterPlot',\n",
       " 'validmind.data_validation.TimeSeriesOutliers',\n",
       " 'validmind.data_validation.TabularCategoricalBarPlots',\n",
       " 'validmind.data_validation.AutoStationarity',\n",
       " 'validmind.data_validation.DescriptiveStatistics',\n",
       " 'validmind.data_validation.PearsonCorrelationMatrix',\n",
       " 'validmind.data_validation.TabularNumericalHistograms',\n",
       " 'validmind.data_validation.HighCardinality',\n",
       " 'validmind.data_validation.MissingValues',\n",
       " 'validmind.data_validation.RollingStatsPlot',\n",
       " 'validmind.data_validation.DatasetCorrelations',\n",
       " 'validmind.data_validation.TabularDescriptionTables',\n",
       " 'validmind.data_validation.AutoMA',\n",
       " 'validmind.data_validation.UniqueRows',\n",
       " 'validmind.data_validation.TooManyZeroValues',\n",
       " 'validmind.data_validation.HighPearsonCorrelation',\n",
       " 'validmind.data_validation.ACFandPACFPlot',\n",
       " 'validmind.data_validation.TimeSeriesFrequency',\n",
       " 'validmind.data_validation.DatasetSplit',\n",
       " 'validmind.data_validation.SpreadPlot',\n",
       " 'validmind.data_validation.TimeSeriesLinePlot',\n",
       " 'validmind.data_validation.AutoSeasonality',\n",
       " 'validmind.data_validation.EngleGrangerCoint',\n",
       " 'validmind.data_validation.TimeSeriesMissingValues',\n",
       " 'validmind.data_validation.DatasetMetadata',\n",
       " 'validmind.data_validation.TimeSeriesHistogram',\n",
       " 'validmind.data_validation.LaggedCorrelationHeatmap',\n",
       " 'validmind.data_validation.SeasonalDecompose',\n",
       " 'validmind.data_validation.ClassImbalance',\n",
       " 'validmind.data_validation.AutoAR',\n",
       " 'validmind.data_validation.TabularDateTimeHistograms']"
      ]
     },
     "execution_count": 3,
     "metadata": {},
     "output_type": "execute_result"
    }
   ],
   "source": [
    "list_tests(pretty=False)"
   ]
  },
  {
   "cell_type": "code",
   "execution_count": 5,
   "metadata": {},
   "outputs": [
    {
     "data": {
      "text/html": [
       "<style type=\"text/css\">\n",
       "#T_b8172 th {\n",
       "  text-align: left;\n",
       "}\n",
       "#T_b8172_row0_col0, #T_b8172_row0_col1, #T_b8172_row1_col0, #T_b8172_row1_col1, #T_b8172_row2_col0, #T_b8172_row2_col1, #T_b8172_row3_col0, #T_b8172_row3_col1, #T_b8172_row4_col0, #T_b8172_row4_col1, #T_b8172_row5_col0, #T_b8172_row5_col1 {\n",
       "  text-align: left;\n",
       "}\n",
       "</style>\n",
       "<table id=\"T_b8172\">\n",
       "  <thead>\n",
       "    <tr>\n",
       "      <th id=\"T_b8172_level0_col0\" class=\"col_heading level0 col0\" ></th>\n",
       "      <th id=\"T_b8172_level0_col1\" class=\"col_heading level0 col1\" > </th>\n",
       "    </tr>\n",
       "  </thead>\n",
       "  <tbody>\n",
       "    <tr>\n",
       "      <td id=\"T_b8172_row0_col0\" class=\"data row0 col0\" >ID:</td>\n",
       "      <td id=\"T_b8172_row0_col1\" class=\"data row0 col1\" >validmind.model_validation.ModelMetadata</td>\n",
       "    </tr>\n",
       "    <tr>\n",
       "      <td id=\"T_b8172_row1_col0\" class=\"data row1 col0\" >Name:</td>\n",
       "      <td id=\"T_b8172_row1_col1\" class=\"data row1 col1\" >Model Metadata</td>\n",
       "    </tr>\n",
       "    <tr>\n",
       "      <td id=\"T_b8172_row2_col0\" class=\"data row2 col0\" >Description:</td>\n",
       "      <td id=\"T_b8172_row2_col1\" class=\"data row2 col1\" >This section describes attributes of the selected model such as its modeling technique, training parameters, and task type. This helps understand the model's capabilities and limitations in the context of a modeling framework.</td>\n",
       "    </tr>\n",
       "    <tr>\n",
       "      <td id=\"T_b8172_row3_col0\" class=\"data row3 col0\" >Test Type:</td>\n",
       "      <td id=\"T_b8172_row3_col1\" class=\"data row3 col1\" >Metric</td>\n",
       "    </tr>\n",
       "    <tr>\n",
       "      <td id=\"T_b8172_row4_col0\" class=\"data row4 col0\" >Required Inputs:</td>\n",
       "      <td id=\"T_b8172_row4_col1\" class=\"data row4 col1\" >['model']</td>\n",
       "    </tr>\n",
       "    <tr>\n",
       "      <td id=\"T_b8172_row5_col0\" class=\"data row5 col0\" >Params:</td>\n",
       "      <td id=\"T_b8172_row5_col1\" class=\"data row5 col1\" >{}</td>\n",
       "    </tr>\n",
       "  </tbody>\n",
       "</table>\n"
      ],
      "text/plain": [
       "<pandas.io.formats.style.Styler at 0x2b8e2b250>"
      ]
     },
     "execution_count": 5,
     "metadata": {},
     "output_type": "execute_result"
    }
   ],
   "source": [
    "describe_test(\"validmind.model_validation.ModelMetadata\")"
   ]
  },
  {
   "cell_type": "code",
   "execution_count": 3,
   "metadata": {},
   "outputs": [
    {
     "data": {
      "text/html": [
       "<style type=\"text/css\">\n",
       "#T_77e25 th {\n",
       "  text-align: left;\n",
       "}\n",
       "#T_77e25_row0_col0, #T_77e25_row0_col1, #T_77e25_row1_col0, #T_77e25_row1_col1, #T_77e25_row2_col0, #T_77e25_row2_col1, #T_77e25_row3_col0, #T_77e25_row3_col1, #T_77e25_row4_col0, #T_77e25_row4_col1, #T_77e25_row5_col0, #T_77e25_row5_col1 {\n",
       "  text-align: left;\n",
       "}\n",
       "</style>\n",
       "<table id=\"T_77e25\">\n",
       "  <thead>\n",
       "    <tr>\n",
       "      <th id=\"T_77e25_level0_col0\" class=\"col_heading level0 col0\" ></th>\n",
       "      <th id=\"T_77e25_level0_col1\" class=\"col_heading level0 col1\" > </th>\n",
       "    </tr>\n",
       "  </thead>\n",
       "  <tbody>\n",
       "    <tr>\n",
       "      <td id=\"T_77e25_row0_col0\" class=\"data row0 col0\" >ID:</td>\n",
       "      <td id=\"T_77e25_row0_col1\" class=\"data row0 col1\" >validmind.model_validation.ModelMetadata</td>\n",
       "    </tr>\n",
       "    <tr>\n",
       "      <td id=\"T_77e25_row1_col0\" class=\"data row1 col0\" >Name:</td>\n",
       "      <td id=\"T_77e25_row1_col1\" class=\"data row1 col1\" >Model Metadata</td>\n",
       "    </tr>\n",
       "    <tr>\n",
       "      <td id=\"T_77e25_row2_col0\" class=\"data row2 col0\" >Description:</td>\n",
       "      <td id=\"T_77e25_row2_col1\" class=\"data row2 col1\" >This section describes attributes of the selected model such as its modeling technique, training parameters, and task type. This helps understand the model's capabilities and limitations in the context of a modeling framework.</td>\n",
       "    </tr>\n",
       "    <tr>\n",
       "      <td id=\"T_77e25_row3_col0\" class=\"data row3 col0\" >Test Type:</td>\n",
       "      <td id=\"T_77e25_row3_col1\" class=\"data row3 col1\" >Metric</td>\n",
       "    </tr>\n",
       "    <tr>\n",
       "      <td id=\"T_77e25_row4_col0\" class=\"data row4 col0\" >Required Inputs:</td>\n",
       "      <td id=\"T_77e25_row4_col1\" class=\"data row4 col1\" >['model']</td>\n",
       "    </tr>\n",
       "    <tr>\n",
       "      <td id=\"T_77e25_row5_col0\" class=\"data row5 col0\" >Params:</td>\n",
       "      <td id=\"T_77e25_row5_col1\" class=\"data row5 col1\" >{}</td>\n",
       "    </tr>\n",
       "  </tbody>\n",
       "</table>\n"
      ],
      "text/plain": [
       "<pandas.io.formats.style.Styler at 0x14ddc2220>"
      ]
     },
     "execution_count": 3,
     "metadata": {},
     "output_type": "execute_result"
    }
   ],
   "source": [
    "describe_test(\"ModelMetadata\")"
   ]
  },
  {
   "cell_type": "code",
   "execution_count": 6,
   "metadata": {},
   "outputs": [
    {
     "name": "stdout",
     "output_type": "stream",
     "text": [
      "<class 'validmind.tests.model_validation.ModelMetadata.ModelMetadata'>\n",
      "Test name is: model_metadata\n",
      "\n",
      "    Custom class to collect the following metadata for a model:\n",
      "    - Model architecture\n",
      "    - Model hyperparameters\n",
      "    - Model task type\n",
      "    \n",
      "['model']\n"
     ]
    }
   ],
   "source": [
    "test = load_test(\"validmind.model_validation.ModelMetadata\")\n",
    "print(test)\n",
    "print(f\"Test name is: {test.name}\")\n",
    "print(test.__doc__)\n",
    "print(test.required_inputs)"
   ]
  },
  {
   "cell_type": "code",
   "execution_count": 7,
   "metadata": {},
   "outputs": [
    {
     "data": {
      "text/plain": [
       "validmind.tests.model_validation.sklearn.ConfusionMatrix.ConfusionMatrix"
      ]
     },
     "execution_count": 7,
     "metadata": {},
     "output_type": "execute_result"
    }
   ],
   "source": [
    "load_test(\"validmind.model_validation.sklearn.ConfusionMatrix\")"
   ]
  },
  {
   "cell_type": "code",
   "execution_count": 8,
   "metadata": {},
   "outputs": [
    {
     "data": {
      "text/plain": [
       "validmind.tests.data_validation.ClassImbalance.ClassImbalance"
      ]
     },
     "execution_count": 8,
     "metadata": {},
     "output_type": "execute_result"
    }
   ],
   "source": [
    "load_test(\"validmind.data_validation.ClassImbalance\")"
   ]
  },
  {
   "cell_type": "code",
   "execution_count": 9,
   "metadata": {},
   "outputs": [
    {
     "name": "stdout",
     "output_type": "stream",
     "text": [
      "<class 'validmind.tests.model_validation.ModelMetadata.ModelMetadata'>\n",
      "<class 'validmind.tests.model_validation.sklearn.ClassifierOutOfSamplePerformance.ClassifierOutOfSamplePerformance'>\n",
      "<class 'validmind.tests.model_validation.sklearn.RobustnessDiagnosis.RobustnessDiagnosis'>\n",
      "<class 'validmind.tests.model_validation.sklearn.SHAPGlobalImportance.SHAPGlobalImportance'>\n",
      "<class 'validmind.tests.model_validation.sklearn.ConfusionMatrix.ConfusionMatrix'>\n",
      "<class 'validmind.tests.model_validation.sklearn.ClassifierInSamplePerformance.ClassifierInSamplePerformance'>\n",
      "<class 'validmind.tests.model_validation.sklearn.OverfitDiagnosis.OverfitDiagnosis'>\n",
      "<class 'validmind.tests.model_validation.sklearn.PermutationFeatureImportance.PermutationFeatureImportance'>\n",
      "<class 'validmind.tests.model_validation.sklearn.MinimumROCAUCScore.MinimumROCAUCScore'>\n",
      "<class 'validmind.tests.model_validation.sklearn.PrecisionRecallCurve.PrecisionRecallCurve'>\n",
      "<class 'validmind.tests.model_validation.sklearn.ClassifierPerformance.ClassifierPerformance'>\n",
      "<class 'validmind.tests.model_validation.sklearn.MinimumF1Score.MinimumF1Score'>\n",
      "<class 'validmind.tests.model_validation.sklearn.ROCCurve.ROCCurve'>\n",
      "<class 'validmind.tests.model_validation.sklearn.TrainingTestDegradation.TrainingTestDegradation'>\n",
      "<class 'validmind.tests.model_validation.sklearn.WeakspotsDiagnosis.WeakspotsDiagnosis'>\n",
      "<class 'validmind.tests.model_validation.sklearn.PopulationStabilityIndex.PopulationStabilityIndex'>\n",
      "<class 'validmind.tests.model_validation.sklearn.MinimumAccuracy.MinimumAccuracy'>\n",
      "<class 'validmind.tests.model_validation.statsmodels.RegressionModelsCoeffs.RegressionModelsCoeffs'>\n",
      "<class 'validmind.tests.model_validation.statsmodels.BoxPierce.BoxPierce'>\n",
      "<class 'validmind.tests.model_validation.statsmodels.RegressionModelSensitivityPlot.RegressionModelSensitivityPlot'>\n",
      "<class 'validmind.tests.model_validation.statsmodels.RegressionModelsPerformance.RegressionModelsPerformance'>\n",
      "<class 'validmind.tests.model_validation.statsmodels.ZivotAndrewsArch.ZivotAndrewsArch'>\n",
      "<class 'validmind.tests.model_validation.statsmodels.RegressionModelOutsampleComparison.RegressionModelOutsampleComparison'>\n",
      "<class 'validmind.tests.model_validation.statsmodels.RegressionModelForecastPlotLevels.RegressionModelForecastPlotLevels'>\n",
      "<class 'validmind.tests.model_validation.statsmodels.LJungBox.LJungBox'>\n",
      "<class 'validmind.tests.model_validation.statsmodels.JarqueBera.JarqueBera'>\n",
      "<class 'validmind.tests.model_validation.statsmodels.PhillipsPerronArch.PhillipsPerronArch'>\n",
      "<class 'validmind.tests.model_validation.statsmodels.KolmogorovSmirnov.KolmogorovSmirnov'>\n",
      "<class 'validmind.tests.model_validation.statsmodels.ResidualsVisualInspection.ResidualsVisualInspection'>\n",
      "<class 'validmind.tests.model_validation.statsmodels.ShapiroWilk.ShapiroWilk'>\n",
      "<class 'validmind.tests.model_validation.statsmodels.RegressionModelInsampleComparison.RegressionModelInsampleComparison'>\n",
      "<class 'validmind.tests.model_validation.statsmodels.RegressionModelSummary.RegressionModelSummary'>\n",
      "<class 'validmind.tests.model_validation.statsmodels.KPSS.KPSS'>\n",
      "<class 'validmind.tests.model_validation.statsmodels.Lilliefors.Lilliefors'>\n",
      "<class 'validmind.tests.model_validation.statsmodels.RunsTest.RunsTest'>\n",
      "<class 'validmind.tests.model_validation.statsmodels.DFGLSArch.DFGLSArch'>\n",
      "<class 'validmind.tests.model_validation.statsmodels.AutoARIMA.AutoARIMA'>\n",
      "<class 'validmind.tests.model_validation.statsmodels.ADFTest.ADFTest'>\n",
      "<class 'validmind.tests.model_validation.statsmodels.RegressionModelForecastPlot.RegressionModelForecastPlot'>\n",
      "<class 'validmind.tests.model_validation.statsmodels.ADF.ADF'>\n",
      "<class 'validmind.tests.model_validation.statsmodels.DurbinWatsonTest.DurbinWatsonTest'>\n"
     ]
    }
   ],
   "source": [
    "for test in list_tests(pretty=False, filter=\"validmind.model_validation\"):\n",
    "    print(load_test(test))"
   ]
  },
  {
   "cell_type": "code",
   "execution_count": 10,
   "metadata": {},
   "outputs": [
    {
     "data": {
      "text/plain": [
       "validmind.tests.data_validation.ClassImbalance.ClassImbalance"
      ]
     },
     "execution_count": 10,
     "metadata": {},
     "output_type": "execute_result"
    }
   ],
   "source": [
    "from validmind.tests.data_validation.ClassImbalance import ClassImbalance\n",
    "ClassImbalance"
   ]
  },
  {
   "cell_type": "code",
   "execution_count": 11,
   "metadata": {},
   "outputs": [
    {
     "data": {
      "text/plain": [
       "validmind.tests.model_validation.sklearn.ConfusionMatrix.ConfusionMatrix"
      ]
     },
     "execution_count": 11,
     "metadata": {},
     "output_type": "execute_result"
    }
   ],
   "source": [
    "from validmind.tests.model_validation.sklearn.ConfusionMatrix import ConfusionMatrix\n",
    "ConfusionMatrix"
   ]
  }
 ],
 "metadata": {
  "kernelspec": {
   "display_name": "Python 3 (ipykernel)",
   "language": "python",
   "name": "python3"
  },
  "language_info": {
   "codemirror_mode": {
    "name": "ipython",
    "version": 3
   },
   "file_extension": ".py",
   "mimetype": "text/x-python",
   "name": "python",
   "nbconvert_exporter": "python",
   "pygments_lexer": "ipython3",
   "version": "3.9.16"
  }
 },
 "nbformat": 4,
 "nbformat_minor": 2
}
