{
 "cells": [
  {
   "cell_type": "code",
   "execution_count": 1,
   "metadata": {},
   "outputs": [
    {
     "data": {
      "text/plain": [
       "['validmind.model_validation.ModelMetadata',\n",
       " 'validmind.model_validation.sklearn.ClassifierOutOfSamplePerformance',\n",
       " 'validmind.model_validation.sklearn.SHAPGlobalImportance',\n",
       " 'validmind.model_validation.sklearn.ConfusionMatrix',\n",
       " 'validmind.model_validation.sklearn.ClassifierInSamplePerformance',\n",
       " 'validmind.model_validation.sklearn.PermutationFeatureImportance',\n",
       " 'validmind.model_validation.sklearn.PrecisionRecallCurve',\n",
       " 'validmind.model_validation.sklearn.ClassifierPerformance',\n",
       " 'validmind.model_validation.sklearn.ROCCurve',\n",
       " 'validmind.model_validation.sklearn.PopulationStabilityIndex',\n",
       " 'validmind.model_validation.sklearn.RobustnessDiagnosis',\n",
       " 'validmind.model_validation.sklearn.OverfitDiagnosis',\n",
       " 'validmind.model_validation.sklearn.MinimumROCAUCScore',\n",
       " 'validmind.model_validation.sklearn.MinimumF1Score',\n",
       " 'validmind.model_validation.sklearn.TrainingTestDegradation',\n",
       " 'validmind.model_validation.sklearn.WeakspotsDiagnosis',\n",
       " 'validmind.model_validation.sklearn.MinimumAccuracy',\n",
       " 'validmind.model_validation.statsmodels.RegressionModelsCoeffs',\n",
       " 'validmind.model_validation.statsmodels.BoxPierce',\n",
       " 'validmind.model_validation.statsmodels.RegressionModelSensitivityPlot',\n",
       " 'validmind.model_validation.statsmodels.RegressionModelsPerformance',\n",
       " 'validmind.model_validation.statsmodels.ZivotAndrewsArch',\n",
       " 'validmind.model_validation.statsmodels.RegressionModelOutsampleComparison',\n",
       " 'validmind.model_validation.statsmodels.RegressionModelForecastPlotLevels',\n",
       " 'validmind.model_validation.statsmodels.LJungBox',\n",
       " 'validmind.model_validation.statsmodels.JarqueBera',\n",
       " 'validmind.model_validation.statsmodels.PhillipsPerronArch',\n",
       " 'validmind.model_validation.statsmodels.KolmogorovSmirnov',\n",
       " 'validmind.model_validation.statsmodels.ResidualsVisualInspection',\n",
       " 'validmind.model_validation.statsmodels.ShapiroWilk',\n",
       " 'validmind.model_validation.statsmodels.RegressionModelInsampleComparison',\n",
       " 'validmind.model_validation.statsmodels.RegressionModelSummary',\n",
       " 'validmind.model_validation.statsmodels.KPSS',\n",
       " 'validmind.model_validation.statsmodels.Lilliefors',\n",
       " 'validmind.model_validation.statsmodels.RunsTest',\n",
       " 'validmind.model_validation.statsmodels.DFGLSArch',\n",
       " 'validmind.model_validation.statsmodels.AutoARIMA',\n",
       " 'validmind.model_validation.statsmodels.RegressionModelForecastPlot',\n",
       " 'validmind.model_validation.statsmodels.ADF',\n",
       " 'validmind.model_validation.statsmodels.DurbinWatsonTest',\n",
       " 'validmind.model_validation.statsmodels.ADFTest',\n",
       " 'validmind.data_validation.DatasetDescription',\n",
       " 'validmind.data_validation.ScatterPlot',\n",
       " 'validmind.data_validation.AutoStationarity',\n",
       " 'validmind.data_validation.DescriptiveStatistics',\n",
       " 'validmind.data_validation.PearsonCorrelationMatrix',\n",
       " 'validmind.data_validation.RollingStatsPlot',\n",
       " 'validmind.data_validation.DatasetCorrelations',\n",
       " 'validmind.data_validation.TabularDescriptionTables',\n",
       " 'validmind.data_validation.AutoMA',\n",
       " 'validmind.data_validation.ACFandPACFPlot',\n",
       " 'validmind.data_validation.DatasetSplit',\n",
       " 'validmind.data_validation.SpreadPlot',\n",
       " 'validmind.data_validation.TimeSeriesLinePlot',\n",
       " 'validmind.data_validation.AutoSeasonality',\n",
       " 'validmind.data_validation.EngleGrangerCoint',\n",
       " 'validmind.data_validation.DatasetMetadata',\n",
       " 'validmind.data_validation.TimeSeriesHistogram',\n",
       " 'validmind.data_validation.LaggedCorrelationHeatmap',\n",
       " 'validmind.data_validation.SeasonalDecompose',\n",
       " 'validmind.data_validation.AutoAR',\n",
       " 'validmind.data_validation.Skewness',\n",
       " 'validmind.data_validation.Duplicates',\n",
       " 'validmind.data_validation.TimeSeriesOutliers',\n",
       " 'validmind.data_validation.HighCardinality',\n",
       " 'validmind.data_validation.MissingValues',\n",
       " 'validmind.data_validation.UniqueRows',\n",
       " 'validmind.data_validation.TooManyZeroValues',\n",
       " 'validmind.data_validation.HighPearsonCorrelation',\n",
       " 'validmind.data_validation.TimeSeriesFrequency',\n",
       " 'validmind.data_validation.TimeSeriesMissingValues',\n",
       " 'validmind.data_validation.ClassImbalance']"
      ]
     },
     "execution_count": 1,
     "metadata": {},
     "output_type": "execute_result"
    }
   ],
   "source": [
    "from validmind.tests import list_tests, load_test\n",
    "\n",
    "list_tests()"
   ]
  },
  {
   "cell_type": "code",
   "execution_count": 3,
   "metadata": {},
   "outputs": [
    {
     "data": {
      "text/plain": [
       "['validmind.model_validation.ModelMetadata',\n",
       " 'validmind.model_validation.sklearn.ClassifierOutOfSamplePerformance',\n",
       " 'validmind.model_validation.sklearn.SHAPGlobalImportance',\n",
       " 'validmind.model_validation.sklearn.ConfusionMatrix',\n",
       " 'validmind.model_validation.sklearn.ClassifierInSamplePerformance',\n",
       " 'validmind.model_validation.sklearn.PermutationFeatureImportance',\n",
       " 'validmind.model_validation.sklearn.PrecisionRecallCurve',\n",
       " 'validmind.model_validation.sklearn.ClassifierPerformance',\n",
       " 'validmind.model_validation.sklearn.ROCCurve',\n",
       " 'validmind.model_validation.sklearn.PopulationStabilityIndex',\n",
       " 'validmind.model_validation.sklearn.RobustnessDiagnosis',\n",
       " 'validmind.model_validation.sklearn.OverfitDiagnosis',\n",
       " 'validmind.model_validation.sklearn.MinimumROCAUCScore',\n",
       " 'validmind.model_validation.sklearn.MinimumF1Score',\n",
       " 'validmind.model_validation.sklearn.TrainingTestDegradation',\n",
       " 'validmind.model_validation.sklearn.WeakspotsDiagnosis',\n",
       " 'validmind.model_validation.sklearn.MinimumAccuracy',\n",
       " 'validmind.model_validation.statsmodels.RegressionModelsCoeffs',\n",
       " 'validmind.model_validation.statsmodels.BoxPierce',\n",
       " 'validmind.model_validation.statsmodels.RegressionModelSensitivityPlot',\n",
       " 'validmind.model_validation.statsmodels.RegressionModelsPerformance',\n",
       " 'validmind.model_validation.statsmodels.ZivotAndrewsArch',\n",
       " 'validmind.model_validation.statsmodels.RegressionModelOutsampleComparison',\n",
       " 'validmind.model_validation.statsmodels.RegressionModelForecastPlotLevels',\n",
       " 'validmind.model_validation.statsmodels.LJungBox',\n",
       " 'validmind.model_validation.statsmodels.JarqueBera',\n",
       " 'validmind.model_validation.statsmodels.PhillipsPerronArch',\n",
       " 'validmind.model_validation.statsmodels.KolmogorovSmirnov',\n",
       " 'validmind.model_validation.statsmodels.ResidualsVisualInspection',\n",
       " 'validmind.model_validation.statsmodels.ShapiroWilk',\n",
       " 'validmind.model_validation.statsmodels.RegressionModelInsampleComparison',\n",
       " 'validmind.model_validation.statsmodels.RegressionModelSummary',\n",
       " 'validmind.model_validation.statsmodels.KPSS',\n",
       " 'validmind.model_validation.statsmodels.Lilliefors',\n",
       " 'validmind.model_validation.statsmodels.RunsTest',\n",
       " 'validmind.model_validation.statsmodels.DFGLSArch',\n",
       " 'validmind.model_validation.statsmodels.AutoARIMA',\n",
       " 'validmind.model_validation.statsmodels.RegressionModelForecastPlot',\n",
       " 'validmind.model_validation.statsmodels.ADF',\n",
       " 'validmind.model_validation.statsmodels.DurbinWatsonTest',\n",
       " 'validmind.model_validation.statsmodels.ADFTest',\n",
       " 'validmind.data_validation.DatasetDescription',\n",
       " 'validmind.data_validation.ScatterPlot',\n",
       " 'validmind.data_validation.AutoStationarity',\n",
       " 'validmind.data_validation.DescriptiveStatistics',\n",
       " 'validmind.data_validation.PearsonCorrelationMatrix',\n",
       " 'validmind.data_validation.RollingStatsPlot',\n",
       " 'validmind.data_validation.DatasetCorrelations',\n",
       " 'validmind.data_validation.TabularDescriptionTables',\n",
       " 'validmind.data_validation.AutoMA',\n",
       " 'validmind.data_validation.ACFandPACFPlot',\n",
       " 'validmind.data_validation.DatasetSplit',\n",
       " 'validmind.data_validation.SpreadPlot',\n",
       " 'validmind.data_validation.TimeSeriesLinePlot',\n",
       " 'validmind.data_validation.AutoSeasonality',\n",
       " 'validmind.data_validation.EngleGrangerCoint',\n",
       " 'validmind.data_validation.DatasetMetadata',\n",
       " 'validmind.data_validation.TimeSeriesHistogram',\n",
       " 'validmind.data_validation.LaggedCorrelationHeatmap',\n",
       " 'validmind.data_validation.SeasonalDecompose',\n",
       " 'validmind.data_validation.AutoAR',\n",
       " 'validmind.data_validation.Skewness',\n",
       " 'validmind.data_validation.Duplicates',\n",
       " 'validmind.data_validation.TimeSeriesOutliers',\n",
       " 'validmind.data_validation.HighCardinality',\n",
       " 'validmind.data_validation.MissingValues',\n",
       " 'validmind.data_validation.UniqueRows',\n",
       " 'validmind.data_validation.TooManyZeroValues',\n",
       " 'validmind.data_validation.HighPearsonCorrelation',\n",
       " 'validmind.data_validation.TimeSeriesFrequency',\n",
       " 'validmind.data_validation.TimeSeriesMissingValues',\n",
       " 'validmind.data_validation.ClassImbalance']"
      ]
     },
     "execution_count": 3,
     "metadata": {},
     "output_type": "execute_result"
    }
   ],
   "source": [
    "list_tests(pretty=False)"
   ]
  },
  {
   "cell_type": "code",
   "execution_count": 2,
   "metadata": {},
   "outputs": [
    {
     "data": {
      "text/plain": [
       "'model_metadata'"
      ]
     },
     "execution_count": 2,
     "metadata": {},
     "output_type": "execute_result"
    }
   ],
   "source": [
    "test = load_test(\"validmind.model_validation.ModelMetadata\")\n",
    "test.name"
   ]
  },
  {
   "cell_type": "code",
   "execution_count": 3,
   "metadata": {},
   "outputs": [
    {
     "data": {
      "text/plain": [
       "validmind.tests.model_validation.sklearn.metrics.ConfusionMatrix.ConfusionMatrix"
      ]
     },
     "execution_count": 3,
     "metadata": {},
     "output_type": "execute_result"
    }
   ],
   "source": [
    "load_test(\"validmind.model_validation.sklearn.ConfusionMatrix\")"
   ]
  },
  {
   "cell_type": "code",
   "execution_count": 4,
   "metadata": {},
   "outputs": [
    {
     "data": {
      "text/plain": [
       "validmind.tests.data_validation.threshold_tests.ClassImbalance.ClassImbalance"
      ]
     },
     "execution_count": 4,
     "metadata": {},
     "output_type": "execute_result"
    }
   ],
   "source": [
    "load_test(\"validmind.data_validation.ClassImbalance\")"
   ]
  },
  {
   "cell_type": "code",
   "execution_count": 5,
   "metadata": {},
   "outputs": [
    {
     "name": "stdout",
     "output_type": "stream",
     "text": [
      "<class 'validmind.tests.model_validation.model_metadata.ModelMetadata.ModelMetadata'>\n",
      "<class 'validmind.tests.model_validation.sklearn.metrics.ClassifierOutOfSamplePerformance.ClassifierOutOfSamplePerformance'>\n",
      "<class 'validmind.tests.model_validation.sklearn.metrics.SHAPGlobalImportance.SHAPGlobalImportance'>\n",
      "<class 'validmind.tests.model_validation.sklearn.metrics.ConfusionMatrix.ConfusionMatrix'>\n",
      "<class 'validmind.tests.model_validation.sklearn.metrics.ClassifierInSamplePerformance.ClassifierInSamplePerformance'>\n",
      "<class 'validmind.tests.model_validation.sklearn.metrics.PermutationFeatureImportance.PermutationFeatureImportance'>\n",
      "<class 'validmind.tests.model_validation.sklearn.metrics.PrecisionRecallCurve.PrecisionRecallCurve'>\n",
      "<class 'validmind.tests.model_validation.sklearn.metrics.ClassifierPerformance.ClassifierPerformance'>\n",
      "<class 'validmind.tests.model_validation.sklearn.metrics.ROCCurve.ROCCurve'>\n",
      "<class 'validmind.tests.model_validation.sklearn.metrics.PopulationStabilityIndex.PopulationStabilityIndex'>\n",
      "<class 'validmind.tests.model_validation.sklearn.threshold_tests.RobustnessDiagnosis.RobustnessDiagnosis'>\n",
      "<class 'validmind.tests.model_validation.sklearn.threshold_tests.OverfitDiagnosis.OverfitDiagnosis'>\n",
      "<class 'validmind.tests.model_validation.sklearn.threshold_tests.MinimumROCAUCScore.MinimumROCAUCScore'>\n",
      "<class 'validmind.tests.model_validation.sklearn.threshold_tests.MinimumF1Score.MinimumF1Score'>\n",
      "<class 'validmind.tests.model_validation.sklearn.threshold_tests.TrainingTestDegradation.TrainingTestDegradation'>\n",
      "<class 'validmind.tests.model_validation.sklearn.threshold_tests.WeakspotsDiagnosis.WeakspotsDiagnosis'>\n",
      "<class 'validmind.tests.model_validation.sklearn.threshold_tests.MinimumAccuracy.MinimumAccuracy'>\n",
      "<class 'validmind.tests.model_validation.statsmodels.metrics.RegressionModelsCoeffs.RegressionModelsCoeffs'>\n",
      "<class 'validmind.tests.model_validation.statsmodels.metrics.BoxPierce.BoxPierce'>\n",
      "<class 'validmind.tests.model_validation.statsmodels.metrics.RegressionModelSensitivityPlot.RegressionModelSensitivityPlot'>\n",
      "<class 'validmind.tests.model_validation.statsmodels.metrics.RegressionModelsPerformance.RegressionModelsPerformance'>\n",
      "<class 'validmind.tests.model_validation.statsmodels.metrics.ZivotAndrewsArch.ZivotAndrewsArch'>\n",
      "<class 'validmind.tests.model_validation.statsmodels.metrics.RegressionModelOutsampleComparison.RegressionModelOutsampleComparison'>\n",
      "<class 'validmind.tests.model_validation.statsmodels.metrics.RegressionModelForecastPlotLevels.RegressionModelForecastPlotLevels'>\n",
      "<class 'validmind.tests.model_validation.statsmodels.metrics.LJungBox.LJungBox'>\n",
      "<class 'validmind.tests.model_validation.statsmodels.metrics.JarqueBera.JarqueBera'>\n",
      "<class 'validmind.tests.model_validation.statsmodels.metrics.PhillipsPerronArch.PhillipsPerronArch'>\n",
      "<class 'validmind.tests.model_validation.statsmodels.metrics.KolmogorovSmirnov.KolmogorovSmirnov'>\n",
      "<class 'validmind.tests.model_validation.statsmodels.metrics.ResidualsVisualInspection.ResidualsVisualInspection'>\n",
      "<class 'validmind.tests.model_validation.statsmodels.metrics.ShapiroWilk.ShapiroWilk'>\n",
      "<class 'validmind.tests.model_validation.statsmodels.metrics.RegressionModelInsampleComparison.RegressionModelInsampleComparison'>\n",
      "<class 'validmind.tests.model_validation.statsmodels.metrics.RegressionModelSummary.RegressionModelSummary'>\n",
      "<class 'validmind.tests.model_validation.statsmodels.metrics.KPSS.KPSS'>\n",
      "<class 'validmind.tests.model_validation.statsmodels.metrics.Lilliefors.Lilliefors'>\n",
      "<class 'validmind.tests.model_validation.statsmodels.metrics.RunsTest.RunsTest'>\n",
      "<class 'validmind.tests.model_validation.statsmodels.metrics.DFGLSArch.DFGLSArch'>\n",
      "<class 'validmind.tests.model_validation.statsmodels.metrics.AutoARIMA.AutoARIMA'>\n",
      "<class 'validmind.tests.model_validation.statsmodels.metrics.RegressionModelForecastPlot.RegressionModelForecastPlot'>\n",
      "<class 'validmind.tests.model_validation.statsmodels.metrics.ADF.ADF'>\n",
      "<class 'validmind.tests.model_validation.statsmodels.metrics.DurbinWatsonTest.DurbinWatsonTest'>\n",
      "<class 'validmind.tests.model_validation.statsmodels.threshold_tests.ADFTest.ADFTest'>\n",
      "<class 'validmind.tests.data_validation.metrics.DatasetDescription.DatasetDescription'>\n",
      "<class 'validmind.tests.data_validation.metrics.ScatterPlot.ScatterPlot'>\n",
      "<class 'validmind.tests.data_validation.metrics.AutoStationarity.AutoStationarity'>\n",
      "<class 'validmind.tests.data_validation.metrics.DescriptiveStatistics.DescriptiveStatistics'>\n",
      "<class 'validmind.tests.data_validation.metrics.PearsonCorrelationMatrix.PearsonCorrelationMatrix'>\n",
      "<class 'validmind.tests.data_validation.metrics.RollingStatsPlot.RollingStatsPlot'>\n",
      "<class 'validmind.tests.data_validation.metrics.DatasetCorrelations.DatasetCorrelations'>\n",
      "<class 'validmind.tests.data_validation.metrics.TabularDescriptionTables.TabularDescriptionTables'>\n",
      "<class 'validmind.tests.data_validation.metrics.AutoMA.AutoMA'>\n",
      "<class 'validmind.tests.data_validation.metrics.ACFandPACFPlot.ACFandPACFPlot'>\n",
      "<class 'validmind.tests.data_validation.metrics.DatasetSplit.DatasetSplit'>\n",
      "<class 'validmind.tests.data_validation.metrics.SpreadPlot.SpreadPlot'>\n",
      "<class 'validmind.tests.data_validation.metrics.TimeSeriesLinePlot.TimeSeriesLinePlot'>\n",
      "<class 'validmind.tests.data_validation.metrics.AutoSeasonality.AutoSeasonality'>\n",
      "<class 'validmind.tests.data_validation.metrics.EngleGrangerCoint.EngleGrangerCoint'>\n",
      "<class 'validmind.tests.data_validation.metrics.DatasetMetadata.DatasetMetadata'>\n",
      "<class 'validmind.tests.data_validation.metrics.TimeSeriesHistogram.TimeSeriesHistogram'>\n",
      "<class 'validmind.tests.data_validation.metrics.LaggedCorrelationHeatmap.LaggedCorrelationHeatmap'>\n",
      "<class 'validmind.tests.data_validation.metrics.SeasonalDecompose.SeasonalDecompose'>\n",
      "<class 'validmind.tests.data_validation.metrics.AutoAR.AutoAR'>\n",
      "<class 'validmind.tests.data_validation.threshold_tests.Skewness.Skewness'>\n",
      "<class 'validmind.tests.data_validation.threshold_tests.Duplicates.Duplicates'>\n",
      "<class 'validmind.tests.data_validation.threshold_tests.TimeSeriesOutliers.TimeSeriesOutliers'>\n",
      "<class 'validmind.tests.data_validation.threshold_tests.HighCardinality.HighCardinality'>\n",
      "<class 'validmind.tests.data_validation.threshold_tests.MissingValues.MissingValues'>\n",
      "<class 'validmind.tests.data_validation.threshold_tests.UniqueRows.UniqueRows'>\n",
      "<class 'validmind.tests.data_validation.threshold_tests.TooManyZeroValues.TooManyZeroValues'>\n",
      "<class 'validmind.tests.data_validation.threshold_tests.HighPearsonCorrelation.HighPearsonCorrelation'>\n",
      "<class 'validmind.tests.data_validation.threshold_tests.TimeSeriesFrequency.TimeSeriesFrequency'>\n",
      "<class 'validmind.tests.data_validation.threshold_tests.TimeSeriesMissingValues.TimeSeriesMissingValues'>\n",
      "<class 'validmind.tests.data_validation.threshold_tests.ClassImbalance.ClassImbalance'>\n"
     ]
    }
   ],
   "source": [
    "for test in list_tests():\n",
    "    print(load_test(test))"
   ]
  },
  {
   "cell_type": "code",
   "execution_count": 6,
   "metadata": {},
   "outputs": [
    {
     "data": {
      "text/plain": [
       "validmind.tests.data_validation.threshold_tests.ClassImbalance.ClassImbalance"
      ]
     },
     "execution_count": 6,
     "metadata": {},
     "output_type": "execute_result"
    }
   ],
   "source": [
    "from validmind.tests.data_validation import ClassImbalance\n",
    "ClassImbalance"
   ]
  },
  {
   "cell_type": "code",
   "execution_count": 7,
   "metadata": {},
   "outputs": [
    {
     "data": {
      "text/plain": [
       "validmind.tests.model_validation.sklearn.metrics.ConfusionMatrix.ConfusionMatrix"
      ]
     },
     "execution_count": 7,
     "metadata": {},
     "output_type": "execute_result"
    }
   ],
   "source": [
    "from validmind.tests.model_validation.sklearn import ConfusionMatrix\n",
    "ConfusionMatrix"
   ]
  }
 ],
 "metadata": {
  "kernelspec": {
   "display_name": "validmind-LmBC4yNo-py3.9",
   "language": "python",
   "name": "python3"
  },
  "language_info": {
   "codemirror_mode": {
    "name": "ipython",
    "version": 3
   },
   "file_extension": ".py",
   "mimetype": "text/x-python",
   "name": "python",
   "nbconvert_exporter": "python",
   "pygments_lexer": "ipython3",
   "version": "3.9.17"
  },
  "orig_nbformat": 4
 },
 "nbformat": 4,
 "nbformat_minor": 2
}
