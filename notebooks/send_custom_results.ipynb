{
 "cells": [
  {
   "attachments": {},
   "cell_type": "markdown",
   "metadata": {},
   "source": [
    "# Send Custom Metrics and Test Results"
   ]
  },
  {
   "cell_type": "code",
   "execution_count": 1,
   "metadata": {},
   "outputs": [
    {
     "data": {
      "text/plain": [
       "True"
      ]
     },
     "execution_count": 1,
     "metadata": {},
     "output_type": "execute_result"
    }
   ],
   "source": [
    "# Quick hack to load local SDK code\n",
    "import os\n",
    "\n",
    "os.chdir(os.path.join(os.getcwd(), \"..\"))\n",
    "\n",
    "# Load API key and secret from environment variables\n",
    "from dotenv import load_dotenv\n",
    "load_dotenv()"
   ]
  },
  {
   "cell_type": "code",
   "execution_count": 2,
   "metadata": {},
   "outputs": [
    {
     "data": {
      "text/plain": [
       "True"
      ]
     },
     "execution_count": 2,
     "metadata": {},
     "output_type": "execute_result"
    }
   ],
   "source": [
    "\n",
    "import validmind as vm\n",
    "\n",
    "vm.init(\n",
    "  api_host = \"http://localhost:3000/api/v1/tracking\",\n",
    "  api_key = \"e22b89a6b9c2a27da47cb0a09febc001\",\n",
    "  api_secret = \"a61be901b5596e3c528d94231e4a3c504ef0bb803d16815f8dfd6857fac03e57\",\n",
    "  project = \"...\"\n",
    ")\n",
    "  "
   ]
  },
  {
   "attachments": {},
   "cell_type": "markdown",
   "metadata": {},
   "source": [
    "## Send Custom Metrics\n",
    "\n",
    "It is possible to send custom metrics to ValidMind without implementing a `Metric` class. The only requirement is to construct an instance of a `MetricResult`\n",
    "that can be sent to the ValidMind API."
   ]
  },
  {
   "cell_type": "code",
   "execution_count": 3,
   "metadata": {},
   "outputs": [],
   "source": [
    "from validmind.vm_models import MetricResult\n",
    "\n",
    "accuracy_metric = MetricResult(\n",
    "    type=\"evaluation\",\n",
    "    scope=\"test_dataset\",    \n",
    "    key=\"my_custom_accuracy\",\n",
    "    value=0.666\n",
    ")"
   ]
  },
  {
   "cell_type": "code",
   "execution_count": 4,
   "metadata": {},
   "outputs": [
    {
     "data": {
      "text/plain": [
       "True"
      ]
     },
     "execution_count": 4,
     "metadata": {},
     "output_type": "execute_result"
    }
   ],
   "source": [
    "vm.log_metrics([accuracy_metric])"
   ]
  },
  {
   "attachments": {},
   "cell_type": "markdown",
   "metadata": {},
   "source": [
    "## Send Custom Test Results\n",
    "\n",
    "It is possible to send custom test results to ValidMind without implementing a `ThresholdTest` class. The only requirement is to construct an instance of a `TestResults`\n",
    "that can be sent to the ValidMind API."
   ]
  },
  {
   "cell_type": "code",
   "execution_count": 5,
   "metadata": {},
   "outputs": [],
   "source": [
    "from validmind.vm_models import TestResult, TestResults\n",
    "\n",
    "custom_params = {\n",
    "    \"min_percent_threshold\": 0.5\n",
    "}\n",
    "\n",
    "custom_test_result = TestResults(\n",
    "    category=\"model_performance\",\n",
    "    test_name=\"accuracy_threshold\",\n",
    "    params=custom_params,\n",
    "    passed=False,\n",
    "    results=[\n",
    "        TestResult(\n",
    "            passed=False,\n",
    "            values={\n",
    "                \"score\": 0.15,\n",
    "                \"threshold\": custom_params[\"min_percent_threshold\"],\n",
    "            },\n",
    "        )\n",
    "    ],\n",
    ")"
   ]
  },
  {
   "cell_type": "code",
   "execution_count": 6,
   "metadata": {},
   "outputs": [
    {
     "data": {
      "text/plain": [
       "True"
      ]
     },
     "execution_count": 6,
     "metadata": {},
     "output_type": "execute_result"
    }
   ],
   "source": [
    "vm.log_test_results([custom_test_result])"
   ]
  },
  {
   "attachments": {},
   "cell_type": "markdown",
   "metadata": {},
   "source": [
    "## Implementing Custom Metrics or ThresholdTests\n",
    "\n",
    "It is possible to implement custom metrics or threshold test classes. The are only two requirements for getting this to work:\n",
    "\n",
    "- We need to build a `TestPlan` that can execute the custom metric or threshold test (or add it to an existing `TestPlan`, TBD).\n",
    "- We need to implement a `run` method on the custom metric or threshold test class."
   ]
  },
  {
   "attachments": {},
   "cell_type": "markdown",
   "metadata": {},
   "source": [
    "### Implementing a Custom Metric\n",
    "\n",
    "The following example shows how to implement a custom metric that calculates the mean of a list of numbers."
   ]
  },
  {
   "cell_type": "code",
   "execution_count": 7,
   "metadata": {},
   "outputs": [],
   "source": [
    "from dataclasses import dataclass\n",
    "from validmind.vm_models import Metric\n",
    "\n",
    "@dataclass\n",
    "class MeanMetric(Metric):\n",
    "    type = \"dataset\"\n",
    "    key = \"mean_of_values\"\n",
    "\n",
    "    def run(self):\n",
    "        if \"values\" not in self.params:\n",
    "            raise ValueError(\"values must be provided in params\")\n",
    "\n",
    "        if not isinstance(self.params[\"values\"], list):\n",
    "            raise ValueError(\"values must be a list\")\n",
    "        \n",
    "        values = self.params[\"values\"]\n",
    "        mean = sum(values) / len(values)\n",
    "        return self.cache_results(mean)"
   ]
  },
  {
   "attachments": {},
   "cell_type": "markdown",
   "metadata": {},
   "source": [
    "### Implementing a Custom ThresholdTest\n",
    "\n",
    "The following example shows how to implement a custom threshold test that fails if the mean of a list of numbers is greater than 5."
   ]
  },
  {
   "cell_type": "code",
   "execution_count": 8,
   "metadata": {},
   "outputs": [],
   "source": [
    "from dataclasses import dataclass\n",
    "from validmind.vm_models import ThresholdTest\n",
    "\n",
    "@dataclass\n",
    "class MeanThresholdTest(ThresholdTest):\n",
    "    category = \"data_quality\"\n",
    "    name = \"mean_threshold\"\n",
    "    default_params = {\"mean_threshold\": 5}    \n",
    "\n",
    "    def run(self):\n",
    "        if \"values\" not in self.params:\n",
    "            raise ValueError(\"values must be provided in params\")\n",
    "\n",
    "        if not isinstance(self.params[\"values\"], list):\n",
    "            raise ValueError(\"values must be a list\")\n",
    "        \n",
    "\n",
    "        values = self.params[\"values\"]\n",
    "        mean = sum(values) / len(values)        \n",
    "\n",
    "        passed = mean <= self.params[\"mean_threshold\"]\n",
    "        results = [\n",
    "            TestResult(\n",
    "                passed=passed,\n",
    "                values={\n",
    "                    \"mean\": mean,\n",
    "                    \"values\": values,\n",
    "                },\n",
    "            )\n",
    "        ]\n",
    "\n",
    "        return self.cache_results(results, passed=passed)"
   ]
  },
  {
   "attachments": {},
   "cell_type": "markdown",
   "metadata": {},
   "source": [
    "### Implementing a Custom TestPlan\n",
    "\n",
    "The following example shows how to implement a custom test plan that executes the custom metric and threshold test."
   ]
  },
  {
   "cell_type": "code",
   "execution_count": 9,
   "metadata": {},
   "outputs": [
    {
     "name": "stderr",
     "output_type": "stream",
     "text": [
      "                                                                                                                   \r"
     ]
    },
    {
     "data": {
      "text/html": [
       "<h2>Results for <i>my_custom_test_plan</i> Test Plan:</h2><hr><div class=\"result\">\n",
       "            <h4>Logged the following dataset metric to the ValidMind platform:</h4>\n",
       "            \n",
       "            <div class=\"metric-result\">\n",
       "                <div class=\"metric-result-body\">\n",
       "                    <div class=\"metric-body-column\">\n",
       "                        <div class=\"metric-body-column-title\">Metric Name</div>\n",
       "                        <div class=\"metric-body-column-value\">mean_of_values</div>\n",
       "                    </div>\n",
       "                    <div class=\"metric-body-column\">\n",
       "                        <div class=\"metric-body-column-title\">Metric Type</div>\n",
       "                        <div class=\"metric-body-column-value\">dataset</div>\n",
       "                    </div>\n",
       "                    <div class=\"metric-body-column\">\n",
       "                        <div class=\"metric-body-column-title\">Metric Scope</div>\n",
       "                        <div class=\"metric-body-column-value\"></div>\n",
       "                    </div>\n",
       "                </div>\n",
       "            \n",
       "            <div class=\"metric-value\">\n",
       "                <div class=\"metric-value-title\">Metric Value</div>\n",
       "                <div class=\"metric-value-value\">\n",
       "                    <pre>3.0</pre>\n",
       "                </div>\n",
       "            </div>\n",
       "            \n",
       "        </div>\n",
       "        <style>\n",
       "            .metric-result {\n",
       "                border: 1px solid #e0e0e0;\n",
       "                border-radius: 4px;\n",
       "                padding: 10px;\n",
       "                margin: 10px 0;\n",
       "            }\n",
       "            .metric-result-body {\n",
       "                display: flex;\n",
       "                flex-direction: row;\n",
       "                justify-content: space-between;\n",
       "            }\n",
       "            .metric-body-column {\n",
       "                display: flex;\n",
       "                flex-direction: column;\n",
       "                justify-content: space-between;\n",
       "                width: 33%;\n",
       "            }\n",
       "            .metric-body-column-title {\n",
       "                font-size: 14px;\n",
       "                font-weight: 500;\n",
       "            }\n",
       "            .metric-value {\n",
       "                display: flex;\n",
       "                flex-direction: column;\n",
       "                justify-content: space-between;\n",
       "                margin-top: 15px;\n",
       "            }\n",
       "            .metric-value-title {\n",
       "                font-size: 14px;\n",
       "                font-weight: 500;\n",
       "            }\n",
       "            .metric-value-value {\n",
       "                font-size: 14px;\n",
       "                font-weight: 500;\n",
       "                margin-top: 10px;\n",
       "            }\n",
       "            .metric-plot img {\n",
       "                margin-left: auto !important;\n",
       "                margin-right: auto !important;\n",
       "                max-height: 500px !important;\n",
       "                height: 100%;\n",
       "                width: auto;\n",
       "            }\n",
       "        </style>\n",
       "        </div><div class=\"result\">\n",
       "        <h4>Logged the following test result to the ValidMind platform:</h4>\n",
       "        <div class=\"test-result\">\n",
       "            <div class=\"test-result-header\">\n",
       "                <div class=\"test-result-header-title\">\n",
       "                    <span class=\"test-result-header-title-text\">\n",
       "                        Mean Threshold\n",
       "                    </span>\n",
       "                    <span class=\"test-result-header-title-icon\">\n",
       "                        ❌\n",
       "                    </span>\n",
       "                </div>\n",
       "                <a onclick=\"toggleTestResults(this)\" style=\"cursor: pointer;\">\n",
       "                    See Result Details\n",
       "                </a>\n",
       "            </div>\n",
       "            <div class=\"test-result-body\">\n",
       "                <div class=\"test-result-body-column\">\n",
       "                    <div class=\"test-result-body-column-title\">Test Name</div>\n",
       "                    <div class=\"test-result-body-column-value\">mean_threshold</div>\n",
       "                </div>\n",
       "                <div class=\"test-result-body-column\">\n",
       "                    <div class=\"test-result-body-column-title\">Category</div>\n",
       "                    <div class=\"test-result-body-column-value\">data_quality</div>\n",
       "                </div>\n",
       "                <div class=\"test-result-body-column\">\n",
       "                    <div class=\"test-result-body-column-title\">Passed</div>\n",
       "                    <div class=\"test-result-body-column-value\">False</div>\n",
       "                </div>\n",
       "                <div class=\"test-result-body-column\">\n",
       "                    <div class=\"test-result-body-column-title\">Params</div>\n",
       "                    <div class=\"test-result-body-column-value\">{'mean_threshold': 5, 'values': [6, 7, 8, 9, 10]}</div>\n",
       "                </div>\n",
       "            </div>\n",
       "            <div class=\"results-objs\" style=\"display: none;\">\n",
       "                <div class=\"results-objs-title\">Results</div>\n",
       "                <div class=\"results-objs-body\">[TestResult(test_name=None, column=None, passed=False, values={'mean': 8.0, 'values': [6, 7, 8, 9, 10]})]</div>\n",
       "            </div>\n",
       "        </div>\n",
       "        <style>\n",
       "            .test-result {\n",
       "                border: 1px solid #ccc;\n",
       "                border-radius: 5px;\n",
       "                margin-bottom: 10px;\n",
       "            }\n",
       "            .test-result-header {\n",
       "                display: flex;\n",
       "                justify-content: space-between;\n",
       "                align-items: center;\n",
       "                padding: 10px;\n",
       "            }\n",
       "            .test-result-header-title {\n",
       "                display: flex;\n",
       "                align-items: center;\n",
       "            }\n",
       "            .test-result-header-title-text {\n",
       "                font-weight: bold;\n",
       "            }\n",
       "            .test-result-header-title-icon {\n",
       "                margin-left: 10px;\n",
       "            }\n",
       "            .test-result-body {\n",
       "                display: flex;\n",
       "                padding: 10px;\n",
       "            }\n",
       "            .test-result-body-column {\n",
       "                flex: 1;\n",
       "            }\n",
       "            .test-result-body-column-title {\n",
       "                font-weight: bold;\n",
       "            }\n",
       "            .test-result-body-column-value {\n",
       "                margin-top: 5px;\n",
       "            }\n",
       "            .results-objs {\n",
       "                padding: 10px;\n",
       "            }\n",
       "            .results-objs-title {\n",
       "                font-weight: bold;\n",
       "            }\n",
       "            .results-objs-body {\n",
       "                margin-top: 5px;\n",
       "            }\n",
       "        </style>\n",
       "        <script>\n",
       "            function toggleTestResults(btn) {\n",
       "                const rslts = btn.parentElement.parentElement.querySelector('.results-objs');\n",
       "                if (rslts.style.display === 'none') {\n",
       "                    rslts.style.display = 'block';\n",
       "                    btn.innerHTML = 'Hide Result Details';\n",
       "                } else {\n",
       "                    rslts.style.display = 'none';\n",
       "                    btn.innerHTML = 'See Result Details';\n",
       "                }\n",
       "            }\n",
       "        </script>\n",
       "        </div>\n",
       "        <style>\n",
       "            .result {\n",
       "                margin: 10px 0;\n",
       "                padding: 10px;\n",
       "                background-color: #f1f1f1;\n",
       "                border: 1px solid #ccc;\n",
       "                border-radius: 5px;\n",
       "            }\n",
       "        </style>\n",
       "        "
      ],
      "text/plain": [
       "<IPython.core.display.HTML object>"
      ]
     },
     "metadata": {},
     "output_type": "display_data"
    }
   ],
   "source": [
    "from validmind.vm_models import TestPlan\n",
    "\n",
    "class MyCustomTestPlan(TestPlan):\n",
    "    \"\"\"\n",
    "    Custom test plan\n",
    "    \"\"\"\n",
    "\n",
    "    name = \"my_custom_test_plan\"\n",
    "    required_context = []\n",
    "    tests = [MeanMetric, MeanThresholdTest]\n",
    "\n",
    "my_custom_test_plan = MyCustomTestPlan(config={\n",
    "    \"mean_of_values\": {\n",
    "        \"values\": [1, 2, 3, 4, 5]\n",
    "    },\n",
    "    \"mean_threshold\": {\n",
    "        \"values\": [6, 7, 8, 9, 10]\n",
    "    }\n",
    "})\n",
    "my_custom_test_plan.run()"
   ]
  }
 ],
 "metadata": {
  "kernelspec": {
   "display_name": "Python 3.8.6 ('validmind-Jp3s24zK-py3.8')",
   "language": "python",
   "name": "python3"
  },
  "language_info": {
   "codemirror_mode": {
    "name": "ipython",
    "version": 3
   },
   "file_extension": ".py",
   "mimetype": "text/x-python",
   "name": "python",
   "nbconvert_exporter": "python",
   "pygments_lexer": "ipython3",
   "version": "3.8.6"
  },
  "orig_nbformat": 4,
  "vscode": {
   "interpreter": {
    "hash": "5507f2e99c1cac96073e07e686bb64d511c5f1c7216ba7fc4306f43af6557f44"
   }
  }
 },
 "nbformat": 4,
 "nbformat_minor": 2
}
