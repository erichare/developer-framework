{
 "cells": [
  {
   "cell_type": "code",
   "execution_count": 27,
   "id": "faebd043",
   "metadata": {},
   "outputs": [
    {
     "data": {
      "text/plain": [
       "[Text(0, -50000.0, '-50,000'),\n",
       " Text(0, 0.0, '0'),\n",
       " Text(0, 50000.0, '50,000'),\n",
       " Text(0, 100000.0, '100,000'),\n",
       " Text(0, 150000.0, '150,000'),\n",
       " Text(0, 200000.0, '200,000'),\n",
       " Text(0, 250000.0, '250,000'),\n",
       " Text(0, 300000.0, '300,000'),\n",
       " Text(0, 350000.0, '350,000')]"
      ]
     },
     "execution_count": 27,
     "metadata": {},
     "output_type": "execute_result"
    },
    {
     "data": {
      "image/png": "[encoded data removed]",
      "text/plain": [
       "<Figure size 432x288 with 1 Axes>"
      ]
     },
     "metadata": {
      "needs_background": "light"
     },
     "output_type": "display_data"
    }
   ],
   "source": [
    "import pandas as pd\n",
    "import matplotlib.ticker as mticker\n",
    "\n",
    "df = pd.DataFrame(\n",
    "    [[1, 2, 3], [4, 5, 0], [700000, 300000, 100000], [600000, 300000, 100000], [600000, 300000, 200000]], \n",
    "    columns=['length', 'width', 'species']\n",
    ")\n",
    "subplot = df.plot.scatter(x='length', y='width', c='DarkBlue')\n",
    "\n",
    "label_format = \"{:,.0f}\"\n",
    "ticks_loc = subplot.get_yticks().tolist()\n",
    "subplot.yaxis.set_major_locator(mticker.FixedLocator(ticks_loc))\n",
    "subplot.set_yticklabels([label_format.format(v) for v in ticks_loc])\n",
    "\n",
    "#yticks = subplot.figure.gca().get_yticks()\n",
    "#subplot.figure.gca().set_yticklabels(['{:,.0f}'.format(v) for v in yticks])"
   ]
  },
  {
   "cell_type": "code",
   "execution_count": null,
   "id": "8eae5358",
   "metadata": {},
   "outputs": [],
   "source": []
  }
 ],
 "metadata": {
  "kernelspec": {
   "display_name": "Python 3 (ipykernel)",
   "language": "python",
   "name": "python3"
  },
  "language_info": {
   "codemirror_mode": {
    "name": "ipython",
    "version": 3
   },
   "file_extension": ".py",
   "mimetype": "text/x-python",
   "name": "python",
   "nbconvert_exporter": "python",
   "pygments_lexer": "ipython3",
   "version": "3.10.6"
  }
 },
 "nbformat": 4,
 "nbformat_minor": 5
}
