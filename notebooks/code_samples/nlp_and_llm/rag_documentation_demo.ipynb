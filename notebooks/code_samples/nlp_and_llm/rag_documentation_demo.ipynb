{
 "cells": [
  {
   "cell_type": "markdown",
   "metadata": {},
   "source": [
    "# RAG Model Documentation Demo\n",
    "\n",
    "In this notebook, we are going to implement a simple RAG Model for automating the process of answering RFP questions using GenAI. We will see how we can initialize an embedding model, a retrieval model and a generator model with LangChain components and use them within the ValidMind developer framework to run tests against them. Finally, we will see how we can put them together in a Pipeline and run that to get e2e results and run tests against that."
   ]
  },
  {
   "cell_type": "markdown",
   "metadata": {},
   "source": [
    "<a id='toc2_'></a>\n",
    "\n",
    "## About ValidMind\n",
    "\n",
    "ValidMind is a platform for managing model risk, including risk associated with AI and statistical models.\n",
    "\n",
    "You use the ValidMind Developer Framework to automate documentation and validation tests, and then use the ValidMind AI Risk Platform UI to collaborate on model documentation. Together, these products simplify model risk management, facilitate compliance with regulations and institutional standards, and enhance collaboration between yourself and model validators.\n",
    "\n",
    "<a id='toc2_1_'></a>\n",
    "\n",
    "### Before you begin\n",
    "\n",
    "This notebook assumes you have basic familiarity with Python, including an understanding of how functions work. If you are new to Python, you can still run the notebook but we recommend further familiarizing yourself with the language. \n",
    "\n",
    "If you encounter errors due to missing modules in your Python environment, install the modules with `pip install`, and then re-run the notebook. For more help, refer to [Installing Python Modules](https://docs.python.org/3/installing/index.html).\n",
    "\n",
    "<a id='toc2_2_'></a>\n",
    "\n",
    "### New to ValidMind?\n",
    "\n",
    "If you haven't already seen our [Get started with the ValidMind Developer Framework](https://docs.validmind.ai/guide/get-started-developer-framework.html), we recommend you explore the available resources for developers at some point. There, you can learn more about documenting models, find code samples, or read our developer reference.\n",
    "\n",
    "<div class=\"alert alert-block alert-info\" style=\"background-color: #f7e4ee; color: #222425; border: 1px solid #222425;\">For access to all features available in this notebook, create a free ValidMind account.\n",
    "\n",
    "Signing up is FREE — <a href=\"https://app.prod.validmind.ai\"><b>Sign up now</b></a></div>\n",
    "\n",
    "<a id='toc2_3_'></a>\n",
    "\n",
    "### Key concepts\n",
    "\n",
    "- **FunctionModels**: ValidMind offers support for creating `VMModel` instances from Python functions. This enables us to support any \"model\" by simply using the provided function as the model's `predict` method.\n",
    "- **PipelineModels**: ValidMind models (`VMModel` instances) of any type can be piped together to create a model pipeline. This allows model components to be created and tested/documented independently, and then combined into a single model for end-to-end testing and documentation. We use the `|` operator to pipe models together.\n",
    "- **RAG**: RAG stands for Retrieval Augmented Generation and refers to a wide range of GenAI applications where some form of retrieval is used to add context to the prompt so that the LLM that generates content can refer to it when creating its output. In this notebook, we are going to implement a simple RAG setup using LangChain components.\n"
   ]
  },
  {
   "cell_type": "markdown",
   "metadata": {},
   "source": [
    "# Pre-requisites\n",
    "\n",
    "Let's go ahead and install the `validmind` library if its not already installed... Then we can install the `qdrant-client` library for our vector store and `langchain` for everything else:"
   ]
  },
  {
   "cell_type": "code",
   "execution_count": 1,
   "metadata": {},
   "outputs": [],
   "source": [
    "# %pip install -q validmind"
   ]
  },
  {
   "cell_type": "code",
   "execution_count": 2,
   "metadata": {},
   "outputs": [
    {
     "name": "stdout",
     "output_type": "stream",
     "text": [
      "Note: you may need to restart the kernel to use updated packages.\n"
     ]
    }
   ],
   "source": [
    "%pip install -q qdrant-client langchain langchain-openai sentencepiece"
   ]
  },
  {
   "cell_type": "markdown",
   "metadata": {},
   "source": [
    "### ValidMind Initialization\n",
    "\n",
    "Now we will import and initialize the ValidMind framework so we can connect to our project in the ValidMind platform. This will let us log inputs, plots, and test results to our model documentation."
   ]
  },
  {
   "cell_type": "markdown",
   "metadata": {},
   "source": [
    "### Read Open AI API Key\n",
    "\n",
    "We will need to have an OpenAI API key to be able to use their `text-embedding-3-small` model for our embeddings, `gpt-3.5-turbo` model for our generator and `gpt-4o` model for our LLM-as-Judge tests. If you don't have an OpenAI API key, you can get one by signing up at [OpenAI](https://platform.openai.com/signup). Then you can create a `.env` file in the root of your project and the following cell will load it from there. Alternatively, you can just uncomment the line below to directly set the key (not recommended for security reasons)."
   ]
  },
  {
   "cell_type": "code",
   "execution_count": 3,
   "metadata": {},
   "outputs": [
    {
     "name": "stderr",
     "output_type": "stream",
     "text": [
      "2024-06-12 12:47:31,503 - INFO(validmind.api_client): Connected to ValidMind. Project: Vendor Contract Agent Demo - Initial Validation (clxc2c4530008pvrygbcmv9mr)\n"
     ]
    }
   ],
   "source": [
    "# Replace with your code snippet\n",
    "\n",
    "import validmind as vm\n",
    "\n",
    "vm.init(\n",
    "    api_host = \"http://localhost:3000/api/v1/tracking\",\n",
    "    api_key = \"ec7cdf4ba7e0185d7061f565c483cc81\",\n",
    "    api_secret = \"5e1e76026f2713836ba366bab4caae71f732807ba934a1d51a18d10a747b1e8c\",\n",
    "    project = \"clxc2c4530008pvrygbcmv9mr\"\n",
    ")"
   ]
  },
  {
   "cell_type": "code",
   "execution_count": 4,
   "metadata": {},
   "outputs": [],
   "source": [
    "# load openai api key\n",
    "import os\n",
    "\n",
    "from dotenv import load_dotenv\n",
    "\n",
    "load_dotenv()\n",
    "\n",
    "# os.environ[\"OPENAI_API_KEY\"] = \"sk-...\"\n",
    "\n",
    "if not \"OPENAI_API_KEY\" in os.environ:\n",
    "    raise ValueError(\"OPENAI_API_KEY is not set\")"
   ]
  },
  {
   "cell_type": "markdown",
   "metadata": {},
   "source": [
    "# Dataset Loader\n",
    "\n",
    "Great, now that we have all of our dependencies installed, the developer framework initialized and connected to our model documentation project and our OpenAI API key setup, we can go ahead and load our datasets. We will use the synthetic `RFP` dataset included with ValidMind for this notebook. This dataset contains a variety of RFP questions and ground truth answers that we can use both as the source where our Retriever will search for similar question-answer pairs as well as our test set for evaluating the performance of our RAG model. To do this, we just have to load it and call the preprocess function to get a split of the data into train and test sets."
   ]
  },
  {
   "cell_type": "code",
   "execution_count": 5,
   "metadata": {},
   "outputs": [],
   "source": [
    "# Import the sample dataset from the library\n",
    "from validmind.datasets.llm.rag import rfp\n",
    "\n",
    "raw_df = rfp.load_data()\n",
    "train_df, test_df = rfp.preprocess(raw_df)"
   ]
  },
  {
   "cell_type": "code",
   "execution_count": 6,
   "metadata": {},
   "outputs": [
    {
     "name": "stderr",
     "output_type": "stream",
     "text": [
      "2024-06-12 12:47:31,631 - INFO(validmind.client): Pandas dataset detected. Initializing VM Dataset instance...\n",
      "2024-06-12 12:47:31,697 - INFO(validmind.client): Pandas dataset detected. Initializing VM Dataset instance...\n"
     ]
    },
    {
     "data": {
      "text/html": [
       "<div>\n",
       "<style scoped>\n",
       "    .dataframe tbody tr th:only-of-type {\n",
       "        vertical-align: middle;\n",
       "    }\n",
       "\n",
       "    .dataframe tbody tr th {\n",
       "        vertical-align: top;\n",
       "    }\n",
       "\n",
       "    .dataframe thead th {\n",
       "        text-align: right;\n",
       "    }\n",
       "</style>\n",
       "<table border=\"1\" class=\"dataframe\">\n",
       "  <thead>\n",
       "    <tr style=\"text-align: right;\">\n",
       "      <th></th>\n",
       "      <th>Project_Title</th>\n",
       "      <th>question</th>\n",
       "      <th>ground_truth</th>\n",
       "      <th>Area</th>\n",
       "      <th>Requester</th>\n",
       "      <th>Status</th>\n",
       "      <th>id</th>\n",
       "    </tr>\n",
       "  </thead>\n",
       "  <tbody>\n",
       "    <tr>\n",
       "      <th>67</th>\n",
       "      <td>Gen AI-Driven Financial Advisory System</td>\n",
       "      <td>How do you ensure that your AI solutions are c...</td>\n",
       "      <td>We ensure compliance with U.S. regulations suc...</td>\n",
       "      <td>AI Regulation</td>\n",
       "      <td>Bank A</td>\n",
       "      <td>Under Review</td>\n",
       "      <td>0c9cd148-e951-4688-a51b-d687ee681db8</td>\n",
       "    </tr>\n",
       "    <tr>\n",
       "      <th>50</th>\n",
       "      <td>Gen AI-Driven Financial Advisory System</td>\n",
       "      <td>How do you approach user interface and experie...</td>\n",
       "      <td>Our design philosophy centers on simplicity an...</td>\n",
       "      <td>General</td>\n",
       "      <td>Bank A</td>\n",
       "      <td>Under Review</td>\n",
       "      <td>a7ea5a5b-3b6c-4b93-aab1-db994ff9666a</td>\n",
       "    </tr>\n",
       "    <tr>\n",
       "      <th>63</th>\n",
       "      <td>Gen AI-Driven Financial Advisory System</td>\n",
       "      <td>How do you identify and assess AI risks in lin...</td>\n",
       "      <td>We conduct thorough assessments of AI systems ...</td>\n",
       "      <td>AI Regulation</td>\n",
       "      <td>Bank A</td>\n",
       "      <td>Under Review</td>\n",
       "      <td>50af98c2-ad52-4cc6-b5b4-ca07d386d365</td>\n",
       "    </tr>\n",
       "    <tr>\n",
       "      <th>70</th>\n",
       "      <td>Implementation of AI Chatbots for Enhanced Cus...</td>\n",
       "      <td>What strategies do you employ to update your A...</td>\n",
       "      <td>We maintain a dedicated R&amp;D team focused on in...</td>\n",
       "      <td>General</td>\n",
       "      <td>Bank C</td>\n",
       "      <td>Awarded</td>\n",
       "      <td>ed4aba6c-98ef-493c-b776-c3e584cc7506</td>\n",
       "    </tr>\n",
       "    <tr>\n",
       "      <th>78</th>\n",
       "      <td>Implementation of AI Chatbots for Enhanced Cus...</td>\n",
       "      <td>How are your LLMs updated to reflect new data ...</td>\n",
       "      <td>We implement advanced continuous learning mech...</td>\n",
       "      <td>Large Language Models</td>\n",
       "      <td>Bank C</td>\n",
       "      <td>Awarded</td>\n",
       "      <td>87287c8c-2f72-46e1-bbc8-5064f518654a</td>\n",
       "    </tr>\n",
       "  </tbody>\n",
       "</table>\n",
       "</div>"
      ],
      "text/plain": [
       "                                        Project_Title  \\\n",
       "67            Gen AI-Driven Financial Advisory System   \n",
       "50            Gen AI-Driven Financial Advisory System   \n",
       "63            Gen AI-Driven Financial Advisory System   \n",
       "70  Implementation of AI Chatbots for Enhanced Cus...   \n",
       "78  Implementation of AI Chatbots for Enhanced Cus...   \n",
       "\n",
       "                                             question  \\\n",
       "67  How do you ensure that your AI solutions are c...   \n",
       "50  How do you approach user interface and experie...   \n",
       "63  How do you identify and assess AI risks in lin...   \n",
       "70  What strategies do you employ to update your A...   \n",
       "78  How are your LLMs updated to reflect new data ...   \n",
       "\n",
       "                                         ground_truth                   Area  \\\n",
       "67  We ensure compliance with U.S. regulations suc...          AI Regulation   \n",
       "50  Our design philosophy centers on simplicity an...                General   \n",
       "63  We conduct thorough assessments of AI systems ...          AI Regulation   \n",
       "70  We maintain a dedicated R&D team focused on in...                General   \n",
       "78  We implement advanced continuous learning mech...  Large Language Models   \n",
       "\n",
       "   Requester        Status                                    id  \n",
       "67    Bank A  Under Review  0c9cd148-e951-4688-a51b-d687ee681db8  \n",
       "50    Bank A  Under Review  a7ea5a5b-3b6c-4b93-aab1-db994ff9666a  \n",
       "63    Bank A  Under Review  50af98c2-ad52-4cc6-b5b4-ca07d386d365  \n",
       "70    Bank C       Awarded  ed4aba6c-98ef-493c-b776-c3e584cc7506  \n",
       "78    Bank C       Awarded  87287c8c-2f72-46e1-bbc8-5064f518654a  "
      ]
     },
     "execution_count": 6,
     "metadata": {},
     "output_type": "execute_result"
    }
   ],
   "source": [
    "vm_train_ds = vm.init_dataset(\n",
    "    train_df,\n",
    "    text_column=\"question\",\n",
    "    target_column=\"ground_truth\",\n",
    ")\n",
    "\n",
    "vm_test_ds = vm.init_dataset(\n",
    "    test_df,\n",
    "    text_column=\"question\",\n",
    "    target_column=\"ground_truth\",\n",
    ")\n",
    "\n",
    "vm_test_ds.df.head()"
   ]
  },
  {
   "cell_type": "markdown",
   "metadata": {},
   "source": [
    "# Data validation\n",
    "\n",
    "Now that we have loaded our dataset, we can go ahead and run some data validation tests right away to start assessing and documenting the quality of our data. Since we are using a text dataset, we can use ValidMind's built-in array of text data quality tests to check that things like number of duplicates, missing values, and other common text data issues are not present in our dataset. We can also run some tests to check the sentiment and toxicity of our data."
   ]
  },
  {
   "cell_type": "markdown",
   "metadata": {},
   "source": [
    "### Duplicates\n",
    "\n",
    "First, let's check for duplicates in our dataset. We can use the `validmind.data_validation.Duplicates` test and pass our dataset:"
   ]
  },
  {
   "cell_type": "code",
   "execution_count": 7,
   "metadata": {},
   "outputs": [
    {
     "data": {
      "application/vnd.jupyter.widget-view+json": {
       "model_id": "fb53b3b0bd08412995184b52e907dc22",
       "version_major": 2,
       "version_minor": 0
      },
      "text/plain": [
       "VBox(children=(HTML(value='\\n            <h1>Duplicates ✅</h1>\\n            <p><strong>Duplicates</strong> cal…"
      ]
     },
     "metadata": {},
     "output_type": "display_data"
    },
    {
     "data": {
      "text/html": [
       "\n",
       "<script defer type=\"module\">\n",
       "import hljs from 'https://unpkg.com/@highlightjs/cdn-assets@11.9.0/es/highlight.min.js';\n",
       "import python from 'https://cdnjs.cloudflare.com/ajax/libs/highlight.js/11.9.0/es/languages/python.min.js';\n",
       "\n",
       "hljs.registerLanguage('python', python);\n",
       "hljs.highlightAll();\n",
       "</script>\n"
      ],
      "text/plain": [
       "<IPython.core.display.HTML object>"
      ]
     },
     "metadata": {},
     "output_type": "display_data"
    },
    {
     "data": {
      "text/html": [
       "\n",
       "<script>\n",
       "window.MathJax = {\n",
       "    tex2jax: {\n",
       "        inlineMath: [['$', '$'], ['\\\\(', '\\\\)']],\n",
       "        displayMath: [['$$', '$$'], ['\\[', '\\]']],\n",
       "        processEscapes: true,\n",
       "        skipTags: ['script', 'noscript', 'style', 'textarea', 'pre'],\n",
       "        ignoreClass: \".*\",\n",
       "        processClass: \"math\"\n",
       "    }\n",
       "};\n",
       "setTimeout(function () {\n",
       "    var script = document.createElement('script');\n",
       "    script.type = 'text/javascript';\n",
       "    script.src = 'https://cdnjs.cloudflare.com/ajax/libs/mathjax/2.7.7/MathJax.js?config=TeX-AMS_HTML';\n",
       "    document.head.appendChild(script);\n",
       "}, 300);\n",
       "</script>\n"
      ],
      "text/plain": [
       "<IPython.core.display.HTML object>"
      ]
     },
     "metadata": {},
     "output_type": "display_data"
    }
   ],
   "source": [
    "result = vm.tests.run_test(\n",
    "    test_id=\"validmind.data_validation.Duplicates\",\n",
    "    inputs={\"dataset\": vm_train_ds},\n",
    ")\n",
    "result.log()"
   ]
  },
  {
   "cell_type": "markdown",
   "metadata": {},
   "source": [
    "### Stop Words\n",
    "\n",
    "Next, let's check for stop words in our dataset. We can use the `validmind.data_validation.StopWords` test and pass our dataset:"
   ]
  },
  {
   "cell_type": "code",
   "execution_count": 8,
   "metadata": {},
   "outputs": [
    {
     "name": "stderr",
     "output_type": "stream",
     "text": [
      "[nltk_data] Downloading package stopwords to /Users/jwalz/nltk_data...\n",
      "[nltk_data]   Package stopwords is already up-to-date!\n"
     ]
    },
    {
     "data": {
      "application/vnd.jupyter.widget-view+json": {
       "model_id": "a0e34736f5314d99ac35b9d3729c0061",
       "version_major": 2,
       "version_minor": 0
      },
      "text/plain": [
       "VBox(children=(HTML(value='\\n            <h1>Stop Words ❌</h1>\\n            <p><strong>Stop Words</strong> cal…"
      ]
     },
     "metadata": {},
     "output_type": "display_data"
    },
    {
     "data": {
      "text/html": [
       "\n",
       "<script defer type=\"module\">\n",
       "import hljs from 'https://unpkg.com/@highlightjs/cdn-assets@11.9.0/es/highlight.min.js';\n",
       "import python from 'https://cdnjs.cloudflare.com/ajax/libs/highlight.js/11.9.0/es/languages/python.min.js';\n",
       "\n",
       "hljs.registerLanguage('python', python);\n",
       "hljs.highlightAll();\n",
       "</script>\n"
      ],
      "text/plain": [
       "<IPython.core.display.HTML object>"
      ]
     },
     "metadata": {},
     "output_type": "display_data"
    },
    {
     "data": {
      "text/html": [
       "\n",
       "<script>\n",
       "window.MathJax = {\n",
       "    tex2jax: {\n",
       "        inlineMath: [['$', '$'], ['\\\\(', '\\\\)']],\n",
       "        displayMath: [['$$', '$$'], ['\\[', '\\]']],\n",
       "        processEscapes: true,\n",
       "        skipTags: ['script', 'noscript', 'style', 'textarea', 'pre'],\n",
       "        ignoreClass: \".*\",\n",
       "        processClass: \"math\"\n",
       "    }\n",
       "};\n",
       "setTimeout(function () {\n",
       "    var script = document.createElement('script');\n",
       "    script.type = 'text/javascript';\n",
       "    script.src = 'https://cdnjs.cloudflare.com/ajax/libs/mathjax/2.7.7/MathJax.js?config=TeX-AMS_HTML';\n",
       "    document.head.appendChild(script);\n",
       "}, 300);\n",
       "</script>\n"
      ],
      "text/plain": [
       "<IPython.core.display.HTML object>"
      ]
     },
     "metadata": {},
     "output_type": "display_data"
    }
   ],
   "source": [
    "vm.tests.run_test(\n",
    "    test_id=\"validmind.data_validation.nlp.StopWords\",\n",
    "    inputs={\n",
    "        \"dataset\": vm_train_ds,\n",
    "    },\n",
    ").log()"
   ]
  },
  {
   "cell_type": "markdown",
   "metadata": {},
   "source": [
    "### Punctuations\n",
    "\n",
    "Next, let's check for punctuations in our dataset. We can use the `validmind.data_validation.Punctuations` test:"
   ]
  },
  {
   "cell_type": "code",
   "execution_count": 9,
   "metadata": {},
   "outputs": [
    {
     "data": {
      "application/vnd.jupyter.widget-view+json": {
       "model_id": "b7f6e7d6e7604f31ae5f6d32db756596",
       "version_major": 2,
       "version_minor": 0
      },
      "text/plain": [
       "VBox(children=(HTML(value='<h1>Punctuations</h1>'), HTML(value='<p><strong>Punctuation Analysis</strong> calcu…"
      ]
     },
     "metadata": {},
     "output_type": "display_data"
    },
    {
     "data": {
      "text/html": [
       "\n",
       "<script defer type=\"module\">\n",
       "import hljs from 'https://unpkg.com/@highlightjs/cdn-assets@11.9.0/es/highlight.min.js';\n",
       "import python from 'https://cdnjs.cloudflare.com/ajax/libs/highlight.js/11.9.0/es/languages/python.min.js';\n",
       "\n",
       "hljs.registerLanguage('python', python);\n",
       "hljs.highlightAll();\n",
       "</script>\n"
      ],
      "text/plain": [
       "<IPython.core.display.HTML object>"
      ]
     },
     "metadata": {},
     "output_type": "display_data"
    },
    {
     "data": {
      "text/html": [
       "\n",
       "<script>\n",
       "window.MathJax = {\n",
       "    tex2jax: {\n",
       "        inlineMath: [['$', '$'], ['\\\\(', '\\\\)']],\n",
       "        displayMath: [['$$', '$$'], ['\\[', '\\]']],\n",
       "        processEscapes: true,\n",
       "        skipTags: ['script', 'noscript', 'style', 'textarea', 'pre'],\n",
       "        ignoreClass: \".*\",\n",
       "        processClass: \"math\"\n",
       "    }\n",
       "};\n",
       "setTimeout(function () {\n",
       "    var script = document.createElement('script');\n",
       "    script.type = 'text/javascript';\n",
       "    script.src = 'https://cdnjs.cloudflare.com/ajax/libs/mathjax/2.7.7/MathJax.js?config=TeX-AMS_HTML';\n",
       "    document.head.appendChild(script);\n",
       "}, 300);\n",
       "</script>\n"
      ],
      "text/plain": [
       "<IPython.core.display.HTML object>"
      ]
     },
     "metadata": {},
     "output_type": "display_data"
    }
   ],
   "source": [
    "vm.tests.run_test(\n",
    "    test_id=\"validmind.data_validation.nlp.Punctuations\",\n",
    "    inputs={\n",
    "        \"dataset\": vm_train_ds,\n",
    "    },\n",
    ").log()"
   ]
  },
  {
   "cell_type": "markdown",
   "metadata": {},
   "source": [
    "### Common Words\n",
    "\n",
    "Next, let's check for common words in our dataset. We can use the `validmind.data_validation.CommonWord` test:"
   ]
  },
  {
   "cell_type": "code",
   "execution_count": 10,
   "metadata": {},
   "outputs": [
    {
     "name": "stderr",
     "output_type": "stream",
     "text": [
      "[nltk_data] Downloading package stopwords to /Users/jwalz/nltk_data...\n",
      "[nltk_data]   Package stopwords is already up-to-date!\n"
     ]
    },
    {
     "data": {
      "application/vnd.jupyter.widget-view+json": {
       "model_id": "9f78fcf4b3e040bfaa5d09c7ce6bab7c",
       "version_major": 2,
       "version_minor": 0
      },
      "text/plain": [
       "VBox(children=(HTML(value='<h1>Common Words</h1>'), HTML(value=\"<p><strong>Common Words</strong> identifies an…"
      ]
     },
     "metadata": {},
     "output_type": "display_data"
    },
    {
     "data": {
      "text/html": [
       "\n",
       "<script defer type=\"module\">\n",
       "import hljs from 'https://unpkg.com/@highlightjs/cdn-assets@11.9.0/es/highlight.min.js';\n",
       "import python from 'https://cdnjs.cloudflare.com/ajax/libs/highlight.js/11.9.0/es/languages/python.min.js';\n",
       "\n",
       "hljs.registerLanguage('python', python);\n",
       "hljs.highlightAll();\n",
       "</script>\n"
      ],
      "text/plain": [
       "<IPython.core.display.HTML object>"
      ]
     },
     "metadata": {},
     "output_type": "display_data"
    },
    {
     "data": {
      "text/html": [
       "\n",
       "<script>\n",
       "window.MathJax = {\n",
       "    tex2jax: {\n",
       "        inlineMath: [['$', '$'], ['\\\\(', '\\\\)']],\n",
       "        displayMath: [['$$', '$$'], ['\\[', '\\]']],\n",
       "        processEscapes: true,\n",
       "        skipTags: ['script', 'noscript', 'style', 'textarea', 'pre'],\n",
       "        ignoreClass: \".*\",\n",
       "        processClass: \"math\"\n",
       "    }\n",
       "};\n",
       "setTimeout(function () {\n",
       "    var script = document.createElement('script');\n",
       "    script.type = 'text/javascript';\n",
       "    script.src = 'https://cdnjs.cloudflare.com/ajax/libs/mathjax/2.7.7/MathJax.js?config=TeX-AMS_HTML';\n",
       "    document.head.appendChild(script);\n",
       "}, 300);\n",
       "</script>\n"
      ],
      "text/plain": [
       "<IPython.core.display.HTML object>"
      ]
     },
     "metadata": {},
     "output_type": "display_data"
    }
   ],
   "source": [
    "vm.tests.run_test(\n",
    "    test_id=\"validmind.data_validation.nlp.CommonWords\",\n",
    "    inputs={\n",
    "        \"dataset\": vm_train_ds,\n",
    "    },\n",
    ").log()"
   ]
  },
  {
   "cell_type": "markdown",
   "metadata": {},
   "source": [
    "### Language Detection\n",
    "\n",
    "For documentation purposes, we can detect and log the languages used in the dataset with the `validmind.data_validation.LanguageDetection` test:"
   ]
  },
  {
   "cell_type": "code",
   "execution_count": 11,
   "metadata": {},
   "outputs": [
    {
     "data": {
      "application/vnd.jupyter.widget-view+json": {
       "model_id": "2df5302909dd42c280da528acb24b1c2",
       "version_major": 2,
       "version_minor": 0
      },
      "text/plain": [
       "VBox(children=(HTML(value='<h1>Language Detection</h1>'), HTML(value='<p><strong>Language Detection</strong> c…"
      ]
     },
     "metadata": {},
     "output_type": "display_data"
    },
    {
     "data": {
      "text/html": [
       "\n",
       "<script defer type=\"module\">\n",
       "import hljs from 'https://unpkg.com/@highlightjs/cdn-assets@11.9.0/es/highlight.min.js';\n",
       "import python from 'https://cdnjs.cloudflare.com/ajax/libs/highlight.js/11.9.0/es/languages/python.min.js';\n",
       "\n",
       "hljs.registerLanguage('python', python);\n",
       "hljs.highlightAll();\n",
       "</script>\n"
      ],
      "text/plain": [
       "<IPython.core.display.HTML object>"
      ]
     },
     "metadata": {},
     "output_type": "display_data"
    },
    {
     "data": {
      "text/html": [
       "\n",
       "<script>\n",
       "window.MathJax = {\n",
       "    tex2jax: {\n",
       "        inlineMath: [['$', '$'], ['\\\\(', '\\\\)']],\n",
       "        displayMath: [['$$', '$$'], ['\\[', '\\]']],\n",
       "        processEscapes: true,\n",
       "        skipTags: ['script', 'noscript', 'style', 'textarea', 'pre'],\n",
       "        ignoreClass: \".*\",\n",
       "        processClass: \"math\"\n",
       "    }\n",
       "};\n",
       "setTimeout(function () {\n",
       "    var script = document.createElement('script');\n",
       "    script.type = 'text/javascript';\n",
       "    script.src = 'https://cdnjs.cloudflare.com/ajax/libs/mathjax/2.7.7/MathJax.js?config=TeX-AMS_HTML';\n",
       "    document.head.appendChild(script);\n",
       "}, 300);\n",
       "</script>\n"
      ],
      "text/plain": [
       "<IPython.core.display.HTML object>"
      ]
     },
     "metadata": {},
     "output_type": "display_data"
    }
   ],
   "source": [
    "vm.tests.run_test(\n",
    "    test_id=\"validmind.data_validation.nlp.LanguageDetection\",\n",
    "    inputs={\n",
    "        \"dataset\": vm_train_ds,\n",
    "    },\n",
    ").log()"
   ]
  },
  {
   "cell_type": "markdown",
   "metadata": {},
   "source": [
    "### Toxicity Score\n",
    "\n",
    "Now, let's go ahead and run the `validmind.data_validation.nlp.Toxicity` test to compute a toxicity score for our dataset:"
   ]
  },
  {
   "cell_type": "code",
   "execution_count": 12,
   "metadata": {},
   "outputs": [
    {
     "name": "stderr",
     "output_type": "stream",
     "text": [
      "Using default facebook/roberta-hate-speech-dynabench-r4-target checkpoint\n"
     ]
    },
    {
     "data": {
      "application/vnd.jupyter.widget-view+json": {
       "model_id": "b684edf4a94146369a8253a5ba92e3ea",
       "version_major": 2,
       "version_minor": 0
      },
      "text/plain": [
       "VBox(children=(HTML(value='<h1>Toxicity</h1>'), HTML(value='<p><strong>Toxicity</strong> calculates the toxici…"
      ]
     },
     "metadata": {},
     "output_type": "display_data"
    },
    {
     "data": {
      "text/html": [
       "\n",
       "<script defer type=\"module\">\n",
       "import hljs from 'https://unpkg.com/@highlightjs/cdn-assets@11.9.0/es/highlight.min.js';\n",
       "import python from 'https://cdnjs.cloudflare.com/ajax/libs/highlight.js/11.9.0/es/languages/python.min.js';\n",
       "\n",
       "hljs.registerLanguage('python', python);\n",
       "hljs.highlightAll();\n",
       "</script>\n"
      ],
      "text/plain": [
       "<IPython.core.display.HTML object>"
      ]
     },
     "metadata": {},
     "output_type": "display_data"
    },
    {
     "data": {
      "text/html": [
       "\n",
       "<script>\n",
       "window.MathJax = {\n",
       "    tex2jax: {\n",
       "        inlineMath: [['$', '$'], ['\\\\(', '\\\\)']],\n",
       "        displayMath: [['$$', '$$'], ['\\[', '\\]']],\n",
       "        processEscapes: true,\n",
       "        skipTags: ['script', 'noscript', 'style', 'textarea', 'pre'],\n",
       "        ignoreClass: \".*\",\n",
       "        processClass: \"math\"\n",
       "    }\n",
       "};\n",
       "setTimeout(function () {\n",
       "    var script = document.createElement('script');\n",
       "    script.type = 'text/javascript';\n",
       "    script.src = 'https://cdnjs.cloudflare.com/ajax/libs/mathjax/2.7.7/MathJax.js?config=TeX-AMS_HTML';\n",
       "    document.head.appendChild(script);\n",
       "}, 300);\n",
       "</script>\n"
      ],
      "text/plain": [
       "<IPython.core.display.HTML object>"
      ]
     },
     "metadata": {},
     "output_type": "display_data"
    }
   ],
   "source": [
    "vm.tests.run_test(\n",
    "    \"validmind.data_validation.nlp.Toxicity\",\n",
    "    inputs={\n",
    "        \"dataset\": vm_train_ds,\n",
    "    },\n",
    ").log()"
   ]
  },
  {
   "cell_type": "markdown",
   "metadata": {},
   "source": [
    "### Polarity and Subjectivity\n",
    "\n",
    "We can also run the `validmind.data_validation.nlp.PolarityAndSubjectivity` test to compute the polarity and subjectivity of our dataset:"
   ]
  },
  {
   "cell_type": "code",
   "execution_count": 13,
   "metadata": {},
   "outputs": [
    {
     "data": {
      "application/vnd.jupyter.widget-view+json": {
       "model_id": "f604bd5fbda748e1a275b4a7cd21045f",
       "version_major": 2,
       "version_minor": 0
      },
      "text/plain": [
       "VBox(children=(HTML(value='<h1>Polarity And Subjectivity</h1>'), HTML(value='<p><strong>Polarity and Subjectiv…"
      ]
     },
     "metadata": {},
     "output_type": "display_data"
    },
    {
     "data": {
      "text/html": [
       "\n",
       "<script defer type=\"module\">\n",
       "import hljs from 'https://unpkg.com/@highlightjs/cdn-assets@11.9.0/es/highlight.min.js';\n",
       "import python from 'https://cdnjs.cloudflare.com/ajax/libs/highlight.js/11.9.0/es/languages/python.min.js';\n",
       "\n",
       "hljs.registerLanguage('python', python);\n",
       "hljs.highlightAll();\n",
       "</script>\n"
      ],
      "text/plain": [
       "<IPython.core.display.HTML object>"
      ]
     },
     "metadata": {},
     "output_type": "display_data"
    },
    {
     "data": {
      "text/html": [
       "\n",
       "<script>\n",
       "window.MathJax = {\n",
       "    tex2jax: {\n",
       "        inlineMath: [['$', '$'], ['\\\\(', '\\\\)']],\n",
       "        displayMath: [['$$', '$$'], ['\\[', '\\]']],\n",
       "        processEscapes: true,\n",
       "        skipTags: ['script', 'noscript', 'style', 'textarea', 'pre'],\n",
       "        ignoreClass: \".*\",\n",
       "        processClass: \"math\"\n",
       "    }\n",
       "};\n",
       "setTimeout(function () {\n",
       "    var script = document.createElement('script');\n",
       "    script.type = 'text/javascript';\n",
       "    script.src = 'https://cdnjs.cloudflare.com/ajax/libs/mathjax/2.7.7/MathJax.js?config=TeX-AMS_HTML';\n",
       "    document.head.appendChild(script);\n",
       "}, 300);\n",
       "</script>\n"
      ],
      "text/plain": [
       "<IPython.core.display.HTML object>"
      ]
     },
     "metadata": {},
     "output_type": "display_data"
    }
   ],
   "source": [
    "vm.tests.run_test(\n",
    "    \"validmind.data_validation.nlp.PolarityAndSubjectivity\",\n",
    "    inputs={\n",
    "        \"dataset\": vm_train_ds,\n",
    "    },\n",
    ").log()"
   ]
  },
  {
   "cell_type": "markdown",
   "metadata": {},
   "source": [
    "### Sentiment\n",
    "\n",
    "Finally, we can run the `validmind.data_validation.nlp.Sentiment` test to plot the sentiment of our dataset:"
   ]
  },
  {
   "cell_type": "code",
   "execution_count": 14,
   "metadata": {},
   "outputs": [
    {
     "data": {
      "application/vnd.jupyter.widget-view+json": {
       "model_id": "70c2a6aaedd14d64a2d253f8f2768468",
       "version_major": 2,
       "version_minor": 0
      },
      "text/plain": [
       "VBox(children=(HTML(value='<h1>Sentiment</h1>'), HTML(value='<p><strong>Sentiment Analysis</strong> calculates…"
      ]
     },
     "metadata": {},
     "output_type": "display_data"
    },
    {
     "data": {
      "text/html": [
       "\n",
       "<script defer type=\"module\">\n",
       "import hljs from 'https://unpkg.com/@highlightjs/cdn-assets@11.9.0/es/highlight.min.js';\n",
       "import python from 'https://cdnjs.cloudflare.com/ajax/libs/highlight.js/11.9.0/es/languages/python.min.js';\n",
       "\n",
       "hljs.registerLanguage('python', python);\n",
       "hljs.highlightAll();\n",
       "</script>\n"
      ],
      "text/plain": [
       "<IPython.core.display.HTML object>"
      ]
     },
     "metadata": {},
     "output_type": "display_data"
    },
    {
     "data": {
      "text/html": [
       "\n",
       "<script>\n",
       "window.MathJax = {\n",
       "    tex2jax: {\n",
       "        inlineMath: [['$', '$'], ['\\\\(', '\\\\)']],\n",
       "        displayMath: [['$$', '$$'], ['\\[', '\\]']],\n",
       "        processEscapes: true,\n",
       "        skipTags: ['script', 'noscript', 'style', 'textarea', 'pre'],\n",
       "        ignoreClass: \".*\",\n",
       "        processClass: \"math\"\n",
       "    }\n",
       "};\n",
       "setTimeout(function () {\n",
       "    var script = document.createElement('script');\n",
       "    script.type = 'text/javascript';\n",
       "    script.src = 'https://cdnjs.cloudflare.com/ajax/libs/mathjax/2.7.7/MathJax.js?config=TeX-AMS_HTML';\n",
       "    document.head.appendChild(script);\n",
       "}, 300);\n",
       "</script>\n"
      ],
      "text/plain": [
       "<IPython.core.display.HTML object>"
      ]
     },
     "metadata": {},
     "output_type": "display_data"
    }
   ],
   "source": [
    "vm.tests.run_test(\n",
    "    \"validmind.data_validation.nlp.Sentiment\",\n",
    "    inputs={\n",
    "        \"dataset\": vm_train_ds,\n",
    "    },\n",
    ").log()"
   ]
  },
  {
   "cell_type": "markdown",
   "metadata": {},
   "source": [
    "# Embedding Model\n",
    "\n",
    "Now that we have our dataset loaded and have run some data validation tests to assess and document the quality of our data, we can go ahead and initialize our embedding model. We will use the `text-embedding-3-small` model from OpenAI for this purpose wrapped in the `OpenAIEmbeddings` class from LangChain. This model will be used to \"embed\" our questions both for inserting the question-answer pairs from the \"train\" set into the vector store and for embedding the question from inputs when making predictions with our RAG model."
   ]
  },
  {
   "cell_type": "code",
   "execution_count": 15,
   "metadata": {},
   "outputs": [],
   "source": [
    "from langchain_openai import OpenAIEmbeddings\n",
    "\n",
    "embedding_client = OpenAIEmbeddings(model=\"text-embedding-3-small\")\n",
    "\n",
    "\n",
    "def embed(input):\n",
    "    \"\"\"Returns a text embedding for the given text\"\"\"\n",
    "    return embedding_client.embed_query(input[\"question\"])\n",
    "\n",
    "\n",
    "vm_embedder = vm.init_model(input_id=\"embedding_model\", predict_fn=embed)"
   ]
  },
  {
   "cell_type": "markdown",
   "metadata": {},
   "source": [
    "What we have done here is to initialize the `OpenAIEmbeddings` class so it uses OpenAI's `text-embedding-3-small` model. We then created an `embed` function that takes in an `input` dictionary and uses the `embed_query` method of the embedding client to compute the embeddings of the `question`. We use an `embed` function since that is how ValidMind supports any custom model. We will use this strategy for the retrieval and generator models as well but you could also use, say, a HuggingFace model directly. See the documentation for more information on which model types are directly supported - [ValidMind Documentation](https://docs.validmind.ai/validmind/validmind.html)... Finally, we use the `init_model` function from the ValidMind framework to create a `VMModel` object that can be used in ValidMind tests. This also logs the model to our model documentation project and any test that uses the model will be linked to the logged model and its metadata."
   ]
  },
  {
   "cell_type": "markdown",
   "metadata": {},
   "source": [
    "### Assign Predictions\n",
    "\n",
    "To precompute the embeddings for our test set, we can call the `assign_predictions` method of our `vm_test_ds` object we created above. This will compute the embeddings for each question in the test set and store them in the a special prediction column of the test set thats linked to our `vm_embedder` model. This will allow us to use these embeddings later when we run tests against our embedding model."
   ]
  },
  {
   "cell_type": "code",
   "execution_count": 16,
   "metadata": {},
   "outputs": [
    {
     "name": "stderr",
     "output_type": "stream",
     "text": [
      "2024-06-12 12:48:54,257 - INFO(validmind.vm_models.dataset.utils): Running predict_proba()... This may take a while\n",
      "2024-06-12 12:48:54,257 - INFO(validmind.vm_models.dataset.utils): Not running predict_proba() for unsupported models.\n",
      "2024-06-12 12:48:54,257 - INFO(validmind.vm_models.dataset.utils): Running predict()... This may take a while\n",
      "2024-06-12 12:49:00,303 - INFO(validmind.vm_models.dataset.utils): Done running predict()\n",
      "2024-06-12 12:49:00,304 - INFO(validmind.vm_models.dataset.dataset): No probabilities computed or provided. Not adding probability column to the dataset.\n"
     ]
    },
    {
     "name": "stdout",
     "output_type": "stream",
     "text": [
      "=================\n",
      "VMDataset object: \n",
      "=================\n",
      "Input ID: dataset\n",
      "Target Column: ground_truth\n",
      "Feature Columns: ['Project_Title', 'question', 'Area', 'Requester', 'Status', 'id']\n",
      "Text Column: question\n",
      "Extra Columns: ExtraColumns(extras=set(), group_by_column=None, prediction_columns={'embedding_model': 'embedding_model_prediction'}, probability_columns={})\n",
      "Target Class Labels: None\n",
      "Columns: ['Project_Title', 'question', 'ground_truth', 'Area', 'Requester', 'Status', 'id', 'embedding_model_prediction']\n",
      "Index: [ 67  50  63  70  78  15  42   2  65  14 107  82 114  34  62  77 111  40\n",
      "  31   1  27  89  24]\n",
      "=================\n",
      "\n"
     ]
    }
   ],
   "source": [
    "vm_test_ds.assign_predictions(vm_embedder)\n",
    "print(vm_test_ds)"
   ]
  },
  {
   "cell_type": "markdown",
   "metadata": {},
   "source": [
    "### Run tests\n",
    "\n",
    "Now that everything is setup for the embedding model, we can go ahead and run some tests to assess and document the quality of our embeddings. We will use the `validmind.model_validation.embeddings.*` tests to compute a variety of metrics against our model."
   ]
  },
  {
   "cell_type": "code",
   "execution_count": 17,
   "metadata": {},
   "outputs": [
    {
     "data": {
      "application/vnd.jupyter.widget-view+json": {
       "model_id": "244d253048714600aa8c41543ee92443",
       "version_major": 2,
       "version_minor": 0
      },
      "text/plain": [
       "VBox(children=(HTML(value='\\n            <h1>Stability Analysis Random Noise ✅</h1>\\n            <p><strong>St…"
      ]
     },
     "metadata": {},
     "output_type": "display_data"
    },
    {
     "data": {
      "text/html": [
       "\n",
       "<script defer type=\"module\">\n",
       "import hljs from 'https://unpkg.com/@highlightjs/cdn-assets@11.9.0/es/highlight.min.js';\n",
       "import python from 'https://cdnjs.cloudflare.com/ajax/libs/highlight.js/11.9.0/es/languages/python.min.js';\n",
       "\n",
       "hljs.registerLanguage('python', python);\n",
       "hljs.highlightAll();\n",
       "</script>\n"
      ],
      "text/plain": [
       "<IPython.core.display.HTML object>"
      ]
     },
     "metadata": {},
     "output_type": "display_data"
    },
    {
     "data": {
      "text/html": [
       "\n",
       "<script>\n",
       "window.MathJax = {\n",
       "    tex2jax: {\n",
       "        inlineMath: [['$', '$'], ['\\\\(', '\\\\)']],\n",
       "        displayMath: [['$$', '$$'], ['\\[', '\\]']],\n",
       "        processEscapes: true,\n",
       "        skipTags: ['script', 'noscript', 'style', 'textarea', 'pre'],\n",
       "        ignoreClass: \".*\",\n",
       "        processClass: \"math\"\n",
       "    }\n",
       "};\n",
       "setTimeout(function () {\n",
       "    var script = document.createElement('script');\n",
       "    script.type = 'text/javascript';\n",
       "    script.src = 'https://cdnjs.cloudflare.com/ajax/libs/mathjax/2.7.7/MathJax.js?config=TeX-AMS_HTML';\n",
       "    document.head.appendChild(script);\n",
       "}, 300);\n",
       "</script>\n"
      ],
      "text/plain": [
       "<IPython.core.display.HTML object>"
      ]
     },
     "metadata": {},
     "output_type": "display_data"
    }
   ],
   "source": [
    "from validmind.tests import run_test\n",
    "\n",
    "result = run_test(\n",
    "    \"validmind.model_validation.embeddings.StabilityAnalysisRandomNoise\",\n",
    "    inputs={\n",
    "        \"model\": vm_embedder,\n",
    "        \"dataset\": vm_test_ds,\n",
    "    },\n",
    "    params={\"probability\": 0.3},\n",
    ").log()"
   ]
  },
  {
   "cell_type": "code",
   "execution_count": 18,
   "metadata": {},
   "outputs": [
    {
     "data": {
      "application/vnd.jupyter.widget-view+json": {
       "model_id": "19d9019f18924d43ac39a281481c2b7b",
       "version_major": 2,
       "version_minor": 0
      },
      "text/plain": [
       "VBox(children=(HTML(value='\\n            <h1>Stability Analysis Synonyms ✅</h1>\\n            <p><strong>Stabil…"
      ]
     },
     "metadata": {},
     "output_type": "display_data"
    },
    {
     "data": {
      "text/html": [
       "\n",
       "<script defer type=\"module\">\n",
       "import hljs from 'https://unpkg.com/@highlightjs/cdn-assets@11.9.0/es/highlight.min.js';\n",
       "import python from 'https://cdnjs.cloudflare.com/ajax/libs/highlight.js/11.9.0/es/languages/python.min.js';\n",
       "\n",
       "hljs.registerLanguage('python', python);\n",
       "hljs.highlightAll();\n",
       "</script>\n"
      ],
      "text/plain": [
       "<IPython.core.display.HTML object>"
      ]
     },
     "metadata": {},
     "output_type": "display_data"
    },
    {
     "data": {
      "text/html": [
       "\n",
       "<script>\n",
       "window.MathJax = {\n",
       "    tex2jax: {\n",
       "        inlineMath: [['$', '$'], ['\\\\(', '\\\\)']],\n",
       "        displayMath: [['$$', '$$'], ['\\[', '\\]']],\n",
       "        processEscapes: true,\n",
       "        skipTags: ['script', 'noscript', 'style', 'textarea', 'pre'],\n",
       "        ignoreClass: \".*\",\n",
       "        processClass: \"math\"\n",
       "    }\n",
       "};\n",
       "setTimeout(function () {\n",
       "    var script = document.createElement('script');\n",
       "    script.type = 'text/javascript';\n",
       "    script.src = 'https://cdnjs.cloudflare.com/ajax/libs/mathjax/2.7.7/MathJax.js?config=TeX-AMS_HTML';\n",
       "    document.head.appendChild(script);\n",
       "}, 300);\n",
       "</script>\n"
      ],
      "text/plain": [
       "<IPython.core.display.HTML object>"
      ]
     },
     "metadata": {},
     "output_type": "display_data"
    }
   ],
   "source": [
    "result = run_test(\n",
    "    \"validmind.model_validation.embeddings.StabilityAnalysisSynonyms\",\n",
    "    inputs={\n",
    "        \"model\": vm_embedder,\n",
    "        \"dataset\": vm_test_ds,\n",
    "    },\n",
    "    params={\"probability\": 0.3},\n",
    ").log()"
   ]
  },
  {
   "cell_type": "code",
   "execution_count": 53,
   "metadata": {},
   "outputs": [
    {
     "data": {
      "application/vnd.jupyter.widget-view+json": {
       "model_id": "8d2fb5bc8ec84ec9a6c6e6f11a24a24e",
       "version_major": 2,
       "version_minor": 0
      },
      "text/plain": [
       "VBox(children=(HTML(value='\\n            <h1>Stability Analysis Translation ✅</h1>\\n            <p><strong>Sta…"
      ]
     },
     "metadata": {},
     "output_type": "display_data"
    },
    {
     "data": {
      "text/html": [
       "\n",
       "<script defer type=\"module\">\n",
       "import hljs from 'https://unpkg.com/@highlightjs/cdn-assets@11.9.0/es/highlight.min.js';\n",
       "import python from 'https://cdnjs.cloudflare.com/ajax/libs/highlight.js/11.9.0/es/languages/python.min.js';\n",
       "\n",
       "hljs.registerLanguage('python', python);\n",
       "hljs.highlightAll();\n",
       "</script>\n"
      ],
      "text/plain": [
       "<IPython.core.display.HTML object>"
      ]
     },
     "metadata": {},
     "output_type": "display_data"
    },
    {
     "data": {
      "text/html": [
       "\n",
       "<script>\n",
       "window.MathJax = {\n",
       "    tex2jax: {\n",
       "        inlineMath: [['$', '$'], ['\\\\(', '\\\\)']],\n",
       "        displayMath: [['$$', '$$'], ['\\[', '\\]']],\n",
       "        processEscapes: true,\n",
       "        skipTags: ['script', 'noscript', 'style', 'textarea', 'pre'],\n",
       "        ignoreClass: \".*\",\n",
       "        processClass: \"math\"\n",
       "    }\n",
       "};\n",
       "setTimeout(function () {\n",
       "    var script = document.createElement('script');\n",
       "    script.type = 'text/javascript';\n",
       "    script.src = 'https://cdnjs.cloudflare.com/ajax/libs/mathjax/2.7.7/MathJax.js?config=TeX-AMS_HTML';\n",
       "    document.head.appendChild(script);\n",
       "}, 300);\n",
       "</script>\n"
      ],
      "text/plain": [
       "<IPython.core.display.HTML object>"
      ]
     },
     "metadata": {},
     "output_type": "display_data"
    }
   ],
   "source": [
    "result = run_test(\n",
    "    \"validmind.model_validation.embeddings.StabilityAnalysisTranslation\",\n",
    "    inputs={\n",
    "        \"model\": vm_embedder,\n",
    "        \"dataset\": vm_test_ds,\n",
    "    },\n",
    "    params={\n",
    "        \"source_lang\": \"en\",\n",
    "        \"target_lang\": \"fr\",\n",
    "    },\n",
    ").log()"
   ]
  },
  {
   "cell_type": "code",
   "execution_count": 54,
   "metadata": {},
   "outputs": [
    {
     "data": {
      "text/html": [
       "<div>\n",
       "<style scoped>\n",
       "    .dataframe tbody tr th:only-of-type {\n",
       "        vertical-align: middle;\n",
       "    }\n",
       "\n",
       "    .dataframe tbody tr th {\n",
       "        vertical-align: top;\n",
       "    }\n",
       "\n",
       "    .dataframe thead th {\n",
       "        text-align: right;\n",
       "    }\n",
       "</style>\n",
       "<table border=\"1\" class=\"dataframe\">\n",
       "  <thead>\n",
       "    <tr style=\"text-align: right;\">\n",
       "      <th></th>\n",
       "      <th>Project_Title</th>\n",
       "      <th>question</th>\n",
       "      <th>ground_truth</th>\n",
       "      <th>Area</th>\n",
       "      <th>Requester</th>\n",
       "      <th>Status</th>\n",
       "      <th>id</th>\n",
       "      <th>embedding_model_prediction</th>\n",
       "      <th>retrieval_model_prediction</th>\n",
       "      <th>rag_model_prediction</th>\n",
       "    </tr>\n",
       "  </thead>\n",
       "  <tbody>\n",
       "    <tr>\n",
       "      <th>67</th>\n",
       "      <td>Gen AI-Driven Financial Advisory System</td>\n",
       "      <td>How do you ensure that your AI solutions are c...</td>\n",
       "      <td>We ensure compliance with U.S. regulations suc...</td>\n",
       "      <td>AI Regulation</td>\n",
       "      <td>Bank A</td>\n",
       "      <td>Under Review</td>\n",
       "      <td>0c9cd148-e951-4688-a51b-d687ee681db8</td>\n",
       "      <td>[0.018119888127472814, 0.012644638131052502, 0...</td>\n",
       "      <td>[Q: How do you ensure your AI solutions adhere...</td>\n",
       "      <td>We ensure compliance with U.S. regulations suc...</td>\n",
       "    </tr>\n",
       "    <tr>\n",
       "      <th>50</th>\n",
       "      <td>Gen AI-Driven Financial Advisory System</td>\n",
       "      <td>How do you approach user interface and experie...</td>\n",
       "      <td>Our design philosophy centers on simplicity an...</td>\n",
       "      <td>General</td>\n",
       "      <td>Bank A</td>\n",
       "      <td>Under Review</td>\n",
       "      <td>a7ea5a5b-3b6c-4b93-aab1-db994ff9666a</td>\n",
       "      <td>[-0.014496798833726753, 0.007063523966924967, ...</td>\n",
       "      <td>[Q: What strategies do you employ to design us...</td>\n",
       "      <td>Our approach to UI/UX design for AI-based apps...</td>\n",
       "    </tr>\n",
       "    <tr>\n",
       "      <th>63</th>\n",
       "      <td>Gen AI-Driven Financial Advisory System</td>\n",
       "      <td>How do you identify and assess AI risks in lin...</td>\n",
       "      <td>We conduct thorough assessments of AI systems ...</td>\n",
       "      <td>AI Regulation</td>\n",
       "      <td>Bank A</td>\n",
       "      <td>Under Review</td>\n",
       "      <td>50af98c2-ad52-4cc6-b5b4-ca07d386d365</td>\n",
       "      <td>[-0.018428404891334224, 0.042702173694502465, ...</td>\n",
       "      <td>[Q: How do you identify and evaluate AI risks ...</td>\n",
       "      <td>We conduct thorough assessments of AI systems ...</td>\n",
       "    </tr>\n",
       "    <tr>\n",
       "      <th>70</th>\n",
       "      <td>Implementation of AI Chatbots for Enhanced Cus...</td>\n",
       "      <td>What strategies do you employ to update your A...</td>\n",
       "      <td>We maintain a dedicated R&amp;D team focused on in...</td>\n",
       "      <td>General</td>\n",
       "      <td>Bank C</td>\n",
       "      <td>Awarded</td>\n",
       "      <td>ed4aba6c-98ef-493c-b776-c3e584cc7506</td>\n",
       "      <td>[-0.0017823046961624736, -0.007616799238713686...</td>\n",
       "      <td>[Q: How do you keep your AI applications curre...</td>\n",
       "      <td>We maintain a dedicated R&amp;D team focused on in...</td>\n",
       "    </tr>\n",
       "    <tr>\n",
       "      <th>78</th>\n",
       "      <td>Implementation of AI Chatbots for Enhanced Cus...</td>\n",
       "      <td>How are your LLMs updated to reflect new data ...</td>\n",
       "      <td>We implement advanced continuous learning mech...</td>\n",
       "      <td>Large Language Models</td>\n",
       "      <td>Bank C</td>\n",
       "      <td>Awarded</td>\n",
       "      <td>87287c8c-2f72-46e1-bbc8-5064f518654a</td>\n",
       "      <td>[-0.017693766349432666, 0.05013679809362337, 0...</td>\n",
       "      <td>[Q: How do your LLMs continuously learn and up...</td>\n",
       "      <td>We implement advanced continuous learning mech...</td>\n",
       "    </tr>\n",
       "  </tbody>\n",
       "</table>\n",
       "</div>"
      ],
      "text/plain": [
       "                                        Project_Title  \\\n",
       "67            Gen AI-Driven Financial Advisory System   \n",
       "50            Gen AI-Driven Financial Advisory System   \n",
       "63            Gen AI-Driven Financial Advisory System   \n",
       "70  Implementation of AI Chatbots for Enhanced Cus...   \n",
       "78  Implementation of AI Chatbots for Enhanced Cus...   \n",
       "\n",
       "                                             question  \\\n",
       "67  How do you ensure that your AI solutions are c...   \n",
       "50  How do you approach user interface and experie...   \n",
       "63  How do you identify and assess AI risks in lin...   \n",
       "70  What strategies do you employ to update your A...   \n",
       "78  How are your LLMs updated to reflect new data ...   \n",
       "\n",
       "                                         ground_truth                   Area  \\\n",
       "67  We ensure compliance with U.S. regulations suc...          AI Regulation   \n",
       "50  Our design philosophy centers on simplicity an...                General   \n",
       "63  We conduct thorough assessments of AI systems ...          AI Regulation   \n",
       "70  We maintain a dedicated R&D team focused on in...                General   \n",
       "78  We implement advanced continuous learning mech...  Large Language Models   \n",
       "\n",
       "   Requester        Status                                    id  \\\n",
       "67    Bank A  Under Review  0c9cd148-e951-4688-a51b-d687ee681db8   \n",
       "50    Bank A  Under Review  a7ea5a5b-3b6c-4b93-aab1-db994ff9666a   \n",
       "63    Bank A  Under Review  50af98c2-ad52-4cc6-b5b4-ca07d386d365   \n",
       "70    Bank C       Awarded  ed4aba6c-98ef-493c-b776-c3e584cc7506   \n",
       "78    Bank C       Awarded  87287c8c-2f72-46e1-bbc8-5064f518654a   \n",
       "\n",
       "                           embedding_model_prediction  \\\n",
       "67  [0.018119888127472814, 0.012644638131052502, 0...   \n",
       "50  [-0.014496798833726753, 0.007063523966924967, ...   \n",
       "63  [-0.018428404891334224, 0.042702173694502465, ...   \n",
       "70  [-0.0017823046961624736, -0.007616799238713686...   \n",
       "78  [-0.017693766349432666, 0.05013679809362337, 0...   \n",
       "\n",
       "                           retrieval_model_prediction  \\\n",
       "67  [Q: How do you ensure your AI solutions adhere...   \n",
       "50  [Q: What strategies do you employ to design us...   \n",
       "63  [Q: How do you identify and evaluate AI risks ...   \n",
       "70  [Q: How do you keep your AI applications curre...   \n",
       "78  [Q: How do your LLMs continuously learn and up...   \n",
       "\n",
       "                                 rag_model_prediction  \n",
       "67  We ensure compliance with U.S. regulations suc...  \n",
       "50  Our approach to UI/UX design for AI-based apps...  \n",
       "63  We conduct thorough assessments of AI systems ...  \n",
       "70  We maintain a dedicated R&D team focused on in...  \n",
       "78  We implement advanced continuous learning mech...  "
      ]
     },
     "execution_count": 54,
     "metadata": {},
     "output_type": "execute_result"
    }
   ],
   "source": [
    "vm_test_ds.df.head()"
   ]
  },
  {
   "cell_type": "code",
   "execution_count": 51,
   "metadata": {},
   "outputs": [
    {
     "data": {
      "application/vnd.jupyter.widget-view+json": {
       "model_id": "0950658258e94f04bd780ad9e3554b7e",
       "version_major": 2,
       "version_minor": 0
      },
      "text/plain": [
       "VBox(children=(HTML(value='<h1>Cosine Similarity Heatmap</h1>'), HTML(value='<p><strong>Cosine Similarity Heat…"
      ]
     },
     "metadata": {},
     "output_type": "display_data"
    },
    {
     "data": {
      "text/html": [
       "\n",
       "<script defer type=\"module\">\n",
       "import hljs from 'https://unpkg.com/@highlightjs/cdn-assets@11.9.0/es/highlight.min.js';\n",
       "import python from 'https://cdnjs.cloudflare.com/ajax/libs/highlight.js/11.9.0/es/languages/python.min.js';\n",
       "\n",
       "hljs.registerLanguage('python', python);\n",
       "hljs.highlightAll();\n",
       "</script>\n"
      ],
      "text/plain": [
       "<IPython.core.display.HTML object>"
      ]
     },
     "metadata": {},
     "output_type": "display_data"
    },
    {
     "data": {
      "text/html": [
       "\n",
       "<script>\n",
       "window.MathJax = {\n",
       "    tex2jax: {\n",
       "        inlineMath: [['$', '$'], ['\\\\(', '\\\\)']],\n",
       "        displayMath: [['$$', '$$'], ['\\[', '\\]']],\n",
       "        processEscapes: true,\n",
       "        skipTags: ['script', 'noscript', 'style', 'textarea', 'pre'],\n",
       "        ignoreClass: \".*\",\n",
       "        processClass: \"math\"\n",
       "    }\n",
       "};\n",
       "setTimeout(function () {\n",
       "    var script = document.createElement('script');\n",
       "    script.type = 'text/javascript';\n",
       "    script.src = 'https://cdnjs.cloudflare.com/ajax/libs/mathjax/2.7.7/MathJax.js?config=TeX-AMS_HTML';\n",
       "    document.head.appendChild(script);\n",
       "}, 300);\n",
       "</script>\n"
      ],
      "text/plain": [
       "<IPython.core.display.HTML object>"
      ]
     },
     "metadata": {},
     "output_type": "display_data"
    }
   ],
   "source": [
    "result = run_test(\n",
    "    \"validmind.model_validation.embeddings.CosineSimilarityHeatmap\",\n",
    "    inputs={\n",
    "        \"model\": vm_embedder,\n",
    "        \"dataset\": vm_test_ds,\n",
    "    },\n",
    ").log()"
   ]
  },
  {
   "cell_type": "code",
   "execution_count": 52,
   "metadata": {},
   "outputs": [
    {
     "data": {
      "application/vnd.jupyter.widget-view+json": {
       "model_id": "2c92a9d207764c7b97713788e9e20554",
       "version_major": 2,
       "version_minor": 0
      },
      "text/plain": [
       "VBox(children=(HTML(value='<h1>Euclidean Distance Heatmap</h1>'), HTML(value=\"<p><strong>Euclidean Distance He…"
      ]
     },
     "metadata": {},
     "output_type": "display_data"
    },
    {
     "data": {
      "text/html": [
       "\n",
       "<script defer type=\"module\">\n",
       "import hljs from 'https://unpkg.com/@highlightjs/cdn-assets@11.9.0/es/highlight.min.js';\n",
       "import python from 'https://cdnjs.cloudflare.com/ajax/libs/highlight.js/11.9.0/es/languages/python.min.js';\n",
       "\n",
       "hljs.registerLanguage('python', python);\n",
       "hljs.highlightAll();\n",
       "</script>\n"
      ],
      "text/plain": [
       "<IPython.core.display.HTML object>"
      ]
     },
     "metadata": {},
     "output_type": "display_data"
    },
    {
     "data": {
      "text/html": [
       "\n",
       "<script>\n",
       "window.MathJax = {\n",
       "    tex2jax: {\n",
       "        inlineMath: [['$', '$'], ['\\\\(', '\\\\)']],\n",
       "        displayMath: [['$$', '$$'], ['\\[', '\\]']],\n",
       "        processEscapes: true,\n",
       "        skipTags: ['script', 'noscript', 'style', 'textarea', 'pre'],\n",
       "        ignoreClass: \".*\",\n",
       "        processClass: \"math\"\n",
       "    }\n",
       "};\n",
       "setTimeout(function () {\n",
       "    var script = document.createElement('script');\n",
       "    script.type = 'text/javascript';\n",
       "    script.src = 'https://cdnjs.cloudflare.com/ajax/libs/mathjax/2.7.7/MathJax.js?config=TeX-AMS_HTML';\n",
       "    document.head.appendChild(script);\n",
       "}, 300);\n",
       "</script>\n"
      ],
      "text/plain": [
       "<IPython.core.display.HTML object>"
      ]
     },
     "metadata": {},
     "output_type": "display_data"
    }
   ],
   "source": [
    "result = run_test(\n",
    "    \"validmind.model_validation.embeddings.EuclideanDistanceHeatmap\",\n",
    "    inputs={\n",
    "        \"model\": vm_embedder,\n",
    "        \"dataset\": vm_test_ds,\n",
    "    },\n",
    ").log()"
   ]
  },
  {
   "cell_type": "code",
   "execution_count": 49,
   "metadata": {},
   "outputs": [
    {
     "data": {
      "application/vnd.jupyter.widget-view+json": {
       "model_id": "cc0f1031cb01437a9be78fdc556484e7",
       "version_major": 2,
       "version_minor": 0
      },
      "text/plain": [
       "VBox(children=(HTML(value='<h1>PCA Components Pairwise Plots</h1>'), HTML(value='<p><strong>PCA Components Pai…"
      ]
     },
     "metadata": {},
     "output_type": "display_data"
    },
    {
     "data": {
      "text/html": [
       "\n",
       "<script defer type=\"module\">\n",
       "import hljs from 'https://unpkg.com/@highlightjs/cdn-assets@11.9.0/es/highlight.min.js';\n",
       "import python from 'https://cdnjs.cloudflare.com/ajax/libs/highlight.js/11.9.0/es/languages/python.min.js';\n",
       "\n",
       "hljs.registerLanguage('python', python);\n",
       "hljs.highlightAll();\n",
       "</script>\n"
      ],
      "text/plain": [
       "<IPython.core.display.HTML object>"
      ]
     },
     "metadata": {},
     "output_type": "display_data"
    },
    {
     "data": {
      "text/html": [
       "\n",
       "<script>\n",
       "window.MathJax = {\n",
       "    tex2jax: {\n",
       "        inlineMath: [['$', '$'], ['\\\\(', '\\\\)']],\n",
       "        displayMath: [['$$', '$$'], ['\\[', '\\]']],\n",
       "        processEscapes: true,\n",
       "        skipTags: ['script', 'noscript', 'style', 'textarea', 'pre'],\n",
       "        ignoreClass: \".*\",\n",
       "        processClass: \"math\"\n",
       "    }\n",
       "};\n",
       "setTimeout(function () {\n",
       "    var script = document.createElement('script');\n",
       "    script.type = 'text/javascript';\n",
       "    script.src = 'https://cdnjs.cloudflare.com/ajax/libs/mathjax/2.7.7/MathJax.js?config=TeX-AMS_HTML';\n",
       "    document.head.appendChild(script);\n",
       "}, 300);\n",
       "</script>\n"
      ],
      "text/plain": [
       "<IPython.core.display.HTML object>"
      ]
     },
     "metadata": {},
     "output_type": "display_data"
    }
   ],
   "source": [
    "result = run_test(\n",
    "    \"validmind.model_validation.embeddings.PCAComponentsPairwisePlots\",\n",
    "    inputs={\n",
    "        \"model\": vm_embedder,\n",
    "        \"dataset\": vm_test_ds,\n",
    "    },\n",
    "    params={\"n_components\": 3},\n",
    ").log()"
   ]
  },
  {
   "cell_type": "code",
   "execution_count": null,
   "metadata": {},
   "outputs": [],
   "source": [
    "result = run_test(\n",
    "    \"validmind.model_validation.embeddings.TSNEComponentsPairwisePlots\",\n",
    "    inputs={\n",
    "        \"model\": vm_embedder,\n",
    "        \"dataset\": vm_test_ds,\n",
    "    },\n",
    "    params={\"n_components\": 3, \"perplexity\": 20},\n",
    ").log()"
   ]
  },
  {
   "cell_type": "markdown",
   "metadata": {},
   "source": [
    "# Setup Vector Store\n",
    "\n",
    "Great, so now that we have assessed our embedding model and verified that it is performing well, we can go ahead and use it to compute embeddings for our question-answer pairs in the \"train\" set. We will then use these embeddings to insert the question-answer pairs into a vector store. We will use an in-memory `qdrant` vector database for demo purposes but any option would work just as well here. We will use the `QdrantClient` class from LangChain to interact with the vector store. This class will allow us to insert and search for embeddings in the vector store."
   ]
  },
  {
   "cell_type": "markdown",
   "metadata": {},
   "source": [
    "### Generate embeddings for the Train Set\n",
    "\n",
    "We can use the same `assign_predictions` method from earlier except this time we will use the `vm_train_ds` object to compute the embeddings for the question-answer pairs in the \"train\" set."
   ]
  },
  {
   "cell_type": "code",
   "execution_count": 20,
   "metadata": {},
   "outputs": [
    {
     "name": "stderr",
     "output_type": "stream",
     "text": [
      "2024-06-12 12:55:59,155 - INFO(validmind.vm_models.dataset.utils): Running predict_proba()... This may take a while\n",
      "2024-06-12 12:55:59,156 - INFO(validmind.vm_models.dataset.utils): Not running predict_proba() for unsupported models.\n",
      "2024-06-12 12:55:59,156 - INFO(validmind.vm_models.dataset.utils): Running predict()... This may take a while\n",
      "2024-06-12 12:56:32,806 - INFO(validmind.vm_models.dataset.utils): Done running predict()\n",
      "2024-06-12 12:56:32,809 - INFO(validmind.vm_models.dataset.dataset): No probabilities computed or provided. Not adding probability column to the dataset.\n"
     ]
    },
    {
     "name": "stdout",
     "output_type": "stream",
     "text": [
      "=================\n",
      "VMDataset object: \n",
      "=================\n",
      "Input ID: dataset\n",
      "Target Column: ground_truth\n",
      "Feature Columns: ['Project_Title', 'question', 'Area', 'Requester', 'Status', 'id']\n",
      "Text Column: question\n",
      "Extra Columns: ExtraColumns(extras=set(), group_by_column=None, prediction_columns={'embedding_model': 'embedding_model_prediction'}, probability_columns={})\n",
      "Target Class Labels: None\n",
      "Columns: ['Project_Title', 'question', 'ground_truth', 'Area', 'Requester', 'Status', 'id', 'embedding_model_prediction']\n",
      "Index: [ 69  36  73  45  92  51  76 113   4  23  94  46  12  52  84 101 109  49\n",
      "  96  37  58  74  79  38  55  32  48  59   6  95  47  93  11  88  83  25\n",
      "  33  64  20  44   0  21  60   5  81  87  75  97  72  98 102  10  41  19\n",
      "  22  66 103  86 106  91   9  80  17  35  16 110  90  13  85  29  43   7\n",
      "  57  28 100  53  68 104  30 112  54  99  61  71   8  26  56 105  18   3\n",
      "  39 108]\n",
      "=================\n",
      "\n"
     ]
    }
   ],
   "source": [
    "vm_train_ds.assign_predictions(vm_embedder)\n",
    "print(vm_train_ds)"
   ]
  },
  {
   "cell_type": "markdown",
   "metadata": {},
   "source": [
    "### Insert embeddings and questions into Vector DB\n",
    "\n",
    "Now that we have computed the embeddings for our question-answer pairs in the \"train\" set, we can go ahead and insert them into the vector store:"
   ]
  },
  {
   "cell_type": "code",
   "execution_count": 21,
   "metadata": {},
   "outputs": [],
   "source": [
    "from langchain_community.vectorstores import Qdrant\n",
    "from langchain_openai import OpenAIEmbeddings\n",
    "from langchain_community.document_loaders import DataFrameLoader\n",
    "\n",
    "# load documents from dataframe\n",
    "loader = DataFrameLoader(train_df, page_content_column=\"question\")\n",
    "docs = loader.load()\n",
    "# choose model using embedding client\n",
    "embedding_client = OpenAIEmbeddings(model=\"text-embedding-3-small\")\n",
    "\n",
    "# setup vector datastore\n",
    "qdrant = Qdrant.from_documents(\n",
    "    docs,\n",
    "    embedding_client,\n",
    "    location=\":memory:\",  # Local mode with in-memory storage only\n",
    "    collection_name=\"rfp_rag_collection\",\n",
    ")"
   ]
  },
  {
   "cell_type": "markdown",
   "metadata": {},
   "source": [
    "# Retrieval Model\n",
    "\n",
    "Now that we have an embedding model and a vector database setup and loaded with our data, we need a Retrieval model that can search for similar question-answer pairs for a given input question. Once created, we can initialize this as a ValidMind model and `assign_predictions` to it just like our embedding model."
   ]
  },
  {
   "cell_type": "code",
   "execution_count": 22,
   "metadata": {},
   "outputs": [],
   "source": [
    "def retrieve(input):\n",
    "    contexts = []\n",
    "\n",
    "    for result in qdrant.similarity_search_with_score(input[\"question\"]):\n",
    "        document, score = result\n",
    "        context = f\"Q: {document.page_content}\\n\"\n",
    "        context += f\"A: {document.metadata['ground_truth']}\\n\"\n",
    "\n",
    "        contexts.append(context)\n",
    "\n",
    "    return contexts\n",
    "\n",
    "\n",
    "vm_retriever = vm.init_model(input_id=\"retrieval_model\", predict_fn=retrieve)"
   ]
  },
  {
   "cell_type": "code",
   "execution_count": 23,
   "metadata": {},
   "outputs": [
    {
     "name": "stderr",
     "output_type": "stream",
     "text": [
      "2024-06-12 12:56:35,403 - INFO(validmind.vm_models.dataset.utils): Running predict_proba()... This may take a while\n",
      "2024-06-12 12:56:35,404 - INFO(validmind.vm_models.dataset.utils): Not running predict_proba() for unsupported models.\n",
      "2024-06-12 12:56:35,405 - INFO(validmind.vm_models.dataset.utils): Running predict()... This may take a while\n",
      "2024-06-12 12:56:41,146 - INFO(validmind.vm_models.dataset.utils): Done running predict()\n",
      "2024-06-12 12:56:41,148 - INFO(validmind.vm_models.dataset.dataset): No probabilities computed or provided. Not adding probability column to the dataset.\n"
     ]
    },
    {
     "name": "stdout",
     "output_type": "stream",
     "text": [
      "=================\n",
      "VMDataset object: \n",
      "=================\n",
      "Input ID: dataset\n",
      "Target Column: ground_truth\n",
      "Feature Columns: ['Project_Title', 'question', 'Area', 'Requester', 'Status', 'id']\n",
      "Text Column: question\n",
      "Extra Columns: ExtraColumns(extras=set(), group_by_column=None, prediction_columns={'embedding_model': 'embedding_model_prediction', 'retrieval_model': 'retrieval_model_prediction'}, probability_columns={})\n",
      "Target Class Labels: None\n",
      "Columns: ['Project_Title', 'question', 'ground_truth', 'Area', 'Requester', 'Status', 'id', 'embedding_model_prediction', 'retrieval_model_prediction']\n",
      "Index: [ 67  50  63  70  78  15  42   2  65  14 107  82 114  34  62  77 111  40\n",
      "  31   1  27  89  24]\n",
      "=================\n",
      "\n"
     ]
    }
   ],
   "source": [
    "vm_test_ds.assign_predictions(model=vm_retriever)\n",
    "print(vm_test_ds)"
   ]
  },
  {
   "cell_type": "markdown",
   "metadata": {},
   "source": [
    "# Generation Model\n",
    "\n",
    "As the final piece of this simple RAG pipeline, we can create and initialize a generation model that will use the retrieved context to generate an answer to the input question. We will use the `gpt-3.5-turbo` model from OpenAI."
   ]
  },
  {
   "cell_type": "code",
   "execution_count": 24,
   "metadata": {},
   "outputs": [],
   "source": [
    "from openai import OpenAI\n",
    "\n",
    "from validmind.models import Prompt\n",
    "\n",
    "\n",
    "system_prompt = \"\"\"\n",
    "You are an expert RFP AI assistant.\n",
    "You are tasked with answering new RFP questions based on existing RFP questions and answers.\n",
    "You will be provided with the existing RFP questions and answer pairs that are the most relevant to the new RFP question.\n",
    "After that you will be provided with a new RFP question.\n",
    "You will generate an answer and respond only with the answer.\n",
    "Ignore your pre-existing knowledge and answer the question based on the provided context.\n",
    "\"\"\".strip()\n",
    "\n",
    "openai_client = OpenAI()\n",
    "\n",
    "\n",
    "def generate(input):\n",
    "    response = openai_client.chat.completions.create(\n",
    "        model=\"gpt-3.5-turbo\",\n",
    "        messages=[\n",
    "            {\"role\": \"system\", \"content\": system_prompt},\n",
    "            {\"role\": \"user\", \"content\": \"\\n\\n\".join(input[\"retrieval_model\"])},\n",
    "            {\"role\": \"user\", \"content\": input[\"question\"]},\n",
    "        ],\n",
    "    )\n",
    "\n",
    "    return response.choices[0].message.content\n",
    "\n",
    "\n",
    "vm_generator = vm.init_model(\n",
    "    input_id=\"generation_model\",\n",
    "    predict_fn=generate,\n",
    "    prompt=Prompt(template=system_prompt),\n",
    ")"
   ]
  },
  {
   "cell_type": "markdown",
   "metadata": {},
   "source": [
    "Let's test it out real quick:"
   ]
  },
  {
   "cell_type": "code",
   "execution_count": 25,
   "metadata": {},
   "outputs": [
    {
     "data": {
      "text/plain": [
       "['Your name is Anil.']"
      ]
     },
     "execution_count": 25,
     "metadata": {},
     "output_type": "execute_result"
    }
   ],
   "source": [
    "import pandas as pd\n",
    "\n",
    "vm_generator.predict(\n",
    "    pd.DataFrame(\n",
    "        {\"retrieval_model\": [[\"My name is anil\"]], \"question\": [\"what is my name\"]}\n",
    "    )\n",
    ")"
   ]
  },
  {
   "cell_type": "markdown",
   "metadata": {},
   "source": [
    "## Prompt Evaluation\n",
    "\n",
    "Now that we have our generator model initialized, we can run some LLM-as-Judge tests to evaluate the system prompt. This will allow us to get an initial sense of how well the prompt meets a few best practices for prompt engineering. These tests use an LLM to rate the prompt on a scale of 1-10 against the following criteria:\n",
    "\n",
    "- **Examplar Bias**: When using multi-shot prompting, does the prompt contain an unbiased distribution of examples?\n",
    "- **Delimitation**: When using complex prompts containing examples, contextual information, or other elements, is the prompt formatted in such a way that each element is clearly separated?\n",
    "- **Clarity**: How clearly the prompt states the task.\n",
    "- **Conciseness**: How succinctly the prompt states the task.\n",
    "- **Instruction Framing**: Whether the prompt contains negative instructions.\n",
    "- **Specificity**: How specific the prompt defines the task."
   ]
  },
  {
   "cell_type": "code",
   "execution_count": 26,
   "metadata": {},
   "outputs": [
    {
     "data": {
      "application/vnd.jupyter.widget-view+json": {
       "model_id": "9cd87e00f49b4129aaf89ae97c237c08",
       "version_major": 2,
       "version_minor": 0
      },
      "text/plain": [
       "VBox(children=(HTML(value='\\n            <h1>Bias ✅</h1>\\n            <p><strong>Bias Evaluation</strong> calc…"
      ]
     },
     "metadata": {},
     "output_type": "display_data"
    },
    {
     "data": {
      "text/html": [
       "\n",
       "<script defer type=\"module\">\n",
       "import hljs from 'https://unpkg.com/@highlightjs/cdn-assets@11.9.0/es/highlight.min.js';\n",
       "import python from 'https://cdnjs.cloudflare.com/ajax/libs/highlight.js/11.9.0/es/languages/python.min.js';\n",
       "\n",
       "hljs.registerLanguage('python', python);\n",
       "hljs.highlightAll();\n",
       "</script>\n"
      ],
      "text/plain": [
       "<IPython.core.display.HTML object>"
      ]
     },
     "metadata": {},
     "output_type": "display_data"
    },
    {
     "data": {
      "text/html": [
       "\n",
       "<script>\n",
       "window.MathJax = {\n",
       "    tex2jax: {\n",
       "        inlineMath: [['$', '$'], ['\\\\(', '\\\\)']],\n",
       "        displayMath: [['$$', '$$'], ['\\[', '\\]']],\n",
       "        processEscapes: true,\n",
       "        skipTags: ['script', 'noscript', 'style', 'textarea', 'pre'],\n",
       "        ignoreClass: \".*\",\n",
       "        processClass: \"math\"\n",
       "    }\n",
       "};\n",
       "setTimeout(function () {\n",
       "    var script = document.createElement('script');\n",
       "    script.type = 'text/javascript';\n",
       "    script.src = 'https://cdnjs.cloudflare.com/ajax/libs/mathjax/2.7.7/MathJax.js?config=TeX-AMS_HTML';\n",
       "    document.head.appendChild(script);\n",
       "}, 300);\n",
       "</script>\n"
      ],
      "text/plain": [
       "<IPython.core.display.HTML object>"
      ]
     },
     "metadata": {},
     "output_type": "display_data"
    }
   ],
   "source": [
    "result = run_test(\n",
    "    \"validmind.prompt_validation.Bias\",\n",
    "    inputs={\n",
    "        \"model\": vm_generator,\n",
    "    },\n",
    ")"
   ]
  },
  {
   "cell_type": "code",
   "execution_count": 27,
   "metadata": {},
   "outputs": [
    {
     "data": {
      "application/vnd.jupyter.widget-view+json": {
       "model_id": "b535c8cd76a640fe875569442d5b21da",
       "version_major": 2,
       "version_minor": 0
      },
      "text/plain": [
       "VBox(children=(HTML(value='\\n            <h1>Clarity ✅</h1>\\n            <p><strong>Clarity</strong> evaluates…"
      ]
     },
     "metadata": {},
     "output_type": "display_data"
    },
    {
     "data": {
      "text/html": [
       "\n",
       "<script defer type=\"module\">\n",
       "import hljs from 'https://unpkg.com/@highlightjs/cdn-assets@11.9.0/es/highlight.min.js';\n",
       "import python from 'https://cdnjs.cloudflare.com/ajax/libs/highlight.js/11.9.0/es/languages/python.min.js';\n",
       "\n",
       "hljs.registerLanguage('python', python);\n",
       "hljs.highlightAll();\n",
       "</script>\n"
      ],
      "text/plain": [
       "<IPython.core.display.HTML object>"
      ]
     },
     "metadata": {},
     "output_type": "display_data"
    },
    {
     "data": {
      "text/html": [
       "\n",
       "<script>\n",
       "window.MathJax = {\n",
       "    tex2jax: {\n",
       "        inlineMath: [['$', '$'], ['\\\\(', '\\\\)']],\n",
       "        displayMath: [['$$', '$$'], ['\\[', '\\]']],\n",
       "        processEscapes: true,\n",
       "        skipTags: ['script', 'noscript', 'style', 'textarea', 'pre'],\n",
       "        ignoreClass: \".*\",\n",
       "        processClass: \"math\"\n",
       "    }\n",
       "};\n",
       "setTimeout(function () {\n",
       "    var script = document.createElement('script');\n",
       "    script.type = 'text/javascript';\n",
       "    script.src = 'https://cdnjs.cloudflare.com/ajax/libs/mathjax/2.7.7/MathJax.js?config=TeX-AMS_HTML';\n",
       "    document.head.appendChild(script);\n",
       "}, 300);\n",
       "</script>\n"
      ],
      "text/plain": [
       "<IPython.core.display.HTML object>"
      ]
     },
     "metadata": {},
     "output_type": "display_data"
    }
   ],
   "source": [
    "result = run_test(\n",
    "    \"validmind.prompt_validation.Clarity\",\n",
    "    inputs={\n",
    "        \"model\": vm_generator,\n",
    "    },\n",
    ")"
   ]
  },
  {
   "cell_type": "code",
   "execution_count": 28,
   "metadata": {},
   "outputs": [
    {
     "data": {
      "application/vnd.jupyter.widget-view+json": {
       "model_id": "7baa313825fb447da06b033ce88b1f45",
       "version_major": 2,
       "version_minor": 0
      },
      "text/plain": [
       "VBox(children=(HTML(value='\\n            <h1>Conciseness ❌</h1>\\n            <p><strong>Conciseness</strong> c…"
      ]
     },
     "metadata": {},
     "output_type": "display_data"
    },
    {
     "data": {
      "text/html": [
       "\n",
       "<script defer type=\"module\">\n",
       "import hljs from 'https://unpkg.com/@highlightjs/cdn-assets@11.9.0/es/highlight.min.js';\n",
       "import python from 'https://cdnjs.cloudflare.com/ajax/libs/highlight.js/11.9.0/es/languages/python.min.js';\n",
       "\n",
       "hljs.registerLanguage('python', python);\n",
       "hljs.highlightAll();\n",
       "</script>\n"
      ],
      "text/plain": [
       "<IPython.core.display.HTML object>"
      ]
     },
     "metadata": {},
     "output_type": "display_data"
    },
    {
     "data": {
      "text/html": [
       "\n",
       "<script>\n",
       "window.MathJax = {\n",
       "    tex2jax: {\n",
       "        inlineMath: [['$', '$'], ['\\\\(', '\\\\)']],\n",
       "        displayMath: [['$$', '$$'], ['\\[', '\\]']],\n",
       "        processEscapes: true,\n",
       "        skipTags: ['script', 'noscript', 'style', 'textarea', 'pre'],\n",
       "        ignoreClass: \".*\",\n",
       "        processClass: \"math\"\n",
       "    }\n",
       "};\n",
       "setTimeout(function () {\n",
       "    var script = document.createElement('script');\n",
       "    script.type = 'text/javascript';\n",
       "    script.src = 'https://cdnjs.cloudflare.com/ajax/libs/mathjax/2.7.7/MathJax.js?config=TeX-AMS_HTML';\n",
       "    document.head.appendChild(script);\n",
       "}, 300);\n",
       "</script>\n"
      ],
      "text/plain": [
       "<IPython.core.display.HTML object>"
      ]
     },
     "metadata": {},
     "output_type": "display_data"
    }
   ],
   "source": [
    "result = run_test(\n",
    "    \"validmind.prompt_validation.Conciseness\",\n",
    "    inputs={\n",
    "        \"model\": vm_generator,\n",
    "    },\n",
    ")"
   ]
  },
  {
   "cell_type": "code",
   "execution_count": 46,
   "metadata": {},
   "outputs": [
    {
     "data": {
      "application/vnd.jupyter.widget-view+json": {
       "model_id": "a9d340f070174874825286f675e084c0",
       "version_major": 2,
       "version_minor": 0
      },
      "text/plain": [
       "VBox(children=(HTML(value='\\n            <h1>Delimitation ✅</h1>\\n            <p><strong>Delimitation</strong>…"
      ]
     },
     "metadata": {},
     "output_type": "display_data"
    },
    {
     "data": {
      "text/html": [
       "\n",
       "<script defer type=\"module\">\n",
       "import hljs from 'https://unpkg.com/@highlightjs/cdn-assets@11.9.0/es/highlight.min.js';\n",
       "import python from 'https://cdnjs.cloudflare.com/ajax/libs/highlight.js/11.9.0/es/languages/python.min.js';\n",
       "\n",
       "hljs.registerLanguage('python', python);\n",
       "hljs.highlightAll();\n",
       "</script>\n"
      ],
      "text/plain": [
       "<IPython.core.display.HTML object>"
      ]
     },
     "metadata": {},
     "output_type": "display_data"
    },
    {
     "data": {
      "text/html": [
       "\n",
       "<script>\n",
       "window.MathJax = {\n",
       "    tex2jax: {\n",
       "        inlineMath: [['$', '$'], ['\\\\(', '\\\\)']],\n",
       "        displayMath: [['$$', '$$'], ['\\[', '\\]']],\n",
       "        processEscapes: true,\n",
       "        skipTags: ['script', 'noscript', 'style', 'textarea', 'pre'],\n",
       "        ignoreClass: \".*\",\n",
       "        processClass: \"math\"\n",
       "    }\n",
       "};\n",
       "setTimeout(function () {\n",
       "    var script = document.createElement('script');\n",
       "    script.type = 'text/javascript';\n",
       "    script.src = 'https://cdnjs.cloudflare.com/ajax/libs/mathjax/2.7.7/MathJax.js?config=TeX-AMS_HTML';\n",
       "    document.head.appendChild(script);\n",
       "}, 300);\n",
       "</script>\n"
      ],
      "text/plain": [
       "<IPython.core.display.HTML object>"
      ]
     },
     "metadata": {},
     "output_type": "display_data"
    }
   ],
   "source": [
    "result = run_test(\n",
    "    \"validmind.prompt_validation.Delimitation\",\n",
    "    inputs={\n",
    "        \"model\": vm_generator,\n",
    "    },\n",
    ")"
   ]
  },
  {
   "cell_type": "code",
   "execution_count": 45,
   "metadata": {},
   "outputs": [
    {
     "data": {
      "application/vnd.jupyter.widget-view+json": {
       "model_id": "fda71b00854e40a4bbd25aa07d33e5b8",
       "version_major": 2,
       "version_minor": 0
      },
      "text/plain": [
       "VBox(children=(HTML(value='\\n            <h1>Negative Instruction ❌</h1>\\n            <p><strong>Negative Inst…"
      ]
     },
     "metadata": {},
     "output_type": "display_data"
    },
    {
     "data": {
      "text/html": [
       "\n",
       "<script defer type=\"module\">\n",
       "import hljs from 'https://unpkg.com/@highlightjs/cdn-assets@11.9.0/es/highlight.min.js';\n",
       "import python from 'https://cdnjs.cloudflare.com/ajax/libs/highlight.js/11.9.0/es/languages/python.min.js';\n",
       "\n",
       "hljs.registerLanguage('python', python);\n",
       "hljs.highlightAll();\n",
       "</script>\n"
      ],
      "text/plain": [
       "<IPython.core.display.HTML object>"
      ]
     },
     "metadata": {},
     "output_type": "display_data"
    },
    {
     "data": {
      "text/html": [
       "\n",
       "<script>\n",
       "window.MathJax = {\n",
       "    tex2jax: {\n",
       "        inlineMath: [['$', '$'], ['\\\\(', '\\\\)']],\n",
       "        displayMath: [['$$', '$$'], ['\\[', '\\]']],\n",
       "        processEscapes: true,\n",
       "        skipTags: ['script', 'noscript', 'style', 'textarea', 'pre'],\n",
       "        ignoreClass: \".*\",\n",
       "        processClass: \"math\"\n",
       "    }\n",
       "};\n",
       "setTimeout(function () {\n",
       "    var script = document.createElement('script');\n",
       "    script.type = 'text/javascript';\n",
       "    script.src = 'https://cdnjs.cloudflare.com/ajax/libs/mathjax/2.7.7/MathJax.js?config=TeX-AMS_HTML';\n",
       "    document.head.appendChild(script);\n",
       "}, 300);\n",
       "</script>\n"
      ],
      "text/plain": [
       "<IPython.core.display.HTML object>"
      ]
     },
     "metadata": {},
     "output_type": "display_data"
    }
   ],
   "source": [
    "result = run_test(\n",
    "    \"validmind.prompt_validation.NegativeInstruction\",\n",
    "    inputs={\n",
    "        \"model\": vm_generator,\n",
    "    },\n",
    ")"
   ]
  },
  {
   "cell_type": "code",
   "execution_count": 31,
   "metadata": {},
   "outputs": [
    {
     "data": {
      "application/vnd.jupyter.widget-view+json": {
       "model_id": "97acf0ebe21149fa86189a005330bedd",
       "version_major": 2,
       "version_minor": 0
      },
      "text/plain": [
       "VBox(children=(HTML(value='\\n            <h1>Specificity ✅</h1>\\n            <p><strong>Specificity</strong> e…"
      ]
     },
     "metadata": {},
     "output_type": "display_data"
    },
    {
     "data": {
      "text/html": [
       "\n",
       "<script defer type=\"module\">\n",
       "import hljs from 'https://unpkg.com/@highlightjs/cdn-assets@11.9.0/es/highlight.min.js';\n",
       "import python from 'https://cdnjs.cloudflare.com/ajax/libs/highlight.js/11.9.0/es/languages/python.min.js';\n",
       "\n",
       "hljs.registerLanguage('python', python);\n",
       "hljs.highlightAll();\n",
       "</script>\n"
      ],
      "text/plain": [
       "<IPython.core.display.HTML object>"
      ]
     },
     "metadata": {},
     "output_type": "display_data"
    },
    {
     "data": {
      "text/html": [
       "\n",
       "<script>\n",
       "window.MathJax = {\n",
       "    tex2jax: {\n",
       "        inlineMath: [['$', '$'], ['\\\\(', '\\\\)']],\n",
       "        displayMath: [['$$', '$$'], ['\\[', '\\]']],\n",
       "        processEscapes: true,\n",
       "        skipTags: ['script', 'noscript', 'style', 'textarea', 'pre'],\n",
       "        ignoreClass: \".*\",\n",
       "        processClass: \"math\"\n",
       "    }\n",
       "};\n",
       "setTimeout(function () {\n",
       "    var script = document.createElement('script');\n",
       "    script.type = 'text/javascript';\n",
       "    script.src = 'https://cdnjs.cloudflare.com/ajax/libs/mathjax/2.7.7/MathJax.js?config=TeX-AMS_HTML';\n",
       "    document.head.appendChild(script);\n",
       "}, 300);\n",
       "</script>\n"
      ],
      "text/plain": [
       "<IPython.core.display.HTML object>"
      ]
     },
     "metadata": {},
     "output_type": "display_data"
    }
   ],
   "source": [
    "result = run_test(\n",
    "    \"validmind.prompt_validation.Specificity\",\n",
    "    inputs={\n",
    "        \"model\": vm_generator,\n",
    "    },\n",
    ")"
   ]
  },
  {
   "cell_type": "markdown",
   "metadata": {},
   "source": [
    "# Setup RAG Pipeline Model\n",
    "\n",
    "Now that we have all of our individual \"component\" models setup and initialized we need some way to put them all together in a single \"pipeline\". We can use the `PipelineModel` class to do this. This ValidMind model type simply wraps any number of other ValidMind models and runs them in sequence. We can use a pipe(`|`) operator - in Python this is normally an `or` operator but we have overloaded it for easy pipeline creation - to chain together our models. We can then initialize this pipeline model and assign predictions to it just like any other model."
   ]
  },
  {
   "cell_type": "code",
   "execution_count": 32,
   "metadata": {},
   "outputs": [],
   "source": [
    "vm_rag_model = vm.init_model(vm_retriever | vm_generator, input_id=\"rag_model\")"
   ]
  },
  {
   "cell_type": "markdown",
   "metadata": {},
   "source": [
    "We can `assign_predictions` to the pipeline model just like we did with the individual models. This will run the pipeline on the test set and store the results in the test set for later use."
   ]
  },
  {
   "cell_type": "code",
   "execution_count": 33,
   "metadata": {},
   "outputs": [
    {
     "name": "stderr",
     "output_type": "stream",
     "text": [
      "2024-06-12 12:58:03,378 - INFO(validmind.vm_models.dataset.utils): Running predict_proba()... This may take a while\n",
      "2024-06-12 12:58:03,380 - INFO(validmind.vm_models.dataset.utils): Not running predict_proba() for unsupported models.\n",
      "2024-06-12 12:58:03,380 - INFO(validmind.vm_models.dataset.utils): Running predict()... This may take a while\n",
      "2024-06-12 12:59:15,611 - INFO(validmind.vm_models.dataset.utils): Done running predict()\n",
      "2024-06-12 12:59:15,612 - INFO(validmind.vm_models.dataset.dataset): No probabilities computed or provided. Not adding probability column to the dataset.\n"
     ]
    },
    {
     "name": "stdout",
     "output_type": "stream",
     "text": [
      "=================\n",
      "VMDataset object: \n",
      "=================\n",
      "Input ID: dataset\n",
      "Target Column: ground_truth\n",
      "Feature Columns: ['Project_Title', 'question', 'Area', 'Requester', 'Status', 'id']\n",
      "Text Column: question\n",
      "Extra Columns: ExtraColumns(extras=set(), group_by_column=None, prediction_columns={'embedding_model': 'embedding_model_prediction', 'retrieval_model': 'retrieval_model_prediction', 'rag_model': 'rag_model_prediction'}, probability_columns={})\n",
      "Target Class Labels: None\n",
      "Columns: ['Project_Title', 'question', 'ground_truth', 'Area', 'Requester', 'Status', 'id', 'embedding_model_prediction', 'retrieval_model_prediction', 'rag_model_prediction']\n",
      "Index: [ 67  50  63  70  78  15  42   2  65  14 107  82 114  34  62  77 111  40\n",
      "  31   1  27  89  24]\n",
      "=================\n",
      "\n"
     ]
    }
   ],
   "source": [
    "vm_test_ds.assign_predictions(model=vm_rag_model)\n",
    "print(vm_test_ds)"
   ]
  },
  {
   "cell_type": "code",
   "execution_count": 34,
   "metadata": {},
   "outputs": [
    {
     "data": {
      "text/html": [
       "<div>\n",
       "<style scoped>\n",
       "    .dataframe tbody tr th:only-of-type {\n",
       "        vertical-align: middle;\n",
       "    }\n",
       "\n",
       "    .dataframe tbody tr th {\n",
       "        vertical-align: top;\n",
       "    }\n",
       "\n",
       "    .dataframe thead th {\n",
       "        text-align: right;\n",
       "    }\n",
       "</style>\n",
       "<table border=\"1\" class=\"dataframe\">\n",
       "  <thead>\n",
       "    <tr style=\"text-align: right;\">\n",
       "      <th></th>\n",
       "      <th>Project_Title</th>\n",
       "      <th>question</th>\n",
       "      <th>ground_truth</th>\n",
       "      <th>Area</th>\n",
       "      <th>Requester</th>\n",
       "      <th>Status</th>\n",
       "      <th>id</th>\n",
       "      <th>embedding_model_prediction</th>\n",
       "      <th>retrieval_model_prediction</th>\n",
       "      <th>rag_model_prediction</th>\n",
       "    </tr>\n",
       "  </thead>\n",
       "  <tbody>\n",
       "    <tr>\n",
       "      <th>67</th>\n",
       "      <td>Gen AI-Driven Financial Advisory System</td>\n",
       "      <td>How do you ensure that your AI solutions are c...</td>\n",
       "      <td>We ensure compliance with U.S. regulations suc...</td>\n",
       "      <td>AI Regulation</td>\n",
       "      <td>Bank A</td>\n",
       "      <td>Under Review</td>\n",
       "      <td>0c9cd148-e951-4688-a51b-d687ee681db8</td>\n",
       "      <td>[0.018119888127472814, 0.012644638131052502, 0...</td>\n",
       "      <td>[Q: How do you ensure your AI solutions adhere...</td>\n",
       "      <td>We ensure compliance with U.S. regulations suc...</td>\n",
       "    </tr>\n",
       "    <tr>\n",
       "      <th>50</th>\n",
       "      <td>Gen AI-Driven Financial Advisory System</td>\n",
       "      <td>How do you approach user interface and experie...</td>\n",
       "      <td>Our design philosophy centers on simplicity an...</td>\n",
       "      <td>General</td>\n",
       "      <td>Bank A</td>\n",
       "      <td>Under Review</td>\n",
       "      <td>a7ea5a5b-3b6c-4b93-aab1-db994ff9666a</td>\n",
       "      <td>[-0.014496798833726753, 0.007063523966924967, ...</td>\n",
       "      <td>[Q: What strategies do you employ to design us...</td>\n",
       "      <td>Our approach to UI/UX design for AI-based apps...</td>\n",
       "    </tr>\n",
       "    <tr>\n",
       "      <th>63</th>\n",
       "      <td>Gen AI-Driven Financial Advisory System</td>\n",
       "      <td>How do you identify and assess AI risks in lin...</td>\n",
       "      <td>We conduct thorough assessments of AI systems ...</td>\n",
       "      <td>AI Regulation</td>\n",
       "      <td>Bank A</td>\n",
       "      <td>Under Review</td>\n",
       "      <td>50af98c2-ad52-4cc6-b5b4-ca07d386d365</td>\n",
       "      <td>[-0.018428404891334224, 0.042702173694502465, ...</td>\n",
       "      <td>[Q: How do you identify and evaluate AI risks ...</td>\n",
       "      <td>We conduct thorough assessments of AI systems ...</td>\n",
       "    </tr>\n",
       "    <tr>\n",
       "      <th>70</th>\n",
       "      <td>Implementation of AI Chatbots for Enhanced Cus...</td>\n",
       "      <td>What strategies do you employ to update your A...</td>\n",
       "      <td>We maintain a dedicated R&amp;D team focused on in...</td>\n",
       "      <td>General</td>\n",
       "      <td>Bank C</td>\n",
       "      <td>Awarded</td>\n",
       "      <td>ed4aba6c-98ef-493c-b776-c3e584cc7506</td>\n",
       "      <td>[-0.0017823046961624736, -0.007616799238713686...</td>\n",
       "      <td>[Q: How do you keep your AI applications curre...</td>\n",
       "      <td>We maintain a dedicated R&amp;D team focused on in...</td>\n",
       "    </tr>\n",
       "    <tr>\n",
       "      <th>78</th>\n",
       "      <td>Implementation of AI Chatbots for Enhanced Cus...</td>\n",
       "      <td>How are your LLMs updated to reflect new data ...</td>\n",
       "      <td>We implement advanced continuous learning mech...</td>\n",
       "      <td>Large Language Models</td>\n",
       "      <td>Bank C</td>\n",
       "      <td>Awarded</td>\n",
       "      <td>87287c8c-2f72-46e1-bbc8-5064f518654a</td>\n",
       "      <td>[-0.017693766349432666, 0.05013679809362337, 0...</td>\n",
       "      <td>[Q: How do your LLMs continuously learn and up...</td>\n",
       "      <td>We implement advanced continuous learning mech...</td>\n",
       "    </tr>\n",
       "  </tbody>\n",
       "</table>\n",
       "</div>"
      ],
      "text/plain": [
       "                                        Project_Title  \\\n",
       "67            Gen AI-Driven Financial Advisory System   \n",
       "50            Gen AI-Driven Financial Advisory System   \n",
       "63            Gen AI-Driven Financial Advisory System   \n",
       "70  Implementation of AI Chatbots for Enhanced Cus...   \n",
       "78  Implementation of AI Chatbots for Enhanced Cus...   \n",
       "\n",
       "                                             question  \\\n",
       "67  How do you ensure that your AI solutions are c...   \n",
       "50  How do you approach user interface and experie...   \n",
       "63  How do you identify and assess AI risks in lin...   \n",
       "70  What strategies do you employ to update your A...   \n",
       "78  How are your LLMs updated to reflect new data ...   \n",
       "\n",
       "                                         ground_truth                   Area  \\\n",
       "67  We ensure compliance with U.S. regulations suc...          AI Regulation   \n",
       "50  Our design philosophy centers on simplicity an...                General   \n",
       "63  We conduct thorough assessments of AI systems ...          AI Regulation   \n",
       "70  We maintain a dedicated R&D team focused on in...                General   \n",
       "78  We implement advanced continuous learning mech...  Large Language Models   \n",
       "\n",
       "   Requester        Status                                    id  \\\n",
       "67    Bank A  Under Review  0c9cd148-e951-4688-a51b-d687ee681db8   \n",
       "50    Bank A  Under Review  a7ea5a5b-3b6c-4b93-aab1-db994ff9666a   \n",
       "63    Bank A  Under Review  50af98c2-ad52-4cc6-b5b4-ca07d386d365   \n",
       "70    Bank C       Awarded  ed4aba6c-98ef-493c-b776-c3e584cc7506   \n",
       "78    Bank C       Awarded  87287c8c-2f72-46e1-bbc8-5064f518654a   \n",
       "\n",
       "                           embedding_model_prediction  \\\n",
       "67  [0.018119888127472814, 0.012644638131052502, 0...   \n",
       "50  [-0.014496798833726753, 0.007063523966924967, ...   \n",
       "63  [-0.018428404891334224, 0.042702173694502465, ...   \n",
       "70  [-0.0017823046961624736, -0.007616799238713686...   \n",
       "78  [-0.017693766349432666, 0.05013679809362337, 0...   \n",
       "\n",
       "                           retrieval_model_prediction  \\\n",
       "67  [Q: How do you ensure your AI solutions adhere...   \n",
       "50  [Q: What strategies do you employ to design us...   \n",
       "63  [Q: How do you identify and evaluate AI risks ...   \n",
       "70  [Q: How do you keep your AI applications curre...   \n",
       "78  [Q: How do your LLMs continuously learn and up...   \n",
       "\n",
       "                                 rag_model_prediction  \n",
       "67  We ensure compliance with U.S. regulations suc...  \n",
       "50  Our approach to UI/UX design for AI-based apps...  \n",
       "63  We conduct thorough assessments of AI systems ...  \n",
       "70  We maintain a dedicated R&D team focused on in...  \n",
       "78  We implement advanced continuous learning mech...  "
      ]
     },
     "execution_count": 34,
     "metadata": {},
     "output_type": "execute_result"
    }
   ],
   "source": [
    "vm_test_ds.df.head(5)"
   ]
  },
  {
   "cell_type": "markdown",
   "metadata": {},
   "source": [
    "# Run tests\n",
    "\n",
    "Let's go ahead and run some of our new RAG tests against our model...\n",
    "\n",
    "> Note: these tests are still being developed and are not yet in a stable state. We are using advanced tests here that use LLM-as-Judge and other strategies to assess things like the relevancy of the retrieved context to the input question and the correctness of the generated answer when compared to the ground truth. There is more to come in this area so stay tuned!"
   ]
  },
  {
   "cell_type": "code",
   "execution_count": 35,
   "metadata": {},
   "outputs": [],
   "source": [
    "import warnings\n",
    "\n",
    "warnings.filterwarnings(\"ignore\")"
   ]
  },
  {
   "cell_type": "markdown",
   "metadata": {},
   "source": [
    "### Answer Similarity\n",
    "\n",
    "The concept of Answer Semantic Similarity pertains to the assessment of the semantic resemblance between the generated answer and the ground truth. This evaluation is based on the ground truth and the answer, with values falling within the range of 0 to 1. A higher score signifies a better alignment between the generated answer and the ground truth.\n",
    "\n",
    "Measuring the semantic similarity between answers can offer valuable insights into the quality of the generated response. This evaluation utilizes a cross-encoder model to calculate the semantic similarity score."
   ]
  },
  {
   "cell_type": "code",
   "execution_count": 36,
   "metadata": {
    "scrolled": true
   },
   "outputs": [
    {
     "data": {
      "application/vnd.jupyter.widget-view+json": {
       "model_id": "3324fe167f254d199f8e9912beb8cac8",
       "version_major": 2,
       "version_minor": 0
      },
      "text/plain": [
       "Evaluating:   0%|          | 0/23 [00:00<?, ?it/s]"
      ]
     },
     "metadata": {},
     "output_type": "display_data"
    },
    {
     "data": {
      "application/vnd.jupyter.widget-view+json": {
       "model_id": "933364e55d2f4618950c270cfc215042",
       "version_major": 2,
       "version_minor": 0
      },
      "text/plain": [
       "VBox(children=(HTML(value='<h1>Answer Similarity</h1>'), HTML(value='<p><strong>Answer Similarity</strong> cal…"
      ]
     },
     "metadata": {},
     "output_type": "display_data"
    },
    {
     "data": {
      "text/html": [
       "\n",
       "<script defer type=\"module\">\n",
       "import hljs from 'https://unpkg.com/@highlightjs/cdn-assets@11.9.0/es/highlight.min.js';\n",
       "import python from 'https://cdnjs.cloudflare.com/ajax/libs/highlight.js/11.9.0/es/languages/python.min.js';\n",
       "\n",
       "hljs.registerLanguage('python', python);\n",
       "hljs.highlightAll();\n",
       "</script>\n"
      ],
      "text/plain": [
       "<IPython.core.display.HTML object>"
      ]
     },
     "metadata": {},
     "output_type": "display_data"
    },
    {
     "data": {
      "text/html": [
       "\n",
       "<script>\n",
       "window.MathJax = {\n",
       "    tex2jax: {\n",
       "        inlineMath: [['$', '$'], ['\\\\(', '\\\\)']],\n",
       "        displayMath: [['$$', '$$'], ['\\[', '\\]']],\n",
       "        processEscapes: true,\n",
       "        skipTags: ['script', 'noscript', 'style', 'textarea', 'pre'],\n",
       "        ignoreClass: \".*\",\n",
       "        processClass: \"math\"\n",
       "    }\n",
       "};\n",
       "setTimeout(function () {\n",
       "    var script = document.createElement('script');\n",
       "    script.type = 'text/javascript';\n",
       "    script.src = 'https://cdnjs.cloudflare.com/ajax/libs/mathjax/2.7.7/MathJax.js?config=TeX-AMS_HTML';\n",
       "    document.head.appendChild(script);\n",
       "}, 300);\n",
       "</script>\n"
      ],
      "text/plain": [
       "<IPython.core.display.HTML object>"
      ]
     },
     "metadata": {},
     "output_type": "display_data"
    },
    {
     "name": "stderr",
     "output_type": "stream",
     "text": [
      "2024-06-12 12:59:31,376 - WARNING(validmind.vm_models.test.result_wrapper): Sensitive data in metric summary table. Not logging to API automatically. Pass `unsafe=True` to result.log() method to override manually.\n",
      "2024-06-12 12:59:31,377 - WARNING(validmind.vm_models.test.result_wrapper): The following columns are present in the table: {'ground_truth', 'answer_similarity', 'answer'} and also present in the dataset: {'id', 'ground_truth', 'embedding_model_prediction', 'question', 'Requester', 'rag_model_prediction', 'retrieval_model_prediction', 'Area', 'Status', 'Project_Title'}\n"
     ]
    }
   ],
   "source": [
    "run_test(\n",
    "    \"validmind.model_validation.ragas.AnswerSimilarity\",\n",
    "    inputs={\"dataset\": vm_test_ds},\n",
    "    params={\n",
    "        \"question_column\": \"question\",\n",
    "        \"answer_column\": \"rag_model_prediction\",\n",
    "        \"ground_truth_column\": \"ground_truth\",\n",
    "        \"contexts_column\": \"retrieval_model_prediction\",\n",
    "    },\n",
    ").log()"
   ]
  },
  {
   "cell_type": "markdown",
   "metadata": {},
   "source": [
    "### Context Entity Recall\n",
    "\n",
    "This test gives the measure of recall of the retrieved context, based on the number of entities present in both ground_truths and contexts relative to the number of entities present in the ground_truths alone. Simply put, it is a measure of what fraction of entities are recalled from ground_truths. This test is useful in fact-based use cases like tourism help desk, historical QA, etc. This test can help evaluate the retrieval mechanism for entities, based on comparison with entities present in ground_truths, because in cases where entities matter, we need the contexts which cover them."
   ]
  },
  {
   "cell_type": "code",
   "execution_count": 37,
   "metadata": {},
   "outputs": [
    {
     "data": {
      "application/vnd.jupyter.widget-view+json": {
       "model_id": "c12efdcca2f8400286c001acac4033ff",
       "version_major": 2,
       "version_minor": 0
      },
      "text/plain": [
       "Evaluating:   0%|          | 0/23 [00:00<?, ?it/s]"
      ]
     },
     "metadata": {},
     "output_type": "display_data"
    },
    {
     "data": {
      "application/vnd.jupyter.widget-view+json": {
       "model_id": "9b4a7b9f7ffb4aec845a106d9b646578",
       "version_major": 2,
       "version_minor": 0
      },
      "text/plain": [
       "VBox(children=(HTML(value='<h1>Context Entity Recall</h1>'), HTML(value=\"<p><strong>Context Entity Recall</str…"
      ]
     },
     "metadata": {},
     "output_type": "display_data"
    },
    {
     "data": {
      "text/html": [
       "\n",
       "<script defer type=\"module\">\n",
       "import hljs from 'https://unpkg.com/@highlightjs/cdn-assets@11.9.0/es/highlight.min.js';\n",
       "import python from 'https://cdnjs.cloudflare.com/ajax/libs/highlight.js/11.9.0/es/languages/python.min.js';\n",
       "\n",
       "hljs.registerLanguage('python', python);\n",
       "hljs.highlightAll();\n",
       "</script>\n"
      ],
      "text/plain": [
       "<IPython.core.display.HTML object>"
      ]
     },
     "metadata": {},
     "output_type": "display_data"
    },
    {
     "data": {
      "text/html": [
       "\n",
       "<script>\n",
       "window.MathJax = {\n",
       "    tex2jax: {\n",
       "        inlineMath: [['$', '$'], ['\\\\(', '\\\\)']],\n",
       "        displayMath: [['$$', '$$'], ['\\[', '\\]']],\n",
       "        processEscapes: true,\n",
       "        skipTags: ['script', 'noscript', 'style', 'textarea', 'pre'],\n",
       "        ignoreClass: \".*\",\n",
       "        processClass: \"math\"\n",
       "    }\n",
       "};\n",
       "setTimeout(function () {\n",
       "    var script = document.createElement('script');\n",
       "    script.type = 'text/javascript';\n",
       "    script.src = 'https://cdnjs.cloudflare.com/ajax/libs/mathjax/2.7.7/MathJax.js?config=TeX-AMS_HTML';\n",
       "    document.head.appendChild(script);\n",
       "}, 300);\n",
       "</script>\n"
      ],
      "text/plain": [
       "<IPython.core.display.HTML object>"
      ]
     },
     "metadata": {},
     "output_type": "display_data"
    },
    {
     "name": "stderr",
     "output_type": "stream",
     "text": [
      "2024-06-12 12:59:54,376 - WARNING(validmind.vm_models.test.result_wrapper): Sensitive data in metric summary table. Not logging to API automatically. Pass `unsafe=True` to result.log() method to override manually.\n",
      "2024-06-12 12:59:54,377 - WARNING(validmind.vm_models.test.result_wrapper): The following columns are present in the table: {'ground_truth', 'context_entity_recall', 'contexts'} and also present in the dataset: {'id', 'ground_truth', 'embedding_model_prediction', 'question', 'Requester', 'rag_model_prediction', 'retrieval_model_prediction', 'Area', 'Status', 'Project_Title'}\n"
     ]
    }
   ],
   "source": [
    "result = run_test(\n",
    "    \"validmind.model_validation.ragas.ContextEntityRecall\",\n",
    "    inputs={\"dataset\": vm_test_ds},\n",
    "    params={\n",
    "        \"question_column\": \"question\",\n",
    "        \"answer_column\": \"rag_model_prediction\",\n",
    "        \"ground_truth_column\": \"ground_truth\",\n",
    "        \"contexts_column\": \"retrieval_model_prediction\",\n",
    "    },\n",
    ")\n",
    "result.log()"
   ]
  },
  {
   "cell_type": "markdown",
   "metadata": {},
   "source": [
    "### Context Precision\n",
    "\n",
    "Context Precision is a test that evaluates whether all of the ground-truth relevant items present in the contexts are ranked higher or not. Ideally all the relevant chunks must appear at the top ranks. This test is computed using the question, ground_truth and the contexts, with values ranging between 0 and 1, where higher scores indicate better precision."
   ]
  },
  {
   "cell_type": "code",
   "execution_count": 38,
   "metadata": {},
   "outputs": [
    {
     "data": {
      "application/vnd.jupyter.widget-view+json": {
       "model_id": "d3da3dc7457449e9aceca77ea935a4e1",
       "version_major": 2,
       "version_minor": 0
      },
      "text/plain": [
       "Evaluating:   0%|          | 0/23 [00:00<?, ?it/s]"
      ]
     },
     "metadata": {},
     "output_type": "display_data"
    },
    {
     "data": {
      "application/vnd.jupyter.widget-view+json": {
       "model_id": "71d8c3addf34484cb690e10c2b12a471",
       "version_major": 2,
       "version_minor": 0
      },
      "text/plain": [
       "VBox(children=(HTML(value='<h1>Context Precision</h1>'), HTML(value=\"<p><strong>Context Precision</strong> cal…"
      ]
     },
     "metadata": {},
     "output_type": "display_data"
    },
    {
     "data": {
      "text/html": [
       "\n",
       "<script defer type=\"module\">\n",
       "import hljs from 'https://unpkg.com/@highlightjs/cdn-assets@11.9.0/es/highlight.min.js';\n",
       "import python from 'https://cdnjs.cloudflare.com/ajax/libs/highlight.js/11.9.0/es/languages/python.min.js';\n",
       "\n",
       "hljs.registerLanguage('python', python);\n",
       "hljs.highlightAll();\n",
       "</script>\n"
      ],
      "text/plain": [
       "<IPython.core.display.HTML object>"
      ]
     },
     "metadata": {},
     "output_type": "display_data"
    },
    {
     "data": {
      "text/html": [
       "\n",
       "<script>\n",
       "window.MathJax = {\n",
       "    tex2jax: {\n",
       "        inlineMath: [['$', '$'], ['\\\\(', '\\\\)']],\n",
       "        displayMath: [['$$', '$$'], ['\\[', '\\]']],\n",
       "        processEscapes: true,\n",
       "        skipTags: ['script', 'noscript', 'style', 'textarea', 'pre'],\n",
       "        ignoreClass: \".*\",\n",
       "        processClass: \"math\"\n",
       "    }\n",
       "};\n",
       "setTimeout(function () {\n",
       "    var script = document.createElement('script');\n",
       "    script.type = 'text/javascript';\n",
       "    script.src = 'https://cdnjs.cloudflare.com/ajax/libs/mathjax/2.7.7/MathJax.js?config=TeX-AMS_HTML';\n",
       "    document.head.appendChild(script);\n",
       "}, 300);\n",
       "</script>\n"
      ],
      "text/plain": [
       "<IPython.core.display.HTML object>"
      ]
     },
     "metadata": {},
     "output_type": "display_data"
    },
    {
     "name": "stderr",
     "output_type": "stream",
     "text": [
      "2024-06-12 13:00:20,881 - WARNING(validmind.vm_models.test.result_wrapper): Sensitive data in metric summary table. Not logging to API automatically. Pass `unsafe=True` to result.log() method to override manually.\n",
      "2024-06-12 13:00:20,881 - WARNING(validmind.vm_models.test.result_wrapper): The following columns are present in the table: {'ground_truth', 'question', 'context_precision', 'contexts'} and also present in the dataset: {'id', 'ground_truth', 'embedding_model_prediction', 'question', 'Requester', 'rag_model_prediction', 'retrieval_model_prediction', 'Area', 'Status', 'Project_Title'}\n"
     ]
    }
   ],
   "source": [
    "result = run_test(\n",
    "    \"validmind.model_validation.ragas.ContextPrecision\",\n",
    "    inputs={\"dataset\": vm_test_ds},\n",
    "    params={\n",
    "        \"question_column\": \"question\",\n",
    "        \"answer_column\": \"rag_model_prediction\",\n",
    "        \"ground_truth_column\": \"ground_truth\",\n",
    "        \"contexts_column\": \"retrieval_model_prediction\",\n",
    "    },\n",
    ")\n",
    "result.log()"
   ]
  },
  {
   "cell_type": "markdown",
   "metadata": {},
   "source": [
    "### Context Relevancy\n",
    "\n",
    "This test gauges the relevancy of the retrieved context, calculated based on both the question and contexts. The values fall within the range of (0, 1), with higher values indicating better relevancy.\n",
    "\n",
    "Ideally, the retrieved context should exclusively contain essential information to address the provided query. To compute this, we initially estimate the value of by identifying sentences within the retrieved context that are relevant for answering the given question."
   ]
  },
  {
   "cell_type": "code",
   "execution_count": 39,
   "metadata": {},
   "outputs": [
    {
     "data": {
      "application/vnd.jupyter.widget-view+json": {
       "model_id": "ec01be92e6bb48c3b7e013a041ea88f1",
       "version_major": 2,
       "version_minor": 0
      },
      "text/plain": [
       "Evaluating:   0%|          | 0/23 [00:00<?, ?it/s]"
      ]
     },
     "metadata": {},
     "output_type": "display_data"
    },
    {
     "data": {
      "application/vnd.jupyter.widget-view+json": {
       "model_id": "a639148c2f3645d5ab0c0794fad78096",
       "version_major": 2,
       "version_minor": 0
      },
      "text/plain": [
       "VBox(children=(HTML(value='<h1>Context Relevancy</h1>'), HTML(value='<p><strong>Context Relevancy</strong> cal…"
      ]
     },
     "metadata": {},
     "output_type": "display_data"
    },
    {
     "data": {
      "text/html": [
       "\n",
       "<script defer type=\"module\">\n",
       "import hljs from 'https://unpkg.com/@highlightjs/cdn-assets@11.9.0/es/highlight.min.js';\n",
       "import python from 'https://cdnjs.cloudflare.com/ajax/libs/highlight.js/11.9.0/es/languages/python.min.js';\n",
       "\n",
       "hljs.registerLanguage('python', python);\n",
       "hljs.highlightAll();\n",
       "</script>\n"
      ],
      "text/plain": [
       "<IPython.core.display.HTML object>"
      ]
     },
     "metadata": {},
     "output_type": "display_data"
    },
    {
     "data": {
      "text/html": [
       "\n",
       "<script>\n",
       "window.MathJax = {\n",
       "    tex2jax: {\n",
       "        inlineMath: [['$', '$'], ['\\\\(', '\\\\)']],\n",
       "        displayMath: [['$$', '$$'], ['\\[', '\\]']],\n",
       "        processEscapes: true,\n",
       "        skipTags: ['script', 'noscript', 'style', 'textarea', 'pre'],\n",
       "        ignoreClass: \".*\",\n",
       "        processClass: \"math\"\n",
       "    }\n",
       "};\n",
       "setTimeout(function () {\n",
       "    var script = document.createElement('script');\n",
       "    script.type = 'text/javascript';\n",
       "    script.src = 'https://cdnjs.cloudflare.com/ajax/libs/mathjax/2.7.7/MathJax.js?config=TeX-AMS_HTML';\n",
       "    document.head.appendChild(script);\n",
       "}, 300);\n",
       "</script>\n"
      ],
      "text/plain": [
       "<IPython.core.display.HTML object>"
      ]
     },
     "metadata": {},
     "output_type": "display_data"
    },
    {
     "name": "stderr",
     "output_type": "stream",
     "text": [
      "2024-06-12 13:00:40,632 - WARNING(validmind.vm_models.test.result_wrapper): Sensitive data in metric summary table. Not logging to API automatically. Pass `unsafe=True` to result.log() method to override manually.\n",
      "2024-06-12 13:00:40,633 - WARNING(validmind.vm_models.test.result_wrapper): The following columns are present in the table: {'context_relevancy', 'question', 'contexts'} and also present in the dataset: {'id', 'ground_truth', 'embedding_model_prediction', 'question', 'Requester', 'rag_model_prediction', 'retrieval_model_prediction', 'Area', 'Status', 'Project_Title'}\n"
     ]
    }
   ],
   "source": [
    "result = run_test(\n",
    "    \"validmind.model_validation.ragas.ContextRelevancy\",\n",
    "    inputs={\"dataset\": vm_test_ds},\n",
    "    params={\n",
    "        \"question_column\": \"question\",\n",
    "        \"answer_column\": \"rag_model_prediction\",\n",
    "        \"ground_truth_column\": \"ground_truth\",\n",
    "        \"contexts_column\": \"retrieval_model_prediction\",\n",
    "    },\n",
    ")\n",
    "result.log()"
   ]
  },
  {
   "cell_type": "markdown",
   "metadata": {},
   "source": [
    "### Faithfulness\n",
    "\n",
    "This measures the factual consistency of the generated answer against the given context. It is calculated from answer and retrieved context. The answer is scaled to (0,1) range. Higher the better.\n",
    "\n",
    "The generated answer is regarded as faithful if all the claims that are made in the answer can be inferred from the given context. To calculate this a set of claims from the generated answer is first identified. Then each one of these claims are cross checked with given context to determine if it can be inferred from given context or not."
   ]
  },
  {
   "cell_type": "code",
   "execution_count": 40,
   "metadata": {},
   "outputs": [
    {
     "data": {
      "application/vnd.jupyter.widget-view+json": {
       "model_id": "70eb34a7f4094c2195f109e688bbd131",
       "version_major": 2,
       "version_minor": 0
      },
      "text/plain": [
       "Evaluating:   0%|          | 0/23 [00:00<?, ?it/s]"
      ]
     },
     "metadata": {},
     "output_type": "display_data"
    },
    {
     "data": {
      "application/vnd.jupyter.widget-view+json": {
       "model_id": "2282505f94ee48229e968601b040780c",
       "version_major": 2,
       "version_minor": 0
      },
      "text/plain": [
       "VBox(children=(HTML(value='<h1>Faithfulness</h1>'), HTML(value=\"<p><strong>Faithfulness</strong> evaluates the…"
      ]
     },
     "metadata": {},
     "output_type": "display_data"
    },
    {
     "data": {
      "text/html": [
       "\n",
       "<script defer type=\"module\">\n",
       "import hljs from 'https://unpkg.com/@highlightjs/cdn-assets@11.9.0/es/highlight.min.js';\n",
       "import python from 'https://cdnjs.cloudflare.com/ajax/libs/highlight.js/11.9.0/es/languages/python.min.js';\n",
       "\n",
       "hljs.registerLanguage('python', python);\n",
       "hljs.highlightAll();\n",
       "</script>\n"
      ],
      "text/plain": [
       "<IPython.core.display.HTML object>"
      ]
     },
     "metadata": {},
     "output_type": "display_data"
    },
    {
     "data": {
      "text/html": [
       "\n",
       "<script>\n",
       "window.MathJax = {\n",
       "    tex2jax: {\n",
       "        inlineMath: [['$', '$'], ['\\\\(', '\\\\)']],\n",
       "        displayMath: [['$$', '$$'], ['\\[', '\\]']],\n",
       "        processEscapes: true,\n",
       "        skipTags: ['script', 'noscript', 'style', 'textarea', 'pre'],\n",
       "        ignoreClass: \".*\",\n",
       "        processClass: \"math\"\n",
       "    }\n",
       "};\n",
       "setTimeout(function () {\n",
       "    var script = document.createElement('script');\n",
       "    script.type = 'text/javascript';\n",
       "    script.src = 'https://cdnjs.cloudflare.com/ajax/libs/mathjax/2.7.7/MathJax.js?config=TeX-AMS_HTML';\n",
       "    document.head.appendChild(script);\n",
       "}, 300);\n",
       "</script>\n"
      ],
      "text/plain": [
       "<IPython.core.display.HTML object>"
      ]
     },
     "metadata": {},
     "output_type": "display_data"
    }
   ],
   "source": [
    "result = run_test(\n",
    "    \"validmind.model_validation.ragas.Faithfulness\",\n",
    "    inputs={\"dataset\": vm_test_ds},\n",
    "    params={\n",
    "        \"question_column\": \"question\",\n",
    "        \"answer_column\": \"rag_model_prediction\",\n",
    "        \"ground_truth_column\": \"ground_truth\",\n",
    "        \"contexts_column\": \"retrieval_model_prediction\",\n",
    "    },\n",
    ")\n",
    "result.log()"
   ]
  },
  {
   "cell_type": "markdown",
   "metadata": {},
   "source": [
    "### Answer Relevance\n",
    "\n",
    "The Answer Relevancy test, focuses on assessing how pertinent the generated answer is to the given prompt. A lower score is assigned to answers that are incomplete or contain redundant information and higher scores indicate better relevancy. This test is computed using the question, the context and the answer.\n",
    "\n",
    "The Answer Relevancy is defined as the mean cosine similartiy of the original question to a number of artifical questions, which where generated (reverse engineered) based on the answer.\n",
    "\n",
    "Please note, that eventhough in practice the score will range between 0 and 1 most of the time, this is not mathematically guranteed, due to the nature of the cosine similarity ranging from -1 to 1.\n",
    "\n",
    "> Note: This is a reference free test. If you’re looking to compare ground truth answer with generated answer refer to Answer Correctness.\n",
    "\n",
    "An answer is deemed relevant when it directly and appropriately addresses the original question. Importantly, our assessment of answer relevance does not consider factuality but instead penalizes cases where the answer lacks completeness or contains redundant details. To calculate this score, the LLM is prompted to generate an appropriate question for the generated answer multiple times, and the mean cosine similarity between these generated questions and the original question is measured. The underlying idea is that if the generated answer accurately addresses the initial question, the LLM should be able to generate questions from the answer that align with the original question."
   ]
  },
  {
   "cell_type": "code",
   "execution_count": 41,
   "metadata": {},
   "outputs": [
    {
     "data": {
      "application/vnd.jupyter.widget-view+json": {
       "model_id": "7059fce5b5404b11ac328442805ae2a8",
       "version_major": 2,
       "version_minor": 0
      },
      "text/plain": [
       "Evaluating:   0%|          | 0/23 [00:00<?, ?it/s]"
      ]
     },
     "metadata": {},
     "output_type": "display_data"
    },
    {
     "data": {
      "application/vnd.jupyter.widget-view+json": {
       "model_id": "968baef5e94e423f91be29dfa9c5850e",
       "version_major": 2,
       "version_minor": 0
      },
      "text/plain": [
       "VBox(children=(HTML(value='<h1>Answer Relevance</h1>'), HTML(value=\"<p><strong>Answer Relevance</strong> calcu…"
      ]
     },
     "metadata": {},
     "output_type": "display_data"
    },
    {
     "data": {
      "text/html": [
       "\n",
       "<script defer type=\"module\">\n",
       "import hljs from 'https://unpkg.com/@highlightjs/cdn-assets@11.9.0/es/highlight.min.js';\n",
       "import python from 'https://cdnjs.cloudflare.com/ajax/libs/highlight.js/11.9.0/es/languages/python.min.js';\n",
       "\n",
       "hljs.registerLanguage('python', python);\n",
       "hljs.highlightAll();\n",
       "</script>\n"
      ],
      "text/plain": [
       "<IPython.core.display.HTML object>"
      ]
     },
     "metadata": {},
     "output_type": "display_data"
    },
    {
     "data": {
      "text/html": [
       "\n",
       "<script>\n",
       "window.MathJax = {\n",
       "    tex2jax: {\n",
       "        inlineMath: [['$', '$'], ['\\\\(', '\\\\)']],\n",
       "        displayMath: [['$$', '$$'], ['\\[', '\\]']],\n",
       "        processEscapes: true,\n",
       "        skipTags: ['script', 'noscript', 'style', 'textarea', 'pre'],\n",
       "        ignoreClass: \".*\",\n",
       "        processClass: \"math\"\n",
       "    }\n",
       "};\n",
       "setTimeout(function () {\n",
       "    var script = document.createElement('script');\n",
       "    script.type = 'text/javascript';\n",
       "    script.src = 'https://cdnjs.cloudflare.com/ajax/libs/mathjax/2.7.7/MathJax.js?config=TeX-AMS_HTML';\n",
       "    document.head.appendChild(script);\n",
       "}, 300);\n",
       "</script>\n"
      ],
      "text/plain": [
       "<IPython.core.display.HTML object>"
      ]
     },
     "metadata": {},
     "output_type": "display_data"
    },
    {
     "name": "stderr",
     "output_type": "stream",
     "text": [
      "2024-06-12 13:01:52,313 - WARNING(validmind.vm_models.test.result_wrapper): Sensitive data in metric summary table. Not logging to API automatically. Pass `unsafe=True` to result.log() method to override manually.\n",
      "2024-06-12 13:01:52,314 - WARNING(validmind.vm_models.test.result_wrapper): The following columns are present in the table: {'question', 'answer_relevancy', 'answer', 'contexts'} and also present in the dataset: {'id', 'ground_truth', 'embedding_model_prediction', 'question', 'Requester', 'rag_model_prediction', 'retrieval_model_prediction', 'Area', 'Status', 'Project_Title'}\n"
     ]
    }
   ],
   "source": [
    "result = run_test(\n",
    "    \"validmind.model_validation.ragas.AnswerRelevance\",\n",
    "    inputs={\"dataset\": vm_test_ds},\n",
    "    params={\n",
    "        \"question_column\": \"question\",\n",
    "        \"answer_column\": \"rag_model_prediction\",\n",
    "        \"ground_truth_column\": \"ground_truth\",\n",
    "        \"contexts_column\": \"retrieval_model_prediction\",\n",
    "    },\n",
    ")\n",
    "result.log()"
   ]
  },
  {
   "cell_type": "markdown",
   "metadata": {},
   "source": [
    "### Context Recall\n",
    "\n",
    "Context recall measures the extent to which the retrieved context aligns with the annotated answer, treated as the ground truth. It is computed based on the ground truth and the retrieved context, and the values range between 0 and 1, with higher values indicating better performance.\n",
    "\n",
    "To estimate context recall from the ground truth answer, each sentence in the ground truth answer is analyzed to determine whether it can be attributed to the retrieved context or not. In an ideal scenario, all sentences in the ground truth answer should be attributable to the retrieved context."
   ]
  },
  {
   "cell_type": "code",
   "execution_count": 42,
   "metadata": {},
   "outputs": [
    {
     "data": {
      "application/vnd.jupyter.widget-view+json": {
       "model_id": "18a8b32efee04c8c9a3f5d5c71bb5ec9",
       "version_major": 2,
       "version_minor": 0
      },
      "text/plain": [
       "Evaluating:   0%|          | 0/23 [00:00<?, ?it/s]"
      ]
     },
     "metadata": {},
     "output_type": "display_data"
    },
    {
     "data": {
      "application/vnd.jupyter.widget-view+json": {
       "model_id": "76b2f4084a6846ee89b27e5986e199c5",
       "version_major": 2,
       "version_minor": 0
      },
      "text/plain": [
       "VBox(children=(HTML(value='<h1>Context Recall</h1>'), HTML(value='<p><strong>Context Recall</strong> calculate…"
      ]
     },
     "metadata": {},
     "output_type": "display_data"
    },
    {
     "data": {
      "text/html": [
       "\n",
       "<script defer type=\"module\">\n",
       "import hljs from 'https://unpkg.com/@highlightjs/cdn-assets@11.9.0/es/highlight.min.js';\n",
       "import python from 'https://cdnjs.cloudflare.com/ajax/libs/highlight.js/11.9.0/es/languages/python.min.js';\n",
       "\n",
       "hljs.registerLanguage('python', python);\n",
       "hljs.highlightAll();\n",
       "</script>\n"
      ],
      "text/plain": [
       "<IPython.core.display.HTML object>"
      ]
     },
     "metadata": {},
     "output_type": "display_data"
    },
    {
     "data": {
      "text/html": [
       "\n",
       "<script>\n",
       "window.MathJax = {\n",
       "    tex2jax: {\n",
       "        inlineMath: [['$', '$'], ['\\\\(', '\\\\)']],\n",
       "        displayMath: [['$$', '$$'], ['\\[', '\\]']],\n",
       "        processEscapes: true,\n",
       "        skipTags: ['script', 'noscript', 'style', 'textarea', 'pre'],\n",
       "        ignoreClass: \".*\",\n",
       "        processClass: \"math\"\n",
       "    }\n",
       "};\n",
       "setTimeout(function () {\n",
       "    var script = document.createElement('script');\n",
       "    script.type = 'text/javascript';\n",
       "    script.src = 'https://cdnjs.cloudflare.com/ajax/libs/mathjax/2.7.7/MathJax.js?config=TeX-AMS_HTML';\n",
       "    document.head.appendChild(script);\n",
       "}, 300);\n",
       "</script>\n"
      ],
      "text/plain": [
       "<IPython.core.display.HTML object>"
      ]
     },
     "metadata": {},
     "output_type": "display_data"
    },
    {
     "name": "stderr",
     "output_type": "stream",
     "text": [
      "2024-06-12 13:02:24,852 - WARNING(validmind.vm_models.test.result_wrapper): Sensitive data in metric summary table. Not logging to API automatically. Pass `unsafe=True` to result.log() method to override manually.\n",
      "2024-06-12 13:02:24,855 - WARNING(validmind.vm_models.test.result_wrapper): The following columns are present in the table: {'ground_truth', 'question', 'context_recall', 'contexts'} and also present in the dataset: {'id', 'ground_truth', 'embedding_model_prediction', 'question', 'Requester', 'rag_model_prediction', 'retrieval_model_prediction', 'Area', 'Status', 'Project_Title'}\n"
     ]
    }
   ],
   "source": [
    "result = run_test(\n",
    "    \"validmind.model_validation.ragas.ContextRecall\",\n",
    "    inputs={\"dataset\": vm_test_ds},\n",
    "    params={\n",
    "        \"question_column\": \"question\",\n",
    "        \"answer_column\": \"rag_model_prediction\",\n",
    "        \"ground_truth_column\": \"ground_truth\",\n",
    "        \"contexts_column\": \"retrieval_model_prediction\",\n",
    "    },\n",
    ")\n",
    "result.log()"
   ]
  },
  {
   "cell_type": "markdown",
   "metadata": {},
   "source": [
    "### Answer Correctness\n",
    "\n",
    "The assessment of Answer Correctness involves gauging the accuracy of the generated answer when compared to the ground truth. This evaluation relies on the ground truth and the answer, with scores ranging from 0 to 1. A higher score indicates a closer alignment between the generated answer and the ground truth, signifying better correctness.\n",
    "\n",
    "Answer correctness encompasses two critical aspects: semantic similarity between the generated answer and the ground truth, as well as factual similarity. These aspects are combined using a weighted scheme to formulate the answer correctness score.\n",
    "\n",
    "Factual correctness quantifies the factual overlap between the generated answer and the ground truth answer. This is done using the concepts of:\n",
    "\n",
    "- TP (True Positive): Facts or statements that are present in both the ground truth and the generated answer.\n",
    "- FP (False Positive): Facts or statements that are present in the generated answer but not in the ground truth.\n",
    "- FN (False Negative): Facts or statements that are present in the ground truth but not in the generated answer."
   ]
  },
  {
   "cell_type": "code",
   "execution_count": 43,
   "metadata": {},
   "outputs": [
    {
     "data": {
      "application/vnd.jupyter.widget-view+json": {
       "model_id": "994e5785f02048359a56b3d086c1c2eb",
       "version_major": 2,
       "version_minor": 0
      },
      "text/plain": [
       "Evaluating:   0%|          | 0/23 [00:00<?, ?it/s]"
      ]
     },
     "metadata": {},
     "output_type": "display_data"
    },
    {
     "data": {
      "application/vnd.jupyter.widget-view+json": {
       "model_id": "38bf89d5883943368112c5b6484b6d8b",
       "version_major": 2,
       "version_minor": 0
      },
      "text/plain": [
       "VBox(children=(HTML(value='<h1>Answer Correctness</h1>'), HTML(value=\"<p><strong>Answer Correctness</strong> e…"
      ]
     },
     "metadata": {},
     "output_type": "display_data"
    },
    {
     "data": {
      "text/html": [
       "\n",
       "<script defer type=\"module\">\n",
       "import hljs from 'https://unpkg.com/@highlightjs/cdn-assets@11.9.0/es/highlight.min.js';\n",
       "import python from 'https://cdnjs.cloudflare.com/ajax/libs/highlight.js/11.9.0/es/languages/python.min.js';\n",
       "\n",
       "hljs.registerLanguage('python', python);\n",
       "hljs.highlightAll();\n",
       "</script>\n"
      ],
      "text/plain": [
       "<IPython.core.display.HTML object>"
      ]
     },
     "metadata": {},
     "output_type": "display_data"
    },
    {
     "data": {
      "text/html": [
       "\n",
       "<script>\n",
       "window.MathJax = {\n",
       "    tex2jax: {\n",
       "        inlineMath: [['$', '$'], ['\\\\(', '\\\\)']],\n",
       "        displayMath: [['$$', '$$'], ['\\[', '\\]']],\n",
       "        processEscapes: true,\n",
       "        skipTags: ['script', 'noscript', 'style', 'textarea', 'pre'],\n",
       "        ignoreClass: \".*\",\n",
       "        processClass: \"math\"\n",
       "    }\n",
       "};\n",
       "setTimeout(function () {\n",
       "    var script = document.createElement('script');\n",
       "    script.type = 'text/javascript';\n",
       "    script.src = 'https://cdnjs.cloudflare.com/ajax/libs/mathjax/2.7.7/MathJax.js?config=TeX-AMS_HTML';\n",
       "    document.head.appendChild(script);\n",
       "}, 300);\n",
       "</script>\n"
      ],
      "text/plain": [
       "<IPython.core.display.HTML object>"
      ]
     },
     "metadata": {},
     "output_type": "display_data"
    },
    {
     "name": "stderr",
     "output_type": "stream",
     "text": [
      "2024-06-12 13:02:47,361 - WARNING(validmind.vm_models.test.result_wrapper): Sensitive data in metric summary table. Not logging to API automatically. Pass `unsafe=True` to result.log() method to override manually.\n",
      "2024-06-12 13:02:47,361 - WARNING(validmind.vm_models.test.result_wrapper): The following columns are present in the table: {'ground_truth', 'question', 'answer_correctness', 'answer'} and also present in the dataset: {'id', 'ground_truth', 'embedding_model_prediction', 'question', 'Requester', 'rag_model_prediction', 'retrieval_model_prediction', 'Area', 'Status', 'Project_Title'}\n"
     ]
    }
   ],
   "source": [
    "result = run_test(\n",
    "    \"validmind.model_validation.ragas.AnswerCorrectness\",\n",
    "    inputs={\"dataset\": vm_test_ds},\n",
    "    params={\n",
    "        \"question_column\": \"question\",\n",
    "        \"answer_column\": \"rag_model_prediction\",\n",
    "        \"ground_truth_column\": \"ground_truth\",\n",
    "        \"contexts_column\": \"retrieval_model_prediction\",\n",
    "    },\n",
    ")\n",
    "result.log()"
   ]
  },
  {
   "cell_type": "markdown",
   "metadata": {},
   "source": [
    "### Aspect Critique\n",
    "\n",
    "This is designed to assess submissions based on predefined aspects such as harmlessness and correctness. Additionally, users have the flexibility to define their own aspects for evaluating submissions according to their specific criteria. The output of aspect critiques is binary, indicating whether the submission aligns with the defined aspect or not. This evaluation is performed using the ‘answer’ as input.\n",
    "\n",
    "Critiques within the LLM evaluators evaluate submissions based on the provided aspect. Ragas Critiques offers a range of predefined aspects like correctness, harmfulness, etc. Users can also define their own aspects for evaluating submissions based on their specific criteria. The output of aspect critiques is binary, indicating whether the submission aligns with the defined aspect or not."
   ]
  },
  {
   "cell_type": "code",
   "execution_count": 44,
   "metadata": {},
   "outputs": [
    {
     "data": {
      "application/vnd.jupyter.widget-view+json": {
       "model_id": "c4a11ccab7064558917b57aba3b1dccc",
       "version_major": 2,
       "version_minor": 0
      },
      "text/plain": [
       "Evaluating:   0%|          | 0/115 [00:00<?, ?it/s]"
      ]
     },
     "metadata": {},
     "output_type": "display_data"
    },
    {
     "data": {
      "application/vnd.jupyter.widget-view+json": {
       "model_id": "2b45d911cc0f4029980ec41ec9f3963a",
       "version_major": 2,
       "version_minor": 0
      },
      "text/plain": [
       "VBox(children=(HTML(value='<h1>Aspect Critique</h1>'), HTML(value='<p><strong>Aspect Critique</strong> evaluat…"
      ]
     },
     "metadata": {},
     "output_type": "display_data"
    },
    {
     "data": {
      "text/html": [
       "\n",
       "<script defer type=\"module\">\n",
       "import hljs from 'https://unpkg.com/@highlightjs/cdn-assets@11.9.0/es/highlight.min.js';\n",
       "import python from 'https://cdnjs.cloudflare.com/ajax/libs/highlight.js/11.9.0/es/languages/python.min.js';\n",
       "\n",
       "hljs.registerLanguage('python', python);\n",
       "hljs.highlightAll();\n",
       "</script>\n"
      ],
      "text/plain": [
       "<IPython.core.display.HTML object>"
      ]
     },
     "metadata": {},
     "output_type": "display_data"
    },
    {
     "data": {
      "text/html": [
       "\n",
       "<script>\n",
       "window.MathJax = {\n",
       "    tex2jax: {\n",
       "        inlineMath: [['$', '$'], ['\\\\(', '\\\\)']],\n",
       "        displayMath: [['$$', '$$'], ['\\[', '\\]']],\n",
       "        processEscapes: true,\n",
       "        skipTags: ['script', 'noscript', 'style', 'textarea', 'pre'],\n",
       "        ignoreClass: \".*\",\n",
       "        processClass: \"math\"\n",
       "    }\n",
       "};\n",
       "setTimeout(function () {\n",
       "    var script = document.createElement('script');\n",
       "    script.type = 'text/javascript';\n",
       "    script.src = 'https://cdnjs.cloudflare.com/ajax/libs/mathjax/2.7.7/MathJax.js?config=TeX-AMS_HTML';\n",
       "    document.head.appendChild(script);\n",
       "}, 300);\n",
       "</script>\n"
      ],
      "text/plain": [
       "<IPython.core.display.HTML object>"
      ]
     },
     "metadata": {},
     "output_type": "display_data"
    }
   ],
   "source": [
    "result = run_test(\n",
    "    \"validmind.model_validation.ragas.AspectCritique\",\n",
    "    inputs={\"dataset\": vm_test_ds},\n",
    "    params={\n",
    "        \"question_column\": \"question\",\n",
    "        \"answer_column\": \"rag_model_prediction\",\n",
    "        \"ground_truth_column\": \"ground_truth\",\n",
    "        \"contexts_column\": \"retrieval_model_prediction\",\n",
    "    },\n",
    ")\n",
    "result.log()"
   ]
  },
  {
   "cell_type": "markdown",
   "metadata": {},
   "source": [
    "# Conclusion\n",
    "\n",
    "In this notebook, we have seen how we can use LangChain and ValidMind together to build, evaluate and document a simple RAG Model as its developed. This is a great example of the interactive development experience that ValidMind is designed to support. We can quickly iterate on our model and document as we go... We have seen how ValidMind supports non-traditional \"models\" using a functional interface and how we can build pipelines of many models to support complex GenAI workflows.\n",
    "\n",
    "This is still a work in progress and we are actively developing new tests to support more advanced GenAI workflows. We are also keeping an eye on the most popular GenAI models and libraries to explore direct integrations. Stay tuned for more updates and new features in this area!"
   ]
  }
 ],
 "metadata": {
  "kernelspec": {
   "display_name": "Python 3 (ipykernel)",
   "language": "python",
   "name": "python3"
  },
  "language_info": {
   "codemirror_mode": {
    "name": "ipython",
    "version": 3
   },
   "file_extension": ".py",
   "mimetype": "text/x-python",
   "name": "python",
   "nbconvert_exporter": "python",
   "pygments_lexer": "ipython3",
   "version": "3.11.5"
  }
 },
 "nbformat": 4,
 "nbformat_minor": 4
}
