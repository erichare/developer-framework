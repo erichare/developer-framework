{
    "cells": [
        {
            "attachments": {},
            "cell_type": "markdown",
            "metadata": {
                "id": "ZnZV4XfHSPcw"
            },
            "source": [
                "# Quickstart for Customer Churn Model Documentation — Full Suite\n",
                "\n",
                "This interactive notebook guides model developers through the process of documenting a model with the ValidMind Developer Framework. It uses the [Bank Customer Churn Prediction](https://www.kaggle.com/code/kmalit/bank-customer-churn-prediction/data) sample dataset from Kaggle to train a simple classification model.\n",
                "\n",
                "As part of the notebook, you will learn how to train a sample model while exploring how the documentation process works:\n",
                "\n",
                "- Initializing the ValidMind Developer Framework\n",
                "- Loading a sample dataset provided by the library to train a simple classification model\n",
                "- Running a ValidMind test suite to quickly generate documention about the data and model\n"
            ]
        },
        {
            "attachments": {},
            "cell_type": "markdown",
            "metadata": {},
            "source": [
                "## ValidMind at a glance\n",
                "\n",
                "ValidMind's platform enables organizations to identify, document, and manage model risks for all types of models, including AI/ML models, LLMs, and statistical models. As a model developer, you use the ValidMind Developer Framework to automate documentation and validation tests, and then use the ValidMind AI Risk Platform UI to collaborate on documentation projects. Together, these products simplify model risk management, facilitate compliance with regulations and institutional standards, and enhance collaboration between yourself and model validators.\n",
                "\n",
                "If this is your first time trying out ValidMind, you can make use of the following resources alongside this notebook:\n",
                "\n",
                "- [Get started](https://docs.validmind.ai/guide/get-started.html) — The basics, including key concepts, and how our products work\n",
                "- [Get started with the ValidMind Developer Framework](https://docs.validmind.ai/guide/get-started-developer-framework.html) — The path for developers, more code samples, and our developer reference\n"
            ]
        },
        {
            "attachments": {},
            "cell_type": "markdown",
            "metadata": {
                "id": "ZNcbDRubSPc1"
            },
            "source": [
                "## Before you begin\n",
                "\n",
                "::: {.callout-tip}\n",
                "\n",
                "### New to ValidMind?\n",
                "\n",
                "For access to all features available in this notebook, create a free ValidMind account.\n",
                "\n",
                "Signing up is FREE — [**Sign up now**](https://app.prod.validmind.ai)\n",
                ":::\n",
                "\n",
                "If you encounter errors due to missing modules in your Python environment, install the modules with `pip install`, and then re-run the notebook. For more help, refer to [Installing Python Modules](https://docs.python.org/3/installing/index.html).\n"
            ]
        },
        {
            "attachments": {},
            "cell_type": "markdown",
            "metadata": {},
            "source": [
                "## Install the client library\n",
                "\n",
                "The client library provides Python support for the ValidMind Developer Framework. To install it:\n"
            ]
        },
        {
            "cell_type": "code",
            "execution_count": 1,
            "metadata": {
                "id": "6G5-kHOZ7YWk"
            },
            "outputs": [
                {
                    "name": "stdout",
                    "output_type": "stream",
                    "text": [
                        "\n",
                        "\u001b[1m[\u001b[0m\u001b[34;49mnotice\u001b[0m\u001b[1;39;49m]\u001b[0m\u001b[39;49m A new release of pip is available: \u001b[0m\u001b[31;49m23.2.1\u001b[0m\u001b[39;49m -> \u001b[0m\u001b[32;49m24.0\u001b[0m\n",
                        "\u001b[1m[\u001b[0m\u001b[34;49mnotice\u001b[0m\u001b[1;39;49m]\u001b[0m\u001b[39;49m To update, run: \u001b[0m\u001b[32;49mpip install --upgrade pip\u001b[0m\n",
                        "Note: you may need to restart the kernel to use updated packages.\n"
                    ]
                }
            ],
            "source": [
                "%pip install -q validmind"
            ]
        },
        {
            "attachments": {},
            "cell_type": "markdown",
            "metadata": {
                "id": "_ZqI8W5jSPc1"
            },
            "source": [
                "## Initialize the client library\n",
                "\n",
                "Every documentation project in the Platform UI comes with a _code snippet_ that lets the client library associate your documentation and tests with the right project on the Platform UI when you run this notebook. As you will see later, documentation projects are useful because they act as containers for model documentation and validation reports and they enable you to organize all of your documentation work in one place.\n",
                "\n",
                "Get your code snippet by creating a documentation project:\n",
                "\n",
                "1. In a browser, log into the [Platform UI](https://app.prod.validmind.ai).\n",
                "\n",
                "2. Go to **Documentation Projects** and click **Create new project**.\n",
                "\n",
                "3. Select **`[Demo] Customer Churn Model`** and **`Initial Validation`** for the model name and type, give the project a unique name to make it yours, and then click **Create project**.\n",
                "\n",
                "4. Go to **Documentation Projects** > **YOUR_UNIQUE_PROJECT_NAME** > **Getting Started** and click **Copy snippet to clipboard**.\n",
                "\n",
                "Next, replace this placeholder with your own code snippet:\n"
            ]
        },
        {
            "cell_type": "code",
            "execution_count": 2,
            "metadata": {
                "id": "5hqGn9jHSPc2"
            },
            "outputs": [
                {
                    "name": "stderr",
                    "output_type": "stream",
                    "text": [
                        "2024-03-08 17:18:42,915 - INFO(validmind.api_client): Connected to ValidMind. Project: [Test] Customer Churn - Initial Validation (cltdu833a00058e8hwiums2mj)\n"
                    ]
                }
            ],
            "source": [
                "## Replace this placeholder with the code snippet from your own project ##\n",
                "\n",
                "import validmind as vm\n",
                "\n",
                "vm.init(\n",
                "    api_host=\"https://api.prod.validmind.ai/api/v1/tracking\",\n",
                "    api_key=\"...\",\n",
                "    api_secret=\"...\",\n",
                "    project=\"...\",\n",
                ")"
            ]
        },
        {
            "attachments": {},
            "cell_type": "markdown",
            "metadata": {},
            "source": [
                "## Initialize the Python environment\n",
                "\n",
                "Next, let's import the necessary libraries and set up your Python environment for data analysis:\n"
            ]
        },
        {
            "cell_type": "code",
            "execution_count": 3,
            "metadata": {},
            "outputs": [],
            "source": [
                "import xgboost as xgb\n",
                "\n",
                "%matplotlib inline"
            ]
        },
        {
            "attachments": {},
            "cell_type": "markdown",
            "metadata": {},
            "source": [
                "### Preview the documentation template\n",
                "\n",
                "A template predefines sections for your documentation project and provides a general outline to follow, making the documentation process much easier.\n",
                "\n",
                "You will upload documentation and test results into this template later on. For now, take a look at the structure that the template provides with the `vm.preview_template()` function from the ValidMind library and note the empty sections:\n"
            ]
        },
        {
            "cell_type": "code",
            "execution_count": 4,
            "metadata": {},
            "outputs": [
                {
                    "name": "stderr",
                    "output_type": "stream",
                    "text": [
                        "2024-03-08 17:18:44,382 - ERROR(validmind.tests): Unable to load test validmind.model_validation.sklearn.ClassifierInSamplePerformance. No module named 'validmind.tests.model_validation.sklearn.ClassifierInSamplePerformance'\n",
                        "2024-03-08 17:18:44,385 - ERROR(validmind.tests): Unable to load test validmind.model_validation.sklearn.ClassifierOutOfSamplePerformance. No module named 'validmind.tests.model_validation.sklearn.ClassifierOutOfSamplePerformance'\n"
                    ]
                },
                {
                    "data": {
                        "application/vnd.jupyter.widget-view+json": {
                            "model_id": "c0328765ca914de4bcd73a936995a49e",
                            "version_major": 2,
                            "version_minor": 0
                        },
                        "text/plain": [
                            "Accordion(children=(Accordion(children=(HTML(value='<p>Empty Section</p>'), Accordion(children=(HTML(value='<p…"
                        ]
                    },
                    "metadata": {},
                    "output_type": "display_data"
                }
            ],
            "source": [
                "vm.preview_template()"
            ]
        },
        {
            "attachments": {},
            "cell_type": "markdown",
            "metadata": {
                "id": "WT4iDaNPSPc4"
            },
            "source": [
                "## Load the sample dataset\n",
                "\n",
                "The sample dataset used here is provided by the ValidMind library. To be able to use it, you need to import the dataset and load it into a pandas [DataFrame](https://pandas.pydata.org/docs/reference/api/pandas.DataFrame.html), a two-dimensional tabular data structure that makes use of rows and columns:\n"
            ]
        },
        {
            "cell_type": "code",
            "execution_count": 5,
            "metadata": {
                "id": "BlNanClPSPc5"
            },
            "outputs": [
                {
                    "name": "stdout",
                    "output_type": "stream",
                    "text": [
                        "Loaded demo dataset with: \n",
                        "\n",
                        "\t• Target column: 'Exited' \n",
                        "\t• Class labels: {'0': 'Did not exit', '1': 'Exited'}\n"
                    ]
                },
                {
                    "data": {
                        "text/html": [
                            "<div>\n",
                            "<style scoped>\n",
                            "    .dataframe tbody tr th:only-of-type {\n",
                            "        vertical-align: middle;\n",
                            "    }\n",
                            "\n",
                            "    .dataframe tbody tr th {\n",
                            "        vertical-align: top;\n",
                            "    }\n",
                            "\n",
                            "    .dataframe thead th {\n",
                            "        text-align: right;\n",
                            "    }\n",
                            "</style>\n",
                            "<table border=\"1\" class=\"dataframe\">\n",
                            "  <thead>\n",
                            "    <tr style=\"text-align: right;\">\n",
                            "      <th></th>\n",
                            "      <th>CreditScore</th>\n",
                            "      <th>Geography</th>\n",
                            "      <th>Gender</th>\n",
                            "      <th>Age</th>\n",
                            "      <th>Tenure</th>\n",
                            "      <th>Balance</th>\n",
                            "      <th>NumOfProducts</th>\n",
                            "      <th>HasCrCard</th>\n",
                            "      <th>IsActiveMember</th>\n",
                            "      <th>EstimatedSalary</th>\n",
                            "      <th>Exited</th>\n",
                            "    </tr>\n",
                            "  </thead>\n",
                            "  <tbody>\n",
                            "    <tr>\n",
                            "      <th>0</th>\n",
                            "      <td>619</td>\n",
                            "      <td>France</td>\n",
                            "      <td>Female</td>\n",
                            "      <td>42</td>\n",
                            "      <td>2</td>\n",
                            "      <td>0.00</td>\n",
                            "      <td>1</td>\n",
                            "      <td>1</td>\n",
                            "      <td>1</td>\n",
                            "      <td>101348.88</td>\n",
                            "      <td>1</td>\n",
                            "    </tr>\n",
                            "    <tr>\n",
                            "      <th>1</th>\n",
                            "      <td>608</td>\n",
                            "      <td>Spain</td>\n",
                            "      <td>Female</td>\n",
                            "      <td>41</td>\n",
                            "      <td>1</td>\n",
                            "      <td>83807.86</td>\n",
                            "      <td>1</td>\n",
                            "      <td>0</td>\n",
                            "      <td>1</td>\n",
                            "      <td>112542.58</td>\n",
                            "      <td>0</td>\n",
                            "    </tr>\n",
                            "    <tr>\n",
                            "      <th>2</th>\n",
                            "      <td>502</td>\n",
                            "      <td>France</td>\n",
                            "      <td>Female</td>\n",
                            "      <td>42</td>\n",
                            "      <td>8</td>\n",
                            "      <td>159660.80</td>\n",
                            "      <td>3</td>\n",
                            "      <td>1</td>\n",
                            "      <td>0</td>\n",
                            "      <td>113931.57</td>\n",
                            "      <td>1</td>\n",
                            "    </tr>\n",
                            "    <tr>\n",
                            "      <th>3</th>\n",
                            "      <td>699</td>\n",
                            "      <td>France</td>\n",
                            "      <td>Female</td>\n",
                            "      <td>39</td>\n",
                            "      <td>1</td>\n",
                            "      <td>0.00</td>\n",
                            "      <td>2</td>\n",
                            "      <td>0</td>\n",
                            "      <td>0</td>\n",
                            "      <td>93826.63</td>\n",
                            "      <td>0</td>\n",
                            "    </tr>\n",
                            "    <tr>\n",
                            "      <th>4</th>\n",
                            "      <td>850</td>\n",
                            "      <td>Spain</td>\n",
                            "      <td>Female</td>\n",
                            "      <td>43</td>\n",
                            "      <td>2</td>\n",
                            "      <td>125510.82</td>\n",
                            "      <td>1</td>\n",
                            "      <td>1</td>\n",
                            "      <td>1</td>\n",
                            "      <td>79084.10</td>\n",
                            "      <td>0</td>\n",
                            "    </tr>\n",
                            "  </tbody>\n",
                            "</table>\n",
                            "</div>"
                        ],
                        "text/plain": [
                            "   CreditScore Geography  Gender  Age  Tenure    Balance  NumOfProducts  \\\n",
                            "0          619    France  Female   42       2       0.00              1   \n",
                            "1          608     Spain  Female   41       1   83807.86              1   \n",
                            "2          502    France  Female   42       8  159660.80              3   \n",
                            "3          699    France  Female   39       1       0.00              2   \n",
                            "4          850     Spain  Female   43       2  125510.82              1   \n",
                            "\n",
                            "   HasCrCard  IsActiveMember  EstimatedSalary  Exited  \n",
                            "0          1               1        101348.88       1  \n",
                            "1          0               1        112542.58       0  \n",
                            "2          1               0        113931.57       1  \n",
                            "3          0               0         93826.63       0  \n",
                            "4          1               1         79084.10       0  "
                        ]
                    },
                    "execution_count": 5,
                    "metadata": {},
                    "output_type": "execute_result"
                }
            ],
            "source": [
                "# Import the sample dataset from the library\n",
                "\n",
                "from validmind.datasets.classification import customer_churn as demo_dataset\n",
                "\n",
                "print(\n",
                "    f\"Loaded demo dataset with: \\n\\n\\t• Target column: '{demo_dataset.target_column}' \\n\\t• Class labels: {demo_dataset.class_labels}\"\n",
                ")\n",
                "\n",
                "raw_df = demo_dataset.load_data()\n",
                "raw_df.head()"
            ]
        },
        {
            "attachments": {},
            "cell_type": "markdown",
            "metadata": {
                "id": "sP6OZpdGSPc6"
            },
            "source": [
                "## Document the model\n",
                "\n",
                "As part of documenting the model with the ValidMind Developer Framework, you need to preprocess the raw dataset, initialize some training and test datasets, initialize a model object you can use for testing, and then run the full suite of tests.\n"
            ]
        },
        {
            "attachments": {},
            "cell_type": "markdown",
            "metadata": {
                "id": "XNI6mCy0SPc6"
            },
            "source": [
                "### Prepocess the raw dataset\n",
                "\n",
                "Preprocessing performs a number of operations to get ready for the subsequent steps:\n",
                "\n",
                "- Preprocess the data: Splits the DataFrame (`df`) into multiple datasets (`train_df`, `validation_df`, and `test_df`) using `demo_dataset.preprocess` to simplify preprocessing.\n",
                "- Separate features and targets: Drops the target column to create feature sets (`x_train`, `x_val`) and target sets (`y_train`, `y_val`).\n",
                "- Initialize XGBoost classifier: Creates an `XGBClassifier` object with early stopping rounds set to 10.\n",
                "- Set evaluation metrics: Specifies metrics for model evaluation as \"error,\" \"logloss,\" and \"auc.\"\n",
                "- Fit the model: Trains the model on `x_train` and `y_train` using the validation set `(x_val, y_val)`. Verbose output is disabled.\n"
            ]
        },
        {
            "cell_type": "code",
            "execution_count": 6,
            "metadata": {
                "id": "PMeDVcpsSPc7"
            },
            "outputs": [
                {
                    "data": {
                        "text/html": [
                            "<style>#sk-container-id-1 {color: black;}#sk-container-id-1 pre{padding: 0;}#sk-container-id-1 div.sk-toggleable {background-color: white;}#sk-container-id-1 label.sk-toggleable__label {cursor: pointer;display: block;width: 100%;margin-bottom: 0;padding: 0.3em;box-sizing: border-box;text-align: center;}#sk-container-id-1 label.sk-toggleable__label-arrow:before {content: \"▸\";float: left;margin-right: 0.25em;color: #696969;}#sk-container-id-1 label.sk-toggleable__label-arrow:hover:before {color: black;}#sk-container-id-1 div.sk-estimator:hover label.sk-toggleable__label-arrow:before {color: black;}#sk-container-id-1 div.sk-toggleable__content {max-height: 0;max-width: 0;overflow: hidden;text-align: left;background-color: #f0f8ff;}#sk-container-id-1 div.sk-toggleable__content pre {margin: 0.2em;color: black;border-radius: 0.25em;background-color: #f0f8ff;}#sk-container-id-1 input.sk-toggleable__control:checked~div.sk-toggleable__content {max-height: 200px;max-width: 100%;overflow: auto;}#sk-container-id-1 input.sk-toggleable__control:checked~label.sk-toggleable__label-arrow:before {content: \"▾\";}#sk-container-id-1 div.sk-estimator input.sk-toggleable__control:checked~label.sk-toggleable__label {background-color: #d4ebff;}#sk-container-id-1 div.sk-label input.sk-toggleable__control:checked~label.sk-toggleable__label {background-color: #d4ebff;}#sk-container-id-1 input.sk-hidden--visually {border: 0;clip: rect(1px 1px 1px 1px);clip: rect(1px, 1px, 1px, 1px);height: 1px;margin: -1px;overflow: hidden;padding: 0;position: absolute;width: 1px;}#sk-container-id-1 div.sk-estimator {font-family: monospace;background-color: #f0f8ff;border: 1px dotted black;border-radius: 0.25em;box-sizing: border-box;margin-bottom: 0.5em;}#sk-container-id-1 div.sk-estimator:hover {background-color: #d4ebff;}#sk-container-id-1 div.sk-parallel-item::after {content: \"\";width: 100%;border-bottom: 1px solid gray;flex-grow: 1;}#sk-container-id-1 div.sk-label:hover label.sk-toggleable__label {background-color: #d4ebff;}#sk-container-id-1 div.sk-serial::before {content: \"\";position: absolute;border-left: 1px solid gray;box-sizing: border-box;top: 0;bottom: 0;left: 50%;z-index: 0;}#sk-container-id-1 div.sk-serial {display: flex;flex-direction: column;align-items: center;background-color: white;padding-right: 0.2em;padding-left: 0.2em;position: relative;}#sk-container-id-1 div.sk-item {position: relative;z-index: 1;}#sk-container-id-1 div.sk-parallel {display: flex;align-items: stretch;justify-content: center;background-color: white;position: relative;}#sk-container-id-1 div.sk-item::before, #sk-container-id-1 div.sk-parallel-item::before {content: \"\";position: absolute;border-left: 1px solid gray;box-sizing: border-box;top: 0;bottom: 0;left: 50%;z-index: -1;}#sk-container-id-1 div.sk-parallel-item {display: flex;flex-direction: column;z-index: 1;position: relative;background-color: white;}#sk-container-id-1 div.sk-parallel-item:first-child::after {align-self: flex-end;width: 50%;}#sk-container-id-1 div.sk-parallel-item:last-child::after {align-self: flex-start;width: 50%;}#sk-container-id-1 div.sk-parallel-item:only-child::after {width: 0;}#sk-container-id-1 div.sk-dashed-wrapped {border: 1px dashed gray;margin: 0 0.4em 0.5em 0.4em;box-sizing: border-box;padding-bottom: 0.4em;background-color: white;}#sk-container-id-1 div.sk-label label {font-family: monospace;font-weight: bold;display: inline-block;line-height: 1.2em;}#sk-container-id-1 div.sk-label-container {text-align: center;}#sk-container-id-1 div.sk-container {/* jupyter's `normalize.less` sets `[hidden] { display: none; }` but bootstrap.min.css set `[hidden] { display: none !important; }` so we also need the `!important` here to be able to override the default hidden behavior on the sphinx rendered scikit-learn.org. See: https://github.com/scikit-learn/scikit-learn/issues/21755 */display: inline-block !important;position: relative;}#sk-container-id-1 div.sk-text-repr-fallback {display: none;}</style><div id=\"sk-container-id-1\" class=\"sk-top-container\"><div class=\"sk-text-repr-fallback\"><pre>XGBClassifier(base_score=None, booster=None, callbacks=None,\n",
                            "              colsample_bylevel=None, colsample_bynode=None,\n",
                            "              colsample_bytree=None, early_stopping_rounds=10,\n",
                            "              enable_categorical=False, eval_metric=[&#x27;error&#x27;, &#x27;logloss&#x27;, &#x27;auc&#x27;],\n",
                            "              feature_types=None, gamma=None, gpu_id=None, grow_policy=None,\n",
                            "              importance_type=None, interaction_constraints=None,\n",
                            "              learning_rate=None, max_bin=None, max_cat_threshold=None,\n",
                            "              max_cat_to_onehot=None, max_delta_step=None, max_depth=None,\n",
                            "              max_leaves=None, min_child_weight=None, missing=nan,\n",
                            "              monotone_constraints=None, n_estimators=100, n_jobs=None,\n",
                            "              num_parallel_tree=None, predictor=None, random_state=None, ...)</pre><b>In a Jupyter environment, please rerun this cell to show the HTML representation or trust the notebook. <br />On GitHub, the HTML representation is unable to render, please try loading this page with nbviewer.org.</b></div><div class=\"sk-container\" hidden><div class=\"sk-item\"><div class=\"sk-estimator sk-toggleable\"><input class=\"sk-toggleable__control sk-hidden--visually\" id=\"sk-estimator-id-1\" type=\"checkbox\" checked><label for=\"sk-estimator-id-1\" class=\"sk-toggleable__label sk-toggleable__label-arrow\">XGBClassifier</label><div class=\"sk-toggleable__content\"><pre>XGBClassifier(base_score=None, booster=None, callbacks=None,\n",
                            "              colsample_bylevel=None, colsample_bynode=None,\n",
                            "              colsample_bytree=None, early_stopping_rounds=10,\n",
                            "              enable_categorical=False, eval_metric=[&#x27;error&#x27;, &#x27;logloss&#x27;, &#x27;auc&#x27;],\n",
                            "              feature_types=None, gamma=None, gpu_id=None, grow_policy=None,\n",
                            "              importance_type=None, interaction_constraints=None,\n",
                            "              learning_rate=None, max_bin=None, max_cat_threshold=None,\n",
                            "              max_cat_to_onehot=None, max_delta_step=None, max_depth=None,\n",
                            "              max_leaves=None, min_child_weight=None, missing=nan,\n",
                            "              monotone_constraints=None, n_estimators=100, n_jobs=None,\n",
                            "              num_parallel_tree=None, predictor=None, random_state=None, ...)</pre></div></div></div></div></div>"
                        ],
                        "text/plain": [
                            "XGBClassifier(base_score=None, booster=None, callbacks=None,\n",
                            "              colsample_bylevel=None, colsample_bynode=None,\n",
                            "              colsample_bytree=None, early_stopping_rounds=10,\n",
                            "              enable_categorical=False, eval_metric=['error', 'logloss', 'auc'],\n",
                            "              feature_types=None, gamma=None, gpu_id=None, grow_policy=None,\n",
                            "              importance_type=None, interaction_constraints=None,\n",
                            "              learning_rate=None, max_bin=None, max_cat_threshold=None,\n",
                            "              max_cat_to_onehot=None, max_delta_step=None, max_depth=None,\n",
                            "              max_leaves=None, min_child_weight=None, missing=nan,\n",
                            "              monotone_constraints=None, n_estimators=100, n_jobs=None,\n",
                            "              num_parallel_tree=None, predictor=None, random_state=None, ...)"
                        ]
                    },
                    "execution_count": 6,
                    "metadata": {},
                    "output_type": "execute_result"
                }
            ],
            "source": [
                "train_df, validation_df, test_df = demo_dataset.preprocess(raw_df)\n",
                "\n",
                "x_train = train_df.drop(demo_dataset.target_column, axis=1)\n",
                "y_train = train_df[demo_dataset.target_column]\n",
                "x_val = validation_df.drop(demo_dataset.target_column, axis=1)\n",
                "y_val = validation_df[demo_dataset.target_column]\n",
                "\n",
                "model = xgb.XGBClassifier(early_stopping_rounds=10)\n",
                "model.set_params(\n",
                "    eval_metric=[\"error\", \"logloss\", \"auc\"],\n",
                ")\n",
                "model.fit(\n",
                "    x_train,\n",
                "    y_train,\n",
                "    eval_set=[(x_val, y_val)],\n",
                "    verbose=False,\n",
                ")"
            ]
        },
        {
            "attachments": {},
            "cell_type": "markdown",
            "metadata": {
                "id": "DTO0bN4qSPc7"
            },
            "source": [
                "### Initialize the ValidMind datasets\n",
                "\n",
                "Before you can run tests, you must first initialize a ValidMind dataset object using the [`init_dataset`](https://docs.validmind.ai/validmind/validmind.html#init_dataset) function from the ValidMind (`vm`) module.\n",
                "\n",
                "This function takes a number of arguments:\n",
                "\n",
                "- `dataset` — the raw dataset that you want to provide as input to tests\n",
                "- `input_id` - a unique identifier that allows tracking what inputs are used when running each individual test\n",
                "- `target_column` — a required argument if tests require access to true values. This is the name of the target column in the dataset\n",
                "- `class_labels` — an optional value to map predicted classes to class labels\n",
                "\n",
                "With all datasets ready, you can now initialize the raw, training and test datasets (`raw_df`, `train_df` and `test_df`) created earlier into their own dataset objects using [`vm.init_dataset()`](https://docs.validmind.ai/validmind/validmind.html#init_dataset):\n"
            ]
        },
        {
            "cell_type": "code",
            "execution_count": 7,
            "metadata": {
                "id": "ShiOFS7bSPc7"
            },
            "outputs": [
                {
                    "name": "stderr",
                    "output_type": "stream",
                    "text": [
                        "2024-03-08 17:18:47,113 - INFO(validmind.client): Pandas dataset detected. Initializing VM Dataset instance...\n",
                        "2024-03-08 17:18:47,249 - INFO(validmind.client): Pandas dataset detected. Initializing VM Dataset instance...\n",
                        "2024-03-08 17:18:47,347 - INFO(validmind.client): Pandas dataset detected. Initializing VM Dataset instance...\n"
                    ]
                }
            ],
            "source": [
                "vm_raw_dataset = vm.init_dataset(\n",
                "    dataset=raw_df,\n",
                "    input_id=\"raw_dataset\",\n",
                "    target_column=demo_dataset.target_column,\n",
                "    class_labels=demo_dataset.class_labels,\n",
                ")\n",
                "\n",
                "vm_train_ds = vm.init_dataset(\n",
                "    dataset=train_df, input_id=\"train_dataset\", target_column=demo_dataset.target_column\n",
                ")\n",
                "\n",
                "vm_test_ds = vm.init_dataset(\n",
                "    dataset=test_df, input_id=\"test_dataset\", target_column=demo_dataset.target_column\n",
                ")"
            ]
        },
        {
            "attachments": {},
            "cell_type": "markdown",
            "metadata": {
                "id": "l6dpArGCSPc7"
            },
            "source": [
                "### Initialize a model object\n",
                "\n",
                "Additionally, you need to initialize a ValidMind model object (`vm_model`) that can be passed to other functions for analysis and tests on the data. You simply intialize this model object with [`vm.init_model()`](https://docs.validmind.ai/validmind/validmind.html#init_model):\n"
            ]
        },
        {
            "cell_type": "code",
            "execution_count": 8,
            "metadata": {
                "id": "wE0OckXjSPc7"
            },
            "outputs": [],
            "source": [
                "vm_model = vm.init_model(\n",
                "    model,\n",
                "    input_id=\"model\",\n",
                ")"
            ]
        },
        {
            "cell_type": "markdown",
            "metadata": {},
            "source": [
                "### Assign predictions to the datasets\n",
                "\n",
                "We can now use the assign_predictions() method from the Dataset object to link existing predictions to any model. If no prediction values are passed, the method will compute predictions automatically:\n"
            ]
        },
        {
            "cell_type": "code",
            "execution_count": 9,
            "metadata": {},
            "outputs": [
                {
                    "name": "stderr",
                    "output_type": "stream",
                    "text": [
                        "2024-03-08 17:18:47,469 - INFO(validmind.vm_models.dataset): Running predict()... This may take a while\n",
                        "2024-03-08 17:18:47,474 - INFO(validmind.vm_models.dataset): Running predict()... This may take a while\n"
                    ]
                }
            ],
            "source": [
                "vm_train_ds.assign_predictions(\n",
                "    model=vm_model,\n",
                ")\n",
                "\n",
                "vm_test_ds.assign_predictions(\n",
                "    model=vm_model,\n",
                ")"
            ]
        },
        {
            "attachments": {},
            "cell_type": "markdown",
            "metadata": {
                "id": "8xaBL0_3SPc7"
            },
            "source": [
                "### Run the full suite of tests\n",
                "\n",
                "This is where it all comes together: you are now ready to run the documentation tests for the model as defined by the documentation template you looked at earlier.\n",
                "\n",
                "The [`vm.run_documentation_tests`](https://docs.validmind.ai/validmind/validmind.html#run_documentation_tests) function finds and runs every test specified in the template and then uploads all the documentation and test artifacts that get generated to the ValidMind AI Risk Platform.\n",
                "\n",
                "The function takes a `config` argument that has information about the `params` and `inputs` that each test requires. The method `get_input_config()` below returns the default input configuration for our demo customer churn model.\n",
                "\n",
                "The variable `full_suite` then holds the result of these tests.\n"
            ]
        },
        {
            "cell_type": "code",
            "execution_count": 10,
            "metadata": {
                "id": "NgzKVN_gSPc8"
            },
            "outputs": [
                {
                    "name": "stderr",
                    "output_type": "stream",
                    "text": [
                        "2024-03-08 17:18:47,538 - ERROR(validmind.tests): Unable to load test validmind.model_validation.sklearn.ClassifierInSamplePerformance. No module named 'validmind.tests.model_validation.sklearn.ClassifierInSamplePerformance'\n",
                        "2024-03-08 17:18:47,540 - ERROR(validmind.tests): Unable to load test validmind.model_validation.sklearn.ClassifierOutOfSamplePerformance. No module named 'validmind.tests.model_validation.sklearn.ClassifierOutOfSamplePerformance'\n",
                        "2024-03-08 17:18:47,542 - ERROR(validmind.tests): Unable to load test validmind.model_validation.sklearn.ClassifierInSamplePerformance. No module named 'validmind.tests.model_validation.sklearn.ClassifierInSamplePerformance'\n",
                        "2024-03-08 17:18:47,543 - ERROR(validmind.tests): Unable to load test validmind.model_validation.sklearn.ClassifierOutOfSamplePerformance. No module named 'validmind.tests.model_validation.sklearn.ClassifierOutOfSamplePerformance'\n"
                    ]
                },
                {
                    "data": {
                        "application/vnd.jupyter.widget-view+json": {
                            "model_id": "35462f8680994732889e2df5431351a3",
                            "version_major": 2,
                            "version_minor": 0
                        },
                        "text/plain": [
                            "HBox(children=(Label(value='Running test suite...'), IntProgress(value=0, max=60)))"
                        ]
                    },
                    "metadata": {},
                    "output_type": "display_data"
                },
                {
                    "name": "stderr",
                    "output_type": "stream",
                    "text": [
                        "2024-03-08 17:18:48,060 - ERROR(validmind.vm_models.test_suite.test): Failed to run test 'iqr_outliers_bar_plot': (AttributeError) 'TestInput' object has no attribute 'dataset'\n"
                    ]
                },
                {
                    "data": {
                        "application/vnd.jupyter.widget-view+json": {
                            "model_id": "86ec1a71e5374b2f8773b405cc83dcb0",
                            "version_major": 2,
                            "version_minor": 0
                        },
                        "text/plain": [
                            "VBox(children=(HTML(value='<h2>Test Suite Results: <i style=\"color: #DE257E\">Binary Classification V2</i></h2>…"
                        ]
                    },
                    "metadata": {},
                    "output_type": "display_data"
                }
            ],
            "source": [
                "test_config = demo_dataset.get_test_config(\n",
                "    vm,\n",
                "    {\n",
                "        \"raw_dataset\": vm_raw_dataset,\n",
                "        \"train_dataset\": vm_train_ds,\n",
                "        \"test_dataset\": vm_test_ds,\n",
                "        \"model\": vm_model,\n",
                "    },\n",
                ")\n",
                "\n",
                "full_suite = vm.run_documentation_tests(config=test_config)"
            ]
        },
        {
            "attachments": {},
            "cell_type": "markdown",
            "metadata": {},
            "source": [
                "## Next steps\n",
                "\n",
                "You can look at the results of this test suite right in the notebook where you ran the code, as you would expect. But there is a better way: view the test results as part of your model documentation right in the ValidMind Platform UI:\n",
                "\n",
                "1. Log back into the [Platform UI](https://app.prod.validmind.ai)\n",
                "\n",
                "2. Go to **Documentation Projects** > **YOUR_UNIQUE_PROJECT_NAME** > **Documentation**.\n",
                "\n",
                "3. Expand the following sections and take a look around:\n",
                "\n",
                "   - **2. Data Preparation**\n",
                "   - **3. Model Development**\n",
                "\n",
                "What you can see now is a much more easily consumable version of the documentation, including the results of the tests you just performed, along with other parts of your documentation project that still need to be completed. There is a wealth of information that gets uploaded when you run the full test suite, so take a closer look around, especially at test results that might need attention (hint: some of the tests in 2.1 Data description look like they need some attention).\n",
                "\n",
                "If you want to learn more about where you are in the model documentation process, take a look at [How do I use the framework?](https://docs.validmind.ai/guide/get-started-developer-framework.html#how-do-i-use-the-framework).\n"
            ]
        }
    ],
    "metadata": {
        "colab": {
            "provenance": []
        },
        "gpuClass": "standard",
        "kernelspec": {
            "display_name": "Dev Framework 3.9.16",
            "language": "python",
            "name": "dev-framework-3.9"
        },
        "language_info": {
            "codemirror_mode": {
                "name": "ipython",
                "version": 3
            },
            "file_extension": ".py",
            "mimetype": "text/x-python",
            "name": "python",
            "nbconvert_exporter": "python",
            "pygments_lexer": "ipython3",
            "version": "3.9.16"
        }
    },
    "nbformat": 4,
    "nbformat_minor": 0
}
