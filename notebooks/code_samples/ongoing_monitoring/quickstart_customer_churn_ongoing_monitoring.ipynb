{
 "cells": [
  {
   "cell_type": "markdown",
   "metadata": {},
   "source": [
    "# Quickstart for model monitoring documentation\n",
    "\n",
    "Welcome! Let's get you started with the basic process of monitoring the production models with ValidMind.\n",
    "\n",
    "You will learn how to initialize the ValidMind Developer Framework, load a sample dataset and model to monitor a simple classification model, and then run a ValidMind test suite to quickly generate monitoring documentation about the new data and model.\n",
    "\n",
    "This notebook uses the [Bank Customer Churn Prediction](https://www.kaggle.com/code/kmalit/bank-customer-churn-prediction/data) sample dataset from Kaggle to train the classification model."
   ]
  },
  {
   "cell_type": "markdown",
   "metadata": {},
   "source": [
    "<a id='toc1_'></a>\n",
    "\n",
    "## About ValidMind\n",
    "\n",
    "ValidMind is a platform for managing model risk, including risk associated with AI and statistical models.\n",
    "\n",
    "You use the ValidMind Developer Framework to automate documentation, validation, monitoring tests, and then use the ValidMind AI Risk Platform UI to collaborate on model documentation. Together, these products simplify model risk management, facilitate compliance with regulations and institutional standards, and enhance collaboration between yourself and model validators.\n",
    "\n",
    "<a id='toc1_1_'></a>\n",
    "\n",
    "### Before you begin\n",
    "\n",
    "This notebook assumes you have basic familiarity with Python, including an understanding of how functions work. If you are new to Python, you can still run the notebook but we recommend further familiarizing yourself with the language. \n",
    "\n",
    "If you encounter errors due to missing modules in your Python environment, install the modules with `pip install`, and then re-run the notebook. For more help, refer to [Installing Python Modules](https://docs.python.org/3/installing/index.html).\n",
    "\n",
    "<a id='toc1_2_'></a>\n",
    "\n",
    "### New to ValidMind?\n",
    "\n",
    "If you haven't already seen our [Get started with the ValidMind Developer Framework](https://docs.validmind.ai/developer/get-started-developer-framework.html), we recommend you explore the available resources for developers at some point. There, you can learn more about documenting models, find code samples, or read our developer reference.\n",
    "\n",
    "<div class=\"alert alert-block alert-info\" style=\"background-color: #f7e4ee; color: black; border: 1px solid black;\">For access to all features available in this notebook, create a free ValidMind account.\n",
    "\n",
    "Signing up is FREE — <a href=\"https://app.prod.validmind.ai\"><b>Sign up now</b></a></div>\n",
    "\n",
    "<a id='toc1_3_'></a>\n",
    "\n",
    "### Key concepts\n",
    "\n",
    "**Model documentation**: A structured and detailed record pertaining to a model, encompassing key components such as its underlying assumptions, methodologies, data sources, inputs, performance metrics, evaluations, limitations, and intended uses. It serves to ensure transparency, adherence to regulatory requirements, and a clear understanding of potential risks associated with the model’s application.\n",
    "\n",
    "**Documentation template**: Functions as a test suite and lays out the structure of model documentation, segmented into various sections and sub-sections. Documentation templates define the structure of your model documentation, specifying the tests that should be run, and how the results should be displayed.\n",
    "\n",
    "**Model monitoring documentation**: A comprehensive and structured record of a production model, including key elements such as data sources, inputs, performance metrics, and periodic evaluations. This documentation ensures transparency and visibility of the model's performance in the production environment.\n",
    "\n",
    "**Monitoring documentation template**: Similar to documentation template, The monitoring documentation template functions as a test suite and lays out the structure of model monitoring documentation, segmented into various sections and sub-sections. Monitoring documentation templates define the structure of your model monitoring documentation, specifying the tests that should be run, and how the results should be displayed.\n",
    "\n",
    "**Tests**: A function contained in the ValidMind Developer Framework, designed to run a specific quantitative test on the dataset or model. Tests are the building blocks of ValidMind, used to evaluate and document models and datasets, and can be run individually or as part of a suite defined by your model documentation template.\n",
    "\n",
    "**Custom tests**: Custom tests are functions that you define to evaluate your model or dataset. These functions can be registered with ValidMind to be used in the platform.\n",
    "\n",
    "**Inputs**: Objects to be evaluated and documented in the ValidMind framework. They can be any of the following:\n",
    "\n",
    "  - **model**: A single model that has been initialized in ValidMind with [`vm.init_model()`](https://docs.validmind.ai/validmind/validmind.html#init_model).\n",
    "  - **dataset**: Single dataset that has been initialized in ValidMind with [`vm.init_dataset()`](https://docs.validmind.ai/validmind/validmind.html#init_dataset).\n",
    "  - **models**: A list of ValidMind models - usually this is used when you want to compare multiple models in your custom test.\n",
    "  - **datasets**: A list of ValidMind datasets - usually this is used when you want to compare multiple datasets in your custom test. See this [example](https://docs.validmind.ai/notebooks/how_to/run_tests_that_require_multiple_datasets.html) for more information.\n",
    "\n",
    "**Parameters**: Additional arguments that can be passed when running a ValidMind test, used to pass additional information to a test, customize its behavior, or provide additional context.\n",
    "\n",
    "**Outputs**: Custom tests can return elements like tables or plots. Tables may be a list of dictionaries (each representing a row) or a pandas DataFrame. Plots may be matplotlib or plotly figures.\n",
    "\n",
    "**Test suites**: Collections of tests designed to run together to automate and generate model documentation end-to-end for specific use-cases.\n",
    "\n",
    "Example: the [`classifier_full_suite`](https://docs.validmind.ai/validmind/validmind/test_suites/classifier.html#ClassifierFullSuite) test suite runs tests from the [`tabular_dataset`](https://docs.validmind.ai/validmind/validmind/test_suites/tabular_datasets.html) and [`classifier`](https://docs.validmind.ai/validmind/validmind/test_suites/classifier.html) test suites to fully document the data and model sections for binary classification model use-cases.\n"
   ]
  },
  {
   "cell_type": "markdown",
   "metadata": {},
   "source": [
    "<a id='toc2_'></a>\n",
    "\n",
    "## Install the client library\n",
    "\n",
    "The client library provides Python support for the ValidMind Developer Framework. To install it:\n"
   ]
  },
  {
   "cell_type": "code",
   "execution_count": null,
   "metadata": {},
   "outputs": [],
   "source": [
    "# %pip install -q validmind"
   ]
  },
  {
   "cell_type": "markdown",
   "metadata": {},
   "source": [
    "<a id='toc3_'></a>\n",
    "\n",
    "## Initialize the client library\n",
    "\n",
    "ValidMind generates a unique _code snippet_ for each registered model to connect with your developer environment. You initialize the client library with this code snippet, which ensures that your documentation and tests are uploaded to the correct model when you run the notebook.\n",
    "\n",
    "<a id='toc3_1_'></a>\n",
    "\n",
    "### Get your code snippet\n",
    "\n",
    "1. In a browser, log into the [Platform UI](https://app.prod.validmind.ai).\n",
    "\n",
    "2. In the left sidebar, navigate to **Model Inventory** and click the **+ registed model**.\n",
    "\n",
    "3. Go to **Getting Started** and click **Copy snippet to clipboard**.\n",
    "\n",
    "4. Add **monitoring=True** parameter in the **vm.init** method.\n",
    "\n",
    "Next, replace this placeholder with your own code snippet:\n"
   ]
  },
  {
   "cell_type": "code",
   "execution_count": null,
   "metadata": {},
   "outputs": [],
   "source": [
    "import validmind as vm\n",
    "\n",
    "vm.init(\n",
    "  api_host = \"...\",\n",
    "  api_key = \"...\",\n",
    "  api_secret = \"...\",\n",
    "  project = \"...\",\n",
    "  monitoring=True\n",
    ")"
   ]
  },
  {
   "cell_type": "markdown",
   "metadata": {},
   "source": [
    "<a id='toc4_'></a>\n",
    "\n",
    "## Initialize the Python environment\n",
    "\n",
    "Next, let's import the necessary libraries and set up your Python environment for data analysis:\n"
   ]
  },
  {
   "cell_type": "code",
   "execution_count": null,
   "metadata": {},
   "outputs": [],
   "source": [
    "import xgboost as xgb\n",
    "import validmind as vm\n",
    "import pandas as pd\n",
    "import numpy as np \n",
    "import seaborn as sns\n",
    "import matplotlib.pyplot as plt\n",
    "from validmind.tests import run_test\n",
    "\n",
    "%matplotlib inline"
   ]
  },
  {
   "cell_type": "markdown",
   "metadata": {},
   "source": [
    "<a id='toc4_1_'></a>\n",
    "\n",
    "### Preview the monitoring template\n",
    "\n",
    "A template predefines sections for your model monitoring documentation and provides a general outline to follow, making the documentation process much easier.\n",
    "\n",
    "You will upload documentation and test results into this template later on. For now, take a look at the structure that the template provides with the `vm.preview_template()` function from the ValidMind library and note the empty sections:\n"
   ]
  },
  {
   "cell_type": "code",
   "execution_count": null,
   "metadata": {},
   "outputs": [],
   "source": [
    "vm.preview_template()"
   ]
  },
  {
   "cell_type": "markdown",
   "metadata": {},
   "source": [
    "## Load the reference and monitoring datasets\n",
    "\n",
    "The sample dataset used here is provided by the ValidMind library. To be able to use it, you need to import the dataset and load it into a pandas [DataFrame](https://pandas.pydata.org/docs/reference/api/pandas.DataFrame.html), a two-dimensional tabular data structure that makes use of rows and columns:\n"
   ]
  },
  {
   "cell_type": "markdown",
   "metadata": {},
   "source": [
    "<a id='toc6_'></a>\n",
    "\n",
    "## Document the model monitoring\n",
    "\n",
    "As part of documenting the model with the ValidMind Developer Framework, you need to preprocess the raw dataset, initialize some training, reference and monitoring datasets, initialize a model object you can use for testing, and then run the full suite of tests.\n"
   ]
  },
  {
   "cell_type": "code",
   "execution_count": null,
   "metadata": {},
   "outputs": [],
   "source": [
    "from validmind.datasets.classification import customer_churn\n",
    "raw_df = customer_churn.load_data()"
   ]
  },
  {
   "cell_type": "markdown",
   "metadata": {},
   "source": [
    "<a id='toc6_1_'></a>\n",
    "\n",
    "### Prepocess the raw dataset\n",
    "\n",
    "Preprocessing performs a number of operations to get ready for the subsequent steps:\n",
    "\n",
    "- Preprocess the data: Splits the DataFrame (`df`) into multiple datasets (`train_df`, `reference_df`, and `monitor_df`) using `demo_dataset.preprocess` to simplify preprocessing.\n"
   ]
  },
  {
   "cell_type": "code",
   "execution_count": null,
   "metadata": {},
   "outputs": [],
   "source": [
    "# Import the sample dataset from the library\n",
    "\n",
    "train_df, reference_df, monitor_df = customer_churn.preprocess(raw_df)"
   ]
  },
  {
   "cell_type": "markdown",
   "metadata": {},
   "source": [
    "### Load the production model"
   ]
  },
  {
   "cell_type": "code",
   "execution_count": null,
   "metadata": {},
   "outputs": [],
   "source": [
    "import xgboost as xgb\n",
    "\n",
    "# Load the saved model\n",
    "model = xgb.XGBClassifier()\n",
    "model.load_model('xgboost_model.model')"
   ]
  },
  {
   "cell_type": "markdown",
   "metadata": {},
   "source": [
    "<a id='toc6_2_'></a>\n",
    "\n",
    "### Initialize the ValidMind datasets\n",
    "\n",
    "Before you can run tests, you must first initialize a ValidMind dataset object using the [`init_dataset`](https://docs.validmind.ai/validmind/validmind.html#init_dataset) function from the ValidMind (`vm`) module.\n",
    "\n",
    "This function takes a number of arguments:\n",
    "\n",
    "- `dataset` — the raw dataset that you want to provide as input to tests\n",
    "- `input_id` - a unique identifier that allows tracking what inputs are used when running each individual test\n",
    "- `target_column` — a required argument if tests require access to true values. This is the name of the target column in the dataset\n",
    "- `class_labels` — an optional value to map predicted classes to class labels\n",
    "\n",
    "With all datasets ready, you can now initialize training, reference(test) and monitor datasets (`train_df`, `reference_df` and `monitor_df`) created earlier into their own dataset objects using [`vm.init_dataset()`](https://docs.validmind.ai/validmind/validmind.html#init_dataset):\n"
   ]
  },
  {
   "cell_type": "code",
   "execution_count": null,
   "metadata": {},
   "outputs": [],
   "source": [
    "vm_train_ds = vm.init_dataset(\n",
    "    dataset=train_df, input_id=\"train_df\", target_column=customer_churn.target_column\n",
    ")\n",
    "\n",
    "vm_reference_ds = vm.init_dataset(\n",
    "    dataset=reference_df, input_id=\"reference_df\", target_column=customer_churn.target_column\n",
    ")\n",
    "\n",
    "\n",
    "vm_monitor_ds = vm.init_dataset(\n",
    "    dataset=monitor_df, input_id=\"monitor_dataset\", target_column=customer_churn.target_column\n",
    ")"
   ]
  },
  {
   "cell_type": "markdown",
   "metadata": {},
   "source": [
    "<a id='toc6_3_'></a>\n",
    "\n",
    "### Initialize a model object\n",
    "\n",
    "Additionally, you need to initialize a ValidMind model object (`vm_model`) that can be passed to other functions for analysis and tests on the data. You simply intialize this model object with [`vm.init_model()`](https://docs.validmind.ai/validmind/validmind.html#init_model):\n"
   ]
  },
  {
   "cell_type": "code",
   "execution_count": null,
   "metadata": {},
   "outputs": [],
   "source": [
    "vm_model = vm.init_model(\n",
    "    model,\n",
    "    input_id=\"model\",\n",
    ")"
   ]
  },
  {
   "cell_type": "markdown",
   "metadata": {},
   "source": [
    "<a id='toc6_4_'></a>\n",
    "\n",
    "### Assign predictions to the datasets\n",
    "\n",
    "We can now use the assign_predictions() method from the Dataset object to link existing predictions to any model. If no prediction values are passed, the method will compute predictions automatically:\n"
   ]
  },
  {
   "cell_type": "code",
   "execution_count": null,
   "metadata": {},
   "outputs": [],
   "source": [
    "vm_train_ds.assign_predictions(\n",
    "    model=vm_model,\n",
    ")\n",
    "\n",
    "vm_reference_ds.assign_predictions(\n",
    "    model=vm_model,\n",
    ")\n",
    "\n",
    "vm_monitor_ds.assign_predictions(\n",
    "    model=vm_model,\n",
    ")"
   ]
  },
  {
   "cell_type": "markdown",
   "metadata": {},
   "source": [
    "<a id='toc6_5_'></a>\n",
    "\n",
    "### Run the full suite of tests\n",
    "\n",
    "This is where it all comes together: you are now ready to run the documentation tests for the model as defined by the monitoring template you looked at earlier.\n",
    "\n",
    "The [`vm.run_documentation_tests`](https://docs.validmind.ai/validmind/validmind.html#run_documentation_tests) function finds and runs every test specified in the template and then uploads all the documentation and test artifacts that get generated to the ValidMind AI Risk Platform.\n",
    "\n",
    "The function requires information about the inputs to use on every test. These inputs can be passed as an `inputs` argument if we want to use the same inputs for all tests. It's also possible to pass a `config` argument that has information about the `params` and `inputs` that each test requires. The `config` parameter is a dictionary with the following structure:\n",
    "\n",
    "```python\n",
    "config = {\n",
    "    \"<test-id>\": {\n",
    "        \"params\": {\n",
    "            \"param1\": \"value1\",\n",
    "            \"param2\": \"value2\",\n",
    "            ...\n",
    "        },\n",
    "        \"inputs\": {\n",
    "            \"input1\": \"value1\",\n",
    "            \"input2\": \"value2\",\n",
    "            ...\n",
    "        }\n",
    "    },\n",
    "    ...\n",
    "}\n",
    "```\n",
    "\n",
    "Each `<test-id>` above corresponds to the test driven block identifiers shown by `vm.preview_template()`. For this model, we will use the default parameters for all tests, but we'll need to specify the input configuration for each one. The method `get_demo_test_config()` below constructs the default input configuration for our demo.\n"
   ]
  },
  {
   "cell_type": "code",
   "execution_count": null,
   "metadata": {},
   "outputs": [],
   "source": [
    "from validmind.utils import preview_test_config\n",
    "\n",
    "test_config = customer_churn.get_demo_test_config()\n",
    "preview_test_config(test_config)"
   ]
  },
  {
   "cell_type": "markdown",
   "metadata": {},
   "source": [
    "Before we start the testing procedure let's take a look at the expected tests that are pre-configured:"
   ]
  },
  {
   "cell_type": "code",
   "execution_count": null,
   "metadata": {},
   "outputs": [],
   "source": [
    "test_dict = vm.get_test_suite().get_default_config()\n",
    "for l in test_dict:\n",
    "    print(l)"
   ]
  },
  {
   "cell_type": "markdown",
   "metadata": {},
   "source": [
    "let's run the first test in the \"test_dict\"\n"
   ]
  },
  {
   "cell_type": "code",
   "execution_count": null,
   "metadata": {},
   "outputs": [],
   "source": [
    "test_result = vm.tests.run_test('validmind.model_validation.ModelMetadata', model= vm_model).log()"
   ]
  },
  {
   "cell_type": "markdown",
   "metadata": {},
   "source": [
    "Let's run the tests needed to determine data quality of the monitoring dataset:\n"
   ]
  },
  {
   "cell_type": "code",
   "execution_count": null,
   "metadata": {},
   "outputs": [],
   "source": [
    "data_qual = vm.get_test_suite(section='prediction_data_description').get_default_config()\n",
    "\n",
    "#now let's run all of the necessary data quality checks where the monitoring dataset is the basis\n",
    "for l in data_qual:\n",
    "    vm.tests.run_test(\n",
    "    l, input_grid={\n",
    "        \"dataset\": [vm_monitor_ds],\n",
    "        \"model\": [vm_model],\n",
    "    },\n",
    "    show=False).log()\n",
    "    print(\"completed test: {0}\".format(l))\n"
   ]
  },
  {
   "cell_type": "markdown",
   "metadata": {},
   "source": [
    "Next, let's run the types of tests are comparison tests, i.e. we want to compare charactersitics based on the train dataset and monitoring dataset"
   ]
  },
  {
   "cell_type": "code",
   "execution_count": null,
   "metadata": {},
   "outputs": [],
   "source": [
    "corr = ['validmind.data_validation.PearsonCorrelationMatrix:train_vs_test','validmind.data_validation.HighPearsonCorrelation:train_vs_test']\n",
    "\n",
    "for c in corr:\n",
    "    vm.tests.run_test(c,input_grid={\"dataset\": [vm_train_ds,vm_monitor_ds],\"model\": [vm_model],},show=False).log()\n",
    "    print('Test completed for {0}'.format(c))"
   ]
  },
  {
   "cell_type": "markdown",
   "metadata": {},
   "source": [
    "### Conduct Target and Feature Drift testing\n",
    "Next the goal is to investigate the distributional characterstics of predictions and features in order to see if the underlying data has changed. These tests are important in determining the expected accuracy of the model.\n",
    "1. For target drift we want to compare the dataset used for testing (reference data) relative to the monitoring data.\n",
    "2. For feature drift we want to compare the train dataset vs. monitoring data, the reason is that features have been used to train the model, and if these are \"drifting\" then potential issues may arise as underlying patterns used to train model has changed"
   ]
  },
  {
   "cell_type": "markdown",
   "metadata": {},
   "source": [
    "Now let's continue with Target drift and as observed only one pre-configured test is being utilized"
   ]
  },
  {
   "cell_type": "code",
   "execution_count": null,
   "metadata": {},
   "outputs": [],
   "source": [
    "for l in vm.get_test_suite(section='comparison_data_target').get_default_config():\n",
    "    print(l)"
   ]
  },
  {
   "cell_type": "markdown",
   "metadata": {},
   "source": [
    "Let's run the PSI for predictions and in this case we want to compare the test data vs. monitoring data (Note for predictions, therefore training data is irrelevant)\n"
   ]
  },
  {
   "cell_type": "code",
   "execution_count": null,
   "metadata": {},
   "outputs": [],
   "source": [
    "vm.tests.run_test(\n",
    "    \"validmind.model_validation.sklearn.PopulationStabilityIndex\",\n",
    "    input_grid={\n",
    "        \"datasets\": [\n",
    "            [vm_reference_ds, vm_monitor_ds],\n",
    "        ],\n",
    "        \"model\": [vm_model],\n",
    "    },show=False\n",
    ").log()"
   ]
  },
  {
   "cell_type": "markdown",
   "metadata": {},
   "source": [
    "Next we want to add some tests that are not availble out-of-the box in ValidMind. In particular correlation of features and predictions is of interest and if we see large changes it can trigger an deeper assessment\n"
   ]
  },
  {
   "cell_type": "code",
   "execution_count": null,
   "metadata": {},
   "outputs": [],
   "source": [
    "# @vm.test(\"mr_custom.target_prediction_distribution_plot\")\n",
    "# def target_drift(vm_reference_ds,vm_monitor_ds):\n",
    "#     \"\"\"\n",
    "#     This test provides the prediction distributions from the reference dataset and the new monitoring dataset. If there are significant differences in the distributions then it might indicate of different underlying data characteristics that might lead to\n",
    "#     further investigation into the root causes.\n",
    "\n",
    "#     \"\"\"\n",
    "\n",
    "#     pred_ref = vm_reference_ds.y_prob_df(vm_model)\n",
    "#     pred_ref.columns = ['Reference Prediction']\n",
    "#     pred_monitor = vm_monitor_ds.y_prob_df(vm_model)\n",
    "#     pred_monitor.columns = ['Monitoring Prediction']\n",
    "\n",
    "#     fig = plt.figure()\n",
    "#     plot = sns.kdeplot(pred_ref['Reference Prediction'], shade=True,label='Reference Prediction')\n",
    "#     plot = sns.kdeplot(pred_monitor['Monitoring Prediction'], shade=True,label='Monitor Prediction')\n",
    "#     plot.set(xlabel='Prediction',title=\"Distribution of Reference & Monitor Predictions\")\n",
    "#     plot.legend()\n",
    "\n",
    "#     return fig"
   ]
  },
  {
   "cell_type": "code",
   "execution_count": null,
   "metadata": {},
   "outputs": [],
   "source": [
    "# target_drift.save(\n",
    "#     \"/Users/anilsorathiya/work/validmind/repos/developer-framework/validmind/tests/model_monitor\",\n",
    "#     imports=[\"import matplotlib.pyplot as plt\", \"import seaborn as sns\"],\n",
    "# )"
   ]
  },
  {
   "cell_type": "code",
   "execution_count": null,
   "metadata": {},
   "outputs": [],
   "source": [
    "vm.tests.run_test(\n",
    "    \"validmind.model_monitor.TargetPredictionDistributionPlot\",\n",
    "    input_grid={\n",
    "        \"datasets\": [\n",
    "            [vm_reference_ds, vm_monitor_ds],\n",
    "        ],\n",
    "        \"model\": [vm_model],\n",
    "    },\n",
    "    show=False,\n",
    "\n",
    ").log(section_id='comparison_data_target')"
   ]
  },
  {
   "cell_type": "code",
   "execution_count": null,
   "metadata": {},
   "outputs": [],
   "source": [
    "\n",
    "# result = run_test('mr_custom.target_prediction_distribution_plot',params={'vm_reference_ds':vm_reference_ds,'vm_monitor_ds':vm_monitor_ds},show=False).log(section_id='comparison_data_target')"
   ]
  },
  {
   "cell_type": "markdown",
   "metadata": {},
   "source": [
    "Now we want to add a custom test showing difference in correlation pairs between model prediction and features\n"
   ]
  },
  {
   "cell_type": "code",
   "execution_count": null,
   "metadata": {},
   "outputs": [],
   "source": [
    "# @vm.test(\"mr_custom.Prediction_Correlation_Changes\")\n",
    "# def correlation_target(vm_reference_ds,vm_monitor_ds):\n",
    "\n",
    "#         \"\"\" \n",
    "#         This test shows the correlation pairs for each feature in the model and model predictions from reference dataset and monitoring dataset. The primary goal in this test is to assess if correlation pairs between predictions from reference to monitoring have\n",
    "#         changed significantly. If there is a large change between correlation pairs then there is a heightened risk of target drift which can result in lower performing models.\n",
    "\n",
    "#         The primary goal is to assess the predictions and each individual feature in the two predictions in order to detect a change in the relationship between target and feature.\n",
    "\n",
    "        \n",
    "#         \"\"\"\n",
    "#         df_corr = vm_reference_ds.df.corr()\n",
    "#         df_corr= df_corr[['model_probabilities']]\n",
    "\n",
    "#         df_corr2 = vm_monitor_ds.df.corr()\n",
    "#         df_corr2= df_corr2[['model_probabilities']]\n",
    "\n",
    "#         corr_final = df_corr.merge(df_corr2,left_index=True,right_index=True)\n",
    "#         corr_final.columns = ['Reference Predictions','Monitoring Predictions']\n",
    "#         corr_final = corr_final.drop(index=['model_prediction','model_probabilities'])\n",
    "\n",
    "#         import matplotlib.pyplot as plt \n",
    "\n",
    "#         n=len(corr_final)\n",
    "#         r = np.arange(n) \n",
    "#         width = 0.25\n",
    "\n",
    "#         fig = plt.figure()\n",
    "\n",
    "#         plt.bar(r, corr_final['Reference Predictions'], color = 'b', \n",
    "#                 width = width, edgecolor = 'black', \n",
    "#                 label='Reference Prediction Correlation') \n",
    "#         plt.bar(r + width, corr_final['Monitoring Predictions'], color = 'g', \n",
    "#                 width = width, edgecolor = 'black', \n",
    "#                 label='Monitoring Prediction Correlation') \n",
    "\n",
    "\n",
    "#         plt.xlabel(\"Features\") \n",
    "#         plt.ylabel(\"Correlation\") \n",
    "#         plt.title(\"Correlation between Predictions and Features\") \n",
    "\n",
    "#         features = corr_final.index.to_list()\n",
    "#         plt.xticks(r + width/2,features,rotation=45)\n",
    "#         plt.legend()\n",
    "#         plt.tight_layout()\n",
    "\n",
    "#         corr_final['Features'] = corr_final.index\n",
    "#         corr_final = corr_final[['Features','Reference Predictions','Monitoring Predictions']]\n",
    "#         return({\"Correlation Pair Table\":corr_final},fig)"
   ]
  },
  {
   "cell_type": "code",
   "execution_count": null,
   "metadata": {},
   "outputs": [],
   "source": [
    "# correlation_target.save(\n",
    "#     \"/Users/anilsorathiya/work/validmind/repos/developer-framework/validmind/tests/model_monitor\",\n",
    "#     imports=[\"import matplotlib.pyplot as plt\", \"import pandas as pd\"],\n",
    "# )"
   ]
  },
  {
   "cell_type": "code",
   "execution_count": null,
   "metadata": {},
   "outputs": [],
   "source": [
    "vm.tests.run_test(\n",
    "    \"validmind.model_monitor.PredictionCorrelation\",\n",
    "    input_grid={\n",
    "        \"datasets\": [\n",
    "            [vm_reference_ds, vm_monitor_ds],\n",
    "        ],\n",
    "    },\n",
    "    show=False,\n",
    ").log(section_id='comparison_data_target')"
   ]
  },
  {
   "cell_type": "code",
   "execution_count": null,
   "metadata": {},
   "outputs": [],
   "source": [
    "# result = vm.tests.run_test('mr_custom.Prediction_Correlation_Changes',params={'vm_reference_ds':vm_reference_ds,'vm_monitor_ds':vm_monitor_ds},show=False).log(section_id='comparison_data_target')"
   ]
  },
  {
   "cell_type": "markdown",
   "metadata": {},
   "source": [
    "Finally for target drift, let's plot each prediction value and feature grid side by side\n"
   ]
  },
  {
   "cell_type": "code",
   "execution_count": null,
   "metadata": {},
   "outputs": [],
   "source": [
    "\n",
    "@vm.test(\"mr_custom.Prediction_Across_Each_Feature\")\n",
    "def feature_drift(vm_reference_ds,vm_monitor_ds):\n",
    "\n",
    "    \"\"\" \n",
    "    This test shows visually the prediction using reference data and monitoring data across each individual feature. If there are significant differences in predictions across feature values from reference to monitoring dataset then futher investigation is needed\n",
    "    as the model is producing predictions that are different then what was observed during the training of the model.\n",
    "    \n",
    "    \"\"\"\n",
    "\n",
    "    df_reference = vm_reference_ds.df\n",
    "    df_monitoring = vm_monitor_ds.df\n",
    "\n",
    "\n",
    "    figures_to_save=[]\n",
    "    for column in df_reference:\n",
    "\n",
    "        if column == 'model_probabilities' or column == 'model_prediction':\n",
    "            pass\n",
    "        else:\n",
    "            fig, axs = plt.subplots(1,2, figsize=(20,10), sharey='row')\n",
    "\n",
    "            ax1,ax2 = axs\n",
    "\n",
    "            ax1.scatter(df_reference[column], df_reference['model_probabilities'])\n",
    "            ax2.scatter(df_monitoring[column], df_monitoring['model_probabilities'])\n",
    "\n",
    "            ax1.set_title('Reference')\n",
    "            ax1.set_xlabel(column)\n",
    "            ax1.set_ylabel('Prediction Value')\n",
    "\n",
    "            ax2.set_title('Monitoring')\n",
    "            ax2.set_xlabel(column)\n",
    "            figures_to_save.append(fig)\n",
    "            plt.close()\n",
    "\n",
    "\n",
    "    return tuple(figures_to_save)"
   ]
  },
  {
   "cell_type": "code",
   "execution_count": null,
   "metadata": {},
   "outputs": [],
   "source": [
    "run_test(\"mr_custom.Prediction_Across_Each_Feature\", params={\"vm_reference_ds\": vm_reference_ds,\"vm_monitor_ds\":vm_monitor_ds},show=False).log(section_id='comparison_data_target')"
   ]
  },
  {
   "cell_type": "markdown",
   "metadata": {},
   "source": [
    "### Next let's add Feature Drift testing (custom test) where the goal is to investigate how/if the features have drifter"
   ]
  },
  {
   "cell_type": "markdown",
   "metadata": {},
   "source": [
    "Feature Drift needs a custom test as well as there is currently no out-of-the box test in ValidMind, example:\n"
   ]
  },
  {
   "cell_type": "code",
   "execution_count": null,
   "metadata": {},
   "outputs": [],
   "source": [
    "@vm.test(\"mr_custom.Feature_Drift\")\n",
    "def feature_drift(\n",
    "    datasets,\n",
    "    bins=[0.1, 0.2, 0.3, 0.4, 0.5, 0.6, 0.7, 0.8, 0.9],\n",
    "    feature_columns=None):\n",
    "\n",
    "    \"\"\" \n",
    "    PSI is a measure of how much a population has shifted over time or between two different samples of a population in a single number. It does this by bucketing the two distributions and comparing the percents of items in each of the buckets, resulting in a single number you can use to understand how different the populations are. The common interpretations of the PSI result are:\n",
    "\n",
    "    PSI < 0.1: no significant population change\n",
    "    PSI < 0.2: moderate population change\n",
    "    PSI >= 0.2: significant population change\n",
    "\n",
    "    \"\"\" \n",
    "    import pandas as pd\n",
    "    # Feature columns for both datasets should be the same if not given\n",
    "    default_feature_columns = datasets[0].feature_columns\n",
    "    feature_columns = feature_columns or default_feature_columns\n",
    "\n",
    "    x_train_df = datasets[0].x_df()\n",
    "    x_test_df = datasets[1].x_df()\n",
    "\n",
    "    quantiles_train = x_train_df[feature_columns].quantile(\n",
    "        bins, method=\"single\", interpolation=\"nearest\"\n",
    "    )\n",
    "    PSI_QUANTILES = quantiles_train.to_dict()\n",
    "\n",
    "    DATA = {\"test\": x_test_df, \"train\": x_train_df}\n",
    "    PSI_BUCKET_FRAC = {}\n",
    "    for table in DATA.keys():\n",
    "        total_count = DATA[table].shape[0]\n",
    "        for col in feature_columns:\n",
    "            count_sum = 0\n",
    "            for n in bins:\n",
    "                if n == 0:\n",
    "                    bucket_count = (DATA[table][col] < PSI_QUANTILES[col][n]).sum()\n",
    "                elif n < 9:\n",
    "                    bucket_count = (\n",
    "                        total_count\n",
    "                        - count_sum\n",
    "                        - ((DATA[table][col] >= PSI_QUANTILES[col][n]).sum())\n",
    "                    )\n",
    "                elif n == 9:\n",
    "                    bucket_count = total_count - count_sum\n",
    "                count_sum += bucket_count\n",
    "                PSI_BUCKET_FRAC[table, col, n] = bucket_count / total_count\n",
    "\n",
    "\n",
    "    def nest(d: dict) -> dict:\n",
    "        result = {}\n",
    "        for key, value in d.items():\n",
    "            target = result\n",
    "            for k in key[:-1]:  # traverse all keys but the last\n",
    "                target = target.setdefault(k, {})\n",
    "            target[key[-1]] = value\n",
    "        return result\n",
    "\n",
    "    PSI_BUCKET_FRAC = nest(PSI_BUCKET_FRAC)\n",
    "\n",
    "    PSI_SCORES = {}\n",
    "    for col in feature_columns:\n",
    "        psi = 0\n",
    "        for n in bins:\n",
    "            actual = PSI_BUCKET_FRAC[\"test\"][col][n]\n",
    "            expected = PSI_BUCKET_FRAC[\"train\"][col][n]\n",
    "            psi_of_bucket = (actual - expected) * np.log(\n",
    "                (actual + 1e-6) / (expected + 1e-6)\n",
    "            )\n",
    "            psi += psi_of_bucket\n",
    "        PSI_SCORES[col] = psi\n",
    "\n",
    "    psi_df = pd.DataFrame(list(PSI_SCORES.items()), columns=[\"Features\", \"PSI Score\"])\n",
    "\n",
    "    psi_df.sort_values(by=[\"PSI Score\"], inplace=True, ascending=False)\n",
    "\n",
    "    psi_table = [\n",
    "        {\"Features\": values[\"Features\"], \"PSI Score\": values[\"PSI Score\"]}\n",
    "        for i, values in enumerate(psi_df.to_dict(orient=\"records\"))\n",
    "    ]\n",
    "\n",
    "    dataset_ids = f\"{datasets[0].input_id} vs {datasets[1].input_id}\"\n",
    "\n",
    "\n",
    "\n",
    "\n",
    "    #add graphical output\n",
    "    \n",
    "    bin_table_psi= pd.DataFrame(PSI_BUCKET_FRAC)\n",
    "    save_fig=[]\n",
    "    for i in range(len(bin_table_psi)):\n",
    "        \n",
    "        x = pd.DataFrame(bin_table_psi.iloc[i]['test'].items(),columns=['Bin','Population % Reference'])\n",
    "        y = pd.DataFrame(bin_table_psi.iloc[i]['train'].items(),columns=['Bin','Population % Monitoring'])\n",
    "        xy = x.merge(y,on='Bin')\n",
    "        xy.index=xy['Bin']\n",
    "        xy = xy.drop(columns=\"Bin\",axis=1)\n",
    "        feature_name=bin_table_psi.index[i]\n",
    "\n",
    "        import matplotlib.pyplot as plt \n",
    "        n=len(bins)\n",
    "        r = np.arange(n) \n",
    "        width = 0.25\n",
    "\n",
    "        fig = plt.figure()\n",
    "\n",
    "        plt.bar(r, xy['Population % Reference'], color = 'b', \n",
    "                width = width, edgecolor = 'black', \n",
    "                label='Reference {0}'.format(feature_name)) \n",
    "        plt.bar(r + width, xy['Population % Monitoring'], color = 'g', \n",
    "                width = width, edgecolor = 'black', \n",
    "                label='Monitoring {0}'.format(feature_name)) \n",
    "\n",
    "\n",
    "        plt.xlabel(\"Bin\") \n",
    "        plt.ylabel(\"Population %\") \n",
    "        plt.title(\"Histogram of Population Differences {0}\".format(feature_name)) \n",
    "        plt.legend()\n",
    "        plt.tight_layout()\n",
    "        plt.close()\n",
    "        save_fig.append(fig)\n",
    "\n",
    "\n",
    "    final_psi=pd.DataFrame(psi_table)\n",
    "    \n",
    "    \n",
    "    return (final_psi, *save_fig)"
   ]
  },
  {
   "cell_type": "markdown",
   "metadata": {},
   "source": [
    "In this case we want to use the train vs. prediction data. \n"
   ]
  },
  {
   "cell_type": "code",
   "execution_count": null,
   "metadata": {},
   "outputs": [],
   "source": [
    "\n",
    "result = run_test(\n",
    "    \"mr_custom.Feature_Drift\",\n",
    "    inputs={\"datasets\": [vm_train_ds, vm_monitor_ds]},show=False\n",
    ").log(section_id='comparison_data_feature')"
   ]
  },
  {
   "cell_type": "markdown",
   "metadata": {},
   "source": [
    "Now let's finish up by monitoring accuracy - remember in some cases it's not possible to determine accuracy as ground truth may not be available. If this is the case, then pass this testing and focus on the target/feature drift to inform model owners.\n"
   ]
  },
  {
   "cell_type": "code",
   "execution_count": null,
   "metadata": {},
   "outputs": [],
   "source": [
    "for l in vm.get_test_suite(section='model_performance_monitoring').get_default_config():\n",
    "    print(l)"
   ]
  },
  {
   "cell_type": "code",
   "execution_count": null,
   "metadata": {},
   "outputs": [],
   "source": [
    "#for each of the listed tests we want to use the reference dataset vs monitoring dataset - the true comparison of accuracy\n",
    "for l in vm.get_test_suite(section='model_performance_monitoring').get_default_config():\n",
    "    if l=='validmind.model_validation.statsmodels.GINITable':\n",
    "        vm.tests.run_test(\n",
    "        \"validmind.model_validation.statsmodels.GINITable\",\n",
    "        inputs = {\n",
    "            \"datasets\": [vm_reference_ds, vm_monitor_ds],\n",
    "            \"model\": vm_model,\n",
    "        },show=False\n",
    "        ).log()\n",
    "    else:\n",
    "        vm.tests.run_test(\n",
    "        l, input_grid={\n",
    "            \"dataset\": [vm_reference_ds,vm_monitor_ds],\n",
    "            \"model\": [vm_model],\n",
    "        },\n",
    "        show=False).log()\n",
    "    print(\"completed test: {0}\".format(l))\n"
   ]
  },
  {
   "cell_type": "markdown",
   "metadata": {},
   "source": [
    "<a id='toc7_'></a>\n",
    "\n",
    "## Next steps\n",
    "\n",
    "You can look at the results of this test suite right in the notebook where you ran the code, as you would expect. But there is a better way — use the ValidMind platform to work with your model monitoring documentation.\n",
    "\n",
    "<a id='toc7_1_'></a>\n",
    "\n",
    "### Work with your model monitoring documentation\n",
    "\n",
    "1. From the [**Model Inventory**](https://app.prod.validmind.ai/model-inventory) in the ValidMind Platform UI, go to the model you registered earlier.\n",
    "\n",
    "2. Click and expand the **Model Development** section.\n",
    "\n",
    "What you see is the full draft of your model monitoring documentation in a more easily consumable version. From here, you can make qualitative edits to model monitoring documentation, view guidelines, collaborate with validators, and submit your model monitoring documentation for approval when it's ready. \n",
    "\n",
    "<a id='toc7_2_'></a>\n",
    "\n",
    "### Discover more learning resources\n",
    "\n",
    "We offer many interactive notebooks to help you document models:\n",
    "\n",
    "- [Run tests & test suites](https://docs.validmind.ai/developer/model-testing/testing-overview.html)\n",
    "- [Code samples](https://docs.validmind.ai/developer/samples-jupyter-notebooks.html)\n",
    "\n",
    "Or, visit our [documentation](https://docs.validmind.ai/) to learn more about ValidMind."
   ]
  }
 ],
 "metadata": {
  "colab": {
   "provenance": []
  },
  "gpuClass": "standard",
  "kernelspec": {
   "display_name": "Python 3 (ipykernel)",
   "language": "python",
   "name": "python3"
  },
  "language_info": {
   "codemirror_mode": {
    "name": "ipython",
    "version": 3
   },
   "file_extension": ".py",
   "mimetype": "text/x-python",
   "name": "python",
   "nbconvert_exporter": "python",
   "pygments_lexer": "ipython3",
   "version": "3.10.14"
  }
 },
 "nbformat": 4,
 "nbformat_minor": 4
}
