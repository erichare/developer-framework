{
 "cells": [
  {
   "cell_type": "markdown",
   "metadata": {},
   "source": [
    "# Document a time series forecasting model\n",
    "\n",
    "Use the [FRED](https://fred.stlouisfed.org/) sample dataset to train a simple time series model and document that model with the ValidMind Developer Framework.\n",
    "\n",
    "As part of the notebook, you will learn how to train a simple model while exploring how the documentation process works:\n",
    "\n",
    "- Initializing the ValidMind Developer Framework\n",
    "- Loading a sample dataset provided by the library to train a simple time series model\n",
    "- Running a ValidMind test suite to quickly generate documentation about the data and model"
   ]
  },
  {
   "cell_type": "markdown",
   "metadata": {},
   "source": [
    "<a id='toc0_'></a>\n",
    "\n",
    "## Contents    \n",
    "- [About ValidMind](#toc1_)    \n",
    "  - [Before you begin](#toc1_1_)    \n",
    "  - [New to ValidMind?](#toc1_2_)    \n",
    "  - [Key concepts](#toc1_3_)    \n",
    "- [Install the client library](#toc2_)\n",
    "  - [Get your code snippet](#toc3_1_)\n",
    "- [Initialize the client library](#toc3_)    \n",
    "- [Initialize the Python environment](#toc4_)    \n",
    "  - [Preview the documentation template](#toc4_1_)    \n",
    "- [Load the sample dataset](#toc5_)    \n",
    "- [Document the model](#toc6_)    \n",
    "  - [Prepocess the raw dataset](#toc6_1_)    \n",
    "  - [Initialize the ValidMind datasets](#toc6_2_)    \n",
    "  - [Initialize a model object](#toc6_3_)    \n",
    "  - [Assign predictions to the datasets](#toc6_4_)    \n",
    "  - [Run the full suite of tests](#toc6_5_)    \n",
    "- [Next steps](#toc7_)    \n",
    "  - [Work with your model documentation](#toc7_1_)    \n",
    "  - [Discover more learning resources](#toc7_2_)    \n",
    "\n",
    "<!-- vscode-jupyter-toc-config\n",
    "\tnumbering=false\n",
    "\tanchor=true\n",
    "\tflat=false\n",
    "\tminLevel=2\n",
    "\tmaxLevel=4\n",
    "\t/vscode-jupyter-toc-config -->\n",
    "<!-- THIS CELL WILL BE REPLACED ON TOC UPDATE. DO NOT WRITE YOUR TEXT IN THIS CELL -->"
   ]
  },
  {
   "cell_type": "markdown",
   "metadata": {},
   "source": [
    "<a id='toc1_'></a>\n",
    "\n",
    "## About ValidMind\n",
    "\n",
    "ValidMind is a platform for managing model risk, including risk associated with AI and statistical models.\n",
    "\n",
    "You use the ValidMind Developer Framework to automate documentation and validation tests, and then use the ValidMind AI Risk Platform UI to collaborate on model documentation. Together, these products simplify model risk management, facilitate compliance with regulations and institutional standards, and enhance collaboration between yourself and model validators.\n",
    "\n",
    "<a id='toc1_1_'></a>\n",
    "\n",
    "### Before you begin\n",
    "\n",
    "This notebook assumes you have basic familiarity with Python, including an understanding of how functions work. If you are new to Python, you can still run the notebook but we recommend further familiarizing yourself with the language. \n",
    "\n",
    "If you encounter errors due to missing modules in your Python environment, install the modules with `pip install`, and then re-run the notebook. For more help, refer to [Installing Python Modules](https://docs.python.org/3/installing/index.html).\n",
    "\n",
    "<a id='toc1_2_'></a>\n",
    "\n",
    "### New to ValidMind?\n",
    "\n",
    "If you haven't already seen our [Get started with the ValidMind Developer Framework](https://docs.validmind.ai/developer/get-started-developer-framework.html), we recommend you explore the available resources for developers at some point. There, you can learn more about documenting models, find code samples, or read our developer reference.\n",
    "\n",
    "<div class=\"alert alert-block alert-info\" style=\"background-color: #f7e4ee; color: black; border: 1px solid black;\">For access to all features available in this notebook, create a free ValidMind account.\n",
    "\n",
    "Signing up is FREE — <a href=\"https://app.prod.validmind.ai\"><b>Sign up now</b></a></div>\n",
    "\n",
    "<a id='toc1_3_'></a>\n",
    "\n",
    "### Key concepts\n",
    "\n",
    "**Model documentation**: A structured and detailed record pertaining to a model, encompassing key components such as its underlying assumptions, methodologies, data sources, inputs, performance metrics, evaluations, limitations, and intended uses. It serves to ensure transparency, adherence to regulatory requirements, and a clear understanding of potential risks associated with the model’s application.\n",
    "\n",
    "**Documentation template**: Functions as a test suite and lays out the structure of model documentation, segmented into various sections and sub-sections. Documentation templates define the structure of your model documentation, specifying the tests that should be run, and how the results should be displayed.\n",
    "\n",
    "**Tests**: A function contained in the ValidMind Developer Framework, designed to run a specific quantitative test on the dataset or model. Tests are the building blocks of ValidMind, used to evaluate and document models and datasets, and can be run individually or as part of a suite defined by your model documentation template.\n",
    "\n",
    "**Metrics**: A subset of tests that do not have thresholds. In the context of this notebook, metrics and tests can be thought of as interchangeable concepts.\n",
    "\n",
    "**Custom metrics**: Custom metrics are functions that you define to evaluate your model or dataset. These functions can be registered with ValidMind to be used in the platform.\n",
    "\n",
    "**Inputs**: Objects to be evaluated and documented in the ValidMind framework. They can be any of the following:\n",
    "\n",
    "  - **model**: A single model that has been initialized in ValidMind with [`vm.init_model()`](https://docs.validmind.ai/validmind/validmind.html#init_model).\n",
    "  - **dataset**: Single dataset that has been initialized in ValidMind with [`vm.init_dataset()`](https://docs.validmind.ai/validmind/validmind.html#init_dataset).\n",
    "  - **models**: A list of ValidMind models - usually this is used when you want to compare multiple models in your custom metric.\n",
    "  - **datasets**: A list of ValidMind datasets - usually this is used when you want to compare multiple datasets in your custom metric. See this [example](https://docs.validmind.ai/notebooks/how_to/run_tests_that_require_multiple_datasets.html) for more information.\n",
    "\n",
    "**Parameters**: Additional arguments that can be passed when running a ValidMind test, used to pass additional information to a metric, customize its behavior, or provide additional context.\n",
    "\n",
    "**Outputs**: Custom metrics can return elements like tables or plots. Tables may be a list of dictionaries (each representing a row) or a pandas DataFrame. Plots may be matplotlib or plotly figures.\n",
    "\n",
    "**Test suites**: Collections of tests designed to run together to automate and generate model documentation end-to-end for specific use-cases.\n",
    "\n",
    "Example: the [`classifier_full_suite`](https://docs.validmind.ai/validmind/validmind/test_suites/classifier.html#ClassifierFullSuite) test suite runs tests from the [`tabular_dataset`](https://docs.validmind.ai/validmind/validmind/test_suites/tabular_datasets.html) and [`classifier`](https://docs.validmind.ai/validmind/validmind/test_suites/classifier.html) test suites to fully document the data and model sections for binary classification model use-cases."
   ]
  },
  {
   "cell_type": "markdown",
   "metadata": {},
   "source": [
    "<a id='toc2_'></a>\n",
    "\n",
    "## Install the client library\n",
    "\n",
    "The client library provides Python support for the ValidMind Developer Framework. To install it:"
   ]
  },
  {
   "cell_type": "code",
   "execution_count": 1,
   "metadata": {},
   "outputs": [
    {
     "name": "stdout",
     "output_type": "stream",
     "text": [
      "\u001b[33mWARNING: visions 0.7.5 does not provide the extra 'type-image-path'\u001b[0m\u001b[33m\n",
      "\u001b[0m\n",
      "\u001b[1m[\u001b[0m\u001b[34;49mnotice\u001b[0m\u001b[1;39;49m]\u001b[0m\u001b[39;49m A new release of pip is available: \u001b[0m\u001b[31;49m24.0\u001b[0m\u001b[39;49m -> \u001b[0m\u001b[32;49m24.2\u001b[0m\n",
      "\u001b[1m[\u001b[0m\u001b[34;49mnotice\u001b[0m\u001b[1;39;49m]\u001b[0m\u001b[39;49m To update, run: \u001b[0m\u001b[32;49mpip install --upgrade pip\u001b[0m\n",
      "Note: you may need to restart the kernel to use updated packages.\n"
     ]
    }
   ],
   "source": [
    "%pip install -q validmind"
   ]
  },
  {
   "cell_type": "markdown",
   "metadata": {},
   "source": [
    "<a id='toc3_'></a>\n",
    "\n",
    "## Initialize the client library\n",
    "\n",
    "ValidMind generates a unique _code snippet_ for each registered model to connect with your developer environment. You initialize the client library with this code snippet, which ensures that your documentation and tests are uploaded to the correct model when you run the notebook.\n",
    "\n",
    "<a id='toc3_1_'></a>\n",
    "### Get your code snippet\n",
    "\n",
    "1. In a browser, log into the [Platform UI](https://app.prod.validmind.ai).\n",
    "\n",
    "2. In the left sidebar, navigate to **Model Inventory** and click **+ Register new model**.\n",
    "\n",
    "3. Enter the model details and click **Continue**. ([Need more help?](https://docs.validmind.ai/guide/model-inventory/register-models-in-inventory.html))\n",
    "\n",
    "   For example, to register a model for use with this notebook, select:\n",
    "\n",
    "   - Documentation template: `Time Series Forecasting with ML`\n",
    "   - Use case: `Analytics - Analytics`\n",
    "\n",
    "   You can fill in other options according to your preference.\n",
    "\n",
    "4. Go to **Getting Started** and click **Copy snippet to clipboard**.\n",
    "\n",
    "Next, replace this placeholder with your own code snippet:"
   ]
  },
  {
   "cell_type": "code",
   "execution_count": 2,
   "metadata": {},
   "outputs": [
    {
     "name": "stderr",
     "output_type": "stream",
     "text": [
      "2024-09-06 12:43:55,220 - INFO(validmind.api_client): Connected to ValidMind... Current Model: [Juan] Time Series Forecast Model - Initial Validation (clxaez3e901hl29ifkxosktry)\n"
     ]
    }
   ],
   "source": [
    "import validmind as vm\n",
    "\n",
    "vm.init(\n",
    "  api_host = \"https://api.prod.validmind.ai/api/v1/tracking\",\n",
    "  api_key = \"...\",\n",
    "  api_secret = \"...\",\n",
    "  project = \"...\"\n",
    ")"
   ]
  },
  {
   "cell_type": "markdown",
   "metadata": {},
   "source": [
    "<a id='toc4_'></a>\n",
    "\n",
    "## Initialize the Python environment\n",
    "\n",
    "Next, let's import the necessary libraries and set up your Python environment for data analysis:"
   ]
  },
  {
   "cell_type": "code",
   "execution_count": 3,
   "metadata": {},
   "outputs": [],
   "source": [
    "from sklearn.ensemble import RandomForestRegressor\n",
    "from sklearn.ensemble import RandomForestRegressor, GradientBoostingRegressor\n",
    "from sklearn.metrics import mean_squared_error, r2_score\n",
    "from sklearn.model_selection import train_test_split\n",
    "\n",
    "%matplotlib inline"
   ]
  },
  {
   "cell_type": "markdown",
   "metadata": {},
   "source": [
    "<a id='toc4_1_'></a>\n",
    "\n",
    "### Preview the documentation template\n",
    "\n",
    "A template predefines sections for your model documentation and provides a general outline to follow, making the documentation process much easier.\n",
    "\n",
    "You will upload documentation and test results into this template later on. For now, take a look at the structure that the template provides with the `vm.preview_template()` function from the ValidMind library and note the empty sections:"
   ]
  },
  {
   "cell_type": "code",
   "execution_count": 4,
   "metadata": {},
   "outputs": [
    {
     "name": "stderr",
     "output_type": "stream",
     "text": [
      "2024-09-06 12:43:55,677 - ERROR(validmind.tests.load): Unable to load test validmind.model_validation.ModelMetadataComparison. No module named 'validmind.tests.model_validation.ModelMetadataComparison'\n",
      "2024-09-06 12:43:56,014 - ERROR(validmind.tests.load): Unable to load test validmind.model_validation.sklearn.FeatureImportanceComparison. No module named 'validmind.tests.model_validation.sklearn.FeatureImportanceComparison'\n",
      "2024-09-06 12:43:56,018 - ERROR(validmind.tests.load): Unable to load test validmind.model_validation.sklearn.FeatureImportanceComparison. No module named 'validmind.tests.model_validation.sklearn.FeatureImportanceComparison'\n"
     ]
    },
    {
     "data": {
      "application/vnd.jupyter.widget-view+json": {
       "model_id": "61bd5fa31401457eaee53bcac94870e1",
       "version_major": 2,
       "version_minor": 0
      },
      "text/plain": [
       "Accordion(children=(Accordion(children=(HTML(value='<p>Empty Section</p>'), Accordion(children=(HTML(value='<p…"
      ]
     },
     "metadata": {},
     "output_type": "display_data"
    },
    {
     "data": {
      "text/html": [
       "\n",
       "<script defer type=\"module\">\n",
       "import hljs from 'https://unpkg.com/@highlightjs/cdn-assets@11.9.0/es/highlight.min.js';\n",
       "import python from 'https://cdnjs.cloudflare.com/ajax/libs/highlight.js/11.9.0/es/languages/python.min.js';\n",
       "\n",
       "hljs.registerLanguage('python', python);\n",
       "hljs.highlightAll();\n",
       "</script>\n"
      ],
      "text/plain": [
       "<IPython.core.display.HTML object>"
      ]
     },
     "metadata": {},
     "output_type": "display_data"
    },
    {
     "data": {
      "text/html": [
       "\n",
       "<script>\n",
       "window.MathJax = {\n",
       "    tex2jax: {\n",
       "        inlineMath: [['$', '$'], ['\\\\(', '\\\\)']],\n",
       "        displayMath: [['$$', '$$'], ['\\[', '\\]']],\n",
       "        processEscapes: true,\n",
       "        skipTags: ['script', 'noscript', 'style', 'textarea', 'pre'],\n",
       "        ignoreClass: \".*\",\n",
       "        processClass: \"math\"\n",
       "    }\n",
       "};\n",
       "setTimeout(function () {\n",
       "    var script = document.createElement('script');\n",
       "    script.type = 'text/javascript';\n",
       "    script.src = 'https://cdnjs.cloudflare.com/ajax/libs/mathjax/2.7.7/MathJax.js?config=TeX-AMS_HTML';\n",
       "    document.head.appendChild(script);\n",
       "}, 300);\n",
       "</script>\n"
      ],
      "text/plain": [
       "<IPython.core.display.HTML object>"
      ]
     },
     "metadata": {},
     "output_type": "display_data"
    }
   ],
   "source": [
    "vm.preview_template()"
   ]
  },
  {
   "cell_type": "markdown",
   "metadata": {},
   "source": [
    "<a id='toc5_'></a>\n",
    "\n",
    "## Load the sample dataset\n",
    "\n",
    "The sample dataset used here is provided by the ValidMind library. To be able to use it, you need to import the dataset and load it into a pandas [DataFrame](https://pandas.pydata.org/docs/reference/api/pandas.DataFrame.html), a two-dimensional tabular data structure that makes use of rows and columns:"
   ]
  },
  {
   "cell_type": "code",
   "execution_count": 5,
   "metadata": {},
   "outputs": [
    {
     "name": "stdout",
     "output_type": "stream",
     "text": [
      "Loaded demo dataset with: \n",
      "\n",
      "\t• Target column: 'MORTGAGE30US'\n"
     ]
    },
    {
     "data": {
      "text/html": [
       "<div>\n",
       "<style scoped>\n",
       "    .dataframe tbody tr th:only-of-type {\n",
       "        vertical-align: middle;\n",
       "    }\n",
       "\n",
       "    .dataframe tbody tr th {\n",
       "        vertical-align: top;\n",
       "    }\n",
       "\n",
       "    .dataframe thead th {\n",
       "        text-align: right;\n",
       "    }\n",
       "</style>\n",
       "<table border=\"1\" class=\"dataframe\">\n",
       "  <thead>\n",
       "    <tr style=\"text-align: right;\">\n",
       "      <th></th>\n",
       "      <th>MORTGAGE30US</th>\n",
       "      <th>FEDFUNDS</th>\n",
       "      <th>GS10</th>\n",
       "      <th>UNRATE</th>\n",
       "    </tr>\n",
       "    <tr>\n",
       "      <th>DATE</th>\n",
       "      <th></th>\n",
       "      <th></th>\n",
       "      <th></th>\n",
       "      <th></th>\n",
       "    </tr>\n",
       "  </thead>\n",
       "  <tbody>\n",
       "    <tr>\n",
       "      <th>1971-04-01</th>\n",
       "      <td>7.29</td>\n",
       "      <td>4.16</td>\n",
       "      <td>5.83</td>\n",
       "      <td>5.9</td>\n",
       "    </tr>\n",
       "    <tr>\n",
       "      <th>1971-05-01</th>\n",
       "      <td>7.46</td>\n",
       "      <td>4.63</td>\n",
       "      <td>6.39</td>\n",
       "      <td>5.9</td>\n",
       "    </tr>\n",
       "    <tr>\n",
       "      <th>1971-06-01</th>\n",
       "      <td>7.54</td>\n",
       "      <td>4.91</td>\n",
       "      <td>6.52</td>\n",
       "      <td>5.9</td>\n",
       "    </tr>\n",
       "    <tr>\n",
       "      <th>1971-07-01</th>\n",
       "      <td>7.69</td>\n",
       "      <td>5.31</td>\n",
       "      <td>6.73</td>\n",
       "      <td>6.0</td>\n",
       "    </tr>\n",
       "    <tr>\n",
       "      <th>1971-08-01</th>\n",
       "      <td>7.69</td>\n",
       "      <td>5.57</td>\n",
       "      <td>6.58</td>\n",
       "      <td>6.1</td>\n",
       "    </tr>\n",
       "  </tbody>\n",
       "</table>\n",
       "</div>"
      ],
      "text/plain": [
       "            MORTGAGE30US  FEDFUNDS  GS10  UNRATE\n",
       "DATE                                            \n",
       "1971-04-01          7.29      4.16  5.83     5.9\n",
       "1971-05-01          7.46      4.63  6.39     5.9\n",
       "1971-06-01          7.54      4.91  6.52     5.9\n",
       "1971-07-01          7.69      5.31  6.73     6.0\n",
       "1971-08-01          7.69      5.57  6.58     6.1"
      ]
     },
     "execution_count": 5,
     "metadata": {},
     "output_type": "execute_result"
    }
   ],
   "source": [
    "from validmind.datasets.regression import fred_timeseries \n",
    "\n",
    "target_column = fred_timeseries.target_column\n",
    "\n",
    "print(\n",
    "    f\"Loaded demo dataset with: \\n\\n\\t• Target column: '{target_column}'\"\n",
    ")\n",
    "\n",
    "raw_df = fred_timeseries.load_data()\n",
    "raw_df.head()"
   ]
  },
  {
   "cell_type": "markdown",
   "metadata": {},
   "source": [
    "<a id='toc6_'></a>\n",
    "\n",
    "## Document the model\n",
    "\n",
    "As part of documenting the model with the ValidMind Developer Framework, you need to preprocess the raw dataset, initialize some training and test datasets, initialize a model object you can use for testing, and then run the full suite of tests.\n"
   ]
  },
  {
   "cell_type": "markdown",
   "metadata": {},
   "source": [
    "<a id='toc6_1_'></a>\n",
    "\n",
    "### Prepocess the raw dataset\n",
    "\n",
    "Preprocessing performs a number of operations to get ready for the subsequent steps:\n",
    "- **Split the dataset**: Divide the original dataset into training and test sets for the primary model with an 80/20 split, without shuffling.\n",
    "- **Difference the data**: Calculate the first difference of the train and test datasets to remove trends and seasonality, then drop any resulting NaN values.\n",
    "- **Extract features and target variables**: Separate the feature columns (predictors) and the target variable from the differenced train and test datasets."
   ]
  },
  {
   "cell_type": "code",
   "execution_count": 6,
   "metadata": {},
   "outputs": [],
   "source": [
    "# Split the raw dataset into training and test sets \n",
    "train_df, test_df = train_test_split(raw_df, test_size=0.2, shuffle=False)\n",
    "\n",
    "# Take the first difference of the training and test sets\n",
    "train_diff_df = train_df.diff().dropna()\n",
    "test_diff_df = test_df.diff().dropna()\n",
    "\n",
    "# Extract the features and target variable from the training set\n",
    "X_diff_train = train_diff_df.drop(target_column, axis=1)\n",
    "y_diff_train = train_diff_df[target_column]\n",
    "\n",
    "# Extract the features and target variable from the test set\n",
    "X_diff_test = test_diff_df.drop(target_column, axis=1)\n",
    "y_diff_test = test_diff_df[target_column]"
   ]
  },
  {
   "cell_type": "markdown",
   "metadata": {},
   "source": [
    "### Train random forests and gradient boosting regressor models\n",
    "\n",
    "This section trains random forest and gradient boosting models on differenced data, transforms predictions back to the original scale, and evaluates model performance using Mean Squared Error (MSE) and R-squared (R²) scores. \n",
    "\n",
    "The following helper functions are used to post-process predictions and evaluate model performance:\n",
    "\n",
    "- `transform_to_levels`: Reconstructs the original values from differenced predictions by cumulatively summing them, starting from a given initial value.\n",
    "- `evaluate_model`: Calculates the Mean Squared Error (MSE) and R-squared (R²) score to evaluate the accuracy of the predictions against the true values.\n"
   ]
  },
  {
   "cell_type": "code",
   "execution_count": 7,
   "metadata": {},
   "outputs": [],
   "source": [
    "def transform_to_levels(y_diff_pred, first_value=0): \n",
    "    y_pred = [first_value]\n",
    "    for pred in y_diff_pred:\n",
    "        y_pred.append(y_pred[-1] + pred)\n",
    "    return y_pred\n",
    "\n",
    "def evaluate_model(y_true, y_pred):\n",
    "    mse = mean_squared_error(y_true, y_pred)\n",
    "    r2 = r2_score(y_true, y_pred)\n",
    "    return mse, r2"
   ]
  },
  {
   "cell_type": "code",
   "execution_count": 8,
   "metadata": {},
   "outputs": [
    {
     "name": "stdout",
     "output_type": "stream",
     "text": [
      "Train Mean Squared Error: 0.13612097694030667\n",
      "Train R-Squared: 0.9845198880871388\n",
      "Test Mean Squared Error: 0.3835722896861352\n",
      "Test R-Squared: 0.4705627500707046\n"
     ]
    }
   ],
   "source": [
    "# Fit the random forest model\n",
    "model_rf = RandomForestRegressor(n_estimators=1500, random_state=0)\n",
    "model_rf.fit(X_diff_train, y_diff_train)\n",
    "\n",
    "# Make predictions on the training and test sets\n",
    "y_diff_train_pred = model_rf.predict(X_diff_train)\n",
    "y_diff_test_pred = model_rf.predict(X_diff_test)\n",
    "\n",
    "# Transform the predictions back to the original scale\n",
    "y_train_rf_pred = transform_to_levels(y_diff_train_pred, first_value=train_df[target_column].iloc[0])\n",
    "y_test_rf_pred = transform_to_levels(y_diff_test_pred, first_value=test_df[target_column].iloc[0])\n",
    "\n",
    "# Evaluate the model's performance on the training and test sets\n",
    "mse_train, r2_train = evaluate_model(train_df[target_column], y_train_rf_pred)\n",
    "mse_test, r2_test = evaluate_model(test_df[target_column], y_test_rf_pred)\n",
    "\n",
    "print(f\"Train Mean Squared Error: {mse_train}\")\n",
    "print(f\"Train R-Squared: {r2_train}\")\n",
    "print(f\"Test Mean Squared Error: {mse_test}\")\n",
    "print(f\"Test R-Squared: {r2_test}\")"
   ]
  },
  {
   "cell_type": "code",
   "execution_count": 9,
   "metadata": {},
   "outputs": [
    {
     "name": "stdout",
     "output_type": "stream",
     "text": [
      "Train Mean Squared Error: 0.11493182228727752\n",
      "Train R-Squared: 0.9869295863771508\n",
      "Test Mean Squared Error: 0.43587652959423706\n",
      "Test R-Squared: 0.3983682415486034\n"
     ]
    }
   ],
   "source": [
    "# Fit the gradient boost model\n",
    "model_gb = GradientBoostingRegressor(n_estimators=1500, random_state=0)\n",
    "model_gb.fit(X_diff_train, y_diff_train)\n",
    "\n",
    "# Make predictions on the training and test sets\n",
    "y_diff_train_pred = model_gb.predict(X_diff_train)\n",
    "y_diff_test_pred = model_gb.predict(X_diff_test)\n",
    "\n",
    "# Transform the predictions back to the original scale\n",
    "y_train_gb_pred = transform_to_levels(y_diff_train_pred, first_value=train_df[target_column].iloc[0])\n",
    "y_test_gb_pred = transform_to_levels(y_diff_test_pred, first_value=test_df[target_column].iloc[0])\n",
    "\n",
    "# Evaluate the model's performance on the training and test sets\n",
    "mse_train, r2_train = evaluate_model(train_df[target_column], y_train_gb_pred)\n",
    "mse_test, r2_test = evaluate_model(test_df[target_column], y_test_gb_pred)\n",
    "\n",
    "print(f\"Train Mean Squared Error: {mse_train}\")\n",
    "print(f\"Train R-Squared: {r2_train}\")\n",
    "print(f\"Test Mean Squared Error: {mse_test}\")\n",
    "print(f\"Test R-Squared: {r2_test}\")"
   ]
  },
  {
   "cell_type": "markdown",
   "metadata": {},
   "source": [
    "<a id='toc6_2_'></a>\n",
    "\n",
    "### Initialize the ValidMind datasets\n",
    "\n",
    "Before you can run tests, you must first initialize a ValidMind dataset object using the [`init_dataset`](https://docs.validmind.ai/validmind/validmind.html#init_dataset) function from the ValidMind (`vm`) module.\n",
    "\n",
    "This function takes a number of arguments:\n",
    "\n",
    "- `dataset` — the raw dataset that you want to provide as input to tests\n",
    "- `input_id` - a unique identifier that allows tracking what inputs are used when running each individual test\n",
    "- `target_column` — a required argument if tests require access to true values. This is the name of the target column in the dataset\n",
    "\n",
    "With all dataframes ready, you can now initialize the ValidMind datasets objects using [`vm.init_dataset()`](https://docs.validmind.ai/validmind/validmind.html#init_dataset):\n",
    "\n",
    "- `vm_raw_ds`: contains the raw, unprocessed data with the specified target column.\n",
    "- `vm_train_diff_ds`: contains the training data with the differenced target column, excluding the first row to remove NaN values caused by differencing.\n",
    "- `vm_test_diff_ds`: contains the test data with the differenced target column, excluding the first row to remove NaN values caused by differencing.\n",
    "- `vm_train_ds`:  contains the training data, excluding the first row to align with the differenced data.\n",
    "- `vm_test_ds`: includes the test data split from the raw dataset."
   ]
  },
  {
   "cell_type": "code",
   "execution_count": 10,
   "metadata": {},
   "outputs": [
    {
     "name": "stderr",
     "output_type": "stream",
     "text": [
      "2024-09-06 12:43:58,011 - INFO(validmind.client): Pandas dataset detected. Initializing VM Dataset instance...\n",
      "2024-09-06 12:43:59,352 - INFO(validmind.client): Pandas dataset detected. Initializing VM Dataset instance...\n",
      "2024-09-06 12:43:59,653 - INFO(validmind.client): Pandas dataset detected. Initializing VM Dataset instance...\n",
      "2024-09-06 12:44:00,173 - INFO(validmind.client): Pandas dataset detected. Initializing VM Dataset instance...\n",
      "2024-09-06 12:44:00,490 - INFO(validmind.client): Pandas dataset detected. Initializing VM Dataset instance...\n"
     ]
    }
   ],
   "source": [
    "vm_raw_ds = vm.init_dataset(\n",
    "    input_id=\"raw_ds\",\n",
    "    dataset=raw_df,\n",
    "    target_column=target_column,\n",
    ")\n",
    "\n",
    "vm_train_diff_ds = vm.init_dataset(\n",
    "    input_id=\"train_diff_ds\",\n",
    "    dataset=train_diff_df,\n",
    "    target_column=target_column,\n",
    ")\n",
    "\n",
    "vm_test_diff_ds = vm.init_dataset(\n",
    "    input_id=\"test_diff_ds\",\n",
    "    dataset=test_diff_df,\n",
    "    target_column=target_column,\n",
    ")\n",
    "\n",
    "vm_train_ds = vm.init_dataset(\n",
    "    input_id=\"train_ds\",\n",
    "    dataset=train_df,\n",
    "    target_column=target_column,\n",
    ")\n",
    "\n",
    "vm_test_ds = vm.init_dataset(\n",
    "    input_id=\"test_ds\",\n",
    "    dataset=test_df,\n",
    "    target_column=target_column,\n",
    ")"
   ]
  },
  {
   "cell_type": "markdown",
   "metadata": {},
   "source": [
    "<a id='toc6_3_'></a>\n",
    "\n",
    "### Initialize the model objects\n",
    "\n",
    "Additionally, you need to initialize a ValidMind model object (`vm_model`) for each model, that can be passed to other functions for analysis and tests on the data. You simply intialize this model object with [`vm.init_model()`](https://docs.validmind.ai/validmind/validmind.html#init_model):"
   ]
  },
  {
   "cell_type": "code",
   "execution_count": 11,
   "metadata": {},
   "outputs": [],
   "source": [
    "vm_model_rf = vm.init_model(\n",
    "    model_rf,\n",
    "    input_id=\"random_forests_model\",\n",
    ")\n",
    "\n",
    "vm_model_gb = vm.init_model(\n",
    "    model_gb,\n",
    "    input_id=\"gradient_boosting_model\",\n",
    ")"
   ]
  },
  {
   "cell_type": "markdown",
   "metadata": {},
   "source": [
    "<a id='toc6_4_'></a>\n",
    "\n",
    "### Assign predictions to the datasets\n",
    "\n",
    "We can now use the assign_predictions() method from the Dataset object to link existing predictions to any model. If no prediction values are passed, the method will compute predictions automatically:\n"
   ]
  },
  {
   "cell_type": "code",
   "execution_count": 12,
   "metadata": {},
   "outputs": [
    {
     "name": "stderr",
     "output_type": "stream",
     "text": [
      "2024-09-06 12:44:02,336 - INFO(validmind.vm_models.dataset.dataset): No probabilities computed or provided. Not adding probability column to the dataset.\n",
      "2024-09-06 12:44:02,338 - INFO(validmind.vm_models.dataset.dataset): No probabilities computed or provided. Not adding probability column to the dataset.\n",
      "2024-09-06 12:44:02,339 - INFO(validmind.vm_models.dataset.dataset): No probabilities computed or provided. Not adding probability column to the dataset.\n",
      "2024-09-06 12:44:02,340 - INFO(validmind.vm_models.dataset.dataset): No probabilities computed or provided. Not adding probability column to the dataset.\n"
     ]
    }
   ],
   "source": [
    "vm_train_ds.assign_predictions(\n",
    "    model=vm_model_rf,\n",
    "    prediction_values=y_train_rf_pred,\n",
    ")\n",
    "\n",
    "vm_test_ds.assign_predictions(\n",
    "    model=vm_model_rf,\n",
    "    prediction_values=y_test_rf_pred,\n",
    ")\n",
    "\n",
    "vm_train_ds.assign_predictions(\n",
    "    model=vm_model_gb,\n",
    "    prediction_values=y_train_gb_pred,\n",
    ")\n",
    "\n",
    "vm_test_ds.assign_predictions(\n",
    "    model=vm_model_gb,\n",
    "    prediction_values=y_test_gb_pred,\n",
    ")"
   ]
  },
  {
   "cell_type": "code",
   "execution_count": 13,
   "metadata": {},
   "outputs": [
    {
     "data": {
      "text/html": [
       "\n",
       "    <script>\n",
       "    function toggleOutput() {\n",
       "        var content = document.getElementById(\"collapsibleContent\");\n",
       "        if (content.style.display === \"none\") {\n",
       "            content.style.display = \"block\";\n",
       "        } else {\n",
       "            content.style.display = \"none\";\n",
       "        }\n",
       "    }\n",
       "    </script>\n",
       "    <button onclick=\"toggleOutput()\">Preview Config</button>\n",
       "    <div id=\"collapsibleContent\" style=\"display:none;\"><pre>{\n",
       "    \"validmind.data_validation.TimeSeriesDescription\": {\n",
       "        \"inputs\": {\n",
       "            \"dataset\": \"raw_ds\"\n",
       "        }\n",
       "    },\n",
       "    \"validmind.data_validation.TimeSeriesLinePlot\": {\n",
       "        \"inputs\": {\n",
       "            \"dataset\": \"raw_ds\"\n",
       "        }\n",
       "    },\n",
       "    \"validmind.data_validation.TimeSeriesMissingValues\": {\n",
       "        \"inputs\": {\n",
       "            \"dataset\": \"raw_ds\"\n",
       "        }\n",
       "    },\n",
       "    \"validmind.data_validation.SeasonalDecompose\": {\n",
       "        \"inputs\": {\n",
       "            \"dataset\": \"raw_ds\"\n",
       "        }\n",
       "    },\n",
       "    \"validmind.data_validation.TimeSeriesDescriptiveStatistics:train_diff_data\": {\n",
       "        \"inputs\": {\n",
       "            \"dataset\": \"train_diff_ds\"\n",
       "        }\n",
       "    },\n",
       "    \"validmind.data_validation.TimeSeriesDescriptiveStatistics:test_diff_data\": {\n",
       "        \"inputs\": {\n",
       "            \"dataset\": \"test_diff_ds\"\n",
       "        }\n",
       "    },\n",
       "    \"validmind.data_validation.TimeSeriesOutliers:train_diff_data\": {\n",
       "        \"inputs\": {\n",
       "            \"dataset\": \"train_diff_ds\"\n",
       "        },\n",
       "        \"params\": {\n",
       "            \"zscore_threshold\": 4\n",
       "        }\n",
       "    },\n",
       "    \"validmind.data_validation.TimeSeriesOutliers:test_diff_data\": {\n",
       "        \"inputs\": {\n",
       "            \"dataset\": \"test_diff_ds\"\n",
       "        },\n",
       "        \"params\": {\n",
       "            \"zscore_threshold\": 4\n",
       "        }\n",
       "    },\n",
       "    \"validmind.data_validation.TimeSeriesHistogram:train_diff_data\": {\n",
       "        \"inputs\": {\n",
       "            \"dataset\": \"train_diff_ds\"\n",
       "        },\n",
       "        \"params\": {\n",
       "            \"nbins\": 100\n",
       "        }\n",
       "    },\n",
       "    \"validmind.data_validation.TimeSeriesHistogram:test_diff_data\": {\n",
       "        \"inputs\": {\n",
       "            \"dataset\": \"test_diff_ds\"\n",
       "        },\n",
       "        \"params\": {\n",
       "            \"nbins\": 100\n",
       "        }\n",
       "    },\n",
       "    \"validmind.data_validation.DatasetSplit\": {\n",
       "        \"inputs\": {\n",
       "            \"datasets\": [\n",
       "                \"train_diff_ds\",\n",
       "                \"test_diff_ds\"\n",
       "            ]\n",
       "        }\n",
       "    },\n",
       "    \"validmind.model_validation.ModelMetadata:random_forest\": {\n",
       "        \"inputs\": {\n",
       "            \"model\": [\n",
       "                \"random_forests_model\"\n",
       "            ]\n",
       "        }\n",
       "    },\n",
       "    \"validmind.model_validation.ModelMetadata:gradient_boosting\": {\n",
       "        \"inputs\": {\n",
       "            \"model\": [\n",
       "                \"gradient_boosting_model\"\n",
       "            ]\n",
       "        }\n",
       "    },\n",
       "    \"validmind.model_validation.sklearn.RegressionErrors\": {\n",
       "        \"input_grid\": {\n",
       "            \"datasets\": [\n",
       "                \"train_ds\",\n",
       "                \"test_ds\"\n",
       "            ],\n",
       "            \"models\": [\n",
       "                \"random_forests_model\",\n",
       "                \"gradient_boosting_model\"\n",
       "            ]\n",
       "        }\n",
       "    },\n",
       "    \"validmind.model_validation.sklearn.RegressionR2Square\": {\n",
       "        \"input_grid\": {\n",
       "            \"dataset\": [\n",
       "                \"train_ds\",\n",
       "                \"test_ds\"\n",
       "            ],\n",
       "            \"model\": [\n",
       "                \"random_forests_model\",\n",
       "                \"gradient_boosting_model\"\n",
       "            ]\n",
       "        }\n",
       "    },\n",
       "    \"validmind.model_validation.TimeSeriesR2SquareBySegments:train_data\": {\n",
       "        \"input_grid\": {\n",
       "            \"dataset\": [\n",
       "                \"train_ds\"\n",
       "            ],\n",
       "            \"model\": [\n",
       "                \"random_forests_model\",\n",
       "                \"gradient_boosting_model\"\n",
       "            ]\n",
       "        }\n",
       "    },\n",
       "    \"validmind.model_validation.TimeSeriesR2SquareBySegments:test_data\": {\n",
       "        \"input_grid\": {\n",
       "            \"datasets\": [\n",
       "                \"test_ds\"\n",
       "            ],\n",
       "            \"models\": [\n",
       "                \"random_forests_model\",\n",
       "                \"gradient_boosting_model\"\n",
       "            ]\n",
       "        },\n",
       "        \"params\": {\n",
       "            \"segments\": {\n",
       "                \"start_date\": [\n",
       "                    \"2012-11-01\",\n",
       "                    \"2018-02-01\"\n",
       "                ],\n",
       "                \"end_date\": [\n",
       "                    \"2018-01-01\",\n",
       "                    \"2023-03-01\"\n",
       "                ]\n",
       "            }\n",
       "        }\n",
       "    },\n",
       "    \"validmind.model_validation.TimeSeriesPredictionsPlot:train_data\": {\n",
       "        \"input_grid\": {\n",
       "            \"datasets\": [\n",
       "                \"train_ds\",\n",
       "                \"test_data\"\n",
       "            ],\n",
       "            \"models\": [\n",
       "                \"random_forests_model\",\n",
       "                \"gradient_boosting_model\"\n",
       "            ]\n",
       "        }\n",
       "    },\n",
       "    \"validmind.model_validation.TimeSeriesPredictionWithCI:random_forests_model\": {\n",
       "        \"inputs\": {\n",
       "            \"dataset\": \"test_ds\",\n",
       "            \"model\": \"random_forests_model\"\n",
       "        }\n",
       "    },\n",
       "    \"validmind.model_validation.TimeSeriesPredictionWithCI:gradient_boosting_model\": {\n",
       "        \"inputs\": {\n",
       "            \"dataset\": \"test_ds\",\n",
       "            \"model\": \"gradient_boosting_model\"\n",
       "        }\n",
       "    },\n",
       "    \"validmind.model_validation.ModelPredictionResiduals:train_data\": {\n",
       "        \"inputs\": {\n",
       "            \"datasets\": [\n",
       "                \"train_ds\",\n",
       "                \"train_ds\"\n",
       "            ],\n",
       "            \"models\": [\n",
       "                \"random_forests_model\",\n",
       "                \"gradient_boosting_model\"\n",
       "            ]\n",
       "        }\n",
       "    },\n",
       "    \"validmind.model_validation.ModelPredictionResiduals:test_data\": {\n",
       "        \"inputs\": {\n",
       "            \"datasets\": [\n",
       "                \"test_ds\",\n",
       "                \"test_ds\"\n",
       "            ],\n",
       "            \"models\": [\n",
       "                \"random_forests_model\",\n",
       "                \"gradient_boosting_model\"\n",
       "            ]\n",
       "        }\n",
       "    },\n",
       "    \"validmind.model_validation.sklearn.FeatureImportance:Comparison\": {\n",
       "        \"input_grid\": {\n",
       "            \"dataset\": [\n",
       "                \"train_ds\",\n",
       "                \"test_ds\"\n",
       "            ],\n",
       "            \"model\": [\n",
       "                \"random_forests_model\",\n",
       "                \"gradient_boosting_model\"\n",
       "            ]\n",
       "        }\n",
       "    },\n",
       "    \"validmind.model_validation.sklearn.PermutationFeatureImportance:random_forests_model\": {\n",
       "        \"inputs\": {\n",
       "            \"dataset\": \"test_ds\",\n",
       "            \"model\": \"random_forests_model\"\n",
       "        }\n",
       "    },\n",
       "    \"validmind.model_validation.sklearn.PermutationFeatureImportance:gradient_boosting_model\": {\n",
       "        \"inputs\": {\n",
       "            \"dataset\": \"test_ds\",\n",
       "            \"model\": \"gradient_boosting_model\"\n",
       "        }\n",
       "    }\n",
       "}</pre></div>\n",
       "    "
      ],
      "text/plain": [
       "<IPython.core.display.HTML object>"
      ]
     },
     "metadata": {},
     "output_type": "display_data"
    }
   ],
   "source": [
    "from validmind.utils import preview_test_config\n",
    "\n",
    "test_config = fred_timeseries.get_demo_test_config()\n",
    "preview_test_config(test_config)"
   ]
  },
  {
   "cell_type": "markdown",
   "metadata": {},
   "source": [
    "### Run data validation tests"
   ]
  },
  {
   "cell_type": "code",
   "execution_count": 14,
   "metadata": {},
   "outputs": [
    {
     "data": {
      "application/vnd.jupyter.widget-view+json": {
       "model_id": "ee3e4db90c734477915128b9c7b6dfa1",
       "version_major": 2,
       "version_minor": 0
      },
      "text/plain": [
       "VBox(children=(HTML(value='<h1>Time Series Description</h1>'), HTML(value='<p><strong>Time Series Description<…"
      ]
     },
     "metadata": {},
     "output_type": "display_data"
    },
    {
     "data": {
      "text/html": [
       "\n",
       "<script defer type=\"module\">\n",
       "import hljs from 'https://unpkg.com/@highlightjs/cdn-assets@11.9.0/es/highlight.min.js';\n",
       "import python from 'https://cdnjs.cloudflare.com/ajax/libs/highlight.js/11.9.0/es/languages/python.min.js';\n",
       "\n",
       "hljs.registerLanguage('python', python);\n",
       "hljs.highlightAll();\n",
       "</script>\n"
      ],
      "text/plain": [
       "<IPython.core.display.HTML object>"
      ]
     },
     "metadata": {},
     "output_type": "display_data"
    },
    {
     "data": {
      "text/html": [
       "\n",
       "<script>\n",
       "window.MathJax = {\n",
       "    tex2jax: {\n",
       "        inlineMath: [['$', '$'], ['\\\\(', '\\\\)']],\n",
       "        displayMath: [['$$', '$$'], ['\\[', '\\]']],\n",
       "        processEscapes: true,\n",
       "        skipTags: ['script', 'noscript', 'style', 'textarea', 'pre'],\n",
       "        ignoreClass: \".*\",\n",
       "        processClass: \"math\"\n",
       "    }\n",
       "};\n",
       "setTimeout(function () {\n",
       "    var script = document.createElement('script');\n",
       "    script.type = 'text/javascript';\n",
       "    script.src = 'https://cdnjs.cloudflare.com/ajax/libs/mathjax/2.7.7/MathJax.js?config=TeX-AMS_HTML';\n",
       "    document.head.appendChild(script);\n",
       "}, 300);\n",
       "</script>\n"
      ],
      "text/plain": [
       "<IPython.core.display.HTML object>"
      ]
     },
     "metadata": {},
     "output_type": "display_data"
    }
   ],
   "source": [
    "test = vm.tests.run_test(\n",
    "    \"validmind.data_validation.TimeSeriesDescription\",\n",
    "    input_grid={\n",
    "        \"dataset\": [\"raw_ds\", \"train_diff_ds\", \"test_diff_ds\", \"train_ds\", \"test_ds\"],\n",
    "    },\n",
    ")\n",
    "test.log()"
   ]
  },
  {
   "cell_type": "code",
   "execution_count": 15,
   "metadata": {},
   "outputs": [
    {
     "data": {
      "application/vnd.jupyter.widget-view+json": {
       "model_id": "a0706845e65f4f2ba720263bf5eba451",
       "version_major": 2,
       "version_minor": 0
      },
      "text/plain": [
       "VBox(children=(HTML(value='<h1>Time Series Line Plot</h1>'), HTML(value='<p><strong>Time Series Line Plot</str…"
      ]
     },
     "metadata": {},
     "output_type": "display_data"
    },
    {
     "data": {
      "text/html": [
       "\n",
       "<script defer type=\"module\">\n",
       "import hljs from 'https://unpkg.com/@highlightjs/cdn-assets@11.9.0/es/highlight.min.js';\n",
       "import python from 'https://cdnjs.cloudflare.com/ajax/libs/highlight.js/11.9.0/es/languages/python.min.js';\n",
       "\n",
       "hljs.registerLanguage('python', python);\n",
       "hljs.highlightAll();\n",
       "</script>\n"
      ],
      "text/plain": [
       "<IPython.core.display.HTML object>"
      ]
     },
     "metadata": {},
     "output_type": "display_data"
    },
    {
     "data": {
      "text/html": [
       "\n",
       "<script>\n",
       "window.MathJax = {\n",
       "    tex2jax: {\n",
       "        inlineMath: [['$', '$'], ['\\\\(', '\\\\)']],\n",
       "        displayMath: [['$$', '$$'], ['\\[', '\\]']],\n",
       "        processEscapes: true,\n",
       "        skipTags: ['script', 'noscript', 'style', 'textarea', 'pre'],\n",
       "        ignoreClass: \".*\",\n",
       "        processClass: \"math\"\n",
       "    }\n",
       "};\n",
       "setTimeout(function () {\n",
       "    var script = document.createElement('script');\n",
       "    script.type = 'text/javascript';\n",
       "    script.src = 'https://cdnjs.cloudflare.com/ajax/libs/mathjax/2.7.7/MathJax.js?config=TeX-AMS_HTML';\n",
       "    document.head.appendChild(script);\n",
       "}, 300);\n",
       "</script>\n"
      ],
      "text/plain": [
       "<IPython.core.display.HTML object>"
      ]
     },
     "metadata": {},
     "output_type": "display_data"
    }
   ],
   "source": [
    "test = vm.tests.run_test(\n",
    "    \"validmind.data_validation.TimeSeriesLinePlot\",\n",
    "    input_grid={\n",
    "        \"dataset\": [\"raw_ds\"],\n",
    "    },\n",
    ")\n",
    "test.log()"
   ]
  },
  {
   "cell_type": "code",
   "execution_count": 16,
   "metadata": {},
   "outputs": [
    {
     "data": {
      "application/vnd.jupyter.widget-view+json": {
       "model_id": "d08ae11a4c4d4d8380de10958aa70185",
       "version_major": 2,
       "version_minor": 0
      },
      "text/plain": [
       "VBox(children=(HTML(value='\\n            <h1>Time Series Missing Values ✅</h1>\\n            <p><strong>Time Se…"
      ]
     },
     "metadata": {},
     "output_type": "display_data"
    },
    {
     "data": {
      "text/html": [
       "\n",
       "<script defer type=\"module\">\n",
       "import hljs from 'https://unpkg.com/@highlightjs/cdn-assets@11.9.0/es/highlight.min.js';\n",
       "import python from 'https://cdnjs.cloudflare.com/ajax/libs/highlight.js/11.9.0/es/languages/python.min.js';\n",
       "\n",
       "hljs.registerLanguage('python', python);\n",
       "hljs.highlightAll();\n",
       "</script>\n"
      ],
      "text/plain": [
       "<IPython.core.display.HTML object>"
      ]
     },
     "metadata": {},
     "output_type": "display_data"
    },
    {
     "data": {
      "text/html": [
       "\n",
       "<script>\n",
       "window.MathJax = {\n",
       "    tex2jax: {\n",
       "        inlineMath: [['$', '$'], ['\\\\(', '\\\\)']],\n",
       "        displayMath: [['$$', '$$'], ['\\[', '\\]']],\n",
       "        processEscapes: true,\n",
       "        skipTags: ['script', 'noscript', 'style', 'textarea', 'pre'],\n",
       "        ignoreClass: \".*\",\n",
       "        processClass: \"math\"\n",
       "    }\n",
       "};\n",
       "setTimeout(function () {\n",
       "    var script = document.createElement('script');\n",
       "    script.type = 'text/javascript';\n",
       "    script.src = 'https://cdnjs.cloudflare.com/ajax/libs/mathjax/2.7.7/MathJax.js?config=TeX-AMS_HTML';\n",
       "    document.head.appendChild(script);\n",
       "}, 300);\n",
       "</script>\n"
      ],
      "text/plain": [
       "<IPython.core.display.HTML object>"
      ]
     },
     "metadata": {},
     "output_type": "display_data"
    }
   ],
   "source": [
    "test = vm.tests.run_test(\n",
    "    \"validmind.data_validation.TimeSeriesMissingValues\",\n",
    "    input_grid={\n",
    "        \"dataset\": [\"raw_ds\", \"train_diff_ds\", \"test_diff_ds\", \"train_ds\", \"test_ds\"],\n",
    "    },\n",
    ")\n",
    "test.log()"
   ]
  },
  {
   "cell_type": "code",
   "execution_count": 17,
   "metadata": {},
   "outputs": [
    {
     "data": {
      "application/vnd.jupyter.widget-view+json": {
       "model_id": "a247cd405cfd4e7dae01b6f2233f6dbd",
       "version_major": 2,
       "version_minor": 0
      },
      "text/plain": [
       "VBox(children=(HTML(value='<h1>Seasonal Decompose</h1>'), HTML(value='<p><strong>Seasonal Decompose</strong> c…"
      ]
     },
     "metadata": {},
     "output_type": "display_data"
    },
    {
     "data": {
      "text/html": [
       "\n",
       "<script defer type=\"module\">\n",
       "import hljs from 'https://unpkg.com/@highlightjs/cdn-assets@11.9.0/es/highlight.min.js';\n",
       "import python from 'https://cdnjs.cloudflare.com/ajax/libs/highlight.js/11.9.0/es/languages/python.min.js';\n",
       "\n",
       "hljs.registerLanguage('python', python);\n",
       "hljs.highlightAll();\n",
       "</script>\n"
      ],
      "text/plain": [
       "<IPython.core.display.HTML object>"
      ]
     },
     "metadata": {},
     "output_type": "display_data"
    },
    {
     "data": {
      "text/html": [
       "\n",
       "<script>\n",
       "window.MathJax = {\n",
       "    tex2jax: {\n",
       "        inlineMath: [['$', '$'], ['\\\\(', '\\\\)']],\n",
       "        displayMath: [['$$', '$$'], ['\\[', '\\]']],\n",
       "        processEscapes: true,\n",
       "        skipTags: ['script', 'noscript', 'style', 'textarea', 'pre'],\n",
       "        ignoreClass: \".*\",\n",
       "        processClass: \"math\"\n",
       "    }\n",
       "};\n",
       "setTimeout(function () {\n",
       "    var script = document.createElement('script');\n",
       "    script.type = 'text/javascript';\n",
       "    script.src = 'https://cdnjs.cloudflare.com/ajax/libs/mathjax/2.7.7/MathJax.js?config=TeX-AMS_HTML';\n",
       "    document.head.appendChild(script);\n",
       "}, 300);\n",
       "</script>\n"
      ],
      "text/plain": [
       "<IPython.core.display.HTML object>"
      ]
     },
     "metadata": {},
     "output_type": "display_data"
    }
   ],
   "source": [
    "test = vm.tests.run_test(\n",
    "    \"validmind.data_validation.SeasonalDecompose\",\n",
    "    input_grid={\n",
    "        \"dataset\": [\"raw_ds\"],\n",
    "    },\n",
    ")\n",
    "test.log()"
   ]
  },
  {
   "cell_type": "code",
   "execution_count": 18,
   "metadata": {},
   "outputs": [
    {
     "data": {
      "application/vnd.jupyter.widget-view+json": {
       "model_id": "e332972606374ba5a2c474cd4404d191",
       "version_major": 2,
       "version_minor": 0
      },
      "text/plain": [
       "VBox(children=(HTML(value='<h1>Time Series Descriptive Statistics</h1>'), HTML(value='<p><strong>Time Series D…"
      ]
     },
     "metadata": {},
     "output_type": "display_data"
    },
    {
     "data": {
      "text/html": [
       "\n",
       "<script defer type=\"module\">\n",
       "import hljs from 'https://unpkg.com/@highlightjs/cdn-assets@11.9.0/es/highlight.min.js';\n",
       "import python from 'https://cdnjs.cloudflare.com/ajax/libs/highlight.js/11.9.0/es/languages/python.min.js';\n",
       "\n",
       "hljs.registerLanguage('python', python);\n",
       "hljs.highlightAll();\n",
       "</script>\n"
      ],
      "text/plain": [
       "<IPython.core.display.HTML object>"
      ]
     },
     "metadata": {},
     "output_type": "display_data"
    },
    {
     "data": {
      "text/html": [
       "\n",
       "<script>\n",
       "window.MathJax = {\n",
       "    tex2jax: {\n",
       "        inlineMath: [['$', '$'], ['\\\\(', '\\\\)']],\n",
       "        displayMath: [['$$', '$$'], ['\\[', '\\]']],\n",
       "        processEscapes: true,\n",
       "        skipTags: ['script', 'noscript', 'style', 'textarea', 'pre'],\n",
       "        ignoreClass: \".*\",\n",
       "        processClass: \"math\"\n",
       "    }\n",
       "};\n",
       "setTimeout(function () {\n",
       "    var script = document.createElement('script');\n",
       "    script.type = 'text/javascript';\n",
       "    script.src = 'https://cdnjs.cloudflare.com/ajax/libs/mathjax/2.7.7/MathJax.js?config=TeX-AMS_HTML';\n",
       "    document.head.appendChild(script);\n",
       "}, 300);\n",
       "</script>\n"
      ],
      "text/plain": [
       "<IPython.core.display.HTML object>"
      ]
     },
     "metadata": {},
     "output_type": "display_data"
    }
   ],
   "source": [
    "test = vm.tests.run_test(\n",
    "    \"validmind.data_validation.TimeSeriesDescriptiveStatistics\",\n",
    "    input_grid={\n",
    "        \"dataset\": [\"train_diff_ds\", \"test_diff_ds\"],\n",
    "    },\n",
    ")\n",
    "test.log()"
   ]
  },
  {
   "cell_type": "code",
   "execution_count": 19,
   "metadata": {},
   "outputs": [
    {
     "data": {
      "application/vnd.jupyter.widget-view+json": {
       "model_id": "475c84c414fa40fa8da77b1edb565abd",
       "version_major": 2,
       "version_minor": 0
      },
      "text/plain": [
       "VBox(children=(HTML(value='\\n            <h1>Time Series Outliers ❌</h1>\\n            <p><strong>Time Series O…"
      ]
     },
     "metadata": {},
     "output_type": "display_data"
    },
    {
     "data": {
      "text/html": [
       "\n",
       "<script defer type=\"module\">\n",
       "import hljs from 'https://unpkg.com/@highlightjs/cdn-assets@11.9.0/es/highlight.min.js';\n",
       "import python from 'https://cdnjs.cloudflare.com/ajax/libs/highlight.js/11.9.0/es/languages/python.min.js';\n",
       "\n",
       "hljs.registerLanguage('python', python);\n",
       "hljs.highlightAll();\n",
       "</script>\n"
      ],
      "text/plain": [
       "<IPython.core.display.HTML object>"
      ]
     },
     "metadata": {},
     "output_type": "display_data"
    },
    {
     "data": {
      "text/html": [
       "\n",
       "<script>\n",
       "window.MathJax = {\n",
       "    tex2jax: {\n",
       "        inlineMath: [['$', '$'], ['\\\\(', '\\\\)']],\n",
       "        displayMath: [['$$', '$$'], ['\\[', '\\]']],\n",
       "        processEscapes: true,\n",
       "        skipTags: ['script', 'noscript', 'style', 'textarea', 'pre'],\n",
       "        ignoreClass: \".*\",\n",
       "        processClass: \"math\"\n",
       "    }\n",
       "};\n",
       "setTimeout(function () {\n",
       "    var script = document.createElement('script');\n",
       "    script.type = 'text/javascript';\n",
       "    script.src = 'https://cdnjs.cloudflare.com/ajax/libs/mathjax/2.7.7/MathJax.js?config=TeX-AMS_HTML';\n",
       "    document.head.appendChild(script);\n",
       "}, 300);\n",
       "</script>\n"
      ],
      "text/plain": [
       "<IPython.core.display.HTML object>"
      ]
     },
     "metadata": {},
     "output_type": "display_data"
    }
   ],
   "source": [
    "test = vm.tests.run_test(\n",
    "    \"validmind.data_validation.TimeSeriesOutliers\",\n",
    "    input_grid={\n",
    "        \"dataset\": [\"train_diff_ds\", \"test_diff_ds\"],\n",
    "    },\n",
    "    params={\n",
    "        \"zscore_threshold\": 4\n",
    "    }\n",
    ")\n",
    "test.log()"
   ]
  },
  {
   "cell_type": "code",
   "execution_count": 20,
   "metadata": {},
   "outputs": [
    {
     "data": {
      "application/vnd.jupyter.widget-view+json": {
       "model_id": "b748950b6f8e45b387bd272c81ac8810",
       "version_major": 2,
       "version_minor": 0
      },
      "text/plain": [
       "VBox(children=(HTML(value='<h1>Time Series Histogram</h1>'), HTML(value='<p><strong>Time Series Histogram</str…"
      ]
     },
     "metadata": {},
     "output_type": "display_data"
    },
    {
     "data": {
      "text/html": [
       "\n",
       "<script defer type=\"module\">\n",
       "import hljs from 'https://unpkg.com/@highlightjs/cdn-assets@11.9.0/es/highlight.min.js';\n",
       "import python from 'https://cdnjs.cloudflare.com/ajax/libs/highlight.js/11.9.0/es/languages/python.min.js';\n",
       "\n",
       "hljs.registerLanguage('python', python);\n",
       "hljs.highlightAll();\n",
       "</script>\n"
      ],
      "text/plain": [
       "<IPython.core.display.HTML object>"
      ]
     },
     "metadata": {},
     "output_type": "display_data"
    },
    {
     "data": {
      "text/html": [
       "\n",
       "<script>\n",
       "window.MathJax = {\n",
       "    tex2jax: {\n",
       "        inlineMath: [['$', '$'], ['\\\\(', '\\\\)']],\n",
       "        displayMath: [['$$', '$$'], ['\\[', '\\]']],\n",
       "        processEscapes: true,\n",
       "        skipTags: ['script', 'noscript', 'style', 'textarea', 'pre'],\n",
       "        ignoreClass: \".*\",\n",
       "        processClass: \"math\"\n",
       "    }\n",
       "};\n",
       "setTimeout(function () {\n",
       "    var script = document.createElement('script');\n",
       "    script.type = 'text/javascript';\n",
       "    script.src = 'https://cdnjs.cloudflare.com/ajax/libs/mathjax/2.7.7/MathJax.js?config=TeX-AMS_HTML';\n",
       "    document.head.appendChild(script);\n",
       "}, 300);\n",
       "</script>\n"
      ],
      "text/plain": [
       "<IPython.core.display.HTML object>"
      ]
     },
     "metadata": {},
     "output_type": "display_data"
    }
   ],
   "source": [
    "test = vm.tests.run_test(\n",
    "    \"validmind.data_validation.TimeSeriesHistogram\",\n",
    "    input_grid={\n",
    "        \"dataset\": [ \"train_diff_ds\", \"test_diff_ds\"],\n",
    "    },\n",
    "    params={\n",
    "        \"nbins\": 100\n",
    "    }\n",
    ")\n",
    "test.log()"
   ]
  },
  {
   "cell_type": "code",
   "execution_count": 21,
   "metadata": {},
   "outputs": [
    {
     "data": {
      "application/vnd.jupyter.widget-view+json": {
       "model_id": "fdd67ff7695641ecb543ffa332cf42b2",
       "version_major": 2,
       "version_minor": 0
      },
      "text/plain": [
       "VBox(children=(HTML(value='<h1>Dataset Split</h1>'), HTML(value=\"<p><strong>Dataset Split</strong> evaluates a…"
      ]
     },
     "metadata": {},
     "output_type": "display_data"
    },
    {
     "data": {
      "text/html": [
       "\n",
       "<script defer type=\"module\">\n",
       "import hljs from 'https://unpkg.com/@highlightjs/cdn-assets@11.9.0/es/highlight.min.js';\n",
       "import python from 'https://cdnjs.cloudflare.com/ajax/libs/highlight.js/11.9.0/es/languages/python.min.js';\n",
       "\n",
       "hljs.registerLanguage('python', python);\n",
       "hljs.highlightAll();\n",
       "</script>\n"
      ],
      "text/plain": [
       "<IPython.core.display.HTML object>"
      ]
     },
     "metadata": {},
     "output_type": "display_data"
    },
    {
     "data": {
      "text/html": [
       "\n",
       "<script>\n",
       "window.MathJax = {\n",
       "    tex2jax: {\n",
       "        inlineMath: [['$', '$'], ['\\\\(', '\\\\)']],\n",
       "        displayMath: [['$$', '$$'], ['\\[', '\\]']],\n",
       "        processEscapes: true,\n",
       "        skipTags: ['script', 'noscript', 'style', 'textarea', 'pre'],\n",
       "        ignoreClass: \".*\",\n",
       "        processClass: \"math\"\n",
       "    }\n",
       "};\n",
       "setTimeout(function () {\n",
       "    var script = document.createElement('script');\n",
       "    script.type = 'text/javascript';\n",
       "    script.src = 'https://cdnjs.cloudflare.com/ajax/libs/mathjax/2.7.7/MathJax.js?config=TeX-AMS_HTML';\n",
       "    document.head.appendChild(script);\n",
       "}, 300);\n",
       "</script>\n"
      ],
      "text/plain": [
       "<IPython.core.display.HTML object>"
      ]
     },
     "metadata": {},
     "output_type": "display_data"
    }
   ],
   "source": [
    "test = vm.tests.run_test(\n",
    "    \"validmind.data_validation.DatasetSplit\",\n",
    "    inputs={\n",
    "        \"datasets\": [\"train_diff_ds\", \"test_diff_ds\"],\n",
    "    }\n",
    ")\n",
    "test.log()"
   ]
  },
  {
   "cell_type": "markdown",
   "metadata": {},
   "source": [
    "### Run model validation tests"
   ]
  },
  {
   "cell_type": "code",
   "execution_count": 22,
   "metadata": {},
   "outputs": [
    {
     "data": {
      "application/vnd.jupyter.widget-view+json": {
       "model_id": "03be75aa9b34477bbedda8f3bbf5a2ef",
       "version_major": 2,
       "version_minor": 0
      },
      "text/plain": [
       "VBox(children=(HTML(value='<h1>Model Metadata</h1>'), HTML(value='<p><strong>Model Metadata</strong> calculate…"
      ]
     },
     "metadata": {},
     "output_type": "display_data"
    },
    {
     "data": {
      "text/html": [
       "\n",
       "<script defer type=\"module\">\n",
       "import hljs from 'https://unpkg.com/@highlightjs/cdn-assets@11.9.0/es/highlight.min.js';\n",
       "import python from 'https://cdnjs.cloudflare.com/ajax/libs/highlight.js/11.9.0/es/languages/python.min.js';\n",
       "\n",
       "hljs.registerLanguage('python', python);\n",
       "hljs.highlightAll();\n",
       "</script>\n"
      ],
      "text/plain": [
       "<IPython.core.display.HTML object>"
      ]
     },
     "metadata": {},
     "output_type": "display_data"
    },
    {
     "data": {
      "text/html": [
       "\n",
       "<script>\n",
       "window.MathJax = {\n",
       "    tex2jax: {\n",
       "        inlineMath: [['$', '$'], ['\\\\(', '\\\\)']],\n",
       "        displayMath: [['$$', '$$'], ['\\[', '\\]']],\n",
       "        processEscapes: true,\n",
       "        skipTags: ['script', 'noscript', 'style', 'textarea', 'pre'],\n",
       "        ignoreClass: \".*\",\n",
       "        processClass: \"math\"\n",
       "    }\n",
       "};\n",
       "setTimeout(function () {\n",
       "    var script = document.createElement('script');\n",
       "    script.type = 'text/javascript';\n",
       "    script.src = 'https://cdnjs.cloudflare.com/ajax/libs/mathjax/2.7.7/MathJax.js?config=TeX-AMS_HTML';\n",
       "    document.head.appendChild(script);\n",
       "}, 300);\n",
       "</script>\n"
      ],
      "text/plain": [
       "<IPython.core.display.HTML object>"
      ]
     },
     "metadata": {},
     "output_type": "display_data"
    }
   ],
   "source": [
    "test = vm.tests.run_test(\n",
    "    \"validmind.model_validation.ModelMetadata\",\n",
    "    input_grid={\n",
    "        \"model\": [\"random_forests_model\", \"gradient_boosting_model\"],\n",
    "    }\n",
    ")\n",
    "test.log()"
   ]
  },
  {
   "cell_type": "code",
   "execution_count": 23,
   "metadata": {},
   "outputs": [
    {
     "data": {
      "application/vnd.jupyter.widget-view+json": {
       "model_id": "8f010aa1144f436d97f891cb17bd4491",
       "version_major": 2,
       "version_minor": 0
      },
      "text/plain": [
       "VBox(children=(HTML(value='<h1>Regression Errors</h1>'), HTML(value='<p><strong>Regression Errors</strong> cal…"
      ]
     },
     "metadata": {},
     "output_type": "display_data"
    },
    {
     "data": {
      "text/html": [
       "\n",
       "<script defer type=\"module\">\n",
       "import hljs from 'https://unpkg.com/@highlightjs/cdn-assets@11.9.0/es/highlight.min.js';\n",
       "import python from 'https://cdnjs.cloudflare.com/ajax/libs/highlight.js/11.9.0/es/languages/python.min.js';\n",
       "\n",
       "hljs.registerLanguage('python', python);\n",
       "hljs.highlightAll();\n",
       "</script>\n"
      ],
      "text/plain": [
       "<IPython.core.display.HTML object>"
      ]
     },
     "metadata": {},
     "output_type": "display_data"
    },
    {
     "data": {
      "text/html": [
       "\n",
       "<script>\n",
       "window.MathJax = {\n",
       "    tex2jax: {\n",
       "        inlineMath: [['$', '$'], ['\\\\(', '\\\\)']],\n",
       "        displayMath: [['$$', '$$'], ['\\[', '\\]']],\n",
       "        processEscapes: true,\n",
       "        skipTags: ['script', 'noscript', 'style', 'textarea', 'pre'],\n",
       "        ignoreClass: \".*\",\n",
       "        processClass: \"math\"\n",
       "    }\n",
       "};\n",
       "setTimeout(function () {\n",
       "    var script = document.createElement('script');\n",
       "    script.type = 'text/javascript';\n",
       "    script.src = 'https://cdnjs.cloudflare.com/ajax/libs/mathjax/2.7.7/MathJax.js?config=TeX-AMS_HTML';\n",
       "    document.head.appendChild(script);\n",
       "}, 300);\n",
       "</script>\n"
      ],
      "text/plain": [
       "<IPython.core.display.HTML object>"
      ]
     },
     "metadata": {},
     "output_type": "display_data"
    }
   ],
   "source": [
    "test = vm.tests.run_test(\n",
    "    \"validmind.model_validation.sklearn.RegressionErrors\",\n",
    "    input_grid={\n",
    "        \"dataset\": [\"train_ds\", \"test_ds\"],\n",
    "        \"model\": [\"random_forests_model\", \"gradient_boosting_model\"],\n",
    "    }\n",
    ")\n",
    "test.log()"
   ]
  },
  {
   "cell_type": "code",
   "execution_count": 24,
   "metadata": {},
   "outputs": [
    {
     "data": {
      "application/vnd.jupyter.widget-view+json": {
       "model_id": "7f9c9e2bd77a400ab9a49b5b74c90e3c",
       "version_major": 2,
       "version_minor": 0
      },
      "text/plain": [
       "VBox(children=(HTML(value='<h1>Regression R2 Square</h1>'), HTML(value='<p><strong>Regression R-squared (R2) S…"
      ]
     },
     "metadata": {},
     "output_type": "display_data"
    },
    {
     "data": {
      "text/html": [
       "\n",
       "<script defer type=\"module\">\n",
       "import hljs from 'https://unpkg.com/@highlightjs/cdn-assets@11.9.0/es/highlight.min.js';\n",
       "import python from 'https://cdnjs.cloudflare.com/ajax/libs/highlight.js/11.9.0/es/languages/python.min.js';\n",
       "\n",
       "hljs.registerLanguage('python', python);\n",
       "hljs.highlightAll();\n",
       "</script>\n"
      ],
      "text/plain": [
       "<IPython.core.display.HTML object>"
      ]
     },
     "metadata": {},
     "output_type": "display_data"
    },
    {
     "data": {
      "text/html": [
       "\n",
       "<script>\n",
       "window.MathJax = {\n",
       "    tex2jax: {\n",
       "        inlineMath: [['$', '$'], ['\\\\(', '\\\\)']],\n",
       "        displayMath: [['$$', '$$'], ['\\[', '\\]']],\n",
       "        processEscapes: true,\n",
       "        skipTags: ['script', 'noscript', 'style', 'textarea', 'pre'],\n",
       "        ignoreClass: \".*\",\n",
       "        processClass: \"math\"\n",
       "    }\n",
       "};\n",
       "setTimeout(function () {\n",
       "    var script = document.createElement('script');\n",
       "    script.type = 'text/javascript';\n",
       "    script.src = 'https://cdnjs.cloudflare.com/ajax/libs/mathjax/2.7.7/MathJax.js?config=TeX-AMS_HTML';\n",
       "    document.head.appendChild(script);\n",
       "}, 300);\n",
       "</script>\n"
      ],
      "text/plain": [
       "<IPython.core.display.HTML object>"
      ]
     },
     "metadata": {},
     "output_type": "display_data"
    }
   ],
   "source": [
    "test = vm.tests.run_test(\n",
    "    \"validmind.model_validation.sklearn.RegressionR2Square\",\n",
    "    input_grid={\n",
    "        \"dataset\": [\"train_ds\", \"test_ds\"],\n",
    "        \"model\": [\"random_forests_model\", \"gradient_boosting_model\"],\n",
    "    }\n",
    ")\n",
    "test.log()"
   ]
  },
  {
   "cell_type": "code",
   "execution_count": 25,
   "metadata": {},
   "outputs": [
    {
     "data": {
      "application/vnd.jupyter.widget-view+json": {
       "model_id": "7b0da3a3bd8a4d09b06785f9a137f7a6",
       "version_major": 2,
       "version_minor": 0
      },
      "text/plain": [
       "VBox(children=(HTML(value='<h1>Time Series R2 Square By Segments Train Data</h1>'), HTML(value='<p><strong>Tim…"
      ]
     },
     "metadata": {},
     "output_type": "display_data"
    },
    {
     "data": {
      "text/html": [
       "\n",
       "<script defer type=\"module\">\n",
       "import hljs from 'https://unpkg.com/@highlightjs/cdn-assets@11.9.0/es/highlight.min.js';\n",
       "import python from 'https://cdnjs.cloudflare.com/ajax/libs/highlight.js/11.9.0/es/languages/python.min.js';\n",
       "\n",
       "hljs.registerLanguage('python', python);\n",
       "hljs.highlightAll();\n",
       "</script>\n"
      ],
      "text/plain": [
       "<IPython.core.display.HTML object>"
      ]
     },
     "metadata": {},
     "output_type": "display_data"
    },
    {
     "data": {
      "text/html": [
       "\n",
       "<script>\n",
       "window.MathJax = {\n",
       "    tex2jax: {\n",
       "        inlineMath: [['$', '$'], ['\\\\(', '\\\\)']],\n",
       "        displayMath: [['$$', '$$'], ['\\[', '\\]']],\n",
       "        processEscapes: true,\n",
       "        skipTags: ['script', 'noscript', 'style', 'textarea', 'pre'],\n",
       "        ignoreClass: \".*\",\n",
       "        processClass: \"math\"\n",
       "    }\n",
       "};\n",
       "setTimeout(function () {\n",
       "    var script = document.createElement('script');\n",
       "    script.type = 'text/javascript';\n",
       "    script.src = 'https://cdnjs.cloudflare.com/ajax/libs/mathjax/2.7.7/MathJax.js?config=TeX-AMS_HTML';\n",
       "    document.head.appendChild(script);\n",
       "}, 300);\n",
       "</script>\n"
      ],
      "text/plain": [
       "<IPython.core.display.HTML object>"
      ]
     },
     "metadata": {},
     "output_type": "display_data"
    }
   ],
   "source": [
    "test = vm.tests.run_test(\n",
    "    \"validmind.model_validation.TimeSeriesR2SquareBySegments:train_data\",\n",
    "    input_grid={\n",
    "        \"dataset\": [\"train_ds\"],\n",
    "        \"model\": [\"random_forests_model\", \"gradient_boosting_model\"],\n",
    "    }\n",
    ")\n",
    "test.log()"
   ]
  },
  {
   "cell_type": "code",
   "execution_count": 26,
   "metadata": {},
   "outputs": [
    {
     "data": {
      "application/vnd.jupyter.widget-view+json": {
       "model_id": "8474cb76277447858336700075f08e5c",
       "version_major": 2,
       "version_minor": 0
      },
      "text/plain": [
       "VBox(children=(HTML(value='<h1>Time Series R2 Square By Segments Test Data</h1>'), HTML(value='<p><strong>Time…"
      ]
     },
     "metadata": {},
     "output_type": "display_data"
    },
    {
     "data": {
      "text/html": [
       "\n",
       "<script defer type=\"module\">\n",
       "import hljs from 'https://unpkg.com/@highlightjs/cdn-assets@11.9.0/es/highlight.min.js';\n",
       "import python from 'https://cdnjs.cloudflare.com/ajax/libs/highlight.js/11.9.0/es/languages/python.min.js';\n",
       "\n",
       "hljs.registerLanguage('python', python);\n",
       "hljs.highlightAll();\n",
       "</script>\n"
      ],
      "text/plain": [
       "<IPython.core.display.HTML object>"
      ]
     },
     "metadata": {},
     "output_type": "display_data"
    },
    {
     "data": {
      "text/html": [
       "\n",
       "<script>\n",
       "window.MathJax = {\n",
       "    tex2jax: {\n",
       "        inlineMath: [['$', '$'], ['\\\\(', '\\\\)']],\n",
       "        displayMath: [['$$', '$$'], ['\\[', '\\]']],\n",
       "        processEscapes: true,\n",
       "        skipTags: ['script', 'noscript', 'style', 'textarea', 'pre'],\n",
       "        ignoreClass: \".*\",\n",
       "        processClass: \"math\"\n",
       "    }\n",
       "};\n",
       "setTimeout(function () {\n",
       "    var script = document.createElement('script');\n",
       "    script.type = 'text/javascript';\n",
       "    script.src = 'https://cdnjs.cloudflare.com/ajax/libs/mathjax/2.7.7/MathJax.js?config=TeX-AMS_HTML';\n",
       "    document.head.appendChild(script);\n",
       "}, 300);\n",
       "</script>\n"
      ],
      "text/plain": [
       "<IPython.core.display.HTML object>"
      ]
     },
     "metadata": {},
     "output_type": "display_data"
    }
   ],
   "source": [
    "test = vm.tests.run_test(\n",
    "    \"validmind.model_validation.TimeSeriesR2SquareBySegments:test_data\",\n",
    "    input_grid={\n",
    "        \"dataset\": [\"test_ds\"],\n",
    "        \"model\": [\"random_forests_model\", \"gradient_boosting_model\"],\n",
    "    },\n",
    "    params={\n",
    "        \"segments\":{\n",
    "            \"start_date\": [\"2012-11-01\",\"2018-02-01\"],\n",
    "            \"end_date\": [\"2018-01-01\",\"2023-03-01\"]\n",
    "        }\n",
    "    }\n",
    ")\n",
    "test.log()"
   ]
  },
  {
   "cell_type": "code",
   "execution_count": 27,
   "metadata": {},
   "outputs": [
    {
     "data": {
      "application/vnd.jupyter.widget-view+json": {
       "model_id": "2fe4bfbdcb804a73b15ddee333c38be0",
       "version_major": 2,
       "version_minor": 0
      },
      "text/plain": [
       "VBox(children=(HTML(value='<h1>Time Series Predictions Plot</h1>'), HTML(value=\"<p><strong>Time Series Predict…"
      ]
     },
     "metadata": {},
     "output_type": "display_data"
    },
    {
     "data": {
      "text/html": [
       "\n",
       "<script defer type=\"module\">\n",
       "import hljs from 'https://unpkg.com/@highlightjs/cdn-assets@11.9.0/es/highlight.min.js';\n",
       "import python from 'https://cdnjs.cloudflare.com/ajax/libs/highlight.js/11.9.0/es/languages/python.min.js';\n",
       "\n",
       "hljs.registerLanguage('python', python);\n",
       "hljs.highlightAll();\n",
       "</script>\n"
      ],
      "text/plain": [
       "<IPython.core.display.HTML object>"
      ]
     },
     "metadata": {},
     "output_type": "display_data"
    },
    {
     "data": {
      "text/html": [
       "\n",
       "<script>\n",
       "window.MathJax = {\n",
       "    tex2jax: {\n",
       "        inlineMath: [['$', '$'], ['\\\\(', '\\\\)']],\n",
       "        displayMath: [['$$', '$$'], ['\\[', '\\]']],\n",
       "        processEscapes: true,\n",
       "        skipTags: ['script', 'noscript', 'style', 'textarea', 'pre'],\n",
       "        ignoreClass: \".*\",\n",
       "        processClass: \"math\"\n",
       "    }\n",
       "};\n",
       "setTimeout(function () {\n",
       "    var script = document.createElement('script');\n",
       "    script.type = 'text/javascript';\n",
       "    script.src = 'https://cdnjs.cloudflare.com/ajax/libs/mathjax/2.7.7/MathJax.js?config=TeX-AMS_HTML';\n",
       "    document.head.appendChild(script);\n",
       "}, 300);\n",
       "</script>\n"
      ],
      "text/plain": [
       "<IPython.core.display.HTML object>"
      ]
     },
     "metadata": {},
     "output_type": "display_data"
    }
   ],
   "source": [
    "test = vm.tests.run_test(\n",
    "    \"validmind.model_validation.TimeSeriesPredictionsPlot\",\n",
    "    input_grid={\n",
    "        \"dataset\": [\"train_ds\", \"test_ds\"],\n",
    "        \"model\": [\"random_forests_model\", \"gradient_boosting_model\"],\n",
    "    }\n",
    ")\n",
    "test.log()"
   ]
  },
  {
   "cell_type": "code",
   "execution_count": 28,
   "metadata": {},
   "outputs": [
    {
     "data": {
      "application/vnd.jupyter.widget-view+json": {
       "model_id": "c801d794c61d47cfaaf1a9a13cd64f3b",
       "version_major": 2,
       "version_minor": 0
      },
      "text/plain": [
       "VBox(children=(HTML(value='<h1>Time Series Prediction With CI</h1>'), HTML(value=\"<p><strong>Time Series Predi…"
      ]
     },
     "metadata": {},
     "output_type": "display_data"
    },
    {
     "data": {
      "text/html": [
       "\n",
       "<script defer type=\"module\">\n",
       "import hljs from 'https://unpkg.com/@highlightjs/cdn-assets@11.9.0/es/highlight.min.js';\n",
       "import python from 'https://cdnjs.cloudflare.com/ajax/libs/highlight.js/11.9.0/es/languages/python.min.js';\n",
       "\n",
       "hljs.registerLanguage('python', python);\n",
       "hljs.highlightAll();\n",
       "</script>\n"
      ],
      "text/plain": [
       "<IPython.core.display.HTML object>"
      ]
     },
     "metadata": {},
     "output_type": "display_data"
    },
    {
     "data": {
      "text/html": [
       "\n",
       "<script>\n",
       "window.MathJax = {\n",
       "    tex2jax: {\n",
       "        inlineMath: [['$', '$'], ['\\\\(', '\\\\)']],\n",
       "        displayMath: [['$$', '$$'], ['\\[', '\\]']],\n",
       "        processEscapes: true,\n",
       "        skipTags: ['script', 'noscript', 'style', 'textarea', 'pre'],\n",
       "        ignoreClass: \".*\",\n",
       "        processClass: \"math\"\n",
       "    }\n",
       "};\n",
       "setTimeout(function () {\n",
       "    var script = document.createElement('script');\n",
       "    script.type = 'text/javascript';\n",
       "    script.src = 'https://cdnjs.cloudflare.com/ajax/libs/mathjax/2.7.7/MathJax.js?config=TeX-AMS_HTML';\n",
       "    document.head.appendChild(script);\n",
       "}, 300);\n",
       "</script>\n"
      ],
      "text/plain": [
       "<IPython.core.display.HTML object>"
      ]
     },
     "metadata": {},
     "output_type": "display_data"
    }
   ],
   "source": [
    "test = vm.tests.run_test(\n",
    "    \"validmind.model_validation.TimeSeriesPredictionWithCI\",\n",
    "    input_grid={\n",
    "        \"dataset\": [\"train_ds\", \"test_ds\"],\n",
    "        \"model\": [\"random_forests_model\", \"gradient_boosting_model\"],\n",
    "    }\n",
    ")\n",
    "test.log()"
   ]
  },
  {
   "cell_type": "code",
   "execution_count": 29,
   "metadata": {},
   "outputs": [
    {
     "data": {
      "application/vnd.jupyter.widget-view+json": {
       "model_id": "4d37e501e14d4d9fa30d2ea2212614ad",
       "version_major": 2,
       "version_minor": 0
      },
      "text/plain": [
       "VBox(children=(HTML(value='<h1>Model Prediction Residuals</h1>'), HTML(value='<p><strong>Model Prediction Resi…"
      ]
     },
     "metadata": {},
     "output_type": "display_data"
    },
    {
     "data": {
      "text/html": [
       "\n",
       "<script defer type=\"module\">\n",
       "import hljs from 'https://unpkg.com/@highlightjs/cdn-assets@11.9.0/es/highlight.min.js';\n",
       "import python from 'https://cdnjs.cloudflare.com/ajax/libs/highlight.js/11.9.0/es/languages/python.min.js';\n",
       "\n",
       "hljs.registerLanguage('python', python);\n",
       "hljs.highlightAll();\n",
       "</script>\n"
      ],
      "text/plain": [
       "<IPython.core.display.HTML object>"
      ]
     },
     "metadata": {},
     "output_type": "display_data"
    },
    {
     "data": {
      "text/html": [
       "\n",
       "<script>\n",
       "window.MathJax = {\n",
       "    tex2jax: {\n",
       "        inlineMath: [['$', '$'], ['\\\\(', '\\\\)']],\n",
       "        displayMath: [['$$', '$$'], ['\\[', '\\]']],\n",
       "        processEscapes: true,\n",
       "        skipTags: ['script', 'noscript', 'style', 'textarea', 'pre'],\n",
       "        ignoreClass: \".*\",\n",
       "        processClass: \"math\"\n",
       "    }\n",
       "};\n",
       "setTimeout(function () {\n",
       "    var script = document.createElement('script');\n",
       "    script.type = 'text/javascript';\n",
       "    script.src = 'https://cdnjs.cloudflare.com/ajax/libs/mathjax/2.7.7/MathJax.js?config=TeX-AMS_HTML';\n",
       "    document.head.appendChild(script);\n",
       "}, 300);\n",
       "</script>\n"
      ],
      "text/plain": [
       "<IPython.core.display.HTML object>"
      ]
     },
     "metadata": {},
     "output_type": "display_data"
    }
   ],
   "source": [
    "test = vm.tests.run_test(\n",
    "    \"validmind.model_validation.ModelPredictionResiduals\",\n",
    "    input_grid={\n",
    "        \"dataset\": [\"train_ds\", \"test_ds\"],\n",
    "        \"model\": [\"random_forests_model\", \"gradient_boosting_model\"],\n",
    "    }\n",
    ")\n",
    "test.log()"
   ]
  },
  {
   "cell_type": "code",
   "execution_count": 30,
   "metadata": {},
   "outputs": [
    {
     "data": {
      "application/vnd.jupyter.widget-view+json": {
       "model_id": "61d84577879f4a3d877436d404c33024",
       "version_major": 2,
       "version_minor": 0
      },
      "text/plain": [
       "VBox(children=(HTML(value='<h1>Feature Importance</h1>'), HTML(value=\"<p><strong>Feature Importance</strong> c…"
      ]
     },
     "metadata": {},
     "output_type": "display_data"
    },
    {
     "data": {
      "text/html": [
       "\n",
       "<script defer type=\"module\">\n",
       "import hljs from 'https://unpkg.com/@highlightjs/cdn-assets@11.9.0/es/highlight.min.js';\n",
       "import python from 'https://cdnjs.cloudflare.com/ajax/libs/highlight.js/11.9.0/es/languages/python.min.js';\n",
       "\n",
       "hljs.registerLanguage('python', python);\n",
       "hljs.highlightAll();\n",
       "</script>\n"
      ],
      "text/plain": [
       "<IPython.core.display.HTML object>"
      ]
     },
     "metadata": {},
     "output_type": "display_data"
    },
    {
     "data": {
      "text/html": [
       "\n",
       "<script>\n",
       "window.MathJax = {\n",
       "    tex2jax: {\n",
       "        inlineMath: [['$', '$'], ['\\\\(', '\\\\)']],\n",
       "        displayMath: [['$$', '$$'], ['\\[', '\\]']],\n",
       "        processEscapes: true,\n",
       "        skipTags: ['script', 'noscript', 'style', 'textarea', 'pre'],\n",
       "        ignoreClass: \".*\",\n",
       "        processClass: \"math\"\n",
       "    }\n",
       "};\n",
       "setTimeout(function () {\n",
       "    var script = document.createElement('script');\n",
       "    script.type = 'text/javascript';\n",
       "    script.src = 'https://cdnjs.cloudflare.com/ajax/libs/mathjax/2.7.7/MathJax.js?config=TeX-AMS_HTML';\n",
       "    document.head.appendChild(script);\n",
       "}, 300);\n",
       "</script>\n"
      ],
      "text/plain": [
       "<IPython.core.display.HTML object>"
      ]
     },
     "metadata": {},
     "output_type": "display_data"
    }
   ],
   "source": [
    "test = vm.tests.run_test(\n",
    "    \"validmind.model_validation.sklearn.FeatureImportance\",\n",
    "    input_grid={\n",
    "        \"dataset\": [\"train_ds\", \"test_ds\"],\n",
    "        \"model\": [\"random_forests_model\", \"gradient_boosting_model\"],\n",
    "    }\n",
    ")\n",
    "test.log()"
   ]
  },
  {
   "cell_type": "code",
   "execution_count": 31,
   "metadata": {},
   "outputs": [
    {
     "data": {
      "application/vnd.jupyter.widget-view+json": {
       "model_id": "325ac0eb301348509f347473c83fea42",
       "version_major": 2,
       "version_minor": 0
      },
      "text/plain": [
       "VBox(children=(HTML(value='<h1>Permutation Feature Importance</h1>'), HTML(value=\"<p><strong>Permutation Featu…"
      ]
     },
     "metadata": {},
     "output_type": "display_data"
    },
    {
     "data": {
      "text/html": [
       "\n",
       "<script defer type=\"module\">\n",
       "import hljs from 'https://unpkg.com/@highlightjs/cdn-assets@11.9.0/es/highlight.min.js';\n",
       "import python from 'https://cdnjs.cloudflare.com/ajax/libs/highlight.js/11.9.0/es/languages/python.min.js';\n",
       "\n",
       "hljs.registerLanguage('python', python);\n",
       "hljs.highlightAll();\n",
       "</script>\n"
      ],
      "text/plain": [
       "<IPython.core.display.HTML object>"
      ]
     },
     "metadata": {},
     "output_type": "display_data"
    },
    {
     "data": {
      "text/html": [
       "\n",
       "<script>\n",
       "window.MathJax = {\n",
       "    tex2jax: {\n",
       "        inlineMath: [['$', '$'], ['\\\\(', '\\\\)']],\n",
       "        displayMath: [['$$', '$$'], ['\\[', '\\]']],\n",
       "        processEscapes: true,\n",
       "        skipTags: ['script', 'noscript', 'style', 'textarea', 'pre'],\n",
       "        ignoreClass: \".*\",\n",
       "        processClass: \"math\"\n",
       "    }\n",
       "};\n",
       "setTimeout(function () {\n",
       "    var script = document.createElement('script');\n",
       "    script.type = 'text/javascript';\n",
       "    script.src = 'https://cdnjs.cloudflare.com/ajax/libs/mathjax/2.7.7/MathJax.js?config=TeX-AMS_HTML';\n",
       "    document.head.appendChild(script);\n",
       "}, 300);\n",
       "</script>\n"
      ],
      "text/plain": [
       "<IPython.core.display.HTML object>"
      ]
     },
     "metadata": {},
     "output_type": "display_data"
    }
   ],
   "source": [
    "test = vm.tests.run_test(\n",
    "    \"validmind.model_validation.sklearn.PermutationFeatureImportance\",\n",
    "    input_grid={\n",
    "        \"dataset\": [\"train_ds\", \"test_ds\"],\n",
    "        \"model\": [\"random_forests_model\", \"gradient_boosting_model\"],\n",
    "    }\n",
    ")\n",
    "test.log()"
   ]
  },
  {
   "cell_type": "markdown",
   "metadata": {},
   "source": [
    "<a id='toc7_'></a>\n",
    "\n",
    "## Next steps\n",
    "\n",
    "You can look at the results of this test suite right in the notebook where you ran the code, as you would expect. But there is a better way — use the ValidMind platform to work with your model documentation.\n",
    "\n",
    "<a id='toc7_1_'></a>\n",
    "\n",
    "### Work with your model documentation\n",
    "\n",
    "1. From the [**Model Inventory**](https://app.prod.validmind.ai/model-inventory) in the ValidMind Platform UI, go to the model you registered earlier.\n",
    "\n",
    "2. Click and expand the **Model Development** section.\n",
    "\n",
    "What you see is the full draft of your model documentation in a more easily consumable version. From here, you can make qualitative edits to model documentation, view guidelines, collaborate with validators, and submit your model documentation for approval when it's ready. [Learn more ...](https://docs.validmind.ai/guide/model-documentation/working-with-model-documentation.html)\n",
    "\n",
    "<a id='toc7_2_'></a>\n",
    "\n",
    "### Discover more learning resources\n",
    "\n",
    "We offer many interactive notebooks to help you document models:\n",
    "\n",
    "- [Run tests & test suites](https://docs.validmind.ai/developer/model-testing/testing-overview.html)\n",
    "- [Code samples](https://docs.validmind.ai/developer/samples-jupyter-notebooks.html)\n",
    "\n",
    "Or, visit our [documentation](https://docs.validmind.ai/) to learn more about ValidMind."
   ]
  }
 ],
 "metadata": {
  "kernelspec": {
   "display_name": "Developer Framework",
   "language": "python",
   "name": "dev-framework"
  },
  "language_info": {
   "codemirror_mode": {
    "name": "ipython",
    "version": 3
   },
   "file_extension": ".py",
   "mimetype": "text/x-python",
   "name": "python",
   "nbconvert_exporter": "python",
   "pygments_lexer": "ipython3",
   "version": "3.10.13"
  }
 },
 "nbformat": 4,
 "nbformat_minor": 2
}
