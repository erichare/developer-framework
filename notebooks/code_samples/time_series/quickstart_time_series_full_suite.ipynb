{
 "cells": [
  {
   "cell_type": "markdown",
   "metadata": {},
   "source": [
    "# Document a time series forecasting model\n",
    "\n",
    "Use the [FRED](https://fred.stlouisfed.org/) sample dataset to train a simple time series model and document that model with the ValidMind Developer Framework.\n",
    "\n",
    "As part of the notebook, you will learn how to train a simple model while exploring how the documentation process works:\n",
    "\n",
    "- Initializing the ValidMind Developer Framework\n",
    "- Loading a sample dataset provided by the library to train a simple time series model\n",
    "- Running a ValidMind test suite to quickly generate documentation about the data and model"
   ]
  },
  {
   "cell_type": "markdown",
   "metadata": {},
   "source": [
    "<a id='toc0_'></a>\n",
    "\n",
    "## Contents  "
   ]
  },
  {
   "cell_type": "markdown",
   "metadata": {},
   "source": []
  },
  {
   "cell_type": "markdown",
   "metadata": {},
   "source": [
    "<a id='toc1_'></a>\n",
    "\n",
    "## About ValidMind\n",
    "\n",
    "ValidMind is a platform for managing model risk, including risk associated with AI and statistical models.\n",
    "\n",
    "You use the ValidMind Developer Framework to automate documentation and validation tests, and then use the ValidMind AI Risk Platform UI to collaborate on model documentation. Together, these products simplify model risk management, facilitate compliance with regulations and institutional standards, and enhance collaboration between yourself and model validators.\n",
    "\n",
    "<a id='toc1_1_'></a>\n",
    "\n",
    "### Before you begin\n",
    "\n",
    "This notebook assumes you have basic familiarity with Python, including an understanding of how functions work. If you are new to Python, you can still run the notebook but we recommend further familiarizing yourself with the language. \n",
    "\n",
    "If you encounter errors due to missing modules in your Python environment, install the modules with `pip install`, and then re-run the notebook. For more help, refer to [Installing Python Modules](https://docs.python.org/3/installing/index.html).\n",
    "\n",
    "<a id='toc1_2_'></a>\n",
    "\n",
    "### New to ValidMind?\n",
    "\n",
    "If you haven't already seen our [Get started with the ValidMind Developer Framework](https://docs.validmind.ai/guide/get-started-developer-framework.html), we recommend you explore the available resources for developers at some point. There, you can learn more about documenting models, find code samples, or read our developer reference.\n",
    "\n",
    "<div class=\"alert alert-block alert-info\" style=\"background-color: #f7e4ee; color: black; border: 1px solid black;\">For access to all features available in this notebook, create a free ValidMind account.\n",
    "\n",
    "Signing up is FREE — <a href=\"https://app.prod.validmind.ai\"><b>Sign up now</b></a></div>\n",
    "\n",
    "<a id='toc1_3_'></a>\n",
    "\n",
    "### Key concepts\n",
    "\n",
    "**Model documentation**: A structured and detailed record pertaining to a model, encompassing key components such as its underlying assumptions, methodologies, data sources, inputs, performance metrics, evaluations, limitations, and intended uses. It serves to ensure transparency, adherence to regulatory requirements, and a clear understanding of potential risks associated with the model’s application.\n",
    "\n",
    "**Documentation template**: Functions as a test suite and lays out the structure of model documentation, segmented into various sections and sub-sections. Documentation templates define the structure of your model documentation, specifying the tests that should be run, and how the results should be displayed.\n",
    "\n",
    "**Tests**: A function contained in the ValidMind Developer Framework, designed to run a specific quantitative test on the dataset or model. Tests are the building blocks of ValidMind, used to evaluate and document models and datasets, and can be run individually or as part of a suite defined by your model documentation template.\n",
    "\n",
    "**Metrics**: A subset of tests that do not have thresholds. In the context of this notebook, metrics and tests can be thought of as interchangeable concepts.\n",
    "\n",
    "**Custom metrics**: Custom metrics are functions that you define to evaluate your model or dataset. These functions can be registered with ValidMind to be used in the platform.\n",
    "\n",
    "**Inputs**: Objects to be evaluated and documented in the ValidMind framework. They can be any of the following:\n",
    "\n",
    "  - **model**: A single model that has been initialized in ValidMind with [`vm.init_model()`](https://docs.validmind.ai/validmind/validmind.html#init_model).\n",
    "  - **dataset**: Single dataset that has been initialized in ValidMind with [`vm.init_dataset()`](https://docs.validmind.ai/validmind/validmind.html#init_dataset).\n",
    "  - **models**: A list of ValidMind models - usually this is used when you want to compare multiple models in your custom metric.\n",
    "  - **datasets**: A list of ValidMind datasets - usually this is used when you want to compare multiple datasets in your custom metric. See this [example](https://docs.validmind.ai/notebooks/how_to/run_tests_that_require_multiple_datasets.html) for more information.\n",
    "\n",
    "**Parameters**: Additional arguments that can be passed when running a ValidMind test, used to pass additional information to a metric, customize its behavior, or provide additional context.\n",
    "\n",
    "**Outputs**: Custom metrics can return elements like tables or plots. Tables may be a list of dictionaries (each representing a row) or a pandas DataFrame. Plots may be matplotlib or plotly figures.\n",
    "\n",
    "**Test suites**: Collections of tests designed to run together to automate and generate model documentation end-to-end for specific use-cases.\n",
    "\n",
    "Example: the [`classifier_full_suite`](https://docs.validmind.ai/validmind/validmind/test_suites/classifier.html#ClassifierFullSuite) test suite runs tests from the [`tabular_dataset`](https://docs.validmind.ai/validmind/validmind/test_suites/tabular_datasets.html) and [`classifier`](https://docs.validmind.ai/validmind/validmind/test_suites/classifier.html) test suites to fully document the data and model sections for binary classification model use-cases."
   ]
  },
  {
   "cell_type": "markdown",
   "metadata": {},
   "source": [
    "## Install the client library\n",
    "\n",
    "The client library provides Python support for the ValidMind Developer Framework. To install it:"
   ]
  },
  {
   "cell_type": "code",
   "execution_count": null,
   "metadata": {},
   "outputs": [],
   "source": [
    "%pip install -q validmind"
   ]
  },
  {
   "cell_type": "markdown",
   "metadata": {},
   "source": [
    "## Initialize the client library\n",
    "\n",
    "ValidMind generates a unique _code snippet_ for each registered model to connect with your developer environment. You initialize the client library with this code snippet, which ensures that your documentation and tests are uploaded to the correct model when you run the notebook.\n",
    "\n",
    "Get your code snippet:\n",
    "\n",
    "1. In a browser, log into the [Platform UI](https://app.prod.validmind.ai).\n",
    "\n",
    "2. In the left sidebar, navigate to **Model Inventory** and click **+ Register new model**.\n",
    "\n",
    "3. Enter the model details, making sure to select **Time Series Forecasting** as the template and **Credit Risk - Underwriting - Loan** as the use case, and click **Continue**. ([Need more help?](https://docs.validmind.ai/guide/register-models-in-model-inventory.html))\n",
    "\n",
    "4. Go to **Getting Started** and click **Copy snippet to clipboard**.\n",
    "\n",
    "Next, replace this placeholder with your own code snippet:"
   ]
  },
  {
   "cell_type": "code",
   "execution_count": null,
   "metadata": {},
   "outputs": [],
   "source": [
    "# Replace with your code snippet\n",
    "import validmind as vm\n",
    "\n",
    "vm.init(\n",
    "  api_host = \"https://api.prod.validmind.ai/api/v1/tracking\",\n",
    "  api_key = \"...\",\n",
    "  api_secret = \"...\",\n",
    "  project = \"...\"\n",
    ")"
   ]
  },
  {
   "cell_type": "markdown",
   "metadata": {},
   "source": [
    "## Initialize the Python environment\n",
    "\n",
    "Next, let's import the necessary libraries and set up your Python environment for data analysis:"
   ]
  },
  {
   "cell_type": "code",
   "execution_count": null,
   "metadata": {},
   "outputs": [],
   "source": [
    "from sklearn.ensemble import RandomForestRegressor\n",
    "from sklearn.metrics import mean_squared_error, r2_score\n",
    "from sklearn.model_selection import train_test_split\n",
    "\n",
    "%matplotlib inline"
   ]
  },
  {
   "cell_type": "markdown",
   "metadata": {},
   "source": [
    "<a id='toc4_1_'></a>\n",
    "\n",
    "### Preview the documentation template\n",
    "\n",
    "A template predefines sections for your model documentation and provides a general outline to follow, making the documentation process much easier.\n",
    "\n",
    "You will upload documentation and test results into this template later on. For now, take a look at the structure that the template provides with the `vm.preview_template()` function from the ValidMind library and note the empty sections:"
   ]
  },
  {
   "cell_type": "code",
   "execution_count": null,
   "metadata": {},
   "outputs": [],
   "source": [
    "vm.preview_template()"
   ]
  },
  {
   "cell_type": "markdown",
   "metadata": {},
   "source": [
    "## Load the sample dataset\n",
    "\n",
    "The sample dataset used here is provided by the ValidMind library. To be able to use it, you need to import the dataset and load it into a pandas [DataFrame](https://pandas.pydata.org/docs/reference/api/pandas.DataFrame.html), a two-dimensional tabular data structure that makes use of rows and columns:"
   ]
  },
  {
   "cell_type": "code",
   "execution_count": null,
   "metadata": {},
   "outputs": [],
   "source": [
    "from validmind.datasets.regression import fred_timeseries \n",
    "\n",
    "target_column = fred_timeseries.target_column\n",
    "\n",
    "print(\n",
    "    f\"Loaded demo dataset with: \\n\\n\\t• Target column: '{target_column}'\"\n",
    ")\n",
    "\n",
    "raw_df = fred_timeseries.load_data()\n",
    "raw_df.head()"
   ]
  },
  {
   "cell_type": "markdown",
   "metadata": {},
   "source": [
    "<a id='toc6_'></a>\n",
    "\n",
    "## Document the model\n",
    "\n",
    "As part of documenting the model with the ValidMind Developer Framework, you need to preprocess the raw dataset, initialize some training and test datasets, initialize a model object you can use for testing, and then run the full suite of tests.\n"
   ]
  },
  {
   "cell_type": "markdown",
   "metadata": {},
   "source": [
    "<a id='toc6_1_'></a>\n",
    "\n",
    "### Prepocess the raw dataset\n",
    "\n",
    "Preprocessing performs a number of operations to get ready for the subsequent steps:\n",
    "- TBC\n",
    "- TBC"
   ]
  },
  {
   "cell_type": "code",
   "execution_count": null,
   "metadata": {},
   "outputs": [],
   "source": [
    "# Split the original dataset into training and test sets for the primary model\n",
    "train_df, test_df = train_test_split(raw_df, test_size=0.2, shuffle=False)\n",
    "# Remove the first row from the train set to align with the differenced data\n",
    "train_df = train_df.iloc[1:]\n",
    "\n",
    "# Prepare the training and test sets for the baseline model\n",
    "train_baseline_df = train_df[[target_column, \"FEDFUNDS\"]]\n",
    "test_baseline_df = test_df[[target_column, \"FEDFUNDS\"]]\n",
    "\n",
    "#  Take the first different across all variables\n",
    "diff_df = raw_df.diff().dropna()\n",
    "\n",
    "# Use all features for the primary model\n",
    "train_diff_df, test_diff_df = train_test_split(diff_df, test_size=0.2, shuffle=False)\n",
    "\n",
    "# Baseline model with only \"FEDFUNDS\"\n",
    "baseline_features = [target_column, \"FEDFUNDS\"]\n",
    "train_baseline_diff_df = train_diff_df[baseline_features]\n",
    "test_baseline_diff_df = test_diff_df[baseline_features]\n",
    "\n",
    "# Primary model with different features\n",
    "primary_features = train_diff_df.columns.tolist()\n",
    "train_primary_diff_df = train_diff_df[primary_features]\n",
    "test_primary_diff_df = test_diff_df[primary_features]"
   ]
  },
  {
   "cell_type": "markdown",
   "metadata": {},
   "source": [
    "### Train baseline and primary models"
   ]
  },
  {
   "cell_type": "code",
   "execution_count": null,
   "metadata": {},
   "outputs": [],
   "source": [
    "def fit_model(train_df, target_column):\n",
    "    \"\"\"\n",
    "    Trains a Random Forest Regressor model.\n",
    "    \n",
    "    Parameters:\n",
    "    - train_df: DataFrame containing the training data.\n",
    "    - target_column: Name of the target column.\n",
    "    \n",
    "    Returns:\n",
    "    - model: Trained Random Forest Regressor model.\n",
    "    \"\"\"\n",
    "    X_train = train_df.drop(target_column, axis=1)\n",
    "    y_train = train_df[target_column]\n",
    "    model = RandomForestRegressor(n_estimators=100, random_state=42)\n",
    "    model.fit(X_train, y_train)\n",
    "    return model\n",
    "\n",
    "def predict_model(model, df, target_column, original_df):\n",
    "    \"\"\"\n",
    "    Makes predictions using the trained model and converts differenced values back to the original scale.\n",
    "    \n",
    "    Parameters:\n",
    "    - model: Trained Random Forest Regressor model.\n",
    "    - df: DataFrame to make predictions on.\n",
    "    - target_column: Name of the target column.\n",
    "    - original_df: Original DataFrame for reference to align previous values.\n",
    "    \n",
    "    Returns:\n",
    "    - y_levels: Actual values in their original scale.\n",
    "    - y_pred: Predicted values in their original scale.\n",
    "    \"\"\"\n",
    "    X = df.drop(target_column, axis=1)\n",
    "    y_pred_diff = model.predict(X)\n",
    "    \n",
    "    # Align previous values correctly\n",
    "    previous_values = original_df[target_column].shift(1).reindex(X.index)\n",
    "    # If there are any NaNs due to shifting, fill them appropriately\n",
    "    previous_values.fillna(method='bfill', inplace=True)\n",
    "    \n",
    "    y_pred = y_pred_diff + previous_values.values\n",
    "    y_levels = df[target_column] + previous_values.values\n",
    "    \n",
    "    return y_levels, y_pred\n",
    "\n",
    "def evaluate_model(y_true, y_pred):\n",
    "    \"\"\"\n",
    "    Evaluates the model's performance using Mean Squared Error (MSE) and R-squared (R2) score.\n",
    "    \n",
    "    Parameters:\n",
    "    - y_true: Actual values.\n",
    "    - y_pred: Predicted values.\n",
    "    \n",
    "    Returns:\n",
    "    - mse: Mean Squared Error.\n",
    "    - r2: R-squared score.\n",
    "    \"\"\"\n",
    "    mse = mean_squared_error(y_true, y_pred)\n",
    "    r2 = r2_score(y_true, y_pred)\n",
    "    return mse, r2"
   ]
  },
  {
   "cell_type": "code",
   "execution_count": null,
   "metadata": {},
   "outputs": [],
   "source": [
    "# Fit the baseline model\n",
    "baseline_model = fit_model(train_baseline_diff_df, target_column)\n",
    "\n",
    "# Predict and evaluate the baseline model on training data\n",
    "train_levels_baseline, train_pred_baseline = predict_model(baseline_model, train_baseline_diff_df, target_column, raw_df)\n",
    "mse_train_baseline, r2_train_baseline = evaluate_model(train_levels_baseline, train_pred_baseline)\n",
    "\n",
    "# Predict and evaluate the baseline model on test data\n",
    "test_levels_baseline, test_pred_baseline = predict_model(baseline_model, test_baseline_diff_df, target_column, raw_df)\n",
    "mse_test_baseline, r2_test_baseline = evaluate_model(test_levels_baseline, test_pred_baseline)\n",
    "\n",
    "print(f\"Baseline Model - Train Mean Squared Error: {mse_train_baseline}\")\n",
    "print(f\"Baseline Model - Train R-Squared: {r2_train_baseline}\")\n",
    "print(f\"Baseline Model - Test Mean Squared Error: {mse_test_baseline}\")\n",
    "print(f\"Baseline Model - Test R-Squared: {r2_test_baseline}\")"
   ]
  },
  {
   "cell_type": "code",
   "execution_count": null,
   "metadata": {},
   "outputs": [],
   "source": [
    "# Fit the primary model\n",
    "primary_model = fit_model(train_primary_diff_df, target_column)\n",
    "\n",
    "# Predict and evaluate the primary model on training data\n",
    "train_levels_primary, train_pred_primary = predict_model(primary_model, train_primary_diff_df, target_column, raw_df)\n",
    "mse_train_primary, r2_train_primary = evaluate_model(train_levels_primary, train_pred_primary)\n",
    "\n",
    "# Predict and evaluate the primary model on test data\n",
    "test_levels_primary, test_pred_primary = predict_model(primary_model, test_primary_diff_df, target_column, raw_df)\n",
    "mse_test_primary, r2_test_primary = evaluate_model(test_levels_primary, test_pred_primary)\n",
    "\n",
    "print(f\"Primary Model - Train Mean Squared Error: {mse_train_primary}\")\n",
    "print(f\"Primary Model - Train R-Squared: {r2_train_primary}\")\n",
    "print(f\"Primary Model - Test Mean Squared Error: {mse_test_primary}\")\n",
    "print(f\"Primary Model - Test R-Squared: {r2_test_primary}\")"
   ]
  },
  {
   "cell_type": "markdown",
   "metadata": {},
   "source": [
    "<a id='toc6_2_'></a>\n",
    "\n",
    "### Initialize the ValidMind datasets\n",
    "\n",
    "Before you can run tests, you must first initialize a ValidMind dataset object using the [`init_dataset`](https://docs.validmind.ai/validmind/validmind.html#init_dataset) function from the ValidMind (`vm`) module.\n",
    "\n",
    "This function takes a number of arguments:\n",
    "\n",
    "- `dataset` — the raw dataset that you want to provide as input to tests\n",
    "- `input_id` - a unique identifier that allows tracking what inputs are used when running each individual test\n",
    "- `target_column` — a required argument if tests require access to true values. This is the name of the target column in the dataset\n",
    "\n",
    "With all datasets ready, you can now initialize the raw, training and test datasets (`raw_df`, `train_df` and `test_df`) created earlier into their own dataset objects using [`vm.init_dataset()`](https://docs.validmind.ai/validmind/validmind.html#init_dataset):"
   ]
  },
  {
   "cell_type": "code",
   "execution_count": null,
   "metadata": {},
   "outputs": [],
   "source": [
    "vm_raw_ds = vm.init_dataset(\n",
    "    input_id=\"raw_ds\",\n",
    "    dataset=raw_df,\n",
    "    target_column=target_column,\n",
    ")\n",
    "\n",
    "vm_preprocessed_ds = vm.init_dataset(\n",
    "    input_id=\"preprocessed_ds\",\n",
    "    dataset=diff_df,\n",
    "    target_column=target_column,\n",
    ")\n",
    "\n",
    "vm_train_baseline_ds = vm.init_dataset(\n",
    "    input_id=\"train_baseline_ds\",\n",
    "    dataset=train_baseline_df,\n",
    "    target_column=target_column,\n",
    ")\n",
    "\n",
    "vm_test_baseline_ds = vm.init_dataset(\n",
    "    input_id=\"test_baseline_ds\",\n",
    "    dataset=test_baseline_df,\n",
    "    target_column=target_column,\n",
    ")\n",
    "\n",
    "vm_train_ds = vm.init_dataset(\n",
    "    input_id=\"train_ds\",\n",
    "    dataset=train_df,\n",
    "    target_column=target_column,\n",
    ")\n",
    "\n",
    "vm_test_ds = vm.init_dataset(\n",
    "    input_id=\"test_ds\",\n",
    "    dataset=test_df,\n",
    "    target_column=target_column,\n",
    ")"
   ]
  },
  {
   "cell_type": "markdown",
   "metadata": {},
   "source": [
    "<a id='toc6_3_'></a>\n",
    "\n",
    "### Initialize the model objects\n",
    "\n",
    "Additionally, you need to initialize a ValidMind model object (`vm_model`) for each model, that can be passed to other functions for analysis and tests on the data. You simply intialize this model object with [`vm.init_model()`](https://docs.validmind.ai/validmind/validmind.html#init_model):"
   ]
  },
  {
   "cell_type": "code",
   "execution_count": null,
   "metadata": {},
   "outputs": [],
   "source": [
    "vm_baseline_model = vm.init_model(\n",
    "    baseline_model,\n",
    "    input_id=\"baseline_model\",\n",
    ")\n",
    "\n",
    "vm_primary_model = vm.init_model(\n",
    "    primary_model,\n",
    "    input_id=\"primary_model\",\n",
    ")"
   ]
  },
  {
   "cell_type": "markdown",
   "metadata": {},
   "source": [
    "<a id='toc6_4_'></a>\n",
    "\n",
    "### Assign predictions to the datasets\n",
    "\n",
    "We can now use the assign_predictions() method from the Dataset object to link existing predictions to any model. If no prediction values are passed, the method will compute predictions automatically:\n"
   ]
  },
  {
   "cell_type": "code",
   "execution_count": null,
   "metadata": {},
   "outputs": [],
   "source": [
    "vm_train_baseline_ds.assign_predictions(\n",
    "    model=vm_baseline_model,\n",
    "    prediction_values=train_pred_baseline,\n",
    ")\n",
    "\n",
    "vm_test_baseline_ds.assign_predictions(\n",
    "    model=vm_baseline_model,\n",
    "    prediction_values=test_pred_baseline,\n",
    ")\n",
    "\n",
    "vm_train_ds.assign_predictions(\n",
    "    model=vm_primary_model,\n",
    "    prediction_values=train_pred_primary,\n",
    ")\n",
    "\n",
    "vm_test_ds.assign_predictions(\n",
    "    model=vm_primary_model,\n",
    "    prediction_values=test_pred_primary,\n",
    ")"
   ]
  },
  {
   "cell_type": "markdown",
   "metadata": {},
   "source": [
    "<a id='toc6_5_'></a>\n",
    "\n",
    "### Run the full suite of tests\n",
    "\n",
    "This is where it all comes together: you are now ready to run the documentation tests for the model as defined by the documentation template you looked at earlier.\n",
    "\n",
    "The [`vm.run_documentation_tests`](https://docs.validmind.ai/validmind/validmind.html#run_documentation_tests) function finds and runs every test specified in the template and then uploads all the documentation and test artifacts that get generated to the ValidMind AI Risk Platform.\n",
    "\n",
    "The function requires information about the inputs to use on every test. These inputs can be passed as an `inputs` argument if we want to use the same inputs for all tests. It's also possible to pass a `config` argument that has information about the `params` and `inputs` that each test requires. The `config` parameter is a dictionary with the following structure:\n",
    "\n",
    "```python\n",
    "config = {\n",
    "    \"<test-id>\": {\n",
    "        \"params\": {\n",
    "            \"param1\": \"value1\",\n",
    "            \"param2\": \"value2\",\n",
    "            ...\n",
    "        },\n",
    "        \"inputs\": {\n",
    "            \"input1\": \"value1\",\n",
    "            \"input2\": \"value2\",\n",
    "            ...\n",
    "        }\n",
    "    },\n",
    "    ...\n",
    "}\n",
    "```\n",
    "\n",
    "Each `<test-id>` above corresponds to the test driven block identifiers shown by `vm.preview_template()`. For this model, we will use the default parameters for all tests, but we'll need to specify the input configuration for each one. The method `get_demo_test_config()` below constructs the default input configuration for our demo."
   ]
  },
  {
   "cell_type": "code",
   "execution_count": null,
   "metadata": {},
   "outputs": [],
   "source": [
    "from validmind.utils import preview_test_config\n",
    "\n",
    "test_config = fred_timeseries.get_demo_test_config()\n",
    "preview_test_config(test_config)"
   ]
  },
  {
   "cell_type": "markdown",
   "metadata": {},
   "source": [
    "Now we can pass the input configuration to `vm.run_documentation_tests()` and run the full suite of tests. The variable `full_suite` then holds the result of these tests."
   ]
  },
  {
   "cell_type": "code",
   "execution_count": null,
   "metadata": {},
   "outputs": [],
   "source": [
    "full_suite = vm.run_documentation_tests(config=test_config)"
   ]
  },
  {
   "cell_type": "markdown",
   "metadata": {},
   "source": [
    "<a id='toc7_'></a>\n",
    "\n",
    "## Next steps\n",
    "\n",
    "You can look at the results of this test suite right in the notebook where you ran the code, as you would expect. But there is a better way — use the ValidMind platform to work with your model documentation.\n",
    "\n",
    "<a id='toc7_1_'></a>\n",
    "\n",
    "### Work with your model documentation\n",
    "\n",
    "1. From the [**Model Inventory**](https://app.prod.validmind.ai/model-inventory) in the ValidMind Platform UI, go to the model you registered earlier.\n",
    "\n",
    "2. Click and expand the **Model Development** section.\n",
    "\n",
    "What you see is the full draft of your model documentation in a more easily consumable version. From here, you can make qualitative edits to model documentation, view guidelines, collaborate with validators, and submit your model documentation for approval when it's ready. [Learn more ...](https://docs.validmind.ai/guide/working-with-model-documentation.html)\n",
    "\n",
    "<a id='toc7_2_'></a>\n",
    "\n",
    "### Discover more learning resources\n",
    "\n",
    "We offer many interactive notebooks to help you document models:\n",
    "\n",
    "- [Run tests & test suites](https://docs.validmind.ai/guide/testing-overview.html)\n",
    "- [Code samples](https://docs.validmind.ai/guide/samples-jupyter-notebooks.html)\n",
    "\n",
    "Or, visit our [documentation](https://docs.validmind.ai/) to learn more about ValidMind."
   ]
  }
 ],
 "metadata": {
  "kernelspec": {
   "display_name": "validmind-py3.10",
   "language": "python",
   "name": "validmind-py3.10"
  },
  "language_info": {
   "codemirror_mode": {
    "name": "ipython",
    "version": 3
   },
   "file_extension": ".py",
   "mimetype": "text/x-python",
   "name": "python",
   "nbconvert_exporter": "python",
   "pygments_lexer": "ipython3",
   "version": "3.10.13"
  }
 },
 "nbformat": 4,
 "nbformat_minor": 2
}
