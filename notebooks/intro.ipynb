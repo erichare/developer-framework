{
 "cells": [
  {
   "cell_type": "markdown",
   "metadata": {},
   "source": [
    "## Environment Preparation\n",
    "\n",
    "* Load the SDK code from the local package directory\n",
    "* Load the API key and secret in the .env file"
   ]
  },
  {
   "cell_type": "code",
   "execution_count": 1,
   "metadata": {},
   "outputs": [
    {
     "data": {
      "text/plain": [
       "True"
      ]
     },
     "execution_count": 1,
     "metadata": {},
     "output_type": "execute_result"
    }
   ],
   "source": [
    "# Quick hack to load local SDK code\n",
    "import os\n",
    "\n",
    "os.chdir(os.path.join(os.getcwd(), \"..\"))\n",
    "\n",
    "# Load API key and secret from environment variables\n",
    "from dotenv import load_dotenv\n",
    "load_dotenv()"
   ]
  },
  {
   "cell_type": "markdown",
   "metadata": {},
   "source": [
    "## ValidMind SDK Introduction"
   ]
  },
  {
   "cell_type": "code",
   "execution_count": 2,
   "metadata": {},
   "outputs": [],
   "source": [
    "import pandas as pd\n",
    "import xgboost as xgb\n",
    "\n",
    "from sklearn.metrics import accuracy_score\n",
    "from sklearn.model_selection import train_test_split\n",
    "\n",
    "%matplotlib inline"
   ]
  },
  {
   "cell_type": "markdown",
   "metadata": {},
   "source": [
    "## Initializing the ValidMind SDK\n",
    "\n",
    "After creating an account with ValidMind, we can find the project's API key and secret in the settings page of the ValidMind dashboard:\n",
    "\n",
    "<img src=\"https://vmai.s3.us-west-1.amazonaws.com/sdk-images/settings.png\" width=\"600\" height=\"300\" />\n",
    "\n",
    "The SDK credentials can be configured in two ways:\n",
    "\n",
    "- By setting the `VM_API_KEY` and `VM_API_SECRET` environment variables or\n",
    "- By passing `api_key` and `api_secret` arguments to the `init` function like this:\n",
    "\n",
    "```python\n",
    "vm.init(\n",
    "    api_key='<your-api-key>',\n",
    "    api_secret='<your-api-secret>',\n",
    "    project=\"cl2r3k1ri000009jweny7ba1g\"\n",
    ")\n",
    "```\n",
    "\n",
    "The `project` argument is mandatory since it allows the SDK to associate all data collected with a specific account project."
   ]
  },
  {
   "cell_type": "code",
   "execution_count": 3,
   "metadata": {},
   "outputs": [],
   "source": [
    "import validmind as vm\n",
    "\n",
    "# For test environment use api_host=\"https://api.test.vm.validmind.ai/api/v1/tracking\"\n",
    "vm.init(project=\"cl50nn8qq000sbbmmcjvo6yzw\")\n",
    "\n",
    "run_cuid = vm.start_run()"
   ]
  },
  {
   "cell_type": "markdown",
   "metadata": {},
   "source": [
    "### Using a demo dataset\n",
    "\n",
    "For this simple demonstration, we will use the following bank customer churn dataset from Kaggle: https://www.kaggle.com/code/kmalit/bank-customer-churn-prediction/data.\n",
    "\n",
    "We will train a sample model and demonstrate the following ValidMind SDK functionalities:\n",
    "\n",
    "- Logging information about a dataset\n",
    "- Running data quality tests on a dataset\n",
    "- Logging information about a model\n",
    "- Logging training metrics for a model\n",
    "- Running model evaluation tests\n",
    "\n",
    "Before we logging any data on a new project, the ValidMind dashboard will let users know that they can automatically populate the different documentation sections by integrating the ValidMind into a model development environment:\n",
    "\n",
    "<img src=\"https://vmai.s3.us-west-1.amazonaws.com/sdk-images/empty-data-description.png\" width=\"600\" height=\"300\">"
   ]
  },
  {
   "cell_type": "markdown",
   "metadata": {},
   "source": [
    "#### Logging general project metadata with `log_metadata`\n",
    "\n",
    "The ValidMind SDK provides a function to log free-form metadata for a project. A list of preconfigured `content_id` can be used to select where in the dashboard documentation we want this metadata to be displayed. As an example, if a model developer wants to populate the `Model Overview` section for a project, they can use `model_overview` as the `content_id`:\n",
    "\n",
    "```python\n",
    "vm.log_dataset(\"model_overview\", text=\"Testing\")\n",
    "```\n",
    "\n",
    "The `text` argument accepts Markdown formatted text as we'll see in the cell below. The documentation used for this model has been taken from the [Kaggle dataset](https://www.kaggle.com/code/kmalit/bank-customer-churn-prediction/data)."
   ]
  },
  {
   "cell_type": "code",
   "execution_count": 4,
   "metadata": {},
   "outputs": [
    {
     "name": "stdout",
     "output_type": "stream",
     "text": [
      "Successfully logged metadata\n"
     ]
    },
    {
     "data": {
      "text/plain": [
       "True"
      ]
     },
     "execution_count": 4,
     "metadata": {},
     "output_type": "execute_result"
    }
   ],
   "source": [
    "model_overview = \"\"\"\n",
    "We aim to accomplish the following for this study:\n",
    "\n",
    "- Identify and visualize which factors contribute to customer churn\n",
    "- Build a prediction model that will perform the following:\n",
    "  - Classify if a customer is going to churn or not\n",
    "  - Preferably and based on model performance, choose a model that will attach a probability\n",
    "  to the churn to make it easier for customer service to target low hanging fruits in their\n",
    "  efforts to prevent churn\n",
    "\"\"\"\n",
    "\n",
    "vm.log_metadata(content_id=\"model_overview\", text=model_overview)"
   ]
  },
  {
   "cell_type": "markdown",
   "metadata": {},
   "source": [
    "The dashboard should now display the `Model Overview` section with the text we have provided from the SDK:\n",
    "\n",
    "<img src=\"https://vmai.s3.us-west-1.amazonaws.com/sdk-images/model-overview.png\" width=\"600\" height=\"300\">"
   ]
  },
  {
   "cell_type": "markdown",
   "metadata": {},
   "source": [
    "#### Logging information about a dataset with `log_dataset`\n",
    "\n",
    "The `log_dataset` SDK function will collect the following metadata about the given dataset:\n",
    "\n",
    "- Field types and descriptions\n",
    "- Descriptive statistics\n",
    "- Data distribution histograms\n",
    "- Feature correlation"
   ]
  },
  {
   "cell_type": "code",
   "execution_count": 5,
   "metadata": {},
   "outputs": [
    {
     "data": {
      "text/plain": [
       "True"
      ]
     },
     "execution_count": 5,
     "metadata": {},
     "output_type": "execute_result"
    }
   ],
   "source": [
    "df = pd.read_csv(\"notebooks/datasets/bank_customer_churn.csv\")\n",
    "\n",
    "targets = vm.DatasetTargets(\n",
    "    target_column=\"Exited\",\n",
    "    class_labels={\n",
    "        \"0\": \"Did not exit\",\n",
    "        \"1\": \"Exited\",\n",
    "    }\n",
    ")\n",
    "\n",
    "vm.log_dataset(df, \"training\", analyze=True, targets=targets)"
   ]
  },
  {
   "cell_type": "markdown",
   "metadata": {},
   "source": [
    "#### Running data quality tests with `run_dataset_tests`\n",
    "\n",
    "When using `run_dataset_tests`, the SDK will compute some basic quality metrics on the dataset and evaluate if they are within expected ranges as configured by ValidMind and model validators."
   ]
  },
  {
   "cell_type": "code",
   "execution_count": 6,
   "metadata": {},
   "outputs": [
    {
     "name": "stdout",
     "output_type": "stream",
     "text": [
      "Running data quality tests for \"training\" dataset...\n",
      "\n"
     ]
    },
    {
     "name": "stderr",
     "output_type": "stream",
     "text": [
      "100%|██████████| 7/7 [00:00<00:00, 42.18it/s]"
     ]
    },
    {
     "name": "stdout",
     "output_type": "stream",
     "text": [
      "\n",
      "Test suite has completed.\n",
      "Sending results to ValidMind...\n"
     ]
    },
    {
     "name": "stderr",
     "output_type": "stream",
     "text": [
      "\n"
     ]
    },
    {
     "name": "stdout",
     "output_type": "stream",
     "text": [
      "Successfully logged test results for test: class_imbalance\n",
      "Successfully logged test results for test: duplicates\n",
      "Successfully logged test results for test: cardinality\n",
      "Successfully logged test results for test: missing\n",
      "Successfully logged test results for test: pearson_correlation\n",
      "Successfully logged test results for test: skewness\n",
      "Successfully logged test results for test: zeros\n",
      "\n",
      "Summary of results:\n",
      "\n",
      "Test                 Passed      # Passed    # Errors    % Passed\n",
      "-------------------  --------  ----------  ----------  ----------\n",
      "class_imbalance      True               1           0         100\n",
      "duplicates           True               1           0         100\n",
      "cardinality          False              6           1     85.7143\n",
      "missing              True              14           0         100\n",
      "pearson_correlation  False              0           2           0\n",
      "skewness             False              6           1     85.7143\n",
      "zeros                False              0           2           0\n",
      "\n"
     ]
    }
   ],
   "source": [
    "results = vm.run_dataset_tests(\n",
    "    df,\n",
    "    target_column=\"Exited\",\n",
    "    dataset_type=\"training\",\n",
    "    send=True,\n",
    "    run_cuid=run_cuid\n",
    ")"
   ]
  },
  {
   "cell_type": "markdown",
   "metadata": {},
   "source": [
    "We can now see all dataset related metadata and data quality metrics in the ValidMind dashboard:\n",
    "\n",
    "<img src=\"https://vmai.s3.us-west-1.amazonaws.com/sdk-images/data-description.png\" width=\"600\" height=\"300\">"
   ]
  },
  {
   "cell_type": "markdown",
   "metadata": {},
   "source": [
    "### Preparing the dataset for training\n",
    "\n",
    "Before we train a model, we need to run some common minimal feature selection and engineering steps on the dataset:\n",
    "\n",
    "- Dropping irrelevant variables\n",
    "- Encoding categorical variables"
   ]
  },
  {
   "cell_type": "markdown",
   "metadata": {},
   "source": [
    "#### Dropping irrelevant variables\n",
    "\n",
    "The following variables will be dropped from the dataset:\n",
    "\n",
    "- `RowNumber`: it's a unique identifier to the record\n",
    "- `CustomerId`: it's a unique identifier to the customer\n",
    "- `Surname`: no predictive power for this variable\n",
    "- `CreditScore`: we didn't observer any correlation between `CreditScore` and our target column `Exited`"
   ]
  },
  {
   "cell_type": "code",
   "execution_count": 7,
   "metadata": {},
   "outputs": [],
   "source": [
    "df.drop([\"RowNumber\", \"CustomerId\", \"Surname\", \"CreditScore\"], axis=1, inplace=True)"
   ]
  },
  {
   "cell_type": "markdown",
   "metadata": {},
   "source": [
    "#### Encoding categorical variables\n",
    "\n",
    "We will apply one-hot or dummy encoding to the following variables:\n",
    "\n",
    "- `Geography`: only 3 unique values found in the dataset\n",
    "- `Gender`: convert from string to integer"
   ]
  },
  {
   "cell_type": "code",
   "execution_count": 8,
   "metadata": {},
   "outputs": [],
   "source": [
    "genders = {\"Male\": 0, \"Female\": 1}\n",
    "df.replace({\"Gender\": genders}, inplace=True)"
   ]
  },
  {
   "cell_type": "code",
   "execution_count": 9,
   "metadata": {},
   "outputs": [],
   "source": [
    "df = pd.concat([df, pd.get_dummies(df[\"Geography\"], prefix=\"Geography\")], axis=1)\n",
    "df.drop(\"Geography\", axis=1, inplace=True)"
   ]
  },
  {
   "cell_type": "markdown",
   "metadata": {},
   "source": [
    "We are now ready to train our model with the preprocessed dataset:"
   ]
  },
  {
   "cell_type": "code",
   "execution_count": 10,
   "metadata": {},
   "outputs": [
    {
     "data": {
      "text/html": [
       "<div>\n",
       "<style scoped>\n",
       "    .dataframe tbody tr th:only-of-type {\n",
       "        vertical-align: middle;\n",
       "    }\n",
       "\n",
       "    .dataframe tbody tr th {\n",
       "        vertical-align: top;\n",
       "    }\n",
       "\n",
       "    .dataframe thead th {\n",
       "        text-align: right;\n",
       "    }\n",
       "</style>\n",
       "<table border=\"1\" class=\"dataframe\">\n",
       "  <thead>\n",
       "    <tr style=\"text-align: right;\">\n",
       "      <th></th>\n",
       "      <th>Gender</th>\n",
       "      <th>Age</th>\n",
       "      <th>Tenure</th>\n",
       "      <th>Balance</th>\n",
       "      <th>NumOfProducts</th>\n",
       "      <th>HasCrCard</th>\n",
       "      <th>IsActiveMember</th>\n",
       "      <th>EstimatedSalary</th>\n",
       "      <th>Exited</th>\n",
       "      <th>Geography_France</th>\n",
       "      <th>Geography_Germany</th>\n",
       "      <th>Geography_Spain</th>\n",
       "    </tr>\n",
       "  </thead>\n",
       "  <tbody>\n",
       "    <tr>\n",
       "      <th>0</th>\n",
       "      <td>1</td>\n",
       "      <td>42</td>\n",
       "      <td>2</td>\n",
       "      <td>0.00</td>\n",
       "      <td>1</td>\n",
       "      <td>1</td>\n",
       "      <td>1</td>\n",
       "      <td>101348.88</td>\n",
       "      <td>1</td>\n",
       "      <td>1</td>\n",
       "      <td>0</td>\n",
       "      <td>0</td>\n",
       "    </tr>\n",
       "    <tr>\n",
       "      <th>1</th>\n",
       "      <td>1</td>\n",
       "      <td>41</td>\n",
       "      <td>1</td>\n",
       "      <td>83807.86</td>\n",
       "      <td>1</td>\n",
       "      <td>0</td>\n",
       "      <td>1</td>\n",
       "      <td>112542.58</td>\n",
       "      <td>0</td>\n",
       "      <td>0</td>\n",
       "      <td>0</td>\n",
       "      <td>1</td>\n",
       "    </tr>\n",
       "    <tr>\n",
       "      <th>2</th>\n",
       "      <td>1</td>\n",
       "      <td>42</td>\n",
       "      <td>8</td>\n",
       "      <td>159660.80</td>\n",
       "      <td>3</td>\n",
       "      <td>1</td>\n",
       "      <td>0</td>\n",
       "      <td>113931.57</td>\n",
       "      <td>1</td>\n",
       "      <td>1</td>\n",
       "      <td>0</td>\n",
       "      <td>0</td>\n",
       "    </tr>\n",
       "    <tr>\n",
       "      <th>3</th>\n",
       "      <td>1</td>\n",
       "      <td>39</td>\n",
       "      <td>1</td>\n",
       "      <td>0.00</td>\n",
       "      <td>2</td>\n",
       "      <td>0</td>\n",
       "      <td>0</td>\n",
       "      <td>93826.63</td>\n",
       "      <td>0</td>\n",
       "      <td>1</td>\n",
       "      <td>0</td>\n",
       "      <td>0</td>\n",
       "    </tr>\n",
       "    <tr>\n",
       "      <th>4</th>\n",
       "      <td>1</td>\n",
       "      <td>43</td>\n",
       "      <td>2</td>\n",
       "      <td>125510.82</td>\n",
       "      <td>1</td>\n",
       "      <td>1</td>\n",
       "      <td>1</td>\n",
       "      <td>79084.10</td>\n",
       "      <td>0</td>\n",
       "      <td>0</td>\n",
       "      <td>0</td>\n",
       "      <td>1</td>\n",
       "    </tr>\n",
       "  </tbody>\n",
       "</table>\n",
       "</div>"
      ],
      "text/plain": [
       "   Gender  Age  Tenure    Balance  NumOfProducts  HasCrCard  IsActiveMember  \\\n",
       "0       1   42       2       0.00              1          1               1   \n",
       "1       1   41       1   83807.86              1          0               1   \n",
       "2       1   42       8  159660.80              3          1               0   \n",
       "3       1   39       1       0.00              2          0               0   \n",
       "4       1   43       2  125510.82              1          1               1   \n",
       "\n",
       "   EstimatedSalary  Exited  Geography_France  Geography_Germany  \\\n",
       "0        101348.88       1                 1                  0   \n",
       "1        112542.58       0                 0                  0   \n",
       "2        113931.57       1                 1                  0   \n",
       "3         93826.63       0                 1                  0   \n",
       "4         79084.10       0                 0                  0   \n",
       "\n",
       "   Geography_Spain  \n",
       "0                0  \n",
       "1                1  \n",
       "2                0  \n",
       "3                0  \n",
       "4                1  "
      ]
     },
     "execution_count": 10,
     "metadata": {},
     "output_type": "execute_result"
    }
   ],
   "source": [
    "df.head()"
   ]
  },
  {
   "cell_type": "markdown",
   "metadata": {},
   "source": [
    "#### Dataset preparation\n",
    "\n",
    "For training our model, we will **randomly** split the dataset in 3 parts:\n",
    "\n",
    "- `training` split with 60% of the rows\n",
    "- `validation` split with 20% of the rows\n",
    "- `test` split with 20% of the rows\n",
    "\n",
    "The `test` dataset will be our held out dataset for model evaluation."
   ]
  },
  {
   "cell_type": "code",
   "execution_count": 11,
   "metadata": {},
   "outputs": [],
   "source": [
    "train_df, test_df = train_test_split(df, test_size=0.20)\n",
    "\n",
    "# This guarantees a 60/20/20 split\n",
    "train_ds, val_ds = train_test_split(train_df, test_size=0.25)\n",
    "\n",
    "# For training\n",
    "x_train = train_ds.drop(\"Exited\", axis=1)\n",
    "y_train = train_ds.loc[:, \"Exited\"].astype(int)\n",
    "x_val = val_ds.drop(\"Exited\", axis=1)\n",
    "y_val = val_ds.loc[:, \"Exited\"].astype(int)\n",
    "\n",
    "# For testing\n",
    "x_test = test_df.drop(\"Exited\", axis=1)\n",
    "y_test = test_df.loc[:, \"Exited\"].astype(int)"
   ]
  },
  {
   "cell_type": "markdown",
   "metadata": {},
   "source": [
    "### Model training\n",
    "\n",
    "We will train a simple XGBoost model and set its `eval_set` to `[(x_train, y_train), (x_val, y_val)]` in order to collect validation datasets metrics on every round. The ValidMind SDK supports collecting any type of \"in training\" metrics so model developers can provide additional context to model validators if necessary."
   ]
  },
  {
   "cell_type": "code",
   "execution_count": 12,
   "metadata": {},
   "outputs": [
    {
     "name": "stderr",
     "output_type": "stream",
     "text": [
      "/Users/andres/Library/Caches/pypoetry/virtualenvs/validmind-sdk-Jp3s24zK-py3.8/lib/python3.8/site-packages/xgboost/sklearn.py:793: UserWarning: `eval_metric` in `fit` method is deprecated for better compatibility with scikit-learn, use `eval_metric` in constructor or`set_params` instead.\n",
      "  warnings.warn(\n"
     ]
    },
    {
     "data": {
      "text/plain": [
       "XGBClassifier(base_score=0.5, booster='gbtree', callbacks=None,\n",
       "              colsample_bylevel=1, colsample_bynode=1, colsample_bytree=1,\n",
       "              early_stopping_rounds=10, enable_categorical=False,\n",
       "              eval_metric=None, gamma=0, gpu_id=-1, grow_policy='depthwise',\n",
       "              importance_type=None, interaction_constraints='',\n",
       "              learning_rate=0.300000012, max_bin=256, max_cat_to_onehot=4,\n",
       "              max_delta_step=0, max_depth=6, max_leaves=0, min_child_weight=1,\n",
       "              missing=nan, monotone_constraints='()', n_estimators=100,\n",
       "              n_jobs=0, num_parallel_tree=1, predictor='auto', random_state=0,\n",
       "              reg_alpha=0, reg_lambda=1, ...)"
      ]
     },
     "execution_count": 12,
     "metadata": {},
     "output_type": "execute_result"
    }
   ],
   "source": [
    "xgb_model = xgb.XGBClassifier(early_stopping_rounds=10)\n",
    "xgb_model.fit(\n",
    "    x_train,\n",
    "    y_train,\n",
    "    eval_set=[(x_train, y_train), (x_val, y_val)],\n",
    "    eval_metric=[\"error\", \"logloss\", \"auc\"],\n",
    "    verbose=False,\n",
    ")"
   ]
  },
  {
   "cell_type": "code",
   "execution_count": 13,
   "metadata": {},
   "outputs": [
    {
     "name": "stdout",
     "output_type": "stream",
     "text": [
      "Accuracy: 0.853125\n"
     ]
    }
   ],
   "source": [
    "y_pred = xgb_model.predict_proba(x_val)[:, -1]\n",
    "predictions = [round(value) for value in y_pred]\n",
    "accuracy = accuracy_score(y_val, predictions)\n",
    "\n",
    "print(f\"Accuracy: {accuracy}\")"
   ]
  },
  {
   "cell_type": "markdown",
   "metadata": {},
   "source": [
    "#### Logging model metadata with `log_model`\n",
    "\n",
    "The `log_model` SDK function allows sending the following model metadata to the API:\n",
    "\n",
    "- Model framework and architecture (e.g. XGBoost, Random Forest, Logistic Regression, etc.)\n",
    "- Model task details (e.g. binary classification, regression, etc.)\n",
    "- Model hyperparameters (e.g. number of trees, max depth, etc.)"
   ]
  },
  {
   "cell_type": "code",
   "execution_count": 14,
   "metadata": {},
   "outputs": [
    {
     "data": {
      "text/plain": [
       "True"
      ]
     },
     "execution_count": 14,
     "metadata": {},
     "output_type": "execute_result"
    }
   ],
   "source": [
    "vm.log_model(xgb_model)"
   ]
  },
  {
   "cell_type": "markdown",
   "metadata": {},
   "source": [
    "#### Logging model training metrics with `log_training_metrics`\n",
    "\n",
    "The SDK can automatically collect metrics that were captured by the framework during model training. The following are some example metrics that can be collected:\n",
    "\n",
    "- AUC\n",
    "- Error rate\n",
    "- Logloss\n",
    "- Feature importance\n",
    "\n",
    "When the framework has generated one metric value on each iteration/round, the SDK will collect all of the iteration values and group them appropriately."
   ]
  },
  {
   "cell_type": "code",
   "execution_count": 15,
   "metadata": {},
   "outputs": [
    {
     "name": "stdout",
     "output_type": "stream",
     "text": [
      "Successfully logged training metrics\n"
     ]
    },
    {
     "data": {
      "text/plain": [
       "True"
      ]
     },
     "execution_count": 15,
     "metadata": {},
     "output_type": "execute_result"
    }
   ],
   "source": [
    "vm.log_training_metrics(xgb_model, x_train, y_train, run_cuid=run_cuid)"
   ]
  },
  {
   "cell_type": "markdown",
   "metadata": {},
   "source": [
    "### Running model evaluation tests with `run_model_tests`\n",
    "\n",
    "When using `run_model_tests`, the SDK will run the appropriate model evaluation tests according to the following criteria:\n",
    "\n",
    "- Model use case\n",
    "- Model objective\n",
    "- Validation requirements set by the model validator"
   ]
  },
  {
   "cell_type": "code",
   "execution_count": 16,
   "metadata": {},
   "outputs": [
    {
     "name": "stdout",
     "output_type": "stream",
     "text": [
      "Generating model predictions on test dataset...\n"
     ]
    },
    {
     "name": "stderr",
     "output_type": "stream",
     "text": [
      "100%|██████████| 8/8 [00:00<00:00, 1004.23it/s]"
     ]
    },
    {
     "name": "stdout",
     "output_type": "stream",
     "text": [
      "\n",
      "Model evaluation tests have completed.\n",
      "Sending results to ValidMind...\n",
      "Successfully logged evaluation metrics\n",
      "\n",
      "Summary of results:\n",
      "\n",
      "Test          Score  Scenario\n",
      "---------  --------  ------------------------------------\n",
      "accuracy   0.860625  Validation with default Test dataset\n",
      "precision  0.744792  Validation with default Test dataset\n",
      "recall     0.451104  Validation with default Test dataset\n",
      "f1_score   0.561886  Validation with default Test dataset\n",
      "roc_auc    0.706456  Validation with default Test dataset\n",
      "\n",
      "Plotting model evaluation results...\n"
     ]
    },
    {
     "name": "stderr",
     "output_type": "stream",
     "text": [
      "\n"
     ]
    },
    {
     "data": {
      "image/png": "[encoded data removed]",
      "text/plain": [
       "<Figure size 432x288 with 2 Axes>"
      ]
     },
     "metadata": {
      "needs_background": "light"
     },
     "output_type": "display_data"
    },
    {
     "data": {
      "image/png": "[encoded data removed]",
      "text/plain": [
       "<Figure size 432x288 with 1 Axes>"
      ]
     },
     "metadata": {
      "needs_background": "light"
     },
     "output_type": "display_data"
    },
    {
     "data": {
      "image/png": "[encoded data removed]",
      "text/plain": [
       "<Figure size 432x288 with 1 Axes>"
      ]
     },
     "metadata": {
      "needs_background": "light"
     },
     "output_type": "display_data"
    }
   ],
   "source": [
    "eval_results = vm.run_model_tests(xgb_model, x_test, y_test, send=True)"
   ]
  }
 ],
 "metadata": {
  "interpreter": {
   "hash": "e673a474f5e5c69884c79b5bbf26bd3f43f29ea8e4fba12a1f063946fe17172c"
  },
  "kernelspec": {
   "display_name": "Python 3.8.6 ('validmind-sdk-Jp3s24zK-py3.8')",
   "language": "python",
   "name": "python3"
  },
  "language_info": {
   "codemirror_mode": {
    "name": "ipython",
    "version": 3
   },
   "file_extension": ".py",
   "mimetype": "text/x-python",
   "name": "python",
   "nbconvert_exporter": "python",
   "pygments_lexer": "ipython3",
   "version": "3.8.6"
  },
  "orig_nbformat": 4
 },
 "nbformat": 4,
 "nbformat_minor": 2
}
